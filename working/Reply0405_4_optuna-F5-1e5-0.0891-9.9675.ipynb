{
 "cells": [
  {
   "cell_type": "markdown",
   "metadata": {},
   "source": [
    "# start"
   ]
  },
  {
   "cell_type": "markdown",
   "metadata": {},
   "source": [
    "- http://localhost:8081/notebooks/git/recsys20/working/0324_6_3_lgb_feat_engr-1e7.ipynb\n",
    "- http://localhost:8081/notebooks/git/recsys20/working/mdl0404_1__xgb_mean_encode.ipynb\n",
    "- http://localhost:8081/notebooks/git/recsys20/working/eda_0404_1.ipynb#v.s.-target\n",
    "- https://www.kaggle.com/discdiver/category-encoders-examples"
   ]
  },
  {
   "cell_type": "code",
   "execution_count": 1,
   "metadata": {},
   "outputs": [
    {
     "name": "stdout",
     "output_type": "stream",
     "text": [
      "train_total 148,075,238, test_total 14,000,000\n",
      "['2020-03-17 02:32:24', '2020-04-06 00:35:47']\n",
      "['2020-02-06 00:00:00', '2020-02-12 23:59:59']\n",
      "['2020-02-13 00:00:00', '2020-02-19 23:59:59']\n"
     ]
    }
   ],
   "source": [
    "TGT='Reply'\n",
    "PRFX='Reply0405_4'\n",
    "\n",
    "trntmstmp=1584412344\n",
    "tsttmstmp=1586133347\n",
    "\n",
    "tm_trn_min,tm_trn_max=(1580947200, 1581551999)\n",
    "tm_tst_min,tm_tst_max=(1581552000, 1582156799)\n",
    "\n",
    "SEED=101\n",
    "\n",
    "valsz = int(1e5)#int(1e5)\n",
    "trnsz = int(1e5)#int(5e5)\n",
    "\n",
    "train_total=148075238\n",
    "test_total=int(1.4e7)\n",
    "print(f'train_total {train_total:,}, test_total {test_total:,}')\n",
    "\n",
    "\n",
    "import datetime\n",
    "def showtm(tm): return datetime.datetime.fromtimestamp(tm).strftime('%Y-%m-%d %H:%M:%S')\n",
    "print([showtm(tm) for tm in (trntmstmp, tsttmstmp)])\n",
    "print([showtm(tm) for tm in (tm_trn_min,tm_trn_max)])\n",
    "print([showtm(tm) for tm in (tm_tst_min,tm_tst_max)])"
   ]
  },
  {
   "cell_type": "markdown",
   "metadata": {},
   "source": [
    "# setup"
   ]
  },
  {
   "cell_type": "code",
   "execution_count": 2,
   "metadata": {},
   "outputs": [
    {
     "name": "stdout",
     "output_type": "stream",
     "text": [
      "TCOL reply\n",
      "{'Retweet': 'retwt', 'Reply': 'reply', 'Like': 'like', 'RTwCmnt': 'retwt_cmmnt'}\n"
     ]
    }
   ],
   "source": [
    "from tqdm import tqdm\n",
    "import time\n",
    "from pathlib import Path\n",
    "from collections import Counter,defaultdict\n",
    "from sklearn.model_selection import train_test_split\n",
    "import pandas as pd\n",
    "import numpy as np\n",
    "import matplotlib.pyplot as plt\n",
    "from sklearn.metrics import accuracy_score, roc_auc_score, roc_curve, auc, precision_recall_curve\n",
    "import pickle\n",
    "# import xgboost as xgb\n",
    "# import lightgbm as lgb\n",
    "import category_encoders as ce\n",
    "import gc\n",
    "\n",
    "import optuna\n",
    "# optuna.logging.CRITICAL, optuna.logging.FATAL\n",
    "# optuna.logging.ERROR\n",
    "# optuna.logging.WARNING, optuna.logging.WARN\n",
    "# optuna.logging.INFO\n",
    "# optuna.logging.DEBUG\n",
    "optuna.logging.set_verbosity(optuna.logging.ERROR)\n",
    "import optuna.integration.lightgbm as lgb\n",
    "optuna.logging.set_verbosity(optuna.logging.ERROR)\n",
    "\n",
    "\n",
    "pd.set_option('display.max_rows', 500)\n",
    "pd.set_option('display.max_columns', 500)\n",
    "\n",
    "\n",
    "import datetime\n",
    "def dtnow(): return datetime.datetime.now().strftime('%Y-%m-%d %H:%M:%S')\n",
    "\n",
    "def iou(s1,s2):\n",
    "    return len(s1&s2) / len(s1|s2)\n",
    "\n",
    "HOME='/data/git/recsys20'\n",
    "p_in=f'{HOME}/input'\n",
    "p_out=f'{HOME}/output/{PRFX}'\n",
    "Path(p_out).mkdir(exist_ok=True, parents=True)\n",
    "\n",
    "from sklearn.metrics import precision_recall_curve, auc, log_loss\n",
    "\n",
    "def compute_prauc(pred, gt):\n",
    "    prec, recall, thresh = precision_recall_curve(gt, pred)\n",
    "    prauc = auc(recall, prec)\n",
    "    return prauc\n",
    "\n",
    "def calculate_ctr(gt):\n",
    "    positive = len([x for x in gt if x == 1])\n",
    "    ctr = positive/float(len(gt))\n",
    "    return ctr\n",
    "\n",
    "def compute_rce(pred, gt):\n",
    "    cross_entropy = log_loss(gt, pred)\n",
    "    data_ctr = calculate_ctr(gt)\n",
    "    strawman_cross_entropy = log_loss(gt, [data_ctr for _ in range(len(gt))])\n",
    "    return (1.0 - cross_entropy/strawman_cross_entropy)*100.0\n",
    "\n",
    "# https://towardsdatascience.com/how-to-calibrate-undersampled-model-scores-8f3319c1ea5b\n",
    "# How to use the function?\n",
    "# Let’s say your goal is to generate a model that shows the credit default probabilities and your original \n",
    "# training data has 50,000 rows with only 500 of them labeled as target class. When you sample your non-target \n",
    "# instances randomly and reduce the total row count to 10,000, while conserving 500 target rows, our calibration\n",
    "# function becomes:\n",
    "# calibration(model_results, 50000, 500, 10000, 500)\n",
    "# Here model_results is your model probability output array. After you train your model and put the results in it, your function is ready to use. \n",
    "def calibration(data, train_pop, target_pop, sampled_train_pop, sampled_target_pop):\n",
    "    calibrated_data = ((data * (target_pop / train_pop) / (sampled_target_pop / sampled_train_pop)) /\n",
    "    (((1 - data) * (1 - target_pop / train_pop) / (1 - sampled_target_pop / sampled_train_pop)) +\n",
    "     (data * (target_pop / train_pop) / (sampled_target_pop / sampled_train_pop))))\n",
    "    return calibrated_data\n",
    "\n",
    "\n",
    "cols=['toks','hshtgs','twtid','media','links','domns','twttyp','lang','tm','u1id','u1_fllwer_cnt','u1_fllwing_cnt','u1_vrfed','u1_create_tm','u2id','u2_fllwer_cnt','u2_fllwng_cnt','u2_vrfed','u2_create_tm','u1_fllw_u2','reply_tm','retwt_tm','retwt_cmmnt_tm','like_tm',]\n",
    "\n",
    "cols_val = cols[:-4]\n",
    "cols_tgt_tmstmp=[ 'retwt_tm', 'reply_tm', 'like_tm', 'retwt_cmmnt_tm',]\n",
    "cols_tgt=[o.split('_tm')[0] for o in cols_tgt_tmstmp]\n",
    "tgts             = ['Retweet','Reply','Like','RTwCmnt',]\n",
    "assert cols_tgt == ['retwt',  'reply','like','retwt_cmmnt',]\n",
    "tgt2col = dict(zip(tgts, cols_tgt))\n",
    "TCOL=tgt2col[TGT]\n",
    "print('TCOL', TCOL)\n",
    "print(tgt2col)"
   ]
  },
  {
   "cell_type": "markdown",
   "metadata": {},
   "source": [
    "# prep"
   ]
  },
  {
   "cell_type": "code",
   "execution_count": 3,
   "metadata": {},
   "outputs": [],
   "source": [
    "def prp_tgt(df):\n",
    "    df[cols_tgt]=df[cols_tgt_tmstmp].notna()\n",
    "    df.drop(columns=cols_tgt_tmstmp, inplace=True)\n",
    "    display(df[cols_tgt].mean())"
   ]
  },
  {
   "cell_type": "code",
   "execution_count": 4,
   "metadata": {
    "scrolled": false
   },
   "outputs": [
    {
     "name": "stdout",
     "output_type": "stream",
     "text": [
      "(100000, 24)\n"
     ]
    },
    {
     "data": {
      "text/plain": [
       "retwt          0.11211\n",
       "reply          0.02754\n",
       "like           0.43929\n",
       "retwt_cmmnt    0.00801\n",
       "dtype: float64"
      ]
     },
     "metadata": {},
     "output_type": "display_data"
    },
    {
     "name": "stdout",
     "output_type": "stream",
     "text": [
      "CPU times: user 722 ms, sys: 92.2 ms, total: 814 ms\n",
      "Wall time: 814 ms\n"
     ]
    }
   ],
   "source": [
    "%%time\n",
    "dfval = pd.read_csv(f'{p_in}/trn_{trntmstmp}.tsv',sep='\\x01',header=None,names=cols,nrows=valsz)\n",
    "print(dfval.shape)\n",
    "prp_tgt(dfval)"
   ]
  },
  {
   "cell_type": "markdown",
   "metadata": {},
   "source": [
    "## maybe oversample"
   ]
  },
  {
   "cell_type": "code",
   "execution_count": 5,
   "metadata": {},
   "outputs": [],
   "source": [
    "# df = pd.read_csv(f'{p_in}/trn_{trntmstmp}.tsv',sep='\\x01',header=None,names=cols,nrows=5)\n",
    "# dfval = pd.read_csv(f'{p_in}/trn_{trntmstmp}.tsv',sep='\\x01',header=None,names=cols,nrows=2)\n",
    "# dftrn = pd.read_csv(f'{p_in}/trn_{trntmstmp}.tsv',sep='\\x01',header=None,names=cols,skiprows=2,nrows=3)\n",
    "# display(df.twtid)\n",
    "# display(dfval.twtid)\n",
    "# display(dftrn.twtid)\n",
    "\n",
    "# 0    D4D1EBDE74F74C5DA529959AF979625C\n",
    "# 1    BFB529DAB6D384EB83E899A72AB3830D\n",
    "# 2    519078C7834E9642508F72A6C2D0F3B7\n",
    "# 3    52AAE9E33EFAC8C478C57B31A9E31ED1\n",
    "# 4    89C1298C55EB3D68E2784F0BFB69E6F8\n",
    "# Name: twtid, dtype: object\n",
    "# 0    D4D1EBDE74F74C5DA529959AF979625C\n",
    "# 1    BFB529DAB6D384EB83E899A72AB3830D\n",
    "# Name: twtid, dtype: object\n",
    "# 0    519078C7834E9642508F72A6C2D0F3B7\n",
    "# 1    52AAE9E33EFAC8C478C57B31A9E31ED1\n",
    "# 2    89C1298C55EB3D68E2784F0BFB69E6F8\n",
    "# Name: twtid, dtype: object"
   ]
  },
  {
   "cell_type": "code",
   "execution_count": 6,
   "metadata": {
    "scrolled": true
   },
   "outputs": [
    {
     "name": "stdout",
     "output_type": "stream",
     "text": [
      "(370000, 24)\n"
     ]
    },
    {
     "data": {
      "text/plain": [
       "retwt          0.112570\n",
       "reply          0.028143\n",
       "like           0.438841\n",
       "retwt_cmmnt    0.007565\n",
       "dtype: float64"
      ]
     },
     "metadata": {},
     "output_type": "display_data"
    },
    {
     "name": "stdout",
     "output_type": "stream",
     "text": [
      "CPU times: user 2.79 s, sys: 316 ms, total: 3.1 s\n",
      "Wall time: 3.11 s\n"
     ]
    }
   ],
   "source": [
    "%%time\n",
    "if TGT in ('Retweet','Like'): trnpop=trnsz\n",
    "if TGT=='Reply': trnpop=trnsz*3.7\n",
    "if TGT=='RTwCmnt': trnpop=trnsz*11.5\n",
    "assert trnpop<train_total\n",
    "\n",
    "dftrn = pd.read_csv(f'{p_in}/trn_{trntmstmp}.tsv',sep='\\x01',header=None,names=cols,\n",
    "                     skiprows=valsz, nrows=trnpop)\n",
    "print(dftrn.shape)\n",
    "prp_tgt(dftrn)"
   ]
  },
  {
   "cell_type": "code",
   "execution_count": 7,
   "metadata": {
    "scrolled": true
   },
   "outputs": [
    {
     "name": "stdout",
     "output_type": "stream",
     "text": [
      "(100000, 24) 0.10413\n",
      "370000 10413 100000 10413\n"
     ]
    },
    {
     "data": {
      "text/html": [
       "<div>\n",
       "<style scoped>\n",
       "    .dataframe tbody tr th:only-of-type {\n",
       "        vertical-align: middle;\n",
       "    }\n",
       "\n",
       "    .dataframe tbody tr th {\n",
       "        vertical-align: top;\n",
       "    }\n",
       "\n",
       "    .dataframe thead th {\n",
       "        text-align: right;\n",
       "    }\n",
       "</style>\n",
       "<table border=\"1\" class=\"dataframe\">\n",
       "  <thead>\n",
       "    <tr style=\"text-align: right;\">\n",
       "      <th></th>\n",
       "      <th>toks</th>\n",
       "      <th>hshtgs</th>\n",
       "      <th>twtid</th>\n",
       "      <th>media</th>\n",
       "      <th>links</th>\n",
       "      <th>domns</th>\n",
       "      <th>twttyp</th>\n",
       "      <th>lang</th>\n",
       "      <th>tm</th>\n",
       "      <th>u1id</th>\n",
       "      <th>u1_fllwer_cnt</th>\n",
       "      <th>u1_fllwing_cnt</th>\n",
       "      <th>u1_vrfed</th>\n",
       "      <th>u1_create_tm</th>\n",
       "      <th>u2id</th>\n",
       "      <th>u2_fllwer_cnt</th>\n",
       "      <th>u2_fllwng_cnt</th>\n",
       "      <th>u2_vrfed</th>\n",
       "      <th>u2_create_tm</th>\n",
       "      <th>u1_fllw_u2</th>\n",
       "      <th>retwt</th>\n",
       "      <th>reply</th>\n",
       "      <th>like</th>\n",
       "      <th>retwt_cmmnt</th>\n",
       "    </tr>\n",
       "  </thead>\n",
       "  <tbody>\n",
       "    <tr>\n",
       "      <th>5</th>\n",
       "      <td>101\\t1434\\t107854\\t18260\\t31904\\t111431\\t74759...</td>\n",
       "      <td>NaN</td>\n",
       "      <td>0EB15633A8CC0A6E3917C272F43E6DF3</td>\n",
       "      <td>NaN</td>\n",
       "      <td>NaN</td>\n",
       "      <td>NaN</td>\n",
       "      <td>TopLevel</td>\n",
       "      <td>022EC308651FACB02794A8147AEE1B78</td>\n",
       "      <td>1581218899</td>\n",
       "      <td>A7E00C86B4E3709D589754A51042A360</td>\n",
       "      <td>1198215</td>\n",
       "      <td>662</td>\n",
       "      <td>True</td>\n",
       "      <td>1246548812</td>\n",
       "      <td>016212C070A76EAB37E8ED93CA509BA9</td>\n",
       "      <td>0</td>\n",
       "      <td>42</td>\n",
       "      <td>False</td>\n",
       "      <td>1578271262</td>\n",
       "      <td>False</td>\n",
       "      <td>False</td>\n",
       "      <td>True</td>\n",
       "      <td>False</td>\n",
       "      <td>False</td>\n",
       "    </tr>\n",
       "    <tr>\n",
       "      <th>51</th>\n",
       "      <td>101\\t10473\\t10116\\t10132\\t12603\\t97953\\t25307\\...</td>\n",
       "      <td>NaN</td>\n",
       "      <td>7C71C144E7B9F2D87F1F4DDB40AB1C49</td>\n",
       "      <td>NaN</td>\n",
       "      <td>NaN</td>\n",
       "      <td>NaN</td>\n",
       "      <td>TopLevel</td>\n",
       "      <td>2996EB2FE8162C076D070A4C8D6532CD</td>\n",
       "      <td>1581203618</td>\n",
       "      <td>B0CBECD53C3B945C875C55DDFF56D13F</td>\n",
       "      <td>1424</td>\n",
       "      <td>854</td>\n",
       "      <td>False</td>\n",
       "      <td>1394906655</td>\n",
       "      <td>01625341E5A48963E5AA7DFFDC4436D4</td>\n",
       "      <td>643</td>\n",
       "      <td>327</td>\n",
       "      <td>False</td>\n",
       "      <td>1372760933</td>\n",
       "      <td>True</td>\n",
       "      <td>False</td>\n",
       "      <td>True</td>\n",
       "      <td>False</td>\n",
       "      <td>False</td>\n",
       "    </tr>\n",
       "    <tr>\n",
       "      <th>63</th>\n",
       "      <td>101\\t56898\\t137\\t24362\\t131\\t100\\t196\\t36351\\t...</td>\n",
       "      <td>NaN</td>\n",
       "      <td>ADCF033A7C7087C1506E2BC3E2D8F092</td>\n",
       "      <td>NaN</td>\n",
       "      <td>NaN</td>\n",
       "      <td>NaN</td>\n",
       "      <td>Retweet</td>\n",
       "      <td>717293301FE296B0B61950D041485825</td>\n",
       "      <td>1581258397</td>\n",
       "      <td>ECD90FC37F0A7C15C82834FDDEEDC21A</td>\n",
       "      <td>1753</td>\n",
       "      <td>811</td>\n",
       "      <td>False</td>\n",
       "      <td>1568347799</td>\n",
       "      <td>01625CCEC5A4C322FC247DB9E223CC08</td>\n",
       "      <td>147</td>\n",
       "      <td>1355</td>\n",
       "      <td>False</td>\n",
       "      <td>1355850070</td>\n",
       "      <td>False</td>\n",
       "      <td>False</td>\n",
       "      <td>True</td>\n",
       "      <td>False</td>\n",
       "      <td>False</td>\n",
       "    </tr>\n",
       "    <tr>\n",
       "      <th>75</th>\n",
       "      <td>101\\t12441\\t105702\\t793\\t61783\\t34022\\t60578\\t...</td>\n",
       "      <td>NaN</td>\n",
       "      <td>7EB0824DDA3D28844CC0FF65B7C4AA08</td>\n",
       "      <td>NaN</td>\n",
       "      <td>NaN</td>\n",
       "      <td>NaN</td>\n",
       "      <td>TopLevel</td>\n",
       "      <td>167115458A0DBDFF7E9C0C53A83BAC9B</td>\n",
       "      <td>1581271814</td>\n",
       "      <td>D905F31F909CC63C2BBEB7F6B43487FE</td>\n",
       "      <td>175998</td>\n",
       "      <td>116</td>\n",
       "      <td>False</td>\n",
       "      <td>1466830888</td>\n",
       "      <td>01626B64A2570C2807AB97716262FBA9</td>\n",
       "      <td>90</td>\n",
       "      <td>139</td>\n",
       "      <td>False</td>\n",
       "      <td>1364278366</td>\n",
       "      <td>False</td>\n",
       "      <td>False</td>\n",
       "      <td>True</td>\n",
       "      <td>False</td>\n",
       "      <td>False</td>\n",
       "    </tr>\n",
       "    <tr>\n",
       "      <th>83</th>\n",
       "      <td>101\\t69532\\t10107\\t12372\\t10160\\t19048\\t136\\t1...</td>\n",
       "      <td>NaN</td>\n",
       "      <td>0A95516F028EBFF6B551DB32C4B2D1B5</td>\n",
       "      <td>Video</td>\n",
       "      <td>NaN</td>\n",
       "      <td>NaN</td>\n",
       "      <td>TopLevel</td>\n",
       "      <td>ECED8A16BE2A5E8871FD55F4842F16B1</td>\n",
       "      <td>1581214010</td>\n",
       "      <td>88E80BAB56E6F59E4EF012A8B12D3BAE</td>\n",
       "      <td>8825</td>\n",
       "      <td>8024</td>\n",
       "      <td>False</td>\n",
       "      <td>1557262802</td>\n",
       "      <td>0162759D8908AA8C849F06086A023D85</td>\n",
       "      <td>26265</td>\n",
       "      <td>24215</td>\n",
       "      <td>False</td>\n",
       "      <td>1557422269</td>\n",
       "      <td>True</td>\n",
       "      <td>False</td>\n",
       "      <td>True</td>\n",
       "      <td>False</td>\n",
       "      <td>False</td>\n",
       "    </tr>\n",
       "  </tbody>\n",
       "</table>\n",
       "</div>"
      ],
      "text/plain": [
       "                                                 toks hshtgs  \\\n",
       "5   101\\t1434\\t107854\\t18260\\t31904\\t111431\\t74759...    NaN   \n",
       "51  101\\t10473\\t10116\\t10132\\t12603\\t97953\\t25307\\...    NaN   \n",
       "63  101\\t56898\\t137\\t24362\\t131\\t100\\t196\\t36351\\t...    NaN   \n",
       "75  101\\t12441\\t105702\\t793\\t61783\\t34022\\t60578\\t...    NaN   \n",
       "83  101\\t69532\\t10107\\t12372\\t10160\\t19048\\t136\\t1...    NaN   \n",
       "\n",
       "                               twtid  media links domns    twttyp  \\\n",
       "5   0EB15633A8CC0A6E3917C272F43E6DF3    NaN   NaN   NaN  TopLevel   \n",
       "51  7C71C144E7B9F2D87F1F4DDB40AB1C49    NaN   NaN   NaN  TopLevel   \n",
       "63  ADCF033A7C7087C1506E2BC3E2D8F092    NaN   NaN   NaN   Retweet   \n",
       "75  7EB0824DDA3D28844CC0FF65B7C4AA08    NaN   NaN   NaN  TopLevel   \n",
       "83  0A95516F028EBFF6B551DB32C4B2D1B5  Video   NaN   NaN  TopLevel   \n",
       "\n",
       "                                lang          tm  \\\n",
       "5   022EC308651FACB02794A8147AEE1B78  1581218899   \n",
       "51  2996EB2FE8162C076D070A4C8D6532CD  1581203618   \n",
       "63  717293301FE296B0B61950D041485825  1581258397   \n",
       "75  167115458A0DBDFF7E9C0C53A83BAC9B  1581271814   \n",
       "83  ECED8A16BE2A5E8871FD55F4842F16B1  1581214010   \n",
       "\n",
       "                                u1id  u1_fllwer_cnt  u1_fllwing_cnt  u1_vrfed  \\\n",
       "5   A7E00C86B4E3709D589754A51042A360        1198215             662      True   \n",
       "51  B0CBECD53C3B945C875C55DDFF56D13F           1424             854     False   \n",
       "63  ECD90FC37F0A7C15C82834FDDEEDC21A           1753             811     False   \n",
       "75  D905F31F909CC63C2BBEB7F6B43487FE         175998             116     False   \n",
       "83  88E80BAB56E6F59E4EF012A8B12D3BAE           8825            8024     False   \n",
       "\n",
       "    u1_create_tm                              u2id  u2_fllwer_cnt  \\\n",
       "5     1246548812  016212C070A76EAB37E8ED93CA509BA9              0   \n",
       "51    1394906655  01625341E5A48963E5AA7DFFDC4436D4            643   \n",
       "63    1568347799  01625CCEC5A4C322FC247DB9E223CC08            147   \n",
       "75    1466830888  01626B64A2570C2807AB97716262FBA9             90   \n",
       "83    1557262802  0162759D8908AA8C849F06086A023D85          26265   \n",
       "\n",
       "    u2_fllwng_cnt  u2_vrfed  u2_create_tm  u1_fllw_u2  retwt  reply   like  \\\n",
       "5              42     False    1578271262       False  False   True  False   \n",
       "51            327     False    1372760933        True  False   True  False   \n",
       "63           1355     False    1355850070       False  False   True  False   \n",
       "75            139     False    1364278366       False  False   True  False   \n",
       "83          24215     False    1557422269        True  False   True  False   \n",
       "\n",
       "    retwt_cmmnt  \n",
       "5         False  \n",
       "51        False  \n",
       "63        False  \n",
       "75        False  \n",
       "83        False  "
      ]
     },
     "metadata": {},
     "output_type": "display_data"
    },
    {
     "data": {
      "text/plain": [
       "Index(['toks', 'hshtgs', 'twtid', 'media', 'links', 'domns', 'twttyp', 'lang',\n",
       "       'tm', 'u1id', 'u1_fllwer_cnt', 'u1_fllwing_cnt', 'u1_vrfed',\n",
       "       'u1_create_tm', 'u2id', 'u2_fllwer_cnt', 'u2_fllwng_cnt', 'u2_vrfed',\n",
       "       'u2_create_tm', 'u1_fllw_u2', 'retwt', 'reply', 'like', 'retwt_cmmnt'],\n",
       "      dtype='object')"
      ]
     },
     "metadata": {},
     "output_type": "display_data"
    }
   ],
   "source": [
    "train_pop=len(dftrn)\n",
    "sampled_train_pop=trnsz\n",
    "idx_pos = np.where(dftrn[TCOL])[0]\n",
    "target_pop=sampled_target_pop=len(idx_pos)\n",
    "if TGT in ('Reply','RTwCmnt'):\n",
    "    idx_neg0 = np.where(~dftrn[TCOL])[0]\n",
    "    idx_neg = np.random.choice(idx_neg0, trnsz-len(idx_pos), replace=False)\n",
    "    idx = np.concatenate([idx_pos,idx_neg])\n",
    "    dftrn = dftrn.iloc[idx].copy()\n",
    "print(dftrn.shape, dftrn[TCOL].mean())\n",
    "print(train_pop, target_pop, sampled_train_pop, sampled_target_pop)\n",
    "\n",
    "display(dftrn.head())\n",
    "display(dftrn.columns)"
   ]
  },
  {
   "cell_type": "markdown",
   "metadata": {},
   "source": [
    "## prep and features"
   ]
  },
  {
   "cell_type": "code",
   "execution_count": 8,
   "metadata": {},
   "outputs": [],
   "source": [
    "def prp_df(df, tm_max):\n",
    "    '''\n",
    "    tm_max = tm_trn_max for train tm_tst_max for test\n",
    "    '''\n",
    "    lendf = len(df)\n",
    "    print(dtnow(), 'start')\n",
    "    \n",
    "    #counts\n",
    "    df['len_toks'] = df.toks.apply(lambda x: len(x.split('\\t')))\n",
    "    df.drop(columns=['toks'], inplace=True)    \n",
    "    for m in ['Photo', 'Video', 'GIF']:\n",
    "        df[f'n_media_{m}'] = df['media'].fillna('').apply(lambda x: x.split('\\t').count(m))\n",
    "    tgnms = ['hshtgs','media', 'links', 'domns',]\n",
    "    for tgnm in tgnms:\n",
    "        df[f'has_{tgnm}']=df[tgnm].notna()\n",
    "        df[f'lst_{tgnm}'] = df[tgnm].fillna('').apply(lambda x: x.split('\\t') if len(x) else [])\n",
    "        df[f'n_{tgnm}'] = df[f'lst_{tgnm}'].apply(len)  \n",
    "    df.drop(columns=['has_links','n_links'], inplace=True) #duplicates has_domns,n_domns \n",
    "    \n",
    "    #time\n",
    "    dt = pd.to_datetime(df.tm, unit='s')\n",
    "    df['dayofweek'] = dt.dt.dayofweek\n",
    "    df['hour'] = dt.dt.hour\n",
    "    \n",
    "    df['tmdlta_u2u1']  = df.u2_create_tm - df.u1_create_tm\n",
    "    df['tmdlta_twtu1'] = df.tm - df.u1_create_tm\n",
    "    df['tmdlta_twtu2'] = df.tm - df.u2_create_tm\n",
    "\n",
    "    df['twt_age']   = tm_max-df.tm\n",
    "    df['u1_age']    = tm_max-df.u1_create_tm\n",
    "    df['u2_age']    = tm_max-df.u2_create_tm\n",
    "    df.drop(columns=['tm', 'u1_create_tm', 'u2_create_tm'], inplace=True)\n",
    "\n",
    "    #time derived\n",
    "    df['u1_fllwer_cnt_by_age'] = df.u1_fllwer_cnt / df.u1_age\n",
    "    df['u1_fllwng_cnt_by_age'] = df.u2_fllwng_cnt / df.u2_age\n",
    "    \n",
    "    #interaction\n",
    "    df['u1u2']=df.u1id+'_'+df.u2id\n",
    "    df['langhour']=df.lang+'_'+df.hour.astype(str)\n",
    "    \n",
    "\n",
    "    #freq of feature values\n",
    "    print(dtnow(), 'freq of columns using CountEncoder')\n",
    "    encoder = ce.CountEncoder()\n",
    "    encoded = encoder.fit_transform(\n",
    "    df[['twtid', 'twttyp', 'lang', 'u1id', 'u1_fllwing_cnt', 'u1_vrfed', 'u2id', 'u2_fllwer_cnt', 'u2_vrfed', 'u1_fllw_u2', \n",
    "       'n_media_Photo', 'n_media_Video', 'n_media_GIF', \n",
    "       'has_hshtgs', 'n_hshtgs', 'has_media', 'n_media','has_domns', 'n_domns', \n",
    "       'dayofweek', 'hour', 'u1u2', 'langhour']].astype(object))\n",
    "    encoded = encoded.astype(int)/lendf\n",
    "    encoded.columns = [f'frq_{col}' for col in encoded.columns]\n",
    "    df = pd.concat([df,encoded],1)\n",
    "    \n",
    "    #freq of tgnm values\n",
    "    print(dtnow(), 'freq of tags')\n",
    "    for tgnm in tgnms:\n",
    "        vs = [j for i in df[f'lst_{tgnm}'] for j in i]\n",
    "        cnt = Counter(vs)\n",
    "        frq = {k:v/lendf for k,v in cnt.items()}\n",
    "        df[f'sumfrq_{tgnm}']=df[f'lst_{tgnm}'].apply(lambda x: sum([frq.get(o,0) for o in x]))\n",
    "        df[f'maxfrq_{tgnm}']=df[f'lst_{tgnm}'].apply(lambda x: max([frq.get(o,0) for o in x]) if len(x) else 0)\n",
    "    df.drop(columns=tgnms+[f'lst_{tgnm}' for tgnm in tgnms],inplace=True)\n",
    "\n",
    "    print(dtnow(), 'done')\n",
    "    return df"
   ]
  },
  {
   "cell_type": "code",
   "execution_count": 9,
   "metadata": {},
   "outputs": [
    {
     "name": "stdout",
     "output_type": "stream",
     "text": [
      "2020-04-06 14:28:01 start\n",
      "2020-04-06 14:28:02 freq of columns using CountEncoder\n"
     ]
    },
    {
     "name": "stderr",
     "output_type": "stream",
     "text": [
      "/data/anaconda3/envs/rcss20/lib/python3.7/site-packages/category_encoders/count.py:255: FutureWarning: The pandas.np module is deprecated and will be removed from pandas in a future version. Import numpy directly instead\n",
      "  X.loc[:, self.cols] = X.fillna(value=pd.np.nan)\n"
     ]
    },
    {
     "name": "stdout",
     "output_type": "stream",
     "text": [
      "2020-04-06 14:28:05 freq of tags\n",
      "2020-04-06 14:28:05 done\n",
      "CPU times: user 4.42 s, sys: 225 ms, total: 4.64 s\n",
      "Wall time: 4.59 s\n"
     ]
    }
   ],
   "source": [
    "%%time\n",
    "dftrn=prp_df(dftrn, tm_max=tm_trn_max)"
   ]
  },
  {
   "cell_type": "code",
   "execution_count": 10,
   "metadata": {},
   "outputs": [
    {
     "name": "stdout",
     "output_type": "stream",
     "text": [
      "2020-04-06 14:28:05 start\n",
      "2020-04-06 14:28:07 freq of columns using CountEncoder\n",
      "2020-04-06 14:28:09 freq of tags\n",
      "2020-04-06 14:28:09 done\n",
      "CPU times: user 3.86 s, sys: 63.7 ms, total: 3.92 s\n",
      "Wall time: 3.91 s\n"
     ]
    }
   ],
   "source": [
    "%%time\n",
    "dfval=prp_df(dfval, tm_max=tm_trn_max)"
   ]
  },
  {
   "cell_type": "markdown",
   "metadata": {},
   "source": [
    "## tr vl split and target encoding"
   ]
  },
  {
   "cell_type": "code",
   "execution_count": 11,
   "metadata": {},
   "outputs": [
    {
     "data": {
      "text/plain": [
       "30"
      ]
     },
     "execution_count": 11,
     "metadata": {},
     "output_type": "execute_result"
    }
   ],
   "source": [
    "msk_vl=np.random.rand(len(dftrn))<0.15\n",
    "idxvl=np.where( msk_vl)[0]\n",
    "idxtr=np.where(~msk_vl)[0]\n",
    "\n",
    "dftr = dftrn.iloc[idxtr].copy()\n",
    "dfvl = dftrn.iloc[idxvl].copy()\n",
    "del dftrn\n",
    "\n",
    "gc.collect()"
   ]
  },
  {
   "cell_type": "code",
   "execution_count": 12,
   "metadata": {},
   "outputs": [
    {
     "data": {
      "text/plain": [
       "Index(['twtid', 'twttyp', 'lang', 'u1id', 'u1_fllwer_cnt', 'u1_fllwing_cnt',\n",
       "       'u1_vrfed', 'u2id', 'u2_fllwer_cnt', 'u2_fllwng_cnt', 'u2_vrfed',\n",
       "       'u1_fllw_u2', 'retwt', 'reply', 'like', 'retwt_cmmnt', 'len_toks',\n",
       "       'n_media_Photo', 'n_media_Video', 'n_media_GIF', 'has_hshtgs',\n",
       "       'n_hshtgs', 'has_media', 'n_media', 'has_domns', 'n_domns', 'dayofweek',\n",
       "       'hour', 'tmdlta_u2u1', 'tmdlta_twtu1', 'tmdlta_twtu2', 'twt_age',\n",
       "       'u1_age', 'u2_age', 'u1_fllwer_cnt_by_age', 'u1_fllwng_cnt_by_age',\n",
       "       'u1u2', 'langhour', 'frq_twtid', 'frq_twttyp', 'frq_lang', 'frq_u1id',\n",
       "       'frq_u1_fllwing_cnt', 'frq_u1_vrfed', 'frq_u2id', 'frq_u2_fllwer_cnt',\n",
       "       'frq_u2_vrfed', 'frq_u1_fllw_u2', 'frq_n_media_Photo',\n",
       "       'frq_n_media_Video', 'frq_n_media_GIF', 'frq_has_hshtgs',\n",
       "       'frq_n_hshtgs', 'frq_has_media', 'frq_n_media', 'frq_has_domns',\n",
       "       'frq_n_domns', 'frq_dayofweek', 'frq_hour', 'frq_u1u2', 'frq_langhour',\n",
       "       'sumfrq_hshtgs', 'maxfrq_hshtgs', 'sumfrq_media', 'maxfrq_media',\n",
       "       'sumfrq_links', 'maxfrq_links', 'sumfrq_domns', 'maxfrq_domns'],\n",
       "      dtype='object')"
      ]
     },
     "execution_count": 12,
     "metadata": {},
     "output_type": "execute_result"
    }
   ],
   "source": [
    "dftr.columns"
   ]
  },
  {
   "cell_type": "code",
   "execution_count": 13,
   "metadata": {},
   "outputs": [
    {
     "name": "stdout",
     "output_type": "stream",
     "text": [
      "CPU times: user 4.73 s, sys: 0 ns, total: 4.73 s\n",
      "Wall time: 4.72 s\n"
     ]
    }
   ],
   "source": [
    "%%time\n",
    "col2tgtenc=['twtid', 'twttyp', 'lang', 'u1id', 'u1_fllwing_cnt', 'u1_vrfed', 'u2id', 'u2_fllwer_cnt', 'u2_vrfed', 'u1_fllw_u2', \n",
    "   'n_media_Photo', 'n_media_Video', 'n_media_GIF', \n",
    "   'has_hshtgs', 'n_hshtgs', 'has_media', 'n_media','has_domns', 'n_domns', \n",
    "   'dayofweek', 'hour', 'u1u2', 'langhour']\n",
    "tgt_encoder = ce.TargetEncoder()\n",
    "encoded_tr = tgt_encoder.fit_transform(dftr[col2tgtenc].astype(object), dftr[TCOL])\n",
    "encoded_vl = tgt_encoder.transform(dfvl[col2tgtenc].astype(object))\n",
    "encoded_val = tgt_encoder.transform(dfval[col2tgtenc].astype(object))\n",
    "\n",
    "tgtenc_columns = [f'tgtenc_{col}' for col in encoded_tr.columns]\n",
    "encoded_tr.columns = tgtenc_columns\n",
    "encoded_vl.columns = tgtenc_columns\n",
    "encoded_val.columns = tgtenc_columns\n",
    "\n",
    "dftr = pd.concat([dftr, encoded_tr], 1)\n",
    "dfvl = pd.concat([dfvl, encoded_vl], 1)\n",
    "dfval = pd.concat([dfval, encoded_val], 1)\n"
   ]
  },
  {
   "cell_type": "code",
   "execution_count": 14,
   "metadata": {},
   "outputs": [],
   "source": [
    "cols_category=['twttyp', 'lang', 'langhour']\n",
    "for df in dftr,dfvl,dfval:\n",
    "    df.drop(columns=['twtid','u1id','u2id','u1u2'], inplace=True)\n",
    "    df[cols_category]=df[cols_category].astype('category')"
   ]
  },
  {
   "cell_type": "code",
   "execution_count": 15,
   "metadata": {},
   "outputs": [],
   "source": [
    "cols_feat = [col for col in dftr.columns if col not in cols_tgt]"
   ]
  },
  {
   "cell_type": "code",
   "execution_count": 16,
   "metadata": {},
   "outputs": [
    {
     "data": {
      "text/plain": [
       "twttyp                   category\n",
       "lang                     category\n",
       "u1_fllwer_cnt               int64\n",
       "u1_fllwing_cnt              int64\n",
       "u1_vrfed                     bool\n",
       "u2_fllwer_cnt               int64\n",
       "u2_fllwng_cnt               int64\n",
       "u2_vrfed                     bool\n",
       "u1_fllw_u2                   bool\n",
       "retwt                        bool\n",
       "reply                        bool\n",
       "like                         bool\n",
       "retwt_cmmnt                  bool\n",
       "len_toks                    int64\n",
       "n_media_Photo               int64\n",
       "n_media_Video               int64\n",
       "n_media_GIF                 int64\n",
       "has_hshtgs                   bool\n",
       "n_hshtgs                    int64\n",
       "has_media                    bool\n",
       "n_media                     int64\n",
       "has_domns                    bool\n",
       "n_domns                     int64\n",
       "dayofweek                   int64\n",
       "hour                        int64\n",
       "tmdlta_u2u1                 int64\n",
       "tmdlta_twtu1                int64\n",
       "tmdlta_twtu2                int64\n",
       "twt_age                     int64\n",
       "u1_age                      int64\n",
       "u2_age                      int64\n",
       "u1_fllwer_cnt_by_age      float64\n",
       "u1_fllwng_cnt_by_age      float64\n",
       "langhour                 category\n",
       "frq_twtid                 float64\n",
       "frq_twttyp                float64\n",
       "frq_lang                  float64\n",
       "frq_u1id                  float64\n",
       "frq_u1_fllwing_cnt        float64\n",
       "frq_u1_vrfed              float64\n",
       "frq_u2id                  float64\n",
       "frq_u2_fllwer_cnt         float64\n",
       "frq_u2_vrfed              float64\n",
       "frq_u1_fllw_u2            float64\n",
       "frq_n_media_Photo         float64\n",
       "frq_n_media_Video         float64\n",
       "frq_n_media_GIF           float64\n",
       "frq_has_hshtgs            float64\n",
       "frq_n_hshtgs              float64\n",
       "frq_has_media             float64\n",
       "frq_n_media               float64\n",
       "frq_has_domns             float64\n",
       "frq_n_domns               float64\n",
       "frq_dayofweek             float64\n",
       "frq_hour                  float64\n",
       "frq_u1u2                  float64\n",
       "frq_langhour              float64\n",
       "sumfrq_hshtgs             float64\n",
       "maxfrq_hshtgs             float64\n",
       "sumfrq_media              float64\n",
       "maxfrq_media              float64\n",
       "sumfrq_links              float64\n",
       "maxfrq_links              float64\n",
       "sumfrq_domns              float64\n",
       "maxfrq_domns              float64\n",
       "tgtenc_twtid              float64\n",
       "tgtenc_twttyp             float64\n",
       "tgtenc_lang               float64\n",
       "tgtenc_u1id               float64\n",
       "tgtenc_u1_fllwing_cnt     float64\n",
       "tgtenc_u1_vrfed           float64\n",
       "tgtenc_u2id               float64\n",
       "tgtenc_u2_fllwer_cnt      float64\n",
       "tgtenc_u2_vrfed           float64\n",
       "tgtenc_u1_fllw_u2         float64\n",
       "tgtenc_n_media_Photo      float64\n",
       "tgtenc_n_media_Video      float64\n",
       "tgtenc_n_media_GIF        float64\n",
       "tgtenc_has_hshtgs         float64\n",
       "tgtenc_n_hshtgs           float64\n",
       "tgtenc_has_media          float64\n",
       "tgtenc_n_media            float64\n",
       "tgtenc_has_domns          float64\n",
       "tgtenc_n_domns            float64\n",
       "tgtenc_dayofweek          float64\n",
       "tgtenc_hour               float64\n",
       "tgtenc_u1u2               float64\n",
       "tgtenc_langhour           float64\n",
       "dtype: object"
      ]
     },
     "execution_count": 16,
     "metadata": {},
     "output_type": "execute_result"
    }
   ],
   "source": [
    "dftr.dtypes"
   ]
  },
  {
   "cell_type": "markdown",
   "metadata": {},
   "source": [
    "# model"
   ]
  },
  {
   "cell_type": "code",
   "execution_count": 17,
   "metadata": {},
   "outputs": [],
   "source": [
    "cols_feat=['twttyp',\n",
    " 'lang',\n",
    " 'u1_fllwer_cnt',\n",
    " 'u1_fllwing_cnt',\n",
    " 'u1_vrfed',\n",
    " 'u2_fllwer_cnt',\n",
    " 'u2_fllwng_cnt',\n",
    " 'u2_vrfed',\n",
    " 'u1_fllw_u2',\n",
    " 'len_toks',\n",
    " 'n_media_Photo',\n",
    " 'n_media_Video',\n",
    " 'n_media_GIF',\n",
    "#  'has_hshtgs',\n",
    " 'n_hshtgs',\n",
    "#  'has_media',\n",
    " 'n_media',\n",
    "#  'has_domns',\n",
    " 'n_domns',\n",
    " 'dayofweek',\n",
    " 'hour',\n",
    " 'tmdlta_u2u1',\n",
    " 'tmdlta_twtu1',\n",
    " 'tmdlta_twtu2',\n",
    " 'twt_age',\n",
    " 'u1_age',\n",
    " 'u2_age',\n",
    " 'u1_fllwer_cnt_by_age',\n",
    " 'u1_fllwng_cnt_by_age',\n",
    " 'langhour',\n",
    "#  'frq_twtid',\n",
    "#  'frq_twttyp',\n",
    "#  'frq_lang',\n",
    "#  'frq_u1id',\n",
    "#  'frq_u1_fllwing_cnt',\n",
    "#  'frq_u1_vrfed',\n",
    "#  'frq_u2id',\n",
    "#  'frq_u2_fllwer_cnt',\n",
    "#  'frq_u2_vrfed',\n",
    "#  'frq_u1_fllw_u2',\n",
    "#  'frq_n_media_Photo',\n",
    "#  'frq_n_media_Video',\n",
    "#  'frq_n_media_GIF',\n",
    "#  'frq_has_hshtgs',\n",
    "#  'frq_n_hshtgs',\n",
    "#  'frq_has_media',\n",
    "#  'frq_n_media',\n",
    "#  'frq_has_domns',\n",
    "#  'frq_n_domns',\n",
    "#  'frq_dayofweek',\n",
    "#  'frq_hour',\n",
    "#  'frq_u1u2',\n",
    "#  'frq_langhour',\n",
    " 'sumfrq_hshtgs',\n",
    "#  'maxfrq_hshtgs',\n",
    "#  'sumfrq_media',\n",
    "#  'maxfrq_media',\n",
    "#  'sumfrq_links',\n",
    "#  'maxfrq_links',\n",
    "#  'sumfrq_domns',\n",
    "#  'maxfrq_domns',\n",
    "#  'tgtenc_twtid',\n",
    "#  'tgtenc_twttyp',\n",
    " 'tgtenc_lang',\n",
    "#  'tgtenc_u1id',\n",
    "#  'tgtenc_u1_fllwing_cnt',\n",
    "#  'tgtenc_u1_vrfed',\n",
    "#  'tgtenc_u2id',\n",
    "#  'tgtenc_u2_fllwer_cnt',\n",
    "#  'tgtenc_u2_vrfed',\n",
    "#  'tgtenc_u1_fllw_u2',\n",
    "#  'tgtenc_n_media_Photo',\n",
    "#  'tgtenc_n_media_Video',\n",
    "#  'tgtenc_n_media_GIF',\n",
    "#  'tgtenc_has_hshtgs',\n",
    "#  'tgtenc_n_hshtgs',\n",
    "#  'tgtenc_has_media',\n",
    "#  'tgtenc_n_media',\n",
    "#  'tgtenc_has_domns',\n",
    "#  'tgtenc_n_domns',\n",
    "#  'tgtenc_dayofweek',\n",
    "#  'tgtenc_hour',\n",
    "#  'tgtenc_u1u2',\n",
    "#  'tgtenc_langhour'\n",
    "          ]"
   ]
  },
  {
   "cell_type": "code",
   "execution_count": 18,
   "metadata": {},
   "outputs": [],
   "source": [
    "results = {}\n",
    "results['PRFX'] = PRFX\n",
    "results['TGT'] = TGT\n",
    "results['cols_feat'] = cols_feat\n",
    "results['tgt_encoder'] = tgt_encoder\n",
    "results['col2tgtenc'] = col2tgtenc"
   ]
  },
  {
   "cell_type": "code",
   "execution_count": 19,
   "metadata": {},
   "outputs": [],
   "source": [
    "params={\n",
    "    'objective': 'binary',\n",
    "    'metric': 'binary_logloss',\n",
    "    'verbosity': 0,\n",
    "    \n",
    "}\n",
    "results['params'] = params"
   ]
  },
  {
   "cell_type": "code",
   "execution_count": 20,
   "metadata": {},
   "outputs": [
    {
     "name": "stderr",
     "output_type": "stream",
     "text": [
      "/data/anaconda3/envs/rcss20/lib/python3.7/site-packages/optuna/_experimental.py:87: ExperimentalWarning: train is experimental (supported from v0.18.0). The interface can change in the future.\n",
      "  ExperimentalWarning\n",
      "tune_feature_fraction, val_score: inf:   0%|          | 0/7 [00:00<?, ?it/s]"
     ]
    },
    {
     "name": "stdout",
     "output_type": "stream",
     "text": [
      "Training until validation scores don't improve for 100 rounds\n",
      "[100]\ttr's binary_logloss: 0.254914\tvl's binary_logloss: 0.290511\n",
      "Early stopping, best iteration is:\n",
      "[58]\ttr's binary_logloss: 0.265933\tvl's binary_logloss: 0.289866\n"
     ]
    },
    {
     "name": "stderr",
     "output_type": "stream",
     "text": [
      "tune_feature_fraction, val_score: 0.289866:  14%|#4        | 1/7 [00:01<00:08,  1.45s/it]"
     ]
    },
    {
     "name": "stdout",
     "output_type": "stream",
     "text": [
      "Training until validation scores don't improve for 100 rounds\n",
      "[100]\ttr's binary_logloss: 0.252789\tvl's binary_logloss: 0.291235\n",
      "Early stopping, best iteration is:\n",
      "[58]\ttr's binary_logloss: 0.263793\tvl's binary_logloss: 0.290178\n"
     ]
    },
    {
     "name": "stderr",
     "output_type": "stream",
     "text": [
      "tune_feature_fraction, val_score: 0.289866:  29%|##8       | 2/7 [00:02<00:06,  1.37s/it]"
     ]
    },
    {
     "name": "stdout",
     "output_type": "stream",
     "text": [
      "Training until validation scores don't improve for 100 rounds\n",
      "[100]\ttr's binary_logloss: 0.252089\tvl's binary_logloss: 0.291563\n",
      "Early stopping, best iteration is:\n",
      "[43]\ttr's binary_logloss: 0.268485\tvl's binary_logloss: 0.290031\n"
     ]
    },
    {
     "name": "stderr",
     "output_type": "stream",
     "text": [
      "tune_feature_fraction, val_score: 0.289866:  43%|####2     | 3/7 [00:03<00:05,  1.29s/it]"
     ]
    },
    {
     "name": "stdout",
     "output_type": "stream",
     "text": [
      "Training until validation scores don't improve for 100 rounds\n",
      "[100]\ttr's binary_logloss: 0.250308\tvl's binary_logloss: 0.291808\n",
      "Early stopping, best iteration is:\n",
      "[36]\ttr's binary_logloss: 0.270116\tvl's binary_logloss: 0.290792\n"
     ]
    },
    {
     "name": "stderr",
     "output_type": "stream",
     "text": [
      "tune_feature_fraction, val_score: 0.289866:  57%|#####7    | 4/7 [00:04<00:03,  1.25s/it]"
     ]
    },
    {
     "name": "stdout",
     "output_type": "stream",
     "text": [
      "Training until validation scores don't improve for 100 rounds\n",
      "[100]\ttr's binary_logloss: 0.248462\tvl's binary_logloss: 0.291779\n",
      "Early stopping, best iteration is:\n",
      "[58]\ttr's binary_logloss: 0.260653\tvl's binary_logloss: 0.290668\n"
     ]
    },
    {
     "name": "stderr",
     "output_type": "stream",
     "text": [
      "tune_feature_fraction, val_score: 0.289866:  71%|#######1  | 5/7 [00:06<00:02,  1.27s/it]"
     ]
    },
    {
     "name": "stdout",
     "output_type": "stream",
     "text": [
      "Training until validation scores don't improve for 100 rounds\n",
      "[100]\ttr's binary_logloss: 0.247009\tvl's binary_logloss: 0.292208\n",
      "Early stopping, best iteration is:\n",
      "[49]\ttr's binary_logloss: 0.262671\tvl's binary_logloss: 0.291171\n"
     ]
    },
    {
     "name": "stderr",
     "output_type": "stream",
     "text": [
      "tune_feature_fraction, val_score: 0.289866:  86%|########5 | 6/7 [00:07<00:01,  1.27s/it]"
     ]
    },
    {
     "name": "stdout",
     "output_type": "stream",
     "text": [
      "Training until validation scores don't improve for 100 rounds\n",
      "[100]\ttr's binary_logloss: 0.244834\tvl's binary_logloss: 0.293567\n",
      "Early stopping, best iteration is:\n",
      "[30]\ttr's binary_logloss: 0.271426\tvl's binary_logloss: 0.29143\n"
     ]
    },
    {
     "name": "stderr",
     "output_type": "stream",
     "text": [
      "tune_feature_fraction, val_score: 0.289866: 100%|##########| 7/7 [00:08<00:00,  1.26s/it]\n",
      "tune_num_leaves, val_score: 0.289866:   0%|          | 0/20 [00:00<?, ?it/s]"
     ]
    },
    {
     "name": "stdout",
     "output_type": "stream",
     "text": [
      "Training until validation scores don't improve for 100 rounds\n",
      "[100]\ttr's binary_logloss: 0.259326\tvl's binary_logloss: 0.290173\n",
      "Early stopping, best iteration is:\n",
      "[58]\ttr's binary_logloss: 0.26865\tvl's binary_logloss: 0.289839\n"
     ]
    },
    {
     "name": "stderr",
     "output_type": "stream",
     "text": [
      "tune_num_leaves, val_score: 0.289839:   5%|5         | 1/20 [00:01<00:19,  1.02s/it]"
     ]
    },
    {
     "name": "stdout",
     "output_type": "stream",
     "text": [
      "Training until validation scores don't improve for 100 rounds\n",
      "[100]\ttr's binary_logloss: 0.149476\tvl's binary_logloss: 0.298259\n",
      "Early stopping, best iteration is:\n",
      "[43]\ttr's binary_logloss: 0.206401\tvl's binary_logloss: 0.293407\n"
     ]
    },
    {
     "name": "stderr",
     "output_type": "stream",
     "text": [
      "tune_num_leaves, val_score: 0.289839:  10%|#         | 2/20 [00:04<00:31,  1.75s/it]"
     ]
    },
    {
     "name": "stdout",
     "output_type": "stream",
     "text": [
      "Training until validation scores don't improve for 100 rounds\n",
      "[100]\ttr's binary_logloss: 0.161947\tvl's binary_logloss: 0.297233\n",
      "Early stopping, best iteration is:\n",
      "[43]\ttr's binary_logloss: 0.214373\tvl's binary_logloss: 0.29356\n"
     ]
    },
    {
     "name": "stderr",
     "output_type": "stream",
     "text": [
      "tune_num_leaves, val_score: 0.289839:  15%|#5        | 3/20 [00:07<00:37,  2.18s/it]"
     ]
    },
    {
     "name": "stdout",
     "output_type": "stream",
     "text": [
      "Training until validation scores don't improve for 100 rounds\n",
      "[100]\ttr's binary_logloss: 0.169082\tvl's binary_logloss: 0.297457\n",
      "Early stopping, best iteration is:\n",
      "[43]\ttr's binary_logloss: 0.2188\tvl's binary_logloss: 0.293282\n"
     ]
    },
    {
     "name": "stderr",
     "output_type": "stream",
     "text": [
      "tune_num_leaves, val_score: 0.289839:  20%|##        | 4/20 [00:10<00:38,  2.41s/it]"
     ]
    },
    {
     "name": "stdout",
     "output_type": "stream",
     "text": [
      "Training until validation scores don't improve for 100 rounds\n",
      "[100]\ttr's binary_logloss: 0.177644\tvl's binary_logloss: 0.296028\n",
      "Early stopping, best iteration is:\n",
      "[42]\ttr's binary_logloss: 0.226275\tvl's binary_logloss: 0.292548\n"
     ]
    },
    {
     "name": "stderr",
     "output_type": "stream",
     "text": [
      "tune_num_leaves, val_score: 0.289839:  25%|##5       | 5/20 [00:13<00:37,  2.49s/it]"
     ]
    },
    {
     "name": "stdout",
     "output_type": "stream",
     "text": [
      "Training until validation scores don't improve for 100 rounds\n",
      "[100]\ttr's binary_logloss: 0.183252\tvl's binary_logloss: 0.294483\n",
      "Early stopping, best iteration is:\n",
      "[42]\ttr's binary_logloss: 0.22964\tvl's binary_logloss: 0.291728\n"
     ]
    },
    {
     "name": "stderr",
     "output_type": "stream",
     "text": [
      "tune_num_leaves, val_score: 0.289839:  30%|###       | 6/20 [00:15<00:34,  2.50s/it]"
     ]
    },
    {
     "name": "stdout",
     "output_type": "stream",
     "text": [
      "Training until validation scores don't improve for 100 rounds\n",
      "[100]\ttr's binary_logloss: 0.175978\tvl's binary_logloss: 0.296641\n",
      "Early stopping, best iteration is:\n",
      "[42]\ttr's binary_logloss: 0.225074\tvl's binary_logloss: 0.292542\n"
     ]
    },
    {
     "name": "stderr",
     "output_type": "stream",
     "text": [
      "tune_num_leaves, val_score: 0.289839:  35%|###5      | 7/20 [00:18<00:33,  2.56s/it]"
     ]
    },
    {
     "name": "stdout",
     "output_type": "stream",
     "text": [
      "Training until validation scores don't improve for 100 rounds\n",
      "[100]\ttr's binary_logloss: 0.272348\tvl's binary_logloss: 0.289646\n",
      "Early stopping, best iteration is:\n",
      "[83]\ttr's binary_logloss: 0.274464\tvl's binary_logloss: 0.289396\n"
     ]
    },
    {
     "name": "stderr",
     "output_type": "stream",
     "text": [
      "tune_num_leaves, val_score: 0.289396:  40%|####      | 8/20 [00:19<00:25,  2.08s/it]"
     ]
    },
    {
     "name": "stdout",
     "output_type": "stream",
     "text": [
      "Training until validation scores don't improve for 100 rounds\n",
      "[100]\ttr's binary_logloss: 0.233583\tvl's binary_logloss: 0.291447\n",
      "Early stopping, best iteration is:\n",
      "[63]\ttr's binary_logloss: 0.2487\tvl's binary_logloss: 0.290156\n"
     ]
    },
    {
     "name": "stderr",
     "output_type": "stream",
     "text": [
      "tune_num_leaves, val_score: 0.289396:  45%|####5     | 9/20 [00:21<00:21,  1.95s/it]"
     ]
    },
    {
     "name": "stdout",
     "output_type": "stream",
     "text": [
      "Training until validation scores don't improve for 100 rounds\n",
      "[100]\ttr's binary_logloss: 0.295881\tvl's binary_logloss: 0.295985\n",
      "[200]\ttr's binary_logloss: 0.291633\tvl's binary_logloss: 0.293213\n",
      "[300]\ttr's binary_logloss: 0.289837\tvl's binary_logloss: 0.292511\n",
      "[400]\ttr's binary_logloss: 0.288833\tvl's binary_logloss: 0.292344\n",
      "[500]\ttr's binary_logloss: 0.288198\tvl's binary_logloss: 0.292242\n",
      "[600]\ttr's binary_logloss: 0.287775\tvl's binary_logloss: 0.2922\n",
      "[700]\ttr's binary_logloss: 0.28747\tvl's binary_logloss: 0.292211\n",
      "Early stopping, best iteration is:\n",
      "[629]\ttr's binary_logloss: 0.287678\tvl's binary_logloss: 0.292141\n"
     ]
    },
    {
     "name": "stderr",
     "output_type": "stream",
     "text": [
      "tune_num_leaves, val_score: 0.289396:  50%|#####     | 10/20 [00:23<00:20,  2.02s/it]"
     ]
    },
    {
     "name": "stdout",
     "output_type": "stream",
     "text": [
      "Training until validation scores don't improve for 100 rounds\n",
      "[100]\ttr's binary_logloss: 0.221833\tvl's binary_logloss: 0.292433\n",
      "Early stopping, best iteration is:\n",
      "[57]\ttr's binary_logloss: 0.243618\tvl's binary_logloss: 0.290813\n"
     ]
    },
    {
     "name": "stderr",
     "output_type": "stream",
     "text": [
      "tune_num_leaves, val_score: 0.289396:  55%|#####5    | 11/20 [00:25<00:17,  1.97s/it]"
     ]
    },
    {
     "name": "stdout",
     "output_type": "stream",
     "text": [
      "Training until validation scores don't improve for 100 rounds\n",
      "[100]\ttr's binary_logloss: 0.274655\tvl's binary_logloss: 0.289509\n",
      "[200]\ttr's binary_logloss: 0.265762\tvl's binary_logloss: 0.289386\n",
      "Early stopping, best iteration is:\n",
      "[118]\ttr's binary_logloss: 0.272821\tvl's binary_logloss: 0.289197\n"
     ]
    },
    {
     "name": "stderr",
     "output_type": "stream",
     "text": [
      "tune_num_leaves, val_score: 0.289197:  60%|######    | 12/20 [00:26<00:13,  1.72s/it]"
     ]
    },
    {
     "name": "stdout",
     "output_type": "stream",
     "text": [
      "Training until validation scores don't improve for 100 rounds\n",
      "[100]\ttr's binary_logloss: 0.213841\tvl's binary_logloss: 0.292859\n",
      "Early stopping, best iteration is:\n",
      "[48]\ttr's binary_logloss: 0.243177\tvl's binary_logloss: 0.291297\n"
     ]
    },
    {
     "name": "stderr",
     "output_type": "stream",
     "text": [
      "tune_num_leaves, val_score: 0.289197:  65%|######5   | 13/20 [00:28<00:12,  1.78s/it]"
     ]
    },
    {
     "name": "stdout",
     "output_type": "stream",
     "text": [
      "Training until validation scores don't improve for 100 rounds\n",
      "[100]\ttr's binary_logloss: 0.273318\tvl's binary_logloss: 0.28953\n",
      "Early stopping, best iteration is:\n",
      "[84]\ttr's binary_logloss: 0.275181\tvl's binary_logloss: 0.289397\n"
     ]
    },
    {
     "name": "stderr",
     "output_type": "stream",
     "text": [
      "tune_num_leaves, val_score: 0.289197:  70%|#######   | 14/20 [00:29<00:09,  1.54s/it]"
     ]
    },
    {
     "name": "stdout",
     "output_type": "stream",
     "text": [
      "Training until validation scores don't improve for 100 rounds\n",
      "[100]\ttr's binary_logloss: 0.24117\tvl's binary_logloss: 0.291353\n",
      "Early stopping, best iteration is:\n",
      "[58]\ttr's binary_logloss: 0.256194\tvl's binary_logloss: 0.290308\n"
     ]
    },
    {
     "name": "stderr",
     "output_type": "stream",
     "text": [
      "tune_num_leaves, val_score: 0.289197:  75%|#######5  | 15/20 [00:30<00:07,  1.51s/it]"
     ]
    },
    {
     "name": "stdout",
     "output_type": "stream",
     "text": [
      "Training until validation scores don't improve for 100 rounds\n",
      "[100]\ttr's binary_logloss: 0.198741\tvl's binary_logloss: 0.293066\n",
      "Early stopping, best iteration is:\n",
      "[42]\ttr's binary_logloss: 0.239266\tvl's binary_logloss: 0.290869\n"
     ]
    },
    {
     "name": "stderr",
     "output_type": "stream",
     "text": [
      "tune_num_leaves, val_score: 0.289197:  80%|########  | 16/20 [00:32<00:06,  1.72s/it]"
     ]
    },
    {
     "name": "stdout",
     "output_type": "stream",
     "text": [
      "Training until validation scores don't improve for 100 rounds\n",
      "[100]\ttr's binary_logloss: 0.254175\tvl's binary_logloss: 0.290508\n",
      "Early stopping, best iteration is:\n",
      "[64]\ttr's binary_logloss: 0.263144\tvl's binary_logloss: 0.290117\n"
     ]
    },
    {
     "name": "stderr",
     "output_type": "stream",
     "text": [
      "tune_num_leaves, val_score: 0.289197:  85%|########5 | 17/20 [00:34<00:04,  1.58s/it]"
     ]
    },
    {
     "name": "stdout",
     "output_type": "stream",
     "text": [
      "Training until validation scores don't improve for 100 rounds\n",
      "[100]\ttr's binary_logloss: 0.286383\tvl's binary_logloss: 0.290326\n",
      "[200]\ttr's binary_logloss: 0.282244\tvl's binary_logloss: 0.289527\n",
      "[300]\ttr's binary_logloss: 0.279601\tvl's binary_logloss: 0.289203\n",
      "[400]\ttr's binary_logloss: 0.276979\tvl's binary_logloss: 0.289256\n",
      "Early stopping, best iteration is:\n",
      "[332]\ttr's binary_logloss: 0.278803\tvl's binary_logloss: 0.289065\n"
     ]
    },
    {
     "name": "stderr",
     "output_type": "stream",
     "text": [
      "tune_num_leaves, val_score: 0.289065:  90%|######### | 18/20 [00:35<00:03,  1.59s/it]"
     ]
    },
    {
     "name": "stdout",
     "output_type": "stream",
     "text": [
      "Training until validation scores don't improve for 100 rounds\n",
      "[100]\ttr's binary_logloss: 0.206544\tvl's binary_logloss: 0.293718\n",
      "Early stopping, best iteration is:\n",
      "[43]\ttr's binary_logloss: 0.243233\tvl's binary_logloss: 0.291683\n"
     ]
    },
    {
     "name": "stderr",
     "output_type": "stream",
     "text": [
      "tune_num_leaves, val_score: 0.289065:  95%|#########5| 19/20 [00:37<00:01,  1.70s/it]"
     ]
    },
    {
     "name": "stdout",
     "output_type": "stream",
     "text": [
      "Training until validation scores don't improve for 100 rounds\n",
      "[100]\ttr's binary_logloss: 0.235387\tvl's binary_logloss: 0.291168\n",
      "Early stopping, best iteration is:\n",
      "[58]\ttr's binary_logloss: 0.251972\tvl's binary_logloss: 0.290495\n"
     ]
    },
    {
     "name": "stderr",
     "output_type": "stream",
     "text": [
      "tune_num_leaves, val_score: 0.289065: 100%|##########| 20/20 [00:39<00:00,  1.97s/it]\n",
      "tune_bagging_fraction_and_bagging_freq, val_score: 0.289065:   0%|          | 0/10 [00:00<?, ?it/s]"
     ]
    },
    {
     "name": "stdout",
     "output_type": "stream",
     "text": [
      "Training until validation scores don't improve for 100 rounds\n",
      "[100]\ttr's binary_logloss: 0.286857\tvl's binary_logloss: 0.290769\n",
      "[200]\ttr's binary_logloss: 0.283704\tvl's binary_logloss: 0.290116\n",
      "[300]\ttr's binary_logloss: 0.28173\tvl's binary_logloss: 0.289757\n",
      "[400]\ttr's binary_logloss: 0.28009\tvl's binary_logloss: 0.289588\n",
      "[500]\ttr's binary_logloss: 0.278555\tvl's binary_logloss: 0.289363\n",
      "[600]\ttr's binary_logloss: 0.27712\tvl's binary_logloss: 0.28918\n",
      "[700]\ttr's binary_logloss: 0.275683\tvl's binary_logloss: 0.28898\n",
      "[800]\ttr's binary_logloss: 0.274492\tvl's binary_logloss: 0.288955\n",
      "Early stopping, best iteration is:\n",
      "[765]\ttr's binary_logloss: 0.274855\tvl's binary_logloss: 0.288776\n"
     ]
    },
    {
     "name": "stderr",
     "output_type": "stream",
     "text": [
      "tune_bagging_fraction_and_bagging_freq, val_score: 0.288776:  10%|#         | 1/10 [00:03<00:29,  3.27s/it]"
     ]
    },
    {
     "name": "stdout",
     "output_type": "stream",
     "text": [
      "Training until validation scores don't improve for 100 rounds\n",
      "[100]\ttr's binary_logloss: 0.286942\tvl's binary_logloss: 0.290773\n",
      "[200]\ttr's binary_logloss: 0.283829\tvl's binary_logloss: 0.290333\n",
      "[300]\ttr's binary_logloss: 0.281752\tvl's binary_logloss: 0.289861\n",
      "[400]\ttr's binary_logloss: 0.280124\tvl's binary_logloss: 0.28961\n",
      "[500]\ttr's binary_logloss: 0.278562\tvl's binary_logloss: 0.289472\n",
      "Early stopping, best iteration is:\n",
      "[443]\ttr's binary_logloss: 0.279494\tvl's binary_logloss: 0.289291\n"
     ]
    },
    {
     "name": "stderr",
     "output_type": "stream",
     "text": [
      "tune_bagging_fraction_and_bagging_freq, val_score: 0.288776:  20%|##        | 2/10 [00:05<00:23,  2.94s/it]"
     ]
    },
    {
     "name": "stdout",
     "output_type": "stream",
     "text": [
      "Training until validation scores don't improve for 100 rounds\n",
      "[100]\ttr's binary_logloss: 0.286533\tvl's binary_logloss: 0.290296\n",
      "[200]\ttr's binary_logloss: 0.282781\tvl's binary_logloss: 0.289859\n",
      "[300]\ttr's binary_logloss: 0.280485\tvl's binary_logloss: 0.289407\n",
      "[400]\ttr's binary_logloss: 0.278409\tvl's binary_logloss: 0.289299\n",
      "[500]\ttr's binary_logloss: 0.276541\tvl's binary_logloss: 0.28921\n",
      "Early stopping, best iteration is:\n",
      "[458]\ttr's binary_logloss: 0.277283\tvl's binary_logloss: 0.289162\n"
     ]
    },
    {
     "name": "stderr",
     "output_type": "stream",
     "text": [
      "tune_bagging_fraction_and_bagging_freq, val_score: 0.288776:  30%|###       | 3/10 [00:08<00:19,  2.81s/it]"
     ]
    },
    {
     "name": "stdout",
     "output_type": "stream",
     "text": [
      "Training until validation scores don't improve for 100 rounds\n",
      "[100]\ttr's binary_logloss: 0.286584\tvl's binary_logloss: 0.290581\n",
      "[200]\ttr's binary_logloss: 0.282968\tvl's binary_logloss: 0.290195\n",
      "[300]\ttr's binary_logloss: 0.280861\tvl's binary_logloss: 0.289879\n",
      "[400]\ttr's binary_logloss: 0.278947\tvl's binary_logloss: 0.289653\n",
      "[500]\ttr's binary_logloss: 0.277255\tvl's binary_logloss: 0.289524\n",
      "Early stopping, best iteration is:\n",
      "[483]\ttr's binary_logloss: 0.27751\tvl's binary_logloss: 0.289483\n"
     ]
    },
    {
     "name": "stderr",
     "output_type": "stream",
     "text": [
      "tune_bagging_fraction_and_bagging_freq, val_score: 0.288776:  40%|####      | 4/10 [00:10<00:16,  2.68s/it]"
     ]
    },
    {
     "name": "stdout",
     "output_type": "stream",
     "text": [
      "Training until validation scores don't improve for 100 rounds\n",
      "[100]\ttr's binary_logloss: 0.28808\tvl's binary_logloss: 0.291263\n",
      "[200]\ttr's binary_logloss: 0.28509\tvl's binary_logloss: 0.290658\n",
      "[300]\ttr's binary_logloss: 0.283203\tvl's binary_logloss: 0.290448\n",
      "[400]\ttr's binary_logloss: 0.281821\tvl's binary_logloss: 0.290215\n",
      "Early stopping, best iteration is:\n",
      "[348]\ttr's binary_logloss: 0.282385\tvl's binary_logloss: 0.29006\n"
     ]
    },
    {
     "name": "stderr",
     "output_type": "stream",
     "text": [
      "tune_bagging_fraction_and_bagging_freq, val_score: 0.288776:  50%|#####     | 5/10 [00:12<00:11,  2.36s/it]"
     ]
    },
    {
     "name": "stdout",
     "output_type": "stream",
     "text": [
      "Training until validation scores don't improve for 100 rounds\n",
      "[100]\ttr's binary_logloss: 0.28669\tvl's binary_logloss: 0.290449\n",
      "[200]\ttr's binary_logloss: 0.283363\tvl's binary_logloss: 0.290094\n",
      "[300]\ttr's binary_logloss: 0.281282\tvl's binary_logloss: 0.289761\n",
      "[400]\ttr's binary_logloss: 0.279572\tvl's binary_logloss: 0.289594\n",
      "[500]\ttr's binary_logloss: 0.277863\tvl's binary_logloss: 0.289291\n",
      "[600]\ttr's binary_logloss: 0.276371\tvl's binary_logloss: 0.289314\n",
      "[700]\ttr's binary_logloss: 0.274848\tvl's binary_logloss: 0.28938\n",
      "Early stopping, best iteration is:\n",
      "[644]\ttr's binary_logloss: 0.275591\tvl's binary_logloss: 0.289217\n"
     ]
    },
    {
     "name": "stderr",
     "output_type": "stream",
     "text": [
      "tune_bagging_fraction_and_bagging_freq, val_score: 0.288776:  60%|######    | 6/10 [00:15<00:10,  2.59s/it]"
     ]
    },
    {
     "name": "stdout",
     "output_type": "stream",
     "text": [
      "Training until validation scores don't improve for 100 rounds\n",
      "[100]\ttr's binary_logloss: 0.28645\tvl's binary_logloss: 0.290244\n",
      "[200]\ttr's binary_logloss: 0.28267\tvl's binary_logloss: 0.289667\n",
      "[300]\ttr's binary_logloss: 0.28026\tvl's binary_logloss: 0.289591\n",
      "Early stopping, best iteration is:\n",
      "[283]\ttr's binary_logloss: 0.28065\tvl's binary_logloss: 0.289547\n"
     ]
    },
    {
     "name": "stderr",
     "output_type": "stream",
     "text": [
      "tune_bagging_fraction_and_bagging_freq, val_score: 0.288776:  70%|#######   | 7/10 [00:16<00:06,  2.30s/it]"
     ]
    },
    {
     "name": "stdout",
     "output_type": "stream",
     "text": [
      "Training until validation scores don't improve for 100 rounds\n",
      "[100]\ttr's binary_logloss: 0.287071\tvl's binary_logloss: 0.2909\n",
      "[200]\ttr's binary_logloss: 0.283986\tvl's binary_logloss: 0.290539\n",
      "[300]\ttr's binary_logloss: 0.281992\tvl's binary_logloss: 0.290141\n",
      "[400]\ttr's binary_logloss: 0.280657\tvl's binary_logloss: 0.289885\n",
      "[500]\ttr's binary_logloss: 0.279176\tvl's binary_logloss: 0.289512\n",
      "[600]\ttr's binary_logloss: 0.277876\tvl's binary_logloss: 0.289588\n",
      "Early stopping, best iteration is:\n",
      "[524]\ttr's binary_logloss: 0.278839\tvl's binary_logloss: 0.289314\n"
     ]
    },
    {
     "name": "stderr",
     "output_type": "stream",
     "text": [
      "tune_bagging_fraction_and_bagging_freq, val_score: 0.288776:  80%|########  | 8/10 [00:19<00:04,  2.32s/it]"
     ]
    },
    {
     "name": "stdout",
     "output_type": "stream",
     "text": [
      "Training until validation scores don't improve for 100 rounds\n",
      "[100]\ttr's binary_logloss: 0.288206\tvl's binary_logloss: 0.291399\n",
      "[200]\ttr's binary_logloss: 0.285409\tvl's binary_logloss: 0.290875\n",
      "[300]\ttr's binary_logloss: 0.283536\tvl's binary_logloss: 0.290216\n",
      "[400]\ttr's binary_logloss: 0.282204\tvl's binary_logloss: 0.290123\n",
      "Early stopping, best iteration is:\n",
      "[336]\ttr's binary_logloss: 0.28294\tvl's binary_logloss: 0.289804\n"
     ]
    },
    {
     "name": "stderr",
     "output_type": "stream",
     "text": [
      "tune_bagging_fraction_and_bagging_freq, val_score: 0.288776:  90%|######### | 9/10 [00:20<00:02,  2.07s/it]"
     ]
    },
    {
     "name": "stdout",
     "output_type": "stream",
     "text": [
      "Training until validation scores don't improve for 100 rounds\n",
      "[100]\ttr's binary_logloss: 0.286834\tvl's binary_logloss: 0.29067\n",
      "[200]\ttr's binary_logloss: 0.283715\tvl's binary_logloss: 0.290138\n",
      "[300]\ttr's binary_logloss: 0.281629\tvl's binary_logloss: 0.289798\n",
      "[400]\ttr's binary_logloss: 0.280043\tvl's binary_logloss: 0.28941\n",
      "[500]\ttr's binary_logloss: 0.278407\tvl's binary_logloss: 0.28909\n",
      "[600]\ttr's binary_logloss: 0.277088\tvl's binary_logloss: 0.289336\n",
      "[700]\ttr's binary_logloss: 0.275554\tvl's binary_logloss: 0.288791\n",
      "[800]\ttr's binary_logloss: 0.274409\tvl's binary_logloss: 0.288642\n",
      "[900]\ttr's binary_logloss: 0.273177\tvl's binary_logloss: 0.288666\n",
      "Early stopping, best iteration is:\n",
      "[810]\ttr's binary_logloss: 0.274306\tvl's binary_logloss: 0.288402\n"
     ]
    },
    {
     "name": "stderr",
     "output_type": "stream",
     "text": [
      "tune_bagging_fraction_and_bagging_freq, val_score: 0.288402: 100%|##########| 10/10 [00:24<00:00,  2.41s/it]\n",
      "tune_feature_fraction, val_score: 0.288402:   0%|          | 0/3 [00:00<?, ?it/s]"
     ]
    },
    {
     "name": "stdout",
     "output_type": "stream",
     "text": [
      "Training until validation scores don't improve for 100 rounds\n",
      "[100]\ttr's binary_logloss: 0.286834\tvl's binary_logloss: 0.29067\n",
      "[200]\ttr's binary_logloss: 0.283715\tvl's binary_logloss: 0.290138\n",
      "[300]\ttr's binary_logloss: 0.281629\tvl's binary_logloss: 0.289798\n",
      "[400]\ttr's binary_logloss: 0.280043\tvl's binary_logloss: 0.28941\n",
      "[500]\ttr's binary_logloss: 0.278407\tvl's binary_logloss: 0.28909\n",
      "[600]\ttr's binary_logloss: 0.277088\tvl's binary_logloss: 0.289336\n",
      "[700]\ttr's binary_logloss: 0.275554\tvl's binary_logloss: 0.288791\n",
      "[800]\ttr's binary_logloss: 0.274409\tvl's binary_logloss: 0.288642\n",
      "[900]\ttr's binary_logloss: 0.273177\tvl's binary_logloss: 0.288666\n",
      "Early stopping, best iteration is:\n",
      "[810]\ttr's binary_logloss: 0.274306\tvl's binary_logloss: 0.288402\n"
     ]
    },
    {
     "name": "stderr",
     "output_type": "stream",
     "text": [
      "tune_feature_fraction, val_score: 0.288402:  33%|###3      | 1/3 [00:03<00:06,  3.42s/it]"
     ]
    },
    {
     "name": "stdout",
     "output_type": "stream",
     "text": [
      "Training until validation scores don't improve for 100 rounds\n",
      "[100]\ttr's binary_logloss: 0.286922\tvl's binary_logloss: 0.290703\n",
      "[200]\ttr's binary_logloss: 0.283871\tvl's binary_logloss: 0.290263\n",
      "[300]\ttr's binary_logloss: 0.281804\tvl's binary_logloss: 0.289912\n",
      "[400]\ttr's binary_logloss: 0.28021\tvl's binary_logloss: 0.289728\n",
      "[500]\ttr's binary_logloss: 0.278626\tvl's binary_logloss: 0.289312\n",
      "[600]\ttr's binary_logloss: 0.277347\tvl's binary_logloss: 0.289731\n",
      "Early stopping, best iteration is:\n",
      "[558]\ttr's binary_logloss: 0.277849\tvl's binary_logloss: 0.289159\n"
     ]
    },
    {
     "name": "stderr",
     "output_type": "stream",
     "text": [
      "tune_feature_fraction, val_score: 0.288402:  67%|######6   | 2/3 [00:06<00:03,  3.17s/it]"
     ]
    },
    {
     "name": "stdout",
     "output_type": "stream",
     "text": [
      "Training until validation scores don't improve for 100 rounds\n",
      "[100]\ttr's binary_logloss: 0.286815\tvl's binary_logloss: 0.291076\n",
      "[200]\ttr's binary_logloss: 0.283844\tvl's binary_logloss: 0.290698\n",
      "Early stopping, best iteration is:\n",
      "[147]\ttr's binary_logloss: 0.285098\tvl's binary_logloss: 0.29066\n"
     ]
    },
    {
     "name": "stderr",
     "output_type": "stream",
     "text": [
      "tune_feature_fraction, val_score: 0.288402: 100%|##########| 3/3 [00:07<00:00,  2.38s/it]\n",
      "tune_lambda_l1_and_lambda_l2, val_score: 0.288402:   0%|          | 0/20 [00:00<?, ?it/s]"
     ]
    },
    {
     "name": "stdout",
     "output_type": "stream",
     "text": [
      "Training until validation scores don't improve for 100 rounds\n",
      "[100]\ttr's binary_logloss: 0.286834\tvl's binary_logloss: 0.29067\n",
      "[200]\ttr's binary_logloss: 0.283715\tvl's binary_logloss: 0.290138\n",
      "[300]\ttr's binary_logloss: 0.281629\tvl's binary_logloss: 0.289798\n",
      "[400]\ttr's binary_logloss: 0.280043\tvl's binary_logloss: 0.28941\n",
      "[500]\ttr's binary_logloss: 0.278407\tvl's binary_logloss: 0.28909\n",
      "[600]\ttr's binary_logloss: 0.277088\tvl's binary_logloss: 0.289336\n",
      "[700]\ttr's binary_logloss: 0.275554\tvl's binary_logloss: 0.288791\n",
      "[800]\ttr's binary_logloss: 0.274409\tvl's binary_logloss: 0.288642\n",
      "[900]\ttr's binary_logloss: 0.273177\tvl's binary_logloss: 0.288666\n",
      "Early stopping, best iteration is:\n",
      "[810]\ttr's binary_logloss: 0.274306\tvl's binary_logloss: 0.288402\n"
     ]
    },
    {
     "name": "stderr",
     "output_type": "stream",
     "text": [
      "tune_lambda_l1_and_lambda_l2, val_score: 0.288402:   5%|5         | 1/20 [00:03<01:04,  3.39s/it]"
     ]
    },
    {
     "name": "stdout",
     "output_type": "stream",
     "text": [
      "Training until validation scores don't improve for 100 rounds\n",
      "[100]\ttr's binary_logloss: 0.286835\tvl's binary_logloss: 0.29067\n",
      "[200]\ttr's binary_logloss: 0.283642\tvl's binary_logloss: 0.290236\n",
      "Early stopping, best iteration is:\n",
      "[173]\ttr's binary_logloss: 0.284207\tvl's binary_logloss: 0.290067\n"
     ]
    },
    {
     "name": "stderr",
     "output_type": "stream",
     "text": [
      "tune_lambda_l1_and_lambda_l2, val_score: 0.288402:  10%|#         | 2/20 [00:04<00:48,  2.72s/it]"
     ]
    },
    {
     "name": "stdout",
     "output_type": "stream",
     "text": [
      "Training until validation scores don't improve for 100 rounds\n",
      "[100]\ttr's binary_logloss: 0.286834\tvl's binary_logloss: 0.29067\n",
      "[200]\ttr's binary_logloss: 0.283715\tvl's binary_logloss: 0.290138\n",
      "[300]\ttr's binary_logloss: 0.281629\tvl's binary_logloss: 0.289798\n",
      "[400]\ttr's binary_logloss: 0.280043\tvl's binary_logloss: 0.28941\n",
      "[500]\ttr's binary_logloss: 0.278407\tvl's binary_logloss: 0.28909\n",
      "[600]\ttr's binary_logloss: 0.277088\tvl's binary_logloss: 0.289336\n",
      "[700]\ttr's binary_logloss: 0.275554\tvl's binary_logloss: 0.288791\n",
      "[800]\ttr's binary_logloss: 0.274409\tvl's binary_logloss: 0.288642\n",
      "[900]\ttr's binary_logloss: 0.273177\tvl's binary_logloss: 0.288666\n",
      "Early stopping, best iteration is:\n",
      "[810]\ttr's binary_logloss: 0.274306\tvl's binary_logloss: 0.288402\n"
     ]
    },
    {
     "name": "stderr",
     "output_type": "stream",
     "text": [
      "tune_lambda_l1_and_lambda_l2, val_score: 0.288402:  15%|#5        | 3/20 [00:08<00:50,  2.95s/it]"
     ]
    },
    {
     "name": "stdout",
     "output_type": "stream",
     "text": [
      "Training until validation scores don't improve for 100 rounds\n",
      "[100]\ttr's binary_logloss: 0.286835\tvl's binary_logloss: 0.29067\n",
      "[200]\ttr's binary_logloss: 0.283715\tvl's binary_logloss: 0.290138\n",
      "[300]\ttr's binary_logloss: 0.28163\tvl's binary_logloss: 0.289798\n",
      "[400]\ttr's binary_logloss: 0.280044\tvl's binary_logloss: 0.28941\n",
      "[500]\ttr's binary_logloss: 0.278409\tvl's binary_logloss: 0.289095\n",
      "[600]\ttr's binary_logloss: 0.27707\tvl's binary_logloss: 0.289367\n",
      "[700]\ttr's binary_logloss: 0.275654\tvl's binary_logloss: 0.288906\n",
      "[800]\ttr's binary_logloss: 0.274524\tvl's binary_logloss: 0.28874\n",
      "[900]\ttr's binary_logloss: 0.273305\tvl's binary_logloss: 0.28868\n",
      "Early stopping, best iteration is:\n",
      "[839]\ttr's binary_logloss: 0.27403\tvl's binary_logloss: 0.2885\n"
     ]
    },
    {
     "name": "stderr",
     "output_type": "stream",
     "text": [
      "tune_lambda_l1_and_lambda_l2, val_score: 0.288402:  20%|##        | 4/20 [00:11<00:50,  3.14s/it]"
     ]
    },
    {
     "name": "stdout",
     "output_type": "stream",
     "text": [
      "Training until validation scores don't improve for 100 rounds\n",
      "[100]\ttr's binary_logloss: 0.286835\tvl's binary_logloss: 0.29067\n",
      "[200]\ttr's binary_logloss: 0.283711\tvl's binary_logloss: 0.29017\n",
      "[300]\ttr's binary_logloss: 0.281677\tvl's binary_logloss: 0.28972\n",
      "[400]\ttr's binary_logloss: 0.280098\tvl's binary_logloss: 0.289496\n",
      "[500]\ttr's binary_logloss: 0.278457\tvl's binary_logloss: 0.289346\n",
      "[600]\ttr's binary_logloss: 0.277147\tvl's binary_logloss: 0.289679\n",
      "Early stopping, best iteration is:\n",
      "[559]\ttr's binary_logloss: 0.277679\tvl's binary_logloss: 0.2892\n"
     ]
    },
    {
     "name": "stderr",
     "output_type": "stream",
     "text": [
      "tune_lambda_l1_and_lambda_l2, val_score: 0.288402:  25%|##5       | 5/20 [00:14<00:44,  2.96s/it]"
     ]
    },
    {
     "name": "stdout",
     "output_type": "stream",
     "text": [
      "Training until validation scores don't improve for 100 rounds\n",
      "[100]\ttr's binary_logloss: 0.286878\tvl's binary_logloss: 0.290625\n",
      "[200]\ttr's binary_logloss: 0.283651\tvl's binary_logloss: 0.290173\n",
      "[300]\ttr's binary_logloss: 0.28167\tvl's binary_logloss: 0.289848\n",
      "[400]\ttr's binary_logloss: 0.280107\tvl's binary_logloss: 0.289648\n",
      "[500]\ttr's binary_logloss: 0.278456\tvl's binary_logloss: 0.289369\n",
      "[600]\ttr's binary_logloss: 0.277082\tvl's binary_logloss: 0.289502\n",
      "[700]\ttr's binary_logloss: 0.275654\tvl's binary_logloss: 0.289181\n",
      "Early stopping, best iteration is:\n",
      "[675]\ttr's binary_logloss: 0.276018\tvl's binary_logloss: 0.289066\n"
     ]
    },
    {
     "name": "stderr",
     "output_type": "stream",
     "text": [
      "tune_lambda_l1_and_lambda_l2, val_score: 0.288402:  30%|###       | 6/20 [00:17<00:41,  2.97s/it]"
     ]
    },
    {
     "name": "stdout",
     "output_type": "stream",
     "text": [
      "Training until validation scores don't improve for 100 rounds\n",
      "[100]\ttr's binary_logloss: 0.286973\tvl's binary_logloss: 0.290584\n",
      "[200]\ttr's binary_logloss: 0.28391\tvl's binary_logloss: 0.290064\n",
      "Early stopping, best iteration is:\n",
      "[185]\ttr's binary_logloss: 0.284185\tvl's binary_logloss: 0.289912\n"
     ]
    },
    {
     "name": "stderr",
     "output_type": "stream",
     "text": [
      "tune_lambda_l1_and_lambda_l2, val_score: 0.288402:  35%|###5      | 7/20 [00:18<00:31,  2.43s/it]"
     ]
    },
    {
     "name": "stdout",
     "output_type": "stream",
     "text": [
      "Training until validation scores don't improve for 100 rounds\n",
      "[100]\ttr's binary_logloss: 0.286835\tvl's binary_logloss: 0.29067\n",
      "[200]\ttr's binary_logloss: 0.283604\tvl's binary_logloss: 0.28999\n",
      "[300]\ttr's binary_logloss: 0.281625\tvl's binary_logloss: 0.289584\n",
      "[400]\ttr's binary_logloss: 0.28007\tvl's binary_logloss: 0.289304\n",
      "[500]\ttr's binary_logloss: 0.278512\tvl's binary_logloss: 0.289196\n",
      "Early stopping, best iteration is:\n",
      "[481]\ttr's binary_logloss: 0.278714\tvl's binary_logloss: 0.289101\n"
     ]
    },
    {
     "name": "stderr",
     "output_type": "stream",
     "text": [
      "tune_lambda_l1_and_lambda_l2, val_score: 0.288402:  40%|####      | 8/20 [00:20<00:28,  2.40s/it]"
     ]
    },
    {
     "name": "stdout",
     "output_type": "stream",
     "text": [
      "Training until validation scores don't improve for 100 rounds\n",
      "[100]\ttr's binary_logloss: 0.286834\tvl's binary_logloss: 0.29067\n",
      "[200]\ttr's binary_logloss: 0.283715\tvl's binary_logloss: 0.290138\n",
      "[300]\ttr's binary_logloss: 0.281629\tvl's binary_logloss: 0.289798\n",
      "[400]\ttr's binary_logloss: 0.280043\tvl's binary_logloss: 0.28941\n",
      "[500]\ttr's binary_logloss: 0.278407\tvl's binary_logloss: 0.28909\n",
      "[600]\ttr's binary_logloss: 0.277088\tvl's binary_logloss: 0.289336\n",
      "[700]\ttr's binary_logloss: 0.275554\tvl's binary_logloss: 0.288791\n",
      "[800]\ttr's binary_logloss: 0.274409\tvl's binary_logloss: 0.288642\n",
      "[900]\ttr's binary_logloss: 0.273177\tvl's binary_logloss: 0.288666\n",
      "Early stopping, best iteration is:\n",
      "[810]\ttr's binary_logloss: 0.274306\tvl's binary_logloss: 0.288402\n"
     ]
    },
    {
     "name": "stderr",
     "output_type": "stream",
     "text": [
      "tune_lambda_l1_and_lambda_l2, val_score: 0.288402:  45%|####5     | 9/20 [00:24<00:29,  2.72s/it]"
     ]
    },
    {
     "name": "stdout",
     "output_type": "stream",
     "text": [
      "Training until validation scores don't improve for 100 rounds\n",
      "[100]\ttr's binary_logloss: 0.286834\tvl's binary_logloss: 0.29067\n",
      "[200]\ttr's binary_logloss: 0.283715\tvl's binary_logloss: 0.290138\n",
      "[300]\ttr's binary_logloss: 0.281629\tvl's binary_logloss: 0.289798\n",
      "[400]\ttr's binary_logloss: 0.280043\tvl's binary_logloss: 0.28941\n",
      "[500]\ttr's binary_logloss: 0.278407\tvl's binary_logloss: 0.28909\n",
      "[600]\ttr's binary_logloss: 0.277088\tvl's binary_logloss: 0.289336\n",
      "[700]\ttr's binary_logloss: 0.275554\tvl's binary_logloss: 0.288791\n",
      "[800]\ttr's binary_logloss: 0.274409\tvl's binary_logloss: 0.288642\n",
      "[900]\ttr's binary_logloss: 0.273177\tvl's binary_logloss: 0.288666\n",
      "Early stopping, best iteration is:\n",
      "[810]\ttr's binary_logloss: 0.274306\tvl's binary_logloss: 0.288402\n"
     ]
    },
    {
     "name": "stderr",
     "output_type": "stream",
     "text": [
      "tune_lambda_l1_and_lambda_l2, val_score: 0.288402:  50%|#####     | 10/20 [00:27<00:29,  2.95s/it]"
     ]
    },
    {
     "name": "stdout",
     "output_type": "stream",
     "text": [
      "Training until validation scores don't improve for 100 rounds\n",
      "[100]\ttr's binary_logloss: 0.286834\tvl's binary_logloss: 0.29067\n",
      "[200]\ttr's binary_logloss: 0.283715\tvl's binary_logloss: 0.290138\n",
      "[300]\ttr's binary_logloss: 0.281629\tvl's binary_logloss: 0.289798\n",
      "[400]\ttr's binary_logloss: 0.280043\tvl's binary_logloss: 0.28941\n",
      "[500]\ttr's binary_logloss: 0.278407\tvl's binary_logloss: 0.28909\n",
      "[600]\ttr's binary_logloss: 0.277088\tvl's binary_logloss: 0.289336\n",
      "[700]\ttr's binary_logloss: 0.275554\tvl's binary_logloss: 0.288791\n",
      "[800]\ttr's binary_logloss: 0.274409\tvl's binary_logloss: 0.288642\n",
      "[900]\ttr's binary_logloss: 0.273177\tvl's binary_logloss: 0.288666\n",
      "Early stopping, best iteration is:\n",
      "[810]\ttr's binary_logloss: 0.274306\tvl's binary_logloss: 0.288402\n"
     ]
    },
    {
     "name": "stderr",
     "output_type": "stream",
     "text": [
      "tune_lambda_l1_and_lambda_l2, val_score: 0.288402:  55%|#####5    | 11/20 [00:31<00:28,  3.12s/it]"
     ]
    },
    {
     "name": "stdout",
     "output_type": "stream",
     "text": [
      "Training until validation scores don't improve for 100 rounds\n",
      "[100]\ttr's binary_logloss: 0.286834\tvl's binary_logloss: 0.29067\n",
      "[200]\ttr's binary_logloss: 0.283715\tvl's binary_logloss: 0.290138\n",
      "[300]\ttr's binary_logloss: 0.281629\tvl's binary_logloss: 0.289798\n",
      "[400]\ttr's binary_logloss: 0.280043\tvl's binary_logloss: 0.28941\n",
      "[500]\ttr's binary_logloss: 0.278407\tvl's binary_logloss: 0.28909\n",
      "[600]\ttr's binary_logloss: 0.277088\tvl's binary_logloss: 0.289336\n",
      "[700]\ttr's binary_logloss: 0.275554\tvl's binary_logloss: 0.288791\n",
      "[800]\ttr's binary_logloss: 0.274409\tvl's binary_logloss: 0.288642\n",
      "[900]\ttr's binary_logloss: 0.273177\tvl's binary_logloss: 0.288666\n",
      "Early stopping, best iteration is:\n",
      "[810]\ttr's binary_logloss: 0.274306\tvl's binary_logloss: 0.288402\n"
     ]
    },
    {
     "name": "stderr",
     "output_type": "stream",
     "text": [
      "tune_lambda_l1_and_lambda_l2, val_score: 0.288402:  60%|######    | 12/20 [00:34<00:26,  3.26s/it]"
     ]
    },
    {
     "name": "stdout",
     "output_type": "stream",
     "text": [
      "Training until validation scores don't improve for 100 rounds\n",
      "[100]\ttr's binary_logloss: 0.286834\tvl's binary_logloss: 0.29067\n",
      "[200]\ttr's binary_logloss: 0.283715\tvl's binary_logloss: 0.290138\n",
      "[300]\ttr's binary_logloss: 0.281629\tvl's binary_logloss: 0.289798\n",
      "[400]\ttr's binary_logloss: 0.280043\tvl's binary_logloss: 0.28941\n",
      "[500]\ttr's binary_logloss: 0.278409\tvl's binary_logloss: 0.289095\n",
      "[600]\ttr's binary_logloss: 0.277069\tvl's binary_logloss: 0.289367\n",
      "[700]\ttr's binary_logloss: 0.275645\tvl's binary_logloss: 0.288952\n",
      "[800]\ttr's binary_logloss: 0.27451\tvl's binary_logloss: 0.288923\n",
      "[900]\ttr's binary_logloss: 0.27327\tvl's binary_logloss: 0.28887\n",
      "Early stopping, best iteration is:\n",
      "[810]\ttr's binary_logloss: 0.274382\tvl's binary_logloss: 0.288675\n"
     ]
    },
    {
     "name": "stderr",
     "output_type": "stream",
     "text": [
      "tune_lambda_l1_and_lambda_l2, val_score: 0.288402:  65%|######5   | 13/20 [00:38<00:23,  3.35s/it]"
     ]
    },
    {
     "name": "stdout",
     "output_type": "stream",
     "text": [
      "Training until validation scores don't improve for 100 rounds\n",
      "[100]\ttr's binary_logloss: 0.286835\tvl's binary_logloss: 0.29067\n",
      "[200]\ttr's binary_logloss: 0.283715\tvl's binary_logloss: 0.290138\n",
      "[300]\ttr's binary_logloss: 0.28163\tvl's binary_logloss: 0.289798\n",
      "[400]\ttr's binary_logloss: 0.280044\tvl's binary_logloss: 0.28941\n",
      "[500]\ttr's binary_logloss: 0.278409\tvl's binary_logloss: 0.289095\n",
      "[600]\ttr's binary_logloss: 0.27707\tvl's binary_logloss: 0.289367\n",
      "[700]\ttr's binary_logloss: 0.275654\tvl's binary_logloss: 0.288906\n",
      "[800]\ttr's binary_logloss: 0.274515\tvl's binary_logloss: 0.288773\n",
      "[900]\ttr's binary_logloss: 0.273284\tvl's binary_logloss: 0.288685\n",
      "Early stopping, best iteration is:\n",
      "[810]\ttr's binary_logloss: 0.274397\tvl's binary_logloss: 0.288508\n"
     ]
    },
    {
     "name": "stderr",
     "output_type": "stream",
     "text": [
      "tune_lambda_l1_and_lambda_l2, val_score: 0.288402:  70%|#######   | 14/20 [00:41<00:20,  3.38s/it]"
     ]
    },
    {
     "name": "stdout",
     "output_type": "stream",
     "text": [
      "Training until validation scores don't improve for 100 rounds\n",
      "[100]\ttr's binary_logloss: 0.286834\tvl's binary_logloss: 0.29067\n",
      "[200]\ttr's binary_logloss: 0.283715\tvl's binary_logloss: 0.290138\n",
      "[300]\ttr's binary_logloss: 0.281629\tvl's binary_logloss: 0.289798\n",
      "[400]\ttr's binary_logloss: 0.280043\tvl's binary_logloss: 0.28941\n",
      "[500]\ttr's binary_logloss: 0.278407\tvl's binary_logloss: 0.28909\n",
      "[600]\ttr's binary_logloss: 0.277088\tvl's binary_logloss: 0.289336\n",
      "[700]\ttr's binary_logloss: 0.275554\tvl's binary_logloss: 0.288791\n",
      "[800]\ttr's binary_logloss: 0.274409\tvl's binary_logloss: 0.288642\n",
      "[900]\ttr's binary_logloss: 0.273177\tvl's binary_logloss: 0.288666\n",
      "Early stopping, best iteration is:\n",
      "[810]\ttr's binary_logloss: 0.274306\tvl's binary_logloss: 0.288402\n"
     ]
    },
    {
     "name": "stderr",
     "output_type": "stream",
     "text": [
      "tune_lambda_l1_and_lambda_l2, val_score: 0.288402:  75%|#######5  | 15/20 [00:45<00:17,  3.40s/it]"
     ]
    },
    {
     "name": "stdout",
     "output_type": "stream",
     "text": [
      "Training until validation scores don't improve for 100 rounds\n",
      "[100]\ttr's binary_logloss: 0.287205\tvl's binary_logloss: 0.290628\n",
      "[200]\ttr's binary_logloss: 0.284206\tvl's binary_logloss: 0.290113\n",
      "Early stopping, best iteration is:\n",
      "[181]\ttr's binary_logloss: 0.284523\tvl's binary_logloss: 0.289903\n"
     ]
    },
    {
     "name": "stderr",
     "output_type": "stream",
     "text": [
      "tune_lambda_l1_and_lambda_l2, val_score: 0.288402:  80%|########  | 16/20 [00:46<00:10,  2.75s/it]"
     ]
    },
    {
     "name": "stdout",
     "output_type": "stream",
     "text": [
      "Training until validation scores don't improve for 100 rounds\n",
      "[100]\ttr's binary_logloss: 0.287198\tvl's binary_logloss: 0.290521\n",
      "[200]\ttr's binary_logloss: 0.284235\tvl's binary_logloss: 0.290007\n",
      "[300]\ttr's binary_logloss: 0.28248\tvl's binary_logloss: 0.289614\n",
      "[400]\ttr's binary_logloss: 0.2811\tvl's binary_logloss: 0.289248\n",
      "[500]\ttr's binary_logloss: 0.279872\tvl's binary_logloss: 0.289196\n",
      "[600]\ttr's binary_logloss: 0.278828\tvl's binary_logloss: 0.289378\n",
      "[700]\ttr's binary_logloss: 0.277656\tvl's binary_logloss: 0.288897\n",
      "[800]\ttr's binary_logloss: 0.276818\tvl's binary_logloss: 0.288775\n",
      "[900]\ttr's binary_logloss: 0.275819\tvl's binary_logloss: 0.288748\n",
      "Early stopping, best iteration is:\n",
      "[810]\ttr's binary_logloss: 0.276747\tvl's binary_logloss: 0.288571\n"
     ]
    },
    {
     "name": "stderr",
     "output_type": "stream",
     "text": [
      "tune_lambda_l1_and_lambda_l2, val_score: 0.288402:  85%|########5 | 17/20 [00:49<00:08,  2.99s/it]"
     ]
    },
    {
     "name": "stdout",
     "output_type": "stream",
     "text": [
      "Training until validation scores don't improve for 100 rounds\n",
      "[100]\ttr's binary_logloss: 0.286835\tvl's binary_logloss: 0.29067\n",
      "[200]\ttr's binary_logloss: 0.283715\tvl's binary_logloss: 0.290138\n",
      "[300]\ttr's binary_logloss: 0.28163\tvl's binary_logloss: 0.289798\n",
      "[400]\ttr's binary_logloss: 0.280043\tvl's binary_logloss: 0.28941\n",
      "[500]\ttr's binary_logloss: 0.278409\tvl's binary_logloss: 0.289095\n",
      "[600]\ttr's binary_logloss: 0.277069\tvl's binary_logloss: 0.289367\n",
      "[700]\ttr's binary_logloss: 0.275645\tvl's binary_logloss: 0.288952\n",
      "[800]\ttr's binary_logloss: 0.27451\tvl's binary_logloss: 0.288923\n",
      "[900]\ttr's binary_logloss: 0.27327\tvl's binary_logloss: 0.28887\n",
      "Early stopping, best iteration is:\n",
      "[810]\ttr's binary_logloss: 0.274382\tvl's binary_logloss: 0.288675\n"
     ]
    },
    {
     "name": "stderr",
     "output_type": "stream",
     "text": [
      "tune_lambda_l1_and_lambda_l2, val_score: 0.288402:  90%|######### | 18/20 [00:53<00:06,  3.13s/it]"
     ]
    },
    {
     "name": "stdout",
     "output_type": "stream",
     "text": [
      "Training until validation scores don't improve for 100 rounds\n",
      "[100]\ttr's binary_logloss: 0.286857\tvl's binary_logloss: 0.290502\n",
      "[200]\ttr's binary_logloss: 0.283718\tvl's binary_logloss: 0.290148\n",
      "[300]\ttr's binary_logloss: 0.281732\tvl's binary_logloss: 0.289831\n",
      "[400]\ttr's binary_logloss: 0.280231\tvl's binary_logloss: 0.289504\n",
      "[500]\ttr's binary_logloss: 0.278724\tvl's binary_logloss: 0.289554\n",
      "Early stopping, best iteration is:\n",
      "[480]\ttr's binary_logloss: 0.278941\tvl's binary_logloss: 0.289388\n"
     ]
    },
    {
     "name": "stderr",
     "output_type": "stream",
     "text": [
      "tune_lambda_l1_and_lambda_l2, val_score: 0.288402:  95%|#########5| 19/20 [00:55<00:02,  2.88s/it]"
     ]
    },
    {
     "name": "stdout",
     "output_type": "stream",
     "text": [
      "Training until validation scores don't improve for 100 rounds\n",
      "[100]\ttr's binary_logloss: 0.286834\tvl's binary_logloss: 0.29067\n",
      "[200]\ttr's binary_logloss: 0.283715\tvl's binary_logloss: 0.290138\n",
      "[300]\ttr's binary_logloss: 0.281629\tvl's binary_logloss: 0.289798\n",
      "[400]\ttr's binary_logloss: 0.280043\tvl's binary_logloss: 0.28941\n",
      "[500]\ttr's binary_logloss: 0.278407\tvl's binary_logloss: 0.28909\n",
      "[600]\ttr's binary_logloss: 0.277088\tvl's binary_logloss: 0.289336\n",
      "[700]\ttr's binary_logloss: 0.275554\tvl's binary_logloss: 0.288791\n",
      "[800]\ttr's binary_logloss: 0.274409\tvl's binary_logloss: 0.288642\n",
      "[900]\ttr's binary_logloss: 0.273177\tvl's binary_logloss: 0.288666\n",
      "Early stopping, best iteration is:\n",
      "[810]\ttr's binary_logloss: 0.274306\tvl's binary_logloss: 0.288402\n"
     ]
    },
    {
     "name": "stderr",
     "output_type": "stream",
     "text": [
      "tune_lambda_l1_and_lambda_l2, val_score: 0.288402: 100%|##########| 20/20 [00:59<00:00,  2.96s/it]\n",
      "tune_min_child_samples, val_score: 0.288402:   0%|          | 0/5 [00:00<?, ?it/s]"
     ]
    },
    {
     "name": "stdout",
     "output_type": "stream",
     "text": [
      "Training until validation scores don't improve for 100 rounds\n",
      "[100]\ttr's binary_logloss: 0.286835\tvl's binary_logloss: 0.290691\n",
      "[200]\ttr's binary_logloss: 0.283681\tvl's binary_logloss: 0.290349\n",
      "Early stopping, best iteration is:\n",
      "[148]\ttr's binary_logloss: 0.285044\tvl's binary_logloss: 0.290172\n"
     ]
    },
    {
     "name": "stderr",
     "output_type": "stream",
     "text": [
      "tune_min_child_samples, val_score: 0.288402:  20%|##        | 1/5 [00:01<00:03,  1.03it/s]"
     ]
    },
    {
     "name": "stdout",
     "output_type": "stream",
     "text": [
      "Training until validation scores don't improve for 100 rounds\n",
      "[100]\ttr's binary_logloss: 0.286835\tvl's binary_logloss: 0.290691\n",
      "[200]\ttr's binary_logloss: 0.283638\tvl's binary_logloss: 0.290133\n",
      "[300]\ttr's binary_logloss: 0.281505\tvl's binary_logloss: 0.289727\n",
      "[400]\ttr's binary_logloss: 0.279942\tvl's binary_logloss: 0.289423\n",
      "[500]\ttr's binary_logloss: 0.278257\tvl's binary_logloss: 0.289218\n",
      "[600]\ttr's binary_logloss: 0.27695\tvl's binary_logloss: 0.289568\n",
      "Early stopping, best iteration is:\n",
      "[555]\ttr's binary_logloss: 0.277559\tvl's binary_logloss: 0.28904\n"
     ]
    },
    {
     "name": "stderr",
     "output_type": "stream",
     "text": [
      "tune_min_child_samples, val_score: 0.288402:  40%|####      | 2/5 [00:03<00:04,  1.42s/it]"
     ]
    },
    {
     "name": "stdout",
     "output_type": "stream",
     "text": [
      "Training until validation scores don't improve for 100 rounds\n",
      "[100]\ttr's binary_logloss: 0.286829\tvl's binary_logloss: 0.290626\n",
      "[200]\ttr's binary_logloss: 0.283673\tvl's binary_logloss: 0.290119\n",
      "[300]\ttr's binary_logloss: 0.281637\tvl's binary_logloss: 0.289715\n",
      "[400]\ttr's binary_logloss: 0.28007\tvl's binary_logloss: 0.289372\n",
      "[500]\ttr's binary_logloss: 0.278476\tvl's binary_logloss: 0.289159\n",
      "[600]\ttr's binary_logloss: 0.277168\tvl's binary_logloss: 0.289521\n",
      "Early stopping, best iteration is:\n",
      "[559]\ttr's binary_logloss: 0.277621\tvl's binary_logloss: 0.289068\n"
     ]
    },
    {
     "name": "stderr",
     "output_type": "stream",
     "text": [
      "tune_min_child_samples, val_score: 0.288402:  60%|######    | 3/5 [00:06<00:03,  1.75s/it]"
     ]
    },
    {
     "name": "stdout",
     "output_type": "stream",
     "text": [
      "Training until validation scores don't improve for 100 rounds\n",
      "[100]\ttr's binary_logloss: 0.286829\tvl's binary_logloss: 0.290626\n",
      "[200]\ttr's binary_logloss: 0.283773\tvl's binary_logloss: 0.290249\n",
      "[300]\ttr's binary_logloss: 0.28187\tvl's binary_logloss: 0.28994\n",
      "[400]\ttr's binary_logloss: 0.280443\tvl's binary_logloss: 0.289565\n",
      "[500]\ttr's binary_logloss: 0.278903\tvl's binary_logloss: 0.289426\n",
      "[600]\ttr's binary_logloss: 0.277639\tvl's binary_logloss: 0.289626\n",
      "[700]\ttr's binary_logloss: 0.276233\tvl's binary_logloss: 0.289112\n",
      "[800]\ttr's binary_logloss: 0.275196\tvl's binary_logloss: 0.288908\n",
      "[900]\ttr's binary_logloss: 0.274072\tvl's binary_logloss: 0.28879\n",
      "[1000]\ttr's binary_logloss: 0.272959\tvl's binary_logloss: 0.288965\n",
      "Early stopping, best iteration is:\n",
      "[941]\ttr's binary_logloss: 0.273562\tvl's binary_logloss: 0.288621\n"
     ]
    },
    {
     "name": "stderr",
     "output_type": "stream",
     "text": [
      "tune_min_child_samples, val_score: 0.288402:  80%|########  | 4/5 [00:09<00:02,  2.40s/it]"
     ]
    },
    {
     "name": "stdout",
     "output_type": "stream",
     "text": [
      "Training until validation scores don't improve for 100 rounds\n",
      "[100]\ttr's binary_logloss: 0.286877\tvl's binary_logloss: 0.290592\n",
      "[200]\ttr's binary_logloss: 0.28386\tvl's binary_logloss: 0.290233\n",
      "[300]\ttr's binary_logloss: 0.281889\tvl's binary_logloss: 0.289843\n",
      "[400]\ttr's binary_logloss: 0.280372\tvl's binary_logloss: 0.289506\n",
      "[500]\ttr's binary_logloss: 0.278898\tvl's binary_logloss: 0.289338\n",
      "[600]\ttr's binary_logloss: 0.27783\tvl's binary_logloss: 0.289742\n",
      "Early stopping, best iteration is:\n",
      "[559]\ttr's binary_logloss: 0.278274\tvl's binary_logloss: 0.28923\n"
     ]
    },
    {
     "name": "stderr",
     "output_type": "stream",
     "text": [
      "tune_min_child_samples, val_score: 0.288402: 100%|##########| 5/5 [00:12<00:00,  2.50s/it]\n"
     ]
    },
    {
     "name": "stdout",
     "output_type": "stream",
     "text": [
      "CPU times: user 16min 59s, sys: 22min 12s, total: 39min 12s\n",
      "Wall time: 2min 31s\n"
     ]
    }
   ],
   "source": [
    "%%time\n",
    "dtr = lgb.Dataset(dftr[cols_feat], label=dftr[TCOL])\n",
    "dvl = lgb.Dataset(dfvl[cols_feat], label=dfvl[TCOL])\n",
    "best_params, tuning_history = {}, []\n",
    "evalres = {}\n",
    "evallist = [(dtr, 'train'), (dvl, 'eval')]\n",
    "bst = lgb.train(params=params, \n",
    "                train_set=dtr, \n",
    "                num_boost_round=50000,\n",
    "                valid_sets=[dtr, dvl],\n",
    "                valid_names=['tr','vl'],\n",
    "                best_params=best_params,\n",
    "                tuning_history=tuning_history,\n",
    "                verbose_eval=100,\n",
    "                early_stopping_rounds=100,\n",
    "                evals_result=evalres,\n",
    "               )\n",
    "results['bst'] = bst\n",
    "results['evalres'] = evalres\n",
    "results['best_params']=best_params\n",
    "results['tuning_history']=tuning_history"
   ]
  },
  {
   "cell_type": "code",
   "execution_count": 21,
   "metadata": {},
   "outputs": [
    {
     "data": {
      "text/plain": [
       "{'lambda_l1': 1.0305608608032335e-08,\n",
       " 'lambda_l2': 6.548022922829412e-05,\n",
       " 'num_leaves': 4,\n",
       " 'feature_fraction': 0.4,\n",
       " 'bagging_fraction': 0.7534362944443258,\n",
       " 'bagging_freq': 5,\n",
       " 'min_child_samples': 20}"
      ]
     },
     "execution_count": 21,
     "metadata": {},
     "output_type": "execute_result"
    }
   ],
   "source": [
    "best_params"
   ]
  },
  {
   "cell_type": "markdown",
   "metadata": {},
   "source": [
    "## tr vl trajec"
   ]
  },
  {
   "cell_type": "code",
   "execution_count": 22,
   "metadata": {
    "scrolled": true
   },
   "outputs": [
    {
     "data": {
      "image/png": "[encoded data removed]",
      "text/plain": [
       "<Figure size 432x288 with 1 Axes>"
      ]
     },
     "metadata": {
      "needs_background": "light"
     },
     "output_type": "display_data"
    }
   ],
   "source": [
    "plt.plot(evalres['tr']['binary_logloss'])\n",
    "plt.plot(evalres['vl']['binary_logloss'])\n",
    "plt.title(f\"logloss; best_iteration {bst.best_iteration}\")\n",
    "plt.show()"
   ]
  },
  {
   "cell_type": "markdown",
   "metadata": {},
   "source": [
    "## model features"
   ]
  },
  {
   "cell_type": "code",
   "execution_count": 23,
   "metadata": {},
   "outputs": [
    {
     "data": {
      "image/png": "[encoded data removed]",
      "text/plain": [
       "<Figure size 720x1080 with 1 Axes>"
      ]
     },
     "metadata": {
      "needs_background": "light"
     },
     "output_type": "display_data"
    }
   ],
   "source": [
    "ax = lgb.plot_importance(bst, height=0.8, max_num_features=50, figsize=(10,15))\n",
    "ax.grid(False, axis=\"y\")\n",
    "ax.set_title(f'Estimated feature importance')\n",
    "plt.show()"
   ]
  },
  {
   "cell_type": "code",
   "execution_count": 24,
   "metadata": {
    "scrolled": false
   },
   "outputs": [
    {
     "data": {
      "text/html": [
       "<div>\n",
       "<style scoped>\n",
       "    .dataframe tbody tr th:only-of-type {\n",
       "        vertical-align: middle;\n",
       "    }\n",
       "\n",
       "    .dataframe tbody tr th {\n",
       "        vertical-align: top;\n",
       "    }\n",
       "\n",
       "    .dataframe thead th {\n",
       "        text-align: right;\n",
       "    }\n",
       "</style>\n",
       "<table border=\"1\" class=\"dataframe\">\n",
       "  <thead>\n",
       "    <tr style=\"text-align: right;\">\n",
       "      <th></th>\n",
       "      <th>0</th>\n",
       "      <th>1</th>\n",
       "    </tr>\n",
       "  </thead>\n",
       "  <tbody>\n",
       "    <tr>\n",
       "      <th>26</th>\n",
       "      <td>langhour</td>\n",
       "      <td>796</td>\n",
       "    </tr>\n",
       "    <tr>\n",
       "      <th>1</th>\n",
       "      <td>lang</td>\n",
       "      <td>185</td>\n",
       "    </tr>\n",
       "    <tr>\n",
       "      <th>3</th>\n",
       "      <td>u1_fllwing_cnt</td>\n",
       "      <td>121</td>\n",
       "    </tr>\n",
       "    <tr>\n",
       "      <th>25</th>\n",
       "      <td>u1_fllwng_cnt_by_age</td>\n",
       "      <td>114</td>\n",
       "    </tr>\n",
       "    <tr>\n",
       "      <th>5</th>\n",
       "      <td>u2_fllwer_cnt</td>\n",
       "      <td>100</td>\n",
       "    </tr>\n",
       "    <tr>\n",
       "      <th>24</th>\n",
       "      <td>u1_fllwer_cnt_by_age</td>\n",
       "      <td>95</td>\n",
       "    </tr>\n",
       "    <tr>\n",
       "      <th>2</th>\n",
       "      <td>u1_fllwer_cnt</td>\n",
       "      <td>93</td>\n",
       "    </tr>\n",
       "    <tr>\n",
       "      <th>9</th>\n",
       "      <td>len_toks</td>\n",
       "      <td>90</td>\n",
       "    </tr>\n",
       "    <tr>\n",
       "      <th>21</th>\n",
       "      <td>twt_age</td>\n",
       "      <td>89</td>\n",
       "    </tr>\n",
       "    <tr>\n",
       "      <th>6</th>\n",
       "      <td>u2_fllwng_cnt</td>\n",
       "      <td>89</td>\n",
       "    </tr>\n",
       "    <tr>\n",
       "      <th>23</th>\n",
       "      <td>u2_age</td>\n",
       "      <td>88</td>\n",
       "    </tr>\n",
       "    <tr>\n",
       "      <th>20</th>\n",
       "      <td>tmdlta_twtu2</td>\n",
       "      <td>80</td>\n",
       "    </tr>\n",
       "    <tr>\n",
       "      <th>18</th>\n",
       "      <td>tmdlta_u2u1</td>\n",
       "      <td>77</td>\n",
       "    </tr>\n",
       "    <tr>\n",
       "      <th>0</th>\n",
       "      <td>twttyp</td>\n",
       "      <td>68</td>\n",
       "    </tr>\n",
       "    <tr>\n",
       "      <th>22</th>\n",
       "      <td>u1_age</td>\n",
       "      <td>63</td>\n",
       "    </tr>\n",
       "    <tr>\n",
       "      <th>19</th>\n",
       "      <td>tmdlta_twtu1</td>\n",
       "      <td>61</td>\n",
       "    </tr>\n",
       "    <tr>\n",
       "      <th>27</th>\n",
       "      <td>sumfrq_hshtgs</td>\n",
       "      <td>36</td>\n",
       "    </tr>\n",
       "    <tr>\n",
       "      <th>28</th>\n",
       "      <td>tgtenc_lang</td>\n",
       "      <td>33</td>\n",
       "    </tr>\n",
       "    <tr>\n",
       "      <th>15</th>\n",
       "      <td>n_domns</td>\n",
       "      <td>26</td>\n",
       "    </tr>\n",
       "    <tr>\n",
       "      <th>13</th>\n",
       "      <td>n_hshtgs</td>\n",
       "      <td>24</td>\n",
       "    </tr>\n",
       "    <tr>\n",
       "      <th>14</th>\n",
       "      <td>n_media</td>\n",
       "      <td>24</td>\n",
       "    </tr>\n",
       "    <tr>\n",
       "      <th>8</th>\n",
       "      <td>u1_fllw_u2</td>\n",
       "      <td>21</td>\n",
       "    </tr>\n",
       "    <tr>\n",
       "      <th>17</th>\n",
       "      <td>hour</td>\n",
       "      <td>12</td>\n",
       "    </tr>\n",
       "    <tr>\n",
       "      <th>16</th>\n",
       "      <td>dayofweek</td>\n",
       "      <td>12</td>\n",
       "    </tr>\n",
       "    <tr>\n",
       "      <th>10</th>\n",
       "      <td>n_media_Photo</td>\n",
       "      <td>11</td>\n",
       "    </tr>\n",
       "    <tr>\n",
       "      <th>4</th>\n",
       "      <td>u1_vrfed</td>\n",
       "      <td>10</td>\n",
       "    </tr>\n",
       "    <tr>\n",
       "      <th>11</th>\n",
       "      <td>n_media_Video</td>\n",
       "      <td>8</td>\n",
       "    </tr>\n",
       "    <tr>\n",
       "      <th>12</th>\n",
       "      <td>n_media_GIF</td>\n",
       "      <td>3</td>\n",
       "    </tr>\n",
       "    <tr>\n",
       "      <th>7</th>\n",
       "      <td>u2_vrfed</td>\n",
       "      <td>1</td>\n",
       "    </tr>\n",
       "  </tbody>\n",
       "</table>\n",
       "</div>"
      ],
      "text/plain": [
       "                       0    1\n",
       "26              langhour  796\n",
       "1                   lang  185\n",
       "3         u1_fllwing_cnt  121\n",
       "25  u1_fllwng_cnt_by_age  114\n",
       "5          u2_fllwer_cnt  100\n",
       "24  u1_fllwer_cnt_by_age   95\n",
       "2          u1_fllwer_cnt   93\n",
       "9               len_toks   90\n",
       "21               twt_age   89\n",
       "6          u2_fllwng_cnt   89\n",
       "23                u2_age   88\n",
       "20          tmdlta_twtu2   80\n",
       "18           tmdlta_u2u1   77\n",
       "0                 twttyp   68\n",
       "22                u1_age   63\n",
       "19          tmdlta_twtu1   61\n",
       "27         sumfrq_hshtgs   36\n",
       "28           tgtenc_lang   33\n",
       "15               n_domns   26\n",
       "13              n_hshtgs   24\n",
       "14               n_media   24\n",
       "8             u1_fllw_u2   21\n",
       "17                  hour   12\n",
       "16             dayofweek   12\n",
       "10         n_media_Photo   11\n",
       "4               u1_vrfed   10\n",
       "11         n_media_Video    8\n",
       "12           n_media_GIF    3\n",
       "7               u2_vrfed    1"
      ]
     },
     "execution_count": 24,
     "metadata": {},
     "output_type": "execute_result"
    }
   ],
   "source": [
    "pd.DataFrame([bst.feature_name(), bst.feature_importance()]).T.sort_values(1, ascending=False)"
   ]
  },
  {
   "cell_type": "markdown",
   "metadata": {},
   "source": [
    "# eval"
   ]
  },
  {
   "cell_type": "code",
   "execution_count": 25,
   "metadata": {},
   "outputs": [
    {
     "name": "stdout",
     "output_type": "stream",
     "text": [
      "CPU times: user 14.3 s, sys: 5.48 s, total: 19.8 s\n",
      "Wall time: 1.5 s\n"
     ]
    }
   ],
   "source": [
    "%%time\n",
    "prdtr = bst.predict(dftr[cols_feat],num_iteration=bst.best_iteration)\n",
    "prdvl = bst.predict(dfvl[cols_feat],num_iteration=bst.best_iteration)\n",
    "prdval0 = bst.predict(dfval[cols_feat],num_iteration=bst.best_iteration)\n",
    "prdval = calibration(prdval0, train_pop, target_pop, sampled_train_pop, sampled_target_pop)"
   ]
  },
  {
   "cell_type": "code",
   "execution_count": 26,
   "metadata": {},
   "outputs": [
    {
     "name": "stdout",
     "output_type": "stream",
     "text": [
      "CPU times: user 790 ms, sys: 963 ms, total: 1.75 s\n",
      "Wall time: 608 ms\n"
     ]
    }
   ],
   "source": [
    "%%time\n",
    "ytr,yvl,yval=[df[TCOL].values for df in (dftr,dfvl,dfval)]\n",
    "\n",
    "auc_tr=compute_prauc(prdtr, ytr)\n",
    "rce_tr=compute_rce(prdtr, ytr)\n",
    "auc_vl=compute_prauc(prdvl, yvl)\n",
    "rce_vl=compute_rce(prdvl, yvl)\n",
    "auc_val=compute_prauc(prdval, yval)\n",
    "rce_val=compute_rce(prdval, yval)\n",
    "\n",
    "results['scrs'] = {}\n",
    "results['scrs']['auc_tr']=auc_tr\n",
    "results['scrs']['rce_tr']=rce_tr\n",
    "results['scrs']['auc_vl']=auc_vl\n",
    "results['scrs']['rce_vl']=rce_vl\n",
    "results['scrs']['auc_val']=auc_val\n",
    "results['scrs']['rce_val']=rce_val"
   ]
  },
  {
   "cell_type": "code",
   "execution_count": 27,
   "metadata": {},
   "outputs": [
    {
     "name": "stdout",
     "output_type": "stream",
     "text": [
      "auc_tr:  0.3564\n",
      "auc_vl:  0.2792\n",
      "auc_val: 0.0891\n",
      "\n",
      "rce_tr:  17.9193\n",
      "rce_vl:  13.4821\n",
      "rce_val: 9.9675\n"
     ]
    }
   ],
   "source": [
    "print(f'auc_tr:  {auc_tr:.4f}')\n",
    "print(f'auc_vl:  {auc_vl:.4f}')\n",
    "print(f'auc_val: {auc_val:.4f}')\n",
    "print()\n",
    "print(f'rce_tr:  {rce_tr:.4f}')\n",
    "print(f'rce_vl:  {rce_vl:.4f}')\n",
    "print(f'rce_val: {rce_val:.4f}')"
   ]
  },
  {
   "cell_type": "code",
   "execution_count": 28,
   "metadata": {},
   "outputs": [
    {
     "name": "stdout",
     "output_type": "stream",
     "text": [
      "-0.0891-9.9675\n"
     ]
    }
   ],
   "source": [
    "print(f'-{auc_val:.4f}-{rce_val:.4f}')"
   ]
  },
  {
   "cell_type": "markdown",
   "metadata": {},
   "source": [
    "# save results"
   ]
  },
  {
   "cell_type": "code",
   "execution_count": 29,
   "metadata": {},
   "outputs": [],
   "source": [
    "pickle.dump(results, open(f'{p_out}/results_{PRFX}.p', 'wb'))"
   ]
  },
  {
   "cell_type": "markdown",
   "metadata": {},
   "source": [
    "# infer"
   ]
  },
  {
   "cell_type": "code",
   "execution_count": 30,
   "metadata": {},
   "outputs": [],
   "source": [
    "results = pickle.load( open(f'{p_out}/results_{PRFX}.p', 'rb'))\n",
    "bst = results['bst']\n",
    "col2tgtenc = results['col2tgtenc']\n",
    "cols_feat = results['cols_feat']\n",
    "tgt_encoder = results['tgt_encoder']"
   ]
  },
  {
   "cell_type": "markdown",
   "metadata": {},
   "source": [
    "## prep"
   ]
  },
  {
   "cell_type": "code",
   "execution_count": 31,
   "metadata": {},
   "outputs": [
    {
     "name": "stdout",
     "output_type": "stream",
     "text": [
      "CPU times: user 21.5 ms, sys: 115 ms, total: 136 ms\n",
      "Wall time: 8.88 ms\n"
     ]
    }
   ],
   "source": [
    "%%time\n",
    "dftst=pd.read_csv(\n",
    "    f'{p_in}/val_{tsttmstmp}.tsv',\n",
    "    sep='\\x01', header=None, names=cols_val, \n",
    "    nrows=10\n",
    ")"
   ]
  },
  {
   "cell_type": "code",
   "execution_count": 32,
   "metadata": {
    "scrolled": true
   },
   "outputs": [
    {
     "name": "stdout",
     "output_type": "stream",
     "text": [
      "2020-04-06 14:30:49 start\n",
      "2020-04-06 14:30:49 freq of columns using CountEncoder\n"
     ]
    },
    {
     "name": "stderr",
     "output_type": "stream",
     "text": [
      "/data/anaconda3/envs/rcss20/lib/python3.7/site-packages/category_encoders/count.py:255: FutureWarning: The pandas.np module is deprecated and will be removed from pandas in a future version. Import numpy directly instead\n",
      "  X.loc[:, self.cols] = X.fillna(value=pd.np.nan)\n"
     ]
    },
    {
     "name": "stdout",
     "output_type": "stream",
     "text": [
      "2020-04-06 14:30:50 freq of tags\n",
      "2020-04-06 14:30:50 done\n",
      "CPU times: user 306 ms, sys: 922 ms, total: 1.23 s\n",
      "Wall time: 159 ms\n"
     ]
    }
   ],
   "source": [
    "%%time\n",
    "dftst=prp_df(dftst, tm_max=tm_tst_max)"
   ]
  },
  {
   "cell_type": "code",
   "execution_count": 33,
   "metadata": {},
   "outputs": [],
   "source": [
    "encoded_tst = tgt_encoder.transform(dftst[col2tgtenc].astype(object))\n",
    "tgtenc_columns = [f'tgtenc_{col}' for col in encoded_tst.columns]\n",
    "encoded_tst.columns = tgtenc_columns\n",
    "dftst = pd.concat([dftst, encoded_tst], 1)\n",
    "dftst.drop(columns=['u1id','u1u2'], inplace=True)\n",
    "cols_category=['twttyp', 'lang', 'langhour']\n",
    "dftst[cols_category]=dftst[cols_category].astype('category')"
   ]
  },
  {
   "cell_type": "markdown",
   "metadata": {},
   "source": [
    "## predict"
   ]
  },
  {
   "cell_type": "code",
   "execution_count": 34,
   "metadata": {},
   "outputs": [
    {
     "name": "stdout",
     "output_type": "stream",
     "text": [
      "CPU times: user 7.67 ms, sys: 21.1 ms, total: 28.8 ms\n",
      "Wall time: 20.2 ms\n"
     ]
    }
   ],
   "source": [
    "%%time\n",
    "prdtst0 = bst.predict(dftst[cols_feat],num_iteration=bst.best_iteration)\n",
    "prdtst = calibration(prdtst0, train_pop, target_pop, sampled_train_pop, sampled_target_pop)"
   ]
  },
  {
   "cell_type": "code",
   "execution_count": 35,
   "metadata": {},
   "outputs": [],
   "source": [
    "dfsub_ids = dftst[['twtid','u2id',]]\n",
    "dfsub = dfsub_ids.copy()\n",
    "dfsub['scr'] = prdtst\n",
    "dfsub.to_csv(f'{p_out}/{TGT}__{PRFX}.csv',index=False,header=False)"
   ]
  },
  {
   "cell_type": "code",
   "execution_count": null,
   "metadata": {},
   "outputs": [],
   "source": []
  },
  {
   "cell_type": "code",
   "execution_count": null,
   "metadata": {},
   "outputs": [],
   "source": []
  },
  {
   "cell_type": "code",
   "execution_count": null,
   "metadata": {},
   "outputs": [],
   "source": []
  }
 ],
 "metadata": {
  "kernelspec": {
   "display_name": "rcss20",
   "language": "python",
   "name": "rcss20"
  },
  "language_info": {
   "codemirror_mode": {
    "name": "ipython",
    "version": 3
   },
   "file_extension": ".py",
   "mimetype": "text/x-python",
   "name": "python",
   "nbconvert_exporter": "python",
   "pygments_lexer": "ipython3",
   "version": "3.7.6"
  },
  "toc": {
   "base_numbering": 1,
   "nav_menu": {},
   "number_sections": true,
   "sideBar": true,
   "skip_h1_title": false,
   "title_cell": "Table of Contents",
   "title_sidebar": "Contents",
   "toc_cell": false,
   "toc_position": {},
   "toc_section_display": true,
   "toc_window_display": true
  }
 },
 "nbformat": 4,
 "nbformat_minor": 4
}
