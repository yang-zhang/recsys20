{
 "cells": [
  {
   "cell_type": "markdown",
   "metadata": {},
   "source": [
    "less is more - kaggle santander"
   ]
  },
  {
   "cell_type": "markdown",
   "metadata": {},
   "source": [
    "# start"
   ]
  },
  {
   "cell_type": "markdown",
   "metadata": {},
   "source": [
    "return to four models"
   ]
  },
  {
   "cell_type": "code",
   "execution_count": 20,
   "metadata": {},
   "outputs": [
    {
     "data": {
      "text/plain": [
       "['2020-03-17 02:32:24', '2020-03-19 13:59:55']"
      ]
     },
     "execution_count": 20,
     "metadata": {},
     "output_type": "execute_result"
    }
   ],
   "source": [
    "PRFX='0319_5'\n",
    "trntmstmp=1584412344\n",
    "valtmstmp=1584626395\n",
    "import datetime\n",
    "[datetime.datetime.fromtimestamp(o).strftime('%Y-%m-%d %H:%M:%S') for o in (trntmstmp, valtmstmp)]"
   ]
  },
  {
   "cell_type": "code",
   "execution_count": 114,
   "metadata": {},
   "outputs": [],
   "source": [
    "grand_total=1.5e8"
   ]
  },
  {
   "cell_type": "markdown",
   "metadata": {},
   "source": [
    "# setup"
   ]
  },
  {
   "cell_type": "code",
   "execution_count": 21,
   "metadata": {
    "scrolled": true
   },
   "outputs": [
    {
     "name": "stdout",
     "output_type": "stream",
     "text": [
      "dask.__version__ 2.12.0\n"
     ]
    }
   ],
   "source": [
    "from pathlib import Path\n",
    "import dask\n",
    "print('dask.__version__', dask.__version__)\n",
    "import xgboost as xgb\n",
    "import dask_xgboost\n",
    "import dask.dataframe as dd\n",
    "from sklearn.model_selection import train_test_split\n",
    "import pandas as pd\n",
    "import numpy as np\n",
    "import matplotlib.pyplot as plt\n",
    "from sklearn.metrics import accuracy_score, roc_auc_score, roc_curve, auc, precision_recall_curve\n",
    "from dask.distributed import Client\n",
    "import pickle\n",
    "import lightgbm as lgb\n",
    "from tqdm import tqdm\n",
    "\n",
    "import datetime\n",
    "def dtnow(): return datetime.datetime.now().strftime('%Y-%m-%d %H:%M:%S')\n",
    "\n",
    "SEED=101\n",
    "HOME='/data/git/recsys20'\n",
    "p_in=f'{HOME}/input'\n",
    "p_out=f'{HOME}/output/{PRFX}'\n",
    "Path(p_out).mkdir(exist_ok=True, parents=True)\n",
    "\n",
    "from sklearn.metrics import precision_recall_curve, auc, log_loss\n",
    "\n",
    "def compute_prauc(pred, gt):\n",
    "    prec, recall, thresh = precision_recall_curve(gt, pred)\n",
    "    prauc = auc(recall, prec)\n",
    "    return prauc\n",
    "\n",
    "def calculate_ctr(gt):\n",
    "    positive = len([x for x in gt if x == 1])\n",
    "    ctr = positive/float(len(gt))\n",
    "    return ctr\n",
    "\n",
    "def compute_rce(pred, gt):\n",
    "    cross_entropy = log_loss(gt, pred)\n",
    "    data_ctr = calculate_ctr(gt)\n",
    "    strawman_cross_entropy = log_loss(gt, [data_ctr for _ in range(len(gt))])\n",
    "    return (1.0 - cross_entropy/strawman_cross_entropy)*100.0\n",
    "\n",
    "cols=[\n",
    "'toks',\n",
    "'hshtgs',\n",
    "'twtid',\n",
    "'media',\n",
    "'links',\n",
    "'domns',\n",
    "'twttyp',\n",
    "'lang',\n",
    "'tm',\n",
    "\n",
    "'u1id',\n",
    "'u1_fllwer_cnt',\n",
    "'u1_fllwing_cnt',\n",
    "'u1_vrfed',\n",
    "'u1_create_tm',\n",
    "\n",
    "'u2id',\n",
    "'u2_follower_cnt',\n",
    "'u2_following_cnt',\n",
    "'u2_vrfed',\n",
    "'u2_create_tm',\n",
    "\n",
    "'u1_fllw_u2',\n",
    "'reply_tm',\n",
    "'retwt_tm',\n",
    "'retwt_cmmnt_tm',\n",
    "'like_tm',\n",
    "]\n",
    "\n",
    "cols_val = cols[:-4]\n",
    "cols_tgt_tmstmp=[\n",
    "    'retwt_tm',\n",
    "    'reply_tm',\n",
    "    'like_tm',\n",
    "    'retwt_cmmnt_tm',\n",
    "]\n",
    "cols_tgt=[o.split('_tm')[0] for o in cols_tgt_tmstmp]\n",
    "tgts             = ['Retweet','Reply','Like','RTwCmnt',]\n",
    "assert cols_tgt == ['retwt',  'reply','like','retwt_cmmnt',]\n",
    "ntgts=len(tgts)"
   ]
  },
  {
   "cell_type": "markdown",
   "metadata": {},
   "source": [
    "# prepare data"
   ]
  },
  {
   "cell_type": "markdown",
   "metadata": {},
   "source": [
    "## get maps from dfval"
   ]
  },
  {
   "cell_type": "code",
   "execution_count": 22,
   "metadata": {},
   "outputs": [],
   "source": [
    "# dfval=dd.read_csv(\n",
    "#     f'{p_in}/val_{valtmstmp}.tsv',\n",
    "#     sep='\\x01', header=None, names=cols_val,)\n",
    "# lang2cnt=dict(dfval.lang.value_counts().compute())\n",
    "# ttl=sum(lang2cnt.values())\n",
    "# lang2perc={k:v/ttl for k,v in lang2cnt.items()}\n",
    "langs=['D3164C7FBCF2565DDF915B1B3AEFB1DC', '22C448FF81263D4BAF2A176145EE9EAD', '06D61DCBBE938971E1EA0C38BD9B5446', 'ECED8A16BE2A5E8871FD55F4842F16B1', 'B9175601E87101A984A50F8A62A1C374', '4DC22C3F31C5C43721E6B5815A595ED6', '167115458A0DBDFF7E9C0C53A83BAC9B', '125C57F4FA6D4E110983FB11B52EFD4E', '022EC308651FACB02794A8147AEE1B78', 'FA3F382BC409C271E3D6EAF8BE4648DD', '9BF3403E0EB7EA8A256DA9019C0B0716', '975B38F44D65EE42A547283787FF5A21', '2996EB2FE8162C076D070A4C8D6532CD', 'FF60A88F53E63000266F8B9149E35AD9', '717293301FE296B0B61950D041485825', '3E16B11B7ADE3A22DDFC4423FBCEAD5D', '3820C29CBCA409A33BADF68852057C4A', '9ECD42BC079C20F156F53CB3B99E600E', '76B8A9C3013AE6414A3E6012413CDC3B', 'AEF22666801F0A5846D853B9CEB2E327', '190BA7DA361BC06BC1D7E824C378064D', '1FFD2FE4297F5E70EBC6C3230D95CB9C', 'A0C7021AD8299ADF0C9EBE326C115F6F', 'D413F5FE5236E5650A46FD983AB39212', '48236EC80FDDDFADE99420ABC9210DDF', '691890251F2B9FF922BE6D3699ABEFD2', '920502FAA080485768AA89BC96A55C47', '0331BF70E606D62D92C96CE9AD71A7CF', '89616CFF8EC8637092F885C7EFF43D74', '06BEAB41D66CCFF329D1ED8BA120A6C2', '60FBA0E834CC59D647C3599AD763FFDF', 'C7A400D9AD489ACF673CF12FBB80AAE5', 'E59EF8BB86A6D815331DDF4C467CE0C7', '4249CE88433AEA3F8DCEECF008B3CB95', '544FA32458C903F1125FE6598300A047', 'CB11E9CF42BD0A1BAD5E27BF3422D99D', '3A85BCEC571C3F5AB1069E4924189177', 'FF7EABB5A382356D54D9C41BA0125E09', 'E7BB61D2A87C1E72DF1C7BC292B86A1C', '69C4A33B9AD29AF883D60BA61CC08702', 'F4FD40A716F1572C9A28E9CAA58BE3A5', '259A6F6DFD672CB1F883CBEC01B99F2D', '6431A618DCF7F4CB7F62A95A39BAB77A', '3121F7240D488F74EEED9312E174B217', '54208B51D44E7D91DC2F3DD02ADEDEC2', 'DBEEFB80F8A314311E2B4BD593E11DFE', 'B6D90127A09AB1229731898AEF9D4D7C', 'F3E1016563360F9434FA986CA86C249C', '2216D01F7B48554E4211021A46816FCF', '1BC639981AE88E09129594B11F894A21', 'C942E369C88CE7C56E69A84D04319FF0', '57ADD4576E2AD6648E9B2DE32F3462A5', 'AC1F0671A4B0D5B8112F87DE7B490E6D', 'C2EF5FABE7619D8A333D5F0FF76E1BFA', 'AA0254541959271ED3453119B787D0C3', 'A6B70CDF8C7B934D4A218CA9B6B7FDB4', 'BF477808A37E3E4E9C5D9F1839E8519E', '97F81BD92A1ACA3F1F43C154E689350F', '60A3DB168094D41241E45E0DE3539BC0', '12D8CEB94F89D11D7EB95EAE9689B009', 'F73266A79468BB89C4325FDEDB0B533C', '4690215948DBF6872B8ED1C2BC87B17E', 'D18801336202297E6484F634CAC6592E', '2E18F6F53E3CF073911AF0A93BBE5373', 'B2235C8B73239FDC5780DD132419833A', '515E873C86EE1577E75FA2387B7FA59E',]\n",
    "\n",
    "# dfval.twttyp.value_counts().compute()\n",
    "# TopLevel    2932\n",
    "# Retweet      994\n",
    "# Quote        213\n",
    "twttyps=['TopLevel','Retweet','Quote']"
   ]
  },
  {
   "cell_type": "code",
   "execution_count": 49,
   "metadata": {},
   "outputs": [],
   "source": [
    "def prp_df(df, istrn=True):\n",
    "    df['len_toks']=df.toks.apply(len)\n",
    "    for media in ['Photo', 'Video', 'GIF']:\n",
    "        df[f'has_media_{media}'] = df.media.fillna('').apply(lambda x: media in x)\n",
    "    for col in ['hshtgs', 'links', 'domns',]:\n",
    "        df[f'num_{col}'] = df[col].fillna('').apply(lambda x: len(x.split('\\t')) if len(x) else 0)\n",
    "    tm_dt=pd.to_datetime(df.tm, unit='s')\n",
    "    df['tm_month']=tm_dt.dt.month\n",
    "    df['tm_dayofweek']=tm_dt.dt.dayofweek\n",
    "    df['tm_day']=tm_dt.dt.day\n",
    "    df['tm_hour']=tm_dt.dt.hour\n",
    "    df['tmdlta_u2u1']  = df.u2_create_tm - df.u1_create_tm\n",
    "    df['tmdlta_twtu1'] = df.tm - df.u1_create_tm\n",
    "    df['tmdlta_twtu2'] = df.tm - df.u2_create_tm\n",
    "\n",
    "    for typ in twttyps:\n",
    "        df[f'twttyp_{typ}']=(df.twttyp==typ).astype('int8')\n",
    "\n",
    "    for lang in langs:\n",
    "        df[f'lang_{lang}']=(df.lang==lang).astype('int8')\n",
    "    if istrn: \n",
    "        df[cols_tgt]=df[cols_tgt_tmstmp].notna().astype('int8')\n",
    "        df.drop(inplace=True, columns=['toks', 'hshtgs', 'media', 'links', 'domns', 'twttyp', 'lang', 'twtid', 'u1id', 'u2id']+cols_tgt_tmstmp, )\n",
    "    else:\n",
    "        df.drop(inplace=True, columns=['toks', 'hshtgs', 'media', 'links', 'domns', 'twttyp', 'lang', 'u1id',])        \n",
    "    return df"
   ]
  },
  {
   "cell_type": "raw",
   "metadata": {
    "scrolled": true
   },
   "source": [
    "ls -hlS $p_in | grep {trntmstmp} "
   ]
  },
  {
   "cell_type": "code",
   "execution_count": 131,
   "metadata": {},
   "outputs": [
    {
     "data": {
      "text/plain": [
       "150000000.0"
      ]
     },
     "execution_count": 131,
     "metadata": {},
     "output_type": "execute_result"
    }
   ],
   "source": [
    "grand_total"
   ]
  },
  {
   "cell_type": "code",
   "execution_count": 122,
   "metadata": {},
   "outputs": [
    {
     "data": {
      "text/plain": [
       "150.0"
      ]
     },
     "execution_count": 122,
     "metadata": {},
     "output_type": "execute_result"
    }
   ],
   "source": [
    "grand_total/1e6"
   ]
  },
  {
   "cell_type": "raw",
   "metadata": {},
   "source": [
    "chnks_trn = pd.read_csv(f'{p_in}/trn_{trntmstmp}.tsv',sep='\\x01',\n",
    "                    header=None,names=cols, \n",
    "                        chunksize=1e6\n",
    "                       )\n",
    "for ichnk,df in enumerate(chnks_trn):\n",
    "    print(dtnow(), 'chunk', ichnk, df.tm.max())\n",
    "ichnk"
   ]
  },
  {
   "cell_type": "code",
   "execution_count": 132,
   "metadata": {
    "scrolled": false
   },
   "outputs": [
    {
     "name": "stdout",
     "output_type": "stream",
     "text": [
      "2020-03-20 02:35:14 chunk 0\n"
     ]
    }
   ],
   "source": [
    "chnks_trn = pd.read_csv(f'{p_in}/trn_{trntmstmp}.tsv',sep='\\x01',\n",
    "                    header=None,names=cols, \n",
    "                        chunksize=1e6\n",
    "                       )\n",
    "\n",
    "np.random.seed(SEED)\n",
    "lst_df = []\n",
    "for ichnk,df in enumerate(chnks_trn):\n",
    "#     if np.random.rand()>0.01: continue\n",
    "    print(dtnow(), 'chunk', ichnk)\n",
    "    df = prp_df(df)    \n",
    "    lst_df.append(df)\n",
    "    break\n",
    "\n"
   ]
  },
  {
   "cell_type": "code",
   "execution_count": 133,
   "metadata": {},
   "outputs": [],
   "source": [
    "df = pd.concat(lst_df)"
   ]
  },
  {
   "cell_type": "code",
   "execution_count": 134,
   "metadata": {
    "scrolled": true
   },
   "outputs": [
    {
     "data": {
      "text/plain": [
       "(1000000, 97)"
      ]
     },
     "execution_count": 134,
     "metadata": {},
     "output_type": "execute_result"
    }
   ],
   "source": [
    "df.shape"
   ]
  },
  {
   "cell_type": "code",
   "execution_count": 135,
   "metadata": {},
   "outputs": [
    {
     "data": {
      "text/plain": [
       "Index(['tm', 'u1_fllwer_cnt', 'u1_fllwing_cnt', 'u1_vrfed', 'u1_create_tm',\n",
       "       'u2_follower_cnt', 'u2_following_cnt', 'u2_vrfed', 'u2_create_tm',\n",
       "       'u1_fllw_u2', 'len_toks', 'has_media_Photo', 'has_media_Video',\n",
       "       'has_media_GIF', 'num_hshtgs', 'num_links', 'num_domns', 'tm_month',\n",
       "       'tm_dayofweek', 'tm_day', 'tm_hour', 'tmdlta_u2u1', 'tmdlta_twtu1',\n",
       "       'tmdlta_twtu2', 'twttyp_TopLevel', 'twttyp_Retweet', 'twttyp_Quote',\n",
       "       'lang_D3164C7FBCF2565DDF915B1B3AEFB1DC',\n",
       "       'lang_22C448FF81263D4BAF2A176145EE9EAD',\n",
       "       'lang_06D61DCBBE938971E1EA0C38BD9B5446',\n",
       "       'lang_ECED8A16BE2A5E8871FD55F4842F16B1',\n",
       "       'lang_B9175601E87101A984A50F8A62A1C374',\n",
       "       'lang_4DC22C3F31C5C43721E6B5815A595ED6',\n",
       "       'lang_167115458A0DBDFF7E9C0C53A83BAC9B',\n",
       "       'lang_125C57F4FA6D4E110983FB11B52EFD4E',\n",
       "       'lang_022EC308651FACB02794A8147AEE1B78',\n",
       "       'lang_FA3F382BC409C271E3D6EAF8BE4648DD',\n",
       "       'lang_9BF3403E0EB7EA8A256DA9019C0B0716',\n",
       "       'lang_975B38F44D65EE42A547283787FF5A21',\n",
       "       'lang_2996EB2FE8162C076D070A4C8D6532CD',\n",
       "       'lang_FF60A88F53E63000266F8B9149E35AD9',\n",
       "       'lang_717293301FE296B0B61950D041485825',\n",
       "       'lang_3E16B11B7ADE3A22DDFC4423FBCEAD5D',\n",
       "       'lang_3820C29CBCA409A33BADF68852057C4A',\n",
       "       'lang_9ECD42BC079C20F156F53CB3B99E600E',\n",
       "       'lang_76B8A9C3013AE6414A3E6012413CDC3B',\n",
       "       'lang_AEF22666801F0A5846D853B9CEB2E327',\n",
       "       'lang_190BA7DA361BC06BC1D7E824C378064D',\n",
       "       'lang_1FFD2FE4297F5E70EBC6C3230D95CB9C',\n",
       "       'lang_A0C7021AD8299ADF0C9EBE326C115F6F',\n",
       "       'lang_D413F5FE5236E5650A46FD983AB39212',\n",
       "       'lang_48236EC80FDDDFADE99420ABC9210DDF',\n",
       "       'lang_691890251F2B9FF922BE6D3699ABEFD2',\n",
       "       'lang_920502FAA080485768AA89BC96A55C47',\n",
       "       'lang_0331BF70E606D62D92C96CE9AD71A7CF',\n",
       "       'lang_89616CFF8EC8637092F885C7EFF43D74',\n",
       "       'lang_06BEAB41D66CCFF329D1ED8BA120A6C2',\n",
       "       'lang_60FBA0E834CC59D647C3599AD763FFDF',\n",
       "       'lang_C7A400D9AD489ACF673CF12FBB80AAE5',\n",
       "       'lang_E59EF8BB86A6D815331DDF4C467CE0C7',\n",
       "       'lang_4249CE88433AEA3F8DCEECF008B3CB95',\n",
       "       'lang_544FA32458C903F1125FE6598300A047',\n",
       "       'lang_CB11E9CF42BD0A1BAD5E27BF3422D99D',\n",
       "       'lang_3A85BCEC571C3F5AB1069E4924189177',\n",
       "       'lang_FF7EABB5A382356D54D9C41BA0125E09',\n",
       "       'lang_E7BB61D2A87C1E72DF1C7BC292B86A1C',\n",
       "       'lang_69C4A33B9AD29AF883D60BA61CC08702',\n",
       "       'lang_F4FD40A716F1572C9A28E9CAA58BE3A5',\n",
       "       'lang_259A6F6DFD672CB1F883CBEC01B99F2D',\n",
       "       'lang_6431A618DCF7F4CB7F62A95A39BAB77A',\n",
       "       'lang_3121F7240D488F74EEED9312E174B217',\n",
       "       'lang_54208B51D44E7D91DC2F3DD02ADEDEC2',\n",
       "       'lang_DBEEFB80F8A314311E2B4BD593E11DFE',\n",
       "       'lang_B6D90127A09AB1229731898AEF9D4D7C',\n",
       "       'lang_F3E1016563360F9434FA986CA86C249C',\n",
       "       'lang_2216D01F7B48554E4211021A46816FCF',\n",
       "       'lang_1BC639981AE88E09129594B11F894A21',\n",
       "       'lang_C942E369C88CE7C56E69A84D04319FF0',\n",
       "       'lang_57ADD4576E2AD6648E9B2DE32F3462A5',\n",
       "       'lang_AC1F0671A4B0D5B8112F87DE7B490E6D',\n",
       "       'lang_C2EF5FABE7619D8A333D5F0FF76E1BFA',\n",
       "       'lang_AA0254541959271ED3453119B787D0C3',\n",
       "       'lang_A6B70CDF8C7B934D4A218CA9B6B7FDB4',\n",
       "       'lang_BF477808A37E3E4E9C5D9F1839E8519E',\n",
       "       'lang_97F81BD92A1ACA3F1F43C154E689350F',\n",
       "       'lang_60A3DB168094D41241E45E0DE3539BC0',\n",
       "       'lang_12D8CEB94F89D11D7EB95EAE9689B009',\n",
       "       'lang_F73266A79468BB89C4325FDEDB0B533C',\n",
       "       'lang_4690215948DBF6872B8ED1C2BC87B17E',\n",
       "       'lang_D18801336202297E6484F634CAC6592E',\n",
       "       'lang_2E18F6F53E3CF073911AF0A93BBE5373',\n",
       "       'lang_B2235C8B73239FDC5780DD132419833A',\n",
       "       'lang_515E873C86EE1577E75FA2387B7FA59E', 'retwt', 'reply', 'like',\n",
       "       'retwt_cmmnt'],\n",
       "      dtype='object')"
      ]
     },
     "execution_count": 135,
     "metadata": {},
     "output_type": "execute_result"
    }
   ],
   "source": [
    "df.columns"
   ]
  },
  {
   "cell_type": "code",
   "execution_count": 136,
   "metadata": {},
   "outputs": [],
   "source": [
    "cols_feat=[o for o in df.columns if o not in cols_tgt]"
   ]
  },
  {
   "cell_type": "code",
   "execution_count": 137,
   "metadata": {},
   "outputs": [
    {
     "name": "stdout",
     "output_type": "stream",
     "text": [
      "CPU times: user 256 ms, sys: 52.4 ms, total: 308 ms\n",
      "Wall time: 307 ms\n"
     ]
    }
   ],
   "source": [
    "%%time\n",
    "split=int(len(df)*0.85)\n",
    "Xtr,Xvl=df[cols_feat][:split],df[cols_feat][split:]\n",
    "ytr,yvl=df[cols_tgt ][:split],df[cols_tgt ][split:]"
   ]
  },
  {
   "cell_type": "code",
   "execution_count": 138,
   "metadata": {},
   "outputs": [
    {
     "data": {
      "text/plain": [
       "((850000, 93), (150000, 93), (850000, 4), (150000, 4))"
      ]
     },
     "execution_count": 138,
     "metadata": {},
     "output_type": "execute_result"
    }
   ],
   "source": [
    "Xtr.shape,Xvl.shape,ytr.shape,yvl.shape"
   ]
  },
  {
   "cell_type": "markdown",
   "metadata": {},
   "source": [
    "# model"
   ]
  },
  {
   "cell_type": "code",
   "execution_count": 163,
   "metadata": {},
   "outputs": [],
   "source": [
    "params = {\n",
    "    'objective': 'binary:logistic',\n",
    "    'verbosity': 2,\n",
    "    'eval_metric': ['logloss','error'],\n",
    "#     https://xgboost.readthedocs.io/en/latest/tutorials/param_tuning.html\n",
    "    'max_delta_step': 1,\n",
    "}\n",
    "\n",
    "num_rounds = 10\n"
   ]
  },
  {
   "cell_type": "code",
   "execution_count": 164,
   "metadata": {},
   "outputs": [
    {
     "name": "stdout",
     "output_type": "stream",
     "text": [
      "2020-03-20 02:51:10 Retweet ********************************************************************************\n",
      "[02:51:20] INFO: /workspace/src/tree/updater_prune.cc:89: tree pruning end, 114 extra nodes, 0 pruned nodes, max_depth=6\n",
      "[0]\teval-logloss:0.58776\teval-error:0.11047\ttrain-logloss:0.58783\ttrain-error:0.11123\n",
      "Multiple eval metrics have been passed: 'train-error' will be used for early stopping.\n",
      "\n",
      "Will train until train-error hasn't improved in 10 rounds.\n",
      "[02:51:21] INFO: /workspace/src/tree/updater_prune.cc:89: tree pruning end, 124 extra nodes, 0 pruned nodes, max_depth=6\n",
      "[1]\teval-logloss:0.50370\teval-error:0.11008\ttrain-logloss:0.50422\ttrain-error:0.11119\n",
      "[02:51:22] INFO: /workspace/src/tree/updater_prune.cc:89: tree pruning end, 126 extra nodes, 0 pruned nodes, max_depth=6\n",
      "[2]\teval-logloss:0.44023\teval-error:0.10996\ttrain-logloss:0.44080\ttrain-error:0.11098\n",
      "[02:51:23] INFO: /workspace/src/tree/updater_prune.cc:89: tree pruning end, 126 extra nodes, 0 pruned nodes, max_depth=6\n",
      "[3]\teval-logloss:0.39617\teval-error:0.10990\ttrain-logloss:0.39693\ttrain-error:0.11103\n",
      "[02:51:24] INFO: /workspace/src/tree/updater_prune.cc:89: tree pruning end, 120 extra nodes, 0 pruned nodes, max_depth=6\n",
      "[4]\teval-logloss:0.36778\teval-error:0.10979\ttrain-logloss:0.36889\ttrain-error:0.11091\n",
      "[02:51:25] INFO: /workspace/src/tree/updater_prune.cc:89: tree pruning end, 120 extra nodes, 0 pruned nodes, max_depth=6\n",
      "[5]\teval-logloss:0.35017\teval-error:0.10975\ttrain-logloss:0.35132\ttrain-error:0.11095\n",
      "[02:51:26] INFO: /workspace/src/tree/updater_prune.cc:89: tree pruning end, 126 extra nodes, 0 pruned nodes, max_depth=6\n",
      "[6]\teval-logloss:0.33844\teval-error:0.10965\ttrain-logloss:0.33970\ttrain-error:0.11083\n",
      "[02:51:26] INFO: /workspace/src/tree/updater_prune.cc:89: tree pruning end, 124 extra nodes, 0 pruned nodes, max_depth=6\n",
      "[7]\teval-logloss:0.33107\teval-error:0.10961\ttrain-logloss:0.33249\ttrain-error:0.11081\n",
      "[02:51:27] INFO: /workspace/src/tree/updater_prune.cc:89: tree pruning end, 126 extra nodes, 0 pruned nodes, max_depth=6\n",
      "[8]\teval-logloss:0.32563\teval-error:0.10959\ttrain-logloss:0.32719\ttrain-error:0.11064\n",
      "[02:51:28] INFO: /workspace/src/tree/updater_prune.cc:89: tree pruning end, 114 extra nodes, 0 pruned nodes, max_depth=6\n",
      "[9]\teval-logloss:0.32235\teval-error:0.10949\ttrain-logloss:0.32397\ttrain-error:0.11051\n",
      "2020-03-20 02:51:28 Reply ********************************************************************************\n",
      "[02:51:39] INFO: /workspace/src/tree/updater_prune.cc:89: tree pruning end, 2 extra nodes, 0 pruned nodes, max_depth=1\n",
      "[0]\teval-logloss:0.56290\teval-error:0.02778\ttrain-logloss:0.56249\ttrain-error:0.02715\n",
      "Multiple eval metrics have been passed: 'train-error' will be used for early stopping.\n",
      "\n",
      "Will train until train-error hasn't improved in 10 rounds.\n",
      "[02:51:39] INFO: /workspace/src/tree/updater_prune.cc:89: tree pruning end, 4 extra nodes, 0 pruned nodes, max_depth=2\n",
      "[1]\teval-logloss:0.45416\teval-error:0.02778\ttrain-logloss:0.45379\ttrain-error:0.02715\n",
      "[02:51:40] INFO: /workspace/src/tree/updater_prune.cc:89: tree pruning end, 52 extra nodes, 0 pruned nodes, max_depth=6\n",
      "[2]\teval-logloss:0.36612\teval-error:0.02778\ttrain-logloss:0.36557\ttrain-error:0.02715\n",
      "[02:51:40] INFO: /workspace/src/tree/updater_prune.cc:89: tree pruning end, 60 extra nodes, 0 pruned nodes, max_depth=6\n",
      "[3]\teval-logloss:0.29673\teval-error:0.02778\ttrain-logloss:0.29590\ttrain-error:0.02715\n",
      "[02:51:41] INFO: /workspace/src/tree/updater_prune.cc:89: tree pruning end, 92 extra nodes, 0 pruned nodes, max_depth=6\n",
      "[4]\teval-logloss:0.24290\teval-error:0.02778\ttrain-logloss:0.24229\ttrain-error:0.02715\n",
      "[02:51:42] INFO: /workspace/src/tree/updater_prune.cc:89: tree pruning end, 94 extra nodes, 0 pruned nodes, max_depth=6\n",
      "[5]\teval-logloss:0.20394\teval-error:0.02778\ttrain-logloss:0.20305\ttrain-error:0.02715\n",
      "[02:51:42] INFO: /workspace/src/tree/updater_prune.cc:89: tree pruning end, 98 extra nodes, 0 pruned nodes, max_depth=6\n",
      "[6]\teval-logloss:0.17538\teval-error:0.02778\ttrain-logloss:0.17451\ttrain-error:0.02715\n",
      "[02:51:43] INFO: /workspace/src/tree/updater_prune.cc:89: tree pruning end, 118 extra nodes, 0 pruned nodes, max_depth=6\n",
      "[7]\teval-logloss:0.15521\teval-error:0.02778\ttrain-logloss:0.15442\ttrain-error:0.02715\n",
      "[02:51:44] INFO: /workspace/src/tree/updater_prune.cc:89: tree pruning end, 120 extra nodes, 0 pruned nodes, max_depth=6\n",
      "[8]\teval-logloss:0.14127\teval-error:0.02778\ttrain-logloss:0.14055\ttrain-error:0.02715\n",
      "[02:51:44] INFO: /workspace/src/tree/updater_prune.cc:89: tree pruning end, 122 extra nodes, 0 pruned nodes, max_depth=6\n",
      "[9]\teval-logloss:0.13182\teval-error:0.02778\ttrain-logloss:0.13110\ttrain-error:0.02715\n",
      "2020-03-20 02:51:45 Like ********************************************************************************\n",
      "[02:51:55] INFO: /workspace/src/tree/updater_prune.cc:89: tree pruning end, 124 extra nodes, 0 pruned nodes, max_depth=6\n",
      "[0]\teval-logloss:0.66334\teval-error:0.35424\ttrain-logloss:0.66373\ttrain-error:0.35573\n",
      "Multiple eval metrics have been passed: 'train-error' will be used for early stopping.\n",
      "\n",
      "Will train until train-error hasn't improved in 10 rounds.\n",
      "[02:51:56] INFO: /workspace/src/tree/updater_prune.cc:89: tree pruning end, 120 extra nodes, 0 pruned nodes, max_depth=6\n",
      "[1]\teval-logloss:0.64548\teval-error:0.34977\ttrain-logloss:0.64627\ttrain-error:0.35145\n",
      "[02:51:57] INFO: /workspace/src/tree/updater_prune.cc:89: tree pruning end, 126 extra nodes, 0 pruned nodes, max_depth=6\n",
      "[2]\teval-logloss:0.63449\teval-error:0.34615\ttrain-logloss:0.63569\ttrain-error:0.34813\n",
      "[02:51:58] INFO: /workspace/src/tree/updater_prune.cc:89: tree pruning end, 126 extra nodes, 0 pruned nodes, max_depth=6\n",
      "[3]\teval-logloss:0.62718\teval-error:0.34214\ttrain-logloss:0.62852\ttrain-error:0.34384\n",
      "[02:51:59] INFO: /workspace/src/tree/updater_prune.cc:89: tree pruning end, 126 extra nodes, 0 pruned nodes, max_depth=6\n",
      "[4]\teval-logloss:0.62287\teval-error:0.34125\ttrain-logloss:0.62441\ttrain-error:0.34303\n",
      "[02:52:00] INFO: /workspace/src/tree/updater_prune.cc:89: tree pruning end, 126 extra nodes, 0 pruned nodes, max_depth=6\n",
      "[5]\teval-logloss:0.61933\teval-error:0.33901\ttrain-logloss:0.62108\ttrain-error:0.34096\n",
      "[02:52:00] INFO: /workspace/src/tree/updater_prune.cc:89: tree pruning end, 126 extra nodes, 0 pruned nodes, max_depth=6\n",
      "[6]\teval-logloss:0.61660\teval-error:0.33709\ttrain-logloss:0.61860\ttrain-error:0.33918\n",
      "[02:52:01] INFO: /workspace/src/tree/updater_prune.cc:89: tree pruning end, 126 extra nodes, 0 pruned nodes, max_depth=6\n",
      "[7]\teval-logloss:0.61463\teval-error:0.33571\ttrain-logloss:0.61684\ttrain-error:0.33840\n",
      "[02:52:02] INFO: /workspace/src/tree/updater_prune.cc:89: tree pruning end, 126 extra nodes, 0 pruned nodes, max_depth=6\n",
      "[8]\teval-logloss:0.61244\teval-error:0.33354\ttrain-logloss:0.61478\ttrain-error:0.33673\n",
      "[02:52:03] INFO: /workspace/src/tree/updater_prune.cc:89: tree pruning end, 124 extra nodes, 0 pruned nodes, max_depth=6\n",
      "[9]\teval-logloss:0.61130\teval-error:0.33262\ttrain-logloss:0.61370\ttrain-error:0.33550\n",
      "2020-03-20 02:52:03 RTwCmnt ********************************************************************************\n",
      "[02:52:13] INFO: /workspace/src/tree/updater_prune.cc:89: tree pruning end, 2 extra nodes, 0 pruned nodes, max_depth=1\n",
      "[0]\teval-logloss:0.55691\teval-error:0.00778\ttrain-logloss:0.55663\ttrain-error:0.00759\n",
      "Multiple eval metrics have been passed: 'train-error' will be used for early stopping.\n",
      "\n",
      "Will train until train-error hasn't improved in 10 rounds.\n",
      "[02:52:14] INFO: /workspace/src/tree/updater_prune.cc:89: tree pruning end, 2 extra nodes, 0 pruned nodes, max_depth=1\n",
      "[1]\teval-logloss:0.44216\teval-error:0.00778\ttrain-logloss:0.44206\ttrain-error:0.00759\n",
      "[02:52:14] INFO: /workspace/src/tree/updater_prune.cc:89: tree pruning end, 2 extra nodes, 0 pruned nodes, max_depth=1\n",
      "[2]\teval-logloss:0.34810\teval-error:0.00778\ttrain-logloss:0.34797\ttrain-error:0.00759\n",
      "[02:52:14] INFO: /workspace/src/tree/updater_prune.cc:89: tree pruning end, 2 extra nodes, 0 pruned nodes, max_depth=1\n",
      "[3]\teval-logloss:0.27274\teval-error:0.00778\ttrain-logloss:0.27239\ttrain-error:0.00759\n",
      "[02:52:15] INFO: /workspace/src/tree/updater_prune.cc:89: tree pruning end, 10 extra nodes, 0 pruned nodes, max_depth=4\n",
      "[4]\teval-logloss:0.21293\teval-error:0.00778\ttrain-logloss:0.21281\ttrain-error:0.00759\n"
     ]
    },
    {
     "name": "stdout",
     "output_type": "stream",
     "text": [
      "[02:52:15] INFO: /workspace/src/tree/updater_prune.cc:89: tree pruning end, 10 extra nodes, 0 pruned nodes, max_depth=4\n",
      "[5]\teval-logloss:0.16695\teval-error:0.00778\ttrain-logloss:0.16664\ttrain-error:0.00759\n",
      "[02:52:16] INFO: /workspace/src/tree/updater_prune.cc:89: tree pruning end, 26 extra nodes, 0 pruned nodes, max_depth=6\n",
      "[6]\teval-logloss:0.13191\teval-error:0.00778\ttrain-logloss:0.13148\ttrain-error:0.00759\n",
      "[02:52:17] INFO: /workspace/src/tree/updater_prune.cc:89: tree pruning end, 70 extra nodes, 0 pruned nodes, max_depth=6\n",
      "[7]\teval-logloss:0.10558\teval-error:0.00778\ttrain-logloss:0.10516\ttrain-error:0.00759\n",
      "[02:52:18] INFO: /workspace/src/tree/updater_prune.cc:89: tree pruning end, 90 extra nodes, 0 pruned nodes, max_depth=6\n",
      "[8]\teval-logloss:0.08644\teval-error:0.00778\ttrain-logloss:0.08607\ttrain-error:0.00759\n",
      "[02:52:19] INFO: /workspace/src/tree/updater_prune.cc:89: tree pruning end, 102 extra nodes, 0 pruned nodes, max_depth=6\n",
      "[9]\teval-logloss:0.07286\teval-error:0.00778\ttrain-logloss:0.07244\ttrain-error:0.00759\n"
     ]
    }
   ],
   "source": [
    "tgt2bst={}\n",
    "tgt2ytr={}\n",
    "tgt2yvl={}\n",
    "for i,tgt in enumerate(tgts):\n",
    "    print(dtnow(), tgt, '*'*80)\n",
    "    tgt2ytr[tgt]=ytr.iloc[:,i]\n",
    "    tgt2yvl[tgt]=yvl.iloc[:,i]\n",
    "    dtr = xgb.DMatrix(Xtr, label=ytr.iloc[:,i], feature_names=cols_feat)\n",
    "    dvl = xgb.DMatrix(Xvl, label=yvl.iloc[:,i], feature_names=cols_feat)\n",
    "    evallist = [(dtr, 'eval'), (dvl, 'train')]\n",
    "    bst = xgb.train(params=params, dtrain=dtr, num_boost_round=num_rounds, evals=evallist, early_stopping_rounds=10)\n",
    "    tgt2bst[tgt] = bst\n",
    "    \n",
    "pickle.dump(tgt2bst, open(f\"{p_out}/tgt2bst.p\", \"wb\"))"
   ]
  },
  {
   "cell_type": "code",
   "execution_count": null,
   "metadata": {},
   "outputs": [],
   "source": []
  },
  {
   "cell_type": "code",
   "execution_count": 165,
   "metadata": {},
   "outputs": [],
   "source": [
    "def show_feat_importance(bst):\n",
    "    ax = xgb.plot_importance(bst, height=0.8, max_num_features=9)\n",
    "    ax.grid(False, axis=\"y\")\n",
    "    ax.set_title('Estimated feature importance')\n",
    "    plt.show()\n",
    "    feat2importance=bst.get_fscore()\n",
    "    display(pd.DataFrame([feat2importance.keys(), feat2importance.values()]).T.sort_values(1, ascending=False).head(20))"
   ]
  },
  {
   "cell_type": "code",
   "execution_count": 166,
   "metadata": {
    "scrolled": false
   },
   "outputs": [
    {
     "name": "stdout",
     "output_type": "stream",
     "text": [
      "Retweet\n"
     ]
    },
    {
     "data": {
      "image/png": "[encoded data removed]",
      "text/plain": [
       "<Figure size 432x288 with 1 Axes>"
      ]
     },
     "metadata": {
      "needs_background": "light"
     },
     "output_type": "display_data"
    },
    {
     "data": {
      "text/html": [
       "<div>\n",
       "<style scoped>\n",
       "    .dataframe tbody tr th:only-of-type {\n",
       "        vertical-align: middle;\n",
       "    }\n",
       "\n",
       "    .dataframe tbody tr th {\n",
       "        vertical-align: top;\n",
       "    }\n",
       "\n",
       "    .dataframe thead th {\n",
       "        text-align: right;\n",
       "    }\n",
       "</style>\n",
       "<table border=\"1\" class=\"dataframe\">\n",
       "  <thead>\n",
       "    <tr style=\"text-align: right;\">\n",
       "      <th></th>\n",
       "      <th>0</th>\n",
       "      <th>1</th>\n",
       "    </tr>\n",
       "  </thead>\n",
       "  <tbody>\n",
       "    <tr>\n",
       "      <th>2</th>\n",
       "      <td>len_toks</td>\n",
       "      <td>66</td>\n",
       "    </tr>\n",
       "    <tr>\n",
       "      <th>7</th>\n",
       "      <td>u2_follower_cnt</td>\n",
       "      <td>65</td>\n",
       "    </tr>\n",
       "    <tr>\n",
       "      <th>6</th>\n",
       "      <td>u1_fllwer_cnt</td>\n",
       "      <td>63</td>\n",
       "    </tr>\n",
       "    <tr>\n",
       "      <th>1</th>\n",
       "      <td>u2_following_cnt</td>\n",
       "      <td>55</td>\n",
       "    </tr>\n",
       "    <tr>\n",
       "      <th>4</th>\n",
       "      <td>u2_create_tm</td>\n",
       "      <td>50</td>\n",
       "    </tr>\n",
       "    <tr>\n",
       "      <th>5</th>\n",
       "      <td>u1_fllwing_cnt</td>\n",
       "      <td>37</td>\n",
       "    </tr>\n",
       "    <tr>\n",
       "      <th>15</th>\n",
       "      <td>twttyp_Retweet</td>\n",
       "      <td>29</td>\n",
       "    </tr>\n",
       "    <tr>\n",
       "      <th>19</th>\n",
       "      <td>num_hshtgs</td>\n",
       "      <td>23</td>\n",
       "    </tr>\n",
       "    <tr>\n",
       "      <th>24</th>\n",
       "      <td>lang_22C448FF81263D4BAF2A176145EE9EAD</td>\n",
       "      <td>22</td>\n",
       "    </tr>\n",
       "    <tr>\n",
       "      <th>10</th>\n",
       "      <td>tmdlta_twtu1</td>\n",
       "      <td>21</td>\n",
       "    </tr>\n",
       "    <tr>\n",
       "      <th>3</th>\n",
       "      <td>tmdlta_twtu2</td>\n",
       "      <td>19</td>\n",
       "    </tr>\n",
       "    <tr>\n",
       "      <th>13</th>\n",
       "      <td>u1_create_tm</td>\n",
       "      <td>19</td>\n",
       "    </tr>\n",
       "    <tr>\n",
       "      <th>20</th>\n",
       "      <td>lang_125C57F4FA6D4E110983FB11B52EFD4E</td>\n",
       "      <td>16</td>\n",
       "    </tr>\n",
       "    <tr>\n",
       "      <th>12</th>\n",
       "      <td>tmdlta_u2u1</td>\n",
       "      <td>13</td>\n",
       "    </tr>\n",
       "    <tr>\n",
       "      <th>25</th>\n",
       "      <td>num_links</td>\n",
       "      <td>12</td>\n",
       "    </tr>\n",
       "    <tr>\n",
       "      <th>14</th>\n",
       "      <td>tm</td>\n",
       "      <td>12</td>\n",
       "    </tr>\n",
       "    <tr>\n",
       "      <th>0</th>\n",
       "      <td>lang_022EC308651FACB02794A8147AEE1B78</td>\n",
       "      <td>11</td>\n",
       "    </tr>\n",
       "    <tr>\n",
       "      <th>16</th>\n",
       "      <td>has_media_Video</td>\n",
       "      <td>10</td>\n",
       "    </tr>\n",
       "    <tr>\n",
       "      <th>27</th>\n",
       "      <td>lang_4DC22C3F31C5C43721E6B5815A595ED6</td>\n",
       "      <td>9</td>\n",
       "    </tr>\n",
       "    <tr>\n",
       "      <th>18</th>\n",
       "      <td>u1_vrfed</td>\n",
       "      <td>9</td>\n",
       "    </tr>\n",
       "  </tbody>\n",
       "</table>\n",
       "</div>"
      ],
      "text/plain": [
       "                                        0   1\n",
       "2                                len_toks  66\n",
       "7                         u2_follower_cnt  65\n",
       "6                           u1_fllwer_cnt  63\n",
       "1                        u2_following_cnt  55\n",
       "4                            u2_create_tm  50\n",
       "5                          u1_fllwing_cnt  37\n",
       "15                         twttyp_Retweet  29\n",
       "19                             num_hshtgs  23\n",
       "24  lang_22C448FF81263D4BAF2A176145EE9EAD  22\n",
       "10                           tmdlta_twtu1  21\n",
       "3                            tmdlta_twtu2  19\n",
       "13                           u1_create_tm  19\n",
       "20  lang_125C57F4FA6D4E110983FB11B52EFD4E  16\n",
       "12                            tmdlta_u2u1  13\n",
       "25                              num_links  12\n",
       "14                                     tm  12\n",
       "0   lang_022EC308651FACB02794A8147AEE1B78  11\n",
       "16                        has_media_Video  10\n",
       "27  lang_4DC22C3F31C5C43721E6B5815A595ED6   9\n",
       "18                               u1_vrfed   9"
      ]
     },
     "metadata": {},
     "output_type": "display_data"
    },
    {
     "name": "stdout",
     "output_type": "stream",
     "text": [
      "Reply\n"
     ]
    },
    {
     "data": {
      "image/png": "[encoded data removed]",
      "text/plain": [
       "<Figure size 432x288 with 1 Axes>"
      ]
     },
     "metadata": {
      "needs_background": "light"
     },
     "output_type": "display_data"
    },
    {
     "data": {
      "text/html": [
       "<div>\n",
       "<style scoped>\n",
       "    .dataframe tbody tr th:only-of-type {\n",
       "        vertical-align: middle;\n",
       "    }\n",
       "\n",
       "    .dataframe tbody tr th {\n",
       "        vertical-align: top;\n",
       "    }\n",
       "\n",
       "    .dataframe thead th {\n",
       "        text-align: right;\n",
       "    }\n",
       "</style>\n",
       "<table border=\"1\" class=\"dataframe\">\n",
       "  <thead>\n",
       "    <tr style=\"text-align: right;\">\n",
       "      <th></th>\n",
       "      <th>0</th>\n",
       "      <th>1</th>\n",
       "    </tr>\n",
       "  </thead>\n",
       "  <tbody>\n",
       "    <tr>\n",
       "      <th>12</th>\n",
       "      <td>u2_create_tm</td>\n",
       "      <td>45</td>\n",
       "    </tr>\n",
       "    <tr>\n",
       "      <th>1</th>\n",
       "      <td>tmdlta_twtu2</td>\n",
       "      <td>40</td>\n",
       "    </tr>\n",
       "    <tr>\n",
       "      <th>10</th>\n",
       "      <td>u1_fllwing_cnt</td>\n",
       "      <td>39</td>\n",
       "    </tr>\n",
       "    <tr>\n",
       "      <th>2</th>\n",
       "      <td>u2_following_cnt</td>\n",
       "      <td>38</td>\n",
       "    </tr>\n",
       "    <tr>\n",
       "      <th>7</th>\n",
       "      <td>u1_fllwer_cnt</td>\n",
       "      <td>30</td>\n",
       "    </tr>\n",
       "    <tr>\n",
       "      <th>4</th>\n",
       "      <td>len_toks</td>\n",
       "      <td>25</td>\n",
       "    </tr>\n",
       "    <tr>\n",
       "      <th>8</th>\n",
       "      <td>u2_follower_cnt</td>\n",
       "      <td>24</td>\n",
       "    </tr>\n",
       "    <tr>\n",
       "      <th>0</th>\n",
       "      <td>tmdlta_u2u1</td>\n",
       "      <td>18</td>\n",
       "    </tr>\n",
       "    <tr>\n",
       "      <th>3</th>\n",
       "      <td>u1_create_tm</td>\n",
       "      <td>15</td>\n",
       "    </tr>\n",
       "    <tr>\n",
       "      <th>5</th>\n",
       "      <td>lang_4DC22C3F31C5C43721E6B5815A595ED6</td>\n",
       "      <td>10</td>\n",
       "    </tr>\n",
       "    <tr>\n",
       "      <th>14</th>\n",
       "      <td>lang_9BF3403E0EB7EA8A256DA9019C0B0716</td>\n",
       "      <td>10</td>\n",
       "    </tr>\n",
       "    <tr>\n",
       "      <th>23</th>\n",
       "      <td>lang_167115458A0DBDFF7E9C0C53A83BAC9B</td>\n",
       "      <td>9</td>\n",
       "    </tr>\n",
       "    <tr>\n",
       "      <th>18</th>\n",
       "      <td>u1_fllw_u2</td>\n",
       "      <td>8</td>\n",
       "    </tr>\n",
       "    <tr>\n",
       "      <th>26</th>\n",
       "      <td>num_links</td>\n",
       "      <td>8</td>\n",
       "    </tr>\n",
       "    <tr>\n",
       "      <th>11</th>\n",
       "      <td>tm</td>\n",
       "      <td>8</td>\n",
       "    </tr>\n",
       "    <tr>\n",
       "      <th>13</th>\n",
       "      <td>tmdlta_twtu1</td>\n",
       "      <td>8</td>\n",
       "    </tr>\n",
       "    <tr>\n",
       "      <th>19</th>\n",
       "      <td>twttyp_Retweet</td>\n",
       "      <td>8</td>\n",
       "    </tr>\n",
       "    <tr>\n",
       "      <th>15</th>\n",
       "      <td>tm_hour</td>\n",
       "      <td>6</td>\n",
       "    </tr>\n",
       "    <tr>\n",
       "      <th>17</th>\n",
       "      <td>twttyp_TopLevel</td>\n",
       "      <td>6</td>\n",
       "    </tr>\n",
       "    <tr>\n",
       "      <th>6</th>\n",
       "      <td>num_hshtgs</td>\n",
       "      <td>6</td>\n",
       "    </tr>\n",
       "  </tbody>\n",
       "</table>\n",
       "</div>"
      ],
      "text/plain": [
       "                                        0   1\n",
       "12                           u2_create_tm  45\n",
       "1                            tmdlta_twtu2  40\n",
       "10                         u1_fllwing_cnt  39\n",
       "2                        u2_following_cnt  38\n",
       "7                           u1_fllwer_cnt  30\n",
       "4                                len_toks  25\n",
       "8                         u2_follower_cnt  24\n",
       "0                             tmdlta_u2u1  18\n",
       "3                            u1_create_tm  15\n",
       "5   lang_4DC22C3F31C5C43721E6B5815A595ED6  10\n",
       "14  lang_9BF3403E0EB7EA8A256DA9019C0B0716  10\n",
       "23  lang_167115458A0DBDFF7E9C0C53A83BAC9B   9\n",
       "18                             u1_fllw_u2   8\n",
       "26                              num_links   8\n",
       "11                                     tm   8\n",
       "13                           tmdlta_twtu1   8\n",
       "19                         twttyp_Retweet   8\n",
       "15                                tm_hour   6\n",
       "17                        twttyp_TopLevel   6\n",
       "6                              num_hshtgs   6"
      ]
     },
     "metadata": {},
     "output_type": "display_data"
    },
    {
     "name": "stdout",
     "output_type": "stream",
     "text": [
      "Like\n"
     ]
    },
    {
     "data": {
      "image/png": "[encoded data removed]",
      "text/plain": [
       "<Figure size 432x288 with 1 Axes>"
      ]
     },
     "metadata": {
      "needs_background": "light"
     },
     "output_type": "display_data"
    },
    {
     "data": {
      "text/html": [
       "<div>\n",
       "<style scoped>\n",
       "    .dataframe tbody tr th:only-of-type {\n",
       "        vertical-align: middle;\n",
       "    }\n",
       "\n",
       "    .dataframe tbody tr th {\n",
       "        vertical-align: top;\n",
       "    }\n",
       "\n",
       "    .dataframe thead th {\n",
       "        text-align: right;\n",
       "    }\n",
       "</style>\n",
       "<table border=\"1\" class=\"dataframe\">\n",
       "  <thead>\n",
       "    <tr style=\"text-align: right;\">\n",
       "      <th></th>\n",
       "      <th>0</th>\n",
       "      <th>1</th>\n",
       "    </tr>\n",
       "  </thead>\n",
       "  <tbody>\n",
       "    <tr>\n",
       "      <th>5</th>\n",
       "      <td>u1_fllwer_cnt</td>\n",
       "      <td>62</td>\n",
       "    </tr>\n",
       "    <tr>\n",
       "      <th>3</th>\n",
       "      <td>u2_create_tm</td>\n",
       "      <td>59</td>\n",
       "    </tr>\n",
       "    <tr>\n",
       "      <th>9</th>\n",
       "      <td>u2_following_cnt</td>\n",
       "      <td>54</td>\n",
       "    </tr>\n",
       "    <tr>\n",
       "      <th>6</th>\n",
       "      <td>u2_follower_cnt</td>\n",
       "      <td>49</td>\n",
       "    </tr>\n",
       "    <tr>\n",
       "      <th>2</th>\n",
       "      <td>len_toks</td>\n",
       "      <td>48</td>\n",
       "    </tr>\n",
       "    <tr>\n",
       "      <th>10</th>\n",
       "      <td>tmdlta_twtu2</td>\n",
       "      <td>41</td>\n",
       "    </tr>\n",
       "    <tr>\n",
       "      <th>21</th>\n",
       "      <td>u1_fllwing_cnt</td>\n",
       "      <td>37</td>\n",
       "    </tr>\n",
       "    <tr>\n",
       "      <th>15</th>\n",
       "      <td>tm</td>\n",
       "      <td>35</td>\n",
       "    </tr>\n",
       "    <tr>\n",
       "      <th>7</th>\n",
       "      <td>u1_create_tm</td>\n",
       "      <td>33</td>\n",
       "    </tr>\n",
       "    <tr>\n",
       "      <th>13</th>\n",
       "      <td>tmdlta_twtu1</td>\n",
       "      <td>28</td>\n",
       "    </tr>\n",
       "    <tr>\n",
       "      <th>17</th>\n",
       "      <td>has_media_Photo</td>\n",
       "      <td>18</td>\n",
       "    </tr>\n",
       "    <tr>\n",
       "      <th>1</th>\n",
       "      <td>num_links</td>\n",
       "      <td>15</td>\n",
       "    </tr>\n",
       "    <tr>\n",
       "      <th>11</th>\n",
       "      <td>lang_022EC308651FACB02794A8147AEE1B78</td>\n",
       "      <td>13</td>\n",
       "    </tr>\n",
       "    <tr>\n",
       "      <th>20</th>\n",
       "      <td>num_hshtgs</td>\n",
       "      <td>13</td>\n",
       "    </tr>\n",
       "    <tr>\n",
       "      <th>12</th>\n",
       "      <td>tmdlta_u2u1</td>\n",
       "      <td>12</td>\n",
       "    </tr>\n",
       "    <tr>\n",
       "      <th>19</th>\n",
       "      <td>u1_fllw_u2</td>\n",
       "      <td>11</td>\n",
       "    </tr>\n",
       "    <tr>\n",
       "      <th>23</th>\n",
       "      <td>twttyp_TopLevel</td>\n",
       "      <td>10</td>\n",
       "    </tr>\n",
       "    <tr>\n",
       "      <th>27</th>\n",
       "      <td>lang_9BF3403E0EB7EA8A256DA9019C0B0716</td>\n",
       "      <td>10</td>\n",
       "    </tr>\n",
       "    <tr>\n",
       "      <th>0</th>\n",
       "      <td>twttyp_Retweet</td>\n",
       "      <td>10</td>\n",
       "    </tr>\n",
       "    <tr>\n",
       "      <th>16</th>\n",
       "      <td>lang_D3164C7FBCF2565DDF915B1B3AEFB1DC</td>\n",
       "      <td>9</td>\n",
       "    </tr>\n",
       "  </tbody>\n",
       "</table>\n",
       "</div>"
      ],
      "text/plain": [
       "                                        0   1\n",
       "5                           u1_fllwer_cnt  62\n",
       "3                            u2_create_tm  59\n",
       "9                        u2_following_cnt  54\n",
       "6                         u2_follower_cnt  49\n",
       "2                                len_toks  48\n",
       "10                           tmdlta_twtu2  41\n",
       "21                         u1_fllwing_cnt  37\n",
       "15                                     tm  35\n",
       "7                            u1_create_tm  33\n",
       "13                           tmdlta_twtu1  28\n",
       "17                        has_media_Photo  18\n",
       "1                               num_links  15\n",
       "11  lang_022EC308651FACB02794A8147AEE1B78  13\n",
       "20                             num_hshtgs  13\n",
       "12                            tmdlta_u2u1  12\n",
       "19                             u1_fllw_u2  11\n",
       "23                        twttyp_TopLevel  10\n",
       "27  lang_9BF3403E0EB7EA8A256DA9019C0B0716  10\n",
       "0                          twttyp_Retweet  10\n",
       "16  lang_D3164C7FBCF2565DDF915B1B3AEFB1DC   9"
      ]
     },
     "metadata": {},
     "output_type": "display_data"
    },
    {
     "name": "stdout",
     "output_type": "stream",
     "text": [
      "RTwCmnt\n"
     ]
    },
    {
     "data": {
      "image/png": "[encoded data removed]",
      "text/plain": [
       "<Figure size 432x288 with 1 Axes>"
      ]
     },
     "metadata": {
      "needs_background": "light"
     },
     "output_type": "display_data"
    },
    {
     "data": {
      "text/html": [
       "<div>\n",
       "<style scoped>\n",
       "    .dataframe tbody tr th:only-of-type {\n",
       "        vertical-align: middle;\n",
       "    }\n",
       "\n",
       "    .dataframe tbody tr th {\n",
       "        vertical-align: top;\n",
       "    }\n",
       "\n",
       "    .dataframe thead th {\n",
       "        text-align: right;\n",
       "    }\n",
       "</style>\n",
       "<table border=\"1\" class=\"dataframe\">\n",
       "  <thead>\n",
       "    <tr style=\"text-align: right;\">\n",
       "      <th></th>\n",
       "      <th>0</th>\n",
       "      <th>1</th>\n",
       "    </tr>\n",
       "  </thead>\n",
       "  <tbody>\n",
       "    <tr>\n",
       "      <th>0</th>\n",
       "      <td>u2_create_tm</td>\n",
       "      <td>23</td>\n",
       "    </tr>\n",
       "    <tr>\n",
       "      <th>1</th>\n",
       "      <td>u2_follower_cnt</td>\n",
       "      <td>21</td>\n",
       "    </tr>\n",
       "    <tr>\n",
       "      <th>3</th>\n",
       "      <td>u1_fllwer_cnt</td>\n",
       "      <td>18</td>\n",
       "    </tr>\n",
       "    <tr>\n",
       "      <th>4</th>\n",
       "      <td>tmdlta_u2u1</td>\n",
       "      <td>11</td>\n",
       "    </tr>\n",
       "    <tr>\n",
       "      <th>5</th>\n",
       "      <td>len_toks</td>\n",
       "      <td>10</td>\n",
       "    </tr>\n",
       "    <tr>\n",
       "      <th>9</th>\n",
       "      <td>u1_fllwing_cnt</td>\n",
       "      <td>8</td>\n",
       "    </tr>\n",
       "    <tr>\n",
       "      <th>10</th>\n",
       "      <td>tmdlta_twtu2</td>\n",
       "      <td>8</td>\n",
       "    </tr>\n",
       "    <tr>\n",
       "      <th>7</th>\n",
       "      <td>u1_create_tm</td>\n",
       "      <td>8</td>\n",
       "    </tr>\n",
       "    <tr>\n",
       "      <th>14</th>\n",
       "      <td>has_media_Video</td>\n",
       "      <td>7</td>\n",
       "    </tr>\n",
       "    <tr>\n",
       "      <th>11</th>\n",
       "      <td>tm</td>\n",
       "      <td>5</td>\n",
       "    </tr>\n",
       "    <tr>\n",
       "      <th>8</th>\n",
       "      <td>twttyp_Retweet</td>\n",
       "      <td>4</td>\n",
       "    </tr>\n",
       "    <tr>\n",
       "      <th>22</th>\n",
       "      <td>twttyp_TopLevel</td>\n",
       "      <td>4</td>\n",
       "    </tr>\n",
       "    <tr>\n",
       "      <th>2</th>\n",
       "      <td>u2_following_cnt</td>\n",
       "      <td>4</td>\n",
       "    </tr>\n",
       "    <tr>\n",
       "      <th>24</th>\n",
       "      <td>lang_22C448FF81263D4BAF2A176145EE9EAD</td>\n",
       "      <td>4</td>\n",
       "    </tr>\n",
       "    <tr>\n",
       "      <th>20</th>\n",
       "      <td>u1_fllw_u2</td>\n",
       "      <td>4</td>\n",
       "    </tr>\n",
       "    <tr>\n",
       "      <th>12</th>\n",
       "      <td>tm_hour</td>\n",
       "      <td>3</td>\n",
       "    </tr>\n",
       "    <tr>\n",
       "      <th>13</th>\n",
       "      <td>lang_259A6F6DFD672CB1F883CBEC01B99F2D</td>\n",
       "      <td>2</td>\n",
       "    </tr>\n",
       "    <tr>\n",
       "      <th>16</th>\n",
       "      <td>lang_ECED8A16BE2A5E8871FD55F4842F16B1</td>\n",
       "      <td>2</td>\n",
       "    </tr>\n",
       "    <tr>\n",
       "      <th>25</th>\n",
       "      <td>lang_4DC22C3F31C5C43721E6B5815A595ED6</td>\n",
       "      <td>2</td>\n",
       "    </tr>\n",
       "    <tr>\n",
       "      <th>27</th>\n",
       "      <td>tmdlta_twtu1</td>\n",
       "      <td>1</td>\n",
       "    </tr>\n",
       "  </tbody>\n",
       "</table>\n",
       "</div>"
      ],
      "text/plain": [
       "                                        0   1\n",
       "0                            u2_create_tm  23\n",
       "1                         u2_follower_cnt  21\n",
       "3                           u1_fllwer_cnt  18\n",
       "4                             tmdlta_u2u1  11\n",
       "5                                len_toks  10\n",
       "9                          u1_fllwing_cnt   8\n",
       "10                           tmdlta_twtu2   8\n",
       "7                            u1_create_tm   8\n",
       "14                        has_media_Video   7\n",
       "11                                     tm   5\n",
       "8                          twttyp_Retweet   4\n",
       "22                        twttyp_TopLevel   4\n",
       "2                        u2_following_cnt   4\n",
       "24  lang_22C448FF81263D4BAF2A176145EE9EAD   4\n",
       "20                             u1_fllw_u2   4\n",
       "12                                tm_hour   3\n",
       "13  lang_259A6F6DFD672CB1F883CBEC01B99F2D   2\n",
       "16  lang_ECED8A16BE2A5E8871FD55F4842F16B1   2\n",
       "25  lang_4DC22C3F31C5C43721E6B5815A595ED6   2\n",
       "27                           tmdlta_twtu1   1"
      ]
     },
     "metadata": {},
     "output_type": "display_data"
    }
   ],
   "source": [
    "for tgt,bst in tgt2bst.items():\n",
    "    print(tgt)\n",
    "    show_feat_importance(bst)"
   ]
  },
  {
   "cell_type": "code",
   "execution_count": null,
   "metadata": {},
   "outputs": [],
   "source": []
  },
  {
   "cell_type": "code",
   "execution_count": 167,
   "metadata": {},
   "outputs": [
    {
     "name": "stdout",
     "output_type": "stream",
     "text": [
      "2020-03-20 02:52:20 Retweet\n",
      "2020-03-20 02:52:20 Reply\n",
      "2020-03-20 02:52:20 Like\n",
      "2020-03-20 02:52:20 RTwCmnt\n"
     ]
    }
   ],
   "source": [
    "tgt2prdtr={}\n",
    "tgt2prdvl={}\n",
    "for tgt in tgts:\n",
    "    print(dtnow(), tgt)\n",
    "    bst = tgt2bst[tgt]\n",
    "    tgt2prdtr[tgt] = bst.predict(dtr)\n",
    "    tgt2prdvl[tgt] = bst.predict(dvl)\n",
    "    "
   ]
  },
  {
   "cell_type": "code",
   "execution_count": 168,
   "metadata": {},
   "outputs": [
    {
     "name": "stdout",
     "output_type": "stream",
     "text": [
      "Retweet\n",
      "train rocauc: 0.7216 valid auc: 0.7200\n",
      "train prauc: 0.2972 valid auc: 0.2908\n",
      "train rce: 8.6546 valid rce: 8.4212\n",
      "Reply\n",
      "train rocauc: 0.7610 valid auc: 0.7500\n",
      "train prauc: 0.1032 valid auc: 0.0804\n",
      "train rce: -3.8355 valid rce: -5.1494\n",
      "Like\n",
      "train rocauc: 0.7194 valid auc: 0.7145\n",
      "train prauc: 0.6589 valid auc: 0.6531\n",
      "train rce: 10.8515 valid rce: 10.4371\n",
      "RTwCmnt\n",
      "train rocauc: 0.6807 valid auc: 0.6723\n",
      "train prauc: 0.0247 valid auc: 0.0149\n",
      "train rce: -60.0587 valid rce: -62.3363\n"
     ]
    }
   ],
   "source": [
    "tgt2auc_trn={}\n",
    "tgt2rce_trn={}\n",
    "tgt2auc_val={}\n",
    "tgt2rce_val={}\n",
    "for itgt, tgt in enumerate(tgts):\n",
    "    print(tgt)\n",
    "    prdtr_i, prdvl_i = tgt2prdtr[tgt], tgt2prdvl[tgt]\n",
    "    ytr_i, yvl_i = tgt2ytr[tgt], tgt2yvl[tgt]\n",
    "    scr_rocauc_trn = roc_auc_score(ytr_i, prdtr_i)\n",
    "    scr_rocauc_val = roc_auc_score(yvl_i, prdvl_i)\n",
    "    scr_auc_trn=compute_prauc(prdtr_i, ytr_i)\n",
    "    scr_rce_trn=compute_rce(prdtr_i, ytr_i)\n",
    "    scr_auc_val=compute_prauc(prdvl_i, yvl_i)\n",
    "    scr_rce_val=compute_rce(prdvl_i, yvl_i)\n",
    "\n",
    "    tgt2auc_trn[tgt]=scr_auc_trn\n",
    "    tgt2rce_trn[tgt]=scr_rce_trn\n",
    "    tgt2auc_val[tgt]=scr_auc_val\n",
    "    tgt2rce_val[tgt]=scr_rce_val\n",
    "    \n",
    "    print('train rocauc:', f'{scr_rocauc_trn:.4f}', 'valid auc:', f'{scr_rocauc_val:.4f}', )\n",
    "    print('train prauc:', f'{scr_auc_trn:.4f}', 'valid auc:', f'{scr_auc_val:.4f}', )\n",
    "    print('train rce:', f'{scr_rce_trn:.4f}', 'valid rce:', f'{scr_rce_val:.4f}', )"
   ]
  },
  {
   "cell_type": "code",
   "execution_count": 169,
   "metadata": {},
   "outputs": [
    {
     "data": {
      "text/html": [
       "<div>\n",
       "<style scoped>\n",
       "    .dataframe tbody tr th:only-of-type {\n",
       "        vertical-align: middle;\n",
       "    }\n",
       "\n",
       "    .dataframe tbody tr th {\n",
       "        vertical-align: top;\n",
       "    }\n",
       "\n",
       "    .dataframe thead th {\n",
       "        text-align: right;\n",
       "    }\n",
       "</style>\n",
       "<table border=\"1\" class=\"dataframe\">\n",
       "  <thead>\n",
       "    <tr style=\"text-align: right;\">\n",
       "      <th></th>\n",
       "      <th>0</th>\n",
       "      <th>1</th>\n",
       "      <th>2</th>\n",
       "      <th>3</th>\n",
       "      <th>4</th>\n",
       "      <th>5</th>\n",
       "      <th>6</th>\n",
       "      <th>7</th>\n",
       "    </tr>\n",
       "  </thead>\n",
       "  <tbody>\n",
       "    <tr>\n",
       "      <th>metric</th>\n",
       "      <td>PRAUC Retweet</td>\n",
       "      <td>RCE Retweet</td>\n",
       "      <td>PRAUC Reply</td>\n",
       "      <td>RCE Reply</td>\n",
       "      <td>PRAUC Like</td>\n",
       "      <td>RCE Like</td>\n",
       "      <td>PRAUC RTwCmnt</td>\n",
       "      <td>RCE RTwCmnt</td>\n",
       "    </tr>\n",
       "    <tr>\n",
       "      <th>scrtrn</th>\n",
       "      <td>0.297169</td>\n",
       "      <td>8.65464</td>\n",
       "      <td>0.103174</td>\n",
       "      <td>-3.83546</td>\n",
       "      <td>0.658901</td>\n",
       "      <td>10.8515</td>\n",
       "      <td>0.0246661</td>\n",
       "      <td>-60.0587</td>\n",
       "    </tr>\n",
       "    <tr>\n",
       "      <th>scrval</th>\n",
       "      <td>0.290807</td>\n",
       "      <td>8.42118</td>\n",
       "      <td>0.0803556</td>\n",
       "      <td>-5.14937</td>\n",
       "      <td>0.653098</td>\n",
       "      <td>10.4371</td>\n",
       "      <td>0.0149352</td>\n",
       "      <td>-62.3363</td>\n",
       "    </tr>\n",
       "  </tbody>\n",
       "</table>\n",
       "</div>"
      ],
      "text/plain": [
       "                    0            1            2          3           4  \\\n",
       "metric  PRAUC Retweet  RCE Retweet  PRAUC Reply  RCE Reply  PRAUC Like   \n",
       "scrtrn       0.297169      8.65464     0.103174   -3.83546    0.658901   \n",
       "scrval       0.290807      8.42118    0.0803556   -5.14937    0.653098   \n",
       "\n",
       "               5              6            7  \n",
       "metric  RCE Like  PRAUC RTwCmnt  RCE RTwCmnt  \n",
       "scrtrn   10.8515      0.0246661     -60.0587  \n",
       "scrval   10.4371      0.0149352     -62.3363  "
      ]
     },
     "execution_count": 169,
     "metadata": {},
     "output_type": "execute_result"
    }
   ],
   "source": [
    "lsttrn=[]\n",
    "lstval=[]\n",
    "for tgt in ['Retweet','Reply','Like','RTwCmnt',]:\n",
    "    lsttrn+=[(f'PRAUC {tgt}',tgt2auc_trn[tgt]),\n",
    "          (f'RCE {tgt}',tgt2rce_trn[tgt])]\n",
    "    lstval+=[(f'PRAUC {tgt}',tgt2auc_val[tgt]),\n",
    "          (f'RCE {tgt}',tgt2rce_val[tgt])]\n",
    "\n",
    "dfscrtrn=pd.DataFrame(lsttrn)\n",
    "dfscrtrn.columns=['metric','scr']\n",
    "dfscrval=pd.DataFrame(lstval)\n",
    "dfscrval.columns=['metric','scr']\n",
    "dfscr = pd.merge(dfscrtrn, dfscrval, on='metric', suffixes=('trn','val'))\n",
    "dfscr.T"
   ]
  },
  {
   "cell_type": "markdown",
   "metadata": {},
   "source": [
    "# infer"
   ]
  },
  {
   "cell_type": "raw",
   "metadata": {},
   "source": [
    "ls -lhS $p_in | grep val"
   ]
  },
  {
   "cell_type": "code",
   "execution_count": 170,
   "metadata": {},
   "outputs": [
    {
     "ename": "TypeError",
     "evalue": "parser_f() missing 1 required positional argument: 'filepath_or_buffer'",
     "output_type": "error",
     "traceback": [
      "\u001b[0;31m---------------------------------------------------------------------------\u001b[0m",
      "\u001b[0;31mTypeError\u001b[0m                                 Traceback (most recent call last)",
      "\u001b[0;32m<timed exec>\u001b[0m in \u001b[0;36m<module>\u001b[0;34m\u001b[0m\n",
      "\u001b[0;31mTypeError\u001b[0m: parser_f() missing 1 required positional argument: 'filepath_or_buffer'"
     ]
    }
   ],
   "source": [
    "%%time\n",
    "dftst=pd.read_csv(\n",
    "#     f'{p_in}/val_{valtmstmp}.tsv',\n",
    "#     f'{p_in}/val_259A6F6DFD672CB1F883CBEC01B99F2D_1584405047.tsv',\n",
    "    sep='\\x01', header=None, names=cols_val,)\n"
   ]
  },
  {
   "cell_type": "code",
   "execution_count": 171,
   "metadata": {
    "scrolled": false
   },
   "outputs": [
    {
     "ename": "AttributeError",
     "evalue": "'DataFrame' object has no attribute 'toks'",
     "output_type": "error",
     "traceback": [
      "\u001b[0;31m---------------------------------------------------------------------------\u001b[0m",
      "\u001b[0;31mAttributeError\u001b[0m                            Traceback (most recent call last)",
      "\u001b[0;32m<timed exec>\u001b[0m in \u001b[0;36m<module>\u001b[0;34m\u001b[0m\n",
      "\u001b[0;32m<ipython-input-49-3b206bcb1d22>\u001b[0m in \u001b[0;36mprp_df\u001b[0;34m(df, istrn)\u001b[0m\n\u001b[1;32m      1\u001b[0m \u001b[0;32mdef\u001b[0m \u001b[0mprp_df\u001b[0m\u001b[0;34m(\u001b[0m\u001b[0mdf\u001b[0m\u001b[0;34m,\u001b[0m \u001b[0mistrn\u001b[0m\u001b[0;34m=\u001b[0m\u001b[0;32mTrue\u001b[0m\u001b[0;34m)\u001b[0m\u001b[0;34m:\u001b[0m\u001b[0;34m\u001b[0m\u001b[0;34m\u001b[0m\u001b[0m\n\u001b[0;32m----> 2\u001b[0;31m     \u001b[0mdf\u001b[0m\u001b[0;34m[\u001b[0m\u001b[0;34m'len_toks'\u001b[0m\u001b[0;34m]\u001b[0m\u001b[0;34m=\u001b[0m\u001b[0mdf\u001b[0m\u001b[0;34m.\u001b[0m\u001b[0mtoks\u001b[0m\u001b[0;34m.\u001b[0m\u001b[0mapply\u001b[0m\u001b[0;34m(\u001b[0m\u001b[0mlen\u001b[0m\u001b[0;34m)\u001b[0m\u001b[0;34m\u001b[0m\u001b[0;34m\u001b[0m\u001b[0m\n\u001b[0m\u001b[1;32m      3\u001b[0m     \u001b[0;32mfor\u001b[0m \u001b[0mmedia\u001b[0m \u001b[0;32min\u001b[0m \u001b[0;34m[\u001b[0m\u001b[0;34m'Photo'\u001b[0m\u001b[0;34m,\u001b[0m \u001b[0;34m'Video'\u001b[0m\u001b[0;34m,\u001b[0m \u001b[0;34m'GIF'\u001b[0m\u001b[0;34m]\u001b[0m\u001b[0;34m:\u001b[0m\u001b[0;34m\u001b[0m\u001b[0;34m\u001b[0m\u001b[0m\n\u001b[1;32m      4\u001b[0m         \u001b[0mdf\u001b[0m\u001b[0;34m[\u001b[0m\u001b[0;34mf'has_media_{media}'\u001b[0m\u001b[0;34m]\u001b[0m \u001b[0;34m=\u001b[0m \u001b[0mdf\u001b[0m\u001b[0;34m.\u001b[0m\u001b[0mmedia\u001b[0m\u001b[0;34m.\u001b[0m\u001b[0mfillna\u001b[0m\u001b[0;34m(\u001b[0m\u001b[0;34m''\u001b[0m\u001b[0;34m)\u001b[0m\u001b[0;34m.\u001b[0m\u001b[0mapply\u001b[0m\u001b[0;34m(\u001b[0m\u001b[0;32mlambda\u001b[0m \u001b[0mx\u001b[0m\u001b[0;34m:\u001b[0m \u001b[0mmedia\u001b[0m \u001b[0;32min\u001b[0m \u001b[0mx\u001b[0m\u001b[0;34m)\u001b[0m\u001b[0;34m\u001b[0m\u001b[0;34m\u001b[0m\u001b[0m\n\u001b[1;32m      5\u001b[0m     \u001b[0;32mfor\u001b[0m \u001b[0mcol\u001b[0m \u001b[0;32min\u001b[0m \u001b[0;34m[\u001b[0m\u001b[0;34m'hshtgs'\u001b[0m\u001b[0;34m,\u001b[0m \u001b[0;34m'links'\u001b[0m\u001b[0;34m,\u001b[0m \u001b[0;34m'domns'\u001b[0m\u001b[0;34m,\u001b[0m\u001b[0;34m]\u001b[0m\u001b[0;34m:\u001b[0m\u001b[0;34m\u001b[0m\u001b[0;34m\u001b[0m\u001b[0m\n",
      "\u001b[0;32m/data/anaconda3/envs/rcss20/lib/python3.7/site-packages/pandas/core/generic.py\u001b[0m in \u001b[0;36m__getattr__\u001b[0;34m(self, name)\u001b[0m\n\u001b[1;32m   5272\u001b[0m             \u001b[0;32mif\u001b[0m \u001b[0mself\u001b[0m\u001b[0;34m.\u001b[0m\u001b[0m_info_axis\u001b[0m\u001b[0;34m.\u001b[0m\u001b[0m_can_hold_identifiers_and_holds_name\u001b[0m\u001b[0;34m(\u001b[0m\u001b[0mname\u001b[0m\u001b[0;34m)\u001b[0m\u001b[0;34m:\u001b[0m\u001b[0;34m\u001b[0m\u001b[0;34m\u001b[0m\u001b[0m\n\u001b[1;32m   5273\u001b[0m                 \u001b[0;32mreturn\u001b[0m \u001b[0mself\u001b[0m\u001b[0;34m[\u001b[0m\u001b[0mname\u001b[0m\u001b[0;34m]\u001b[0m\u001b[0;34m\u001b[0m\u001b[0;34m\u001b[0m\u001b[0m\n\u001b[0;32m-> 5274\u001b[0;31m             \u001b[0;32mreturn\u001b[0m \u001b[0mobject\u001b[0m\u001b[0;34m.\u001b[0m\u001b[0m__getattribute__\u001b[0m\u001b[0;34m(\u001b[0m\u001b[0mself\u001b[0m\u001b[0;34m,\u001b[0m \u001b[0mname\u001b[0m\u001b[0;34m)\u001b[0m\u001b[0;34m\u001b[0m\u001b[0;34m\u001b[0m\u001b[0m\n\u001b[0m\u001b[1;32m   5275\u001b[0m \u001b[0;34m\u001b[0m\u001b[0m\n\u001b[1;32m   5276\u001b[0m     \u001b[0;32mdef\u001b[0m \u001b[0m__setattr__\u001b[0m\u001b[0;34m(\u001b[0m\u001b[0mself\u001b[0m\u001b[0;34m,\u001b[0m \u001b[0mname\u001b[0m\u001b[0;34m:\u001b[0m \u001b[0mstr\u001b[0m\u001b[0;34m,\u001b[0m \u001b[0mvalue\u001b[0m\u001b[0;34m)\u001b[0m \u001b[0;34m->\u001b[0m \u001b[0;32mNone\u001b[0m\u001b[0;34m:\u001b[0m\u001b[0;34m\u001b[0m\u001b[0;34m\u001b[0m\u001b[0m\n",
      "\u001b[0;31mAttributeError\u001b[0m: 'DataFrame' object has no attribute 'toks'"
     ]
    }
   ],
   "source": [
    "%%time\n",
    "dftst = prp_df(dftst, istrn=False)"
   ]
  },
  {
   "cell_type": "code",
   "execution_count": 172,
   "metadata": {},
   "outputs": [
    {
     "name": "stdout",
     "output_type": "stream",
     "text": [
      "2020-03-20 02:52:25 Retweet\n",
      "2020-03-20 02:52:25 Reply\n",
      "2020-03-20 02:52:25 Like\n",
      "2020-03-20 02:52:25 RTwCmnt\n",
      "CPU times: user 161 ms, sys: 22.7 ms, total: 184 ms\n",
      "Wall time: 34.7 ms\n"
     ]
    }
   ],
   "source": [
    "%%time\n",
    "dtst = xgb.DMatrix(dftst[cols_feat], feature_names=cols_feat)\n",
    "tgt2prdtst={}\n",
    "for tgt in tgts:\n",
    "    print(dtnow(), tgt)\n",
    "    bst = tgt2bst[tgt]\n",
    "    tgt2prdtst[tgt] = bst.predict(dtst)"
   ]
  },
  {
   "cell_type": "code",
   "execution_count": 173,
   "metadata": {},
   "outputs": [],
   "source": [
    "dfsub_ids = dftst[['twtid','u2id',]]\n",
    "\n",
    "tgt2dfsub = {}\n",
    "for tgt,prdtst in tgt2prdtst.items():\n",
    "    dfsub = dfsub_ids.copy()\n",
    "    dfsub['scr'] = prdtst\n",
    "    tgt2dfsub[tgt]=dfsub"
   ]
  },
  {
   "cell_type": "code",
   "execution_count": 174,
   "metadata": {},
   "outputs": [
    {
     "name": "stdout",
     "output_type": "stream",
     "text": [
      "2020-03-20 02:52:25 Retweet\n",
      "2020-03-20 02:52:25 Reply\n",
      "2020-03-20 02:52:25 Like\n",
      "2020-03-20 02:52:25 RTwCmnt\n",
      "CPU times: user 1.29 s, sys: 164 ms, total: 1.46 s\n",
      "Wall time: 100 ms\n"
     ]
    }
   ],
   "source": [
    "%%time\n",
    "for tgt, dfsub in tgt2dfsub.items():\n",
    "    print(dtnow(), tgt)\n",
    "    dfsub.to_csv(f'{p_out}/{tgt}__{valtmstmp}__{PRFX}.csv',index=False,header=False)"
   ]
  },
  {
   "cell_type": "code",
   "execution_count": null,
   "metadata": {},
   "outputs": [],
   "source": []
  }
 ],
 "metadata": {
  "kernelspec": {
   "display_name": "rcss20",
   "language": "python",
   "name": "rcss20"
  },
  "language_info": {
   "codemirror_mode": {
    "name": "ipython",
    "version": 3
   },
   "file_extension": ".py",
   "mimetype": "text/x-python",
   "name": "python",
   "nbconvert_exporter": "python",
   "pygments_lexer": "ipython3",
   "version": "3.7.6"
  },
  "toc": {
   "base_numbering": 1,
   "nav_menu": {},
   "number_sections": true,
   "sideBar": true,
   "skip_h1_title": false,
   "title_cell": "Table of Contents",
   "title_sidebar": "Contents",
   "toc_cell": false,
   "toc_position": {},
   "toc_section_display": true,
   "toc_window_display": true
  }
 },
 "nbformat": 4,
 "nbformat_minor": 4
}
