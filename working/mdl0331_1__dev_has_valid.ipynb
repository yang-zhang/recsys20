{
 "cells": [
  {
   "cell_type": "markdown",
   "metadata": {},
   "source": [
    "# start"
   ]
  },
  {
   "cell_type": "code",
   "execution_count": 119,
   "metadata": {},
   "outputs": [
    {
     "name": "stdout",
     "output_type": "stream",
     "text": [
      "train_total 150,000,000, test_total 14,000,000\n",
      "['2020-03-17 02:32:24', '2020-04-01 17:19:38']\n",
      "['2020-02-06 00:00:00', '2020-02-12 23:59:59']\n",
      "['2020-02-13 00:00:00', '2020-02-19 23:59:59']\n"
     ]
    }
   ],
   "source": [
    "PRFX='mdl0331_1'\n",
    "trntmstmp=1584412344\n",
    "valtmstmp=1585761578\n",
    "\n",
    "tm_trn_min,tm_trn_max=(1580947200, 1581551999)\n",
    "tm_val_min,tm_val_max=(1581552000, 1582156799)\n",
    "\n",
    "SEED=101\n",
    "\n",
    "valsz = int(1e4)\n",
    "trnsz = int(1e5)\n",
    "\n",
    "train_total=int(1.5e8)\n",
    "test_total=int(1.4e7)\n",
    "print(f'train_total {train_total:,}, test_total {test_total:,}')\n",
    "\n",
    "\n",
    "import datetime\n",
    "def showtm(tm): return datetime.datetime.fromtimestamp(tm).strftime('%Y-%m-%d %H:%M:%S')\n",
    "print([showtm(tm) for tm in (trntmstmp, valtmstmp)])\n",
    "print([showtm(tm) for tm in (tm_trn_min,tm_trn_max)])\n",
    "print([showtm(tm) for tm in (tm_val_min,tm_val_max)])"
   ]
  },
  {
   "cell_type": "markdown",
   "metadata": {},
   "source": [
    "# setup"
   ]
  },
  {
   "cell_type": "code",
   "execution_count": 120,
   "metadata": {},
   "outputs": [
    {
     "name": "stdout",
     "output_type": "stream",
     "text": [
      "{'Retweet': 'retwt', 'Reply': 'reply', 'Like': 'like', 'RTwCmnt': 'retwt_cmmnt'}\n"
     ]
    }
   ],
   "source": [
    "from tqdm import tqdm\n",
    "from pathlib import Path\n",
    "from collections import Counter\n",
    "from sklearn.model_selection import train_test_split\n",
    "import pandas as pd\n",
    "import numpy as np\n",
    "import matplotlib.pyplot as plt\n",
    "from sklearn.metrics import accuracy_score, roc_auc_score, roc_curve, auc, precision_recall_curve\n",
    "import pickle\n",
    "import xgboost as xgb\n",
    "import lightgbm as lgb\n",
    "\n",
    "pd.set_option('display.max_rows', 500)\n",
    "pd.set_option('display.max_columns', 500)\n",
    "\n",
    "\n",
    "import datetime\n",
    "def dtnow(): return datetime.datetime.now().strftime('%Y-%m-%d %H:%M:%S')\n",
    "\n",
    "def iou(s1,s2):\n",
    "    return len(s1&s2) / len(s1|s2)\n",
    "\n",
    "HOME='/data/git/recsys20'\n",
    "p_in=f'{HOME}/input'\n",
    "p_out=f'{HOME}/output/{PRFX}'\n",
    "Path(p_out).mkdir(exist_ok=True, parents=True)\n",
    "\n",
    "from sklearn.metrics import precision_recall_curve, auc, log_loss\n",
    "\n",
    "def compute_prauc(pred, gt):\n",
    "    prec, recall, thresh = precision_recall_curve(gt, pred)\n",
    "    prauc = auc(recall, prec)\n",
    "    return prauc\n",
    "\n",
    "def calculate_ctr(gt):\n",
    "    positive = len([x for x in gt if x == 1])\n",
    "    ctr = positive/float(len(gt))\n",
    "    return ctr\n",
    "\n",
    "def compute_rce(pred, gt):\n",
    "    cross_entropy = log_loss(gt, pred)\n",
    "    data_ctr = calculate_ctr(gt)\n",
    "    strawman_cross_entropy = log_loss(gt, [data_ctr for _ in range(len(gt))])\n",
    "    return (1.0 - cross_entropy/strawman_cross_entropy)*100.0\n",
    "\n",
    "cols=['toks','hshtgs','twtid','media','links','domns','twttyp','lang','tm','u1id','u1_fllwer_cnt','u1_fllwing_cnt','u1_vrfed','u1_create_tm','u2id','u2_follower_cnt','u2_following_cnt','u2_vrfed','u2_create_tm','u1_fllw_u2','reply_tm','retwt_tm','retwt_cmmnt_tm','like_tm',]\n",
    "\n",
    "cols_val = cols[:-4]\n",
    "cols_tgt_tmstmp=[ 'retwt_tm', 'reply_tm', 'like_tm', 'retwt_cmmnt_tm',]\n",
    "cols_tgt=[o.split('_tm')[0] for o in cols_tgt_tmstmp]\n",
    "tgts             = ['Retweet','Reply','Like','RTwCmnt',]\n",
    "assert cols_tgt == ['retwt',  'reply','like','retwt_cmmnt',]\n",
    "tgt2col = dict(zip(tgts, cols_tgt))\n",
    "print(tgt2col)\n",
    "ntgts=len(tgts)"
   ]
  },
  {
   "cell_type": "markdown",
   "metadata": {},
   "source": [
    "# prep"
   ]
  },
  {
   "cell_type": "code",
   "execution_count": 133,
   "metadata": {},
   "outputs": [
    {
     "data": {
      "text/plain": [
       "0    D4D1EBDE74F74C5DA529959AF979625C\n",
       "1    BFB529DAB6D384EB83E899A72AB3830D\n",
       "2    519078C7834E9642508F72A6C2D0F3B7\n",
       "3    52AAE9E33EFAC8C478C57B31A9E31ED1\n",
       "4    89C1298C55EB3D68E2784F0BFB69E6F8\n",
       "Name: twtid, dtype: object"
      ]
     },
     "metadata": {},
     "output_type": "display_data"
    },
    {
     "data": {
      "text/plain": [
       "0    D4D1EBDE74F74C5DA529959AF979625C\n",
       "1    BFB529DAB6D384EB83E899A72AB3830D\n",
       "Name: twtid, dtype: object"
      ]
     },
     "metadata": {},
     "output_type": "display_data"
    },
    {
     "data": {
      "text/plain": [
       "0    519078C7834E9642508F72A6C2D0F3B7\n",
       "1    52AAE9E33EFAC8C478C57B31A9E31ED1\n",
       "2    89C1298C55EB3D68E2784F0BFB69E6F8\n",
       "Name: twtid, dtype: object"
      ]
     },
     "metadata": {},
     "output_type": "display_data"
    }
   ],
   "source": [
    "df = pd.read_csv(f'{p_in}/trn_{trntmstmp}.tsv',sep='\\x01',header=None,names=cols,nrows=5)\n",
    "dfval = pd.read_csv(f'{p_in}/trn_{trntmstmp}.tsv',sep='\\x01',header=None,names=cols,nrows=2)\n",
    "dftrn = pd.read_csv(f'{p_in}/trn_{trntmstmp}.tsv',sep='\\x01',header=None,names=cols,skiprows=2,nrows=3)\n",
    "display(df.twtid)\n",
    "display(dfval.twtid)\n",
    "display(dftrn.twtid)"
   ]
  },
  {
   "cell_type": "code",
   "execution_count": 196,
   "metadata": {},
   "outputs": [],
   "source": [
    "def prp_tm(df, col):\n",
    "    dt=pd.to_datetime(df[col], unit='s')\n",
    "    df[col+'_dayofweek']=dt.dt.dayofweek\n",
    "    df[col+'_hour']=dt.dt.hour\n",
    "\n",
    "def prpdf(df,istrn=True):\n",
    "    tags = ['hshtgs','media','links','domns',]\n",
    "    for tag in tags:\n",
    "        df[f'has_{tag}']=df[tag].notna()\n",
    "        df[tag]=df[tag].fillna('')\n",
    "        lst=df[tag].fillna('').apply(lambda x: x.split('\\t') if len(x) else [])\n",
    "        df[f'n_{tag}']=lst.apply(len)\n",
    "\n",
    "    df['toks']=df.toks.apply(lambda x: x.split('\\t'))\n",
    "    df['len_toks']=df.toks.apply(len)\n",
    "    \n",
    "    prp_tm(df, 'tm')\n",
    "    \n",
    "    df['tmdlta_u2u1']  = df.u2_create_tm - df.u1_create_tm\n",
    "    df['tmdlta_twtu1'] = df.tm - df.u1_create_tm\n",
    "    df['tmdlta_twtu2'] = df.tm - df.u2_create_tm\n",
    "    if istrn:\n",
    "        df['tmleft_twt']   = tm_trn_max-df.tm\n",
    "        df['tmleft_u1']    = tm_trn_max-df.u1_create_tm\n",
    "        df['tmleft_u2']    = tm_trn_max-df.u2_create_tm\n",
    "    else:\n",
    "        df['tmleft_twt']   = tm_val_max-df.tm\n",
    "        df['tmleft_u1']    = tm_val_max-df.u1_create_tm\n",
    "        df['tmleft_u2']    = tm_val_max-df.u2_create_tm\n",
    "    \n",
    "    if istrn: \n",
    "        df[cols_tgt]=df[cols_tgt_tmstmp].notna()\n",
    "        df.drop(inplace=True, columns=['toks', 'hshtgs', 'media', 'links', 'domns', 'twttyp', 'lang', \n",
    "                                       'tm', 'u1_create_tm','u2_create_tm', 'u1id', 'u2id', 'twtid', ]+cols_tgt_tmstmp, )\n",
    "    else:\n",
    "        df.drop(inplace=True, columns=['toks', 'hshtgs', 'media', 'links', 'domns', 'twttyp', 'lang', \n",
    "                                       'tm', 'u1_create_tm','u2_create_tm', 'u1id', ])        \n",
    "    return df    "
   ]
  },
  {
   "cell_type": "code",
   "execution_count": 197,
   "metadata": {
    "scrolled": true
   },
   "outputs": [
    {
     "name": "stdout",
     "output_type": "stream",
     "text": [
      "CPU times: user 73.2 ms, sys: 11 ms, total: 84.2 ms\n",
      "Wall time: 83 ms\n"
     ]
    }
   ],
   "source": [
    "%%time\n",
    "dftrn = pd.read_csv(f'{p_in}/trn_{trntmstmp}.tsv',sep='\\x01',header=None,names=cols,\n",
    "                     skiprows=valsz,nrows=trnsz)"
   ]
  },
  {
   "cell_type": "code",
   "execution_count": 198,
   "metadata": {
    "scrolled": false
   },
   "outputs": [
    {
     "name": "stdout",
     "output_type": "stream",
     "text": [
      "CPU times: user 121 ms, sys: 4.07 ms, total: 125 ms\n",
      "Wall time: 123 ms\n"
     ]
    }
   ],
   "source": [
    "%%time\n",
    "dftrn = prpdf(dftrn)"
   ]
  },
  {
   "cell_type": "code",
   "execution_count": 200,
   "metadata": {},
   "outputs": [
    {
     "data": {
      "text/plain": [
       "['u1_fllwer_cnt',\n",
       " 'u1_fllwing_cnt',\n",
       " 'u1_vrfed',\n",
       " 'u2_follower_cnt',\n",
       " 'u2_following_cnt',\n",
       " 'u2_vrfed',\n",
       " 'u1_fllw_u2',\n",
       " 'has_hshtgs',\n",
       " 'n_hshtgs',\n",
       " 'has_media',\n",
       " 'n_media',\n",
       " 'has_links',\n",
       " 'n_links',\n",
       " 'has_domns',\n",
       " 'n_domns',\n",
       " 'len_toks',\n",
       " 'tm_dayofweek',\n",
       " 'tm_hour',\n",
       " 'tmdlta_u2u1',\n",
       " 'tmdlta_twtu1',\n",
       " 'tmdlta_twtu2',\n",
       " 'tmleft_twt',\n",
       " 'tmleft_u1',\n",
       " 'tmleft_u2']"
      ]
     },
     "execution_count": 200,
     "metadata": {},
     "output_type": "execute_result"
    }
   ],
   "source": [
    "cols_feat=[o for o in dftrn.columns if o not in cols_tgt]\n",
    "cols_feat"
   ]
  },
  {
   "cell_type": "code",
   "execution_count": 201,
   "metadata": {
    "scrolled": false
   },
   "outputs": [
    {
     "name": "stdout",
     "output_type": "stream",
     "text": [
      "CPU times: user 17.3 ms, sys: 0 ns, total: 17.3 ms\n",
      "Wall time: 14.3 ms\n"
     ]
    }
   ],
   "source": [
    "%%time\n",
    "dfval = pd.read_csv(f'{p_in}/trn_{trntmstmp}.tsv',sep='\\x01',header=None,names=cols,nrows=valsz)"
   ]
  },
  {
   "cell_type": "code",
   "execution_count": 202,
   "metadata": {},
   "outputs": [
    {
     "name": "stdout",
     "output_type": "stream",
     "text": [
      "CPU times: user 45.3 ms, sys: 136 µs, total: 45.5 ms\n",
      "Wall time: 40.3 ms\n"
     ]
    }
   ],
   "source": [
    "%%time\n",
    "dfval = prpdf(dfval)"
   ]
  },
  {
   "cell_type": "markdown",
   "metadata": {},
   "source": [
    "# model"
   ]
  },
  {
   "cell_type": "code",
   "execution_count": 203,
   "metadata": {},
   "outputs": [],
   "source": [
    "tgt2params = {k:{'objective': 'binary:logistic',\n",
    "    'verbosity': 1,\n",
    "    'eval_metric': [ 'aucpr','logloss',],\n",
    "} for k in tgts}\n",
    "tgt2res = {}\n"
   ]
  },
  {
   "cell_type": "code",
   "execution_count": 204,
   "metadata": {},
   "outputs": [],
   "source": [
    "def train(params,dtr,dvl):\n",
    "    print(params)\n",
    "    evals_result = {}\n",
    "    evallist = [(dtr, 'train'), (dvl, 'eval')]\n",
    "    bst = xgb.train(params=params, dtrain=dtr, num_boost_round=5,#10, \n",
    "                    evals=evallist, evals_result=evals_result, \n",
    "                    verbose_eval=50,\n",
    "                    early_stopping_rounds=10)\n",
    "    return bst,evals_result\n",
    "\n",
    "def valid(bst,dtr,dvl):\n",
    "    prdtr = bst.predict(dtr, ntree_limit=bst.best_ntree_limit)\n",
    "    prdvl = bst.predict(dvl, ntree_limit=bst.best_ntree_limit)\n",
    "    return prdtr,prdvl\n",
    "\n",
    "\n",
    "def traintgt(tgt):\n",
    "    params=tgt2params[tgt]\n",
    "    tgtcol=tgt2col[tgt]\n",
    "    \n",
    "    msk_vl=np.random.rand(len(dftrn))<0.15\n",
    "    idxvl=np.where( msk_vl)[0]\n",
    "    idxtr=np.where(~msk_vl)[0]\n",
    "    ytr=dftrn.iloc[idxtr][tgtcol]\n",
    "    yvl=dftrn.iloc[idxvl][tgtcol]\n",
    "    dtr = xgb.DMatrix(dftrn.iloc[idxtr][cols_feat], label=ytr, feature_names=cols_feat)\n",
    "    dvl = xgb.DMatrix(dftrn.iloc[idxvl][cols_feat], label=yvl, feature_names=cols_feat)\n",
    "    bst,evals_result=train(params,dtr,dvl)\n",
    "    prdtr,prdvl=valid(bst,dtr,dvl)\n",
    "    return {\n",
    "    'bst':bst,\n",
    "    'evals_result':evals_result,\n",
    "    'ytr':ytr,\n",
    "    'yvl':yvl,\n",
    "    'prdtr':prdtr,\n",
    "    'prdvl':prdvl,\n",
    "    }\n",
    "    "
   ]
  },
  {
   "cell_type": "code",
   "execution_count": 205,
   "metadata": {},
   "outputs": [
    {
     "name": "stdout",
     "output_type": "stream",
     "text": [
      "2020-03-31 19:29:30 Retweet ********************************************************************************\n",
      "{'objective': 'binary:logistic', 'verbosity': 1, 'eval_metric': ['aucpr', 'logloss']}\n",
      "[0]\ttrain-aucpr:0.27226\ttrain-logloss:0.53453\teval-aucpr:0.14064\teval-logloss:0.53529\n",
      "Multiple eval metrics have been passed: 'eval-logloss' will be used for early stopping.\n",
      "\n",
      "Will train until eval-logloss hasn't improved in 10 rounds.\n",
      "[4]\ttrain-aucpr:0.43718\ttrain-logloss:0.33915\teval-aucpr:0.15211\teval-logloss:0.35338\n",
      "2020-03-31 19:29:30 Reply ********************************************************************************\n",
      "{'objective': 'binary:logistic', 'verbosity': 1, 'eval_metric': ['aucpr', 'logloss']}\n",
      "[0]\ttrain-aucpr:0.08578\ttrain-logloss:0.46407\teval-aucpr:0.04016\teval-logloss:0.46436\n",
      "Multiple eval metrics have been passed: 'eval-logloss' will be used for early stopping.\n",
      "\n",
      "Will train until eval-logloss hasn't improved in 10 rounds.\n",
      "[4]\ttrain-aucpr:0.28322\ttrain-logloss:0.17341\teval-aucpr:0.05658\teval-logloss:0.18019\n",
      "2020-03-31 19:29:30 Like ********************************************************************************\n",
      "{'objective': 'binary:logistic', 'verbosity': 1, 'eval_metric': ['aucpr', 'logloss']}\n",
      "[0]\ttrain-aucpr:0.62967\ttrain-logloss:0.66670\teval-aucpr:0.55429\teval-logloss:0.67300\n",
      "Multiple eval metrics have been passed: 'eval-logloss' will be used for early stopping.\n",
      "\n",
      "Will train until eval-logloss hasn't improved in 10 rounds.\n",
      "[4]\ttrain-aucpr:0.71043\ttrain-logloss:0.61373\teval-aucpr:0.57953\teval-logloss:0.64840\n",
      "2020-03-31 19:29:31 RTwCmnt ********************************************************************************\n",
      "{'objective': 'binary:logistic', 'verbosity': 1, 'eval_metric': ['aucpr', 'logloss']}\n",
      "[0]\ttrain-aucpr:0.01210\ttrain-logloss:0.44526\teval-aucpr:0.01100\teval-logloss:0.44754\n",
      "Multiple eval metrics have been passed: 'eval-logloss' will be used for early stopping.\n",
      "\n",
      "Will train until eval-logloss hasn't improved in 10 rounds.\n",
      "[4]\ttrain-aucpr:0.04685\ttrain-logloss:0.12826\teval-aucpr:0.01684\teval-logloss:0.13626\n"
     ]
    }
   ],
   "source": [
    "for tgt in tgts:\n",
    "    print(dtnow(), tgt, '*'*80)\n",
    "    tgt2res[tgt]=traintgt(tgt)"
   ]
  },
  {
   "cell_type": "markdown",
   "metadata": {},
   "source": [
    "# analyze"
   ]
  },
  {
   "cell_type": "markdown",
   "metadata": {},
   "source": [
    "## tr vl"
   ]
  },
  {
   "cell_type": "code",
   "execution_count": 206,
   "metadata": {
    "scrolled": false
   },
   "outputs": [
    {
     "data": {
      "image/png": "[encoded data removed]",
      "text/plain": [
       "<Figure size 432x288 with 1 Axes>"
      ]
     },
     "metadata": {
      "needs_background": "light"
     },
     "output_type": "display_data"
    },
    {
     "data": {
      "image/png": "[encoded data removed]",
      "text/plain": [
       "<Figure size 432x288 with 1 Axes>"
      ]
     },
     "metadata": {
      "needs_background": "light"
     },
     "output_type": "display_data"
    },
    {
     "data": {
      "image/png": "[encoded data removed]",
      "text/plain": [
       "<Figure size 432x288 with 1 Axes>"
      ]
     },
     "metadata": {
      "needs_background": "light"
     },
     "output_type": "display_data"
    },
    {
     "data": {
      "image/png": "[encoded data removed]",
      "text/plain": [
       "<Figure size 432x288 with 1 Axes>"
      ]
     },
     "metadata": {
      "needs_background": "light"
     },
     "output_type": "display_data"
    },
    {
     "data": {
      "image/png": "[encoded data removed]",
      "text/plain": [
       "<Figure size 432x288 with 1 Axes>"
      ]
     },
     "metadata": {
      "needs_background": "light"
     },
     "output_type": "display_data"
    },
    {
     "data": {
      "image/png": "[encoded data removed]",
      "text/plain": [
       "<Figure size 432x288 with 1 Axes>"
      ]
     },
     "metadata": {
      "needs_background": "light"
     },
     "output_type": "display_data"
    },
    {
     "data": {
      "image/png": "[encoded data removed]",
      "text/plain": [
       "<Figure size 432x288 with 1 Axes>"
      ]
     },
     "metadata": {
      "needs_background": "light"
     },
     "output_type": "display_data"
    },
    {
     "data": {
      "image/png": "[encoded data removed]",
      "text/plain": [
       "<Figure size 432x288 with 1 Axes>"
      ]
     },
     "metadata": {
      "needs_background": "light"
     },
     "output_type": "display_data"
    }
   ],
   "source": [
    "for tgt,res in tgt2res.items():\n",
    "    evalres=res['evals_result']\n",
    "    plt.plot(evalres['train']['logloss'][10:])\n",
    "    plt.plot(evalres['eval']['logloss'][10:])\n",
    "    plt.title(f\"{tgt} logloss {len(evalres['train']['logloss'])} rounds\")\n",
    "    plt.show()\n",
    "    plt.plot(evalres['train']['aucpr'])\n",
    "    plt.plot(evalres['eval']['aucpr'])\n",
    "    plt.title(f\"{tgt} aucpr {len(evalres['train']['aucpr'])} rounds\")\n",
    "    plt.show()"
   ]
  },
  {
   "cell_type": "code",
   "execution_count": 207,
   "metadata": {
    "scrolled": false
   },
   "outputs": [
    {
     "data": {
      "image/png": "[encoded data removed]",
      "text/plain": [
       "<Figure size 432x288 with 1 Axes>"
      ]
     },
     "metadata": {
      "needs_background": "light"
     },
     "output_type": "display_data"
    },
    {
     "name": "stdout",
     "output_type": "stream",
     "text": [
      "Retweet\n"
     ]
    },
    {
     "data": {
      "text/html": [
       "<div>\n",
       "<style scoped>\n",
       "    .dataframe tbody tr th:only-of-type {\n",
       "        vertical-align: middle;\n",
       "    }\n",
       "\n",
       "    .dataframe tbody tr th {\n",
       "        vertical-align: top;\n",
       "    }\n",
       "\n",
       "    .dataframe thead th {\n",
       "        text-align: right;\n",
       "    }\n",
       "</style>\n",
       "<table border=\"1\" class=\"dataframe\">\n",
       "  <thead>\n",
       "    <tr style=\"text-align: right;\">\n",
       "      <th></th>\n",
       "      <th>0</th>\n",
       "      <th>1</th>\n",
       "    </tr>\n",
       "  </thead>\n",
       "  <tbody>\n",
       "    <tr>\n",
       "      <th>9</th>\n",
       "      <td>u2_following_cnt</td>\n",
       "      <td>30</td>\n",
       "    </tr>\n",
       "    <tr>\n",
       "      <th>3</th>\n",
       "      <td>len_toks</td>\n",
       "      <td>25</td>\n",
       "    </tr>\n",
       "    <tr>\n",
       "      <th>2</th>\n",
       "      <td>tmdlta_twtu2</td>\n",
       "      <td>21</td>\n",
       "    </tr>\n",
       "    <tr>\n",
       "      <th>1</th>\n",
       "      <td>tmdlta_twtu1</td>\n",
       "      <td>20</td>\n",
       "    </tr>\n",
       "    <tr>\n",
       "      <th>4</th>\n",
       "      <td>tmdlta_u2u1</td>\n",
       "      <td>20</td>\n",
       "    </tr>\n",
       "    <tr>\n",
       "      <th>13</th>\n",
       "      <td>tmleft_twt</td>\n",
       "      <td>20</td>\n",
       "    </tr>\n",
       "    <tr>\n",
       "      <th>6</th>\n",
       "      <td>u1_fllwer_cnt</td>\n",
       "      <td>18</td>\n",
       "    </tr>\n",
       "    <tr>\n",
       "      <th>0</th>\n",
       "      <td>u2_follower_cnt</td>\n",
       "      <td>17</td>\n",
       "    </tr>\n",
       "    <tr>\n",
       "      <th>7</th>\n",
       "      <td>u1_fllwing_cnt</td>\n",
       "      <td>16</td>\n",
       "    </tr>\n",
       "    <tr>\n",
       "      <th>10</th>\n",
       "      <td>tmleft_u2</td>\n",
       "      <td>13</td>\n",
       "    </tr>\n",
       "    <tr>\n",
       "      <th>11</th>\n",
       "      <td>tm_hour</td>\n",
       "      <td>7</td>\n",
       "    </tr>\n",
       "    <tr>\n",
       "      <th>12</th>\n",
       "      <td>n_media</td>\n",
       "      <td>3</td>\n",
       "    </tr>\n",
       "    <tr>\n",
       "      <th>14</th>\n",
       "      <td>u1_vrfed</td>\n",
       "      <td>3</td>\n",
       "    </tr>\n",
       "    <tr>\n",
       "      <th>8</th>\n",
       "      <td>tmleft_u1</td>\n",
       "      <td>2</td>\n",
       "    </tr>\n",
       "    <tr>\n",
       "      <th>16</th>\n",
       "      <td>u1_fllw_u2</td>\n",
       "      <td>2</td>\n",
       "    </tr>\n",
       "    <tr>\n",
       "      <th>17</th>\n",
       "      <td>has_hshtgs</td>\n",
       "      <td>2</td>\n",
       "    </tr>\n",
       "    <tr>\n",
       "      <th>5</th>\n",
       "      <td>has_media</td>\n",
       "      <td>1</td>\n",
       "    </tr>\n",
       "    <tr>\n",
       "      <th>15</th>\n",
       "      <td>n_hshtgs</td>\n",
       "      <td>1</td>\n",
       "    </tr>\n",
       "    <tr>\n",
       "      <th>18</th>\n",
       "      <td>tm_dayofweek</td>\n",
       "      <td>1</td>\n",
       "    </tr>\n",
       "  </tbody>\n",
       "</table>\n",
       "</div>"
      ],
      "text/plain": [
       "                   0   1\n",
       "9   u2_following_cnt  30\n",
       "3           len_toks  25\n",
       "2       tmdlta_twtu2  21\n",
       "1       tmdlta_twtu1  20\n",
       "4        tmdlta_u2u1  20\n",
       "13        tmleft_twt  20\n",
       "6      u1_fllwer_cnt  18\n",
       "0    u2_follower_cnt  17\n",
       "7     u1_fllwing_cnt  16\n",
       "10         tmleft_u2  13\n",
       "11           tm_hour   7\n",
       "12           n_media   3\n",
       "14          u1_vrfed   3\n",
       "8          tmleft_u1   2\n",
       "16        u1_fllw_u2   2\n",
       "17        has_hshtgs   2\n",
       "5          has_media   1\n",
       "15          n_hshtgs   1\n",
       "18      tm_dayofweek   1"
      ]
     },
     "metadata": {},
     "output_type": "display_data"
    },
    {
     "data": {
      "image/png": "[encoded data removed]",
      "text/plain": [
       "<Figure size 432x288 with 1 Axes>"
      ]
     },
     "metadata": {
      "needs_background": "light"
     },
     "output_type": "display_data"
    },
    {
     "name": "stdout",
     "output_type": "stream",
     "text": [
      "Reply\n"
     ]
    },
    {
     "data": {
      "text/html": [
       "<div>\n",
       "<style scoped>\n",
       "    .dataframe tbody tr th:only-of-type {\n",
       "        vertical-align: middle;\n",
       "    }\n",
       "\n",
       "    .dataframe tbody tr th {\n",
       "        vertical-align: top;\n",
       "    }\n",
       "\n",
       "    .dataframe thead th {\n",
       "        text-align: right;\n",
       "    }\n",
       "</style>\n",
       "<table border=\"1\" class=\"dataframe\">\n",
       "  <thead>\n",
       "    <tr style=\"text-align: right;\">\n",
       "      <th></th>\n",
       "      <th>0</th>\n",
       "      <th>1</th>\n",
       "    </tr>\n",
       "  </thead>\n",
       "  <tbody>\n",
       "    <tr>\n",
       "      <th>9</th>\n",
       "      <td>u2_follower_cnt</td>\n",
       "      <td>15</td>\n",
       "    </tr>\n",
       "    <tr>\n",
       "      <th>2</th>\n",
       "      <td>tmdlta_twtu2</td>\n",
       "      <td>14</td>\n",
       "    </tr>\n",
       "    <tr>\n",
       "      <th>4</th>\n",
       "      <td>u1_fllwer_cnt</td>\n",
       "      <td>13</td>\n",
       "    </tr>\n",
       "    <tr>\n",
       "      <th>5</th>\n",
       "      <td>len_toks</td>\n",
       "      <td>12</td>\n",
       "    </tr>\n",
       "    <tr>\n",
       "      <th>6</th>\n",
       "      <td>tmleft_twt</td>\n",
       "      <td>11</td>\n",
       "    </tr>\n",
       "    <tr>\n",
       "      <th>7</th>\n",
       "      <td>tmdlta_u2u1</td>\n",
       "      <td>8</td>\n",
       "    </tr>\n",
       "    <tr>\n",
       "      <th>3</th>\n",
       "      <td>u1_fllwing_cnt</td>\n",
       "      <td>7</td>\n",
       "    </tr>\n",
       "    <tr>\n",
       "      <th>10</th>\n",
       "      <td>tmdlta_twtu1</td>\n",
       "      <td>6</td>\n",
       "    </tr>\n",
       "    <tr>\n",
       "      <th>0</th>\n",
       "      <td>tmleft_u2</td>\n",
       "      <td>5</td>\n",
       "    </tr>\n",
       "    <tr>\n",
       "      <th>8</th>\n",
       "      <td>u2_following_cnt</td>\n",
       "      <td>5</td>\n",
       "    </tr>\n",
       "    <tr>\n",
       "      <th>1</th>\n",
       "      <td>u1_fllw_u2</td>\n",
       "      <td>3</td>\n",
       "    </tr>\n",
       "    <tr>\n",
       "      <th>11</th>\n",
       "      <td>tm_hour</td>\n",
       "      <td>3</td>\n",
       "    </tr>\n",
       "    <tr>\n",
       "      <th>12</th>\n",
       "      <td>tm_dayofweek</td>\n",
       "      <td>2</td>\n",
       "    </tr>\n",
       "    <tr>\n",
       "      <th>13</th>\n",
       "      <td>tmleft_u1</td>\n",
       "      <td>1</td>\n",
       "    </tr>\n",
       "  </tbody>\n",
       "</table>\n",
       "</div>"
      ],
      "text/plain": [
       "                   0   1\n",
       "9    u2_follower_cnt  15\n",
       "2       tmdlta_twtu2  14\n",
       "4      u1_fllwer_cnt  13\n",
       "5           len_toks  12\n",
       "6         tmleft_twt  11\n",
       "7        tmdlta_u2u1   8\n",
       "3     u1_fllwing_cnt   7\n",
       "10      tmdlta_twtu1   6\n",
       "0          tmleft_u2   5\n",
       "8   u2_following_cnt   5\n",
       "1         u1_fllw_u2   3\n",
       "11           tm_hour   3\n",
       "12      tm_dayofweek   2\n",
       "13         tmleft_u1   1"
      ]
     },
     "metadata": {},
     "output_type": "display_data"
    },
    {
     "data": {
      "image/png": "[encoded data removed]",
      "text/plain": [
       "<Figure size 432x288 with 1 Axes>"
      ]
     },
     "metadata": {
      "needs_background": "light"
     },
     "output_type": "display_data"
    },
    {
     "name": "stdout",
     "output_type": "stream",
     "text": [
      "Like\n"
     ]
    },
    {
     "data": {
      "text/html": [
       "<div>\n",
       "<style scoped>\n",
       "    .dataframe tbody tr th:only-of-type {\n",
       "        vertical-align: middle;\n",
       "    }\n",
       "\n",
       "    .dataframe tbody tr th {\n",
       "        vertical-align: top;\n",
       "    }\n",
       "\n",
       "    .dataframe thead th {\n",
       "        text-align: right;\n",
       "    }\n",
       "</style>\n",
       "<table border=\"1\" class=\"dataframe\">\n",
       "  <thead>\n",
       "    <tr style=\"text-align: right;\">\n",
       "      <th></th>\n",
       "      <th>0</th>\n",
       "      <th>1</th>\n",
       "    </tr>\n",
       "  </thead>\n",
       "  <tbody>\n",
       "    <tr>\n",
       "      <th>7</th>\n",
       "      <td>u1_fllwer_cnt</td>\n",
       "      <td>33</td>\n",
       "    </tr>\n",
       "    <tr>\n",
       "      <th>1</th>\n",
       "      <td>u2_following_cnt</td>\n",
       "      <td>32</td>\n",
       "    </tr>\n",
       "    <tr>\n",
       "      <th>5</th>\n",
       "      <td>tmdlta_twtu2</td>\n",
       "      <td>29</td>\n",
       "    </tr>\n",
       "    <tr>\n",
       "      <th>10</th>\n",
       "      <td>u2_follower_cnt</td>\n",
       "      <td>23</td>\n",
       "    </tr>\n",
       "    <tr>\n",
       "      <th>9</th>\n",
       "      <td>len_toks</td>\n",
       "      <td>21</td>\n",
       "    </tr>\n",
       "    <tr>\n",
       "      <th>3</th>\n",
       "      <td>tmdlta_u2u1</td>\n",
       "      <td>19</td>\n",
       "    </tr>\n",
       "    <tr>\n",
       "      <th>8</th>\n",
       "      <td>u1_fllwing_cnt</td>\n",
       "      <td>16</td>\n",
       "    </tr>\n",
       "    <tr>\n",
       "      <th>2</th>\n",
       "      <td>tmleft_u2</td>\n",
       "      <td>15</td>\n",
       "    </tr>\n",
       "    <tr>\n",
       "      <th>12</th>\n",
       "      <td>tmdlta_twtu1</td>\n",
       "      <td>15</td>\n",
       "    </tr>\n",
       "    <tr>\n",
       "      <th>16</th>\n",
       "      <td>tmleft_twt</td>\n",
       "      <td>14</td>\n",
       "    </tr>\n",
       "    <tr>\n",
       "      <th>4</th>\n",
       "      <td>tm_hour</td>\n",
       "      <td>14</td>\n",
       "    </tr>\n",
       "    <tr>\n",
       "      <th>6</th>\n",
       "      <td>has_media</td>\n",
       "      <td>6</td>\n",
       "    </tr>\n",
       "    <tr>\n",
       "      <th>17</th>\n",
       "      <td>has_hshtgs</td>\n",
       "      <td>5</td>\n",
       "    </tr>\n",
       "    <tr>\n",
       "      <th>13</th>\n",
       "      <td>tmleft_u1</td>\n",
       "      <td>5</td>\n",
       "    </tr>\n",
       "    <tr>\n",
       "      <th>0</th>\n",
       "      <td>has_links</td>\n",
       "      <td>4</td>\n",
       "    </tr>\n",
       "    <tr>\n",
       "      <th>18</th>\n",
       "      <td>tm_dayofweek</td>\n",
       "      <td>4</td>\n",
       "    </tr>\n",
       "    <tr>\n",
       "      <th>15</th>\n",
       "      <td>n_hshtgs</td>\n",
       "      <td>2</td>\n",
       "    </tr>\n",
       "    <tr>\n",
       "      <th>14</th>\n",
       "      <td>n_media</td>\n",
       "      <td>2</td>\n",
       "    </tr>\n",
       "    <tr>\n",
       "      <th>11</th>\n",
       "      <td>u1_vrfed</td>\n",
       "      <td>2</td>\n",
       "    </tr>\n",
       "  </tbody>\n",
       "</table>\n",
       "</div>"
      ],
      "text/plain": [
       "                   0   1\n",
       "7      u1_fllwer_cnt  33\n",
       "1   u2_following_cnt  32\n",
       "5       tmdlta_twtu2  29\n",
       "10   u2_follower_cnt  23\n",
       "9           len_toks  21\n",
       "3        tmdlta_u2u1  19\n",
       "8     u1_fllwing_cnt  16\n",
       "2          tmleft_u2  15\n",
       "12      tmdlta_twtu1  15\n",
       "16        tmleft_twt  14\n",
       "4            tm_hour  14\n",
       "6          has_media   6\n",
       "17        has_hshtgs   5\n",
       "13         tmleft_u1   5\n",
       "0          has_links   4\n",
       "18      tm_dayofweek   4\n",
       "15          n_hshtgs   2\n",
       "14           n_media   2\n",
       "11          u1_vrfed   2"
      ]
     },
     "metadata": {},
     "output_type": "display_data"
    },
    {
     "data": {
      "image/png": "[encoded data removed]",
      "text/plain": [
       "<Figure size 432x288 with 1 Axes>"
      ]
     },
     "metadata": {
      "needs_background": "light"
     },
     "output_type": "display_data"
    },
    {
     "name": "stdout",
     "output_type": "stream",
     "text": [
      "RTwCmnt\n"
     ]
    },
    {
     "data": {
      "text/html": [
       "<div>\n",
       "<style scoped>\n",
       "    .dataframe tbody tr th:only-of-type {\n",
       "        vertical-align: middle;\n",
       "    }\n",
       "\n",
       "    .dataframe tbody tr th {\n",
       "        vertical-align: top;\n",
       "    }\n",
       "\n",
       "    .dataframe thead th {\n",
       "        text-align: right;\n",
       "    }\n",
       "</style>\n",
       "<table border=\"1\" class=\"dataframe\">\n",
       "  <thead>\n",
       "    <tr style=\"text-align: right;\">\n",
       "      <th></th>\n",
       "      <th>0</th>\n",
       "      <th>1</th>\n",
       "    </tr>\n",
       "  </thead>\n",
       "  <tbody>\n",
       "    <tr>\n",
       "      <th>0</th>\n",
       "      <td>u1_fllwer_cnt</td>\n",
       "      <td>4</td>\n",
       "    </tr>\n",
       "    <tr>\n",
       "      <th>1</th>\n",
       "      <td>tmleft_u2</td>\n",
       "      <td>4</td>\n",
       "    </tr>\n",
       "    <tr>\n",
       "      <th>2</th>\n",
       "      <td>len_toks</td>\n",
       "      <td>3</td>\n",
       "    </tr>\n",
       "    <tr>\n",
       "      <th>4</th>\n",
       "      <td>u2_vrfed</td>\n",
       "      <td>2</td>\n",
       "    </tr>\n",
       "    <tr>\n",
       "      <th>5</th>\n",
       "      <td>n_media</td>\n",
       "      <td>2</td>\n",
       "    </tr>\n",
       "    <tr>\n",
       "      <th>3</th>\n",
       "      <td>u1_fllwing_cnt</td>\n",
       "      <td>1</td>\n",
       "    </tr>\n",
       "  </tbody>\n",
       "</table>\n",
       "</div>"
      ],
      "text/plain": [
       "                0  1\n",
       "0   u1_fllwer_cnt  4\n",
       "1       tmleft_u2  4\n",
       "2        len_toks  3\n",
       "4        u2_vrfed  2\n",
       "5         n_media  2\n",
       "3  u1_fllwing_cnt  1"
      ]
     },
     "metadata": {},
     "output_type": "display_data"
    }
   ],
   "source": [
    "def show_feat_importance(tgt):\n",
    "    bst=tgt2res[tgt]['bst']\n",
    "    ax = xgb.plot_importance(bst, height=0.8, max_num_features=9)\n",
    "    ax.grid(False, axis=\"y\")\n",
    "    ax.set_title(f'{tgt} Estimated feature importance')\n",
    "    plt.show()\n",
    "    feat2importance=bst.get_fscore()\n",
    "    print(tgt)\n",
    "    display(pd.DataFrame([feat2importance.keys(), \n",
    "                          feat2importance.values()]).T.sort_values(1, ascending=False))\n",
    "\n",
    "for tgt in tgts:\n",
    "    show_feat_importance(tgt)"
   ]
  },
  {
   "cell_type": "code",
   "execution_count": 212,
   "metadata": {},
   "outputs": [
    {
     "data": {
      "text/plain": [
       "{'bst': <xgboost.core.Booster at 0x7feb88416190>,\n",
       " 'evals_result': {'train': {'aucpr': [0.27226,\n",
       "    0.336909,\n",
       "    0.377566,\n",
       "    0.39877,\n",
       "    0.437178],\n",
       "   'logloss': [0.534534, 0.446968, 0.394393, 0.362203, 0.339153]},\n",
       "  'eval': {'aucpr': [0.140636, 0.13892, 0.143634, 0.14992, 0.152108],\n",
       "   'logloss': [0.535291, 0.451639, 0.402351, 0.371544, 0.353384]}},\n",
       " 'ytr': 0       False\n",
       " 1       False\n",
       " 2        True\n",
       " 3        True\n",
       " 5       False\n",
       "         ...  \n",
       " 9995    False\n",
       " 9996    False\n",
       " 9997    False\n",
       " 9998    False\n",
       " 9999    False\n",
       " Name: retwt, Length: 8488, dtype: bool,\n",
       " 'yvl': 4       False\n",
       " 12      False\n",
       " 17      False\n",
       " 18      False\n",
       " 19      False\n",
       "         ...  \n",
       " 9945    False\n",
       " 9950    False\n",
       " 9965    False\n",
       " 9974    False\n",
       " 9980     True\n",
       " Name: retwt, Length: 1512, dtype: bool,\n",
       " 'prdtr': array([0.22001795, 0.12251174, 0.18263867, ..., 0.16530588, 0.2162638 ,\n",
       "        0.23152909], dtype=float32),\n",
       " 'prdvl': array([0.1718434 , 0.24350673, 0.23305386, ..., 0.13674092, 0.17266318,\n",
       "        0.21014048], dtype=float32)}"
      ]
     },
     "execution_count": 212,
     "metadata": {},
     "output_type": "execute_result"
    }
   ],
   "source": [
    "tgt2res[tgt]"
   ]
  },
  {
   "cell_type": "code",
   "execution_count": 216,
   "metadata": {},
   "outputs": [
    {
     "name": "stdout",
     "output_type": "stream",
     "text": [
      "Retweet\n",
      "tr prauc: 0.4372 tr rce: 4.4983\n",
      "vl prauc: 0.1517 vl rce: -5.9843\n",
      "Reply\n",
      "tr prauc: 0.2835 tr rce: -39.2597\n",
      "vl prauc: 0.0567 vl rce: -47.6808\n",
      "Like\n",
      "tr prauc: 0.7104 tr rce: 10.7398\n",
      "vl prauc: 0.5795 vl rce: 5.1301\n",
      "RTwCmnt\n",
      "tr prauc: 0.1032 tr rce: -188.4907\n",
      "vl prauc: 0.0444 vl rce: -123.6885\n"
     ]
    }
   ],
   "source": [
    "for tgt in tgts:\n",
    "    res=tgt2res[tgt]\n",
    "    print(tgt)\n",
    "    prdtr, prdvl = res['prdtr'], res['prdvl']\n",
    "    ytr, yvl = res['ytr'], res['yvl']\n",
    "    auc_tr=compute_prauc(prdtr, ytr)\n",
    "    rce_tr=compute_rce(prdtr, ytr)\n",
    "    auc_vl=compute_prauc(prdvl, yvl)\n",
    "    rce_vl=compute_rce(prdvl, yvl)\n",
    "    res['scrs'] = {\n",
    "        'auc_tr':auc_tr,\n",
    "        'rce_tr':rce_tr,\n",
    "        'auc_vl':auc_vl,\n",
    "        'rce_vl':rce_vl,\n",
    "    }    \n",
    "    print('tr prauc:', f'{auc_tr:.4f}','tr rce:', f'{rce_tr:.4f}', )\n",
    "    print('vl prauc:', f'{auc_vl:.4f}','vl rce:', f'{rce_vl:.4f}', )"
   ]
  },
  {
   "cell_type": "code",
   "execution_count": 217,
   "metadata": {},
   "outputs": [
    {
     "data": {
      "text/html": [
       "<div>\n",
       "<style scoped>\n",
       "    .dataframe tbody tr th:only-of-type {\n",
       "        vertical-align: middle;\n",
       "    }\n",
       "\n",
       "    .dataframe tbody tr th {\n",
       "        vertical-align: top;\n",
       "    }\n",
       "\n",
       "    .dataframe thead th {\n",
       "        text-align: right;\n",
       "    }\n",
       "</style>\n",
       "<table border=\"1\" class=\"dataframe\">\n",
       "  <thead>\n",
       "    <tr style=\"text-align: right;\">\n",
       "      <th></th>\n",
       "      <th>0</th>\n",
       "      <th>1</th>\n",
       "      <th>2</th>\n",
       "      <th>3</th>\n",
       "      <th>4</th>\n",
       "      <th>5</th>\n",
       "      <th>6</th>\n",
       "      <th>7</th>\n",
       "    </tr>\n",
       "  </thead>\n",
       "  <tbody>\n",
       "    <tr>\n",
       "      <th>metric</th>\n",
       "      <td>PRAUC Retweet</td>\n",
       "      <td>RCE Retweet</td>\n",
       "      <td>PRAUC Reply</td>\n",
       "      <td>RCE Reply</td>\n",
       "      <td>PRAUC Like</td>\n",
       "      <td>RCE Like</td>\n",
       "      <td>PRAUC RTwCmnt</td>\n",
       "      <td>RCE RTwCmnt</td>\n",
       "    </tr>\n",
       "    <tr>\n",
       "      <th>scrtr</th>\n",
       "      <td>0.437198</td>\n",
       "      <td>4.4983</td>\n",
       "      <td>0.283538</td>\n",
       "      <td>-39.2597</td>\n",
       "      <td>0.710433</td>\n",
       "      <td>10.7398</td>\n",
       "      <td>0.103239</td>\n",
       "      <td>-188.491</td>\n",
       "    </tr>\n",
       "    <tr>\n",
       "      <th>scrvl</th>\n",
       "      <td>0.151731</td>\n",
       "      <td>-5.98426</td>\n",
       "      <td>0.0567297</td>\n",
       "      <td>-47.6808</td>\n",
       "      <td>0.579521</td>\n",
       "      <td>5.13008</td>\n",
       "      <td>0.0443554</td>\n",
       "      <td>-123.689</td>\n",
       "    </tr>\n",
       "  </tbody>\n",
       "</table>\n",
       "</div>"
      ],
      "text/plain": [
       "                    0            1            2          3           4  \\\n",
       "metric  PRAUC Retweet  RCE Retweet  PRAUC Reply  RCE Reply  PRAUC Like   \n",
       "scrtr        0.437198       4.4983     0.283538   -39.2597    0.710433   \n",
       "scrvl        0.151731     -5.98426    0.0567297   -47.6808    0.579521   \n",
       "\n",
       "               5              6            7  \n",
       "metric  RCE Like  PRAUC RTwCmnt  RCE RTwCmnt  \n",
       "scrtr    10.7398       0.103239     -188.491  \n",
       "scrvl    5.13008      0.0443554     -123.689  "
      ]
     },
     "execution_count": 217,
     "metadata": {},
     "output_type": "execute_result"
    }
   ],
   "source": [
    "lsttr=[]\n",
    "lstvl=[]\n",
    "for tgt in ['Retweet','Reply','Like','RTwCmnt',]:\n",
    "    res = tgt2res[tgt]\n",
    "    if tgt not in tgt2res: continue\n",
    "    lsttr+=[(f'PRAUC {tgt}',res['scrs']['auc_tr']),\n",
    "          (f'RCE {tgt}',res['scrs']['rce_tr'])]\n",
    "    lstvl+=[(f'PRAUC {tgt}',res['scrs']['auc_vl']),\n",
    "          (f'RCE {tgt}',res['scrs']['rce_vl'])]\n",
    "\n",
    "dfscrtr=pd.DataFrame(lsttr)\n",
    "dfscrtr.columns=['metric','scr']\n",
    "dfscrvl=pd.DataFrame(lstvl)\n",
    "dfscrvl.columns=['metric','scr']\n",
    "dfscr = pd.merge(dfscrtr, dfscrvl, on='metric', suffixes=('tr','vl'))\n",
    "dfscr.T"
   ]
  },
  {
   "cell_type": "markdown",
   "metadata": {},
   "source": [
    "# infer"
   ]
  },
  {
   "cell_type": "raw",
   "metadata": {},
   "source": [
    "ls -lhS $p_in | grep val"
   ]
  },
  {
   "cell_type": "code",
   "execution_count": 228,
   "metadata": {},
   "outputs": [
    {
     "name": "stdout",
     "output_type": "stream",
     "text": [
      "CPU times: user 8.17 ms, sys: 12 µs, total: 8.18 ms\n",
      "Wall time: 6.75 ms\n"
     ]
    }
   ],
   "source": [
    "%%time\n",
    "dftst=pd.read_csv(\n",
    "    f'{p_in}/val_{valtmstmp}.tsv',\n",
    "    sep='\\x01', header=None, names=cols_val, \n",
    "    nrows=10\n",
    ")\n"
   ]
  },
  {
   "cell_type": "code",
   "execution_count": 230,
   "metadata": {
    "scrolled": false
   },
   "outputs": [
    {
     "name": "stdout",
     "output_type": "stream",
     "text": [
      "CPU times: user 29.8 ms, sys: 8.85 ms, total: 38.7 ms\n",
      "Wall time: 32.2 ms\n"
     ]
    }
   ],
   "source": [
    "%%time\n",
    "dftst = prpdf(dftst, istrn=False)"
   ]
  },
  {
   "cell_type": "code",
   "execution_count": 233,
   "metadata": {},
   "outputs": [
    {
     "name": "stdout",
     "output_type": "stream",
     "text": [
      "2020-03-31 19:38:43 Retweet\n",
      "2020-03-31 19:38:43 Reply\n",
      "2020-03-31 19:38:43 Like\n",
      "2020-03-31 19:38:43 RTwCmnt\n",
      "CPU times: user 238 ms, sys: 54.7 ms, total: 292 ms\n",
      "Wall time: 23.4 ms\n"
     ]
    }
   ],
   "source": [
    "%%time\n",
    "dtst = xgb.DMatrix(dftst[cols_feat], feature_names=cols_feat)\n",
    "tgt2prdtst={}\n",
    "for tgt in tgts:\n",
    "    print(dtnow(), tgt)\n",
    "    bst = tgt2res[tgt]['bst']\n",
    "    prdtst = bst.predict(dtst, ntree_limit=bst.best_ntree_limit)\n",
    "    tgt2prdtst[tgt] = prdtst"
   ]
  },
  {
   "cell_type": "code",
   "execution_count": 234,
   "metadata": {},
   "outputs": [],
   "source": [
    "dfsub_ids = dftst[['twtid','u2id',]]\n",
    "\n",
    "tgt2dfsub = {}\n",
    "for tgt,prdtst in tgt2prdtst.items():\n",
    "    dfsub = dfsub_ids.copy()\n",
    "    dfsub['scr'] = prdtst\n",
    "    tgt2dfsub[tgt]=dfsub"
   ]
  },
  {
   "cell_type": "code",
   "execution_count": 235,
   "metadata": {},
   "outputs": [
    {
     "name": "stdout",
     "output_type": "stream",
     "text": [
      "2020-03-31 19:38:46 Retweet\n",
      "2020-03-31 19:38:46 Reply\n",
      "2020-03-31 19:38:46 RTwCmnt\n",
      "2020-03-31 19:38:46 Like\n",
      "CPU times: user 12.2 ms, sys: 14 µs, total: 12.2 ms\n",
      "Wall time: 10.1 ms\n"
     ]
    }
   ],
   "source": [
    "%%time\n",
    "for i,tgt in enumerate(['Retweet','Reply','RTwCmnt','Like',]):\n",
    "    dfsub = tgt2dfsub[tgt]\n",
    "    print(dtnow(), tgt)\n",
    "    dfsub.to_csv(f'{p_out}/{i}_{tgt}__{valtmstmp}__{PRFX}.csv',index=False,header=False)"
   ]
  },
  {
   "cell_type": "code",
   "execution_count": null,
   "metadata": {},
   "outputs": [],
   "source": []
  },
  {
   "cell_type": "code",
   "execution_count": null,
   "metadata": {},
   "outputs": [],
   "source": []
  }
 ],
 "metadata": {
  "kernelspec": {
   "display_name": "rcss20",
   "language": "python",
   "name": "rcss20"
  },
  "language_info": {
   "codemirror_mode": {
    "name": "ipython",
    "version": 3
   },
   "file_extension": ".py",
   "mimetype": "text/x-python",
   "name": "python",
   "nbconvert_exporter": "python",
   "pygments_lexer": "ipython3",
   "version": "3.7.6"
  },
  "toc": {
   "base_numbering": 1,
   "nav_menu": {},
   "number_sections": true,
   "sideBar": true,
   "skip_h1_title": false,
   "title_cell": "Table of Contents",
   "title_sidebar": "Contents",
   "toc_cell": false,
   "toc_position": {},
   "toc_section_display": true,
   "toc_window_display": true
  }
 },
 "nbformat": 4,
 "nbformat_minor": 4
}
