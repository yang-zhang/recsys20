{
 "cells": [
  {
   "cell_type": "markdown",
   "metadata": {},
   "source": [
    "https://groups.google.com/forum/#!topic/recsys-challenge2020/piIOgvhQZFk\n",
    "\n",
    "    We are observing strange patterns in the datasets and are wondering whether they are artificial or real. We are concerned about using features that may be artificial in our models. These features may increase local validation and increase public leaderboard but they may not predict the final test dataset.\n",
    "\n",
    "    (Here is a hypothetical example. If all pseudo negatives are chosen from English language tweets, then there will be an unnatural pattern showing that English tweets have more negative targets. And if training data pseudo negatives are selected from English language tweets and test data pseudo negatives are chosen from Spanish language tweets, that will create a problem).\n",
    "\n",
    "\n",
    "    I want to second this, I created some \"dummy features\" which makes NO SENSE AT ALL (think of features such as \"Was it 35 celsius the day the tweet was made?\"), and it got a huge improvement both on CV and Leaderboard. I think its clear something is not right, or I have no understanding how twitter works.\n"
   ]
  },
  {
   "cell_type": "markdown",
   "metadata": {},
   "source": [
    "# start"
   ]
  },
  {
   "cell_type": "code",
   "execution_count": 1,
   "metadata": {},
   "outputs": [
    {
     "name": "stdout",
     "output_type": "stream",
     "text": [
      "['2020-03-17 02:32:24', '2020-03-30 12:01:44']\n"
     ]
    }
   ],
   "source": [
    "trntmstmp=1584412344\n",
    "valtmstmp=1585569704\n",
    "\n",
    "import datetime\n",
    "def showtm(tm): return datetime.datetime.fromtimestamp(tm).strftime('%Y-%m-%d %H:%M:%S')\n",
    "print([showtm(tm) for tm in (trntmstmp, valtmstmp)])\n",
    "\n",
    "\n",
    "nsmpl=int(1e5)"
   ]
  },
  {
   "cell_type": "markdown",
   "metadata": {},
   "source": [
    "# setup"
   ]
  },
  {
   "cell_type": "code",
   "execution_count": 2,
   "metadata": {},
   "outputs": [
    {
     "name": "stdout",
     "output_type": "stream",
     "text": [
      "trnsz 150,000,000, valsz 14,000,000\n",
      "['2020-02-06 00:00:00', '2020-02-12 23:59:59']\n",
      "['2020-02-13 00:00:00', '2020-02-19 23:59:59']\n"
     ]
    }
   ],
   "source": [
    "grand_total=int(1.5e8)\n",
    "valid_total=int(1.4e7)\n",
    "print(f'trnsz {grand_total:,}, valsz {valid_total:,}')\n",
    "tm_trn_min,tm_trn_max=(1580947200, 1581551999)\n",
    "tm_val_min,tm_val_max=(1581552000, 1582156799)\n",
    "print([showtm(tm) for tm in (tm_trn_min,tm_trn_max)])\n",
    "print([showtm(tm) for tm in (tm_val_min,tm_val_max)])"
   ]
  },
  {
   "cell_type": "code",
   "execution_count": 3,
   "metadata": {
    "scrolled": true
   },
   "outputs": [],
   "source": [
    "from tqdm import tqdm\n",
    "from pathlib import Path\n",
    "from collections import Counter\n",
    "from sklearn.model_selection import train_test_split\n",
    "import pandas as pd\n",
    "import numpy as np\n",
    "import matplotlib.pyplot as plt\n",
    "from sklearn.metrics import accuracy_score, roc_auc_score, roc_curve, auc, precision_recall_curve\n",
    "import pickle\n",
    "import xgboost as xgb\n",
    "import lightgbm as lgb\n",
    "\n",
    "pd.set_option('display.max_rows', 500)\n",
    "pd.set_option('display.max_columns', 500)\n",
    "\n",
    "\n",
    "import datetime\n",
    "def dtnow(): return datetime.datetime.now().strftime('%Y-%m-%d %H:%M:%S')\n",
    "\n",
    "def iou(s1,s2):\n",
    "    return len(s1&s2) / len(s1|s2)\n",
    "\n",
    "\n",
    "SEED=101\n",
    "HOME='/data/git/recsys20'\n",
    "p_in=f'{HOME}/input'\n",
    "# p_out=f'{HOME}/output/{PRFX}'\n",
    "# Path(p_out).mkdir(exist_ok=True, parents=True)\n",
    "\n",
    "from sklearn.metrics import precision_recall_curve, auc, log_loss\n",
    "\n",
    "def compute_prauc(pred, gt):\n",
    "    prec, recall, thresh = precision_recall_curve(gt, pred)\n",
    "    prauc = auc(recall, prec)\n",
    "    return prauc\n",
    "\n",
    "def calculate_ctr(gt):\n",
    "    positive = len([x for x in gt if x == 1])\n",
    "    ctr = positive/float(len(gt))\n",
    "    return ctr\n",
    "\n",
    "def compute_rce(pred, gt):\n",
    "    cross_entropy = log_loss(gt, pred)\n",
    "    data_ctr = calculate_ctr(gt)\n",
    "    strawman_cross_entropy = log_loss(gt, [data_ctr for _ in range(len(gt))])\n",
    "    return (1.0 - cross_entropy/strawman_cross_entropy)*100.0\n",
    "\n",
    "cols=['toks','hshtgs','twtid','media','links','domns','twttyp','lang','tm','u1id','u1_fllwer_cnt','u1_fllwing_cnt','u1_vrfed','u1_create_tm','u2id','u2_follower_cnt','u2_following_cnt','u2_vrfed','u2_create_tm','u1_fllw_u2','reply_tm','retwt_tm','retwt_cmmnt_tm','like_tm',]\n",
    "\n",
    "cols_val = cols[:-4]\n",
    "cols_tgt_tmstmp=[ 'retwt_tm', 'reply_tm', 'like_tm', 'retwt_cmmnt_tm',]\n",
    "cols_tgt=[o.split('_tm')[0] for o in cols_tgt_tmstmp]\n",
    "tgts             = ['Retweet','Reply','Like','RTwCmnt',]\n",
    "assert cols_tgt == ['retwt',  'reply','like','retwt_cmmnt',]\n",
    "ntgts=len(tgts)\n",
    "\n"
   ]
  },
  {
   "cell_type": "markdown",
   "metadata": {},
   "source": [
    "# prep"
   ]
  },
  {
   "cell_type": "code",
   "execution_count": 4,
   "metadata": {},
   "outputs": [
    {
     "name": "stdout",
     "output_type": "stream",
     "text": [
      "100,000\n",
      "CPU times: user 678 ms, sys: 95.1 ms, total: 773 ms\n",
      "Wall time: 1.14 s\n"
     ]
    }
   ],
   "source": [
    "%%time\n",
    "dfval = pd.read_csv(f'{p_in}/val_{valtmstmp}.tsv',sep='\\x01',header=None,names=cols_val,nrows=nsmpl)\n",
    "lndfval=len(dfval)\n",
    "print(f'{lndfval:,}')"
   ]
  },
  {
   "cell_type": "code",
   "execution_count": 5,
   "metadata": {},
   "outputs": [
    {
     "name": "stdout",
     "output_type": "stream",
     "text": [
      "100,000\n",
      "CPU times: user 704 ms, sys: 83.2 ms, total: 787 ms\n",
      "Wall time: 1.09 s\n"
     ]
    }
   ],
   "source": [
    "%%time\n",
    "df = pd.read_csv(f'{p_in}/trn_{trntmstmp}.tsv',sep='\\x01',header=None,names=cols,nrows=nsmpl)\n",
    "lndf=len(df)\n",
    "print(f'{lndf:,}')"
   ]
  },
  {
   "cell_type": "code",
   "execution_count": 6,
   "metadata": {},
   "outputs": [
    {
     "data": {
      "text/plain": [
       "Index(['toks', 'hshtgs', 'twtid', 'media', 'links', 'domns', 'twttyp', 'lang',\n",
       "       'tm', 'u1id', 'u1_fllwer_cnt', 'u1_fllwing_cnt', 'u1_vrfed',\n",
       "       'u1_create_tm', 'u2id', 'u2_follower_cnt', 'u2_following_cnt',\n",
       "       'u2_vrfed', 'u2_create_tm', 'u1_fllw_u2', 'reply_tm', 'retwt_tm',\n",
       "       'retwt_cmmnt_tm', 'like_tm'],\n",
       "      dtype='object')"
      ]
     },
     "execution_count": 6,
     "metadata": {},
     "output_type": "execute_result"
    }
   ],
   "source": [
    "df.columns"
   ]
  },
  {
   "cell_type": "code",
   "execution_count": 8,
   "metadata": {},
   "outputs": [],
   "source": [
    "df[cols_tgt]=df[cols_tgt_tmstmp].notna()\n",
    "df['enged']=df[cols_tgt].sum(1).astype(bool)"
   ]
  },
  {
   "cell_type": "code",
   "execution_count": 73,
   "metadata": {},
   "outputs": [],
   "source": [
    "df['dt']=pd.to_datetime(df.tm, unit='s')\n",
    "\n",
    "df['dt_sec']=df.dt.dt.second\n",
    "df['dt_min']=df.dt.dt.minute\n",
    "df['dt_day']=df.dt.dt.day"
   ]
  },
  {
   "cell_type": "code",
   "execution_count": 83,
   "metadata": {
    "collapsed": true
   },
   "outputs": [
    {
     "data": {
      "text/plain": [
       "dt_min\n",
       "0     0.419781\n",
       "1     0.499202\n",
       "2     0.482721\n",
       "3     0.526844\n",
       "4     0.510890\n",
       "5     0.509516\n",
       "6     0.516697\n",
       "7     0.502861\n",
       "8     0.506276\n",
       "9     0.524717\n",
       "10    0.512223\n",
       "11    0.518088\n",
       "12    0.517610\n",
       "13    0.523057\n",
       "14    0.507201\n",
       "15    0.509793\n",
       "16    0.525921\n",
       "17    0.514054\n",
       "18    0.496134\n",
       "19    0.523529\n",
       "20    0.496770\n",
       "21    0.514864\n",
       "22    0.512940\n",
       "23    0.521378\n",
       "24    0.523515\n",
       "25    0.528152\n",
       "26    0.521512\n",
       "27    0.495402\n",
       "28    0.526452\n",
       "29    0.513651\n",
       "30    0.456625\n",
       "31    0.538879\n",
       "32    0.508277\n",
       "33    0.532071\n",
       "34    0.498082\n",
       "35    0.511740\n",
       "36    0.536802\n",
       "37    0.510743\n",
       "38    0.512524\n",
       "39    0.513932\n",
       "40    0.493333\n",
       "41    0.510137\n",
       "42    0.533999\n",
       "43    0.512255\n",
       "44    0.528615\n",
       "45    0.509977\n",
       "46    0.528031\n",
       "47    0.536706\n",
       "48    0.510076\n",
       "49    0.535128\n",
       "50    0.510961\n",
       "51    0.509114\n",
       "52    0.500966\n",
       "53    0.513593\n",
       "54    0.530136\n",
       "55    0.519347\n",
       "56    0.507405\n",
       "57    0.543915\n",
       "58    0.517086\n",
       "59    0.525478\n",
       "Name: enged, dtype: float64"
      ]
     },
     "execution_count": 83,
     "metadata": {},
     "output_type": "execute_result"
    }
   ],
   "source": [
    "df.groupby('dt_min').enged.mean()"
   ]
  },
  {
   "cell_type": "code",
   "execution_count": 23,
   "metadata": {},
   "outputs": [
    {
     "data": {
      "text/plain": [
       "['retwt', 'reply', 'like', 'retwt_cmmnt']"
      ]
     },
     "execution_count": 23,
     "metadata": {},
     "output_type": "execute_result"
    }
   ],
   "source": [
    "cols_tgt"
   ]
  },
  {
   "cell_type": "raw",
   "metadata": {},
   "source": [
    "display(df.tm[df.enged].sample(5))\n",
    "display(df.tm[~df.enged].sample(5))"
   ]
  },
  {
   "cell_type": "code",
   "execution_count": 96,
   "metadata": {
    "collapsed": true
   },
   "outputs": [
    {
     "data": {
      "text/plain": [
       "array(['101\\t1894\\t5952\\t3504\\t1912\\t35331\\t13913\\t18226\\t25053\\t6211\\t2932\\t1939\\t3197\\t2149\\t55627\\t20885\\t28100\\t1895\\t119\\t1831\\t27058\\t19973\\t11588\\t5986\\t1916\\t32663\\t8272\\t2104\\t119\\t1797\\t4004\\t3104\\t1906\\t2149\\t4671\\t1943\\t8272\\t2104\\t10059\\t2002\\t20703\\t22396\\t16457\\t11312\\t29942\\t7418\\t2625\\t3099\\t5752\\t1980\\t4307\\t2380\\t1882\\t119\\t1832\\t54643\\t11668\\t39004\\t12434\\t22946\\t3984\\t5630\\t1980\\t6033\\t102901\\t119\\t1797\\t95397\\t34922\\t10634\\t88742\\t11281\\t2068\\t1985\\t92240\\t39004\\t36394\\t11377\\t4368\\t5876\\t84543\\t1882\\t119\\t1833\\t3460\\t2179\\t4305\\t1939\\t4898\\t1965\\t1881\\t3393\\t7069\\t1943\\t4388\\t8137\\t1980\\t2583\\t1915\\t1882\\t119\\t1797\\t3906\\t3820\\t4898\\t3388\\t1947\\t6195\\t4352\\t1915\\t1882\\t2207\\t7229\\t1946\\t4653\\t7191\\t1943\\t4388\\t8137\\t1980\\t4037\\t2079\\t1882\\t102',\n",
       "       '101\\t102545\\t11223\\t10380\\t10452\\t89025\\t10189\\t19220\\t125\\t82808\\t17367\\t10114\\t10347\\t22021\\t59648\\t11912\\t119\\t119\\t24781\\t10301\\t17446\\t82808\\t11049\\t44346\\t56996\\t10108\\t35691\\t10453\\t98800\\t10426\\t136\\t119\\t119\\t10167\\t10105\\t11561\\t11388\\t117\\t169\\t19367\\t17696\\t10155\\t45684\\t119\\t144\\t67000\\t137\\t10105\\t46994\\t10206\\t33627\\t10116\\t111\\t10392\\t10410\\t132\\t137\\t141\\t11779\\t10731\\t73289\\t14752\\t11447\\t16602\\t10229\\t10374\\t82808\\t55766\\t64716\\t30776\\t91177\\t10108\\t79015\\t10401\\t119\\t14120\\t131\\t120\\t120\\t188\\t119\\t11170\\t120\\t30822\\t10884\\t12680\\t69184\\t11403\\t55942\\t102'],\n",
       "      dtype=object)"
      ]
     },
     "metadata": {},
     "output_type": "display_data"
    },
    {
     "data": {
      "text/plain": [
       "array(['101\\t1994\\t53669\\t13913\\t35412\\t53669\\t29442\\t2256\\t7107\\t63928\\t27849\\t56910\\t18767\\t18825\\t4180\\t17984\\t27607\\t3397\\t2227\\t10096\\t119539\\t119539\\t1890\\t6691\\t3832\\t1936\\t18767\\t67946\\t1891\\t10073\\t3596\\t1881\\t95154\\t22445\\t95977\\t5712\\t3175\\t3390\\t33469\\t25204\\t8406\\t100\\t14120\\t131\\t120\\t120\\t188\\t119\\t11170\\t120\\t141\\t10162\\t10929\\t10686\\t11305\\t11537\\t10174\\t11733\\t10369\\t102',\n",
       "       '101\\t11741\\t11972\\t169\\t137\\t10406\\t50201\\t28883\\t13091\\t12096\\t10220\\t10493\\t10182\\t78036\\t11639\\t61643\\t11861\\t11181\\t119\\t11818\\t28086\\t12014\\t119\\t100\\t102'],\n",
       "      dtype=object)"
      ]
     },
     "metadata": {},
     "output_type": "display_data"
    }
   ],
   "source": [
    "display(df.toks[df.enged].sample(2).values)\n",
    "display(df.toks[~df.enged].sample(2).values)"
   ]
  },
  {
   "cell_type": "code",
   "execution_count": 67,
   "metadata": {
    "scrolled": true
   },
   "outputs": [
    {
     "data": {
      "text/plain": [
       "10315    C6758D692A850E4C67B2763B66D1CFA8\n",
       "93739    B417D5255878BA3DA4EF1F069EAFFD4C\n",
       "41433    D88CA2D9CFCBE92F8F973B0DEF8AD857\n",
       "54513    AE3536130266CB89AB16E21DF82C7582\n",
       "51003    5B16FB129F85DC61F805751C0EAE0169\n",
       "Name: u1id, dtype: object"
      ]
     },
     "metadata": {},
     "output_type": "display_data"
    },
    {
     "data": {
      "text/plain": [
       "48542    1631D84CF3250668B24AFC7EEFBDB969\n",
       "80587    4F1B8367D779BB513BEEFD9295645D64\n",
       "66636    808FD2641D7B10A1E4FA725127AE6D93\n",
       "25427    913B18B45CE33B8393C9BA6303A727CF\n",
       "71353    12CB4F6B77EF6A0379AEE0C15F8AE828\n",
       "Name: u1id, dtype: object"
      ]
     },
     "metadata": {},
     "output_type": "display_data"
    }
   ],
   "source": [
    "display(df.u1id[df.enged].sample(5))\n",
    "display(df.u1id[~df.enged].sample(5))"
   ]
  },
  {
   "cell_type": "code",
   "execution_count": 71,
   "metadata": {
    "scrolled": true
   },
   "outputs": [
    {
     "data": {
      "text/plain": [
       "12719    002CA84459C93F47C36992D852FC7D0E\n",
       "5050     0011A94FED15AE34ACE7EDDA3D9A6C6D\n",
       "97536    01599A01F73D4F37E67CF13DFF4234EC\n",
       "54626    00C1A4E03D051DB746AF621F0D3C4E4F\n",
       "7621     001A86A799F0EDFCE0EBF256F4003DE2\n",
       "Name: u2id, dtype: object"
      ]
     },
     "metadata": {},
     "output_type": "display_data"
    },
    {
     "data": {
      "text/plain": [
       "42578    0096373599FEF023116C2EE5D43481DE\n",
       "49998    00B0F8894F67AF1D5AE52B84FD473FC5\n",
       "77778    01132D1F6B74AB08667B1943B5DE8EA6\n",
       "48553    00AB9B9536492D7550C2A91382A3D77D\n",
       "62844    00DE43F0C93DF5D96A862BD4FF0AAB52\n",
       "Name: u2id, dtype: object"
      ]
     },
     "metadata": {},
     "output_type": "display_data"
    }
   ],
   "source": [
    "display(df.u2id[df.enged].sample(5))\n",
    "display(df.u2id[~df.enged].sample(5))"
   ]
  },
  {
   "cell_type": "code",
   "execution_count": 98,
   "metadata": {},
   "outputs": [],
   "source": [
    "set_u1 = set(df.u1id)\n",
    "set_u2 = set(df.u2id)"
   ]
  },
  {
   "cell_type": "code",
   "execution_count": 101,
   "metadata": {},
   "outputs": [],
   "source": [
    "df['u1inu2']=df.u1id.isin(set_u2)\n",
    "df['u2inu1']=df.u2id.isin(set_u1)"
   ]
  },
  {
   "cell_type": "code",
   "execution_count": 108,
   "metadata": {},
   "outputs": [
    {
     "data": {
      "text/plain": [
       "u1inu2\n",
       "False    0.510655\n",
       "True     0.673797\n",
       "Name: enged, dtype: float64"
      ]
     },
     "execution_count": 108,
     "metadata": {},
     "output_type": "execute_result"
    }
   ],
   "source": [
    "df.groupby('u1inu2').enged.mean()"
   ]
  },
  {
   "cell_type": "code",
   "execution_count": 109,
   "metadata": {},
   "outputs": [
    {
     "data": {
      "text/plain": [
       "u2inu1\n",
       "False    0.510156\n",
       "True     0.734637\n",
       "Name: enged, dtype: float64"
      ]
     },
     "execution_count": 109,
     "metadata": {},
     "output_type": "execute_result"
    }
   ],
   "source": [
    "df.groupby('u2inu1').enged.mean()"
   ]
  },
  {
   "cell_type": "code",
   "execution_count": 110,
   "metadata": {
    "scrolled": true
   },
   "outputs": [
    {
     "data": {
      "text/plain": [
       "u1inu2\n",
       "False    0.439071\n",
       "True     0.556150\n",
       "Name: like, dtype: float64"
      ]
     },
     "execution_count": 110,
     "metadata": {},
     "output_type": "execute_result"
    }
   ],
   "source": [
    "df.groupby('u1inu2').like.mean()"
   ]
  },
  {
   "cell_type": "code",
   "execution_count": 111,
   "metadata": {},
   "outputs": [
    {
     "data": {
      "text/plain": [
       "u1inu2\n",
       "False    0.027481\n",
       "True     0.058824\n",
       "Name: reply, dtype: float64"
      ]
     },
     "execution_count": 111,
     "metadata": {},
     "output_type": "execute_result"
    }
   ],
   "source": [
    "df.groupby('u1inu2').reply.mean()"
   ]
  },
  {
   "cell_type": "code",
   "execution_count": 112,
   "metadata": {},
   "outputs": [
    {
     "data": {
      "text/plain": [
       "u2inu1\n",
       "False    0.027458\n",
       "True     0.050279\n",
       "Name: reply, dtype: float64"
      ]
     },
     "execution_count": 112,
     "metadata": {},
     "output_type": "execute_result"
    }
   ],
   "source": [
    "df.groupby('u2inu1').reply.mean()"
   ]
  },
  {
   "cell_type": "code",
   "execution_count": 113,
   "metadata": {},
   "outputs": [
    {
     "data": {
      "text/plain": [
       "u2inu1\n",
       "False    0.027458\n",
       "True     0.050279\n",
       "Name: reply, dtype: float64"
      ]
     },
     "execution_count": 113,
     "metadata": {},
     "output_type": "execute_result"
    }
   ],
   "source": [
    "df.groupby('u2inu1').reply.mean()"
   ]
  },
  {
   "cell_type": "code",
   "execution_count": null,
   "metadata": {},
   "outputs": [],
   "source": []
  },
  {
   "cell_type": "code",
   "execution_count": null,
   "metadata": {},
   "outputs": [],
   "source": []
  },
  {
   "cell_type": "code",
   "execution_count": null,
   "metadata": {},
   "outputs": [],
   "source": []
  },
  {
   "cell_type": "code",
   "execution_count": 28,
   "metadata": {},
   "outputs": [
    {
     "data": {
      "text/plain": [
       "{'022EC308651FACB02794A8147AEE1B78': 2361,\n",
       " '0331BF70E606D62D92C96CE9AD71A7CF': 84,\n",
       " '06BEAB41D66CCFF329D1ED8BA120A6C2': 68,\n",
       " '06D61DCBBE938971E1EA0C38BD9B5446': 8887,\n",
       " '125C57F4FA6D4E110983FB11B52EFD4E': 2410,\n",
       " '167115458A0DBDFF7E9C0C53A83BAC9B': 3161,\n",
       " '190BA7DA361BC06BC1D7E824C378064D': 230,\n",
       " '1BC639981AE88E09129594B11F894A21': 8,\n",
       " '1FFD2FE4297F5E70EBC6C3230D95CB9C': 173,\n",
       " '2216D01F7B48554E4211021A46816FCF': 12,\n",
       " '22C448FF81263D4BAF2A176145EE9EAD': 16127,\n",
       " '259A6F6DFD672CB1F883CBEC01B99F2D': 18,\n",
       " '2996EB2FE8162C076D070A4C8D6532CD': 916,\n",
       " '3121F7240D488F74EEED9312E174B217': 21,\n",
       " '3820C29CBCA409A33BADF68852057C4A': 515,\n",
       " '3A85BCEC571C3F5AB1069E4924189177': 24,\n",
       " '3E16B11B7ADE3A22DDFC4423FBCEAD5D': 568,\n",
       " '4249CE88433AEA3F8DCEECF008B3CB95': 30,\n",
       " '4690215948DBF6872B8ED1C2BC87B17E': 1,\n",
       " '48236EC80FDDDFADE99420ABC9210DDF': 173,\n",
       " '4DC22C3F31C5C43721E6B5815A595ED6': 3288,\n",
       " '54208B51D44E7D91DC2F3DD02ADEDEC2': 20,\n",
       " '544FA32458C903F1125FE6598300A047': 30,\n",
       " '57ADD4576E2AD6648E9B2DE32F3462A5': 6,\n",
       " '60FBA0E834CC59D647C3599AD763FFDF': 33,\n",
       " '6431A618DCF7F4CB7F62A95A39BAB77A': 7,\n",
       " '691890251F2B9FF922BE6D3699ABEFD2': 107,\n",
       " '69C4A33B9AD29AF883D60BA61CC08702': 28,\n",
       " '717293301FE296B0B61950D041485825': 439,\n",
       " '76B8A9C3013AE6414A3E6012413CDC3B': 234,\n",
       " '89616CFF8EC8637092F885C7EFF43D74': 61,\n",
       " '920502FAA080485768AA89BC96A55C47': 82,\n",
       " '975B38F44D65EE42A547283787FF5A21': 862,\n",
       " '9BF3403E0EB7EA8A256DA9019C0B0716': 1942,\n",
       " '9ECD42BC079C20F156F53CB3B99E600E': 250,\n",
       " 'A0C7021AD8299ADF0C9EBE326C115F6F': 124,\n",
       " 'A6B70CDF8C7B934D4A218CA9B6B7FDB4': 2,\n",
       " 'AA0254541959271ED3453119B787D0C3': 4,\n",
       " 'AC1F0671A4B0D5B8112F87DE7B490E6D': 5,\n",
       " 'AEF22666801F0A5846D853B9CEB2E327': 258,\n",
       " 'B6D90127A09AB1229731898AEF9D4D7C': 9,\n",
       " 'B9175601E87101A984A50F8A62A1C374': 5348,\n",
       " 'BF477808A37E3E4E9C5D9F1839E8519E': 1,\n",
       " 'C2EF5FABE7619D8A333D5F0FF76E1BFA': 4,\n",
       " 'C7A400D9AD489ACF673CF12FBB80AAE5': 50,\n",
       " 'C942E369C88CE7C56E69A84D04319FF0': 2,\n",
       " 'CB11E9CF42BD0A1BAD5E27BF3422D99D': 44,\n",
       " 'D3164C7FBCF2565DDF915B1B3AEFB1DC': 41179,\n",
       " 'D413F5FE5236E5650A46FD983AB39212': 104,\n",
       " 'DBEEFB80F8A314311E2B4BD593E11DFE': 13,\n",
       " 'E59EF8BB86A6D815331DDF4C467CE0C7': 41,\n",
       " 'E7BB61D2A87C1E72DF1C7BC292B86A1C': 29,\n",
       " 'ECED8A16BE2A5E8871FD55F4842F16B1': 6895,\n",
       " 'F3E1016563360F9434FA986CA86C249C': 13,\n",
       " 'F4FD40A716F1572C9A28E9CAA58BE3A5': 32,\n",
       " 'F73266A79468BB89C4325FDEDB0B533C': 2,\n",
       " 'FA3F382BC409C271E3D6EAF8BE4648DD': 2152,\n",
       " 'FF60A88F53E63000266F8B9149E35AD9': 482,\n",
       " 'FF7EABB5A382356D54D9C41BA0125E09': 31}"
      ]
     },
     "execution_count": 28,
     "metadata": {},
     "output_type": "execute_result"
    }
   ],
   "source": [
    "dict(df.groupby('lang').size())"
   ]
  },
  {
   "cell_type": "code",
   "execution_count": 29,
   "metadata": {},
   "outputs": [
    {
     "data": {
      "text/plain": [
       "{'022EC308651FACB02794A8147AEE1B78': 0.23252858958068615,\n",
       " '0331BF70E606D62D92C96CE9AD71A7CF': 0.5119047619047619,\n",
       " '06BEAB41D66CCFF329D1ED8BA120A6C2': 0.6470588235294118,\n",
       " '06D61DCBBE938971E1EA0C38BD9B5446': 0.3974344548216496,\n",
       " '125C57F4FA6D4E110983FB11B52EFD4E': 0.44481327800829873,\n",
       " '167115458A0DBDFF7E9C0C53A83BAC9B': 0.4194875039544448,\n",
       " '190BA7DA361BC06BC1D7E824C378064D': 0.44782608695652176,\n",
       " '1BC639981AE88E09129594B11F894A21': 0.875,\n",
       " '1FFD2FE4297F5E70EBC6C3230D95CB9C': 0.4277456647398844,\n",
       " '2216D01F7B48554E4211021A46816FCF': 0.75,\n",
       " '22C448FF81263D4BAF2A176145EE9EAD': 0.46859304272338315,\n",
       " '259A6F6DFD672CB1F883CBEC01B99F2D': 0.3333333333333333,\n",
       " '2996EB2FE8162C076D070A4C8D6532CD': 0.49672489082969434,\n",
       " '3121F7240D488F74EEED9312E174B217': 0.6190476190476191,\n",
       " '3820C29CBCA409A33BADF68852057C4A': 0.516504854368932,\n",
       " '3A85BCEC571C3F5AB1069E4924189177': 0.7083333333333334,\n",
       " '3E16B11B7ADE3A22DDFC4423FBCEAD5D': 0.6584507042253521,\n",
       " '4249CE88433AEA3F8DCEECF008B3CB95': 0.36666666666666664,\n",
       " '4690215948DBF6872B8ED1C2BC87B17E': 1.0,\n",
       " '48236EC80FDDDFADE99420ABC9210DDF': 0.42196531791907516,\n",
       " '4DC22C3F31C5C43721E6B5815A595ED6': 0.5495742092457421,\n",
       " '54208B51D44E7D91DC2F3DD02ADEDEC2': 0.45,\n",
       " '544FA32458C903F1125FE6598300A047': 0.26666666666666666,\n",
       " '57ADD4576E2AD6648E9B2DE32F3462A5': 0.5,\n",
       " '60FBA0E834CC59D647C3599AD763FFDF': 0.45454545454545453,\n",
       " '6431A618DCF7F4CB7F62A95A39BAB77A': 0.42857142857142855,\n",
       " '691890251F2B9FF922BE6D3699ABEFD2': 0.4392523364485981,\n",
       " '69C4A33B9AD29AF883D60BA61CC08702': 0.5,\n",
       " '717293301FE296B0B61950D041485825': 0.428246013667426,\n",
       " '76B8A9C3013AE6414A3E6012413CDC3B': 0.4230769230769231,\n",
       " '89616CFF8EC8637092F885C7EFF43D74': 0.6065573770491803,\n",
       " '920502FAA080485768AA89BC96A55C47': 0.4146341463414634,\n",
       " '975B38F44D65EE42A547283787FF5A21': 0.5348027842227379,\n",
       " '9BF3403E0EB7EA8A256DA9019C0B0716': 0.32801235839340886,\n",
       " '9ECD42BC079C20F156F53CB3B99E600E': 0.448,\n",
       " 'A0C7021AD8299ADF0C9EBE326C115F6F': 0.4838709677419355,\n",
       " 'A6B70CDF8C7B934D4A218CA9B6B7FDB4': 0.0,\n",
       " 'AA0254541959271ED3453119B787D0C3': 0.75,\n",
       " 'AC1F0671A4B0D5B8112F87DE7B490E6D': 0.6,\n",
       " 'AEF22666801F0A5846D853B9CEB2E327': 0.5852713178294574,\n",
       " 'B6D90127A09AB1229731898AEF9D4D7C': 0.3333333333333333,\n",
       " 'B9175601E87101A984A50F8A62A1C374': 0.4612939416604338,\n",
       " 'BF477808A37E3E4E9C5D9F1839E8519E': 1.0,\n",
       " 'C2EF5FABE7619D8A333D5F0FF76E1BFA': 1.0,\n",
       " 'C7A400D9AD489ACF673CF12FBB80AAE5': 0.38,\n",
       " 'C942E369C88CE7C56E69A84D04319FF0': 1.0,\n",
       " 'CB11E9CF42BD0A1BAD5E27BF3422D99D': 0.5454545454545454,\n",
       " 'D3164C7FBCF2565DDF915B1B3AEFB1DC': 0.43524612059544915,\n",
       " 'D413F5FE5236E5650A46FD983AB39212': 0.41346153846153844,\n",
       " 'DBEEFB80F8A314311E2B4BD593E11DFE': 0.5384615384615384,\n",
       " 'E59EF8BB86A6D815331DDF4C467CE0C7': 0.43902439024390244,\n",
       " 'E7BB61D2A87C1E72DF1C7BC292B86A1C': 0.4482758620689655,\n",
       " 'ECED8A16BE2A5E8871FD55F4842F16B1': 0.4506163886874547,\n",
       " 'F3E1016563360F9434FA986CA86C249C': 0.38461538461538464,\n",
       " 'F4FD40A716F1572C9A28E9CAA58BE3A5': 0.4375,\n",
       " 'F73266A79468BB89C4325FDEDB0B533C': 0.5,\n",
       " 'FA3F382BC409C271E3D6EAF8BE4648DD': 0.3861524163568773,\n",
       " 'FF60A88F53E63000266F8B9149E35AD9': 0.4315352697095436,\n",
       " 'FF7EABB5A382356D54D9C41BA0125E09': 0.5161290322580645}"
      ]
     },
     "execution_count": 29,
     "metadata": {},
     "output_type": "execute_result"
    }
   ],
   "source": [
    "dict(df.groupby('lang').like.mean())"
   ]
  },
  {
   "cell_type": "code",
   "execution_count": null,
   "metadata": {},
   "outputs": [],
   "source": []
  },
  {
   "cell_type": "code",
   "execution_count": null,
   "metadata": {},
   "outputs": [],
   "source": []
  },
  {
   "cell_type": "code",
   "execution_count": null,
   "metadata": {},
   "outputs": [],
   "source": []
  },
  {
   "cell_type": "code",
   "execution_count": null,
   "metadata": {},
   "outputs": [],
   "source": []
  },
  {
   "cell_type": "code",
   "execution_count": null,
   "metadata": {},
   "outputs": [],
   "source": []
  }
 ],
 "metadata": {
  "kernelspec": {
   "display_name": "rcss20",
   "language": "python",
   "name": "rcss20"
  },
  "language_info": {
   "codemirror_mode": {
    "name": "ipython",
    "version": 3
   },
   "file_extension": ".py",
   "mimetype": "text/x-python",
   "name": "python",
   "nbconvert_exporter": "python",
   "pygments_lexer": "ipython3",
   "version": "3.7.6"
  },
  "toc": {
   "base_numbering": 1,
   "nav_menu": {},
   "number_sections": true,
   "sideBar": true,
   "skip_h1_title": false,
   "title_cell": "Table of Contents",
   "title_sidebar": "Contents",
   "toc_cell": false,
   "toc_position": {},
   "toc_section_display": true,
   "toc_window_display": true
  }
 },
 "nbformat": 4,
 "nbformat_minor": 4
}
