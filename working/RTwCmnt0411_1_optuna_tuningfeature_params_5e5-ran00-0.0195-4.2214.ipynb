{
 "cells": [
  {
   "cell_type": "markdown",
   "metadata": {},
   "source": [
    "# start"
   ]
  },
  {
   "cell_type": "markdown",
   "metadata": {},
   "source": [
    "- http://localhost:8081/notebooks/git/recsys20/working/0324_6_3_lgb_feat_engr-1e7.ipynb\n",
    "- http://localhost:8081/notebooks/git/recsys20/working/mdl0404_1__xgb_mean_encode.ipynb\n",
    "- http://localhost:8081/notebooks/git/recsys20/working/eda_0404_1.ipynb#v.s.-target\n",
    "- https://www.kaggle.com/discdiver/category-encoders-examples\n",
    "- https://www.kaggle.com/snakayama/lightgbm-using-optuna-optuna-lightgbm"
   ]
  },
  {
   "cell_type": "code",
   "execution_count": 1,
   "metadata": {},
   "outputs": [
    {
     "name": "stdout",
     "output_type": "stream",
     "text": [
      "train_total 148,075,238, test_total 14,000,000\n",
      "['2020-03-17 02:32:24', '2020-04-06 00:35:47']\n",
      "['2020-02-06 00:00:00', '2020-02-12 23:59:59']\n",
      "['2020-02-13 00:00:00', '2020-02-19 23:59:59']\n"
     ]
    }
   ],
   "source": [
    "TGT='RTwCmnt'\n",
    "PRFX='RTwCmnt0411_1'\n",
    "\n",
    "trntmstmp=1584412344\n",
    "tsttmstmp=1586133347\n",
    "\n",
    "tm_trn_min,tm_trn_max=(1580947200, 1581551999)\n",
    "tm_tst_min,tm_tst_max=(1581552000, 1582156799)\n",
    "\n",
    "SEED=101\n",
    "\n",
    "valsz = int(5e5)#int(1e5)\n",
    "trnsz = int(5e5)#int(5e5)\n",
    "\n",
    "train_total=148075238\n",
    "test_total=int(1.4e7)\n",
    "print(f'train_total {train_total:,}, test_total {test_total:,}')\n",
    "\n",
    "\n",
    "import datetime\n",
    "def showtm(tm): return datetime.datetime.fromtimestamp(tm).strftime('%Y-%m-%d %H:%M:%S')\n",
    "print([showtm(tm) for tm in (trntmstmp, tsttmstmp)])\n",
    "print([showtm(tm) for tm in (tm_trn_min,tm_trn_max)])\n",
    "print([showtm(tm) for tm in (tm_tst_min,tm_tst_max)])"
   ]
  },
  {
   "cell_type": "markdown",
   "metadata": {},
   "source": [
    "# setup"
   ]
  },
  {
   "cell_type": "code",
   "execution_count": 2,
   "metadata": {},
   "outputs": [
    {
     "name": "stdout",
     "output_type": "stream",
     "text": [
      "TCOL retwt_cmmnt\n",
      "{'Retweet': 'retwt', 'Reply': 'reply', 'Like': 'like', 'RTwCmnt': 'retwt_cmmnt'}\n"
     ]
    }
   ],
   "source": [
    "from tqdm import tqdm\n",
    "import time\n",
    "from pathlib import Path\n",
    "from collections import Counter,defaultdict\n",
    "from sklearn.model_selection import train_test_split\n",
    "import pandas as pd\n",
    "import numpy as np\n",
    "import matplotlib.pyplot as plt\n",
    "from sklearn.metrics import accuracy_score, roc_auc_score, roc_curve, auc, precision_recall_curve\n",
    "import pickle\n",
    "# import xgboost as xgb\n",
    "# import lightgbm as lgb\n",
    "import category_encoders as ce\n",
    "import gc\n",
    "\n",
    "import optuna\n",
    "# optuna.logging.CRITICAL, optuna.logging.FATAL\n",
    "# optuna.logging.ERROR\n",
    "# optuna.logging.WARNING, optuna.logging.WARN\n",
    "# optuna.logging.INFO\n",
    "# optuna.logging.DEBUG\n",
    "# optuna.logging.set_verbosity(optuna.logging.ERROR)\n",
    "import optuna.integration.lightgbm as lgb\n",
    "optuna.logging.disable_default_handler()\n",
    "\n",
    "\n",
    "pd.set_option('display.max_rows', 500)\n",
    "pd.set_option('display.max_columns', 500)\n",
    "\n",
    "\n",
    "import datetime\n",
    "def dtnow(): return datetime.datetime.now().strftime('%Y-%m-%d %H:%M:%S')\n",
    "\n",
    "def iou(s1,s2):\n",
    "    return len(s1&s2) / len(s1|s2)\n",
    "\n",
    "HOME='/data/git/recsys20'\n",
    "p_in=f'{HOME}/input'\n",
    "p_out=f'{HOME}/output/{PRFX}'\n",
    "Path(p_out).mkdir(exist_ok=True, parents=True)\n",
    "\n",
    "from sklearn.metrics import precision_recall_curve, auc, log_loss\n",
    "\n",
    "def compute_prauc(pred, gt):\n",
    "    prec, recall, thresh = precision_recall_curve(gt, pred)\n",
    "    prauc = auc(recall, prec)\n",
    "    return prauc\n",
    "\n",
    "def calculate_ctr(gt):\n",
    "    positive = len([x for x in gt if x == 1])\n",
    "    ctr = positive/float(len(gt))\n",
    "    return ctr\n",
    "\n",
    "def compute_rce(pred, gt):\n",
    "    cross_entropy = log_loss(gt, pred)\n",
    "    data_ctr = calculate_ctr(gt)\n",
    "    strawman_cross_entropy = log_loss(gt, [data_ctr for _ in range(len(gt))])\n",
    "    return (1.0 - cross_entropy/strawman_cross_entropy)*100.0\n",
    "\n",
    "# https://towardsdatascience.com/how-to-calibrate-undersampled-model-scores-8f3319c1ea5b\n",
    "# How to use the function?\n",
    "# Let’s say your goal is to generate a model that shows the credit default probabilities and your original \n",
    "# training data has 50,000 rows with only 500 of them labeled as target class. When you sample your non-target \n",
    "# instances randomly and reduce the total row count to 10,000, while conserving 500 target rows, our calibration\n",
    "# function becomes:\n",
    "# calibration(model_results, 50000, 500, 10000, 500)\n",
    "# Here model_results is your model probability output array. After you train your model and put the results in it, your function is ready to use. \n",
    "def calibration(data, train_pop, target_pop, sampled_train_pop, sampled_target_pop):\n",
    "    calibrated_data = ((data * (target_pop / train_pop) / (sampled_target_pop / sampled_train_pop)) /\n",
    "    (((1 - data) * (1 - target_pop / train_pop) / (1 - sampled_target_pop / sampled_train_pop)) +\n",
    "     (data * (target_pop / train_pop) / (sampled_target_pop / sampled_train_pop))))\n",
    "    return calibrated_data\n",
    "\n",
    "\n",
    "cols=['toks','hshtgs','twtid','media','links','domns','twttyp','lang','tm','u1id','u1_fllwer_cnt','u1_fllwing_cnt','u1_vrfed','u1_create_tm','u2id','u2_fllwer_cnt','u2_fllwng_cnt','u2_vrfed','u2_create_tm','u1_fllw_u2','reply_tm','retwt_tm','retwt_cmmnt_tm','like_tm',]\n",
    "\n",
    "cols_val = cols[:-4]\n",
    "cols_tgt_tmstmp=[ 'retwt_tm', 'reply_tm', 'like_tm', 'retwt_cmmnt_tm',]\n",
    "cols_tgt=[o.split('_tm')[0] for o in cols_tgt_tmstmp]\n",
    "tgts             = ['Retweet','Reply','Like','RTwCmnt',]\n",
    "assert cols_tgt == ['retwt',  'reply','like','retwt_cmmnt',]\n",
    "tgt2col = dict(zip(tgts, cols_tgt))\n",
    "TCOL=tgt2col[TGT]\n",
    "print('TCOL', TCOL)\n",
    "print(tgt2col)"
   ]
  },
  {
   "cell_type": "markdown",
   "metadata": {},
   "source": [
    "# prep"
   ]
  },
  {
   "cell_type": "code",
   "execution_count": 3,
   "metadata": {},
   "outputs": [],
   "source": [
    "def prp_tgt(df):\n",
    "    df[cols_tgt]=df[cols_tgt_tmstmp].notna()\n",
    "    df.drop(columns=cols_tgt_tmstmp, inplace=True)\n",
    "    display(df[cols_tgt].mean())"
   ]
  },
  {
   "cell_type": "code",
   "execution_count": 4,
   "metadata": {
    "scrolled": false
   },
   "outputs": [
    {
     "name": "stdout",
     "output_type": "stream",
     "text": [
      "(500000, 24)\n"
     ]
    },
    {
     "data": {
      "text/plain": [
       "retwt          0.112638\n",
       "reply          0.027980\n",
       "like           0.439010\n",
       "retwt_cmmnt    0.007676\n",
       "dtype: float64"
      ]
     },
     "metadata": {},
     "output_type": "display_data"
    },
    {
     "name": "stdout",
     "output_type": "stream",
     "text": [
      "CPU times: user 5.23 s, sys: 533 ms, total: 5.76 s\n",
      "Wall time: 5.93 s\n"
     ]
    }
   ],
   "source": [
    "%%time\n",
    "dfval = pd.read_csv(f'{p_in}/trn_{trntmstmp}.tsv',sep='\\x01',header=None,names=cols,nrows=valsz)\n",
    "print(dfval.shape)\n",
    "prp_tgt(dfval)"
   ]
  },
  {
   "cell_type": "markdown",
   "metadata": {},
   "source": [
    "## maybe oversample"
   ]
  },
  {
   "cell_type": "code",
   "execution_count": 5,
   "metadata": {},
   "outputs": [],
   "source": [
    "# df = pd.read_csv(f'{p_in}/trn_{trntmstmp}.tsv',sep='\\x01',header=None,names=cols,nrows=5)\n",
    "# dfval = pd.read_csv(f'{p_in}/trn_{trntmstmp}.tsv',sep='\\x01',header=None,names=cols,nrows=2)\n",
    "# dftrn = pd.read_csv(f'{p_in}/trn_{trntmstmp}.tsv',sep='\\x01',header=None,names=cols,skiprows=2,nrows=3)\n",
    "# display(df.twtid)\n",
    "# display(dfval.twtid)\n",
    "# display(dftrn.twtid)\n",
    "\n",
    "# 0    D4D1EBDE74F74C5DA529959AF979625C\n",
    "# 1    BFB529DAB6D384EB83E899A72AB3830D\n",
    "# 2    519078C7834E9642508F72A6C2D0F3B7\n",
    "# 3    52AAE9E33EFAC8C478C57B31A9E31ED1\n",
    "# 4    89C1298C55EB3D68E2784F0BFB69E6F8\n",
    "# Name: twtid, dtype: object\n",
    "# 0    D4D1EBDE74F74C5DA529959AF979625C\n",
    "# 1    BFB529DAB6D384EB83E899A72AB3830D\n",
    "# Name: twtid, dtype: object\n",
    "# 0    519078C7834E9642508F72A6C2D0F3B7\n",
    "# 1    52AAE9E33EFAC8C478C57B31A9E31ED1\n",
    "# 2    89C1298C55EB3D68E2784F0BFB69E6F8\n",
    "# Name: twtid, dtype: object"
   ]
  },
  {
   "cell_type": "code",
   "execution_count": 6,
   "metadata": {
    "scrolled": true
   },
   "outputs": [
    {
     "name": "stdout",
     "output_type": "stream",
     "text": [
      "(5750000, 24)\n"
     ]
    },
    {
     "data": {
      "text/plain": [
       "retwt          0.113120\n",
       "reply          0.027393\n",
       "like           0.439475\n",
       "retwt_cmmnt    0.007757\n",
       "dtype: float64"
      ]
     },
     "metadata": {},
     "output_type": "display_data"
    },
    {
     "name": "stdout",
     "output_type": "stream",
     "text": [
      "CPU times: user 1min 1s, sys: 6.22 s, total: 1min 7s\n",
      "Wall time: 1min 29s\n"
     ]
    }
   ],
   "source": [
    "%%time\n",
    "if TGT in ('Retweet','Like'): trnpop=trnsz\n",
    "if TGT=='Reply': trnpop=trnsz*3.7\n",
    "if TGT=='RTwCmnt': trnpop=trnsz*11.5\n",
    "assert trnpop<train_total\n",
    "\n",
    "dftrn = pd.read_csv(f'{p_in}/trn_{trntmstmp}.tsv',sep='\\x01',header=None,names=cols,\n",
    "                     skiprows=valsz, nrows=trnpop)\n",
    "print(dftrn.shape)\n",
    "prp_tgt(dftrn)"
   ]
  },
  {
   "cell_type": "code",
   "execution_count": 7,
   "metadata": {
    "scrolled": true
   },
   "outputs": [
    {
     "name": "stdout",
     "output_type": "stream",
     "text": [
      "(500000, 24) 0.089206\n",
      "5750000 44603 500000 44603\n"
     ]
    },
    {
     "data": {
      "text/html": [
       "<div>\n",
       "<style scoped>\n",
       "    .dataframe tbody tr th:only-of-type {\n",
       "        vertical-align: middle;\n",
       "    }\n",
       "\n",
       "    .dataframe tbody tr th {\n",
       "        vertical-align: top;\n",
       "    }\n",
       "\n",
       "    .dataframe thead th {\n",
       "        text-align: right;\n",
       "    }\n",
       "</style>\n",
       "<table border=\"1\" class=\"dataframe\">\n",
       "  <thead>\n",
       "    <tr style=\"text-align: right;\">\n",
       "      <th></th>\n",
       "      <th>toks</th>\n",
       "      <th>hshtgs</th>\n",
       "      <th>twtid</th>\n",
       "      <th>media</th>\n",
       "      <th>links</th>\n",
       "      <th>domns</th>\n",
       "      <th>twttyp</th>\n",
       "      <th>lang</th>\n",
       "      <th>tm</th>\n",
       "      <th>u1id</th>\n",
       "      <th>u1_fllwer_cnt</th>\n",
       "      <th>u1_fllwing_cnt</th>\n",
       "      <th>u1_vrfed</th>\n",
       "      <th>u1_create_tm</th>\n",
       "      <th>u2id</th>\n",
       "      <th>u2_fllwer_cnt</th>\n",
       "      <th>u2_fllwng_cnt</th>\n",
       "      <th>u2_vrfed</th>\n",
       "      <th>u2_create_tm</th>\n",
       "      <th>u1_fllw_u2</th>\n",
       "      <th>retwt</th>\n",
       "      <th>reply</th>\n",
       "      <th>like</th>\n",
       "      <th>retwt_cmmnt</th>\n",
       "    </tr>\n",
       "  </thead>\n",
       "  <tbody>\n",
       "    <tr>\n",
       "      <th>108</th>\n",
       "      <td>101\\t106005\\t25054\\t173\\t26578\\t11259\\t34768\\t...</td>\n",
       "      <td>NaN</td>\n",
       "      <td>5621D6D1BF0187714D7939A548490B2E</td>\n",
       "      <td>NaN</td>\n",
       "      <td>07F4839C08DE4D72B0B62E4AA3B44AFA</td>\n",
       "      <td>CFAEB8CECABB888C2B2F8E24D4FFB291</td>\n",
       "      <td>TopLevel</td>\n",
       "      <td>ECED8A16BE2A5E8871FD55F4842F16B1</td>\n",
       "      <td>1581265760</td>\n",
       "      <td>0344E02433F065C26201B3BB1AAA40E8</td>\n",
       "      <td>1305792</td>\n",
       "      <td>102</td>\n",
       "      <td>True</td>\n",
       "      <td>1250373764</td>\n",
       "      <td>06EA0B8FB004AFD3383F53FEB3539ECA</td>\n",
       "      <td>256</td>\n",
       "      <td>724</td>\n",
       "      <td>False</td>\n",
       "      <td>1249307691</td>\n",
       "      <td>False</td>\n",
       "      <td>True</td>\n",
       "      <td>False</td>\n",
       "      <td>False</td>\n",
       "      <td>True</td>\n",
       "    </tr>\n",
       "    <tr>\n",
       "      <th>112</th>\n",
       "      <td>101\\t41113\\t146\\t41541\\t58768\\t85110\\t10454\\t1...</td>\n",
       "      <td>NaN</td>\n",
       "      <td>AF2EDD10CD8D4EFF8A3DF5285D78CB99</td>\n",
       "      <td>NaN</td>\n",
       "      <td>NaN</td>\n",
       "      <td>NaN</td>\n",
       "      <td>Quote</td>\n",
       "      <td>D3164C7FBCF2565DDF915B1B3AEFB1DC</td>\n",
       "      <td>1581069466</td>\n",
       "      <td>7B7C09388456C0B9B6B6A61A11C60FB9</td>\n",
       "      <td>313</td>\n",
       "      <td>852</td>\n",
       "      <td>False</td>\n",
       "      <td>1262677136</td>\n",
       "      <td>06EA0BEC97C5976D51DAC008A423FF64</td>\n",
       "      <td>545</td>\n",
       "      <td>413</td>\n",
       "      <td>False</td>\n",
       "      <td>1233815347</td>\n",
       "      <td>True</td>\n",
       "      <td>True</td>\n",
       "      <td>False</td>\n",
       "      <td>False</td>\n",
       "      <td>True</td>\n",
       "    </tr>\n",
       "    <tr>\n",
       "      <th>408</th>\n",
       "      <td>101\\t44783\\t10133\\t10154\\t10176\\t60914\\t11643\\...</td>\n",
       "      <td>NaN</td>\n",
       "      <td>1C59F814F14A8F712E78404514CC829C</td>\n",
       "      <td>NaN</td>\n",
       "      <td>NaN</td>\n",
       "      <td>NaN</td>\n",
       "      <td>TopLevel</td>\n",
       "      <td>FA3F382BC409C271E3D6EAF8BE4648DD</td>\n",
       "      <td>1581097149</td>\n",
       "      <td>BA9258113A997F6DBA8C03D2E5B7A2EC</td>\n",
       "      <td>2380</td>\n",
       "      <td>932</td>\n",
       "      <td>False</td>\n",
       "      <td>1488470116</td>\n",
       "      <td>06EB34C6D35E065DC0B30F5B5183701B</td>\n",
       "      <td>1214</td>\n",
       "      <td>437</td>\n",
       "      <td>False</td>\n",
       "      <td>1473612676</td>\n",
       "      <td>True</td>\n",
       "      <td>True</td>\n",
       "      <td>True</td>\n",
       "      <td>False</td>\n",
       "      <td>True</td>\n",
       "    </tr>\n",
       "    <tr>\n",
       "      <th>414</th>\n",
       "      <td>101\\t56898\\t137\\t27689\\t30783\\t10305\\t61211\\t1...</td>\n",
       "      <td>NaN</td>\n",
       "      <td>3609D6CF717C7EF925B143F3E22B452F</td>\n",
       "      <td>Video</td>\n",
       "      <td>NaN</td>\n",
       "      <td>NaN</td>\n",
       "      <td>Retweet</td>\n",
       "      <td>2996EB2FE8162C076D070A4C8D6532CD</td>\n",
       "      <td>1580953712</td>\n",
       "      <td>9B7E1E488B04E56D67105BAA9605174F</td>\n",
       "      <td>944</td>\n",
       "      <td>975</td>\n",
       "      <td>False</td>\n",
       "      <td>1513003339</td>\n",
       "      <td>06EB3ADFEB5B0182B664104683C5A5EB</td>\n",
       "      <td>344</td>\n",
       "      <td>211</td>\n",
       "      <td>False</td>\n",
       "      <td>1500711522</td>\n",
       "      <td>True</td>\n",
       "      <td>True</td>\n",
       "      <td>False</td>\n",
       "      <td>False</td>\n",
       "      <td>True</td>\n",
       "    </tr>\n",
       "    <tr>\n",
       "      <th>591</th>\n",
       "      <td>101\\t12845\\t37583\\t10310\\t10173\\t82669\\t10107\\...</td>\n",
       "      <td>12C21C6E6EF1564DEE890157431DDAD8\\t1B9D1276F79E...</td>\n",
       "      <td>0467DCED50A710815F1300276439B763</td>\n",
       "      <td>Photo</td>\n",
       "      <td>56DAFFF9D8E08D4E295F4C6F8B7D6827</td>\n",
       "      <td>AB0CD6B8058B8FE3EC0F5168D1E00693</td>\n",
       "      <td>TopLevel</td>\n",
       "      <td>06D61DCBBE938971E1EA0C38BD9B5446</td>\n",
       "      <td>1581301119</td>\n",
       "      <td>5307B1672E1C07BB78FCC485A745CC71</td>\n",
       "      <td>52</td>\n",
       "      <td>255</td>\n",
       "      <td>False</td>\n",
       "      <td>1438619653</td>\n",
       "      <td>06EBF31CE5E0F663E4B431249F9FBF0F</td>\n",
       "      <td>161</td>\n",
       "      <td>747</td>\n",
       "      <td>False</td>\n",
       "      <td>1260382465</td>\n",
       "      <td>True</td>\n",
       "      <td>True</td>\n",
       "      <td>False</td>\n",
       "      <td>True</td>\n",
       "      <td>True</td>\n",
       "    </tr>\n",
       "  </tbody>\n",
       "</table>\n",
       "</div>"
      ],
      "text/plain": [
       "                                                  toks  \\\n",
       "108  101\\t106005\\t25054\\t173\\t26578\\t11259\\t34768\\t...   \n",
       "112  101\\t41113\\t146\\t41541\\t58768\\t85110\\t10454\\t1...   \n",
       "408  101\\t44783\\t10133\\t10154\\t10176\\t60914\\t11643\\...   \n",
       "414  101\\t56898\\t137\\t27689\\t30783\\t10305\\t61211\\t1...   \n",
       "591  101\\t12845\\t37583\\t10310\\t10173\\t82669\\t10107\\...   \n",
       "\n",
       "                                                hshtgs  \\\n",
       "108                                                NaN   \n",
       "112                                                NaN   \n",
       "408                                                NaN   \n",
       "414                                                NaN   \n",
       "591  12C21C6E6EF1564DEE890157431DDAD8\\t1B9D1276F79E...   \n",
       "\n",
       "                                twtid  media  \\\n",
       "108  5621D6D1BF0187714D7939A548490B2E    NaN   \n",
       "112  AF2EDD10CD8D4EFF8A3DF5285D78CB99    NaN   \n",
       "408  1C59F814F14A8F712E78404514CC829C    NaN   \n",
       "414  3609D6CF717C7EF925B143F3E22B452F  Video   \n",
       "591  0467DCED50A710815F1300276439B763  Photo   \n",
       "\n",
       "                                links                             domns  \\\n",
       "108  07F4839C08DE4D72B0B62E4AA3B44AFA  CFAEB8CECABB888C2B2F8E24D4FFB291   \n",
       "112                               NaN                               NaN   \n",
       "408                               NaN                               NaN   \n",
       "414                               NaN                               NaN   \n",
       "591  56DAFFF9D8E08D4E295F4C6F8B7D6827  AB0CD6B8058B8FE3EC0F5168D1E00693   \n",
       "\n",
       "       twttyp                              lang          tm  \\\n",
       "108  TopLevel  ECED8A16BE2A5E8871FD55F4842F16B1  1581265760   \n",
       "112     Quote  D3164C7FBCF2565DDF915B1B3AEFB1DC  1581069466   \n",
       "408  TopLevel  FA3F382BC409C271E3D6EAF8BE4648DD  1581097149   \n",
       "414   Retweet  2996EB2FE8162C076D070A4C8D6532CD  1580953712   \n",
       "591  TopLevel  06D61DCBBE938971E1EA0C38BD9B5446  1581301119   \n",
       "\n",
       "                                 u1id  u1_fllwer_cnt  u1_fllwing_cnt  \\\n",
       "108  0344E02433F065C26201B3BB1AAA40E8        1305792             102   \n",
       "112  7B7C09388456C0B9B6B6A61A11C60FB9            313             852   \n",
       "408  BA9258113A997F6DBA8C03D2E5B7A2EC           2380             932   \n",
       "414  9B7E1E488B04E56D67105BAA9605174F            944             975   \n",
       "591  5307B1672E1C07BB78FCC485A745CC71             52             255   \n",
       "\n",
       "     u1_vrfed  u1_create_tm                              u2id  u2_fllwer_cnt  \\\n",
       "108      True    1250373764  06EA0B8FB004AFD3383F53FEB3539ECA            256   \n",
       "112     False    1262677136  06EA0BEC97C5976D51DAC008A423FF64            545   \n",
       "408     False    1488470116  06EB34C6D35E065DC0B30F5B5183701B           1214   \n",
       "414     False    1513003339  06EB3ADFEB5B0182B664104683C5A5EB            344   \n",
       "591     False    1438619653  06EBF31CE5E0F663E4B431249F9FBF0F            161   \n",
       "\n",
       "     u2_fllwng_cnt  u2_vrfed  u2_create_tm  u1_fllw_u2  retwt  reply   like  \\\n",
       "108            724     False    1249307691       False   True  False  False   \n",
       "112            413     False    1233815347        True   True  False  False   \n",
       "408            437     False    1473612676        True   True   True  False   \n",
       "414            211     False    1500711522        True   True  False  False   \n",
       "591            747     False    1260382465        True   True  False   True   \n",
       "\n",
       "     retwt_cmmnt  \n",
       "108         True  \n",
       "112         True  \n",
       "408         True  \n",
       "414         True  \n",
       "591         True  "
      ]
     },
     "metadata": {},
     "output_type": "display_data"
    },
    {
     "data": {
      "text/plain": [
       "Index(['toks', 'hshtgs', 'twtid', 'media', 'links', 'domns', 'twttyp', 'lang',\n",
       "       'tm', 'u1id', 'u1_fllwer_cnt', 'u1_fllwing_cnt', 'u1_vrfed',\n",
       "       'u1_create_tm', 'u2id', 'u2_fllwer_cnt', 'u2_fllwng_cnt', 'u2_vrfed',\n",
       "       'u2_create_tm', 'u1_fllw_u2', 'retwt', 'reply', 'like', 'retwt_cmmnt'],\n",
       "      dtype='object')"
      ]
     },
     "metadata": {},
     "output_type": "display_data"
    }
   ],
   "source": [
    "train_pop=len(dftrn)\n",
    "sampled_train_pop=trnsz\n",
    "idx_pos = np.where(dftrn[TCOL])[0]\n",
    "target_pop=sampled_target_pop=len(idx_pos)\n",
    "if TGT in ('Reply','RTwCmnt'):\n",
    "    idx_neg0 = np.where(~dftrn[TCOL])[0]\n",
    "    idx_neg = np.random.choice(idx_neg0, trnsz-len(idx_pos), replace=False)\n",
    "    idx = np.concatenate([idx_pos,idx_neg])\n",
    "    dftrn = dftrn.iloc[idx].copy()\n",
    "print(dftrn.shape, dftrn[TCOL].mean())\n",
    "print(train_pop, target_pop, sampled_train_pop, sampled_target_pop)\n",
    "\n",
    "display(dftrn.head())\n",
    "display(dftrn.columns)"
   ]
  },
  {
   "cell_type": "markdown",
   "metadata": {},
   "source": [
    "## prep and features"
   ]
  },
  {
   "cell_type": "code",
   "execution_count": 8,
   "metadata": {},
   "outputs": [],
   "source": [
    "def prp_df(df, tm_max):\n",
    "    '''\n",
    "    tm_max = tm_trn_max for train tm_tst_max for test\n",
    "    '''\n",
    "    lendf = len(df)\n",
    "    print(dtnow(), 'start')\n",
    "    set_u1 = set(df.u1id)\n",
    "    set_u2 = set(df.u2id)\n",
    "    df['u1inu2']=df.u1id.isin(set_u2)\n",
    "    df['u2inu1']=df.u2id.isin(set_u1)\n",
    "\n",
    "    #counts\n",
    "    df['len_toks'] = df.toks.apply(lambda x: len(x.split('\\t')))\n",
    "    df.drop(columns=['toks'], inplace=True)    \n",
    "    for m in ['Photo', 'Video', 'GIF']:\n",
    "        df[f'n_media_{m}'] = df['media'].fillna('').apply(lambda x: x.split('\\t').count(m))\n",
    "    tgnms = ['hshtgs','media', 'links', 'domns',]\n",
    "    for tgnm in tgnms:\n",
    "        df[f'has_{tgnm}']=df[tgnm].notna()\n",
    "        df[f'lst_{tgnm}'] = df[tgnm].fillna('').apply(lambda x: x.split('\\t') if len(x) else [])\n",
    "        df[f'n_{tgnm}'] = df[f'lst_{tgnm}'].apply(len)  \n",
    "    df.drop(columns=['has_links','n_links'], inplace=True) #duplicates has_domns,n_domns \n",
    "    \n",
    "    #time\n",
    "    dt = pd.to_datetime(df.tm, unit='s')\n",
    "    df['dayofweek'] = dt.dt.dayofweek\n",
    "    df['hour'] = dt.dt.hour\n",
    "    \n",
    "    df['tmdlta_u2u1']  = df.u2_create_tm - df.u1_create_tm\n",
    "    df['tmdlta_twtu1'] = df.tm - df.u1_create_tm\n",
    "    df['tmdlta_twtu2'] = df.tm - df.u2_create_tm\n",
    "\n",
    "    df['twt_age']   = tm_max-df.tm\n",
    "    df['u1_age']    = tm_max-df.u1_create_tm\n",
    "    df['u2_age']    = tm_max-df.u2_create_tm\n",
    "    df.drop(columns=['tm', 'u1_create_tm', 'u2_create_tm'], inplace=True)\n",
    "\n",
    "    #time derived\n",
    "    df['u1_fllwer_cnt_by_age'] = df.u1_fllwer_cnt / df.u1_age\n",
    "    df['u1_fllwng_cnt_by_age'] = df.u2_fllwng_cnt / df.u2_age\n",
    "    \n",
    "    #interaction\n",
    "    df['u1u2']=df.u1id+'_'+df.u2id\n",
    "    df['langhour']=df.lang+'_'+df.hour.astype(str)\n",
    "    \n",
    "\n",
    "    #freq of feature values\n",
    "    print(dtnow(), 'freq of columns using CountEncoder')\n",
    "    encoder = ce.CountEncoder()\n",
    "    encoded = encoder.fit_transform(\n",
    "    df[['twtid', 'twttyp', 'lang', 'u1id', 'u1_fllwing_cnt', 'u1_vrfed', 'u2id', 'u2_fllwer_cnt', 'u2_vrfed', 'u1_fllw_u2', \n",
    "       'n_media_Photo', 'n_media_Video', 'n_media_GIF', \n",
    "       'has_hshtgs', 'n_hshtgs', 'has_media', 'n_media','has_domns', 'n_domns', \n",
    "       'dayofweek', 'hour', 'u1u2', 'langhour']].astype(object))\n",
    "    encoded = encoded.astype(int)/lendf\n",
    "    encoded.columns = [f'frq_{col}' for col in encoded.columns]\n",
    "    df = pd.concat([df,encoded],1)\n",
    "    \n",
    "    #freq of tgnm values\n",
    "    print(dtnow(), 'freq of tags')\n",
    "    for tgnm in tgnms:\n",
    "        vs = [j for i in df[f'lst_{tgnm}'] for j in i]\n",
    "        cnt = Counter(vs)\n",
    "        frq = {k:v/lendf for k,v in cnt.items()}\n",
    "        df[f'sumfrq_{tgnm}']=df[f'lst_{tgnm}'].apply(lambda x: sum([frq.get(o,0) for o in x]))\n",
    "        df[f'maxfrq_{tgnm}']=df[f'lst_{tgnm}'].apply(lambda x: max([frq.get(o,0) for o in x]) if len(x) else 0)\n",
    "    df.drop(columns=tgnms+[f'lst_{tgnm}' for tgnm in tgnms],inplace=True)\n",
    "\n",
    "    print(dtnow(), 'done')\n",
    "    return df"
   ]
  },
  {
   "cell_type": "code",
   "execution_count": 9,
   "metadata": {},
   "outputs": [
    {
     "name": "stdout",
     "output_type": "stream",
     "text": [
      "2020-04-11 19:58:53 start\n",
      "2020-04-11 19:59:11 freq of columns using CountEncoder\n"
     ]
    },
    {
     "name": "stderr",
     "output_type": "stream",
     "text": [
      "/data/anaconda3/envs/rcss20/lib/python3.7/site-packages/category_encoders/count.py:255: FutureWarning: The pandas.np module is deprecated and will be removed from pandas in a future version. Import numpy directly instead\n",
      "  X.loc[:, self.cols] = X.fillna(value=pd.np.nan)\n"
     ]
    },
    {
     "name": "stdout",
     "output_type": "stream",
     "text": [
      "2020-04-11 19:59:33 freq of tags\n",
      "2020-04-11 19:59:42 done\n",
      "CPU times: user 42.1 s, sys: 3.36 s, total: 45.5 s\n",
      "Wall time: 48.8 s\n"
     ]
    }
   ],
   "source": [
    "%%time\n",
    "dftrn=prp_df(dftrn, tm_max=tm_trn_max)"
   ]
  },
  {
   "cell_type": "code",
   "execution_count": 10,
   "metadata": {},
   "outputs": [
    {
     "name": "stdout",
     "output_type": "stream",
     "text": [
      "2020-04-11 19:59:42 start\n",
      "2020-04-11 19:59:55 freq of columns using CountEncoder\n",
      "2020-04-11 20:00:12 freq of tags\n",
      "2020-04-11 20:00:18 done\n",
      "CPU times: user 31.5 s, sys: 2.68 s, total: 34.2 s\n",
      "Wall time: 36.1 s\n"
     ]
    }
   ],
   "source": [
    "%%time\n",
    "dfval=prp_df(dfval, tm_max=tm_trn_max)"
   ]
  },
  {
   "cell_type": "markdown",
   "metadata": {},
   "source": [
    "## tr vl split and target encoding"
   ]
  },
  {
   "cell_type": "code",
   "execution_count": 11,
   "metadata": {},
   "outputs": [
    {
     "data": {
      "text/plain": [
       "30"
      ]
     },
     "execution_count": 11,
     "metadata": {},
     "output_type": "execute_result"
    }
   ],
   "source": [
    "msk_vl=np.random.rand(len(dftrn))<0.15\n",
    "idxvl=np.where( msk_vl)[0]\n",
    "idxtr=np.where(~msk_vl)[0]\n",
    "\n",
    "dftr = dftrn.iloc[idxtr].copy()\n",
    "dfvl = dftrn.iloc[idxvl].copy()\n",
    "del dftrn\n",
    "\n",
    "gc.collect()"
   ]
  },
  {
   "cell_type": "code",
   "execution_count": 12,
   "metadata": {},
   "outputs": [
    {
     "data": {
      "text/plain": [
       "Index(['twtid', 'twttyp', 'lang', 'u1id', 'u1_fllwer_cnt', 'u1_fllwing_cnt',\n",
       "       'u1_vrfed', 'u2id', 'u2_fllwer_cnt', 'u2_fllwng_cnt', 'u2_vrfed',\n",
       "       'u1_fllw_u2', 'retwt', 'reply', 'like', 'retwt_cmmnt', 'u1inu2',\n",
       "       'u2inu1', 'len_toks', 'n_media_Photo', 'n_media_Video', 'n_media_GIF',\n",
       "       'has_hshtgs', 'n_hshtgs', 'has_media', 'n_media', 'has_domns',\n",
       "       'n_domns', 'dayofweek', 'hour', 'tmdlta_u2u1', 'tmdlta_twtu1',\n",
       "       'tmdlta_twtu2', 'twt_age', 'u1_age', 'u2_age', 'u1_fllwer_cnt_by_age',\n",
       "       'u1_fllwng_cnt_by_age', 'u1u2', 'langhour', 'frq_twtid', 'frq_twttyp',\n",
       "       'frq_lang', 'frq_u1id', 'frq_u1_fllwing_cnt', 'frq_u1_vrfed',\n",
       "       'frq_u2id', 'frq_u2_fllwer_cnt', 'frq_u2_vrfed', 'frq_u1_fllw_u2',\n",
       "       'frq_n_media_Photo', 'frq_n_media_Video', 'frq_n_media_GIF',\n",
       "       'frq_has_hshtgs', 'frq_n_hshtgs', 'frq_has_media', 'frq_n_media',\n",
       "       'frq_has_domns', 'frq_n_domns', 'frq_dayofweek', 'frq_hour', 'frq_u1u2',\n",
       "       'frq_langhour', 'sumfrq_hshtgs', 'maxfrq_hshtgs', 'sumfrq_media',\n",
       "       'maxfrq_media', 'sumfrq_links', 'maxfrq_links', 'sumfrq_domns',\n",
       "       'maxfrq_domns'],\n",
       "      dtype='object')"
      ]
     },
     "execution_count": 12,
     "metadata": {},
     "output_type": "execute_result"
    }
   ],
   "source": [
    "dftr.columns"
   ]
  },
  {
   "cell_type": "code",
   "execution_count": 13,
   "metadata": {},
   "outputs": [
    {
     "name": "stdout",
     "output_type": "stream",
     "text": [
      "CPU times: user 27.8 s, sys: 2.1 s, total: 29.9 s\n",
      "Wall time: 29.9 s\n"
     ]
    }
   ],
   "source": [
    "%%time\n",
    "col2tgtenc=['twtid', 'twttyp', 'lang', 'u1id', 'u1_fllwing_cnt', 'u1_vrfed', 'u2id', 'u2_fllwer_cnt', 'u2_vrfed', 'u1_fllw_u2', \n",
    "   'n_media_Photo', 'n_media_Video', 'n_media_GIF', \n",
    "   'has_hshtgs', 'n_hshtgs', 'has_media', 'n_media','has_domns', 'n_domns', \n",
    "   'dayofweek', 'hour', 'u1u2', 'langhour']\n",
    "tgt_encoder = ce.TargetEncoder()\n",
    "encoded_tr = tgt_encoder.fit_transform(dftr[col2tgtenc].astype(object), dftr[TCOL])\n",
    "encoded_vl = tgt_encoder.transform(dfvl[col2tgtenc].astype(object))\n",
    "encoded_val = tgt_encoder.transform(dfval[col2tgtenc].astype(object))\n",
    "\n",
    "tgtenc_columns = [f'tgtenc_{col}' for col in encoded_tr.columns]\n",
    "encoded_tr.columns = tgtenc_columns\n",
    "encoded_vl.columns = tgtenc_columns\n",
    "encoded_val.columns = tgtenc_columns\n",
    "\n",
    "dftr = pd.concat([dftr, encoded_tr], 1)\n",
    "dfvl = pd.concat([dfvl, encoded_vl], 1)\n",
    "dfval = pd.concat([dfval, encoded_val], 1)\n"
   ]
  },
  {
   "cell_type": "code",
   "execution_count": 14,
   "metadata": {},
   "outputs": [],
   "source": [
    "cols_category=['twttyp', 'lang', 'langhour']\n",
    "for df in dftr,dfvl,dfval:\n",
    "    df.drop(columns=['twtid','u1id','u2id','u1u2'], inplace=True)\n",
    "    df[cols_category]=df[cols_category].astype('category')"
   ]
  },
  {
   "cell_type": "code",
   "execution_count": 15,
   "metadata": {},
   "outputs": [],
   "source": [
    "cols_feat = [col for col in dftr.columns if col not in cols_tgt]"
   ]
  },
  {
   "cell_type": "markdown",
   "metadata": {},
   "source": [
    "# model"
   ]
  },
  {
   "cell_type": "markdown",
   "metadata": {},
   "source": [
    "## cols_feat"
   ]
  },
  {
   "cell_type": "code",
   "execution_count": 16,
   "metadata": {},
   "outputs": [
    {
     "name": "stdout",
     "output_type": "stream",
     "text": [
      "86\n",
      "33\n"
     ]
    }
   ],
   "source": [
    "print(len(cols_feat))\n",
    "cols_feat=['twttyp',\n",
    " 'lang',\n",
    " 'u1_fllwer_cnt',\n",
    " 'u1_fllwing_cnt',\n",
    " 'u1_vrfed',\n",
    " 'u2_fllwer_cnt',\n",
    " 'u2_fllwng_cnt',\n",
    " 'u2_vrfed',\n",
    " 'u1_fllw_u2',\n",
    " 'u1inu2',\n",
    " 'u2inu1',\n",
    " 'len_toks',\n",
    " 'n_media_Photo',\n",
    " 'n_media_Video',\n",
    " 'n_media_GIF',\n",
    "#  'has_hshtgs',\n",
    " 'n_hshtgs',\n",
    "#  'has_media',\n",
    " 'n_media',\n",
    "#  'has_domns',\n",
    " 'n_domns',\n",
    " 'dayofweek',\n",
    " 'hour',\n",
    " 'tmdlta_u2u1',\n",
    " 'tmdlta_twtu1',\n",
    " 'tmdlta_twtu2',\n",
    " 'twt_age',\n",
    " 'u1_age',\n",
    " 'u2_age',\n",
    " 'u1_fllwer_cnt_by_age',\n",
    " 'u1_fllwng_cnt_by_age',\n",
    " 'langhour',\n",
    " 'frq_twtid',\n",
    "#  'frq_twttyp',\n",
    "#  'frq_lang',\n",
    " 'frq_u1id',\n",
    "#  'frq_u1_fllwing_cnt',\n",
    "#  'frq_u1_vrfed',\n",
    " 'frq_u2id',\n",
    "#  'frq_u2_fllwer_cnt',\n",
    "#  'frq_u2_vrfed',\n",
    "#  'frq_u1_fllw_u2',\n",
    "#  'frq_n_media_Photo',\n",
    "#  'frq_n_media_Video',\n",
    "#  'frq_n_media_GIF',\n",
    "#  'frq_has_hshtgs',\n",
    "#  'frq_n_hshtgs',\n",
    "#  'frq_has_media',\n",
    "#  'frq_n_media',\n",
    "#  'frq_has_domns',\n",
    "#  'frq_n_domns',\n",
    "#  'frq_dayofweek',\n",
    "#  'frq_hour',\n",
    " 'frq_u1u2',\n",
    "#  'frq_langhour',\n",
    "#  'sumfrq_hshtgs',\n",
    "#  'maxfrq_hshtgs',\n",
    "#  'sumfrq_media',\n",
    "#  'maxfrq_media',\n",
    "#  'sumfrq_links',\n",
    "#  'maxfrq_links',\n",
    "#  'sumfrq_domns',\n",
    "#  'maxfrq_domns',\n",
    "#  'tgtenc_twtid',\n",
    "#  'tgtenc_twttyp',\n",
    "#  'tgtenc_lang',\n",
    "#  'tgtenc_u1id',\n",
    "#  'tgtenc_u1_fllwing_cnt',\n",
    "#  'tgtenc_u1_vrfed',\n",
    "#  'tgtenc_u2id',\n",
    "#  'tgtenc_u2_fllwer_cnt',\n",
    "#  'tgtenc_u2_vrfed',\n",
    "#  'tgtenc_u1_fllw_u2',\n",
    "#  'tgtenc_n_media_Photo',\n",
    "#  'tgtenc_n_media_Video',\n",
    "#  'tgtenc_n_media_GIF',\n",
    "#  'tgtenc_has_hshtgs',\n",
    "#  'tgtenc_n_hshtgs',\n",
    "#  'tgtenc_has_media',\n",
    "#  'tgtenc_n_media',\n",
    "#  'tgtenc_has_domns',\n",
    "#  'tgtenc_n_domns',\n",
    "#  'tgtenc_dayofweek',\n",
    "#  'tgtenc_hour',\n",
    "#  'tgtenc_u1u2',\n",
    "#  'tgtenc_langhour'\n",
    "          ]\n",
    "print(len(cols_feat))"
   ]
  },
  {
   "cell_type": "code",
   "execution_count": 17,
   "metadata": {},
   "outputs": [],
   "source": [
    "results = {}\n",
    "results['PRFX'] = PRFX\n",
    "results['TGT'] = TGT\n",
    "results['cols_feat'] = cols_feat\n",
    "results['tgt_encoder'] = tgt_encoder\n",
    "results['col2tgtenc'] = col2tgtenc"
   ]
  },
  {
   "cell_type": "code",
   "execution_count": 18,
   "metadata": {},
   "outputs": [],
   "source": [
    "params={\n",
    "    'objective': 'binary',\n",
    "    'metric': 'binary_logloss',\n",
    "    'verbosity': 0,    \n",
    "}\n",
    "results['params'] = params"
   ]
  },
  {
   "cell_type": "code",
   "execution_count": 19,
   "metadata": {
    "scrolled": true
   },
   "outputs": [
    {
     "name": "stderr",
     "output_type": "stream",
     "text": [
      "/data/anaconda3/envs/rcss20/lib/python3.7/site-packages/optuna/_experimental.py:87: ExperimentalWarning: train is experimental (supported from v0.18.0). The interface can change in the future.\n",
      "  ExperimentalWarning\n",
      "tune_feature_fraction, val_score: inf:   0%|          | 0/7 [00:00<?, ?it/s]"
     ]
    },
    {
     "name": "stdout",
     "output_type": "stream",
     "text": [
      "Training until validation scores don't improve for 100 rounds\n",
      "[100]\ttr's binary_logloss: 0.264944\tvl's binary_logloss: 0.276789\n",
      "[200]\ttr's binary_logloss: 0.25822\tvl's binary_logloss: 0.276432\n",
      "Early stopping, best iteration is:\n",
      "[190]\ttr's binary_logloss: 0.258713\tvl's binary_logloss: 0.276373\n"
     ]
    },
    {
     "name": "stderr",
     "output_type": "stream",
     "text": [
      "tune_feature_fraction, val_score: 0.276373:  14%|#4        | 1/7 [00:08<00:51,  8.52s/it]"
     ]
    },
    {
     "name": "stdout",
     "output_type": "stream",
     "text": [
      "Training until validation scores don't improve for 100 rounds\n",
      "[100]\ttr's binary_logloss: 0.263671\tvl's binary_logloss: 0.277071\n",
      "[200]\ttr's binary_logloss: 0.256292\tvl's binary_logloss: 0.276916\n",
      "Early stopping, best iteration is:\n",
      "[161]\ttr's binary_logloss: 0.258778\tvl's binary_logloss: 0.276879\n"
     ]
    },
    {
     "name": "stderr",
     "output_type": "stream",
     "text": [
      "tune_feature_fraction, val_score: 0.276373:  29%|##8       | 2/7 [00:14<00:39,  7.85s/it]"
     ]
    },
    {
     "name": "stdout",
     "output_type": "stream",
     "text": [
      "Training until validation scores don't improve for 100 rounds\n",
      "[100]\ttr's binary_logloss: 0.262558\tvl's binary_logloss: 0.277501\n",
      "Early stopping, best iteration is:\n",
      "[90]\ttr's binary_logloss: 0.263589\tvl's binary_logloss: 0.27739\n"
     ]
    },
    {
     "name": "stderr",
     "output_type": "stream",
     "text": [
      "tune_feature_fraction, val_score: 0.276373:  43%|####2     | 3/7 [00:20<00:28,  7.05s/it]"
     ]
    },
    {
     "name": "stdout",
     "output_type": "stream",
     "text": [
      "Training until validation scores don't improve for 100 rounds\n",
      "[100]\ttr's binary_logloss: 0.261856\tvl's binary_logloss: 0.277356\n",
      "[200]\ttr's binary_logloss: 0.253972\tvl's binary_logloss: 0.277601\n",
      "Early stopping, best iteration is:\n",
      "[104]\ttr's binary_logloss: 0.261481\tvl's binary_logloss: 0.277311\n"
     ]
    },
    {
     "name": "stderr",
     "output_type": "stream",
     "text": [
      "tune_feature_fraction, val_score: 0.276373:  57%|#####7    | 4/7 [00:25<00:19,  6.66s/it]"
     ]
    },
    {
     "name": "stdout",
     "output_type": "stream",
     "text": [
      "Training until validation scores don't improve for 100 rounds\n",
      "[100]\ttr's binary_logloss: 0.260542\tvl's binary_logloss: 0.278048\n",
      "[200]\ttr's binary_logloss: 0.252395\tvl's binary_logloss: 0.278347\n",
      "Early stopping, best iteration is:\n",
      "[128]\ttr's binary_logloss: 0.25788\tvl's binary_logloss: 0.277967\n"
     ]
    },
    {
     "name": "stderr",
     "output_type": "stream",
     "text": [
      "tune_feature_fraction, val_score: 0.276373:  71%|#######1  | 5/7 [00:32<00:13,  6.57s/it]"
     ]
    },
    {
     "name": "stdout",
     "output_type": "stream",
     "text": [
      "Training until validation scores don't improve for 100 rounds\n",
      "[100]\ttr's binary_logloss: 0.259435\tvl's binary_logloss: 0.278562\n",
      "[200]\ttr's binary_logloss: 0.251148\tvl's binary_logloss: 0.278676\n",
      "Early stopping, best iteration is:\n",
      "[140]\ttr's binary_logloss: 0.25576\tvl's binary_logloss: 0.278379\n"
     ]
    },
    {
     "name": "stderr",
     "output_type": "stream",
     "text": [
      "tune_feature_fraction, val_score: 0.276373:  86%|########5 | 6/7 [00:39<00:06,  6.65s/it]"
     ]
    },
    {
     "name": "stdout",
     "output_type": "stream",
     "text": [
      "Training until validation scores don't improve for 100 rounds\n",
      "[100]\ttr's binary_logloss: 0.259288\tvl's binary_logloss: 0.278605\n",
      "Early stopping, best iteration is:\n",
      "[81]\ttr's binary_logloss: 0.261734\tvl's binary_logloss: 0.278552\n"
     ]
    },
    {
     "name": "stderr",
     "output_type": "stream",
     "text": [
      "tune_feature_fraction, val_score: 0.276373: 100%|##########| 7/7 [00:44<00:00,  6.36s/it]\n",
      "tune_num_leaves, val_score: 0.276373:   0%|          | 0/20 [00:00<?, ?it/s]"
     ]
    },
    {
     "name": "stdout",
     "output_type": "stream",
     "text": [
      "Training until validation scores don't improve for 100 rounds\n",
      "[100]\ttr's binary_logloss: 0.267813\tvl's binary_logloss: 0.277169\n",
      "[200]\ttr's binary_logloss: 0.262338\tvl's binary_logloss: 0.276707\n",
      "[300]\ttr's binary_logloss: 0.258451\tvl's binary_logloss: 0.276784\n",
      "Early stopping, best iteration is:\n",
      "[212]\ttr's binary_logloss: 0.261835\tvl's binary_logloss: 0.276676\n"
     ]
    },
    {
     "name": "stderr",
     "output_type": "stream",
     "text": [
      "tune_num_leaves, val_score: 0.276373:   5%|5         | 1/20 [00:06<02:01,  6.38s/it]"
     ]
    },
    {
     "name": "stdout",
     "output_type": "stream",
     "text": [
      "Training until validation scores don't improve for 100 rounds\n",
      "[100]\ttr's binary_logloss: 0.257658\tvl's binary_logloss: 0.276451\n",
      "Early stopping, best iteration is:\n",
      "[89]\ttr's binary_logloss: 0.259021\tvl's binary_logloss: 0.276396\n"
     ]
    },
    {
     "name": "stderr",
     "output_type": "stream",
     "text": [
      "tune_num_leaves, val_score: 0.276373:  10%|#         | 2/20 [00:11<01:49,  6.11s/it]"
     ]
    },
    {
     "name": "stdout",
     "output_type": "stream",
     "text": [
      "Training until validation scores don't improve for 100 rounds\n",
      "[100]\ttr's binary_logloss: 0.225751\tvl's binary_logloss: 0.277105\n",
      "Early stopping, best iteration is:\n",
      "[61]\ttr's binary_logloss: 0.240602\tvl's binary_logloss: 0.276648\n"
     ]
    },
    {
     "name": "stderr",
     "output_type": "stream",
     "text": [
      "tune_num_leaves, val_score: 0.276373:  15%|#5        | 3/20 [00:19<01:53,  6.69s/it]"
     ]
    },
    {
     "name": "stdout",
     "output_type": "stream",
     "text": [
      "Training until validation scores don't improve for 100 rounds\n",
      "[100]\ttr's binary_logloss: 0.266208\tvl's binary_logloss: 0.276875\n",
      "[200]\ttr's binary_logloss: 0.259839\tvl's binary_logloss: 0.276683\n",
      "[300]\ttr's binary_logloss: 0.255221\tvl's binary_logloss: 0.276699\n",
      "Early stopping, best iteration is:\n",
      "[229]\ttr's binary_logloss: 0.258347\tvl's binary_logloss: 0.276514\n"
     ]
    },
    {
     "name": "stderr",
     "output_type": "stream",
     "text": [
      "tune_num_leaves, val_score: 0.276373:  20%|##        | 4/20 [00:27<01:49,  6.85s/it]"
     ]
    },
    {
     "name": "stdout",
     "output_type": "stream",
     "text": [
      "Training until validation scores don't improve for 100 rounds\n",
      "[100]\ttr's binary_logloss: 0.235194\tvl's binary_logloss: 0.277059\n",
      "Early stopping, best iteration is:\n",
      "[65]\ttr's binary_logloss: 0.246013\tvl's binary_logloss: 0.276698\n"
     ]
    },
    {
     "name": "stderr",
     "output_type": "stream",
     "text": [
      "tune_num_leaves, val_score: 0.276373:  25%|##5       | 5/20 [00:34<01:45,  7.04s/it]"
     ]
    },
    {
     "name": "stdout",
     "output_type": "stream",
     "text": [
      "Training until validation scores don't improve for 100 rounds\n",
      "[100]\ttr's binary_logloss: 0.24214\tvl's binary_logloss: 0.276542\n",
      "Early stopping, best iteration is:\n",
      "[83]\ttr's binary_logloss: 0.246129\tvl's binary_logloss: 0.276382\n"
     ]
    },
    {
     "name": "stderr",
     "output_type": "stream",
     "text": [
      "tune_num_leaves, val_score: 0.276373:  30%|###       | 6/20 [00:41<01:38,  7.03s/it]"
     ]
    },
    {
     "name": "stdout",
     "output_type": "stream",
     "text": [
      "Training until validation scores don't improve for 100 rounds\n",
      "[100]\ttr's binary_logloss: 0.237719\tvl's binary_logloss: 0.276843\n",
      "Early stopping, best iteration is:\n",
      "[92]\ttr's binary_logloss: 0.239949\tvl's binary_logloss: 0.276637\n"
     ]
    },
    {
     "name": "stderr",
     "output_type": "stream",
     "text": [
      "tune_num_leaves, val_score: 0.276373:  35%|###5      | 7/20 [00:49<01:33,  7.23s/it]"
     ]
    },
    {
     "name": "stdout",
     "output_type": "stream",
     "text": [
      "Training until validation scores don't improve for 100 rounds\n",
      "[100]\ttr's binary_logloss: 0.261516\tvl's binary_logloss: 0.276622\n",
      "[200]\ttr's binary_logloss: 0.252878\tvl's binary_logloss: 0.276339\n",
      "[300]\ttr's binary_logloss: 0.246275\tvl's binary_logloss: 0.276278\n",
      "[400]\ttr's binary_logloss: 0.240298\tvl's binary_logloss: 0.276636\n",
      "Early stopping, best iteration is:\n",
      "[315]\ttr's binary_logloss: 0.245425\tvl's binary_logloss: 0.276265\n"
     ]
    },
    {
     "name": "stderr",
     "output_type": "stream",
     "text": [
      "tune_num_leaves, val_score: 0.276265:  40%|####      | 8/20 [00:58<01:35,  7.93s/it]"
     ]
    },
    {
     "name": "stdout",
     "output_type": "stream",
     "text": [
      "Training until validation scores don't improve for 100 rounds\n",
      "[100]\ttr's binary_logloss: 0.234716\tvl's binary_logloss: 0.276818\n",
      "Early stopping, best iteration is:\n",
      "[83]\ttr's binary_logloss: 0.239755\tvl's binary_logloss: 0.276538\n"
     ]
    },
    {
     "name": "stderr",
     "output_type": "stream",
     "text": [
      "tune_num_leaves, val_score: 0.276265:  45%|####5     | 9/20 [01:06<01:27,  7.95s/it]"
     ]
    },
    {
     "name": "stdout",
     "output_type": "stream",
     "text": [
      "Training until validation scores don't improve for 100 rounds\n",
      "[100]\ttr's binary_logloss: 0.246177\tvl's binary_logloss: 0.276283\n",
      "Early stopping, best iteration is:\n",
      "[91]\ttr's binary_logloss: 0.248079\tvl's binary_logloss: 0.276153\n"
     ]
    },
    {
     "name": "stderr",
     "output_type": "stream",
     "text": [
      "tune_num_leaves, val_score: 0.276153:  50%|#####     | 10/20 [01:14<01:19,  7.95s/it]"
     ]
    },
    {
     "name": "stdout",
     "output_type": "stream",
     "text": [
      "Training until validation scores don't improve for 100 rounds\n",
      "[100]\ttr's binary_logloss: 0.248132\tvl's binary_logloss: 0.276475\n",
      "Early stopping, best iteration is:\n",
      "[90]\ttr's binary_logloss: 0.250119\tvl's binary_logloss: 0.276375\n"
     ]
    },
    {
     "name": "stderr",
     "output_type": "stream",
     "text": [
      "tune_num_leaves, val_score: 0.276153:  55%|#####5    | 11/20 [01:21<01:07,  7.53s/it]"
     ]
    },
    {
     "name": "stdout",
     "output_type": "stream",
     "text": [
      "Training until validation scores don't improve for 100 rounds\n",
      "[100]\ttr's binary_logloss: 0.252701\tvl's binary_logloss: 0.276561\n",
      "Early stopping, best iteration is:\n",
      "[91]\ttr's binary_logloss: 0.254176\tvl's binary_logloss: 0.276472\n"
     ]
    },
    {
     "name": "stderr",
     "output_type": "stream",
     "text": [
      "tune_num_leaves, val_score: 0.276153:  60%|######    | 12/20 [01:27<00:56,  7.09s/it]"
     ]
    },
    {
     "name": "stdout",
     "output_type": "stream",
     "text": [
      "Training until validation scores don't improve for 100 rounds\n",
      "[100]\ttr's binary_logloss: 0.257183\tvl's binary_logloss: 0.276496\n",
      "[200]\ttr's binary_logloss: 0.246659\tvl's binary_logloss: 0.276645\n",
      "Early stopping, best iteration is:\n",
      "[128]\ttr's binary_logloss: 0.253603\tvl's binary_logloss: 0.276428\n"
     ]
    },
    {
     "name": "stderr",
     "output_type": "stream",
     "text": [
      "tune_num_leaves, val_score: 0.276153:  65%|######5   | 13/20 [01:34<00:48,  6.93s/it]"
     ]
    },
    {
     "name": "stdout",
     "output_type": "stream",
     "text": [
      "Training until validation scores don't improve for 100 rounds\n",
      "[100]\ttr's binary_logloss: 0.27956\tvl's binary_logloss: 0.281869\n",
      "[200]\ttr's binary_logloss: 0.276361\tvl's binary_logloss: 0.27991\n",
      "[300]\ttr's binary_logloss: 0.274562\tvl's binary_logloss: 0.278928\n",
      "[400]\ttr's binary_logloss: 0.273301\tvl's binary_logloss: 0.278454\n",
      "[500]\ttr's binary_logloss: 0.2722\tvl's binary_logloss: 0.278161\n",
      "[600]\ttr's binary_logloss: 0.271273\tvl's binary_logloss: 0.278008\n",
      "[700]\ttr's binary_logloss: 0.270497\tvl's binary_logloss: 0.277832\n",
      "[800]\ttr's binary_logloss: 0.269729\tvl's binary_logloss: 0.277732\n",
      "[900]\ttr's binary_logloss: 0.268962\tvl's binary_logloss: 0.277605\n",
      "Early stopping, best iteration is:\n",
      "[885]\ttr's binary_logloss: 0.269068\tvl's binary_logloss: 0.277602\n"
     ]
    },
    {
     "name": "stderr",
     "output_type": "stream",
     "text": [
      "tune_num_leaves, val_score: 0.276153:  70%|#######   | 14/20 [01:48<00:54,  9.12s/it]"
     ]
    },
    {
     "name": "stdout",
     "output_type": "stream",
     "text": [
      "Training until validation scores don't improve for 100 rounds\n",
      "[100]\ttr's binary_logloss: 0.244688\tvl's binary_logloss: 0.276477\n",
      "Early stopping, best iteration is:\n",
      "[83]\ttr's binary_logloss: 0.248475\tvl's binary_logloss: 0.276359\n"
     ]
    },
    {
     "name": "stderr",
     "output_type": "stream",
     "text": [
      "tune_num_leaves, val_score: 0.276153:  75%|#######5  | 15/20 [01:55<00:42,  8.41s/it]"
     ]
    },
    {
     "name": "stdout",
     "output_type": "stream",
     "text": [
      "Training until validation scores don't improve for 100 rounds\n",
      "[100]\ttr's binary_logloss: 0.229756\tvl's binary_logloss: 0.277047\n",
      "Early stopping, best iteration is:\n",
      "[67]\ttr's binary_logloss: 0.241315\tvl's binary_logloss: 0.276769\n"
     ]
    },
    {
     "name": "stderr",
     "output_type": "stream",
     "text": [
      "tune_num_leaves, val_score: 0.276153:  80%|########  | 16/20 [02:02<00:32,  8.21s/it]"
     ]
    },
    {
     "name": "stdout",
     "output_type": "stream",
     "text": [
      "Training until validation scores don't improve for 100 rounds\n",
      "[100]\ttr's binary_logloss: 0.251263\tvl's binary_logloss: 0.276561\n",
      "Early stopping, best iteration is:\n",
      "[91]\ttr's binary_logloss: 0.252818\tvl's binary_logloss: 0.276418\n"
     ]
    },
    {
     "name": "stderr",
     "output_type": "stream",
     "text": [
      "tune_num_leaves, val_score: 0.276153:  85%|########5 | 17/20 [02:09<00:22,  7.64s/it]"
     ]
    },
    {
     "name": "stdout",
     "output_type": "stream",
     "text": [
      "Training until validation scores don't improve for 100 rounds\n",
      "[100]\ttr's binary_logloss: 0.25948\tvl's binary_logloss: 0.276446\n",
      "Early stopping, best iteration is:\n",
      "[94]\ttr's binary_logloss: 0.260281\tvl's binary_logloss: 0.276357\n"
     ]
    },
    {
     "name": "stderr",
     "output_type": "stream",
     "text": [
      "tune_num_leaves, val_score: 0.276153:  90%|######### | 18/20 [02:14<00:13,  6.96s/it]"
     ]
    },
    {
     "name": "stdout",
     "output_type": "stream",
     "text": [
      "Training until validation scores don't improve for 100 rounds\n",
      "[100]\ttr's binary_logloss: 0.24214\tvl's binary_logloss: 0.276542\n",
      "Early stopping, best iteration is:\n",
      "[83]\ttr's binary_logloss: 0.246129\tvl's binary_logloss: 0.276382\n"
     ]
    },
    {
     "name": "stderr",
     "output_type": "stream",
     "text": [
      "tune_num_leaves, val_score: 0.276153:  95%|#########5| 19/20 [02:21<00:06,  6.97s/it]"
     ]
    },
    {
     "name": "stdout",
     "output_type": "stream",
     "text": [
      "Training until validation scores don't improve for 100 rounds\n",
      "[100]\ttr's binary_logloss: 0.246887\tvl's binary_logloss: 0.276555\n",
      "Early stopping, best iteration is:\n",
      "[91]\ttr's binary_logloss: 0.248728\tvl's binary_logloss: 0.276463\n"
     ]
    },
    {
     "name": "stderr",
     "output_type": "stream",
     "text": [
      "tune_num_leaves, val_score: 0.276153: 100%|##########| 20/20 [02:28<00:00,  7.41s/it]\n",
      "tune_bagging_fraction_and_bagging_freq, val_score: 0.276153:   0%|          | 0/10 [00:00<?, ?it/s]"
     ]
    },
    {
     "name": "stdout",
     "output_type": "stream",
     "text": [
      "Training until validation scores don't improve for 100 rounds\n",
      "[100]\ttr's binary_logloss: 0.246485\tvl's binary_logloss: 0.276644\n",
      "Early stopping, best iteration is:\n",
      "[83]\ttr's binary_logloss: 0.250071\tvl's binary_logloss: 0.276487\n"
     ]
    },
    {
     "name": "stderr",
     "output_type": "stream",
     "text": [
      "tune_bagging_fraction_and_bagging_freq, val_score: 0.276153:  10%|#         | 1/10 [00:09<01:21,  9.03s/it]"
     ]
    },
    {
     "name": "stdout",
     "output_type": "stream",
     "text": [
      "Training until validation scores don't improve for 100 rounds\n",
      "[100]\ttr's binary_logloss: 0.248019\tvl's binary_logloss: 0.277085\n",
      "Early stopping, best iteration is:\n",
      "[91]\ttr's binary_logloss: 0.2499\tvl's binary_logloss: 0.276904\n"
     ]
    },
    {
     "name": "stderr",
     "output_type": "stream",
     "text": [
      "tune_bagging_fraction_and_bagging_freq, val_score: 0.276153:  20%|##        | 2/10 [00:17<01:10,  8.81s/it]"
     ]
    },
    {
     "name": "stdout",
     "output_type": "stream",
     "text": [
      "Training until validation scores don't improve for 100 rounds\n",
      "[100]\ttr's binary_logloss: 0.249587\tvl's binary_logloss: 0.276962\n",
      "Early stopping, best iteration is:\n",
      "[93]\ttr's binary_logloss: 0.250968\tvl's binary_logloss: 0.276867\n"
     ]
    },
    {
     "name": "stderr",
     "output_type": "stream",
     "text": [
      "tune_bagging_fraction_and_bagging_freq, val_score: 0.276153:  30%|###       | 3/10 [00:25<01:00,  8.64s/it]"
     ]
    },
    {
     "name": "stdout",
     "output_type": "stream",
     "text": [
      "Training until validation scores don't improve for 100 rounds\n",
      "[100]\ttr's binary_logloss: 0.24757\tvl's binary_logloss: 0.276709\n",
      "Early stopping, best iteration is:\n",
      "[94]\ttr's binary_logloss: 0.248813\tvl's binary_logloss: 0.276598\n"
     ]
    },
    {
     "name": "stderr",
     "output_type": "stream",
     "text": [
      "tune_bagging_fraction_and_bagging_freq, val_score: 0.276153:  40%|####      | 4/10 [00:33<00:51,  8.55s/it]"
     ]
    },
    {
     "name": "stdout",
     "output_type": "stream",
     "text": [
      "Training until validation scores don't improve for 100 rounds\n",
      "[100]\ttr's binary_logloss: 0.252359\tvl's binary_logloss: 0.278573\n",
      "Early stopping, best iteration is:\n",
      "[70]\ttr's binary_logloss: 0.258149\tvl's binary_logloss: 0.278352\n"
     ]
    },
    {
     "name": "stderr",
     "output_type": "stream",
     "text": [
      "tune_bagging_fraction_and_bagging_freq, val_score: 0.276153:  50%|#####     | 5/10 [00:40<00:38,  7.80s/it]"
     ]
    },
    {
     "name": "stdout",
     "output_type": "stream",
     "text": [
      "Training until validation scores don't improve for 100 rounds\n",
      "[100]\ttr's binary_logloss: 0.247043\tvl's binary_logloss: 0.27701\n",
      "Early stopping, best iteration is:\n",
      "[91]\ttr's binary_logloss: 0.248783\tvl's binary_logloss: 0.276833\n"
     ]
    },
    {
     "name": "stderr",
     "output_type": "stream",
     "text": [
      "tune_bagging_fraction_and_bagging_freq, val_score: 0.276153:  60%|######    | 6/10 [00:49<00:33,  8.33s/it]"
     ]
    },
    {
     "name": "stdout",
     "output_type": "stream",
     "text": [
      "Training until validation scores don't improve for 100 rounds\n",
      "[100]\ttr's binary_logloss: 0.248967\tvl's binary_logloss: 0.277163\n",
      "Early stopping, best iteration is:\n",
      "[82]\ttr's binary_logloss: 0.252708\tvl's binary_logloss: 0.276964\n"
     ]
    },
    {
     "name": "stderr",
     "output_type": "stream",
     "text": [
      "tune_bagging_fraction_and_bagging_freq, val_score: 0.276153:  70%|#######   | 7/10 [00:59<00:25,  8.65s/it]"
     ]
    },
    {
     "name": "stdout",
     "output_type": "stream",
     "text": [
      "Training until validation scores don't improve for 100 rounds\n",
      "[100]\ttr's binary_logloss: 0.248998\tvl's binary_logloss: 0.277146\n",
      "Early stopping, best iteration is:\n",
      "[82]\ttr's binary_logloss: 0.252538\tvl's binary_logloss: 0.276982\n"
     ]
    },
    {
     "name": "stderr",
     "output_type": "stream",
     "text": [
      "tune_bagging_fraction_and_bagging_freq, val_score: 0.276153:  80%|########  | 8/10 [01:08<00:17,  8.95s/it]"
     ]
    },
    {
     "name": "stdout",
     "output_type": "stream",
     "text": [
      "Training until validation scores don't improve for 100 rounds\n",
      "[100]\ttr's binary_logloss: 0.24754\tvl's binary_logloss: 0.276917\n",
      "Early stopping, best iteration is:\n",
      "[67]\ttr's binary_logloss: 0.254667\tvl's binary_logloss: 0.276799\n"
     ]
    },
    {
     "name": "stderr",
     "output_type": "stream",
     "text": [
      "tune_bagging_fraction_and_bagging_freq, val_score: 0.276153:  90%|######### | 9/10 [01:17<00:09,  9.06s/it]"
     ]
    },
    {
     "name": "stdout",
     "output_type": "stream",
     "text": [
      "Training until validation scores don't improve for 100 rounds\n",
      "[100]\ttr's binary_logloss: 0.249788\tvl's binary_logloss: 0.27719\n",
      "Early stopping, best iteration is:\n",
      "[89]\ttr's binary_logloss: 0.251873\tvl's binary_logloss: 0.276969\n"
     ]
    },
    {
     "name": "stderr",
     "output_type": "stream",
     "text": [
      "tune_bagging_fraction_and_bagging_freq, val_score: 0.276153: 100%|##########| 10/10 [01:27<00:00,  8.75s/it]\n",
      "tune_feature_fraction, val_score: 0.276153:   0%|          | 0/3 [00:00<?, ?it/s]"
     ]
    },
    {
     "name": "stdout",
     "output_type": "stream",
     "text": [
      "Training until validation scores don't improve for 100 rounds\n",
      "[100]\ttr's binary_logloss: 0.245224\tvl's binary_logloss: 0.276609\n",
      "Early stopping, best iteration is:\n",
      "[90]\ttr's binary_logloss: 0.247451\tvl's binary_logloss: 0.276456\n"
     ]
    },
    {
     "name": "stderr",
     "output_type": "stream",
     "text": [
      "tune_feature_fraction, val_score: 0.276153:  33%|###3      | 1/3 [00:09<00:18,  9.23s/it]"
     ]
    },
    {
     "name": "stdout",
     "output_type": "stream",
     "text": [
      "Training until validation scores don't improve for 100 rounds\n",
      "[100]\ttr's binary_logloss: 0.245141\tvl's binary_logloss: 0.276437\n",
      "Early stopping, best iteration is:\n",
      "[90]\ttr's binary_logloss: 0.247349\tvl's binary_logloss: 0.276296\n"
     ]
    },
    {
     "name": "stderr",
     "output_type": "stream",
     "text": [
      "tune_feature_fraction, val_score: 0.276153:  67%|######6   | 2/3 [00:17<00:08,  8.95s/it]"
     ]
    },
    {
     "name": "stdout",
     "output_type": "stream",
     "text": [
      "Training until validation scores don't improve for 100 rounds\n",
      "[100]\ttr's binary_logloss: 0.244498\tvl's binary_logloss: 0.27698\n",
      "Early stopping, best iteration is:\n",
      "[90]\ttr's binary_logloss: 0.246704\tvl's binary_logloss: 0.27679\n"
     ]
    },
    {
     "name": "stderr",
     "output_type": "stream",
     "text": [
      "tune_feature_fraction, val_score: 0.276153: 100%|##########| 3/3 [00:26<00:00,  8.98s/it]\n",
      "tune_lambda_l1_and_lambda_l2, val_score: 0.276153:   0%|          | 0/20 [00:00<?, ?it/s]"
     ]
    },
    {
     "name": "stdout",
     "output_type": "stream",
     "text": [
      "Training until validation scores don't improve for 100 rounds\n",
      "[100]\ttr's binary_logloss: 0.248878\tvl's binary_logloss: 0.276323\n",
      "Early stopping, best iteration is:\n",
      "[83]\ttr's binary_logloss: 0.252012\tvl's binary_logloss: 0.276238\n"
     ]
    },
    {
     "name": "stderr",
     "output_type": "stream",
     "text": [
      "tune_lambda_l1_and_lambda_l2, val_score: 0.276153:   5%|5         | 1/20 [00:09<02:58,  9.38s/it]"
     ]
    },
    {
     "name": "stdout",
     "output_type": "stream",
     "text": [
      "Training until validation scores don't improve for 100 rounds\n",
      "[100]\ttr's binary_logloss: 0.246177\tvl's binary_logloss: 0.276283\n",
      "Early stopping, best iteration is:\n",
      "[91]\ttr's binary_logloss: 0.248079\tvl's binary_logloss: 0.276153\n"
     ]
    },
    {
     "name": "stderr",
     "output_type": "stream",
     "text": [
      "tune_lambda_l1_and_lambda_l2, val_score: 0.276153:  10%|#         | 2/20 [00:18<02:46,  9.26s/it]"
     ]
    },
    {
     "name": "stdout",
     "output_type": "stream",
     "text": [
      "Training until validation scores don't improve for 100 rounds\n",
      "[100]\ttr's binary_logloss: 0.246177\tvl's binary_logloss: 0.276283\n",
      "Early stopping, best iteration is:\n",
      "[91]\ttr's binary_logloss: 0.248079\tvl's binary_logloss: 0.276153\n"
     ]
    },
    {
     "name": "stderr",
     "output_type": "stream",
     "text": [
      "tune_lambda_l1_and_lambda_l2, val_score: 0.276153:  15%|#5        | 3/20 [00:27<02:34,  9.09s/it]"
     ]
    },
    {
     "name": "stdout",
     "output_type": "stream",
     "text": [
      "Training until validation scores don't improve for 100 rounds\n",
      "[100]\ttr's binary_logloss: 0.246177\tvl's binary_logloss: 0.276283\n",
      "Early stopping, best iteration is:\n",
      "[91]\ttr's binary_logloss: 0.248079\tvl's binary_logloss: 0.276153\n"
     ]
    },
    {
     "name": "stderr",
     "output_type": "stream",
     "text": [
      "tune_lambda_l1_and_lambda_l2, val_score: 0.276153:  20%|##        | 4/20 [00:35<02:24,  9.02s/it]"
     ]
    },
    {
     "name": "stdout",
     "output_type": "stream",
     "text": [
      "Training until validation scores don't improve for 100 rounds\n",
      "[100]\ttr's binary_logloss: 0.246424\tvl's binary_logloss: 0.276745\n",
      "Early stopping, best iteration is:\n",
      "[83]\ttr's binary_logloss: 0.249991\tvl's binary_logloss: 0.276592\n"
     ]
    },
    {
     "name": "stderr",
     "output_type": "stream",
     "text": [
      "tune_lambda_l1_and_lambda_l2, val_score: 0.276153:  25%|##5       | 5/20 [00:44<02:14,  8.94s/it]"
     ]
    },
    {
     "name": "stdout",
     "output_type": "stream",
     "text": [
      "Training until validation scores don't improve for 100 rounds\n",
      "[100]\ttr's binary_logloss: 0.246171\tvl's binary_logloss: 0.27659\n",
      "Early stopping, best iteration is:\n",
      "[89]\ttr's binary_logloss: 0.248478\tvl's binary_logloss: 0.276448\n"
     ]
    },
    {
     "name": "stderr",
     "output_type": "stream",
     "text": [
      "tune_lambda_l1_and_lambda_l2, val_score: 0.276153:  30%|###       | 6/20 [00:53<02:04,  8.86s/it]"
     ]
    },
    {
     "name": "stdout",
     "output_type": "stream",
     "text": [
      "Training until validation scores don't improve for 100 rounds\n",
      "[100]\ttr's binary_logloss: 0.24643\tvl's binary_logloss: 0.27669\n",
      "Early stopping, best iteration is:\n",
      "[83]\ttr's binary_logloss: 0.249875\tvl's binary_logloss: 0.276642\n"
     ]
    },
    {
     "name": "stderr",
     "output_type": "stream",
     "text": [
      "tune_lambda_l1_and_lambda_l2, val_score: 0.276153:  35%|###5      | 7/20 [01:02<01:54,  8.83s/it]"
     ]
    },
    {
     "name": "stdout",
     "output_type": "stream",
     "text": [
      "Training until validation scores don't improve for 100 rounds\n",
      "[100]\ttr's binary_logloss: 0.246248\tvl's binary_logloss: 0.276821\n",
      "Early stopping, best iteration is:\n",
      "[83]\ttr's binary_logloss: 0.249889\tvl's binary_logloss: 0.27667\n"
     ]
    },
    {
     "name": "stderr",
     "output_type": "stream",
     "text": [
      "tune_lambda_l1_and_lambda_l2, val_score: 0.276153:  40%|####      | 8/20 [01:10<01:45,  8.81s/it]"
     ]
    },
    {
     "name": "stdout",
     "output_type": "stream",
     "text": [
      "Training until validation scores don't improve for 100 rounds\n",
      "[100]\ttr's binary_logloss: 0.246227\tvl's binary_logloss: 0.276606\n",
      "Early stopping, best iteration is:\n",
      "[98]\ttr's binary_logloss: 0.246714\tvl's binary_logloss: 0.276521\n"
     ]
    },
    {
     "name": "stderr",
     "output_type": "stream",
     "text": [
      "tune_lambda_l1_and_lambda_l2, val_score: 0.276153:  45%|####5     | 9/20 [01:20<01:39,  9.09s/it]"
     ]
    },
    {
     "name": "stdout",
     "output_type": "stream",
     "text": [
      "Training until validation scores don't improve for 100 rounds\n",
      "[100]\ttr's binary_logloss: 0.246371\tvl's binary_logloss: 0.276772\n",
      "Early stopping, best iteration is:\n",
      "[89]\ttr's binary_logloss: 0.248612\tvl's binary_logloss: 0.276636\n"
     ]
    },
    {
     "name": "stderr",
     "output_type": "stream",
     "text": [
      "tune_lambda_l1_and_lambda_l2, val_score: 0.276153:  50%|#####     | 10/20 [01:29<01:30,  9.07s/it]"
     ]
    },
    {
     "name": "stdout",
     "output_type": "stream",
     "text": [
      "Training until validation scores don't improve for 100 rounds\n",
      "[100]\ttr's binary_logloss: 0.246177\tvl's binary_logloss: 0.276283\n",
      "Early stopping, best iteration is:\n",
      "[91]\ttr's binary_logloss: 0.248079\tvl's binary_logloss: 0.276153\n"
     ]
    },
    {
     "name": "stderr",
     "output_type": "stream",
     "text": [
      "tune_lambda_l1_and_lambda_l2, val_score: 0.276153:  55%|#####5    | 11/20 [01:38<01:21,  9.09s/it]"
     ]
    },
    {
     "name": "stdout",
     "output_type": "stream",
     "text": [
      "Training until validation scores don't improve for 100 rounds\n",
      "[100]\ttr's binary_logloss: 0.246177\tvl's binary_logloss: 0.276283\n",
      "Early stopping, best iteration is:\n",
      "[91]\ttr's binary_logloss: 0.248079\tvl's binary_logloss: 0.276153\n"
     ]
    },
    {
     "name": "stderr",
     "output_type": "stream",
     "text": [
      "tune_lambda_l1_and_lambda_l2, val_score: 0.276153:  60%|######    | 12/20 [01:54<01:27, 10.97s/it]"
     ]
    },
    {
     "name": "stdout",
     "output_type": "stream",
     "text": [
      "Training until validation scores don't improve for 100 rounds\n",
      "[100]\ttr's binary_logloss: 0.246255\tvl's binary_logloss: 0.276557\n",
      "Early stopping, best iteration is:\n",
      "[67]\ttr's binary_logloss: 0.253608\tvl's binary_logloss: 0.276408\n"
     ]
    },
    {
     "name": "stderr",
     "output_type": "stream",
     "text": [
      "tune_lambda_l1_and_lambda_l2, val_score: 0.276153:  65%|######5   | 13/20 [02:09<01:25, 12.19s/it]"
     ]
    },
    {
     "name": "stdout",
     "output_type": "stream",
     "text": [
      "Training until validation scores don't improve for 100 rounds\n",
      "[100]\ttr's binary_logloss: 0.247659\tvl's binary_logloss: 0.276688\n",
      "Early stopping, best iteration is:\n",
      "[91]\ttr's binary_logloss: 0.249482\tvl's binary_logloss: 0.276565\n"
     ]
    },
    {
     "name": "stderr",
     "output_type": "stream",
     "text": [
      "tune_lambda_l1_and_lambda_l2, val_score: 0.276153:  70%|#######   | 14/20 [02:24<01:18, 13.08s/it]"
     ]
    },
    {
     "name": "stdout",
     "output_type": "stream",
     "text": [
      "Training until validation scores don't improve for 100 rounds\n",
      "[100]\ttr's binary_logloss: 0.252007\tvl's binary_logloss: 0.276237\n",
      "Early stopping, best iteration is:\n",
      "[91]\ttr's binary_logloss: 0.253674\tvl's binary_logloss: 0.276162\n"
     ]
    },
    {
     "name": "stderr",
     "output_type": "stream",
     "text": [
      "tune_lambda_l1_and_lambda_l2, val_score: 0.276153:  75%|#######5  | 15/20 [02:43<01:14, 14.94s/it]"
     ]
    },
    {
     "name": "stdout",
     "output_type": "stream",
     "text": [
      "Training until validation scores don't improve for 100 rounds\n",
      "[100]\ttr's binary_logloss: 0.246192\tvl's binary_logloss: 0.276368\n",
      "Early stopping, best iteration is:\n",
      "[91]\ttr's binary_logloss: 0.24808\tvl's binary_logloss: 0.276238\n"
     ]
    },
    {
     "name": "stderr",
     "output_type": "stream",
     "text": [
      "tune_lambda_l1_and_lambda_l2, val_score: 0.276153:  80%|########  | 16/20 [03:01<01:03, 15.92s/it]"
     ]
    },
    {
     "name": "stdout",
     "output_type": "stream",
     "text": [
      "Training until validation scores don't improve for 100 rounds\n",
      "[100]\ttr's binary_logloss: 0.246527\tvl's binary_logloss: 0.2766\n",
      "Early stopping, best iteration is:\n",
      "[91]\ttr's binary_logloss: 0.24834\tvl's binary_logloss: 0.276524\n"
     ]
    },
    {
     "name": "stderr",
     "output_type": "stream",
     "text": [
      "tune_lambda_l1_and_lambda_l2, val_score: 0.276153:  85%|########5 | 17/20 [03:25<00:54, 18.25s/it]"
     ]
    },
    {
     "name": "stdout",
     "output_type": "stream",
     "text": [
      "Training until validation scores don't improve for 100 rounds\n",
      "[100]\ttr's binary_logloss: 0.246177\tvl's binary_logloss: 0.276283\n",
      "Early stopping, best iteration is:\n",
      "[91]\ttr's binary_logloss: 0.248079\tvl's binary_logloss: 0.276153\n"
     ]
    },
    {
     "name": "stderr",
     "output_type": "stream",
     "text": [
      "tune_lambda_l1_and_lambda_l2, val_score: 0.276153:  90%|######### | 18/20 [03:42<00:35, 17.93s/it]"
     ]
    },
    {
     "name": "stdout",
     "output_type": "stream",
     "text": [
      "Training until validation scores don't improve for 100 rounds\n",
      "[100]\ttr's binary_logloss: 0.246192\tvl's binary_logloss: 0.276368\n",
      "Early stopping, best iteration is:\n",
      "[91]\ttr's binary_logloss: 0.248081\tvl's binary_logloss: 0.276238\n"
     ]
    },
    {
     "name": "stderr",
     "output_type": "stream",
     "text": [
      "tune_lambda_l1_and_lambda_l2, val_score: 0.276153:  95%|#########5| 19/20 [03:58<00:17, 17.16s/it]"
     ]
    },
    {
     "name": "stdout",
     "output_type": "stream",
     "text": [
      "Training until validation scores don't improve for 100 rounds\n",
      "[100]\ttr's binary_logloss: 0.246332\tvl's binary_logloss: 0.276567\n",
      "Early stopping, best iteration is:\n",
      "[91]\ttr's binary_logloss: 0.248143\tvl's binary_logloss: 0.276375\n"
     ]
    },
    {
     "name": "stderr",
     "output_type": "stream",
     "text": [
      "tune_lambda_l1_and_lambda_l2, val_score: 0.276153: 100%|##########| 20/20 [04:13<00:00, 12.66s/it]\n",
      "tune_min_child_samples, val_score: 0.276153:   0%|          | 0/5 [00:00<?, ?it/s]"
     ]
    },
    {
     "name": "stdout",
     "output_type": "stream",
     "text": [
      "Training until validation scores don't improve for 100 rounds\n",
      "[100]\ttr's binary_logloss: 0.244761\tvl's binary_logloss: 0.277175\n",
      "Early stopping, best iteration is:\n",
      "[91]\ttr's binary_logloss: 0.246728\tvl's binary_logloss: 0.276973\n"
     ]
    },
    {
     "name": "stderr",
     "output_type": "stream",
     "text": [
      "tune_min_child_samples, val_score: 0.276153:  20%|##        | 1/5 [00:16<01:05, 16.27s/it]"
     ]
    },
    {
     "name": "stdout",
     "output_type": "stream",
     "text": [
      "Training until validation scores don't improve for 100 rounds\n",
      "[100]\ttr's binary_logloss: 0.245497\tvl's binary_logloss: 0.276558\n",
      "Early stopping, best iteration is:\n",
      "[94]\ttr's binary_logloss: 0.246923\tvl's binary_logloss: 0.276424\n"
     ]
    },
    {
     "name": "stderr",
     "output_type": "stream",
     "text": [
      "tune_min_child_samples, val_score: 0.276153:  40%|####      | 2/5 [00:33<00:49, 16.46s/it]"
     ]
    },
    {
     "name": "stdout",
     "output_type": "stream",
     "text": [
      "Training until validation scores don't improve for 100 rounds\n",
      "[100]\ttr's binary_logloss: 0.246301\tvl's binary_logloss: 0.276445\n",
      "Early stopping, best iteration is:\n",
      "[91]\ttr's binary_logloss: 0.248158\tvl's binary_logloss: 0.276357\n"
     ]
    },
    {
     "name": "stderr",
     "output_type": "stream",
     "text": [
      "tune_min_child_samples, val_score: 0.276153:  60%|######    | 3/5 [00:50<00:33, 16.57s/it]"
     ]
    },
    {
     "name": "stdout",
     "output_type": "stream",
     "text": [
      "Training until validation scores don't improve for 100 rounds\n",
      "[100]\ttr's binary_logloss: 0.247063\tvl's binary_logloss: 0.276398\n",
      "Early stopping, best iteration is:\n",
      "[94]\ttr's binary_logloss: 0.248391\tvl's binary_logloss: 0.276305\n"
     ]
    },
    {
     "name": "stderr",
     "output_type": "stream",
     "text": [
      "tune_min_child_samples, val_score: 0.276153:  80%|########  | 4/5 [01:10<00:17, 17.59s/it]"
     ]
    },
    {
     "name": "stdout",
     "output_type": "stream",
     "text": [
      "Training until validation scores don't improve for 100 rounds\n",
      "[100]\ttr's binary_logloss: 0.248033\tvl's binary_logloss: 0.276658\n",
      "Early stopping, best iteration is:\n",
      "[91]\ttr's binary_logloss: 0.249862\tvl's binary_logloss: 0.276574\n"
     ]
    },
    {
     "name": "stderr",
     "output_type": "stream",
     "text": [
      "tune_min_child_samples, val_score: 0.276153: 100%|##########| 5/5 [01:27<00:00, 17.44s/it]\n"
     ]
    },
    {
     "name": "stdout",
     "output_type": "stream",
     "text": [
      "CPU times: user 54min 16s, sys: 1h 19min 34s, total: 2h 13min 50s\n",
      "Wall time: 10min 47s\n"
     ]
    }
   ],
   "source": [
    "%%time\n",
    "dtr = lgb.Dataset(dftr[cols_feat], label=dftr[TCOL])\n",
    "dvl = lgb.Dataset(dfvl[cols_feat], label=dfvl[TCOL])\n",
    "best_params, tuning_history = {}, []\n",
    "evalres = {}\n",
    "evallist = [(dtr, 'train'), (dvl, 'eval')]\n",
    "bst = lgb.train(params=params, \n",
    "                train_set=dtr, \n",
    "                num_boost_round=50000,\n",
    "                valid_sets=[dtr, dvl],\n",
    "                valid_names=['tr','vl'],\n",
    "                best_params=best_params,\n",
    "                tuning_history=tuning_history,\n",
    "                verbose_eval=100,\n",
    "                early_stopping_rounds=100,\n",
    "                evals_result=evalres,\n",
    "               )\n",
    "results['bst'] = bst\n",
    "results['evalres'] = evalres\n",
    "results['best_params']=best_params\n",
    "results['tuning_history']=tuning_history"
   ]
  },
  {
   "cell_type": "markdown",
   "metadata": {},
   "source": [
    "## best_params"
   ]
  },
  {
   "cell_type": "code",
   "execution_count": 20,
   "metadata": {},
   "outputs": [
    {
     "data": {
      "text/plain": [
       "{'lambda_l1': 2.5747298690009863e-07,\n",
       " 'lambda_l2': 8.159689442422785e-05,\n",
       " 'num_leaves': 118,\n",
       " 'feature_fraction': 0.4,\n",
       " 'bagging_fraction': 1.0,\n",
       " 'bagging_freq': 0,\n",
       " 'min_child_samples': 20}"
      ]
     },
     "execution_count": 20,
     "metadata": {},
     "output_type": "execute_result"
    }
   ],
   "source": [
    "best_params"
   ]
  },
  {
   "cell_type": "markdown",
   "metadata": {},
   "source": [
    "## tr vl trajec"
   ]
  },
  {
   "cell_type": "code",
   "execution_count": 21,
   "metadata": {},
   "outputs": [
    {
     "data": {
      "image/png": "[encoded data removed]",
      "text/plain": [
       "<Figure size 432x288 with 1 Axes>"
      ]
     },
     "metadata": {
      "needs_background": "light"
     },
     "output_type": "display_data"
    }
   ],
   "source": [
    "plt.plot(evalres['tr']['binary_logloss'])\n",
    "plt.plot(evalres['vl']['binary_logloss'])\n",
    "plt.title(f\"logloss; best_iteration {bst.best_iteration}\")\n",
    "plt.show()"
   ]
  },
  {
   "cell_type": "markdown",
   "metadata": {},
   "source": [
    "## model features"
   ]
  },
  {
   "cell_type": "code",
   "execution_count": 22,
   "metadata": {},
   "outputs": [
    {
     "data": {
      "image/png": "[encoded data removed]",
      "text/plain": [
       "<Figure size 720x1080 with 1 Axes>"
      ]
     },
     "metadata": {
      "needs_background": "light"
     },
     "output_type": "display_data"
    }
   ],
   "source": [
    "ax = lgb.plot_importance(bst, height=0.8, max_num_features=50, figsize=(10,15))\n",
    "ax.grid(False, axis=\"y\")\n",
    "ax.set_title(f'Estimated feature importance')\n",
    "plt.show()"
   ]
  },
  {
   "cell_type": "code",
   "execution_count": 23,
   "metadata": {},
   "outputs": [
    {
     "data": {
      "text/html": [
       "<div>\n",
       "<style scoped>\n",
       "    .dataframe tbody tr th:only-of-type {\n",
       "        vertical-align: middle;\n",
       "    }\n",
       "\n",
       "    .dataframe tbody tr th {\n",
       "        vertical-align: top;\n",
       "    }\n",
       "\n",
       "    .dataframe thead th {\n",
       "        text-align: right;\n",
       "    }\n",
       "</style>\n",
       "<table border=\"1\" class=\"dataframe\">\n",
       "  <thead>\n",
       "    <tr style=\"text-align: right;\">\n",
       "      <th></th>\n",
       "      <th>0</th>\n",
       "      <th>1</th>\n",
       "    </tr>\n",
       "  </thead>\n",
       "  <tbody>\n",
       "    <tr>\n",
       "      <th>28</th>\n",
       "      <td>langhour</td>\n",
       "      <td>1485</td>\n",
       "    </tr>\n",
       "    <tr>\n",
       "      <th>3</th>\n",
       "      <td>u1_fllwing_cnt</td>\n",
       "      <td>697</td>\n",
       "    </tr>\n",
       "    <tr>\n",
       "      <th>5</th>\n",
       "      <td>u2_fllwer_cnt</td>\n",
       "      <td>669</td>\n",
       "    </tr>\n",
       "    <tr>\n",
       "      <th>26</th>\n",
       "      <td>u1_fllwer_cnt_by_age</td>\n",
       "      <td>668</td>\n",
       "    </tr>\n",
       "    <tr>\n",
       "      <th>2</th>\n",
       "      <td>u1_fllwer_cnt</td>\n",
       "      <td>661</td>\n",
       "    </tr>\n",
       "    <tr>\n",
       "      <th>27</th>\n",
       "      <td>u1_fllwng_cnt_by_age</td>\n",
       "      <td>564</td>\n",
       "    </tr>\n",
       "    <tr>\n",
       "      <th>25</th>\n",
       "      <td>u2_age</td>\n",
       "      <td>516</td>\n",
       "    </tr>\n",
       "    <tr>\n",
       "      <th>20</th>\n",
       "      <td>tmdlta_u2u1</td>\n",
       "      <td>514</td>\n",
       "    </tr>\n",
       "    <tr>\n",
       "      <th>6</th>\n",
       "      <td>u2_fllwng_cnt</td>\n",
       "      <td>511</td>\n",
       "    </tr>\n",
       "    <tr>\n",
       "      <th>23</th>\n",
       "      <td>twt_age</td>\n",
       "      <td>509</td>\n",
       "    </tr>\n",
       "    <tr>\n",
       "      <th>22</th>\n",
       "      <td>tmdlta_twtu2</td>\n",
       "      <td>484</td>\n",
       "    </tr>\n",
       "    <tr>\n",
       "      <th>11</th>\n",
       "      <td>len_toks</td>\n",
       "      <td>480</td>\n",
       "    </tr>\n",
       "    <tr>\n",
       "      <th>24</th>\n",
       "      <td>u1_age</td>\n",
       "      <td>416</td>\n",
       "    </tr>\n",
       "    <tr>\n",
       "      <th>30</th>\n",
       "      <td>frq_u1id</td>\n",
       "      <td>405</td>\n",
       "    </tr>\n",
       "    <tr>\n",
       "      <th>21</th>\n",
       "      <td>tmdlta_twtu1</td>\n",
       "      <td>369</td>\n",
       "    </tr>\n",
       "    <tr>\n",
       "      <th>1</th>\n",
       "      <td>lang</td>\n",
       "      <td>282</td>\n",
       "    </tr>\n",
       "    <tr>\n",
       "      <th>19</th>\n",
       "      <td>hour</td>\n",
       "      <td>212</td>\n",
       "    </tr>\n",
       "    <tr>\n",
       "      <th>29</th>\n",
       "      <td>frq_twtid</td>\n",
       "      <td>161</td>\n",
       "    </tr>\n",
       "    <tr>\n",
       "      <th>0</th>\n",
       "      <td>twttyp</td>\n",
       "      <td>146</td>\n",
       "    </tr>\n",
       "    <tr>\n",
       "      <th>31</th>\n",
       "      <td>frq_u2id</td>\n",
       "      <td>127</td>\n",
       "    </tr>\n",
       "    <tr>\n",
       "      <th>18</th>\n",
       "      <td>dayofweek</td>\n",
       "      <td>126</td>\n",
       "    </tr>\n",
       "    <tr>\n",
       "      <th>12</th>\n",
       "      <td>n_media_Photo</td>\n",
       "      <td>108</td>\n",
       "    </tr>\n",
       "    <tr>\n",
       "      <th>15</th>\n",
       "      <td>n_hshtgs</td>\n",
       "      <td>102</td>\n",
       "    </tr>\n",
       "    <tr>\n",
       "      <th>16</th>\n",
       "      <td>n_media</td>\n",
       "      <td>89</td>\n",
       "    </tr>\n",
       "    <tr>\n",
       "      <th>17</th>\n",
       "      <td>n_domns</td>\n",
       "      <td>82</td>\n",
       "    </tr>\n",
       "    <tr>\n",
       "      <th>13</th>\n",
       "      <td>n_media_Video</td>\n",
       "      <td>76</td>\n",
       "    </tr>\n",
       "    <tr>\n",
       "      <th>8</th>\n",
       "      <td>u1_fllw_u2</td>\n",
       "      <td>48</td>\n",
       "    </tr>\n",
       "    <tr>\n",
       "      <th>10</th>\n",
       "      <td>u2inu1</td>\n",
       "      <td>40</td>\n",
       "    </tr>\n",
       "    <tr>\n",
       "      <th>4</th>\n",
       "      <td>u1_vrfed</td>\n",
       "      <td>38</td>\n",
       "    </tr>\n",
       "    <tr>\n",
       "      <th>9</th>\n",
       "      <td>u1inu2</td>\n",
       "      <td>25</td>\n",
       "    </tr>\n",
       "    <tr>\n",
       "      <th>32</th>\n",
       "      <td>frq_u1u2</td>\n",
       "      <td>21</td>\n",
       "    </tr>\n",
       "    <tr>\n",
       "      <th>14</th>\n",
       "      <td>n_media_GIF</td>\n",
       "      <td>14</td>\n",
       "    </tr>\n",
       "    <tr>\n",
       "      <th>7</th>\n",
       "      <td>u2_vrfed</td>\n",
       "      <td>2</td>\n",
       "    </tr>\n",
       "  </tbody>\n",
       "</table>\n",
       "</div>"
      ],
      "text/plain": [
       "                       0     1\n",
       "28              langhour  1485\n",
       "3         u1_fllwing_cnt   697\n",
       "5          u2_fllwer_cnt   669\n",
       "26  u1_fllwer_cnt_by_age   668\n",
       "2          u1_fllwer_cnt   661\n",
       "27  u1_fllwng_cnt_by_age   564\n",
       "25                u2_age   516\n",
       "20           tmdlta_u2u1   514\n",
       "6          u2_fllwng_cnt   511\n",
       "23               twt_age   509\n",
       "22          tmdlta_twtu2   484\n",
       "11              len_toks   480\n",
       "24                u1_age   416\n",
       "30              frq_u1id   405\n",
       "21          tmdlta_twtu1   369\n",
       "1                   lang   282\n",
       "19                  hour   212\n",
       "29             frq_twtid   161\n",
       "0                 twttyp   146\n",
       "31              frq_u2id   127\n",
       "18             dayofweek   126\n",
       "12         n_media_Photo   108\n",
       "15              n_hshtgs   102\n",
       "16               n_media    89\n",
       "17               n_domns    82\n",
       "13         n_media_Video    76\n",
       "8             u1_fllw_u2    48\n",
       "10                u2inu1    40\n",
       "4               u1_vrfed    38\n",
       "9                 u1inu2    25\n",
       "32              frq_u1u2    21\n",
       "14           n_media_GIF    14\n",
       "7               u2_vrfed     2"
      ]
     },
     "execution_count": 23,
     "metadata": {},
     "output_type": "execute_result"
    }
   ],
   "source": [
    "pd.DataFrame([bst.feature_name(), bst.feature_importance()]).T.sort_values(1, ascending=False)"
   ]
  },
  {
   "cell_type": "code",
   "execution_count": 24,
   "metadata": {},
   "outputs": [
    {
     "data": {
      "text/plain": [
       "[('langhour', 1485),\n",
       " ('u1_fllwing_cnt', 697),\n",
       " ('u2_fllwer_cnt', 669),\n",
       " ('u1_fllwer_cnt_by_age', 668),\n",
       " ('u1_fllwer_cnt', 661),\n",
       " ('u1_fllwng_cnt_by_age', 564),\n",
       " ('u2_age', 516),\n",
       " ('tmdlta_u2u1', 514),\n",
       " ('u2_fllwng_cnt', 511),\n",
       " ('twt_age', 509),\n",
       " ('tmdlta_twtu2', 484),\n",
       " ('len_toks', 480),\n",
       " ('u1_age', 416),\n",
       " ('frq_u1id', 405),\n",
       " ('tmdlta_twtu1', 369),\n",
       " ('lang', 282),\n",
       " ('hour', 212),\n",
       " ('frq_twtid', 161),\n",
       " ('twttyp', 146),\n",
       " ('frq_u2id', 127),\n",
       " ('dayofweek', 126),\n",
       " ('n_media_Photo', 108),\n",
       " ('n_hshtgs', 102),\n",
       " ('n_media', 89),\n",
       " ('n_domns', 82),\n",
       " ('n_media_Video', 76),\n",
       " ('u1_fllw_u2', 48),\n",
       " ('u2inu1', 40),\n",
       " ('u1_vrfed', 38),\n",
       " ('u1inu2', 25),\n",
       " ('frq_u1u2', 21),\n",
       " ('n_media_GIF', 14),\n",
       " ('u2_vrfed', 2)]"
      ]
     },
     "execution_count": 24,
     "metadata": {},
     "output_type": "execute_result"
    }
   ],
   "source": [
    "col2imp = dict(zip(bst.feature_name(), bst.feature_importance()))\n",
    "sorted(col2imp.items(), key=lambda x: -x[1])"
   ]
  },
  {
   "cell_type": "code",
   "execution_count": 25,
   "metadata": {},
   "outputs": [
    {
     "data": {
      "text/plain": [
       "['langhour',\n",
       " 'u1_fllwing_cnt',\n",
       " 'u2_fllwer_cnt',\n",
       " 'u1_fllwer_cnt_by_age',\n",
       " 'u1_fllwer_cnt',\n",
       " 'u1_fllwng_cnt_by_age',\n",
       " 'u2_age',\n",
       " 'tmdlta_u2u1',\n",
       " 'u2_fllwng_cnt',\n",
       " 'twt_age',\n",
       " 'tmdlta_twtu2',\n",
       " 'len_toks',\n",
       " 'u1_age',\n",
       " 'frq_u1id',\n",
       " 'tmdlta_twtu1',\n",
       " 'lang',\n",
       " 'hour',\n",
       " 'frq_twtid',\n",
       " 'twttyp',\n",
       " 'frq_u2id',\n",
       " 'dayofweek',\n",
       " 'n_media_Photo',\n",
       " 'n_hshtgs',\n",
       " 'n_media',\n",
       " 'n_domns',\n",
       " 'n_media_Video',\n",
       " 'u1_fllw_u2',\n",
       " 'u2inu1',\n",
       " 'u1_vrfed',\n",
       " 'u1inu2',\n",
       " 'frq_u1u2',\n",
       " 'n_media_GIF',\n",
       " 'u2_vrfed']"
      ]
     },
     "execution_count": 25,
     "metadata": {},
     "output_type": "execute_result"
    }
   ],
   "source": [
    "[o[0] for o in sorted(col2imp.items(), key=lambda x: -x[1]) if o[1]>0]"
   ]
  },
  {
   "cell_type": "code",
   "execution_count": null,
   "metadata": {},
   "outputs": [],
   "source": []
  },
  {
   "cell_type": "markdown",
   "metadata": {},
   "source": [
    "# eval"
   ]
  },
  {
   "cell_type": "code",
   "execution_count": 26,
   "metadata": {},
   "outputs": [
    {
     "name": "stdout",
     "output_type": "stream",
     "text": [
      "CPU times: user 31.2 s, sys: 2.3 s, total: 33.5 s\n",
      "Wall time: 8.15 s\n"
     ]
    }
   ],
   "source": [
    "%%time\n",
    "prdtr = bst.predict(dftr[cols_feat],num_iteration=bst.best_iteration)\n",
    "prdvl = bst.predict(dfvl[cols_feat],num_iteration=bst.best_iteration)\n",
    "prdval0 = bst.predict(dfval[cols_feat],num_iteration=bst.best_iteration)\n",
    "prdval = calibration(prdval0, train_pop, target_pop, sampled_train_pop, sampled_target_pop)"
   ]
  },
  {
   "cell_type": "code",
   "execution_count": 27,
   "metadata": {},
   "outputs": [
    {
     "name": "stdout",
     "output_type": "stream",
     "text": [
      "CPU times: user 5.58 s, sys: 111 ms, total: 5.69 s\n",
      "Wall time: 5.59 s\n"
     ]
    }
   ],
   "source": [
    "%%time\n",
    "ytr,yvl,yval=[df[TCOL].values for df in (dftr,dfvl,dfval)]\n",
    "\n",
    "auc_tr=compute_prauc(prdtr, ytr)\n",
    "rce_tr=compute_rce(prdtr, ytr)\n",
    "auc_vl=compute_prauc(prdvl, yvl)\n",
    "rce_vl=compute_rce(prdvl, yvl)\n",
    "auc_val=compute_prauc(prdval, yval)\n",
    "rce_val=compute_rce(prdval, yval)\n",
    "\n",
    "results['scrs'] = {}\n",
    "results['scrs']['auc_tr']=auc_tr\n",
    "results['scrs']['rce_tr']=rce_tr\n",
    "results['scrs']['auc_vl']=auc_vl\n",
    "results['scrs']['rce_vl']=rce_vl\n",
    "results['scrs']['auc_val']=auc_val\n",
    "results['scrs']['rce_val']=rce_val"
   ]
  },
  {
   "cell_type": "code",
   "execution_count": 28,
   "metadata": {},
   "outputs": [
    {
     "name": "stdout",
     "output_type": "stream",
     "text": [
      "auc_tr:  0.3695\n",
      "auc_vl:  0.2160\n",
      "auc_val: 0.0195\n",
      "\n",
      "rce_tr:  17.4313\n",
      "rce_vl:  8.5835\n",
      "rce_val: 4.2214\n"
     ]
    }
   ],
   "source": [
    "print(f'auc_tr:  {auc_tr:.4f}')\n",
    "print(f'auc_vl:  {auc_vl:.4f}')\n",
    "print(f'auc_val: {auc_val:.4f}')\n",
    "print()\n",
    "print(f'rce_tr:  {rce_tr:.4f}')\n",
    "print(f'rce_vl:  {rce_vl:.4f}')\n",
    "print(f'rce_val: {rce_val:.4f}')"
   ]
  },
  {
   "cell_type": "markdown",
   "metadata": {},
   "source": [
    "## score"
   ]
  },
  {
   "cell_type": "code",
   "execution_count": 29,
   "metadata": {},
   "outputs": [
    {
     "name": "stdout",
     "output_type": "stream",
     "text": [
      "-0.0195-4.2214\n"
     ]
    }
   ],
   "source": [
    "print(f'-{auc_val:.4f}-{rce_val:.4f}')"
   ]
  },
  {
   "cell_type": "markdown",
   "metadata": {},
   "source": [
    "# save results"
   ]
  },
  {
   "cell_type": "code",
   "execution_count": 30,
   "metadata": {},
   "outputs": [],
   "source": [
    "pickle.dump(results, open(f'{p_out}/results_{PRFX}.p', 'wb'))"
   ]
  },
  {
   "cell_type": "markdown",
   "metadata": {},
   "source": [
    "# infer"
   ]
  },
  {
   "cell_type": "code",
   "execution_count": 31,
   "metadata": {},
   "outputs": [],
   "source": [
    "results = pickle.load( open(f'{p_out}/results_{PRFX}.p', 'rb'))\n",
    "bst = results['bst']\n",
    "col2tgtenc = results['col2tgtenc']\n",
    "cols_feat = results['cols_feat']\n",
    "tgt_encoder = results['tgt_encoder']"
   ]
  },
  {
   "cell_type": "markdown",
   "metadata": {},
   "source": [
    "## prep"
   ]
  },
  {
   "cell_type": "code",
   "execution_count": 32,
   "metadata": {},
   "outputs": [
    {
     "name": "stdout",
     "output_type": "stream",
     "text": [
      "CPU times: user 10.2 ms, sys: 381 µs, total: 10.5 ms\n",
      "Wall time: 8.89 ms\n"
     ]
    }
   ],
   "source": [
    "%%time\n",
    "dftst=pd.read_csv(\n",
    "    f'{p_in}/val_{tsttmstmp}.tsv',\n",
    "    sep='\\x01', header=None, names=cols_val, \n",
    "    nrows=10\n",
    ")"
   ]
  },
  {
   "cell_type": "code",
   "execution_count": 33,
   "metadata": {
    "scrolled": true
   },
   "outputs": [
    {
     "name": "stdout",
     "output_type": "stream",
     "text": [
      "2020-04-11 20:11:59 start\n",
      "2020-04-11 20:11:59 freq of columns using CountEncoder\n"
     ]
    },
    {
     "name": "stderr",
     "output_type": "stream",
     "text": [
      "/data/anaconda3/envs/rcss20/lib/python3.7/site-packages/category_encoders/count.py:255: FutureWarning: The pandas.np module is deprecated and will be removed from pandas in a future version. Import numpy directly instead\n",
      "  X.loc[:, self.cols] = X.fillna(value=pd.np.nan)\n"
     ]
    },
    {
     "name": "stdout",
     "output_type": "stream",
     "text": [
      "2020-04-11 20:11:59 freq of tags\n",
      "2020-04-11 20:11:59 done\n",
      "CPU times: user 193 ms, sys: 8.04 ms, total: 201 ms\n",
      "Wall time: 201 ms\n"
     ]
    }
   ],
   "source": [
    "%%time\n",
    "dftst=prp_df(dftst, tm_max=tm_tst_max)"
   ]
  },
  {
   "cell_type": "code",
   "execution_count": 34,
   "metadata": {},
   "outputs": [],
   "source": [
    "encoded_tst = tgt_encoder.transform(dftst[col2tgtenc].astype(object))\n",
    "tgtenc_columns = [f'tgtenc_{col}' for col in encoded_tst.columns]\n",
    "encoded_tst.columns = tgtenc_columns\n",
    "dftst = pd.concat([dftst, encoded_tst], 1)\n",
    "dftst.drop(columns=['u1id','u1u2'], inplace=True)\n",
    "cols_category=['twttyp', 'lang', 'langhour']\n",
    "dftst[cols_category]=dftst[cols_category].astype('category')"
   ]
  },
  {
   "cell_type": "markdown",
   "metadata": {},
   "source": [
    "## predict"
   ]
  },
  {
   "cell_type": "code",
   "execution_count": 35,
   "metadata": {},
   "outputs": [
    {
     "name": "stdout",
     "output_type": "stream",
     "text": [
      "CPU times: user 42 ms, sys: 73.8 ms, total: 116 ms\n",
      "Wall time: 41 ms\n"
     ]
    }
   ],
   "source": [
    "%%time\n",
    "prdtst0 = bst.predict(dftst[cols_feat],num_iteration=bst.best_iteration)\n",
    "prdtst = calibration(prdtst0, train_pop, target_pop, sampled_train_pop, sampled_target_pop)"
   ]
  },
  {
   "cell_type": "code",
   "execution_count": 36,
   "metadata": {},
   "outputs": [],
   "source": [
    "dfsub_ids = dftst[['twtid','u2id',]]\n",
    "dfsub = dfsub_ids.copy()\n",
    "dfsub['scr'] = prdtst\n",
    "dfsub.to_csv(f'{p_out}/{TGT}__{PRFX}.csv',index=False,header=False)"
   ]
  },
  {
   "cell_type": "code",
   "execution_count": null,
   "metadata": {},
   "outputs": [],
   "source": []
  },
  {
   "cell_type": "code",
   "execution_count": null,
   "metadata": {},
   "outputs": [],
   "source": []
  },
  {
   "cell_type": "code",
   "execution_count": null,
   "metadata": {},
   "outputs": [],
   "source": []
  }
 ],
 "metadata": {
  "kernelspec": {
   "display_name": "rcss20",
   "language": "python",
   "name": "rcss20"
  },
  "language_info": {
   "codemirror_mode": {
    "name": "ipython",
    "version": 3
   },
   "file_extension": ".py",
   "mimetype": "text/x-python",
   "name": "python",
   "nbconvert_exporter": "python",
   "pygments_lexer": "ipython3",
   "version": "3.7.6"
  },
  "toc": {
   "base_numbering": 1,
   "nav_menu": {},
   "number_sections": true,
   "sideBar": true,
   "skip_h1_title": false,
   "title_cell": "Table of Contents",
   "title_sidebar": "Contents",
   "toc_cell": false,
   "toc_position": {},
   "toc_section_display": true,
   "toc_window_display": true
  }
 },
 "nbformat": 4,
 "nbformat_minor": 4
}
