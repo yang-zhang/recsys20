{
 "cells": [
  {
   "cell_type": "markdown",
   "metadata": {},
   "source": [
    "# start"
   ]
  },
  {
   "cell_type": "code",
   "execution_count": 1,
   "metadata": {},
   "outputs": [
    {
     "name": "stdout",
     "output_type": "stream",
     "text": [
      "train_total 148,075,238, test_total 14,000,000\n",
      "train_total 100,000,000, valsz 1,000,000\n",
      "['2020-03-17 02:32:24', '2020-05-21 15:43:26']\n",
      "['2020-02-06 00:00:00', '2020-02-12 23:59:59']\n",
      "['2020-02-13 00:00:00', '2020-02-19 23:59:59']\n"
     ]
    }
   ],
   "source": [
    "TGT='Retweet'\n",
    "PRFX='Retweet0528A4'\n",
    "\n",
    "trntmstmp=1584412344\n",
    "tsttmstmp=1590075806\n",
    "\n",
    "tm_trn_min,tm_trn_max=(1580947200, 1581551999)\n",
    "tm_tst_min,tm_tst_max=(1581552000, 1582156799)\n",
    "\n",
    "train_total=148075238\n",
    "test_total=int(1.4e7)\n",
    "print(f'train_total {train_total:,}, test_total {test_total:,}')\n",
    "\n",
    "SEED=101\n",
    "\n",
    "trnsz = int(1e8)\n",
    "valsz = int(1e6)\n",
    "print(f'train_total {trnsz:,}, valsz {valsz:,}')\n",
    "\n",
    "\n",
    "\n",
    "import datetime\n",
    "def showtm(tm): return datetime.datetime.fromtimestamp(tm).strftime('%Y-%m-%d %H:%M:%S')\n",
    "print([showtm(tm) for tm in (trntmstmp, tsttmstmp)])\n",
    "print([showtm(tm) for tm in (tm_trn_min,tm_trn_max)])\n",
    "print([showtm(tm) for tm in (tm_tst_min,tm_tst_max)])"
   ]
  },
  {
   "cell_type": "markdown",
   "metadata": {},
   "source": [
    "# setup"
   ]
  },
  {
   "cell_type": "code",
   "execution_count": 2,
   "metadata": {},
   "outputs": [
    {
     "name": "stdout",
     "output_type": "stream",
     "text": [
      "TCOL retwt\n",
      "{'Retweet': 'retwt', 'Reply': 'reply', 'Like': 'like', 'RTwCmnt': 'retwt_cmmnt'}\n"
     ]
    }
   ],
   "source": [
    "from tqdm import tqdm\n",
    "import time\n",
    "from pathlib import Path\n",
    "from collections import Counter,defaultdict\n",
    "from sklearn.model_selection import train_test_split\n",
    "import pandas as pd\n",
    "import numpy as np\n",
    "import matplotlib.pyplot as plt\n",
    "from sklearn.metrics import accuracy_score, roc_auc_score, roc_curve, auc, precision_recall_curve\n",
    "import pickle\n",
    "# import xgboost as xgb\n",
    "import lightgbm as lgb\n",
    "import category_encoders as ce\n",
    "import gc\n",
    "\n",
    "# import optuna\n",
    "# optuna.logging.CRITICAL, optuna.logging.FATAL\n",
    "# optuna.logging.ERROR\n",
    "# optuna.logging.WARNING, optuna.logging.WARN\n",
    "# optuna.logging.INFO\n",
    "# optuna.logging.DEBUG\n",
    "# optuna.logging.set_verbosity(optuna.logging.ERROR)\n",
    "# import optuna.integration.lightgbm as lgb\n",
    "# optuna.logging.disable_default_handler()\n",
    "\n",
    "\n",
    "pd.set_option('display.max_rows', 500)\n",
    "pd.set_option('display.max_columns', 500)\n",
    "\n",
    "\n",
    "import datetime\n",
    "def dtnow(): return datetime.datetime.now().strftime('%Y-%m-%d %H:%M:%S')\n",
    "\n",
    "def iou(s1,s2):\n",
    "    return len(s1&s2) / len(s1|s2)\n",
    "\n",
    "HOME='/data/git/recsys20'\n",
    "p_in=f'{HOME}/input'\n",
    "p_out=f'{HOME}/output/{PRFX}'\n",
    "Path(p_out).mkdir(exist_ok=True, parents=True)\n",
    "\n",
    "from sklearn.metrics import precision_recall_curve, auc, log_loss\n",
    "\n",
    "def compute_prauc(pred, gt):\n",
    "    prec, recall, thresh = precision_recall_curve(gt, pred)\n",
    "    prauc = auc(recall, prec)\n",
    "    return prauc\n",
    "\n",
    "def calculate_ctr(gt):\n",
    "    positive = len([x for x in gt if x == 1])\n",
    "    ctr = positive/float(len(gt))\n",
    "    return ctr\n",
    "\n",
    "def compute_rce(pred, gt):\n",
    "    cross_entropy = log_loss(gt, pred)\n",
    "    data_ctr = calculate_ctr(gt)\n",
    "    strawman_cross_entropy = log_loss(gt, [data_ctr for _ in range(len(gt))])\n",
    "    return (1.0 - cross_entropy/strawman_cross_entropy)*100.0\n",
    "\n",
    "# https://towardsdatascience.com/how-to-calibrate-undersampled-model-scores-8f3319c1ea5b\n",
    "# How to use the function?\n",
    "# Let’s say your goal is to generate a model that shows the credit default probabilities and your original \n",
    "# training data has 50,000 rows with only 500 of them labeled as target class. When you sample your non-target \n",
    "# instances randomly and reduce the total row count to 10,000, while conserving 500 target rows, our calibration\n",
    "# function becomes:\n",
    "# calibration(model_results, 50000, 500, 10000, 500)\n",
    "# Here model_results is your model probability output array. After you train your model and put the results in it, your function is ready to use. \n",
    "def calibration(data, train_pop, target_pop, sampled_train_pop, sampled_target_pop):\n",
    "    calibrated_data = ((data * (target_pop / train_pop) / (sampled_target_pop / sampled_train_pop)) /\n",
    "    (((1 - data) * (1 - target_pop / train_pop) / (1 - sampled_target_pop / sampled_train_pop)) +\n",
    "     (data * (target_pop / train_pop) / (sampled_target_pop / sampled_train_pop))))\n",
    "    return calibrated_data\n",
    "\n",
    "\n",
    "cols=['toks','hshtgs','twtid','media','links','domns','twttyp','lang','tm','u1id','u1_fllwer_cnt','u1_fllwing_cnt','u1_vrfed','u1_create_tm','u2id','u2_fllwer_cnt','u2_fllwng_cnt','u2_vrfed','u2_create_tm','u1_fllw_u2','reply_tm','retwt_tm','retwt_cmmnt_tm','like_tm',]\n",
    "\n",
    "cols_val = cols[:-4]\n",
    "cols_tgt_tmstmp=[ 'retwt_tm', 'reply_tm', 'like_tm', 'retwt_cmmnt_tm',]\n",
    "cols_tgt=[o.split('_tm')[0] for o in cols_tgt_tmstmp]\n",
    "tgts             = ['Retweet','Reply','Like','RTwCmnt',]\n",
    "assert cols_tgt == ['retwt',  'reply','like','retwt_cmmnt',]\n",
    "tgt2col = dict(zip(tgts, cols_tgt))\n",
    "TCOL=tgt2col[TGT]\n",
    "print('TCOL', TCOL)\n",
    "print(tgt2col)"
   ]
  },
  {
   "cell_type": "markdown",
   "metadata": {},
   "source": [
    "# prep"
   ]
  },
  {
   "cell_type": "code",
   "execution_count": 3,
   "metadata": {},
   "outputs": [],
   "source": [
    "def prp_tgt(df):\n",
    "    df[cols_tgt]=df[cols_tgt_tmstmp].notna()\n",
    "    df.drop(columns=cols_tgt_tmstmp, inplace=True)\n",
    "    display(df[cols_tgt].mean())"
   ]
  },
  {
   "cell_type": "code",
   "execution_count": 4,
   "metadata": {
    "scrolled": false
   },
   "outputs": [
    {
     "name": "stdout",
     "output_type": "stream",
     "text": [
      "(1000000, 24)\n"
     ]
    },
    {
     "data": {
      "text/plain": [
       "retwt          0.113135\n",
       "reply          0.027688\n",
       "like           0.438804\n",
       "retwt_cmmnt    0.007750\n",
       "dtype: float64"
      ]
     },
     "metadata": {},
     "output_type": "display_data"
    },
    {
     "name": "stdout",
     "output_type": "stream",
     "text": [
      "CPU times: user 7.01 s, sys: 1.22 s, total: 8.24 s\n",
      "Wall time: 8.23 s\n"
     ]
    }
   ],
   "source": [
    "%%time\n",
    "dfval = pd.read_csv(f'{p_in}/trn_{trntmstmp}.tsv',sep='\\x01',header=None,names=cols,nrows=valsz)\n",
    "print(dfval.shape)\n",
    "prp_tgt(dfval)"
   ]
  },
  {
   "cell_type": "markdown",
   "metadata": {},
   "source": [
    "## maybe oversample"
   ]
  },
  {
   "cell_type": "code",
   "execution_count": 5,
   "metadata": {},
   "outputs": [],
   "source": [
    "# df = pd.read_csv(f'{p_in}/trn_{trntmstmp}.tsv',sep='\\x01',header=None,names=cols,nrows=5)\n",
    "# dfval = pd.read_csv(f'{p_in}/trn_{trntmstmp}.tsv',sep='\\x01',header=None,names=cols,nrows=2)\n",
    "# dftrn = pd.read_csv(f'{p_in}/trn_{trntmstmp}.tsv',sep='\\x01',header=None,names=cols,skiprows=2,nrows=3)\n",
    "# display(df.twtid)\n",
    "# display(dfval.twtid)\n",
    "# display(dftrn.twtid)\n",
    "\n",
    "# 0    D4D1EBDE74F74C5DA529959AF979625C\n",
    "# 1    BFB529DAB6D384EB83E899A72AB3830D\n",
    "# 2    519078C7834E9642508F72A6C2D0F3B7\n",
    "# 3    52AAE9E33EFAC8C478C57B31A9E31ED1\n",
    "# 4    89C1298C55EB3D68E2784F0BFB69E6F8\n",
    "# Name: twtid, dtype: object\n",
    "# 0    D4D1EBDE74F74C5DA529959AF979625C\n",
    "# 1    BFB529DAB6D384EB83E899A72AB3830D\n",
    "# Name: twtid, dtype: object\n",
    "# 0    519078C7834E9642508F72A6C2D0F3B7\n",
    "# 1    52AAE9E33EFAC8C478C57B31A9E31ED1\n",
    "# 2    89C1298C55EB3D68E2784F0BFB69E6F8\n",
    "# Name: twtid, dtype: object"
   ]
  },
  {
   "cell_type": "code",
   "execution_count": 6,
   "metadata": {
    "scrolled": true
   },
   "outputs": [
    {
     "name": "stdout",
     "output_type": "stream",
     "text": [
      "(100000000, 24)\n"
     ]
    },
    {
     "data": {
      "text/plain": [
       "retwt          0.113090\n",
       "reply          0.027447\n",
       "like           0.439211\n",
       "retwt_cmmnt    0.007793\n",
       "dtype: float64"
      ]
     },
     "metadata": {},
     "output_type": "display_data"
    },
    {
     "name": "stdout",
     "output_type": "stream",
     "text": [
      "CPU times: user 11min 34s, sys: 2min 42s, total: 14min 17s\n",
      "Wall time: 14min 18s\n"
     ]
    }
   ],
   "source": [
    "%%time\n",
    "if TGT in ('Retweet','Like'): trnpop=trnsz\n",
    "if TGT=='Reply': trnpop=trnsz*3.7\n",
    "if TGT=='RTwCmnt': trnpop=trnsz*11.5\n",
    "assert trnpop<train_total\n",
    "\n",
    "dftrn = pd.read_csv(f'{p_in}/trn_{trntmstmp}.tsv',sep='\\x01',header=None,names=cols,\n",
    "                     skiprows=valsz, nrows=trnpop)\n",
    "print(dftrn.shape)\n",
    "prp_tgt(dftrn)"
   ]
  },
  {
   "cell_type": "code",
   "execution_count": 7,
   "metadata": {
    "scrolled": true
   },
   "outputs": [
    {
     "name": "stdout",
     "output_type": "stream",
     "text": [
      "(100000000, 24) 0.11309036\n",
      "100000000 11309036 100000000 11309036\n"
     ]
    },
    {
     "data": {
      "text/html": [
       "<div>\n",
       "<style scoped>\n",
       "    .dataframe tbody tr th:only-of-type {\n",
       "        vertical-align: middle;\n",
       "    }\n",
       "\n",
       "    .dataframe tbody tr th {\n",
       "        vertical-align: top;\n",
       "    }\n",
       "\n",
       "    .dataframe thead th {\n",
       "        text-align: right;\n",
       "    }\n",
       "</style>\n",
       "<table border=\"1\" class=\"dataframe\">\n",
       "  <thead>\n",
       "    <tr style=\"text-align: right;\">\n",
       "      <th></th>\n",
       "      <th>toks</th>\n",
       "      <th>hshtgs</th>\n",
       "      <th>twtid</th>\n",
       "      <th>media</th>\n",
       "      <th>links</th>\n",
       "      <th>domns</th>\n",
       "      <th>twttyp</th>\n",
       "      <th>lang</th>\n",
       "      <th>tm</th>\n",
       "      <th>u1id</th>\n",
       "      <th>u1_fllwer_cnt</th>\n",
       "      <th>u1_fllwing_cnt</th>\n",
       "      <th>u1_vrfed</th>\n",
       "      <th>u1_create_tm</th>\n",
       "      <th>u2id</th>\n",
       "      <th>u2_fllwer_cnt</th>\n",
       "      <th>u2_fllwng_cnt</th>\n",
       "      <th>u2_vrfed</th>\n",
       "      <th>u2_create_tm</th>\n",
       "      <th>u1_fllw_u2</th>\n",
       "      <th>retwt</th>\n",
       "      <th>reply</th>\n",
       "      <th>like</th>\n",
       "      <th>retwt_cmmnt</th>\n",
       "    </tr>\n",
       "  </thead>\n",
       "  <tbody>\n",
       "    <tr>\n",
       "      <th>0</th>\n",
       "      <td>101\\t9706\\t36553\\t108578\\t119\\t119\\t119\\t108\\t...</td>\n",
       "      <td>11218D05D5E94DE4E577C3AF9338E65D\\t3A6FF9E6FA11...</td>\n",
       "      <td>E0B1129F0B31CAE6655127073C08979C</td>\n",
       "      <td>Photo</td>\n",
       "      <td>NaN</td>\n",
       "      <td>NaN</td>\n",
       "      <td>TopLevel</td>\n",
       "      <td>125C57F4FA6D4E110983FB11B52EFD4E</td>\n",
       "      <td>1581348967</td>\n",
       "      <td>30D18739CC163E7629104D16BE4E65DF</td>\n",
       "      <td>13537</td>\n",
       "      <td>114</td>\n",
       "      <td>False</td>\n",
       "      <td>1534442935</td>\n",
       "      <td>0DD2A83B6837B1FA23CEA85748175A46</td>\n",
       "      <td>95</td>\n",
       "      <td>354</td>\n",
       "      <td>False</td>\n",
       "      <td>1348229207</td>\n",
       "      <td>False</td>\n",
       "      <td>True</td>\n",
       "      <td>False</td>\n",
       "      <td>False</td>\n",
       "      <td>False</td>\n",
       "    </tr>\n",
       "    <tr>\n",
       "      <th>1</th>\n",
       "      <td>101\\t56898\\t137\\t12655\\t168\\t10514\\t10115\\t131...</td>\n",
       "      <td>NaN</td>\n",
       "      <td>99E58F0E8DADFB4BAF9EEA0E93694AAE</td>\n",
       "      <td>Photo\\tPhoto\\tPhoto\\tPhoto</td>\n",
       "      <td>NaN</td>\n",
       "      <td>NaN</td>\n",
       "      <td>Retweet</td>\n",
       "      <td>22C448FF81263D4BAF2A176145EE9EAD</td>\n",
       "      <td>1581391499</td>\n",
       "      <td>458AF1D57377287A0BAB2A56AA3EE4AC</td>\n",
       "      <td>136</td>\n",
       "      <td>688</td>\n",
       "      <td>False</td>\n",
       "      <td>1429565372</td>\n",
       "      <td>0DD2A9EE937B01347709DE173E6E1E47</td>\n",
       "      <td>74</td>\n",
       "      <td>181</td>\n",
       "      <td>False</td>\n",
       "      <td>1496325843</td>\n",
       "      <td>True</td>\n",
       "      <td>False</td>\n",
       "      <td>False</td>\n",
       "      <td>True</td>\n",
       "      <td>False</td>\n",
       "    </tr>\n",
       "    <tr>\n",
       "      <th>2</th>\n",
       "      <td>101\\t56898\\t137\\t24109\\t10506\\t168\\t21881\\t113...</td>\n",
       "      <td>NaN</td>\n",
       "      <td>9A3C7C7654F75C478EC3922E60AD0039</td>\n",
       "      <td>Photo</td>\n",
       "      <td>NaN</td>\n",
       "      <td>NaN</td>\n",
       "      <td>Retweet</td>\n",
       "      <td>ECED8A16BE2A5E8871FD55F4842F16B1</td>\n",
       "      <td>1581460690</td>\n",
       "      <td>356534AF79A703A631CA45EF95F702C9</td>\n",
       "      <td>466</td>\n",
       "      <td>805</td>\n",
       "      <td>False</td>\n",
       "      <td>1402911598</td>\n",
       "      <td>0DD2AA5E775014DC55292B2B7E80619E</td>\n",
       "      <td>215</td>\n",
       "      <td>436</td>\n",
       "      <td>False</td>\n",
       "      <td>1451672532</td>\n",
       "      <td>True</td>\n",
       "      <td>False</td>\n",
       "      <td>False</td>\n",
       "      <td>True</td>\n",
       "      <td>False</td>\n",
       "    </tr>\n",
       "    <tr>\n",
       "      <th>3</th>\n",
       "      <td>101\\t56898\\t137\\t53542\\t14985\\t11537\\t28754\\t1...</td>\n",
       "      <td>NaN</td>\n",
       "      <td>4F7E51D4C05BC27B8F29CCE39BA5CA95</td>\n",
       "      <td>Photo\\tPhoto</td>\n",
       "      <td>NaN</td>\n",
       "      <td>NaN</td>\n",
       "      <td>Retweet</td>\n",
       "      <td>D3164C7FBCF2565DDF915B1B3AEFB1DC</td>\n",
       "      <td>1581324557</td>\n",
       "      <td>221780A4B90649CB87AC0CBA7102A2AC</td>\n",
       "      <td>3491</td>\n",
       "      <td>2001</td>\n",
       "      <td>False</td>\n",
       "      <td>1231675403</td>\n",
       "      <td>0DD2AACDA7259687F9FD27A6CA3A0614</td>\n",
       "      <td>143</td>\n",
       "      <td>254</td>\n",
       "      <td>False</td>\n",
       "      <td>1375373900</td>\n",
       "      <td>True</td>\n",
       "      <td>False</td>\n",
       "      <td>False</td>\n",
       "      <td>True</td>\n",
       "      <td>False</td>\n",
       "    </tr>\n",
       "    <tr>\n",
       "      <th>4</th>\n",
       "      <td>101\\t199\\t143\\t27128\\t32002\\t106\\t137\\t17673\\t...</td>\n",
       "      <td>35D2EF13596CAC1B15863EF3CAB39A2E\\t85ADB30A7FFB...</td>\n",
       "      <td>9035B7BA255DE0118FA0F41D2BB897A2</td>\n",
       "      <td>Photo</td>\n",
       "      <td>B490D14EB0D08709727B4CEE188641AA</td>\n",
       "      <td>26D558AFEEDD2EDC37CB4A5E7042E1C4</td>\n",
       "      <td>TopLevel</td>\n",
       "      <td>06D61DCBBE938971E1EA0C38BD9B5446</td>\n",
       "      <td>1581162933</td>\n",
       "      <td>DBE3576D0E67C652379202D7202B874F</td>\n",
       "      <td>5210115</td>\n",
       "      <td>1583</td>\n",
       "      <td>True</td>\n",
       "      <td>1211799913</td>\n",
       "      <td>0DD2AAD677632C842DE89D7BB43AA453</td>\n",
       "      <td>226</td>\n",
       "      <td>330</td>\n",
       "      <td>False</td>\n",
       "      <td>1576352487</td>\n",
       "      <td>False</td>\n",
       "      <td>False</td>\n",
       "      <td>False</td>\n",
       "      <td>False</td>\n",
       "      <td>False</td>\n",
       "    </tr>\n",
       "  </tbody>\n",
       "</table>\n",
       "</div>"
      ],
      "text/plain": [
       "                                                toks  \\\n",
       "0  101\\t9706\\t36553\\t108578\\t119\\t119\\t119\\t108\\t...   \n",
       "1  101\\t56898\\t137\\t12655\\t168\\t10514\\t10115\\t131...   \n",
       "2  101\\t56898\\t137\\t24109\\t10506\\t168\\t21881\\t113...   \n",
       "3  101\\t56898\\t137\\t53542\\t14985\\t11537\\t28754\\t1...   \n",
       "4  101\\t199\\t143\\t27128\\t32002\\t106\\t137\\t17673\\t...   \n",
       "\n",
       "                                              hshtgs  \\\n",
       "0  11218D05D5E94DE4E577C3AF9338E65D\\t3A6FF9E6FA11...   \n",
       "1                                                NaN   \n",
       "2                                                NaN   \n",
       "3                                                NaN   \n",
       "4  35D2EF13596CAC1B15863EF3CAB39A2E\\t85ADB30A7FFB...   \n",
       "\n",
       "                              twtid                       media  \\\n",
       "0  E0B1129F0B31CAE6655127073C08979C                       Photo   \n",
       "1  99E58F0E8DADFB4BAF9EEA0E93694AAE  Photo\\tPhoto\\tPhoto\\tPhoto   \n",
       "2  9A3C7C7654F75C478EC3922E60AD0039                       Photo   \n",
       "3  4F7E51D4C05BC27B8F29CCE39BA5CA95                Photo\\tPhoto   \n",
       "4  9035B7BA255DE0118FA0F41D2BB897A2                       Photo   \n",
       "\n",
       "                              links                             domns  \\\n",
       "0                               NaN                               NaN   \n",
       "1                               NaN                               NaN   \n",
       "2                               NaN                               NaN   \n",
       "3                               NaN                               NaN   \n",
       "4  B490D14EB0D08709727B4CEE188641AA  26D558AFEEDD2EDC37CB4A5E7042E1C4   \n",
       "\n",
       "     twttyp                              lang          tm  \\\n",
       "0  TopLevel  125C57F4FA6D4E110983FB11B52EFD4E  1581348967   \n",
       "1   Retweet  22C448FF81263D4BAF2A176145EE9EAD  1581391499   \n",
       "2   Retweet  ECED8A16BE2A5E8871FD55F4842F16B1  1581460690   \n",
       "3   Retweet  D3164C7FBCF2565DDF915B1B3AEFB1DC  1581324557   \n",
       "4  TopLevel  06D61DCBBE938971E1EA0C38BD9B5446  1581162933   \n",
       "\n",
       "                               u1id  u1_fllwer_cnt  u1_fllwing_cnt  u1_vrfed  \\\n",
       "0  30D18739CC163E7629104D16BE4E65DF          13537             114     False   \n",
       "1  458AF1D57377287A0BAB2A56AA3EE4AC            136             688     False   \n",
       "2  356534AF79A703A631CA45EF95F702C9            466             805     False   \n",
       "3  221780A4B90649CB87AC0CBA7102A2AC           3491            2001     False   \n",
       "4  DBE3576D0E67C652379202D7202B874F        5210115            1583      True   \n",
       "\n",
       "   u1_create_tm                              u2id  u2_fllwer_cnt  \\\n",
       "0    1534442935  0DD2A83B6837B1FA23CEA85748175A46             95   \n",
       "1    1429565372  0DD2A9EE937B01347709DE173E6E1E47             74   \n",
       "2    1402911598  0DD2AA5E775014DC55292B2B7E80619E            215   \n",
       "3    1231675403  0DD2AACDA7259687F9FD27A6CA3A0614            143   \n",
       "4    1211799913  0DD2AAD677632C842DE89D7BB43AA453            226   \n",
       "\n",
       "   u2_fllwng_cnt  u2_vrfed  u2_create_tm  u1_fllw_u2  retwt  reply   like  \\\n",
       "0            354     False    1348229207       False   True  False  False   \n",
       "1            181     False    1496325843        True  False  False   True   \n",
       "2            436     False    1451672532        True  False  False   True   \n",
       "3            254     False    1375373900        True  False  False   True   \n",
       "4            330     False    1576352487       False  False  False  False   \n",
       "\n",
       "   retwt_cmmnt  \n",
       "0        False  \n",
       "1        False  \n",
       "2        False  \n",
       "3        False  \n",
       "4        False  "
      ]
     },
     "metadata": {},
     "output_type": "display_data"
    },
    {
     "data": {
      "text/plain": [
       "Index(['toks', 'hshtgs', 'twtid', 'media', 'links', 'domns', 'twttyp', 'lang',\n",
       "       'tm', 'u1id', 'u1_fllwer_cnt', 'u1_fllwing_cnt', 'u1_vrfed',\n",
       "       'u1_create_tm', 'u2id', 'u2_fllwer_cnt', 'u2_fllwng_cnt', 'u2_vrfed',\n",
       "       'u2_create_tm', 'u1_fllw_u2', 'retwt', 'reply', 'like', 'retwt_cmmnt'],\n",
       "      dtype='object')"
      ]
     },
     "metadata": {},
     "output_type": "display_data"
    }
   ],
   "source": [
    "train_pop=len(dftrn)\n",
    "sampled_train_pop=trnsz\n",
    "idx_pos = np.where(dftrn[TCOL])[0]\n",
    "target_pop=sampled_target_pop=len(idx_pos)\n",
    "if TGT in ('Reply','RTwCmnt'):\n",
    "    idx_neg0 = np.where(~dftrn[TCOL])[0]\n",
    "    idx_neg = np.random.choice(idx_neg0, trnsz-len(idx_pos), replace=False)\n",
    "    idx = np.concatenate([idx_pos,idx_neg])\n",
    "    dftrn = dftrn.iloc[idx].copy()\n",
    "print(dftrn.shape, dftrn[TCOL].mean())\n",
    "print(train_pop, target_pop, sampled_train_pop, sampled_target_pop)\n",
    "\n",
    "display(dftrn.head())\n",
    "display(dftrn.columns)"
   ]
  },
  {
   "cell_type": "markdown",
   "metadata": {},
   "source": [
    "## prep and features"
   ]
  },
  {
   "cell_type": "code",
   "execution_count": 8,
   "metadata": {},
   "outputs": [],
   "source": [
    "def prp_df(df, tm_max):\n",
    "    '''\n",
    "    tm_max = tm_trn_max for train tm_tst_max for test\n",
    "    '''\n",
    "    lendf = len(df)\n",
    "    print(dtnow(), 'start')\n",
    "    set_u1 = set(df.u1id)\n",
    "    set_u2 = set(df.u2id)\n",
    "    df['u1inu2']=df.u1id.isin(set_u2)\n",
    "    df['u2inu1']=df.u2id.isin(set_u1)\n",
    "\n",
    "    #counts\n",
    "    df['len_toks'] = df.toks.apply(lambda x: len(x.split('\\t')))\n",
    "    df.drop(columns=['toks'], inplace=True)    \n",
    "    for m in ['Photo', 'Video', 'GIF']:\n",
    "        df[f'n_media_{m}'] = df['media'].fillna('').apply(lambda x: x.split('\\t').count(m))\n",
    "    tgnms = ['hshtgs','media', 'links', 'domns',]\n",
    "    for tgnm in tgnms:\n",
    "        df[f'has_{tgnm}']=df[tgnm].notna()\n",
    "        df[f'lst_{tgnm}'] = df[tgnm].fillna('').apply(lambda x: x.split('\\t') if len(x) else [])\n",
    "        df[f'n_{tgnm}'] = df[f'lst_{tgnm}'].apply(len)  \n",
    "    df.drop(columns=['has_links','n_links'], inplace=True) #duplicates has_domns,n_domns \n",
    "    \n",
    "    #time\n",
    "    dt = pd.to_datetime(df.tm, unit='s')\n",
    "    df['dayofweek'] = dt.dt.dayofweek\n",
    "    df['hour'] = dt.dt.hour\n",
    "    \n",
    "    df['tmdlta_u2u1']  = df.u2_create_tm - df.u1_create_tm\n",
    "    df['tmdlta_twtu1'] = df.tm - df.u1_create_tm\n",
    "    df['tmdlta_twtu2'] = df.tm - df.u2_create_tm\n",
    "\n",
    "    df['twt_age']   = tm_max-df.tm\n",
    "    df['u1_age']    = tm_max-df.u1_create_tm\n",
    "    df['u2_age']    = tm_max-df.u2_create_tm\n",
    "    df.drop(columns=['tm', 'u1_create_tm', 'u2_create_tm'], inplace=True)\n",
    "\n",
    "    #time derived\n",
    "    df['u1_fllwer_cnt_by_age'] = df.u1_fllwer_cnt / df.u1_age\n",
    "    df['u1_fllwng_cnt_by_age'] = df.u2_fllwng_cnt / df.u2_age\n",
    "    \n",
    "    #interaction\n",
    "    df['u1u2']=df.u1id+'_'+df.u2id\n",
    "    df['langhour']=df.lang+'_'+df.hour.astype(str)\n",
    "    \n",
    "\n",
    "#     #freq of feature values\n",
    "#     print(dtnow(), 'freq of columns using CountEncoder')\n",
    "#     encoder = ce.CountEncoder()\n",
    "#     encoded = encoder.fit_transform(\n",
    "#     df[['twtid', 'twttyp', 'lang', 'u1id', 'u1_fllwing_cnt', 'u1_vrfed', 'u2id', 'u2_fllwer_cnt', 'u2_vrfed', 'u1_fllw_u2', \n",
    "#        'n_media_Photo', 'n_media_Video', 'n_media_GIF', \n",
    "#        'has_hshtgs', 'n_hshtgs', 'has_media', 'n_media','has_domns', 'n_domns', \n",
    "#        'dayofweek', 'hour', 'u1u2', 'langhour']].astype(object))\n",
    "#     encoded = encoded.astype(int)/lendf\n",
    "#     encoded.columns = [f'frq_{col}' for col in encoded.columns]\n",
    "#     df = pd.concat([df,encoded],1)\n",
    "    \n",
    "    #freq of tgnm values\n",
    "#     print(dtnow(), 'freq of tags')\n",
    "#     for tgnm in tgnms:\n",
    "#         vs = [j for i in df[f'lst_{tgnm}'] for j in i]\n",
    "#         cnt = Counter(vs)\n",
    "#         frq = {k:v/lendf for k,v in cnt.items()}\n",
    "#         df[f'sumfrq_{tgnm}']=df[f'lst_{tgnm}'].apply(lambda x: sum([frq.get(o,0) for o in x]))\n",
    "#         df[f'maxfrq_{tgnm}']=df[f'lst_{tgnm}'].apply(lambda x: max([frq.get(o,0) for o in x]) if len(x) else 0)\n",
    "    \n",
    "    df.drop(columns=tgnms+[f'lst_{tgnm}' for tgnm in tgnms],inplace=True)\n",
    "\n",
    "    print(dtnow(), 'done')\n",
    "    return df"
   ]
  },
  {
   "cell_type": "code",
   "execution_count": 9,
   "metadata": {},
   "outputs": [
    {
     "name": "stdout",
     "output_type": "stream",
     "text": [
      "2020-06-02 02:28:26 start\n",
      "2020-06-02 03:24:53 done\n",
      "CPU times: user 31min 8s, sys: 22min 12s, total: 53min 20s\n",
      "Wall time: 56min 41s\n"
     ]
    }
   ],
   "source": [
    "%%time\n",
    "dftrn=prp_df(dftrn, tm_max=tm_trn_max)"
   ]
  },
  {
   "cell_type": "code",
   "execution_count": 10,
   "metadata": {},
   "outputs": [
    {
     "name": "stdout",
     "output_type": "stream",
     "text": [
      "2020-06-02 03:25:08 start\n",
      "2020-06-02 03:25:24 done\n",
      "CPU times: user 14.4 s, sys: 1.64 s, total: 16 s\n",
      "Wall time: 16 s\n"
     ]
    }
   ],
   "source": [
    "%%time\n",
    "dfval=prp_df(dfval, tm_max=tm_trn_max)"
   ]
  },
  {
   "cell_type": "markdown",
   "metadata": {},
   "source": [
    "## tr vl split"
   ]
  },
  {
   "cell_type": "code",
   "execution_count": 11,
   "metadata": {},
   "outputs": [
    {
     "data": {
      "text/plain": [
       "30"
      ]
     },
     "execution_count": 11,
     "metadata": {},
     "output_type": "execute_result"
    }
   ],
   "source": [
    "msk_vl=np.random.rand(len(dftrn))<0.15\n",
    "idxvl=np.where( msk_vl)[0]\n",
    "idxtr=np.where(~msk_vl)[0]\n",
    "\n",
    "dftr = dftrn.iloc[idxtr].copy()\n",
    "dfvl = dftrn.iloc[idxvl].copy()\n",
    "del dftrn\n",
    "\n",
    "gc.collect()"
   ]
  },
  {
   "cell_type": "code",
   "execution_count": 12,
   "metadata": {},
   "outputs": [],
   "source": [
    "cols_category=['twttyp', 'lang', 'langhour']\n",
    "for df in dftr,dfvl,dfval:\n",
    "    df.drop(columns=['twtid','u1id','u2id','u1u2'], inplace=True)\n",
    "    df[cols_category]=df[cols_category].astype('category')"
   ]
  },
  {
   "cell_type": "code",
   "execution_count": 13,
   "metadata": {},
   "outputs": [],
   "source": [
    "cols_feat = [col for col in dftr.columns if col not in cols_tgt]"
   ]
  },
  {
   "cell_type": "markdown",
   "metadata": {},
   "source": [
    "# model"
   ]
  },
  {
   "cell_type": "markdown",
   "metadata": {},
   "source": [
    "## cols_feat"
   ]
  },
  {
   "cell_type": "code",
   "execution_count": 14,
   "metadata": {},
   "outputs": [
    {
     "data": {
      "text/plain": [
       "['twttyp',\n",
       " 'lang',\n",
       " 'u1_fllwer_cnt',\n",
       " 'u1_fllwing_cnt',\n",
       " 'u1_vrfed',\n",
       " 'u2_fllwer_cnt',\n",
       " 'u2_fllwng_cnt',\n",
       " 'u2_vrfed',\n",
       " 'u1_fllw_u2',\n",
       " 'u1inu2',\n",
       " 'u2inu1',\n",
       " 'len_toks',\n",
       " 'n_media_Photo',\n",
       " 'n_media_Video',\n",
       " 'n_media_GIF',\n",
       " 'has_hshtgs',\n",
       " 'n_hshtgs',\n",
       " 'has_media',\n",
       " 'n_media',\n",
       " 'has_domns',\n",
       " 'n_domns',\n",
       " 'dayofweek',\n",
       " 'hour',\n",
       " 'tmdlta_u2u1',\n",
       " 'tmdlta_twtu1',\n",
       " 'tmdlta_twtu2',\n",
       " 'twt_age',\n",
       " 'u1_age',\n",
       " 'u2_age',\n",
       " 'u1_fllwer_cnt_by_age',\n",
       " 'u1_fllwng_cnt_by_age',\n",
       " 'langhour']"
      ]
     },
     "execution_count": 14,
     "metadata": {},
     "output_type": "execute_result"
    }
   ],
   "source": [
    "cols_feat"
   ]
  },
  {
   "cell_type": "code",
   "execution_count": 15,
   "metadata": {},
   "outputs": [
    {
     "name": "stdout",
     "output_type": "stream",
     "text": [
      "32\n"
     ]
    }
   ],
   "source": [
    "print(len(cols_feat))\n"
   ]
  },
  {
   "cell_type": "code",
   "execution_count": 16,
   "metadata": {},
   "outputs": [],
   "source": [
    "results = {}\n",
    "results['PRFX'] = PRFX\n",
    "results['TGT'] = TGT\n",
    "results['cols_feat'] = cols_feat"
   ]
  },
  {
   "cell_type": "code",
   "execution_count": 17,
   "metadata": {},
   "outputs": [],
   "source": [
    "params={\n",
    "    'objective': 'binary',\n",
    "    'metric': 'binary_logloss',\n",
    "    'verbosity': 0, \n",
    "}\n",
    "\n",
    "results['params'] = params"
   ]
  },
  {
   "cell_type": "code",
   "execution_count": null,
   "metadata": {},
   "outputs": [
    {
     "name": "stdout",
     "output_type": "stream",
     "text": [
      "Training until validation scores don't improve for 100 rounds\n",
      "[100]\ttr's binary_logloss: 0.301263\tvl's binary_logloss: 0.300917\n",
      "[200]\ttr's binary_logloss: 0.298926\tvl's binary_logloss: 0.298629\n",
      "[300]\ttr's binary_logloss: 0.297893\tvl's binary_logloss: 0.297666\n",
      "[400]\ttr's binary_logloss: 0.296873\tvl's binary_logloss: 0.296717\n",
      "[500]\ttr's binary_logloss: 0.296141\tvl's binary_logloss: 0.296058\n",
      "[600]\ttr's binary_logloss: 0.295511\tvl's binary_logloss: 0.295505\n",
      "[700]\ttr's binary_logloss: 0.294983\tvl's binary_logloss: 0.295053\n",
      "[800]\ttr's binary_logloss: 0.294551\tvl's binary_logloss: 0.294692\n",
      "[900]\ttr's binary_logloss: 0.294094\tvl's binary_logloss: 0.294318\n",
      "[1000]\ttr's binary_logloss: 0.293699\tvl's binary_logloss: 0.293994\n",
      "[1100]\ttr's binary_logloss: 0.293353\tvl's binary_logloss: 0.293724\n",
      "[1200]\ttr's binary_logloss: 0.293032\tvl's binary_logloss: 0.293482\n",
      "[1300]\ttr's binary_logloss: 0.292696\tvl's binary_logloss: 0.293221\n",
      "[1400]\ttr's binary_logloss: 0.292384\tvl's binary_logloss: 0.29299\n",
      "[1500]\ttr's binary_logloss: 0.292122\tvl's binary_logloss: 0.292809\n",
      "[1600]\ttr's binary_logloss: 0.291878\tvl's binary_logloss: 0.292635\n",
      "[1700]\ttr's binary_logloss: 0.291605\tvl's binary_logloss: 0.292433\n",
      "[1800]\ttr's binary_logloss: 0.291391\tvl's binary_logloss: 0.292289\n",
      "[1900]\ttr's binary_logloss: 0.291196\tvl's binary_logloss: 0.29216\n",
      "[2000]\ttr's binary_logloss: 0.29094\tvl's binary_logloss: 0.291982\n",
      "[2100]\ttr's binary_logloss: 0.29072\tvl's binary_logloss: 0.291836\n",
      "[2200]\ttr's binary_logloss: 0.290497\tvl's binary_logloss: 0.291683\n",
      "[2300]\ttr's binary_logloss: 0.290307\tvl's binary_logloss: 0.291569\n",
      "[2400]\ttr's binary_logloss: 0.290107\tvl's binary_logloss: 0.291436\n",
      "[2500]\ttr's binary_logloss: 0.289904\tvl's binary_logloss: 0.291304\n",
      "[2600]\ttr's binary_logloss: 0.28975\tvl's binary_logloss: 0.29122\n",
      "[2700]\ttr's binary_logloss: 0.289557\tvl's binary_logloss: 0.291106\n",
      "[2800]\ttr's binary_logloss: 0.289371\tvl's binary_logloss: 0.290986\n",
      "[2900]\ttr's binary_logloss: 0.289183\tvl's binary_logloss: 0.290862\n",
      "[3000]\ttr's binary_logloss: 0.289038\tvl's binary_logloss: 0.290776\n",
      "[3100]\ttr's binary_logloss: 0.288881\tvl's binary_logloss: 0.290682\n",
      "[3200]\ttr's binary_logloss: 0.288726\tvl's binary_logloss: 0.290587\n",
      "[3300]\ttr's binary_logloss: 0.288593\tvl's binary_logloss: 0.290514\n",
      "[3400]\ttr's binary_logloss: 0.288458\tvl's binary_logloss: 0.290441\n",
      "[3500]\ttr's binary_logloss: 0.288319\tvl's binary_logloss: 0.290361\n",
      "[3600]\ttr's binary_logloss: 0.288195\tvl's binary_logloss: 0.290306\n",
      "[3700]\ttr's binary_logloss: 0.288072\tvl's binary_logloss: 0.290244\n",
      "[3800]\ttr's binary_logloss: 0.287943\tvl's binary_logloss: 0.290172\n",
      "[3900]\ttr's binary_logloss: 0.2878\tvl's binary_logloss: 0.290088\n",
      "[4000]\ttr's binary_logloss: 0.287643\tvl's binary_logloss: 0.289994\n",
      "[4100]\ttr's binary_logloss: 0.287518\tvl's binary_logloss: 0.289932\n",
      "[4200]\ttr's binary_logloss: 0.287392\tvl's binary_logloss: 0.289866\n",
      "[4300]\ttr's binary_logloss: 0.287282\tvl's binary_logloss: 0.289815\n",
      "[4400]\ttr's binary_logloss: 0.287166\tvl's binary_logloss: 0.289763\n",
      "[4500]\ttr's binary_logloss: 0.287054\tvl's binary_logloss: 0.289712\n",
      "[4600]\ttr's binary_logloss: 0.28694\tvl's binary_logloss: 0.289657\n",
      "[4700]\ttr's binary_logloss: 0.286827\tvl's binary_logloss: 0.289597\n",
      "[4800]\ttr's binary_logloss: 0.286705\tvl's binary_logloss: 0.289535\n",
      "[4900]\ttr's binary_logloss: 0.286599\tvl's binary_logloss: 0.289487\n",
      "[5000]\ttr's binary_logloss: 0.286475\tvl's binary_logloss: 0.289426\n",
      "[5100]\ttr's binary_logloss: 0.286369\tvl's binary_logloss: 0.28938\n",
      "[5200]\ttr's binary_logloss: 0.286261\tvl's binary_logloss: 0.28933\n",
      "[5300]\ttr's binary_logloss: 0.286158\tvl's binary_logloss: 0.28928\n",
      "[5400]\ttr's binary_logloss: 0.286063\tvl's binary_logloss: 0.289237\n",
      "[5500]\ttr's binary_logloss: 0.285946\tvl's binary_logloss: 0.289186\n",
      "[5600]\ttr's binary_logloss: 0.285849\tvl's binary_logloss: 0.289142\n",
      "[5700]\ttr's binary_logloss: 0.285758\tvl's binary_logloss: 0.289105\n",
      "[5800]\ttr's binary_logloss: 0.28565\tvl's binary_logloss: 0.289052\n",
      "[5900]\ttr's binary_logloss: 0.28556\tvl's binary_logloss: 0.289016\n",
      "[6000]\ttr's binary_logloss: 0.285456\tvl's binary_logloss: 0.288963\n",
      "[6100]\ttr's binary_logloss: 0.28535\tvl's binary_logloss: 0.288908\n",
      "[6200]\ttr's binary_logloss: 0.28526\tvl's binary_logloss: 0.288872\n",
      "[6300]\ttr's binary_logloss: 0.285173\tvl's binary_logloss: 0.28884\n",
      "[6400]\ttr's binary_logloss: 0.28507\tvl's binary_logloss: 0.288798\n",
      "[6500]\ttr's binary_logloss: 0.284988\tvl's binary_logloss: 0.288768\n",
      "[6600]\ttr's binary_logloss: 0.284894\tvl's binary_logloss: 0.288723\n",
      "[6700]\ttr's binary_logloss: 0.284818\tvl's binary_logloss: 0.288699\n",
      "[6800]\ttr's binary_logloss: 0.284725\tvl's binary_logloss: 0.288656\n",
      "[6900]\ttr's binary_logloss: 0.284638\tvl's binary_logloss: 0.288623\n",
      "[7000]\ttr's binary_logloss: 0.28456\tvl's binary_logloss: 0.288596\n",
      "[7100]\ttr's binary_logloss: 0.284465\tvl's binary_logloss: 0.288556\n",
      "[7200]\ttr's binary_logloss: 0.284383\tvl's binary_logloss: 0.288524\n",
      "[7300]\ttr's binary_logloss: 0.284295\tvl's binary_logloss: 0.288487\n",
      "[7400]\ttr's binary_logloss: 0.284215\tvl's binary_logloss: 0.288459\n",
      "[7500]\ttr's binary_logloss: 0.284149\tvl's binary_logloss: 0.288436\n",
      "[7600]\ttr's binary_logloss: 0.284067\tvl's binary_logloss: 0.288399\n",
      "[7700]\ttr's binary_logloss: 0.283985\tvl's binary_logloss: 0.288362\n",
      "[7800]\ttr's binary_logloss: 0.283903\tvl's binary_logloss: 0.28833\n",
      "[7900]\ttr's binary_logloss: 0.283817\tvl's binary_logloss: 0.288294\n",
      "[8000]\ttr's binary_logloss: 0.283742\tvl's binary_logloss: 0.288273\n",
      "[8100]\ttr's binary_logloss: 0.283672\tvl's binary_logloss: 0.288249\n",
      "[8200]\ttr's binary_logloss: 0.283599\tvl's binary_logloss: 0.288227\n",
      "[8300]\ttr's binary_logloss: 0.283542\tvl's binary_logloss: 0.288215\n",
      "[8400]\ttr's binary_logloss: 0.28346\tvl's binary_logloss: 0.288181\n",
      "[8500]\ttr's binary_logloss: 0.283382\tvl's binary_logloss: 0.288152\n",
      "[8600]\ttr's binary_logloss: 0.283292\tvl's binary_logloss: 0.288113\n",
      "[8700]\ttr's binary_logloss: 0.283193\tvl's binary_logloss: 0.288068\n",
      "[8800]\ttr's binary_logloss: 0.283124\tvl's binary_logloss: 0.288045\n",
      "[8900]\ttr's binary_logloss: 0.283047\tvl's binary_logloss: 0.288017\n",
      "[9000]\ttr's binary_logloss: 0.282962\tvl's binary_logloss: 0.287981\n",
      "[9100]\ttr's binary_logloss: 0.282897\tvl's binary_logloss: 0.287959\n",
      "[9200]\ttr's binary_logloss: 0.282813\tvl's binary_logloss: 0.287923\n",
      "[9300]\ttr's binary_logloss: 0.282733\tvl's binary_logloss: 0.287891\n",
      "[9400]\ttr's binary_logloss: 0.282668\tvl's binary_logloss: 0.287873\n",
      "[9500]\ttr's binary_logloss: 0.282591\tvl's binary_logloss: 0.287852\n",
      "[9600]\ttr's binary_logloss: 0.282528\tvl's binary_logloss: 0.287835\n",
      "[9700]\ttr's binary_logloss: 0.282458\tvl's binary_logloss: 0.287814\n",
      "[9800]\ttr's binary_logloss: 0.282394\tvl's binary_logloss: 0.287796\n",
      "[9900]\ttr's binary_logloss: 0.282339\tvl's binary_logloss: 0.287784\n",
      "[10000]\ttr's binary_logloss: 0.282273\tvl's binary_logloss: 0.28776\n",
      "[10100]\ttr's binary_logloss: 0.282212\tvl's binary_logloss: 0.287745\n",
      "[10200]\ttr's binary_logloss: 0.282138\tvl's binary_logloss: 0.287722\n",
      "[10300]\ttr's binary_logloss: 0.282071\tvl's binary_logloss: 0.2877\n",
      "[10400]\ttr's binary_logloss: 0.282002\tvl's binary_logloss: 0.287674\n",
      "[10500]\ttr's binary_logloss: 0.281934\tvl's binary_logloss: 0.287649\n",
      "[10600]\ttr's binary_logloss: 0.281863\tvl's binary_logloss: 0.28762\n",
      "[10700]\ttr's binary_logloss: 0.281809\tvl's binary_logloss: 0.287609\n",
      "[10800]\ttr's binary_logloss: 0.28174\tvl's binary_logloss: 0.287585\n",
      "[10900]\ttr's binary_logloss: 0.281682\tvl's binary_logloss: 0.287568\n",
      "[11000]\ttr's binary_logloss: 0.28161\tvl's binary_logloss: 0.287537\n",
      "[11100]\ttr's binary_logloss: 0.281554\tvl's binary_logloss: 0.287525\n",
      "[11200]\ttr's binary_logloss: 0.2815\tvl's binary_logloss: 0.287514\n",
      "[11300]\ttr's binary_logloss: 0.281432\tvl's binary_logloss: 0.287493\n",
      "[11400]\ttr's binary_logloss: 0.281378\tvl's binary_logloss: 0.287481\n",
      "[11500]\ttr's binary_logloss: 0.281311\tvl's binary_logloss: 0.287458\n",
      "[11600]\ttr's binary_logloss: 0.281245\tvl's binary_logloss: 0.287436\n",
      "[11700]\ttr's binary_logloss: 0.281179\tvl's binary_logloss: 0.287412\n",
      "[11800]\ttr's binary_logloss: 0.281116\tvl's binary_logloss: 0.287393\n",
      "[11900]\ttr's binary_logloss: 0.281049\tvl's binary_logloss: 0.287374\n",
      "[12000]\ttr's binary_logloss: 0.280988\tvl's binary_logloss: 0.287354\n",
      "[12100]\ttr's binary_logloss: 0.280935\tvl's binary_logloss: 0.287341\n",
      "[12200]\ttr's binary_logloss: 0.280875\tvl's binary_logloss: 0.287321\n"
     ]
    },
    {
     "name": "stdout",
     "output_type": "stream",
     "text": [
      "[12300]\ttr's binary_logloss: 0.280815\tvl's binary_logloss: 0.287302\n",
      "[12400]\ttr's binary_logloss: 0.280758\tvl's binary_logloss: 0.287286\n",
      "[12500]\ttr's binary_logloss: 0.280697\tvl's binary_logloss: 0.287267\n",
      "[12600]\ttr's binary_logloss: 0.280645\tvl's binary_logloss: 0.287253\n",
      "[12700]\ttr's binary_logloss: 0.280586\tvl's binary_logloss: 0.287233\n",
      "[12800]\ttr's binary_logloss: 0.280529\tvl's binary_logloss: 0.287215\n",
      "[12900]\ttr's binary_logloss: 0.280481\tvl's binary_logloss: 0.287206\n",
      "[13000]\ttr's binary_logloss: 0.280421\tvl's binary_logloss: 0.287189\n",
      "[13100]\ttr's binary_logloss: 0.280372\tvl's binary_logloss: 0.287181\n",
      "[13200]\ttr's binary_logloss: 0.28032\tvl's binary_logloss: 0.287169\n",
      "[13300]\ttr's binary_logloss: 0.28027\tvl's binary_logloss: 0.287163\n",
      "[13400]\ttr's binary_logloss: 0.280215\tvl's binary_logloss: 0.287152\n",
      "[13500]\ttr's binary_logloss: 0.280159\tvl's binary_logloss: 0.287136\n",
      "[13600]\ttr's binary_logloss: 0.280102\tvl's binary_logloss: 0.287117\n",
      "[13700]\ttr's binary_logloss: 0.280047\tvl's binary_logloss: 0.2871\n",
      "[13800]\ttr's binary_logloss: 0.279989\tvl's binary_logloss: 0.287085\n",
      "[13900]\ttr's binary_logloss: 0.279931\tvl's binary_logloss: 0.287071\n",
      "[14000]\ttr's binary_logloss: 0.279877\tvl's binary_logloss: 0.287059\n",
      "[14100]\ttr's binary_logloss: 0.279818\tvl's binary_logloss: 0.28704\n",
      "[14200]\ttr's binary_logloss: 0.279762\tvl's binary_logloss: 0.287026\n",
      "[14300]\ttr's binary_logloss: 0.279712\tvl's binary_logloss: 0.287017\n",
      "[14400]\ttr's binary_logloss: 0.27966\tvl's binary_logloss: 0.287008\n",
      "[14500]\ttr's binary_logloss: 0.279618\tvl's binary_logloss: 0.287\n",
      "[14600]\ttr's binary_logloss: 0.279563\tvl's binary_logloss: 0.286988\n",
      "[14700]\ttr's binary_logloss: 0.279518\tvl's binary_logloss: 0.286981\n",
      "[14800]\ttr's binary_logloss: 0.279472\tvl's binary_logloss: 0.286975\n",
      "[14900]\ttr's binary_logloss: 0.279427\tvl's binary_logloss: 0.286966\n",
      "[15000]\ttr's binary_logloss: 0.279376\tvl's binary_logloss: 0.286951\n",
      "[15100]\ttr's binary_logloss: 0.279329\tvl's binary_logloss: 0.286945\n",
      "[15200]\ttr's binary_logloss: 0.279281\tvl's binary_logloss: 0.286933\n",
      "[15300]\ttr's binary_logloss: 0.279238\tvl's binary_logloss: 0.286928\n",
      "[15400]\ttr's binary_logloss: 0.279187\tvl's binary_logloss: 0.286914\n",
      "[15500]\ttr's binary_logloss: 0.279135\tvl's binary_logloss: 0.286899\n",
      "[15600]\ttr's binary_logloss: 0.279083\tvl's binary_logloss: 0.28689\n",
      "[15700]\ttr's binary_logloss: 0.279036\tvl's binary_logloss: 0.28688\n",
      "[15800]\ttr's binary_logloss: 0.278976\tvl's binary_logloss: 0.286864\n",
      "[15900]\ttr's binary_logloss: 0.278919\tvl's binary_logloss: 0.286847\n",
      "[16000]\ttr's binary_logloss: 0.278867\tvl's binary_logloss: 0.286833\n",
      "[16100]\ttr's binary_logloss: 0.278816\tvl's binary_logloss: 0.286821\n",
      "[16200]\ttr's binary_logloss: 0.278762\tvl's binary_logloss: 0.286807\n",
      "[16300]\ttr's binary_logloss: 0.278712\tvl's binary_logloss: 0.286798\n",
      "[16400]\ttr's binary_logloss: 0.278659\tvl's binary_logloss: 0.286785\n",
      "[16500]\ttr's binary_logloss: 0.278607\tvl's binary_logloss: 0.286773\n",
      "[16600]\ttr's binary_logloss: 0.278556\tvl's binary_logloss: 0.286764\n",
      "[16700]\ttr's binary_logloss: 0.278507\tvl's binary_logloss: 0.286751\n",
      "[16800]\ttr's binary_logloss: 0.278455\tvl's binary_logloss: 0.286736\n",
      "[16900]\ttr's binary_logloss: 0.278407\tvl's binary_logloss: 0.286727\n",
      "[17000]\ttr's binary_logloss: 0.278358\tvl's binary_logloss: 0.286715\n",
      "[17100]\ttr's binary_logloss: 0.278314\tvl's binary_logloss: 0.286707\n",
      "[17200]\ttr's binary_logloss: 0.278273\tvl's binary_logloss: 0.2867\n",
      "[17300]\ttr's binary_logloss: 0.278234\tvl's binary_logloss: 0.286696\n",
      "[17400]\ttr's binary_logloss: 0.278194\tvl's binary_logloss: 0.286691\n",
      "[17500]\ttr's binary_logloss: 0.278153\tvl's binary_logloss: 0.286687\n",
      "[17600]\ttr's binary_logloss: 0.278116\tvl's binary_logloss: 0.286681\n",
      "[17700]\ttr's binary_logloss: 0.278071\tvl's binary_logloss: 0.286672\n",
      "[17800]\ttr's binary_logloss: 0.278028\tvl's binary_logloss: 0.286664\n",
      "[17900]\ttr's binary_logloss: 0.277977\tvl's binary_logloss: 0.286652\n",
      "[18000]\ttr's binary_logloss: 0.277937\tvl's binary_logloss: 0.286649\n",
      "[18100]\ttr's binary_logloss: 0.277891\tvl's binary_logloss: 0.286644\n",
      "[18200]\ttr's binary_logloss: 0.277851\tvl's binary_logloss: 0.286638\n",
      "[18300]\ttr's binary_logloss: 0.277803\tvl's binary_logloss: 0.286625\n",
      "[18400]\ttr's binary_logloss: 0.277754\tvl's binary_logloss: 0.286616\n",
      "[18500]\ttr's binary_logloss: 0.277714\tvl's binary_logloss: 0.286611\n",
      "[18600]\ttr's binary_logloss: 0.277659\tvl's binary_logloss: 0.286597\n",
      "[18700]\ttr's binary_logloss: 0.277617\tvl's binary_logloss: 0.286592\n",
      "[18800]\ttr's binary_logloss: 0.277574\tvl's binary_logloss: 0.286585\n",
      "[18900]\ttr's binary_logloss: 0.277526\tvl's binary_logloss: 0.286578\n",
      "[19000]\ttr's binary_logloss: 0.277483\tvl's binary_logloss: 0.286571\n",
      "[19100]\ttr's binary_logloss: 0.277437\tvl's binary_logloss: 0.286565\n",
      "[19200]\ttr's binary_logloss: 0.277396\tvl's binary_logloss: 0.28656\n",
      "[19300]\ttr's binary_logloss: 0.277348\tvl's binary_logloss: 0.286548\n",
      "[19400]\ttr's binary_logloss: 0.277301\tvl's binary_logloss: 0.286539\n",
      "[19500]\ttr's binary_logloss: 0.277261\tvl's binary_logloss: 0.286534\n",
      "[19600]\ttr's binary_logloss: 0.277214\tvl's binary_logloss: 0.286527\n",
      "[19700]\ttr's binary_logloss: 0.277171\tvl's binary_logloss: 0.28652\n",
      "[19800]\ttr's binary_logloss: 0.277128\tvl's binary_logloss: 0.286512\n",
      "[19900]\ttr's binary_logloss: 0.277085\tvl's binary_logloss: 0.286505\n",
      "[20000]\ttr's binary_logloss: 0.277044\tvl's binary_logloss: 0.286501\n",
      "[20100]\ttr's binary_logloss: 0.277005\tvl's binary_logloss: 0.286498\n",
      "[20200]\ttr's binary_logloss: 0.276964\tvl's binary_logloss: 0.286493\n",
      "[20300]\ttr's binary_logloss: 0.276924\tvl's binary_logloss: 0.286487\n",
      "[20400]\ttr's binary_logloss: 0.276882\tvl's binary_logloss: 0.286478\n",
      "[20500]\ttr's binary_logloss: 0.276835\tvl's binary_logloss: 0.286466\n",
      "[20600]\ttr's binary_logloss: 0.276796\tvl's binary_logloss: 0.286461\n",
      "[20700]\ttr's binary_logloss: 0.276752\tvl's binary_logloss: 0.286454\n",
      "[20800]\ttr's binary_logloss: 0.276709\tvl's binary_logloss: 0.286445\n",
      "[20900]\ttr's binary_logloss: 0.27667\tvl's binary_logloss: 0.286442\n",
      "[21000]\ttr's binary_logloss: 0.276635\tvl's binary_logloss: 0.286436\n",
      "[21100]\ttr's binary_logloss: 0.276588\tvl's binary_logloss: 0.286427\n",
      "[21200]\ttr's binary_logloss: 0.276538\tvl's binary_logloss: 0.286412\n",
      "[21300]\ttr's binary_logloss: 0.276488\tvl's binary_logloss: 0.286399\n",
      "[21400]\ttr's binary_logloss: 0.276448\tvl's binary_logloss: 0.286394\n",
      "[21500]\ttr's binary_logloss: 0.276404\tvl's binary_logloss: 0.286384\n",
      "[21600]\ttr's binary_logloss: 0.276364\tvl's binary_logloss: 0.28638\n",
      "[21700]\ttr's binary_logloss: 0.276317\tvl's binary_logloss: 0.286372\n",
      "[21800]\ttr's binary_logloss: 0.276271\tvl's binary_logloss: 0.286365\n",
      "[21900]\ttr's binary_logloss: 0.276221\tvl's binary_logloss: 0.286353\n",
      "[22000]\ttr's binary_logloss: 0.27618\tvl's binary_logloss: 0.286349\n",
      "[22100]\ttr's binary_logloss: 0.276139\tvl's binary_logloss: 0.286342\n",
      "[22200]\ttr's binary_logloss: 0.276096\tvl's binary_logloss: 0.286336\n",
      "[22300]\ttr's binary_logloss: 0.276051\tvl's binary_logloss: 0.286329\n",
      "[22400]\ttr's binary_logloss: 0.27601\tvl's binary_logloss: 0.286323\n",
      "[22500]\ttr's binary_logloss: 0.275962\tvl's binary_logloss: 0.286312\n",
      "[22600]\ttr's binary_logloss: 0.275916\tvl's binary_logloss: 0.286302\n",
      "[22700]\ttr's binary_logloss: 0.275877\tvl's binary_logloss: 0.286295\n",
      "[22800]\ttr's binary_logloss: 0.27584\tvl's binary_logloss: 0.286292\n",
      "[22900]\ttr's binary_logloss: 0.275798\tvl's binary_logloss: 0.286283\n",
      "[23000]\ttr's binary_logloss: 0.275753\tvl's binary_logloss: 0.286273\n",
      "[23100]\ttr's binary_logloss: 0.275712\tvl's binary_logloss: 0.286268\n",
      "[23200]\ttr's binary_logloss: 0.275674\tvl's binary_logloss: 0.286261\n",
      "[23300]\ttr's binary_logloss: 0.275632\tvl's binary_logloss: 0.286255\n",
      "[23400]\ttr's binary_logloss: 0.275589\tvl's binary_logloss: 0.286247\n",
      "[23500]\ttr's binary_logloss: 0.275552\tvl's binary_logloss: 0.286245\n",
      "[23600]\ttr's binary_logloss: 0.275513\tvl's binary_logloss: 0.286239\n",
      "[23700]\ttr's binary_logloss: 0.275471\tvl's binary_logloss: 0.28623\n",
      "[23800]\ttr's binary_logloss: 0.275432\tvl's binary_logloss: 0.286227\n",
      "[23900]\ttr's binary_logloss: 0.275394\tvl's binary_logloss: 0.286223\n",
      "[24000]\ttr's binary_logloss: 0.275349\tvl's binary_logloss: 0.286215\n",
      "[24100]\ttr's binary_logloss: 0.275314\tvl's binary_logloss: 0.286212\n",
      "[24200]\ttr's binary_logloss: 0.275276\tvl's binary_logloss: 0.286208\n",
      "[24300]\ttr's binary_logloss: 0.275245\tvl's binary_logloss: 0.286207\n"
     ]
    }
   ],
   "source": [
    "%%time\n",
    "dtr = lgb.Dataset(dftr[cols_feat], label=dftr[TCOL])\n",
    "dvl = lgb.Dataset(dfvl[cols_feat], label=dfvl[TCOL])\n",
    "evalres = {}\n",
    "evallist = [(dtr, 'train'), (dvl, 'eval')]\n",
    "bst = lgb.train(params=params, \n",
    "                train_set=dtr, \n",
    "                num_boost_round=50000,\n",
    "                valid_sets=[dtr, dvl],\n",
    "                valid_names=['tr','vl'],\n",
    "                verbose_eval=100,\n",
    "                early_stopping_rounds=100,\n",
    "                evals_result=evalres,\n",
    "               )\n",
    "results['bst'] = bst\n",
    "results['evalres'] = evalres"
   ]
  },
  {
   "cell_type": "markdown",
   "metadata": {},
   "source": [
    "## tr vl trajec"
   ]
  },
  {
   "cell_type": "code",
   "execution_count": 37,
   "metadata": {},
   "outputs": [
    {
     "data": {
      "image/png": "[encoded data removed]",
      "text/plain": [
       "<Figure size 432x288 with 1 Axes>"
      ]
     },
     "metadata": {
      "needs_background": "light"
     },
     "output_type": "display_data"
    }
   ],
   "source": [
    "plt.plot(evalres['tr']['binary_logloss'])\n",
    "plt.plot(evalres['vl']['binary_logloss'])\n",
    "plt.title(f\"logloss; best_iteration {bst.best_iteration}\")\n",
    "plt.show()"
   ]
  },
  {
   "cell_type": "markdown",
   "metadata": {},
   "source": [
    "## model features"
   ]
  },
  {
   "cell_type": "code",
   "execution_count": 38,
   "metadata": {},
   "outputs": [
    {
     "data": {
      "image/png": "[encoded data removed]",
      "text/plain": [
       "<Figure size 720x1080 with 1 Axes>"
      ]
     },
     "metadata": {
      "needs_background": "light"
     },
     "output_type": "display_data"
    }
   ],
   "source": [
    "ax = lgb.plot_importance(bst, height=0.8, max_num_features=50, figsize=(10,15))\n",
    "ax.grid(False, axis=\"y\")\n",
    "ax.set_title(f'Estimated feature importance')\n",
    "plt.show()"
   ]
  },
  {
   "cell_type": "code",
   "execution_count": 39,
   "metadata": {},
   "outputs": [
    {
     "data": {
      "text/html": [
       "<div>\n",
       "<style scoped>\n",
       "    .dataframe tbody tr th:only-of-type {\n",
       "        vertical-align: middle;\n",
       "    }\n",
       "\n",
       "    .dataframe tbody tr th {\n",
       "        vertical-align: top;\n",
       "    }\n",
       "\n",
       "    .dataframe thead th {\n",
       "        text-align: right;\n",
       "    }\n",
       "</style>\n",
       "<table border=\"1\" class=\"dataframe\">\n",
       "  <thead>\n",
       "    <tr style=\"text-align: right;\">\n",
       "      <th></th>\n",
       "      <th>0</th>\n",
       "      <th>1</th>\n",
       "    </tr>\n",
       "  </thead>\n",
       "  <tbody>\n",
       "    <tr>\n",
       "      <th>31</th>\n",
       "      <td>langhour</td>\n",
       "      <td>241848</td>\n",
       "    </tr>\n",
       "    <tr>\n",
       "      <th>3</th>\n",
       "      <td>u1_fllwing_cnt</td>\n",
       "      <td>59011</td>\n",
       "    </tr>\n",
       "    <tr>\n",
       "      <th>5</th>\n",
       "      <td>u2_fllwer_cnt</td>\n",
       "      <td>51602</td>\n",
       "    </tr>\n",
       "    <tr>\n",
       "      <th>2</th>\n",
       "      <td>u1_fllwer_cnt</td>\n",
       "      <td>47489</td>\n",
       "    </tr>\n",
       "    <tr>\n",
       "      <th>11</th>\n",
       "      <td>len_toks</td>\n",
       "      <td>46915</td>\n",
       "    </tr>\n",
       "    <tr>\n",
       "      <th>29</th>\n",
       "      <td>u1_fllwer_cnt_by_age</td>\n",
       "      <td>45443</td>\n",
       "    </tr>\n",
       "    <tr>\n",
       "      <th>6</th>\n",
       "      <td>u2_fllwng_cnt</td>\n",
       "      <td>42012</td>\n",
       "    </tr>\n",
       "    <tr>\n",
       "      <th>30</th>\n",
       "      <td>u1_fllwng_cnt_by_age</td>\n",
       "      <td>38707</td>\n",
       "    </tr>\n",
       "    <tr>\n",
       "      <th>26</th>\n",
       "      <td>twt_age</td>\n",
       "      <td>34826</td>\n",
       "    </tr>\n",
       "    <tr>\n",
       "      <th>23</th>\n",
       "      <td>tmdlta_u2u1</td>\n",
       "      <td>32003</td>\n",
       "    </tr>\n",
       "    <tr>\n",
       "      <th>24</th>\n",
       "      <td>tmdlta_twtu1</td>\n",
       "      <td>31063</td>\n",
       "    </tr>\n",
       "    <tr>\n",
       "      <th>25</th>\n",
       "      <td>tmdlta_twtu2</td>\n",
       "      <td>26721</td>\n",
       "    </tr>\n",
       "    <tr>\n",
       "      <th>27</th>\n",
       "      <td>u1_age</td>\n",
       "      <td>18293</td>\n",
       "    </tr>\n",
       "    <tr>\n",
       "      <th>28</th>\n",
       "      <td>u2_age</td>\n",
       "      <td>15790</td>\n",
       "    </tr>\n",
       "    <tr>\n",
       "      <th>1</th>\n",
       "      <td>lang</td>\n",
       "      <td>15444</td>\n",
       "    </tr>\n",
       "    <tr>\n",
       "      <th>0</th>\n",
       "      <td>twttyp</td>\n",
       "      <td>10340</td>\n",
       "    </tr>\n",
       "    <tr>\n",
       "      <th>21</th>\n",
       "      <td>dayofweek</td>\n",
       "      <td>8330</td>\n",
       "    </tr>\n",
       "    <tr>\n",
       "      <th>22</th>\n",
       "      <td>hour</td>\n",
       "      <td>6779</td>\n",
       "    </tr>\n",
       "    <tr>\n",
       "      <th>16</th>\n",
       "      <td>n_hshtgs</td>\n",
       "      <td>6686</td>\n",
       "    </tr>\n",
       "    <tr>\n",
       "      <th>12</th>\n",
       "      <td>n_media_Photo</td>\n",
       "      <td>5727</td>\n",
       "    </tr>\n",
       "    <tr>\n",
       "      <th>9</th>\n",
       "      <td>u1inu2</td>\n",
       "      <td>4965</td>\n",
       "    </tr>\n",
       "    <tr>\n",
       "      <th>10</th>\n",
       "      <td>u2inu1</td>\n",
       "      <td>4665</td>\n",
       "    </tr>\n",
       "    <tr>\n",
       "      <th>15</th>\n",
       "      <td>has_hshtgs</td>\n",
       "      <td>3880</td>\n",
       "    </tr>\n",
       "    <tr>\n",
       "      <th>17</th>\n",
       "      <td>has_media</td>\n",
       "      <td>3847</td>\n",
       "    </tr>\n",
       "    <tr>\n",
       "      <th>19</th>\n",
       "      <td>has_domns</td>\n",
       "      <td>3370</td>\n",
       "    </tr>\n",
       "    <tr>\n",
       "      <th>4</th>\n",
       "      <td>u1_vrfed</td>\n",
       "      <td>2817</td>\n",
       "    </tr>\n",
       "    <tr>\n",
       "      <th>8</th>\n",
       "      <td>u1_fllw_u2</td>\n",
       "      <td>2727</td>\n",
       "    </tr>\n",
       "    <tr>\n",
       "      <th>13</th>\n",
       "      <td>n_media_Video</td>\n",
       "      <td>2504</td>\n",
       "    </tr>\n",
       "    <tr>\n",
       "      <th>20</th>\n",
       "      <td>n_domns</td>\n",
       "      <td>907</td>\n",
       "    </tr>\n",
       "    <tr>\n",
       "      <th>14</th>\n",
       "      <td>n_media_GIF</td>\n",
       "      <td>892</td>\n",
       "    </tr>\n",
       "    <tr>\n",
       "      <th>18</th>\n",
       "      <td>n_media</td>\n",
       "      <td>590</td>\n",
       "    </tr>\n",
       "    <tr>\n",
       "      <th>7</th>\n",
       "      <td>u2_vrfed</td>\n",
       "      <td>377</td>\n",
       "    </tr>\n",
       "  </tbody>\n",
       "</table>\n",
       "</div>"
      ],
      "text/plain": [
       "                       0       1\n",
       "31              langhour  241848\n",
       "3         u1_fllwing_cnt   59011\n",
       "5          u2_fllwer_cnt   51602\n",
       "2          u1_fllwer_cnt   47489\n",
       "11              len_toks   46915\n",
       "29  u1_fllwer_cnt_by_age   45443\n",
       "6          u2_fllwng_cnt   42012\n",
       "30  u1_fllwng_cnt_by_age   38707\n",
       "26               twt_age   34826\n",
       "23           tmdlta_u2u1   32003\n",
       "24          tmdlta_twtu1   31063\n",
       "25          tmdlta_twtu2   26721\n",
       "27                u1_age   18293\n",
       "28                u2_age   15790\n",
       "1                   lang   15444\n",
       "0                 twttyp   10340\n",
       "21             dayofweek    8330\n",
       "22                  hour    6779\n",
       "16              n_hshtgs    6686\n",
       "12         n_media_Photo    5727\n",
       "9                 u1inu2    4965\n",
       "10                u2inu1    4665\n",
       "15            has_hshtgs    3880\n",
       "17             has_media    3847\n",
       "19             has_domns    3370\n",
       "4               u1_vrfed    2817\n",
       "8             u1_fllw_u2    2727\n",
       "13         n_media_Video    2504\n",
       "20               n_domns     907\n",
       "14           n_media_GIF     892\n",
       "18               n_media     590\n",
       "7               u2_vrfed     377"
      ]
     },
     "execution_count": 39,
     "metadata": {},
     "output_type": "execute_result"
    }
   ],
   "source": [
    "pd.DataFrame([bst.feature_name(), bst.feature_importance()]).T.sort_values(1, ascending=False)"
   ]
  },
  {
   "cell_type": "code",
   "execution_count": 40,
   "metadata": {},
   "outputs": [
    {
     "data": {
      "text/plain": [
       "[('langhour', 241848),\n",
       " ('u1_fllwing_cnt', 59011),\n",
       " ('u2_fllwer_cnt', 51602),\n",
       " ('u1_fllwer_cnt', 47489),\n",
       " ('len_toks', 46915),\n",
       " ('u1_fllwer_cnt_by_age', 45443),\n",
       " ('u2_fllwng_cnt', 42012),\n",
       " ('u1_fllwng_cnt_by_age', 38707),\n",
       " ('twt_age', 34826),\n",
       " ('tmdlta_u2u1', 32003),\n",
       " ('tmdlta_twtu1', 31063),\n",
       " ('tmdlta_twtu2', 26721),\n",
       " ('u1_age', 18293),\n",
       " ('u2_age', 15790),\n",
       " ('lang', 15444),\n",
       " ('twttyp', 10340),\n",
       " ('dayofweek', 8330),\n",
       " ('hour', 6779),\n",
       " ('n_hshtgs', 6686),\n",
       " ('n_media_Photo', 5727),\n",
       " ('u1inu2', 4965),\n",
       " ('u2inu1', 4665),\n",
       " ('has_hshtgs', 3880),\n",
       " ('has_media', 3847),\n",
       " ('has_domns', 3370),\n",
       " ('u1_vrfed', 2817),\n",
       " ('u1_fllw_u2', 2727),\n",
       " ('n_media_Video', 2504),\n",
       " ('n_domns', 907),\n",
       " ('n_media_GIF', 892),\n",
       " ('n_media', 590),\n",
       " ('u2_vrfed', 377)]"
      ]
     },
     "execution_count": 40,
     "metadata": {},
     "output_type": "execute_result"
    }
   ],
   "source": [
    "col2imp = dict(zip(bst.feature_name(), bst.feature_importance()))\n",
    "sorted(col2imp.items(), key=lambda x: -x[1])"
   ]
  },
  {
   "cell_type": "code",
   "execution_count": 41,
   "metadata": {},
   "outputs": [
    {
     "data": {
      "text/plain": [
       "['langhour',\n",
       " 'u1_fllwing_cnt',\n",
       " 'u2_fllwer_cnt',\n",
       " 'u1_fllwer_cnt',\n",
       " 'len_toks',\n",
       " 'u1_fllwer_cnt_by_age',\n",
       " 'u2_fllwng_cnt',\n",
       " 'u1_fllwng_cnt_by_age',\n",
       " 'twt_age',\n",
       " 'tmdlta_u2u1',\n",
       " 'tmdlta_twtu1',\n",
       " 'tmdlta_twtu2',\n",
       " 'u1_age',\n",
       " 'u2_age',\n",
       " 'lang',\n",
       " 'twttyp',\n",
       " 'dayofweek',\n",
       " 'hour',\n",
       " 'n_hshtgs',\n",
       " 'n_media_Photo',\n",
       " 'u1inu2',\n",
       " 'u2inu1',\n",
       " 'has_hshtgs',\n",
       " 'has_media',\n",
       " 'has_domns',\n",
       " 'u1_vrfed',\n",
       " 'u1_fllw_u2',\n",
       " 'n_media_Video',\n",
       " 'n_domns',\n",
       " 'n_media_GIF',\n",
       " 'n_media',\n",
       " 'u2_vrfed']"
      ]
     },
     "execution_count": 41,
     "metadata": {},
     "output_type": "execute_result"
    }
   ],
   "source": [
    "[o[0] for o in sorted(col2imp.items(), key=lambda x: -x[1]) if o[1]>0]"
   ]
  },
  {
   "cell_type": "code",
   "execution_count": null,
   "metadata": {},
   "outputs": [],
   "source": []
  },
  {
   "cell_type": "markdown",
   "metadata": {},
   "source": [
    "# eval"
   ]
  },
  {
   "cell_type": "code",
   "execution_count": null,
   "metadata": {},
   "outputs": [],
   "source": [
    "%%time\n",
    "prdtr = bst.predict(dftr[cols_feat],num_iteration=bst.best_iteration)\n",
    "prdvl = bst.predict(dfvl[cols_feat],num_iteration=bst.best_iteration)\n",
    "prdval0 = bst.predict(dfval[cols_feat],num_iteration=bst.best_iteration)\n",
    "prdval = calibration(prdval0, train_pop, target_pop, sampled_train_pop, sampled_target_pop)"
   ]
  },
  {
   "cell_type": "code",
   "execution_count": null,
   "metadata": {},
   "outputs": [],
   "source": [
    "%%time\n",
    "ytr,yvl,yval=[df[TCOL].values for df in (dftr,dfvl,dfval)]\n",
    "\n",
    "auc_tr=compute_prauc(prdtr, ytr)\n",
    "rce_tr=compute_rce(prdtr, ytr)\n",
    "auc_vl=compute_prauc(prdvl, yvl)\n",
    "rce_vl=compute_rce(prdvl, yvl)\n",
    "auc_val=compute_prauc(prdval, yval)\n",
    "rce_val=compute_rce(prdval, yval)\n",
    "\n",
    "results['scrs'] = {}\n",
    "results['scrs']['auc_tr']=auc_tr\n",
    "results['scrs']['rce_tr']=rce_tr\n",
    "results['scrs']['auc_vl']=auc_vl\n",
    "results['scrs']['rce_vl']=rce_vl\n",
    "results['scrs']['auc_val']=auc_val\n",
    "results['scrs']['rce_val']=rce_val"
   ]
  },
  {
   "cell_type": "code",
   "execution_count": 42,
   "metadata": {},
   "outputs": [
    {
     "name": "stdout",
     "output_type": "stream",
     "text": [
      "auc_tr:  0.4494\n",
      "auc_vl:  0.4027\n",
      "auc_val: 0.3399\n",
      "\n",
      "rce_tr:  22.3463\n",
      "rce_vl:  18.8692\n",
      "rce_val: 9.5974\n"
     ]
    }
   ],
   "source": [
    "print(f'auc_tr:  {auc_tr:.4f}')\n",
    "print(f'auc_vl:  {auc_vl:.4f}')\n",
    "print(f'auc_val: {auc_val:.4f}')\n",
    "print()\n",
    "print(f'rce_tr:  {rce_tr:.4f}')\n",
    "print(f'rce_vl:  {rce_vl:.4f}')\n",
    "print(f'rce_val: {rce_val:.4f}')"
   ]
  },
  {
   "cell_type": "markdown",
   "metadata": {},
   "source": [
    "## score"
   ]
  },
  {
   "cell_type": "code",
   "execution_count": 43,
   "metadata": {},
   "outputs": [
    {
     "name": "stdout",
     "output_type": "stream",
     "text": [
      "-0.3399-9.5974\n"
     ]
    }
   ],
   "source": [
    "print(f'-{auc_val:.4f}-{rce_val:.4f}')"
   ]
  },
  {
   "cell_type": "markdown",
   "metadata": {},
   "source": [
    "# save results"
   ]
  },
  {
   "cell_type": "code",
   "execution_count": null,
   "metadata": {},
   "outputs": [],
   "source": [
    "pickle.dump(results, open(f'{p_out}/results_{PRFX}.p', 'wb'))"
   ]
  },
  {
   "cell_type": "markdown",
   "metadata": {},
   "source": [
    "# infer"
   ]
  },
  {
   "cell_type": "code",
   "execution_count": null,
   "metadata": {},
   "outputs": [],
   "source": [
    "results = pickle.load( open(f'{p_out}/results_{PRFX}.p', 'rb'))\n",
    "bst = results['bst']\n",
    "cols_feat = results['cols_feat']"
   ]
  },
  {
   "cell_type": "markdown",
   "metadata": {},
   "source": [
    "## prep"
   ]
  },
  {
   "cell_type": "code",
   "execution_count": null,
   "metadata": {},
   "outputs": [],
   "source": [
    "%%time\n",
    "dftst=pd.read_csv(\n",
    "    f'{p_in}/val_{tsttmstmp}.tsv',\n",
    "    sep='\\x01', header=None, names=cols_val, \n",
    "#     nrows=10\n",
    ")"
   ]
  },
  {
   "cell_type": "code",
   "execution_count": 44,
   "metadata": {},
   "outputs": [
    {
     "data": {
      "text/plain": [
       "(12434735, 34)"
      ]
     },
     "execution_count": 44,
     "metadata": {},
     "output_type": "execute_result"
    }
   ],
   "source": [
    "dftst.shape"
   ]
  },
  {
   "cell_type": "code",
   "execution_count": null,
   "metadata": {
    "scrolled": false
   },
   "outputs": [],
   "source": [
    "%%time\n",
    "dftst=prp_df(dftst, tm_max=tm_tst_max)"
   ]
  },
  {
   "cell_type": "code",
   "execution_count": null,
   "metadata": {},
   "outputs": [],
   "source": [
    "dftst.drop(columns=['u1id','u1u2'], inplace=True)\n",
    "cols_category=['twttyp', 'lang', 'langhour']\n",
    "dftst[cols_category]=dftst[cols_category].astype('category')"
   ]
  },
  {
   "cell_type": "markdown",
   "metadata": {},
   "source": [
    "## predict"
   ]
  },
  {
   "cell_type": "code",
   "execution_count": null,
   "metadata": {},
   "outputs": [],
   "source": [
    "%%time\n",
    "prdtst0 = bst.predict(dftst[cols_feat],num_iteration=bst.best_iteration)\n",
    "prdtst = calibration(prdtst0, train_pop, target_pop, sampled_train_pop, sampled_target_pop)"
   ]
  },
  {
   "cell_type": "code",
   "execution_count": null,
   "metadata": {},
   "outputs": [],
   "source": [
    "dfsub_ids = dftst[['twtid','u2id',]]\n",
    "dfsub = dfsub_ids.copy()\n",
    "dfsub['scr'] = prdtst\n",
    "dfsub.to_csv(f'{p_out}/{TGT}__{PRFX}.csv',index=False,header=False)"
   ]
  },
  {
   "cell_type": "code",
   "execution_count": null,
   "metadata": {},
   "outputs": [],
   "source": []
  },
  {
   "cell_type": "code",
   "execution_count": null,
   "metadata": {},
   "outputs": [],
   "source": []
  },
  {
   "cell_type": "code",
   "execution_count": null,
   "metadata": {},
   "outputs": [],
   "source": []
  },
  {
   "cell_type": "code",
   "execution_count": null,
   "metadata": {},
   "outputs": [],
   "source": []
  }
 ],
 "metadata": {
  "kernelspec": {
   "display_name": "rcss20",
   "language": "python",
   "name": "rcss20"
  },
  "language_info": {
   "codemirror_mode": {
    "name": "ipython",
    "version": 3
   },
   "file_extension": ".py",
   "mimetype": "text/x-python",
   "name": "python",
   "nbconvert_exporter": "python",
   "pygments_lexer": "ipython3",
   "version": "3.7.6"
  },
  "toc": {
   "base_numbering": 1,
   "nav_menu": {},
   "number_sections": true,
   "sideBar": true,
   "skip_h1_title": false,
   "title_cell": "Table of Contents",
   "title_sidebar": "Contents",
   "toc_cell": false,
   "toc_position": {},
   "toc_section_display": true,
   "toc_window_display": true
  }
 },
 "nbformat": 4,
 "nbformat_minor": 4
}
