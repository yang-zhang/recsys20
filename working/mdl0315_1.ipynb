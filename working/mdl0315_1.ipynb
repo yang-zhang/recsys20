{
 "cells": [
  {
   "cell_type": "markdown",
   "metadata": {},
   "source": [
    "- http://matthewrocklin.com/blog/work/2017/03/28/dask-xgboost\n",
    "- https://examples.dask.org/machine-learning/xgboost.html#Learn-more"
   ]
  },
  {
   "cell_type": "code",
   "execution_count": 1,
   "metadata": {},
   "outputs": [],
   "source": [
    "PRFX='0315_1'"
   ]
  },
  {
   "cell_type": "markdown",
   "metadata": {},
   "source": [
    "# setup"
   ]
  },
  {
   "cell_type": "code",
   "execution_count": 2,
   "metadata": {},
   "outputs": [
    {
     "name": "stdout",
     "output_type": "stream",
     "text": [
      "dask.__version__ 2.11.0\n"
     ]
    },
    {
     "name": "stderr",
     "output_type": "stream",
     "text": [
      "/home/ubuntu/anaconda3/envs/dask-tutorial/lib/python3.7/site-packages/dask/array/random.py:27: FutureWarning: dask.array.random.doc_wraps is deprecated and will be removed in a future version\n",
      "  FutureWarning,\n"
     ]
    }
   ],
   "source": [
    "from pathlib import Path\n",
    "import dask.dataframe as dd\n",
    "import dask.array as da\n",
    "import pandas as pd\n",
    "from dask_ml.model_selection import train_test_split\n",
    "import dask\n",
    "print('dask.__version__', dask.__version__)\n",
    "import xgboost\n",
    "import dask_xgboost\n",
    "from dask.distributed import Client\n",
    "import matplotlib.pyplot as plt\n",
    "from sklearn.metrics import accuracy_score, roc_curve, auc\n",
    "import glob\n",
    "import datetime\n",
    "def dtnow(): return datetime.datetime.now().strftime('%Y-%m-%d %H:%M:%S')\n",
    "\n",
    "\n",
    "HOME='/data/git/recsys20'\n",
    "p_in=f'{HOME}/input'\n",
    "p_out=f'{HOME}/output/{PRFX}'\n",
    "Path(p_out).mkdir(exist_ok=True, parents=True)\n",
    "\n",
    "cols=[\n",
    "'text_tokens',\n",
    "'hashtags',\n",
    "'tweet_id',\n",
    "'present_media',\n",
    "'present_links',\n",
    "'present_domains',\n",
    "'tweet_type',\n",
    "'language',\n",
    "'timestamp',\n",
    "\n",
    "'engaged_user_id',\n",
    "'engaged_follower_count',\n",
    "'engaged_following_count',\n",
    "'engaged_is_verified',\n",
    "'engaged_account_creation_time',\n",
    "\n",
    "'engaging_user_id',\n",
    "'engaging_follower_count',\n",
    "'engaging_following_count',\n",
    "'engaging_is_verified',\n",
    "'engaging_account_creation_time',\n",
    "\n",
    "'engagee_follows_engager',\n",
    "'reply_engagement_timestamp',\n",
    "'retweet_engagement_timestamp',\n",
    "'retweet_with_comment_engagement_timestamp',\n",
    "'like_engagement_timestamp',\n",
    "]\n",
    "\n",
    "cols_val = cols[:-4]\n",
    "\n",
    "tgts=['Retweet','Reply','Like','RTwCmnt',]\n",
    "cols_tgt_tmstmp=[\n",
    "    'retweet_engagement_timestamp',\n",
    "    'reply_engagement_timestamp',\n",
    "    'like_engagement_timestamp',\n",
    "    'retweet_with_comment_engagement_timestamp',\n",
    "]\n"
   ]
  },
  {
   "cell_type": "code",
   "execution_count": 3,
   "metadata": {},
   "outputs": [],
   "source": [
    "from sklearn.metrics import precision_recall_curve, auc, log_loss\n",
    "\n",
    "def compute_prauc(pred, gt):\n",
    "    prec, recall, thresh = precision_recall_curve(gt, pred)\n",
    "    prauc = auc(recall, prec)\n",
    "    return prauc\n",
    "\n",
    "def calculate_ctr(gt):\n",
    "    positive = len([x for x in gt if x == 1])\n",
    "    ctr = positive/float(len(gt))\n",
    "    return ctr\n",
    "\n",
    "def compute_rce(pred, gt):\n",
    "    cross_entropy = log_loss(gt, pred)\n",
    "    data_ctr = calculate_ctr(gt)\n",
    "    strawman_cross_entropy = log_loss(gt, [data_ctr for _ in range(len(gt))])\n",
    "    return (1.0 - cross_entropy/strawman_cross_entropy)*100.0"
   ]
  },
  {
   "cell_type": "markdown",
   "metadata": {},
   "source": [
    "# prepare data"
   ]
  },
  {
   "cell_type": "code",
   "execution_count": 4,
   "metadata": {},
   "outputs": [],
   "source": [
    "# (rcss20) ➜  recsys20 git:(master) ✗ wc -l input/trn.tsv\n",
    "#  148,075,238 data/trn.tsv\n",
    "# (rcss20) ➜  recsys20 git:(master) ✗ wc -l input/val.tsv\n",
    "#  15,127,684 data/val.tsv\n",
    "# !head -5000000 {p_in}/trn.tsv > {p_in}/trn5e6.tsv"
   ]
  },
  {
   "cell_type": "code",
   "execution_count": 5,
   "metadata": {},
   "outputs": [],
   "source": [
    "df=dd.read_csv(f'{p_in}/trn5e6.tsv',\n",
    "               sep='\\x01',\n",
    "               header=None,\n",
    "               names=cols,)"
   ]
  },
  {
   "cell_type": "code",
   "execution_count": 6,
   "metadata": {},
   "outputs": [],
   "source": [
    "ys=~df[cols_tgt_tmstmp].isna().to_dask_array(lengths=True)"
   ]
  },
  {
   "cell_type": "code",
   "execution_count": 7,
   "metadata": {},
   "outputs": [],
   "source": [
    "# df['len_toks']=df.text_tokens.apply(len, meta=('text_tokens', 'int64'))\n",
    "\n",
    "# # df.present_media.value_counts().compute()\n",
    "# # Photo                         182143\n",
    "# # Video                         108825\n",
    "# # Photo\\tPhoto                   41294\n",
    "# # Photo\\tPhoto\\tPhoto\\tPhoto     23275\n",
    "# # Photo\\tPhoto\\tPhoto            12932\n",
    "# # GIF                            10800\n",
    "\n",
    "# for media in ['Photo', 'Video', 'GIF']:\n",
    "#     df[f'has_media_{media}'] = df.present_media.fillna('').apply(lambda x: media in x, \n",
    "#                                                                  meta=('present_media', 'string'))\n",
    "\n",
    "# df['num_hashtags'] = df.hashtags.fillna('').apply(lambda x: len(x.split('\\t')) if len(x) else 0,\n",
    "#                                                   meta=('hashtags', 'string'))\n",
    "\n",
    "# df['num_links'] = df.present_links.fillna('').apply(lambda x: len(x.split('\\t')) if len(x) else 0,\n",
    "#                                                   meta=('hashtags', 'string'))\n",
    "\n",
    "# df['num_domains'] = df.present_domains.fillna('').apply(lambda x: len(x.split('\\t')) if len(x) else 0,\n",
    "#                                                   meta=('hashtags', 'string'))\n",
    "\n",
    "# df['tmdelta_engng_enged'] = df.engaging_account_creation_time - df.engaged_account_creation_time\n",
    "# df['tmdelta_enged_tweet'] = df.engaged_account_creation_time - df.timestamp\n",
    "# df['tmdelta_engng_tweet'] = df.engaging_account_creation_time - df.timestamp\n",
    "\n",
    "# Xnum=df[cols_num].to_dask_array(lengths=True)\n",
    "\n",
    "# cols_cat = [\n",
    "#     'tweet_type',\n",
    "# #     'language',\n",
    "# ]\n",
    "\n",
    "# cols_num = ['timestamp', 'engaged_follower_count', 'engaged_following_count',\n",
    "#             'engaged_is_verified', 'engaged_account_creation_time', 'engaging_follower_count',\n",
    "#             'engaging_following_count', 'engaging_is_verified',\n",
    "#             'engaging_account_creation_time', 'engagee_follows_engager',\n",
    "#             'len_toks', 'has_media_Photo', 'has_media_Video', 'has_media_GIF', \n",
    "#             'num_hashtags', 'num_links', 'num_domains', \n",
    "#             'tmdelta_engng_enged', 'tmdelta_enged_tweet','tmdelta_engng_tweet']\n",
    "\n",
    "# Xcat=dd.get_dummies(df[cols_cat].categorize()).to_dask_array(lengths=True)\n",
    "\n",
    "# X=da.concatenate([Xnum,Xcat,],axis=1)\n",
    "# X=X.rechunk({1: X.shape[1]})"
   ]
  },
  {
   "cell_type": "code",
   "execution_count": 8,
   "metadata": {},
   "outputs": [],
   "source": [
    "def makeX(df):\n",
    "    df['len_toks']=df.text_tokens.apply(len, meta=('text_tokens', 'int64'))\n",
    "    for media in ['Photo', 'Video', 'GIF']:\n",
    "        df[f'has_media_{media}'] = df.present_media.fillna('').apply(lambda x: media in x, \n",
    "                                                                     meta=('present_media', 'string'))\n",
    "    df['num_hashtags'] = df.hashtags.fillna('').apply(lambda x: len(x.split('\\t')) if len(x) else 0,\n",
    "                                                      meta=('hashtags', 'string'))\n",
    "    df['num_links'] = df.present_links.fillna('').apply(lambda x: len(x.split('\\t')) if len(x) else 0,\n",
    "                                                      meta=('hashtags', 'string'))\n",
    "    df['num_domains'] = df.present_domains.fillna('').apply(lambda x: len(x.split('\\t')) if len(x) else 0,\n",
    "                                                      meta=('hashtags', 'string'))\n",
    "    df['tmdelta_engng_enged'] = df.engaging_account_creation_time - df.engaged_account_creation_time\n",
    "    df['tmdelta_enged_tweet'] = df.engaged_account_creation_time - df.timestamp\n",
    "    df['tmdelta_engng_tweet'] = df.engaging_account_creation_time - df.timestamp\n",
    "    cols_cat0 = [\n",
    "        'tweet_type',\n",
    "#         'language',\n",
    "    ]\n",
    "    cols_num = ['timestamp', 'engaged_follower_count', 'engaged_following_count',\n",
    "                'engaged_is_verified', 'engaged_account_creation_time', 'engaging_follower_count',\n",
    "                'engaging_following_count', 'engaging_is_verified',\n",
    "                'engaging_account_creation_time', 'engagee_follows_engager',\n",
    "                'len_toks', 'has_media_Photo', 'has_media_Video', 'has_media_GIF', \n",
    "                'num_hashtags', 'num_links', 'num_domains', \n",
    "                'tmdelta_engng_enged', 'tmdelta_enged_tweet','tmdelta_engng_tweet']\n",
    "    df_cat = dd.get_dummies(df[cols_cat0].categorize())\n",
    "    cols_cat = list(df_cat.columns)\n",
    "    cols_feat = cols_num+cols_cat\n",
    "    Xcat=df_cat.to_dask_array(lengths=True)\n",
    "    Xnum=df[cols_num].to_dask_array(lengths=True)\n",
    "    X=da.concatenate([Xnum,Xcat],axis=1)\n",
    "    X=X.rechunk({1: X.shape[1]})\n",
    "    return X, cols_feat"
   ]
  },
  {
   "cell_type": "code",
   "execution_count": 9,
   "metadata": {},
   "outputs": [],
   "source": [
    "X, cols_feat = makeX(df)"
   ]
  },
  {
   "cell_type": "code",
   "execution_count": 10,
   "metadata": {},
   "outputs": [],
   "source": [
    "Xtrn, Xval, ystrn, ysval = train_test_split(X, ys, test_size=0.15)"
   ]
  },
  {
   "cell_type": "markdown",
   "metadata": {},
   "source": [
    "# train"
   ]
  },
  {
   "cell_type": "code",
   "execution_count": 11,
   "metadata": {},
   "outputs": [
    {
     "name": "stdout",
     "output_type": "stream",
     "text": [
      "2020-03-15 20:07:28 Retweet\n",
      "2020-03-15 20:11:55 Reply\n",
      "2020-03-15 20:16:25 Like\n",
      "2020-03-15 20:21:38 RTwCmnt\n"
     ]
    }
   ],
   "source": [
    "client = Client(n_workers=6, threads_per_worker=1)\n",
    "\n",
    "params = {'objective': 'binary:logistic'}\n",
    "\n",
    "tgt2bst={}\n",
    "tgt2col2fscr={}\n",
    "for i,tgt in enumerate(tgts):\n",
    "    bst = dask_xgboost.train(client, params,\n",
    "                             Xtrn, ystrn[:,i],\n",
    "                             num_boost_round=20)\n",
    "    tgt2bst[tgt]=bst\n",
    "    print(dtnow(), tgt)\n",
    "    \n",
    "    fi2col=dict(zip(bst.feature_names, cols_feat))\n",
    "    col2fi=dict(zip(cols_feat, bst.feature_names))\n",
    "    fi2fscr=bst.get_fscore()\n",
    "    col2fscr={col:fi2fscr.get(fi,0) for col,fi in col2fi.items()}\n",
    "    tgt2col2fscr[tgt]=col2fscr"
   ]
  },
  {
   "cell_type": "code",
   "execution_count": 12,
   "metadata": {
    "scrolled": false
   },
   "outputs": [
    {
     "name": "stdout",
     "output_type": "stream",
     "text": [
      "Retweet\n"
     ]
    },
    {
     "data": {
      "text/html": [
       "<div>\n",
       "<style scoped>\n",
       "    .dataframe tbody tr th:only-of-type {\n",
       "        vertical-align: middle;\n",
       "    }\n",
       "\n",
       "    .dataframe tbody tr th {\n",
       "        vertical-align: top;\n",
       "    }\n",
       "\n",
       "    .dataframe thead th {\n",
       "        text-align: right;\n",
       "    }\n",
       "</style>\n",
       "<table border=\"1\" class=\"dataframe\">\n",
       "  <thead>\n",
       "    <tr style=\"text-align: right;\">\n",
       "      <th></th>\n",
       "      <th>0</th>\n",
       "      <th>1</th>\n",
       "    </tr>\n",
       "  </thead>\n",
       "  <tbody>\n",
       "    <tr>\n",
       "      <th>1</th>\n",
       "      <td>engaged_follower_count</td>\n",
       "      <td>169</td>\n",
       "    </tr>\n",
       "    <tr>\n",
       "      <th>5</th>\n",
       "      <td>engaging_follower_count</td>\n",
       "      <td>151</td>\n",
       "    </tr>\n",
       "    <tr>\n",
       "      <th>10</th>\n",
       "      <td>len_toks</td>\n",
       "      <td>142</td>\n",
       "    </tr>\n",
       "    <tr>\n",
       "      <th>6</th>\n",
       "      <td>engaging_following_count</td>\n",
       "      <td>129</td>\n",
       "    </tr>\n",
       "    <tr>\n",
       "      <th>2</th>\n",
       "      <td>engaged_following_count</td>\n",
       "      <td>97</td>\n",
       "    </tr>\n",
       "    <tr>\n",
       "      <th>19</th>\n",
       "      <td>tmdelta_engng_tweet</td>\n",
       "      <td>78</td>\n",
       "    </tr>\n",
       "    <tr>\n",
       "      <th>14</th>\n",
       "      <td>num_hashtags</td>\n",
       "      <td>74</td>\n",
       "    </tr>\n",
       "    <tr>\n",
       "      <th>8</th>\n",
       "      <td>engaging_account_creation_time</td>\n",
       "      <td>70</td>\n",
       "    </tr>\n",
       "    <tr>\n",
       "      <th>21</th>\n",
       "      <td>tweet_type_Retweet</td>\n",
       "      <td>69</td>\n",
       "    </tr>\n",
       "    <tr>\n",
       "      <th>15</th>\n",
       "      <td>num_links</td>\n",
       "      <td>45</td>\n",
       "    </tr>\n",
       "    <tr>\n",
       "      <th>4</th>\n",
       "      <td>engaged_account_creation_time</td>\n",
       "      <td>38</td>\n",
       "    </tr>\n",
       "    <tr>\n",
       "      <th>0</th>\n",
       "      <td>timestamp</td>\n",
       "      <td>37</td>\n",
       "    </tr>\n",
       "    <tr>\n",
       "      <th>18</th>\n",
       "      <td>tmdelta_enged_tweet</td>\n",
       "      <td>31</td>\n",
       "    </tr>\n",
       "    <tr>\n",
       "      <th>17</th>\n",
       "      <td>tmdelta_engng_enged</td>\n",
       "      <td>29</td>\n",
       "    </tr>\n",
       "    <tr>\n",
       "      <th>20</th>\n",
       "      <td>tweet_type_TopLevel</td>\n",
       "      <td>26</td>\n",
       "    </tr>\n",
       "    <tr>\n",
       "      <th>9</th>\n",
       "      <td>engagee_follows_engager</td>\n",
       "      <td>26</td>\n",
       "    </tr>\n",
       "    <tr>\n",
       "      <th>3</th>\n",
       "      <td>engaged_is_verified</td>\n",
       "      <td>25</td>\n",
       "    </tr>\n",
       "    <tr>\n",
       "      <th>11</th>\n",
       "      <td>has_media_Photo</td>\n",
       "      <td>13</td>\n",
       "    </tr>\n",
       "    <tr>\n",
       "      <th>22</th>\n",
       "      <td>tweet_type_Quote</td>\n",
       "      <td>8</td>\n",
       "    </tr>\n",
       "    <tr>\n",
       "      <th>7</th>\n",
       "      <td>engaging_is_verified</td>\n",
       "      <td>3</td>\n",
       "    </tr>\n",
       "    <tr>\n",
       "      <th>16</th>\n",
       "      <td>num_domains</td>\n",
       "      <td>0</td>\n",
       "    </tr>\n",
       "    <tr>\n",
       "      <th>13</th>\n",
       "      <td>has_media_GIF</td>\n",
       "      <td>0</td>\n",
       "    </tr>\n",
       "    <tr>\n",
       "      <th>12</th>\n",
       "      <td>has_media_Video</td>\n",
       "      <td>0</td>\n",
       "    </tr>\n",
       "  </tbody>\n",
       "</table>\n",
       "</div>"
      ],
      "text/plain": [
       "                                 0    1\n",
       "1           engaged_follower_count  169\n",
       "5          engaging_follower_count  151\n",
       "10                        len_toks  142\n",
       "6         engaging_following_count  129\n",
       "2          engaged_following_count   97\n",
       "19             tmdelta_engng_tweet   78\n",
       "14                    num_hashtags   74\n",
       "8   engaging_account_creation_time   70\n",
       "21              tweet_type_Retweet   69\n",
       "15                       num_links   45\n",
       "4    engaged_account_creation_time   38\n",
       "0                        timestamp   37\n",
       "18             tmdelta_enged_tweet   31\n",
       "17             tmdelta_engng_enged   29\n",
       "20             tweet_type_TopLevel   26\n",
       "9          engagee_follows_engager   26\n",
       "3              engaged_is_verified   25\n",
       "11                 has_media_Photo   13\n",
       "22                tweet_type_Quote    8\n",
       "7             engaging_is_verified    3\n",
       "16                     num_domains    0\n",
       "13                   has_media_GIF    0\n",
       "12                 has_media_Video    0"
      ]
     },
     "metadata": {},
     "output_type": "display_data"
    },
    {
     "name": "stdout",
     "output_type": "stream",
     "text": [
      "Reply\n"
     ]
    },
    {
     "data": {
      "text/html": [
       "<div>\n",
       "<style scoped>\n",
       "    .dataframe tbody tr th:only-of-type {\n",
       "        vertical-align: middle;\n",
       "    }\n",
       "\n",
       "    .dataframe tbody tr th {\n",
       "        vertical-align: top;\n",
       "    }\n",
       "\n",
       "    .dataframe thead th {\n",
       "        text-align: right;\n",
       "    }\n",
       "</style>\n",
       "<table border=\"1\" class=\"dataframe\">\n",
       "  <thead>\n",
       "    <tr style=\"text-align: right;\">\n",
       "      <th></th>\n",
       "      <th>0</th>\n",
       "      <th>1</th>\n",
       "    </tr>\n",
       "  </thead>\n",
       "  <tbody>\n",
       "    <tr>\n",
       "      <th>6</th>\n",
       "      <td>engaging_following_count</td>\n",
       "      <td>139</td>\n",
       "    </tr>\n",
       "    <tr>\n",
       "      <th>2</th>\n",
       "      <td>engaged_following_count</td>\n",
       "      <td>132</td>\n",
       "    </tr>\n",
       "    <tr>\n",
       "      <th>5</th>\n",
       "      <td>engaging_follower_count</td>\n",
       "      <td>124</td>\n",
       "    </tr>\n",
       "    <tr>\n",
       "      <th>19</th>\n",
       "      <td>tmdelta_engng_tweet</td>\n",
       "      <td>113</td>\n",
       "    </tr>\n",
       "    <tr>\n",
       "      <th>1</th>\n",
       "      <td>engaged_follower_count</td>\n",
       "      <td>107</td>\n",
       "    </tr>\n",
       "    <tr>\n",
       "      <th>8</th>\n",
       "      <td>engaging_account_creation_time</td>\n",
       "      <td>104</td>\n",
       "    </tr>\n",
       "    <tr>\n",
       "      <th>10</th>\n",
       "      <td>len_toks</td>\n",
       "      <td>89</td>\n",
       "    </tr>\n",
       "    <tr>\n",
       "      <th>14</th>\n",
       "      <td>num_hashtags</td>\n",
       "      <td>83</td>\n",
       "    </tr>\n",
       "    <tr>\n",
       "      <th>4</th>\n",
       "      <td>engaged_account_creation_time</td>\n",
       "      <td>66</td>\n",
       "    </tr>\n",
       "    <tr>\n",
       "      <th>17</th>\n",
       "      <td>tmdelta_engng_enged</td>\n",
       "      <td>58</td>\n",
       "    </tr>\n",
       "    <tr>\n",
       "      <th>15</th>\n",
       "      <td>num_links</td>\n",
       "      <td>50</td>\n",
       "    </tr>\n",
       "    <tr>\n",
       "      <th>18</th>\n",
       "      <td>tmdelta_enged_tweet</td>\n",
       "      <td>42</td>\n",
       "    </tr>\n",
       "    <tr>\n",
       "      <th>0</th>\n",
       "      <td>timestamp</td>\n",
       "      <td>41</td>\n",
       "    </tr>\n",
       "    <tr>\n",
       "      <th>21</th>\n",
       "      <td>tweet_type_Retweet</td>\n",
       "      <td>20</td>\n",
       "    </tr>\n",
       "    <tr>\n",
       "      <th>9</th>\n",
       "      <td>engagee_follows_engager</td>\n",
       "      <td>18</td>\n",
       "    </tr>\n",
       "    <tr>\n",
       "      <th>20</th>\n",
       "      <td>tweet_type_TopLevel</td>\n",
       "      <td>14</td>\n",
       "    </tr>\n",
       "    <tr>\n",
       "      <th>3</th>\n",
       "      <td>engaged_is_verified</td>\n",
       "      <td>8</td>\n",
       "    </tr>\n",
       "    <tr>\n",
       "      <th>11</th>\n",
       "      <td>has_media_Photo</td>\n",
       "      <td>1</td>\n",
       "    </tr>\n",
       "    <tr>\n",
       "      <th>7</th>\n",
       "      <td>engaging_is_verified</td>\n",
       "      <td>1</td>\n",
       "    </tr>\n",
       "    <tr>\n",
       "      <th>16</th>\n",
       "      <td>num_domains</td>\n",
       "      <td>0</td>\n",
       "    </tr>\n",
       "    <tr>\n",
       "      <th>13</th>\n",
       "      <td>has_media_GIF</td>\n",
       "      <td>0</td>\n",
       "    </tr>\n",
       "    <tr>\n",
       "      <th>12</th>\n",
       "      <td>has_media_Video</td>\n",
       "      <td>0</td>\n",
       "    </tr>\n",
       "    <tr>\n",
       "      <th>22</th>\n",
       "      <td>tweet_type_Quote</td>\n",
       "      <td>0</td>\n",
       "    </tr>\n",
       "  </tbody>\n",
       "</table>\n",
       "</div>"
      ],
      "text/plain": [
       "                                 0    1\n",
       "6         engaging_following_count  139\n",
       "2          engaged_following_count  132\n",
       "5          engaging_follower_count  124\n",
       "19             tmdelta_engng_tweet  113\n",
       "1           engaged_follower_count  107\n",
       "8   engaging_account_creation_time  104\n",
       "10                        len_toks   89\n",
       "14                    num_hashtags   83\n",
       "4    engaged_account_creation_time   66\n",
       "17             tmdelta_engng_enged   58\n",
       "15                       num_links   50\n",
       "18             tmdelta_enged_tweet   42\n",
       "0                        timestamp   41\n",
       "21              tweet_type_Retweet   20\n",
       "9          engagee_follows_engager   18\n",
       "20             tweet_type_TopLevel   14\n",
       "3              engaged_is_verified    8\n",
       "11                 has_media_Photo    1\n",
       "7             engaging_is_verified    1\n",
       "16                     num_domains    0\n",
       "13                   has_media_GIF    0\n",
       "12                 has_media_Video    0\n",
       "22                tweet_type_Quote    0"
      ]
     },
     "metadata": {},
     "output_type": "display_data"
    },
    {
     "name": "stdout",
     "output_type": "stream",
     "text": [
      "Like\n"
     ]
    },
    {
     "data": {
      "text/html": [
       "<div>\n",
       "<style scoped>\n",
       "    .dataframe tbody tr th:only-of-type {\n",
       "        vertical-align: middle;\n",
       "    }\n",
       "\n",
       "    .dataframe tbody tr th {\n",
       "        vertical-align: top;\n",
       "    }\n",
       "\n",
       "    .dataframe thead th {\n",
       "        text-align: right;\n",
       "    }\n",
       "</style>\n",
       "<table border=\"1\" class=\"dataframe\">\n",
       "  <thead>\n",
       "    <tr style=\"text-align: right;\">\n",
       "      <th></th>\n",
       "      <th>0</th>\n",
       "      <th>1</th>\n",
       "    </tr>\n",
       "  </thead>\n",
       "  <tbody>\n",
       "    <tr>\n",
       "      <th>1</th>\n",
       "      <td>engaged_follower_count</td>\n",
       "      <td>146</td>\n",
       "    </tr>\n",
       "    <tr>\n",
       "      <th>6</th>\n",
       "      <td>engaging_following_count</td>\n",
       "      <td>130</td>\n",
       "    </tr>\n",
       "    <tr>\n",
       "      <th>10</th>\n",
       "      <td>len_toks</td>\n",
       "      <td>124</td>\n",
       "    </tr>\n",
       "    <tr>\n",
       "      <th>2</th>\n",
       "      <td>engaged_following_count</td>\n",
       "      <td>120</td>\n",
       "    </tr>\n",
       "    <tr>\n",
       "      <th>5</th>\n",
       "      <td>engaging_follower_count</td>\n",
       "      <td>117</td>\n",
       "    </tr>\n",
       "    <tr>\n",
       "      <th>8</th>\n",
       "      <td>engaging_account_creation_time</td>\n",
       "      <td>93</td>\n",
       "    </tr>\n",
       "    <tr>\n",
       "      <th>19</th>\n",
       "      <td>tmdelta_engng_tweet</td>\n",
       "      <td>92</td>\n",
       "    </tr>\n",
       "    <tr>\n",
       "      <th>0</th>\n",
       "      <td>timestamp</td>\n",
       "      <td>71</td>\n",
       "    </tr>\n",
       "    <tr>\n",
       "      <th>4</th>\n",
       "      <td>engaged_account_creation_time</td>\n",
       "      <td>57</td>\n",
       "    </tr>\n",
       "    <tr>\n",
       "      <th>14</th>\n",
       "      <td>num_hashtags</td>\n",
       "      <td>53</td>\n",
       "    </tr>\n",
       "    <tr>\n",
       "      <th>18</th>\n",
       "      <td>tmdelta_enged_tweet</td>\n",
       "      <td>46</td>\n",
       "    </tr>\n",
       "    <tr>\n",
       "      <th>9</th>\n",
       "      <td>engagee_follows_engager</td>\n",
       "      <td>37</td>\n",
       "    </tr>\n",
       "    <tr>\n",
       "      <th>21</th>\n",
       "      <td>tweet_type_Retweet</td>\n",
       "      <td>35</td>\n",
       "    </tr>\n",
       "    <tr>\n",
       "      <th>17</th>\n",
       "      <td>tmdelta_engng_enged</td>\n",
       "      <td>32</td>\n",
       "    </tr>\n",
       "    <tr>\n",
       "      <th>15</th>\n",
       "      <td>num_links</td>\n",
       "      <td>31</td>\n",
       "    </tr>\n",
       "    <tr>\n",
       "      <th>3</th>\n",
       "      <td>engaged_is_verified</td>\n",
       "      <td>30</td>\n",
       "    </tr>\n",
       "    <tr>\n",
       "      <th>20</th>\n",
       "      <td>tweet_type_TopLevel</td>\n",
       "      <td>27</td>\n",
       "    </tr>\n",
       "    <tr>\n",
       "      <th>22</th>\n",
       "      <td>tweet_type_Quote</td>\n",
       "      <td>10</td>\n",
       "    </tr>\n",
       "    <tr>\n",
       "      <th>7</th>\n",
       "      <td>engaging_is_verified</td>\n",
       "      <td>3</td>\n",
       "    </tr>\n",
       "    <tr>\n",
       "      <th>11</th>\n",
       "      <td>has_media_Photo</td>\n",
       "      <td>3</td>\n",
       "    </tr>\n",
       "    <tr>\n",
       "      <th>16</th>\n",
       "      <td>num_domains</td>\n",
       "      <td>0</td>\n",
       "    </tr>\n",
       "    <tr>\n",
       "      <th>13</th>\n",
       "      <td>has_media_GIF</td>\n",
       "      <td>0</td>\n",
       "    </tr>\n",
       "    <tr>\n",
       "      <th>12</th>\n",
       "      <td>has_media_Video</td>\n",
       "      <td>0</td>\n",
       "    </tr>\n",
       "  </tbody>\n",
       "</table>\n",
       "</div>"
      ],
      "text/plain": [
       "                                 0    1\n",
       "1           engaged_follower_count  146\n",
       "6         engaging_following_count  130\n",
       "10                        len_toks  124\n",
       "2          engaged_following_count  120\n",
       "5          engaging_follower_count  117\n",
       "8   engaging_account_creation_time   93\n",
       "19             tmdelta_engng_tweet   92\n",
       "0                        timestamp   71\n",
       "4    engaged_account_creation_time   57\n",
       "14                    num_hashtags   53\n",
       "18             tmdelta_enged_tweet   46\n",
       "9          engagee_follows_engager   37\n",
       "21              tweet_type_Retweet   35\n",
       "17             tmdelta_engng_enged   32\n",
       "15                       num_links   31\n",
       "3              engaged_is_verified   30\n",
       "20             tweet_type_TopLevel   27\n",
       "22                tweet_type_Quote   10\n",
       "7             engaging_is_verified    3\n",
       "11                 has_media_Photo    3\n",
       "16                     num_domains    0\n",
       "13                   has_media_GIF    0\n",
       "12                 has_media_Video    0"
      ]
     },
     "metadata": {},
     "output_type": "display_data"
    },
    {
     "name": "stdout",
     "output_type": "stream",
     "text": [
      "RTwCmnt\n"
     ]
    },
    {
     "data": {
      "text/html": [
       "<div>\n",
       "<style scoped>\n",
       "    .dataframe tbody tr th:only-of-type {\n",
       "        vertical-align: middle;\n",
       "    }\n",
       "\n",
       "    .dataframe tbody tr th {\n",
       "        vertical-align: top;\n",
       "    }\n",
       "\n",
       "    .dataframe thead th {\n",
       "        text-align: right;\n",
       "    }\n",
       "</style>\n",
       "<table border=\"1\" class=\"dataframe\">\n",
       "  <thead>\n",
       "    <tr style=\"text-align: right;\">\n",
       "      <th></th>\n",
       "      <th>0</th>\n",
       "      <th>1</th>\n",
       "    </tr>\n",
       "  </thead>\n",
       "  <tbody>\n",
       "    <tr>\n",
       "      <th>5</th>\n",
       "      <td>engaging_follower_count</td>\n",
       "      <td>168</td>\n",
       "    </tr>\n",
       "    <tr>\n",
       "      <th>10</th>\n",
       "      <td>len_toks</td>\n",
       "      <td>126</td>\n",
       "    </tr>\n",
       "    <tr>\n",
       "      <th>19</th>\n",
       "      <td>tmdelta_engng_tweet</td>\n",
       "      <td>116</td>\n",
       "    </tr>\n",
       "    <tr>\n",
       "      <th>8</th>\n",
       "      <td>engaging_account_creation_time</td>\n",
       "      <td>113</td>\n",
       "    </tr>\n",
       "    <tr>\n",
       "      <th>1</th>\n",
       "      <td>engaged_follower_count</td>\n",
       "      <td>94</td>\n",
       "    </tr>\n",
       "    <tr>\n",
       "      <th>6</th>\n",
       "      <td>engaging_following_count</td>\n",
       "      <td>87</td>\n",
       "    </tr>\n",
       "    <tr>\n",
       "      <th>2</th>\n",
       "      <td>engaged_following_count</td>\n",
       "      <td>84</td>\n",
       "    </tr>\n",
       "    <tr>\n",
       "      <th>20</th>\n",
       "      <td>tweet_type_TopLevel</td>\n",
       "      <td>49</td>\n",
       "    </tr>\n",
       "    <tr>\n",
       "      <th>9</th>\n",
       "      <td>engagee_follows_engager</td>\n",
       "      <td>48</td>\n",
       "    </tr>\n",
       "    <tr>\n",
       "      <th>17</th>\n",
       "      <td>tmdelta_engng_enged</td>\n",
       "      <td>45</td>\n",
       "    </tr>\n",
       "    <tr>\n",
       "      <th>21</th>\n",
       "      <td>tweet_type_Retweet</td>\n",
       "      <td>40</td>\n",
       "    </tr>\n",
       "    <tr>\n",
       "      <th>4</th>\n",
       "      <td>engaged_account_creation_time</td>\n",
       "      <td>36</td>\n",
       "    </tr>\n",
       "    <tr>\n",
       "      <th>0</th>\n",
       "      <td>timestamp</td>\n",
       "      <td>30</td>\n",
       "    </tr>\n",
       "    <tr>\n",
       "      <th>18</th>\n",
       "      <td>tmdelta_enged_tweet</td>\n",
       "      <td>26</td>\n",
       "    </tr>\n",
       "    <tr>\n",
       "      <th>14</th>\n",
       "      <td>num_hashtags</td>\n",
       "      <td>26</td>\n",
       "    </tr>\n",
       "    <tr>\n",
       "      <th>22</th>\n",
       "      <td>tweet_type_Quote</td>\n",
       "      <td>23</td>\n",
       "    </tr>\n",
       "    <tr>\n",
       "      <th>15</th>\n",
       "      <td>num_links</td>\n",
       "      <td>9</td>\n",
       "    </tr>\n",
       "    <tr>\n",
       "      <th>3</th>\n",
       "      <td>engaged_is_verified</td>\n",
       "      <td>7</td>\n",
       "    </tr>\n",
       "    <tr>\n",
       "      <th>11</th>\n",
       "      <td>has_media_Photo</td>\n",
       "      <td>1</td>\n",
       "    </tr>\n",
       "    <tr>\n",
       "      <th>16</th>\n",
       "      <td>num_domains</td>\n",
       "      <td>0</td>\n",
       "    </tr>\n",
       "    <tr>\n",
       "      <th>13</th>\n",
       "      <td>has_media_GIF</td>\n",
       "      <td>0</td>\n",
       "    </tr>\n",
       "    <tr>\n",
       "      <th>12</th>\n",
       "      <td>has_media_Video</td>\n",
       "      <td>0</td>\n",
       "    </tr>\n",
       "    <tr>\n",
       "      <th>7</th>\n",
       "      <td>engaging_is_verified</td>\n",
       "      <td>0</td>\n",
       "    </tr>\n",
       "  </tbody>\n",
       "</table>\n",
       "</div>"
      ],
      "text/plain": [
       "                                 0    1\n",
       "5          engaging_follower_count  168\n",
       "10                        len_toks  126\n",
       "19             tmdelta_engng_tweet  116\n",
       "8   engaging_account_creation_time  113\n",
       "1           engaged_follower_count   94\n",
       "6         engaging_following_count   87\n",
       "2          engaged_following_count   84\n",
       "20             tweet_type_TopLevel   49\n",
       "9          engagee_follows_engager   48\n",
       "17             tmdelta_engng_enged   45\n",
       "21              tweet_type_Retweet   40\n",
       "4    engaged_account_creation_time   36\n",
       "0                        timestamp   30\n",
       "18             tmdelta_enged_tweet   26\n",
       "14                    num_hashtags   26\n",
       "22                tweet_type_Quote   23\n",
       "15                       num_links    9\n",
       "3              engaged_is_verified    7\n",
       "11                 has_media_Photo    1\n",
       "16                     num_domains    0\n",
       "13                   has_media_GIF    0\n",
       "12                 has_media_Video    0\n",
       "7             engaging_is_verified    0"
      ]
     },
     "metadata": {},
     "output_type": "display_data"
    }
   ],
   "source": [
    "def show_feat_importance(bst):\n",
    "    ax = xgboost.plot_importance(bst, height=0.8, max_num_features=9)\n",
    "    ax.grid(False, axis=\"y\")\n",
    "    ax.set_title('Estimated feature importance')\n",
    "    plt.show()\n",
    "\n",
    "for i,tgt in enumerate(tgts):\n",
    "    print(tgt)\n",
    "#     show_feat_importance(tgt2bst[tgt])\n",
    "    col2fscr=tgt2col2fscr[tgt]\n",
    "    display(pd.DataFrame(col2fscr.items()).sort_values(1, ascending=False))"
   ]
  },
  {
   "cell_type": "markdown",
   "metadata": {},
   "source": [
    "# validate"
   ]
  },
  {
   "cell_type": "code",
   "execution_count": 13,
   "metadata": {},
   "outputs": [
    {
     "name": "stdout",
     "output_type": "stream",
     "text": [
      "2020-03-15 20:21:39 Retweet\n",
      "2020-03-15 20:22:24 Reply\n",
      "2020-03-15 20:23:09 Like\n",
      "2020-03-15 20:23:54 RTwCmnt\n"
     ]
    }
   ],
   "source": [
    "tgt2yval={}\n",
    "tgt2prdval={}\n",
    "for i,tgt in enumerate(tgts):\n",
    "    print(dtnow(), tgt)\n",
    "    prdval = dask_xgboost.predict(client, tgt2bst[tgt], Xval).persist()\n",
    "    yval, prdval = dask.compute(ysval[:,i], prdval)\n",
    "    tgt2yval[tgt]=yval\n",
    "    tgt2prdval[tgt]=prdval"
   ]
  },
  {
   "cell_type": "code",
   "execution_count": 14,
   "metadata": {},
   "outputs": [],
   "source": [
    "def show_roc(prd,y):\n",
    "    fpr, tpr, _ = roc_curve(y,prd)\n",
    "    fig, ax = plt.subplots(figsize=(5, 5))\n",
    "    ax.plot(fpr, tpr, lw=3,\n",
    "            label='ROC Curve (area = {:.2f})'.format(auc(fpr, tpr)))\n",
    "    ax.plot([0, 1], [0, 1], 'k--', lw=2)\n",
    "    ax.set(\n",
    "        xlim=(0, 1),\n",
    "        ylim=(0, 1),\n",
    "        title=\"ROC Curve\",\n",
    "        xlabel=\"False Positive Rate\",\n",
    "        ylabel=\"True Positive Rate\",\n",
    "    )\n",
    "    ax.legend();\n",
    "    plt.show()"
   ]
  },
  {
   "cell_type": "code",
   "execution_count": 15,
   "metadata": {},
   "outputs": [
    {
     "name": "stdout",
     "output_type": "stream",
     "text": [
      "Retweet\n",
      "auc: 0.24401550210369347\n",
      "rce: 7.525407590897526\n"
     ]
    },
    {
     "data": {
      "image/png": "[encoded data removed]",
      "text/plain": [
       "<Figure size 360x360 with 1 Axes>"
      ]
     },
     "metadata": {
      "needs_background": "light"
     },
     "output_type": "display_data"
    },
    {
     "name": "stdout",
     "output_type": "stream",
     "text": [
      "Reply\n",
      "auc: 0.08205237421191312\n",
      "rce: 9.377266383770078\n"
     ]
    },
    {
     "data": {
      "image/png": "[encoded data removed]",
      "text/plain": [
       "<Figure size 360x360 with 1 Axes>"
      ]
     },
     "metadata": {
      "needs_background": "light"
     },
     "output_type": "display_data"
    },
    {
     "name": "stdout",
     "output_type": "stream",
     "text": [
      "Like\n",
      "auc: 0.6536521112975558\n",
      "rce: 10.802903473488112\n"
     ]
    },
    {
     "data": {
      "image/png": "[encoded data removed]",
      "text/plain": [
       "<Figure size 360x360 with 1 Axes>"
      ]
     },
     "metadata": {
      "needs_background": "light"
     },
     "output_type": "display_data"
    },
    {
     "name": "stdout",
     "output_type": "stream",
     "text": [
      "RTwCmnt\n",
      "auc: 0.01512354010939435\n",
      "rce: 2.741292522043526\n"
     ]
    },
    {
     "data": {
      "image/png": "[encoded data removed]",
      "text/plain": [
       "<Figure size 360x360 with 1 Axes>"
      ]
     },
     "metadata": {
      "needs_background": "light"
     },
     "output_type": "display_data"
    }
   ],
   "source": [
    "tgt2auc={}\n",
    "tgt2rce={}\n",
    "for i,tgt in enumerate(tgts):\n",
    "    print(tgt)\n",
    "    yval = tgt2yval[tgt]\n",
    "    prdval = tgt2prdval[tgt]\n",
    "    scr_auc=compute_prauc(prdval, yval)\n",
    "    scr_rce=compute_rce(prdval, yval)\n",
    "    tgt2auc[tgt]=scr_auc\n",
    "    tgt2rce[tgt]=scr_rce\n",
    "    print('auc:',scr_auc)\n",
    "    print('rce:', scr_rce)\n",
    "    show_roc(prdval, yval)"
   ]
  },
  {
   "cell_type": "code",
   "execution_count": 16,
   "metadata": {},
   "outputs": [],
   "source": [
    "lst=[]\n",
    "for tgt in ['Retweet','Reply','Like','RTwCmnt',]:\n",
    "    lst+=[(f'PRAUC {tgt}',tgt2auc[tgt]),\n",
    "          (f'RCE {tgt}',tgt2rce[tgt])]"
   ]
  },
  {
   "cell_type": "code",
   "execution_count": 17,
   "metadata": {},
   "outputs": [
    {
     "data": {
      "text/html": [
       "<div>\n",
       "<style scoped>\n",
       "    .dataframe tbody tr th:only-of-type {\n",
       "        vertical-align: middle;\n",
       "    }\n",
       "\n",
       "    .dataframe tbody tr th {\n",
       "        vertical-align: top;\n",
       "    }\n",
       "\n",
       "    .dataframe thead th {\n",
       "        text-align: right;\n",
       "    }\n",
       "</style>\n",
       "<table border=\"1\" class=\"dataframe\">\n",
       "  <thead>\n",
       "    <tr style=\"text-align: right;\">\n",
       "      <th></th>\n",
       "      <th>0</th>\n",
       "      <th>1</th>\n",
       "      <th>2</th>\n",
       "      <th>3</th>\n",
       "      <th>4</th>\n",
       "      <th>5</th>\n",
       "      <th>6</th>\n",
       "      <th>7</th>\n",
       "    </tr>\n",
       "  </thead>\n",
       "  <tbody>\n",
       "    <tr>\n",
       "      <th>0</th>\n",
       "      <td>PRAUC Retweet</td>\n",
       "      <td>RCE Retweet</td>\n",
       "      <td>PRAUC Reply</td>\n",
       "      <td>RCE Reply</td>\n",
       "      <td>PRAUC Like</td>\n",
       "      <td>RCE Like</td>\n",
       "      <td>PRAUC RTwCmnt</td>\n",
       "      <td>RCE RTwCmnt</td>\n",
       "    </tr>\n",
       "    <tr>\n",
       "      <th>1</th>\n",
       "      <td>0.244016</td>\n",
       "      <td>7.52541</td>\n",
       "      <td>0.0820524</td>\n",
       "      <td>9.37727</td>\n",
       "      <td>0.653652</td>\n",
       "      <td>10.8029</td>\n",
       "      <td>0.0151235</td>\n",
       "      <td>2.74129</td>\n",
       "    </tr>\n",
       "  </tbody>\n",
       "</table>\n",
       "</div>"
      ],
      "text/plain": [
       "               0            1            2          3           4         5  \\\n",
       "0  PRAUC Retweet  RCE Retweet  PRAUC Reply  RCE Reply  PRAUC Like  RCE Like   \n",
       "1       0.244016      7.52541    0.0820524    9.37727    0.653652   10.8029   \n",
       "\n",
       "               6            7  \n",
       "0  PRAUC RTwCmnt  RCE RTwCmnt  \n",
       "1      0.0151235      2.74129  "
      ]
     },
     "execution_count": 17,
     "metadata": {},
     "output_type": "execute_result"
    }
   ],
   "source": [
    "pd.DataFrame(lst).T"
   ]
  },
  {
   "cell_type": "markdown",
   "metadata": {},
   "source": [
    "# infer"
   ]
  },
  {
   "cell_type": "code",
   "execution_count": 18,
   "metadata": {},
   "outputs": [],
   "source": [
    "# !head -1000000 {p_in}/val.tsv > {p_in}/val1e6.tsv"
   ]
  },
  {
   "cell_type": "code",
   "execution_count": 19,
   "metadata": {},
   "outputs": [],
   "source": [
    "dftst=dd.read_csv(f'{p_in}/val.tsv',\n",
    "                  sep='\\x01',\n",
    "               header=None,\n",
    "               names=cols_val,\n",
    "               encoding='utf8')"
   ]
  },
  {
   "cell_type": "code",
   "execution_count": 20,
   "metadata": {},
   "outputs": [
    {
     "name": "stdout",
     "output_type": "stream",
     "text": [
      "CPU times: user 28.2 s, sys: 3.2 s, total: 31.4 s\n",
      "Wall time: 3min 36s\n"
     ]
    }
   ],
   "source": [
    "%%time\n",
    "Xtst, cols_feat = makeX(dftst)"
   ]
  },
  {
   "cell_type": "code",
   "execution_count": 21,
   "metadata": {},
   "outputs": [
    {
     "name": "stdout",
     "output_type": "stream",
     "text": [
      "CPU times: user 20.2 ms, sys: 8.25 ms, total: 28.5 ms\n",
      "Wall time: 25.5 ms\n"
     ]
    }
   ],
   "source": [
    "%%time\n",
    "tgt2prdtst={}\n",
    "for i,tgt in enumerate(tgts):\n",
    "    prdtst = dask_xgboost.predict(client, tgt2bst[tgt], Xtst)\n",
    "    prdtst = prdtst\n",
    "    tgt2prdtst[tgt]=prdtst "
   ]
  },
  {
   "cell_type": "code",
   "execution_count": 22,
   "metadata": {},
   "outputs": [],
   "source": [
    "dfsub_ids = dftst[['tweet_id','engaged_user_id',]]\n",
    "\n",
    "tgt2dfsub = {}\n",
    "for tgt,prdtst in tgt2prdtst.items():\n",
    "    dfsub = dfsub_ids.copy()\n",
    "    dfsub['scr'] = prdtst\n",
    "    tgt2dfsub[tgt]=dfsub"
   ]
  },
  {
   "cell_type": "code",
   "execution_count": 23,
   "metadata": {},
   "outputs": [
    {
     "name": "stdout",
     "output_type": "stream",
     "text": [
      "2020-03-15 20:28:25 Retweet\n",
      "2020-03-15 20:31:20 Reply\n",
      "2020-03-15 20:34:12 Like\n",
      "2020-03-15 20:37:33 RTwCmnt\n",
      "CPU times: user 1min 18s, sys: 10.9 s, total: 1min 29s\n",
      "Wall time: 12min\n"
     ]
    }
   ],
   "source": [
    "%%time\n",
    "for tgt, dfsub in tgt2dfsub.items():\n",
    "    print(dtnow(), tgt)\n",
    "    dfsub.to_csv(f'{p_out}/{tgt}__{PRFX}.csv',index=False,header=False,single_file=True)"
   ]
  },
  {
   "cell_type": "code",
   "execution_count": 24,
   "metadata": {},
   "outputs": [],
   "source": [
    "# %%time\n",
    "# for tgt in tgts:\n",
    "#     print(dtnow(), tgt)\n",
    "#     dfsub = pd.concat(pd.read_csv(o, header=None) for o in sorted(glob.glob(f'{p_out}/{tgt}__{PRFX}_*.csv')))\n",
    "#     dfsub.to_csv(f'{p_out}/{tgt}__{PRFX}.csv', \n",
    "#                           index=False, \n",
    "#                           header=False)"
   ]
  },
  {
   "cell_type": "code",
   "execution_count": 25,
   "metadata": {
    "scrolled": true
   },
   "outputs": [
    {
     "name": "stdout",
     "output_type": "stream",
     "text": [
      "101\t47185\t10157\t100986\t10343\t55422\t119\t14120\t131\t120\t120\t188\t119\t11170\t120\t162\t10162\t10575\t10237\t11281\t10123\t11305\t11537\t10350\t10115\t102\u0001\u00017647B4E9DAF4C1D8973397DC2A04F3E3\u0001Photo\u0001\u0001\u0001TopLevel\u0001D3164C7FBCF2565DDF915B1B3AEFB1DC\u00011581703126\u00018A9AB92B775C62C4AB60DF6773A01571\u000113941\u00011216\u0001false\u00011448292186\u00010000006C3074607050F1339DDCB890BB\u000127448\u0001600\u0001false\u00011520948869\u0001true\r\n",
      "101\t6006\t5086\t1939\t7418\t3601\t6406\t1913\t3800\t21252\t18767\t2369\t5322\t8255\t3671\t14813\t20058\t4335\t1912\t22480\t111814\t18872\t91872\t108247\t12236\t5078\t1923\t11312\t16838\t15802\t18825\t60847\t1881\t1881\t1881\t4476\t3740\t65236\t10898\t103305\t1881\t1881\t1881\t1881\t1881\t1881\t3102\t77509\t4726\t1939\t2195\t2149\t11592\t15802\t50508\t52310\t1881\t1881\t1881\t1881\t1881\t1881\t1881\t14120\t131\t120\t120\t188\t119\t11170\t120\t153\t10477\t13034\t12674\t58123\t10929\t10410\t102\u0001\u0001CCBFBA5AFE7EFC03102EA8D0F86C4208\u0001Photo\u0001\u0001\u0001TopLevel\u000122C448FF81263D4BAF2A176145EE9EAD\u00011581736431\u0001187AC59639DA9A6F32F7CD118EDD58F7\u0001476439\u00011478\u0001false\u00011254447722\u000100000776B07587ECA9717BFC301F2D6E\u0001102\u0001659\u0001false\u00011478011810\u0001false\r\n"
     ]
    }
   ],
   "source": [
    "!head -n 2 {p_in}/val1e4.tsv"
   ]
  },
  {
   "cell_type": "code",
   "execution_count": 26,
   "metadata": {},
   "outputs": [
    {
     "name": "stdout",
     "output_type": "stream",
     "text": [
      "7647B4E9DAF4C1D8973397DC2A04F3E3,8A9AB92B775C62C4AB60DF6773A01571,0.08647283\n",
      "CCBFBA5AFE7EFC03102EA8D0F86C4208,187AC59639DA9A6F32F7CD118EDD58F7,0.09214441\n",
      "7647B4E9DAF4C1D8973397DC2A04F3E3,8A9AB92B775C62C4AB60DF6773A01571,0.09120192\n",
      "CCBFBA5AFE7EFC03102EA8D0F86C4208,187AC59639DA9A6F32F7CD118EDD58F7,0.01942423\n",
      "7647B4E9DAF4C1D8973397DC2A04F3E3,8A9AB92B775C62C4AB60DF6773A01571,0.6293436\n",
      "CCBFBA5AFE7EFC03102EA8D0F86C4208,187AC59639DA9A6F32F7CD118EDD58F7,0.3503175\n",
      "7647B4E9DAF4C1D8973397DC2A04F3E3,8A9AB92B775C62C4AB60DF6773A01571,0.014926087\n",
      "CCBFBA5AFE7EFC03102EA8D0F86C4208,187AC59639DA9A6F32F7CD118EDD58F7,0.006347713\n"
     ]
    }
   ],
   "source": [
    "for tgt in tgts:\n",
    "    !head -n 2 {p_out}/{tgt}__0315_1.csv"
   ]
  },
  {
   "cell_type": "code",
   "execution_count": null,
   "metadata": {},
   "outputs": [],
   "source": []
  },
  {
   "cell_type": "code",
   "execution_count": null,
   "metadata": {},
   "outputs": [],
   "source": []
  }
 ],
 "metadata": {
  "kernelspec": {
   "display_name": "dask-tutorial",
   "language": "python",
   "name": "dask-tutorial"
  },
  "language_info": {
   "codemirror_mode": {
    "name": "ipython",
    "version": 3
   },
   "file_extension": ".py",
   "mimetype": "text/x-python",
   "name": "python",
   "nbconvert_exporter": "python",
   "pygments_lexer": "ipython3",
   "version": "3.7.6"
  },
  "toc": {
   "base_numbering": 1,
   "nav_menu": {},
   "number_sections": true,
   "sideBar": true,
   "skip_h1_title": false,
   "title_cell": "Table of Contents",
   "title_sidebar": "Contents",
   "toc_cell": false,
   "toc_position": {},
   "toc_section_display": true,
   "toc_window_display": true
  }
 },
 "nbformat": 4,
 "nbformat_minor": 2
}
