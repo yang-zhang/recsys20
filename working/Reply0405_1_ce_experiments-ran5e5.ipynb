{
 "cells": [
  {
   "cell_type": "markdown",
   "metadata": {},
   "source": [
    "# start"
   ]
  },
  {
   "cell_type": "markdown",
   "metadata": {},
   "source": [
    "- http://localhost:8081/notebooks/git/recsys20/working/0324_6_3_lgb_feat_engr-1e7.ipynb\n",
    "- http://localhost:8081/notebooks/git/recsys20/working/mdl0404_1__xgb_mean_encode.ipynb\n",
    "- http://localhost:8081/notebooks/git/recsys20/working/eda_0404_1.ipynb#v.s.-target\n",
    "- https://www.kaggle.com/discdiver/category-encoders-examples"
   ]
  },
  {
   "cell_type": "code",
   "execution_count": 1,
   "metadata": {},
   "outputs": [
    {
     "name": "stdout",
     "output_type": "stream",
     "text": [
      "train_total 150,000,000, test_total 14,000,000\n",
      "['2020-03-17 02:32:24', '2020-04-06 00:35:47']\n",
      "['2020-02-06 00:00:00', '2020-02-12 23:59:59']\n",
      "['2020-02-13 00:00:00', '2020-02-19 23:59:59']\n"
     ]
    }
   ],
   "source": [
    "TGT='Reply'\n",
    "PRFX='Reply0405_1'\n",
    "\n",
    "trntmstmp=1584412344\n",
    "tsttmstmp=1586133347\n",
    "\n",
    "tm_trn_min,tm_trn_max=(1580947200, 1581551999)\n",
    "tm_tst_min,tm_tst_max=(1581552000, 1582156799)\n",
    "\n",
    "SEED=101\n",
    "\n",
    "valsz = int(1e5)#int(1e5)\n",
    "trnsz = int(5e5)#int(5e5)\n",
    "\n",
    "train_total=148075238\n",
    "test_total=int(1.4e7)\n",
    "print(f'train_total {train_total:,}, test_total {test_total:,}')\n",
    "\n",
    "\n",
    "import datetime\n",
    "def showtm(tm): return datetime.datetime.fromtimestamp(tm).strftime('%Y-%m-%d %H:%M:%S')\n",
    "print([showtm(tm) for tm in (trntmstmp, tsttmstmp)])\n",
    "print([showtm(tm) for tm in (tm_trn_min,tm_trn_max)])\n",
    "print([showtm(tm) for tm in (tm_tst_min,tm_tst_max)])"
   ]
  },
  {
   "cell_type": "markdown",
   "metadata": {},
   "source": [
    "# setup"
   ]
  },
  {
   "cell_type": "code",
   "execution_count": 2,
   "metadata": {},
   "outputs": [
    {
     "name": "stdout",
     "output_type": "stream",
     "text": [
      "TCOL reply\n",
      "{'Retweet': 'retwt', 'Reply': 'reply', 'Like': 'like', 'RTwCmnt': 'retwt_cmmnt'}\n"
     ]
    }
   ],
   "source": [
    "from tqdm import tqdm\n",
    "import time\n",
    "from pathlib import Path\n",
    "from collections import Counter,defaultdict\n",
    "from sklearn.model_selection import train_test_split\n",
    "import pandas as pd\n",
    "import numpy as np\n",
    "import matplotlib.pyplot as plt\n",
    "from sklearn.metrics import accuracy_score, roc_auc_score, roc_curve, auc, precision_recall_curve\n",
    "import pickle\n",
    "import xgboost as xgb\n",
    "import lightgbm as lgb\n",
    "import category_encoders as ce\n",
    "import gc\n",
    "\n",
    "pd.set_option('display.max_rows', 500)\n",
    "pd.set_option('display.max_columns', 500)\n",
    "\n",
    "\n",
    "import datetime\n",
    "def dtnow(): return datetime.datetime.now().strftime('%Y-%m-%d %H:%M:%S')\n",
    "\n",
    "def iou(s1,s2):\n",
    "    return len(s1&s2) / len(s1|s2)\n",
    "\n",
    "HOME='/data/git/recsys20'\n",
    "p_in=f'{HOME}/input'\n",
    "p_out=f'{HOME}/output/{PRFX}'\n",
    "Path(p_out).mkdir(exist_ok=True, parents=True)\n",
    "\n",
    "from sklearn.metrics import precision_recall_curve, auc, log_loss\n",
    "\n",
    "def compute_prauc(pred, gt):\n",
    "    prec, recall, thresh = precision_recall_curve(gt, pred)\n",
    "    prauc = auc(recall, prec)\n",
    "    return prauc\n",
    "\n",
    "def calculate_ctr(gt):\n",
    "    positive = len([x for x in gt if x == 1])\n",
    "    ctr = positive/float(len(gt))\n",
    "    return ctr\n",
    "\n",
    "def compute_rce(pred, gt):\n",
    "    cross_entropy = log_loss(gt, pred)\n",
    "    data_ctr = calculate_ctr(gt)\n",
    "    strawman_cross_entropy = log_loss(gt, [data_ctr for _ in range(len(gt))])\n",
    "    return (1.0 - cross_entropy/strawman_cross_entropy)*100.0\n",
    "\n",
    "# https://towardsdatascience.com/how-to-calibrate-undersampled-model-scores-8f3319c1ea5b\n",
    "# How to use the function?\n",
    "# Let’s say your goal is to generate a model that shows the credit default probabilities and your original \n",
    "# training data has 50,000 rows with only 500 of them labeled as target class. When you sample your non-target \n",
    "# instances randomly and reduce the total row count to 10,000, while conserving 500 target rows, our calibration\n",
    "# function becomes:\n",
    "# calibration(model_results, 50000, 500, 10000, 500)\n",
    "# Here model_results is your model probability output array. After you train your model and put the results in it, your function is ready to use. \n",
    "def calibration(data, train_pop, target_pop, sampled_train_pop, sampled_target_pop):\n",
    "    calibrated_data = ((data * (target_pop / train_pop) / (sampled_target_pop / sampled_train_pop)) /\n",
    "    (((1 - data) * (1 - target_pop / train_pop) / (1 - sampled_target_pop / sampled_train_pop)) +\n",
    "     (data * (target_pop / train_pop) / (sampled_target_pop / sampled_train_pop))))\n",
    "    return calibrated_data\n",
    "\n",
    "\n",
    "cols=['toks','hshtgs','twtid','media','links','domns','twttyp','lang','tm','u1id','u1_fllwer_cnt','u1_fllwing_cnt','u1_vrfed','u1_create_tm','u2id','u2_fllwer_cnt','u2_fllwng_cnt','u2_vrfed','u2_create_tm','u1_fllw_u2','reply_tm','retwt_tm','retwt_cmmnt_tm','like_tm',]\n",
    "\n",
    "cols_val = cols[:-4]\n",
    "cols_tgt_tmstmp=[ 'retwt_tm', 'reply_tm', 'like_tm', 'retwt_cmmnt_tm',]\n",
    "cols_tgt=[o.split('_tm')[0] for o in cols_tgt_tmstmp]\n",
    "tgts             = ['Retweet','Reply','Like','RTwCmnt',]\n",
    "assert cols_tgt == ['retwt',  'reply','like','retwt_cmmnt',]\n",
    "tgt2col = dict(zip(tgts, cols_tgt))\n",
    "TCOL=tgt2col[TGT]\n",
    "print('TCOL', TCOL)\n",
    "print(tgt2col)"
   ]
  },
  {
   "cell_type": "markdown",
   "metadata": {},
   "source": [
    "# prep"
   ]
  },
  {
   "cell_type": "code",
   "execution_count": 3,
   "metadata": {},
   "outputs": [],
   "source": [
    "def prp_tgt(df):\n",
    "    df[cols_tgt]=df[cols_tgt_tmstmp].notna()\n",
    "    df.drop(columns=cols_tgt_tmstmp, inplace=True)\n",
    "    display(df[cols_tgt].mean())"
   ]
  },
  {
   "cell_type": "code",
   "execution_count": 4,
   "metadata": {
    "scrolled": false
   },
   "outputs": [
    {
     "name": "stdout",
     "output_type": "stream",
     "text": [
      "(100000, 24)\n"
     ]
    },
    {
     "data": {
      "text/plain": [
       "retwt          0.11211\n",
       "reply          0.02754\n",
       "like           0.43929\n",
       "retwt_cmmnt    0.00801\n",
       "dtype: float64"
      ]
     },
     "metadata": {},
     "output_type": "display_data"
    },
    {
     "name": "stdout",
     "output_type": "stream",
     "text": [
      "CPU times: user 705 ms, sys: 112 ms, total: 818 ms\n",
      "Wall time: 816 ms\n"
     ]
    }
   ],
   "source": [
    "%%time\n",
    "dfval = pd.read_csv(f'{p_in}/trn_{trntmstmp}.tsv',sep='\\x01',header=None,names=cols,nrows=valsz)\n",
    "print(dfval.shape)\n",
    "prp_tgt(dfval)"
   ]
  },
  {
   "cell_type": "markdown",
   "metadata": {},
   "source": [
    "## maybe oversample"
   ]
  },
  {
   "cell_type": "code",
   "execution_count": 5,
   "metadata": {},
   "outputs": [],
   "source": [
    "# df = pd.read_csv(f'{p_in}/trn_{trntmstmp}.tsv',sep='\\x01',header=None,names=cols,nrows=5)\n",
    "# dfval = pd.read_csv(f'{p_in}/trn_{trntmstmp}.tsv',sep='\\x01',header=None,names=cols,nrows=2)\n",
    "# dftrn = pd.read_csv(f'{p_in}/trn_{trntmstmp}.tsv',sep='\\x01',header=None,names=cols,skiprows=2,nrows=3)\n",
    "# display(df.twtid)\n",
    "# display(dfval.twtid)\n",
    "# display(dftrn.twtid)\n",
    "\n",
    "# 0    D4D1EBDE74F74C5DA529959AF979625C\n",
    "# 1    BFB529DAB6D384EB83E899A72AB3830D\n",
    "# 2    519078C7834E9642508F72A6C2D0F3B7\n",
    "# 3    52AAE9E33EFAC8C478C57B31A9E31ED1\n",
    "# 4    89C1298C55EB3D68E2784F0BFB69E6F8\n",
    "# Name: twtid, dtype: object\n",
    "# 0    D4D1EBDE74F74C5DA529959AF979625C\n",
    "# 1    BFB529DAB6D384EB83E899A72AB3830D\n",
    "# Name: twtid, dtype: object\n",
    "# 0    519078C7834E9642508F72A6C2D0F3B7\n",
    "# 1    52AAE9E33EFAC8C478C57B31A9E31ED1\n",
    "# 2    89C1298C55EB3D68E2784F0BFB69E6F8\n",
    "# Name: twtid, dtype: object"
   ]
  },
  {
   "cell_type": "code",
   "execution_count": 6,
   "metadata": {
    "scrolled": true
   },
   "outputs": [
    {
     "name": "stdout",
     "output_type": "stream",
     "text": [
      "(1850000, 24)\n"
     ]
    },
    {
     "data": {
      "text/plain": [
       "retwt          0.113059\n",
       "reply          0.027512\n",
       "like           0.438869\n",
       "retwt_cmmnt    0.007712\n",
       "dtype: float64"
      ]
     },
     "metadata": {},
     "output_type": "display_data"
    },
    {
     "name": "stdout",
     "output_type": "stream",
     "text": [
      "CPU times: user 13.4 s, sys: 1.43 s, total: 14.8 s\n",
      "Wall time: 14.8 s\n"
     ]
    }
   ],
   "source": [
    "%%time\n",
    "if TGT in ('Retweet','Like'): trnpop=trnsz\n",
    "if TGT=='Reply': trnpop=trnsz*3.7\n",
    "if TGT=='RTwCmnt': trnpop=trnsz*11.5\n",
    "assert trnpop<train_total\n",
    "\n",
    "dftrn = pd.read_csv(f'{p_in}/trn_{trntmstmp}.tsv',sep='\\x01',header=None,names=cols,\n",
    "                     skiprows=valsz, nrows=trnpop)\n",
    "print(dftrn.shape)\n",
    "prp_tgt(dftrn)"
   ]
  },
  {
   "cell_type": "code",
   "execution_count": 7,
   "metadata": {
    "scrolled": true
   },
   "outputs": [
    {
     "name": "stdout",
     "output_type": "stream",
     "text": [
      "(500000, 24) 0.101794\n",
      "1850000 50897 500000 50897\n"
     ]
    },
    {
     "data": {
      "text/html": [
       "<div>\n",
       "<style scoped>\n",
       "    .dataframe tbody tr th:only-of-type {\n",
       "        vertical-align: middle;\n",
       "    }\n",
       "\n",
       "    .dataframe tbody tr th {\n",
       "        vertical-align: top;\n",
       "    }\n",
       "\n",
       "    .dataframe thead th {\n",
       "        text-align: right;\n",
       "    }\n",
       "</style>\n",
       "<table border=\"1\" class=\"dataframe\">\n",
       "  <thead>\n",
       "    <tr style=\"text-align: right;\">\n",
       "      <th></th>\n",
       "      <th>toks</th>\n",
       "      <th>hshtgs</th>\n",
       "      <th>twtid</th>\n",
       "      <th>media</th>\n",
       "      <th>links</th>\n",
       "      <th>domns</th>\n",
       "      <th>twttyp</th>\n",
       "      <th>lang</th>\n",
       "      <th>tm</th>\n",
       "      <th>u1id</th>\n",
       "      <th>u1_fllwer_cnt</th>\n",
       "      <th>u1_fllwing_cnt</th>\n",
       "      <th>u1_vrfed</th>\n",
       "      <th>u1_create_tm</th>\n",
       "      <th>u2id</th>\n",
       "      <th>u2_fllwer_cnt</th>\n",
       "      <th>u2_fllwng_cnt</th>\n",
       "      <th>u2_vrfed</th>\n",
       "      <th>u2_create_tm</th>\n",
       "      <th>u1_fllw_u2</th>\n",
       "      <th>retwt</th>\n",
       "      <th>reply</th>\n",
       "      <th>like</th>\n",
       "      <th>retwt_cmmnt</th>\n",
       "    </tr>\n",
       "  </thead>\n",
       "  <tbody>\n",
       "    <tr>\n",
       "      <th>5</th>\n",
       "      <td>101\\t1434\\t107854\\t18260\\t31904\\t111431\\t74759...</td>\n",
       "      <td>NaN</td>\n",
       "      <td>0EB15633A8CC0A6E3917C272F43E6DF3</td>\n",
       "      <td>NaN</td>\n",
       "      <td>NaN</td>\n",
       "      <td>NaN</td>\n",
       "      <td>TopLevel</td>\n",
       "      <td>022EC308651FACB02794A8147AEE1B78</td>\n",
       "      <td>1581218899</td>\n",
       "      <td>A7E00C86B4E3709D589754A51042A360</td>\n",
       "      <td>1198215</td>\n",
       "      <td>662</td>\n",
       "      <td>True</td>\n",
       "      <td>1246548812</td>\n",
       "      <td>016212C070A76EAB37E8ED93CA509BA9</td>\n",
       "      <td>0</td>\n",
       "      <td>42</td>\n",
       "      <td>False</td>\n",
       "      <td>1578271262</td>\n",
       "      <td>False</td>\n",
       "      <td>False</td>\n",
       "      <td>True</td>\n",
       "      <td>False</td>\n",
       "      <td>False</td>\n",
       "    </tr>\n",
       "    <tr>\n",
       "      <th>51</th>\n",
       "      <td>101\\t10473\\t10116\\t10132\\t12603\\t97953\\t25307\\...</td>\n",
       "      <td>NaN</td>\n",
       "      <td>7C71C144E7B9F2D87F1F4DDB40AB1C49</td>\n",
       "      <td>NaN</td>\n",
       "      <td>NaN</td>\n",
       "      <td>NaN</td>\n",
       "      <td>TopLevel</td>\n",
       "      <td>2996EB2FE8162C076D070A4C8D6532CD</td>\n",
       "      <td>1581203618</td>\n",
       "      <td>B0CBECD53C3B945C875C55DDFF56D13F</td>\n",
       "      <td>1424</td>\n",
       "      <td>854</td>\n",
       "      <td>False</td>\n",
       "      <td>1394906655</td>\n",
       "      <td>01625341E5A48963E5AA7DFFDC4436D4</td>\n",
       "      <td>643</td>\n",
       "      <td>327</td>\n",
       "      <td>False</td>\n",
       "      <td>1372760933</td>\n",
       "      <td>True</td>\n",
       "      <td>False</td>\n",
       "      <td>True</td>\n",
       "      <td>False</td>\n",
       "      <td>False</td>\n",
       "    </tr>\n",
       "    <tr>\n",
       "      <th>63</th>\n",
       "      <td>101\\t56898\\t137\\t24362\\t131\\t100\\t196\\t36351\\t...</td>\n",
       "      <td>NaN</td>\n",
       "      <td>ADCF033A7C7087C1506E2BC3E2D8F092</td>\n",
       "      <td>NaN</td>\n",
       "      <td>NaN</td>\n",
       "      <td>NaN</td>\n",
       "      <td>Retweet</td>\n",
       "      <td>717293301FE296B0B61950D041485825</td>\n",
       "      <td>1581258397</td>\n",
       "      <td>ECD90FC37F0A7C15C82834FDDEEDC21A</td>\n",
       "      <td>1753</td>\n",
       "      <td>811</td>\n",
       "      <td>False</td>\n",
       "      <td>1568347799</td>\n",
       "      <td>01625CCEC5A4C322FC247DB9E223CC08</td>\n",
       "      <td>147</td>\n",
       "      <td>1355</td>\n",
       "      <td>False</td>\n",
       "      <td>1355850070</td>\n",
       "      <td>False</td>\n",
       "      <td>False</td>\n",
       "      <td>True</td>\n",
       "      <td>False</td>\n",
       "      <td>False</td>\n",
       "    </tr>\n",
       "    <tr>\n",
       "      <th>75</th>\n",
       "      <td>101\\t12441\\t105702\\t793\\t61783\\t34022\\t60578\\t...</td>\n",
       "      <td>NaN</td>\n",
       "      <td>7EB0824DDA3D28844CC0FF65B7C4AA08</td>\n",
       "      <td>NaN</td>\n",
       "      <td>NaN</td>\n",
       "      <td>NaN</td>\n",
       "      <td>TopLevel</td>\n",
       "      <td>167115458A0DBDFF7E9C0C53A83BAC9B</td>\n",
       "      <td>1581271814</td>\n",
       "      <td>D905F31F909CC63C2BBEB7F6B43487FE</td>\n",
       "      <td>175998</td>\n",
       "      <td>116</td>\n",
       "      <td>False</td>\n",
       "      <td>1466830888</td>\n",
       "      <td>01626B64A2570C2807AB97716262FBA9</td>\n",
       "      <td>90</td>\n",
       "      <td>139</td>\n",
       "      <td>False</td>\n",
       "      <td>1364278366</td>\n",
       "      <td>False</td>\n",
       "      <td>False</td>\n",
       "      <td>True</td>\n",
       "      <td>False</td>\n",
       "      <td>False</td>\n",
       "    </tr>\n",
       "    <tr>\n",
       "      <th>83</th>\n",
       "      <td>101\\t69532\\t10107\\t12372\\t10160\\t19048\\t136\\t1...</td>\n",
       "      <td>NaN</td>\n",
       "      <td>0A95516F028EBFF6B551DB32C4B2D1B5</td>\n",
       "      <td>Video</td>\n",
       "      <td>NaN</td>\n",
       "      <td>NaN</td>\n",
       "      <td>TopLevel</td>\n",
       "      <td>ECED8A16BE2A5E8871FD55F4842F16B1</td>\n",
       "      <td>1581214010</td>\n",
       "      <td>88E80BAB56E6F59E4EF012A8B12D3BAE</td>\n",
       "      <td>8825</td>\n",
       "      <td>8024</td>\n",
       "      <td>False</td>\n",
       "      <td>1557262802</td>\n",
       "      <td>0162759D8908AA8C849F06086A023D85</td>\n",
       "      <td>26265</td>\n",
       "      <td>24215</td>\n",
       "      <td>False</td>\n",
       "      <td>1557422269</td>\n",
       "      <td>True</td>\n",
       "      <td>False</td>\n",
       "      <td>True</td>\n",
       "      <td>False</td>\n",
       "      <td>False</td>\n",
       "    </tr>\n",
       "  </tbody>\n",
       "</table>\n",
       "</div>"
      ],
      "text/plain": [
       "                                                 toks hshtgs  \\\n",
       "5   101\\t1434\\t107854\\t18260\\t31904\\t111431\\t74759...    NaN   \n",
       "51  101\\t10473\\t10116\\t10132\\t12603\\t97953\\t25307\\...    NaN   \n",
       "63  101\\t56898\\t137\\t24362\\t131\\t100\\t196\\t36351\\t...    NaN   \n",
       "75  101\\t12441\\t105702\\t793\\t61783\\t34022\\t60578\\t...    NaN   \n",
       "83  101\\t69532\\t10107\\t12372\\t10160\\t19048\\t136\\t1...    NaN   \n",
       "\n",
       "                               twtid  media links domns    twttyp  \\\n",
       "5   0EB15633A8CC0A6E3917C272F43E6DF3    NaN   NaN   NaN  TopLevel   \n",
       "51  7C71C144E7B9F2D87F1F4DDB40AB1C49    NaN   NaN   NaN  TopLevel   \n",
       "63  ADCF033A7C7087C1506E2BC3E2D8F092    NaN   NaN   NaN   Retweet   \n",
       "75  7EB0824DDA3D28844CC0FF65B7C4AA08    NaN   NaN   NaN  TopLevel   \n",
       "83  0A95516F028EBFF6B551DB32C4B2D1B5  Video   NaN   NaN  TopLevel   \n",
       "\n",
       "                                lang          tm  \\\n",
       "5   022EC308651FACB02794A8147AEE1B78  1581218899   \n",
       "51  2996EB2FE8162C076D070A4C8D6532CD  1581203618   \n",
       "63  717293301FE296B0B61950D041485825  1581258397   \n",
       "75  167115458A0DBDFF7E9C0C53A83BAC9B  1581271814   \n",
       "83  ECED8A16BE2A5E8871FD55F4842F16B1  1581214010   \n",
       "\n",
       "                                u1id  u1_fllwer_cnt  u1_fllwing_cnt  u1_vrfed  \\\n",
       "5   A7E00C86B4E3709D589754A51042A360        1198215             662      True   \n",
       "51  B0CBECD53C3B945C875C55DDFF56D13F           1424             854     False   \n",
       "63  ECD90FC37F0A7C15C82834FDDEEDC21A           1753             811     False   \n",
       "75  D905F31F909CC63C2BBEB7F6B43487FE         175998             116     False   \n",
       "83  88E80BAB56E6F59E4EF012A8B12D3BAE           8825            8024     False   \n",
       "\n",
       "    u1_create_tm                              u2id  u2_fllwer_cnt  \\\n",
       "5     1246548812  016212C070A76EAB37E8ED93CA509BA9              0   \n",
       "51    1394906655  01625341E5A48963E5AA7DFFDC4436D4            643   \n",
       "63    1568347799  01625CCEC5A4C322FC247DB9E223CC08            147   \n",
       "75    1466830888  01626B64A2570C2807AB97716262FBA9             90   \n",
       "83    1557262802  0162759D8908AA8C849F06086A023D85          26265   \n",
       "\n",
       "    u2_fllwng_cnt  u2_vrfed  u2_create_tm  u1_fllw_u2  retwt  reply   like  \\\n",
       "5              42     False    1578271262       False  False   True  False   \n",
       "51            327     False    1372760933        True  False   True  False   \n",
       "63           1355     False    1355850070       False  False   True  False   \n",
       "75            139     False    1364278366       False  False   True  False   \n",
       "83          24215     False    1557422269        True  False   True  False   \n",
       "\n",
       "    retwt_cmmnt  \n",
       "5         False  \n",
       "51        False  \n",
       "63        False  \n",
       "75        False  \n",
       "83        False  "
      ]
     },
     "metadata": {},
     "output_type": "display_data"
    },
    {
     "data": {
      "text/plain": [
       "Index(['toks', 'hshtgs', 'twtid', 'media', 'links', 'domns', 'twttyp', 'lang',\n",
       "       'tm', 'u1id', 'u1_fllwer_cnt', 'u1_fllwing_cnt', 'u1_vrfed',\n",
       "       'u1_create_tm', 'u2id', 'u2_fllwer_cnt', 'u2_fllwng_cnt', 'u2_vrfed',\n",
       "       'u2_create_tm', 'u1_fllw_u2', 'retwt', 'reply', 'like', 'retwt_cmmnt'],\n",
       "      dtype='object')"
      ]
     },
     "metadata": {},
     "output_type": "display_data"
    }
   ],
   "source": [
    "train_pop=len(dftrn)\n",
    "sampled_train_pop=trnsz\n",
    "idx_pos = np.where(dftrn[TCOL])[0]\n",
    "target_pop=sampled_target_pop=len(idx_pos)\n",
    "if TGT in ('Reply','RTwCmnt'):\n",
    "    idx_neg0 = np.where(~dftrn[TCOL])[0]\n",
    "    idx_neg = np.random.choice(idx_neg0, trnsz-len(idx_pos), replace=False)\n",
    "    idx = np.concatenate([idx_pos,idx_neg])\n",
    "    dftrn = dftrn.iloc[idx].copy()\n",
    "print(dftrn.shape, dftrn[TCOL].mean())\n",
    "print(train_pop, target_pop, sampled_train_pop, sampled_target_pop)\n",
    "\n",
    "display(dftrn.head())\n",
    "display(dftrn.columns)"
   ]
  },
  {
   "cell_type": "markdown",
   "metadata": {},
   "source": [
    "## prep and features"
   ]
  },
  {
   "cell_type": "code",
   "execution_count": 8,
   "metadata": {},
   "outputs": [],
   "source": [
    "def prp_df(df, tm_max):\n",
    "    '''\n",
    "    tm_max = tm_trn_max for train tm_tst_max for test\n",
    "    '''\n",
    "    lendf = len(df)\n",
    "    print(dtnow(), 'start')\n",
    "    \n",
    "    #counts\n",
    "    df['len_toks'] = df.toks.apply(lambda x: len(x.split('\\t')))\n",
    "    df.drop(columns=['toks'], inplace=True)    \n",
    "    for m in ['Photo', 'Video', 'GIF']:\n",
    "        df[f'n_media_{m}'] = df['media'].fillna('').apply(lambda x: x.split('\\t').count(m))\n",
    "    tgnms = ['hshtgs','media', 'links', 'domns',]\n",
    "    for tgnm in tgnms:\n",
    "        df[f'has_{tgnm}']=df[tgnm].notna()\n",
    "        df[f'lst_{tgnm}'] = df[tgnm].fillna('').apply(lambda x: x.split('\\t') if len(x) else [])\n",
    "        df[f'n_{tgnm}'] = df[f'lst_{tgnm}'].apply(len)  \n",
    "    df.drop(columns=['has_links','n_links'], inplace=True) #duplicates has_domns,n_domns \n",
    "    \n",
    "    #time\n",
    "    dt = pd.to_datetime(df.tm, unit='s')\n",
    "    df['dayofweek'] = dt.dt.dayofweek\n",
    "    df['hour'] = dt.dt.hour\n",
    "    \n",
    "    df['tmdlta_u2u1']  = df.u2_create_tm - df.u1_create_tm\n",
    "    df['tmdlta_twtu1'] = df.tm - df.u1_create_tm\n",
    "    df['tmdlta_twtu2'] = df.tm - df.u2_create_tm\n",
    "\n",
    "    df['twt_age']   = tm_max-df.tm\n",
    "    df['u1_age']    = tm_max-df.u1_create_tm\n",
    "    df['u2_age']    = tm_max-df.u2_create_tm\n",
    "    df.drop(columns=['tm', 'u1_create_tm', 'u2_create_tm'], inplace=True)\n",
    "\n",
    "    #time derived\n",
    "    df['u1_fllwer_cnt_by_age'] = df.u1_fllwer_cnt / df.u1_age\n",
    "    df['u1_fllwng_cnt_by_age'] = df.u2_fllwng_cnt / df.u2_age\n",
    "    \n",
    "    #interaction\n",
    "    df['u1u2']=df.u1id+'_'+df.u2id\n",
    "    df['langhour']=df.lang+'_'+df.hour.astype(str)\n",
    "    \n",
    "\n",
    "    #freq of feature values\n",
    "    print(dtnow(), 'freq of columns using CountEncoder')\n",
    "    encoder = ce.CountEncoder()\n",
    "    encoded = encoder.fit_transform(\n",
    "    df[['twtid', 'twttyp', 'lang', 'u1id', 'u1_fllwing_cnt', 'u1_vrfed', 'u2id', 'u2_fllwer_cnt', 'u2_vrfed', 'u1_fllw_u2', \n",
    "       'n_media_Photo', 'n_media_Video', 'n_media_GIF', \n",
    "       'has_hshtgs', 'n_hshtgs', 'has_media', 'n_media','has_domns', 'n_domns', \n",
    "       'dayofweek', 'hour', 'u1u2', 'langhour']].astype(object))\n",
    "    encoded = encoded.astype(int)/lendf\n",
    "    encoded.columns = [f'frq_{col}' for col in encoded.columns]\n",
    "    df = pd.concat([df,encoded],1)\n",
    "    \n",
    "    #freq of tgnm values\n",
    "    print(dtnow(), 'freq of tags')\n",
    "    for tgnm in tgnms:\n",
    "        vs = [j for i in df[f'lst_{tgnm}'] for j in i]\n",
    "        cnt = Counter(vs)\n",
    "        frq = {k:v/lendf for k,v in cnt.items()}\n",
    "        df[f'sumfrq_{tgnm}']=df[f'lst_{tgnm}'].apply(lambda x: sum([frq.get(o,0) for o in x]))\n",
    "        df[f'maxfrq_{tgnm}']=df[f'lst_{tgnm}'].apply(lambda x: max([frq.get(o,0) for o in x]) if len(x) else 0)\n",
    "    df.drop(columns=tgnms+[f'lst_{tgnm}' for tgnm in tgnms],inplace=True)\n",
    "\n",
    "    print(dtnow(), 'done')\n",
    "    return df"
   ]
  },
  {
   "cell_type": "code",
   "execution_count": 9,
   "metadata": {},
   "outputs": [
    {
     "name": "stdout",
     "output_type": "stream",
     "text": [
      "2020-04-05 19:43:28 start\n",
      "2020-04-05 19:43:36 freq of columns using CountEncoder\n"
     ]
    },
    {
     "name": "stderr",
     "output_type": "stream",
     "text": [
      "/data/anaconda3/envs/rcss20/lib/python3.7/site-packages/category_encoders/count.py:255: FutureWarning: The pandas.np module is deprecated and will be removed from pandas in a future version. Import numpy directly instead\n",
      "  X.loc[:, self.cols] = X.fillna(value=pd.np.nan)\n"
     ]
    },
    {
     "name": "stdout",
     "output_type": "stream",
     "text": [
      "2020-04-05 19:43:51 freq of tags\n",
      "2020-04-05 19:43:55 done\n",
      "CPU times: user 24 s, sys: 2.74 s, total: 26.7 s\n",
      "Wall time: 26.7 s\n"
     ]
    }
   ],
   "source": [
    "%%time\n",
    "dftrn=prp_df(dftrn, tm_max=tm_trn_max)"
   ]
  },
  {
   "cell_type": "code",
   "execution_count": 10,
   "metadata": {},
   "outputs": [
    {
     "name": "stdout",
     "output_type": "stream",
     "text": [
      "2020-04-05 19:43:55 start\n",
      "2020-04-05 19:43:56 freq of columns using CountEncoder\n",
      "2020-04-05 19:43:58 freq of tags\n",
      "2020-04-05 19:43:59 done\n",
      "CPU times: user 3.56 s, sys: 20.6 ms, total: 3.58 s\n",
      "Wall time: 3.57 s\n"
     ]
    }
   ],
   "source": [
    "%%time\n",
    "dfval=prp_df(dfval, tm_max=tm_trn_max)"
   ]
  },
  {
   "cell_type": "markdown",
   "metadata": {},
   "source": [
    "## tr vl split and target encoding"
   ]
  },
  {
   "cell_type": "code",
   "execution_count": 11,
   "metadata": {},
   "outputs": [
    {
     "data": {
      "text/plain": [
       "30"
      ]
     },
     "execution_count": 11,
     "metadata": {},
     "output_type": "execute_result"
    }
   ],
   "source": [
    "msk_vl=np.random.rand(len(dftrn))<0.15\n",
    "idxvl=np.where( msk_vl)[0]\n",
    "idxtr=np.where(~msk_vl)[0]\n",
    "\n",
    "dftr = dftrn.iloc[idxtr].copy()\n",
    "dfvl = dftrn.iloc[idxvl].copy()\n",
    "del dftrn\n",
    "\n",
    "gc.collect()"
   ]
  },
  {
   "cell_type": "code",
   "execution_count": 12,
   "metadata": {},
   "outputs": [
    {
     "data": {
      "text/plain": [
       "Index(['twtid', 'twttyp', 'lang', 'u1id', 'u1_fllwer_cnt', 'u1_fllwing_cnt',\n",
       "       'u1_vrfed', 'u2id', 'u2_fllwer_cnt', 'u2_fllwng_cnt', 'u2_vrfed',\n",
       "       'u1_fllw_u2', 'retwt', 'reply', 'like', 'retwt_cmmnt', 'len_toks',\n",
       "       'n_media_Photo', 'n_media_Video', 'n_media_GIF', 'has_hshtgs',\n",
       "       'n_hshtgs', 'has_media', 'n_media', 'has_domns', 'n_domns', 'dayofweek',\n",
       "       'hour', 'tmdlta_u2u1', 'tmdlta_twtu1', 'tmdlta_twtu2', 'twt_age',\n",
       "       'u1_age', 'u2_age', 'u1_fllwer_cnt_by_age', 'u1_fllwng_cnt_by_age',\n",
       "       'u1u2', 'langhour', 'frq_twtid', 'frq_twttyp', 'frq_lang', 'frq_u1id',\n",
       "       'frq_u1_fllwing_cnt', 'frq_u1_vrfed', 'frq_u2id', 'frq_u2_fllwer_cnt',\n",
       "       'frq_u2_vrfed', 'frq_u1_fllw_u2', 'frq_n_media_Photo',\n",
       "       'frq_n_media_Video', 'frq_n_media_GIF', 'frq_has_hshtgs',\n",
       "       'frq_n_hshtgs', 'frq_has_media', 'frq_n_media', 'frq_has_domns',\n",
       "       'frq_n_domns', 'frq_dayofweek', 'frq_hour', 'frq_u1u2', 'frq_langhour',\n",
       "       'sumfrq_hshtgs', 'maxfrq_hshtgs', 'sumfrq_media', 'maxfrq_media',\n",
       "       'sumfrq_links', 'maxfrq_links', 'sumfrq_domns', 'maxfrq_domns'],\n",
       "      dtype='object')"
      ]
     },
     "execution_count": 12,
     "metadata": {},
     "output_type": "execute_result"
    }
   ],
   "source": [
    "dftr.columns"
   ]
  },
  {
   "cell_type": "code",
   "execution_count": 13,
   "metadata": {},
   "outputs": [
    {
     "name": "stdout",
     "output_type": "stream",
     "text": [
      "CPU times: user 22 s, sys: 3.5 s, total: 25.5 s\n",
      "Wall time: 25.5 s\n"
     ]
    }
   ],
   "source": [
    "%%time\n",
    "col2tgtenc=['twtid', 'twttyp', 'lang', 'u1id', 'u1_fllwing_cnt', 'u1_vrfed', 'u2id', 'u2_fllwer_cnt', 'u2_vrfed', 'u1_fllw_u2', \n",
    "   'n_media_Photo', 'n_media_Video', 'n_media_GIF', \n",
    "   'has_hshtgs', 'n_hshtgs', 'has_media', 'n_media','has_domns', 'n_domns', \n",
    "   'dayofweek', 'hour', 'u1u2', 'langhour']\n",
    "tgt_encoder = ce.TargetEncoder()\n",
    "encoded_tr = tgt_encoder.fit_transform(dftr[col2tgtenc].astype(object), dftr[TCOL])\n",
    "encoded_vl = tgt_encoder.transform(dfvl[col2tgtenc].astype(object))\n",
    "encoded_val = tgt_encoder.transform(dfval[col2tgtenc].astype(object))\n",
    "\n",
    "tgtenc_columns = [f'tgtenc_{col}' for col in encoded_tr.columns]\n",
    "encoded_tr.columns = tgtenc_columns\n",
    "encoded_vl.columns = tgtenc_columns\n",
    "encoded_val.columns = tgtenc_columns\n",
    "\n",
    "dftr = pd.concat([dftr, encoded_tr], 1)\n",
    "dfvl = pd.concat([dfvl, encoded_vl], 1)\n",
    "dfval = pd.concat([dfval, encoded_val], 1)\n"
   ]
  },
  {
   "cell_type": "code",
   "execution_count": 14,
   "metadata": {},
   "outputs": [],
   "source": [
    "cols_category=['twttyp', 'lang', 'langhour']\n",
    "for df in dftr,dfvl,dfval:\n",
    "    df.drop(columns=['twtid','u1id','u2id','u1u2'], inplace=True)\n",
    "    df[cols_category]=df[cols_category].astype('category')"
   ]
  },
  {
   "cell_type": "code",
   "execution_count": 15,
   "metadata": {},
   "outputs": [],
   "source": [
    "cols_feat = [col for col in dftr.columns if col not in cols_tgt]"
   ]
  },
  {
   "cell_type": "code",
   "execution_count": 16,
   "metadata": {},
   "outputs": [
    {
     "data": {
      "text/plain": [
       "twttyp                   category\n",
       "lang                     category\n",
       "u1_fllwer_cnt               int64\n",
       "u1_fllwing_cnt              int64\n",
       "u1_vrfed                     bool\n",
       "u2_fllwer_cnt               int64\n",
       "u2_fllwng_cnt               int64\n",
       "u2_vrfed                     bool\n",
       "u1_fllw_u2                   bool\n",
       "retwt                        bool\n",
       "reply                        bool\n",
       "like                         bool\n",
       "retwt_cmmnt                  bool\n",
       "len_toks                    int64\n",
       "n_media_Photo               int64\n",
       "n_media_Video               int64\n",
       "n_media_GIF                 int64\n",
       "has_hshtgs                   bool\n",
       "n_hshtgs                    int64\n",
       "has_media                    bool\n",
       "n_media                     int64\n",
       "has_domns                    bool\n",
       "n_domns                     int64\n",
       "dayofweek                   int64\n",
       "hour                        int64\n",
       "tmdlta_u2u1                 int64\n",
       "tmdlta_twtu1                int64\n",
       "tmdlta_twtu2                int64\n",
       "twt_age                     int64\n",
       "u1_age                      int64\n",
       "u2_age                      int64\n",
       "u1_fllwer_cnt_by_age      float64\n",
       "u1_fllwng_cnt_by_age      float64\n",
       "langhour                 category\n",
       "frq_twtid                 float64\n",
       "frq_twttyp                float64\n",
       "frq_lang                  float64\n",
       "frq_u1id                  float64\n",
       "frq_u1_fllwing_cnt        float64\n",
       "frq_u1_vrfed              float64\n",
       "frq_u2id                  float64\n",
       "frq_u2_fllwer_cnt         float64\n",
       "frq_u2_vrfed              float64\n",
       "frq_u1_fllw_u2            float64\n",
       "frq_n_media_Photo         float64\n",
       "frq_n_media_Video         float64\n",
       "frq_n_media_GIF           float64\n",
       "frq_has_hshtgs            float64\n",
       "frq_n_hshtgs              float64\n",
       "frq_has_media             float64\n",
       "frq_n_media               float64\n",
       "frq_has_domns             float64\n",
       "frq_n_domns               float64\n",
       "frq_dayofweek             float64\n",
       "frq_hour                  float64\n",
       "frq_u1u2                  float64\n",
       "frq_langhour              float64\n",
       "sumfrq_hshtgs             float64\n",
       "maxfrq_hshtgs             float64\n",
       "sumfrq_media              float64\n",
       "maxfrq_media              float64\n",
       "sumfrq_links              float64\n",
       "maxfrq_links              float64\n",
       "sumfrq_domns              float64\n",
       "maxfrq_domns              float64\n",
       "tgtenc_twtid              float64\n",
       "tgtenc_twttyp             float64\n",
       "tgtenc_lang               float64\n",
       "tgtenc_u1id               float64\n",
       "tgtenc_u1_fllwing_cnt     float64\n",
       "tgtenc_u1_vrfed           float64\n",
       "tgtenc_u2id               float64\n",
       "tgtenc_u2_fllwer_cnt      float64\n",
       "tgtenc_u2_vrfed           float64\n",
       "tgtenc_u1_fllw_u2         float64\n",
       "tgtenc_n_media_Photo      float64\n",
       "tgtenc_n_media_Video      float64\n",
       "tgtenc_n_media_GIF        float64\n",
       "tgtenc_has_hshtgs         float64\n",
       "tgtenc_n_hshtgs           float64\n",
       "tgtenc_has_media          float64\n",
       "tgtenc_n_media            float64\n",
       "tgtenc_has_domns          float64\n",
       "tgtenc_n_domns            float64\n",
       "tgtenc_dayofweek          float64\n",
       "tgtenc_hour               float64\n",
       "tgtenc_u1u2               float64\n",
       "tgtenc_langhour           float64\n",
       "dtype: object"
      ]
     },
     "execution_count": 16,
     "metadata": {},
     "output_type": "execute_result"
    }
   ],
   "source": [
    "dftr.dtypes"
   ]
  },
  {
   "cell_type": "markdown",
   "metadata": {},
   "source": [
    "# model"
   ]
  },
  {
   "cell_type": "code",
   "execution_count": 17,
   "metadata": {},
   "outputs": [],
   "source": [
    "results = {}\n",
    "results['PRFX'] = PRFX\n",
    "results['TGT'] = TGT\n",
    "results['cols_feat'] = cols_feat\n",
    "results['tgt_encoder'] = tgt_encoder\n",
    "results['col2tgtenc'] = col2tgtenc"
   ]
  },
  {
   "cell_type": "code",
   "execution_count": 18,
   "metadata": {},
   "outputs": [],
   "source": [
    "params={\n",
    "    'objective': 'binary',\n",
    "    'metric': 'binary_logloss',\n",
    "    'verbosity': 0,\n",
    "    \n",
    "}\n",
    "results['params'] = params"
   ]
  },
  {
   "cell_type": "code",
   "execution_count": 19,
   "metadata": {},
   "outputs": [
    {
     "name": "stdout",
     "output_type": "stream",
     "text": [
      "Training until validation scores don't improve for 100 rounds\n",
      "[100]\ttr's binary_logloss: 0.17831\tvl's binary_logloss: 0.384955\n",
      "Early stopping, best iteration is:\n",
      "[10]\ttr's binary_logloss: 0.223633\tvl's binary_logloss: 0.302233\n"
     ]
    }
   ],
   "source": [
    "dtr = lgb.Dataset(dftr[cols_feat], label=dftr[TCOL])\n",
    "dvl = lgb.Dataset(dfvl[cols_feat], label=dfvl[TCOL])\n",
    "evalres = {}\n",
    "evallist = [(dtr, 'train'), (dvl, 'eval')]\n",
    "bst = lgb.train(params=params, \n",
    "                train_set=dtr, \n",
    "                num_boost_round=50000,\n",
    "                valid_sets=[dtr, dvl],\n",
    "                valid_names=['tr','vl'],\n",
    "                verbose_eval=100,\n",
    "                early_stopping_rounds=100,\n",
    "                evals_result=evalres,\n",
    "               )\n",
    "results['bst'] = bst\n",
    "results['evalres'] = evalres"
   ]
  },
  {
   "cell_type": "markdown",
   "metadata": {},
   "source": [
    "## tr vl trajec"
   ]
  },
  {
   "cell_type": "code",
   "execution_count": 20,
   "metadata": {},
   "outputs": [
    {
     "data": {
      "image/png": "[encoded data removed]",
      "text/plain": [
       "<Figure size 432x288 with 1 Axes>"
      ]
     },
     "metadata": {
      "needs_background": "light"
     },
     "output_type": "display_data"
    }
   ],
   "source": [
    "plt.plot(evalres['tr']['binary_logloss'])\n",
    "plt.plot(evalres['vl']['binary_logloss'])\n",
    "plt.title(f\"logloss; best_iteration {bst.best_iteration}\")\n",
    "plt.show()"
   ]
  },
  {
   "cell_type": "markdown",
   "metadata": {},
   "source": [
    "## model features"
   ]
  },
  {
   "cell_type": "code",
   "execution_count": 21,
   "metadata": {},
   "outputs": [
    {
     "data": {
      "image/png": "[encoded data removed]",
      "text/plain": [
       "<Figure size 720x360 with 1 Axes>"
      ]
     },
     "metadata": {
      "needs_background": "light"
     },
     "output_type": "display_data"
    }
   ],
   "source": [
    "ax = lgb.plot_importance(bst, height=0.8, max_num_features=50, figsize=(10,5))\n",
    "ax.grid(False, axis=\"y\")\n",
    "ax.set_title(f'Estimated feature importance')\n",
    "plt.show()"
   ]
  },
  {
   "cell_type": "code",
   "execution_count": 22,
   "metadata": {
    "scrolled": true
   },
   "outputs": [
    {
     "data": {
      "text/html": [
       "<div>\n",
       "<style scoped>\n",
       "    .dataframe tbody tr th:only-of-type {\n",
       "        vertical-align: middle;\n",
       "    }\n",
       "\n",
       "    .dataframe tbody tr th {\n",
       "        vertical-align: top;\n",
       "    }\n",
       "\n",
       "    .dataframe thead th {\n",
       "        text-align: right;\n",
       "    }\n",
       "</style>\n",
       "<table border=\"1\" class=\"dataframe\">\n",
       "  <thead>\n",
       "    <tr style=\"text-align: right;\">\n",
       "      <th></th>\n",
       "      <th>0</th>\n",
       "      <th>1</th>\n",
       "    </tr>\n",
       "  </thead>\n",
       "  <tbody>\n",
       "    <tr>\n",
       "      <th>65</th>\n",
       "      <td>tgtenc_u1_fllwing_cnt</td>\n",
       "      <td>53</td>\n",
       "    </tr>\n",
       "    <tr>\n",
       "      <th>64</th>\n",
       "      <td>tgtenc_u1id</td>\n",
       "      <td>47</td>\n",
       "    </tr>\n",
       "    <tr>\n",
       "      <th>67</th>\n",
       "      <td>tgtenc_u2id</td>\n",
       "      <td>44</td>\n",
       "    </tr>\n",
       "    <tr>\n",
       "      <th>61</th>\n",
       "      <td>tgtenc_twtid</td>\n",
       "      <td>39</td>\n",
       "    </tr>\n",
       "    <tr>\n",
       "      <th>68</th>\n",
       "      <td>tgtenc_u2_fllwer_cnt</td>\n",
       "      <td>30</td>\n",
       "    </tr>\n",
       "    <tr>\n",
       "      <th>0</th>\n",
       "      <td>twttyp</td>\n",
       "      <td>15</td>\n",
       "    </tr>\n",
       "    <tr>\n",
       "      <th>29</th>\n",
       "      <td>langhour</td>\n",
       "      <td>12</td>\n",
       "    </tr>\n",
       "    <tr>\n",
       "      <th>26</th>\n",
       "      <td>u2_age</td>\n",
       "      <td>11</td>\n",
       "    </tr>\n",
       "    <tr>\n",
       "      <th>8</th>\n",
       "      <td>u1_fllw_u2</td>\n",
       "      <td>10</td>\n",
       "    </tr>\n",
       "    <tr>\n",
       "      <th>1</th>\n",
       "      <td>lang</td>\n",
       "      <td>7</td>\n",
       "    </tr>\n",
       "    <tr>\n",
       "      <th>83</th>\n",
       "      <td>tgtenc_langhour</td>\n",
       "      <td>7</td>\n",
       "    </tr>\n",
       "    <tr>\n",
       "      <th>17</th>\n",
       "      <td>has_domns</td>\n",
       "      <td>5</td>\n",
       "    </tr>\n",
       "    <tr>\n",
       "      <th>2</th>\n",
       "      <td>u1_fllwer_cnt</td>\n",
       "      <td>3</td>\n",
       "    </tr>\n",
       "    <tr>\n",
       "      <th>27</th>\n",
       "      <td>u1_fllwer_cnt_by_age</td>\n",
       "      <td>3</td>\n",
       "    </tr>\n",
       "    <tr>\n",
       "      <th>79</th>\n",
       "      <td>tgtenc_n_domns</td>\n",
       "      <td>3</td>\n",
       "    </tr>\n",
       "    <tr>\n",
       "      <th>23</th>\n",
       "      <td>tmdlta_twtu2</td>\n",
       "      <td>3</td>\n",
       "    </tr>\n",
       "    <tr>\n",
       "      <th>6</th>\n",
       "      <td>u2_fllwng_cnt</td>\n",
       "      <td>2</td>\n",
       "    </tr>\n",
       "    <tr>\n",
       "      <th>34</th>\n",
       "      <td>frq_u1_fllwing_cnt</td>\n",
       "      <td>2</td>\n",
       "    </tr>\n",
       "    <tr>\n",
       "      <th>75</th>\n",
       "      <td>tgtenc_n_hshtgs</td>\n",
       "      <td>1</td>\n",
       "    </tr>\n",
       "    <tr>\n",
       "      <th>3</th>\n",
       "      <td>u1_fllwing_cnt</td>\n",
       "      <td>1</td>\n",
       "    </tr>\n",
       "    <tr>\n",
       "      <th>37</th>\n",
       "      <td>frq_u2_fllwer_cnt</td>\n",
       "      <td>1</td>\n",
       "    </tr>\n",
       "    <tr>\n",
       "      <th>33</th>\n",
       "      <td>frq_u1id</td>\n",
       "      <td>1</td>\n",
       "    </tr>\n",
       "    <tr>\n",
       "      <th>58</th>\n",
       "      <td>maxfrq_links</td>\n",
       "      <td>0</td>\n",
       "    </tr>\n",
       "    <tr>\n",
       "      <th>57</th>\n",
       "      <td>sumfrq_links</td>\n",
       "      <td>0</td>\n",
       "    </tr>\n",
       "    <tr>\n",
       "      <th>60</th>\n",
       "      <td>maxfrq_domns</td>\n",
       "      <td>0</td>\n",
       "    </tr>\n",
       "    <tr>\n",
       "      <th>56</th>\n",
       "      <td>maxfrq_media</td>\n",
       "      <td>0</td>\n",
       "    </tr>\n",
       "    <tr>\n",
       "      <th>62</th>\n",
       "      <td>tgtenc_twttyp</td>\n",
       "      <td>0</td>\n",
       "    </tr>\n",
       "    <tr>\n",
       "      <th>55</th>\n",
       "      <td>sumfrq_media</td>\n",
       "      <td>0</td>\n",
       "    </tr>\n",
       "    <tr>\n",
       "      <th>63</th>\n",
       "      <td>tgtenc_lang</td>\n",
       "      <td>0</td>\n",
       "    </tr>\n",
       "    <tr>\n",
       "      <th>54</th>\n",
       "      <td>maxfrq_hshtgs</td>\n",
       "      <td>0</td>\n",
       "    </tr>\n",
       "    <tr>\n",
       "      <th>5</th>\n",
       "      <td>u2_fllwer_cnt</td>\n",
       "      <td>0</td>\n",
       "    </tr>\n",
       "    <tr>\n",
       "      <th>53</th>\n",
       "      <td>sumfrq_hshtgs</td>\n",
       "      <td>0</td>\n",
       "    </tr>\n",
       "    <tr>\n",
       "      <th>4</th>\n",
       "      <td>u1_vrfed</td>\n",
       "      <td>0</td>\n",
       "    </tr>\n",
       "    <tr>\n",
       "      <th>59</th>\n",
       "      <td>sumfrq_domns</td>\n",
       "      <td>0</td>\n",
       "    </tr>\n",
       "    <tr>\n",
       "      <th>11</th>\n",
       "      <td>n_media_Video</td>\n",
       "      <td>0</td>\n",
       "    </tr>\n",
       "    <tr>\n",
       "      <th>66</th>\n",
       "      <td>tgtenc_u1_vrfed</td>\n",
       "      <td>0</td>\n",
       "    </tr>\n",
       "    <tr>\n",
       "      <th>51</th>\n",
       "      <td>frq_u1u2</td>\n",
       "      <td>0</td>\n",
       "    </tr>\n",
       "    <tr>\n",
       "      <th>69</th>\n",
       "      <td>tgtenc_u2_vrfed</td>\n",
       "      <td>0</td>\n",
       "    </tr>\n",
       "    <tr>\n",
       "      <th>70</th>\n",
       "      <td>tgtenc_u1_fllw_u2</td>\n",
       "      <td>0</td>\n",
       "    </tr>\n",
       "    <tr>\n",
       "      <th>71</th>\n",
       "      <td>tgtenc_n_media_Photo</td>\n",
       "      <td>0</td>\n",
       "    </tr>\n",
       "    <tr>\n",
       "      <th>72</th>\n",
       "      <td>tgtenc_n_media_Video</td>\n",
       "      <td>0</td>\n",
       "    </tr>\n",
       "    <tr>\n",
       "      <th>73</th>\n",
       "      <td>tgtenc_n_media_GIF</td>\n",
       "      <td>0</td>\n",
       "    </tr>\n",
       "    <tr>\n",
       "      <th>74</th>\n",
       "      <td>tgtenc_has_hshtgs</td>\n",
       "      <td>0</td>\n",
       "    </tr>\n",
       "    <tr>\n",
       "      <th>76</th>\n",
       "      <td>tgtenc_has_media</td>\n",
       "      <td>0</td>\n",
       "    </tr>\n",
       "    <tr>\n",
       "      <th>77</th>\n",
       "      <td>tgtenc_n_media</td>\n",
       "      <td>0</td>\n",
       "    </tr>\n",
       "    <tr>\n",
       "      <th>78</th>\n",
       "      <td>tgtenc_has_domns</td>\n",
       "      <td>0</td>\n",
       "    </tr>\n",
       "    <tr>\n",
       "      <th>80</th>\n",
       "      <td>tgtenc_dayofweek</td>\n",
       "      <td>0</td>\n",
       "    </tr>\n",
       "    <tr>\n",
       "      <th>81</th>\n",
       "      <td>tgtenc_hour</td>\n",
       "      <td>0</td>\n",
       "    </tr>\n",
       "    <tr>\n",
       "      <th>82</th>\n",
       "      <td>tgtenc_u1u2</td>\n",
       "      <td>0</td>\n",
       "    </tr>\n",
       "    <tr>\n",
       "      <th>52</th>\n",
       "      <td>frq_langhour</td>\n",
       "      <td>0</td>\n",
       "    </tr>\n",
       "    <tr>\n",
       "      <th>47</th>\n",
       "      <td>frq_has_domns</td>\n",
       "      <td>0</td>\n",
       "    </tr>\n",
       "    <tr>\n",
       "      <th>50</th>\n",
       "      <td>frq_hour</td>\n",
       "      <td>0</td>\n",
       "    </tr>\n",
       "    <tr>\n",
       "      <th>30</th>\n",
       "      <td>frq_twtid</td>\n",
       "      <td>0</td>\n",
       "    </tr>\n",
       "    <tr>\n",
       "      <th>13</th>\n",
       "      <td>has_hshtgs</td>\n",
       "      <td>0</td>\n",
       "    </tr>\n",
       "    <tr>\n",
       "      <th>14</th>\n",
       "      <td>n_hshtgs</td>\n",
       "      <td>0</td>\n",
       "    </tr>\n",
       "    <tr>\n",
       "      <th>15</th>\n",
       "      <td>has_media</td>\n",
       "      <td>0</td>\n",
       "    </tr>\n",
       "    <tr>\n",
       "      <th>16</th>\n",
       "      <td>n_media</td>\n",
       "      <td>0</td>\n",
       "    </tr>\n",
       "    <tr>\n",
       "      <th>18</th>\n",
       "      <td>n_domns</td>\n",
       "      <td>0</td>\n",
       "    </tr>\n",
       "    <tr>\n",
       "      <th>19</th>\n",
       "      <td>dayofweek</td>\n",
       "      <td>0</td>\n",
       "    </tr>\n",
       "    <tr>\n",
       "      <th>20</th>\n",
       "      <td>hour</td>\n",
       "      <td>0</td>\n",
       "    </tr>\n",
       "    <tr>\n",
       "      <th>21</th>\n",
       "      <td>tmdlta_u2u1</td>\n",
       "      <td>0</td>\n",
       "    </tr>\n",
       "    <tr>\n",
       "      <th>22</th>\n",
       "      <td>tmdlta_twtu1</td>\n",
       "      <td>0</td>\n",
       "    </tr>\n",
       "    <tr>\n",
       "      <th>24</th>\n",
       "      <td>twt_age</td>\n",
       "      <td>0</td>\n",
       "    </tr>\n",
       "    <tr>\n",
       "      <th>25</th>\n",
       "      <td>u1_age</td>\n",
       "      <td>0</td>\n",
       "    </tr>\n",
       "    <tr>\n",
       "      <th>10</th>\n",
       "      <td>n_media_Photo</td>\n",
       "      <td>0</td>\n",
       "    </tr>\n",
       "    <tr>\n",
       "      <th>28</th>\n",
       "      <td>u1_fllwng_cnt_by_age</td>\n",
       "      <td>0</td>\n",
       "    </tr>\n",
       "    <tr>\n",
       "      <th>9</th>\n",
       "      <td>len_toks</td>\n",
       "      <td>0</td>\n",
       "    </tr>\n",
       "    <tr>\n",
       "      <th>31</th>\n",
       "      <td>frq_twttyp</td>\n",
       "      <td>0</td>\n",
       "    </tr>\n",
       "    <tr>\n",
       "      <th>49</th>\n",
       "      <td>frq_dayofweek</td>\n",
       "      <td>0</td>\n",
       "    </tr>\n",
       "    <tr>\n",
       "      <th>32</th>\n",
       "      <td>frq_lang</td>\n",
       "      <td>0</td>\n",
       "    </tr>\n",
       "    <tr>\n",
       "      <th>35</th>\n",
       "      <td>frq_u1_vrfed</td>\n",
       "      <td>0</td>\n",
       "    </tr>\n",
       "    <tr>\n",
       "      <th>36</th>\n",
       "      <td>frq_u2id</td>\n",
       "      <td>0</td>\n",
       "    </tr>\n",
       "    <tr>\n",
       "      <th>38</th>\n",
       "      <td>frq_u2_vrfed</td>\n",
       "      <td>0</td>\n",
       "    </tr>\n",
       "    <tr>\n",
       "      <th>39</th>\n",
       "      <td>frq_u1_fllw_u2</td>\n",
       "      <td>0</td>\n",
       "    </tr>\n",
       "    <tr>\n",
       "      <th>40</th>\n",
       "      <td>frq_n_media_Photo</td>\n",
       "      <td>0</td>\n",
       "    </tr>\n",
       "    <tr>\n",
       "      <th>41</th>\n",
       "      <td>frq_n_media_Video</td>\n",
       "      <td>0</td>\n",
       "    </tr>\n",
       "    <tr>\n",
       "      <th>7</th>\n",
       "      <td>u2_vrfed</td>\n",
       "      <td>0</td>\n",
       "    </tr>\n",
       "    <tr>\n",
       "      <th>43</th>\n",
       "      <td>frq_has_hshtgs</td>\n",
       "      <td>0</td>\n",
       "    </tr>\n",
       "    <tr>\n",
       "      <th>44</th>\n",
       "      <td>frq_n_hshtgs</td>\n",
       "      <td>0</td>\n",
       "    </tr>\n",
       "    <tr>\n",
       "      <th>45</th>\n",
       "      <td>frq_has_media</td>\n",
       "      <td>0</td>\n",
       "    </tr>\n",
       "    <tr>\n",
       "      <th>46</th>\n",
       "      <td>frq_n_media</td>\n",
       "      <td>0</td>\n",
       "    </tr>\n",
       "    <tr>\n",
       "      <th>12</th>\n",
       "      <td>n_media_GIF</td>\n",
       "      <td>0</td>\n",
       "    </tr>\n",
       "    <tr>\n",
       "      <th>48</th>\n",
       "      <td>frq_n_domns</td>\n",
       "      <td>0</td>\n",
       "    </tr>\n",
       "    <tr>\n",
       "      <th>42</th>\n",
       "      <td>frq_n_media_GIF</td>\n",
       "      <td>0</td>\n",
       "    </tr>\n",
       "  </tbody>\n",
       "</table>\n",
       "</div>"
      ],
      "text/plain": [
       "                        0   1\n",
       "65  tgtenc_u1_fllwing_cnt  53\n",
       "64            tgtenc_u1id  47\n",
       "67            tgtenc_u2id  44\n",
       "61           tgtenc_twtid  39\n",
       "68   tgtenc_u2_fllwer_cnt  30\n",
       "0                  twttyp  15\n",
       "29               langhour  12\n",
       "26                 u2_age  11\n",
       "8              u1_fllw_u2  10\n",
       "1                    lang   7\n",
       "83        tgtenc_langhour   7\n",
       "17              has_domns   5\n",
       "2           u1_fllwer_cnt   3\n",
       "27   u1_fllwer_cnt_by_age   3\n",
       "79         tgtenc_n_domns   3\n",
       "23           tmdlta_twtu2   3\n",
       "6           u2_fllwng_cnt   2\n",
       "34     frq_u1_fllwing_cnt   2\n",
       "75        tgtenc_n_hshtgs   1\n",
       "3          u1_fllwing_cnt   1\n",
       "37      frq_u2_fllwer_cnt   1\n",
       "33               frq_u1id   1\n",
       "58           maxfrq_links   0\n",
       "57           sumfrq_links   0\n",
       "60           maxfrq_domns   0\n",
       "56           maxfrq_media   0\n",
       "62          tgtenc_twttyp   0\n",
       "55           sumfrq_media   0\n",
       "63            tgtenc_lang   0\n",
       "54          maxfrq_hshtgs   0\n",
       "5           u2_fllwer_cnt   0\n",
       "53          sumfrq_hshtgs   0\n",
       "4                u1_vrfed   0\n",
       "59           sumfrq_domns   0\n",
       "11          n_media_Video   0\n",
       "66        tgtenc_u1_vrfed   0\n",
       "51               frq_u1u2   0\n",
       "69        tgtenc_u2_vrfed   0\n",
       "70      tgtenc_u1_fllw_u2   0\n",
       "71   tgtenc_n_media_Photo   0\n",
       "72   tgtenc_n_media_Video   0\n",
       "73     tgtenc_n_media_GIF   0\n",
       "74      tgtenc_has_hshtgs   0\n",
       "76       tgtenc_has_media   0\n",
       "77         tgtenc_n_media   0\n",
       "78       tgtenc_has_domns   0\n",
       "80       tgtenc_dayofweek   0\n",
       "81            tgtenc_hour   0\n",
       "82            tgtenc_u1u2   0\n",
       "52           frq_langhour   0\n",
       "47          frq_has_domns   0\n",
       "50               frq_hour   0\n",
       "30              frq_twtid   0\n",
       "13             has_hshtgs   0\n",
       "14               n_hshtgs   0\n",
       "15              has_media   0\n",
       "16                n_media   0\n",
       "18                n_domns   0\n",
       "19              dayofweek   0\n",
       "20                   hour   0\n",
       "21            tmdlta_u2u1   0\n",
       "22           tmdlta_twtu1   0\n",
       "24                twt_age   0\n",
       "25                 u1_age   0\n",
       "10          n_media_Photo   0\n",
       "28   u1_fllwng_cnt_by_age   0\n",
       "9                len_toks   0\n",
       "31             frq_twttyp   0\n",
       "49          frq_dayofweek   0\n",
       "32               frq_lang   0\n",
       "35           frq_u1_vrfed   0\n",
       "36               frq_u2id   0\n",
       "38           frq_u2_vrfed   0\n",
       "39         frq_u1_fllw_u2   0\n",
       "40      frq_n_media_Photo   0\n",
       "41      frq_n_media_Video   0\n",
       "7                u2_vrfed   0\n",
       "43         frq_has_hshtgs   0\n",
       "44           frq_n_hshtgs   0\n",
       "45          frq_has_media   0\n",
       "46            frq_n_media   0\n",
       "12            n_media_GIF   0\n",
       "48            frq_n_domns   0\n",
       "42        frq_n_media_GIF   0"
      ]
     },
     "execution_count": 22,
     "metadata": {},
     "output_type": "execute_result"
    }
   ],
   "source": [
    "pd.DataFrame([bst.feature_name(), bst.feature_importance()]).T.sort_values(1, ascending=False)"
   ]
  },
  {
   "cell_type": "markdown",
   "metadata": {},
   "source": [
    "# eval"
   ]
  },
  {
   "cell_type": "code",
   "execution_count": 23,
   "metadata": {},
   "outputs": [
    {
     "name": "stdout",
     "output_type": "stream",
     "text": [
      "CPU times: user 10.6 s, sys: 2.5 s, total: 13.1 s\n",
      "Wall time: 5.27 s\n"
     ]
    }
   ],
   "source": [
    "%%time\n",
    "prdtr = bst.predict(dftr[cols_feat],num_iteration=bst.best_iteration)\n",
    "prdvl = bst.predict(dfvl[cols_feat],num_iteration=bst.best_iteration)\n",
    "prdval0 = bst.predict(dfval[cols_feat],num_iteration=bst.best_iteration)\n",
    "prdval = calibration(prdval0, train_pop, target_pop, sampled_train_pop, sampled_target_pop)"
   ]
  },
  {
   "cell_type": "code",
   "execution_count": 24,
   "metadata": {},
   "outputs": [
    {
     "name": "stdout",
     "output_type": "stream",
     "text": [
      "CPU times: user 3.75 s, sys: 286 ms, total: 4.03 s\n",
      "Wall time: 1.7 s\n"
     ]
    }
   ],
   "source": [
    "%%time\n",
    "ytr,yvl,yval=[df[TCOL].values for df in (dftr,dfvl,dfval)]\n",
    "\n",
    "auc_tr=compute_prauc(prdtr, ytr)\n",
    "rce_tr=compute_rce(prdtr, ytr)\n",
    "auc_vl=compute_prauc(prdvl, yvl)\n",
    "rce_vl=compute_rce(prdvl, yvl)\n",
    "auc_val=compute_prauc(prdval, yval)\n",
    "rce_val=compute_rce(prdval, yval)\n",
    "\n",
    "results['scrs'] = {}\n",
    "results['scrs']['auc_tr']=auc_tr\n",
    "results['scrs']['rce_tr']=rce_tr\n",
    "results['scrs']['auc_vl']=auc_vl\n",
    "results['scrs']['rce_vl']=rce_vl\n",
    "results['scrs']['auc_val']=auc_val\n",
    "results['scrs']['rce_val']=rce_val"
   ]
  },
  {
   "cell_type": "code",
   "execution_count": 25,
   "metadata": {},
   "outputs": [
    {
     "name": "stdout",
     "output_type": "stream",
     "text": [
      "auc_tr:        0.5930\n",
      "auc_vl:        0.2418\n",
      "auc_val:       0.0677\n",
      "\n",
      "rce_tr:        31.9169\n",
      "rce_vl:        8.9774\n",
      "rce_val:       6.6165\n"
     ]
    }
   ],
   "source": [
    "print(f'auc_tr:  {auc_tr:.4f}')\n",
    "print(f'auc_vl:  {auc_vl:.4f}')\n",
    "print(f'auc_val: {auc_val:.4f}')\n",
    "print()\n",
    "print(f'rce_tr:  {rce_tr:.4f}')\n",
    "print(f'rce_vl:  {rce_vl:.4f}')\n",
    "print(f'rce_val: {rce_val:.4f}')"
   ]
  },
  {
   "cell_type": "markdown",
   "metadata": {},
   "source": [
    "# save results"
   ]
  },
  {
   "cell_type": "code",
   "execution_count": 26,
   "metadata": {},
   "outputs": [],
   "source": [
    "pickle.dump(results, open(f'{p_out}/results_{PRFX}.p', 'wb'))"
   ]
  },
  {
   "cell_type": "markdown",
   "metadata": {},
   "source": [
    "# infer"
   ]
  },
  {
   "cell_type": "code",
   "execution_count": 27,
   "metadata": {},
   "outputs": [],
   "source": [
    "results = pickle.load( open(f'{p_out}/results_{PRFX}.p', 'rb'))\n",
    "bst = results['bst']\n",
    "col2tgtenc = results['col2tgtenc']\n",
    "cols_feat = results['cols_feat']\n",
    "tgt_encoder = results['tgt_encoder']"
   ]
  },
  {
   "cell_type": "markdown",
   "metadata": {},
   "source": [
    "## prep"
   ]
  },
  {
   "cell_type": "code",
   "execution_count": 28,
   "metadata": {},
   "outputs": [
    {
     "name": "stdout",
     "output_type": "stream",
     "text": [
      "CPU times: user 6.75 ms, sys: 301 µs, total: 7.05 ms\n",
      "Wall time: 6.04 ms\n"
     ]
    }
   ],
   "source": [
    "%%time\n",
    "dftst=pd.read_csv(\n",
    "    f'{p_in}/val_{tsttmstmp}.tsv',\n",
    "    sep='\\x01', header=None, names=cols_val, \n",
    "    nrows=10\n",
    ")"
   ]
  },
  {
   "cell_type": "code",
   "execution_count": 29,
   "metadata": {
    "scrolled": true
   },
   "outputs": [
    {
     "name": "stdout",
     "output_type": "stream",
     "text": [
      "2020-04-05 19:44:48 start\n",
      "2020-04-05 19:44:48 freq of columns using CountEncoder\n",
      "2020-04-05 19:44:48 freq of tags\n",
      "2020-04-05 19:44:48 done\n",
      "CPU times: user 126 ms, sys: 438 µs, total: 126 ms\n",
      "Wall time: 120 ms\n"
     ]
    },
    {
     "name": "stderr",
     "output_type": "stream",
     "text": [
      "/data/anaconda3/envs/rcss20/lib/python3.7/site-packages/category_encoders/count.py:255: FutureWarning: The pandas.np module is deprecated and will be removed from pandas in a future version. Import numpy directly instead\n",
      "  X.loc[:, self.cols] = X.fillna(value=pd.np.nan)\n"
     ]
    }
   ],
   "source": [
    "%%time\n",
    "dftst=prp_df(dftst, tm_max=tm_tst_max)"
   ]
  },
  {
   "cell_type": "code",
   "execution_count": 30,
   "metadata": {},
   "outputs": [],
   "source": [
    "encoded_tst = tgt_encoder.transform(dftst[col2tgtenc].astype(object))\n",
    "tgtenc_columns = [f'tgtenc_{col}' for col in encoded_tst.columns]\n",
    "encoded_tst.columns = tgtenc_columns\n",
    "dftst = pd.concat([dftst, encoded_tst], 1)\n",
    "dftst.drop(columns=['u1id','u1u2'], inplace=True)\n",
    "cols_category=['twttyp', 'lang', 'langhour']\n",
    "dftst[cols_category]=dftst[cols_category].astype('category')"
   ]
  },
  {
   "cell_type": "markdown",
   "metadata": {},
   "source": [
    "## predict"
   ]
  },
  {
   "cell_type": "code",
   "execution_count": 31,
   "metadata": {},
   "outputs": [
    {
     "name": "stdout",
     "output_type": "stream",
     "text": [
      "CPU times: user 26.6 ms, sys: 719 µs, total: 27.3 ms\n",
      "Wall time: 21.1 ms\n"
     ]
    }
   ],
   "source": [
    "%%time\n",
    "prdtst0 = bst.predict(dftst[cols_feat],num_iteration=bst.best_iteration)\n",
    "prdtst = calibration(prdtst0, train_pop, target_pop, sampled_train_pop, sampled_target_pop)"
   ]
  },
  {
   "cell_type": "code",
   "execution_count": 32,
   "metadata": {},
   "outputs": [],
   "source": [
    "dfsub_ids = dftst[['twtid','u2id',]]\n",
    "dfsub = dfsub_ids.copy()\n",
    "dfsub['scr'] = prdtst\n",
    "dfsub.to_csv(f'{p_out}/{TGT}__{PRFX}.csv',index=False,header=False)"
   ]
  },
  {
   "cell_type": "code",
   "execution_count": null,
   "metadata": {},
   "outputs": [],
   "source": []
  },
  {
   "cell_type": "code",
   "execution_count": null,
   "metadata": {},
   "outputs": [],
   "source": []
  },
  {
   "cell_type": "code",
   "execution_count": null,
   "metadata": {},
   "outputs": [],
   "source": []
  }
 ],
 "metadata": {
  "kernelspec": {
   "display_name": "rcss20",
   "language": "python",
   "name": "rcss20"
  },
  "language_info": {
   "codemirror_mode": {
    "name": "ipython",
    "version": 3
   },
   "file_extension": ".py",
   "mimetype": "text/x-python",
   "name": "python",
   "nbconvert_exporter": "python",
   "pygments_lexer": "ipython3",
   "version": "3.7.6"
  },
  "toc": {
   "base_numbering": 1,
   "nav_menu": {},
   "number_sections": true,
   "sideBar": true,
   "skip_h1_title": false,
   "title_cell": "Table of Contents",
   "title_sidebar": "Contents",
   "toc_cell": false,
   "toc_position": {},
   "toc_section_display": true,
   "toc_window_display": true
  }
 },
 "nbformat": 4,
 "nbformat_minor": 4
}
