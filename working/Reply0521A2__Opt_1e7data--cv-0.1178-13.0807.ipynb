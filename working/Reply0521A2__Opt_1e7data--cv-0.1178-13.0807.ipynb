{
 "cells": [
  {
   "cell_type": "markdown",
   "metadata": {},
   "source": [
    "# start"
   ]
  },
  {
   "cell_type": "code",
   "execution_count": 1,
   "metadata": {},
   "outputs": [
    {
     "name": "stdout",
     "output_type": "stream",
     "text": [
      "train_total 148,075,238, test_total 14,000,000\n",
      "train_total 10,000,000, valsz 1,000,000\n",
      "['2020-03-17 02:32:24', '2020-05-21 15:43:26']\n",
      "['2020-02-06 00:00:00', '2020-02-12 23:59:59']\n",
      "['2020-02-13 00:00:00', '2020-02-19 23:59:59']\n"
     ]
    }
   ],
   "source": [
    "TGT='Reply'\n",
    "PRFX='Reply0521A2'\n",
    "\n",
    "trntmstmp=1584412344\n",
    "tsttmstmp=1590075806\n",
    "\n",
    "tm_trn_min,tm_trn_max=(1580947200, 1581551999)\n",
    "tm_tst_min,tm_tst_max=(1581552000, 1582156799)\n",
    "\n",
    "train_total=148075238\n",
    "test_total=int(1.4e7)\n",
    "print(f'train_total {train_total:,}, test_total {test_total:,}')\n",
    "\n",
    "SEED=101\n",
    "\n",
    "trnsz = int(1e7)\n",
    "valsz = trnsz//10\n",
    "print(f'train_total {trnsz:,}, valsz {valsz:,}')\n",
    "\n",
    "\n",
    "\n",
    "import datetime\n",
    "def showtm(tm): return datetime.datetime.fromtimestamp(tm).strftime('%Y-%m-%d %H:%M:%S')\n",
    "print([showtm(tm) for tm in (trntmstmp, tsttmstmp)])\n",
    "print([showtm(tm) for tm in (tm_trn_min,tm_trn_max)])\n",
    "print([showtm(tm) for tm in (tm_tst_min,tm_tst_max)])"
   ]
  },
  {
   "cell_type": "markdown",
   "metadata": {},
   "source": [
    "# setup"
   ]
  },
  {
   "cell_type": "code",
   "execution_count": 2,
   "metadata": {},
   "outputs": [
    {
     "name": "stdout",
     "output_type": "stream",
     "text": [
      "TCOL reply\n",
      "{'Retweet': 'retwt', 'Reply': 'reply', 'Like': 'like', 'RTwCmnt': 'retwt_cmmnt'}\n"
     ]
    }
   ],
   "source": [
    "from tqdm import tqdm\n",
    "import time\n",
    "from pathlib import Path\n",
    "from collections import Counter,defaultdict\n",
    "from sklearn.model_selection import train_test_split\n",
    "import pandas as pd\n",
    "import numpy as np\n",
    "import matplotlib.pyplot as plt\n",
    "from sklearn.metrics import accuracy_score, roc_auc_score, roc_curve, auc, precision_recall_curve\n",
    "import pickle\n",
    "# import xgboost as xgb\n",
    "import lightgbm as lgb\n",
    "import category_encoders as ce\n",
    "import gc\n",
    "\n",
    "import optuna\n",
    "# optuna.logging.CRITICAL, optuna.logging.FATAL\n",
    "# optuna.logging.ERROR\n",
    "# optuna.logging.WARNING, optuna.logging.WARN\n",
    "# optuna.logging.INFO\n",
    "# optuna.logging.DEBUG\n",
    "# optuna.logging.set_verbosity(optuna.logging.ERROR)\n",
    "import optuna.integration.lightgbm as lgb\n",
    "optuna.logging.disable_default_handler()\n",
    "\n",
    "\n",
    "pd.set_option('display.max_rows', 500)\n",
    "pd.set_option('display.max_columns', 500)\n",
    "\n",
    "\n",
    "import datetime\n",
    "def dtnow(): return datetime.datetime.now().strftime('%Y-%m-%d %H:%M:%S')\n",
    "\n",
    "def iou(s1,s2):\n",
    "    return len(s1&s2) / len(s1|s2)\n",
    "\n",
    "HOME='/data/git/recsys20'\n",
    "p_in=f'{HOME}/input'\n",
    "p_out=f'{HOME}/output/{PRFX}'\n",
    "Path(p_out).mkdir(exist_ok=True, parents=True)\n",
    "\n",
    "from sklearn.metrics import precision_recall_curve, auc, log_loss\n",
    "\n",
    "def compute_prauc(pred, gt):\n",
    "    prec, recall, thresh = precision_recall_curve(gt, pred)\n",
    "    prauc = auc(recall, prec)\n",
    "    return prauc\n",
    "\n",
    "def calculate_ctr(gt):\n",
    "    positive = len([x for x in gt if x == 1])\n",
    "    ctr = positive/float(len(gt))\n",
    "    return ctr\n",
    "\n",
    "def compute_rce(pred, gt):\n",
    "    cross_entropy = log_loss(gt, pred)\n",
    "    data_ctr = calculate_ctr(gt)\n",
    "    strawman_cross_entropy = log_loss(gt, [data_ctr for _ in range(len(gt))])\n",
    "    return (1.0 - cross_entropy/strawman_cross_entropy)*100.0\n",
    "\n",
    "# https://towardsdatascience.com/how-to-calibrate-undersampled-model-scores-8f3319c1ea5b\n",
    "# How to use the function?\n",
    "# Let’s say your goal is to generate a model that shows the credit default probabilities and your original \n",
    "# training data has 50,000 rows with only 500 of them labeled as target class. When you sample your non-target \n",
    "# instances randomly and reduce the total row count to 10,000, while conserving 500 target rows, our calibration\n",
    "# function becomes:\n",
    "# calibration(model_results, 50000, 500, 10000, 500)\n",
    "# Here model_results is your model probability output array. After you train your model and put the results in it, your function is ready to use. \n",
    "def calibration(data, train_pop, target_pop, sampled_train_pop, sampled_target_pop):\n",
    "    calibrated_data = ((data * (target_pop / train_pop) / (sampled_target_pop / sampled_train_pop)) /\n",
    "    (((1 - data) * (1 - target_pop / train_pop) / (1 - sampled_target_pop / sampled_train_pop)) +\n",
    "     (data * (target_pop / train_pop) / (sampled_target_pop / sampled_train_pop))))\n",
    "    return calibrated_data\n",
    "\n",
    "\n",
    "cols=['toks','hshtgs','twtid','media','links','domns','twttyp','lang','tm','u1id','u1_fllwer_cnt','u1_fllwing_cnt','u1_vrfed','u1_create_tm','u2id','u2_fllwer_cnt','u2_fllwng_cnt','u2_vrfed','u2_create_tm','u1_fllw_u2','reply_tm','retwt_tm','retwt_cmmnt_tm','like_tm',]\n",
    "\n",
    "cols_val = cols[:-4]\n",
    "cols_tgt_tmstmp=[ 'retwt_tm', 'reply_tm', 'like_tm', 'retwt_cmmnt_tm',]\n",
    "cols_tgt=[o.split('_tm')[0] for o in cols_tgt_tmstmp]\n",
    "tgts             = ['Retweet','Reply','Like','RTwCmnt',]\n",
    "assert cols_tgt == ['retwt',  'reply','like','retwt_cmmnt',]\n",
    "tgt2col = dict(zip(tgts, cols_tgt))\n",
    "TCOL=tgt2col[TGT]\n",
    "print('TCOL', TCOL)\n",
    "print(tgt2col)"
   ]
  },
  {
   "cell_type": "markdown",
   "metadata": {},
   "source": [
    "# prep"
   ]
  },
  {
   "cell_type": "code",
   "execution_count": 3,
   "metadata": {},
   "outputs": [],
   "source": [
    "def prp_tgt(df):\n",
    "    df[cols_tgt]=df[cols_tgt_tmstmp].notna()\n",
    "    df.drop(columns=cols_tgt_tmstmp, inplace=True)\n",
    "    display(df[cols_tgt].mean())"
   ]
  },
  {
   "cell_type": "code",
   "execution_count": 4,
   "metadata": {
    "scrolled": false
   },
   "outputs": [
    {
     "name": "stdout",
     "output_type": "stream",
     "text": [
      "(1000000, 24)\n"
     ]
    },
    {
     "data": {
      "text/plain": [
       "retwt          0.113135\n",
       "reply          0.027688\n",
       "like           0.438804\n",
       "retwt_cmmnt    0.007750\n",
       "dtype: float64"
      ]
     },
     "metadata": {},
     "output_type": "display_data"
    },
    {
     "name": "stdout",
     "output_type": "stream",
     "text": [
      "CPU times: user 11.2 s, sys: 1.36 s, total: 12.6 s\n",
      "Wall time: 25.2 s\n"
     ]
    }
   ],
   "source": [
    "%%time\n",
    "dfval = pd.read_csv(f'{p_in}/trn_{trntmstmp}.tsv',sep='\\x01',header=None,names=cols,nrows=valsz)\n",
    "print(dfval.shape)\n",
    "prp_tgt(dfval)"
   ]
  },
  {
   "cell_type": "markdown",
   "metadata": {},
   "source": [
    "## maybe oversample"
   ]
  },
  {
   "cell_type": "code",
   "execution_count": 5,
   "metadata": {},
   "outputs": [],
   "source": [
    "# df = pd.read_csv(f'{p_in}/trn_{trntmstmp}.tsv',sep='\\x01',header=None,names=cols,nrows=5)\n",
    "# dfval = pd.read_csv(f'{p_in}/trn_{trntmstmp}.tsv',sep='\\x01',header=None,names=cols,nrows=2)\n",
    "# dftrn = pd.read_csv(f'{p_in}/trn_{trntmstmp}.tsv',sep='\\x01',header=None,names=cols,skiprows=2,nrows=3)\n",
    "# display(df.twtid)\n",
    "# display(dfval.twtid)\n",
    "# display(dftrn.twtid)\n",
    "\n",
    "# 0    D4D1EBDE74F74C5DA529959AF979625C\n",
    "# 1    BFB529DAB6D384EB83E899A72AB3830D\n",
    "# 2    519078C7834E9642508F72A6C2D0F3B7\n",
    "# 3    52AAE9E33EFAC8C478C57B31A9E31ED1\n",
    "# 4    89C1298C55EB3D68E2784F0BFB69E6F8\n",
    "# Name: twtid, dtype: object\n",
    "# 0    D4D1EBDE74F74C5DA529959AF979625C\n",
    "# 1    BFB529DAB6D384EB83E899A72AB3830D\n",
    "# Name: twtid, dtype: object\n",
    "# 0    519078C7834E9642508F72A6C2D0F3B7\n",
    "# 1    52AAE9E33EFAC8C478C57B31A9E31ED1\n",
    "# 2    89C1298C55EB3D68E2784F0BFB69E6F8\n",
    "# Name: twtid, dtype: object"
   ]
  },
  {
   "cell_type": "code",
   "execution_count": 6,
   "metadata": {
    "scrolled": true
   },
   "outputs": [
    {
     "name": "stdout",
     "output_type": "stream",
     "text": [
      "(37000000, 24)\n"
     ]
    },
    {
     "data": {
      "text/plain": [
       "retwt          0.113052\n",
       "reply          0.027434\n",
       "like           0.439190\n",
       "retwt_cmmnt    0.007789\n",
       "dtype: float64"
      ]
     },
     "metadata": {},
     "output_type": "display_data"
    },
    {
     "name": "stdout",
     "output_type": "stream",
     "text": [
      "CPU times: user 8min 11s, sys: 2min, total: 10min 12s\n",
      "Wall time: 20min 56s\n"
     ]
    }
   ],
   "source": [
    "%%time\n",
    "if TGT in ('Retweet','Like'): trnpop=trnsz\n",
    "if TGT=='Reply': trnpop=trnsz*3.7\n",
    "if TGT=='RTwCmnt': trnpop=trnsz*11.5\n",
    "assert trnpop<train_total\n",
    "\n",
    "dftrn = pd.read_csv(f'{p_in}/trn_{trntmstmp}.tsv',sep='\\x01',header=None,names=cols,\n",
    "                     skiprows=valsz, nrows=trnpop)\n",
    "print(dftrn.shape)\n",
    "prp_tgt(dftrn)"
   ]
  },
  {
   "cell_type": "code",
   "execution_count": 7,
   "metadata": {
    "scrolled": true
   },
   "outputs": [
    {
     "name": "stdout",
     "output_type": "stream",
     "text": [
      "(10000000, 24) 0.1015047\n",
      "37000000 1015047 10000000 1015047\n"
     ]
    },
    {
     "data": {
      "text/html": [
       "<div>\n",
       "<style scoped>\n",
       "    .dataframe tbody tr th:only-of-type {\n",
       "        vertical-align: middle;\n",
       "    }\n",
       "\n",
       "    .dataframe tbody tr th {\n",
       "        vertical-align: top;\n",
       "    }\n",
       "\n",
       "    .dataframe thead th {\n",
       "        text-align: right;\n",
       "    }\n",
       "</style>\n",
       "<table border=\"1\" class=\"dataframe\">\n",
       "  <thead>\n",
       "    <tr style=\"text-align: right;\">\n",
       "      <th></th>\n",
       "      <th>toks</th>\n",
       "      <th>hshtgs</th>\n",
       "      <th>twtid</th>\n",
       "      <th>media</th>\n",
       "      <th>links</th>\n",
       "      <th>domns</th>\n",
       "      <th>twttyp</th>\n",
       "      <th>lang</th>\n",
       "      <th>tm</th>\n",
       "      <th>u1id</th>\n",
       "      <th>u1_fllwer_cnt</th>\n",
       "      <th>u1_fllwing_cnt</th>\n",
       "      <th>u1_vrfed</th>\n",
       "      <th>u1_create_tm</th>\n",
       "      <th>u2id</th>\n",
       "      <th>u2_fllwer_cnt</th>\n",
       "      <th>u2_fllwng_cnt</th>\n",
       "      <th>u2_vrfed</th>\n",
       "      <th>u2_create_tm</th>\n",
       "      <th>u1_fllw_u2</th>\n",
       "      <th>retwt</th>\n",
       "      <th>reply</th>\n",
       "      <th>like</th>\n",
       "      <th>retwt_cmmnt</th>\n",
       "    </tr>\n",
       "  </thead>\n",
       "  <tbody>\n",
       "    <tr>\n",
       "      <th>11</th>\n",
       "      <td>101\\t22734\\t19540\\t10393\\t124\\t76456\\t22201\\t1...</td>\n",
       "      <td>NaN</td>\n",
       "      <td>F11BD399C084D3035209F62EC72C0E6A</td>\n",
       "      <td>NaN</td>\n",
       "      <td>NaN</td>\n",
       "      <td>NaN</td>\n",
       "      <td>TopLevel</td>\n",
       "      <td>D3164C7FBCF2565DDF915B1B3AEFB1DC</td>\n",
       "      <td>1581044002</td>\n",
       "      <td>CFF9C8C70792DC31C769F29CBFA2FEBE</td>\n",
       "      <td>972</td>\n",
       "      <td>811</td>\n",
       "      <td>False</td>\n",
       "      <td>1575970944</td>\n",
       "      <td>0DD2B48B86395C04C36C377F0F499CC4</td>\n",
       "      <td>741</td>\n",
       "      <td>736</td>\n",
       "      <td>False</td>\n",
       "      <td>1563093560</td>\n",
       "      <td>True</td>\n",
       "      <td>False</td>\n",
       "      <td>True</td>\n",
       "      <td>True</td>\n",
       "      <td>False</td>\n",
       "    </tr>\n",
       "    <tr>\n",
       "      <th>32</th>\n",
       "      <td>101\\t100397\\t11447\\t119\\t100397\\t11447\\t119\\t1...</td>\n",
       "      <td>NaN</td>\n",
       "      <td>65AFF257ED64E9FA0428A761AA305287</td>\n",
       "      <td>NaN</td>\n",
       "      <td>NaN</td>\n",
       "      <td>NaN</td>\n",
       "      <td>Quote</td>\n",
       "      <td>1FFD2FE4297F5E70EBC6C3230D95CB9C</td>\n",
       "      <td>1581462579</td>\n",
       "      <td>5BA44B16761DE43723E20E995437805C</td>\n",
       "      <td>514</td>\n",
       "      <td>858</td>\n",
       "      <td>False</td>\n",
       "      <td>1237411551</td>\n",
       "      <td>0DD2CF17568371669DD5807061A7F231</td>\n",
       "      <td>17</td>\n",
       "      <td>38</td>\n",
       "      <td>False</td>\n",
       "      <td>1376576148</td>\n",
       "      <td>True</td>\n",
       "      <td>False</td>\n",
       "      <td>True</td>\n",
       "      <td>False</td>\n",
       "      <td>False</td>\n",
       "    </tr>\n",
       "    <tr>\n",
       "      <th>67</th>\n",
       "      <td>101\\t232\\t10113\\t44730\\t17828\\t102</td>\n",
       "      <td>NaN</td>\n",
       "      <td>96D790B62A2C15769B830E3A3E51BF34</td>\n",
       "      <td>NaN</td>\n",
       "      <td>NaN</td>\n",
       "      <td>NaN</td>\n",
       "      <td>TopLevel</td>\n",
       "      <td>FA3F382BC409C271E3D6EAF8BE4648DD</td>\n",
       "      <td>1581374220</td>\n",
       "      <td>2111169D09C052121BDF329807DC75A4</td>\n",
       "      <td>5296</td>\n",
       "      <td>1088</td>\n",
       "      <td>False</td>\n",
       "      <td>1286175742</td>\n",
       "      <td>0DD2ED2C408A60972110349BC121AEA7</td>\n",
       "      <td>77</td>\n",
       "      <td>304</td>\n",
       "      <td>False</td>\n",
       "      <td>1369165590</td>\n",
       "      <td>False</td>\n",
       "      <td>False</td>\n",
       "      <td>True</td>\n",
       "      <td>False</td>\n",
       "      <td>False</td>\n",
       "    </tr>\n",
       "    <tr>\n",
       "      <th>84</th>\n",
       "      <td>101\\t10862\\t11710\\t11223\\t14517\\t89106\\t17021\\...</td>\n",
       "      <td>NaN</td>\n",
       "      <td>46FB82A9A3034DDBD4A7C1E545720DF0</td>\n",
       "      <td>NaN</td>\n",
       "      <td>NaN</td>\n",
       "      <td>NaN</td>\n",
       "      <td>TopLevel</td>\n",
       "      <td>D3164C7FBCF2565DDF915B1B3AEFB1DC</td>\n",
       "      <td>1581536890</td>\n",
       "      <td>F8742926680CE7BA15DA13CE557BE011</td>\n",
       "      <td>2234</td>\n",
       "      <td>416</td>\n",
       "      <td>False</td>\n",
       "      <td>1305458959</td>\n",
       "      <td>0DD2FD96A5F56E0ABA54276D3CCC7480</td>\n",
       "      <td>1178</td>\n",
       "      <td>1661</td>\n",
       "      <td>False</td>\n",
       "      <td>1349738202</td>\n",
       "      <td>False</td>\n",
       "      <td>False</td>\n",
       "      <td>True</td>\n",
       "      <td>False</td>\n",
       "      <td>False</td>\n",
       "    </tr>\n",
       "    <tr>\n",
       "      <th>118</th>\n",
       "      <td>101\\t4726\\t4997\\t3740\\t1931\\t26164\\t29570\\t706...</td>\n",
       "      <td>NaN</td>\n",
       "      <td>9F3630A26084A55B8326376FC4AF5AF2</td>\n",
       "      <td>NaN</td>\n",
       "      <td>NaN</td>\n",
       "      <td>NaN</td>\n",
       "      <td>TopLevel</td>\n",
       "      <td>22C448FF81263D4BAF2A176145EE9EAD</td>\n",
       "      <td>1581463772</td>\n",
       "      <td>FE2B80E908ED0EF93CE0749BD93854BF</td>\n",
       "      <td>128</td>\n",
       "      <td>144</td>\n",
       "      <td>False</td>\n",
       "      <td>1567089785</td>\n",
       "      <td>0DD31F56720FD03FF243779A0004A4A8</td>\n",
       "      <td>146</td>\n",
       "      <td>191</td>\n",
       "      <td>False</td>\n",
       "      <td>1571151626</td>\n",
       "      <td>True</td>\n",
       "      <td>False</td>\n",
       "      <td>True</td>\n",
       "      <td>False</td>\n",
       "      <td>False</td>\n",
       "    </tr>\n",
       "  </tbody>\n",
       "</table>\n",
       "</div>"
      ],
      "text/plain": [
       "                                                  toks hshtgs  \\\n",
       "11   101\\t22734\\t19540\\t10393\\t124\\t76456\\t22201\\t1...    NaN   \n",
       "32   101\\t100397\\t11447\\t119\\t100397\\t11447\\t119\\t1...    NaN   \n",
       "67                  101\\t232\\t10113\\t44730\\t17828\\t102    NaN   \n",
       "84   101\\t10862\\t11710\\t11223\\t14517\\t89106\\t17021\\...    NaN   \n",
       "118  101\\t4726\\t4997\\t3740\\t1931\\t26164\\t29570\\t706...    NaN   \n",
       "\n",
       "                                twtid media links domns    twttyp  \\\n",
       "11   F11BD399C084D3035209F62EC72C0E6A   NaN   NaN   NaN  TopLevel   \n",
       "32   65AFF257ED64E9FA0428A761AA305287   NaN   NaN   NaN     Quote   \n",
       "67   96D790B62A2C15769B830E3A3E51BF34   NaN   NaN   NaN  TopLevel   \n",
       "84   46FB82A9A3034DDBD4A7C1E545720DF0   NaN   NaN   NaN  TopLevel   \n",
       "118  9F3630A26084A55B8326376FC4AF5AF2   NaN   NaN   NaN  TopLevel   \n",
       "\n",
       "                                 lang          tm  \\\n",
       "11   D3164C7FBCF2565DDF915B1B3AEFB1DC  1581044002   \n",
       "32   1FFD2FE4297F5E70EBC6C3230D95CB9C  1581462579   \n",
       "67   FA3F382BC409C271E3D6EAF8BE4648DD  1581374220   \n",
       "84   D3164C7FBCF2565DDF915B1B3AEFB1DC  1581536890   \n",
       "118  22C448FF81263D4BAF2A176145EE9EAD  1581463772   \n",
       "\n",
       "                                 u1id  u1_fllwer_cnt  u1_fllwing_cnt  \\\n",
       "11   CFF9C8C70792DC31C769F29CBFA2FEBE            972             811   \n",
       "32   5BA44B16761DE43723E20E995437805C            514             858   \n",
       "67   2111169D09C052121BDF329807DC75A4           5296            1088   \n",
       "84   F8742926680CE7BA15DA13CE557BE011           2234             416   \n",
       "118  FE2B80E908ED0EF93CE0749BD93854BF            128             144   \n",
       "\n",
       "     u1_vrfed  u1_create_tm                              u2id  u2_fllwer_cnt  \\\n",
       "11      False    1575970944  0DD2B48B86395C04C36C377F0F499CC4            741   \n",
       "32      False    1237411551  0DD2CF17568371669DD5807061A7F231             17   \n",
       "67      False    1286175742  0DD2ED2C408A60972110349BC121AEA7             77   \n",
       "84      False    1305458959  0DD2FD96A5F56E0ABA54276D3CCC7480           1178   \n",
       "118     False    1567089785  0DD31F56720FD03FF243779A0004A4A8            146   \n",
       "\n",
       "     u2_fllwng_cnt  u2_vrfed  u2_create_tm  u1_fllw_u2  retwt  reply   like  \\\n",
       "11             736     False    1563093560        True  False   True   True   \n",
       "32              38     False    1376576148        True  False   True  False   \n",
       "67             304     False    1369165590       False  False   True  False   \n",
       "84            1661     False    1349738202       False  False   True  False   \n",
       "118            191     False    1571151626        True  False   True  False   \n",
       "\n",
       "     retwt_cmmnt  \n",
       "11         False  \n",
       "32         False  \n",
       "67         False  \n",
       "84         False  \n",
       "118        False  "
      ]
     },
     "metadata": {},
     "output_type": "display_data"
    },
    {
     "data": {
      "text/plain": [
       "Index(['toks', 'hshtgs', 'twtid', 'media', 'links', 'domns', 'twttyp', 'lang',\n",
       "       'tm', 'u1id', 'u1_fllwer_cnt', 'u1_fllwing_cnt', 'u1_vrfed',\n",
       "       'u1_create_tm', 'u2id', 'u2_fllwer_cnt', 'u2_fllwng_cnt', 'u2_vrfed',\n",
       "       'u2_create_tm', 'u1_fllw_u2', 'retwt', 'reply', 'like', 'retwt_cmmnt'],\n",
       "      dtype='object')"
      ]
     },
     "metadata": {},
     "output_type": "display_data"
    }
   ],
   "source": [
    "train_pop=len(dftrn)\n",
    "sampled_train_pop=trnsz\n",
    "idx_pos = np.where(dftrn[TCOL])[0]\n",
    "target_pop=sampled_target_pop=len(idx_pos)\n",
    "if TGT in ('Reply','RTwCmnt'):\n",
    "    idx_neg0 = np.where(~dftrn[TCOL])[0]\n",
    "    idx_neg = np.random.choice(idx_neg0, trnsz-len(idx_pos), replace=False)\n",
    "    idx = np.concatenate([idx_pos,idx_neg])\n",
    "    dftrn = dftrn.iloc[idx].copy()\n",
    "print(dftrn.shape, dftrn[TCOL].mean())\n",
    "print(train_pop, target_pop, sampled_train_pop, sampled_target_pop)\n",
    "\n",
    "display(dftrn.head())\n",
    "display(dftrn.columns)"
   ]
  },
  {
   "cell_type": "markdown",
   "metadata": {},
   "source": [
    "## prep and features"
   ]
  },
  {
   "cell_type": "code",
   "execution_count": 8,
   "metadata": {},
   "outputs": [],
   "source": [
    "def prp_df(df, tm_max):\n",
    "    '''\n",
    "    tm_max = tm_trn_max for train tm_tst_max for test\n",
    "    '''\n",
    "    lendf = len(df)\n",
    "    print(dtnow(), 'start')\n",
    "    set_u1 = set(df.u1id)\n",
    "    set_u2 = set(df.u2id)\n",
    "    df['u1inu2']=df.u1id.isin(set_u2)\n",
    "    df['u2inu1']=df.u2id.isin(set_u1)\n",
    "\n",
    "    #counts\n",
    "    df['len_toks'] = df.toks.apply(lambda x: len(x.split('\\t')))\n",
    "    df.drop(columns=['toks'], inplace=True)    \n",
    "    for m in ['Photo', 'Video', 'GIF']:\n",
    "        df[f'n_media_{m}'] = df['media'].fillna('').apply(lambda x: x.split('\\t').count(m))\n",
    "    tgnms = ['hshtgs','media', 'links', 'domns',]\n",
    "    for tgnm in tgnms:\n",
    "        df[f'has_{tgnm}']=df[tgnm].notna()\n",
    "        df[f'lst_{tgnm}'] = df[tgnm].fillna('').apply(lambda x: x.split('\\t') if len(x) else [])\n",
    "        df[f'n_{tgnm}'] = df[f'lst_{tgnm}'].apply(len)  \n",
    "    df.drop(columns=['has_links','n_links'], inplace=True) #duplicates has_domns,n_domns \n",
    "    \n",
    "    #time\n",
    "    dt = pd.to_datetime(df.tm, unit='s')\n",
    "    df['dayofweek'] = dt.dt.dayofweek\n",
    "    df['hour'] = dt.dt.hour\n",
    "    \n",
    "    df['tmdlta_u2u1']  = df.u2_create_tm - df.u1_create_tm\n",
    "    df['tmdlta_twtu1'] = df.tm - df.u1_create_tm\n",
    "    df['tmdlta_twtu2'] = df.tm - df.u2_create_tm\n",
    "\n",
    "    df['twt_age']   = tm_max-df.tm\n",
    "    df['u1_age']    = tm_max-df.u1_create_tm\n",
    "    df['u2_age']    = tm_max-df.u2_create_tm\n",
    "    df.drop(columns=['tm', 'u1_create_tm', 'u2_create_tm'], inplace=True)\n",
    "\n",
    "    #time derived\n",
    "    df['u1_fllwer_cnt_by_age'] = df.u1_fllwer_cnt / df.u1_age\n",
    "    df['u1_fllwng_cnt_by_age'] = df.u2_fllwng_cnt / df.u2_age\n",
    "    \n",
    "    #interaction\n",
    "    df['u1u2']=df.u1id+'_'+df.u2id\n",
    "    df['langhour']=df.lang+'_'+df.hour.astype(str)\n",
    "    \n",
    "\n",
    "#     #freq of feature values\n",
    "#     print(dtnow(), 'freq of columns using CountEncoder')\n",
    "#     encoder = ce.CountEncoder()\n",
    "#     encoded = encoder.fit_transform(\n",
    "#     df[['twtid', 'twttyp', 'lang', 'u1id', 'u1_fllwing_cnt', 'u1_vrfed', 'u2id', 'u2_fllwer_cnt', 'u2_vrfed', 'u1_fllw_u2', \n",
    "#        'n_media_Photo', 'n_media_Video', 'n_media_GIF', \n",
    "#        'has_hshtgs', 'n_hshtgs', 'has_media', 'n_media','has_domns', 'n_domns', \n",
    "#        'dayofweek', 'hour', 'u1u2', 'langhour']].astype(object))\n",
    "#     encoded = encoded.astype(int)/lendf\n",
    "#     encoded.columns = [f'frq_{col}' for col in encoded.columns]\n",
    "#     df = pd.concat([df,encoded],1)\n",
    "    \n",
    "    #freq of tgnm values\n",
    "#     print(dtnow(), 'freq of tags')\n",
    "#     for tgnm in tgnms:\n",
    "#         vs = [j for i in df[f'lst_{tgnm}'] for j in i]\n",
    "#         cnt = Counter(vs)\n",
    "#         frq = {k:v/lendf for k,v in cnt.items()}\n",
    "#         df[f'sumfrq_{tgnm}']=df[f'lst_{tgnm}'].apply(lambda x: sum([frq.get(o,0) for o in x]))\n",
    "#         df[f'maxfrq_{tgnm}']=df[f'lst_{tgnm}'].apply(lambda x: max([frq.get(o,0) for o in x]) if len(x) else 0)\n",
    "    \n",
    "    df.drop(columns=tgnms+[f'lst_{tgnm}' for tgnm in tgnms],inplace=True)\n",
    "\n",
    "    print(dtnow(), 'done')\n",
    "    return df"
   ]
  },
  {
   "cell_type": "code",
   "execution_count": 9,
   "metadata": {},
   "outputs": [
    {
     "name": "stdout",
     "output_type": "stream",
     "text": [
      "2020-05-21 20:51:04 start\n",
      "2020-05-21 21:11:38 done\n",
      "CPU times: user 9min 49s, sys: 2min 12s, total: 12min 1s\n",
      "Wall time: 20min 37s\n"
     ]
    }
   ],
   "source": [
    "%%time\n",
    "dftrn=prp_df(dftrn, tm_max=tm_trn_max)"
   ]
  },
  {
   "cell_type": "code",
   "execution_count": 10,
   "metadata": {},
   "outputs": [
    {
     "name": "stdout",
     "output_type": "stream",
     "text": [
      "2020-05-21 21:11:41 start\n",
      "2020-05-21 21:11:57 done\n",
      "CPU times: user 14.1 s, sys: 2.26 s, total: 16.3 s\n",
      "Wall time: 16.1 s\n"
     ]
    }
   ],
   "source": [
    "%%time\n",
    "dfval=prp_df(dfval, tm_max=tm_trn_max)"
   ]
  },
  {
   "cell_type": "markdown",
   "metadata": {},
   "source": [
    "## tr vl split"
   ]
  },
  {
   "cell_type": "code",
   "execution_count": 11,
   "metadata": {},
   "outputs": [
    {
     "data": {
      "text/plain": [
       "30"
      ]
     },
     "execution_count": 11,
     "metadata": {},
     "output_type": "execute_result"
    }
   ],
   "source": [
    "msk_vl=np.random.rand(len(dftrn))<0.15\n",
    "idxvl=np.where( msk_vl)[0]\n",
    "idxtr=np.where(~msk_vl)[0]\n",
    "\n",
    "dftr = dftrn.iloc[idxtr].copy()\n",
    "dfvl = dftrn.iloc[idxvl].copy()\n",
    "del dftrn\n",
    "\n",
    "gc.collect()"
   ]
  },
  {
   "cell_type": "code",
   "execution_count": 12,
   "metadata": {},
   "outputs": [],
   "source": [
    "cols_category=['twttyp', 'lang', 'langhour']\n",
    "for df in dftr,dfvl,dfval:\n",
    "    df.drop(columns=['twtid','u1id','u2id','u1u2'], inplace=True)\n",
    "    df[cols_category]=df[cols_category].astype('category')"
   ]
  },
  {
   "cell_type": "code",
   "execution_count": 13,
   "metadata": {},
   "outputs": [],
   "source": [
    "cols_feat = [col for col in dftr.columns if col not in cols_tgt]"
   ]
  },
  {
   "cell_type": "markdown",
   "metadata": {},
   "source": [
    "# model"
   ]
  },
  {
   "cell_type": "markdown",
   "metadata": {},
   "source": [
    "## cols_feat"
   ]
  },
  {
   "cell_type": "code",
   "execution_count": 14,
   "metadata": {},
   "outputs": [
    {
     "data": {
      "text/plain": [
       "['twttyp',\n",
       " 'lang',\n",
       " 'u1_fllwer_cnt',\n",
       " 'u1_fllwing_cnt',\n",
       " 'u1_vrfed',\n",
       " 'u2_fllwer_cnt',\n",
       " 'u2_fllwng_cnt',\n",
       " 'u2_vrfed',\n",
       " 'u1_fllw_u2',\n",
       " 'u1inu2',\n",
       " 'u2inu1',\n",
       " 'len_toks',\n",
       " 'n_media_Photo',\n",
       " 'n_media_Video',\n",
       " 'n_media_GIF',\n",
       " 'has_hshtgs',\n",
       " 'n_hshtgs',\n",
       " 'has_media',\n",
       " 'n_media',\n",
       " 'has_domns',\n",
       " 'n_domns',\n",
       " 'dayofweek',\n",
       " 'hour',\n",
       " 'tmdlta_u2u1',\n",
       " 'tmdlta_twtu1',\n",
       " 'tmdlta_twtu2',\n",
       " 'twt_age',\n",
       " 'u1_age',\n",
       " 'u2_age',\n",
       " 'u1_fllwer_cnt_by_age',\n",
       " 'u1_fllwng_cnt_by_age',\n",
       " 'langhour']"
      ]
     },
     "execution_count": 14,
     "metadata": {},
     "output_type": "execute_result"
    }
   ],
   "source": [
    "cols_feat"
   ]
  },
  {
   "cell_type": "code",
   "execution_count": 15,
   "metadata": {},
   "outputs": [
    {
     "name": "stdout",
     "output_type": "stream",
     "text": [
      "32\n"
     ]
    }
   ],
   "source": [
    "print(len(cols_feat))\n"
   ]
  },
  {
   "cell_type": "code",
   "execution_count": 16,
   "metadata": {},
   "outputs": [],
   "source": [
    "results = {}\n",
    "results['PRFX'] = PRFX\n",
    "results['TGT'] = TGT\n",
    "results['cols_feat'] = cols_feat"
   ]
  },
  {
   "cell_type": "code",
   "execution_count": 17,
   "metadata": {},
   "outputs": [],
   "source": [
    "params={\n",
    "    'objective': 'binary',\n",
    "    'metric': 'binary_logloss',\n",
    "    'verbosity': 0,    \n",
    "}\n",
    "\n",
    "results['params'] = params"
   ]
  },
  {
   "cell_type": "code",
   "execution_count": null,
   "metadata": {
    "scrolled": true
   },
   "outputs": [
    {
     "name": "stderr",
     "output_type": "stream",
     "text": [
      "/data/anaconda3/envs/rcss20/lib/python3.7/site-packages/optuna/_experimental.py:87: ExperimentalWarning: train is experimental (supported from v0.18.0). The interface can change in the future.\n",
      "  ExperimentalWarning\n",
      "tune_feature_fraction, val_score: inf:   0%|          | 0/7 [00:00<?, ?it/s]"
     ]
    },
    {
     "name": "stdout",
     "output_type": "stream",
     "text": [
      "Training until validation scores don't improve for 100 rounds\n",
      "[100]\ttr's binary_logloss: 0.279099\tvl's binary_logloss: 0.279454\n",
      "[200]\ttr's binary_logloss: 0.277208\tvl's binary_logloss: 0.278022\n",
      "[300]\ttr's binary_logloss: 0.276059\tvl's binary_logloss: 0.277302\n",
      "[400]\ttr's binary_logloss: 0.275265\tvl's binary_logloss: 0.276864\n",
      "[500]\ttr's binary_logloss: 0.274545\tvl's binary_logloss: 0.276537\n",
      "[600]\ttr's binary_logloss: 0.273903\tvl's binary_logloss: 0.276277\n",
      "[700]\ttr's binary_logloss: 0.273274\tvl's binary_logloss: 0.276025\n",
      "[800]\ttr's binary_logloss: 0.272794\tvl's binary_logloss: 0.275894\n",
      "[900]\ttr's binary_logloss: 0.272286\tvl's binary_logloss: 0.275682\n",
      "[1000]\ttr's binary_logloss: 0.2718\tvl's binary_logloss: 0.275525\n",
      "[1100]\ttr's binary_logloss: 0.271366\tvl's binary_logloss: 0.275411\n",
      "[1200]\ttr's binary_logloss: 0.270929\tvl's binary_logloss: 0.275272\n",
      "[1300]\ttr's binary_logloss: 0.27054\tvl's binary_logloss: 0.275178\n",
      "[1400]\ttr's binary_logloss: 0.270149\tvl's binary_logloss: 0.275089\n",
      "[1500]\ttr's binary_logloss: 0.269822\tvl's binary_logloss: 0.275023\n",
      "[1600]\ttr's binary_logloss: 0.269496\tvl's binary_logloss: 0.274958\n",
      "[1700]\ttr's binary_logloss: 0.269163\tvl's binary_logloss: 0.274884\n",
      "[1800]\ttr's binary_logloss: 0.268783\tvl's binary_logloss: 0.274805\n",
      "[1900]\ttr's binary_logloss: 0.26847\tvl's binary_logloss: 0.27476\n",
      "[2000]\ttr's binary_logloss: 0.268126\tvl's binary_logloss: 0.274712\n",
      "[2100]\ttr's binary_logloss: 0.267773\tvl's binary_logloss: 0.274624\n",
      "[2200]\ttr's binary_logloss: 0.267488\tvl's binary_logloss: 0.274592\n",
      "[2300]\ttr's binary_logloss: 0.267178\tvl's binary_logloss: 0.274546\n",
      "[2400]\ttr's binary_logloss: 0.266883\tvl's binary_logloss: 0.274492\n",
      "[2500]\ttr's binary_logloss: 0.266606\tvl's binary_logloss: 0.27445\n",
      "[2600]\ttr's binary_logloss: 0.266332\tvl's binary_logloss: 0.274426\n",
      "[2700]\ttr's binary_logloss: 0.266027\tvl's binary_logloss: 0.274387\n",
      "[2800]\ttr's binary_logloss: 0.265734\tvl's binary_logloss: 0.274373\n",
      "[2900]\ttr's binary_logloss: 0.265456\tvl's binary_logloss: 0.274338\n",
      "[3000]\ttr's binary_logloss: 0.26519\tvl's binary_logloss: 0.274318\n",
      "[3100]\ttr's binary_logloss: 0.264897\tvl's binary_logloss: 0.274289\n",
      "[3200]\ttr's binary_logloss: 0.264642\tvl's binary_logloss: 0.274277\n",
      "[3300]\ttr's binary_logloss: 0.264387\tvl's binary_logloss: 0.274243\n",
      "[3400]\ttr's binary_logloss: 0.26412\tvl's binary_logloss: 0.274224\n",
      "[3500]\ttr's binary_logloss: 0.263856\tvl's binary_logloss: 0.274193\n",
      "[3600]\ttr's binary_logloss: 0.263607\tvl's binary_logloss: 0.274176\n",
      "[3700]\ttr's binary_logloss: 0.263334\tvl's binary_logloss: 0.274159\n",
      "[3800]\ttr's binary_logloss: 0.263078\tvl's binary_logloss: 0.274134\n",
      "[3900]\ttr's binary_logloss: 0.262838\tvl's binary_logloss: 0.27413\n",
      "[4000]\ttr's binary_logloss: 0.262584\tvl's binary_logloss: 0.274112\n",
      "[4100]\ttr's binary_logloss: 0.26234\tvl's binary_logloss: 0.274102\n",
      "[4200]\ttr's binary_logloss: 0.262092\tvl's binary_logloss: 0.274084\n",
      "[4300]\ttr's binary_logloss: 0.261854\tvl's binary_logloss: 0.274081\n",
      "Early stopping, best iteration is:\n",
      "[4222]\ttr's binary_logloss: 0.262033\tvl's binary_logloss: 0.274075\n"
     ]
    },
    {
     "name": "stderr",
     "output_type": "stream",
     "text": [
      "tune_feature_fraction, val_score: 0.274075:  14%|#4        | 1/7 [43:47<4:22:44, 2627.38s/it]"
     ]
    },
    {
     "name": "stdout",
     "output_type": "stream",
     "text": [
      "Training until validation scores don't improve for 100 rounds\n",
      "[100]\ttr's binary_logloss: 0.278671\tvl's binary_logloss: 0.279108\n",
      "[200]\ttr's binary_logloss: 0.276816\tvl's binary_logloss: 0.277815\n",
      "[300]\ttr's binary_logloss: 0.275778\tvl's binary_logloss: 0.277268\n",
      "[400]\ttr's binary_logloss: 0.274789\tvl's binary_logloss: 0.276772\n",
      "[500]\ttr's binary_logloss: 0.274007\tvl's binary_logloss: 0.276455\n",
      "[600]\ttr's binary_logloss: 0.273323\tvl's binary_logloss: 0.276192\n",
      "[700]\ttr's binary_logloss: 0.272717\tvl's binary_logloss: 0.275983\n",
      "[800]\ttr's binary_logloss: 0.272115\tvl's binary_logloss: 0.275806\n",
      "[900]\ttr's binary_logloss: 0.271605\tvl's binary_logloss: 0.275636\n",
      "[1000]\ttr's binary_logloss: 0.271149\tvl's binary_logloss: 0.275545\n",
      "[1100]\ttr's binary_logloss: 0.270671\tvl's binary_logloss: 0.275391\n",
      "[1200]\ttr's binary_logloss: 0.270229\tvl's binary_logloss: 0.275299\n",
      "[1300]\ttr's binary_logloss: 0.269835\tvl's binary_logloss: 0.275216\n",
      "[1400]\ttr's binary_logloss: 0.26942\tvl's binary_logloss: 0.275131\n",
      "[1500]\ttr's binary_logloss: 0.269047\tvl's binary_logloss: 0.27507\n",
      "[1600]\ttr's binary_logloss: 0.268688\tvl's binary_logloss: 0.275006\n",
      "[1700]\ttr's binary_logloss: 0.268314\tvl's binary_logloss: 0.274944\n",
      "[1800]\ttr's binary_logloss: 0.267945\tvl's binary_logloss: 0.274878\n",
      "[1900]\ttr's binary_logloss: 0.267585\tvl's binary_logloss: 0.27482\n",
      "[2000]\ttr's binary_logloss: 0.26726\tvl's binary_logloss: 0.274756\n",
      "[2100]\ttr's binary_logloss: 0.266925\tvl's binary_logloss: 0.274716\n",
      "[2200]\ttr's binary_logloss: 0.266641\tvl's binary_logloss: 0.274703\n",
      "[2300]\ttr's binary_logloss: 0.266327\tvl's binary_logloss: 0.274651\n",
      "[2400]\ttr's binary_logloss: 0.266007\tvl's binary_logloss: 0.27461\n",
      "[2500]\ttr's binary_logloss: 0.265709\tvl's binary_logloss: 0.274592\n",
      "[2600]\ttr's binary_logloss: 0.265426\tvl's binary_logloss: 0.274573\n",
      "[2700]\ttr's binary_logloss: 0.265136\tvl's binary_logloss: 0.274552\n",
      "[2800]\ttr's binary_logloss: 0.264845\tvl's binary_logloss: 0.274529\n",
      "[2900]\ttr's binary_logloss: 0.264536\tvl's binary_logloss: 0.274506\n",
      "[3000]\ttr's binary_logloss: 0.264266\tvl's binary_logloss: 0.27449\n",
      "[3100]\ttr's binary_logloss: 0.263983\tvl's binary_logloss: 0.274475\n",
      "Early stopping, best iteration is:\n",
      "[3092]\ttr's binary_logloss: 0.264005\tvl's binary_logloss: 0.27447\n"
     ]
    },
    {
     "name": "stderr",
     "output_type": "stream",
     "text": [
      "tune_feature_fraction, val_score: 0.274075:  29%|##8       | 2/7 [1:11:05<3:14:12, 2330.43s/it]"
     ]
    },
    {
     "name": "stdout",
     "output_type": "stream",
     "text": [
      "Training until validation scores don't improve for 100 rounds\n",
      "[100]\ttr's binary_logloss: 0.278643\tvl's binary_logloss: 0.279109\n",
      "[200]\ttr's binary_logloss: 0.276692\tvl's binary_logloss: 0.277831\n",
      "[300]\ttr's binary_logloss: 0.275667\tvl's binary_logloss: 0.277278\n",
      "[400]\ttr's binary_logloss: 0.274674\tvl's binary_logloss: 0.276826\n",
      "[500]\ttr's binary_logloss: 0.273857\tvl's binary_logloss: 0.276472\n",
      "[600]\ttr's binary_logloss: 0.273158\tvl's binary_logloss: 0.276176\n",
      "[700]\ttr's binary_logloss: 0.272586\tvl's binary_logloss: 0.275993\n",
      "[800]\ttr's binary_logloss: 0.272003\tvl's binary_logloss: 0.275833\n",
      "[900]\ttr's binary_logloss: 0.271422\tvl's binary_logloss: 0.275677\n",
      "[1000]\ttr's binary_logloss: 0.270911\tvl's binary_logloss: 0.275557\n",
      "[1100]\ttr's binary_logloss: 0.270381\tvl's binary_logloss: 0.275428\n",
      "[1200]\ttr's binary_logloss: 0.269948\tvl's binary_logloss: 0.275345\n",
      "[1300]\ttr's binary_logloss: 0.26949\tvl's binary_logloss: 0.275254\n",
      "[1400]\ttr's binary_logloss: 0.269055\tvl's binary_logloss: 0.275171\n",
      "[1500]\ttr's binary_logloss: 0.268633\tvl's binary_logloss: 0.275098\n",
      "[1600]\ttr's binary_logloss: 0.268262\tvl's binary_logloss: 0.275039\n",
      "[1700]\ttr's binary_logloss: 0.267882\tvl's binary_logloss: 0.274983\n",
      "[1800]\ttr's binary_logloss: 0.267529\tvl's binary_logloss: 0.274932\n",
      "[1900]\ttr's binary_logloss: 0.267157\tvl's binary_logloss: 0.274887\n",
      "[2000]\ttr's binary_logloss: 0.266841\tvl's binary_logloss: 0.274861\n",
      "[2100]\ttr's binary_logloss: 0.266505\tvl's binary_logloss: 0.274834\n",
      "[2200]\ttr's binary_logloss: 0.266166\tvl's binary_logloss: 0.274833\n",
      "[2300]\ttr's binary_logloss: 0.265824\tvl's binary_logloss: 0.274786\n",
      "[2400]\ttr's binary_logloss: 0.265472\tvl's binary_logloss: 0.274749\n",
      "[2500]\ttr's binary_logloss: 0.265157\tvl's binary_logloss: 0.274729\n",
      "[2600]\ttr's binary_logloss: 0.264839\tvl's binary_logloss: 0.274703\n",
      "[2700]\ttr's binary_logloss: 0.264518\tvl's binary_logloss: 0.274684\n",
      "[2800]\ttr's binary_logloss: 0.264176\tvl's binary_logloss: 0.274646\n",
      "[2900]\ttr's binary_logloss: 0.263892\tvl's binary_logloss: 0.274635\n",
      "[3000]\ttr's binary_logloss: 0.263588\tvl's binary_logloss: 0.274619\n",
      "[3100]\ttr's binary_logloss: 0.263286\tvl's binary_logloss: 0.274588\n",
      "[3200]\ttr's binary_logloss: 0.262987\tvl's binary_logloss: 0.27457\n",
      "[3300]\ttr's binary_logloss: 0.262694\tvl's binary_logloss: 0.274545\n",
      "[3400]\ttr's binary_logloss: 0.262406\tvl's binary_logloss: 0.274543\n",
      "[3500]\ttr's binary_logloss: 0.262119\tvl's binary_logloss: 0.274529\n",
      "[3600]\ttr's binary_logloss: 0.26186\tvl's binary_logloss: 0.274523\n",
      "Early stopping, best iteration is:\n",
      "[3576]\ttr's binary_logloss: 0.261919\tvl's binary_logloss: 0.274519\n"
     ]
    },
    {
     "name": "stderr",
     "output_type": "stream",
     "text": [
      "tune_feature_fraction, val_score: 0.274075:  43%|####2     | 3/7 [1:26:39<2:07:26, 1911.57s/it]"
     ]
    },
    {
     "name": "stdout",
     "output_type": "stream",
     "text": [
      "Training until validation scores don't improve for 100 rounds\n",
      "[100]\ttr's binary_logloss: 0.278513\tvl's binary_logloss: 0.27906\n",
      "[200]\ttr's binary_logloss: 0.276659\tvl's binary_logloss: 0.277946\n",
      "[300]\ttr's binary_logloss: 0.275472\tvl's binary_logloss: 0.277377\n",
      "[400]\ttr's binary_logloss: 0.274327\tvl's binary_logloss: 0.276903\n",
      "[500]\ttr's binary_logloss: 0.273413\tvl's binary_logloss: 0.27653\n",
      "[600]\ttr's binary_logloss: 0.27275\tvl's binary_logloss: 0.276276\n",
      "[700]\ttr's binary_logloss: 0.272011\tvl's binary_logloss: 0.27601\n",
      "[800]\ttr's binary_logloss: 0.271418\tvl's binary_logloss: 0.275876\n",
      "[900]\ttr's binary_logloss: 0.270845\tvl's binary_logloss: 0.275757\n",
      "[1000]\ttr's binary_logloss: 0.270309\tvl's binary_logloss: 0.275656\n",
      "[1100]\ttr's binary_logloss: 0.269775\tvl's binary_logloss: 0.275548\n",
      "[1200]\ttr's binary_logloss: 0.269196\tvl's binary_logloss: 0.275432\n",
      "[1300]\ttr's binary_logloss: 0.268732\tvl's binary_logloss: 0.275344\n",
      "[1400]\ttr's binary_logloss: 0.268261\tvl's binary_logloss: 0.275276\n",
      "[1500]\ttr's binary_logloss: 0.267846\tvl's binary_logloss: 0.275229\n",
      "[1600]\ttr's binary_logloss: 0.267448\tvl's binary_logloss: 0.275187\n",
      "[1700]\ttr's binary_logloss: 0.267017\tvl's binary_logloss: 0.275139\n",
      "[1800]\ttr's binary_logloss: 0.266624\tvl's binary_logloss: 0.275099\n",
      "[1900]\ttr's binary_logloss: 0.266277\tvl's binary_logloss: 0.275069\n",
      "[2000]\ttr's binary_logloss: 0.265881\tvl's binary_logloss: 0.275027\n",
      "[2100]\ttr's binary_logloss: 0.265536\tvl's binary_logloss: 0.275002\n",
      "[2200]\ttr's binary_logloss: 0.265182\tvl's binary_logloss: 0.275\n",
      "[2300]\ttr's binary_logloss: 0.264823\tvl's binary_logloss: 0.274948\n",
      "[2400]\ttr's binary_logloss: 0.264485\tvl's binary_logloss: 0.274924\n",
      "[2500]\ttr's binary_logloss: 0.264171\tvl's binary_logloss: 0.274921\n",
      "[2600]\ttr's binary_logloss: 0.263824\tvl's binary_logloss: 0.274907\n",
      "[2700]\ttr's binary_logloss: 0.263507\tvl's binary_logloss: 0.274902\n",
      "[2800]\ttr's binary_logloss: 0.263174\tvl's binary_logloss: 0.274889\n",
      "[2900]\ttr's binary_logloss: 0.262864\tvl's binary_logloss: 0.274881\n",
      "Early stopping, best iteration is:\n",
      "[2890]\ttr's binary_logloss: 0.262888\tvl's binary_logloss: 0.274878\n"
     ]
    },
    {
     "name": "stderr",
     "output_type": "stream",
     "text": [
      "tune_feature_fraction, val_score: 0.274075:  57%|#####7    | 4/7 [1:40:18<1:19:12, 1584.01s/it]"
     ]
    },
    {
     "name": "stdout",
     "output_type": "stream",
     "text": [
      "Training until validation scores don't improve for 100 rounds\n",
      "[100]\ttr's binary_logloss: 0.278421\tvl's binary_logloss: 0.279059\n",
      "[200]\ttr's binary_logloss: 0.276448\tvl's binary_logloss: 0.27796\n",
      "[300]\ttr's binary_logloss: 0.275223\tvl's binary_logloss: 0.277377\n",
      "[400]\ttr's binary_logloss: 0.274167\tvl's binary_logloss: 0.276996\n",
      "[500]\ttr's binary_logloss: 0.273331\tvl's binary_logloss: 0.276696\n",
      "[600]\ttr's binary_logloss: 0.272486\tvl's binary_logloss: 0.27648\n",
      "[700]\ttr's binary_logloss: 0.271773\tvl's binary_logloss: 0.276271\n",
      "[800]\ttr's binary_logloss: 0.271119\tvl's binary_logloss: 0.276128\n",
      "[900]\ttr's binary_logloss: 0.270419\tvl's binary_logloss: 0.275968\n",
      "[1000]\ttr's binary_logloss: 0.269804\tvl's binary_logloss: 0.275855\n",
      "[1100]\ttr's binary_logloss: 0.269269\tvl's binary_logloss: 0.27578\n",
      "[1200]\ttr's binary_logloss: 0.268731\tvl's binary_logloss: 0.275709\n",
      "[1300]\ttr's binary_logloss: 0.268231\tvl's binary_logloss: 0.275645\n",
      "[1400]\ttr's binary_logloss: 0.267759\tvl's binary_logloss: 0.275605\n",
      "[1500]\ttr's binary_logloss: 0.267258\tvl's binary_logloss: 0.275502\n",
      "[1600]\ttr's binary_logloss: 0.266798\tvl's binary_logloss: 0.275444\n",
      "[1700]\ttr's binary_logloss: 0.266332\tvl's binary_logloss: 0.275381\n",
      "[1800]\ttr's binary_logloss: 0.26593\tvl's binary_logloss: 0.275354\n",
      "[1900]\ttr's binary_logloss: 0.265504\tvl's binary_logloss: 0.275325\n",
      "[2000]\ttr's binary_logloss: 0.265089\tvl's binary_logloss: 0.27528\n",
      "[2100]\ttr's binary_logloss: 0.264719\tvl's binary_logloss: 0.275255\n",
      "[2200]\ttr's binary_logloss: 0.264327\tvl's binary_logloss: 0.275256\n",
      "Early stopping, best iteration is:\n",
      "[2123]\ttr's binary_logloss: 0.264627\tvl's binary_logloss: 0.275249\n"
     ]
    },
    {
     "name": "stderr",
     "output_type": "stream",
     "text": [
      "tune_feature_fraction, val_score: 0.274075:  71%|#######1  | 5/7 [1:51:00<43:22, 1301.15s/it]  "
     ]
    },
    {
     "name": "stdout",
     "output_type": "stream",
     "text": [
      "Training until validation scores don't improve for 100 rounds\n",
      "[100]\ttr's binary_logloss: 0.278326\tvl's binary_logloss: 0.278992\n",
      "[200]\ttr's binary_logloss: 0.276274\tvl's binary_logloss: 0.277925\n",
      "[300]\ttr's binary_logloss: 0.275085\tvl's binary_logloss: 0.27744\n",
      "[400]\ttr's binary_logloss: 0.27399\tvl's binary_logloss: 0.277041\n",
      "[500]\ttr's binary_logloss: 0.27317\tvl's binary_logloss: 0.276802\n",
      "[600]\ttr's binary_logloss: 0.272405\tvl's binary_logloss: 0.276605\n",
      "[700]\ttr's binary_logloss: 0.271683\tvl's binary_logloss: 0.276432\n",
      "[800]\ttr's binary_logloss: 0.270989\tvl's binary_logloss: 0.276296\n",
      "[900]\ttr's binary_logloss: 0.270282\tvl's binary_logloss: 0.276121\n",
      "[1000]\ttr's binary_logloss: 0.269746\tvl's binary_logloss: 0.27605\n",
      "[1100]\ttr's binary_logloss: 0.269122\tvl's binary_logloss: 0.275948\n",
      "[1200]\ttr's binary_logloss: 0.268533\tvl's binary_logloss: 0.27587\n",
      "[1300]\ttr's binary_logloss: 0.267993\tvl's binary_logloss: 0.275797\n",
      "[1400]\ttr's binary_logloss: 0.267476\tvl's binary_logloss: 0.275744\n",
      "[1500]\ttr's binary_logloss: 0.266984\tvl's binary_logloss: 0.275708\n",
      "[1600]\ttr's binary_logloss: 0.26657\tvl's binary_logloss: 0.27569\n",
      "[1700]\ttr's binary_logloss: 0.266109\tvl's binary_logloss: 0.27564\n",
      "[1800]\ttr's binary_logloss: 0.265663\tvl's binary_logloss: 0.275601\n",
      "[1900]\ttr's binary_logloss: 0.265244\tvl's binary_logloss: 0.275564\n",
      "[2000]\ttr's binary_logloss: 0.264857\tvl's binary_logloss: 0.275566\n",
      "Early stopping, best iteration is:\n",
      "[1905]\ttr's binary_logloss: 0.265222\tvl's binary_logloss: 0.275561\n"
     ]
    },
    {
     "name": "stderr",
     "output_type": "stream",
     "text": [
      "tune_feature_fraction, val_score: 0.274075:  86%|########5 | 6/7 [2:00:54<18:09, 1089.11s/it]"
     ]
    },
    {
     "name": "stdout",
     "output_type": "stream",
     "text": [
      "Training until validation scores don't improve for 100 rounds\n",
      "[100]\ttr's binary_logloss: 0.27826\tvl's binary_logloss: 0.278983\n",
      "[200]\ttr's binary_logloss: 0.276207\tvl's binary_logloss: 0.277908\n",
      "[300]\ttr's binary_logloss: 0.275008\tvl's binary_logloss: 0.277486\n",
      "[400]\ttr's binary_logloss: 0.273949\tvl's binary_logloss: 0.277157\n",
      "[500]\ttr's binary_logloss: 0.272988\tvl's binary_logloss: 0.276883\n",
      "[600]\ttr's binary_logloss: 0.272229\tvl's binary_logloss: 0.276696\n",
      "[700]\ttr's binary_logloss: 0.271429\tvl's binary_logloss: 0.276507\n",
      "[800]\ttr's binary_logloss: 0.270717\tvl's binary_logloss: 0.276381\n",
      "[900]\ttr's binary_logloss: 0.270103\tvl's binary_logloss: 0.276303\n",
      "[1000]\ttr's binary_logloss: 0.269446\tvl's binary_logloss: 0.276205\n",
      "[1100]\ttr's binary_logloss: 0.2688\tvl's binary_logloss: 0.276132\n",
      "[1200]\ttr's binary_logloss: 0.268201\tvl's binary_logloss: 0.276041\n",
      "[1300]\ttr's binary_logloss: 0.267609\tvl's binary_logloss: 0.275967\n",
      "[1400]\ttr's binary_logloss: 0.267103\tvl's binary_logloss: 0.27591\n",
      "[1500]\ttr's binary_logloss: 0.266613\tvl's binary_logloss: 0.275896\n",
      "[1600]\ttr's binary_logloss: 0.266111\tvl's binary_logloss: 0.27586\n",
      "[1700]\ttr's binary_logloss: 0.265643\tvl's binary_logloss: 0.275834\n",
      "[1800]\ttr's binary_logloss: 0.265175\tvl's binary_logloss: 0.275798\n",
      "[1900]\ttr's binary_logloss: 0.264759\tvl's binary_logloss: 0.275811\n",
      "Early stopping, best iteration is:\n",
      "[1805]\ttr's binary_logloss: 0.265146\tvl's binary_logloss: 0.275796\n"
     ]
    },
    {
     "name": "stderr",
     "output_type": "stream",
     "text": [
      "tune_feature_fraction, val_score: 0.274075: 100%|##########| 7/7 [2:10:23<00:00, 1117.60s/it]\n",
      "tune_num_leaves, val_score: 0.274075:   0%|          | 0/20 [00:00<?, ?it/s]"
     ]
    },
    {
     "name": "stdout",
     "output_type": "stream",
     "text": [
      "Training until validation scores don't improve for 100 rounds\n",
      "[100]\ttr's binary_logloss: 0.274841\tvl's binary_logloss: 0.276703\n",
      "[200]\ttr's binary_logloss: 0.272265\tvl's binary_logloss: 0.275567\n",
      "[300]\ttr's binary_logloss: 0.270701\tvl's binary_logloss: 0.275286\n",
      "[400]\ttr's binary_logloss: 0.269154\tvl's binary_logloss: 0.274931\n",
      "[500]\ttr's binary_logloss: 0.267839\tvl's binary_logloss: 0.274666\n",
      "[600]\ttr's binary_logloss: 0.266588\tvl's binary_logloss: 0.274451\n",
      "[700]\ttr's binary_logloss: 0.265395\tvl's binary_logloss: 0.274343\n",
      "[800]\ttr's binary_logloss: 0.264249\tvl's binary_logloss: 0.274263\n",
      "[900]\ttr's binary_logloss: 0.26313\tvl's binary_logloss: 0.274167\n",
      "[1000]\ttr's binary_logloss: 0.262078\tvl's binary_logloss: 0.274115\n",
      "[1100]\ttr's binary_logloss: 0.261041\tvl's binary_logloss: 0.274041\n",
      "[1200]\ttr's binary_logloss: 0.260052\tvl's binary_logloss: 0.274005\n",
      "[1300]\ttr's binary_logloss: 0.259049\tvl's binary_logloss: 0.273958\n",
      "[1400]\ttr's binary_logloss: 0.258038\tvl's binary_logloss: 0.273912\n",
      "[1500]\ttr's binary_logloss: 0.257103\tvl's binary_logloss: 0.273876\n",
      "[1600]\ttr's binary_logloss: 0.256192\tvl's binary_logloss: 0.273856\n",
      "[1700]\ttr's binary_logloss: 0.255263\tvl's binary_logloss: 0.273834\n",
      "[1800]\ttr's binary_logloss: 0.254407\tvl's binary_logloss: 0.273808\n",
      "[1900]\ttr's binary_logloss: 0.253562\tvl's binary_logloss: 0.273788\n",
      "[2000]\ttr's binary_logloss: 0.252687\tvl's binary_logloss: 0.273776\n",
      "[2100]\ttr's binary_logloss: 0.251931\tvl's binary_logloss: 0.273757\n",
      "Early stopping, best iteration is:\n",
      "[2095]\ttr's binary_logloss: 0.251969\tvl's binary_logloss: 0.273757\n"
     ]
    },
    {
     "name": "stderr",
     "output_type": "stream",
     "text": [
      "tune_num_leaves, val_score: 0.273757:   5%|5         | 1/20 [09:51<3:07:12, 591.17s/it]"
     ]
    },
    {
     "name": "stdout",
     "output_type": "stream",
     "text": [
      "Training until validation scores don't improve for 100 rounds\n",
      "[100]\ttr's binary_logloss: 0.274688\tvl's binary_logloss: 0.276641\n",
      "[200]\ttr's binary_logloss: 0.27212\tvl's binary_logloss: 0.275456\n",
      "[300]\ttr's binary_logloss: 0.270445\tvl's binary_logloss: 0.275003\n",
      "[400]\ttr's binary_logloss: 0.268993\tvl's binary_logloss: 0.274757\n",
      "[500]\ttr's binary_logloss: 0.267674\tvl's binary_logloss: 0.274556\n",
      "[600]\ttr's binary_logloss: 0.266431\tvl's binary_logloss: 0.274355\n",
      "[700]\ttr's binary_logloss: 0.265198\tvl's binary_logloss: 0.274232\n",
      "[800]\ttr's binary_logloss: 0.263972\tvl's binary_logloss: 0.27411\n",
      "[900]\ttr's binary_logloss: 0.262817\tvl's binary_logloss: 0.273991\n",
      "[1000]\ttr's binary_logloss: 0.261789\tvl's binary_logloss: 0.273988\n",
      "[1100]\ttr's binary_logloss: 0.260735\tvl's binary_logloss: 0.273951\n",
      "[1200]\ttr's binary_logloss: 0.259676\tvl's binary_logloss: 0.273893\n",
      "[1300]\ttr's binary_logloss: 0.258634\tvl's binary_logloss: 0.27384\n",
      "[1400]\ttr's binary_logloss: 0.257609\tvl's binary_logloss: 0.273832\n",
      "[1500]\ttr's binary_logloss: 0.25664\tvl's binary_logloss: 0.27378\n",
      "[1600]\ttr's binary_logloss: 0.255624\tvl's binary_logloss: 0.273731\n",
      "[1700]\ttr's binary_logloss: 0.25469\tvl's binary_logloss: 0.273714\n",
      "[1800]\ttr's binary_logloss: 0.253793\tvl's binary_logloss: 0.273699\n",
      "[1900]\ttr's binary_logloss: 0.252913\tvl's binary_logloss: 0.273696\n",
      "Early stopping, best iteration is:\n",
      "[1803]\ttr's binary_logloss: 0.25376\tvl's binary_logloss: 0.273689\n"
     ]
    },
    {
     "name": "stderr",
     "output_type": "stream",
     "text": [
      "tune_num_leaves, val_score: 0.273689:  10%|#         | 2/20 [18:39<2:51:40, 572.28s/it]"
     ]
    },
    {
     "name": "stdout",
     "output_type": "stream",
     "text": [
      "Training until validation scores don't improve for 100 rounds\n",
      "[100]\ttr's binary_logloss: 0.273069\tvl's binary_logloss: 0.275916\n",
      "[200]\ttr's binary_logloss: 0.269953\tvl's binary_logloss: 0.274822\n",
      "[300]\ttr's binary_logloss: 0.267759\tvl's binary_logloss: 0.274435\n",
      "[400]\ttr's binary_logloss: 0.265792\tvl's binary_logloss: 0.274217\n",
      "[500]\ttr's binary_logloss: 0.264004\tvl's binary_logloss: 0.274057\n",
      "[600]\ttr's binary_logloss: 0.262281\tvl's binary_logloss: 0.273968\n",
      "[700]\ttr's binary_logloss: 0.260765\tvl's binary_logloss: 0.273915\n",
      "[800]\ttr's binary_logloss: 0.259098\tvl's binary_logloss: 0.273869\n",
      "[900]\ttr's binary_logloss: 0.257762\tvl's binary_logloss: 0.273837\n",
      "[1000]\ttr's binary_logloss: 0.256292\tvl's binary_logloss: 0.273806\n",
      "[1100]\ttr's binary_logloss: 0.254915\tvl's binary_logloss: 0.273789\n",
      "[1200]\ttr's binary_logloss: 0.253468\tvl's binary_logloss: 0.273764\n",
      "[1300]\ttr's binary_logloss: 0.252113\tvl's binary_logloss: 0.273748\n",
      "[1400]\ttr's binary_logloss: 0.250966\tvl's binary_logloss: 0.273752\n",
      "Early stopping, best iteration is:\n",
      "[1330]\ttr's binary_logloss: 0.251755\tvl's binary_logloss: 0.273742\n"
     ]
    },
    {
     "name": "stderr",
     "output_type": "stream",
     "text": [
      "tune_num_leaves, val_score: 0.273689:  15%|#5        | 3/20 [25:56<2:30:39, 531.71s/it]"
     ]
    },
    {
     "name": "stdout",
     "output_type": "stream",
     "text": [
      "Training until validation scores don't improve for 100 rounds\n",
      "[100]\ttr's binary_logloss: 0.275785\tvl's binary_logloss: 0.277194\n",
      "[200]\ttr's binary_logloss: 0.273454\tvl's binary_logloss: 0.276001\n",
      "[300]\ttr's binary_logloss: 0.271936\tvl's binary_logloss: 0.275514\n",
      "[400]\ttr's binary_logloss: 0.270696\tvl's binary_logloss: 0.275202\n",
      "[500]\ttr's binary_logloss: 0.269551\tvl's binary_logloss: 0.274899\n",
      "[600]\ttr's binary_logloss: 0.268397\tvl's binary_logloss: 0.274642\n",
      "[700]\ttr's binary_logloss: 0.267432\tvl's binary_logloss: 0.27448\n",
      "[800]\ttr's binary_logloss: 0.266545\tvl's binary_logloss: 0.274406\n",
      "[900]\ttr's binary_logloss: 0.265636\tvl's binary_logloss: 0.274274\n",
      "[1000]\ttr's binary_logloss: 0.264768\tvl's binary_logloss: 0.274247\n",
      "[1100]\ttr's binary_logloss: 0.263947\tvl's binary_logloss: 0.274204\n",
      "[1200]\ttr's binary_logloss: 0.263106\tvl's binary_logloss: 0.274126\n",
      "[1300]\ttr's binary_logloss: 0.262351\tvl's binary_logloss: 0.274096\n",
      "[1400]\ttr's binary_logloss: 0.261572\tvl's binary_logloss: 0.274057\n",
      "[1500]\ttr's binary_logloss: 0.260853\tvl's binary_logloss: 0.274046\n",
      "[1600]\ttr's binary_logloss: 0.260036\tvl's binary_logloss: 0.273979\n",
      "[1700]\ttr's binary_logloss: 0.259272\tvl's binary_logloss: 0.273953\n",
      "[1800]\ttr's binary_logloss: 0.25857\tvl's binary_logloss: 0.27394\n",
      "[1900]\ttr's binary_logloss: 0.257837\tvl's binary_logloss: 0.273907\n",
      "[2000]\ttr's binary_logloss: 0.257157\tvl's binary_logloss: 0.273889\n",
      "[2100]\ttr's binary_logloss: 0.256513\tvl's binary_logloss: 0.273867\n",
      "[2200]\ttr's binary_logloss: 0.255845\tvl's binary_logloss: 0.27387\n",
      "Early stopping, best iteration is:\n",
      "[2102]\ttr's binary_logloss: 0.256498\tvl's binary_logloss: 0.273865\n"
     ]
    },
    {
     "name": "stderr",
     "output_type": "stream",
     "text": [
      "tune_num_leaves, val_score: 0.273689:  20%|##        | 4/20 [35:34<2:25:29, 545.61s/it]"
     ]
    },
    {
     "name": "stdout",
     "output_type": "stream",
     "text": [
      "Training until validation scores don't improve for 100 rounds\n",
      "[100]\ttr's binary_logloss: 0.274447\tvl's binary_logloss: 0.276529\n",
      "[200]\ttr's binary_logloss: 0.271815\tvl's binary_logloss: 0.275378\n",
      "[300]\ttr's binary_logloss: 0.270072\tvl's binary_logloss: 0.274991\n",
      "[400]\ttr's binary_logloss: 0.268446\tvl's binary_logloss: 0.274657\n",
      "[500]\ttr's binary_logloss: 0.267026\tvl's binary_logloss: 0.274456\n",
      "[600]\ttr's binary_logloss: 0.265699\tvl's binary_logloss: 0.274292\n",
      "[700]\ttr's binary_logloss: 0.264465\tvl's binary_logloss: 0.274192\n",
      "[800]\ttr's binary_logloss: 0.263218\tvl's binary_logloss: 0.274081\n",
      "[900]\ttr's binary_logloss: 0.262012\tvl's binary_logloss: 0.273971\n",
      "[1000]\ttr's binary_logloss: 0.261041\tvl's binary_logloss: 0.273961\n",
      "[1100]\ttr's binary_logloss: 0.260091\tvl's binary_logloss: 0.273936\n",
      "[1200]\ttr's binary_logloss: 0.259098\tvl's binary_logloss: 0.27388\n",
      "[1300]\ttr's binary_logloss: 0.257933\tvl's binary_logloss: 0.2738\n",
      "[1400]\ttr's binary_logloss: 0.256877\tvl's binary_logloss: 0.273762\n",
      "[1500]\ttr's binary_logloss: 0.255956\tvl's binary_logloss: 0.273749\n",
      "[1600]\ttr's binary_logloss: 0.254935\tvl's binary_logloss: 0.273716\n",
      "[1700]\ttr's binary_logloss: 0.253992\tvl's binary_logloss: 0.273725\n",
      "Early stopping, best iteration is:\n",
      "[1625]\ttr's binary_logloss: 0.25468\tvl's binary_logloss: 0.273711\n"
     ]
    },
    {
     "name": "stderr",
     "output_type": "stream",
     "text": [
      "tune_num_leaves, val_score: 0.273689:  25%|##5       | 5/20 [44:37<2:16:10, 544.71s/it]"
     ]
    },
    {
     "name": "stdout",
     "output_type": "stream",
     "text": [
      "Training until validation scores don't improve for 100 rounds\n",
      "[100]\ttr's binary_logloss: 0.274168\tvl's binary_logloss: 0.276391\n",
      "[200]\ttr's binary_logloss: 0.271541\tvl's binary_logloss: 0.275301\n",
      "[300]\ttr's binary_logloss: 0.269739\tvl's binary_logloss: 0.274864\n",
      "[400]\ttr's binary_logloss: 0.268115\tvl's binary_logloss: 0.274563\n",
      "[500]\ttr's binary_logloss: 0.266609\tvl's binary_logloss: 0.274383\n",
      "[600]\ttr's binary_logloss: 0.265168\tvl's binary_logloss: 0.274199\n",
      "[700]\ttr's binary_logloss: 0.263968\tvl's binary_logloss: 0.274149\n",
      "[800]\ttr's binary_logloss: 0.26269\tvl's binary_logloss: 0.27408\n",
      "[900]\ttr's binary_logloss: 0.261437\tvl's binary_logloss: 0.274032\n",
      "[1000]\ttr's binary_logloss: 0.260224\tvl's binary_logloss: 0.274003\n",
      "[1100]\ttr's binary_logloss: 0.259056\tvl's binary_logloss: 0.273953\n",
      "[1200]\ttr's binary_logloss: 0.257952\tvl's binary_logloss: 0.273946\n",
      "Early stopping, best iteration is:\n",
      "[1168]\ttr's binary_logloss: 0.2583\tvl's binary_logloss: 0.273941\n"
     ]
    },
    {
     "name": "stderr",
     "output_type": "stream",
     "text": [
      "tune_num_leaves, val_score: 0.273689:  30%|###       | 6/20 [52:24<2:01:40, 521.49s/it]"
     ]
    },
    {
     "name": "stdout",
     "output_type": "stream",
     "text": [
      "Training until validation scores don't improve for 100 rounds\n",
      "[100]\ttr's binary_logloss: 0.276416\tvl's binary_logloss: 0.277584\n",
      "[200]\ttr's binary_logloss: 0.274149\tvl's binary_logloss: 0.276317\n",
      "[300]\ttr's binary_logloss: 0.272798\tvl's binary_logloss: 0.275832\n",
      "[400]\ttr's binary_logloss: 0.271533\tvl's binary_logloss: 0.275383\n",
      "[500]\ttr's binary_logloss: 0.270548\tvl's binary_logloss: 0.275092\n",
      "[600]\ttr's binary_logloss: 0.269625\tvl's binary_logloss: 0.274881\n",
      "[700]\ttr's binary_logloss: 0.268731\tvl's binary_logloss: 0.274705\n",
      "[800]\ttr's binary_logloss: 0.26788\tvl's binary_logloss: 0.274593\n",
      "[900]\ttr's binary_logloss: 0.267061\tvl's binary_logloss: 0.274459\n",
      "[1000]\ttr's binary_logloss: 0.266358\tvl's binary_logloss: 0.274402\n",
      "[1100]\ttr's binary_logloss: 0.265618\tvl's binary_logloss: 0.274321\n",
      "[1200]\ttr's binary_logloss: 0.264875\tvl's binary_logloss: 0.274233\n",
      "[1300]\ttr's binary_logloss: 0.264166\tvl's binary_logloss: 0.274138\n",
      "[1400]\ttr's binary_logloss: 0.263502\tvl's binary_logloss: 0.274096\n",
      "[1500]\ttr's binary_logloss: 0.262858\tvl's binary_logloss: 0.274045\n",
      "[1600]\ttr's binary_logloss: 0.262233\tvl's binary_logloss: 0.274018\n",
      "[1700]\ttr's binary_logloss: 0.261642\tvl's binary_logloss: 0.27402\n",
      "Early stopping, best iteration is:\n",
      "[1626]\ttr's binary_logloss: 0.262072\tvl's binary_logloss: 0.274003\n"
     ]
    },
    {
     "name": "stderr",
     "output_type": "stream",
     "text": [
      "tune_num_leaves, val_score: 0.273689:  35%|###5      | 7/20 [1:01:51<1:55:54, 534.99s/it]"
     ]
    },
    {
     "name": "stdout",
     "output_type": "stream",
     "text": [
      "Training until validation scores don't improve for 100 rounds\n",
      "[100]\ttr's binary_logloss: 0.27224\tvl's binary_logloss: 0.27561\n",
      "[200]\ttr's binary_logloss: 0.269009\tvl's binary_logloss: 0.274814\n",
      "[300]\ttr's binary_logloss: 0.26663\tvl's binary_logloss: 0.274487\n",
      "[400]\ttr's binary_logloss: 0.264359\tvl's binary_logloss: 0.274224\n",
      "[500]\ttr's binary_logloss: 0.262194\tvl's binary_logloss: 0.273981\n",
      "[600]\ttr's binary_logloss: 0.26035\tvl's binary_logloss: 0.273865\n",
      "[700]\ttr's binary_logloss: 0.258538\tvl's binary_logloss: 0.273816\n",
      "[800]\ttr's binary_logloss: 0.256788\tvl's binary_logloss: 0.273794\n",
      "[900]\ttr's binary_logloss: 0.255127\tvl's binary_logloss: 0.273737\n",
      "[1000]\ttr's binary_logloss: 0.253458\tvl's binary_logloss: 0.273735\n",
      "[1100]\ttr's binary_logloss: 0.251995\tvl's binary_logloss: 0.273743\n",
      "Early stopping, best iteration is:\n",
      "[1021]\ttr's binary_logloss: 0.253078\tvl's binary_logloss: 0.273716\n"
     ]
    },
    {
     "name": "stderr",
     "output_type": "stream",
     "text": [
      "tune_num_leaves, val_score: 0.273689:  40%|####      | 8/20 [1:09:16<1:41:37, 508.15s/it]"
     ]
    },
    {
     "name": "stdout",
     "output_type": "stream",
     "text": [
      "Training until validation scores don't improve for 100 rounds\n",
      "[100]\ttr's binary_logloss: 0.275603\tvl's binary_logloss: 0.277097\n",
      "[200]\ttr's binary_logloss: 0.273342\tvl's binary_logloss: 0.275971\n",
      "[300]\ttr's binary_logloss: 0.27173\tvl's binary_logloss: 0.275435\n",
      "[400]\ttr's binary_logloss: 0.2704\tvl's binary_logloss: 0.275076\n",
      "[500]\ttr's binary_logloss: 0.269233\tvl's binary_logloss: 0.274816\n",
      "[600]\ttr's binary_logloss: 0.268125\tvl's binary_logloss: 0.274622\n",
      "[700]\ttr's binary_logloss: 0.267239\tvl's binary_logloss: 0.274509\n",
      "[800]\ttr's binary_logloss: 0.266214\tvl's binary_logloss: 0.274435\n",
      "[900]\ttr's binary_logloss: 0.265286\tvl's binary_logloss: 0.274313\n",
      "[1000]\ttr's binary_logloss: 0.264374\tvl's binary_logloss: 0.274242\n",
      "[1100]\ttr's binary_logloss: 0.263501\tvl's binary_logloss: 0.274166\n",
      "[1200]\ttr's binary_logloss: 0.26263\tvl's binary_logloss: 0.274118\n",
      "[1300]\ttr's binary_logloss: 0.261788\tvl's binary_logloss: 0.274062\n",
      "[1400]\ttr's binary_logloss: 0.260981\tvl's binary_logloss: 0.274005\n",
      "Early stopping, best iteration is:\n",
      "[1378]\ttr's binary_logloss: 0.261129\tvl's binary_logloss: 0.273994\n"
     ]
    },
    {
     "name": "stderr",
     "output_type": "stream",
     "text": [
      "tune_num_leaves, val_score: 0.273689:  45%|####5     | 9/20 [1:17:45<1:33:11, 508.34s/it]"
     ]
    },
    {
     "name": "stdout",
     "output_type": "stream",
     "text": [
      "Training until validation scores don't improve for 100 rounds\n",
      "[100]\ttr's binary_logloss: 0.285601\tvl's binary_logloss: 0.285469\n",
      "[200]\ttr's binary_logloss: 0.283933\tvl's binary_logloss: 0.283814\n",
      "[300]\ttr's binary_logloss: 0.28312\tvl's binary_logloss: 0.283043\n",
      "[400]\ttr's binary_logloss: 0.282373\tvl's binary_logloss: 0.282347\n",
      "[500]\ttr's binary_logloss: 0.281785\tvl's binary_logloss: 0.2818\n",
      "[600]\ttr's binary_logloss: 0.281257\tvl's binary_logloss: 0.281324\n",
      "[700]\ttr's binary_logloss: 0.280905\tvl's binary_logloss: 0.28102\n",
      "[800]\ttr's binary_logloss: 0.280501\tvl's binary_logloss: 0.280666\n",
      "[900]\ttr's binary_logloss: 0.280173\tvl's binary_logloss: 0.280383\n",
      "[1000]\ttr's binary_logloss: 0.279949\tvl's binary_logloss: 0.28021\n",
      "[1100]\ttr's binary_logloss: 0.279701\tvl's binary_logloss: 0.279998\n",
      "[1200]\ttr's binary_logloss: 0.279472\tvl's binary_logloss: 0.279818\n",
      "[1300]\ttr's binary_logloss: 0.279293\tvl's binary_logloss: 0.279676\n",
      "[1400]\ttr's binary_logloss: 0.279135\tvl's binary_logloss: 0.279551\n",
      "[1500]\ttr's binary_logloss: 0.278965\tvl's binary_logloss: 0.279427\n",
      "[1600]\ttr's binary_logloss: 0.278831\tvl's binary_logloss: 0.279334\n",
      "[1700]\ttr's binary_logloss: 0.2787\tvl's binary_logloss: 0.279236\n",
      "[1800]\ttr's binary_logloss: 0.278583\tvl's binary_logloss: 0.279156\n",
      "[1900]\ttr's binary_logloss: 0.278453\tvl's binary_logloss: 0.279054\n",
      "[2000]\ttr's binary_logloss: 0.278325\tvl's binary_logloss: 0.278964\n",
      "[2100]\ttr's binary_logloss: 0.278185\tvl's binary_logloss: 0.278867\n",
      "[2200]\ttr's binary_logloss: 0.278058\tvl's binary_logloss: 0.278789\n",
      "[2300]\ttr's binary_logloss: 0.277937\tvl's binary_logloss: 0.278702\n",
      "[2400]\ttr's binary_logloss: 0.277824\tvl's binary_logloss: 0.278613\n",
      "[2500]\ttr's binary_logloss: 0.277721\tvl's binary_logloss: 0.278545\n",
      "[2600]\ttr's binary_logloss: 0.277615\tvl's binary_logloss: 0.27847\n",
      "[2700]\ttr's binary_logloss: 0.277528\tvl's binary_logloss: 0.278414\n",
      "[2800]\ttr's binary_logloss: 0.277442\tvl's binary_logloss: 0.278362\n",
      "[2900]\ttr's binary_logloss: 0.277362\tvl's binary_logloss: 0.278313\n",
      "[3000]\ttr's binary_logloss: 0.277282\tvl's binary_logloss: 0.278271\n",
      "[3100]\ttr's binary_logloss: 0.277211\tvl's binary_logloss: 0.278224\n",
      "[3200]\ttr's binary_logloss: 0.277137\tvl's binary_logloss: 0.278183\n",
      "[3300]\ttr's binary_logloss: 0.27707\tvl's binary_logloss: 0.278143\n",
      "[3400]\ttr's binary_logloss: 0.276985\tvl's binary_logloss: 0.278078\n",
      "[3500]\ttr's binary_logloss: 0.276909\tvl's binary_logloss: 0.278031\n",
      "[3600]\ttr's binary_logloss: 0.276839\tvl's binary_logloss: 0.277991\n",
      "[3700]\ttr's binary_logloss: 0.276764\tvl's binary_logloss: 0.277943\n",
      "[3800]\ttr's binary_logloss: 0.2767\tvl's binary_logloss: 0.277909\n",
      "[3900]\ttr's binary_logloss: 0.276647\tvl's binary_logloss: 0.277884\n",
      "[4000]\ttr's binary_logloss: 0.27658\tvl's binary_logloss: 0.277849\n",
      "[4100]\ttr's binary_logloss: 0.276511\tvl's binary_logloss: 0.277814\n",
      "[4200]\ttr's binary_logloss: 0.276443\tvl's binary_logloss: 0.277776\n",
      "[4300]\ttr's binary_logloss: 0.276384\tvl's binary_logloss: 0.277741\n",
      "[4400]\ttr's binary_logloss: 0.276321\tvl's binary_logloss: 0.277714\n",
      "[4500]\ttr's binary_logloss: 0.276265\tvl's binary_logloss: 0.277684\n",
      "[4600]\ttr's binary_logloss: 0.276208\tvl's binary_logloss: 0.277657\n",
      "[4700]\ttr's binary_logloss: 0.276151\tvl's binary_logloss: 0.277626\n",
      "[4800]\ttr's binary_logloss: 0.276104\tvl's binary_logloss: 0.277597\n",
      "[4900]\ttr's binary_logloss: 0.276054\tvl's binary_logloss: 0.277576\n",
      "[5000]\ttr's binary_logloss: 0.275999\tvl's binary_logloss: 0.277551\n",
      "[5100]\ttr's binary_logloss: 0.275948\tvl's binary_logloss: 0.277527\n",
      "[5200]\ttr's binary_logloss: 0.275895\tvl's binary_logloss: 0.277502\n",
      "[5300]\ttr's binary_logloss: 0.275851\tvl's binary_logloss: 0.277482\n",
      "[5400]\ttr's binary_logloss: 0.275801\tvl's binary_logloss: 0.277453\n",
      "[5500]\ttr's binary_logloss: 0.275756\tvl's binary_logloss: 0.277433\n",
      "[5600]\ttr's binary_logloss: 0.275703\tvl's binary_logloss: 0.277404\n",
      "[5700]\ttr's binary_logloss: 0.275653\tvl's binary_logloss: 0.277378\n",
      "[5800]\ttr's binary_logloss: 0.275608\tvl's binary_logloss: 0.277351\n",
      "[5900]\ttr's binary_logloss: 0.275557\tvl's binary_logloss: 0.277331\n",
      "[6000]\ttr's binary_logloss: 0.275513\tvl's binary_logloss: 0.277306\n",
      "[6100]\ttr's binary_logloss: 0.275467\tvl's binary_logloss: 0.277288\n",
      "[6200]\ttr's binary_logloss: 0.275424\tvl's binary_logloss: 0.277264\n",
      "[6300]\ttr's binary_logloss: 0.275381\tvl's binary_logloss: 0.277253\n",
      "[6400]\ttr's binary_logloss: 0.27533\tvl's binary_logloss: 0.277234\n",
      "[6500]\ttr's binary_logloss: 0.275284\tvl's binary_logloss: 0.277214\n",
      "[6600]\ttr's binary_logloss: 0.27524\tvl's binary_logloss: 0.277188\n",
      "[6700]\ttr's binary_logloss: 0.275195\tvl's binary_logloss: 0.277167\n",
      "[6800]\ttr's binary_logloss: 0.275148\tvl's binary_logloss: 0.277147\n",
      "[6900]\ttr's binary_logloss: 0.275108\tvl's binary_logloss: 0.277121\n",
      "[7000]\ttr's binary_logloss: 0.275064\tvl's binary_logloss: 0.277103\n",
      "[7100]\ttr's binary_logloss: 0.275021\tvl's binary_logloss: 0.277083\n",
      "[7200]\ttr's binary_logloss: 0.274985\tvl's binary_logloss: 0.277072\n",
      "[7300]\ttr's binary_logloss: 0.274953\tvl's binary_logloss: 0.277059\n",
      "[7400]\ttr's binary_logloss: 0.274914\tvl's binary_logloss: 0.277048\n",
      "[7500]\ttr's binary_logloss: 0.274878\tvl's binary_logloss: 0.277031\n",
      "[7600]\ttr's binary_logloss: 0.274843\tvl's binary_logloss: 0.277014\n",
      "[7700]\ttr's binary_logloss: 0.274804\tvl's binary_logloss: 0.277001\n",
      "[7800]\ttr's binary_logloss: 0.274768\tvl's binary_logloss: 0.276987\n",
      "[7900]\ttr's binary_logloss: 0.274734\tvl's binary_logloss: 0.276971\n",
      "[8000]\ttr's binary_logloss: 0.274698\tvl's binary_logloss: 0.276965\n",
      "[8100]\ttr's binary_logloss: 0.274665\tvl's binary_logloss: 0.276953\n",
      "[8200]\ttr's binary_logloss: 0.274626\tvl's binary_logloss: 0.276939\n",
      "[8300]\ttr's binary_logloss: 0.274593\tvl's binary_logloss: 0.276924\n",
      "[8400]\ttr's binary_logloss: 0.274559\tvl's binary_logloss: 0.276911\n",
      "[8500]\ttr's binary_logloss: 0.274528\tvl's binary_logloss: 0.276903\n",
      "[8600]\ttr's binary_logloss: 0.274486\tvl's binary_logloss: 0.276884\n",
      "[8700]\ttr's binary_logloss: 0.274454\tvl's binary_logloss: 0.27687\n",
      "[8800]\ttr's binary_logloss: 0.274417\tvl's binary_logloss: 0.276855\n",
      "[8900]\ttr's binary_logloss: 0.274382\tvl's binary_logloss: 0.276843\n",
      "[9000]\ttr's binary_logloss: 0.274349\tvl's binary_logloss: 0.276828\n",
      "[9100]\ttr's binary_logloss: 0.274312\tvl's binary_logloss: 0.276815\n",
      "[9200]\ttr's binary_logloss: 0.274281\tvl's binary_logloss: 0.276804\n",
      "[9300]\ttr's binary_logloss: 0.274247\tvl's binary_logloss: 0.276792\n",
      "[9400]\ttr's binary_logloss: 0.274214\tvl's binary_logloss: 0.27678\n",
      "[9500]\ttr's binary_logloss: 0.274181\tvl's binary_logloss: 0.276767\n",
      "[9600]\ttr's binary_logloss: 0.274152\tvl's binary_logloss: 0.276757\n",
      "[9700]\ttr's binary_logloss: 0.274122\tvl's binary_logloss: 0.27675\n",
      "[9800]\ttr's binary_logloss: 0.27409\tvl's binary_logloss: 0.276741\n",
      "[9900]\ttr's binary_logloss: 0.274059\tvl's binary_logloss: 0.276731\n",
      "[10000]\ttr's binary_logloss: 0.274031\tvl's binary_logloss: 0.276725\n",
      "[10100]\ttr's binary_logloss: 0.273999\tvl's binary_logloss: 0.276712\n",
      "[10200]\ttr's binary_logloss: 0.273969\tvl's binary_logloss: 0.276704\n",
      "[10300]\ttr's binary_logloss: 0.273942\tvl's binary_logloss: 0.276698\n",
      "[10400]\ttr's binary_logloss: 0.273912\tvl's binary_logloss: 0.276689\n",
      "[10500]\ttr's binary_logloss: 0.273878\tvl's binary_logloss: 0.276675\n",
      "[10600]\ttr's binary_logloss: 0.27385\tvl's binary_logloss: 0.276664\n",
      "[10700]\ttr's binary_logloss: 0.273821\tvl's binary_logloss: 0.276653\n",
      "[10800]\ttr's binary_logloss: 0.273793\tvl's binary_logloss: 0.276646\n",
      "[10900]\ttr's binary_logloss: 0.273764\tvl's binary_logloss: 0.276635\n",
      "[11000]\ttr's binary_logloss: 0.273739\tvl's binary_logloss: 0.276627\n",
      "[11100]\ttr's binary_logloss: 0.273709\tvl's binary_logloss: 0.27662\n",
      "[11200]\ttr's binary_logloss: 0.273681\tvl's binary_logloss: 0.276614\n",
      "[11300]\ttr's binary_logloss: 0.273653\tvl's binary_logloss: 0.276605\n",
      "[11400]\ttr's binary_logloss: 0.273623\tvl's binary_logloss: 0.276596\n",
      "[11500]\ttr's binary_logloss: 0.2736\tvl's binary_logloss: 0.276591\n",
      "[11600]\ttr's binary_logloss: 0.273574\tvl's binary_logloss: 0.276582\n",
      "[11700]\ttr's binary_logloss: 0.273549\tvl's binary_logloss: 0.276577\n",
      "[11800]\ttr's binary_logloss: 0.273523\tvl's binary_logloss: 0.27657\n",
      "[11900]\ttr's binary_logloss: 0.273496\tvl's binary_logloss: 0.276568\n",
      "[12000]\ttr's binary_logloss: 0.273472\tvl's binary_logloss: 0.276559\n",
      "[12100]\ttr's binary_logloss: 0.273446\tvl's binary_logloss: 0.276554\n",
      "[12200]\ttr's binary_logloss: 0.273419\tvl's binary_logloss: 0.276547\n",
      "[12300]\ttr's binary_logloss: 0.273393\tvl's binary_logloss: 0.27654\n",
      "[12400]\ttr's binary_logloss: 0.273362\tvl's binary_logloss: 0.276532\n",
      "[12500]\ttr's binary_logloss: 0.273336\tvl's binary_logloss: 0.276527\n",
      "[12600]\ttr's binary_logloss: 0.273311\tvl's binary_logloss: 0.276519\n",
      "[12700]\ttr's binary_logloss: 0.273284\tvl's binary_logloss: 0.276511\n",
      "[12800]\ttr's binary_logloss: 0.273261\tvl's binary_logloss: 0.276503\n",
      "[12900]\ttr's binary_logloss: 0.273238\tvl's binary_logloss: 0.276498\n",
      "[13000]\ttr's binary_logloss: 0.27321\tvl's binary_logloss: 0.276493\n",
      "[13100]\ttr's binary_logloss: 0.273185\tvl's binary_logloss: 0.276485\n",
      "[13200]\ttr's binary_logloss: 0.27316\tvl's binary_logloss: 0.276481\n",
      "[13300]\ttr's binary_logloss: 0.273138\tvl's binary_logloss: 0.276475\n",
      "[13400]\ttr's binary_logloss: 0.273112\tvl's binary_logloss: 0.276466\n",
      "[13500]\ttr's binary_logloss: 0.273088\tvl's binary_logloss: 0.276459\n",
      "[13600]\ttr's binary_logloss: 0.273062\tvl's binary_logloss: 0.276451\n",
      "[13700]\ttr's binary_logloss: 0.27304\tvl's binary_logloss: 0.276446\n",
      "[13800]\ttr's binary_logloss: 0.273018\tvl's binary_logloss: 0.276441\n",
      "[13900]\ttr's binary_logloss: 0.272994\tvl's binary_logloss: 0.276432\n",
      "[14000]\ttr's binary_logloss: 0.272971\tvl's binary_logloss: 0.276429\n",
      "[14100]\ttr's binary_logloss: 0.272949\tvl's binary_logloss: 0.276425\n",
      "[14200]\ttr's binary_logloss: 0.272926\tvl's binary_logloss: 0.276418\n",
      "[14300]\ttr's binary_logloss: 0.272902\tvl's binary_logloss: 0.276411\n",
      "[14400]\ttr's binary_logloss: 0.272877\tvl's binary_logloss: 0.276406\n",
      "[14500]\ttr's binary_logloss: 0.272856\tvl's binary_logloss: 0.276405\n",
      "[14600]\ttr's binary_logloss: 0.272835\tvl's binary_logloss: 0.276399\n",
      "[14700]\ttr's binary_logloss: 0.272811\tvl's binary_logloss: 0.276393\n",
      "[14800]\ttr's binary_logloss: 0.272787\tvl's binary_logloss: 0.276387\n",
      "[14900]\ttr's binary_logloss: 0.272764\tvl's binary_logloss: 0.27638\n",
      "[15000]\ttr's binary_logloss: 0.272742\tvl's binary_logloss: 0.276376\n",
      "[15100]\ttr's binary_logloss: 0.272717\tvl's binary_logloss: 0.276369\n",
      "[15200]\ttr's binary_logloss: 0.272696\tvl's binary_logloss: 0.276361\n",
      "[15300]\ttr's binary_logloss: 0.272673\tvl's binary_logloss: 0.276358\n",
      "[15400]\ttr's binary_logloss: 0.27265\tvl's binary_logloss: 0.276353\n",
      "[15500]\ttr's binary_logloss: 0.272627\tvl's binary_logloss: 0.276347\n",
      "[15600]\ttr's binary_logloss: 0.272606\tvl's binary_logloss: 0.276347\n",
      "[15700]\ttr's binary_logloss: 0.272583\tvl's binary_logloss: 0.276345\n",
      "[15800]\ttr's binary_logloss: 0.27256\tvl's binary_logloss: 0.27634\n",
      "[15900]\ttr's binary_logloss: 0.272538\tvl's binary_logloss: 0.276338\n",
      "[16000]\ttr's binary_logloss: 0.272516\tvl's binary_logloss: 0.276333\n",
      "[16100]\ttr's binary_logloss: 0.272494\tvl's binary_logloss: 0.276327\n",
      "[16200]\ttr's binary_logloss: 0.272472\tvl's binary_logloss: 0.276323\n",
      "[16300]\ttr's binary_logloss: 0.272454\tvl's binary_logloss: 0.276321\n",
      "[16400]\ttr's binary_logloss: 0.272433\tvl's binary_logloss: 0.276316\n",
      "[16500]\ttr's binary_logloss: 0.27241\tvl's binary_logloss: 0.276311\n",
      "[16600]\ttr's binary_logloss: 0.272391\tvl's binary_logloss: 0.276309\n",
      "[16700]\ttr's binary_logloss: 0.27237\tvl's binary_logloss: 0.276303\n",
      "[16800]\ttr's binary_logloss: 0.272349\tvl's binary_logloss: 0.2763\n",
      "[16900]\ttr's binary_logloss: 0.272327\tvl's binary_logloss: 0.276293\n",
      "[17000]\ttr's binary_logloss: 0.272307\tvl's binary_logloss: 0.276291\n",
      "[17100]\ttr's binary_logloss: 0.272283\tvl's binary_logloss: 0.276288\n",
      "[17200]\ttr's binary_logloss: 0.272261\tvl's binary_logloss: 0.276281\n",
      "[17300]\ttr's binary_logloss: 0.272239\tvl's binary_logloss: 0.276277\n",
      "[17400]\ttr's binary_logloss: 0.272218\tvl's binary_logloss: 0.276272\n",
      "[17500]\ttr's binary_logloss: 0.272193\tvl's binary_logloss: 0.276261\n",
      "[17600]\ttr's binary_logloss: 0.272169\tvl's binary_logloss: 0.276252\n",
      "[17700]\ttr's binary_logloss: 0.272149\tvl's binary_logloss: 0.276245\n",
      "[17800]\ttr's binary_logloss: 0.272129\tvl's binary_logloss: 0.276241\n",
      "[17900]\ttr's binary_logloss: 0.272108\tvl's binary_logloss: 0.276234\n",
      "[18000]\ttr's binary_logloss: 0.272086\tvl's binary_logloss: 0.276229\n",
      "[18100]\ttr's binary_logloss: 0.272067\tvl's binary_logloss: 0.276228\n",
      "[18200]\ttr's binary_logloss: 0.272047\tvl's binary_logloss: 0.276225\n",
      "[18300]\ttr's binary_logloss: 0.272029\tvl's binary_logloss: 0.276219\n",
      "[18400]\ttr's binary_logloss: 0.27201\tvl's binary_logloss: 0.276217\n",
      "[18500]\ttr's binary_logloss: 0.271991\tvl's binary_logloss: 0.276213\n",
      "[18600]\ttr's binary_logloss: 0.27197\tvl's binary_logloss: 0.276211\n",
      "[18700]\ttr's binary_logloss: 0.27195\tvl's binary_logloss: 0.276204\n",
      "[18800]\ttr's binary_logloss: 0.271929\tvl's binary_logloss: 0.276202\n",
      "[18900]\ttr's binary_logloss: 0.271909\tvl's binary_logloss: 0.276199\n",
      "[19000]\ttr's binary_logloss: 0.271892\tvl's binary_logloss: 0.276196\n",
      "[19100]\ttr's binary_logloss: 0.271874\tvl's binary_logloss: 0.276195\n",
      "[19200]\ttr's binary_logloss: 0.271856\tvl's binary_logloss: 0.276191\n",
      "[19300]\ttr's binary_logloss: 0.271837\tvl's binary_logloss: 0.27619\n",
      "[19400]\ttr's binary_logloss: 0.271815\tvl's binary_logloss: 0.276184\n",
      "[19500]\ttr's binary_logloss: 0.271795\tvl's binary_logloss: 0.27618\n",
      "[19600]\ttr's binary_logloss: 0.271775\tvl's binary_logloss: 0.276179\n",
      "[19700]\ttr's binary_logloss: 0.271755\tvl's binary_logloss: 0.276178\n",
      "[19800]\ttr's binary_logloss: 0.271734\tvl's binary_logloss: 0.276173\n",
      "[19900]\ttr's binary_logloss: 0.271716\tvl's binary_logloss: 0.276171\n",
      "Early stopping, best iteration is:\n",
      "[19877]\ttr's binary_logloss: 0.271721\tvl's binary_logloss: 0.276169\n"
     ]
    },
    {
     "name": "stderr",
     "output_type": "stream",
     "text": [
      "tune_num_leaves, val_score: 0.273689:  50%|#####     | 10/20 [4:37:30<10:58:32, 3951.25s/it]"
     ]
    },
    {
     "name": "stdout",
     "output_type": "stream",
     "text": [
      "Training until validation scores don't improve for 100 rounds\n",
      "[100]\ttr's binary_logloss: 0.280473\tvl's binary_logloss: 0.280581\n",
      "[200]\ttr's binary_logloss: 0.278702\tvl's binary_logloss: 0.27909\n",
      "[300]\ttr's binary_logloss: 0.277692\tvl's binary_logloss: 0.278372\n",
      "[400]\ttr's binary_logloss: 0.276946\tvl's binary_logloss: 0.277861\n",
      "[500]\ttr's binary_logloss: 0.276352\tvl's binary_logloss: 0.277504\n",
      "[600]\ttr's binary_logloss: 0.275823\tvl's binary_logloss: 0.277233\n",
      "[700]\ttr's binary_logloss: 0.275339\tvl's binary_logloss: 0.276987\n",
      "[800]\ttr's binary_logloss: 0.274954\tvl's binary_logloss: 0.276816\n",
      "[900]\ttr's binary_logloss: 0.274562\tvl's binary_logloss: 0.276617\n",
      "[1000]\ttr's binary_logloss: 0.274185\tvl's binary_logloss: 0.276447\n",
      "[1100]\ttr's binary_logloss: 0.273825\tvl's binary_logloss: 0.276296\n",
      "[1200]\ttr's binary_logloss: 0.273492\tvl's binary_logloss: 0.276163\n",
      "[1300]\ttr's binary_logloss: 0.273172\tvl's binary_logloss: 0.276009\n",
      "[1400]\ttr's binary_logloss: 0.272903\tvl's binary_logloss: 0.275907\n",
      "[1500]\ttr's binary_logloss: 0.272645\tvl's binary_logloss: 0.275819\n",
      "[1600]\ttr's binary_logloss: 0.272373\tvl's binary_logloss: 0.275726\n",
      "[1700]\ttr's binary_logloss: 0.27212\tvl's binary_logloss: 0.275632\n",
      "[1800]\ttr's binary_logloss: 0.271833\tvl's binary_logloss: 0.275528\n",
      "[1900]\ttr's binary_logloss: 0.271607\tvl's binary_logloss: 0.275455\n",
      "[2000]\ttr's binary_logloss: 0.271381\tvl's binary_logloss: 0.275384\n",
      "[2100]\ttr's binary_logloss: 0.271155\tvl's binary_logloss: 0.275316\n",
      "[2200]\ttr's binary_logloss: 0.270946\tvl's binary_logloss: 0.275274\n",
      "[2300]\ttr's binary_logloss: 0.27076\tvl's binary_logloss: 0.275235\n",
      "[2400]\ttr's binary_logloss: 0.270554\tvl's binary_logloss: 0.275187\n",
      "[2500]\ttr's binary_logloss: 0.270353\tvl's binary_logloss: 0.275145\n",
      "[2600]\ttr's binary_logloss: 0.270147\tvl's binary_logloss: 0.275085\n",
      "[2700]\ttr's binary_logloss: 0.26993\tvl's binary_logloss: 0.275029\n",
      "[2800]\ttr's binary_logloss: 0.269723\tvl's binary_logloss: 0.274985\n",
      "[2900]\ttr's binary_logloss: 0.269507\tvl's binary_logloss: 0.274931\n",
      "[3000]\ttr's binary_logloss: 0.269324\tvl's binary_logloss: 0.274904\n",
      "[3100]\ttr's binary_logloss: 0.269133\tvl's binary_logloss: 0.274862\n",
      "[3200]\ttr's binary_logloss: 0.268933\tvl's binary_logloss: 0.27481\n",
      "[3300]\ttr's binary_logloss: 0.26876\tvl's binary_logloss: 0.274776\n",
      "[3400]\ttr's binary_logloss: 0.268578\tvl's binary_logloss: 0.274732\n",
      "[3500]\ttr's binary_logloss: 0.268403\tvl's binary_logloss: 0.274696\n",
      "[3600]\ttr's binary_logloss: 0.268234\tvl's binary_logloss: 0.274677\n",
      "[3700]\ttr's binary_logloss: 0.268064\tvl's binary_logloss: 0.274646\n",
      "[3800]\ttr's binary_logloss: 0.267887\tvl's binary_logloss: 0.274614\n",
      "[3900]\ttr's binary_logloss: 0.267722\tvl's binary_logloss: 0.274595\n",
      "[4000]\ttr's binary_logloss: 0.267553\tvl's binary_logloss: 0.27457\n",
      "[4100]\ttr's binary_logloss: 0.267386\tvl's binary_logloss: 0.274539\n",
      "[4200]\ttr's binary_logloss: 0.267231\tvl's binary_logloss: 0.274525\n",
      "[4300]\ttr's binary_logloss: 0.267078\tvl's binary_logloss: 0.274514\n",
      "[4400]\ttr's binary_logloss: 0.266916\tvl's binary_logloss: 0.2745\n",
      "[4500]\ttr's binary_logloss: 0.266766\tvl's binary_logloss: 0.274484\n",
      "[4600]\ttr's binary_logloss: 0.266609\tvl's binary_logloss: 0.274464\n",
      "[4700]\ttr's binary_logloss: 0.26646\tvl's binary_logloss: 0.274452\n",
      "[4800]\ttr's binary_logloss: 0.26629\tvl's binary_logloss: 0.274426\n",
      "[4900]\ttr's binary_logloss: 0.266141\tvl's binary_logloss: 0.274415\n",
      "[5000]\ttr's binary_logloss: 0.265979\tvl's binary_logloss: 0.274395\n",
      "[5100]\ttr's binary_logloss: 0.265836\tvl's binary_logloss: 0.274384\n",
      "[5200]\ttr's binary_logloss: 0.265688\tvl's binary_logloss: 0.274369\n",
      "[5300]\ttr's binary_logloss: 0.265533\tvl's binary_logloss: 0.27434\n",
      "[5400]\ttr's binary_logloss: 0.265396\tvl's binary_logloss: 0.274333\n",
      "[5500]\ttr's binary_logloss: 0.265251\tvl's binary_logloss: 0.274327\n",
      "[5600]\ttr's binary_logloss: 0.265105\tvl's binary_logloss: 0.274303\n",
      "[5700]\ttr's binary_logloss: 0.264967\tvl's binary_logloss: 0.27429\n",
      "[5800]\ttr's binary_logloss: 0.264829\tvl's binary_logloss: 0.274282\n",
      "[5900]\ttr's binary_logloss: 0.264689\tvl's binary_logloss: 0.274278\n",
      "[6000]\ttr's binary_logloss: 0.264551\tvl's binary_logloss: 0.274266\n",
      "[6100]\ttr's binary_logloss: 0.264416\tvl's binary_logloss: 0.274266\n",
      "[6200]\ttr's binary_logloss: 0.26428\tvl's binary_logloss: 0.274258\n",
      "[6300]\ttr's binary_logloss: 0.264137\tvl's binary_logloss: 0.274253\n",
      "[6400]\ttr's binary_logloss: 0.264004\tvl's binary_logloss: 0.274246\n",
      "[6500]\ttr's binary_logloss: 0.26387\tvl's binary_logloss: 0.274234\n",
      "[6600]\ttr's binary_logloss: 0.263733\tvl's binary_logloss: 0.274231\n",
      "Early stopping, best iteration is:\n",
      "[6563]\ttr's binary_logloss: 0.263781\tvl's binary_logloss: 0.27423\n"
     ]
    },
    {
     "name": "stderr",
     "output_type": "stream",
     "text": [
      "tune_num_leaves, val_score: 0.273689:  55%|#####5    | 11/20 [6:10:40<11:06:26, 4442.99s/it]"
     ]
    },
    {
     "name": "stdout",
     "output_type": "stream",
     "text": [
      "Training until validation scores don't improve for 100 rounds\n",
      "[100]\ttr's binary_logloss: 0.273691\tvl's binary_logloss: 0.27618\n",
      "[200]\ttr's binary_logloss: 0.27088\tvl's binary_logloss: 0.275151\n",
      "[300]\ttr's binary_logloss: 0.26901\tvl's binary_logloss: 0.274781\n",
      "[400]\ttr's binary_logloss: 0.267063\tvl's binary_logloss: 0.274425\n",
      "[500]\ttr's binary_logloss: 0.265314\tvl's binary_logloss: 0.274187\n",
      "[600]\ttr's binary_logloss: 0.263764\tvl's binary_logloss: 0.274082\n",
      "[700]\ttr's binary_logloss: 0.262269\tvl's binary_logloss: 0.273998\n",
      "[800]\ttr's binary_logloss: 0.260895\tvl's binary_logloss: 0.273918\n",
      "[900]\ttr's binary_logloss: 0.259635\tvl's binary_logloss: 0.273889\n",
      "[1000]\ttr's binary_logloss: 0.258265\tvl's binary_logloss: 0.27388\n",
      "[1100]\ttr's binary_logloss: 0.256978\tvl's binary_logloss: 0.273862\n",
      "[1200]\ttr's binary_logloss: 0.255722\tvl's binary_logloss: 0.273825\n",
      "[1300]\ttr's binary_logloss: 0.254476\tvl's binary_logloss: 0.273794\n",
      "[1400]\ttr's binary_logloss: 0.253456\tvl's binary_logloss: 0.27382\n",
      "Early stopping, best iteration is:\n",
      "[1301]\ttr's binary_logloss: 0.254459\tvl's binary_logloss: 0.273789\n"
     ]
    },
    {
     "name": "stderr",
     "output_type": "stream",
     "text": [
      "tune_num_leaves, val_score: 0.273689:  60%|######    | 12/20 [6:59:35<8:52:04, 3990.56s/it] "
     ]
    },
    {
     "name": "stdout",
     "output_type": "stream",
     "text": [
      "Training until validation scores don't improve for 100 rounds\n",
      "[100]\ttr's binary_logloss: 0.272846\tvl's binary_logloss: 0.275845\n",
      "[200]\ttr's binary_logloss: 0.269933\tvl's binary_logloss: 0.274983\n",
      "[300]\ttr's binary_logloss: 0.267858\tvl's binary_logloss: 0.274678\n",
      "[400]\ttr's binary_logloss: 0.265625\tvl's binary_logloss: 0.274248\n",
      "[500]\ttr's binary_logloss: 0.263705\tvl's binary_logloss: 0.274053\n",
      "[600]\ttr's binary_logloss: 0.262018\tvl's binary_logloss: 0.273945\n",
      "[700]\ttr's binary_logloss: 0.260499\tvl's binary_logloss: 0.273945\n",
      "[800]\ttr's binary_logloss: 0.258781\tvl's binary_logloss: 0.273867\n",
      "[900]\ttr's binary_logloss: 0.257201\tvl's binary_logloss: 0.273791\n",
      "[1000]\ttr's binary_logloss: 0.255694\tvl's binary_logloss: 0.273753\n",
      "[1100]\ttr's binary_logloss: 0.254393\tvl's binary_logloss: 0.273741\n",
      "Early stopping, best iteration is:\n",
      "[1056]\ttr's binary_logloss: 0.254897\tvl's binary_logloss: 0.27372\n"
     ]
    },
    {
     "name": "stderr",
     "output_type": "stream",
     "text": [
      "tune_num_leaves, val_score: 0.273689:  65%|######5   | 13/20 [7:46:54<7:05:15, 3645.02s/it]"
     ]
    },
    {
     "name": "stdout",
     "output_type": "stream",
     "text": [
      "Training until validation scores don't improve for 100 rounds\n",
      "[100]\ttr's binary_logloss: 0.277351\tvl's binary_logloss: 0.278168\n",
      "[200]\ttr's binary_logloss: 0.275317\tvl's binary_logloss: 0.276847\n",
      "[300]\ttr's binary_logloss: 0.274144\tvl's binary_logloss: 0.276327\n",
      "[400]\ttr's binary_logloss: 0.273067\tvl's binary_logloss: 0.275859\n",
      "[500]\ttr's binary_logloss: 0.272213\tvl's binary_logloss: 0.275622\n",
      "[600]\ttr's binary_logloss: 0.271419\tvl's binary_logloss: 0.275409\n",
      "[700]\ttr's binary_logloss: 0.270689\tvl's binary_logloss: 0.275221\n",
      "[800]\ttr's binary_logloss: 0.270034\tvl's binary_logloss: 0.2751\n",
      "[900]\ttr's binary_logloss: 0.2693\tvl's binary_logloss: 0.274909\n",
      "[1000]\ttr's binary_logloss: 0.268687\tvl's binary_logloss: 0.27482\n",
      "[1100]\ttr's binary_logloss: 0.268078\tvl's binary_logloss: 0.274707\n",
      "[1200]\ttr's binary_logloss: 0.267467\tvl's binary_logloss: 0.274574\n",
      "[1300]\ttr's binary_logloss: 0.266852\tvl's binary_logloss: 0.274446\n",
      "[1400]\ttr's binary_logloss: 0.266271\tvl's binary_logloss: 0.274334\n",
      "[1500]\ttr's binary_logloss: 0.265775\tvl's binary_logloss: 0.274298\n",
      "[1600]\ttr's binary_logloss: 0.265238\tvl's binary_logloss: 0.27426\n",
      "[1700]\ttr's binary_logloss: 0.264723\tvl's binary_logloss: 0.274222\n",
      "[1800]\ttr's binary_logloss: 0.264203\tvl's binary_logloss: 0.274187\n",
      "[1900]\ttr's binary_logloss: 0.263723\tvl's binary_logloss: 0.274165\n",
      "[2000]\ttr's binary_logloss: 0.263203\tvl's binary_logloss: 0.274108\n",
      "[2100]\ttr's binary_logloss: 0.262758\tvl's binary_logloss: 0.274084\n",
      "[2200]\ttr's binary_logloss: 0.262268\tvl's binary_logloss: 0.274055\n",
      "[2300]\ttr's binary_logloss: 0.261814\tvl's binary_logloss: 0.27401\n",
      "[2400]\ttr's binary_logloss: 0.261333\tvl's binary_logloss: 0.273964\n",
      "[2500]\ttr's binary_logloss: 0.260902\tvl's binary_logloss: 0.273952\n",
      "[2600]\ttr's binary_logloss: 0.260477\tvl's binary_logloss: 0.273935\n",
      "[2700]\ttr's binary_logloss: 0.260033\tvl's binary_logloss: 0.273911\n",
      "[2800]\ttr's binary_logloss: 0.259616\tvl's binary_logloss: 0.273901\n",
      "[2900]\ttr's binary_logloss: 0.259196\tvl's binary_logloss: 0.273892\n",
      "[3000]\ttr's binary_logloss: 0.258798\tvl's binary_logloss: 0.273879\n",
      "Early stopping, best iteration is:\n",
      "[2969]\ttr's binary_logloss: 0.25892\tvl's binary_logloss: 0.27387\n"
     ]
    },
    {
     "name": "stderr",
     "output_type": "stream",
     "text": [
      "tune_num_leaves, val_score: 0.273689:  70%|#######   | 14/20 [9:02:57<6:32:02, 3920.45s/it]"
     ]
    },
    {
     "name": "stdout",
     "output_type": "stream",
     "text": [
      "Training until validation scores don't improve for 100 rounds\n",
      "[100]\ttr's binary_logloss: 0.274335\tvl's binary_logloss: 0.276449\n",
      "[200]\ttr's binary_logloss: 0.271664\tvl's binary_logloss: 0.275375\n",
      "[300]\ttr's binary_logloss: 0.269888\tvl's binary_logloss: 0.274957\n",
      "[400]\ttr's binary_logloss: 0.268227\tvl's binary_logloss: 0.274603\n",
      "[500]\ttr's binary_logloss: 0.266818\tvl's binary_logloss: 0.274395\n",
      "[600]\ttr's binary_logloss: 0.265356\tvl's binary_logloss: 0.274224\n",
      "[700]\ttr's binary_logloss: 0.264015\tvl's binary_logloss: 0.274108\n",
      "[800]\ttr's binary_logloss: 0.262874\tvl's binary_logloss: 0.274068\n",
      "[900]\ttr's binary_logloss: 0.261689\tvl's binary_logloss: 0.273991\n",
      "[1000]\ttr's binary_logloss: 0.260546\tvl's binary_logloss: 0.273941\n",
      "[1100]\ttr's binary_logloss: 0.259408\tvl's binary_logloss: 0.273887\n",
      "[1200]\ttr's binary_logloss: 0.258264\tvl's binary_logloss: 0.273828\n",
      "[1300]\ttr's binary_logloss: 0.257173\tvl's binary_logloss: 0.273805\n",
      "[1400]\ttr's binary_logloss: 0.256154\tvl's binary_logloss: 0.273777\n",
      "[1500]\ttr's binary_logloss: 0.255228\tvl's binary_logloss: 0.273757\n",
      "[1600]\ttr's binary_logloss: 0.254207\tvl's binary_logloss: 0.273755\n",
      "Early stopping, best iteration is:\n",
      "[1527]\ttr's binary_logloss: 0.254965\tvl's binary_logloss: 0.273743\n"
     ]
    },
    {
     "name": "stderr",
     "output_type": "stream",
     "text": [
      "tune_num_leaves, val_score: 0.273689:  75%|#######5  | 15/20 [10:03:05<5:18:54, 3826.85s/it]"
     ]
    },
    {
     "name": "stdout",
     "output_type": "stream",
     "text": [
      "Training until validation scores don't improve for 100 rounds\n",
      "[100]\ttr's binary_logloss: 0.274821\tvl's binary_logloss: 0.276699\n",
      "[200]\ttr's binary_logloss: 0.272276\tvl's binary_logloss: 0.275645\n",
      "[300]\ttr's binary_logloss: 0.270506\tvl's binary_logloss: 0.275185\n",
      "[400]\ttr's binary_logloss: 0.269046\tvl's binary_logloss: 0.274886\n",
      "[500]\ttr's binary_logloss: 0.267844\tvl's binary_logloss: 0.274689\n",
      "[600]\ttr's binary_logloss: 0.266683\tvl's binary_logloss: 0.274534\n",
      "[700]\ttr's binary_logloss: 0.26545\tvl's binary_logloss: 0.274336\n",
      "[800]\ttr's binary_logloss: 0.264307\tvl's binary_logloss: 0.274263\n",
      "[900]\ttr's binary_logloss: 0.263266\tvl's binary_logloss: 0.274177\n",
      "[1000]\ttr's binary_logloss: 0.262195\tvl's binary_logloss: 0.274134\n",
      "[1100]\ttr's binary_logloss: 0.261109\tvl's binary_logloss: 0.274034\n",
      "[1200]\ttr's binary_logloss: 0.260043\tvl's binary_logloss: 0.273941\n",
      "[1300]\ttr's binary_logloss: 0.259011\tvl's binary_logloss: 0.273852\n",
      "[1400]\ttr's binary_logloss: 0.258152\tvl's binary_logloss: 0.273844\n",
      "[1500]\ttr's binary_logloss: 0.257231\tvl's binary_logloss: 0.273829\n",
      "[1600]\ttr's binary_logloss: 0.256365\tvl's binary_logloss: 0.273781\n",
      "[1700]\ttr's binary_logloss: 0.255489\tvl's binary_logloss: 0.273785\n",
      "[1800]\ttr's binary_logloss: 0.25462\tvl's binary_logloss: 0.273782\n",
      "Early stopping, best iteration is:\n",
      "[1733]\ttr's binary_logloss: 0.25523\tvl's binary_logloss: 0.273771\n"
     ]
    },
    {
     "name": "stderr",
     "output_type": "stream",
     "text": [
      "tune_num_leaves, val_score: 0.273689:  80%|########  | 16/20 [11:06:16<4:14:24, 3816.08s/it]"
     ]
    },
    {
     "name": "stdout",
     "output_type": "stream",
     "text": [
      "Training until validation scores don't improve for 100 rounds\n",
      "[100]\ttr's binary_logloss: 0.273612\tvl's binary_logloss: 0.276132\n",
      "[200]\ttr's binary_logloss: 0.27092\tvl's binary_logloss: 0.275184\n",
      "[300]\ttr's binary_logloss: 0.268831\tvl's binary_logloss: 0.274729\n",
      "[400]\ttr's binary_logloss: 0.267027\tvl's binary_logloss: 0.274397\n",
      "[500]\ttr's binary_logloss: 0.265341\tvl's binary_logloss: 0.274143\n",
      "[600]\ttr's binary_logloss: 0.263791\tvl's binary_logloss: 0.274055\n",
      "[700]\ttr's binary_logloss: 0.26237\tvl's binary_logloss: 0.274013\n",
      "[800]\ttr's binary_logloss: 0.261087\tvl's binary_logloss: 0.273908\n",
      "[900]\ttr's binary_logloss: 0.259831\tvl's binary_logloss: 0.273895\n",
      "Early stopping, best iteration is:\n",
      "[868]\ttr's binary_logloss: 0.260213\tvl's binary_logloss: 0.27388\n"
     ]
    },
    {
     "name": "stderr",
     "output_type": "stream",
     "text": [
      "tune_num_leaves, val_score: 0.273689:  85%|########5 | 17/20 [11:46:45<2:49:59, 3399.68s/it]"
     ]
    },
    {
     "name": "stdout",
     "output_type": "stream",
     "text": [
      "Training until validation scores don't improve for 100 rounds\n",
      "[100]\ttr's binary_logloss: 0.278353\tvl's binary_logloss: 0.278869\n",
      "[200]\ttr's binary_logloss: 0.276462\tvl's binary_logloss: 0.277553\n",
      "[300]\ttr's binary_logloss: 0.27525\tvl's binary_logloss: 0.276891\n",
      "[400]\ttr's binary_logloss: 0.274354\tvl's binary_logloss: 0.276462\n",
      "[500]\ttr's binary_logloss: 0.273597\tvl's binary_logloss: 0.276189\n",
      "[600]\ttr's binary_logloss: 0.272889\tvl's binary_logloss: 0.275932\n",
      "[700]\ttr's binary_logloss: 0.272313\tvl's binary_logloss: 0.275756\n",
      "[800]\ttr's binary_logloss: 0.271644\tvl's binary_logloss: 0.275552\n",
      "[900]\ttr's binary_logloss: 0.271081\tvl's binary_logloss: 0.275396\n",
      "[1000]\ttr's binary_logloss: 0.270592\tvl's binary_logloss: 0.275278\n",
      "[1100]\ttr's binary_logloss: 0.270039\tvl's binary_logloss: 0.275118\n",
      "[1200]\ttr's binary_logloss: 0.269568\tvl's binary_logloss: 0.275023\n",
      "[1300]\ttr's binary_logloss: 0.269087\tvl's binary_logloss: 0.27491\n",
      "[1400]\ttr's binary_logloss: 0.268642\tvl's binary_logloss: 0.274828\n",
      "[1500]\ttr's binary_logloss: 0.268226\tvl's binary_logloss: 0.274753\n",
      "[1600]\ttr's binary_logloss: 0.26783\tvl's binary_logloss: 0.274706\n",
      "[1700]\ttr's binary_logloss: 0.267414\tvl's binary_logloss: 0.27465\n",
      "[1800]\ttr's binary_logloss: 0.26701\tvl's binary_logloss: 0.274591\n",
      "[1900]\ttr's binary_logloss: 0.266642\tvl's binary_logloss: 0.274548\n",
      "[2000]\ttr's binary_logloss: 0.266268\tvl's binary_logloss: 0.274515\n",
      "[2100]\ttr's binary_logloss: 0.265895\tvl's binary_logloss: 0.274486\n",
      "[2200]\ttr's binary_logloss: 0.265533\tvl's binary_logloss: 0.274449\n",
      "[2300]\ttr's binary_logloss: 0.265185\tvl's binary_logloss: 0.274417\n",
      "[2400]\ttr's binary_logloss: 0.264789\tvl's binary_logloss: 0.274368\n",
      "[2500]\ttr's binary_logloss: 0.264448\tvl's binary_logloss: 0.274342\n",
      "[2600]\ttr's binary_logloss: 0.264113\tvl's binary_logloss: 0.274308\n",
      "[2700]\ttr's binary_logloss: 0.263752\tvl's binary_logloss: 0.274271\n",
      "[2800]\ttr's binary_logloss: 0.263413\tvl's binary_logloss: 0.274248\n",
      "[2900]\ttr's binary_logloss: 0.263091\tvl's binary_logloss: 0.274238\n",
      "[3000]\ttr's binary_logloss: 0.262783\tvl's binary_logloss: 0.274232\n",
      "[3100]\ttr's binary_logloss: 0.262457\tvl's binary_logloss: 0.274216\n",
      "[3200]\ttr's binary_logloss: 0.262128\tvl's binary_logloss: 0.274198\n",
      "[3300]\ttr's binary_logloss: 0.261804\tvl's binary_logloss: 0.27417\n",
      "[3400]\ttr's binary_logloss: 0.261481\tvl's binary_logloss: 0.274153\n",
      "[3500]\ttr's binary_logloss: 0.261146\tvl's binary_logloss: 0.274114\n",
      "[3600]\ttr's binary_logloss: 0.260847\tvl's binary_logloss: 0.274094\n",
      "[3700]\ttr's binary_logloss: 0.260553\tvl's binary_logloss: 0.274088\n",
      "[3800]\ttr's binary_logloss: 0.260248\tvl's binary_logloss: 0.27408\n",
      "[3900]\ttr's binary_logloss: 0.25994\tvl's binary_logloss: 0.27408\n",
      "[4000]\ttr's binary_logloss: 0.259626\tvl's binary_logloss: 0.27408\n",
      "Early stopping, best iteration is:\n",
      "[3908]\ttr's binary_logloss: 0.259909\tvl's binary_logloss: 0.274072\n"
     ]
    },
    {
     "name": "stderr",
     "output_type": "stream",
     "text": [
      "tune_num_leaves, val_score: 0.273689:  90%|######### | 18/20 [13:23:38<2:17:27, 4123.68s/it]"
     ]
    },
    {
     "name": "stdout",
     "output_type": "stream",
     "text": [
      "Training until validation scores don't improve for 100 rounds\n",
      "[100]\ttr's binary_logloss: 0.275355\tvl's binary_logloss: 0.276972\n",
      "[200]\ttr's binary_logloss: 0.272966\tvl's binary_logloss: 0.275822\n",
      "[300]\ttr's binary_logloss: 0.271298\tvl's binary_logloss: 0.275336\n",
      "[400]\ttr's binary_logloss: 0.269971\tvl's binary_logloss: 0.275004\n",
      "[500]\ttr's binary_logloss: 0.268735\tvl's binary_logloss: 0.274769\n",
      "[600]\ttr's binary_logloss: 0.267573\tvl's binary_logloss: 0.274573\n",
      "[700]\ttr's binary_logloss: 0.266509\tvl's binary_logloss: 0.274433\n",
      "[800]\ttr's binary_logloss: 0.265492\tvl's binary_logloss: 0.274326\n",
      "[900]\ttr's binary_logloss: 0.26449\tvl's binary_logloss: 0.274182\n",
      "[1000]\ttr's binary_logloss: 0.2635\tvl's binary_logloss: 0.274098\n",
      "[1100]\ttr's binary_logloss: 0.26259\tvl's binary_logloss: 0.274034\n",
      "[1200]\ttr's binary_logloss: 0.261697\tvl's binary_logloss: 0.273942\n",
      "[1300]\ttr's binary_logloss: 0.260808\tvl's binary_logloss: 0.273897\n",
      "[1400]\ttr's binary_logloss: 0.259991\tvl's binary_logloss: 0.273874\n",
      "[1500]\ttr's binary_logloss: 0.259191\tvl's binary_logloss: 0.273837\n",
      "[1600]\ttr's binary_logloss: 0.258383\tvl's binary_logloss: 0.273812\n",
      "Early stopping, best iteration is:\n",
      "[1590]\ttr's binary_logloss: 0.258463\tvl's binary_logloss: 0.273808\n"
     ]
    },
    {
     "name": "stderr",
     "output_type": "stream",
     "text": [
      "tune_num_leaves, val_score: 0.273689:  95%|#########5| 19/20 [14:19:48<1:04:57, 3897.83s/it]"
     ]
    },
    {
     "name": "stdout",
     "output_type": "stream",
     "text": [
      "Training until validation scores don't improve for 100 rounds\n",
      "[100]\ttr's binary_logloss: 0.273774\tvl's binary_logloss: 0.276238\n",
      "[200]\ttr's binary_logloss: 0.270914\tvl's binary_logloss: 0.275143\n",
      "[300]\ttr's binary_logloss: 0.269081\tvl's binary_logloss: 0.274791\n",
      "[400]\ttr's binary_logloss: 0.267235\tvl's binary_logloss: 0.274362\n",
      "[500]\ttr's binary_logloss: 0.26573\tvl's binary_logloss: 0.274183\n",
      "[600]\ttr's binary_logloss: 0.264109\tvl's binary_logloss: 0.274042\n",
      "[700]\ttr's binary_logloss: 0.262615\tvl's binary_logloss: 0.273973\n",
      "[800]\ttr's binary_logloss: 0.261306\tvl's binary_logloss: 0.273918\n",
      "[900]\ttr's binary_logloss: 0.260092\tvl's binary_logloss: 0.273858\n",
      "[1000]\ttr's binary_logloss: 0.258721\tvl's binary_logloss: 0.27384\n",
      "[1100]\ttr's binary_logloss: 0.257565\tvl's binary_logloss: 0.273815\n",
      "[1200]\ttr's binary_logloss: 0.256361\tvl's binary_logloss: 0.273802\n",
      "[1300]\ttr's binary_logloss: 0.255218\tvl's binary_logloss: 0.273783\n",
      "[1400]\ttr's binary_logloss: 0.254069\tvl's binary_logloss: 0.273754\n",
      "[1500]\ttr's binary_logloss: 0.252844\tvl's binary_logloss: 0.2737\n",
      "[1600]\ttr's binary_logloss: 0.251768\tvl's binary_logloss: 0.273704\n",
      "Early stopping, best iteration is:\n",
      "[1555]\ttr's binary_logloss: 0.252201\tvl's binary_logloss: 0.273683\n"
     ]
    },
    {
     "name": "stderr",
     "output_type": "stream",
     "text": [
      "tune_num_leaves, val_score: 0.273683: 100%|##########| 20/20 [15:23:56<00:00, 2771.84s/it]  \n",
      "tune_bagging_fraction_and_bagging_freq, val_score: 0.273683:   0%|          | 0/10 [00:00<?, ?it/s]"
     ]
    },
    {
     "name": "stdout",
     "output_type": "stream",
     "text": [
      "Training until validation scores don't improve for 100 rounds\n",
      "[100]\ttr's binary_logloss: 0.274578\tvl's binary_logloss: 0.276695\n",
      "[200]\ttr's binary_logloss: 0.271916\tvl's binary_logloss: 0.275633\n",
      "[300]\ttr's binary_logloss: 0.270003\tvl's binary_logloss: 0.275301\n",
      "[400]\ttr's binary_logloss: 0.268308\tvl's binary_logloss: 0.27513\n",
      "[500]\ttr's binary_logloss: 0.266793\tvl's binary_logloss: 0.275068\n",
      "[600]\ttr's binary_logloss: 0.26529\tvl's binary_logloss: 0.275013\n",
      "[700]\ttr's binary_logloss: 0.263849\tvl's binary_logloss: 0.274987\n",
      "[800]\ttr's binary_logloss: 0.262451\tvl's binary_logloss: 0.275035\n",
      "Early stopping, best iteration is:\n",
      "[734]\ttr's binary_logloss: 0.263346\tvl's binary_logloss: 0.274981\n"
     ]
    },
    {
     "name": "stderr",
     "output_type": "stream",
     "text": [
      "tune_bagging_fraction_and_bagging_freq, val_score: 0.273683:  10%|#         | 1/10 [36:29<5:28:23, 2189.31s/it]"
     ]
    },
    {
     "name": "stdout",
     "output_type": "stream",
     "text": [
      "Training until validation scores don't improve for 100 rounds\n",
      "[100]\ttr's binary_logloss: 0.273896\tvl's binary_logloss: 0.276255\n",
      "[200]\ttr's binary_logloss: 0.271217\tvl's binary_logloss: 0.275262\n",
      "[300]\ttr's binary_logloss: 0.269367\tvl's binary_logloss: 0.274881\n",
      "[400]\ttr's binary_logloss: 0.267757\tvl's binary_logloss: 0.274698\n",
      "[500]\ttr's binary_logloss: 0.266241\tvl's binary_logloss: 0.27457\n",
      "[600]\ttr's binary_logloss: 0.26483\tvl's binary_logloss: 0.274527\n",
      "[700]\ttr's binary_logloss: 0.263433\tvl's binary_logloss: 0.274471\n",
      "[800]\ttr's binary_logloss: 0.26202\tvl's binary_logloss: 0.274397\n",
      "[900]\ttr's binary_logloss: 0.26068\tvl's binary_logloss: 0.274294\n",
      "[1000]\ttr's binary_logloss: 0.259336\tvl's binary_logloss: 0.274241\n",
      "[1100]\ttr's binary_logloss: 0.25804\tvl's binary_logloss: 0.274161\n",
      "[1200]\ttr's binary_logloss: 0.256769\tvl's binary_logloss: 0.274102\n",
      "[1300]\ttr's binary_logloss: 0.255542\tvl's binary_logloss: 0.2741\n",
      "Early stopping, best iteration is:\n",
      "[1225]\ttr's binary_logloss: 0.256444\tvl's binary_logloss: 0.274089\n"
     ]
    },
    {
     "name": "stderr",
     "output_type": "stream",
     "text": [
      "tune_bagging_fraction_and_bagging_freq, val_score: 0.273683:  20%|##        | 2/10 [1:32:22<5:38:27, 2538.38s/it]"
     ]
    },
    {
     "name": "stdout",
     "output_type": "stream",
     "text": [
      "Training until validation scores don't improve for 100 rounds\n",
      "[100]\ttr's binary_logloss: 0.273986\tvl's binary_logloss: 0.276274\n",
      "[200]\ttr's binary_logloss: 0.271281\tvl's binary_logloss: 0.27527\n",
      "[300]\ttr's binary_logloss: 0.269417\tvl's binary_logloss: 0.274929\n",
      "[400]\ttr's binary_logloss: 0.267719\tvl's binary_logloss: 0.274719\n",
      "[500]\ttr's binary_logloss: 0.26614\tvl's binary_logloss: 0.27459\n",
      "[600]\ttr's binary_logloss: 0.264615\tvl's binary_logloss: 0.274468\n",
      "[700]\ttr's binary_logloss: 0.263161\tvl's binary_logloss: 0.274365\n",
      "[800]\ttr's binary_logloss: 0.261774\tvl's binary_logloss: 0.274359\n",
      "[900]\ttr's binary_logloss: 0.260393\tvl's binary_logloss: 0.274318\n",
      "[1000]\ttr's binary_logloss: 0.259086\tvl's binary_logloss: 0.274292\n",
      "[1100]\ttr's binary_logloss: 0.257734\tvl's binary_logloss: 0.274223\n",
      "[1200]\ttr's binary_logloss: 0.256438\tvl's binary_logloss: 0.2742\n",
      "[1300]\ttr's binary_logloss: 0.255202\tvl's binary_logloss: 0.27422\n",
      "Early stopping, best iteration is:\n",
      "[1223]\ttr's binary_logloss: 0.256129\tvl's binary_logloss: 0.274198\n"
     ]
    },
    {
     "name": "stderr",
     "output_type": "stream",
     "text": [
      "tune_bagging_fraction_and_bagging_freq, val_score: 0.273683:  30%|###       | 3/10 [2:36:41<5:42:21, 2934.48s/it]"
     ]
    },
    {
     "name": "stdout",
     "output_type": "stream",
     "text": [
      "Training until validation scores don't improve for 100 rounds\n",
      "[100]\ttr's binary_logloss: 0.274251\tvl's binary_logloss: 0.276497\n",
      "[200]\ttr's binary_logloss: 0.271561\tvl's binary_logloss: 0.275427\n",
      "[300]\ttr's binary_logloss: 0.269712\tvl's binary_logloss: 0.275133\n",
      "[400]\ttr's binary_logloss: 0.26793\tvl's binary_logloss: 0.27484\n",
      "[500]\ttr's binary_logloss: 0.266369\tvl's binary_logloss: 0.274712\n",
      "[600]\ttr's binary_logloss: 0.264873\tvl's binary_logloss: 0.274649\n",
      "[700]\ttr's binary_logloss: 0.263459\tvl's binary_logloss: 0.274621\n",
      "[800]\ttr's binary_logloss: 0.262053\tvl's binary_logloss: 0.274585\n",
      "[900]\ttr's binary_logloss: 0.260668\tvl's binary_logloss: 0.274537\n",
      "Early stopping, best iteration is:\n",
      "[885]\ttr's binary_logloss: 0.260862\tvl's binary_logloss: 0.274535\n"
     ]
    },
    {
     "name": "stderr",
     "output_type": "stream",
     "text": [
      "tune_bagging_fraction_and_bagging_freq, val_score: 0.273683:  40%|####      | 4/10 [3:20:04<4:43:30, 2835.06s/it]"
     ]
    },
    {
     "name": "stdout",
     "output_type": "stream",
     "text": [
      "Training until validation scores don't improve for 100 rounds\n",
      "[100]\ttr's binary_logloss: 0.274316\tvl's binary_logloss: 0.276509\n",
      "[200]\ttr's binary_logloss: 0.27169\tvl's binary_logloss: 0.275462\n",
      "[300]\ttr's binary_logloss: 0.269787\tvl's binary_logloss: 0.27507\n",
      "[400]\ttr's binary_logloss: 0.26805\tvl's binary_logloss: 0.274829\n",
      "[500]\ttr's binary_logloss: 0.266494\tvl's binary_logloss: 0.274722\n",
      "[600]\ttr's binary_logloss: 0.26498\tvl's binary_logloss: 0.274646\n",
      "[700]\ttr's binary_logloss: 0.263484\tvl's binary_logloss: 0.274541\n",
      "[800]\ttr's binary_logloss: 0.262075\tvl's binary_logloss: 0.274512\n",
      "Early stopping, best iteration is:\n",
      "[739]\ttr's binary_logloss: 0.262904\tvl's binary_logloss: 0.274493\n"
     ]
    },
    {
     "name": "stderr",
     "output_type": "stream",
     "text": [
      "tune_bagging_fraction_and_bagging_freq, val_score: 0.273683:  50%|#####     | 5/10 [3:57:54<3:42:08, 2665.63s/it]"
     ]
    },
    {
     "name": "stdout",
     "output_type": "stream",
     "text": [
      "Training until validation scores don't improve for 100 rounds\n",
      "[100]\ttr's binary_logloss: 0.273842\tvl's binary_logloss: 0.276237\n",
      "[200]\ttr's binary_logloss: 0.271129\tvl's binary_logloss: 0.27523\n",
      "[300]\ttr's binary_logloss: 0.269335\tvl's binary_logloss: 0.274917\n",
      "[400]\ttr's binary_logloss: 0.267679\tvl's binary_logloss: 0.274689\n",
      "[500]\ttr's binary_logloss: 0.266186\tvl's binary_logloss: 0.274567\n",
      "[600]\ttr's binary_logloss: 0.264731\tvl's binary_logloss: 0.274466\n",
      "[700]\ttr's binary_logloss: 0.263317\tvl's binary_logloss: 0.274387\n",
      "[800]\ttr's binary_logloss: 0.261906\tvl's binary_logloss: 0.27429\n",
      "[900]\ttr's binary_logloss: 0.260521\tvl's binary_logloss: 0.27419\n",
      "[1000]\ttr's binary_logloss: 0.25923\tvl's binary_logloss: 0.27416\n",
      "[1100]\ttr's binary_logloss: 0.258\tvl's binary_logloss: 0.274137\n",
      "[1200]\ttr's binary_logloss: 0.256729\tvl's binary_logloss: 0.274102\n",
      "[1300]\ttr's binary_logloss: 0.255463\tvl's binary_logloss: 0.27408\n",
      "[1400]\ttr's binary_logloss: 0.254215\tvl's binary_logloss: 0.274072\n",
      "[1500]\ttr's binary_logloss: 0.253019\tvl's binary_logloss: 0.274032\n",
      "[1600]\ttr's binary_logloss: 0.251817\tvl's binary_logloss: 0.273996\n",
      "[1700]\ttr's binary_logloss: 0.250647\tvl's binary_logloss: 0.274004\n",
      "Early stopping, best iteration is:\n",
      "[1650]\ttr's binary_logloss: 0.251222\tvl's binary_logloss: 0.273986\n"
     ]
    },
    {
     "name": "stderr",
     "output_type": "stream",
     "text": [
      "tune_bagging_fraction_and_bagging_freq, val_score: 0.273683:  60%|######    | 6/10 [5:06:37<3:26:51, 3103.00s/it]"
     ]
    },
    {
     "name": "stdout",
     "output_type": "stream",
     "text": [
      "Training until validation scores don't improve for 100 rounds\n",
      "[100]\ttr's binary_logloss: 0.273881\tvl's binary_logloss: 0.276254\n",
      "[200]\ttr's binary_logloss: 0.271111\tvl's binary_logloss: 0.275193\n",
      "[300]\ttr's binary_logloss: 0.269308\tvl's binary_logloss: 0.274861\n",
      "[400]\ttr's binary_logloss: 0.267646\tvl's binary_logloss: 0.274545\n",
      "[500]\ttr's binary_logloss: 0.266134\tvl's binary_logloss: 0.274349\n",
      "[600]\ttr's binary_logloss: 0.264759\tvl's binary_logloss: 0.27427\n",
      "[700]\ttr's binary_logloss: 0.263407\tvl's binary_logloss: 0.274205\n",
      "[800]\ttr's binary_logloss: 0.2621\tvl's binary_logloss: 0.274139\n",
      "[900]\ttr's binary_logloss: 0.260843\tvl's binary_logloss: 0.27409\n",
      "[1000]\ttr's binary_logloss: 0.259595\tvl's binary_logloss: 0.274056\n",
      "[1100]\ttr's binary_logloss: 0.258378\tvl's binary_logloss: 0.273999\n",
      "[1200]\ttr's binary_logloss: 0.257203\tvl's binary_logloss: 0.273995\n",
      "[1300]\ttr's binary_logloss: 0.255987\tvl's binary_logloss: 0.273944\n",
      "[1400]\ttr's binary_logloss: 0.254814\tvl's binary_logloss: 0.273917\n",
      "[1500]\ttr's binary_logloss: 0.253604\tvl's binary_logloss: 0.27386\n",
      "[1600]\ttr's binary_logloss: 0.252484\tvl's binary_logloss: 0.273848\n",
      "[1700]\ttr's binary_logloss: 0.251388\tvl's binary_logloss: 0.273867\n",
      "Early stopping, best iteration is:\n",
      "[1610]\ttr's binary_logloss: 0.252362\tvl's binary_logloss: 0.273839\n"
     ]
    },
    {
     "name": "stderr",
     "output_type": "stream",
     "text": [
      "tune_bagging_fraction_and_bagging_freq, val_score: 0.273683:  70%|#######   | 7/10 [6:05:07<2:41:14, 3224.68s/it]"
     ]
    },
    {
     "name": "stdout",
     "output_type": "stream",
     "text": [
      "Training until validation scores don't improve for 100 rounds\n",
      "[100]\ttr's binary_logloss: 0.273801\tvl's binary_logloss: 0.276244\n",
      "[200]\ttr's binary_logloss: 0.270984\tvl's binary_logloss: 0.275172\n",
      "[300]\ttr's binary_logloss: 0.269151\tvl's binary_logloss: 0.274761\n",
      "[400]\ttr's binary_logloss: 0.267621\tvl's binary_logloss: 0.274614\n",
      "[500]\ttr's binary_logloss: 0.266149\tvl's binary_logloss: 0.274444\n",
      "[600]\ttr's binary_logloss: 0.264751\tvl's binary_logloss: 0.274373\n",
      "[700]\ttr's binary_logloss: 0.263375\tvl's binary_logloss: 0.27428\n",
      "[800]\ttr's binary_logloss: 0.262032\tvl's binary_logloss: 0.274179\n",
      "[900]\ttr's binary_logloss: 0.260761\tvl's binary_logloss: 0.274094\n",
      "[1000]\ttr's binary_logloss: 0.259533\tvl's binary_logloss: 0.274049\n",
      "[1100]\ttr's binary_logloss: 0.258317\tvl's binary_logloss: 0.273979\n",
      "[1200]\ttr's binary_logloss: 0.257097\tvl's binary_logloss: 0.27392\n",
      "[1300]\ttr's binary_logloss: 0.255871\tvl's binary_logloss: 0.273863\n",
      "[1400]\ttr's binary_logloss: 0.254722\tvl's binary_logloss: 0.273832\n",
      "Early stopping, best iteration is:\n",
      "[1352]\ttr's binary_logloss: 0.25525\tvl's binary_logloss: 0.273824\n"
     ]
    },
    {
     "name": "stderr",
     "output_type": "stream",
     "text": [
      "tune_bagging_fraction_and_bagging_freq, val_score: 0.273683:  80%|########  | 8/10 [6:56:32<1:46:06, 3183.21s/it]"
     ]
    },
    {
     "name": "stdout",
     "output_type": "stream",
     "text": [
      "Training until validation scores don't improve for 100 rounds\n",
      "[100]\ttr's binary_logloss: 0.273791\tvl's binary_logloss: 0.276193\n",
      "[200]\ttr's binary_logloss: 0.27101\tvl's binary_logloss: 0.275121\n",
      "[300]\ttr's binary_logloss: 0.269258\tvl's binary_logloss: 0.274798\n",
      "[400]\ttr's binary_logloss: 0.267594\tvl's binary_logloss: 0.274524\n",
      "[500]\ttr's binary_logloss: 0.266091\tvl's binary_logloss: 0.274357\n",
      "[600]\ttr's binary_logloss: 0.264728\tvl's binary_logloss: 0.274249\n",
      "[700]\ttr's binary_logloss: 0.263366\tvl's binary_logloss: 0.274172\n",
      "[800]\ttr's binary_logloss: 0.262063\tvl's binary_logloss: 0.274127\n",
      "[900]\ttr's binary_logloss: 0.260756\tvl's binary_logloss: 0.274062\n",
      "[1000]\ttr's binary_logloss: 0.259493\tvl's binary_logloss: 0.274047\n",
      "[1100]\ttr's binary_logloss: 0.25826\tvl's binary_logloss: 0.273992\n",
      "[1200]\ttr's binary_logloss: 0.256977\tvl's binary_logloss: 0.273937\n",
      "[1300]\ttr's binary_logloss: 0.255775\tvl's binary_logloss: 0.273898\n",
      "[1400]\ttr's binary_logloss: 0.254602\tvl's binary_logloss: 0.273895\n",
      "[1500]\ttr's binary_logloss: 0.253385\tvl's binary_logloss: 0.273819\n",
      "[1600]\ttr's binary_logloss: 0.25228\tvl's binary_logloss: 0.273826\n",
      "Early stopping, best iteration is:\n",
      "[1526]\ttr's binary_logloss: 0.253079\tvl's binary_logloss: 0.273793\n"
     ]
    },
    {
     "name": "stderr",
     "output_type": "stream",
     "text": [
      "tune_bagging_fraction_and_bagging_freq, val_score: 0.273683:  90%|######### | 9/10 [8:03:07<57:06, 3426.42s/it]  "
     ]
    },
    {
     "name": "stdout",
     "output_type": "stream",
     "text": [
      "Training until validation scores don't improve for 100 rounds\n",
      "[100]\ttr's binary_logloss: 0.273798\tvl's binary_logloss: 0.276215\n",
      "[200]\ttr's binary_logloss: 0.271091\tvl's binary_logloss: 0.275227\n",
      "[300]\ttr's binary_logloss: 0.269378\tvl's binary_logloss: 0.274899\n",
      "[400]\ttr's binary_logloss: 0.267901\tvl's binary_logloss: 0.27473\n",
      "[500]\ttr's binary_logloss: 0.266428\tvl's binary_logloss: 0.274561\n",
      "[600]\ttr's binary_logloss: 0.265\tvl's binary_logloss: 0.274407\n",
      "[700]\ttr's binary_logloss: 0.263695\tvl's binary_logloss: 0.274319\n",
      "[800]\ttr's binary_logloss: 0.26249\tvl's binary_logloss: 0.274281\n",
      "[900]\ttr's binary_logloss: 0.261294\tvl's binary_logloss: 0.274248\n",
      "[1000]\ttr's binary_logloss: 0.260096\tvl's binary_logloss: 0.274224\n",
      "[1100]\ttr's binary_logloss: 0.258919\tvl's binary_logloss: 0.274167\n",
      "[1200]\ttr's binary_logloss: 0.25774\tvl's binary_logloss: 0.2741\n",
      "[1300]\ttr's binary_logloss: 0.256574\tvl's binary_logloss: 0.274059\n",
      "[1400]\ttr's binary_logloss: 0.255488\tvl's binary_logloss: 0.27405\n",
      "[1500]\ttr's binary_logloss: 0.254384\tvl's binary_logloss: 0.273985\n",
      "[1600]\ttr's binary_logloss: 0.253322\tvl's binary_logloss: 0.273961\n",
      "[1700]\ttr's binary_logloss: 0.252301\tvl's binary_logloss: 0.273963\n",
      "[1800]\ttr's binary_logloss: 0.251206\tvl's binary_logloss: 0.273938\n",
      "[1900]\ttr's binary_logloss: 0.25017\tvl's binary_logloss: 0.27394\n",
      "Early stopping, best iteration is:\n",
      "[1854]\ttr's binary_logloss: 0.250633\tvl's binary_logloss: 0.273929\n"
     ]
    },
    {
     "name": "stderr",
     "output_type": "stream",
     "text": [
      "tune_bagging_fraction_and_bagging_freq, val_score: 0.273683: 100%|##########| 10/10 [9:03:53<00:00, 3263.32s/it]\n",
      "tune_feature_fraction, val_score: 0.273683:   0%|          | 0/3 [00:00<?, ?it/s]"
     ]
    },
    {
     "name": "stdout",
     "output_type": "stream",
     "text": [
      "Training until validation scores don't improve for 100 rounds\n",
      "[100]\ttr's binary_logloss: 0.273774\tvl's binary_logloss: 0.276238\n",
      "[200]\ttr's binary_logloss: 0.270914\tvl's binary_logloss: 0.275143\n",
      "[300]\ttr's binary_logloss: 0.269081\tvl's binary_logloss: 0.274791\n",
      "[400]\ttr's binary_logloss: 0.267235\tvl's binary_logloss: 0.274362\n",
      "[500]\ttr's binary_logloss: 0.26573\tvl's binary_logloss: 0.274183\n",
      "[600]\ttr's binary_logloss: 0.264109\tvl's binary_logloss: 0.274042\n",
      "[700]\ttr's binary_logloss: 0.262615\tvl's binary_logloss: 0.273973\n",
      "[800]\ttr's binary_logloss: 0.261306\tvl's binary_logloss: 0.273918\n",
      "[900]\ttr's binary_logloss: 0.260092\tvl's binary_logloss: 0.273858\n",
      "[1000]\ttr's binary_logloss: 0.258721\tvl's binary_logloss: 0.27384\n",
      "[1100]\ttr's binary_logloss: 0.257565\tvl's binary_logloss: 0.273815\n",
      "[1200]\ttr's binary_logloss: 0.256361\tvl's binary_logloss: 0.273802\n",
      "[1300]\ttr's binary_logloss: 0.255218\tvl's binary_logloss: 0.273783\n",
      "[1400]\ttr's binary_logloss: 0.254069\tvl's binary_logloss: 0.273754\n",
      "[1500]\ttr's binary_logloss: 0.252844\tvl's binary_logloss: 0.2737\n",
      "[1600]\ttr's binary_logloss: 0.251768\tvl's binary_logloss: 0.273704\n",
      "Early stopping, best iteration is:\n",
      "[1555]\ttr's binary_logloss: 0.252201\tvl's binary_logloss: 0.273683\n"
     ]
    },
    {
     "name": "stderr",
     "output_type": "stream",
     "text": [
      "tune_feature_fraction, val_score: 0.273683:  33%|###3      | 1/3 [54:10<1:48:20, 3250.13s/it]"
     ]
    },
    {
     "name": "stdout",
     "output_type": "stream",
     "text": [
      "Training until validation scores don't improve for 100 rounds\n",
      "[100]\ttr's binary_logloss: 0.273468\tvl's binary_logloss: 0.276087\n",
      "[200]\ttr's binary_logloss: 0.270723\tvl's binary_logloss: 0.27514\n",
      "[300]\ttr's binary_logloss: 0.268918\tvl's binary_logloss: 0.274799\n",
      "[400]\ttr's binary_logloss: 0.267113\tvl's binary_logloss: 0.274548\n",
      "[500]\ttr's binary_logloss: 0.265479\tvl's binary_logloss: 0.274386\n",
      "[600]\ttr's binary_logloss: 0.264063\tvl's binary_logloss: 0.274285\n",
      "[700]\ttr's binary_logloss: 0.26264\tvl's binary_logloss: 0.274198\n",
      "[800]\ttr's binary_logloss: 0.261267\tvl's binary_logloss: 0.274097\n",
      "[900]\ttr's binary_logloss: 0.259875\tvl's binary_logloss: 0.274022\n",
      "[1000]\ttr's binary_logloss: 0.25857\tvl's binary_logloss: 0.273982\n",
      "[1100]\ttr's binary_logloss: 0.257253\tvl's binary_logloss: 0.273892\n",
      "[1200]\ttr's binary_logloss: 0.256096\tvl's binary_logloss: 0.273881\n",
      "[1300]\ttr's binary_logloss: 0.254921\tvl's binary_logloss: 0.273848\n",
      "[1400]\ttr's binary_logloss: 0.253692\tvl's binary_logloss: 0.273824\n",
      "[1500]\ttr's binary_logloss: 0.252453\tvl's binary_logloss: 0.273807\n",
      "[1600]\ttr's binary_logloss: 0.251278\tvl's binary_logloss: 0.273766\n",
      "[1700]\ttr's binary_logloss: 0.250192\tvl's binary_logloss: 0.273788\n",
      "Early stopping, best iteration is:\n",
      "[1611]\ttr's binary_logloss: 0.251142\tvl's binary_logloss: 0.273758\n"
     ]
    },
    {
     "name": "stderr",
     "output_type": "stream",
     "text": [
      "tune_feature_fraction, val_score: 0.273683:  67%|######6   | 2/3 [1:45:34<53:20, 3200.31s/it]  "
     ]
    },
    {
     "name": "stdout",
     "output_type": "stream",
     "text": [
      "Training until validation scores don't improve for 100 rounds\n",
      "[100]\ttr's binary_logloss: 0.273317\tvl's binary_logloss: 0.276047\n",
      "[200]\ttr's binary_logloss: 0.27051\tvl's binary_logloss: 0.275092\n",
      "[300]\ttr's binary_logloss: 0.268486\tvl's binary_logloss: 0.274715\n",
      "[400]\ttr's binary_logloss: 0.266578\tvl's binary_logloss: 0.274446\n",
      "[500]\ttr's binary_logloss: 0.264973\tvl's binary_logloss: 0.274314\n",
      "[600]\ttr's binary_logloss: 0.263317\tvl's binary_logloss: 0.274152\n",
      "[700]\ttr's binary_logloss: 0.261791\tvl's binary_logloss: 0.274056\n",
      "[800]\ttr's binary_logloss: 0.260524\tvl's binary_logloss: 0.274036\n",
      "[900]\ttr's binary_logloss: 0.259091\tvl's binary_logloss: 0.27396\n",
      "[1000]\ttr's binary_logloss: 0.2578\tvl's binary_logloss: 0.273934\n",
      "[1100]\ttr's binary_logloss: 0.25647\tvl's binary_logloss: 0.273883\n",
      "Early stopping, best iteration is:\n",
      "[1060]\ttr's binary_logloss: 0.256923\tvl's binary_logloss: 0.273873\n"
     ]
    },
    {
     "name": "stderr",
     "output_type": "stream",
     "text": [
      "tune_feature_fraction, val_score: 0.273683: 100%|##########| 3/3 [2:27:48<00:00, 2956.17s/it]\n",
      "tune_lambda_l1_and_lambda_l2, val_score: 0.273683:   0%|          | 0/20 [00:00<?, ?it/s]"
     ]
    },
    {
     "name": "stdout",
     "output_type": "stream",
     "text": [
      "Training until validation scores don't improve for 100 rounds\n",
      "[100]\ttr's binary_logloss: 0.273774\tvl's binary_logloss: 0.276238\n",
      "[200]\ttr's binary_logloss: 0.271053\tvl's binary_logloss: 0.27523\n",
      "[300]\ttr's binary_logloss: 0.268996\tvl's binary_logloss: 0.27484\n",
      "[400]\ttr's binary_logloss: 0.267313\tvl's binary_logloss: 0.274561\n",
      "[500]\ttr's binary_logloss: 0.265762\tvl's binary_logloss: 0.274372\n",
      "[600]\ttr's binary_logloss: 0.264332\tvl's binary_logloss: 0.274259\n",
      "[700]\ttr's binary_logloss: 0.262897\tvl's binary_logloss: 0.274107\n",
      "[800]\ttr's binary_logloss: 0.261506\tvl's binary_logloss: 0.274015\n",
      "[900]\ttr's binary_logloss: 0.260278\tvl's binary_logloss: 0.273963\n",
      "[1000]\ttr's binary_logloss: 0.259102\tvl's binary_logloss: 0.27394\n",
      "[1100]\ttr's binary_logloss: 0.257782\tvl's binary_logloss: 0.273855\n",
      "[1200]\ttr's binary_logloss: 0.256527\tvl's binary_logloss: 0.273799\n",
      "[1300]\ttr's binary_logloss: 0.255369\tvl's binary_logloss: 0.273759\n",
      "[1400]\ttr's binary_logloss: 0.254216\tvl's binary_logloss: 0.273721\n",
      "[1500]\ttr's binary_logloss: 0.253151\tvl's binary_logloss: 0.273728\n",
      "Early stopping, best iteration is:\n",
      "[1456]\ttr's binary_logloss: 0.253593\tvl's binary_logloss: 0.273703\n"
     ]
    },
    {
     "name": "stderr",
     "output_type": "stream",
     "text": [
      "tune_lambda_l1_and_lambda_l2, val_score: 0.273683:   5%|5         | 1/20 [54:08<17:08:32, 3248.02s/it]"
     ]
    },
    {
     "name": "stdout",
     "output_type": "stream",
     "text": [
      "Training until validation scores don't improve for 100 rounds\n",
      "[100]\ttr's binary_logloss: 0.273774\tvl's binary_logloss: 0.276238\n",
      "[200]\ttr's binary_logloss: 0.271053\tvl's binary_logloss: 0.27523\n",
      "[300]\ttr's binary_logloss: 0.268996\tvl's binary_logloss: 0.27484\n",
      "[400]\ttr's binary_logloss: 0.267313\tvl's binary_logloss: 0.274561\n",
      "[500]\ttr's binary_logloss: 0.265762\tvl's binary_logloss: 0.274372\n",
      "[600]\ttr's binary_logloss: 0.264332\tvl's binary_logloss: 0.274259\n",
      "[700]\ttr's binary_logloss: 0.262897\tvl's binary_logloss: 0.274107\n",
      "[800]\ttr's binary_logloss: 0.261506\tvl's binary_logloss: 0.274015\n",
      "[900]\ttr's binary_logloss: 0.260278\tvl's binary_logloss: 0.273963\n",
      "[1000]\ttr's binary_logloss: 0.259102\tvl's binary_logloss: 0.27394\n",
      "[1100]\ttr's binary_logloss: 0.257782\tvl's binary_logloss: 0.273855\n",
      "[1200]\ttr's binary_logloss: 0.256527\tvl's binary_logloss: 0.273799\n",
      "[1300]\ttr's binary_logloss: 0.255369\tvl's binary_logloss: 0.273759\n",
      "[1400]\ttr's binary_logloss: 0.254216\tvl's binary_logloss: 0.273721\n",
      "[1500]\ttr's binary_logloss: 0.253151\tvl's binary_logloss: 0.273728\n",
      "Early stopping, best iteration is:\n",
      "[1456]\ttr's binary_logloss: 0.253593\tvl's binary_logloss: 0.273703\n"
     ]
    },
    {
     "name": "stderr",
     "output_type": "stream",
     "text": [
      "tune_lambda_l1_and_lambda_l2, val_score: 0.273683:  10%|#         | 2/20 [1:51:24<16:31:20, 3304.48s/it]"
     ]
    },
    {
     "name": "stdout",
     "output_type": "stream",
     "text": [
      "Training until validation scores don't improve for 100 rounds\n",
      "[100]\ttr's binary_logloss: 0.273774\tvl's binary_logloss: 0.276238\n",
      "[200]\ttr's binary_logloss: 0.271053\tvl's binary_logloss: 0.27523\n",
      "[300]\ttr's binary_logloss: 0.269168\tvl's binary_logloss: 0.274843\n",
      "[400]\ttr's binary_logloss: 0.267345\tvl's binary_logloss: 0.2745\n",
      "[500]\ttr's binary_logloss: 0.265682\tvl's binary_logloss: 0.27431\n",
      "[600]\ttr's binary_logloss: 0.264101\tvl's binary_logloss: 0.274157\n",
      "[700]\ttr's binary_logloss: 0.262872\tvl's binary_logloss: 0.27412\n",
      "[800]\ttr's binary_logloss: 0.26157\tvl's binary_logloss: 0.27409\n",
      "[900]\ttr's binary_logloss: 0.26035\tvl's binary_logloss: 0.273991\n",
      "[1000]\ttr's binary_logloss: 0.259141\tvl's binary_logloss: 0.27397\n",
      "[1100]\ttr's binary_logloss: 0.257989\tvl's binary_logloss: 0.273938\n",
      "[1200]\ttr's binary_logloss: 0.256663\tvl's binary_logloss: 0.273871\n",
      "[1300]\ttr's binary_logloss: 0.255344\tvl's binary_logloss: 0.273777\n",
      "[1400]\ttr's binary_logloss: 0.254085\tvl's binary_logloss: 0.273729\n",
      "[1500]\ttr's binary_logloss: 0.252881\tvl's binary_logloss: 0.273697\n",
      "[1600]\ttr's binary_logloss: 0.251694\tvl's binary_logloss: 0.273676\n",
      "[1700]\ttr's binary_logloss: 0.250566\tvl's binary_logloss: 0.273667\n",
      "[1800]\ttr's binary_logloss: 0.249384\tvl's binary_logloss: 0.273664\n",
      "Early stopping, best iteration is:\n",
      "[1776]\ttr's binary_logloss: 0.249642\tvl's binary_logloss: 0.273657\n"
     ]
    },
    {
     "name": "stderr",
     "output_type": "stream",
     "text": [
      "tune_lambda_l1_and_lambda_l2, val_score: 0.273657:  15%|#5        | 3/20 [2:58:05<16:35:30, 3513.56s/it]"
     ]
    },
    {
     "name": "stdout",
     "output_type": "stream",
     "text": [
      "Training until validation scores don't improve for 100 rounds\n",
      "[100]\ttr's binary_logloss: 0.274074\tvl's binary_logloss: 0.276325\n",
      "[200]\ttr's binary_logloss: 0.271145\tvl's binary_logloss: 0.275013\n",
      "[300]\ttr's binary_logloss: 0.269433\tvl's binary_logloss: 0.274495\n",
      "[400]\ttr's binary_logloss: 0.267933\tvl's binary_logloss: 0.274137\n",
      "[500]\ttr's binary_logloss: 0.266649\tvl's binary_logloss: 0.273946\n",
      "[600]\ttr's binary_logloss: 0.265489\tvl's binary_logloss: 0.273799\n",
      "[700]\ttr's binary_logloss: 0.264396\tvl's binary_logloss: 0.273692\n",
      "[800]\ttr's binary_logloss: 0.263349\tvl's binary_logloss: 0.273602\n",
      "[900]\ttr's binary_logloss: 0.262427\tvl's binary_logloss: 0.273505\n",
      "[1000]\ttr's binary_logloss: 0.261488\tvl's binary_logloss: 0.273482\n",
      "[1100]\ttr's binary_logloss: 0.260607\tvl's binary_logloss: 0.273439\n",
      "[1200]\ttr's binary_logloss: 0.259709\tvl's binary_logloss: 0.273396\n",
      "[1300]\ttr's binary_logloss: 0.258847\tvl's binary_logloss: 0.273367\n",
      "[1400]\ttr's binary_logloss: 0.258034\tvl's binary_logloss: 0.273327\n",
      "[1500]\ttr's binary_logloss: 0.257236\tvl's binary_logloss: 0.273313\n",
      "[1600]\ttr's binary_logloss: 0.256462\tvl's binary_logloss: 0.273299\n",
      "Early stopping, best iteration is:\n",
      "[1578]\ttr's binary_logloss: 0.256646\tvl's binary_logloss: 0.273287\n"
     ]
    },
    {
     "name": "stderr",
     "output_type": "stream",
     "text": [
      "tune_lambda_l1_and_lambda_l2, val_score: 0.273287:  20%|##        | 4/20 [4:20:49<17:32:58, 3948.63s/it]"
     ]
    },
    {
     "name": "stdout",
     "output_type": "stream",
     "text": [
      "Training until validation scores don't improve for 100 rounds\n",
      "[100]\ttr's binary_logloss: 0.273813\tvl's binary_logloss: 0.27625\n",
      "[200]\ttr's binary_logloss: 0.270959\tvl's binary_logloss: 0.275124\n",
      "[300]\ttr's binary_logloss: 0.269022\tvl's binary_logloss: 0.274678\n",
      "[400]\ttr's binary_logloss: 0.267311\tvl's binary_logloss: 0.274417\n",
      "[500]\ttr's binary_logloss: 0.26581\tvl's binary_logloss: 0.274258\n",
      "[600]\ttr's binary_logloss: 0.264332\tvl's binary_logloss: 0.27407\n",
      "[700]\ttr's binary_logloss: 0.262797\tvl's binary_logloss: 0.273956\n",
      "[800]\ttr's binary_logloss: 0.261487\tvl's binary_logloss: 0.273874\n",
      "[900]\ttr's binary_logloss: 0.260158\tvl's binary_logloss: 0.273772\n",
      "[1000]\ttr's binary_logloss: 0.258993\tvl's binary_logloss: 0.273809\n",
      "Early stopping, best iteration is:\n",
      "[915]\ttr's binary_logloss: 0.259962\tvl's binary_logloss: 0.273765\n"
     ]
    },
    {
     "name": "stderr",
     "output_type": "stream",
     "text": [
      "tune_lambda_l1_and_lambda_l2, val_score: 0.273287:  25%|##5       | 5/20 [4:56:19<14:10:46, 3403.11s/it]"
     ]
    },
    {
     "name": "stdout",
     "output_type": "stream",
     "text": [
      "Training until validation scores don't improve for 100 rounds\n",
      "[100]\ttr's binary_logloss: 0.273774\tvl's binary_logloss: 0.276238\n",
      "[200]\ttr's binary_logloss: 0.271048\tvl's binary_logloss: 0.275215\n",
      "[300]\ttr's binary_logloss: 0.269261\tvl's binary_logloss: 0.274885\n",
      "[400]\ttr's binary_logloss: 0.26747\tvl's binary_logloss: 0.274561\n",
      "[500]\ttr's binary_logloss: 0.265788\tvl's binary_logloss: 0.274321\n",
      "[600]\ttr's binary_logloss: 0.264316\tvl's binary_logloss: 0.274207\n",
      "[700]\ttr's binary_logloss: 0.26294\tvl's binary_logloss: 0.274128\n",
      "[800]\ttr's binary_logloss: 0.261591\tvl's binary_logloss: 0.274053\n",
      "[900]\ttr's binary_logloss: 0.260279\tvl's binary_logloss: 0.273951\n",
      "[1000]\ttr's binary_logloss: 0.259049\tvl's binary_logloss: 0.273947\n",
      "[1100]\ttr's binary_logloss: 0.257686\tvl's binary_logloss: 0.273867\n",
      "[1200]\ttr's binary_logloss: 0.256334\tvl's binary_logloss: 0.273789\n",
      "[1300]\ttr's binary_logloss: 0.255166\tvl's binary_logloss: 0.273779\n",
      "[1400]\ttr's binary_logloss: 0.254028\tvl's binary_logloss: 0.273765\n",
      "[1500]\ttr's binary_logloss: 0.252935\tvl's binary_logloss: 0.273763\n",
      "Early stopping, best iteration is:\n",
      "[1434]\ttr's binary_logloss: 0.25366\tvl's binary_logloss: 0.273757\n"
     ]
    },
    {
     "name": "stderr",
     "output_type": "stream",
     "text": [
      "tune_lambda_l1_and_lambda_l2, val_score: 0.273287:  30%|###       | 6/20 [5:46:14<12:45:28, 3280.58s/it]"
     ]
    },
    {
     "name": "stdout",
     "output_type": "stream",
     "text": [
      "Training until validation scores don't improve for 100 rounds\n",
      "[100]\ttr's binary_logloss: 0.273774\tvl's binary_logloss: 0.276233\n",
      "[200]\ttr's binary_logloss: 0.270944\tvl's binary_logloss: 0.275147\n",
      "[300]\ttr's binary_logloss: 0.269059\tvl's binary_logloss: 0.274744\n",
      "[400]\ttr's binary_logloss: 0.267458\tvl's binary_logloss: 0.274515\n",
      "[500]\ttr's binary_logloss: 0.265941\tvl's binary_logloss: 0.274381\n",
      "[600]\ttr's binary_logloss: 0.264484\tvl's binary_logloss: 0.27425\n",
      "[700]\ttr's binary_logloss: 0.263046\tvl's binary_logloss: 0.274118\n",
      "[800]\ttr's binary_logloss: 0.261622\tvl's binary_logloss: 0.274045\n",
      "[900]\ttr's binary_logloss: 0.2604\tvl's binary_logloss: 0.274015\n",
      "[1000]\ttr's binary_logloss: 0.259082\tvl's binary_logloss: 0.274006\n",
      "[1100]\ttr's binary_logloss: 0.257808\tvl's binary_logloss: 0.273981\n",
      "[1200]\ttr's binary_logloss: 0.256594\tvl's binary_logloss: 0.273926\n",
      "[1300]\ttr's binary_logloss: 0.255369\tvl's binary_logloss: 0.273874\n",
      "[1400]\ttr's binary_logloss: 0.254307\tvl's binary_logloss: 0.273836\n",
      "[1500]\ttr's binary_logloss: 0.253218\tvl's binary_logloss: 0.273816\n",
      "[1600]\ttr's binary_logloss: 0.252129\tvl's binary_logloss: 0.273801\n",
      "[1700]\ttr's binary_logloss: 0.251028\tvl's binary_logloss: 0.273779\n",
      "[1800]\ttr's binary_logloss: 0.249938\tvl's binary_logloss: 0.273755\n",
      "[1900]\ttr's binary_logloss: 0.248859\tvl's binary_logloss: 0.273727\n",
      "[2000]\ttr's binary_logloss: 0.247842\tvl's binary_logloss: 0.273727\n",
      "Early stopping, best iteration is:\n",
      "[1963]\ttr's binary_logloss: 0.248186\tvl's binary_logloss: 0.273703\n"
     ]
    },
    {
     "name": "stderr",
     "output_type": "stream",
     "text": [
      "tune_lambda_l1_and_lambda_l2, val_score: 0.273287:  35%|###5      | 7/20 [6:53:10<12:38:34, 3501.13s/it]"
     ]
    },
    {
     "name": "stdout",
     "output_type": "stream",
     "text": [
      "Training until validation scores don't improve for 100 rounds\n",
      "[100]\ttr's binary_logloss: 0.273969\tvl's binary_logloss: 0.276333\n",
      "[200]\ttr's binary_logloss: 0.271238\tvl's binary_logloss: 0.275175\n",
      "[300]\ttr's binary_logloss: 0.269536\tvl's binary_logloss: 0.274668\n",
      "[400]\ttr's binary_logloss: 0.268079\tvl's binary_logloss: 0.274392\n",
      "[500]\ttr's binary_logloss: 0.266707\tvl's binary_logloss: 0.274169\n",
      "[600]\ttr's binary_logloss: 0.265287\tvl's binary_logloss: 0.273959\n",
      "[700]\ttr's binary_logloss: 0.264179\tvl's binary_logloss: 0.273842\n",
      "[800]\ttr's binary_logloss: 0.263221\tvl's binary_logloss: 0.273778\n",
      "[900]\ttr's binary_logloss: 0.262157\tvl's binary_logloss: 0.273672\n",
      "[1000]\ttr's binary_logloss: 0.261154\tvl's binary_logloss: 0.273643\n",
      "[1100]\ttr's binary_logloss: 0.260284\tvl's binary_logloss: 0.273556\n",
      "[1200]\ttr's binary_logloss: 0.259289\tvl's binary_logloss: 0.27349\n",
      "[1300]\ttr's binary_logloss: 0.258379\tvl's binary_logloss: 0.273445\n",
      "[1400]\ttr's binary_logloss: 0.257374\tvl's binary_logloss: 0.273413\n",
      "[1500]\ttr's binary_logloss: 0.256505\tvl's binary_logloss: 0.273392\n",
      "[1600]\ttr's binary_logloss: 0.255582\tvl's binary_logloss: 0.273374\n",
      "[1700]\ttr's binary_logloss: 0.254652\tvl's binary_logloss: 0.273346\n",
      "[1800]\ttr's binary_logloss: 0.253819\tvl's binary_logloss: 0.273336\n",
      "Early stopping, best iteration is:\n",
      "[1748]\ttr's binary_logloss: 0.254193\tvl's binary_logloss: 0.27333\n"
     ]
    },
    {
     "name": "stderr",
     "output_type": "stream",
     "text": [
      "tune_lambda_l1_and_lambda_l2, val_score: 0.273287:  40%|####      | 8/20 [8:03:20<12:22:45, 3713.78s/it]"
     ]
    },
    {
     "name": "stdout",
     "output_type": "stream",
     "text": [
      "Training until validation scores don't improve for 100 rounds\n",
      "[100]\ttr's binary_logloss: 0.273832\tvl's binary_logloss: 0.276213\n",
      "[200]\ttr's binary_logloss: 0.271034\tvl's binary_logloss: 0.27515\n",
      "[300]\ttr's binary_logloss: 0.26906\tvl's binary_logloss: 0.274745\n"
     ]
    }
   ],
   "source": [
    "%%time\n",
    "dtr = lgb.Dataset(dftr[cols_feat], label=dftr[TCOL])\n",
    "dvl = lgb.Dataset(dfvl[cols_feat], label=dfvl[TCOL])\n",
    "best_params, tuning_history = {}, []\n",
    "evalres = {}\n",
    "evallist = [(dtr, 'train'), (dvl, 'eval')]\n",
    "bst = lgb.train(params=params, \n",
    "                train_set=dtr, \n",
    "                num_boost_round=50000,\n",
    "                valid_sets=[dtr, dvl],\n",
    "                valid_names=['tr','vl'],\n",
    "                best_params=best_params,\n",
    "                tuning_history=tuning_history,\n",
    "                verbose_eval=100,\n",
    "                early_stopping_rounds=100,\n",
    "                evals_result=evalres,\n",
    "               )\n",
    "results['bst'] = bst\n",
    "results['evalres'] = evalres\n",
    "results['best_params']=best_params\n",
    "results['tuning_history']=tuning_history"
   ]
  },
  {
   "cell_type": "markdown",
   "metadata": {},
   "source": [
    "## best_params"
   ]
  },
  {
   "cell_type": "code",
   "execution_count": 39,
   "metadata": {},
   "outputs": [
    {
     "data": {
      "text/plain": [
       "{'lambda_l1': 7.908398474455116,\n",
       " 'lambda_l2': 0.0082237391930867,\n",
       " 'num_leaves': 170,\n",
       " 'feature_fraction': 0.41600000000000004,\n",
       " 'bagging_fraction': 1.0,\n",
       " 'bagging_freq': 0,\n",
       " 'min_child_samples': 20}"
      ]
     },
     "execution_count": 39,
     "metadata": {},
     "output_type": "execute_result"
    }
   ],
   "source": [
    "best_params"
   ]
  },
  {
   "cell_type": "markdown",
   "metadata": {},
   "source": [
    "## tr vl trajec"
   ]
  },
  {
   "cell_type": "code",
   "execution_count": 40,
   "metadata": {},
   "outputs": [
    {
     "data": {
      "image/png": "[encoded data removed]",
      "text/plain": [
       "<Figure size 432x288 with 1 Axes>"
      ]
     },
     "metadata": {
      "needs_background": "light"
     },
     "output_type": "display_data"
    }
   ],
   "source": [
    "plt.plot(evalres['tr']['binary_logloss'])\n",
    "plt.plot(evalres['vl']['binary_logloss'])\n",
    "plt.title(f\"logloss; best_iteration {bst.best_iteration}\")\n",
    "plt.show()"
   ]
  },
  {
   "cell_type": "markdown",
   "metadata": {},
   "source": [
    "## model features"
   ]
  },
  {
   "cell_type": "code",
   "execution_count": 41,
   "metadata": {},
   "outputs": [
    {
     "data": {
      "image/png": "[encoded data removed]",
      "text/plain": [
       "<Figure size 720x1080 with 1 Axes>"
      ]
     },
     "metadata": {
      "needs_background": "light"
     },
     "output_type": "display_data"
    }
   ],
   "source": [
    "ax = lgb.plot_importance(bst, height=0.8, max_num_features=50, figsize=(10,15))\n",
    "ax.grid(False, axis=\"y\")\n",
    "ax.set_title(f'Estimated feature importance')\n",
    "plt.show()"
   ]
  },
  {
   "cell_type": "code",
   "execution_count": 42,
   "metadata": {},
   "outputs": [
    {
     "data": {
      "text/html": [
       "<div>\n",
       "<style scoped>\n",
       "    .dataframe tbody tr th:only-of-type {\n",
       "        vertical-align: middle;\n",
       "    }\n",
       "\n",
       "    .dataframe tbody tr th {\n",
       "        vertical-align: top;\n",
       "    }\n",
       "\n",
       "    .dataframe thead th {\n",
       "        text-align: right;\n",
       "    }\n",
       "</style>\n",
       "<table border=\"1\" class=\"dataframe\">\n",
       "  <thead>\n",
       "    <tr style=\"text-align: right;\">\n",
       "      <th></th>\n",
       "      <th>0</th>\n",
       "      <th>1</th>\n",
       "    </tr>\n",
       "  </thead>\n",
       "  <tbody>\n",
       "    <tr>\n",
       "      <th>31</th>\n",
       "      <td>langhour</td>\n",
       "      <td>23217</td>\n",
       "    </tr>\n",
       "    <tr>\n",
       "      <th>3</th>\n",
       "      <td>u1_fllwing_cnt</td>\n",
       "      <td>21745</td>\n",
       "    </tr>\n",
       "    <tr>\n",
       "      <th>29</th>\n",
       "      <td>u1_fllwer_cnt_by_age</td>\n",
       "      <td>20023</td>\n",
       "    </tr>\n",
       "    <tr>\n",
       "      <th>5</th>\n",
       "      <td>u2_fllwer_cnt</td>\n",
       "      <td>19437</td>\n",
       "    </tr>\n",
       "    <tr>\n",
       "      <th>11</th>\n",
       "      <td>len_toks</td>\n",
       "      <td>19250</td>\n",
       "    </tr>\n",
       "    <tr>\n",
       "      <th>2</th>\n",
       "      <td>u1_fllwer_cnt</td>\n",
       "      <td>18890</td>\n",
       "    </tr>\n",
       "    <tr>\n",
       "      <th>26</th>\n",
       "      <td>twt_age</td>\n",
       "      <td>18493</td>\n",
       "    </tr>\n",
       "    <tr>\n",
       "      <th>24</th>\n",
       "      <td>tmdlta_twtu1</td>\n",
       "      <td>18219</td>\n",
       "    </tr>\n",
       "    <tr>\n",
       "      <th>6</th>\n",
       "      <td>u2_fllwng_cnt</td>\n",
       "      <td>17854</td>\n",
       "    </tr>\n",
       "    <tr>\n",
       "      <th>30</th>\n",
       "      <td>u1_fllwng_cnt_by_age</td>\n",
       "      <td>17268</td>\n",
       "    </tr>\n",
       "    <tr>\n",
       "      <th>23</th>\n",
       "      <td>tmdlta_u2u1</td>\n",
       "      <td>17144</td>\n",
       "    </tr>\n",
       "    <tr>\n",
       "      <th>27</th>\n",
       "      <td>u1_age</td>\n",
       "      <td>16311</td>\n",
       "    </tr>\n",
       "    <tr>\n",
       "      <th>25</th>\n",
       "      <td>tmdlta_twtu2</td>\n",
       "      <td>15526</td>\n",
       "    </tr>\n",
       "    <tr>\n",
       "      <th>28</th>\n",
       "      <td>u2_age</td>\n",
       "      <td>15301</td>\n",
       "    </tr>\n",
       "    <tr>\n",
       "      <th>1</th>\n",
       "      <td>lang</td>\n",
       "      <td>10650</td>\n",
       "    </tr>\n",
       "    <tr>\n",
       "      <th>22</th>\n",
       "      <td>hour</td>\n",
       "      <td>6967</td>\n",
       "    </tr>\n",
       "    <tr>\n",
       "      <th>21</th>\n",
       "      <td>dayofweek</td>\n",
       "      <td>4187</td>\n",
       "    </tr>\n",
       "    <tr>\n",
       "      <th>0</th>\n",
       "      <td>twttyp</td>\n",
       "      <td>4095</td>\n",
       "    </tr>\n",
       "    <tr>\n",
       "      <th>16</th>\n",
       "      <td>n_hshtgs</td>\n",
       "      <td>3331</td>\n",
       "    </tr>\n",
       "    <tr>\n",
       "      <th>12</th>\n",
       "      <td>n_media_Photo</td>\n",
       "      <td>2707</td>\n",
       "    </tr>\n",
       "    <tr>\n",
       "      <th>18</th>\n",
       "      <td>n_media</td>\n",
       "      <td>2179</td>\n",
       "    </tr>\n",
       "    <tr>\n",
       "      <th>20</th>\n",
       "      <td>n_domns</td>\n",
       "      <td>1084</td>\n",
       "    </tr>\n",
       "    <tr>\n",
       "      <th>9</th>\n",
       "      <td>u1inu2</td>\n",
       "      <td>855</td>\n",
       "    </tr>\n",
       "    <tr>\n",
       "      <th>13</th>\n",
       "      <td>n_media_Video</td>\n",
       "      <td>671</td>\n",
       "    </tr>\n",
       "    <tr>\n",
       "      <th>19</th>\n",
       "      <td>has_domns</td>\n",
       "      <td>632</td>\n",
       "    </tr>\n",
       "    <tr>\n",
       "      <th>15</th>\n",
       "      <td>has_hshtgs</td>\n",
       "      <td>625</td>\n",
       "    </tr>\n",
       "    <tr>\n",
       "      <th>10</th>\n",
       "      <td>u2inu1</td>\n",
       "      <td>571</td>\n",
       "    </tr>\n",
       "    <tr>\n",
       "      <th>17</th>\n",
       "      <td>has_media</td>\n",
       "      <td>562</td>\n",
       "    </tr>\n",
       "    <tr>\n",
       "      <th>8</th>\n",
       "      <td>u1_fllw_u2</td>\n",
       "      <td>538</td>\n",
       "    </tr>\n",
       "    <tr>\n",
       "      <th>4</th>\n",
       "      <td>u1_vrfed</td>\n",
       "      <td>502</td>\n",
       "    </tr>\n",
       "    <tr>\n",
       "      <th>14</th>\n",
       "      <td>n_media_GIF</td>\n",
       "      <td>79</td>\n",
       "    </tr>\n",
       "    <tr>\n",
       "      <th>7</th>\n",
       "      <td>u2_vrfed</td>\n",
       "      <td>48</td>\n",
       "    </tr>\n",
       "  </tbody>\n",
       "</table>\n",
       "</div>"
      ],
      "text/plain": [
       "                       0      1\n",
       "31              langhour  23217\n",
       "3         u1_fllwing_cnt  21745\n",
       "29  u1_fllwer_cnt_by_age  20023\n",
       "5          u2_fllwer_cnt  19437\n",
       "11              len_toks  19250\n",
       "2          u1_fllwer_cnt  18890\n",
       "26               twt_age  18493\n",
       "24          tmdlta_twtu1  18219\n",
       "6          u2_fllwng_cnt  17854\n",
       "30  u1_fllwng_cnt_by_age  17268\n",
       "23           tmdlta_u2u1  17144\n",
       "27                u1_age  16311\n",
       "25          tmdlta_twtu2  15526\n",
       "28                u2_age  15301\n",
       "1                   lang  10650\n",
       "22                  hour   6967\n",
       "21             dayofweek   4187\n",
       "0                 twttyp   4095\n",
       "16              n_hshtgs   3331\n",
       "12         n_media_Photo   2707\n",
       "18               n_media   2179\n",
       "20               n_domns   1084\n",
       "9                 u1inu2    855\n",
       "13         n_media_Video    671\n",
       "19             has_domns    632\n",
       "15            has_hshtgs    625\n",
       "10                u2inu1    571\n",
       "17             has_media    562\n",
       "8             u1_fllw_u2    538\n",
       "4               u1_vrfed    502\n",
       "14           n_media_GIF     79\n",
       "7               u2_vrfed     48"
      ]
     },
     "execution_count": 42,
     "metadata": {},
     "output_type": "execute_result"
    }
   ],
   "source": [
    "pd.DataFrame([bst.feature_name(), bst.feature_importance()]).T.sort_values(1, ascending=False)"
   ]
  },
  {
   "cell_type": "code",
   "execution_count": 43,
   "metadata": {},
   "outputs": [
    {
     "data": {
      "text/plain": [
       "[('langhour', 23217),\n",
       " ('u1_fllwing_cnt', 21745),\n",
       " ('u1_fllwer_cnt_by_age', 20023),\n",
       " ('u2_fllwer_cnt', 19437),\n",
       " ('len_toks', 19250),\n",
       " ('u1_fllwer_cnt', 18890),\n",
       " ('twt_age', 18493),\n",
       " ('tmdlta_twtu1', 18219),\n",
       " ('u2_fllwng_cnt', 17854),\n",
       " ('u1_fllwng_cnt_by_age', 17268),\n",
       " ('tmdlta_u2u1', 17144),\n",
       " ('u1_age', 16311),\n",
       " ('tmdlta_twtu2', 15526),\n",
       " ('u2_age', 15301),\n",
       " ('lang', 10650),\n",
       " ('hour', 6967),\n",
       " ('dayofweek', 4187),\n",
       " ('twttyp', 4095),\n",
       " ('n_hshtgs', 3331),\n",
       " ('n_media_Photo', 2707),\n",
       " ('n_media', 2179),\n",
       " ('n_domns', 1084),\n",
       " ('u1inu2', 855),\n",
       " ('n_media_Video', 671),\n",
       " ('has_domns', 632),\n",
       " ('has_hshtgs', 625),\n",
       " ('u2inu1', 571),\n",
       " ('has_media', 562),\n",
       " ('u1_fllw_u2', 538),\n",
       " ('u1_vrfed', 502),\n",
       " ('n_media_GIF', 79),\n",
       " ('u2_vrfed', 48)]"
      ]
     },
     "execution_count": 43,
     "metadata": {},
     "output_type": "execute_result"
    }
   ],
   "source": [
    "col2imp = dict(zip(bst.feature_name(), bst.feature_importance()))\n",
    "sorted(col2imp.items(), key=lambda x: -x[1])"
   ]
  },
  {
   "cell_type": "code",
   "execution_count": 44,
   "metadata": {},
   "outputs": [
    {
     "data": {
      "text/plain": [
       "['langhour',\n",
       " 'u1_fllwing_cnt',\n",
       " 'u1_fllwer_cnt_by_age',\n",
       " 'u2_fllwer_cnt',\n",
       " 'len_toks',\n",
       " 'u1_fllwer_cnt',\n",
       " 'twt_age',\n",
       " 'tmdlta_twtu1',\n",
       " 'u2_fllwng_cnt',\n",
       " 'u1_fllwng_cnt_by_age',\n",
       " 'tmdlta_u2u1',\n",
       " 'u1_age',\n",
       " 'tmdlta_twtu2',\n",
       " 'u2_age',\n",
       " 'lang',\n",
       " 'hour',\n",
       " 'dayofweek',\n",
       " 'twttyp',\n",
       " 'n_hshtgs',\n",
       " 'n_media_Photo',\n",
       " 'n_media',\n",
       " 'n_domns',\n",
       " 'u1inu2',\n",
       " 'n_media_Video',\n",
       " 'has_domns',\n",
       " 'has_hshtgs',\n",
       " 'u2inu1',\n",
       " 'has_media',\n",
       " 'u1_fllw_u2',\n",
       " 'u1_vrfed',\n",
       " 'n_media_GIF',\n",
       " 'u2_vrfed']"
      ]
     },
     "execution_count": 44,
     "metadata": {},
     "output_type": "execute_result"
    }
   ],
   "source": [
    "[o[0] for o in sorted(col2imp.items(), key=lambda x: -x[1]) if o[1]>0]"
   ]
  },
  {
   "cell_type": "code",
   "execution_count": null,
   "metadata": {},
   "outputs": [],
   "source": []
  },
  {
   "cell_type": "markdown",
   "metadata": {},
   "source": [
    "# eval"
   ]
  },
  {
   "cell_type": "code",
   "execution_count": null,
   "metadata": {},
   "outputs": [],
   "source": [
    "%%time\n",
    "prdtr = bst.predict(dftr[cols_feat],num_iteration=bst.best_iteration)\n",
    "prdvl = bst.predict(dfvl[cols_feat],num_iteration=bst.best_iteration)\n",
    "prdval0 = bst.predict(dfval[cols_feat],num_iteration=bst.best_iteration)\n",
    "prdval = calibration(prdval0, train_pop, target_pop, sampled_train_pop, sampled_target_pop)"
   ]
  },
  {
   "cell_type": "code",
   "execution_count": null,
   "metadata": {},
   "outputs": [],
   "source": [
    "%%time\n",
    "ytr,yvl,yval=[df[TCOL].values for df in (dftr,dfvl,dfval)]\n",
    "\n",
    "auc_tr=compute_prauc(prdtr, ytr)\n",
    "rce_tr=compute_rce(prdtr, ytr)\n",
    "auc_vl=compute_prauc(prdvl, yvl)\n",
    "rce_vl=compute_rce(prdvl, yvl)\n",
    "auc_val=compute_prauc(prdval, yval)\n",
    "rce_val=compute_rce(prdval, yval)\n",
    "\n",
    "results['scrs'] = {}\n",
    "results['scrs']['auc_tr']=auc_tr\n",
    "results['scrs']['rce_tr']=rce_tr\n",
    "results['scrs']['auc_vl']=auc_vl\n",
    "results['scrs']['rce_vl']=rce_vl\n",
    "results['scrs']['auc_val']=auc_val\n",
    "results['scrs']['rce_val']=rce_val"
   ]
  },
  {
   "cell_type": "code",
   "execution_count": 38,
   "metadata": {},
   "outputs": [
    {
     "name": "stdout",
     "output_type": "stream",
     "text": [
      "auc_tr:  0.4149\n",
      "auc_vl:  0.3247\n",
      "auc_val: 0.1178\n",
      "\n",
      "rce_tr:  22.4319\n",
      "rce_vl:  16.8343\n",
      "rce_val: 13.0807\n"
     ]
    }
   ],
   "source": [
    "print(f'auc_tr:  {auc_tr:.4f}')\n",
    "print(f'auc_vl:  {auc_vl:.4f}')\n",
    "print(f'auc_val: {auc_val:.4f}')\n",
    "print()\n",
    "print(f'rce_tr:  {rce_tr:.4f}')\n",
    "print(f'rce_vl:  {rce_vl:.4f}')\n",
    "print(f'rce_val: {rce_val:.4f}')"
   ]
  },
  {
   "cell_type": "markdown",
   "metadata": {},
   "source": [
    "## score"
   ]
  },
  {
   "cell_type": "code",
   "execution_count": 37,
   "metadata": {},
   "outputs": [
    {
     "name": "stdout",
     "output_type": "stream",
     "text": [
      "-0.1178-13.0807\n"
     ]
    }
   ],
   "source": [
    "print(f'-{auc_val:.4f}-{rce_val:.4f}')"
   ]
  },
  {
   "cell_type": "markdown",
   "metadata": {},
   "source": [
    "# save results"
   ]
  },
  {
   "cell_type": "code",
   "execution_count": null,
   "metadata": {},
   "outputs": [],
   "source": [
    "pickle.dump(results, open(f'{p_out}/results_{PRFX}.p', 'wb'))"
   ]
  },
  {
   "cell_type": "markdown",
   "metadata": {},
   "source": [
    "# infer"
   ]
  },
  {
   "cell_type": "code",
   "execution_count": null,
   "metadata": {},
   "outputs": [],
   "source": [
    "results = pickle.load( open(f'{p_out}/results_{PRFX}.p', 'rb'))\n",
    "bst = results['bst']\n",
    "cols_feat = results['cols_feat']"
   ]
  },
  {
   "cell_type": "markdown",
   "metadata": {},
   "source": [
    "## prep"
   ]
  },
  {
   "cell_type": "code",
   "execution_count": null,
   "metadata": {},
   "outputs": [],
   "source": [
    "%%time\n",
    "dftst=pd.read_csv(\n",
    "    f'{p_in}/val_{tsttmstmp}.tsv',\n",
    "    sep='\\x01', header=None, names=cols_val, \n",
    "#     nrows=10\n",
    ")"
   ]
  },
  {
   "cell_type": "code",
   "execution_count": null,
   "metadata": {},
   "outputs": [],
   "source": [
    "dftst.shape"
   ]
  },
  {
   "cell_type": "code",
   "execution_count": null,
   "metadata": {
    "scrolled": false
   },
   "outputs": [],
   "source": [
    "%%time\n",
    "dftst=prp_df(dftst, tm_max=tm_tst_max)"
   ]
  },
  {
   "cell_type": "code",
   "execution_count": null,
   "metadata": {},
   "outputs": [],
   "source": [
    "dftst.drop(columns=['u1id','u1u2'], inplace=True)\n",
    "cols_category=['twttyp', 'lang', 'langhour']\n",
    "dftst[cols_category]=dftst[cols_category].astype('category')"
   ]
  },
  {
   "cell_type": "markdown",
   "metadata": {},
   "source": [
    "## predict"
   ]
  },
  {
   "cell_type": "code",
   "execution_count": null,
   "metadata": {},
   "outputs": [],
   "source": [
    "%%time\n",
    "prdtst0 = bst.predict(dftst[cols_feat],num_iteration=bst.best_iteration)\n",
    "prdtst = calibration(prdtst0, train_pop, target_pop, sampled_train_pop, sampled_target_pop)"
   ]
  },
  {
   "cell_type": "code",
   "execution_count": null,
   "metadata": {},
   "outputs": [],
   "source": [
    "dfsub_ids = dftst[['twtid','u2id',]]\n",
    "dfsub = dfsub_ids.copy()\n",
    "dfsub['scr'] = prdtst\n",
    "dfsub.to_csv(f'{p_out}/{TGT}__{PRFX}.csv',index=False,header=False)"
   ]
  },
  {
   "cell_type": "code",
   "execution_count": null,
   "metadata": {},
   "outputs": [],
   "source": []
  },
  {
   "cell_type": "code",
   "execution_count": null,
   "metadata": {},
   "outputs": [],
   "source": []
  },
  {
   "cell_type": "code",
   "execution_count": null,
   "metadata": {},
   "outputs": [],
   "source": []
  },
  {
   "cell_type": "code",
   "execution_count": null,
   "metadata": {},
   "outputs": [],
   "source": []
  }
 ],
 "metadata": {
  "kernelspec": {
   "display_name": "rcss20",
   "language": "python",
   "name": "rcss20"
  },
  "language_info": {
   "codemirror_mode": {
    "name": "ipython",
    "version": 3
   },
   "file_extension": ".py",
   "mimetype": "text/x-python",
   "name": "python",
   "nbconvert_exporter": "python",
   "pygments_lexer": "ipython3",
   "version": "3.7.6"
  },
  "toc": {
   "base_numbering": 1,
   "nav_menu": {},
   "number_sections": true,
   "sideBar": true,
   "skip_h1_title": false,
   "title_cell": "Table of Contents",
   "title_sidebar": "Contents",
   "toc_cell": false,
   "toc_position": {},
   "toc_section_display": true,
   "toc_window_display": true
  }
 },
 "nbformat": 4,
 "nbformat_minor": 4
}
