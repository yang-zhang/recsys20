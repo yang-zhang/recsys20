{
 "cells": [
  {
   "cell_type": "markdown",
   "metadata": {},
   "source": [
    "# start"
   ]
  },
  {
   "cell_type": "code",
   "execution_count": 1,
   "metadata": {},
   "outputs": [
    {
     "name": "stdout",
     "output_type": "stream",
     "text": [
      "train_total 148,075,238, test_total 14,000,000\n",
      "train_total 70,000,000, valsz 1,000,000\n",
      "['2020-03-17 02:32:24', '2020-05-21 15:43:26']\n",
      "['2020-02-06 00:00:00', '2020-02-12 23:59:59']\n",
      "['2020-02-13 00:00:00', '2020-02-19 23:59:59']\n"
     ]
    }
   ],
   "source": [
    "TGT='Like'\n",
    "PRFX='Like0527A1'\n",
    "\n",
    "trntmstmp=1584412344\n",
    "tsttmstmp=1590075806\n",
    "\n",
    "tm_trn_min,tm_trn_max=(1580947200, 1581551999)\n",
    "tm_tst_min,tm_tst_max=(1581552000, 1582156799)\n",
    "\n",
    "train_total=148075238\n",
    "test_total=int(1.4e7)\n",
    "print(f'train_total {train_total:,}, test_total {test_total:,}')\n",
    "\n",
    "SEED=101\n",
    "\n",
    "trnsz = int(7e7)\n",
    "valsz = int(1e6)\n",
    "print(f'train_total {trnsz:,}, valsz {valsz:,}')\n",
    "\n",
    "\n",
    "\n",
    "import datetime\n",
    "def showtm(tm): return datetime.datetime.fromtimestamp(tm).strftime('%Y-%m-%d %H:%M:%S')\n",
    "print([showtm(tm) for tm in (trntmstmp, tsttmstmp)])\n",
    "print([showtm(tm) for tm in (tm_trn_min,tm_trn_max)])\n",
    "print([showtm(tm) for tm in (tm_tst_min,tm_tst_max)])"
   ]
  },
  {
   "cell_type": "markdown",
   "metadata": {},
   "source": [
    "# setup"
   ]
  },
  {
   "cell_type": "code",
   "execution_count": 2,
   "metadata": {},
   "outputs": [
    {
     "name": "stdout",
     "output_type": "stream",
     "text": [
      "TCOL like\n",
      "{'Retweet': 'retwt', 'Reply': 'reply', 'Like': 'like', 'RTwCmnt': 'retwt_cmmnt'}\n"
     ]
    }
   ],
   "source": [
    "from tqdm import tqdm\n",
    "import time\n",
    "from pathlib import Path\n",
    "from collections import Counter,defaultdict\n",
    "from sklearn.model_selection import train_test_split\n",
    "import pandas as pd\n",
    "import numpy as np\n",
    "import matplotlib.pyplot as plt\n",
    "from sklearn.metrics import accuracy_score, roc_auc_score, roc_curve, auc, precision_recall_curve\n",
    "import pickle\n",
    "# import xgboost as xgb\n",
    "import lightgbm as lgb\n",
    "import category_encoders as ce\n",
    "import gc\n",
    "\n",
    "# import optuna\n",
    "# optuna.logging.CRITICAL, optuna.logging.FATAL\n",
    "# optuna.logging.ERROR\n",
    "# optuna.logging.WARNING, optuna.logging.WARN\n",
    "# optuna.logging.INFO\n",
    "# optuna.logging.DEBUG\n",
    "# optuna.logging.set_verbosity(optuna.logging.ERROR)\n",
    "# import optuna.integration.lightgbm as lgb\n",
    "# optuna.logging.disable_default_handler()\n",
    "\n",
    "\n",
    "pd.set_option('display.max_rows', 500)\n",
    "pd.set_option('display.max_columns', 500)\n",
    "\n",
    "\n",
    "import datetime\n",
    "def dtnow(): return datetime.datetime.now().strftime('%Y-%m-%d %H:%M:%S')\n",
    "\n",
    "def iou(s1,s2):\n",
    "    return len(s1&s2) / len(s1|s2)\n",
    "\n",
    "HOME='/data/git/recsys20'\n",
    "p_in=f'{HOME}/input'\n",
    "p_out=f'{HOME}/output/{PRFX}'\n",
    "Path(p_out).mkdir(exist_ok=True, parents=True)\n",
    "\n",
    "from sklearn.metrics import precision_recall_curve, auc, log_loss\n",
    "\n",
    "def compute_prauc(pred, gt):\n",
    "    prec, recall, thresh = precision_recall_curve(gt, pred)\n",
    "    prauc = auc(recall, prec)\n",
    "    return prauc\n",
    "\n",
    "def calculate_ctr(gt):\n",
    "    positive = len([x for x in gt if x == 1])\n",
    "    ctr = positive/float(len(gt))\n",
    "    return ctr\n",
    "\n",
    "def compute_rce(pred, gt):\n",
    "    cross_entropy = log_loss(gt, pred)\n",
    "    data_ctr = calculate_ctr(gt)\n",
    "    strawman_cross_entropy = log_loss(gt, [data_ctr for _ in range(len(gt))])\n",
    "    return (1.0 - cross_entropy/strawman_cross_entropy)*100.0\n",
    "\n",
    "# https://towardsdatascience.com/how-to-calibrate-undersampled-model-scores-8f3319c1ea5b\n",
    "# How to use the function?\n",
    "# Let’s say your goal is to generate a model that shows the credit default probabilities and your original \n",
    "# training data has 50,000 rows with only 500 of them labeled as target class. When you sample your non-target \n",
    "# instances randomly and reduce the total row count to 10,000, while conserving 500 target rows, our calibration\n",
    "# function becomes:\n",
    "# calibration(model_results, 50000, 500, 10000, 500)\n",
    "# Here model_results is your model probability output array. After you train your model and put the results in it, your function is ready to use. \n",
    "def calibration(data, train_pop, target_pop, sampled_train_pop, sampled_target_pop):\n",
    "    calibrated_data = ((data * (target_pop / train_pop) / (sampled_target_pop / sampled_train_pop)) /\n",
    "    (((1 - data) * (1 - target_pop / train_pop) / (1 - sampled_target_pop / sampled_train_pop)) +\n",
    "     (data * (target_pop / train_pop) / (sampled_target_pop / sampled_train_pop))))\n",
    "    return calibrated_data\n",
    "\n",
    "\n",
    "cols=['toks','hshtgs','twtid','media','links','domns','twttyp','lang','tm','u1id','u1_fllwer_cnt','u1_fllwing_cnt','u1_vrfed','u1_create_tm','u2id','u2_fllwer_cnt','u2_fllwng_cnt','u2_vrfed','u2_create_tm','u1_fllw_u2','reply_tm','retwt_tm','retwt_cmmnt_tm','like_tm',]\n",
    "\n",
    "cols_val = cols[:-4]\n",
    "cols_tgt_tmstmp=[ 'retwt_tm', 'reply_tm', 'like_tm', 'retwt_cmmnt_tm',]\n",
    "cols_tgt=[o.split('_tm')[0] for o in cols_tgt_tmstmp]\n",
    "tgts             = ['Retweet','Reply','Like','RTwCmnt',]\n",
    "assert cols_tgt == ['retwt',  'reply','like','retwt_cmmnt',]\n",
    "tgt2col = dict(zip(tgts, cols_tgt))\n",
    "TCOL=tgt2col[TGT]\n",
    "print('TCOL', TCOL)\n",
    "print(tgt2col)"
   ]
  },
  {
   "cell_type": "markdown",
   "metadata": {},
   "source": [
    "# prep"
   ]
  },
  {
   "cell_type": "code",
   "execution_count": 3,
   "metadata": {},
   "outputs": [],
   "source": [
    "def prp_tgt(df):\n",
    "    df[cols_tgt]=df[cols_tgt_tmstmp].notna()\n",
    "    df.drop(columns=cols_tgt_tmstmp, inplace=True)\n",
    "    display(df[cols_tgt].mean())"
   ]
  },
  {
   "cell_type": "code",
   "execution_count": 4,
   "metadata": {
    "scrolled": false
   },
   "outputs": [
    {
     "name": "stdout",
     "output_type": "stream",
     "text": [
      "(1000000, 24)\n"
     ]
    },
    {
     "data": {
      "text/plain": [
       "retwt          0.113135\n",
       "reply          0.027688\n",
       "like           0.438804\n",
       "retwt_cmmnt    0.007750\n",
       "dtype: float64"
      ]
     },
     "metadata": {},
     "output_type": "display_data"
    },
    {
     "name": "stdout",
     "output_type": "stream",
     "text": [
      "CPU times: user 6.83 s, sys: 1.17 s, total: 8 s\n",
      "Wall time: 8 s\n"
     ]
    }
   ],
   "source": [
    "%%time\n",
    "dfval = pd.read_csv(f'{p_in}/trn_{trntmstmp}.tsv',sep='\\x01',header=None,names=cols,nrows=valsz)\n",
    "print(dfval.shape)\n",
    "prp_tgt(dfval)"
   ]
  },
  {
   "cell_type": "markdown",
   "metadata": {},
   "source": [
    "## maybe oversample"
   ]
  },
  {
   "cell_type": "code",
   "execution_count": 5,
   "metadata": {},
   "outputs": [],
   "source": [
    "# df = pd.read_csv(f'{p_in}/trn_{trntmstmp}.tsv',sep='\\x01',header=None,names=cols,nrows=5)\n",
    "# dfval = pd.read_csv(f'{p_in}/trn_{trntmstmp}.tsv',sep='\\x01',header=None,names=cols,nrows=2)\n",
    "# dftrn = pd.read_csv(f'{p_in}/trn_{trntmstmp}.tsv',sep='\\x01',header=None,names=cols,skiprows=2,nrows=3)\n",
    "# display(df.twtid)\n",
    "# display(dfval.twtid)\n",
    "# display(dftrn.twtid)\n",
    "\n",
    "# 0    D4D1EBDE74F74C5DA529959AF979625C\n",
    "# 1    BFB529DAB6D384EB83E899A72AB3830D\n",
    "# 2    519078C7834E9642508F72A6C2D0F3B7\n",
    "# 3    52AAE9E33EFAC8C478C57B31A9E31ED1\n",
    "# 4    89C1298C55EB3D68E2784F0BFB69E6F8\n",
    "# Name: twtid, dtype: object\n",
    "# 0    D4D1EBDE74F74C5DA529959AF979625C\n",
    "# 1    BFB529DAB6D384EB83E899A72AB3830D\n",
    "# Name: twtid, dtype: object\n",
    "# 0    519078C7834E9642508F72A6C2D0F3B7\n",
    "# 1    52AAE9E33EFAC8C478C57B31A9E31ED1\n",
    "# 2    89C1298C55EB3D68E2784F0BFB69E6F8\n",
    "# Name: twtid, dtype: object"
   ]
  },
  {
   "cell_type": "code",
   "execution_count": 6,
   "metadata": {
    "scrolled": true
   },
   "outputs": [
    {
     "name": "stdout",
     "output_type": "stream",
     "text": [
      "(70000000, 24)\n"
     ]
    },
    {
     "data": {
      "text/plain": [
       "retwt          0.113108\n",
       "reply          0.027451\n",
       "like           0.439204\n",
       "retwt_cmmnt    0.007794\n",
       "dtype: float64"
      ]
     },
     "metadata": {},
     "output_type": "display_data"
    },
    {
     "name": "stdout",
     "output_type": "stream",
     "text": [
      "CPU times: user 8min 13s, sys: 1min 26s, total: 9min 39s\n",
      "Wall time: 12min 56s\n"
     ]
    }
   ],
   "source": [
    "%%time\n",
    "if TGT in ('Retweet','Like'): trnpop=trnsz\n",
    "if TGT=='Reply': trnpop=trnsz*3.7\n",
    "if TGT=='RTwCmnt': trnpop=trnsz*11.5\n",
    "assert trnpop<train_total\n",
    "\n",
    "dftrn = pd.read_csv(f'{p_in}/trn_{trntmstmp}.tsv',sep='\\x01',header=None,names=cols,\n",
    "                     skiprows=valsz, nrows=trnpop)\n",
    "print(dftrn.shape)\n",
    "prp_tgt(dftrn)"
   ]
  },
  {
   "cell_type": "code",
   "execution_count": 7,
   "metadata": {
    "scrolled": true
   },
   "outputs": [
    {
     "name": "stdout",
     "output_type": "stream",
     "text": [
      "(70000000, 24) 0.4392038285714286\n",
      "70000000 30744268 70000000 30744268\n"
     ]
    },
    {
     "data": {
      "text/html": [
       "<div>\n",
       "<style scoped>\n",
       "    .dataframe tbody tr th:only-of-type {\n",
       "        vertical-align: middle;\n",
       "    }\n",
       "\n",
       "    .dataframe tbody tr th {\n",
       "        vertical-align: top;\n",
       "    }\n",
       "\n",
       "    .dataframe thead th {\n",
       "        text-align: right;\n",
       "    }\n",
       "</style>\n",
       "<table border=\"1\" class=\"dataframe\">\n",
       "  <thead>\n",
       "    <tr style=\"text-align: right;\">\n",
       "      <th></th>\n",
       "      <th>toks</th>\n",
       "      <th>hshtgs</th>\n",
       "      <th>twtid</th>\n",
       "      <th>media</th>\n",
       "      <th>links</th>\n",
       "      <th>domns</th>\n",
       "      <th>twttyp</th>\n",
       "      <th>lang</th>\n",
       "      <th>tm</th>\n",
       "      <th>u1id</th>\n",
       "      <th>u1_fllwer_cnt</th>\n",
       "      <th>u1_fllwing_cnt</th>\n",
       "      <th>u1_vrfed</th>\n",
       "      <th>u1_create_tm</th>\n",
       "      <th>u2id</th>\n",
       "      <th>u2_fllwer_cnt</th>\n",
       "      <th>u2_fllwng_cnt</th>\n",
       "      <th>u2_vrfed</th>\n",
       "      <th>u2_create_tm</th>\n",
       "      <th>u1_fllw_u2</th>\n",
       "      <th>retwt</th>\n",
       "      <th>reply</th>\n",
       "      <th>like</th>\n",
       "      <th>retwt_cmmnt</th>\n",
       "    </tr>\n",
       "  </thead>\n",
       "  <tbody>\n",
       "    <tr>\n",
       "      <th>0</th>\n",
       "      <td>101\\t9706\\t36553\\t108578\\t119\\t119\\t119\\t108\\t...</td>\n",
       "      <td>11218D05D5E94DE4E577C3AF9338E65D\\t3A6FF9E6FA11...</td>\n",
       "      <td>E0B1129F0B31CAE6655127073C08979C</td>\n",
       "      <td>Photo</td>\n",
       "      <td>NaN</td>\n",
       "      <td>NaN</td>\n",
       "      <td>TopLevel</td>\n",
       "      <td>125C57F4FA6D4E110983FB11B52EFD4E</td>\n",
       "      <td>1581348967</td>\n",
       "      <td>30D18739CC163E7629104D16BE4E65DF</td>\n",
       "      <td>13537</td>\n",
       "      <td>114</td>\n",
       "      <td>False</td>\n",
       "      <td>1534442935</td>\n",
       "      <td>0DD2A83B6837B1FA23CEA85748175A46</td>\n",
       "      <td>95</td>\n",
       "      <td>354</td>\n",
       "      <td>False</td>\n",
       "      <td>1348229207</td>\n",
       "      <td>False</td>\n",
       "      <td>True</td>\n",
       "      <td>False</td>\n",
       "      <td>False</td>\n",
       "      <td>False</td>\n",
       "    </tr>\n",
       "    <tr>\n",
       "      <th>1</th>\n",
       "      <td>101\\t56898\\t137\\t12655\\t168\\t10514\\t10115\\t131...</td>\n",
       "      <td>NaN</td>\n",
       "      <td>99E58F0E8DADFB4BAF9EEA0E93694AAE</td>\n",
       "      <td>Photo\\tPhoto\\tPhoto\\tPhoto</td>\n",
       "      <td>NaN</td>\n",
       "      <td>NaN</td>\n",
       "      <td>Retweet</td>\n",
       "      <td>22C448FF81263D4BAF2A176145EE9EAD</td>\n",
       "      <td>1581391499</td>\n",
       "      <td>458AF1D57377287A0BAB2A56AA3EE4AC</td>\n",
       "      <td>136</td>\n",
       "      <td>688</td>\n",
       "      <td>False</td>\n",
       "      <td>1429565372</td>\n",
       "      <td>0DD2A9EE937B01347709DE173E6E1E47</td>\n",
       "      <td>74</td>\n",
       "      <td>181</td>\n",
       "      <td>False</td>\n",
       "      <td>1496325843</td>\n",
       "      <td>True</td>\n",
       "      <td>False</td>\n",
       "      <td>False</td>\n",
       "      <td>True</td>\n",
       "      <td>False</td>\n",
       "    </tr>\n",
       "    <tr>\n",
       "      <th>2</th>\n",
       "      <td>101\\t56898\\t137\\t24109\\t10506\\t168\\t21881\\t113...</td>\n",
       "      <td>NaN</td>\n",
       "      <td>9A3C7C7654F75C478EC3922E60AD0039</td>\n",
       "      <td>Photo</td>\n",
       "      <td>NaN</td>\n",
       "      <td>NaN</td>\n",
       "      <td>Retweet</td>\n",
       "      <td>ECED8A16BE2A5E8871FD55F4842F16B1</td>\n",
       "      <td>1581460690</td>\n",
       "      <td>356534AF79A703A631CA45EF95F702C9</td>\n",
       "      <td>466</td>\n",
       "      <td>805</td>\n",
       "      <td>False</td>\n",
       "      <td>1402911598</td>\n",
       "      <td>0DD2AA5E775014DC55292B2B7E80619E</td>\n",
       "      <td>215</td>\n",
       "      <td>436</td>\n",
       "      <td>False</td>\n",
       "      <td>1451672532</td>\n",
       "      <td>True</td>\n",
       "      <td>False</td>\n",
       "      <td>False</td>\n",
       "      <td>True</td>\n",
       "      <td>False</td>\n",
       "    </tr>\n",
       "    <tr>\n",
       "      <th>3</th>\n",
       "      <td>101\\t56898\\t137\\t53542\\t14985\\t11537\\t28754\\t1...</td>\n",
       "      <td>NaN</td>\n",
       "      <td>4F7E51D4C05BC27B8F29CCE39BA5CA95</td>\n",
       "      <td>Photo\\tPhoto</td>\n",
       "      <td>NaN</td>\n",
       "      <td>NaN</td>\n",
       "      <td>Retweet</td>\n",
       "      <td>D3164C7FBCF2565DDF915B1B3AEFB1DC</td>\n",
       "      <td>1581324557</td>\n",
       "      <td>221780A4B90649CB87AC0CBA7102A2AC</td>\n",
       "      <td>3491</td>\n",
       "      <td>2001</td>\n",
       "      <td>False</td>\n",
       "      <td>1231675403</td>\n",
       "      <td>0DD2AACDA7259687F9FD27A6CA3A0614</td>\n",
       "      <td>143</td>\n",
       "      <td>254</td>\n",
       "      <td>False</td>\n",
       "      <td>1375373900</td>\n",
       "      <td>True</td>\n",
       "      <td>False</td>\n",
       "      <td>False</td>\n",
       "      <td>True</td>\n",
       "      <td>False</td>\n",
       "    </tr>\n",
       "    <tr>\n",
       "      <th>4</th>\n",
       "      <td>101\\t199\\t143\\t27128\\t32002\\t106\\t137\\t17673\\t...</td>\n",
       "      <td>35D2EF13596CAC1B15863EF3CAB39A2E\\t85ADB30A7FFB...</td>\n",
       "      <td>9035B7BA255DE0118FA0F41D2BB897A2</td>\n",
       "      <td>Photo</td>\n",
       "      <td>B490D14EB0D08709727B4CEE188641AA</td>\n",
       "      <td>26D558AFEEDD2EDC37CB4A5E7042E1C4</td>\n",
       "      <td>TopLevel</td>\n",
       "      <td>06D61DCBBE938971E1EA0C38BD9B5446</td>\n",
       "      <td>1581162933</td>\n",
       "      <td>DBE3576D0E67C652379202D7202B874F</td>\n",
       "      <td>5210115</td>\n",
       "      <td>1583</td>\n",
       "      <td>True</td>\n",
       "      <td>1211799913</td>\n",
       "      <td>0DD2AAD677632C842DE89D7BB43AA453</td>\n",
       "      <td>226</td>\n",
       "      <td>330</td>\n",
       "      <td>False</td>\n",
       "      <td>1576352487</td>\n",
       "      <td>False</td>\n",
       "      <td>False</td>\n",
       "      <td>False</td>\n",
       "      <td>False</td>\n",
       "      <td>False</td>\n",
       "    </tr>\n",
       "  </tbody>\n",
       "</table>\n",
       "</div>"
      ],
      "text/plain": [
       "                                                toks  \\\n",
       "0  101\\t9706\\t36553\\t108578\\t119\\t119\\t119\\t108\\t...   \n",
       "1  101\\t56898\\t137\\t12655\\t168\\t10514\\t10115\\t131...   \n",
       "2  101\\t56898\\t137\\t24109\\t10506\\t168\\t21881\\t113...   \n",
       "3  101\\t56898\\t137\\t53542\\t14985\\t11537\\t28754\\t1...   \n",
       "4  101\\t199\\t143\\t27128\\t32002\\t106\\t137\\t17673\\t...   \n",
       "\n",
       "                                              hshtgs  \\\n",
       "0  11218D05D5E94DE4E577C3AF9338E65D\\t3A6FF9E6FA11...   \n",
       "1                                                NaN   \n",
       "2                                                NaN   \n",
       "3                                                NaN   \n",
       "4  35D2EF13596CAC1B15863EF3CAB39A2E\\t85ADB30A7FFB...   \n",
       "\n",
       "                              twtid                       media  \\\n",
       "0  E0B1129F0B31CAE6655127073C08979C                       Photo   \n",
       "1  99E58F0E8DADFB4BAF9EEA0E93694AAE  Photo\\tPhoto\\tPhoto\\tPhoto   \n",
       "2  9A3C7C7654F75C478EC3922E60AD0039                       Photo   \n",
       "3  4F7E51D4C05BC27B8F29CCE39BA5CA95                Photo\\tPhoto   \n",
       "4  9035B7BA255DE0118FA0F41D2BB897A2                       Photo   \n",
       "\n",
       "                              links                             domns  \\\n",
       "0                               NaN                               NaN   \n",
       "1                               NaN                               NaN   \n",
       "2                               NaN                               NaN   \n",
       "3                               NaN                               NaN   \n",
       "4  B490D14EB0D08709727B4CEE188641AA  26D558AFEEDD2EDC37CB4A5E7042E1C4   \n",
       "\n",
       "     twttyp                              lang          tm  \\\n",
       "0  TopLevel  125C57F4FA6D4E110983FB11B52EFD4E  1581348967   \n",
       "1   Retweet  22C448FF81263D4BAF2A176145EE9EAD  1581391499   \n",
       "2   Retweet  ECED8A16BE2A5E8871FD55F4842F16B1  1581460690   \n",
       "3   Retweet  D3164C7FBCF2565DDF915B1B3AEFB1DC  1581324557   \n",
       "4  TopLevel  06D61DCBBE938971E1EA0C38BD9B5446  1581162933   \n",
       "\n",
       "                               u1id  u1_fllwer_cnt  u1_fllwing_cnt  u1_vrfed  \\\n",
       "0  30D18739CC163E7629104D16BE4E65DF          13537             114     False   \n",
       "1  458AF1D57377287A0BAB2A56AA3EE4AC            136             688     False   \n",
       "2  356534AF79A703A631CA45EF95F702C9            466             805     False   \n",
       "3  221780A4B90649CB87AC0CBA7102A2AC           3491            2001     False   \n",
       "4  DBE3576D0E67C652379202D7202B874F        5210115            1583      True   \n",
       "\n",
       "   u1_create_tm                              u2id  u2_fllwer_cnt  \\\n",
       "0    1534442935  0DD2A83B6837B1FA23CEA85748175A46             95   \n",
       "1    1429565372  0DD2A9EE937B01347709DE173E6E1E47             74   \n",
       "2    1402911598  0DD2AA5E775014DC55292B2B7E80619E            215   \n",
       "3    1231675403  0DD2AACDA7259687F9FD27A6CA3A0614            143   \n",
       "4    1211799913  0DD2AAD677632C842DE89D7BB43AA453            226   \n",
       "\n",
       "   u2_fllwng_cnt  u2_vrfed  u2_create_tm  u1_fllw_u2  retwt  reply   like  \\\n",
       "0            354     False    1348229207       False   True  False  False   \n",
       "1            181     False    1496325843        True  False  False   True   \n",
       "2            436     False    1451672532        True  False  False   True   \n",
       "3            254     False    1375373900        True  False  False   True   \n",
       "4            330     False    1576352487       False  False  False  False   \n",
       "\n",
       "   retwt_cmmnt  \n",
       "0        False  \n",
       "1        False  \n",
       "2        False  \n",
       "3        False  \n",
       "4        False  "
      ]
     },
     "metadata": {},
     "output_type": "display_data"
    },
    {
     "data": {
      "text/plain": [
       "Index(['toks', 'hshtgs', 'twtid', 'media', 'links', 'domns', 'twttyp', 'lang',\n",
       "       'tm', 'u1id', 'u1_fllwer_cnt', 'u1_fllwing_cnt', 'u1_vrfed',\n",
       "       'u1_create_tm', 'u2id', 'u2_fllwer_cnt', 'u2_fllwng_cnt', 'u2_vrfed',\n",
       "       'u2_create_tm', 'u1_fllw_u2', 'retwt', 'reply', 'like', 'retwt_cmmnt'],\n",
       "      dtype='object')"
      ]
     },
     "metadata": {},
     "output_type": "display_data"
    }
   ],
   "source": [
    "train_pop=len(dftrn)\n",
    "sampled_train_pop=trnsz\n",
    "idx_pos = np.where(dftrn[TCOL])[0]\n",
    "target_pop=sampled_target_pop=len(idx_pos)\n",
    "if TGT in ('Reply','RTwCmnt'):\n",
    "    idx_neg0 = np.where(~dftrn[TCOL])[0]\n",
    "    idx_neg = np.random.choice(idx_neg0, trnsz-len(idx_pos), replace=False)\n",
    "    idx = np.concatenate([idx_pos,idx_neg])\n",
    "    dftrn = dftrn.iloc[idx].copy()\n",
    "print(dftrn.shape, dftrn[TCOL].mean())\n",
    "print(train_pop, target_pop, sampled_train_pop, sampled_target_pop)\n",
    "\n",
    "display(dftrn.head())\n",
    "display(dftrn.columns)"
   ]
  },
  {
   "cell_type": "markdown",
   "metadata": {},
   "source": [
    "## prep and features"
   ]
  },
  {
   "cell_type": "code",
   "execution_count": 8,
   "metadata": {},
   "outputs": [],
   "source": [
    "def prp_df(df, tm_max):\n",
    "    '''\n",
    "    tm_max = tm_trn_max for train tm_tst_max for test\n",
    "    '''\n",
    "    lendf = len(df)\n",
    "    print(dtnow(), 'start')\n",
    "    set_u1 = set(df.u1id)\n",
    "    set_u2 = set(df.u2id)\n",
    "    df['u1inu2']=df.u1id.isin(set_u2)\n",
    "    df['u2inu1']=df.u2id.isin(set_u1)\n",
    "\n",
    "    #counts\n",
    "    df['len_toks'] = df.toks.apply(lambda x: len(x.split('\\t')))\n",
    "    df.drop(columns=['toks'], inplace=True)    \n",
    "    for m in ['Photo', 'Video', 'GIF']:\n",
    "        df[f'n_media_{m}'] = df['media'].fillna('').apply(lambda x: x.split('\\t').count(m))\n",
    "    tgnms = ['hshtgs','media', 'links', 'domns',]\n",
    "    for tgnm in tgnms:\n",
    "        df[f'has_{tgnm}']=df[tgnm].notna()\n",
    "        df[f'lst_{tgnm}'] = df[tgnm].fillna('').apply(lambda x: x.split('\\t') if len(x) else [])\n",
    "        df[f'n_{tgnm}'] = df[f'lst_{tgnm}'].apply(len)  \n",
    "    df.drop(columns=['has_links','n_links'], inplace=True) #duplicates has_domns,n_domns \n",
    "    \n",
    "    #time\n",
    "    dt = pd.to_datetime(df.tm, unit='s')\n",
    "    df['dayofweek'] = dt.dt.dayofweek\n",
    "    df['hour'] = dt.dt.hour\n",
    "    \n",
    "    df['tmdlta_u2u1']  = df.u2_create_tm - df.u1_create_tm\n",
    "    df['tmdlta_twtu1'] = df.tm - df.u1_create_tm\n",
    "    df['tmdlta_twtu2'] = df.tm - df.u2_create_tm\n",
    "\n",
    "    df['twt_age']   = tm_max-df.tm\n",
    "    df['u1_age']    = tm_max-df.u1_create_tm\n",
    "    df['u2_age']    = tm_max-df.u2_create_tm\n",
    "    df.drop(columns=['tm', 'u1_create_tm', 'u2_create_tm'], inplace=True)\n",
    "\n",
    "    #time derived\n",
    "    df['u1_fllwer_cnt_by_age'] = df.u1_fllwer_cnt / df.u1_age\n",
    "    df['u1_fllwng_cnt_by_age'] = df.u2_fllwng_cnt / df.u2_age\n",
    "    \n",
    "    #interaction\n",
    "    df['u1u2']=df.u1id+'_'+df.u2id\n",
    "    df['langhour']=df.lang+'_'+df.hour.astype(str)\n",
    "    \n",
    "\n",
    "#     #freq of feature values\n",
    "#     print(dtnow(), 'freq of columns using CountEncoder')\n",
    "#     encoder = ce.CountEncoder()\n",
    "#     encoded = encoder.fit_transform(\n",
    "#     df[['twtid', 'twttyp', 'lang', 'u1id', 'u1_fllwing_cnt', 'u1_vrfed', 'u2id', 'u2_fllwer_cnt', 'u2_vrfed', 'u1_fllw_u2', \n",
    "#        'n_media_Photo', 'n_media_Video', 'n_media_GIF', \n",
    "#        'has_hshtgs', 'n_hshtgs', 'has_media', 'n_media','has_domns', 'n_domns', \n",
    "#        'dayofweek', 'hour', 'u1u2', 'langhour']].astype(object))\n",
    "#     encoded = encoded.astype(int)/lendf\n",
    "#     encoded.columns = [f'frq_{col}' for col in encoded.columns]\n",
    "#     df = pd.concat([df,encoded],1)\n",
    "    \n",
    "    #freq of tgnm values\n",
    "#     print(dtnow(), 'freq of tags')\n",
    "#     for tgnm in tgnms:\n",
    "#         vs = [j for i in df[f'lst_{tgnm}'] for j in i]\n",
    "#         cnt = Counter(vs)\n",
    "#         frq = {k:v/lendf for k,v in cnt.items()}\n",
    "#         df[f'sumfrq_{tgnm}']=df[f'lst_{tgnm}'].apply(lambda x: sum([frq.get(o,0) for o in x]))\n",
    "#         df[f'maxfrq_{tgnm}']=df[f'lst_{tgnm}'].apply(lambda x: max([frq.get(o,0) for o in x]) if len(x) else 0)\n",
    "    \n",
    "    df.drop(columns=tgnms+[f'lst_{tgnm}' for tgnm in tgnms],inplace=True)\n",
    "\n",
    "    print(dtnow(), 'done')\n",
    "    return df"
   ]
  },
  {
   "cell_type": "code",
   "execution_count": 9,
   "metadata": {},
   "outputs": [
    {
     "name": "stdout",
     "output_type": "stream",
     "text": [
      "2020-05-28 02:39:58 start\n",
      "2020-05-28 03:10:17 done\n",
      "CPU times: user 21min 29s, sys: 8min 58s, total: 30min 27s\n",
      "Wall time: 30min 32s\n"
     ]
    }
   ],
   "source": [
    "%%time\n",
    "dftrn=prp_df(dftrn, tm_max=tm_trn_max)"
   ]
  },
  {
   "cell_type": "code",
   "execution_count": 10,
   "metadata": {},
   "outputs": [
    {
     "name": "stdout",
     "output_type": "stream",
     "text": [
      "2020-05-28 03:10:30 start\n",
      "2020-05-28 03:10:46 done\n",
      "CPU times: user 14 s, sys: 1.71 s, total: 15.7 s\n",
      "Wall time: 15.7 s\n"
     ]
    }
   ],
   "source": [
    "%%time\n",
    "dfval=prp_df(dfval, tm_max=tm_trn_max)"
   ]
  },
  {
   "cell_type": "markdown",
   "metadata": {},
   "source": [
    "## tr vl split"
   ]
  },
  {
   "cell_type": "code",
   "execution_count": 11,
   "metadata": {},
   "outputs": [
    {
     "data": {
      "text/plain": [
       "30"
      ]
     },
     "execution_count": 11,
     "metadata": {},
     "output_type": "execute_result"
    }
   ],
   "source": [
    "msk_vl=np.random.rand(len(dftrn))<0.15\n",
    "idxvl=np.where( msk_vl)[0]\n",
    "idxtr=np.where(~msk_vl)[0]\n",
    "\n",
    "dftr = dftrn.iloc[idxtr].copy()\n",
    "dfvl = dftrn.iloc[idxvl].copy()\n",
    "del dftrn\n",
    "\n",
    "gc.collect()"
   ]
  },
  {
   "cell_type": "code",
   "execution_count": 12,
   "metadata": {},
   "outputs": [],
   "source": [
    "cols_category=['twttyp', 'lang', 'langhour']\n",
    "for df in dftr,dfvl,dfval:\n",
    "    df.drop(columns=['twtid','u1id','u2id','u1u2'], inplace=True)\n",
    "    df[cols_category]=df[cols_category].astype('category')"
   ]
  },
  {
   "cell_type": "code",
   "execution_count": 13,
   "metadata": {},
   "outputs": [],
   "source": [
    "cols_feat = [col for col in dftr.columns if col not in cols_tgt]"
   ]
  },
  {
   "cell_type": "markdown",
   "metadata": {},
   "source": [
    "# model"
   ]
  },
  {
   "cell_type": "markdown",
   "metadata": {},
   "source": [
    "## cols_feat"
   ]
  },
  {
   "cell_type": "code",
   "execution_count": 14,
   "metadata": {},
   "outputs": [
    {
     "data": {
      "text/plain": [
       "['twttyp',\n",
       " 'lang',\n",
       " 'u1_fllwer_cnt',\n",
       " 'u1_fllwing_cnt',\n",
       " 'u1_vrfed',\n",
       " 'u2_fllwer_cnt',\n",
       " 'u2_fllwng_cnt',\n",
       " 'u2_vrfed',\n",
       " 'u1_fllw_u2',\n",
       " 'u1inu2',\n",
       " 'u2inu1',\n",
       " 'len_toks',\n",
       " 'n_media_Photo',\n",
       " 'n_media_Video',\n",
       " 'n_media_GIF',\n",
       " 'has_hshtgs',\n",
       " 'n_hshtgs',\n",
       " 'has_media',\n",
       " 'n_media',\n",
       " 'has_domns',\n",
       " 'n_domns',\n",
       " 'dayofweek',\n",
       " 'hour',\n",
       " 'tmdlta_u2u1',\n",
       " 'tmdlta_twtu1',\n",
       " 'tmdlta_twtu2',\n",
       " 'twt_age',\n",
       " 'u1_age',\n",
       " 'u2_age',\n",
       " 'u1_fllwer_cnt_by_age',\n",
       " 'u1_fllwng_cnt_by_age',\n",
       " 'langhour']"
      ]
     },
     "execution_count": 14,
     "metadata": {},
     "output_type": "execute_result"
    }
   ],
   "source": [
    "cols_feat"
   ]
  },
  {
   "cell_type": "code",
   "execution_count": 15,
   "metadata": {},
   "outputs": [
    {
     "name": "stdout",
     "output_type": "stream",
     "text": [
      "32\n"
     ]
    }
   ],
   "source": [
    "print(len(cols_feat))\n"
   ]
  },
  {
   "cell_type": "code",
   "execution_count": 16,
   "metadata": {},
   "outputs": [],
   "source": [
    "results = {}\n",
    "results['PRFX'] = PRFX\n",
    "results['TGT'] = TGT\n",
    "results['cols_feat'] = cols_feat"
   ]
  },
  {
   "cell_type": "code",
   "execution_count": 17,
   "metadata": {},
   "outputs": [],
   "source": [
    "params={\n",
    "    'objective': 'binary',\n",
    "    'metric': 'binary_logloss',\n",
    "    'verbosity': 0,    \n",
    "}\n",
    "# params.update({'lambda_l1': 2.7218581416769004e-07,\n",
    "#  'lambda_l2': 3.907768244028144e-06,\n",
    "#  'num_leaves': 152,\n",
    "#  'feature_fraction': 0.4,\n",
    "#  'bagging_fraction': 1.0,\n",
    "#  'bagging_freq': 0,\n",
    "#  'min_child_samples': 100})\n",
    "# print(params)\n",
    "\n",
    "\n",
    "results['params'] = params"
   ]
  },
  {
   "cell_type": "code",
   "execution_count": 18,
   "metadata": {
    "scrolled": true
   },
   "outputs": [
    {
     "name": "stdout",
     "output_type": "stream",
     "text": [
      "Training until validation scores don't improve for 100 rounds\n",
      "[100]\ttr's binary_logloss: 0.592456\tvl's binary_logloss: 0.592577\n",
      "[200]\ttr's binary_logloss: 0.587003\tvl's binary_logloss: 0.587213\n",
      "[300]\ttr's binary_logloss: 0.584233\tvl's binary_logloss: 0.58452\n",
      "[400]\ttr's binary_logloss: 0.582012\tvl's binary_logloss: 0.582369\n",
      "[500]\ttr's binary_logloss: 0.580362\tvl's binary_logloss: 0.580803\n",
      "[600]\ttr's binary_logloss: 0.57896\tvl's binary_logloss: 0.579492\n",
      "[700]\ttr's binary_logloss: 0.577675\tvl's binary_logloss: 0.578297\n",
      "[800]\ttr's binary_logloss: 0.576573\tvl's binary_logloss: 0.5773\n",
      "[900]\ttr's binary_logloss: 0.5754\tvl's binary_logloss: 0.576221\n",
      "[1000]\ttr's binary_logloss: 0.574448\tvl's binary_logloss: 0.575362\n",
      "[1100]\ttr's binary_logloss: 0.57361\tvl's binary_logloss: 0.574629\n",
      "[1200]\ttr's binary_logloss: 0.57274\tvl's binary_logloss: 0.573867\n",
      "[1300]\ttr's binary_logloss: 0.572016\tvl's binary_logloss: 0.57324\n",
      "[1400]\ttr's binary_logloss: 0.571215\tvl's binary_logloss: 0.572534\n",
      "[1500]\ttr's binary_logloss: 0.570542\tvl's binary_logloss: 0.571958\n",
      "[1600]\ttr's binary_logloss: 0.569823\tvl's binary_logloss: 0.571338\n",
      "[1700]\ttr's binary_logloss: 0.569173\tvl's binary_logloss: 0.570782\n",
      "[1800]\ttr's binary_logloss: 0.568524\tvl's binary_logloss: 0.570231\n",
      "[1900]\ttr's binary_logloss: 0.56795\tvl's binary_logloss: 0.569749\n",
      "[2000]\ttr's binary_logloss: 0.567388\tvl's binary_logloss: 0.569277\n",
      "[2100]\ttr's binary_logloss: 0.566926\tvl's binary_logloss: 0.568905\n",
      "[2200]\ttr's binary_logloss: 0.566472\tvl's binary_logloss: 0.568532\n",
      "[2300]\ttr's binary_logloss: 0.565975\tvl's binary_logloss: 0.568135\n",
      "[2400]\ttr's binary_logloss: 0.565495\tvl's binary_logloss: 0.56775\n",
      "[2500]\ttr's binary_logloss: 0.565023\tvl's binary_logloss: 0.567362\n",
      "[2600]\ttr's binary_logloss: 0.564548\tvl's binary_logloss: 0.566982\n",
      "[2700]\ttr's binary_logloss: 0.564053\tvl's binary_logloss: 0.566582\n",
      "[2800]\ttr's binary_logloss: 0.563638\tvl's binary_logloss: 0.566257\n",
      "[2900]\ttr's binary_logloss: 0.563243\tvl's binary_logloss: 0.565957\n",
      "[3000]\ttr's binary_logloss: 0.562855\tvl's binary_logloss: 0.565674\n",
      "[3100]\ttr's binary_logloss: 0.562499\tvl's binary_logloss: 0.565417\n",
      "[3200]\ttr's binary_logloss: 0.56203\tvl's binary_logloss: 0.565041\n",
      "[3300]\ttr's binary_logloss: 0.561627\tvl's binary_logloss: 0.564729\n",
      "[3400]\ttr's binary_logloss: 0.561347\tvl's binary_logloss: 0.564543\n",
      "[3500]\ttr's binary_logloss: 0.560944\tvl's binary_logloss: 0.564231\n",
      "[3600]\ttr's binary_logloss: 0.560592\tvl's binary_logloss: 0.563969\n",
      "[3700]\ttr's binary_logloss: 0.560277\tvl's binary_logloss: 0.563731\n",
      "[3800]\ttr's binary_logloss: 0.559915\tvl's binary_logloss: 0.563448\n",
      "[3900]\ttr's binary_logloss: 0.559598\tvl's binary_logloss: 0.563218\n",
      "[4000]\ttr's binary_logloss: 0.559282\tvl's binary_logloss: 0.562994\n",
      "[4100]\ttr's binary_logloss: 0.558883\tvl's binary_logloss: 0.562683\n",
      "[4200]\ttr's binary_logloss: 0.55855\tvl's binary_logloss: 0.562414\n",
      "[4300]\ttr's binary_logloss: 0.558281\tvl's binary_logloss: 0.562216\n",
      "[4400]\ttr's binary_logloss: 0.557995\tvl's binary_logloss: 0.56201\n",
      "[4500]\ttr's binary_logloss: 0.557683\tvl's binary_logloss: 0.561776\n",
      "[4600]\ttr's binary_logloss: 0.557395\tvl's binary_logloss: 0.561568\n",
      "[4700]\ttr's binary_logloss: 0.55703\tvl's binary_logloss: 0.561277\n",
      "[4800]\ttr's binary_logloss: 0.55674\tvl's binary_logloss: 0.561059\n",
      "[4900]\ttr's binary_logloss: 0.556471\tvl's binary_logloss: 0.560868\n",
      "[5000]\ttr's binary_logloss: 0.556238\tvl's binary_logloss: 0.560711\n",
      "[5100]\ttr's binary_logloss: 0.556009\tvl's binary_logloss: 0.560566\n",
      "[5200]\ttr's binary_logloss: 0.555772\tvl's binary_logloss: 0.560412\n",
      "[5300]\ttr's binary_logloss: 0.5555\tvl's binary_logloss: 0.560216\n",
      "[5400]\ttr's binary_logloss: 0.555297\tvl's binary_logloss: 0.560089\n",
      "[5500]\ttr's binary_logloss: 0.55509\tvl's binary_logloss: 0.559946\n",
      "[5600]\ttr's binary_logloss: 0.554867\tvl's binary_logloss: 0.559811\n",
      "[5700]\ttr's binary_logloss: 0.554664\tvl's binary_logloss: 0.559676\n",
      "[5800]\ttr's binary_logloss: 0.554411\tvl's binary_logloss: 0.559498\n",
      "[5900]\ttr's binary_logloss: 0.554185\tvl's binary_logloss: 0.559353\n",
      "[6000]\ttr's binary_logloss: 0.553964\tvl's binary_logloss: 0.5592\n",
      "[6100]\ttr's binary_logloss: 0.55376\tvl's binary_logloss: 0.559074\n",
      "[6200]\ttr's binary_logloss: 0.553554\tvl's binary_logloss: 0.558951\n",
      "[6300]\ttr's binary_logloss: 0.553322\tvl's binary_logloss: 0.558811\n",
      "[6400]\ttr's binary_logloss: 0.553123\tvl's binary_logloss: 0.558709\n",
      "[6500]\ttr's binary_logloss: 0.552915\tvl's binary_logloss: 0.558579\n",
      "[6600]\ttr's binary_logloss: 0.552692\tvl's binary_logloss: 0.558419\n",
      "[6700]\ttr's binary_logloss: 0.552466\tvl's binary_logloss: 0.558257\n",
      "[6800]\ttr's binary_logloss: 0.552285\tvl's binary_logloss: 0.558143\n",
      "[6900]\ttr's binary_logloss: 0.552053\tvl's binary_logloss: 0.557971\n",
      "[7000]\ttr's binary_logloss: 0.551886\tvl's binary_logloss: 0.557871\n",
      "[7100]\ttr's binary_logloss: 0.55169\tvl's binary_logloss: 0.557751\n",
      "[7200]\ttr's binary_logloss: 0.551493\tvl's binary_logloss: 0.557612\n",
      "[7300]\ttr's binary_logloss: 0.551271\tvl's binary_logloss: 0.557458\n",
      "[7400]\ttr's binary_logloss: 0.551047\tvl's binary_logloss: 0.55729\n",
      "[7500]\ttr's binary_logloss: 0.550822\tvl's binary_logloss: 0.557133\n",
      "[7600]\ttr's binary_logloss: 0.550618\tvl's binary_logloss: 0.556993\n",
      "[7700]\ttr's binary_logloss: 0.550388\tvl's binary_logloss: 0.556822\n",
      "[7800]\ttr's binary_logloss: 0.550165\tvl's binary_logloss: 0.556664\n",
      "[7900]\ttr's binary_logloss: 0.549971\tvl's binary_logloss: 0.556531\n",
      "[8000]\ttr's binary_logloss: 0.549754\tvl's binary_logloss: 0.556372\n",
      "[8100]\ttr's binary_logloss: 0.549546\tvl's binary_logloss: 0.556235\n",
      "[8200]\ttr's binary_logloss: 0.549346\tvl's binary_logloss: 0.556098\n",
      "[8300]\ttr's binary_logloss: 0.549128\tvl's binary_logloss: 0.555934\n",
      "[8400]\ttr's binary_logloss: 0.548969\tvl's binary_logloss: 0.555837\n",
      "[8500]\ttr's binary_logloss: 0.548777\tvl's binary_logloss: 0.555702\n",
      "[8600]\ttr's binary_logloss: 0.548579\tvl's binary_logloss: 0.555555\n",
      "[8700]\ttr's binary_logloss: 0.548387\tvl's binary_logloss: 0.555429\n",
      "[8800]\ttr's binary_logloss: 0.548163\tvl's binary_logloss: 0.555273\n",
      "[8900]\ttr's binary_logloss: 0.547983\tvl's binary_logloss: 0.555156\n",
      "[9000]\ttr's binary_logloss: 0.547817\tvl's binary_logloss: 0.555056\n",
      "[9100]\ttr's binary_logloss: 0.54762\tvl's binary_logloss: 0.554926\n",
      "[9200]\ttr's binary_logloss: 0.547447\tvl's binary_logloss: 0.554817\n",
      "[9300]\ttr's binary_logloss: 0.547298\tvl's binary_logloss: 0.554731\n",
      "[9400]\ttr's binary_logloss: 0.547141\tvl's binary_logloss: 0.554641\n",
      "[9500]\ttr's binary_logloss: 0.54701\tvl's binary_logloss: 0.554573\n",
      "[9600]\ttr's binary_logloss: 0.546869\tvl's binary_logloss: 0.554495\n",
      "[9700]\ttr's binary_logloss: 0.546736\tvl's binary_logloss: 0.55442\n",
      "[9800]\ttr's binary_logloss: 0.546616\tvl's binary_logloss: 0.554363\n",
      "[9900]\ttr's binary_logloss: 0.546494\tvl's binary_logloss: 0.55431\n",
      "[10000]\ttr's binary_logloss: 0.54632\tvl's binary_logloss: 0.554195\n",
      "[10100]\ttr's binary_logloss: 0.546186\tvl's binary_logloss: 0.554123\n",
      "[10200]\ttr's binary_logloss: 0.546008\tvl's binary_logloss: 0.554009\n",
      "[10300]\ttr's binary_logloss: 0.545881\tvl's binary_logloss: 0.553944\n",
      "[10400]\ttr's binary_logloss: 0.545772\tvl's binary_logloss: 0.553897\n",
      "[10500]\ttr's binary_logloss: 0.545621\tvl's binary_logloss: 0.553812\n",
      "[10600]\ttr's binary_logloss: 0.545498\tvl's binary_logloss: 0.553748\n",
      "[10700]\ttr's binary_logloss: 0.545362\tvl's binary_logloss: 0.553665\n",
      "[10800]\ttr's binary_logloss: 0.545184\tvl's binary_logloss: 0.553552\n",
      "[10900]\ttr's binary_logloss: 0.545052\tvl's binary_logloss: 0.553488\n",
      "[11000]\ttr's binary_logloss: 0.544931\tvl's binary_logloss: 0.553424\n",
      "[11100]\ttr's binary_logloss: 0.544819\tvl's binary_logloss: 0.553369\n",
      "[11200]\ttr's binary_logloss: 0.544632\tvl's binary_logloss: 0.553238\n",
      "[11300]\ttr's binary_logloss: 0.544508\tvl's binary_logloss: 0.553164\n",
      "[11400]\ttr's binary_logloss: 0.544404\tvl's binary_logloss: 0.55311\n",
      "[11500]\ttr's binary_logloss: 0.54428\tvl's binary_logloss: 0.553041\n",
      "[11600]\ttr's binary_logloss: 0.544171\tvl's binary_logloss: 0.553002\n",
      "[11700]\ttr's binary_logloss: 0.54401\tvl's binary_logloss: 0.552898\n",
      "[11800]\ttr's binary_logloss: 0.543871\tvl's binary_logloss: 0.552812\n",
      "[11900]\ttr's binary_logloss: 0.543727\tvl's binary_logloss: 0.552723\n",
      "[12000]\ttr's binary_logloss: 0.543565\tvl's binary_logloss: 0.552618\n",
      "[12100]\ttr's binary_logloss: 0.543446\tvl's binary_logloss: 0.552555\n",
      "[12200]\ttr's binary_logloss: 0.543296\tvl's binary_logloss: 0.552466\n"
     ]
    },
    {
     "name": "stdout",
     "output_type": "stream",
     "text": [
      "[12300]\ttr's binary_logloss: 0.543158\tvl's binary_logloss: 0.55238\n",
      "[12400]\ttr's binary_logloss: 0.543045\tvl's binary_logloss: 0.552335\n",
      "[12500]\ttr's binary_logloss: 0.542935\tvl's binary_logloss: 0.552287\n",
      "[12600]\ttr's binary_logloss: 0.542816\tvl's binary_logloss: 0.55222\n",
      "[12700]\ttr's binary_logloss: 0.54268\tvl's binary_logloss: 0.552149\n",
      "[12800]\ttr's binary_logloss: 0.542575\tvl's binary_logloss: 0.552096\n",
      "[12900]\ttr's binary_logloss: 0.542465\tvl's binary_logloss: 0.552033\n",
      "[13000]\ttr's binary_logloss: 0.542356\tvl's binary_logloss: 0.551984\n",
      "[13100]\ttr's binary_logloss: 0.542222\tvl's binary_logloss: 0.551906\n",
      "[13200]\ttr's binary_logloss: 0.542122\tvl's binary_logloss: 0.551855\n",
      "[13300]\ttr's binary_logloss: 0.542027\tvl's binary_logloss: 0.551817\n",
      "[13400]\ttr's binary_logloss: 0.541884\tvl's binary_logloss: 0.551727\n",
      "[13500]\ttr's binary_logloss: 0.541761\tvl's binary_logloss: 0.551655\n",
      "[13600]\ttr's binary_logloss: 0.541658\tvl's binary_logloss: 0.551612\n",
      "[13700]\ttr's binary_logloss: 0.541546\tvl's binary_logloss: 0.551549\n",
      "[13800]\ttr's binary_logloss: 0.541438\tvl's binary_logloss: 0.551504\n",
      "[13900]\ttr's binary_logloss: 0.54133\tvl's binary_logloss: 0.551447\n",
      "[14000]\ttr's binary_logloss: 0.541224\tvl's binary_logloss: 0.551395\n",
      "[14100]\ttr's binary_logloss: 0.541129\tvl's binary_logloss: 0.551354\n",
      "[14200]\ttr's binary_logloss: 0.54101\tvl's binary_logloss: 0.551285\n",
      "[14300]\ttr's binary_logloss: 0.540884\tvl's binary_logloss: 0.551214\n",
      "[14400]\ttr's binary_logloss: 0.540768\tvl's binary_logloss: 0.551164\n",
      "[14500]\ttr's binary_logloss: 0.540665\tvl's binary_logloss: 0.551116\n",
      "[14600]\ttr's binary_logloss: 0.540569\tvl's binary_logloss: 0.551068\n",
      "[14700]\ttr's binary_logloss: 0.540489\tvl's binary_logloss: 0.551039\n",
      "[14800]\ttr's binary_logloss: 0.540396\tvl's binary_logloss: 0.551\n",
      "[14900]\ttr's binary_logloss: 0.540288\tvl's binary_logloss: 0.550956\n",
      "[15000]\ttr's binary_logloss: 0.540187\tvl's binary_logloss: 0.550909\n",
      "[15100]\ttr's binary_logloss: 0.540074\tvl's binary_logloss: 0.550839\n",
      "[15200]\ttr's binary_logloss: 0.539979\tvl's binary_logloss: 0.550798\n",
      "[15300]\ttr's binary_logloss: 0.539886\tvl's binary_logloss: 0.550758\n",
      "[15400]\ttr's binary_logloss: 0.539788\tvl's binary_logloss: 0.550711\n",
      "[15500]\ttr's binary_logloss: 0.539691\tvl's binary_logloss: 0.550659\n",
      "[15600]\ttr's binary_logloss: 0.539594\tvl's binary_logloss: 0.550606\n",
      "[15700]\ttr's binary_logloss: 0.539504\tvl's binary_logloss: 0.550569\n",
      "[15800]\ttr's binary_logloss: 0.5394\tvl's binary_logloss: 0.550528\n",
      "[15900]\ttr's binary_logloss: 0.539308\tvl's binary_logloss: 0.550491\n",
      "[16000]\ttr's binary_logloss: 0.53919\tvl's binary_logloss: 0.550429\n",
      "[16100]\ttr's binary_logloss: 0.539086\tvl's binary_logloss: 0.550375\n",
      "[16200]\ttr's binary_logloss: 0.539003\tvl's binary_logloss: 0.550346\n",
      "[16300]\ttr's binary_logloss: 0.538928\tvl's binary_logloss: 0.550318\n",
      "[16400]\ttr's binary_logloss: 0.538829\tvl's binary_logloss: 0.550266\n",
      "[16500]\ttr's binary_logloss: 0.538718\tvl's binary_logloss: 0.550206\n",
      "[16600]\ttr's binary_logloss: 0.538611\tvl's binary_logloss: 0.550152\n",
      "[16700]\ttr's binary_logloss: 0.538488\tvl's binary_logloss: 0.550078\n",
      "[16800]\ttr's binary_logloss: 0.538355\tvl's binary_logloss: 0.549993\n",
      "[16900]\ttr's binary_logloss: 0.538272\tvl's binary_logloss: 0.549959\n",
      "[17000]\ttr's binary_logloss: 0.538188\tvl's binary_logloss: 0.549918\n",
      "[17100]\ttr's binary_logloss: 0.538054\tvl's binary_logloss: 0.549831\n",
      "[17200]\ttr's binary_logloss: 0.537938\tvl's binary_logloss: 0.549763\n",
      "[17300]\ttr's binary_logloss: 0.537851\tvl's binary_logloss: 0.549722\n",
      "[17400]\ttr's binary_logloss: 0.537767\tvl's binary_logloss: 0.549686\n",
      "[17500]\ttr's binary_logloss: 0.537679\tvl's binary_logloss: 0.549652\n",
      "[17600]\ttr's binary_logloss: 0.537569\tvl's binary_logloss: 0.549595\n",
      "[17700]\ttr's binary_logloss: 0.537484\tvl's binary_logloss: 0.549565\n",
      "[17800]\ttr's binary_logloss: 0.537392\tvl's binary_logloss: 0.549524\n",
      "[17900]\ttr's binary_logloss: 0.537295\tvl's binary_logloss: 0.549482\n",
      "[18000]\ttr's binary_logloss: 0.537173\tvl's binary_logloss: 0.549417\n",
      "[18100]\ttr's binary_logloss: 0.537042\tvl's binary_logloss: 0.549333\n",
      "[18200]\ttr's binary_logloss: 0.536947\tvl's binary_logloss: 0.549281\n",
      "[18300]\ttr's binary_logloss: 0.536829\tvl's binary_logloss: 0.549211\n",
      "[18400]\ttr's binary_logloss: 0.536742\tvl's binary_logloss: 0.549172\n",
      "[18500]\ttr's binary_logloss: 0.536635\tvl's binary_logloss: 0.549109\n",
      "[18600]\ttr's binary_logloss: 0.536538\tvl's binary_logloss: 0.549057\n",
      "[18700]\ttr's binary_logloss: 0.536448\tvl's binary_logloss: 0.549014\n",
      "[18800]\ttr's binary_logloss: 0.53635\tvl's binary_logloss: 0.54897\n",
      "[18900]\ttr's binary_logloss: 0.536261\tvl's binary_logloss: 0.548927\n",
      "[19000]\ttr's binary_logloss: 0.536161\tvl's binary_logloss: 0.548877\n",
      "[19100]\ttr's binary_logloss: 0.536061\tvl's binary_logloss: 0.548821\n",
      "[19200]\ttr's binary_logloss: 0.535973\tvl's binary_logloss: 0.548784\n",
      "[19300]\ttr's binary_logloss: 0.53589\tvl's binary_logloss: 0.548746\n",
      "[19400]\ttr's binary_logloss: 0.535798\tvl's binary_logloss: 0.548701\n",
      "[19500]\ttr's binary_logloss: 0.5357\tvl's binary_logloss: 0.548646\n",
      "[19600]\ttr's binary_logloss: 0.535611\tvl's binary_logloss: 0.5486\n",
      "[19700]\ttr's binary_logloss: 0.535539\tvl's binary_logloss: 0.548577\n",
      "[19800]\ttr's binary_logloss: 0.535459\tvl's binary_logloss: 0.548553\n",
      "[19900]\ttr's binary_logloss: 0.535363\tvl's binary_logloss: 0.548507\n",
      "[20000]\ttr's binary_logloss: 0.535274\tvl's binary_logloss: 0.548465\n",
      "[20100]\ttr's binary_logloss: 0.535194\tvl's binary_logloss: 0.548427\n",
      "[20200]\ttr's binary_logloss: 0.535115\tvl's binary_logloss: 0.548394\n",
      "[20300]\ttr's binary_logloss: 0.535027\tvl's binary_logloss: 0.548355\n",
      "[20400]\ttr's binary_logloss: 0.534947\tvl's binary_logloss: 0.548324\n",
      "[20500]\ttr's binary_logloss: 0.534873\tvl's binary_logloss: 0.548295\n",
      "[20600]\ttr's binary_logloss: 0.534782\tvl's binary_logloss: 0.548258\n",
      "[20700]\ttr's binary_logloss: 0.534683\tvl's binary_logloss: 0.548206\n",
      "[20800]\ttr's binary_logloss: 0.534616\tvl's binary_logloss: 0.54818\n",
      "[20900]\ttr's binary_logloss: 0.534531\tvl's binary_logloss: 0.54814\n",
      "[21000]\ttr's binary_logloss: 0.534467\tvl's binary_logloss: 0.548122\n",
      "[21100]\ttr's binary_logloss: 0.534415\tvl's binary_logloss: 0.54811\n",
      "[21200]\ttr's binary_logloss: 0.534323\tvl's binary_logloss: 0.548063\n",
      "[21300]\ttr's binary_logloss: 0.534258\tvl's binary_logloss: 0.548041\n",
      "[21400]\ttr's binary_logloss: 0.534186\tvl's binary_logloss: 0.548025\n",
      "[21500]\ttr's binary_logloss: 0.534108\tvl's binary_logloss: 0.547999\n",
      "[21600]\ttr's binary_logloss: 0.534035\tvl's binary_logloss: 0.547975\n",
      "[21700]\ttr's binary_logloss: 0.533961\tvl's binary_logloss: 0.547948\n",
      "[21800]\ttr's binary_logloss: 0.533876\tvl's binary_logloss: 0.547912\n",
      "[21900]\ttr's binary_logloss: 0.533793\tvl's binary_logloss: 0.547872\n",
      "[22000]\ttr's binary_logloss: 0.533707\tvl's binary_logloss: 0.547829\n",
      "[22100]\ttr's binary_logloss: 0.533619\tvl's binary_logloss: 0.547783\n",
      "[22200]\ttr's binary_logloss: 0.533531\tvl's binary_logloss: 0.54774\n",
      "[22300]\ttr's binary_logloss: 0.533463\tvl's binary_logloss: 0.547721\n",
      "[22400]\ttr's binary_logloss: 0.533387\tvl's binary_logloss: 0.54769\n",
      "[22500]\ttr's binary_logloss: 0.533316\tvl's binary_logloss: 0.547664\n",
      "[22600]\ttr's binary_logloss: 0.533248\tvl's binary_logloss: 0.54764\n",
      "[22700]\ttr's binary_logloss: 0.533177\tvl's binary_logloss: 0.547612\n",
      "[22800]\ttr's binary_logloss: 0.533094\tvl's binary_logloss: 0.547576\n",
      "[22900]\ttr's binary_logloss: 0.533018\tvl's binary_logloss: 0.547544\n",
      "[23000]\ttr's binary_logloss: 0.532941\tvl's binary_logloss: 0.54751\n",
      "[23100]\ttr's binary_logloss: 0.532838\tvl's binary_logloss: 0.547452\n",
      "[23200]\ttr's binary_logloss: 0.532736\tvl's binary_logloss: 0.547399\n",
      "[23300]\ttr's binary_logloss: 0.532644\tvl's binary_logloss: 0.547352\n",
      "[23400]\ttr's binary_logloss: 0.532567\tvl's binary_logloss: 0.547315\n",
      "[23500]\ttr's binary_logloss: 0.532474\tvl's binary_logloss: 0.547267\n",
      "[23600]\ttr's binary_logloss: 0.532391\tvl's binary_logloss: 0.54723\n",
      "[23700]\ttr's binary_logloss: 0.532314\tvl's binary_logloss: 0.547199\n",
      "[23800]\ttr's binary_logloss: 0.532245\tvl's binary_logloss: 0.547169\n",
      "[23900]\ttr's binary_logloss: 0.532172\tvl's binary_logloss: 0.54714\n",
      "[24000]\ttr's binary_logloss: 0.532106\tvl's binary_logloss: 0.547115\n",
      "[24100]\ttr's binary_logloss: 0.532012\tvl's binary_logloss: 0.547063\n",
      "[24200]\ttr's binary_logloss: 0.531944\tvl's binary_logloss: 0.547034\n",
      "[24300]\ttr's binary_logloss: 0.531868\tvl's binary_logloss: 0.547002\n"
     ]
    },
    {
     "name": "stdout",
     "output_type": "stream",
     "text": [
      "[24400]\ttr's binary_logloss: 0.531812\tvl's binary_logloss: 0.546988\n",
      "[24500]\ttr's binary_logloss: 0.531746\tvl's binary_logloss: 0.546961\n",
      "[24600]\ttr's binary_logloss: 0.531659\tvl's binary_logloss: 0.546912\n",
      "[24700]\ttr's binary_logloss: 0.531586\tvl's binary_logloss: 0.546883\n",
      "[24800]\ttr's binary_logloss: 0.531515\tvl's binary_logloss: 0.546852\n",
      "[24900]\ttr's binary_logloss: 0.531454\tvl's binary_logloss: 0.546831\n",
      "[25000]\ttr's binary_logloss: 0.531387\tvl's binary_logloss: 0.546806\n",
      "[25100]\ttr's binary_logloss: 0.531331\tvl's binary_logloss: 0.546796\n",
      "[25200]\ttr's binary_logloss: 0.531267\tvl's binary_logloss: 0.546768\n",
      "[25300]\ttr's binary_logloss: 0.531212\tvl's binary_logloss: 0.546752\n",
      "[25400]\ttr's binary_logloss: 0.531138\tvl's binary_logloss: 0.546728\n",
      "[25500]\ttr's binary_logloss: 0.531072\tvl's binary_logloss: 0.546705\n",
      "[25600]\ttr's binary_logloss: 0.531\tvl's binary_logloss: 0.546682\n",
      "[25700]\ttr's binary_logloss: 0.530934\tvl's binary_logloss: 0.54666\n",
      "[25800]\ttr's binary_logloss: 0.530876\tvl's binary_logloss: 0.546644\n",
      "[25900]\ttr's binary_logloss: 0.530815\tvl's binary_logloss: 0.546626\n",
      "[26000]\ttr's binary_logloss: 0.530759\tvl's binary_logloss: 0.546611\n",
      "[26100]\ttr's binary_logloss: 0.530704\tvl's binary_logloss: 0.546597\n",
      "[26200]\ttr's binary_logloss: 0.530647\tvl's binary_logloss: 0.546585\n",
      "[26300]\ttr's binary_logloss: 0.530592\tvl's binary_logloss: 0.546572\n",
      "[26400]\ttr's binary_logloss: 0.530526\tvl's binary_logloss: 0.546549\n",
      "[26500]\ttr's binary_logloss: 0.53046\tvl's binary_logloss: 0.546527\n",
      "[26600]\ttr's binary_logloss: 0.530394\tvl's binary_logloss: 0.546505\n",
      "[26700]\ttr's binary_logloss: 0.530337\tvl's binary_logloss: 0.546489\n",
      "[26800]\ttr's binary_logloss: 0.530283\tvl's binary_logloss: 0.546476\n",
      "[26900]\ttr's binary_logloss: 0.530217\tvl's binary_logloss: 0.546451\n",
      "[27000]\ttr's binary_logloss: 0.530155\tvl's binary_logloss: 0.546434\n",
      "[27100]\ttr's binary_logloss: 0.5301\tvl's binary_logloss: 0.546421\n",
      "[27200]\ttr's binary_logloss: 0.530045\tvl's binary_logloss: 0.546407\n",
      "[27300]\ttr's binary_logloss: 0.529987\tvl's binary_logloss: 0.546395\n",
      "[27400]\ttr's binary_logloss: 0.529931\tvl's binary_logloss: 0.546382\n",
      "[27500]\ttr's binary_logloss: 0.529867\tvl's binary_logloss: 0.546358\n",
      "[27600]\ttr's binary_logloss: 0.529822\tvl's binary_logloss: 0.546348\n",
      "[27700]\ttr's binary_logloss: 0.529754\tvl's binary_logloss: 0.546319\n",
      "[27800]\ttr's binary_logloss: 0.529687\tvl's binary_logloss: 0.546295\n",
      "[27900]\ttr's binary_logloss: 0.52963\tvl's binary_logloss: 0.546278\n",
      "[28000]\ttr's binary_logloss: 0.529563\tvl's binary_logloss: 0.546256\n",
      "[28100]\ttr's binary_logloss: 0.529486\tvl's binary_logloss: 0.546223\n",
      "[28200]\ttr's binary_logloss: 0.529425\tvl's binary_logloss: 0.546203\n",
      "[28300]\ttr's binary_logloss: 0.529358\tvl's binary_logloss: 0.546176\n",
      "[28400]\ttr's binary_logloss: 0.529275\tvl's binary_logloss: 0.546132\n",
      "[28500]\ttr's binary_logloss: 0.529212\tvl's binary_logloss: 0.546116\n",
      "[28600]\ttr's binary_logloss: 0.52915\tvl's binary_logloss: 0.546102\n",
      "[28700]\ttr's binary_logloss: 0.529088\tvl's binary_logloss: 0.546082\n",
      "[28800]\ttr's binary_logloss: 0.52902\tvl's binary_logloss: 0.546059\n",
      "[28900]\ttr's binary_logloss: 0.528962\tvl's binary_logloss: 0.546048\n",
      "[29000]\ttr's binary_logloss: 0.528909\tvl's binary_logloss: 0.54604\n",
      "[29100]\ttr's binary_logloss: 0.528849\tvl's binary_logloss: 0.546022\n",
      "[29200]\ttr's binary_logloss: 0.528784\tvl's binary_logloss: 0.546\n",
      "[29300]\ttr's binary_logloss: 0.528717\tvl's binary_logloss: 0.545974\n",
      "[29400]\ttr's binary_logloss: 0.528653\tvl's binary_logloss: 0.545951\n",
      "[29500]\ttr's binary_logloss: 0.528593\tvl's binary_logloss: 0.545929\n",
      "[29600]\ttr's binary_logloss: 0.52853\tvl's binary_logloss: 0.545911\n",
      "[29700]\ttr's binary_logloss: 0.528471\tvl's binary_logloss: 0.545893\n",
      "[29800]\ttr's binary_logloss: 0.528411\tvl's binary_logloss: 0.545875\n",
      "[29900]\ttr's binary_logloss: 0.528345\tvl's binary_logloss: 0.545857\n",
      "[30000]\ttr's binary_logloss: 0.528278\tvl's binary_logloss: 0.54584\n",
      "[30100]\ttr's binary_logloss: 0.528211\tvl's binary_logloss: 0.545823\n",
      "[30200]\ttr's binary_logloss: 0.528161\tvl's binary_logloss: 0.545814\n",
      "[30300]\ttr's binary_logloss: 0.528093\tvl's binary_logloss: 0.545794\n",
      "[30400]\ttr's binary_logloss: 0.528037\tvl's binary_logloss: 0.545781\n",
      "[30500]\ttr's binary_logloss: 0.527949\tvl's binary_logloss: 0.545744\n",
      "[30600]\ttr's binary_logloss: 0.527888\tvl's binary_logloss: 0.545721\n",
      "[30700]\ttr's binary_logloss: 0.527815\tvl's binary_logloss: 0.545696\n",
      "[30800]\ttr's binary_logloss: 0.527758\tvl's binary_logloss: 0.545679\n",
      "[30900]\ttr's binary_logloss: 0.527709\tvl's binary_logloss: 0.545665\n",
      "[31000]\ttr's binary_logloss: 0.527654\tvl's binary_logloss: 0.54565\n",
      "[31100]\ttr's binary_logloss: 0.527583\tvl's binary_logloss: 0.545619\n",
      "[31200]\ttr's binary_logloss: 0.527529\tvl's binary_logloss: 0.545606\n",
      "[31300]\ttr's binary_logloss: 0.527467\tvl's binary_logloss: 0.545583\n",
      "[31400]\ttr's binary_logloss: 0.527413\tvl's binary_logloss: 0.545565\n",
      "[31500]\ttr's binary_logloss: 0.527347\tvl's binary_logloss: 0.545537\n",
      "[31600]\ttr's binary_logloss: 0.527275\tvl's binary_logloss: 0.545506\n",
      "[31700]\ttr's binary_logloss: 0.52722\tvl's binary_logloss: 0.545486\n",
      "[31800]\ttr's binary_logloss: 0.527167\tvl's binary_logloss: 0.545471\n",
      "[31900]\ttr's binary_logloss: 0.527108\tvl's binary_logloss: 0.54545\n",
      "[32000]\ttr's binary_logloss: 0.527056\tvl's binary_logloss: 0.545438\n",
      "[32100]\ttr's binary_logloss: 0.526988\tvl's binary_logloss: 0.545409\n",
      "[32200]\ttr's binary_logloss: 0.526932\tvl's binary_logloss: 0.545392\n",
      "[32300]\ttr's binary_logloss: 0.52687\tvl's binary_logloss: 0.545371\n",
      "[32400]\ttr's binary_logloss: 0.526795\tvl's binary_logloss: 0.545339\n",
      "[32500]\ttr's binary_logloss: 0.526726\tvl's binary_logloss: 0.545316\n",
      "[32600]\ttr's binary_logloss: 0.526657\tvl's binary_logloss: 0.545286\n",
      "[32700]\ttr's binary_logloss: 0.526596\tvl's binary_logloss: 0.545263\n",
      "[32800]\ttr's binary_logloss: 0.526539\tvl's binary_logloss: 0.54524\n",
      "[32900]\ttr's binary_logloss: 0.526468\tvl's binary_logloss: 0.545211\n",
      "[33000]\ttr's binary_logloss: 0.52638\tvl's binary_logloss: 0.545161\n",
      "[33100]\ttr's binary_logloss: 0.526324\tvl's binary_logloss: 0.545141\n",
      "[33200]\ttr's binary_logloss: 0.526261\tvl's binary_logloss: 0.545119\n",
      "[33300]\ttr's binary_logloss: 0.526206\tvl's binary_logloss: 0.545101\n",
      "[33400]\ttr's binary_logloss: 0.52615\tvl's binary_logloss: 0.545083\n",
      "[33500]\ttr's binary_logloss: 0.526081\tvl's binary_logloss: 0.545054\n",
      "[33600]\ttr's binary_logloss: 0.526023\tvl's binary_logloss: 0.545033\n",
      "[33700]\ttr's binary_logloss: 0.525954\tvl's binary_logloss: 0.545007\n",
      "[33800]\ttr's binary_logloss: 0.525908\tvl's binary_logloss: 0.544994\n",
      "[33900]\ttr's binary_logloss: 0.525841\tvl's binary_logloss: 0.544964\n",
      "[34000]\ttr's binary_logloss: 0.52578\tvl's binary_logloss: 0.544945\n",
      "[34100]\ttr's binary_logloss: 0.525725\tvl's binary_logloss: 0.54493\n",
      "[34200]\ttr's binary_logloss: 0.525663\tvl's binary_logloss: 0.544908\n",
      "[34300]\ttr's binary_logloss: 0.525597\tvl's binary_logloss: 0.544882\n",
      "[34400]\ttr's binary_logloss: 0.525528\tvl's binary_logloss: 0.544858\n",
      "[34500]\ttr's binary_logloss: 0.525462\tvl's binary_logloss: 0.544831\n",
      "[34600]\ttr's binary_logloss: 0.5254\tvl's binary_logloss: 0.544805\n",
      "[34700]\ttr's binary_logloss: 0.525326\tvl's binary_logloss: 0.544775\n",
      "[34800]\ttr's binary_logloss: 0.525275\tvl's binary_logloss: 0.544762\n",
      "[34900]\ttr's binary_logloss: 0.525209\tvl's binary_logloss: 0.544739\n",
      "[35000]\ttr's binary_logloss: 0.525148\tvl's binary_logloss: 0.544716\n",
      "[35100]\ttr's binary_logloss: 0.525103\tvl's binary_logloss: 0.544712\n",
      "[35200]\ttr's binary_logloss: 0.525046\tvl's binary_logloss: 0.544691\n",
      "[35300]\ttr's binary_logloss: 0.524998\tvl's binary_logloss: 0.54468\n",
      "[35400]\ttr's binary_logloss: 0.524928\tvl's binary_logloss: 0.544647\n",
      "[35500]\ttr's binary_logloss: 0.52487\tvl's binary_logloss: 0.54463\n",
      "[35600]\ttr's binary_logloss: 0.52482\tvl's binary_logloss: 0.544616\n",
      "[35700]\ttr's binary_logloss: 0.524742\tvl's binary_logloss: 0.54458\n",
      "[35800]\ttr's binary_logloss: 0.524683\tvl's binary_logloss: 0.544556\n",
      "[35900]\ttr's binary_logloss: 0.524631\tvl's binary_logloss: 0.544541\n",
      "[36000]\ttr's binary_logloss: 0.524566\tvl's binary_logloss: 0.544517\n",
      "[36100]\ttr's binary_logloss: 0.524488\tvl's binary_logloss: 0.544476\n",
      "[36200]\ttr's binary_logloss: 0.524429\tvl's binary_logloss: 0.544453\n",
      "[36300]\ttr's binary_logloss: 0.524354\tvl's binary_logloss: 0.544416\n",
      "[36400]\ttr's binary_logloss: 0.524307\tvl's binary_logloss: 0.544407\n"
     ]
    },
    {
     "name": "stdout",
     "output_type": "stream",
     "text": [
      "[36500]\ttr's binary_logloss: 0.524257\tvl's binary_logloss: 0.544396\n",
      "[36600]\ttr's binary_logloss: 0.524207\tvl's binary_logloss: 0.544383\n",
      "[36700]\ttr's binary_logloss: 0.524149\tvl's binary_logloss: 0.544368\n",
      "[36800]\ttr's binary_logloss: 0.524088\tvl's binary_logloss: 0.544347\n",
      "[36900]\ttr's binary_logloss: 0.524033\tvl's binary_logloss: 0.544334\n",
      "[37000]\ttr's binary_logloss: 0.523983\tvl's binary_logloss: 0.544324\n",
      "[37100]\ttr's binary_logloss: 0.523936\tvl's binary_logloss: 0.544313\n",
      "[37200]\ttr's binary_logloss: 0.523862\tvl's binary_logloss: 0.544278\n",
      "[37300]\ttr's binary_logloss: 0.523813\tvl's binary_logloss: 0.544265\n",
      "[37400]\ttr's binary_logloss: 0.523745\tvl's binary_logloss: 0.544233\n",
      "[37500]\ttr's binary_logloss: 0.523696\tvl's binary_logloss: 0.544224\n",
      "[37600]\ttr's binary_logloss: 0.523649\tvl's binary_logloss: 0.544216\n",
      "[37700]\ttr's binary_logloss: 0.523576\tvl's binary_logloss: 0.54418\n",
      "[37800]\ttr's binary_logloss: 0.523519\tvl's binary_logloss: 0.544154\n",
      "[37900]\ttr's binary_logloss: 0.523467\tvl's binary_logloss: 0.544137\n",
      "[38000]\ttr's binary_logloss: 0.523413\tvl's binary_logloss: 0.544125\n",
      "[38100]\ttr's binary_logloss: 0.523346\tvl's binary_logloss: 0.544093\n",
      "[38200]\ttr's binary_logloss: 0.523274\tvl's binary_logloss: 0.544061\n",
      "[38300]\ttr's binary_logloss: 0.523219\tvl's binary_logloss: 0.544046\n",
      "[38400]\ttr's binary_logloss: 0.523149\tvl's binary_logloss: 0.544013\n",
      "[38500]\ttr's binary_logloss: 0.523089\tvl's binary_logloss: 0.543993\n",
      "[38600]\ttr's binary_logloss: 0.523013\tvl's binary_logloss: 0.543954\n",
      "[38700]\ttr's binary_logloss: 0.522936\tvl's binary_logloss: 0.543916\n",
      "[38800]\ttr's binary_logloss: 0.52287\tvl's binary_logloss: 0.543897\n",
      "[38900]\ttr's binary_logloss: 0.522815\tvl's binary_logloss: 0.543876\n",
      "[39000]\ttr's binary_logloss: 0.522761\tvl's binary_logloss: 0.543855\n",
      "[39100]\ttr's binary_logloss: 0.522701\tvl's binary_logloss: 0.543838\n",
      "[39200]\ttr's binary_logloss: 0.522648\tvl's binary_logloss: 0.54382\n",
      "[39300]\ttr's binary_logloss: 0.522591\tvl's binary_logloss: 0.543805\n",
      "[39400]\ttr's binary_logloss: 0.522542\tvl's binary_logloss: 0.543797\n",
      "[39500]\ttr's binary_logloss: 0.522499\tvl's binary_logloss: 0.543792\n",
      "[39600]\ttr's binary_logloss: 0.52245\tvl's binary_logloss: 0.54378\n",
      "[39700]\ttr's binary_logloss: 0.522405\tvl's binary_logloss: 0.543775\n",
      "[39800]\ttr's binary_logloss: 0.522355\tvl's binary_logloss: 0.54377\n",
      "[39900]\ttr's binary_logloss: 0.522304\tvl's binary_logloss: 0.543764\n",
      "[40000]\ttr's binary_logloss: 0.522257\tvl's binary_logloss: 0.54376\n",
      "[40100]\ttr's binary_logloss: 0.522217\tvl's binary_logloss: 0.543756\n",
      "[40200]\ttr's binary_logloss: 0.522167\tvl's binary_logloss: 0.543744\n",
      "[40300]\ttr's binary_logloss: 0.522112\tvl's binary_logloss: 0.54373\n",
      "[40400]\ttr's binary_logloss: 0.52205\tvl's binary_logloss: 0.543704\n",
      "[40500]\ttr's binary_logloss: 0.522003\tvl's binary_logloss: 0.543697\n",
      "[40600]\ttr's binary_logloss: 0.521961\tvl's binary_logloss: 0.54369\n",
      "[40700]\ttr's binary_logloss: 0.521912\tvl's binary_logloss: 0.543682\n",
      "[40800]\ttr's binary_logloss: 0.521854\tvl's binary_logloss: 0.543665\n",
      "[40900]\ttr's binary_logloss: 0.521805\tvl's binary_logloss: 0.543655\n",
      "[41000]\ttr's binary_logloss: 0.521762\tvl's binary_logloss: 0.543652\n",
      "[41100]\ttr's binary_logloss: 0.521712\tvl's binary_logloss: 0.543642\n",
      "[41200]\ttr's binary_logloss: 0.521667\tvl's binary_logloss: 0.543635\n",
      "[41300]\ttr's binary_logloss: 0.521616\tvl's binary_logloss: 0.543624\n",
      "[41400]\ttr's binary_logloss: 0.521564\tvl's binary_logloss: 0.543612\n",
      "[41500]\ttr's binary_logloss: 0.52152\tvl's binary_logloss: 0.543607\n",
      "[41600]\ttr's binary_logloss: 0.521478\tvl's binary_logloss: 0.543604\n",
      "[41700]\ttr's binary_logloss: 0.521425\tvl's binary_logloss: 0.543591\n",
      "[41800]\ttr's binary_logloss: 0.52138\tvl's binary_logloss: 0.543583\n",
      "[41900]\ttr's binary_logloss: 0.521325\tvl's binary_logloss: 0.543568\n",
      "[42000]\ttr's binary_logloss: 0.521265\tvl's binary_logloss: 0.543547\n",
      "[42100]\ttr's binary_logloss: 0.521193\tvl's binary_logloss: 0.543519\n",
      "[42200]\ttr's binary_logloss: 0.521138\tvl's binary_logloss: 0.543509\n",
      "[42300]\ttr's binary_logloss: 0.52109\tvl's binary_logloss: 0.5435\n",
      "[42400]\ttr's binary_logloss: 0.521039\tvl's binary_logloss: 0.543489\n",
      "[42500]\ttr's binary_logloss: 0.520996\tvl's binary_logloss: 0.543483\n",
      "[42600]\ttr's binary_logloss: 0.520946\tvl's binary_logloss: 0.543477\n",
      "[42700]\ttr's binary_logloss: 0.520889\tvl's binary_logloss: 0.543462\n",
      "[42800]\ttr's binary_logloss: 0.520836\tvl's binary_logloss: 0.543447\n",
      "[42900]\ttr's binary_logloss: 0.520796\tvl's binary_logloss: 0.543445\n",
      "[43000]\ttr's binary_logloss: 0.520753\tvl's binary_logloss: 0.543441\n",
      "[43100]\ttr's binary_logloss: 0.5207\tvl's binary_logloss: 0.543433\n",
      "[43200]\ttr's binary_logloss: 0.520651\tvl's binary_logloss: 0.543421\n",
      "[43300]\ttr's binary_logloss: 0.520592\tvl's binary_logloss: 0.543409\n",
      "[43400]\ttr's binary_logloss: 0.520545\tvl's binary_logloss: 0.5434\n",
      "[43500]\ttr's binary_logloss: 0.520494\tvl's binary_logloss: 0.543384\n",
      "[43600]\ttr's binary_logloss: 0.520427\tvl's binary_logloss: 0.543358\n",
      "[43700]\ttr's binary_logloss: 0.520379\tvl's binary_logloss: 0.543349\n",
      "[43800]\ttr's binary_logloss: 0.520337\tvl's binary_logloss: 0.543345\n",
      "[43900]\ttr's binary_logloss: 0.520285\tvl's binary_logloss: 0.543331\n",
      "[44000]\ttr's binary_logloss: 0.520239\tvl's binary_logloss: 0.543321\n",
      "[44100]\ttr's binary_logloss: 0.520193\tvl's binary_logloss: 0.543315\n",
      "[44200]\ttr's binary_logloss: 0.520142\tvl's binary_logloss: 0.543304\n",
      "[44300]\ttr's binary_logloss: 0.520103\tvl's binary_logloss: 0.543301\n",
      "[44400]\ttr's binary_logloss: 0.520056\tvl's binary_logloss: 0.543293\n",
      "[44500]\ttr's binary_logloss: 0.520009\tvl's binary_logloss: 0.543285\n",
      "[44600]\ttr's binary_logloss: 0.51996\tvl's binary_logloss: 0.543277\n",
      "[44700]\ttr's binary_logloss: 0.519916\tvl's binary_logloss: 0.543269\n",
      "[44800]\ttr's binary_logloss: 0.519857\tvl's binary_logloss: 0.543249\n",
      "[44900]\ttr's binary_logloss: 0.519815\tvl's binary_logloss: 0.543242\n",
      "[45000]\ttr's binary_logloss: 0.51975\tvl's binary_logloss: 0.543217\n",
      "[45100]\ttr's binary_logloss: 0.519708\tvl's binary_logloss: 0.543211\n",
      "[45200]\ttr's binary_logloss: 0.519648\tvl's binary_logloss: 0.543191\n",
      "[45300]\ttr's binary_logloss: 0.5196\tvl's binary_logloss: 0.543182\n",
      "[45400]\ttr's binary_logloss: 0.519553\tvl's binary_logloss: 0.54317\n",
      "[45500]\ttr's binary_logloss: 0.519493\tvl's binary_logloss: 0.543149\n",
      "[45600]\ttr's binary_logloss: 0.51944\tvl's binary_logloss: 0.543137\n",
      "[45700]\ttr's binary_logloss: 0.519382\tvl's binary_logloss: 0.543122\n",
      "[45800]\ttr's binary_logloss: 0.519335\tvl's binary_logloss: 0.543114\n",
      "[45900]\ttr's binary_logloss: 0.519272\tvl's binary_logloss: 0.543093\n",
      "[46000]\ttr's binary_logloss: 0.519215\tvl's binary_logloss: 0.543074\n",
      "[46100]\ttr's binary_logloss: 0.519171\tvl's binary_logloss: 0.543067\n",
      "[46200]\ttr's binary_logloss: 0.519115\tvl's binary_logloss: 0.543051\n",
      "[46300]\ttr's binary_logloss: 0.519072\tvl's binary_logloss: 0.543046\n",
      "[46400]\ttr's binary_logloss: 0.519018\tvl's binary_logloss: 0.543028\n",
      "[46500]\ttr's binary_logloss: 0.51897\tvl's binary_logloss: 0.543017\n",
      "[46600]\ttr's binary_logloss: 0.518924\tvl's binary_logloss: 0.543007\n",
      "[46700]\ttr's binary_logloss: 0.518878\tvl's binary_logloss: 0.54299\n",
      "[46800]\ttr's binary_logloss: 0.518828\tvl's binary_logloss: 0.542982\n",
      "[46900]\ttr's binary_logloss: 0.518784\tvl's binary_logloss: 0.542974\n",
      "[47000]\ttr's binary_logloss: 0.518723\tvl's binary_logloss: 0.54295\n",
      "[47100]\ttr's binary_logloss: 0.518679\tvl's binary_logloss: 0.542945\n",
      "[47200]\ttr's binary_logloss: 0.518631\tvl's binary_logloss: 0.542937\n",
      "[47300]\ttr's binary_logloss: 0.518579\tvl's binary_logloss: 0.542929\n",
      "[47400]\ttr's binary_logloss: 0.518533\tvl's binary_logloss: 0.542917\n",
      "[47500]\ttr's binary_logloss: 0.518482\tvl's binary_logloss: 0.542902\n",
      "[47600]\ttr's binary_logloss: 0.518442\tvl's binary_logloss: 0.542896\n",
      "[47700]\ttr's binary_logloss: 0.518396\tvl's binary_logloss: 0.542885\n",
      "[47800]\ttr's binary_logloss: 0.518355\tvl's binary_logloss: 0.54288\n",
      "[47900]\ttr's binary_logloss: 0.518313\tvl's binary_logloss: 0.542871\n",
      "[48000]\ttr's binary_logloss: 0.518262\tvl's binary_logloss: 0.542856\n",
      "[48100]\ttr's binary_logloss: 0.518218\tvl's binary_logloss: 0.542847\n",
      "[48200]\ttr's binary_logloss: 0.518179\tvl's binary_logloss: 0.542842\n",
      "[48300]\ttr's binary_logloss: 0.518133\tvl's binary_logloss: 0.542832\n",
      "[48400]\ttr's binary_logloss: 0.518093\tvl's binary_logloss: 0.542829\n",
      "[48500]\ttr's binary_logloss: 0.518045\tvl's binary_logloss: 0.542819\n"
     ]
    },
    {
     "name": "stdout",
     "output_type": "stream",
     "text": [
      "[48600]\ttr's binary_logloss: 0.518\tvl's binary_logloss: 0.542812\n",
      "[48700]\ttr's binary_logloss: 0.517961\tvl's binary_logloss: 0.542808\n",
      "[48800]\ttr's binary_logloss: 0.517913\tvl's binary_logloss: 0.542795\n",
      "[48900]\ttr's binary_logloss: 0.517858\tvl's binary_logloss: 0.542778\n",
      "[49000]\ttr's binary_logloss: 0.517815\tvl's binary_logloss: 0.542767\n",
      "[49100]\ttr's binary_logloss: 0.51777\tvl's binary_logloss: 0.542757\n",
      "[49200]\ttr's binary_logloss: 0.517728\tvl's binary_logloss: 0.542751\n",
      "[49300]\ttr's binary_logloss: 0.51768\tvl's binary_logloss: 0.542739\n",
      "[49400]\ttr's binary_logloss: 0.51763\tvl's binary_logloss: 0.542727\n",
      "[49500]\ttr's binary_logloss: 0.517594\tvl's binary_logloss: 0.542724\n",
      "[49600]\ttr's binary_logloss: 0.517546\tvl's binary_logloss: 0.54271\n",
      "[49700]\ttr's binary_logloss: 0.517501\tvl's binary_logloss: 0.5427\n",
      "[49800]\ttr's binary_logloss: 0.517452\tvl's binary_logloss: 0.542688\n",
      "[49900]\ttr's binary_logloss: 0.517411\tvl's binary_logloss: 0.542687\n",
      "[50000]\ttr's binary_logloss: 0.517371\tvl's binary_logloss: 0.542682\n",
      "Did not meet early stopping. Best iteration is:\n",
      "[50000]\ttr's binary_logloss: 0.517371\tvl's binary_logloss: 0.542682\n",
      "CPU times: user 16d 11h 3min 1s, sys: 15d 1h 48min 51s, total: 31d 12h 51min 52s\n",
      "Wall time: 1d 16h 59min 2s\n"
     ]
    }
   ],
   "source": [
    "%%time\n",
    "dtr = lgb.Dataset(dftr[cols_feat], label=dftr[TCOL])\n",
    "dvl = lgb.Dataset(dfvl[cols_feat], label=dfvl[TCOL])\n",
    "evalres = {}\n",
    "evallist = [(dtr, 'train'), (dvl, 'eval')]\n",
    "bst = lgb.train(params=params, \n",
    "                train_set=dtr, \n",
    "                num_boost_round=50000,\n",
    "                valid_sets=[dtr, dvl],\n",
    "                valid_names=['tr','vl'],\n",
    "                verbose_eval=100,\n",
    "                early_stopping_rounds=100,\n",
    "                evals_result=evalres,\n",
    "               )\n",
    "results['bst'] = bst\n",
    "results['evalres'] = evalres"
   ]
  },
  {
   "cell_type": "markdown",
   "metadata": {},
   "source": [
    "## tr vl trajec"
   ]
  },
  {
   "cell_type": "code",
   "execution_count": 19,
   "metadata": {},
   "outputs": [
    {
     "data": {
      "image/png": "[encoded data removed]",
      "text/plain": [
       "<Figure size 432x288 with 1 Axes>"
      ]
     },
     "metadata": {
      "needs_background": "light"
     },
     "output_type": "display_data"
    }
   ],
   "source": [
    "plt.plot(evalres['tr']['binary_logloss'])\n",
    "plt.plot(evalres['vl']['binary_logloss'])\n",
    "plt.title(f\"logloss; best_iteration {bst.best_iteration}\")\n",
    "plt.show()"
   ]
  },
  {
   "cell_type": "markdown",
   "metadata": {},
   "source": [
    "## model features"
   ]
  },
  {
   "cell_type": "code",
   "execution_count": 20,
   "metadata": {},
   "outputs": [
    {
     "data": {
      "image/png": "[encoded data removed]",
      "text/plain": [
       "<Figure size 720x1080 with 1 Axes>"
      ]
     },
     "metadata": {
      "needs_background": "light"
     },
     "output_type": "display_data"
    }
   ],
   "source": [
    "ax = lgb.plot_importance(bst, height=0.8, max_num_features=50, figsize=(10,15))\n",
    "ax.grid(False, axis=\"y\")\n",
    "ax.set_title(f'Estimated feature importance')\n",
    "plt.show()"
   ]
  },
  {
   "cell_type": "code",
   "execution_count": 21,
   "metadata": {},
   "outputs": [
    {
     "data": {
      "text/html": [
       "<div>\n",
       "<style scoped>\n",
       "    .dataframe tbody tr th:only-of-type {\n",
       "        vertical-align: middle;\n",
       "    }\n",
       "\n",
       "    .dataframe tbody tr th {\n",
       "        vertical-align: top;\n",
       "    }\n",
       "\n",
       "    .dataframe thead th {\n",
       "        text-align: right;\n",
       "    }\n",
       "</style>\n",
       "<table border=\"1\" class=\"dataframe\">\n",
       "  <thead>\n",
       "    <tr style=\"text-align: right;\">\n",
       "      <th></th>\n",
       "      <th>0</th>\n",
       "      <th>1</th>\n",
       "    </tr>\n",
       "  </thead>\n",
       "  <tbody>\n",
       "    <tr>\n",
       "      <th>31</th>\n",
       "      <td>langhour</td>\n",
       "      <td>390532</td>\n",
       "    </tr>\n",
       "    <tr>\n",
       "      <th>3</th>\n",
       "      <td>u1_fllwing_cnt</td>\n",
       "      <td>130081</td>\n",
       "    </tr>\n",
       "    <tr>\n",
       "      <th>2</th>\n",
       "      <td>u1_fllwer_cnt</td>\n",
       "      <td>107200</td>\n",
       "    </tr>\n",
       "    <tr>\n",
       "      <th>29</th>\n",
       "      <td>u1_fllwer_cnt_by_age</td>\n",
       "      <td>97346</td>\n",
       "    </tr>\n",
       "    <tr>\n",
       "      <th>11</th>\n",
       "      <td>len_toks</td>\n",
       "      <td>94371</td>\n",
       "    </tr>\n",
       "    <tr>\n",
       "      <th>5</th>\n",
       "      <td>u2_fllwer_cnt</td>\n",
       "      <td>82679</td>\n",
       "    </tr>\n",
       "    <tr>\n",
       "      <th>26</th>\n",
       "      <td>twt_age</td>\n",
       "      <td>76991</td>\n",
       "    </tr>\n",
       "    <tr>\n",
       "      <th>6</th>\n",
       "      <td>u2_fllwng_cnt</td>\n",
       "      <td>71098</td>\n",
       "    </tr>\n",
       "    <tr>\n",
       "      <th>24</th>\n",
       "      <td>tmdlta_twtu1</td>\n",
       "      <td>67585</td>\n",
       "    </tr>\n",
       "    <tr>\n",
       "      <th>30</th>\n",
       "      <td>u1_fllwng_cnt_by_age</td>\n",
       "      <td>66028</td>\n",
       "    </tr>\n",
       "    <tr>\n",
       "      <th>23</th>\n",
       "      <td>tmdlta_u2u1</td>\n",
       "      <td>57282</td>\n",
       "    </tr>\n",
       "    <tr>\n",
       "      <th>25</th>\n",
       "      <td>tmdlta_twtu2</td>\n",
       "      <td>47042</td>\n",
       "    </tr>\n",
       "    <tr>\n",
       "      <th>27</th>\n",
       "      <td>u1_age</td>\n",
       "      <td>34252</td>\n",
       "    </tr>\n",
       "    <tr>\n",
       "      <th>28</th>\n",
       "      <td>u2_age</td>\n",
       "      <td>25060</td>\n",
       "    </tr>\n",
       "    <tr>\n",
       "      <th>1</th>\n",
       "      <td>lang</td>\n",
       "      <td>24160</td>\n",
       "    </tr>\n",
       "    <tr>\n",
       "      <th>0</th>\n",
       "      <td>twttyp</td>\n",
       "      <td>18999</td>\n",
       "    </tr>\n",
       "    <tr>\n",
       "      <th>21</th>\n",
       "      <td>dayofweek</td>\n",
       "      <td>17967</td>\n",
       "    </tr>\n",
       "    <tr>\n",
       "      <th>22</th>\n",
       "      <td>hour</td>\n",
       "      <td>12393</td>\n",
       "    </tr>\n",
       "    <tr>\n",
       "      <th>12</th>\n",
       "      <td>n_media_Photo</td>\n",
       "      <td>11587</td>\n",
       "    </tr>\n",
       "    <tr>\n",
       "      <th>16</th>\n",
       "      <td>n_hshtgs</td>\n",
       "      <td>11174</td>\n",
       "    </tr>\n",
       "    <tr>\n",
       "      <th>9</th>\n",
       "      <td>u1inu2</td>\n",
       "      <td>10322</td>\n",
       "    </tr>\n",
       "    <tr>\n",
       "      <th>17</th>\n",
       "      <td>has_media</td>\n",
       "      <td>6920</td>\n",
       "    </tr>\n",
       "    <tr>\n",
       "      <th>10</th>\n",
       "      <td>u2inu1</td>\n",
       "      <td>6534</td>\n",
       "    </tr>\n",
       "    <tr>\n",
       "      <th>15</th>\n",
       "      <td>has_hshtgs</td>\n",
       "      <td>6501</td>\n",
       "    </tr>\n",
       "    <tr>\n",
       "      <th>19</th>\n",
       "      <td>has_domns</td>\n",
       "      <td>6423</td>\n",
       "    </tr>\n",
       "    <tr>\n",
       "      <th>4</th>\n",
       "      <td>u1_vrfed</td>\n",
       "      <td>5748</td>\n",
       "    </tr>\n",
       "    <tr>\n",
       "      <th>13</th>\n",
       "      <td>n_media_Video</td>\n",
       "      <td>5086</td>\n",
       "    </tr>\n",
       "    <tr>\n",
       "      <th>8</th>\n",
       "      <td>u1_fllw_u2</td>\n",
       "      <td>4794</td>\n",
       "    </tr>\n",
       "    <tr>\n",
       "      <th>14</th>\n",
       "      <td>n_media_GIF</td>\n",
       "      <td>1481</td>\n",
       "    </tr>\n",
       "    <tr>\n",
       "      <th>20</th>\n",
       "      <td>n_domns</td>\n",
       "      <td>1352</td>\n",
       "    </tr>\n",
       "    <tr>\n",
       "      <th>18</th>\n",
       "      <td>n_media</td>\n",
       "      <td>696</td>\n",
       "    </tr>\n",
       "    <tr>\n",
       "      <th>7</th>\n",
       "      <td>u2_vrfed</td>\n",
       "      <td>316</td>\n",
       "    </tr>\n",
       "  </tbody>\n",
       "</table>\n",
       "</div>"
      ],
      "text/plain": [
       "                       0       1\n",
       "31              langhour  390532\n",
       "3         u1_fllwing_cnt  130081\n",
       "2          u1_fllwer_cnt  107200\n",
       "29  u1_fllwer_cnt_by_age   97346\n",
       "11              len_toks   94371\n",
       "5          u2_fllwer_cnt   82679\n",
       "26               twt_age   76991\n",
       "6          u2_fllwng_cnt   71098\n",
       "24          tmdlta_twtu1   67585\n",
       "30  u1_fllwng_cnt_by_age   66028\n",
       "23           tmdlta_u2u1   57282\n",
       "25          tmdlta_twtu2   47042\n",
       "27                u1_age   34252\n",
       "28                u2_age   25060\n",
       "1                   lang   24160\n",
       "0                 twttyp   18999\n",
       "21             dayofweek   17967\n",
       "22                  hour   12393\n",
       "12         n_media_Photo   11587\n",
       "16              n_hshtgs   11174\n",
       "9                 u1inu2   10322\n",
       "17             has_media    6920\n",
       "10                u2inu1    6534\n",
       "15            has_hshtgs    6501\n",
       "19             has_domns    6423\n",
       "4               u1_vrfed    5748\n",
       "13         n_media_Video    5086\n",
       "8             u1_fllw_u2    4794\n",
       "14           n_media_GIF    1481\n",
       "20               n_domns    1352\n",
       "18               n_media     696\n",
       "7               u2_vrfed     316"
      ]
     },
     "execution_count": 21,
     "metadata": {},
     "output_type": "execute_result"
    }
   ],
   "source": [
    "pd.DataFrame([bst.feature_name(), bst.feature_importance()]).T.sort_values(1, ascending=False)"
   ]
  },
  {
   "cell_type": "code",
   "execution_count": 22,
   "metadata": {},
   "outputs": [
    {
     "data": {
      "text/plain": [
       "[('langhour', 390532),\n",
       " ('u1_fllwing_cnt', 130081),\n",
       " ('u1_fllwer_cnt', 107200),\n",
       " ('u1_fllwer_cnt_by_age', 97346),\n",
       " ('len_toks', 94371),\n",
       " ('u2_fllwer_cnt', 82679),\n",
       " ('twt_age', 76991),\n",
       " ('u2_fllwng_cnt', 71098),\n",
       " ('tmdlta_twtu1', 67585),\n",
       " ('u1_fllwng_cnt_by_age', 66028),\n",
       " ('tmdlta_u2u1', 57282),\n",
       " ('tmdlta_twtu2', 47042),\n",
       " ('u1_age', 34252),\n",
       " ('u2_age', 25060),\n",
       " ('lang', 24160),\n",
       " ('twttyp', 18999),\n",
       " ('dayofweek', 17967),\n",
       " ('hour', 12393),\n",
       " ('n_media_Photo', 11587),\n",
       " ('n_hshtgs', 11174),\n",
       " ('u1inu2', 10322),\n",
       " ('has_media', 6920),\n",
       " ('u2inu1', 6534),\n",
       " ('has_hshtgs', 6501),\n",
       " ('has_domns', 6423),\n",
       " ('u1_vrfed', 5748),\n",
       " ('n_media_Video', 5086),\n",
       " ('u1_fllw_u2', 4794),\n",
       " ('n_media_GIF', 1481),\n",
       " ('n_domns', 1352),\n",
       " ('n_media', 696),\n",
       " ('u2_vrfed', 316)]"
      ]
     },
     "execution_count": 22,
     "metadata": {},
     "output_type": "execute_result"
    }
   ],
   "source": [
    "col2imp = dict(zip(bst.feature_name(), bst.feature_importance()))\n",
    "sorted(col2imp.items(), key=lambda x: -x[1])"
   ]
  },
  {
   "cell_type": "code",
   "execution_count": 23,
   "metadata": {},
   "outputs": [
    {
     "data": {
      "text/plain": [
       "['langhour',\n",
       " 'u1_fllwing_cnt',\n",
       " 'u1_fllwer_cnt',\n",
       " 'u1_fllwer_cnt_by_age',\n",
       " 'len_toks',\n",
       " 'u2_fllwer_cnt',\n",
       " 'twt_age',\n",
       " 'u2_fllwng_cnt',\n",
       " 'tmdlta_twtu1',\n",
       " 'u1_fllwng_cnt_by_age',\n",
       " 'tmdlta_u2u1',\n",
       " 'tmdlta_twtu2',\n",
       " 'u1_age',\n",
       " 'u2_age',\n",
       " 'lang',\n",
       " 'twttyp',\n",
       " 'dayofweek',\n",
       " 'hour',\n",
       " 'n_media_Photo',\n",
       " 'n_hshtgs',\n",
       " 'u1inu2',\n",
       " 'has_media',\n",
       " 'u2inu1',\n",
       " 'has_hshtgs',\n",
       " 'has_domns',\n",
       " 'u1_vrfed',\n",
       " 'n_media_Video',\n",
       " 'u1_fllw_u2',\n",
       " 'n_media_GIF',\n",
       " 'n_domns',\n",
       " 'n_media',\n",
       " 'u2_vrfed']"
      ]
     },
     "execution_count": 23,
     "metadata": {},
     "output_type": "execute_result"
    }
   ],
   "source": [
    "[o[0] for o in sorted(col2imp.items(), key=lambda x: -x[1]) if o[1]>0]"
   ]
  },
  {
   "cell_type": "code",
   "execution_count": null,
   "metadata": {},
   "outputs": [],
   "source": []
  },
  {
   "cell_type": "markdown",
   "metadata": {},
   "source": [
    "# eval"
   ]
  },
  {
   "cell_type": "code",
   "execution_count": 24,
   "metadata": {},
   "outputs": [
    {
     "name": "stdout",
     "output_type": "stream",
     "text": [
      "CPU times: user 10d 4h 38min 39s, sys: 4h 52min 1s, total: 10d 9h 30min 40s\n",
      "Wall time: 15h 4min 29s\n"
     ]
    }
   ],
   "source": [
    "%%time\n",
    "prdtr = bst.predict(dftr[cols_feat],num_iteration=bst.best_iteration)\n",
    "prdvl = bst.predict(dfvl[cols_feat],num_iteration=bst.best_iteration)\n",
    "prdval0 = bst.predict(dfval[cols_feat],num_iteration=bst.best_iteration)\n",
    "prdval = calibration(prdval0, train_pop, target_pop, sampled_train_pop, sampled_target_pop)"
   ]
  },
  {
   "cell_type": "code",
   "execution_count": 25,
   "metadata": {},
   "outputs": [
    {
     "name": "stdout",
     "output_type": "stream",
     "text": [
      "CPU times: user 5min 38s, sys: 26.4 s, total: 6min 4s\n",
      "Wall time: 4min 29s\n"
     ]
    }
   ],
   "source": [
    "%%time\n",
    "ytr,yvl,yval=[df[TCOL].values for df in (dftr,dfvl,dfval)]\n",
    "\n",
    "auc_tr=compute_prauc(prdtr, ytr)\n",
    "rce_tr=compute_rce(prdtr, ytr)\n",
    "auc_vl=compute_prauc(prdvl, yvl)\n",
    "rce_vl=compute_rce(prdvl, yvl)\n",
    "auc_val=compute_prauc(prdval, yval)\n",
    "rce_val=compute_rce(prdval, yval)\n",
    "\n",
    "results['scrs'] = {}\n",
    "results['scrs']['auc_tr']=auc_tr\n",
    "results['scrs']['rce_tr']=rce_tr\n",
    "results['scrs']['auc_vl']=auc_vl\n",
    "results['scrs']['rce_vl']=rce_vl\n",
    "results['scrs']['auc_val']=auc_val\n",
    "results['scrs']['rce_val']=rce_val"
   ]
  },
  {
   "cell_type": "code",
   "execution_count": 26,
   "metadata": {},
   "outputs": [
    {
     "name": "stdout",
     "output_type": "stream",
     "text": [
      "auc_tr:  0.7792\n",
      "auc_vl:  0.7470\n",
      "auc_val: 0.7338\n",
      "\n",
      "rce_tr:  24.5511\n",
      "rce_vl:  20.8699\n",
      "rce_val: 18.2880\n"
     ]
    }
   ],
   "source": [
    "print(f'auc_tr:  {auc_tr:.4f}')\n",
    "print(f'auc_vl:  {auc_vl:.4f}')\n",
    "print(f'auc_val: {auc_val:.4f}')\n",
    "print()\n",
    "print(f'rce_tr:  {rce_tr:.4f}')\n",
    "print(f'rce_vl:  {rce_vl:.4f}')\n",
    "print(f'rce_val: {rce_val:.4f}')"
   ]
  },
  {
   "cell_type": "markdown",
   "metadata": {},
   "source": [
    "## score"
   ]
  },
  {
   "cell_type": "code",
   "execution_count": 27,
   "metadata": {},
   "outputs": [
    {
     "name": "stdout",
     "output_type": "stream",
     "text": [
      "-0.7338-18.2880\n"
     ]
    }
   ],
   "source": [
    "print(f'-{auc_val:.4f}-{rce_val:.4f}')"
   ]
  },
  {
   "cell_type": "markdown",
   "metadata": {},
   "source": [
    "# save results"
   ]
  },
  {
   "cell_type": "code",
   "execution_count": 28,
   "metadata": {},
   "outputs": [],
   "source": [
    "pickle.dump(results, open(f'{p_out}/results_{PRFX}.p', 'wb'))"
   ]
  },
  {
   "cell_type": "markdown",
   "metadata": {},
   "source": [
    "# infer"
   ]
  },
  {
   "cell_type": "code",
   "execution_count": 29,
   "metadata": {},
   "outputs": [],
   "source": [
    "results = pickle.load( open(f'{p_out}/results_{PRFX}.p', 'rb'))\n",
    "bst = results['bst']\n",
    "cols_feat = results['cols_feat']"
   ]
  },
  {
   "cell_type": "markdown",
   "metadata": {},
   "source": [
    "## prep"
   ]
  },
  {
   "cell_type": "code",
   "execution_count": 30,
   "metadata": {},
   "outputs": [
    {
     "name": "stdout",
     "output_type": "stream",
     "text": [
      "CPU times: user 1min 21s, sys: 0 ns, total: 1min 21s\n",
      "Wall time: 1min 30s\n"
     ]
    }
   ],
   "source": [
    "%%time\n",
    "dftst=pd.read_csv(\n",
    "    f'{p_in}/val_{tsttmstmp}.tsv',\n",
    "    sep='\\x01', header=None, names=cols_val, \n",
    "#     nrows=10\n",
    ")"
   ]
  },
  {
   "cell_type": "code",
   "execution_count": 31,
   "metadata": {},
   "outputs": [
    {
     "data": {
      "text/plain": [
       "(12434735, 20)"
      ]
     },
     "execution_count": 31,
     "metadata": {},
     "output_type": "execute_result"
    }
   ],
   "source": [
    "dftst.shape"
   ]
  },
  {
   "cell_type": "code",
   "execution_count": 32,
   "metadata": {
    "scrolled": false
   },
   "outputs": [
    {
     "name": "stdout",
     "output_type": "stream",
     "text": [
      "2020-05-30 11:23:46 start\n",
      "2020-05-30 11:27:47 done\n",
      "CPU times: user 4min 58s, sys: 55.3 s, total: 5min 53s\n",
      "Wall time: 4min 1s\n"
     ]
    }
   ],
   "source": [
    "%%time\n",
    "dftst=prp_df(dftst, tm_max=tm_tst_max)"
   ]
  },
  {
   "cell_type": "code",
   "execution_count": 33,
   "metadata": {},
   "outputs": [],
   "source": [
    "dftst.drop(columns=['u1id','u1u2'], inplace=True)\n",
    "cols_category=['twttyp', 'lang', 'langhour']\n",
    "dftst[cols_category]=dftst[cols_category].astype('category')"
   ]
  },
  {
   "cell_type": "markdown",
   "metadata": {},
   "source": [
    "## predict"
   ]
  },
  {
   "cell_type": "code",
   "execution_count": 34,
   "metadata": {},
   "outputs": [
    {
     "name": "stdout",
     "output_type": "stream",
     "text": [
      "CPU times: user 1d 12h 8min 30s, sys: 1h 54min 8s, total: 1d 14h 2min 39s\n",
      "Wall time: 1h 14min 39s\n"
     ]
    }
   ],
   "source": [
    "%%time\n",
    "prdtst0 = bst.predict(dftst[cols_feat],num_iteration=bst.best_iteration)\n",
    "prdtst = calibration(prdtst0, train_pop, target_pop, sampled_train_pop, sampled_target_pop)"
   ]
  },
  {
   "cell_type": "code",
   "execution_count": 35,
   "metadata": {},
   "outputs": [],
   "source": [
    "dfsub_ids = dftst[['twtid','u2id',]]\n",
    "dfsub = dfsub_ids.copy()\n",
    "dfsub['scr'] = prdtst\n",
    "dfsub.to_csv(f'{p_out}/{TGT}__{PRFX}.csv',index=False,header=False)"
   ]
  },
  {
   "cell_type": "code",
   "execution_count": null,
   "metadata": {},
   "outputs": [],
   "source": []
  }
 ],
 "metadata": {
  "kernelspec": {
   "display_name": "rcss20",
   "language": "python",
   "name": "rcss20"
  },
  "language_info": {
   "codemirror_mode": {
    "name": "ipython",
    "version": 3
   },
   "file_extension": ".py",
   "mimetype": "text/x-python",
   "name": "python",
   "nbconvert_exporter": "python",
   "pygments_lexer": "ipython3",
   "version": "3.7.6"
  },
  "toc": {
   "base_numbering": 1,
   "nav_menu": {},
   "number_sections": true,
   "sideBar": true,
   "skip_h1_title": false,
   "title_cell": "Table of Contents",
   "title_sidebar": "Contents",
   "toc_cell": false,
   "toc_position": {},
   "toc_section_display": true,
   "toc_window_display": true
  }
 },
 "nbformat": 4,
 "nbformat_minor": 4
}
