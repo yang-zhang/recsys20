{
 "cells": [
  {
   "cell_type": "markdown",
   "metadata": {},
   "source": [
    "# start"
   ]
  },
  {
   "cell_type": "markdown",
   "metadata": {},
   "source": [
    "- https://medium.com/optuna/lightgbm-tuner-new-optuna-integration-for-hyperparameter-optimization-8b7095e99258\n",
    "- https://github.com/optuna/optuna/blob/master/examples/lightgbm_tuner_simple.py"
   ]
  },
  {
   "cell_type": "code",
   "execution_count": 1,
   "metadata": {},
   "outputs": [
    {
     "name": "stdout",
     "output_type": "stream",
     "text": [
      "['2020-03-17 02:32:24', '2020-03-24 17:09:45']\n",
      "['2020-02-06 00:00:00', '2020-02-13 00:00:00']\n"
     ]
    }
   ],
   "source": [
    "PRFX='0324_1'\n",
    "trntmstmp=1584412344\n",
    "valtmstmp=1585069785\n",
    "import datetime\n",
    "print([datetime.datetime.fromtimestamp(o).strftime('%Y-%m-%d %H:%M:%S') for o in (trntmstmp, valtmstmp)])\n",
    "\n",
    "grand_total=1.5e8\n",
    "MIN_TM_TRN=1580947200\n",
    "MIN_TM_TST=1581552000\n",
    "print([datetime.datetime.fromtimestamp(o).strftime('%Y-%m-%d %H:%M:%S') for o in (MIN_TM_TRN, MIN_TM_TST)])\n",
    "\n",
    "\n",
    "CHNKSZ=1e4#1e6\n",
    "POST_RATE_WANTED=0.1"
   ]
  },
  {
   "cell_type": "markdown",
   "metadata": {},
   "source": [
    "# setup"
   ]
  },
  {
   "cell_type": "code",
   "execution_count": 13,
   "metadata": {
    "scrolled": true
   },
   "outputs": [
    {
     "data": {
      "text/plain": [
       "20"
      ]
     },
     "execution_count": 13,
     "metadata": {},
     "output_type": "execute_result"
    }
   ],
   "source": [
    "import optuna\n",
    "optuna.logging.get_verbosity()"
   ]
  },
  {
   "cell_type": "code",
   "execution_count": null,
   "metadata": {},
   "outputs": [],
   "source": [
    "optuna.logging.set_verbosity(0)"
   ]
  },
  {
   "cell_type": "code",
   "execution_count": 2,
   "metadata": {
    "scrolled": true
   },
   "outputs": [
    {
     "data": {
      "text/plain": [
       "{'Retweet': 'retwt',\n",
       " 'Reply': 'reply',\n",
       " 'Like': 'like',\n",
       " 'RTwCmnt': 'retwt_cmmnt'}"
      ]
     },
     "execution_count": 2,
     "metadata": {},
     "output_type": "execute_result"
    }
   ],
   "source": [
    "from pathlib import Path\n",
    "# import dask\n",
    "# print('dask.__version__', dask.__version__)\n",
    "import xgboost as xgb\n",
    "# import lightgbm as lgb\n",
    "import optuna.integration.lightgbm as lgb\n",
    "# import dask_xgboost\n",
    "# import dask.dataframe as dd\n",
    "from sklearn.model_selection import train_test_split\n",
    "import pandas as pd\n",
    "import numpy as np\n",
    "import matplotlib.pyplot as plt\n",
    "from sklearn.metrics import accuracy_score, roc_auc_score, roc_curve, auc, precision_recall_curve\n",
    "from dask.distributed import Client\n",
    "import pickle\n",
    "from tqdm import tqdm\n",
    "from collections import Counter\n",
    "pd.set_option('display.max_rows', 500)\n",
    "\n",
    "from functools import reduce\n",
    "import datetime\n",
    "def dtnow(): return datetime.datetime.now().strftime('%Y-%m-%d %H:%M:%S')\n",
    "\n",
    "SEED=101\n",
    "HOME='/data/git/recsys20'\n",
    "p_in=f'{HOME}/input'\n",
    "p_out=f'{HOME}/output/{PRFX}'\n",
    "Path(p_out).mkdir(exist_ok=True, parents=True)\n",
    "\n",
    "from sklearn.metrics import precision_recall_curve, auc, log_loss\n",
    "\n",
    "def compute_prauc(pred, gt):\n",
    "    prec, recall, thresh = precision_recall_curve(gt, pred)\n",
    "    prauc = auc(recall, prec)\n",
    "    return prauc\n",
    "\n",
    "def calculate_ctr(gt):\n",
    "    positive = len([x for x in gt if x == 1])\n",
    "    ctr = positive/float(len(gt))\n",
    "    return ctr\n",
    "\n",
    "def compute_rce(pred, gt):\n",
    "    cross_entropy = log_loss(gt, pred)\n",
    "    data_ctr = calculate_ctr(gt)\n",
    "    strawman_cross_entropy = log_loss(gt, [data_ctr for _ in range(len(gt))])\n",
    "    return (1.0 - cross_entropy/strawman_cross_entropy)*100.0\n",
    "\n",
    "# https://towardsdatascience.com/how-to-calibrate-undersampled-model-scores-8f3319c1ea5b\n",
    "# How to use the function?\n",
    "# Let’s say your goal is to generate a model that shows the credit default probabilities and your original \n",
    "# training data has 50,000 rows with only 500 of them labeled as target class. When you sample your non-target \n",
    "# instances randomly and reduce the total row count to 10,000, while conserving 500 target rows, our calibration\n",
    "# function becomes:\n",
    "# calibration(model_results, 50000, 500, 10000, 500)\n",
    "# Here model_results is your model probability output array. After you train your model and put the results in it, your function is ready to use. \n",
    "\n",
    "def calibration(data, train_pop, target_pop, sampled_train_pop, sampled_target_pop):\n",
    "    calibrated_data = \\\n",
    "    ((data * (target_pop / train_pop) / (sampled_target_pop / sampled_train_pop)) /\n",
    "    ((\n",
    "        (1 - data) * (1 - target_pop / train_pop) / (1 - sampled_target_pop / sampled_train_pop)\n",
    "     ) +\n",
    "     (\n",
    "        data * (target_pop / train_pop) / (sampled_target_pop / sampled_train_pop)\n",
    "     )))\n",
    "\n",
    "    return calibrated_data\n",
    "\n",
    "cols=[\n",
    "'toks',\n",
    "'hshtgs',\n",
    "'twtid',\n",
    "'media',\n",
    "'links',\n",
    "'domns',\n",
    "'twttyp',\n",
    "'lang',\n",
    "'tm',\n",
    "\n",
    "'u1id',\n",
    "'u1_fllwer_cnt',\n",
    "'u1_fllwng_cnt',\n",
    "'u1_vrfed',\n",
    "'u1_create_tm',\n",
    "\n",
    "'u2id',\n",
    "'u2_fllwer_cnt',\n",
    "'u2_fllwng_cnt',\n",
    "'u2_vrfed',\n",
    "'u2_create_tm',\n",
    "\n",
    "'u1_fllw_u2',\n",
    "'reply_tm',\n",
    "'retwt_tm',\n",
    "'retwt_cmmnt_tm',\n",
    "'like_tm',\n",
    "]\n",
    "\n",
    "cols_val = cols[:-4]\n",
    "cols_tgt_tmstmp=[\n",
    "    'retwt_tm',\n",
    "    'reply_tm',\n",
    "    'like_tm',\n",
    "    'retwt_cmmnt_tm',\n",
    "]\n",
    "cols_tgt=[o.split('_tm')[0] for o in cols_tgt_tmstmp]\n",
    "tgts             = ['Retweet','Reply','Like','RTwCmnt',]\n",
    "assert cols_tgt == ['retwt',  'reply','like','retwt_cmmnt',]\n",
    "ntgts=len(tgts)\n",
    "\n",
    "tgt2col=dict(zip(tgts,cols_tgt))\n",
    "tgt2col"
   ]
  },
  {
   "cell_type": "markdown",
   "metadata": {},
   "source": [
    "# prepare data"
   ]
  },
  {
   "cell_type": "markdown",
   "metadata": {},
   "source": [
    "## get maps from test set"
   ]
  },
  {
   "cell_type": "code",
   "execution_count": 3,
   "metadata": {},
   "outputs": [],
   "source": [
    "# dfval=dd.read_csv(\n",
    "#     f'{p_in}/val_{valtmstmp}.tsv',\n",
    "#     sep='\\x01', header=None, names=cols_val,)\n",
    "# lang2cnt=dict(dfval.lang.value_counts().compute())\n",
    "# ttl=sum(lang2cnt.values())\n",
    "# lang2perc={k:v/ttl for k,v in lang2cnt.items()}\n",
    "langs=['D3164C7FBCF2565DDF915B1B3AEFB1DC', '22C448FF81263D4BAF2A176145EE9EAD', '06D61DCBBE938971E1EA0C38BD9B5446', 'ECED8A16BE2A5E8871FD55F4842F16B1', 'B9175601E87101A984A50F8A62A1C374', '4DC22C3F31C5C43721E6B5815A595ED6', '167115458A0DBDFF7E9C0C53A83BAC9B', '125C57F4FA6D4E110983FB11B52EFD4E', '022EC308651FACB02794A8147AEE1B78', 'FA3F382BC409C271E3D6EAF8BE4648DD', '9BF3403E0EB7EA8A256DA9019C0B0716', '975B38F44D65EE42A547283787FF5A21', '2996EB2FE8162C076D070A4C8D6532CD', 'FF60A88F53E63000266F8B9149E35AD9', '717293301FE296B0B61950D041485825', '3E16B11B7ADE3A22DDFC4423FBCEAD5D', '3820C29CBCA409A33BADF68852057C4A', '9ECD42BC079C20F156F53CB3B99E600E', '76B8A9C3013AE6414A3E6012413CDC3B', 'AEF22666801F0A5846D853B9CEB2E327', '190BA7DA361BC06BC1D7E824C378064D', '1FFD2FE4297F5E70EBC6C3230D95CB9C', 'A0C7021AD8299ADF0C9EBE326C115F6F', 'D413F5FE5236E5650A46FD983AB39212', '48236EC80FDDDFADE99420ABC9210DDF', '691890251F2B9FF922BE6D3699ABEFD2', '920502FAA080485768AA89BC96A55C47', '0331BF70E606D62D92C96CE9AD71A7CF', '89616CFF8EC8637092F885C7EFF43D74', '06BEAB41D66CCFF329D1ED8BA120A6C2', '60FBA0E834CC59D647C3599AD763FFDF', 'C7A400D9AD489ACF673CF12FBB80AAE5', 'E59EF8BB86A6D815331DDF4C467CE0C7', '4249CE88433AEA3F8DCEECF008B3CB95', '544FA32458C903F1125FE6598300A047', 'CB11E9CF42BD0A1BAD5E27BF3422D99D', '3A85BCEC571C3F5AB1069E4924189177', 'FF7EABB5A382356D54D9C41BA0125E09', 'E7BB61D2A87C1E72DF1C7BC292B86A1C', '69C4A33B9AD29AF883D60BA61CC08702', 'F4FD40A716F1572C9A28E9CAA58BE3A5', '259A6F6DFD672CB1F883CBEC01B99F2D', '6431A618DCF7F4CB7F62A95A39BAB77A', '3121F7240D488F74EEED9312E174B217', '54208B51D44E7D91DC2F3DD02ADEDEC2', 'DBEEFB80F8A314311E2B4BD593E11DFE', 'B6D90127A09AB1229731898AEF9D4D7C', 'F3E1016563360F9434FA986CA86C249C', '2216D01F7B48554E4211021A46816FCF', '1BC639981AE88E09129594B11F894A21', 'C942E369C88CE7C56E69A84D04319FF0', '57ADD4576E2AD6648E9B2DE32F3462A5', 'AC1F0671A4B0D5B8112F87DE7B490E6D', 'C2EF5FABE7619D8A333D5F0FF76E1BFA', 'AA0254541959271ED3453119B787D0C3', 'A6B70CDF8C7B934D4A218CA9B6B7FDB4', 'BF477808A37E3E4E9C5D9F1839E8519E', '97F81BD92A1ACA3F1F43C154E689350F', '60A3DB168094D41241E45E0DE3539BC0', '12D8CEB94F89D11D7EB95EAE9689B009', 'F73266A79468BB89C4325FDEDB0B533C', '4690215948DBF6872B8ED1C2BC87B17E', 'D18801336202297E6484F634CAC6592E', '2E18F6F53E3CF073911AF0A93BBE5373', 'B2235C8B73239FDC5780DD132419833A', '515E873C86EE1577E75FA2387B7FA59E',]\n",
    "\n",
    "# dfval.twttyp.value_counts().compute()\n",
    "# TopLevel    2932\n",
    "# Retweet      994\n",
    "# Quote        213\n",
    "twttyps=['TopLevel','Retweet','Quote']"
   ]
  },
  {
   "cell_type": "markdown",
   "metadata": {},
   "source": [
    "## prep func"
   ]
  },
  {
   "cell_type": "code",
   "execution_count": 4,
   "metadata": {},
   "outputs": [],
   "source": [
    "def prp_df(df, istrn=True):\n",
    "    tm_min = MIN_TM_TRN if istrn else MIN_TM_TST\n",
    "    df['len_toks'] = df.toks.apply(len)\n",
    "    for media in ['Photo', 'Video', 'GIF']:\n",
    "        df[f'has_media_{media}'] = df.media.fillna('').apply(lambda x: media in x)\n",
    "    for col in ['hshtgs', 'links', 'domns',]:\n",
    "        df[f'num_{col}'] = df[col].fillna('').apply(lambda x: len(x.split('\\t')) if len(x) else 0)\n",
    "    \n",
    "    df['twt_age'] = df.tm - tm_min\n",
    "    df['u1_age']  = df.tm - df.u1_create_tm\n",
    "    df['u2_age']  = df.tm - df.u2_create_tm\n",
    "        \n",
    "    tm_dt=pd.to_datetime(df.tm, unit='s')\n",
    "    df['tm_dayofweek']=tm_dt.dt.dayofweek\n",
    "    df['tm_hour']=tm_dt.dt.hour\n",
    "    \n",
    "    df['tmdlta_u2u1']  = df.u2_create_tm - df.u1_create_tm\n",
    "    \n",
    "    df['u1_fllwer_cnt_by_age'] = df.u1_fllwer_cnt / df.u1_age\n",
    "    df['u1_fllwng_cnt_by_age'] = df.u2_fllwng_cnt / df.u2_age\n",
    "    \n",
    "    for typ in twttyps:\n",
    "        df[f'twttyp_{typ}']=(df.twttyp==typ).astype('int8')\n",
    "\n",
    "    for lang in langs:\n",
    "        df[f'lang_{lang}']=(df.lang==lang).astype('int8')\n",
    "    if istrn: \n",
    "        df[cols_tgt]=df[cols_tgt_tmstmp].notna().astype('int8')\n",
    "        df.drop(inplace=True, columns=['toks', 'hshtgs', 'media', 'links', 'domns', 'twttyp', 'lang', \n",
    "                                       'tm', 'u1_create_tm','u2_create_tm', 'u1id', 'u2id', 'twtid', ]+cols_tgt_tmstmp, )\n",
    "    else:\n",
    "        df.drop(inplace=True, columns=['toks', 'hshtgs', 'media', 'links', 'domns', 'twttyp', 'lang', \n",
    "                                       'tm', 'u1_create_tm','u2_create_tm', 'u1id', ])        \n",
    "    return df"
   ]
  },
  {
   "cell_type": "raw",
   "metadata": {
    "scrolled": true
   },
   "source": [
    "ls -hlS $p_in | grep {trntmstmp} "
   ]
  },
  {
   "cell_type": "code",
   "execution_count": 5,
   "metadata": {
    "scrolled": false
   },
   "outputs": [
    {
     "data": {
      "text/plain": [
       "(150000000.0, 15000.0)"
      ]
     },
     "execution_count": 5,
     "metadata": {},
     "output_type": "execute_result"
    }
   ],
   "source": [
    "grand_total, grand_total/CHNKSZ"
   ]
  },
  {
   "cell_type": "markdown",
   "metadata": {},
   "source": [
    "## valid data"
   ]
  },
  {
   "cell_type": "code",
   "execution_count": 6,
   "metadata": {},
   "outputs": [
    {
     "name": "stdout",
     "output_type": "stream",
     "text": [
      "2020-03-24 13:57:42 chunk 0\n",
      "['2020-02-06 00:00:02', '2020-02-12 23:59:01']\n"
     ]
    }
   ],
   "source": [
    "chnks_trn = pd.read_csv(f'{p_in}/trn_{trntmstmp}.tsv',sep='\\x01',\n",
    "                    header=None,names=cols, \n",
    "                        chunksize=CHNKSZ)\n",
    "# first chunk as validate data\n",
    "for ichnk,df in enumerate(chnks_trn):\n",
    "    print(dtnow(), 'chunk', ichnk)\n",
    "    print([datetime.datetime.fromtimestamp(o).strftime('%Y-%m-%d %H:%M:%S') \n",
    "           for o in (df.tm.min(), df.tm.max())])\n",
    "    dfvalid = prp_df(df)\n",
    "    break\n",
    "dfvalid.shape\n",
    "\n",
    "cols_feat=[o for o in dfvalid.columns if o not in cols_tgt]\n",
    "\n",
    "# Xvl,yvl=dfvl[cols_feat],dfvl[cols_tgt]"
   ]
  },
  {
   "cell_type": "markdown",
   "metadata": {},
   "source": [
    "## trnval data func"
   ]
  },
  {
   "cell_type": "code",
   "execution_count": 7,
   "metadata": {},
   "outputs": [],
   "source": [
    "def getdftrvl(tgt):\n",
    "    print(tgt)\n",
    "    tgtcol=tgt2col[tgt]\n",
    "    chnks_trn = pd.read_csv(f'{p_in}/trn_{trntmstmp}.tsv',sep='\\x01',\n",
    "                        header=None,names=cols, \n",
    "                            chunksize=CHNKSZ)\n",
    "    len_df_wanted = int(CHNKSZ)\n",
    "    # retwt          0.113031\n",
    "    # reply          0.027488\n",
    "    # like           0.439499\n",
    "    # retwt_cmmnt    0.007742\n",
    "    pos_rate_wanted = POST_RATE_WANTED\n",
    "    n_pos_wanted = int(len_df_wanted*pos_rate_wanted)\n",
    "    print('n_pos_wanted', n_pos_wanted)\n",
    "    np.random.seed(SEED)\n",
    "    lst_df = []\n",
    "    n_pos_ttl = 0\n",
    "    for ichnk,df in enumerate(chnks_trn):\n",
    "        #skip first chunk (it was validate data)\n",
    "        if ichnk==0: continue\n",
    "        print(dtnow(), 'chunk', ichnk)\n",
    "        df = prp_df(df)\n",
    "        n_pos_ttl+= df[tgtcol].sum()\n",
    "        lst_df.append(df)\n",
    "        if n_pos_ttl>=n_pos_wanted: break\n",
    "\n",
    "    df = pd.concat(lst_df)\n",
    "    df.reset_index(drop=True,inplace=True)\n",
    "\n",
    "\n",
    "    # https://stackoverflow.com/questions/28556942/pandas-remove-rows-at-random-without-shuffling-dataset\n",
    "    idx_neg=np.where(df[tgtcol]==0)[0]\n",
    "    n_neg = len(idx_neg)\n",
    "    n_pos = len(df)-len(idx_neg)\n",
    "    n_neg2keep = len_df_wanted-n_pos\n",
    "    n_neg2rmv = n_neg-n_neg2keep\n",
    "    idx_neg2rmv = np.random.choice(idx_neg, n_neg2rmv, replace=False)\n",
    "    dftrvl = df.drop(idx_neg2rmv)\n",
    "    dftrvl = dftrvl.sample(len(dftrvl))\n",
    "    print('dftrvl.shape:',dftrvl.shape,'dftrvl[tgtcol].mean():',dftrvl[tgtcol].mean())\n",
    "\n",
    "    pops={\n",
    "        'train_pop':len(df),\n",
    "        'target_pop':n_pos,\n",
    "        'sampled_train_pop':len_df_wanted,\n",
    "        'sampled_target_pop':n_pos,\n",
    "    }\n",
    "    print(pops)\n",
    "    return dftrvl, pops"
   ]
  },
  {
   "cell_type": "markdown",
   "metadata": {},
   "source": [
    "# model"
   ]
  },
  {
   "cell_type": "code",
   "execution_count": 8,
   "metadata": {},
   "outputs": [],
   "source": [
    "def train(params,dtr,dvl):\n",
    "    print(params)\n",
    "    best_params, tuning_history = dict(), list()\n",
    "#     evals_result = {}\n",
    "    evallist = [(dtr, 'train'), (dvl, 'eval')]\n",
    "    bst = lgb.train(params=params, \n",
    "                    train_set=dtr, \n",
    "                    valid_sets=[dtr, dvl],\n",
    "                    best_params=best_params,\n",
    "                    tuning_history=tuning_history,\n",
    "                    verbose_eval=100,\n",
    "                    early_stopping_rounds=100,\n",
    "#                     num_boost_round=10,#1000, \n",
    "#                     evals_result=evals_result, \n",
    "#                     verbose_eval=5,\n",
    "#                     early_stopping_rounds=5\n",
    "                   )\n",
    "                    \n",
    "    return bst,best_params,tuning_history\n",
    "\n",
    "def valid(bst,dftr,dfvl):\n",
    "#     prdtr = bst.predict(dtr, ntree_limit=bst.best_ntree_limit)\n",
    "#     prdvl = bst.predict(dvl, ntree_limit=bst.best_ntree_limit)\n",
    "    prdtr = bst.predict(dftr[cols_feat],num_iteration=bst.best_iteration)\n",
    "    prdvl = bst.predict(dfvl[cols_feat],num_iteration=bst.best_iteration)\n",
    "    return prdtr,prdvl\n",
    "\n",
    "def do_tgt(tgt):\n",
    "    params=tgt2params[tgt]\n",
    "    tgtcol=tgt2col[tgt]\n",
    "    dftrvl, pops=getdftrvl(tgt)\n",
    "    split=int(len(dftrvl)*0.85)\n",
    "    dftr,dfvl=dftrvl[:split],dftrvl[split:]\n",
    "    dtr = lgb.Dataset(dftr[cols_feat], label=dftr[tgtcol])\n",
    "    dvl = lgb.Dataset(dfvl[cols_feat], label=dfvl[tgtcol])\n",
    "    bst,best_params,tuning_history=train(params,dtr,dvl)\n",
    "    prdtr,prdvl=valid(bst,dftr,dfvl)\n",
    "    \n",
    "    tgt2bst[tgt]=bst\n",
    "#     tgt2evalres[tgt]=evals_result\n",
    "    tgt2best_params[tgt]=best_params\n",
    "    tgt2tuning_history[tgt]=tuning_history\n",
    "    tgt2ytr[tgt]=dftr[tgtcol]\n",
    "    tgt2yvl[tgt]=dfvl[tgtcol]\n",
    "    tgt2pops[tgt]=pops\n",
    "    tgt2prdtr[tgt]=prdtr\n",
    "    tgt2prdvl[tgt]=prdvl\n"
   ]
  },
  {
   "cell_type": "code",
   "execution_count": 11,
   "metadata": {
    "scrolled": false
   },
   "outputs": [
    {
     "name": "stdout",
     "output_type": "stream",
     "text": [
      "2020-03-24 14:00:38 Retweet ********************************************************************************\n",
      "Retweet\n",
      "n_pos_wanted 1000\n",
      "2020-03-24 14:00:38 chunk 1\n",
      "dftrvl.shape: (10000, 95) dftrvl[tgtcol].mean(): 0.1159\n",
      "{'train_pop': 10000, 'target_pop': 1159, 'sampled_train_pop': 10000, 'sampled_target_pop': 1159}\n",
      "{'objective': 'binary', 'metric': 'binary_logloss', 'verbosity': 1, 'boosting_type': 'gbdt'}\n"
     ]
    },
    {
     "name": "stderr",
     "output_type": "stream",
     "text": [
      "\n",
      "\n",
      "  0%|          | 0/7 [00:00<?, ?it/s]\n",
      "\n",
      "tune_feature_fraction, val_score: inf:   0%|          | 0/7 [00:00<?, ?it/s]"
     ]
    },
    {
     "name": "stdout",
     "output_type": "stream",
     "text": [
      "Training until validation scores don't improve for 100 rounds\n",
      "[100]\ttraining's binary_logloss: 0.178639\tvalid_1's binary_logloss: 0.330585\n",
      "[200]\ttraining's binary_logloss: 0.11454\tvalid_1's binary_logloss: 0.338625\n",
      "Early stopping, best iteration is:\n",
      "[122]\ttraining's binary_logloss: 0.161709\tvalid_1's binary_logloss: 0.329088\n"
     ]
    },
    {
     "name": "stderr",
     "output_type": "stream",
     "text": [
      "\n",
      "\n",
      "tune_feature_fraction, val_score: 0.329088:   0%|          | 0/7 [00:00<?, ?it/s]\n",
      "\n",
      "tune_feature_fraction, val_score: 0.329088:  14%|#4        | 1/7 [00:00<00:05,  1.06it/s][I 2020-03-24 14:00:39,849] Finished trial#0 resulted in value: 0.32908756999777405. Current best value is 0.32908756999777405 with parameters: {'feature_fraction': 0.4}.\n",
      "\n",
      "\n",
      "tune_feature_fraction, val_score: 0.329088:  14%|#4        | 1/7 [00:01<00:05,  1.06it/s]"
     ]
    },
    {
     "name": "stdout",
     "output_type": "stream",
     "text": [
      "Training until validation scores don't improve for 100 rounds\n",
      "[100]\ttraining's binary_logloss: 0.176056\tvalid_1's binary_logloss: 0.32904\n",
      "Early stopping, best iteration is:\n",
      "[74]\ttraining's binary_logloss: 0.200589\tvalid_1's binary_logloss: 0.324845\n"
     ]
    },
    {
     "name": "stderr",
     "output_type": "stream",
     "text": [
      "\n",
      "\n",
      "tune_feature_fraction, val_score: 0.324845:  14%|#4        | 1/7 [00:01<00:05,  1.06it/s]\n",
      "\n",
      "tune_feature_fraction, val_score: 0.324845:  29%|##8       | 2/7 [00:01<00:04,  1.13it/s][I 2020-03-24 14:00:40,596] Finished trial#1 resulted in value: 0.3248454920323198. Current best value is 0.3248454920323198 with parameters: {'feature_fraction': 0.5}.\n",
      "\n",
      "\n",
      "tune_feature_fraction, val_score: 0.324845:  29%|##8       | 2/7 [00:01<00:04,  1.13it/s]"
     ]
    },
    {
     "name": "stdout",
     "output_type": "stream",
     "text": [
      "Training until validation scores don't improve for 100 rounds\n",
      "[100]\ttraining's binary_logloss: 0.173701\tvalid_1's binary_logloss: 0.330392\n",
      "Early stopping, best iteration is:\n",
      "[36]\ttraining's binary_logloss: 0.244918\tvalid_1's binary_logloss: 0.325162\n"
     ]
    },
    {
     "name": "stderr",
     "output_type": "stream",
     "text": [
      "\n",
      "\n",
      "tune_feature_fraction, val_score: 0.324845:  29%|##8       | 2/7 [00:02<00:04,  1.13it/s]\n",
      "\n",
      "tune_feature_fraction, val_score: 0.324845:  43%|####2     | 3/7 [00:02<00:03,  1.25it/s][I 2020-03-24 14:00:41,190] Finished trial#2 resulted in value: 0.32516188298732207. Current best value is 0.3248454920323198 with parameters: {'feature_fraction': 0.5}.\n",
      "\n",
      "\n",
      "tune_feature_fraction, val_score: 0.324845:  43%|####2     | 3/7 [00:02<00:03,  1.25it/s]"
     ]
    },
    {
     "name": "stdout",
     "output_type": "stream",
     "text": [
      "Training until validation scores don't improve for 100 rounds\n",
      "[100]\ttraining's binary_logloss: 0.169262\tvalid_1's binary_logloss: 0.33142\n",
      "Early stopping, best iteration is:\n",
      "[50]\ttraining's binary_logloss: 0.222296\tvalid_1's binary_logloss: 0.325445\n"
     ]
    },
    {
     "name": "stderr",
     "output_type": "stream",
     "text": [
      "\n",
      "\n",
      "tune_feature_fraction, val_score: 0.324845:  43%|####2     | 3/7 [00:02<00:03,  1.25it/s]\n",
      "\n",
      "tune_feature_fraction, val_score: 0.324845:  57%|#####7    | 4/7 [00:02<00:02,  1.35it/s][I 2020-03-24 14:00:41,807] Finished trial#3 resulted in value: 0.3254454525612719. Current best value is 0.3248454920323198 with parameters: {'feature_fraction': 0.5}.\n",
      "\n",
      "\n",
      "tune_feature_fraction, val_score: 0.324845:  57%|#####7    | 4/7 [00:03<00:02,  1.35it/s]"
     ]
    },
    {
     "name": "stdout",
     "output_type": "stream",
     "text": [
      "Training until validation scores don't improve for 100 rounds\n",
      "[100]\ttraining's binary_logloss: 0.168264\tvalid_1's binary_logloss: 0.330271\n",
      "Early stopping, best iteration is:\n",
      "[45]\ttraining's binary_logloss: 0.227109\tvalid_1's binary_logloss: 0.325083\n"
     ]
    },
    {
     "name": "stderr",
     "output_type": "stream",
     "text": [
      "\n",
      "\n",
      "tune_feature_fraction, val_score: 0.324845:  57%|#####7    | 4/7 [00:03<00:02,  1.35it/s]\n",
      "\n",
      "tune_feature_fraction, val_score: 0.324845:  71%|#######1  | 5/7 [00:03<00:01,  1.39it/s][I 2020-03-24 14:00:42,492] Finished trial#4 resulted in value: 0.32508273142886773. Current best value is 0.3248454920323198 with parameters: {'feature_fraction': 0.5}.\n",
      "\n",
      "\n",
      "tune_feature_fraction, val_score: 0.324845:  71%|#######1  | 5/7 [00:03<00:01,  1.39it/s]"
     ]
    },
    {
     "name": "stdout",
     "output_type": "stream",
     "text": [
      "Training until validation scores don't improve for 100 rounds\n",
      "[100]\ttraining's binary_logloss: 0.166843\tvalid_1's binary_logloss: 0.323251\n",
      "Early stopping, best iteration is:\n",
      "[69]\ttraining's binary_logloss: 0.196256\tvalid_1's binary_logloss: 0.318153\n"
     ]
    },
    {
     "name": "stderr",
     "output_type": "stream",
     "text": [
      "\n",
      "\n",
      "tune_feature_fraction, val_score: 0.318153:  71%|#######1  | 5/7 [00:04<00:01,  1.39it/s]\n",
      "\n",
      "tune_feature_fraction, val_score: 0.318153:  86%|########5 | 6/7 [00:04<00:00,  1.39it/s][I 2020-03-24 14:00:43,202] Finished trial#5 resulted in value: 0.3181532928265903. Current best value is 0.3181532928265903 with parameters: {'feature_fraction': 0.8999999999999999}.\n",
      "\n",
      "\n",
      "tune_feature_fraction, val_score: 0.318153:  86%|########5 | 6/7 [00:04<00:00,  1.39it/s]"
     ]
    },
    {
     "name": "stdout",
     "output_type": "stream",
     "text": [
      "Training until validation scores don't improve for 100 rounds\n",
      "[100]\ttraining's binary_logloss: 0.164916\tvalid_1's binary_logloss: 0.329379\n",
      "Early stopping, best iteration is:\n",
      "[61]\ttraining's binary_logloss: 0.205855\tvalid_1's binary_logloss: 0.324541\n"
     ]
    },
    {
     "name": "stderr",
     "output_type": "stream",
     "text": [
      "\n",
      "\n",
      "tune_feature_fraction, val_score: 0.318153:  86%|########5 | 6/7 [00:05<00:00,  1.39it/s]\n",
      "\n",
      "tune_feature_fraction, val_score: 0.318153: 100%|##########| 7/7 [00:05<00:00,  1.33it/s][I 2020-03-24 14:00:44,025] Finished trial#6 resulted in value: 0.32454122433920346. Current best value is 0.3181532928265903 with parameters: {'feature_fraction': 0.8999999999999999}.\n",
      "tune_feature_fraction, val_score: 0.318153: 100%|##########| 7/7 [00:05<00:00,  1.33it/s]\n",
      "\n",
      "\n",
      "  0%|          | 0/20 [00:00<?, ?it/s]\n",
      "\n",
      "tune_num_leaves, val_score: 0.318153:   0%|          | 0/20 [00:00<?, ?it/s]"
     ]
    },
    {
     "name": "stdout",
     "output_type": "stream",
     "text": [
      "Training until validation scores don't improve for 100 rounds\n",
      "[100]\ttraining's binary_logloss: 0.00726387\tvalid_1's binary_logloss: 0.457021\n",
      "Early stopping, best iteration is:\n",
      "[16]\ttraining's binary_logloss: 0.166346\tvalid_1's binary_logloss: 0.332817\n"
     ]
    },
    {
     "name": "stderr",
     "output_type": "stream",
     "text": [
      "\n",
      "\n",
      "tune_num_leaves, val_score: 0.318153:   0%|          | 0/20 [00:02<?, ?it/s]\n",
      "\n",
      "tune_num_leaves, val_score: 0.318153:   5%|5         | 1/20 [00:02<00:38,  2.01s/it][I 2020-03-24 14:00:46,178] Finished trial#0 resulted in value: 0.33281687973538027. Current best value is 0.33281687973538027 with parameters: {'num_leaves': 217}.\n",
      "\n",
      "\n",
      "tune_num_leaves, val_score: 0.318153:   5%|5         | 1/20 [00:02<00:38,  2.01s/it]"
     ]
    },
    {
     "name": "stdout",
     "output_type": "stream",
     "text": [
      "Training until validation scores don't improve for 100 rounds\n",
      "[100]\ttraining's binary_logloss: 0.0166027\tvalid_1's binary_logloss: 0.409101\n",
      "Early stopping, best iteration is:\n",
      "[26]\ttraining's binary_logloss: 0.131242\tvalid_1's binary_logloss: 0.32818\n"
     ]
    },
    {
     "name": "stderr",
     "output_type": "stream",
     "text": [
      "\n",
      "\n",
      "tune_num_leaves, val_score: 0.318153:   5%|5         | 1/20 [00:03<00:38,  2.01s/it]\n",
      "\n",
      "tune_num_leaves, val_score: 0.318153:  10%|#         | 2/20 [00:03<00:35,  1.95s/it][I 2020-03-24 14:00:47,976] Finished trial#1 resulted in value: 0.32817998721903. Current best value is 0.32817998721903 with parameters: {'num_leaves': 158}.\n",
      "\n",
      "\n",
      "tune_num_leaves, val_score: 0.318153:  10%|#         | 2/20 [00:03<00:35,  1.95s/it]"
     ]
    },
    {
     "name": "stdout",
     "output_type": "stream",
     "text": [
      "Training until validation scores don't improve for 100 rounds\n",
      "[100]\ttraining's binary_logloss: 0.268122\tvalid_1's binary_logloss: 0.328122\n",
      "Early stopping, best iteration is:\n",
      "[98]\ttraining's binary_logloss: 0.269193\tvalid_1's binary_logloss: 0.327823\n"
     ]
    },
    {
     "name": "stderr",
     "output_type": "stream",
     "text": [
      "\n",
      "\n",
      "tune_num_leaves, val_score: 0.318153:  10%|#         | 2/20 [00:04<00:35,  1.95s/it]\n",
      "\n",
      "tune_num_leaves, val_score: 0.318153:  15%|#5        | 3/20 [00:04<00:25,  1.49s/it][I 2020-03-24 14:00:48,410] Finished trial#2 resulted in value: 0.32782273650983723. Current best value is 0.32782273650983723 with parameters: {'num_leaves': 9}.\n",
      "\n",
      "\n",
      "tune_num_leaves, val_score: 0.318153:  15%|#5        | 3/20 [00:04<00:25,  1.49s/it]"
     ]
    },
    {
     "name": "stdout",
     "output_type": "stream",
     "text": [
      "Training until validation scores don't improve for 100 rounds\n",
      "[100]\ttraining's binary_logloss: 0.00595075\tvalid_1's binary_logloss: 0.473803\n",
      "Early stopping, best iteration is:\n",
      "[16]\ttraining's binary_logloss: 0.163949\tvalid_1's binary_logloss: 0.334763\n"
     ]
    },
    {
     "name": "stderr",
     "output_type": "stream",
     "text": [
      "\n",
      "\n",
      "tune_num_leaves, val_score: 0.318153:  15%|#5        | 3/20 [00:07<00:25,  1.49s/it]\n",
      "\n",
      "tune_num_leaves, val_score: 0.318153:  20%|##        | 4/20 [00:07<00:30,  1.88s/it][I 2020-03-24 14:00:51,180] Finished trial#3 resulted in value: 0.33476339507185515. Current best value is 0.32782273650983723 with parameters: {'num_leaves': 9}.\n",
      "\n",
      "\n",
      "tune_num_leaves, val_score: 0.318153:  20%|##        | 4/20 [00:07<00:30,  1.88s/it]"
     ]
    },
    {
     "name": "stdout",
     "output_type": "stream",
     "text": [
      "Training until validation scores don't improve for 100 rounds\n",
      "[100]\ttraining's binary_logloss: 0.00611145\tvalid_1's binary_logloss: 0.469658\n",
      "Early stopping, best iteration is:\n",
      "[13]\ttraining's binary_logloss: 0.186614\tvalid_1's binary_logloss: 0.336264\n"
     ]
    },
    {
     "name": "stderr",
     "output_type": "stream",
     "text": [
      "\n",
      "\n",
      "tune_num_leaves, val_score: 0.318153:  20%|##        | 4/20 [00:11<00:30,  1.88s/it]\n",
      "\n",
      "tune_num_leaves, val_score: 0.318153:  25%|##5       | 5/20 [00:11<00:38,  2.54s/it][I 2020-03-24 14:00:55,248] Finished trial#4 resulted in value: 0.33626441652224603. Current best value is 0.32782273650983723 with parameters: {'num_leaves': 9}.\n",
      "\n",
      "\n",
      "tune_num_leaves, val_score: 0.318153:  25%|##5       | 5/20 [00:11<00:38,  2.54s/it]"
     ]
    },
    {
     "name": "stdout",
     "output_type": "stream",
     "text": [
      "Training until validation scores don't improve for 100 rounds\n",
      "[100]\ttraining's binary_logloss: 0.0910593\tvalid_1's binary_logloss: 0.337405\n",
      "Early stopping, best iteration is:\n",
      "[35]\ttraining's binary_logloss: 0.187223\tvalid_1's binary_logloss: 0.321859\n"
     ]
    },
    {
     "name": "stderr",
     "output_type": "stream",
     "text": [
      "\n",
      "\n",
      "tune_num_leaves, val_score: 0.318153:  25%|##5       | 5/20 [00:12<00:38,  2.54s/it]\n",
      "\n",
      "tune_num_leaves, val_score: 0.318153:  30%|###       | 6/20 [00:12<00:31,  2.25s/it][I 2020-03-24 14:00:56,835] Finished trial#5 resulted in value: 0.3218594469644111. Current best value is 0.3218594469644111 with parameters: {'num_leaves': 62}.\n",
      "\n",
      "\n",
      "tune_num_leaves, val_score: 0.318153:  30%|###       | 6/20 [00:12<00:31,  2.25s/it]"
     ]
    },
    {
     "name": "stdout",
     "output_type": "stream",
     "text": [
      "Training until validation scores don't improve for 100 rounds\n",
      "[100]\ttraining's binary_logloss: 0.0428578\tvalid_1's binary_logloss: 0.363969\n",
      "Early stopping, best iteration is:\n",
      "[25]\ttraining's binary_logloss: 0.172016\tvalid_1's binary_logloss: 0.321931\n"
     ]
    },
    {
     "name": "stderr",
     "output_type": "stream",
     "text": [
      "\n",
      "\n",
      "tune_num_leaves, val_score: 0.318153:  30%|###       | 6/20 [00:13<00:31,  2.25s/it]\n",
      "\n",
      "tune_num_leaves, val_score: 0.318153:  35%|###5      | 7/20 [00:13<00:25,  1.94s/it][I 2020-03-24 14:00:58,073] Finished trial#6 resulted in value: 0.3219310571414888. Current best value is 0.3218594469644111 with parameters: {'num_leaves': 62}.\n",
      "\n",
      "\n",
      "tune_num_leaves, val_score: 0.318153:  35%|###5      | 7/20 [00:14<00:25,  1.94s/it]"
     ]
    },
    {
     "name": "stdout",
     "output_type": "stream",
     "text": [
      "Training until validation scores don't improve for 100 rounds\n",
      "[100]\ttraining's binary_logloss: 0.0309545\tvalid_1's binary_logloss: 0.37837\n",
      "Early stopping, best iteration is:\n",
      "[17]\ttraining's binary_logloss: 0.195521\tvalid_1's binary_logloss: 0.327029\n"
     ]
    },
    {
     "name": "stderr",
     "output_type": "stream",
     "text": [
      "\n",
      "\n",
      "tune_num_leaves, val_score: 0.318153:  35%|###5      | 7/20 [00:15<00:25,  1.94s/it]\n",
      "\n",
      "tune_num_leaves, val_score: 0.318153:  40%|####      | 8/20 [00:15<00:21,  1.76s/it][I 2020-03-24 14:00:59,418] Finished trial#7 resulted in value: 0.3270291791537202. Current best value is 0.3218594469644111 with parameters: {'num_leaves': 62}.\n",
      "\n",
      "\n",
      "tune_num_leaves, val_score: 0.318153:  40%|####      | 8/20 [00:15<00:21,  1.76s/it]"
     ]
    },
    {
     "name": "stdout",
     "output_type": "stream",
     "text": [
      "Training until validation scores don't improve for 100 rounds\n",
      "[100]\ttraining's binary_logloss: 0.00628374\tvalid_1's binary_logloss: 0.467679\n",
      "Early stopping, best iteration is:\n",
      "[20]\ttraining's binary_logloss: 0.139248\tvalid_1's binary_logloss: 0.334362\n"
     ]
    },
    {
     "name": "stderr",
     "output_type": "stream",
     "text": [
      "\n",
      "\n",
      "tune_num_leaves, val_score: 0.318153:  40%|####      | 8/20 [00:17<00:21,  1.76s/it]\n",
      "\n",
      "tune_num_leaves, val_score: 0.318153:  45%|####5     | 9/20 [00:17<00:21,  1.96s/it][I 2020-03-24 14:01:01,851] Finished trial#8 resulted in value: 0.33436179269256594. Current best value is 0.3218594469644111 with parameters: {'num_leaves': 62}.\n",
      "\n",
      "\n",
      "tune_num_leaves, val_score: 0.318153:  45%|####5     | 9/20 [00:17<00:21,  1.96s/it]"
     ]
    },
    {
     "name": "stdout",
     "output_type": "stream",
     "text": [
      "Training until validation scores don't improve for 100 rounds\n",
      "[100]\ttraining's binary_logloss: 0.0161574\tvalid_1's binary_logloss: 0.41718\n",
      "Early stopping, best iteration is:\n",
      "[18]\ttraining's binary_logloss: 0.169857\tvalid_1's binary_logloss: 0.331943\n"
     ]
    },
    {
     "name": "stderr",
     "output_type": "stream",
     "text": [
      "\n",
      "\n",
      "tune_num_leaves, val_score: 0.318153:  45%|####5     | 9/20 [00:19<00:21,  1.96s/it]\n",
      "\n",
      "tune_num_leaves, val_score: 0.318153:  50%|#####     | 10/20 [00:19<00:18,  1.89s/it][I 2020-03-24 14:01:03,558] Finished trial#9 resulted in value: 0.33194307683964425. Current best value is 0.3218594469644111 with parameters: {'num_leaves': 62}.\n",
      "\n",
      "\n",
      "tune_num_leaves, val_score: 0.318153:  50%|#####     | 10/20 [00:19<00:18,  1.89s/it]"
     ]
    },
    {
     "name": "stdout",
     "output_type": "stream",
     "text": [
      "Training until validation scores don't improve for 100 rounds\n",
      "[100]\ttraining's binary_logloss: 0.193409\tvalid_1's binary_logloss: 0.328108\n",
      "[200]\ttraining's binary_logloss: 0.130372\tvalid_1's binary_logloss: 0.337181\n",
      "Early stopping, best iteration is:\n",
      "[114]\ttraining's binary_logloss: 0.182912\tvalid_1's binary_logloss: 0.327138\n"
     ]
    },
    {
     "name": "stderr",
     "output_type": "stream",
     "text": [
      "\n",
      "\n",
      "tune_num_leaves, val_score: 0.318153:  50%|#####     | 10/20 [00:20<00:18,  1.89s/it]\n",
      "\n",
      "tune_num_leaves, val_score: 0.318153:  55%|#####5    | 11/20 [00:20<00:13,  1.53s/it][I 2020-03-24 14:01:04,262] Finished trial#10 resulted in value: 0.3271383424202457. Current best value is 0.3218594469644111 with parameters: {'num_leaves': 62}.\n",
      "\n",
      "\n",
      "tune_num_leaves, val_score: 0.318153:  55%|#####5    | 11/20 [00:20<00:13,  1.53s/it]"
     ]
    },
    {
     "name": "stdout",
     "output_type": "stream",
     "text": [
      "Training until validation scores don't improve for 100 rounds\n",
      "[100]\ttraining's binary_logloss: 0.0776854\tvalid_1's binary_logloss: 0.344766\n",
      "Early stopping, best iteration is:\n",
      "[19]\ttraining's binary_logloss: 0.225734\tvalid_1's binary_logloss: 0.32768\n"
     ]
    },
    {
     "name": "stderr",
     "output_type": "stream",
     "text": [
      "\n",
      "\n",
      "tune_num_leaves, val_score: 0.318153:  55%|#####5    | 11/20 [00:21<00:13,  1.53s/it]\n",
      "\n",
      "tune_num_leaves, val_score: 0.318153:  60%|######    | 12/20 [00:21<00:10,  1.35s/it][I 2020-03-24 14:01:05,196] Finished trial#11 resulted in value: 0.3276801924807898. Current best value is 0.3218594469644111 with parameters: {'num_leaves': 62}.\n",
      "\n",
      "\n",
      "tune_num_leaves, val_score: 0.318153:  60%|######    | 12/20 [00:21<00:10,  1.35s/it]"
     ]
    },
    {
     "name": "stdout",
     "output_type": "stream",
     "text": [
      "Training until validation scores don't improve for 100 rounds\n",
      "[100]\ttraining's binary_logloss: 0.067206\tvalid_1's binary_logloss: 0.360268\n",
      "Early stopping, best iteration is:\n",
      "[15]\ttraining's binary_logloss: 0.236272\tvalid_1's binary_logloss: 0.333641\n"
     ]
    },
    {
     "name": "stderr",
     "output_type": "stream",
     "text": [
      "\n",
      "\n",
      "tune_num_leaves, val_score: 0.318153:  60%|######    | 12/20 [00:21<00:10,  1.35s/it]\n",
      "\n",
      "tune_num_leaves, val_score: 0.318153:  65%|######5   | 13/20 [00:21<00:08,  1.22s/it][I 2020-03-24 14:01:06,106] Finished trial#12 resulted in value: 0.3336407767890441. Current best value is 0.3218594469644111 with parameters: {'num_leaves': 62}.\n",
      "\n",
      "\n",
      "tune_num_leaves, val_score: 0.318153:  65%|######5   | 13/20 [00:22<00:08,  1.22s/it]"
     ]
    },
    {
     "name": "stdout",
     "output_type": "stream",
     "text": [
      "Training until validation scores don't improve for 100 rounds\n",
      "[100]\ttraining's binary_logloss: 0.0898373\tvalid_1's binary_logloss: 0.341283\n",
      "Early stopping, best iteration is:\n",
      "[61]\ttraining's binary_logloss: 0.136597\tvalid_1's binary_logloss: 0.327803\n"
     ]
    },
    {
     "name": "stderr",
     "output_type": "stream",
     "text": [
      "\n",
      "\n",
      "tune_num_leaves, val_score: 0.318153:  65%|######5   | 13/20 [00:22<00:08,  1.22s/it]\n",
      "\n",
      "tune_num_leaves, val_score: 0.318153:  70%|#######   | 14/20 [00:22<00:07,  1.17s/it][I 2020-03-24 14:01:07,153] Finished trial#13 resulted in value: 0.32780273189190395. Current best value is 0.3218594469644111 with parameters: {'num_leaves': 62}.\n",
      "\n",
      "\n",
      "tune_num_leaves, val_score: 0.318153:  70%|#######   | 14/20 [00:23<00:07,  1.17s/it]"
     ]
    },
    {
     "name": "stdout",
     "output_type": "stream",
     "text": [
      "Training until validation scores don't improve for 100 rounds\n",
      "[100]\ttraining's binary_logloss: 0.0375959\tvalid_1's binary_logloss: 0.374171\n",
      "Early stopping, best iteration is:\n",
      "[21]\ttraining's binary_logloss: 0.184077\tvalid_1's binary_logloss: 0.331078\n"
     ]
    },
    {
     "name": "stderr",
     "output_type": "stream",
     "text": [
      "\n",
      "\n",
      "tune_num_leaves, val_score: 0.318153:  70%|#######   | 14/20 [00:24<00:07,  1.17s/it]\n",
      "\n",
      "tune_num_leaves, val_score: 0.318153:  75%|#######5  | 15/20 [00:24<00:06,  1.21s/it][I 2020-03-24 14:01:08,469] Finished trial#14 resulted in value: 0.33107841454454123. Current best value is 0.3218594469644111 with parameters: {'num_leaves': 62}.\n",
      "\n",
      "\n",
      "tune_num_leaves, val_score: 0.318153:  75%|#######5  | 15/20 [00:24<00:06,  1.21s/it]"
     ]
    },
    {
     "name": "stdout",
     "output_type": "stream",
     "text": [
      "Training until validation scores don't improve for 100 rounds\n",
      "[100]\ttraining's binary_logloss: 0.140828\tvalid_1's binary_logloss: 0.332759\n",
      "Early stopping, best iteration is:\n",
      "[46]\ttraining's binary_logloss: 0.205644\tvalid_1's binary_logloss: 0.326061\n"
     ]
    },
    {
     "name": "stderr",
     "output_type": "stream",
     "text": [
      "\n",
      "\n",
      "tune_num_leaves, val_score: 0.318153:  75%|#######5  | 15/20 [00:24<00:06,  1.21s/it]\n",
      "\n",
      "tune_num_leaves, val_score: 0.318153:  80%|########  | 16/20 [00:24<00:04,  1.05s/it][I 2020-03-24 14:01:09,151] Finished trial#15 resulted in value: 0.3260613958245616. Current best value is 0.3218594469644111 with parameters: {'num_leaves': 62}.\n",
      "\n",
      "\n",
      "tune_num_leaves, val_score: 0.318153:  80%|########  | 16/20 [00:25<00:04,  1.05s/it]"
     ]
    },
    {
     "name": "stdout",
     "output_type": "stream",
     "text": [
      "Training until validation scores don't improve for 100 rounds\n",
      "[100]\ttraining's binary_logloss: 0.0522356\tvalid_1's binary_logloss: 0.355057\n",
      "Early stopping, best iteration is:\n",
      "[26]\ttraining's binary_logloss: 0.177527\tvalid_1's binary_logloss: 0.324183\n"
     ]
    },
    {
     "name": "stderr",
     "output_type": "stream",
     "text": [
      "\n",
      "\n",
      "tune_num_leaves, val_score: 0.318153:  80%|########  | 16/20 [00:26<00:04,  1.05s/it]\n",
      "\n",
      "tune_num_leaves, val_score: 0.318153:  85%|########5 | 17/20 [00:26<00:03,  1.10s/it][I 2020-03-24 14:01:10,344] Finished trial#16 resulted in value: 0.3241829199446184. Current best value is 0.3218594469644111 with parameters: {'num_leaves': 62}.\n",
      "\n",
      "\n",
      "tune_num_leaves, val_score: 0.318153:  85%|########5 | 17/20 [00:26<00:03,  1.10s/it]"
     ]
    },
    {
     "name": "stdout",
     "output_type": "stream",
     "text": [
      "Training until validation scores don't improve for 100 rounds\n",
      "[100]\ttraining's binary_logloss: 0.0182936\tvalid_1's binary_logloss: 0.40873\n",
      "Early stopping, best iteration is:\n",
      "[17]\ttraining's binary_logloss: 0.179658\tvalid_1's binary_logloss: 0.332785\n"
     ]
    },
    {
     "name": "stderr",
     "output_type": "stream",
     "text": [
      "\n",
      "\n",
      "tune_num_leaves, val_score: 0.318153:  85%|########5 | 17/20 [00:27<00:03,  1.10s/it]\n",
      "\n",
      "tune_num_leaves, val_score: 0.318153:  90%|######### | 18/20 [00:27<00:02,  1.25s/it][I 2020-03-24 14:01:11,974] Finished trial#17 resulted in value: 0.33278471817283883. Current best value is 0.3218594469644111 with parameters: {'num_leaves': 62}.\n",
      "\n",
      "\n",
      "tune_num_leaves, val_score: 0.318153:  90%|######### | 18/20 [00:27<00:02,  1.25s/it]"
     ]
    },
    {
     "name": "stdout",
     "output_type": "stream",
     "text": [
      "Training until validation scores don't improve for 100 rounds\n",
      "[100]\ttraining's binary_logloss: 0.111842\tvalid_1's binary_logloss: 0.334048\n",
      "Early stopping, best iteration is:\n",
      "[36]\ttraining's binary_logloss: 0.202624\tvalid_1's binary_logloss: 0.323109\n"
     ]
    },
    {
     "name": "stderr",
     "output_type": "stream",
     "text": [
      "\n",
      "\n",
      "tune_num_leaves, val_score: 0.318153:  90%|######### | 18/20 [00:28<00:02,  1.25s/it]\n",
      "\n",
      "tune_num_leaves, val_score: 0.318153:  95%|#########5| 19/20 [00:28<00:01,  1.15s/it][I 2020-03-24 14:01:12,877] Finished trial#18 resulted in value: 0.32310927964052. Current best value is 0.3218594469644111 with parameters: {'num_leaves': 62}.\n",
      "\n",
      "\n",
      "tune_num_leaves, val_score: 0.318153:  95%|#########5| 19/20 [00:28<00:01,  1.15s/it]"
     ]
    },
    {
     "name": "stdout",
     "output_type": "stream",
     "text": [
      "Training until validation scores don't improve for 100 rounds\n",
      "[100]\ttraining's binary_logloss: 0.0444184\tvalid_1's binary_logloss: 0.367022\n",
      "Early stopping, best iteration is:\n",
      "[25]\ttraining's binary_logloss: 0.173924\tvalid_1's binary_logloss: 0.327386\n"
     ]
    },
    {
     "name": "stderr",
     "output_type": "stream",
     "text": [
      "\n",
      "\n",
      "tune_num_leaves, val_score: 0.318153:  95%|#########5| 19/20 [00:29<00:01,  1.15s/it]\n",
      "\n",
      "tune_num_leaves, val_score: 0.318153: 100%|##########| 20/20 [00:29<00:00,  1.16s/it][I 2020-03-24 14:01:14,068] Finished trial#19 resulted in value: 0.3273863242494202. Current best value is 0.3218594469644111 with parameters: {'num_leaves': 62}.\n",
      "tune_num_leaves, val_score: 0.318153: 100%|##########| 20/20 [00:30<00:00,  1.50s/it]\n",
      "\n",
      "\n",
      "  0%|          | 0/10 [00:00<?, ?it/s]\n",
      "\n",
      "tune_bagging_fraction_and_bagging_freq, val_score: 0.318153:   0%|          | 0/10 [00:00<?, ?it/s]"
     ]
    },
    {
     "name": "stdout",
     "output_type": "stream",
     "text": [
      "Training until validation scores don't improve for 100 rounds\n",
      "[100]\ttraining's binary_logloss: 0.163019\tvalid_1's binary_logloss: 0.338482\n",
      "Early stopping, best iteration is:\n",
      "[54]\ttraining's binary_logloss: 0.217297\tvalid_1's binary_logloss: 0.330463\n"
     ]
    },
    {
     "name": "stderr",
     "output_type": "stream",
     "text": [
      "\n",
      "\n",
      "tune_bagging_fraction_and_bagging_freq, val_score: 0.318153:   0%|          | 0/10 [00:00<?, ?it/s]\n",
      "\n",
      "tune_bagging_fraction_and_bagging_freq, val_score: 0.318153:  10%|#         | 1/10 [00:00<00:04,  1.86it/s][I 2020-03-24 14:01:14,736] Finished trial#0 resulted in value: 0.33046290524965727. Current best value is 0.33046290524965727 with parameters: {'bagging_fraction': 0.5812694641372063, 'bagging_freq': 7}.\n",
      "\n",
      "\n",
      "tune_bagging_fraction_and_bagging_freq, val_score: 0.318153:  10%|#         | 1/10 [00:00<00:04,  1.86it/s]"
     ]
    },
    {
     "name": "stdout",
     "output_type": "stream",
     "text": [
      "Training until validation scores don't improve for 100 rounds\n",
      "[100]\ttraining's binary_logloss: 0.163737\tvalid_1's binary_logloss: 0.330139\n",
      "Early stopping, best iteration is:\n",
      "[31]\ttraining's binary_logloss: 0.249116\tvalid_1's binary_logloss: 0.32709\n"
     ]
    },
    {
     "name": "stderr",
     "output_type": "stream",
     "text": [
      "\n",
      "\n",
      "tune_bagging_fraction_and_bagging_freq, val_score: 0.318153:  10%|#         | 1/10 [00:01<00:04,  1.86it/s]\n",
      "\n",
      "tune_bagging_fraction_and_bagging_freq, val_score: 0.318153:  20%|##        | 2/10 [00:01<00:04,  1.84it/s][I 2020-03-24 14:01:15,293] Finished trial#1 resulted in value: 0.3270900959392973. Current best value is 0.3270900959392973 with parameters: {'bagging_fraction': 0.9353583141880626, 'bagging_freq': 5}.\n",
      "\n",
      "\n",
      "tune_bagging_fraction_and_bagging_freq, val_score: 0.318153:  20%|##        | 2/10 [00:01<00:04,  1.84it/s]"
     ]
    },
    {
     "name": "stdout",
     "output_type": "stream",
     "text": [
      "Training until validation scores don't improve for 100 rounds\n",
      "[100]\ttraining's binary_logloss: 0.159718\tvalid_1's binary_logloss: 0.330964\n",
      "Early stopping, best iteration is:\n",
      "[45]\ttraining's binary_logloss: 0.223734\tvalid_1's binary_logloss: 0.324825\n"
     ]
    },
    {
     "name": "stderr",
     "output_type": "stream",
     "text": [
      "\n",
      "\n",
      "tune_bagging_fraction_and_bagging_freq, val_score: 0.318153:  20%|##        | 2/10 [00:01<00:04,  1.84it/s]\n",
      "\n",
      "tune_bagging_fraction_and_bagging_freq, val_score: 0.318153:  30%|###       | 3/10 [00:01<00:04,  1.70it/s][I 2020-03-24 14:01:15,983] Finished trial#2 resulted in value: 0.3248252666040327. Current best value is 0.3248252666040327 with parameters: {'bagging_fraction': 0.7750047654408474, 'bagging_freq': 1}.\n",
      "\n",
      "\n",
      "tune_bagging_fraction_and_bagging_freq, val_score: 0.318153:  30%|###       | 3/10 [00:01<00:04,  1.70it/s]"
     ]
    },
    {
     "name": "stdout",
     "output_type": "stream",
     "text": [
      "Training until validation scores don't improve for 100 rounds\n",
      "[100]\ttraining's binary_logloss: 0.161836\tvalid_1's binary_logloss: 0.330154\n",
      "Early stopping, best iteration is:\n",
      "[64]\ttraining's binary_logloss: 0.201428\tvalid_1's binary_logloss: 0.327152\n"
     ]
    },
    {
     "name": "stderr",
     "output_type": "stream",
     "text": [
      "\n",
      "\n",
      "tune_bagging_fraction_and_bagging_freq, val_score: 0.318153:  30%|###       | 3/10 [00:02<00:04,  1.70it/s]\n",
      "\n",
      "tune_bagging_fraction_and_bagging_freq, val_score: 0.318153:  40%|####      | 4/10 [00:02<00:03,  1.64it/s][I 2020-03-24 14:01:16,649] Finished trial#3 resulted in value: 0.32715158413668943. Current best value is 0.3248252666040327 with parameters: {'bagging_fraction': 0.7750047654408474, 'bagging_freq': 1}.\n",
      "\n",
      "\n",
      "tune_bagging_fraction_and_bagging_freq, val_score: 0.318153:  40%|####      | 4/10 [00:02<00:03,  1.64it/s]"
     ]
    },
    {
     "name": "stdout",
     "output_type": "stream",
     "text": [
      "Training until validation scores don't improve for 100 rounds\n",
      "[100]\ttraining's binary_logloss: 0.159975\tvalid_1's binary_logloss: 0.343853\n",
      "Early stopping, best iteration is:\n",
      "[46]\ttraining's binary_logloss: 0.225596\tvalid_1's binary_logloss: 0.32965\n"
     ]
    },
    {
     "name": "stderr",
     "output_type": "stream",
     "text": [
      "\n",
      "\n",
      "tune_bagging_fraction_and_bagging_freq, val_score: 0.318153:  40%|####      | 4/10 [00:03<00:03,  1.64it/s]\n",
      "\n",
      "tune_bagging_fraction_and_bagging_freq, val_score: 0.318153:  50%|#####     | 5/10 [00:03<00:03,  1.64it/s][I 2020-03-24 14:01:17,254] Finished trial#4 resulted in value: 0.3296500923068374. Current best value is 0.3248252666040327 with parameters: {'bagging_fraction': 0.7750047654408474, 'bagging_freq': 1}.\n",
      "\n",
      "\n",
      "tune_bagging_fraction_and_bagging_freq, val_score: 0.318153:  50%|#####     | 5/10 [00:03<00:03,  1.64it/s]"
     ]
    },
    {
     "name": "stdout",
     "output_type": "stream",
     "text": [
      "Training until validation scores don't improve for 100 rounds\n",
      "[100]\ttraining's binary_logloss: 0.162017\tvalid_1's binary_logloss: 0.329875\n",
      "Early stopping, best iteration is:\n",
      "[63]\ttraining's binary_logloss: 0.202719\tvalid_1's binary_logloss: 0.325234\n"
     ]
    },
    {
     "name": "stderr",
     "output_type": "stream",
     "text": [
      "\n",
      "\n",
      "tune_bagging_fraction_and_bagging_freq, val_score: 0.318153:  50%|#####     | 5/10 [00:03<00:03,  1.64it/s]\n",
      "\n",
      "tune_bagging_fraction_and_bagging_freq, val_score: 0.318153:  60%|######    | 6/10 [00:03<00:02,  1.55it/s][I 2020-03-24 14:01:18,005] Finished trial#5 resulted in value: 0.3252335457157207. Current best value is 0.3248252666040327 with parameters: {'bagging_fraction': 0.7750047654408474, 'bagging_freq': 1}.\n",
      "\n",
      "\n",
      "tune_bagging_fraction_and_bagging_freq, val_score: 0.318153:  60%|######    | 6/10 [00:03<00:02,  1.55it/s]"
     ]
    },
    {
     "name": "stdout",
     "output_type": "stream",
     "text": [
      "Training until validation scores don't improve for 100 rounds\n",
      "[100]\ttraining's binary_logloss: 0.163828\tvalid_1's binary_logloss: 0.326934\n",
      "Early stopping, best iteration is:\n",
      "[58]\ttraining's binary_logloss: 0.207958\tvalid_1's binary_logloss: 0.322445\n"
     ]
    },
    {
     "name": "stderr",
     "output_type": "stream",
     "text": [
      "\n",
      "\n",
      "tune_bagging_fraction_and_bagging_freq, val_score: 0.318153:  60%|######    | 6/10 [00:04<00:02,  1.55it/s]\n",
      "\n",
      "tune_bagging_fraction_and_bagging_freq, val_score: 0.318153:  70%|#######   | 7/10 [00:04<00:01,  1.54it/s][I 2020-03-24 14:01:18,644] Finished trial#6 resulted in value: 0.32244477606385236. Current best value is 0.32244477606385236 with parameters: {'bagging_fraction': 0.9772821075006973, 'bagging_freq': 7}.\n",
      "\n",
      "\n",
      "tune_bagging_fraction_and_bagging_freq, val_score: 0.318153:  70%|#######   | 7/10 [00:04<00:01,  1.54it/s]"
     ]
    },
    {
     "name": "stdout",
     "output_type": "stream",
     "text": [
      "Training until validation scores don't improve for 100 rounds\n",
      "[100]\ttraining's binary_logloss: 0.161729\tvalid_1's binary_logloss: 0.329963\n",
      "Early stopping, best iteration is:\n",
      "[53]\ttraining's binary_logloss: 0.21763\tvalid_1's binary_logloss: 0.32678\n"
     ]
    },
    {
     "name": "stderr",
     "output_type": "stream",
     "text": [
      "\n",
      "\n",
      "tune_bagging_fraction_and_bagging_freq, val_score: 0.318153:  70%|#######   | 7/10 [00:05<00:01,  1.54it/s]\n",
      "\n",
      "tune_bagging_fraction_and_bagging_freq, val_score: 0.318153:  80%|########  | 8/10 [00:05<00:01,  1.50it/s][I 2020-03-24 14:01:19,352] Finished trial#7 resulted in value: 0.32678046540177635. Current best value is 0.32244477606385236 with parameters: {'bagging_fraction': 0.9772821075006973, 'bagging_freq': 7}.\n",
      "\n",
      "\n",
      "tune_bagging_fraction_and_bagging_freq, val_score: 0.318153:  80%|########  | 8/10 [00:05<00:01,  1.50it/s]"
     ]
    },
    {
     "name": "stdout",
     "output_type": "stream",
     "text": [
      "Training until validation scores don't improve for 100 rounds\n",
      "[100]\ttraining's binary_logloss: 0.16356\tvalid_1's binary_logloss: 0.33638\n",
      "Early stopping, best iteration is:\n",
      "[47]\ttraining's binary_logloss: 0.227676\tvalid_1's binary_logloss: 0.327984\n"
     ]
    },
    {
     "name": "stderr",
     "output_type": "stream",
     "text": [
      "\n",
      "\n",
      "tune_bagging_fraction_and_bagging_freq, val_score: 0.318153:  80%|########  | 8/10 [00:05<00:01,  1.50it/s]\n",
      "\n",
      "tune_bagging_fraction_and_bagging_freq, val_score: 0.318153:  90%|######### | 9/10 [00:05<00:00,  1.53it/s][I 2020-03-24 14:01:19,971] Finished trial#8 resulted in value: 0.3279839670074372. Current best value is 0.32244477606385236 with parameters: {'bagging_fraction': 0.9772821075006973, 'bagging_freq': 7}.\n",
      "\n",
      "\n",
      "tune_bagging_fraction_and_bagging_freq, val_score: 0.318153:  90%|######### | 9/10 [00:05<00:00,  1.53it/s]"
     ]
    },
    {
     "name": "stdout",
     "output_type": "stream",
     "text": [
      "Training until validation scores don't improve for 100 rounds\n",
      "[100]\ttraining's binary_logloss: 0.172175\tvalid_1's binary_logloss: 0.343575\n",
      "Early stopping, best iteration is:\n",
      "[47]\ttraining's binary_logloss: 0.235068\tvalid_1's binary_logloss: 0.334811\n"
     ]
    },
    {
     "name": "stderr",
     "output_type": "stream",
     "text": [
      "\n",
      "\n",
      "tune_bagging_fraction_and_bagging_freq, val_score: 0.318153:  90%|######### | 9/10 [00:06<00:00,  1.53it/s]\n",
      "\n",
      "tune_bagging_fraction_and_bagging_freq, val_score: 0.318153: 100%|##########| 10/10 [00:06<00:00,  1.57it/s][I 2020-03-24 14:01:20,574] Finished trial#9 resulted in value: 0.3348111033446532. Current best value is 0.32244477606385236 with parameters: {'bagging_fraction': 0.9772821075006973, 'bagging_freq': 7}.\n",
      "tune_bagging_fraction_and_bagging_freq, val_score: 0.318153: 100%|##########| 10/10 [00:06<00:00,  1.54it/s]\n",
      "\n",
      "\n",
      "  0%|          | 0/6 [00:00<?, ?it/s]\n",
      "\n",
      "tune_feature_fraction, val_score: 0.318153:   0%|          | 0/6 [00:00<?, ?it/s]"
     ]
    },
    {
     "name": "stdout",
     "output_type": "stream",
     "text": [
      "Training until validation scores don't improve for 100 rounds\n",
      "[100]\ttraining's binary_logloss: 0.169129\tvalid_1's binary_logloss: 0.328298\n",
      "Early stopping, best iteration is:\n",
      "[30]\ttraining's binary_logloss: 0.252244\tvalid_1's binary_logloss: 0.32136\n"
     ]
    },
    {
     "name": "stderr",
     "output_type": "stream",
     "text": [
      "\n",
      "\n",
      "tune_feature_fraction, val_score: 0.318153:   0%|          | 0/6 [00:00<?, ?it/s]\n",
      "\n",
      "tune_feature_fraction, val_score: 0.318153:  17%|#6        | 1/6 [00:00<00:02,  2.27it/s][I 2020-03-24 14:01:21,169] Finished trial#0 resulted in value: 0.3213604981510648. Current best value is 0.3213604981510648 with parameters: {'feature_fraction': 0.82}.\n",
      "\n",
      "\n",
      "tune_feature_fraction, val_score: 0.318153:  17%|#6        | 1/6 [00:00<00:02,  2.27it/s]"
     ]
    },
    {
     "name": "stdout",
     "output_type": "stream",
     "text": [
      "Training until validation scores don't improve for 100 rounds\n",
      "[100]\ttraining's binary_logloss: 0.168792\tvalid_1's binary_logloss: 0.330747\n",
      "Early stopping, best iteration is:\n",
      "[47]\ttraining's binary_logloss: 0.226083\tvalid_1's binary_logloss: 0.32339\n"
     ]
    },
    {
     "name": "stderr",
     "output_type": "stream",
     "text": [
      "\n",
      "\n",
      "tune_feature_fraction, val_score: 0.318153:  17%|#6        | 1/6 [00:01<00:02,  2.27it/s]\n",
      "\n",
      "tune_feature_fraction, val_score: 0.318153:  33%|###3      | 2/6 [00:01<00:01,  2.01it/s][I 2020-03-24 14:01:21,778] Finished trial#1 resulted in value: 0.3233904223822853. Current best value is 0.3213604981510648 with parameters: {'feature_fraction': 0.82}.\n",
      "\n",
      "\n",
      "tune_feature_fraction, val_score: 0.318153:  33%|###3      | 2/6 [00:01<00:01,  2.01it/s]"
     ]
    },
    {
     "name": "stdout",
     "output_type": "stream",
     "text": [
      "Training until validation scores don't improve for 100 rounds\n",
      "[100]\ttraining's binary_logloss: 0.167443\tvalid_1's binary_logloss: 0.327845\n",
      "Early stopping, best iteration is:\n",
      "[46]\ttraining's binary_logloss: 0.225598\tvalid_1's binary_logloss: 0.323306\n"
     ]
    },
    {
     "name": "stderr",
     "output_type": "stream",
     "text": [
      "\n",
      "\n",
      "tune_feature_fraction, val_score: 0.318153:  33%|###3      | 2/6 [00:01<00:01,  2.01it/s]\n",
      "\n",
      "tune_feature_fraction, val_score: 0.318153:  50%|#####     | 3/6 [00:01<00:01,  1.84it/s][I 2020-03-24 14:01:22,427] Finished trial#2 resulted in value: 0.32330618861676236. Current best value is 0.3213604981510648 with parameters: {'feature_fraction': 0.82}.\n",
      "\n",
      "\n",
      "tune_feature_fraction, val_score: 0.318153:  50%|#####     | 3/6 [00:01<00:01,  1.84it/s]"
     ]
    },
    {
     "name": "stdout",
     "output_type": "stream",
     "text": [
      "Training until validation scores don't improve for 100 rounds\n",
      "[100]\ttraining's binary_logloss: 0.166843\tvalid_1's binary_logloss: 0.323251\n",
      "Early stopping, best iteration is:\n",
      "[69]\ttraining's binary_logloss: 0.196256\tvalid_1's binary_logloss: 0.318153\n"
     ]
    },
    {
     "name": "stderr",
     "output_type": "stream",
     "text": [
      "\n",
      "\n",
      "tune_feature_fraction, val_score: 0.318153:  50%|#####     | 3/6 [00:02<00:01,  1.84it/s]\n",
      "\n",
      "tune_feature_fraction, val_score: 0.318153:  67%|######6   | 4/6 [00:02<00:01,  1.69it/s][I 2020-03-24 14:01:23,134] Finished trial#3 resulted in value: 0.3181532928265903. Current best value is 0.3181532928265903 with parameters: {'feature_fraction': 0.9159999999999999}.\n",
      "\n",
      "\n",
      "tune_feature_fraction, val_score: 0.318153:  67%|######6   | 4/6 [00:02<00:01,  1.69it/s]"
     ]
    },
    {
     "name": "stdout",
     "output_type": "stream",
     "text": [
      "Training until validation scores don't improve for 100 rounds\n",
      "[100]\ttraining's binary_logloss: 0.165985\tvalid_1's binary_logloss: 0.332101\n",
      "Early stopping, best iteration is:\n",
      "[37]\ttraining's binary_logloss: 0.239142\tvalid_1's binary_logloss: 0.327589\n"
     ]
    },
    {
     "name": "stderr",
     "output_type": "stream",
     "text": [
      "\n",
      "\n",
      "tune_feature_fraction, val_score: 0.318153:  67%|######6   | 4/6 [00:03<00:01,  1.69it/s]\n",
      "\n",
      "tune_feature_fraction, val_score: 0.318153:  83%|########3 | 5/6 [00:03<00:00,  1.69it/s][I 2020-03-24 14:01:23,722] Finished trial#4 resulted in value: 0.32758882375283355. Current best value is 0.3181532928265903 with parameters: {'feature_fraction': 0.9159999999999999}.\n",
      "\n",
      "\n",
      "tune_feature_fraction, val_score: 0.318153:  83%|########3 | 5/6 [00:03<00:00,  1.69it/s]"
     ]
    },
    {
     "name": "stdout",
     "output_type": "stream",
     "text": [
      "Training until validation scores don't improve for 100 rounds\n",
      "[100]\ttraining's binary_logloss: 0.16668\tvalid_1's binary_logloss: 0.330755\n",
      "Early stopping, best iteration is:\n",
      "[53]\ttraining's binary_logloss: 0.21584\tvalid_1's binary_logloss: 0.326654\n"
     ]
    },
    {
     "name": "stderr",
     "output_type": "stream",
     "text": [
      "\n",
      "\n",
      "tune_feature_fraction, val_score: 0.318153:  83%|########3 | 5/6 [00:03<00:00,  1.69it/s]\n",
      "\n",
      "tune_feature_fraction, val_score: 0.318153: 100%|##########| 6/6 [00:03<00:00,  1.62it/s][I 2020-03-24 14:01:24,402] Finished trial#5 resulted in value: 0.3266537261782588. Current best value is 0.3181532928265903 with parameters: {'feature_fraction': 0.9159999999999999}.\n",
      "tune_feature_fraction, val_score: 0.318153: 100%|##########| 6/6 [00:03<00:00,  1.57it/s]\n",
      "\n",
      "\n",
      "  0%|          | 0/20 [00:00<?, ?it/s]\n",
      "\n",
      "tune_lambda_l1_and_lambda_l2, val_score: 0.318153:   0%|          | 0/20 [00:00<?, ?it/s]"
     ]
    },
    {
     "name": "stdout",
     "output_type": "stream",
     "text": [
      "Training until validation scores don't improve for 100 rounds\n",
      "[100]\ttraining's binary_logloss: 0.227749\tvalid_1's binary_logloss: 0.329057\n",
      "Early stopping, best iteration is:\n",
      "[80]\ttraining's binary_logloss: 0.240083\tvalid_1's binary_logloss: 0.326695\n"
     ]
    },
    {
     "name": "stderr",
     "output_type": "stream",
     "text": [
      "\n",
      "\n",
      "tune_lambda_l1_and_lambda_l2, val_score: 0.318153:   0%|          | 0/20 [00:00<?, ?it/s]\n",
      "\n",
      "tune_lambda_l1_and_lambda_l2, val_score: 0.318153:   5%|5         | 1/20 [00:00<00:11,  1.60it/s][I 2020-03-24 14:01:25,158] Finished trial#0 resulted in value: 0.3266948192889066. Current best value is 0.3266948192889066 with parameters: {'lambda_l1': 5.842053652152266, 'lambda_l2': 0.8723383826875714}.\n",
      "\n",
      "\n",
      "tune_lambda_l1_and_lambda_l2, val_score: 0.318153:   5%|5         | 1/20 [00:00<00:11,  1.60it/s]"
     ]
    },
    {
     "name": "stdout",
     "output_type": "stream",
     "text": [
      "Training until validation scores don't improve for 100 rounds\n",
      "[100]\ttraining's binary_logloss: 0.166845\tvalid_1's binary_logloss: 0.323251\n",
      "Early stopping, best iteration is:\n",
      "[69]\ttraining's binary_logloss: 0.196257\tvalid_1's binary_logloss: 0.318153\n"
     ]
    },
    {
     "name": "stderr",
     "output_type": "stream",
     "text": [
      "\n",
      "\n",
      "tune_lambda_l1_and_lambda_l2, val_score: 0.318153:   5%|5         | 1/20 [00:01<00:11,  1.60it/s]\n",
      "\n",
      "tune_lambda_l1_and_lambda_l2, val_score: 0.318153:  10%|#         | 2/20 [00:01<00:12,  1.50it/s][I 2020-03-24 14:01:25,925] Finished trial#1 resulted in value: 0.31815325924634613. Current best value is 0.31815325924634613 with parameters: {'lambda_l1': 1.3666196186052242e-07, 'lambda_l2': 8.632830372602246e-05}.\n",
      "\n",
      "\n",
      "tune_lambda_l1_and_lambda_l2, val_score: 0.318153:  10%|#         | 2/20 [00:01<00:12,  1.50it/s]"
     ]
    },
    {
     "name": "stdout",
     "output_type": "stream",
     "text": [
      "Training until validation scores don't improve for 100 rounds\n",
      "[100]\ttraining's binary_logloss: 0.168304\tvalid_1's binary_logloss: 0.324216\n",
      "Early stopping, best iteration is:\n",
      "[29]\ttraining's binary_logloss: 0.253266\tvalid_1's binary_logloss: 0.321623\n"
     ]
    },
    {
     "name": "stderr",
     "output_type": "stream",
     "text": [
      "\n",
      "\n",
      "tune_lambda_l1_and_lambda_l2, val_score: 0.318153:  10%|#         | 2/20 [00:01<00:12,  1.50it/s]\n",
      "\n",
      "tune_lambda_l1_and_lambda_l2, val_score: 0.318153:  15%|#5        | 3/20 [00:01<00:10,  1.58it/s][I 2020-03-24 14:01:26,475] Finished trial#2 resulted in value: 0.32162298567435255. Current best value is 0.31815325924634613 with parameters: {'lambda_l1': 1.3666196186052242e-07, 'lambda_l2': 8.632830372602246e-05}.\n",
      "\n",
      "\n",
      "tune_lambda_l1_and_lambda_l2, val_score: 0.318153:  15%|#5        | 3/20 [00:02<00:10,  1.58it/s]"
     ]
    },
    {
     "name": "stdout",
     "output_type": "stream",
     "text": [
      "Training until validation scores don't improve for 100 rounds\n",
      "[100]\ttraining's binary_logloss: 0.166843\tvalid_1's binary_logloss: 0.323251\n",
      "Early stopping, best iteration is:\n",
      "[69]\ttraining's binary_logloss: 0.196256\tvalid_1's binary_logloss: 0.318153\n"
     ]
    },
    {
     "name": "stderr",
     "output_type": "stream",
     "text": [
      "\n",
      "\n",
      "tune_lambda_l1_and_lambda_l2, val_score: 0.318153:  15%|#5        | 3/20 [00:02<00:10,  1.58it/s]\n",
      "\n",
      "tune_lambda_l1_and_lambda_l2, val_score: 0.318153:  20%|##        | 4/20 [00:02<00:10,  1.50it/s][I 2020-03-24 14:01:27,219] Finished trial#3 resulted in value: 0.31815329041940116. Current best value is 0.31815325924634613 with parameters: {'lambda_l1': 1.3666196186052242e-07, 'lambda_l2': 8.632830372602246e-05}.\n",
      "\n",
      "\n",
      "tune_lambda_l1_and_lambda_l2, val_score: 0.318153:  20%|##        | 4/20 [00:02<00:10,  1.50it/s]"
     ]
    },
    {
     "name": "stdout",
     "output_type": "stream",
     "text": [
      "Training until validation scores don't improve for 100 rounds\n",
      "[100]\ttraining's binary_logloss: 0.175234\tvalid_1's binary_logloss: 0.324225\n",
      "Early stopping, best iteration is:\n",
      "[71]\ttraining's binary_logloss: 0.202832\tvalid_1's binary_logloss: 0.322577\n"
     ]
    },
    {
     "name": "stderr",
     "output_type": "stream",
     "text": [
      "\n",
      "\n",
      "tune_lambda_l1_and_lambda_l2, val_score: 0.318153:  20%|##        | 4/20 [00:03<00:10,  1.50it/s]\n",
      "\n",
      "tune_lambda_l1_and_lambda_l2, val_score: 0.318153:  25%|##5       | 5/20 [00:03<00:10,  1.48it/s][I 2020-03-24 14:01:27,911] Finished trial#4 resulted in value: 0.32257712924755727. Current best value is 0.31815325924634613 with parameters: {'lambda_l1': 1.3666196186052242e-07, 'lambda_l2': 8.632830372602246e-05}.\n",
      "\n",
      "\n",
      "tune_lambda_l1_and_lambda_l2, val_score: 0.318153:  25%|##5       | 5/20 [00:03<00:10,  1.48it/s]"
     ]
    },
    {
     "name": "stdout",
     "output_type": "stream",
     "text": [
      "Training until validation scores don't improve for 100 rounds\n",
      "[100]\ttraining's binary_logloss: 0.166845\tvalid_1's binary_logloss: 0.323251\n",
      "Early stopping, best iteration is:\n",
      "[69]\ttraining's binary_logloss: 0.196258\tvalid_1's binary_logloss: 0.318153\n"
     ]
    },
    {
     "name": "stderr",
     "output_type": "stream",
     "text": [
      "\n",
      "\n",
      "tune_lambda_l1_and_lambda_l2, val_score: 0.318153:  25%|##5       | 5/20 [00:04<00:10,  1.48it/s]\n",
      "\n",
      "tune_lambda_l1_and_lambda_l2, val_score: 0.318153:  30%|###       | 6/20 [00:04<00:09,  1.50it/s][I 2020-03-24 14:01:28,568] Finished trial#5 resulted in value: 0.3181532220211177. Current best value is 0.3181532220211177 with parameters: {'lambda_l1': 0.00013584439874306196, 'lambda_l2': 6.394869911747367e-06}.\n",
      "\n",
      "\n",
      "tune_lambda_l1_and_lambda_l2, val_score: 0.318153:  30%|###       | 6/20 [00:04<00:09,  1.50it/s]"
     ]
    },
    {
     "name": "stdout",
     "output_type": "stream",
     "text": [
      "Training until validation scores don't improve for 100 rounds\n",
      "[100]\ttraining's binary_logloss: 0.166843\tvalid_1's binary_logloss: 0.323251\n",
      "Early stopping, best iteration is:\n",
      "[69]\ttraining's binary_logloss: 0.196256\tvalid_1's binary_logloss: 0.318153\n"
     ]
    },
    {
     "name": "stderr",
     "output_type": "stream",
     "text": [
      "\n",
      "\n",
      "tune_lambda_l1_and_lambda_l2, val_score: 0.318153:  30%|###       | 6/20 [00:04<00:09,  1.50it/s]\n",
      "\n",
      "tune_lambda_l1_and_lambda_l2, val_score: 0.318153:  35%|###5      | 7/20 [00:04<00:08,  1.49it/s][I 2020-03-24 14:01:29,242] Finished trial#6 resulted in value: 0.3181532852437116. Current best value is 0.3181532220211177 with parameters: {'lambda_l1': 0.00013584439874306196, 'lambda_l2': 6.394869911747367e-06}.\n",
      "\n",
      "\n",
      "tune_lambda_l1_and_lambda_l2, val_score: 0.318153:  35%|###5      | 7/20 [00:04<00:08,  1.49it/s]"
     ]
    },
    {
     "name": "stdout",
     "output_type": "stream",
     "text": [
      "Training until validation scores don't improve for 100 rounds\n",
      "[100]\ttraining's binary_logloss: 0.172661\tvalid_1's binary_logloss: 0.329816\n",
      "Early stopping, best iteration is:\n",
      "[56]\ttraining's binary_logloss: 0.216496\tvalid_1's binary_logloss: 0.324216\n"
     ]
    },
    {
     "name": "stderr",
     "output_type": "stream",
     "text": [
      "\n",
      "\n",
      "tune_lambda_l1_and_lambda_l2, val_score: 0.318153:  35%|###5      | 7/20 [00:05<00:08,  1.49it/s]\n",
      "\n",
      "tune_lambda_l1_and_lambda_l2, val_score: 0.318153:  40%|####      | 8/20 [00:05<00:07,  1.51it/s][I 2020-03-24 14:01:29,888] Finished trial#7 resulted in value: 0.324215687708444. Current best value is 0.3181532220211177 with parameters: {'lambda_l1': 0.00013584439874306196, 'lambda_l2': 6.394869911747367e-06}.\n",
      "\n",
      "\n",
      "tune_lambda_l1_and_lambda_l2, val_score: 0.318153:  40%|####      | 8/20 [00:05<00:07,  1.51it/s]"
     ]
    },
    {
     "name": "stdout",
     "output_type": "stream",
     "text": [
      "Training until validation scores don't improve for 100 rounds\n",
      "[100]\ttraining's binary_logloss: 0.166845\tvalid_1's binary_logloss: 0.323251\n",
      "Early stopping, best iteration is:\n",
      "[69]\ttraining's binary_logloss: 0.196257\tvalid_1's binary_logloss: 0.318153\n"
     ]
    },
    {
     "name": "stderr",
     "output_type": "stream",
     "text": [
      "\n",
      "\n",
      "tune_lambda_l1_and_lambda_l2, val_score: 0.318153:  40%|####      | 8/20 [00:06<00:07,  1.51it/s]\n",
      "\n",
      "tune_lambda_l1_and_lambda_l2, val_score: 0.318153:  45%|####5     | 9/20 [00:06<00:07,  1.45it/s][I 2020-03-24 14:01:30,644] Finished trial#8 resulted in value: 0.31815325717786386. Current best value is 0.3181532220211177 with parameters: {'lambda_l1': 0.00013584439874306196, 'lambda_l2': 6.394869911747367e-06}.\n",
      "\n",
      "\n",
      "tune_lambda_l1_and_lambda_l2, val_score: 0.318153:  45%|####5     | 9/20 [00:06<00:07,  1.45it/s]"
     ]
    },
    {
     "name": "stdout",
     "output_type": "stream",
     "text": [
      "Training until validation scores don't improve for 100 rounds\n",
      "[100]\ttraining's binary_logloss: 0.16716\tvalid_1's binary_logloss: 0.327784\n",
      "Early stopping, best iteration is:\n",
      "[40]\ttraining's binary_logloss: 0.234492\tvalid_1's binary_logloss: 0.324106\n"
     ]
    },
    {
     "name": "stderr",
     "output_type": "stream",
     "text": [
      "\n",
      "\n",
      "tune_lambda_l1_and_lambda_l2, val_score: 0.318153:  45%|####5     | 9/20 [00:06<00:07,  1.45it/s]\n",
      "\n",
      "tune_lambda_l1_and_lambda_l2, val_score: 0.318153:  50%|#####     | 10/20 [00:06<00:06,  1.51it/s][I 2020-03-24 14:01:31,236] Finished trial#9 resulted in value: 0.3241055690743756. Current best value is 0.3181532220211177 with parameters: {'lambda_l1': 0.00013584439874306196, 'lambda_l2': 6.394869911747367e-06}.\n",
      "\n",
      "\n",
      "tune_lambda_l1_and_lambda_l2, val_score: 0.318153:  50%|#####     | 10/20 [00:06<00:06,  1.51it/s]"
     ]
    },
    {
     "name": "stdout",
     "output_type": "stream",
     "text": [
      "Training until validation scores don't improve for 100 rounds\n",
      "[100]\ttraining's binary_logloss: 0.167363\tvalid_1's binary_logloss: 0.323862\n",
      "Early stopping, best iteration is:\n",
      "[60]\ttraining's binary_logloss: 0.208262\tvalid_1's binary_logloss: 0.320789\n"
     ]
    },
    {
     "name": "stderr",
     "output_type": "stream",
     "text": [
      "\n",
      "\n",
      "tune_lambda_l1_and_lambda_l2, val_score: 0.318153:  50%|#####     | 10/20 [00:07<00:06,  1.51it/s]\n",
      "\n",
      "tune_lambda_l1_and_lambda_l2, val_score: 0.318153:  55%|#####5    | 11/20 [00:07<00:05,  1.53it/s][I 2020-03-24 14:01:31,873] Finished trial#10 resulted in value: 0.3207885798260489. Current best value is 0.3181532220211177 with parameters: {'lambda_l1': 0.00013584439874306196, 'lambda_l2': 6.394869911747367e-06}.\n",
      "\n",
      "\n",
      "tune_lambda_l1_and_lambda_l2, val_score: 0.318153:  55%|#####5    | 11/20 [00:07<00:05,  1.53it/s]"
     ]
    },
    {
     "name": "stdout",
     "output_type": "stream",
     "text": [
      "Training until validation scores don't improve for 100 rounds\n",
      "[100]\ttraining's binary_logloss: 0.169493\tvalid_1's binary_logloss: 0.323856\n",
      "Early stopping, best iteration is:\n",
      "[56]\ttraining's binary_logloss: 0.214122\tvalid_1's binary_logloss: 0.319655\n"
     ]
    },
    {
     "name": "stderr",
     "output_type": "stream",
     "text": [
      "\n",
      "\n",
      "tune_lambda_l1_and_lambda_l2, val_score: 0.318153:  55%|#####5    | 11/20 [00:08<00:05,  1.53it/s]\n",
      "\n",
      "tune_lambda_l1_and_lambda_l2, val_score: 0.318153:  60%|######    | 12/20 [00:08<00:05,  1.50it/s][I 2020-03-24 14:01:32,738] Finished trial#11 resulted in value: 0.31965543336270485. Current best value is 0.3181532220211177 with parameters: {'lambda_l1': 0.00013584439874306196, 'lambda_l2': 6.394869911747367e-06}.\n",
      "\n",
      "\n",
      "tune_lambda_l1_and_lambda_l2, val_score: 0.318153:  60%|######    | 12/20 [00:08<00:05,  1.50it/s]"
     ]
    },
    {
     "name": "stdout",
     "output_type": "stream",
     "text": [
      "Training until validation scores don't improve for 100 rounds\n",
      "[100]\ttraining's binary_logloss: 0.166843\tvalid_1's binary_logloss: 0.323251\n",
      "Early stopping, best iteration is:\n",
      "[69]\ttraining's binary_logloss: 0.196256\tvalid_1's binary_logloss: 0.318153\n"
     ]
    },
    {
     "name": "stderr",
     "output_type": "stream",
     "text": [
      "\n",
      "\n",
      "tune_lambda_l1_and_lambda_l2, val_score: 0.318153:  60%|######    | 12/20 [00:09<00:05,  1.50it/s]\n",
      "\n",
      "tune_lambda_l1_and_lambda_l2, val_score: 0.318153:  65%|######5   | 13/20 [00:09<00:05,  1.25it/s][I 2020-03-24 14:01:33,683] Finished trial#12 resulted in value: 0.318153276460685. Current best value is 0.3181532220211177 with parameters: {'lambda_l1': 0.00013584439874306196, 'lambda_l2': 6.394869911747367e-06}.\n",
      "\n",
      "\n",
      "tune_lambda_l1_and_lambda_l2, val_score: 0.318153:  65%|######5   | 13/20 [00:09<00:05,  1.25it/s]"
     ]
    },
    {
     "name": "stdout",
     "output_type": "stream",
     "text": [
      "Training until validation scores don't improve for 100 rounds\n",
      "[100]\ttraining's binary_logloss: 0.167422\tvalid_1's binary_logloss: 0.327137\n",
      "Early stopping, best iteration is:\n",
      "[39]\ttraining's binary_logloss: 0.236199\tvalid_1's binary_logloss: 0.323625\n"
     ]
    },
    {
     "name": "stderr",
     "output_type": "stream",
     "text": [
      "\n",
      "\n",
      "tune_lambda_l1_and_lambda_l2, val_score: 0.318153:  65%|######5   | 13/20 [00:09<00:05,  1.25it/s]\n",
      "\n",
      "tune_lambda_l1_and_lambda_l2, val_score: 0.318153:  70%|#######   | 14/20 [00:09<00:04,  1.36it/s][I 2020-03-24 14:01:34,253] Finished trial#13 resulted in value: 0.3236253259025933. Current best value is 0.3181532220211177 with parameters: {'lambda_l1': 0.00013584439874306196, 'lambda_l2': 6.394869911747367e-06}.\n",
      "\n",
      "\n",
      "tune_lambda_l1_and_lambda_l2, val_score: 0.318153:  70%|#######   | 14/20 [00:09<00:04,  1.36it/s]"
     ]
    },
    {
     "name": "stdout",
     "output_type": "stream",
     "text": [
      "Training until validation scores don't improve for 100 rounds\n",
      "[100]\ttraining's binary_logloss: 0.166843\tvalid_1's binary_logloss: 0.323251\n",
      "Early stopping, best iteration is:\n",
      "[69]\ttraining's binary_logloss: 0.196256\tvalid_1's binary_logloss: 0.318153\n"
     ]
    },
    {
     "name": "stderr",
     "output_type": "stream",
     "text": [
      "\n",
      "\n",
      "tune_lambda_l1_and_lambda_l2, val_score: 0.318153:  70%|#######   | 14/20 [00:10<00:04,  1.36it/s]\n",
      "\n",
      "tune_lambda_l1_and_lambda_l2, val_score: 0.318153:  75%|#######5  | 15/20 [00:10<00:03,  1.41it/s][I 2020-03-24 14:01:34,902] Finished trial#14 resulted in value: 0.3181532776861616. Current best value is 0.3181532220211177 with parameters: {'lambda_l1': 0.00013584439874306196, 'lambda_l2': 6.394869911747367e-06}.\n",
      "\n",
      "\n",
      "tune_lambda_l1_and_lambda_l2, val_score: 0.318153:  75%|#######5  | 15/20 [00:10<00:03,  1.41it/s]"
     ]
    },
    {
     "name": "stdout",
     "output_type": "stream",
     "text": [
      "Training until validation scores don't improve for 100 rounds\n",
      "[100]\ttraining's binary_logloss: 0.167599\tvalid_1's binary_logloss: 0.329259\n",
      "Early stopping, best iteration is:\n",
      "[33]\ttraining's binary_logloss: 0.245143\tvalid_1's binary_logloss: 0.322419\n"
     ]
    },
    {
     "name": "stderr",
     "output_type": "stream",
     "text": [
      "\n",
      "\n",
      "tune_lambda_l1_and_lambda_l2, val_score: 0.318153:  75%|#######5  | 15/20 [00:11<00:03,  1.41it/s]\n",
      "\n",
      "tune_lambda_l1_and_lambda_l2, val_score: 0.318153:  80%|########  | 16/20 [00:11<00:02,  1.45it/s][I 2020-03-24 14:01:35,554] Finished trial#15 resulted in value: 0.3224186079647787. Current best value is 0.3181532220211177 with parameters: {'lambda_l1': 0.00013584439874306196, 'lambda_l2': 6.394869911747367e-06}.\n",
      "\n",
      "\n",
      "tune_lambda_l1_and_lambda_l2, val_score: 0.318153:  80%|########  | 16/20 [00:11<00:02,  1.45it/s]"
     ]
    },
    {
     "name": "stdout",
     "output_type": "stream",
     "text": [
      "Training until validation scores don't improve for 100 rounds\n",
      "[100]\ttraining's binary_logloss: 0.166849\tvalid_1's binary_logloss: 0.32325\n",
      "Early stopping, best iteration is:\n",
      "[69]\ttraining's binary_logloss: 0.196261\tvalid_1's binary_logloss: 0.318153\n"
     ]
    },
    {
     "name": "stderr",
     "output_type": "stream",
     "text": [
      "\n",
      "\n",
      "tune_lambda_l1_and_lambda_l2, val_score: 0.318153:  80%|########  | 16/20 [00:11<00:02,  1.45it/s]\n",
      "\n",
      "tune_lambda_l1_and_lambda_l2, val_score: 0.318153:  85%|########5 | 17/20 [00:11<00:02,  1.46it/s][I 2020-03-24 14:01:36,220] Finished trial#16 resulted in value: 0.31815318331305814. Current best value is 0.31815318331305814 with parameters: {'lambda_l1': 3.2058027852409015e-05, 'lambda_l2': 0.00024029535464463992}.\n",
      "\n",
      "\n",
      "tune_lambda_l1_and_lambda_l2, val_score: 0.318153:  85%|########5 | 17/20 [00:11<00:02,  1.46it/s]"
     ]
    },
    {
     "name": "stdout",
     "output_type": "stream",
     "text": [
      "Training until validation scores don't improve for 100 rounds\n",
      "[100]\ttraining's binary_logloss: 0.168108\tvalid_1's binary_logloss: 0.325864\n",
      "Early stopping, best iteration is:\n",
      "[69]\ttraining's binary_logloss: 0.197936\tvalid_1's binary_logloss: 0.323605\n"
     ]
    },
    {
     "name": "stderr",
     "output_type": "stream",
     "text": [
      "\n",
      "\n",
      "tune_lambda_l1_and_lambda_l2, val_score: 0.318153:  85%|########5 | 17/20 [00:12<00:02,  1.46it/s]\n",
      "\n",
      "tune_lambda_l1_and_lambda_l2, val_score: 0.318153:  90%|######### | 18/20 [00:12<00:01,  1.45it/s][I 2020-03-24 14:01:36,923] Finished trial#17 resulted in value: 0.32360507251250425. Current best value is 0.31815318331305814 with parameters: {'lambda_l1': 3.2058027852409015e-05, 'lambda_l2': 0.00024029535464463992}.\n",
      "\n",
      "\n",
      "tune_lambda_l1_and_lambda_l2, val_score: 0.318153:  90%|######### | 18/20 [00:12<00:01,  1.45it/s]"
     ]
    },
    {
     "name": "stdout",
     "output_type": "stream",
     "text": [
      "Training until validation scores don't improve for 100 rounds\n",
      "[100]\ttraining's binary_logloss: 0.166803\tvalid_1's binary_logloss: 0.326671\n",
      "Early stopping, best iteration is:\n",
      "[43]\ttraining's binary_logloss: 0.229259\tvalid_1's binary_logloss: 0.322601\n"
     ]
    },
    {
     "name": "stderr",
     "output_type": "stream",
     "text": [
      "\n",
      "\n",
      "tune_lambda_l1_and_lambda_l2, val_score: 0.318153:  90%|######### | 18/20 [00:12<00:01,  1.45it/s]\n",
      "\n",
      "tune_lambda_l1_and_lambda_l2, val_score: 0.318153:  95%|#########5| 19/20 [00:12<00:00,  1.52it/s][I 2020-03-24 14:01:37,511] Finished trial#18 resulted in value: 0.32260130534630826. Current best value is 0.31815318331305814 with parameters: {'lambda_l1': 3.2058027852409015e-05, 'lambda_l2': 0.00024029535464463992}.\n",
      "\n",
      "\n",
      "tune_lambda_l1_and_lambda_l2, val_score: 0.318153:  95%|#########5| 19/20 [00:13<00:00,  1.52it/s]"
     ]
    },
    {
     "name": "stdout",
     "output_type": "stream",
     "text": [
      "Training until validation scores don't improve for 100 rounds\n",
      "[100]\ttraining's binary_logloss: 0.210077\tvalid_1's binary_logloss: 0.331228\n",
      "Early stopping, best iteration is:\n",
      "[37]\ttraining's binary_logloss: 0.267775\tvalid_1's binary_logloss: 0.326174\n"
     ]
    },
    {
     "name": "stderr",
     "output_type": "stream",
     "text": [
      "\n",
      "\n",
      "tune_lambda_l1_and_lambda_l2, val_score: 0.318153:  95%|#########5| 19/20 [00:13<00:00,  1.52it/s]\n",
      "\n",
      "tune_lambda_l1_and_lambda_l2, val_score: 0.318153: 100%|##########| 20/20 [00:13<00:00,  1.54it/s][I 2020-03-24 14:01:38,145] Finished trial#19 resulted in value: 0.3261743206034298. Current best value is 0.31815318331305814 with parameters: {'lambda_l1': 3.2058027852409015e-05, 'lambda_l2': 0.00024029535464463992}.\n",
      "tune_lambda_l1_and_lambda_l2, val_score: 0.318153: 100%|##########| 20/20 [00:13<00:00,  1.46it/s]\n",
      "\n",
      "\n",
      "  0%|          | 0/5 [00:00<?, ?it/s]\n",
      "\n",
      "tune_min_child_samples, val_score: 0.318153:   0%|          | 0/5 [00:00<?, ?it/s]"
     ]
    },
    {
     "name": "stdout",
     "output_type": "stream",
     "text": [
      "Training until validation scores don't improve for 100 rounds\n",
      "[100]\ttraining's binary_logloss: 0.159372\tvalid_1's binary_logloss: 0.326768\n",
      "Early stopping, best iteration is:\n",
      "[58]\ttraining's binary_logloss: 0.201591\tvalid_1's binary_logloss: 0.323905\n"
     ]
    },
    {
     "name": "stderr",
     "output_type": "stream",
     "text": [
      "\n",
      "\n",
      "tune_min_child_samples, val_score: 0.318153:   0%|          | 0/5 [00:00<?, ?it/s]\n",
      "\n",
      "tune_min_child_samples, val_score: 0.318153:  20%|##        | 1/5 [00:00<00:02,  1.72it/s][I 2020-03-24 14:01:38,852] Finished trial#0 resulted in value: 0.3239047488604238. Current best value is 0.3239047488604238 with parameters: {'min_child_samples': 5}.\n",
      "\n",
      "\n",
      "tune_min_child_samples, val_score: 0.318153:  20%|##        | 1/5 [00:00<00:02,  1.72it/s]"
     ]
    },
    {
     "name": "stdout",
     "output_type": "stream",
     "text": [
      "Training until validation scores don't improve for 100 rounds\n",
      "[100]\ttraining's binary_logloss: 0.161337\tvalid_1's binary_logloss: 0.329766\n",
      "Early stopping, best iteration is:\n",
      "[34]\ttraining's binary_logloss: 0.240396\tvalid_1's binary_logloss: 0.324436\n"
     ]
    },
    {
     "name": "stderr",
     "output_type": "stream",
     "text": [
      "\n",
      "\n",
      "tune_min_child_samples, val_score: 0.318153:  20%|##        | 1/5 [00:01<00:02,  1.72it/s]\n",
      "\n",
      "tune_min_child_samples, val_score: 0.318153:  40%|####      | 2/5 [00:01<00:01,  1.74it/s][I 2020-03-24 14:01:39,413] Finished trial#1 resulted in value: 0.324435544795785. Current best value is 0.3239047488604238 with parameters: {'min_child_samples': 5}.\n",
      "\n",
      "\n",
      "tune_min_child_samples, val_score: 0.318153:  40%|####      | 2/5 [00:01<00:01,  1.74it/s]"
     ]
    },
    {
     "name": "stdout",
     "output_type": "stream",
     "text": [
      "Training until validation scores don't improve for 100 rounds\n",
      "[100]\ttraining's binary_logloss: 0.167554\tvalid_1's binary_logloss: 0.331031\n",
      "Early stopping, best iteration is:\n",
      "[42]\ttraining's binary_logloss: 0.232594\tvalid_1's binary_logloss: 0.323659\n"
     ]
    },
    {
     "name": "stderr",
     "output_type": "stream",
     "text": [
      "\n",
      "\n",
      "tune_min_child_samples, val_score: 0.318153:  40%|####      | 2/5 [00:01<00:01,  1.74it/s]\n",
      "\n",
      "tune_min_child_samples, val_score: 0.318153:  60%|######    | 3/5 [00:01<00:01,  1.70it/s][I 2020-03-24 14:01:40,037] Finished trial#2 resulted in value: 0.32365877161755013. Current best value is 0.32365877161755013 with parameters: {'min_child_samples': 25}.\n",
      "\n",
      "\n",
      "tune_min_child_samples, val_score: 0.318153:  60%|######    | 3/5 [00:01<00:01,  1.70it/s]"
     ]
    },
    {
     "name": "stdout",
     "output_type": "stream",
     "text": [
      "Training until validation scores don't improve for 100 rounds\n",
      "[100]\ttraining's binary_logloss: 0.175398\tvalid_1's binary_logloss: 0.330344\n",
      "Early stopping, best iteration is:\n",
      "[46]\ttraining's binary_logloss: 0.234122\tvalid_1's binary_logloss: 0.325912\n"
     ]
    },
    {
     "name": "stderr",
     "output_type": "stream",
     "text": [
      "\n",
      "\n",
      "tune_min_child_samples, val_score: 0.318153:  60%|######    | 3/5 [00:02<00:01,  1.70it/s]\n",
      "\n",
      "tune_min_child_samples, val_score: 0.318153:  80%|########  | 4/5 [00:02<00:00,  1.70it/s][I 2020-03-24 14:01:40,621] Finished trial#3 resulted in value: 0.3259116067164848. Current best value is 0.32365877161755013 with parameters: {'min_child_samples': 25}.\n",
      "\n",
      "\n",
      "tune_min_child_samples, val_score: 0.318153:  80%|########  | 4/5 [00:02<00:00,  1.70it/s]"
     ]
    },
    {
     "name": "stdout",
     "output_type": "stream",
     "text": [
      "Training until validation scores don't improve for 100 rounds\n",
      "[100]\ttraining's binary_logloss: 0.184774\tvalid_1's binary_logloss: 0.333625\n",
      "Early stopping, best iteration is:\n",
      "[34]\ttraining's binary_logloss: 0.259841\tvalid_1's binary_logloss: 0.326424\n"
     ]
    },
    {
     "name": "stderr",
     "output_type": "stream",
     "text": [
      "\n",
      "\n",
      "tune_min_child_samples, val_score: 0.318153:  80%|########  | 4/5 [00:02<00:00,  1.70it/s]\n",
      "\n",
      "tune_min_child_samples, val_score: 0.318153: 100%|##########| 5/5 [00:02<00:00,  1.72it/s][I 2020-03-24 14:01:41,191] Finished trial#4 resulted in value: 0.3264237237103212. Current best value is 0.32365877161755013 with parameters: {'min_child_samples': 25}.\n",
      "tune_min_child_samples, val_score: 0.318153: 100%|##########| 5/5 [00:03<00:00,  1.64it/s]\n"
     ]
    },
    {
     "name": "stdout",
     "output_type": "stream",
     "text": [
      "2020-03-24 14:01:41 Reply ********************************************************************************\n",
      "Reply\n",
      "n_pos_wanted 1000\n",
      "2020-03-24 14:01:41 chunk 1\n",
      "2020-03-24 14:01:41 chunk 2\n",
      "2020-03-24 14:01:42 chunk 3\n",
      "2020-03-24 14:01:42 chunk 4\n",
      "dftrvl.shape: (10000, 95) dftrvl[tgtcol].mean(): 0.1103\n",
      "{'train_pop': 40000, 'target_pop': 1103, 'sampled_train_pop': 10000, 'sampled_target_pop': 1103}\n",
      "{'objective': 'binary', 'metric': 'binary_logloss', 'verbosity': 1, 'boosting_type': 'gbdt'}\n"
     ]
    },
    {
     "name": "stderr",
     "output_type": "stream",
     "text": [
      "\n",
      "\n",
      "  0%|          | 0/7 [00:00<?, ?it/s]\n",
      "\n",
      "tune_feature_fraction, val_score: inf:   0%|          | 0/7 [00:00<?, ?it/s]"
     ]
    },
    {
     "name": "stdout",
     "output_type": "stream",
     "text": [
      "Training until validation scores don't improve for 100 rounds\n",
      "[100]\ttraining's binary_logloss: 0.164702\tvalid_1's binary_logloss: 0.316939\n",
      "Early stopping, best iteration is:\n",
      "[34]\ttraining's binary_logloss: 0.237131\tvalid_1's binary_logloss: 0.309733\n"
     ]
    },
    {
     "name": "stderr",
     "output_type": "stream",
     "text": [
      "\n",
      "\n",
      "tune_feature_fraction, val_score: 0.309733:   0%|          | 0/7 [00:00<?, ?it/s]\n",
      "\n",
      "tune_feature_fraction, val_score: 0.309733:  14%|#4        | 1/7 [00:00<00:02,  2.04it/s][I 2020-03-24 14:01:43,085] Finished trial#0 resulted in value: 0.3097333862703734. Current best value is 0.3097333862703734 with parameters: {'feature_fraction': 0.4}.\n",
      "\n",
      "\n",
      "tune_feature_fraction, val_score: 0.309733:  14%|#4        | 1/7 [00:00<00:02,  2.04it/s]"
     ]
    },
    {
     "name": "stdout",
     "output_type": "stream",
     "text": [
      "Training until validation scores don't improve for 100 rounds\n",
      "[100]\ttraining's binary_logloss: 0.161476\tvalid_1's binary_logloss: 0.313365\n",
      "Early stopping, best iteration is:\n",
      "[27]\ttraining's binary_logloss: 0.244249\tvalid_1's binary_logloss: 0.308349\n"
     ]
    },
    {
     "name": "stderr",
     "output_type": "stream",
     "text": [
      "\n",
      "\n",
      "tune_feature_fraction, val_score: 0.308349:  14%|#4        | 1/7 [00:01<00:02,  2.04it/s]\n",
      "\n",
      "tune_feature_fraction, val_score: 0.308349:  29%|##8       | 2/7 [00:01<00:02,  1.98it/s][I 2020-03-24 14:01:43,615] Finished trial#1 resulted in value: 0.308349403739648. Current best value is 0.308349403739648 with parameters: {'feature_fraction': 0.5}.\n",
      "\n",
      "\n",
      "tune_feature_fraction, val_score: 0.308349:  29%|##8       | 2/7 [00:01<00:02,  1.98it/s]"
     ]
    },
    {
     "name": "stdout",
     "output_type": "stream",
     "text": [
      "Training until validation scores don't improve for 100 rounds\n",
      "[100]\ttraining's binary_logloss: 0.158635\tvalid_1's binary_logloss: 0.319243\n",
      "Early stopping, best iteration is:\n",
      "[21]\ttraining's binary_logloss: 0.252761\tvalid_1's binary_logloss: 0.305814\n"
     ]
    },
    {
     "name": "stderr",
     "output_type": "stream",
     "text": [
      "\n",
      "\n",
      "tune_feature_fraction, val_score: 0.305814:  29%|##8       | 2/7 [00:01<00:02,  1.98it/s]\n",
      "\n",
      "tune_feature_fraction, val_score: 0.305814:  43%|####2     | 3/7 [00:01<00:02,  1.98it/s][I 2020-03-24 14:01:44,125] Finished trial#2 resulted in value: 0.3058136758810931. Current best value is 0.3058136758810931 with parameters: {'feature_fraction': 0.6}.\n",
      "\n",
      "\n",
      "tune_feature_fraction, val_score: 0.305814:  43%|####2     | 3/7 [00:01<00:02,  1.98it/s]"
     ]
    },
    {
     "name": "stdout",
     "output_type": "stream",
     "text": [
      "Training until validation scores don't improve for 100 rounds\n",
      "[100]\ttraining's binary_logloss: 0.157359\tvalid_1's binary_logloss: 0.31781\n",
      "Early stopping, best iteration is:\n",
      "[21]\ttraining's binary_logloss: 0.252184\tvalid_1's binary_logloss: 0.306885\n"
     ]
    },
    {
     "name": "stderr",
     "output_type": "stream",
     "text": [
      "\n",
      "\n",
      "tune_feature_fraction, val_score: 0.305814:  43%|####2     | 3/7 [00:02<00:02,  1.98it/s]\n",
      "\n",
      "tune_feature_fraction, val_score: 0.305814:  57%|#####7    | 4/7 [00:02<00:01,  1.99it/s][I 2020-03-24 14:01:44,624] Finished trial#3 resulted in value: 0.3068846693289135. Current best value is 0.3058136758810931 with parameters: {'feature_fraction': 0.6}.\n",
      "\n",
      "\n",
      "tune_feature_fraction, val_score: 0.305814:  57%|#####7    | 4/7 [00:02<00:01,  1.99it/s]"
     ]
    },
    {
     "name": "stdout",
     "output_type": "stream",
     "text": [
      "Training until validation scores don't improve for 100 rounds\n",
      "[100]\ttraining's binary_logloss: 0.154063\tvalid_1's binary_logloss: 0.322058\n",
      "Early stopping, best iteration is:\n",
      "[18]\ttraining's binary_logloss: 0.258676\tvalid_1's binary_logloss: 0.309915\n"
     ]
    },
    {
     "name": "stderr",
     "output_type": "stream",
     "text": [
      "\n",
      "\n",
      "tune_feature_fraction, val_score: 0.305814:  57%|#####7    | 4/7 [00:02<00:01,  1.99it/s]\n",
      "\n",
      "tune_feature_fraction, val_score: 0.305814:  71%|#######1  | 5/7 [00:02<00:01,  1.86it/s][I 2020-03-24 14:01:45,243] Finished trial#4 resulted in value: 0.30991459411602346. Current best value is 0.3058136758810931 with parameters: {'feature_fraction': 0.6}.\n",
      "\n",
      "\n",
      "tune_feature_fraction, val_score: 0.305814:  71%|#######1  | 5/7 [00:02<00:01,  1.86it/s]"
     ]
    },
    {
     "name": "stdout",
     "output_type": "stream",
     "text": [
      "Training until validation scores don't improve for 100 rounds\n",
      "[100]\ttraining's binary_logloss: 0.152108\tvalid_1's binary_logloss: 0.324594\n",
      "Early stopping, best iteration is:\n",
      "[19]\ttraining's binary_logloss: 0.255247\tvalid_1's binary_logloss: 0.308207\n"
     ]
    },
    {
     "name": "stderr",
     "output_type": "stream",
     "text": [
      "\n",
      "\n",
      "tune_feature_fraction, val_score: 0.305814:  71%|#######1  | 5/7 [00:03<00:01,  1.86it/s]\n",
      "\n",
      "tune_feature_fraction, val_score: 0.305814:  86%|########5 | 6/7 [00:03<00:00,  1.88it/s][I 2020-03-24 14:01:45,756] Finished trial#5 resulted in value: 0.30820731331617807. Current best value is 0.3058136758810931 with parameters: {'feature_fraction': 0.6}.\n",
      "\n",
      "\n",
      "tune_feature_fraction, val_score: 0.305814:  86%|########5 | 6/7 [00:03<00:00,  1.88it/s]"
     ]
    },
    {
     "name": "stdout",
     "output_type": "stream",
     "text": [
      "Training until validation scores don't improve for 100 rounds\n",
      "[100]\ttraining's binary_logloss: 0.151719\tvalid_1's binary_logloss: 0.322526\n",
      "Early stopping, best iteration is:\n",
      "[29]\ttraining's binary_logloss: 0.233759\tvalid_1's binary_logloss: 0.308902\n"
     ]
    },
    {
     "name": "stderr",
     "output_type": "stream",
     "text": [
      "\n",
      "\n",
      "tune_feature_fraction, val_score: 0.305814:  86%|########5 | 6/7 [00:03<00:00,  1.88it/s]\n",
      "\n",
      "tune_feature_fraction, val_score: 0.305814: 100%|##########| 7/7 [00:03<00:00,  1.86it/s][I 2020-03-24 14:01:46,309] Finished trial#6 resulted in value: 0.3089022869446889. Current best value is 0.3058136758810931 with parameters: {'feature_fraction': 0.6}.\n",
      "tune_feature_fraction, val_score: 0.305814: 100%|##########| 7/7 [00:03<00:00,  1.82it/s]\n",
      "\n",
      "\n",
      "  0%|          | 0/20 [00:00<?, ?it/s]\n",
      "\n",
      "tune_num_leaves, val_score: 0.305814:   0%|          | 0/20 [00:00<?, ?it/s]"
     ]
    },
    {
     "name": "stdout",
     "output_type": "stream",
     "text": [
      "Training until validation scores don't improve for 100 rounds\n",
      "[100]\ttraining's binary_logloss: 0.00822778\tvalid_1's binary_logloss: 0.438465\n",
      "Early stopping, best iteration is:\n",
      "[16]\ttraining's binary_logloss: 0.164\tvalid_1's binary_logloss: 0.318957\n"
     ]
    },
    {
     "name": "stderr",
     "output_type": "stream",
     "text": [
      "\n",
      "\n",
      "tune_num_leaves, val_score: 0.305814:   0%|          | 0/20 [00:02<?, ?it/s]\n",
      "\n",
      "tune_num_leaves, val_score: 0.305814:   5%|5         | 1/20 [00:02<00:41,  2.18s/it][I 2020-03-24 14:01:48,629] Finished trial#0 resulted in value: 0.3189573065447508. Current best value is 0.3189573065447508 with parameters: {'num_leaves': 234}.\n",
      "\n",
      "\n",
      "tune_num_leaves, val_score: 0.305814:   5%|5         | 1/20 [00:02<00:41,  2.18s/it]"
     ]
    },
    {
     "name": "stdout",
     "output_type": "stream",
     "text": [
      "Training until validation scores don't improve for 100 rounds\n",
      "[100]\ttraining's binary_logloss: 0.200582\tvalid_1's binary_logloss: 0.310738\n",
      "Early stopping, best iteration is:\n",
      "[22]\ttraining's binary_logloss: 0.269463\tvalid_1's binary_logloss: 0.303733\n"
     ]
    },
    {
     "name": "stderr",
     "output_type": "stream",
     "text": [
      "\n",
      "\n",
      "tune_num_leaves, val_score: 0.303733:   5%|5         | 1/20 [00:02<00:41,  2.18s/it]\n",
      "\n",
      "tune_num_leaves, val_score: 0.303733:  10%|#         | 2/20 [00:02<00:29,  1.66s/it][I 2020-03-24 14:01:49,059] Finished trial#1 resulted in value: 0.3037325914342944. Current best value is 0.3037325914342944 with parameters: {'num_leaves': 19}.\n",
      "\n",
      "\n",
      "tune_num_leaves, val_score: 0.303733:  10%|#         | 2/20 [00:02<00:29,  1.66s/it]"
     ]
    },
    {
     "name": "stdout",
     "output_type": "stream",
     "text": [
      "Training until validation scores don't improve for 100 rounds\n",
      "[100]\ttraining's binary_logloss: 0.214195\tvalid_1's binary_logloss: 0.312799\n",
      "Early stopping, best iteration is:\n",
      "[29]\ttraining's binary_logloss: 0.267289\tvalid_1's binary_logloss: 0.306635\n"
     ]
    },
    {
     "name": "stderr",
     "output_type": "stream",
     "text": [
      "\n",
      "\n",
      "tune_num_leaves, val_score: 0.303733:  10%|#         | 2/20 [00:03<00:29,  1.66s/it]\n",
      "\n",
      "tune_num_leaves, val_score: 0.303733:  15%|#5        | 3/20 [00:03<00:21,  1.29s/it][I 2020-03-24 14:01:49,473] Finished trial#2 resulted in value: 0.3066345416689466. Current best value is 0.3037325914342944 with parameters: {'num_leaves': 19}.\n",
      "\n",
      "\n",
      "tune_num_leaves, val_score: 0.303733:  15%|#5        | 3/20 [00:03<00:21,  1.29s/it]"
     ]
    },
    {
     "name": "stdout",
     "output_type": "stream",
     "text": [
      "Training until validation scores don't improve for 100 rounds\n",
      "[100]\ttraining's binary_logloss: 0.00793496\tvalid_1's binary_logloss: 0.451595\n",
      "Early stopping, best iteration is:\n",
      "[19]\ttraining's binary_logloss: 0.145842\tvalid_1's binary_logloss: 0.316505\n"
     ]
    },
    {
     "name": "stderr",
     "output_type": "stream",
     "text": [
      "\n",
      "\n",
      "tune_num_leaves, val_score: 0.303733:  15%|#5        | 3/20 [00:05<00:21,  1.29s/it]\n",
      "\n",
      "tune_num_leaves, val_score: 0.303733:  20%|##        | 4/20 [00:05<00:25,  1.58s/it][I 2020-03-24 14:01:51,754] Finished trial#3 resulted in value: 0.31650456285228834. Current best value is 0.3037325914342944 with parameters: {'num_leaves': 19}.\n",
      "\n",
      "\n",
      "tune_num_leaves, val_score: 0.303733:  20%|##        | 4/20 [00:05<00:25,  1.58s/it]"
     ]
    },
    {
     "name": "stdout",
     "output_type": "stream",
     "text": [
      "Training until validation scores don't improve for 100 rounds\n",
      "[100]\ttraining's binary_logloss: 0.035251\tvalid_1's binary_logloss: 0.37764\n",
      "Early stopping, best iteration is:\n",
      "[17]\ttraining's binary_logloss: 0.193003\tvalid_1's binary_logloss: 0.314756\n"
     ]
    },
    {
     "name": "stderr",
     "output_type": "stream",
     "text": [
      "\n",
      "\n",
      "tune_num_leaves, val_score: 0.303733:  20%|##        | 4/20 [00:06<00:25,  1.58s/it]\n",
      "\n",
      "tune_num_leaves, val_score: 0.303733:  25%|##5       | 5/20 [00:06<00:22,  1.50s/it][I 2020-03-24 14:01:53,058] Finished trial#4 resulted in value: 0.3147559157268193. Current best value is 0.3037325914342944 with parameters: {'num_leaves': 19}.\n",
      "\n",
      "\n",
      "tune_num_leaves, val_score: 0.303733:  25%|##5       | 5/20 [00:06<00:22,  1.50s/it]"
     ]
    },
    {
     "name": "stdout",
     "output_type": "stream",
     "text": [
      "Training until validation scores don't improve for 100 rounds\n",
      "[100]\ttraining's binary_logloss: 0.0741525\tvalid_1's binary_logloss: 0.340191\n",
      "Early stopping, best iteration is:\n",
      "[20]\ttraining's binary_logloss: 0.210068\tvalid_1's binary_logloss: 0.310778\n"
     ]
    },
    {
     "name": "stderr",
     "output_type": "stream",
     "text": [
      "\n",
      "\n",
      "tune_num_leaves, val_score: 0.303733:  25%|##5       | 5/20 [00:07<00:22,  1.50s/it]\n",
      "\n",
      "tune_num_leaves, val_score: 0.303733:  30%|###       | 6/20 [00:07<00:18,  1.32s/it][I 2020-03-24 14:01:53,953] Finished trial#5 resulted in value: 0.3107779666501238. Current best value is 0.3037325914342944 with parameters: {'num_leaves': 19}.\n",
      "\n",
      "\n",
      "tune_num_leaves, val_score: 0.303733:  30%|###       | 6/20 [00:07<00:18,  1.32s/it]"
     ]
    },
    {
     "name": "stdout",
     "output_type": "stream",
     "text": [
      "Training until validation scores don't improve for 100 rounds\n",
      "[100]\ttraining's binary_logloss: 0.00774348\tvalid_1's binary_logloss: 0.445205\n",
      "Early stopping, best iteration is:\n",
      "[20]\ttraining's binary_logloss: 0.140318\tvalid_1's binary_logloss: 0.316741\n"
     ]
    },
    {
     "name": "stderr",
     "output_type": "stream",
     "text": [
      "\n",
      "\n",
      "tune_num_leaves, val_score: 0.303733:  30%|###       | 6/20 [00:09<00:18,  1.32s/it]\n",
      "\n",
      "tune_num_leaves, val_score: 0.303733:  35%|###5      | 7/20 [00:09<00:21,  1.62s/it][I 2020-03-24 14:01:56,274] Finished trial#6 resulted in value: 0.31674068952523826. Current best value is 0.3037325914342944 with parameters: {'num_leaves': 19}.\n",
      "\n",
      "\n",
      "tune_num_leaves, val_score: 0.303733:  35%|###5      | 7/20 [00:09<00:21,  1.62s/it]"
     ]
    },
    {
     "name": "stdout",
     "output_type": "stream",
     "text": [
      "Training until validation scores don't improve for 100 rounds\n",
      "[100]\ttraining's binary_logloss: 0.0644195\tvalid_1's binary_logloss: 0.35615\n",
      "Early stopping, best iteration is:\n",
      "[16]\ttraining's binary_logloss: 0.21835\tvalid_1's binary_logloss: 0.316434\n"
     ]
    },
    {
     "name": "stderr",
     "output_type": "stream",
     "text": [
      "\n",
      "\n",
      "tune_num_leaves, val_score: 0.303733:  35%|###5      | 7/20 [00:10<00:21,  1.62s/it]\n",
      "\n",
      "tune_num_leaves, val_score: 0.303733:  40%|####      | 8/20 [00:10<00:16,  1.42s/it][I 2020-03-24 14:01:57,211] Finished trial#7 resulted in value: 0.3164338080087808. Current best value is 0.3037325914342944 with parameters: {'num_leaves': 19}.\n",
      "\n",
      "\n",
      "tune_num_leaves, val_score: 0.303733:  40%|####      | 8/20 [00:10<00:16,  1.42s/it]"
     ]
    },
    {
     "name": "stdout",
     "output_type": "stream",
     "text": [
      "Training until validation scores don't improve for 100 rounds\n",
      "[100]\ttraining's binary_logloss: 0.0485632\tvalid_1's binary_logloss: 0.351969\n",
      "Early stopping, best iteration is:\n",
      "[20]\ttraining's binary_logloss: 0.189514\tvalid_1's binary_logloss: 0.310087\n"
     ]
    },
    {
     "name": "stderr",
     "output_type": "stream",
     "text": [
      "\n",
      "\n",
      "tune_num_leaves, val_score: 0.303733:  40%|####      | 8/20 [00:11<00:16,  1.42s/it]\n",
      "\n",
      "tune_num_leaves, val_score: 0.303733:  45%|####5     | 9/20 [00:11<00:14,  1.33s/it][I 2020-03-24 14:01:58,349] Finished trial#8 resulted in value: 0.3100866298598817. Current best value is 0.3037325914342944 with parameters: {'num_leaves': 19}.\n",
      "\n",
      "\n",
      "tune_num_leaves, val_score: 0.303733:  45%|####5     | 9/20 [00:12<00:14,  1.33s/it]"
     ]
    },
    {
     "name": "stdout",
     "output_type": "stream",
     "text": [
      "Training until validation scores don't improve for 100 rounds\n",
      "[100]\ttraining's binary_logloss: 0.00778084\tvalid_1's binary_logloss: 0.44919\n",
      "Early stopping, best iteration is:\n",
      "[19]\ttraining's binary_logloss: 0.145799\tvalid_1's binary_logloss: 0.31578\n"
     ]
    },
    {
     "name": "stderr",
     "output_type": "stream",
     "text": [
      "\n",
      "\n",
      "tune_num_leaves, val_score: 0.303733:  45%|####5     | 9/20 [00:14<00:14,  1.33s/it]\n",
      "\n",
      "tune_num_leaves, val_score: 0.303733:  50%|#####     | 10/20 [00:14<00:16,  1.64s/it][I 2020-03-24 14:02:00,704] Finished trial#9 resulted in value: 0.31578048417839494. Current best value is 0.3037325914342944 with parameters: {'num_leaves': 19}.\n",
      "\n",
      "\n",
      "tune_num_leaves, val_score: 0.303733:  50%|#####     | 10/20 [00:14<00:16,  1.64s/it]"
     ]
    },
    {
     "name": "stdout",
     "output_type": "stream",
     "text": [
      "Training until validation scores don't improve for 100 rounds\n",
      "[100]\ttraining's binary_logloss: 0.290722\tvalid_1's binary_logloss: 0.308591\n",
      "[200]\ttraining's binary_logloss: 0.281896\tvalid_1's binary_logloss: 0.309074\n",
      "Early stopping, best iteration is:\n",
      "[109]\ttraining's binary_logloss: 0.289852\tvalid_1's binary_logloss: 0.308276\n"
     ]
    },
    {
     "name": "stderr",
     "output_type": "stream",
     "text": [
      "\n",
      "\n",
      "tune_num_leaves, val_score: 0.303733:  50%|#####     | 10/20 [00:14<00:16,  1.64s/it]\n",
      "\n",
      "tune_num_leaves, val_score: 0.303733:  55%|#####5    | 11/20 [00:14<00:11,  1.27s/it][I 2020-03-24 14:02:01,107] Finished trial#10 resulted in value: 0.30827605490163146. Current best value is 0.3037325914342944 with parameters: {'num_leaves': 19}.\n",
      "\n",
      "\n",
      "tune_num_leaves, val_score: 0.303733:  55%|#####5    | 11/20 [00:14<00:11,  1.27s/it]"
     ]
    },
    {
     "name": "stdout",
     "output_type": "stream",
     "text": [
      "Training until validation scores don't improve for 100 rounds\n",
      "[100]\ttraining's binary_logloss: 0.22331\tvalid_1's binary_logloss: 0.314105\n",
      "Early stopping, best iteration is:\n",
      "[31]\ttraining's binary_logloss: 0.270108\tvalid_1's binary_logloss: 0.306738\n"
     ]
    },
    {
     "name": "stderr",
     "output_type": "stream",
     "text": [
      "\n",
      "\n",
      "tune_num_leaves, val_score: 0.303733:  55%|#####5    | 11/20 [00:15<00:11,  1.27s/it]\n",
      "\n",
      "tune_num_leaves, val_score: 0.303733:  60%|######    | 12/20 [00:15<00:08,  1.01s/it][I 2020-03-24 14:02:01,504] Finished trial#11 resulted in value: 0.30673842174688426. Current best value is 0.3037325914342944 with parameters: {'num_leaves': 19}.\n",
      "\n",
      "\n",
      "tune_num_leaves, val_score: 0.303733:  60%|######    | 12/20 [00:15<00:08,  1.01s/it]"
     ]
    },
    {
     "name": "stdout",
     "output_type": "stream",
     "text": [
      "Training until validation scores don't improve for 100 rounds\n",
      "[100]\ttraining's binary_logloss: 0.139989\tvalid_1's binary_logloss: 0.316644\n",
      "Early stopping, best iteration is:\n",
      "[23]\ttraining's binary_logloss: 0.239919\tvalid_1's binary_logloss: 0.30543\n"
     ]
    },
    {
     "name": "stderr",
     "output_type": "stream",
     "text": [
      "\n",
      "\n",
      "tune_num_leaves, val_score: 0.303733:  60%|######    | 12/20 [00:15<00:08,  1.01s/it]\n",
      "\n",
      "tune_num_leaves, val_score: 0.303733:  65%|######5   | 13/20 [00:15<00:06,  1.13it/s][I 2020-03-24 14:02:02,109] Finished trial#12 resulted in value: 0.3054304002587957. Current best value is 0.3037325914342944 with parameters: {'num_leaves': 19}.\n",
      "\n",
      "\n",
      "tune_num_leaves, val_score: 0.303733:  65%|######5   | 13/20 [00:15<00:06,  1.13it/s]"
     ]
    },
    {
     "name": "stdout",
     "output_type": "stream",
     "text": [
      "Training until validation scores don't improve for 100 rounds\n",
      "[100]\ttraining's binary_logloss: 0.10617\tvalid_1's binary_logloss: 0.32835\n",
      "Early stopping, best iteration is:\n",
      "[21]\ttraining's binary_logloss: 0.226413\tvalid_1's binary_logloss: 0.307933\n"
     ]
    },
    {
     "name": "stderr",
     "output_type": "stream",
     "text": [
      "\n",
      "\n",
      "tune_num_leaves, val_score: 0.303733:  65%|######5   | 13/20 [00:16<00:06,  1.13it/s]\n",
      "\n",
      "tune_num_leaves, val_score: 0.303733:  70%|#######   | 14/20 [00:16<00:05,  1.16it/s][I 2020-03-24 14:02:02,920] Finished trial#13 resulted in value: 0.3079327142582047. Current best value is 0.3037325914342944 with parameters: {'num_leaves': 19}.\n",
      "\n",
      "\n",
      "tune_num_leaves, val_score: 0.303733:  70%|#######   | 14/20 [00:16<00:05,  1.16it/s]"
     ]
    },
    {
     "name": "stdout",
     "output_type": "stream",
     "text": [
      "Training until validation scores don't improve for 100 rounds\n",
      "[100]\ttraining's binary_logloss: 0.0183176\tvalid_1's binary_logloss: 0.403213\n",
      "Early stopping, best iteration is:\n",
      "[16]\ttraining's binary_logloss: 0.179357\tvalid_1's binary_logloss: 0.317311\n"
     ]
    },
    {
     "name": "stderr",
     "output_type": "stream",
     "text": [
      "\n",
      "\n",
      "tune_num_leaves, val_score: 0.303733:  70%|#######   | 14/20 [00:18<00:05,  1.16it/s]\n",
      "\n",
      "tune_num_leaves, val_score: 0.303733:  75%|#######5  | 15/20 [00:18<00:05,  1.12s/it][I 2020-03-24 14:02:04,623] Finished trial#14 resulted in value: 0.31731105574152235. Current best value is 0.3037325914342944 with parameters: {'num_leaves': 19}.\n",
      "\n",
      "\n",
      "tune_num_leaves, val_score: 0.303733:  75%|#######5  | 15/20 [00:18<00:05,  1.12s/it]"
     ]
    },
    {
     "name": "stdout",
     "output_type": "stream",
     "text": [
      "Training until validation scores don't improve for 100 rounds\n",
      "[100]\ttraining's binary_logloss: 0.0169109\tvalid_1's binary_logloss: 0.403378\n",
      "Early stopping, best iteration is:\n",
      "[16]\ttraining's binary_logloss: 0.176831\tvalid_1's binary_logloss: 0.316816\n"
     ]
    },
    {
     "name": "stderr",
     "output_type": "stream",
     "text": [
      "\n",
      "\n",
      "tune_num_leaves, val_score: 0.303733:  75%|#######5  | 15/20 [00:19<00:05,  1.12s/it]\n",
      "\n",
      "tune_num_leaves, val_score: 0.303733:  80%|########  | 16/20 [00:19<00:05,  1.30s/it][I 2020-03-24 14:02:06,350] Finished trial#15 resulted in value: 0.3168161445198557. Current best value is 0.3037325914342944 with parameters: {'num_leaves': 19}.\n",
      "\n",
      "\n",
      "tune_num_leaves, val_score: 0.303733:  80%|########  | 16/20 [00:20<00:05,  1.30s/it]"
     ]
    },
    {
     "name": "stdout",
     "output_type": "stream",
     "text": [
      "Training until validation scores don't improve for 100 rounds\n",
      "[100]\ttraining's binary_logloss: 0.128105\tvalid_1's binary_logloss: 0.320508\n",
      "Early stopping, best iteration is:\n",
      "[23]\ttraining's binary_logloss: 0.234118\tvalid_1's binary_logloss: 0.306349\n"
     ]
    },
    {
     "name": "stderr",
     "output_type": "stream",
     "text": [
      "\n",
      "\n",
      "tune_num_leaves, val_score: 0.303733:  80%|########  | 16/20 [00:20<00:05,  1.30s/it]\n",
      "\n",
      "tune_num_leaves, val_score: 0.303733:  85%|########5 | 17/20 [00:20<00:03,  1.10s/it][I 2020-03-24 14:02:06,972] Finished trial#16 resulted in value: 0.30634931761835915. Current best value is 0.3037325914342944 with parameters: {'num_leaves': 19}.\n",
      "\n",
      "\n",
      "tune_num_leaves, val_score: 0.303733:  85%|########5 | 17/20 [00:20<00:03,  1.10s/it]"
     ]
    },
    {
     "name": "stdout",
     "output_type": "stream",
     "text": [
      "Training until validation scores don't improve for 100 rounds\n",
      "[100]\ttraining's binary_logloss: 0.128105\tvalid_1's binary_logloss: 0.320508\n",
      "Early stopping, best iteration is:\n",
      "[23]\ttraining's binary_logloss: 0.234118\tvalid_1's binary_logloss: 0.306349\n"
     ]
    },
    {
     "name": "stderr",
     "output_type": "stream",
     "text": [
      "\n",
      "\n",
      "tune_num_leaves, val_score: 0.303733:  85%|########5 | 17/20 [00:21<00:03,  1.10s/it]\n",
      "\n",
      "tune_num_leaves, val_score: 0.303733:  90%|######### | 18/20 [00:21<00:01,  1.01it/s][I 2020-03-24 14:02:07,702] Finished trial#17 resulted in value: 0.30634931761835926. Current best value is 0.3037325914342944 with parameters: {'num_leaves': 19}.\n",
      "\n",
      "\n",
      "tune_num_leaves, val_score: 0.303733:  90%|######### | 18/20 [00:21<00:01,  1.01it/s]"
     ]
    },
    {
     "name": "stdout",
     "output_type": "stream",
     "text": [
      "Training until validation scores don't improve for 100 rounds\n",
      "[100]\ttraining's binary_logloss: 0.0227553\tvalid_1's binary_logloss: 0.388128\n",
      "Early stopping, best iteration is:\n",
      "[17]\ttraining's binary_logloss: 0.178433\tvalid_1's binary_logloss: 0.313675\n"
     ]
    },
    {
     "name": "stderr",
     "output_type": "stream",
     "text": [
      "\n",
      "\n",
      "tune_num_leaves, val_score: 0.303733:  90%|######### | 18/20 [00:22<00:01,  1.01it/s]\n",
      "\n",
      "tune_num_leaves, val_score: 0.303733:  95%|#########5| 19/20 [00:22<00:01,  1.16s/it][I 2020-03-24 14:02:09,261] Finished trial#18 resulted in value: 0.3136745154993083. Current best value is 0.3037325914342944 with parameters: {'num_leaves': 19}.\n",
      "\n",
      "\n",
      "tune_num_leaves, val_score: 0.303733:  95%|#########5| 19/20 [00:22<00:01,  1.16s/it]"
     ]
    },
    {
     "name": "stdout",
     "output_type": "stream",
     "text": [
      "Training until validation scores don't improve for 100 rounds\n",
      "[100]\ttraining's binary_logloss: 0.00978654\tvalid_1's binary_logloss: 0.43159\n",
      "Early stopping, best iteration is:\n",
      "[18]\ttraining's binary_logloss: 0.153629\tvalid_1's binary_logloss: 0.318304\n"
     ]
    },
    {
     "name": "stderr",
     "output_type": "stream",
     "text": [
      "\n",
      "\n",
      "tune_num_leaves, val_score: 0.303733:  95%|#########5| 19/20 [00:24<00:01,  1.16s/it]\n",
      "\n",
      "tune_num_leaves, val_score: 0.303733: 100%|##########| 20/20 [00:24<00:00,  1.41s/it][I 2020-03-24 14:02:11,269] Finished trial#19 resulted in value: 0.3183040148745443. Current best value is 0.3037325914342944 with parameters: {'num_leaves': 19}.\n",
      "tune_num_leaves, val_score: 0.303733: 100%|##########| 20/20 [00:24<00:00,  1.25s/it]\n",
      "\n",
      "\n",
      "  0%|          | 0/10 [00:00<?, ?it/s]\n",
      "\n",
      "tune_bagging_fraction_and_bagging_freq, val_score: 0.303733:   0%|          | 0/10 [00:00<?, ?it/s]"
     ]
    },
    {
     "name": "stdout",
     "output_type": "stream",
     "text": [
      "Training until validation scores don't improve for 100 rounds\n",
      "[100]\ttraining's binary_logloss: 0.19822\tvalid_1's binary_logloss: 0.311892\n",
      "Early stopping, best iteration is:\n",
      "[30]\ttraining's binary_logloss: 0.26209\tvalid_1's binary_logloss: 0.306476\n"
     ]
    },
    {
     "name": "stderr",
     "output_type": "stream",
     "text": [
      "\n",
      "\n",
      "tune_bagging_fraction_and_bagging_freq, val_score: 0.303733:   0%|          | 0/10 [00:00<?, ?it/s]\n",
      "\n",
      "tune_bagging_fraction_and_bagging_freq, val_score: 0.303733:  10%|#         | 1/10 [00:00<00:03,  3.00it/s][I 2020-03-24 14:02:11,741] Finished trial#0 resulted in value: 0.30647554229478424. Current best value is 0.30647554229478424 with parameters: {'bagging_fraction': 0.6128168347807867, 'bagging_freq': 5}.\n",
      "\n",
      "\n",
      "tune_bagging_fraction_and_bagging_freq, val_score: 0.303733:  10%|#         | 1/10 [00:00<00:03,  3.00it/s]"
     ]
    },
    {
     "name": "stdout",
     "output_type": "stream",
     "text": [
      "Training until validation scores don't improve for 100 rounds\n",
      "[100]\ttraining's binary_logloss: 0.19783\tvalid_1's binary_logloss: 0.31211\n",
      "Early stopping, best iteration is:\n",
      "[22]\ttraining's binary_logloss: 0.269637\tvalid_1's binary_logloss: 0.306714\n"
     ]
    },
    {
     "name": "stderr",
     "output_type": "stream",
     "text": [
      "\n",
      "\n",
      "tune_bagging_fraction_and_bagging_freq, val_score: 0.303733:  10%|#         | 1/10 [00:00<00:03,  3.00it/s]\n",
      "\n",
      "tune_bagging_fraction_and_bagging_freq, val_score: 0.303733:  20%|##        | 2/10 [00:00<00:02,  2.77it/s][I 2020-03-24 14:02:12,165] Finished trial#1 resulted in value: 0.30671438061361683. Current best value is 0.30647554229478424 with parameters: {'bagging_fraction': 0.6128168347807867, 'bagging_freq': 5}.\n",
      "\n",
      "\n",
      "tune_bagging_fraction_and_bagging_freq, val_score: 0.303733:  20%|##        | 2/10 [00:00<00:02,  2.77it/s]"
     ]
    },
    {
     "name": "stdout",
     "output_type": "stream",
     "text": [
      "Training until validation scores don't improve for 100 rounds\n",
      "[100]\ttraining's binary_logloss: 0.199055\tvalid_1's binary_logloss: 0.315506\n",
      "Early stopping, best iteration is:\n",
      "[23]\ttraining's binary_logloss: 0.27059\tvalid_1's binary_logloss: 0.305053\n"
     ]
    },
    {
     "name": "stderr",
     "output_type": "stream",
     "text": [
      "\n",
      "\n",
      "tune_bagging_fraction_and_bagging_freq, val_score: 0.303733:  20%|##        | 2/10 [00:01<00:02,  2.77it/s]\n",
      "\n",
      "tune_bagging_fraction_and_bagging_freq, val_score: 0.303733:  30%|###       | 3/10 [00:01<00:02,  2.52it/s][I 2020-03-24 14:02:12,643] Finished trial#2 resulted in value: 0.3050534338618125. Current best value is 0.3050534338618125 with parameters: {'bagging_fraction': 0.6623898216996165, 'bagging_freq': 6}.\n",
      "\n",
      "\n",
      "tune_bagging_fraction_and_bagging_freq, val_score: 0.303733:  30%|###       | 3/10 [00:01<00:02,  2.52it/s]"
     ]
    },
    {
     "name": "stdout",
     "output_type": "stream",
     "text": [
      "Training until validation scores don't improve for 100 rounds\n",
      "[100]\ttraining's binary_logloss: 0.19711\tvalid_1's binary_logloss: 0.312819\n",
      "Early stopping, best iteration is:\n",
      "[27]\ttraining's binary_logloss: 0.263089\tvalid_1's binary_logloss: 0.306102\n"
     ]
    },
    {
     "name": "stderr",
     "output_type": "stream",
     "text": [
      "\n",
      "\n",
      "tune_bagging_fraction_and_bagging_freq, val_score: 0.303733:  30%|###       | 3/10 [00:01<00:02,  2.52it/s]\n",
      "\n",
      "tune_bagging_fraction_and_bagging_freq, val_score: 0.303733:  40%|####      | 4/10 [00:01<00:02,  2.44it/s][I 2020-03-24 14:02:13,085] Finished trial#3 resulted in value: 0.30610195140971247. Current best value is 0.3050534338618125 with parameters: {'bagging_fraction': 0.6623898216996165, 'bagging_freq': 6}.\n",
      "\n",
      "\n",
      "tune_bagging_fraction_and_bagging_freq, val_score: 0.303733:  40%|####      | 4/10 [00:01<00:02,  2.44it/s]"
     ]
    },
    {
     "name": "stdout",
     "output_type": "stream",
     "text": [
      "Training until validation scores don't improve for 100 rounds\n",
      "[100]\ttraining's binary_logloss: 0.195009\tvalid_1's binary_logloss: 0.314435\n",
      "Early stopping, best iteration is:\n",
      "[29]\ttraining's binary_logloss: 0.259533\tvalid_1's binary_logloss: 0.305433\n"
     ]
    },
    {
     "name": "stderr",
     "output_type": "stream",
     "text": [
      "\n",
      "\n",
      "tune_bagging_fraction_and_bagging_freq, val_score: 0.303733:  40%|####      | 4/10 [00:02<00:02,  2.44it/s]\n",
      "\n",
      "tune_bagging_fraction_and_bagging_freq, val_score: 0.303733:  50%|#####     | 5/10 [00:02<00:02,  2.37it/s][I 2020-03-24 14:02:13,530] Finished trial#4 resulted in value: 0.30543280357083114. Current best value is 0.3050534338618125 with parameters: {'bagging_fraction': 0.6623898216996165, 'bagging_freq': 6}.\n",
      "\n",
      "\n",
      "tune_bagging_fraction_and_bagging_freq, val_score: 0.303733:  50%|#####     | 5/10 [00:02<00:02,  2.37it/s]"
     ]
    },
    {
     "name": "stdout",
     "output_type": "stream",
     "text": [
      "Training until validation scores don't improve for 100 rounds\n",
      "[100]\ttraining's binary_logloss: 0.202496\tvalid_1's binary_logloss: 0.313297\n",
      "Early stopping, best iteration is:\n",
      "[60]\ttraining's binary_logloss: 0.234048\tvalid_1's binary_logloss: 0.306259\n"
     ]
    },
    {
     "name": "stderr",
     "output_type": "stream",
     "text": [
      "\n",
      "\n",
      "tune_bagging_fraction_and_bagging_freq, val_score: 0.303733:  50%|#####     | 5/10 [00:02<00:02,  2.37it/s]\n",
      "\n",
      "tune_bagging_fraction_and_bagging_freq, val_score: 0.303733:  60%|######    | 6/10 [00:02<00:01,  2.16it/s][I 2020-03-24 14:02:14,093] Finished trial#5 resulted in value: 0.30625911878146433. Current best value is 0.3050534338618125 with parameters: {'bagging_fraction': 0.6623898216996165, 'bagging_freq': 6}.\n",
      "\n",
      "\n",
      "tune_bagging_fraction_and_bagging_freq, val_score: 0.303733:  60%|######    | 6/10 [00:02<00:01,  2.16it/s]"
     ]
    },
    {
     "name": "stdout",
     "output_type": "stream",
     "text": [
      "Training until validation scores don't improve for 100 rounds\n",
      "[100]\ttraining's binary_logloss: 0.1978\tvalid_1's binary_logloss: 0.315228\n",
      "Early stopping, best iteration is:\n",
      "[29]\ttraining's binary_logloss: 0.260266\tvalid_1's binary_logloss: 0.305249\n"
     ]
    },
    {
     "name": "stderr",
     "output_type": "stream",
     "text": [
      "\n",
      "\n",
      "tune_bagging_fraction_and_bagging_freq, val_score: 0.303733:  60%|######    | 6/10 [00:03<00:01,  2.16it/s]\n",
      "\n",
      "tune_bagging_fraction_and_bagging_freq, val_score: 0.303733:  70%|#######   | 7/10 [00:03<00:01,  2.19it/s][I 2020-03-24 14:02:14,526] Finished trial#6 resulted in value: 0.30524878224328506. Current best value is 0.3050534338618125 with parameters: {'bagging_fraction': 0.6623898216996165, 'bagging_freq': 6}.\n",
      "\n",
      "\n",
      "tune_bagging_fraction_and_bagging_freq, val_score: 0.303733:  70%|#######   | 7/10 [00:03<00:01,  2.19it/s]"
     ]
    },
    {
     "name": "stdout",
     "output_type": "stream",
     "text": [
      "Training until validation scores don't improve for 100 rounds\n",
      "[100]\ttraining's binary_logloss: 0.197474\tvalid_1's binary_logloss: 0.30904\n",
      "Early stopping, best iteration is:\n",
      "[51]\ttraining's binary_logloss: 0.238122\tvalid_1's binary_logloss: 0.303766\n"
     ]
    },
    {
     "name": "stderr",
     "output_type": "stream",
     "text": [
      "\n",
      "\n",
      "tune_bagging_fraction_and_bagging_freq, val_score: 0.303733:  70%|#######   | 7/10 [00:03<00:01,  2.19it/s]\n",
      "\n",
      "tune_bagging_fraction_and_bagging_freq, val_score: 0.303733:  80%|########  | 8/10 [00:03<00:00,  2.17it/s][I 2020-03-24 14:02:14,998] Finished trial#7 resulted in value: 0.3037659995617114. Current best value is 0.3037659995617114 with parameters: {'bagging_fraction': 0.8546020059176507, 'bagging_freq': 4}.\n",
      "\n",
      "\n",
      "tune_bagging_fraction_and_bagging_freq, val_score: 0.303733:  80%|########  | 8/10 [00:03<00:00,  2.17it/s]"
     ]
    },
    {
     "name": "stdout",
     "output_type": "stream",
     "text": [
      "Training until validation scores don't improve for 100 rounds\n",
      "[100]\ttraining's binary_logloss: 0.203731\tvalid_1's binary_logloss: 0.314333\n",
      "Early stopping, best iteration is:\n",
      "[51]\ttraining's binary_logloss: 0.24184\tvalid_1's binary_logloss: 0.305455\n"
     ]
    },
    {
     "name": "stderr",
     "output_type": "stream",
     "text": [
      "\n",
      "\n",
      "tune_bagging_fraction_and_bagging_freq, val_score: 0.303733:  80%|########  | 8/10 [00:04<00:00,  2.17it/s]\n",
      "\n",
      "tune_bagging_fraction_and_bagging_freq, val_score: 0.303733:  90%|######### | 9/10 [00:04<00:00,  2.18it/s][I 2020-03-24 14:02:15,459] Finished trial#8 resulted in value: 0.30545465139062306. Current best value is 0.3037659995617114 with parameters: {'bagging_fraction': 0.8546020059176507, 'bagging_freq': 4}.\n",
      "\n",
      "\n",
      "tune_bagging_fraction_and_bagging_freq, val_score: 0.303733:  90%|######### | 9/10 [00:04<00:00,  2.18it/s]"
     ]
    },
    {
     "name": "stdout",
     "output_type": "stream",
     "text": [
      "Training until validation scores don't improve for 100 rounds\n",
      "[100]\ttraining's binary_logloss: 0.199413\tvalid_1's binary_logloss: 0.312894\n",
      "Early stopping, best iteration is:\n",
      "[62]\ttraining's binary_logloss: 0.229758\tvalid_1's binary_logloss: 0.306166\n"
     ]
    },
    {
     "name": "stderr",
     "output_type": "stream",
     "text": [
      "\n",
      "\n",
      "tune_bagging_fraction_and_bagging_freq, val_score: 0.303733:  90%|######### | 9/10 [00:04<00:00,  2.18it/s]\n",
      "\n",
      "tune_bagging_fraction_and_bagging_freq, val_score: 0.303733: 100%|##########| 10/10 [00:04<00:00,  2.09it/s][I 2020-03-24 14:02:15,980] Finished trial#9 resulted in value: 0.30616613036075585. Current best value is 0.3037659995617114 with parameters: {'bagging_fraction': 0.8546020059176507, 'bagging_freq': 4}.\n",
      "tune_bagging_fraction_and_bagging_freq, val_score: 0.303733: 100%|##########| 10/10 [00:04<00:00,  2.13it/s]\n",
      "\n",
      "\n",
      "  0%|          | 0/6 [00:00<?, ?it/s]\n",
      "\n",
      "tune_feature_fraction, val_score: 0.303733:   0%|          | 0/6 [00:00<?, ?it/s]"
     ]
    },
    {
     "name": "stdout",
     "output_type": "stream",
     "text": [
      "Training until validation scores don't improve for 100 rounds\n",
      "[100]\ttraining's binary_logloss: 0.204256\tvalid_1's binary_logloss: 0.315473\n",
      "Early stopping, best iteration is:\n",
      "[31]\ttraining's binary_logloss: 0.259815\tvalid_1's binary_logloss: 0.306191\n"
     ]
    },
    {
     "name": "stderr",
     "output_type": "stream",
     "text": [
      "\n",
      "\n",
      "tune_feature_fraction, val_score: 0.303733:   0%|          | 0/6 [00:00<?, ?it/s]\n",
      "\n",
      "tune_feature_fraction, val_score: 0.303733:  17%|#6        | 1/6 [00:00<00:01,  3.15it/s][I 2020-03-24 14:02:16,434] Finished trial#0 resulted in value: 0.30619148992094036. Current best value is 0.30619148992094036 with parameters: {'feature_fraction': 0.52}.\n",
      "\n",
      "\n",
      "tune_feature_fraction, val_score: 0.303733:  17%|#6        | 1/6 [00:00<00:01,  3.15it/s]"
     ]
    },
    {
     "name": "stdout",
     "output_type": "stream",
     "text": [
      "Training until validation scores don't improve for 100 rounds\n",
      "[100]\ttraining's binary_logloss: 0.200405\tvalid_1's binary_logloss: 0.309886\n",
      "Early stopping, best iteration is:\n",
      "[24]\ttraining's binary_logloss: 0.268063\tvalid_1's binary_logloss: 0.307665\n"
     ]
    },
    {
     "name": "stderr",
     "output_type": "stream",
     "text": [
      "\n",
      "\n",
      "tune_feature_fraction, val_score: 0.303733:  17%|#6        | 1/6 [00:00<00:01,  3.15it/s]\n",
      "\n",
      "tune_feature_fraction, val_score: 0.303733:  33%|###3      | 2/6 [00:00<00:01,  2.82it/s][I 2020-03-24 14:02:16,869] Finished trial#1 resulted in value: 0.30766473955197365. Current best value is 0.30619148992094036 with parameters: {'feature_fraction': 0.52}.\n",
      "\n",
      "\n",
      "tune_feature_fraction, val_score: 0.303733:  33%|###3      | 2/6 [00:00<00:01,  2.82it/s]"
     ]
    },
    {
     "name": "stdout",
     "output_type": "stream",
     "text": [
      "Training until validation scores don't improve for 100 rounds\n",
      "[100]\ttraining's binary_logloss: 0.199044\tvalid_1's binary_logloss: 0.312403\n",
      "Early stopping, best iteration is:\n",
      "[21]\ttraining's binary_logloss: 0.271425\tvalid_1's binary_logloss: 0.305105\n"
     ]
    },
    {
     "name": "stderr",
     "output_type": "stream",
     "text": [
      "\n",
      "\n",
      "tune_feature_fraction, val_score: 0.303733:  33%|###3      | 2/6 [00:01<00:01,  2.82it/s]\n",
      "\n",
      "tune_feature_fraction, val_score: 0.303733:  50%|#####     | 3/6 [00:01<00:01,  2.43it/s][I 2020-03-24 14:02:17,412] Finished trial#2 resulted in value: 0.3051049149329849. Current best value is 0.3051049149329849 with parameters: {'feature_fraction': 0.584}.\n",
      "\n",
      "\n",
      "tune_feature_fraction, val_score: 0.303733:  50%|#####     | 3/6 [00:01<00:01,  2.43it/s]"
     ]
    },
    {
     "name": "stdout",
     "output_type": "stream",
     "text": [
      "Training until validation scores don't improve for 100 rounds\n",
      "[100]\ttraining's binary_logloss: 0.200582\tvalid_1's binary_logloss: 0.310738\n",
      "Early stopping, best iteration is:\n",
      "[22]\ttraining's binary_logloss: 0.269463\tvalid_1's binary_logloss: 0.303733\n"
     ]
    },
    {
     "name": "stderr",
     "output_type": "stream",
     "text": [
      "\n",
      "\n",
      "tune_feature_fraction, val_score: 0.303733:  50%|#####     | 3/6 [00:01<00:01,  2.43it/s]\n",
      "\n",
      "tune_feature_fraction, val_score: 0.303733:  67%|######6   | 4/6 [00:01<00:00,  2.35it/s][I 2020-03-24 14:02:17,866] Finished trial#3 resulted in value: 0.3037325914342944. Current best value is 0.3037325914342944 with parameters: {'feature_fraction': 0.616}.\n",
      "\n",
      "\n",
      "tune_feature_fraction, val_score: 0.303733:  67%|######6   | 4/6 [00:01<00:00,  2.35it/s]"
     ]
    },
    {
     "name": "stdout",
     "output_type": "stream",
     "text": [
      "Training until validation scores don't improve for 100 rounds\n",
      "[100]\ttraining's binary_logloss: 0.199501\tvalid_1's binary_logloss: 0.31438\n",
      "Early stopping, best iteration is:\n",
      "[21]\ttraining's binary_logloss: 0.27055\tvalid_1's binary_logloss: 0.306325\n"
     ]
    },
    {
     "name": "stderr",
     "output_type": "stream",
     "text": [
      "\n",
      "\n",
      "tune_feature_fraction, val_score: 0.303733:  67%|######6   | 4/6 [00:02<00:00,  2.35it/s]\n",
      "\n",
      "tune_feature_fraction, val_score: 0.303733:  83%|########3 | 5/6 [00:02<00:00,  2.33it/s][I 2020-03-24 14:02:18,313] Finished trial#4 resulted in value: 0.3063248825636264. Current best value is 0.3037325914342944 with parameters: {'feature_fraction': 0.616}.\n",
      "\n",
      "\n",
      "tune_feature_fraction, val_score: 0.303733:  83%|########3 | 5/6 [00:02<00:00,  2.33it/s]"
     ]
    },
    {
     "name": "stdout",
     "output_type": "stream",
     "text": [
      "Training until validation scores don't improve for 100 rounds\n",
      "[100]\ttraining's binary_logloss: 0.198323\tvalid_1's binary_logloss: 0.319544\n",
      "Early stopping, best iteration is:\n",
      "[21]\ttraining's binary_logloss: 0.270834\tvalid_1's binary_logloss: 0.307915\n"
     ]
    },
    {
     "name": "stderr",
     "output_type": "stream",
     "text": [
      "\n",
      "\n",
      "tune_feature_fraction, val_score: 0.303733:  83%|########3 | 5/6 [00:02<00:00,  2.33it/s]\n",
      "\n",
      "tune_feature_fraction, val_score: 0.303733: 100%|##########| 6/6 [00:02<00:00,  2.33it/s][I 2020-03-24 14:02:18,732] Finished trial#5 resulted in value: 0.3079149096124856. Current best value is 0.3037325914342944 with parameters: {'feature_fraction': 0.616}.\n",
      "tune_feature_fraction, val_score: 0.303733: 100%|##########| 6/6 [00:02<00:00,  2.18it/s]\n",
      "\n",
      "\n",
      "  0%|          | 0/20 [00:00<?, ?it/s]\n",
      "\n",
      "tune_lambda_l1_and_lambda_l2, val_score: 0.303733:   0%|          | 0/20 [00:00<?, ?it/s]"
     ]
    },
    {
     "name": "stdout",
     "output_type": "stream",
     "text": [
      "Training until validation scores don't improve for 100 rounds\n",
      "[100]\ttraining's binary_logloss: 0.200586\tvalid_1's binary_logloss: 0.310737\n",
      "Early stopping, best iteration is:\n",
      "[22]\ttraining's binary_logloss: 0.269464\tvalid_1's binary_logloss: 0.303733\n"
     ]
    },
    {
     "name": "stderr",
     "output_type": "stream",
     "text": [
      "\n",
      "\n",
      "tune_lambda_l1_and_lambda_l2, val_score: 0.303733:   0%|          | 0/20 [00:00<?, ?it/s]\n",
      "\n",
      "tune_lambda_l1_and_lambda_l2, val_score: 0.303733:   5%|5         | 1/20 [00:00<00:05,  3.31it/s][I 2020-03-24 14:02:19,162] Finished trial#0 resulted in value: 0.3037326055273175. Current best value is 0.3037326055273175 with parameters: {'lambda_l1': 0.00031162595701370336, 'lambda_l2': 2.581260252110838e-08}.\n",
      "\n",
      "\n",
      "tune_lambda_l1_and_lambda_l2, val_score: 0.303733:   5%|5         | 1/20 [00:00<00:05,  3.31it/s]"
     ]
    },
    {
     "name": "stdout",
     "output_type": "stream",
     "text": [
      "Training until validation scores don't improve for 100 rounds\n",
      "[100]\ttraining's binary_logloss: 0.200122\tvalid_1's binary_logloss: 0.312436\n",
      "Early stopping, best iteration is:\n",
      "[21]\ttraining's binary_logloss: 0.271001\tvalid_1's binary_logloss: 0.303558\n"
     ]
    },
    {
     "name": "stderr",
     "output_type": "stream",
     "text": [
      "\n",
      "\n",
      "tune_lambda_l1_and_lambda_l2, val_score: 0.303558:   5%|5         | 1/20 [00:00<00:05,  3.31it/s]\n",
      "\n",
      "tune_lambda_l1_and_lambda_l2, val_score: 0.303558:  10%|#         | 2/20 [00:00<00:05,  3.04it/s][I 2020-03-24 14:02:19,553] Finished trial#1 resulted in value: 0.30355846071382725. Current best value is 0.30355846071382725 with parameters: {'lambda_l1': 0.060758972621144255, 'lambda_l2': 4.1665507026062955e-05}.\n",
      "\n",
      "\n",
      "tune_lambda_l1_and_lambda_l2, val_score: 0.303558:  10%|#         | 2/20 [00:00<00:05,  3.04it/s]"
     ]
    },
    {
     "name": "stdout",
     "output_type": "stream",
     "text": [
      "Training until validation scores don't improve for 100 rounds\n",
      "[100]\ttraining's binary_logloss: 0.198717\tvalid_1's binary_logloss: 0.308381\n",
      "Early stopping, best iteration is:\n",
      "[22]\ttraining's binary_logloss: 0.269604\tvalid_1's binary_logloss: 0.303497\n"
     ]
    },
    {
     "name": "stderr",
     "output_type": "stream",
     "text": [
      "\n",
      "\n",
      "tune_lambda_l1_and_lambda_l2, val_score: 0.303497:  10%|#         | 2/20 [00:01<00:05,  3.04it/s]\n",
      "\n",
      "tune_lambda_l1_and_lambda_l2, val_score: 0.303497:  15%|#5        | 3/20 [00:01<00:05,  2.84it/s][I 2020-03-24 14:02:19,963] Finished trial#2 resulted in value: 0.30349726735458654. Current best value is 0.30349726735458654 with parameters: {'lambda_l1': 1.0907758241128164e-07, 'lambda_l2': 0.017674591340700763}.\n",
      "\n",
      "\n",
      "tune_lambda_l1_and_lambda_l2, val_score: 0.303497:  15%|#5        | 3/20 [00:01<00:05,  2.84it/s]"
     ]
    },
    {
     "name": "stdout",
     "output_type": "stream",
     "text": [
      "Training until validation scores don't improve for 100 rounds\n",
      "[100]\ttraining's binary_logloss: 0.252357\tvalid_1's binary_logloss: 0.310006\n",
      "Early stopping, best iteration is:\n",
      "[59]\ttraining's binary_logloss: 0.267285\tvalid_1's binary_logloss: 0.309036\n"
     ]
    },
    {
     "name": "stderr",
     "output_type": "stream",
     "text": [
      "\n",
      "\n",
      "tune_lambda_l1_and_lambda_l2, val_score: 0.303497:  15%|#5        | 3/20 [00:01<00:05,  2.84it/s]\n",
      "\n",
      "tune_lambda_l1_and_lambda_l2, val_score: 0.303497:  20%|##        | 4/20 [00:01<00:06,  2.46it/s][I 2020-03-24 14:02:20,499] Finished trial#3 resulted in value: 0.3090362041144555. Current best value is 0.30349726735458654 with parameters: {'lambda_l1': 1.0907758241128164e-07, 'lambda_l2': 0.017674591340700763}.\n",
      "\n",
      "\n",
      "tune_lambda_l1_and_lambda_l2, val_score: 0.303497:  20%|##        | 4/20 [00:01<00:06,  2.46it/s]"
     ]
    },
    {
     "name": "stdout",
     "output_type": "stream",
     "text": [
      "Training until validation scores don't improve for 100 rounds\n",
      "[100]\ttraining's binary_logloss: 0.198463\tvalid_1's binary_logloss: 0.310354\n",
      "Early stopping, best iteration is:\n",
      "[22]\ttraining's binary_logloss: 0.269311\tvalid_1's binary_logloss: 0.303936\n"
     ]
    },
    {
     "name": "stderr",
     "output_type": "stream",
     "text": [
      "\n",
      "\n",
      "tune_lambda_l1_and_lambda_l2, val_score: 0.303497:  20%|##        | 4/20 [00:02<00:06,  2.46it/s]\n",
      "\n",
      "tune_lambda_l1_and_lambda_l2, val_score: 0.303497:  25%|##5       | 5/20 [00:02<00:06,  2.46it/s][I 2020-03-24 14:02:20,906] Finished trial#4 resulted in value: 0.30393550041346584. Current best value is 0.30349726735458654 with parameters: {'lambda_l1': 1.0907758241128164e-07, 'lambda_l2': 0.017674591340700763}.\n",
      "\n",
      "\n",
      "tune_lambda_l1_and_lambda_l2, val_score: 0.303497:  25%|##5       | 5/20 [00:02<00:06,  2.46it/s]"
     ]
    },
    {
     "name": "stdout",
     "output_type": "stream",
     "text": [
      "Training until validation scores don't improve for 100 rounds\n",
      "[100]\ttraining's binary_logloss: 0.200582\tvalid_1's binary_logloss: 0.310738\n",
      "Early stopping, best iteration is:\n",
      "[22]\ttraining's binary_logloss: 0.269463\tvalid_1's binary_logloss: 0.303733\n"
     ]
    },
    {
     "name": "stderr",
     "output_type": "stream",
     "text": [
      "\n",
      "\n",
      "tune_lambda_l1_and_lambda_l2, val_score: 0.303497:  25%|##5       | 5/20 [00:02<00:06,  2.46it/s]\n",
      "\n",
      "tune_lambda_l1_and_lambda_l2, val_score: 0.303497:  30%|###       | 6/20 [00:02<00:05,  2.43it/s][I 2020-03-24 14:02:21,328] Finished trial#5 resulted in value: 0.30373259198998853. Current best value is 0.30349726735458654 with parameters: {'lambda_l1': 1.0907758241128164e-07, 'lambda_l2': 0.017674591340700763}.\n",
      "\n",
      "\n",
      "tune_lambda_l1_and_lambda_l2, val_score: 0.303497:  30%|###       | 6/20 [00:02<00:05,  2.43it/s]"
     ]
    },
    {
     "name": "stdout",
     "output_type": "stream",
     "text": [
      "Training until validation scores don't improve for 100 rounds\n",
      "[100]\ttraining's binary_logloss: 0.204137\tvalid_1's binary_logloss: 0.307406\n",
      "Early stopping, best iteration is:\n",
      "[40]\ttraining's binary_logloss: 0.250409\tvalid_1's binary_logloss: 0.304603\n"
     ]
    },
    {
     "name": "stderr",
     "output_type": "stream",
     "text": [
      "\n",
      "\n",
      "tune_lambda_l1_and_lambda_l2, val_score: 0.303497:  30%|###       | 6/20 [00:02<00:05,  2.43it/s]\n",
      "\n",
      "tune_lambda_l1_and_lambda_l2, val_score: 0.303497:  35%|###5      | 7/20 [00:02<00:05,  2.32it/s][I 2020-03-24 14:02:21,805] Finished trial#6 resulted in value: 0.30460324823113427. Current best value is 0.30349726735458654 with parameters: {'lambda_l1': 1.0907758241128164e-07, 'lambda_l2': 0.017674591340700763}.\n",
      "\n",
      "\n",
      "tune_lambda_l1_and_lambda_l2, val_score: 0.303497:  35%|###5      | 7/20 [00:03<00:05,  2.32it/s]"
     ]
    },
    {
     "name": "stdout",
     "output_type": "stream",
     "text": [
      "Training until validation scores don't improve for 100 rounds\n",
      "[100]\ttraining's binary_logloss: 0.201912\tvalid_1's binary_logloss: 0.311338\n",
      "Early stopping, best iteration is:\n",
      "[22]\ttraining's binary_logloss: 0.269616\tvalid_1's binary_logloss: 0.303496\n"
     ]
    },
    {
     "name": "stderr",
     "output_type": "stream",
     "text": [
      "\n",
      "\n",
      "tune_lambda_l1_and_lambda_l2, val_score: 0.303496:  35%|###5      | 7/20 [00:03<00:05,  2.32it/s]\n",
      "\n",
      "tune_lambda_l1_and_lambda_l2, val_score: 0.303496:  40%|####      | 8/20 [00:03<00:05,  2.21it/s][I 2020-03-24 14:02:22,301] Finished trial#7 resulted in value: 0.3034964647782682. Current best value is 0.3034964647782682 with parameters: {'lambda_l1': 1.2405336483028195e-05, 'lambda_l2': 0.01954347433115715}.\n",
      "\n",
      "\n",
      "tune_lambda_l1_and_lambda_l2, val_score: 0.303496:  40%|####      | 8/20 [00:03<00:05,  2.21it/s]"
     ]
    },
    {
     "name": "stdout",
     "output_type": "stream",
     "text": [
      "Training until validation scores don't improve for 100 rounds\n",
      "[100]\ttraining's binary_logloss: 0.203146\tvalid_1's binary_logloss: 0.311334\n",
      "Early stopping, best iteration is:\n",
      "[31]\ttraining's binary_logloss: 0.259791\tvalid_1's binary_logloss: 0.302713\n"
     ]
    },
    {
     "name": "stderr",
     "output_type": "stream",
     "text": [
      "\n",
      "\n",
      "tune_lambda_l1_and_lambda_l2, val_score: 0.302713:  40%|####      | 8/20 [00:03<00:05,  2.21it/s]\n",
      "\n",
      "tune_lambda_l1_and_lambda_l2, val_score: 0.302713:  45%|####5     | 9/20 [00:03<00:04,  2.26it/s][I 2020-03-24 14:02:22,726] Finished trial#8 resulted in value: 0.30271264175824786. Current best value is 0.30271264175824786 with parameters: {'lambda_l1': 0.3870978812202639, 'lambda_l2': 0.023740591065376605}.\n",
      "\n",
      "\n",
      "tune_lambda_l1_and_lambda_l2, val_score: 0.302713:  45%|####5     | 9/20 [00:03<00:04,  2.26it/s]"
     ]
    },
    {
     "name": "stdout",
     "output_type": "stream",
     "text": [
      "Training until validation scores don't improve for 100 rounds\n",
      "[100]\ttraining's binary_logloss: 0.198045\tvalid_1's binary_logloss: 0.312035\n",
      "Early stopping, best iteration is:\n",
      "[22]\ttraining's binary_logloss: 0.269469\tvalid_1's binary_logloss: 0.303733\n"
     ]
    },
    {
     "name": "stderr",
     "output_type": "stream",
     "text": [
      "\n",
      "\n",
      "tune_lambda_l1_and_lambda_l2, val_score: 0.302713:  45%|####5     | 9/20 [00:04<00:04,  2.26it/s]\n",
      "\n",
      "tune_lambda_l1_and_lambda_l2, val_score: 0.302713:  50%|#####     | 10/20 [00:04<00:04,  2.26it/s][I 2020-03-24 14:02:23,171] Finished trial#9 resulted in value: 0.3037326772190656. Current best value is 0.30271264175824786 with parameters: {'lambda_l1': 0.3870978812202639, 'lambda_l2': 0.023740591065376605}.\n",
      "\n",
      "\n",
      "tune_lambda_l1_and_lambda_l2, val_score: 0.302713:  50%|#####     | 10/20 [00:04<00:04,  2.26it/s]"
     ]
    },
    {
     "name": "stdout",
     "output_type": "stream",
     "text": [
      "Training until validation scores don't improve for 100 rounds\n",
      "[100]\ttraining's binary_logloss: 0.257533\tvalid_1's binary_logloss: 0.310528\n",
      "Early stopping, best iteration is:\n",
      "[48]\ttraining's binary_logloss: 0.275563\tvalid_1's binary_logloss: 0.308833\n"
     ]
    },
    {
     "name": "stderr",
     "output_type": "stream",
     "text": [
      "\n",
      "\n",
      "tune_lambda_l1_and_lambda_l2, val_score: 0.302713:  50%|#####     | 10/20 [00:04<00:04,  2.26it/s]\n",
      "\n",
      "tune_lambda_l1_and_lambda_l2, val_score: 0.302713:  55%|#####5    | 11/20 [00:04<00:04,  2.20it/s][I 2020-03-24 14:02:23,646] Finished trial#10 resulted in value: 0.3088328011851861. Current best value is 0.30271264175824786 with parameters: {'lambda_l1': 0.3870978812202639, 'lambda_l2': 0.023740591065376605}.\n",
      "\n",
      "\n",
      "tune_lambda_l1_and_lambda_l2, val_score: 0.302713:  55%|#####5    | 11/20 [00:04<00:04,  2.20it/s]"
     ]
    },
    {
     "name": "stdout",
     "output_type": "stream",
     "text": [
      "Training until validation scores don't improve for 100 rounds\n",
      "[100]\ttraining's binary_logloss: 0.223993\tvalid_1's binary_logloss: 0.314793\n",
      "Early stopping, best iteration is:\n",
      "[29]\ttraining's binary_logloss: 0.272461\tvalid_1's binary_logloss: 0.306835\n"
     ]
    },
    {
     "name": "stderr",
     "output_type": "stream",
     "text": [
      "\n",
      "\n",
      "tune_lambda_l1_and_lambda_l2, val_score: 0.302713:  55%|#####5    | 11/20 [00:05<00:04,  2.20it/s]\n",
      "\n",
      "tune_lambda_l1_and_lambda_l2, val_score: 0.302713:  60%|######    | 12/20 [00:05<00:03,  2.18it/s][I 2020-03-24 14:02:24,121] Finished trial#11 resulted in value: 0.3068350115817986. Current best value is 0.30271264175824786 with parameters: {'lambda_l1': 0.3870978812202639, 'lambda_l2': 0.023740591065376605}.\n",
      "\n",
      "\n",
      "tune_lambda_l1_and_lambda_l2, val_score: 0.302713:  60%|######    | 12/20 [00:05<00:03,  2.18it/s]"
     ]
    },
    {
     "name": "stdout",
     "output_type": "stream",
     "text": [
      "Training until validation scores don't improve for 100 rounds\n",
      "[100]\ttraining's binary_logloss: 0.202368\tvalid_1's binary_logloss: 0.308994\n",
      "Early stopping, best iteration is:\n",
      "[34]\ttraining's binary_logloss: 0.255407\tvalid_1's binary_logloss: 0.304206\n"
     ]
    },
    {
     "name": "stderr",
     "output_type": "stream",
     "text": [
      "\n",
      "\n",
      "tune_lambda_l1_and_lambda_l2, val_score: 0.302713:  60%|######    | 12/20 [00:05<00:03,  2.18it/s]\n",
      "\n",
      "tune_lambda_l1_and_lambda_l2, val_score: 0.302713:  65%|######5   | 13/20 [00:05<00:03,  2.20it/s][I 2020-03-24 14:02:24,568] Finished trial#12 resulted in value: 0.304205952033529. Current best value is 0.30271264175824786 with parameters: {'lambda_l1': 0.3870978812202639, 'lambda_l2': 0.023740591065376605}.\n",
      "\n",
      "\n",
      "tune_lambda_l1_and_lambda_l2, val_score: 0.302713:  65%|######5   | 13/20 [00:05<00:03,  2.20it/s]"
     ]
    },
    {
     "name": "stdout",
     "output_type": "stream",
     "text": [
      "Training until validation scores don't improve for 100 rounds\n",
      "[100]\ttraining's binary_logloss: 0.201134\tvalid_1's binary_logloss: 0.31037\n",
      "Early stopping, best iteration is:\n",
      "[22]\ttraining's binary_logloss: 0.269281\tvalid_1's binary_logloss: 0.303934\n"
     ]
    },
    {
     "name": "stderr",
     "output_type": "stream",
     "text": [
      "\n",
      "\n",
      "tune_lambda_l1_and_lambda_l2, val_score: 0.302713:  65%|######5   | 13/20 [00:06<00:03,  2.20it/s]\n",
      "\n",
      "tune_lambda_l1_and_lambda_l2, val_score: 0.302713:  70%|#######   | 14/20 [00:06<00:02,  2.25it/s][I 2020-03-24 14:02:24,986] Finished trial#13 resulted in value: 0.30393367480671685. Current best value is 0.30271264175824786 with parameters: {'lambda_l1': 0.3870978812202639, 'lambda_l2': 0.023740591065376605}.\n",
      "\n",
      "\n",
      "tune_lambda_l1_and_lambda_l2, val_score: 0.302713:  70%|#######   | 14/20 [00:06<00:02,  2.25it/s]"
     ]
    },
    {
     "name": "stdout",
     "output_type": "stream",
     "text": [
      "Training until validation scores don't improve for 100 rounds\n",
      "[100]\ttraining's binary_logloss: 0.204906\tvalid_1's binary_logloss: 0.312027\n",
      "Early stopping, best iteration is:\n",
      "[31]\ttraining's binary_logloss: 0.260398\tvalid_1's binary_logloss: 0.304892\n"
     ]
    },
    {
     "name": "stderr",
     "output_type": "stream",
     "text": [
      "\n",
      "\n",
      "tune_lambda_l1_and_lambda_l2, val_score: 0.302713:  70%|#######   | 14/20 [00:06<00:02,  2.25it/s]\n",
      "\n",
      "tune_lambda_l1_and_lambda_l2, val_score: 0.302713:  75%|#######5  | 15/20 [00:06<00:02,  2.13it/s][I 2020-03-24 14:02:25,515] Finished trial#14 resulted in value: 0.30489238845901917. Current best value is 0.30271264175824786 with parameters: {'lambda_l1': 0.3870978812202639, 'lambda_l2': 0.023740591065376605}.\n",
      "\n",
      "\n",
      "tune_lambda_l1_and_lambda_l2, val_score: 0.302713:  75%|#######5  | 15/20 [00:06<00:02,  2.13it/s]"
     ]
    },
    {
     "name": "stdout",
     "output_type": "stream",
     "text": [
      "Training until validation scores don't improve for 100 rounds\n",
      "[100]\ttraining's binary_logloss: 0.198816\tvalid_1's binary_logloss: 0.313497\n",
      "Early stopping, best iteration is:\n",
      "[22]\ttraining's binary_logloss: 0.269473\tvalid_1's binary_logloss: 0.303732\n"
     ]
    },
    {
     "name": "stderr",
     "output_type": "stream",
     "text": [
      "\n",
      "\n",
      "tune_lambda_l1_and_lambda_l2, val_score: 0.302713:  75%|#######5  | 15/20 [00:07<00:02,  2.13it/s]\n",
      "\n",
      "tune_lambda_l1_and_lambda_l2, val_score: 0.302713:  80%|########  | 16/20 [00:07<00:01,  2.22it/s][I 2020-03-24 14:02:25,922] Finished trial#15 resulted in value: 0.3037318043034145. Current best value is 0.30271264175824786 with parameters: {'lambda_l1': 0.3870978812202639, 'lambda_l2': 0.023740591065376605}.\n",
      "\n",
      "\n",
      "tune_lambda_l1_and_lambda_l2, val_score: 0.302713:  80%|########  | 16/20 [00:07<00:01,  2.22it/s]"
     ]
    },
    {
     "name": "stdout",
     "output_type": "stream",
     "text": [
      "Training until validation scores don't improve for 100 rounds\n",
      "[100]\ttraining's binary_logloss: 0.199639\tvalid_1's binary_logloss: 0.309406\n",
      "Early stopping, best iteration is:\n",
      "[22]\ttraining's binary_logloss: 0.269283\tvalid_1's binary_logloss: 0.303935\n"
     ]
    },
    {
     "name": "stderr",
     "output_type": "stream",
     "text": [
      "\n",
      "\n",
      "tune_lambda_l1_and_lambda_l2, val_score: 0.302713:  80%|########  | 16/20 [00:07<00:01,  2.22it/s]\n",
      "\n",
      "tune_lambda_l1_and_lambda_l2, val_score: 0.302713:  85%|########5 | 17/20 [00:07<00:01,  2.26it/s][I 2020-03-24 14:02:26,345] Finished trial#16 resulted in value: 0.30393516738271137. Current best value is 0.30271264175824786 with parameters: {'lambda_l1': 0.3870978812202639, 'lambda_l2': 0.023740591065376605}.\n",
      "\n",
      "\n",
      "tune_lambda_l1_and_lambda_l2, val_score: 0.302713:  85%|########5 | 17/20 [00:07<00:01,  2.26it/s]"
     ]
    },
    {
     "name": "stdout",
     "output_type": "stream",
     "text": [
      "Training until validation scores don't improve for 100 rounds\n",
      "[100]\ttraining's binary_logloss: 0.208791\tvalid_1's binary_logloss: 0.309211\n",
      "Early stopping, best iteration is:\n",
      "[31]\ttraining's binary_logloss: 0.262576\tvalid_1's binary_logloss: 0.305603\n"
     ]
    },
    {
     "name": "stderr",
     "output_type": "stream",
     "text": [
      "\n",
      "\n",
      "tune_lambda_l1_and_lambda_l2, val_score: 0.302713:  85%|########5 | 17/20 [00:07<00:01,  2.26it/s]\n",
      "\n",
      "tune_lambda_l1_and_lambda_l2, val_score: 0.302713:  90%|######### | 18/20 [00:07<00:00,  2.25it/s][I 2020-03-24 14:02:26,796] Finished trial#17 resulted in value: 0.30560281336273704. Current best value is 0.30271264175824786 with parameters: {'lambda_l1': 0.3870978812202639, 'lambda_l2': 0.023740591065376605}.\n",
      "\n",
      "\n",
      "tune_lambda_l1_and_lambda_l2, val_score: 0.302713:  90%|######### | 18/20 [00:08<00:00,  2.25it/s]"
     ]
    },
    {
     "name": "stdout",
     "output_type": "stream",
     "text": [
      "Training until validation scores don't improve for 100 rounds\n",
      "[100]\ttraining's binary_logloss: 0.19919\tvalid_1's binary_logloss: 0.31108\n",
      "Early stopping, best iteration is:\n",
      "[22]\ttraining's binary_logloss: 0.269469\tvalid_1's binary_logloss: 0.303732\n"
     ]
    },
    {
     "name": "stderr",
     "output_type": "stream",
     "text": [
      "\n",
      "\n",
      "tune_lambda_l1_and_lambda_l2, val_score: 0.302713:  90%|######### | 18/20 [00:08<00:00,  2.25it/s]\n",
      "\n",
      "tune_lambda_l1_and_lambda_l2, val_score: 0.302713:  95%|#########5| 19/20 [00:08<00:00,  2.22it/s][I 2020-03-24 14:02:27,258] Finished trial#18 resulted in value: 0.30373209669636875. Current best value is 0.30271264175824786 with parameters: {'lambda_l1': 0.3870978812202639, 'lambda_l2': 0.023740591065376605}.\n",
      "\n",
      "\n",
      "tune_lambda_l1_and_lambda_l2, val_score: 0.302713:  95%|#########5| 19/20 [00:08<00:00,  2.22it/s]"
     ]
    },
    {
     "name": "stdout",
     "output_type": "stream",
     "text": [
      "Training until validation scores don't improve for 100 rounds\n",
      "[100]\ttraining's binary_logloss: 0.200582\tvalid_1's binary_logloss: 0.310738\n",
      "Early stopping, best iteration is:\n",
      "[22]\ttraining's binary_logloss: 0.269463\tvalid_1's binary_logloss: 0.303733\n"
     ]
    },
    {
     "name": "stderr",
     "output_type": "stream",
     "text": [
      "\n",
      "\n",
      "tune_lambda_l1_and_lambda_l2, val_score: 0.302713:  95%|#########5| 19/20 [00:08<00:00,  2.22it/s]\n",
      "\n",
      "tune_lambda_l1_and_lambda_l2, val_score: 0.302713: 100%|##########| 20/20 [00:08<00:00,  2.28it/s][I 2020-03-24 14:02:27,663] Finished trial#19 resulted in value: 0.30373258692724137. Current best value is 0.30271264175824786 with parameters: {'lambda_l1': 0.3870978812202639, 'lambda_l2': 0.023740591065376605}.\n",
      "tune_lambda_l1_and_lambda_l2, val_score: 0.302713: 100%|##########| 20/20 [00:08<00:00,  2.24it/s]\n",
      "\n",
      "\n",
      "  0%|          | 0/5 [00:00<?, ?it/s]\n",
      "\n",
      "tune_min_child_samples, val_score: 0.302713:   0%|          | 0/5 [00:00<?, ?it/s]"
     ]
    },
    {
     "name": "stdout",
     "output_type": "stream",
     "text": [
      "Training until validation scores don't improve for 100 rounds\n",
      "[100]\ttraining's binary_logloss: 0.19586\tvalid_1's binary_logloss: 0.314714\n",
      "Early stopping, best iteration is:\n",
      "[35]\ttraining's binary_logloss: 0.250378\tvalid_1's binary_logloss: 0.306559\n"
     ]
    },
    {
     "name": "stderr",
     "output_type": "stream",
     "text": [
      "\n",
      "\n",
      "tune_min_child_samples, val_score: 0.302713:   0%|          | 0/5 [00:00<?, ?it/s]\n",
      "\n",
      "tune_min_child_samples, val_score: 0.302713:  20%|##        | 1/5 [00:00<00:01,  3.12it/s][I 2020-03-24 14:02:28,117] Finished trial#0 resulted in value: 0.3065594906855891. Current best value is 0.3065594906855891 with parameters: {'min_child_samples': 5}.\n",
      "\n",
      "\n",
      "tune_min_child_samples, val_score: 0.302713:  20%|##        | 1/5 [00:00<00:01,  3.12it/s]"
     ]
    },
    {
     "name": "stdout",
     "output_type": "stream",
     "text": [
      "Training until validation scores don't improve for 100 rounds\n",
      "[100]\ttraining's binary_logloss: 0.196604\tvalid_1's binary_logloss: 0.309098\n",
      "Early stopping, best iteration is:\n",
      "[25]\ttraining's binary_logloss: 0.265454\tvalid_1's binary_logloss: 0.303665\n"
     ]
    },
    {
     "name": "stderr",
     "output_type": "stream",
     "text": [
      "\n",
      "\n",
      "tune_min_child_samples, val_score: 0.302713:  20%|##        | 1/5 [00:00<00:01,  3.12it/s]\n",
      "\n",
      "tune_min_child_samples, val_score: 0.302713:  40%|####      | 2/5 [00:00<00:01,  2.85it/s][I 2020-03-24 14:02:28,536] Finished trial#1 resulted in value: 0.30366507961160355. Current best value is 0.30366507961160355 with parameters: {'min_child_samples': 10}.\n",
      "\n",
      "\n",
      "tune_min_child_samples, val_score: 0.302713:  40%|####      | 2/5 [00:00<00:01,  2.85it/s]"
     ]
    },
    {
     "name": "stdout",
     "output_type": "stream",
     "text": [
      "Training until validation scores don't improve for 100 rounds\n",
      "[100]\ttraining's binary_logloss: 0.204864\tvalid_1's binary_logloss: 0.309751\n",
      "Early stopping, best iteration is:\n",
      "[30]\ttraining's binary_logloss: 0.26218\tvalid_1's binary_logloss: 0.306541\n"
     ]
    },
    {
     "name": "stderr",
     "output_type": "stream",
     "text": [
      "\n",
      "\n",
      "tune_min_child_samples, val_score: 0.302713:  40%|####      | 2/5 [00:01<00:01,  2.85it/s]\n",
      "\n",
      "tune_min_child_samples, val_score: 0.302713:  60%|######    | 3/5 [00:01<00:00,  2.56it/s][I 2020-03-24 14:02:29,017] Finished trial#2 resulted in value: 0.30654135404601746. Current best value is 0.30366507961160355 with parameters: {'min_child_samples': 10}.\n",
      "\n",
      "\n",
      "tune_min_child_samples, val_score: 0.302713:  60%|######    | 3/5 [00:01<00:00,  2.56it/s]"
     ]
    },
    {
     "name": "stdout",
     "output_type": "stream",
     "text": [
      "Training until validation scores don't improve for 100 rounds\n",
      "[100]\ttraining's binary_logloss: 0.211991\tvalid_1's binary_logloss: 0.313088\n",
      "Early stopping, best iteration is:\n",
      "[37]\ttraining's binary_logloss: 0.258218\tvalid_1's binary_logloss: 0.30822\n"
     ]
    },
    {
     "name": "stderr",
     "output_type": "stream",
     "text": [
      "\n",
      "\n",
      "tune_min_child_samples, val_score: 0.302713:  60%|######    | 3/5 [00:01<00:00,  2.56it/s]\n",
      "\n",
      "tune_min_child_samples, val_score: 0.302713:  80%|########  | 4/5 [00:01<00:00,  2.50it/s][I 2020-03-24 14:02:29,439] Finished trial#3 resulted in value: 0.30821966555337227. Current best value is 0.30366507961160355 with parameters: {'min_child_samples': 10}.\n",
      "\n",
      "\n",
      "tune_min_child_samples, val_score: 0.302713:  80%|########  | 4/5 [00:01<00:00,  2.50it/s]"
     ]
    },
    {
     "name": "stdout",
     "output_type": "stream",
     "text": [
      "Training until validation scores don't improve for 100 rounds\n",
      "[100]\ttraining's binary_logloss: 0.21827\tvalid_1's binary_logloss: 0.312098\n",
      "Early stopping, best iteration is:\n",
      "[32]\ttraining's binary_logloss: 0.267775\tvalid_1's binary_logloss: 0.306427\n"
     ]
    },
    {
     "name": "stderr",
     "output_type": "stream",
     "text": [
      "\n",
      "\n",
      "tune_min_child_samples, val_score: 0.302713:  80%|########  | 4/5 [00:02<00:00,  2.50it/s]\n",
      "\n",
      "tune_min_child_samples, val_score: 0.302713: 100%|##########| 5/5 [00:02<00:00,  2.45it/s][I 2020-03-24 14:02:29,860] Finished trial#4 resulted in value: 0.3064272515723583. Current best value is 0.30366507961160355 with parameters: {'min_child_samples': 10}.\n",
      "tune_min_child_samples, val_score: 0.302713: 100%|##########| 5/5 [00:02<00:00,  2.28it/s]\n"
     ]
    },
    {
     "name": "stdout",
     "output_type": "stream",
     "text": [
      "2020-03-24 14:02:29 Like ********************************************************************************\n",
      "Like\n",
      "n_pos_wanted 1000\n",
      "2020-03-24 14:02:30 chunk 1\n",
      "dftrvl.shape: (10000, 95) dftrvl[tgtcol].mean(): 0.4267\n",
      "{'train_pop': 10000, 'target_pop': 4267, 'sampled_train_pop': 10000, 'sampled_target_pop': 4267}\n",
      "{'objective': 'binary', 'metric': 'binary_logloss', 'verbosity': 1, 'boosting_type': 'gbdt'}\n"
     ]
    },
    {
     "name": "stderr",
     "output_type": "stream",
     "text": [
      "\n",
      "\n",
      "  0%|          | 0/7 [00:00<?, ?it/s]\n",
      "\n",
      "tune_feature_fraction, val_score: inf:   0%|          | 0/7 [00:00<?, ?it/s]"
     ]
    },
    {
     "name": "stdout",
     "output_type": "stream",
     "text": [
      "Training until validation scores don't improve for 100 rounds\n",
      "[100]\ttraining's binary_logloss: 0.465482\tvalid_1's binary_logloss: 0.595716\n",
      "Early stopping, best iteration is:\n",
      "[66]\ttraining's binary_logloss: 0.507109\tvalid_1's binary_logloss: 0.593932\n"
     ]
    },
    {
     "name": "stderr",
     "output_type": "stream",
     "text": [
      "\n",
      "\n",
      "tune_feature_fraction, val_score: 0.593932:   0%|          | 0/7 [00:00<?, ?it/s]\n",
      "\n",
      "tune_feature_fraction, val_score: 0.593932:  14%|#4        | 1/7 [00:00<00:03,  1.70it/s][I 2020-03-24 14:02:31,080] Finished trial#0 resulted in value: 0.5939318093655847. Current best value is 0.5939318093655847 with parameters: {'feature_fraction': 0.4}.\n",
      "\n",
      "\n",
      "tune_feature_fraction, val_score: 0.593932:  14%|#4        | 1/7 [00:00<00:03,  1.70it/s]"
     ]
    },
    {
     "name": "stdout",
     "output_type": "stream",
     "text": [
      "Training until validation scores don't improve for 100 rounds\n",
      "[100]\ttraining's binary_logloss: 0.460972\tvalid_1's binary_logloss: 0.591761\n",
      "Early stopping, best iteration is:\n",
      "[94]\ttraining's binary_logloss: 0.468947\tvalid_1's binary_logloss: 0.591301\n"
     ]
    },
    {
     "name": "stderr",
     "output_type": "stream",
     "text": [
      "\n",
      "\n",
      "tune_feature_fraction, val_score: 0.591301:  14%|#4        | 1/7 [00:01<00:03,  1.70it/s]\n",
      "\n",
      "tune_feature_fraction, val_score: 0.591301:  29%|##8       | 2/7 [00:01<00:03,  1.60it/s][I 2020-03-24 14:02:31,783] Finished trial#1 resulted in value: 0.591301182445174. Current best value is 0.591301182445174 with parameters: {'feature_fraction': 0.5}.\n",
      "\n",
      "\n",
      "tune_feature_fraction, val_score: 0.591301:  29%|##8       | 2/7 [00:01<00:03,  1.60it/s]"
     ]
    },
    {
     "name": "stdout",
     "output_type": "stream",
     "text": [
      "Training until validation scores don't improve for 100 rounds\n",
      "[100]\ttraining's binary_logloss: 0.45673\tvalid_1's binary_logloss: 0.59403\n",
      "Early stopping, best iteration is:\n",
      "[89]\ttraining's binary_logloss: 0.471009\tvalid_1's binary_logloss: 0.593615\n"
     ]
    },
    {
     "name": "stderr",
     "output_type": "stream",
     "text": [
      "\n",
      "\n",
      "tune_feature_fraction, val_score: 0.591301:  29%|##8       | 2/7 [00:01<00:03,  1.60it/s]\n",
      "\n",
      "tune_feature_fraction, val_score: 0.591301:  43%|####2     | 3/7 [00:02<00:02,  1.54it/s][I 2020-03-24 14:02:32,480] Finished trial#2 resulted in value: 0.593614798123957. Current best value is 0.591301182445174 with parameters: {'feature_fraction': 0.5}.\n",
      "\n",
      "\n",
      "tune_feature_fraction, val_score: 0.591301:  43%|####2     | 3/7 [00:02<00:02,  1.54it/s]"
     ]
    },
    {
     "name": "stdout",
     "output_type": "stream",
     "text": [
      "Training until validation scores don't improve for 100 rounds\n",
      "[100]\ttraining's binary_logloss: 0.454624\tvalid_1's binary_logloss: 0.594148\n",
      "Early stopping, best iteration is:\n",
      "[81]\ttraining's binary_logloss: 0.478258\tvalid_1's binary_logloss: 0.592704\n"
     ]
    },
    {
     "name": "stderr",
     "output_type": "stream",
     "text": [
      "\n",
      "\n",
      "tune_feature_fraction, val_score: 0.591301:  43%|####2     | 3/7 [00:03<00:02,  1.54it/s]\n",
      "\n",
      "tune_feature_fraction, val_score: 0.591301:  57%|#####7    | 4/7 [00:03<00:02,  1.25it/s][I 2020-03-24 14:02:33,828] Finished trial#3 resulted in value: 0.5927041063285491. Current best value is 0.591301182445174 with parameters: {'feature_fraction': 0.5}.\n",
      "\n",
      "\n",
      "tune_feature_fraction, val_score: 0.591301:  57%|#####7    | 4/7 [00:03<00:02,  1.25it/s]"
     ]
    },
    {
     "name": "stdout",
     "output_type": "stream",
     "text": [
      "Training until validation scores don't improve for 100 rounds\n",
      "[100]\ttraining's binary_logloss: 0.453594\tvalid_1's binary_logloss: 0.594164\n",
      "Early stopping, best iteration is:\n",
      "[87]\ttraining's binary_logloss: 0.470105\tvalid_1's binary_logloss: 0.59224\n"
     ]
    },
    {
     "name": "stderr",
     "output_type": "stream",
     "text": [
      "\n",
      "\n",
      "tune_feature_fraction, val_score: 0.591301:  57%|#####7    | 4/7 [00:04<00:02,  1.25it/s]\n",
      "\n",
      "tune_feature_fraction, val_score: 0.591301:  71%|#######1  | 5/7 [00:04<00:01,  1.20it/s][I 2020-03-24 14:02:34,553] Finished trial#4 resulted in value: 0.5922395435447301. Current best value is 0.591301182445174 with parameters: {'feature_fraction': 0.5}.\n",
      "\n",
      "\n",
      "tune_feature_fraction, val_score: 0.591301:  71%|#######1  | 5/7 [00:04<00:01,  1.20it/s]"
     ]
    },
    {
     "name": "stdout",
     "output_type": "stream",
     "text": [
      "Training until validation scores don't improve for 100 rounds\n",
      "[100]\ttraining's binary_logloss: 0.450989\tvalid_1's binary_logloss: 0.595804\n",
      "Early stopping, best iteration is:\n",
      "[60]\ttraining's binary_logloss: 0.504189\tvalid_1's binary_logloss: 0.595106\n"
     ]
    },
    {
     "name": "stderr",
     "output_type": "stream",
     "text": [
      "\n",
      "\n",
      "tune_feature_fraction, val_score: 0.591301:  71%|#######1  | 5/7 [00:04<00:01,  1.20it/s]\n",
      "\n",
      "tune_feature_fraction, val_score: 0.591301:  86%|########5 | 6/7 [00:04<00:00,  1.25it/s][I 2020-03-24 14:02:35,257] Finished trial#5 resulted in value: 0.5951056146961077. Current best value is 0.591301182445174 with parameters: {'feature_fraction': 0.5}.\n",
      "\n",
      "\n",
      "tune_feature_fraction, val_score: 0.591301:  86%|########5 | 6/7 [00:04<00:00,  1.25it/s]"
     ]
    },
    {
     "name": "stdout",
     "output_type": "stream",
     "text": [
      "Training until validation scores don't improve for 100 rounds\n",
      "[100]\ttraining's binary_logloss: 0.447474\tvalid_1's binary_logloss: 0.59793\n",
      "Early stopping, best iteration is:\n",
      "[64]\ttraining's binary_logloss: 0.498052\tvalid_1's binary_logloss: 0.592283\n"
     ]
    },
    {
     "name": "stderr",
     "output_type": "stream",
     "text": [
      "\n",
      "\n",
      "tune_feature_fraction, val_score: 0.591301:  86%|########5 | 6/7 [00:05<00:00,  1.25it/s]\n",
      "\n",
      "tune_feature_fraction, val_score: 0.591301: 100%|##########| 7/7 [00:05<00:00,  1.33it/s][I 2020-03-24 14:02:35,899] Finished trial#6 resulted in value: 0.5922831882403715. Current best value is 0.591301182445174 with parameters: {'feature_fraction': 0.5}.\n",
      "tune_feature_fraction, val_score: 0.591301: 100%|##########| 7/7 [00:05<00:00,  1.27it/s]\n",
      "\n",
      "\n",
      "  0%|          | 0/20 [00:00<?, ?it/s]\n",
      "\n",
      "tune_num_leaves, val_score: 0.591301:   0%|          | 0/20 [00:00<?, ?it/s]"
     ]
    },
    {
     "name": "stdout",
     "output_type": "stream",
     "text": [
      "Training until validation scores don't improve for 100 rounds\n",
      "[100]\ttraining's binary_logloss: 0.13644\tvalid_1's binary_logloss: 0.628212\n",
      "Early stopping, best iteration is:\n",
      "[29]\ttraining's binary_logloss: 0.377188\tvalid_1's binary_logloss: 0.599445\n"
     ]
    },
    {
     "name": "stderr",
     "output_type": "stream",
     "text": [
      "\n",
      "\n",
      "tune_num_leaves, val_score: 0.591301:   0%|          | 0/20 [00:01<?, ?it/s]\n",
      "\n",
      "tune_num_leaves, val_score: 0.591301:   5%|5         | 1/20 [00:01<00:33,  1.76s/it][I 2020-03-24 14:02:37,772] Finished trial#0 resulted in value: 0.5994450921778732. Current best value is 0.5994450921778732 with parameters: {'num_leaves': 193}.\n",
      "\n",
      "\n",
      "tune_num_leaves, val_score: 0.591301:   5%|5         | 1/20 [00:01<00:33,  1.76s/it]"
     ]
    },
    {
     "name": "stdout",
     "output_type": "stream",
     "text": [
      "Training until validation scores don't improve for 100 rounds\n",
      "[100]\ttraining's binary_logloss: 0.325399\tvalid_1's binary_logloss: 0.606772\n",
      "Early stopping, best iteration is:\n",
      "[44]\ttraining's binary_logloss: 0.449863\tvalid_1's binary_logloss: 0.597685\n"
     ]
    },
    {
     "name": "stderr",
     "output_type": "stream",
     "text": [
      "\n",
      "\n",
      "tune_num_leaves, val_score: 0.591301:   5%|5         | 1/20 [00:02<00:33,  1.76s/it]\n",
      "\n",
      "tune_num_leaves, val_score: 0.591301:  10%|#         | 2/20 [00:03<00:28,  1.60s/it][I 2020-03-24 14:02:39,014] Finished trial#1 resulted in value: 0.5976845652735275. Current best value is 0.5976845652735275 with parameters: {'num_leaves': 72}.\n",
      "\n",
      "\n",
      "tune_num_leaves, val_score: 0.591301:  10%|#         | 2/20 [00:03<00:28,  1.60s/it]"
     ]
    },
    {
     "name": "stdout",
     "output_type": "stream",
     "text": [
      "Training until validation scores don't improve for 100 rounds\n",
      "[100]\ttraining's binary_logloss: 0.122914\tvalid_1's binary_logloss: 0.634368\n",
      "Early stopping, best iteration is:\n",
      "[27]\ttraining's binary_logloss: 0.375529\tvalid_1's binary_logloss: 0.602101\n"
     ]
    },
    {
     "name": "stderr",
     "output_type": "stream",
     "text": [
      "\n",
      "\n",
      "tune_num_leaves, val_score: 0.591301:  10%|#         | 2/20 [00:05<00:28,  1.60s/it]\n",
      "\n",
      "tune_num_leaves, val_score: 0.591301:  15%|#5        | 3/20 [00:05<00:29,  1.75s/it][I 2020-03-24 14:02:41,090] Finished trial#2 resulted in value: 0.602101258542509. Current best value is 0.5976845652735275 with parameters: {'num_leaves': 72}.\n",
      "\n",
      "\n",
      "tune_num_leaves, val_score: 0.591301:  15%|#5        | 3/20 [00:05<00:29,  1.75s/it]"
     ]
    },
    {
     "name": "stdout",
     "output_type": "stream",
     "text": [
      "Training until validation scores don't improve for 100 rounds\n",
      "[100]\ttraining's binary_logloss: 0.141809\tvalid_1's binary_logloss: 0.631956\n",
      "Early stopping, best iteration is:\n",
      "[24]\ttraining's binary_logloss: 0.409239\tvalid_1's binary_logloss: 0.597717\n"
     ]
    },
    {
     "name": "stderr",
     "output_type": "stream",
     "text": [
      "\n",
      "\n",
      "tune_num_leaves, val_score: 0.591301:  15%|#5        | 3/20 [00:06<00:29,  1.75s/it]\n",
      "\n",
      "tune_num_leaves, val_score: 0.591301:  20%|##        | 4/20 [00:06<00:28,  1.75s/it][I 2020-03-24 14:02:42,850] Finished trial#3 resulted in value: 0.5977167947511595. Current best value is 0.5976845652735275 with parameters: {'num_leaves': 72}.\n",
      "\n",
      "\n",
      "tune_num_leaves, val_score: 0.591301:  20%|##        | 4/20 [00:06<00:28,  1.75s/it]"
     ]
    },
    {
     "name": "stdout",
     "output_type": "stream",
     "text": [
      "Training until validation scores don't improve for 100 rounds\n",
      "[100]\ttraining's binary_logloss: 0.272805\tvalid_1's binary_logloss: 0.609802\n",
      "Early stopping, best iteration is:\n",
      "[29]\ttraining's binary_logloss: 0.471823\tvalid_1's binary_logloss: 0.598223\n"
     ]
    },
    {
     "name": "stderr",
     "output_type": "stream",
     "text": [
      "\n",
      "\n",
      "tune_num_leaves, val_score: 0.591301:  20%|##        | 4/20 [00:08<00:28,  1.75s/it]\n",
      "\n",
      "tune_num_leaves, val_score: 0.591301:  25%|##5       | 5/20 [00:08<00:23,  1.57s/it][I 2020-03-24 14:02:44,040] Finished trial#4 resulted in value: 0.5982231710160935. Current best value is 0.5976845652735275 with parameters: {'num_leaves': 72}.\n",
      "\n",
      "\n",
      "tune_num_leaves, val_score: 0.591301:  25%|##5       | 5/20 [00:08<00:23,  1.57s/it]"
     ]
    },
    {
     "name": "stdout",
     "output_type": "stream",
     "text": [
      "Training until validation scores don't improve for 100 rounds\n",
      "[100]\ttraining's binary_logloss: 0.348779\tvalid_1's binary_logloss: 0.600993\n",
      "Early stopping, best iteration is:\n",
      "[48]\ttraining's binary_logloss: 0.45751\tvalid_1's binary_logloss: 0.593286\n"
     ]
    },
    {
     "name": "stderr",
     "output_type": "stream",
     "text": [
      "\n",
      "\n",
      "tune_num_leaves, val_score: 0.591301:  25%|##5       | 5/20 [00:08<00:23,  1.57s/it]\n",
      "\n",
      "tune_num_leaves, val_score: 0.591301:  30%|###       | 6/20 [00:08<00:19,  1.40s/it][I 2020-03-24 14:02:45,000] Finished trial#5 resulted in value: 0.5932856892593883. Current best value is 0.5932856892593883 with parameters: {'num_leaves': 63}.\n",
      "\n",
      "\n",
      "tune_num_leaves, val_score: 0.591301:  30%|###       | 6/20 [00:09<00:19,  1.40s/it]"
     ]
    },
    {
     "name": "stdout",
     "output_type": "stream",
     "text": [
      "Training until validation scores don't improve for 100 rounds\n",
      "[100]\ttraining's binary_logloss: 0.255946\tvalid_1's binary_logloss: 0.604843\n",
      "Early stopping, best iteration is:\n",
      "[44]\ttraining's binary_logloss: 0.400587\tvalid_1's binary_logloss: 0.595548\n"
     ]
    },
    {
     "name": "stderr",
     "output_type": "stream",
     "text": [
      "\n",
      "\n",
      "tune_num_leaves, val_score: 0.591301:  30%|###       | 6/20 [00:10<00:19,  1.40s/it]\n",
      "\n",
      "tune_num_leaves, val_score: 0.591301:  35%|###5      | 7/20 [00:10<00:17,  1.35s/it][I 2020-03-24 14:02:46,254] Finished trial#6 resulted in value: 0.59554816980574. Current best value is 0.5932856892593883 with parameters: {'num_leaves': 63}.\n",
      "\n",
      "\n",
      "tune_num_leaves, val_score: 0.591301:  35%|###5      | 7/20 [00:10<00:17,  1.35s/it]"
     ]
    },
    {
     "name": "stdout",
     "output_type": "stream",
     "text": [
      "Training until validation scores don't improve for 100 rounds\n",
      "[100]\ttraining's binary_logloss: 0.566859\tvalid_1's binary_logloss: 0.596368\n",
      "[200]\ttraining's binary_logloss: 0.523754\tvalid_1's binary_logloss: 0.594578\n",
      "Early stopping, best iteration is:\n",
      "[127]\ttraining's binary_logloss: 0.554248\tvalid_1's binary_logloss: 0.594248\n"
     ]
    },
    {
     "name": "stderr",
     "output_type": "stream",
     "text": [
      "\n",
      "\n",
      "tune_num_leaves, val_score: 0.591301:  35%|###5      | 7/20 [00:10<00:17,  1.35s/it]\n",
      "\n",
      "tune_num_leaves, val_score: 0.591301:  40%|####      | 8/20 [00:10<00:13,  1.09s/it][I 2020-03-24 14:02:46,710] Finished trial#7 resulted in value: 0.5942475477005484. Current best value is 0.5932856892593883 with parameters: {'num_leaves': 63}.\n",
      "\n",
      "\n",
      "tune_num_leaves, val_score: 0.591301:  40%|####      | 8/20 [00:10<00:13,  1.09s/it]"
     ]
    },
    {
     "name": "stdout",
     "output_type": "stream",
     "text": [
      "Training until validation scores don't improve for 100 rounds\n",
      "[100]\ttraining's binary_logloss: 0.238863\tvalid_1's binary_logloss: 0.605858\n",
      "Early stopping, best iteration is:\n",
      "[36]\ttraining's binary_logloss: 0.417291\tvalid_1's binary_logloss: 0.593939\n"
     ]
    },
    {
     "name": "stderr",
     "output_type": "stream",
     "text": [
      "\n",
      "\n",
      "tune_num_leaves, val_score: 0.591301:  40%|####      | 8/20 [00:12<00:13,  1.09s/it]\n",
      "\n",
      "tune_num_leaves, val_score: 0.591301:  45%|####5     | 9/20 [00:12<00:12,  1.16s/it][I 2020-03-24 14:02:48,044] Finished trial#8 resulted in value: 0.593939141019152. Current best value is 0.5932856892593883 with parameters: {'num_leaves': 63}.\n",
      "\n",
      "\n",
      "tune_num_leaves, val_score: 0.591301:  45%|####5     | 9/20 [00:12<00:12,  1.16s/it]"
     ]
    },
    {
     "name": "stdout",
     "output_type": "stream",
     "text": [
      "Training until validation scores don't improve for 100 rounds\n",
      "[100]\ttraining's binary_logloss: 0.180519\tvalid_1's binary_logloss: 0.622805\n",
      "Early stopping, best iteration is:\n",
      "[28]\ttraining's binary_logloss: 0.416484\tvalid_1's binary_logloss: 0.604541\n"
     ]
    },
    {
     "name": "stderr",
     "output_type": "stream",
     "text": [
      "\n",
      "\n",
      "tune_num_leaves, val_score: 0.591301:  45%|####5     | 9/20 [00:13<00:12,  1.16s/it]\n",
      "\n",
      "tune_num_leaves, val_score: 0.591301:  50%|#####     | 10/20 [00:13<00:12,  1.29s/it][I 2020-03-24 14:02:49,656] Finished trial#9 resulted in value: 0.6045406325103276. Current best value is 0.5932856892593883 with parameters: {'num_leaves': 63}.\n",
      "\n",
      "\n",
      "tune_num_leaves, val_score: 0.591301:  50%|#####     | 10/20 [00:13<00:12,  1.29s/it]"
     ]
    },
    {
     "name": "stdout",
     "output_type": "stream",
     "text": [
      "Training until validation scores don't improve for 100 rounds\n",
      "[100]\ttraining's binary_logloss: 0.380643\tvalid_1's binary_logloss: 0.593417\n",
      "[200]\ttraining's binary_logloss: 0.259272\tvalid_1's binary_logloss: 0.604827\n",
      "Early stopping, best iteration is:\n",
      "[109]\ttraining's binary_logloss: 0.366449\tvalid_1's binary_logloss: 0.592427\n"
     ]
    },
    {
     "name": "stderr",
     "output_type": "stream",
     "text": [
      "\n",
      "\n",
      "tune_num_leaves, val_score: 0.591301:  50%|#####     | 10/20 [00:14<00:12,  1.29s/it]\n",
      "\n",
      "tune_num_leaves, val_score: 0.591301:  55%|#####5    | 11/20 [00:14<00:10,  1.22s/it][I 2020-03-24 14:02:50,700] Finished trial#10 resulted in value: 0.5924266283642121. Current best value is 0.5924266283642121 with parameters: {'num_leaves': 53}.\n",
      "\n",
      "\n",
      "tune_num_leaves, val_score: 0.591301:  55%|#####5    | 11/20 [00:14<00:10,  1.22s/it]"
     ]
    },
    {
     "name": "stdout",
     "output_type": "stream",
     "text": [
      "Training until validation scores don't improve for 100 rounds\n",
      "[100]\ttraining's binary_logloss: 0.470223\tvalid_1's binary_logloss: 0.594444\n",
      "Early stopping, best iteration is:\n",
      "[52]\ttraining's binary_logloss: 0.530027\tvalid_1's binary_logloss: 0.592174\n"
     ]
    },
    {
     "name": "stderr",
     "output_type": "stream",
     "text": [
      "\n",
      "\n",
      "tune_num_leaves, val_score: 0.591301:  55%|#####5    | 11/20 [00:15<00:10,  1.22s/it]\n",
      "\n",
      "tune_num_leaves, val_score: 0.591301:  60%|######    | 12/20 [00:15<00:08,  1.05s/it][I 2020-03-24 14:02:51,346] Finished trial#11 resulted in value: 0.5921736194748766. Current best value is 0.5921736194748766 with parameters: {'num_leaves': 29}.\n",
      "\n",
      "\n",
      "tune_num_leaves, val_score: 0.591301:  60%|######    | 12/20 [00:15<00:08,  1.05s/it]"
     ]
    },
    {
     "name": "stdout",
     "output_type": "stream",
     "text": [
      "Training until validation scores don't improve for 100 rounds\n",
      "[100]\ttraining's binary_logloss: 0.566859\tvalid_1's binary_logloss: 0.596368\n",
      "[200]\ttraining's binary_logloss: 0.523754\tvalid_1's binary_logloss: 0.594578\n",
      "Early stopping, best iteration is:\n",
      "[127]\ttraining's binary_logloss: 0.554248\tvalid_1's binary_logloss: 0.594248\n"
     ]
    },
    {
     "name": "stderr",
     "output_type": "stream",
     "text": [
      "\n",
      "\n",
      "tune_num_leaves, val_score: 0.591301:  60%|######    | 12/20 [00:15<00:08,  1.05s/it]\n",
      "\n",
      "tune_num_leaves, val_score: 0.591301:  65%|######5   | 13/20 [00:15<00:06,  1.15it/s][I 2020-03-24 14:02:51,806] Finished trial#12 resulted in value: 0.5942475477005484. Current best value is 0.5921736194748766 with parameters: {'num_leaves': 29}.\n",
      "\n",
      "\n",
      "tune_num_leaves, val_score: 0.591301:  65%|######5   | 13/20 [00:15<00:06,  1.15it/s]"
     ]
    },
    {
     "name": "stdout",
     "output_type": "stream",
     "text": [
      "Training until validation scores don't improve for 100 rounds\n",
      "[100]\ttraining's binary_logloss: 0.441552\tvalid_1's binary_logloss: 0.593633\n",
      "Early stopping, best iteration is:\n",
      "[49]\ttraining's binary_logloss: 0.515538\tvalid_1's binary_logloss: 0.590356\n"
     ]
    },
    {
     "name": "stderr",
     "output_type": "stream",
     "text": [
      "\n",
      "\n",
      "tune_num_leaves, val_score: 0.590356:  65%|######5   | 13/20 [00:16<00:06,  1.15it/s]\n",
      "\n",
      "tune_num_leaves, val_score: 0.590356:  70%|#######   | 14/20 [00:16<00:04,  1.25it/s][I 2020-03-24 14:02:52,433] Finished trial#13 resulted in value: 0.590355744956601. Current best value is 0.590355744956601 with parameters: {'num_leaves': 36}.\n",
      "\n",
      "\n",
      "tune_num_leaves, val_score: 0.590356:  70%|#######   | 14/20 [00:16<00:04,  1.25it/s]"
     ]
    },
    {
     "name": "stdout",
     "output_type": "stream",
     "text": [
      "Training until validation scores don't improve for 100 rounds\n",
      "[100]\ttraining's binary_logloss: 0.460972\tvalid_1's binary_logloss: 0.591761\n",
      "Early stopping, best iteration is:\n",
      "[94]\ttraining's binary_logloss: 0.468947\tvalid_1's binary_logloss: 0.591301\n"
     ]
    },
    {
     "name": "stderr",
     "output_type": "stream",
     "text": [
      "\n",
      "\n",
      "tune_num_leaves, val_score: 0.590356:  70%|#######   | 14/20 [00:17<00:04,  1.25it/s]\n",
      "\n",
      "tune_num_leaves, val_score: 0.590356:  75%|#######5  | 15/20 [00:17<00:03,  1.28it/s][I 2020-03-24 14:02:53,165] Finished trial#14 resulted in value: 0.591301182445174. Current best value is 0.590355744956601 with parameters: {'num_leaves': 36}.\n",
      "\n",
      "\n",
      "tune_num_leaves, val_score: 0.590356:  75%|#######5  | 15/20 [00:17<00:03,  1.28it/s]"
     ]
    },
    {
     "name": "stdout",
     "output_type": "stream",
     "text": [
      "Training until validation scores don't improve for 100 rounds\n",
      "[100]\ttraining's binary_logloss: 0.421727\tvalid_1's binary_logloss: 0.596468\n",
      "Early stopping, best iteration is:\n",
      "[43]\ttraining's binary_logloss: 0.514682\tvalid_1's binary_logloss: 0.593484\n"
     ]
    },
    {
     "name": "stderr",
     "output_type": "stream",
     "text": [
      "\n",
      "\n",
      "tune_num_leaves, val_score: 0.590356:  75%|#######5  | 15/20 [00:17<00:03,  1.28it/s]\n",
      "\n",
      "tune_num_leaves, val_score: 0.590356:  80%|########  | 16/20 [00:17<00:02,  1.35it/s][I 2020-03-24 14:02:53,822] Finished trial#15 resulted in value: 0.5934836542500883. Current best value is 0.590355744956601 with parameters: {'num_leaves': 36}.\n",
      "\n",
      "\n",
      "tune_num_leaves, val_score: 0.590356:  80%|########  | 16/20 [00:17<00:02,  1.35it/s]"
     ]
    },
    {
     "name": "stdout",
     "output_type": "stream",
     "text": [
      "Training until validation scores don't improve for 100 rounds\n",
      "[100]\ttraining's binary_logloss: 0.608179\tvalid_1's binary_logloss: 0.598778\n",
      "[200]\ttraining's binary_logloss: 0.589219\tvalid_1's binary_logloss: 0.594933\n",
      "[300]\ttraining's binary_logloss: 0.575189\tvalid_1's binary_logloss: 0.592895\n",
      "[400]\ttraining's binary_logloss: 0.562425\tvalid_1's binary_logloss: 0.593287\n",
      "Early stopping, best iteration is:\n",
      "[348]\ttraining's binary_logloss: 0.568995\tvalid_1's binary_logloss: 0.591974\n"
     ]
    },
    {
     "name": "stderr",
     "output_type": "stream",
     "text": [
      "\n",
      "\n",
      "tune_num_leaves, val_score: 0.590356:  80%|########  | 16/20 [00:18<00:02,  1.35it/s]\n",
      "\n",
      "tune_num_leaves, val_score: 0.590356:  85%|########5 | 17/20 [00:18<00:02,  1.42it/s][I 2020-03-24 14:02:54,437] Finished trial#16 resulted in value: 0.5919744223063091. Current best value is 0.590355744956601 with parameters: {'num_leaves': 36}.\n",
      "\n",
      "\n",
      "tune_num_leaves, val_score: 0.590356:  85%|########5 | 17/20 [00:18<00:02,  1.42it/s]"
     ]
    },
    {
     "name": "stdout",
     "output_type": "stream",
     "text": [
      "Training until validation scores don't improve for 100 rounds\n",
      "[100]\ttraining's binary_logloss: 0.200809\tvalid_1's binary_logloss: 0.6186\n",
      "Early stopping, best iteration is:\n",
      "[31]\ttraining's binary_logloss: 0.416059\tvalid_1's binary_logloss: 0.601228\n"
     ]
    },
    {
     "name": "stderr",
     "output_type": "stream",
     "text": [
      "\n",
      "\n",
      "tune_num_leaves, val_score: 0.590356:  85%|########5 | 17/20 [00:19<00:02,  1.42it/s]\n",
      "\n",
      "tune_num_leaves, val_score: 0.590356:  90%|######### | 18/20 [00:19<00:01,  1.10it/s][I 2020-03-24 14:02:55,825] Finished trial#17 resulted in value: 0.6012276079091426. Current best value is 0.590355744956601 with parameters: {'num_leaves': 36}.\n",
      "\n",
      "\n",
      "tune_num_leaves, val_score: 0.590356:  90%|######### | 18/20 [00:19<00:01,  1.10it/s]"
     ]
    },
    {
     "name": "stdout",
     "output_type": "stream",
     "text": [
      "Training until validation scores don't improve for 100 rounds\n",
      "[100]\ttraining's binary_logloss: 0.301818\tvalid_1's binary_logloss: 0.604021\n",
      "Early stopping, best iteration is:\n",
      "[32]\ttraining's binary_logloss: 0.475073\tvalid_1's binary_logloss: 0.596909\n"
     ]
    },
    {
     "name": "stderr",
     "output_type": "stream",
     "text": [
      "\n",
      "\n",
      "tune_num_leaves, val_score: 0.590356:  90%|######### | 18/20 [00:21<00:01,  1.10it/s]\n",
      "\n",
      "tune_num_leaves, val_score: 0.590356:  95%|#########5| 19/20 [00:21<00:01,  1.05s/it][I 2020-03-24 14:02:57,207] Finished trial#18 resulted in value: 0.5969085400586402. Current best value is 0.590355744956601 with parameters: {'num_leaves': 36}.\n",
      "\n",
      "\n",
      "tune_num_leaves, val_score: 0.590356:  95%|#########5| 19/20 [00:21<00:01,  1.05s/it]"
     ]
    },
    {
     "name": "stdout",
     "output_type": "stream",
     "text": [
      "Training until validation scores don't improve for 100 rounds\n",
      "[100]\ttraining's binary_logloss: 0.493105\tvalid_1's binary_logloss: 0.592214\n",
      "[200]\ttraining's binary_logloss: 0.408287\tvalid_1's binary_logloss: 0.59924\n",
      "Early stopping, best iteration is:\n",
      "[110]\ttraining's binary_logloss: 0.483319\tvalid_1's binary_logloss: 0.590194\n"
     ]
    },
    {
     "name": "stderr",
     "output_type": "stream",
     "text": [
      "\n",
      "\n",
      "tune_num_leaves, val_score: 0.590194:  95%|#########5| 19/20 [00:21<00:01,  1.05s/it]\n",
      "\n",
      "tune_num_leaves, val_score: 0.590194: 100%|##########| 20/20 [00:21<00:00,  1.05it/s][I 2020-03-24 14:02:57,914] Finished trial#19 resulted in value: 0.5901943971573571. Current best value is 0.5901943971573571 with parameters: {'num_leaves': 24}.\n",
      "tune_num_leaves, val_score: 0.590194: 100%|##########| 20/20 [00:22<00:00,  1.10s/it]\n",
      "\n",
      "\n",
      "  0%|          | 0/10 [00:00<?, ?it/s]\n",
      "\n",
      "tune_bagging_fraction_and_bagging_freq, val_score: 0.590194:   0%|          | 0/10 [00:00<?, ?it/s]"
     ]
    },
    {
     "name": "stdout",
     "output_type": "stream",
     "text": [
      "Training until validation scores don't improve for 100 rounds\n",
      "[100]\ttraining's binary_logloss: 0.489264\tvalid_1's binary_logloss: 0.591468\n",
      "Early stopping, best iteration is:\n",
      "[99]\ttraining's binary_logloss: 0.490666\tvalid_1's binary_logloss: 0.591086\n"
     ]
    },
    {
     "name": "stderr",
     "output_type": "stream",
     "text": [
      "\n",
      "\n",
      "tune_bagging_fraction_and_bagging_freq, val_score: 0.590194:   0%|          | 0/10 [00:00<?, ?it/s]\n",
      "\n",
      "tune_bagging_fraction_and_bagging_freq, val_score: 0.590194:  10%|#         | 1/10 [00:00<00:04,  1.89it/s][I 2020-03-24 14:02:58,571] Finished trial#0 resulted in value: 0.5910861116332373. Current best value is 0.5910861116332373 with parameters: {'bagging_fraction': 0.7244668526047968, 'bagging_freq': 4}.\n",
      "\n",
      "\n",
      "tune_bagging_fraction_and_bagging_freq, val_score: 0.590194:  10%|#         | 1/10 [00:00<00:04,  1.89it/s]"
     ]
    },
    {
     "name": "stdout",
     "output_type": "stream",
     "text": [
      "Training until validation scores don't improve for 100 rounds\n",
      "[100]\ttraining's binary_logloss: 0.487261\tvalid_1's binary_logloss: 0.594\n",
      "Early stopping, best iteration is:\n",
      "[99]\ttraining's binary_logloss: 0.488681\tvalid_1's binary_logloss: 0.59369\n"
     ]
    },
    {
     "name": "stderr",
     "output_type": "stream",
     "text": [
      "\n",
      "\n",
      "tune_bagging_fraction_and_bagging_freq, val_score: 0.590194:  10%|#         | 1/10 [00:01<00:04,  1.89it/s]\n",
      "\n",
      "tune_bagging_fraction_and_bagging_freq, val_score: 0.590194:  20%|##        | 2/10 [00:01<00:05,  1.58it/s][I 2020-03-24 14:02:59,444] Finished trial#1 resulted in value: 0.593689987943586. Current best value is 0.5910861116332373 with parameters: {'bagging_fraction': 0.7244668526047968, 'bagging_freq': 4}.\n",
      "\n",
      "\n",
      "tune_bagging_fraction_and_bagging_freq, val_score: 0.590194:  20%|##        | 2/10 [00:01<00:05,  1.58it/s]"
     ]
    },
    {
     "name": "stdout",
     "output_type": "stream",
     "text": [
      "Training until validation scores don't improve for 100 rounds\n",
      "[100]\ttraining's binary_logloss: 0.494531\tvalid_1's binary_logloss: 0.592779\n",
      "Early stopping, best iteration is:\n",
      "[93]\ttraining's binary_logloss: 0.501965\tvalid_1's binary_logloss: 0.58972\n"
     ]
    },
    {
     "name": "stderr",
     "output_type": "stream",
     "text": [
      "\n",
      "\n",
      "tune_bagging_fraction_and_bagging_freq, val_score: 0.589720:  20%|##        | 2/10 [00:02<00:05,  1.58it/s]\n",
      "\n",
      "tune_bagging_fraction_and_bagging_freq, val_score: 0.589720:  30%|###       | 3/10 [00:02<00:04,  1.57it/s][I 2020-03-24 14:03:00,087] Finished trial#2 resulted in value: 0.589719758214724. Current best value is 0.589719758214724 with parameters: {'bagging_fraction': 0.4590995647186283, 'bagging_freq': 3}.\n",
      "\n",
      "\n",
      "tune_bagging_fraction_and_bagging_freq, val_score: 0.589720:  30%|###       | 3/10 [00:02<00:04,  1.57it/s]"
     ]
    },
    {
     "name": "stdout",
     "output_type": "stream",
     "text": [
      "Training until validation scores don't improve for 100 rounds\n",
      "[100]\ttraining's binary_logloss: 0.490776\tvalid_1's binary_logloss: 0.594904\n",
      "Early stopping, best iteration is:\n",
      "[55]\ttraining's binary_logloss: 0.540072\tvalid_1's binary_logloss: 0.592708\n"
     ]
    },
    {
     "name": "stderr",
     "output_type": "stream",
     "text": [
      "\n",
      "\n",
      "tune_bagging_fraction_and_bagging_freq, val_score: 0.589720:  30%|###       | 3/10 [00:02<00:04,  1.57it/s]\n",
      "\n",
      "tune_bagging_fraction_and_bagging_freq, val_score: 0.589720:  40%|####      | 4/10 [00:02<00:03,  1.63it/s][I 2020-03-24 14:03:00,652] Finished trial#3 resulted in value: 0.5927082431397753. Current best value is 0.589719758214724 with parameters: {'bagging_fraction': 0.4590995647186283, 'bagging_freq': 3}.\n",
      "\n",
      "\n",
      "tune_bagging_fraction_and_bagging_freq, val_score: 0.589720:  40%|####      | 4/10 [00:02<00:03,  1.63it/s]"
     ]
    },
    {
     "name": "stdout",
     "output_type": "stream",
     "text": [
      "Training until validation scores don't improve for 100 rounds\n",
      "[100]\ttraining's binary_logloss: 0.497791\tvalid_1's binary_logloss: 0.596979\n",
      "[200]\ttraining's binary_logloss: 0.410242\tvalid_1's binary_logloss: 0.609453\n",
      "Early stopping, best iteration is:\n",
      "[104]\ttraining's binary_logloss: 0.494174\tvalid_1's binary_logloss: 0.595242\n"
     ]
    },
    {
     "name": "stderr",
     "output_type": "stream",
     "text": [
      "\n",
      "\n",
      "tune_bagging_fraction_and_bagging_freq, val_score: 0.589720:  40%|####      | 4/10 [00:03<00:03,  1.63it/s]\n",
      "\n",
      "tune_bagging_fraction_and_bagging_freq, val_score: 0.589720:  50%|#####     | 5/10 [00:03<00:03,  1.57it/s][I 2020-03-24 14:03:01,329] Finished trial#4 resulted in value: 0.5952424432779032. Current best value is 0.589719758214724 with parameters: {'bagging_fraction': 0.4590995647186283, 'bagging_freq': 3}.\n",
      "\n",
      "\n",
      "tune_bagging_fraction_and_bagging_freq, val_score: 0.589720:  50%|#####     | 5/10 [00:03<00:03,  1.57it/s]"
     ]
    },
    {
     "name": "stdout",
     "output_type": "stream",
     "text": [
      "Training until validation scores don't improve for 100 rounds\n",
      "[100]\ttraining's binary_logloss: 0.493755\tvalid_1's binary_logloss: 0.601841\n",
      "Early stopping, best iteration is:\n",
      "[58]\ttraining's binary_logloss: 0.541764\tvalid_1's binary_logloss: 0.598873\n"
     ]
    },
    {
     "name": "stderr",
     "output_type": "stream",
     "text": [
      "\n",
      "\n",
      "tune_bagging_fraction_and_bagging_freq, val_score: 0.589720:  50%|#####     | 5/10 [00:03<00:03,  1.57it/s]\n",
      "\n",
      "tune_bagging_fraction_and_bagging_freq, val_score: 0.589720:  60%|######    | 6/10 [00:03<00:02,  1.65it/s][I 2020-03-24 14:03:01,861] Finished trial#5 resulted in value: 0.5988725570757535. Current best value is 0.589719758214724 with parameters: {'bagging_fraction': 0.4590995647186283, 'bagging_freq': 3}.\n",
      "\n",
      "\n",
      "tune_bagging_fraction_and_bagging_freq, val_score: 0.589720:  60%|######    | 6/10 [00:03<00:02,  1.65it/s]"
     ]
    },
    {
     "name": "stdout",
     "output_type": "stream",
     "text": [
      "Training until validation scores don't improve for 100 rounds\n",
      "[100]\ttraining's binary_logloss: 0.496099\tvalid_1's binary_logloss: 0.601878\n",
      "Early stopping, best iteration is:\n",
      "[48]\ttraining's binary_logloss: 0.554373\tvalid_1's binary_logloss: 0.594994\n"
     ]
    },
    {
     "name": "stderr",
     "output_type": "stream",
     "text": [
      "\n",
      "\n",
      "tune_bagging_fraction_and_bagging_freq, val_score: 0.589720:  60%|######    | 6/10 [00:04<00:02,  1.65it/s]\n",
      "\n",
      "tune_bagging_fraction_and_bagging_freq, val_score: 0.589720:  70%|#######   | 7/10 [00:04<00:01,  1.69it/s][I 2020-03-24 14:03:02,422] Finished trial#6 resulted in value: 0.5949944961035807. Current best value is 0.589719758214724 with parameters: {'bagging_fraction': 0.4590995647186283, 'bagging_freq': 3}.\n",
      "\n",
      "\n",
      "tune_bagging_fraction_and_bagging_freq, val_score: 0.589720:  70%|#######   | 7/10 [00:04<00:01,  1.69it/s]"
     ]
    },
    {
     "name": "stdout",
     "output_type": "stream",
     "text": [
      "Training until validation scores don't improve for 100 rounds\n",
      "[100]\ttraining's binary_logloss: 0.491825\tvalid_1's binary_logloss: 0.59875\n",
      "Early stopping, best iteration is:\n",
      "[51]\ttraining's binary_logloss: 0.547112\tvalid_1's binary_logloss: 0.595044\n"
     ]
    },
    {
     "name": "stderr",
     "output_type": "stream",
     "text": [
      "\n",
      "\n",
      "tune_bagging_fraction_and_bagging_freq, val_score: 0.589720:  70%|#######   | 7/10 [00:04<00:01,  1.69it/s]\n",
      "\n",
      "tune_bagging_fraction_and_bagging_freq, val_score: 0.589720:  80%|########  | 8/10 [00:04<00:01,  1.76it/s][I 2020-03-24 14:03:02,933] Finished trial#7 resulted in value: 0.5950439605302391. Current best value is 0.589719758214724 with parameters: {'bagging_fraction': 0.4590995647186283, 'bagging_freq': 3}.\n",
      "\n",
      "\n",
      "tune_bagging_fraction_and_bagging_freq, val_score: 0.589720:  80%|########  | 8/10 [00:05<00:01,  1.76it/s]"
     ]
    },
    {
     "name": "stdout",
     "output_type": "stream",
     "text": [
      "Training until validation scores don't improve for 100 rounds\n",
      "[100]\ttraining's binary_logloss: 0.496028\tvalid_1's binary_logloss: 0.60124\n",
      "Early stopping, best iteration is:\n",
      "[67]\ttraining's binary_logloss: 0.530003\tvalid_1's binary_logloss: 0.598216\n"
     ]
    },
    {
     "name": "stderr",
     "output_type": "stream",
     "text": [
      "\n",
      "\n",
      "tune_bagging_fraction_and_bagging_freq, val_score: 0.589720:  80%|########  | 8/10 [00:05<00:01,  1.76it/s]\n",
      "\n",
      "tune_bagging_fraction_and_bagging_freq, val_score: 0.589720:  90%|######### | 9/10 [00:05<00:00,  1.77it/s][I 2020-03-24 14:03:03,492] Finished trial#8 resulted in value: 0.5982155908347403. Current best value is 0.589719758214724 with parameters: {'bagging_fraction': 0.4590995647186283, 'bagging_freq': 3}.\n",
      "\n",
      "\n",
      "tune_bagging_fraction_and_bagging_freq, val_score: 0.589720:  90%|######### | 9/10 [00:05<00:00,  1.77it/s]"
     ]
    },
    {
     "name": "stdout",
     "output_type": "stream",
     "text": [
      "Training until validation scores don't improve for 100 rounds\n",
      "[100]\ttraining's binary_logloss: 0.489773\tvalid_1's binary_logloss: 0.595041\n",
      "Early stopping, best iteration is:\n",
      "[58]\ttraining's binary_logloss: 0.53513\tvalid_1's binary_logloss: 0.590851\n"
     ]
    },
    {
     "name": "stderr",
     "output_type": "stream",
     "text": [
      "\n",
      "\n",
      "tune_bagging_fraction_and_bagging_freq, val_score: 0.589720:  90%|######### | 9/10 [00:06<00:00,  1.77it/s]\n",
      "\n",
      "tune_bagging_fraction_and_bagging_freq, val_score: 0.589720: 100%|##########| 10/10 [00:06<00:00,  1.67it/s][I 2020-03-24 14:03:04,354] Finished trial#9 resulted in value: 0.5908507871537184. Current best value is 0.589719758214724 with parameters: {'bagging_fraction': 0.4590995647186283, 'bagging_freq': 3}.\n",
      "tune_bagging_fraction_and_bagging_freq, val_score: 0.589720: 100%|##########| 10/10 [00:06<00:00,  1.55it/s]\n",
      "\n",
      "\n",
      "  0%|          | 0/6 [00:00<?, ?it/s]\n",
      "\n",
      "tune_feature_fraction, val_score: 0.589720:   0%|          | 0/6 [00:00<?, ?it/s]"
     ]
    },
    {
     "name": "stdout",
     "output_type": "stream",
     "text": [
      "Training until validation scores don't improve for 100 rounds\n",
      "[100]\ttraining's binary_logloss: 0.497375\tvalid_1's binary_logloss: 0.594377\n",
      "Early stopping, best iteration is:\n",
      "[84]\ttraining's binary_logloss: 0.515025\tvalid_1's binary_logloss: 0.591261\n"
     ]
    },
    {
     "name": "stderr",
     "output_type": "stream",
     "text": [
      "\n",
      "\n",
      "tune_feature_fraction, val_score: 0.589720:   0%|          | 0/6 [00:00<?, ?it/s]\n",
      "\n",
      "tune_feature_fraction, val_score: 0.589720:  17%|#6        | 1/6 [00:00<00:02,  1.70it/s][I 2020-03-24 14:03:05,081] Finished trial#0 resulted in value: 0.5912605098272387. Current best value is 0.5912605098272387 with parameters: {'feature_fraction': 0.42}.\n",
      "\n",
      "\n",
      "tune_feature_fraction, val_score: 0.589720:  17%|#6        | 1/6 [00:00<00:02,  1.70it/s]"
     ]
    },
    {
     "name": "stdout",
     "output_type": "stream",
     "text": [
      "Training until validation scores don't improve for 100 rounds\n",
      "[100]\ttraining's binary_logloss: 0.499116\tvalid_1's binary_logloss: 0.595825\n",
      "Early stopping, best iteration is:\n",
      "[91]\ttraining's binary_logloss: 0.508185\tvalid_1's binary_logloss: 0.594996\n"
     ]
    },
    {
     "name": "stderr",
     "output_type": "stream",
     "text": [
      "\n",
      "\n",
      "tune_feature_fraction, val_score: 0.589720:  17%|#6        | 1/6 [00:01<00:02,  1.70it/s]\n",
      "\n",
      "tune_feature_fraction, val_score: 0.589720:  33%|###3      | 2/6 [00:01<00:02,  1.60it/s][I 2020-03-24 14:03:05,788] Finished trial#1 resulted in value: 0.5949958857732468. Current best value is 0.5912605098272387 with parameters: {'feature_fraction': 0.42}.\n",
      "\n",
      "\n",
      "tune_feature_fraction, val_score: 0.589720:  33%|###3      | 2/6 [00:01<00:02,  1.60it/s]"
     ]
    },
    {
     "name": "stdout",
     "output_type": "stream",
     "text": [
      "Training until validation scores don't improve for 100 rounds\n",
      "[100]\ttraining's binary_logloss: 0.495746\tvalid_1's binary_logloss: 0.597351\n",
      "Early stopping, best iteration is:\n",
      "[57]\ttraining's binary_logloss: 0.542937\tvalid_1's binary_logloss: 0.595819\n"
     ]
    },
    {
     "name": "stderr",
     "output_type": "stream",
     "text": [
      "\n",
      "\n",
      "tune_feature_fraction, val_score: 0.589720:  33%|###3      | 2/6 [00:01<00:02,  1.60it/s]\n",
      "\n",
      "tune_feature_fraction, val_score: 0.589720:  50%|#####     | 3/6 [00:01<00:01,  1.66it/s][I 2020-03-24 14:03:06,352] Finished trial#2 resulted in value: 0.5958186156679728. Current best value is 0.5912605098272387 with parameters: {'feature_fraction': 0.42}.\n",
      "\n",
      "\n",
      "tune_feature_fraction, val_score: 0.589720:  50%|#####     | 3/6 [00:01<00:01,  1.66it/s]"
     ]
    },
    {
     "name": "stdout",
     "output_type": "stream",
     "text": [
      "Training until validation scores don't improve for 100 rounds\n",
      "[100]\ttraining's binary_logloss: 0.494531\tvalid_1's binary_logloss: 0.592779\n",
      "Early stopping, best iteration is:\n",
      "[93]\ttraining's binary_logloss: 0.501965\tvalid_1's binary_logloss: 0.58972\n"
     ]
    },
    {
     "name": "stderr",
     "output_type": "stream",
     "text": [
      "\n",
      "\n",
      "tune_feature_fraction, val_score: 0.589720:  50%|#####     | 3/6 [00:02<00:01,  1.66it/s]\n",
      "\n",
      "tune_feature_fraction, val_score: 0.589720:  67%|######6   | 4/6 [00:02<00:01,  1.63it/s][I 2020-03-24 14:03:06,988] Finished trial#3 resulted in value: 0.5897197582147241. Current best value is 0.5897197582147241 with parameters: {'feature_fraction': 0.516}.\n",
      "\n",
      "\n",
      "tune_feature_fraction, val_score: 0.589720:  67%|######6   | 4/6 [00:02<00:01,  1.63it/s]"
     ]
    },
    {
     "name": "stdout",
     "output_type": "stream",
     "text": [
      "Training until validation scores don't improve for 100 rounds\n",
      "[100]\ttraining's binary_logloss: 0.492998\tvalid_1's binary_logloss: 0.602164\n",
      "Early stopping, best iteration is:\n",
      "[43]\ttraining's binary_logloss: 0.556524\tvalid_1's binary_logloss: 0.594811\n"
     ]
    },
    {
     "name": "stderr",
     "output_type": "stream",
     "text": [
      "\n",
      "\n",
      "tune_feature_fraction, val_score: 0.589720:  67%|######6   | 4/6 [00:03<00:01,  1.63it/s]\n",
      "\n",
      "tune_feature_fraction, val_score: 0.589720:  83%|########3 | 5/6 [00:03<00:00,  1.64it/s][I 2020-03-24 14:03:07,591] Finished trial#4 resulted in value: 0.594810885004004. Current best value is 0.5897197582147241 with parameters: {'feature_fraction': 0.516}.\n",
      "\n",
      "\n",
      "tune_feature_fraction, val_score: 0.589720:  83%|########3 | 5/6 [00:03<00:00,  1.64it/s]"
     ]
    },
    {
     "name": "stdout",
     "output_type": "stream",
     "text": [
      "Training until validation scores don't improve for 100 rounds\n",
      "[100]\ttraining's binary_logloss: 0.492553\tvalid_1's binary_logloss: 0.601777\n",
      "Early stopping, best iteration is:\n",
      "[36]\ttraining's binary_logloss: 0.56661\tvalid_1's binary_logloss: 0.596909\n"
     ]
    },
    {
     "name": "stderr",
     "output_type": "stream",
     "text": [
      "\n",
      "\n",
      "tune_feature_fraction, val_score: 0.589720:  83%|########3 | 5/6 [00:03<00:00,  1.64it/s]\n",
      "\n",
      "tune_feature_fraction, val_score: 0.589720: 100%|##########| 6/6 [00:03<00:00,  1.64it/s][I 2020-03-24 14:03:08,197] Finished trial#5 resulted in value: 0.5969086159733829. Current best value is 0.5897197582147241 with parameters: {'feature_fraction': 0.516}.\n",
      "tune_feature_fraction, val_score: 0.589720: 100%|##########| 6/6 [00:03<00:00,  1.56it/s]\n",
      "\n",
      "\n",
      "  0%|          | 0/20 [00:00<?, ?it/s]\n",
      "\n",
      "tune_lambda_l1_and_lambda_l2, val_score: 0.589720:   0%|          | 0/20 [00:00<?, ?it/s]"
     ]
    },
    {
     "name": "stdout",
     "output_type": "stream",
     "text": [
      "Training until validation scores don't improve for 100 rounds\n",
      "[100]\ttraining's binary_logloss: 0.496624\tvalid_1's binary_logloss: 0.598766\n",
      "Early stopping, best iteration is:\n",
      "[65]\ttraining's binary_logloss: 0.532431\tvalid_1's binary_logloss: 0.596443\n"
     ]
    },
    {
     "name": "stderr",
     "output_type": "stream",
     "text": [
      "\n",
      "\n",
      "tune_lambda_l1_and_lambda_l2, val_score: 0.589720:   0%|          | 0/20 [00:00<?, ?it/s]\n",
      "\n",
      "tune_lambda_l1_and_lambda_l2, val_score: 0.589720:   5%|5         | 1/20 [00:00<00:10,  1.87it/s][I 2020-03-24 14:03:08,882] Finished trial#0 resulted in value: 0.5964425621031817. Current best value is 0.5964425621031817 with parameters: {'lambda_l1': 0.07179128051852578, 'lambda_l2': 2.6530763853649466e-05}.\n",
      "\n",
      "\n",
      "tune_lambda_l1_and_lambda_l2, val_score: 0.589720:   5%|5         | 1/20 [00:00<00:10,  1.87it/s]"
     ]
    },
    {
     "name": "stdout",
     "output_type": "stream",
     "text": [
      "Training until validation scores don't improve for 100 rounds\n",
      "[100]\ttraining's binary_logloss: 0.505778\tvalid_1's binary_logloss: 0.599563\n",
      "Early stopping, best iteration is:\n",
      "[93]\ttraining's binary_logloss: 0.512395\tvalid_1's binary_logloss: 0.598667\n"
     ]
    },
    {
     "name": "stderr",
     "output_type": "stream",
     "text": [
      "\n",
      "\n",
      "tune_lambda_l1_and_lambda_l2, val_score: 0.589720:   5%|5         | 1/20 [00:01<00:10,  1.87it/s]\n",
      "\n",
      "tune_lambda_l1_and_lambda_l2, val_score: 0.589720:  10%|#         | 2/20 [00:01<00:10,  1.74it/s][I 2020-03-24 14:03:09,558] Finished trial#1 resulted in value: 0.5986670506382524. Current best value is 0.5964425621031817 with parameters: {'lambda_l1': 0.07179128051852578, 'lambda_l2': 2.6530763853649466e-05}.\n",
      "\n",
      "\n",
      "tune_lambda_l1_and_lambda_l2, val_score: 0.589720:  10%|#         | 2/20 [00:01<00:10,  1.74it/s]"
     ]
    },
    {
     "name": "stdout",
     "output_type": "stream",
     "text": [
      "Training until validation scores don't improve for 100 rounds\n",
      "[100]\ttraining's binary_logloss: 0.498391\tvalid_1's binary_logloss: 0.60041\n",
      "Early stopping, best iteration is:\n",
      "[58]\ttraining's binary_logloss: 0.542593\tvalid_1's binary_logloss: 0.596887\n"
     ]
    },
    {
     "name": "stderr",
     "output_type": "stream",
     "text": [
      "\n",
      "\n",
      "tune_lambda_l1_and_lambda_l2, val_score: 0.589720:  10%|#         | 2/20 [00:01<00:10,  1.74it/s]\n",
      "\n",
      "tune_lambda_l1_and_lambda_l2, val_score: 0.589720:  15%|#5        | 3/20 [00:01<00:09,  1.72it/s][I 2020-03-24 14:03:10,155] Finished trial#2 resulted in value: 0.5968865369718227. Current best value is 0.5964425621031817 with parameters: {'lambda_l1': 0.07179128051852578, 'lambda_l2': 2.6530763853649466e-05}.\n",
      "\n",
      "\n",
      "tune_lambda_l1_and_lambda_l2, val_score: 0.589720:  15%|#5        | 3/20 [00:01<00:09,  1.72it/s]"
     ]
    },
    {
     "name": "stdout",
     "output_type": "stream",
     "text": [
      "Training until validation scores don't improve for 100 rounds\n",
      "[100]\ttraining's binary_logloss: 0.493509\tvalid_1's binary_logloss: 0.595393\n",
      "Early stopping, best iteration is:\n",
      "[92]\ttraining's binary_logloss: 0.50162\tvalid_1's binary_logloss: 0.594646\n"
     ]
    },
    {
     "name": "stderr",
     "output_type": "stream",
     "text": [
      "\n",
      "\n",
      "tune_lambda_l1_and_lambda_l2, val_score: 0.589720:  15%|#5        | 3/20 [00:02<00:09,  1.72it/s]\n",
      "\n",
      "tune_lambda_l1_and_lambda_l2, val_score: 0.589720:  20%|##        | 4/20 [00:02<00:10,  1.58it/s][I 2020-03-24 14:03:10,901] Finished trial#3 resulted in value: 0.5946455187507826. Current best value is 0.5946455187507826 with parameters: {'lambda_l1': 0.005015245858916695, 'lambda_l2': 7.940641185624197e-05}.\n",
      "\n",
      "\n",
      "tune_lambda_l1_and_lambda_l2, val_score: 0.589720:  20%|##        | 4/20 [00:02<00:10,  1.58it/s]"
     ]
    },
    {
     "name": "stdout",
     "output_type": "stream",
     "text": [
      "Training until validation scores don't improve for 100 rounds\n",
      "[100]\ttraining's binary_logloss: 0.494537\tvalid_1's binary_logloss: 0.592778\n",
      "Early stopping, best iteration is:\n",
      "[93]\ttraining's binary_logloss: 0.501971\tvalid_1's binary_logloss: 0.589719\n"
     ]
    },
    {
     "name": "stderr",
     "output_type": "stream",
     "text": [
      "\n",
      "\n",
      "tune_lambda_l1_and_lambda_l2, val_score: 0.589719:  20%|##        | 4/20 [00:03<00:10,  1.58it/s]\n",
      "\n",
      "tune_lambda_l1_and_lambda_l2, val_score: 0.589719:  25%|##5       | 5/20 [00:03<00:09,  1.58it/s][I 2020-03-24 14:03:11,530] Finished trial#4 resulted in value: 0.5897190305369214. Current best value is 0.5897190305369214 with parameters: {'lambda_l1': 0.0005402062525037112, 'lambda_l2': 1.8181896475109703e-05}.\n",
      "\n",
      "\n",
      "tune_lambda_l1_and_lambda_l2, val_score: 0.589719:  25%|##5       | 5/20 [00:03<00:09,  1.58it/s]"
     ]
    },
    {
     "name": "stdout",
     "output_type": "stream",
     "text": [
      "Training until validation scores don't improve for 100 rounds\n",
      "[100]\ttraining's binary_logloss: 0.497178\tvalid_1's binary_logloss: 0.59429\n",
      "Early stopping, best iteration is:\n",
      "[87]\ttraining's binary_logloss: 0.510334\tvalid_1's binary_logloss: 0.592565\n"
     ]
    },
    {
     "name": "stderr",
     "output_type": "stream",
     "text": [
      "\n",
      "\n",
      "tune_lambda_l1_and_lambda_l2, val_score: 0.589719:  25%|##5       | 5/20 [00:03<00:09,  1.58it/s]\n",
      "\n",
      "tune_lambda_l1_and_lambda_l2, val_score: 0.589719:  30%|###       | 6/20 [00:03<00:09,  1.51it/s][I 2020-03-24 14:03:12,278] Finished trial#5 resulted in value: 0.5925650511748478. Current best value is 0.5897190305369214 with parameters: {'lambda_l1': 0.0005402062525037112, 'lambda_l2': 1.8181896475109703e-05}.\n",
      "\n",
      "\n",
      "tune_lambda_l1_and_lambda_l2, val_score: 0.589719:  30%|###       | 6/20 [00:04<00:09,  1.51it/s]"
     ]
    },
    {
     "name": "stdout",
     "output_type": "stream",
     "text": [
      "Training until validation scores don't improve for 100 rounds\n",
      "[100]\ttraining's binary_logloss: 0.494532\tvalid_1's binary_logloss: 0.592779\n",
      "Early stopping, best iteration is:\n",
      "[93]\ttraining's binary_logloss: 0.501966\tvalid_1's binary_logloss: 0.58972\n"
     ]
    },
    {
     "name": "stderr",
     "output_type": "stream",
     "text": [
      "\n",
      "\n",
      "tune_lambda_l1_and_lambda_l2, val_score: 0.589719:  30%|###       | 6/20 [00:04<00:09,  1.51it/s]\n",
      "\n",
      "tune_lambda_l1_and_lambda_l2, val_score: 0.589719:  35%|###5      | 7/20 [00:04<00:08,  1.51it/s][I 2020-03-24 14:03:12,923] Finished trial#6 resulted in value: 0.5897196971554196. Current best value is 0.5897190305369214 with parameters: {'lambda_l1': 0.0005402062525037112, 'lambda_l2': 1.8181896475109703e-05}.\n",
      "\n",
      "\n",
      "tune_lambda_l1_and_lambda_l2, val_score: 0.589719:  35%|###5      | 7/20 [00:04<00:08,  1.51it/s]"
     ]
    },
    {
     "name": "stdout",
     "output_type": "stream",
     "text": [
      "Training until validation scores don't improve for 100 rounds\n",
      "[100]\ttraining's binary_logloss: 0.494531\tvalid_1's binary_logloss: 0.592779\n",
      "Early stopping, best iteration is:\n",
      "[93]\ttraining's binary_logloss: 0.501965\tvalid_1's binary_logloss: 0.58972\n"
     ]
    },
    {
     "name": "stderr",
     "output_type": "stream",
     "text": [
      "\n",
      "\n",
      "tune_lambda_l1_and_lambda_l2, val_score: 0.589719:  35%|###5      | 7/20 [00:05<00:08,  1.51it/s]\n",
      "\n",
      "tune_lambda_l1_and_lambda_l2, val_score: 0.589719:  40%|####      | 8/20 [00:05<00:07,  1.52it/s][I 2020-03-24 14:03:13,582] Finished trial#7 resulted in value: 0.5897197515629603. Current best value is 0.5897190305369214 with parameters: {'lambda_l1': 0.0005402062525037112, 'lambda_l2': 1.8181896475109703e-05}.\n",
      "\n",
      "\n",
      "tune_lambda_l1_and_lambda_l2, val_score: 0.589719:  40%|####      | 8/20 [00:05<00:07,  1.52it/s]"
     ]
    },
    {
     "name": "stdout",
     "output_type": "stream",
     "text": [
      "Training until validation scores don't improve for 100 rounds\n",
      "[100]\ttraining's binary_logloss: 0.501292\tvalid_1's binary_logloss: 0.597575\n",
      "Early stopping, best iteration is:\n",
      "[57]\ttraining's binary_logloss: 0.545452\tvalid_1's binary_logloss: 0.594599\n"
     ]
    },
    {
     "name": "stderr",
     "output_type": "stream",
     "text": [
      "\n",
      "\n",
      "tune_lambda_l1_and_lambda_l2, val_score: 0.589719:  40%|####      | 8/20 [00:05<00:07,  1.52it/s]\n",
      "\n",
      "tune_lambda_l1_and_lambda_l2, val_score: 0.589719:  45%|####5     | 9/20 [00:05<00:06,  1.58it/s][I 2020-03-24 14:03:14,151] Finished trial#8 resulted in value: 0.5945987787344892. Current best value is 0.5897190305369214 with parameters: {'lambda_l1': 0.0005402062525037112, 'lambda_l2': 1.8181896475109703e-05}.\n",
      "\n",
      "\n",
      "tune_lambda_l1_and_lambda_l2, val_score: 0.589719:  45%|####5     | 9/20 [00:05<00:06,  1.58it/s]"
     ]
    },
    {
     "name": "stdout",
     "output_type": "stream",
     "text": [
      "Training until validation scores don't improve for 100 rounds\n",
      "[100]\ttraining's binary_logloss: 0.494536\tvalid_1's binary_logloss: 0.592778\n",
      "Early stopping, best iteration is:\n",
      "[93]\ttraining's binary_logloss: 0.50197\tvalid_1's binary_logloss: 0.589719\n"
     ]
    },
    {
     "name": "stderr",
     "output_type": "stream",
     "text": [
      "\n",
      "\n",
      "tune_lambda_l1_and_lambda_l2, val_score: 0.589719:  45%|####5     | 9/20 [00:06<00:06,  1.58it/s]\n",
      "\n",
      "tune_lambda_l1_and_lambda_l2, val_score: 0.589719:  50%|#####     | 10/20 [00:06<00:06,  1.55it/s][I 2020-03-24 14:03:14,876] Finished trial#9 resulted in value: 0.5897194454554251. Current best value is 0.5897190305369214 with parameters: {'lambda_l1': 0.0005402062525037112, 'lambda_l2': 1.8181896475109703e-05}.\n",
      "\n",
      "\n",
      "tune_lambda_l1_and_lambda_l2, val_score: 0.589719:  50%|#####     | 10/20 [00:06<00:06,  1.55it/s]"
     ]
    },
    {
     "name": "stdout",
     "output_type": "stream",
     "text": [
      "Training until validation scores don't improve for 100 rounds\n",
      "[100]\ttraining's binary_logloss: 0.494538\tvalid_1's binary_logloss: 0.592778\n",
      "Early stopping, best iteration is:\n",
      "[93]\ttraining's binary_logloss: 0.501972\tvalid_1's binary_logloss: 0.589719\n"
     ]
    },
    {
     "name": "stderr",
     "output_type": "stream",
     "text": [
      "\n",
      "\n",
      "tune_lambda_l1_and_lambda_l2, val_score: 0.589719:  50%|#####     | 10/20 [00:07<00:06,  1.55it/s]\n",
      "\n",
      "tune_lambda_l1_and_lambda_l2, val_score: 0.589719:  55%|#####5    | 11/20 [00:07<00:06,  1.30it/s][I 2020-03-24 14:03:15,888] Finished trial#10 resulted in value: 0.5897188954129395. Current best value is 0.5897188954129395 with parameters: {'lambda_l1': 0.0006512412633344794, 'lambda_l2': 1.9246255308157387e-08}.\n",
      "\n",
      "\n",
      "tune_lambda_l1_and_lambda_l2, val_score: 0.589719:  55%|#####5    | 11/20 [00:07<00:06,  1.30it/s]"
     ]
    },
    {
     "name": "stdout",
     "output_type": "stream",
     "text": [
      "Training until validation scores don't improve for 100 rounds\n",
      "[100]\ttraining's binary_logloss: 0.492775\tvalid_1's binary_logloss: 0.595873\n",
      "Early stopping, best iteration is:\n",
      "[89]\ttraining's binary_logloss: 0.503228\tvalid_1's binary_logloss: 0.59239\n"
     ]
    },
    {
     "name": "stderr",
     "output_type": "stream",
     "text": [
      "\n",
      "\n",
      "tune_lambda_l1_and_lambda_l2, val_score: 0.589719:  55%|#####5    | 11/20 [00:08<00:06,  1.30it/s]\n",
      "\n",
      "tune_lambda_l1_and_lambda_l2, val_score: 0.589719:  60%|######    | 12/20 [00:08<00:05,  1.37it/s][I 2020-03-24 14:03:16,524] Finished trial#11 resulted in value: 0.5923898966551703. Current best value is 0.5897188954129395 with parameters: {'lambda_l1': 0.0006512412633344794, 'lambda_l2': 1.9246255308157387e-08}.\n",
      "\n",
      "\n",
      "tune_lambda_l1_and_lambda_l2, val_score: 0.589719:  60%|######    | 12/20 [00:08<00:05,  1.37it/s]"
     ]
    },
    {
     "name": "stdout",
     "output_type": "stream",
     "text": [
      "Training until validation scores don't improve for 100 rounds\n",
      "[100]\ttraining's binary_logloss: 0.494532\tvalid_1's binary_logloss: 0.592779\n",
      "Early stopping, best iteration is:\n",
      "[93]\ttraining's binary_logloss: 0.501967\tvalid_1's binary_logloss: 0.58972\n"
     ]
    },
    {
     "name": "stderr",
     "output_type": "stream",
     "text": [
      "\n",
      "\n",
      "tune_lambda_l1_and_lambda_l2, val_score: 0.589719:  60%|######    | 12/20 [00:08<00:05,  1.37it/s]\n",
      "\n",
      "tune_lambda_l1_and_lambda_l2, val_score: 0.589719:  65%|######5   | 13/20 [00:08<00:05,  1.36it/s][I 2020-03-24 14:03:17,269] Finished trial#12 resulted in value: 0.5897196033465899. Current best value is 0.5897188954129395 with parameters: {'lambda_l1': 0.0006512412633344794, 'lambda_l2': 1.9246255308157387e-08}.\n",
      "\n",
      "\n",
      "tune_lambda_l1_and_lambda_l2, val_score: 0.589719:  65%|######5   | 13/20 [00:09<00:05,  1.36it/s]"
     ]
    },
    {
     "name": "stdout",
     "output_type": "stream",
     "text": [
      "Training until validation scores don't improve for 100 rounds\n",
      "[100]\ttraining's binary_logloss: 0.492449\tvalid_1's binary_logloss: 0.597003\n",
      "Early stopping, best iteration is:\n",
      "[57]\ttraining's binary_logloss: 0.539935\tvalid_1's binary_logloss: 0.594642\n"
     ]
    },
    {
     "name": "stderr",
     "output_type": "stream",
     "text": [
      "\n",
      "\n",
      "tune_lambda_l1_and_lambda_l2, val_score: 0.589719:  65%|######5   | 13/20 [00:09<00:05,  1.36it/s]\n",
      "\n",
      "tune_lambda_l1_and_lambda_l2, val_score: 0.589719:  70%|#######   | 14/20 [00:09<00:04,  1.45it/s][I 2020-03-24 14:03:17,854] Finished trial#13 resulted in value: 0.5946424874032841. Current best value is 0.5897188954129395 with parameters: {'lambda_l1': 0.0006512412633344794, 'lambda_l2': 1.9246255308157387e-08}.\n",
      "\n",
      "\n",
      "tune_lambda_l1_and_lambda_l2, val_score: 0.589719:  70%|#######   | 14/20 [00:09<00:04,  1.45it/s]"
     ]
    },
    {
     "name": "stdout",
     "output_type": "stream",
     "text": [
      "Training until validation scores don't improve for 100 rounds\n",
      "[100]\ttraining's binary_logloss: 0.494532\tvalid_1's binary_logloss: 0.592779\n",
      "Early stopping, best iteration is:\n",
      "[93]\ttraining's binary_logloss: 0.501966\tvalid_1's binary_logloss: 0.58972\n"
     ]
    },
    {
     "name": "stderr",
     "output_type": "stream",
     "text": [
      "\n",
      "\n",
      "tune_lambda_l1_and_lambda_l2, val_score: 0.589719:  70%|#######   | 14/20 [00:10<00:04,  1.45it/s]\n",
      "\n",
      "tune_lambda_l1_and_lambda_l2, val_score: 0.589719:  75%|#######5  | 15/20 [00:10<00:03,  1.45it/s][I 2020-03-24 14:03:18,548] Finished trial#14 resulted in value: 0.5897196133655198. Current best value is 0.5897188954129395 with parameters: {'lambda_l1': 0.0006512412633344794, 'lambda_l2': 1.9246255308157387e-08}.\n",
      "\n",
      "\n",
      "tune_lambda_l1_and_lambda_l2, val_score: 0.589719:  75%|#######5  | 15/20 [00:10<00:03,  1.45it/s]"
     ]
    },
    {
     "name": "stdout",
     "output_type": "stream",
     "text": [
      "Training until validation scores don't improve for 100 rounds\n",
      "[100]\ttraining's binary_logloss: 0.495669\tvalid_1's binary_logloss: 0.603327\n",
      "Early stopping, best iteration is:\n",
      "[41]\ttraining's binary_logloss: 0.561426\tvalid_1's binary_logloss: 0.598701\n"
     ]
    },
    {
     "name": "stderr",
     "output_type": "stream",
     "text": [
      "\n",
      "\n",
      "tune_lambda_l1_and_lambda_l2, val_score: 0.589719:  75%|#######5  | 15/20 [00:10<00:03,  1.45it/s]\n",
      "\n",
      "tune_lambda_l1_and_lambda_l2, val_score: 0.589719:  80%|########  | 16/20 [00:10<00:02,  1.57it/s][I 2020-03-24 14:03:19,112] Finished trial#15 resulted in value: 0.5987010459566289. Current best value is 0.5897188954129395 with parameters: {'lambda_l1': 0.0006512412633344794, 'lambda_l2': 1.9246255308157387e-08}.\n",
      "\n",
      "\n",
      "tune_lambda_l1_and_lambda_l2, val_score: 0.589719:  80%|########  | 16/20 [00:10<00:02,  1.57it/s]"
     ]
    },
    {
     "name": "stdout",
     "output_type": "stream",
     "text": [
      "Training until validation scores don't improve for 100 rounds\n",
      "[100]\ttraining's binary_logloss: 0.563513\tvalid_1's binary_logloss: 0.600641\n",
      "[200]\ttraining's binary_logloss: 0.521952\tvalid_1's binary_logloss: 0.603895\n",
      "Early stopping, best iteration is:\n",
      "[130]\ttraining's binary_logloss: 0.548801\tvalid_1's binary_logloss: 0.599615\n"
     ]
    },
    {
     "name": "stderr",
     "output_type": "stream",
     "text": [
      "\n",
      "\n",
      "tune_lambda_l1_and_lambda_l2, val_score: 0.589719:  80%|########  | 16/20 [00:11<00:02,  1.57it/s]\n",
      "\n",
      "tune_lambda_l1_and_lambda_l2, val_score: 0.589719:  85%|########5 | 17/20 [00:11<00:02,  1.32it/s][I 2020-03-24 14:03:20,101] Finished trial#16 resulted in value: 0.5996152457566772. Current best value is 0.5897188954129395 with parameters: {'lambda_l1': 0.0006512412633344794, 'lambda_l2': 1.9246255308157387e-08}.\n",
      "\n",
      "\n",
      "tune_lambda_l1_and_lambda_l2, val_score: 0.589719:  85%|########5 | 17/20 [00:11<00:02,  1.32it/s]"
     ]
    },
    {
     "name": "stdout",
     "output_type": "stream",
     "text": [
      "Training until validation scores don't improve for 100 rounds\n",
      "[100]\ttraining's binary_logloss: 0.494531\tvalid_1's binary_logloss: 0.592779\n",
      "Early stopping, best iteration is:\n",
      "[93]\ttraining's binary_logloss: 0.501965\tvalid_1's binary_logloss: 0.58972\n"
     ]
    },
    {
     "name": "stderr",
     "output_type": "stream",
     "text": [
      "\n",
      "\n",
      "tune_lambda_l1_and_lambda_l2, val_score: 0.589719:  85%|########5 | 17/20 [00:12<00:02,  1.32it/s]\n",
      "\n",
      "tune_lambda_l1_and_lambda_l2, val_score: 0.589719:  90%|######### | 18/20 [00:12<00:01,  1.38it/s][I 2020-03-24 14:03:20,752] Finished trial#17 resulted in value: 0.5897197556696868. Current best value is 0.5897188954129395 with parameters: {'lambda_l1': 0.0006512412633344794, 'lambda_l2': 1.9246255308157387e-08}.\n",
      "\n",
      "\n",
      "tune_lambda_l1_and_lambda_l2, val_score: 0.589719:  90%|######### | 18/20 [00:12<00:01,  1.38it/s]"
     ]
    },
    {
     "name": "stdout",
     "output_type": "stream",
     "text": [
      "Training until validation scores don't improve for 100 rounds\n",
      "[100]\ttraining's binary_logloss: 0.494547\tvalid_1's binary_logloss: 0.598374\n",
      "Early stopping, best iteration is:\n",
      "[65]\ttraining's binary_logloss: 0.53123\tvalid_1's binary_logloss: 0.59242\n"
     ]
    },
    {
     "name": "stderr",
     "output_type": "stream",
     "text": [
      "\n",
      "\n",
      "tune_lambda_l1_and_lambda_l2, val_score: 0.589719:  90%|######### | 18/20 [00:13<00:01,  1.38it/s]\n",
      "\n",
      "tune_lambda_l1_and_lambda_l2, val_score: 0.589719:  95%|#########5| 19/20 [00:13<00:00,  1.43it/s][I 2020-03-24 14:03:21,386] Finished trial#18 resulted in value: 0.5924200041272695. Current best value is 0.5897188954129395 with parameters: {'lambda_l1': 0.0006512412633344794, 'lambda_l2': 1.9246255308157387e-08}.\n",
      "\n",
      "\n",
      "tune_lambda_l1_and_lambda_l2, val_score: 0.589719:  95%|#########5| 19/20 [00:13<00:00,  1.43it/s]"
     ]
    },
    {
     "name": "stdout",
     "output_type": "stream",
     "text": [
      "Training until validation scores don't improve for 100 rounds\n",
      "[100]\ttraining's binary_logloss: 0.525233\tvalid_1's binary_logloss: 0.595214\n",
      "Early stopping, best iteration is:\n",
      "[93]\ttraining's binary_logloss: 0.530779\tvalid_1's binary_logloss: 0.594717\n"
     ]
    },
    {
     "name": "stderr",
     "output_type": "stream",
     "text": [
      "\n",
      "\n",
      "tune_lambda_l1_and_lambda_l2, val_score: 0.589719:  95%|#########5| 19/20 [00:13<00:00,  1.43it/s]\n",
      "\n",
      "tune_lambda_l1_and_lambda_l2, val_score: 0.589719: 100%|##########| 20/20 [00:13<00:00,  1.38it/s][I 2020-03-24 14:03:22,178] Finished trial#19 resulted in value: 0.5947173413803618. Current best value is 0.5897188954129395 with parameters: {'lambda_l1': 0.0006512412633344794, 'lambda_l2': 1.9246255308157387e-08}.\n",
      "tune_lambda_l1_and_lambda_l2, val_score: 0.589719: 100%|##########| 20/20 [00:13<00:00,  1.43it/s]\n",
      "\n",
      "\n",
      "  0%|          | 0/5 [00:00<?, ?it/s]\n",
      "\n",
      "tune_min_child_samples, val_score: 0.589719:   0%|          | 0/5 [00:00<?, ?it/s]"
     ]
    },
    {
     "name": "stdout",
     "output_type": "stream",
     "text": [
      "Training until validation scores don't improve for 100 rounds\n",
      "[100]\ttraining's binary_logloss: 0.487179\tvalid_1's binary_logloss: 0.595491\n",
      "Early stopping, best iteration is:\n",
      "[91]\ttraining's binary_logloss: 0.497421\tvalid_1's binary_logloss: 0.594001\n"
     ]
    },
    {
     "name": "stderr",
     "output_type": "stream",
     "text": [
      "\n",
      "\n",
      "tune_min_child_samples, val_score: 0.589719:   0%|          | 0/5 [00:00<?, ?it/s]\n",
      "\n",
      "tune_min_child_samples, val_score: 0.589719:  20%|##        | 1/5 [00:00<00:02,  1.76it/s][I 2020-03-24 14:03:22,892] Finished trial#0 resulted in value: 0.5940007973628924. Current best value is 0.5940007973628924 with parameters: {'min_child_samples': 5}.\n",
      "\n",
      "\n",
      "tune_min_child_samples, val_score: 0.589719:  20%|##        | 1/5 [00:00<00:02,  1.76it/s]"
     ]
    },
    {
     "name": "stdout",
     "output_type": "stream",
     "text": [
      "Training until validation scores don't improve for 100 rounds\n",
      "[100]\ttraining's binary_logloss: 0.489256\tvalid_1's binary_logloss: 0.598279\n",
      "Early stopping, best iteration is:\n",
      "[92]\ttraining's binary_logloss: 0.497422\tvalid_1's binary_logloss: 0.59593\n"
     ]
    },
    {
     "name": "stderr",
     "output_type": "stream",
     "text": [
      "\n",
      "\n",
      "tune_min_child_samples, val_score: 0.589719:  20%|##        | 1/5 [00:01<00:02,  1.76it/s]\n",
      "\n",
      "tune_min_child_samples, val_score: 0.589719:  40%|####      | 2/5 [00:01<00:01,  1.63it/s][I 2020-03-24 14:03:23,609] Finished trial#1 resulted in value: 0.5959301429358043. Current best value is 0.5940007973628924 with parameters: {'min_child_samples': 5}.\n",
      "\n",
      "\n",
      "tune_min_child_samples, val_score: 0.589719:  40%|####      | 2/5 [00:01<00:01,  1.63it/s]"
     ]
    },
    {
     "name": "stdout",
     "output_type": "stream",
     "text": [
      "Training until validation scores don't improve for 100 rounds\n",
      "[100]\ttraining's binary_logloss: 0.49783\tvalid_1's binary_logloss: 0.596766\n",
      "Early stopping, best iteration is:\n",
      "[87]\ttraining's binary_logloss: 0.511816\tvalid_1's binary_logloss: 0.594301\n"
     ]
    },
    {
     "name": "stderr",
     "output_type": "stream",
     "text": [
      "\n",
      "\n",
      "tune_min_child_samples, val_score: 0.589719:  40%|####      | 2/5 [00:01<00:01,  1.63it/s]\n",
      "\n",
      "tune_min_child_samples, val_score: 0.589719:  60%|######    | 3/5 [00:01<00:01,  1.63it/s][I 2020-03-24 14:03:24,231] Finished trial#2 resulted in value: 0.5943014283956776. Current best value is 0.5940007973628924 with parameters: {'min_child_samples': 5}.\n",
      "\n",
      "\n",
      "tune_min_child_samples, val_score: 0.589719:  60%|######    | 3/5 [00:02<00:01,  1.63it/s]"
     ]
    },
    {
     "name": "stdout",
     "output_type": "stream",
     "text": [
      "Training until validation scores don't improve for 100 rounds\n",
      "[100]\ttraining's binary_logloss: 0.507275\tvalid_1's binary_logloss: 0.595712\n",
      "Early stopping, best iteration is:\n",
      "[93]\ttraining's binary_logloss: 0.513802\tvalid_1's binary_logloss: 0.593494\n"
     ]
    },
    {
     "name": "stderr",
     "output_type": "stream",
     "text": [
      "\n",
      "\n",
      "tune_min_child_samples, val_score: 0.589719:  60%|######    | 3/5 [00:02<00:01,  1.63it/s]\n",
      "\n",
      "tune_min_child_samples, val_score: 0.589719:  80%|########  | 4/5 [00:02<00:00,  1.61it/s][I 2020-03-24 14:03:24,872] Finished trial#3 resulted in value: 0.5934937659654809. Current best value is 0.5934937659654809 with parameters: {'min_child_samples': 50}.\n",
      "\n",
      "\n",
      "tune_min_child_samples, val_score: 0.589719:  80%|########  | 4/5 [00:02<00:00,  1.61it/s]"
     ]
    },
    {
     "name": "stdout",
     "output_type": "stream",
     "text": [
      "Training until validation scores don't improve for 100 rounds\n",
      "[100]\ttraining's binary_logloss: 0.524366\tvalid_1's binary_logloss: 0.607758\n",
      "Early stopping, best iteration is:\n",
      "[47]\ttraining's binary_logloss: 0.571016\tvalid_1's binary_logloss: 0.601619\n"
     ]
    },
    {
     "name": "stderr",
     "output_type": "stream",
     "text": [
      "\n",
      "\n",
      "tune_min_child_samples, val_score: 0.589719:  80%|########  | 4/5 [00:03<00:00,  1.61it/s]\n",
      "\n",
      "tune_min_child_samples, val_score: 0.589719: 100%|##########| 5/5 [00:03<00:00,  1.69it/s][I 2020-03-24 14:03:25,383] Finished trial#4 resulted in value: 0.6016186411653852. Current best value is 0.5934937659654809 with parameters: {'min_child_samples': 50}.\n",
      "tune_min_child_samples, val_score: 0.589719: 100%|##########| 5/5 [00:03<00:00,  1.56it/s]\n"
     ]
    },
    {
     "name": "stdout",
     "output_type": "stream",
     "text": [
      "2020-03-24 14:03:25 RTwCmnt ********************************************************************************\n",
      "RTwCmnt\n",
      "n_pos_wanted 1000\n",
      "2020-03-24 14:03:25 chunk 1\n",
      "2020-03-24 14:03:26 chunk 2\n",
      "2020-03-24 14:03:26 chunk 3\n",
      "2020-03-24 14:03:26 chunk 4\n",
      "2020-03-24 14:03:26 chunk 5\n",
      "2020-03-24 14:03:27 chunk 6\n",
      "2020-03-24 14:03:27 chunk 7\n",
      "2020-03-24 14:03:27 chunk 8\n",
      "2020-03-24 14:03:27 chunk 9\n",
      "2020-03-24 14:03:27 chunk 10\n",
      "2020-03-24 14:03:28 chunk 11\n",
      "2020-03-24 14:03:28 chunk 12\n",
      "2020-03-24 14:03:28 chunk 13\n",
      "dftrvl.shape: (10000, 95) dftrvl[tgtcol].mean(): 0.1025\n",
      "{'train_pop': 130000, 'target_pop': 1025, 'sampled_train_pop': 10000, 'sampled_target_pop': 1025}\n",
      "{'objective': 'binary', 'metric': 'binary_logloss', 'verbosity': 1, 'boosting_type': 'gbdt'}\n"
     ]
    },
    {
     "name": "stderr",
     "output_type": "stream",
     "text": [
      "\n",
      "\n",
      "  0%|          | 0/7 [00:00<?, ?it/s]\n",
      "\n",
      "tune_feature_fraction, val_score: inf:   0%|          | 0/7 [00:00<?, ?it/s]"
     ]
    },
    {
     "name": "stdout",
     "output_type": "stream",
     "text": [
      "Training until validation scores don't improve for 100 rounds\n",
      "[100]\ttraining's binary_logloss: 0.174232\tvalid_1's binary_logloss: 0.316632\n",
      "Early stopping, best iteration is:\n",
      "[31]\ttraining's binary_logloss: 0.246978\tvalid_1's binary_logloss: 0.312412\n"
     ]
    },
    {
     "name": "stderr",
     "output_type": "stream",
     "text": [
      "\n",
      "\n",
      "tune_feature_fraction, val_score: 0.312412:   0%|          | 0/7 [00:00<?, ?it/s]\n",
      "\n",
      "tune_feature_fraction, val_score: 0.312412:  14%|#4        | 1/7 [00:00<00:05,  1.08it/s][I 2020-03-24 14:03:30,015] Finished trial#0 resulted in value: 0.31241179139310826. Current best value is 0.31241179139310826 with parameters: {'feature_fraction': 0.4}.\n",
      "\n",
      "\n",
      "tune_feature_fraction, val_score: 0.312412:  14%|#4        | 1/7 [00:01<00:05,  1.08it/s]"
     ]
    },
    {
     "name": "stdout",
     "output_type": "stream",
     "text": [
      "Training until validation scores don't improve for 100 rounds\n",
      "[100]\ttraining's binary_logloss: 0.169637\tvalid_1's binary_logloss: 0.319784\n",
      "Early stopping, best iteration is:\n",
      "[25]\ttraining's binary_logloss: 0.254304\tvalid_1's binary_logloss: 0.314399\n"
     ]
    },
    {
     "name": "stderr",
     "output_type": "stream",
     "text": [
      "\n",
      "\n",
      "tune_feature_fraction, val_score: 0.312412:  14%|#4        | 1/7 [00:01<00:05,  1.08it/s]\n",
      "\n",
      "tune_feature_fraction, val_score: 0.312412:  29%|##8       | 2/7 [00:01<00:04,  1.22it/s][I 2020-03-24 14:03:30,576] Finished trial#1 resulted in value: 0.31439879881129207. Current best value is 0.31241179139310826 with parameters: {'feature_fraction': 0.4}.\n",
      "\n",
      "\n",
      "tune_feature_fraction, val_score: 0.312412:  29%|##8       | 2/7 [00:01<00:04,  1.22it/s]"
     ]
    },
    {
     "name": "stdout",
     "output_type": "stream",
     "text": [
      "Training until validation scores don't improve for 100 rounds\n",
      "[100]\ttraining's binary_logloss: 0.165506\tvalid_1's binary_logloss: 0.31905\n",
      "Early stopping, best iteration is:\n",
      "[41]\ttraining's binary_logloss: 0.227177\tvalid_1's binary_logloss: 0.311383\n"
     ]
    },
    {
     "name": "stderr",
     "output_type": "stream",
     "text": [
      "\n",
      "\n",
      "tune_feature_fraction, val_score: 0.311383:  29%|##8       | 2/7 [00:02<00:04,  1.22it/s]\n",
      "\n",
      "tune_feature_fraction, val_score: 0.311383:  43%|####2     | 3/7 [00:02<00:02,  1.34it/s][I 2020-03-24 14:03:31,151] Finished trial#2 resulted in value: 0.31138255120779057. Current best value is 0.31138255120779057 with parameters: {'feature_fraction': 0.6}.\n",
      "\n",
      "\n",
      "tune_feature_fraction, val_score: 0.311383:  43%|####2     | 3/7 [00:02<00:02,  1.34it/s]"
     ]
    },
    {
     "name": "stdout",
     "output_type": "stream",
     "text": [
      "Training until validation scores don't improve for 100 rounds\n",
      "[100]\ttraining's binary_logloss: 0.165867\tvalid_1's binary_logloss: 0.322592\n",
      "Early stopping, best iteration is:\n",
      "[25]\ttraining's binary_logloss: 0.252765\tvalid_1's binary_logloss: 0.311853\n"
     ]
    },
    {
     "name": "stderr",
     "output_type": "stream",
     "text": [
      "\n",
      "\n",
      "tune_feature_fraction, val_score: 0.311383:  43%|####2     | 3/7 [00:02<00:02,  1.34it/s]\n",
      "\n",
      "tune_feature_fraction, val_score: 0.311383:  57%|#####7    | 4/7 [00:02<00:02,  1.42it/s][I 2020-03-24 14:03:31,756] Finished trial#3 resulted in value: 0.31185341457012666. Current best value is 0.31138255120779057 with parameters: {'feature_fraction': 0.6}.\n",
      "\n",
      "\n",
      "tune_feature_fraction, val_score: 0.311383:  57%|#####7    | 4/7 [00:02<00:02,  1.42it/s]"
     ]
    },
    {
     "name": "stdout",
     "output_type": "stream",
     "text": [
      "Training until validation scores don't improve for 100 rounds\n",
      "[100]\ttraining's binary_logloss: 0.16211\tvalid_1's binary_logloss: 0.320157\n",
      "Early stopping, best iteration is:\n",
      "[40]\ttraining's binary_logloss: 0.22653\tvalid_1's binary_logloss: 0.312849\n"
     ]
    },
    {
     "name": "stderr",
     "output_type": "stream",
     "text": [
      "\n",
      "\n",
      "tune_feature_fraction, val_score: 0.311383:  57%|#####7    | 4/7 [00:03<00:02,  1.42it/s]\n",
      "\n",
      "tune_feature_fraction, val_score: 0.311383:  71%|#######1  | 5/7 [00:03<00:01,  1.50it/s][I 2020-03-24 14:03:32,347] Finished trial#4 resulted in value: 0.3128488373201531. Current best value is 0.31138255120779057 with parameters: {'feature_fraction': 0.6}.\n",
      "\n",
      "\n",
      "tune_feature_fraction, val_score: 0.311383:  71%|#######1  | 5/7 [00:03<00:01,  1.50it/s]"
     ]
    },
    {
     "name": "stdout",
     "output_type": "stream",
     "text": [
      "Training until validation scores don't improve for 100 rounds\n",
      "[100]\ttraining's binary_logloss: 0.159972\tvalid_1's binary_logloss: 0.318312\n",
      "Early stopping, best iteration is:\n",
      "[41]\ttraining's binary_logloss: 0.224607\tvalid_1's binary_logloss: 0.312973\n"
     ]
    },
    {
     "name": "stderr",
     "output_type": "stream",
     "text": [
      "\n",
      "\n",
      "tune_feature_fraction, val_score: 0.311383:  71%|#######1  | 5/7 [00:03<00:01,  1.50it/s]\n",
      "\n",
      "tune_feature_fraction, val_score: 0.311383:  86%|########5 | 6/7 [00:03<00:00,  1.50it/s][I 2020-03-24 14:03:33,000] Finished trial#5 resulted in value: 0.3129727304062109. Current best value is 0.31138255120779057 with parameters: {'feature_fraction': 0.6}.\n",
      "\n",
      "\n",
      "tune_feature_fraction, val_score: 0.311383:  86%|########5 | 6/7 [00:04<00:00,  1.50it/s]"
     ]
    },
    {
     "name": "stdout",
     "output_type": "stream",
     "text": [
      "Training until validation scores don't improve for 100 rounds\n",
      "[100]\ttraining's binary_logloss: 0.160797\tvalid_1's binary_logloss: 0.319918\n",
      "Early stopping, best iteration is:\n",
      "[25]\ttraining's binary_logloss: 0.248173\tvalid_1's binary_logloss: 0.311433\n"
     ]
    },
    {
     "name": "stderr",
     "output_type": "stream",
     "text": [
      "\n",
      "\n",
      "tune_feature_fraction, val_score: 0.311383:  86%|########5 | 6/7 [00:04<00:00,  1.50it/s]\n",
      "\n",
      "tune_feature_fraction, val_score: 0.311383: 100%|##########| 7/7 [00:04<00:00,  1.57it/s][I 2020-03-24 14:03:33,600] Finished trial#6 resulted in value: 0.3114333543477339. Current best value is 0.31138255120779057 with parameters: {'feature_fraction': 0.6}.\n",
      "tune_feature_fraction, val_score: 0.311383: 100%|##########| 7/7 [00:04<00:00,  1.52it/s]\n",
      "\n",
      "\n",
      "  0%|          | 0/20 [00:00<?, ?it/s]\n",
      "\n",
      "tune_num_leaves, val_score: 0.311383:   0%|          | 0/20 [00:00<?, ?it/s]"
     ]
    },
    {
     "name": "stdout",
     "output_type": "stream",
     "text": [
      "Training until validation scores don't improve for 100 rounds\n",
      "[100]\ttraining's binary_logloss: 0.0174269\tvalid_1's binary_logloss: 0.403451\n",
      "Early stopping, best iteration is:\n",
      "[9]\ttraining's binary_logloss: 0.227539\tvalid_1's binary_logloss: 0.321949\n"
     ]
    },
    {
     "name": "stderr",
     "output_type": "stream",
     "text": [
      "\n",
      "\n",
      "tune_num_leaves, val_score: 0.311383:   0%|          | 0/20 [00:01<?, ?it/s]\n",
      "\n",
      "tune_num_leaves, val_score: 0.311383:   5%|5         | 1/20 [00:01<00:28,  1.52s/it][I 2020-03-24 14:03:35,227] Finished trial#0 resulted in value: 0.32194853930017225. Current best value is 0.32194853930017225 with parameters: {'num_leaves': 164}.\n",
      "\n",
      "\n",
      "tune_num_leaves, val_score: 0.311383:   5%|5         | 1/20 [00:01<00:28,  1.52s/it]"
     ]
    },
    {
     "name": "stdout",
     "output_type": "stream",
     "text": [
      "Training until validation scores don't improve for 100 rounds\n",
      "[100]\ttraining's binary_logloss: 0.11009\tvalid_1's binary_logloss: 0.328781\n",
      "Early stopping, best iteration is:\n",
      "[22]\ttraining's binary_logloss: 0.22876\tvalid_1's binary_logloss: 0.316391\n"
     ]
    },
    {
     "name": "stderr",
     "output_type": "stream",
     "text": [
      "\n",
      "\n",
      "tune_num_leaves, val_score: 0.311383:   5%|5         | 1/20 [00:02<00:28,  1.52s/it]\n",
      "\n",
      "tune_num_leaves, val_score: 0.311383:  10%|#         | 2/20 [00:02<00:23,  1.29s/it][I 2020-03-24 14:03:35,973] Finished trial#1 resulted in value: 0.31639066766316454. Current best value is 0.31639066766316454 with parameters: {'num_leaves': 54}.\n",
      "\n",
      "\n",
      "tune_num_leaves, val_score: 0.311383:  10%|#         | 2/20 [00:02<00:23,  1.29s/it]"
     ]
    },
    {
     "name": "stdout",
     "output_type": "stream",
     "text": [
      "Training until validation scores don't improve for 100 rounds\n",
      "[100]\ttraining's binary_logloss: 0.0074606\tvalid_1's binary_logloss: 0.447387\n",
      "Early stopping, best iteration is:\n",
      "[15]\ttraining's binary_logloss: 0.168916\tvalid_1's binary_logloss: 0.320837\n"
     ]
    },
    {
     "name": "stderr",
     "output_type": "stream",
     "text": [
      "\n",
      "\n",
      "tune_num_leaves, val_score: 0.311383:  10%|#         | 2/20 [00:04<00:23,  1.29s/it]\n",
      "\n",
      "tune_num_leaves, val_score: 0.311383:  15%|#5        | 3/20 [00:04<00:26,  1.57s/it][I 2020-03-24 14:03:38,179] Finished trial#2 resulted in value: 0.3208374712525891. Current best value is 0.31639066766316454 with parameters: {'num_leaves': 54}.\n",
      "\n",
      "\n",
      "tune_num_leaves, val_score: 0.311383:  15%|#5        | 3/20 [00:04<00:26,  1.57s/it]"
     ]
    },
    {
     "name": "stdout",
     "output_type": "stream",
     "text": [
      "Training until validation scores don't improve for 100 rounds\n",
      "[100]\ttraining's binary_logloss: 0.0113685\tvalid_1's binary_logloss: 0.426313\n",
      "Early stopping, best iteration is:\n",
      "[12]\ttraining's binary_logloss: 0.196513\tvalid_1's binary_logloss: 0.317802\n"
     ]
    },
    {
     "name": "stderr",
     "output_type": "stream",
     "text": [
      "\n",
      "\n",
      "tune_num_leaves, val_score: 0.311383:  15%|#5        | 3/20 [00:06<00:26,  1.57s/it]\n",
      "\n",
      "tune_num_leaves, val_score: 0.311383:  20%|##        | 4/20 [00:06<00:26,  1.64s/it][I 2020-03-24 14:03:39,996] Finished trial#3 resulted in value: 0.31780220193545977. Current best value is 0.31639066766316454 with parameters: {'num_leaves': 54}.\n",
      "\n",
      "\n",
      "tune_num_leaves, val_score: 0.311383:  20%|##        | 4/20 [00:06<00:26,  1.64s/it]"
     ]
    },
    {
     "name": "stdout",
     "output_type": "stream",
     "text": [
      "Training until validation scores don't improve for 100 rounds\n",
      "[100]\ttraining's binary_logloss: 0.0139197\tvalid_1's binary_logloss: 0.418687\n",
      "Early stopping, best iteration is:\n",
      "[15]\ttraining's binary_logloss: 0.180492\tvalid_1's binary_logloss: 0.322008\n"
     ]
    },
    {
     "name": "stderr",
     "output_type": "stream",
     "text": [
      "\n",
      "\n",
      "tune_num_leaves, val_score: 0.311383:  20%|##        | 4/20 [00:08<00:26,  1.64s/it]\n",
      "\n",
      "tune_num_leaves, val_score: 0.311383:  25%|##5       | 5/20 [00:08<00:25,  1.67s/it][I 2020-03-24 14:03:41,737] Finished trial#4 resulted in value: 0.3220081797730302. Current best value is 0.31639066766316454 with parameters: {'num_leaves': 54}.\n",
      "\n",
      "\n",
      "tune_num_leaves, val_score: 0.311383:  25%|##5       | 5/20 [00:08<00:25,  1.67s/it]"
     ]
    },
    {
     "name": "stdout",
     "output_type": "stream",
     "text": [
      "Training until validation scores don't improve for 100 rounds\n",
      "[100]\ttraining's binary_logloss: 0.0272968\tvalid_1's binary_logloss: 0.374516\n",
      "Early stopping, best iteration is:\n",
      "[20]\ttraining's binary_logloss: 0.170729\tvalid_1's binary_logloss: 0.319556\n"
     ]
    },
    {
     "name": "stderr",
     "output_type": "stream",
     "text": [
      "\n",
      "\n",
      "tune_num_leaves, val_score: 0.311383:  25%|##5       | 5/20 [00:09<00:25,  1.67s/it]\n",
      "\n",
      "tune_num_leaves, val_score: 0.311383:  30%|###       | 6/20 [00:09<00:22,  1.61s/it][I 2020-03-24 14:03:43,218] Finished trial#5 resulted in value: 0.3195563926937379. Current best value is 0.31639066766316454 with parameters: {'num_leaves': 54}.\n",
      "\n",
      "\n",
      "tune_num_leaves, val_score: 0.311383:  30%|###       | 6/20 [00:09<00:22,  1.61s/it]"
     ]
    },
    {
     "name": "stdout",
     "output_type": "stream",
     "text": [
      "Training until validation scores don't improve for 100 rounds\n",
      "[100]\ttraining's binary_logloss: 0.129391\tvalid_1's binary_logloss: 0.321138\n",
      "Early stopping, best iteration is:\n",
      "[39]\ttraining's binary_logloss: 0.205614\tvalid_1's binary_logloss: 0.311855\n"
     ]
    },
    {
     "name": "stderr",
     "output_type": "stream",
     "text": [
      "\n",
      "\n",
      "tune_num_leaves, val_score: 0.311383:  30%|###       | 6/20 [00:10<00:22,  1.61s/it]\n",
      "\n",
      "tune_num_leaves, val_score: 0.311383:  35%|###5      | 7/20 [00:10<00:17,  1.33s/it][I 2020-03-24 14:03:43,894] Finished trial#6 resulted in value: 0.3118551070570301. Current best value is 0.3118551070570301 with parameters: {'num_leaves': 45}.\n",
      "\n",
      "\n",
      "tune_num_leaves, val_score: 0.311383:  35%|###5      | 7/20 [00:10<00:17,  1.33s/it]"
     ]
    },
    {
     "name": "stdout",
     "output_type": "stream",
     "text": [
      "Training until validation scores don't improve for 100 rounds\n",
      "[100]\ttraining's binary_logloss: 0.0301731\tvalid_1's binary_logloss: 0.377374\n",
      "Early stopping, best iteration is:\n",
      "[16]\ttraining's binary_logloss: 0.194483\tvalid_1's binary_logloss: 0.320722\n"
     ]
    },
    {
     "name": "stderr",
     "output_type": "stream",
     "text": [
      "\n",
      "\n",
      "tune_num_leaves, val_score: 0.311383:  35%|###5      | 7/20 [00:11<00:17,  1.33s/it]\n",
      "\n",
      "tune_num_leaves, val_score: 0.311383:  40%|####      | 8/20 [00:11<00:16,  1.34s/it][I 2020-03-24 14:03:45,255] Finished trial#7 resulted in value: 0.3207223466680033. Current best value is 0.3118551070570301 with parameters: {'num_leaves': 45}.\n",
      "\n",
      "\n",
      "tune_num_leaves, val_score: 0.311383:  40%|####      | 8/20 [00:11<00:16,  1.34s/it]"
     ]
    },
    {
     "name": "stdout",
     "output_type": "stream",
     "text": [
      "Training until validation scores don't improve for 100 rounds\n",
      "[100]\ttraining's binary_logloss: 0.0174269\tvalid_1's binary_logloss: 0.403451\n",
      "Early stopping, best iteration is:\n",
      "[9]\ttraining's binary_logloss: 0.227539\tvalid_1's binary_logloss: 0.321949\n"
     ]
    },
    {
     "name": "stderr",
     "output_type": "stream",
     "text": [
      "\n",
      "\n",
      "tune_num_leaves, val_score: 0.311383:  40%|####      | 8/20 [00:13<00:16,  1.34s/it]\n",
      "\n",
      "tune_num_leaves, val_score: 0.311383:  45%|####5     | 9/20 [00:13<00:15,  1.40s/it][I 2020-03-24 14:03:46,820] Finished trial#8 resulted in value: 0.32194853930017236. Current best value is 0.3118551070570301 with parameters: {'num_leaves': 45}.\n",
      "\n",
      "\n",
      "tune_num_leaves, val_score: 0.311383:  45%|####5     | 9/20 [00:13<00:15,  1.40s/it]"
     ]
    },
    {
     "name": "stdout",
     "output_type": "stream",
     "text": [
      "Training until validation scores don't improve for 100 rounds\n",
      "[100]\ttraining's binary_logloss: 0.00854346\tvalid_1's binary_logloss: 0.435536\n",
      "Early stopping, best iteration is:\n",
      "[15]\ttraining's binary_logloss: 0.17055\tvalid_1's binary_logloss: 0.31954\n"
     ]
    },
    {
     "name": "stderr",
     "output_type": "stream",
     "text": [
      "\n",
      "\n",
      "tune_num_leaves, val_score: 0.311383:  45%|####5     | 9/20 [00:15<00:15,  1.40s/it]\n",
      "\n",
      "tune_num_leaves, val_score: 0.311383:  50%|#####     | 10/20 [00:15<00:15,  1.59s/it][I 2020-03-24 14:03:48,814] Finished trial#9 resulted in value: 0.31954022445817254. Current best value is 0.3118551070570301 with parameters: {'num_leaves': 45}.\n",
      "\n",
      "\n",
      "tune_num_leaves, val_score: 0.311383:  50%|#####     | 10/20 [00:15<00:15,  1.59s/it]"
     ]
    },
    {
     "name": "stdout",
     "output_type": "stream",
     "text": [
      "Training until validation scores don't improve for 100 rounds\n",
      "[100]\ttraining's binary_logloss: 0.291522\tvalid_1's binary_logloss: 0.315482\n",
      "[200]\ttraining's binary_logloss: 0.277796\tvalid_1's binary_logloss: 0.313442\n",
      "Early stopping, best iteration is:\n",
      "[192]\ttraining's binary_logloss: 0.278691\tvalid_1's binary_logloss: 0.313225\n"
     ]
    },
    {
     "name": "stderr",
     "output_type": "stream",
     "text": [
      "\n",
      "\n",
      "tune_num_leaves, val_score: 0.311383:  50%|#####     | 10/20 [00:15<00:15,  1.59s/it]\n",
      "\n",
      "tune_num_leaves, val_score: 0.311383:  55%|#####5    | 11/20 [00:15<00:11,  1.23s/it][I 2020-03-24 14:03:49,208] Finished trial#10 resulted in value: 0.31322483434886467. Current best value is 0.3118551070570301 with parameters: {'num_leaves': 45}.\n",
      "\n",
      "\n",
      "tune_num_leaves, val_score: 0.311383:  55%|#####5    | 11/20 [00:15<00:11,  1.23s/it]"
     ]
    },
    {
     "name": "stdout",
     "output_type": "stream",
     "text": [
      "Training until validation scores don't improve for 100 rounds\n",
      "[100]\ttraining's binary_logloss: 0.299185\tvalid_1's binary_logloss: 0.31602\n",
      "[200]\ttraining's binary_logloss: 0.290681\tvalid_1's binary_logloss: 0.314875\n",
      "[300]\ttraining's binary_logloss: 0.283948\tvalid_1's binary_logloss: 0.314259\n",
      "Early stopping, best iteration is:\n",
      "[294]\ttraining's binary_logloss: 0.284335\tvalid_1's binary_logloss: 0.313877\n"
     ]
    },
    {
     "name": "stderr",
     "output_type": "stream",
     "text": [
      "\n",
      "\n",
      "tune_num_leaves, val_score: 0.311383:  55%|#####5    | 11/20 [00:15<00:11,  1.23s/it]\n",
      "\n",
      "tune_num_leaves, val_score: 0.311383:  60%|######    | 12/20 [00:15<00:07,  1.01it/s][I 2020-03-24 14:03:49,646] Finished trial#11 resulted in value: 0.31387714099799335. Current best value is 0.3118551070570301 with parameters: {'num_leaves': 45}.\n",
      "\n",
      "\n",
      "tune_num_leaves, val_score: 0.311383:  60%|######    | 12/20 [00:16<00:07,  1.01it/s]"
     ]
    },
    {
     "name": "stdout",
     "output_type": "stream",
     "text": [
      "Training until validation scores don't improve for 100 rounds\n",
      "[100]\ttraining's binary_logloss: 0.107756\tvalid_1's binary_logloss: 0.326818\n",
      "Early stopping, best iteration is:\n",
      "[30]\ttraining's binary_logloss: 0.207937\tvalid_1's binary_logloss: 0.316919\n"
     ]
    },
    {
     "name": "stderr",
     "output_type": "stream",
     "text": [
      "\n",
      "\n",
      "tune_num_leaves, val_score: 0.311383:  60%|######    | 12/20 [00:16<00:07,  1.01it/s]\n",
      "\n",
      "tune_num_leaves, val_score: 0.311383:  65%|######5   | 13/20 [00:16<00:06,  1.09it/s][I 2020-03-24 14:03:50,383] Finished trial#12 resulted in value: 0.3169187168036458. Current best value is 0.3118551070570301 with parameters: {'num_leaves': 45}.\n",
      "\n",
      "\n",
      "tune_num_leaves, val_score: 0.311383:  65%|######5   | 13/20 [00:16<00:06,  1.09it/s]"
     ]
    },
    {
     "name": "stdout",
     "output_type": "stream",
     "text": [
      "Training until validation scores don't improve for 100 rounds\n",
      "[100]\ttraining's binary_logloss: 0.284607\tvalid_1's binary_logloss: 0.314073\n",
      "[200]\ttraining's binary_logloss: 0.265679\tvalid_1's binary_logloss: 0.31415\n",
      "Early stopping, best iteration is:\n",
      "[153]\ttraining's binary_logloss: 0.274031\tvalid_1's binary_logloss: 0.312543\n"
     ]
    },
    {
     "name": "stderr",
     "output_type": "stream",
     "text": [
      "\n",
      "\n",
      "tune_num_leaves, val_score: 0.311383:  65%|######5   | 13/20 [00:17<00:06,  1.09it/s]\n",
      "\n",
      "tune_num_leaves, val_score: 0.311383:  70%|#######   | 14/20 [00:17<00:04,  1.31it/s][I 2020-03-24 14:03:50,796] Finished trial#13 resulted in value: 0.3125426026712892. Current best value is 0.3118551070570301 with parameters: {'num_leaves': 45}.\n",
      "\n",
      "\n",
      "tune_num_leaves, val_score: 0.311383:  70%|#######   | 14/20 [00:17<00:04,  1.31it/s]"
     ]
    },
    {
     "name": "stdout",
     "output_type": "stream",
     "text": [
      "Training until validation scores don't improve for 100 rounds\n",
      "[100]\ttraining's binary_logloss: 0.107756\tvalid_1's binary_logloss: 0.326818\n",
      "Early stopping, best iteration is:\n",
      "[30]\ttraining's binary_logloss: 0.207937\tvalid_1's binary_logloss: 0.316919\n"
     ]
    },
    {
     "name": "stderr",
     "output_type": "stream",
     "text": [
      "\n",
      "\n",
      "tune_num_leaves, val_score: 0.311383:  70%|#######   | 14/20 [00:17<00:04,  1.31it/s]\n",
      "\n",
      "tune_num_leaves, val_score: 0.311383:  75%|#######5  | 15/20 [00:17<00:03,  1.31it/s][I 2020-03-24 14:03:51,553] Finished trial#14 resulted in value: 0.31691871680364575. Current best value is 0.3118551070570301 with parameters: {'num_leaves': 45}.\n",
      "\n",
      "\n",
      "tune_num_leaves, val_score: 0.311383:  75%|#######5  | 15/20 [00:17<00:03,  1.31it/s]"
     ]
    },
    {
     "name": "stdout",
     "output_type": "stream",
     "text": [
      "Training until validation scores don't improve for 100 rounds\n",
      "[100]\ttraining's binary_logloss: 0.0672077\tvalid_1's binary_logloss: 0.341708\n",
      "Early stopping, best iteration is:\n",
      "[20]\ttraining's binary_logloss: 0.210035\tvalid_1's binary_logloss: 0.315385\n"
     ]
    },
    {
     "name": "stderr",
     "output_type": "stream",
     "text": [
      "\n",
      "\n",
      "tune_num_leaves, val_score: 0.311383:  75%|#######5  | 15/20 [00:18<00:03,  1.31it/s]\n",
      "\n",
      "tune_num_leaves, val_score: 0.311383:  80%|########  | 16/20 [00:18<00:03,  1.20it/s][I 2020-03-24 14:03:52,549] Finished trial#15 resulted in value: 0.315384571212272. Current best value is 0.3118551070570301 with parameters: {'num_leaves': 45}.\n",
      "\n",
      "\n",
      "tune_num_leaves, val_score: 0.311383:  80%|########  | 16/20 [00:18<00:03,  1.20it/s]"
     ]
    },
    {
     "name": "stdout",
     "output_type": "stream",
     "text": [
      "Training until validation scores don't improve for 100 rounds\n",
      "[100]\ttraining's binary_logloss: 0.194413\tvalid_1's binary_logloss: 0.31332\n",
      "Early stopping, best iteration is:\n",
      "[64]\ttraining's binary_logloss: 0.224106\tvalid_1's binary_logloss: 0.311364\n"
     ]
    },
    {
     "name": "stderr",
     "output_type": "stream",
     "text": [
      "\n",
      "\n",
      "tune_num_leaves, val_score: 0.311364:  80%|########  | 16/20 [00:19<00:03,  1.20it/s]\n",
      "\n",
      "tune_num_leaves, val_score: 0.311364:  85%|########5 | 17/20 [00:19<00:02,  1.35it/s][I 2020-03-24 14:03:53,083] Finished trial#16 resulted in value: 0.31136434250457623. Current best value is 0.31136434250457623 with parameters: {'num_leaves': 23}.\n",
      "\n",
      "\n",
      "tune_num_leaves, val_score: 0.311364:  85%|########5 | 17/20 [00:19<00:02,  1.35it/s]"
     ]
    },
    {
     "name": "stdout",
     "output_type": "stream",
     "text": [
      "Training until validation scores don't improve for 100 rounds\n",
      "[100]\ttraining's binary_logloss: 0.058775\tvalid_1's binary_logloss: 0.346756\n",
      "Early stopping, best iteration is:\n",
      "[32]\ttraining's binary_logloss: 0.161607\tvalid_1's binary_logloss: 0.317964\n"
     ]
    },
    {
     "name": "stderr",
     "output_type": "stream",
     "text": [
      "\n",
      "\n",
      "tune_num_leaves, val_score: 0.311364:  85%|########5 | 17/20 [00:20<00:02,  1.35it/s]\n",
      "\n",
      "tune_num_leaves, val_score: 0.311364:  90%|######### | 18/20 [00:20<00:01,  1.15it/s][I 2020-03-24 14:03:54,248] Finished trial#17 resulted in value: 0.31796362205836126. Current best value is 0.31136434250457623 with parameters: {'num_leaves': 23}.\n",
      "\n",
      "\n",
      "tune_num_leaves, val_score: 0.311364:  90%|######### | 18/20 [00:20<00:01,  1.15it/s]"
     ]
    },
    {
     "name": "stdout",
     "output_type": "stream",
     "text": [
      "Training until validation scores don't improve for 100 rounds\n",
      "[100]\ttraining's binary_logloss: 0.164147\tvalid_1's binary_logloss: 0.322104\n",
      "Early stopping, best iteration is:\n",
      "[39]\ttraining's binary_logloss: 0.228947\tvalid_1's binary_logloss: 0.314552\n"
     ]
    },
    {
     "name": "stderr",
     "output_type": "stream",
     "text": [
      "\n",
      "\n",
      "tune_num_leaves, val_score: 0.311364:  90%|######### | 18/20 [00:21<00:01,  1.15it/s]\n",
      "\n",
      "tune_num_leaves, val_score: 0.311364:  95%|#########5| 19/20 [00:21<00:00,  1.29it/s][I 2020-03-24 14:03:54,804] Finished trial#18 resulted in value: 0.3145523851853525. Current best value is 0.31136434250457623 with parameters: {'num_leaves': 23}.\n",
      "\n",
      "\n",
      "tune_num_leaves, val_score: 0.311364:  95%|#########5| 19/20 [00:21<00:00,  1.29it/s]"
     ]
    },
    {
     "name": "stdout",
     "output_type": "stream",
     "text": [
      "Training until validation scores don't improve for 100 rounds\n",
      "[100]\ttraining's binary_logloss: 0.0642149\tvalid_1's binary_logloss: 0.345564\n",
      "Early stopping, best iteration is:\n",
      "[14]\ttraining's binary_logloss: 0.230999\tvalid_1's binary_logloss: 0.317342\n"
     ]
    },
    {
     "name": "stderr",
     "output_type": "stream",
     "text": [
      "\n",
      "\n",
      "tune_num_leaves, val_score: 0.311364:  95%|#########5| 19/20 [00:22<00:00,  1.29it/s]\n",
      "\n",
      "tune_num_leaves, val_score: 0.311364: 100%|##########| 20/20 [00:22<00:00,  1.19it/s][I 2020-03-24 14:03:55,788] Finished trial#19 resulted in value: 0.317341654408678. Current best value is 0.31136434250457623 with parameters: {'num_leaves': 23}.\n",
      "tune_num_leaves, val_score: 0.311364: 100%|##########| 20/20 [00:22<00:00,  1.11s/it]\n",
      "\n",
      "\n",
      "  0%|          | 0/10 [00:00<?, ?it/s]\n",
      "\n",
      "tune_bagging_fraction_and_bagging_freq, val_score: 0.311364:   0%|          | 0/10 [00:00<?, ?it/s]"
     ]
    },
    {
     "name": "stdout",
     "output_type": "stream",
     "text": [
      "Training until validation scores don't improve for 100 rounds\n",
      "[100]\ttraining's binary_logloss: 0.194007\tvalid_1's binary_logloss: 0.314644\n",
      "Early stopping, best iteration is:\n",
      "[42]\ttraining's binary_logloss: 0.245268\tvalid_1's binary_logloss: 0.310745\n"
     ]
    },
    {
     "name": "stderr",
     "output_type": "stream",
     "text": [
      "\n",
      "\n",
      "tune_bagging_fraction_and_bagging_freq, val_score: 0.310745:   0%|          | 0/10 [00:00<?, ?it/s]\n",
      "\n",
      "tune_bagging_fraction_and_bagging_freq, val_score: 0.310745:  10%|#         | 1/10 [00:00<00:03,  2.62it/s][I 2020-03-24 14:03:56,267] Finished trial#0 resulted in value: 0.31074492528015346. Current best value is 0.31074492528015346 with parameters: {'bagging_fraction': 0.9998188751306053, 'bagging_freq': 7}.\n",
      "\n",
      "\n",
      "tune_bagging_fraction_and_bagging_freq, val_score: 0.310745:  10%|#         | 1/10 [00:00<00:03,  2.62it/s]"
     ]
    },
    {
     "name": "stdout",
     "output_type": "stream",
     "text": [
      "Training until validation scores don't improve for 100 rounds\n",
      "[100]\ttraining's binary_logloss: 0.19065\tvalid_1's binary_logloss: 0.322888\n",
      "Early stopping, best iteration is:\n",
      "[24]\ttraining's binary_logloss: 0.271499\tvalid_1's binary_logloss: 0.315076\n"
     ]
    },
    {
     "name": "stderr",
     "output_type": "stream",
     "text": [
      "\n",
      "\n",
      "tune_bagging_fraction_and_bagging_freq, val_score: 0.310745:  10%|#         | 1/10 [00:00<00:03,  2.62it/s]\n",
      "\n",
      "tune_bagging_fraction_and_bagging_freq, val_score: 0.310745:  20%|##        | 2/10 [00:00<00:03,  2.54it/s][I 2020-03-24 14:03:56,690] Finished trial#1 resulted in value: 0.3150760863052283. Current best value is 0.31074492528015346 with parameters: {'bagging_fraction': 0.9998188751306053, 'bagging_freq': 7}.\n",
      "\n",
      "\n",
      "tune_bagging_fraction_and_bagging_freq, val_score: 0.310745:  20%|##        | 2/10 [00:00<00:03,  2.54it/s]"
     ]
    },
    {
     "name": "stdout",
     "output_type": "stream",
     "text": [
      "Training until validation scores don't improve for 100 rounds\n",
      "[100]\ttraining's binary_logloss: 0.188645\tvalid_1's binary_logloss: 0.313896\n",
      "Early stopping, best iteration is:\n",
      "[27]\ttraining's binary_logloss: 0.265862\tvalid_1's binary_logloss: 0.311382\n"
     ]
    },
    {
     "name": "stderr",
     "output_type": "stream",
     "text": [
      "\n",
      "\n",
      "tune_bagging_fraction_and_bagging_freq, val_score: 0.310745:  20%|##        | 2/10 [00:01<00:03,  2.54it/s]\n",
      "\n",
      "tune_bagging_fraction_and_bagging_freq, val_score: 0.310745:  30%|###       | 3/10 [00:01<00:02,  2.35it/s][I 2020-03-24 14:03:57,188] Finished trial#2 resulted in value: 0.31138205830984805. Current best value is 0.31074492528015346 with parameters: {'bagging_fraction': 0.9998188751306053, 'bagging_freq': 7}.\n",
      "\n",
      "\n",
      "tune_bagging_fraction_and_bagging_freq, val_score: 0.310745:  30%|###       | 3/10 [00:01<00:02,  2.35it/s]"
     ]
    },
    {
     "name": "stdout",
     "output_type": "stream",
     "text": [
      "Training until validation scores don't improve for 100 rounds\n",
      "[100]\ttraining's binary_logloss: 0.188622\tvalid_1's binary_logloss: 0.31512\n",
      "Early stopping, best iteration is:\n",
      "[37]\ttraining's binary_logloss: 0.251151\tvalid_1's binary_logloss: 0.311439\n"
     ]
    },
    {
     "name": "stderr",
     "output_type": "stream",
     "text": [
      "\n",
      "\n",
      "tune_bagging_fraction_and_bagging_freq, val_score: 0.310745:  30%|###       | 3/10 [00:01<00:02,  2.35it/s]\n",
      "\n",
      "tune_bagging_fraction_and_bagging_freq, val_score: 0.310745:  40%|####      | 4/10 [00:01<00:02,  2.29it/s][I 2020-03-24 14:03:57,654] Finished trial#3 resulted in value: 0.3114385626534565. Current best value is 0.31074492528015346 with parameters: {'bagging_fraction': 0.9998188751306053, 'bagging_freq': 7}.\n",
      "\n",
      "\n",
      "tune_bagging_fraction_and_bagging_freq, val_score: 0.310745:  40%|####      | 4/10 [00:01<00:02,  2.29it/s]"
     ]
    },
    {
     "name": "stdout",
     "output_type": "stream",
     "text": [
      "Training until validation scores don't improve for 100 rounds\n",
      "[100]\ttraining's binary_logloss: 0.195782\tvalid_1's binary_logloss: 0.32028\n",
      "Early stopping, best iteration is:\n",
      "[28]\ttraining's binary_logloss: 0.267261\tvalid_1's binary_logloss: 0.312441\n"
     ]
    },
    {
     "name": "stderr",
     "output_type": "stream",
     "text": [
      "\n",
      "\n",
      "tune_bagging_fraction_and_bagging_freq, val_score: 0.310745:  40%|####      | 4/10 [00:02<00:02,  2.29it/s]\n",
      "\n",
      "tune_bagging_fraction_and_bagging_freq, val_score: 0.310745:  50%|#####     | 5/10 [00:02<00:02,  2.31it/s][I 2020-03-24 14:03:58,080] Finished trial#4 resulted in value: 0.31244052623327895. Current best value is 0.31074492528015346 with parameters: {'bagging_fraction': 0.9998188751306053, 'bagging_freq': 7}.\n",
      "\n",
      "\n",
      "tune_bagging_fraction_and_bagging_freq, val_score: 0.310745:  50%|#####     | 5/10 [00:02<00:02,  2.31it/s]"
     ]
    },
    {
     "name": "stdout",
     "output_type": "stream",
     "text": [
      "Training until validation scores don't improve for 100 rounds\n",
      "[100]\ttraining's binary_logloss: 0.192862\tvalid_1's binary_logloss: 0.319046\n",
      "Early stopping, best iteration is:\n",
      "[46]\ttraining's binary_logloss: 0.244835\tvalid_1's binary_logloss: 0.310004\n"
     ]
    },
    {
     "name": "stderr",
     "output_type": "stream",
     "text": [
      "\n",
      "\n",
      "tune_bagging_fraction_and_bagging_freq, val_score: 0.310004:  50%|#####     | 5/10 [00:02<00:02,  2.31it/s]\n",
      "\n",
      "tune_bagging_fraction_and_bagging_freq, val_score: 0.310004:  60%|######    | 6/10 [00:02<00:01,  2.23it/s][I 2020-03-24 14:03:58,562] Finished trial#5 resulted in value: 0.3100036653565837. Current best value is 0.3100036653565837 with parameters: {'bagging_fraction': 0.42808159584970534, 'bagging_freq': 2}.\n",
      "\n",
      "\n",
      "tune_bagging_fraction_and_bagging_freq, val_score: 0.310004:  60%|######    | 6/10 [00:02<00:01,  2.23it/s]"
     ]
    },
    {
     "name": "stdout",
     "output_type": "stream",
     "text": [
      "Training until validation scores don't improve for 100 rounds\n",
      "[100]\ttraining's binary_logloss: 0.189307\tvalid_1's binary_logloss: 0.316313\n",
      "Early stopping, best iteration is:\n",
      "[39]\ttraining's binary_logloss: 0.246885\tvalid_1's binary_logloss: 0.310568\n"
     ]
    },
    {
     "name": "stderr",
     "output_type": "stream",
     "text": [
      "\n",
      "\n",
      "tune_bagging_fraction_and_bagging_freq, val_score: 0.310004:  60%|######    | 6/10 [00:03<00:01,  2.23it/s]\n",
      "\n",
      "tune_bagging_fraction_and_bagging_freq, val_score: 0.310004:  70%|#######   | 7/10 [00:03<00:01,  2.07it/s][I 2020-03-24 14:03:59,123] Finished trial#6 resulted in value: 0.3105680665364482. Current best value is 0.3100036653565837 with parameters: {'bagging_fraction': 0.42808159584970534, 'bagging_freq': 2}.\n",
      "\n",
      "\n",
      "tune_bagging_fraction_and_bagging_freq, val_score: 0.310004:  70%|#######   | 7/10 [00:03<00:01,  2.07it/s]"
     ]
    },
    {
     "name": "stdout",
     "output_type": "stream",
     "text": [
      "Training until validation scores don't improve for 100 rounds\n",
      "[100]\ttraining's binary_logloss: 0.192976\tvalid_1's binary_logloss: 0.317194\n",
      "Early stopping, best iteration is:\n",
      "[38]\ttraining's binary_logloss: 0.249113\tvalid_1's binary_logloss: 0.312568\n"
     ]
    },
    {
     "name": "stderr",
     "output_type": "stream",
     "text": [
      "\n",
      "\n",
      "tune_bagging_fraction_and_bagging_freq, val_score: 0.310004:  70%|#######   | 7/10 [00:03<00:01,  2.07it/s]\n",
      "\n",
      "tune_bagging_fraction_and_bagging_freq, val_score: 0.310004:  80%|########  | 8/10 [00:03<00:00,  2.07it/s][I 2020-03-24 14:03:59,608] Finished trial#7 resulted in value: 0.3125679617146743. Current best value is 0.3100036653565837 with parameters: {'bagging_fraction': 0.42808159584970534, 'bagging_freq': 2}.\n",
      "\n",
      "\n",
      "tune_bagging_fraction_and_bagging_freq, val_score: 0.310004:  80%|########  | 8/10 [00:03<00:00,  2.07it/s]"
     ]
    },
    {
     "name": "stdout",
     "output_type": "stream",
     "text": [
      "Training until validation scores don't improve for 100 rounds\n",
      "[100]\ttraining's binary_logloss: 0.192792\tvalid_1's binary_logloss: 0.323971\n",
      "Early stopping, best iteration is:\n",
      "[25]\ttraining's binary_logloss: 0.269599\tvalid_1's binary_logloss: 0.315245\n"
     ]
    },
    {
     "name": "stderr",
     "output_type": "stream",
     "text": [
      "\n",
      "\n",
      "tune_bagging_fraction_and_bagging_freq, val_score: 0.310004:  80%|########  | 8/10 [00:04<00:00,  2.07it/s]\n",
      "\n",
      "tune_bagging_fraction_and_bagging_freq, val_score: 0.310004:  90%|######### | 9/10 [00:04<00:00,  2.15it/s][I 2020-03-24 14:04:00,034] Finished trial#8 resulted in value: 0.3152451218811312. Current best value is 0.3100036653565837 with parameters: {'bagging_fraction': 0.42808159584970534, 'bagging_freq': 2}.\n",
      "\n",
      "\n",
      "tune_bagging_fraction_and_bagging_freq, val_score: 0.310004:  90%|######### | 9/10 [00:04<00:00,  2.15it/s]"
     ]
    },
    {
     "name": "stdout",
     "output_type": "stream",
     "text": [
      "Training until validation scores don't improve for 100 rounds\n",
      "[100]\ttraining's binary_logloss: 0.19646\tvalid_1's binary_logloss: 0.32276\n",
      "Early stopping, best iteration is:\n",
      "[39]\ttraining's binary_logloss: 0.254608\tvalid_1's binary_logloss: 0.314204\n"
     ]
    },
    {
     "name": "stderr",
     "output_type": "stream",
     "text": [
      "\n",
      "\n",
      "tune_bagging_fraction_and_bagging_freq, val_score: 0.310004:  90%|######### | 9/10 [00:04<00:00,  2.15it/s]\n",
      "\n",
      "tune_bagging_fraction_and_bagging_freq, val_score: 0.310004: 100%|##########| 10/10 [00:04<00:00,  2.05it/s][I 2020-03-24 14:04:00,577] Finished trial#9 resulted in value: 0.31420380319228486. Current best value is 0.3100036653565837 with parameters: {'bagging_fraction': 0.42808159584970534, 'bagging_freq': 2}.\n",
      "tune_bagging_fraction_and_bagging_freq, val_score: 0.310004: 100%|##########| 10/10 [00:04<00:00,  2.09it/s]\n",
      "\n",
      "\n",
      "  0%|          | 0/6 [00:00<?, ?it/s]\n",
      "\n",
      "tune_feature_fraction, val_score: 0.310004:   0%|          | 0/6 [00:00<?, ?it/s]"
     ]
    },
    {
     "name": "stdout",
     "output_type": "stream",
     "text": [
      "Training until validation scores don't improve for 100 rounds\n",
      "[100]\ttraining's binary_logloss: 0.194474\tvalid_1's binary_logloss: 0.32325\n",
      "Early stopping, best iteration is:\n",
      "[48]\ttraining's binary_logloss: 0.242468\tvalid_1's binary_logloss: 0.316099\n"
     ]
    },
    {
     "name": "stderr",
     "output_type": "stream",
     "text": [
      "\n",
      "\n",
      "tune_feature_fraction, val_score: 0.310004:   0%|          | 0/6 [00:00<?, ?it/s]\n",
      "\n",
      "tune_feature_fraction, val_score: 0.310004:  17%|#6        | 1/6 [00:00<00:01,  2.66it/s][I 2020-03-24 14:04:01,064] Finished trial#0 resulted in value: 0.31609925944610606. Current best value is 0.31609925944610606 with parameters: {'feature_fraction': 0.52}.\n",
      "\n",
      "\n",
      "tune_feature_fraction, val_score: 0.310004:  17%|#6        | 1/6 [00:00<00:01,  2.66it/s]"
     ]
    },
    {
     "name": "stdout",
     "output_type": "stream",
     "text": [
      "Training until validation scores don't improve for 100 rounds\n",
      "[100]\ttraining's binary_logloss: 0.192557\tvalid_1's binary_logloss: 0.317981\n",
      "Early stopping, best iteration is:\n",
      "[51]\ttraining's binary_logloss: 0.23967\tvalid_1's binary_logloss: 0.311619\n"
     ]
    },
    {
     "name": "stderr",
     "output_type": "stream",
     "text": [
      "\n",
      "\n",
      "tune_feature_fraction, val_score: 0.310004:  17%|#6        | 1/6 [00:00<00:01,  2.66it/s]\n",
      "\n",
      "tune_feature_fraction, val_score: 0.310004:  33%|###3      | 2/6 [00:00<00:01,  2.40it/s][I 2020-03-24 14:04:01,585] Finished trial#1 resulted in value: 0.31161912973220585. Current best value is 0.31161912973220585 with parameters: {'feature_fraction': 0.552}.\n",
      "\n",
      "\n",
      "tune_feature_fraction, val_score: 0.310004:  33%|###3      | 2/6 [00:00<00:01,  2.40it/s]"
     ]
    },
    {
     "name": "stdout",
     "output_type": "stream",
     "text": [
      "Training until validation scores don't improve for 100 rounds\n",
      "[100]\ttraining's binary_logloss: 0.192862\tvalid_1's binary_logloss: 0.319046\n",
      "Early stopping, best iteration is:\n",
      "[46]\ttraining's binary_logloss: 0.244835\tvalid_1's binary_logloss: 0.310004\n"
     ]
    },
    {
     "name": "stderr",
     "output_type": "stream",
     "text": [
      "\n",
      "\n",
      "tune_feature_fraction, val_score: 0.310004:  33%|###3      | 2/6 [00:01<00:01,  2.40it/s]\n",
      "\n",
      "tune_feature_fraction, val_score: 0.310004:  50%|#####     | 3/6 [00:01<00:01,  2.21it/s][I 2020-03-24 14:04:02,117] Finished trial#2 resulted in value: 0.31000366535658364. Current best value is 0.31000366535658364 with parameters: {'feature_fraction': 0.584}.\n",
      "\n",
      "\n",
      "tune_feature_fraction, val_score: 0.310004:  50%|#####     | 3/6 [00:01<00:01,  2.21it/s]"
     ]
    },
    {
     "name": "stdout",
     "output_type": "stream",
     "text": [
      "Training until validation scores don't improve for 100 rounds\n",
      "[100]\ttraining's binary_logloss: 0.194213\tvalid_1's binary_logloss: 0.321618\n",
      "Early stopping, best iteration is:\n",
      "[48]\ttraining's binary_logloss: 0.242919\tvalid_1's binary_logloss: 0.312859\n"
     ]
    },
    {
     "name": "stderr",
     "output_type": "stream",
     "text": [
      "\n",
      "\n",
      "tune_feature_fraction, val_score: 0.310004:  50%|#####     | 3/6 [00:01<00:01,  2.21it/s]\n",
      "\n",
      "tune_feature_fraction, val_score: 0.310004:  67%|######6   | 4/6 [00:01<00:00,  2.15it/s][I 2020-03-24 14:04:02,610] Finished trial#3 resulted in value: 0.3128586279393027. Current best value is 0.31000366535658364 with parameters: {'feature_fraction': 0.584}.\n",
      "\n",
      "\n",
      "tune_feature_fraction, val_score: 0.310004:  67%|######6   | 4/6 [00:02<00:00,  2.15it/s]"
     ]
    },
    {
     "name": "stdout",
     "output_type": "stream",
     "text": [
      "Training until validation scores don't improve for 100 rounds\n",
      "[100]\ttraining's binary_logloss: 0.192775\tvalid_1's binary_logloss: 0.32467\n",
      "Early stopping, best iteration is:\n",
      "[27]\ttraining's binary_logloss: 0.267944\tvalid_1's binary_logloss: 0.315261\n"
     ]
    },
    {
     "name": "stderr",
     "output_type": "stream",
     "text": [
      "\n",
      "\n",
      "tune_feature_fraction, val_score: 0.310004:  67%|######6   | 4/6 [00:02<00:00,  2.15it/s]\n",
      "\n",
      "tune_feature_fraction, val_score: 0.310004:  83%|########3 | 5/6 [00:02<00:00,  2.17it/s][I 2020-03-24 14:04:03,066] Finished trial#4 resulted in value: 0.3152612229799327. Current best value is 0.31000366535658364 with parameters: {'feature_fraction': 0.584}.\n",
      "\n",
      "\n",
      "tune_feature_fraction, val_score: 0.310004:  83%|########3 | 5/6 [00:02<00:00,  2.17it/s]"
     ]
    },
    {
     "name": "stdout",
     "output_type": "stream",
     "text": [
      "Training until validation scores don't improve for 100 rounds\n",
      "[100]\ttraining's binary_logloss: 0.190429\tvalid_1's binary_logloss: 0.323359\n",
      "Early stopping, best iteration is:\n",
      "[20]\ttraining's binary_logloss: 0.278872\tvalid_1's binary_logloss: 0.311909\n"
     ]
    },
    {
     "name": "stderr",
     "output_type": "stream",
     "text": [
      "\n",
      "\n",
      "tune_feature_fraction, val_score: 0.310004:  83%|########3 | 5/6 [00:02<00:00,  2.17it/s]\n",
      "\n",
      "tune_feature_fraction, val_score: 0.310004: 100%|##########| 6/6 [00:02<00:00,  2.22it/s][I 2020-03-24 14:04:03,488] Finished trial#5 resulted in value: 0.3119093689461597. Current best value is 0.31000366535658364 with parameters: {'feature_fraction': 0.584}.\n",
      "tune_feature_fraction, val_score: 0.310004: 100%|##########| 6/6 [00:02<00:00,  2.07it/s]\n",
      "\n",
      "\n",
      "  0%|          | 0/20 [00:00<?, ?it/s]\n",
      "\n",
      "tune_lambda_l1_and_lambda_l2, val_score: 0.310004:   0%|          | 0/20 [00:00<?, ?it/s]"
     ]
    },
    {
     "name": "stdout",
     "output_type": "stream",
     "text": [
      "Training until validation scores don't improve for 100 rounds\n",
      "[100]\ttraining's binary_logloss: 0.192863\tvalid_1's binary_logloss: 0.319045\n",
      "Early stopping, best iteration is:\n",
      "[46]\ttraining's binary_logloss: 0.244836\tvalid_1's binary_logloss: 0.310004\n"
     ]
    },
    {
     "name": "stderr",
     "output_type": "stream",
     "text": [
      "\n",
      "\n",
      "tune_lambda_l1_and_lambda_l2, val_score: 0.310004:   0%|          | 0/20 [00:00<?, ?it/s]\n",
      "\n",
      "tune_lambda_l1_and_lambda_l2, val_score: 0.310004:   5%|5         | 1/20 [00:00<00:08,  2.34it/s][I 2020-03-24 14:04:04,020] Finished trial#0 resulted in value: 0.31000360747724864. Current best value is 0.31000360747724864 with parameters: {'lambda_l1': 7.981473617060673e-05, 'lambda_l2': 1.9395663743323218e-06}.\n",
      "\n",
      "\n",
      "tune_lambda_l1_and_lambda_l2, val_score: 0.310004:   5%|5         | 1/20 [00:00<00:08,  2.34it/s]"
     ]
    },
    {
     "name": "stdout",
     "output_type": "stream",
     "text": [
      "Training until validation scores don't improve for 100 rounds\n",
      "[100]\ttraining's binary_logloss: 0.200404\tvalid_1's binary_logloss: 0.321164\n",
      "Early stopping, best iteration is:\n",
      "[50]\ttraining's binary_logloss: 0.244951\tvalid_1's binary_logloss: 0.314275\n"
     ]
    },
    {
     "name": "stderr",
     "output_type": "stream",
     "text": [
      "\n",
      "\n",
      "tune_lambda_l1_and_lambda_l2, val_score: 0.310004:   5%|5         | 1/20 [00:00<00:08,  2.34it/s]\n",
      "\n",
      "tune_lambda_l1_and_lambda_l2, val_score: 0.310004:  10%|#         | 2/20 [00:00<00:07,  2.26it/s][I 2020-03-24 14:04:04,500] Finished trial#1 resulted in value: 0.31427517896289053. Current best value is 0.31000360747724864 with parameters: {'lambda_l1': 7.981473617060673e-05, 'lambda_l2': 1.9395663743323218e-06}.\n",
      "\n",
      "\n",
      "tune_lambda_l1_and_lambda_l2, val_score: 0.310004:  10%|#         | 2/20 [00:00<00:07,  2.26it/s]"
     ]
    },
    {
     "name": "stdout",
     "output_type": "stream",
     "text": [
      "Training until validation scores don't improve for 100 rounds\n",
      "[100]\ttraining's binary_logloss: 0.240543\tvalid_1's binary_logloss: 0.311958\n",
      "Early stopping, best iteration is:\n",
      "[74]\ttraining's binary_logloss: 0.254578\tvalid_1's binary_logloss: 0.309935\n"
     ]
    },
    {
     "name": "stderr",
     "output_type": "stream",
     "text": [
      "\n",
      "\n",
      "tune_lambda_l1_and_lambda_l2, val_score: 0.309935:  10%|#         | 2/20 [00:01<00:07,  2.26it/s]\n",
      "\n",
      "tune_lambda_l1_and_lambda_l2, val_score: 0.309935:  15%|#5        | 3/20 [00:01<00:08,  2.10it/s][I 2020-03-24 14:04:05,052] Finished trial#2 resulted in value: 0.30993544813809853. Current best value is 0.30993544813809853 with parameters: {'lambda_l1': 3.94252706158995, 'lambda_l2': 9.62965903288946e-06}.\n",
      "\n",
      "\n",
      "tune_lambda_l1_and_lambda_l2, val_score: 0.309935:  15%|#5        | 3/20 [00:01<00:08,  2.10it/s]"
     ]
    },
    {
     "name": "stdout",
     "output_type": "stream",
     "text": [
      "Training until validation scores don't improve for 100 rounds\n",
      "[100]\ttraining's binary_logloss: 0.192863\tvalid_1's binary_logloss: 0.319046\n",
      "Early stopping, best iteration is:\n",
      "[46]\ttraining's binary_logloss: 0.244836\tvalid_1's binary_logloss: 0.310004\n"
     ]
    },
    {
     "name": "stderr",
     "output_type": "stream",
     "text": [
      "\n",
      "\n",
      "tune_lambda_l1_and_lambda_l2, val_score: 0.309935:  15%|#5        | 3/20 [00:02<00:08,  2.10it/s]\n",
      "\n",
      "tune_lambda_l1_and_lambda_l2, val_score: 0.309935:  20%|##        | 4/20 [00:02<00:08,  1.99it/s][I 2020-03-24 14:04:05,616] Finished trial#3 resulted in value: 0.31000359830791685. Current best value is 0.30993544813809853 with parameters: {'lambda_l1': 3.94252706158995, 'lambda_l2': 9.62965903288946e-06}.\n",
      "\n",
      "\n",
      "tune_lambda_l1_and_lambda_l2, val_score: 0.309935:  20%|##        | 4/20 [00:02<00:08,  1.99it/s]"
     ]
    },
    {
     "name": "stdout",
     "output_type": "stream",
     "text": [
      "Training until validation scores don't improve for 100 rounds\n",
      "[100]\ttraining's binary_logloss: 0.193115\tvalid_1's binary_logloss: 0.311077\n",
      "Early stopping, best iteration is:\n",
      "[93]\ttraining's binary_logloss: 0.198622\tvalid_1's binary_logloss: 0.308271\n"
     ]
    },
    {
     "name": "stderr",
     "output_type": "stream",
     "text": [
      "\n",
      "\n",
      "tune_lambda_l1_and_lambda_l2, val_score: 0.308271:  20%|##        | 4/20 [00:02<00:08,  1.99it/s]\n",
      "\n",
      "tune_lambda_l1_and_lambda_l2, val_score: 0.308271:  25%|##5       | 5/20 [00:02<00:07,  1.89it/s][I 2020-03-24 14:04:06,206] Finished trial#4 resulted in value: 0.3082711644168269. Current best value is 0.3082711644168269 with parameters: {'lambda_l1': 0.005549795039818797, 'lambda_l2': 0.00043722500753797704}.\n",
      "\n",
      "\n",
      "tune_lambda_l1_and_lambda_l2, val_score: 0.308271:  25%|##5       | 5/20 [00:02<00:07,  1.89it/s]"
     ]
    },
    {
     "name": "stdout",
     "output_type": "stream",
     "text": [
      "Training until validation scores don't improve for 100 rounds\n",
      "[100]\ttraining's binary_logloss: 0.193018\tvalid_1's binary_logloss: 0.318934\n",
      "Early stopping, best iteration is:\n",
      "[52]\ttraining's binary_logloss: 0.236836\tvalid_1's binary_logloss: 0.313679\n"
     ]
    },
    {
     "name": "stderr",
     "output_type": "stream",
     "text": [
      "\n",
      "\n",
      "tune_lambda_l1_and_lambda_l2, val_score: 0.308271:  25%|##5       | 5/20 [00:03<00:07,  1.89it/s]\n",
      "\n",
      "tune_lambda_l1_and_lambda_l2, val_score: 0.308271:  30%|###       | 6/20 [00:03<00:07,  1.92it/s][I 2020-03-24 14:04:06,710] Finished trial#5 resulted in value: 0.3136787904654476. Current best value is 0.3082711644168269 with parameters: {'lambda_l1': 0.005549795039818797, 'lambda_l2': 0.00043722500753797704}.\n",
      "\n",
      "\n",
      "tune_lambda_l1_and_lambda_l2, val_score: 0.308271:  30%|###       | 6/20 [00:03<00:07,  1.92it/s]"
     ]
    },
    {
     "name": "stdout",
     "output_type": "stream",
     "text": [
      "Training until validation scores don't improve for 100 rounds\n",
      "[100]\ttraining's binary_logloss: 0.197121\tvalid_1's binary_logloss: 0.316341\n",
      "Early stopping, best iteration is:\n",
      "[93]\ttraining's binary_logloss: 0.201911\tvalid_1's binary_logloss: 0.312933\n"
     ]
    },
    {
     "name": "stderr",
     "output_type": "stream",
     "text": [
      "\n",
      "\n",
      "tune_lambda_l1_and_lambda_l2, val_score: 0.308271:  30%|###       | 6/20 [00:03<00:07,  1.92it/s]\n",
      "\n",
      "tune_lambda_l1_and_lambda_l2, val_score: 0.308271:  35%|###5      | 7/20 [00:03<00:07,  1.76it/s][I 2020-03-24 14:04:07,405] Finished trial#6 resulted in value: 0.31293318732642433. Current best value is 0.3082711644168269 with parameters: {'lambda_l1': 0.005549795039818797, 'lambda_l2': 0.00043722500753797704}.\n",
      "\n",
      "\n",
      "tune_lambda_l1_and_lambda_l2, val_score: 0.308271:  35%|###5      | 7/20 [00:03<00:07,  1.76it/s]"
     ]
    },
    {
     "name": "stdout",
     "output_type": "stream",
     "text": [
      "Training until validation scores don't improve for 100 rounds\n",
      "[100]\ttraining's binary_logloss: 0.225794\tvalid_1's binary_logloss: 0.309698\n",
      "[200]\ttraining's binary_logloss: 0.176707\tvalid_1's binary_logloss: 0.315197\n",
      "Early stopping, best iteration is:\n",
      "[118]\ttraining's binary_logloss: 0.215386\tvalid_1's binary_logloss: 0.307965\n"
     ]
    },
    {
     "name": "stderr",
     "output_type": "stream",
     "text": [
      "\n",
      "\n",
      "tune_lambda_l1_and_lambda_l2, val_score: 0.307965:  35%|###5      | 7/20 [00:04<00:07,  1.76it/s]\n",
      "\n",
      "tune_lambda_l1_and_lambda_l2, val_score: 0.307965:  40%|####      | 8/20 [00:04<00:07,  1.63it/s][I 2020-03-24 14:04:08,109] Finished trial#7 resulted in value: 0.30796538829902576. Current best value is 0.30796538829902576 with parameters: {'lambda_l1': 1.5535603153954658, 'lambda_l2': 1.436465471483599}.\n",
      "\n",
      "\n",
      "tune_lambda_l1_and_lambda_l2, val_score: 0.307965:  40%|####      | 8/20 [00:04<00:07,  1.63it/s]"
     ]
    },
    {
     "name": "stdout",
     "output_type": "stream",
     "text": [
      "Training until validation scores don't improve for 100 rounds\n",
      "[100]\ttraining's binary_logloss: 0.193745\tvalid_1's binary_logloss: 0.317802\n",
      "Early stopping, best iteration is:\n",
      "[63]\ttraining's binary_logloss: 0.226179\tvalid_1's binary_logloss: 0.310085\n"
     ]
    },
    {
     "name": "stderr",
     "output_type": "stream",
     "text": [
      "\n",
      "\n",
      "tune_lambda_l1_and_lambda_l2, val_score: 0.307965:  40%|####      | 8/20 [00:05<00:07,  1.63it/s]\n",
      "\n",
      "tune_lambda_l1_and_lambda_l2, val_score: 0.307965:  45%|####5     | 9/20 [00:05<00:06,  1.61it/s][I 2020-03-24 14:04:08,770] Finished trial#8 resulted in value: 0.3100846945155815. Current best value is 0.30796538829902576 with parameters: {'lambda_l1': 1.5535603153954658, 'lambda_l2': 1.436465471483599}.\n",
      "\n",
      "\n",
      "tune_lambda_l1_and_lambda_l2, val_score: 0.307965:  45%|####5     | 9/20 [00:05<00:06,  1.61it/s]"
     ]
    },
    {
     "name": "stdout",
     "output_type": "stream",
     "text": [
      "Training until validation scores don't improve for 100 rounds\n",
      "[100]\ttraining's binary_logloss: 0.194144\tvalid_1's binary_logloss: 0.317485\n",
      "Early stopping, best iteration is:\n",
      "[80]\ttraining's binary_logloss: 0.211185\tvalid_1's binary_logloss: 0.31335\n"
     ]
    },
    {
     "name": "stderr",
     "output_type": "stream",
     "text": [
      "\n",
      "\n",
      "tune_lambda_l1_and_lambda_l2, val_score: 0.307965:  45%|####5     | 9/20 [00:05<00:06,  1.61it/s]\n",
      "\n",
      "tune_lambda_l1_and_lambda_l2, val_score: 0.307965:  50%|#####     | 10/20 [00:05<00:06,  1.65it/s][I 2020-03-24 14:04:09,319] Finished trial#9 resulted in value: 0.3133497898967219. Current best value is 0.30796538829902576 with parameters: {'lambda_l1': 1.5535603153954658, 'lambda_l2': 1.436465471483599}.\n",
      "\n",
      "\n",
      "tune_lambda_l1_and_lambda_l2, val_score: 0.307965:  50%|#####     | 10/20 [00:05<00:06,  1.65it/s]"
     ]
    },
    {
     "name": "stdout",
     "output_type": "stream",
     "text": [
      "Training until validation scores don't improve for 100 rounds\n",
      "[100]\ttraining's binary_logloss: 0.2172\tvalid_1's binary_logloss: 0.315568\n",
      "Early stopping, best iteration is:\n",
      "[41]\ttraining's binary_logloss: 0.263413\tvalid_1's binary_logloss: 0.311692\n"
     ]
    },
    {
     "name": "stderr",
     "output_type": "stream",
     "text": [
      "\n",
      "\n",
      "tune_lambda_l1_and_lambda_l2, val_score: 0.307965:  50%|#####     | 10/20 [00:06<00:06,  1.65it/s]\n",
      "\n",
      "tune_lambda_l1_and_lambda_l2, val_score: 0.307965:  55%|#####5    | 11/20 [00:06<00:05,  1.73it/s][I 2020-03-24 14:04:09,828] Finished trial#10 resulted in value: 0.3116916688671184. Current best value is 0.30796538829902576 with parameters: {'lambda_l1': 1.5535603153954658, 'lambda_l2': 1.436465471483599}.\n",
      "\n",
      "\n",
      "tune_lambda_l1_and_lambda_l2, val_score: 0.307965:  55%|#####5    | 11/20 [00:06<00:05,  1.73it/s]"
     ]
    },
    {
     "name": "stdout",
     "output_type": "stream",
     "text": [
      "Training until validation scores don't improve for 100 rounds\n",
      "[100]\ttraining's binary_logloss: 0.259114\tvalid_1's binary_logloss: 0.311618\n",
      "Early stopping, best iteration is:\n",
      "[90]\ttraining's binary_logloss: 0.262646\tvalid_1's binary_logloss: 0.310361\n"
     ]
    },
    {
     "name": "stderr",
     "output_type": "stream",
     "text": [
      "\n",
      "\n",
      "tune_lambda_l1_and_lambda_l2, val_score: 0.307965:  55%|#####5    | 11/20 [00:06<00:05,  1.73it/s]\n",
      "\n",
      "tune_lambda_l1_and_lambda_l2, val_score: 0.307965:  60%|######    | 12/20 [00:06<00:04,  1.66it/s][I 2020-03-24 14:04:10,484] Finished trial#11 resulted in value: 0.3103608636734625. Current best value is 0.30796538829902576 with parameters: {'lambda_l1': 1.5535603153954658, 'lambda_l2': 1.436465471483599}.\n",
      "\n",
      "\n",
      "tune_lambda_l1_and_lambda_l2, val_score: 0.307965:  60%|######    | 12/20 [00:06<00:04,  1.66it/s]"
     ]
    },
    {
     "name": "stdout",
     "output_type": "stream",
     "text": [
      "Training until validation scores don't improve for 100 rounds\n",
      "[100]\ttraining's binary_logloss: 0.193856\tvalid_1's binary_logloss: 0.31693\n",
      "Early stopping, best iteration is:\n",
      "[89]\ttraining's binary_logloss: 0.202781\tvalid_1's binary_logloss: 0.313883\n"
     ]
    },
    {
     "name": "stderr",
     "output_type": "stream",
     "text": [
      "\n",
      "\n",
      "tune_lambda_l1_and_lambda_l2, val_score: 0.307965:  60%|######    | 12/20 [00:07<00:04,  1.66it/s]\n",
      "\n",
      "tune_lambda_l1_and_lambda_l2, val_score: 0.307965:  65%|######5   | 13/20 [00:07<00:04,  1.69it/s][I 2020-03-24 14:04:11,054] Finished trial#12 resulted in value: 0.31388258910995487. Current best value is 0.30796538829902576 with parameters: {'lambda_l1': 1.5535603153954658, 'lambda_l2': 1.436465471483599}.\n",
      "\n",
      "\n",
      "tune_lambda_l1_and_lambda_l2, val_score: 0.307965:  65%|######5   | 13/20 [00:07<00:04,  1.69it/s]"
     ]
    },
    {
     "name": "stdout",
     "output_type": "stream",
     "text": [
      "Training until validation scores don't improve for 100 rounds\n",
      "[100]\ttraining's binary_logloss: 0.19329\tvalid_1's binary_logloss: 0.318139\n",
      "Early stopping, best iteration is:\n",
      "[53]\ttraining's binary_logloss: 0.236458\tvalid_1's binary_logloss: 0.313815\n"
     ]
    },
    {
     "name": "stderr",
     "output_type": "stream",
     "text": [
      "\n",
      "\n",
      "tune_lambda_l1_and_lambda_l2, val_score: 0.307965:  65%|######5   | 13/20 [00:07<00:04,  1.69it/s]\n",
      "\n",
      "tune_lambda_l1_and_lambda_l2, val_score: 0.307965:  70%|#######   | 14/20 [00:07<00:03,  1.79it/s][I 2020-03-24 14:04:11,540] Finished trial#13 resulted in value: 0.31381540350270587. Current best value is 0.30796538829902576 with parameters: {'lambda_l1': 1.5535603153954658, 'lambda_l2': 1.436465471483599}.\n",
      "\n",
      "\n",
      "tune_lambda_l1_and_lambda_l2, val_score: 0.307965:  70%|#######   | 14/20 [00:08<00:03,  1.79it/s]"
     ]
    },
    {
     "name": "stdout",
     "output_type": "stream",
     "text": [
      "Training until validation scores don't improve for 100 rounds\n",
      "[100]\ttraining's binary_logloss: 0.192842\tvalid_1's binary_logloss: 0.323836\n",
      "Early stopping, best iteration is:\n",
      "[39]\ttraining's binary_logloss: 0.25182\tvalid_1's binary_logloss: 0.315125\n"
     ]
    },
    {
     "name": "stderr",
     "output_type": "stream",
     "text": [
      "\n",
      "\n",
      "tune_lambda_l1_and_lambda_l2, val_score: 0.307965:  70%|#######   | 14/20 [00:08<00:03,  1.79it/s]\n",
      "\n",
      "tune_lambda_l1_and_lambda_l2, val_score: 0.307965:  75%|#######5  | 15/20 [00:08<00:02,  1.89it/s][I 2020-03-24 14:04:11,997] Finished trial#14 resulted in value: 0.31512496576990645. Current best value is 0.30796538829902576 with parameters: {'lambda_l1': 1.5535603153954658, 'lambda_l2': 1.436465471483599}.\n",
      "\n",
      "\n",
      "tune_lambda_l1_and_lambda_l2, val_score: 0.307965:  75%|#######5  | 15/20 [00:08<00:02,  1.89it/s]"
     ]
    },
    {
     "name": "stdout",
     "output_type": "stream",
     "text": [
      "Training until validation scores don't improve for 100 rounds\n",
      "[100]\ttraining's binary_logloss: 0.19583\tvalid_1's binary_logloss: 0.319589\n",
      "Early stopping, best iteration is:\n",
      "[48]\ttraining's binary_logloss: 0.242667\tvalid_1's binary_logloss: 0.313265\n"
     ]
    },
    {
     "name": "stderr",
     "output_type": "stream",
     "text": [
      "\n",
      "\n",
      "tune_lambda_l1_and_lambda_l2, val_score: 0.307965:  75%|#######5  | 15/20 [00:08<00:02,  1.89it/s]\n",
      "\n",
      "tune_lambda_l1_and_lambda_l2, val_score: 0.307965:  80%|########  | 16/20 [00:08<00:02,  1.93it/s][I 2020-03-24 14:04:12,490] Finished trial#15 resulted in value: 0.3132646651804912. Current best value is 0.30796538829902576 with parameters: {'lambda_l1': 1.5535603153954658, 'lambda_l2': 1.436465471483599}.\n",
      "\n",
      "\n",
      "tune_lambda_l1_and_lambda_l2, val_score: 0.307965:  80%|########  | 16/20 [00:08<00:02,  1.93it/s]"
     ]
    },
    {
     "name": "stdout",
     "output_type": "stream",
     "text": [
      "Training until validation scores don't improve for 100 rounds\n",
      "[100]\ttraining's binary_logloss: 0.245855\tvalid_1's binary_logloss: 0.313805\n",
      "Early stopping, best iteration is:\n",
      "[56]\ttraining's binary_logloss: 0.269537\tvalid_1's binary_logloss: 0.311228\n"
     ]
    },
    {
     "name": "stderr",
     "output_type": "stream",
     "text": [
      "\n",
      "\n",
      "tune_lambda_l1_and_lambda_l2, val_score: 0.307965:  80%|########  | 16/20 [00:09<00:02,  1.93it/s]\n",
      "\n",
      "tune_lambda_l1_and_lambda_l2, val_score: 0.307965:  85%|########5 | 17/20 [00:09<00:01,  1.94it/s][I 2020-03-24 14:04:13,000] Finished trial#16 resulted in value: 0.31122833691394325. Current best value is 0.30796538829902576 with parameters: {'lambda_l1': 1.5535603153954658, 'lambda_l2': 1.436465471483599}.\n",
      "\n",
      "\n",
      "tune_lambda_l1_and_lambda_l2, val_score: 0.307965:  85%|########5 | 17/20 [00:09<00:01,  1.94it/s]"
     ]
    },
    {
     "name": "stdout",
     "output_type": "stream",
     "text": [
      "Training until validation scores don't improve for 100 rounds\n",
      "[100]\ttraining's binary_logloss: 0.192881\tvalid_1's binary_logloss: 0.319813\n",
      "Early stopping, best iteration is:\n",
      "[51]\ttraining's binary_logloss: 0.239343\tvalid_1's binary_logloss: 0.313413\n"
     ]
    },
    {
     "name": "stderr",
     "output_type": "stream",
     "text": [
      "\n",
      "\n",
      "tune_lambda_l1_and_lambda_l2, val_score: 0.307965:  85%|########5 | 17/20 [00:09<00:01,  1.94it/s]\n",
      "\n",
      "tune_lambda_l1_and_lambda_l2, val_score: 0.307965:  90%|######### | 18/20 [00:09<00:01,  1.90it/s][I 2020-03-24 14:04:13,551] Finished trial#17 resulted in value: 0.31341290475632755. Current best value is 0.30796538829902576 with parameters: {'lambda_l1': 1.5535603153954658, 'lambda_l2': 1.436465471483599}.\n",
      "\n",
      "\n",
      "tune_lambda_l1_and_lambda_l2, val_score: 0.307965:  90%|######### | 18/20 [00:10<00:01,  1.90it/s]"
     ]
    },
    {
     "name": "stdout",
     "output_type": "stream",
     "text": [
      "Training until validation scores don't improve for 100 rounds\n",
      "[100]\ttraining's binary_logloss: 0.191222\tvalid_1's binary_logloss: 0.318538\n",
      "Early stopping, best iteration is:\n",
      "[43]\ttraining's binary_logloss: 0.24689\tvalid_1's binary_logloss: 0.310566\n"
     ]
    },
    {
     "name": "stderr",
     "output_type": "stream",
     "text": [
      "\n",
      "\n",
      "tune_lambda_l1_and_lambda_l2, val_score: 0.307965:  90%|######### | 18/20 [00:10<00:01,  1.90it/s]\n",
      "\n",
      "tune_lambda_l1_and_lambda_l2, val_score: 0.307965:  95%|#########5| 19/20 [00:10<00:00,  1.97it/s][I 2020-03-24 14:04:14,014] Finished trial#18 resulted in value: 0.3105657319706272. Current best value is 0.30796538829902576 with parameters: {'lambda_l1': 1.5535603153954658, 'lambda_l2': 1.436465471483599}.\n",
      "\n",
      "\n",
      "tune_lambda_l1_and_lambda_l2, val_score: 0.307965:  95%|#########5| 19/20 [00:10<00:00,  1.97it/s]"
     ]
    },
    {
     "name": "stdout",
     "output_type": "stream",
     "text": [
      "Training until validation scores don't improve for 100 rounds\n",
      "[100]\ttraining's binary_logloss: 0.1971\tvalid_1's binary_logloss: 0.321443\n",
      "Early stopping, best iteration is:\n",
      "[30]\ttraining's binary_logloss: 0.266067\tvalid_1's binary_logloss: 0.313631\n"
     ]
    },
    {
     "name": "stderr",
     "output_type": "stream",
     "text": [
      "\n",
      "\n",
      "tune_lambda_l1_and_lambda_l2, val_score: 0.307965:  95%|#########5| 19/20 [00:10<00:00,  1.97it/s]\n",
      "\n",
      "tune_lambda_l1_and_lambda_l2, val_score: 0.307965: 100%|##########| 20/20 [00:10<00:00,  2.03it/s][I 2020-03-24 14:04:14,475] Finished trial#19 resulted in value: 0.31363143998188486. Current best value is 0.30796538829902576 with parameters: {'lambda_l1': 1.5535603153954658, 'lambda_l2': 1.436465471483599}.\n",
      "tune_lambda_l1_and_lambda_l2, val_score: 0.307965: 100%|##########| 20/20 [00:10<00:00,  1.82it/s]\n",
      "\n",
      "\n",
      "  0%|          | 0/5 [00:00<?, ?it/s]\n",
      "\n",
      "tune_min_child_samples, val_score: 0.307965:   0%|          | 0/5 [00:00<?, ?it/s]"
     ]
    },
    {
     "name": "stdout",
     "output_type": "stream",
     "text": [
      "Training until validation scores don't improve for 100 rounds\n",
      "[100]\ttraining's binary_logloss: 0.222923\tvalid_1's binary_logloss: 0.312926\n",
      "Early stopping, best iteration is:\n",
      "[80]\ttraining's binary_logloss: 0.23583\tvalid_1's binary_logloss: 0.309367\n"
     ]
    },
    {
     "name": "stderr",
     "output_type": "stream",
     "text": [
      "\n",
      "\n",
      "tune_min_child_samples, val_score: 0.307965:   0%|          | 0/5 [00:00<?, ?it/s]\n",
      "\n",
      "tune_min_child_samples, val_score: 0.307965:  20%|##        | 1/5 [00:00<00:02,  1.73it/s][I 2020-03-24 14:04:15,150] Finished trial#0 resulted in value: 0.30936675448436735. Current best value is 0.30936675448436735 with parameters: {'min_child_samples': 5}.\n",
      "\n",
      "\n",
      "tune_min_child_samples, val_score: 0.307965:  20%|##        | 1/5 [00:00<00:02,  1.73it/s]"
     ]
    },
    {
     "name": "stdout",
     "output_type": "stream",
     "text": [
      "Training until validation scores don't improve for 100 rounds\n",
      "[100]\ttraining's binary_logloss: 0.223705\tvalid_1's binary_logloss: 0.314075\n",
      "Early stopping, best iteration is:\n",
      "[62]\ttraining's binary_logloss: 0.249314\tvalid_1's binary_logloss: 0.31078\n"
     ]
    },
    {
     "name": "stderr",
     "output_type": "stream",
     "text": [
      "\n",
      "\n",
      "tune_min_child_samples, val_score: 0.307965:  20%|##        | 1/5 [00:01<00:02,  1.73it/s]\n",
      "\n",
      "tune_min_child_samples, val_score: 0.307965:  40%|####      | 2/5 [00:01<00:01,  1.76it/s][I 2020-03-24 14:04:15,694] Finished trial#1 resulted in value: 0.3107803884819256. Current best value is 0.30936675448436735 with parameters: {'min_child_samples': 5}.\n",
      "\n",
      "\n",
      "tune_min_child_samples, val_score: 0.307965:  40%|####      | 2/5 [00:01<00:01,  1.76it/s]"
     ]
    },
    {
     "name": "stdout",
     "output_type": "stream",
     "text": [
      "Training until validation scores don't improve for 100 rounds\n",
      "[100]\ttraining's binary_logloss: 0.225691\tvalid_1's binary_logloss: 0.313664\n",
      "Early stopping, best iteration is:\n",
      "[40]\ttraining's binary_logloss: 0.268398\tvalid_1's binary_logloss: 0.3103\n"
     ]
    },
    {
     "name": "stderr",
     "output_type": "stream",
     "text": [
      "\n",
      "\n",
      "tune_min_child_samples, val_score: 0.307965:  40%|####      | 2/5 [00:01<00:01,  1.76it/s]\n",
      "\n",
      "tune_min_child_samples, val_score: 0.307965:  60%|######    | 3/5 [00:01<00:01,  1.85it/s][I 2020-03-24 14:04:16,166] Finished trial#2 resulted in value: 0.3103002730433472. Current best value is 0.30936675448436735 with parameters: {'min_child_samples': 5}.\n",
      "\n",
      "\n",
      "tune_min_child_samples, val_score: 0.307965:  60%|######    | 3/5 [00:01<00:01,  1.85it/s]"
     ]
    },
    {
     "name": "stdout",
     "output_type": "stream",
     "text": [
      "Training until validation scores don't improve for 100 rounds\n",
      "[100]\ttraining's binary_logloss: 0.22995\tvalid_1's binary_logloss: 0.318165\n",
      "Early stopping, best iteration is:\n",
      "[84]\ttraining's binary_logloss: 0.239366\tvalid_1's binary_logloss: 0.315334\n"
     ]
    },
    {
     "name": "stderr",
     "output_type": "stream",
     "text": [
      "\n",
      "\n",
      "tune_min_child_samples, val_score: 0.307965:  60%|######    | 3/5 [00:02<00:01,  1.85it/s]\n",
      "\n",
      "tune_min_child_samples, val_score: 0.307965:  80%|########  | 4/5 [00:02<00:00,  1.75it/s][I 2020-03-24 14:04:16,812] Finished trial#3 resulted in value: 0.3153336652994936. Current best value is 0.30936675448436735 with parameters: {'min_child_samples': 5}.\n",
      "\n",
      "\n",
      "tune_min_child_samples, val_score: 0.307965:  80%|########  | 4/5 [00:02<00:00,  1.75it/s]"
     ]
    },
    {
     "name": "stdout",
     "output_type": "stream",
     "text": [
      "Training until validation scores don't improve for 100 rounds\n",
      "[100]\ttraining's binary_logloss: 0.244328\tvalid_1's binary_logloss: 0.318829\n",
      "Early stopping, best iteration is:\n",
      "[58]\ttraining's binary_logloss: 0.266739\tvalid_1's binary_logloss: 0.315292\n"
     ]
    },
    {
     "name": "stderr",
     "output_type": "stream",
     "text": [
      "\n",
      "\n",
      "tune_min_child_samples, val_score: 0.307965:  80%|########  | 4/5 [00:02<00:00,  1.75it/s]\n",
      "\n",
      "tune_min_child_samples, val_score: 0.307965: 100%|##########| 5/5 [00:02<00:00,  1.86it/s][I 2020-03-24 14:04:17,275] Finished trial#4 resulted in value: 0.3152923574682106. Current best value is 0.30936675448436735 with parameters: {'min_child_samples': 5}.\n",
      "tune_min_child_samples, val_score: 0.307965: 100%|##########| 5/5 [00:02<00:00,  1.79it/s]\n"
     ]
    }
   ],
   "source": [
    "tgt2params = {k:\n",
    "#               {'num_leaves': 64, 'objective': 'binary', \n",
    "#              'metric': 'auc'}\n",
    "                {\n",
    "                        \"objective\": \"binary\",\n",
    "                        \"metric\": \"binary_logloss\",\n",
    "                        \"verbosity\": 1,\n",
    "                        \"boosting_type\": \"gbdt\",\n",
    "                    }\n",
    "              for k in tgts}\n",
    "\n",
    "tgt2bst={}\n",
    "# tgt2evalres={}\n",
    "tgt2best_params={}\n",
    "tgt2tuning_history={}\n",
    "tgt2ytr={}\n",
    "tgt2yvl={}\n",
    "tgt2prdtr={}\n",
    "tgt2prdvl={}\n",
    "tgt2pops={}\n",
    "for tgt in tgts:\n",
    "    print(dtnow(), tgt, '*'*80)\n",
    "    do_tgt(tgt)\n",
    "    \n",
    "pickle.dump(tgt2bst, open(f\"{p_out}/tgt2bst.p\", \"wb\"))"
   ]
  },
  {
   "cell_type": "markdown",
   "metadata": {},
   "source": [
    "# analyze"
   ]
  },
  {
   "cell_type": "markdown",
   "metadata": {},
   "source": [
    "## tr vl"
   ]
  },
  {
   "cell_type": "raw",
   "metadata": {
    "scrolled": false
   },
   "source": [
    "for tgt in tgt2evalres:\n",
    "    evalres=tgt2evalres[tgt]\n",
    "    plt.plot(evalres['train']['logloss'][10:])\n",
    "    plt.plot(evalres['eval']['logloss'][10:])\n",
    "    plt.title(f\"{tgt} logloss {len(evalres['train']['logloss'])} rounds\")\n",
    "    plt.show()\n",
    "    plt.plot(evalres['train']['aucpr'])\n",
    "    plt.plot(evalres['eval']['aucpr'])\n",
    "    plt.title(f\"{tgt} aucpr {len(evalres['train']['aucpr'])} rounds\")\n",
    "    plt.show()"
   ]
  },
  {
   "cell_type": "raw",
   "metadata": {
    "scrolled": false
   },
   "source": [
    "def show_feat_importance(tgt):\n",
    "    bst=tgt2bst[tgt]\n",
    "    ax = xgb.plot_importance(bst, height=0.8, max_num_features=9)\n",
    "    ax.grid(False, axis=\"y\")\n",
    "    ax.set_title(f'{tgt} Estimated feature importance')\n",
    "    plt.show()\n",
    "    feat2importance=bst.get_fscore()\n",
    "    print(tgt)\n",
    "    display(pd.DataFrame([feat2importance.keys(), \n",
    "                          feat2importance.values()]).T.sort_values(1, ascending=False))\n",
    "\n",
    "for tgt in tgt2bst:\n",
    "    show_feat_importance(tgt)"
   ]
  },
  {
   "cell_type": "code",
   "execution_count": 105,
   "metadata": {},
   "outputs": [
    {
     "name": "stdout",
     "output_type": "stream",
     "text": [
      "Retweet\n",
      "tr prauc: 0.2990 tr rce: 8.5593\n",
      "vl prauc: 0.2934 vl rce: 8.1900\n",
      "Reply\n",
      "tr prauc: 0.3034 tr rce: 11.6584\n",
      "vl prauc: 0.3041 vl rce: 11.5324\n",
      "Like\n",
      "tr prauc: 0.6533 tr rce: 8.7089\n",
      "vl prauc: 0.6484 vl rce: 8.4582\n",
      "RTwCmnt\n",
      "tr prauc: 0.2178 tr rce: 5.9845\n",
      "vl prauc: 0.2116 vl rce: 5.7776\n"
     ]
    }
   ],
   "source": [
    "tgt2auc_tr={}\n",
    "tgt2rce_tr={}\n",
    "tgt2auc_vl={}\n",
    "tgt2rce_vl={}\n",
    "for tgt in tgt2bst:\n",
    "    print(tgt)\n",
    "    prdtr_i, prdvl_i = tgt2prdtr[tgt], tgt2prdvl[tgt]\n",
    "    ytr_i, yvl_i = tgt2ytr[tgt], tgt2yvl[tgt]\n",
    "    scr_auc_tr=compute_prauc(prdtr_i, ytr_i)\n",
    "    scr_rce_tr=compute_rce(prdtr_i, ytr_i)\n",
    "    scr_auc_vl=compute_prauc(prdvl_i, yvl_i)\n",
    "    scr_rce_vl=compute_rce(prdvl_i, yvl_i)\n",
    "\n",
    "    tgt2auc_tr[tgt]=scr_auc_tr\n",
    "    tgt2rce_tr[tgt]=scr_rce_tr\n",
    "    tgt2auc_vl[tgt]=scr_auc_vl\n",
    "    tgt2rce_vl[tgt]=scr_rce_vl\n",
    "    \n",
    "    print('tr prauc:', f'{scr_auc_tr:.4f}','tr rce:', f'{scr_rce_tr:.4f}', )\n",
    "    print('vl prauc:', f'{scr_auc_vl:.4f}','vl rce:', f'{scr_rce_vl:.4f}', )"
   ]
  },
  {
   "cell_type": "code",
   "execution_count": 106,
   "metadata": {},
   "outputs": [
    {
     "data": {
      "text/html": [
       "<div>\n",
       "<style scoped>\n",
       "    .dataframe tbody tr th:only-of-type {\n",
       "        vertical-align: middle;\n",
       "    }\n",
       "\n",
       "    .dataframe tbody tr th {\n",
       "        vertical-align: top;\n",
       "    }\n",
       "\n",
       "    .dataframe thead th {\n",
       "        text-align: right;\n",
       "    }\n",
       "</style>\n",
       "<table border=\"1\" class=\"dataframe\">\n",
       "  <thead>\n",
       "    <tr style=\"text-align: right;\">\n",
       "      <th></th>\n",
       "      <th>0</th>\n",
       "      <th>1</th>\n",
       "      <th>2</th>\n",
       "      <th>3</th>\n",
       "      <th>4</th>\n",
       "      <th>5</th>\n",
       "      <th>6</th>\n",
       "      <th>7</th>\n",
       "    </tr>\n",
       "  </thead>\n",
       "  <tbody>\n",
       "    <tr>\n",
       "      <th>metric</th>\n",
       "      <td>PRAUC Retweet</td>\n",
       "      <td>RCE Retweet</td>\n",
       "      <td>PRAUC Reply</td>\n",
       "      <td>RCE Reply</td>\n",
       "      <td>PRAUC Like</td>\n",
       "      <td>RCE Like</td>\n",
       "      <td>PRAUC RTwCmnt</td>\n",
       "      <td>RCE RTwCmnt</td>\n",
       "    </tr>\n",
       "    <tr>\n",
       "      <th>scrtr</th>\n",
       "      <td>0.299043</td>\n",
       "      <td>8.55929</td>\n",
       "      <td>0.303391</td>\n",
       "      <td>11.6584</td>\n",
       "      <td>0.653263</td>\n",
       "      <td>8.70891</td>\n",
       "      <td>0.217795</td>\n",
       "      <td>5.98445</td>\n",
       "    </tr>\n",
       "    <tr>\n",
       "      <th>scrvl</th>\n",
       "      <td>0.293397</td>\n",
       "      <td>8.18997</td>\n",
       "      <td>0.30405</td>\n",
       "      <td>11.5324</td>\n",
       "      <td>0.648404</td>\n",
       "      <td>8.45819</td>\n",
       "      <td>0.211643</td>\n",
       "      <td>5.7776</td>\n",
       "    </tr>\n",
       "  </tbody>\n",
       "</table>\n",
       "</div>"
      ],
      "text/plain": [
       "                    0            1            2          3           4  \\\n",
       "metric  PRAUC Retweet  RCE Retweet  PRAUC Reply  RCE Reply  PRAUC Like   \n",
       "scrtr        0.299043      8.55929     0.303391    11.6584    0.653263   \n",
       "scrvl        0.293397      8.18997      0.30405    11.5324    0.648404   \n",
       "\n",
       "               5              6            7  \n",
       "metric  RCE Like  PRAUC RTwCmnt  RCE RTwCmnt  \n",
       "scrtr    8.70891       0.217795      5.98445  \n",
       "scrvl    8.45819       0.211643       5.7776  "
      ]
     },
     "execution_count": 106,
     "metadata": {},
     "output_type": "execute_result"
    }
   ],
   "source": [
    "lsttr=[]\n",
    "lstvl=[]\n",
    "for tgt in ['Retweet','Reply','Like','RTwCmnt',]:\n",
    "    if tgt not in tgt2bst: continue\n",
    "    lsttr+=[(f'PRAUC {tgt}',tgt2auc_tr[tgt]),\n",
    "          (f'RCE {tgt}',tgt2rce_tr[tgt])]\n",
    "    lstvl+=[(f'PRAUC {tgt}',tgt2auc_vl[tgt]),\n",
    "          (f'RCE {tgt}',tgt2rce_vl[tgt])]\n",
    "\n",
    "dfscrtr=pd.DataFrame(lsttr)\n",
    "dfscrtr.columns=['metric','scr']\n",
    "dfscrvl=pd.DataFrame(lstvl)\n",
    "dfscrvl.columns=['metric','scr']\n",
    "dfscr = pd.merge(dfscrtr, dfscrvl, on='metric', suffixes=('tr','vl'))\n",
    "dfscr.T"
   ]
  },
  {
   "cell_type": "markdown",
   "metadata": {},
   "source": [
    "## valid"
   ]
  },
  {
   "cell_type": "code",
   "execution_count": 107,
   "metadata": {},
   "outputs": [],
   "source": [
    "# tgt=tgts[1]\n",
    "# tgtcol=tgt2col[tgt]\n",
    "# bst=tgt2bst[tgt]\n",
    "\n",
    "# dvalid=xgb.DMatrix(dfvalid[cols_feat], label=dfvalid[tgtcol], feature_names=cols_feat)\n",
    "\n",
    "# prdvalid = bst.predict(dvalid, ntree_limit=bst.best_ntree_limit)\n",
    "\n",
    "# pops=tgt2pops[tgt]\n",
    "\n",
    "# prdvalid[:10]\n",
    "# # array([0.11734424, 0.09971393, 0.05619054, 0.03059793, 0.07979691,\n",
    "# #        0.01358252, 0.05293725, 0.27954698, 0.05738379, 0.01741553],\n",
    "# #       dtype=float32)\n",
    "\n",
    "\n",
    "# pops\n",
    "# # {'train_pop': 4000000,\n",
    "# #  'target_pop': 109752,\n",
    "# #  'sampled_train_pop': 1000000,\n",
    "# #  'sampled_target_pop': 109752}\n",
    "\n",
    "# prdvalid_calib = calibration(prdvalid, **pops)\n",
    "\n",
    "# prdvalid_calib[:10]\n",
    "# # array([0.02952491, 0.02471944, 0.01344113, 0.00717127, 0.01945818,\n",
    "# #        0.00314114, 0.0126298 , 0.08155248, 0.01373977, 0.00403964],\n",
    "# #       dtype=float32)"
   ]
  },
  {
   "cell_type": "code",
   "execution_count": 108,
   "metadata": {},
   "outputs": [],
   "source": [
    "def do_post_valid(tgt):\n",
    "    tgtcol=tgt2col[tgt]\n",
    "    bst=tgt2bst[tgt]\n",
    "    pops=tgt2pops[tgt]\n",
    "    prdvalid = bst.predict(dfvalid[cols_feat])\n",
    "    prdvalid_calib = calibration(prdvalid, **pops)\n",
    "    return prdvalid,prdvalid_calib"
   ]
  },
  {
   "cell_type": "code",
   "execution_count": 109,
   "metadata": {},
   "outputs": [
    {
     "name": "stdout",
     "output_type": "stream",
     "text": [
      "2020-03-24 03:33:23 Retweet\n",
      "2020-03-24 03:33:34 Reply\n",
      "2020-03-24 03:33:43 Like\n",
      "2020-03-24 03:33:55 RTwCmnt\n"
     ]
    }
   ],
   "source": [
    "tgt2yvalid={tgt:dfvalid[tgt2col[tgt]] for tgt in tgts}\n",
    "tgt2prdvalid={}\n",
    "tgt2prdvalid_calib={}\n",
    "for tgt in tgts:\n",
    "    print(dtnow(), tgt)\n",
    "    tgt2prdvalid[tgt],tgt2prdvalid_calib[tgt]=do_post_valid(tgt)\n"
   ]
  },
  {
   "cell_type": "code",
   "execution_count": 110,
   "metadata": {},
   "outputs": [
    {
     "name": "stdout",
     "output_type": "stream",
     "text": [
      "2020-03-24 03:34:07 Retweet\n",
      "2020-03-24 03:34:10 Reply\n",
      "2020-03-24 03:34:14 Like\n",
      "2020-03-24 03:34:17 RTwCmnt\n"
     ]
    }
   ],
   "source": [
    "tgt2auc_valid={}\n",
    "tgt2rce_valid={}\n",
    "tgt2auc_valid_calib={}\n",
    "tgt2rce_valid_calib={}\n",
    "for tgt in tgts:\n",
    "    print(dtnow(), tgt)\n",
    "    prdvalid, prdvalid_calib = tgt2prdvalid[tgt], tgt2prdvalid_calib[tgt]\n",
    "    yvalid = tgt2yvalid[tgt]\n",
    "    scr_auc_valid=compute_prauc(prdvalid, yvalid)\n",
    "    scr_rce_valid=compute_rce(prdvalid, yvalid)\n",
    "    scr_auc_valid_calib=compute_prauc(prdvalid_calib, yvalid)\n",
    "    scr_rce_valid_calib=compute_rce(prdvalid_calib, yvalid)\n",
    "\n",
    "    tgt2auc_valid[tgt]=scr_auc_valid\n",
    "    tgt2rce_valid[tgt]=scr_rce_valid\n",
    "    tgt2auc_valid_calib[tgt]=scr_auc_valid_calib\n",
    "    tgt2rce_valid_calib[tgt]=scr_rce_valid_calib"
   ]
  },
  {
   "cell_type": "code",
   "execution_count": 111,
   "metadata": {},
   "outputs": [
    {
     "name": "stdout",
     "output_type": "stream",
     "text": [
      "Retweet\n",
      "tr          prauc: 0.2990 tr rce: 8.5593\n",
      "vl          prauc: 0.2934 tr rce: 8.1900\n",
      "valid       prauc: 0.2905 tr rce: 8.2118\n",
      "valid_calib prauc: 0.2905 tr rce: 8.2118\n",
      "Reply\n",
      "tr          prauc: 0.3034 tr rce: 11.6584\n",
      "vl          prauc: 0.3041 tr rce: 11.5324\n",
      "valid       prauc: 0.0972 tr rce: -26.4591\n",
      "valid_calib prauc: 0.0972 tr rce: 8.9411\n",
      "Like\n",
      "tr          prauc: 0.6533 tr rce: 8.7089\n",
      "vl          prauc: 0.6484 tr rce: 8.4582\n",
      "valid       prauc: 0.6471 tr rce: 8.4671\n",
      "valid_calib prauc: 0.6471 tr rce: 8.4671\n",
      "RTwCmnt\n",
      "tr          prauc: 0.2178 tr rce: 5.9845\n",
      "vl          prauc: 0.2116 tr rce: 5.7776\n",
      "valid       prauc: 0.0195 tr rce: -165.7833\n",
      "valid_calib prauc: 0.0195 tr rce: 3.5912\n"
     ]
    }
   ],
   "source": [
    "for tgt in tgts:\n",
    "    print(tgt)\n",
    "    print('tr          prauc:', f'{tgt2auc_tr[tgt]:.4f}','tr rce:', f'{tgt2rce_tr[tgt]:.4f}', )\n",
    "    print('vl          prauc:', f'{tgt2auc_vl[tgt]:.4f}','tr rce:', f'{tgt2rce_vl[tgt]:.4f}', )\n",
    "    print('valid       prauc:', f'{tgt2auc_valid[tgt]:.4f}','tr rce:', f'{tgt2rce_valid[tgt]:.4f}', )\n",
    "    print('valid_calib prauc:', f'{tgt2auc_valid_calib[tgt]:.4f}','tr rce:', f'{tgt2rce_valid_calib[tgt]:.4f}', )\n",
    "    "
   ]
  },
  {
   "cell_type": "code",
   "execution_count": 112,
   "metadata": {},
   "outputs": [
    {
     "data": {
      "text/html": [
       "<div>\n",
       "<style scoped>\n",
       "    .dataframe tbody tr th:only-of-type {\n",
       "        vertical-align: middle;\n",
       "    }\n",
       "\n",
       "    .dataframe tbody tr th {\n",
       "        vertical-align: top;\n",
       "    }\n",
       "\n",
       "    .dataframe thead th {\n",
       "        text-align: right;\n",
       "    }\n",
       "</style>\n",
       "<table border=\"1\" class=\"dataframe\">\n",
       "  <thead>\n",
       "    <tr style=\"text-align: right;\">\n",
       "      <th></th>\n",
       "      <th>0</th>\n",
       "      <th>1</th>\n",
       "      <th>2</th>\n",
       "      <th>3</th>\n",
       "      <th>4</th>\n",
       "      <th>5</th>\n",
       "      <th>6</th>\n",
       "      <th>7</th>\n",
       "    </tr>\n",
       "  </thead>\n",
       "  <tbody>\n",
       "    <tr>\n",
       "      <th>scr</th>\n",
       "      <td>PRAUC Retweet</td>\n",
       "      <td>RCE Retweet</td>\n",
       "      <td>PRAUC Reply</td>\n",
       "      <td>RCE Reply</td>\n",
       "      <td>PRAUC Like</td>\n",
       "      <td>RCE Like</td>\n",
       "      <td>PRAUC RTwCmnt</td>\n",
       "      <td>RCE RTwCmnt</td>\n",
       "    </tr>\n",
       "    <tr>\n",
       "      <th>tr</th>\n",
       "      <td>0.299043</td>\n",
       "      <td>8.55929</td>\n",
       "      <td>0.303391</td>\n",
       "      <td>11.6584</td>\n",
       "      <td>0.653263</td>\n",
       "      <td>8.70891</td>\n",
       "      <td>0.217795</td>\n",
       "      <td>5.98445</td>\n",
       "    </tr>\n",
       "    <tr>\n",
       "      <th>vl</th>\n",
       "      <td>0.293397</td>\n",
       "      <td>8.18997</td>\n",
       "      <td>0.30405</td>\n",
       "      <td>11.5324</td>\n",
       "      <td>0.648404</td>\n",
       "      <td>8.45819</td>\n",
       "      <td>0.211643</td>\n",
       "      <td>5.7776</td>\n",
       "    </tr>\n",
       "    <tr>\n",
       "      <th>valid</th>\n",
       "      <td>0.290495</td>\n",
       "      <td>8.21179</td>\n",
       "      <td>0.0971804</td>\n",
       "      <td>-26.4591</td>\n",
       "      <td>0.647119</td>\n",
       "      <td>8.46709</td>\n",
       "      <td>0.0194639</td>\n",
       "      <td>-165.783</td>\n",
       "    </tr>\n",
       "    <tr>\n",
       "      <th>valid_calib</th>\n",
       "      <td>0.290495</td>\n",
       "      <td>8.21179</td>\n",
       "      <td>0.0971804</td>\n",
       "      <td>8.94107</td>\n",
       "      <td>0.647119</td>\n",
       "      <td>8.46709</td>\n",
       "      <td>0.0194639</td>\n",
       "      <td>3.59116</td>\n",
       "    </tr>\n",
       "  </tbody>\n",
       "</table>\n",
       "</div>"
      ],
      "text/plain": [
       "                         0            1            2          3           4  \\\n",
       "scr          PRAUC Retweet  RCE Retweet  PRAUC Reply  RCE Reply  PRAUC Like   \n",
       "tr                0.299043      8.55929     0.303391    11.6584    0.653263   \n",
       "vl                0.293397      8.18997      0.30405    11.5324    0.648404   \n",
       "valid             0.290495      8.21179    0.0971804   -26.4591    0.647119   \n",
       "valid_calib       0.290495      8.21179    0.0971804    8.94107    0.647119   \n",
       "\n",
       "                    5              6            7  \n",
       "scr          RCE Like  PRAUC RTwCmnt  RCE RTwCmnt  \n",
       "tr            8.70891       0.217795      5.98445  \n",
       "vl            8.45819       0.211643       5.7776  \n",
       "valid         8.46709      0.0194639     -165.783  \n",
       "valid_calib   8.46709      0.0194639      3.59116  "
      ]
     },
     "execution_count": 112,
     "metadata": {},
     "output_type": "execute_result"
    }
   ],
   "source": [
    "lsttr=[]\n",
    "lstvl=[]\n",
    "lstvalid=[]\n",
    "lstvalid_calib=[]\n",
    "for tgt in ['Retweet','Reply','Like','RTwCmnt',]:\n",
    "    if tgt not in tgt2bst: continue\n",
    "    lsttr+=[(f'PRAUC {tgt}',tgt2auc_tr[tgt]),\n",
    "          (f'RCE {tgt}',tgt2rce_tr[tgt])]\n",
    "    lstvl+=[(f'PRAUC {tgt}',tgt2auc_vl[tgt]),\n",
    "          (f'RCE {tgt}',tgt2rce_vl[tgt])]\n",
    "    lstvalid+=[(f'PRAUC {tgt}',tgt2auc_valid[tgt]),\n",
    "          (f'RCE {tgt}',tgt2rce_valid[tgt])]\n",
    "    lstvalid_calib+=[(f'PRAUC {tgt}',tgt2auc_valid_calib[tgt]),\n",
    "          (f'RCE {tgt}',tgt2rce_valid_calib[tgt])]\n",
    "\n",
    "dfscrtr=pd.DataFrame(lsttr)\n",
    "dfscrtr.columns=['metric','scr']\n",
    "dfscrvl=pd.DataFrame(lstvl)\n",
    "dfscrvl.columns=['metric','scr']\n",
    "dfscrvalid=pd.DataFrame(lstvalid)\n",
    "dfscrvalid.columns=['metric','scr']\n",
    "dfscrvalid_calib=pd.DataFrame(lstvalid_calib)\n",
    "dfscrvalid_calib.columns=['metric','scr']\n",
    "\n",
    "dfscr = reduce(lambda df1,df2: pd.merge(df1,df2,on='metric'), \n",
    "            [dfscrtr,dfscrvl,dfscrvalid,dfscrvalid_calib])\n",
    "\n",
    "dfscr.columns=['scr','tr','vl','valid','valid_calib']\n",
    "dfscr.T"
   ]
  },
  {
   "cell_type": "code",
   "execution_count": null,
   "metadata": {},
   "outputs": [],
   "source": []
  },
  {
   "cell_type": "markdown",
   "metadata": {},
   "source": [
    "# infer"
   ]
  },
  {
   "cell_type": "raw",
   "metadata": {},
   "source": [
    "ls -lhS $p_in | grep val"
   ]
  },
  {
   "cell_type": "code",
   "execution_count": null,
   "metadata": {},
   "outputs": [],
   "source": [
    "%%time\n",
    "dftst=pd.read_csv(\n",
    "    f'{p_in}/val_{valtmstmp}.tsv',\n",
    "#     f'{p_in}/val_259A6F6DFD672CB1F883CBEC01B99F2D_1584405047.tsv',\n",
    "    sep='\\x01', header=None, names=cols_val,)\n"
   ]
  },
  {
   "cell_type": "code",
   "execution_count": null,
   "metadata": {
    "scrolled": false
   },
   "outputs": [],
   "source": [
    "%%time\n",
    "dftst = prp_df(dftst, istrn=False)"
   ]
  },
  {
   "cell_type": "code",
   "execution_count": null,
   "metadata": {},
   "outputs": [],
   "source": [
    "%%time\n",
    "dtst = xgb.DMatrix(dftst[cols_feat], feature_names=cols_feat)\n",
    "tgt2prdtst={}\n",
    "for tgt in tgts:\n",
    "    print(dtnow(), tgt)\n",
    "    bst = tgt2bst[tgt]\n",
    "    pops=tgt2pops[tgt]\n",
    "    prdtst = bst.predict(dtst, ntree_limit=bst.best_ntree_limit)\n",
    "    prdtst_calib = calibration(prdtst, **pops)\n",
    "    tgt2prdtst[tgt] = prdtst_calib"
   ]
  },
  {
   "cell_type": "code",
   "execution_count": null,
   "metadata": {},
   "outputs": [],
   "source": [
    "dfsub_ids = dftst[['twtid','u2id',]]\n",
    "\n",
    "tgt2dfsub = {}\n",
    "for tgt,prdtst in tgt2prdtst.items():\n",
    "    dfsub = dfsub_ids.copy()\n",
    "    dfsub['scr'] = prdtst\n",
    "    tgt2dfsub[tgt]=dfsub"
   ]
  },
  {
   "cell_type": "code",
   "execution_count": null,
   "metadata": {},
   "outputs": [],
   "source": [
    "%%time\n",
    "for i,tgt in enumerate(['Retweet','Reply','RTwCmnt','Like',]):\n",
    "    dfsub = tgt2dfsub[tgt]\n",
    "    print(dtnow(), tgt)\n",
    "    dfsub.to_csv(f'{p_out}/{i}_{tgt}__{valtmstmp}__{PRFX}.csv',index=False,header=False)"
   ]
  },
  {
   "cell_type": "code",
   "execution_count": null,
   "metadata": {},
   "outputs": [],
   "source": []
  },
  {
   "cell_type": "code",
   "execution_count": null,
   "metadata": {},
   "outputs": [],
   "source": []
  },
  {
   "cell_type": "code",
   "execution_count": null,
   "metadata": {},
   "outputs": [],
   "source": []
  },
  {
   "cell_type": "code",
   "execution_count": null,
   "metadata": {},
   "outputs": [],
   "source": []
  },
  {
   "cell_type": "code",
   "execution_count": null,
   "metadata": {},
   "outputs": [],
   "source": []
  }
 ],
 "metadata": {
  "kernelspec": {
   "display_name": "rcss20",
   "language": "python",
   "name": "rcss20"
  },
  "language_info": {
   "codemirror_mode": {
    "name": "ipython",
    "version": 3
   },
   "file_extension": ".py",
   "mimetype": "text/x-python",
   "name": "python",
   "nbconvert_exporter": "python",
   "pygments_lexer": "ipython3",
   "version": "3.7.6"
  },
  "toc": {
   "base_numbering": 1,
   "nav_menu": {},
   "number_sections": true,
   "sideBar": true,
   "skip_h1_title": false,
   "title_cell": "Table of Contents",
   "title_sidebar": "Contents",
   "toc_cell": false,
   "toc_position": {},
   "toc_section_display": true,
   "toc_window_display": true
  }
 },
 "nbformat": 4,
 "nbformat_minor": 4
}
