{
 "cells": [
  {
   "cell_type": "markdown",
   "metadata": {},
   "source": [
    "- https://medium.com/optuna/lightgbm-tuner-new-optuna-integration-for-hyperparameter-optimization-8b7095e99258\n",
    "- https://github.com/optuna/optuna/blob/master/examples/lightgbm_tuner_simple.py"
   ]
  },
  {
   "cell_type": "markdown",
   "metadata": {},
   "source": [
    "# start"
   ]
  },
  {
   "cell_type": "code",
   "execution_count": 1,
   "metadata": {},
   "outputs": [
    {
     "name": "stdout",
     "output_type": "stream",
     "text": [
      "['2020-03-17 02:32:24', '2020-03-24 17:09:45']\n",
      "['2020-02-06 00:00:00', '2020-02-13 00:00:00']\n"
     ]
    }
   ],
   "source": [
    "PRFX='0324_3_1'\n",
    "trntmstmp=1584412344\n",
    "valtmstmp=1585069785\n",
    "import datetime\n",
    "print([datetime.datetime.fromtimestamp(o).strftime('%Y-%m-%d %H:%M:%S') for o in (trntmstmp, valtmstmp)])\n",
    "\n",
    "grand_total=1.5e8\n",
    "MIN_TM_TRN=1580947200\n",
    "MIN_TM_TST=1581552000\n",
    "print([datetime.datetime.fromtimestamp(o).strftime('%Y-%m-%d %H:%M:%S') for o in (MIN_TM_TRN, MIN_TM_TST)])\n",
    "\n",
    "\n",
    "CHNKSZ=5e6\n",
    "POST_RATE_WANTED=0.1"
   ]
  },
  {
   "cell_type": "markdown",
   "metadata": {},
   "source": [
    "# setup"
   ]
  },
  {
   "cell_type": "code",
   "execution_count": 2,
   "metadata": {
    "scrolled": true
   },
   "outputs": [
    {
     "data": {
      "text/plain": [
       "{'Retweet': 'retwt',\n",
       " 'Reply': 'reply',\n",
       " 'Like': 'like',\n",
       " 'RTwCmnt': 'retwt_cmmnt'}"
      ]
     },
     "execution_count": 2,
     "metadata": {},
     "output_type": "execute_result"
    }
   ],
   "source": [
    "from pathlib import Path\n",
    "import xgboost as xgb\n",
    "import lightgbm as lgb\n",
    "from sklearn.model_selection import train_test_split\n",
    "import pandas as pd\n",
    "import numpy as np\n",
    "import matplotlib.pyplot as plt\n",
    "from sklearn.metrics import accuracy_score, roc_auc_score, roc_curve, auc, precision_recall_curve\n",
    "import pickle\n",
    "from tqdm import tqdm\n",
    "from collections import Counter\n",
    "pd.set_option('display.max_rows', 500)\n",
    "\n",
    "from functools import reduce\n",
    "import datetime\n",
    "def dtnow(): return datetime.datetime.now().strftime('%Y-%m-%d %H:%M:%S')\n",
    "\n",
    "SEED=101\n",
    "HOME='/data/git/recsys20'\n",
    "p_in=f'{HOME}/input'\n",
    "p_out=f'{HOME}/output/{PRFX}'\n",
    "Path(p_out).mkdir(exist_ok=True, parents=True)\n",
    "\n",
    "from sklearn.metrics import precision_recall_curve, auc, log_loss\n",
    "\n",
    "def compute_prauc(pred, gt):\n",
    "    prec, recall, thresh = precision_recall_curve(gt, pred)\n",
    "    prauc = auc(recall, prec)\n",
    "    return prauc\n",
    "\n",
    "def calculate_ctr(gt):\n",
    "    positive = len([x for x in gt if x == 1])\n",
    "    ctr = positive/float(len(gt))\n",
    "    return ctr\n",
    "\n",
    "def compute_rce(pred, gt):\n",
    "    cross_entropy = log_loss(gt, pred)\n",
    "    data_ctr = calculate_ctr(gt)\n",
    "    strawman_cross_entropy = log_loss(gt, [data_ctr for _ in range(len(gt))])\n",
    "    return (1.0 - cross_entropy/strawman_cross_entropy)*100.0\n",
    "\n",
    "# https://towardsdatascience.com/how-to-calibrate-undersampled-model-scores-8f3319c1ea5b\n",
    "# How to use the function?\n",
    "# Let’s say your goal is to generate a model that shows the credit default probabilities and your original \n",
    "# training data has 50,000 rows with only 500 of them labeled as target class. When you sample your non-target \n",
    "# instances randomly and reduce the total row count to 10,000, while conserving 500 target rows, our calibration\n",
    "# function becomes:\n",
    "# calibration(model_results, 50000, 500, 10000, 500)\n",
    "# Here model_results is your model probability output array. After you train your model and put the results in it, your function is ready to use. \n",
    "\n",
    "def calibration(data, train_pop, target_pop, sampled_train_pop, sampled_target_pop):\n",
    "    calibrated_data = \\\n",
    "    ((data * (target_pop / train_pop) / (sampled_target_pop / sampled_train_pop)) /\n",
    "    ((\n",
    "        (1 - data) * (1 - target_pop / train_pop) / (1 - sampled_target_pop / sampled_train_pop)\n",
    "     ) +\n",
    "     (\n",
    "        data * (target_pop / train_pop) / (sampled_target_pop / sampled_train_pop)\n",
    "     )))\n",
    "\n",
    "    return calibrated_data\n",
    "\n",
    "cols=[\n",
    "'toks',\n",
    "'hshtgs',\n",
    "'twtid',\n",
    "'media',\n",
    "'links',\n",
    "'domns',\n",
    "'twttyp',\n",
    "'lang',\n",
    "'tm',\n",
    "\n",
    "'u1id',\n",
    "'u1_fllwer_cnt',\n",
    "'u1_fllwng_cnt',\n",
    "'u1_vrfed',\n",
    "'u1_create_tm',\n",
    "\n",
    "'u2id',\n",
    "'u2_fllwer_cnt',\n",
    "'u2_fllwng_cnt',\n",
    "'u2_vrfed',\n",
    "'u2_create_tm',\n",
    "\n",
    "'u1_fllw_u2',\n",
    "'reply_tm',\n",
    "'retwt_tm',\n",
    "'retwt_cmmnt_tm',\n",
    "'like_tm',\n",
    "]\n",
    "cols_cat = ['twttyp','lang']\n",
    "cols_val = cols[:-4]\n",
    "cols_tgt_tmstmp=[\n",
    "    'retwt_tm',\n",
    "    'reply_tm',\n",
    "    'like_tm',\n",
    "    'retwt_cmmnt_tm',\n",
    "]\n",
    "cols_tgt=[o.split('_tm')[0] for o in cols_tgt_tmstmp]\n",
    "tgts             = ['Retweet','Reply','Like','RTwCmnt',]\n",
    "assert cols_tgt == ['retwt',  'reply','like','retwt_cmmnt',]\n",
    "ntgts=len(tgts)\n",
    "\n",
    "\n",
    "tgt2col=dict(zip(tgts,cols_tgt))\n",
    "tgt2col"
   ]
  },
  {
   "cell_type": "markdown",
   "metadata": {},
   "source": [
    "# prepare data"
   ]
  },
  {
   "cell_type": "markdown",
   "metadata": {},
   "source": [
    "## prep func"
   ]
  },
  {
   "cell_type": "code",
   "execution_count": 3,
   "metadata": {},
   "outputs": [],
   "source": [
    "# chnks_trn = pd.read_csv(f'{p_in}/trn_{trntmstmp}.tsv',sep='\\x01',\n",
    "#                     header=None,names=cols, \n",
    "#                         chunksize=CHNKSZ)\n",
    "# # first chunk as validate data\n",
    "# for ichnk,df in enumerate(chnks_trn):\n",
    "#     df\n",
    "#     break\n",
    "\n",
    "# istrn=True\n",
    "# tm_min = MIN_TM_TRN if istrn else MIN_TM_TST\n",
    "# df['len_toks'] = df.toks.apply(len)\n",
    "# for media in ['Photo', 'Video', 'GIF']:\n",
    "#     df[f'has_media_{media}'] = df.media.fillna('').apply(lambda x: media in x)\n",
    "# for col in ['hshtgs', 'links', 'domns',]:\n",
    "#     df[f'num_{col}'] = df[col].fillna('').apply(lambda x: len(x.split('\\t')) if len(x) else 0)\n",
    "\n",
    "# df['twt_age'] = df.tm - tm_min\n",
    "# df['u1_age']  = df.tm - df.u1_create_tm\n",
    "# df['u2_age']  = df.tm - df.u2_create_tm\n",
    "\n",
    "# tm_dt=pd.to_datetime(df.tm, unit='s')\n",
    "# df['tm_dayofweek']=tm_dt.dt.dayofweek\n",
    "# df['tm_hour']=tm_dt.dt.hour\n",
    "\n",
    "# df['tmdlta_u2u1']  = df.u2_create_tm - df.u1_create_tm\n",
    "\n",
    "# df['u1_fllwer_cnt_by_age'] = df.u1_fllwer_cnt / df.u1_age\n",
    "# df['u1_fllwng_cnt_by_age'] = df.u2_fllwng_cnt / df.u2_age\n",
    "\n",
    "# for col in ['twttyp','lang']:\n",
    "#     df[col]=df[col].astype('category')\n",
    "\n",
    "# if istrn: \n",
    "#     df[cols_tgt]=df[cols_tgt_tmstmp].notna().astype('int8')\n",
    "#     df.drop(inplace=True, columns=['toks', 'hshtgs', 'media', 'links', 'domns',  \n",
    "#                                    'tm', 'u1_create_tm','u2_create_tm', 'u1id', 'u2id', 'twtid', ]+cols_tgt_tmstmp, )\n",
    "# else:\n",
    "#     df.drop(inplace=True, columns=['toks', 'hshtgs', 'media', 'links', 'domns', \n",
    "#                                    'tm', 'u1_create_tm','u2_create_tm', 'u1id', ])   \n",
    "\n",
    "# df.dtypes"
   ]
  },
  {
   "cell_type": "code",
   "execution_count": 4,
   "metadata": {},
   "outputs": [],
   "source": [
    "def prp_df(df, istrn=True):\n",
    "    tm_min = MIN_TM_TRN if istrn else MIN_TM_TST\n",
    "    df['len_toks'] = df.toks.apply(len)\n",
    "    for media in ['Photo', 'Video', 'GIF']:\n",
    "        df[f'has_media_{media}'] = df.media.fillna('').apply(lambda x: media in x)\n",
    "    for col in ['hshtgs', 'links', 'domns',]:\n",
    "        df[f'num_{col}'] = df[col].fillna('').apply(lambda x: len(x.split('\\t')) if len(x) else 0)\n",
    "\n",
    "    df['twt_age'] = df.tm - tm_min\n",
    "    df['u1_age']  = df.tm - df.u1_create_tm\n",
    "    df['u2_age']  = df.tm - df.u2_create_tm\n",
    "\n",
    "    tm_dt=pd.to_datetime(df.tm, unit='s')\n",
    "    df['tm_dayofweek']=tm_dt.dt.dayofweek\n",
    "    df['tm_hour']=tm_dt.dt.hour\n",
    "\n",
    "    df['tmdlta_u2u1']  = df.u2_create_tm - df.u1_create_tm\n",
    "\n",
    "    df['u1_fllwer_cnt_by_age'] = df.u1_fllwer_cnt / df.u1_age\n",
    "    df['u1_fllwng_cnt_by_age'] = df.u2_fllwng_cnt / df.u2_age\n",
    "\n",
    "    for col in cols_cat:\n",
    "        df[col]=df[col].astype('category')\n",
    "\n",
    "    if istrn: \n",
    "        df[cols_tgt]=df[cols_tgt_tmstmp].notna().astype('int8')\n",
    "        df.drop(inplace=True, columns=['toks', 'hshtgs', 'media', 'links', 'domns',  \n",
    "                                       'tm', 'u1_create_tm','u2_create_tm', 'u1id', 'u2id', 'twtid', ]+cols_tgt_tmstmp, )\n",
    "    else:\n",
    "        df.drop(inplace=True, columns=['toks', 'hshtgs', 'media', 'links', 'domns', \n",
    "                                       'tm', 'u1_create_tm','u2_create_tm', 'u1id', ])   \n",
    "    return df"
   ]
  },
  {
   "cell_type": "code",
   "execution_count": 5,
   "metadata": {
    "scrolled": false
   },
   "outputs": [
    {
     "data": {
      "text/plain": [
       "(150000000.0, 30.0)"
      ]
     },
     "execution_count": 5,
     "metadata": {},
     "output_type": "execute_result"
    }
   ],
   "source": [
    "grand_total, grand_total/CHNKSZ"
   ]
  },
  {
   "cell_type": "markdown",
   "metadata": {},
   "source": [
    "## valid data"
   ]
  },
  {
   "cell_type": "code",
   "execution_count": 6,
   "metadata": {},
   "outputs": [
    {
     "name": "stdout",
     "output_type": "stream",
     "text": [
      "2020-03-24 19:53:26 chunk 0\n",
      "dfvalid.shape: (5000000, 28)\n"
     ]
    },
    {
     "data": {
      "text/plain": [
       "twttyp                  category\n",
       "lang                    category\n",
       "u1_fllwer_cnt              int64\n",
       "u1_fllwng_cnt              int64\n",
       "u1_vrfed                    bool\n",
       "u2_fllwer_cnt              int64\n",
       "u2_fllwng_cnt              int64\n",
       "u2_vrfed                    bool\n",
       "u1_fllw_u2                  bool\n",
       "len_toks                   int64\n",
       "has_media_Photo             bool\n",
       "has_media_Video             bool\n",
       "has_media_GIF               bool\n",
       "num_hshtgs                 int64\n",
       "num_links                  int64\n",
       "num_domns                  int64\n",
       "twt_age                    int64\n",
       "u1_age                     int64\n",
       "u2_age                     int64\n",
       "tm_dayofweek               int64\n",
       "tm_hour                    int64\n",
       "tmdlta_u2u1                int64\n",
       "u1_fllwer_cnt_by_age     float64\n",
       "u1_fllwng_cnt_by_age     float64\n",
       "dtype: object"
      ]
     },
     "metadata": {},
     "output_type": "display_data"
    }
   ],
   "source": [
    "chnks_trn = pd.read_csv(f'{p_in}/trn_{trntmstmp}.tsv',sep='\\x01',\n",
    "                    header=None,names=cols, \n",
    "                        chunksize=CHNKSZ)\n",
    "# first chunk as validate data\n",
    "for ichnk,df in enumerate(chnks_trn):\n",
    "    print(dtnow(), 'chunk', ichnk)\n",
    "#     print([datetime.datetime.fromtimestamp(o).strftime('%Y-%m-%d %H:%M:%S') \n",
    "#            for o in (df.tm.min(), df.tm.max())])\n",
    "    dfvalid = prp_df(df)\n",
    "    break\n",
    "print('dfvalid.shape:',dfvalid.shape)\n",
    "\n",
    "cols_feat=[o for o in dfvalid.columns if o not in cols_tgt]\n",
    "\n",
    "display(dfvalid[cols_feat].dtypes)"
   ]
  },
  {
   "cell_type": "markdown",
   "metadata": {},
   "source": [
    "## trnval data func"
   ]
  },
  {
   "cell_type": "code",
   "execution_count": 7,
   "metadata": {},
   "outputs": [],
   "source": [
    "def getdftrvl(tgt):\n",
    "    print(tgt)\n",
    "    tgtcol=tgt2col[tgt]\n",
    "    chnks_trn = pd.read_csv(f'{p_in}/trn_{trntmstmp}.tsv',sep='\\x01',\n",
    "                        header=None,names=cols, \n",
    "                            chunksize=CHNKSZ)\n",
    "    len_df_wanted = int(CHNKSZ)\n",
    "    # retwt          0.113031\n",
    "    # reply          0.027488\n",
    "    # like           0.439499\n",
    "    # retwt_cmmnt    0.007742\n",
    "    pos_rate_wanted = POST_RATE_WANTED\n",
    "    n_pos_wanted = int(len_df_wanted*pos_rate_wanted)\n",
    "    print('n_pos_wanted', n_pos_wanted)\n",
    "    np.random.seed(SEED)\n",
    "    lst_df = []\n",
    "    n_pos_ttl = 0\n",
    "    for ichnk,df in enumerate(chnks_trn):\n",
    "        #skip first chunk (it was validate data)\n",
    "        if ichnk==0: continue\n",
    "        print(dtnow(), 'chunk', ichnk)\n",
    "        df = prp_df(df)\n",
    "        n_pos_ttl+= df[tgtcol].sum()\n",
    "        lst_df.append(df)\n",
    "        if n_pos_ttl>=n_pos_wanted: break\n",
    "\n",
    "    df = pd.concat(lst_df)\n",
    "    df.reset_index(drop=True,inplace=True)\n",
    "\n",
    "\n",
    "    # https://stackoverflow.com/questions/28556942/pandas-remove-rows-at-random-without-shuffling-dataset\n",
    "    idx_neg=np.where(df[tgtcol]==0)[0]\n",
    "    n_neg = len(idx_neg)\n",
    "    n_pos = len(df)-len(idx_neg)\n",
    "    n_neg2keep = len_df_wanted-n_pos\n",
    "    n_neg2rmv = n_neg-n_neg2keep\n",
    "    idx_neg2rmv = np.random.choice(idx_neg, n_neg2rmv, replace=False)\n",
    "    dftrvl = df.drop(idx_neg2rmv)\n",
    "    dftrvl = dftrvl.sample(len(dftrvl))\n",
    "    for col in cols_cat:\n",
    "        dftrvl[col]=dftrvl[col].astype('category')\n",
    "    \n",
    "#     display(dftrvl.dtypes)\n",
    "    print('dftrvl.shape:',dftrvl.shape,'dftrvl[tgtcol].mean():',dftrvl[tgtcol].mean())\n",
    "    \n",
    "    pops={\n",
    "        'train_pop':len(df),\n",
    "        'target_pop':n_pos,\n",
    "        'sampled_train_pop':len_df_wanted,\n",
    "        'sampled_target_pop':n_pos,\n",
    "    }\n",
    "    print(pops)\n",
    "    return dftrvl, pops"
   ]
  },
  {
   "cell_type": "markdown",
   "metadata": {},
   "source": [
    "# model"
   ]
  },
  {
   "cell_type": "code",
   "execution_count": 8,
   "metadata": {},
   "outputs": [],
   "source": [
    "def train(params,dtr,dvl):\n",
    "    print(params)\n",
    "    evals_result = {}\n",
    "    evallist = [(dtr, 'train'), (dvl, 'eval')]\n",
    "    bst = lgb.train(params=params, \n",
    "                    train_set=dtr, \n",
    "                    num_boost_round=5000,\n",
    "                    valid_sets=[dtr, dvl],\n",
    "                    verbose_eval=100,\n",
    "                    early_stopping_rounds=100,\n",
    "                    evals_result=evals_result,\n",
    "                   )\n",
    "    return bst,evals_result\n",
    "\n",
    "def valid(bst,dftr,dfvl):\n",
    "    prdtr = bst.predict(dftr[cols_feat],num_iteration=bst.best_iteration)\n",
    "    prdvl = bst.predict(dfvl[cols_feat],num_iteration=bst.best_iteration)\n",
    "    return prdtr,prdvl\n",
    "\n",
    "def do_tgt(tgt):\n",
    "    params=tgt2params[tgt]\n",
    "    tgtcol=tgt2col[tgt]\n",
    "    dftrvl, pops=getdftrvl(tgt)\n",
    "    split=int(len(dftrvl)*0.85)\n",
    "    dftr,dfvl=dftrvl[:split],dftrvl[split:]\n",
    "    dtr = lgb.Dataset(dftr[cols_feat], label=dftr[tgtcol])\n",
    "    dvl = lgb.Dataset(dfvl[cols_feat], label=dfvl[tgtcol])\n",
    "    bst,evlres=train(params,dtr,dvl)\n",
    "    prdtr,prdvl=valid(bst,dftr,dfvl)\n",
    "    \n",
    "    tgt2bst[tgt]=bst\n",
    "    tgt2evlres[tgt]=evlres\n",
    "    tgt2ytr[tgt]=dftr[tgtcol]\n",
    "    tgt2yvl[tgt]=dfvl[tgtcol]\n",
    "    tgt2pops[tgt]=pops\n",
    "    tgt2prdtr[tgt]=prdtr\n",
    "    tgt2prdvl[tgt]=prdvl\n"
   ]
  },
  {
   "cell_type": "code",
   "execution_count": 9,
   "metadata": {},
   "outputs": [
    {
     "name": "stdout",
     "output_type": "stream",
     "text": [
      "2020-03-24 19:53:55 Retweet ********************************************************************************\n",
      "Retweet\n",
      "n_pos_wanted 500000\n",
      "2020-03-24 19:55:40 chunk 1\n",
      "dftrvl.shape: (5000000, 28) dftrvl[tgtcol].mean(): 0.1131548\n",
      "{'train_pop': 5000000, 'target_pop': 565774, 'sampled_train_pop': 5000000, 'sampled_target_pop': 565774}\n",
      "{'objective': 'binary', 'metric': 'binary_logloss', 'verbosity': 0, 'boosting_type': 'gbdt'}\n",
      "Training until validation scores don't improve for 100 rounds\n",
      "[100]\ttraining's binary_logloss: 0.309482\tvalid_1's binary_logloss: 0.309772\n",
      "[200]\ttraining's binary_logloss: 0.306993\tvalid_1's binary_logloss: 0.307868\n",
      "[300]\ttraining's binary_logloss: 0.305422\tvalid_1's binary_logloss: 0.306869\n",
      "[400]\ttraining's binary_logloss: 0.30419\tvalid_1's binary_logloss: 0.306199\n",
      "[500]\ttraining's binary_logloss: 0.303148\tvalid_1's binary_logloss: 0.3057\n",
      "[600]\ttraining's binary_logloss: 0.302173\tvalid_1's binary_logloss: 0.305281\n",
      "[700]\ttraining's binary_logloss: 0.301212\tvalid_1's binary_logloss: 0.304888\n",
      "[800]\ttraining's binary_logloss: 0.300445\tvalid_1's binary_logloss: 0.304711\n",
      "[900]\ttraining's binary_logloss: 0.299668\tvalid_1's binary_logloss: 0.304489\n",
      "[1000]\ttraining's binary_logloss: 0.298929\tvalid_1's binary_logloss: 0.304323\n",
      "[1100]\ttraining's binary_logloss: 0.298186\tvalid_1's binary_logloss: 0.304154\n",
      "[1200]\ttraining's binary_logloss: 0.297483\tvalid_1's binary_logloss: 0.303997\n",
      "[1300]\ttraining's binary_logloss: 0.296784\tvalid_1's binary_logloss: 0.303853\n",
      "[1400]\ttraining's binary_logloss: 0.296126\tvalid_1's binary_logloss: 0.303747\n",
      "[1500]\ttraining's binary_logloss: 0.295478\tvalid_1's binary_logloss: 0.303643\n",
      "[1600]\ttraining's binary_logloss: 0.294839\tvalid_1's binary_logloss: 0.303563\n",
      "[1700]\ttraining's binary_logloss: 0.294213\tvalid_1's binary_logloss: 0.303464\n",
      "[1800]\ttraining's binary_logloss: 0.293605\tvalid_1's binary_logloss: 0.303389\n",
      "[1900]\ttraining's binary_logloss: 0.293037\tvalid_1's binary_logloss: 0.303328\n",
      "[2000]\ttraining's binary_logloss: 0.292448\tvalid_1's binary_logloss: 0.303277\n",
      "[2100]\ttraining's binary_logloss: 0.291826\tvalid_1's binary_logloss: 0.303172\n",
      "[2200]\ttraining's binary_logloss: 0.291265\tvalid_1's binary_logloss: 0.303107\n",
      "[2300]\ttraining's binary_logloss: 0.290753\tvalid_1's binary_logloss: 0.303094\n",
      "[2400]\ttraining's binary_logloss: 0.290214\tvalid_1's binary_logloss: 0.303061\n",
      "[2500]\ttraining's binary_logloss: 0.289671\tvalid_1's binary_logloss: 0.303017\n",
      "[2600]\ttraining's binary_logloss: 0.289133\tvalid_1's binary_logloss: 0.302992\n",
      "[2700]\ttraining's binary_logloss: 0.288548\tvalid_1's binary_logloss: 0.302932\n",
      "[2800]\ttraining's binary_logloss: 0.288015\tvalid_1's binary_logloss: 0.302906\n",
      "[2900]\ttraining's binary_logloss: 0.287498\tvalid_1's binary_logloss: 0.302873\n",
      "[3000]\ttraining's binary_logloss: 0.286979\tvalid_1's binary_logloss: 0.302838\n",
      "[3100]\ttraining's binary_logloss: 0.286467\tvalid_1's binary_logloss: 0.302803\n",
      "[3200]\ttraining's binary_logloss: 0.285946\tvalid_1's binary_logloss: 0.302768\n",
      "[3300]\ttraining's binary_logloss: 0.285426\tvalid_1's binary_logloss: 0.302752\n",
      "[3400]\ttraining's binary_logloss: 0.284886\tvalid_1's binary_logloss: 0.302684\n",
      "[3500]\ttraining's binary_logloss: 0.284379\tvalid_1's binary_logloss: 0.302667\n",
      "[3600]\ttraining's binary_logloss: 0.283879\tvalid_1's binary_logloss: 0.302635\n",
      "[3700]\ttraining's binary_logloss: 0.283355\tvalid_1's binary_logloss: 0.302606\n",
      "[3800]\ttraining's binary_logloss: 0.28284\tvalid_1's binary_logloss: 0.302554\n",
      "[3900]\ttraining's binary_logloss: 0.282337\tvalid_1's binary_logloss: 0.302523\n",
      "[4000]\ttraining's binary_logloss: 0.281821\tvalid_1's binary_logloss: 0.302496\n",
      "[4100]\ttraining's binary_logloss: 0.281321\tvalid_1's binary_logloss: 0.302475\n",
      "[4200]\ttraining's binary_logloss: 0.280854\tvalid_1's binary_logloss: 0.302478\n",
      "Early stopping, best iteration is:\n",
      "[4132]\ttraining's binary_logloss: 0.281165\tvalid_1's binary_logloss: 0.302465\n",
      "2020-03-24 20:18:03 Reply ********************************************************************************\n",
      "Reply\n",
      "n_pos_wanted 500000\n",
      "2020-03-24 20:21:19 chunk 1\n",
      "2020-03-24 20:24:22 chunk 2\n",
      "2020-03-24 20:26:18 chunk 3\n",
      "2020-03-24 20:28:03 chunk 4\n",
      "dftrvl.shape: (5000000, 28) dftrvl[tgtcol].mean(): 0.1096824\n",
      "{'train_pop': 20000000, 'target_pop': 548412, 'sampled_train_pop': 5000000, 'sampled_target_pop': 548412}\n",
      "{'objective': 'binary', 'metric': 'binary_logloss', 'verbosity': 0, 'boosting_type': 'gbdt'}\n",
      "Training until validation scores don't improve for 100 rounds\n",
      "[100]\ttraining's binary_logloss: 0.292992\tvalid_1's binary_logloss: 0.292511\n",
      "[200]\ttraining's binary_logloss: 0.291304\tvalid_1's binary_logloss: 0.291425\n",
      "[300]\ttraining's binary_logloss: 0.290165\tvalid_1's binary_logloss: 0.290875\n",
      "[400]\ttraining's binary_logloss: 0.289086\tvalid_1's binary_logloss: 0.290378\n",
      "[500]\ttraining's binary_logloss: 0.288148\tvalid_1's binary_logloss: 0.290012\n",
      "[600]\ttraining's binary_logloss: 0.287347\tvalid_1's binary_logloss: 0.289792\n",
      "[700]\ttraining's binary_logloss: 0.286556\tvalid_1's binary_logloss: 0.289586\n",
      "[800]\ttraining's binary_logloss: 0.285785\tvalid_1's binary_logloss: 0.289396\n",
      "[900]\ttraining's binary_logloss: 0.285088\tvalid_1's binary_logloss: 0.289241\n",
      "[1000]\ttraining's binary_logloss: 0.284413\tvalid_1's binary_logloss: 0.289151\n",
      "[1100]\ttraining's binary_logloss: 0.283741\tvalid_1's binary_logloss: 0.289056\n",
      "[1200]\ttraining's binary_logloss: 0.283093\tvalid_1's binary_logloss: 0.288965\n",
      "[1300]\ttraining's binary_logloss: 0.282453\tvalid_1's binary_logloss: 0.288856\n",
      "[1400]\ttraining's binary_logloss: 0.281827\tvalid_1's binary_logloss: 0.288774\n",
      "[1500]\ttraining's binary_logloss: 0.281232\tvalid_1's binary_logloss: 0.288702\n",
      "[1600]\ttraining's binary_logloss: 0.280621\tvalid_1's binary_logloss: 0.288643\n",
      "[1700]\ttraining's binary_logloss: 0.280047\tvalid_1's binary_logloss: 0.288595\n",
      "[1800]\ttraining's binary_logloss: 0.279461\tvalid_1's binary_logloss: 0.288522\n",
      "[1900]\ttraining's binary_logloss: 0.278911\tvalid_1's binary_logloss: 0.288475\n",
      "[2000]\ttraining's binary_logloss: 0.278328\tvalid_1's binary_logloss: 0.288415\n",
      "[2100]\ttraining's binary_logloss: 0.277799\tvalid_1's binary_logloss: 0.288362\n",
      "[2200]\ttraining's binary_logloss: 0.277261\tvalid_1's binary_logloss: 0.288339\n",
      "[2300]\ttraining's binary_logloss: 0.276726\tvalid_1's binary_logloss: 0.288318\n",
      "[2400]\ttraining's binary_logloss: 0.276199\tvalid_1's binary_logloss: 0.288307\n",
      "[2500]\ttraining's binary_logloss: 0.275669\tvalid_1's binary_logloss: 0.288281\n",
      "[2600]\ttraining's binary_logloss: 0.275153\tvalid_1's binary_logloss: 0.288265\n",
      "[2700]\ttraining's binary_logloss: 0.274641\tvalid_1's binary_logloss: 0.288252\n",
      "Early stopping, best iteration is:\n",
      "[2660]\ttraining's binary_logloss: 0.274833\tvalid_1's binary_logloss: 0.288246\n",
      "2020-03-24 20:44:15 Like ********************************************************************************\n",
      "Like\n",
      "n_pos_wanted 500000\n",
      "2020-03-24 20:46:26 chunk 1\n",
      "dftrvl.shape: (5000000, 28) dftrvl[tgtcol].mean(): 0.4391148\n",
      "{'train_pop': 5000000, 'target_pop': 2195574, 'sampled_train_pop': 5000000, 'sampled_target_pop': 2195574}\n",
      "{'objective': 'binary', 'metric': 'binary_logloss', 'verbosity': 0, 'boosting_type': 'gbdt'}\n",
      "Training until validation scores don't improve for 100 rounds\n",
      "[100]\ttraining's binary_logloss: 0.595568\tvalid_1's binary_logloss: 0.597078\n",
      "[200]\ttraining's binary_logloss: 0.590478\tvalid_1's binary_logloss: 0.592566\n",
      "[300]\ttraining's binary_logloss: 0.587651\tvalid_1's binary_logloss: 0.590228\n",
      "[400]\ttraining's binary_logloss: 0.585413\tvalid_1's binary_logloss: 0.588416\n",
      "[500]\ttraining's binary_logloss: 0.583504\tvalid_1's binary_logloss: 0.586927\n",
      "[600]\ttraining's binary_logloss: 0.581854\tvalid_1's binary_logloss: 0.585759\n",
      "[700]\ttraining's binary_logloss: 0.580458\tvalid_1's binary_logloss: 0.584835\n",
      "[800]\ttraining's binary_logloss: 0.579082\tvalid_1's binary_logloss: 0.583917\n",
      "[900]\ttraining's binary_logloss: 0.577813\tvalid_1's binary_logloss: 0.58313\n",
      "[1000]\ttraining's binary_logloss: 0.576746\tvalid_1's binary_logloss: 0.582557\n",
      "[1100]\ttraining's binary_logloss: 0.575633\tvalid_1's binary_logloss: 0.581891\n",
      "[1200]\ttraining's binary_logloss: 0.574565\tvalid_1's binary_logloss: 0.581278\n",
      "[1300]\ttraining's binary_logloss: 0.573636\tvalid_1's binary_logloss: 0.580783\n",
      "[1400]\ttraining's binary_logloss: 0.572828\tvalid_1's binary_logloss: 0.580461\n"
     ]
    },
    {
     "name": "stdout",
     "output_type": "stream",
     "text": [
      "[1500]\ttraining's binary_logloss: 0.571982\tvalid_1's binary_logloss: 0.580075\n",
      "[1600]\ttraining's binary_logloss: 0.571057\tvalid_1's binary_logloss: 0.579599\n",
      "[1700]\ttraining's binary_logloss: 0.570264\tvalid_1's binary_logloss: 0.579286\n",
      "[1800]\ttraining's binary_logloss: 0.569421\tvalid_1's binary_logloss: 0.578914\n",
      "[1900]\ttraining's binary_logloss: 0.568634\tvalid_1's binary_logloss: 0.57859\n",
      "[2000]\ttraining's binary_logloss: 0.567889\tvalid_1's binary_logloss: 0.578304\n",
      "[2100]\ttraining's binary_logloss: 0.567193\tvalid_1's binary_logloss: 0.578025\n",
      "[2200]\ttraining's binary_logloss: 0.566526\tvalid_1's binary_logloss: 0.577811\n",
      "[2300]\ttraining's binary_logloss: 0.565884\tvalid_1's binary_logloss: 0.577636\n",
      "[2400]\ttraining's binary_logloss: 0.56519\tvalid_1's binary_logloss: 0.577399\n",
      "[2500]\ttraining's binary_logloss: 0.564553\tvalid_1's binary_logloss: 0.577207\n",
      "[2600]\ttraining's binary_logloss: 0.563801\tvalid_1's binary_logloss: 0.576862\n",
      "[2700]\ttraining's binary_logloss: 0.563032\tvalid_1's binary_logloss: 0.57652\n",
      "[2800]\ttraining's binary_logloss: 0.562371\tvalid_1's binary_logloss: 0.576295\n",
      "[2900]\ttraining's binary_logloss: 0.56173\tvalid_1's binary_logloss: 0.576104\n",
      "[3000]\ttraining's binary_logloss: 0.561102\tvalid_1's binary_logloss: 0.575896\n",
      "[3100]\ttraining's binary_logloss: 0.560493\tvalid_1's binary_logloss: 0.575733\n",
      "[3200]\ttraining's binary_logloss: 0.559804\tvalid_1's binary_logloss: 0.575458\n",
      "[3300]\ttraining's binary_logloss: 0.559157\tvalid_1's binary_logloss: 0.57526\n",
      "[3400]\ttraining's binary_logloss: 0.558533\tvalid_1's binary_logloss: 0.575117\n",
      "[3500]\ttraining's binary_logloss: 0.557923\tvalid_1's binary_logloss: 0.574937\n",
      "[3600]\ttraining's binary_logloss: 0.557357\tvalid_1's binary_logloss: 0.574806\n",
      "[3700]\ttraining's binary_logloss: 0.556763\tvalid_1's binary_logloss: 0.574644\n",
      "[3800]\ttraining's binary_logloss: 0.556187\tvalid_1's binary_logloss: 0.574498\n",
      "[3900]\ttraining's binary_logloss: 0.555671\tvalid_1's binary_logloss: 0.574419\n",
      "[4000]\ttraining's binary_logloss: 0.555155\tvalid_1's binary_logloss: 0.574358\n",
      "[4100]\ttraining's binary_logloss: 0.554609\tvalid_1's binary_logloss: 0.574233\n",
      "[4200]\ttraining's binary_logloss: 0.554012\tvalid_1's binary_logloss: 0.574054\n",
      "[4300]\ttraining's binary_logloss: 0.553483\tvalid_1's binary_logloss: 0.573977\n",
      "[4400]\ttraining's binary_logloss: 0.55294\tvalid_1's binary_logloss: 0.573869\n",
      "[4500]\ttraining's binary_logloss: 0.552419\tvalid_1's binary_logloss: 0.573749\n",
      "[4600]\ttraining's binary_logloss: 0.551902\tvalid_1's binary_logloss: 0.573672\n",
      "[4700]\ttraining's binary_logloss: 0.551376\tvalid_1's binary_logloss: 0.573546\n",
      "[4800]\ttraining's binary_logloss: 0.550898\tvalid_1's binary_logloss: 0.57349\n",
      "[4900]\ttraining's binary_logloss: 0.550349\tvalid_1's binary_logloss: 0.573333\n",
      "[5000]\ttraining's binary_logloss: 0.549831\tvalid_1's binary_logloss: 0.573223\n",
      "Did not meet early stopping. Best iteration is:\n",
      "[5000]\ttraining's binary_logloss: 0.549831\tvalid_1's binary_logloss: 0.573223\n",
      "2020-03-24 21:11:40 RTwCmnt ********************************************************************************\n",
      "RTwCmnt\n",
      "n_pos_wanted 500000\n",
      "2020-03-24 21:13:44 chunk 1\n",
      "2020-03-24 21:15:20 chunk 2\n",
      "2020-03-24 21:16:57 chunk 3\n",
      "2020-03-24 21:18:34 chunk 4\n",
      "2020-03-24 21:20:13 chunk 5\n",
      "2020-03-24 21:21:52 chunk 6\n",
      "2020-03-24 21:23:30 chunk 7\n",
      "2020-03-24 21:25:07 chunk 8\n",
      "2020-03-24 21:26:46 chunk 9\n",
      "2020-03-24 21:28:25 chunk 10\n",
      "2020-03-24 21:29:50 chunk 11\n",
      "2020-03-24 21:31:11 chunk 12\n",
      "2020-03-24 21:33:16 chunk 13\n",
      "dftrvl.shape: (5000000, 28) dftrvl[tgtcol].mean(): 0.101376\n",
      "{'train_pop': 65000000, 'target_pop': 506880, 'sampled_train_pop': 5000000, 'sampled_target_pop': 506880}\n",
      "{'objective': 'binary', 'metric': 'binary_logloss', 'verbosity': 0, 'boosting_type': 'gbdt'}\n",
      "Training until validation scores don't improve for 100 rounds\n",
      "[100]\ttraining's binary_logloss: 0.298735\tvalid_1's binary_logloss: 0.298493\n",
      "[200]\ttraining's binary_logloss: 0.296722\tvalid_1's binary_logloss: 0.297038\n",
      "[300]\ttraining's binary_logloss: 0.295519\tvalid_1's binary_logloss: 0.296438\n",
      "[400]\ttraining's binary_logloss: 0.294372\tvalid_1's binary_logloss: 0.295834\n",
      "[500]\ttraining's binary_logloss: 0.293429\tvalid_1's binary_logloss: 0.295495\n",
      "[600]\ttraining's binary_logloss: 0.292539\tvalid_1's binary_logloss: 0.295167\n",
      "[700]\ttraining's binary_logloss: 0.291726\tvalid_1's binary_logloss: 0.294949\n",
      "[800]\ttraining's binary_logloss: 0.290973\tvalid_1's binary_logloss: 0.294793\n",
      "[900]\ttraining's binary_logloss: 0.290217\tvalid_1's binary_logloss: 0.294637\n",
      "[1000]\ttraining's binary_logloss: 0.289461\tvalid_1's binary_logloss: 0.29445\n",
      "[1100]\ttraining's binary_logloss: 0.28881\tvalid_1's binary_logloss: 0.294394\n",
      "[1200]\ttraining's binary_logloss: 0.288142\tvalid_1's binary_logloss: 0.294309\n",
      "[1300]\ttraining's binary_logloss: 0.287509\tvalid_1's binary_logloss: 0.294202\n",
      "[1400]\ttraining's binary_logloss: 0.286896\tvalid_1's binary_logloss: 0.294148\n",
      "[1500]\ttraining's binary_logloss: 0.28628\tvalid_1's binary_logloss: 0.294074\n",
      "[1600]\ttraining's binary_logloss: 0.285685\tvalid_1's binary_logloss: 0.294024\n",
      "[1700]\ttraining's binary_logloss: 0.2851\tvalid_1's binary_logloss: 0.29396\n",
      "[1800]\ttraining's binary_logloss: 0.284517\tvalid_1's binary_logloss: 0.293896\n",
      "[1900]\ttraining's binary_logloss: 0.283914\tvalid_1's binary_logloss: 0.293845\n",
      "[2000]\ttraining's binary_logloss: 0.283381\tvalid_1's binary_logloss: 0.293825\n",
      "[2100]\ttraining's binary_logloss: 0.282814\tvalid_1's binary_logloss: 0.293786\n",
      "[2200]\ttraining's binary_logloss: 0.282227\tvalid_1's binary_logloss: 0.293753\n",
      "[2300]\ttraining's binary_logloss: 0.281672\tvalid_1's binary_logloss: 0.293716\n",
      "[2400]\ttraining's binary_logloss: 0.281144\tvalid_1's binary_logloss: 0.293674\n",
      "[2500]\ttraining's binary_logloss: 0.280585\tvalid_1's binary_logloss: 0.293645\n",
      "[2600]\ttraining's binary_logloss: 0.280027\tvalid_1's binary_logloss: 0.293612\n",
      "[2700]\ttraining's binary_logloss: 0.279542\tvalid_1's binary_logloss: 0.293609\n",
      "[2800]\ttraining's binary_logloss: 0.279002\tvalid_1's binary_logloss: 0.293569\n",
      "[2900]\ttraining's binary_logloss: 0.278496\tvalid_1's binary_logloss: 0.293543\n",
      "Early stopping, best iteration is:\n",
      "[2898]\ttraining's binary_logloss: 0.278504\tvalid_1's binary_logloss: 0.293543\n"
     ]
    }
   ],
   "source": [
    "params_shared = {\n",
    "    \"objective\": \"binary\",\n",
    "    \"metric\": \"binary_logloss\",\n",
    "    \"verbosity\": 0,\n",
    "    \"boosting_type\": \"gbdt\",\n",
    "}\n",
    "tgt2params = {k:params_shared for k in tgts}\n",
    "\n",
    "tgt2bst={}\n",
    "tgt2evlres={}\n",
    "tgt2tuning_history={}\n",
    "tgt2ytr={}\n",
    "tgt2yvl={}\n",
    "tgt2prdtr={}\n",
    "tgt2prdvl={}\n",
    "tgt2pops={}\n",
    "for tgt in tgts:\n",
    "    print(dtnow(), tgt, '*'*80)\n",
    "    do_tgt(tgt)\n",
    "    \n",
    "pickle.dump(tgt2bst, open(f\"{p_out}/tgt2bst.p\", \"wb\"))"
   ]
  },
  {
   "cell_type": "markdown",
   "metadata": {},
   "source": [
    "# analyze"
   ]
  },
  {
   "cell_type": "markdown",
   "metadata": {},
   "source": [
    "## tr vl"
   ]
  },
  {
   "cell_type": "code",
   "execution_count": 10,
   "metadata": {},
   "outputs": [
    {
     "data": {
      "image/png": "[encoded data removed]",
      "text/plain": [
       "<Figure size 432x288 with 1 Axes>"
      ]
     },
     "metadata": {
      "needs_background": "light"
     },
     "output_type": "display_data"
    },
    {
     "data": {
      "image/png": "[encoded data removed]",
      "text/plain": [
       "<Figure size 432x288 with 1 Axes>"
      ]
     },
     "metadata": {
      "needs_background": "light"
     },
     "output_type": "display_data"
    },
    {
     "data": {
      "image/png": "[encoded data removed]",
      "text/plain": [
       "<Figure size 432x288 with 1 Axes>"
      ]
     },
     "metadata": {
      "needs_background": "light"
     },
     "output_type": "display_data"
    },
    {
     "data": {
      "image/png": "[encoded data removed]",
      "text/plain": [
       "<Figure size 432x288 with 1 Axes>"
      ]
     },
     "metadata": {
      "needs_background": "light"
     },
     "output_type": "display_data"
    }
   ],
   "source": [
    "for tgt in tgt2evlres:\n",
    "    evlres=tgt2evlres[tgt]\n",
    "    plt.plot(evlres['training']['binary_logloss'])\n",
    "    plt.plot(evlres['valid_1']['binary_logloss'])\n",
    "    plt.title(f\"{tgt} logloss {len(evlres['valid_1']['binary_logloss'])} rounds\")\n",
    "    plt.show()"
   ]
  },
  {
   "cell_type": "code",
   "execution_count": 11,
   "metadata": {},
   "outputs": [
    {
     "data": {
      "image/png": "[encoded data removed]",
      "text/plain": [
       "<Figure size 432x288 with 1 Axes>"
      ]
     },
     "metadata": {
      "needs_background": "light"
     },
     "output_type": "display_data"
    },
    {
     "data": {
      "image/png": "[encoded data removed]",
      "text/plain": [
       "<Figure size 432x288 with 1 Axes>"
      ]
     },
     "metadata": {
      "needs_background": "light"
     },
     "output_type": "display_data"
    },
    {
     "data": {
      "image/png": "[encoded data removed]",
      "text/plain": [
       "<Figure size 432x288 with 1 Axes>"
      ]
     },
     "metadata": {
      "needs_background": "light"
     },
     "output_type": "display_data"
    },
    {
     "data": {
      "image/png": "[encoded data removed]",
      "text/plain": [
       "<Figure size 432x288 with 1 Axes>"
      ]
     },
     "metadata": {
      "needs_background": "light"
     },
     "output_type": "display_data"
    }
   ],
   "source": [
    "def show_feat_importance(tgt):\n",
    "    bst=tgt2bst[tgt]\n",
    "    ax = lgb.plot_importance(bst, height=0.8, max_num_features=20)\n",
    "    ax.grid(False, axis=\"y\")\n",
    "    ax.set_title(f'{tgt} Estimated feature importance')\n",
    "    plt.show()\n",
    "#     feat2importance=bst.get_fscore()\n",
    "#     print(tgt)\n",
    "#     display(pd.DataFrame([feat2importance.keys(), \n",
    "#                           feat2importance.values()]).T.sort_values(1, ascending=False))\n",
    "\n",
    "for tgt in tgt2bst:\n",
    "    show_feat_importance(tgt)"
   ]
  },
  {
   "cell_type": "code",
   "execution_count": 12,
   "metadata": {},
   "outputs": [
    {
     "name": "stdout",
     "output_type": "stream",
     "text": [
      "Retweet\n",
      "tr prauc: 0.4325 tr rce: 20.3828\n",
      "vl prauc: 0.3455 vl rce: 14.2124\n",
      "Reply\n",
      "tr prauc: 0.3985 tr rce: 20.5644\n",
      "vl prauc: 0.3346 vl rce: 16.4767\n",
      "Like\n",
      "tr prauc: 0.7439 tr rce: 19.8151\n",
      "vl prauc: 0.7105 vl rce: 16.4125\n",
      "RTwCmnt\n",
      "tr prauc: 0.3353 tr rce: 15.1427\n",
      "vl prauc: 0.2564 vl rce: 10.3660\n"
     ]
    }
   ],
   "source": [
    "tgt2auc_tr={}\n",
    "tgt2rce_tr={}\n",
    "tgt2auc_vl={}\n",
    "tgt2rce_vl={}\n",
    "for tgt in tgt2bst:\n",
    "    print(tgt)\n",
    "    prdtr_i, prdvl_i = tgt2prdtr[tgt], tgt2prdvl[tgt]\n",
    "    ytr_i, yvl_i = tgt2ytr[tgt], tgt2yvl[tgt]\n",
    "    scr_auc_tr=compute_prauc(prdtr_i, ytr_i)\n",
    "    scr_rce_tr=compute_rce(prdtr_i, ytr_i)\n",
    "    scr_auc_vl=compute_prauc(prdvl_i, yvl_i)\n",
    "    scr_rce_vl=compute_rce(prdvl_i, yvl_i)\n",
    "\n",
    "    tgt2auc_tr[tgt]=scr_auc_tr\n",
    "    tgt2rce_tr[tgt]=scr_rce_tr\n",
    "    tgt2auc_vl[tgt]=scr_auc_vl\n",
    "    tgt2rce_vl[tgt]=scr_rce_vl\n",
    "    \n",
    "    print('tr prauc:', f'{scr_auc_tr:.4f}','tr rce:', f'{scr_rce_tr:.4f}', )\n",
    "    print('vl prauc:', f'{scr_auc_vl:.4f}','vl rce:', f'{scr_rce_vl:.4f}', )"
   ]
  },
  {
   "cell_type": "code",
   "execution_count": 13,
   "metadata": {},
   "outputs": [
    {
     "data": {
      "text/html": [
       "<div>\n",
       "<style scoped>\n",
       "    .dataframe tbody tr th:only-of-type {\n",
       "        vertical-align: middle;\n",
       "    }\n",
       "\n",
       "    .dataframe tbody tr th {\n",
       "        vertical-align: top;\n",
       "    }\n",
       "\n",
       "    .dataframe thead th {\n",
       "        text-align: right;\n",
       "    }\n",
       "</style>\n",
       "<table border=\"1\" class=\"dataframe\">\n",
       "  <thead>\n",
       "    <tr style=\"text-align: right;\">\n",
       "      <th></th>\n",
       "      <th>0</th>\n",
       "      <th>1</th>\n",
       "      <th>2</th>\n",
       "      <th>3</th>\n",
       "      <th>4</th>\n",
       "      <th>5</th>\n",
       "      <th>6</th>\n",
       "      <th>7</th>\n",
       "    </tr>\n",
       "  </thead>\n",
       "  <tbody>\n",
       "    <tr>\n",
       "      <th>metric</th>\n",
       "      <td>PRAUC Retweet</td>\n",
       "      <td>RCE Retweet</td>\n",
       "      <td>PRAUC Reply</td>\n",
       "      <td>RCE Reply</td>\n",
       "      <td>PRAUC Like</td>\n",
       "      <td>RCE Like</td>\n",
       "      <td>PRAUC RTwCmnt</td>\n",
       "      <td>RCE RTwCmnt</td>\n",
       "    </tr>\n",
       "    <tr>\n",
       "      <th>scrtr</th>\n",
       "      <td>0.432452</td>\n",
       "      <td>20.3828</td>\n",
       "      <td>0.398483</td>\n",
       "      <td>20.5644</td>\n",
       "      <td>0.743861</td>\n",
       "      <td>19.8151</td>\n",
       "      <td>0.335306</td>\n",
       "      <td>15.1427</td>\n",
       "    </tr>\n",
       "    <tr>\n",
       "      <th>scrvl</th>\n",
       "      <td>0.345521</td>\n",
       "      <td>14.2124</td>\n",
       "      <td>0.334598</td>\n",
       "      <td>16.4767</td>\n",
       "      <td>0.710504</td>\n",
       "      <td>16.4125</td>\n",
       "      <td>0.2564</td>\n",
       "      <td>10.366</td>\n",
       "    </tr>\n",
       "  </tbody>\n",
       "</table>\n",
       "</div>"
      ],
      "text/plain": [
       "                    0            1            2          3           4  \\\n",
       "metric  PRAUC Retweet  RCE Retweet  PRAUC Reply  RCE Reply  PRAUC Like   \n",
       "scrtr        0.432452      20.3828     0.398483    20.5644    0.743861   \n",
       "scrvl        0.345521      14.2124     0.334598    16.4767    0.710504   \n",
       "\n",
       "               5              6            7  \n",
       "metric  RCE Like  PRAUC RTwCmnt  RCE RTwCmnt  \n",
       "scrtr    19.8151       0.335306      15.1427  \n",
       "scrvl    16.4125         0.2564       10.366  "
      ]
     },
     "execution_count": 13,
     "metadata": {},
     "output_type": "execute_result"
    }
   ],
   "source": [
    "lsttr=[]\n",
    "lstvl=[]\n",
    "for tgt in ['Retweet','Reply','Like','RTwCmnt',]:\n",
    "    if tgt not in tgt2bst: continue\n",
    "    lsttr+=[(f'PRAUC {tgt}',tgt2auc_tr[tgt]),\n",
    "          (f'RCE {tgt}',tgt2rce_tr[tgt])]\n",
    "    lstvl+=[(f'PRAUC {tgt}',tgt2auc_vl[tgt]),\n",
    "          (f'RCE {tgt}',tgt2rce_vl[tgt])]\n",
    "\n",
    "dfscrtr=pd.DataFrame(lsttr)\n",
    "dfscrtr.columns=['metric','scr']\n",
    "dfscrvl=pd.DataFrame(lstvl)\n",
    "dfscrvl.columns=['metric','scr']\n",
    "dfscr = pd.merge(dfscrtr, dfscrvl, on='metric', suffixes=('tr','vl'))\n",
    "dfscr.T"
   ]
  },
  {
   "cell_type": "markdown",
   "metadata": {},
   "source": [
    "## valid"
   ]
  },
  {
   "cell_type": "code",
   "execution_count": 14,
   "metadata": {},
   "outputs": [],
   "source": [
    "# tgt=tgts[1]\n",
    "# tgtcol=tgt2col[tgt]\n",
    "# bst=tgt2bst[tgt]\n",
    "\n",
    "# dvalid=xgb.DMatrix(dfvalid[cols_feat], label=dfvalid[tgtcol], feature_names=cols_feat)\n",
    "\n",
    "# prdvalid = bst.predict(dvalid, ntree_limit=bst.best_ntree_limit)\n",
    "\n",
    "# pops=tgt2pops[tgt]\n",
    "\n",
    "# prdvalid[:10]\n",
    "# # array([0.11734424, 0.09971393, 0.05619054, 0.03059793, 0.07979691,\n",
    "# #        0.01358252, 0.05293725, 0.27954698, 0.05738379, 0.01741553],\n",
    "# #       dtype=float32)\n",
    "\n",
    "\n",
    "# pops\n",
    "# # {'train_pop': 4000000,\n",
    "# #  'target_pop': 109752,\n",
    "# #  'sampled_train_pop': 1000000,\n",
    "# #  'sampled_target_pop': 109752}\n",
    "\n",
    "# prdvalid_calib = calibration(prdvalid, **pops)\n",
    "\n",
    "# prdvalid_calib[:10]\n",
    "# # array([0.02952491, 0.02471944, 0.01344113, 0.00717127, 0.01945818,\n",
    "# #        0.00314114, 0.0126298 , 0.08155248, 0.01373977, 0.00403964],\n",
    "# #       dtype=float32)"
   ]
  },
  {
   "cell_type": "code",
   "execution_count": 15,
   "metadata": {},
   "outputs": [
    {
     "data": {
      "text/plain": [
       "{'Retweet': {'train_pop': 5000000,\n",
       "  'target_pop': 565774,\n",
       "  'sampled_train_pop': 5000000,\n",
       "  'sampled_target_pop': 565774},\n",
       " 'Reply': {'train_pop': 20000000,\n",
       "  'target_pop': 548412,\n",
       "  'sampled_train_pop': 5000000,\n",
       "  'sampled_target_pop': 548412},\n",
       " 'Like': {'train_pop': 5000000,\n",
       "  'target_pop': 2195574,\n",
       "  'sampled_train_pop': 5000000,\n",
       "  'sampled_target_pop': 2195574},\n",
       " 'RTwCmnt': {'train_pop': 65000000,\n",
       "  'target_pop': 506880,\n",
       "  'sampled_train_pop': 5000000,\n",
       "  'sampled_target_pop': 506880}}"
      ]
     },
     "execution_count": 15,
     "metadata": {},
     "output_type": "execute_result"
    }
   ],
   "source": [
    "tgt2pops"
   ]
  },
  {
   "cell_type": "code",
   "execution_count": 16,
   "metadata": {},
   "outputs": [],
   "source": [
    "def do_post_valid(tgt):\n",
    "    tgtcol=tgt2col[tgt]\n",
    "    bst=tgt2bst[tgt]\n",
    "    pops=tgt2pops[tgt]\n",
    "    prdvalid = bst.predict(dfvalid[cols_feat],num_iteration=bst.best_iteration)\n",
    "    prdvalid_calib = calibration(prdvalid, **pops)\n",
    "    return prdvalid,prdvalid_calib"
   ]
  },
  {
   "cell_type": "code",
   "execution_count": 17,
   "metadata": {},
   "outputs": [
    {
     "name": "stdout",
     "output_type": "stream",
     "text": [
      "2020-03-24 21:51:04 Retweet\n",
      "2020-03-24 21:53:04 Reply\n",
      "2020-03-24 21:54:29 Like\n",
      "2020-03-24 21:56:50 RTwCmnt\n"
     ]
    }
   ],
   "source": [
    "tgt2yvalid={tgt:dfvalid[tgt2col[tgt]] for tgt in tgts}\n",
    "tgt2prdvalid={}\n",
    "tgt2prdvalid_calib={}\n",
    "for tgt in tgts:\n",
    "    print(dtnow(), tgt)\n",
    "    tgt2prdvalid[tgt],tgt2prdvalid_calib[tgt]=do_post_valid(tgt)\n"
   ]
  },
  {
   "cell_type": "code",
   "execution_count": 18,
   "metadata": {},
   "outputs": [
    {
     "name": "stdout",
     "output_type": "stream",
     "text": [
      "2020-03-24 21:58:26 Retweet\n",
      "2020-03-24 21:58:42 Reply\n",
      "2020-03-24 21:58:58 Like\n",
      "2020-03-24 21:59:15 RTwCmnt\n"
     ]
    }
   ],
   "source": [
    "tgt2auc_valid={}\n",
    "tgt2rce_valid={}\n",
    "tgt2auc_valid_calib={}\n",
    "tgt2rce_valid_calib={}\n",
    "for tgt in tgts:\n",
    "    print(dtnow(), tgt)\n",
    "    prdvalid, prdvalid_calib = tgt2prdvalid[tgt], tgt2prdvalid_calib[tgt]\n",
    "    yvalid = tgt2yvalid[tgt]\n",
    "    scr_auc_valid=compute_prauc(prdvalid, yvalid)\n",
    "    scr_rce_valid=compute_rce(prdvalid, yvalid)\n",
    "    scr_auc_valid_calib=compute_prauc(prdvalid_calib, yvalid)\n",
    "    scr_rce_valid_calib=compute_rce(prdvalid_calib, yvalid)\n",
    "\n",
    "    tgt2auc_valid[tgt]=scr_auc_valid\n",
    "    tgt2rce_valid[tgt]=scr_rce_valid\n",
    "    tgt2auc_valid_calib[tgt]=scr_auc_valid_calib\n",
    "    tgt2rce_valid_calib[tgt]=scr_rce_valid_calib"
   ]
  },
  {
   "cell_type": "code",
   "execution_count": 19,
   "metadata": {},
   "outputs": [
    {
     "name": "stdout",
     "output_type": "stream",
     "text": [
      "Retweet\n",
      "tr          prauc: 0.4325 tr rce: 20.3828\n",
      "vl          prauc: 0.3455 tr rce: 14.2124\n",
      "valid       prauc: 0.3407 tr rce: 13.9687\n",
      "valid_calib prauc: 0.3407 tr rce: 13.9687\n",
      "Reply\n",
      "tr          prauc: 0.3985 tr rce: 20.5644\n",
      "vl          prauc: 0.3346 tr rce: 16.4767\n",
      "valid       prauc: 0.1123 tr rce: -21.4587\n",
      "valid_calib prauc: 0.1123 tr rce: 12.6442\n",
      "Like\n",
      "tr          prauc: 0.7439 tr rce: 19.8151\n",
      "vl          prauc: 0.7105 tr rce: 16.4125\n",
      "valid       prauc: 0.7101 tr rce: 16.4044\n",
      "valid_calib prauc: 0.7101 tr rce: 16.4044\n",
      "RTwCmnt\n",
      "tr          prauc: 0.3353 tr rce: 15.1427\n",
      "vl          prauc: 0.2564 tr rce: 10.3660\n",
      "valid       prauc: 0.0281 tr rce: -157.1406\n",
      "valid_calib prauc: 0.0281 tr rce: 6.5399\n"
     ]
    }
   ],
   "source": [
    "for tgt in tgts:\n",
    "    print(tgt)\n",
    "    print('tr          prauc:', f'{tgt2auc_tr[tgt]:.4f}','tr rce:', f'{tgt2rce_tr[tgt]:.4f}', )\n",
    "    print('vl          prauc:', f'{tgt2auc_vl[tgt]:.4f}','tr rce:', f'{tgt2rce_vl[tgt]:.4f}', )\n",
    "    print('valid       prauc:', f'{tgt2auc_valid[tgt]:.4f}','tr rce:', f'{tgt2rce_valid[tgt]:.4f}', )\n",
    "    print('valid_calib prauc:', f'{tgt2auc_valid_calib[tgt]:.4f}','tr rce:', f'{tgt2rce_valid_calib[tgt]:.4f}', )\n",
    "    "
   ]
  },
  {
   "cell_type": "code",
   "execution_count": 20,
   "metadata": {},
   "outputs": [
    {
     "data": {
      "text/html": [
       "<div>\n",
       "<style scoped>\n",
       "    .dataframe tbody tr th:only-of-type {\n",
       "        vertical-align: middle;\n",
       "    }\n",
       "\n",
       "    .dataframe tbody tr th {\n",
       "        vertical-align: top;\n",
       "    }\n",
       "\n",
       "    .dataframe thead th {\n",
       "        text-align: right;\n",
       "    }\n",
       "</style>\n",
       "<table border=\"1\" class=\"dataframe\">\n",
       "  <thead>\n",
       "    <tr style=\"text-align: right;\">\n",
       "      <th></th>\n",
       "      <th>0</th>\n",
       "      <th>1</th>\n",
       "      <th>2</th>\n",
       "      <th>3</th>\n",
       "      <th>4</th>\n",
       "      <th>5</th>\n",
       "      <th>6</th>\n",
       "      <th>7</th>\n",
       "    </tr>\n",
       "  </thead>\n",
       "  <tbody>\n",
       "    <tr>\n",
       "      <th>scr</th>\n",
       "      <td>PRAUC Retweet</td>\n",
       "      <td>RCE Retweet</td>\n",
       "      <td>PRAUC Reply</td>\n",
       "      <td>RCE Reply</td>\n",
       "      <td>PRAUC Like</td>\n",
       "      <td>RCE Like</td>\n",
       "      <td>PRAUC RTwCmnt</td>\n",
       "      <td>RCE RTwCmnt</td>\n",
       "    </tr>\n",
       "    <tr>\n",
       "      <th>tr</th>\n",
       "      <td>0.432452</td>\n",
       "      <td>20.3828</td>\n",
       "      <td>0.398483</td>\n",
       "      <td>20.5644</td>\n",
       "      <td>0.743861</td>\n",
       "      <td>19.8151</td>\n",
       "      <td>0.335306</td>\n",
       "      <td>15.1427</td>\n",
       "    </tr>\n",
       "    <tr>\n",
       "      <th>vl</th>\n",
       "      <td>0.345521</td>\n",
       "      <td>14.2124</td>\n",
       "      <td>0.334598</td>\n",
       "      <td>16.4767</td>\n",
       "      <td>0.710504</td>\n",
       "      <td>16.4125</td>\n",
       "      <td>0.2564</td>\n",
       "      <td>10.366</td>\n",
       "    </tr>\n",
       "    <tr>\n",
       "      <th>valid</th>\n",
       "      <td>0.340675</td>\n",
       "      <td>13.9687</td>\n",
       "      <td>0.112322</td>\n",
       "      <td>-21.4587</td>\n",
       "      <td>0.710081</td>\n",
       "      <td>16.4044</td>\n",
       "      <td>0.028134</td>\n",
       "      <td>-157.141</td>\n",
       "    </tr>\n",
       "    <tr>\n",
       "      <th>valid_calib</th>\n",
       "      <td>0.340675</td>\n",
       "      <td>13.9687</td>\n",
       "      <td>0.112322</td>\n",
       "      <td>12.6442</td>\n",
       "      <td>0.710081</td>\n",
       "      <td>16.4044</td>\n",
       "      <td>0.028134</td>\n",
       "      <td>6.53991</td>\n",
       "    </tr>\n",
       "  </tbody>\n",
       "</table>\n",
       "</div>"
      ],
      "text/plain": [
       "                         0            1            2          3           4  \\\n",
       "scr          PRAUC Retweet  RCE Retweet  PRAUC Reply  RCE Reply  PRAUC Like   \n",
       "tr                0.432452      20.3828     0.398483    20.5644    0.743861   \n",
       "vl                0.345521      14.2124     0.334598    16.4767    0.710504   \n",
       "valid             0.340675      13.9687     0.112322   -21.4587    0.710081   \n",
       "valid_calib       0.340675      13.9687     0.112322    12.6442    0.710081   \n",
       "\n",
       "                    5              6            7  \n",
       "scr          RCE Like  PRAUC RTwCmnt  RCE RTwCmnt  \n",
       "tr            19.8151       0.335306      15.1427  \n",
       "vl            16.4125         0.2564       10.366  \n",
       "valid         16.4044       0.028134     -157.141  \n",
       "valid_calib   16.4044       0.028134      6.53991  "
      ]
     },
     "execution_count": 20,
     "metadata": {},
     "output_type": "execute_result"
    }
   ],
   "source": [
    "lsttr=[]\n",
    "lstvl=[]\n",
    "lstvalid=[]\n",
    "lstvalid_calib=[]\n",
    "for tgt in ['Retweet','Reply','Like','RTwCmnt',]:\n",
    "    if tgt not in tgt2bst: continue\n",
    "    lsttr+=[(f'PRAUC {tgt}',tgt2auc_tr[tgt]),\n",
    "          (f'RCE {tgt}',tgt2rce_tr[tgt])]\n",
    "    lstvl+=[(f'PRAUC {tgt}',tgt2auc_vl[tgt]),\n",
    "          (f'RCE {tgt}',tgt2rce_vl[tgt])]\n",
    "    lstvalid+=[(f'PRAUC {tgt}',tgt2auc_valid[tgt]),\n",
    "          (f'RCE {tgt}',tgt2rce_valid[tgt])]\n",
    "    lstvalid_calib+=[(f'PRAUC {tgt}',tgt2auc_valid_calib[tgt]),\n",
    "          (f'RCE {tgt}',tgt2rce_valid_calib[tgt])]\n",
    "\n",
    "dfscrtr=pd.DataFrame(lsttr)\n",
    "dfscrtr.columns=['metric','scr']\n",
    "dfscrvl=pd.DataFrame(lstvl)\n",
    "dfscrvl.columns=['metric','scr']\n",
    "dfscrvalid=pd.DataFrame(lstvalid)\n",
    "dfscrvalid.columns=['metric','scr']\n",
    "dfscrvalid_calib=pd.DataFrame(lstvalid_calib)\n",
    "dfscrvalid_calib.columns=['metric','scr']\n",
    "\n",
    "dfscr = reduce(lambda df1,df2: pd.merge(df1,df2,on='metric'), \n",
    "            [dfscrtr,dfscrvl,dfscrvalid,dfscrvalid_calib])\n",
    "\n",
    "dfscr.columns=['scr','tr','vl','valid','valid_calib']\n",
    "dfscr.T"
   ]
  },
  {
   "cell_type": "code",
   "execution_count": null,
   "metadata": {},
   "outputs": [],
   "source": []
  },
  {
   "cell_type": "markdown",
   "metadata": {},
   "source": [
    "# infer"
   ]
  },
  {
   "cell_type": "raw",
   "metadata": {},
   "source": [
    "ls -lhS $p_in | grep val"
   ]
  },
  {
   "cell_type": "code",
   "execution_count": 21,
   "metadata": {},
   "outputs": [
    {
     "name": "stdout",
     "output_type": "stream",
     "text": [
      "CPU times: user 2min 32s, sys: 11.8 s, total: 2min 44s\n",
      "Wall time: 2min 49s\n"
     ]
    }
   ],
   "source": [
    "%%time\n",
    "dftst=pd.read_csv(\n",
    "    f'{p_in}/val_{valtmstmp}.tsv',\n",
    "#     f'{p_in}/val_259A6F6DFD672CB1F883CBEC01B99F2D_1584405047.tsv',\n",
    "    sep='\\x01', header=None, names=cols_val,)\n"
   ]
  },
  {
   "cell_type": "code",
   "execution_count": 22,
   "metadata": {
    "scrolled": false
   },
   "outputs": [
    {
     "name": "stdout",
     "output_type": "stream",
     "text": [
      "CPU times: user 1min 37s, sys: 26.9 s, total: 2min 4s\n",
      "Wall time: 2min 8s\n"
     ]
    }
   ],
   "source": [
    "%%time\n",
    "dftst = prp_df(dftst, istrn=False)"
   ]
  },
  {
   "cell_type": "code",
   "execution_count": null,
   "metadata": {},
   "outputs": [],
   "source": []
  },
  {
   "cell_type": "code",
   "execution_count": 23,
   "metadata": {},
   "outputs": [
    {
     "name": "stdout",
     "output_type": "stream",
     "text": [
      "2020-03-24 22:04:31 Retweet\n",
      "2020-03-24 22:10:11 Reply\n",
      "2020-03-24 22:14:19 Like\n",
      "2020-03-24 22:21:24 RTwCmnt\n",
      "CPU times: user 4h 42min 43s, sys: 37 s, total: 4h 43min 20s\n",
      "Wall time: 21min 22s\n"
     ]
    }
   ],
   "source": [
    "%%time\n",
    "tgt2prdtst={}\n",
    "for tgt in tgts:\n",
    "    print(dtnow(), tgt)\n",
    "    bst = tgt2bst[tgt]\n",
    "    pops=tgt2pops[tgt]\n",
    "    prdtst = bst.predict(dftst[cols_feat], num_iteration=bst.best_iteration)\n",
    "    prdtst_calib = calibration(prdtst, **pops)\n",
    "    tgt2prdtst[tgt] = prdtst_calib"
   ]
  },
  {
   "cell_type": "code",
   "execution_count": 24,
   "metadata": {},
   "outputs": [],
   "source": [
    "dfsub_ids = dftst[['twtid','u2id',]]\n",
    "\n",
    "tgt2dfsub = {}\n",
    "for tgt,prdtst in tgt2prdtst.items():\n",
    "    dfsub = dfsub_ids.copy()\n",
    "    dfsub['scr'] = prdtst\n",
    "    tgt2dfsub[tgt]=dfsub"
   ]
  },
  {
   "cell_type": "code",
   "execution_count": 25,
   "metadata": {},
   "outputs": [
    {
     "name": "stdout",
     "output_type": "stream",
     "text": [
      "2020-03-24 22:25:58 Retweet\n",
      "2020-03-24 22:28:04 Reply\n",
      "2020-03-24 22:30:14 RTwCmnt\n",
      "2020-03-24 22:32:22 Like\n",
      "CPU times: user 7min 55s, sys: 13.6 s, total: 8min 9s\n",
      "Wall time: 8min 26s\n"
     ]
    }
   ],
   "source": [
    "%%time\n",
    "for i,tgt in enumerate(['Retweet','Reply','RTwCmnt','Like',]):\n",
    "    dfsub = tgt2dfsub[tgt]\n",
    "    print(dtnow(), tgt)\n",
    "    dfsub.to_csv(f'{p_out}/{i}_{tgt}__{valtmstmp}__{PRFX}.csv',index=False,header=False)"
   ]
  },
  {
   "cell_type": "code",
   "execution_count": null,
   "metadata": {},
   "outputs": [],
   "source": []
  },
  {
   "cell_type": "code",
   "execution_count": null,
   "metadata": {},
   "outputs": [],
   "source": []
  },
  {
   "cell_type": "code",
   "execution_count": null,
   "metadata": {},
   "outputs": [],
   "source": []
  },
  {
   "cell_type": "code",
   "execution_count": null,
   "metadata": {},
   "outputs": [],
   "source": []
  }
 ],
 "metadata": {
  "kernelspec": {
   "display_name": "rcss20",
   "language": "python",
   "name": "rcss20"
  },
  "language_info": {
   "codemirror_mode": {
    "name": "ipython",
    "version": 3
   },
   "file_extension": ".py",
   "mimetype": "text/x-python",
   "name": "python",
   "nbconvert_exporter": "python",
   "pygments_lexer": "ipython3",
   "version": "3.7.6"
  },
  "toc": {
   "base_numbering": 1,
   "nav_menu": {},
   "number_sections": true,
   "sideBar": true,
   "skip_h1_title": false,
   "title_cell": "Table of Contents",
   "title_sidebar": "Contents",
   "toc_cell": false,
   "toc_position": {},
   "toc_section_display": true,
   "toc_window_display": true
  }
 },
 "nbformat": 4,
 "nbformat_minor": 4
}
