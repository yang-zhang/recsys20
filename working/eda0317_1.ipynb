{
 "cells": [
  {
   "cell_type": "markdown",
   "metadata": {},
   "source": [
    "- http://matthewrocklin.com/blog/work/2017/03/28/dask-xgboost\n",
    "- https://examples.dask.org/machine-learning/xgboost.html#Learn-more"
   ]
  },
  {
   "cell_type": "markdown",
   "metadata": {},
   "source": [
    "# setup"
   ]
  },
  {
   "cell_type": "code",
   "execution_count": 1,
   "metadata": {},
   "outputs": [
    {
     "name": "stdout",
     "output_type": "stream",
     "text": [
      "dask.__version__ 2.12.0\n",
      "['retweet', 'reply', 'like', 'retweet_with_comment']\n"
     ]
    }
   ],
   "source": [
    "from pathlib import Path\n",
    "import dask.dataframe as dd\n",
    "import pandas as pd\n",
    "import dask\n",
    "print('dask.__version__', dask.__version__)\n",
    "import xgboost\n",
    "import datetime\n",
    "def dtnow(): return datetime.datetime.now().strftime('%Y-%m-%d %H:%M:%S')\n",
    "\n",
    "\n",
    "SEED=101\n",
    "HOME='/data/git/recsys20'\n",
    "p_in=f'{HOME}/input'\n",
    "\n",
    "cols=[\n",
    "'text_tokens',\n",
    "'hashtags',\n",
    "'tweet_id',\n",
    "'present_media',\n",
    "'present_links',\n",
    "'present_domains',\n",
    "'tweet_type',\n",
    "'language',\n",
    "'timestamp',\n",
    "\n",
    "'engaged_user_id',\n",
    "'engaged_follower_count',\n",
    "'engaged_following_count',\n",
    "'engaged_is_verified',\n",
    "'engaged_account_creation_time',\n",
    "\n",
    "'engaging_user_id',\n",
    "'engaging_follower_count',\n",
    "'engaging_following_count',\n",
    "'engaging_is_verified',\n",
    "'engaging_account_creation_time',\n",
    "\n",
    "'engagee_follows_engager',\n",
    "'reply_engagement_timestamp',\n",
    "'retweet_engagement_timestamp',\n",
    "'retweet_with_comment_engagement_timestamp',\n",
    "'like_engagement_timestamp',\n",
    "]\n",
    "\n",
    "\n",
    "cols_val = cols[:-4]\n",
    "\n",
    "cols_tgt_tmstmp=[\n",
    "    'retweet_engagement_timestamp',\n",
    "    'reply_engagement_timestamp',\n",
    "    'like_engagement_timestamp',\n",
    "    'retweet_with_comment_engagement_timestamp',\n",
    "]\n",
    "cols_tgt=[o.split('_engagement_timestamp')[0] for o in cols_tgt_tmstmp]\n",
    "print(cols_tgt)"
   ]
  },
  {
   "cell_type": "code",
   "execution_count": 2,
   "metadata": {},
   "outputs": [],
   "source": [
    "from sklearn.metrics import precision_recall_curve, auc, log_loss\n",
    "\n",
    "def compute_prauc(pred, gt):\n",
    "    prec, recall, thresh = precision_recall_curve(gt, pred)\n",
    "    prauc = auc(recall, prec)\n",
    "    return prauc\n",
    "\n",
    "def calculate_ctr(gt):\n",
    "    positive = len([x for x in gt if x == 1])\n",
    "    ctr = positive/float(len(gt))\n",
    "    return ctr\n",
    "\n",
    "def compute_rce(pred, gt):\n",
    "    cross_entropy = log_loss(gt, pred)\n",
    "    data_ctr = calculate_ctr(gt)\n",
    "    strawman_cross_entropy = log_loss(gt, [data_ctr for _ in range(len(gt))])\n",
    "    return (1.0 - cross_entropy/strawman_cross_entropy)*100.0"
   ]
  },
  {
   "cell_type": "markdown",
   "metadata": {},
   "source": [
    "# prepare data"
   ]
  },
  {
   "cell_type": "code",
   "execution_count": 3,
   "metadata": {},
   "outputs": [],
   "source": [
    "# (rcss20) ➜  recsys20 git:(master) ✗ wc -l input/trn.tsv\n",
    "#  148,075,238 data/trn.tsv\n",
    "# (rcss20) ➜  recsys20 git:(master) ✗ wc -l input/val.tsv\n",
    "#  15,127,684 data/val.tsv\n"
   ]
  },
  {
   "cell_type": "code",
   "execution_count": 4,
   "metadata": {},
   "outputs": [
    {
     "data": {
      "text/plain": [
       "'2020-03-17 02:32:24'"
      ]
     },
     "execution_count": 4,
     "metadata": {},
     "output_type": "execute_result"
    }
   ],
   "source": [
    "trntmstmp=1584412344\n",
    "datetime.datetime.fromtimestamp(trntmstmp).strftime('%Y-%m-%d %H:%M:%S')"
   ]
  },
  {
   "cell_type": "code",
   "execution_count": 5,
   "metadata": {},
   "outputs": [
    {
     "data": {
      "text/plain": [
       "'2020-03-17 00:30:47'"
      ]
     },
     "execution_count": 5,
     "metadata": {},
     "output_type": "execute_result"
    }
   ],
   "source": [
    "valtmstmp=1584405047\n",
    "datetime.datetime.fromtimestamp(valtmstmp).strftime('%Y-%m-%d %H:%M:%S')"
   ]
  },
  {
   "cell_type": "raw",
   "metadata": {},
   "source": [
    "!head -10000 {p_in}/trn_{trntmstmp}.tsv > {p_in}/trn_{trntmstmp}_1e4.tsv"
   ]
  },
  {
   "cell_type": "raw",
   "metadata": {},
   "source": [
    "!head -1000 {p_in}/val_{valtmstmp}.tsv > {p_in}/val_{valtmstmp}_1e3.tsv"
   ]
  },
  {
   "cell_type": "code",
   "execution_count": 7,
   "metadata": {},
   "outputs": [
    {
     "name": "stdout",
     "output_type": "stream",
     "text": [
      "\u001b[0m\u001b[01;32mdownloads.ipynb\u001b[0m*        \u001b[01;32mtrn_1584412344_1e7.tsv\u001b[0m*  val_1584405047_1e3.tsv\r\n",
      "\u001b[01;32mtmp.ipynb\u001b[0m*              trn_1584412344_5e7.tsv   \u001b[01;32mval_1584405047.tsv\u001b[0m*\r\n",
      "trn_1584412344_1e3.tsv  \u001b[01;32mtrn_1584412344.tsv\u001b[0m*      \u001b[01;32mval1e4.tsv\u001b[0m*\r\n",
      "trn_1584412344_1e4.tsv  \u001b[01;32mtrn1e5.tsv\u001b[0m*\r\n"
     ]
    }
   ],
   "source": [
    "ls $p_in"
   ]
  },
  {
   "cell_type": "code",
   "execution_count": null,
   "metadata": {},
   "outputs": [],
   "source": [
    "dftrn=dd.read_csv(\n",
    "    f'{p_in}/trn_{trntmstmp}.tsv',\n",
    "#     f'{p_in}/trn_{trntmstmp}_1e4.tsv',\n",
    "    sep='\\x01', header=None, names=cols,)"
   ]
  },
  {
   "cell_type": "code",
   "execution_count": 15,
   "metadata": {},
   "outputs": [],
   "source": [
    "dfval=dd.read_csv(\n",
    "    f'{p_in}/val_{valtmstmp}.tsv',\n",
    "#     f'{p_in}/val_{valtmstmp}_1e3.tsv',\n",
    "    sep='\\x01',header=None,names=cols_val,)"
   ]
  },
  {
   "cell_type": "code",
   "execution_count": 21,
   "metadata": {},
   "outputs": [
    {
     "data": {
      "text/html": [
       "<div>\n",
       "<style scoped>\n",
       "    .dataframe tbody tr th:only-of-type {\n",
       "        vertical-align: middle;\n",
       "    }\n",
       "\n",
       "    .dataframe tbody tr th {\n",
       "        vertical-align: top;\n",
       "    }\n",
       "\n",
       "    .dataframe thead th {\n",
       "        text-align: right;\n",
       "    }\n",
       "</style>\n",
       "<table border=\"1\" class=\"dataframe\">\n",
       "  <thead>\n",
       "    <tr style=\"text-align: right;\">\n",
       "      <th></th>\n",
       "      <th>text_tokens</th>\n",
       "      <th>hashtags</th>\n",
       "      <th>tweet_id</th>\n",
       "      <th>present_media</th>\n",
       "      <th>present_links</th>\n",
       "      <th>present_domains</th>\n",
       "      <th>tweet_type</th>\n",
       "      <th>language</th>\n",
       "      <th>timestamp</th>\n",
       "      <th>engaged_user_id</th>\n",
       "      <th>engaged_follower_count</th>\n",
       "      <th>engaged_following_count</th>\n",
       "      <th>engaged_is_verified</th>\n",
       "      <th>engaged_account_creation_time</th>\n",
       "      <th>engaging_user_id</th>\n",
       "      <th>engaging_follower_count</th>\n",
       "      <th>engaging_following_count</th>\n",
       "      <th>engaging_is_verified</th>\n",
       "      <th>engaging_account_creation_time</th>\n",
       "      <th>engagee_follows_engager</th>\n",
       "    </tr>\n",
       "  </thead>\n",
       "  <tbody>\n",
       "    <tr>\n",
       "      <th>0</th>\n",
       "      <td>101\\t47185\\t10157\\t100986\\t10343\\t55422\\t119\\t...</td>\n",
       "      <td>NaN</td>\n",
       "      <td>7647B4E9DAF4C1D8973397DC2A04F3E3</td>\n",
       "      <td>Photo</td>\n",
       "      <td>NaN</td>\n",
       "      <td>NaN</td>\n",
       "      <td>TopLevel</td>\n",
       "      <td>D3164C7FBCF2565DDF915B1B3AEFB1DC</td>\n",
       "      <td>1581703126</td>\n",
       "      <td>8A9AB92B775C62C4AB60DF6773A01571</td>\n",
       "      <td>13941</td>\n",
       "      <td>1216</td>\n",
       "      <td>False</td>\n",
       "      <td>1448292186</td>\n",
       "      <td>0000006C3074607050F1339DDCB890BB</td>\n",
       "      <td>27448</td>\n",
       "      <td>600</td>\n",
       "      <td>False</td>\n",
       "      <td>1520948869</td>\n",
       "      <td>True</td>\n",
       "    </tr>\n",
       "    <tr>\n",
       "      <th>1</th>\n",
       "      <td>101\\t6006\\t5086\\t1939\\t7418\\t3601\\t6406\\t1913\\...</td>\n",
       "      <td>NaN</td>\n",
       "      <td>CCBFBA5AFE7EFC03102EA8D0F86C4208</td>\n",
       "      <td>Photo</td>\n",
       "      <td>NaN</td>\n",
       "      <td>NaN</td>\n",
       "      <td>TopLevel</td>\n",
       "      <td>22C448FF81263D4BAF2A176145EE9EAD</td>\n",
       "      <td>1581736431</td>\n",
       "      <td>187AC59639DA9A6F32F7CD118EDD58F7</td>\n",
       "      <td>476439</td>\n",
       "      <td>1478</td>\n",
       "      <td>False</td>\n",
       "      <td>1254447722</td>\n",
       "      <td>00000776B07587ECA9717BFC301F2D6E</td>\n",
       "      <td>102</td>\n",
       "      <td>659</td>\n",
       "      <td>False</td>\n",
       "      <td>1478011810</td>\n",
       "      <td>False</td>\n",
       "    </tr>\n",
       "    <tr>\n",
       "      <th>2</th>\n",
       "      <td>101\\t56898\\t137\\t44851\\t10317\\t11490\\t10112\\t1...</td>\n",
       "      <td>NaN</td>\n",
       "      <td>E18C2DCFC5AF20C650A0FD94598E69B7</td>\n",
       "      <td>Video</td>\n",
       "      <td>NaN</td>\n",
       "      <td>NaN</td>\n",
       "      <td>Retweet</td>\n",
       "      <td>ECED8A16BE2A5E8871FD55F4842F16B1</td>\n",
       "      <td>1582061925</td>\n",
       "      <td>82626B53CB2AD3B469E4AE06EAA9D930</td>\n",
       "      <td>367</td>\n",
       "      <td>702</td>\n",
       "      <td>False</td>\n",
       "      <td>1518708926</td>\n",
       "      <td>00000860E80C67D8C46CE57C64DE9444</td>\n",
       "      <td>230</td>\n",
       "      <td>189</td>\n",
       "      <td>False</td>\n",
       "      <td>1541013180</td>\n",
       "      <td>True</td>\n",
       "    </tr>\n",
       "    <tr>\n",
       "      <th>3</th>\n",
       "      <td>101\\t13497\\t10437\\t94005\\t11161\\t73632\\t11067\\...</td>\n",
       "      <td>NaN</td>\n",
       "      <td>26DC813FDF8546B757BB9141099F119E</td>\n",
       "      <td>NaN</td>\n",
       "      <td>D58137F9D688C88435FD64FBAEA82B97</td>\n",
       "      <td>E91CDEC8DC7ABF30592FA024616FF970</td>\n",
       "      <td>TopLevel</td>\n",
       "      <td>ECED8A16BE2A5E8871FD55F4842F16B1</td>\n",
       "      <td>1582110043</td>\n",
       "      <td>7AFE06FF54898A1E9C716F539831849E</td>\n",
       "      <td>278</td>\n",
       "      <td>1229</td>\n",
       "      <td>False</td>\n",
       "      <td>1243548061</td>\n",
       "      <td>00000865A1538142CDA5936B07FE4311</td>\n",
       "      <td>65</td>\n",
       "      <td>165</td>\n",
       "      <td>False</td>\n",
       "      <td>1452599043</td>\n",
       "      <td>True</td>\n",
       "    </tr>\n",
       "    <tr>\n",
       "      <th>4</th>\n",
       "      <td>101\\t24781\\t10152\\t42041\\t38268\\t10301\\t10798\\...</td>\n",
       "      <td>NaN</td>\n",
       "      <td>30A33055566AAC9EB18734C4EAD11FE1</td>\n",
       "      <td>NaN</td>\n",
       "      <td>AEF0CC9FA7B389B9A2ADF1331F00B65B</td>\n",
       "      <td>42DD9E2D4B2C0B0A71E909A6049EC2C2</td>\n",
       "      <td>TopLevel</td>\n",
       "      <td>D3164C7FBCF2565DDF915B1B3AEFB1DC</td>\n",
       "      <td>1581860270</td>\n",
       "      <td>D240DACE38CA84965270C86D47D3BF40</td>\n",
       "      <td>24313527</td>\n",
       "      <td>121</td>\n",
       "      <td>True</td>\n",
       "      <td>1177506290</td>\n",
       "      <td>00000865A1538142CDA5936B07FE4311</td>\n",
       "      <td>64</td>\n",
       "      <td>164</td>\n",
       "      <td>False</td>\n",
       "      <td>1452599043</td>\n",
       "      <td>False</td>\n",
       "    </tr>\n",
       "  </tbody>\n",
       "</table>\n",
       "</div>"
      ],
      "text/plain": [
       "                                         text_tokens hashtags  \\\n",
       "0  101\\t47185\\t10157\\t100986\\t10343\\t55422\\t119\\t...      NaN   \n",
       "1  101\\t6006\\t5086\\t1939\\t7418\\t3601\\t6406\\t1913\\...      NaN   \n",
       "2  101\\t56898\\t137\\t44851\\t10317\\t11490\\t10112\\t1...      NaN   \n",
       "3  101\\t13497\\t10437\\t94005\\t11161\\t73632\\t11067\\...      NaN   \n",
       "4  101\\t24781\\t10152\\t42041\\t38268\\t10301\\t10798\\...      NaN   \n",
       "\n",
       "                           tweet_id present_media  \\\n",
       "0  7647B4E9DAF4C1D8973397DC2A04F3E3         Photo   \n",
       "1  CCBFBA5AFE7EFC03102EA8D0F86C4208         Photo   \n",
       "2  E18C2DCFC5AF20C650A0FD94598E69B7         Video   \n",
       "3  26DC813FDF8546B757BB9141099F119E           NaN   \n",
       "4  30A33055566AAC9EB18734C4EAD11FE1           NaN   \n",
       "\n",
       "                      present_links                   present_domains  \\\n",
       "0                               NaN                               NaN   \n",
       "1                               NaN                               NaN   \n",
       "2                               NaN                               NaN   \n",
       "3  D58137F9D688C88435FD64FBAEA82B97  E91CDEC8DC7ABF30592FA024616FF970   \n",
       "4  AEF0CC9FA7B389B9A2ADF1331F00B65B  42DD9E2D4B2C0B0A71E909A6049EC2C2   \n",
       "\n",
       "  tweet_type                          language   timestamp  \\\n",
       "0   TopLevel  D3164C7FBCF2565DDF915B1B3AEFB1DC  1581703126   \n",
       "1   TopLevel  22C448FF81263D4BAF2A176145EE9EAD  1581736431   \n",
       "2    Retweet  ECED8A16BE2A5E8871FD55F4842F16B1  1582061925   \n",
       "3   TopLevel  ECED8A16BE2A5E8871FD55F4842F16B1  1582110043   \n",
       "4   TopLevel  D3164C7FBCF2565DDF915B1B3AEFB1DC  1581860270   \n",
       "\n",
       "                    engaged_user_id  engaged_follower_count  \\\n",
       "0  8A9AB92B775C62C4AB60DF6773A01571                   13941   \n",
       "1  187AC59639DA9A6F32F7CD118EDD58F7                  476439   \n",
       "2  82626B53CB2AD3B469E4AE06EAA9D930                     367   \n",
       "3  7AFE06FF54898A1E9C716F539831849E                     278   \n",
       "4  D240DACE38CA84965270C86D47D3BF40                24313527   \n",
       "\n",
       "   engaged_following_count  engaged_is_verified  \\\n",
       "0                     1216                False   \n",
       "1                     1478                False   \n",
       "2                      702                False   \n",
       "3                     1229                False   \n",
       "4                      121                 True   \n",
       "\n",
       "   engaged_account_creation_time                  engaging_user_id  \\\n",
       "0                     1448292186  0000006C3074607050F1339DDCB890BB   \n",
       "1                     1254447722  00000776B07587ECA9717BFC301F2D6E   \n",
       "2                     1518708926  00000860E80C67D8C46CE57C64DE9444   \n",
       "3                     1243548061  00000865A1538142CDA5936B07FE4311   \n",
       "4                     1177506290  00000865A1538142CDA5936B07FE4311   \n",
       "\n",
       "   engaging_follower_count  engaging_following_count  engaging_is_verified  \\\n",
       "0                    27448                       600                 False   \n",
       "1                      102                       659                 False   \n",
       "2                      230                       189                 False   \n",
       "3                       65                       165                 False   \n",
       "4                       64                       164                 False   \n",
       "\n",
       "   engaging_account_creation_time  engagee_follows_engager  \n",
       "0                      1520948869                     True  \n",
       "1                      1478011810                    False  \n",
       "2                      1541013180                     True  \n",
       "3                      1452599043                     True  \n",
       "4                      1452599043                    False  "
      ]
     },
     "execution_count": 21,
     "metadata": {},
     "output_type": "execute_result"
    }
   ],
   "source": [
    "dfval.head()"
   ]
  },
  {
   "cell_type": "code",
   "execution_count": 16,
   "metadata": {},
   "outputs": [
    {
     "name": "stderr",
     "output_type": "stream",
     "text": [
      "/data/anaconda3/envs/rcss20/lib/python3.7/site-packages/dask/core.py:121: DtypeWarning: Columns (4,5) have mixed types.Specify dtype option on import or set low_memory=False.\n",
      "  return func(*(_execute_task(a, cache) for a in args))\n"
     ]
    },
    {
     "name": "stdout",
     "output_type": "stream",
     "text": [
      "CPU times: user 2min 21s, sys: 22 s, total: 2min 43s\n",
      "Wall time: 1min 24s\n"
     ]
    }
   ],
   "source": [
    "%%time\n",
    "lang2cnt=dict(dfval.language.value_counts().compute())"
   ]
  },
  {
   "cell_type": "code",
   "execution_count": 19,
   "metadata": {},
   "outputs": [
    {
     "name": "stderr",
     "output_type": "stream",
     "text": [
      "/data/anaconda3/envs/rcss20/lib/python3.7/site-packages/dask/core.py:121: DtypeWarning: Columns (4,5) have mixed types.Specify dtype option on import or set low_memory=False.\n",
      "  return func(*(_execute_task(a, cache) for a in args))\n"
     ]
    },
    {
     "data": {
      "text/plain": [
       "15127684"
      ]
     },
     "execution_count": 19,
     "metadata": {},
     "output_type": "execute_result"
    }
   ],
   "source": [
    "len(dfval)"
   ]
  },
  {
   "cell_type": "code",
   "execution_count": 18,
   "metadata": {},
   "outputs": [
    {
     "data": {
      "text/plain": [
       "(Delayed('int-ad4c4931-3f8a-453c-abc9-31797d754d1c'), 20)"
      ]
     },
     "execution_count": 18,
     "metadata": {},
     "output_type": "execute_result"
    }
   ],
   "source": [
    "nval=len(dfval).compute"
   ]
  },
  {
   "cell_type": "code",
   "execution_count": 23,
   "metadata": {
    "collapsed": true
   },
   "outputs": [
    {
     "data": {
      "text/plain": [
       "{'D3164C7FBCF2565DDF915B1B3AEFB1DC': 0.4281568150154379,\n",
       " '22C448FF81263D4BAF2A176145EE9EAD': 0.15653506511637869,\n",
       " '06D61DCBBE938971E1EA0C38BD9B5446': 0.08684409325313776,\n",
       " 'ECED8A16BE2A5E8871FD55F4842F16B1': 0.07187590645071645,\n",
       " 'B9175601E87101A984A50F8A62A1C374': 0.0510950651798385,\n",
       " '4DC22C3F31C5C43721E6B5815A595ED6': 0.03233621220538451,\n",
       " '167115458A0DBDFF7E9C0C53A83BAC9B': 0.02869156970756396,\n",
       " '125C57F4FA6D4E110983FB11B52EFD4E': 0.02251587222472389,\n",
       " '022EC308651FACB02794A8147AEE1B78': 0.022084940431066645,\n",
       " 'FA3F382BC409C271E3D6EAF8BE4648DD': 0.020434654769361918,\n",
       " '9BF3403E0EB7EA8A256DA9019C0B0716': 0.01711266575901506,\n",
       " '975B38F44D65EE42A547283787FF5A21': 0.008900304897960587,\n",
       " '2996EB2FE8162C076D070A4C8D6532CD': 0.008491055207128863,\n",
       " 'FF60A88F53E63000266F8B9149E35AD9': 0.005443463784674508,\n",
       " '717293301FE296B0B61950D041485825': 0.005351975887386331,\n",
       " '3E16B11B7ADE3A22DDFC4423FBCEAD5D': 0.005259694742433805,\n",
       " '3820C29CBCA409A33BADF68852057C4A': 0.005107391190878921,\n",
       " '9ECD42BC079C20F156F53CB3B99E600E': 0.0025499607210198202,\n",
       " '76B8A9C3013AE6414A3E6012413CDC3B': 0.0025153883436486377,\n",
       " 'AEF22666801F0A5846D853B9CEB2E327': 0.002179910685601312,\n",
       " '190BA7DA361BC06BC1D7E824C378064D': 0.0019262697449259252,\n",
       " '1FFD2FE4297F5E70EBC6C3230D95CB9C': 0.0019155609014572224,\n",
       " 'A0C7021AD8299ADF0C9EBE326C115F6F': 0.0012986125305102882,\n",
       " 'D413F5FE5236E5650A46FD983AB39212': 0.0012444072734464839,\n",
       " '48236EC80FDDDFADE99420ABC9210DDF': 0.0011455818352630845,\n",
       " '691890251F2B9FF922BE6D3699ABEFD2': 0.0008832151702798657,\n",
       " '920502FAA080485768AA89BC96A55C47': 0.0007246317413822235,\n",
       " '0331BF70E606D62D92C96CE9AD71A7CF': 0.0006743927226401609,\n",
       " '89616CFF8EC8637092F885C7EFF43D74': 0.0006288470859121594,\n",
       " '06BEAB41D66CCFF329D1ED8BA120A6C2': 0.0006205840894085308,\n",
       " '60FBA0E834CC59D647C3599AD763FFDF': 0.0005243367061342635,\n",
       " 'C7A400D9AD489ACF673CF12FBB80AAE5': 0.00047032976098654625,\n",
       " 'E59EF8BB86A6D815331DDF4C467CE0C7': 0.0004138108649017259,\n",
       " '4249CE88433AEA3F8DCEECF008B3CB95': 0.00038637771650967855,\n",
       " '544FA32458C903F1125FE6598300A047': 0.00037732147234170147,\n",
       " 'CB11E9CF42BD0A1BAD5E27BF3422D99D': 0.00033765908912428366,\n",
       " '3A85BCEC571C3F5AB1069E4924189177': 0.0002736043402281539,\n",
       " 'FF7EABB5A382356D54D9C41BA0125E09': 0.00025767328296915775,\n",
       " 'E7BB61D2A87C1E72DF1C7BC292B86A1C': 0.0002548308121719095,\n",
       " '69C4A33B9AD29AF883D60BA61CC08702': 0.00024068456215769712,\n",
       " 'F4FD40A716F1572C9A28E9CAA58BE3A5': 0.00021701934017130447,\n",
       " '259A6F6DFD672CB1F883CBEC01B99F2D': 0.00019963399552766966,\n",
       " '6431A618DCF7F4CB7F62A95A39BAB77A': 0.000198113604171002,\n",
       " '3121F7240D488F74EEED9312E174B217': 0.00018991671163940232,\n",
       " '54208B51D44E7D91DC2F3DD02ADEDEC2': 0.00016354122679981947,\n",
       " 'DBEEFB80F8A314311E2B4BD593E11DFE': 0.00016235135530329693,\n",
       " 'B6D90127A09AB1229731898AEF9D4D7C': 0.00013749626182038175,\n",
       " 'F3E1016563360F9434FA986CA86C249C': 0.0001344554791070464,\n",
       " '2216D01F7B48554E4211021A46816FCF': 0.00011581415899486002,\n",
       " '1BC639981AE88E09129594B11F894A21': 9.578465547006403e-05,\n",
       " 'C942E369C88CE7C56E69A84D04319FF0': 5.770876758134292e-05,\n",
       " '57ADD4576E2AD6648E9B2DE32F3462A5': 5.446967295192046e-05,\n",
       " 'AC1F0671A4B0D5B8112F87DE7B490E6D': 4.501680495176922e-05,\n",
       " 'C2EF5FABE7619D8A333D5F0FF76E1BFA': 4.0587838825824233e-05,\n",
       " 'AA0254541959271ED3453119B787D0C3': 3.080445096552784e-05,\n",
       " 'A6B70CDF8C7B934D4A218CA9B6B7FDB4': 1.8971839972331523e-05,\n",
       " 'BF477808A37E3E4E9C5D9F1839E8519E': 1.2229234825370492e-05,\n",
       " '97F81BD92A1ACA3F1F43C154E689350F': 1.1568195105080195e-05,\n",
       " '60A3DB168094D41241E45E0DE3539BC0': 1.070884346870281e-05,\n",
       " '12D8CEB94F89D11D7EB95EAE9689B009': 7.800268699425504e-06,\n",
       " 'F73266A79468BB89C4325FDEDB0B533C': 5.552733650438494e-06,\n",
       " '4690215948DBF6872B8ED1C2BC87B17E': 5.354421734351405e-06,\n",
       " 'D18801336202297E6484F634CAC6592E': 3.834030377683722e-06,\n",
       " '2E18F6F53E3CF073911AF0A93BBE5373': 2.644158881161188e-07,\n",
       " 'B2235C8B73239FDC5780DD132419833A': 1.9831191608708906e-07,\n",
       " '515E873C86EE1577E75FA2387B7FA59E': 6.61039720290297e-08}"
      ]
     },
     "execution_count": 23,
     "metadata": {},
     "output_type": "execute_result"
    }
   ],
   "source": [
    "ttl=sum(lang2cnt.values())\n",
    "lang2perc={k:v/ttl for k,v in lang2cnt.items()}\n",
    "lang2perc"
   ]
  },
  {
   "cell_type": "code",
   "execution_count": 24,
   "metadata": {},
   "outputs": [
    {
     "data": {
      "text/plain": [
       "66"
      ]
     },
     "execution_count": 24,
     "metadata": {},
     "output_type": "execute_result"
    }
   ],
   "source": [
    "len(lang2perc)"
   ]
  },
  {
   "cell_type": "code",
   "execution_count": null,
   "metadata": {},
   "outputs": [],
   "source": []
  },
  {
   "cell_type": "code",
   "execution_count": null,
   "metadata": {},
   "outputs": [],
   "source": []
  },
  {
   "cell_type": "code",
   "execution_count": null,
   "metadata": {},
   "outputs": [],
   "source": []
  },
  {
   "cell_type": "code",
   "execution_count": null,
   "metadata": {},
   "outputs": [],
   "source": []
  },
  {
   "cell_type": "code",
   "execution_count": null,
   "metadata": {},
   "outputs": [],
   "source": []
  },
  {
   "cell_type": "code",
   "execution_count": null,
   "metadata": {},
   "outputs": [],
   "source": []
  }
 ],
 "metadata": {
  "kernelspec": {
   "display_name": "rcss20",
   "language": "python",
   "name": "rcss20"
  },
  "language_info": {
   "codemirror_mode": {
    "name": "ipython",
    "version": 3
   },
   "file_extension": ".py",
   "mimetype": "text/x-python",
   "name": "python",
   "nbconvert_exporter": "python",
   "pygments_lexer": "ipython3",
   "version": "3.7.6"
  },
  "toc": {
   "base_numbering": 1,
   "nav_menu": {},
   "number_sections": true,
   "sideBar": true,
   "skip_h1_title": false,
   "title_cell": "Table of Contents",
   "title_sidebar": "Contents",
   "toc_cell": false,
   "toc_position": {},
   "toc_section_display": true,
   "toc_window_display": true
  }
 },
 "nbformat": 4,
 "nbformat_minor": 2
}
