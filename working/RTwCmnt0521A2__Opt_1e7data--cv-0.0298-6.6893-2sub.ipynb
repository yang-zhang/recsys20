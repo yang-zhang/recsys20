{
 "cells": [
  {
   "cell_type": "markdown",
   "metadata": {},
   "source": [
    "# start"
   ]
  },
  {
   "cell_type": "code",
   "execution_count": 1,
   "metadata": {},
   "outputs": [
    {
     "name": "stdout",
     "output_type": "stream",
     "text": [
      "train_total 148,075,238, test_total 14,000,000\n",
      "train_total 10,000,000, valsz 1,000,000\n",
      "['2020-03-17 02:32:24', '2020-05-21 15:43:26']\n",
      "['2020-02-06 00:00:00', '2020-02-12 23:59:59']\n",
      "['2020-02-13 00:00:00', '2020-02-19 23:59:59']\n"
     ]
    }
   ],
   "source": [
    "TGT='RTwCmnt'\n",
    "PRFX='RTwCmnt0521A2'\n",
    "\n",
    "trntmstmp=1584412344\n",
    "tsttmstmp=1590075806\n",
    "\n",
    "tm_trn_min,tm_trn_max=(1580947200, 1581551999)\n",
    "tm_tst_min,tm_tst_max=(1581552000, 1582156799)\n",
    "\n",
    "train_total=148075238\n",
    "test_total=int(1.4e7)\n",
    "print(f'train_total {train_total:,}, test_total {test_total:,}')\n",
    "\n",
    "SEED=101\n",
    "\n",
    "trnsz = int(1e7)\n",
    "valsz = trnsz//10\n",
    "print(f'train_total {trnsz:,}, valsz {valsz:,}')\n",
    "\n",
    "\n",
    "\n",
    "import datetime\n",
    "def showtm(tm): return datetime.datetime.fromtimestamp(tm).strftime('%Y-%m-%d %H:%M:%S')\n",
    "print([showtm(tm) for tm in (trntmstmp, tsttmstmp)])\n",
    "print([showtm(tm) for tm in (tm_trn_min,tm_trn_max)])\n",
    "print([showtm(tm) for tm in (tm_tst_min,tm_tst_max)])"
   ]
  },
  {
   "cell_type": "markdown",
   "metadata": {},
   "source": [
    "# setup"
   ]
  },
  {
   "cell_type": "code",
   "execution_count": 2,
   "metadata": {},
   "outputs": [
    {
     "name": "stdout",
     "output_type": "stream",
     "text": [
      "TCOL retwt_cmmnt\n",
      "{'Retweet': 'retwt', 'Reply': 'reply', 'Like': 'like', 'RTwCmnt': 'retwt_cmmnt'}\n"
     ]
    }
   ],
   "source": [
    "from tqdm import tqdm\n",
    "import time\n",
    "from pathlib import Path\n",
    "from collections import Counter,defaultdict\n",
    "from sklearn.model_selection import train_test_split\n",
    "import pandas as pd\n",
    "import numpy as np\n",
    "import matplotlib.pyplot as plt\n",
    "from sklearn.metrics import accuracy_score, roc_auc_score, roc_curve, auc, precision_recall_curve\n",
    "import pickle\n",
    "# import xgboost as xgb\n",
    "import lightgbm as lgb\n",
    "import category_encoders as ce\n",
    "import gc\n",
    "\n",
    "import optuna\n",
    "# optuna.logging.CRITICAL, optuna.logging.FATAL\n",
    "# optuna.logging.ERROR\n",
    "# optuna.logging.WARNING, optuna.logging.WARN\n",
    "# optuna.logging.INFO\n",
    "# optuna.logging.DEBUG\n",
    "# optuna.logging.set_verbosity(optuna.logging.ERROR)\n",
    "import optuna.integration.lightgbm as lgb\n",
    "optuna.logging.disable_default_handler()\n",
    "\n",
    "\n",
    "pd.set_option('display.max_rows', 500)\n",
    "pd.set_option('display.max_columns', 500)\n",
    "\n",
    "\n",
    "import datetime\n",
    "def dtnow(): return datetime.datetime.now().strftime('%Y-%m-%d %H:%M:%S')\n",
    "\n",
    "def iou(s1,s2):\n",
    "    return len(s1&s2) / len(s1|s2)\n",
    "\n",
    "HOME='/data/git/recsys20'\n",
    "p_in=f'{HOME}/input'\n",
    "p_out=f'{HOME}/output/{PRFX}'\n",
    "Path(p_out).mkdir(exist_ok=True, parents=True)\n",
    "\n",
    "from sklearn.metrics import precision_recall_curve, auc, log_loss\n",
    "\n",
    "def compute_prauc(pred, gt):\n",
    "    prec, recall, thresh = precision_recall_curve(gt, pred)\n",
    "    prauc = auc(recall, prec)\n",
    "    return prauc\n",
    "\n",
    "def calculate_ctr(gt):\n",
    "    positive = len([x for x in gt if x == 1])\n",
    "    ctr = positive/float(len(gt))\n",
    "    return ctr\n",
    "\n",
    "def compute_rce(pred, gt):\n",
    "    cross_entropy = log_loss(gt, pred)\n",
    "    data_ctr = calculate_ctr(gt)\n",
    "    strawman_cross_entropy = log_loss(gt, [data_ctr for _ in range(len(gt))])\n",
    "    return (1.0 - cross_entropy/strawman_cross_entropy)*100.0\n",
    "\n",
    "# https://towardsdatascience.com/how-to-calibrate-undersampled-model-scores-8f3319c1ea5b\n",
    "# How to use the function?\n",
    "# Let’s say your goal is to generate a model that shows the credit default probabilities and your original \n",
    "# training data has 50,000 rows with only 500 of them labeled as target class. When you sample your non-target \n",
    "# instances randomly and reduce the total row count to 10,000, while conserving 500 target rows, our calibration\n",
    "# function becomes:\n",
    "# calibration(model_results, 50000, 500, 10000, 500)\n",
    "# Here model_results is your model probability output array. After you train your model and put the results in it, your function is ready to use. \n",
    "def calibration(data, train_pop, target_pop, sampled_train_pop, sampled_target_pop):\n",
    "    calibrated_data = ((data * (target_pop / train_pop) / (sampled_target_pop / sampled_train_pop)) /\n",
    "    (((1 - data) * (1 - target_pop / train_pop) / (1 - sampled_target_pop / sampled_train_pop)) +\n",
    "     (data * (target_pop / train_pop) / (sampled_target_pop / sampled_train_pop))))\n",
    "    return calibrated_data\n",
    "\n",
    "\n",
    "cols=['toks','hshtgs','twtid','media','links','domns','twttyp','lang','tm','u1id','u1_fllwer_cnt','u1_fllwing_cnt','u1_vrfed','u1_create_tm','u2id','u2_fllwer_cnt','u2_fllwng_cnt','u2_vrfed','u2_create_tm','u1_fllw_u2','reply_tm','retwt_tm','retwt_cmmnt_tm','like_tm',]\n",
    "\n",
    "cols_val = cols[:-4]\n",
    "cols_tgt_tmstmp=[ 'retwt_tm', 'reply_tm', 'like_tm', 'retwt_cmmnt_tm',]\n",
    "cols_tgt=[o.split('_tm')[0] for o in cols_tgt_tmstmp]\n",
    "tgts             = ['Retweet','Reply','Like','RTwCmnt',]\n",
    "assert cols_tgt == ['retwt',  'reply','like','retwt_cmmnt',]\n",
    "tgt2col = dict(zip(tgts, cols_tgt))\n",
    "TCOL=tgt2col[TGT]\n",
    "print('TCOL', TCOL)\n",
    "print(tgt2col)"
   ]
  },
  {
   "cell_type": "markdown",
   "metadata": {},
   "source": [
    "# prep"
   ]
  },
  {
   "cell_type": "code",
   "execution_count": 3,
   "metadata": {},
   "outputs": [],
   "source": [
    "def prp_tgt(df):\n",
    "    df[cols_tgt]=df[cols_tgt_tmstmp].notna()\n",
    "    df.drop(columns=cols_tgt_tmstmp, inplace=True)\n",
    "    display(df[cols_tgt].mean())"
   ]
  },
  {
   "cell_type": "code",
   "execution_count": 4,
   "metadata": {
    "scrolled": false
   },
   "outputs": [
    {
     "name": "stdout",
     "output_type": "stream",
     "text": [
      "(1000000, 24)\n"
     ]
    },
    {
     "data": {
      "text/plain": [
       "retwt          0.113135\n",
       "reply          0.027688\n",
       "like           0.438804\n",
       "retwt_cmmnt    0.007750\n",
       "dtype: float64"
      ]
     },
     "metadata": {},
     "output_type": "display_data"
    },
    {
     "name": "stdout",
     "output_type": "stream",
     "text": [
      "CPU times: user 11.6 s, sys: 1.39 s, total: 13 s\n",
      "Wall time: 29.7 s\n"
     ]
    }
   ],
   "source": [
    "%%time\n",
    "dfval = pd.read_csv(f'{p_in}/trn_{trntmstmp}.tsv',sep='\\x01',header=None,names=cols,nrows=valsz)\n",
    "print(dfval.shape)\n",
    "prp_tgt(dfval)"
   ]
  },
  {
   "cell_type": "markdown",
   "metadata": {},
   "source": [
    "## maybe oversample"
   ]
  },
  {
   "cell_type": "code",
   "execution_count": 5,
   "metadata": {},
   "outputs": [],
   "source": [
    "# df = pd.read_csv(f'{p_in}/trn_{trntmstmp}.tsv',sep='\\x01',header=None,names=cols,nrows=5)\n",
    "# dfval = pd.read_csv(f'{p_in}/trn_{trntmstmp}.tsv',sep='\\x01',header=None,names=cols,nrows=2)\n",
    "# dftrn = pd.read_csv(f'{p_in}/trn_{trntmstmp}.tsv',sep='\\x01',header=None,names=cols,skiprows=2,nrows=3)\n",
    "# display(df.twtid)\n",
    "# display(dfval.twtid)\n",
    "# display(dftrn.twtid)\n",
    "\n",
    "# 0    D4D1EBDE74F74C5DA529959AF979625C\n",
    "# 1    BFB529DAB6D384EB83E899A72AB3830D\n",
    "# 2    519078C7834E9642508F72A6C2D0F3B7\n",
    "# 3    52AAE9E33EFAC8C478C57B31A9E31ED1\n",
    "# 4    89C1298C55EB3D68E2784F0BFB69E6F8\n",
    "# Name: twtid, dtype: object\n",
    "# 0    D4D1EBDE74F74C5DA529959AF979625C\n",
    "# 1    BFB529DAB6D384EB83E899A72AB3830D\n",
    "# Name: twtid, dtype: object\n",
    "# 0    519078C7834E9642508F72A6C2D0F3B7\n",
    "# 1    52AAE9E33EFAC8C478C57B31A9E31ED1\n",
    "# 2    89C1298C55EB3D68E2784F0BFB69E6F8\n",
    "# Name: twtid, dtype: object"
   ]
  },
  {
   "cell_type": "code",
   "execution_count": 6,
   "metadata": {
    "scrolled": true
   },
   "outputs": [
    {
     "name": "stdout",
     "output_type": "stream",
     "text": [
      "(115000000, 24)\n"
     ]
    },
    {
     "data": {
      "text/plain": [
       "retwt          0.113084\n",
       "reply          0.027444\n",
       "like           0.439211\n",
       "retwt_cmmnt    0.007789\n",
       "dtype: float64"
      ]
     },
     "metadata": {},
     "output_type": "display_data"
    },
    {
     "name": "stdout",
     "output_type": "stream",
     "text": [
      "CPU times: user 21min 48s, sys: 9min 21s, total: 31min 10s\n",
      "Wall time: 1h 21min 48s\n"
     ]
    }
   ],
   "source": [
    "%%time\n",
    "if TGT in ('Retweet','Like'): trnpop=trnsz\n",
    "if TGT=='Reply': trnpop=trnsz*3.7\n",
    "if TGT=='RTwCmnt': trnpop=trnsz*11.5\n",
    "assert trnpop<train_total\n",
    "\n",
    "dftrn = pd.read_csv(f'{p_in}/trn_{trntmstmp}.tsv',sep='\\x01',header=None,names=cols,\n",
    "                     skiprows=valsz, nrows=trnpop)\n",
    "print(dftrn.shape)\n",
    "prp_tgt(dftrn)"
   ]
  },
  {
   "cell_type": "code",
   "execution_count": 7,
   "metadata": {
    "scrolled": true
   },
   "outputs": [
    {
     "name": "stdout",
     "output_type": "stream",
     "text": [
      "(10000000, 24) 0.0895682\n",
      "115000000 895682 10000000 895682\n"
     ]
    },
    {
     "data": {
      "text/html": [
       "<div>\n",
       "<style scoped>\n",
       "    .dataframe tbody tr th:only-of-type {\n",
       "        vertical-align: middle;\n",
       "    }\n",
       "\n",
       "    .dataframe tbody tr th {\n",
       "        vertical-align: top;\n",
       "    }\n",
       "\n",
       "    .dataframe thead th {\n",
       "        text-align: right;\n",
       "    }\n",
       "</style>\n",
       "<table border=\"1\" class=\"dataframe\">\n",
       "  <thead>\n",
       "    <tr style=\"text-align: right;\">\n",
       "      <th></th>\n",
       "      <th>toks</th>\n",
       "      <th>hshtgs</th>\n",
       "      <th>twtid</th>\n",
       "      <th>media</th>\n",
       "      <th>links</th>\n",
       "      <th>domns</th>\n",
       "      <th>twttyp</th>\n",
       "      <th>lang</th>\n",
       "      <th>tm</th>\n",
       "      <th>u1id</th>\n",
       "      <th>u1_fllwer_cnt</th>\n",
       "      <th>u1_fllwing_cnt</th>\n",
       "      <th>u1_vrfed</th>\n",
       "      <th>u1_create_tm</th>\n",
       "      <th>u2id</th>\n",
       "      <th>u2_fllwer_cnt</th>\n",
       "      <th>u2_fllwng_cnt</th>\n",
       "      <th>u2_vrfed</th>\n",
       "      <th>u2_create_tm</th>\n",
       "      <th>u1_fllw_u2</th>\n",
       "      <th>retwt</th>\n",
       "      <th>reply</th>\n",
       "      <th>like</th>\n",
       "      <th>retwt_cmmnt</th>\n",
       "    </tr>\n",
       "  </thead>\n",
       "  <tbody>\n",
       "    <tr>\n",
       "      <th>58</th>\n",
       "      <td>101\\t92777\\t12174\\t10529\\t10379\\t12415\\t21296\\...</td>\n",
       "      <td>9887C2F9C8FFECE3524054D91E871F84</td>\n",
       "      <td>AB583A3DC6D68B776E05B676A85D8EF1</td>\n",
       "      <td>NaN</td>\n",
       "      <td>NaN</td>\n",
       "      <td>NaN</td>\n",
       "      <td>TopLevel</td>\n",
       "      <td>D3164C7FBCF2565DDF915B1B3AEFB1DC</td>\n",
       "      <td>1581053466</td>\n",
       "      <td>0C4925F6A9F2D02019FEE093389053EA</td>\n",
       "      <td>5323</td>\n",
       "      <td>756</td>\n",
       "      <td>False</td>\n",
       "      <td>1571861618</td>\n",
       "      <td>0DD2E67FC9C950D4A6E74AE35AAF8DFC</td>\n",
       "      <td>70</td>\n",
       "      <td>176</td>\n",
       "      <td>False</td>\n",
       "      <td>1575729211</td>\n",
       "      <td>False</td>\n",
       "      <td>True</td>\n",
       "      <td>False</td>\n",
       "      <td>True</td>\n",
       "      <td>True</td>\n",
       "    </tr>\n",
       "    <tr>\n",
       "      <th>74</th>\n",
       "      <td>101\\t1436\\t38468\\t46856\\t26027\\t33178\\t43102\\t...</td>\n",
       "      <td>ECC01E50FE93A536581645A000352670</td>\n",
       "      <td>B54A0C23A97A2C3C1E200BE72FC938A6</td>\n",
       "      <td>Video</td>\n",
       "      <td>NaN</td>\n",
       "      <td>NaN</td>\n",
       "      <td>TopLevel</td>\n",
       "      <td>022EC308651FACB02794A8147AEE1B78</td>\n",
       "      <td>1581326946</td>\n",
       "      <td>F154A8AACEFF4428656AD65905D733C0</td>\n",
       "      <td>5681</td>\n",
       "      <td>337</td>\n",
       "      <td>False</td>\n",
       "      <td>1252754572</td>\n",
       "      <td>0DD2F74333BA3DD3BF6539948BFA0240</td>\n",
       "      <td>284</td>\n",
       "      <td>490</td>\n",
       "      <td>False</td>\n",
       "      <td>1492921198</td>\n",
       "      <td>False</td>\n",
       "      <td>True</td>\n",
       "      <td>False</td>\n",
       "      <td>False</td>\n",
       "      <td>True</td>\n",
       "    </tr>\n",
       "    <tr>\n",
       "      <th>161</th>\n",
       "      <td>101\\t2187\\t4348\\t1881\\t5949\\t1946\\t8255\\t1947\\...</td>\n",
       "      <td>NaN</td>\n",
       "      <td>E70B5EDA130FD6E811BD79A80B65A70A</td>\n",
       "      <td>NaN</td>\n",
       "      <td>NaN</td>\n",
       "      <td>NaN</td>\n",
       "      <td>TopLevel</td>\n",
       "      <td>22C448FF81263D4BAF2A176145EE9EAD</td>\n",
       "      <td>1581001525</td>\n",
       "      <td>AE39BDAF8BE93515E6C5822E0392A29C</td>\n",
       "      <td>1408</td>\n",
       "      <td>845</td>\n",
       "      <td>False</td>\n",
       "      <td>1293800554</td>\n",
       "      <td>0DD345B606CBA075202A535D13735DD5</td>\n",
       "      <td>81</td>\n",
       "      <td>47</td>\n",
       "      <td>False</td>\n",
       "      <td>1550315805</td>\n",
       "      <td>True</td>\n",
       "      <td>True</td>\n",
       "      <td>False</td>\n",
       "      <td>True</td>\n",
       "      <td>True</td>\n",
       "    </tr>\n",
       "    <tr>\n",
       "      <th>286</th>\n",
       "      <td>101\\t80131\\t12257\\t10237\\t10237\\t30185\\t117\\t1...</td>\n",
       "      <td>EAC68DEB6357AC1F50359E7EA5B2CC20</td>\n",
       "      <td>6C95251E43CBBCDC876F851023278776</td>\n",
       "      <td>NaN</td>\n",
       "      <td>NaN</td>\n",
       "      <td>NaN</td>\n",
       "      <td>TopLevel</td>\n",
       "      <td>ECED8A16BE2A5E8871FD55F4842F16B1</td>\n",
       "      <td>1581278044</td>\n",
       "      <td>CDDE0541E6AD917D4A8539A0DBCF1CD1</td>\n",
       "      <td>70618</td>\n",
       "      <td>1091</td>\n",
       "      <td>False</td>\n",
       "      <td>1356643370</td>\n",
       "      <td>0DD3C66CE56DAF76D56FC51BC8F6E400</td>\n",
       "      <td>188</td>\n",
       "      <td>209</td>\n",
       "      <td>False</td>\n",
       "      <td>1572563144</td>\n",
       "      <td>False</td>\n",
       "      <td>True</td>\n",
       "      <td>False</td>\n",
       "      <td>False</td>\n",
       "      <td>True</td>\n",
       "    </tr>\n",
       "    <tr>\n",
       "      <th>407</th>\n",
       "      <td>101\\t56898\\t137\\t39769\\t11517\\t10206\\t10418\\t1...</td>\n",
       "      <td>NaN</td>\n",
       "      <td>9709A4DE0BB607887D20CBE995182F56</td>\n",
       "      <td>NaN</td>\n",
       "      <td>NaN</td>\n",
       "      <td>NaN</td>\n",
       "      <td>Retweet</td>\n",
       "      <td>975B38F44D65EE42A547283787FF5A21</td>\n",
       "      <td>1581295543</td>\n",
       "      <td>E2CEC1941794A5E893BCD69EC29ADD82</td>\n",
       "      <td>83532</td>\n",
       "      <td>1170</td>\n",
       "      <td>True</td>\n",
       "      <td>1243151144</td>\n",
       "      <td>0DD4365AE9DF8E1E88E797282A6D83F5</td>\n",
       "      <td>53</td>\n",
       "      <td>118</td>\n",
       "      <td>False</td>\n",
       "      <td>1576938872</td>\n",
       "      <td>False</td>\n",
       "      <td>True</td>\n",
       "      <td>False</td>\n",
       "      <td>False</td>\n",
       "      <td>True</td>\n",
       "    </tr>\n",
       "  </tbody>\n",
       "</table>\n",
       "</div>"
      ],
      "text/plain": [
       "                                                  toks  \\\n",
       "58   101\\t92777\\t12174\\t10529\\t10379\\t12415\\t21296\\...   \n",
       "74   101\\t1436\\t38468\\t46856\\t26027\\t33178\\t43102\\t...   \n",
       "161  101\\t2187\\t4348\\t1881\\t5949\\t1946\\t8255\\t1947\\...   \n",
       "286  101\\t80131\\t12257\\t10237\\t10237\\t30185\\t117\\t1...   \n",
       "407  101\\t56898\\t137\\t39769\\t11517\\t10206\\t10418\\t1...   \n",
       "\n",
       "                               hshtgs                             twtid  \\\n",
       "58   9887C2F9C8FFECE3524054D91E871F84  AB583A3DC6D68B776E05B676A85D8EF1   \n",
       "74   ECC01E50FE93A536581645A000352670  B54A0C23A97A2C3C1E200BE72FC938A6   \n",
       "161                               NaN  E70B5EDA130FD6E811BD79A80B65A70A   \n",
       "286  EAC68DEB6357AC1F50359E7EA5B2CC20  6C95251E43CBBCDC876F851023278776   \n",
       "407                               NaN  9709A4DE0BB607887D20CBE995182F56   \n",
       "\n",
       "     media links domns    twttyp                              lang  \\\n",
       "58     NaN   NaN   NaN  TopLevel  D3164C7FBCF2565DDF915B1B3AEFB1DC   \n",
       "74   Video   NaN   NaN  TopLevel  022EC308651FACB02794A8147AEE1B78   \n",
       "161    NaN   NaN   NaN  TopLevel  22C448FF81263D4BAF2A176145EE9EAD   \n",
       "286    NaN   NaN   NaN  TopLevel  ECED8A16BE2A5E8871FD55F4842F16B1   \n",
       "407    NaN   NaN   NaN   Retweet  975B38F44D65EE42A547283787FF5A21   \n",
       "\n",
       "             tm                              u1id  u1_fllwer_cnt  \\\n",
       "58   1581053466  0C4925F6A9F2D02019FEE093389053EA           5323   \n",
       "74   1581326946  F154A8AACEFF4428656AD65905D733C0           5681   \n",
       "161  1581001525  AE39BDAF8BE93515E6C5822E0392A29C           1408   \n",
       "286  1581278044  CDDE0541E6AD917D4A8539A0DBCF1CD1          70618   \n",
       "407  1581295543  E2CEC1941794A5E893BCD69EC29ADD82          83532   \n",
       "\n",
       "     u1_fllwing_cnt  u1_vrfed  u1_create_tm                              u2id  \\\n",
       "58              756     False    1571861618  0DD2E67FC9C950D4A6E74AE35AAF8DFC   \n",
       "74              337     False    1252754572  0DD2F74333BA3DD3BF6539948BFA0240   \n",
       "161             845     False    1293800554  0DD345B606CBA075202A535D13735DD5   \n",
       "286            1091     False    1356643370  0DD3C66CE56DAF76D56FC51BC8F6E400   \n",
       "407            1170      True    1243151144  0DD4365AE9DF8E1E88E797282A6D83F5   \n",
       "\n",
       "     u2_fllwer_cnt  u2_fllwng_cnt  u2_vrfed  u2_create_tm  u1_fllw_u2  retwt  \\\n",
       "58              70            176     False    1575729211       False   True   \n",
       "74             284            490     False    1492921198       False   True   \n",
       "161             81             47     False    1550315805        True   True   \n",
       "286            188            209     False    1572563144       False   True   \n",
       "407             53            118     False    1576938872       False   True   \n",
       "\n",
       "     reply   like  retwt_cmmnt  \n",
       "58   False   True         True  \n",
       "74   False  False         True  \n",
       "161  False   True         True  \n",
       "286  False  False         True  \n",
       "407  False  False         True  "
      ]
     },
     "metadata": {},
     "output_type": "display_data"
    },
    {
     "data": {
      "text/plain": [
       "Index(['toks', 'hshtgs', 'twtid', 'media', 'links', 'domns', 'twttyp', 'lang',\n",
       "       'tm', 'u1id', 'u1_fllwer_cnt', 'u1_fllwing_cnt', 'u1_vrfed',\n",
       "       'u1_create_tm', 'u2id', 'u2_fllwer_cnt', 'u2_fllwng_cnt', 'u2_vrfed',\n",
       "       'u2_create_tm', 'u1_fllw_u2', 'retwt', 'reply', 'like', 'retwt_cmmnt'],\n",
       "      dtype='object')"
      ]
     },
     "metadata": {},
     "output_type": "display_data"
    }
   ],
   "source": [
    "train_pop=len(dftrn)\n",
    "sampled_train_pop=trnsz\n",
    "idx_pos = np.where(dftrn[TCOL])[0]\n",
    "target_pop=sampled_target_pop=len(idx_pos)\n",
    "if TGT in ('Reply','RTwCmnt'):\n",
    "    idx_neg0 = np.where(~dftrn[TCOL])[0]\n",
    "    idx_neg = np.random.choice(idx_neg0, trnsz-len(idx_pos), replace=False)\n",
    "    idx = np.concatenate([idx_pos,idx_neg])\n",
    "    dftrn = dftrn.iloc[idx].copy()\n",
    "print(dftrn.shape, dftrn[TCOL].mean())\n",
    "print(train_pop, target_pop, sampled_train_pop, sampled_target_pop)\n",
    "\n",
    "display(dftrn.head())\n",
    "display(dftrn.columns)"
   ]
  },
  {
   "cell_type": "markdown",
   "metadata": {},
   "source": [
    "## prep and features"
   ]
  },
  {
   "cell_type": "code",
   "execution_count": 10,
   "metadata": {},
   "outputs": [],
   "source": [
    "def prp_df(df, tm_max):\n",
    "    '''\n",
    "    tm_max = tm_trn_max for train tm_tst_max for test\n",
    "    '''\n",
    "    lendf = len(df)\n",
    "    print(dtnow(), 'start')\n",
    "    set_u1 = set(df.u1id)\n",
    "    set_u2 = set(df.u2id)\n",
    "    df['u1inu2']=df.u1id.isin(set_u2)\n",
    "    df['u2inu1']=df.u2id.isin(set_u1)\n",
    "\n",
    "    #counts\n",
    "    df['len_toks'] = df.toks.apply(lambda x: len(x.split('\\t')))\n",
    "    df.drop(columns=['toks'], inplace=True)    \n",
    "    for m in ['Photo', 'Video', 'GIF']:\n",
    "        df[f'n_media_{m}'] = df['media'].fillna('').apply(lambda x: x.split('\\t').count(m))\n",
    "    tgnms = ['hshtgs','media', 'links', 'domns',]\n",
    "    for tgnm in tgnms:\n",
    "        df[f'has_{tgnm}']=df[tgnm].notna()\n",
    "        df[f'lst_{tgnm}'] = df[tgnm].fillna('').apply(lambda x: x.split('\\t') if len(x) else [])\n",
    "        df[f'n_{tgnm}'] = df[f'lst_{tgnm}'].apply(len)  \n",
    "    df.drop(columns=['has_links','n_links'], inplace=True) #duplicates has_domns,n_domns \n",
    "    \n",
    "    #time\n",
    "    dt = pd.to_datetime(df.tm, unit='s')\n",
    "    df['dayofweek'] = dt.dt.dayofweek\n",
    "    df['hour'] = dt.dt.hour\n",
    "    \n",
    "    df['tmdlta_u2u1']  = df.u2_create_tm - df.u1_create_tm\n",
    "    df['tmdlta_twtu1'] = df.tm - df.u1_create_tm\n",
    "    df['tmdlta_twtu2'] = df.tm - df.u2_create_tm\n",
    "\n",
    "    df['twt_age']   = tm_max-df.tm\n",
    "    df['u1_age']    = tm_max-df.u1_create_tm\n",
    "    df['u2_age']    = tm_max-df.u2_create_tm\n",
    "    df.drop(columns=['tm', 'u1_create_tm', 'u2_create_tm'], inplace=True)\n",
    "\n",
    "    #time derived\n",
    "    df['u1_fllwer_cnt_by_age'] = df.u1_fllwer_cnt / df.u1_age\n",
    "    df['u1_fllwng_cnt_by_age'] = df.u2_fllwng_cnt / df.u2_age\n",
    "    \n",
    "    #interaction\n",
    "    df['u1u2']=df.u1id+'_'+df.u2id\n",
    "    df['langhour']=df.lang+'_'+df.hour.astype(str)\n",
    "    \n",
    "\n",
    "#     #freq of feature values\n",
    "#     print(dtnow(), 'freq of columns using CountEncoder')\n",
    "#     encoder = ce.CountEncoder()\n",
    "#     encoded = encoder.fit_transform(\n",
    "#     df[['twtid', 'twttyp', 'lang', 'u1id', 'u1_fllwing_cnt', 'u1_vrfed', 'u2id', 'u2_fllwer_cnt', 'u2_vrfed', 'u1_fllw_u2', \n",
    "#        'n_media_Photo', 'n_media_Video', 'n_media_GIF', \n",
    "#        'has_hshtgs', 'n_hshtgs', 'has_media', 'n_media','has_domns', 'n_domns', \n",
    "#        'dayofweek', 'hour', 'u1u2', 'langhour']].astype(object))\n",
    "#     encoded = encoded.astype(int)/lendf\n",
    "#     encoded.columns = [f'frq_{col}' for col in encoded.columns]\n",
    "#     df = pd.concat([df,encoded],1)\n",
    "    \n",
    "    #freq of tgnm values\n",
    "#     print(dtnow(), 'freq of tags')\n",
    "#     for tgnm in tgnms:\n",
    "#         vs = [j for i in df[f'lst_{tgnm}'] for j in i]\n",
    "#         cnt = Counter(vs)\n",
    "#         frq = {k:v/lendf for k,v in cnt.items()}\n",
    "#         df[f'sumfrq_{tgnm}']=df[f'lst_{tgnm}'].apply(lambda x: sum([frq.get(o,0) for o in x]))\n",
    "#         df[f'maxfrq_{tgnm}']=df[f'lst_{tgnm}'].apply(lambda x: max([frq.get(o,0) for o in x]) if len(x) else 0)\n",
    "    \n",
    "    df.drop(columns=tgnms+[f'lst_{tgnm}' for tgnm in tgnms],inplace=True)\n",
    "\n",
    "    print(dtnow(), 'done')\n",
    "    return df"
   ]
  },
  {
   "cell_type": "code",
   "execution_count": 9,
   "metadata": {},
   "outputs": [
    {
     "name": "stdout",
     "output_type": "stream",
     "text": [
      "2020-05-22 02:55:58 start\n",
      "2020-05-22 04:18:39 done\n",
      "CPU times: user 28min 58s, sys: 8min 40s, total: 37min 38s\n",
      "Wall time: 1h 23min 57s\n"
     ]
    }
   ],
   "source": [
    "%%time\n",
    "dftrn=prp_df(dftrn, tm_max=tm_trn_max)"
   ]
  },
  {
   "cell_type": "code",
   "execution_count": 10,
   "metadata": {},
   "outputs": [
    {
     "name": "stdout",
     "output_type": "stream",
     "text": [
      "2020-05-22 04:19:55 start\n",
      "2020-05-22 04:23:24 done\n",
      "CPU times: user 1min 1s, sys: 6.58 s, total: 1min 7s\n",
      "Wall time: 3min 29s\n"
     ]
    }
   ],
   "source": [
    "%%time\n",
    "dfval=prp_df(dfval, tm_max=tm_trn_max)"
   ]
  },
  {
   "cell_type": "markdown",
   "metadata": {},
   "source": [
    "## tr vl split"
   ]
  },
  {
   "cell_type": "code",
   "execution_count": 11,
   "metadata": {},
   "outputs": [
    {
     "data": {
      "text/plain": [
       "30"
      ]
     },
     "execution_count": 11,
     "metadata": {},
     "output_type": "execute_result"
    }
   ],
   "source": [
    "msk_vl=np.random.rand(len(dftrn))<0.15\n",
    "idxvl=np.where( msk_vl)[0]\n",
    "idxtr=np.where(~msk_vl)[0]\n",
    "\n",
    "dftr = dftrn.iloc[idxtr].copy()\n",
    "dfvl = dftrn.iloc[idxvl].copy()\n",
    "del dftrn\n",
    "\n",
    "gc.collect()"
   ]
  },
  {
   "cell_type": "code",
   "execution_count": 12,
   "metadata": {},
   "outputs": [],
   "source": [
    "cols_category=['twttyp', 'lang', 'langhour']\n",
    "for df in dftr,dfvl,dfval:\n",
    "    df.drop(columns=['twtid','u1id','u2id','u1u2'], inplace=True)\n",
    "    df[cols_category]=df[cols_category].astype('category')"
   ]
  },
  {
   "cell_type": "code",
   "execution_count": 13,
   "metadata": {},
   "outputs": [],
   "source": [
    "cols_feat = [col for col in dftr.columns if col not in cols_tgt]"
   ]
  },
  {
   "cell_type": "markdown",
   "metadata": {},
   "source": [
    "# model"
   ]
  },
  {
   "cell_type": "markdown",
   "metadata": {},
   "source": [
    "## cols_feat"
   ]
  },
  {
   "cell_type": "code",
   "execution_count": 14,
   "metadata": {},
   "outputs": [
    {
     "data": {
      "text/plain": [
       "['twttyp',\n",
       " 'lang',\n",
       " 'u1_fllwer_cnt',\n",
       " 'u1_fllwing_cnt',\n",
       " 'u1_vrfed',\n",
       " 'u2_fllwer_cnt',\n",
       " 'u2_fllwng_cnt',\n",
       " 'u2_vrfed',\n",
       " 'u1_fllw_u2',\n",
       " 'u1inu2',\n",
       " 'u2inu1',\n",
       " 'len_toks',\n",
       " 'n_media_Photo',\n",
       " 'n_media_Video',\n",
       " 'n_media_GIF',\n",
       " 'has_hshtgs',\n",
       " 'n_hshtgs',\n",
       " 'has_media',\n",
       " 'n_media',\n",
       " 'has_domns',\n",
       " 'n_domns',\n",
       " 'dayofweek',\n",
       " 'hour',\n",
       " 'tmdlta_u2u1',\n",
       " 'tmdlta_twtu1',\n",
       " 'tmdlta_twtu2',\n",
       " 'twt_age',\n",
       " 'u1_age',\n",
       " 'u2_age',\n",
       " 'u1_fllwer_cnt_by_age',\n",
       " 'u1_fllwng_cnt_by_age',\n",
       " 'langhour']"
      ]
     },
     "execution_count": 14,
     "metadata": {},
     "output_type": "execute_result"
    }
   ],
   "source": [
    "cols_feat"
   ]
  },
  {
   "cell_type": "code",
   "execution_count": 15,
   "metadata": {},
   "outputs": [
    {
     "name": "stdout",
     "output_type": "stream",
     "text": [
      "32\n"
     ]
    }
   ],
   "source": [
    "print(len(cols_feat))\n"
   ]
  },
  {
   "cell_type": "code",
   "execution_count": 16,
   "metadata": {},
   "outputs": [],
   "source": [
    "results = {}\n",
    "results['PRFX'] = PRFX\n",
    "results['TGT'] = TGT\n",
    "results['cols_feat'] = cols_feat"
   ]
  },
  {
   "cell_type": "code",
   "execution_count": 17,
   "metadata": {},
   "outputs": [],
   "source": [
    "params={\n",
    "    'objective': 'binary',\n",
    "    'metric': 'binary_logloss',\n",
    "    'verbosity': 0,    \n",
    "}\n",
    "\n",
    "results['params'] = params"
   ]
  },
  {
   "cell_type": "code",
   "execution_count": null,
   "metadata": {
    "scrolled": true
   },
   "outputs": [
    {
     "name": "stderr",
     "output_type": "stream",
     "text": [
      "/data/anaconda3/envs/rcss20/lib/python3.7/site-packages/optuna/_experimental.py:87: ExperimentalWarning: train is experimental (supported from v0.18.0). The interface can change in the future.\n",
      "  ExperimentalWarning\n",
      "tune_feature_fraction, val_score: inf:   0%|          | 0/7 [00:00<?, ?it/s]"
     ]
    },
    {
     "name": "stdout",
     "output_type": "stream",
     "text": [
      "Training until validation scores don't improve for 100 rounds\n",
      "[100]\ttr's binary_logloss: 0.273064\tvl's binary_logloss: 0.274599\n",
      "[200]\ttr's binary_logloss: 0.271105\tvl's binary_logloss: 0.27312\n",
      "[300]\ttr's binary_logloss: 0.269996\tvl's binary_logloss: 0.272456\n",
      "[400]\ttr's binary_logloss: 0.269165\tvl's binary_logloss: 0.272007\n",
      "[500]\ttr's binary_logloss: 0.268515\tvl's binary_logloss: 0.271667\n",
      "[600]\ttr's binary_logloss: 0.267884\tvl's binary_logloss: 0.271381\n",
      "[700]\ttr's binary_logloss: 0.267255\tvl's binary_logloss: 0.271092\n",
      "[800]\ttr's binary_logloss: 0.266708\tvl's binary_logloss: 0.270862\n",
      "[900]\ttr's binary_logloss: 0.266211\tvl's binary_logloss: 0.270644\n",
      "[1000]\ttr's binary_logloss: 0.265736\tvl's binary_logloss: 0.270489\n",
      "[1100]\ttr's binary_logloss: 0.265272\tvl's binary_logloss: 0.27034\n",
      "[1200]\ttr's binary_logloss: 0.264852\tvl's binary_logloss: 0.270219\n",
      "[1300]\ttr's binary_logloss: 0.264462\tvl's binary_logloss: 0.270101\n",
      "[1400]\ttr's binary_logloss: 0.264054\tvl's binary_logloss: 0.269993\n",
      "[1500]\ttr's binary_logloss: 0.263706\tvl's binary_logloss: 0.269905\n",
      "[1600]\ttr's binary_logloss: 0.263365\tvl's binary_logloss: 0.269827\n",
      "[1700]\ttr's binary_logloss: 0.263017\tvl's binary_logloss: 0.269757\n",
      "[1800]\ttr's binary_logloss: 0.26268\tvl's binary_logloss: 0.269698\n",
      "[1900]\ttr's binary_logloss: 0.262348\tvl's binary_logloss: 0.269613\n",
      "[2000]\ttr's binary_logloss: 0.262013\tvl's binary_logloss: 0.269546\n",
      "[2100]\ttr's binary_logloss: 0.261719\tvl's binary_logloss: 0.269509\n",
      "[2200]\ttr's binary_logloss: 0.261418\tvl's binary_logloss: 0.26948\n",
      "[2300]\ttr's binary_logloss: 0.261109\tvl's binary_logloss: 0.269432\n",
      "[2400]\ttr's binary_logloss: 0.260819\tvl's binary_logloss: 0.269404\n",
      "[2500]\ttr's binary_logloss: 0.260537\tvl's binary_logloss: 0.269363\n",
      "[2600]\ttr's binary_logloss: 0.260259\tvl's binary_logloss: 0.269319\n",
      "[2700]\ttr's binary_logloss: 0.259979\tvl's binary_logloss: 0.26927\n",
      "[2800]\ttr's binary_logloss: 0.25971\tvl's binary_logloss: 0.269255\n",
      "[2900]\ttr's binary_logloss: 0.259442\tvl's binary_logloss: 0.269229\n",
      "[3000]\ttr's binary_logloss: 0.259176\tvl's binary_logloss: 0.269206\n",
      "[3100]\ttr's binary_logloss: 0.258914\tvl's binary_logloss: 0.269179\n",
      "[3200]\ttr's binary_logloss: 0.258645\tvl's binary_logloss: 0.269147\n",
      "[3300]\ttr's binary_logloss: 0.258364\tvl's binary_logloss: 0.269122\n",
      "[3400]\ttr's binary_logloss: 0.258102\tvl's binary_logloss: 0.269101\n",
      "[3500]\ttr's binary_logloss: 0.257854\tvl's binary_logloss: 0.269085\n",
      "Early stopping, best iteration is:\n",
      "[3479]\ttr's binary_logloss: 0.257901\tvl's binary_logloss: 0.269082\n"
     ]
    },
    {
     "name": "stderr",
     "output_type": "stream",
     "text": [
      "tune_feature_fraction, val_score: 0.269082:  14%|#4        | 1/7 [1:33:44<9:22:23, 5623.91s/it]"
     ]
    },
    {
     "name": "stdout",
     "output_type": "stream",
     "text": [
      "Training until validation scores don't improve for 100 rounds\n",
      "[100]\ttr's binary_logloss: 0.272795\tvl's binary_logloss: 0.274388\n",
      "[200]\ttr's binary_logloss: 0.270869\tvl's binary_logloss: 0.273007\n",
      "[300]\ttr's binary_logloss: 0.269764\tvl's binary_logloss: 0.272387\n",
      "[400]\ttr's binary_logloss: 0.268886\tvl's binary_logloss: 0.271952\n",
      "[500]\ttr's binary_logloss: 0.268057\tvl's binary_logloss: 0.271512\n",
      "[600]\ttr's binary_logloss: 0.267395\tvl's binary_logloss: 0.271243\n",
      "[700]\ttr's binary_logloss: 0.26684\tvl's binary_logloss: 0.271045\n",
      "[800]\ttr's binary_logloss: 0.266287\tvl's binary_logloss: 0.270862\n",
      "[900]\ttr's binary_logloss: 0.265777\tvl's binary_logloss: 0.270689\n",
      "[1000]\ttr's binary_logloss: 0.265215\tvl's binary_logloss: 0.270518\n",
      "[1100]\ttr's binary_logloss: 0.264748\tvl's binary_logloss: 0.270384\n",
      "[1200]\ttr's binary_logloss: 0.264344\tvl's binary_logloss: 0.270292\n",
      "[1300]\ttr's binary_logloss: 0.263928\tvl's binary_logloss: 0.270192\n",
      "[1400]\ttr's binary_logloss: 0.263508\tvl's binary_logloss: 0.270095\n",
      "[1500]\ttr's binary_logloss: 0.263133\tvl's binary_logloss: 0.270039\n",
      "[1600]\ttr's binary_logloss: 0.262773\tvl's binary_logloss: 0.269981\n",
      "[1700]\ttr's binary_logloss: 0.262431\tvl's binary_logloss: 0.26995\n",
      "[1800]\ttr's binary_logloss: 0.262058\tvl's binary_logloss: 0.26987\n",
      "[1900]\ttr's binary_logloss: 0.261729\tvl's binary_logloss: 0.269806\n",
      "[2000]\ttr's binary_logloss: 0.261363\tvl's binary_logloss: 0.269734\n",
      "[2100]\ttr's binary_logloss: 0.26104\tvl's binary_logloss: 0.269701\n",
      "[2200]\ttr's binary_logloss: 0.260698\tvl's binary_logloss: 0.269649\n",
      "[2300]\ttr's binary_logloss: 0.260398\tvl's binary_logloss: 0.269627\n",
      "[2400]\ttr's binary_logloss: 0.260099\tvl's binary_logloss: 0.2696\n",
      "[2500]\ttr's binary_logloss: 0.259796\tvl's binary_logloss: 0.269565\n",
      "[2600]\ttr's binary_logloss: 0.259497\tvl's binary_logloss: 0.26954\n",
      "[2700]\ttr's binary_logloss: 0.259192\tvl's binary_logloss: 0.269497\n",
      "[2800]\ttr's binary_logloss: 0.258916\tvl's binary_logloss: 0.269483\n",
      "[2900]\ttr's binary_logloss: 0.258627\tvl's binary_logloss: 0.26945\n",
      "[3000]\ttr's binary_logloss: 0.258331\tvl's binary_logloss: 0.269419\n",
      "[3100]\ttr's binary_logloss: 0.25803\tvl's binary_logloss: 0.269387\n",
      "[3200]\ttr's binary_logloss: 0.257749\tvl's binary_logloss: 0.269361\n",
      "[3300]\ttr's binary_logloss: 0.257438\tvl's binary_logloss: 0.269291\n",
      "[3400]\ttr's binary_logloss: 0.25716\tvl's binary_logloss: 0.269273\n",
      "[3500]\ttr's binary_logloss: 0.256875\tvl's binary_logloss: 0.269254\n",
      "[3600]\ttr's binary_logloss: 0.256631\tvl's binary_logloss: 0.269251\n",
      "[3700]\ttr's binary_logloss: 0.256377\tvl's binary_logloss: 0.269243\n",
      "[3800]\ttr's binary_logloss: 0.256122\tvl's binary_logloss: 0.269242\n",
      "Early stopping, best iteration is:\n",
      "[3755]\ttr's binary_logloss: 0.256232\tvl's binary_logloss: 0.269235\n"
     ]
    },
    {
     "name": "stderr",
     "output_type": "stream",
     "text": [
      "tune_feature_fraction, val_score: 0.269082:  29%|##8       | 2/7 [3:09:29<7:51:42, 5660.45s/it]"
     ]
    },
    {
     "name": "stdout",
     "output_type": "stream",
     "text": [
      "Training until validation scores don't improve for 100 rounds\n",
      "[100]\ttr's binary_logloss: 0.27272\tvl's binary_logloss: 0.27437\n",
      "[200]\ttr's binary_logloss: 0.270705\tvl's binary_logloss: 0.273063\n",
      "[300]\ttr's binary_logloss: 0.269563\tvl's binary_logloss: 0.272412\n",
      "[400]\ttr's binary_logloss: 0.268635\tvl's binary_logloss: 0.272014\n",
      "[500]\ttr's binary_logloss: 0.267769\tvl's binary_logloss: 0.271603\n",
      "[600]\ttr's binary_logloss: 0.267115\tvl's binary_logloss: 0.271322\n",
      "[700]\ttr's binary_logloss: 0.266473\tvl's binary_logloss: 0.271099\n",
      "[800]\ttr's binary_logloss: 0.265898\tvl's binary_logloss: 0.270924\n",
      "[900]\ttr's binary_logloss: 0.265343\tvl's binary_logloss: 0.270751\n",
      "[1000]\ttr's binary_logloss: 0.264863\tvl's binary_logloss: 0.270642\n",
      "[1100]\ttr's binary_logloss: 0.264375\tvl's binary_logloss: 0.27053\n",
      "[1200]\ttr's binary_logloss: 0.263934\tvl's binary_logloss: 0.270434\n",
      "[1300]\ttr's binary_logloss: 0.263518\tvl's binary_logloss: 0.270342\n",
      "[1400]\ttr's binary_logloss: 0.263104\tvl's binary_logloss: 0.270265\n",
      "[1500]\ttr's binary_logloss: 0.26273\tvl's binary_logloss: 0.270226\n",
      "[1600]\ttr's binary_logloss: 0.262343\tvl's binary_logloss: 0.270161\n",
      "[1700]\ttr's binary_logloss: 0.261972\tvl's binary_logloss: 0.270115\n",
      "[1800]\ttr's binary_logloss: 0.26159\tvl's binary_logloss: 0.270057\n",
      "[1900]\ttr's binary_logloss: 0.261202\tvl's binary_logloss: 0.270014\n",
      "[2000]\ttr's binary_logloss: 0.26083\tvl's binary_logloss: 0.269961\n",
      "[2100]\ttr's binary_logloss: 0.260478\tvl's binary_logloss: 0.269917\n",
      "[2200]\ttr's binary_logloss: 0.260147\tvl's binary_logloss: 0.2699\n",
      "[2300]\ttr's binary_logloss: 0.259846\tvl's binary_logloss: 0.269884\n",
      "[2400]\ttr's binary_logloss: 0.259531\tvl's binary_logloss: 0.26985\n",
      "[2500]\ttr's binary_logloss: 0.259196\tvl's binary_logloss: 0.269815\n",
      "[2600]\ttr's binary_logloss: 0.258891\tvl's binary_logloss: 0.269787\n",
      "[2700]\ttr's binary_logloss: 0.258579\tvl's binary_logloss: 0.269761\n",
      "[2800]\ttr's binary_logloss: 0.258257\tvl's binary_logloss: 0.269738\n",
      "[2900]\ttr's binary_logloss: 0.257956\tvl's binary_logloss: 0.269719\n",
      "[3000]\ttr's binary_logloss: 0.257647\tvl's binary_logloss: 0.269699\n",
      "[3100]\ttr's binary_logloss: 0.257348\tvl's binary_logloss: 0.269677\n",
      "[3200]\ttr's binary_logloss: 0.257048\tvl's binary_logloss: 0.269659\n",
      "[3300]\ttr's binary_logloss: 0.256764\tvl's binary_logloss: 0.269653\n",
      "Early stopping, best iteration is:\n",
      "[3282]\ttr's binary_logloss: 0.256817\tvl's binary_logloss: 0.26965\n"
     ]
    },
    {
     "name": "stderr",
     "output_type": "stream",
     "text": [
      "tune_feature_fraction, val_score: 0.269082:  43%|####2     | 3/7 [4:34:11<6:05:47, 5486.95s/it]"
     ]
    },
    {
     "name": "stdout",
     "output_type": "stream",
     "text": [
      "Training until validation scores don't improve for 100 rounds\n",
      "[100]\ttr's binary_logloss: 0.272643\tvl's binary_logloss: 0.274356\n",
      "[200]\ttr's binary_logloss: 0.270624\tvl's binary_logloss: 0.273061\n",
      "[300]\ttr's binary_logloss: 0.269391\tvl's binary_logloss: 0.272441\n",
      "[400]\ttr's binary_logloss: 0.268383\tvl's binary_logloss: 0.272002\n",
      "[500]\ttr's binary_logloss: 0.267544\tvl's binary_logloss: 0.271644\n",
      "[600]\ttr's binary_logloss: 0.266864\tvl's binary_logloss: 0.271392\n",
      "[700]\ttr's binary_logloss: 0.266145\tvl's binary_logloss: 0.271128\n",
      "[800]\ttr's binary_logloss: 0.265549\tvl's binary_logloss: 0.27095\n",
      "[900]\ttr's binary_logloss: 0.264964\tvl's binary_logloss: 0.270786\n",
      "[1000]\ttr's binary_logloss: 0.264409\tvl's binary_logloss: 0.270664\n",
      "[1100]\ttr's binary_logloss: 0.26389\tvl's binary_logloss: 0.270536\n",
      "[1200]\ttr's binary_logloss: 0.263467\tvl's binary_logloss: 0.270478\n",
      "[1300]\ttr's binary_logloss: 0.263015\tvl's binary_logloss: 0.270396\n",
      "[1400]\ttr's binary_logloss: 0.262586\tvl's binary_logloss: 0.270323\n",
      "[1500]\ttr's binary_logloss: 0.262136\tvl's binary_logloss: 0.270247\n",
      "[1600]\ttr's binary_logloss: 0.261762\tvl's binary_logloss: 0.270192\n",
      "[1700]\ttr's binary_logloss: 0.261399\tvl's binary_logloss: 0.270151\n",
      "[1800]\ttr's binary_logloss: 0.260983\tvl's binary_logloss: 0.270103\n",
      "[1900]\ttr's binary_logloss: 0.260607\tvl's binary_logloss: 0.270059\n",
      "[2000]\ttr's binary_logloss: 0.260251\tvl's binary_logloss: 0.270016\n",
      "[2100]\ttr's binary_logloss: 0.259911\tvl's binary_logloss: 0.27\n",
      "[2200]\ttr's binary_logloss: 0.259547\tvl's binary_logloss: 0.269989\n",
      "[2300]\ttr's binary_logloss: 0.259168\tvl's binary_logloss: 0.269942\n",
      "[2400]\ttr's binary_logloss: 0.258798\tvl's binary_logloss: 0.269903\n",
      "[2500]\ttr's binary_logloss: 0.25848\tvl's binary_logloss: 0.269907\n",
      "Early stopping, best iteration is:\n",
      "[2406]\ttr's binary_logloss: 0.258769\tvl's binary_logloss: 0.269897\n"
     ]
    },
    {
     "name": "stderr",
     "output_type": "stream",
     "text": [
      "tune_feature_fraction, val_score: 0.269082:  57%|#####7    | 4/7 [5:37:51<4:09:18, 4986.22s/it]"
     ]
    },
    {
     "name": "stdout",
     "output_type": "stream",
     "text": [
      "Training until validation scores don't improve for 100 rounds\n",
      "[100]\ttr's binary_logloss: 0.272484\tvl's binary_logloss: 0.274242\n",
      "[200]\ttr's binary_logloss: 0.270417\tvl's binary_logloss: 0.273039\n",
      "[300]\ttr's binary_logloss: 0.269162\tvl's binary_logloss: 0.272434\n",
      "[400]\ttr's binary_logloss: 0.268043\tvl's binary_logloss: 0.271955\n",
      "[500]\ttr's binary_logloss: 0.267203\tvl's binary_logloss: 0.271669\n",
      "[600]\ttr's binary_logloss: 0.266473\tvl's binary_logloss: 0.271438\n",
      "[700]\ttr's binary_logloss: 0.265749\tvl's binary_logloss: 0.27122\n",
      "[800]\ttr's binary_logloss: 0.264985\tvl's binary_logloss: 0.271016\n",
      "[900]\ttr's binary_logloss: 0.264341\tvl's binary_logloss: 0.270851\n",
      "[1000]\ttr's binary_logloss: 0.263786\tvl's binary_logloss: 0.270739\n",
      "[1100]\ttr's binary_logloss: 0.263279\tvl's binary_logloss: 0.270682\n",
      "[1200]\ttr's binary_logloss: 0.262794\tvl's binary_logloss: 0.270586\n",
      "[1300]\ttr's binary_logloss: 0.262279\tvl's binary_logloss: 0.270494\n",
      "[1400]\ttr's binary_logloss: 0.261839\tvl's binary_logloss: 0.270461\n",
      "[1500]\ttr's binary_logloss: 0.261411\tvl's binary_logloss: 0.270423\n",
      "[1600]\ttr's binary_logloss: 0.26103\tvl's binary_logloss: 0.270395\n",
      "[1700]\ttr's binary_logloss: 0.260616\tvl's binary_logloss: 0.27035\n",
      "[1800]\ttr's binary_logloss: 0.2602\tvl's binary_logloss: 0.270314\n",
      "[1900]\ttr's binary_logloss: 0.259778\tvl's binary_logloss: 0.270264\n",
      "[2000]\ttr's binary_logloss: 0.259415\tvl's binary_logloss: 0.27025\n",
      "[2100]\ttr's binary_logloss: 0.25902\tvl's binary_logloss: 0.270221\n",
      "[2200]\ttr's binary_logloss: 0.258617\tvl's binary_logloss: 0.270197\n",
      "[2300]\ttr's binary_logloss: 0.258244\tvl's binary_logloss: 0.27017\n",
      "[2400]\ttr's binary_logloss: 0.257869\tvl's binary_logloss: 0.270146\n",
      "[2500]\ttr's binary_logloss: 0.257534\tvl's binary_logloss: 0.270147\n",
      "[2600]\ttr's binary_logloss: 0.257175\tvl's binary_logloss: 0.270114\n",
      "[2700]\ttr's binary_logloss: 0.256824\tvl's binary_logloss: 0.270099\n",
      "[2800]\ttr's binary_logloss: 0.256517\tvl's binary_logloss: 0.270104\n",
      "Early stopping, best iteration is:\n",
      "[2736]\ttr's binary_logloss: 0.256714\tvl's binary_logloss: 0.270096\n"
     ]
    },
    {
     "name": "stderr",
     "output_type": "stream",
     "text": [
      "tune_feature_fraction, val_score: 0.269082:  71%|#######1  | 5/7 [6:54:31<2:42:21, 4870.91s/it]"
     ]
    },
    {
     "name": "stdout",
     "output_type": "stream",
     "text": [
      "Training until validation scores don't improve for 100 rounds\n",
      "[100]\ttr's binary_logloss: 0.272467\tvl's binary_logloss: 0.274314\n",
      "[200]\ttr's binary_logloss: 0.270337\tvl's binary_logloss: 0.273088\n",
      "[300]\ttr's binary_logloss: 0.269047\tvl's binary_logloss: 0.27249\n",
      "[400]\ttr's binary_logloss: 0.267968\tvl's binary_logloss: 0.272084\n",
      "[500]\ttr's binary_logloss: 0.267075\tvl's binary_logloss: 0.271812\n",
      "[600]\ttr's binary_logloss: 0.266287\tvl's binary_logloss: 0.271588\n",
      "[700]\ttr's binary_logloss: 0.265466\tvl's binary_logloss: 0.271359\n",
      "[800]\ttr's binary_logloss: 0.264794\tvl's binary_logloss: 0.271235\n",
      "[900]\ttr's binary_logloss: 0.264205\tvl's binary_logloss: 0.271127\n",
      "[1000]\ttr's binary_logloss: 0.263601\tvl's binary_logloss: 0.271024\n",
      "[1100]\ttr's binary_logloss: 0.263017\tvl's binary_logloss: 0.270912\n",
      "[1200]\ttr's binary_logloss: 0.262501\tvl's binary_logloss: 0.270868\n",
      "[1300]\ttr's binary_logloss: 0.261966\tvl's binary_logloss: 0.270801\n",
      "[1400]\ttr's binary_logloss: 0.261483\tvl's binary_logloss: 0.270781\n",
      "[1500]\ttr's binary_logloss: 0.260962\tvl's binary_logloss: 0.270708\n",
      "[1600]\ttr's binary_logloss: 0.260456\tvl's binary_logloss: 0.27063\n",
      "[1700]\ttr's binary_logloss: 0.260035\tvl's binary_logloss: 0.270598\n",
      "[1800]\ttr's binary_logloss: 0.259634\tvl's binary_logloss: 0.270569\n",
      "[1900]\ttr's binary_logloss: 0.259196\tvl's binary_logloss: 0.270528\n",
      "[2000]\ttr's binary_logloss: 0.258791\tvl's binary_logloss: 0.270504\n",
      "[2100]\ttr's binary_logloss: 0.258409\tvl's binary_logloss: 0.270472\n",
      "[2200]\ttr's binary_logloss: 0.258032\tvl's binary_logloss: 0.270466\n",
      "[2300]\ttr's binary_logloss: 0.257663\tvl's binary_logloss: 0.270459\n",
      "[2400]\ttr's binary_logloss: 0.257284\tvl's binary_logloss: 0.270446\n",
      "[2500]\ttr's binary_logloss: 0.256918\tvl's binary_logloss: 0.270437\n",
      "[2600]\ttr's binary_logloss: 0.256532\tvl's binary_logloss: 0.270417\n",
      "Early stopping, best iteration is:\n",
      "[2574]\ttr's binary_logloss: 0.256619\tvl's binary_logloss: 0.270412\n"
     ]
    },
    {
     "name": "stderr",
     "output_type": "stream",
     "text": [
      "tune_feature_fraction, val_score: 0.269082:  86%|########5 | 6/7 [8:04:49<1:17:55, 4675.08s/it]"
     ]
    },
    {
     "name": "stdout",
     "output_type": "stream",
     "text": [
      "Training until validation scores don't improve for 100 rounds\n",
      "[100]\ttr's binary_logloss: 0.27244\tvl's binary_logloss: 0.274333\n",
      "[200]\ttr's binary_logloss: 0.270296\tvl's binary_logloss: 0.273194\n",
      "[300]\ttr's binary_logloss: 0.268889\tvl's binary_logloss: 0.27261\n",
      "[400]\ttr's binary_logloss: 0.26784\tvl's binary_logloss: 0.272271\n",
      "[500]\ttr's binary_logloss: 0.26692\tvl's binary_logloss: 0.272024\n",
      "[600]\ttr's binary_logloss: 0.26595\tvl's binary_logloss: 0.271715\n",
      "[700]\ttr's binary_logloss: 0.265191\tvl's binary_logloss: 0.271507\n",
      "[800]\ttr's binary_logloss: 0.264482\tvl's binary_logloss: 0.271386\n",
      "[900]\ttr's binary_logloss: 0.263808\tvl's binary_logloss: 0.271258\n",
      "[1000]\ttr's binary_logloss: 0.263177\tvl's binary_logloss: 0.271132\n",
      "[1100]\ttr's binary_logloss: 0.262584\tvl's binary_logloss: 0.271057\n",
      "[1200]\ttr's binary_logloss: 0.26204\tvl's binary_logloss: 0.271\n",
      "[1300]\ttr's binary_logloss: 0.261534\tvl's binary_logloss: 0.270964\n",
      "[1400]\ttr's binary_logloss: 0.261027\tvl's binary_logloss: 0.270907\n",
      "[1500]\ttr's binary_logloss: 0.260508\tvl's binary_logloss: 0.270858\n",
      "[1600]\ttr's binary_logloss: 0.260064\tvl's binary_logloss: 0.270838\n",
      "[1700]\ttr's binary_logloss: 0.259637\tvl's binary_logloss: 0.270829\n",
      "[1800]\ttr's binary_logloss: 0.259209\tvl's binary_logloss: 0.27081\n",
      "[1900]\ttr's binary_logloss: 0.25874\tvl's binary_logloss: 0.270791\n",
      "[2000]\ttr's binary_logloss: 0.258267\tvl's binary_logloss: 0.270752\n",
      "[2100]\ttr's binary_logloss: 0.257882\tvl's binary_logloss: 0.270749\n",
      "[2200]\ttr's binary_logloss: 0.25748\tvl's binary_logloss: 0.270741\n",
      "[2300]\ttr's binary_logloss: 0.257064\tvl's binary_logloss: 0.270727\n",
      "[2400]\ttr's binary_logloss: 0.256691\tvl's binary_logloss: 0.270705\n",
      "[2500]\ttr's binary_logloss: 0.256332\tvl's binary_logloss: 0.270704\n",
      "[2600]\ttr's binary_logloss: 0.255947\tvl's binary_logloss: 0.270691\n",
      "Early stopping, best iteration is:\n",
      "[2584]\ttr's binary_logloss: 0.256002\tvl's binary_logloss: 0.270688\n"
     ]
    },
    {
     "name": "stderr",
     "output_type": "stream",
     "text": [
      "tune_feature_fraction, val_score: 0.269082: 100%|##########| 7/7 [9:16:14<00:00, 4767.74s/it]  \n",
      "tune_num_leaves, val_score: 0.269082:   0%|          | 0/20 [00:00<?, ?it/s]"
     ]
    },
    {
     "name": "stdout",
     "output_type": "stream",
     "text": [
      "Training until validation scores don't improve for 100 rounds\n",
      "[100]\ttr's binary_logloss: 0.271281\tvl's binary_logloss: 0.273281\n",
      "[200]\ttr's binary_logloss: 0.26908\tvl's binary_logloss: 0.271888\n",
      "[300]\ttr's binary_logloss: 0.26782\tvl's binary_logloss: 0.271296\n",
      "[400]\ttr's binary_logloss: 0.26683\tvl's binary_logloss: 0.27091\n",
      "[500]\ttr's binary_logloss: 0.265986\tvl's binary_logloss: 0.270633\n",
      "[600]\ttr's binary_logloss: 0.26511\tvl's binary_logloss: 0.270335\n",
      "[700]\ttr's binary_logloss: 0.26431\tvl's binary_logloss: 0.270101\n",
      "[800]\ttr's binary_logloss: 0.263643\tvl's binary_logloss: 0.269988\n",
      "[900]\ttr's binary_logloss: 0.262952\tvl's binary_logloss: 0.269848\n",
      "[1000]\ttr's binary_logloss: 0.262293\tvl's binary_logloss: 0.269738\n",
      "[1100]\ttr's binary_logloss: 0.261667\tvl's binary_logloss: 0.26967\n",
      "[1200]\ttr's binary_logloss: 0.261071\tvl's binary_logloss: 0.269598\n",
      "[1300]\ttr's binary_logloss: 0.260493\tvl's binary_logloss: 0.269537\n",
      "[1400]\ttr's binary_logloss: 0.259965\tvl's binary_logloss: 0.269506\n",
      "[1500]\ttr's binary_logloss: 0.259364\tvl's binary_logloss: 0.269392\n",
      "[1600]\ttr's binary_logloss: 0.2588\tvl's binary_logloss: 0.269316\n",
      "[1700]\ttr's binary_logloss: 0.258277\tvl's binary_logloss: 0.269276\n",
      "[1800]\ttr's binary_logloss: 0.257752\tvl's binary_logloss: 0.269255\n",
      "[1900]\ttr's binary_logloss: 0.257262\tvl's binary_logloss: 0.269201\n",
      "[2000]\ttr's binary_logloss: 0.256821\tvl's binary_logloss: 0.269171\n",
      "[2100]\ttr's binary_logloss: 0.256324\tvl's binary_logloss: 0.269124\n",
      "[2200]\ttr's binary_logloss: 0.255824\tvl's binary_logloss: 0.269082\n",
      "[2300]\ttr's binary_logloss: 0.255347\tvl's binary_logloss: 0.269045\n",
      "[2400]\ttr's binary_logloss: 0.254907\tvl's binary_logloss: 0.26904\n",
      "[2500]\ttr's binary_logloss: 0.254465\tvl's binary_logloss: 0.269015\n",
      "[2600]\ttr's binary_logloss: 0.253982\tvl's binary_logloss: 0.268947\n",
      "[2700]\ttr's binary_logloss: 0.25351\tvl's binary_logloss: 0.268912\n",
      "[2800]\ttr's binary_logloss: 0.253034\tvl's binary_logloss: 0.26888\n",
      "[2900]\ttr's binary_logloss: 0.252555\tvl's binary_logloss: 0.268849\n",
      "[3000]\ttr's binary_logloss: 0.252106\tvl's binary_logloss: 0.268815\n",
      "[3100]\ttr's binary_logloss: 0.251704\tvl's binary_logloss: 0.268811\n",
      "[3200]\ttr's binary_logloss: 0.251284\tvl's binary_logloss: 0.268798\n",
      "[3300]\ttr's binary_logloss: 0.250834\tvl's binary_logloss: 0.268774\n",
      "[3400]\ttr's binary_logloss: 0.250415\tvl's binary_logloss: 0.268769\n",
      "[3500]\ttr's binary_logloss: 0.249972\tvl's binary_logloss: 0.268731\n",
      "[3600]\ttr's binary_logloss: 0.249579\tvl's binary_logloss: 0.268728\n",
      "[3700]\ttr's binary_logloss: 0.249164\tvl's binary_logloss: 0.268712\n",
      "[3800]\ttr's binary_logloss: 0.248759\tvl's binary_logloss: 0.268698\n",
      "[3900]\ttr's binary_logloss: 0.24837\tvl's binary_logloss: 0.268699\n",
      "[4000]\ttr's binary_logloss: 0.248014\tvl's binary_logloss: 0.268701\n",
      "Early stopping, best iteration is:\n",
      "[3934]\ttr's binary_logloss: 0.248245\tvl's binary_logloss: 0.268694\n"
     ]
    },
    {
     "name": "stderr",
     "output_type": "stream",
     "text": [
      "tune_num_leaves, val_score: 0.268694:   5%|5         | 1/20 [1:51:55<35:26:32, 6715.40s/it]"
     ]
    },
    {
     "name": "stdout",
     "output_type": "stream",
     "text": [
      "Training until validation scores don't improve for 100 rounds\n",
      "[100]\ttr's binary_logloss: 0.273564\tvl's binary_logloss: 0.274956\n",
      "[200]\ttr's binary_logloss: 0.271778\tvl's binary_logloss: 0.273584\n",
      "[300]\ttr's binary_logloss: 0.27073\tvl's binary_logloss: 0.27288\n",
      "[400]\ttr's binary_logloss: 0.269961\tvl's binary_logloss: 0.272463\n",
      "[500]\ttr's binary_logloss: 0.269281\tvl's binary_logloss: 0.272066\n",
      "[600]\ttr's binary_logloss: 0.268704\tvl's binary_logloss: 0.271769\n",
      "[700]\ttr's binary_logloss: 0.268208\tvl's binary_logloss: 0.271546\n",
      "[800]\ttr's binary_logloss: 0.267779\tvl's binary_logloss: 0.271374\n",
      "[900]\ttr's binary_logloss: 0.267218\tvl's binary_logloss: 0.271053\n",
      "[1000]\ttr's binary_logloss: 0.266732\tvl's binary_logloss: 0.270854\n",
      "[1100]\ttr's binary_logloss: 0.266349\tvl's binary_logloss: 0.270737\n",
      "[1200]\ttr's binary_logloss: 0.26592\tvl's binary_logloss: 0.270574\n",
      "[1300]\ttr's binary_logloss: 0.265564\tvl's binary_logloss: 0.270455\n",
      "[1400]\ttr's binary_logloss: 0.265232\tvl's binary_logloss: 0.270367\n",
      "[1500]\ttr's binary_logloss: 0.264905\tvl's binary_logloss: 0.270272\n",
      "[1600]\ttr's binary_logloss: 0.264597\tvl's binary_logloss: 0.270189\n",
      "[1700]\ttr's binary_logloss: 0.264317\tvl's binary_logloss: 0.270129\n",
      "[1800]\ttr's binary_logloss: 0.263998\tvl's binary_logloss: 0.270036\n",
      "[1900]\ttr's binary_logloss: 0.263712\tvl's binary_logloss: 0.269963\n",
      "[2000]\ttr's binary_logloss: 0.263439\tvl's binary_logloss: 0.269899\n",
      "[2100]\ttr's binary_logloss: 0.26316\tvl's binary_logloss: 0.269837\n",
      "[2200]\ttr's binary_logloss: 0.262904\tvl's binary_logloss: 0.269799\n",
      "[2300]\ttr's binary_logloss: 0.262641\tvl's binary_logloss: 0.269761\n",
      "[2400]\ttr's binary_logloss: 0.262377\tvl's binary_logloss: 0.269716\n",
      "[2500]\ttr's binary_logloss: 0.262132\tvl's binary_logloss: 0.269674\n",
      "[2600]\ttr's binary_logloss: 0.261902\tvl's binary_logloss: 0.269639\n",
      "[2700]\ttr's binary_logloss: 0.261669\tvl's binary_logloss: 0.269613\n",
      "[2800]\ttr's binary_logloss: 0.261438\tvl's binary_logloss: 0.269587\n",
      "[2900]\ttr's binary_logloss: 0.261203\tvl's binary_logloss: 0.269552\n",
      "[3000]\ttr's binary_logloss: 0.26097\tvl's binary_logloss: 0.269525\n",
      "[3100]\ttr's binary_logloss: 0.260733\tvl's binary_logloss: 0.269491\n",
      "[3200]\ttr's binary_logloss: 0.260511\tvl's binary_logloss: 0.269467\n",
      "[3300]\ttr's binary_logloss: 0.260287\tvl's binary_logloss: 0.269428\n",
      "[3400]\ttr's binary_logloss: 0.260066\tvl's binary_logloss: 0.269404\n",
      "[3500]\ttr's binary_logloss: 0.259844\tvl's binary_logloss: 0.269367\n",
      "[3600]\ttr's binary_logloss: 0.25963\tvl's binary_logloss: 0.269353\n",
      "[3700]\ttr's binary_logloss: 0.25942\tvl's binary_logloss: 0.269327\n",
      "[3800]\ttr's binary_logloss: 0.259208\tvl's binary_logloss: 0.2693\n",
      "[3900]\ttr's binary_logloss: 0.258996\tvl's binary_logloss: 0.269285\n",
      "[4000]\ttr's binary_logloss: 0.258783\tvl's binary_logloss: 0.26927\n",
      "[4100]\ttr's binary_logloss: 0.258567\tvl's binary_logloss: 0.269243\n",
      "[4200]\ttr's binary_logloss: 0.258358\tvl's binary_logloss: 0.269217\n",
      "[4300]\ttr's binary_logloss: 0.258155\tvl's binary_logloss: 0.269201\n",
      "[4400]\ttr's binary_logloss: 0.257955\tvl's binary_logloss: 0.269192\n",
      "[4500]\ttr's binary_logloss: 0.257755\tvl's binary_logloss: 0.269172\n",
      "[4600]\ttr's binary_logloss: 0.257566\tvl's binary_logloss: 0.269164\n",
      "[4700]\ttr's binary_logloss: 0.25737\tvl's binary_logloss: 0.269146\n",
      "[4800]\ttr's binary_logloss: 0.25718\tvl's binary_logloss: 0.269138\n",
      "[4900]\ttr's binary_logloss: 0.25697\tvl's binary_logloss: 0.269132\n",
      "[5000]\ttr's binary_logloss: 0.256769\tvl's binary_logloss: 0.269121\n",
      "[5100]\ttr's binary_logloss: 0.256574\tvl's binary_logloss: 0.26911\n",
      "[5200]\ttr's binary_logloss: 0.256362\tvl's binary_logloss: 0.269083\n",
      "[5300]\ttr's binary_logloss: 0.256164\tvl's binary_logloss: 0.269072\n",
      "[5400]\ttr's binary_logloss: 0.255962\tvl's binary_logloss: 0.269062\n",
      "[5500]\ttr's binary_logloss: 0.255772\tvl's binary_logloss: 0.269064\n",
      "Early stopping, best iteration is:\n",
      "[5412]\ttr's binary_logloss: 0.255939\tvl's binary_logloss: 0.269061\n"
     ]
    },
    {
     "name": "stderr",
     "output_type": "stream",
     "text": [
      "tune_num_leaves, val_score: 0.268694:  10%|#         | 2/20 [3:56:44<34:44:12, 6947.36s/it]"
     ]
    },
    {
     "name": "stdout",
     "output_type": "stream",
     "text": [
      "Training until validation scores don't improve for 100 rounds\n",
      "[100]\ttr's binary_logloss: 0.268941\tvl's binary_logloss: 0.271929\n",
      "[200]\ttr's binary_logloss: 0.266214\tvl's binary_logloss: 0.270675\n",
      "[300]\ttr's binary_logloss: 0.264463\tvl's binary_logloss: 0.270185\n",
      "[400]\ttr's binary_logloss: 0.263066\tvl's binary_logloss: 0.269964\n",
      "[500]\ttr's binary_logloss: 0.261802\tvl's binary_logloss: 0.269754\n",
      "[600]\ttr's binary_logloss: 0.260501\tvl's binary_logloss: 0.269514\n",
      "[700]\ttr's binary_logloss: 0.259409\tvl's binary_logloss: 0.269404\n",
      "[800]\ttr's binary_logloss: 0.258314\tvl's binary_logloss: 0.269372\n",
      "[900]\ttr's binary_logloss: 0.25727\tvl's binary_logloss: 0.269296\n",
      "[1000]\ttr's binary_logloss: 0.256355\tvl's binary_logloss: 0.269253\n",
      "[1100]\ttr's binary_logloss: 0.255323\tvl's binary_logloss: 0.269177\n",
      "[1200]\ttr's binary_logloss: 0.254292\tvl's binary_logloss: 0.269127\n",
      "[1300]\ttr's binary_logloss: 0.253464\tvl's binary_logloss: 0.269126\n",
      "Early stopping, best iteration is:\n",
      "[1213]\ttr's binary_logloss: 0.254175\tvl's binary_logloss: 0.269117\n"
     ]
    },
    {
     "name": "stderr",
     "output_type": "stream",
     "text": [
      "tune_num_leaves, val_score: 0.268694:  15%|#5        | 3/20 [4:48:46<27:23:16, 5799.79s/it]"
     ]
    },
    {
     "name": "stdout",
     "output_type": "stream",
     "text": [
      "Training until validation scores don't improve for 100 rounds\n",
      "[100]\ttr's binary_logloss: 0.268327\tvl's binary_logloss: 0.271603\n",
      "[200]\ttr's binary_logloss: 0.265511\tvl's binary_logloss: 0.270482\n",
      "[300]\ttr's binary_logloss: 0.263697\tvl's binary_logloss: 0.270081\n",
      "[400]\ttr's binary_logloss: 0.262099\tvl's binary_logloss: 0.269803\n",
      "[500]\ttr's binary_logloss: 0.260634\tvl's binary_logloss: 0.26958\n",
      "[600]\ttr's binary_logloss: 0.25927\tvl's binary_logloss: 0.269449\n",
      "[700]\ttr's binary_logloss: 0.258053\tvl's binary_logloss: 0.269389\n",
      "[800]\ttr's binary_logloss: 0.256846\tvl's binary_logloss: 0.269294\n",
      "[900]\ttr's binary_logloss: 0.25568\tvl's binary_logloss: 0.269166\n",
      "[1000]\ttr's binary_logloss: 0.25448\tvl's binary_logloss: 0.26909\n",
      "[1100]\ttr's binary_logloss: 0.253468\tvl's binary_logloss: 0.269029\n",
      "[1200]\ttr's binary_logloss: 0.252383\tvl's binary_logloss: 0.268945\n",
      "[1300]\ttr's binary_logloss: 0.251324\tvl's binary_logloss: 0.26892\n",
      "[1400]\ttr's binary_logloss: 0.250378\tvl's binary_logloss: 0.268916\n",
      "[1500]\ttr's binary_logloss: 0.249435\tvl's binary_logloss: 0.26887\n",
      "[1600]\ttr's binary_logloss: 0.248529\tvl's binary_logloss: 0.268888\n",
      "Early stopping, best iteration is:\n",
      "[1510]\ttr's binary_logloss: 0.249348\tvl's binary_logloss: 0.268867\n"
     ]
    },
    {
     "name": "stderr",
     "output_type": "stream",
     "text": [
      "tune_num_leaves, val_score: 0.268694:  20%|##        | 4/20 [5:47:12<22:43:05, 5111.60s/it]"
     ]
    },
    {
     "name": "stdout",
     "output_type": "stream",
     "text": [
      "Training until validation scores don't improve for 100 rounds\n",
      "[100]\ttr's binary_logloss: 0.272699\tvl's binary_logloss: 0.274297\n",
      "[200]\ttr's binary_logloss: 0.270747\tvl's binary_logloss: 0.272872\n",
      "[300]\ttr's binary_logloss: 0.269694\tvl's binary_logloss: 0.27226\n",
      "[400]\ttr's binary_logloss: 0.268815\tvl's binary_logloss: 0.271803\n",
      "[500]\ttr's binary_logloss: 0.268066\tvl's binary_logloss: 0.271426\n",
      "[600]\ttr's binary_logloss: 0.267401\tvl's binary_logloss: 0.271098\n",
      "[700]\ttr's binary_logloss: 0.266818\tvl's binary_logloss: 0.270892\n",
      "[800]\ttr's binary_logloss: 0.266282\tvl's binary_logloss: 0.2707\n",
      "[900]\ttr's binary_logloss: 0.265739\tvl's binary_logloss: 0.270486\n",
      "[1000]\ttr's binary_logloss: 0.265258\tvl's binary_logloss: 0.270375\n",
      "[1100]\ttr's binary_logloss: 0.264841\tvl's binary_logloss: 0.270298\n",
      "[1200]\ttr's binary_logloss: 0.264412\tvl's binary_logloss: 0.270209\n",
      "[1300]\ttr's binary_logloss: 0.263983\tvl's binary_logloss: 0.270082\n",
      "[1400]\ttr's binary_logloss: 0.26357\tvl's binary_logloss: 0.269994\n",
      "[1500]\ttr's binary_logloss: 0.263208\tvl's binary_logloss: 0.269926\n",
      "[1600]\ttr's binary_logloss: 0.262806\tvl's binary_logloss: 0.269838\n",
      "[1700]\ttr's binary_logloss: 0.262435\tvl's binary_logloss: 0.269781\n",
      "[1800]\ttr's binary_logloss: 0.262048\tvl's binary_logloss: 0.269703\n",
      "[1900]\ttr's binary_logloss: 0.261731\tvl's binary_logloss: 0.269655\n",
      "[2000]\ttr's binary_logloss: 0.261358\tvl's binary_logloss: 0.269581\n",
      "[2100]\ttr's binary_logloss: 0.260983\tvl's binary_logloss: 0.269525\n",
      "[2200]\ttr's binary_logloss: 0.260642\tvl's binary_logloss: 0.26949\n",
      "[2300]\ttr's binary_logloss: 0.260301\tvl's binary_logloss: 0.269435\n",
      "[2400]\ttr's binary_logloss: 0.259985\tvl's binary_logloss: 0.26939\n",
      "[2500]\ttr's binary_logloss: 0.259674\tvl's binary_logloss: 0.269359\n",
      "[2600]\ttr's binary_logloss: 0.259373\tvl's binary_logloss: 0.269326\n",
      "[2700]\ttr's binary_logloss: 0.259057\tvl's binary_logloss: 0.269289\n",
      "[2800]\ttr's binary_logloss: 0.25877\tvl's binary_logloss: 0.269278\n",
      "[2900]\ttr's binary_logloss: 0.25847\tvl's binary_logloss: 0.269251\n",
      "[3000]\ttr's binary_logloss: 0.258172\tvl's binary_logloss: 0.26922\n",
      "[3100]\ttr's binary_logloss: 0.257866\tvl's binary_logloss: 0.269192\n",
      "[3200]\ttr's binary_logloss: 0.257571\tvl's binary_logloss: 0.269169\n",
      "[3300]\ttr's binary_logloss: 0.257315\tvl's binary_logloss: 0.269155\n",
      "[3400]\ttr's binary_logloss: 0.257029\tvl's binary_logloss: 0.269145\n",
      "[3500]\ttr's binary_logloss: 0.256753\tvl's binary_logloss: 0.269127\n",
      "[3600]\ttr's binary_logloss: 0.25648\tvl's binary_logloss: 0.269112\n",
      "[3700]\ttr's binary_logloss: 0.256186\tvl's binary_logloss: 0.269088\n",
      "[3800]\ttr's binary_logloss: 0.255913\tvl's binary_logloss: 0.269068\n",
      "[3900]\ttr's binary_logloss: 0.255639\tvl's binary_logloss: 0.26905\n",
      "[4000]\ttr's binary_logloss: 0.255342\tvl's binary_logloss: 0.269042\n",
      "[4100]\ttr's binary_logloss: 0.255072\tvl's binary_logloss: 0.269029\n",
      "[4200]\ttr's binary_logloss: 0.254769\tvl's binary_logloss: 0.268997\n",
      "[4300]\ttr's binary_logloss: 0.254514\tvl's binary_logloss: 0.268985\n",
      "[4400]\ttr's binary_logloss: 0.254249\tvl's binary_logloss: 0.268978\n",
      "[4500]\ttr's binary_logloss: 0.253973\tvl's binary_logloss: 0.268954\n",
      "[4600]\ttr's binary_logloss: 0.253706\tvl's binary_logloss: 0.268943\n",
      "[4700]\ttr's binary_logloss: 0.253463\tvl's binary_logloss: 0.268923\n",
      "[4800]\ttr's binary_logloss: 0.253206\tvl's binary_logloss: 0.268916\n",
      "[4900]\ttr's binary_logloss: 0.252944\tvl's binary_logloss: 0.268902\n",
      "[5000]\ttr's binary_logloss: 0.252686\tvl's binary_logloss: 0.268881\n",
      "Early stopping, best iteration is:\n",
      "[4980]\ttr's binary_logloss: 0.252735\tvl's binary_logloss: 0.26888\n"
     ]
    },
    {
     "name": "stderr",
     "output_type": "stream",
     "text": [
      "tune_num_leaves, val_score: 0.268694:  25%|##5       | 5/20 [7:57:12<24:39:30, 5918.03s/it]"
     ]
    },
    {
     "name": "stdout",
     "output_type": "stream",
     "text": [
      "Training until validation scores don't improve for 100 rounds\n",
      "[100]\ttr's binary_logloss: 0.275732\tvl's binary_logloss: 0.27685\n",
      "[200]\ttr's binary_logloss: 0.274037\tvl's binary_logloss: 0.275347\n",
      "[300]\ttr's binary_logloss: 0.273202\tvl's binary_logloss: 0.274694\n",
      "[400]\ttr's binary_logloss: 0.272614\tvl's binary_logloss: 0.274266\n",
      "[500]\ttr's binary_logloss: 0.272066\tvl's binary_logloss: 0.273873\n",
      "[600]\ttr's binary_logloss: 0.271534\tvl's binary_logloss: 0.273501\n",
      "[700]\ttr's binary_logloss: 0.271124\tvl's binary_logloss: 0.273223\n",
      "[800]\ttr's binary_logloss: 0.270722\tvl's binary_logloss: 0.272966\n",
      "[900]\ttr's binary_logloss: 0.270368\tvl's binary_logloss: 0.272749\n",
      "[1000]\ttr's binary_logloss: 0.270035\tvl's binary_logloss: 0.272562\n",
      "[1100]\ttr's binary_logloss: 0.269692\tvl's binary_logloss: 0.272366\n",
      "[1200]\ttr's binary_logloss: 0.269378\tvl's binary_logloss: 0.272177\n",
      "[1300]\ttr's binary_logloss: 0.269152\tvl's binary_logloss: 0.272062\n",
      "[1400]\ttr's binary_logloss: 0.268925\tvl's binary_logloss: 0.271946\n",
      "[1500]\ttr's binary_logloss: 0.268692\tvl's binary_logloss: 0.271817\n",
      "[1600]\ttr's binary_logloss: 0.268465\tvl's binary_logloss: 0.271682\n",
      "[1700]\ttr's binary_logloss: 0.268272\tvl's binary_logloss: 0.271589\n",
      "[1800]\ttr's binary_logloss: 0.268067\tvl's binary_logloss: 0.271484\n",
      "[1900]\ttr's binary_logloss: 0.267852\tvl's binary_logloss: 0.27136\n",
      "[2000]\ttr's binary_logloss: 0.267691\tvl's binary_logloss: 0.271285\n",
      "[2100]\ttr's binary_logloss: 0.267507\tvl's binary_logloss: 0.271199\n",
      "[2200]\ttr's binary_logloss: 0.267319\tvl's binary_logloss: 0.271115\n",
      "[2300]\ttr's binary_logloss: 0.267167\tvl's binary_logloss: 0.271058\n",
      "[2400]\ttr's binary_logloss: 0.267019\tvl's binary_logloss: 0.271002\n",
      "[2500]\ttr's binary_logloss: 0.266867\tvl's binary_logloss: 0.270951\n",
      "[2600]\ttr's binary_logloss: 0.266707\tvl's binary_logloss: 0.270885\n",
      "[2700]\ttr's binary_logloss: 0.266559\tvl's binary_logloss: 0.270832\n",
      "[2800]\ttr's binary_logloss: 0.266408\tvl's binary_logloss: 0.270778\n",
      "[2900]\ttr's binary_logloss: 0.266265\tvl's binary_logloss: 0.270726\n",
      "[3000]\ttr's binary_logloss: 0.26611\tvl's binary_logloss: 0.270683\n",
      "[3100]\ttr's binary_logloss: 0.265975\tvl's binary_logloss: 0.270645\n",
      "[3200]\ttr's binary_logloss: 0.265853\tvl's binary_logloss: 0.270614\n",
      "[3300]\ttr's binary_logloss: 0.26573\tvl's binary_logloss: 0.270575\n",
      "[3400]\ttr's binary_logloss: 0.265596\tvl's binary_logloss: 0.27053\n",
      "[3500]\ttr's binary_logloss: 0.265453\tvl's binary_logloss: 0.270483\n",
      "[3600]\ttr's binary_logloss: 0.265338\tvl's binary_logloss: 0.270463\n",
      "[3700]\ttr's binary_logloss: 0.265207\tvl's binary_logloss: 0.270431\n",
      "[3800]\ttr's binary_logloss: 0.265085\tvl's binary_logloss: 0.270393\n",
      "[3900]\ttr's binary_logloss: 0.264959\tvl's binary_logloss: 0.270362\n",
      "[4000]\ttr's binary_logloss: 0.264846\tvl's binary_logloss: 0.270347\n",
      "[4100]\ttr's binary_logloss: 0.264727\tvl's binary_logloss: 0.270325\n",
      "[4200]\ttr's binary_logloss: 0.264605\tvl's binary_logloss: 0.270287\n",
      "[4300]\ttr's binary_logloss: 0.264502\tvl's binary_logloss: 0.27027\n",
      "[4400]\ttr's binary_logloss: 0.264399\tvl's binary_logloss: 0.270253\n",
      "[4500]\ttr's binary_logloss: 0.264288\tvl's binary_logloss: 0.270225\n",
      "[4600]\ttr's binary_logloss: 0.264189\tvl's binary_logloss: 0.270201\n",
      "[4700]\ttr's binary_logloss: 0.264084\tvl's binary_logloss: 0.270184\n",
      "[4800]\ttr's binary_logloss: 0.263988\tvl's binary_logloss: 0.270168\n",
      "[4900]\ttr's binary_logloss: 0.263883\tvl's binary_logloss: 0.27015\n",
      "[5000]\ttr's binary_logloss: 0.263778\tvl's binary_logloss: 0.270131\n",
      "[5100]\ttr's binary_logloss: 0.263674\tvl's binary_logloss: 0.270115\n",
      "[5200]\ttr's binary_logloss: 0.263575\tvl's binary_logloss: 0.270102\n",
      "[5300]\ttr's binary_logloss: 0.263475\tvl's binary_logloss: 0.270079\n",
      "[5400]\ttr's binary_logloss: 0.263372\tvl's binary_logloss: 0.270057\n",
      "[5500]\ttr's binary_logloss: 0.263268\tvl's binary_logloss: 0.270043\n",
      "[5600]\ttr's binary_logloss: 0.263167\tvl's binary_logloss: 0.27002\n",
      "[5700]\ttr's binary_logloss: 0.263068\tvl's binary_logloss: 0.270003\n",
      "[5800]\ttr's binary_logloss: 0.262969\tvl's binary_logloss: 0.269986\n",
      "[5900]\ttr's binary_logloss: 0.262878\tvl's binary_logloss: 0.269973\n",
      "[6000]\ttr's binary_logloss: 0.262774\tvl's binary_logloss: 0.269949\n",
      "[6100]\ttr's binary_logloss: 0.262671\tvl's binary_logloss: 0.269931\n",
      "[6200]\ttr's binary_logloss: 0.262569\tvl's binary_logloss: 0.269911\n",
      "[6300]\ttr's binary_logloss: 0.262469\tvl's binary_logloss: 0.269895\n",
      "[6400]\ttr's binary_logloss: 0.262376\tvl's binary_logloss: 0.269881\n",
      "[6500]\ttr's binary_logloss: 0.262285\tvl's binary_logloss: 0.269866\n",
      "[6600]\ttr's binary_logloss: 0.262183\tvl's binary_logloss: 0.269847\n",
      "[6700]\ttr's binary_logloss: 0.262094\tvl's binary_logloss: 0.269836\n",
      "[6800]\ttr's binary_logloss: 0.262003\tvl's binary_logloss: 0.269827\n",
      "[6900]\ttr's binary_logloss: 0.261915\tvl's binary_logloss: 0.269807\n",
      "[7000]\ttr's binary_logloss: 0.261825\tvl's binary_logloss: 0.269801\n",
      "[7100]\ttr's binary_logloss: 0.261743\tvl's binary_logloss: 0.269792\n",
      "[7200]\ttr's binary_logloss: 0.261656\tvl's binary_logloss: 0.269781\n",
      "[7300]\ttr's binary_logloss: 0.261567\tvl's binary_logloss: 0.26977\n",
      "[7400]\ttr's binary_logloss: 0.261478\tvl's binary_logloss: 0.269761\n",
      "[7500]\ttr's binary_logloss: 0.261389\tvl's binary_logloss: 0.269751\n",
      "[7600]\ttr's binary_logloss: 0.261305\tvl's binary_logloss: 0.269744\n",
      "[7700]\ttr's binary_logloss: 0.261213\tvl's binary_logloss: 0.269737\n",
      "Early stopping, best iteration is:\n",
      "[7649]\ttr's binary_logloss: 0.261258\tvl's binary_logloss: 0.269733\n"
     ]
    },
    {
     "name": "stderr",
     "output_type": "stream",
     "text": [
      "tune_num_leaves, val_score: 0.268694:  30%|###       | 6/20 [10:40:13<27:31:19, 7077.14s/it]"
     ]
    },
    {
     "name": "stdout",
     "output_type": "stream",
     "text": [
      "Training until validation scores don't improve for 100 rounds\n",
      "[100]\ttr's binary_logloss: 0.268026\tvl's binary_logloss: 0.271457\n",
      "[200]\ttr's binary_logloss: 0.265081\tvl's binary_logloss: 0.270294\n",
      "[300]\ttr's binary_logloss: 0.263209\tvl's binary_logloss: 0.269889\n",
      "[400]\ttr's binary_logloss: 0.261584\tvl's binary_logloss: 0.269649\n",
      "[500]\ttr's binary_logloss: 0.259947\tvl's binary_logloss: 0.26939\n",
      "[600]\ttr's binary_logloss: 0.258512\tvl's binary_logloss: 0.269244\n",
      "[700]\ttr's binary_logloss: 0.257237\tvl's binary_logloss: 0.269187\n",
      "[800]\ttr's binary_logloss: 0.255892\tvl's binary_logloss: 0.269104\n",
      "[900]\ttr's binary_logloss: 0.254536\tvl's binary_logloss: 0.268992\n",
      "[1000]\ttr's binary_logloss: 0.253401\tvl's binary_logloss: 0.268934\n",
      "[1100]\ttr's binary_logloss: 0.252234\tvl's binary_logloss: 0.268896\n",
      "[1200]\ttr's binary_logloss: 0.25106\tvl's binary_logloss: 0.268848\n",
      "[1300]\ttr's binary_logloss: 0.250068\tvl's binary_logloss: 0.268837\n",
      "[1400]\ttr's binary_logloss: 0.249076\tvl's binary_logloss: 0.268812\n",
      "[1500]\ttr's binary_logloss: 0.248133\tvl's binary_logloss: 0.268801\n",
      "[1600]\ttr's binary_logloss: 0.247144\tvl's binary_logloss: 0.268802\n",
      "Early stopping, best iteration is:\n",
      "[1515]\ttr's binary_logloss: 0.247986\tvl's binary_logloss: 0.268787\n"
     ]
    },
    {
     "name": "stderr",
     "output_type": "stream",
     "text": [
      "tune_num_leaves, val_score: 0.268694:  35%|###5      | 7/20 [11:45:27<22:07:46, 6128.21s/it]"
     ]
    },
    {
     "name": "stdout",
     "output_type": "stream",
     "text": [
      "Training until validation scores don't improve for 100 rounds\n",
      "[100]\ttr's binary_logloss: 0.266685\tvl's binary_logloss: 0.270869\n",
      "[200]\ttr's binary_logloss: 0.263321\tvl's binary_logloss: 0.269838\n",
      "[300]\ttr's binary_logloss: 0.260938\tvl's binary_logloss: 0.26945\n",
      "[400]\ttr's binary_logloss: 0.258765\tvl's binary_logloss: 0.269246\n",
      "[500]\ttr's binary_logloss: 0.257055\tvl's binary_logloss: 0.26918\n",
      "[600]\ttr's binary_logloss: 0.2554\tvl's binary_logloss: 0.26912\n",
      "[700]\ttr's binary_logloss: 0.253819\tvl's binary_logloss: 0.269121\n",
      "[800]\ttr's binary_logloss: 0.252242\tvl's binary_logloss: 0.269035\n",
      "[900]\ttr's binary_logloss: 0.250796\tvl's binary_logloss: 0.269003\n",
      "[1000]\ttr's binary_logloss: 0.249343\tvl's binary_logloss: 0.268981\n",
      "[1100]\ttr's binary_logloss: 0.247922\tvl's binary_logloss: 0.268968\n",
      "Early stopping, best iteration is:\n",
      "[1027]\ttr's binary_logloss: 0.2489\tvl's binary_logloss: 0.268952\n"
     ]
    },
    {
     "name": "stderr",
     "output_type": "stream",
     "text": [
      "tune_num_leaves, val_score: 0.268694:  40%|####      | 8/20 [12:34:31<17:14:36, 5173.03s/it]"
     ]
    },
    {
     "name": "stdout",
     "output_type": "stream",
     "text": [
      "Training until validation scores don't improve for 100 rounds\n",
      "[100]\ttr's binary_logloss: 0.278453\tvl's binary_logloss: 0.279457\n",
      "[200]\ttr's binary_logloss: 0.276666\tvl's binary_logloss: 0.277746\n",
      "[300]\ttr's binary_logloss: 0.275706\tvl's binary_logloss: 0.27688\n",
      "[400]\ttr's binary_logloss: 0.275134\tvl's binary_logloss: 0.276373\n",
      "[500]\ttr's binary_logloss: 0.274605\tvl's binary_logloss: 0.27591\n",
      "[600]\ttr's binary_logloss: 0.274204\tvl's binary_logloss: 0.275583\n",
      "[700]\ttr's binary_logloss: 0.273811\tvl's binary_logloss: 0.27526\n",
      "[800]\ttr's binary_logloss: 0.273438\tvl's binary_logloss: 0.274944\n",
      "[900]\ttr's binary_logloss: 0.27314\tvl's binary_logloss: 0.274683\n",
      "[1000]\ttr's binary_logloss: 0.272875\tvl's binary_logloss: 0.274483\n",
      "[1100]\ttr's binary_logloss: 0.272646\tvl's binary_logloss: 0.274308\n",
      "[1200]\ttr's binary_logloss: 0.272398\tvl's binary_logloss: 0.274119\n",
      "[1300]\ttr's binary_logloss: 0.272184\tvl's binary_logloss: 0.273952\n",
      "[1400]\ttr's binary_logloss: 0.272001\tvl's binary_logloss: 0.273823\n",
      "[1500]\ttr's binary_logloss: 0.271817\tvl's binary_logloss: 0.273677\n",
      "[1600]\ttr's binary_logloss: 0.271669\tvl's binary_logloss: 0.273575\n",
      "[1700]\ttr's binary_logloss: 0.271515\tvl's binary_logloss: 0.273462\n",
      "[1800]\ttr's binary_logloss: 0.271379\tvl's binary_logloss: 0.273372\n",
      "[1900]\ttr's binary_logloss: 0.271235\tvl's binary_logloss: 0.273269\n",
      "[2000]\ttr's binary_logloss: 0.271104\tvl's binary_logloss: 0.273185\n",
      "[2100]\ttr's binary_logloss: 0.270979\tvl's binary_logloss: 0.273104\n",
      "[2200]\ttr's binary_logloss: 0.270889\tvl's binary_logloss: 0.27306\n",
      "[2300]\ttr's binary_logloss: 0.270784\tvl's binary_logloss: 0.273003\n",
      "[2400]\ttr's binary_logloss: 0.270664\tvl's binary_logloss: 0.272926\n",
      "[2500]\ttr's binary_logloss: 0.270549\tvl's binary_logloss: 0.272854\n",
      "[2600]\ttr's binary_logloss: 0.270449\tvl's binary_logloss: 0.272782\n",
      "[2700]\ttr's binary_logloss: 0.27036\tvl's binary_logloss: 0.272726\n",
      "[2800]\ttr's binary_logloss: 0.270261\tvl's binary_logloss: 0.272683\n",
      "[2900]\ttr's binary_logloss: 0.270168\tvl's binary_logloss: 0.272637\n",
      "[3000]\ttr's binary_logloss: 0.270055\tvl's binary_logloss: 0.272572\n",
      "[3100]\ttr's binary_logloss: 0.26996\tvl's binary_logloss: 0.272516\n",
      "[3200]\ttr's binary_logloss: 0.269871\tvl's binary_logloss: 0.272466\n",
      "[3300]\ttr's binary_logloss: 0.269764\tvl's binary_logloss: 0.272399\n",
      "[3400]\ttr's binary_logloss: 0.269692\tvl's binary_logloss: 0.272355\n",
      "[3500]\ttr's binary_logloss: 0.269618\tvl's binary_logloss: 0.27231\n",
      "[3600]\ttr's binary_logloss: 0.269537\tvl's binary_logloss: 0.272273\n",
      "[3700]\ttr's binary_logloss: 0.269461\tvl's binary_logloss: 0.272234\n",
      "[3800]\ttr's binary_logloss: 0.269388\tvl's binary_logloss: 0.272202\n",
      "[3900]\ttr's binary_logloss: 0.269316\tvl's binary_logloss: 0.272178\n",
      "[4000]\ttr's binary_logloss: 0.269249\tvl's binary_logloss: 0.272154\n",
      "[4100]\ttr's binary_logloss: 0.269176\tvl's binary_logloss: 0.272117\n",
      "[4200]\ttr's binary_logloss: 0.269106\tvl's binary_logloss: 0.27208\n",
      "[4300]\ttr's binary_logloss: 0.269039\tvl's binary_logloss: 0.272048\n",
      "[4400]\ttr's binary_logloss: 0.268973\tvl's binary_logloss: 0.272011\n",
      "[4500]\ttr's binary_logloss: 0.268902\tvl's binary_logloss: 0.271977\n",
      "[4600]\ttr's binary_logloss: 0.268839\tvl's binary_logloss: 0.271949\n",
      "[4700]\ttr's binary_logloss: 0.268762\tvl's binary_logloss: 0.271895\n",
      "[4800]\ttr's binary_logloss: 0.268697\tvl's binary_logloss: 0.271855\n",
      "[4900]\ttr's binary_logloss: 0.26864\tvl's binary_logloss: 0.271832\n",
      "[5000]\ttr's binary_logloss: 0.268585\tvl's binary_logloss: 0.271811\n",
      "[5100]\ttr's binary_logloss: 0.26853\tvl's binary_logloss: 0.271791\n",
      "[5200]\ttr's binary_logloss: 0.268474\tvl's binary_logloss: 0.271772\n",
      "[5300]\ttr's binary_logloss: 0.268426\tvl's binary_logloss: 0.271754\n",
      "[5400]\ttr's binary_logloss: 0.268367\tvl's binary_logloss: 0.27173\n",
      "[5500]\ttr's binary_logloss: 0.268308\tvl's binary_logloss: 0.271708\n",
      "[5600]\ttr's binary_logloss: 0.268256\tvl's binary_logloss: 0.271689\n",
      "[5700]\ttr's binary_logloss: 0.268199\tvl's binary_logloss: 0.27166\n",
      "[5800]\ttr's binary_logloss: 0.268144\tvl's binary_logloss: 0.271635\n",
      "[5900]\ttr's binary_logloss: 0.268098\tvl's binary_logloss: 0.271621\n",
      "[6000]\ttr's binary_logloss: 0.268051\tvl's binary_logloss: 0.271611\n",
      "[6100]\ttr's binary_logloss: 0.267999\tvl's binary_logloss: 0.271601\n",
      "[6200]\ttr's binary_logloss: 0.267949\tvl's binary_logloss: 0.271579\n",
      "[6300]\ttr's binary_logloss: 0.267902\tvl's binary_logloss: 0.271558\n",
      "[6400]\ttr's binary_logloss: 0.26785\tvl's binary_logloss: 0.271542\n",
      "[6500]\ttr's binary_logloss: 0.267799\tvl's binary_logloss: 0.271523\n",
      "[6600]\ttr's binary_logloss: 0.267745\tvl's binary_logloss: 0.271498\n",
      "[6700]\ttr's binary_logloss: 0.26769\tvl's binary_logloss: 0.271477\n",
      "[6800]\ttr's binary_logloss: 0.267644\tvl's binary_logloss: 0.27146\n",
      "[6900]\ttr's binary_logloss: 0.267593\tvl's binary_logloss: 0.271434\n",
      "[7000]\ttr's binary_logloss: 0.267544\tvl's binary_logloss: 0.271412\n",
      "[7100]\ttr's binary_logloss: 0.267498\tvl's binary_logloss: 0.271395\n",
      "[7200]\ttr's binary_logloss: 0.267454\tvl's binary_logloss: 0.271385\n",
      "[7300]\ttr's binary_logloss: 0.267414\tvl's binary_logloss: 0.271373\n",
      "[7400]\ttr's binary_logloss: 0.267368\tvl's binary_logloss: 0.271351\n",
      "[7500]\ttr's binary_logloss: 0.267322\tvl's binary_logloss: 0.271335\n",
      "[7600]\ttr's binary_logloss: 0.267274\tvl's binary_logloss: 0.27132\n",
      "[7700]\ttr's binary_logloss: 0.267226\tvl's binary_logloss: 0.271308\n",
      "[7800]\ttr's binary_logloss: 0.267179\tvl's binary_logloss: 0.27129\n",
      "[7900]\ttr's binary_logloss: 0.267136\tvl's binary_logloss: 0.271276\n",
      "[8000]\ttr's binary_logloss: 0.267094\tvl's binary_logloss: 0.27126\n",
      "[8100]\ttr's binary_logloss: 0.267052\tvl's binary_logloss: 0.271254\n",
      "[8200]\ttr's binary_logloss: 0.267007\tvl's binary_logloss: 0.271237\n",
      "[8300]\ttr's binary_logloss: 0.266965\tvl's binary_logloss: 0.271228\n",
      "[8400]\ttr's binary_logloss: 0.266924\tvl's binary_logloss: 0.271217\n",
      "[8500]\ttr's binary_logloss: 0.266875\tvl's binary_logloss: 0.271201\n",
      "[8600]\ttr's binary_logloss: 0.266833\tvl's binary_logloss: 0.271185\n",
      "[8700]\ttr's binary_logloss: 0.266792\tvl's binary_logloss: 0.271179\n",
      "[8800]\ttr's binary_logloss: 0.266749\tvl's binary_logloss: 0.271164\n",
      "[8900]\ttr's binary_logloss: 0.266708\tvl's binary_logloss: 0.271153\n",
      "[9000]\ttr's binary_logloss: 0.266668\tvl's binary_logloss: 0.271141\n",
      "[9100]\ttr's binary_logloss: 0.266629\tvl's binary_logloss: 0.271131\n",
      "[9200]\ttr's binary_logloss: 0.266592\tvl's binary_logloss: 0.271121\n",
      "[9300]\ttr's binary_logloss: 0.266555\tvl's binary_logloss: 0.271112\n",
      "[9400]\ttr's binary_logloss: 0.266518\tvl's binary_logloss: 0.271105\n",
      "[9500]\ttr's binary_logloss: 0.266473\tvl's binary_logloss: 0.271087\n",
      "[9600]\ttr's binary_logloss: 0.266436\tvl's binary_logloss: 0.27108\n",
      "[9700]\ttr's binary_logloss: 0.2664\tvl's binary_logloss: 0.271068\n",
      "[9800]\ttr's binary_logloss: 0.266362\tvl's binary_logloss: 0.271062\n",
      "[9900]\ttr's binary_logloss: 0.266328\tvl's binary_logloss: 0.271053\n",
      "[10000]\ttr's binary_logloss: 0.266288\tvl's binary_logloss: 0.271043\n",
      "[10100]\ttr's binary_logloss: 0.266255\tvl's binary_logloss: 0.271041\n",
      "[10200]\ttr's binary_logloss: 0.266223\tvl's binary_logloss: 0.271037\n",
      "[10300]\ttr's binary_logloss: 0.266186\tvl's binary_logloss: 0.271032\n",
      "[10400]\ttr's binary_logloss: 0.266149\tvl's binary_logloss: 0.271025\n",
      "[10500]\ttr's binary_logloss: 0.26611\tvl's binary_logloss: 0.271013\n",
      "[10600]\ttr's binary_logloss: 0.266073\tvl's binary_logloss: 0.271003\n",
      "[10700]\ttr's binary_logloss: 0.266036\tvl's binary_logloss: 0.270988\n",
      "[10800]\ttr's binary_logloss: 0.266002\tvl's binary_logloss: 0.270981\n",
      "[10900]\ttr's binary_logloss: 0.265966\tvl's binary_logloss: 0.27097\n",
      "[11000]\ttr's binary_logloss: 0.265927\tvl's binary_logloss: 0.270962\n",
      "[11100]\ttr's binary_logloss: 0.265893\tvl's binary_logloss: 0.270951\n",
      "[11200]\ttr's binary_logloss: 0.265858\tvl's binary_logloss: 0.270946\n",
      "[11300]\ttr's binary_logloss: 0.265823\tvl's binary_logloss: 0.270936\n",
      "[11400]\ttr's binary_logloss: 0.26579\tvl's binary_logloss: 0.27093\n",
      "[11500]\ttr's binary_logloss: 0.265754\tvl's binary_logloss: 0.27092\n",
      "[11600]\ttr's binary_logloss: 0.265721\tvl's binary_logloss: 0.270917\n",
      "[11700]\ttr's binary_logloss: 0.265687\tvl's binary_logloss: 0.27091\n",
      "[11800]\ttr's binary_logloss: 0.265655\tvl's binary_logloss: 0.270905\n",
      "[11900]\ttr's binary_logloss: 0.265623\tvl's binary_logloss: 0.270901\n",
      "[12000]\ttr's binary_logloss: 0.26559\tvl's binary_logloss: 0.270894\n",
      "[12100]\ttr's binary_logloss: 0.265558\tvl's binary_logloss: 0.270888\n",
      "[12200]\ttr's binary_logloss: 0.265528\tvl's binary_logloss: 0.270885\n",
      "[12300]\ttr's binary_logloss: 0.265495\tvl's binary_logloss: 0.270878\n",
      "[12400]\ttr's binary_logloss: 0.265461\tvl's binary_logloss: 0.270874\n",
      "[12500]\ttr's binary_logloss: 0.265426\tvl's binary_logloss: 0.270868\n",
      "[12600]\ttr's binary_logloss: 0.265397\tvl's binary_logloss: 0.270862\n",
      "[12700]\ttr's binary_logloss: 0.265365\tvl's binary_logloss: 0.270859\n",
      "[12800]\ttr's binary_logloss: 0.265333\tvl's binary_logloss: 0.270856\n",
      "[12900]\ttr's binary_logloss: 0.265299\tvl's binary_logloss: 0.270848\n",
      "[13000]\ttr's binary_logloss: 0.26526\tvl's binary_logloss: 0.270835\n",
      "[13100]\ttr's binary_logloss: 0.265226\tvl's binary_logloss: 0.27083\n",
      "[13200]\ttr's binary_logloss: 0.26519\tvl's binary_logloss: 0.27082\n",
      "[13300]\ttr's binary_logloss: 0.265156\tvl's binary_logloss: 0.270809\n",
      "[13400]\ttr's binary_logloss: 0.265125\tvl's binary_logloss: 0.270805\n",
      "[13500]\ttr's binary_logloss: 0.26509\tvl's binary_logloss: 0.270796\n",
      "[13600]\ttr's binary_logloss: 0.26506\tvl's binary_logloss: 0.270786\n",
      "[13700]\ttr's binary_logloss: 0.265029\tvl's binary_logloss: 0.270782\n",
      "[13800]\ttr's binary_logloss: 0.264996\tvl's binary_logloss: 0.270778\n",
      "[13900]\ttr's binary_logloss: 0.264967\tvl's binary_logloss: 0.270775\n",
      "[14000]\ttr's binary_logloss: 0.264933\tvl's binary_logloss: 0.270769\n",
      "[14100]\ttr's binary_logloss: 0.264901\tvl's binary_logloss: 0.270766\n",
      "[14200]\ttr's binary_logloss: 0.264871\tvl's binary_logloss: 0.270761\n",
      "[14300]\ttr's binary_logloss: 0.264839\tvl's binary_logloss: 0.270751\n",
      "[14400]\ttr's binary_logloss: 0.264805\tvl's binary_logloss: 0.270742\n",
      "[14500]\ttr's binary_logloss: 0.264774\tvl's binary_logloss: 0.270737\n",
      "[14600]\ttr's binary_logloss: 0.26474\tvl's binary_logloss: 0.270728\n",
      "[14700]\ttr's binary_logloss: 0.264707\tvl's binary_logloss: 0.270721\n",
      "[14800]\ttr's binary_logloss: 0.264676\tvl's binary_logloss: 0.270717\n",
      "[14900]\ttr's binary_logloss: 0.264647\tvl's binary_logloss: 0.270712\n",
      "[15000]\ttr's binary_logloss: 0.264613\tvl's binary_logloss: 0.270703\n",
      "[15100]\ttr's binary_logloss: 0.264581\tvl's binary_logloss: 0.270698\n",
      "[15200]\ttr's binary_logloss: 0.264551\tvl's binary_logloss: 0.270691\n",
      "[15300]\ttr's binary_logloss: 0.264523\tvl's binary_logloss: 0.270687\n",
      "[15400]\ttr's binary_logloss: 0.264493\tvl's binary_logloss: 0.270682\n",
      "[15500]\ttr's binary_logloss: 0.264463\tvl's binary_logloss: 0.270677\n",
      "[15600]\ttr's binary_logloss: 0.264433\tvl's binary_logloss: 0.270673\n",
      "[15700]\ttr's binary_logloss: 0.264403\tvl's binary_logloss: 0.270671\n",
      "[15800]\ttr's binary_logloss: 0.264374\tvl's binary_logloss: 0.270668\n",
      "Early stopping, best iteration is:\n",
      "[15790]\ttr's binary_logloss: 0.264377\tvl's binary_logloss: 0.270667\n"
     ]
    },
    {
     "name": "stderr",
     "output_type": "stream",
     "text": [
      "tune_num_leaves, val_score: 0.268694:  45%|####5     | 9/20 [17:32:02<27:25:38, 8976.27s/it]"
     ]
    },
    {
     "name": "stdout",
     "output_type": "stream",
     "text": [
      "Training until validation scores don't improve for 100 rounds\n",
      "[100]\ttr's binary_logloss: 0.266836\tvl's binary_logloss: 0.270992\n",
      "[200]\ttr's binary_logloss: 0.26347\tvl's binary_logloss: 0.269941\n",
      "[300]\ttr's binary_logloss: 0.261229\tvl's binary_logloss: 0.269607\n",
      "[400]\ttr's binary_logloss: 0.259181\tvl's binary_logloss: 0.269362\n",
      "[500]\ttr's binary_logloss: 0.257475\tvl's binary_logloss: 0.269247\n",
      "[600]\ttr's binary_logloss: 0.255822\tvl's binary_logloss: 0.269196\n",
      "[700]\ttr's binary_logloss: 0.254256\tvl's binary_logloss: 0.269145\n",
      "[800]\ttr's binary_logloss: 0.252759\tvl's binary_logloss: 0.269109\n",
      "[900]\ttr's binary_logloss: 0.251209\tvl's binary_logloss: 0.269051\n",
      "[1000]\ttr's binary_logloss: 0.249755\tvl's binary_logloss: 0.269027\n",
      "[1100]\ttr's binary_logloss: 0.248386\tvl's binary_logloss: 0.269003\n",
      "[1200]\ttr's binary_logloss: 0.246934\tvl's binary_logloss: 0.268964\n",
      "[1300]\ttr's binary_logloss: 0.245678\tvl's binary_logloss: 0.268929\n",
      "[1400]\ttr's binary_logloss: 0.244456\tvl's binary_logloss: 0.268928\n",
      "Early stopping, best iteration is:\n",
      "[1371]\ttr's binary_logloss: 0.24482\tvl's binary_logloss: 0.268914\n"
     ]
    },
    {
     "name": "stderr",
     "output_type": "stream",
     "text": [
      "tune_num_leaves, val_score: 0.268694:  50%|#####     | 10/20 [18:35:22<20:37:14, 7423.45s/it]"
     ]
    },
    {
     "name": "stdout",
     "output_type": "stream",
     "text": [
      "Training until validation scores don't improve for 100 rounds\n",
      "[100]\ttr's binary_logloss: 0.270477\tvl's binary_logloss: 0.272802\n",
      "[200]\ttr's binary_logloss: 0.268081\tvl's binary_logloss: 0.271435\n",
      "[300]\ttr's binary_logloss: 0.266681\tvl's binary_logloss: 0.270908\n",
      "[400]\ttr's binary_logloss: 0.265479\tvl's binary_logloss: 0.270489\n",
      "[500]\ttr's binary_logloss: 0.26451\tvl's binary_logloss: 0.270276\n",
      "[600]\ttr's binary_logloss: 0.263513\tvl's binary_logloss: 0.270019\n",
      "[700]\ttr's binary_logloss: 0.262691\tvl's binary_logloss: 0.26991\n",
      "[800]\ttr's binary_logloss: 0.261831\tvl's binary_logloss: 0.269799\n",
      "[900]\ttr's binary_logloss: 0.261064\tvl's binary_logloss: 0.269715\n",
      "[1000]\ttr's binary_logloss: 0.260266\tvl's binary_logloss: 0.269641\n",
      "[1100]\ttr's binary_logloss: 0.259542\tvl's binary_logloss: 0.269536\n",
      "[1200]\ttr's binary_logloss: 0.258818\tvl's binary_logloss: 0.269449\n",
      "[1300]\ttr's binary_logloss: 0.258121\tvl's binary_logloss: 0.269387\n",
      "[1400]\ttr's binary_logloss: 0.257485\tvl's binary_logloss: 0.269338\n",
      "[1500]\ttr's binary_logloss: 0.256836\tvl's binary_logloss: 0.269281\n",
      "[1600]\ttr's binary_logloss: 0.256179\tvl's binary_logloss: 0.269224\n",
      "[1700]\ttr's binary_logloss: 0.255536\tvl's binary_logloss: 0.269168\n",
      "[1800]\ttr's binary_logloss: 0.254943\tvl's binary_logloss: 0.269148\n",
      "[1900]\ttr's binary_logloss: 0.25435\tvl's binary_logloss: 0.269124\n",
      "[2000]\ttr's binary_logloss: 0.253763\tvl's binary_logloss: 0.269075\n",
      "[2100]\ttr's binary_logloss: 0.253158\tvl's binary_logloss: 0.269009\n",
      "[2200]\ttr's binary_logloss: 0.252637\tvl's binary_logloss: 0.269006\n",
      "[2300]\ttr's binary_logloss: 0.25207\tvl's binary_logloss: 0.26898\n",
      "[2400]\ttr's binary_logloss: 0.251446\tvl's binary_logloss: 0.268941\n",
      "[2500]\ttr's binary_logloss: 0.250878\tvl's binary_logloss: 0.268875\n",
      "[2600]\ttr's binary_logloss: 0.250367\tvl's binary_logloss: 0.268864\n",
      "Early stopping, best iteration is:\n",
      "[2523]\ttr's binary_logloss: 0.250752\tvl's binary_logloss: 0.268862\n"
     ]
    },
    {
     "name": "stderr",
     "output_type": "stream",
     "text": [
      "tune_num_leaves, val_score: 0.268694:  55%|#####5    | 11/20 [19:51:08<16:24:02, 6560.27s/it]"
     ]
    },
    {
     "name": "stdout",
     "output_type": "stream",
     "text": [
      "Training until validation scores don't improve for 100 rounds\n",
      "[100]\ttr's binary_logloss: 0.267979\tvl's binary_logloss: 0.271447\n",
      "[200]\ttr's binary_logloss: 0.265082\tvl's binary_logloss: 0.270355\n",
      "[300]\ttr's binary_logloss: 0.26296\tvl's binary_logloss: 0.269805\n"
     ]
    }
   ],
   "source": [
    "%%time\n",
    "dtr = lgb.Dataset(dftr[cols_feat], label=dftr[TCOL])\n",
    "dvl = lgb.Dataset(dfvl[cols_feat], label=dfvl[TCOL])\n",
    "best_params, tuning_history = {}, []\n",
    "evalres = {}\n",
    "evallist = [(dtr, 'train'), (dvl, 'eval')]\n",
    "bst = lgb.train(params=params, \n",
    "                train_set=dtr, \n",
    "                num_boost_round=50000,\n",
    "                valid_sets=[dtr, dvl],\n",
    "                valid_names=['tr','vl'],\n",
    "                best_params=best_params,\n",
    "                tuning_history=tuning_history,\n",
    "                verbose_eval=100,\n",
    "                early_stopping_rounds=100,\n",
    "                evals_result=evalres,\n",
    "               )\n",
    "results['bst'] = bst\n",
    "results['evalres'] = evalres\n",
    "results['best_params']=best_params\n",
    "results['tuning_history']=tuning_history"
   ]
  },
  {
   "cell_type": "markdown",
   "metadata": {},
   "source": [
    "## best_params"
   ]
  },
  {
   "cell_type": "code",
   "execution_count": null,
   "metadata": {},
   "outputs": [],
   "source": [
    "best_params"
   ]
  },
  {
   "cell_type": "markdown",
   "metadata": {},
   "source": [
    "## tr vl trajec"
   ]
  },
  {
   "cell_type": "code",
   "execution_count": null,
   "metadata": {},
   "outputs": [],
   "source": [
    "plt.plot(evalres['tr']['binary_logloss'])\n",
    "plt.plot(evalres['vl']['binary_logloss'])\n",
    "plt.title(f\"logloss; best_iteration {bst.best_iteration}\")\n",
    "plt.show()"
   ]
  },
  {
   "cell_type": "markdown",
   "metadata": {},
   "source": [
    "## model features"
   ]
  },
  {
   "cell_type": "code",
   "execution_count": 37,
   "metadata": {},
   "outputs": [
    {
     "data": {
      "image/png": "[encoded data removed]",
      "text/plain": [
       "<Figure size 720x1080 with 1 Axes>"
      ]
     },
     "metadata": {
      "needs_background": "light"
     },
     "output_type": "display_data"
    }
   ],
   "source": [
    "ax = lgb.plot_importance(bst, height=0.8, max_num_features=50, figsize=(10,15))\n",
    "ax.grid(False, axis=\"y\")\n",
    "ax.set_title(f'Estimated feature importance')\n",
    "plt.show()"
   ]
  },
  {
   "cell_type": "code",
   "execution_count": 38,
   "metadata": {},
   "outputs": [
    {
     "data": {
      "text/html": [
       "<div>\n",
       "<style scoped>\n",
       "    .dataframe tbody tr th:only-of-type {\n",
       "        vertical-align: middle;\n",
       "    }\n",
       "\n",
       "    .dataframe tbody tr th {\n",
       "        vertical-align: top;\n",
       "    }\n",
       "\n",
       "    .dataframe thead th {\n",
       "        text-align: right;\n",
       "    }\n",
       "</style>\n",
       "<table border=\"1\" class=\"dataframe\">\n",
       "  <thead>\n",
       "    <tr style=\"text-align: right;\">\n",
       "      <th></th>\n",
       "      <th>0</th>\n",
       "      <th>1</th>\n",
       "    </tr>\n",
       "  </thead>\n",
       "  <tbody>\n",
       "    <tr>\n",
       "      <th>31</th>\n",
       "      <td>langhour</td>\n",
       "      <td>19501</td>\n",
       "    </tr>\n",
       "    <tr>\n",
       "      <th>3</th>\n",
       "      <td>u1_fllwing_cnt</td>\n",
       "      <td>14572</td>\n",
       "    </tr>\n",
       "    <tr>\n",
       "      <th>5</th>\n",
       "      <td>u2_fllwer_cnt</td>\n",
       "      <td>14020</td>\n",
       "    </tr>\n",
       "    <tr>\n",
       "      <th>29</th>\n",
       "      <td>u1_fllwer_cnt_by_age</td>\n",
       "      <td>13898</td>\n",
       "    </tr>\n",
       "    <tr>\n",
       "      <th>11</th>\n",
       "      <td>len_toks</td>\n",
       "      <td>13830</td>\n",
       "    </tr>\n",
       "    <tr>\n",
       "      <th>2</th>\n",
       "      <td>u1_fllwer_cnt</td>\n",
       "      <td>13612</td>\n",
       "    </tr>\n",
       "    <tr>\n",
       "      <th>6</th>\n",
       "      <td>u2_fllwng_cnt</td>\n",
       "      <td>12782</td>\n",
       "    </tr>\n",
       "    <tr>\n",
       "      <th>30</th>\n",
       "      <td>u1_fllwng_cnt_by_age</td>\n",
       "      <td>12767</td>\n",
       "    </tr>\n",
       "    <tr>\n",
       "      <th>24</th>\n",
       "      <td>tmdlta_twtu1</td>\n",
       "      <td>12659</td>\n",
       "    </tr>\n",
       "    <tr>\n",
       "      <th>26</th>\n",
       "      <td>twt_age</td>\n",
       "      <td>12157</td>\n",
       "    </tr>\n",
       "    <tr>\n",
       "      <th>23</th>\n",
       "      <td>tmdlta_u2u1</td>\n",
       "      <td>11556</td>\n",
       "    </tr>\n",
       "    <tr>\n",
       "      <th>25</th>\n",
       "      <td>tmdlta_twtu2</td>\n",
       "      <td>11177</td>\n",
       "    </tr>\n",
       "    <tr>\n",
       "      <th>27</th>\n",
       "      <td>u1_age</td>\n",
       "      <td>11036</td>\n",
       "    </tr>\n",
       "    <tr>\n",
       "      <th>28</th>\n",
       "      <td>u2_age</td>\n",
       "      <td>10550</td>\n",
       "    </tr>\n",
       "    <tr>\n",
       "      <th>1</th>\n",
       "      <td>lang</td>\n",
       "      <td>6812</td>\n",
       "    </tr>\n",
       "    <tr>\n",
       "      <th>22</th>\n",
       "      <td>hour</td>\n",
       "      <td>5561</td>\n",
       "    </tr>\n",
       "    <tr>\n",
       "      <th>21</th>\n",
       "      <td>dayofweek</td>\n",
       "      <td>3520</td>\n",
       "    </tr>\n",
       "    <tr>\n",
       "      <th>0</th>\n",
       "      <td>twttyp</td>\n",
       "      <td>3089</td>\n",
       "    </tr>\n",
       "    <tr>\n",
       "      <th>16</th>\n",
       "      <td>n_hshtgs</td>\n",
       "      <td>2598</td>\n",
       "    </tr>\n",
       "    <tr>\n",
       "      <th>12</th>\n",
       "      <td>n_media_Photo</td>\n",
       "      <td>2358</td>\n",
       "    </tr>\n",
       "    <tr>\n",
       "      <th>18</th>\n",
       "      <td>n_media</td>\n",
       "      <td>1697</td>\n",
       "    </tr>\n",
       "    <tr>\n",
       "      <th>15</th>\n",
       "      <td>has_hshtgs</td>\n",
       "      <td>1156</td>\n",
       "    </tr>\n",
       "    <tr>\n",
       "      <th>9</th>\n",
       "      <td>u1inu2</td>\n",
       "      <td>1144</td>\n",
       "    </tr>\n",
       "    <tr>\n",
       "      <th>17</th>\n",
       "      <td>has_media</td>\n",
       "      <td>1143</td>\n",
       "    </tr>\n",
       "    <tr>\n",
       "      <th>8</th>\n",
       "      <td>u1_fllw_u2</td>\n",
       "      <td>1104</td>\n",
       "    </tr>\n",
       "    <tr>\n",
       "      <th>19</th>\n",
       "      <td>has_domns</td>\n",
       "      <td>1054</td>\n",
       "    </tr>\n",
       "    <tr>\n",
       "      <th>10</th>\n",
       "      <td>u2inu1</td>\n",
       "      <td>1000</td>\n",
       "    </tr>\n",
       "    <tr>\n",
       "      <th>13</th>\n",
       "      <td>n_media_Video</td>\n",
       "      <td>961</td>\n",
       "    </tr>\n",
       "    <tr>\n",
       "      <th>4</th>\n",
       "      <td>u1_vrfed</td>\n",
       "      <td>921</td>\n",
       "    </tr>\n",
       "    <tr>\n",
       "      <th>20</th>\n",
       "      <td>n_domns</td>\n",
       "      <td>905</td>\n",
       "    </tr>\n",
       "    <tr>\n",
       "      <th>14</th>\n",
       "      <td>n_media_GIF</td>\n",
       "      <td>236</td>\n",
       "    </tr>\n",
       "    <tr>\n",
       "      <th>7</th>\n",
       "      <td>u2_vrfed</td>\n",
       "      <td>96</td>\n",
       "    </tr>\n",
       "  </tbody>\n",
       "</table>\n",
       "</div>"
      ],
      "text/plain": [
       "                       0      1\n",
       "31              langhour  19501\n",
       "3         u1_fllwing_cnt  14572\n",
       "5          u2_fllwer_cnt  14020\n",
       "29  u1_fllwer_cnt_by_age  13898\n",
       "11              len_toks  13830\n",
       "2          u1_fllwer_cnt  13612\n",
       "6          u2_fllwng_cnt  12782\n",
       "30  u1_fllwng_cnt_by_age  12767\n",
       "24          tmdlta_twtu1  12659\n",
       "26               twt_age  12157\n",
       "23           tmdlta_u2u1  11556\n",
       "25          tmdlta_twtu2  11177\n",
       "27                u1_age  11036\n",
       "28                u2_age  10550\n",
       "1                   lang   6812\n",
       "22                  hour   5561\n",
       "21             dayofweek   3520\n",
       "0                 twttyp   3089\n",
       "16              n_hshtgs   2598\n",
       "12         n_media_Photo   2358\n",
       "18               n_media   1697\n",
       "15            has_hshtgs   1156\n",
       "9                 u1inu2   1144\n",
       "17             has_media   1143\n",
       "8             u1_fllw_u2   1104\n",
       "19             has_domns   1054\n",
       "10                u2inu1   1000\n",
       "13         n_media_Video    961\n",
       "4               u1_vrfed    921\n",
       "20               n_domns    905\n",
       "14           n_media_GIF    236\n",
       "7               u2_vrfed     96"
      ]
     },
     "execution_count": 38,
     "metadata": {},
     "output_type": "execute_result"
    }
   ],
   "source": [
    "pd.DataFrame([bst.feature_name(), bst.feature_importance()]).T.sort_values(1, ascending=False)"
   ]
  },
  {
   "cell_type": "code",
   "execution_count": 39,
   "metadata": {},
   "outputs": [
    {
     "data": {
      "text/plain": [
       "[('langhour', 19501),\n",
       " ('u1_fllwing_cnt', 14572),\n",
       " ('u2_fllwer_cnt', 14020),\n",
       " ('u1_fllwer_cnt_by_age', 13898),\n",
       " ('len_toks', 13830),\n",
       " ('u1_fllwer_cnt', 13612),\n",
       " ('u2_fllwng_cnt', 12782),\n",
       " ('u1_fllwng_cnt_by_age', 12767),\n",
       " ('tmdlta_twtu1', 12659),\n",
       " ('twt_age', 12157),\n",
       " ('tmdlta_u2u1', 11556),\n",
       " ('tmdlta_twtu2', 11177),\n",
       " ('u1_age', 11036),\n",
       " ('u2_age', 10550),\n",
       " ('lang', 6812),\n",
       " ('hour', 5561),\n",
       " ('dayofweek', 3520),\n",
       " ('twttyp', 3089),\n",
       " ('n_hshtgs', 2598),\n",
       " ('n_media_Photo', 2358),\n",
       " ('n_media', 1697),\n",
       " ('has_hshtgs', 1156),\n",
       " ('u1inu2', 1144),\n",
       " ('has_media', 1143),\n",
       " ('u1_fllw_u2', 1104),\n",
       " ('has_domns', 1054),\n",
       " ('u2inu1', 1000),\n",
       " ('n_media_Video', 961),\n",
       " ('u1_vrfed', 921),\n",
       " ('n_domns', 905),\n",
       " ('n_media_GIF', 236),\n",
       " ('u2_vrfed', 96)]"
      ]
     },
     "execution_count": 39,
     "metadata": {},
     "output_type": "execute_result"
    }
   ],
   "source": [
    "col2imp = dict(zip(bst.feature_name(), bst.feature_importance()))\n",
    "sorted(col2imp.items(), key=lambda x: -x[1])"
   ]
  },
  {
   "cell_type": "code",
   "execution_count": 40,
   "metadata": {},
   "outputs": [
    {
     "data": {
      "text/plain": [
       "['langhour',\n",
       " 'u1_fllwing_cnt',\n",
       " 'u2_fllwer_cnt',\n",
       " 'u1_fllwer_cnt_by_age',\n",
       " 'len_toks',\n",
       " 'u1_fllwer_cnt',\n",
       " 'u2_fllwng_cnt',\n",
       " 'u1_fllwng_cnt_by_age',\n",
       " 'tmdlta_twtu1',\n",
       " 'twt_age',\n",
       " 'tmdlta_u2u1',\n",
       " 'tmdlta_twtu2',\n",
       " 'u1_age',\n",
       " 'u2_age',\n",
       " 'lang',\n",
       " 'hour',\n",
       " 'dayofweek',\n",
       " 'twttyp',\n",
       " 'n_hshtgs',\n",
       " 'n_media_Photo',\n",
       " 'n_media',\n",
       " 'has_hshtgs',\n",
       " 'u1inu2',\n",
       " 'has_media',\n",
       " 'u1_fllw_u2',\n",
       " 'has_domns',\n",
       " 'u2inu1',\n",
       " 'n_media_Video',\n",
       " 'u1_vrfed',\n",
       " 'n_domns',\n",
       " 'n_media_GIF',\n",
       " 'u2_vrfed']"
      ]
     },
     "execution_count": 40,
     "metadata": {},
     "output_type": "execute_result"
    }
   ],
   "source": [
    "[o[0] for o in sorted(col2imp.items(), key=lambda x: -x[1]) if o[1]>0]"
   ]
  },
  {
   "cell_type": "code",
   "execution_count": null,
   "metadata": {},
   "outputs": [],
   "source": []
  },
  {
   "cell_type": "markdown",
   "metadata": {},
   "source": [
    "# eval"
   ]
  },
  {
   "cell_type": "code",
   "execution_count": null,
   "metadata": {},
   "outputs": [],
   "source": [
    "%%time\n",
    "prdtr = bst.predict(dftr[cols_feat],num_iteration=bst.best_iteration)\n",
    "prdvl = bst.predict(dfvl[cols_feat],num_iteration=bst.best_iteration)\n",
    "prdval0 = bst.predict(dfval[cols_feat],num_iteration=bst.best_iteration)\n",
    "prdval = calibration(prdval0, train_pop, target_pop, sampled_train_pop, sampled_target_pop)"
   ]
  },
  {
   "cell_type": "code",
   "execution_count": null,
   "metadata": {},
   "outputs": [],
   "source": [
    "%%time\n",
    "ytr,yvl,yval=[df[TCOL].values for df in (dftr,dfvl,dfval)]\n",
    "\n",
    "auc_tr=compute_prauc(prdtr, ytr)\n",
    "rce_tr=compute_rce(prdtr, ytr)\n",
    "auc_vl=compute_prauc(prdvl, yvl)\n",
    "rce_vl=compute_rce(prdvl, yvl)\n",
    "auc_val=compute_prauc(prdval, yval)\n",
    "rce_val=compute_rce(prdval, yval)\n",
    "\n",
    "results['scrs'] = {}\n",
    "results['scrs']['auc_tr']=auc_tr\n",
    "results['scrs']['rce_tr']=rce_tr\n",
    "results['scrs']['auc_vl']=auc_vl\n",
    "results['scrs']['rce_vl']=rce_vl\n",
    "results['scrs']['auc_val']=auc_val\n",
    "results['scrs']['rce_val']=rce_val"
   ]
  },
  {
   "cell_type": "code",
   "execution_count": 42,
   "metadata": {},
   "outputs": [
    {
     "name": "stdout",
     "output_type": "stream",
     "text": [
      "auc_tr:  0.3392\n",
      "auc_vl:  0.2505\n",
      "auc_val: 0.0298\n",
      "\n",
      "rce_tr:  16.8382\n",
      "rce_vl:  11.1673\n",
      "rce_val: 6.6893\n"
     ]
    }
   ],
   "source": [
    "print(f'auc_tr:  {auc_tr:.4f}')\n",
    "print(f'auc_vl:  {auc_vl:.4f}')\n",
    "print(f'auc_val: {auc_val:.4f}')\n",
    "print()\n",
    "print(f'rce_tr:  {rce_tr:.4f}')\n",
    "print(f'rce_vl:  {rce_vl:.4f}')\n",
    "print(f'rce_val: {rce_val:.4f}')"
   ]
  },
  {
   "cell_type": "markdown",
   "metadata": {},
   "source": [
    "## score"
   ]
  },
  {
   "cell_type": "code",
   "execution_count": 41,
   "metadata": {},
   "outputs": [
    {
     "name": "stdout",
     "output_type": "stream",
     "text": [
      "-0.0298-6.6893\n"
     ]
    }
   ],
   "source": [
    "print(f'-{auc_val:.4f}-{rce_val:.4f}')"
   ]
  },
  {
   "cell_type": "markdown",
   "metadata": {},
   "source": [
    "# save results"
   ]
  },
  {
   "cell_type": "code",
   "execution_count": null,
   "metadata": {},
   "outputs": [],
   "source": [
    "pickle.dump(results, open(f'{p_out}/results_{PRFX}.p', 'wb'))"
   ]
  },
  {
   "cell_type": "markdown",
   "metadata": {},
   "source": [
    "# infer"
   ]
  },
  {
   "cell_type": "code",
   "execution_count": null,
   "metadata": {},
   "outputs": [],
   "source": [
    "results = pickle.load( open(f'{p_out}/results_{PRFX}.p', 'rb'))\n",
    "bst = results['bst']\n",
    "cols_feat = results['cols_feat']"
   ]
  },
  {
   "cell_type": "markdown",
   "metadata": {},
   "source": [
    "## prep"
   ]
  },
  {
   "cell_type": "code",
   "execution_count": null,
   "metadata": {},
   "outputs": [],
   "source": [
    "%%time\n",
    "dftst=pd.read_csv(\n",
    "    f'{p_in}/val_{tsttmstmp}.tsv',\n",
    "    sep='\\x01', header=None, names=cols_val, \n",
    "#     nrows=10\n",
    ")"
   ]
  },
  {
   "cell_type": "code",
   "execution_count": 43,
   "metadata": {},
   "outputs": [
    {
     "data": {
      "text/plain": [
       "(12434735, 34)"
      ]
     },
     "execution_count": 43,
     "metadata": {},
     "output_type": "execute_result"
    }
   ],
   "source": [
    "dftst.shape"
   ]
  },
  {
   "cell_type": "code",
   "execution_count": null,
   "metadata": {
    "scrolled": false
   },
   "outputs": [],
   "source": [
    "%%time\n",
    "dftst=prp_df(dftst, tm_max=tm_tst_max)"
   ]
  },
  {
   "cell_type": "code",
   "execution_count": null,
   "metadata": {},
   "outputs": [],
   "source": [
    "dftst.drop(columns=['u1id','u1u2'], inplace=True)\n",
    "cols_category=['twttyp', 'lang', 'langhour']\n",
    "dftst[cols_category]=dftst[cols_category].astype('category')"
   ]
  },
  {
   "cell_type": "markdown",
   "metadata": {},
   "source": [
    "## predict"
   ]
  },
  {
   "cell_type": "code",
   "execution_count": null,
   "metadata": {},
   "outputs": [],
   "source": [
    "%%time\n",
    "prdtst0 = bst.predict(dftst[cols_feat],num_iteration=bst.best_iteration)\n",
    "prdtst = calibration(prdtst0, train_pop, target_pop, sampled_train_pop, sampled_target_pop)"
   ]
  },
  {
   "cell_type": "code",
   "execution_count": null,
   "metadata": {},
   "outputs": [],
   "source": [
    "dfsub_ids = dftst[['twtid','u2id',]]\n",
    "dfsub = dfsub_ids.copy()\n",
    "dfsub['scr'] = prdtst\n",
    "dfsub.to_csv(f'{p_out}/{TGT}__{PRFX}.csv',index=False,header=False)"
   ]
  },
  {
   "cell_type": "code",
   "execution_count": null,
   "metadata": {},
   "outputs": [],
   "source": []
  },
  {
   "cell_type": "code",
   "execution_count": null,
   "metadata": {},
   "outputs": [],
   "source": []
  },
  {
   "cell_type": "markdown",
   "metadata": {},
   "source": [
    "# infer sub"
   ]
  },
  {
   "cell_type": "code",
   "execution_count": 4,
   "metadata": {},
   "outputs": [],
   "source": [
    "results = pickle.load( open(f'{p_out}/results_{PRFX}.p', 'rb'))\n",
    "bst = results['bst']\n",
    "cols_feat = results['cols_feat']"
   ]
  },
  {
   "cell_type": "markdown",
   "metadata": {},
   "source": [
    "## prep"
   ]
  },
  {
   "cell_type": "code",
   "execution_count": 5,
   "metadata": {},
   "outputs": [
    {
     "name": "stdout",
     "output_type": "stream",
     "text": [
      "CPU times: user 1min 24s, sys: 9.31 s, total: 1min 33s\n",
      "Wall time: 1min 33s\n"
     ]
    }
   ],
   "source": [
    "%%time\n",
    "dftst=pd.read_csv(\n",
    "    f'{p_in}/tst.tsv',\n",
    "    sep='\\x01', header=None, names=cols_val, \n",
    "#     nrows=10\n",
    ")"
   ]
  },
  {
   "cell_type": "code",
   "execution_count": 6,
   "metadata": {},
   "outputs": [
    {
     "data": {
      "text/plain": [
       "(12434838, 20)"
      ]
     },
     "execution_count": 6,
     "metadata": {},
     "output_type": "execute_result"
    }
   ],
   "source": [
    "dftst.shape"
   ]
  },
  {
   "cell_type": "code",
   "execution_count": 11,
   "metadata": {
    "scrolled": false
   },
   "outputs": [
    {
     "name": "stdout",
     "output_type": "stream",
     "text": [
      "2020-06-03 16:26:26 start\n",
      "2020-06-03 16:31:02 done\n",
      "CPU times: user 3min 50s, sys: 43.7 s, total: 4min 34s\n",
      "Wall time: 4min 37s\n"
     ]
    }
   ],
   "source": [
    "%%time\n",
    "dftst=prp_df(dftst, tm_max=tm_tst_max)"
   ]
  },
  {
   "cell_type": "code",
   "execution_count": 12,
   "metadata": {},
   "outputs": [],
   "source": [
    "dftst.drop(columns=['u1id','u1u2'], inplace=True)\n",
    "cols_category=['twttyp', 'lang', 'langhour']\n",
    "dftst[cols_category]=dftst[cols_category].astype('category')"
   ]
  },
  {
   "cell_type": "markdown",
   "metadata": {},
   "source": [
    "## predict"
   ]
  },
  {
   "cell_type": "code",
   "execution_count": 13,
   "metadata": {},
   "outputs": [
    {
     "name": "stdout",
     "output_type": "stream",
     "text": [
      "115000000 895682 10000000 895682\n"
     ]
    }
   ],
   "source": [
    "train_pop, target_pop, sampled_train_pop, sampled_target_pop=115000000, 895682, 10000000, 895682\n",
    "\n",
    "print(train_pop, target_pop, sampled_train_pop, sampled_target_pop)"
   ]
  },
  {
   "cell_type": "code",
   "execution_count": 14,
   "metadata": {},
   "outputs": [
    {
     "name": "stdout",
     "output_type": "stream",
     "text": [
      "CPU times: user 1h 19min 12s, sys: 1min 28s, total: 1h 20min 41s\n",
      "Wall time: 3min 23s\n"
     ]
    }
   ],
   "source": [
    "%%time\n",
    "prdtst0 = bst.predict(dftst[cols_feat],num_iteration=bst.best_iteration)\n",
    "prdtst = calibration(prdtst0, train_pop, target_pop, sampled_train_pop, sampled_target_pop)"
   ]
  },
  {
   "cell_type": "code",
   "execution_count": 15,
   "metadata": {},
   "outputs": [],
   "source": [
    "dfsub_ids = dftst[['twtid','u2id',]]\n",
    "dfsub = dfsub_ids.copy()\n",
    "dfsub['scr'] = prdtst\n",
    "dfsub.to_csv(f'{p_out}/subm_{TGT}__{PRFX}.csv',index=False,header=False)"
   ]
  },
  {
   "cell_type": "code",
   "execution_count": null,
   "metadata": {},
   "outputs": [],
   "source": []
  },
  {
   "cell_type": "code",
   "execution_count": null,
   "metadata": {},
   "outputs": [],
   "source": []
  },
  {
   "cell_type": "code",
   "execution_count": null,
   "metadata": {},
   "outputs": [],
   "source": []
  }
 ],
 "metadata": {
  "kernelspec": {
   "display_name": "rcss20",
   "language": "python",
   "name": "rcss20"
  },
  "language_info": {
   "codemirror_mode": {
    "name": "ipython",
    "version": 3
   },
   "file_extension": ".py",
   "mimetype": "text/x-python",
   "name": "python",
   "nbconvert_exporter": "python",
   "pygments_lexer": "ipython3",
   "version": "3.7.6"
  },
  "toc": {
   "base_numbering": 1,
   "nav_menu": {},
   "number_sections": true,
   "sideBar": true,
   "skip_h1_title": false,
   "title_cell": "Table of Contents",
   "title_sidebar": "Contents",
   "toc_cell": false,
   "toc_position": {},
   "toc_section_display": true,
   "toc_window_display": true
  }
 },
 "nbformat": 4,
 "nbformat_minor": 4
}
