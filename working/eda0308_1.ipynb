{
 "cells": [
  {
   "cell_type": "markdown",
   "metadata": {},
   "source": [
    "# setup"
   ]
  },
  {
   "cell_type": "code",
   "execution_count": 3,
   "metadata": {},
   "outputs": [],
   "source": [
    "import torch\n",
    "from transformers import *\n",
    "\n",
    "import pandas as pd\n",
    "pd.set_option('display.max_columns', 500)\n",
    "import dask.dataframe as dd\n",
    "\n",
    "HOME='/Users/yang.zhang/git/recsys20/'\n",
    "p_in=f'{HOME}/data'\n",
    "\n",
    "tokenizer = BertTokenizer.from_pretrained('bert-base-uncased')\n",
    "\n",
    "# !head -1000000 {p_in}/training.tsv > {p_in}/trn1e6.tsv\n",
    "# !head -100000 {p_in}/val.tsv > {p_in}/val1e5.tsv"
   ]
  },
  {
   "cell_type": "markdown",
   "metadata": {},
   "source": [
    "    (rcss20) ➜  recsys20 git:(master) ✗ wc -l data/training.tsv\n",
    "     148,075,238 data/training.tsv\n",
    "    (rcss20) ➜  recsys20 git:(master) ✗ wc -l data/val.tsv\n",
    "     15,127,684 data/val.tsv"
   ]
  },
  {
   "cell_type": "markdown",
   "metadata": {},
   "source": [
    "# training.tsv"
   ]
  },
  {
   "cell_type": "code",
   "execution_count": 6,
   "metadata": {},
   "outputs": [],
   "source": [
    "cols=[\n",
    "'Text tokens',\n",
    "'Hashtags',\n",
    "'Tweet id',\n",
    "'Present media',\n",
    "'Present links',\n",
    "'Present domains',\n",
    "'Tweet type',\n",
    "'Language',\n",
    "'Timestamp',\n",
    "    \n",
    "'Engaged User id',\n",
    "'Engaged Follower count',\n",
    "'Engaged Following count',\n",
    "'Engaged Is verified?',\n",
    "'Engaged Account creation time',\n",
    "    \n",
    "'Engaging User id',\n",
    "'Engaging Follower count',\n",
    "'Engaging Following count',\n",
    "'Engaging Is verified?',\n",
    "'Engaging Account creation time',\n",
    "    \n",
    "'Engagee follows engager?',\n",
    "'Reply engagement timestamp',\n",
    "'Retweet engagement timestamp',\n",
    "'Retweet with comment engagement timestamp',\n",
    "'Like engagement timestamp',\n",
    "]\n",
    "\n",
    "cols_val=cols[:-4]\n",
    "\n",
    "cols_time=[\n",
    "'Timestamp',\n",
    "'Engaged Account creation time',\n",
    "'Engaging Account creation time',\n",
    "'Reply engagement timestamp',\n",
    "'Retweet engagement timestamp',\n",
    "'Retweet with comment engagement timestamp',\n",
    "'Like engagement timestamp',\n",
    "]"
   ]
  },
  {
   "cell_type": "code",
   "execution_count": 7,
   "metadata": {},
   "outputs": [],
   "source": [
    "# #https://docs.dask.org/en/latest/dataframe.html\n",
    "# df=dd.read_csv(f'{p_in}/training10000.tsv',\n",
    "#                sep='\\x01',\n",
    "#                header=None,\n",
    "#                names=cols,)\n",
    "\n",
    "df=pd.read_csv(f'{p_in}/trn1e6.tsv',\n",
    "               sep='\\x01',\n",
    "               header=None,\n",
    "               names=cols,)"
   ]
  },
  {
   "cell_type": "code",
   "execution_count": 8,
   "metadata": {},
   "outputs": [],
   "source": [
    "df['did_rply']=~df['Reply engagement timestamp'].isna()\n",
    "df['did_rtwt']=~df['Retweet engagement timestamp'].isna()\n",
    "df['did_cmmt']=~df['Retweet with comment engagement timestamp'].isna()\n",
    "df['did_like']=~df['Like engagement timestamp'].isna()"
   ]
  },
  {
   "cell_type": "code",
   "execution_count": 9,
   "metadata": {},
   "outputs": [],
   "source": [
    "cols_tgt=['did_rply',\n",
    "'did_rtwt',\n",
    "'did_cmmt',\n",
    "'did_like',]"
   ]
  },
  {
   "cell_type": "code",
   "execution_count": 11,
   "metadata": {},
   "outputs": [
    {
     "data": {
      "text/plain": [
       "999995   2020-02-06 21:01:14\n",
       "999996   2020-02-12 02:33:05\n",
       "999997   2020-02-12 22:17:12\n",
       "999998   2020-02-09 15:05:34\n",
       "999999   2020-02-06 08:34:56\n",
       "Name: Timestamp, dtype: datetime64[ns]"
      ]
     },
     "execution_count": 11,
     "metadata": {},
     "output_type": "execute_result"
    }
   ],
   "source": [
    "pd.to_datetime(df[cols_time[0]].tail(), unit='s')"
   ]
  },
  {
   "cell_type": "code",
   "execution_count": 12,
   "metadata": {},
   "outputs": [],
   "source": [
    "df['toks']=df['Text tokens'].apply(lambda x: x.split('\\t'))"
   ]
  },
  {
   "cell_type": "code",
   "execution_count": 49,
   "metadata": {},
   "outputs": [
    {
     "data": {
      "text/plain": [
       "'[CLS] [UNK] we augustus [UNK] them two [UNK] them 石 wiley [UNK] them 火 [UNK] [UNK] them 野 longing kits [UNK] [unused114] [UNK] ##dale contemporary 艹 [UNK] dull alternative le 葉 [UNK] cayman [UNK] found 西 ##ane ruin [unused114] [unused114] we augustus [UNK] [UNK] [UNK] approx [UNK] [unused114] [unused114] two [UNK] [UNK] parramatta ##manship [unused114] [unused114] 石 wiley [UNK] [UNK] [UNK] [unused114] [unused114] 火 [UNK] [UNK] [UNK] detached approx ##ン [unused114] [unused114] 野 longing kits [UNK] [UNK] [UNK] [UNK] [unused114] [unused114] carolina amateur but refrain dull relation politics ##van alternative 西 theorists [UNK] tasting 司 responding [unused126] [unused115] [unused115] [unused183] [unused114] playwright [unused115] [unused158] shouting succeeding [UNK] dec ##nched utc proposals [SEP]'"
      ]
     },
     "execution_count": 49,
     "metadata": {},
     "output_type": "execute_result"
    }
   ],
   "source": [
    "\" \".join(tokenizer.convert_ids_to_tokens(df.sample().toks.values[0]))"
   ]
  },
  {
   "cell_type": "code",
   "execution_count": 56,
   "metadata": {
    "scrolled": false
   },
   "outputs": [
    {
     "data": {
      "text/plain": [
       "'Present media'"
      ]
     },
     "metadata": {},
     "output_type": "display_data"
    },
    {
     "data": {
      "text/plain": [
       "NaN                           620710\n",
       "Photo                         182143\n",
       "Video                         108825\n",
       "Photo\\tPhoto                   41294\n",
       "Photo\\tPhoto\\tPhoto\\tPhoto     23275\n",
       "Photo\\tPhoto\\tPhoto            12932\n",
       "GIF                            10800\n",
       "Video\\tVideo                      10\n",
       "Photo\\tVideo                       5\n",
       "Video\\tPhoto                       2\n",
       "GIF\\tGIF                           1\n",
       "Video\\tVideo\\tVideo\\tVideo         1\n",
       "GIF\\tVideo\\tGIF                    1\n",
       "Photo\\tPhoto\\tVideo                1\n",
       "Name: Present media, dtype: int64"
      ]
     },
     "metadata": {},
     "output_type": "display_data"
    },
    {
     "data": {
      "text/plain": [
       "'Present links'"
      ]
     },
     "metadata": {},
     "output_type": "display_data"
    },
    {
     "data": {
      "text/plain": [
       "NaN                                 865464\n",
       "E522B6C629B01DA6B29DE65BF5DFA55B       240\n",
       "140BCA0056E50C79778369C95D6DDC63       103\n",
       "DEA673FD63DDDC8A3606106D5CA235B0        98\n",
       "270B33AB02B6FB3F60B748CF1CB9AB75        75\n",
       "                                     ...  \n",
       "D27BBC9FB4694DB876BCF8F178255CE4         1\n",
       "B671C9BD954DB7B81DCC862E753C2E80         1\n",
       "F9016E33938FF79EC7181A0DCE01EDD0         1\n",
       "3EA3D9150B9E53E75818044B9A57188A         1\n",
       "FB9DDD669590B104C7259A0CF9988EA7         1\n",
       "Name: Present links, Length: 108173, dtype: int64"
      ]
     },
     "metadata": {},
     "output_type": "display_data"
    },
    {
     "data": {
      "text/plain": [
       "'Present domains'"
      ]
     },
     "metadata": {},
     "output_type": "display_data"
    },
    {
     "data": {
      "text/plain": [
       "NaN                                 865464\n",
       "3896E26D12C903F0A00B6B1BE9A9BEA3     12534\n",
       "E91CDEC8DC7ABF30592FA024616FF970      7985\n",
       "FECA6F2E8244F2294BD2CE957C0602A9      6119\n",
       "FCA72262B99BB78F010B25C882A0C93C      3386\n",
       "                                     ...  \n",
       "D7D96FD33E15E53B5C2F2586BA6FD958         1\n",
       "F9146CAB528D60C5A90A0485AA0FCD5D         1\n",
       "6160D462E577796C88485C561670E0D2         1\n",
       "D59139C2831E199933E34AC6CB51A920         1\n",
       "2B5F8E9307C3332BC5FAB3370B6F1BDA         1\n",
       "Name: Present domains, Length: 23213, dtype: int64"
      ]
     },
     "metadata": {},
     "output_type": "display_data"
    },
    {
     "data": {
      "text/plain": [
       "'Tweet type'"
      ]
     },
     "metadata": {},
     "output_type": "display_data"
    },
    {
     "data": {
      "text/plain": [
       "TopLevel    571496\n",
       "Retweet     340970\n",
       "Quote        87534\n",
       "Name: Tweet type, dtype: int64"
      ]
     },
     "metadata": {},
     "output_type": "display_data"
    },
    {
     "data": {
      "text/plain": [
       "'Language'"
      ]
     },
     "metadata": {},
     "output_type": "display_data"
    },
    {
     "data": {
      "text/plain": [
       "D3164C7FBCF2565DDF915B1B3AEFB1DC    410965\n",
       "22C448FF81263D4BAF2A176145EE9EAD    159640\n",
       "06D61DCBBE938971E1EA0C38BD9B5446     89364\n",
       "ECED8A16BE2A5E8871FD55F4842F16B1     69463\n",
       "B9175601E87101A984A50F8A62A1C374     53038\n",
       "                                     ...  \n",
       "F73266A79468BB89C4325FDEDB0B533C         7\n",
       "D18801336202297E6484F634CAC6592E         5\n",
       "4690215948DBF6872B8ED1C2BC87B17E         3\n",
       "B2235C8B73239FDC5780DD132419833A         1\n",
       "2E18F6F53E3CF073911AF0A93BBE5373         1\n",
       "Name: Language, Length: 65, dtype: int64"
      ]
     },
     "metadata": {},
     "output_type": "display_data"
    },
    {
     "data": {
      "text/plain": [
       "'Engaged Follower count'"
      ]
     },
     "metadata": {},
     "output_type": "display_data"
    },
    {
     "data": {
      "text/plain": [
       "71924831    1382\n",
       "8081340      910\n",
       "23818306     885\n",
       "2178700      784\n",
       "36167077     562\n",
       "            ... \n",
       "421275         1\n",
       "6766001        1\n",
       "53892          1\n",
       "60035          1\n",
       "108235         1\n",
       "Name: Engaged Follower count, Length: 155992, dtype: int64"
      ]
     },
     "metadata": {},
     "output_type": "display_data"
    },
    {
     "data": {
      "text/plain": [
       "'Engaged Following count'"
      ]
     },
     "metadata": {},
     "output_type": "display_data"
    },
    {
     "data": {
      "text/plain": [
       "0         10097\n",
       "1          6822\n",
       "3          4840\n",
       "47         3865\n",
       "2          3644\n",
       "          ...  \n",
       "30054         1\n",
       "384863        1\n",
       "64887         1\n",
       "22177         1\n",
       "22503         1\n",
       "Name: Engaged Following count, Length: 31517, dtype: int64"
      ]
     },
     "metadata": {},
     "output_type": "display_data"
    },
    {
     "data": {
      "text/plain": [
       "'Engaged Is verified?'"
      ]
     },
     "metadata": {},
     "output_type": "display_data"
    },
    {
     "data": {
      "text/plain": [
       "False    750831\n",
       "True     249169\n",
       "Name: Engaged Is verified?, dtype: int64"
      ]
     },
     "metadata": {},
     "output_type": "display_data"
    },
    {
     "data": {
      "text/plain": [
       "'Engaging Follower count'"
      ]
     },
     "metadata": {},
     "output_type": "display_data"
    },
    {
     "data": {
      "text/plain": [
       "0         11940\n",
       "1         11436\n",
       "2         10631\n",
       "3          9691\n",
       "4          8934\n",
       "          ...  \n",
       "10485         1\n",
       "68603         1\n",
       "17144         1\n",
       "115912        1\n",
       "26866         1\n",
       "Name: Engaging Follower count, Length: 14049, dtype: int64"
      ]
     },
     "metadata": {},
     "output_type": "display_data"
    },
    {
     "data": {
      "text/plain": [
       "'Engaging Following count'"
      ]
     },
     "metadata": {},
     "output_type": "display_data"
    },
    {
     "data": {
      "text/plain": [
       "97        2521\n",
       "96        2486\n",
       "68        2426\n",
       "100       2418\n",
       "72        2412\n",
       "          ... \n",
       "7589         1\n",
       "8843         1\n",
       "7423         1\n",
       "15820        1\n",
       "130209       1\n",
       "Name: Engaging Following count, Length: 8758, dtype: int64"
      ]
     },
     "metadata": {},
     "output_type": "display_data"
    },
    {
     "data": {
      "text/plain": [
       "'Engaging Is verified?'"
      ]
     },
     "metadata": {},
     "output_type": "display_data"
    },
    {
     "data": {
      "text/plain": [
       "False    997990\n",
       "True       2010\n",
       "Name: Engaging Is verified?, dtype: int64"
      ]
     },
     "metadata": {},
     "output_type": "display_data"
    },
    {
     "data": {
      "text/plain": [
       "'Engagee follows engager?'"
      ]
     },
     "metadata": {},
     "output_type": "display_data"
    },
    {
     "data": {
      "text/plain": [
       "False    641449\n",
       "True     358551\n",
       "Name: Engagee follows engager?, dtype: int64"
      ]
     },
     "metadata": {},
     "output_type": "display_data"
    },
    {
     "data": {
      "text/plain": [
       "'did_rply'"
      ]
     },
     "metadata": {},
     "output_type": "display_data"
    },
    {
     "data": {
      "text/plain": [
       "False    972312\n",
       "True      27688\n",
       "Name: did_rply, dtype: int64"
      ]
     },
     "metadata": {},
     "output_type": "display_data"
    },
    {
     "data": {
      "text/plain": [
       "'did_rtwt'"
      ]
     },
     "metadata": {},
     "output_type": "display_data"
    },
    {
     "data": {
      "text/plain": [
       "False    886865\n",
       "True     113135\n",
       "Name: did_rtwt, dtype: int64"
      ]
     },
     "metadata": {},
     "output_type": "display_data"
    },
    {
     "data": {
      "text/plain": [
       "'did_cmmt'"
      ]
     },
     "metadata": {},
     "output_type": "display_data"
    },
    {
     "data": {
      "text/plain": [
       "False    992250\n",
       "True       7750\n",
       "Name: did_cmmt, dtype: int64"
      ]
     },
     "metadata": {},
     "output_type": "display_data"
    },
    {
     "data": {
      "text/plain": [
       "'did_like'"
      ]
     },
     "metadata": {},
     "output_type": "display_data"
    },
    {
     "data": {
      "text/plain": [
       "False    561196\n",
       "True     438804\n",
       "Name: did_like, dtype: int64"
      ]
     },
     "metadata": {},
     "output_type": "display_data"
    }
   ],
   "source": [
    "for col in [\n",
    "'Present media',\n",
    "'Present links',\n",
    "'Present domains',\n",
    "'Tweet type',\n",
    "'Language',\n",
    "'Engaged Follower count',\n",
    "'Engaged Following count',\n",
    "'Engaged Is verified?',\n",
    "'Engaging Follower count',\n",
    "'Engaging Following count',\n",
    "'Engaging Is verified?',\n",
    "'Engagee follows engager?',\n",
    "]+cols_tgt:\n",
    "    display(col, df[col].value_counts(dropna=False))"
   ]
  },
  {
   "cell_type": "code",
   "execution_count": 57,
   "metadata": {},
   "outputs": [],
   "source": [
    "unq_twt_typs=df['Tweet type'].unique()"
   ]
  },
  {
   "cell_type": "code",
   "execution_count": 75,
   "metadata": {},
   "outputs": [
    {
     "name": "stdout",
     "output_type": "stream",
     "text": [
      "did_rply TopLevel 0.03858119741870459\n",
      "did_rply Retweet 0.00758717775757398\n",
      "did_rply Quote 0.034866451892978725\n",
      "did_rtwt TopLevel 0.09875134734101376\n",
      "did_rtwt Retweet 0.1425110713552512\n",
      "did_rtwt Quote 0.09261544085726689\n",
      "did_cmmt TopLevel 0.00818728390049974\n",
      "did_cmmt Retweet 0.00673079743085902\n",
      "did_cmmt Quote 0.00886512669362762\n",
      "did_like TopLevel 0.5171024819071349\n",
      "did_like Retweet 0.29684429715224214\n",
      "did_like Quote 0.4805789750268467\n"
     ]
    }
   ],
   "source": [
    "for col in cols_tgt:\n",
    "    for typ in unq_twt_typs:\n",
    "#         display(df[col][df['Tweet type']==typ].value_counts())\n",
    "        print(col,typ,df[col][df['Tweet type']==typ].mean())"
   ]
  },
  {
   "cell_type": "code",
   "execution_count": 78,
   "metadata": {},
   "outputs": [
    {
     "name": "stdout",
     "output_type": "stream",
     "text": [
      "0.37929\n",
      "did_rply 0.023061509662791004 0.03051505533985275\n",
      "did_rtwt 0.12169052703735928 0.10790707415701374\n",
      "did_cmmt 0.008434179651454033 0.007331926342414332\n",
      "did_like 0.49185319939887684 0.4063878461761531\n"
     ]
    }
   ],
   "source": [
    "print(df['Present media'].notna().mean())\n",
    "for col in cols_tgt:\n",
    "    print(col, df[col][df['Present media'].notna()].mean(), \n",
    "          df[col][df['Present media'].isna()].mean())"
   ]
  },
  {
   "cell_type": "code",
   "execution_count": null,
   "metadata": {},
   "outputs": [],
   "source": []
  },
  {
   "cell_type": "code",
   "execution_count": null,
   "metadata": {},
   "outputs": [],
   "source": []
  },
  {
   "cell_type": "code",
   "execution_count": null,
   "metadata": {},
   "outputs": [],
   "source": []
  },
  {
   "cell_type": "code",
   "execution_count": null,
   "metadata": {},
   "outputs": [],
   "source": []
  },
  {
   "cell_type": "code",
   "execution_count": null,
   "metadata": {},
   "outputs": [],
   "source": []
  },
  {
   "cell_type": "markdown",
   "metadata": {},
   "source": [
    "## val.tsv"
   ]
  },
  {
   "cell_type": "code",
   "execution_count": 62,
   "metadata": {},
   "outputs": [],
   "source": [
    "dfval=dd.read_csv(f'{p_in}/val1e5.tsv',\n",
    "                  sep='\\x01',\n",
    "               header=None,\n",
    "               names=cols_val)"
   ]
  },
  {
   "cell_type": "code",
   "execution_count": 63,
   "metadata": {
    "scrolled": true
   },
   "outputs": [],
   "source": [
    "# %%time\n",
    "# dfval.shape[0].compute()\n",
    "# CPU times: user 2min 10s, sys: 29.3 s, total: 2min 39s\n",
    "# Wall time: 1min 31s\n",
    "# 15127684"
   ]
  },
  {
   "cell_type": "code",
   "execution_count": 64,
   "metadata": {},
   "outputs": [
    {
     "data": {
      "text/html": [
       "<div>\n",
       "<style scoped>\n",
       "    .dataframe tbody tr th:only-of-type {\n",
       "        vertical-align: middle;\n",
       "    }\n",
       "\n",
       "    .dataframe tbody tr th {\n",
       "        vertical-align: top;\n",
       "    }\n",
       "\n",
       "    .dataframe thead th {\n",
       "        text-align: right;\n",
       "    }\n",
       "</style>\n",
       "<table border=\"1\" class=\"dataframe\">\n",
       "  <thead>\n",
       "    <tr style=\"text-align: right;\">\n",
       "      <th></th>\n",
       "      <th>Text tokens</th>\n",
       "      <th>Hashtags</th>\n",
       "      <th>Tweet id</th>\n",
       "      <th>Present media</th>\n",
       "      <th>Present links</th>\n",
       "      <th>Present domains</th>\n",
       "      <th>Tweet type</th>\n",
       "      <th>Language</th>\n",
       "      <th>Timestamp</th>\n",
       "      <th>Engaged User id</th>\n",
       "      <th>Engaged Follower count</th>\n",
       "      <th>Engaged Following count</th>\n",
       "      <th>Engaged Is verified?</th>\n",
       "      <th>Engaged Account creation time</th>\n",
       "      <th>Engaging User id</th>\n",
       "      <th>Engaging Follower count</th>\n",
       "      <th>Engaging Following count</th>\n",
       "      <th>Engaging Is verified?</th>\n",
       "      <th>Engaging Account creation time</th>\n",
       "      <th>Engagee follows engager?</th>\n",
       "    </tr>\n",
       "  </thead>\n",
       "  <tbody>\n",
       "    <tr>\n",
       "      <th>0</th>\n",
       "      <td>101\\t47185\\t10157\\t100986\\t10343\\t55422\\t119\\t...</td>\n",
       "      <td>NaN</td>\n",
       "      <td>7647B4E9DAF4C1D8973397DC2A04F3E3</td>\n",
       "      <td>Photo</td>\n",
       "      <td>NaN</td>\n",
       "      <td>NaN</td>\n",
       "      <td>TopLevel</td>\n",
       "      <td>D3164C7FBCF2565DDF915B1B3AEFB1DC</td>\n",
       "      <td>1581703126</td>\n",
       "      <td>8A9AB92B775C62C4AB60DF6773A01571</td>\n",
       "      <td>13941</td>\n",
       "      <td>1216</td>\n",
       "      <td>False</td>\n",
       "      <td>1448292186</td>\n",
       "      <td>0000006C3074607050F1339DDCB890BB</td>\n",
       "      <td>27448</td>\n",
       "      <td>600</td>\n",
       "      <td>False</td>\n",
       "      <td>1520948869</td>\n",
       "      <td>True</td>\n",
       "    </tr>\n",
       "    <tr>\n",
       "      <th>1</th>\n",
       "      <td>101\\t6006\\t5086\\t1939\\t7418\\t3601\\t6406\\t1913\\...</td>\n",
       "      <td>NaN</td>\n",
       "      <td>CCBFBA5AFE7EFC03102EA8D0F86C4208</td>\n",
       "      <td>Photo</td>\n",
       "      <td>NaN</td>\n",
       "      <td>NaN</td>\n",
       "      <td>TopLevel</td>\n",
       "      <td>22C448FF81263D4BAF2A176145EE9EAD</td>\n",
       "      <td>1581736431</td>\n",
       "      <td>187AC59639DA9A6F32F7CD118EDD58F7</td>\n",
       "      <td>476439</td>\n",
       "      <td>1478</td>\n",
       "      <td>False</td>\n",
       "      <td>1254447722</td>\n",
       "      <td>00000776B07587ECA9717BFC301F2D6E</td>\n",
       "      <td>102</td>\n",
       "      <td>659</td>\n",
       "      <td>False</td>\n",
       "      <td>1478011810</td>\n",
       "      <td>False</td>\n",
       "    </tr>\n",
       "    <tr>\n",
       "      <th>2</th>\n",
       "      <td>101\\t56898\\t137\\t44851\\t10317\\t11490\\t10112\\t1...</td>\n",
       "      <td>NaN</td>\n",
       "      <td>E18C2DCFC5AF20C650A0FD94598E69B7</td>\n",
       "      <td>Video</td>\n",
       "      <td>NaN</td>\n",
       "      <td>NaN</td>\n",
       "      <td>Retweet</td>\n",
       "      <td>ECED8A16BE2A5E8871FD55F4842F16B1</td>\n",
       "      <td>1582061925</td>\n",
       "      <td>82626B53CB2AD3B469E4AE06EAA9D930</td>\n",
       "      <td>367</td>\n",
       "      <td>702</td>\n",
       "      <td>False</td>\n",
       "      <td>1518708926</td>\n",
       "      <td>00000860E80C67D8C46CE57C64DE9444</td>\n",
       "      <td>230</td>\n",
       "      <td>189</td>\n",
       "      <td>False</td>\n",
       "      <td>1541013180</td>\n",
       "      <td>True</td>\n",
       "    </tr>\n",
       "    <tr>\n",
       "      <th>3</th>\n",
       "      <td>101\\t13497\\t10437\\t94005\\t11161\\t73632\\t11067\\...</td>\n",
       "      <td>NaN</td>\n",
       "      <td>26DC813FDF8546B757BB9141099F119E</td>\n",
       "      <td>NaN</td>\n",
       "      <td>D58137F9D688C88435FD64FBAEA82B97</td>\n",
       "      <td>E91CDEC8DC7ABF30592FA024616FF970</td>\n",
       "      <td>TopLevel</td>\n",
       "      <td>ECED8A16BE2A5E8871FD55F4842F16B1</td>\n",
       "      <td>1582110043</td>\n",
       "      <td>7AFE06FF54898A1E9C716F539831849E</td>\n",
       "      <td>278</td>\n",
       "      <td>1229</td>\n",
       "      <td>False</td>\n",
       "      <td>1243548061</td>\n",
       "      <td>00000865A1538142CDA5936B07FE4311</td>\n",
       "      <td>65</td>\n",
       "      <td>165</td>\n",
       "      <td>False</td>\n",
       "      <td>1452599043</td>\n",
       "      <td>True</td>\n",
       "    </tr>\n",
       "    <tr>\n",
       "      <th>4</th>\n",
       "      <td>101\\t24781\\t10152\\t42041\\t38268\\t10301\\t10798\\...</td>\n",
       "      <td>NaN</td>\n",
       "      <td>30A33055566AAC9EB18734C4EAD11FE1</td>\n",
       "      <td>NaN</td>\n",
       "      <td>AEF0CC9FA7B389B9A2ADF1331F00B65B</td>\n",
       "      <td>42DD9E2D4B2C0B0A71E909A6049EC2C2</td>\n",
       "      <td>TopLevel</td>\n",
       "      <td>D3164C7FBCF2565DDF915B1B3AEFB1DC</td>\n",
       "      <td>1581860270</td>\n",
       "      <td>D240DACE38CA84965270C86D47D3BF40</td>\n",
       "      <td>24313527</td>\n",
       "      <td>121</td>\n",
       "      <td>True</td>\n",
       "      <td>1177506290</td>\n",
       "      <td>00000865A1538142CDA5936B07FE4311</td>\n",
       "      <td>64</td>\n",
       "      <td>164</td>\n",
       "      <td>False</td>\n",
       "      <td>1452599043</td>\n",
       "      <td>False</td>\n",
       "    </tr>\n",
       "  </tbody>\n",
       "</table>\n",
       "</div>"
      ],
      "text/plain": [
       "                                         Text tokens Hashtags  \\\n",
       "0  101\\t47185\\t10157\\t100986\\t10343\\t55422\\t119\\t...      NaN   \n",
       "1  101\\t6006\\t5086\\t1939\\t7418\\t3601\\t6406\\t1913\\...      NaN   \n",
       "2  101\\t56898\\t137\\t44851\\t10317\\t11490\\t10112\\t1...      NaN   \n",
       "3  101\\t13497\\t10437\\t94005\\t11161\\t73632\\t11067\\...      NaN   \n",
       "4  101\\t24781\\t10152\\t42041\\t38268\\t10301\\t10798\\...      NaN   \n",
       "\n",
       "                           Tweet id Present media  \\\n",
       "0  7647B4E9DAF4C1D8973397DC2A04F3E3         Photo   \n",
       "1  CCBFBA5AFE7EFC03102EA8D0F86C4208         Photo   \n",
       "2  E18C2DCFC5AF20C650A0FD94598E69B7         Video   \n",
       "3  26DC813FDF8546B757BB9141099F119E           NaN   \n",
       "4  30A33055566AAC9EB18734C4EAD11FE1           NaN   \n",
       "\n",
       "                      Present links                   Present domains  \\\n",
       "0                               NaN                               NaN   \n",
       "1                               NaN                               NaN   \n",
       "2                               NaN                               NaN   \n",
       "3  D58137F9D688C88435FD64FBAEA82B97  E91CDEC8DC7ABF30592FA024616FF970   \n",
       "4  AEF0CC9FA7B389B9A2ADF1331F00B65B  42DD9E2D4B2C0B0A71E909A6049EC2C2   \n",
       "\n",
       "  Tweet type                          Language   Timestamp  \\\n",
       "0   TopLevel  D3164C7FBCF2565DDF915B1B3AEFB1DC  1581703126   \n",
       "1   TopLevel  22C448FF81263D4BAF2A176145EE9EAD  1581736431   \n",
       "2    Retweet  ECED8A16BE2A5E8871FD55F4842F16B1  1582061925   \n",
       "3   TopLevel  ECED8A16BE2A5E8871FD55F4842F16B1  1582110043   \n",
       "4   TopLevel  D3164C7FBCF2565DDF915B1B3AEFB1DC  1581860270   \n",
       "\n",
       "                    Engaged User id  Engaged Follower count  \\\n",
       "0  8A9AB92B775C62C4AB60DF6773A01571                   13941   \n",
       "1  187AC59639DA9A6F32F7CD118EDD58F7                  476439   \n",
       "2  82626B53CB2AD3B469E4AE06EAA9D930                     367   \n",
       "3  7AFE06FF54898A1E9C716F539831849E                     278   \n",
       "4  D240DACE38CA84965270C86D47D3BF40                24313527   \n",
       "\n",
       "   Engaged Following count  Engaged Is verified?  \\\n",
       "0                     1216                 False   \n",
       "1                     1478                 False   \n",
       "2                      702                 False   \n",
       "3                     1229                 False   \n",
       "4                      121                  True   \n",
       "\n",
       "   Engaged Account creation time                  Engaging User id  \\\n",
       "0                     1448292186  0000006C3074607050F1339DDCB890BB   \n",
       "1                     1254447722  00000776B07587ECA9717BFC301F2D6E   \n",
       "2                     1518708926  00000860E80C67D8C46CE57C64DE9444   \n",
       "3                     1243548061  00000865A1538142CDA5936B07FE4311   \n",
       "4                     1177506290  00000865A1538142CDA5936B07FE4311   \n",
       "\n",
       "   Engaging Follower count  Engaging Following count  Engaging Is verified?  \\\n",
       "0                    27448                       600                  False   \n",
       "1                      102                       659                  False   \n",
       "2                      230                       189                  False   \n",
       "3                       65                       165                  False   \n",
       "4                       64                       164                  False   \n",
       "\n",
       "   Engaging Account creation time  Engagee follows engager?  \n",
       "0                      1520948869                      True  \n",
       "1                      1478011810                     False  \n",
       "2                      1541013180                      True  \n",
       "3                      1452599043                      True  \n",
       "4                      1452599043                     False  "
      ]
     },
     "execution_count": 64,
     "metadata": {},
     "output_type": "execute_result"
    }
   ],
   "source": [
    "dfval.head()"
   ]
  },
  {
   "cell_type": "code",
   "execution_count": null,
   "metadata": {},
   "outputs": [],
   "source": []
  },
  {
   "cell_type": "code",
   "execution_count": null,
   "metadata": {},
   "outputs": [],
   "source": []
  }
 ],
 "metadata": {
  "kernelspec": {
   "display_name": "rcss20",
   "language": "python",
   "name": "rcss20"
  },
  "language_info": {
   "codemirror_mode": {
    "name": "ipython",
    "version": 3
   },
   "file_extension": ".py",
   "mimetype": "text/x-python",
   "name": "python",
   "nbconvert_exporter": "python",
   "pygments_lexer": "ipython3",
   "version": "3.7.6"
  },
  "toc": {
   "base_numbering": 1,
   "nav_menu": {},
   "number_sections": true,
   "sideBar": true,
   "skip_h1_title": false,
   "title_cell": "Table of Contents",
   "title_sidebar": "Contents",
   "toc_cell": false,
   "toc_position": {},
   "toc_section_display": true,
   "toc_window_display": true
  }
 },
 "nbformat": 4,
 "nbformat_minor": 2
}
