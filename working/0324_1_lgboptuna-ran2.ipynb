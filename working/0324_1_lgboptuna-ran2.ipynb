{
 "cells": [
  {
   "cell_type": "markdown",
   "metadata": {},
   "source": [
    "# start"
   ]
  },
  {
   "cell_type": "markdown",
   "metadata": {},
   "source": [
    "- https://medium.com/optuna/lightgbm-tuner-new-optuna-integration-for-hyperparameter-optimization-8b7095e99258\n",
    "- https://github.com/optuna/optuna/blob/master/examples/lightgbm_tuner_simple.py"
   ]
  },
  {
   "cell_type": "code",
   "execution_count": 1,
   "metadata": {},
   "outputs": [
    {
     "name": "stdout",
     "output_type": "stream",
     "text": [
      "['2020-03-17 02:32:24', '2020-03-24 17:09:45']\n",
      "['2020-02-06 00:00:00', '2020-02-13 00:00:00']\n"
     ]
    }
   ],
   "source": [
    "PRFX='0324_1'\n",
    "trntmstmp=1584412344\n",
    "valtmstmp=1585069785\n",
    "import datetime\n",
    "print([datetime.datetime.fromtimestamp(o).strftime('%Y-%m-%d %H:%M:%S') for o in (trntmstmp, valtmstmp)])\n",
    "\n",
    "grand_total=1.5e8\n",
    "MIN_TM_TRN=1580947200\n",
    "MIN_TM_TST=1581552000\n",
    "print([datetime.datetime.fromtimestamp(o).strftime('%Y-%m-%d %H:%M:%S') for o in (MIN_TM_TRN, MIN_TM_TST)])\n",
    "\n",
    "\n",
    "CHNKSZ=1e3#1e6\n",
    "POST_RATE_WANTED=0.1"
   ]
  },
  {
   "cell_type": "markdown",
   "metadata": {},
   "source": [
    "# setup"
   ]
  },
  {
   "cell_type": "code",
   "execution_count": 2,
   "metadata": {
    "scrolled": true
   },
   "outputs": [
    {
     "data": {
      "text/plain": [
       "{'Retweet': 'retwt',\n",
       " 'Reply': 'reply',\n",
       " 'Like': 'like',\n",
       " 'RTwCmnt': 'retwt_cmmnt'}"
      ]
     },
     "execution_count": 2,
     "metadata": {},
     "output_type": "execute_result"
    }
   ],
   "source": [
    "from pathlib import Path\n",
    "# import dask\n",
    "# print('dask.__version__', dask.__version__)\n",
    "import xgboost as xgb\n",
    "# import lightgbm as lgb\n",
    "\n",
    "import optuna\n",
    "import optuna.integration.lightgbm as lgb\n",
    "\n",
    "\n",
    "# optuna.logging.CRITICAL, optuna.logging.FATAL\n",
    "# optuna.logging.ERROR\n",
    "# optuna.logging.WARNING, optuna.logging.WARN\n",
    "# optuna.logging.INFO\n",
    "# optuna.logging.DEBUG\n",
    "optuna.logging.set_verbosity(optuna.logging.ERROR)\n",
    "\n",
    "\n",
    "# import dask_xgboost\n",
    "# import dask.dataframe as dd\n",
    "from sklearn.model_selection import train_test_split\n",
    "import pandas as pd\n",
    "import numpy as np\n",
    "import matplotlib.pyplot as plt\n",
    "from sklearn.metrics import accuracy_score, roc_auc_score, roc_curve, auc, precision_recall_curve\n",
    "from dask.distributed import Client\n",
    "import pickle\n",
    "from tqdm import tqdm\n",
    "from collections import Counter\n",
    "pd.set_option('display.max_rows', 500)\n",
    "\n",
    "from functools import reduce\n",
    "import datetime\n",
    "def dtnow(): return datetime.datetime.now().strftime('%Y-%m-%d %H:%M:%S')\n",
    "\n",
    "SEED=101\n",
    "HOME='/data/git/recsys20'\n",
    "p_in=f'{HOME}/input'\n",
    "p_out=f'{HOME}/output/{PRFX}'\n",
    "Path(p_out).mkdir(exist_ok=True, parents=True)\n",
    "\n",
    "from sklearn.metrics import precision_recall_curve, auc, log_loss\n",
    "\n",
    "def compute_prauc(pred, gt):\n",
    "    prec, recall, thresh = precision_recall_curve(gt, pred)\n",
    "    prauc = auc(recall, prec)\n",
    "    return prauc\n",
    "\n",
    "def calculate_ctr(gt):\n",
    "    positive = len([x for x in gt if x == 1])\n",
    "    ctr = positive/float(len(gt))\n",
    "    return ctr\n",
    "\n",
    "def compute_rce(pred, gt):\n",
    "    cross_entropy = log_loss(gt, pred)\n",
    "    data_ctr = calculate_ctr(gt)\n",
    "    strawman_cross_entropy = log_loss(gt, [data_ctr for _ in range(len(gt))])\n",
    "    return (1.0 - cross_entropy/strawman_cross_entropy)*100.0\n",
    "\n",
    "# https://towardsdatascience.com/how-to-calibrate-undersampled-model-scores-8f3319c1ea5b\n",
    "# How to use the function?\n",
    "# Let’s say your goal is to generate a model that shows the credit default probabilities and your original \n",
    "# training data has 50,000 rows with only 500 of them labeled as target class. When you sample your non-target \n",
    "# instances randomly and reduce the total row count to 10,000, while conserving 500 target rows, our calibration\n",
    "# function becomes:\n",
    "# calibration(model_results, 50000, 500, 10000, 500)\n",
    "# Here model_results is your model probability output array. After you train your model and put the results in it, your function is ready to use. \n",
    "\n",
    "def calibration(data, train_pop, target_pop, sampled_train_pop, sampled_target_pop):\n",
    "    calibrated_data = \\\n",
    "    ((data * (target_pop / train_pop) / (sampled_target_pop / sampled_train_pop)) /\n",
    "    ((\n",
    "        (1 - data) * (1 - target_pop / train_pop) / (1 - sampled_target_pop / sampled_train_pop)\n",
    "     ) +\n",
    "     (\n",
    "        data * (target_pop / train_pop) / (sampled_target_pop / sampled_train_pop)\n",
    "     )))\n",
    "\n",
    "    return calibrated_data\n",
    "\n",
    "cols=[\n",
    "'toks',\n",
    "'hshtgs',\n",
    "'twtid',\n",
    "'media',\n",
    "'links',\n",
    "'domns',\n",
    "'twttyp',\n",
    "'lang',\n",
    "'tm',\n",
    "\n",
    "'u1id',\n",
    "'u1_fllwer_cnt',\n",
    "'u1_fllwng_cnt',\n",
    "'u1_vrfed',\n",
    "'u1_create_tm',\n",
    "\n",
    "'u2id',\n",
    "'u2_fllwer_cnt',\n",
    "'u2_fllwng_cnt',\n",
    "'u2_vrfed',\n",
    "'u2_create_tm',\n",
    "\n",
    "'u1_fllw_u2',\n",
    "'reply_tm',\n",
    "'retwt_tm',\n",
    "'retwt_cmmnt_tm',\n",
    "'like_tm',\n",
    "]\n",
    "\n",
    "cols_val = cols[:-4]\n",
    "cols_tgt_tmstmp=[\n",
    "    'retwt_tm',\n",
    "    'reply_tm',\n",
    "    'like_tm',\n",
    "    'retwt_cmmnt_tm',\n",
    "]\n",
    "cols_tgt=[o.split('_tm')[0] for o in cols_tgt_tmstmp]\n",
    "tgts             = ['Retweet','Reply','Like','RTwCmnt',]\n",
    "assert cols_tgt == ['retwt',  'reply','like','retwt_cmmnt',]\n",
    "ntgts=len(tgts)\n",
    "\n",
    "tgt2col=dict(zip(tgts,cols_tgt))\n",
    "tgt2col"
   ]
  },
  {
   "cell_type": "markdown",
   "metadata": {},
   "source": [
    "# prepare data"
   ]
  },
  {
   "cell_type": "markdown",
   "metadata": {},
   "source": [
    "## get maps from test set"
   ]
  },
  {
   "cell_type": "code",
   "execution_count": 3,
   "metadata": {},
   "outputs": [],
   "source": [
    "# dfval=dd.read_csv(\n",
    "#     f'{p_in}/val_{valtmstmp}.tsv',\n",
    "#     sep='\\x01', header=None, names=cols_val,)\n",
    "# lang2cnt=dict(dfval.lang.value_counts().compute())\n",
    "# ttl=sum(lang2cnt.values())\n",
    "# lang2perc={k:v/ttl for k,v in lang2cnt.items()}\n",
    "langs=['D3164C7FBCF2565DDF915B1B3AEFB1DC', '22C448FF81263D4BAF2A176145EE9EAD', '06D61DCBBE938971E1EA0C38BD9B5446', 'ECED8A16BE2A5E8871FD55F4842F16B1', 'B9175601E87101A984A50F8A62A1C374', '4DC22C3F31C5C43721E6B5815A595ED6', '167115458A0DBDFF7E9C0C53A83BAC9B', '125C57F4FA6D4E110983FB11B52EFD4E', '022EC308651FACB02794A8147AEE1B78', 'FA3F382BC409C271E3D6EAF8BE4648DD', '9BF3403E0EB7EA8A256DA9019C0B0716', '975B38F44D65EE42A547283787FF5A21', '2996EB2FE8162C076D070A4C8D6532CD', 'FF60A88F53E63000266F8B9149E35AD9', '717293301FE296B0B61950D041485825', '3E16B11B7ADE3A22DDFC4423FBCEAD5D', '3820C29CBCA409A33BADF68852057C4A', '9ECD42BC079C20F156F53CB3B99E600E', '76B8A9C3013AE6414A3E6012413CDC3B', 'AEF22666801F0A5846D853B9CEB2E327', '190BA7DA361BC06BC1D7E824C378064D', '1FFD2FE4297F5E70EBC6C3230D95CB9C', 'A0C7021AD8299ADF0C9EBE326C115F6F', 'D413F5FE5236E5650A46FD983AB39212', '48236EC80FDDDFADE99420ABC9210DDF', '691890251F2B9FF922BE6D3699ABEFD2', '920502FAA080485768AA89BC96A55C47', '0331BF70E606D62D92C96CE9AD71A7CF', '89616CFF8EC8637092F885C7EFF43D74', '06BEAB41D66CCFF329D1ED8BA120A6C2', '60FBA0E834CC59D647C3599AD763FFDF', 'C7A400D9AD489ACF673CF12FBB80AAE5', 'E59EF8BB86A6D815331DDF4C467CE0C7', '4249CE88433AEA3F8DCEECF008B3CB95', '544FA32458C903F1125FE6598300A047', 'CB11E9CF42BD0A1BAD5E27BF3422D99D', '3A85BCEC571C3F5AB1069E4924189177', 'FF7EABB5A382356D54D9C41BA0125E09', 'E7BB61D2A87C1E72DF1C7BC292B86A1C', '69C4A33B9AD29AF883D60BA61CC08702', 'F4FD40A716F1572C9A28E9CAA58BE3A5', '259A6F6DFD672CB1F883CBEC01B99F2D', '6431A618DCF7F4CB7F62A95A39BAB77A', '3121F7240D488F74EEED9312E174B217', '54208B51D44E7D91DC2F3DD02ADEDEC2', 'DBEEFB80F8A314311E2B4BD593E11DFE', 'B6D90127A09AB1229731898AEF9D4D7C', 'F3E1016563360F9434FA986CA86C249C', '2216D01F7B48554E4211021A46816FCF', '1BC639981AE88E09129594B11F894A21', 'C942E369C88CE7C56E69A84D04319FF0', '57ADD4576E2AD6648E9B2DE32F3462A5', 'AC1F0671A4B0D5B8112F87DE7B490E6D', 'C2EF5FABE7619D8A333D5F0FF76E1BFA', 'AA0254541959271ED3453119B787D0C3', 'A6B70CDF8C7B934D4A218CA9B6B7FDB4', 'BF477808A37E3E4E9C5D9F1839E8519E', '97F81BD92A1ACA3F1F43C154E689350F', '60A3DB168094D41241E45E0DE3539BC0', '12D8CEB94F89D11D7EB95EAE9689B009', 'F73266A79468BB89C4325FDEDB0B533C', '4690215948DBF6872B8ED1C2BC87B17E', 'D18801336202297E6484F634CAC6592E', '2E18F6F53E3CF073911AF0A93BBE5373', 'B2235C8B73239FDC5780DD132419833A', '515E873C86EE1577E75FA2387B7FA59E',]\n",
    "\n",
    "# dfval.twttyp.value_counts().compute()\n",
    "# TopLevel    2932\n",
    "# Retweet      994\n",
    "# Quote        213\n",
    "twttyps=['TopLevel','Retweet','Quote']"
   ]
  },
  {
   "cell_type": "markdown",
   "metadata": {},
   "source": [
    "## prep func"
   ]
  },
  {
   "cell_type": "code",
   "execution_count": 4,
   "metadata": {},
   "outputs": [],
   "source": [
    "def prp_df(df, istrn=True):\n",
    "    tm_min = MIN_TM_TRN if istrn else MIN_TM_TST\n",
    "    df['len_toks'] = df.toks.apply(len)\n",
    "    for media in ['Photo', 'Video', 'GIF']:\n",
    "        df[f'has_media_{media}'] = df.media.fillna('').apply(lambda x: media in x)\n",
    "    for col in ['hshtgs', 'links', 'domns',]:\n",
    "        df[f'num_{col}'] = df[col].fillna('').apply(lambda x: len(x.split('\\t')) if len(x) else 0)\n",
    "    \n",
    "    df['twt_age'] = df.tm - tm_min\n",
    "    df['u1_age']  = df.tm - df.u1_create_tm\n",
    "    df['u2_age']  = df.tm - df.u2_create_tm\n",
    "        \n",
    "    tm_dt=pd.to_datetime(df.tm, unit='s')\n",
    "    df['tm_dayofweek']=tm_dt.dt.dayofweek\n",
    "    df['tm_hour']=tm_dt.dt.hour\n",
    "    \n",
    "    df['tmdlta_u2u1']  = df.u2_create_tm - df.u1_create_tm\n",
    "    \n",
    "    df['u1_fllwer_cnt_by_age'] = df.u1_fllwer_cnt / df.u1_age\n",
    "    df['u1_fllwng_cnt_by_age'] = df.u2_fllwng_cnt / df.u2_age\n",
    "    \n",
    "    for typ in twttyps:\n",
    "        df[f'twttyp_{typ}']=(df.twttyp==typ).astype('int8')\n",
    "\n",
    "    for lang in langs:\n",
    "        df[f'lang_{lang}']=(df.lang==lang).astype('int8')\n",
    "    if istrn: \n",
    "        df[cols_tgt]=df[cols_tgt_tmstmp].notna().astype('int8')\n",
    "        df.drop(inplace=True, columns=['toks', 'hshtgs', 'media', 'links', 'domns', 'twttyp', 'lang', \n",
    "                                       'tm', 'u1_create_tm','u2_create_tm', 'u1id', 'u2id', 'twtid', ]+cols_tgt_tmstmp, )\n",
    "    else:\n",
    "        df.drop(inplace=True, columns=['toks', 'hshtgs', 'media', 'links', 'domns', 'twttyp', 'lang', \n",
    "                                       'tm', 'u1_create_tm','u2_create_tm', 'u1id', ])        \n",
    "    return df"
   ]
  },
  {
   "cell_type": "raw",
   "metadata": {
    "scrolled": true
   },
   "source": [
    "ls -hlS $p_in | grep {trntmstmp} "
   ]
  },
  {
   "cell_type": "code",
   "execution_count": 5,
   "metadata": {
    "scrolled": false
   },
   "outputs": [
    {
     "data": {
      "text/plain": [
       "(150000000.0, 150000.0)"
      ]
     },
     "execution_count": 5,
     "metadata": {},
     "output_type": "execute_result"
    }
   ],
   "source": [
    "grand_total, grand_total/CHNKSZ"
   ]
  },
  {
   "cell_type": "markdown",
   "metadata": {},
   "source": [
    "## valid data"
   ]
  },
  {
   "cell_type": "code",
   "execution_count": 6,
   "metadata": {},
   "outputs": [
    {
     "name": "stdout",
     "output_type": "stream",
     "text": [
      "2020-03-24 14:10:38 chunk 0\n",
      "['2020-02-06 00:05:27', '2020-02-12 22:55:53']\n"
     ]
    }
   ],
   "source": [
    "chnks_trn = pd.read_csv(f'{p_in}/trn_{trntmstmp}.tsv',sep='\\x01',\n",
    "                    header=None,names=cols, \n",
    "                        chunksize=CHNKSZ)\n",
    "# first chunk as validate data\n",
    "for ichnk,df in enumerate(chnks_trn):\n",
    "    print(dtnow(), 'chunk', ichnk)\n",
    "    print([datetime.datetime.fromtimestamp(o).strftime('%Y-%m-%d %H:%M:%S') \n",
    "           for o in (df.tm.min(), df.tm.max())])\n",
    "    dfvalid = prp_df(df)\n",
    "    break\n",
    "dfvalid.shape\n",
    "\n",
    "cols_feat=[o for o in dfvalid.columns if o not in cols_tgt]\n",
    "\n",
    "# Xvl,yvl=dfvl[cols_feat],dfvl[cols_tgt]"
   ]
  },
  {
   "cell_type": "markdown",
   "metadata": {},
   "source": [
    "## trnval data func"
   ]
  },
  {
   "cell_type": "code",
   "execution_count": 7,
   "metadata": {},
   "outputs": [],
   "source": [
    "def getdftrvl(tgt):\n",
    "    print(tgt)\n",
    "    tgtcol=tgt2col[tgt]\n",
    "    chnks_trn = pd.read_csv(f'{p_in}/trn_{trntmstmp}.tsv',sep='\\x01',\n",
    "                        header=None,names=cols, \n",
    "                            chunksize=CHNKSZ)\n",
    "    len_df_wanted = int(CHNKSZ)\n",
    "    # retwt          0.113031\n",
    "    # reply          0.027488\n",
    "    # like           0.439499\n",
    "    # retwt_cmmnt    0.007742\n",
    "    pos_rate_wanted = POST_RATE_WANTED\n",
    "    n_pos_wanted = int(len_df_wanted*pos_rate_wanted)\n",
    "    print('n_pos_wanted', n_pos_wanted)\n",
    "    np.random.seed(SEED)\n",
    "    lst_df = []\n",
    "    n_pos_ttl = 0\n",
    "    for ichnk,df in enumerate(chnks_trn):\n",
    "        #skip first chunk (it was validate data)\n",
    "        if ichnk==0: continue\n",
    "        print(dtnow(), 'chunk', ichnk)\n",
    "        df = prp_df(df)\n",
    "        n_pos_ttl+= df[tgtcol].sum()\n",
    "        lst_df.append(df)\n",
    "        if n_pos_ttl>=n_pos_wanted: break\n",
    "\n",
    "    df = pd.concat(lst_df)\n",
    "    df.reset_index(drop=True,inplace=True)\n",
    "\n",
    "\n",
    "    # https://stackoverflow.com/questions/28556942/pandas-remove-rows-at-random-without-shuffling-dataset\n",
    "    idx_neg=np.where(df[tgtcol]==0)[0]\n",
    "    n_neg = len(idx_neg)\n",
    "    n_pos = len(df)-len(idx_neg)\n",
    "    n_neg2keep = len_df_wanted-n_pos\n",
    "    n_neg2rmv = n_neg-n_neg2keep\n",
    "    idx_neg2rmv = np.random.choice(idx_neg, n_neg2rmv, replace=False)\n",
    "    dftrvl = df.drop(idx_neg2rmv)\n",
    "    dftrvl = dftrvl.sample(len(dftrvl))\n",
    "    print('dftrvl.shape:',dftrvl.shape,'dftrvl[tgtcol].mean():',dftrvl[tgtcol].mean())\n",
    "\n",
    "    pops={\n",
    "        'train_pop':len(df),\n",
    "        'target_pop':n_pos,\n",
    "        'sampled_train_pop':len_df_wanted,\n",
    "        'sampled_target_pop':n_pos,\n",
    "    }\n",
    "    print(pops)\n",
    "    return dftrvl, pops"
   ]
  },
  {
   "cell_type": "markdown",
   "metadata": {},
   "source": [
    "# model"
   ]
  },
  {
   "cell_type": "code",
   "execution_count": 8,
   "metadata": {},
   "outputs": [],
   "source": [
    "def train(params,dtr,dvl):\n",
    "    print(params)\n",
    "    best_params, tuning_history = dict(), list()\n",
    "#     evals_result = {}\n",
    "    evallist = [(dtr, 'train'), (dvl, 'eval')]\n",
    "    bst = lgb.train(params=params, \n",
    "                    train_set=dtr, \n",
    "                    valid_sets=[dtr, dvl],\n",
    "                    best_params=best_params,\n",
    "                    tuning_history=tuning_history,\n",
    "                    verbose_eval=100,\n",
    "                    early_stopping_rounds=100,\n",
    "#                     num_boost_round=10,#1000, \n",
    "#                     evals_result=evals_result, \n",
    "#                     verbose_eval=5,\n",
    "#                     early_stopping_rounds=5\n",
    "                   )\n",
    "                    \n",
    "    return bst,best_params,tuning_history\n",
    "\n",
    "def valid(bst,dftr,dfvl):\n",
    "#     prdtr = bst.predict(dtr, ntree_limit=bst.best_ntree_limit)\n",
    "#     prdvl = bst.predict(dvl, ntree_limit=bst.best_ntree_limit)\n",
    "    prdtr = bst.predict(dftr[cols_feat],num_iteration=bst.best_iteration)\n",
    "    prdvl = bst.predict(dfvl[cols_feat],num_iteration=bst.best_iteration)\n",
    "    return prdtr,prdvl\n",
    "\n",
    "def do_tgt(tgt):\n",
    "    params=tgt2params[tgt]\n",
    "    tgtcol=tgt2col[tgt]\n",
    "    dftrvl, pops=getdftrvl(tgt)\n",
    "    split=int(len(dftrvl)*0.85)\n",
    "    dftr,dfvl=dftrvl[:split],dftrvl[split:]\n",
    "    dtr = lgb.Dataset(dftr[cols_feat], label=dftr[tgtcol])\n",
    "    dvl = lgb.Dataset(dfvl[cols_feat], label=dfvl[tgtcol])\n",
    "    bst,best_params,tuning_history=train(params,dtr,dvl)\n",
    "    prdtr,prdvl=valid(bst,dftr,dfvl)\n",
    "    \n",
    "    tgt2bst[tgt]=bst\n",
    "#     tgt2evalres[tgt]=evals_result\n",
    "    tgt2best_params[tgt]=best_params\n",
    "    tgt2tuning_history[tgt]=tuning_history\n",
    "    tgt2ytr[tgt]=dftr[tgtcol]\n",
    "    tgt2yvl[tgt]=dfvl[tgtcol]\n",
    "    tgt2pops[tgt]=pops\n",
    "    tgt2prdtr[tgt]=prdtr\n",
    "    tgt2prdvl[tgt]=prdvl\n"
   ]
  },
  {
   "cell_type": "code",
   "execution_count": 9,
   "metadata": {
    "scrolled": true
   },
   "outputs": [
    {
     "name": "stdout",
     "output_type": "stream",
     "text": [
      "2020-03-24 14:10:38 Retweet ********************************************************************************\n",
      "Retweet\n",
      "n_pos_wanted 100\n",
      "2020-03-24 14:10:38 chunk 1\n",
      "2020-03-24 14:10:38 chunk 2\n",
      "dftrvl.shape: (1000, 95) dftrvl[tgtcol].mean(): 0.212\n",
      "{'train_pop': 2000, 'target_pop': 212, 'sampled_train_pop': 1000, 'sampled_target_pop': 212}\n",
      "{'objective': 'binary', 'metric': 'binary_logloss', 'verbosity': 1, 'boosting_type': 'gbdt'}\n"
     ]
    },
    {
     "name": "stderr",
     "output_type": "stream",
     "text": [
      "/data/anaconda3/envs/rcss20/lib/python3.7/site-packages/optuna/_experimental.py:87: ExperimentalWarning: train is experimental (supported from v0.18.0). The interface can change in the future.\n",
      "  ExperimentalWarning\n",
      "tune_feature_fraction, val_score: inf:   0%|          | 0/7 [00:00<?, ?it/s]"
     ]
    },
    {
     "name": "stdout",
     "output_type": "stream",
     "text": [
      "Training until validation scores don't improve for 100 rounds\n",
      "[100]\ttraining's binary_logloss: 0.0389982\tvalid_1's binary_logloss: 0.618217\n",
      "Early stopping, best iteration is:\n",
      "[22]\ttraining's binary_logloss: 0.253545\tvalid_1's binary_logloss: 0.486747\n"
     ]
    },
    {
     "name": "stderr",
     "output_type": "stream",
     "text": [
      "tune_feature_fraction, val_score: 0.486747:  14%|#4        | 1/7 [00:01<00:04,  1.38it/s]"
     ]
    },
    {
     "name": "stdout",
     "output_type": "stream",
     "text": [
      "Training until validation scores don't improve for 100 rounds\n",
      "[100]\ttraining's binary_logloss: 0.0337738\tvalid_1's binary_logloss: 0.653311\n",
      "Early stopping, best iteration is:\n",
      "[20]\ttraining's binary_logloss: 0.260696\tvalid_1's binary_logloss: 0.488969\n"
     ]
    },
    {
     "name": "stderr",
     "output_type": "stream",
     "text": [
      "tune_feature_fraction, val_score: 0.486747:  29%|##8       | 2/7 [00:01<00:03,  1.26it/s]"
     ]
    },
    {
     "name": "stdout",
     "output_type": "stream",
     "text": [
      "Training until validation scores don't improve for 100 rounds\n",
      "[100]\ttraining's binary_logloss: 0.0311949\tvalid_1's binary_logloss: 0.666056\n",
      "Early stopping, best iteration is:\n",
      "[21]\ttraining's binary_logloss: 0.248569\tvalid_1's binary_logloss: 0.488699\n"
     ]
    },
    {
     "name": "stderr",
     "output_type": "stream",
     "text": [
      "tune_feature_fraction, val_score: 0.486747:  43%|####2     | 3/7 [00:02<00:02,  1.43it/s]"
     ]
    },
    {
     "name": "stdout",
     "output_type": "stream",
     "text": [
      "Training until validation scores don't improve for 100 rounds\n",
      "[100]\ttraining's binary_logloss: 0.0278751\tvalid_1's binary_logloss: 0.707415\n",
      "Early stopping, best iteration is:\n",
      "[11]\ttraining's binary_logloss: 0.331478\tvalid_1's binary_logloss: 0.495264\n"
     ]
    },
    {
     "name": "stderr",
     "output_type": "stream",
     "text": [
      "tune_feature_fraction, val_score: 0.486747:  57%|#####7    | 4/7 [00:02<00:01,  1.61it/s]"
     ]
    },
    {
     "name": "stdout",
     "output_type": "stream",
     "text": [
      "Training until validation scores don't improve for 100 rounds\n",
      "[100]\ttraining's binary_logloss: 0.0272367\tvalid_1's binary_logloss: 0.683997\n",
      "Early stopping, best iteration is:\n",
      "[18]\ttraining's binary_logloss: 0.267745\tvalid_1's binary_logloss: 0.485886\n"
     ]
    },
    {
     "name": "stderr",
     "output_type": "stream",
     "text": [
      "tune_feature_fraction, val_score: 0.485886:  71%|#######1  | 5/7 [00:03<00:01,  1.27it/s]"
     ]
    },
    {
     "name": "stdout",
     "output_type": "stream",
     "text": [
      "Training until validation scores don't improve for 100 rounds\n",
      "[100]\ttraining's binary_logloss: 0.0248233\tvalid_1's binary_logloss: 0.708536\n",
      "Early stopping, best iteration is:\n",
      "[5]\ttraining's binary_logloss: 0.409239\tvalid_1's binary_logloss: 0.512007\n"
     ]
    },
    {
     "name": "stderr",
     "output_type": "stream",
     "text": [
      "tune_feature_fraction, val_score: 0.485886:  86%|########5 | 6/7 [00:04<00:00,  1.20it/s]"
     ]
    },
    {
     "name": "stdout",
     "output_type": "stream",
     "text": [
      "Training until validation scores don't improve for 100 rounds\n",
      "[100]\ttraining's binary_logloss: 0.0238987\tvalid_1's binary_logloss: 0.708445\n",
      "Early stopping, best iteration is:\n",
      "[12]\ttraining's binary_logloss: 0.315184\tvalid_1's binary_logloss: 0.500612\n"
     ]
    },
    {
     "name": "stderr",
     "output_type": "stream",
     "text": [
      "tune_feature_fraction, val_score: 0.485886: 100%|##########| 7/7 [00:05<00:00,  1.32it/s]\n",
      "tune_num_leaves, val_score: 0.485886:   0%|          | 0/20 [00:00<?, ?it/s]"
     ]
    },
    {
     "name": "stdout",
     "output_type": "stream",
     "text": [
      "Training until validation scores don't improve for 100 rounds\n",
      "[100]\ttraining's binary_logloss: 0.0254674\tvalid_1's binary_logloss: 0.659215\n",
      "Early stopping, best iteration is:\n",
      "[11]\ttraining's binary_logloss: 0.333782\tvalid_1's binary_logloss: 0.487045\n"
     ]
    },
    {
     "name": "stderr",
     "output_type": "stream",
     "text": [
      "tune_num_leaves, val_score: 0.485886:   5%|5         | 1/20 [00:00<00:07,  2.53it/s]"
     ]
    },
    {
     "name": "stdout",
     "output_type": "stream",
     "text": [
      "Training until validation scores don't improve for 100 rounds\n",
      "[100]\ttraining's binary_logloss: 0.0254674\tvalid_1's binary_logloss: 0.659215\n",
      "Early stopping, best iteration is:\n",
      "[11]\ttraining's binary_logloss: 0.333782\tvalid_1's binary_logloss: 0.487045\n"
     ]
    },
    {
     "name": "stderr",
     "output_type": "stream",
     "text": [
      "tune_num_leaves, val_score: 0.485886:  10%|#         | 2/20 [00:00<00:07,  2.40it/s]"
     ]
    },
    {
     "name": "stdout",
     "output_type": "stream",
     "text": [
      "Training until validation scores don't improve for 100 rounds\n",
      "[100]\ttraining's binary_logloss: 0.0254674\tvalid_1's binary_logloss: 0.659215\n",
      "Early stopping, best iteration is:\n",
      "[11]\ttraining's binary_logloss: 0.333782\tvalid_1's binary_logloss: 0.487045\n"
     ]
    },
    {
     "name": "stderr",
     "output_type": "stream",
     "text": [
      "tune_num_leaves, val_score: 0.485886:  15%|#5        | 3/20 [00:01<00:07,  2.40it/s]"
     ]
    },
    {
     "name": "stdout",
     "output_type": "stream",
     "text": [
      "Training until validation scores don't improve for 100 rounds\n",
      "[100]\ttraining's binary_logloss: 0.0254674\tvalid_1's binary_logloss: 0.659215\n",
      "Early stopping, best iteration is:\n",
      "[11]\ttraining's binary_logloss: 0.333782\tvalid_1's binary_logloss: 0.487045\n"
     ]
    },
    {
     "name": "stderr",
     "output_type": "stream",
     "text": [
      "tune_num_leaves, val_score: 0.485886:  20%|##        | 4/20 [00:01<00:07,  2.25it/s]"
     ]
    },
    {
     "name": "stdout",
     "output_type": "stream",
     "text": [
      "Training until validation scores don't improve for 100 rounds\n",
      "[100]\ttraining's binary_logloss: 0.0254746\tvalid_1's binary_logloss: 0.715816\n",
      "Early stopping, best iteration is:\n",
      "[11]\ttraining's binary_logloss: 0.333817\tvalid_1's binary_logloss: 0.486862\n"
     ]
    },
    {
     "name": "stderr",
     "output_type": "stream",
     "text": [
      "tune_num_leaves, val_score: 0.485886:  25%|##5       | 5/20 [00:02<00:06,  2.34it/s]"
     ]
    },
    {
     "name": "stdout",
     "output_type": "stream",
     "text": [
      "Training until validation scores don't improve for 100 rounds\n",
      "[100]\ttraining's binary_logloss: 0.0254674\tvalid_1's binary_logloss: 0.659215\n",
      "Early stopping, best iteration is:\n",
      "[11]\ttraining's binary_logloss: 0.333782\tvalid_1's binary_logloss: 0.487045\n"
     ]
    },
    {
     "name": "stderr",
     "output_type": "stream",
     "text": [
      "tune_num_leaves, val_score: 0.485886:  30%|###       | 6/20 [00:02<00:05,  2.34it/s]"
     ]
    },
    {
     "name": "stdout",
     "output_type": "stream",
     "text": [
      "Training until validation scores don't improve for 100 rounds\n",
      "[100]\ttraining's binary_logloss: 0.0254674\tvalid_1's binary_logloss: 0.659215\n",
      "Early stopping, best iteration is:\n",
      "[11]\ttraining's binary_logloss: 0.333782\tvalid_1's binary_logloss: 0.487045\n"
     ]
    },
    {
     "name": "stderr",
     "output_type": "stream",
     "text": [
      "tune_num_leaves, val_score: 0.485886:  35%|###5      | 7/20 [00:03<00:05,  2.30it/s]"
     ]
    },
    {
     "name": "stdout",
     "output_type": "stream",
     "text": [
      "Training until validation scores don't improve for 100 rounds\n",
      "[100]\ttraining's binary_logloss: 0.0358478\tvalid_1's binary_logloss: 0.66999\n",
      "Early stopping, best iteration is:\n",
      "[11]\ttraining's binary_logloss: 0.339464\tvalid_1's binary_logloss: 0.501836\n"
     ]
    },
    {
     "name": "stderr",
     "output_type": "stream",
     "text": [
      "tune_num_leaves, val_score: 0.485886:  40%|####      | 8/20 [00:03<00:05,  2.16it/s]"
     ]
    },
    {
     "name": "stdout",
     "output_type": "stream",
     "text": [
      "Training until validation scores don't improve for 100 rounds\n",
      "[100]\ttraining's binary_logloss: 0.0254674\tvalid_1's binary_logloss: 0.659215\n",
      "Early stopping, best iteration is:\n",
      "[11]\ttraining's binary_logloss: 0.333782\tvalid_1's binary_logloss: 0.487045\n"
     ]
    },
    {
     "name": "stderr",
     "output_type": "stream",
     "text": [
      "tune_num_leaves, val_score: 0.485886:  45%|####5     | 9/20 [00:04<00:04,  2.27it/s]"
     ]
    },
    {
     "name": "stdout",
     "output_type": "stream",
     "text": [
      "Training until validation scores don't improve for 100 rounds\n",
      "[100]\ttraining's binary_logloss: 0.0254674\tvalid_1's binary_logloss: 0.659215\n",
      "Early stopping, best iteration is:\n",
      "[11]\ttraining's binary_logloss: 0.333782\tvalid_1's binary_logloss: 0.487045\n"
     ]
    },
    {
     "name": "stderr",
     "output_type": "stream",
     "text": [
      "tune_num_leaves, val_score: 0.485886:  50%|#####     | 10/20 [00:04<00:04,  2.29it/s]"
     ]
    },
    {
     "name": "stdout",
     "output_type": "stream",
     "text": [
      "Training until validation scores don't improve for 100 rounds\n",
      "[100]\ttraining's binary_logloss: 0.30993\tvalid_1's binary_logloss: 0.512858\n",
      "Early stopping, best iteration is:\n",
      "[32]\ttraining's binary_logloss: 0.403415\tvalid_1's binary_logloss: 0.48972\n"
     ]
    },
    {
     "name": "stderr",
     "output_type": "stream",
     "text": [
      "tune_num_leaves, val_score: 0.485886:  55%|#####5    | 11/20 [00:05<00:04,  2.18it/s]"
     ]
    },
    {
     "name": "stdout",
     "output_type": "stream",
     "text": [
      "Training until validation scores don't improve for 100 rounds\n",
      "[100]\ttraining's binary_logloss: 0.0254674\tvalid_1's binary_logloss: 0.659215\n",
      "Early stopping, best iteration is:\n",
      "[11]\ttraining's binary_logloss: 0.333782\tvalid_1's binary_logloss: 0.487045\n"
     ]
    },
    {
     "name": "stderr",
     "output_type": "stream",
     "text": [
      "tune_num_leaves, val_score: 0.485886:  60%|######    | 12/20 [00:05<00:03,  2.18it/s]"
     ]
    },
    {
     "name": "stdout",
     "output_type": "stream",
     "text": [
      "Training until validation scores don't improve for 100 rounds\n",
      "[100]\ttraining's binary_logloss: 0.0272367\tvalid_1's binary_logloss: 0.683997\n",
      "Early stopping, best iteration is:\n",
      "[18]\ttraining's binary_logloss: 0.267745\tvalid_1's binary_logloss: 0.485886\n"
     ]
    },
    {
     "name": "stderr",
     "output_type": "stream",
     "text": [
      "tune_num_leaves, val_score: 0.485886:  65%|######5   | 13/20 [00:05<00:03,  2.29it/s]"
     ]
    },
    {
     "name": "stdout",
     "output_type": "stream",
     "text": [
      "Training until validation scores don't improve for 100 rounds\n",
      "[100]\ttraining's binary_logloss: 0.438802\tvalid_1's binary_logloss: 0.495227\n",
      "[200]\ttraining's binary_logloss: 0.41875\tvalid_1's binary_logloss: 0.493514\n",
      "Early stopping, best iteration is:\n",
      "[138]\ttraining's binary_logloss: 0.429957\tvalid_1's binary_logloss: 0.491854\n"
     ]
    },
    {
     "name": "stderr",
     "output_type": "stream",
     "text": [
      "tune_num_leaves, val_score: 0.485886:  70%|#######   | 14/20 [00:06<00:02,  2.68it/s]"
     ]
    },
    {
     "name": "stdout",
     "output_type": "stream",
     "text": [
      "Training until validation scores don't improve for 100 rounds\n",
      "[100]\ttraining's binary_logloss: 0.0279324\tvalid_1's binary_logloss: 0.685332\n",
      "Early stopping, best iteration is:\n",
      "[11]\ttraining's binary_logloss: 0.333671\tvalid_1's binary_logloss: 0.480838\n"
     ]
    },
    {
     "name": "stderr",
     "output_type": "stream",
     "text": [
      "tune_num_leaves, val_score: 0.480838:  75%|#######5  | 15/20 [00:06<00:01,  2.55it/s]"
     ]
    },
    {
     "name": "stdout",
     "output_type": "stream",
     "text": [
      "Training until validation scores don't improve for 100 rounds\n",
      "[100]\ttraining's binary_logloss: 0.0254674\tvalid_1's binary_logloss: 0.659215\n",
      "Early stopping, best iteration is:\n",
      "[11]\ttraining's binary_logloss: 0.333782\tvalid_1's binary_logloss: 0.487045\n"
     ]
    },
    {
     "name": "stderr",
     "output_type": "stream",
     "text": [
      "tune_num_leaves, val_score: 0.480838:  80%|########  | 16/20 [00:06<00:01,  2.47it/s]"
     ]
    },
    {
     "name": "stdout",
     "output_type": "stream",
     "text": [
      "Training until validation scores don't improve for 100 rounds\n",
      "[100]\ttraining's binary_logloss: 0.0254674\tvalid_1's binary_logloss: 0.659215\n",
      "Early stopping, best iteration is:\n",
      "[11]\ttraining's binary_logloss: 0.333782\tvalid_1's binary_logloss: 0.487045\n"
     ]
    },
    {
     "name": "stderr",
     "output_type": "stream",
     "text": [
      "tune_num_leaves, val_score: 0.480838:  85%|########5 | 17/20 [00:07<00:01,  2.43it/s]"
     ]
    },
    {
     "name": "stdout",
     "output_type": "stream",
     "text": [
      "Training until validation scores don't improve for 100 rounds\n",
      "[100]\ttraining's binary_logloss: 0.438802\tvalid_1's binary_logloss: 0.495227\n",
      "[200]\ttraining's binary_logloss: 0.41875\tvalid_1's binary_logloss: 0.493514\n",
      "Early stopping, best iteration is:\n",
      "[138]\ttraining's binary_logloss: 0.429957\tvalid_1's binary_logloss: 0.491854\n"
     ]
    },
    {
     "name": "stderr",
     "output_type": "stream",
     "text": [
      "tune_num_leaves, val_score: 0.480838:  90%|######### | 18/20 [00:07<00:00,  2.80it/s]"
     ]
    },
    {
     "name": "stdout",
     "output_type": "stream",
     "text": [
      "Training until validation scores don't improve for 100 rounds\n",
      "[100]\ttraining's binary_logloss: 0.0254674\tvalid_1's binary_logloss: 0.659215\n",
      "Early stopping, best iteration is:\n",
      "[11]\ttraining's binary_logloss: 0.333782\tvalid_1's binary_logloss: 0.487045\n"
     ]
    },
    {
     "name": "stderr",
     "output_type": "stream",
     "text": [
      "tune_num_leaves, val_score: 0.480838:  95%|#########5| 19/20 [00:08<00:00,  2.44it/s]"
     ]
    },
    {
     "name": "stdout",
     "output_type": "stream",
     "text": [
      "Training until validation scores don't improve for 100 rounds\n",
      "[100]\ttraining's binary_logloss: 0.0254674\tvalid_1's binary_logloss: 0.659215\n",
      "Early stopping, best iteration is:\n",
      "[11]\ttraining's binary_logloss: 0.333782\tvalid_1's binary_logloss: 0.487045\n"
     ]
    },
    {
     "name": "stderr",
     "output_type": "stream",
     "text": [
      "tune_num_leaves, val_score: 0.480838: 100%|##########| 20/20 [00:08<00:00,  2.35it/s]\n",
      "tune_bagging_fraction_and_bagging_freq, val_score: 0.480838:   0%|          | 0/10 [00:00<?, ?it/s]"
     ]
    },
    {
     "name": "stdout",
     "output_type": "stream",
     "text": [
      "Training until validation scores don't improve for 100 rounds\n",
      "[100]\ttraining's binary_logloss: 0.158955\tvalid_1's binary_logloss: 0.55813\n",
      "Early stopping, best iteration is:\n",
      "[18]\ttraining's binary_logloss: 0.379947\tvalid_1's binary_logloss: 0.502538\n"
     ]
    },
    {
     "name": "stderr",
     "output_type": "stream",
     "text": [
      "tune_bagging_fraction_and_bagging_freq, val_score: 0.480838:  10%|#         | 1/10 [00:00<00:01,  5.08it/s]"
     ]
    },
    {
     "name": "stdout",
     "output_type": "stream",
     "text": [
      "Training until validation scores don't improve for 100 rounds\n",
      "[100]\ttraining's binary_logloss: 0.0449475\tvalid_1's binary_logloss: 0.640714\n",
      "Early stopping, best iteration is:\n",
      "[11]\ttraining's binary_logloss: 0.354248\tvalid_1's binary_logloss: 0.488506\n"
     ]
    },
    {
     "name": "stderr",
     "output_type": "stream",
     "text": [
      "tune_bagging_fraction_and_bagging_freq, val_score: 0.480838:  20%|##        | 2/10 [00:00<00:01,  4.06it/s]"
     ]
    },
    {
     "name": "stdout",
     "output_type": "stream",
     "text": [
      "Training until validation scores don't improve for 100 rounds\n",
      "[100]\ttraining's binary_logloss: 0.0891559\tvalid_1's binary_logloss: 0.559672\n",
      "Early stopping, best iteration is:\n",
      "[20]\ttraining's binary_logloss: 0.324013\tvalid_1's binary_logloss: 0.49677\n"
     ]
    },
    {
     "name": "stderr",
     "output_type": "stream",
     "text": [
      "tune_bagging_fraction_and_bagging_freq, val_score: 0.480838:  30%|###       | 3/10 [00:00<00:01,  3.73it/s]"
     ]
    },
    {
     "name": "stdout",
     "output_type": "stream",
     "text": [
      "Training until validation scores don't improve for 100 rounds\n",
      "[100]\ttraining's binary_logloss: 0.0495445\tvalid_1's binary_logloss: 0.646818\n",
      "Early stopping, best iteration is:\n",
      "[17]\ttraining's binary_logloss: 0.310605\tvalid_1's binary_logloss: 0.489647\n"
     ]
    },
    {
     "name": "stderr",
     "output_type": "stream",
     "text": [
      "tune_bagging_fraction_and_bagging_freq, val_score: 0.480838:  40%|####      | 4/10 [00:01<00:01,  3.23it/s]"
     ]
    },
    {
     "name": "stdout",
     "output_type": "stream",
     "text": [
      "Training until validation scores don't improve for 100 rounds\n",
      "[100]\ttraining's binary_logloss: 0.0399611\tvalid_1's binary_logloss: 0.64513\n",
      "Early stopping, best iteration is:\n",
      "[9]\ttraining's binary_logloss: 0.372873\tvalid_1's binary_logloss: 0.482238\n"
     ]
    },
    {
     "name": "stderr",
     "output_type": "stream",
     "text": [
      "tune_bagging_fraction_and_bagging_freq, val_score: 0.480838:  50%|#####     | 5/10 [00:01<00:01,  3.12it/s]"
     ]
    },
    {
     "name": "stdout",
     "output_type": "stream",
     "text": [
      "Training until validation scores don't improve for 100 rounds\n",
      "[100]\ttraining's binary_logloss: 0.118271\tvalid_1's binary_logloss: 0.580275\n",
      "Early stopping, best iteration is:\n",
      "[32]\ttraining's binary_logloss: 0.296667\tvalid_1's binary_logloss: 0.494102\n"
     ]
    },
    {
     "name": "stderr",
     "output_type": "stream",
     "text": [
      "tune_bagging_fraction_and_bagging_freq, val_score: 0.480838:  60%|######    | 6/10 [00:02<00:01,  2.94it/s]"
     ]
    },
    {
     "name": "stdout",
     "output_type": "stream",
     "text": [
      "Training until validation scores don't improve for 100 rounds\n",
      "[100]\ttraining's binary_logloss: 0.0461636\tvalid_1's binary_logloss: 0.701315\n",
      "Early stopping, best iteration is:\n",
      "[16]\ttraining's binary_logloss: 0.311049\tvalid_1's binary_logloss: 0.500869\n"
     ]
    },
    {
     "name": "stderr",
     "output_type": "stream",
     "text": [
      "tune_bagging_fraction_and_bagging_freq, val_score: 0.480838:  70%|#######   | 7/10 [00:02<00:01,  2.85it/s]"
     ]
    },
    {
     "name": "stdout",
     "output_type": "stream",
     "text": [
      "Training until validation scores don't improve for 100 rounds\n",
      "[100]\ttraining's binary_logloss: 0.0959911\tvalid_1's binary_logloss: 0.599975\n",
      "Early stopping, best iteration is:\n",
      "[22]\ttraining's binary_logloss: 0.315614\tvalid_1's binary_logloss: 0.494397\n"
     ]
    },
    {
     "name": "stderr",
     "output_type": "stream",
     "text": [
      "tune_bagging_fraction_and_bagging_freq, val_score: 0.480838:  80%|########  | 8/10 [00:02<00:00,  2.68it/s]"
     ]
    },
    {
     "name": "stdout",
     "output_type": "stream",
     "text": [
      "Training until validation scores don't improve for 100 rounds\n",
      "[100]\ttraining's binary_logloss: 0.0924505\tvalid_1's binary_logloss: 0.604544\n",
      "Early stopping, best iteration is:\n",
      "[18]\ttraining's binary_logloss: 0.341\tvalid_1's binary_logloss: 0.490854\n"
     ]
    },
    {
     "name": "stderr",
     "output_type": "stream",
     "text": [
      "tune_bagging_fraction_and_bagging_freq, val_score: 0.480838:  90%|######### | 9/10 [00:03<00:00,  2.78it/s]"
     ]
    },
    {
     "name": "stdout",
     "output_type": "stream",
     "text": [
      "Training until validation scores don't improve for 100 rounds\n",
      "[100]\ttraining's binary_logloss: 0.0445596\tvalid_1's binary_logloss: 0.662967\n",
      "Early stopping, best iteration is:\n",
      "[7]\ttraining's binary_logloss: 0.403048\tvalid_1's binary_logloss: 0.500556\n"
     ]
    },
    {
     "name": "stderr",
     "output_type": "stream",
     "text": [
      "tune_bagging_fraction_and_bagging_freq, val_score: 0.480838: 100%|##########| 10/10 [00:04<00:00,  2.46it/s]\n",
      "tune_feature_fraction, val_score: 0.480838:   0%|          | 0/6 [00:00<?, ?it/s]"
     ]
    },
    {
     "name": "stdout",
     "output_type": "stream",
     "text": [
      "Training until validation scores don't improve for 100 rounds\n",
      "[100]\ttraining's binary_logloss: 0.0286731\tvalid_1's binary_logloss: 0.669287\n",
      "Early stopping, best iteration is:\n",
      "[11]\ttraining's binary_logloss: 0.334354\tvalid_1's binary_logloss: 0.483826\n"
     ]
    },
    {
     "name": "stderr",
     "output_type": "stream",
     "text": [
      "tune_feature_fraction, val_score: 0.480838:  17%|#6        | 1/6 [00:00<00:01,  2.66it/s]"
     ]
    },
    {
     "name": "stdout",
     "output_type": "stream",
     "text": [
      "Training until validation scores don't improve for 100 rounds\n",
      "[100]\ttraining's binary_logloss: 0.0291164\tvalid_1's binary_logloss: 0.656927\n",
      "Early stopping, best iteration is:\n",
      "[14]\ttraining's binary_logloss: 0.304172\tvalid_1's binary_logloss: 0.489595\n"
     ]
    },
    {
     "name": "stderr",
     "output_type": "stream",
     "text": [
      "tune_feature_fraction, val_score: 0.480838:  33%|###3      | 2/6 [00:00<00:01,  2.70it/s]"
     ]
    },
    {
     "name": "stdout",
     "output_type": "stream",
     "text": [
      "Training until validation scores don't improve for 100 rounds\n",
      "[100]\ttraining's binary_logloss: 0.0279324\tvalid_1's binary_logloss: 0.685332\n",
      "Early stopping, best iteration is:\n",
      "[11]\ttraining's binary_logloss: 0.333671\tvalid_1's binary_logloss: 0.480838\n"
     ]
    },
    {
     "name": "stderr",
     "output_type": "stream",
     "text": [
      "tune_feature_fraction, val_score: 0.480838:  50%|#####     | 3/6 [00:01<00:01,  2.70it/s]"
     ]
    },
    {
     "name": "stdout",
     "output_type": "stream",
     "text": [
      "Training until validation scores don't improve for 100 rounds\n",
      "[100]\ttraining's binary_logloss: 0.0279324\tvalid_1's binary_logloss: 0.685332\n",
      "Early stopping, best iteration is:\n",
      "[11]\ttraining's binary_logloss: 0.333671\tvalid_1's binary_logloss: 0.480838\n"
     ]
    },
    {
     "name": "stderr",
     "output_type": "stream",
     "text": [
      "tune_feature_fraction, val_score: 0.480838:  67%|######6   | 4/6 [00:01<00:00,  2.70it/s]"
     ]
    },
    {
     "name": "stdout",
     "output_type": "stream",
     "text": [
      "Training until validation scores don't improve for 100 rounds\n",
      "[100]\ttraining's binary_logloss: 0.0269693\tvalid_1's binary_logloss: 0.682058\n",
      "Early stopping, best iteration is:\n",
      "[17]\ttraining's binary_logloss: 0.273222\tvalid_1's binary_logloss: 0.48576\n"
     ]
    },
    {
     "name": "stderr",
     "output_type": "stream",
     "text": [
      "tune_feature_fraction, val_score: 0.480838:  83%|########3 | 5/6 [00:01<00:00,  2.60it/s]"
     ]
    },
    {
     "name": "stdout",
     "output_type": "stream",
     "text": [
      "Training until validation scores don't improve for 100 rounds\n",
      "[100]\ttraining's binary_logloss: 0.0264751\tvalid_1's binary_logloss: 0.703026\n",
      "Early stopping, best iteration is:\n",
      "[11]\ttraining's binary_logloss: 0.330847\tvalid_1's binary_logloss: 0.487199\n"
     ]
    },
    {
     "name": "stderr",
     "output_type": "stream",
     "text": [
      "tune_feature_fraction, val_score: 0.480838: 100%|##########| 6/6 [00:02<00:00,  2.59it/s]\n",
      "tune_lambda_l1_and_lambda_l2, val_score: 0.480838:   0%|          | 0/20 [00:00<?, ?it/s]"
     ]
    },
    {
     "name": "stdout",
     "output_type": "stream",
     "text": [
      "Training until validation scores don't improve for 100 rounds\n",
      "[100]\ttraining's binary_logloss: 0.249475\tvalid_1's binary_logloss: 0.499913\n",
      "Early stopping, best iteration is:\n",
      "[33]\ttraining's binary_logloss: 0.329178\tvalid_1's binary_logloss: 0.492079\n"
     ]
    },
    {
     "name": "stderr",
     "output_type": "stream",
     "text": [
      "tune_lambda_l1_and_lambda_l2, val_score: 0.480838:   5%|5         | 1/20 [00:00<00:03,  4.89it/s]"
     ]
    },
    {
     "name": "stdout",
     "output_type": "stream",
     "text": [
      "Training until validation scores don't improve for 100 rounds\n",
      "[100]\ttraining's binary_logloss: 0.0342638\tvalid_1's binary_logloss: 0.660412\n",
      "Early stopping, best iteration is:\n",
      "[8]\ttraining's binary_logloss: 0.373329\tvalid_1's binary_logloss: 0.504474\n"
     ]
    },
    {
     "name": "stderr",
     "output_type": "stream",
     "text": [
      "tune_lambda_l1_and_lambda_l2, val_score: 0.480838:  10%|#         | 2/20 [00:00<00:04,  3.96it/s]"
     ]
    },
    {
     "name": "stdout",
     "output_type": "stream",
     "text": [
      "Training until validation scores don't improve for 100 rounds\n",
      "[100]\ttraining's binary_logloss: 0.0851644\tvalid_1's binary_logloss: 0.569334\n",
      "Early stopping, best iteration is:\n",
      "[18]\ttraining's binary_logloss: 0.321102\tvalid_1's binary_logloss: 0.493677\n"
     ]
    },
    {
     "name": "stderr",
     "output_type": "stream",
     "text": [
      "tune_lambda_l1_and_lambda_l2, val_score: 0.480838:  15%|#5        | 3/20 [00:01<00:05,  3.40it/s]"
     ]
    },
    {
     "name": "stdout",
     "output_type": "stream",
     "text": [
      "Training until validation scores don't improve for 100 rounds\n",
      "[100]\ttraining's binary_logloss: 0.164285\tvalid_1's binary_logloss: 0.506576\n",
      "Early stopping, best iteration is:\n",
      "[63]\ttraining's binary_logloss: 0.20526\tvalid_1's binary_logloss: 0.491197\n"
     ]
    },
    {
     "name": "stderr",
     "output_type": "stream",
     "text": [
      "tune_lambda_l1_and_lambda_l2, val_score: 0.480838:  20%|##        | 4/20 [00:01<00:05,  3.00it/s]"
     ]
    },
    {
     "name": "stdout",
     "output_type": "stream",
     "text": [
      "Training until validation scores don't improve for 100 rounds\n",
      "[100]\ttraining's binary_logloss: 0.0281503\tvalid_1's binary_logloss: 0.673937\n",
      "Early stopping, best iteration is:\n",
      "[19]\ttraining's binary_logloss: 0.262212\tvalid_1's binary_logloss: 0.498912\n"
     ]
    },
    {
     "name": "stderr",
     "output_type": "stream",
     "text": [
      "tune_lambda_l1_and_lambda_l2, val_score: 0.480838:  25%|##5       | 5/20 [00:01<00:05,  2.79it/s]"
     ]
    },
    {
     "name": "stdout",
     "output_type": "stream",
     "text": [
      "Training until validation scores don't improve for 100 rounds\n",
      "[100]\ttraining's binary_logloss: 0.0285292\tvalid_1's binary_logloss: 0.700056\n",
      "Early stopping, best iteration is:\n",
      "[19]\ttraining's binary_logloss: 0.262026\tvalid_1's binary_logloss: 0.498913\n"
     ]
    },
    {
     "name": "stderr",
     "output_type": "stream",
     "text": [
      "tune_lambda_l1_and_lambda_l2, val_score: 0.480838:  30%|###       | 6/20 [00:02<00:05,  2.76it/s]"
     ]
    },
    {
     "name": "stdout",
     "output_type": "stream",
     "text": [
      "Training until validation scores don't improve for 100 rounds\n",
      "[100]\ttraining's binary_logloss: 0.0273877\tvalid_1's binary_logloss: 0.659349\n",
      "Early stopping, best iteration is:\n",
      "[11]\ttraining's binary_logloss: 0.333838\tvalid_1's binary_logloss: 0.480974\n"
     ]
    },
    {
     "name": "stderr",
     "output_type": "stream",
     "text": [
      "tune_lambda_l1_and_lambda_l2, val_score: 0.480838:  35%|###5      | 7/20 [00:02<00:04,  2.77it/s]"
     ]
    },
    {
     "name": "stdout",
     "output_type": "stream",
     "text": [
      "Training until validation scores don't improve for 100 rounds\n",
      "[100]\ttraining's binary_logloss: 0.0277441\tvalid_1's binary_logloss: 0.68815\n",
      "Early stopping, best iteration is:\n",
      "[11]\ttraining's binary_logloss: 0.333672\tvalid_1's binary_logloss: 0.480839\n"
     ]
    },
    {
     "name": "stderr",
     "output_type": "stream",
     "text": [
      "tune_lambda_l1_and_lambda_l2, val_score: 0.480838:  40%|####      | 8/20 [00:03<00:04,  2.68it/s]"
     ]
    },
    {
     "name": "stdout",
     "output_type": "stream",
     "text": [
      "Training until validation scores don't improve for 100 rounds\n",
      "[100]\ttraining's binary_logloss: 0.0285455\tvalid_1's binary_logloss: 0.645384\n",
      "Early stopping, best iteration is:\n",
      "[11]\ttraining's binary_logloss: 0.333741\tvalid_1's binary_logloss: 0.480833\n"
     ]
    },
    {
     "name": "stderr",
     "output_type": "stream",
     "text": [
      "tune_lambda_l1_and_lambda_l2, val_score: 0.480833:  45%|####5     | 9/20 [00:03<00:03,  2.76it/s]"
     ]
    },
    {
     "name": "stdout",
     "output_type": "stream",
     "text": [
      "Training until validation scores don't improve for 100 rounds\n",
      "[100]\ttraining's binary_logloss: 0.106582\tvalid_1's binary_logloss: 0.532434\n",
      "Early stopping, best iteration is:\n",
      "[30]\ttraining's binary_logloss: 0.273834\tvalid_1's binary_logloss: 0.491083\n"
     ]
    },
    {
     "name": "stderr",
     "output_type": "stream",
     "text": [
      "tune_lambda_l1_and_lambda_l2, val_score: 0.480833:  50%|#####     | 10/20 [00:03<00:03,  2.63it/s]"
     ]
    },
    {
     "name": "stdout",
     "output_type": "stream",
     "text": [
      "Training until validation scores don't improve for 100 rounds\n",
      "[100]\ttraining's binary_logloss: 0.0279337\tvalid_1's binary_logloss: 0.685325\n",
      "Early stopping, best iteration is:\n",
      "[11]\ttraining's binary_logloss: 0.333672\tvalid_1's binary_logloss: 0.480839\n"
     ]
    },
    {
     "name": "stderr",
     "output_type": "stream",
     "text": [
      "tune_lambda_l1_and_lambda_l2, val_score: 0.480833:  55%|#####5    | 11/20 [00:04<00:03,  2.65it/s]"
     ]
    },
    {
     "name": "stdout",
     "output_type": "stream",
     "text": [
      "Training until validation scores don't improve for 100 rounds\n",
      "[100]\ttraining's binary_logloss: 0.0279368\tvalid_1's binary_logloss: 0.685308\n",
      "Early stopping, best iteration is:\n",
      "[11]\ttraining's binary_logloss: 0.333673\tvalid_1's binary_logloss: 0.480839\n"
     ]
    },
    {
     "name": "stderr",
     "output_type": "stream",
     "text": [
      "tune_lambda_l1_and_lambda_l2, val_score: 0.480833:  60%|######    | 12/20 [00:04<00:03,  2.55it/s]"
     ]
    },
    {
     "name": "stdout",
     "output_type": "stream",
     "text": [
      "Training until validation scores don't improve for 100 rounds\n",
      "[100]\ttraining's binary_logloss: 0.0340965\tvalid_1's binary_logloss: 0.64977\n",
      "Early stopping, best iteration is:\n",
      "[12]\ttraining's binary_logloss: 0.325962\tvalid_1's binary_logloss: 0.493124\n"
     ]
    },
    {
     "name": "stderr",
     "output_type": "stream",
     "text": [
      "tune_lambda_l1_and_lambda_l2, val_score: 0.480833:  65%|######5   | 13/20 [00:04<00:02,  2.63it/s]"
     ]
    },
    {
     "name": "stdout",
     "output_type": "stream",
     "text": [
      "Training until validation scores don't improve for 100 rounds\n",
      "[100]\ttraining's binary_logloss: 0.0279326\tvalid_1's binary_logloss: 0.685331\n",
      "Early stopping, best iteration is:\n",
      "[11]\ttraining's binary_logloss: 0.333671\tvalid_1's binary_logloss: 0.480838\n"
     ]
    },
    {
     "name": "stderr",
     "output_type": "stream",
     "text": [
      "tune_lambda_l1_and_lambda_l2, val_score: 0.480833:  70%|#######   | 14/20 [00:05<00:02,  2.71it/s]"
     ]
    },
    {
     "name": "stdout",
     "output_type": "stream",
     "text": [
      "Training until validation scores don't improve for 100 rounds\n",
      "[100]\ttraining's binary_logloss: 0.0279327\tvalid_1's binary_logloss: 0.68533\n",
      "Early stopping, best iteration is:\n",
      "[11]\ttraining's binary_logloss: 0.333671\tvalid_1's binary_logloss: 0.480838\n"
     ]
    },
    {
     "name": "stderr",
     "output_type": "stream",
     "text": [
      "tune_lambda_l1_and_lambda_l2, val_score: 0.480833:  75%|#######5  | 15/20 [00:05<00:01,  2.68it/s]"
     ]
    },
    {
     "name": "stdout",
     "output_type": "stream",
     "text": [
      "Training until validation scores don't improve for 100 rounds\n",
      "[100]\ttraining's binary_logloss: 0.0275853\tvalid_1's binary_logloss: 0.6763\n",
      "Early stopping, best iteration is:\n",
      "[11]\ttraining's binary_logloss: 0.333686\tvalid_1's binary_logloss: 0.480841\n"
     ]
    },
    {
     "name": "stderr",
     "output_type": "stream",
     "text": [
      "tune_lambda_l1_and_lambda_l2, val_score: 0.480833:  80%|########  | 16/20 [00:06<00:01,  2.45it/s]"
     ]
    },
    {
     "name": "stdout",
     "output_type": "stream",
     "text": [
      "Training until validation scores don't improve for 100 rounds\n",
      "[100]\ttraining's binary_logloss: 0.0327876\tvalid_1's binary_logloss: 0.691622\n",
      "Early stopping, best iteration is:\n",
      "[14]\ttraining's binary_logloss: 0.305535\tvalid_1's binary_logloss: 0.495837\n"
     ]
    },
    {
     "name": "stderr",
     "output_type": "stream",
     "text": [
      "tune_lambda_l1_and_lambda_l2, val_score: 0.480833:  85%|########5 | 17/20 [00:06<00:01,  2.49it/s]"
     ]
    },
    {
     "name": "stdout",
     "output_type": "stream",
     "text": [
      "Training until validation scores don't improve for 100 rounds\n",
      "[100]\ttraining's binary_logloss: 0.0277537\tvalid_1's binary_logloss: 0.688091\n",
      "Early stopping, best iteration is:\n",
      "[11]\ttraining's binary_logloss: 0.333678\tvalid_1's binary_logloss: 0.480839\n"
     ]
    },
    {
     "name": "stderr",
     "output_type": "stream",
     "text": [
      "tune_lambda_l1_and_lambda_l2, val_score: 0.480833:  90%|######### | 18/20 [00:06<00:00,  2.55it/s]"
     ]
    },
    {
     "name": "stdout",
     "output_type": "stream",
     "text": [
      "Training until validation scores don't improve for 100 rounds\n",
      "[100]\ttraining's binary_logloss: 0.0279326\tvalid_1's binary_logloss: 0.68533\n",
      "Early stopping, best iteration is:\n",
      "[11]\ttraining's binary_logloss: 0.333671\tvalid_1's binary_logloss: 0.480838\n"
     ]
    },
    {
     "name": "stderr",
     "output_type": "stream",
     "text": [
      "tune_lambda_l1_and_lambda_l2, val_score: 0.480833:  95%|#########5| 19/20 [00:07<00:00,  2.49it/s]"
     ]
    },
    {
     "name": "stdout",
     "output_type": "stream",
     "text": [
      "Training until validation scores don't improve for 100 rounds\n",
      "[100]\ttraining's binary_logloss: 0.0288085\tvalid_1's binary_logloss: 0.638056\n",
      "Early stopping, best iteration is:\n",
      "[11]\ttraining's binary_logloss: 0.333867\tvalid_1's binary_logloss: 0.480979\n"
     ]
    },
    {
     "name": "stderr",
     "output_type": "stream",
     "text": [
      "tune_lambda_l1_and_lambda_l2, val_score: 0.480833: 100%|##########| 20/20 [00:07<00:00,  2.57it/s]\n",
      "tune_min_child_samples, val_score: 0.480833:   0%|          | 0/5 [00:00<?, ?it/s]"
     ]
    },
    {
     "name": "stdout",
     "output_type": "stream",
     "text": [
      "Training until validation scores don't improve for 100 rounds\n",
      "[100]\ttraining's binary_logloss: 0.0195952\tvalid_1's binary_logloss: 0.735466\n",
      "Early stopping, best iteration is:\n",
      "[11]\ttraining's binary_logloss: 0.291948\tvalid_1's binary_logloss: 0.506269\n"
     ]
    },
    {
     "name": "stderr",
     "output_type": "stream",
     "text": [
      "tune_min_child_samples, val_score: 0.480833:  20%|##        | 1/5 [00:00<00:01,  2.95it/s]"
     ]
    },
    {
     "name": "stdout",
     "output_type": "stream",
     "text": [
      "Training until validation scores don't improve for 100 rounds\n",
      "[100]\ttraining's binary_logloss: 0.019587\tvalid_1's binary_logloss: 0.701833\n",
      "Early stopping, best iteration is:\n",
      "[9]\ttraining's binary_logloss: 0.327992\tvalid_1's binary_logloss: 0.502251\n"
     ]
    },
    {
     "name": "stderr",
     "output_type": "stream",
     "text": [
      "tune_min_child_samples, val_score: 0.480833:  40%|####      | 2/5 [00:00<00:01,  2.75it/s]"
     ]
    },
    {
     "name": "stdout",
     "output_type": "stream",
     "text": [
      "Training until validation scores don't improve for 100 rounds\n",
      "[100]\ttraining's binary_logloss: 0.0442739\tvalid_1's binary_logloss: 0.639997\n",
      "Early stopping, best iteration is:\n",
      "[13]\ttraining's binary_logloss: 0.335924\tvalid_1's binary_logloss: 0.489975\n"
     ]
    },
    {
     "name": "stderr",
     "output_type": "stream",
     "text": [
      "tune_min_child_samples, val_score: 0.480833:  60%|######    | 3/5 [00:01<00:00,  2.76it/s]"
     ]
    },
    {
     "name": "stdout",
     "output_type": "stream",
     "text": [
      "Training until validation scores don't improve for 100 rounds\n",
      "[100]\ttraining's binary_logloss: 0.158595\tvalid_1's binary_logloss: 0.52127\n",
      "Early stopping, best iteration is:\n",
      "[36]\ttraining's binary_logloss: 0.30362\tvalid_1's binary_logloss: 0.489912\n"
     ]
    },
    {
     "name": "stderr",
     "output_type": "stream",
     "text": [
      "tune_min_child_samples, val_score: 0.480833:  80%|########  | 4/5 [00:01<00:00,  2.66it/s]"
     ]
    },
    {
     "name": "stdout",
     "output_type": "stream",
     "text": [
      "Training until validation scores don't improve for 100 rounds\n",
      "[100]\ttraining's binary_logloss: 0.308205\tvalid_1's binary_logloss: 0.497597\n",
      "Early stopping, best iteration is:\n",
      "[49]\ttraining's binary_logloss: 0.375299\tvalid_1's binary_logloss: 0.486806\n"
     ]
    },
    {
     "name": "stderr",
     "output_type": "stream",
     "text": [
      "tune_min_child_samples, val_score: 0.480833: 100%|##########| 5/5 [00:01<00:00,  2.64it/s]\n"
     ]
    },
    {
     "name": "stdout",
     "output_type": "stream",
     "text": [
      "2020-03-24 14:11:09 Reply ********************************************************************************\n",
      "Reply\n",
      "n_pos_wanted 100\n",
      "2020-03-24 14:11:09 chunk 1\n",
      "2020-03-24 14:11:09 chunk 2\n",
      "2020-03-24 14:11:09 chunk 3\n",
      "2020-03-24 14:11:09 chunk 4\n",
      "dftrvl.shape: (1000, 95) dftrvl[tgtcol].mean(): 0.115\n",
      "{'train_pop': 4000, 'target_pop': 115, 'sampled_train_pop': 1000, 'sampled_target_pop': 115}\n",
      "{'objective': 'binary', 'metric': 'binary_logloss', 'verbosity': 1, 'boosting_type': 'gbdt'}\n"
     ]
    },
    {
     "name": "stderr",
     "output_type": "stream",
     "text": [
      "tune_feature_fraction, val_score: inf:   0%|          | 0/7 [00:00<?, ?it/s]"
     ]
    },
    {
     "name": "stdout",
     "output_type": "stream",
     "text": [
      "Training until validation scores don't improve for 100 rounds\n",
      "[100]\ttraining's binary_logloss: 0.01383\tvalid_1's binary_logloss: 0.470112\n",
      "Early stopping, best iteration is:\n",
      "[19]\ttraining's binary_logloss: 0.176904\tvalid_1's binary_logloss: 0.346715\n"
     ]
    },
    {
     "name": "stderr",
     "output_type": "stream",
     "text": [
      "tune_feature_fraction, val_score: 0.346715:  14%|#4        | 1/7 [00:00<00:02,  2.51it/s]"
     ]
    },
    {
     "name": "stdout",
     "output_type": "stream",
     "text": [
      "Training until validation scores don't improve for 100 rounds\n",
      "[100]\ttraining's binary_logloss: 0.0115501\tvalid_1's binary_logloss: 0.516453\n",
      "Early stopping, best iteration is:\n",
      "[19]\ttraining's binary_logloss: 0.170297\tvalid_1's binary_logloss: 0.339311\n"
     ]
    },
    {
     "name": "stderr",
     "output_type": "stream",
     "text": [
      "tune_feature_fraction, val_score: 0.339311:  29%|##8       | 2/7 [00:00<00:02,  2.49it/s]"
     ]
    },
    {
     "name": "stdout",
     "output_type": "stream",
     "text": [
      "Training until validation scores don't improve for 100 rounds\n",
      "[100]\ttraining's binary_logloss: 0.0104606\tvalid_1's binary_logloss: 0.472341\n",
      "Early stopping, best iteration is:\n",
      "[23]\ttraining's binary_logloss: 0.145188\tvalid_1's binary_logloss: 0.344381\n"
     ]
    },
    {
     "name": "stderr",
     "output_type": "stream",
     "text": [
      "tune_feature_fraction, val_score: 0.339311:  43%|####2     | 3/7 [00:01<00:01,  2.37it/s]"
     ]
    },
    {
     "name": "stdout",
     "output_type": "stream",
     "text": [
      "Training until validation scores don't improve for 100 rounds\n",
      "[100]\ttraining's binary_logloss: 0.00939285\tvalid_1's binary_logloss: 0.520264\n",
      "Early stopping, best iteration is:\n",
      "[15]\ttraining's binary_logloss: 0.191608\tvalid_1's binary_logloss: 0.342747\n"
     ]
    },
    {
     "name": "stderr",
     "output_type": "stream",
     "text": [
      "tune_feature_fraction, val_score: 0.339311:  57%|#####7    | 4/7 [00:01<00:01,  2.38it/s]"
     ]
    },
    {
     "name": "stdout",
     "output_type": "stream",
     "text": [
      "Training until validation scores don't improve for 100 rounds\n",
      "[100]\ttraining's binary_logloss: 0.00896017\tvalid_1's binary_logloss: 0.541328\n",
      "Early stopping, best iteration is:\n",
      "[8]\ttraining's binary_logloss: 0.25067\tvalid_1's binary_logloss: 0.349473\n"
     ]
    },
    {
     "name": "stderr",
     "output_type": "stream",
     "text": [
      "tune_feature_fraction, val_score: 0.339311:  71%|#######1  | 5/7 [00:02<00:00,  2.28it/s]"
     ]
    },
    {
     "name": "stdout",
     "output_type": "stream",
     "text": [
      "Training until validation scores don't improve for 100 rounds\n",
      "[100]\ttraining's binary_logloss: 0.00819072\tvalid_1's binary_logloss: 0.520081\n",
      "Early stopping, best iteration is:\n",
      "[11]\ttraining's binary_logloss: 0.222632\tvalid_1's binary_logloss: 0.345699\n"
     ]
    },
    {
     "name": "stderr",
     "output_type": "stream",
     "text": [
      "tune_feature_fraction, val_score: 0.339311:  86%|########5 | 6/7 [00:02<00:00,  2.34it/s]"
     ]
    },
    {
     "name": "stdout",
     "output_type": "stream",
     "text": [
      "Training until validation scores don't improve for 100 rounds\n",
      "[100]\ttraining's binary_logloss: 0.00793259\tvalid_1's binary_logloss: 0.567044\n",
      "Early stopping, best iteration is:\n",
      "[10]\ttraining's binary_logloss: 0.229001\tvalid_1's binary_logloss: 0.351802\n"
     ]
    },
    {
     "name": "stderr",
     "output_type": "stream",
     "text": [
      "tune_feature_fraction, val_score: 0.339311: 100%|##########| 7/7 [00:03<00:00,  2.26it/s]\n",
      "tune_num_leaves, val_score: 0.339311:   0%|          | 0/20 [00:00<?, ?it/s]"
     ]
    },
    {
     "name": "stdout",
     "output_type": "stream",
     "text": [
      "Training until validation scores don't improve for 100 rounds\n",
      "[100]\ttraining's binary_logloss: 0.219368\tvalid_1's binary_logloss: 0.328883\n",
      "Early stopping, best iteration is:\n",
      "[82]\ttraining's binary_logloss: 0.232589\tvalid_1's binary_logloss: 0.324814\n"
     ]
    },
    {
     "name": "stderr",
     "output_type": "stream",
     "text": [
      "tune_num_leaves, val_score: 0.324814:   5%|5         | 1/20 [00:00<00:02,  7.36it/s]"
     ]
    },
    {
     "name": "stdout",
     "output_type": "stream",
     "text": [
      "Training until validation scores don't improve for 100 rounds\n",
      "[100]\ttraining's binary_logloss: 0.0119282\tvalid_1's binary_logloss: 0.47274\n",
      "Early stopping, best iteration is:\n",
      "[19]\ttraining's binary_logloss: 0.170296\tvalid_1's binary_logloss: 0.339371\n"
     ]
    },
    {
     "name": "stderr",
     "output_type": "stream",
     "text": [
      "tune_num_leaves, val_score: 0.324814:  10%|#         | 2/20 [00:00<00:04,  4.13it/s]"
     ]
    },
    {
     "name": "stdout",
     "output_type": "stream",
     "text": [
      "Training until validation scores don't improve for 100 rounds\n",
      "[100]\ttraining's binary_logloss: 0.0119282\tvalid_1's binary_logloss: 0.47274\n",
      "Early stopping, best iteration is:\n",
      "[19]\ttraining's binary_logloss: 0.170296\tvalid_1's binary_logloss: 0.339371\n"
     ]
    },
    {
     "name": "stderr",
     "output_type": "stream",
     "text": [
      "tune_num_leaves, val_score: 0.324814:  15%|#5        | 3/20 [00:01<00:05,  3.29it/s]"
     ]
    },
    {
     "name": "stdout",
     "output_type": "stream",
     "text": [
      "Training until validation scores don't improve for 100 rounds\n",
      "[100]\ttraining's binary_logloss: 0.0119282\tvalid_1's binary_logloss: 0.47274\n",
      "Early stopping, best iteration is:\n",
      "[19]\ttraining's binary_logloss: 0.170296\tvalid_1's binary_logloss: 0.339371\n"
     ]
    },
    {
     "name": "stderr",
     "output_type": "stream",
     "text": [
      "tune_num_leaves, val_score: 0.324814:  20%|##        | 4/20 [00:01<00:05,  2.85it/s]"
     ]
    },
    {
     "name": "stdout",
     "output_type": "stream",
     "text": [
      "Training until validation scores don't improve for 100 rounds\n",
      "[100]\ttraining's binary_logloss: 0.0119282\tvalid_1's binary_logloss: 0.47274\n",
      "Early stopping, best iteration is:\n",
      "[19]\ttraining's binary_logloss: 0.170296\tvalid_1's binary_logloss: 0.339371\n"
     ]
    },
    {
     "name": "stderr",
     "output_type": "stream",
     "text": [
      "tune_num_leaves, val_score: 0.324814:  25%|##5       | 5/20 [00:02<00:05,  2.61it/s]"
     ]
    },
    {
     "name": "stdout",
     "output_type": "stream",
     "text": [
      "Training until validation scores don't improve for 100 rounds\n",
      "[100]\ttraining's binary_logloss: 0.0784297\tvalid_1's binary_logloss: 0.376717\n",
      "Early stopping, best iteration is:\n",
      "[45]\ttraining's binary_logloss: 0.154709\tvalid_1's binary_logloss: 0.332194\n"
     ]
    },
    {
     "name": "stderr",
     "output_type": "stream",
     "text": [
      "tune_num_leaves, val_score: 0.324814:  30%|###       | 6/20 [00:02<00:05,  2.65it/s]"
     ]
    },
    {
     "name": "stdout",
     "output_type": "stream",
     "text": [
      "Training until validation scores don't improve for 100 rounds\n",
      "[100]\ttraining's binary_logloss: 0.0119282\tvalid_1's binary_logloss: 0.47274\n",
      "Early stopping, best iteration is:\n",
      "[19]\ttraining's binary_logloss: 0.170296\tvalid_1's binary_logloss: 0.339371\n"
     ]
    },
    {
     "name": "stderr",
     "output_type": "stream",
     "text": [
      "tune_num_leaves, val_score: 0.324814:  35%|###5      | 7/20 [00:02<00:05,  2.48it/s]"
     ]
    },
    {
     "name": "stdout",
     "output_type": "stream",
     "text": [
      "Training until validation scores don't improve for 100 rounds\n",
      "[100]\ttraining's binary_logloss: 0.0119282\tvalid_1's binary_logloss: 0.47274\n",
      "Early stopping, best iteration is:\n",
      "[19]\ttraining's binary_logloss: 0.170296\tvalid_1's binary_logloss: 0.339371\n"
     ]
    },
    {
     "name": "stderr",
     "output_type": "stream",
     "text": [
      "tune_num_leaves, val_score: 0.324814:  40%|####      | 8/20 [00:03<00:05,  2.38it/s]"
     ]
    },
    {
     "name": "stdout",
     "output_type": "stream",
     "text": [
      "Training until validation scores don't improve for 100 rounds\n",
      "[100]\ttraining's binary_logloss: 0.0210132\tvalid_1's binary_logloss: 0.464143\n",
      "Early stopping, best iteration is:\n",
      "[9]\ttraining's binary_logloss: 0.249934\tvalid_1's binary_logloss: 0.339535\n"
     ]
    },
    {
     "name": "stderr",
     "output_type": "stream",
     "text": [
      "tune_num_leaves, val_score: 0.324814:  45%|####5     | 9/20 [00:03<00:04,  2.53it/s]"
     ]
    },
    {
     "name": "stdout",
     "output_type": "stream",
     "text": [
      "Training until validation scores don't improve for 100 rounds\n",
      "[100]\ttraining's binary_logloss: 0.0119282\tvalid_1's binary_logloss: 0.47274\n",
      "Early stopping, best iteration is:\n",
      "[19]\ttraining's binary_logloss: 0.170296\tvalid_1's binary_logloss: 0.339371\n"
     ]
    },
    {
     "name": "stderr",
     "output_type": "stream",
     "text": [
      "tune_num_leaves, val_score: 0.324814:  50%|#####     | 10/20 [00:04<00:04,  2.38it/s]"
     ]
    },
    {
     "name": "stdout",
     "output_type": "stream",
     "text": [
      "Training until validation scores don't improve for 100 rounds\n",
      "[100]\ttraining's binary_logloss: 0.0119282\tvalid_1's binary_logloss: 0.47274\n",
      "Early stopping, best iteration is:\n",
      "[19]\ttraining's binary_logloss: 0.170296\tvalid_1's binary_logloss: 0.339371\n"
     ]
    },
    {
     "name": "stderr",
     "output_type": "stream",
     "text": [
      "tune_num_leaves, val_score: 0.324814:  55%|#####5    | 11/20 [00:04<00:03,  2.31it/s]"
     ]
    },
    {
     "name": "stdout",
     "output_type": "stream",
     "text": [
      "Training until validation scores don't improve for 100 rounds\n",
      "[100]\ttraining's binary_logloss: 0.256736\tvalid_1's binary_logloss: 0.305971\n",
      "Early stopping, best iteration is:\n",
      "[95]\ttraining's binary_logloss: 0.258724\tvalid_1's binary_logloss: 0.305197\n"
     ]
    },
    {
     "name": "stderr",
     "output_type": "stream",
     "text": [
      "tune_num_leaves, val_score: 0.305197:  60%|######    | 12/20 [00:04<00:03,  2.63it/s]"
     ]
    },
    {
     "name": "stdout",
     "output_type": "stream",
     "text": [
      "Training until validation scores don't improve for 100 rounds\n",
      "[100]\ttraining's binary_logloss: 0.0784297\tvalid_1's binary_logloss: 0.376717\n",
      "Early stopping, best iteration is:\n",
      "[45]\ttraining's binary_logloss: 0.154709\tvalid_1's binary_logloss: 0.332194\n"
     ]
    },
    {
     "name": "stderr",
     "output_type": "stream",
     "text": [
      "tune_num_leaves, val_score: 0.305197:  65%|######5   | 13/20 [00:05<00:02,  2.77it/s]"
     ]
    },
    {
     "name": "stdout",
     "output_type": "stream",
     "text": [
      "Training until validation scores don't improve for 100 rounds\n",
      "[100]\ttraining's binary_logloss: 0.0119282\tvalid_1's binary_logloss: 0.47274\n",
      "Early stopping, best iteration is:\n",
      "[19]\ttraining's binary_logloss: 0.170296\tvalid_1's binary_logloss: 0.339371\n"
     ]
    },
    {
     "name": "stderr",
     "output_type": "stream",
     "text": [
      "tune_num_leaves, val_score: 0.305197:  70%|#######   | 14/20 [00:05<00:02,  2.29it/s]"
     ]
    },
    {
     "name": "stdout",
     "output_type": "stream",
     "text": [
      "Training until validation scores don't improve for 100 rounds\n",
      "[100]\ttraining's binary_logloss: 0.0119282\tvalid_1's binary_logloss: 0.47274\n",
      "Early stopping, best iteration is:\n",
      "[19]\ttraining's binary_logloss: 0.170296\tvalid_1's binary_logloss: 0.339371\n"
     ]
    },
    {
     "name": "stderr",
     "output_type": "stream",
     "text": [
      "tune_num_leaves, val_score: 0.305197:  75%|#######5  | 15/20 [00:06<00:02,  2.21it/s]"
     ]
    },
    {
     "name": "stdout",
     "output_type": "stream",
     "text": [
      "Training until validation scores don't improve for 100 rounds\n",
      "[100]\ttraining's binary_logloss: 0.0119282\tvalid_1's binary_logloss: 0.47274\n",
      "Early stopping, best iteration is:\n",
      "[19]\ttraining's binary_logloss: 0.170296\tvalid_1's binary_logloss: 0.339371\n"
     ]
    },
    {
     "name": "stderr",
     "output_type": "stream",
     "text": [
      "tune_num_leaves, val_score: 0.305197:  80%|########  | 16/20 [00:06<00:01,  2.16it/s]"
     ]
    },
    {
     "name": "stdout",
     "output_type": "stream",
     "text": [
      "Training until validation scores don't improve for 100 rounds\n",
      "[100]\ttraining's binary_logloss: 0.256736\tvalid_1's binary_logloss: 0.305971\n",
      "Early stopping, best iteration is:\n",
      "[95]\ttraining's binary_logloss: 0.258724\tvalid_1's binary_logloss: 0.305197\n"
     ]
    },
    {
     "name": "stderr",
     "output_type": "stream",
     "text": [
      "tune_num_leaves, val_score: 0.305197:  85%|########5 | 17/20 [00:07<00:01,  2.42it/s]"
     ]
    },
    {
     "name": "stdout",
     "output_type": "stream",
     "text": [
      "Training until validation scores don't improve for 100 rounds\n",
      "[100]\ttraining's binary_logloss: 0.0119282\tvalid_1's binary_logloss: 0.47274\n",
      "Early stopping, best iteration is:\n",
      "[19]\ttraining's binary_logloss: 0.170296\tvalid_1's binary_logloss: 0.339371\n"
     ]
    },
    {
     "name": "stderr",
     "output_type": "stream",
     "text": [
      "tune_num_leaves, val_score: 0.305197:  90%|######### | 18/20 [00:07<00:00,  2.34it/s]"
     ]
    },
    {
     "name": "stdout",
     "output_type": "stream",
     "text": [
      "Training until validation scores don't improve for 100 rounds\n",
      "[100]\ttraining's binary_logloss: 0.011712\tvalid_1's binary_logloss: 0.489092\n",
      "Early stopping, best iteration is:\n",
      "[19]\ttraining's binary_logloss: 0.170297\tvalid_1's binary_logloss: 0.339362\n"
     ]
    },
    {
     "name": "stderr",
     "output_type": "stream",
     "text": [
      "tune_num_leaves, val_score: 0.305197:  95%|#########5| 19/20 [00:08<00:00,  2.32it/s]"
     ]
    },
    {
     "name": "stdout",
     "output_type": "stream",
     "text": [
      "Training until validation scores don't improve for 100 rounds\n",
      "[100]\ttraining's binary_logloss: 0.0119282\tvalid_1's binary_logloss: 0.47274\n",
      "Early stopping, best iteration is:\n",
      "[19]\ttraining's binary_logloss: 0.170296\tvalid_1's binary_logloss: 0.339371\n"
     ]
    },
    {
     "name": "stderr",
     "output_type": "stream",
     "text": [
      "tune_num_leaves, val_score: 0.305197: 100%|##########| 20/20 [00:08<00:00,  2.35it/s]\n",
      "tune_bagging_fraction_and_bagging_freq, val_score: 0.305197:   0%|          | 0/10 [00:00<?, ?it/s]"
     ]
    },
    {
     "name": "stdout",
     "output_type": "stream",
     "text": [
      "Training until validation scores don't improve for 100 rounds\n",
      "[100]\ttraining's binary_logloss: 0.249918\tvalid_1's binary_logloss: 0.318813\n",
      "Early stopping, best iteration is:\n",
      "[53]\ttraining's binary_logloss: 0.27646\tvalid_1's binary_logloss: 0.312805\n"
     ]
    },
    {
     "name": "stderr",
     "output_type": "stream",
     "text": [
      "tune_bagging_fraction_and_bagging_freq, val_score: 0.305197:  10%|#         | 1/10 [00:00<00:01,  5.19it/s]"
     ]
    },
    {
     "name": "stdout",
     "output_type": "stream",
     "text": [
      "Training until validation scores don't improve for 100 rounds\n",
      "[100]\ttraining's binary_logloss: 0.250961\tvalid_1's binary_logloss: 0.312063\n",
      "Early stopping, best iteration is:\n",
      "[81]\ttraining's binary_logloss: 0.261315\tvalid_1's binary_logloss: 0.308803\n"
     ]
    },
    {
     "name": "stderr",
     "output_type": "stream",
     "text": [
      "tune_bagging_fraction_and_bagging_freq, val_score: 0.305197:  20%|##        | 2/10 [00:00<00:01,  4.73it/s]"
     ]
    },
    {
     "name": "stdout",
     "output_type": "stream",
     "text": [
      "Training until validation scores don't improve for 100 rounds\n",
      "[100]\ttraining's binary_logloss: 0.25215\tvalid_1's binary_logloss: 0.30763\n",
      "[200]\ttraining's binary_logloss: 0.208467\tvalid_1's binary_logloss: 0.307338\n",
      "Early stopping, best iteration is:\n",
      "[166]\ttraining's binary_logloss: 0.221629\tvalid_1's binary_logloss: 0.303816\n"
     ]
    },
    {
     "name": "stderr",
     "output_type": "stream",
     "text": [
      "tune_bagging_fraction_and_bagging_freq, val_score: 0.303816:  30%|###       | 3/10 [00:00<00:01,  4.05it/s]"
     ]
    },
    {
     "name": "stdout",
     "output_type": "stream",
     "text": [
      "Training until validation scores don't improve for 100 rounds\n",
      "[100]\ttraining's binary_logloss: 0.252769\tvalid_1's binary_logloss: 0.318854\n",
      "Early stopping, best iteration is:\n",
      "[83]\ttraining's binary_logloss: 0.261626\tvalid_1's binary_logloss: 0.316226\n"
     ]
    },
    {
     "name": "stderr",
     "output_type": "stream",
     "text": [
      "tune_bagging_fraction_and_bagging_freq, val_score: 0.303816:  40%|####      | 4/10 [00:01<00:01,  4.04it/s]"
     ]
    },
    {
     "name": "stdout",
     "output_type": "stream",
     "text": [
      "Training until validation scores don't improve for 100 rounds\n",
      "[100]\ttraining's binary_logloss: 0.249431\tvalid_1's binary_logloss: 0.320347\n",
      "[200]\ttraining's binary_logloss: 0.204658\tvalid_1's binary_logloss: 0.33619\n",
      "Early stopping, best iteration is:\n",
      "[104]\ttraining's binary_logloss: 0.246883\tvalid_1's binary_logloss: 0.317144\n"
     ]
    },
    {
     "name": "stderr",
     "output_type": "stream",
     "text": [
      "tune_bagging_fraction_and_bagging_freq, val_score: 0.303816:  50%|#####     | 5/10 [00:01<00:01,  3.96it/s]"
     ]
    },
    {
     "name": "stdout",
     "output_type": "stream",
     "text": [
      "Training until validation scores don't improve for 100 rounds\n",
      "[100]\ttraining's binary_logloss: 0.252261\tvalid_1's binary_logloss: 0.320061\n",
      "Early stopping, best iteration is:\n",
      "[74]\ttraining's binary_logloss: 0.266088\tvalid_1's binary_logloss: 0.317666\n"
     ]
    },
    {
     "name": "stderr",
     "output_type": "stream",
     "text": [
      "tune_bagging_fraction_and_bagging_freq, val_score: 0.303816:  60%|######    | 6/10 [00:01<00:01,  3.90it/s]"
     ]
    },
    {
     "name": "stdout",
     "output_type": "stream",
     "text": [
      "Training until validation scores don't improve for 100 rounds\n",
      "[100]\ttraining's binary_logloss: 0.25141\tvalid_1's binary_logloss: 0.320908\n",
      "Early stopping, best iteration is:\n",
      "[71]\ttraining's binary_logloss: 0.267575\tvalid_1's binary_logloss: 0.316694\n"
     ]
    },
    {
     "name": "stderr",
     "output_type": "stream",
     "text": [
      "tune_bagging_fraction_and_bagging_freq, val_score: 0.303816:  70%|#######   | 7/10 [00:02<00:00,  3.25it/s]"
     ]
    },
    {
     "name": "stdout",
     "output_type": "stream",
     "text": [
      "Training until validation scores don't improve for 100 rounds\n",
      "[100]\ttraining's binary_logloss: 0.259649\tvalid_1's binary_logloss: 0.322988\n",
      "Early stopping, best iteration is:\n",
      "[61]\ttraining's binary_logloss: 0.287152\tvalid_1's binary_logloss: 0.306736\n"
     ]
    },
    {
     "name": "stderr",
     "output_type": "stream",
     "text": [
      "tune_bagging_fraction_and_bagging_freq, val_score: 0.303816:  80%|########  | 8/10 [00:02<00:00,  3.50it/s]"
     ]
    },
    {
     "name": "stdout",
     "output_type": "stream",
     "text": [
      "Training until validation scores don't improve for 100 rounds\n",
      "[100]\ttraining's binary_logloss: 0.246012\tvalid_1's binary_logloss: 0.320031\n",
      "Early stopping, best iteration is:\n",
      "[64]\ttraining's binary_logloss: 0.26795\tvalid_1's binary_logloss: 0.315276\n"
     ]
    },
    {
     "name": "stderr",
     "output_type": "stream",
     "text": [
      "tune_bagging_fraction_and_bagging_freq, val_score: 0.303816:  90%|######### | 9/10 [00:02<00:00,  3.68it/s]"
     ]
    },
    {
     "name": "stdout",
     "output_type": "stream",
     "text": [
      "Training until validation scores don't improve for 100 rounds\n",
      "[100]\ttraining's binary_logloss: 0.252574\tvalid_1's binary_logloss: 0.322699\n",
      "[200]\ttraining's binary_logloss: 0.209807\tvalid_1's binary_logloss: 0.334037\n",
      "Early stopping, best iteration is:\n",
      "[116]\ttraining's binary_logloss: 0.242194\tvalid_1's binary_logloss: 0.31934\n"
     ]
    },
    {
     "name": "stderr",
     "output_type": "stream",
     "text": [
      "tune_bagging_fraction_and_bagging_freq, val_score: 0.303816: 100%|##########| 10/10 [00:02<00:00,  3.52it/s]\n",
      "tune_feature_fraction, val_score: 0.303816:   0%|          | 0/6 [00:00<?, ?it/s]"
     ]
    },
    {
     "name": "stdout",
     "output_type": "stream",
     "text": [
      "Training until validation scores don't improve for 100 rounds\n",
      "[100]\ttraining's binary_logloss: 0.252401\tvalid_1's binary_logloss: 0.309166\n",
      "[200]\ttraining's binary_logloss: 0.208302\tvalid_1's binary_logloss: 0.303582\n",
      "Early stopping, best iteration is:\n",
      "[169]\ttraining's binary_logloss: 0.220649\tvalid_1's binary_logloss: 0.29979\n"
     ]
    },
    {
     "name": "stderr",
     "output_type": "stream",
     "text": [
      "tune_feature_fraction, val_score: 0.299790:  17%|#6        | 1/6 [00:00<00:00,  5.20it/s]"
     ]
    },
    {
     "name": "stdout",
     "output_type": "stream",
     "text": [
      "Training until validation scores don't improve for 100 rounds\n",
      "[100]\ttraining's binary_logloss: 0.252289\tvalid_1's binary_logloss: 0.306999\n",
      "[200]\ttraining's binary_logloss: 0.209788\tvalid_1's binary_logloss: 0.310238\n",
      "Early stopping, best iteration is:\n",
      "[110]\ttraining's binary_logloss: 0.246513\tvalid_1's binary_logloss: 0.304646\n"
     ]
    },
    {
     "name": "stderr",
     "output_type": "stream",
     "text": [
      "tune_feature_fraction, val_score: 0.299790:  33%|###3      | 2/6 [00:00<00:00,  4.35it/s]"
     ]
    },
    {
     "name": "stdout",
     "output_type": "stream",
     "text": [
      "Training until validation scores don't improve for 100 rounds\n",
      "[100]\ttraining's binary_logloss: 0.252591\tvalid_1's binary_logloss: 0.313702\n",
      "Early stopping, best iteration is:\n",
      "[72]\ttraining's binary_logloss: 0.268161\tvalid_1's binary_logloss: 0.31045\n"
     ]
    },
    {
     "name": "stderr",
     "output_type": "stream",
     "text": [
      "tune_feature_fraction, val_score: 0.299790:  50%|#####     | 3/6 [00:00<00:00,  4.23it/s]"
     ]
    },
    {
     "name": "stdout",
     "output_type": "stream",
     "text": [
      "Training until validation scores don't improve for 100 rounds\n",
      "[100]\ttraining's binary_logloss: 0.25215\tvalid_1's binary_logloss: 0.30763\n",
      "[200]\ttraining's binary_logloss: 0.208467\tvalid_1's binary_logloss: 0.307338\n",
      "Early stopping, best iteration is:\n",
      "[166]\ttraining's binary_logloss: 0.221629\tvalid_1's binary_logloss: 0.303816\n"
     ]
    },
    {
     "name": "stderr",
     "output_type": "stream",
     "text": [
      "tune_feature_fraction, val_score: 0.299790:  67%|######6   | 4/6 [00:01<00:00,  3.93it/s]"
     ]
    },
    {
     "name": "stdout",
     "output_type": "stream",
     "text": [
      "Training until validation scores don't improve for 100 rounds\n",
      "[100]\ttraining's binary_logloss: 0.251462\tvalid_1's binary_logloss: 0.308995\n",
      "[200]\ttraining's binary_logloss: 0.209437\tvalid_1's binary_logloss: 0.310366\n",
      "Early stopping, best iteration is:\n",
      "[190]\ttraining's binary_logloss: 0.212636\tvalid_1's binary_logloss: 0.305483\n"
     ]
    },
    {
     "name": "stderr",
     "output_type": "stream",
     "text": [
      "tune_feature_fraction, val_score: 0.299790:  83%|########3 | 5/6 [00:01<00:00,  3.70it/s]"
     ]
    },
    {
     "name": "stdout",
     "output_type": "stream",
     "text": [
      "Training until validation scores don't improve for 100 rounds\n",
      "[100]\ttraining's binary_logloss: 0.251794\tvalid_1's binary_logloss: 0.315699\n",
      "[200]\ttraining's binary_logloss: 0.206825\tvalid_1's binary_logloss: 0.319797\n",
      "Early stopping, best iteration is:\n",
      "[111]\ttraining's binary_logloss: 0.245501\tvalid_1's binary_logloss: 0.311987\n"
     ]
    },
    {
     "name": "stderr",
     "output_type": "stream",
     "text": [
      "tune_feature_fraction, val_score: 0.299790: 100%|##########| 6/6 [00:01<00:00,  3.43it/s]\n",
      "tune_lambda_l1_and_lambda_l2, val_score: 0.299790:   0%|          | 0/20 [00:00<?, ?it/s]"
     ]
    },
    {
     "name": "stdout",
     "output_type": "stream",
     "text": [
      "Training until validation scores don't improve for 100 rounds\n",
      "[100]\ttraining's binary_logloss: 0.252404\tvalid_1's binary_logloss: 0.309167\n",
      "[200]\ttraining's binary_logloss: 0.208308\tvalid_1's binary_logloss: 0.303582\n",
      "Early stopping, best iteration is:\n",
      "[169]\ttraining's binary_logloss: 0.220655\tvalid_1's binary_logloss: 0.299791\n"
     ]
    },
    {
     "name": "stderr",
     "output_type": "stream",
     "text": [
      "tune_lambda_l1_and_lambda_l2, val_score: 0.299790:   5%|5         | 1/20 [00:00<00:03,  5.62it/s]"
     ]
    },
    {
     "name": "stdout",
     "output_type": "stream",
     "text": [
      "Training until validation scores don't improve for 100 rounds\n",
      "[100]\ttraining's binary_logloss: 0.253112\tvalid_1's binary_logloss: 0.312551\n",
      "[200]\ttraining's binary_logloss: 0.209136\tvalid_1's binary_logloss: 0.310079\n",
      "Early stopping, best iteration is:\n",
      "[192]\ttraining's binary_logloss: 0.212767\tvalid_1's binary_logloss: 0.307811\n"
     ]
    },
    {
     "name": "stderr",
     "output_type": "stream",
     "text": [
      "tune_lambda_l1_and_lambda_l2, val_score: 0.299790:  10%|#         | 2/20 [00:00<00:04,  4.21it/s]"
     ]
    },
    {
     "name": "stdout",
     "output_type": "stream",
     "text": [
      "Training until validation scores don't improve for 100 rounds\n",
      "[100]\ttraining's binary_logloss: 0.314888\tvalid_1's binary_logloss: 0.329422\n",
      "Early stopping, best iteration is:\n",
      "[77]\ttraining's binary_logloss: 0.314888\tvalid_1's binary_logloss: 0.329422\n"
     ]
    },
    {
     "name": "stderr",
     "output_type": "stream",
     "text": [
      "tune_lambda_l1_and_lambda_l2, val_score: 0.299790:  15%|#5        | 3/20 [00:00<00:04,  3.96it/s]"
     ]
    },
    {
     "name": "stdout",
     "output_type": "stream",
     "text": [
      "Training until validation scores don't improve for 100 rounds\n",
      "[100]\ttraining's binary_logloss: 0.252401\tvalid_1's binary_logloss: 0.309166\n",
      "[200]\ttraining's binary_logloss: 0.208302\tvalid_1's binary_logloss: 0.303582\n",
      "Early stopping, best iteration is:\n",
      "[169]\ttraining's binary_logloss: 0.220649\tvalid_1's binary_logloss: 0.29979\n"
     ]
    },
    {
     "name": "stderr",
     "output_type": "stream",
     "text": [
      "tune_lambda_l1_and_lambda_l2, val_score: 0.299790:  20%|##        | 4/20 [00:01<00:04,  3.80it/s]"
     ]
    },
    {
     "name": "stdout",
     "output_type": "stream",
     "text": [
      "Training until validation scores don't improve for 100 rounds\n",
      "[100]\ttraining's binary_logloss: 0.256519\tvalid_1's binary_logloss: 0.311822\n",
      "[200]\ttraining's binary_logloss: 0.213408\tvalid_1's binary_logloss: 0.314506\n",
      "Early stopping, best iteration is:\n",
      "[153]\ttraining's binary_logloss: 0.231673\tvalid_1's binary_logloss: 0.308097\n"
     ]
    },
    {
     "name": "stderr",
     "output_type": "stream",
     "text": [
      "tune_lambda_l1_and_lambda_l2, val_score: 0.299790:  25%|##5       | 5/20 [00:01<00:04,  3.61it/s]"
     ]
    },
    {
     "name": "stdout",
     "output_type": "stream",
     "text": [
      "Training until validation scores don't improve for 100 rounds\n",
      "[100]\ttraining's binary_logloss: 0.252402\tvalid_1's binary_logloss: 0.309166\n",
      "[200]\ttraining's binary_logloss: 0.208303\tvalid_1's binary_logloss: 0.303582\n",
      "Early stopping, best iteration is:\n",
      "[169]\ttraining's binary_logloss: 0.220651\tvalid_1's binary_logloss: 0.29979\n"
     ]
    },
    {
     "name": "stderr",
     "output_type": "stream",
     "text": [
      "tune_lambda_l1_and_lambda_l2, val_score: 0.299790:  30%|###       | 6/20 [00:01<00:03,  3.50it/s]"
     ]
    },
    {
     "name": "stdout",
     "output_type": "stream",
     "text": [
      "Training until validation scores don't improve for 100 rounds\n",
      "[100]\ttraining's binary_logloss: 0.252406\tvalid_1's binary_logloss: 0.309167\n",
      "[200]\ttraining's binary_logloss: 0.20831\tvalid_1's binary_logloss: 0.303582\n",
      "Early stopping, best iteration is:\n",
      "[169]\ttraining's binary_logloss: 0.220657\tvalid_1's binary_logloss: 0.299792\n"
     ]
    },
    {
     "name": "stderr",
     "output_type": "stream",
     "text": [
      "tune_lambda_l1_and_lambda_l2, val_score: 0.299790:  35%|###5      | 7/20 [00:02<00:03,  3.31it/s]"
     ]
    },
    {
     "name": "stdout",
     "output_type": "stream",
     "text": [
      "Training until validation scores don't improve for 100 rounds\n",
      "[100]\ttraining's binary_logloss: 0.252407\tvalid_1's binary_logloss: 0.309168\n",
      "[200]\ttraining's binary_logloss: 0.208311\tvalid_1's binary_logloss: 0.303582\n",
      "Early stopping, best iteration is:\n",
      "[169]\ttraining's binary_logloss: 0.220658\tvalid_1's binary_logloss: 0.299792\n"
     ]
    },
    {
     "name": "stderr",
     "output_type": "stream",
     "text": [
      "tune_lambda_l1_and_lambda_l2, val_score: 0.299790:  40%|####      | 8/20 [00:02<00:03,  3.32it/s]"
     ]
    },
    {
     "name": "stdout",
     "output_type": "stream",
     "text": [
      "Training until validation scores don't improve for 100 rounds\n",
      "[100]\ttraining's binary_logloss: 0.25501\tvalid_1's binary_logloss: 0.309767\n",
      "[200]\ttraining's binary_logloss: 0.211233\tvalid_1's binary_logloss: 0.308532\n",
      "Early stopping, best iteration is:\n",
      "[112]\ttraining's binary_logloss: 0.248681\tvalid_1's binary_logloss: 0.304518\n"
     ]
    },
    {
     "name": "stderr",
     "output_type": "stream",
     "text": [
      "tune_lambda_l1_and_lambda_l2, val_score: 0.299790:  45%|####5     | 9/20 [00:02<00:03,  3.43it/s]"
     ]
    },
    {
     "name": "stdout",
     "output_type": "stream",
     "text": [
      "Training until validation scores don't improve for 100 rounds\n",
      "[100]\ttraining's binary_logloss: 0.253833\tvalid_1's binary_logloss: 0.310123\n",
      "[200]\ttraining's binary_logloss: 0.210167\tvalid_1's binary_logloss: 0.304979\n",
      "Early stopping, best iteration is:\n",
      "[188]\ttraining's binary_logloss: 0.214896\tvalid_1's binary_logloss: 0.30094\n"
     ]
    },
    {
     "name": "stderr",
     "output_type": "stream",
     "text": [
      "tune_lambda_l1_and_lambda_l2, val_score: 0.299790:  50%|#####     | 10/20 [00:03<00:02,  3.37it/s]"
     ]
    },
    {
     "name": "stdout",
     "output_type": "stream",
     "text": [
      "Training until validation scores don't improve for 100 rounds\n",
      "[100]\ttraining's binary_logloss: 0.252401\tvalid_1's binary_logloss: 0.309166\n",
      "[200]\ttraining's binary_logloss: 0.208302\tvalid_1's binary_logloss: 0.303582\n",
      "Early stopping, best iteration is:\n",
      "[169]\ttraining's binary_logloss: 0.220649\tvalid_1's binary_logloss: 0.29979\n"
     ]
    },
    {
     "name": "stderr",
     "output_type": "stream",
     "text": [
      "tune_lambda_l1_and_lambda_l2, val_score: 0.299790:  55%|#####5    | 11/20 [00:03<00:02,  3.32it/s]"
     ]
    },
    {
     "name": "stdout",
     "output_type": "stream",
     "text": [
      "Training until validation scores don't improve for 100 rounds\n",
      "[100]\ttraining's binary_logloss: 0.252401\tvalid_1's binary_logloss: 0.309166\n",
      "[200]\ttraining's binary_logloss: 0.208302\tvalid_1's binary_logloss: 0.303582\n",
      "Early stopping, best iteration is:\n",
      "[169]\ttraining's binary_logloss: 0.220649\tvalid_1's binary_logloss: 0.29979\n"
     ]
    },
    {
     "name": "stderr",
     "output_type": "stream",
     "text": [
      "tune_lambda_l1_and_lambda_l2, val_score: 0.299790:  60%|######    | 12/20 [00:03<00:02,  3.07it/s]"
     ]
    },
    {
     "name": "stdout",
     "output_type": "stream",
     "text": [
      "Training until validation scores don't improve for 100 rounds\n",
      "[100]\ttraining's binary_logloss: 0.252401\tvalid_1's binary_logloss: 0.309166\n",
      "[200]\ttraining's binary_logloss: 0.208302\tvalid_1's binary_logloss: 0.303582\n",
      "Early stopping, best iteration is:\n",
      "[169]\ttraining's binary_logloss: 0.220649\tvalid_1's binary_logloss: 0.29979\n"
     ]
    },
    {
     "name": "stderr",
     "output_type": "stream",
     "text": [
      "tune_lambda_l1_and_lambda_l2, val_score: 0.299790:  65%|######5   | 13/20 [00:04<00:02,  3.11it/s]"
     ]
    },
    {
     "name": "stdout",
     "output_type": "stream",
     "text": [
      "Training until validation scores don't improve for 100 rounds\n",
      "[100]\ttraining's binary_logloss: 0.252401\tvalid_1's binary_logloss: 0.309166\n",
      "[200]\ttraining's binary_logloss: 0.208302\tvalid_1's binary_logloss: 0.303582\n",
      "Early stopping, best iteration is:\n",
      "[169]\ttraining's binary_logloss: 0.220649\tvalid_1's binary_logloss: 0.29979\n"
     ]
    },
    {
     "name": "stderr",
     "output_type": "stream",
     "text": [
      "tune_lambda_l1_and_lambda_l2, val_score: 0.299790:  70%|#######   | 14/20 [00:04<00:01,  3.09it/s]"
     ]
    },
    {
     "name": "stdout",
     "output_type": "stream",
     "text": [
      "Training until validation scores don't improve for 100 rounds\n",
      "[100]\ttraining's binary_logloss: 0.276195\tvalid_1's binary_logloss: 0.321754\n",
      "[200]\ttraining's binary_logloss: 0.245182\tvalid_1's binary_logloss: 0.326028\n",
      "Early stopping, best iteration is:\n",
      "[128]\ttraining's binary_logloss: 0.266529\tvalid_1's binary_logloss: 0.317907\n"
     ]
    },
    {
     "name": "stderr",
     "output_type": "stream",
     "text": [
      "tune_lambda_l1_and_lambda_l2, val_score: 0.299790:  75%|#######5  | 15/20 [00:04<00:01,  3.20it/s]"
     ]
    },
    {
     "name": "stdout",
     "output_type": "stream",
     "text": [
      "Training until validation scores don't improve for 100 rounds\n",
      "[100]\ttraining's binary_logloss: 0.252401\tvalid_1's binary_logloss: 0.309166\n",
      "[200]\ttraining's binary_logloss: 0.208302\tvalid_1's binary_logloss: 0.303582\n",
      "Early stopping, best iteration is:\n",
      "[169]\ttraining's binary_logloss: 0.220649\tvalid_1's binary_logloss: 0.29979\n"
     ]
    },
    {
     "name": "stderr",
     "output_type": "stream",
     "text": [
      "tune_lambda_l1_and_lambda_l2, val_score: 0.299790:  80%|########  | 16/20 [00:05<00:01,  3.23it/s]"
     ]
    },
    {
     "name": "stdout",
     "output_type": "stream",
     "text": [
      "Training until validation scores don't improve for 100 rounds\n",
      "[100]\ttraining's binary_logloss: 0.252401\tvalid_1's binary_logloss: 0.309166\n",
      "[200]\ttraining's binary_logloss: 0.208302\tvalid_1's binary_logloss: 0.303582\n",
      "Early stopping, best iteration is:\n",
      "[169]\ttraining's binary_logloss: 0.220649\tvalid_1's binary_logloss: 0.29979\n"
     ]
    },
    {
     "name": "stderr",
     "output_type": "stream",
     "text": [
      "tune_lambda_l1_and_lambda_l2, val_score: 0.299790:  85%|########5 | 17/20 [00:05<00:00,  3.04it/s]"
     ]
    },
    {
     "name": "stdout",
     "output_type": "stream",
     "text": [
      "Training until validation scores don't improve for 100 rounds\n",
      "[100]\ttraining's binary_logloss: 0.252401\tvalid_1's binary_logloss: 0.309166\n",
      "[200]\ttraining's binary_logloss: 0.208302\tvalid_1's binary_logloss: 0.303582\n",
      "Early stopping, best iteration is:\n",
      "[169]\ttraining's binary_logloss: 0.220649\tvalid_1's binary_logloss: 0.29979\n"
     ]
    },
    {
     "name": "stderr",
     "output_type": "stream",
     "text": [
      "tune_lambda_l1_and_lambda_l2, val_score: 0.299790:  90%|######### | 18/20 [00:05<00:00,  3.10it/s]"
     ]
    },
    {
     "name": "stdout",
     "output_type": "stream",
     "text": [
      "Training until validation scores don't improve for 100 rounds\n",
      "[100]\ttraining's binary_logloss: 0.252412\tvalid_1's binary_logloss: 0.309169\n",
      "[200]\ttraining's binary_logloss: 0.208322\tvalid_1's binary_logloss: 0.303582\n",
      "Early stopping, best iteration is:\n",
      "[169]\ttraining's binary_logloss: 0.220668\tvalid_1's binary_logloss: 0.299794\n"
     ]
    },
    {
     "name": "stderr",
     "output_type": "stream",
     "text": [
      "tune_lambda_l1_and_lambda_l2, val_score: 0.299790:  95%|#########5| 19/20 [00:05<00:00,  3.15it/s]"
     ]
    },
    {
     "name": "stdout",
     "output_type": "stream",
     "text": [
      "Training until validation scores don't improve for 100 rounds\n",
      "[100]\ttraining's binary_logloss: 0.252401\tvalid_1's binary_logloss: 0.309166\n",
      "[200]\ttraining's binary_logloss: 0.208302\tvalid_1's binary_logloss: 0.303582\n",
      "Early stopping, best iteration is:\n",
      "[169]\ttraining's binary_logloss: 0.22065\tvalid_1's binary_logloss: 0.29979\n"
     ]
    },
    {
     "name": "stderr",
     "output_type": "stream",
     "text": [
      "tune_lambda_l1_and_lambda_l2, val_score: 0.299790: 100%|##########| 20/20 [00:06<00:00,  3.17it/s]\n",
      "tune_min_child_samples, val_score: 0.299790:   0%|          | 0/5 [00:00<?, ?it/s]"
     ]
    },
    {
     "name": "stdout",
     "output_type": "stream",
     "text": [
      "Training until validation scores don't improve for 100 rounds\n",
      "[100]\ttraining's binary_logloss: 0.240297\tvalid_1's binary_logloss: 0.321694\n",
      "Early stopping, best iteration is:\n",
      "[72]\ttraining's binary_logloss: 0.258013\tvalid_1's binary_logloss: 0.313891\n"
     ]
    },
    {
     "name": "stderr",
     "output_type": "stream",
     "text": [
      "tune_min_child_samples, val_score: 0.299790:  20%|##        | 1/5 [00:00<00:00,  8.24it/s]"
     ]
    },
    {
     "name": "stdout",
     "output_type": "stream",
     "text": [
      "Training until validation scores don't improve for 100 rounds\n",
      "[100]\ttraining's binary_logloss: 0.245548\tvalid_1's binary_logloss: 0.315979\n",
      "Early stopping, best iteration is:\n",
      "[81]\ttraining's binary_logloss: 0.256243\tvalid_1's binary_logloss: 0.314411\n"
     ]
    },
    {
     "name": "stderr",
     "output_type": "stream",
     "text": [
      "tune_min_child_samples, val_score: 0.299790:  40%|####      | 2/5 [00:00<00:00,  6.39it/s]"
     ]
    },
    {
     "name": "stdout",
     "output_type": "stream",
     "text": [
      "Training until validation scores don't improve for 100 rounds\n",
      "[100]\ttraining's binary_logloss: 0.255553\tvalid_1's binary_logloss: 0.315719\n",
      "[200]\ttraining's binary_logloss: 0.212574\tvalid_1's binary_logloss: 0.315338\n",
      "Early stopping, best iteration is:\n",
      "[174]\ttraining's binary_logloss: 0.221472\tvalid_1's binary_logloss: 0.31112\n"
     ]
    },
    {
     "name": "stderr",
     "output_type": "stream",
     "text": [
      "tune_min_child_samples, val_score: 0.299790:  60%|######    | 3/5 [00:00<00:00,  4.37it/s]"
     ]
    },
    {
     "name": "stdout",
     "output_type": "stream",
     "text": [
      "Training until validation scores don't improve for 100 rounds\n",
      "[100]\ttraining's binary_logloss: 0.259666\tvalid_1's binary_logloss: 0.317765\n",
      "[200]\ttraining's binary_logloss: 0.219454\tvalid_1's binary_logloss: 0.331433\n",
      "Early stopping, best iteration is:\n",
      "[106]\ttraining's binary_logloss: 0.256744\tvalid_1's binary_logloss: 0.31697\n"
     ]
    },
    {
     "name": "stderr",
     "output_type": "stream",
     "text": [
      "tune_min_child_samples, val_score: 0.299790:  80%|########  | 4/5 [00:01<00:00,  4.10it/s]"
     ]
    },
    {
     "name": "stdout",
     "output_type": "stream",
     "text": [
      "Training until validation scores don't improve for 100 rounds\n",
      "[100]\ttraining's binary_logloss: 0.270147\tvalid_1's binary_logloss: 0.329335\n",
      "[200]\ttraining's binary_logloss: 0.238978\tvalid_1's binary_logloss: 0.336554\n",
      "Early stopping, best iteration is:\n",
      "[122]\ttraining's binary_logloss: 0.262897\tvalid_1's binary_logloss: 0.328043\n"
     ]
    },
    {
     "name": "stderr",
     "output_type": "stream",
     "text": [
      "tune_min_child_samples, val_score: 0.299790: 100%|##########| 5/5 [00:01<00:00,  3.42it/s]\n"
     ]
    },
    {
     "name": "stdout",
     "output_type": "stream",
     "text": [
      "2020-03-24 14:11:33 Like ********************************************************************************\n",
      "Like\n",
      "n_pos_wanted 100\n",
      "2020-03-24 14:11:33 chunk 1\n",
      "dftrvl.shape: (1000, 95) dftrvl[tgtcol].mean(): 0.461\n",
      "{'train_pop': 1000, 'target_pop': 461, 'sampled_train_pop': 1000, 'sampled_target_pop': 461}\n",
      "{'objective': 'binary', 'metric': 'binary_logloss', 'verbosity': 1, 'boosting_type': 'gbdt'}\n"
     ]
    },
    {
     "name": "stderr",
     "output_type": "stream",
     "text": [
      "tune_feature_fraction, val_score: inf:   0%|          | 0/7 [00:00<?, ?it/s]"
     ]
    },
    {
     "name": "stdout",
     "output_type": "stream",
     "text": [
      "Training until validation scores don't improve for 100 rounds\n",
      "[100]\ttraining's binary_logloss: 0.113552\tvalid_1's binary_logloss: 0.644079\n",
      "Early stopping, best iteration is:\n",
      "[19]\ttraining's binary_logloss: 0.438869\tvalid_1's binary_logloss: 0.608751\n"
     ]
    },
    {
     "name": "stderr",
     "output_type": "stream",
     "text": [
      "tune_feature_fraction, val_score: 0.608751:  14%|#4        | 1/7 [00:00<00:03,  1.65it/s]"
     ]
    },
    {
     "name": "stdout",
     "output_type": "stream",
     "text": [
      "Training until validation scores don't improve for 100 rounds\n",
      "[100]\ttraining's binary_logloss: 0.096736\tvalid_1's binary_logloss: 0.657831\n",
      "Early stopping, best iteration is:\n",
      "[18]\ttraining's binary_logloss: 0.441087\tvalid_1's binary_logloss: 0.609652\n"
     ]
    },
    {
     "name": "stderr",
     "output_type": "stream",
     "text": [
      "tune_feature_fraction, val_score: 0.608751:  29%|##8       | 2/7 [00:01<00:03,  1.64it/s]"
     ]
    },
    {
     "name": "stdout",
     "output_type": "stream",
     "text": [
      "Training until validation scores don't improve for 100 rounds\n",
      "[100]\ttraining's binary_logloss: 0.0927974\tvalid_1's binary_logloss: 0.691823\n",
      "Early stopping, best iteration is:\n",
      "[18]\ttraining's binary_logloss: 0.427705\tvalid_1's binary_logloss: 0.609485\n"
     ]
    },
    {
     "name": "stderr",
     "output_type": "stream",
     "text": [
      "tune_feature_fraction, val_score: 0.608751:  43%|####2     | 3/7 [00:01<00:02,  1.61it/s]"
     ]
    },
    {
     "name": "stdout",
     "output_type": "stream",
     "text": [
      "Training until validation scores don't improve for 100 rounds\n",
      "[100]\ttraining's binary_logloss: 0.0879728\tvalid_1's binary_logloss: 0.697559\n",
      "Early stopping, best iteration is:\n",
      "[18]\ttraining's binary_logloss: 0.428335\tvalid_1's binary_logloss: 0.61214\n"
     ]
    },
    {
     "name": "stderr",
     "output_type": "stream",
     "text": [
      "tune_feature_fraction, val_score: 0.608751:  57%|#####7    | 4/7 [00:02<00:01,  1.62it/s]"
     ]
    },
    {
     "name": "stdout",
     "output_type": "stream",
     "text": [
      "Training until validation scores don't improve for 100 rounds\n",
      "[100]\ttraining's binary_logloss: 0.0818849\tvalid_1's binary_logloss: 0.665003\n",
      "Early stopping, best iteration is:\n",
      "[9]\ttraining's binary_logloss: 0.523768\tvalid_1's binary_logloss: 0.623161\n"
     ]
    },
    {
     "name": "stderr",
     "output_type": "stream",
     "text": [
      "tune_feature_fraction, val_score: 0.608751:  71%|#######1  | 5/7 [00:03<00:01,  1.64it/s]"
     ]
    },
    {
     "name": "stdout",
     "output_type": "stream",
     "text": [
      "Training until validation scores don't improve for 100 rounds\n",
      "[100]\ttraining's binary_logloss: 0.07861\tvalid_1's binary_logloss: 0.727534\n",
      "Early stopping, best iteration is:\n",
      "[17]\ttraining's binary_logloss: 0.42773\tvalid_1's binary_logloss: 0.617444\n"
     ]
    },
    {
     "name": "stderr",
     "output_type": "stream",
     "text": [
      "tune_feature_fraction, val_score: 0.608751:  86%|########5 | 6/7 [00:03<00:00,  1.62it/s]"
     ]
    },
    {
     "name": "stdout",
     "output_type": "stream",
     "text": [
      "Training until validation scores don't improve for 100 rounds\n",
      "[100]\ttraining's binary_logloss: 0.0757131\tvalid_1's binary_logloss: 0.777016\n",
      "Early stopping, best iteration is:\n",
      "[15]\ttraining's binary_logloss: 0.444977\tvalid_1's binary_logloss: 0.638376\n"
     ]
    },
    {
     "name": "stderr",
     "output_type": "stream",
     "text": [
      "tune_feature_fraction, val_score: 0.608751: 100%|##########| 7/7 [00:04<00:00,  1.59it/s]\n",
      "tune_num_leaves, val_score: 0.608751:   0%|          | 0/20 [00:00<?, ?it/s]"
     ]
    },
    {
     "name": "stdout",
     "output_type": "stream",
     "text": [
      "Training until validation scores don't improve for 100 rounds\n",
      "[100]\ttraining's binary_logloss: 0.124051\tvalid_1's binary_logloss: 0.661074\n",
      "Early stopping, best iteration is:\n",
      "[27]\ttraining's binary_logloss: 0.387133\tvalid_1's binary_logloss: 0.602933\n"
     ]
    },
    {
     "name": "stderr",
     "output_type": "stream",
     "text": [
      "tune_num_leaves, val_score: 0.602933:   5%|5         | 1/20 [00:00<00:10,  1.83it/s]"
     ]
    },
    {
     "name": "stdout",
     "output_type": "stream",
     "text": [
      "Training until validation scores don't improve for 100 rounds\n",
      "[100]\ttraining's binary_logloss: 0.109722\tvalid_1's binary_logloss: 0.667063\n",
      "Early stopping, best iteration is:\n",
      "[33]\ttraining's binary_logloss: 0.33416\tvalid_1's binary_logloss: 0.612201\n"
     ]
    },
    {
     "name": "stderr",
     "output_type": "stream",
     "text": [
      "tune_num_leaves, val_score: 0.602933:  10%|#         | 2/20 [00:01<00:11,  1.63it/s]"
     ]
    },
    {
     "name": "stdout",
     "output_type": "stream",
     "text": [
      "Training until validation scores don't improve for 100 rounds\n",
      "[100]\ttraining's binary_logloss: 0.109722\tvalid_1's binary_logloss: 0.667063\n",
      "Early stopping, best iteration is:\n",
      "[33]\ttraining's binary_logloss: 0.33416\tvalid_1's binary_logloss: 0.612201\n"
     ]
    },
    {
     "name": "stderr",
     "output_type": "stream",
     "text": [
      "tune_num_leaves, val_score: 0.602933:  15%|#5        | 3/20 [00:02<00:11,  1.54it/s]"
     ]
    },
    {
     "name": "stdout",
     "output_type": "stream",
     "text": [
      "Training until validation scores don't improve for 100 rounds\n",
      "[100]\ttraining's binary_logloss: 0.109722\tvalid_1's binary_logloss: 0.667063\n",
      "Early stopping, best iteration is:\n",
      "[33]\ttraining's binary_logloss: 0.33416\tvalid_1's binary_logloss: 0.612201\n"
     ]
    },
    {
     "name": "stderr",
     "output_type": "stream",
     "text": [
      "tune_num_leaves, val_score: 0.602933:  20%|##        | 4/20 [00:02<00:10,  1.46it/s]"
     ]
    },
    {
     "name": "stdout",
     "output_type": "stream",
     "text": [
      "Training until validation scores don't improve for 100 rounds\n",
      "[100]\ttraining's binary_logloss: 0.109722\tvalid_1's binary_logloss: 0.667063\n",
      "Early stopping, best iteration is:\n",
      "[33]\ttraining's binary_logloss: 0.33416\tvalid_1's binary_logloss: 0.612201\n"
     ]
    },
    {
     "name": "stderr",
     "output_type": "stream",
     "text": [
      "tune_num_leaves, val_score: 0.602933:  25%|##5       | 5/20 [00:03<00:09,  1.63it/s]"
     ]
    },
    {
     "name": "stdout",
     "output_type": "stream",
     "text": [
      "Training until validation scores don't improve for 100 rounds\n",
      "[100]\ttraining's binary_logloss: 0.109722\tvalid_1's binary_logloss: 0.667063\n",
      "Early stopping, best iteration is:\n",
      "[33]\ttraining's binary_logloss: 0.33416\tvalid_1's binary_logloss: 0.612201\n"
     ]
    },
    {
     "name": "stderr",
     "output_type": "stream",
     "text": [
      "tune_num_leaves, val_score: 0.602933:  30%|###       | 6/20 [00:03<00:07,  1.78it/s]"
     ]
    },
    {
     "name": "stdout",
     "output_type": "stream",
     "text": [
      "Training until validation scores don't improve for 100 rounds\n",
      "[100]\ttraining's binary_logloss: 0.234469\tvalid_1's binary_logloss: 0.618337\n",
      "Early stopping, best iteration is:\n",
      "[38]\ttraining's binary_logloss: 0.410377\tvalid_1's binary_logloss: 0.612237\n"
     ]
    },
    {
     "name": "stderr",
     "output_type": "stream",
     "text": [
      "tune_num_leaves, val_score: 0.602933:  35%|###5      | 7/20 [00:04<00:06,  1.99it/s]"
     ]
    },
    {
     "name": "stdout",
     "output_type": "stream",
     "text": [
      "Training until validation scores don't improve for 100 rounds\n",
      "[100]\ttraining's binary_logloss: 0.109722\tvalid_1's binary_logloss: 0.667063\n",
      "Early stopping, best iteration is:\n",
      "[33]\ttraining's binary_logloss: 0.33416\tvalid_1's binary_logloss: 0.612201\n"
     ]
    },
    {
     "name": "stderr",
     "output_type": "stream",
     "text": [
      "tune_num_leaves, val_score: 0.602933:  40%|####      | 8/20 [00:04<00:05,  2.08it/s]"
     ]
    },
    {
     "name": "stdout",
     "output_type": "stream",
     "text": [
      "Training until validation scores don't improve for 100 rounds\n",
      "[100]\ttraining's binary_logloss: 0.109722\tvalid_1's binary_logloss: 0.667063\n",
      "Early stopping, best iteration is:\n",
      "[33]\ttraining's binary_logloss: 0.33416\tvalid_1's binary_logloss: 0.612201\n"
     ]
    },
    {
     "name": "stderr",
     "output_type": "stream",
     "text": [
      "tune_num_leaves, val_score: 0.602933:  45%|####5     | 9/20 [00:05<00:05,  2.11it/s]"
     ]
    },
    {
     "name": "stdout",
     "output_type": "stream",
     "text": [
      "Training until validation scores don't improve for 100 rounds\n",
      "[100]\ttraining's binary_logloss: 0.107603\tvalid_1's binary_logloss: 0.649469\n",
      "Early stopping, best iteration is:\n",
      "[48]\ttraining's binary_logloss: 0.253415\tvalid_1's binary_logloss: 0.610536\n"
     ]
    },
    {
     "name": "stderr",
     "output_type": "stream",
     "text": [
      "tune_num_leaves, val_score: 0.602933:  50%|#####     | 10/20 [00:05<00:04,  2.12it/s]"
     ]
    },
    {
     "name": "stdout",
     "output_type": "stream",
     "text": [
      "Training until validation scores don't improve for 100 rounds\n",
      "[100]\ttraining's binary_logloss: 0.109722\tvalid_1's binary_logloss: 0.667063\n",
      "Early stopping, best iteration is:\n",
      "[33]\ttraining's binary_logloss: 0.33416\tvalid_1's binary_logloss: 0.612201\n"
     ]
    },
    {
     "name": "stderr",
     "output_type": "stream",
     "text": [
      "tune_num_leaves, val_score: 0.602933:  55%|#####5    | 11/20 [00:05<00:04,  2.12it/s]"
     ]
    },
    {
     "name": "stdout",
     "output_type": "stream",
     "text": [
      "Training until validation scores don't improve for 100 rounds\n",
      "[100]\ttraining's binary_logloss: 0.4486\tvalid_1's binary_logloss: 0.613914\n",
      "[200]\ttraining's binary_logloss: 0.346256\tvalid_1's binary_logloss: 0.627324\n",
      "Early stopping, best iteration is:\n",
      "[129]\ttraining's binary_logloss: 0.4167\tvalid_1's binary_logloss: 0.60911\n"
     ]
    },
    {
     "name": "stderr",
     "output_type": "stream",
     "text": [
      "tune_num_leaves, val_score: 0.602933:  60%|######    | 12/20 [00:06<00:03,  2.40it/s]"
     ]
    },
    {
     "name": "stdout",
     "output_type": "stream",
     "text": [
      "Training until validation scores don't improve for 100 rounds\n",
      "[100]\ttraining's binary_logloss: 0.604317\tvalid_1's binary_logloss: 0.608611\n",
      "[200]\ttraining's binary_logloss: 0.581036\tvalid_1's binary_logloss: 0.604108\n",
      "[300]\ttraining's binary_logloss: 0.566382\tvalid_1's binary_logloss: 0.604406\n",
      "Early stopping, best iteration is:\n",
      "[257]\ttraining's binary_logloss: 0.572037\tvalid_1's binary_logloss: 0.602044\n"
     ]
    },
    {
     "name": "stderr",
     "output_type": "stream",
     "text": [
      "tune_num_leaves, val_score: 0.602044:  65%|######5   | 13/20 [00:06<00:02,  2.68it/s]"
     ]
    },
    {
     "name": "stdout",
     "output_type": "stream",
     "text": [
      "Training until validation scores don't improve for 100 rounds\n",
      "[100]\ttraining's binary_logloss: 0.109722\tvalid_1's binary_logloss: 0.667063\n",
      "Early stopping, best iteration is:\n",
      "[33]\ttraining's binary_logloss: 0.33416\tvalid_1's binary_logloss: 0.612201\n"
     ]
    },
    {
     "name": "stderr",
     "output_type": "stream",
     "text": [
      "tune_num_leaves, val_score: 0.602044:  70%|#######   | 14/20 [00:07<00:02,  2.50it/s]"
     ]
    },
    {
     "name": "stdout",
     "output_type": "stream",
     "text": [
      "Training until validation scores don't improve for 100 rounds\n",
      "[100]\ttraining's binary_logloss: 0.109722\tvalid_1's binary_logloss: 0.667063\n",
      "Early stopping, best iteration is:\n",
      "[33]\ttraining's binary_logloss: 0.33416\tvalid_1's binary_logloss: 0.612201\n"
     ]
    },
    {
     "name": "stderr",
     "output_type": "stream",
     "text": [
      "tune_num_leaves, val_score: 0.602044:  75%|#######5  | 15/20 [00:07<00:02,  2.31it/s]"
     ]
    },
    {
     "name": "stdout",
     "output_type": "stream",
     "text": [
      "Training until validation scores don't improve for 100 rounds\n",
      "[100]\ttraining's binary_logloss: 0.109722\tvalid_1's binary_logloss: 0.667063\n",
      "Early stopping, best iteration is:\n",
      "[33]\ttraining's binary_logloss: 0.33416\tvalid_1's binary_logloss: 0.612201\n"
     ]
    },
    {
     "name": "stderr",
     "output_type": "stream",
     "text": [
      "tune_num_leaves, val_score: 0.602044:  80%|########  | 16/20 [00:07<00:01,  2.26it/s]"
     ]
    },
    {
     "name": "stdout",
     "output_type": "stream",
     "text": [
      "Training until validation scores don't improve for 100 rounds\n",
      "[100]\ttraining's binary_logloss: 0.476965\tvalid_1's binary_logloss: 0.606932\n",
      "Early stopping, best iteration is:\n",
      "[83]\ttraining's binary_logloss: 0.49822\tvalid_1's binary_logloss: 0.60267\n"
     ]
    },
    {
     "name": "stderr",
     "output_type": "stream",
     "text": [
      "tune_num_leaves, val_score: 0.602044:  85%|########5 | 17/20 [00:08<00:01,  2.64it/s]"
     ]
    },
    {
     "name": "stdout",
     "output_type": "stream",
     "text": [
      "Training until validation scores don't improve for 100 rounds\n",
      "[100]\ttraining's binary_logloss: 0.476965\tvalid_1's binary_logloss: 0.606932\n",
      "Early stopping, best iteration is:\n",
      "[83]\ttraining's binary_logloss: 0.49822\tvalid_1's binary_logloss: 0.60267\n"
     ]
    },
    {
     "name": "stderr",
     "output_type": "stream",
     "text": [
      "tune_num_leaves, val_score: 0.602044:  90%|######### | 18/20 [00:08<00:00,  2.94it/s]"
     ]
    },
    {
     "name": "stdout",
     "output_type": "stream",
     "text": [
      "Training until validation scores don't improve for 100 rounds\n",
      "[100]\ttraining's binary_logloss: 0.109722\tvalid_1's binary_logloss: 0.667063\n",
      "Early stopping, best iteration is:\n",
      "[33]\ttraining's binary_logloss: 0.33416\tvalid_1's binary_logloss: 0.612201\n"
     ]
    },
    {
     "name": "stderr",
     "output_type": "stream",
     "text": [
      "tune_num_leaves, val_score: 0.602044:  95%|#########5| 19/20 [00:08<00:00,  2.53it/s]"
     ]
    },
    {
     "name": "stdout",
     "output_type": "stream",
     "text": [
      "Training until validation scores don't improve for 100 rounds\n",
      "[100]\ttraining's binary_logloss: 0.604317\tvalid_1's binary_logloss: 0.608611\n",
      "[200]\ttraining's binary_logloss: 0.581036\tvalid_1's binary_logloss: 0.604108\n",
      "[300]\ttraining's binary_logloss: 0.566382\tvalid_1's binary_logloss: 0.604406\n",
      "Early stopping, best iteration is:\n",
      "[257]\ttraining's binary_logloss: 0.572037\tvalid_1's binary_logloss: 0.602044\n"
     ]
    },
    {
     "name": "stderr",
     "output_type": "stream",
     "text": [
      "tune_num_leaves, val_score: 0.602044: 100%|##########| 20/20 [00:09<00:00,  2.15it/s]\n",
      "tune_bagging_fraction_and_bagging_freq, val_score: 0.602044:   0%|          | 0/10 [00:00<?, ?it/s]"
     ]
    },
    {
     "name": "stdout",
     "output_type": "stream",
     "text": [
      "Training until validation scores don't improve for 100 rounds\n",
      "[100]\ttraining's binary_logloss: 0.603563\tvalid_1's binary_logloss: 0.609461\n",
      "[200]\ttraining's binary_logloss: 0.579032\tvalid_1's binary_logloss: 0.611797\n",
      "Early stopping, best iteration is:\n",
      "[132]\ttraining's binary_logloss: 0.593809\tvalid_1's binary_logloss: 0.605592\n"
     ]
    },
    {
     "name": "stderr",
     "output_type": "stream",
     "text": [
      "tune_bagging_fraction_and_bagging_freq, val_score: 0.602044:  10%|#         | 1/10 [00:00<00:01,  4.80it/s]"
     ]
    },
    {
     "name": "stdout",
     "output_type": "stream",
     "text": [
      "Training until validation scores don't improve for 100 rounds\n",
      "[100]\ttraining's binary_logloss: 0.59836\tvalid_1's binary_logloss: 0.603262\n",
      "[200]\ttraining's binary_logloss: 0.571444\tvalid_1's binary_logloss: 0.607775\n",
      "Early stopping, best iteration is:\n",
      "[152]\ttraining's binary_logloss: 0.581528\tvalid_1's binary_logloss: 0.591926\n"
     ]
    },
    {
     "name": "stderr",
     "output_type": "stream",
     "text": [
      "tune_bagging_fraction_and_bagging_freq, val_score: 0.591926:  20%|##        | 2/10 [00:00<00:02,  3.70it/s]"
     ]
    },
    {
     "name": "stdout",
     "output_type": "stream",
     "text": [
      "Training until validation scores don't improve for 100 rounds\n",
      "[100]\ttraining's binary_logloss: 0.5971\tvalid_1's binary_logloss: 0.600842\n",
      "[200]\ttraining's binary_logloss: 0.569662\tvalid_1's binary_logloss: 0.601033\n",
      "Early stopping, best iteration is:\n",
      "[123]\ttraining's binary_logloss: 0.589219\tvalid_1's binary_logloss: 0.591566\n"
     ]
    },
    {
     "name": "stderr",
     "output_type": "stream",
     "text": [
      "tune_bagging_fraction_and_bagging_freq, val_score: 0.591566:  30%|###       | 3/10 [00:00<00:01,  3.93it/s]"
     ]
    },
    {
     "name": "stdout",
     "output_type": "stream",
     "text": [
      "Training until validation scores don't improve for 100 rounds\n",
      "[100]\ttraining's binary_logloss: 0.599898\tvalid_1's binary_logloss: 0.607457\n",
      "[200]\ttraining's binary_logloss: 0.573541\tvalid_1's binary_logloss: 0.605254\n",
      "Early stopping, best iteration is:\n",
      "[166]\ttraining's binary_logloss: 0.580582\tvalid_1's binary_logloss: 0.598645\n"
     ]
    },
    {
     "name": "stderr",
     "output_type": "stream",
     "text": [
      "tune_bagging_fraction_and_bagging_freq, val_score: 0.591566:  40%|####      | 4/10 [00:01<00:01,  3.75it/s]"
     ]
    },
    {
     "name": "stdout",
     "output_type": "stream",
     "text": [
      "Training until validation scores don't improve for 100 rounds\n",
      "[100]\ttraining's binary_logloss: 0.596277\tvalid_1's binary_logloss: 0.607866\n",
      "[200]\ttraining's binary_logloss: 0.569535\tvalid_1's binary_logloss: 0.61217\n",
      "Early stopping, best iteration is:\n",
      "[139]\ttraining's binary_logloss: 0.583691\tvalid_1's binary_logloss: 0.601623\n"
     ]
    },
    {
     "name": "stderr",
     "output_type": "stream",
     "text": [
      "tune_bagging_fraction_and_bagging_freq, val_score: 0.591566:  50%|#####     | 5/10 [00:01<00:01,  3.84it/s]"
     ]
    },
    {
     "name": "stdout",
     "output_type": "stream",
     "text": [
      "Training until validation scores don't improve for 100 rounds\n",
      "[100]\ttraining's binary_logloss: 0.600367\tvalid_1's binary_logloss: 0.605596\n",
      "[200]\ttraining's binary_logloss: 0.573073\tvalid_1's binary_logloss: 0.606063\n",
      "Early stopping, best iteration is:\n",
      "[167]\ttraining's binary_logloss: 0.580355\tvalid_1's binary_logloss: 0.598914\n"
     ]
    },
    {
     "name": "stderr",
     "output_type": "stream",
     "text": [
      "tune_bagging_fraction_and_bagging_freq, val_score: 0.591566:  60%|######    | 6/10 [00:01<00:01,  4.00it/s]"
     ]
    },
    {
     "name": "stdout",
     "output_type": "stream",
     "text": [
      "Training until validation scores don't improve for 100 rounds\n",
      "[100]\ttraining's binary_logloss: 0.600879\tvalid_1's binary_logloss: 0.609364\n",
      "[200]\ttraining's binary_logloss: 0.573076\tvalid_1's binary_logloss: 0.604297\n",
      "Early stopping, best iteration is:\n",
      "[190]\ttraining's binary_logloss: 0.57506\tvalid_1's binary_logloss: 0.601636\n"
     ]
    },
    {
     "name": "stderr",
     "output_type": "stream",
     "text": [
      "tune_bagging_fraction_and_bagging_freq, val_score: 0.591566:  70%|#######   | 7/10 [00:01<00:00,  4.03it/s]"
     ]
    },
    {
     "name": "stdout",
     "output_type": "stream",
     "text": [
      "Training until validation scores don't improve for 100 rounds\n",
      "[100]\ttraining's binary_logloss: 0.596761\tvalid_1's binary_logloss: 0.601735\n",
      "[200]\ttraining's binary_logloss: 0.57142\tvalid_1's binary_logloss: 0.605754\n",
      "Early stopping, best iteration is:\n",
      "[154]\ttraining's binary_logloss: 0.581278\tvalid_1's binary_logloss: 0.593952\n"
     ]
    },
    {
     "name": "stderr",
     "output_type": "stream",
     "text": [
      "tune_bagging_fraction_and_bagging_freq, val_score: 0.591566:  80%|########  | 8/10 [00:02<00:00,  4.04it/s]"
     ]
    },
    {
     "name": "stdout",
     "output_type": "stream",
     "text": [
      "Training until validation scores don't improve for 100 rounds\n",
      "[100]\ttraining's binary_logloss: 0.600184\tvalid_1's binary_logloss: 0.605358\n",
      "[200]\ttraining's binary_logloss: 0.572786\tvalid_1's binary_logloss: 0.604683\n",
      "[300]\ttraining's binary_logloss: 0.554338\tvalid_1's binary_logloss: 0.605796\n",
      "Early stopping, best iteration is:\n",
      "[229]\ttraining's binary_logloss: 0.56717\tvalid_1's binary_logloss: 0.601362\n"
     ]
    },
    {
     "name": "stderr",
     "output_type": "stream",
     "text": [
      "tune_bagging_fraction_and_bagging_freq, val_score: 0.591566:  90%|######### | 9/10 [00:02<00:00,  3.83it/s]"
     ]
    },
    {
     "name": "stdout",
     "output_type": "stream",
     "text": [
      "Training until validation scores don't improve for 100 rounds\n",
      "[100]\ttraining's binary_logloss: 0.596162\tvalid_1's binary_logloss: 0.590276\n",
      "[200]\ttraining's binary_logloss: 0.570775\tvalid_1's binary_logloss: 0.597015\n",
      "Early stopping, best iteration is:\n",
      "[121]\ttraining's binary_logloss: 0.589538\tvalid_1's binary_logloss: 0.587677\n"
     ]
    },
    {
     "name": "stderr",
     "output_type": "stream",
     "text": [
      "tune_bagging_fraction_and_bagging_freq, val_score: 0.587677: 100%|##########| 10/10 [00:02<00:00,  3.63it/s]\n",
      "tune_feature_fraction, val_score: 0.587677:   0%|          | 0/3 [00:00<?, ?it/s]"
     ]
    },
    {
     "name": "stdout",
     "output_type": "stream",
     "text": [
      "Training until validation scores don't improve for 100 rounds\n",
      "[100]\ttraining's binary_logloss: 0.595936\tvalid_1's binary_logloss: 0.591362\n",
      "[200]\ttraining's binary_logloss: 0.569777\tvalid_1's binary_logloss: 0.598573\n",
      "Early stopping, best iteration is:\n",
      "[107]\ttraining's binary_logloss: 0.593012\tvalid_1's binary_logloss: 0.588878\n"
     ]
    },
    {
     "name": "stderr",
     "output_type": "stream",
     "text": [
      "tune_feature_fraction, val_score: 0.587677:  33%|###3      | 1/3 [00:00<00:00,  7.73it/s]"
     ]
    },
    {
     "name": "stdout",
     "output_type": "stream",
     "text": [
      "Training until validation scores don't improve for 100 rounds\n",
      "[100]\ttraining's binary_logloss: 0.593324\tvalid_1's binary_logloss: 0.593291\n",
      "Early stopping, best iteration is:\n",
      "[94]\ttraining's binary_logloss: 0.596631\tvalid_1's binary_logloss: 0.592103\n"
     ]
    },
    {
     "name": "stderr",
     "output_type": "stream",
     "text": [
      "tune_feature_fraction, val_score: 0.587677:  67%|######6   | 2/3 [00:00<00:00,  6.56it/s]"
     ]
    },
    {
     "name": "stdout",
     "output_type": "stream",
     "text": [
      "Training until validation scores don't improve for 100 rounds\n",
      "[100]\ttraining's binary_logloss: 0.594533\tvalid_1's binary_logloss: 0.600521\n",
      "[200]\ttraining's binary_logloss: 0.566423\tvalid_1's binary_logloss: 0.610574\n",
      "Early stopping, best iteration is:\n",
      "[121]\ttraining's binary_logloss: 0.587433\tvalid_1's binary_logloss: 0.596546\n"
     ]
    },
    {
     "name": "stderr",
     "output_type": "stream",
     "text": [
      "tune_feature_fraction, val_score: 0.587677: 100%|##########| 3/3 [00:00<00:00,  4.56it/s]\n",
      "tune_lambda_l1_and_lambda_l2, val_score: 0.587677:   0%|          | 0/20 [00:00<?, ?it/s]"
     ]
    },
    {
     "name": "stdout",
     "output_type": "stream",
     "text": [
      "Training until validation scores don't improve for 100 rounds\n",
      "[100]\ttraining's binary_logloss: 0.61599\tvalid_1's binary_logloss: 0.599691\n",
      "[200]\ttraining's binary_logloss: 0.597553\tvalid_1's binary_logloss: 0.60538\n",
      "Early stopping, best iteration is:\n",
      "[121]\ttraining's binary_logloss: 0.61054\tvalid_1's binary_logloss: 0.598493\n"
     ]
    },
    {
     "name": "stderr",
     "output_type": "stream",
     "text": [
      "tune_lambda_l1_and_lambda_l2, val_score: 0.587677:   5%|5         | 1/20 [00:00<00:02,  7.31it/s]"
     ]
    },
    {
     "name": "stdout",
     "output_type": "stream",
     "text": [
      "Training until validation scores don't improve for 100 rounds\n",
      "[100]\ttraining's binary_logloss: 0.60562\tvalid_1's binary_logloss: 0.591887\n",
      "[200]\ttraining's binary_logloss: 0.583192\tvalid_1's binary_logloss: 0.602166\n",
      "Early stopping, best iteration is:\n",
      "[121]\ttraining's binary_logloss: 0.599918\tvalid_1's binary_logloss: 0.590472\n"
     ]
    },
    {
     "name": "stderr",
     "output_type": "stream",
     "text": [
      "tune_lambda_l1_and_lambda_l2, val_score: 0.587677:  10%|#         | 2/20 [00:00<00:03,  5.69it/s]"
     ]
    },
    {
     "name": "stdout",
     "output_type": "stream",
     "text": [
      "Training until validation scores don't improve for 100 rounds\n",
      "[100]\ttraining's binary_logloss: 0.596163\tvalid_1's binary_logloss: 0.590277\n",
      "[200]\ttraining's binary_logloss: 0.570776\tvalid_1's binary_logloss: 0.597015\n",
      "Early stopping, best iteration is:\n",
      "[121]\ttraining's binary_logloss: 0.589539\tvalid_1's binary_logloss: 0.587678\n"
     ]
    },
    {
     "name": "stderr",
     "output_type": "stream",
     "text": [
      "tune_lambda_l1_and_lambda_l2, val_score: 0.587677:  15%|#5        | 3/20 [00:00<00:03,  4.91it/s]"
     ]
    },
    {
     "name": "stdout",
     "output_type": "stream",
     "text": [
      "Training until validation scores don't improve for 100 rounds\n",
      "[100]\ttraining's binary_logloss: 0.596181\tvalid_1's binary_logloss: 0.590278\n",
      "[200]\ttraining's binary_logloss: 0.570799\tvalid_1's binary_logloss: 0.597007\n",
      "Early stopping, best iteration is:\n",
      "[121]\ttraining's binary_logloss: 0.589558\tvalid_1's binary_logloss: 0.587679\n"
     ]
    },
    {
     "name": "stderr",
     "output_type": "stream",
     "text": [
      "tune_lambda_l1_and_lambda_l2, val_score: 0.587677:  20%|##        | 4/20 [00:01<00:03,  4.39it/s]"
     ]
    },
    {
     "name": "stdout",
     "output_type": "stream",
     "text": [
      "Training until validation scores don't improve for 100 rounds\n",
      "[100]\ttraining's binary_logloss: 0.601948\tvalid_1's binary_logloss: 0.589388\n",
      "Early stopping, best iteration is:\n",
      "[97]\ttraining's binary_logloss: 0.603402\tvalid_1's binary_logloss: 0.588696\n"
     ]
    },
    {
     "name": "stderr",
     "output_type": "stream",
     "text": [
      "tune_lambda_l1_and_lambda_l2, val_score: 0.587677:  25%|##5       | 5/20 [00:01<00:03,  4.21it/s]"
     ]
    },
    {
     "name": "stdout",
     "output_type": "stream",
     "text": [
      "Training until validation scores don't improve for 100 rounds\n",
      "[100]\ttraining's binary_logloss: 0.596162\tvalid_1's binary_logloss: 0.590276\n",
      "[200]\ttraining's binary_logloss: 0.570775\tvalid_1's binary_logloss: 0.597015\n",
      "Early stopping, best iteration is:\n",
      "[121]\ttraining's binary_logloss: 0.589538\tvalid_1's binary_logloss: 0.587677\n"
     ]
    },
    {
     "name": "stderr",
     "output_type": "stream",
     "text": [
      "tune_lambda_l1_and_lambda_l2, val_score: 0.587677:  30%|###       | 6/20 [00:01<00:03,  4.06it/s]"
     ]
    },
    {
     "name": "stdout",
     "output_type": "stream",
     "text": [
      "Training until validation scores don't improve for 100 rounds\n",
      "[100]\ttraining's binary_logloss: 0.618579\tvalid_1's binary_logloss: 0.602299\n",
      "[200]\ttraining's binary_logloss: 0.602099\tvalid_1's binary_logloss: 0.606013\n",
      "[300]\ttraining's binary_logloss: 0.590299\tvalid_1's binary_logloss: 0.601322\n",
      "[400]\ttraining's binary_logloss: 0.580495\tvalid_1's binary_logloss: 0.595479\n",
      "Early stopping, best iteration is:\n",
      "[399]\ttraining's binary_logloss: 0.58047\tvalid_1's binary_logloss: 0.595233\n"
     ]
    },
    {
     "name": "stderr",
     "output_type": "stream",
     "text": [
      "tune_lambda_l1_and_lambda_l2, val_score: 0.587677:  35%|###5      | 7/20 [00:02<00:03,  3.37it/s]"
     ]
    },
    {
     "name": "stdout",
     "output_type": "stream",
     "text": [
      "Training until validation scores don't improve for 100 rounds\n",
      "[100]\ttraining's binary_logloss: 0.596228\tvalid_1's binary_logloss: 0.590302\n",
      "[200]\ttraining's binary_logloss: 0.570865\tvalid_1's binary_logloss: 0.597004\n",
      "Early stopping, best iteration is:\n",
      "[121]\ttraining's binary_logloss: 0.589607\tvalid_1's binary_logloss: 0.5877\n"
     ]
    },
    {
     "name": "stderr",
     "output_type": "stream",
     "text": [
      "tune_lambda_l1_and_lambda_l2, val_score: 0.587677:  40%|####      | 8/20 [00:02<00:03,  3.53it/s]"
     ]
    },
    {
     "name": "stdout",
     "output_type": "stream",
     "text": [
      "Training until validation scores don't improve for 100 rounds\n",
      "[100]\ttraining's binary_logloss: 0.60521\tvalid_1's binary_logloss: 0.591503\n",
      "[200]\ttraining's binary_logloss: 0.582969\tvalid_1's binary_logloss: 0.603554\n",
      "Early stopping, best iteration is:\n",
      "[121]\ttraining's binary_logloss: 0.599368\tvalid_1's binary_logloss: 0.590057\n"
     ]
    },
    {
     "name": "stderr",
     "output_type": "stream",
     "text": [
      "tune_lambda_l1_and_lambda_l2, val_score: 0.587677:  45%|####5     | 9/20 [00:02<00:03,  3.21it/s]"
     ]
    },
    {
     "name": "stdout",
     "output_type": "stream",
     "text": [
      "Training until validation scores don't improve for 100 rounds\n",
      "[100]\ttraining's binary_logloss: 0.596209\tvalid_1's binary_logloss: 0.590295\n",
      "[200]\ttraining's binary_logloss: 0.570839\tvalid_1's binary_logloss: 0.597007\n",
      "Early stopping, best iteration is:\n",
      "[121]\ttraining's binary_logloss: 0.589587\tvalid_1's binary_logloss: 0.587693\n"
     ]
    },
    {
     "name": "stderr",
     "output_type": "stream",
     "text": [
      "tune_lambda_l1_and_lambda_l2, val_score: 0.587677:  50%|#####     | 10/20 [00:02<00:02,  3.36it/s]"
     ]
    },
    {
     "name": "stdout",
     "output_type": "stream",
     "text": [
      "Training until validation scores don't improve for 100 rounds\n",
      "[100]\ttraining's binary_logloss: 0.609885\tvalid_1's binary_logloss: 0.594045\n",
      "Early stopping, best iteration is:\n",
      "[99]\ttraining's binary_logloss: 0.610052\tvalid_1's binary_logloss: 0.593244\n"
     ]
    },
    {
     "name": "stderr",
     "output_type": "stream",
     "text": [
      "tune_lambda_l1_and_lambda_l2, val_score: 0.587677:  55%|#####5    | 11/20 [00:03<00:02,  3.52it/s]"
     ]
    },
    {
     "name": "stdout",
     "output_type": "stream",
     "text": [
      "Training until validation scores don't improve for 100 rounds\n",
      "[100]\ttraining's binary_logloss: 0.596162\tvalid_1's binary_logloss: 0.590276\n",
      "[200]\ttraining's binary_logloss: 0.570775\tvalid_1's binary_logloss: 0.597015\n",
      "Early stopping, best iteration is:\n",
      "[121]\ttraining's binary_logloss: 0.589538\tvalid_1's binary_logloss: 0.587677\n"
     ]
    },
    {
     "name": "stderr",
     "output_type": "stream",
     "text": [
      "tune_lambda_l1_and_lambda_l2, val_score: 0.587677:  60%|######    | 12/20 [00:03<00:02,  3.55it/s]"
     ]
    },
    {
     "name": "stdout",
     "output_type": "stream",
     "text": [
      "Training until validation scores don't improve for 100 rounds\n",
      "[100]\ttraining's binary_logloss: 0.596162\tvalid_1's binary_logloss: 0.590276\n",
      "[200]\ttraining's binary_logloss: 0.570775\tvalid_1's binary_logloss: 0.597015\n",
      "Early stopping, best iteration is:\n",
      "[121]\ttraining's binary_logloss: 0.589538\tvalid_1's binary_logloss: 0.587677\n"
     ]
    },
    {
     "name": "stderr",
     "output_type": "stream",
     "text": [
      "tune_lambda_l1_and_lambda_l2, val_score: 0.587677:  65%|######5   | 13/20 [00:03<00:01,  3.60it/s]"
     ]
    },
    {
     "name": "stdout",
     "output_type": "stream",
     "text": [
      "Training until validation scores don't improve for 100 rounds\n",
      "[100]\ttraining's binary_logloss: 0.596162\tvalid_1's binary_logloss: 0.590276\n",
      "[200]\ttraining's binary_logloss: 0.570775\tvalid_1's binary_logloss: 0.597015\n",
      "Early stopping, best iteration is:\n",
      "[121]\ttraining's binary_logloss: 0.589538\tvalid_1's binary_logloss: 0.587677\n"
     ]
    },
    {
     "name": "stderr",
     "output_type": "stream",
     "text": [
      "tune_lambda_l1_and_lambda_l2, val_score: 0.587677:  70%|#######   | 14/20 [00:04<00:01,  3.56it/s]"
     ]
    },
    {
     "name": "stdout",
     "output_type": "stream",
     "text": [
      "Training until validation scores don't improve for 100 rounds\n",
      "[100]\ttraining's binary_logloss: 0.596162\tvalid_1's binary_logloss: 0.590276\n",
      "[200]\ttraining's binary_logloss: 0.570775\tvalid_1's binary_logloss: 0.597015\n",
      "Early stopping, best iteration is:\n",
      "[121]\ttraining's binary_logloss: 0.589538\tvalid_1's binary_logloss: 0.587677\n"
     ]
    },
    {
     "name": "stderr",
     "output_type": "stream",
     "text": [
      "tune_lambda_l1_and_lambda_l2, val_score: 0.587677:  75%|#######5  | 15/20 [00:04<00:01,  3.32it/s]"
     ]
    },
    {
     "name": "stdout",
     "output_type": "stream",
     "text": [
      "Training until validation scores don't improve for 100 rounds\n",
      "[100]\ttraining's binary_logloss: 0.596162\tvalid_1's binary_logloss: 0.590276\n",
      "[200]\ttraining's binary_logloss: 0.570775\tvalid_1's binary_logloss: 0.597015\n",
      "Early stopping, best iteration is:\n",
      "[121]\ttraining's binary_logloss: 0.589538\tvalid_1's binary_logloss: 0.587677\n"
     ]
    },
    {
     "name": "stderr",
     "output_type": "stream",
     "text": [
      "tune_lambda_l1_and_lambda_l2, val_score: 0.587677:  80%|########  | 16/20 [00:04<00:01,  3.31it/s]"
     ]
    },
    {
     "name": "stdout",
     "output_type": "stream",
     "text": [
      "Training until validation scores don't improve for 100 rounds\n",
      "[100]\ttraining's binary_logloss: 0.596162\tvalid_1's binary_logloss: 0.590276\n",
      "[200]\ttraining's binary_logloss: 0.570775\tvalid_1's binary_logloss: 0.597015\n",
      "Early stopping, best iteration is:\n",
      "[121]\ttraining's binary_logloss: 0.589538\tvalid_1's binary_logloss: 0.587677\n"
     ]
    },
    {
     "name": "stderr",
     "output_type": "stream",
     "text": [
      "tune_lambda_l1_and_lambda_l2, val_score: 0.587677:  85%|########5 | 17/20 [00:04<00:00,  3.31it/s]"
     ]
    },
    {
     "name": "stdout",
     "output_type": "stream",
     "text": [
      "Training until validation scores don't improve for 100 rounds\n",
      "[100]\ttraining's binary_logloss: 0.596162\tvalid_1's binary_logloss: 0.590276\n",
      "[200]\ttraining's binary_logloss: 0.570775\tvalid_1's binary_logloss: 0.597015\n",
      "Early stopping, best iteration is:\n",
      "[121]\ttraining's binary_logloss: 0.589538\tvalid_1's binary_logloss: 0.587677\n"
     ]
    },
    {
     "name": "stderr",
     "output_type": "stream",
     "text": [
      "tune_lambda_l1_and_lambda_l2, val_score: 0.587677:  90%|######### | 18/20 [00:05<00:00,  3.43it/s]"
     ]
    },
    {
     "name": "stdout",
     "output_type": "stream",
     "text": [
      "Training until validation scores don't improve for 100 rounds\n",
      "[100]\ttraining's binary_logloss: 0.596162\tvalid_1's binary_logloss: 0.590276\n",
      "[200]\ttraining's binary_logloss: 0.570775\tvalid_1's binary_logloss: 0.597015\n",
      "Early stopping, best iteration is:\n",
      "[121]\ttraining's binary_logloss: 0.589538\tvalid_1's binary_logloss: 0.587677\n"
     ]
    },
    {
     "name": "stderr",
     "output_type": "stream",
     "text": [
      "tune_lambda_l1_and_lambda_l2, val_score: 0.587677:  95%|#########5| 19/20 [00:05<00:00,  3.42it/s]"
     ]
    },
    {
     "name": "stdout",
     "output_type": "stream",
     "text": [
      "Training until validation scores don't improve for 100 rounds\n",
      "[100]\ttraining's binary_logloss: 0.596162\tvalid_1's binary_logloss: 0.590276\n",
      "[200]\ttraining's binary_logloss: 0.570775\tvalid_1's binary_logloss: 0.597015\n",
      "Early stopping, best iteration is:\n",
      "[121]\ttraining's binary_logloss: 0.589538\tvalid_1's binary_logloss: 0.587677\n"
     ]
    },
    {
     "name": "stderr",
     "output_type": "stream",
     "text": [
      "tune_lambda_l1_and_lambda_l2, val_score: 0.587677: 100%|##########| 20/20 [00:05<00:00,  3.37it/s]\n",
      "tune_min_child_samples, val_score: 0.587677:   0%|          | 0/5 [00:00<?, ?it/s]"
     ]
    },
    {
     "name": "stdout",
     "output_type": "stream",
     "text": [
      "Training until validation scores don't improve for 100 rounds\n",
      "[100]\ttraining's binary_logloss: 0.591948\tvalid_1's binary_logloss: 0.592188\n",
      "[200]\ttraining's binary_logloss: 0.563039\tvalid_1's binary_logloss: 0.607537\n",
      "Early stopping, best iteration is:\n",
      "[121]\ttraining's binary_logloss: 0.584555\tvalid_1's binary_logloss: 0.588655\n"
     ]
    },
    {
     "name": "stderr",
     "output_type": "stream",
     "text": [
      "tune_min_child_samples, val_score: 0.587677:  20%|##        | 1/5 [00:00<00:00,  7.60it/s]"
     ]
    },
    {
     "name": "stdout",
     "output_type": "stream",
     "text": [
      "Training until validation scores don't improve for 100 rounds\n",
      "[100]\ttraining's binary_logloss: 0.592177\tvalid_1's binary_logloss: 0.59647\n",
      "[200]\ttraining's binary_logloss: 0.565227\tvalid_1's binary_logloss: 0.60111\n",
      "Early stopping, best iteration is:\n",
      "[121]\ttraining's binary_logloss: 0.584346\tvalid_1's binary_logloss: 0.591799\n"
     ]
    },
    {
     "name": "stderr",
     "output_type": "stream",
     "text": [
      "tune_min_child_samples, val_score: 0.587677:  40%|####      | 2/5 [00:00<00:00,  5.91it/s]"
     ]
    },
    {
     "name": "stdout",
     "output_type": "stream",
     "text": [
      "Training until validation scores don't improve for 100 rounds\n",
      "[100]\ttraining's binary_logloss: 0.598822\tvalid_1's binary_logloss: 0.58005\n",
      "[200]\ttraining's binary_logloss: 0.57595\tvalid_1's binary_logloss: 0.587237\n",
      "Early stopping, best iteration is:\n",
      "[121]\ttraining's binary_logloss: 0.592571\tvalid_1's binary_logloss: 0.577763\n"
     ]
    },
    {
     "name": "stderr",
     "output_type": "stream",
     "text": [
      "tune_min_child_samples, val_score: 0.577763:  60%|######    | 3/5 [00:00<00:00,  5.05it/s]"
     ]
    },
    {
     "name": "stdout",
     "output_type": "stream",
     "text": [
      "Training until validation scores don't improve for 100 rounds\n",
      "[100]\ttraining's binary_logloss: 0.603522\tvalid_1's binary_logloss: 0.586126\n",
      "Early stopping, best iteration is:\n",
      "[96]\ttraining's binary_logloss: 0.604805\tvalid_1's binary_logloss: 0.585383\n"
     ]
    },
    {
     "name": "stderr",
     "output_type": "stream",
     "text": [
      "tune_min_child_samples, val_score: 0.577763:  80%|########  | 4/5 [00:01<00:00,  4.71it/s]"
     ]
    },
    {
     "name": "stdout",
     "output_type": "stream",
     "text": [
      "Training until validation scores don't improve for 100 rounds\n",
      "[100]\ttraining's binary_logloss: 0.61482\tvalid_1's binary_logloss: 0.621188\n",
      "Early stopping, best iteration is:\n",
      "[96]\ttraining's binary_logloss: 0.615634\tvalid_1's binary_logloss: 0.618821\n"
     ]
    },
    {
     "name": "stderr",
     "output_type": "stream",
     "text": [
      "tune_min_child_samples, val_score: 0.577763: 100%|##########| 5/5 [00:01<00:00,  3.81it/s]\n"
     ]
    },
    {
     "name": "stdout",
     "output_type": "stream",
     "text": [
      "2020-03-24 14:11:58 RTwCmnt ********************************************************************************\n",
      "RTwCmnt\n",
      "n_pos_wanted 100\n",
      "2020-03-24 14:11:58 chunk 1\n",
      "2020-03-24 14:11:58 chunk 2\n",
      "2020-03-24 14:11:58 chunk 3\n",
      "2020-03-24 14:11:58 chunk 4\n",
      "2020-03-24 14:11:59 chunk 5\n",
      "2020-03-24 14:11:59 chunk 6\n",
      "2020-03-24 14:11:59 chunk 7\n",
      "2020-03-24 14:11:59 chunk 8\n",
      "2020-03-24 14:11:59 chunk 9\n",
      "2020-03-24 14:11:59 chunk 10\n",
      "2020-03-24 14:11:59 chunk 11\n",
      "2020-03-24 14:11:59 chunk 12\n",
      "2020-03-24 14:12:00 chunk 13\n",
      "dftrvl.shape: (1000, 95) dftrvl[tgtcol].mean(): 0.106\n",
      "{'train_pop': 13000, 'target_pop': 106, 'sampled_train_pop': 1000, 'sampled_target_pop': 106}\n",
      "{'objective': 'binary', 'metric': 'binary_logloss', 'verbosity': 1, 'boosting_type': 'gbdt'}\n"
     ]
    },
    {
     "name": "stderr",
     "output_type": "stream",
     "text": [
      "tune_feature_fraction, val_score: inf:   0%|          | 0/7 [00:00<?, ?it/s]"
     ]
    },
    {
     "name": "stdout",
     "output_type": "stream",
     "text": [
      "Training until validation scores don't improve for 100 rounds\n",
      "[100]\ttraining's binary_logloss: 0.0106093\tvalid_1's binary_logloss: 0.512202\n",
      "Early stopping, best iteration is:\n",
      "[1]\ttraining's binary_logloss: 0.3235\tvalid_1's binary_logloss: 0.32392\n"
     ]
    },
    {
     "name": "stderr",
     "output_type": "stream",
     "text": [
      "tune_feature_fraction, val_score: 0.323920:  14%|#4        | 1/7 [00:00<00:03,  1.84it/s]"
     ]
    },
    {
     "name": "stdout",
     "output_type": "stream",
     "text": [
      "Training until validation scores don't improve for 100 rounds\n",
      "[100]\ttraining's binary_logloss: 0.00936657\tvalid_1's binary_logloss: 0.549557\n",
      "Early stopping, best iteration is:\n",
      "[1]\ttraining's binary_logloss: 0.323639\tvalid_1's binary_logloss: 0.325462\n"
     ]
    },
    {
     "name": "stderr",
     "output_type": "stream",
     "text": [
      "tune_feature_fraction, val_score: 0.323920:  29%|##8       | 2/7 [00:01<00:02,  2.07it/s]"
     ]
    },
    {
     "name": "stdout",
     "output_type": "stream",
     "text": [
      "Training until validation scores don't improve for 100 rounds\n",
      "[100]\ttraining's binary_logloss: 0.0082953\tvalid_1's binary_logloss: 0.554985\n",
      "Early stopping, best iteration is:\n",
      "[2]\ttraining's binary_logloss: 0.311045\tvalid_1's binary_logloss: 0.325443\n"
     ]
    },
    {
     "name": "stderr",
     "output_type": "stream",
     "text": [
      "tune_feature_fraction, val_score: 0.323920:  43%|####2     | 3/7 [00:01<00:01,  2.24it/s]"
     ]
    },
    {
     "name": "stdout",
     "output_type": "stream",
     "text": [
      "Training until validation scores don't improve for 100 rounds\n",
      "[100]\ttraining's binary_logloss: 0.00741748\tvalid_1's binary_logloss: 0.561698\n",
      "Early stopping, best iteration is:\n",
      "[2]\ttraining's binary_logloss: 0.310916\tvalid_1's binary_logloss: 0.329937\n"
     ]
    },
    {
     "name": "stderr",
     "output_type": "stream",
     "text": [
      "tune_feature_fraction, val_score: 0.323920:  57%|#####7    | 4/7 [00:01<00:01,  2.25it/s]"
     ]
    },
    {
     "name": "stdout",
     "output_type": "stream",
     "text": [
      "Training until validation scores don't improve for 100 rounds\n",
      "[100]\ttraining's binary_logloss: 0.00715391\tvalid_1's binary_logloss: 0.560975\n",
      "Early stopping, best iteration is:\n",
      "[2]\ttraining's binary_logloss: 0.310916\tvalid_1's binary_logloss: 0.329936\n"
     ]
    },
    {
     "name": "stderr",
     "output_type": "stream",
     "text": [
      "tune_feature_fraction, val_score: 0.323920:  71%|#######1  | 5/7 [00:02<00:00,  2.42it/s]"
     ]
    },
    {
     "name": "stdout",
     "output_type": "stream",
     "text": [
      "Training until validation scores don't improve for 100 rounds\n",
      "[100]\ttraining's binary_logloss: 0.00673637\tvalid_1's binary_logloss: 0.544571\n",
      "Early stopping, best iteration is:\n",
      "[2]\ttraining's binary_logloss: 0.309118\tvalid_1's binary_logloss: 0.330056\n"
     ]
    },
    {
     "name": "stderr",
     "output_type": "stream",
     "text": [
      "tune_feature_fraction, val_score: 0.323920:  86%|########5 | 6/7 [00:02<00:00,  2.55it/s]"
     ]
    },
    {
     "name": "stdout",
     "output_type": "stream",
     "text": [
      "Training until validation scores don't improve for 100 rounds\n",
      "[100]\ttraining's binary_logloss: 0.00681874\tvalid_1's binary_logloss: 0.554318\n",
      "Early stopping, best iteration is:\n",
      "[2]\ttraining's binary_logloss: 0.308712\tvalid_1's binary_logloss: 0.328135\n"
     ]
    },
    {
     "name": "stderr",
     "output_type": "stream",
     "text": [
      "tune_feature_fraction, val_score: 0.323920: 100%|##########| 7/7 [00:02<00:00,  2.48it/s]\n",
      "tune_num_leaves, val_score: 0.323920:   0%|          | 0/20 [00:00<?, ?it/s]"
     ]
    },
    {
     "name": "stdout",
     "output_type": "stream",
     "text": [
      "Training until validation scores don't improve for 100 rounds\n",
      "[100]\ttraining's binary_logloss: 0.0107727\tvalid_1's binary_logloss: 0.525628\n",
      "Early stopping, best iteration is:\n",
      "[1]\ttraining's binary_logloss: 0.3235\tvalid_1's binary_logloss: 0.32392\n"
     ]
    },
    {
     "name": "stderr",
     "output_type": "stream",
     "text": [
      "tune_num_leaves, val_score: 0.323920:   5%|5         | 1/20 [00:00<00:06,  2.98it/s]"
     ]
    },
    {
     "name": "stdout",
     "output_type": "stream",
     "text": [
      "Training until validation scores don't improve for 100 rounds\n",
      "[100]\ttraining's binary_logloss: 0.0341768\tvalid_1's binary_logloss: 0.467907\n",
      "Early stopping, best iteration is:\n",
      "[1]\ttraining's binary_logloss: 0.326588\tvalid_1's binary_logloss: 0.325624\n"
     ]
    },
    {
     "name": "stderr",
     "output_type": "stream",
     "text": [
      "tune_num_leaves, val_score: 0.323920:  10%|#         | 2/20 [00:00<00:05,  3.14it/s]"
     ]
    },
    {
     "name": "stdout",
     "output_type": "stream",
     "text": [
      "Training until validation scores don't improve for 100 rounds\n",
      "[100]\ttraining's binary_logloss: 0.0107727\tvalid_1's binary_logloss: 0.525628\n",
      "Early stopping, best iteration is:\n",
      "[1]\ttraining's binary_logloss: 0.3235\tvalid_1's binary_logloss: 0.32392\n"
     ]
    },
    {
     "name": "stderr",
     "output_type": "stream",
     "text": [
      "tune_num_leaves, val_score: 0.323920:  15%|#5        | 3/20 [00:01<00:05,  3.01it/s]"
     ]
    },
    {
     "name": "stdout",
     "output_type": "stream",
     "text": [
      "Training until validation scores don't improve for 100 rounds\n",
      "[100]\ttraining's binary_logloss: 0.0107727\tvalid_1's binary_logloss: 0.525628\n",
      "Early stopping, best iteration is:\n",
      "[1]\ttraining's binary_logloss: 0.3235\tvalid_1's binary_logloss: 0.32392\n"
     ]
    },
    {
     "name": "stderr",
     "output_type": "stream",
     "text": [
      "tune_num_leaves, val_score: 0.323920:  20%|##        | 4/20 [00:01<00:05,  2.91it/s]"
     ]
    },
    {
     "name": "stdout",
     "output_type": "stream",
     "text": [
      "Training until validation scores don't improve for 100 rounds\n",
      "[100]\ttraining's binary_logloss: 0.0107727\tvalid_1's binary_logloss: 0.525628\n",
      "Early stopping, best iteration is:\n",
      "[1]\ttraining's binary_logloss: 0.3235\tvalid_1's binary_logloss: 0.32392\n"
     ]
    },
    {
     "name": "stderr",
     "output_type": "stream",
     "text": [
      "tune_num_leaves, val_score: 0.323920:  25%|##5       | 5/20 [00:01<00:05,  2.87it/s]"
     ]
    },
    {
     "name": "stdout",
     "output_type": "stream",
     "text": [
      "Training until validation scores don't improve for 100 rounds\n",
      "[100]\ttraining's binary_logloss: 0.0107728\tvalid_1's binary_logloss: 0.52564\n",
      "Early stopping, best iteration is:\n",
      "[1]\ttraining's binary_logloss: 0.3235\tvalid_1's binary_logloss: 0.32392\n"
     ]
    },
    {
     "name": "stderr",
     "output_type": "stream",
     "text": [
      "tune_num_leaves, val_score: 0.323920:  30%|###       | 6/20 [00:02<00:05,  2.39it/s]"
     ]
    },
    {
     "name": "stdout",
     "output_type": "stream",
     "text": [
      "Training until validation scores don't improve for 100 rounds\n",
      "[100]\ttraining's binary_logloss: 0.0107727\tvalid_1's binary_logloss: 0.525628\n",
      "Early stopping, best iteration is:\n",
      "[1]\ttraining's binary_logloss: 0.3235\tvalid_1's binary_logloss: 0.32392\n"
     ]
    },
    {
     "name": "stderr",
     "output_type": "stream",
     "text": [
      "tune_num_leaves, val_score: 0.323920:  35%|###5      | 7/20 [00:02<00:05,  2.49it/s]"
     ]
    },
    {
     "name": "stdout",
     "output_type": "stream",
     "text": [
      "Training until validation scores don't improve for 100 rounds\n",
      "[100]\ttraining's binary_logloss: 0.0107727\tvalid_1's binary_logloss: 0.525628\n",
      "Early stopping, best iteration is:\n",
      "[1]\ttraining's binary_logloss: 0.3235\tvalid_1's binary_logloss: 0.32392\n"
     ]
    },
    {
     "name": "stderr",
     "output_type": "stream",
     "text": [
      "tune_num_leaves, val_score: 0.323920:  40%|####      | 8/20 [00:03<00:04,  2.58it/s]"
     ]
    },
    {
     "name": "stdout",
     "output_type": "stream",
     "text": [
      "Training until validation scores don't improve for 100 rounds\n",
      "[100]\ttraining's binary_logloss: 0.0107727\tvalid_1's binary_logloss: 0.525628\n",
      "Early stopping, best iteration is:\n",
      "[1]\ttraining's binary_logloss: 0.3235\tvalid_1's binary_logloss: 0.32392\n"
     ]
    },
    {
     "name": "stderr",
     "output_type": "stream",
     "text": [
      "tune_num_leaves, val_score: 0.323920:  45%|####5     | 9/20 [00:03<00:04,  2.62it/s]"
     ]
    },
    {
     "name": "stdout",
     "output_type": "stream",
     "text": [
      "Training until validation scores don't improve for 100 rounds\n",
      "[100]\ttraining's binary_logloss: 0.0107727\tvalid_1's binary_logloss: 0.525628\n",
      "Early stopping, best iteration is:\n",
      "[1]\ttraining's binary_logloss: 0.3235\tvalid_1's binary_logloss: 0.32392\n"
     ]
    },
    {
     "name": "stderr",
     "output_type": "stream",
     "text": [
      "tune_num_leaves, val_score: 0.323920:  50%|#####     | 10/20 [00:03<00:03,  2.59it/s]"
     ]
    },
    {
     "name": "stdout",
     "output_type": "stream",
     "text": [
      "Training until validation scores don't improve for 100 rounds\n",
      "[100]\ttraining's binary_logloss: 0.0107727\tvalid_1's binary_logloss: 0.525628\n",
      "Early stopping, best iteration is:\n",
      "[1]\ttraining's binary_logloss: 0.3235\tvalid_1's binary_logloss: 0.32392\n"
     ]
    },
    {
     "name": "stderr",
     "output_type": "stream",
     "text": [
      "tune_num_leaves, val_score: 0.323920:  55%|#####5    | 11/20 [00:04<00:03,  2.63it/s]"
     ]
    },
    {
     "name": "stdout",
     "output_type": "stream",
     "text": [
      "Training until validation scores don't improve for 100 rounds\n",
      "[100]\ttraining's binary_logloss: 0.0107727\tvalid_1's binary_logloss: 0.525628\n",
      "Early stopping, best iteration is:\n",
      "[1]\ttraining's binary_logloss: 0.3235\tvalid_1's binary_logloss: 0.32392\n"
     ]
    },
    {
     "name": "stderr",
     "output_type": "stream",
     "text": [
      "tune_num_leaves, val_score: 0.323920:  60%|######    | 12/20 [00:04<00:02,  2.67it/s]"
     ]
    },
    {
     "name": "stdout",
     "output_type": "stream",
     "text": [
      "Training until validation scores don't improve for 100 rounds\n",
      "[100]\ttraining's binary_logloss: 0.0107727\tvalid_1's binary_logloss: 0.525628\n",
      "Early stopping, best iteration is:\n",
      "[1]\ttraining's binary_logloss: 0.3235\tvalid_1's binary_logloss: 0.32392\n"
     ]
    },
    {
     "name": "stderr",
     "output_type": "stream",
     "text": [
      "tune_num_leaves, val_score: 0.323920:  65%|######5   | 13/20 [00:04<00:02,  2.67it/s]"
     ]
    },
    {
     "name": "stdout",
     "output_type": "stream",
     "text": [
      "Training until validation scores don't improve for 100 rounds\n",
      "[100]\ttraining's binary_logloss: 0.0107727\tvalid_1's binary_logloss: 0.525628\n",
      "Early stopping, best iteration is:\n",
      "[1]\ttraining's binary_logloss: 0.3235\tvalid_1's binary_logloss: 0.32392\n"
     ]
    },
    {
     "name": "stderr",
     "output_type": "stream",
     "text": [
      "tune_num_leaves, val_score: 0.323920:  70%|#######   | 14/20 [00:05<00:02,  2.52it/s]"
     ]
    },
    {
     "name": "stdout",
     "output_type": "stream",
     "text": [
      "Training until validation scores don't improve for 100 rounds\n",
      "[100]\ttraining's binary_logloss: 0.0107727\tvalid_1's binary_logloss: 0.525628\n",
      "Early stopping, best iteration is:\n",
      "[1]\ttraining's binary_logloss: 0.3235\tvalid_1's binary_logloss: 0.32392\n"
     ]
    },
    {
     "name": "stderr",
     "output_type": "stream",
     "text": [
      "tune_num_leaves, val_score: 0.323920:  75%|#######5  | 15/20 [00:06<00:02,  2.43it/s]"
     ]
    },
    {
     "name": "stdout",
     "output_type": "stream",
     "text": [
      "Training until validation scores don't improve for 100 rounds\n",
      "[100]\ttraining's binary_logloss: 0.0107727\tvalid_1's binary_logloss: 0.525628\n",
      "Early stopping, best iteration is:\n",
      "[1]\ttraining's binary_logloss: 0.3235\tvalid_1's binary_logloss: 0.32392\n"
     ]
    },
    {
     "name": "stderr",
     "output_type": "stream",
     "text": [
      "tune_num_leaves, val_score: 0.323920:  80%|########  | 16/20 [00:06<00:01,  2.14it/s]"
     ]
    },
    {
     "name": "stdout",
     "output_type": "stream",
     "text": [
      "Training until validation scores don't improve for 100 rounds\n",
      "[100]\ttraining's binary_logloss: 0.0107727\tvalid_1's binary_logloss: 0.525628\n",
      "Early stopping, best iteration is:\n",
      "[1]\ttraining's binary_logloss: 0.3235\tvalid_1's binary_logloss: 0.32392\n"
     ]
    },
    {
     "name": "stderr",
     "output_type": "stream",
     "text": [
      "tune_num_leaves, val_score: 0.323920:  85%|########5 | 17/20 [00:06<00:01,  2.16it/s]"
     ]
    },
    {
     "name": "stdout",
     "output_type": "stream",
     "text": [
      "Training until validation scores don't improve for 100 rounds\n",
      "[100]\ttraining's binary_logloss: 0.0107727\tvalid_1's binary_logloss: 0.525628\n",
      "Early stopping, best iteration is:\n",
      "[1]\ttraining's binary_logloss: 0.3235\tvalid_1's binary_logloss: 0.32392\n"
     ]
    },
    {
     "name": "stderr",
     "output_type": "stream",
     "text": [
      "tune_num_leaves, val_score: 0.323920:  90%|######### | 18/20 [00:07<00:00,  2.29it/s]"
     ]
    },
    {
     "name": "stdout",
     "output_type": "stream",
     "text": [
      "Training until validation scores don't improve for 100 rounds\n",
      "[100]\ttraining's binary_logloss: 0.0107727\tvalid_1's binary_logloss: 0.525628\n",
      "Early stopping, best iteration is:\n",
      "[1]\ttraining's binary_logloss: 0.3235\tvalid_1's binary_logloss: 0.32392\n"
     ]
    },
    {
     "name": "stderr",
     "output_type": "stream",
     "text": [
      "tune_num_leaves, val_score: 0.323920:  95%|#########5| 19/20 [00:07<00:00,  2.38it/s]"
     ]
    },
    {
     "name": "stdout",
     "output_type": "stream",
     "text": [
      "Training until validation scores don't improve for 100 rounds\n",
      "[100]\ttraining's binary_logloss: 0.0107727\tvalid_1's binary_logloss: 0.525628\n",
      "Early stopping, best iteration is:\n",
      "[1]\ttraining's binary_logloss: 0.3235\tvalid_1's binary_logloss: 0.32392\n"
     ]
    },
    {
     "name": "stderr",
     "output_type": "stream",
     "text": [
      "tune_num_leaves, val_score: 0.323920: 100%|##########| 20/20 [00:08<00:00,  2.48it/s]\n",
      "tune_bagging_fraction_and_bagging_freq, val_score: 0.323920:   0%|          | 0/10 [00:00<?, ?it/s]"
     ]
    },
    {
     "name": "stdout",
     "output_type": "stream",
     "text": [
      "Training until validation scores don't improve for 100 rounds\n",
      "[100]\ttraining's binary_logloss: 0.0115968\tvalid_1's binary_logloss: 0.558461\n",
      "Early stopping, best iteration is:\n",
      "[1]\ttraining's binary_logloss: 0.328023\tvalid_1's binary_logloss: 0.329368\n"
     ]
    },
    {
     "name": "stderr",
     "output_type": "stream",
     "text": [
      "tune_bagging_fraction_and_bagging_freq, val_score: 0.323920:  10%|#         | 1/10 [00:00<00:03,  2.90it/s]"
     ]
    },
    {
     "name": "stdout",
     "output_type": "stream",
     "text": [
      "Training until validation scores don't improve for 100 rounds\n",
      "[100]\ttraining's binary_logloss: 0.0169547\tvalid_1's binary_logloss: 0.531825\n",
      "Early stopping, best iteration is:\n",
      "[2]\ttraining's binary_logloss: 0.315158\tvalid_1's binary_logloss: 0.322479\n"
     ]
    },
    {
     "name": "stderr",
     "output_type": "stream",
     "text": [
      "tune_bagging_fraction_and_bagging_freq, val_score: 0.322479:  20%|##        | 2/10 [00:00<00:02,  2.84it/s]"
     ]
    },
    {
     "name": "stdout",
     "output_type": "stream",
     "text": [
      "Training until validation scores don't improve for 100 rounds\n",
      "[100]\ttraining's binary_logloss: 0.0388069\tvalid_1's binary_logloss: 0.444067\n",
      "Early stopping, best iteration is:\n",
      "[1]\ttraining's binary_logloss: 0.330373\tvalid_1's binary_logloss: 0.323935\n"
     ]
    },
    {
     "name": "stderr",
     "output_type": "stream",
     "text": [
      "tune_bagging_fraction_and_bagging_freq, val_score: 0.322479:  30%|###       | 3/10 [00:01<00:02,  2.99it/s]"
     ]
    },
    {
     "name": "stdout",
     "output_type": "stream",
     "text": [
      "Training until validation scores don't improve for 100 rounds\n",
      "[100]\ttraining's binary_logloss: 0.0762488\tvalid_1's binary_logloss: 0.450116\n",
      "Early stopping, best iteration is:\n",
      "[2]\ttraining's binary_logloss: 0.327707\tvalid_1's binary_logloss: 0.326461\n"
     ]
    },
    {
     "name": "stderr",
     "output_type": "stream",
     "text": [
      "tune_bagging_fraction_and_bagging_freq, val_score: 0.322479:  40%|####      | 4/10 [00:01<00:01,  3.19it/s]"
     ]
    },
    {
     "name": "stdout",
     "output_type": "stream",
     "text": [
      "Training until validation scores don't improve for 100 rounds\n",
      "[100]\ttraining's binary_logloss: 0.0203316\tvalid_1's binary_logloss: 0.482299\n",
      "Early stopping, best iteration is:\n",
      "[3]\ttraining's binary_logloss: 0.30601\tvalid_1's binary_logloss: 0.327605\n"
     ]
    },
    {
     "name": "stderr",
     "output_type": "stream",
     "text": [
      "tune_bagging_fraction_and_bagging_freq, val_score: 0.322479:  50%|#####     | 5/10 [00:01<00:01,  3.09it/s]"
     ]
    },
    {
     "name": "stdout",
     "output_type": "stream",
     "text": [
      "Training until validation scores don't improve for 100 rounds\n",
      "[100]\ttraining's binary_logloss: 0.0356678\tvalid_1's binary_logloss: 0.459295\n",
      "Early stopping, best iteration is:\n",
      "[1]\ttraining's binary_logloss: 0.331238\tvalid_1's binary_logloss: 0.32367\n"
     ]
    },
    {
     "name": "stderr",
     "output_type": "stream",
     "text": [
      "tune_bagging_fraction_and_bagging_freq, val_score: 0.322479:  60%|######    | 6/10 [00:02<00:01,  2.86it/s]"
     ]
    },
    {
     "name": "stdout",
     "output_type": "stream",
     "text": [
      "Training until validation scores don't improve for 100 rounds\n",
      "[100]\ttraining's binary_logloss: 0.0629919\tvalid_1's binary_logloss: 0.462575\n",
      "Early stopping, best iteration is:\n",
      "[5]\ttraining's binary_logloss: 0.301851\tvalid_1's binary_logloss: 0.322278\n"
     ]
    },
    {
     "name": "stderr",
     "output_type": "stream",
     "text": [
      "tune_bagging_fraction_and_bagging_freq, val_score: 0.322278:  70%|#######   | 7/10 [00:02<00:01,  2.96it/s]"
     ]
    },
    {
     "name": "stdout",
     "output_type": "stream",
     "text": [
      "Training until validation scores don't improve for 100 rounds\n",
      "[100]\ttraining's binary_logloss: 0.0155227\tvalid_1's binary_logloss: 0.485824\n",
      "Early stopping, best iteration is:\n",
      "[7]\ttraining's binary_logloss: 0.259311\tvalid_1's binary_logloss: 0.321033\n"
     ]
    },
    {
     "name": "stderr",
     "output_type": "stream",
     "text": [
      "tune_bagging_fraction_and_bagging_freq, val_score: 0.321033:  80%|########  | 8/10 [00:02<00:00,  2.89it/s]"
     ]
    },
    {
     "name": "stdout",
     "output_type": "stream",
     "text": [
      "Training until validation scores don't improve for 100 rounds\n",
      "[100]\ttraining's binary_logloss: 0.0350876\tvalid_1's binary_logloss: 0.467142\n",
      "Early stopping, best iteration is:\n",
      "[11]\ttraining's binary_logloss: 0.249509\tvalid_1's binary_logloss: 0.320212\n"
     ]
    },
    {
     "name": "stderr",
     "output_type": "stream",
     "text": [
      "tune_bagging_fraction_and_bagging_freq, val_score: 0.320212:  90%|######### | 9/10 [00:03<00:00,  2.96it/s]"
     ]
    },
    {
     "name": "stdout",
     "output_type": "stream",
     "text": [
      "Training until validation scores don't improve for 100 rounds\n",
      "[100]\ttraining's binary_logloss: 0.0854988\tvalid_1's binary_logloss: 0.412728\n",
      "Early stopping, best iteration is:\n",
      "[1]\ttraining's binary_logloss: 0.334779\tvalid_1's binary_logloss: 0.332148\n"
     ]
    },
    {
     "name": "stderr",
     "output_type": "stream",
     "text": [
      "tune_bagging_fraction_and_bagging_freq, val_score: 0.320212: 100%|##########| 10/10 [00:03<00:00,  2.96it/s]\n",
      "tune_feature_fraction, val_score: 0.320212:   0%|          | 0/3 [00:00<?, ?it/s]"
     ]
    },
    {
     "name": "stdout",
     "output_type": "stream",
     "text": [
      "Training until validation scores don't improve for 100 rounds\n",
      "[100]\ttraining's binary_logloss: 0.0350876\tvalid_1's binary_logloss: 0.467142\n",
      "Early stopping, best iteration is:\n",
      "[11]\ttraining's binary_logloss: 0.249509\tvalid_1's binary_logloss: 0.320212\n"
     ]
    },
    {
     "name": "stderr",
     "output_type": "stream",
     "text": [
      "tune_feature_fraction, val_score: 0.320212:  33%|###3      | 1/3 [00:00<00:00,  3.16it/s]"
     ]
    },
    {
     "name": "stdout",
     "output_type": "stream",
     "text": [
      "Training until validation scores don't improve for 100 rounds\n",
      "[100]\ttraining's binary_logloss: 0.034365\tvalid_1's binary_logloss: 0.465462\n",
      "Early stopping, best iteration is:\n",
      "[11]\ttraining's binary_logloss: 0.246704\tvalid_1's binary_logloss: 0.323126\n"
     ]
    },
    {
     "name": "stderr",
     "output_type": "stream",
     "text": [
      "tune_feature_fraction, val_score: 0.320212:  67%|######6   | 2/3 [00:00<00:00,  3.09it/s]"
     ]
    },
    {
     "name": "stdout",
     "output_type": "stream",
     "text": [
      "Training until validation scores don't improve for 100 rounds\n",
      "[100]\ttraining's binary_logloss: 0.0343931\tvalid_1's binary_logloss: 0.457583\n",
      "Early stopping, best iteration is:\n",
      "[11]\ttraining's binary_logloss: 0.247301\tvalid_1's binary_logloss: 0.323081\n"
     ]
    },
    {
     "name": "stderr",
     "output_type": "stream",
     "text": [
      "tune_feature_fraction, val_score: 0.320212: 100%|##########| 3/3 [00:01<00:00,  2.70it/s]\n",
      "tune_lambda_l1_and_lambda_l2, val_score: 0.320212:   0%|          | 0/20 [00:00<?, ?it/s]"
     ]
    },
    {
     "name": "stdout",
     "output_type": "stream",
     "text": [
      "Training until validation scores don't improve for 100 rounds\n",
      "[100]\ttraining's binary_logloss: 0.0746829\tvalid_1's binary_logloss: 0.413294\n",
      "Early stopping, best iteration is:\n",
      "[1]\ttraining's binary_logloss: 0.333542\tvalid_1's binary_logloss: 0.326538\n"
     ]
    },
    {
     "name": "stderr",
     "output_type": "stream",
     "text": [
      "tune_lambda_l1_and_lambda_l2, val_score: 0.320212:   5%|5         | 1/20 [00:00<00:03,  5.33it/s]"
     ]
    },
    {
     "name": "stdout",
     "output_type": "stream",
     "text": [
      "Training until validation scores don't improve for 100 rounds\n",
      "[100]\ttraining's binary_logloss: 0.0350883\tvalid_1's binary_logloss: 0.467165\n",
      "Early stopping, best iteration is:\n",
      "[11]\ttraining's binary_logloss: 0.24951\tvalid_1's binary_logloss: 0.320212\n"
     ]
    },
    {
     "name": "stderr",
     "output_type": "stream",
     "text": [
      "tune_lambda_l1_and_lambda_l2, val_score: 0.320212:  10%|#         | 2/20 [00:00<00:04,  4.37it/s]"
     ]
    },
    {
     "name": "stdout",
     "output_type": "stream",
     "text": [
      "Training until validation scores don't improve for 100 rounds\n",
      "[100]\ttraining's binary_logloss: 0.0554015\tvalid_1's binary_logloss: 0.428035\n",
      "Early stopping, best iteration is:\n",
      "[12]\ttraining's binary_logloss: 0.251623\tvalid_1's binary_logloss: 0.317543\n"
     ]
    },
    {
     "name": "stderr",
     "output_type": "stream",
     "text": [
      "tune_lambda_l1_and_lambda_l2, val_score: 0.317543:  15%|#5        | 3/20 [00:00<00:04,  3.87it/s]"
     ]
    },
    {
     "name": "stdout",
     "output_type": "stream",
     "text": [
      "Training until validation scores don't improve for 100 rounds\n",
      "[100]\ttraining's binary_logloss: 0.180622\tvalid_1's binary_logloss: 0.368759\n",
      "Early stopping, best iteration is:\n",
      "[6]\ttraining's binary_logloss: 0.31069\tvalid_1's binary_logloss: 0.323596\n"
     ]
    },
    {
     "name": "stderr",
     "output_type": "stream",
     "text": [
      "tune_lambda_l1_and_lambda_l2, val_score: 0.317543:  20%|##        | 4/20 [00:01<00:04,  3.82it/s]"
     ]
    },
    {
     "name": "stdout",
     "output_type": "stream",
     "text": [
      "Training until validation scores don't improve for 100 rounds\n",
      "[100]\ttraining's binary_logloss: 0.0634509\tvalid_1's binary_logloss: 0.422195\n",
      "Early stopping, best iteration is:\n",
      "[11]\ttraining's binary_logloss: 0.256756\tvalid_1's binary_logloss: 0.320165\n"
     ]
    },
    {
     "name": "stderr",
     "output_type": "stream",
     "text": [
      "tune_lambda_l1_and_lambda_l2, val_score: 0.317543:  25%|##5       | 5/20 [00:01<00:04,  3.62it/s]"
     ]
    },
    {
     "name": "stdout",
     "output_type": "stream",
     "text": [
      "Training until validation scores don't improve for 100 rounds\n",
      "[100]\ttraining's binary_logloss: 0.0350877\tvalid_1's binary_logloss: 0.467141\n",
      "Early stopping, best iteration is:\n",
      "[11]\ttraining's binary_logloss: 0.249509\tvalid_1's binary_logloss: 0.320212\n"
     ]
    },
    {
     "name": "stderr",
     "output_type": "stream",
     "text": [
      "tune_lambda_l1_and_lambda_l2, val_score: 0.317543:  30%|###       | 6/20 [00:01<00:04,  3.33it/s]"
     ]
    },
    {
     "name": "stdout",
     "output_type": "stream",
     "text": [
      "Training until validation scores don't improve for 100 rounds\n",
      "[100]\ttraining's binary_logloss: 0.175778\tvalid_1's binary_logloss: 0.370878\n",
      "Early stopping, best iteration is:\n",
      "[12]\ttraining's binary_logloss: 0.306458\tvalid_1's binary_logloss: 0.324324\n"
     ]
    },
    {
     "name": "stderr",
     "output_type": "stream",
     "text": [
      "tune_lambda_l1_and_lambda_l2, val_score: 0.317543:  35%|###5      | 7/20 [00:02<00:03,  3.41it/s]"
     ]
    },
    {
     "name": "stdout",
     "output_type": "stream",
     "text": [
      "Training until validation scores don't improve for 100 rounds\n",
      "[100]\ttraining's binary_logloss: 0.0422016\tvalid_1's binary_logloss: 0.46745\n",
      "Early stopping, best iteration is:\n",
      "[1]\ttraining's binary_logloss: 0.331683\tvalid_1's binary_logloss: 0.323627\n"
     ]
    },
    {
     "name": "stderr",
     "output_type": "stream",
     "text": [
      "tune_lambda_l1_and_lambda_l2, val_score: 0.317543:  40%|####      | 8/20 [00:02<00:03,  3.23it/s]"
     ]
    },
    {
     "name": "stdout",
     "output_type": "stream",
     "text": [
      "Training until validation scores don't improve for 100 rounds\n",
      "[100]\ttraining's binary_logloss: 0.0410443\tvalid_1's binary_logloss: 0.454886\n",
      "Early stopping, best iteration is:\n",
      "[11]\ttraining's binary_logloss: 0.249386\tvalid_1's binary_logloss: 0.321441\n"
     ]
    },
    {
     "name": "stderr",
     "output_type": "stream",
     "text": [
      "tune_lambda_l1_and_lambda_l2, val_score: 0.317543:  45%|####5     | 9/20 [00:02<00:03,  3.23it/s]"
     ]
    },
    {
     "name": "stdout",
     "output_type": "stream",
     "text": [
      "Training until validation scores don't improve for 100 rounds\n",
      "[100]\ttraining's binary_logloss: 0.108672\tvalid_1's binary_logloss: 0.396941\n",
      "Early stopping, best iteration is:\n",
      "[5]\ttraining's binary_logloss: 0.30271\tvalid_1's binary_logloss: 0.324293\n"
     ]
    },
    {
     "name": "stderr",
     "output_type": "stream",
     "text": [
      "tune_lambda_l1_and_lambda_l2, val_score: 0.317543:  50%|#####     | 10/20 [00:03<00:03,  3.24it/s]"
     ]
    },
    {
     "name": "stdout",
     "output_type": "stream",
     "text": [
      "Training until validation scores don't improve for 100 rounds\n",
      "[100]\ttraining's binary_logloss: 0.0352433\tvalid_1's binary_logloss: 0.460605\n",
      "Early stopping, best iteration is:\n",
      "[11]\ttraining's binary_logloss: 0.249146\tvalid_1's binary_logloss: 0.319491\n"
     ]
    },
    {
     "name": "stderr",
     "output_type": "stream",
     "text": [
      "tune_lambda_l1_and_lambda_l2, val_score: 0.317543:  55%|#####5    | 11/20 [00:03<00:02,  3.11it/s]"
     ]
    },
    {
     "name": "stdout",
     "output_type": "stream",
     "text": [
      "Training until validation scores don't improve for 100 rounds\n",
      "[100]\ttraining's binary_logloss: 0.0361381\tvalid_1's binary_logloss: 0.481511\n",
      "Early stopping, best iteration is:\n",
      "[11]\ttraining's binary_logloss: 0.249311\tvalid_1's binary_logloss: 0.319486\n"
     ]
    },
    {
     "name": "stderr",
     "output_type": "stream",
     "text": [
      "tune_lambda_l1_and_lambda_l2, val_score: 0.317543:  60%|######    | 12/20 [00:03<00:02,  3.10it/s]"
     ]
    },
    {
     "name": "stdout",
     "output_type": "stream",
     "text": [
      "Training until validation scores don't improve for 100 rounds\n",
      "[100]\ttraining's binary_logloss: 0.038607\tvalid_1's binary_logloss: 0.462261\n",
      "Early stopping, best iteration is:\n",
      "[11]\ttraining's binary_logloss: 0.248541\tvalid_1's binary_logloss: 0.321853\n"
     ]
    },
    {
     "name": "stderr",
     "output_type": "stream",
     "text": [
      "tune_lambda_l1_and_lambda_l2, val_score: 0.317543:  65%|######5   | 13/20 [00:04<00:02,  2.88it/s]"
     ]
    },
    {
     "name": "stdout",
     "output_type": "stream",
     "text": [
      "Training until validation scores don't improve for 100 rounds\n",
      "[100]\ttraining's binary_logloss: 0.0355166\tvalid_1's binary_logloss: 0.459313\n",
      "Early stopping, best iteration is:\n",
      "[11]\ttraining's binary_logloss: 0.249067\tvalid_1's binary_logloss: 0.319497\n"
     ]
    },
    {
     "name": "stderr",
     "output_type": "stream",
     "text": [
      "tune_lambda_l1_and_lambda_l2, val_score: 0.317543:  70%|#######   | 14/20 [00:04<00:02,  2.95it/s]"
     ]
    },
    {
     "name": "stdout",
     "output_type": "stream",
     "text": [
      "Training until validation scores don't improve for 100 rounds\n",
      "[100]\ttraining's binary_logloss: 0.157281\tvalid_1's binary_logloss: 0.380038\n",
      "Early stopping, best iteration is:\n",
      "[1]\ttraining's binary_logloss: 0.336579\tvalid_1's binary_logloss: 0.326408\n"
     ]
    },
    {
     "name": "stderr",
     "output_type": "stream",
     "text": [
      "tune_lambda_l1_and_lambda_l2, val_score: 0.317543:  75%|#######5  | 15/20 [00:04<00:01,  3.12it/s]"
     ]
    },
    {
     "name": "stdout",
     "output_type": "stream",
     "text": [
      "Training until validation scores don't improve for 100 rounds\n",
      "[100]\ttraining's binary_logloss: 0.0437238\tvalid_1's binary_logloss: 0.412828\n",
      "Early stopping, best iteration is:\n",
      "[12]\ttraining's binary_logloss: 0.245106\tvalid_1's binary_logloss: 0.31532\n"
     ]
    },
    {
     "name": "stderr",
     "output_type": "stream",
     "text": [
      "tune_lambda_l1_and_lambda_l2, val_score: 0.315320:  80%|########  | 16/20 [00:05<00:01,  3.08it/s]"
     ]
    },
    {
     "name": "stdout",
     "output_type": "stream",
     "text": [
      "Training until validation scores don't improve for 100 rounds\n",
      "[100]\ttraining's binary_logloss: 0.0549353\tvalid_1's binary_logloss: 0.429839\n",
      "Early stopping, best iteration is:\n",
      "[9]\ttraining's binary_logloss: 0.270086\tvalid_1's binary_logloss: 0.321991\n"
     ]
    },
    {
     "name": "stderr",
     "output_type": "stream",
     "text": [
      "tune_lambda_l1_and_lambda_l2, val_score: 0.315320:  85%|########5 | 17/20 [00:05<00:00,  3.08it/s]"
     ]
    },
    {
     "name": "stdout",
     "output_type": "stream",
     "text": [
      "Training until validation scores don't improve for 100 rounds\n",
      "[100]\ttraining's binary_logloss: 0.0743042\tvalid_1's binary_logloss: 0.417038\n",
      "Early stopping, best iteration is:\n",
      "[1]\ttraining's binary_logloss: 0.333563\tvalid_1's binary_logloss: 0.326538\n"
     ]
    },
    {
     "name": "stderr",
     "output_type": "stream",
     "text": [
      "tune_lambda_l1_and_lambda_l2, val_score: 0.315320:  90%|######### | 18/20 [00:05<00:00,  2.89it/s]"
     ]
    },
    {
     "name": "stdout",
     "output_type": "stream",
     "text": [
      "Training until validation scores don't improve for 100 rounds\n",
      "[100]\ttraining's binary_logloss: 0.0353842\tvalid_1's binary_logloss: 0.46448\n",
      "Early stopping, best iteration is:\n",
      "[11]\ttraining's binary_logloss: 0.249037\tvalid_1's binary_logloss: 0.319571\n"
     ]
    },
    {
     "name": "stderr",
     "output_type": "stream",
     "text": [
      "tune_lambda_l1_and_lambda_l2, val_score: 0.315320:  95%|#########5| 19/20 [00:06<00:00,  2.67it/s]"
     ]
    },
    {
     "name": "stdout",
     "output_type": "stream",
     "text": [
      "Training until validation scores don't improve for 100 rounds\n",
      "[100]\ttraining's binary_logloss: 0.129576\tvalid_1's binary_logloss: 0.377054\n",
      "Early stopping, best iteration is:\n",
      "[6]\ttraining's binary_logloss: 0.312174\tvalid_1's binary_logloss: 0.32317\n"
     ]
    },
    {
     "name": "stderr",
     "output_type": "stream",
     "text": [
      "tune_lambda_l1_and_lambda_l2, val_score: 0.315320: 100%|##########| 20/20 [00:06<00:00,  3.01it/s]\n",
      "tune_min_child_samples, val_score: 0.315320:   0%|          | 0/5 [00:00<?, ?it/s]"
     ]
    },
    {
     "name": "stdout",
     "output_type": "stream",
     "text": [
      "Training until validation scores don't improve for 100 rounds\n",
      "[100]\ttraining's binary_logloss: 0.0104007\tvalid_1's binary_logloss: 0.531542\n",
      "Early stopping, best iteration is:\n",
      "[4]\ttraining's binary_logloss: 0.254629\tvalid_1's binary_logloss: 0.320492\n"
     ]
    },
    {
     "name": "stderr",
     "output_type": "stream",
     "text": [
      "tune_min_child_samples, val_score: 0.315320:  20%|##        | 1/5 [00:00<00:03,  1.28it/s]"
     ]
    },
    {
     "name": "stdout",
     "output_type": "stream",
     "text": [
      "Training until validation scores don't improve for 100 rounds\n",
      "[100]\ttraining's binary_logloss: 0.0177101\tvalid_1's binary_logloss: 0.4664\n",
      "Early stopping, best iteration is:\n",
      "[1]\ttraining's binary_logloss: 0.325456\tvalid_1's binary_logloss: 0.326977\n"
     ]
    },
    {
     "name": "stderr",
     "output_type": "stream",
     "text": [
      "tune_min_child_samples, val_score: 0.315320:  40%|####      | 2/5 [00:01<00:02,  1.38it/s]"
     ]
    },
    {
     "name": "stdout",
     "output_type": "stream",
     "text": [
      "Training until validation scores don't improve for 100 rounds\n",
      "[100]\ttraining's binary_logloss: 0.0625277\tvalid_1's binary_logloss: 0.403944\n",
      "Early stopping, best iteration is:\n",
      "[7]\ttraining's binary_logloss: 0.288846\tvalid_1's binary_logloss: 0.320788\n"
     ]
    },
    {
     "name": "stderr",
     "output_type": "stream",
     "text": [
      "tune_min_child_samples, val_score: 0.315320:  60%|######    | 3/5 [00:01<00:01,  1.56it/s]"
     ]
    },
    {
     "name": "stdout",
     "output_type": "stream",
     "text": [
      "Training until validation scores don't improve for 100 rounds\n",
      "[100]\ttraining's binary_logloss: 0.144271\tvalid_1's binary_logloss: 0.392084\n",
      "Early stopping, best iteration is:\n",
      "[7]\ttraining's binary_logloss: 0.309368\tvalid_1's binary_logloss: 0.31993\n"
     ]
    },
    {
     "name": "stderr",
     "output_type": "stream",
     "text": [
      "tune_min_child_samples, val_score: 0.315320:  80%|########  | 4/5 [00:02<00:00,  1.71it/s]"
     ]
    },
    {
     "name": "stdout",
     "output_type": "stream",
     "text": [
      "Training until validation scores don't improve for 100 rounds\n",
      "[100]\ttraining's binary_logloss: 0.24041\tvalid_1's binary_logloss: 0.362744\n",
      "Early stopping, best iteration is:\n",
      "[11]\ttraining's binary_logloss: 0.316587\tvalid_1's binary_logloss: 0.320855\n"
     ]
    },
    {
     "name": "stderr",
     "output_type": "stream",
     "text": [
      "tune_min_child_samples, val_score: 0.315320: 100%|##########| 5/5 [00:02<00:00,  1.82it/s]\n"
     ]
    }
   ],
   "source": [
    "tgt2params = {k:\n",
    "#               {'num_leaves': 64, 'objective': 'binary', \n",
    "#              'metric': 'auc'}\n",
    "                {\n",
    "                        \"objective\": \"binary\",\n",
    "                        \"metric\": \"binary_logloss\",\n",
    "                        \"verbosity\": 1,\n",
    "                        \"boosting_type\": \"gbdt\",\n",
    "                    }\n",
    "              for k in tgts}\n",
    "\n",
    "tgt2bst={}\n",
    "# tgt2evalres={}\n",
    "tgt2best_params={}\n",
    "tgt2tuning_history={}\n",
    "tgt2ytr={}\n",
    "tgt2yvl={}\n",
    "tgt2prdtr={}\n",
    "tgt2prdvl={}\n",
    "tgt2pops={}\n",
    "for tgt in tgts:\n",
    "    print(dtnow(), tgt, '*'*80)\n",
    "    do_tgt(tgt)\n",
    "    \n",
    "pickle.dump(tgt2bst, open(f\"{p_out}/tgt2bst.p\", \"wb\"))"
   ]
  },
  {
   "cell_type": "markdown",
   "metadata": {},
   "source": [
    "# analyze"
   ]
  },
  {
   "cell_type": "markdown",
   "metadata": {},
   "source": [
    "## tr vl"
   ]
  },
  {
   "cell_type": "raw",
   "metadata": {
    "scrolled": false
   },
   "source": [
    "for tgt in tgt2evalres:\n",
    "    evalres=tgt2evalres[tgt]\n",
    "    plt.plot(evalres['train']['logloss'][10:])\n",
    "    plt.plot(evalres['eval']['logloss'][10:])\n",
    "    plt.title(f\"{tgt} logloss {len(evalres['train']['logloss'])} rounds\")\n",
    "    plt.show()\n",
    "    plt.plot(evalres['train']['aucpr'])\n",
    "    plt.plot(evalres['eval']['aucpr'])\n",
    "    plt.title(f\"{tgt} aucpr {len(evalres['train']['aucpr'])} rounds\")\n",
    "    plt.show()"
   ]
  },
  {
   "cell_type": "raw",
   "metadata": {
    "scrolled": false
   },
   "source": [
    "def show_feat_importance(tgt):\n",
    "    bst=tgt2bst[tgt]\n",
    "    ax = xgb.plot_importance(bst, height=0.8, max_num_features=9)\n",
    "    ax.grid(False, axis=\"y\")\n",
    "    ax.set_title(f'{tgt} Estimated feature importance')\n",
    "    plt.show()\n",
    "    feat2importance=bst.get_fscore()\n",
    "    print(tgt)\n",
    "    display(pd.DataFrame([feat2importance.keys(), \n",
    "                          feat2importance.values()]).T.sort_values(1, ascending=False))\n",
    "\n",
    "for tgt in tgt2bst:\n",
    "    show_feat_importance(tgt)"
   ]
  },
  {
   "cell_type": "code",
   "execution_count": 10,
   "metadata": {},
   "outputs": [
    {
     "name": "stdout",
     "output_type": "stream",
     "text": [
      "Retweet\n",
      "tr prauc: 0.9310 tr rce: 34.9656\n",
      "vl prauc: 0.4581 vl rce: 10.1612\n",
      "Reply\n",
      "tr prauc: 0.7136 tr rce: 37.8520\n",
      "vl prauc: 0.3443 vl rce: 18.2966\n",
      "Like\n",
      "tr prauc: 0.7166 tr rce: 14.1362\n",
      "vl prauc: 0.7588 vl rce: 16.2594\n",
      "RTwCmnt\n",
      "tr prauc: 0.8043 tr rce: 27.9783\n",
      "vl prauc: 0.2197 vl rce: 3.0032\n"
     ]
    }
   ],
   "source": [
    "tgt2auc_tr={}\n",
    "tgt2rce_tr={}\n",
    "tgt2auc_vl={}\n",
    "tgt2rce_vl={}\n",
    "for tgt in tgt2bst:\n",
    "    print(tgt)\n",
    "    prdtr_i, prdvl_i = tgt2prdtr[tgt], tgt2prdvl[tgt]\n",
    "    ytr_i, yvl_i = tgt2ytr[tgt], tgt2yvl[tgt]\n",
    "    scr_auc_tr=compute_prauc(prdtr_i, ytr_i)\n",
    "    scr_rce_tr=compute_rce(prdtr_i, ytr_i)\n",
    "    scr_auc_vl=compute_prauc(prdvl_i, yvl_i)\n",
    "    scr_rce_vl=compute_rce(prdvl_i, yvl_i)\n",
    "\n",
    "    tgt2auc_tr[tgt]=scr_auc_tr\n",
    "    tgt2rce_tr[tgt]=scr_rce_tr\n",
    "    tgt2auc_vl[tgt]=scr_auc_vl\n",
    "    tgt2rce_vl[tgt]=scr_rce_vl\n",
    "    \n",
    "    print('tr prauc:', f'{scr_auc_tr:.4f}','tr rce:', f'{scr_rce_tr:.4f}', )\n",
    "    print('vl prauc:', f'{scr_auc_vl:.4f}','vl rce:', f'{scr_rce_vl:.4f}', )"
   ]
  },
  {
   "cell_type": "code",
   "execution_count": 11,
   "metadata": {},
   "outputs": [
    {
     "data": {
      "text/html": [
       "<div>\n",
       "<style scoped>\n",
       "    .dataframe tbody tr th:only-of-type {\n",
       "        vertical-align: middle;\n",
       "    }\n",
       "\n",
       "    .dataframe tbody tr th {\n",
       "        vertical-align: top;\n",
       "    }\n",
       "\n",
       "    .dataframe thead th {\n",
       "        text-align: right;\n",
       "    }\n",
       "</style>\n",
       "<table border=\"1\" class=\"dataframe\">\n",
       "  <thead>\n",
       "    <tr style=\"text-align: right;\">\n",
       "      <th></th>\n",
       "      <th>0</th>\n",
       "      <th>1</th>\n",
       "      <th>2</th>\n",
       "      <th>3</th>\n",
       "      <th>4</th>\n",
       "      <th>5</th>\n",
       "      <th>6</th>\n",
       "      <th>7</th>\n",
       "    </tr>\n",
       "  </thead>\n",
       "  <tbody>\n",
       "    <tr>\n",
       "      <th>metric</th>\n",
       "      <td>PRAUC Retweet</td>\n",
       "      <td>RCE Retweet</td>\n",
       "      <td>PRAUC Reply</td>\n",
       "      <td>RCE Reply</td>\n",
       "      <td>PRAUC Like</td>\n",
       "      <td>RCE Like</td>\n",
       "      <td>PRAUC RTwCmnt</td>\n",
       "      <td>RCE RTwCmnt</td>\n",
       "    </tr>\n",
       "    <tr>\n",
       "      <th>scrtr</th>\n",
       "      <td>0.931034</td>\n",
       "      <td>34.9656</td>\n",
       "      <td>0.71364</td>\n",
       "      <td>37.852</td>\n",
       "      <td>0.716634</td>\n",
       "      <td>14.1362</td>\n",
       "      <td>0.804264</td>\n",
       "      <td>27.9783</td>\n",
       "    </tr>\n",
       "    <tr>\n",
       "      <th>scrvl</th>\n",
       "      <td>0.458124</td>\n",
       "      <td>10.1612</td>\n",
       "      <td>0.344305</td>\n",
       "      <td>18.2966</td>\n",
       "      <td>0.758757</td>\n",
       "      <td>16.2594</td>\n",
       "      <td>0.219697</td>\n",
       "      <td>3.00319</td>\n",
       "    </tr>\n",
       "  </tbody>\n",
       "</table>\n",
       "</div>"
      ],
      "text/plain": [
       "                    0            1            2          3           4  \\\n",
       "metric  PRAUC Retweet  RCE Retweet  PRAUC Reply  RCE Reply  PRAUC Like   \n",
       "scrtr        0.931034      34.9656      0.71364     37.852    0.716634   \n",
       "scrvl        0.458124      10.1612     0.344305    18.2966    0.758757   \n",
       "\n",
       "               5              6            7  \n",
       "metric  RCE Like  PRAUC RTwCmnt  RCE RTwCmnt  \n",
       "scrtr    14.1362       0.804264      27.9783  \n",
       "scrvl    16.2594       0.219697      3.00319  "
      ]
     },
     "execution_count": 11,
     "metadata": {},
     "output_type": "execute_result"
    }
   ],
   "source": [
    "lsttr=[]\n",
    "lstvl=[]\n",
    "for tgt in ['Retweet','Reply','Like','RTwCmnt',]:\n",
    "    if tgt not in tgt2bst: continue\n",
    "    lsttr+=[(f'PRAUC {tgt}',tgt2auc_tr[tgt]),\n",
    "          (f'RCE {tgt}',tgt2rce_tr[tgt])]\n",
    "    lstvl+=[(f'PRAUC {tgt}',tgt2auc_vl[tgt]),\n",
    "          (f'RCE {tgt}',tgt2rce_vl[tgt])]\n",
    "\n",
    "dfscrtr=pd.DataFrame(lsttr)\n",
    "dfscrtr.columns=['metric','scr']\n",
    "dfscrvl=pd.DataFrame(lstvl)\n",
    "dfscrvl.columns=['metric','scr']\n",
    "dfscr = pd.merge(dfscrtr, dfscrvl, on='metric', suffixes=('tr','vl'))\n",
    "dfscr.T"
   ]
  },
  {
   "cell_type": "markdown",
   "metadata": {},
   "source": [
    "## valid"
   ]
  },
  {
   "cell_type": "code",
   "execution_count": 12,
   "metadata": {},
   "outputs": [],
   "source": [
    "# tgt=tgts[1]\n",
    "# tgtcol=tgt2col[tgt]\n",
    "# bst=tgt2bst[tgt]\n",
    "\n",
    "# dvalid=xgb.DMatrix(dfvalid[cols_feat], label=dfvalid[tgtcol], feature_names=cols_feat)\n",
    "\n",
    "# prdvalid = bst.predict(dvalid, ntree_limit=bst.best_ntree_limit)\n",
    "\n",
    "# pops=tgt2pops[tgt]\n",
    "\n",
    "# prdvalid[:10]\n",
    "# # array([0.11734424, 0.09971393, 0.05619054, 0.03059793, 0.07979691,\n",
    "# #        0.01358252, 0.05293725, 0.27954698, 0.05738379, 0.01741553],\n",
    "# #       dtype=float32)\n",
    "\n",
    "\n",
    "# pops\n",
    "# # {'train_pop': 4000000,\n",
    "# #  'target_pop': 109752,\n",
    "# #  'sampled_train_pop': 1000000,\n",
    "# #  'sampled_target_pop': 109752}\n",
    "\n",
    "# prdvalid_calib = calibration(prdvalid, **pops)\n",
    "\n",
    "# prdvalid_calib[:10]\n",
    "# # array([0.02952491, 0.02471944, 0.01344113, 0.00717127, 0.01945818,\n",
    "# #        0.00314114, 0.0126298 , 0.08155248, 0.01373977, 0.00403964],\n",
    "# #       dtype=float32)"
   ]
  },
  {
   "cell_type": "code",
   "execution_count": 13,
   "metadata": {},
   "outputs": [],
   "source": [
    "def do_post_valid(tgt):\n",
    "    tgtcol=tgt2col[tgt]\n",
    "    bst=tgt2bst[tgt]\n",
    "    pops=tgt2pops[tgt]\n",
    "    prdvalid = bst.predict(dfvalid[cols_feat])\n",
    "    prdvalid_calib = calibration(prdvalid, **pops)\n",
    "    return prdvalid,prdvalid_calib"
   ]
  },
  {
   "cell_type": "code",
   "execution_count": 14,
   "metadata": {},
   "outputs": [
    {
     "name": "stdout",
     "output_type": "stream",
     "text": [
      "2020-03-24 14:12:25 Retweet\n",
      "2020-03-24 14:12:25 Reply\n",
      "2020-03-24 14:12:25 Like\n",
      "2020-03-24 14:12:25 RTwCmnt\n"
     ]
    }
   ],
   "source": [
    "tgt2yvalid={tgt:dfvalid[tgt2col[tgt]] for tgt in tgts}\n",
    "tgt2prdvalid={}\n",
    "tgt2prdvalid_calib={}\n",
    "for tgt in tgts:\n",
    "    print(dtnow(), tgt)\n",
    "    tgt2prdvalid[tgt],tgt2prdvalid_calib[tgt]=do_post_valid(tgt)\n"
   ]
  },
  {
   "cell_type": "code",
   "execution_count": 15,
   "metadata": {},
   "outputs": [
    {
     "name": "stdout",
     "output_type": "stream",
     "text": [
      "2020-03-24 14:12:25 Retweet\n",
      "2020-03-24 14:12:25 Reply\n",
      "2020-03-24 14:12:25 Like\n",
      "2020-03-24 14:12:25 RTwCmnt\n"
     ]
    }
   ],
   "source": [
    "tgt2auc_valid={}\n",
    "tgt2rce_valid={}\n",
    "tgt2auc_valid_calib={}\n",
    "tgt2rce_valid_calib={}\n",
    "for tgt in tgts:\n",
    "    print(dtnow(), tgt)\n",
    "    prdvalid, prdvalid_calib = tgt2prdvalid[tgt], tgt2prdvalid_calib[tgt]\n",
    "    yvalid = tgt2yvalid[tgt]\n",
    "    scr_auc_valid=compute_prauc(prdvalid, yvalid)\n",
    "    scr_rce_valid=compute_rce(prdvalid, yvalid)\n",
    "    scr_auc_valid_calib=compute_prauc(prdvalid_calib, yvalid)\n",
    "    scr_rce_valid_calib=compute_rce(prdvalid_calib, yvalid)\n",
    "\n",
    "    tgt2auc_valid[tgt]=scr_auc_valid\n",
    "    tgt2rce_valid[tgt]=scr_rce_valid\n",
    "    tgt2auc_valid_calib[tgt]=scr_auc_valid_calib\n",
    "    tgt2rce_valid_calib[tgt]=scr_rce_valid_calib"
   ]
  },
  {
   "cell_type": "code",
   "execution_count": 16,
   "metadata": {},
   "outputs": [
    {
     "name": "stdout",
     "output_type": "stream",
     "text": [
      "Retweet\n",
      "tr          prauc: 0.9310 tr rce: 34.9656\n",
      "vl          prauc: 0.4581 tr rce: 10.1612\n",
      "valid       prauc: 0.1876 tr rce: -5.4714\n",
      "valid_calib prauc: 0.1876 tr rce: 0.7108\n",
      "Reply\n",
      "tr          prauc: 0.7136 tr rce: 37.8520\n",
      "vl          prauc: 0.3443 tr rce: 18.2966\n",
      "valid       prauc: 0.0625 tr rce: -35.8769\n",
      "valid_calib prauc: 0.0625 tr rce: -0.6478\n",
      "Like\n",
      "tr          prauc: 0.7166 tr rce: 14.1362\n",
      "vl          prauc: 0.7588 tr rce: 16.2594\n",
      "valid       prauc: 0.6679 tr rce: 10.2916\n",
      "valid_calib prauc: 0.6679 tr rce: 10.2916\n",
      "RTwCmnt\n",
      "tr          prauc: 0.8043 tr rce: 27.9783\n",
      "vl          prauc: 0.2197 tr rce: 3.0032\n",
      "valid       prauc: 0.0297 tr rce: -292.1481\n",
      "valid_calib prauc: 0.0297 tr rce: 0.0423\n"
     ]
    }
   ],
   "source": [
    "for tgt in tgts:\n",
    "    print(tgt)\n",
    "    print('tr          prauc:', f'{tgt2auc_tr[tgt]:.4f}','tr rce:', f'{tgt2rce_tr[tgt]:.4f}', )\n",
    "    print('vl          prauc:', f'{tgt2auc_vl[tgt]:.4f}','tr rce:', f'{tgt2rce_vl[tgt]:.4f}', )\n",
    "    print('valid       prauc:', f'{tgt2auc_valid[tgt]:.4f}','tr rce:', f'{tgt2rce_valid[tgt]:.4f}', )\n",
    "    print('valid_calib prauc:', f'{tgt2auc_valid_calib[tgt]:.4f}','tr rce:', f'{tgt2rce_valid_calib[tgt]:.4f}', )\n",
    "    "
   ]
  },
  {
   "cell_type": "code",
   "execution_count": 17,
   "metadata": {},
   "outputs": [
    {
     "data": {
      "text/html": [
       "<div>\n",
       "<style scoped>\n",
       "    .dataframe tbody tr th:only-of-type {\n",
       "        vertical-align: middle;\n",
       "    }\n",
       "\n",
       "    .dataframe tbody tr th {\n",
       "        vertical-align: top;\n",
       "    }\n",
       "\n",
       "    .dataframe thead th {\n",
       "        text-align: right;\n",
       "    }\n",
       "</style>\n",
       "<table border=\"1\" class=\"dataframe\">\n",
       "  <thead>\n",
       "    <tr style=\"text-align: right;\">\n",
       "      <th></th>\n",
       "      <th>0</th>\n",
       "      <th>1</th>\n",
       "      <th>2</th>\n",
       "      <th>3</th>\n",
       "      <th>4</th>\n",
       "      <th>5</th>\n",
       "      <th>6</th>\n",
       "      <th>7</th>\n",
       "    </tr>\n",
       "  </thead>\n",
       "  <tbody>\n",
       "    <tr>\n",
       "      <th>scr</th>\n",
       "      <td>PRAUC Retweet</td>\n",
       "      <td>RCE Retweet</td>\n",
       "      <td>PRAUC Reply</td>\n",
       "      <td>RCE Reply</td>\n",
       "      <td>PRAUC Like</td>\n",
       "      <td>RCE Like</td>\n",
       "      <td>PRAUC RTwCmnt</td>\n",
       "      <td>RCE RTwCmnt</td>\n",
       "    </tr>\n",
       "    <tr>\n",
       "      <th>tr</th>\n",
       "      <td>0.931034</td>\n",
       "      <td>34.9656</td>\n",
       "      <td>0.71364</td>\n",
       "      <td>37.852</td>\n",
       "      <td>0.716634</td>\n",
       "      <td>14.1362</td>\n",
       "      <td>0.804264</td>\n",
       "      <td>27.9783</td>\n",
       "    </tr>\n",
       "    <tr>\n",
       "      <th>vl</th>\n",
       "      <td>0.458124</td>\n",
       "      <td>10.1612</td>\n",
       "      <td>0.344305</td>\n",
       "      <td>18.2966</td>\n",
       "      <td>0.758757</td>\n",
       "      <td>16.2594</td>\n",
       "      <td>0.219697</td>\n",
       "      <td>3.00319</td>\n",
       "    </tr>\n",
       "    <tr>\n",
       "      <th>valid</th>\n",
       "      <td>0.187575</td>\n",
       "      <td>-5.47143</td>\n",
       "      <td>0.0625352</td>\n",
       "      <td>-35.8769</td>\n",
       "      <td>0.667925</td>\n",
       "      <td>10.2916</td>\n",
       "      <td>0.0297211</td>\n",
       "      <td>-292.148</td>\n",
       "    </tr>\n",
       "    <tr>\n",
       "      <th>valid_calib</th>\n",
       "      <td>0.187575</td>\n",
       "      <td>0.710752</td>\n",
       "      <td>0.0625352</td>\n",
       "      <td>-0.647787</td>\n",
       "      <td>0.667925</td>\n",
       "      <td>10.2916</td>\n",
       "      <td>0.0297211</td>\n",
       "      <td>0.0423425</td>\n",
       "    </tr>\n",
       "  </tbody>\n",
       "</table>\n",
       "</div>"
      ],
      "text/plain": [
       "                         0            1            2          3           4  \\\n",
       "scr          PRAUC Retweet  RCE Retweet  PRAUC Reply  RCE Reply  PRAUC Like   \n",
       "tr                0.931034      34.9656      0.71364     37.852    0.716634   \n",
       "vl                0.458124      10.1612     0.344305    18.2966    0.758757   \n",
       "valid             0.187575     -5.47143    0.0625352   -35.8769    0.667925   \n",
       "valid_calib       0.187575     0.710752    0.0625352  -0.647787    0.667925   \n",
       "\n",
       "                    5              6            7  \n",
       "scr          RCE Like  PRAUC RTwCmnt  RCE RTwCmnt  \n",
       "tr            14.1362       0.804264      27.9783  \n",
       "vl            16.2594       0.219697      3.00319  \n",
       "valid         10.2916      0.0297211     -292.148  \n",
       "valid_calib   10.2916      0.0297211    0.0423425  "
      ]
     },
     "execution_count": 17,
     "metadata": {},
     "output_type": "execute_result"
    }
   ],
   "source": [
    "lsttr=[]\n",
    "lstvl=[]\n",
    "lstvalid=[]\n",
    "lstvalid_calib=[]\n",
    "for tgt in ['Retweet','Reply','Like','RTwCmnt',]:\n",
    "    if tgt not in tgt2bst: continue\n",
    "    lsttr+=[(f'PRAUC {tgt}',tgt2auc_tr[tgt]),\n",
    "          (f'RCE {tgt}',tgt2rce_tr[tgt])]\n",
    "    lstvl+=[(f'PRAUC {tgt}',tgt2auc_vl[tgt]),\n",
    "          (f'RCE {tgt}',tgt2rce_vl[tgt])]\n",
    "    lstvalid+=[(f'PRAUC {tgt}',tgt2auc_valid[tgt]),\n",
    "          (f'RCE {tgt}',tgt2rce_valid[tgt])]\n",
    "    lstvalid_calib+=[(f'PRAUC {tgt}',tgt2auc_valid_calib[tgt]),\n",
    "          (f'RCE {tgt}',tgt2rce_valid_calib[tgt])]\n",
    "\n",
    "dfscrtr=pd.DataFrame(lsttr)\n",
    "dfscrtr.columns=['metric','scr']\n",
    "dfscrvl=pd.DataFrame(lstvl)\n",
    "dfscrvl.columns=['metric','scr']\n",
    "dfscrvalid=pd.DataFrame(lstvalid)\n",
    "dfscrvalid.columns=['metric','scr']\n",
    "dfscrvalid_calib=pd.DataFrame(lstvalid_calib)\n",
    "dfscrvalid_calib.columns=['metric','scr']\n",
    "\n",
    "dfscr = reduce(lambda df1,df2: pd.merge(df1,df2,on='metric'), \n",
    "            [dfscrtr,dfscrvl,dfscrvalid,dfscrvalid_calib])\n",
    "\n",
    "dfscr.columns=['scr','tr','vl','valid','valid_calib']\n",
    "dfscr.T"
   ]
  },
  {
   "cell_type": "code",
   "execution_count": null,
   "metadata": {},
   "outputs": [],
   "source": []
  },
  {
   "cell_type": "markdown",
   "metadata": {},
   "source": [
    "# infer"
   ]
  },
  {
   "cell_type": "raw",
   "metadata": {},
   "source": [
    "ls -lhS $p_in | grep val"
   ]
  },
  {
   "cell_type": "code",
   "execution_count": null,
   "metadata": {},
   "outputs": [],
   "source": [
    "%%time\n",
    "dftst=pd.read_csv(\n",
    "    f'{p_in}/val_{valtmstmp}.tsv',\n",
    "#     f'{p_in}/val_259A6F6DFD672CB1F883CBEC01B99F2D_1584405047.tsv',\n",
    "    sep='\\x01', header=None, names=cols_val,)\n"
   ]
  },
  {
   "cell_type": "code",
   "execution_count": null,
   "metadata": {
    "scrolled": false
   },
   "outputs": [],
   "source": [
    "%%time\n",
    "dftst = prp_df(dftst, istrn=False)"
   ]
  },
  {
   "cell_type": "code",
   "execution_count": null,
   "metadata": {},
   "outputs": [],
   "source": [
    "%%time\n",
    "dtst = xgb.DMatrix(dftst[cols_feat], feature_names=cols_feat)\n",
    "tgt2prdtst={}\n",
    "for tgt in tgts:\n",
    "    print(dtnow(), tgt)\n",
    "    bst = tgt2bst[tgt]\n",
    "    pops=tgt2pops[tgt]\n",
    "    prdtst = bst.predict(dtst, ntree_limit=bst.best_ntree_limit)\n",
    "    prdtst_calib = calibration(prdtst, **pops)\n",
    "    tgt2prdtst[tgt] = prdtst_calib"
   ]
  },
  {
   "cell_type": "code",
   "execution_count": null,
   "metadata": {},
   "outputs": [],
   "source": [
    "dfsub_ids = dftst[['twtid','u2id',]]\n",
    "\n",
    "tgt2dfsub = {}\n",
    "for tgt,prdtst in tgt2prdtst.items():\n",
    "    dfsub = dfsub_ids.copy()\n",
    "    dfsub['scr'] = prdtst\n",
    "    tgt2dfsub[tgt]=dfsub"
   ]
  },
  {
   "cell_type": "code",
   "execution_count": null,
   "metadata": {},
   "outputs": [],
   "source": [
    "%%time\n",
    "for i,tgt in enumerate(['Retweet','Reply','RTwCmnt','Like',]):\n",
    "    dfsub = tgt2dfsub[tgt]\n",
    "    print(dtnow(), tgt)\n",
    "    dfsub.to_csv(f'{p_out}/{i}_{tgt}__{valtmstmp}__{PRFX}.csv',index=False,header=False)"
   ]
  },
  {
   "cell_type": "code",
   "execution_count": null,
   "metadata": {},
   "outputs": [],
   "source": []
  },
  {
   "cell_type": "code",
   "execution_count": null,
   "metadata": {},
   "outputs": [],
   "source": []
  },
  {
   "cell_type": "code",
   "execution_count": null,
   "metadata": {},
   "outputs": [],
   "source": []
  },
  {
   "cell_type": "code",
   "execution_count": null,
   "metadata": {},
   "outputs": [],
   "source": []
  },
  {
   "cell_type": "code",
   "execution_count": null,
   "metadata": {},
   "outputs": [],
   "source": []
  }
 ],
 "metadata": {
  "kernelspec": {
   "display_name": "rcss20",
   "language": "python",
   "name": "rcss20"
  },
  "language_info": {
   "codemirror_mode": {
    "name": "ipython",
    "version": 3
   },
   "file_extension": ".py",
   "mimetype": "text/x-python",
   "name": "python",
   "nbconvert_exporter": "python",
   "pygments_lexer": "ipython3",
   "version": "3.7.6"
  },
  "toc": {
   "base_numbering": 1,
   "nav_menu": {},
   "number_sections": true,
   "sideBar": true,
   "skip_h1_title": false,
   "title_cell": "Table of Contents",
   "title_sidebar": "Contents",
   "toc_cell": false,
   "toc_position": {},
   "toc_section_display": true,
   "toc_window_display": true
  }
 },
 "nbformat": 4,
 "nbformat_minor": 4
}
