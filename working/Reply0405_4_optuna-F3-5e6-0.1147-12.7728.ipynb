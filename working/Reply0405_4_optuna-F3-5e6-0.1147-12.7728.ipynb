{
 "cells": [
  {
   "cell_type": "markdown",
   "metadata": {},
   "source": [
    "# start"
   ]
  },
  {
   "cell_type": "markdown",
   "metadata": {},
   "source": [
    "- http://localhost:8081/notebooks/git/recsys20/working/0324_6_3_lgb_feat_engr-1e7.ipynb\n",
    "- http://localhost:8081/notebooks/git/recsys20/working/mdl0404_1__xgb_mean_encode.ipynb\n",
    "- http://localhost:8081/notebooks/git/recsys20/working/eda_0404_1.ipynb#v.s.-target\n",
    "- https://www.kaggle.com/discdiver/category-encoders-examples"
   ]
  },
  {
   "cell_type": "code",
   "execution_count": 1,
   "metadata": {},
   "outputs": [
    {
     "name": "stdout",
     "output_type": "stream",
     "text": [
      "train_total 148,075,238, test_total 14,000,000\n",
      "['2020-03-17 02:32:24', '2020-04-06 00:35:47']\n",
      "['2020-02-06 00:00:00', '2020-02-12 23:59:59']\n",
      "['2020-02-13 00:00:00', '2020-02-19 23:59:59']\n"
     ]
    }
   ],
   "source": [
    "TGT='Reply'\n",
    "PRFX='Reply0405_4'\n",
    "\n",
    "trntmstmp=1584412344\n",
    "tsttmstmp=1586133347\n",
    "\n",
    "tm_trn_min,tm_trn_max=(1580947200, 1581551999)\n",
    "tm_tst_min,tm_tst_max=(1581552000, 1582156799)\n",
    "\n",
    "SEED=101\n",
    "\n",
    "valsz = int(1e6)#int(1e5)\n",
    "trnsz = int(5e6)#int(5e5)\n",
    "\n",
    "train_total=148075238\n",
    "test_total=int(1.4e7)\n",
    "print(f'train_total {train_total:,}, test_total {test_total:,}')\n",
    "\n",
    "\n",
    "import datetime\n",
    "def showtm(tm): return datetime.datetime.fromtimestamp(tm).strftime('%Y-%m-%d %H:%M:%S')\n",
    "print([showtm(tm) for tm in (trntmstmp, tsttmstmp)])\n",
    "print([showtm(tm) for tm in (tm_trn_min,tm_trn_max)])\n",
    "print([showtm(tm) for tm in (tm_tst_min,tm_tst_max)])"
   ]
  },
  {
   "cell_type": "markdown",
   "metadata": {},
   "source": [
    "# setup"
   ]
  },
  {
   "cell_type": "code",
   "execution_count": 2,
   "metadata": {},
   "outputs": [
    {
     "name": "stdout",
     "output_type": "stream",
     "text": [
      "TCOL reply\n",
      "{'Retweet': 'retwt', 'Reply': 'reply', 'Like': 'like', 'RTwCmnt': 'retwt_cmmnt'}\n"
     ]
    }
   ],
   "source": [
    "from tqdm import tqdm\n",
    "import time\n",
    "from pathlib import Path\n",
    "from collections import Counter,defaultdict\n",
    "from sklearn.model_selection import train_test_split\n",
    "import pandas as pd\n",
    "import numpy as np\n",
    "import matplotlib.pyplot as plt\n",
    "from sklearn.metrics import accuracy_score, roc_auc_score, roc_curve, auc, precision_recall_curve\n",
    "import pickle\n",
    "# import xgboost as xgb\n",
    "# import lightgbm as lgb\n",
    "import category_encoders as ce\n",
    "import gc\n",
    "\n",
    "import optuna\n",
    "# optuna.logging.CRITICAL, optuna.logging.FATAL\n",
    "# optuna.logging.ERROR\n",
    "# optuna.logging.WARNING, optuna.logging.WARN\n",
    "# optuna.logging.INFO\n",
    "# optuna.logging.DEBUG\n",
    "optuna.logging.set_verbosity(optuna.logging.ERROR)\n",
    "import optuna.integration.lightgbm as lgb\n",
    "optuna.logging.set_verbosity(optuna.logging.ERROR)\n",
    "\n",
    "\n",
    "pd.set_option('display.max_rows', 500)\n",
    "pd.set_option('display.max_columns', 500)\n",
    "\n",
    "\n",
    "import datetime\n",
    "def dtnow(): return datetime.datetime.now().strftime('%Y-%m-%d %H:%M:%S')\n",
    "\n",
    "def iou(s1,s2):\n",
    "    return len(s1&s2) / len(s1|s2)\n",
    "\n",
    "HOME='/data/git/recsys20'\n",
    "p_in=f'{HOME}/input'\n",
    "p_out=f'{HOME}/output/{PRFX}'\n",
    "Path(p_out).mkdir(exist_ok=True, parents=True)\n",
    "\n",
    "from sklearn.metrics import precision_recall_curve, auc, log_loss\n",
    "\n",
    "def compute_prauc(pred, gt):\n",
    "    prec, recall, thresh = precision_recall_curve(gt, pred)\n",
    "    prauc = auc(recall, prec)\n",
    "    return prauc\n",
    "\n",
    "def calculate_ctr(gt):\n",
    "    positive = len([x for x in gt if x == 1])\n",
    "    ctr = positive/float(len(gt))\n",
    "    return ctr\n",
    "\n",
    "def compute_rce(pred, gt):\n",
    "    cross_entropy = log_loss(gt, pred)\n",
    "    data_ctr = calculate_ctr(gt)\n",
    "    strawman_cross_entropy = log_loss(gt, [data_ctr for _ in range(len(gt))])\n",
    "    return (1.0 - cross_entropy/strawman_cross_entropy)*100.0\n",
    "\n",
    "# https://towardsdatascience.com/how-to-calibrate-undersampled-model-scores-8f3319c1ea5b\n",
    "# How to use the function?\n",
    "# Let’s say your goal is to generate a model that shows the credit default probabilities and your original \n",
    "# training data has 50,000 rows with only 500 of them labeled as target class. When you sample your non-target \n",
    "# instances randomly and reduce the total row count to 10,000, while conserving 500 target rows, our calibration\n",
    "# function becomes:\n",
    "# calibration(model_results, 50000, 500, 10000, 500)\n",
    "# Here model_results is your model probability output array. After you train your model and put the results in it, your function is ready to use. \n",
    "def calibration(data, train_pop, target_pop, sampled_train_pop, sampled_target_pop):\n",
    "    calibrated_data = ((data * (target_pop / train_pop) / (sampled_target_pop / sampled_train_pop)) /\n",
    "    (((1 - data) * (1 - target_pop / train_pop) / (1 - sampled_target_pop / sampled_train_pop)) +\n",
    "     (data * (target_pop / train_pop) / (sampled_target_pop / sampled_train_pop))))\n",
    "    return calibrated_data\n",
    "\n",
    "\n",
    "cols=['toks','hshtgs','twtid','media','links','domns','twttyp','lang','tm','u1id','u1_fllwer_cnt','u1_fllwing_cnt','u1_vrfed','u1_create_tm','u2id','u2_fllwer_cnt','u2_fllwng_cnt','u2_vrfed','u2_create_tm','u1_fllw_u2','reply_tm','retwt_tm','retwt_cmmnt_tm','like_tm',]\n",
    "\n",
    "cols_val = cols[:-4]\n",
    "cols_tgt_tmstmp=[ 'retwt_tm', 'reply_tm', 'like_tm', 'retwt_cmmnt_tm',]\n",
    "cols_tgt=[o.split('_tm')[0] for o in cols_tgt_tmstmp]\n",
    "tgts             = ['Retweet','Reply','Like','RTwCmnt',]\n",
    "assert cols_tgt == ['retwt',  'reply','like','retwt_cmmnt',]\n",
    "tgt2col = dict(zip(tgts, cols_tgt))\n",
    "TCOL=tgt2col[TGT]\n",
    "print('TCOL', TCOL)\n",
    "print(tgt2col)"
   ]
  },
  {
   "cell_type": "markdown",
   "metadata": {},
   "source": [
    "# prep"
   ]
  },
  {
   "cell_type": "code",
   "execution_count": 3,
   "metadata": {},
   "outputs": [],
   "source": [
    "def prp_tgt(df):\n",
    "    df[cols_tgt]=df[cols_tgt_tmstmp].notna()\n",
    "    df.drop(columns=cols_tgt_tmstmp, inplace=True)\n",
    "    display(df[cols_tgt].mean())"
   ]
  },
  {
   "cell_type": "code",
   "execution_count": 4,
   "metadata": {
    "scrolled": false
   },
   "outputs": [
    {
     "name": "stdout",
     "output_type": "stream",
     "text": [
      "(1000000, 24)\n"
     ]
    },
    {
     "data": {
      "text/plain": [
       "retwt          0.113135\n",
       "reply          0.027688\n",
       "like           0.438804\n",
       "retwt_cmmnt    0.007750\n",
       "dtype: float64"
      ]
     },
     "metadata": {},
     "output_type": "display_data"
    },
    {
     "name": "stdout",
     "output_type": "stream",
     "text": [
      "CPU times: user 7.01 s, sys: 760 ms, total: 7.77 s\n",
      "Wall time: 7.77 s\n"
     ]
    }
   ],
   "source": [
    "%%time\n",
    "dfval = pd.read_csv(f'{p_in}/trn_{trntmstmp}.tsv',sep='\\x01',header=None,names=cols,nrows=valsz)\n",
    "print(dfval.shape)\n",
    "prp_tgt(dfval)"
   ]
  },
  {
   "cell_type": "markdown",
   "metadata": {},
   "source": [
    "## maybe oversample"
   ]
  },
  {
   "cell_type": "code",
   "execution_count": 5,
   "metadata": {},
   "outputs": [],
   "source": [
    "# df = pd.read_csv(f'{p_in}/trn_{trntmstmp}.tsv',sep='\\x01',header=None,names=cols,nrows=5)\n",
    "# dfval = pd.read_csv(f'{p_in}/trn_{trntmstmp}.tsv',sep='\\x01',header=None,names=cols,nrows=2)\n",
    "# dftrn = pd.read_csv(f'{p_in}/trn_{trntmstmp}.tsv',sep='\\x01',header=None,names=cols,skiprows=2,nrows=3)\n",
    "# display(df.twtid)\n",
    "# display(dfval.twtid)\n",
    "# display(dftrn.twtid)\n",
    "\n",
    "# 0    D4D1EBDE74F74C5DA529959AF979625C\n",
    "# 1    BFB529DAB6D384EB83E899A72AB3830D\n",
    "# 2    519078C7834E9642508F72A6C2D0F3B7\n",
    "# 3    52AAE9E33EFAC8C478C57B31A9E31ED1\n",
    "# 4    89C1298C55EB3D68E2784F0BFB69E6F8\n",
    "# Name: twtid, dtype: object\n",
    "# 0    D4D1EBDE74F74C5DA529959AF979625C\n",
    "# 1    BFB529DAB6D384EB83E899A72AB3830D\n",
    "# Name: twtid, dtype: object\n",
    "# 0    519078C7834E9642508F72A6C2D0F3B7\n",
    "# 1    52AAE9E33EFAC8C478C57B31A9E31ED1\n",
    "# 2    89C1298C55EB3D68E2784F0BFB69E6F8\n",
    "# Name: twtid, dtype: object"
   ]
  },
  {
   "cell_type": "code",
   "execution_count": 6,
   "metadata": {
    "scrolled": true
   },
   "outputs": [
    {
     "name": "stdout",
     "output_type": "stream",
     "text": [
      "(18500000, 24)\n"
     ]
    },
    {
     "data": {
      "text/plain": [
       "retwt          0.112985\n",
       "reply          0.027410\n",
       "like           0.439133\n",
       "retwt_cmmnt    0.007793\n",
       "dtype: float64"
      ]
     },
     "metadata": {},
     "output_type": "display_data"
    },
    {
     "name": "stdout",
     "output_type": "stream",
     "text": [
      "CPU times: user 2min 13s, sys: 13.5 s, total: 2min 26s\n",
      "Wall time: 2min 27s\n"
     ]
    }
   ],
   "source": [
    "%%time\n",
    "if TGT in ('Retweet','Like'): trnpop=trnsz\n",
    "if TGT=='Reply': trnpop=trnsz*3.7\n",
    "if TGT=='RTwCmnt': trnpop=trnsz*11.5\n",
    "assert trnpop<train_total\n",
    "\n",
    "dftrn = pd.read_csv(f'{p_in}/trn_{trntmstmp}.tsv',sep='\\x01',header=None,names=cols,\n",
    "                     skiprows=valsz, nrows=trnpop)\n",
    "print(dftrn.shape)\n",
    "prp_tgt(dftrn)"
   ]
  },
  {
   "cell_type": "code",
   "execution_count": 7,
   "metadata": {
    "scrolled": true
   },
   "outputs": [
    {
     "name": "stdout",
     "output_type": "stream",
     "text": [
      "(5000000, 24) 0.1014178\n",
      "18500000 507089 5000000 507089\n"
     ]
    },
    {
     "data": {
      "text/html": [
       "<div>\n",
       "<style scoped>\n",
       "    .dataframe tbody tr th:only-of-type {\n",
       "        vertical-align: middle;\n",
       "    }\n",
       "\n",
       "    .dataframe tbody tr th {\n",
       "        vertical-align: top;\n",
       "    }\n",
       "\n",
       "    .dataframe thead th {\n",
       "        text-align: right;\n",
       "    }\n",
       "</style>\n",
       "<table border=\"1\" class=\"dataframe\">\n",
       "  <thead>\n",
       "    <tr style=\"text-align: right;\">\n",
       "      <th></th>\n",
       "      <th>toks</th>\n",
       "      <th>hshtgs</th>\n",
       "      <th>twtid</th>\n",
       "      <th>media</th>\n",
       "      <th>links</th>\n",
       "      <th>domns</th>\n",
       "      <th>twttyp</th>\n",
       "      <th>lang</th>\n",
       "      <th>tm</th>\n",
       "      <th>u1id</th>\n",
       "      <th>u1_fllwer_cnt</th>\n",
       "      <th>u1_fllwing_cnt</th>\n",
       "      <th>u1_vrfed</th>\n",
       "      <th>u1_create_tm</th>\n",
       "      <th>u2id</th>\n",
       "      <th>u2_fllwer_cnt</th>\n",
       "      <th>u2_fllwng_cnt</th>\n",
       "      <th>u2_vrfed</th>\n",
       "      <th>u2_create_tm</th>\n",
       "      <th>u1_fllw_u2</th>\n",
       "      <th>retwt</th>\n",
       "      <th>reply</th>\n",
       "      <th>like</th>\n",
       "      <th>retwt_cmmnt</th>\n",
       "    </tr>\n",
       "  </thead>\n",
       "  <tbody>\n",
       "    <tr>\n",
       "      <th>11</th>\n",
       "      <td>101\\t22734\\t19540\\t10393\\t124\\t76456\\t22201\\t1...</td>\n",
       "      <td>NaN</td>\n",
       "      <td>F11BD399C084D3035209F62EC72C0E6A</td>\n",
       "      <td>NaN</td>\n",
       "      <td>NaN</td>\n",
       "      <td>NaN</td>\n",
       "      <td>TopLevel</td>\n",
       "      <td>D3164C7FBCF2565DDF915B1B3AEFB1DC</td>\n",
       "      <td>1581044002</td>\n",
       "      <td>CFF9C8C70792DC31C769F29CBFA2FEBE</td>\n",
       "      <td>972</td>\n",
       "      <td>811</td>\n",
       "      <td>False</td>\n",
       "      <td>1575970944</td>\n",
       "      <td>0DD2B48B86395C04C36C377F0F499CC4</td>\n",
       "      <td>741</td>\n",
       "      <td>736</td>\n",
       "      <td>False</td>\n",
       "      <td>1563093560</td>\n",
       "      <td>True</td>\n",
       "      <td>False</td>\n",
       "      <td>True</td>\n",
       "      <td>True</td>\n",
       "      <td>False</td>\n",
       "    </tr>\n",
       "    <tr>\n",
       "      <th>32</th>\n",
       "      <td>101\\t100397\\t11447\\t119\\t100397\\t11447\\t119\\t1...</td>\n",
       "      <td>NaN</td>\n",
       "      <td>65AFF257ED64E9FA0428A761AA305287</td>\n",
       "      <td>NaN</td>\n",
       "      <td>NaN</td>\n",
       "      <td>NaN</td>\n",
       "      <td>Quote</td>\n",
       "      <td>1FFD2FE4297F5E70EBC6C3230D95CB9C</td>\n",
       "      <td>1581462579</td>\n",
       "      <td>5BA44B16761DE43723E20E995437805C</td>\n",
       "      <td>514</td>\n",
       "      <td>858</td>\n",
       "      <td>False</td>\n",
       "      <td>1237411551</td>\n",
       "      <td>0DD2CF17568371669DD5807061A7F231</td>\n",
       "      <td>17</td>\n",
       "      <td>38</td>\n",
       "      <td>False</td>\n",
       "      <td>1376576148</td>\n",
       "      <td>True</td>\n",
       "      <td>False</td>\n",
       "      <td>True</td>\n",
       "      <td>False</td>\n",
       "      <td>False</td>\n",
       "    </tr>\n",
       "    <tr>\n",
       "      <th>67</th>\n",
       "      <td>101\\t232\\t10113\\t44730\\t17828\\t102</td>\n",
       "      <td>NaN</td>\n",
       "      <td>96D790B62A2C15769B830E3A3E51BF34</td>\n",
       "      <td>NaN</td>\n",
       "      <td>NaN</td>\n",
       "      <td>NaN</td>\n",
       "      <td>TopLevel</td>\n",
       "      <td>FA3F382BC409C271E3D6EAF8BE4648DD</td>\n",
       "      <td>1581374220</td>\n",
       "      <td>2111169D09C052121BDF329807DC75A4</td>\n",
       "      <td>5296</td>\n",
       "      <td>1088</td>\n",
       "      <td>False</td>\n",
       "      <td>1286175742</td>\n",
       "      <td>0DD2ED2C408A60972110349BC121AEA7</td>\n",
       "      <td>77</td>\n",
       "      <td>304</td>\n",
       "      <td>False</td>\n",
       "      <td>1369165590</td>\n",
       "      <td>False</td>\n",
       "      <td>False</td>\n",
       "      <td>True</td>\n",
       "      <td>False</td>\n",
       "      <td>False</td>\n",
       "    </tr>\n",
       "    <tr>\n",
       "      <th>84</th>\n",
       "      <td>101\\t10862\\t11710\\t11223\\t14517\\t89106\\t17021\\...</td>\n",
       "      <td>NaN</td>\n",
       "      <td>46FB82A9A3034DDBD4A7C1E545720DF0</td>\n",
       "      <td>NaN</td>\n",
       "      <td>NaN</td>\n",
       "      <td>NaN</td>\n",
       "      <td>TopLevel</td>\n",
       "      <td>D3164C7FBCF2565DDF915B1B3AEFB1DC</td>\n",
       "      <td>1581536890</td>\n",
       "      <td>F8742926680CE7BA15DA13CE557BE011</td>\n",
       "      <td>2234</td>\n",
       "      <td>416</td>\n",
       "      <td>False</td>\n",
       "      <td>1305458959</td>\n",
       "      <td>0DD2FD96A5F56E0ABA54276D3CCC7480</td>\n",
       "      <td>1178</td>\n",
       "      <td>1661</td>\n",
       "      <td>False</td>\n",
       "      <td>1349738202</td>\n",
       "      <td>False</td>\n",
       "      <td>False</td>\n",
       "      <td>True</td>\n",
       "      <td>False</td>\n",
       "      <td>False</td>\n",
       "    </tr>\n",
       "    <tr>\n",
       "      <th>118</th>\n",
       "      <td>101\\t4726\\t4997\\t3740\\t1931\\t26164\\t29570\\t706...</td>\n",
       "      <td>NaN</td>\n",
       "      <td>9F3630A26084A55B8326376FC4AF5AF2</td>\n",
       "      <td>NaN</td>\n",
       "      <td>NaN</td>\n",
       "      <td>NaN</td>\n",
       "      <td>TopLevel</td>\n",
       "      <td>22C448FF81263D4BAF2A176145EE9EAD</td>\n",
       "      <td>1581463772</td>\n",
       "      <td>FE2B80E908ED0EF93CE0749BD93854BF</td>\n",
       "      <td>128</td>\n",
       "      <td>144</td>\n",
       "      <td>False</td>\n",
       "      <td>1567089785</td>\n",
       "      <td>0DD31F56720FD03FF243779A0004A4A8</td>\n",
       "      <td>146</td>\n",
       "      <td>191</td>\n",
       "      <td>False</td>\n",
       "      <td>1571151626</td>\n",
       "      <td>True</td>\n",
       "      <td>False</td>\n",
       "      <td>True</td>\n",
       "      <td>False</td>\n",
       "      <td>False</td>\n",
       "    </tr>\n",
       "  </tbody>\n",
       "</table>\n",
       "</div>"
      ],
      "text/plain": [
       "                                                  toks hshtgs  \\\n",
       "11   101\\t22734\\t19540\\t10393\\t124\\t76456\\t22201\\t1...    NaN   \n",
       "32   101\\t100397\\t11447\\t119\\t100397\\t11447\\t119\\t1...    NaN   \n",
       "67                  101\\t232\\t10113\\t44730\\t17828\\t102    NaN   \n",
       "84   101\\t10862\\t11710\\t11223\\t14517\\t89106\\t17021\\...    NaN   \n",
       "118  101\\t4726\\t4997\\t3740\\t1931\\t26164\\t29570\\t706...    NaN   \n",
       "\n",
       "                                twtid media links domns    twttyp  \\\n",
       "11   F11BD399C084D3035209F62EC72C0E6A   NaN   NaN   NaN  TopLevel   \n",
       "32   65AFF257ED64E9FA0428A761AA305287   NaN   NaN   NaN     Quote   \n",
       "67   96D790B62A2C15769B830E3A3E51BF34   NaN   NaN   NaN  TopLevel   \n",
       "84   46FB82A9A3034DDBD4A7C1E545720DF0   NaN   NaN   NaN  TopLevel   \n",
       "118  9F3630A26084A55B8326376FC4AF5AF2   NaN   NaN   NaN  TopLevel   \n",
       "\n",
       "                                 lang          tm  \\\n",
       "11   D3164C7FBCF2565DDF915B1B3AEFB1DC  1581044002   \n",
       "32   1FFD2FE4297F5E70EBC6C3230D95CB9C  1581462579   \n",
       "67   FA3F382BC409C271E3D6EAF8BE4648DD  1581374220   \n",
       "84   D3164C7FBCF2565DDF915B1B3AEFB1DC  1581536890   \n",
       "118  22C448FF81263D4BAF2A176145EE9EAD  1581463772   \n",
       "\n",
       "                                 u1id  u1_fllwer_cnt  u1_fllwing_cnt  \\\n",
       "11   CFF9C8C70792DC31C769F29CBFA2FEBE            972             811   \n",
       "32   5BA44B16761DE43723E20E995437805C            514             858   \n",
       "67   2111169D09C052121BDF329807DC75A4           5296            1088   \n",
       "84   F8742926680CE7BA15DA13CE557BE011           2234             416   \n",
       "118  FE2B80E908ED0EF93CE0749BD93854BF            128             144   \n",
       "\n",
       "     u1_vrfed  u1_create_tm                              u2id  u2_fllwer_cnt  \\\n",
       "11      False    1575970944  0DD2B48B86395C04C36C377F0F499CC4            741   \n",
       "32      False    1237411551  0DD2CF17568371669DD5807061A7F231             17   \n",
       "67      False    1286175742  0DD2ED2C408A60972110349BC121AEA7             77   \n",
       "84      False    1305458959  0DD2FD96A5F56E0ABA54276D3CCC7480           1178   \n",
       "118     False    1567089785  0DD31F56720FD03FF243779A0004A4A8            146   \n",
       "\n",
       "     u2_fllwng_cnt  u2_vrfed  u2_create_tm  u1_fllw_u2  retwt  reply   like  \\\n",
       "11             736     False    1563093560        True  False   True   True   \n",
       "32              38     False    1376576148        True  False   True  False   \n",
       "67             304     False    1369165590       False  False   True  False   \n",
       "84            1661     False    1349738202       False  False   True  False   \n",
       "118            191     False    1571151626        True  False   True  False   \n",
       "\n",
       "     retwt_cmmnt  \n",
       "11         False  \n",
       "32         False  \n",
       "67         False  \n",
       "84         False  \n",
       "118        False  "
      ]
     },
     "metadata": {},
     "output_type": "display_data"
    },
    {
     "data": {
      "text/plain": [
       "Index(['toks', 'hshtgs', 'twtid', 'media', 'links', 'domns', 'twttyp', 'lang',\n",
       "       'tm', 'u1id', 'u1_fllwer_cnt', 'u1_fllwing_cnt', 'u1_vrfed',\n",
       "       'u1_create_tm', 'u2id', 'u2_fllwer_cnt', 'u2_fllwng_cnt', 'u2_vrfed',\n",
       "       'u2_create_tm', 'u1_fllw_u2', 'retwt', 'reply', 'like', 'retwt_cmmnt'],\n",
       "      dtype='object')"
      ]
     },
     "metadata": {},
     "output_type": "display_data"
    }
   ],
   "source": [
    "train_pop=len(dftrn)\n",
    "sampled_train_pop=trnsz\n",
    "idx_pos = np.where(dftrn[TCOL])[0]\n",
    "target_pop=sampled_target_pop=len(idx_pos)\n",
    "if TGT in ('Reply','RTwCmnt'):\n",
    "    idx_neg0 = np.where(~dftrn[TCOL])[0]\n",
    "    idx_neg = np.random.choice(idx_neg0, trnsz-len(idx_pos), replace=False)\n",
    "    idx = np.concatenate([idx_pos,idx_neg])\n",
    "    dftrn = dftrn.iloc[idx].copy()\n",
    "print(dftrn.shape, dftrn[TCOL].mean())\n",
    "print(train_pop, target_pop, sampled_train_pop, sampled_target_pop)\n",
    "\n",
    "display(dftrn.head())\n",
    "display(dftrn.columns)"
   ]
  },
  {
   "cell_type": "markdown",
   "metadata": {},
   "source": [
    "## prep and features"
   ]
  },
  {
   "cell_type": "code",
   "execution_count": 8,
   "metadata": {},
   "outputs": [],
   "source": [
    "def prp_df(df, tm_max):\n",
    "    '''\n",
    "    tm_max = tm_trn_max for train tm_tst_max for test\n",
    "    '''\n",
    "    lendf = len(df)\n",
    "    print(dtnow(), 'start')\n",
    "    \n",
    "    #counts\n",
    "    df['len_toks'] = df.toks.apply(lambda x: len(x.split('\\t')))\n",
    "    df.drop(columns=['toks'], inplace=True)    \n",
    "    for m in ['Photo', 'Video', 'GIF']:\n",
    "        df[f'n_media_{m}'] = df['media'].fillna('').apply(lambda x: x.split('\\t').count(m))\n",
    "    tgnms = ['hshtgs','media', 'links', 'domns',]\n",
    "    for tgnm in tgnms:\n",
    "        df[f'has_{tgnm}']=df[tgnm].notna()\n",
    "        df[f'lst_{tgnm}'] = df[tgnm].fillna('').apply(lambda x: x.split('\\t') if len(x) else [])\n",
    "        df[f'n_{tgnm}'] = df[f'lst_{tgnm}'].apply(len)  \n",
    "    df.drop(columns=['has_links','n_links'], inplace=True) #duplicates has_domns,n_domns \n",
    "    \n",
    "    #time\n",
    "    dt = pd.to_datetime(df.tm, unit='s')\n",
    "    df['dayofweek'] = dt.dt.dayofweek\n",
    "    df['hour'] = dt.dt.hour\n",
    "    \n",
    "    df['tmdlta_u2u1']  = df.u2_create_tm - df.u1_create_tm\n",
    "    df['tmdlta_twtu1'] = df.tm - df.u1_create_tm\n",
    "    df['tmdlta_twtu2'] = df.tm - df.u2_create_tm\n",
    "\n",
    "    df['twt_age']   = tm_max-df.tm\n",
    "    df['u1_age']    = tm_max-df.u1_create_tm\n",
    "    df['u2_age']    = tm_max-df.u2_create_tm\n",
    "    df.drop(columns=['tm', 'u1_create_tm', 'u2_create_tm'], inplace=True)\n",
    "\n",
    "    #time derived\n",
    "    df['u1_fllwer_cnt_by_age'] = df.u1_fllwer_cnt / df.u1_age\n",
    "    df['u1_fllwng_cnt_by_age'] = df.u2_fllwng_cnt / df.u2_age\n",
    "    \n",
    "    #interaction\n",
    "    df['u1u2']=df.u1id+'_'+df.u2id\n",
    "    df['langhour']=df.lang+'_'+df.hour.astype(str)\n",
    "    \n",
    "\n",
    "    #freq of feature values\n",
    "    print(dtnow(), 'freq of columns using CountEncoder')\n",
    "    encoder = ce.CountEncoder()\n",
    "    encoded = encoder.fit_transform(\n",
    "    df[['twtid', 'twttyp', 'lang', 'u1id', 'u1_fllwing_cnt', 'u1_vrfed', 'u2id', 'u2_fllwer_cnt', 'u2_vrfed', 'u1_fllw_u2', \n",
    "       'n_media_Photo', 'n_media_Video', 'n_media_GIF', \n",
    "       'has_hshtgs', 'n_hshtgs', 'has_media', 'n_media','has_domns', 'n_domns', \n",
    "       'dayofweek', 'hour', 'u1u2', 'langhour']].astype(object))\n",
    "    encoded = encoded.astype(int)/lendf\n",
    "    encoded.columns = [f'frq_{col}' for col in encoded.columns]\n",
    "    df = pd.concat([df,encoded],1)\n",
    "    \n",
    "    #freq of tgnm values\n",
    "    print(dtnow(), 'freq of tags')\n",
    "    for tgnm in tgnms:\n",
    "        vs = [j for i in df[f'lst_{tgnm}'] for j in i]\n",
    "        cnt = Counter(vs)\n",
    "        frq = {k:v/lendf for k,v in cnt.items()}\n",
    "        df[f'sumfrq_{tgnm}']=df[f'lst_{tgnm}'].apply(lambda x: sum([frq.get(o,0) for o in x]))\n",
    "        df[f'maxfrq_{tgnm}']=df[f'lst_{tgnm}'].apply(lambda x: max([frq.get(o,0) for o in x]) if len(x) else 0)\n",
    "    df.drop(columns=tgnms+[f'lst_{tgnm}' for tgnm in tgnms],inplace=True)\n",
    "\n",
    "    print(dtnow(), 'done')\n",
    "    return df"
   ]
  },
  {
   "cell_type": "code",
   "execution_count": 9,
   "metadata": {},
   "outputs": [
    {
     "name": "stdout",
     "output_type": "stream",
     "text": [
      "2020-04-06 15:57:20 start\n",
      "2020-04-06 15:58:56 freq of columns using CountEncoder\n"
     ]
    },
    {
     "name": "stderr",
     "output_type": "stream",
     "text": [
      "/data/anaconda3/envs/rcss20/lib/python3.7/site-packages/category_encoders/count.py:255: FutureWarning: The pandas.np module is deprecated and will be removed from pandas in a future version. Import numpy directly instead\n",
      "  X.loc[:, self.cols] = X.fillna(value=pd.np.nan)\n"
     ]
    },
    {
     "name": "stdout",
     "output_type": "stream",
     "text": [
      "2020-04-06 16:02:01 freq of tags\n",
      "2020-04-06 16:02:51 done\n",
      "CPU times: user 4min 56s, sys: 39.8 s, total: 5min 36s\n",
      "Wall time: 5min 34s\n"
     ]
    }
   ],
   "source": [
    "%%time\n",
    "dftrn=prp_df(dftrn, tm_max=tm_trn_max)"
   ]
  },
  {
   "cell_type": "code",
   "execution_count": 10,
   "metadata": {},
   "outputs": [
    {
     "name": "stdout",
     "output_type": "stream",
     "text": [
      "2020-04-06 16:02:55 start\n",
      "2020-04-06 16:03:06 freq of columns using CountEncoder\n",
      "2020-04-06 16:03:33 freq of tags\n",
      "2020-04-06 16:03:43 done\n",
      "CPU times: user 44.4 s, sys: 5.24 s, total: 49.6 s\n",
      "Wall time: 49.4 s\n"
     ]
    }
   ],
   "source": [
    "%%time\n",
    "dfval=prp_df(dfval, tm_max=tm_trn_max)"
   ]
  },
  {
   "cell_type": "markdown",
   "metadata": {},
   "source": [
    "## tr vl split and target encoding"
   ]
  },
  {
   "cell_type": "code",
   "execution_count": 11,
   "metadata": {},
   "outputs": [
    {
     "data": {
      "text/plain": [
       "30"
      ]
     },
     "execution_count": 11,
     "metadata": {},
     "output_type": "execute_result"
    }
   ],
   "source": [
    "msk_vl=np.random.rand(len(dftrn))<0.15\n",
    "idxvl=np.where( msk_vl)[0]\n",
    "idxtr=np.where(~msk_vl)[0]\n",
    "\n",
    "dftr = dftrn.iloc[idxtr].copy()\n",
    "dfvl = dftrn.iloc[idxvl].copy()\n",
    "del dftrn\n",
    "\n",
    "gc.collect()"
   ]
  },
  {
   "cell_type": "code",
   "execution_count": 12,
   "metadata": {},
   "outputs": [
    {
     "data": {
      "text/plain": [
       "Index(['twtid', 'twttyp', 'lang', 'u1id', 'u1_fllwer_cnt', 'u1_fllwing_cnt',\n",
       "       'u1_vrfed', 'u2id', 'u2_fllwer_cnt', 'u2_fllwng_cnt', 'u2_vrfed',\n",
       "       'u1_fllw_u2', 'retwt', 'reply', 'like', 'retwt_cmmnt', 'len_toks',\n",
       "       'n_media_Photo', 'n_media_Video', 'n_media_GIF', 'has_hshtgs',\n",
       "       'n_hshtgs', 'has_media', 'n_media', 'has_domns', 'n_domns', 'dayofweek',\n",
       "       'hour', 'tmdlta_u2u1', 'tmdlta_twtu1', 'tmdlta_twtu2', 'twt_age',\n",
       "       'u1_age', 'u2_age', 'u1_fllwer_cnt_by_age', 'u1_fllwng_cnt_by_age',\n",
       "       'u1u2', 'langhour', 'frq_twtid', 'frq_twttyp', 'frq_lang', 'frq_u1id',\n",
       "       'frq_u1_fllwing_cnt', 'frq_u1_vrfed', 'frq_u2id', 'frq_u2_fllwer_cnt',\n",
       "       'frq_u2_vrfed', 'frq_u1_fllw_u2', 'frq_n_media_Photo',\n",
       "       'frq_n_media_Video', 'frq_n_media_GIF', 'frq_has_hshtgs',\n",
       "       'frq_n_hshtgs', 'frq_has_media', 'frq_n_media', 'frq_has_domns',\n",
       "       'frq_n_domns', 'frq_dayofweek', 'frq_hour', 'frq_u1u2', 'frq_langhour',\n",
       "       'sumfrq_hshtgs', 'maxfrq_hshtgs', 'sumfrq_media', 'maxfrq_media',\n",
       "       'sumfrq_links', 'maxfrq_links', 'sumfrq_domns', 'maxfrq_domns'],\n",
       "      dtype='object')"
      ]
     },
     "execution_count": 12,
     "metadata": {},
     "output_type": "execute_result"
    }
   ],
   "source": [
    "dftr.columns"
   ]
  },
  {
   "cell_type": "code",
   "execution_count": 13,
   "metadata": {},
   "outputs": [
    {
     "name": "stdout",
     "output_type": "stream",
     "text": [
      "CPU times: user 4min 59s, sys: 1min 1s, total: 6min 1s\n",
      "Wall time: 6min\n"
     ]
    }
   ],
   "source": [
    "%%time\n",
    "col2tgtenc=['twtid', 'twttyp', 'lang', 'u1id', 'u1_fllwing_cnt', 'u1_vrfed', 'u2id', 'u2_fllwer_cnt', 'u2_vrfed', 'u1_fllw_u2', \n",
    "   'n_media_Photo', 'n_media_Video', 'n_media_GIF', \n",
    "   'has_hshtgs', 'n_hshtgs', 'has_media', 'n_media','has_domns', 'n_domns', \n",
    "   'dayofweek', 'hour', 'u1u2', 'langhour']\n",
    "tgt_encoder = ce.TargetEncoder()\n",
    "encoded_tr = tgt_encoder.fit_transform(dftr[col2tgtenc].astype(object), dftr[TCOL])\n",
    "encoded_vl = tgt_encoder.transform(dfvl[col2tgtenc].astype(object))\n",
    "encoded_val = tgt_encoder.transform(dfval[col2tgtenc].astype(object))\n",
    "\n",
    "tgtenc_columns = [f'tgtenc_{col}' for col in encoded_tr.columns]\n",
    "encoded_tr.columns = tgtenc_columns\n",
    "encoded_vl.columns = tgtenc_columns\n",
    "encoded_val.columns = tgtenc_columns\n",
    "\n",
    "dftr = pd.concat([dftr, encoded_tr], 1)\n",
    "dfvl = pd.concat([dfvl, encoded_vl], 1)\n",
    "dfval = pd.concat([dfval, encoded_val], 1)\n"
   ]
  },
  {
   "cell_type": "code",
   "execution_count": 14,
   "metadata": {},
   "outputs": [],
   "source": [
    "cols_category=['twttyp', 'lang', 'langhour']\n",
    "for df in dftr,dfvl,dfval:\n",
    "    df.drop(columns=['twtid','u1id','u2id','u1u2'], inplace=True)\n",
    "    df[cols_category]=df[cols_category].astype('category')"
   ]
  },
  {
   "cell_type": "code",
   "execution_count": 15,
   "metadata": {},
   "outputs": [],
   "source": [
    "cols_feat = [col for col in dftr.columns if col not in cols_tgt]"
   ]
  },
  {
   "cell_type": "code",
   "execution_count": 16,
   "metadata": {},
   "outputs": [
    {
     "data": {
      "text/plain": [
       "twttyp                   category\n",
       "lang                     category\n",
       "u1_fllwer_cnt               int64\n",
       "u1_fllwing_cnt              int64\n",
       "u1_vrfed                     bool\n",
       "u2_fllwer_cnt               int64\n",
       "u2_fllwng_cnt               int64\n",
       "u2_vrfed                     bool\n",
       "u1_fllw_u2                   bool\n",
       "retwt                        bool\n",
       "reply                        bool\n",
       "like                         bool\n",
       "retwt_cmmnt                  bool\n",
       "len_toks                    int64\n",
       "n_media_Photo               int64\n",
       "n_media_Video               int64\n",
       "n_media_GIF                 int64\n",
       "has_hshtgs                   bool\n",
       "n_hshtgs                    int64\n",
       "has_media                    bool\n",
       "n_media                     int64\n",
       "has_domns                    bool\n",
       "n_domns                     int64\n",
       "dayofweek                   int64\n",
       "hour                        int64\n",
       "tmdlta_u2u1                 int64\n",
       "tmdlta_twtu1                int64\n",
       "tmdlta_twtu2                int64\n",
       "twt_age                     int64\n",
       "u1_age                      int64\n",
       "u2_age                      int64\n",
       "u1_fllwer_cnt_by_age      float64\n",
       "u1_fllwng_cnt_by_age      float64\n",
       "langhour                 category\n",
       "frq_twtid                 float64\n",
       "frq_twttyp                float64\n",
       "frq_lang                  float64\n",
       "frq_u1id                  float64\n",
       "frq_u1_fllwing_cnt        float64\n",
       "frq_u1_vrfed              float64\n",
       "frq_u2id                  float64\n",
       "frq_u2_fllwer_cnt         float64\n",
       "frq_u2_vrfed              float64\n",
       "frq_u1_fllw_u2            float64\n",
       "frq_n_media_Photo         float64\n",
       "frq_n_media_Video         float64\n",
       "frq_n_media_GIF           float64\n",
       "frq_has_hshtgs            float64\n",
       "frq_n_hshtgs              float64\n",
       "frq_has_media             float64\n",
       "frq_n_media               float64\n",
       "frq_has_domns             float64\n",
       "frq_n_domns               float64\n",
       "frq_dayofweek             float64\n",
       "frq_hour                  float64\n",
       "frq_u1u2                  float64\n",
       "frq_langhour              float64\n",
       "sumfrq_hshtgs             float64\n",
       "maxfrq_hshtgs             float64\n",
       "sumfrq_media              float64\n",
       "maxfrq_media              float64\n",
       "sumfrq_links              float64\n",
       "maxfrq_links              float64\n",
       "sumfrq_domns              float64\n",
       "maxfrq_domns              float64\n",
       "tgtenc_twtid              float64\n",
       "tgtenc_twttyp             float64\n",
       "tgtenc_lang               float64\n",
       "tgtenc_u1id               float64\n",
       "tgtenc_u1_fllwing_cnt     float64\n",
       "tgtenc_u1_vrfed           float64\n",
       "tgtenc_u2id               float64\n",
       "tgtenc_u2_fllwer_cnt      float64\n",
       "tgtenc_u2_vrfed           float64\n",
       "tgtenc_u1_fllw_u2         float64\n",
       "tgtenc_n_media_Photo      float64\n",
       "tgtenc_n_media_Video      float64\n",
       "tgtenc_n_media_GIF        float64\n",
       "tgtenc_has_hshtgs         float64\n",
       "tgtenc_n_hshtgs           float64\n",
       "tgtenc_has_media          float64\n",
       "tgtenc_n_media            float64\n",
       "tgtenc_has_domns          float64\n",
       "tgtenc_n_domns            float64\n",
       "tgtenc_dayofweek          float64\n",
       "tgtenc_hour               float64\n",
       "tgtenc_u1u2               float64\n",
       "tgtenc_langhour           float64\n",
       "dtype: object"
      ]
     },
     "execution_count": 16,
     "metadata": {},
     "output_type": "execute_result"
    }
   ],
   "source": [
    "dftr.dtypes"
   ]
  },
  {
   "cell_type": "markdown",
   "metadata": {},
   "source": [
    "# model"
   ]
  },
  {
   "cell_type": "code",
   "execution_count": 17,
   "metadata": {},
   "outputs": [],
   "source": [
    "cols_feat=['twttyp',\n",
    " 'lang',\n",
    " 'u1_fllwer_cnt',\n",
    " 'u1_fllwing_cnt',\n",
    " 'u1_vrfed',\n",
    " 'u2_fllwer_cnt',\n",
    " 'u2_fllwng_cnt',\n",
    " 'u2_vrfed',\n",
    " 'u1_fllw_u2',\n",
    " 'len_toks',\n",
    " 'n_media_Photo',\n",
    " 'n_media_Video',\n",
    " 'n_media_GIF',\n",
    "#  'has_hshtgs',\n",
    " 'n_hshtgs',\n",
    "#  'has_media',\n",
    " 'n_media',\n",
    "#  'has_domns',\n",
    " 'n_domns',\n",
    " 'dayofweek',\n",
    " 'hour',\n",
    " 'tmdlta_u2u1',\n",
    " 'tmdlta_twtu1',\n",
    " 'tmdlta_twtu2',\n",
    " 'twt_age',\n",
    " 'u1_age',\n",
    " 'u2_age',\n",
    " 'u1_fllwer_cnt_by_age',\n",
    " 'u1_fllwng_cnt_by_age',\n",
    " 'langhour',\n",
    "#  'frq_twtid',\n",
    "#  'frq_twttyp',\n",
    "#  'frq_lang',\n",
    "#  'frq_u1id',\n",
    "#  'frq_u1_fllwing_cnt',\n",
    "#  'frq_u1_vrfed',\n",
    "#  'frq_u2id',\n",
    "#  'frq_u2_fllwer_cnt',\n",
    "#  'frq_u2_vrfed',\n",
    "#  'frq_u1_fllw_u2',\n",
    "#  'frq_n_media_Photo',\n",
    "#  'frq_n_media_Video',\n",
    "#  'frq_n_media_GIF',\n",
    "#  'frq_has_hshtgs',\n",
    "#  'frq_n_hshtgs',\n",
    "#  'frq_has_media',\n",
    "#  'frq_n_media',\n",
    "#  'frq_has_domns',\n",
    "#  'frq_n_domns',\n",
    "#  'frq_dayofweek',\n",
    "#  'frq_hour',\n",
    "#  'frq_u1u2',\n",
    "#  'frq_langhour',\n",
    "#  'sumfrq_hshtgs',\n",
    "#  'maxfrq_hshtgs',\n",
    "#  'sumfrq_media',\n",
    "#  'maxfrq_media',\n",
    "#  'sumfrq_links',\n",
    "#  'maxfrq_links',\n",
    "#  'sumfrq_domns',\n",
    "#  'maxfrq_domns',\n",
    "#  'tgtenc_twtid',\n",
    "#  'tgtenc_twttyp',\n",
    " 'tgtenc_lang',\n",
    "#  'tgtenc_u1id',\n",
    "#  'tgtenc_u1_fllwing_cnt',\n",
    "#  'tgtenc_u1_vrfed',\n",
    "#  'tgtenc_u2id',\n",
    "#  'tgtenc_u2_fllwer_cnt',\n",
    "#  'tgtenc_u2_vrfed',\n",
    "#  'tgtenc_u1_fllw_u2',\n",
    "#  'tgtenc_n_media_Photo',\n",
    "#  'tgtenc_n_media_Video',\n",
    "#  'tgtenc_n_media_GIF',\n",
    "#  'tgtenc_has_hshtgs',\n",
    "#  'tgtenc_n_hshtgs',\n",
    "#  'tgtenc_has_media',\n",
    "#  'tgtenc_n_media',\n",
    "#  'tgtenc_has_domns',\n",
    "#  'tgtenc_n_domns',\n",
    "#  'tgtenc_dayofweek',\n",
    "#  'tgtenc_hour',\n",
    "#  'tgtenc_u1u2',\n",
    "#  'tgtenc_langhour'\n",
    "          ]"
   ]
  },
  {
   "cell_type": "code",
   "execution_count": 18,
   "metadata": {},
   "outputs": [],
   "source": [
    "results = {}\n",
    "results['PRFX'] = PRFX\n",
    "results['TGT'] = TGT\n",
    "results['cols_feat'] = cols_feat\n",
    "results['tgt_encoder'] = tgt_encoder\n",
    "results['col2tgtenc'] = col2tgtenc"
   ]
  },
  {
   "cell_type": "code",
   "execution_count": 19,
   "metadata": {},
   "outputs": [],
   "source": [
    "params={\n",
    "    'objective': 'binary',\n",
    "    'metric': 'binary_logloss',\n",
    "    'verbosity': 0,\n",
    "    \n",
    "}\n",
    "results['params'] = params"
   ]
  },
  {
   "cell_type": "code",
   "execution_count": 20,
   "metadata": {},
   "outputs": [
    {
     "name": "stderr",
     "output_type": "stream",
     "text": [
      "/data/anaconda3/envs/rcss20/lib/python3.7/site-packages/optuna/_experimental.py:87: ExperimentalWarning: train is experimental (supported from v0.18.0). The interface can change in the future.\n",
      "  ExperimentalWarning\n",
      "tune_feature_fraction, val_score: inf:   0%|          | 0/7 [00:00<?, ?it/s]"
     ]
    },
    {
     "name": "stdout",
     "output_type": "stream",
     "text": [
      "Training until validation scores don't improve for 100 rounds\n",
      "[100]\ttr's binary_logloss: 0.278586\tvl's binary_logloss: 0.279855\n",
      "[200]\ttr's binary_logloss: 0.276449\tvl's binary_logloss: 0.278588\n",
      "[300]\ttr's binary_logloss: 0.275187\tvl's binary_logloss: 0.278035\n",
      "[400]\ttr's binary_logloss: 0.274172\tvl's binary_logloss: 0.277697\n",
      "[500]\ttr's binary_logloss: 0.273064\tvl's binary_logloss: 0.277361\n",
      "[600]\ttr's binary_logloss: 0.272145\tvl's binary_logloss: 0.27712\n",
      "[700]\ttr's binary_logloss: 0.271312\tvl's binary_logloss: 0.276912\n",
      "[800]\ttr's binary_logloss: 0.270564\tvl's binary_logloss: 0.276782\n",
      "[900]\ttr's binary_logloss: 0.269921\tvl's binary_logloss: 0.276667\n",
      "[1000]\ttr's binary_logloss: 0.269282\tvl's binary_logloss: 0.276543\n",
      "[1100]\ttr's binary_logloss: 0.268688\tvl's binary_logloss: 0.276481\n",
      "[1200]\ttr's binary_logloss: 0.26807\tvl's binary_logloss: 0.276401\n",
      "[1300]\ttr's binary_logloss: 0.267494\tvl's binary_logloss: 0.276309\n",
      "[1400]\ttr's binary_logloss: 0.266965\tvl's binary_logloss: 0.276305\n",
      "Early stopping, best iteration is:\n",
      "[1301]\ttr's binary_logloss: 0.267486\tvl's binary_logloss: 0.276304\n"
     ]
    },
    {
     "name": "stderr",
     "output_type": "stream",
     "text": [
      "tune_feature_fraction, val_score: 0.276304:  14%|#4        | 1/7 [04:42<28:12, 282.13s/it]"
     ]
    },
    {
     "name": "stdout",
     "output_type": "stream",
     "text": [
      "Training until validation scores don't improve for 100 rounds\n",
      "[100]\ttr's binary_logloss: 0.278214\tvl's binary_logloss: 0.279749\n",
      "[200]\ttr's binary_logloss: 0.276121\tvl's binary_logloss: 0.278653\n",
      "[300]\ttr's binary_logloss: 0.274674\tvl's binary_logloss: 0.278064\n",
      "[400]\ttr's binary_logloss: 0.273579\tvl's binary_logloss: 0.27777\n",
      "[500]\ttr's binary_logloss: 0.272548\tvl's binary_logloss: 0.277508\n",
      "[600]\ttr's binary_logloss: 0.271636\tvl's binary_logloss: 0.277244\n",
      "[700]\ttr's binary_logloss: 0.270781\tvl's binary_logloss: 0.277082\n",
      "[800]\ttr's binary_logloss: 0.270024\tvl's binary_logloss: 0.276965\n",
      "[900]\ttr's binary_logloss: 0.269295\tvl's binary_logloss: 0.276851\n",
      "[1000]\ttr's binary_logloss: 0.268595\tvl's binary_logloss: 0.276704\n",
      "[1100]\ttr's binary_logloss: 0.267913\tvl's binary_logloss: 0.276602\n",
      "[1200]\ttr's binary_logloss: 0.267272\tvl's binary_logloss: 0.276574\n",
      "[1300]\ttr's binary_logloss: 0.266635\tvl's binary_logloss: 0.276516\n",
      "[1400]\ttr's binary_logloss: 0.265988\tvl's binary_logloss: 0.276469\n",
      "[1500]\ttr's binary_logloss: 0.265383\tvl's binary_logloss: 0.276426\n",
      "[1600]\ttr's binary_logloss: 0.264801\tvl's binary_logloss: 0.276375\n",
      "[1700]\ttr's binary_logloss: 0.264263\tvl's binary_logloss: 0.276351\n",
      "[1800]\ttr's binary_logloss: 0.263699\tvl's binary_logloss: 0.27632\n",
      "[1900]\ttr's binary_logloss: 0.263153\tvl's binary_logloss: 0.27628\n",
      "[2000]\ttr's binary_logloss: 0.262632\tvl's binary_logloss: 0.276263\n",
      "Early stopping, best iteration is:\n",
      "[1948]\ttr's binary_logloss: 0.26289\tvl's binary_logloss: 0.276258\n"
     ]
    },
    {
     "name": "stderr",
     "output_type": "stream",
     "text": [
      "tune_feature_fraction, val_score: 0.276258:  29%|##8       | 2/7 [10:59<25:52, 310.56s/it]"
     ]
    },
    {
     "name": "stdout",
     "output_type": "stream",
     "text": [
      "Training until validation scores don't improve for 100 rounds\n",
      "[100]\ttr's binary_logloss: 0.278104\tvl's binary_logloss: 0.279692\n",
      "[200]\ttr's binary_logloss: 0.275739\tvl's binary_logloss: 0.278505\n",
      "[300]\ttr's binary_logloss: 0.274432\tvl's binary_logloss: 0.2781\n",
      "[400]\ttr's binary_logloss: 0.273239\tvl's binary_logloss: 0.27774\n",
      "[500]\ttr's binary_logloss: 0.272301\tvl's binary_logloss: 0.277518\n",
      "[600]\ttr's binary_logloss: 0.271347\tvl's binary_logloss: 0.277313\n",
      "[700]\ttr's binary_logloss: 0.270512\tvl's binary_logloss: 0.277166\n",
      "[800]\ttr's binary_logloss: 0.269656\tvl's binary_logloss: 0.277059\n",
      "[900]\ttr's binary_logloss: 0.268804\tvl's binary_logloss: 0.276895\n",
      "[1000]\ttr's binary_logloss: 0.268066\tvl's binary_logloss: 0.276766\n",
      "[1100]\ttr's binary_logloss: 0.267339\tvl's binary_logloss: 0.276715\n",
      "[1200]\ttr's binary_logloss: 0.266616\tvl's binary_logloss: 0.276638\n",
      "[1300]\ttr's binary_logloss: 0.265984\tvl's binary_logloss: 0.276587\n",
      "[1400]\ttr's binary_logloss: 0.265266\tvl's binary_logloss: 0.276547\n",
      "[1500]\ttr's binary_logloss: 0.264634\tvl's binary_logloss: 0.276535\n",
      "[1600]\ttr's binary_logloss: 0.264063\tvl's binary_logloss: 0.276538\n",
      "Early stopping, best iteration is:\n",
      "[1518]\ttr's binary_logloss: 0.264529\tvl's binary_logloss: 0.276518\n"
     ]
    },
    {
     "name": "stderr",
     "output_type": "stream",
     "text": [
      "tune_feature_fraction, val_score: 0.276258:  43%|####2     | 3/7 [19:20<24:30, 367.68s/it]"
     ]
    },
    {
     "name": "stdout",
     "output_type": "stream",
     "text": [
      "Training until validation scores don't improve for 100 rounds\n",
      "[100]\ttr's binary_logloss: 0.277817\tvl's binary_logloss: 0.279661\n",
      "[200]\ttr's binary_logloss: 0.27545\tvl's binary_logloss: 0.278664\n",
      "[300]\ttr's binary_logloss: 0.273946\tvl's binary_logloss: 0.278208\n",
      "[400]\ttr's binary_logloss: 0.272661\tvl's binary_logloss: 0.277865\n",
      "[500]\ttr's binary_logloss: 0.271584\tvl's binary_logloss: 0.277655\n",
      "[600]\ttr's binary_logloss: 0.270571\tvl's binary_logloss: 0.277406\n",
      "[700]\ttr's binary_logloss: 0.269641\tvl's binary_logloss: 0.277264\n",
      "[800]\ttr's binary_logloss: 0.268751\tvl's binary_logloss: 0.277117\n",
      "[900]\ttr's binary_logloss: 0.26795\tvl's binary_logloss: 0.277037\n",
      "[1000]\ttr's binary_logloss: 0.267181\tvl's binary_logloss: 0.277001\n",
      "[1100]\ttr's binary_logloss: 0.266417\tvl's binary_logloss: 0.276919\n",
      "[1200]\ttr's binary_logloss: 0.265687\tvl's binary_logloss: 0.276885\n",
      "[1300]\ttr's binary_logloss: 0.265051\tvl's binary_logloss: 0.276889\n",
      "Early stopping, best iteration is:\n",
      "[1277]\ttr's binary_logloss: 0.265178\tvl's binary_logloss: 0.276871\n"
     ]
    },
    {
     "name": "stderr",
     "output_type": "stream",
     "text": [
      "tune_feature_fraction, val_score: 0.276258:  57%|#####7    | 4/7 [25:09<18:06, 362.27s/it]"
     ]
    },
    {
     "name": "stdout",
     "output_type": "stream",
     "text": [
      "Training until validation scores don't improve for 100 rounds\n",
      "[100]\ttr's binary_logloss: 0.277749\tvl's binary_logloss: 0.279605\n",
      "[200]\ttr's binary_logloss: 0.275336\tvl's binary_logloss: 0.278572\n",
      "[300]\ttr's binary_logloss: 0.273914\tvl's binary_logloss: 0.278222\n",
      "[400]\ttr's binary_logloss: 0.272665\tvl's binary_logloss: 0.27798\n",
      "[500]\ttr's binary_logloss: 0.271421\tvl's binary_logloss: 0.277761\n",
      "[600]\ttr's binary_logloss: 0.270365\tvl's binary_logloss: 0.277516\n",
      "[700]\ttr's binary_logloss: 0.269378\tvl's binary_logloss: 0.277405\n",
      "[800]\ttr's binary_logloss: 0.268422\tvl's binary_logloss: 0.277295\n",
      "[900]\ttr's binary_logloss: 0.26753\tvl's binary_logloss: 0.277207\n",
      "[1000]\ttr's binary_logloss: 0.2667\tvl's binary_logloss: 0.277123\n",
      "[1100]\ttr's binary_logloss: 0.265878\tvl's binary_logloss: 0.277083\n",
      "[1200]\ttr's binary_logloss: 0.265073\tvl's binary_logloss: 0.277066\n",
      "Early stopping, best iteration is:\n",
      "[1138]\ttr's binary_logloss: 0.265557\tvl's binary_logloss: 0.277049\n"
     ]
    },
    {
     "name": "stderr",
     "output_type": "stream",
     "text": [
      "tune_feature_fraction, val_score: 0.276258:  71%|#######1  | 5/7 [29:43<11:11, 335.59s/it]"
     ]
    },
    {
     "name": "stdout",
     "output_type": "stream",
     "text": [
      "Training until validation scores don't improve for 100 rounds\n",
      "[100]\ttr's binary_logloss: 0.277607\tvl's binary_logloss: 0.279616\n",
      "[200]\ttr's binary_logloss: 0.275072\tvl's binary_logloss: 0.278679\n",
      "[300]\ttr's binary_logloss: 0.273517\tvl's binary_logloss: 0.27829\n",
      "[400]\ttr's binary_logloss: 0.272178\tvl's binary_logloss: 0.278008\n",
      "[500]\ttr's binary_logloss: 0.270873\tvl's binary_logloss: 0.277826\n",
      "[600]\ttr's binary_logloss: 0.26969\tvl's binary_logloss: 0.277649\n",
      "[700]\ttr's binary_logloss: 0.268666\tvl's binary_logloss: 0.27756\n",
      "[800]\ttr's binary_logloss: 0.267678\tvl's binary_logloss: 0.27748\n",
      "[900]\ttr's binary_logloss: 0.266745\tvl's binary_logloss: 0.277444\n",
      "[1000]\ttr's binary_logloss: 0.265915\tvl's binary_logloss: 0.277408\n",
      "[1100]\ttr's binary_logloss: 0.265071\tvl's binary_logloss: 0.2774\n",
      "[1200]\ttr's binary_logloss: 0.264326\tvl's binary_logloss: 0.277409\n",
      "Early stopping, best iteration is:\n",
      "[1157]\ttr's binary_logloss: 0.264659\tvl's binary_logloss: 0.277394\n"
     ]
    },
    {
     "name": "stderr",
     "output_type": "stream",
     "text": [
      "tune_feature_fraction, val_score: 0.276258:  86%|########5 | 6/7 [34:26<05:19, 319.80s/it]"
     ]
    },
    {
     "name": "stdout",
     "output_type": "stream",
     "text": [
      "Training until validation scores don't improve for 100 rounds\n",
      "[100]\ttr's binary_logloss: 0.277537\tvl's binary_logloss: 0.279635\n",
      "[200]\ttr's binary_logloss: 0.275098\tvl's binary_logloss: 0.278842\n",
      "[300]\ttr's binary_logloss: 0.273306\tvl's binary_logloss: 0.278413\n",
      "[400]\ttr's binary_logloss: 0.271844\tvl's binary_logloss: 0.278198\n",
      "[500]\ttr's binary_logloss: 0.27053\tvl's binary_logloss: 0.278021\n",
      "[600]\ttr's binary_logloss: 0.269399\tvl's binary_logloss: 0.277891\n",
      "[700]\ttr's binary_logloss: 0.268394\tvl's binary_logloss: 0.277827\n",
      "[800]\ttr's binary_logloss: 0.267542\tvl's binary_logloss: 0.277795\n",
      "[900]\ttr's binary_logloss: 0.266591\tvl's binary_logloss: 0.277764\n",
      "[1000]\ttr's binary_logloss: 0.265655\tvl's binary_logloss: 0.277753\n",
      "[1100]\ttr's binary_logloss: 0.26476\tvl's binary_logloss: 0.277716\n",
      "Early stopping, best iteration is:\n",
      "[1081]\ttr's binary_logloss: 0.264895\tvl's binary_logloss: 0.277704\n"
     ]
    },
    {
     "name": "stderr",
     "output_type": "stream",
     "text": [
      "tune_feature_fraction, val_score: 0.276258: 100%|##########| 7/7 [38:51<00:00, 333.10s/it]\n",
      "tune_num_leaves, val_score: 0.276258:   0%|          | 0/20 [00:00<?, ?it/s]"
     ]
    },
    {
     "name": "stdout",
     "output_type": "stream",
     "text": [
      "Training until validation scores don't improve for 100 rounds\n",
      "[100]\ttr's binary_logloss: 0.270151\tvl's binary_logloss: 0.276908\n",
      "[200]\ttr's binary_logloss: 0.266163\tvl's binary_logloss: 0.276552\n",
      "[300]\ttr's binary_logloss: 0.262531\tvl's binary_logloss: 0.27618\n",
      "[400]\ttr's binary_logloss: 0.259207\tvl's binary_logloss: 0.276152\n",
      "Early stopping, best iteration is:\n",
      "[392]\ttr's binary_logloss: 0.259461\tvl's binary_logloss: 0.276133\n"
     ]
    },
    {
     "name": "stderr",
     "output_type": "stream",
     "text": [
      "tune_num_leaves, val_score: 0.276133:   5%|5         | 1/20 [02:26<46:29, 146.81s/it]"
     ]
    },
    {
     "name": "stdout",
     "output_type": "stream",
     "text": [
      "Training until validation scores don't improve for 100 rounds\n",
      "[100]\ttr's binary_logloss: 0.273301\tvl's binary_logloss: 0.277624\n",
      "[200]\ttr's binary_logloss: 0.270272\tvl's binary_logloss: 0.276973\n",
      "[300]\ttr's binary_logloss: 0.267874\tvl's binary_logloss: 0.276581\n",
      "[400]\ttr's binary_logloss: 0.265663\tvl's binary_logloss: 0.276398\n",
      "[500]\ttr's binary_logloss: 0.263789\tvl's binary_logloss: 0.276324\n",
      "[600]\ttr's binary_logloss: 0.26187\tvl's binary_logloss: 0.276235\n",
      "[700]\ttr's binary_logloss: 0.260045\tvl's binary_logloss: 0.27618\n",
      "[800]\ttr's binary_logloss: 0.258343\tvl's binary_logloss: 0.276193\n",
      "Early stopping, best iteration is:\n",
      "[722]\ttr's binary_logloss: 0.259572\tvl's binary_logloss: 0.276161\n"
     ]
    },
    {
     "name": "stderr",
     "output_type": "stream",
     "text": [
      "tune_num_leaves, val_score: 0.276133:  10%|#         | 2/20 [05:42<48:26, 161.46s/it]"
     ]
    },
    {
     "name": "stdout",
     "output_type": "stream",
     "text": [
      "Training until validation scores don't improve for 100 rounds\n",
      "[100]\ttr's binary_logloss: 0.268567\tvl's binary_logloss: 0.276624\n",
      "[200]\ttr's binary_logloss: 0.263535\tvl's binary_logloss: 0.276199\n",
      "[300]\ttr's binary_logloss: 0.259578\tvl's binary_logloss: 0.276121\n",
      "[400]\ttr's binary_logloss: 0.255939\tvl's binary_logloss: 0.276115\n",
      "Early stopping, best iteration is:\n",
      "[306]\ttr's binary_logloss: 0.259323\tvl's binary_logloss: 0.276083\n"
     ]
    },
    {
     "name": "stderr",
     "output_type": "stream",
     "text": [
      "tune_num_leaves, val_score: 0.276083:  15%|#5        | 3/20 [07:59<43:40, 154.15s/it]"
     ]
    },
    {
     "name": "stdout",
     "output_type": "stream",
     "text": [
      "Training until validation scores don't improve for 100 rounds\n",
      "[100]\ttr's binary_logloss: 0.273843\tvl's binary_logloss: 0.277854\n",
      "[200]\ttr's binary_logloss: 0.270971\tvl's binary_logloss: 0.277145\n",
      "[300]\ttr's binary_logloss: 0.268629\tvl's binary_logloss: 0.276643\n",
      "[400]\ttr's binary_logloss: 0.266649\tvl's binary_logloss: 0.276471\n",
      "[500]\ttr's binary_logloss: 0.264756\tvl's binary_logloss: 0.276393\n",
      "[600]\ttr's binary_logloss: 0.263122\tvl's binary_logloss: 0.276346\n",
      "[700]\ttr's binary_logloss: 0.261446\tvl's binary_logloss: 0.276339\n",
      "[800]\ttr's binary_logloss: 0.25973\tvl's binary_logloss: 0.276265\n",
      "[900]\ttr's binary_logloss: 0.2582\tvl's binary_logloss: 0.276214\n",
      "[1000]\ttr's binary_logloss: 0.256723\tvl's binary_logloss: 0.276208\n",
      "[1100]\ttr's binary_logloss: 0.25525\tvl's binary_logloss: 0.276168\n",
      "Early stopping, best iteration is:\n",
      "[1094]\ttr's binary_logloss: 0.255315\tvl's binary_logloss: 0.276166\n"
     ]
    },
    {
     "name": "stderr",
     "output_type": "stream",
     "text": [
      "tune_num_leaves, val_score: 0.276083:  20%|##        | 4/20 [12:23<49:51, 186.98s/it]"
     ]
    },
    {
     "name": "stdout",
     "output_type": "stream",
     "text": [
      "Training until validation scores don't improve for 100 rounds\n",
      "[100]\ttr's binary_logloss: 0.270304\tvl's binary_logloss: 0.276982\n",
      "[200]\ttr's binary_logloss: 0.266161\tvl's binary_logloss: 0.276441\n",
      "[300]\ttr's binary_logloss: 0.263025\tvl's binary_logloss: 0.276224\n",
      "[400]\ttr's binary_logloss: 0.259727\tvl's binary_logloss: 0.276179\n",
      "Early stopping, best iteration is:\n",
      "[362]\ttr's binary_logloss: 0.260892\tvl's binary_logloss: 0.276144\n"
     ]
    },
    {
     "name": "stderr",
     "output_type": "stream",
     "text": [
      "tune_num_leaves, val_score: 0.276083:  25%|##5       | 5/20 [14:43<43:15, 173.01s/it]"
     ]
    },
    {
     "name": "stdout",
     "output_type": "stream",
     "text": [
      "Training until validation scores don't improve for 100 rounds\n",
      "[100]\ttr's binary_logloss: 0.275012\tvl's binary_logloss: 0.27821\n",
      "[200]\ttr's binary_logloss: 0.272412\tvl's binary_logloss: 0.277381\n",
      "[300]\ttr's binary_logloss: 0.270385\tvl's binary_logloss: 0.276976\n",
      "[400]\ttr's binary_logloss: 0.268409\tvl's binary_logloss: 0.276735\n",
      "[500]\ttr's binary_logloss: 0.26674\tvl's binary_logloss: 0.276561\n",
      "[600]\ttr's binary_logloss: 0.26523\tvl's binary_logloss: 0.276432\n",
      "[700]\ttr's binary_logloss: 0.263796\tvl's binary_logloss: 0.276326\n",
      "[800]\ttr's binary_logloss: 0.262389\tvl's binary_logloss: 0.276251\n",
      "[900]\ttr's binary_logloss: 0.261131\tvl's binary_logloss: 0.276172\n",
      "[1000]\ttr's binary_logloss: 0.259946\tvl's binary_logloss: 0.276138\n",
      "[1100]\ttr's binary_logloss: 0.258737\tvl's binary_logloss: 0.27613\n",
      "Early stopping, best iteration is:\n",
      "[1066]\ttr's binary_logloss: 0.259103\tvl's binary_logloss: 0.276118\n"
     ]
    },
    {
     "name": "stderr",
     "output_type": "stream",
     "text": [
      "tune_num_leaves, val_score: 0.276083:  30%|###       | 6/20 [18:57<46:02, 197.30s/it]"
     ]
    },
    {
     "name": "stdout",
     "output_type": "stream",
     "text": [
      "Training until validation scores don't improve for 100 rounds\n",
      "[100]\ttr's binary_logloss: 0.275147\tvl's binary_logloss: 0.278247\n",
      "[200]\ttr's binary_logloss: 0.272629\tvl's binary_logloss: 0.277349\n",
      "[300]\ttr's binary_logloss: 0.27072\tvl's binary_logloss: 0.2769\n",
      "[400]\ttr's binary_logloss: 0.26898\tvl's binary_logloss: 0.276638\n",
      "[500]\ttr's binary_logloss: 0.267331\tvl's binary_logloss: 0.276495\n",
      "[600]\ttr's binary_logloss: 0.265808\tvl's binary_logloss: 0.276328\n",
      "[700]\ttr's binary_logloss: 0.264562\tvl's binary_logloss: 0.276229\n",
      "[800]\ttr's binary_logloss: 0.263132\tvl's binary_logloss: 0.276164\n",
      "[900]\ttr's binary_logloss: 0.261855\tvl's binary_logloss: 0.27612\n",
      "[1000]\ttr's binary_logloss: 0.260658\tvl's binary_logloss: 0.276068\n",
      "[1100]\ttr's binary_logloss: 0.259476\tvl's binary_logloss: 0.276054\n",
      "[1200]\ttr's binary_logloss: 0.25837\tvl's binary_logloss: 0.276057\n",
      "[1300]\ttr's binary_logloss: 0.257298\tvl's binary_logloss: 0.276046\n",
      "Early stopping, best iteration is:\n",
      "[1279]\ttr's binary_logloss: 0.257521\tvl's binary_logloss: 0.276039\n"
     ]
    },
    {
     "name": "stderr",
     "output_type": "stream",
     "text": [
      "tune_num_leaves, val_score: 0.276039:  35%|###5      | 7/20 [22:58<45:36, 210.50s/it]"
     ]
    },
    {
     "name": "stdout",
     "output_type": "stream",
     "text": [
      "Training until validation scores don't improve for 100 rounds\n",
      "[100]\ttr's binary_logloss: 0.272397\tvl's binary_logloss: 0.277459\n",
      "[200]\ttr's binary_logloss: 0.26898\tvl's binary_logloss: 0.276789\n",
      "[300]\ttr's binary_logloss: 0.266536\tvl's binary_logloss: 0.276548\n",
      "[400]\ttr's binary_logloss: 0.263901\tvl's binary_logloss: 0.276354\n",
      "[500]\ttr's binary_logloss: 0.26171\tvl's binary_logloss: 0.276322\n",
      "[600]\ttr's binary_logloss: 0.259767\tvl's binary_logloss: 0.276312\n",
      "Early stopping, best iteration is:\n",
      "[524]\ttr's binary_logloss: 0.26113\tvl's binary_logloss: 0.276304\n"
     ]
    },
    {
     "name": "stderr",
     "output_type": "stream",
     "text": [
      "tune_num_leaves, val_score: 0.276039:  40%|####      | 8/20 [25:13<37:31, 187.64s/it]"
     ]
    },
    {
     "name": "stdout",
     "output_type": "stream",
     "text": [
      "Training until validation scores don't improve for 100 rounds\n",
      "[100]\ttr's binary_logloss: 0.269302\tvl's binary_logloss: 0.276859\n",
      "[200]\ttr's binary_logloss: 0.264531\tvl's binary_logloss: 0.276288\n",
      "[300]\ttr's binary_logloss: 0.260634\tvl's binary_logloss: 0.276112\n",
      "[400]\ttr's binary_logloss: 0.25699\tvl's binary_logloss: 0.276073\n",
      "Early stopping, best iteration is:\n",
      "[357]\ttr's binary_logloss: 0.258624\tvl's binary_logloss: 0.276068\n"
     ]
    },
    {
     "name": "stderr",
     "output_type": "stream",
     "text": [
      "tune_num_leaves, val_score: 0.276039:  45%|####5     | 9/20 [27:11<30:36, 166.99s/it]"
     ]
    },
    {
     "name": "stdout",
     "output_type": "stream",
     "text": [
      "Training until validation scores don't improve for 100 rounds\n",
      "[100]\ttr's binary_logloss: 0.277971\tvl's binary_logloss: 0.279617\n",
      "[200]\ttr's binary_logloss: 0.275794\tvl's binary_logloss: 0.278499\n",
      "[300]\ttr's binary_logloss: 0.274512\tvl's binary_logloss: 0.278012\n",
      "[400]\ttr's binary_logloss: 0.273421\tvl's binary_logloss: 0.277687\n",
      "[500]\ttr's binary_logloss: 0.272395\tvl's binary_logloss: 0.277434\n",
      "[600]\ttr's binary_logloss: 0.271457\tvl's binary_logloss: 0.277188\n",
      "[700]\ttr's binary_logloss: 0.270685\tvl's binary_logloss: 0.277032\n",
      "[800]\ttr's binary_logloss: 0.269817\tvl's binary_logloss: 0.276873\n",
      "[900]\ttr's binary_logloss: 0.268983\tvl's binary_logloss: 0.276736\n",
      "[1000]\ttr's binary_logloss: 0.26825\tvl's binary_logloss: 0.276619\n",
      "[1100]\ttr's binary_logloss: 0.267546\tvl's binary_logloss: 0.27654\n",
      "[1200]\ttr's binary_logloss: 0.266892\tvl's binary_logloss: 0.276512\n",
      "[1300]\ttr's binary_logloss: 0.266299\tvl's binary_logloss: 0.276485\n",
      "[1400]\ttr's binary_logloss: 0.265698\tvl's binary_logloss: 0.276465\n",
      "[1500]\ttr's binary_logloss: 0.265085\tvl's binary_logloss: 0.276423\n",
      "[1600]\ttr's binary_logloss: 0.264432\tvl's binary_logloss: 0.276356\n",
      "[1700]\ttr's binary_logloss: 0.263829\tvl's binary_logloss: 0.276315\n",
      "Early stopping, best iteration is:\n",
      "[1688]\ttr's binary_logloss: 0.263897\tvl's binary_logloss: 0.276306\n"
     ]
    },
    {
     "name": "stderr",
     "output_type": "stream",
     "text": [
      "tune_num_leaves, val_score: 0.276039:  50%|#####     | 10/20 [31:47<33:16, 199.68s/it]"
     ]
    },
    {
     "name": "stdout",
     "output_type": "stream",
     "text": [
      "Training until validation scores don't improve for 100 rounds\n",
      "[100]\ttr's binary_logloss: 0.2815\tvl's binary_logloss: 0.282067\n",
      "[200]\ttr's binary_logloss: 0.279734\tvl's binary_logloss: 0.280717\n",
      "[300]\ttr's binary_logloss: 0.278697\tvl's binary_logloss: 0.280007\n",
      "[400]\ttr's binary_logloss: 0.277884\tvl's binary_logloss: 0.279555\n",
      "[500]\ttr's binary_logloss: 0.277198\tvl's binary_logloss: 0.279197\n",
      "[600]\ttr's binary_logloss: 0.276661\tvl's binary_logloss: 0.278893\n",
      "[700]\ttr's binary_logloss: 0.276109\tvl's binary_logloss: 0.278623\n",
      "[800]\ttr's binary_logloss: 0.275629\tvl's binary_logloss: 0.278414\n",
      "[900]\ttr's binary_logloss: 0.275186\tvl's binary_logloss: 0.278244\n",
      "[1000]\ttr's binary_logloss: 0.274809\tvl's binary_logloss: 0.278078\n",
      "[1100]\ttr's binary_logloss: 0.274409\tvl's binary_logloss: 0.277937\n",
      "[1200]\ttr's binary_logloss: 0.274034\tvl's binary_logloss: 0.277822\n",
      "[1300]\ttr's binary_logloss: 0.273688\tvl's binary_logloss: 0.277709\n",
      "[1400]\ttr's binary_logloss: 0.273363\tvl's binary_logloss: 0.277597\n",
      "[1500]\ttr's binary_logloss: 0.273032\tvl's binary_logloss: 0.277474\n",
      "[1600]\ttr's binary_logloss: 0.2727\tvl's binary_logloss: 0.277363\n",
      "[1700]\ttr's binary_logloss: 0.272421\tvl's binary_logloss: 0.277304\n",
      "[1800]\ttr's binary_logloss: 0.272155\tvl's binary_logloss: 0.27728\n",
      "[1900]\ttr's binary_logloss: 0.271891\tvl's binary_logloss: 0.277238\n",
      "[2000]\ttr's binary_logloss: 0.271663\tvl's binary_logloss: 0.277179\n",
      "[2100]\ttr's binary_logloss: 0.271419\tvl's binary_logloss: 0.277144\n",
      "[2200]\ttr's binary_logloss: 0.271171\tvl's binary_logloss: 0.277091\n",
      "[2300]\ttr's binary_logloss: 0.270934\tvl's binary_logloss: 0.277045\n",
      "[2400]\ttr's binary_logloss: 0.270703\tvl's binary_logloss: 0.277008\n",
      "[2500]\ttr's binary_logloss: 0.270479\tvl's binary_logloss: 0.276976\n",
      "[2600]\ttr's binary_logloss: 0.270267\tvl's binary_logloss: 0.276942\n",
      "[2700]\ttr's binary_logloss: 0.270053\tvl's binary_logloss: 0.276915\n",
      "[2800]\ttr's binary_logloss: 0.269851\tvl's binary_logloss: 0.276907\n",
      "[2900]\ttr's binary_logloss: 0.269626\tvl's binary_logloss: 0.27686\n",
      "[3000]\ttr's binary_logloss: 0.26942\tvl's binary_logloss: 0.276829\n",
      "[3100]\ttr's binary_logloss: 0.269214\tvl's binary_logloss: 0.276814\n",
      "[3200]\ttr's binary_logloss: 0.269018\tvl's binary_logloss: 0.276807\n",
      "[3300]\ttr's binary_logloss: 0.268821\tvl's binary_logloss: 0.276799\n",
      "[3400]\ttr's binary_logloss: 0.268611\tvl's binary_logloss: 0.276773\n",
      "[3500]\ttr's binary_logloss: 0.268423\tvl's binary_logloss: 0.276754\n",
      "[3600]\ttr's binary_logloss: 0.26824\tvl's binary_logloss: 0.276747\n",
      "[3700]\ttr's binary_logloss: 0.268049\tvl's binary_logloss: 0.276731\n",
      "[3800]\ttr's binary_logloss: 0.26787\tvl's binary_logloss: 0.276708\n",
      "[3900]\ttr's binary_logloss: 0.267683\tvl's binary_logloss: 0.276683\n",
      "[4000]\ttr's binary_logloss: 0.267494\tvl's binary_logloss: 0.276674\n",
      "[4100]\ttr's binary_logloss: 0.267309\tvl's binary_logloss: 0.276666\n",
      "[4200]\ttr's binary_logloss: 0.267135\tvl's binary_logloss: 0.276656\n",
      "[4300]\ttr's binary_logloss: 0.266958\tvl's binary_logloss: 0.276646\n",
      "[4400]\ttr's binary_logloss: 0.266788\tvl's binary_logloss: 0.276651\n",
      "[4500]\ttr's binary_logloss: 0.266606\tvl's binary_logloss: 0.276618\n",
      "[4600]\ttr's binary_logloss: 0.266421\tvl's binary_logloss: 0.276593\n",
      "[4700]\ttr's binary_logloss: 0.266245\tvl's binary_logloss: 0.276586\n",
      "[4800]\ttr's binary_logloss: 0.266069\tvl's binary_logloss: 0.276576\n",
      "Early stopping, best iteration is:\n",
      "[4791]\ttr's binary_logloss: 0.266085\tvl's binary_logloss: 0.276575\n"
     ]
    },
    {
     "name": "stderr",
     "output_type": "stream",
     "text": [
      "tune_num_leaves, val_score: 0.276039:  55%|#####5    | 11/20 [43:11<51:42, 344.70s/it]"
     ]
    },
    {
     "name": "stdout",
     "output_type": "stream",
     "text": [
      "Training until validation scores don't improve for 100 rounds\n",
      "[100]\ttr's binary_logloss: 0.268088\tvl's binary_logloss: 0.276632\n",
      "[200]\ttr's binary_logloss: 0.262896\tvl's binary_logloss: 0.276099\n",
      "[300]\ttr's binary_logloss: 0.258427\tvl's binary_logloss: 0.275936\n",
      "[400]\ttr's binary_logloss: 0.254388\tvl's binary_logloss: 0.275966\n",
      "Early stopping, best iteration is:\n",
      "[310]\ttr's binary_logloss: 0.25799\tvl's binary_logloss: 0.275923\n"
     ]
    },
    {
     "name": "stderr",
     "output_type": "stream",
     "text": [
      "tune_num_leaves, val_score: 0.275923:  60%|######    | 12/20 [45:32<37:50, 283.80s/it]"
     ]
    },
    {
     "name": "stdout",
     "output_type": "stream",
     "text": [
      "Training until validation scores don't improve for 100 rounds\n",
      "[100]\ttr's binary_logloss: 0.275742\tvl's binary_logloss: 0.278509\n",
      "[200]\ttr's binary_logloss: 0.27318\tvl's binary_logloss: 0.277515\n",
      "[300]\ttr's binary_logloss: 0.271477\tvl's binary_logloss: 0.277092\n",
      "[400]\ttr's binary_logloss: 0.270092\tvl's binary_logloss: 0.276899\n",
      "[500]\ttr's binary_logloss: 0.268596\tvl's binary_logloss: 0.276657\n",
      "[600]\ttr's binary_logloss: 0.267246\tvl's binary_logloss: 0.276478\n",
      "[700]\ttr's binary_logloss: 0.266009\tvl's binary_logloss: 0.27639\n",
      "[800]\ttr's binary_logloss: 0.264808\tvl's binary_logloss: 0.276328\n",
      "[900]\ttr's binary_logloss: 0.26356\tvl's binary_logloss: 0.276183\n",
      "[1000]\ttr's binary_logloss: 0.262503\tvl's binary_logloss: 0.276152\n",
      "[1100]\ttr's binary_logloss: 0.261461\tvl's binary_logloss: 0.27618\n",
      "Early stopping, best iteration is:\n",
      "[1008]\ttr's binary_logloss: 0.262409\tvl's binary_logloss: 0.27615\n"
     ]
    },
    {
     "name": "stderr",
     "output_type": "stream",
     "text": [
      "tune_num_leaves, val_score: 0.275923:  65%|######5   | 13/20 [49:27<31:23, 269.13s/it]"
     ]
    },
    {
     "name": "stdout",
     "output_type": "stream",
     "text": [
      "Training until validation scores don't improve for 100 rounds\n",
      "[100]\ttr's binary_logloss: 0.271281\tvl's binary_logloss: 0.277149\n",
      "[200]\ttr's binary_logloss: 0.267559\tvl's binary_logloss: 0.276578\n",
      "[300]\ttr's binary_logloss: 0.264412\tvl's binary_logloss: 0.276283\n",
      "[400]\ttr's binary_logloss: 0.261959\tvl's binary_logloss: 0.276274\n",
      "[500]\ttr's binary_logloss: 0.259296\tvl's binary_logloss: 0.276244\n",
      "[600]\ttr's binary_logloss: 0.256847\tvl's binary_logloss: 0.276227\n",
      "Early stopping, best iteration is:\n",
      "[532]\ttr's binary_logloss: 0.258421\tvl's binary_logloss: 0.276222\n"
     ]
    },
    {
     "name": "stderr",
     "output_type": "stream",
     "text": [
      "tune_num_leaves, val_score: 0.275923:  70%|#######   | 14/20 [51:47<23:02, 230.39s/it]"
     ]
    },
    {
     "name": "stdout",
     "output_type": "stream",
     "text": [
      "Training until validation scores don't improve for 100 rounds\n",
      "[100]\ttr's binary_logloss: 0.2679\tvl's binary_logloss: 0.276601\n",
      "[200]\ttr's binary_logloss: 0.262747\tvl's binary_logloss: 0.276164\n",
      "[300]\ttr's binary_logloss: 0.25818\tvl's binary_logloss: 0.276065\n",
      "Early stopping, best iteration is:\n",
      "[297]\ttr's binary_logloss: 0.258324\tvl's binary_logloss: 0.276055\n"
     ]
    },
    {
     "name": "stderr",
     "output_type": "stream",
     "text": [
      "tune_num_leaves, val_score: 0.275923:  75%|#######5  | 15/20 [53:37<16:11, 194.35s/it]"
     ]
    },
    {
     "name": "stdout",
     "output_type": "stream",
     "text": [
      "Training until validation scores don't improve for 100 rounds\n",
      "[100]\ttr's binary_logloss: 0.276768\tvl's binary_logloss: 0.278959\n",
      "[200]\ttr's binary_logloss: 0.274418\tvl's binary_logloss: 0.277915\n",
      "[300]\ttr's binary_logloss: 0.272866\tvl's binary_logloss: 0.277434\n",
      "[400]\ttr's binary_logloss: 0.271426\tvl's binary_logloss: 0.277107\n",
      "[500]\ttr's binary_logloss: 0.270148\tvl's binary_logloss: 0.276914\n",
      "[600]\ttr's binary_logloss: 0.269062\tvl's binary_logloss: 0.276769\n",
      "[700]\ttr's binary_logloss: 0.268028\tvl's binary_logloss: 0.276668\n",
      "[800]\ttr's binary_logloss: 0.267081\tvl's binary_logloss: 0.276576\n",
      "[900]\ttr's binary_logloss: 0.266107\tvl's binary_logloss: 0.276443\n",
      "[1000]\ttr's binary_logloss: 0.265171\tvl's binary_logloss: 0.276329\n",
      "[1100]\ttr's binary_logloss: 0.264339\tvl's binary_logloss: 0.276316\n",
      "[1200]\ttr's binary_logloss: 0.263537\tvl's binary_logloss: 0.276294\n",
      "[1300]\ttr's binary_logloss: 0.262713\tvl's binary_logloss: 0.276264\n",
      "[1400]\ttr's binary_logloss: 0.261821\tvl's binary_logloss: 0.276227\n",
      "Early stopping, best iteration is:\n",
      "[1392]\ttr's binary_logloss: 0.261885\tvl's binary_logloss: 0.276219\n"
     ]
    },
    {
     "name": "stderr",
     "output_type": "stream",
     "text": [
      "tune_num_leaves, val_score: 0.275923:  80%|########  | 16/20 [57:38<13:53, 208.35s/it]"
     ]
    },
    {
     "name": "stdout",
     "output_type": "stream",
     "text": [
      "Training until validation scores don't improve for 100 rounds\n",
      "[100]\ttr's binary_logloss: 0.283628\tvl's binary_logloss: 0.283975\n",
      "[200]\ttr's binary_logloss: 0.281978\tvl's binary_logloss: 0.282506\n",
      "[300]\ttr's binary_logloss: 0.280897\tvl's binary_logloss: 0.281626\n",
      "[400]\ttr's binary_logloss: 0.28013\tvl's binary_logloss: 0.281062\n",
      "[500]\ttr's binary_logloss: 0.279492\tvl's binary_logloss: 0.280574\n",
      "[600]\ttr's binary_logloss: 0.279007\tvl's binary_logloss: 0.280234\n",
      "[700]\ttr's binary_logloss: 0.278599\tvl's binary_logloss: 0.279971\n",
      "[800]\ttr's binary_logloss: 0.278225\tvl's binary_logloss: 0.279747\n",
      "[900]\ttr's binary_logloss: 0.277851\tvl's binary_logloss: 0.279524\n",
      "[1000]\ttr's binary_logloss: 0.277551\tvl's binary_logloss: 0.279347\n",
      "[1100]\ttr's binary_logloss: 0.277267\tvl's binary_logloss: 0.279186\n",
      "[1200]\ttr's binary_logloss: 0.277028\tvl's binary_logloss: 0.27908\n",
      "[1300]\ttr's binary_logloss: 0.27678\tvl's binary_logloss: 0.278967\n",
      "[1400]\ttr's binary_logloss: 0.276555\tvl's binary_logloss: 0.278886\n",
      "[1500]\ttr's binary_logloss: 0.276335\tvl's binary_logloss: 0.278783\n",
      "[1600]\ttr's binary_logloss: 0.276145\tvl's binary_logloss: 0.278682\n",
      "[1700]\ttr's binary_logloss: 0.275915\tvl's binary_logloss: 0.278561\n",
      "[1800]\ttr's binary_logloss: 0.275694\tvl's binary_logloss: 0.278454\n",
      "[1900]\ttr's binary_logloss: 0.275511\tvl's binary_logloss: 0.278382\n",
      "[2000]\ttr's binary_logloss: 0.275345\tvl's binary_logloss: 0.278323\n",
      "[2100]\ttr's binary_logloss: 0.275166\tvl's binary_logloss: 0.27826\n",
      "[2200]\ttr's binary_logloss: 0.274968\tvl's binary_logloss: 0.278201\n",
      "[2300]\ttr's binary_logloss: 0.274791\tvl's binary_logloss: 0.27814\n",
      "[2400]\ttr's binary_logloss: 0.274646\tvl's binary_logloss: 0.278108\n",
      "[2500]\ttr's binary_logloss: 0.274492\tvl's binary_logloss: 0.278056\n",
      "[2600]\ttr's binary_logloss: 0.274318\tvl's binary_logloss: 0.277991\n",
      "[2700]\ttr's binary_logloss: 0.274174\tvl's binary_logloss: 0.277951\n",
      "[2800]\ttr's binary_logloss: 0.274048\tvl's binary_logloss: 0.277927\n",
      "[2900]\ttr's binary_logloss: 0.273907\tvl's binary_logloss: 0.277896\n",
      "[3000]\ttr's binary_logloss: 0.273777\tvl's binary_logloss: 0.277864\n",
      "[3100]\ttr's binary_logloss: 0.273655\tvl's binary_logloss: 0.277843\n",
      "[3200]\ttr's binary_logloss: 0.27353\tvl's binary_logloss: 0.277819\n",
      "[3300]\ttr's binary_logloss: 0.273395\tvl's binary_logloss: 0.277784\n",
      "[3400]\ttr's binary_logloss: 0.273279\tvl's binary_logloss: 0.277762\n",
      "[3500]\ttr's binary_logloss: 0.27316\tvl's binary_logloss: 0.277734\n",
      "[3600]\ttr's binary_logloss: 0.273039\tvl's binary_logloss: 0.277706\n",
      "[3700]\ttr's binary_logloss: 0.272907\tvl's binary_logloss: 0.277677\n",
      "[3800]\ttr's binary_logloss: 0.272798\tvl's binary_logloss: 0.27766\n",
      "[3900]\ttr's binary_logloss: 0.272671\tvl's binary_logloss: 0.277639\n",
      "[4000]\ttr's binary_logloss: 0.272551\tvl's binary_logloss: 0.277604\n",
      "[4100]\ttr's binary_logloss: 0.272446\tvl's binary_logloss: 0.277587\n",
      "[4200]\ttr's binary_logloss: 0.272329\tvl's binary_logloss: 0.277553\n",
      "[4300]\ttr's binary_logloss: 0.272214\tvl's binary_logloss: 0.277526\n",
      "[4400]\ttr's binary_logloss: 0.272106\tvl's binary_logloss: 0.277502\n",
      "[4500]\ttr's binary_logloss: 0.272004\tvl's binary_logloss: 0.277475\n",
      "[4600]\ttr's binary_logloss: 0.271904\tvl's binary_logloss: 0.277466\n",
      "[4700]\ttr's binary_logloss: 0.271797\tvl's binary_logloss: 0.277453\n",
      "[4800]\ttr's binary_logloss: 0.2717\tvl's binary_logloss: 0.277455\n",
      "[4900]\ttr's binary_logloss: 0.271599\tvl's binary_logloss: 0.277444\n",
      "[5000]\ttr's binary_logloss: 0.2715\tvl's binary_logloss: 0.277431\n",
      "[5100]\ttr's binary_logloss: 0.271403\tvl's binary_logloss: 0.277427\n",
      "[5200]\ttr's binary_logloss: 0.271299\tvl's binary_logloss: 0.277408\n",
      "[5300]\ttr's binary_logloss: 0.271193\tvl's binary_logloss: 0.277382\n",
      "[5400]\ttr's binary_logloss: 0.271101\tvl's binary_logloss: 0.277368\n",
      "[5500]\ttr's binary_logloss: 0.271006\tvl's binary_logloss: 0.277363\n",
      "[5600]\ttr's binary_logloss: 0.270909\tvl's binary_logloss: 0.277344\n",
      "[5700]\ttr's binary_logloss: 0.270816\tvl's binary_logloss: 0.277334\n",
      "[5800]\ttr's binary_logloss: 0.270714\tvl's binary_logloss: 0.277326\n",
      "[5900]\ttr's binary_logloss: 0.270613\tvl's binary_logloss: 0.2773\n",
      "[6000]\ttr's binary_logloss: 0.270516\tvl's binary_logloss: 0.277282\n",
      "[6100]\ttr's binary_logloss: 0.27043\tvl's binary_logloss: 0.277278\n",
      "Early stopping, best iteration is:\n",
      "[6062]\ttr's binary_logloss: 0.270462\tvl's binary_logloss: 0.277272\n"
     ]
    },
    {
     "name": "stderr",
     "output_type": "stream",
     "text": [
      "tune_num_leaves, val_score: 0.275923:  85%|########5 | 17/20 [1:12:23<20:33, 411.29s/it]"
     ]
    },
    {
     "name": "stdout",
     "output_type": "stream",
     "text": [
      "Training until validation scores don't improve for 100 rounds\n",
      "[100]\ttr's binary_logloss: 0.272229\tvl's binary_logloss: 0.277315\n",
      "[200]\ttr's binary_logloss: 0.268928\tvl's binary_logloss: 0.276722\n",
      "[300]\ttr's binary_logloss: 0.266081\tvl's binary_logloss: 0.276378\n",
      "[400]\ttr's binary_logloss: 0.263778\tvl's binary_logloss: 0.276279\n",
      "[500]\ttr's binary_logloss: 0.261337\tvl's binary_logloss: 0.27625\n",
      "[600]\ttr's binary_logloss: 0.259177\tvl's binary_logloss: 0.276231\n",
      "[700]\ttr's binary_logloss: 0.25727\tvl's binary_logloss: 0.276239\n",
      "Early stopping, best iteration is:\n",
      "[616]\ttr's binary_logloss: 0.25883\tvl's binary_logloss: 0.276209\n"
     ]
    },
    {
     "name": "stderr",
     "output_type": "stream",
     "text": [
      "tune_num_leaves, val_score: 0.275923:  90%|######### | 18/20 [1:14:51<11:04, 332.34s/it]"
     ]
    },
    {
     "name": "stdout",
     "output_type": "stream",
     "text": [
      "Training until validation scores don't improve for 100 rounds\n",
      "[100]\ttr's binary_logloss: 0.274368\tvl's binary_logloss: 0.278026\n",
      "[200]\ttr's binary_logloss: 0.271439\tvl's binary_logloss: 0.27712\n",
      "[300]\ttr's binary_logloss: 0.269234\tvl's binary_logloss: 0.276751\n",
      "[400]\ttr's binary_logloss: 0.267307\tvl's binary_logloss: 0.27659\n",
      "[500]\ttr's binary_logloss: 0.265507\tvl's binary_logloss: 0.27646\n",
      "[600]\ttr's binary_logloss: 0.263996\tvl's binary_logloss: 0.276371\n",
      "[700]\ttr's binary_logloss: 0.262462\tvl's binary_logloss: 0.276288\n",
      "[800]\ttr's binary_logloss: 0.260927\tvl's binary_logloss: 0.276234\n",
      "[900]\ttr's binary_logloss: 0.259519\tvl's binary_logloss: 0.276187\n",
      "[1000]\ttr's binary_logloss: 0.258095\tvl's binary_logloss: 0.276152\n",
      "Early stopping, best iteration is:\n",
      "[925]\ttr's binary_logloss: 0.259146\tvl's binary_logloss: 0.276149\n"
     ]
    },
    {
     "name": "stderr",
     "output_type": "stream",
     "text": [
      "tune_num_leaves, val_score: 0.275923:  95%|#########5| 19/20 [1:18:00<04:49, 289.29s/it]"
     ]
    },
    {
     "name": "stdout",
     "output_type": "stream",
     "text": [
      "Training until validation scores don't improve for 100 rounds\n",
      "[100]\ttr's binary_logloss: 0.271251\tvl's binary_logloss: 0.27721\n",
      "[200]\ttr's binary_logloss: 0.267435\tvl's binary_logloss: 0.276601\n",
      "[300]\ttr's binary_logloss: 0.264218\tvl's binary_logloss: 0.276262\n",
      "[400]\ttr's binary_logloss: 0.261757\tvl's binary_logloss: 0.276268\n",
      "[500]\ttr's binary_logloss: 0.259263\tvl's binary_logloss: 0.276267\n",
      "[600]\ttr's binary_logloss: 0.256959\tvl's binary_logloss: 0.276248\n",
      "[700]\ttr's binary_logloss: 0.254644\tvl's binary_logloss: 0.276262\n",
      "Early stopping, best iteration is:\n",
      "[618]\ttr's binary_logloss: 0.256542\tvl's binary_logloss: 0.276243\n"
     ]
    },
    {
     "name": "stderr",
     "output_type": "stream",
     "text": [
      "tune_num_leaves, val_score: 0.275923: 100%|##########| 20/20 [1:20:49<00:00, 242.49s/it]\n",
      "tune_bagging_fraction_and_bagging_freq, val_score: 0.275923:   0%|          | 0/10 [00:00<?, ?it/s]"
     ]
    },
    {
     "name": "stdout",
     "output_type": "stream",
     "text": [
      "Training until validation scores don't improve for 100 rounds\n",
      "[100]\ttr's binary_logloss: 0.268754\tvl's binary_logloss: 0.276741\n",
      "[200]\ttr's binary_logloss: 0.263825\tvl's binary_logloss: 0.276438\n",
      "[300]\ttr's binary_logloss: 0.259348\tvl's binary_logloss: 0.276297\n",
      "[400]\ttr's binary_logloss: 0.255397\tvl's binary_logloss: 0.276271\n",
      "Early stopping, best iteration is:\n",
      "[328]\ttr's binary_logloss: 0.258211\tvl's binary_logloss: 0.276219\n"
     ]
    },
    {
     "name": "stderr",
     "output_type": "stream",
     "text": [
      "tune_bagging_fraction_and_bagging_freq, val_score: 0.275923:  10%|#         | 1/10 [02:42<24:22, 162.45s/it]"
     ]
    },
    {
     "name": "stdout",
     "output_type": "stream",
     "text": [
      "Training until validation scores don't improve for 100 rounds\n",
      "[100]\ttr's binary_logloss: 0.269065\tvl's binary_logloss: 0.276892\n",
      "[200]\ttr's binary_logloss: 0.26399\tvl's binary_logloss: 0.276509\n",
      "[300]\ttr's binary_logloss: 0.259583\tvl's binary_logloss: 0.276315\n",
      "[400]\ttr's binary_logloss: 0.255526\tvl's binary_logloss: 0.276363\n",
      "Early stopping, best iteration is:\n",
      "[319]\ttr's binary_logloss: 0.258755\tvl's binary_logloss: 0.276292\n"
     ]
    },
    {
     "name": "stderr",
     "output_type": "stream",
     "text": [
      "tune_bagging_fraction_and_bagging_freq, val_score: 0.275923:  20%|##        | 2/10 [05:47<22:34, 169.31s/it]"
     ]
    },
    {
     "name": "stdout",
     "output_type": "stream",
     "text": [
      "Training until validation scores don't improve for 100 rounds\n",
      "[100]\ttr's binary_logloss: 0.269124\tvl's binary_logloss: 0.276906\n",
      "[200]\ttr's binary_logloss: 0.26395\tvl's binary_logloss: 0.2765\n",
      "[300]\ttr's binary_logloss: 0.259557\tvl's binary_logloss: 0.276371\n",
      "Early stopping, best iteration is:\n",
      "[281]\ttr's binary_logloss: 0.260341\tvl's binary_logloss: 0.276355\n"
     ]
    },
    {
     "name": "stderr",
     "output_type": "stream",
     "text": [
      "tune_bagging_fraction_and_bagging_freq, val_score: 0.275923:  30%|###       | 3/10 [08:20<19:09, 164.20s/it]"
     ]
    },
    {
     "name": "stdout",
     "output_type": "stream",
     "text": [
      "Training until validation scores don't improve for 100 rounds\n",
      "[100]\ttr's binary_logloss: 0.268655\tvl's binary_logloss: 0.27677\n",
      "[200]\ttr's binary_logloss: 0.263762\tvl's binary_logloss: 0.276426\n",
      "[300]\ttr's binary_logloss: 0.259309\tvl's binary_logloss: 0.276252\n",
      "[400]\ttr's binary_logloss: 0.255335\tvl's binary_logloss: 0.276225\n",
      "Early stopping, best iteration is:\n",
      "[325]\ttr's binary_logloss: 0.258295\tvl's binary_logloss: 0.276182\n"
     ]
    },
    {
     "name": "stderr",
     "output_type": "stream",
     "text": [
      "tune_bagging_fraction_and_bagging_freq, val_score: 0.275923:  40%|####      | 4/10 [10:35<15:33, 155.55s/it]"
     ]
    },
    {
     "name": "stdout",
     "output_type": "stream",
     "text": [
      "Training until validation scores don't improve for 100 rounds\n",
      "[100]\ttr's binary_logloss: 0.269995\tvl's binary_logloss: 0.277223\n",
      "[200]\ttr's binary_logloss: 0.264727\tvl's binary_logloss: 0.276715\n",
      "[300]\ttr's binary_logloss: 0.26037\tvl's binary_logloss: 0.276748\n",
      "Early stopping, best iteration is:\n",
      "[208]\ttr's binary_logloss: 0.26434\tvl's binary_logloss: 0.276693\n"
     ]
    },
    {
     "name": "stderr",
     "output_type": "stream",
     "text": [
      "tune_bagging_fraction_and_bagging_freq, val_score: 0.275923:  50%|#####     | 5/10 [12:09<11:25, 137.18s/it]"
     ]
    },
    {
     "name": "stdout",
     "output_type": "stream",
     "text": [
      "Training until validation scores don't improve for 100 rounds\n",
      "[100]\ttr's binary_logloss: 0.268335\tvl's binary_logloss: 0.276638\n",
      "[200]\ttr's binary_logloss: 0.263485\tvl's binary_logloss: 0.276257\n",
      "[300]\ttr's binary_logloss: 0.259642\tvl's binary_logloss: 0.276134\n",
      "[400]\ttr's binary_logloss: 0.256038\tvl's binary_logloss: 0.276094\n",
      "Early stopping, best iteration is:\n",
      "[384]\ttr's binary_logloss: 0.256527\tvl's binary_logloss: 0.276077\n"
     ]
    },
    {
     "name": "stderr",
     "output_type": "stream",
     "text": [
      "tune_bagging_fraction_and_bagging_freq, val_score: 0.275923:  60%|######    | 6/10 [14:29<09:11, 137.89s/it]"
     ]
    },
    {
     "name": "stdout",
     "output_type": "stream",
     "text": [
      "Training until validation scores don't improve for 100 rounds\n",
      "[100]\ttr's binary_logloss: 0.268231\tvl's binary_logloss: 0.27662\n",
      "[200]\ttr's binary_logloss: 0.26306\tvl's binary_logloss: 0.276154\n",
      "[300]\ttr's binary_logloss: 0.259226\tvl's binary_logloss: 0.276024\n",
      "[400]\ttr's binary_logloss: 0.25584\tvl's binary_logloss: 0.275969\n",
      "[500]\ttr's binary_logloss: 0.252696\tvl's binary_logloss: 0.27604\n",
      "Early stopping, best iteration is:\n",
      "[410]\ttr's binary_logloss: 0.255508\tvl's binary_logloss: 0.275958\n"
     ]
    },
    {
     "name": "stderr",
     "output_type": "stream",
     "text": [
      "tune_bagging_fraction_and_bagging_freq, val_score: 0.275923:  70%|#######   | 7/10 [16:54<06:59, 139.97s/it]"
     ]
    },
    {
     "name": "stdout",
     "output_type": "stream",
     "text": [
      "Training until validation scores don't improve for 100 rounds\n",
      "[100]\ttr's binary_logloss: 0.269072\tvl's binary_logloss: 0.276825\n",
      "[200]\ttr's binary_logloss: 0.263906\tvl's binary_logloss: 0.2764\n",
      "[300]\ttr's binary_logloss: 0.259537\tvl's binary_logloss: 0.276385\n",
      "[400]\ttr's binary_logloss: 0.255531\tvl's binary_logloss: 0.276416\n",
      "Early stopping, best iteration is:\n",
      "[330]\ttr's binary_logloss: 0.258276\tvl's binary_logloss: 0.276326\n"
     ]
    },
    {
     "name": "stderr",
     "output_type": "stream",
     "text": [
      "tune_bagging_fraction_and_bagging_freq, val_score: 0.275923:  80%|########  | 8/10 [19:19<04:42, 141.44s/it]"
     ]
    },
    {
     "name": "stdout",
     "output_type": "stream",
     "text": [
      "Training until validation scores don't improve for 100 rounds\n",
      "[100]\ttr's binary_logloss: 0.269676\tvl's binary_logloss: 0.27703\n",
      "[200]\ttr's binary_logloss: 0.264608\tvl's binary_logloss: 0.276646\n",
      "[300]\ttr's binary_logloss: 0.260184\tvl's binary_logloss: 0.276553\n",
      "[400]\ttr's binary_logloss: 0.25609\tvl's binary_logloss: 0.27665\n",
      "Early stopping, best iteration is:\n",
      "[318]\ttr's binary_logloss: 0.259388\tvl's binary_logloss: 0.276535\n"
     ]
    },
    {
     "name": "stderr",
     "output_type": "stream",
     "text": [
      "tune_bagging_fraction_and_bagging_freq, val_score: 0.275923:  90%|######### | 9/10 [21:55<02:25, 145.93s/it]"
     ]
    },
    {
     "name": "stdout",
     "output_type": "stream",
     "text": [
      "Training until validation scores don't improve for 100 rounds\n",
      "[100]\ttr's binary_logloss: 0.269038\tvl's binary_logloss: 0.276768\n",
      "[200]\ttr's binary_logloss: 0.263909\tvl's binary_logloss: 0.276414\n",
      "[300]\ttr's binary_logloss: 0.259512\tvl's binary_logloss: 0.276286\n",
      "[400]\ttr's binary_logloss: 0.255514\tvl's binary_logloss: 0.276307\n",
      "Early stopping, best iteration is:\n",
      "[319]\ttr's binary_logloss: 0.258704\tvl's binary_logloss: 0.276257\n"
     ]
    },
    {
     "name": "stderr",
     "output_type": "stream",
     "text": [
      "tune_bagging_fraction_and_bagging_freq, val_score: 0.275923: 100%|##########| 10/10 [24:44<00:00, 148.50s/it]\n",
      "tune_feature_fraction, val_score: 0.275923:   0%|          | 0/6 [00:00<?, ?it/s]"
     ]
    },
    {
     "name": "stdout",
     "output_type": "stream",
     "text": [
      "Training until validation scores don't improve for 100 rounds\n",
      "[100]\ttr's binary_logloss: 0.268608\tvl's binary_logloss: 0.276612\n",
      "[200]\ttr's binary_logloss: 0.26351\tvl's binary_logloss: 0.276033\n",
      "[300]\ttr's binary_logloss: 0.259524\tvl's binary_logloss: 0.275912\n",
      "[400]\ttr's binary_logloss: 0.255879\tvl's binary_logloss: 0.275916\n",
      "Early stopping, best iteration is:\n",
      "[318]\ttr's binary_logloss: 0.258813\tvl's binary_logloss: 0.275876\n"
     ]
    },
    {
     "name": "stderr",
     "output_type": "stream",
     "text": [
      "tune_feature_fraction, val_score: 0.275876:  17%|#6        | 1/6 [02:19<11:36, 139.26s/it]"
     ]
    },
    {
     "name": "stdout",
     "output_type": "stream",
     "text": [
      "Training until validation scores don't improve for 100 rounds\n",
      "[100]\ttr's binary_logloss: 0.268233\tvl's binary_logloss: 0.2765\n",
      "[200]\ttr's binary_logloss: 0.263307\tvl's binary_logloss: 0.276093\n",
      "[300]\ttr's binary_logloss: 0.259017\tvl's binary_logloss: 0.275922\n",
      "[400]\ttr's binary_logloss: 0.255091\tvl's binary_logloss: 0.2759\n",
      "Early stopping, best iteration is:\n",
      "[324]\ttr's binary_logloss: 0.25793\tvl's binary_logloss: 0.275838\n"
     ]
    },
    {
     "name": "stderr",
     "output_type": "stream",
     "text": [
      "tune_feature_fraction, val_score: 0.275838:  33%|###3      | 2/6 [04:32<09:09, 137.50s/it]"
     ]
    },
    {
     "name": "stdout",
     "output_type": "stream",
     "text": [
      "Training until validation scores don't improve for 100 rounds\n",
      "[100]\ttr's binary_logloss: 0.268088\tvl's binary_logloss: 0.276632\n",
      "[200]\ttr's binary_logloss: 0.262896\tvl's binary_logloss: 0.276099\n",
      "[300]\ttr's binary_logloss: 0.258427\tvl's binary_logloss: 0.275936\n",
      "[400]\ttr's binary_logloss: 0.254388\tvl's binary_logloss: 0.275966\n",
      "Early stopping, best iteration is:\n",
      "[310]\ttr's binary_logloss: 0.25799\tvl's binary_logloss: 0.275923\n"
     ]
    },
    {
     "name": "stderr",
     "output_type": "stream",
     "text": [
      "tune_feature_fraction, val_score: 0.275838:  50%|#####     | 3/6 [06:27<06:31, 130.66s/it]"
     ]
    },
    {
     "name": "stdout",
     "output_type": "stream",
     "text": [
      "Training until validation scores don't improve for 100 rounds\n",
      "[100]\ttr's binary_logloss: 0.268088\tvl's binary_logloss: 0.276632\n",
      "[200]\ttr's binary_logloss: 0.262896\tvl's binary_logloss: 0.276099\n",
      "[300]\ttr's binary_logloss: 0.258427\tvl's binary_logloss: 0.275936\n",
      "[400]\ttr's binary_logloss: 0.254388\tvl's binary_logloss: 0.275966\n",
      "Early stopping, best iteration is:\n",
      "[310]\ttr's binary_logloss: 0.25799\tvl's binary_logloss: 0.275923\n"
     ]
    },
    {
     "name": "stderr",
     "output_type": "stream",
     "text": [
      "tune_feature_fraction, val_score: 0.275838:  67%|######6   | 4/6 [08:22<04:12, 126.02s/it]"
     ]
    },
    {
     "name": "stdout",
     "output_type": "stream",
     "text": [
      "Training until validation scores don't improve for 100 rounds\n",
      "[100]\ttr's binary_logloss: 0.267888\tvl's binary_logloss: 0.276728\n",
      "[200]\ttr's binary_logloss: 0.262733\tvl's binary_logloss: 0.276296\n",
      "[300]\ttr's binary_logloss: 0.258417\tvl's binary_logloss: 0.276052\n",
      "[400]\ttr's binary_logloss: 0.254743\tvl's binary_logloss: 0.276099\n",
      "Early stopping, best iteration is:\n",
      "[301]\ttr's binary_logloss: 0.258394\tvl's binary_logloss: 0.276049\n"
     ]
    },
    {
     "name": "stderr",
     "output_type": "stream",
     "text": [
      "tune_feature_fraction, val_score: 0.275838:  83%|########3 | 5/6 [10:13<02:01, 121.59s/it]"
     ]
    },
    {
     "name": "stdout",
     "output_type": "stream",
     "text": [
      "Training until validation scores don't improve for 100 rounds\n",
      "[100]\ttr's binary_logloss: 0.267938\tvl's binary_logloss: 0.276684\n",
      "[200]\ttr's binary_logloss: 0.262453\tvl's binary_logloss: 0.276373\n",
      "[300]\ttr's binary_logloss: 0.257732\tvl's binary_logloss: 0.276127\n",
      "Early stopping, best iteration is:\n",
      "[297]\ttr's binary_logloss: 0.257858\tvl's binary_logloss: 0.276117\n"
     ]
    },
    {
     "name": "stderr",
     "output_type": "stream",
     "text": [
      "tune_feature_fraction, val_score: 0.275838: 100%|##########| 6/6 [12:04<00:00, 120.74s/it]\n",
      "tune_lambda_l1_and_lambda_l2, val_score: 0.275838:   0%|          | 0/20 [00:00<?, ?it/s]"
     ]
    },
    {
     "name": "stdout",
     "output_type": "stream",
     "text": [
      "Training until validation scores don't improve for 100 rounds\n",
      "[100]\ttr's binary_logloss: 0.268336\tvl's binary_logloss: 0.276586\n",
      "[200]\ttr's binary_logloss: 0.263374\tvl's binary_logloss: 0.276199\n",
      "[300]\ttr's binary_logloss: 0.259028\tvl's binary_logloss: 0.275987\n",
      "[400]\ttr's binary_logloss: 0.255093\tvl's binary_logloss: 0.276004\n",
      "Early stopping, best iteration is:\n",
      "[330]\ttr's binary_logloss: 0.257796\tvl's binary_logloss: 0.275952\n"
     ]
    },
    {
     "name": "stderr",
     "output_type": "stream",
     "text": [
      "tune_lambda_l1_and_lambda_l2, val_score: 0.275838:   5%|5         | 1/20 [01:57<37:08, 117.32s/it]"
     ]
    },
    {
     "name": "stdout",
     "output_type": "stream",
     "text": [
      "Training until validation scores don't improve for 100 rounds\n",
      "[100]\ttr's binary_logloss: 0.268798\tvl's binary_logloss: 0.276479\n",
      "[200]\ttr's binary_logloss: 0.264145\tvl's binary_logloss: 0.27582\n",
      "[300]\ttr's binary_logloss: 0.260516\tvl's binary_logloss: 0.275538\n",
      "[400]\ttr's binary_logloss: 0.257219\tvl's binary_logloss: 0.275502\n",
      "Early stopping, best iteration is:\n",
      "[362]\ttr's binary_logloss: 0.258461\tvl's binary_logloss: 0.275476\n"
     ]
    },
    {
     "name": "stderr",
     "output_type": "stream",
     "text": [
      "tune_lambda_l1_and_lambda_l2, val_score: 0.275476:  10%|#         | 2/20 [04:23<37:45, 125.87s/it]"
     ]
    },
    {
     "name": "stdout",
     "output_type": "stream",
     "text": [
      "Training until validation scores don't improve for 100 rounds\n",
      "[100]\ttr's binary_logloss: 0.268352\tvl's binary_logloss: 0.276549\n",
      "[200]\ttr's binary_logloss: 0.263291\tvl's binary_logloss: 0.276147\n",
      "[300]\ttr's binary_logloss: 0.25929\tvl's binary_logloss: 0.276005\n",
      "[400]\ttr's binary_logloss: 0.255478\tvl's binary_logloss: 0.275927\n",
      "[500]\ttr's binary_logloss: 0.25224\tvl's binary_logloss: 0.275927\n",
      "Early stopping, best iteration is:\n",
      "[437]\ttr's binary_logloss: 0.254101\tvl's binary_logloss: 0.27587\n"
     ]
    },
    {
     "name": "stderr",
     "output_type": "stream",
     "text": [
      "tune_lambda_l1_and_lambda_l2, val_score: 0.275476:  15%|#5        | 3/20 [06:34<36:07, 127.52s/it]"
     ]
    },
    {
     "name": "stdout",
     "output_type": "stream",
     "text": [
      "Training until validation scores don't improve for 100 rounds\n",
      "[100]\ttr's binary_logloss: 0.268853\tvl's binary_logloss: 0.276519\n",
      "[200]\ttr's binary_logloss: 0.26427\tvl's binary_logloss: 0.275788\n",
      "[300]\ttr's binary_logloss: 0.260658\tvl's binary_logloss: 0.275534\n",
      "[400]\ttr's binary_logloss: 0.257543\tvl's binary_logloss: 0.275389\n",
      "[500]\ttr's binary_logloss: 0.254414\tvl's binary_logloss: 0.275302\n",
      "[600]\ttr's binary_logloss: 0.251678\tvl's binary_logloss: 0.275334\n",
      "Early stopping, best iteration is:\n",
      "[506]\ttr's binary_logloss: 0.254235\tvl's binary_logloss: 0.275289\n"
     ]
    },
    {
     "name": "stderr",
     "output_type": "stream",
     "text": [
      "tune_lambda_l1_and_lambda_l2, val_score: 0.275289:  20%|##        | 4/20 [09:35<38:16, 143.52s/it]"
     ]
    },
    {
     "name": "stdout",
     "output_type": "stream",
     "text": [
      "Training until validation scores don't improve for 100 rounds\n",
      "[100]\ttr's binary_logloss: 0.268314\tvl's binary_logloss: 0.276571\n",
      "[200]\ttr's binary_logloss: 0.263285\tvl's binary_logloss: 0.276151\n",
      "[300]\ttr's binary_logloss: 0.258843\tvl's binary_logloss: 0.275941\n",
      "[400]\ttr's binary_logloss: 0.254777\tvl's binary_logloss: 0.275933\n",
      "Early stopping, best iteration is:\n",
      "[361]\ttr's binary_logloss: 0.256408\tvl's binary_logloss: 0.275858\n"
     ]
    },
    {
     "name": "stderr",
     "output_type": "stream",
     "text": [
      "tune_lambda_l1_and_lambda_l2, val_score: 0.275289:  25%|##5       | 5/20 [11:38<34:19, 137.31s/it]"
     ]
    },
    {
     "name": "stdout",
     "output_type": "stream",
     "text": [
      "Training until validation scores don't improve for 100 rounds\n",
      "[100]\ttr's binary_logloss: 0.268638\tvl's binary_logloss: 0.276465\n",
      "[200]\ttr's binary_logloss: 0.263848\tvl's binary_logloss: 0.275819\n",
      "[300]\ttr's binary_logloss: 0.25981\tvl's binary_logloss: 0.275611\n",
      "[400]\ttr's binary_logloss: 0.256188\tvl's binary_logloss: 0.275557\n",
      "[500]\ttr's binary_logloss: 0.252969\tvl's binary_logloss: 0.275528\n",
      "[600]\ttr's binary_logloss: 0.24985\tvl's binary_logloss: 0.275505\n",
      "[700]\ttr's binary_logloss: 0.246756\tvl's binary_logloss: 0.275477\n",
      "Early stopping, best iteration is:\n",
      "[685]\ttr's binary_logloss: 0.247143\tvl's binary_logloss: 0.275459\n"
     ]
    },
    {
     "name": "stderr",
     "output_type": "stream",
     "text": [
      "tune_lambda_l1_and_lambda_l2, val_score: 0.275289:  30%|###       | 6/20 [15:01<36:37, 156.97s/it]"
     ]
    },
    {
     "name": "stdout",
     "output_type": "stream",
     "text": [
      "Training until validation scores don't improve for 100 rounds\n",
      "[100]\ttr's binary_logloss: 0.268362\tvl's binary_logloss: 0.276628\n",
      "[200]\ttr's binary_logloss: 0.263414\tvl's binary_logloss: 0.276216\n",
      "[300]\ttr's binary_logloss: 0.258813\tvl's binary_logloss: 0.276015\n",
      "[400]\ttr's binary_logloss: 0.255216\tvl's binary_logloss: 0.276054\n",
      "Early stopping, best iteration is:\n",
      "[318]\ttr's binary_logloss: 0.258118\tvl's binary_logloss: 0.275988\n"
     ]
    },
    {
     "name": "stderr",
     "output_type": "stream",
     "text": [
      "tune_lambda_l1_and_lambda_l2, val_score: 0.275289:  35%|###5      | 7/20 [16:56<31:16, 144.35s/it]"
     ]
    },
    {
     "name": "stdout",
     "output_type": "stream",
     "text": [
      "Training until validation scores don't improve for 100 rounds\n",
      "[100]\ttr's binary_logloss: 0.268273\tvl's binary_logloss: 0.276593\n",
      "[200]\ttr's binary_logloss: 0.263255\tvl's binary_logloss: 0.276154\n",
      "[300]\ttr's binary_logloss: 0.258932\tvl's binary_logloss: 0.27595\n",
      "[400]\ttr's binary_logloss: 0.255484\tvl's binary_logloss: 0.275948\n",
      "Early stopping, best iteration is:\n",
      "[357]\ttr's binary_logloss: 0.256882\tvl's binary_logloss: 0.275912\n"
     ]
    },
    {
     "name": "stderr",
     "output_type": "stream",
     "text": [
      "tune_lambda_l1_and_lambda_l2, val_score: 0.275289:  40%|####      | 8/20 [18:57<27:30, 137.53s/it]"
     ]
    },
    {
     "name": "stdout",
     "output_type": "stream",
     "text": [
      "Training until validation scores don't improve for 100 rounds\n",
      "[100]\ttr's binary_logloss: 0.268717\tvl's binary_logloss: 0.276562\n",
      "[200]\ttr's binary_logloss: 0.264169\tvl's binary_logloss: 0.276074\n",
      "[300]\ttr's binary_logloss: 0.260448\tvl's binary_logloss: 0.275833\n",
      "[400]\ttr's binary_logloss: 0.256987\tvl's binary_logloss: 0.275627\n",
      "[500]\ttr's binary_logloss: 0.254099\tvl's binary_logloss: 0.27563\n",
      "[600]\ttr's binary_logloss: 0.251385\tvl's binary_logloss: 0.275664\n",
      "[700]\ttr's binary_logloss: 0.248456\tvl's binary_logloss: 0.275633\n",
      "Early stopping, best iteration is:\n",
      "[623]\ttr's binary_logloss: 0.250688\tvl's binary_logloss: 0.275606\n"
     ]
    },
    {
     "name": "stderr",
     "output_type": "stream",
     "text": [
      "tune_lambda_l1_and_lambda_l2, val_score: 0.275289:  45%|####5     | 9/20 [21:52<27:15, 148.72s/it]"
     ]
    },
    {
     "name": "stdout",
     "output_type": "stream",
     "text": [
      "Training until validation scores don't improve for 100 rounds\n",
      "[100]\ttr's binary_logloss: 0.268353\tvl's binary_logloss: 0.276599\n",
      "[200]\ttr's binary_logloss: 0.263153\tvl's binary_logloss: 0.27624\n",
      "[300]\ttr's binary_logloss: 0.258724\tvl's binary_logloss: 0.276127\n",
      "[400]\ttr's binary_logloss: 0.254829\tvl's binary_logloss: 0.275985\n",
      "[500]\ttr's binary_logloss: 0.251649\tvl's binary_logloss: 0.276109\n",
      "Early stopping, best iteration is:\n",
      "[401]\ttr's binary_logloss: 0.254782\tvl's binary_logloss: 0.275978\n"
     ]
    },
    {
     "name": "stderr",
     "output_type": "stream",
     "text": [
      "tune_lambda_l1_and_lambda_l2, val_score: 0.275289:  50%|#####     | 10/20 [24:02<23:50, 143.07s/it]"
     ]
    },
    {
     "name": "stdout",
     "output_type": "stream",
     "text": [
      "Training until validation scores don't improve for 100 rounds\n",
      "[100]\ttr's binary_logloss: 0.268301\tvl's binary_logloss: 0.276608\n",
      "[200]\ttr's binary_logloss: 0.263271\tvl's binary_logloss: 0.276176\n",
      "[300]\ttr's binary_logloss: 0.259098\tvl's binary_logloss: 0.276082\n",
      "[400]\ttr's binary_logloss: 0.255008\tvl's binary_logloss: 0.275965\n",
      "Early stopping, best iteration is:\n",
      "[396]\ttr's binary_logloss: 0.25515\tvl's binary_logloss: 0.275958\n"
     ]
    },
    {
     "name": "stderr",
     "output_type": "stream",
     "text": [
      "tune_lambda_l1_and_lambda_l2, val_score: 0.275289:  55%|#####5    | 11/20 [26:09<20:44, 138.32s/it]"
     ]
    },
    {
     "name": "stdout",
     "output_type": "stream",
     "text": [
      "Training until validation scores don't improve for 100 rounds\n",
      "[100]\ttr's binary_logloss: 0.269004\tvl's binary_logloss: 0.276546\n",
      "[200]\ttr's binary_logloss: 0.264454\tvl's binary_logloss: 0.275887\n",
      "[300]\ttr's binary_logloss: 0.261156\tvl's binary_logloss: 0.275603\n",
      "[400]\ttr's binary_logloss: 0.258226\tvl's binary_logloss: 0.275485\n",
      "[500]\ttr's binary_logloss: 0.255329\tvl's binary_logloss: 0.275409\n",
      "[600]\ttr's binary_logloss: 0.252682\tvl's binary_logloss: 0.27546\n",
      "Early stopping, best iteration is:\n",
      "[502]\ttr's binary_logloss: 0.255284\tvl's binary_logloss: 0.275408\n"
     ]
    },
    {
     "name": "stderr",
     "output_type": "stream",
     "text": [
      "tune_lambda_l1_and_lambda_l2, val_score: 0.275289:  60%|######    | 12/20 [29:25<20:44, 155.60s/it]"
     ]
    },
    {
     "name": "stdout",
     "output_type": "stream",
     "text": [
      "Training until validation scores don't improve for 100 rounds\n",
      "[100]\ttr's binary_logloss: 0.269115\tvl's binary_logloss: 0.276571\n",
      "[200]\ttr's binary_logloss: 0.264701\tvl's binary_logloss: 0.27582\n",
      "[300]\ttr's binary_logloss: 0.261653\tvl's binary_logloss: 0.275557\n",
      "[400]\ttr's binary_logloss: 0.258487\tvl's binary_logloss: 0.275419\n",
      "Early stopping, best iteration is:\n",
      "[394]\ttr's binary_logloss: 0.258648\tvl's binary_logloss: 0.275414\n"
     ]
    },
    {
     "name": "stderr",
     "output_type": "stream",
     "text": [
      "tune_lambda_l1_and_lambda_l2, val_score: 0.275289:  65%|######5   | 13/20 [32:28<19:06, 163.79s/it]"
     ]
    },
    {
     "name": "stdout",
     "output_type": "stream",
     "text": [
      "Training until validation scores don't improve for 100 rounds\n",
      "[100]\ttr's binary_logloss: 0.268348\tvl's binary_logloss: 0.276631\n",
      "[200]\ttr's binary_logloss: 0.263198\tvl's binary_logloss: 0.276151\n",
      "[300]\ttr's binary_logloss: 0.258857\tvl's binary_logloss: 0.275997\n",
      "[400]\ttr's binary_logloss: 0.255024\tvl's binary_logloss: 0.275971\n",
      "Early stopping, best iteration is:\n",
      "[382]\ttr's binary_logloss: 0.255573\tvl's binary_logloss: 0.275939\n"
     ]
    },
    {
     "name": "stderr",
     "output_type": "stream",
     "text": [
      "tune_lambda_l1_and_lambda_l2, val_score: 0.275289:  70%|#######   | 14/20 [35:03<16:06, 161.05s/it]"
     ]
    },
    {
     "name": "stdout",
     "output_type": "stream",
     "text": [
      "Training until validation scores don't improve for 100 rounds\n",
      "[100]\ttr's binary_logloss: 0.268347\tvl's binary_logloss: 0.276501\n",
      "[200]\ttr's binary_logloss: 0.26342\tvl's binary_logloss: 0.276117\n",
      "[300]\ttr's binary_logloss: 0.259243\tvl's binary_logloss: 0.275816\n",
      "Early stopping, best iteration is:\n",
      "[283]\ttr's binary_logloss: 0.259879\tvl's binary_logloss: 0.2758\n"
     ]
    },
    {
     "name": "stderr",
     "output_type": "stream",
     "text": [
      "tune_lambda_l1_and_lambda_l2, val_score: 0.275289:  75%|#######5  | 15/20 [37:18<12:46, 153.23s/it]"
     ]
    },
    {
     "name": "stdout",
     "output_type": "stream",
     "text": [
      "Training until validation scores don't improve for 100 rounds\n",
      "[100]\ttr's binary_logloss: 0.269135\tvl's binary_logloss: 0.276662\n",
      "[200]\ttr's binary_logloss: 0.264649\tvl's binary_logloss: 0.275813\n",
      "[300]\ttr's binary_logloss: 0.261467\tvl's binary_logloss: 0.275605\n",
      "[400]\ttr's binary_logloss: 0.258575\tvl's binary_logloss: 0.275464\n",
      "[500]\ttr's binary_logloss: 0.255836\tvl's binary_logloss: 0.275468\n",
      "Early stopping, best iteration is:\n",
      "[406]\ttr's binary_logloss: 0.258421\tvl's binary_logloss: 0.275451\n"
     ]
    },
    {
     "name": "stderr",
     "output_type": "stream",
     "text": [
      "tune_lambda_l1_and_lambda_l2, val_score: 0.275289:  80%|########  | 16/20 [40:57<11:32, 173.23s/it]"
     ]
    },
    {
     "name": "stdout",
     "output_type": "stream",
     "text": [
      "Training until validation scores don't improve for 100 rounds\n",
      "[100]\ttr's binary_logloss: 0.268247\tvl's binary_logloss: 0.276519\n",
      "[200]\ttr's binary_logloss: 0.263399\tvl's binary_logloss: 0.276132\n",
      "[300]\ttr's binary_logloss: 0.259008\tvl's binary_logloss: 0.275959\n",
      "[400]\ttr's binary_logloss: 0.255772\tvl's binary_logloss: 0.275943\n",
      "Early stopping, best iteration is:\n",
      "[361]\ttr's binary_logloss: 0.256761\tvl's binary_logloss: 0.275909\n"
     ]
    },
    {
     "name": "stderr",
     "output_type": "stream",
     "text": [
      "tune_lambda_l1_and_lambda_l2, val_score: 0.275289:  85%|########5 | 17/20 [43:08<08:01, 160.39s/it]"
     ]
    },
    {
     "name": "stdout",
     "output_type": "stream",
     "text": [
      "Training until validation scores don't improve for 100 rounds\n",
      "[100]\ttr's binary_logloss: 0.268383\tvl's binary_logloss: 0.276614\n",
      "[200]\ttr's binary_logloss: 0.263241\tvl's binary_logloss: 0.276174\n",
      "[300]\ttr's binary_logloss: 0.259054\tvl's binary_logloss: 0.275918\n",
      "[400]\ttr's binary_logloss: 0.254975\tvl's binary_logloss: 0.275961\n",
      "Early stopping, best iteration is:\n",
      "[326]\ttr's binary_logloss: 0.258055\tvl's binary_logloss: 0.275894\n"
     ]
    },
    {
     "name": "stderr",
     "output_type": "stream",
     "text": [
      "tune_lambda_l1_and_lambda_l2, val_score: 0.275289:  90%|######### | 18/20 [45:04<04:54, 147.24s/it]"
     ]
    },
    {
     "name": "stdout",
     "output_type": "stream",
     "text": [
      "Training until validation scores don't improve for 100 rounds\n",
      "[100]\ttr's binary_logloss: 0.268278\tvl's binary_logloss: 0.276616\n",
      "[200]\ttr's binary_logloss: 0.263191\tvl's binary_logloss: 0.276183\n",
      "[300]\ttr's binary_logloss: 0.258712\tvl's binary_logloss: 0.27595\n",
      "[400]\ttr's binary_logloss: 0.254628\tvl's binary_logloss: 0.275917\n",
      "Early stopping, best iteration is:\n",
      "[366]\ttr's binary_logloss: 0.256016\tvl's binary_logloss: 0.275893\n"
     ]
    },
    {
     "name": "stderr",
     "output_type": "stream",
     "text": [
      "tune_lambda_l1_and_lambda_l2, val_score: 0.275289:  95%|#########5| 19/20 [47:08<02:20, 140.01s/it]"
     ]
    },
    {
     "name": "stdout",
     "output_type": "stream",
     "text": [
      "Training until validation scores don't improve for 100 rounds\n",
      "[100]\ttr's binary_logloss: 0.268481\tvl's binary_logloss: 0.276552\n",
      "[200]\ttr's binary_logloss: 0.263507\tvl's binary_logloss: 0.276034\n",
      "[300]\ttr's binary_logloss: 0.259331\tvl's binary_logloss: 0.275774\n",
      "[400]\ttr's binary_logloss: 0.255784\tvl's binary_logloss: 0.275701\n",
      "[500]\ttr's binary_logloss: 0.252199\tvl's binary_logloss: 0.275685\n",
      "Early stopping, best iteration is:\n",
      "[441]\ttr's binary_logloss: 0.254191\tvl's binary_logloss: 0.275639\n"
     ]
    },
    {
     "name": "stderr",
     "output_type": "stream",
     "text": [
      "tune_lambda_l1_and_lambda_l2, val_score: 0.275289: 100%|##########| 20/20 [49:28<00:00, 148.44s/it]\n",
      "tune_min_child_samples, val_score: 0.275289:   0%|          | 0/5 [00:00<?, ?it/s]"
     ]
    },
    {
     "name": "stdout",
     "output_type": "stream",
     "text": [
      "Training until validation scores don't improve for 100 rounds\n",
      "[100]\ttr's binary_logloss: 0.268765\tvl's binary_logloss: 0.276486\n",
      "[200]\ttr's binary_logloss: 0.264244\tvl's binary_logloss: 0.275785\n",
      "[300]\ttr's binary_logloss: 0.26087\tvl's binary_logloss: 0.275547\n",
      "[400]\ttr's binary_logloss: 0.257506\tvl's binary_logloss: 0.275366\n",
      "[500]\ttr's binary_logloss: 0.254704\tvl's binary_logloss: 0.275362\n",
      "Early stopping, best iteration is:\n",
      "[433]\ttr's binary_logloss: 0.256594\tvl's binary_logloss: 0.275339\n"
     ]
    },
    {
     "name": "stderr",
     "output_type": "stream",
     "text": [
      "tune_min_child_samples, val_score: 0.275289:  20%|##        | 1/5 [02:49<11:18, 169.65s/it]"
     ]
    },
    {
     "name": "stdout",
     "output_type": "stream",
     "text": [
      "Training until validation scores don't improve for 100 rounds\n",
      "[100]\ttr's binary_logloss: 0.26886\tvl's binary_logloss: 0.276561\n",
      "[200]\ttr's binary_logloss: 0.264463\tvl's binary_logloss: 0.275973\n",
      "[300]\ttr's binary_logloss: 0.260844\tvl's binary_logloss: 0.275562\n",
      "[400]\ttr's binary_logloss: 0.257726\tvl's binary_logloss: 0.275435\n",
      "[500]\ttr's binary_logloss: 0.254864\tvl's binary_logloss: 0.2754\n",
      "[600]\ttr's binary_logloss: 0.252194\tvl's binary_logloss: 0.275387\n",
      "Early stopping, best iteration is:\n",
      "[587]\ttr's binary_logloss: 0.252485\tvl's binary_logloss: 0.275378\n"
     ]
    },
    {
     "name": "stderr",
     "output_type": "stream",
     "text": [
      "tune_min_child_samples, val_score: 0.275289:  40%|####      | 2/5 [06:50<09:32, 190.93s/it]"
     ]
    },
    {
     "name": "stdout",
     "output_type": "stream",
     "text": [
      "Training until validation scores don't improve for 100 rounds\n",
      "[100]\ttr's binary_logloss: 0.268789\tvl's binary_logloss: 0.276528\n",
      "[200]\ttr's binary_logloss: 0.264029\tvl's binary_logloss: 0.275722\n",
      "[300]\ttr's binary_logloss: 0.26043\tvl's binary_logloss: 0.275429\n",
      "[400]\ttr's binary_logloss: 0.257508\tvl's binary_logloss: 0.275371\n",
      "[500]\ttr's binary_logloss: 0.254543\tvl's binary_logloss: 0.275335\n",
      "Early stopping, best iteration is:\n",
      "[419]\ttr's binary_logloss: 0.256937\tvl's binary_logloss: 0.275305\n"
     ]
    },
    {
     "name": "stderr",
     "output_type": "stream",
     "text": [
      "tune_min_child_samples, val_score: 0.275289:  60%|######    | 3/5 [10:11<06:27, 193.99s/it]"
     ]
    },
    {
     "name": "stdout",
     "output_type": "stream",
     "text": [
      "Training until validation scores don't improve for 100 rounds\n",
      "[100]\ttr's binary_logloss: 0.26878\tvl's binary_logloss: 0.276557\n",
      "[200]\ttr's binary_logloss: 0.264224\tvl's binary_logloss: 0.275871\n",
      "[300]\ttr's binary_logloss: 0.260413\tvl's binary_logloss: 0.275556\n",
      "[400]\ttr's binary_logloss: 0.257135\tvl's binary_logloss: 0.275474\n",
      "Early stopping, best iteration is:\n",
      "[362]\ttr's binary_logloss: 0.258245\tvl's binary_logloss: 0.27546\n"
     ]
    },
    {
     "name": "stderr",
     "output_type": "stream",
     "text": [
      "tune_min_child_samples, val_score: 0.275289:  80%|########  | 4/5 [13:08<03:08, 188.78s/it]"
     ]
    },
    {
     "name": "stdout",
     "output_type": "stream",
     "text": [
      "Training until validation scores don't improve for 100 rounds\n",
      "[100]\ttr's binary_logloss: 0.268846\tvl's binary_logloss: 0.276599\n",
      "[200]\ttr's binary_logloss: 0.264036\tvl's binary_logloss: 0.275818\n",
      "[300]\ttr's binary_logloss: 0.260357\tvl's binary_logloss: 0.275653\n",
      "[400]\ttr's binary_logloss: 0.257204\tvl's binary_logloss: 0.275602\n",
      "Early stopping, best iteration is:\n",
      "[359]\ttr's binary_logloss: 0.258406\tvl's binary_logloss: 0.275586\n"
     ]
    },
    {
     "name": "stderr",
     "output_type": "stream",
     "text": [
      "tune_min_child_samples, val_score: 0.275289: 100%|##########| 5/5 [15:39<00:00, 187.85s/it]\n"
     ]
    },
    {
     "name": "stdout",
     "output_type": "stream",
     "text": [
      "CPU times: user 1d 5h 42min 52s, sys: 1d 2h 27min 29s, total: 2d 8h 10min 21s\n",
      "Wall time: 3h 41min 39s\n"
     ]
    }
   ],
   "source": [
    "%%time\n",
    "dtr = lgb.Dataset(dftr[cols_feat], label=dftr[TCOL])\n",
    "dvl = lgb.Dataset(dfvl[cols_feat], label=dfvl[TCOL])\n",
    "best_params, tuning_history = {}, []\n",
    "evalres = {}\n",
    "evallist = [(dtr, 'train'), (dvl, 'eval')]\n",
    "bst = lgb.train(params=params, \n",
    "                train_set=dtr, \n",
    "                num_boost_round=50000,\n",
    "                valid_sets=[dtr, dvl],\n",
    "                valid_names=['tr','vl'],\n",
    "                best_params=best_params,\n",
    "                tuning_history=tuning_history,\n",
    "                verbose_eval=100,\n",
    "                early_stopping_rounds=100,\n",
    "                evals_result=evalres,\n",
    "               )\n",
    "results['bst'] = bst\n",
    "results['evalres'] = evalres\n",
    "results['best_params']=best_params\n",
    "results['tuning_history']=tuning_history"
   ]
  },
  {
   "cell_type": "code",
   "execution_count": 21,
   "metadata": {},
   "outputs": [
    {
     "data": {
      "text/plain": [
       "{'lambda_l1': 4.765366073122741,\n",
       " 'lambda_l2': 0.00016318312864606227,\n",
       " 'num_leaves': 252,\n",
       " 'feature_fraction': 0.45199999999999996,\n",
       " 'bagging_fraction': 1.0,\n",
       " 'bagging_freq': 0,\n",
       " 'min_child_samples': 20}"
      ]
     },
     "execution_count": 21,
     "metadata": {},
     "output_type": "execute_result"
    }
   ],
   "source": [
    "best_params"
   ]
  },
  {
   "cell_type": "markdown",
   "metadata": {},
   "source": [
    "## tr vl trajec"
   ]
  },
  {
   "cell_type": "code",
   "execution_count": 22,
   "metadata": {
    "scrolled": true
   },
   "outputs": [
    {
     "data": {
      "image/png": "[encoded data removed]",
      "text/plain": [
       "<Figure size 432x288 with 1 Axes>"
      ]
     },
     "metadata": {
      "needs_background": "light"
     },
     "output_type": "display_data"
    }
   ],
   "source": [
    "plt.plot(evalres['tr']['binary_logloss'])\n",
    "plt.plot(evalres['vl']['binary_logloss'])\n",
    "plt.title(f\"logloss; best_iteration {bst.best_iteration}\")\n",
    "plt.show()"
   ]
  },
  {
   "cell_type": "markdown",
   "metadata": {},
   "source": [
    "## model features"
   ]
  },
  {
   "cell_type": "code",
   "execution_count": 23,
   "metadata": {},
   "outputs": [
    {
     "data": {
      "image/png": "[encoded data removed]",
      "text/plain": [
       "<Figure size 720x1080 with 1 Axes>"
      ]
     },
     "metadata": {
      "needs_background": "light"
     },
     "output_type": "display_data"
    }
   ],
   "source": [
    "ax = lgb.plot_importance(bst, height=0.8, max_num_features=50, figsize=(10,15))\n",
    "ax.grid(False, axis=\"y\")\n",
    "ax.set_title(f'Estimated feature importance')\n",
    "plt.show()"
   ]
  },
  {
   "cell_type": "code",
   "execution_count": 24,
   "metadata": {
    "scrolled": false
   },
   "outputs": [
    {
     "data": {
      "text/html": [
       "<div>\n",
       "<style scoped>\n",
       "    .dataframe tbody tr th:only-of-type {\n",
       "        vertical-align: middle;\n",
       "    }\n",
       "\n",
       "    .dataframe tbody tr th {\n",
       "        vertical-align: top;\n",
       "    }\n",
       "\n",
       "    .dataframe thead th {\n",
       "        text-align: right;\n",
       "    }\n",
       "</style>\n",
       "<table border=\"1\" class=\"dataframe\">\n",
       "  <thead>\n",
       "    <tr style=\"text-align: right;\">\n",
       "      <th></th>\n",
       "      <th>0</th>\n",
       "      <th>1</th>\n",
       "    </tr>\n",
       "  </thead>\n",
       "  <tbody>\n",
       "    <tr>\n",
       "      <th>26</th>\n",
       "      <td>langhour</td>\n",
       "      <td>16353</td>\n",
       "    </tr>\n",
       "    <tr>\n",
       "      <th>5</th>\n",
       "      <td>u2_fllwer_cnt</td>\n",
       "      <td>8439</td>\n",
       "    </tr>\n",
       "    <tr>\n",
       "      <th>6</th>\n",
       "      <td>u2_fllwng_cnt</td>\n",
       "      <td>8225</td>\n",
       "    </tr>\n",
       "    <tr>\n",
       "      <th>3</th>\n",
       "      <td>u1_fllwing_cnt</td>\n",
       "      <td>8086</td>\n",
       "    </tr>\n",
       "    <tr>\n",
       "      <th>24</th>\n",
       "      <td>u1_fllwer_cnt_by_age</td>\n",
       "      <td>7992</td>\n",
       "    </tr>\n",
       "    <tr>\n",
       "      <th>2</th>\n",
       "      <td>u1_fllwer_cnt</td>\n",
       "      <td>7880</td>\n",
       "    </tr>\n",
       "    <tr>\n",
       "      <th>9</th>\n",
       "      <td>len_toks</td>\n",
       "      <td>7783</td>\n",
       "    </tr>\n",
       "    <tr>\n",
       "      <th>21</th>\n",
       "      <td>twt_age</td>\n",
       "      <td>7459</td>\n",
       "    </tr>\n",
       "    <tr>\n",
       "      <th>19</th>\n",
       "      <td>tmdlta_twtu1</td>\n",
       "      <td>7451</td>\n",
       "    </tr>\n",
       "    <tr>\n",
       "      <th>25</th>\n",
       "      <td>u1_fllwng_cnt_by_age</td>\n",
       "      <td>6429</td>\n",
       "    </tr>\n",
       "    <tr>\n",
       "      <th>22</th>\n",
       "      <td>u1_age</td>\n",
       "      <td>6408</td>\n",
       "    </tr>\n",
       "    <tr>\n",
       "      <th>20</th>\n",
       "      <td>tmdlta_twtu2</td>\n",
       "      <td>6273</td>\n",
       "    </tr>\n",
       "    <tr>\n",
       "      <th>18</th>\n",
       "      <td>tmdlta_u2u1</td>\n",
       "      <td>6204</td>\n",
       "    </tr>\n",
       "    <tr>\n",
       "      <th>23</th>\n",
       "      <td>u2_age</td>\n",
       "      <td>5461</td>\n",
       "    </tr>\n",
       "    <tr>\n",
       "      <th>1</th>\n",
       "      <td>lang</td>\n",
       "      <td>4538</td>\n",
       "    </tr>\n",
       "    <tr>\n",
       "      <th>17</th>\n",
       "      <td>hour</td>\n",
       "      <td>2743</td>\n",
       "    </tr>\n",
       "    <tr>\n",
       "      <th>16</th>\n",
       "      <td>dayofweek</td>\n",
       "      <td>1670</td>\n",
       "    </tr>\n",
       "    <tr>\n",
       "      <th>27</th>\n",
       "      <td>tgtenc_lang</td>\n",
       "      <td>1597</td>\n",
       "    </tr>\n",
       "    <tr>\n",
       "      <th>0</th>\n",
       "      <td>twttyp</td>\n",
       "      <td>1438</td>\n",
       "    </tr>\n",
       "    <tr>\n",
       "      <th>13</th>\n",
       "      <td>n_hshtgs</td>\n",
       "      <td>1303</td>\n",
       "    </tr>\n",
       "    <tr>\n",
       "      <th>10</th>\n",
       "      <td>n_media_Photo</td>\n",
       "      <td>1106</td>\n",
       "    </tr>\n",
       "    <tr>\n",
       "      <th>14</th>\n",
       "      <td>n_media</td>\n",
       "      <td>822</td>\n",
       "    </tr>\n",
       "    <tr>\n",
       "      <th>15</th>\n",
       "      <td>n_domns</td>\n",
       "      <td>400</td>\n",
       "    </tr>\n",
       "    <tr>\n",
       "      <th>11</th>\n",
       "      <td>n_media_Video</td>\n",
       "      <td>294</td>\n",
       "    </tr>\n",
       "    <tr>\n",
       "      <th>8</th>\n",
       "      <td>u1_fllw_u2</td>\n",
       "      <td>277</td>\n",
       "    </tr>\n",
       "    <tr>\n",
       "      <th>4</th>\n",
       "      <td>u1_vrfed</td>\n",
       "      <td>245</td>\n",
       "    </tr>\n",
       "    <tr>\n",
       "      <th>12</th>\n",
       "      <td>n_media_GIF</td>\n",
       "      <td>94</td>\n",
       "    </tr>\n",
       "    <tr>\n",
       "      <th>7</th>\n",
       "      <td>u2_vrfed</td>\n",
       "      <td>36</td>\n",
       "    </tr>\n",
       "  </tbody>\n",
       "</table>\n",
       "</div>"
      ],
      "text/plain": [
       "                       0      1\n",
       "26              langhour  16353\n",
       "5          u2_fllwer_cnt   8439\n",
       "6          u2_fllwng_cnt   8225\n",
       "3         u1_fllwing_cnt   8086\n",
       "24  u1_fllwer_cnt_by_age   7992\n",
       "2          u1_fllwer_cnt   7880\n",
       "9               len_toks   7783\n",
       "21               twt_age   7459\n",
       "19          tmdlta_twtu1   7451\n",
       "25  u1_fllwng_cnt_by_age   6429\n",
       "22                u1_age   6408\n",
       "20          tmdlta_twtu2   6273\n",
       "18           tmdlta_u2u1   6204\n",
       "23                u2_age   5461\n",
       "1                   lang   4538\n",
       "17                  hour   2743\n",
       "16             dayofweek   1670\n",
       "27           tgtenc_lang   1597\n",
       "0                 twttyp   1438\n",
       "13              n_hshtgs   1303\n",
       "10         n_media_Photo   1106\n",
       "14               n_media    822\n",
       "15               n_domns    400\n",
       "11         n_media_Video    294\n",
       "8             u1_fllw_u2    277\n",
       "4               u1_vrfed    245\n",
       "12           n_media_GIF     94\n",
       "7               u2_vrfed     36"
      ]
     },
     "execution_count": 24,
     "metadata": {},
     "output_type": "execute_result"
    }
   ],
   "source": [
    "pd.DataFrame([bst.feature_name(), bst.feature_importance()]).T.sort_values(1, ascending=False)"
   ]
  },
  {
   "cell_type": "markdown",
   "metadata": {},
   "source": [
    "# eval"
   ]
  },
  {
   "cell_type": "code",
   "execution_count": 25,
   "metadata": {},
   "outputs": [
    {
     "name": "stdout",
     "output_type": "stream",
     "text": [
      "CPU times: user 12min 51s, sys: 12.6 s, total: 13min 4s\n",
      "Wall time: 1min 4s\n"
     ]
    }
   ],
   "source": [
    "%%time\n",
    "prdtr = bst.predict(dftr[cols_feat],num_iteration=bst.best_iteration)\n",
    "prdvl = bst.predict(dfvl[cols_feat],num_iteration=bst.best_iteration)\n",
    "prdval0 = bst.predict(dfval[cols_feat],num_iteration=bst.best_iteration)\n",
    "prdval = calibration(prdval0, train_pop, target_pop, sampled_train_pop, sampled_target_pop)"
   ]
  },
  {
   "cell_type": "code",
   "execution_count": 26,
   "metadata": {},
   "outputs": [
    {
     "name": "stdout",
     "output_type": "stream",
     "text": [
      "CPU times: user 19 s, sys: 306 ms, total: 19.3 s\n",
      "Wall time: 19.1 s\n"
     ]
    }
   ],
   "source": [
    "%%time\n",
    "ytr,yvl,yval=[df[TCOL].values for df in (dftr,dfvl,dfval)]\n",
    "\n",
    "auc_tr=compute_prauc(prdtr, ytr)\n",
    "rce_tr=compute_rce(prdtr, ytr)\n",
    "auc_vl=compute_prauc(prdvl, yvl)\n",
    "rce_vl=compute_rce(prdvl, yvl)\n",
    "auc_val=compute_prauc(prdval, yval)\n",
    "rce_val=compute_rce(prdval, yval)\n",
    "\n",
    "results['scrs'] = {}\n",
    "results['scrs']['auc_tr']=auc_tr\n",
    "results['scrs']['rce_tr']=rce_tr\n",
    "results['scrs']['auc_vl']=auc_vl\n",
    "results['scrs']['rce_vl']=rce_vl\n",
    "results['scrs']['auc_val']=auc_val\n",
    "results['scrs']['rce_val']=rce_val"
   ]
  },
  {
   "cell_type": "code",
   "execution_count": 27,
   "metadata": {},
   "outputs": [
    {
     "name": "stdout",
     "output_type": "stream",
     "text": [
      "auc_tr:  0.4116\n",
      "auc_vl:  0.3159\n",
      "auc_val: 0.1147\n",
      "\n",
      "rce_tr:  22.5254\n",
      "rce_vl:  16.1687\n",
      "rce_val: 12.7728\n"
     ]
    }
   ],
   "source": [
    "print(f'auc_tr:  {auc_tr:.4f}')\n",
    "print(f'auc_vl:  {auc_vl:.4f}')\n",
    "print(f'auc_val: {auc_val:.4f}')\n",
    "print()\n",
    "print(f'rce_tr:  {rce_tr:.4f}')\n",
    "print(f'rce_vl:  {rce_vl:.4f}')\n",
    "print(f'rce_val: {rce_val:.4f}')"
   ]
  },
  {
   "cell_type": "code",
   "execution_count": 28,
   "metadata": {},
   "outputs": [
    {
     "name": "stdout",
     "output_type": "stream",
     "text": [
      "-0.1147-12.7728\n"
     ]
    }
   ],
   "source": [
    "print(f'-{auc_val:.4f}-{rce_val:.4f}')"
   ]
  },
  {
   "cell_type": "markdown",
   "metadata": {},
   "source": [
    "# save results"
   ]
  },
  {
   "cell_type": "code",
   "execution_count": 29,
   "metadata": {},
   "outputs": [],
   "source": [
    "pickle.dump(results, open(f'{p_out}/results_{PRFX}.p', 'wb'))"
   ]
  },
  {
   "cell_type": "markdown",
   "metadata": {},
   "source": [
    "# infer"
   ]
  },
  {
   "cell_type": "code",
   "execution_count": 30,
   "metadata": {},
   "outputs": [],
   "source": [
    "results = pickle.load( open(f'{p_out}/results_{PRFX}.p', 'rb'))\n",
    "bst = results['bst']\n",
    "col2tgtenc = results['col2tgtenc']\n",
    "cols_feat = results['cols_feat']\n",
    "tgt_encoder = results['tgt_encoder']"
   ]
  },
  {
   "cell_type": "markdown",
   "metadata": {},
   "source": [
    "## prep"
   ]
  },
  {
   "cell_type": "code",
   "execution_count": 31,
   "metadata": {},
   "outputs": [
    {
     "name": "stdout",
     "output_type": "stream",
     "text": [
      "CPU times: user 3.97 ms, sys: 3.53 ms, total: 7.5 ms\n",
      "Wall time: 6.15 ms\n"
     ]
    }
   ],
   "source": [
    "%%time\n",
    "dftst=pd.read_csv(\n",
    "    f'{p_in}/val_{tsttmstmp}.tsv',\n",
    "    sep='\\x01', header=None, names=cols_val, \n",
    "    nrows=10\n",
    ")"
   ]
  },
  {
   "cell_type": "code",
   "execution_count": 32,
   "metadata": {
    "scrolled": true
   },
   "outputs": [
    {
     "name": "stdout",
     "output_type": "stream",
     "text": [
      "2020-04-06 19:53:54 start\n",
      "2020-04-06 19:53:54 freq of columns using CountEncoder\n"
     ]
    },
    {
     "name": "stderr",
     "output_type": "stream",
     "text": [
      "/data/anaconda3/envs/rcss20/lib/python3.7/site-packages/category_encoders/count.py:255: FutureWarning: The pandas.np module is deprecated and will be removed from pandas in a future version. Import numpy directly instead\n",
      "  X.loc[:, self.cols] = X.fillna(value=pd.np.nan)\n"
     ]
    },
    {
     "name": "stdout",
     "output_type": "stream",
     "text": [
      "2020-04-06 19:53:54 freq of tags\n",
      "2020-04-06 19:53:54 done\n",
      "CPU times: user 69.1 ms, sys: 68.2 ms, total: 137 ms\n",
      "Wall time: 131 ms\n"
     ]
    }
   ],
   "source": [
    "%%time\n",
    "dftst=prp_df(dftst, tm_max=tm_tst_max)"
   ]
  },
  {
   "cell_type": "code",
   "execution_count": 33,
   "metadata": {},
   "outputs": [],
   "source": [
    "encoded_tst = tgt_encoder.transform(dftst[col2tgtenc].astype(object))\n",
    "tgtenc_columns = [f'tgtenc_{col}' for col in encoded_tst.columns]\n",
    "encoded_tst.columns = tgtenc_columns\n",
    "dftst = pd.concat([dftst, encoded_tst], 1)\n",
    "dftst.drop(columns=['u1id','u1u2'], inplace=True)\n",
    "cols_category=['twttyp', 'lang', 'langhour']\n",
    "dftst[cols_category]=dftst[cols_category].astype('category')"
   ]
  },
  {
   "cell_type": "markdown",
   "metadata": {},
   "source": [
    "## predict"
   ]
  },
  {
   "cell_type": "code",
   "execution_count": 34,
   "metadata": {},
   "outputs": [
    {
     "name": "stdout",
     "output_type": "stream",
     "text": [
      "CPU times: user 0 ns, sys: 169 ms, total: 169 ms\n",
      "Wall time: 29.6 ms\n"
     ]
    }
   ],
   "source": [
    "%%time\n",
    "prdtst0 = bst.predict(dftst[cols_feat],num_iteration=bst.best_iteration)\n",
    "prdtst = calibration(prdtst0, train_pop, target_pop, sampled_train_pop, sampled_target_pop)"
   ]
  },
  {
   "cell_type": "code",
   "execution_count": 35,
   "metadata": {},
   "outputs": [],
   "source": [
    "dfsub_ids = dftst[['twtid','u2id',]]\n",
    "dfsub = dfsub_ids.copy()\n",
    "dfsub['scr'] = prdtst\n",
    "dfsub.to_csv(f'{p_out}/{TGT}__{PRFX}.csv',index=False,header=False)"
   ]
  },
  {
   "cell_type": "code",
   "execution_count": null,
   "metadata": {},
   "outputs": [],
   "source": []
  },
  {
   "cell_type": "code",
   "execution_count": null,
   "metadata": {},
   "outputs": [],
   "source": []
  },
  {
   "cell_type": "code",
   "execution_count": null,
   "metadata": {},
   "outputs": [],
   "source": []
  }
 ],
 "metadata": {
  "kernelspec": {
   "display_name": "rcss20",
   "language": "python",
   "name": "rcss20"
  },
  "language_info": {
   "codemirror_mode": {
    "name": "ipython",
    "version": 3
   },
   "file_extension": ".py",
   "mimetype": "text/x-python",
   "name": "python",
   "nbconvert_exporter": "python",
   "pygments_lexer": "ipython3",
   "version": "3.7.6"
  },
  "toc": {
   "base_numbering": 1,
   "nav_menu": {},
   "number_sections": true,
   "sideBar": true,
   "skip_h1_title": false,
   "title_cell": "Table of Contents",
   "title_sidebar": "Contents",
   "toc_cell": false,
   "toc_position": {},
   "toc_section_display": true,
   "toc_window_display": true
  }
 },
 "nbformat": 4,
 "nbformat_minor": 4
}
