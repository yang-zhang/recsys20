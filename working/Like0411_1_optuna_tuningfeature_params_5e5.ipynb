{
 "cells": [
  {
   "cell_type": "markdown",
   "metadata": {},
   "source": [
    "# start"
   ]
  },
  {
   "cell_type": "markdown",
   "metadata": {},
   "source": [
    "- http://localhost:8081/notebooks/git/recsys20/working/0324_6_3_lgb_feat_engr-1e7.ipynb\n",
    "- http://localhost:8081/notebooks/git/recsys20/working/mdl0404_1__xgb_mean_encode.ipynb\n",
    "- http://localhost:8081/notebooks/git/recsys20/working/eda_0404_1.ipynb#v.s.-target\n",
    "- https://www.kaggle.com/discdiver/category-encoders-examples\n",
    "- https://www.kaggle.com/snakayama/lightgbm-using-optuna-optuna-lightgbm"
   ]
  },
  {
   "cell_type": "code",
   "execution_count": 1,
   "metadata": {},
   "outputs": [
    {
     "name": "stdout",
     "output_type": "stream",
     "text": [
      "train_total 148,075,238, test_total 14,000,000\n",
      "['2020-03-17 02:32:24', '2020-04-06 00:35:47']\n",
      "['2020-02-06 00:00:00', '2020-02-12 23:59:59']\n",
      "['2020-02-13 00:00:00', '2020-02-19 23:59:59']\n"
     ]
    }
   ],
   "source": [
    "TGT='Like'\n",
    "PRFX='Like0411_1'\n",
    "\n",
    "trntmstmp=1584412344\n",
    "tsttmstmp=1586133347\n",
    "\n",
    "tm_trn_min,tm_trn_max=(1580947200, 1581551999)\n",
    "tm_tst_min,tm_tst_max=(1581552000, 1582156799)\n",
    "\n",
    "SEED=101\n",
    "\n",
    "valsz = int(5e5)#int(1e5)\n",
    "trnsz = int(5e5)#int(5e5)\n",
    "\n",
    "train_total=148075238\n",
    "test_total=int(1.4e7)\n",
    "print(f'train_total {train_total:,}, test_total {test_total:,}')\n",
    "\n",
    "\n",
    "import datetime\n",
    "def showtm(tm): return datetime.datetime.fromtimestamp(tm).strftime('%Y-%m-%d %H:%M:%S')\n",
    "print([showtm(tm) for tm in (trntmstmp, tsttmstmp)])\n",
    "print([showtm(tm) for tm in (tm_trn_min,tm_trn_max)])\n",
    "print([showtm(tm) for tm in (tm_tst_min,tm_tst_max)])"
   ]
  },
  {
   "cell_type": "markdown",
   "metadata": {},
   "source": [
    "# setup"
   ]
  },
  {
   "cell_type": "code",
   "execution_count": 2,
   "metadata": {},
   "outputs": [
    {
     "name": "stdout",
     "output_type": "stream",
     "text": [
      "TCOL like\n",
      "{'Retweet': 'retwt', 'Reply': 'reply', 'Like': 'like', 'RTwCmnt': 'retwt_cmmnt'}\n"
     ]
    }
   ],
   "source": [
    "from tqdm import tqdm\n",
    "import time\n",
    "from pathlib import Path\n",
    "from collections import Counter,defaultdict\n",
    "from sklearn.model_selection import train_test_split\n",
    "import pandas as pd\n",
    "import numpy as np\n",
    "import matplotlib.pyplot as plt\n",
    "from sklearn.metrics import accuracy_score, roc_auc_score, roc_curve, auc, precision_recall_curve\n",
    "import pickle\n",
    "# import xgboost as xgb\n",
    "# import lightgbm as lgb\n",
    "import category_encoders as ce\n",
    "import gc\n",
    "\n",
    "import optuna\n",
    "# optuna.logging.CRITICAL, optuna.logging.FATAL\n",
    "# optuna.logging.ERROR\n",
    "# optuna.logging.WARNING, optuna.logging.WARN\n",
    "# optuna.logging.INFO\n",
    "# optuna.logging.DEBUG\n",
    "# optuna.logging.set_verbosity(optuna.logging.ERROR)\n",
    "import optuna.integration.lightgbm as lgb\n",
    "optuna.logging.disable_default_handler()\n",
    "\n",
    "\n",
    "pd.set_option('display.max_rows', 500)\n",
    "pd.set_option('display.max_columns', 500)\n",
    "\n",
    "\n",
    "import datetime\n",
    "def dtnow(): return datetime.datetime.now().strftime('%Y-%m-%d %H:%M:%S')\n",
    "\n",
    "def iou(s1,s2):\n",
    "    return len(s1&s2) / len(s1|s2)\n",
    "\n",
    "HOME='/data/git/recsys20'\n",
    "p_in=f'{HOME}/input'\n",
    "p_out=f'{HOME}/output/{PRFX}'\n",
    "Path(p_out).mkdir(exist_ok=True, parents=True)\n",
    "\n",
    "from sklearn.metrics import precision_recall_curve, auc, log_loss\n",
    "\n",
    "def compute_prauc(pred, gt):\n",
    "    prec, recall, thresh = precision_recall_curve(gt, pred)\n",
    "    prauc = auc(recall, prec)\n",
    "    return prauc\n",
    "\n",
    "def calculate_ctr(gt):\n",
    "    positive = len([x for x in gt if x == 1])\n",
    "    ctr = positive/float(len(gt))\n",
    "    return ctr\n",
    "\n",
    "def compute_rce(pred, gt):\n",
    "    cross_entropy = log_loss(gt, pred)\n",
    "    data_ctr = calculate_ctr(gt)\n",
    "    strawman_cross_entropy = log_loss(gt, [data_ctr for _ in range(len(gt))])\n",
    "    return (1.0 - cross_entropy/strawman_cross_entropy)*100.0\n",
    "\n",
    "# https://towardsdatascience.com/how-to-calibrate-undersampled-model-scores-8f3319c1ea5b\n",
    "# How to use the function?\n",
    "# Let’s say your goal is to generate a model that shows the credit default probabilities and your original \n",
    "# training data has 50,000 rows with only 500 of them labeled as target class. When you sample your non-target \n",
    "# instances randomly and reduce the total row count to 10,000, while conserving 500 target rows, our calibration\n",
    "# function becomes:\n",
    "# calibration(model_results, 50000, 500, 10000, 500)\n",
    "# Here model_results is your model probability output array. After you train your model and put the results in it, your function is ready to use. \n",
    "def calibration(data, train_pop, target_pop, sampled_train_pop, sampled_target_pop):\n",
    "    calibrated_data = ((data * (target_pop / train_pop) / (sampled_target_pop / sampled_train_pop)) /\n",
    "    (((1 - data) * (1 - target_pop / train_pop) / (1 - sampled_target_pop / sampled_train_pop)) +\n",
    "     (data * (target_pop / train_pop) / (sampled_target_pop / sampled_train_pop))))\n",
    "    return calibrated_data\n",
    "\n",
    "\n",
    "cols=['toks','hshtgs','twtid','media','links','domns','twttyp','lang','tm','u1id','u1_fllwer_cnt','u1_fllwing_cnt','u1_vrfed','u1_create_tm','u2id','u2_fllwer_cnt','u2_fllwng_cnt','u2_vrfed','u2_create_tm','u1_fllw_u2','reply_tm','retwt_tm','retwt_cmmnt_tm','like_tm',]\n",
    "\n",
    "cols_val = cols[:-4]\n",
    "cols_tgt_tmstmp=[ 'retwt_tm', 'reply_tm', 'like_tm', 'retwt_cmmnt_tm',]\n",
    "cols_tgt=[o.split('_tm')[0] for o in cols_tgt_tmstmp]\n",
    "tgts             = ['Retweet','Reply','Like','RTwCmnt',]\n",
    "assert cols_tgt == ['retwt',  'reply','like','retwt_cmmnt',]\n",
    "tgt2col = dict(zip(tgts, cols_tgt))\n",
    "TCOL=tgt2col[TGT]\n",
    "print('TCOL', TCOL)\n",
    "print(tgt2col)"
   ]
  },
  {
   "cell_type": "markdown",
   "metadata": {},
   "source": [
    "# prep"
   ]
  },
  {
   "cell_type": "code",
   "execution_count": 3,
   "metadata": {},
   "outputs": [],
   "source": [
    "def prp_tgt(df):\n",
    "    df[cols_tgt]=df[cols_tgt_tmstmp].notna()\n",
    "    df.drop(columns=cols_tgt_tmstmp, inplace=True)\n",
    "    display(df[cols_tgt].mean())"
   ]
  },
  {
   "cell_type": "code",
   "execution_count": 4,
   "metadata": {
    "scrolled": false
   },
   "outputs": [
    {
     "name": "stdout",
     "output_type": "stream",
     "text": [
      "(500000, 24)\n"
     ]
    },
    {
     "data": {
      "text/plain": [
       "retwt          0.112638\n",
       "reply          0.027980\n",
       "like           0.439010\n",
       "retwt_cmmnt    0.007676\n",
       "dtype: float64"
      ]
     },
     "metadata": {},
     "output_type": "display_data"
    },
    {
     "name": "stdout",
     "output_type": "stream",
     "text": [
      "CPU times: user 3.58 s, sys: 440 ms, total: 4.02 s\n",
      "Wall time: 4.02 s\n"
     ]
    }
   ],
   "source": [
    "%%time\n",
    "dfval = pd.read_csv(f'{p_in}/trn_{trntmstmp}.tsv',sep='\\x01',header=None,names=cols,nrows=valsz)\n",
    "print(dfval.shape)\n",
    "prp_tgt(dfval)"
   ]
  },
  {
   "cell_type": "markdown",
   "metadata": {},
   "source": [
    "## maybe oversample"
   ]
  },
  {
   "cell_type": "code",
   "execution_count": 5,
   "metadata": {},
   "outputs": [],
   "source": [
    "# df = pd.read_csv(f'{p_in}/trn_{trntmstmp}.tsv',sep='\\x01',header=None,names=cols,nrows=5)\n",
    "# dfval = pd.read_csv(f'{p_in}/trn_{trntmstmp}.tsv',sep='\\x01',header=None,names=cols,nrows=2)\n",
    "# dftrn = pd.read_csv(f'{p_in}/trn_{trntmstmp}.tsv',sep='\\x01',header=None,names=cols,skiprows=2,nrows=3)\n",
    "# display(df.twtid)\n",
    "# display(dfval.twtid)\n",
    "# display(dftrn.twtid)\n",
    "\n",
    "# 0    D4D1EBDE74F74C5DA529959AF979625C\n",
    "# 1    BFB529DAB6D384EB83E899A72AB3830D\n",
    "# 2    519078C7834E9642508F72A6C2D0F3B7\n",
    "# 3    52AAE9E33EFAC8C478C57B31A9E31ED1\n",
    "# 4    89C1298C55EB3D68E2784F0BFB69E6F8\n",
    "# Name: twtid, dtype: object\n",
    "# 0    D4D1EBDE74F74C5DA529959AF979625C\n",
    "# 1    BFB529DAB6D384EB83E899A72AB3830D\n",
    "# Name: twtid, dtype: object\n",
    "# 0    519078C7834E9642508F72A6C2D0F3B7\n",
    "# 1    52AAE9E33EFAC8C478C57B31A9E31ED1\n",
    "# 2    89C1298C55EB3D68E2784F0BFB69E6F8\n",
    "# Name: twtid, dtype: object"
   ]
  },
  {
   "cell_type": "code",
   "execution_count": 6,
   "metadata": {
    "scrolled": true
   },
   "outputs": [
    {
     "name": "stdout",
     "output_type": "stream",
     "text": [
      "(500000, 24)\n"
     ]
    },
    {
     "data": {
      "text/plain": [
       "retwt          0.113632\n",
       "reply          0.027396\n",
       "like           0.438598\n",
       "retwt_cmmnt    0.007824\n",
       "dtype: float64"
      ]
     },
     "metadata": {},
     "output_type": "display_data"
    },
    {
     "name": "stdout",
     "output_type": "stream",
     "text": [
      "CPU times: user 4.43 s, sys: 336 ms, total: 4.76 s\n",
      "Wall time: 4.76 s\n"
     ]
    }
   ],
   "source": [
    "%%time\n",
    "if TGT in ('Retweet','Like'): trnpop=trnsz\n",
    "if TGT=='Reply': trnpop=trnsz*3.7\n",
    "if TGT=='RTwCmnt': trnpop=trnsz*11.5\n",
    "assert trnpop<train_total\n",
    "\n",
    "dftrn = pd.read_csv(f'{p_in}/trn_{trntmstmp}.tsv',sep='\\x01',header=None,names=cols,\n",
    "                     skiprows=valsz, nrows=trnpop)\n",
    "print(dftrn.shape)\n",
    "prp_tgt(dftrn)"
   ]
  },
  {
   "cell_type": "code",
   "execution_count": 7,
   "metadata": {
    "scrolled": true
   },
   "outputs": [
    {
     "name": "stdout",
     "output_type": "stream",
     "text": [
      "(500000, 24) 0.438598\n",
      "500000 219299 500000 219299\n"
     ]
    },
    {
     "data": {
      "text/html": [
       "<div>\n",
       "<style scoped>\n",
       "    .dataframe tbody tr th:only-of-type {\n",
       "        vertical-align: middle;\n",
       "    }\n",
       "\n",
       "    .dataframe tbody tr th {\n",
       "        vertical-align: top;\n",
       "    }\n",
       "\n",
       "    .dataframe thead th {\n",
       "        text-align: right;\n",
       "    }\n",
       "</style>\n",
       "<table border=\"1\" class=\"dataframe\">\n",
       "  <thead>\n",
       "    <tr style=\"text-align: right;\">\n",
       "      <th></th>\n",
       "      <th>toks</th>\n",
       "      <th>hshtgs</th>\n",
       "      <th>twtid</th>\n",
       "      <th>media</th>\n",
       "      <th>links</th>\n",
       "      <th>domns</th>\n",
       "      <th>twttyp</th>\n",
       "      <th>lang</th>\n",
       "      <th>tm</th>\n",
       "      <th>u1id</th>\n",
       "      <th>u1_fllwer_cnt</th>\n",
       "      <th>u1_fllwing_cnt</th>\n",
       "      <th>u1_vrfed</th>\n",
       "      <th>u1_create_tm</th>\n",
       "      <th>u2id</th>\n",
       "      <th>u2_fllwer_cnt</th>\n",
       "      <th>u2_fllwng_cnt</th>\n",
       "      <th>u2_vrfed</th>\n",
       "      <th>u2_create_tm</th>\n",
       "      <th>u1_fllw_u2</th>\n",
       "      <th>retwt</th>\n",
       "      <th>reply</th>\n",
       "      <th>like</th>\n",
       "      <th>retwt_cmmnt</th>\n",
       "    </tr>\n",
       "  </thead>\n",
       "  <tbody>\n",
       "    <tr>\n",
       "      <th>0</th>\n",
       "      <td>101\\t56898\\t137\\t14248\\t10567\\t77966\\t11166\\t1...</td>\n",
       "      <td>NaN</td>\n",
       "      <td>A964AF200DAFFEBCB632CE2196DFBE6F</td>\n",
       "      <td>NaN</td>\n",
       "      <td>NaN</td>\n",
       "      <td>NaN</td>\n",
       "      <td>Retweet</td>\n",
       "      <td>022EC308651FACB02794A8147AEE1B78</td>\n",
       "      <td>1581227402</td>\n",
       "      <td>E43C242721C2336F88D163ADFDB2A364</td>\n",
       "      <td>27901</td>\n",
       "      <td>306</td>\n",
       "      <td>False</td>\n",
       "      <td>1351736247</td>\n",
       "      <td>06E9B34C49824F5C612B01F3DF66C4B8</td>\n",
       "      <td>48</td>\n",
       "      <td>977</td>\n",
       "      <td>False</td>\n",
       "      <td>1493475569</td>\n",
       "      <td>False</td>\n",
       "      <td>True</td>\n",
       "      <td>False</td>\n",
       "      <td>False</td>\n",
       "      <td>False</td>\n",
       "    </tr>\n",
       "    <tr>\n",
       "      <th>1</th>\n",
       "      <td>101\\t29922\\t10230\\t112\\t11368\\t112\\t12469\\t169...</td>\n",
       "      <td>NaN</td>\n",
       "      <td>CA95806CCD16ADD6164D8B632345A5B6</td>\n",
       "      <td>NaN</td>\n",
       "      <td>NaN</td>\n",
       "      <td>NaN</td>\n",
       "      <td>TopLevel</td>\n",
       "      <td>D3164C7FBCF2565DDF915B1B3AEFB1DC</td>\n",
       "      <td>1581415813</td>\n",
       "      <td>520F4141FB74447AA2D5100C12656DF2</td>\n",
       "      <td>190829</td>\n",
       "      <td>2227</td>\n",
       "      <td>True</td>\n",
       "      <td>1246308293</td>\n",
       "      <td>06E9B485CA5F2757CB554B0244FE2FA4</td>\n",
       "      <td>2024</td>\n",
       "      <td>1227</td>\n",
       "      <td>False</td>\n",
       "      <td>1234745553</td>\n",
       "      <td>False</td>\n",
       "      <td>False</td>\n",
       "      <td>False</td>\n",
       "      <td>True</td>\n",
       "      <td>False</td>\n",
       "    </tr>\n",
       "    <tr>\n",
       "      <th>2</th>\n",
       "      <td>101\\t16358\\t10107\\t117\\t146\\t100\\t181\\t32342\\t...</td>\n",
       "      <td>NaN</td>\n",
       "      <td>EAB281F4E0B985324DB134D922D7753C</td>\n",
       "      <td>NaN</td>\n",
       "      <td>NaN</td>\n",
       "      <td>NaN</td>\n",
       "      <td>Quote</td>\n",
       "      <td>D3164C7FBCF2565DDF915B1B3AEFB1DC</td>\n",
       "      <td>1581524517</td>\n",
       "      <td>EC1254C86CED1D8F2B556786329FD939</td>\n",
       "      <td>225223</td>\n",
       "      <td>1365</td>\n",
       "      <td>True</td>\n",
       "      <td>1238211373</td>\n",
       "      <td>06E9B485CA5F2757CB554B0244FE2FA4</td>\n",
       "      <td>2024</td>\n",
       "      <td>1227</td>\n",
       "      <td>False</td>\n",
       "      <td>1234745553</td>\n",
       "      <td>False</td>\n",
       "      <td>True</td>\n",
       "      <td>False</td>\n",
       "      <td>True</td>\n",
       "      <td>False</td>\n",
       "    </tr>\n",
       "    <tr>\n",
       "      <th>3</th>\n",
       "      <td>101\\t49004\\t24951\\t11517\\t21793\\t49004\\t46900\\...</td>\n",
       "      <td>E35EBE28C67E02E3EAABD4D383303A10\\tBF43374FADDC...</td>\n",
       "      <td>55F436653590B79DC49DCA2FC5E6BA6E</td>\n",
       "      <td>Photo</td>\n",
       "      <td>NaN</td>\n",
       "      <td>NaN</td>\n",
       "      <td>TopLevel</td>\n",
       "      <td>06D61DCBBE938971E1EA0C38BD9B5446</td>\n",
       "      <td>1581098413</td>\n",
       "      <td>09567D1DEB473ABA2CD04D06F1F6D22D</td>\n",
       "      <td>3110429</td>\n",
       "      <td>39</td>\n",
       "      <td>True</td>\n",
       "      <td>1243169868</td>\n",
       "      <td>06E9B6ABEB6C57CA5A394DADF375D940</td>\n",
       "      <td>557</td>\n",
       "      <td>466</td>\n",
       "      <td>False</td>\n",
       "      <td>1509320658</td>\n",
       "      <td>False</td>\n",
       "      <td>False</td>\n",
       "      <td>False</td>\n",
       "      <td>True</td>\n",
       "      <td>False</td>\n",
       "    </tr>\n",
       "    <tr>\n",
       "      <th>4</th>\n",
       "      <td>101\\t320\\t108660\\t18492\\t105861\\t26349\\t10174\\...</td>\n",
       "      <td>NaN</td>\n",
       "      <td>2F374BA8A03CFA7B51594FBBD45E4BA6</td>\n",
       "      <td>Photo</td>\n",
       "      <td>E07397470C5AD4AC2420A832A49E045B</td>\n",
       "      <td>476213C6321CD12B64C1FB76A6CE02CA</td>\n",
       "      <td>TopLevel</td>\n",
       "      <td>4DC22C3F31C5C43721E6B5815A595ED6</td>\n",
       "      <td>1581158393</td>\n",
       "      <td>DF856F242E9519638FD447D0CCFA06DF</td>\n",
       "      <td>4245504</td>\n",
       "      <td>54</td>\n",
       "      <td>True</td>\n",
       "      <td>1248789982</td>\n",
       "      <td>06E9B7217C92B280231E835F1B686176</td>\n",
       "      <td>8</td>\n",
       "      <td>74</td>\n",
       "      <td>False</td>\n",
       "      <td>1346060212</td>\n",
       "      <td>False</td>\n",
       "      <td>False</td>\n",
       "      <td>False</td>\n",
       "      <td>False</td>\n",
       "      <td>False</td>\n",
       "    </tr>\n",
       "  </tbody>\n",
       "</table>\n",
       "</div>"
      ],
      "text/plain": [
       "                                                toks  \\\n",
       "0  101\\t56898\\t137\\t14248\\t10567\\t77966\\t11166\\t1...   \n",
       "1  101\\t29922\\t10230\\t112\\t11368\\t112\\t12469\\t169...   \n",
       "2  101\\t16358\\t10107\\t117\\t146\\t100\\t181\\t32342\\t...   \n",
       "3  101\\t49004\\t24951\\t11517\\t21793\\t49004\\t46900\\...   \n",
       "4  101\\t320\\t108660\\t18492\\t105861\\t26349\\t10174\\...   \n",
       "\n",
       "                                              hshtgs  \\\n",
       "0                                                NaN   \n",
       "1                                                NaN   \n",
       "2                                                NaN   \n",
       "3  E35EBE28C67E02E3EAABD4D383303A10\\tBF43374FADDC...   \n",
       "4                                                NaN   \n",
       "\n",
       "                              twtid  media                             links  \\\n",
       "0  A964AF200DAFFEBCB632CE2196DFBE6F    NaN                               NaN   \n",
       "1  CA95806CCD16ADD6164D8B632345A5B6    NaN                               NaN   \n",
       "2  EAB281F4E0B985324DB134D922D7753C    NaN                               NaN   \n",
       "3  55F436653590B79DC49DCA2FC5E6BA6E  Photo                               NaN   \n",
       "4  2F374BA8A03CFA7B51594FBBD45E4BA6  Photo  E07397470C5AD4AC2420A832A49E045B   \n",
       "\n",
       "                              domns    twttyp  \\\n",
       "0                               NaN   Retweet   \n",
       "1                               NaN  TopLevel   \n",
       "2                               NaN     Quote   \n",
       "3                               NaN  TopLevel   \n",
       "4  476213C6321CD12B64C1FB76A6CE02CA  TopLevel   \n",
       "\n",
       "                               lang          tm  \\\n",
       "0  022EC308651FACB02794A8147AEE1B78  1581227402   \n",
       "1  D3164C7FBCF2565DDF915B1B3AEFB1DC  1581415813   \n",
       "2  D3164C7FBCF2565DDF915B1B3AEFB1DC  1581524517   \n",
       "3  06D61DCBBE938971E1EA0C38BD9B5446  1581098413   \n",
       "4  4DC22C3F31C5C43721E6B5815A595ED6  1581158393   \n",
       "\n",
       "                               u1id  u1_fllwer_cnt  u1_fllwing_cnt  u1_vrfed  \\\n",
       "0  E43C242721C2336F88D163ADFDB2A364          27901             306     False   \n",
       "1  520F4141FB74447AA2D5100C12656DF2         190829            2227      True   \n",
       "2  EC1254C86CED1D8F2B556786329FD939         225223            1365      True   \n",
       "3  09567D1DEB473ABA2CD04D06F1F6D22D        3110429              39      True   \n",
       "4  DF856F242E9519638FD447D0CCFA06DF        4245504              54      True   \n",
       "\n",
       "   u1_create_tm                              u2id  u2_fllwer_cnt  \\\n",
       "0    1351736247  06E9B34C49824F5C612B01F3DF66C4B8             48   \n",
       "1    1246308293  06E9B485CA5F2757CB554B0244FE2FA4           2024   \n",
       "2    1238211373  06E9B485CA5F2757CB554B0244FE2FA4           2024   \n",
       "3    1243169868  06E9B6ABEB6C57CA5A394DADF375D940            557   \n",
       "4    1248789982  06E9B7217C92B280231E835F1B686176              8   \n",
       "\n",
       "   u2_fllwng_cnt  u2_vrfed  u2_create_tm  u1_fllw_u2  retwt  reply   like  \\\n",
       "0            977     False    1493475569       False   True  False  False   \n",
       "1           1227     False    1234745553       False  False  False   True   \n",
       "2           1227     False    1234745553       False   True  False   True   \n",
       "3            466     False    1509320658       False  False  False   True   \n",
       "4             74     False    1346060212       False  False  False  False   \n",
       "\n",
       "   retwt_cmmnt  \n",
       "0        False  \n",
       "1        False  \n",
       "2        False  \n",
       "3        False  \n",
       "4        False  "
      ]
     },
     "metadata": {},
     "output_type": "display_data"
    },
    {
     "data": {
      "text/plain": [
       "Index(['toks', 'hshtgs', 'twtid', 'media', 'links', 'domns', 'twttyp', 'lang',\n",
       "       'tm', 'u1id', 'u1_fllwer_cnt', 'u1_fllwing_cnt', 'u1_vrfed',\n",
       "       'u1_create_tm', 'u2id', 'u2_fllwer_cnt', 'u2_fllwng_cnt', 'u2_vrfed',\n",
       "       'u2_create_tm', 'u1_fllw_u2', 'retwt', 'reply', 'like', 'retwt_cmmnt'],\n",
       "      dtype='object')"
      ]
     },
     "metadata": {},
     "output_type": "display_data"
    }
   ],
   "source": [
    "train_pop=len(dftrn)\n",
    "sampled_train_pop=trnsz\n",
    "idx_pos = np.where(dftrn[TCOL])[0]\n",
    "target_pop=sampled_target_pop=len(idx_pos)\n",
    "if TGT in ('Reply','RTwCmnt'):\n",
    "    idx_neg0 = np.where(~dftrn[TCOL])[0]\n",
    "    idx_neg = np.random.choice(idx_neg0, trnsz-len(idx_pos), replace=False)\n",
    "    idx = np.concatenate([idx_pos,idx_neg])\n",
    "    dftrn = dftrn.iloc[idx].copy()\n",
    "print(dftrn.shape, dftrn[TCOL].mean())\n",
    "print(train_pop, target_pop, sampled_train_pop, sampled_target_pop)\n",
    "\n",
    "display(dftrn.head())\n",
    "display(dftrn.columns)"
   ]
  },
  {
   "cell_type": "markdown",
   "metadata": {},
   "source": [
    "## prep and features"
   ]
  },
  {
   "cell_type": "code",
   "execution_count": 8,
   "metadata": {},
   "outputs": [],
   "source": [
    "def prp_df(df, tm_max):\n",
    "    '''\n",
    "    tm_max = tm_trn_max for train tm_tst_max for test\n",
    "    '''\n",
    "    lendf = len(df)\n",
    "    print(dtnow(), 'start')\n",
    "    set_u1 = set(df.u1id)\n",
    "    set_u2 = set(df.u2id)\n",
    "    df['u1inu2']=df.u1id.isin(set_u2)\n",
    "    df['u2inu1']=df.u2id.isin(set_u1)\n",
    "\n",
    "    #counts\n",
    "    df['len_toks'] = df.toks.apply(lambda x: len(x.split('\\t')))\n",
    "    df.drop(columns=['toks'], inplace=True)    \n",
    "    for m in ['Photo', 'Video', 'GIF']:\n",
    "        df[f'n_media_{m}'] = df['media'].fillna('').apply(lambda x: x.split('\\t').count(m))\n",
    "    tgnms = ['hshtgs','media', 'links', 'domns',]\n",
    "    for tgnm in tgnms:\n",
    "        df[f'has_{tgnm}']=df[tgnm].notna()\n",
    "        df[f'lst_{tgnm}'] = df[tgnm].fillna('').apply(lambda x: x.split('\\t') if len(x) else [])\n",
    "        df[f'n_{tgnm}'] = df[f'lst_{tgnm}'].apply(len)  \n",
    "    df.drop(columns=['has_links','n_links'], inplace=True) #duplicates has_domns,n_domns \n",
    "    \n",
    "    #time\n",
    "    dt = pd.to_datetime(df.tm, unit='s')\n",
    "    df['dayofweek'] = dt.dt.dayofweek\n",
    "    df['hour'] = dt.dt.hour\n",
    "    \n",
    "    df['tmdlta_u2u1']  = df.u2_create_tm - df.u1_create_tm\n",
    "    df['tmdlta_twtu1'] = df.tm - df.u1_create_tm\n",
    "    df['tmdlta_twtu2'] = df.tm - df.u2_create_tm\n",
    "\n",
    "    df['twt_age']   = tm_max-df.tm\n",
    "    df['u1_age']    = tm_max-df.u1_create_tm\n",
    "    df['u2_age']    = tm_max-df.u2_create_tm\n",
    "    df.drop(columns=['tm', 'u1_create_tm', 'u2_create_tm'], inplace=True)\n",
    "\n",
    "    #time derived\n",
    "    df['u1_fllwer_cnt_by_age'] = df.u1_fllwer_cnt / df.u1_age\n",
    "    df['u1_fllwng_cnt_by_age'] = df.u2_fllwng_cnt / df.u2_age\n",
    "    \n",
    "    #interaction\n",
    "    df['u1u2']=df.u1id+'_'+df.u2id\n",
    "    df['langhour']=df.lang+'_'+df.hour.astype(str)\n",
    "    \n",
    "\n",
    "    #freq of feature values\n",
    "    print(dtnow(), 'freq of columns using CountEncoder')\n",
    "    encoder = ce.CountEncoder()\n",
    "    encoded = encoder.fit_transform(\n",
    "    df[['twtid', 'twttyp', 'lang', 'u1id', 'u1_fllwing_cnt', 'u1_vrfed', 'u2id', 'u2_fllwer_cnt', 'u2_vrfed', 'u1_fllw_u2', \n",
    "       'n_media_Photo', 'n_media_Video', 'n_media_GIF', \n",
    "       'has_hshtgs', 'n_hshtgs', 'has_media', 'n_media','has_domns', 'n_domns', \n",
    "       'dayofweek', 'hour', 'u1u2', 'langhour']].astype(object))\n",
    "    encoded = encoded.astype(int)/lendf\n",
    "    encoded.columns = [f'frq_{col}' for col in encoded.columns]\n",
    "    df = pd.concat([df,encoded],1)\n",
    "    \n",
    "    #freq of tgnm values\n",
    "    print(dtnow(), 'freq of tags')\n",
    "    for tgnm in tgnms:\n",
    "        vs = [j for i in df[f'lst_{tgnm}'] for j in i]\n",
    "        cnt = Counter(vs)\n",
    "        frq = {k:v/lendf for k,v in cnt.items()}\n",
    "        df[f'sumfrq_{tgnm}']=df[f'lst_{tgnm}'].apply(lambda x: sum([frq.get(o,0) for o in x]))\n",
    "        df[f'maxfrq_{tgnm}']=df[f'lst_{tgnm}'].apply(lambda x: max([frq.get(o,0) for o in x]) if len(x) else 0)\n",
    "    df.drop(columns=tgnms+[f'lst_{tgnm}' for tgnm in tgnms],inplace=True)\n",
    "\n",
    "    print(dtnow(), 'done')\n",
    "    return df"
   ]
  },
  {
   "cell_type": "code",
   "execution_count": 9,
   "metadata": {},
   "outputs": [
    {
     "name": "stdout",
     "output_type": "stream",
     "text": [
      "2020-04-11 22:56:39 start\n",
      "2020-04-11 22:56:47 freq of columns using CountEncoder\n"
     ]
    },
    {
     "name": "stderr",
     "output_type": "stream",
     "text": [
      "/data/anaconda3/envs/rcss20/lib/python3.7/site-packages/category_encoders/count.py:255: FutureWarning: The pandas.np module is deprecated and will be removed from pandas in a future version. Import numpy directly instead\n",
      "  X.loc[:, self.cols] = X.fillna(value=pd.np.nan)\n"
     ]
    },
    {
     "name": "stdout",
     "output_type": "stream",
     "text": [
      "2020-04-11 22:56:59 freq of tags\n",
      "2020-04-11 22:57:03 done\n",
      "CPU times: user 21.3 s, sys: 3.24 s, total: 24.5 s\n",
      "Wall time: 24.3 s\n"
     ]
    }
   ],
   "source": [
    "%%time\n",
    "dftrn=prp_df(dftrn, tm_max=tm_trn_max)"
   ]
  },
  {
   "cell_type": "code",
   "execution_count": 10,
   "metadata": {},
   "outputs": [
    {
     "name": "stdout",
     "output_type": "stream",
     "text": [
      "2020-04-11 22:57:03 start\n",
      "2020-04-11 22:57:11 freq of columns using CountEncoder\n",
      "2020-04-11 22:57:23 freq of tags\n",
      "2020-04-11 22:57:27 done\n",
      "CPU times: user 20.8 s, sys: 3.15 s, total: 23.9 s\n",
      "Wall time: 23.8 s\n"
     ]
    }
   ],
   "source": [
    "%%time\n",
    "dfval=prp_df(dfval, tm_max=tm_trn_max)"
   ]
  },
  {
   "cell_type": "markdown",
   "metadata": {},
   "source": [
    "## tr vl split and target encoding"
   ]
  },
  {
   "cell_type": "code",
   "execution_count": 11,
   "metadata": {},
   "outputs": [
    {
     "data": {
      "text/plain": [
       "30"
      ]
     },
     "execution_count": 11,
     "metadata": {},
     "output_type": "execute_result"
    }
   ],
   "source": [
    "msk_vl=np.random.rand(len(dftrn))<0.15\n",
    "idxvl=np.where( msk_vl)[0]\n",
    "idxtr=np.where(~msk_vl)[0]\n",
    "\n",
    "dftr = dftrn.iloc[idxtr].copy()\n",
    "dfvl = dftrn.iloc[idxvl].copy()\n",
    "del dftrn\n",
    "\n",
    "gc.collect()"
   ]
  },
  {
   "cell_type": "code",
   "execution_count": 12,
   "metadata": {},
   "outputs": [
    {
     "data": {
      "text/plain": [
       "Index(['twtid', 'twttyp', 'lang', 'u1id', 'u1_fllwer_cnt', 'u1_fllwing_cnt',\n",
       "       'u1_vrfed', 'u2id', 'u2_fllwer_cnt', 'u2_fllwng_cnt', 'u2_vrfed',\n",
       "       'u1_fllw_u2', 'retwt', 'reply', 'like', 'retwt_cmmnt', 'u1inu2',\n",
       "       'u2inu1', 'len_toks', 'n_media_Photo', 'n_media_Video', 'n_media_GIF',\n",
       "       'has_hshtgs', 'n_hshtgs', 'has_media', 'n_media', 'has_domns',\n",
       "       'n_domns', 'dayofweek', 'hour', 'tmdlta_u2u1', 'tmdlta_twtu1',\n",
       "       'tmdlta_twtu2', 'twt_age', 'u1_age', 'u2_age', 'u1_fllwer_cnt_by_age',\n",
       "       'u1_fllwng_cnt_by_age', 'u1u2', 'langhour', 'frq_twtid', 'frq_twttyp',\n",
       "       'frq_lang', 'frq_u1id', 'frq_u1_fllwing_cnt', 'frq_u1_vrfed',\n",
       "       'frq_u2id', 'frq_u2_fllwer_cnt', 'frq_u2_vrfed', 'frq_u1_fllw_u2',\n",
       "       'frq_n_media_Photo', 'frq_n_media_Video', 'frq_n_media_GIF',\n",
       "       'frq_has_hshtgs', 'frq_n_hshtgs', 'frq_has_media', 'frq_n_media',\n",
       "       'frq_has_domns', 'frq_n_domns', 'frq_dayofweek', 'frq_hour', 'frq_u1u2',\n",
       "       'frq_langhour', 'sumfrq_hshtgs', 'maxfrq_hshtgs', 'sumfrq_media',\n",
       "       'maxfrq_media', 'sumfrq_links', 'maxfrq_links', 'sumfrq_domns',\n",
       "       'maxfrq_domns'],\n",
       "      dtype='object')"
      ]
     },
     "execution_count": 12,
     "metadata": {},
     "output_type": "execute_result"
    }
   ],
   "source": [
    "dftr.columns"
   ]
  },
  {
   "cell_type": "code",
   "execution_count": 13,
   "metadata": {},
   "outputs": [
    {
     "name": "stdout",
     "output_type": "stream",
     "text": [
      "CPU times: user 21.8 s, sys: 4.72 s, total: 26.5 s\n",
      "Wall time: 26.4 s\n"
     ]
    }
   ],
   "source": [
    "%%time\n",
    "col2tgtenc=['twtid', 'twttyp', 'lang', 'u1id', 'u1_fllwing_cnt', 'u1_vrfed', 'u2id', 'u2_fllwer_cnt', 'u2_vrfed', 'u1_fllw_u2', \n",
    "   'n_media_Photo', 'n_media_Video', 'n_media_GIF', \n",
    "   'has_hshtgs', 'n_hshtgs', 'has_media', 'n_media','has_domns', 'n_domns', \n",
    "   'dayofweek', 'hour', 'u1u2', 'langhour']\n",
    "tgt_encoder = ce.TargetEncoder()\n",
    "encoded_tr = tgt_encoder.fit_transform(dftr[col2tgtenc].astype(object), dftr[TCOL])\n",
    "encoded_vl = tgt_encoder.transform(dfvl[col2tgtenc].astype(object))\n",
    "encoded_val = tgt_encoder.transform(dfval[col2tgtenc].astype(object))\n",
    "\n",
    "tgtenc_columns = [f'tgtenc_{col}' for col in encoded_tr.columns]\n",
    "encoded_tr.columns = tgtenc_columns\n",
    "encoded_vl.columns = tgtenc_columns\n",
    "encoded_val.columns = tgtenc_columns\n",
    "\n",
    "dftr = pd.concat([dftr, encoded_tr], 1)\n",
    "dfvl = pd.concat([dfvl, encoded_vl], 1)\n",
    "dfval = pd.concat([dfval, encoded_val], 1)\n"
   ]
  },
  {
   "cell_type": "code",
   "execution_count": 14,
   "metadata": {},
   "outputs": [],
   "source": [
    "cols_category=['twttyp', 'lang', 'langhour']\n",
    "for df in dftr,dfvl,dfval:\n",
    "    df.drop(columns=['twtid','u1id','u2id','u1u2'], inplace=True)\n",
    "    df[cols_category]=df[cols_category].astype('category')"
   ]
  },
  {
   "cell_type": "code",
   "execution_count": 15,
   "metadata": {},
   "outputs": [],
   "source": [
    "cols_feat = [col for col in dftr.columns if col not in cols_tgt]"
   ]
  },
  {
   "cell_type": "markdown",
   "metadata": {},
   "source": [
    "# model"
   ]
  },
  {
   "cell_type": "markdown",
   "metadata": {},
   "source": [
    "## cols_feat"
   ]
  },
  {
   "cell_type": "code",
   "execution_count": 16,
   "metadata": {},
   "outputs": [
    {
     "name": "stdout",
     "output_type": "stream",
     "text": [
      "86\n",
      "36\n"
     ]
    }
   ],
   "source": [
    "print(len(cols_feat))\n",
    "cols_feat=['twttyp',\n",
    " 'lang',\n",
    " 'u1_fllwer_cnt',\n",
    " 'u1_fllwing_cnt',\n",
    " 'u1_vrfed',\n",
    " 'u2_fllwer_cnt',\n",
    " 'u2_fllwng_cnt',\n",
    " 'u2_vrfed',\n",
    " 'u1_fllw_u2',\n",
    " 'u1inu2',\n",
    " 'u2inu1',\n",
    " 'len_toks',\n",
    " 'n_media_Photo',\n",
    " 'n_media_Video',\n",
    " 'n_media_GIF',\n",
    "#  'has_hshtgs',\n",
    " 'n_hshtgs',\n",
    "#  'has_media',\n",
    " 'n_media',\n",
    "#  'has_domns',\n",
    " 'n_domns',\n",
    " 'dayofweek',\n",
    " 'hour',\n",
    " 'tmdlta_u2u1',\n",
    " 'tmdlta_twtu1',\n",
    " 'tmdlta_twtu2',\n",
    " 'twt_age',\n",
    " 'u1_age',\n",
    " 'u2_age',\n",
    " 'u1_fllwer_cnt_by_age',\n",
    " 'u1_fllwng_cnt_by_age',\n",
    " 'langhour',\n",
    " 'frq_twtid',\n",
    "#  'frq_twttyp',\n",
    "#  'frq_lang',\n",
    " 'frq_u1id',\n",
    "#  'frq_u1_fllwing_cnt',\n",
    "#  'frq_u1_vrfed',\n",
    " 'frq_u2id',\n",
    "#  'frq_u2_fllwer_cnt',\n",
    "#  'frq_u2_vrfed',\n",
    "#  'frq_u1_fllw_u2',\n",
    "#  'frq_n_media_Photo',\n",
    "#  'frq_n_media_Video',\n",
    "#  'frq_n_media_GIF',\n",
    "#  'frq_has_hshtgs',\n",
    "#  'frq_n_hshtgs',\n",
    "#  'frq_has_media',\n",
    "#  'frq_n_media',\n",
    "#  'frq_has_domns',\n",
    "#  'frq_n_domns',\n",
    "#  'frq_dayofweek',\n",
    "#  'frq_hour',\n",
    " 'frq_u1u2',\n",
    "#  'frq_langhour',\n",
    "#  'sumfrq_hshtgs',\n",
    " 'maxfrq_hshtgs',\n",
    "#  'sumfrq_media',\n",
    "#  'maxfrq_media',\n",
    "#  'sumfrq_links',\n",
    "#  'maxfrq_links',\n",
    "#  'sumfrq_domns',\n",
    " 'maxfrq_domns',\n",
    "#  'tgtenc_twtid',\n",
    "#  'tgtenc_twttyp',\n",
    " 'tgtenc_lang',\n",
    "#  'tgtenc_u1id',\n",
    "#  'tgtenc_u1_fllwing_cnt',\n",
    "#  'tgtenc_u1_vrfed',\n",
    "#  'tgtenc_u2id',\n",
    "#  'tgtenc_u2_fllwer_cnt',\n",
    "#  'tgtenc_u2_vrfed',\n",
    "#  'tgtenc_u1_fllw_u2',\n",
    "#  'tgtenc_n_media_Photo',\n",
    "#  'tgtenc_n_media_Video',\n",
    "#  'tgtenc_n_media_GIF',\n",
    "#  'tgtenc_has_hshtgs',\n",
    "#  'tgtenc_n_hshtgs',\n",
    "#  'tgtenc_has_media',\n",
    "#  'tgtenc_n_media',\n",
    "#  'tgtenc_has_domns',\n",
    "#  'tgtenc_n_domns',\n",
    "#  'tgtenc_dayofweek',\n",
    "#  'tgtenc_hour',\n",
    "#  'tgtenc_u1u2',\n",
    "#  'tgtenc_langhour'\n",
    "          ]\n",
    "print(len(cols_feat))"
   ]
  },
  {
   "cell_type": "code",
   "execution_count": 17,
   "metadata": {},
   "outputs": [],
   "source": [
    "results = {}\n",
    "results['PRFX'] = PRFX\n",
    "results['TGT'] = TGT\n",
    "results['cols_feat'] = cols_feat\n",
    "results['tgt_encoder'] = tgt_encoder\n",
    "results['col2tgtenc'] = col2tgtenc"
   ]
  },
  {
   "cell_type": "code",
   "execution_count": 18,
   "metadata": {},
   "outputs": [],
   "source": [
    "params={\n",
    "    'objective': 'binary',\n",
    "    'metric': 'binary_logloss',\n",
    "    'verbosity': 0,    \n",
    "}\n",
    "results['params'] = params"
   ]
  },
  {
   "cell_type": "code",
   "execution_count": 19,
   "metadata": {
    "scrolled": true
   },
   "outputs": [
    {
     "name": "stderr",
     "output_type": "stream",
     "text": [
      "/data/anaconda3/envs/rcss20/lib/python3.7/site-packages/optuna/_experimental.py:87: ExperimentalWarning: train is experimental (supported from v0.18.0). The interface can change in the future.\n",
      "  ExperimentalWarning\n",
      "tune_feature_fraction, val_score: inf:   0%|          | 0/7 [00:00<?, ?it/s]"
     ]
    },
    {
     "name": "stdout",
     "output_type": "stream",
     "text": [
      "Training until validation scores don't improve for 100 rounds\n",
      "[100]\ttr's binary_logloss: 0.560639\tvl's binary_logloss: 0.570962\n",
      "[200]\ttr's binary_logloss: 0.549752\tvl's binary_logloss: 0.567239\n",
      "[300]\ttr's binary_logloss: 0.543207\tvl's binary_logloss: 0.56599\n",
      "[400]\ttr's binary_logloss: 0.53777\tvl's binary_logloss: 0.565242\n",
      "[500]\ttr's binary_logloss: 0.532384\tvl's binary_logloss: 0.564699\n",
      "[600]\ttr's binary_logloss: 0.527613\tvl's binary_logloss: 0.564353\n",
      "[700]\ttr's binary_logloss: 0.522658\tvl's binary_logloss: 0.564319\n",
      "[800]\ttr's binary_logloss: 0.518322\tvl's binary_logloss: 0.564066\n",
      "[900]\ttr's binary_logloss: 0.514018\tvl's binary_logloss: 0.563957\n",
      "Early stopping, best iteration is:\n",
      "[892]\ttr's binary_logloss: 0.514327\tvl's binary_logloss: 0.563936\n"
     ]
    },
    {
     "name": "stderr",
     "output_type": "stream",
     "text": [
      "tune_feature_fraction, val_score: 0.563936:  14%|#4        | 1/7 [00:21<02:10, 21.76s/it]"
     ]
    },
    {
     "name": "stdout",
     "output_type": "stream",
     "text": [
      "Training until validation scores don't improve for 100 rounds\n",
      "[100]\ttr's binary_logloss: 0.559487\tvl's binary_logloss: 0.570529\n",
      "[200]\ttr's binary_logloss: 0.548009\tvl's binary_logloss: 0.567202\n",
      "[300]\ttr's binary_logloss: 0.540691\tvl's binary_logloss: 0.566282\n",
      "[400]\ttr's binary_logloss: 0.534272\tvl's binary_logloss: 0.565464\n",
      "[500]\ttr's binary_logloss: 0.5289\tvl's binary_logloss: 0.565378\n",
      "[600]\ttr's binary_logloss: 0.523749\tvl's binary_logloss: 0.565064\n",
      "[700]\ttr's binary_logloss: 0.518752\tvl's binary_logloss: 0.565037\n",
      "[800]\ttr's binary_logloss: 0.513669\tvl's binary_logloss: 0.565031\n",
      "Early stopping, best iteration is:\n",
      "[746]\ttr's binary_logloss: 0.516517\tvl's binary_logloss: 0.564888\n"
     ]
    },
    {
     "name": "stderr",
     "output_type": "stream",
     "text": [
      "tune_feature_fraction, val_score: 0.563936:  29%|##8       | 2/7 [00:40<01:44, 20.91s/it]"
     ]
    },
    {
     "name": "stdout",
     "output_type": "stream",
     "text": [
      "Training until validation scores don't improve for 100 rounds\n",
      "[100]\ttr's binary_logloss: 0.558004\tvl's binary_logloss: 0.570781\n",
      "[200]\ttr's binary_logloss: 0.546264\tvl's binary_logloss: 0.567656\n",
      "[300]\ttr's binary_logloss: 0.53829\tvl's binary_logloss: 0.566822\n",
      "[400]\ttr's binary_logloss: 0.532325\tvl's binary_logloss: 0.566282\n",
      "[500]\ttr's binary_logloss: 0.526382\tvl's binary_logloss: 0.566003\n",
      "[600]\ttr's binary_logloss: 0.52102\tvl's binary_logloss: 0.565921\n",
      "[700]\ttr's binary_logloss: 0.515906\tvl's binary_logloss: 0.565934\n",
      "Early stopping, best iteration is:\n",
      "[680]\ttr's binary_logloss: 0.517\tvl's binary_logloss: 0.565831\n"
     ]
    },
    {
     "name": "stderr",
     "output_type": "stream",
     "text": [
      "tune_feature_fraction, val_score: 0.563936:  43%|####2     | 3/7 [01:00<01:22, 20.52s/it]"
     ]
    },
    {
     "name": "stdout",
     "output_type": "stream",
     "text": [
      "Training until validation scores don't improve for 100 rounds\n",
      "[100]\ttr's binary_logloss: 0.557213\tvl's binary_logloss: 0.570988\n",
      "[200]\ttr's binary_logloss: 0.545142\tvl's binary_logloss: 0.568317\n",
      "[300]\ttr's binary_logloss: 0.537674\tvl's binary_logloss: 0.567444\n",
      "[400]\ttr's binary_logloss: 0.530873\tvl's binary_logloss: 0.566837\n",
      "[500]\ttr's binary_logloss: 0.524568\tvl's binary_logloss: 0.56665\n",
      "[600]\ttr's binary_logloss: 0.51886\tvl's binary_logloss: 0.566689\n",
      "Early stopping, best iteration is:\n",
      "[506]\ttr's binary_logloss: 0.524236\tvl's binary_logloss: 0.566599\n"
     ]
    },
    {
     "name": "stderr",
     "output_type": "stream",
     "text": [
      "tune_feature_fraction, val_score: 0.563936:  57%|#####7    | 4/7 [01:19<01:00, 20.21s/it]"
     ]
    },
    {
     "name": "stdout",
     "output_type": "stream",
     "text": [
      "Training until validation scores don't improve for 100 rounds\n",
      "[100]\ttr's binary_logloss: 0.555916\tvl's binary_logloss: 0.571181\n",
      "[200]\ttr's binary_logloss: 0.543547\tvl's binary_logloss: 0.568967\n",
      "[300]\ttr's binary_logloss: 0.535219\tvl's binary_logloss: 0.568557\n",
      "[400]\ttr's binary_logloss: 0.528238\tvl's binary_logloss: 0.568133\n",
      "Early stopping, best iteration is:\n",
      "[389]\ttr's binary_logloss: 0.52908\tvl's binary_logloss: 0.568031\n"
     ]
    },
    {
     "name": "stderr",
     "output_type": "stream",
     "text": [
      "tune_feature_fraction, val_score: 0.563936:  71%|#######1  | 5/7 [01:36<00:38, 19.19s/it]"
     ]
    },
    {
     "name": "stdout",
     "output_type": "stream",
     "text": [
      "Training until validation scores don't improve for 100 rounds\n",
      "[100]\ttr's binary_logloss: 0.555642\tvl's binary_logloss: 0.57167\n",
      "[200]\ttr's binary_logloss: 0.542669\tvl's binary_logloss: 0.569311\n",
      "[300]\ttr's binary_logloss: 0.534124\tvl's binary_logloss: 0.568957\n",
      "[400]\ttr's binary_logloss: 0.526993\tvl's binary_logloss: 0.568649\n",
      "Early stopping, best iteration is:\n",
      "[382]\ttr's binary_logloss: 0.528225\tvl's binary_logloss: 0.568528\n"
     ]
    },
    {
     "name": "stderr",
     "output_type": "stream",
     "text": [
      "tune_feature_fraction, val_score: 0.563936:  86%|########5 | 6/7 [01:53<00:18, 18.49s/it]"
     ]
    },
    {
     "name": "stdout",
     "output_type": "stream",
     "text": [
      "Training until validation scores don't improve for 100 rounds\n",
      "[100]\ttr's binary_logloss: 0.554717\tvl's binary_logloss: 0.57262\n",
      "[200]\ttr's binary_logloss: 0.541087\tvl's binary_logloss: 0.570615\n",
      "[300]\ttr's binary_logloss: 0.532274\tvl's binary_logloss: 0.57022\n",
      "[400]\ttr's binary_logloss: 0.524654\tvl's binary_logloss: 0.570218\n",
      "Early stopping, best iteration is:\n",
      "[320]\ttr's binary_logloss: 0.530442\tvl's binary_logloss: 0.570147\n"
     ]
    },
    {
     "name": "stderr",
     "output_type": "stream",
     "text": [
      "tune_feature_fraction, val_score: 0.563936: 100%|##########| 7/7 [02:09<00:00, 18.55s/it]\n",
      "tune_num_leaves, val_score: 0.563936:   0%|          | 0/20 [00:00<?, ?it/s]"
     ]
    },
    {
     "name": "stdout",
     "output_type": "stream",
     "text": [
      "Training until validation scores don't improve for 100 rounds\n",
      "[100]\ttr's binary_logloss: 0.53421\tvl's binary_logloss: 0.565252\n",
      "[200]\ttr's binary_logloss: 0.512676\tvl's binary_logloss: 0.563226\n",
      "[300]\ttr's binary_logloss: 0.496283\tvl's binary_logloss: 0.563313\n",
      "Early stopping, best iteration is:\n",
      "[249]\ttr's binary_logloss: 0.504333\tvl's binary_logloss: 0.56309\n"
     ]
    },
    {
     "name": "stderr",
     "output_type": "stream",
     "text": [
      "tune_num_leaves, val_score: 0.563090:   5%|5         | 1/20 [00:15<04:57, 15.68s/it]"
     ]
    },
    {
     "name": "stdout",
     "output_type": "stream",
     "text": [
      "Training until validation scores don't improve for 100 rounds\n",
      "[100]\ttr's binary_logloss: 0.54045\tvl's binary_logloss: 0.566261\n",
      "[200]\ttr's binary_logloss: 0.522167\tvl's binary_logloss: 0.56389\n",
      "[300]\ttr's binary_logloss: 0.508555\tvl's binary_logloss: 0.563493\n",
      "[400]\ttr's binary_logloss: 0.496062\tvl's binary_logloss: 0.56304\n",
      "Early stopping, best iteration is:\n",
      "[395]\ttr's binary_logloss: 0.496636\tvl's binary_logloss: 0.563002\n"
     ]
    },
    {
     "name": "stderr",
     "output_type": "stream",
     "text": [
      "tune_num_leaves, val_score: 0.563002:  10%|#         | 2/20 [00:35<05:04, 16.92s/it]"
     ]
    },
    {
     "name": "stdout",
     "output_type": "stream",
     "text": [
      "Training until validation scores don't improve for 100 rounds\n",
      "[100]\ttr's binary_logloss: 0.561086\tvl's binary_logloss: 0.571189\n",
      "[200]\ttr's binary_logloss: 0.550059\tvl's binary_logloss: 0.567246\n",
      "[300]\ttr's binary_logloss: 0.543773\tvl's binary_logloss: 0.566424\n",
      "[400]\ttr's binary_logloss: 0.538095\tvl's binary_logloss: 0.565774\n",
      "[500]\ttr's binary_logloss: 0.533137\tvl's binary_logloss: 0.565182\n",
      "[600]\ttr's binary_logloss: 0.528442\tvl's binary_logloss: 0.56487\n",
      "[700]\ttr's binary_logloss: 0.52395\tvl's binary_logloss: 0.564743\n",
      "[800]\ttr's binary_logloss: 0.519684\tvl's binary_logloss: 0.564635\n",
      "[900]\ttr's binary_logloss: 0.51547\tvl's binary_logloss: 0.564689\n",
      "Early stopping, best iteration is:\n",
      "[807]\ttr's binary_logloss: 0.519402\tvl's binary_logloss: 0.564604\n"
     ]
    },
    {
     "name": "stderr",
     "output_type": "stream",
     "text": [
      "tune_num_leaves, val_score: 0.563002:  15%|#5        | 3/20 [01:00<05:26, 19.21s/it]"
     ]
    },
    {
     "name": "stdout",
     "output_type": "stream",
     "text": [
      "Training until validation scores don't improve for 100 rounds\n",
      "[100]\ttr's binary_logloss: 0.546501\tvl's binary_logloss: 0.56719\n",
      "[200]\ttr's binary_logloss: 0.530953\tvl's binary_logloss: 0.564729\n",
      "[300]\ttr's binary_logloss: 0.519749\tvl's binary_logloss: 0.564103\n",
      "[400]\ttr's binary_logloss: 0.509973\tvl's binary_logloss: 0.564187\n",
      "Early stopping, best iteration is:\n",
      "[343]\ttr's binary_logloss: 0.51535\tvl's binary_logloss: 0.564046\n"
     ]
    },
    {
     "name": "stderr",
     "output_type": "stream",
     "text": [
      "tune_num_leaves, val_score: 0.563002:  20%|##        | 4/20 [01:16<04:55, 18.45s/it]"
     ]
    },
    {
     "name": "stdout",
     "output_type": "stream",
     "text": [
      "Training until validation scores don't improve for 100 rounds\n",
      "[100]\ttr's binary_logloss: 0.570741\tvl's binary_logloss: 0.576026\n",
      "[200]\ttr's binary_logloss: 0.561275\tvl's binary_logloss: 0.570461\n",
      "[300]\ttr's binary_logloss: 0.55616\tvl's binary_logloss: 0.568663\n",
      "[400]\ttr's binary_logloss: 0.552492\tvl's binary_logloss: 0.567836\n",
      "[500]\ttr's binary_logloss: 0.54902\tvl's binary_logloss: 0.5671\n",
      "[600]\ttr's binary_logloss: 0.546098\tvl's binary_logloss: 0.566604\n",
      "[700]\ttr's binary_logloss: 0.543086\tvl's binary_logloss: 0.566377\n",
      "[800]\ttr's binary_logloss: 0.540181\tvl's binary_logloss: 0.565898\n",
      "[900]\ttr's binary_logloss: 0.537643\tvl's binary_logloss: 0.56578\n",
      "[1000]\ttr's binary_logloss: 0.535225\tvl's binary_logloss: 0.565549\n",
      "[1100]\ttr's binary_logloss: 0.53275\tvl's binary_logloss: 0.565434\n",
      "[1200]\ttr's binary_logloss: 0.530608\tvl's binary_logloss: 0.565361\n",
      "[1300]\ttr's binary_logloss: 0.528183\tvl's binary_logloss: 0.56523\n",
      "[1400]\ttr's binary_logloss: 0.525996\tvl's binary_logloss: 0.565044\n",
      "[1500]\ttr's binary_logloss: 0.52386\tvl's binary_logloss: 0.565019\n",
      "[1600]\ttr's binary_logloss: 0.521809\tvl's binary_logloss: 0.56499\n",
      "Early stopping, best iteration is:\n",
      "[1550]\ttr's binary_logloss: 0.522798\tvl's binary_logloss: 0.564948\n"
     ]
    },
    {
     "name": "stderr",
     "output_type": "stream",
     "text": [
      "tune_num_leaves, val_score: 0.563002:  25%|##5       | 5/20 [01:54<06:03, 24.25s/it]"
     ]
    },
    {
     "name": "stdout",
     "output_type": "stream",
     "text": [
      "Training until validation scores don't improve for 100 rounds\n",
      "[100]\ttr's binary_logloss: 0.515437\tvl's binary_logloss: 0.564045\n",
      "[200]\ttr's binary_logloss: 0.482276\tvl's binary_logloss: 0.563079\n",
      "[300]\ttr's binary_logloss: 0.456854\tvl's binary_logloss: 0.56333\n",
      "Early stopping, best iteration is:\n",
      "[268]\ttr's binary_logloss: 0.464817\tvl's binary_logloss: 0.562926\n"
     ]
    },
    {
     "name": "stderr",
     "output_type": "stream",
     "text": [
      "tune_num_leaves, val_score: 0.562926:  30%|###       | 6/20 [02:16<05:30, 23.58s/it]"
     ]
    },
    {
     "name": "stdout",
     "output_type": "stream",
     "text": [
      "Training until validation scores don't improve for 100 rounds\n",
      "[100]\ttr's binary_logloss: 0.545042\tvl's binary_logloss: 0.5671\n",
      "[200]\ttr's binary_logloss: 0.529161\tvl's binary_logloss: 0.564465\n",
      "[300]\ttr's binary_logloss: 0.517276\tvl's binary_logloss: 0.564241\n",
      "Early stopping, best iteration is:\n",
      "[245]\ttr's binary_logloss: 0.523695\tvl's binary_logloss: 0.564105\n"
     ]
    },
    {
     "name": "stderr",
     "output_type": "stream",
     "text": [
      "tune_num_leaves, val_score: 0.562926:  35%|###5      | 7/20 [02:30<04:28, 20.62s/it]"
     ]
    },
    {
     "name": "stdout",
     "output_type": "stream",
     "text": [
      "Training until validation scores don't improve for 100 rounds\n",
      "[100]\ttr's binary_logloss: 0.518691\tvl's binary_logloss: 0.56407\n",
      "[200]\ttr's binary_logloss: 0.487888\tvl's binary_logloss: 0.56323\n",
      "Early stopping, best iteration is:\n",
      "[183]\ttr's binary_logloss: 0.492442\tvl's binary_logloss: 0.563133\n"
     ]
    },
    {
     "name": "stderr",
     "output_type": "stream",
     "text": [
      "tune_num_leaves, val_score: 0.562926:  40%|####      | 8/20 [02:47<03:55, 19.63s/it]"
     ]
    },
    {
     "name": "stdout",
     "output_type": "stream",
     "text": [
      "Training until validation scores don't improve for 100 rounds\n",
      "[100]\ttr's binary_logloss: 0.528079\tvl's binary_logloss: 0.564743\n",
      "[200]\ttr's binary_logloss: 0.503101\tvl's binary_logloss: 0.562899\n",
      "[300]\ttr's binary_logloss: 0.483337\tvl's binary_logloss: 0.562852\n",
      "Early stopping, best iteration is:\n",
      "[254]\ttr's binary_logloss: 0.491828\tvl's binary_logloss: 0.562758\n"
     ]
    },
    {
     "name": "stderr",
     "output_type": "stream",
     "text": [
      "tune_num_leaves, val_score: 0.562758:  45%|####5     | 9/20 [03:05<03:29, 19.02s/it]"
     ]
    },
    {
     "name": "stdout",
     "output_type": "stream",
     "text": [
      "Training until validation scores don't improve for 100 rounds\n",
      "[100]\ttr's binary_logloss: 0.540008\tvl's binary_logloss: 0.565936\n",
      "[200]\ttr's binary_logloss: 0.521362\tvl's binary_logloss: 0.563727\n",
      "[300]\ttr's binary_logloss: 0.506965\tvl's binary_logloss: 0.563387\n",
      "[400]\ttr's binary_logloss: 0.494665\tvl's binary_logloss: 0.563296\n",
      "Early stopping, best iteration is:\n",
      "[386]\ttr's binary_logloss: 0.496417\tvl's binary_logloss: 0.563146\n"
     ]
    },
    {
     "name": "stderr",
     "output_type": "stream",
     "text": [
      "tune_num_leaves, val_score: 0.562758:  50%|#####     | 10/20 [03:24<03:11, 19.15s/it]"
     ]
    },
    {
     "name": "stdout",
     "output_type": "stream",
     "text": [
      "Training until validation scores don't improve for 100 rounds\n",
      "[100]\ttr's binary_logloss: 0.523842\tvl's binary_logloss: 0.564489\n",
      "[200]\ttr's binary_logloss: 0.495881\tvl's binary_logloss: 0.562981\n",
      "[300]\ttr's binary_logloss: 0.475161\tvl's binary_logloss: 0.562984\n",
      "Early stopping, best iteration is:\n",
      "[263]\ttr's binary_logloss: 0.482733\tvl's binary_logloss: 0.562793\n"
     ]
    },
    {
     "name": "stderr",
     "output_type": "stream",
     "text": [
      "tune_num_leaves, val_score: 0.562758:  55%|#####5    | 11/20 [03:44<02:53, 19.23s/it]"
     ]
    },
    {
     "name": "stdout",
     "output_type": "stream",
     "text": [
      "Training until validation scores don't improve for 100 rounds\n",
      "[100]\ttr's binary_logloss: 0.523842\tvl's binary_logloss: 0.564489\n",
      "[200]\ttr's binary_logloss: 0.495881\tvl's binary_logloss: 0.562981\n",
      "[300]\ttr's binary_logloss: 0.475161\tvl's binary_logloss: 0.562984\n",
      "Early stopping, best iteration is:\n",
      "[263]\ttr's binary_logloss: 0.482733\tvl's binary_logloss: 0.562793\n"
     ]
    },
    {
     "name": "stderr",
     "output_type": "stream",
     "text": [
      "tune_num_leaves, val_score: 0.562758:  60%|######    | 12/20 [04:03<02:33, 19.17s/it]"
     ]
    },
    {
     "name": "stdout",
     "output_type": "stream",
     "text": [
      "Training until validation scores don't improve for 100 rounds\n",
      "[100]\ttr's binary_logloss: 0.525402\tvl's binary_logloss: 0.564256\n",
      "[200]\ttr's binary_logloss: 0.499025\tvl's binary_logloss: 0.563228\n",
      "Early stopping, best iteration is:\n",
      "[183]\ttr's binary_logloss: 0.50264\tvl's binary_logloss: 0.563142\n"
     ]
    },
    {
     "name": "stderr",
     "output_type": "stream",
     "text": [
      "tune_num_leaves, val_score: 0.562758:  65%|######5   | 13/20 [04:18<02:05, 17.98s/it]"
     ]
    },
    {
     "name": "stdout",
     "output_type": "stream",
     "text": [
      "Training until validation scores don't improve for 100 rounds\n",
      "[100]\ttr's binary_logloss: 0.526628\tvl's binary_logloss: 0.564409\n",
      "[200]\ttr's binary_logloss: 0.500547\tvl's binary_logloss: 0.562911\n",
      "[300]\ttr's binary_logloss: 0.480949\tvl's binary_logloss: 0.563156\n",
      "Early stopping, best iteration is:\n",
      "[254]\ttr's binary_logloss: 0.489787\tvl's binary_logloss: 0.562844\n"
     ]
    },
    {
     "name": "stderr",
     "output_type": "stream",
     "text": [
      "tune_num_leaves, val_score: 0.562758:  70%|#######   | 14/20 [04:36<01:47, 17.91s/it]"
     ]
    },
    {
     "name": "stdout",
     "output_type": "stream",
     "text": [
      "Training until validation scores don't improve for 100 rounds\n",
      "[100]\ttr's binary_logloss: 0.530228\tvl's binary_logloss: 0.564958\n",
      "[200]\ttr's binary_logloss: 0.506127\tvl's binary_logloss: 0.563454\n",
      "[300]\ttr's binary_logloss: 0.488027\tvl's binary_logloss: 0.563508\n",
      "Early stopping, best iteration is:\n",
      "[246]\ttr's binary_logloss: 0.497745\tvl's binary_logloss: 0.563334\n"
     ]
    },
    {
     "name": "stderr",
     "output_type": "stream",
     "text": [
      "tune_num_leaves, val_score: 0.562758:  75%|#######5  | 15/20 [04:53<01:28, 17.62s/it]"
     ]
    },
    {
     "name": "stdout",
     "output_type": "stream",
     "text": [
      "Training until validation scores don't improve for 100 rounds\n",
      "[100]\ttr's binary_logloss: 0.519621\tvl's binary_logloss: 0.564072\n",
      "[200]\ttr's binary_logloss: 0.488994\tvl's binary_logloss: 0.563326\n",
      "Early stopping, best iteration is:\n",
      "[186]\ttr's binary_logloss: 0.492799\tvl's binary_logloss: 0.563177\n"
     ]
    },
    {
     "name": "stderr",
     "output_type": "stream",
     "text": [
      "tune_num_leaves, val_score: 0.562758:  80%|########  | 16/20 [05:10<01:09, 17.46s/it]"
     ]
    },
    {
     "name": "stdout",
     "output_type": "stream",
     "text": [
      "Training until validation scores don't improve for 100 rounds\n",
      "[100]\ttr's binary_logloss: 0.53102\tvl's binary_logloss: 0.565032\n",
      "[200]\ttr's binary_logloss: 0.507519\tvl's binary_logloss: 0.563009\n",
      "[300]\ttr's binary_logloss: 0.489075\tvl's binary_logloss: 0.563126\n",
      "Early stopping, best iteration is:\n",
      "[261]\ttr's binary_logloss: 0.496104\tvl's binary_logloss: 0.562821\n"
     ]
    },
    {
     "name": "stderr",
     "output_type": "stream",
     "text": [
      "tune_num_leaves, val_score: 0.562758:  85%|########5 | 17/20 [05:27<00:52, 17.44s/it]"
     ]
    },
    {
     "name": "stdout",
     "output_type": "stream",
     "text": [
      "Training until validation scores don't improve for 100 rounds\n",
      "[100]\ttr's binary_logloss: 0.513801\tvl's binary_logloss: 0.563776\n",
      "[200]\ttr's binary_logloss: 0.480584\tvl's binary_logloss: 0.563049\n",
      "Early stopping, best iteration is:\n",
      "[153]\ttr's binary_logloss: 0.494142\tvl's binary_logloss: 0.562781\n"
     ]
    },
    {
     "name": "stderr",
     "output_type": "stream",
     "text": [
      "tune_num_leaves, val_score: 0.562758:  90%|######### | 18/20 [05:44<00:34, 17.22s/it]"
     ]
    },
    {
     "name": "stdout",
     "output_type": "stream",
     "text": [
      "Training until validation scores don't improve for 100 rounds\n",
      "[100]\ttr's binary_logloss: 0.515224\tvl's binary_logloss: 0.563917\n",
      "[200]\ttr's binary_logloss: 0.482343\tvl's binary_logloss: 0.56301\n",
      "Early stopping, best iteration is:\n",
      "[195]\ttr's binary_logloss: 0.483788\tvl's binary_logloss: 0.562908\n"
     ]
    },
    {
     "name": "stderr",
     "output_type": "stream",
     "text": [
      "tune_num_leaves, val_score: 0.562758:  95%|#########5| 19/20 [06:02<00:17, 17.56s/it]"
     ]
    },
    {
     "name": "stdout",
     "output_type": "stream",
     "text": [
      "Training until validation scores don't improve for 100 rounds\n",
      "[100]\ttr's binary_logloss: 0.513801\tvl's binary_logloss: 0.563776\n",
      "[200]\ttr's binary_logloss: 0.480584\tvl's binary_logloss: 0.563049\n",
      "Early stopping, best iteration is:\n",
      "[153]\ttr's binary_logloss: 0.494142\tvl's binary_logloss: 0.562781\n"
     ]
    },
    {
     "name": "stderr",
     "output_type": "stream",
     "text": [
      "tune_num_leaves, val_score: 0.562758: 100%|##########| 20/20 [06:18<00:00, 18.94s/it]\n",
      "tune_bagging_fraction_and_bagging_freq, val_score: 0.562758:   0%|          | 0/10 [00:00<?, ?it/s]"
     ]
    },
    {
     "name": "stdout",
     "output_type": "stream",
     "text": [
      "Training until validation scores don't improve for 100 rounds\n",
      "[100]\ttr's binary_logloss: 0.530086\tvl's binary_logloss: 0.564787\n",
      "[200]\ttr's binary_logloss: 0.505857\tvl's binary_logloss: 0.563655\n",
      "[300]\ttr's binary_logloss: 0.487061\tvl's binary_logloss: 0.563637\n",
      "Early stopping, best iteration is:\n",
      "[262]\ttr's binary_logloss: 0.49402\tvl's binary_logloss: 0.563488\n"
     ]
    },
    {
     "name": "stderr",
     "output_type": "stream",
     "text": [
      "tune_bagging_fraction_and_bagging_freq, val_score: 0.562758:  10%|#         | 1/10 [00:21<03:15, 21.76s/it]"
     ]
    },
    {
     "name": "stdout",
     "output_type": "stream",
     "text": [
      "Training until validation scores don't improve for 100 rounds\n",
      "[100]\ttr's binary_logloss: 0.531208\tvl's binary_logloss: 0.565593\n",
      "[200]\ttr's binary_logloss: 0.50725\tvl's binary_logloss: 0.564079\n",
      "Early stopping, best iteration is:\n",
      "[185]\ttr's binary_logloss: 0.510257\tvl's binary_logloss: 0.563924\n"
     ]
    },
    {
     "name": "stderr",
     "output_type": "stream",
     "text": [
      "tune_bagging_fraction_and_bagging_freq, val_score: 0.562758:  20%|##        | 2/10 [00:39<02:43, 20.41s/it]"
     ]
    },
    {
     "name": "stdout",
     "output_type": "stream",
     "text": [
      "Training until validation scores don't improve for 100 rounds\n",
      "[100]\ttr's binary_logloss: 0.528811\tvl's binary_logloss: 0.564839\n",
      "[200]\ttr's binary_logloss: 0.504832\tvl's binary_logloss: 0.563518\n",
      "[300]\ttr's binary_logloss: 0.487492\tvl's binary_logloss: 0.563546\n",
      "Early stopping, best iteration is:\n",
      "[232]\ttr's binary_logloss: 0.498942\tvl's binary_logloss: 0.563291\n"
     ]
    },
    {
     "name": "stderr",
     "output_type": "stream",
     "text": [
      "tune_bagging_fraction_and_bagging_freq, val_score: 0.562758:  30%|###       | 3/10 [00:58<02:19, 19.99s/it]"
     ]
    },
    {
     "name": "stdout",
     "output_type": "stream",
     "text": [
      "Training until validation scores don't improve for 100 rounds\n",
      "[100]\ttr's binary_logloss: 0.53561\tvl's binary_logloss: 0.566166\n",
      "[200]\ttr's binary_logloss: 0.512119\tvl's binary_logloss: 0.565943\n",
      "Early stopping, best iteration is:\n",
      "[155]\ttr's binary_logloss: 0.522013\tvl's binary_logloss: 0.565652\n"
     ]
    },
    {
     "name": "stderr",
     "output_type": "stream",
     "text": [
      "tune_bagging_fraction_and_bagging_freq, val_score: 0.562758:  40%|####      | 4/10 [01:12<01:49, 18.26s/it]"
     ]
    },
    {
     "name": "stdout",
     "output_type": "stream",
     "text": [
      "Training until validation scores don't improve for 100 rounds\n",
      "[100]\ttr's binary_logloss: 0.536328\tvl's binary_logloss: 0.567561\n",
      "[200]\ttr's binary_logloss: 0.512526\tvl's binary_logloss: 0.566306\n",
      "Early stopping, best iteration is:\n",
      "[183]\ttr's binary_logloss: 0.516079\tvl's binary_logloss: 0.566225\n"
     ]
    },
    {
     "name": "stderr",
     "output_type": "stream",
     "text": [
      "tune_bagging_fraction_and_bagging_freq, val_score: 0.562758:  50%|#####     | 5/10 [01:27<01:27, 17.40s/it]"
     ]
    },
    {
     "name": "stdout",
     "output_type": "stream",
     "text": [
      "Training until validation scores don't improve for 100 rounds\n",
      "[100]\ttr's binary_logloss: 0.53181\tvl's binary_logloss: 0.565138\n",
      "[200]\ttr's binary_logloss: 0.507541\tvl's binary_logloss: 0.563741\n",
      "[300]\ttr's binary_logloss: 0.488297\tvl's binary_logloss: 0.563969\n",
      "Early stopping, best iteration is:\n",
      "[254]\ttr's binary_logloss: 0.496705\tvl's binary_logloss: 0.563531\n"
     ]
    },
    {
     "name": "stderr",
     "output_type": "stream",
     "text": [
      "tune_bagging_fraction_and_bagging_freq, val_score: 0.562758:  60%|######    | 6/10 [01:48<01:13, 18.38s/it]"
     ]
    },
    {
     "name": "stdout",
     "output_type": "stream",
     "text": [
      "Training until validation scores don't improve for 100 rounds\n",
      "[100]\ttr's binary_logloss: 0.534243\tvl's binary_logloss: 0.566336\n",
      "[200]\ttr's binary_logloss: 0.510101\tvl's binary_logloss: 0.565307\n",
      "Early stopping, best iteration is:\n",
      "[162]\ttr's binary_logloss: 0.518386\tvl's binary_logloss: 0.565098\n"
     ]
    },
    {
     "name": "stderr",
     "output_type": "stream",
     "text": [
      "tune_bagging_fraction_and_bagging_freq, val_score: 0.562758:  70%|#######   | 7/10 [02:02<00:51, 17.24s/it]"
     ]
    },
    {
     "name": "stdout",
     "output_type": "stream",
     "text": [
      "Training until validation scores don't improve for 100 rounds\n",
      "[100]\ttr's binary_logloss: 0.536491\tvl's binary_logloss: 0.56775\n",
      "[200]\ttr's binary_logloss: 0.512987\tvl's binary_logloss: 0.567161\n",
      "Early stopping, best iteration is:\n",
      "[194]\ttr's binary_logloss: 0.514273\tvl's binary_logloss: 0.566934\n"
     ]
    },
    {
     "name": "stderr",
     "output_type": "stream",
     "text": [
      "tune_bagging_fraction_and_bagging_freq, val_score: 0.562758:  80%|########  | 8/10 [02:19<00:33, 16.91s/it]"
     ]
    },
    {
     "name": "stdout",
     "output_type": "stream",
     "text": [
      "Training until validation scores don't improve for 100 rounds\n",
      "[100]\ttr's binary_logloss: 0.53639\tvl's binary_logloss: 0.567245\n",
      "[200]\ttr's binary_logloss: 0.512948\tvl's binary_logloss: 0.566267\n",
      "Early stopping, best iteration is:\n",
      "[199]\ttr's binary_logloss: 0.51316\tvl's binary_logloss: 0.566241\n"
     ]
    },
    {
     "name": "stderr",
     "output_type": "stream",
     "text": [
      "tune_bagging_fraction_and_bagging_freq, val_score: 0.562758:  90%|######### | 9/10 [02:33<00:16, 16.03s/it]"
     ]
    },
    {
     "name": "stdout",
     "output_type": "stream",
     "text": [
      "Training until validation scores don't improve for 100 rounds\n",
      "[100]\ttr's binary_logloss: 0.530329\tvl's binary_logloss: 0.565563\n",
      "[200]\ttr's binary_logloss: 0.506157\tvl's binary_logloss: 0.564256\n",
      "Early stopping, best iteration is:\n",
      "[196]\ttr's binary_logloss: 0.507078\tvl's binary_logloss: 0.564141\n"
     ]
    },
    {
     "name": "stderr",
     "output_type": "stream",
     "text": [
      "tune_bagging_fraction_and_bagging_freq, val_score: 0.562758: 100%|##########| 10/10 [02:47<00:00, 16.71s/it]\n",
      "tune_feature_fraction, val_score: 0.562758:   0%|          | 0/3 [00:00<?, ?it/s]"
     ]
    },
    {
     "name": "stdout",
     "output_type": "stream",
     "text": [
      "Training until validation scores don't improve for 100 rounds\n",
      "[100]\ttr's binary_logloss: 0.526894\tvl's binary_logloss: 0.564803\n",
      "[200]\ttr's binary_logloss: 0.501877\tvl's binary_logloss: 0.564134\n",
      "Early stopping, best iteration is:\n",
      "[184]\ttr's binary_logloss: 0.50532\tvl's binary_logloss: 0.563862\n"
     ]
    },
    {
     "name": "stderr",
     "output_type": "stream",
     "text": [
      "tune_feature_fraction, val_score: 0.562758:  33%|###3      | 1/3 [00:11<00:23, 11.60s/it]"
     ]
    },
    {
     "name": "stdout",
     "output_type": "stream",
     "text": [
      "Training until validation scores don't improve for 100 rounds\n",
      "[100]\ttr's binary_logloss: 0.525527\tvl's binary_logloss: 0.5651\n",
      "[200]\ttr's binary_logloss: 0.500203\tvl's binary_logloss: 0.564147\n",
      "[300]\ttr's binary_logloss: 0.480181\tvl's binary_logloss: 0.564447\n",
      "Early stopping, best iteration is:\n",
      "[263]\ttr's binary_logloss: 0.487198\tvl's binary_logloss: 0.563959\n"
     ]
    },
    {
     "name": "stderr",
     "output_type": "stream",
     "text": [
      "tune_feature_fraction, val_score: 0.562758:  67%|######6   | 2/3 [00:26<00:12, 12.46s/it]"
     ]
    },
    {
     "name": "stdout",
     "output_type": "stream",
     "text": [
      "Training until validation scores don't improve for 100 rounds\n",
      "[100]\ttr's binary_logloss: 0.525032\tvl's binary_logloss: 0.564597\n",
      "[200]\ttr's binary_logloss: 0.499589\tvl's binary_logloss: 0.563592\n",
      "Early stopping, best iteration is:\n",
      "[193]\ttr's binary_logloss: 0.501437\tvl's binary_logloss: 0.563474\n"
     ]
    },
    {
     "name": "stderr",
     "output_type": "stream",
     "text": [
      "tune_feature_fraction, val_score: 0.562758: 100%|##########| 3/3 [00:38<00:00, 12.95s/it]\n",
      "tune_lambda_l1_and_lambda_l2, val_score: 0.562758:   0%|          | 0/20 [00:00<?, ?it/s]"
     ]
    },
    {
     "name": "stdout",
     "output_type": "stream",
     "text": [
      "Training until validation scores don't improve for 100 rounds\n",
      "[100]\ttr's binary_logloss: 0.527874\tvl's binary_logloss: 0.564462\n",
      "[200]\ttr's binary_logloss: 0.503101\tvl's binary_logloss: 0.563338\n",
      "[300]\ttr's binary_logloss: 0.48422\tvl's binary_logloss: 0.563283\n",
      "Early stopping, best iteration is:\n",
      "[289]\ttr's binary_logloss: 0.486208\tvl's binary_logloss: 0.563072\n"
     ]
    },
    {
     "name": "stderr",
     "output_type": "stream",
     "text": [
      "tune_lambda_l1_and_lambda_l2, val_score: 0.562758:   5%|5         | 1/20 [00:15<04:47, 15.13s/it]"
     ]
    },
    {
     "name": "stdout",
     "output_type": "stream",
     "text": [
      "Training until validation scores don't improve for 100 rounds\n",
      "[100]\ttr's binary_logloss: 0.527918\tvl's binary_logloss: 0.564576\n",
      "[200]\ttr's binary_logloss: 0.502718\tvl's binary_logloss: 0.563275\n",
      "[300]\ttr's binary_logloss: 0.483049\tvl's binary_logloss: 0.563298\n",
      "Early stopping, best iteration is:\n",
      "[252]\ttr's binary_logloss: 0.492375\tvl's binary_logloss: 0.56307\n"
     ]
    },
    {
     "name": "stderr",
     "output_type": "stream",
     "text": [
      "tune_lambda_l1_and_lambda_l2, val_score: 0.562758:  10%|#         | 2/20 [00:29<04:25, 14.76s/it]"
     ]
    },
    {
     "name": "stdout",
     "output_type": "stream",
     "text": [
      "Training until validation scores don't improve for 100 rounds\n",
      "[100]\ttr's binary_logloss: 0.528796\tvl's binary_logloss: 0.564401\n",
      "[200]\ttr's binary_logloss: 0.504829\tvl's binary_logloss: 0.562969\n",
      "[300]\ttr's binary_logloss: 0.486623\tvl's binary_logloss: 0.562866\n",
      "Early stopping, best iteration is:\n",
      "[261]\ttr's binary_logloss: 0.493574\tvl's binary_logloss: 0.562503\n"
     ]
    },
    {
     "name": "stderr",
     "output_type": "stream",
     "text": [
      "tune_lambda_l1_and_lambda_l2, val_score: 0.562503:  15%|#5        | 3/20 [00:43<04:10, 14.76s/it]"
     ]
    },
    {
     "name": "stdout",
     "output_type": "stream",
     "text": [
      "Training until validation scores don't improve for 100 rounds\n",
      "[100]\ttr's binary_logloss: 0.528322\tvl's binary_logloss: 0.564565\n",
      "[200]\ttr's binary_logloss: 0.502705\tvl's binary_logloss: 0.563051\n",
      "[300]\ttr's binary_logloss: 0.484066\tvl's binary_logloss: 0.56321\n",
      "Early stopping, best iteration is:\n",
      "[244]\ttr's binary_logloss: 0.494173\tvl's binary_logloss: 0.562876\n"
     ]
    },
    {
     "name": "stderr",
     "output_type": "stream",
     "text": [
      "tune_lambda_l1_and_lambda_l2, val_score: 0.562503:  20%|##        | 4/20 [00:57<03:51, 14.45s/it]"
     ]
    },
    {
     "name": "stdout",
     "output_type": "stream",
     "text": [
      "Training until validation scores don't improve for 100 rounds\n",
      "[100]\ttr's binary_logloss: 0.528115\tvl's binary_logloss: 0.564949\n",
      "[200]\ttr's binary_logloss: 0.503067\tvl's binary_logloss: 0.563072\n",
      "[300]\ttr's binary_logloss: 0.483754\tvl's binary_logloss: 0.563279\n",
      "Early stopping, best iteration is:\n",
      "[246]\ttr's binary_logloss: 0.493982\tvl's binary_logloss: 0.563004\n"
     ]
    },
    {
     "name": "stderr",
     "output_type": "stream",
     "text": [
      "tune_lambda_l1_and_lambda_l2, val_score: 0.562503:  25%|##5       | 5/20 [01:11<03:33, 14.25s/it]"
     ]
    },
    {
     "name": "stdout",
     "output_type": "stream",
     "text": [
      "Training until validation scores don't improve for 100 rounds\n",
      "[100]\ttr's binary_logloss: 0.532549\tvl's binary_logloss: 0.565484\n",
      "[200]\ttr's binary_logloss: 0.509138\tvl's binary_logloss: 0.563351\n",
      "[300]\ttr's binary_logloss: 0.493296\tvl's binary_logloss: 0.563668\n",
      "Early stopping, best iteration is:\n",
      "[222]\ttr's binary_logloss: 0.505385\tvl's binary_logloss: 0.563261\n"
     ]
    },
    {
     "name": "stderr",
     "output_type": "stream",
     "text": [
      "tune_lambda_l1_and_lambda_l2, val_score: 0.562503:  30%|###       | 6/20 [01:26<03:22, 14.45s/it]"
     ]
    },
    {
     "name": "stdout",
     "output_type": "stream",
     "text": [
      "Training until validation scores don't improve for 100 rounds\n",
      "[100]\ttr's binary_logloss: 0.52787\tvl's binary_logloss: 0.564517\n",
      "[200]\ttr's binary_logloss: 0.503395\tvl's binary_logloss: 0.563258\n",
      "Early stopping, best iteration is:\n",
      "[185]\ttr's binary_logloss: 0.50613\tvl's binary_logloss: 0.563182\n"
     ]
    },
    {
     "name": "stderr",
     "output_type": "stream",
     "text": [
      "tune_lambda_l1_and_lambda_l2, val_score: 0.562503:  35%|###5      | 7/20 [01:37<02:56, 13.61s/it]"
     ]
    },
    {
     "name": "stdout",
     "output_type": "stream",
     "text": [
      "Training until validation scores don't improve for 100 rounds\n",
      "[100]\ttr's binary_logloss: 0.527932\tvl's binary_logloss: 0.564541\n",
      "[200]\ttr's binary_logloss: 0.502738\tvl's binary_logloss: 0.563081\n",
      "[300]\ttr's binary_logloss: 0.483474\tvl's binary_logloss: 0.563049\n",
      "Early stopping, best iteration is:\n",
      "[245]\ttr's binary_logloss: 0.493901\tvl's binary_logloss: 0.562939\n"
     ]
    },
    {
     "name": "stderr",
     "output_type": "stream",
     "text": [
      "tune_lambda_l1_and_lambda_l2, val_score: 0.562503:  40%|####      | 8/20 [01:51<02:43, 13.59s/it]"
     ]
    },
    {
     "name": "stdout",
     "output_type": "stream",
     "text": [
      "Training until validation scores don't improve for 100 rounds\n",
      "[100]\ttr's binary_logloss: 0.527831\tvl's binary_logloss: 0.564598\n",
      "[200]\ttr's binary_logloss: 0.502576\tvl's binary_logloss: 0.563139\n",
      "[300]\ttr's binary_logloss: 0.482909\tvl's binary_logloss: 0.563\n",
      "[400]\ttr's binary_logloss: 0.465492\tvl's binary_logloss: 0.563178\n",
      "Early stopping, best iteration is:\n",
      "[356]\ttr's binary_logloss: 0.472871\tvl's binary_logloss: 0.562949\n"
     ]
    },
    {
     "name": "stderr",
     "output_type": "stream",
     "text": [
      "tune_lambda_l1_and_lambda_l2, val_score: 0.562503:  45%|####5     | 9/20 [02:08<02:41, 14.67s/it]"
     ]
    },
    {
     "name": "stdout",
     "output_type": "stream",
     "text": [
      "Training until validation scores don't improve for 100 rounds\n",
      "[100]\ttr's binary_logloss: 0.52783\tvl's binary_logloss: 0.564598\n",
      "[200]\ttr's binary_logloss: 0.50223\tvl's binary_logloss: 0.563321\n",
      "[300]\ttr's binary_logloss: 0.482356\tvl's binary_logloss: 0.563194\n",
      "Early stopping, best iteration is:\n",
      "[262]\ttr's binary_logloss: 0.489689\tvl's binary_logloss: 0.562952\n"
     ]
    },
    {
     "name": "stderr",
     "output_type": "stream",
     "text": [
      "tune_lambda_l1_and_lambda_l2, val_score: 0.562503:  50%|#####     | 10/20 [02:22<02:25, 14.53s/it]"
     ]
    },
    {
     "name": "stdout",
     "output_type": "stream",
     "text": [
      "Training until validation scores don't improve for 100 rounds\n",
      "[100]\ttr's binary_logloss: 0.530395\tvl's binary_logloss: 0.565066\n",
      "[200]\ttr's binary_logloss: 0.507288\tvl's binary_logloss: 0.563452\n",
      "[300]\ttr's binary_logloss: 0.49138\tvl's binary_logloss: 0.56346\n",
      "Early stopping, best iteration is:\n",
      "[254]\ttr's binary_logloss: 0.498617\tvl's binary_logloss: 0.563224\n"
     ]
    },
    {
     "name": "stderr",
     "output_type": "stream",
     "text": [
      "tune_lambda_l1_and_lambda_l2, val_score: 0.562503:  55%|#####5    | 11/20 [02:38<02:12, 14.76s/it]"
     ]
    },
    {
     "name": "stdout",
     "output_type": "stream",
     "text": [
      "Training until validation scores don't improve for 100 rounds\n",
      "[100]\ttr's binary_logloss: 0.529524\tvl's binary_logloss: 0.564542\n",
      "[200]\ttr's binary_logloss: 0.505478\tvl's binary_logloss: 0.562918\n",
      "[300]\ttr's binary_logloss: 0.487831\tvl's binary_logloss: 0.562943\n",
      "[400]\ttr's binary_logloss: 0.472351\tvl's binary_logloss: 0.562937\n",
      "Early stopping, best iteration is:\n",
      "[340]\ttr's binary_logloss: 0.481648\tvl's binary_logloss: 0.562745\n"
     ]
    },
    {
     "name": "stderr",
     "output_type": "stream",
     "text": [
      "tune_lambda_l1_and_lambda_l2, val_score: 0.562503:  60%|######    | 12/20 [02:55<02:04, 15.59s/it]"
     ]
    },
    {
     "name": "stdout",
     "output_type": "stream",
     "text": [
      "Training until validation scores don't improve for 100 rounds\n",
      "[100]\ttr's binary_logloss: 0.529584\tvl's binary_logloss: 0.565134\n",
      "[200]\ttr's binary_logloss: 0.506049\tvl's binary_logloss: 0.564021\n",
      "[300]\ttr's binary_logloss: 0.488413\tvl's binary_logloss: 0.563905\n",
      "Early stopping, best iteration is:\n",
      "[261]\ttr's binary_logloss: 0.495107\tvl's binary_logloss: 0.563721\n"
     ]
    },
    {
     "name": "stderr",
     "output_type": "stream",
     "text": [
      "tune_lambda_l1_and_lambda_l2, val_score: 0.562503:  65%|######5   | 13/20 [03:10<01:47, 15.41s/it]"
     ]
    },
    {
     "name": "stdout",
     "output_type": "stream",
     "text": [
      "Training until validation scores don't improve for 100 rounds\n",
      "[100]\ttr's binary_logloss: 0.528133\tvl's binary_logloss: 0.564627\n",
      "[200]\ttr's binary_logloss: 0.503143\tvl's binary_logloss: 0.563405\n",
      "Early stopping, best iteration is:\n",
      "[183]\ttr's binary_logloss: 0.506666\tvl's binary_logloss: 0.563305\n"
     ]
    },
    {
     "name": "stderr",
     "output_type": "stream",
     "text": [
      "tune_lambda_l1_and_lambda_l2, val_score: 0.562503:  70%|#######   | 14/20 [03:22<01:25, 14.32s/it]"
     ]
    },
    {
     "name": "stdout",
     "output_type": "stream",
     "text": [
      "Training until validation scores don't improve for 100 rounds\n",
      "[100]\ttr's binary_logloss: 0.528158\tvl's binary_logloss: 0.564768\n",
      "[200]\ttr's binary_logloss: 0.503091\tvl's binary_logloss: 0.563335\n",
      "[300]\ttr's binary_logloss: 0.483512\tvl's binary_logloss: 0.563357\n",
      "Early stopping, best iteration is:\n",
      "[268]\ttr's binary_logloss: 0.489856\tvl's binary_logloss: 0.563202\n"
     ]
    },
    {
     "name": "stderr",
     "output_type": "stream",
     "text": [
      "tune_lambda_l1_and_lambda_l2, val_score: 0.562503:  75%|#######5  | 15/20 [03:36<01:11, 14.35s/it]"
     ]
    },
    {
     "name": "stdout",
     "output_type": "stream",
     "text": [
      "Training until validation scores don't improve for 100 rounds\n",
      "[100]\ttr's binary_logloss: 0.52904\tvl's binary_logloss: 0.564784\n",
      "[200]\ttr's binary_logloss: 0.505254\tvl's binary_logloss: 0.563359\n",
      "[300]\ttr's binary_logloss: 0.487757\tvl's binary_logloss: 0.563159\n",
      "Early stopping, best iteration is:\n",
      "[266]\ttr's binary_logloss: 0.493741\tvl's binary_logloss: 0.562999\n"
     ]
    },
    {
     "name": "stderr",
     "output_type": "stream",
     "text": [
      "tune_lambda_l1_and_lambda_l2, val_score: 0.562503:  80%|########  | 16/20 [03:52<00:59, 14.78s/it]"
     ]
    },
    {
     "name": "stdout",
     "output_type": "stream",
     "text": [
      "Training until validation scores don't improve for 100 rounds\n",
      "[100]\ttr's binary_logloss: 0.528028\tvl's binary_logloss: 0.564768\n",
      "[200]\ttr's binary_logloss: 0.502946\tvl's binary_logloss: 0.563587\n",
      "[300]\ttr's binary_logloss: 0.483785\tvl's binary_logloss: 0.563337\n",
      "[400]\ttr's binary_logloss: 0.466139\tvl's binary_logloss: 0.563215\n",
      "Early stopping, best iteration is:\n",
      "[377]\ttr's binary_logloss: 0.470373\tvl's binary_logloss: 0.563046\n"
     ]
    },
    {
     "name": "stderr",
     "output_type": "stream",
     "text": [
      "tune_lambda_l1_and_lambda_l2, val_score: 0.562503:  85%|########5 | 17/20 [04:10<00:47, 15.70s/it]"
     ]
    },
    {
     "name": "stdout",
     "output_type": "stream",
     "text": [
      "Training until validation scores don't improve for 100 rounds\n",
      "[100]\ttr's binary_logloss: 0.527888\tvl's binary_logloss: 0.564441\n",
      "[200]\ttr's binary_logloss: 0.502826\tvl's binary_logloss: 0.563204\n",
      "[300]\ttr's binary_logloss: 0.483106\tvl's binary_logloss: 0.56343\n",
      "Early stopping, best iteration is:\n",
      "[222]\ttr's binary_logloss: 0.498341\tvl's binary_logloss: 0.56303\n"
     ]
    },
    {
     "name": "stderr",
     "output_type": "stream",
     "text": [
      "tune_lambda_l1_and_lambda_l2, val_score: 0.562503:  90%|######### | 18/20 [04:23<00:29, 14.90s/it]"
     ]
    },
    {
     "name": "stdout",
     "output_type": "stream",
     "text": [
      "Training until validation scores don't improve for 100 rounds\n",
      "[100]\ttr's binary_logloss: 0.5283\tvl's binary_logloss: 0.564481\n",
      "[200]\ttr's binary_logloss: 0.503859\tvl's binary_logloss: 0.563084\n",
      "[300]\ttr's binary_logloss: 0.484513\tvl's binary_logloss: 0.563121\n",
      "Early stopping, best iteration is:\n",
      "[279]\ttr's binary_logloss: 0.48851\tvl's binary_logloss: 0.562899\n"
     ]
    },
    {
     "name": "stderr",
     "output_type": "stream",
     "text": [
      "tune_lambda_l1_and_lambda_l2, val_score: 0.562503:  95%|#########5| 19/20 [04:38<00:14, 14.95s/it]"
     ]
    },
    {
     "name": "stdout",
     "output_type": "stream",
     "text": [
      "Training until validation scores don't improve for 100 rounds\n",
      "[100]\ttr's binary_logloss: 0.530532\tvl's binary_logloss: 0.565336\n",
      "[200]\ttr's binary_logloss: 0.507928\tvl's binary_logloss: 0.563339\n",
      "Early stopping, best iteration is:\n",
      "[196]\ttr's binary_logloss: 0.508681\tvl's binary_logloss: 0.563316\n"
     ]
    },
    {
     "name": "stderr",
     "output_type": "stream",
     "text": [
      "tune_lambda_l1_and_lambda_l2, val_score: 0.562503: 100%|##########| 20/20 [04:51<00:00, 14.58s/it]\n",
      "tune_min_child_samples, val_score: 0.562503:   0%|          | 0/5 [00:00<?, ?it/s]"
     ]
    },
    {
     "name": "stdout",
     "output_type": "stream",
     "text": [
      "Training until validation scores don't improve for 100 rounds\n",
      "[100]\ttr's binary_logloss: 0.528909\tvl's binary_logloss: 0.564781\n",
      "[200]\ttr's binary_logloss: 0.505212\tvl's binary_logloss: 0.56316\n",
      "[300]\ttr's binary_logloss: 0.487398\tvl's binary_logloss: 0.563199\n",
      "Early stopping, best iteration is:\n",
      "[245]\ttr's binary_logloss: 0.497021\tvl's binary_logloss: 0.562993\n"
     ]
    },
    {
     "name": "stderr",
     "output_type": "stream",
     "text": [
      "tune_min_child_samples, val_score: 0.562503:  20%|##        | 1/5 [00:14<00:56, 14.12s/it]"
     ]
    },
    {
     "name": "stdout",
     "output_type": "stream",
     "text": [
      "Training until validation scores don't improve for 100 rounds\n",
      "[100]\ttr's binary_logloss: 0.52893\tvl's binary_logloss: 0.56444\n",
      "[200]\ttr's binary_logloss: 0.505209\tvl's binary_logloss: 0.562735\n",
      "[300]\ttr's binary_logloss: 0.486838\tvl's binary_logloss: 0.562818\n",
      "Early stopping, best iteration is:\n",
      "[245]\ttr's binary_logloss: 0.497061\tvl's binary_logloss: 0.56238\n"
     ]
    },
    {
     "name": "stderr",
     "output_type": "stream",
     "text": [
      "tune_min_child_samples, val_score: 0.562380:  40%|####      | 2/5 [00:28<00:42, 14.11s/it]"
     ]
    },
    {
     "name": "stdout",
     "output_type": "stream",
     "text": [
      "Training until validation scores don't improve for 100 rounds\n",
      "[100]\ttr's binary_logloss: 0.528914\tvl's binary_logloss: 0.56487\n",
      "[200]\ttr's binary_logloss: 0.505033\tvl's binary_logloss: 0.563218\n",
      "[300]\ttr's binary_logloss: 0.486425\tvl's binary_logloss: 0.563248\n",
      "Early stopping, best iteration is:\n",
      "[245]\ttr's binary_logloss: 0.496905\tvl's binary_logloss: 0.563175\n"
     ]
    },
    {
     "name": "stderr",
     "output_type": "stream",
     "text": [
      "tune_min_child_samples, val_score: 0.562380:  60%|######    | 3/5 [00:42<00:28, 14.10s/it]"
     ]
    },
    {
     "name": "stdout",
     "output_type": "stream",
     "text": [
      "Training until validation scores don't improve for 100 rounds\n",
      "[100]\ttr's binary_logloss: 0.529058\tvl's binary_logloss: 0.564698\n",
      "[200]\ttr's binary_logloss: 0.504687\tvl's binary_logloss: 0.563313\n",
      "[300]\ttr's binary_logloss: 0.486431\tvl's binary_logloss: 0.56335\n",
      "Early stopping, best iteration is:\n",
      "[232]\ttr's binary_logloss: 0.498439\tvl's binary_logloss: 0.563156\n"
     ]
    },
    {
     "name": "stderr",
     "output_type": "stream",
     "text": [
      "tune_min_child_samples, val_score: 0.562380:  80%|########  | 4/5 [00:56<00:14, 14.02s/it]"
     ]
    },
    {
     "name": "stdout",
     "output_type": "stream",
     "text": [
      "Training until validation scores don't improve for 100 rounds\n",
      "[100]\ttr's binary_logloss: 0.529589\tvl's binary_logloss: 0.564866\n",
      "[200]\ttr's binary_logloss: 0.505296\tvl's binary_logloss: 0.563393\n",
      "Early stopping, best iteration is:\n",
      "[194]\ttr's binary_logloss: 0.506539\tvl's binary_logloss: 0.563307\n"
     ]
    },
    {
     "name": "stderr",
     "output_type": "stream",
     "text": [
      "tune_min_child_samples, val_score: 0.562380: 100%|##########| 5/5 [01:08<00:00, 13.78s/it]\n"
     ]
    },
    {
     "name": "stdout",
     "output_type": "stream",
     "text": [
      "CPU times: user 1h 49min 6s, sys: 2h 47min 29s, total: 4h 36min 36s\n",
      "Wall time: 17min 55s\n"
     ]
    }
   ],
   "source": [
    "%%time\n",
    "dtr = lgb.Dataset(dftr[cols_feat], label=dftr[TCOL])\n",
    "dvl = lgb.Dataset(dfvl[cols_feat], label=dfvl[TCOL])\n",
    "best_params, tuning_history = {}, []\n",
    "evalres = {}\n",
    "evallist = [(dtr, 'train'), (dvl, 'eval')]\n",
    "bst = lgb.train(params=params, \n",
    "                train_set=dtr, \n",
    "                num_boost_round=50000,\n",
    "                valid_sets=[dtr, dvl],\n",
    "                valid_names=['tr','vl'],\n",
    "                best_params=best_params,\n",
    "                tuning_history=tuning_history,\n",
    "                verbose_eval=100,\n",
    "                early_stopping_rounds=100,\n",
    "                evals_result=evalres,\n",
    "               )\n",
    "results['bst'] = bst\n",
    "results['evalres'] = evalres\n",
    "results['best_params']=best_params\n",
    "results['tuning_history']=tuning_history"
   ]
  },
  {
   "cell_type": "markdown",
   "metadata": {},
   "source": [
    "## best_params"
   ]
  },
  {
   "cell_type": "code",
   "execution_count": 20,
   "metadata": {},
   "outputs": [
    {
     "data": {
      "text/plain": [
       "{'lambda_l1': 1.2554773572331199e-05,\n",
       " 'lambda_l2': 2.0766870257546004,\n",
       " 'num_leaves': 163,\n",
       " 'feature_fraction': 0.4,\n",
       " 'bagging_fraction': 1.0,\n",
       " 'bagging_freq': 0,\n",
       " 'min_child_samples': 10}"
      ]
     },
     "execution_count": 20,
     "metadata": {},
     "output_type": "execute_result"
    }
   ],
   "source": [
    "best_params"
   ]
  },
  {
   "cell_type": "markdown",
   "metadata": {},
   "source": [
    "## tr vl trajec"
   ]
  },
  {
   "cell_type": "code",
   "execution_count": 21,
   "metadata": {},
   "outputs": [
    {
     "data": {
      "image/png": "[encoded data removed]",
      "text/plain": [
       "<Figure size 432x288 with 1 Axes>"
      ]
     },
     "metadata": {
      "needs_background": "light"
     },
     "output_type": "display_data"
    }
   ],
   "source": [
    "plt.plot(evalres['tr']['binary_logloss'])\n",
    "plt.plot(evalres['vl']['binary_logloss'])\n",
    "plt.title(f\"logloss; best_iteration {bst.best_iteration}\")\n",
    "plt.show()"
   ]
  },
  {
   "cell_type": "markdown",
   "metadata": {},
   "source": [
    "## model features"
   ]
  },
  {
   "cell_type": "code",
   "execution_count": 22,
   "metadata": {
    "scrolled": true
   },
   "outputs": [
    {
     "data": {
      "image/png": "[encoded data removed]",
      "text/plain": [
       "<Figure size 720x1080 with 1 Axes>"
      ]
     },
     "metadata": {
      "needs_background": "light"
     },
     "output_type": "display_data"
    }
   ],
   "source": [
    "ax = lgb.plot_importance(bst, height=0.8, max_num_features=50, figsize=(10,15))\n",
    "ax.grid(False, axis=\"y\")\n",
    "ax.set_title(f'Estimated feature importance')\n",
    "plt.show()"
   ]
  },
  {
   "cell_type": "code",
   "execution_count": 23,
   "metadata": {},
   "outputs": [
    {
     "data": {
      "text/html": [
       "<div>\n",
       "<style scoped>\n",
       "    .dataframe tbody tr th:only-of-type {\n",
       "        vertical-align: middle;\n",
       "    }\n",
       "\n",
       "    .dataframe tbody tr th {\n",
       "        vertical-align: top;\n",
       "    }\n",
       "\n",
       "    .dataframe thead th {\n",
       "        text-align: right;\n",
       "    }\n",
       "</style>\n",
       "<table border=\"1\" class=\"dataframe\">\n",
       "  <thead>\n",
       "    <tr style=\"text-align: right;\">\n",
       "      <th></th>\n",
       "      <th>0</th>\n",
       "      <th>1</th>\n",
       "    </tr>\n",
       "  </thead>\n",
       "  <tbody>\n",
       "    <tr>\n",
       "      <th>28</th>\n",
       "      <td>langhour</td>\n",
       "      <td>4212</td>\n",
       "    </tr>\n",
       "    <tr>\n",
       "      <th>26</th>\n",
       "      <td>u1_fllwer_cnt_by_age</td>\n",
       "      <td>2334</td>\n",
       "    </tr>\n",
       "    <tr>\n",
       "      <th>5</th>\n",
       "      <td>u2_fllwer_cnt</td>\n",
       "      <td>2158</td>\n",
       "    </tr>\n",
       "    <tr>\n",
       "      <th>3</th>\n",
       "      <td>u1_fllwing_cnt</td>\n",
       "      <td>2151</td>\n",
       "    </tr>\n",
       "    <tr>\n",
       "      <th>6</th>\n",
       "      <td>u2_fllwng_cnt</td>\n",
       "      <td>2148</td>\n",
       "    </tr>\n",
       "    <tr>\n",
       "      <th>20</th>\n",
       "      <td>tmdlta_u2u1</td>\n",
       "      <td>2119</td>\n",
       "    </tr>\n",
       "    <tr>\n",
       "      <th>25</th>\n",
       "      <td>u2_age</td>\n",
       "      <td>2033</td>\n",
       "    </tr>\n",
       "    <tr>\n",
       "      <th>2</th>\n",
       "      <td>u1_fllwer_cnt</td>\n",
       "      <td>2018</td>\n",
       "    </tr>\n",
       "    <tr>\n",
       "      <th>27</th>\n",
       "      <td>u1_fllwng_cnt_by_age</td>\n",
       "      <td>2018</td>\n",
       "    </tr>\n",
       "    <tr>\n",
       "      <th>11</th>\n",
       "      <td>len_toks</td>\n",
       "      <td>1932</td>\n",
       "    </tr>\n",
       "    <tr>\n",
       "      <th>23</th>\n",
       "      <td>twt_age</td>\n",
       "      <td>1930</td>\n",
       "    </tr>\n",
       "    <tr>\n",
       "      <th>21</th>\n",
       "      <td>tmdlta_twtu1</td>\n",
       "      <td>1709</td>\n",
       "    </tr>\n",
       "    <tr>\n",
       "      <th>24</th>\n",
       "      <td>u1_age</td>\n",
       "      <td>1678</td>\n",
       "    </tr>\n",
       "    <tr>\n",
       "      <th>22</th>\n",
       "      <td>tmdlta_twtu2</td>\n",
       "      <td>1624</td>\n",
       "    </tr>\n",
       "    <tr>\n",
       "      <th>30</th>\n",
       "      <td>frq_u1id</td>\n",
       "      <td>1365</td>\n",
       "    </tr>\n",
       "    <tr>\n",
       "      <th>1</th>\n",
       "      <td>lang</td>\n",
       "      <td>1323</td>\n",
       "    </tr>\n",
       "    <tr>\n",
       "      <th>19</th>\n",
       "      <td>hour</td>\n",
       "      <td>782</td>\n",
       "    </tr>\n",
       "    <tr>\n",
       "      <th>33</th>\n",
       "      <td>maxfrq_hshtgs</td>\n",
       "      <td>762</td>\n",
       "    </tr>\n",
       "    <tr>\n",
       "      <th>31</th>\n",
       "      <td>frq_u2id</td>\n",
       "      <td>745</td>\n",
       "    </tr>\n",
       "    <tr>\n",
       "      <th>34</th>\n",
       "      <td>maxfrq_domns</td>\n",
       "      <td>655</td>\n",
       "    </tr>\n",
       "    <tr>\n",
       "      <th>35</th>\n",
       "      <td>tgtenc_lang</td>\n",
       "      <td>624</td>\n",
       "    </tr>\n",
       "    <tr>\n",
       "      <th>29</th>\n",
       "      <td>frq_twtid</td>\n",
       "      <td>453</td>\n",
       "    </tr>\n",
       "    <tr>\n",
       "      <th>18</th>\n",
       "      <td>dayofweek</td>\n",
       "      <td>452</td>\n",
       "    </tr>\n",
       "    <tr>\n",
       "      <th>0</th>\n",
       "      <td>twttyp</td>\n",
       "      <td>424</td>\n",
       "    </tr>\n",
       "    <tr>\n",
       "      <th>15</th>\n",
       "      <td>n_hshtgs</td>\n",
       "      <td>412</td>\n",
       "    </tr>\n",
       "    <tr>\n",
       "      <th>12</th>\n",
       "      <td>n_media_Photo</td>\n",
       "      <td>365</td>\n",
       "    </tr>\n",
       "    <tr>\n",
       "      <th>16</th>\n",
       "      <td>n_media</td>\n",
       "      <td>349</td>\n",
       "    </tr>\n",
       "    <tr>\n",
       "      <th>8</th>\n",
       "      <td>u1_fllw_u2</td>\n",
       "      <td>207</td>\n",
       "    </tr>\n",
       "    <tr>\n",
       "      <th>13</th>\n",
       "      <td>n_media_Video</td>\n",
       "      <td>175</td>\n",
       "    </tr>\n",
       "    <tr>\n",
       "      <th>4</th>\n",
       "      <td>u1_vrfed</td>\n",
       "      <td>144</td>\n",
       "    </tr>\n",
       "    <tr>\n",
       "      <th>17</th>\n",
       "      <td>n_domns</td>\n",
       "      <td>142</td>\n",
       "    </tr>\n",
       "    <tr>\n",
       "      <th>32</th>\n",
       "      <td>frq_u1u2</td>\n",
       "      <td>108</td>\n",
       "    </tr>\n",
       "    <tr>\n",
       "      <th>14</th>\n",
       "      <td>n_media_GIF</td>\n",
       "      <td>46</td>\n",
       "    </tr>\n",
       "    <tr>\n",
       "      <th>9</th>\n",
       "      <td>u1inu2</td>\n",
       "      <td>42</td>\n",
       "    </tr>\n",
       "    <tr>\n",
       "      <th>10</th>\n",
       "      <td>u2inu1</td>\n",
       "      <td>41</td>\n",
       "    </tr>\n",
       "    <tr>\n",
       "      <th>7</th>\n",
       "      <td>u2_vrfed</td>\n",
       "      <td>10</td>\n",
       "    </tr>\n",
       "  </tbody>\n",
       "</table>\n",
       "</div>"
      ],
      "text/plain": [
       "                       0     1\n",
       "28              langhour  4212\n",
       "26  u1_fllwer_cnt_by_age  2334\n",
       "5          u2_fllwer_cnt  2158\n",
       "3         u1_fllwing_cnt  2151\n",
       "6          u2_fllwng_cnt  2148\n",
       "20           tmdlta_u2u1  2119\n",
       "25                u2_age  2033\n",
       "2          u1_fllwer_cnt  2018\n",
       "27  u1_fllwng_cnt_by_age  2018\n",
       "11              len_toks  1932\n",
       "23               twt_age  1930\n",
       "21          tmdlta_twtu1  1709\n",
       "24                u1_age  1678\n",
       "22          tmdlta_twtu2  1624\n",
       "30              frq_u1id  1365\n",
       "1                   lang  1323\n",
       "19                  hour   782\n",
       "33         maxfrq_hshtgs   762\n",
       "31              frq_u2id   745\n",
       "34          maxfrq_domns   655\n",
       "35           tgtenc_lang   624\n",
       "29             frq_twtid   453\n",
       "18             dayofweek   452\n",
       "0                 twttyp   424\n",
       "15              n_hshtgs   412\n",
       "12         n_media_Photo   365\n",
       "16               n_media   349\n",
       "8             u1_fllw_u2   207\n",
       "13         n_media_Video   175\n",
       "4               u1_vrfed   144\n",
       "17               n_domns   142\n",
       "32              frq_u1u2   108\n",
       "14           n_media_GIF    46\n",
       "9                 u1inu2    42\n",
       "10                u2inu1    41\n",
       "7               u2_vrfed    10"
      ]
     },
     "execution_count": 23,
     "metadata": {},
     "output_type": "execute_result"
    }
   ],
   "source": [
    "pd.DataFrame([bst.feature_name(), bst.feature_importance()]).T.sort_values(1, ascending=False)"
   ]
  },
  {
   "cell_type": "code",
   "execution_count": 24,
   "metadata": {},
   "outputs": [
    {
     "data": {
      "text/plain": [
       "[('langhour', 4212),\n",
       " ('u1_fllwer_cnt_by_age', 2334),\n",
       " ('u2_fllwer_cnt', 2158),\n",
       " ('u1_fllwing_cnt', 2151),\n",
       " ('u2_fllwng_cnt', 2148),\n",
       " ('tmdlta_u2u1', 2119),\n",
       " ('u2_age', 2033),\n",
       " ('u1_fllwer_cnt', 2018),\n",
       " ('u1_fllwng_cnt_by_age', 2018),\n",
       " ('len_toks', 1932),\n",
       " ('twt_age', 1930),\n",
       " ('tmdlta_twtu1', 1709),\n",
       " ('u1_age', 1678),\n",
       " ('tmdlta_twtu2', 1624),\n",
       " ('frq_u1id', 1365),\n",
       " ('lang', 1323),\n",
       " ('hour', 782),\n",
       " ('maxfrq_hshtgs', 762),\n",
       " ('frq_u2id', 745),\n",
       " ('maxfrq_domns', 655),\n",
       " ('tgtenc_lang', 624),\n",
       " ('frq_twtid', 453),\n",
       " ('dayofweek', 452),\n",
       " ('twttyp', 424),\n",
       " ('n_hshtgs', 412),\n",
       " ('n_media_Photo', 365),\n",
       " ('n_media', 349),\n",
       " ('u1_fllw_u2', 207),\n",
       " ('n_media_Video', 175),\n",
       " ('u1_vrfed', 144),\n",
       " ('n_domns', 142),\n",
       " ('frq_u1u2', 108),\n",
       " ('n_media_GIF', 46),\n",
       " ('u1inu2', 42),\n",
       " ('u2inu1', 41),\n",
       " ('u2_vrfed', 10)]"
      ]
     },
     "execution_count": 24,
     "metadata": {},
     "output_type": "execute_result"
    }
   ],
   "source": [
    "col2imp = dict(zip(bst.feature_name(), bst.feature_importance()))\n",
    "sorted(col2imp.items(), key=lambda x: -x[1])"
   ]
  },
  {
   "cell_type": "code",
   "execution_count": 25,
   "metadata": {},
   "outputs": [
    {
     "data": {
      "text/plain": [
       "['langhour',\n",
       " 'u1_fllwer_cnt_by_age',\n",
       " 'u2_fllwer_cnt',\n",
       " 'u1_fllwing_cnt',\n",
       " 'u2_fllwng_cnt',\n",
       " 'tmdlta_u2u1',\n",
       " 'u2_age',\n",
       " 'u1_fllwer_cnt',\n",
       " 'u1_fllwng_cnt_by_age',\n",
       " 'len_toks',\n",
       " 'twt_age',\n",
       " 'tmdlta_twtu1',\n",
       " 'u1_age',\n",
       " 'tmdlta_twtu2',\n",
       " 'frq_u1id',\n",
       " 'lang',\n",
       " 'hour',\n",
       " 'maxfrq_hshtgs',\n",
       " 'frq_u2id',\n",
       " 'maxfrq_domns',\n",
       " 'tgtenc_lang',\n",
       " 'frq_twtid',\n",
       " 'dayofweek',\n",
       " 'twttyp',\n",
       " 'n_hshtgs',\n",
       " 'n_media_Photo',\n",
       " 'n_media',\n",
       " 'u1_fllw_u2',\n",
       " 'n_media_Video',\n",
       " 'u1_vrfed',\n",
       " 'n_domns',\n",
       " 'frq_u1u2',\n",
       " 'n_media_GIF',\n",
       " 'u1inu2',\n",
       " 'u2inu1',\n",
       " 'u2_vrfed']"
      ]
     },
     "execution_count": 25,
     "metadata": {},
     "output_type": "execute_result"
    }
   ],
   "source": [
    "[o[0] for o in sorted(col2imp.items(), key=lambda x: -x[1]) if o[1]>0]"
   ]
  },
  {
   "cell_type": "code",
   "execution_count": null,
   "metadata": {},
   "outputs": [],
   "source": []
  },
  {
   "cell_type": "markdown",
   "metadata": {},
   "source": [
    "# eval"
   ]
  },
  {
   "cell_type": "code",
   "execution_count": 26,
   "metadata": {},
   "outputs": [
    {
     "name": "stdout",
     "output_type": "stream",
     "text": [
      "CPU times: user 1min 11s, sys: 8.18 s, total: 1min 19s\n",
      "Wall time: 8.02 s\n"
     ]
    }
   ],
   "source": [
    "%%time\n",
    "prdtr = bst.predict(dftr[cols_feat],num_iteration=bst.best_iteration)\n",
    "prdvl = bst.predict(dfvl[cols_feat],num_iteration=bst.best_iteration)\n",
    "prdval0 = bst.predict(dfval[cols_feat],num_iteration=bst.best_iteration)\n",
    "prdval = calibration(prdval0, train_pop, target_pop, sampled_train_pop, sampled_target_pop)"
   ]
  },
  {
   "cell_type": "code",
   "execution_count": 27,
   "metadata": {},
   "outputs": [
    {
     "name": "stdout",
     "output_type": "stream",
     "text": [
      "CPU times: user 3.17 s, sys: 238 ms, total: 3.4 s\n",
      "Wall time: 3.08 s\n"
     ]
    }
   ],
   "source": [
    "%%time\n",
    "ytr,yvl,yval=[df[TCOL].values for df in (dftr,dfvl,dfval)]\n",
    "\n",
    "auc_tr=compute_prauc(prdtr, ytr)\n",
    "rce_tr=compute_rce(prdtr, ytr)\n",
    "auc_vl=compute_prauc(prdvl, yvl)\n",
    "rce_vl=compute_rce(prdvl, yvl)\n",
    "auc_val=compute_prauc(prdval, yval)\n",
    "rce_val=compute_rce(prdval, yval)\n",
    "\n",
    "results['scrs'] = {}\n",
    "results['scrs']['auc_tr']=auc_tr\n",
    "results['scrs']['rce_tr']=rce_tr\n",
    "results['scrs']['auc_vl']=auc_vl\n",
    "results['scrs']['rce_vl']=rce_vl\n",
    "results['scrs']['auc_val']=auc_val\n",
    "results['scrs']['rce_val']=rce_val"
   ]
  },
  {
   "cell_type": "code",
   "execution_count": 28,
   "metadata": {},
   "outputs": [
    {
     "name": "stdout",
     "output_type": "stream",
     "text": [
      "auc_tr:  0.8127\n",
      "auc_vl:  0.7318\n",
      "auc_val: 0.7250\n",
      "\n",
      "rce_tr:  27.4943\n",
      "rce_vl:  17.9988\n",
      "rce_val: 17.4247\n"
     ]
    }
   ],
   "source": [
    "print(f'auc_tr:  {auc_tr:.4f}')\n",
    "print(f'auc_vl:  {auc_vl:.4f}')\n",
    "print(f'auc_val: {auc_val:.4f}')\n",
    "print()\n",
    "print(f'rce_tr:  {rce_tr:.4f}')\n",
    "print(f'rce_vl:  {rce_vl:.4f}')\n",
    "print(f'rce_val: {rce_val:.4f}')"
   ]
  },
  {
   "cell_type": "markdown",
   "metadata": {},
   "source": [
    "## score"
   ]
  },
  {
   "cell_type": "code",
   "execution_count": 29,
   "metadata": {},
   "outputs": [
    {
     "name": "stdout",
     "output_type": "stream",
     "text": [
      "-0.7250-17.4247\n"
     ]
    }
   ],
   "source": [
    "print(f'-{auc_val:.4f}-{rce_val:.4f}')"
   ]
  },
  {
   "cell_type": "markdown",
   "metadata": {},
   "source": [
    "# save results"
   ]
  },
  {
   "cell_type": "code",
   "execution_count": 30,
   "metadata": {},
   "outputs": [],
   "source": [
    "pickle.dump(results, open(f'{p_out}/results_{PRFX}.p', 'wb'))"
   ]
  },
  {
   "cell_type": "markdown",
   "metadata": {},
   "source": [
    "# infer"
   ]
  },
  {
   "cell_type": "code",
   "execution_count": 31,
   "metadata": {},
   "outputs": [],
   "source": [
    "results = pickle.load( open(f'{p_out}/results_{PRFX}.p', 'rb'))\n",
    "bst = results['bst']\n",
    "col2tgtenc = results['col2tgtenc']\n",
    "cols_feat = results['cols_feat']\n",
    "tgt_encoder = results['tgt_encoder']"
   ]
  },
  {
   "cell_type": "markdown",
   "metadata": {},
   "source": [
    "## prep"
   ]
  },
  {
   "cell_type": "code",
   "execution_count": 32,
   "metadata": {},
   "outputs": [
    {
     "name": "stdout",
     "output_type": "stream",
     "text": [
      "CPU times: user 36.5 ms, sys: 93.4 ms, total: 130 ms\n",
      "Wall time: 8.66 ms\n"
     ]
    }
   ],
   "source": [
    "%%time\n",
    "dftst=pd.read_csv(\n",
    "    f'{p_in}/val_{tsttmstmp}.tsv',\n",
    "    sep='\\x01', header=None, names=cols_val, \n",
    "    nrows=10\n",
    ")"
   ]
  },
  {
   "cell_type": "code",
   "execution_count": 33,
   "metadata": {
    "scrolled": true
   },
   "outputs": [
    {
     "name": "stdout",
     "output_type": "stream",
     "text": [
      "2020-04-11 23:16:06 start\n",
      "2020-04-11 23:16:06 freq of columns using CountEncoder\n"
     ]
    },
    {
     "name": "stderr",
     "output_type": "stream",
     "text": [
      "/data/anaconda3/envs/rcss20/lib/python3.7/site-packages/category_encoders/count.py:255: FutureWarning: The pandas.np module is deprecated and will be removed from pandas in a future version. Import numpy directly instead\n",
      "  X.loc[:, self.cols] = X.fillna(value=pd.np.nan)\n"
     ]
    },
    {
     "name": "stdout",
     "output_type": "stream",
     "text": [
      "2020-04-11 23:16:06 freq of tags\n",
      "2020-04-11 23:16:06 done\n",
      "CPU times: user 215 ms, sys: 406 ms, total: 620 ms\n",
      "Wall time: 142 ms\n"
     ]
    }
   ],
   "source": [
    "%%time\n",
    "dftst=prp_df(dftst, tm_max=tm_tst_max)"
   ]
  },
  {
   "cell_type": "code",
   "execution_count": 34,
   "metadata": {},
   "outputs": [],
   "source": [
    "encoded_tst = tgt_encoder.transform(dftst[col2tgtenc].astype(object))\n",
    "tgtenc_columns = [f'tgtenc_{col}' for col in encoded_tst.columns]\n",
    "encoded_tst.columns = tgtenc_columns\n",
    "dftst = pd.concat([dftst, encoded_tst], 1)\n",
    "dftst.drop(columns=['u1id','u1u2'], inplace=True)\n",
    "cols_category=['twttyp', 'lang', 'langhour']\n",
    "dftst[cols_category]=dftst[cols_category].astype('category')"
   ]
  },
  {
   "cell_type": "markdown",
   "metadata": {},
   "source": [
    "## predict"
   ]
  },
  {
   "cell_type": "code",
   "execution_count": 35,
   "metadata": {},
   "outputs": [
    {
     "name": "stdout",
     "output_type": "stream",
     "text": [
      "CPU times: user 27.8 ms, sys: 1.38 ms, total: 29.2 ms\n",
      "Wall time: 20.6 ms\n"
     ]
    }
   ],
   "source": [
    "%%time\n",
    "prdtst0 = bst.predict(dftst[cols_feat],num_iteration=bst.best_iteration)\n",
    "prdtst = calibration(prdtst0, train_pop, target_pop, sampled_train_pop, sampled_target_pop)"
   ]
  },
  {
   "cell_type": "code",
   "execution_count": 36,
   "metadata": {},
   "outputs": [],
   "source": [
    "dfsub_ids = dftst[['twtid','u2id',]]\n",
    "dfsub = dfsub_ids.copy()\n",
    "dfsub['scr'] = prdtst\n",
    "dfsub.to_csv(f'{p_out}/{TGT}__{PRFX}.csv',index=False,header=False)"
   ]
  },
  {
   "cell_type": "code",
   "execution_count": null,
   "metadata": {},
   "outputs": [],
   "source": []
  },
  {
   "cell_type": "code",
   "execution_count": null,
   "metadata": {},
   "outputs": [],
   "source": []
  },
  {
   "cell_type": "code",
   "execution_count": null,
   "metadata": {},
   "outputs": [],
   "source": []
  }
 ],
 "metadata": {
  "kernelspec": {
   "display_name": "rcss20",
   "language": "python",
   "name": "rcss20"
  },
  "language_info": {
   "codemirror_mode": {
    "name": "ipython",
    "version": 3
   },
   "file_extension": ".py",
   "mimetype": "text/x-python",
   "name": "python",
   "nbconvert_exporter": "python",
   "pygments_lexer": "ipython3",
   "version": "3.7.6"
  },
  "toc": {
   "base_numbering": 1,
   "nav_menu": {},
   "number_sections": true,
   "sideBar": true,
   "skip_h1_title": false,
   "title_cell": "Table of Contents",
   "title_sidebar": "Contents",
   "toc_cell": false,
   "toc_position": {},
   "toc_section_display": true,
   "toc_window_display": true
  }
 },
 "nbformat": 4,
 "nbformat_minor": 4
}
