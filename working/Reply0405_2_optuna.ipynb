{
 "cells": [
  {
   "cell_type": "markdown",
   "metadata": {},
   "source": [
    "# start"
   ]
  },
  {
   "cell_type": "markdown",
   "metadata": {},
   "source": [
    "- http://localhost:8081/notebooks/git/recsys20/working/0324_6_3_lgb_feat_engr-1e7.ipynb\n",
    "- http://localhost:8081/notebooks/git/recsys20/working/mdl0404_1__xgb_mean_encode.ipynb\n",
    "- http://localhost:8081/notebooks/git/recsys20/working/eda_0404_1.ipynb#v.s.-target\n",
    "- https://www.kaggle.com/discdiver/category-encoders-examples"
   ]
  },
  {
   "cell_type": "code",
   "execution_count": 1,
   "metadata": {},
   "outputs": [
    {
     "name": "stdout",
     "output_type": "stream",
     "text": [
      "train_total 148,075,238, test_total 14,000,000\n",
      "['2020-03-17 02:32:24', '2020-04-06 00:35:47']\n",
      "['2020-02-06 00:00:00', '2020-02-12 23:59:59']\n",
      "['2020-02-13 00:00:00', '2020-02-19 23:59:59']\n"
     ]
    }
   ],
   "source": [
    "TGT='Reply'\n",
    "PRFX='Reply0405_2'\n",
    "\n",
    "trntmstmp=1584412344\n",
    "tsttmstmp=1586133347\n",
    "\n",
    "tm_trn_min,tm_trn_max=(1580947200, 1581551999)\n",
    "tm_tst_min,tm_tst_max=(1581552000, 1582156799)\n",
    "\n",
    "SEED=101\n",
    "\n",
    "valsz = int(1e5)#int(1e5)\n",
    "trnsz = int(1e6)#int(5e5)\n",
    "\n",
    "train_total=148075238\n",
    "test_total=int(1.4e7)\n",
    "print(f'train_total {train_total:,}, test_total {test_total:,}')\n",
    "\n",
    "\n",
    "import datetime\n",
    "def showtm(tm): return datetime.datetime.fromtimestamp(tm).strftime('%Y-%m-%d %H:%M:%S')\n",
    "print([showtm(tm) for tm in (trntmstmp, tsttmstmp)])\n",
    "print([showtm(tm) for tm in (tm_trn_min,tm_trn_max)])\n",
    "print([showtm(tm) for tm in (tm_tst_min,tm_tst_max)])"
   ]
  },
  {
   "cell_type": "markdown",
   "metadata": {},
   "source": [
    "# setup"
   ]
  },
  {
   "cell_type": "code",
   "execution_count": 2,
   "metadata": {},
   "outputs": [
    {
     "name": "stdout",
     "output_type": "stream",
     "text": [
      "TCOL reply\n",
      "{'Retweet': 'retwt', 'Reply': 'reply', 'Like': 'like', 'RTwCmnt': 'retwt_cmmnt'}\n"
     ]
    }
   ],
   "source": [
    "from tqdm import tqdm\n",
    "import time\n",
    "from pathlib import Path\n",
    "from collections import Counter,defaultdict\n",
    "from sklearn.model_selection import train_test_split\n",
    "import pandas as pd\n",
    "import numpy as np\n",
    "import matplotlib.pyplot as plt\n",
    "from sklearn.metrics import accuracy_score, roc_auc_score, roc_curve, auc, precision_recall_curve\n",
    "import pickle\n",
    "# import xgboost as xgb\n",
    "# import lightgbm as lgb\n",
    "import category_encoders as ce\n",
    "import gc\n",
    "\n",
    "import optuna\n",
    "# optuna.logging.CRITICAL, optuna.logging.FATAL\n",
    "# optuna.logging.ERROR\n",
    "# optuna.logging.WARNING, optuna.logging.WARN\n",
    "# optuna.logging.INFO\n",
    "# optuna.logging.DEBUG\n",
    "optuna.logging.set_verbosity(optuna.logging.ERROR)\n",
    "import optuna.integration.lightgbm as lgb\n",
    "optuna.logging.set_verbosity(optuna.logging.ERROR)\n",
    "\n",
    "\n",
    "pd.set_option('display.max_rows', 500)\n",
    "pd.set_option('display.max_columns', 500)\n",
    "\n",
    "\n",
    "import datetime\n",
    "def dtnow(): return datetime.datetime.now().strftime('%Y-%m-%d %H:%M:%S')\n",
    "\n",
    "def iou(s1,s2):\n",
    "    return len(s1&s2) / len(s1|s2)\n",
    "\n",
    "HOME='/data/git/recsys20'\n",
    "p_in=f'{HOME}/input'\n",
    "p_out=f'{HOME}/output/{PRFX}'\n",
    "Path(p_out).mkdir(exist_ok=True, parents=True)\n",
    "\n",
    "from sklearn.metrics import precision_recall_curve, auc, log_loss\n",
    "\n",
    "def compute_prauc(pred, gt):\n",
    "    prec, recall, thresh = precision_recall_curve(gt, pred)\n",
    "    prauc = auc(recall, prec)\n",
    "    return prauc\n",
    "\n",
    "def calculate_ctr(gt):\n",
    "    positive = len([x for x in gt if x == 1])\n",
    "    ctr = positive/float(len(gt))\n",
    "    return ctr\n",
    "\n",
    "def compute_rce(pred, gt):\n",
    "    cross_entropy = log_loss(gt, pred)\n",
    "    data_ctr = calculate_ctr(gt)\n",
    "    strawman_cross_entropy = log_loss(gt, [data_ctr for _ in range(len(gt))])\n",
    "    return (1.0 - cross_entropy/strawman_cross_entropy)*100.0\n",
    "\n",
    "# https://towardsdatascience.com/how-to-calibrate-undersampled-model-scores-8f3319c1ea5b\n",
    "# How to use the function?\n",
    "# Let’s say your goal is to generate a model that shows the credit default probabilities and your original \n",
    "# training data has 50,000 rows with only 500 of them labeled as target class. When you sample your non-target \n",
    "# instances randomly and reduce the total row count to 10,000, while conserving 500 target rows, our calibration\n",
    "# function becomes:\n",
    "# calibration(model_results, 50000, 500, 10000, 500)\n",
    "# Here model_results is your model probability output array. After you train your model and put the results in it, your function is ready to use. \n",
    "def calibration(data, train_pop, target_pop, sampled_train_pop, sampled_target_pop):\n",
    "    calibrated_data = ((data * (target_pop / train_pop) / (sampled_target_pop / sampled_train_pop)) /\n",
    "    (((1 - data) * (1 - target_pop / train_pop) / (1 - sampled_target_pop / sampled_train_pop)) +\n",
    "     (data * (target_pop / train_pop) / (sampled_target_pop / sampled_train_pop))))\n",
    "    return calibrated_data\n",
    "\n",
    "\n",
    "cols=['toks','hshtgs','twtid','media','links','domns','twttyp','lang','tm','u1id','u1_fllwer_cnt','u1_fllwing_cnt','u1_vrfed','u1_create_tm','u2id','u2_fllwer_cnt','u2_fllwng_cnt','u2_vrfed','u2_create_tm','u1_fllw_u2','reply_tm','retwt_tm','retwt_cmmnt_tm','like_tm',]\n",
    "\n",
    "cols_val = cols[:-4]\n",
    "cols_tgt_tmstmp=[ 'retwt_tm', 'reply_tm', 'like_tm', 'retwt_cmmnt_tm',]\n",
    "cols_tgt=[o.split('_tm')[0] for o in cols_tgt_tmstmp]\n",
    "tgts             = ['Retweet','Reply','Like','RTwCmnt',]\n",
    "assert cols_tgt == ['retwt',  'reply','like','retwt_cmmnt',]\n",
    "tgt2col = dict(zip(tgts, cols_tgt))\n",
    "TCOL=tgt2col[TGT]\n",
    "print('TCOL', TCOL)\n",
    "print(tgt2col)"
   ]
  },
  {
   "cell_type": "markdown",
   "metadata": {},
   "source": [
    "# prep"
   ]
  },
  {
   "cell_type": "code",
   "execution_count": 3,
   "metadata": {},
   "outputs": [],
   "source": [
    "def prp_tgt(df):\n",
    "    df[cols_tgt]=df[cols_tgt_tmstmp].notna()\n",
    "    df.drop(columns=cols_tgt_tmstmp, inplace=True)\n",
    "    display(df[cols_tgt].mean())"
   ]
  },
  {
   "cell_type": "code",
   "execution_count": 4,
   "metadata": {
    "scrolled": false
   },
   "outputs": [
    {
     "name": "stdout",
     "output_type": "stream",
     "text": [
      "(100000, 24)\n"
     ]
    },
    {
     "data": {
      "text/plain": [
       "retwt          0.11211\n",
       "reply          0.02754\n",
       "like           0.43929\n",
       "retwt_cmmnt    0.00801\n",
       "dtype: float64"
      ]
     },
     "metadata": {},
     "output_type": "display_data"
    },
    {
     "name": "stdout",
     "output_type": "stream",
     "text": [
      "CPU times: user 702 ms, sys: 108 ms, total: 810 ms\n",
      "Wall time: 809 ms\n"
     ]
    }
   ],
   "source": [
    "%%time\n",
    "dfval = pd.read_csv(f'{p_in}/trn_{trntmstmp}.tsv',sep='\\x01',header=None,names=cols,nrows=valsz)\n",
    "print(dfval.shape)\n",
    "prp_tgt(dfval)"
   ]
  },
  {
   "cell_type": "markdown",
   "metadata": {},
   "source": [
    "## maybe oversample"
   ]
  },
  {
   "cell_type": "code",
   "execution_count": 5,
   "metadata": {},
   "outputs": [],
   "source": [
    "# df = pd.read_csv(f'{p_in}/trn_{trntmstmp}.tsv',sep='\\x01',header=None,names=cols,nrows=5)\n",
    "# dfval = pd.read_csv(f'{p_in}/trn_{trntmstmp}.tsv',sep='\\x01',header=None,names=cols,nrows=2)\n",
    "# dftrn = pd.read_csv(f'{p_in}/trn_{trntmstmp}.tsv',sep='\\x01',header=None,names=cols,skiprows=2,nrows=3)\n",
    "# display(df.twtid)\n",
    "# display(dfval.twtid)\n",
    "# display(dftrn.twtid)\n",
    "\n",
    "# 0    D4D1EBDE74F74C5DA529959AF979625C\n",
    "# 1    BFB529DAB6D384EB83E899A72AB3830D\n",
    "# 2    519078C7834E9642508F72A6C2D0F3B7\n",
    "# 3    52AAE9E33EFAC8C478C57B31A9E31ED1\n",
    "# 4    89C1298C55EB3D68E2784F0BFB69E6F8\n",
    "# Name: twtid, dtype: object\n",
    "# 0    D4D1EBDE74F74C5DA529959AF979625C\n",
    "# 1    BFB529DAB6D384EB83E899A72AB3830D\n",
    "# Name: twtid, dtype: object\n",
    "# 0    519078C7834E9642508F72A6C2D0F3B7\n",
    "# 1    52AAE9E33EFAC8C478C57B31A9E31ED1\n",
    "# 2    89C1298C55EB3D68E2784F0BFB69E6F8\n",
    "# Name: twtid, dtype: object"
   ]
  },
  {
   "cell_type": "code",
   "execution_count": 6,
   "metadata": {
    "scrolled": true
   },
   "outputs": [
    {
     "name": "stdout",
     "output_type": "stream",
     "text": [
      "(3700000, 24)\n"
     ]
    },
    {
     "data": {
      "text/plain": [
       "retwt          0.113006\n",
       "reply          0.027500\n",
       "like           0.439600\n",
       "retwt_cmmnt    0.007701\n",
       "dtype: float64"
      ]
     },
     "metadata": {},
     "output_type": "display_data"
    },
    {
     "name": "stdout",
     "output_type": "stream",
     "text": [
      "CPU times: user 26.7 s, sys: 2.62 s, total: 29.4 s\n",
      "Wall time: 29.4 s\n"
     ]
    }
   ],
   "source": [
    "%%time\n",
    "if TGT in ('Retweet','Like'): trnpop=trnsz\n",
    "if TGT=='Reply': trnpop=trnsz*3.7\n",
    "if TGT=='RTwCmnt': trnpop=trnsz*11.5\n",
    "assert trnpop<train_total\n",
    "\n",
    "dftrn = pd.read_csv(f'{p_in}/trn_{trntmstmp}.tsv',sep='\\x01',header=None,names=cols,\n",
    "                     skiprows=valsz, nrows=trnpop)\n",
    "print(dftrn.shape)\n",
    "prp_tgt(dftrn)"
   ]
  },
  {
   "cell_type": "code",
   "execution_count": 7,
   "metadata": {
    "scrolled": true
   },
   "outputs": [
    {
     "name": "stdout",
     "output_type": "stream",
     "text": [
      "(1000000, 24) 0.101749\n",
      "3700000 101749 1000000 101749\n"
     ]
    },
    {
     "data": {
      "text/html": [
       "<div>\n",
       "<style scoped>\n",
       "    .dataframe tbody tr th:only-of-type {\n",
       "        vertical-align: middle;\n",
       "    }\n",
       "\n",
       "    .dataframe tbody tr th {\n",
       "        vertical-align: top;\n",
       "    }\n",
       "\n",
       "    .dataframe thead th {\n",
       "        text-align: right;\n",
       "    }\n",
       "</style>\n",
       "<table border=\"1\" class=\"dataframe\">\n",
       "  <thead>\n",
       "    <tr style=\"text-align: right;\">\n",
       "      <th></th>\n",
       "      <th>toks</th>\n",
       "      <th>hshtgs</th>\n",
       "      <th>twtid</th>\n",
       "      <th>media</th>\n",
       "      <th>links</th>\n",
       "      <th>domns</th>\n",
       "      <th>twttyp</th>\n",
       "      <th>lang</th>\n",
       "      <th>tm</th>\n",
       "      <th>u1id</th>\n",
       "      <th>u1_fllwer_cnt</th>\n",
       "      <th>u1_fllwing_cnt</th>\n",
       "      <th>u1_vrfed</th>\n",
       "      <th>u1_create_tm</th>\n",
       "      <th>u2id</th>\n",
       "      <th>u2_fllwer_cnt</th>\n",
       "      <th>u2_fllwng_cnt</th>\n",
       "      <th>u2_vrfed</th>\n",
       "      <th>u2_create_tm</th>\n",
       "      <th>u1_fllw_u2</th>\n",
       "      <th>retwt</th>\n",
       "      <th>reply</th>\n",
       "      <th>like</th>\n",
       "      <th>retwt_cmmnt</th>\n",
       "    </tr>\n",
       "  </thead>\n",
       "  <tbody>\n",
       "    <tr>\n",
       "      <th>5</th>\n",
       "      <td>101\\t1434\\t107854\\t18260\\t31904\\t111431\\t74759...</td>\n",
       "      <td>NaN</td>\n",
       "      <td>0EB15633A8CC0A6E3917C272F43E6DF3</td>\n",
       "      <td>NaN</td>\n",
       "      <td>NaN</td>\n",
       "      <td>NaN</td>\n",
       "      <td>TopLevel</td>\n",
       "      <td>022EC308651FACB02794A8147AEE1B78</td>\n",
       "      <td>1581218899</td>\n",
       "      <td>A7E00C86B4E3709D589754A51042A360</td>\n",
       "      <td>1198215</td>\n",
       "      <td>662</td>\n",
       "      <td>True</td>\n",
       "      <td>1246548812</td>\n",
       "      <td>016212C070A76EAB37E8ED93CA509BA9</td>\n",
       "      <td>0</td>\n",
       "      <td>42</td>\n",
       "      <td>False</td>\n",
       "      <td>1578271262</td>\n",
       "      <td>False</td>\n",
       "      <td>False</td>\n",
       "      <td>True</td>\n",
       "      <td>False</td>\n",
       "      <td>False</td>\n",
       "    </tr>\n",
       "    <tr>\n",
       "      <th>51</th>\n",
       "      <td>101\\t10473\\t10116\\t10132\\t12603\\t97953\\t25307\\...</td>\n",
       "      <td>NaN</td>\n",
       "      <td>7C71C144E7B9F2D87F1F4DDB40AB1C49</td>\n",
       "      <td>NaN</td>\n",
       "      <td>NaN</td>\n",
       "      <td>NaN</td>\n",
       "      <td>TopLevel</td>\n",
       "      <td>2996EB2FE8162C076D070A4C8D6532CD</td>\n",
       "      <td>1581203618</td>\n",
       "      <td>B0CBECD53C3B945C875C55DDFF56D13F</td>\n",
       "      <td>1424</td>\n",
       "      <td>854</td>\n",
       "      <td>False</td>\n",
       "      <td>1394906655</td>\n",
       "      <td>01625341E5A48963E5AA7DFFDC4436D4</td>\n",
       "      <td>643</td>\n",
       "      <td>327</td>\n",
       "      <td>False</td>\n",
       "      <td>1372760933</td>\n",
       "      <td>True</td>\n",
       "      <td>False</td>\n",
       "      <td>True</td>\n",
       "      <td>False</td>\n",
       "      <td>False</td>\n",
       "    </tr>\n",
       "    <tr>\n",
       "      <th>63</th>\n",
       "      <td>101\\t56898\\t137\\t24362\\t131\\t100\\t196\\t36351\\t...</td>\n",
       "      <td>NaN</td>\n",
       "      <td>ADCF033A7C7087C1506E2BC3E2D8F092</td>\n",
       "      <td>NaN</td>\n",
       "      <td>NaN</td>\n",
       "      <td>NaN</td>\n",
       "      <td>Retweet</td>\n",
       "      <td>717293301FE296B0B61950D041485825</td>\n",
       "      <td>1581258397</td>\n",
       "      <td>ECD90FC37F0A7C15C82834FDDEEDC21A</td>\n",
       "      <td>1753</td>\n",
       "      <td>811</td>\n",
       "      <td>False</td>\n",
       "      <td>1568347799</td>\n",
       "      <td>01625CCEC5A4C322FC247DB9E223CC08</td>\n",
       "      <td>147</td>\n",
       "      <td>1355</td>\n",
       "      <td>False</td>\n",
       "      <td>1355850070</td>\n",
       "      <td>False</td>\n",
       "      <td>False</td>\n",
       "      <td>True</td>\n",
       "      <td>False</td>\n",
       "      <td>False</td>\n",
       "    </tr>\n",
       "    <tr>\n",
       "      <th>75</th>\n",
       "      <td>101\\t12441\\t105702\\t793\\t61783\\t34022\\t60578\\t...</td>\n",
       "      <td>NaN</td>\n",
       "      <td>7EB0824DDA3D28844CC0FF65B7C4AA08</td>\n",
       "      <td>NaN</td>\n",
       "      <td>NaN</td>\n",
       "      <td>NaN</td>\n",
       "      <td>TopLevel</td>\n",
       "      <td>167115458A0DBDFF7E9C0C53A83BAC9B</td>\n",
       "      <td>1581271814</td>\n",
       "      <td>D905F31F909CC63C2BBEB7F6B43487FE</td>\n",
       "      <td>175998</td>\n",
       "      <td>116</td>\n",
       "      <td>False</td>\n",
       "      <td>1466830888</td>\n",
       "      <td>01626B64A2570C2807AB97716262FBA9</td>\n",
       "      <td>90</td>\n",
       "      <td>139</td>\n",
       "      <td>False</td>\n",
       "      <td>1364278366</td>\n",
       "      <td>False</td>\n",
       "      <td>False</td>\n",
       "      <td>True</td>\n",
       "      <td>False</td>\n",
       "      <td>False</td>\n",
       "    </tr>\n",
       "    <tr>\n",
       "      <th>83</th>\n",
       "      <td>101\\t69532\\t10107\\t12372\\t10160\\t19048\\t136\\t1...</td>\n",
       "      <td>NaN</td>\n",
       "      <td>0A95516F028EBFF6B551DB32C4B2D1B5</td>\n",
       "      <td>Video</td>\n",
       "      <td>NaN</td>\n",
       "      <td>NaN</td>\n",
       "      <td>TopLevel</td>\n",
       "      <td>ECED8A16BE2A5E8871FD55F4842F16B1</td>\n",
       "      <td>1581214010</td>\n",
       "      <td>88E80BAB56E6F59E4EF012A8B12D3BAE</td>\n",
       "      <td>8825</td>\n",
       "      <td>8024</td>\n",
       "      <td>False</td>\n",
       "      <td>1557262802</td>\n",
       "      <td>0162759D8908AA8C849F06086A023D85</td>\n",
       "      <td>26265</td>\n",
       "      <td>24215</td>\n",
       "      <td>False</td>\n",
       "      <td>1557422269</td>\n",
       "      <td>True</td>\n",
       "      <td>False</td>\n",
       "      <td>True</td>\n",
       "      <td>False</td>\n",
       "      <td>False</td>\n",
       "    </tr>\n",
       "  </tbody>\n",
       "</table>\n",
       "</div>"
      ],
      "text/plain": [
       "                                                 toks hshtgs  \\\n",
       "5   101\\t1434\\t107854\\t18260\\t31904\\t111431\\t74759...    NaN   \n",
       "51  101\\t10473\\t10116\\t10132\\t12603\\t97953\\t25307\\...    NaN   \n",
       "63  101\\t56898\\t137\\t24362\\t131\\t100\\t196\\t36351\\t...    NaN   \n",
       "75  101\\t12441\\t105702\\t793\\t61783\\t34022\\t60578\\t...    NaN   \n",
       "83  101\\t69532\\t10107\\t12372\\t10160\\t19048\\t136\\t1...    NaN   \n",
       "\n",
       "                               twtid  media links domns    twttyp  \\\n",
       "5   0EB15633A8CC0A6E3917C272F43E6DF3    NaN   NaN   NaN  TopLevel   \n",
       "51  7C71C144E7B9F2D87F1F4DDB40AB1C49    NaN   NaN   NaN  TopLevel   \n",
       "63  ADCF033A7C7087C1506E2BC3E2D8F092    NaN   NaN   NaN   Retweet   \n",
       "75  7EB0824DDA3D28844CC0FF65B7C4AA08    NaN   NaN   NaN  TopLevel   \n",
       "83  0A95516F028EBFF6B551DB32C4B2D1B5  Video   NaN   NaN  TopLevel   \n",
       "\n",
       "                                lang          tm  \\\n",
       "5   022EC308651FACB02794A8147AEE1B78  1581218899   \n",
       "51  2996EB2FE8162C076D070A4C8D6532CD  1581203618   \n",
       "63  717293301FE296B0B61950D041485825  1581258397   \n",
       "75  167115458A0DBDFF7E9C0C53A83BAC9B  1581271814   \n",
       "83  ECED8A16BE2A5E8871FD55F4842F16B1  1581214010   \n",
       "\n",
       "                                u1id  u1_fllwer_cnt  u1_fllwing_cnt  u1_vrfed  \\\n",
       "5   A7E00C86B4E3709D589754A51042A360        1198215             662      True   \n",
       "51  B0CBECD53C3B945C875C55DDFF56D13F           1424             854     False   \n",
       "63  ECD90FC37F0A7C15C82834FDDEEDC21A           1753             811     False   \n",
       "75  D905F31F909CC63C2BBEB7F6B43487FE         175998             116     False   \n",
       "83  88E80BAB56E6F59E4EF012A8B12D3BAE           8825            8024     False   \n",
       "\n",
       "    u1_create_tm                              u2id  u2_fllwer_cnt  \\\n",
       "5     1246548812  016212C070A76EAB37E8ED93CA509BA9              0   \n",
       "51    1394906655  01625341E5A48963E5AA7DFFDC4436D4            643   \n",
       "63    1568347799  01625CCEC5A4C322FC247DB9E223CC08            147   \n",
       "75    1466830888  01626B64A2570C2807AB97716262FBA9             90   \n",
       "83    1557262802  0162759D8908AA8C849F06086A023D85          26265   \n",
       "\n",
       "    u2_fllwng_cnt  u2_vrfed  u2_create_tm  u1_fllw_u2  retwt  reply   like  \\\n",
       "5              42     False    1578271262       False  False   True  False   \n",
       "51            327     False    1372760933        True  False   True  False   \n",
       "63           1355     False    1355850070       False  False   True  False   \n",
       "75            139     False    1364278366       False  False   True  False   \n",
       "83          24215     False    1557422269        True  False   True  False   \n",
       "\n",
       "    retwt_cmmnt  \n",
       "5         False  \n",
       "51        False  \n",
       "63        False  \n",
       "75        False  \n",
       "83        False  "
      ]
     },
     "metadata": {},
     "output_type": "display_data"
    },
    {
     "data": {
      "text/plain": [
       "Index(['toks', 'hshtgs', 'twtid', 'media', 'links', 'domns', 'twttyp', 'lang',\n",
       "       'tm', 'u1id', 'u1_fllwer_cnt', 'u1_fllwing_cnt', 'u1_vrfed',\n",
       "       'u1_create_tm', 'u2id', 'u2_fllwer_cnt', 'u2_fllwng_cnt', 'u2_vrfed',\n",
       "       'u2_create_tm', 'u1_fllw_u2', 'retwt', 'reply', 'like', 'retwt_cmmnt'],\n",
       "      dtype='object')"
      ]
     },
     "metadata": {},
     "output_type": "display_data"
    }
   ],
   "source": [
    "train_pop=len(dftrn)\n",
    "sampled_train_pop=trnsz\n",
    "idx_pos = np.where(dftrn[TCOL])[0]\n",
    "target_pop=sampled_target_pop=len(idx_pos)\n",
    "if TGT in ('Reply','RTwCmnt'):\n",
    "    idx_neg0 = np.where(~dftrn[TCOL])[0]\n",
    "    idx_neg = np.random.choice(idx_neg0, trnsz-len(idx_pos), replace=False)\n",
    "    idx = np.concatenate([idx_pos,idx_neg])\n",
    "    dftrn = dftrn.iloc[idx].copy()\n",
    "print(dftrn.shape, dftrn[TCOL].mean())\n",
    "print(train_pop, target_pop, sampled_train_pop, sampled_target_pop)\n",
    "\n",
    "display(dftrn.head())\n",
    "display(dftrn.columns)"
   ]
  },
  {
   "cell_type": "markdown",
   "metadata": {},
   "source": [
    "## prep and features"
   ]
  },
  {
   "cell_type": "code",
   "execution_count": 8,
   "metadata": {},
   "outputs": [],
   "source": [
    "def prp_df(df, tm_max):\n",
    "    '''\n",
    "    tm_max = tm_trn_max for train tm_tst_max for test\n",
    "    '''\n",
    "    lendf = len(df)\n",
    "    print(dtnow(), 'start')\n",
    "    \n",
    "    #counts\n",
    "    df['len_toks'] = df.toks.apply(lambda x: len(x.split('\\t')))\n",
    "    df.drop(columns=['toks'], inplace=True)    \n",
    "    for m in ['Photo', 'Video', 'GIF']:\n",
    "        df[f'n_media_{m}'] = df['media'].fillna('').apply(lambda x: x.split('\\t').count(m))\n",
    "    tgnms = ['hshtgs','media', 'links', 'domns',]\n",
    "    for tgnm in tgnms:\n",
    "        df[f'has_{tgnm}']=df[tgnm].notna()\n",
    "        df[f'lst_{tgnm}'] = df[tgnm].fillna('').apply(lambda x: x.split('\\t') if len(x) else [])\n",
    "        df[f'n_{tgnm}'] = df[f'lst_{tgnm}'].apply(len)  \n",
    "    df.drop(columns=['has_links','n_links'], inplace=True) #duplicates has_domns,n_domns \n",
    "    \n",
    "    #time\n",
    "    dt = pd.to_datetime(df.tm, unit='s')\n",
    "    df['dayofweek'] = dt.dt.dayofweek\n",
    "    df['hour'] = dt.dt.hour\n",
    "    \n",
    "    df['tmdlta_u2u1']  = df.u2_create_tm - df.u1_create_tm\n",
    "    df['tmdlta_twtu1'] = df.tm - df.u1_create_tm\n",
    "    df['tmdlta_twtu2'] = df.tm - df.u2_create_tm\n",
    "\n",
    "    df['twt_age']   = tm_max-df.tm\n",
    "    df['u1_age']    = tm_max-df.u1_create_tm\n",
    "    df['u2_age']    = tm_max-df.u2_create_tm\n",
    "    df.drop(columns=['tm', 'u1_create_tm', 'u2_create_tm'], inplace=True)\n",
    "\n",
    "    #time derived\n",
    "    df['u1_fllwer_cnt_by_age'] = df.u1_fllwer_cnt / df.u1_age\n",
    "    df['u1_fllwng_cnt_by_age'] = df.u2_fllwng_cnt / df.u2_age\n",
    "    \n",
    "    #interaction\n",
    "    df['u1u2']=df.u1id+'_'+df.u2id\n",
    "    df['langhour']=df.lang+'_'+df.hour.astype(str)\n",
    "    \n",
    "\n",
    "    #freq of feature values\n",
    "    print(dtnow(), 'freq of columns using CountEncoder')\n",
    "    encoder = ce.CountEncoder()\n",
    "    encoded = encoder.fit_transform(\n",
    "    df[['twtid', 'twttyp', 'lang', 'u1id', 'u1_fllwing_cnt', 'u1_vrfed', 'u2id', 'u2_fllwer_cnt', 'u2_vrfed', 'u1_fllw_u2', \n",
    "       'n_media_Photo', 'n_media_Video', 'n_media_GIF', \n",
    "       'has_hshtgs', 'n_hshtgs', 'has_media', 'n_media','has_domns', 'n_domns', \n",
    "       'dayofweek', 'hour', 'u1u2', 'langhour']].astype(object))\n",
    "    encoded = encoded.astype(int)/lendf\n",
    "    encoded.columns = [f'frq_{col}' for col in encoded.columns]\n",
    "    df = pd.concat([df,encoded],1)\n",
    "    \n",
    "    #freq of tgnm values\n",
    "    print(dtnow(), 'freq of tags')\n",
    "    for tgnm in tgnms:\n",
    "        vs = [j for i in df[f'lst_{tgnm}'] for j in i]\n",
    "        cnt = Counter(vs)\n",
    "        frq = {k:v/lendf for k,v in cnt.items()}\n",
    "        df[f'sumfrq_{tgnm}']=df[f'lst_{tgnm}'].apply(lambda x: sum([frq.get(o,0) for o in x]))\n",
    "        df[f'maxfrq_{tgnm}']=df[f'lst_{tgnm}'].apply(lambda x: max([frq.get(o,0) for o in x]) if len(x) else 0)\n",
    "    df.drop(columns=tgnms+[f'lst_{tgnm}' for tgnm in tgnms],inplace=True)\n",
    "\n",
    "    print(dtnow(), 'done')\n",
    "    return df"
   ]
  },
  {
   "cell_type": "code",
   "execution_count": 9,
   "metadata": {},
   "outputs": [
    {
     "name": "stdout",
     "output_type": "stream",
     "text": [
      "2020-04-05 20:18:22 start\n",
      "2020-04-05 20:18:38 freq of columns using CountEncoder\n"
     ]
    },
    {
     "name": "stderr",
     "output_type": "stream",
     "text": [
      "/data/anaconda3/envs/rcss20/lib/python3.7/site-packages/category_encoders/count.py:255: FutureWarning: The pandas.np module is deprecated and will be removed from pandas in a future version. Import numpy directly instead\n",
      "  X.loc[:, self.cols] = X.fillna(value=pd.np.nan)\n"
     ]
    },
    {
     "name": "stdout",
     "output_type": "stream",
     "text": [
      "2020-04-05 20:19:08 freq of tags\n",
      "2020-04-05 20:19:17 done\n",
      "CPU times: user 49.9 s, sys: 6.29 s, total: 56.2 s\n",
      "Wall time: 56 s\n"
     ]
    }
   ],
   "source": [
    "%%time\n",
    "dftrn=prp_df(dftrn, tm_max=tm_trn_max)"
   ]
  },
  {
   "cell_type": "code",
   "execution_count": 10,
   "metadata": {},
   "outputs": [
    {
     "name": "stdout",
     "output_type": "stream",
     "text": [
      "2020-04-05 20:19:18 start\n",
      "2020-04-05 20:19:19 freq of columns using CountEncoder\n",
      "2020-04-05 20:19:21 freq of tags\n",
      "2020-04-05 20:19:21 done\n",
      "CPU times: user 3.68 s, sys: 7.57 ms, total: 3.69 s\n",
      "Wall time: 3.67 s\n"
     ]
    }
   ],
   "source": [
    "%%time\n",
    "dfval=prp_df(dfval, tm_max=tm_trn_max)"
   ]
  },
  {
   "cell_type": "markdown",
   "metadata": {},
   "source": [
    "## tr vl split and target encoding"
   ]
  },
  {
   "cell_type": "code",
   "execution_count": 11,
   "metadata": {},
   "outputs": [
    {
     "data": {
      "text/plain": [
       "30"
      ]
     },
     "execution_count": 11,
     "metadata": {},
     "output_type": "execute_result"
    }
   ],
   "source": [
    "msk_vl=np.random.rand(len(dftrn))<0.15\n",
    "idxvl=np.where( msk_vl)[0]\n",
    "idxtr=np.where(~msk_vl)[0]\n",
    "\n",
    "dftr = dftrn.iloc[idxtr].copy()\n",
    "dfvl = dftrn.iloc[idxvl].copy()\n",
    "del dftrn\n",
    "\n",
    "gc.collect()"
   ]
  },
  {
   "cell_type": "code",
   "execution_count": 12,
   "metadata": {},
   "outputs": [
    {
     "data": {
      "text/plain": [
       "Index(['twtid', 'twttyp', 'lang', 'u1id', 'u1_fllwer_cnt', 'u1_fllwing_cnt',\n",
       "       'u1_vrfed', 'u2id', 'u2_fllwer_cnt', 'u2_fllwng_cnt', 'u2_vrfed',\n",
       "       'u1_fllw_u2', 'retwt', 'reply', 'like', 'retwt_cmmnt', 'len_toks',\n",
       "       'n_media_Photo', 'n_media_Video', 'n_media_GIF', 'has_hshtgs',\n",
       "       'n_hshtgs', 'has_media', 'n_media', 'has_domns', 'n_domns', 'dayofweek',\n",
       "       'hour', 'tmdlta_u2u1', 'tmdlta_twtu1', 'tmdlta_twtu2', 'twt_age',\n",
       "       'u1_age', 'u2_age', 'u1_fllwer_cnt_by_age', 'u1_fllwng_cnt_by_age',\n",
       "       'u1u2', 'langhour', 'frq_twtid', 'frq_twttyp', 'frq_lang', 'frq_u1id',\n",
       "       'frq_u1_fllwing_cnt', 'frq_u1_vrfed', 'frq_u2id', 'frq_u2_fllwer_cnt',\n",
       "       'frq_u2_vrfed', 'frq_u1_fllw_u2', 'frq_n_media_Photo',\n",
       "       'frq_n_media_Video', 'frq_n_media_GIF', 'frq_has_hshtgs',\n",
       "       'frq_n_hshtgs', 'frq_has_media', 'frq_n_media', 'frq_has_domns',\n",
       "       'frq_n_domns', 'frq_dayofweek', 'frq_hour', 'frq_u1u2', 'frq_langhour',\n",
       "       'sumfrq_hshtgs', 'maxfrq_hshtgs', 'sumfrq_media', 'maxfrq_media',\n",
       "       'sumfrq_links', 'maxfrq_links', 'sumfrq_domns', 'maxfrq_domns'],\n",
       "      dtype='object')"
      ]
     },
     "execution_count": 12,
     "metadata": {},
     "output_type": "execute_result"
    }
   ],
   "source": [
    "dftr.columns"
   ]
  },
  {
   "cell_type": "code",
   "execution_count": 13,
   "metadata": {},
   "outputs": [
    {
     "name": "stdout",
     "output_type": "stream",
     "text": [
      "CPU times: user 45.2 s, sys: 8.31 s, total: 53.5 s\n",
      "Wall time: 53.5 s\n"
     ]
    }
   ],
   "source": [
    "%%time\n",
    "col2tgtenc=['twtid', 'twttyp', 'lang', 'u1id', 'u1_fllwing_cnt', 'u1_vrfed', 'u2id', 'u2_fllwer_cnt', 'u2_vrfed', 'u1_fllw_u2', \n",
    "   'n_media_Photo', 'n_media_Video', 'n_media_GIF', \n",
    "   'has_hshtgs', 'n_hshtgs', 'has_media', 'n_media','has_domns', 'n_domns', \n",
    "   'dayofweek', 'hour', 'u1u2', 'langhour']\n",
    "tgt_encoder = ce.TargetEncoder()\n",
    "encoded_tr = tgt_encoder.fit_transform(dftr[col2tgtenc].astype(object), dftr[TCOL])\n",
    "encoded_vl = tgt_encoder.transform(dfvl[col2tgtenc].astype(object))\n",
    "encoded_val = tgt_encoder.transform(dfval[col2tgtenc].astype(object))\n",
    "\n",
    "tgtenc_columns = [f'tgtenc_{col}' for col in encoded_tr.columns]\n",
    "encoded_tr.columns = tgtenc_columns\n",
    "encoded_vl.columns = tgtenc_columns\n",
    "encoded_val.columns = tgtenc_columns\n",
    "\n",
    "dftr = pd.concat([dftr, encoded_tr], 1)\n",
    "dfvl = pd.concat([dfvl, encoded_vl], 1)\n",
    "dfval = pd.concat([dfval, encoded_val], 1)\n"
   ]
  },
  {
   "cell_type": "code",
   "execution_count": 14,
   "metadata": {},
   "outputs": [],
   "source": [
    "cols_category=['twttyp', 'lang', 'langhour']\n",
    "for df in dftr,dfvl,dfval:\n",
    "    df.drop(columns=['twtid','u1id','u2id','u1u2'], inplace=True)\n",
    "    df[cols_category]=df[cols_category].astype('category')"
   ]
  },
  {
   "cell_type": "code",
   "execution_count": 15,
   "metadata": {},
   "outputs": [],
   "source": [
    "cols_feat = [col for col in dftr.columns if col not in cols_tgt]"
   ]
  },
  {
   "cell_type": "code",
   "execution_count": 16,
   "metadata": {},
   "outputs": [
    {
     "data": {
      "text/plain": [
       "twttyp                   category\n",
       "lang                     category\n",
       "u1_fllwer_cnt               int64\n",
       "u1_fllwing_cnt              int64\n",
       "u1_vrfed                     bool\n",
       "u2_fllwer_cnt               int64\n",
       "u2_fllwng_cnt               int64\n",
       "u2_vrfed                     bool\n",
       "u1_fllw_u2                   bool\n",
       "retwt                        bool\n",
       "reply                        bool\n",
       "like                         bool\n",
       "retwt_cmmnt                  bool\n",
       "len_toks                    int64\n",
       "n_media_Photo               int64\n",
       "n_media_Video               int64\n",
       "n_media_GIF                 int64\n",
       "has_hshtgs                   bool\n",
       "n_hshtgs                    int64\n",
       "has_media                    bool\n",
       "n_media                     int64\n",
       "has_domns                    bool\n",
       "n_domns                     int64\n",
       "dayofweek                   int64\n",
       "hour                        int64\n",
       "tmdlta_u2u1                 int64\n",
       "tmdlta_twtu1                int64\n",
       "tmdlta_twtu2                int64\n",
       "twt_age                     int64\n",
       "u1_age                      int64\n",
       "u2_age                      int64\n",
       "u1_fllwer_cnt_by_age      float64\n",
       "u1_fllwng_cnt_by_age      float64\n",
       "langhour                 category\n",
       "frq_twtid                 float64\n",
       "frq_twttyp                float64\n",
       "frq_lang                  float64\n",
       "frq_u1id                  float64\n",
       "frq_u1_fllwing_cnt        float64\n",
       "frq_u1_vrfed              float64\n",
       "frq_u2id                  float64\n",
       "frq_u2_fllwer_cnt         float64\n",
       "frq_u2_vrfed              float64\n",
       "frq_u1_fllw_u2            float64\n",
       "frq_n_media_Photo         float64\n",
       "frq_n_media_Video         float64\n",
       "frq_n_media_GIF           float64\n",
       "frq_has_hshtgs            float64\n",
       "frq_n_hshtgs              float64\n",
       "frq_has_media             float64\n",
       "frq_n_media               float64\n",
       "frq_has_domns             float64\n",
       "frq_n_domns               float64\n",
       "frq_dayofweek             float64\n",
       "frq_hour                  float64\n",
       "frq_u1u2                  float64\n",
       "frq_langhour              float64\n",
       "sumfrq_hshtgs             float64\n",
       "maxfrq_hshtgs             float64\n",
       "sumfrq_media              float64\n",
       "maxfrq_media              float64\n",
       "sumfrq_links              float64\n",
       "maxfrq_links              float64\n",
       "sumfrq_domns              float64\n",
       "maxfrq_domns              float64\n",
       "tgtenc_twtid              float64\n",
       "tgtenc_twttyp             float64\n",
       "tgtenc_lang               float64\n",
       "tgtenc_u1id               float64\n",
       "tgtenc_u1_fllwing_cnt     float64\n",
       "tgtenc_u1_vrfed           float64\n",
       "tgtenc_u2id               float64\n",
       "tgtenc_u2_fllwer_cnt      float64\n",
       "tgtenc_u2_vrfed           float64\n",
       "tgtenc_u1_fllw_u2         float64\n",
       "tgtenc_n_media_Photo      float64\n",
       "tgtenc_n_media_Video      float64\n",
       "tgtenc_n_media_GIF        float64\n",
       "tgtenc_has_hshtgs         float64\n",
       "tgtenc_n_hshtgs           float64\n",
       "tgtenc_has_media          float64\n",
       "tgtenc_n_media            float64\n",
       "tgtenc_has_domns          float64\n",
       "tgtenc_n_domns            float64\n",
       "tgtenc_dayofweek          float64\n",
       "tgtenc_hour               float64\n",
       "tgtenc_u1u2               float64\n",
       "tgtenc_langhour           float64\n",
       "dtype: object"
      ]
     },
     "execution_count": 16,
     "metadata": {},
     "output_type": "execute_result"
    }
   ],
   "source": [
    "dftr.dtypes"
   ]
  },
  {
   "cell_type": "markdown",
   "metadata": {},
   "source": [
    "# model"
   ]
  },
  {
   "cell_type": "code",
   "execution_count": 17,
   "metadata": {},
   "outputs": [],
   "source": [
    "results = {}\n",
    "results['PRFX'] = PRFX\n",
    "results['TGT'] = TGT\n",
    "results['cols_feat'] = cols_feat\n",
    "results['tgt_encoder'] = tgt_encoder\n",
    "results['col2tgtenc'] = col2tgtenc"
   ]
  },
  {
   "cell_type": "code",
   "execution_count": 18,
   "metadata": {},
   "outputs": [],
   "source": [
    "params={\n",
    "    'objective': 'binary',\n",
    "    'metric': 'binary_logloss',\n",
    "    'verbosity': 0,\n",
    "    \n",
    "}\n",
    "results['params'] = params"
   ]
  },
  {
   "cell_type": "code",
   "execution_count": 19,
   "metadata": {
    "scrolled": true
   },
   "outputs": [
    {
     "name": "stderr",
     "output_type": "stream",
     "text": [
      "/data/anaconda3/envs/rcss20/lib/python3.7/site-packages/optuna/_experimental.py:87: ExperimentalWarning: train is experimental (supported from v0.18.0). The interface can change in the future.\n",
      "  ExperimentalWarning\n",
      "tune_feature_fraction, val_score: inf:   0%|          | 0/7 [00:00<?, ?it/s]"
     ]
    },
    {
     "name": "stdout",
     "output_type": "stream",
     "text": [
      "Training until validation scores don't improve for 100 rounds\n",
      "[100]\ttr's binary_logloss: 0.183494\tvl's binary_logloss: 0.334756\n",
      "Early stopping, best iteration is:\n",
      "[20]\ttr's binary_logloss: 0.22713\tvl's binary_logloss: 0.28722\n"
     ]
    },
    {
     "name": "stderr",
     "output_type": "stream",
     "text": [
      "tune_feature_fraction, val_score: 0.287220:  14%|#4        | 1/7 [00:18<01:48, 18.16s/it]"
     ]
    },
    {
     "name": "stdout",
     "output_type": "stream",
     "text": [
      "Training until validation scores don't improve for 100 rounds\n",
      "[100]\ttr's binary_logloss: 0.182427\tvl's binary_logloss: 0.352504\n",
      "Early stopping, best iteration is:\n",
      "[16]\ttr's binary_logloss: 0.22561\tvl's binary_logloss: 0.288443\n"
     ]
    },
    {
     "name": "stderr",
     "output_type": "stream",
     "text": [
      "tune_feature_fraction, val_score: 0.287220:  29%|##8       | 2/7 [00:26<01:16, 15.30s/it]"
     ]
    },
    {
     "name": "stdout",
     "output_type": "stream",
     "text": [
      "Training until validation scores don't improve for 100 rounds\n",
      "[100]\ttr's binary_logloss: 0.182064\tvl's binary_logloss: 0.36207\n",
      "Early stopping, best iteration is:\n",
      "[16]\ttr's binary_logloss: 0.220413\tvl's binary_logloss: 0.289491\n"
     ]
    },
    {
     "name": "stderr",
     "output_type": "stream",
     "text": [
      "tune_feature_fraction, val_score: 0.287220:  43%|####2     | 3/7 [00:36<00:53, 13.49s/it]"
     ]
    },
    {
     "name": "stdout",
     "output_type": "stream",
     "text": [
      "Training until validation scores don't improve for 100 rounds\n",
      "[100]\ttr's binary_logloss: 0.181861\tvl's binary_logloss: 0.369285\n",
      "Early stopping, best iteration is:\n",
      "[16]\ttr's binary_logloss: 0.216659\tvl's binary_logloss: 0.290063\n"
     ]
    },
    {
     "name": "stderr",
     "output_type": "stream",
     "text": [
      "tune_feature_fraction, val_score: 0.287220:  57%|#####7    | 4/7 [00:46<00:37, 12.44s/it]"
     ]
    },
    {
     "name": "stdout",
     "output_type": "stream",
     "text": [
      "Training until validation scores don't improve for 100 rounds\n",
      "[100]\ttr's binary_logloss: 0.181455\tvl's binary_logloss: 0.37311\n",
      "Early stopping, best iteration is:\n",
      "[16]\ttr's binary_logloss: 0.211166\tvl's binary_logloss: 0.293498\n"
     ]
    },
    {
     "name": "stderr",
     "output_type": "stream",
     "text": [
      "tune_feature_fraction, val_score: 0.287220:  71%|#######1  | 5/7 [00:56<00:23, 11.87s/it]"
     ]
    },
    {
     "name": "stdout",
     "output_type": "stream",
     "text": [
      "Training until validation scores don't improve for 100 rounds\n",
      "[100]\ttr's binary_logloss: 0.181095\tvl's binary_logloss: 0.37636\n",
      "Early stopping, best iteration is:\n",
      "[13]\ttr's binary_logloss: 0.214605\tvl's binary_logloss: 0.295698\n"
     ]
    },
    {
     "name": "stderr",
     "output_type": "stream",
     "text": [
      "tune_feature_fraction, val_score: 0.287220:  86%|########5 | 6/7 [01:07<00:11, 11.66s/it]"
     ]
    },
    {
     "name": "stdout",
     "output_type": "stream",
     "text": [
      "Training until validation scores don't improve for 100 rounds\n",
      "[100]\ttr's binary_logloss: 0.180764\tvl's binary_logloss: 0.372823\n",
      "Early stopping, best iteration is:\n",
      "[10]\ttr's binary_logloss: 0.221785\tvl's binary_logloss: 0.297339\n"
     ]
    },
    {
     "name": "stderr",
     "output_type": "stream",
     "text": [
      "tune_feature_fraction, val_score: 0.287220: 100%|##########| 7/7 [01:19<00:00, 11.34s/it]\n",
      "tune_num_leaves, val_score: 0.287220:   0%|          | 0/20 [00:00<?, ?it/s]"
     ]
    },
    {
     "name": "stdout",
     "output_type": "stream",
     "text": [
      "Training until validation scores don't improve for 100 rounds\n",
      "[100]\ttr's binary_logloss: 0.184373\tvl's binary_logloss: 0.334739\n",
      "Early stopping, best iteration is:\n",
      "[22]\ttr's binary_logloss: 0.222467\tvl's binary_logloss: 0.287549\n"
     ]
    },
    {
     "name": "stderr",
     "output_type": "stream",
     "text": [
      "tune_num_leaves, val_score: 0.287220:   5%|5         | 1/20 [00:07<02:28,  7.83s/it]"
     ]
    },
    {
     "name": "stdout",
     "output_type": "stream",
     "text": [
      "Training until validation scores don't improve for 100 rounds\n",
      "[100]\ttr's binary_logloss: 0.184159\tvl's binary_logloss: 0.334662\n",
      "Early stopping, best iteration is:\n",
      "[22]\ttr's binary_logloss: 0.222325\tvl's binary_logloss: 0.287446\n"
     ]
    },
    {
     "name": "stderr",
     "output_type": "stream",
     "text": [
      "tune_num_leaves, val_score: 0.287220:  10%|#         | 2/20 [00:15<02:20,  7.83s/it]"
     ]
    },
    {
     "name": "stdout",
     "output_type": "stream",
     "text": [
      "Training until validation scores don't improve for 100 rounds\n",
      "[100]\ttr's binary_logloss: 0.168872\tvl's binary_logloss: 0.335784\n",
      "Early stopping, best iteration is:\n",
      "[20]\ttr's binary_logloss: 0.220007\tvl's binary_logloss: 0.285028\n"
     ]
    },
    {
     "name": "stderr",
     "output_type": "stream",
     "text": [
      "tune_num_leaves, val_score: 0.285028:  15%|#5        | 3/20 [00:27<02:34,  9.12s/it]"
     ]
    },
    {
     "name": "stdout",
     "output_type": "stream",
     "text": [
      "Training until validation scores don't improve for 100 rounds\n",
      "[100]\ttr's binary_logloss: 0.180745\tvl's binary_logloss: 0.335031\n",
      "Early stopping, best iteration is:\n",
      "[20]\ttr's binary_logloss: 0.225354\tvl's binary_logloss: 0.286569\n"
     ]
    },
    {
     "name": "stderr",
     "output_type": "stream",
     "text": [
      "tune_num_leaves, val_score: 0.285028:  20%|##        | 4/20 [00:36<02:25,  9.12s/it]"
     ]
    },
    {
     "name": "stdout",
     "output_type": "stream",
     "text": [
      "Training until validation scores don't improve for 100 rounds\n",
      "[100]\ttr's binary_logloss: 0.169427\tvl's binary_logloss: 0.335694\n",
      "Early stopping, best iteration is:\n",
      "[20]\ttr's binary_logloss: 0.220249\tvl's binary_logloss: 0.285047\n"
     ]
    },
    {
     "name": "stderr",
     "output_type": "stream",
     "text": [
      "tune_num_leaves, val_score: 0.285028:  25%|##5       | 5/20 [00:48<02:29,  9.95s/it]"
     ]
    },
    {
     "name": "stdout",
     "output_type": "stream",
     "text": [
      "Training until validation scores don't improve for 100 rounds\n",
      "[100]\ttr's binary_logloss: 0.169461\tvl's binary_logloss: 0.335696\n",
      "Early stopping, best iteration is:\n",
      "[20]\ttr's binary_logloss: 0.220232\tvl's binary_logloss: 0.285138\n"
     ]
    },
    {
     "name": "stderr",
     "output_type": "stream",
     "text": [
      "tune_num_leaves, val_score: 0.285028:  30%|###       | 6/20 [01:00<02:27, 10.54s/it]"
     ]
    },
    {
     "name": "stdout",
     "output_type": "stream",
     "text": [
      "Training until validation scores don't improve for 100 rounds\n",
      "[100]\ttr's binary_logloss: 0.170015\tvl's binary_logloss: 0.335637\n",
      "Early stopping, best iteration is:\n",
      "[20]\ttr's binary_logloss: 0.220422\tvl's binary_logloss: 0.285146\n"
     ]
    },
    {
     "name": "stderr",
     "output_type": "stream",
     "text": [
      "tune_num_leaves, val_score: 0.285028:  35%|###5      | 7/20 [01:12<02:22, 10.99s/it]"
     ]
    },
    {
     "name": "stdout",
     "output_type": "stream",
     "text": [
      "Training until validation scores don't improve for 100 rounds\n",
      "[100]\ttr's binary_logloss: 0.167905\tvl's binary_logloss: 0.336171\n",
      "Early stopping, best iteration is:\n",
      "[20]\ttr's binary_logloss: 0.219744\tvl's binary_logloss: 0.285219\n"
     ]
    },
    {
     "name": "stderr",
     "output_type": "stream",
     "text": [
      "tune_num_leaves, val_score: 0.285028:  40%|####      | 8/20 [01:25<02:17, 11.43s/it]"
     ]
    },
    {
     "name": "stdout",
     "output_type": "stream",
     "text": [
      "Training until validation scores don't improve for 100 rounds\n",
      "[100]\ttr's binary_logloss: 0.178111\tvl's binary_logloss: 0.33527\n",
      "Early stopping, best iteration is:\n",
      "[20]\ttr's binary_logloss: 0.223837\tvl's binary_logloss: 0.286026\n"
     ]
    },
    {
     "name": "stderr",
     "output_type": "stream",
     "text": [
      "tune_num_leaves, val_score: 0.285028:  45%|####5     | 9/20 [01:35<02:00, 10.94s/it]"
     ]
    },
    {
     "name": "stdout",
     "output_type": "stream",
     "text": [
      "Training until validation scores don't improve for 100 rounds\n",
      "[100]\ttr's binary_logloss: 0.181094\tvl's binary_logloss: 0.335067\n",
      "Early stopping, best iteration is:\n",
      "[20]\ttr's binary_logloss: 0.22547\tvl's binary_logloss: 0.286575\n"
     ]
    },
    {
     "name": "stderr",
     "output_type": "stream",
     "text": [
      "tune_num_leaves, val_score: 0.285028:  50%|#####     | 10/20 [01:43<01:43, 10.31s/it]"
     ]
    },
    {
     "name": "stdout",
     "output_type": "stream",
     "text": [
      "Training until validation scores don't improve for 100 rounds\n",
      "[100]\ttr's binary_logloss: 0.162167\tvl's binary_logloss: 0.336171\n",
      "Early stopping, best iteration is:\n",
      "[20]\ttr's binary_logloss: 0.217816\tvl's binary_logloss: 0.284869\n"
     ]
    },
    {
     "name": "stderr",
     "output_type": "stream",
     "text": [
      "tune_num_leaves, val_score: 0.284869:  55%|#####5    | 11/20 [01:57<01:42, 11.34s/it]"
     ]
    },
    {
     "name": "stdout",
     "output_type": "stream",
     "text": [
      "Training until validation scores don't improve for 100 rounds\n",
      "[100]\ttr's binary_logloss: 0.163591\tvl's binary_logloss: 0.335949\n",
      "Early stopping, best iteration is:\n",
      "[20]\ttr's binary_logloss: 0.218296\tvl's binary_logloss: 0.284849\n"
     ]
    },
    {
     "name": "stderr",
     "output_type": "stream",
     "text": [
      "tune_num_leaves, val_score: 0.284849:  60%|######    | 12/20 [02:11<01:35, 11.96s/it]"
     ]
    },
    {
     "name": "stdout",
     "output_type": "stream",
     "text": [
      "Training until validation scores don't improve for 100 rounds\n",
      "[100]\ttr's binary_logloss: 0.161958\tvl's binary_logloss: 0.335895\n",
      "Early stopping, best iteration is:\n",
      "[20]\ttr's binary_logloss: 0.217742\tvl's binary_logloss: 0.284833\n"
     ]
    },
    {
     "name": "stderr",
     "output_type": "stream",
     "text": [
      "tune_num_leaves, val_score: 0.284833:  65%|######5   | 13/20 [02:24<01:27, 12.50s/it]"
     ]
    },
    {
     "name": "stdout",
     "output_type": "stream",
     "text": [
      "Training until validation scores don't improve for 100 rounds\n",
      "[100]\ttr's binary_logloss: 0.162167\tvl's binary_logloss: 0.336171\n",
      "Early stopping, best iteration is:\n",
      "[20]\ttr's binary_logloss: 0.217816\tvl's binary_logloss: 0.284869\n"
     ]
    },
    {
     "name": "stderr",
     "output_type": "stream",
     "text": [
      "tune_num_leaves, val_score: 0.284833:  70%|#######   | 14/20 [02:38<01:17, 12.88s/it]"
     ]
    },
    {
     "name": "stdout",
     "output_type": "stream",
     "text": [
      "Training until validation scores don't improve for 100 rounds\n",
      "[100]\ttr's binary_logloss: 0.165272\tvl's binary_logloss: 0.335916\n",
      "Early stopping, best iteration is:\n",
      "[20]\ttr's binary_logloss: 0.218846\tvl's binary_logloss: 0.284993\n"
     ]
    },
    {
     "name": "stderr",
     "output_type": "stream",
     "text": [
      "tune_num_leaves, val_score: 0.284833:  75%|#######5  | 15/20 [02:51<01:04, 12.94s/it]"
     ]
    },
    {
     "name": "stdout",
     "output_type": "stream",
     "text": [
      "Training until validation scores don't improve for 100 rounds\n",
      "[100]\ttr's binary_logloss: 0.164719\tvl's binary_logloss: 0.336136\n",
      "Early stopping, best iteration is:\n",
      "[20]\ttr's binary_logloss: 0.21856\tvl's binary_logloss: 0.284979\n"
     ]
    },
    {
     "name": "stderr",
     "output_type": "stream",
     "text": [
      "tune_num_leaves, val_score: 0.284833:  80%|########  | 16/20 [03:04<00:51, 12.96s/it]"
     ]
    },
    {
     "name": "stdout",
     "output_type": "stream",
     "text": [
      "Training until validation scores don't improve for 100 rounds\n",
      "[100]\ttr's binary_logloss: 0.164719\tvl's binary_logloss: 0.336136\n",
      "Early stopping, best iteration is:\n",
      "[20]\ttr's binary_logloss: 0.21856\tvl's binary_logloss: 0.284979\n"
     ]
    },
    {
     "name": "stderr",
     "output_type": "stream",
     "text": [
      "tune_num_leaves, val_score: 0.284833:  85%|########5 | 17/20 [03:17<00:39, 13.00s/it]"
     ]
    },
    {
     "name": "stdout",
     "output_type": "stream",
     "text": [
      "Training until validation scores don't improve for 100 rounds\n",
      "[100]\ttr's binary_logloss: 0.174142\tvl's binary_logloss: 0.335449\n",
      "Early stopping, best iteration is:\n",
      "[20]\ttr's binary_logloss: 0.222063\tvl's binary_logloss: 0.28553\n"
     ]
    },
    {
     "name": "stderr",
     "output_type": "stream",
     "text": [
      "tune_num_leaves, val_score: 0.284833:  90%|######### | 18/20 [03:28<00:24, 12.43s/it]"
     ]
    },
    {
     "name": "stdout",
     "output_type": "stream",
     "text": [
      "Training until validation scores don't improve for 100 rounds\n",
      "[100]\ttr's binary_logloss: 0.163008\tvl's binary_logloss: 0.33594\n",
      "Early stopping, best iteration is:\n",
      "[18]\ttr's binary_logloss: 0.221345\tvl's binary_logloss: 0.284809\n"
     ]
    },
    {
     "name": "stderr",
     "output_type": "stream",
     "text": [
      "tune_num_leaves, val_score: 0.284809:  95%|#########5| 19/20 [03:42<00:12, 12.73s/it]"
     ]
    },
    {
     "name": "stdout",
     "output_type": "stream",
     "text": [
      "Training until validation scores don't improve for 100 rounds\n",
      "[100]\ttr's binary_logloss: 0.173276\tvl's binary_logloss: 0.335595\n",
      "Early stopping, best iteration is:\n",
      "[20]\ttr's binary_logloss: 0.22168\tvl's binary_logloss: 0.285444\n"
     ]
    },
    {
     "name": "stderr",
     "output_type": "stream",
     "text": [
      "tune_num_leaves, val_score: 0.284809: 100%|##########| 20/20 [03:53<00:00, 11.67s/it]\n",
      "tune_bagging_fraction_and_bagging_freq, val_score: 0.284809:   0%|          | 0/10 [00:00<?, ?it/s]"
     ]
    },
    {
     "name": "stdout",
     "output_type": "stream",
     "text": [
      "Training until validation scores don't improve for 100 rounds\n",
      "[100]\ttr's binary_logloss: 0.165024\tvl's binary_logloss: 0.336471\n",
      "Early stopping, best iteration is:\n",
      "[20]\ttr's binary_logloss: 0.218821\tvl's binary_logloss: 0.285169\n"
     ]
    },
    {
     "name": "stderr",
     "output_type": "stream",
     "text": [
      "tune_bagging_fraction_and_bagging_freq, val_score: 0.284809:  10%|#         | 1/10 [00:12<01:54, 12.68s/it]"
     ]
    },
    {
     "name": "stdout",
     "output_type": "stream",
     "text": [
      "Training until validation scores don't improve for 100 rounds\n",
      "[100]\ttr's binary_logloss: 0.1657\tvl's binary_logloss: 0.336558\n",
      "Early stopping, best iteration is:\n",
      "[20]\ttr's binary_logloss: 0.219127\tvl's binary_logloss: 0.285277\n"
     ]
    },
    {
     "name": "stderr",
     "output_type": "stream",
     "text": [
      "tune_bagging_fraction_and_bagging_freq, val_score: 0.284809:  20%|##        | 2/10 [00:24<01:39, 12.41s/it]"
     ]
    },
    {
     "name": "stdout",
     "output_type": "stream",
     "text": [
      "Training until validation scores don't improve for 100 rounds\n",
      "[100]\ttr's binary_logloss: 0.16525\tvl's binary_logloss: 0.335979\n",
      "Early stopping, best iteration is:\n",
      "[20]\ttr's binary_logloss: 0.218817\tvl's binary_logloss: 0.285065\n"
     ]
    },
    {
     "name": "stderr",
     "output_type": "stream",
     "text": [
      "tune_bagging_fraction_and_bagging_freq, val_score: 0.284809:  30%|###       | 3/10 [00:37<01:28, 12.64s/it]"
     ]
    },
    {
     "name": "stdout",
     "output_type": "stream",
     "text": [
      "Training until validation scores don't improve for 100 rounds\n",
      "[100]\ttr's binary_logloss: 0.165861\tvl's binary_logloss: 0.336818\n",
      "Early stopping, best iteration is:\n",
      "[20]\ttr's binary_logloss: 0.219162\tvl's binary_logloss: 0.285612\n"
     ]
    },
    {
     "name": "stderr",
     "output_type": "stream",
     "text": [
      "tune_bagging_fraction_and_bagging_freq, val_score: 0.284809:  40%|####      | 4/10 [00:51<01:17, 12.83s/it]"
     ]
    },
    {
     "name": "stdout",
     "output_type": "stream",
     "text": [
      "Training until validation scores don't improve for 100 rounds\n",
      "[100]\ttr's binary_logloss: 0.16559\tvl's binary_logloss: 0.336184\n",
      "Early stopping, best iteration is:\n",
      "[20]\ttr's binary_logloss: 0.219041\tvl's binary_logloss: 0.285472\n"
     ]
    },
    {
     "name": "stderr",
     "output_type": "stream",
     "text": [
      "tune_bagging_fraction_and_bagging_freq, val_score: 0.284809:  50%|#####     | 5/10 [01:04<01:05, 13.04s/it]"
     ]
    },
    {
     "name": "stdout",
     "output_type": "stream",
     "text": [
      "Training until validation scores don't improve for 100 rounds\n",
      "[100]\ttr's binary_logloss: 0.165241\tvl's binary_logloss: 0.336475\n",
      "Early stopping, best iteration is:\n",
      "[20]\ttr's binary_logloss: 0.21892\tvl's binary_logloss: 0.285154\n"
     ]
    },
    {
     "name": "stderr",
     "output_type": "stream",
     "text": [
      "tune_bagging_fraction_and_bagging_freq, val_score: 0.284809:  60%|######    | 6/10 [01:17<00:51, 12.88s/it]"
     ]
    },
    {
     "name": "stdout",
     "output_type": "stream",
     "text": [
      "Training until validation scores don't improve for 100 rounds\n",
      "[100]\ttr's binary_logloss: 0.165084\tvl's binary_logloss: 0.335998\n",
      "Early stopping, best iteration is:\n",
      "[20]\ttr's binary_logloss: 0.218843\tvl's binary_logloss: 0.2851\n"
     ]
    },
    {
     "name": "stderr",
     "output_type": "stream",
     "text": [
      "tune_bagging_fraction_and_bagging_freq, val_score: 0.284809:  70%|#######   | 7/10 [01:29<00:38, 12.89s/it]"
     ]
    },
    {
     "name": "stdout",
     "output_type": "stream",
     "text": [
      "Training until validation scores don't improve for 100 rounds\n",
      "[100]\ttr's binary_logloss: 0.163568\tvl's binary_logloss: 0.336293\n",
      "Early stopping, best iteration is:\n",
      "[20]\ttr's binary_logloss: 0.218258\tvl's binary_logloss: 0.284886\n"
     ]
    },
    {
     "name": "stderr",
     "output_type": "stream",
     "text": [
      "tune_bagging_fraction_and_bagging_freq, val_score: 0.284809:  80%|########  | 8/10 [01:45<00:27, 13.68s/it]"
     ]
    },
    {
     "name": "stdout",
     "output_type": "stream",
     "text": [
      "Training until validation scores don't improve for 100 rounds\n",
      "[100]\ttr's binary_logloss: 0.166557\tvl's binary_logloss: 0.336821\n",
      "Early stopping, best iteration is:\n",
      "[20]\ttr's binary_logloss: 0.21944\tvl's binary_logloss: 0.285562\n"
     ]
    },
    {
     "name": "stderr",
     "output_type": "stream",
     "text": [
      "tune_bagging_fraction_and_bagging_freq, val_score: 0.284809:  90%|######### | 9/10 [01:57<00:13, 13.05s/it]"
     ]
    },
    {
     "name": "stdout",
     "output_type": "stream",
     "text": [
      "Training until validation scores don't improve for 100 rounds\n",
      "[100]\ttr's binary_logloss: 0.163147\tvl's binary_logloss: 0.336215\n",
      "Early stopping, best iteration is:\n",
      "[18]\ttr's binary_logloss: 0.221367\tvl's binary_logloss: 0.285028\n"
     ]
    },
    {
     "name": "stderr",
     "output_type": "stream",
     "text": [
      "tune_bagging_fraction_and_bagging_freq, val_score: 0.284809: 100%|##########| 10/10 [02:15<00:00, 13.51s/it]\n",
      "tune_feature_fraction, val_score: 0.284809:   0%|          | 0/3 [00:00<?, ?it/s]"
     ]
    },
    {
     "name": "stdout",
     "output_type": "stream",
     "text": [
      "Training until validation scores don't improve for 100 rounds\n",
      "[100]\ttr's binary_logloss: 0.162695\tvl's binary_logloss: 0.337664\n",
      "Early stopping, best iteration is:\n",
      "[18]\ttr's binary_logloss: 0.220425\tvl's binary_logloss: 0.285005\n"
     ]
    },
    {
     "name": "stderr",
     "output_type": "stream",
     "text": [
      "tune_feature_fraction, val_score: 0.284809:  33%|###3      | 1/3 [00:13<00:27, 13.54s/it]"
     ]
    },
    {
     "name": "stdout",
     "output_type": "stream",
     "text": [
      "Training until validation scores don't improve for 100 rounds\n",
      "[100]\ttr's binary_logloss: 0.161498\tvl's binary_logloss: 0.343652\n",
      "Early stopping, best iteration is:\n",
      "[18]\ttr's binary_logloss: 0.215187\tvl's binary_logloss: 0.284841\n"
     ]
    },
    {
     "name": "stderr",
     "output_type": "stream",
     "text": [
      "tune_feature_fraction, val_score: 0.284809:  67%|######6   | 2/3 [00:27<00:13, 13.64s/it]"
     ]
    },
    {
     "name": "stdout",
     "output_type": "stream",
     "text": [
      "Training until validation scores don't improve for 100 rounds\n",
      "[100]\ttr's binary_logloss: 0.161179\tvl's binary_logloss: 0.347764\n",
      "Early stopping, best iteration is:\n",
      "[18]\ttr's binary_logloss: 0.215163\tvl's binary_logloss: 0.284777\n"
     ]
    },
    {
     "name": "stderr",
     "output_type": "stream",
     "text": [
      "tune_feature_fraction, val_score: 0.284777: 100%|##########| 3/3 [00:43<00:00, 14.37s/it]\n",
      "tune_lambda_l1_and_lambda_l2, val_score: 0.284777:   0%|          | 0/20 [00:00<?, ?it/s]"
     ]
    },
    {
     "name": "stdout",
     "output_type": "stream",
     "text": [
      "Training until validation scores don't improve for 100 rounds\n",
      "[100]\ttr's binary_logloss: 0.16108\tvl's binary_logloss: 0.34788\n",
      "Early stopping, best iteration is:\n",
      "[18]\ttr's binary_logloss: 0.215148\tvl's binary_logloss: 0.284825\n"
     ]
    },
    {
     "name": "stderr",
     "output_type": "stream",
     "text": [
      "tune_lambda_l1_and_lambda_l2, val_score: 0.284777:   5%|5         | 1/20 [00:18<05:56, 18.78s/it]"
     ]
    },
    {
     "name": "stdout",
     "output_type": "stream",
     "text": [
      "Training until validation scores don't improve for 100 rounds\n",
      "[100]\ttr's binary_logloss: 0.162533\tvl's binary_logloss: 0.346275\n",
      "Early stopping, best iteration is:\n",
      "[18]\ttr's binary_logloss: 0.215629\tvl's binary_logloss: 0.284697\n"
     ]
    },
    {
     "name": "stderr",
     "output_type": "stream",
     "text": [
      "tune_lambda_l1_and_lambda_l2, val_score: 0.284697:  10%|#         | 2/20 [00:37<05:38, 18.82s/it]"
     ]
    },
    {
     "name": "stdout",
     "output_type": "stream",
     "text": [
      "Training until validation scores don't improve for 100 rounds\n",
      "[100]\ttr's binary_logloss: 0.161158\tvl's binary_logloss: 0.347949\n",
      "Early stopping, best iteration is:\n",
      "[18]\ttr's binary_logloss: 0.215158\tvl's binary_logloss: 0.284808\n"
     ]
    },
    {
     "name": "stderr",
     "output_type": "stream",
     "text": [
      "tune_lambda_l1_and_lambda_l2, val_score: 0.284697:  15%|#5        | 3/20 [00:56<05:18, 18.71s/it]"
     ]
    },
    {
     "name": "stdout",
     "output_type": "stream",
     "text": [
      "Training until validation scores don't improve for 100 rounds\n",
      "[100]\ttr's binary_logloss: 0.161215\tvl's binary_logloss: 0.347274\n",
      "Early stopping, best iteration is:\n",
      "[18]\ttr's binary_logloss: 0.215169\tvl's binary_logloss: 0.28476\n"
     ]
    },
    {
     "name": "stderr",
     "output_type": "stream",
     "text": [
      "tune_lambda_l1_and_lambda_l2, val_score: 0.284697:  20%|##        | 4/20 [01:14<04:58, 18.64s/it]"
     ]
    },
    {
     "name": "stdout",
     "output_type": "stream",
     "text": [
      "Training until validation scores don't improve for 100 rounds\n",
      "[100]\ttr's binary_logloss: 0.162045\tvl's binary_logloss: 0.347252\n",
      "Early stopping, best iteration is:\n",
      "[18]\ttr's binary_logloss: 0.215312\tvl's binary_logloss: 0.284822\n"
     ]
    },
    {
     "name": "stderr",
     "output_type": "stream",
     "text": [
      "tune_lambda_l1_and_lambda_l2, val_score: 0.284697:  25%|##5       | 5/20 [01:33<04:41, 18.75s/it]"
     ]
    },
    {
     "name": "stdout",
     "output_type": "stream",
     "text": [
      "Training until validation scores don't improve for 100 rounds\n",
      "[100]\ttr's binary_logloss: 0.16165\tvl's binary_logloss: 0.347058\n",
      "Early stopping, best iteration is:\n",
      "[18]\ttr's binary_logloss: 0.215325\tvl's binary_logloss: 0.284704\n"
     ]
    },
    {
     "name": "stderr",
     "output_type": "stream",
     "text": [
      "tune_lambda_l1_and_lambda_l2, val_score: 0.284697:  30%|###       | 6/20 [01:52<04:22, 18.74s/it]"
     ]
    },
    {
     "name": "stdout",
     "output_type": "stream",
     "text": [
      "Training until validation scores don't improve for 100 rounds\n",
      "[100]\ttr's binary_logloss: 0.163272\tvl's binary_logloss: 0.345762\n",
      "Early stopping, best iteration is:\n",
      "[18]\ttr's binary_logloss: 0.215799\tvl's binary_logloss: 0.284652\n"
     ]
    },
    {
     "name": "stderr",
     "output_type": "stream",
     "text": [
      "tune_lambda_l1_and_lambda_l2, val_score: 0.284652:  35%|###5      | 7/20 [02:11<04:05, 18.91s/it]"
     ]
    },
    {
     "name": "stdout",
     "output_type": "stream",
     "text": [
      "Training until validation scores don't improve for 100 rounds\n",
      "[100]\ttr's binary_logloss: 0.161123\tvl's binary_logloss: 0.347583\n",
      "Early stopping, best iteration is:\n",
      "[18]\ttr's binary_logloss: 0.215163\tvl's binary_logloss: 0.284777\n"
     ]
    },
    {
     "name": "stderr",
     "output_type": "stream",
     "text": [
      "tune_lambda_l1_and_lambda_l2, val_score: 0.284652:  40%|####      | 8/20 [02:30<03:45, 18.77s/it]"
     ]
    },
    {
     "name": "stdout",
     "output_type": "stream",
     "text": [
      "Training until validation scores don't improve for 100 rounds\n",
      "[100]\ttr's binary_logloss: 0.163707\tvl's binary_logloss: 0.345589\n",
      "Early stopping, best iteration is:\n",
      "[18]\ttr's binary_logloss: 0.216021\tvl's binary_logloss: 0.284715\n"
     ]
    },
    {
     "name": "stderr",
     "output_type": "stream",
     "text": [
      "tune_lambda_l1_and_lambda_l2, val_score: 0.284652:  45%|####5     | 9/20 [02:49<03:28, 18.93s/it]"
     ]
    },
    {
     "name": "stdout",
     "output_type": "stream",
     "text": [
      "Training until validation scores don't improve for 100 rounds\n",
      "[100]\ttr's binary_logloss: 0.161101\tvl's binary_logloss: 0.347664\n",
      "Early stopping, best iteration is:\n",
      "[18]\ttr's binary_logloss: 0.215163\tvl's binary_logloss: 0.284777\n"
     ]
    },
    {
     "name": "stderr",
     "output_type": "stream",
     "text": [
      "tune_lambda_l1_and_lambda_l2, val_score: 0.284652:  50%|#####     | 10/20 [03:07<03:07, 18.75s/it]"
     ]
    },
    {
     "name": "stdout",
     "output_type": "stream",
     "text": [
      "Training until validation scores don't improve for 100 rounds\n",
      "[100]\ttr's binary_logloss: 0.16126\tvl's binary_logloss: 0.34781\n",
      "Early stopping, best iteration is:\n",
      "[18]\ttr's binary_logloss: 0.215162\tvl's binary_logloss: 0.28483\n"
     ]
    },
    {
     "name": "stderr",
     "output_type": "stream",
     "text": [
      "tune_lambda_l1_and_lambda_l2, val_score: 0.284652:  55%|#####5    | 11/20 [03:26<02:48, 18.67s/it]"
     ]
    },
    {
     "name": "stdout",
     "output_type": "stream",
     "text": [
      "Training until validation scores don't improve for 100 rounds\n",
      "[100]\ttr's binary_logloss: 0.166627\tvl's binary_logloss: 0.342785\n",
      "Early stopping, best iteration is:\n",
      "[18]\ttr's binary_logloss: 0.21724\tvl's binary_logloss: 0.284925\n"
     ]
    },
    {
     "name": "stderr",
     "output_type": "stream",
     "text": [
      "tune_lambda_l1_and_lambda_l2, val_score: 0.284652:  60%|######    | 12/20 [03:46<02:33, 19.18s/it]"
     ]
    },
    {
     "name": "stdout",
     "output_type": "stream",
     "text": [
      "Training until validation scores don't improve for 100 rounds\n",
      "[100]\ttr's binary_logloss: 0.166626\tvl's binary_logloss: 0.342806\n",
      "Early stopping, best iteration is:\n",
      "[20]\ttr's binary_logloss: 0.214244\tvl's binary_logloss: 0.284901\n"
     ]
    },
    {
     "name": "stderr",
     "output_type": "stream",
     "text": [
      "tune_lambda_l1_and_lambda_l2, val_score: 0.284652:  65%|######5   | 13/20 [04:07<02:17, 19.65s/it]"
     ]
    },
    {
     "name": "stdout",
     "output_type": "stream",
     "text": [
      "Training until validation scores don't improve for 100 rounds\n",
      "[100]\ttr's binary_logloss: 0.161265\tvl's binary_logloss: 0.347773\n",
      "Early stopping, best iteration is:\n",
      "[18]\ttr's binary_logloss: 0.215163\tvl's binary_logloss: 0.284777\n"
     ]
    },
    {
     "name": "stderr",
     "output_type": "stream",
     "text": [
      "tune_lambda_l1_and_lambda_l2, val_score: 0.284652:  70%|#######   | 14/20 [04:26<01:56, 19.35s/it]"
     ]
    },
    {
     "name": "stdout",
     "output_type": "stream",
     "text": [
      "Training until validation scores don't improve for 100 rounds\n",
      "[100]\ttr's binary_logloss: 0.162688\tvl's binary_logloss: 0.346112\n",
      "Early stopping, best iteration is:\n",
      "[18]\ttr's binary_logloss: 0.215627\tvl's binary_logloss: 0.284672\n"
     ]
    },
    {
     "name": "stderr",
     "output_type": "stream",
     "text": [
      "tune_lambda_l1_and_lambda_l2, val_score: 0.284652:  75%|#######5  | 15/20 [04:44<01:36, 19.21s/it]"
     ]
    },
    {
     "name": "stdout",
     "output_type": "stream",
     "text": [
      "Training until validation scores don't improve for 100 rounds\n",
      "[100]\ttr's binary_logloss: 0.166966\tvl's binary_logloss: 0.342328\n",
      "Early stopping, best iteration is:\n",
      "[18]\ttr's binary_logloss: 0.21736\tvl's binary_logloss: 0.284869\n"
     ]
    },
    {
     "name": "stderr",
     "output_type": "stream",
     "text": [
      "tune_lambda_l1_and_lambda_l2, val_score: 0.284652:  80%|########  | 16/20 [05:05<01:18, 19.70s/it]"
     ]
    },
    {
     "name": "stdout",
     "output_type": "stream",
     "text": [
      "Training until validation scores don't improve for 100 rounds\n",
      "[100]\ttr's binary_logloss: 0.161452\tvl's binary_logloss: 0.347695\n",
      "Early stopping, best iteration is:\n",
      "[18]\ttr's binary_logloss: 0.215256\tvl's binary_logloss: 0.284764\n"
     ]
    },
    {
     "name": "stderr",
     "output_type": "stream",
     "text": [
      "tune_lambda_l1_and_lambda_l2, val_score: 0.284652:  85%|########5 | 17/20 [05:24<00:58, 19.50s/it]"
     ]
    },
    {
     "name": "stdout",
     "output_type": "stream",
     "text": [
      "Training until validation scores don't improve for 100 rounds\n",
      "[100]\ttr's binary_logloss: 0.161737\tvl's binary_logloss: 0.347111\n",
      "Early stopping, best iteration is:\n",
      "[18]\ttr's binary_logloss: 0.215337\tvl's binary_logloss: 0.284794\n"
     ]
    },
    {
     "name": "stderr",
     "output_type": "stream",
     "text": [
      "tune_lambda_l1_and_lambda_l2, val_score: 0.284652:  90%|######### | 18/20 [05:43<00:38, 19.18s/it]"
     ]
    },
    {
     "name": "stdout",
     "output_type": "stream",
     "text": [
      "Training until validation scores don't improve for 100 rounds\n",
      "[100]\ttr's binary_logloss: 0.161045\tvl's binary_logloss: 0.3476\n",
      "Early stopping, best iteration is:\n",
      "[18]\ttr's binary_logloss: 0.215163\tvl's binary_logloss: 0.284777\n"
     ]
    },
    {
     "name": "stderr",
     "output_type": "stream",
     "text": [
      "tune_lambda_l1_and_lambda_l2, val_score: 0.284652:  95%|#########5| 19/20 [06:02<00:19, 19.06s/it]"
     ]
    },
    {
     "name": "stdout",
     "output_type": "stream",
     "text": [
      "Training until validation scores don't improve for 100 rounds\n",
      "[100]\ttr's binary_logloss: 0.161389\tvl's binary_logloss: 0.348044\n",
      "Early stopping, best iteration is:\n",
      "[18]\ttr's binary_logloss: 0.215165\tvl's binary_logloss: 0.284807\n"
     ]
    },
    {
     "name": "stderr",
     "output_type": "stream",
     "text": [
      "tune_lambda_l1_and_lambda_l2, val_score: 0.284652: 100%|##########| 20/20 [06:20<00:00, 19.02s/it]\n",
      "tune_min_child_samples, val_score: 0.284652:   0%|          | 0/5 [00:00<?, ?it/s]"
     ]
    },
    {
     "name": "stdout",
     "output_type": "stream",
     "text": [
      "Training until validation scores don't improve for 100 rounds\n",
      "[100]\ttr's binary_logloss: 0.163116\tvl's binary_logloss: 0.345759\n",
      "Early stopping, best iteration is:\n",
      "[18]\ttr's binary_logloss: 0.215792\tvl's binary_logloss: 0.284655\n"
     ]
    },
    {
     "name": "stderr",
     "output_type": "stream",
     "text": [
      "tune_min_child_samples, val_score: 0.284652:  20%|##        | 1/5 [00:19<01:19, 19.89s/it]"
     ]
    },
    {
     "name": "stdout",
     "output_type": "stream",
     "text": [
      "Training until validation scores don't improve for 100 rounds\n",
      "[100]\ttr's binary_logloss: 0.163038\tvl's binary_logloss: 0.34547\n",
      "Early stopping, best iteration is:\n",
      "[18]\ttr's binary_logloss: 0.21577\tvl's binary_logloss: 0.284619\n"
     ]
    },
    {
     "name": "stderr",
     "output_type": "stream",
     "text": [
      "tune_min_child_samples, val_score: 0.284619:  40%|####      | 2/5 [00:39<00:59, 19.92s/it]"
     ]
    },
    {
     "name": "stdout",
     "output_type": "stream",
     "text": [
      "Training until validation scores don't improve for 100 rounds\n",
      "[100]\ttr's binary_logloss: 0.163479\tvl's binary_logloss: 0.34575\n",
      "Early stopping, best iteration is:\n",
      "[20]\ttr's binary_logloss: 0.21273\tvl's binary_logloss: 0.284652\n"
     ]
    },
    {
     "name": "stderr",
     "output_type": "stream",
     "text": [
      "tune_min_child_samples, val_score: 0.284619:  60%|######    | 3/5 [00:59<00:39, 19.84s/it]"
     ]
    },
    {
     "name": "stdout",
     "output_type": "stream",
     "text": [
      "Training until validation scores don't improve for 100 rounds\n",
      "[100]\ttr's binary_logloss: 0.163563\tvl's binary_logloss: 0.345823\n",
      "Early stopping, best iteration is:\n",
      "[18]\ttr's binary_logloss: 0.215827\tvl's binary_logloss: 0.284656\n"
     ]
    },
    {
     "name": "stderr",
     "output_type": "stream",
     "text": [
      "tune_min_child_samples, val_score: 0.284619:  80%|########  | 4/5 [01:18<00:19, 19.64s/it]"
     ]
    },
    {
     "name": "stdout",
     "output_type": "stream",
     "text": [
      "Training until validation scores don't improve for 100 rounds\n",
      "[100]\ttr's binary_logloss: 0.163547\tvl's binary_logloss: 0.345848\n",
      "Early stopping, best iteration is:\n",
      "[18]\ttr's binary_logloss: 0.215914\tvl's binary_logloss: 0.284628\n"
     ]
    },
    {
     "name": "stderr",
     "output_type": "stream",
     "text": [
      "tune_min_child_samples, val_score: 0.284619: 100%|##########| 5/5 [01:38<00:00, 19.64s/it]\n"
     ]
    }
   ],
   "source": [
    "dtr = lgb.Dataset(dftr[cols_feat], label=dftr[TCOL])\n",
    "dvl = lgb.Dataset(dfvl[cols_feat], label=dfvl[TCOL])\n",
    "best_params, tuning_history = {}, []\n",
    "evalres = {}\n",
    "evallist = [(dtr, 'train'), (dvl, 'eval')]\n",
    "bst = lgb.train(params=params, \n",
    "                train_set=dtr, \n",
    "                num_boost_round=50000,\n",
    "                valid_sets=[dtr, dvl],\n",
    "                valid_names=['tr','vl'],\n",
    "                best_params=best_params,\n",
    "                tuning_history=tuning_history,\n",
    "                verbose_eval=100,\n",
    "                early_stopping_rounds=100,\n",
    "                evals_result=evalres,\n",
    "               )\n",
    "results['bst'] = bst\n",
    "results['evalres'] = evalres\n",
    "results['best_params']=best_params\n",
    "results['tuning_history']=tuning_history\n"
   ]
  },
  {
   "cell_type": "code",
   "execution_count": 20,
   "metadata": {},
   "outputs": [
    {
     "data": {
      "text/plain": [
       "{'lambda_l1': 2.5169765337877386,\n",
       " 'lambda_l2': 0.04977612486799786,\n",
       " 'num_leaves': 242,\n",
       " 'feature_fraction': 0.48000000000000004,\n",
       " 'bagging_fraction': 1.0,\n",
       " 'bagging_freq': 0,\n",
       " 'min_child_samples': 10}"
      ]
     },
     "execution_count": 20,
     "metadata": {},
     "output_type": "execute_result"
    }
   ],
   "source": [
    "best_params"
   ]
  },
  {
   "cell_type": "markdown",
   "metadata": {},
   "source": [
    "## tr vl trajec"
   ]
  },
  {
   "cell_type": "code",
   "execution_count": 21,
   "metadata": {},
   "outputs": [
    {
     "data": {
      "image/png": "[encoded data removed]",
      "text/plain": [
       "<Figure size 432x288 with 1 Axes>"
      ]
     },
     "metadata": {
      "needs_background": "light"
     },
     "output_type": "display_data"
    }
   ],
   "source": [
    "plt.plot(evalres['tr']['binary_logloss'])\n",
    "plt.plot(evalres['vl']['binary_logloss'])\n",
    "plt.title(f\"logloss; best_iteration {bst.best_iteration}\")\n",
    "plt.show()"
   ]
  },
  {
   "cell_type": "markdown",
   "metadata": {},
   "source": [
    "## model features"
   ]
  },
  {
   "cell_type": "code",
   "execution_count": 22,
   "metadata": {},
   "outputs": [
    {
     "data": {
      "image/png": "[encoded data removed]",
      "text/plain": [
       "<Figure size 720x360 with 1 Axes>"
      ]
     },
     "metadata": {
      "needs_background": "light"
     },
     "output_type": "display_data"
    }
   ],
   "source": [
    "ax = lgb.plot_importance(bst, height=0.8, max_num_features=50, figsize=(10,5))\n",
    "ax.grid(False, axis=\"y\")\n",
    "ax.set_title(f'Estimated feature importance')\n",
    "plt.show()"
   ]
  },
  {
   "cell_type": "code",
   "execution_count": 23,
   "metadata": {
    "scrolled": true
   },
   "outputs": [
    {
     "data": {
      "text/html": [
       "<div>\n",
       "<style scoped>\n",
       "    .dataframe tbody tr th:only-of-type {\n",
       "        vertical-align: middle;\n",
       "    }\n",
       "\n",
       "    .dataframe tbody tr th {\n",
       "        vertical-align: top;\n",
       "    }\n",
       "\n",
       "    .dataframe thead th {\n",
       "        text-align: right;\n",
       "    }\n",
       "</style>\n",
       "<table border=\"1\" class=\"dataframe\">\n",
       "  <thead>\n",
       "    <tr style=\"text-align: right;\">\n",
       "      <th></th>\n",
       "      <th>0</th>\n",
       "      <th>1</th>\n",
       "    </tr>\n",
       "  </thead>\n",
       "  <tbody>\n",
       "    <tr>\n",
       "      <th>29</th>\n",
       "      <td>langhour</td>\n",
       "      <td>777</td>\n",
       "    </tr>\n",
       "    <tr>\n",
       "      <th>65</th>\n",
       "      <td>tgtenc_u1_fllwing_cnt</td>\n",
       "      <td>198</td>\n",
       "    </tr>\n",
       "    <tr>\n",
       "      <th>68</th>\n",
       "      <td>tgtenc_u2_fllwer_cnt</td>\n",
       "      <td>195</td>\n",
       "    </tr>\n",
       "    <tr>\n",
       "      <th>26</th>\n",
       "      <td>u2_age</td>\n",
       "      <td>193</td>\n",
       "    </tr>\n",
       "    <tr>\n",
       "      <th>23</th>\n",
       "      <td>tmdlta_twtu2</td>\n",
       "      <td>188</td>\n",
       "    </tr>\n",
       "    <tr>\n",
       "      <th>28</th>\n",
       "      <td>u1_fllwng_cnt_by_age</td>\n",
       "      <td>178</td>\n",
       "    </tr>\n",
       "    <tr>\n",
       "      <th>3</th>\n",
       "      <td>u1_fllwing_cnt</td>\n",
       "      <td>148</td>\n",
       "    </tr>\n",
       "    <tr>\n",
       "      <th>9</th>\n",
       "      <td>len_toks</td>\n",
       "      <td>142</td>\n",
       "    </tr>\n",
       "    <tr>\n",
       "      <th>2</th>\n",
       "      <td>u1_fllwer_cnt</td>\n",
       "      <td>141</td>\n",
       "    </tr>\n",
       "    <tr>\n",
       "      <th>37</th>\n",
       "      <td>frq_u2_fllwer_cnt</td>\n",
       "      <td>126</td>\n",
       "    </tr>\n",
       "    <tr>\n",
       "      <th>1</th>\n",
       "      <td>lang</td>\n",
       "      <td>124</td>\n",
       "    </tr>\n",
       "    <tr>\n",
       "      <th>27</th>\n",
       "      <td>u1_fllwer_cnt_by_age</td>\n",
       "      <td>119</td>\n",
       "    </tr>\n",
       "    <tr>\n",
       "      <th>5</th>\n",
       "      <td>u2_fllwer_cnt</td>\n",
       "      <td>115</td>\n",
       "    </tr>\n",
       "    <tr>\n",
       "      <th>83</th>\n",
       "      <td>tgtenc_langhour</td>\n",
       "      <td>115</td>\n",
       "    </tr>\n",
       "    <tr>\n",
       "      <th>6</th>\n",
       "      <td>u2_fllwng_cnt</td>\n",
       "      <td>114</td>\n",
       "    </tr>\n",
       "    <tr>\n",
       "      <th>61</th>\n",
       "      <td>tgtenc_twtid</td>\n",
       "      <td>114</td>\n",
       "    </tr>\n",
       "    <tr>\n",
       "      <th>34</th>\n",
       "      <td>frq_u1_fllwing_cnt</td>\n",
       "      <td>107</td>\n",
       "    </tr>\n",
       "    <tr>\n",
       "      <th>64</th>\n",
       "      <td>tgtenc_u1id</td>\n",
       "      <td>98</td>\n",
       "    </tr>\n",
       "    <tr>\n",
       "      <th>32</th>\n",
       "      <td>frq_lang</td>\n",
       "      <td>86</td>\n",
       "    </tr>\n",
       "    <tr>\n",
       "      <th>0</th>\n",
       "      <td>twttyp</td>\n",
       "      <td>86</td>\n",
       "    </tr>\n",
       "    <tr>\n",
       "      <th>22</th>\n",
       "      <td>tmdlta_twtu1</td>\n",
       "      <td>85</td>\n",
       "    </tr>\n",
       "    <tr>\n",
       "      <th>25</th>\n",
       "      <td>u1_age</td>\n",
       "      <td>78</td>\n",
       "    </tr>\n",
       "    <tr>\n",
       "      <th>24</th>\n",
       "      <td>twt_age</td>\n",
       "      <td>65</td>\n",
       "    </tr>\n",
       "    <tr>\n",
       "      <th>33</th>\n",
       "      <td>frq_u1id</td>\n",
       "      <td>55</td>\n",
       "    </tr>\n",
       "    <tr>\n",
       "      <th>52</th>\n",
       "      <td>frq_langhour</td>\n",
       "      <td>53</td>\n",
       "    </tr>\n",
       "    <tr>\n",
       "      <th>63</th>\n",
       "      <td>tgtenc_lang</td>\n",
       "      <td>35</td>\n",
       "    </tr>\n",
       "    <tr>\n",
       "      <th>82</th>\n",
       "      <td>tgtenc_u1u2</td>\n",
       "      <td>35</td>\n",
       "    </tr>\n",
       "    <tr>\n",
       "      <th>67</th>\n",
       "      <td>tgtenc_u2id</td>\n",
       "      <td>33</td>\n",
       "    </tr>\n",
       "    <tr>\n",
       "      <th>53</th>\n",
       "      <td>sumfrq_hshtgs</td>\n",
       "      <td>31</td>\n",
       "    </tr>\n",
       "    <tr>\n",
       "      <th>21</th>\n",
       "      <td>tmdlta_u2u1</td>\n",
       "      <td>31</td>\n",
       "    </tr>\n",
       "    <tr>\n",
       "      <th>55</th>\n",
       "      <td>sumfrq_media</td>\n",
       "      <td>26</td>\n",
       "    </tr>\n",
       "    <tr>\n",
       "      <th>30</th>\n",
       "      <td>frq_twtid</td>\n",
       "      <td>26</td>\n",
       "    </tr>\n",
       "    <tr>\n",
       "      <th>44</th>\n",
       "      <td>frq_n_hshtgs</td>\n",
       "      <td>26</td>\n",
       "    </tr>\n",
       "    <tr>\n",
       "      <th>18</th>\n",
       "      <td>n_domns</td>\n",
       "      <td>24</td>\n",
       "    </tr>\n",
       "    <tr>\n",
       "      <th>60</th>\n",
       "      <td>maxfrq_domns</td>\n",
       "      <td>21</td>\n",
       "    </tr>\n",
       "    <tr>\n",
       "      <th>75</th>\n",
       "      <td>tgtenc_n_hshtgs</td>\n",
       "      <td>21</td>\n",
       "    </tr>\n",
       "    <tr>\n",
       "      <th>59</th>\n",
       "      <td>sumfrq_domns</td>\n",
       "      <td>21</td>\n",
       "    </tr>\n",
       "    <tr>\n",
       "      <th>17</th>\n",
       "      <td>has_domns</td>\n",
       "      <td>20</td>\n",
       "    </tr>\n",
       "    <tr>\n",
       "      <th>62</th>\n",
       "      <td>tgtenc_twttyp</td>\n",
       "      <td>19</td>\n",
       "    </tr>\n",
       "    <tr>\n",
       "      <th>54</th>\n",
       "      <td>maxfrq_hshtgs</td>\n",
       "      <td>18</td>\n",
       "    </tr>\n",
       "    <tr>\n",
       "      <th>10</th>\n",
       "      <td>n_media_Photo</td>\n",
       "      <td>17</td>\n",
       "    </tr>\n",
       "    <tr>\n",
       "      <th>36</th>\n",
       "      <td>frq_u2id</td>\n",
       "      <td>16</td>\n",
       "    </tr>\n",
       "    <tr>\n",
       "      <th>15</th>\n",
       "      <td>has_media</td>\n",
       "      <td>16</td>\n",
       "    </tr>\n",
       "    <tr>\n",
       "      <th>11</th>\n",
       "      <td>n_media_Video</td>\n",
       "      <td>16</td>\n",
       "    </tr>\n",
       "    <tr>\n",
       "      <th>80</th>\n",
       "      <td>tgtenc_dayofweek</td>\n",
       "      <td>15</td>\n",
       "    </tr>\n",
       "    <tr>\n",
       "      <th>79</th>\n",
       "      <td>tgtenc_n_domns</td>\n",
       "      <td>15</td>\n",
       "    </tr>\n",
       "    <tr>\n",
       "      <th>13</th>\n",
       "      <td>has_hshtgs</td>\n",
       "      <td>15</td>\n",
       "    </tr>\n",
       "    <tr>\n",
       "      <th>8</th>\n",
       "      <td>u1_fllw_u2</td>\n",
       "      <td>14</td>\n",
       "    </tr>\n",
       "    <tr>\n",
       "      <th>39</th>\n",
       "      <td>frq_u1_fllw_u2</td>\n",
       "      <td>11</td>\n",
       "    </tr>\n",
       "    <tr>\n",
       "      <th>31</th>\n",
       "      <td>frq_twttyp</td>\n",
       "      <td>10</td>\n",
       "    </tr>\n",
       "    <tr>\n",
       "      <th>14</th>\n",
       "      <td>n_hshtgs</td>\n",
       "      <td>9</td>\n",
       "    </tr>\n",
       "    <tr>\n",
       "      <th>16</th>\n",
       "      <td>n_media</td>\n",
       "      <td>9</td>\n",
       "    </tr>\n",
       "    <tr>\n",
       "      <th>57</th>\n",
       "      <td>sumfrq_links</td>\n",
       "      <td>8</td>\n",
       "    </tr>\n",
       "    <tr>\n",
       "      <th>56</th>\n",
       "      <td>maxfrq_media</td>\n",
       "      <td>8</td>\n",
       "    </tr>\n",
       "    <tr>\n",
       "      <th>81</th>\n",
       "      <td>tgtenc_hour</td>\n",
       "      <td>8</td>\n",
       "    </tr>\n",
       "    <tr>\n",
       "      <th>47</th>\n",
       "      <td>frq_has_domns</td>\n",
       "      <td>8</td>\n",
       "    </tr>\n",
       "    <tr>\n",
       "      <th>46</th>\n",
       "      <td>frq_n_media</td>\n",
       "      <td>8</td>\n",
       "    </tr>\n",
       "    <tr>\n",
       "      <th>43</th>\n",
       "      <td>frq_has_hshtgs</td>\n",
       "      <td>7</td>\n",
       "    </tr>\n",
       "    <tr>\n",
       "      <th>48</th>\n",
       "      <td>frq_n_domns</td>\n",
       "      <td>7</td>\n",
       "    </tr>\n",
       "    <tr>\n",
       "      <th>19</th>\n",
       "      <td>dayofweek</td>\n",
       "      <td>6</td>\n",
       "    </tr>\n",
       "    <tr>\n",
       "      <th>20</th>\n",
       "      <td>hour</td>\n",
       "      <td>5</td>\n",
       "    </tr>\n",
       "    <tr>\n",
       "      <th>49</th>\n",
       "      <td>frq_dayofweek</td>\n",
       "      <td>3</td>\n",
       "    </tr>\n",
       "    <tr>\n",
       "      <th>40</th>\n",
       "      <td>frq_n_media_Photo</td>\n",
       "      <td>3</td>\n",
       "    </tr>\n",
       "    <tr>\n",
       "      <th>70</th>\n",
       "      <td>tgtenc_u1_fllw_u2</td>\n",
       "      <td>3</td>\n",
       "    </tr>\n",
       "    <tr>\n",
       "      <th>51</th>\n",
       "      <td>frq_u1u2</td>\n",
       "      <td>2</td>\n",
       "    </tr>\n",
       "    <tr>\n",
       "      <th>35</th>\n",
       "      <td>frq_u1_vrfed</td>\n",
       "      <td>2</td>\n",
       "    </tr>\n",
       "    <tr>\n",
       "      <th>45</th>\n",
       "      <td>frq_has_media</td>\n",
       "      <td>2</td>\n",
       "    </tr>\n",
       "    <tr>\n",
       "      <th>4</th>\n",
       "      <td>u1_vrfed</td>\n",
       "      <td>2</td>\n",
       "    </tr>\n",
       "    <tr>\n",
       "      <th>41</th>\n",
       "      <td>frq_n_media_Video</td>\n",
       "      <td>2</td>\n",
       "    </tr>\n",
       "    <tr>\n",
       "      <th>58</th>\n",
       "      <td>maxfrq_links</td>\n",
       "      <td>1</td>\n",
       "    </tr>\n",
       "    <tr>\n",
       "      <th>77</th>\n",
       "      <td>tgtenc_n_media</td>\n",
       "      <td>1</td>\n",
       "    </tr>\n",
       "    <tr>\n",
       "      <th>72</th>\n",
       "      <td>tgtenc_n_media_Video</td>\n",
       "      <td>1</td>\n",
       "    </tr>\n",
       "    <tr>\n",
       "      <th>50</th>\n",
       "      <td>frq_hour</td>\n",
       "      <td>1</td>\n",
       "    </tr>\n",
       "    <tr>\n",
       "      <th>71</th>\n",
       "      <td>tgtenc_n_media_Photo</td>\n",
       "      <td>0</td>\n",
       "    </tr>\n",
       "    <tr>\n",
       "      <th>73</th>\n",
       "      <td>tgtenc_n_media_GIF</td>\n",
       "      <td>0</td>\n",
       "    </tr>\n",
       "    <tr>\n",
       "      <th>74</th>\n",
       "      <td>tgtenc_has_hshtgs</td>\n",
       "      <td>0</td>\n",
       "    </tr>\n",
       "    <tr>\n",
       "      <th>69</th>\n",
       "      <td>tgtenc_u2_vrfed</td>\n",
       "      <td>0</td>\n",
       "    </tr>\n",
       "    <tr>\n",
       "      <th>76</th>\n",
       "      <td>tgtenc_has_media</td>\n",
       "      <td>0</td>\n",
       "    </tr>\n",
       "    <tr>\n",
       "      <th>66</th>\n",
       "      <td>tgtenc_u1_vrfed</td>\n",
       "      <td>0</td>\n",
       "    </tr>\n",
       "    <tr>\n",
       "      <th>78</th>\n",
       "      <td>tgtenc_has_domns</td>\n",
       "      <td>0</td>\n",
       "    </tr>\n",
       "    <tr>\n",
       "      <th>7</th>\n",
       "      <td>u2_vrfed</td>\n",
       "      <td>0</td>\n",
       "    </tr>\n",
       "    <tr>\n",
       "      <th>38</th>\n",
       "      <td>frq_u2_vrfed</td>\n",
       "      <td>0</td>\n",
       "    </tr>\n",
       "    <tr>\n",
       "      <th>12</th>\n",
       "      <td>n_media_GIF</td>\n",
       "      <td>0</td>\n",
       "    </tr>\n",
       "    <tr>\n",
       "      <th>42</th>\n",
       "      <td>frq_n_media_GIF</td>\n",
       "      <td>0</td>\n",
       "    </tr>\n",
       "  </tbody>\n",
       "</table>\n",
       "</div>"
      ],
      "text/plain": [
       "                        0    1\n",
       "29               langhour  777\n",
       "65  tgtenc_u1_fllwing_cnt  198\n",
       "68   tgtenc_u2_fllwer_cnt  195\n",
       "26                 u2_age  193\n",
       "23           tmdlta_twtu2  188\n",
       "28   u1_fllwng_cnt_by_age  178\n",
       "3          u1_fllwing_cnt  148\n",
       "9                len_toks  142\n",
       "2           u1_fllwer_cnt  141\n",
       "37      frq_u2_fllwer_cnt  126\n",
       "1                    lang  124\n",
       "27   u1_fllwer_cnt_by_age  119\n",
       "5           u2_fllwer_cnt  115\n",
       "83        tgtenc_langhour  115\n",
       "6           u2_fllwng_cnt  114\n",
       "61           tgtenc_twtid  114\n",
       "34     frq_u1_fllwing_cnt  107\n",
       "64            tgtenc_u1id   98\n",
       "32               frq_lang   86\n",
       "0                  twttyp   86\n",
       "22           tmdlta_twtu1   85\n",
       "25                 u1_age   78\n",
       "24                twt_age   65\n",
       "33               frq_u1id   55\n",
       "52           frq_langhour   53\n",
       "63            tgtenc_lang   35\n",
       "82            tgtenc_u1u2   35\n",
       "67            tgtenc_u2id   33\n",
       "53          sumfrq_hshtgs   31\n",
       "21            tmdlta_u2u1   31\n",
       "55           sumfrq_media   26\n",
       "30              frq_twtid   26\n",
       "44           frq_n_hshtgs   26\n",
       "18                n_domns   24\n",
       "60           maxfrq_domns   21\n",
       "75        tgtenc_n_hshtgs   21\n",
       "59           sumfrq_domns   21\n",
       "17              has_domns   20\n",
       "62          tgtenc_twttyp   19\n",
       "54          maxfrq_hshtgs   18\n",
       "10          n_media_Photo   17\n",
       "36               frq_u2id   16\n",
       "15              has_media   16\n",
       "11          n_media_Video   16\n",
       "80       tgtenc_dayofweek   15\n",
       "79         tgtenc_n_domns   15\n",
       "13             has_hshtgs   15\n",
       "8              u1_fllw_u2   14\n",
       "39         frq_u1_fllw_u2   11\n",
       "31             frq_twttyp   10\n",
       "14               n_hshtgs    9\n",
       "16                n_media    9\n",
       "57           sumfrq_links    8\n",
       "56           maxfrq_media    8\n",
       "81            tgtenc_hour    8\n",
       "47          frq_has_domns    8\n",
       "46            frq_n_media    8\n",
       "43         frq_has_hshtgs    7\n",
       "48            frq_n_domns    7\n",
       "19              dayofweek    6\n",
       "20                   hour    5\n",
       "49          frq_dayofweek    3\n",
       "40      frq_n_media_Photo    3\n",
       "70      tgtenc_u1_fllw_u2    3\n",
       "51               frq_u1u2    2\n",
       "35           frq_u1_vrfed    2\n",
       "45          frq_has_media    2\n",
       "4                u1_vrfed    2\n",
       "41      frq_n_media_Video    2\n",
       "58           maxfrq_links    1\n",
       "77         tgtenc_n_media    1\n",
       "72   tgtenc_n_media_Video    1\n",
       "50               frq_hour    1\n",
       "71   tgtenc_n_media_Photo    0\n",
       "73     tgtenc_n_media_GIF    0\n",
       "74      tgtenc_has_hshtgs    0\n",
       "69        tgtenc_u2_vrfed    0\n",
       "76       tgtenc_has_media    0\n",
       "66        tgtenc_u1_vrfed    0\n",
       "78       tgtenc_has_domns    0\n",
       "7                u2_vrfed    0\n",
       "38           frq_u2_vrfed    0\n",
       "12            n_media_GIF    0\n",
       "42        frq_n_media_GIF    0"
      ]
     },
     "execution_count": 23,
     "metadata": {},
     "output_type": "execute_result"
    }
   ],
   "source": [
    "pd.DataFrame([bst.feature_name(), bst.feature_importance()]).T.sort_values(1, ascending=False)"
   ]
  },
  {
   "cell_type": "markdown",
   "metadata": {},
   "source": [
    "# eval"
   ]
  },
  {
   "cell_type": "code",
   "execution_count": 24,
   "metadata": {},
   "outputs": [
    {
     "name": "stdout",
     "output_type": "stream",
     "text": [
      "CPU times: user 13.9 s, sys: 8.36 s, total: 22.3 s\n",
      "Wall time: 10 s\n"
     ]
    }
   ],
   "source": [
    "%%time\n",
    "prdtr = bst.predict(dftr[cols_feat],num_iteration=bst.best_iteration)\n",
    "prdvl = bst.predict(dfvl[cols_feat],num_iteration=bst.best_iteration)\n",
    "prdval0 = bst.predict(dfval[cols_feat],num_iteration=bst.best_iteration)\n",
    "prdval = calibration(prdval0, train_pop, target_pop, sampled_train_pop, sampled_target_pop)"
   ]
  },
  {
   "cell_type": "code",
   "execution_count": 25,
   "metadata": {},
   "outputs": [
    {
     "name": "stdout",
     "output_type": "stream",
     "text": [
      "CPU times: user 3.6 s, sys: 1.86 s, total: 5.46 s\n",
      "Wall time: 3.38 s\n"
     ]
    }
   ],
   "source": [
    "%%time\n",
    "ytr,yvl,yval=[df[TCOL].values for df in (dftr,dfvl,dfval)]\n",
    "\n",
    "auc_tr=compute_prauc(prdtr, ytr)\n",
    "rce_tr=compute_rce(prdtr, ytr)\n",
    "auc_vl=compute_prauc(prdvl, yvl)\n",
    "rce_vl=compute_rce(prdvl, yvl)\n",
    "auc_val=compute_prauc(prdval, yval)\n",
    "rce_val=compute_rce(prdval, yval)\n",
    "\n",
    "results['scrs'] = {}\n",
    "results['scrs']['auc_tr']=auc_tr\n",
    "results['scrs']['rce_tr']=rce_tr\n",
    "results['scrs']['auc_vl']=auc_vl\n",
    "results['scrs']['rce_vl']=rce_vl\n",
    "results['scrs']['auc_val']=auc_val\n",
    "results['scrs']['rce_val']=rce_val"
   ]
  },
  {
   "cell_type": "code",
   "execution_count": 26,
   "metadata": {},
   "outputs": [
    {
     "name": "stdout",
     "output_type": "stream",
     "text": [
      "auc_tr:  0.6286\n",
      "auc_vl:  0.2937\n",
      "auc_val: 0.0893\n",
      "\n",
      "rce_tr:  34.3572\n",
      "rce_vl:  13.7704\n",
      "rce_val: 10.1242\n"
     ]
    }
   ],
   "source": [
    "print(f'auc_tr:  {auc_tr:.4f}')\n",
    "print(f'auc_vl:  {auc_vl:.4f}')\n",
    "print(f'auc_val: {auc_val:.4f}')\n",
    "print()\n",
    "print(f'rce_tr:  {rce_tr:.4f}')\n",
    "print(f'rce_vl:  {rce_vl:.4f}')\n",
    "print(f'rce_val: {rce_val:.4f}')"
   ]
  },
  {
   "cell_type": "markdown",
   "metadata": {},
   "source": [
    "# save results"
   ]
  },
  {
   "cell_type": "code",
   "execution_count": 27,
   "metadata": {},
   "outputs": [],
   "source": [
    "pickle.dump(results, open(f'{p_out}/results_{PRFX}.p', 'wb'))"
   ]
  },
  {
   "cell_type": "markdown",
   "metadata": {},
   "source": [
    "# infer"
   ]
  },
  {
   "cell_type": "code",
   "execution_count": 28,
   "metadata": {},
   "outputs": [],
   "source": [
    "results = pickle.load( open(f'{p_out}/results_{PRFX}.p', 'rb'))\n",
    "bst = results['bst']\n",
    "col2tgtenc = results['col2tgtenc']\n",
    "cols_feat = results['cols_feat']\n",
    "tgt_encoder = results['tgt_encoder']"
   ]
  },
  {
   "cell_type": "markdown",
   "metadata": {},
   "source": [
    "## prep"
   ]
  },
  {
   "cell_type": "code",
   "execution_count": 29,
   "metadata": {},
   "outputs": [
    {
     "name": "stdout",
     "output_type": "stream",
     "text": [
      "CPU times: user 7.85 ms, sys: 0 ns, total: 7.85 ms\n",
      "Wall time: 6.11 ms\n"
     ]
    }
   ],
   "source": [
    "%%time\n",
    "dftst=pd.read_csv(\n",
    "    f'{p_in}/val_{tsttmstmp}.tsv',\n",
    "    sep='\\x01', header=None, names=cols_val, \n",
    "    nrows=10\n",
    ")"
   ]
  },
  {
   "cell_type": "code",
   "execution_count": 30,
   "metadata": {
    "scrolled": true
   },
   "outputs": [
    {
     "name": "stdout",
     "output_type": "stream",
     "text": [
      "2020-04-05 20:36:49 start\n",
      "2020-04-05 20:36:49 freq of columns using CountEncoder\n"
     ]
    },
    {
     "name": "stderr",
     "output_type": "stream",
     "text": [
      "/data/anaconda3/envs/rcss20/lib/python3.7/site-packages/category_encoders/count.py:255: FutureWarning: The pandas.np module is deprecated and will be removed from pandas in a future version. Import numpy directly instead\n",
      "  X.loc[:, self.cols] = X.fillna(value=pd.np.nan)\n"
     ]
    },
    {
     "name": "stdout",
     "output_type": "stream",
     "text": [
      "2020-04-05 20:36:49 freq of tags\n",
      "2020-04-05 20:36:49 done\n",
      "CPU times: user 127 ms, sys: 9.9 ms, total: 137 ms\n",
      "Wall time: 129 ms\n"
     ]
    }
   ],
   "source": [
    "%%time\n",
    "dftst=prp_df(dftst, tm_max=tm_tst_max)"
   ]
  },
  {
   "cell_type": "code",
   "execution_count": 31,
   "metadata": {},
   "outputs": [],
   "source": [
    "encoded_tst = tgt_encoder.transform(dftst[col2tgtenc].astype(object))\n",
    "tgtenc_columns = [f'tgtenc_{col}' for col in encoded_tst.columns]\n",
    "encoded_tst.columns = tgtenc_columns\n",
    "dftst = pd.concat([dftst, encoded_tst], 1)\n",
    "dftst.drop(columns=['u1id','u1u2'], inplace=True)\n",
    "cols_category=['twttyp', 'lang', 'langhour']\n",
    "dftst[cols_category]=dftst[cols_category].astype('category')"
   ]
  },
  {
   "cell_type": "markdown",
   "metadata": {},
   "source": [
    "## predict"
   ]
  },
  {
   "cell_type": "code",
   "execution_count": 32,
   "metadata": {},
   "outputs": [
    {
     "name": "stdout",
     "output_type": "stream",
     "text": [
      "CPU times: user 26.8 ms, sys: 1.76 ms, total: 28.6 ms\n",
      "Wall time: 21.5 ms\n"
     ]
    }
   ],
   "source": [
    "%%time\n",
    "prdtst0 = bst.predict(dftst[cols_feat],num_iteration=bst.best_iteration)\n",
    "prdtst = calibration(prdtst0, train_pop, target_pop, sampled_train_pop, sampled_target_pop)"
   ]
  },
  {
   "cell_type": "code",
   "execution_count": 33,
   "metadata": {},
   "outputs": [],
   "source": [
    "dfsub_ids = dftst[['twtid','u2id',]]\n",
    "dfsub = dfsub_ids.copy()\n",
    "dfsub['scr'] = prdtst\n",
    "dfsub.to_csv(f'{p_out}/{TGT}__{PRFX}.csv',index=False,header=False)"
   ]
  },
  {
   "cell_type": "code",
   "execution_count": null,
   "metadata": {},
   "outputs": [],
   "source": []
  },
  {
   "cell_type": "code",
   "execution_count": null,
   "metadata": {},
   "outputs": [],
   "source": []
  },
  {
   "cell_type": "code",
   "execution_count": null,
   "metadata": {},
   "outputs": [],
   "source": []
  }
 ],
 "metadata": {
  "kernelspec": {
   "display_name": "rcss20",
   "language": "python",
   "name": "rcss20"
  },
  "language_info": {
   "codemirror_mode": {
    "name": "ipython",
    "version": 3
   },
   "file_extension": ".py",
   "mimetype": "text/x-python",
   "name": "python",
   "nbconvert_exporter": "python",
   "pygments_lexer": "ipython3",
   "version": "3.7.6"
  },
  "toc": {
   "base_numbering": 1,
   "nav_menu": {},
   "number_sections": true,
   "sideBar": true,
   "skip_h1_title": false,
   "title_cell": "Table of Contents",
   "title_sidebar": "Contents",
   "toc_cell": false,
   "toc_position": {},
   "toc_section_display": true,
   "toc_window_display": true
  }
 },
 "nbformat": 4,
 "nbformat_minor": 4
}
