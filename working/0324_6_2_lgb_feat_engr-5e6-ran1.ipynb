{
 "cells": [
  {
   "cell_type": "markdown",
   "metadata": {},
   "source": [
    "https://www.kaggle.com/learn/feature-engineering\n",
    "user count feature"
   ]
  },
  {
   "cell_type": "markdown",
   "metadata": {},
   "source": [
    "# start"
   ]
  },
  {
   "cell_type": "code",
   "execution_count": 1,
   "metadata": {},
   "outputs": [
    {
     "name": "stdout",
     "output_type": "stream",
     "text": [
      "['2020-03-17 02:32:24', '2020-03-24 17:09:45']\n",
      "['2020-02-06 00:00:00', '2020-02-13 00:00:00']\n"
     ]
    }
   ],
   "source": [
    "PRFX='0324_6_2'\n",
    "trntmstmp=1584412344\n",
    "valtmstmp=1585069785\n",
    "import datetime\n",
    "print([datetime.datetime.fromtimestamp(o).strftime('%Y-%m-%d %H:%M:%S') for o in (trntmstmp, valtmstmp)])\n",
    "\n",
    "grand_total=1.5e8\n",
    "MIN_TM_TRN=1580947200\n",
    "MIN_TM_TST=1581552000\n",
    "print([datetime.datetime.fromtimestamp(o).strftime('%Y-%m-%d %H:%M:%S') for o in (MIN_TM_TRN, MIN_TM_TST)])\n",
    "\n",
    "\n",
    "CHNKSZ=5e6\n",
    "POST_RATE_WANTED=0.1"
   ]
  },
  {
   "cell_type": "markdown",
   "metadata": {},
   "source": [
    "# setup"
   ]
  },
  {
   "cell_type": "code",
   "execution_count": 2,
   "metadata": {
    "scrolled": true
   },
   "outputs": [
    {
     "data": {
      "text/plain": [
       "{'Retweet': 'retwt',\n",
       " 'Reply': 'reply',\n",
       " 'Like': 'like',\n",
       " 'RTwCmnt': 'retwt_cmmnt'}"
      ]
     },
     "execution_count": 2,
     "metadata": {},
     "output_type": "execute_result"
    }
   ],
   "source": [
    "from pathlib import Path\n",
    "import xgboost as xgb\n",
    "import lightgbm as lgb\n",
    "from sklearn.model_selection import train_test_split\n",
    "import pandas as pd\n",
    "import numpy as np\n",
    "import matplotlib.pyplot as plt\n",
    "from sklearn.metrics import accuracy_score, roc_auc_score, roc_curve, auc, precision_recall_curve\n",
    "import pickle\n",
    "from tqdm import tqdm\n",
    "from collections import Counter\n",
    "import category_encoders as ce\n",
    "pd.set_option('display.max_rows', 500)\n",
    "\n",
    "from functools import reduce\n",
    "import datetime\n",
    "def dtnow(): return datetime.datetime.now().strftime('%Y-%m-%d %H:%M:%S')\n",
    "\n",
    "SEED=101\n",
    "HOME='/data/git/recsys20'\n",
    "p_in=f'{HOME}/input'\n",
    "p_out=f'{HOME}/output/{PRFX}'\n",
    "Path(p_out).mkdir(exist_ok=True, parents=True)\n",
    "\n",
    "from sklearn.metrics import precision_recall_curve, auc, log_loss\n",
    "\n",
    "def compute_prauc(pred, gt):\n",
    "    prec, recall, thresh = precision_recall_curve(gt, pred)\n",
    "    prauc = auc(recall, prec)\n",
    "    return prauc\n",
    "\n",
    "def calculate_ctr(gt):\n",
    "    positive = len([x for x in gt if x == 1])\n",
    "    ctr = positive/float(len(gt))\n",
    "    return ctr\n",
    "\n",
    "def compute_rce(pred, gt):\n",
    "    cross_entropy = log_loss(gt, pred)\n",
    "    data_ctr = calculate_ctr(gt)\n",
    "    strawman_cross_entropy = log_loss(gt, [data_ctr for _ in range(len(gt))])\n",
    "    return (1.0 - cross_entropy/strawman_cross_entropy)*100.0\n",
    "\n",
    "# https://towardsdatascience.com/how-to-calibrate-undersampled-model-scores-8f3319c1ea5b\n",
    "# How to use the function?\n",
    "# Let’s say your goal is to generate a model that shows the credit default probabilities and your original \n",
    "# training data has 50,000 rows with only 500 of them labeled as target class. When you sample your non-target \n",
    "# instances randomly and reduce the total row count to 10,000, while conserving 500 target rows, our calibration\n",
    "# function becomes:\n",
    "# calibration(model_results, 50000, 500, 10000, 500)\n",
    "# Here model_results is your model probability output array. After you train your model and put the results in it, your function is ready to use. \n",
    "\n",
    "def calibration(data, train_pop, target_pop, sampled_train_pop, sampled_target_pop):\n",
    "    calibrated_data = \\\n",
    "    ((data * (target_pop / train_pop) / (sampled_target_pop / sampled_train_pop)) /\n",
    "    ((\n",
    "        (1 - data) * (1 - target_pop / train_pop) / (1 - sampled_target_pop / sampled_train_pop)\n",
    "     ) +\n",
    "     (\n",
    "        data * (target_pop / train_pop) / (sampled_target_pop / sampled_train_pop)\n",
    "     )))\n",
    "\n",
    "    return calibrated_data\n",
    "\n",
    "cols=[\n",
    "'toks',\n",
    "'hshtgs',\n",
    "'twtid',\n",
    "'media',\n",
    "'links',\n",
    "'domns',\n",
    "'twttyp',\n",
    "'lang',\n",
    "'tm',\n",
    "\n",
    "'u1id',\n",
    "'u1_fllwer_cnt',\n",
    "'u1_fllwng_cnt',\n",
    "'u1_vrfed',\n",
    "'u1_create_tm',\n",
    "\n",
    "'u2id',\n",
    "'u2_fllwer_cnt',\n",
    "'u2_fllwng_cnt',\n",
    "'u2_vrfed',\n",
    "'u2_create_tm',\n",
    "\n",
    "'u1_fllw_u2',\n",
    "'reply_tm',\n",
    "'retwt_tm',\n",
    "'retwt_cmmnt_tm',\n",
    "'like_tm',\n",
    "]\n",
    "cols_cat = ['twttyp','lang']\n",
    "cols_val = cols[:-4]\n",
    "cols_tgt_tmstmp=[\n",
    "    'retwt_tm',\n",
    "    'reply_tm',\n",
    "    'like_tm',\n",
    "    'retwt_cmmnt_tm',\n",
    "]\n",
    "cols_tgt=[o.split('_tm')[0] for o in cols_tgt_tmstmp]\n",
    "tgts             = ['Retweet','Reply','Like','RTwCmnt',]\n",
    "assert cols_tgt == ['retwt',  'reply','like','retwt_cmmnt',]\n",
    "ntgts=len(tgts)\n",
    "\n",
    "\n",
    "tgt2col=dict(zip(tgts,cols_tgt))\n",
    "tgt2col"
   ]
  },
  {
   "cell_type": "markdown",
   "metadata": {},
   "source": [
    "# prepare data"
   ]
  },
  {
   "cell_type": "markdown",
   "metadata": {},
   "source": [
    "## prep func"
   ]
  },
  {
   "cell_type": "code",
   "execution_count": 3,
   "metadata": {},
   "outputs": [],
   "source": [
    "# chnks_trn = pd.read_csv(f'{p_in}/trn_{trntmstmp}.tsv',sep='\\x01',\n",
    "#                     header=None,names=cols, \n",
    "#                         chunksize=CHNKSZ)\n",
    "# # first chunk as validate data\n",
    "# for ichnk,df in enumerate(chnks_trn):\n",
    "#     df\n",
    "#     break\n",
    "\n",
    "# istrn=True\n",
    "# tm_min = MIN_TM_TRN if istrn else MIN_TM_TST\n",
    "# df['len_toks'] = df.toks.apply(len)\n",
    "# for media in ['Photo', 'Video', 'GIF']:\n",
    "#     df[f'has_media_{media}'] = df.media.fillna('').apply(lambda x: media in x)\n",
    "# for col in ['hshtgs', 'links', 'domns',]:\n",
    "#     df[f'num_{col}'] = df[col].fillna('').apply(lambda x: len(x.split('\\t')) if len(x) else 0)\n",
    "\n",
    "# df['twt_age'] = df.tm - tm_min\n",
    "# df['u1_age']  = df.tm - df.u1_create_tm\n",
    "# df['u2_age']  = df.tm - df.u2_create_tm\n",
    "\n",
    "# tm_dt=pd.to_datetime(df.tm, unit='s')\n",
    "# df['tm_dayofweek']=tm_dt.dt.dayofweek\n",
    "# df['tm_hour']=tm_dt.dt.hour\n",
    "\n",
    "# df['tmdlta_u2u1']  = df.u2_create_tm - df.u1_create_tm\n",
    "\n",
    "# df['u1_fllwer_cnt_by_age'] = df.u1_fllwer_cnt / df.u1_age\n",
    "# df['u1_fllwng_cnt_by_age'] = df.u2_fllwng_cnt / df.u2_age\n",
    "\n",
    "# for col in ['twttyp','lang']:\n",
    "#     df[col]=df[col].astype('category')\n",
    "\n",
    "# ce_features = ['twttyp', 'lang' ]\n",
    "# cnt_encd = ce.CountEncoder()\n",
    "# cnt_encded = cnt_encd.fit_transform(df[ce_features])\n",
    "# cnt_encded = cnt_encded.astype(int)\n",
    "# cnt_encded.columns = [f'{col}_cnt' for col in ce_features]\n",
    "\n",
    "# df = pd.concat([df,cnt_encded],1)\n",
    "\n",
    "# if istrn: \n",
    "#     df[cols_tgt]=df[cols_tgt_tmstmp].notna().astype('int8')\n",
    "#     df.drop(inplace=True, columns=['toks', 'hshtgs', 'media', 'links', 'domns',  \n",
    "#                                    'tm', 'u1_create_tm','u2_create_tm', 'u1id', 'u2id', 'twtid', ]+cols_tgt_tmstmp, )\n",
    "# else:\n",
    "#     df.drop(inplace=True, columns=['toks', 'hshtgs', 'media', 'links', 'domns', \n",
    "#                                    'tm', 'u1_create_tm','u2_create_tm', 'u1id', ])   \n",
    "\n",
    "# df.dtypes"
   ]
  },
  {
   "cell_type": "code",
   "execution_count": 4,
   "metadata": {},
   "outputs": [],
   "source": [
    "def prp_df(df, istrn=True):\n",
    "    tm_min = MIN_TM_TRN if istrn else MIN_TM_TST\n",
    "    df['len_toks'] = df.toks.apply(len)\n",
    "    for media in ['Photo', 'Video', 'GIF']:\n",
    "        df[f'has_media_{media}'] = df.media.fillna('').apply(lambda x: media in x)\n",
    "    for col in ['hshtgs', 'links', 'domns',]:\n",
    "        df[f'num_{col}'] = df[col].fillna('').apply(lambda x: len(x.split('\\t')) if len(x) else 0)\n",
    "\n",
    "    df['twt_age'] = df.tm - tm_min\n",
    "    df['u1_age']  = df.tm - df.u1_create_tm\n",
    "    df['u2_age']  = df.tm - df.u2_create_tm\n",
    "\n",
    "    tm_dt=pd.to_datetime(df.tm, unit='s')\n",
    "    df['tm_dayofweek']=tm_dt.dt.dayofweek\n",
    "    df['tm_hour']=tm_dt.dt.hour\n",
    "\n",
    "    df['tmdlta_u2u1']  = df.u2_create_tm - df.u1_create_tm\n",
    "\n",
    "    df['u1_fllwer_cnt_by_age'] = df.u1_fllwer_cnt / df.u1_age\n",
    "    df['u1_fllwng_cnt_by_age'] = df.u2_fllwng_cnt / df.u2_age\n",
    "\n",
    "    for col in cols_cat:\n",
    "        df[col]=df[col].astype('category')\n",
    "\n",
    "    df['u1u2']=df.u1id+'_'+df.u2id\n",
    "    ce_features = ['twttyp', 'lang', 'u1id', 'u2id', 'u1u2', 'twtid']\n",
    "    cnt_encd = ce.CountEncoder()\n",
    "    cnt_encded = cnt_encd.fit_transform(df[ce_features])\n",
    "    cnt_encded = cnt_encded.astype(int)\n",
    "    cnt_encded.columns = [f'{col}_cnt' for col in ce_features]\n",
    "\n",
    "    df = pd.concat([df,cnt_encded],1)\n",
    "    if istrn: \n",
    "        df[cols_tgt]=df[cols_tgt_tmstmp].notna().astype('int8')\n",
    "        df.drop(inplace=True, columns=['toks', 'hshtgs', 'media', 'links', 'domns',  \n",
    "                                       'tm', 'u1_create_tm','u2_create_tm', 'u1id', 'u1u2', 'u2id', 'twtid', ]+cols_tgt_tmstmp, )\n",
    "    else:\n",
    "        df.drop(inplace=True, columns=['toks', 'hshtgs', 'media', 'links', 'domns', \n",
    "                                       'tm', 'u1_create_tm','u2_create_tm', 'u1id', 'u1u2'])   \n",
    "    return df"
   ]
  },
  {
   "cell_type": "code",
   "execution_count": 5,
   "metadata": {
    "scrolled": false
   },
   "outputs": [
    {
     "data": {
      "text/plain": [
       "(150000000.0, 30.0)"
      ]
     },
     "execution_count": 5,
     "metadata": {},
     "output_type": "execute_result"
    }
   ],
   "source": [
    "grand_total, grand_total/CHNKSZ"
   ]
  },
  {
   "cell_type": "markdown",
   "metadata": {},
   "source": [
    "## valid data"
   ]
  },
  {
   "cell_type": "code",
   "execution_count": 6,
   "metadata": {},
   "outputs": [
    {
     "name": "stdout",
     "output_type": "stream",
     "text": [
      "2020-03-25 02:12:23 chunk 0\n"
     ]
    },
    {
     "name": "stderr",
     "output_type": "stream",
     "text": [
      "/data/anaconda3/envs/rcss20/lib/python3.7/site-packages/category_encoders/count.py:255: FutureWarning: The pandas.np module is deprecated and will be removed from pandas in a future version. Import numpy directly instead\n",
      "  X.loc[:, self.cols] = X.fillna(value=pd.np.nan)\n"
     ]
    },
    {
     "name": "stdout",
     "output_type": "stream",
     "text": [
      "dfvalid.shape: (5000000, 34)\n"
     ]
    },
    {
     "data": {
      "text/plain": [
       "twttyp                  category\n",
       "lang                    category\n",
       "u1_fllwer_cnt              int64\n",
       "u1_fllwng_cnt              int64\n",
       "u1_vrfed                    bool\n",
       "u2_fllwer_cnt              int64\n",
       "u2_fllwng_cnt              int64\n",
       "u2_vrfed                    bool\n",
       "u1_fllw_u2                  bool\n",
       "len_toks                   int64\n",
       "has_media_Photo             bool\n",
       "has_media_Video             bool\n",
       "has_media_GIF               bool\n",
       "num_hshtgs                 int64\n",
       "num_links                  int64\n",
       "num_domns                  int64\n",
       "twt_age                    int64\n",
       "u1_age                     int64\n",
       "u2_age                     int64\n",
       "tm_dayofweek               int64\n",
       "tm_hour                    int64\n",
       "tmdlta_u2u1                int64\n",
       "u1_fllwer_cnt_by_age     float64\n",
       "u1_fllwng_cnt_by_age     float64\n",
       "twttyp_cnt                 int64\n",
       "lang_cnt                   int64\n",
       "u1id_cnt                   int64\n",
       "u2id_cnt                   int64\n",
       "u1u2_cnt                   int64\n",
       "twtid_cnt                  int64\n",
       "dtype: object"
      ]
     },
     "metadata": {},
     "output_type": "display_data"
    }
   ],
   "source": [
    "chnks_trn = pd.read_csv(f'{p_in}/trn_{trntmstmp}.tsv',sep='\\x01',\n",
    "                    header=None,names=cols, \n",
    "                        chunksize=CHNKSZ)\n",
    "# first chunk as validate data\n",
    "for ichnk,df in enumerate(chnks_trn):\n",
    "    print(dtnow(), 'chunk', ichnk)\n",
    "#     print([datetime.datetime.fromtimestamp(o).strftime('%Y-%m-%d %H:%M:%S') \n",
    "#            for o in (df.tm.min(), df.tm.max())])\n",
    "    dfvalid = prp_df(df)\n",
    "    break\n",
    "print('dfvalid.shape:',dfvalid.shape)\n",
    "\n",
    "cols_feat=[o for o in dfvalid.columns if o not in cols_tgt]\n",
    "\n",
    "display(dfvalid[cols_feat].dtypes)"
   ]
  },
  {
   "cell_type": "markdown",
   "metadata": {},
   "source": [
    "## trnval data func"
   ]
  },
  {
   "cell_type": "code",
   "execution_count": 7,
   "metadata": {},
   "outputs": [],
   "source": [
    "def getdftrvl(tgt):\n",
    "    print(tgt)\n",
    "    tgtcol=tgt2col[tgt]\n",
    "    chnks_trn = pd.read_csv(f'{p_in}/trn_{trntmstmp}.tsv',sep='\\x01',\n",
    "                        header=None,names=cols, \n",
    "                            chunksize=CHNKSZ)\n",
    "    len_df_wanted = int(CHNKSZ)\n",
    "    # retwt          0.113031\n",
    "    # reply          0.027488\n",
    "    # like           0.439499\n",
    "    # retwt_cmmnt    0.007742\n",
    "    pos_rate_wanted = POST_RATE_WANTED\n",
    "    n_pos_wanted = int(len_df_wanted*pos_rate_wanted)\n",
    "    print('n_pos_wanted', n_pos_wanted)\n",
    "    np.random.seed(SEED)\n",
    "    lst_df = []\n",
    "    n_pos_ttl = 0\n",
    "    for ichnk,df in enumerate(chnks_trn):\n",
    "        #skip first chunk (it was validate data)\n",
    "        if ichnk==0: continue\n",
    "        print(dtnow(), 'chunk', ichnk)\n",
    "        df = prp_df(df)\n",
    "        n_pos_ttl+= df[tgtcol].sum()\n",
    "        lst_df.append(df)\n",
    "        if n_pos_ttl>=n_pos_wanted: break\n",
    "\n",
    "    df = pd.concat(lst_df)\n",
    "    df.reset_index(drop=True,inplace=True)\n",
    "\n",
    "\n",
    "    # https://stackoverflow.com/questions/28556942/pandas-remove-rows-at-random-without-shuffling-dataset\n",
    "    idx_neg=np.where(df[tgtcol]==0)[0]\n",
    "    n_neg = len(idx_neg)\n",
    "    n_pos = len(df)-len(idx_neg)\n",
    "    n_neg2keep = len_df_wanted-n_pos\n",
    "    n_neg2rmv = n_neg-n_neg2keep\n",
    "    idx_neg2rmv = np.random.choice(idx_neg, n_neg2rmv, replace=False)\n",
    "    dftrvl = df.drop(idx_neg2rmv)\n",
    "    dftrvl = dftrvl.sample(len(dftrvl))\n",
    "    for col in cols_cat:\n",
    "        dftrvl[col]=dftrvl[col].astype('category')\n",
    "    \n",
    "#     display(dftrvl.dtypes)\n",
    "    print('dftrvl.shape:',dftrvl.shape,'dftrvl[tgtcol].mean():',dftrvl[tgtcol].mean())\n",
    "    \n",
    "    pops={\n",
    "        'train_pop':len(df),\n",
    "        'target_pop':n_pos,\n",
    "        'sampled_train_pop':len_df_wanted,\n",
    "        'sampled_target_pop':n_pos,\n",
    "    }\n",
    "    print(pops)\n",
    "    return dftrvl, pops"
   ]
  },
  {
   "cell_type": "markdown",
   "metadata": {},
   "source": [
    "# model"
   ]
  },
  {
   "cell_type": "code",
   "execution_count": 8,
   "metadata": {},
   "outputs": [],
   "source": [
    "def train(params,dtr,dvl):\n",
    "    print(params)\n",
    "    evals_result = {}\n",
    "    evallist = [(dtr, 'train'), (dvl, 'eval')]\n",
    "    bst = lgb.train(params=params, \n",
    "                    train_set=dtr, \n",
    "                    num_boost_round=5000,\n",
    "                    valid_sets=[dtr, dvl],\n",
    "                    verbose_eval=100,\n",
    "                    early_stopping_rounds=100,\n",
    "                    evals_result=evals_result,\n",
    "                   )\n",
    "    return bst,evals_result\n",
    "\n",
    "def valid(bst,dftr,dfvl):\n",
    "    prdtr = bst.predict(dftr[cols_feat],num_iteration=bst.best_iteration)\n",
    "    prdvl = bst.predict(dfvl[cols_feat],num_iteration=bst.best_iteration)\n",
    "    return prdtr,prdvl\n",
    "\n",
    "def do_tgt(tgt):\n",
    "    params=tgt2params[tgt]\n",
    "    tgtcol=tgt2col[tgt]\n",
    "    dftrvl, pops=getdftrvl(tgt)\n",
    "    split=int(len(dftrvl)*0.85)\n",
    "    dftr,dfvl=dftrvl[:split],dftrvl[split:]\n",
    "    dtr = lgb.Dataset(dftr[cols_feat], label=dftr[tgtcol])\n",
    "    dvl = lgb.Dataset(dfvl[cols_feat], label=dfvl[tgtcol])\n",
    "    bst,evlres=train(params,dtr,dvl)\n",
    "    prdtr,prdvl=valid(bst,dftr,dfvl)\n",
    "    \n",
    "    tgt2bst[tgt]=bst\n",
    "    tgt2evlres[tgt]=evlres\n",
    "    tgt2ytr[tgt]=dftr[tgtcol]\n",
    "    tgt2yvl[tgt]=dfvl[tgtcol]\n",
    "    tgt2pops[tgt]=pops\n",
    "    tgt2prdtr[tgt]=prdtr\n",
    "    tgt2prdvl[tgt]=prdvl\n"
   ]
  },
  {
   "cell_type": "code",
   "execution_count": 9,
   "metadata": {},
   "outputs": [
    {
     "name": "stdout",
     "output_type": "stream",
     "text": [
      "2020-03-25 02:14:19 Retweet ********************************************************************************\n",
      "Retweet\n",
      "n_pos_wanted 500000\n",
      "2020-03-25 02:17:03 chunk 1\n",
      "dftrvl.shape: (5000000, 34) dftrvl[tgtcol].mean(): 0.1131548\n",
      "{'train_pop': 5000000, 'target_pop': 565774, 'sampled_train_pop': 5000000, 'sampled_target_pop': 565774}\n",
      "{'objective': 'binary', 'metric': 'binary_logloss', 'verbosity': 0, 'boosting_type': 'gbdt'}\n",
      "Training until validation scores don't improve for 100 rounds\n",
      "[100]\ttraining's binary_logloss: 0.302181\tvalid_1's binary_logloss: 0.30265\n",
      "[200]\ttraining's binary_logloss: 0.299357\tvalid_1's binary_logloss: 0.300359\n",
      "[300]\ttraining's binary_logloss: 0.297819\tvalid_1's binary_logloss: 0.299399\n",
      "[400]\ttraining's binary_logloss: 0.296618\tvalid_1's binary_logloss: 0.298756\n",
      "[500]\ttraining's binary_logloss: 0.295527\tvalid_1's binary_logloss: 0.298232\n",
      "[600]\ttraining's binary_logloss: 0.294524\tvalid_1's binary_logloss: 0.297764\n",
      "[700]\ttraining's binary_logloss: 0.293626\tvalid_1's binary_logloss: 0.297424\n",
      "[800]\ttraining's binary_logloss: 0.29275\tvalid_1's binary_logloss: 0.297104\n",
      "[900]\ttraining's binary_logloss: 0.292005\tvalid_1's binary_logloss: 0.296923\n",
      "[1000]\ttraining's binary_logloss: 0.291235\tvalid_1's binary_logloss: 0.296691\n",
      "[1100]\ttraining's binary_logloss: 0.290503\tvalid_1's binary_logloss: 0.296501\n",
      "[1200]\ttraining's binary_logloss: 0.289763\tvalid_1's binary_logloss: 0.296295\n",
      "[1300]\ttraining's binary_logloss: 0.289036\tvalid_1's binary_logloss: 0.29614\n",
      "[1400]\ttraining's binary_logloss: 0.2884\tvalid_1's binary_logloss: 0.296044\n",
      "[1500]\ttraining's binary_logloss: 0.287783\tvalid_1's binary_logloss: 0.295968\n",
      "[1600]\ttraining's binary_logloss: 0.287134\tvalid_1's binary_logloss: 0.295872\n",
      "[1700]\ttraining's binary_logloss: 0.286512\tvalid_1's binary_logloss: 0.295772\n",
      "[1800]\ttraining's binary_logloss: 0.285899\tvalid_1's binary_logloss: 0.295693\n",
      "[1900]\ttraining's binary_logloss: 0.285286\tvalid_1's binary_logloss: 0.295652\n",
      "[2000]\ttraining's binary_logloss: 0.284687\tvalid_1's binary_logloss: 0.295572\n",
      "[2100]\ttraining's binary_logloss: 0.284092\tvalid_1's binary_logloss: 0.295493\n",
      "[2200]\ttraining's binary_logloss: 0.283501\tvalid_1's binary_logloss: 0.295429\n",
      "[2300]\ttraining's binary_logloss: 0.282937\tvalid_1's binary_logloss: 0.295366\n",
      "[2400]\ttraining's binary_logloss: 0.282384\tvalid_1's binary_logloss: 0.295319\n",
      "[2500]\ttraining's binary_logloss: 0.281851\tvalid_1's binary_logloss: 0.295283\n",
      "[2600]\ttraining's binary_logloss: 0.281335\tvalid_1's binary_logloss: 0.295249\n",
      "[2700]\ttraining's binary_logloss: 0.28085\tvalid_1's binary_logloss: 0.295221\n",
      "[2800]\ttraining's binary_logloss: 0.280324\tvalid_1's binary_logloss: 0.295182\n",
      "[2900]\ttraining's binary_logloss: 0.279794\tvalid_1's binary_logloss: 0.295144\n",
      "[3000]\ttraining's binary_logloss: 0.279266\tvalid_1's binary_logloss: 0.295111\n",
      "[3100]\ttraining's binary_logloss: 0.278752\tvalid_1's binary_logloss: 0.295054\n",
      "[3200]\ttraining's binary_logloss: 0.27824\tvalid_1's binary_logloss: 0.295023\n",
      "[3300]\ttraining's binary_logloss: 0.277715\tvalid_1's binary_logloss: 0.294976\n",
      "[3400]\ttraining's binary_logloss: 0.277187\tvalid_1's binary_logloss: 0.294938\n",
      "[3500]\ttraining's binary_logloss: 0.276655\tvalid_1's binary_logloss: 0.294877\n",
      "[3600]\ttraining's binary_logloss: 0.276166\tvalid_1's binary_logloss: 0.294859\n",
      "[3700]\ttraining's binary_logloss: 0.275682\tvalid_1's binary_logloss: 0.294834\n",
      "[3800]\ttraining's binary_logloss: 0.27518\tvalid_1's binary_logloss: 0.294812\n",
      "[3900]\ttraining's binary_logloss: 0.274695\tvalid_1's binary_logloss: 0.294779\n",
      "[4000]\ttraining's binary_logloss: 0.274183\tvalid_1's binary_logloss: 0.29475\n",
      "[4100]\ttraining's binary_logloss: 0.273688\tvalid_1's binary_logloss: 0.294726\n",
      "[4200]\ttraining's binary_logloss: 0.273219\tvalid_1's binary_logloss: 0.294708\n",
      "[4300]\ttraining's binary_logloss: 0.272718\tvalid_1's binary_logloss: 0.294677\n",
      "[4400]\ttraining's binary_logloss: 0.272281\tvalid_1's binary_logloss: 0.294674\n",
      "[4500]\ttraining's binary_logloss: 0.271827\tvalid_1's binary_logloss: 0.29466\n",
      "Early stopping, best iteration is:\n",
      "[4454]\ttraining's binary_logloss: 0.272034\tvalid_1's binary_logloss: 0.29465\n",
      "2020-03-25 02:51:05 Reply ********************************************************************************\n",
      "Reply\n",
      "n_pos_wanted 500000\n",
      "2020-03-25 02:53:12 chunk 1\n",
      "2020-03-25 02:56:20 chunk 2\n",
      "2020-03-25 02:59:19 chunk 3\n",
      "2020-03-25 03:02:13 chunk 4\n",
      "dftrvl.shape: (5000000, 34) dftrvl[tgtcol].mean(): 0.1096824\n",
      "{'train_pop': 20000000, 'target_pop': 548412, 'sampled_train_pop': 5000000, 'sampled_target_pop': 548412}\n",
      "{'objective': 'binary', 'metric': 'binary_logloss', 'verbosity': 0, 'boosting_type': 'gbdt'}\n",
      "Training until validation scores don't improve for 100 rounds\n",
      "[100]\ttraining's binary_logloss: 0.290932\tvalid_1's binary_logloss: 0.290543\n",
      "[200]\ttraining's binary_logloss: 0.288761\tvalid_1's binary_logloss: 0.288972\n",
      "[300]\ttraining's binary_logloss: 0.287423\tvalid_1's binary_logloss: 0.288219\n",
      "[400]\ttraining's binary_logloss: 0.286287\tvalid_1's binary_logloss: 0.287702\n",
      "[500]\ttraining's binary_logloss: 0.285281\tvalid_1's binary_logloss: 0.287279\n",
      "[600]\ttraining's binary_logloss: 0.284351\tvalid_1's binary_logloss: 0.286935\n",
      "[700]\ttraining's binary_logloss: 0.28351\tvalid_1's binary_logloss: 0.286694\n",
      "[800]\ttraining's binary_logloss: 0.282735\tvalid_1's binary_logloss: 0.286485\n",
      "[900]\ttraining's binary_logloss: 0.282008\tvalid_1's binary_logloss: 0.286352\n",
      "[1000]\ttraining's binary_logloss: 0.281291\tvalid_1's binary_logloss: 0.286203\n",
      "[1100]\ttraining's binary_logloss: 0.28054\tvalid_1's binary_logloss: 0.286024\n",
      "[1200]\ttraining's binary_logloss: 0.279872\tvalid_1's binary_logloss: 0.285942\n",
      "[1300]\ttraining's binary_logloss: 0.279246\tvalid_1's binary_logloss: 0.285859\n",
      "[1400]\ttraining's binary_logloss: 0.278577\tvalid_1's binary_logloss: 0.285755\n",
      "[1500]\ttraining's binary_logloss: 0.278003\tvalid_1's binary_logloss: 0.285725\n",
      "[1600]\ttraining's binary_logloss: 0.277389\tvalid_1's binary_logloss: 0.28567\n",
      "[1700]\ttraining's binary_logloss: 0.276796\tvalid_1's binary_logloss: 0.2856\n",
      "[1800]\ttraining's binary_logloss: 0.27623\tvalid_1's binary_logloss: 0.285563\n",
      "[1900]\ttraining's binary_logloss: 0.275609\tvalid_1's binary_logloss: 0.285503\n",
      "[2000]\ttraining's binary_logloss: 0.275029\tvalid_1's binary_logloss: 0.285469\n",
      "[2100]\ttraining's binary_logloss: 0.274433\tvalid_1's binary_logloss: 0.285422\n",
      "[2200]\ttraining's binary_logloss: 0.27386\tvalid_1's binary_logloss: 0.285361\n",
      "[2300]\ttraining's binary_logloss: 0.273274\tvalid_1's binary_logloss: 0.285335\n",
      "[2400]\ttraining's binary_logloss: 0.272694\tvalid_1's binary_logloss: 0.285297\n",
      "[2500]\ttraining's binary_logloss: 0.272163\tvalid_1's binary_logloss: 0.285271\n",
      "[2600]\ttraining's binary_logloss: 0.271619\tvalid_1's binary_logloss: 0.285238\n",
      "[2700]\ttraining's binary_logloss: 0.271105\tvalid_1's binary_logloss: 0.285219\n",
      "[2800]\ttraining's binary_logloss: 0.270584\tvalid_1's binary_logloss: 0.285207\n",
      "[2900]\ttraining's binary_logloss: 0.270076\tvalid_1's binary_logloss: 0.285215\n",
      "[3000]\ttraining's binary_logloss: 0.269531\tvalid_1's binary_logloss: 0.285186\n",
      "[3100]\ttraining's binary_logloss: 0.269043\tvalid_1's binary_logloss: 0.28518\n",
      "[3200]\ttraining's binary_logloss: 0.268571\tvalid_1's binary_logloss: 0.285166\n",
      "[3300]\ttraining's binary_logloss: 0.268058\tvalid_1's binary_logloss: 0.285163\n",
      "Early stopping, best iteration is:\n",
      "[3238]\ttraining's binary_logloss: 0.26837\tvalid_1's binary_logloss: 0.285156\n",
      "2020-03-25 03:19:13 Like ********************************************************************************\n",
      "Like\n",
      "n_pos_wanted 500000\n",
      "2020-03-25 03:20:33 chunk 1\n",
      "dftrvl.shape: (5000000, 34) dftrvl[tgtcol].mean(): 0.4391148\n",
      "{'train_pop': 5000000, 'target_pop': 2195574, 'sampled_train_pop': 5000000, 'sampled_target_pop': 2195574}\n",
      "{'objective': 'binary', 'metric': 'binary_logloss', 'verbosity': 0, 'boosting_type': 'gbdt'}\n",
      "Training until validation scores don't improve for 100 rounds\n",
      "[100]\ttraining's binary_logloss: 0.559034\tvalid_1's binary_logloss: 0.560575\n",
      "[200]\ttraining's binary_logloss: 0.553233\tvalid_1's binary_logloss: 0.555333\n",
      "[300]\ttraining's binary_logloss: 0.550546\tvalid_1's binary_logloss: 0.553157\n",
      "[400]\ttraining's binary_logloss: 0.54833\tvalid_1's binary_logloss: 0.551411\n",
      "[500]\ttraining's binary_logloss: 0.546463\tvalid_1's binary_logloss: 0.550015\n",
      "[600]\ttraining's binary_logloss: 0.544896\tvalid_1's binary_logloss: 0.548967\n"
     ]
    },
    {
     "name": "stdout",
     "output_type": "stream",
     "text": [
      "[700]\ttraining's binary_logloss: 0.543601\tvalid_1's binary_logloss: 0.548162\n",
      "[800]\ttraining's binary_logloss: 0.542358\tvalid_1's binary_logloss: 0.547401\n",
      "[900]\ttraining's binary_logloss: 0.541248\tvalid_1's binary_logloss: 0.546765\n",
      "[1000]\ttraining's binary_logloss: 0.540244\tvalid_1's binary_logloss: 0.546225\n",
      "[1100]\ttraining's binary_logloss: 0.53928\tvalid_1's binary_logloss: 0.545755\n",
      "[1200]\ttraining's binary_logloss: 0.538414\tvalid_1's binary_logloss: 0.545351\n",
      "[1300]\ttraining's binary_logloss: 0.537517\tvalid_1's binary_logloss: 0.544919\n",
      "[1400]\ttraining's binary_logloss: 0.536661\tvalid_1's binary_logloss: 0.544531\n",
      "[1500]\ttraining's binary_logloss: 0.535836\tvalid_1's binary_logloss: 0.544176\n",
      "[1600]\ttraining's binary_logloss: 0.534974\tvalid_1's binary_logloss: 0.543817\n",
      "[1700]\ttraining's binary_logloss: 0.534245\tvalid_1's binary_logloss: 0.54356\n",
      "[1800]\ttraining's binary_logloss: 0.533601\tvalid_1's binary_logloss: 0.543387\n",
      "[1900]\ttraining's binary_logloss: 0.532786\tvalid_1's binary_logloss: 0.543013\n",
      "[2000]\ttraining's binary_logloss: 0.532111\tvalid_1's binary_logloss: 0.542821\n",
      "[2100]\ttraining's binary_logloss: 0.531392\tvalid_1's binary_logloss: 0.542521\n",
      "[2200]\ttraining's binary_logloss: 0.530601\tvalid_1's binary_logloss: 0.542163\n",
      "[2300]\ttraining's binary_logloss: 0.529914\tvalid_1's binary_logloss: 0.541933\n",
      "[2400]\ttraining's binary_logloss: 0.529216\tvalid_1's binary_logloss: 0.541691\n",
      "[2500]\ttraining's binary_logloss: 0.528624\tvalid_1's binary_logloss: 0.541562\n",
      "[2600]\ttraining's binary_logloss: 0.527916\tvalid_1's binary_logloss: 0.541293\n",
      "[2700]\ttraining's binary_logloss: 0.527329\tvalid_1's binary_logloss: 0.541146\n",
      "[2800]\ttraining's binary_logloss: 0.526682\tvalid_1's binary_logloss: 0.540958\n",
      "[2900]\ttraining's binary_logloss: 0.52607\tvalid_1's binary_logloss: 0.540814\n",
      "[3000]\ttraining's binary_logloss: 0.525509\tvalid_1's binary_logloss: 0.540667\n",
      "[3100]\ttraining's binary_logloss: 0.524949\tvalid_1's binary_logloss: 0.540547\n",
      "[3200]\ttraining's binary_logloss: 0.524419\tvalid_1's binary_logloss: 0.54046\n",
      "[3300]\ttraining's binary_logloss: 0.523849\tvalid_1's binary_logloss: 0.54032\n",
      "[3400]\ttraining's binary_logloss: 0.523279\tvalid_1's binary_logloss: 0.540213\n",
      "[3500]\ttraining's binary_logloss: 0.522747\tvalid_1's binary_logloss: 0.540132\n",
      "[3600]\ttraining's binary_logloss: 0.522209\tvalid_1's binary_logloss: 0.540041\n",
      "[3700]\ttraining's binary_logloss: 0.521644\tvalid_1's binary_logloss: 0.539903\n",
      "[3800]\ttraining's binary_logloss: 0.521059\tvalid_1's binary_logloss: 0.53979\n",
      "[3900]\ttraining's binary_logloss: 0.520494\tvalid_1's binary_logloss: 0.539649\n",
      "[4000]\ttraining's binary_logloss: 0.519946\tvalid_1's binary_logloss: 0.539508\n",
      "[4100]\ttraining's binary_logloss: 0.519463\tvalid_1's binary_logloss: 0.539416\n",
      "[4200]\ttraining's binary_logloss: 0.518967\tvalid_1's binary_logloss: 0.539331\n",
      "[4300]\ttraining's binary_logloss: 0.518499\tvalid_1's binary_logloss: 0.539276\n",
      "[4400]\ttraining's binary_logloss: 0.51798\tvalid_1's binary_logloss: 0.539202\n",
      "[4500]\ttraining's binary_logloss: 0.517406\tvalid_1's binary_logloss: 0.539107\n",
      "[4600]\ttraining's binary_logloss: 0.516908\tvalid_1's binary_logloss: 0.539047\n",
      "[4700]\ttraining's binary_logloss: 0.516442\tvalid_1's binary_logloss: 0.539003\n",
      "[4800]\ttraining's binary_logloss: 0.515957\tvalid_1's binary_logloss: 0.538934\n",
      "[4900]\ttraining's binary_logloss: 0.515494\tvalid_1's binary_logloss: 0.538872\n",
      "[5000]\ttraining's binary_logloss: 0.51503\tvalid_1's binary_logloss: 0.538809\n",
      "Did not meet early stopping. Best iteration is:\n",
      "[5000]\ttraining's binary_logloss: 0.51503\tvalid_1's binary_logloss: 0.538809\n",
      "2020-03-25 03:49:34 RTwCmnt ********************************************************************************\n",
      "RTwCmnt\n",
      "n_pos_wanted 500000\n",
      "2020-03-25 03:51:37 chunk 1\n",
      "2020-03-25 03:54:42 chunk 2\n",
      "2020-03-25 03:57:53 chunk 3\n",
      "2020-03-25 04:00:59 chunk 4\n",
      "2020-03-25 04:04:04 chunk 5\n",
      "2020-03-25 04:07:03 chunk 6\n",
      "2020-03-25 04:10:06 chunk 7\n",
      "2020-03-25 04:12:40 chunk 8\n",
      "2020-03-25 04:14:36 chunk 9\n",
      "2020-03-25 04:17:10 chunk 10\n",
      "2020-03-25 04:20:32 chunk 11\n",
      "2020-03-25 04:23:44 chunk 12\n",
      "2020-03-25 04:26:50 chunk 13\n",
      "dftrvl.shape: (5000000, 34) dftrvl[tgtcol].mean(): 0.101376\n",
      "{'train_pop': 65000000, 'target_pop': 506880, 'sampled_train_pop': 5000000, 'sampled_target_pop': 506880}\n",
      "{'objective': 'binary', 'metric': 'binary_logloss', 'verbosity': 0, 'boosting_type': 'gbdt'}\n",
      "Training until validation scores don't improve for 100 rounds\n",
      "[100]\ttraining's binary_logloss: 0.296279\tvalid_1's binary_logloss: 0.296137\n",
      "[200]\ttraining's binary_logloss: 0.293929\tvalid_1's binary_logloss: 0.294376\n",
      "[300]\ttraining's binary_logloss: 0.292579\tvalid_1's binary_logloss: 0.293622\n",
      "[400]\ttraining's binary_logloss: 0.291486\tvalid_1's binary_logloss: 0.293169\n",
      "[500]\ttraining's binary_logloss: 0.290493\tvalid_1's binary_logloss: 0.292784\n",
      "[600]\ttraining's binary_logloss: 0.28953\tvalid_1's binary_logloss: 0.292386\n",
      "[700]\ttraining's binary_logloss: 0.288711\tvalid_1's binary_logloss: 0.292173\n",
      "[800]\ttraining's binary_logloss: 0.287914\tvalid_1's binary_logloss: 0.291998\n",
      "[900]\ttraining's binary_logloss: 0.287161\tvalid_1's binary_logloss: 0.291831\n",
      "[1000]\ttraining's binary_logloss: 0.28645\tvalid_1's binary_logloss: 0.291728\n",
      "[1100]\ttraining's binary_logloss: 0.285754\tvalid_1's binary_logloss: 0.291606\n",
      "[1200]\ttraining's binary_logloss: 0.285069\tvalid_1's binary_logloss: 0.291514\n",
      "[1300]\ttraining's binary_logloss: 0.284415\tvalid_1's binary_logloss: 0.291458\n",
      "[1400]\ttraining's binary_logloss: 0.283801\tvalid_1's binary_logloss: 0.291411\n",
      "[1500]\ttraining's binary_logloss: 0.283143\tvalid_1's binary_logloss: 0.291364\n",
      "[1600]\ttraining's binary_logloss: 0.282489\tvalid_1's binary_logloss: 0.291274\n",
      "[1700]\ttraining's binary_logloss: 0.281858\tvalid_1's binary_logloss: 0.291208\n",
      "[1800]\ttraining's binary_logloss: 0.281277\tvalid_1's binary_logloss: 0.291193\n",
      "[1900]\ttraining's binary_logloss: 0.280667\tvalid_1's binary_logloss: 0.29116\n",
      "[2000]\ttraining's binary_logloss: 0.280076\tvalid_1's binary_logloss: 0.291108\n",
      "[2100]\ttraining's binary_logloss: 0.279504\tvalid_1's binary_logloss: 0.291101\n",
      "[2200]\ttraining's binary_logloss: 0.278929\tvalid_1's binary_logloss: 0.29107\n",
      "[2300]\ttraining's binary_logloss: 0.27835\tvalid_1's binary_logloss: 0.29105\n",
      "[2400]\ttraining's binary_logloss: 0.277795\tvalid_1's binary_logloss: 0.291037\n",
      "[2500]\ttraining's binary_logloss: 0.277262\tvalid_1's binary_logloss: 0.291028\n",
      "[2600]\ttraining's binary_logloss: 0.276692\tvalid_1's binary_logloss: 0.291001\n",
      "[2700]\ttraining's binary_logloss: 0.276141\tvalid_1's binary_logloss: 0.290989\n",
      "[2800]\ttraining's binary_logloss: 0.275585\tvalid_1's binary_logloss: 0.290961\n",
      "[2900]\ttraining's binary_logloss: 0.275066\tvalid_1's binary_logloss: 0.290939\n",
      "[3000]\ttraining's binary_logloss: 0.274499\tvalid_1's binary_logloss: 0.290926\n",
      "[3100]\ttraining's binary_logloss: 0.273977\tvalid_1's binary_logloss: 0.290908\n",
      "[3200]\ttraining's binary_logloss: 0.273454\tvalid_1's binary_logloss: 0.290882\n",
      "[3300]\ttraining's binary_logloss: 0.272982\tvalid_1's binary_logloss: 0.290893\n",
      "Early stopping, best iteration is:\n",
      "[3238]\ttraining's binary_logloss: 0.273253\tvalid_1's binary_logloss: 0.29087\n"
     ]
    }
   ],
   "source": [
    "params_shared = {\n",
    "    \"objective\": \"binary\",\n",
    "    \"metric\": \"binary_logloss\",\n",
    "    \"verbosity\": 0,\n",
    "    \"boosting_type\": \"gbdt\",\n",
    "}\n",
    "tgt2params = {k:params_shared for k in tgts}\n",
    "\n",
    "tgt2bst={}\n",
    "tgt2evlres={}\n",
    "tgt2tuning_history={}\n",
    "tgt2ytr={}\n",
    "tgt2yvl={}\n",
    "tgt2prdtr={}\n",
    "tgt2prdvl={}\n",
    "tgt2pops={}\n",
    "for tgt in tgts:\n",
    "    print(dtnow(), tgt, '*'*80)\n",
    "    do_tgt(tgt)\n",
    "    \n",
    "pickle.dump(tgt2bst, open(f\"{p_out}/tgt2bst.p\", \"wb\"))"
   ]
  },
  {
   "cell_type": "markdown",
   "metadata": {},
   "source": [
    "# analyze"
   ]
  },
  {
   "cell_type": "markdown",
   "metadata": {},
   "source": [
    "## tr vl"
   ]
  },
  {
   "cell_type": "code",
   "execution_count": 10,
   "metadata": {},
   "outputs": [
    {
     "data": {
      "image/png": "[encoded data removed]",
      "text/plain": [
       "<Figure size 432x288 with 1 Axes>"
      ]
     },
     "metadata": {
      "needs_background": "light"
     },
     "output_type": "display_data"
    },
    {
     "data": {
      "image/png": "[encoded data removed]",
      "text/plain": [
       "<Figure size 432x288 with 1 Axes>"
      ]
     },
     "metadata": {
      "needs_background": "light"
     },
     "output_type": "display_data"
    },
    {
     "data": {
      "image/png": "[encoded data removed]",
      "text/plain": [
       "<Figure size 432x288 with 1 Axes>"
      ]
     },
     "metadata": {
      "needs_background": "light"
     },
     "output_type": "display_data"
    },
    {
     "data": {
      "image/png": "[encoded data removed]",
      "text/plain": [
       "<Figure size 432x288 with 1 Axes>"
      ]
     },
     "metadata": {
      "needs_background": "light"
     },
     "output_type": "display_data"
    }
   ],
   "source": [
    "for tgt in tgt2evlres:\n",
    "    evlres=tgt2evlres[tgt]\n",
    "    plt.plot(evlres['training']['binary_logloss'])\n",
    "    plt.plot(evlres['valid_1']['binary_logloss'])\n",
    "    plt.title(f\"{tgt} logloss {len(evlres['valid_1']['binary_logloss'])} rounds\")\n",
    "    plt.show()"
   ]
  },
  {
   "cell_type": "code",
   "execution_count": 11,
   "metadata": {},
   "outputs": [
    {
     "data": {
      "image/png": "[encoded data removed]",
      "text/plain": [
       "<Figure size 432x288 with 1 Axes>"
      ]
     },
     "metadata": {
      "needs_background": "light"
     },
     "output_type": "display_data"
    },
    {
     "data": {
      "image/png": "[encoded data removed]",
      "text/plain": [
       "<Figure size 432x288 with 1 Axes>"
      ]
     },
     "metadata": {
      "needs_background": "light"
     },
     "output_type": "display_data"
    },
    {
     "data": {
      "image/png": "[encoded data removed]",
      "text/plain": [
       "<Figure size 432x288 with 1 Axes>"
      ]
     },
     "metadata": {
      "needs_background": "light"
     },
     "output_type": "display_data"
    },
    {
     "data": {
      "image/png": "[encoded data removed]",
      "text/plain": [
       "<Figure size 432x288 with 1 Axes>"
      ]
     },
     "metadata": {
      "needs_background": "light"
     },
     "output_type": "display_data"
    }
   ],
   "source": [
    "def show_feat_importance(tgt):\n",
    "    bst=tgt2bst[tgt]\n",
    "    ax = lgb.plot_importance(bst, height=0.8, max_num_features=20)\n",
    "    ax.grid(False, axis=\"y\")\n",
    "    ax.set_title(f'{tgt} Estimated feature importance')\n",
    "    plt.show()\n",
    "#     feat2importance=bst.get_fscore()\n",
    "#     print(tgt)\n",
    "#     display(pd.DataFrame([feat2importance.keys(), \n",
    "#                           feat2importance.values()]).T.sort_values(1, ascending=False))\n",
    "\n",
    "for tgt in tgt2bst:\n",
    "    show_feat_importance(tgt)"
   ]
  },
  {
   "cell_type": "code",
   "execution_count": 12,
   "metadata": {},
   "outputs": [
    {
     "name": "stdout",
     "output_type": "stream",
     "text": [
      "Retweet\n",
      "tr prauc: 0.4699 tr rce: 22.9685\n",
      "vl prauc: 0.3802 vl rce: 16.4290\n",
      "Reply\n",
      "tr prauc: 0.4204 tr rce: 22.4322\n",
      "vl prauc: 0.3436 vl rce: 17.3720\n",
      "Like\n",
      "tr prauc: 0.7866 tr rce: 24.8903\n",
      "vl prauc: 0.7574 vl rce: 21.4309\n",
      "RTwCmnt\n",
      "tr prauc: 0.3564 tr rce: 16.7425\n",
      "vl prauc: 0.2650 vl rce: 11.1822\n"
     ]
    }
   ],
   "source": [
    "tgt2auc_tr={}\n",
    "tgt2rce_tr={}\n",
    "tgt2auc_vl={}\n",
    "tgt2rce_vl={}\n",
    "for tgt in tgt2bst:\n",
    "    print(tgt)\n",
    "    prdtr_i, prdvl_i = tgt2prdtr[tgt], tgt2prdvl[tgt]\n",
    "    ytr_i, yvl_i = tgt2ytr[tgt], tgt2yvl[tgt]\n",
    "    scr_auc_tr=compute_prauc(prdtr_i, ytr_i)\n",
    "    scr_rce_tr=compute_rce(prdtr_i, ytr_i)\n",
    "    scr_auc_vl=compute_prauc(prdvl_i, yvl_i)\n",
    "    scr_rce_vl=compute_rce(prdvl_i, yvl_i)\n",
    "\n",
    "    tgt2auc_tr[tgt]=scr_auc_tr\n",
    "    tgt2rce_tr[tgt]=scr_rce_tr\n",
    "    tgt2auc_vl[tgt]=scr_auc_vl\n",
    "    tgt2rce_vl[tgt]=scr_rce_vl\n",
    "    \n",
    "    print('tr prauc:', f'{scr_auc_tr:.4f}','tr rce:', f'{scr_rce_tr:.4f}', )\n",
    "    print('vl prauc:', f'{scr_auc_vl:.4f}','vl rce:', f'{scr_rce_vl:.4f}', )"
   ]
  },
  {
   "cell_type": "code",
   "execution_count": 13,
   "metadata": {},
   "outputs": [
    {
     "data": {
      "text/html": [
       "<div>\n",
       "<style scoped>\n",
       "    .dataframe tbody tr th:only-of-type {\n",
       "        vertical-align: middle;\n",
       "    }\n",
       "\n",
       "    .dataframe tbody tr th {\n",
       "        vertical-align: top;\n",
       "    }\n",
       "\n",
       "    .dataframe thead th {\n",
       "        text-align: right;\n",
       "    }\n",
       "</style>\n",
       "<table border=\"1\" class=\"dataframe\">\n",
       "  <thead>\n",
       "    <tr style=\"text-align: right;\">\n",
       "      <th></th>\n",
       "      <th>0</th>\n",
       "      <th>1</th>\n",
       "      <th>2</th>\n",
       "      <th>3</th>\n",
       "      <th>4</th>\n",
       "      <th>5</th>\n",
       "      <th>6</th>\n",
       "      <th>7</th>\n",
       "    </tr>\n",
       "  </thead>\n",
       "  <tbody>\n",
       "    <tr>\n",
       "      <th>metric</th>\n",
       "      <td>PRAUC Retweet</td>\n",
       "      <td>RCE Retweet</td>\n",
       "      <td>PRAUC Reply</td>\n",
       "      <td>RCE Reply</td>\n",
       "      <td>PRAUC Like</td>\n",
       "      <td>RCE Like</td>\n",
       "      <td>PRAUC RTwCmnt</td>\n",
       "      <td>RCE RTwCmnt</td>\n",
       "    </tr>\n",
       "    <tr>\n",
       "      <th>scrtr</th>\n",
       "      <td>0.469904</td>\n",
       "      <td>22.9685</td>\n",
       "      <td>0.420418</td>\n",
       "      <td>22.4322</td>\n",
       "      <td>0.786555</td>\n",
       "      <td>24.8903</td>\n",
       "      <td>0.356395</td>\n",
       "      <td>16.7425</td>\n",
       "    </tr>\n",
       "    <tr>\n",
       "      <th>scrvl</th>\n",
       "      <td>0.38016</td>\n",
       "      <td>16.429</td>\n",
       "      <td>0.34364</td>\n",
       "      <td>17.372</td>\n",
       "      <td>0.757423</td>\n",
       "      <td>21.4309</td>\n",
       "      <td>0.264968</td>\n",
       "      <td>11.1822</td>\n",
       "    </tr>\n",
       "  </tbody>\n",
       "</table>\n",
       "</div>"
      ],
      "text/plain": [
       "                    0            1            2          3           4  \\\n",
       "metric  PRAUC Retweet  RCE Retweet  PRAUC Reply  RCE Reply  PRAUC Like   \n",
       "scrtr        0.469904      22.9685     0.420418    22.4322    0.786555   \n",
       "scrvl         0.38016       16.429      0.34364     17.372    0.757423   \n",
       "\n",
       "               5              6            7  \n",
       "metric  RCE Like  PRAUC RTwCmnt  RCE RTwCmnt  \n",
       "scrtr    24.8903       0.356395      16.7425  \n",
       "scrvl    21.4309       0.264968      11.1822  "
      ]
     },
     "execution_count": 13,
     "metadata": {},
     "output_type": "execute_result"
    }
   ],
   "source": [
    "lsttr=[]\n",
    "lstvl=[]\n",
    "for tgt in ['Retweet','Reply','Like','RTwCmnt',]:\n",
    "    if tgt not in tgt2bst: continue\n",
    "    lsttr+=[(f'PRAUC {tgt}',tgt2auc_tr[tgt]),\n",
    "          (f'RCE {tgt}',tgt2rce_tr[tgt])]\n",
    "    lstvl+=[(f'PRAUC {tgt}',tgt2auc_vl[tgt]),\n",
    "          (f'RCE {tgt}',tgt2rce_vl[tgt])]\n",
    "\n",
    "dfscrtr=pd.DataFrame(lsttr)\n",
    "dfscrtr.columns=['metric','scr']\n",
    "dfscrvl=pd.DataFrame(lstvl)\n",
    "dfscrvl.columns=['metric','scr']\n",
    "dfscr = pd.merge(dfscrtr, dfscrvl, on='metric', suffixes=('tr','vl'))\n",
    "dfscr.T"
   ]
  },
  {
   "cell_type": "markdown",
   "metadata": {},
   "source": [
    "## valid"
   ]
  },
  {
   "cell_type": "code",
   "execution_count": 14,
   "metadata": {},
   "outputs": [],
   "source": [
    "# tgt=tgts[1]\n",
    "# tgtcol=tgt2col[tgt]\n",
    "# bst=tgt2bst[tgt]\n",
    "\n",
    "# dvalid=xgb.DMatrix(dfvalid[cols_feat], label=dfvalid[tgtcol], feature_names=cols_feat)\n",
    "\n",
    "# prdvalid = bst.predict(dvalid, ntree_limit=bst.best_ntree_limit)\n",
    "\n",
    "# pops=tgt2pops[tgt]\n",
    "\n",
    "# prdvalid[:10]\n",
    "# # array([0.11734424, 0.09971393, 0.05619054, 0.03059793, 0.07979691,\n",
    "# #        0.01358252, 0.05293725, 0.27954698, 0.05738379, 0.01741553],\n",
    "# #       dtype=float32)\n",
    "\n",
    "\n",
    "# pops\n",
    "# # {'train_pop': 4000000,\n",
    "# #  'target_pop': 109752,\n",
    "# #  'sampled_train_pop': 1000000,\n",
    "# #  'sampled_target_pop': 109752}\n",
    "\n",
    "# prdvalid_calib = calibration(prdvalid, **pops)\n",
    "\n",
    "# prdvalid_calib[:10]\n",
    "# # array([0.02952491, 0.02471944, 0.01344113, 0.00717127, 0.01945818,\n",
    "# #        0.00314114, 0.0126298 , 0.08155248, 0.01373977, 0.00403964],\n",
    "# #       dtype=float32)"
   ]
  },
  {
   "cell_type": "code",
   "execution_count": 15,
   "metadata": {},
   "outputs": [
    {
     "data": {
      "text/plain": [
       "{'Retweet': {'train_pop': 5000000,\n",
       "  'target_pop': 565774,\n",
       "  'sampled_train_pop': 5000000,\n",
       "  'sampled_target_pop': 565774},\n",
       " 'Reply': {'train_pop': 20000000,\n",
       "  'target_pop': 548412,\n",
       "  'sampled_train_pop': 5000000,\n",
       "  'sampled_target_pop': 548412},\n",
       " 'Like': {'train_pop': 5000000,\n",
       "  'target_pop': 2195574,\n",
       "  'sampled_train_pop': 5000000,\n",
       "  'sampled_target_pop': 2195574},\n",
       " 'RTwCmnt': {'train_pop': 65000000,\n",
       "  'target_pop': 506880,\n",
       "  'sampled_train_pop': 5000000,\n",
       "  'sampled_target_pop': 506880}}"
      ]
     },
     "execution_count": 15,
     "metadata": {},
     "output_type": "execute_result"
    }
   ],
   "source": [
    "tgt2pops"
   ]
  },
  {
   "cell_type": "code",
   "execution_count": 16,
   "metadata": {},
   "outputs": [],
   "source": [
    "def do_post_valid(tgt):\n",
    "    tgtcol=tgt2col[tgt]\n",
    "    bst=tgt2bst[tgt]\n",
    "    pops=tgt2pops[tgt]\n",
    "    prdvalid = bst.predict(dfvalid[cols_feat],num_iteration=bst.best_iteration)\n",
    "    prdvalid_calib = calibration(prdvalid, **pops)\n",
    "    return prdvalid,prdvalid_calib"
   ]
  },
  {
   "cell_type": "code",
   "execution_count": 17,
   "metadata": {},
   "outputs": [
    {
     "name": "stdout",
     "output_type": "stream",
     "text": [
      "2020-03-25 04:52:06 Retweet\n",
      "2020-03-25 04:54:22 Reply\n",
      "2020-03-25 04:56:08 Like\n",
      "2020-03-25 04:58:38 RTwCmnt\n"
     ]
    }
   ],
   "source": [
    "tgt2yvalid={tgt:dfvalid[tgt2col[tgt]] for tgt in tgts}\n",
    "tgt2prdvalid={}\n",
    "tgt2prdvalid_calib={}\n",
    "for tgt in tgts:\n",
    "    print(dtnow(), tgt)\n",
    "    tgt2prdvalid[tgt],tgt2prdvalid_calib[tgt]=do_post_valid(tgt)\n"
   ]
  },
  {
   "cell_type": "code",
   "execution_count": 18,
   "metadata": {},
   "outputs": [
    {
     "name": "stdout",
     "output_type": "stream",
     "text": [
      "2020-03-25 05:00:23 Retweet\n",
      "2020-03-25 05:00:41 Reply\n",
      "2020-03-25 05:00:56 Like\n",
      "2020-03-25 05:01:13 RTwCmnt\n"
     ]
    }
   ],
   "source": [
    "tgt2auc_valid={}\n",
    "tgt2rce_valid={}\n",
    "tgt2auc_valid_calib={}\n",
    "tgt2rce_valid_calib={}\n",
    "for tgt in tgts:\n",
    "    print(dtnow(), tgt)\n",
    "    prdvalid, prdvalid_calib = tgt2prdvalid[tgt], tgt2prdvalid_calib[tgt]\n",
    "    yvalid = tgt2yvalid[tgt]\n",
    "    scr_auc_valid=compute_prauc(prdvalid, yvalid)\n",
    "    scr_rce_valid=compute_rce(prdvalid, yvalid)\n",
    "    scr_auc_valid_calib=compute_prauc(prdvalid_calib, yvalid)\n",
    "    scr_rce_valid_calib=compute_rce(prdvalid_calib, yvalid)\n",
    "\n",
    "    tgt2auc_valid[tgt]=scr_auc_valid\n",
    "    tgt2rce_valid[tgt]=scr_rce_valid\n",
    "    tgt2auc_valid_calib[tgt]=scr_auc_valid_calib\n",
    "    tgt2rce_valid_calib[tgt]=scr_rce_valid_calib"
   ]
  },
  {
   "cell_type": "code",
   "execution_count": 19,
   "metadata": {},
   "outputs": [
    {
     "name": "stdout",
     "output_type": "stream",
     "text": [
      "Retweet\n",
      "tr          prauc: 0.4699 tr rce: 22.9685\n",
      "vl          prauc: 0.3802 tr rce: 16.4290\n",
      "valid       prauc: 0.3666 tr rce: 15.7039\n",
      "valid_calib prauc: 0.3666 tr rce: 15.7039\n",
      "Reply\n",
      "tr          prauc: 0.4204 tr rce: 22.4322\n",
      "vl          prauc: 0.3436 tr rce: 17.3720\n",
      "valid       prauc: 0.1167 tr rce: -20.5094\n",
      "valid_calib prauc: 0.1167 tr rce: 13.2837\n",
      "Like\n",
      "tr          prauc: 0.7866 tr rce: 24.8903\n",
      "vl          prauc: 0.7574 tr rce: 21.4309\n",
      "valid       prauc: 0.7533 tr rce: 21.0595\n",
      "valid_calib prauc: 0.7533 tr rce: 21.0595\n",
      "RTwCmnt\n",
      "tr          prauc: 0.3564 tr rce: 16.7425\n",
      "vl          prauc: 0.2650 tr rce: 11.1822\n",
      "valid       prauc: 0.0294 tr rce: -154.5421\n",
      "valid_calib prauc: 0.0294 tr rce: 7.0408\n"
     ]
    }
   ],
   "source": [
    "for tgt in tgts:\n",
    "    print(tgt)\n",
    "    print('tr          prauc:', f'{tgt2auc_tr[tgt]:.4f}','tr rce:', f'{tgt2rce_tr[tgt]:.4f}', )\n",
    "    print('vl          prauc:', f'{tgt2auc_vl[tgt]:.4f}','tr rce:', f'{tgt2rce_vl[tgt]:.4f}', )\n",
    "    print('valid       prauc:', f'{tgt2auc_valid[tgt]:.4f}','tr rce:', f'{tgt2rce_valid[tgt]:.4f}', )\n",
    "    print('valid_calib prauc:', f'{tgt2auc_valid_calib[tgt]:.4f}','tr rce:', f'{tgt2rce_valid_calib[tgt]:.4f}', )\n",
    "    "
   ]
  },
  {
   "cell_type": "code",
   "execution_count": 20,
   "metadata": {},
   "outputs": [
    {
     "data": {
      "text/html": [
       "<div>\n",
       "<style scoped>\n",
       "    .dataframe tbody tr th:only-of-type {\n",
       "        vertical-align: middle;\n",
       "    }\n",
       "\n",
       "    .dataframe tbody tr th {\n",
       "        vertical-align: top;\n",
       "    }\n",
       "\n",
       "    .dataframe thead th {\n",
       "        text-align: right;\n",
       "    }\n",
       "</style>\n",
       "<table border=\"1\" class=\"dataframe\">\n",
       "  <thead>\n",
       "    <tr style=\"text-align: right;\">\n",
       "      <th></th>\n",
       "      <th>0</th>\n",
       "      <th>1</th>\n",
       "      <th>2</th>\n",
       "      <th>3</th>\n",
       "      <th>4</th>\n",
       "      <th>5</th>\n",
       "      <th>6</th>\n",
       "      <th>7</th>\n",
       "    </tr>\n",
       "  </thead>\n",
       "  <tbody>\n",
       "    <tr>\n",
       "      <th>scr</th>\n",
       "      <td>PRAUC Retweet</td>\n",
       "      <td>RCE Retweet</td>\n",
       "      <td>PRAUC Reply</td>\n",
       "      <td>RCE Reply</td>\n",
       "      <td>PRAUC Like</td>\n",
       "      <td>RCE Like</td>\n",
       "      <td>PRAUC RTwCmnt</td>\n",
       "      <td>RCE RTwCmnt</td>\n",
       "    </tr>\n",
       "    <tr>\n",
       "      <th>tr</th>\n",
       "      <td>0.469904</td>\n",
       "      <td>22.9685</td>\n",
       "      <td>0.420418</td>\n",
       "      <td>22.4322</td>\n",
       "      <td>0.786555</td>\n",
       "      <td>24.8903</td>\n",
       "      <td>0.356395</td>\n",
       "      <td>16.7425</td>\n",
       "    </tr>\n",
       "    <tr>\n",
       "      <th>vl</th>\n",
       "      <td>0.38016</td>\n",
       "      <td>16.429</td>\n",
       "      <td>0.34364</td>\n",
       "      <td>17.372</td>\n",
       "      <td>0.757423</td>\n",
       "      <td>21.4309</td>\n",
       "      <td>0.264968</td>\n",
       "      <td>11.1822</td>\n",
       "    </tr>\n",
       "    <tr>\n",
       "      <th>valid</th>\n",
       "      <td>0.366606</td>\n",
       "      <td>15.7039</td>\n",
       "      <td>0.116719</td>\n",
       "      <td>-20.5094</td>\n",
       "      <td>0.753294</td>\n",
       "      <td>21.0595</td>\n",
       "      <td>0.0294245</td>\n",
       "      <td>-154.542</td>\n",
       "    </tr>\n",
       "    <tr>\n",
       "      <th>valid_calib</th>\n",
       "      <td>0.366606</td>\n",
       "      <td>15.7039</td>\n",
       "      <td>0.116719</td>\n",
       "      <td>13.2837</td>\n",
       "      <td>0.753294</td>\n",
       "      <td>21.0595</td>\n",
       "      <td>0.0294245</td>\n",
       "      <td>7.04082</td>\n",
       "    </tr>\n",
       "  </tbody>\n",
       "</table>\n",
       "</div>"
      ],
      "text/plain": [
       "                         0            1            2          3           4  \\\n",
       "scr          PRAUC Retweet  RCE Retweet  PRAUC Reply  RCE Reply  PRAUC Like   \n",
       "tr                0.469904      22.9685     0.420418    22.4322    0.786555   \n",
       "vl                 0.38016       16.429      0.34364     17.372    0.757423   \n",
       "valid             0.366606      15.7039     0.116719   -20.5094    0.753294   \n",
       "valid_calib       0.366606      15.7039     0.116719    13.2837    0.753294   \n",
       "\n",
       "                    5              6            7  \n",
       "scr          RCE Like  PRAUC RTwCmnt  RCE RTwCmnt  \n",
       "tr            24.8903       0.356395      16.7425  \n",
       "vl            21.4309       0.264968      11.1822  \n",
       "valid         21.0595      0.0294245     -154.542  \n",
       "valid_calib   21.0595      0.0294245      7.04082  "
      ]
     },
     "execution_count": 20,
     "metadata": {},
     "output_type": "execute_result"
    }
   ],
   "source": [
    "lsttr=[]\n",
    "lstvl=[]\n",
    "lstvalid=[]\n",
    "lstvalid_calib=[]\n",
    "for tgt in ['Retweet','Reply','Like','RTwCmnt',]:\n",
    "    if tgt not in tgt2bst: continue\n",
    "    lsttr+=[(f'PRAUC {tgt}',tgt2auc_tr[tgt]),\n",
    "          (f'RCE {tgt}',tgt2rce_tr[tgt])]\n",
    "    lstvl+=[(f'PRAUC {tgt}',tgt2auc_vl[tgt]),\n",
    "          (f'RCE {tgt}',tgt2rce_vl[tgt])]\n",
    "    lstvalid+=[(f'PRAUC {tgt}',tgt2auc_valid[tgt]),\n",
    "          (f'RCE {tgt}',tgt2rce_valid[tgt])]\n",
    "    lstvalid_calib+=[(f'PRAUC {tgt}',tgt2auc_valid_calib[tgt]),\n",
    "          (f'RCE {tgt}',tgt2rce_valid_calib[tgt])]\n",
    "\n",
    "dfscrtr=pd.DataFrame(lsttr)\n",
    "dfscrtr.columns=['metric','scr']\n",
    "dfscrvl=pd.DataFrame(lstvl)\n",
    "dfscrvl.columns=['metric','scr']\n",
    "dfscrvalid=pd.DataFrame(lstvalid)\n",
    "dfscrvalid.columns=['metric','scr']\n",
    "dfscrvalid_calib=pd.DataFrame(lstvalid_calib)\n",
    "dfscrvalid_calib.columns=['metric','scr']\n",
    "\n",
    "dfscr = reduce(lambda df1,df2: pd.merge(df1,df2,on='metric'), \n",
    "            [dfscrtr,dfscrvl,dfscrvalid,dfscrvalid_calib])\n",
    "\n",
    "dfscr.columns=['scr','tr','vl','valid','valid_calib']\n",
    "dfscr.T"
   ]
  },
  {
   "cell_type": "code",
   "execution_count": null,
   "metadata": {},
   "outputs": [],
   "source": []
  },
  {
   "cell_type": "markdown",
   "metadata": {},
   "source": [
    "# infer"
   ]
  },
  {
   "cell_type": "raw",
   "metadata": {},
   "source": [
    "ls -lhS $p_in | grep val"
   ]
  },
  {
   "cell_type": "code",
   "execution_count": 21,
   "metadata": {},
   "outputs": [
    {
     "name": "stdout",
     "output_type": "stream",
     "text": [
      "CPU times: user 2min 31s, sys: 4.32 s, total: 2min 36s\n",
      "Wall time: 2min 47s\n"
     ]
    }
   ],
   "source": [
    "%%time\n",
    "dftst=pd.read_csv(\n",
    "    f'{p_in}/val_{valtmstmp}.tsv',\n",
    "#     f'{p_in}/val_259A6F6DFD672CB1F883CBEC01B99F2D_1584405047.tsv',\n",
    "    sep='\\x01', header=None, names=cols_val,)\n"
   ]
  },
  {
   "cell_type": "code",
   "execution_count": 22,
   "metadata": {
    "scrolled": false
   },
   "outputs": [
    {
     "name": "stderr",
     "output_type": "stream",
     "text": [
      "/data/anaconda3/envs/rcss20/lib/python3.7/site-packages/category_encoders/count.py:255: FutureWarning: The pandas.np module is deprecated and will be removed from pandas in a future version. Import numpy directly instead\n",
      "  X.loc[:, self.cols] = X.fillna(value=pd.np.nan)\n"
     ]
    },
    {
     "name": "stdout",
     "output_type": "stream",
     "text": [
      "CPU times: user 5min 28s, sys: 1min 9s, total: 6min 38s\n",
      "Wall time: 6min 52s\n"
     ]
    }
   ],
   "source": [
    "%%time\n",
    "dftst = prp_df(dftst, istrn=False)"
   ]
  },
  {
   "cell_type": "code",
   "execution_count": null,
   "metadata": {},
   "outputs": [],
   "source": []
  },
  {
   "cell_type": "code",
   "execution_count": 23,
   "metadata": {},
   "outputs": [
    {
     "name": "stdout",
     "output_type": "stream",
     "text": [
      "2020-03-25 05:11:09 Retweet\n",
      "2020-03-25 05:17:49 Reply\n",
      "2020-03-25 05:23:22 Like\n",
      "2020-03-25 05:30:41 RTwCmnt\n",
      "CPU times: user 5h 16min 54s, sys: 1min 44s, total: 5h 18min 38s\n",
      "Wall time: 24min 53s\n"
     ]
    }
   ],
   "source": [
    "%%time\n",
    "tgt2prdtst={}\n",
    "for tgt in tgts:\n",
    "    print(dtnow(), tgt)\n",
    "    bst = tgt2bst[tgt]\n",
    "    pops=tgt2pops[tgt]\n",
    "    prdtst = bst.predict(dftst[cols_feat], num_iteration=bst.best_iteration)\n",
    "    prdtst_calib = calibration(prdtst, **pops)\n",
    "    tgt2prdtst[tgt] = prdtst_calib"
   ]
  },
  {
   "cell_type": "code",
   "execution_count": 24,
   "metadata": {},
   "outputs": [],
   "source": [
    "dfsub_ids = dftst[['twtid','u2id',]]\n",
    "\n",
    "tgt2dfsub = {}\n",
    "for tgt,prdtst in tgt2prdtst.items():\n",
    "    dfsub = dfsub_ids.copy()\n",
    "    dfsub['scr'] = prdtst\n",
    "    tgt2dfsub[tgt]=dfsub"
   ]
  },
  {
   "cell_type": "code",
   "execution_count": 25,
   "metadata": {},
   "outputs": [
    {
     "name": "stdout",
     "output_type": "stream",
     "text": [
      "2020-03-25 05:36:09 Retweet\n",
      "2020-03-25 05:38:19 Reply\n",
      "2020-03-25 05:40:25 RTwCmnt\n",
      "2020-03-25 05:42:17 Like\n",
      "CPU times: user 7min 29s, sys: 21.6 s, total: 7min 50s\n",
      "Wall time: 8min 14s\n"
     ]
    }
   ],
   "source": [
    "%%time\n",
    "for i,tgt in enumerate(['Retweet','Reply','RTwCmnt','Like',]):\n",
    "    dfsub = tgt2dfsub[tgt]\n",
    "    print(dtnow(), tgt)\n",
    "    dfsub.to_csv(f'{p_out}/{i}_{tgt}__{valtmstmp}__{PRFX}.csv',index=False,header=False)"
   ]
  },
  {
   "cell_type": "code",
   "execution_count": null,
   "metadata": {},
   "outputs": [],
   "source": []
  },
  {
   "cell_type": "code",
   "execution_count": null,
   "metadata": {},
   "outputs": [],
   "source": []
  },
  {
   "cell_type": "code",
   "execution_count": null,
   "metadata": {},
   "outputs": [],
   "source": []
  },
  {
   "cell_type": "code",
   "execution_count": null,
   "metadata": {},
   "outputs": [],
   "source": []
  },
  {
   "cell_type": "code",
   "execution_count": null,
   "metadata": {},
   "outputs": [],
   "source": []
  }
 ],
 "metadata": {
  "kernelspec": {
   "display_name": "rcss20",
   "language": "python",
   "name": "rcss20"
  },
  "language_info": {
   "codemirror_mode": {
    "name": "ipython",
    "version": 3
   },
   "file_extension": ".py",
   "mimetype": "text/x-python",
   "name": "python",
   "nbconvert_exporter": "python",
   "pygments_lexer": "ipython3",
   "version": "3.7.6"
  },
  "toc": {
   "base_numbering": 1,
   "nav_menu": {},
   "number_sections": true,
   "sideBar": true,
   "skip_h1_title": false,
   "title_cell": "Table of Contents",
   "title_sidebar": "Contents",
   "toc_cell": false,
   "toc_position": {},
   "toc_section_display": true,
   "toc_window_display": true
  }
 },
 "nbformat": 4,
 "nbformat_minor": 4
}
