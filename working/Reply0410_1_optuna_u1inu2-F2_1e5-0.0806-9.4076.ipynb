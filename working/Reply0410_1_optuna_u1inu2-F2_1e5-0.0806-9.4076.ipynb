{
 "cells": [
  {
   "cell_type": "markdown",
   "metadata": {},
   "source": [
    "# start"
   ]
  },
  {
   "cell_type": "markdown",
   "metadata": {},
   "source": [
    "- http://localhost:8081/notebooks/git/recsys20/working/0324_6_3_lgb_feat_engr-1e7.ipynb\n",
    "- http://localhost:8081/notebooks/git/recsys20/working/mdl0404_1__xgb_mean_encode.ipynb\n",
    "- http://localhost:8081/notebooks/git/recsys20/working/eda_0404_1.ipynb#v.s.-target\n",
    "- https://www.kaggle.com/discdiver/category-encoders-examples\n",
    "- https://www.kaggle.com/snakayama/lightgbm-using-optuna-optuna-lightgbm"
   ]
  },
  {
   "cell_type": "code",
   "execution_count": 1,
   "metadata": {},
   "outputs": [
    {
     "name": "stdout",
     "output_type": "stream",
     "text": [
      "train_total 148,075,238, test_total 14,000,000\n",
      "['2020-03-17 02:32:24', '2020-04-06 00:35:47']\n",
      "['2020-02-06 00:00:00', '2020-02-12 23:59:59']\n",
      "['2020-02-13 00:00:00', '2020-02-19 23:59:59']\n"
     ]
    }
   ],
   "source": [
    "TGT='Reply'\n",
    "PRFX='Reply0410_1'\n",
    "\n",
    "trntmstmp=1584412344\n",
    "tsttmstmp=1586133347\n",
    "\n",
    "tm_trn_min,tm_trn_max=(1580947200, 1581551999)\n",
    "tm_tst_min,tm_tst_max=(1581552000, 1582156799)\n",
    "\n",
    "SEED=101\n",
    "\n",
    "valsz = int(1e5)#int(1e5)\n",
    "trnsz = int(1e5)#int(5e5)\n",
    "\n",
    "train_total=148075238\n",
    "test_total=int(1.4e7)\n",
    "print(f'train_total {train_total:,}, test_total {test_total:,}')\n",
    "\n",
    "\n",
    "import datetime\n",
    "def showtm(tm): return datetime.datetime.fromtimestamp(tm).strftime('%Y-%m-%d %H:%M:%S')\n",
    "print([showtm(tm) for tm in (trntmstmp, tsttmstmp)])\n",
    "print([showtm(tm) for tm in (tm_trn_min,tm_trn_max)])\n",
    "print([showtm(tm) for tm in (tm_tst_min,tm_tst_max)])"
   ]
  },
  {
   "cell_type": "markdown",
   "metadata": {},
   "source": [
    "# setup"
   ]
  },
  {
   "cell_type": "code",
   "execution_count": 2,
   "metadata": {},
   "outputs": [
    {
     "name": "stdout",
     "output_type": "stream",
     "text": [
      "TCOL reply\n",
      "{'Retweet': 'retwt', 'Reply': 'reply', 'Like': 'like', 'RTwCmnt': 'retwt_cmmnt'}\n"
     ]
    }
   ],
   "source": [
    "from tqdm import tqdm\n",
    "import time\n",
    "from pathlib import Path\n",
    "from collections import Counter,defaultdict\n",
    "from sklearn.model_selection import train_test_split\n",
    "import pandas as pd\n",
    "import numpy as np\n",
    "import matplotlib.pyplot as plt\n",
    "from sklearn.metrics import accuracy_score, roc_auc_score, roc_curve, auc, precision_recall_curve\n",
    "import pickle\n",
    "# import xgboost as xgb\n",
    "# import lightgbm as lgb\n",
    "import category_encoders as ce\n",
    "import gc\n",
    "\n",
    "import optuna\n",
    "# optuna.logging.CRITICAL, optuna.logging.FATAL\n",
    "# optuna.logging.ERROR\n",
    "# optuna.logging.WARNING, optuna.logging.WARN\n",
    "# optuna.logging.INFO\n",
    "# optuna.logging.DEBUG\n",
    "# optuna.logging.set_verbosity(optuna.logging.ERROR)\n",
    "import optuna.integration.lightgbm as lgb\n",
    "optuna.logging.disable_default_handler()\n",
    "\n",
    "\n",
    "pd.set_option('display.max_rows', 500)\n",
    "pd.set_option('display.max_columns', 500)\n",
    "\n",
    "\n",
    "import datetime\n",
    "def dtnow(): return datetime.datetime.now().strftime('%Y-%m-%d %H:%M:%S')\n",
    "\n",
    "def iou(s1,s2):\n",
    "    return len(s1&s2) / len(s1|s2)\n",
    "\n",
    "HOME='/data/git/recsys20'\n",
    "p_in=f'{HOME}/input'\n",
    "p_out=f'{HOME}/output/{PRFX}'\n",
    "Path(p_out).mkdir(exist_ok=True, parents=True)\n",
    "\n",
    "from sklearn.metrics import precision_recall_curve, auc, log_loss\n",
    "\n",
    "def compute_prauc(pred, gt):\n",
    "    prec, recall, thresh = precision_recall_curve(gt, pred)\n",
    "    prauc = auc(recall, prec)\n",
    "    return prauc\n",
    "\n",
    "def calculate_ctr(gt):\n",
    "    positive = len([x for x in gt if x == 1])\n",
    "    ctr = positive/float(len(gt))\n",
    "    return ctr\n",
    "\n",
    "def compute_rce(pred, gt):\n",
    "    cross_entropy = log_loss(gt, pred)\n",
    "    data_ctr = calculate_ctr(gt)\n",
    "    strawman_cross_entropy = log_loss(gt, [data_ctr for _ in range(len(gt))])\n",
    "    return (1.0 - cross_entropy/strawman_cross_entropy)*100.0\n",
    "\n",
    "# https://towardsdatascience.com/how-to-calibrate-undersampled-model-scores-8f3319c1ea5b\n",
    "# How to use the function?\n",
    "# Let’s say your goal is to generate a model that shows the credit default probabilities and your original \n",
    "# training data has 50,000 rows with only 500 of them labeled as target class. When you sample your non-target \n",
    "# instances randomly and reduce the total row count to 10,000, while conserving 500 target rows, our calibration\n",
    "# function becomes:\n",
    "# calibration(model_results, 50000, 500, 10000, 500)\n",
    "# Here model_results is your model probability output array. After you train your model and put the results in it, your function is ready to use. \n",
    "def calibration(data, train_pop, target_pop, sampled_train_pop, sampled_target_pop):\n",
    "    calibrated_data = ((data * (target_pop / train_pop) / (sampled_target_pop / sampled_train_pop)) /\n",
    "    (((1 - data) * (1 - target_pop / train_pop) / (1 - sampled_target_pop / sampled_train_pop)) +\n",
    "     (data * (target_pop / train_pop) / (sampled_target_pop / sampled_train_pop))))\n",
    "    return calibrated_data\n",
    "\n",
    "\n",
    "cols=['toks','hshtgs','twtid','media','links','domns','twttyp','lang','tm','u1id','u1_fllwer_cnt','u1_fllwing_cnt','u1_vrfed','u1_create_tm','u2id','u2_fllwer_cnt','u2_fllwng_cnt','u2_vrfed','u2_create_tm','u1_fllw_u2','reply_tm','retwt_tm','retwt_cmmnt_tm','like_tm',]\n",
    "\n",
    "cols_val = cols[:-4]\n",
    "cols_tgt_tmstmp=[ 'retwt_tm', 'reply_tm', 'like_tm', 'retwt_cmmnt_tm',]\n",
    "cols_tgt=[o.split('_tm')[0] for o in cols_tgt_tmstmp]\n",
    "tgts             = ['Retweet','Reply','Like','RTwCmnt',]\n",
    "assert cols_tgt == ['retwt',  'reply','like','retwt_cmmnt',]\n",
    "tgt2col = dict(zip(tgts, cols_tgt))\n",
    "TCOL=tgt2col[TGT]\n",
    "print('TCOL', TCOL)\n",
    "print(tgt2col)"
   ]
  },
  {
   "cell_type": "markdown",
   "metadata": {},
   "source": [
    "# prep"
   ]
  },
  {
   "cell_type": "code",
   "execution_count": 3,
   "metadata": {},
   "outputs": [],
   "source": [
    "def prp_tgt(df):\n",
    "    df[cols_tgt]=df[cols_tgt_tmstmp].notna()\n",
    "    df.drop(columns=cols_tgt_tmstmp, inplace=True)\n",
    "    display(df[cols_tgt].mean())"
   ]
  },
  {
   "cell_type": "code",
   "execution_count": 4,
   "metadata": {
    "scrolled": false
   },
   "outputs": [
    {
     "name": "stdout",
     "output_type": "stream",
     "text": [
      "(100000, 24)\n"
     ]
    },
    {
     "data": {
      "text/plain": [
       "retwt          0.11211\n",
       "reply          0.02754\n",
       "like           0.43929\n",
       "retwt_cmmnt    0.00801\n",
       "dtype: float64"
      ]
     },
     "metadata": {},
     "output_type": "display_data"
    },
    {
     "name": "stdout",
     "output_type": "stream",
     "text": [
      "CPU times: user 720 ms, sys: 112 ms, total: 833 ms\n",
      "Wall time: 831 ms\n"
     ]
    }
   ],
   "source": [
    "%%time\n",
    "dfval = pd.read_csv(f'{p_in}/trn_{trntmstmp}.tsv',sep='\\x01',header=None,names=cols,nrows=valsz)\n",
    "print(dfval.shape)\n",
    "prp_tgt(dfval)"
   ]
  },
  {
   "cell_type": "markdown",
   "metadata": {},
   "source": [
    "## maybe oversample"
   ]
  },
  {
   "cell_type": "code",
   "execution_count": 5,
   "metadata": {},
   "outputs": [],
   "source": [
    "# df = pd.read_csv(f'{p_in}/trn_{trntmstmp}.tsv',sep='\\x01',header=None,names=cols,nrows=5)\n",
    "# dfval = pd.read_csv(f'{p_in}/trn_{trntmstmp}.tsv',sep='\\x01',header=None,names=cols,nrows=2)\n",
    "# dftrn = pd.read_csv(f'{p_in}/trn_{trntmstmp}.tsv',sep='\\x01',header=None,names=cols,skiprows=2,nrows=3)\n",
    "# display(df.twtid)\n",
    "# display(dfval.twtid)\n",
    "# display(dftrn.twtid)\n",
    "\n",
    "# 0    D4D1EBDE74F74C5DA529959AF979625C\n",
    "# 1    BFB529DAB6D384EB83E899A72AB3830D\n",
    "# 2    519078C7834E9642508F72A6C2D0F3B7\n",
    "# 3    52AAE9E33EFAC8C478C57B31A9E31ED1\n",
    "# 4    89C1298C55EB3D68E2784F0BFB69E6F8\n",
    "# Name: twtid, dtype: object\n",
    "# 0    D4D1EBDE74F74C5DA529959AF979625C\n",
    "# 1    BFB529DAB6D384EB83E899A72AB3830D\n",
    "# Name: twtid, dtype: object\n",
    "# 0    519078C7834E9642508F72A6C2D0F3B7\n",
    "# 1    52AAE9E33EFAC8C478C57B31A9E31ED1\n",
    "# 2    89C1298C55EB3D68E2784F0BFB69E6F8\n",
    "# Name: twtid, dtype: object"
   ]
  },
  {
   "cell_type": "code",
   "execution_count": 6,
   "metadata": {
    "scrolled": true
   },
   "outputs": [
    {
     "name": "stdout",
     "output_type": "stream",
     "text": [
      "(370000, 24)\n"
     ]
    },
    {
     "data": {
      "text/plain": [
       "retwt          0.112570\n",
       "reply          0.028143\n",
       "like           0.438841\n",
       "retwt_cmmnt    0.007565\n",
       "dtype: float64"
      ]
     },
     "metadata": {},
     "output_type": "display_data"
    },
    {
     "name": "stdout",
     "output_type": "stream",
     "text": [
      "CPU times: user 2.91 s, sys: 288 ms, total: 3.2 s\n",
      "Wall time: 3.2 s\n"
     ]
    }
   ],
   "source": [
    "%%time\n",
    "if TGT in ('Retweet','Like'): trnpop=trnsz\n",
    "if TGT=='Reply': trnpop=trnsz*3.7\n",
    "if TGT=='RTwCmnt': trnpop=trnsz*11.5\n",
    "assert trnpop<train_total\n",
    "\n",
    "dftrn = pd.read_csv(f'{p_in}/trn_{trntmstmp}.tsv',sep='\\x01',header=None,names=cols,\n",
    "                     skiprows=valsz, nrows=trnpop)\n",
    "print(dftrn.shape)\n",
    "prp_tgt(dftrn)"
   ]
  },
  {
   "cell_type": "code",
   "execution_count": 7,
   "metadata": {
    "scrolled": true
   },
   "outputs": [
    {
     "name": "stdout",
     "output_type": "stream",
     "text": [
      "(100000, 24) 0.10413\n",
      "370000 10413 100000 10413\n"
     ]
    },
    {
     "data": {
      "text/html": [
       "<div>\n",
       "<style scoped>\n",
       "    .dataframe tbody tr th:only-of-type {\n",
       "        vertical-align: middle;\n",
       "    }\n",
       "\n",
       "    .dataframe tbody tr th {\n",
       "        vertical-align: top;\n",
       "    }\n",
       "\n",
       "    .dataframe thead th {\n",
       "        text-align: right;\n",
       "    }\n",
       "</style>\n",
       "<table border=\"1\" class=\"dataframe\">\n",
       "  <thead>\n",
       "    <tr style=\"text-align: right;\">\n",
       "      <th></th>\n",
       "      <th>toks</th>\n",
       "      <th>hshtgs</th>\n",
       "      <th>twtid</th>\n",
       "      <th>media</th>\n",
       "      <th>links</th>\n",
       "      <th>domns</th>\n",
       "      <th>twttyp</th>\n",
       "      <th>lang</th>\n",
       "      <th>tm</th>\n",
       "      <th>u1id</th>\n",
       "      <th>u1_fllwer_cnt</th>\n",
       "      <th>u1_fllwing_cnt</th>\n",
       "      <th>u1_vrfed</th>\n",
       "      <th>u1_create_tm</th>\n",
       "      <th>u2id</th>\n",
       "      <th>u2_fllwer_cnt</th>\n",
       "      <th>u2_fllwng_cnt</th>\n",
       "      <th>u2_vrfed</th>\n",
       "      <th>u2_create_tm</th>\n",
       "      <th>u1_fllw_u2</th>\n",
       "      <th>retwt</th>\n",
       "      <th>reply</th>\n",
       "      <th>like</th>\n",
       "      <th>retwt_cmmnt</th>\n",
       "    </tr>\n",
       "  </thead>\n",
       "  <tbody>\n",
       "    <tr>\n",
       "      <th>5</th>\n",
       "      <td>101\\t1434\\t107854\\t18260\\t31904\\t111431\\t74759...</td>\n",
       "      <td>NaN</td>\n",
       "      <td>0EB15633A8CC0A6E3917C272F43E6DF3</td>\n",
       "      <td>NaN</td>\n",
       "      <td>NaN</td>\n",
       "      <td>NaN</td>\n",
       "      <td>TopLevel</td>\n",
       "      <td>022EC308651FACB02794A8147AEE1B78</td>\n",
       "      <td>1581218899</td>\n",
       "      <td>A7E00C86B4E3709D589754A51042A360</td>\n",
       "      <td>1198215</td>\n",
       "      <td>662</td>\n",
       "      <td>True</td>\n",
       "      <td>1246548812</td>\n",
       "      <td>016212C070A76EAB37E8ED93CA509BA9</td>\n",
       "      <td>0</td>\n",
       "      <td>42</td>\n",
       "      <td>False</td>\n",
       "      <td>1578271262</td>\n",
       "      <td>False</td>\n",
       "      <td>False</td>\n",
       "      <td>True</td>\n",
       "      <td>False</td>\n",
       "      <td>False</td>\n",
       "    </tr>\n",
       "    <tr>\n",
       "      <th>51</th>\n",
       "      <td>101\\t10473\\t10116\\t10132\\t12603\\t97953\\t25307\\...</td>\n",
       "      <td>NaN</td>\n",
       "      <td>7C71C144E7B9F2D87F1F4DDB40AB1C49</td>\n",
       "      <td>NaN</td>\n",
       "      <td>NaN</td>\n",
       "      <td>NaN</td>\n",
       "      <td>TopLevel</td>\n",
       "      <td>2996EB2FE8162C076D070A4C8D6532CD</td>\n",
       "      <td>1581203618</td>\n",
       "      <td>B0CBECD53C3B945C875C55DDFF56D13F</td>\n",
       "      <td>1424</td>\n",
       "      <td>854</td>\n",
       "      <td>False</td>\n",
       "      <td>1394906655</td>\n",
       "      <td>01625341E5A48963E5AA7DFFDC4436D4</td>\n",
       "      <td>643</td>\n",
       "      <td>327</td>\n",
       "      <td>False</td>\n",
       "      <td>1372760933</td>\n",
       "      <td>True</td>\n",
       "      <td>False</td>\n",
       "      <td>True</td>\n",
       "      <td>False</td>\n",
       "      <td>False</td>\n",
       "    </tr>\n",
       "    <tr>\n",
       "      <th>63</th>\n",
       "      <td>101\\t56898\\t137\\t24362\\t131\\t100\\t196\\t36351\\t...</td>\n",
       "      <td>NaN</td>\n",
       "      <td>ADCF033A7C7087C1506E2BC3E2D8F092</td>\n",
       "      <td>NaN</td>\n",
       "      <td>NaN</td>\n",
       "      <td>NaN</td>\n",
       "      <td>Retweet</td>\n",
       "      <td>717293301FE296B0B61950D041485825</td>\n",
       "      <td>1581258397</td>\n",
       "      <td>ECD90FC37F0A7C15C82834FDDEEDC21A</td>\n",
       "      <td>1753</td>\n",
       "      <td>811</td>\n",
       "      <td>False</td>\n",
       "      <td>1568347799</td>\n",
       "      <td>01625CCEC5A4C322FC247DB9E223CC08</td>\n",
       "      <td>147</td>\n",
       "      <td>1355</td>\n",
       "      <td>False</td>\n",
       "      <td>1355850070</td>\n",
       "      <td>False</td>\n",
       "      <td>False</td>\n",
       "      <td>True</td>\n",
       "      <td>False</td>\n",
       "      <td>False</td>\n",
       "    </tr>\n",
       "    <tr>\n",
       "      <th>75</th>\n",
       "      <td>101\\t12441\\t105702\\t793\\t61783\\t34022\\t60578\\t...</td>\n",
       "      <td>NaN</td>\n",
       "      <td>7EB0824DDA3D28844CC0FF65B7C4AA08</td>\n",
       "      <td>NaN</td>\n",
       "      <td>NaN</td>\n",
       "      <td>NaN</td>\n",
       "      <td>TopLevel</td>\n",
       "      <td>167115458A0DBDFF7E9C0C53A83BAC9B</td>\n",
       "      <td>1581271814</td>\n",
       "      <td>D905F31F909CC63C2BBEB7F6B43487FE</td>\n",
       "      <td>175998</td>\n",
       "      <td>116</td>\n",
       "      <td>False</td>\n",
       "      <td>1466830888</td>\n",
       "      <td>01626B64A2570C2807AB97716262FBA9</td>\n",
       "      <td>90</td>\n",
       "      <td>139</td>\n",
       "      <td>False</td>\n",
       "      <td>1364278366</td>\n",
       "      <td>False</td>\n",
       "      <td>False</td>\n",
       "      <td>True</td>\n",
       "      <td>False</td>\n",
       "      <td>False</td>\n",
       "    </tr>\n",
       "    <tr>\n",
       "      <th>83</th>\n",
       "      <td>101\\t69532\\t10107\\t12372\\t10160\\t19048\\t136\\t1...</td>\n",
       "      <td>NaN</td>\n",
       "      <td>0A95516F028EBFF6B551DB32C4B2D1B5</td>\n",
       "      <td>Video</td>\n",
       "      <td>NaN</td>\n",
       "      <td>NaN</td>\n",
       "      <td>TopLevel</td>\n",
       "      <td>ECED8A16BE2A5E8871FD55F4842F16B1</td>\n",
       "      <td>1581214010</td>\n",
       "      <td>88E80BAB56E6F59E4EF012A8B12D3BAE</td>\n",
       "      <td>8825</td>\n",
       "      <td>8024</td>\n",
       "      <td>False</td>\n",
       "      <td>1557262802</td>\n",
       "      <td>0162759D8908AA8C849F06086A023D85</td>\n",
       "      <td>26265</td>\n",
       "      <td>24215</td>\n",
       "      <td>False</td>\n",
       "      <td>1557422269</td>\n",
       "      <td>True</td>\n",
       "      <td>False</td>\n",
       "      <td>True</td>\n",
       "      <td>False</td>\n",
       "      <td>False</td>\n",
       "    </tr>\n",
       "  </tbody>\n",
       "</table>\n",
       "</div>"
      ],
      "text/plain": [
       "                                                 toks hshtgs  \\\n",
       "5   101\\t1434\\t107854\\t18260\\t31904\\t111431\\t74759...    NaN   \n",
       "51  101\\t10473\\t10116\\t10132\\t12603\\t97953\\t25307\\...    NaN   \n",
       "63  101\\t56898\\t137\\t24362\\t131\\t100\\t196\\t36351\\t...    NaN   \n",
       "75  101\\t12441\\t105702\\t793\\t61783\\t34022\\t60578\\t...    NaN   \n",
       "83  101\\t69532\\t10107\\t12372\\t10160\\t19048\\t136\\t1...    NaN   \n",
       "\n",
       "                               twtid  media links domns    twttyp  \\\n",
       "5   0EB15633A8CC0A6E3917C272F43E6DF3    NaN   NaN   NaN  TopLevel   \n",
       "51  7C71C144E7B9F2D87F1F4DDB40AB1C49    NaN   NaN   NaN  TopLevel   \n",
       "63  ADCF033A7C7087C1506E2BC3E2D8F092    NaN   NaN   NaN   Retweet   \n",
       "75  7EB0824DDA3D28844CC0FF65B7C4AA08    NaN   NaN   NaN  TopLevel   \n",
       "83  0A95516F028EBFF6B551DB32C4B2D1B5  Video   NaN   NaN  TopLevel   \n",
       "\n",
       "                                lang          tm  \\\n",
       "5   022EC308651FACB02794A8147AEE1B78  1581218899   \n",
       "51  2996EB2FE8162C076D070A4C8D6532CD  1581203618   \n",
       "63  717293301FE296B0B61950D041485825  1581258397   \n",
       "75  167115458A0DBDFF7E9C0C53A83BAC9B  1581271814   \n",
       "83  ECED8A16BE2A5E8871FD55F4842F16B1  1581214010   \n",
       "\n",
       "                                u1id  u1_fllwer_cnt  u1_fllwing_cnt  u1_vrfed  \\\n",
       "5   A7E00C86B4E3709D589754A51042A360        1198215             662      True   \n",
       "51  B0CBECD53C3B945C875C55DDFF56D13F           1424             854     False   \n",
       "63  ECD90FC37F0A7C15C82834FDDEEDC21A           1753             811     False   \n",
       "75  D905F31F909CC63C2BBEB7F6B43487FE         175998             116     False   \n",
       "83  88E80BAB56E6F59E4EF012A8B12D3BAE           8825            8024     False   \n",
       "\n",
       "    u1_create_tm                              u2id  u2_fllwer_cnt  \\\n",
       "5     1246548812  016212C070A76EAB37E8ED93CA509BA9              0   \n",
       "51    1394906655  01625341E5A48963E5AA7DFFDC4436D4            643   \n",
       "63    1568347799  01625CCEC5A4C322FC247DB9E223CC08            147   \n",
       "75    1466830888  01626B64A2570C2807AB97716262FBA9             90   \n",
       "83    1557262802  0162759D8908AA8C849F06086A023D85          26265   \n",
       "\n",
       "    u2_fllwng_cnt  u2_vrfed  u2_create_tm  u1_fllw_u2  retwt  reply   like  \\\n",
       "5              42     False    1578271262       False  False   True  False   \n",
       "51            327     False    1372760933        True  False   True  False   \n",
       "63           1355     False    1355850070       False  False   True  False   \n",
       "75            139     False    1364278366       False  False   True  False   \n",
       "83          24215     False    1557422269        True  False   True  False   \n",
       "\n",
       "    retwt_cmmnt  \n",
       "5         False  \n",
       "51        False  \n",
       "63        False  \n",
       "75        False  \n",
       "83        False  "
      ]
     },
     "metadata": {},
     "output_type": "display_data"
    },
    {
     "data": {
      "text/plain": [
       "Index(['toks', 'hshtgs', 'twtid', 'media', 'links', 'domns', 'twttyp', 'lang',\n",
       "       'tm', 'u1id', 'u1_fllwer_cnt', 'u1_fllwing_cnt', 'u1_vrfed',\n",
       "       'u1_create_tm', 'u2id', 'u2_fllwer_cnt', 'u2_fllwng_cnt', 'u2_vrfed',\n",
       "       'u2_create_tm', 'u1_fllw_u2', 'retwt', 'reply', 'like', 'retwt_cmmnt'],\n",
       "      dtype='object')"
      ]
     },
     "metadata": {},
     "output_type": "display_data"
    }
   ],
   "source": [
    "train_pop=len(dftrn)\n",
    "sampled_train_pop=trnsz\n",
    "idx_pos = np.where(dftrn[TCOL])[0]\n",
    "target_pop=sampled_target_pop=len(idx_pos)\n",
    "if TGT in ('Reply','RTwCmnt'):\n",
    "    idx_neg0 = np.where(~dftrn[TCOL])[0]\n",
    "    idx_neg = np.random.choice(idx_neg0, trnsz-len(idx_pos), replace=False)\n",
    "    idx = np.concatenate([idx_pos,idx_neg])\n",
    "    dftrn = dftrn.iloc[idx].copy()\n",
    "print(dftrn.shape, dftrn[TCOL].mean())\n",
    "print(train_pop, target_pop, sampled_train_pop, sampled_target_pop)\n",
    "\n",
    "display(dftrn.head())\n",
    "display(dftrn.columns)"
   ]
  },
  {
   "cell_type": "markdown",
   "metadata": {},
   "source": [
    "## prep and features"
   ]
  },
  {
   "cell_type": "code",
   "execution_count": 8,
   "metadata": {},
   "outputs": [],
   "source": [
    "def prp_df(df, tm_max):\n",
    "    '''\n",
    "    tm_max = tm_trn_max for train tm_tst_max for test\n",
    "    '''\n",
    "    lendf = len(df)\n",
    "    print(dtnow(), 'start')\n",
    "    set_u1 = set(df.u1id)\n",
    "    set_u2 = set(df.u2id)\n",
    "    df['u1inu2']=df.u1id.isin(set_u2)\n",
    "    df['u2inu1']=df.u2id.isin(set_u1)\n",
    "\n",
    "    #counts\n",
    "    df['len_toks'] = df.toks.apply(lambda x: len(x.split('\\t')))\n",
    "    df.drop(columns=['toks'], inplace=True)    \n",
    "    for m in ['Photo', 'Video', 'GIF']:\n",
    "        df[f'n_media_{m}'] = df['media'].fillna('').apply(lambda x: x.split('\\t').count(m))\n",
    "    tgnms = ['hshtgs','media', 'links', 'domns',]\n",
    "    for tgnm in tgnms:\n",
    "        df[f'has_{tgnm}']=df[tgnm].notna()\n",
    "        df[f'lst_{tgnm}'] = df[tgnm].fillna('').apply(lambda x: x.split('\\t') if len(x) else [])\n",
    "        df[f'n_{tgnm}'] = df[f'lst_{tgnm}'].apply(len)  \n",
    "    df.drop(columns=['has_links','n_links'], inplace=True) #duplicates has_domns,n_domns \n",
    "    \n",
    "    #time\n",
    "    dt = pd.to_datetime(df.tm, unit='s')\n",
    "    df['dayofweek'] = dt.dt.dayofweek\n",
    "    df['hour'] = dt.dt.hour\n",
    "    \n",
    "    df['tmdlta_u2u1']  = df.u2_create_tm - df.u1_create_tm\n",
    "    df['tmdlta_twtu1'] = df.tm - df.u1_create_tm\n",
    "    df['tmdlta_twtu2'] = df.tm - df.u2_create_tm\n",
    "\n",
    "    df['twt_age']   = tm_max-df.tm\n",
    "    df['u1_age']    = tm_max-df.u1_create_tm\n",
    "    df['u2_age']    = tm_max-df.u2_create_tm\n",
    "    df.drop(columns=['tm', 'u1_create_tm', 'u2_create_tm'], inplace=True)\n",
    "\n",
    "    #time derived\n",
    "    df['u1_fllwer_cnt_by_age'] = df.u1_fllwer_cnt / df.u1_age\n",
    "    df['u1_fllwng_cnt_by_age'] = df.u2_fllwng_cnt / df.u2_age\n",
    "    \n",
    "    #interaction\n",
    "    df['u1u2']=df.u1id+'_'+df.u2id\n",
    "    df['langhour']=df.lang+'_'+df.hour.astype(str)\n",
    "    \n",
    "\n",
    "    #freq of feature values\n",
    "    print(dtnow(), 'freq of columns using CountEncoder')\n",
    "    encoder = ce.CountEncoder()\n",
    "    encoded = encoder.fit_transform(\n",
    "    df[['twtid', 'twttyp', 'lang', 'u1id', 'u1_fllwing_cnt', 'u1_vrfed', 'u2id', 'u2_fllwer_cnt', 'u2_vrfed', 'u1_fllw_u2', \n",
    "       'n_media_Photo', 'n_media_Video', 'n_media_GIF', \n",
    "       'has_hshtgs', 'n_hshtgs', 'has_media', 'n_media','has_domns', 'n_domns', \n",
    "       'dayofweek', 'hour', 'u1u2', 'langhour']].astype(object))\n",
    "    encoded = encoded.astype(int)/lendf\n",
    "    encoded.columns = [f'frq_{col}' for col in encoded.columns]\n",
    "    df = pd.concat([df,encoded],1)\n",
    "    \n",
    "    #freq of tgnm values\n",
    "    print(dtnow(), 'freq of tags')\n",
    "    for tgnm in tgnms:\n",
    "        vs = [j for i in df[f'lst_{tgnm}'] for j in i]\n",
    "        cnt = Counter(vs)\n",
    "        frq = {k:v/lendf for k,v in cnt.items()}\n",
    "        df[f'sumfrq_{tgnm}']=df[f'lst_{tgnm}'].apply(lambda x: sum([frq.get(o,0) for o in x]))\n",
    "        df[f'maxfrq_{tgnm}']=df[f'lst_{tgnm}'].apply(lambda x: max([frq.get(o,0) for o in x]) if len(x) else 0)\n",
    "    df.drop(columns=tgnms+[f'lst_{tgnm}' for tgnm in tgnms],inplace=True)\n",
    "\n",
    "    print(dtnow(), 'done')\n",
    "    return df"
   ]
  },
  {
   "cell_type": "code",
   "execution_count": 9,
   "metadata": {},
   "outputs": [
    {
     "name": "stdout",
     "output_type": "stream",
     "text": [
      "2020-04-10 20:58:45 start\n",
      "2020-04-10 20:58:47 freq of columns using CountEncoder\n"
     ]
    },
    {
     "name": "stderr",
     "output_type": "stream",
     "text": [
      "/data/anaconda3/envs/rcss20/lib/python3.7/site-packages/category_encoders/count.py:255: FutureWarning: The pandas.np module is deprecated and will be removed from pandas in a future version. Import numpy directly instead\n",
      "  X.loc[:, self.cols] = X.fillna(value=pd.np.nan)\n"
     ]
    },
    {
     "name": "stdout",
     "output_type": "stream",
     "text": [
      "2020-04-10 20:58:49 freq of tags\n",
      "2020-04-10 20:58:50 done\n",
      "CPU times: user 4.77 s, sys: 259 ms, total: 5.03 s\n",
      "Wall time: 4.95 s\n"
     ]
    }
   ],
   "source": [
    "%%time\n",
    "dftrn=prp_df(dftrn, tm_max=tm_trn_max)"
   ]
  },
  {
   "cell_type": "code",
   "execution_count": 10,
   "metadata": {},
   "outputs": [
    {
     "name": "stdout",
     "output_type": "stream",
     "text": [
      "2020-04-10 20:58:50 start\n",
      "2020-04-10 20:58:52 freq of columns using CountEncoder\n",
      "2020-04-10 20:58:53 freq of tags\n",
      "2020-04-10 20:58:54 done\n",
      "CPU times: user 4.08 s, sys: 68.9 ms, total: 4.15 s\n",
      "Wall time: 4.13 s\n"
     ]
    }
   ],
   "source": [
    "%%time\n",
    "dfval=prp_df(dfval, tm_max=tm_trn_max)"
   ]
  },
  {
   "cell_type": "markdown",
   "metadata": {},
   "source": [
    "## tr vl split and target encoding"
   ]
  },
  {
   "cell_type": "code",
   "execution_count": 11,
   "metadata": {},
   "outputs": [
    {
     "data": {
      "text/plain": [
       "30"
      ]
     },
     "execution_count": 11,
     "metadata": {},
     "output_type": "execute_result"
    }
   ],
   "source": [
    "msk_vl=np.random.rand(len(dftrn))<0.15\n",
    "idxvl=np.where( msk_vl)[0]\n",
    "idxtr=np.where(~msk_vl)[0]\n",
    "\n",
    "dftr = dftrn.iloc[idxtr].copy()\n",
    "dfvl = dftrn.iloc[idxvl].copy()\n",
    "del dftrn\n",
    "\n",
    "gc.collect()"
   ]
  },
  {
   "cell_type": "code",
   "execution_count": 12,
   "metadata": {},
   "outputs": [
    {
     "data": {
      "text/plain": [
       "Index(['twtid', 'twttyp', 'lang', 'u1id', 'u1_fllwer_cnt', 'u1_fllwing_cnt',\n",
       "       'u1_vrfed', 'u2id', 'u2_fllwer_cnt', 'u2_fllwng_cnt', 'u2_vrfed',\n",
       "       'u1_fllw_u2', 'retwt', 'reply', 'like', 'retwt_cmmnt', 'u1inu2',\n",
       "       'u2inu1', 'len_toks', 'n_media_Photo', 'n_media_Video', 'n_media_GIF',\n",
       "       'has_hshtgs', 'n_hshtgs', 'has_media', 'n_media', 'has_domns',\n",
       "       'n_domns', 'dayofweek', 'hour', 'tmdlta_u2u1', 'tmdlta_twtu1',\n",
       "       'tmdlta_twtu2', 'twt_age', 'u1_age', 'u2_age', 'u1_fllwer_cnt_by_age',\n",
       "       'u1_fllwng_cnt_by_age', 'u1u2', 'langhour', 'frq_twtid', 'frq_twttyp',\n",
       "       'frq_lang', 'frq_u1id', 'frq_u1_fllwing_cnt', 'frq_u1_vrfed',\n",
       "       'frq_u2id', 'frq_u2_fllwer_cnt', 'frq_u2_vrfed', 'frq_u1_fllw_u2',\n",
       "       'frq_n_media_Photo', 'frq_n_media_Video', 'frq_n_media_GIF',\n",
       "       'frq_has_hshtgs', 'frq_n_hshtgs', 'frq_has_media', 'frq_n_media',\n",
       "       'frq_has_domns', 'frq_n_domns', 'frq_dayofweek', 'frq_hour', 'frq_u1u2',\n",
       "       'frq_langhour', 'sumfrq_hshtgs', 'maxfrq_hshtgs', 'sumfrq_media',\n",
       "       'maxfrq_media', 'sumfrq_links', 'maxfrq_links', 'sumfrq_domns',\n",
       "       'maxfrq_domns'],\n",
       "      dtype='object')"
      ]
     },
     "execution_count": 12,
     "metadata": {},
     "output_type": "execute_result"
    }
   ],
   "source": [
    "dftr.columns"
   ]
  },
  {
   "cell_type": "code",
   "execution_count": 13,
   "metadata": {},
   "outputs": [
    {
     "name": "stdout",
     "output_type": "stream",
     "text": [
      "CPU times: user 4.83 s, sys: 0 ns, total: 4.83 s\n",
      "Wall time: 4.81 s\n"
     ]
    }
   ],
   "source": [
    "%%time\n",
    "col2tgtenc=['twtid', 'twttyp', 'lang', 'u1id', 'u1_fllwing_cnt', 'u1_vrfed', 'u2id', 'u2_fllwer_cnt', 'u2_vrfed', 'u1_fllw_u2', \n",
    "   'n_media_Photo', 'n_media_Video', 'n_media_GIF', \n",
    "   'has_hshtgs', 'n_hshtgs', 'has_media', 'n_media','has_domns', 'n_domns', \n",
    "   'dayofweek', 'hour', 'u1u2', 'langhour']\n",
    "tgt_encoder = ce.TargetEncoder()\n",
    "encoded_tr = tgt_encoder.fit_transform(dftr[col2tgtenc].astype(object), dftr[TCOL])\n",
    "encoded_vl = tgt_encoder.transform(dfvl[col2tgtenc].astype(object))\n",
    "encoded_val = tgt_encoder.transform(dfval[col2tgtenc].astype(object))\n",
    "\n",
    "tgtenc_columns = [f'tgtenc_{col}' for col in encoded_tr.columns]\n",
    "encoded_tr.columns = tgtenc_columns\n",
    "encoded_vl.columns = tgtenc_columns\n",
    "encoded_val.columns = tgtenc_columns\n",
    "\n",
    "dftr = pd.concat([dftr, encoded_tr], 1)\n",
    "dfvl = pd.concat([dfvl, encoded_vl], 1)\n",
    "dfval = pd.concat([dfval, encoded_val], 1)\n"
   ]
  },
  {
   "cell_type": "code",
   "execution_count": 14,
   "metadata": {},
   "outputs": [],
   "source": [
    "cols_category=['twttyp', 'lang', 'langhour']\n",
    "for df in dftr,dfvl,dfval:\n",
    "    df.drop(columns=['twtid','u1id','u2id','u1u2'], inplace=True)\n",
    "    df[cols_category]=df[cols_category].astype('category')"
   ]
  },
  {
   "cell_type": "code",
   "execution_count": 15,
   "metadata": {},
   "outputs": [],
   "source": [
    "cols_feat = [col for col in dftr.columns if col not in cols_tgt]"
   ]
  },
  {
   "cell_type": "code",
   "execution_count": 16,
   "metadata": {},
   "outputs": [
    {
     "data": {
      "text/plain": [
       "twttyp                   category\n",
       "lang                     category\n",
       "u1_fllwer_cnt               int64\n",
       "u1_fllwing_cnt              int64\n",
       "u1_vrfed                     bool\n",
       "u2_fllwer_cnt               int64\n",
       "u2_fllwng_cnt               int64\n",
       "u2_vrfed                     bool\n",
       "u1_fllw_u2                   bool\n",
       "retwt                        bool\n",
       "reply                        bool\n",
       "like                         bool\n",
       "retwt_cmmnt                  bool\n",
       "u1inu2                       bool\n",
       "u2inu1                       bool\n",
       "len_toks                    int64\n",
       "n_media_Photo               int64\n",
       "n_media_Video               int64\n",
       "n_media_GIF                 int64\n",
       "has_hshtgs                   bool\n",
       "n_hshtgs                    int64\n",
       "has_media                    bool\n",
       "n_media                     int64\n",
       "has_domns                    bool\n",
       "n_domns                     int64\n",
       "dayofweek                   int64\n",
       "hour                        int64\n",
       "tmdlta_u2u1                 int64\n",
       "tmdlta_twtu1                int64\n",
       "tmdlta_twtu2                int64\n",
       "twt_age                     int64\n",
       "u1_age                      int64\n",
       "u2_age                      int64\n",
       "u1_fllwer_cnt_by_age      float64\n",
       "u1_fllwng_cnt_by_age      float64\n",
       "langhour                 category\n",
       "frq_twtid                 float64\n",
       "frq_twttyp                float64\n",
       "frq_lang                  float64\n",
       "frq_u1id                  float64\n",
       "frq_u1_fllwing_cnt        float64\n",
       "frq_u1_vrfed              float64\n",
       "frq_u2id                  float64\n",
       "frq_u2_fllwer_cnt         float64\n",
       "frq_u2_vrfed              float64\n",
       "frq_u1_fllw_u2            float64\n",
       "frq_n_media_Photo         float64\n",
       "frq_n_media_Video         float64\n",
       "frq_n_media_GIF           float64\n",
       "frq_has_hshtgs            float64\n",
       "frq_n_hshtgs              float64\n",
       "frq_has_media             float64\n",
       "frq_n_media               float64\n",
       "frq_has_domns             float64\n",
       "frq_n_domns               float64\n",
       "frq_dayofweek             float64\n",
       "frq_hour                  float64\n",
       "frq_u1u2                  float64\n",
       "frq_langhour              float64\n",
       "sumfrq_hshtgs             float64\n",
       "maxfrq_hshtgs             float64\n",
       "sumfrq_media              float64\n",
       "maxfrq_media              float64\n",
       "sumfrq_links              float64\n",
       "maxfrq_links              float64\n",
       "sumfrq_domns              float64\n",
       "maxfrq_domns              float64\n",
       "tgtenc_twtid              float64\n",
       "tgtenc_twttyp             float64\n",
       "tgtenc_lang               float64\n",
       "tgtenc_u1id               float64\n",
       "tgtenc_u1_fllwing_cnt     float64\n",
       "tgtenc_u1_vrfed           float64\n",
       "tgtenc_u2id               float64\n",
       "tgtenc_u2_fllwer_cnt      float64\n",
       "tgtenc_u2_vrfed           float64\n",
       "tgtenc_u1_fllw_u2         float64\n",
       "tgtenc_n_media_Photo      float64\n",
       "tgtenc_n_media_Video      float64\n",
       "tgtenc_n_media_GIF        float64\n",
       "tgtenc_has_hshtgs         float64\n",
       "tgtenc_n_hshtgs           float64\n",
       "tgtenc_has_media          float64\n",
       "tgtenc_n_media            float64\n",
       "tgtenc_has_domns          float64\n",
       "tgtenc_n_domns            float64\n",
       "tgtenc_dayofweek          float64\n",
       "tgtenc_hour               float64\n",
       "tgtenc_u1u2               float64\n",
       "tgtenc_langhour           float64\n",
       "dtype: object"
      ]
     },
     "execution_count": 16,
     "metadata": {},
     "output_type": "execute_result"
    }
   ],
   "source": [
    "dftr.dtypes"
   ]
  },
  {
   "cell_type": "markdown",
   "metadata": {},
   "source": [
    "# model"
   ]
  },
  {
   "cell_type": "code",
   "execution_count": 17,
   "metadata": {},
   "outputs": [],
   "source": [
    "cols_feat=['twttyp',\n",
    "#  'lang',\n",
    " 'u1_fllwer_cnt',\n",
    " 'u1_fllwing_cnt',\n",
    " 'u1_vrfed',\n",
    " 'u2_fllwer_cnt',\n",
    " 'u2_fllwng_cnt',\n",
    " 'u2_vrfed',\n",
    " 'u1_fllw_u2',\n",
    " 'u1inu2',\n",
    " 'u2inu1',\n",
    " 'len_toks',\n",
    " 'n_media_Photo',\n",
    " 'n_media_Video',\n",
    " 'n_media_GIF',\n",
    "#  'has_hshtgs',\n",
    " 'n_hshtgs',\n",
    "#  'has_media',\n",
    " 'n_media',\n",
    "#  'has_domns',\n",
    " 'n_domns',\n",
    " 'dayofweek',\n",
    " 'hour',\n",
    " 'tmdlta_u2u1',\n",
    " 'tmdlta_twtu1',\n",
    " 'tmdlta_twtu2',\n",
    " 'twt_age',\n",
    " 'u1_age',\n",
    " 'u2_age',\n",
    " 'u1_fllwer_cnt_by_age',\n",
    " 'u1_fllwng_cnt_by_age',\n",
    "#  'langhour',\n",
    "#  'frq_twtid',\n",
    "#  'frq_twttyp',\n",
    "#  'frq_lang',\n",
    "#  'frq_u1id',\n",
    "#  'frq_u1_fllwing_cnt',\n",
    "#  'frq_u1_vrfed',\n",
    "#  'frq_u2id',\n",
    "#  'frq_u2_fllwer_cnt',\n",
    "#  'frq_u2_vrfed',\n",
    "#  'frq_u1_fllw_u2',\n",
    "#  'frq_n_media_Photo',\n",
    "#  'frq_n_media_Video',\n",
    "#  'frq_n_media_GIF',\n",
    "#  'frq_has_hshtgs',\n",
    "#  'frq_n_hshtgs',\n",
    "#  'frq_has_media',\n",
    "#  'frq_n_media',\n",
    "#  'frq_has_domns',\n",
    "#  'frq_n_domns',\n",
    "#  'frq_dayofweek',\n",
    "#  'frq_hour',\n",
    "#  'frq_u1u2',\n",
    "#  'frq_langhour',\n",
    "#  'sumfrq_hshtgs',\n",
    "#  'maxfrq_hshtgs',\n",
    "#  'sumfrq_media',\n",
    "#  'maxfrq_media',\n",
    "#  'sumfrq_links',\n",
    "#  'maxfrq_links',\n",
    "#  'sumfrq_domns',\n",
    "#  'maxfrq_domns',\n",
    "#  'tgtenc_twtid',\n",
    "#  'tgtenc_twttyp',\n",
    "#  'tgtenc_lang',\n",
    "#  'tgtenc_u1id',\n",
    "#  'tgtenc_u1_fllwing_cnt',\n",
    "#  'tgtenc_u1_vrfed',\n",
    "#  'tgtenc_u2id',\n",
    "#  'tgtenc_u2_fllwer_cnt',\n",
    "#  'tgtenc_u2_vrfed',\n",
    "#  'tgtenc_u1_fllw_u2',\n",
    "#  'tgtenc_n_media_Photo',\n",
    "#  'tgtenc_n_media_Video',\n",
    "#  'tgtenc_n_media_GIF',\n",
    "#  'tgtenc_has_hshtgs',\n",
    "#  'tgtenc_n_hshtgs',\n",
    "#  'tgtenc_has_media',\n",
    "#  'tgtenc_n_media',\n",
    "#  'tgtenc_has_domns',\n",
    "#  'tgtenc_n_domns',\n",
    "#  'tgtenc_dayofweek',\n",
    "#  'tgtenc_hour',\n",
    "#  'tgtenc_u1u2',\n",
    "#  'tgtenc_langhour'\n",
    "          ]"
   ]
  },
  {
   "cell_type": "code",
   "execution_count": 18,
   "metadata": {},
   "outputs": [],
   "source": [
    "results = {}\n",
    "results['PRFX'] = PRFX\n",
    "results['TGT'] = TGT\n",
    "results['cols_feat'] = cols_feat\n",
    "results['tgt_encoder'] = tgt_encoder\n",
    "results['col2tgtenc'] = col2tgtenc"
   ]
  },
  {
   "cell_type": "code",
   "execution_count": 19,
   "metadata": {},
   "outputs": [],
   "source": [
    "params={\n",
    "    'objective': 'binary',\n",
    "    'metric': 'binary_logloss',\n",
    "    'verbosity': 0,\n",
    "    'min_data_in_leaf': 1000,#################\n",
    "    \n",
    "}\n",
    "\n",
    "# param = {\n",
    "#         'objective': 'binary',\n",
    "#         'metric': 'binary_logloss',\n",
    "#         'verbosity': -1,\n",
    "#         'boosting_type': 'gbdt',\n",
    "#         'lambda_l1': trial.suggest_loguniform('lambda_l1', 1e-8, 10.0),\n",
    "#         'lambda_l2': trial.suggest_loguniform('lambda_l2', 1e-8, 10.0),\n",
    "#         'num_leaves': trial.suggest_int('num_leaves', 2, 256),\n",
    "#         'feature_fraction': trial.suggest_uniform('feature_fraction', 0.4, 1.0),\n",
    "#         'bagging_fraction': trial.suggest_uniform('bagging_fraction', 0.4, 1.0),\n",
    "#         'bagging_freq': trial.suggest_int('bagging_freq', 1, 7),\n",
    "#         'min_child_samples': trial.suggest_int('min_child_samples', 5, 100),\n",
    "#     }\n",
    "results['params'] = params"
   ]
  },
  {
   "cell_type": "code",
   "execution_count": null,
   "metadata": {},
   "outputs": [],
   "source": []
  },
  {
   "cell_type": "code",
   "execution_count": 20,
   "metadata": {
    "scrolled": false
   },
   "outputs": [
    {
     "name": "stderr",
     "output_type": "stream",
     "text": [
      "/data/anaconda3/envs/rcss20/lib/python3.7/site-packages/optuna/_experimental.py:87: ExperimentalWarning: train is experimental (supported from v0.18.0). The interface can change in the future.\n",
      "  ExperimentalWarning\n",
      "tune_feature_fraction, val_score: inf:   0%|          | 0/7 [00:00<?, ?it/s]"
     ]
    },
    {
     "name": "stdout",
     "output_type": "stream",
     "text": [
      "Training until validation scores don't improve for 100 rounds\n",
      "[100]\ttr's binary_logloss: 0.278467\tvl's binary_logloss: 0.287777\n",
      "[200]\ttr's binary_logloss: 0.267755\tvl's binary_logloss: 0.288023\n",
      "Early stopping, best iteration is:\n",
      "[103]\ttr's binary_logloss: 0.278067\tvl's binary_logloss: 0.287607\n"
     ]
    },
    {
     "name": "stderr",
     "output_type": "stream",
     "text": [
      "tune_feature_fraction, val_score: 0.287607:  14%|#4        | 1/7 [00:03<00:18,  3.14s/it]"
     ]
    },
    {
     "name": "stdout",
     "output_type": "stream",
     "text": [
      "Training until validation scores don't improve for 100 rounds\n",
      "[100]\ttr's binary_logloss: 0.277334\tvl's binary_logloss: 0.287767\n",
      "[200]\ttr's binary_logloss: 0.266022\tvl's binary_logloss: 0.288428\n",
      "Early stopping, best iteration is:\n",
      "[110]\ttr's binary_logloss: 0.275955\tvl's binary_logloss: 0.287638\n"
     ]
    },
    {
     "name": "stderr",
     "output_type": "stream",
     "text": [
      "tune_feature_fraction, val_score: 0.287607:  29%|##8       | 2/7 [00:06<00:15,  3.14s/it]"
     ]
    },
    {
     "name": "stdout",
     "output_type": "stream",
     "text": [
      "Training until validation scores don't improve for 100 rounds\n",
      "[100]\ttr's binary_logloss: 0.277115\tvl's binary_logloss: 0.288239\n",
      "Early stopping, best iteration is:\n",
      "[86]\ttr's binary_logloss: 0.279013\tvl's binary_logloss: 0.288016\n"
     ]
    },
    {
     "name": "stderr",
     "output_type": "stream",
     "text": [
      "tune_feature_fraction, val_score: 0.287607:  43%|####2     | 3/7 [00:09<00:12,  3.06s/it]"
     ]
    },
    {
     "name": "stdout",
     "output_type": "stream",
     "text": [
      "Training until validation scores don't improve for 100 rounds\n",
      "[100]\ttr's binary_logloss: 0.276583\tvl's binary_logloss: 0.288527\n",
      "Early stopping, best iteration is:\n",
      "[58]\ttr's binary_logloss: 0.282885\tvl's binary_logloss: 0.288064\n"
     ]
    },
    {
     "name": "stderr",
     "output_type": "stream",
     "text": [
      "tune_feature_fraction, val_score: 0.287607:  57%|#####7    | 4/7 [00:11<00:08,  2.84s/it]"
     ]
    },
    {
     "name": "stdout",
     "output_type": "stream",
     "text": [
      "Training until validation scores don't improve for 100 rounds\n",
      "[100]\ttr's binary_logloss: 0.276298\tvl's binary_logloss: 0.288445\n",
      "Early stopping, best iteration is:\n",
      "[69]\ttr's binary_logloss: 0.28084\tvl's binary_logloss: 0.28824\n"
     ]
    },
    {
     "name": "stderr",
     "output_type": "stream",
     "text": [
      "tune_feature_fraction, val_score: 0.287607:  71%|#######1  | 5/7 [00:14<00:05,  2.82s/it]"
     ]
    },
    {
     "name": "stdout",
     "output_type": "stream",
     "text": [
      "Training until validation scores don't improve for 100 rounds\n",
      "[100]\ttr's binary_logloss: 0.276036\tvl's binary_logloss: 0.288847\n",
      "Early stopping, best iteration is:\n",
      "[55]\ttr's binary_logloss: 0.283012\tvl's binary_logloss: 0.288173\n"
     ]
    },
    {
     "name": "stderr",
     "output_type": "stream",
     "text": [
      "tune_feature_fraction, val_score: 0.287607:  86%|########5 | 6/7 [00:16<00:02,  2.72s/it]"
     ]
    },
    {
     "name": "stdout",
     "output_type": "stream",
     "text": [
      "Training until validation scores don't improve for 100 rounds\n",
      "[100]\ttr's binary_logloss: 0.275873\tvl's binary_logloss: 0.288591\n",
      "Early stopping, best iteration is:\n",
      "[55]\ttr's binary_logloss: 0.282902\tvl's binary_logloss: 0.288283\n"
     ]
    },
    {
     "name": "stderr",
     "output_type": "stream",
     "text": [
      "tune_feature_fraction, val_score: 0.287607: 100%|##########| 7/7 [00:19<00:00,  2.75s/it]\n",
      "tune_num_leaves, val_score: 0.287607:   0%|          | 0/20 [00:00<?, ?it/s]"
     ]
    },
    {
     "name": "stdout",
     "output_type": "stream",
     "text": [
      "Training until validation scores don't improve for 100 rounds\n",
      "[100]\ttr's binary_logloss: 0.268241\tvl's binary_logloss: 0.288468\n",
      "Early stopping, best iteration is:\n",
      "[72]\ttr's binary_logloss: 0.274973\tvl's binary_logloss: 0.288296\n"
     ]
    },
    {
     "name": "stderr",
     "output_type": "stream",
     "text": [
      "tune_num_leaves, val_score: 0.287607:   5%|5         | 1/20 [00:03<01:00,  3.19s/it]"
     ]
    },
    {
     "name": "stdout",
     "output_type": "stream",
     "text": [
      "Training until validation scores don't improve for 100 rounds\n",
      "[100]\ttr's binary_logloss: 0.268241\tvl's binary_logloss: 0.288468\n",
      "Early stopping, best iteration is:\n",
      "[72]\ttr's binary_logloss: 0.274973\tvl's binary_logloss: 0.288296\n"
     ]
    },
    {
     "name": "stderr",
     "output_type": "stream",
     "text": [
      "tune_num_leaves, val_score: 0.287607:  10%|#         | 2/20 [00:06<00:57,  3.17s/it]"
     ]
    },
    {
     "name": "stdout",
     "output_type": "stream",
     "text": [
      "Training until validation scores don't improve for 100 rounds\n",
      "[100]\ttr's binary_logloss: 0.268232\tvl's binary_logloss: 0.28843\n",
      "Early stopping, best iteration is:\n",
      "[72]\ttr's binary_logloss: 0.274973\tvl's binary_logloss: 0.288296\n"
     ]
    },
    {
     "name": "stderr",
     "output_type": "stream",
     "text": [
      "tune_num_leaves, val_score: 0.287607:  15%|#5        | 3/20 [00:09<00:53,  3.15s/it]"
     ]
    },
    {
     "name": "stdout",
     "output_type": "stream",
     "text": [
      "Training until validation scores don't improve for 100 rounds\n",
      "[100]\ttr's binary_logloss: 0.268241\tvl's binary_logloss: 0.288468\n",
      "Early stopping, best iteration is:\n",
      "[72]\ttr's binary_logloss: 0.274973\tvl's binary_logloss: 0.288296\n"
     ]
    },
    {
     "name": "stderr",
     "output_type": "stream",
     "text": [
      "tune_num_leaves, val_score: 0.287607:  20%|##        | 4/20 [00:12<00:50,  3.15s/it]"
     ]
    },
    {
     "name": "stdout",
     "output_type": "stream",
     "text": [
      "Training until validation scores don't improve for 100 rounds\n",
      "[100]\ttr's binary_logloss: 0.268241\tvl's binary_logloss: 0.288468\n",
      "Early stopping, best iteration is:\n",
      "[72]\ttr's binary_logloss: 0.274973\tvl's binary_logloss: 0.288296\n"
     ]
    },
    {
     "name": "stderr",
     "output_type": "stream",
     "text": [
      "tune_num_leaves, val_score: 0.287607:  25%|##5       | 5/20 [00:15<00:47,  3.15s/it]"
     ]
    },
    {
     "name": "stdout",
     "output_type": "stream",
     "text": [
      "Training until validation scores don't improve for 100 rounds\n",
      "[100]\ttr's binary_logloss: 0.268241\tvl's binary_logloss: 0.288468\n",
      "Early stopping, best iteration is:\n",
      "[72]\ttr's binary_logloss: 0.274973\tvl's binary_logloss: 0.288296\n"
     ]
    },
    {
     "name": "stderr",
     "output_type": "stream",
     "text": [
      "tune_num_leaves, val_score: 0.287607:  30%|###       | 6/20 [00:18<00:44,  3.16s/it]"
     ]
    },
    {
     "name": "stdout",
     "output_type": "stream",
     "text": [
      "Training until validation scores don't improve for 100 rounds\n",
      "[100]\ttr's binary_logloss: 0.268241\tvl's binary_logloss: 0.288468\n",
      "Early stopping, best iteration is:\n",
      "[72]\ttr's binary_logloss: 0.274973\tvl's binary_logloss: 0.288296\n"
     ]
    },
    {
     "name": "stderr",
     "output_type": "stream",
     "text": [
      "tune_num_leaves, val_score: 0.287607:  35%|###5      | 7/20 [00:22<00:40,  3.13s/it]"
     ]
    },
    {
     "name": "stdout",
     "output_type": "stream",
     "text": [
      "Training until validation scores don't improve for 100 rounds\n",
      "[100]\ttr's binary_logloss: 0.268241\tvl's binary_logloss: 0.288468\n",
      "Early stopping, best iteration is:\n",
      "[72]\ttr's binary_logloss: 0.274973\tvl's binary_logloss: 0.288296\n"
     ]
    },
    {
     "name": "stderr",
     "output_type": "stream",
     "text": [
      "tune_num_leaves, val_score: 0.287607:  40%|####      | 8/20 [00:25<00:38,  3.19s/it]"
     ]
    },
    {
     "name": "stdout",
     "output_type": "stream",
     "text": [
      "Training until validation scores don't improve for 100 rounds\n",
      "[100]\ttr's binary_logloss: 0.268354\tvl's binary_logloss: 0.288258\n",
      "Early stopping, best iteration is:\n",
      "[93]\ttr's binary_logloss: 0.269773\tvl's binary_logloss: 0.288047\n"
     ]
    },
    {
     "name": "stderr",
     "output_type": "stream",
     "text": [
      "tune_num_leaves, val_score: 0.287607:  45%|####5     | 9/20 [00:28<00:35,  3.25s/it]"
     ]
    },
    {
     "name": "stdout",
     "output_type": "stream",
     "text": [
      "Training until validation scores don't improve for 100 rounds\n",
      "[100]\ttr's binary_logloss: 0.268241\tvl's binary_logloss: 0.288468\n",
      "Early stopping, best iteration is:\n",
      "[72]\ttr's binary_logloss: 0.274973\tvl's binary_logloss: 0.288296\n"
     ]
    },
    {
     "name": "stderr",
     "output_type": "stream",
     "text": [
      "tune_num_leaves, val_score: 0.287607:  50%|#####     | 10/20 [00:31<00:30,  3.09s/it]"
     ]
    },
    {
     "name": "stdout",
     "output_type": "stream",
     "text": [
      "Training until validation scores don't improve for 100 rounds\n",
      "[100]\ttr's binary_logloss: 0.282816\tvl's binary_logloss: 0.287507\n",
      "[200]\ttr's binary_logloss: 0.274914\tvl's binary_logloss: 0.287601\n",
      "Early stopping, best iteration is:\n",
      "[152]\ttr's binary_logloss: 0.278558\tvl's binary_logloss: 0.287299\n"
     ]
    },
    {
     "name": "stderr",
     "output_type": "stream",
     "text": [
      "tune_num_leaves, val_score: 0.287299:  55%|#####5    | 11/20 [00:34<00:26,  2.92s/it]"
     ]
    },
    {
     "name": "stdout",
     "output_type": "stream",
     "text": [
      "Training until validation scores don't improve for 100 rounds\n",
      "[100]\ttr's binary_logloss: 0.299629\tvl's binary_logloss: 0.293259\n",
      "[200]\ttr's binary_logloss: 0.2968\tvl's binary_logloss: 0.290913\n",
      "[300]\ttr's binary_logloss: 0.295754\tvl's binary_logloss: 0.290176\n",
      "[400]\ttr's binary_logloss: 0.295205\tvl's binary_logloss: 0.289774\n",
      "[500]\ttr's binary_logloss: 0.294875\tvl's binary_logloss: 0.289591\n",
      "[600]\ttr's binary_logloss: 0.294644\tvl's binary_logloss: 0.289442\n",
      "[700]\ttr's binary_logloss: 0.294467\tvl's binary_logloss: 0.289364\n",
      "[800]\ttr's binary_logloss: 0.294329\tvl's binary_logloss: 0.289293\n",
      "[900]\ttr's binary_logloss: 0.294217\tvl's binary_logloss: 0.289241\n",
      "[1000]\ttr's binary_logloss: 0.294124\tvl's binary_logloss: 0.289207\n",
      "[1100]\ttr's binary_logloss: 0.294045\tvl's binary_logloss: 0.289183\n",
      "[1200]\ttr's binary_logloss: 0.293976\tvl's binary_logloss: 0.289151\n",
      "[1300]\ttr's binary_logloss: 0.293914\tvl's binary_logloss: 0.289142\n",
      "[1400]\ttr's binary_logloss: 0.293858\tvl's binary_logloss: 0.289129\n",
      "[1500]\ttr's binary_logloss: 0.293805\tvl's binary_logloss: 0.289128\n",
      "Early stopping, best iteration is:\n",
      "[1433]\ttr's binary_logloss: 0.29384\tvl's binary_logloss: 0.289121\n"
     ]
    },
    {
     "name": "stderr",
     "output_type": "stream",
     "text": [
      "tune_num_leaves, val_score: 0.287299:  60%|######    | 12/20 [00:42<00:35,  4.46s/it]"
     ]
    },
    {
     "name": "stdout",
     "output_type": "stream",
     "text": [
      "Training until validation scores don't improve for 100 rounds\n",
      "[100]\ttr's binary_logloss: 0.290475\tvl's binary_logloss: 0.28781\n",
      "[200]\ttr's binary_logloss: 0.287259\tvl's binary_logloss: 0.287503\n",
      "[300]\ttr's binary_logloss: 0.284778\tvl's binary_logloss: 0.287489\n",
      "Early stopping, best iteration is:\n",
      "[210]\ttr's binary_logloss: 0.287015\tvl's binary_logloss: 0.287427\n"
     ]
    },
    {
     "name": "stderr",
     "output_type": "stream",
     "text": [
      "tune_num_leaves, val_score: 0.287299:  65%|######5   | 13/20 [00:44<00:26,  3.81s/it]"
     ]
    },
    {
     "name": "stdout",
     "output_type": "stream",
     "text": [
      "Training until validation scores don't improve for 100 rounds\n",
      "[100]\ttr's binary_logloss: 0.291264\tvl's binary_logloss: 0.287942\n",
      "[200]\ttr's binary_logloss: 0.288346\tvl's binary_logloss: 0.2876\n",
      "[300]\ttr's binary_logloss: 0.286186\tvl's binary_logloss: 0.287638\n",
      "[400]\ttr's binary_logloss: 0.284335\tvl's binary_logloss: 0.287617\n",
      "Early stopping, best iteration is:\n",
      "[345]\ttr's binary_logloss: 0.285275\tvl's binary_logloss: 0.287415\n"
     ]
    },
    {
     "name": "stderr",
     "output_type": "stream",
     "text": [
      "tune_num_leaves, val_score: 0.287299:  70%|#######   | 14/20 [00:47<00:21,  3.57s/it]"
     ]
    },
    {
     "name": "stdout",
     "output_type": "stream",
     "text": [
      "Training until validation scores don't improve for 100 rounds\n",
      "[100]\ttr's binary_logloss: 0.275114\tvl's binary_logloss: 0.288043\n",
      "Early stopping, best iteration is:\n",
      "[87]\ttr's binary_logloss: 0.277079\tvl's binary_logloss: 0.287914\n"
     ]
    },
    {
     "name": "stderr",
     "output_type": "stream",
     "text": [
      "tune_num_leaves, val_score: 0.287299:  75%|#######5  | 15/20 [00:50<00:16,  3.33s/it]"
     ]
    },
    {
     "name": "stdout",
     "output_type": "stream",
     "text": [
      "Training until validation scores don't improve for 100 rounds\n",
      "[100]\ttr's binary_logloss: 0.278467\tvl's binary_logloss: 0.287777\n",
      "[200]\ttr's binary_logloss: 0.267755\tvl's binary_logloss: 0.288023\n",
      "Early stopping, best iteration is:\n",
      "[103]\ttr's binary_logloss: 0.278067\tvl's binary_logloss: 0.287607\n"
     ]
    },
    {
     "name": "stderr",
     "output_type": "stream",
     "text": [
      "tune_num_leaves, val_score: 0.287299:  80%|########  | 16/20 [00:52<00:12,  3.18s/it]"
     ]
    },
    {
     "name": "stdout",
     "output_type": "stream",
     "text": [
      "Training until validation scores don't improve for 100 rounds\n",
      "[100]\ttr's binary_logloss: 0.268241\tvl's binary_logloss: 0.288468\n",
      "Early stopping, best iteration is:\n",
      "[72]\ttr's binary_logloss: 0.274973\tvl's binary_logloss: 0.288296\n"
     ]
    },
    {
     "name": "stderr",
     "output_type": "stream",
     "text": [
      "tune_num_leaves, val_score: 0.287299:  85%|########5 | 17/20 [00:55<00:09,  3.12s/it]"
     ]
    },
    {
     "name": "stdout",
     "output_type": "stream",
     "text": [
      "Training until validation scores don't improve for 100 rounds\n",
      "[100]\ttr's binary_logloss: 0.299629\tvl's binary_logloss: 0.293259\n",
      "[200]\ttr's binary_logloss: 0.2968\tvl's binary_logloss: 0.290913\n",
      "[300]\ttr's binary_logloss: 0.295754\tvl's binary_logloss: 0.290176\n",
      "[400]\ttr's binary_logloss: 0.295205\tvl's binary_logloss: 0.289774\n",
      "[500]\ttr's binary_logloss: 0.294875\tvl's binary_logloss: 0.289591\n",
      "[600]\ttr's binary_logloss: 0.294644\tvl's binary_logloss: 0.289442\n",
      "[700]\ttr's binary_logloss: 0.294467\tvl's binary_logloss: 0.289364\n",
      "[800]\ttr's binary_logloss: 0.294329\tvl's binary_logloss: 0.289293\n",
      "[900]\ttr's binary_logloss: 0.294217\tvl's binary_logloss: 0.289241\n",
      "[1000]\ttr's binary_logloss: 0.294124\tvl's binary_logloss: 0.289207\n",
      "[1100]\ttr's binary_logloss: 0.294045\tvl's binary_logloss: 0.289183\n",
      "[1200]\ttr's binary_logloss: 0.293976\tvl's binary_logloss: 0.289151\n",
      "[1300]\ttr's binary_logloss: 0.293914\tvl's binary_logloss: 0.289142\n",
      "[1400]\ttr's binary_logloss: 0.293858\tvl's binary_logloss: 0.289129\n",
      "[1500]\ttr's binary_logloss: 0.293805\tvl's binary_logloss: 0.289128\n",
      "Early stopping, best iteration is:\n",
      "[1433]\ttr's binary_logloss: 0.29384\tvl's binary_logloss: 0.289121\n"
     ]
    },
    {
     "name": "stderr",
     "output_type": "stream",
     "text": [
      "tune_num_leaves, val_score: 0.287299:  90%|######### | 18/20 [01:04<00:09,  4.73s/it]"
     ]
    },
    {
     "name": "stdout",
     "output_type": "stream",
     "text": [
      "Training until validation scores don't improve for 100 rounds\n",
      "[100]\ttr's binary_logloss: 0.278105\tvl's binary_logloss: 0.28734\n",
      "[200]\ttr's binary_logloss: 0.267071\tvl's binary_logloss: 0.288283\n",
      "Early stopping, best iteration is:\n",
      "[107]\ttr's binary_logloss: 0.277276\tvl's binary_logloss: 0.28727\n"
     ]
    },
    {
     "name": "stderr",
     "output_type": "stream",
     "text": [
      "tune_num_leaves, val_score: 0.287270:  95%|#########5| 19/20 [01:07<00:04,  4.18s/it]"
     ]
    },
    {
     "name": "stdout",
     "output_type": "stream",
     "text": [
      "Training until validation scores don't improve for 100 rounds\n",
      "[100]\ttr's binary_logloss: 0.272757\tvl's binary_logloss: 0.288465\n",
      "Early stopping, best iteration is:\n",
      "[86]\ttr's binary_logloss: 0.275229\tvl's binary_logloss: 0.288226\n"
     ]
    },
    {
     "name": "stderr",
     "output_type": "stream",
     "text": [
      "tune_num_leaves, val_score: 0.287270: 100%|##########| 20/20 [01:10<00:00,  3.53s/it]\n",
      "tune_bagging_fraction_and_bagging_freq, val_score: 0.287270:   0%|          | 0/10 [00:00<?, ?it/s]"
     ]
    },
    {
     "name": "stdout",
     "output_type": "stream",
     "text": [
      "Training until validation scores don't improve for 100 rounds\n",
      "[100]\ttr's binary_logloss: 0.279847\tvl's binary_logloss: 0.288325\n",
      "[200]\ttr's binary_logloss: 0.268888\tvl's binary_logloss: 0.28947\n",
      "Early stopping, best iteration is:\n",
      "[105]\ttr's binary_logloss: 0.279237\tvl's binary_logloss: 0.288143\n"
     ]
    },
    {
     "name": "stderr",
     "output_type": "stream",
     "text": [
      "tune_bagging_fraction_and_bagging_freq, val_score: 0.287270:  10%|#         | 1/10 [00:03<00:27,  3.01s/it]"
     ]
    },
    {
     "name": "stdout",
     "output_type": "stream",
     "text": [
      "Training until validation scores don't improve for 100 rounds\n",
      "[100]\ttr's binary_logloss: 0.279434\tvl's binary_logloss: 0.287842\n",
      "[200]\ttr's binary_logloss: 0.268399\tvl's binary_logloss: 0.289049\n",
      "Early stopping, best iteration is:\n",
      "[107]\ttr's binary_logloss: 0.278643\tvl's binary_logloss: 0.287789\n"
     ]
    },
    {
     "name": "stderr",
     "output_type": "stream",
     "text": [
      "tune_bagging_fraction_and_bagging_freq, val_score: 0.287270:  20%|##        | 2/10 [00:06<00:23,  2.98s/it]"
     ]
    },
    {
     "name": "stdout",
     "output_type": "stream",
     "text": [
      "Training until validation scores don't improve for 100 rounds\n",
      "[100]\ttr's binary_logloss: 0.27827\tvl's binary_logloss: 0.287567\n",
      "[200]\ttr's binary_logloss: 0.266997\tvl's binary_logloss: 0.288483\n",
      "Early stopping, best iteration is:\n",
      "[101]\ttr's binary_logloss: 0.278127\tvl's binary_logloss: 0.287455\n"
     ]
    },
    {
     "name": "stderr",
     "output_type": "stream",
     "text": [
      "tune_bagging_fraction_and_bagging_freq, val_score: 0.287270:  30%|###       | 3/10 [00:09<00:21,  3.11s/it]"
     ]
    },
    {
     "name": "stdout",
     "output_type": "stream",
     "text": [
      "Training until validation scores don't improve for 100 rounds\n",
      "[100]\ttr's binary_logloss: 0.283115\tvl's binary_logloss: 0.287669\n",
      "[200]\ttr's binary_logloss: 0.274217\tvl's binary_logloss: 0.288526\n",
      "Early stopping, best iteration is:\n",
      "[110]\ttr's binary_logloss: 0.282128\tvl's binary_logloss: 0.287547\n"
     ]
    },
    {
     "name": "stderr",
     "output_type": "stream",
     "text": [
      "tune_bagging_fraction_and_bagging_freq, val_score: 0.287270:  40%|####      | 4/10 [00:12<00:18,  3.11s/it]"
     ]
    },
    {
     "name": "stdout",
     "output_type": "stream",
     "text": [
      "Training until validation scores don't improve for 100 rounds\n",
      "[100]\ttr's binary_logloss: 0.283558\tvl's binary_logloss: 0.288092\n",
      "[200]\ttr's binary_logloss: 0.275117\tvl's binary_logloss: 0.289409\n",
      "Early stopping, best iteration is:\n",
      "[102]\ttr's binary_logloss: 0.283366\tvl's binary_logloss: 0.288044\n"
     ]
    },
    {
     "name": "stderr",
     "output_type": "stream",
     "text": [
      "tune_bagging_fraction_and_bagging_freq, val_score: 0.287270:  50%|#####     | 5/10 [00:15<00:14,  2.92s/it]"
     ]
    },
    {
     "name": "stdout",
     "output_type": "stream",
     "text": [
      "Training until validation scores don't improve for 100 rounds\n",
      "[100]\ttr's binary_logloss: 0.282485\tvl's binary_logloss: 0.287641\n",
      "[200]\ttr's binary_logloss: 0.273473\tvl's binary_logloss: 0.288843\n",
      "Early stopping, best iteration is:\n",
      "[120]\ttr's binary_logloss: 0.28059\tvl's binary_logloss: 0.287234\n"
     ]
    },
    {
     "name": "stderr",
     "output_type": "stream",
     "text": [
      "tune_bagging_fraction_and_bagging_freq, val_score: 0.287234:  60%|######    | 6/10 [00:17<00:11,  2.94s/it]"
     ]
    },
    {
     "name": "stdout",
     "output_type": "stream",
     "text": [
      "Training until validation scores don't improve for 100 rounds\n",
      "[100]\ttr's binary_logloss: 0.280163\tvl's binary_logloss: 0.287647\n",
      "Early stopping, best iteration is:\n",
      "[85]\ttr's binary_logloss: 0.282032\tvl's binary_logloss: 0.287639\n"
     ]
    },
    {
     "name": "stderr",
     "output_type": "stream",
     "text": [
      "tune_bagging_fraction_and_bagging_freq, val_score: 0.287234:  70%|#######   | 7/10 [00:20<00:08,  2.88s/it]"
     ]
    },
    {
     "name": "stdout",
     "output_type": "stream",
     "text": [
      "Training until validation scores don't improve for 100 rounds\n",
      "[100]\ttr's binary_logloss: 0.280409\tvl's binary_logloss: 0.28806\n",
      "[200]\ttr's binary_logloss: 0.269883\tvl's binary_logloss: 0.288604\n",
      "Early stopping, best iteration is:\n",
      "[122]\ttr's binary_logloss: 0.277809\tvl's binary_logloss: 0.287849\n"
     ]
    },
    {
     "name": "stderr",
     "output_type": "stream",
     "text": [
      "tune_bagging_fraction_and_bagging_freq, val_score: 0.287234:  80%|########  | 8/10 [00:23<00:05,  2.96s/it]"
     ]
    },
    {
     "name": "stdout",
     "output_type": "stream",
     "text": [
      "Training until validation scores don't improve for 100 rounds\n",
      "[100]\ttr's binary_logloss: 0.279031\tvl's binary_logloss: 0.287659\n",
      "Early stopping, best iteration is:\n",
      "[97]\ttr's binary_logloss: 0.279366\tvl's binary_logloss: 0.287568\n"
     ]
    },
    {
     "name": "stderr",
     "output_type": "stream",
     "text": [
      "tune_bagging_fraction_and_bagging_freq, val_score: 0.287234:  90%|######### | 9/10 [00:26<00:02,  2.99s/it]"
     ]
    },
    {
     "name": "stdout",
     "output_type": "stream",
     "text": [
      "Training until validation scores don't improve for 100 rounds\n",
      "[100]\ttr's binary_logloss: 0.278408\tvl's binary_logloss: 0.288008\n",
      "[200]\ttr's binary_logloss: 0.266876\tvl's binary_logloss: 0.288492\n",
      "Early stopping, best iteration is:\n",
      "[129]\ttr's binary_logloss: 0.274709\tvl's binary_logloss: 0.2877\n"
     ]
    },
    {
     "name": "stderr",
     "output_type": "stream",
     "text": [
      "tune_bagging_fraction_and_bagging_freq, val_score: 0.287234: 100%|##########| 10/10 [00:30<00:00,  3.02s/it]\n",
      "tune_feature_fraction, val_score: 0.287234:   0%|          | 0/3 [00:00<?, ?it/s]"
     ]
    },
    {
     "name": "stdout",
     "output_type": "stream",
     "text": [
      "Training until validation scores don't improve for 100 rounds\n",
      "[100]\ttr's binary_logloss: 0.282324\tvl's binary_logloss: 0.288195\n",
      "[200]\ttr's binary_logloss: 0.272849\tvl's binary_logloss: 0.288703\n",
      "Early stopping, best iteration is:\n",
      "[152]\ttr's binary_logloss: 0.277274\tvl's binary_logloss: 0.287917\n"
     ]
    },
    {
     "name": "stderr",
     "output_type": "stream",
     "text": [
      "tune_feature_fraction, val_score: 0.287234:  33%|###3      | 1/3 [00:03<00:06,  3.23s/it]"
     ]
    },
    {
     "name": "stdout",
     "output_type": "stream",
     "text": [
      "Training until validation scores don't improve for 100 rounds\n",
      "[100]\ttr's binary_logloss: 0.282324\tvl's binary_logloss: 0.288195\n",
      "[200]\ttr's binary_logloss: 0.272849\tvl's binary_logloss: 0.288703\n",
      "Early stopping, best iteration is:\n",
      "[152]\ttr's binary_logloss: 0.277274\tvl's binary_logloss: 0.287917\n"
     ]
    },
    {
     "name": "stderr",
     "output_type": "stream",
     "text": [
      "tune_feature_fraction, val_score: 0.287234:  67%|######6   | 2/3 [00:06<00:03,  3.36s/it]"
     ]
    },
    {
     "name": "stdout",
     "output_type": "stream",
     "text": [
      "Training until validation scores don't improve for 100 rounds\n",
      "[100]\ttr's binary_logloss: 0.281644\tvl's binary_logloss: 0.288315\n",
      "[200]\ttr's binary_logloss: 0.272508\tvl's binary_logloss: 0.289171\n",
      "Early stopping, best iteration is:\n",
      "[109]\ttr's binary_logloss: 0.280782\tvl's binary_logloss: 0.28811\n"
     ]
    },
    {
     "name": "stderr",
     "output_type": "stream",
     "text": [
      "tune_feature_fraction, val_score: 0.287234: 100%|##########| 3/3 [00:09<00:00,  3.19s/it]\n",
      "tune_lambda_l1_and_lambda_l2, val_score: 0.287234:   0%|          | 0/20 [00:00<?, ?it/s]"
     ]
    },
    {
     "name": "stdout",
     "output_type": "stream",
     "text": [
      "Training until validation scores don't improve for 100 rounds\n",
      "[100]\ttr's binary_logloss: 0.282485\tvl's binary_logloss: 0.287641\n",
      "[200]\ttr's binary_logloss: 0.273473\tvl's binary_logloss: 0.288843\n",
      "Early stopping, best iteration is:\n",
      "[120]\ttr's binary_logloss: 0.28059\tvl's binary_logloss: 0.287234\n"
     ]
    },
    {
     "name": "stderr",
     "output_type": "stream",
     "text": [
      "tune_lambda_l1_and_lambda_l2, val_score: 0.287234:   5%|5         | 1/20 [00:02<00:54,  2.88s/it]"
     ]
    },
    {
     "name": "stdout",
     "output_type": "stream",
     "text": [
      "Training until validation scores don't improve for 100 rounds\n",
      "[100]\ttr's binary_logloss: 0.282485\tvl's binary_logloss: 0.287641\n",
      "[200]\ttr's binary_logloss: 0.273473\tvl's binary_logloss: 0.288843\n",
      "Early stopping, best iteration is:\n",
      "[120]\ttr's binary_logloss: 0.28059\tvl's binary_logloss: 0.287234\n"
     ]
    },
    {
     "name": "stderr",
     "output_type": "stream",
     "text": [
      "tune_lambda_l1_and_lambda_l2, val_score: 0.287234:  10%|#         | 2/20 [00:05<00:51,  2.85s/it]"
     ]
    },
    {
     "name": "stdout",
     "output_type": "stream",
     "text": [
      "Training until validation scores don't improve for 100 rounds\n",
      "[100]\ttr's binary_logloss: 0.282928\tvl's binary_logloss: 0.287946\n",
      "[200]\ttr's binary_logloss: 0.273955\tvl's binary_logloss: 0.288496\n",
      "Early stopping, best iteration is:\n",
      "[117]\ttr's binary_logloss: 0.281139\tvl's binary_logloss: 0.287439\n"
     ]
    },
    {
     "name": "stderr",
     "output_type": "stream",
     "text": [
      "tune_lambda_l1_and_lambda_l2, val_score: 0.287234:  15%|#5        | 3/20 [00:08<00:48,  2.83s/it]"
     ]
    },
    {
     "name": "stdout",
     "output_type": "stream",
     "text": [
      "Training until validation scores don't improve for 100 rounds\n",
      "[100]\ttr's binary_logloss: 0.282485\tvl's binary_logloss: 0.287641\n",
      "[200]\ttr's binary_logloss: 0.273473\tvl's binary_logloss: 0.288843\n",
      "Early stopping, best iteration is:\n",
      "[120]\ttr's binary_logloss: 0.28059\tvl's binary_logloss: 0.287234\n"
     ]
    },
    {
     "name": "stderr",
     "output_type": "stream",
     "text": [
      "tune_lambda_l1_and_lambda_l2, val_score: 0.287234:  20%|##        | 4/20 [00:11<00:43,  2.74s/it]"
     ]
    },
    {
     "name": "stdout",
     "output_type": "stream",
     "text": [
      "Training until validation scores don't improve for 100 rounds\n",
      "[100]\ttr's binary_logloss: 0.282485\tvl's binary_logloss: 0.287641\n",
      "[200]\ttr's binary_logloss: 0.273473\tvl's binary_logloss: 0.288843\n",
      "Early stopping, best iteration is:\n",
      "[120]\ttr's binary_logloss: 0.28059\tvl's binary_logloss: 0.287234\n"
     ]
    },
    {
     "name": "stderr",
     "output_type": "stream",
     "text": [
      "tune_lambda_l1_and_lambda_l2, val_score: 0.287234:  25%|##5       | 5/20 [00:13<00:40,  2.72s/it]"
     ]
    },
    {
     "name": "stdout",
     "output_type": "stream",
     "text": [
      "Training until validation scores don't improve for 100 rounds\n",
      "[100]\ttr's binary_logloss: 0.284401\tvl's binary_logloss: 0.28789\n",
      "[200]\ttr's binary_logloss: 0.276358\tvl's binary_logloss: 0.288526\n",
      "Early stopping, best iteration is:\n",
      "[150]\ttr's binary_logloss: 0.280191\tvl's binary_logloss: 0.287648\n"
     ]
    },
    {
     "name": "stderr",
     "output_type": "stream",
     "text": [
      "tune_lambda_l1_and_lambda_l2, val_score: 0.287234:  30%|###       | 6/20 [00:16<00:39,  2.79s/it]"
     ]
    },
    {
     "name": "stdout",
     "output_type": "stream",
     "text": [
      "Training until validation scores don't improve for 100 rounds\n",
      "[100]\ttr's binary_logloss: 0.282485\tvl's binary_logloss: 0.287641\n",
      "[200]\ttr's binary_logloss: 0.273473\tvl's binary_logloss: 0.288843\n",
      "Early stopping, best iteration is:\n",
      "[120]\ttr's binary_logloss: 0.28059\tvl's binary_logloss: 0.287234\n"
     ]
    },
    {
     "name": "stderr",
     "output_type": "stream",
     "text": [
      "tune_lambda_l1_and_lambda_l2, val_score: 0.287234:  35%|###5      | 7/20 [00:19<00:36,  2.82s/it]"
     ]
    },
    {
     "name": "stdout",
     "output_type": "stream",
     "text": [
      "Training until validation scores don't improve for 100 rounds\n",
      "[100]\ttr's binary_logloss: 0.282485\tvl's binary_logloss: 0.287641\n",
      "[200]\ttr's binary_logloss: 0.273473\tvl's binary_logloss: 0.288843\n",
      "Early stopping, best iteration is:\n",
      "[120]\ttr's binary_logloss: 0.28059\tvl's binary_logloss: 0.287234\n"
     ]
    },
    {
     "name": "stderr",
     "output_type": "stream",
     "text": [
      "tune_lambda_l1_and_lambda_l2, val_score: 0.287234:  40%|####      | 8/20 [00:22<00:33,  2.82s/it]"
     ]
    },
    {
     "name": "stdout",
     "output_type": "stream",
     "text": [
      "Training until validation scores don't improve for 100 rounds\n",
      "[100]\ttr's binary_logloss: 0.28462\tvl's binary_logloss: 0.28805\n",
      "[200]\ttr's binary_logloss: 0.276385\tvl's binary_logloss: 0.288512\n",
      "Early stopping, best iteration is:\n",
      "[152]\ttr's binary_logloss: 0.280184\tvl's binary_logloss: 0.287797\n"
     ]
    },
    {
     "name": "stderr",
     "output_type": "stream",
     "text": [
      "tune_lambda_l1_and_lambda_l2, val_score: 0.287234:  45%|####5     | 9/20 [00:25<00:31,  2.91s/it]"
     ]
    },
    {
     "name": "stdout",
     "output_type": "stream",
     "text": [
      "Training until validation scores don't improve for 100 rounds\n",
      "[100]\ttr's binary_logloss: 0.282416\tvl's binary_logloss: 0.288024\n",
      "Early stopping, best iteration is:\n",
      "[93]\ttr's binary_logloss: 0.283137\tvl's binary_logloss: 0.287842\n"
     ]
    },
    {
     "name": "stderr",
     "output_type": "stream",
     "text": [
      "tune_lambda_l1_and_lambda_l2, val_score: 0.287234:  50%|#####     | 10/20 [00:28<00:28,  2.87s/it]"
     ]
    },
    {
     "name": "stdout",
     "output_type": "stream",
     "text": [
      "Training until validation scores don't improve for 100 rounds\n",
      "[100]\ttr's binary_logloss: 0.28261\tvl's binary_logloss: 0.287712\n",
      "[200]\ttr's binary_logloss: 0.273291\tvl's binary_logloss: 0.288514\n",
      "Early stopping, best iteration is:\n",
      "[114]\ttr's binary_logloss: 0.281186\tvl's binary_logloss: 0.287307\n"
     ]
    },
    {
     "name": "stderr",
     "output_type": "stream",
     "text": [
      "tune_lambda_l1_and_lambda_l2, val_score: 0.287234:  55%|#####5    | 11/20 [00:30<00:25,  2.79s/it]"
     ]
    },
    {
     "name": "stdout",
     "output_type": "stream",
     "text": [
      "Training until validation scores don't improve for 100 rounds\n",
      "[100]\ttr's binary_logloss: 0.282485\tvl's binary_logloss: 0.287641\n",
      "[200]\ttr's binary_logloss: 0.273473\tvl's binary_logloss: 0.288843\n",
      "Early stopping, best iteration is:\n",
      "[120]\ttr's binary_logloss: 0.28059\tvl's binary_logloss: 0.287234\n"
     ]
    },
    {
     "name": "stderr",
     "output_type": "stream",
     "text": [
      "tune_lambda_l1_and_lambda_l2, val_score: 0.287234:  60%|######    | 12/20 [00:33<00:22,  2.79s/it]"
     ]
    },
    {
     "name": "stdout",
     "output_type": "stream",
     "text": [
      "Training until validation scores don't improve for 100 rounds\n",
      "[100]\ttr's binary_logloss: 0.282485\tvl's binary_logloss: 0.287641\n",
      "[200]\ttr's binary_logloss: 0.273473\tvl's binary_logloss: 0.288843\n",
      "Early stopping, best iteration is:\n",
      "[120]\ttr's binary_logloss: 0.28059\tvl's binary_logloss: 0.287234\n"
     ]
    },
    {
     "name": "stderr",
     "output_type": "stream",
     "text": [
      "tune_lambda_l1_and_lambda_l2, val_score: 0.287234:  65%|######5   | 13/20 [00:36<00:19,  2.79s/it]"
     ]
    },
    {
     "name": "stdout",
     "output_type": "stream",
     "text": [
      "Training until validation scores don't improve for 100 rounds\n",
      "[100]\ttr's binary_logloss: 0.282572\tvl's binary_logloss: 0.287745\n",
      "[200]\ttr's binary_logloss: 0.2733\tvl's binary_logloss: 0.289203\n",
      "Early stopping, best iteration is:\n",
      "[113]\ttr's binary_logloss: 0.281236\tvl's binary_logloss: 0.287701\n"
     ]
    },
    {
     "name": "stderr",
     "output_type": "stream",
     "text": [
      "tune_lambda_l1_and_lambda_l2, val_score: 0.287234:  70%|#######   | 14/20 [00:39<00:17,  2.83s/it]"
     ]
    },
    {
     "name": "stdout",
     "output_type": "stream",
     "text": [
      "Training until validation scores don't improve for 100 rounds\n",
      "[100]\ttr's binary_logloss: 0.282527\tvl's binary_logloss: 0.287711\n",
      "[200]\ttr's binary_logloss: 0.273419\tvl's binary_logloss: 0.288528\n",
      "Early stopping, best iteration is:\n",
      "[122]\ttr's binary_logloss: 0.280308\tvl's binary_logloss: 0.287528\n"
     ]
    },
    {
     "name": "stderr",
     "output_type": "stream",
     "text": [
      "tune_lambda_l1_and_lambda_l2, val_score: 0.287234:  75%|#######5  | 15/20 [00:42<00:13,  2.76s/it]"
     ]
    },
    {
     "name": "stdout",
     "output_type": "stream",
     "text": [
      "Training until validation scores don't improve for 100 rounds\n",
      "[100]\ttr's binary_logloss: 0.282485\tvl's binary_logloss: 0.287641\n",
      "[200]\ttr's binary_logloss: 0.273473\tvl's binary_logloss: 0.288842\n",
      "Early stopping, best iteration is:\n",
      "[120]\ttr's binary_logloss: 0.28059\tvl's binary_logloss: 0.287234\n"
     ]
    },
    {
     "name": "stderr",
     "output_type": "stream",
     "text": [
      "tune_lambda_l1_and_lambda_l2, val_score: 0.287234:  80%|########  | 16/20 [00:44<00:10,  2.72s/it]"
     ]
    },
    {
     "name": "stdout",
     "output_type": "stream",
     "text": [
      "Training until validation scores don't improve for 100 rounds\n",
      "[100]\ttr's binary_logloss: 0.282486\tvl's binary_logloss: 0.287641\n",
      "[200]\ttr's binary_logloss: 0.273539\tvl's binary_logloss: 0.288521\n",
      "Early stopping, best iteration is:\n",
      "[120]\ttr's binary_logloss: 0.28059\tvl's binary_logloss: 0.287234\n"
     ]
    },
    {
     "name": "stderr",
     "output_type": "stream",
     "text": [
      "tune_lambda_l1_and_lambda_l2, val_score: 0.287234:  85%|########5 | 17/20 [00:47<00:08,  2.74s/it]"
     ]
    },
    {
     "name": "stdout",
     "output_type": "stream",
     "text": [
      "Training until validation scores don't improve for 100 rounds\n",
      "[100]\ttr's binary_logloss: 0.282528\tvl's binary_logloss: 0.287711\n",
      "[200]\ttr's binary_logloss: 0.273376\tvl's binary_logloss: 0.288615\n",
      "Early stopping, best iteration is:\n",
      "[150]\ttr's binary_logloss: 0.277706\tvl's binary_logloss: 0.287479\n"
     ]
    },
    {
     "name": "stderr",
     "output_type": "stream",
     "text": [
      "tune_lambda_l1_and_lambda_l2, val_score: 0.287234:  90%|######### | 18/20 [00:50<00:05,  2.91s/it]"
     ]
    },
    {
     "name": "stdout",
     "output_type": "stream",
     "text": [
      "Training until validation scores don't improve for 100 rounds\n",
      "[100]\ttr's binary_logloss: 0.282486\tvl's binary_logloss: 0.287641\n",
      "[200]\ttr's binary_logloss: 0.273539\tvl's binary_logloss: 0.288521\n",
      "Early stopping, best iteration is:\n",
      "[120]\ttr's binary_logloss: 0.280591\tvl's binary_logloss: 0.287234\n"
     ]
    },
    {
     "name": "stderr",
     "output_type": "stream",
     "text": [
      "tune_lambda_l1_and_lambda_l2, val_score: 0.287234:  95%|#########5| 19/20 [00:53<00:02,  2.88s/it]"
     ]
    },
    {
     "name": "stdout",
     "output_type": "stream",
     "text": [
      "Training until validation scores don't improve for 100 rounds\n",
      "[100]\ttr's binary_logloss: 0.282486\tvl's binary_logloss: 0.287641\n",
      "[200]\ttr's binary_logloss: 0.27354\tvl's binary_logloss: 0.288521\n",
      "Early stopping, best iteration is:\n",
      "[120]\ttr's binary_logloss: 0.280591\tvl's binary_logloss: 0.287234\n"
     ]
    },
    {
     "name": "stderr",
     "output_type": "stream",
     "text": [
      "tune_lambda_l1_and_lambda_l2, val_score: 0.287234: 100%|##########| 20/20 [00:56<00:00,  2.81s/it]\n",
      "tune_min_child_samples, val_score: 0.287234:   0%|          | 0/5 [00:00<?, ?it/s]"
     ]
    },
    {
     "name": "stdout",
     "output_type": "stream",
     "text": [
      "Training until validation scores don't improve for 100 rounds\n",
      "[100]\ttr's binary_logloss: 0.282486\tvl's binary_logloss: 0.287641\n",
      "[200]\ttr's binary_logloss: 0.27354\tvl's binary_logloss: 0.288521\n",
      "Early stopping, best iteration is:\n",
      "[120]\ttr's binary_logloss: 0.280591\tvl's binary_logloss: 0.287234\n"
     ]
    },
    {
     "name": "stderr",
     "output_type": "stream",
     "text": [
      "tune_min_child_samples, val_score: 0.287234:  20%|##        | 1/5 [00:02<00:10,  2.63s/it]"
     ]
    },
    {
     "name": "stdout",
     "output_type": "stream",
     "text": [
      "Training until validation scores don't improve for 100 rounds\n",
      "[100]\ttr's binary_logloss: 0.282486\tvl's binary_logloss: 0.287641\n",
      "[200]\ttr's binary_logloss: 0.27354\tvl's binary_logloss: 0.288521\n",
      "Early stopping, best iteration is:\n",
      "[120]\ttr's binary_logloss: 0.280591\tvl's binary_logloss: 0.287234\n"
     ]
    },
    {
     "name": "stderr",
     "output_type": "stream",
     "text": [
      "tune_min_child_samples, val_score: 0.287234:  40%|####      | 2/5 [00:05<00:07,  2.66s/it]"
     ]
    },
    {
     "name": "stdout",
     "output_type": "stream",
     "text": [
      "Training until validation scores don't improve for 100 rounds\n",
      "[100]\ttr's binary_logloss: 0.282486\tvl's binary_logloss: 0.287641\n",
      "[200]\ttr's binary_logloss: 0.27354\tvl's binary_logloss: 0.288521\n",
      "Early stopping, best iteration is:\n",
      "[120]\ttr's binary_logloss: 0.280591\tvl's binary_logloss: 0.287234\n"
     ]
    },
    {
     "name": "stderr",
     "output_type": "stream",
     "text": [
      "tune_min_child_samples, val_score: 0.287234:  60%|######    | 3/5 [00:08<00:05,  2.67s/it]"
     ]
    },
    {
     "name": "stdout",
     "output_type": "stream",
     "text": [
      "Training until validation scores don't improve for 100 rounds\n",
      "[100]\ttr's binary_logloss: 0.282486\tvl's binary_logloss: 0.287641\n",
      "[200]\ttr's binary_logloss: 0.27354\tvl's binary_logloss: 0.288521\n",
      "Early stopping, best iteration is:\n",
      "[120]\ttr's binary_logloss: 0.280591\tvl's binary_logloss: 0.287234\n"
     ]
    },
    {
     "name": "stderr",
     "output_type": "stream",
     "text": [
      "tune_min_child_samples, val_score: 0.287234:  80%|########  | 4/5 [00:10<00:02,  2.65s/it]"
     ]
    },
    {
     "name": "stdout",
     "output_type": "stream",
     "text": [
      "Training until validation scores don't improve for 100 rounds\n",
      "[100]\ttr's binary_logloss: 0.282486\tvl's binary_logloss: 0.287641\n",
      "[200]\ttr's binary_logloss: 0.27354\tvl's binary_logloss: 0.288521\n",
      "Early stopping, best iteration is:\n",
      "[120]\ttr's binary_logloss: 0.280591\tvl's binary_logloss: 0.287234\n"
     ]
    },
    {
     "name": "stderr",
     "output_type": "stream",
     "text": [
      "tune_min_child_samples, val_score: 0.287234: 100%|##########| 5/5 [00:13<00:00,  2.78s/it]\n"
     ]
    },
    {
     "name": "stdout",
     "output_type": "stream",
     "text": [
      "CPU times: user 14min 31s, sys: 34min 11s, total: 48min 43s\n",
      "Wall time: 3min 19s\n"
     ]
    }
   ],
   "source": [
    "%%time\n",
    "dtr = lgb.Dataset(dftr[cols_feat], label=dftr[TCOL])\n",
    "dvl = lgb.Dataset(dfvl[cols_feat], label=dfvl[TCOL])\n",
    "best_params, tuning_history = {}, []\n",
    "evalres = {}\n",
    "evallist = [(dtr, 'train'), (dvl, 'eval')]\n",
    "bst = lgb.train(params=params, \n",
    "                train_set=dtr, \n",
    "                num_boost_round=50000,\n",
    "                valid_sets=[dtr, dvl],\n",
    "                valid_names=['tr','vl'],\n",
    "                best_params=best_params,\n",
    "                tuning_history=tuning_history,\n",
    "                verbose_eval=100,\n",
    "                early_stopping_rounds=100,\n",
    "                evals_result=evalres,\n",
    "               )\n",
    "results['bst'] = bst\n",
    "results['evalres'] = evalres\n",
    "results['best_params']=best_params\n",
    "results['tuning_history']=tuning_history"
   ]
  },
  {
   "cell_type": "code",
   "execution_count": 21,
   "metadata": {},
   "outputs": [
    {
     "data": {
      "text/plain": [
       "{'lambda_l1': 0.0024343644543083354,\n",
       " 'lambda_l2': 1.3426218576275244e-06,\n",
       " 'num_leaves': 32,\n",
       " 'feature_fraction': 0.4,\n",
       " 'bagging_fraction': 0.4732151920183133,\n",
       " 'bagging_freq': 6,\n",
       " 'min_child_samples': 20}"
      ]
     },
     "execution_count": 21,
     "metadata": {},
     "output_type": "execute_result"
    }
   ],
   "source": [
    "best_params"
   ]
  },
  {
   "cell_type": "markdown",
   "metadata": {},
   "source": [
    "## tr vl trajec"
   ]
  },
  {
   "cell_type": "code",
   "execution_count": 22,
   "metadata": {
    "scrolled": true
   },
   "outputs": [
    {
     "data": {
      "image/png": "[encoded data removed]",
      "text/plain": [
       "<Figure size 432x288 with 1 Axes>"
      ]
     },
     "metadata": {
      "needs_background": "light"
     },
     "output_type": "display_data"
    }
   ],
   "source": [
    "plt.plot(evalres['tr']['binary_logloss'])\n",
    "plt.plot(evalres['vl']['binary_logloss'])\n",
    "plt.title(f\"logloss; best_iteration {bst.best_iteration}\")\n",
    "plt.show()"
   ]
  },
  {
   "cell_type": "markdown",
   "metadata": {},
   "source": [
    "## model features"
   ]
  },
  {
   "cell_type": "code",
   "execution_count": 23,
   "metadata": {},
   "outputs": [
    {
     "data": {
      "image/png": "[encoded data removed]",
      "text/plain": [
       "<Figure size 720x1080 with 1 Axes>"
      ]
     },
     "metadata": {
      "needs_background": "light"
     },
     "output_type": "display_data"
    }
   ],
   "source": [
    "ax = lgb.plot_importance(bst, height=0.8, max_num_features=50, figsize=(10,15))\n",
    "ax.grid(False, axis=\"y\")\n",
    "ax.set_title(f'Estimated feature importance')\n",
    "plt.show()"
   ]
  },
  {
   "cell_type": "code",
   "execution_count": 24,
   "metadata": {
    "scrolled": false
   },
   "outputs": [
    {
     "data": {
      "text/html": [
       "<div>\n",
       "<style scoped>\n",
       "    .dataframe tbody tr th:only-of-type {\n",
       "        vertical-align: middle;\n",
       "    }\n",
       "\n",
       "    .dataframe tbody tr th {\n",
       "        vertical-align: top;\n",
       "    }\n",
       "\n",
       "    .dataframe thead th {\n",
       "        text-align: right;\n",
       "    }\n",
       "</style>\n",
       "<table border=\"1\" class=\"dataframe\">\n",
       "  <thead>\n",
       "    <tr style=\"text-align: right;\">\n",
       "      <th></th>\n",
       "      <th>0</th>\n",
       "      <th>1</th>\n",
       "    </tr>\n",
       "  </thead>\n",
       "  <tbody>\n",
       "    <tr>\n",
       "      <th>4</th>\n",
       "      <td>u2_fllwer_cnt</td>\n",
       "      <td>298</td>\n",
       "    </tr>\n",
       "    <tr>\n",
       "      <th>25</th>\n",
       "      <td>u1_fllwer_cnt_by_age</td>\n",
       "      <td>285</td>\n",
       "    </tr>\n",
       "    <tr>\n",
       "      <th>2</th>\n",
       "      <td>u1_fllwing_cnt</td>\n",
       "      <td>269</td>\n",
       "    </tr>\n",
       "    <tr>\n",
       "      <th>21</th>\n",
       "      <td>tmdlta_twtu2</td>\n",
       "      <td>265</td>\n",
       "    </tr>\n",
       "    <tr>\n",
       "      <th>1</th>\n",
       "      <td>u1_fllwer_cnt</td>\n",
       "      <td>259</td>\n",
       "    </tr>\n",
       "    <tr>\n",
       "      <th>10</th>\n",
       "      <td>len_toks</td>\n",
       "      <td>249</td>\n",
       "    </tr>\n",
       "    <tr>\n",
       "      <th>22</th>\n",
       "      <td>twt_age</td>\n",
       "      <td>241</td>\n",
       "    </tr>\n",
       "    <tr>\n",
       "      <th>5</th>\n",
       "      <td>u2_fllwng_cnt</td>\n",
       "      <td>233</td>\n",
       "    </tr>\n",
       "    <tr>\n",
       "      <th>26</th>\n",
       "      <td>u1_fllwng_cnt_by_age</td>\n",
       "      <td>228</td>\n",
       "    </tr>\n",
       "    <tr>\n",
       "      <th>20</th>\n",
       "      <td>tmdlta_twtu1</td>\n",
       "      <td>176</td>\n",
       "    </tr>\n",
       "    <tr>\n",
       "      <th>24</th>\n",
       "      <td>u2_age</td>\n",
       "      <td>175</td>\n",
       "    </tr>\n",
       "    <tr>\n",
       "      <th>19</th>\n",
       "      <td>tmdlta_u2u1</td>\n",
       "      <td>173</td>\n",
       "    </tr>\n",
       "    <tr>\n",
       "      <th>23</th>\n",
       "      <td>u1_age</td>\n",
       "      <td>165</td>\n",
       "    </tr>\n",
       "    <tr>\n",
       "      <th>18</th>\n",
       "      <td>hour</td>\n",
       "      <td>157</td>\n",
       "    </tr>\n",
       "    <tr>\n",
       "      <th>17</th>\n",
       "      <td>dayofweek</td>\n",
       "      <td>65</td>\n",
       "    </tr>\n",
       "    <tr>\n",
       "      <th>0</th>\n",
       "      <td>twttyp</td>\n",
       "      <td>58</td>\n",
       "    </tr>\n",
       "    <tr>\n",
       "      <th>15</th>\n",
       "      <td>n_media</td>\n",
       "      <td>48</td>\n",
       "    </tr>\n",
       "    <tr>\n",
       "      <th>14</th>\n",
       "      <td>n_hshtgs</td>\n",
       "      <td>44</td>\n",
       "    </tr>\n",
       "    <tr>\n",
       "      <th>11</th>\n",
       "      <td>n_media_Photo</td>\n",
       "      <td>40</td>\n",
       "    </tr>\n",
       "    <tr>\n",
       "      <th>7</th>\n",
       "      <td>u1_fllw_u2</td>\n",
       "      <td>40</td>\n",
       "    </tr>\n",
       "    <tr>\n",
       "      <th>3</th>\n",
       "      <td>u1_vrfed</td>\n",
       "      <td>28</td>\n",
       "    </tr>\n",
       "    <tr>\n",
       "      <th>16</th>\n",
       "      <td>n_domns</td>\n",
       "      <td>27</td>\n",
       "    </tr>\n",
       "    <tr>\n",
       "      <th>12</th>\n",
       "      <td>n_media_Video</td>\n",
       "      <td>12</td>\n",
       "    </tr>\n",
       "    <tr>\n",
       "      <th>9</th>\n",
       "      <td>u2inu1</td>\n",
       "      <td>0</td>\n",
       "    </tr>\n",
       "    <tr>\n",
       "      <th>8</th>\n",
       "      <td>u1inu2</td>\n",
       "      <td>0</td>\n",
       "    </tr>\n",
       "    <tr>\n",
       "      <th>6</th>\n",
       "      <td>u2_vrfed</td>\n",
       "      <td>0</td>\n",
       "    </tr>\n",
       "    <tr>\n",
       "      <th>13</th>\n",
       "      <td>n_media_GIF</td>\n",
       "      <td>0</td>\n",
       "    </tr>\n",
       "  </tbody>\n",
       "</table>\n",
       "</div>"
      ],
      "text/plain": [
       "                       0    1\n",
       "4          u2_fllwer_cnt  298\n",
       "25  u1_fllwer_cnt_by_age  285\n",
       "2         u1_fllwing_cnt  269\n",
       "21          tmdlta_twtu2  265\n",
       "1          u1_fllwer_cnt  259\n",
       "10              len_toks  249\n",
       "22               twt_age  241\n",
       "5          u2_fllwng_cnt  233\n",
       "26  u1_fllwng_cnt_by_age  228\n",
       "20          tmdlta_twtu1  176\n",
       "24                u2_age  175\n",
       "19           tmdlta_u2u1  173\n",
       "23                u1_age  165\n",
       "18                  hour  157\n",
       "17             dayofweek   65\n",
       "0                 twttyp   58\n",
       "15               n_media   48\n",
       "14              n_hshtgs   44\n",
       "11         n_media_Photo   40\n",
       "7             u1_fllw_u2   40\n",
       "3               u1_vrfed   28\n",
       "16               n_domns   27\n",
       "12         n_media_Video   12\n",
       "9                 u2inu1    0\n",
       "8                 u1inu2    0\n",
       "6               u2_vrfed    0\n",
       "13           n_media_GIF    0"
      ]
     },
     "execution_count": 24,
     "metadata": {},
     "output_type": "execute_result"
    }
   ],
   "source": [
    "pd.DataFrame([bst.feature_name(), bst.feature_importance()]).T.sort_values(1, ascending=False)"
   ]
  },
  {
   "cell_type": "markdown",
   "metadata": {},
   "source": [
    "# eval"
   ]
  },
  {
   "cell_type": "code",
   "execution_count": 25,
   "metadata": {},
   "outputs": [
    {
     "name": "stdout",
     "output_type": "stream",
     "text": [
      "CPU times: user 5.38 s, sys: 5.09 s, total: 10.5 s\n",
      "Wall time: 884 ms\n"
     ]
    }
   ],
   "source": [
    "%%time\n",
    "prdtr = bst.predict(dftr[cols_feat],num_iteration=bst.best_iteration)\n",
    "prdvl = bst.predict(dfvl[cols_feat],num_iteration=bst.best_iteration)\n",
    "prdval0 = bst.predict(dfval[cols_feat],num_iteration=bst.best_iteration)\n",
    "prdval = calibration(prdval0, train_pop, target_pop, sampled_train_pop, sampled_target_pop)"
   ]
  },
  {
   "cell_type": "code",
   "execution_count": 26,
   "metadata": {},
   "outputs": [
    {
     "name": "stdout",
     "output_type": "stream",
     "text": [
      "CPU times: user 793 ms, sys: 1.09 s, total: 1.88 s\n",
      "Wall time: 621 ms\n"
     ]
    }
   ],
   "source": [
    "%%time\n",
    "ytr,yvl,yval=[df[TCOL].values for df in (dftr,dfvl,dfval)]\n",
    "\n",
    "auc_tr=compute_prauc(prdtr, ytr)\n",
    "rce_tr=compute_rce(prdtr, ytr)\n",
    "auc_vl=compute_prauc(prdvl, yvl)\n",
    "rce_vl=compute_rce(prdvl, yvl)\n",
    "auc_val=compute_prauc(prdval, yval)\n",
    "rce_val=compute_rce(prdval, yval)\n",
    "\n",
    "results['scrs'] = {}\n",
    "results['scrs']['auc_tr']=auc_tr\n",
    "results['scrs']['rce_tr']=rce_tr\n",
    "results['scrs']['auc_vl']=auc_vl\n",
    "results['scrs']['rce_vl']=rce_vl\n",
    "results['scrs']['auc_val']=auc_val\n",
    "results['scrs']['rce_val']=rce_val"
   ]
  },
  {
   "cell_type": "code",
   "execution_count": 27,
   "metadata": {},
   "outputs": [
    {
     "name": "stdout",
     "output_type": "stream",
     "text": [
      "auc_tr:  0.3175\n",
      "auc_vl:  0.2605\n",
      "auc_val: 0.0806\n",
      "\n",
      "rce_tr:  16.1625\n",
      "rce_vl:  13.1038\n",
      "rce_val: 9.4076\n"
     ]
    }
   ],
   "source": [
    "print(f'auc_tr:  {auc_tr:.4f}')\n",
    "print(f'auc_vl:  {auc_vl:.4f}')\n",
    "print(f'auc_val: {auc_val:.4f}')\n",
    "print()\n",
    "print(f'rce_tr:  {rce_tr:.4f}')\n",
    "print(f'rce_vl:  {rce_vl:.4f}')\n",
    "print(f'rce_val: {rce_val:.4f}')"
   ]
  },
  {
   "cell_type": "code",
   "execution_count": 28,
   "metadata": {},
   "outputs": [
    {
     "name": "stdout",
     "output_type": "stream",
     "text": [
      "-0.0806-9.4076\n"
     ]
    }
   ],
   "source": [
    "print(f'-{auc_val:.4f}-{rce_val:.4f}')"
   ]
  },
  {
   "cell_type": "markdown",
   "metadata": {},
   "source": [
    "# save results"
   ]
  },
  {
   "cell_type": "code",
   "execution_count": 29,
   "metadata": {},
   "outputs": [],
   "source": [
    "pickle.dump(results, open(f'{p_out}/results_{PRFX}.p', 'wb'))"
   ]
  },
  {
   "cell_type": "markdown",
   "metadata": {},
   "source": [
    "# infer"
   ]
  },
  {
   "cell_type": "code",
   "execution_count": 30,
   "metadata": {},
   "outputs": [],
   "source": [
    "results = pickle.load( open(f'{p_out}/results_{PRFX}.p', 'rb'))\n",
    "bst = results['bst']\n",
    "col2tgtenc = results['col2tgtenc']\n",
    "cols_feat = results['cols_feat']\n",
    "tgt_encoder = results['tgt_encoder']"
   ]
  },
  {
   "cell_type": "markdown",
   "metadata": {},
   "source": [
    "## prep"
   ]
  },
  {
   "cell_type": "code",
   "execution_count": 31,
   "metadata": {},
   "outputs": [
    {
     "name": "stdout",
     "output_type": "stream",
     "text": [
      "CPU times: user 24.7 ms, sys: 144 ms, total: 169 ms\n",
      "Wall time: 11.4 ms\n"
     ]
    }
   ],
   "source": [
    "%%time\n",
    "dftst=pd.read_csv(\n",
    "    f'{p_in}/val_{tsttmstmp}.tsv',\n",
    "    sep='\\x01', header=None, names=cols_val, \n",
    "    nrows=10\n",
    ")"
   ]
  },
  {
   "cell_type": "code",
   "execution_count": 32,
   "metadata": {
    "scrolled": true
   },
   "outputs": [
    {
     "name": "stdout",
     "output_type": "stream",
     "text": [
      "2020-04-10 21:02:22 start\n",
      "2020-04-10 21:02:22 freq of columns using CountEncoder\n"
     ]
    },
    {
     "name": "stderr",
     "output_type": "stream",
     "text": [
      "/data/anaconda3/envs/rcss20/lib/python3.7/site-packages/category_encoders/count.py:255: FutureWarning: The pandas.np module is deprecated and will be removed from pandas in a future version. Import numpy directly instead\n",
      "  X.loc[:, self.cols] = X.fillna(value=pd.np.nan)\n"
     ]
    },
    {
     "name": "stdout",
     "output_type": "stream",
     "text": [
      "2020-04-10 21:02:22 freq of tags\n",
      "2020-04-10 21:02:22 done\n",
      "CPU times: user 322 ms, sys: 940 ms, total: 1.26 s\n",
      "Wall time: 159 ms\n"
     ]
    }
   ],
   "source": [
    "%%time\n",
    "dftst=prp_df(dftst, tm_max=tm_tst_max)"
   ]
  },
  {
   "cell_type": "code",
   "execution_count": 33,
   "metadata": {},
   "outputs": [],
   "source": [
    "encoded_tst = tgt_encoder.transform(dftst[col2tgtenc].astype(object))\n",
    "tgtenc_columns = [f'tgtenc_{col}' for col in encoded_tst.columns]\n",
    "encoded_tst.columns = tgtenc_columns\n",
    "dftst = pd.concat([dftst, encoded_tst], 1)\n",
    "dftst.drop(columns=['u1id','u1u2'], inplace=True)\n",
    "cols_category=['twttyp', 'lang', 'langhour']\n",
    "dftst[cols_category]=dftst[cols_category].astype('category')"
   ]
  },
  {
   "cell_type": "markdown",
   "metadata": {},
   "source": [
    "## predict"
   ]
  },
  {
   "cell_type": "code",
   "execution_count": 34,
   "metadata": {},
   "outputs": [
    {
     "name": "stdout",
     "output_type": "stream",
     "text": [
      "CPU times: user 28.2 ms, sys: 142 ms, total: 171 ms\n",
      "Wall time: 24.1 ms\n"
     ]
    }
   ],
   "source": [
    "%%time\n",
    "prdtst0 = bst.predict(dftst[cols_feat],num_iteration=bst.best_iteration)\n",
    "prdtst = calibration(prdtst0, train_pop, target_pop, sampled_train_pop, sampled_target_pop)"
   ]
  },
  {
   "cell_type": "code",
   "execution_count": 35,
   "metadata": {},
   "outputs": [],
   "source": [
    "dfsub_ids = dftst[['twtid','u2id',]]\n",
    "dfsub = dfsub_ids.copy()\n",
    "dfsub['scr'] = prdtst\n",
    "dfsub.to_csv(f'{p_out}/{TGT}__{PRFX}.csv',index=False,header=False)"
   ]
  },
  {
   "cell_type": "code",
   "execution_count": null,
   "metadata": {},
   "outputs": [],
   "source": []
  },
  {
   "cell_type": "code",
   "execution_count": null,
   "metadata": {},
   "outputs": [],
   "source": []
  },
  {
   "cell_type": "code",
   "execution_count": null,
   "metadata": {},
   "outputs": [],
   "source": []
  }
 ],
 "metadata": {
  "kernelspec": {
   "display_name": "rcss20",
   "language": "python",
   "name": "rcss20"
  },
  "language_info": {
   "codemirror_mode": {
    "name": "ipython",
    "version": 3
   },
   "file_extension": ".py",
   "mimetype": "text/x-python",
   "name": "python",
   "nbconvert_exporter": "python",
   "pygments_lexer": "ipython3",
   "version": "3.7.6"
  },
  "toc": {
   "base_numbering": 1,
   "nav_menu": {},
   "number_sections": true,
   "sideBar": true,
   "skip_h1_title": false,
   "title_cell": "Table of Contents",
   "title_sidebar": "Contents",
   "toc_cell": false,
   "toc_position": {},
   "toc_section_display": true,
   "toc_window_display": true
  }
 },
 "nbformat": 4,
 "nbformat_minor": 4
}
