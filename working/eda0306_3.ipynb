{
 "cells": [
  {
   "cell_type": "markdown",
   "metadata": {},
   "source": [
    "# setup"
   ]
  },
  {
   "cell_type": "code",
   "execution_count": 5,
   "metadata": {},
   "outputs": [],
   "source": [
    "import torch\n",
    "from transformers import *\n",
    "\n",
    "import pandas as pd\n",
    "pd.set_option('display.max_columns', 500)\n",
    "import dask.dataframe as dd\n",
    "\n",
    "HOME='/Users/yang.zhang/git/recsys20/'\n",
    "p_in=f'{HOME}/data'\n",
    "\n",
    "tokenizer = BertTokenizer.from_pretrained('bert-base-uncased')"
   ]
  },
  {
   "cell_type": "code",
   "execution_count": 6,
   "metadata": {},
   "outputs": [],
   "source": [
    "# !head -100000 {p_in}/training.tsv > {p_in}/trn1e5.tsv\n",
    "# !head -10000 {p_in}/val.tsv > {p_in}/val1e4.tsv"
   ]
  },
  {
   "cell_type": "markdown",
   "metadata": {},
   "source": [
    "    (rcss20) ➜  recsys20 git:(master) ✗ wc -l data/training.tsv\n",
    "     148,075,238 data/training.tsv\n",
    "    (rcss20) ➜  recsys20 git:(master) ✗ wc -l data/val.tsv\n",
    "     15,127,684 data/val.tsv"
   ]
  },
  {
   "cell_type": "markdown",
   "metadata": {},
   "source": [
    "# training.tsv"
   ]
  },
  {
   "cell_type": "code",
   "execution_count": 7,
   "metadata": {},
   "outputs": [],
   "source": [
    "cols=[\n",
    "'Text tokens',\n",
    "'Hashtags',\n",
    "'Tweet id',\n",
    "'Present media',\n",
    "'Present links',\n",
    "'Present domains',\n",
    "'Tweet type',\n",
    "'Language',\n",
    "'Timestamp',\n",
    "    \n",
    "'Engaged User id',\n",
    "'Engaged Follower count',\n",
    "'Engaged Following count',\n",
    "'Engaged Is verified?',\n",
    "'Engaged Account creation time',\n",
    "    \n",
    "'Engaging User id',\n",
    "'Engaging Follower count',\n",
    "'Engaging Following count',\n",
    "'Engaging Is verified?',\n",
    "'Engaging Account creation time',\n",
    "    \n",
    "'Engagee follows engager?',\n",
    "'Reply engagement timestamp',\n",
    "'Retweet engagement timestamp',\n",
    "'Retweet with comment engagement timestamp',\n",
    "'Like engagement timestamp',\n",
    "]\n",
    "\n",
    "cols_val=cols[:-4]\n",
    "\n",
    "cols_time=[\n",
    "'Timestamp',\n",
    "'Engaged Account creation time',\n",
    "'Engaging Account creation time',\n",
    "'Reply engagement timestamp',\n",
    "'Retweet engagement timestamp',\n",
    "'Retweet with comment engagement timestamp',\n",
    "'Like engagement timestamp',\n",
    "]"
   ]
  },
  {
   "cell_type": "code",
   "execution_count": 18,
   "metadata": {},
   "outputs": [],
   "source": [
    "# #https://docs.dask.org/en/latest/dataframe.html\n",
    "# df=dd.read_csv(f'{p_in}/training10000.tsv',\n",
    "#                sep='\\x01',\n",
    "#                header=None,\n",
    "#                names=cols,)\n",
    "\n",
    "df=pd.read_csv(f'{p_in}/trn1e5.tsv',\n",
    "               sep='\\x01',\n",
    "               header=None,\n",
    "               names=cols,)"
   ]
  },
  {
   "cell_type": "code",
   "execution_count": 19,
   "metadata": {},
   "outputs": [],
   "source": [
    "df['did_rply']=~df['Reply engagement timestamp'].isna()\n",
    "df['did_rtwt']=~df['Retweet engagement timestamp'].isna()\n",
    "df['did_cmmt']=~df['Retweet with comment engagement timestamp'].isna()\n",
    "df['did_like']=~df['Like engagement timestamp'].isna()"
   ]
  },
  {
   "cell_type": "code",
   "execution_count": 81,
   "metadata": {},
   "outputs": [],
   "source": [
    "cols_tgt=['did_rply',\n",
    "'did_rtwt',\n",
    "'did_cmmt',\n",
    "'did_like',]"
   ]
  },
  {
   "cell_type": "code",
   "execution_count": 20,
   "metadata": {},
   "outputs": [
    {
     "data": {
      "text/plain": [
       "0   2020-02-09 14:22:24\n",
       "1   2020-02-06 19:55:10\n",
       "2   2020-02-09 10:41:06\n",
       "3   2020-02-09 12:08:44\n",
       "4   2020-02-06 03:13:25\n",
       "Name: Timestamp, dtype: datetime64[ns]"
      ]
     },
     "execution_count": 20,
     "metadata": {},
     "output_type": "execute_result"
    }
   ],
   "source": [
    "pd.to_datetime(df[cols_time[0]].head(), unit='s')"
   ]
  },
  {
   "cell_type": "code",
   "execution_count": 21,
   "metadata": {},
   "outputs": [],
   "source": [
    "df['toks']=df['Text tokens'].apply(lambda x: x.split('\\t'))"
   ]
  },
  {
   "cell_type": "code",
   "execution_count": 70,
   "metadata": {},
   "outputs": [
    {
     "data": {
      "text/plain": [
       "'[CLS] [UNK] [unused132] [unused182] [UNK] [UNK] bicycle [unused126] ##ort [unused126] [unused141] bothered calgary imaginary [unused114] [unused114] blossom triumph ##cu longtime [UNK] [unused182] imaginary [unused126] responding [unused126] [unused115] [unused115] [unused183] [unused114] playwright [unused115] [unused182] lacked battalions ##ila pepper syn intimate ##worthy ##ila [SEP]'"
      ]
     },
     "execution_count": 70,
     "metadata": {},
     "output_type": "execute_result"
    }
   ],
   "source": [
    "\" \".join(tokenizer.convert_ids_to_tokens(df.sample().toks.values[0]))"
   ]
  },
  {
   "cell_type": "code",
   "execution_count": 83,
   "metadata": {
    "scrolled": false
   },
   "outputs": [
    {
     "data": {
      "text/plain": [
       "'Present media'"
      ]
     },
     "metadata": {},
     "output_type": "display_data"
    },
    {
     "data": {
      "text/plain": [
       "Photo                         18397\n",
       "Video                         10851\n",
       "Photo\\tPhoto                   4125\n",
       "Photo\\tPhoto\\tPhoto\\tPhoto     2317\n",
       "Photo\\tPhoto\\tPhoto            1321\n",
       "GIF                            1123\n",
       "Video\\tVideo                      1\n",
       "Name: Present media, dtype: int64"
      ]
     },
     "metadata": {},
     "output_type": "display_data"
    },
    {
     "data": {
      "text/plain": [
       "'Present links'"
      ]
     },
     "metadata": {},
     "output_type": "display_data"
    },
    {
     "data": {
      "text/plain": [
       "E522B6C629B01DA6B29DE65BF5DFA55B    16\n",
       "6DDBD9DAAA2AE38B8EBB54BA8E7098DD    11\n",
       "270B33AB02B6FB3F60B748CF1CB9AB75    10\n",
       "84868AAB78F7ECF88BBB70D231D816B0     9\n",
       "F804191E9F4429E30AFCB1012FC0E660     9\n",
       "                                    ..\n",
       "FDDC7184687805CCAA3A71DA89ED1839     1\n",
       "EE8758F49905035D59CD9FCAF9FA6C5B     1\n",
       "504F2EA067B133D68D9294363B23676D     1\n",
       "0BD13777A2878730CA37E1F5AC3DB208     1\n",
       "98723BEA553A88580C165DA2D153953F     1\n",
       "Name: Present links, Length: 12810, dtype: int64"
      ]
     },
     "metadata": {},
     "output_type": "display_data"
    },
    {
     "data": {
      "text/plain": [
       "'Present domains'"
      ]
     },
     "metadata": {},
     "output_type": "display_data"
    },
    {
     "data": {
      "text/plain": [
       "3896E26D12C903F0A00B6B1BE9A9BEA3                                      1234\n",
       "E91CDEC8DC7ABF30592FA024616FF970                                       839\n",
       "FECA6F2E8244F2294BD2CE957C0602A9                                       591\n",
       "FCA72262B99BB78F010B25C882A0C93C                                       303\n",
       "A32007FFB62B2DFC4E449BD37F985C53                                       192\n",
       "                                                                      ... \n",
       "5271968067C925CEC2863D887E8A9CA5                                         1\n",
       "2F76E77135D2A3E5AD81942318507A59\\t9C61A6B76D9005A54B0C8A61A2601F46       1\n",
       "8529331982F96BFE71A559BA33582787                                         1\n",
       "3AAD753B1909E2A1E390764603B099A9                                         1\n",
       "F5D4AC337C972C4FE2DCDC6827073AE4                                         1\n",
       "Name: Present domains, Length: 4669, dtype: int64"
      ]
     },
     "metadata": {},
     "output_type": "display_data"
    },
    {
     "data": {
      "text/plain": [
       "'Tweet type'"
      ]
     },
     "metadata": {},
     "output_type": "display_data"
    },
    {
     "data": {
      "text/plain": [
       "TopLevel    56862\n",
       "Retweet     34292\n",
       "Quote        8846\n",
       "Name: Tweet type, dtype: int64"
      ]
     },
     "metadata": {},
     "output_type": "display_data"
    },
    {
     "data": {
      "text/plain": [
       "'Language'"
      ]
     },
     "metadata": {},
     "output_type": "display_data"
    },
    {
     "data": {
      "text/plain": [
       "D3164C7FBCF2565DDF915B1B3AEFB1DC    41179\n",
       "22C448FF81263D4BAF2A176145EE9EAD    16127\n",
       "06D61DCBBE938971E1EA0C38BD9B5446     8887\n",
       "ECED8A16BE2A5E8871FD55F4842F16B1     6895\n",
       "B9175601E87101A984A50F8A62A1C374     5348\n",
       "4DC22C3F31C5C43721E6B5815A595ED6     3288\n",
       "167115458A0DBDFF7E9C0C53A83BAC9B     3161\n",
       "125C57F4FA6D4E110983FB11B52EFD4E     2410\n",
       "022EC308651FACB02794A8147AEE1B78     2361\n",
       "FA3F382BC409C271E3D6EAF8BE4648DD     2152\n",
       "9BF3403E0EB7EA8A256DA9019C0B0716     1942\n",
       "2996EB2FE8162C076D070A4C8D6532CD      916\n",
       "975B38F44D65EE42A547283787FF5A21      862\n",
       "3E16B11B7ADE3A22DDFC4423FBCEAD5D      568\n",
       "3820C29CBCA409A33BADF68852057C4A      515\n",
       "FF60A88F53E63000266F8B9149E35AD9      482\n",
       "717293301FE296B0B61950D041485825      439\n",
       "AEF22666801F0A5846D853B9CEB2E327      258\n",
       "9ECD42BC079C20F156F53CB3B99E600E      250\n",
       "76B8A9C3013AE6414A3E6012413CDC3B      234\n",
       "190BA7DA361BC06BC1D7E824C378064D      230\n",
       "48236EC80FDDDFADE99420ABC9210DDF      173\n",
       "1FFD2FE4297F5E70EBC6C3230D95CB9C      173\n",
       "A0C7021AD8299ADF0C9EBE326C115F6F      124\n",
       "691890251F2B9FF922BE6D3699ABEFD2      107\n",
       "D413F5FE5236E5650A46FD983AB39212      104\n",
       "0331BF70E606D62D92C96CE9AD71A7CF       84\n",
       "920502FAA080485768AA89BC96A55C47       82\n",
       "06BEAB41D66CCFF329D1ED8BA120A6C2       68\n",
       "89616CFF8EC8637092F885C7EFF43D74       61\n",
       "C7A400D9AD489ACF673CF12FBB80AAE5       50\n",
       "CB11E9CF42BD0A1BAD5E27BF3422D99D       44\n",
       "E59EF8BB86A6D815331DDF4C467CE0C7       41\n",
       "60FBA0E834CC59D647C3599AD763FFDF       33\n",
       "F4FD40A716F1572C9A28E9CAA58BE3A5       32\n",
       "FF7EABB5A382356D54D9C41BA0125E09       31\n",
       "544FA32458C903F1125FE6598300A047       30\n",
       "4249CE88433AEA3F8DCEECF008B3CB95       30\n",
       "E7BB61D2A87C1E72DF1C7BC292B86A1C       29\n",
       "69C4A33B9AD29AF883D60BA61CC08702       28\n",
       "3A85BCEC571C3F5AB1069E4924189177       24\n",
       "3121F7240D488F74EEED9312E174B217       21\n",
       "54208B51D44E7D91DC2F3DD02ADEDEC2       20\n",
       "259A6F6DFD672CB1F883CBEC01B99F2D       18\n",
       "F3E1016563360F9434FA986CA86C249C       13\n",
       "DBEEFB80F8A314311E2B4BD593E11DFE       13\n",
       "2216D01F7B48554E4211021A46816FCF       12\n",
       "B6D90127A09AB1229731898AEF9D4D7C        9\n",
       "1BC639981AE88E09129594B11F894A21        8\n",
       "6431A618DCF7F4CB7F62A95A39BAB77A        7\n",
       "57ADD4576E2AD6648E9B2DE32F3462A5        6\n",
       "AC1F0671A4B0D5B8112F87DE7B490E6D        5\n",
       "C2EF5FABE7619D8A333D5F0FF76E1BFA        4\n",
       "AA0254541959271ED3453119B787D0C3        4\n",
       "F73266A79468BB89C4325FDEDB0B533C        2\n",
       "C942E369C88CE7C56E69A84D04319FF0        2\n",
       "A6B70CDF8C7B934D4A218CA9B6B7FDB4        2\n",
       "BF477808A37E3E4E9C5D9F1839E8519E        1\n",
       "4690215948DBF6872B8ED1C2BC87B17E        1\n",
       "Name: Language, dtype: int64"
      ]
     },
     "metadata": {},
     "output_type": "display_data"
    },
    {
     "data": {
      "text/plain": [
       "'Engaged Follower count'"
      ]
     },
     "metadata": {},
     "output_type": "display_data"
    },
    {
     "data": {
      "text/plain": [
       "71924831    132\n",
       "8081340     112\n",
       "23818306     99\n",
       "2178700      68\n",
       "120          60\n",
       "           ... \n",
       "11444         1\n",
       "1554347       1\n",
       "495532        1\n",
       "237486        1\n",
       "105546        1\n",
       "Name: Engaged Follower count, Length: 44542, dtype: int64"
      ]
     },
     "metadata": {},
     "output_type": "display_data"
    },
    {
     "data": {
      "text/plain": [
       "'Engaged Following count'"
      ]
     },
     "metadata": {},
     "output_type": "display_data"
    },
    {
     "data": {
      "text/plain": [
       "0         994\n",
       "1         703\n",
       "3         459\n",
       "2         385\n",
       "47        383\n",
       "         ... \n",
       "20500       1\n",
       "6173        1\n",
       "6587        1\n",
       "174155      1\n",
       "43820       1\n",
       "Name: Engaged Following count, Length: 11354, dtype: int64"
      ]
     },
     "metadata": {},
     "output_type": "display_data"
    },
    {
     "data": {
      "text/plain": [
       "'Engaged Is verified?'"
      ]
     },
     "metadata": {},
     "output_type": "display_data"
    },
    {
     "data": {
      "text/plain": [
       "False    75083\n",
       "True     24917\n",
       "Name: Engaged Is verified?, dtype: int64"
      ]
     },
     "metadata": {},
     "output_type": "display_data"
    },
    {
     "data": {
      "text/plain": [
       "'Engaging Follower count'"
      ]
     },
     "metadata": {},
     "output_type": "display_data"
    },
    {
     "data": {
      "text/plain": [
       "0        1195\n",
       "1        1099\n",
       "2        1034\n",
       "3        1000\n",
       "4         900\n",
       "         ... \n",
       "2018        1\n",
       "3322        1\n",
       "13527       1\n",
       "4003        1\n",
       "6075        1\n",
       "Name: Engaging Follower count, Length: 4891, dtype: int64"
      ]
     },
     "metadata": {},
     "output_type": "display_data"
    },
    {
     "data": {
      "text/plain": [
       "'Engaging Following count'"
      ]
     },
     "metadata": {},
     "output_type": "display_data"
    },
    {
     "data": {
      "text/plain": [
       "80       295\n",
       "106      272\n",
       "109      261\n",
       "75       259\n",
       "101      255\n",
       "        ... \n",
       "25489      1\n",
       "5087       1\n",
       "3164       1\n",
       "11416      1\n",
       "2049       1\n",
       "Name: Engaging Following count, Length: 4242, dtype: int64"
      ]
     },
     "metadata": {},
     "output_type": "display_data"
    },
    {
     "data": {
      "text/plain": [
       "'Engaging Is verified?'"
      ]
     },
     "metadata": {},
     "output_type": "display_data"
    },
    {
     "data": {
      "text/plain": [
       "False    99794\n",
       "True       206\n",
       "Name: Engaging Is verified?, dtype: int64"
      ]
     },
     "metadata": {},
     "output_type": "display_data"
    },
    {
     "data": {
      "text/plain": [
       "'Engagee follows engager?'"
      ]
     },
     "metadata": {},
     "output_type": "display_data"
    },
    {
     "data": {
      "text/plain": [
       "False    64044\n",
       "True     35956\n",
       "Name: Engagee follows engager?, dtype: int64"
      ]
     },
     "metadata": {},
     "output_type": "display_data"
    },
    {
     "data": {
      "text/plain": [
       "'did_rply'"
      ]
     },
     "metadata": {},
     "output_type": "display_data"
    },
    {
     "data": {
      "text/plain": [
       "False    97246\n",
       "True      2754\n",
       "Name: did_rply, dtype: int64"
      ]
     },
     "metadata": {},
     "output_type": "display_data"
    },
    {
     "data": {
      "text/plain": [
       "'did_rtwt'"
      ]
     },
     "metadata": {},
     "output_type": "display_data"
    },
    {
     "data": {
      "text/plain": [
       "False    88789\n",
       "True     11211\n",
       "Name: did_rtwt, dtype: int64"
      ]
     },
     "metadata": {},
     "output_type": "display_data"
    },
    {
     "data": {
      "text/plain": [
       "'did_cmmt'"
      ]
     },
     "metadata": {},
     "output_type": "display_data"
    },
    {
     "data": {
      "text/plain": [
       "False    99199\n",
       "True       801\n",
       "Name: did_cmmt, dtype: int64"
      ]
     },
     "metadata": {},
     "output_type": "display_data"
    },
    {
     "data": {
      "text/plain": [
       "'did_like'"
      ]
     },
     "metadata": {},
     "output_type": "display_data"
    },
    {
     "data": {
      "text/plain": [
       "False    56071\n",
       "True     43929\n",
       "Name: did_like, dtype: int64"
      ]
     },
     "metadata": {},
     "output_type": "display_data"
    }
   ],
   "source": [
    "for col in [\n",
    "'Present media',\n",
    "'Present links',\n",
    "'Present domains',\n",
    "'Tweet type',\n",
    "'Language',\n",
    "'Engaged Follower count',\n",
    "'Engaged Following count',\n",
    "'Engaged Is verified?',\n",
    "'Engaging Follower count',\n",
    "'Engaging Following count',\n",
    "'Engaging Is verified?',\n",
    "'Engagee follows engager?',\n",
    "]+cols_tgt:\n",
    "    display(col, df[col].value_counts())"
   ]
  },
  {
   "cell_type": "code",
   "execution_count": null,
   "metadata": {},
   "outputs": [],
   "source": []
  },
  {
   "cell_type": "markdown",
   "metadata": {},
   "source": [
    "## val.tsv"
   ]
  },
  {
   "cell_type": "code",
   "execution_count": 76,
   "metadata": {},
   "outputs": [],
   "source": [
    "dfval=dd.read_csv(f'{p_in}/val1e4.tsv',\n",
    "                  sep='\\x01',\n",
    "               header=None,\n",
    "               names=cols_val)"
   ]
  },
  {
   "cell_type": "code",
   "execution_count": 77,
   "metadata": {
    "scrolled": true
   },
   "outputs": [],
   "source": [
    "# %%time\n",
    "# dfval.shape[0].compute()\n",
    "# CPU times: user 2min 10s, sys: 29.3 s, total: 2min 39s\n",
    "# Wall time: 1min 31s\n",
    "# 15127684"
   ]
  },
  {
   "cell_type": "code",
   "execution_count": 78,
   "metadata": {},
   "outputs": [
    {
     "data": {
      "text/html": [
       "<div>\n",
       "<style scoped>\n",
       "    .dataframe tbody tr th:only-of-type {\n",
       "        vertical-align: middle;\n",
       "    }\n",
       "\n",
       "    .dataframe tbody tr th {\n",
       "        vertical-align: top;\n",
       "    }\n",
       "\n",
       "    .dataframe thead th {\n",
       "        text-align: right;\n",
       "    }\n",
       "</style>\n",
       "<table border=\"1\" class=\"dataframe\">\n",
       "  <thead>\n",
       "    <tr style=\"text-align: right;\">\n",
       "      <th></th>\n",
       "      <th>Text tokens</th>\n",
       "      <th>Hashtags</th>\n",
       "      <th>Tweet id</th>\n",
       "      <th>Present media</th>\n",
       "      <th>Present links</th>\n",
       "      <th>Present domains</th>\n",
       "      <th>Tweet type</th>\n",
       "      <th>Language</th>\n",
       "      <th>Timestamp</th>\n",
       "      <th>Engaged User id</th>\n",
       "      <th>Engaged Follower count</th>\n",
       "      <th>Engaged Following count</th>\n",
       "      <th>Engaged Is verified?</th>\n",
       "      <th>Engaged Account creation time</th>\n",
       "      <th>Engaging User id</th>\n",
       "      <th>Engaging Follower count</th>\n",
       "      <th>Engaging Following count</th>\n",
       "      <th>Engaging Is verified?</th>\n",
       "      <th>Engaging Account creation time</th>\n",
       "      <th>Engagee follows engager?</th>\n",
       "    </tr>\n",
       "  </thead>\n",
       "  <tbody>\n",
       "    <tr>\n",
       "      <th>0</th>\n",
       "      <td>101\\t47185\\t10157\\t100986\\t10343\\t55422\\t119\\t...</td>\n",
       "      <td>NaN</td>\n",
       "      <td>7647B4E9DAF4C1D8973397DC2A04F3E3</td>\n",
       "      <td>Photo</td>\n",
       "      <td>NaN</td>\n",
       "      <td>NaN</td>\n",
       "      <td>TopLevel</td>\n",
       "      <td>D3164C7FBCF2565DDF915B1B3AEFB1DC</td>\n",
       "      <td>1581703126</td>\n",
       "      <td>8A9AB92B775C62C4AB60DF6773A01571</td>\n",
       "      <td>13941</td>\n",
       "      <td>1216</td>\n",
       "      <td>False</td>\n",
       "      <td>1448292186</td>\n",
       "      <td>0000006C3074607050F1339DDCB890BB</td>\n",
       "      <td>27448</td>\n",
       "      <td>600</td>\n",
       "      <td>False</td>\n",
       "      <td>1520948869</td>\n",
       "      <td>True</td>\n",
       "    </tr>\n",
       "    <tr>\n",
       "      <th>1</th>\n",
       "      <td>101\\t6006\\t5086\\t1939\\t7418\\t3601\\t6406\\t1913\\...</td>\n",
       "      <td>NaN</td>\n",
       "      <td>CCBFBA5AFE7EFC03102EA8D0F86C4208</td>\n",
       "      <td>Photo</td>\n",
       "      <td>NaN</td>\n",
       "      <td>NaN</td>\n",
       "      <td>TopLevel</td>\n",
       "      <td>22C448FF81263D4BAF2A176145EE9EAD</td>\n",
       "      <td>1581736431</td>\n",
       "      <td>187AC59639DA9A6F32F7CD118EDD58F7</td>\n",
       "      <td>476439</td>\n",
       "      <td>1478</td>\n",
       "      <td>False</td>\n",
       "      <td>1254447722</td>\n",
       "      <td>00000776B07587ECA9717BFC301F2D6E</td>\n",
       "      <td>102</td>\n",
       "      <td>659</td>\n",
       "      <td>False</td>\n",
       "      <td>1478011810</td>\n",
       "      <td>False</td>\n",
       "    </tr>\n",
       "    <tr>\n",
       "      <th>2</th>\n",
       "      <td>101\\t56898\\t137\\t44851\\t10317\\t11490\\t10112\\t1...</td>\n",
       "      <td>NaN</td>\n",
       "      <td>E18C2DCFC5AF20C650A0FD94598E69B7</td>\n",
       "      <td>Video</td>\n",
       "      <td>NaN</td>\n",
       "      <td>NaN</td>\n",
       "      <td>Retweet</td>\n",
       "      <td>ECED8A16BE2A5E8871FD55F4842F16B1</td>\n",
       "      <td>1582061925</td>\n",
       "      <td>82626B53CB2AD3B469E4AE06EAA9D930</td>\n",
       "      <td>367</td>\n",
       "      <td>702</td>\n",
       "      <td>False</td>\n",
       "      <td>1518708926</td>\n",
       "      <td>00000860E80C67D8C46CE57C64DE9444</td>\n",
       "      <td>230</td>\n",
       "      <td>189</td>\n",
       "      <td>False</td>\n",
       "      <td>1541013180</td>\n",
       "      <td>True</td>\n",
       "    </tr>\n",
       "    <tr>\n",
       "      <th>3</th>\n",
       "      <td>101\\t13497\\t10437\\t94005\\t11161\\t73632\\t11067\\...</td>\n",
       "      <td>NaN</td>\n",
       "      <td>26DC813FDF8546B757BB9141099F119E</td>\n",
       "      <td>NaN</td>\n",
       "      <td>D58137F9D688C88435FD64FBAEA82B97</td>\n",
       "      <td>E91CDEC8DC7ABF30592FA024616FF970</td>\n",
       "      <td>TopLevel</td>\n",
       "      <td>ECED8A16BE2A5E8871FD55F4842F16B1</td>\n",
       "      <td>1582110043</td>\n",
       "      <td>7AFE06FF54898A1E9C716F539831849E</td>\n",
       "      <td>278</td>\n",
       "      <td>1229</td>\n",
       "      <td>False</td>\n",
       "      <td>1243548061</td>\n",
       "      <td>00000865A1538142CDA5936B07FE4311</td>\n",
       "      <td>65</td>\n",
       "      <td>165</td>\n",
       "      <td>False</td>\n",
       "      <td>1452599043</td>\n",
       "      <td>True</td>\n",
       "    </tr>\n",
       "    <tr>\n",
       "      <th>4</th>\n",
       "      <td>101\\t24781\\t10152\\t42041\\t38268\\t10301\\t10798\\...</td>\n",
       "      <td>NaN</td>\n",
       "      <td>30A33055566AAC9EB18734C4EAD11FE1</td>\n",
       "      <td>NaN</td>\n",
       "      <td>AEF0CC9FA7B389B9A2ADF1331F00B65B</td>\n",
       "      <td>42DD9E2D4B2C0B0A71E909A6049EC2C2</td>\n",
       "      <td>TopLevel</td>\n",
       "      <td>D3164C7FBCF2565DDF915B1B3AEFB1DC</td>\n",
       "      <td>1581860270</td>\n",
       "      <td>D240DACE38CA84965270C86D47D3BF40</td>\n",
       "      <td>24313527</td>\n",
       "      <td>121</td>\n",
       "      <td>True</td>\n",
       "      <td>1177506290</td>\n",
       "      <td>00000865A1538142CDA5936B07FE4311</td>\n",
       "      <td>64</td>\n",
       "      <td>164</td>\n",
       "      <td>False</td>\n",
       "      <td>1452599043</td>\n",
       "      <td>False</td>\n",
       "    </tr>\n",
       "  </tbody>\n",
       "</table>\n",
       "</div>"
      ],
      "text/plain": [
       "                                         Text tokens Hashtags  \\\n",
       "0  101\\t47185\\t10157\\t100986\\t10343\\t55422\\t119\\t...      NaN   \n",
       "1  101\\t6006\\t5086\\t1939\\t7418\\t3601\\t6406\\t1913\\...      NaN   \n",
       "2  101\\t56898\\t137\\t44851\\t10317\\t11490\\t10112\\t1...      NaN   \n",
       "3  101\\t13497\\t10437\\t94005\\t11161\\t73632\\t11067\\...      NaN   \n",
       "4  101\\t24781\\t10152\\t42041\\t38268\\t10301\\t10798\\...      NaN   \n",
       "\n",
       "                           Tweet id Present media  \\\n",
       "0  7647B4E9DAF4C1D8973397DC2A04F3E3         Photo   \n",
       "1  CCBFBA5AFE7EFC03102EA8D0F86C4208         Photo   \n",
       "2  E18C2DCFC5AF20C650A0FD94598E69B7         Video   \n",
       "3  26DC813FDF8546B757BB9141099F119E           NaN   \n",
       "4  30A33055566AAC9EB18734C4EAD11FE1           NaN   \n",
       "\n",
       "                      Present links                   Present domains  \\\n",
       "0                               NaN                               NaN   \n",
       "1                               NaN                               NaN   \n",
       "2                               NaN                               NaN   \n",
       "3  D58137F9D688C88435FD64FBAEA82B97  E91CDEC8DC7ABF30592FA024616FF970   \n",
       "4  AEF0CC9FA7B389B9A2ADF1331F00B65B  42DD9E2D4B2C0B0A71E909A6049EC2C2   \n",
       "\n",
       "  Tweet type                          Language   Timestamp  \\\n",
       "0   TopLevel  D3164C7FBCF2565DDF915B1B3AEFB1DC  1581703126   \n",
       "1   TopLevel  22C448FF81263D4BAF2A176145EE9EAD  1581736431   \n",
       "2    Retweet  ECED8A16BE2A5E8871FD55F4842F16B1  1582061925   \n",
       "3   TopLevel  ECED8A16BE2A5E8871FD55F4842F16B1  1582110043   \n",
       "4   TopLevel  D3164C7FBCF2565DDF915B1B3AEFB1DC  1581860270   \n",
       "\n",
       "                    Engaged User id  Engaged Follower count  \\\n",
       "0  8A9AB92B775C62C4AB60DF6773A01571                   13941   \n",
       "1  187AC59639DA9A6F32F7CD118EDD58F7                  476439   \n",
       "2  82626B53CB2AD3B469E4AE06EAA9D930                     367   \n",
       "3  7AFE06FF54898A1E9C716F539831849E                     278   \n",
       "4  D240DACE38CA84965270C86D47D3BF40                24313527   \n",
       "\n",
       "   Engaged Following count  Engaged Is verified?  \\\n",
       "0                     1216                 False   \n",
       "1                     1478                 False   \n",
       "2                      702                 False   \n",
       "3                     1229                 False   \n",
       "4                      121                  True   \n",
       "\n",
       "   Engaged Account creation time                  Engaging User id  \\\n",
       "0                     1448292186  0000006C3074607050F1339DDCB890BB   \n",
       "1                     1254447722  00000776B07587ECA9717BFC301F2D6E   \n",
       "2                     1518708926  00000860E80C67D8C46CE57C64DE9444   \n",
       "3                     1243548061  00000865A1538142CDA5936B07FE4311   \n",
       "4                     1177506290  00000865A1538142CDA5936B07FE4311   \n",
       "\n",
       "   Engaging Follower count  Engaging Following count  Engaging Is verified?  \\\n",
       "0                    27448                       600                  False   \n",
       "1                      102                       659                  False   \n",
       "2                      230                       189                  False   \n",
       "3                       65                       165                  False   \n",
       "4                       64                       164                  False   \n",
       "\n",
       "   Engaging Account creation time  Engagee follows engager?  \n",
       "0                      1520948869                      True  \n",
       "1                      1478011810                     False  \n",
       "2                      1541013180                      True  \n",
       "3                      1452599043                      True  \n",
       "4                      1452599043                     False  "
      ]
     },
     "execution_count": 78,
     "metadata": {},
     "output_type": "execute_result"
    }
   ],
   "source": [
    "dfval.head()"
   ]
  },
  {
   "cell_type": "code",
   "execution_count": null,
   "metadata": {},
   "outputs": [],
   "source": []
  },
  {
   "cell_type": "code",
   "execution_count": null,
   "metadata": {},
   "outputs": [],
   "source": []
  }
 ],
 "metadata": {
  "kernelspec": {
   "display_name": "rcss20",
   "language": "python",
   "name": "rcss20"
  },
  "language_info": {
   "codemirror_mode": {
    "name": "ipython",
    "version": 3
   },
   "file_extension": ".py",
   "mimetype": "text/x-python",
   "name": "python",
   "nbconvert_exporter": "python",
   "pygments_lexer": "ipython3",
   "version": "3.7.6"
  },
  "toc": {
   "base_numbering": 1,
   "nav_menu": {},
   "number_sections": true,
   "sideBar": true,
   "skip_h1_title": false,
   "title_cell": "Table of Contents",
   "title_sidebar": "Contents",
   "toc_cell": false,
   "toc_position": {},
   "toc_section_display": true,
   "toc_window_display": true
  }
 },
 "nbformat": 4,
 "nbformat_minor": 2
}
