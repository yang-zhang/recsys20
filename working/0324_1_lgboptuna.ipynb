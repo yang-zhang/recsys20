{
 "cells": [
  {
   "cell_type": "markdown",
   "metadata": {},
   "source": [
    "# start"
   ]
  },
  {
   "cell_type": "markdown",
   "metadata": {},
   "source": [
    "- https://medium.com/optuna/lightgbm-tuner-new-optuna-integration-for-hyperparameter-optimization-8b7095e99258\n",
    "- https://github.com/optuna/optuna/blob/master/examples/lightgbm_tuner_simple.py"
   ]
  },
  {
   "cell_type": "code",
   "execution_count": 1,
   "metadata": {},
   "outputs": [
    {
     "name": "stdout",
     "output_type": "stream",
     "text": [
      "['2020-03-17 02:32:24', '2020-03-24 17:09:45']\n",
      "['2020-02-06 00:00:00', '2020-02-13 00:00:00']\n"
     ]
    }
   ],
   "source": [
    "PRFX='0324_1'\n",
    "trntmstmp=1584412344\n",
    "valtmstmp=1585069785\n",
    "import datetime\n",
    "print([datetime.datetime.fromtimestamp(o).strftime('%Y-%m-%d %H:%M:%S') for o in (trntmstmp, valtmstmp)])\n",
    "\n",
    "grand_total=1.5e8\n",
    "MIN_TM_TRN=1580947200\n",
    "MIN_TM_TST=1581552000\n",
    "print([datetime.datetime.fromtimestamp(o).strftime('%Y-%m-%d %H:%M:%S') for o in (MIN_TM_TRN, MIN_TM_TST)])\n",
    "\n",
    "\n",
    "CHNKSZ=1e6\n",
    "POST_RATE_WANTED=0.1"
   ]
  },
  {
   "cell_type": "markdown",
   "metadata": {},
   "source": [
    "# setup"
   ]
  },
  {
   "cell_type": "code",
   "execution_count": 2,
   "metadata": {
    "scrolled": true
   },
   "outputs": [
    {
     "data": {
      "text/plain": [
       "{'Retweet': 'retwt',\n",
       " 'Reply': 'reply',\n",
       " 'Like': 'like',\n",
       " 'RTwCmnt': 'retwt_cmmnt'}"
      ]
     },
     "execution_count": 2,
     "metadata": {},
     "output_type": "execute_result"
    }
   ],
   "source": [
    "from pathlib import Path\n",
    "# import dask\n",
    "# print('dask.__version__', dask.__version__)\n",
    "import xgboost as xgb\n",
    "# import lightgbm as lgb\n",
    "\n",
    "import optuna\n",
    "import optuna.integration.lightgbm as lgb\n",
    "\n",
    "\n",
    "# optuna.logging.CRITICAL, optuna.logging.FATAL\n",
    "# optuna.logging.ERROR\n",
    "# optuna.logging.WARNING, optuna.logging.WARN\n",
    "# optuna.logging.INFO\n",
    "# optuna.logging.DEBUG\n",
    "optuna.logging.set_verbosity(optuna.logging.INFO)\n",
    "\n",
    "\n",
    "# import dask_xgboost\n",
    "# import dask.dataframe as dd\n",
    "from sklearn.model_selection import train_test_split\n",
    "import pandas as pd\n",
    "import numpy as np\n",
    "import matplotlib.pyplot as plt\n",
    "from sklearn.metrics import accuracy_score, roc_auc_score, roc_curve, auc, precision_recall_curve\n",
    "from dask.distributed import Client\n",
    "import pickle\n",
    "from tqdm import tqdm\n",
    "from collections import Counter\n",
    "pd.set_option('display.max_rows', 500)\n",
    "\n",
    "from functools import reduce\n",
    "import datetime\n",
    "def dtnow(): return datetime.datetime.now().strftime('%Y-%m-%d %H:%M:%S')\n",
    "\n",
    "SEED=101\n",
    "HOME='/data/git/recsys20'\n",
    "p_in=f'{HOME}/input'\n",
    "p_out=f'{HOME}/output/{PRFX}'\n",
    "Path(p_out).mkdir(exist_ok=True, parents=True)\n",
    "\n",
    "from sklearn.metrics import precision_recall_curve, auc, log_loss\n",
    "\n",
    "def compute_prauc(pred, gt):\n",
    "    prec, recall, thresh = precision_recall_curve(gt, pred)\n",
    "    prauc = auc(recall, prec)\n",
    "    return prauc\n",
    "\n",
    "def calculate_ctr(gt):\n",
    "    positive = len([x for x in gt if x == 1])\n",
    "    ctr = positive/float(len(gt))\n",
    "    return ctr\n",
    "\n",
    "def compute_rce(pred, gt):\n",
    "    cross_entropy = log_loss(gt, pred)\n",
    "    data_ctr = calculate_ctr(gt)\n",
    "    strawman_cross_entropy = log_loss(gt, [data_ctr for _ in range(len(gt))])\n",
    "    return (1.0 - cross_entropy/strawman_cross_entropy)*100.0\n",
    "\n",
    "# https://towardsdatascience.com/how-to-calibrate-undersampled-model-scores-8f3319c1ea5b\n",
    "# How to use the function?\n",
    "# Let’s say your goal is to generate a model that shows the credit default probabilities and your original \n",
    "# training data has 50,000 rows with only 500 of them labeled as target class. When you sample your non-target \n",
    "# instances randomly and reduce the total row count to 10,000, while conserving 500 target rows, our calibration\n",
    "# function becomes:\n",
    "# calibration(model_results, 50000, 500, 10000, 500)\n",
    "# Here model_results is your model probability output array. After you train your model and put the results in it, your function is ready to use. \n",
    "\n",
    "def calibration(data, train_pop, target_pop, sampled_train_pop, sampled_target_pop):\n",
    "    calibrated_data = \\\n",
    "    ((data * (target_pop / train_pop) / (sampled_target_pop / sampled_train_pop)) /\n",
    "    ((\n",
    "        (1 - data) * (1 - target_pop / train_pop) / (1 - sampled_target_pop / sampled_train_pop)\n",
    "     ) +\n",
    "     (\n",
    "        data * (target_pop / train_pop) / (sampled_target_pop / sampled_train_pop)\n",
    "     )))\n",
    "\n",
    "    return calibrated_data\n",
    "\n",
    "cols=[\n",
    "'toks',\n",
    "'hshtgs',\n",
    "'twtid',\n",
    "'media',\n",
    "'links',\n",
    "'domns',\n",
    "'twttyp',\n",
    "'lang',\n",
    "'tm',\n",
    "\n",
    "'u1id',\n",
    "'u1_fllwer_cnt',\n",
    "'u1_fllwng_cnt',\n",
    "'u1_vrfed',\n",
    "'u1_create_tm',\n",
    "\n",
    "'u2id',\n",
    "'u2_fllwer_cnt',\n",
    "'u2_fllwng_cnt',\n",
    "'u2_vrfed',\n",
    "'u2_create_tm',\n",
    "\n",
    "'u1_fllw_u2',\n",
    "'reply_tm',\n",
    "'retwt_tm',\n",
    "'retwt_cmmnt_tm',\n",
    "'like_tm',\n",
    "]\n",
    "\n",
    "cols_val = cols[:-4]\n",
    "cols_tgt_tmstmp=[\n",
    "    'retwt_tm',\n",
    "    'reply_tm',\n",
    "    'like_tm',\n",
    "    'retwt_cmmnt_tm',\n",
    "]\n",
    "cols_tgt=[o.split('_tm')[0] for o in cols_tgt_tmstmp]\n",
    "tgts             = ['Retweet','Reply','Like','RTwCmnt',]\n",
    "assert cols_tgt == ['retwt',  'reply','like','retwt_cmmnt',]\n",
    "ntgts=len(tgts)\n",
    "\n",
    "tgt2col=dict(zip(tgts,cols_tgt))\n",
    "tgt2col"
   ]
  },
  {
   "cell_type": "markdown",
   "metadata": {},
   "source": [
    "# prepare data"
   ]
  },
  {
   "cell_type": "markdown",
   "metadata": {},
   "source": [
    "## get maps from test set"
   ]
  },
  {
   "cell_type": "code",
   "execution_count": 3,
   "metadata": {},
   "outputs": [],
   "source": [
    "# dfval=dd.read_csv(\n",
    "#     f'{p_in}/val_{valtmstmp}.tsv',\n",
    "#     sep='\\x01', header=None, names=cols_val,)\n",
    "# lang2cnt=dict(dfval.lang.value_counts().compute())\n",
    "# ttl=sum(lang2cnt.values())\n",
    "# lang2perc={k:v/ttl for k,v in lang2cnt.items()}\n",
    "langs=['D3164C7FBCF2565DDF915B1B3AEFB1DC', '22C448FF81263D4BAF2A176145EE9EAD', '06D61DCBBE938971E1EA0C38BD9B5446', 'ECED8A16BE2A5E8871FD55F4842F16B1', 'B9175601E87101A984A50F8A62A1C374', '4DC22C3F31C5C43721E6B5815A595ED6', '167115458A0DBDFF7E9C0C53A83BAC9B', '125C57F4FA6D4E110983FB11B52EFD4E', '022EC308651FACB02794A8147AEE1B78', 'FA3F382BC409C271E3D6EAF8BE4648DD', '9BF3403E0EB7EA8A256DA9019C0B0716', '975B38F44D65EE42A547283787FF5A21', '2996EB2FE8162C076D070A4C8D6532CD', 'FF60A88F53E63000266F8B9149E35AD9', '717293301FE296B0B61950D041485825', '3E16B11B7ADE3A22DDFC4423FBCEAD5D', '3820C29CBCA409A33BADF68852057C4A', '9ECD42BC079C20F156F53CB3B99E600E', '76B8A9C3013AE6414A3E6012413CDC3B', 'AEF22666801F0A5846D853B9CEB2E327', '190BA7DA361BC06BC1D7E824C378064D', '1FFD2FE4297F5E70EBC6C3230D95CB9C', 'A0C7021AD8299ADF0C9EBE326C115F6F', 'D413F5FE5236E5650A46FD983AB39212', '48236EC80FDDDFADE99420ABC9210DDF', '691890251F2B9FF922BE6D3699ABEFD2', '920502FAA080485768AA89BC96A55C47', '0331BF70E606D62D92C96CE9AD71A7CF', '89616CFF8EC8637092F885C7EFF43D74', '06BEAB41D66CCFF329D1ED8BA120A6C2', '60FBA0E834CC59D647C3599AD763FFDF', 'C7A400D9AD489ACF673CF12FBB80AAE5', 'E59EF8BB86A6D815331DDF4C467CE0C7', '4249CE88433AEA3F8DCEECF008B3CB95', '544FA32458C903F1125FE6598300A047', 'CB11E9CF42BD0A1BAD5E27BF3422D99D', '3A85BCEC571C3F5AB1069E4924189177', 'FF7EABB5A382356D54D9C41BA0125E09', 'E7BB61D2A87C1E72DF1C7BC292B86A1C', '69C4A33B9AD29AF883D60BA61CC08702', 'F4FD40A716F1572C9A28E9CAA58BE3A5', '259A6F6DFD672CB1F883CBEC01B99F2D', '6431A618DCF7F4CB7F62A95A39BAB77A', '3121F7240D488F74EEED9312E174B217', '54208B51D44E7D91DC2F3DD02ADEDEC2', 'DBEEFB80F8A314311E2B4BD593E11DFE', 'B6D90127A09AB1229731898AEF9D4D7C', 'F3E1016563360F9434FA986CA86C249C', '2216D01F7B48554E4211021A46816FCF', '1BC639981AE88E09129594B11F894A21', 'C942E369C88CE7C56E69A84D04319FF0', '57ADD4576E2AD6648E9B2DE32F3462A5', 'AC1F0671A4B0D5B8112F87DE7B490E6D', 'C2EF5FABE7619D8A333D5F0FF76E1BFA', 'AA0254541959271ED3453119B787D0C3', 'A6B70CDF8C7B934D4A218CA9B6B7FDB4', 'BF477808A37E3E4E9C5D9F1839E8519E', '97F81BD92A1ACA3F1F43C154E689350F', '60A3DB168094D41241E45E0DE3539BC0', '12D8CEB94F89D11D7EB95EAE9689B009', 'F73266A79468BB89C4325FDEDB0B533C', '4690215948DBF6872B8ED1C2BC87B17E', 'D18801336202297E6484F634CAC6592E', '2E18F6F53E3CF073911AF0A93BBE5373', 'B2235C8B73239FDC5780DD132419833A', '515E873C86EE1577E75FA2387B7FA59E',]\n",
    "\n",
    "# dfval.twttyp.value_counts().compute()\n",
    "# TopLevel    2932\n",
    "# Retweet      994\n",
    "# Quote        213\n",
    "twttyps=['TopLevel','Retweet','Quote']"
   ]
  },
  {
   "cell_type": "markdown",
   "metadata": {},
   "source": [
    "## prep func"
   ]
  },
  {
   "cell_type": "code",
   "execution_count": 4,
   "metadata": {},
   "outputs": [],
   "source": [
    "def prp_df(df, istrn=True):\n",
    "    tm_min = MIN_TM_TRN if istrn else MIN_TM_TST\n",
    "    df['len_toks'] = df.toks.apply(len)\n",
    "    for media in ['Photo', 'Video', 'GIF']:\n",
    "        df[f'has_media_{media}'] = df.media.fillna('').apply(lambda x: media in x)\n",
    "    for col in ['hshtgs', 'links', 'domns',]:\n",
    "        df[f'num_{col}'] = df[col].fillna('').apply(lambda x: len(x.split('\\t')) if len(x) else 0)\n",
    "    \n",
    "    df['twt_age'] = df.tm - tm_min\n",
    "    df['u1_age']  = df.tm - df.u1_create_tm\n",
    "    df['u2_age']  = df.tm - df.u2_create_tm\n",
    "        \n",
    "    tm_dt=pd.to_datetime(df.tm, unit='s')\n",
    "    df['tm_dayofweek']=tm_dt.dt.dayofweek\n",
    "    df['tm_hour']=tm_dt.dt.hour\n",
    "    \n",
    "    df['tmdlta_u2u1']  = df.u2_create_tm - df.u1_create_tm\n",
    "    \n",
    "    df['u1_fllwer_cnt_by_age'] = df.u1_fllwer_cnt / df.u1_age\n",
    "    df['u1_fllwng_cnt_by_age'] = df.u2_fllwng_cnt / df.u2_age\n",
    "    \n",
    "    for typ in twttyps:\n",
    "        df[f'twttyp_{typ}']=(df.twttyp==typ).astype('int8')\n",
    "\n",
    "    for lang in langs:\n",
    "        df[f'lang_{lang}']=(df.lang==lang).astype('int8')\n",
    "    if istrn: \n",
    "        df[cols_tgt]=df[cols_tgt_tmstmp].notna().astype('int8')\n",
    "        df.drop(inplace=True, columns=['toks', 'hshtgs', 'media', 'links', 'domns', 'twttyp', 'lang', \n",
    "                                       'tm', 'u1_create_tm','u2_create_tm', 'u1id', 'u2id', 'twtid', ]+cols_tgt_tmstmp, )\n",
    "    else:\n",
    "        df.drop(inplace=True, columns=['toks', 'hshtgs', 'media', 'links', 'domns', 'twttyp', 'lang', \n",
    "                                       'tm', 'u1_create_tm','u2_create_tm', 'u1id', ])        \n",
    "    return df"
   ]
  },
  {
   "cell_type": "raw",
   "metadata": {
    "scrolled": true
   },
   "source": [
    "ls -hlS $p_in | grep {trntmstmp} "
   ]
  },
  {
   "cell_type": "code",
   "execution_count": 5,
   "metadata": {
    "scrolled": false
   },
   "outputs": [
    {
     "data": {
      "text/plain": [
       "(150000000.0, 150.0)"
      ]
     },
     "execution_count": 5,
     "metadata": {},
     "output_type": "execute_result"
    }
   ],
   "source": [
    "grand_total, grand_total/CHNKSZ"
   ]
  },
  {
   "cell_type": "markdown",
   "metadata": {},
   "source": [
    "## valid data"
   ]
  },
  {
   "cell_type": "code",
   "execution_count": 6,
   "metadata": {},
   "outputs": [
    {
     "name": "stdout",
     "output_type": "stream",
     "text": [
      "2020-03-24 15:26:09 chunk 0\n",
      "['2020-02-06 00:00:00', '2020-02-12 23:59:59']\n"
     ]
    }
   ],
   "source": [
    "chnks_trn = pd.read_csv(f'{p_in}/trn_{trntmstmp}.tsv',sep='\\x01',\n",
    "                    header=None,names=cols, \n",
    "                        chunksize=CHNKSZ)\n",
    "# first chunk as validate data\n",
    "for ichnk,df in enumerate(chnks_trn):\n",
    "    print(dtnow(), 'chunk', ichnk)\n",
    "    print([datetime.datetime.fromtimestamp(o).strftime('%Y-%m-%d %H:%M:%S') \n",
    "           for o in (df.tm.min(), df.tm.max())])\n",
    "    dfvalid = prp_df(df)\n",
    "    break\n",
    "dfvalid.shape\n",
    "\n",
    "cols_feat=[o for o in dfvalid.columns if o not in cols_tgt]\n",
    "\n",
    "# Xvl,yvl=dfvl[cols_feat],dfvl[cols_tgt]"
   ]
  },
  {
   "cell_type": "markdown",
   "metadata": {},
   "source": [
    "## trnval data func"
   ]
  },
  {
   "cell_type": "code",
   "execution_count": 7,
   "metadata": {},
   "outputs": [],
   "source": [
    "def getdftrvl(tgt):\n",
    "    print(tgt)\n",
    "    tgtcol=tgt2col[tgt]\n",
    "    chnks_trn = pd.read_csv(f'{p_in}/trn_{trntmstmp}.tsv',sep='\\x01',\n",
    "                        header=None,names=cols, \n",
    "                            chunksize=CHNKSZ)\n",
    "    len_df_wanted = int(CHNKSZ)\n",
    "    # retwt          0.113031\n",
    "    # reply          0.027488\n",
    "    # like           0.439499\n",
    "    # retwt_cmmnt    0.007742\n",
    "    pos_rate_wanted = POST_RATE_WANTED\n",
    "    n_pos_wanted = int(len_df_wanted*pos_rate_wanted)\n",
    "    print('n_pos_wanted', n_pos_wanted)\n",
    "    np.random.seed(SEED)\n",
    "    lst_df = []\n",
    "    n_pos_ttl = 0\n",
    "    for ichnk,df in enumerate(chnks_trn):\n",
    "        #skip first chunk (it was validate data)\n",
    "        if ichnk==0: continue\n",
    "        print(dtnow(), 'chunk', ichnk)\n",
    "        df = prp_df(df)\n",
    "        n_pos_ttl+= df[tgtcol].sum()\n",
    "        lst_df.append(df)\n",
    "        if n_pos_ttl>=n_pos_wanted: break\n",
    "\n",
    "    df = pd.concat(lst_df)\n",
    "    df.reset_index(drop=True,inplace=True)\n",
    "\n",
    "\n",
    "    # https://stackoverflow.com/questions/28556942/pandas-remove-rows-at-random-without-shuffling-dataset\n",
    "    idx_neg=np.where(df[tgtcol]==0)[0]\n",
    "    n_neg = len(idx_neg)\n",
    "    n_pos = len(df)-len(idx_neg)\n",
    "    n_neg2keep = len_df_wanted-n_pos\n",
    "    n_neg2rmv = n_neg-n_neg2keep\n",
    "    idx_neg2rmv = np.random.choice(idx_neg, n_neg2rmv, replace=False)\n",
    "    dftrvl = df.drop(idx_neg2rmv)\n",
    "    dftrvl = dftrvl.sample(len(dftrvl))\n",
    "    print('dftrvl.shape:',dftrvl.shape,'dftrvl[tgtcol].mean():',dftrvl[tgtcol].mean())\n",
    "\n",
    "    pops={\n",
    "        'train_pop':len(df),\n",
    "        'target_pop':n_pos,\n",
    "        'sampled_train_pop':len_df_wanted,\n",
    "        'sampled_target_pop':n_pos,\n",
    "    }\n",
    "    print(pops)\n",
    "    return dftrvl, pops"
   ]
  },
  {
   "cell_type": "markdown",
   "metadata": {},
   "source": [
    "# model"
   ]
  },
  {
   "cell_type": "code",
   "execution_count": 8,
   "metadata": {},
   "outputs": [],
   "source": [
    "def train(params,dtr,dvl):\n",
    "    print(params)\n",
    "    best_params, tuning_history = dict(), list()\n",
    "#     evals_result = {}\n",
    "    evallist = [(dtr, 'train'), (dvl, 'eval')]\n",
    "    bst = lgb.train(params=params, \n",
    "                    train_set=dtr, \n",
    "                    valid_sets=[dtr, dvl],\n",
    "                    best_params=best_params,\n",
    "                    tuning_history=tuning_history,\n",
    "                    verbose_eval=100,\n",
    "                    early_stopping_rounds=100,\n",
    "#                     num_boost_round=10,#1000, \n",
    "#                     evals_result=evals_result, \n",
    "#                     verbose_eval=5,\n",
    "#                     early_stopping_rounds=5\n",
    "                   )\n",
    "                    \n",
    "    return bst,best_params,tuning_history\n",
    "\n",
    "def valid(bst,dftr,dfvl):\n",
    "#     prdtr = bst.predict(dtr, ntree_limit=bst.best_ntree_limit)\n",
    "#     prdvl = bst.predict(dvl, ntree_limit=bst.best_ntree_limit)\n",
    "    prdtr = bst.predict(dftr[cols_feat],num_iteration=bst.best_iteration)\n",
    "    prdvl = bst.predict(dfvl[cols_feat],num_iteration=bst.best_iteration)\n",
    "    return prdtr,prdvl\n",
    "\n",
    "def do_tgt(tgt):\n",
    "    params=tgt2params[tgt]\n",
    "    tgtcol=tgt2col[tgt]\n",
    "    dftrvl, pops=getdftrvl(tgt)\n",
    "    split=int(len(dftrvl)*0.85)\n",
    "    dftr,dfvl=dftrvl[:split],dftrvl[split:]\n",
    "    dtr = lgb.Dataset(dftr[cols_feat], label=dftr[tgtcol])\n",
    "    dvl = lgb.Dataset(dfvl[cols_feat], label=dfvl[tgtcol])\n",
    "    bst,best_params,tuning_history=train(params,dtr,dvl)\n",
    "    prdtr,prdvl=valid(bst,dftr,dfvl)\n",
    "    \n",
    "    tgt2bst[tgt]=bst\n",
    "#     tgt2evalres[tgt]=evals_result\n",
    "    tgt2best_params[tgt]=best_params\n",
    "    tgt2tuning_history[tgt]=tuning_history\n",
    "    tgt2ytr[tgt]=dftr[tgtcol]\n",
    "    tgt2yvl[tgt]=dfvl[tgtcol]\n",
    "    tgt2pops[tgt]=pops\n",
    "    tgt2prdtr[tgt]=prdtr\n",
    "    tgt2prdvl[tgt]=prdvl\n"
   ]
  },
  {
   "cell_type": "code",
   "execution_count": null,
   "metadata": {
    "scrolled": false
   },
   "outputs": [
    {
     "name": "stdout",
     "output_type": "stream",
     "text": [
      "2020-03-24 15:26:18 Retweet ********************************************************************************\n",
      "Retweet\n",
      "n_pos_wanted 100000\n",
      "2020-03-24 15:26:33 chunk 1\n",
      "dftrvl.shape: (1000000, 95) dftrvl[tgtcol].mean(): 0.112823\n",
      "{'train_pop': 1000000, 'target_pop': 112823, 'sampled_train_pop': 1000000, 'sampled_target_pop': 112823}\n",
      "{'objective': 'binary', 'metric': 'binary_logloss', 'verbosity': 1, 'boosting_type': 'gbdt', 'num_threads': 24}\n"
     ]
    },
    {
     "name": "stderr",
     "output_type": "stream",
     "text": [
      "/data/anaconda3/envs/rcss20/lib/python3.7/site-packages/optuna/_experimental.py:87: ExperimentalWarning: train is experimental (supported from v0.18.0). The interface can change in the future.\n",
      "  ExperimentalWarning\n",
      "tune_feature_fraction, val_score: inf:   0%|          | 0/7 [00:00<?, ?it/s]"
     ]
    },
    {
     "name": "stdout",
     "output_type": "stream",
     "text": [
      "Training until validation scores don't improve for 100 rounds\n",
      "[100]\ttraining's binary_logloss: 0.308382\tvalid_1's binary_logloss: 0.312946\n",
      "[200]\ttraining's binary_logloss: 0.304776\tvalid_1's binary_logloss: 0.311525\n",
      "[300]\ttraining's binary_logloss: 0.302052\tvalid_1's binary_logloss: 0.31087\n",
      "[400]\ttraining's binary_logloss: 0.299484\tvalid_1's binary_logloss: 0.310288\n",
      "[500]\ttraining's binary_logloss: 0.297041\tvalid_1's binary_logloss: 0.309966\n",
      "[600]\ttraining's binary_logloss: 0.294918\tvalid_1's binary_logloss: 0.309778\n",
      "[700]\ttraining's binary_logloss: 0.2928\tvalid_1's binary_logloss: 0.309567\n",
      "[800]\ttraining's binary_logloss: 0.290734\tvalid_1's binary_logloss: 0.309357\n",
      "[900]\ttraining's binary_logloss: 0.288699\tvalid_1's binary_logloss: 0.309233\n",
      "[1000]\ttraining's binary_logloss: 0.286642\tvalid_1's binary_logloss: 0.309119\n",
      "Did not meet early stopping. Best iteration is:\n",
      "[1000]\ttraining's binary_logloss: 0.286642\tvalid_1's binary_logloss: 0.309119\n"
     ]
    },
    {
     "name": "stderr",
     "output_type": "stream",
     "text": [
      "tune_feature_fraction, val_score: 0.309119:  14%|#4        | 1/7 [00:30<03:04, 30.76s/it][I 2020-03-24 15:27:14,545] Finished trial#0 resulted in value: 0.3091189006821297. Current best value is 0.3091189006821297 with parameters: {'feature_fraction': 0.4}.\n",
      "tune_feature_fraction, val_score: 0.309119:  14%|#4        | 1/7 [00:30<03:04, 30.76s/it]"
     ]
    },
    {
     "name": "stdout",
     "output_type": "stream",
     "text": [
      "Training until validation scores don't improve for 100 rounds\n",
      "[100]\ttraining's binary_logloss: 0.308072\tvalid_1's binary_logloss: 0.312927\n",
      "[200]\ttraining's binary_logloss: 0.304543\tvalid_1's binary_logloss: 0.311647\n",
      "[300]\ttraining's binary_logloss: 0.301535\tvalid_1's binary_logloss: 0.310928\n",
      "[400]\ttraining's binary_logloss: 0.299027\tvalid_1's binary_logloss: 0.310518\n",
      "[500]\ttraining's binary_logloss: 0.296589\tvalid_1's binary_logloss: 0.310157\n",
      "[600]\ttraining's binary_logloss: 0.294195\tvalid_1's binary_logloss: 0.309818\n",
      "[700]\ttraining's binary_logloss: 0.291755\tvalid_1's binary_logloss: 0.309531\n",
      "[800]\ttraining's binary_logloss: 0.28947\tvalid_1's binary_logloss: 0.309284\n",
      "[900]\ttraining's binary_logloss: 0.287328\tvalid_1's binary_logloss: 0.309139\n",
      "[1000]\ttraining's binary_logloss: 0.285401\tvalid_1's binary_logloss: 0.309104\n",
      "Did not meet early stopping. Best iteration is:\n",
      "[1000]\ttraining's binary_logloss: 0.285401\tvalid_1's binary_logloss: 0.309104\n"
     ]
    },
    {
     "name": "stderr",
     "output_type": "stream",
     "text": [
      "tune_feature_fraction, val_score: 0.309104:  29%|##8       | 2/7 [00:55<02:24, 28.81s/it][I 2020-03-24 15:27:38,837] Finished trial#1 resulted in value: 0.3091035310730227. Current best value is 0.3091035310730227 with parameters: {'feature_fraction': 0.5}.\n",
      "tune_feature_fraction, val_score: 0.309104:  29%|##8       | 2/7 [00:55<02:24, 28.81s/it]"
     ]
    },
    {
     "name": "stdout",
     "output_type": "stream",
     "text": [
      "Training until validation scores don't improve for 100 rounds\n",
      "[100]\ttraining's binary_logloss: 0.308\tvalid_1's binary_logloss: 0.313147\n",
      "[200]\ttraining's binary_logloss: 0.304243\tvalid_1's binary_logloss: 0.311899\n",
      "[300]\ttraining's binary_logloss: 0.300987\tvalid_1's binary_logloss: 0.310983\n",
      "[400]\ttraining's binary_logloss: 0.298355\tvalid_1's binary_logloss: 0.310489\n",
      "[500]\ttraining's binary_logloss: 0.296033\tvalid_1's binary_logloss: 0.310261\n",
      "[600]\ttraining's binary_logloss: 0.293538\tvalid_1's binary_logloss: 0.309937\n",
      "[700]\ttraining's binary_logloss: 0.291186\tvalid_1's binary_logloss: 0.309723\n",
      "[800]\ttraining's binary_logloss: 0.288864\tvalid_1's binary_logloss: 0.309513\n",
      "[900]\ttraining's binary_logloss: 0.286765\tvalid_1's binary_logloss: 0.309413\n",
      "Early stopping, best iteration is:\n",
      "[877]\ttraining's binary_logloss: 0.28717\tvalid_1's binary_logloss: 0.30938\n"
     ]
    },
    {
     "name": "stderr",
     "output_type": "stream",
     "text": [
      "tune_feature_fraction, val_score: 0.309104:  43%|####2     | 3/7 [01:19<01:50, 27.55s/it][I 2020-03-24 15:28:03,620] Finished trial#2 resulted in value: 0.3093804565773021. Current best value is 0.3091035310730227 with parameters: {'feature_fraction': 0.5}.\n",
      "tune_feature_fraction, val_score: 0.309104:  43%|####2     | 3/7 [01:19<01:50, 27.55s/it]"
     ]
    },
    {
     "name": "stdout",
     "output_type": "stream",
     "text": [
      "Training until validation scores don't improve for 100 rounds\n",
      "[100]\ttraining's binary_logloss: 0.30787\tvalid_1's binary_logloss: 0.312962\n",
      "[200]\ttraining's binary_logloss: 0.303991\tvalid_1's binary_logloss: 0.311655\n",
      "[300]\ttraining's binary_logloss: 0.300795\tvalid_1's binary_logloss: 0.310871\n",
      "[400]\ttraining's binary_logloss: 0.298062\tvalid_1's binary_logloss: 0.310401\n",
      "[500]\ttraining's binary_logloss: 0.295509\tvalid_1's binary_logloss: 0.310121\n",
      "[600]\ttraining's binary_logloss: 0.29299\tvalid_1's binary_logloss: 0.309874\n",
      "[700]\ttraining's binary_logloss: 0.290517\tvalid_1's binary_logloss: 0.309681\n",
      "[800]\ttraining's binary_logloss: 0.288259\tvalid_1's binary_logloss: 0.309587\n",
      "[900]\ttraining's binary_logloss: 0.285843\tvalid_1's binary_logloss: 0.309402\n",
      "[1000]\ttraining's binary_logloss: 0.283556\tvalid_1's binary_logloss: 0.3093\n",
      "Did not meet early stopping. Best iteration is:\n",
      "[1000]\ttraining's binary_logloss: 0.283556\tvalid_1's binary_logloss: 0.3093\n"
     ]
    },
    {
     "name": "stderr",
     "output_type": "stream",
     "text": [
      "tune_feature_fraction, val_score: 0.309104:  57%|#####7    | 4/7 [01:45<01:21, 27.11s/it][I 2020-03-24 15:28:29,461] Finished trial#3 resulted in value: 0.3093000393071964. Current best value is 0.3091035310730227 with parameters: {'feature_fraction': 0.5}.\n",
      "tune_feature_fraction, val_score: 0.309104:  57%|#####7    | 4/7 [01:45<01:21, 27.11s/it]"
     ]
    },
    {
     "name": "stdout",
     "output_type": "stream",
     "text": [
      "Training until validation scores don't improve for 100 rounds\n",
      "[100]\ttraining's binary_logloss: 0.307727\tvalid_1's binary_logloss: 0.312789\n",
      "[200]\ttraining's binary_logloss: 0.303662\tvalid_1's binary_logloss: 0.311283\n",
      "[300]\ttraining's binary_logloss: 0.300749\tvalid_1's binary_logloss: 0.3108\n",
      "[400]\ttraining's binary_logloss: 0.297886\tvalid_1's binary_logloss: 0.310396\n",
      "[500]\ttraining's binary_logloss: 0.295239\tvalid_1's binary_logloss: 0.310076\n",
      "[600]\ttraining's binary_logloss: 0.292718\tvalid_1's binary_logloss: 0.309881\n",
      "[700]\ttraining's binary_logloss: 0.290105\tvalid_1's binary_logloss: 0.309698\n",
      "[800]\ttraining's binary_logloss: 0.28758\tvalid_1's binary_logloss: 0.309455\n",
      "[900]\ttraining's binary_logloss: 0.285279\tvalid_1's binary_logloss: 0.309382\n",
      "[1000]\ttraining's binary_logloss: 0.283087\tvalid_1's binary_logloss: 0.309391\n",
      "Did not meet early stopping. Best iteration is:\n",
      "[1000]\ttraining's binary_logloss: 0.283087\tvalid_1's binary_logloss: 0.309391\n"
     ]
    },
    {
     "name": "stderr",
     "output_type": "stream",
     "text": [
      "tune_feature_fraction, val_score: 0.309104:  71%|#######1  | 5/7 [02:12<00:53, 26.92s/it][I 2020-03-24 15:28:55,955] Finished trial#4 resulted in value: 0.30939101429340377. Current best value is 0.3091035310730227 with parameters: {'feature_fraction': 0.5}.\n",
      "tune_feature_fraction, val_score: 0.309104:  71%|#######1  | 5/7 [02:12<00:53, 26.92s/it]"
     ]
    },
    {
     "name": "stdout",
     "output_type": "stream",
     "text": [
      "Training until validation scores don't improve for 100 rounds\n",
      "[100]\ttraining's binary_logloss: 0.30754\tvalid_1's binary_logloss: 0.312882\n",
      "[200]\ttraining's binary_logloss: 0.303616\tvalid_1's binary_logloss: 0.311689\n",
      "[300]\ttraining's binary_logloss: 0.30051\tvalid_1's binary_logloss: 0.311088\n",
      "[400]\ttraining's binary_logloss: 0.297604\tvalid_1's binary_logloss: 0.310631\n",
      "[500]\ttraining's binary_logloss: 0.29498\tvalid_1's binary_logloss: 0.310414\n",
      "[600]\ttraining's binary_logloss: 0.292318\tvalid_1's binary_logloss: 0.310215\n",
      "[700]\ttraining's binary_logloss: 0.289805\tvalid_1's binary_logloss: 0.310036\n",
      "[800]\ttraining's binary_logloss: 0.287336\tvalid_1's binary_logloss: 0.309853\n",
      "[900]\ttraining's binary_logloss: 0.284997\tvalid_1's binary_logloss: 0.309751\n",
      "[1000]\ttraining's binary_logloss: 0.282621\tvalid_1's binary_logloss: 0.30961\n",
      "Did not meet early stopping. Best iteration is:\n",
      "[1000]\ttraining's binary_logloss: 0.282621\tvalid_1's binary_logloss: 0.30961\n"
     ]
    },
    {
     "name": "stderr",
     "output_type": "stream",
     "text": [
      "tune_feature_fraction, val_score: 0.309104:  86%|########5 | 6/7 [02:38<00:26, 26.78s/it][I 2020-03-24 15:29:22,411] Finished trial#5 resulted in value: 0.30961023541940697. Current best value is 0.3091035310730227 with parameters: {'feature_fraction': 0.5}.\n",
      "tune_feature_fraction, val_score: 0.309104:  86%|########5 | 6/7 [02:38<00:26, 26.78s/it]"
     ]
    },
    {
     "name": "stdout",
     "output_type": "stream",
     "text": [
      "Training until validation scores don't improve for 100 rounds\n",
      "[100]\ttraining's binary_logloss: 0.30765\tvalid_1's binary_logloss: 0.313016\n",
      "[200]\ttraining's binary_logloss: 0.303491\tvalid_1's binary_logloss: 0.311605\n",
      "[300]\ttraining's binary_logloss: 0.300335\tvalid_1's binary_logloss: 0.311069\n",
      "[400]\ttraining's binary_logloss: 0.297524\tvalid_1's binary_logloss: 0.310657\n",
      "[500]\ttraining's binary_logloss: 0.294634\tvalid_1's binary_logloss: 0.310441\n",
      "[600]\ttraining's binary_logloss: 0.29187\tvalid_1's binary_logloss: 0.310162\n",
      "[700]\ttraining's binary_logloss: 0.289274\tvalid_1's binary_logloss: 0.310002\n",
      "[800]\ttraining's binary_logloss: 0.286778\tvalid_1's binary_logloss: 0.309756\n",
      "[900]\ttraining's binary_logloss: 0.284587\tvalid_1's binary_logloss: 0.309685\n",
      "[1000]\ttraining's binary_logloss: 0.282207\tvalid_1's binary_logloss: 0.309563\n",
      "Did not meet early stopping. Best iteration is:\n",
      "[1000]\ttraining's binary_logloss: 0.282207\tvalid_1's binary_logloss: 0.309563\n"
     ]
    },
    {
     "name": "stderr",
     "output_type": "stream",
     "text": [
      "tune_feature_fraction, val_score: 0.309104: 100%|##########| 7/7 [03:06<00:00, 26.96s/it][I 2020-03-24 15:29:49,748] Finished trial#6 resulted in value: 0.3095627597862829. Current best value is 0.3091035310730227 with parameters: {'feature_fraction': 0.5}.\n",
      "tune_feature_fraction, val_score: 0.309104: 100%|##########| 7/7 [03:06<00:00, 26.59s/it]\n",
      "tune_num_leaves, val_score: 0.309104:   0%|          | 0/20 [00:00<?, ?it/s]"
     ]
    },
    {
     "name": "stdout",
     "output_type": "stream",
     "text": [
      "Training until validation scores don't improve for 100 rounds\n",
      "[100]\ttraining's binary_logloss: 0.285684\tvalid_1's binary_logloss: 0.308997\n",
      "[200]\ttraining's binary_logloss: 0.270314\tvalid_1's binary_logloss: 0.308545\n",
      "[300]\ttraining's binary_logloss: 0.256866\tvalid_1's binary_logloss: 0.308554\n",
      "Early stopping, best iteration is:\n",
      "[210]\ttraining's binary_logloss: 0.268814\tvalid_1's binary_logloss: 0.308486\n"
     ]
    },
    {
     "name": "stderr",
     "output_type": "stream",
     "text": [
      "tune_num_leaves, val_score: 0.308486:   5%|5         | 1/20 [00:14<04:38, 14.64s/it][I 2020-03-24 15:30:04,538] Finished trial#0 resulted in value: 0.3084857271471038. Current best value is 0.3084857271471038 with parameters: {'num_leaves': 250}.\n",
      "tune_num_leaves, val_score: 0.308486:   5%|5         | 1/20 [00:14<04:38, 14.64s/it]"
     ]
    },
    {
     "name": "stdout",
     "output_type": "stream",
     "text": [
      "Training until validation scores don't improve for 100 rounds\n",
      "[100]\ttraining's binary_logloss: 0.290059\tvalid_1's binary_logloss: 0.309123\n",
      "[200]\ttraining's binary_logloss: 0.276909\tvalid_1's binary_logloss: 0.308602\n",
      "[300]\ttraining's binary_logloss: 0.265629\tvalid_1's binary_logloss: 0.308515\n",
      "[400]\ttraining's binary_logloss: 0.255459\tvalid_1's binary_logloss: 0.308609\n",
      "Early stopping, best iteration is:\n",
      "[351]\ttraining's binary_logloss: 0.260379\tvalid_1's binary_logloss: 0.308447\n"
     ]
    },
    {
     "name": "stderr",
     "output_type": "stream",
     "text": [
      "tune_num_leaves, val_score: 0.308447:  10%|#         | 2/20 [00:32<04:43, 15.75s/it][I 2020-03-24 15:30:22,849] Finished trial#1 resulted in value: 0.30844710166990097. Current best value is 0.30844710166990097 with parameters: {'num_leaves': 198}.\n",
      "tune_num_leaves, val_score: 0.308447:  10%|#         | 2/20 [00:33<04:43, 15.75s/it]"
     ]
    },
    {
     "name": "stdout",
     "output_type": "stream",
     "text": [
      "Training until validation scores don't improve for 100 rounds\n",
      "[100]\ttraining's binary_logloss: 0.289402\tvalid_1's binary_logloss: 0.309202\n",
      "[200]\ttraining's binary_logloss: 0.275765\tvalid_1's binary_logloss: 0.308884\n",
      "Early stopping, best iteration is:\n",
      "[156]\ttraining's binary_logloss: 0.281545\tvalid_1's binary_logloss: 0.308764\n"
     ]
    },
    {
     "name": "stderr",
     "output_type": "stream",
     "text": [
      "tune_num_leaves, val_score: 0.308447:  15%|#5        | 3/20 [00:44<04:08, 14.62s/it][I 2020-03-24 15:30:34,810] Finished trial#2 resulted in value: 0.3087637882648469. Current best value is 0.30844710166990097 with parameters: {'num_leaves': 198}.\n",
      "tune_num_leaves, val_score: 0.308447:  15%|#5        | 3/20 [00:45<04:08, 14.62s/it]"
     ]
    },
    {
     "name": "stdout",
     "output_type": "stream",
     "text": [
      "Training until validation scores don't improve for 100 rounds\n",
      "[100]\ttraining's binary_logloss: 0.309829\tvalid_1's binary_logloss: 0.314036\n",
      "[200]\ttraining's binary_logloss: 0.306869\tvalid_1's binary_logloss: 0.312764\n",
      "[300]\ttraining's binary_logloss: 0.304346\tvalid_1's binary_logloss: 0.311773\n",
      "[400]\ttraining's binary_logloss: 0.302327\tvalid_1's binary_logloss: 0.311225\n",
      "[500]\ttraining's binary_logloss: 0.300302\tvalid_1's binary_logloss: 0.31073\n",
      "[600]\ttraining's binary_logloss: 0.298368\tvalid_1's binary_logloss: 0.310381\n",
      "[700]\ttraining's binary_logloss: 0.296678\tvalid_1's binary_logloss: 0.310058\n",
      "[800]\ttraining's binary_logloss: 0.294991\tvalid_1's binary_logloss: 0.309815\n",
      "[900]\ttraining's binary_logloss: 0.29338\tvalid_1's binary_logloss: 0.309545\n",
      "[1000]\ttraining's binary_logloss: 0.291849\tvalid_1's binary_logloss: 0.309392\n",
      "Did not meet early stopping. Best iteration is:\n",
      "[1000]\ttraining's binary_logloss: 0.291849\tvalid_1's binary_logloss: 0.309392\n"
     ]
    },
    {
     "name": "stderr",
     "output_type": "stream",
     "text": [
      "tune_num_leaves, val_score: 0.308447:  20%|##        | 4/20 [01:08<04:34, 17.16s/it][I 2020-03-24 15:30:57,924] Finished trial#3 resulted in value: 0.30939224660465325. Current best value is 0.30844710166990097 with parameters: {'num_leaves': 198}.\n",
      "tune_num_leaves, val_score: 0.308447:  20%|##        | 4/20 [01:08<04:34, 17.16s/it]"
     ]
    },
    {
     "name": "stdout",
     "output_type": "stream",
     "text": [
      "Training until validation scores don't improve for 100 rounds\n",
      "[100]\ttraining's binary_logloss: 0.304572\tvalid_1's binary_logloss: 0.31145\n",
      "[200]\ttraining's binary_logloss: 0.299262\tvalid_1's binary_logloss: 0.310322\n",
      "[300]\ttraining's binary_logloss: 0.29502\tvalid_1's binary_logloss: 0.309928\n",
      "[400]\ttraining's binary_logloss: 0.291046\tvalid_1's binary_logloss: 0.30948\n",
      "[500]\ttraining's binary_logloss: 0.287228\tvalid_1's binary_logloss: 0.309302\n",
      "[600]\ttraining's binary_logloss: 0.283469\tvalid_1's binary_logloss: 0.309033\n",
      "[700]\ttraining's binary_logloss: 0.280095\tvalid_1's binary_logloss: 0.308899\n",
      "[800]\ttraining's binary_logloss: 0.276804\tvalid_1's binary_logloss: 0.308874\n",
      "Early stopping, best iteration is:\n",
      "[727]\ttraining's binary_logloss: 0.279207\tvalid_1's binary_logloss: 0.308851\n"
     ]
    },
    {
     "name": "stderr",
     "output_type": "stream",
     "text": [
      "tune_num_leaves, val_score: 0.308447:  25%|##5       | 5/20 [01:30<04:39, 18.65s/it][I 2020-03-24 15:31:20,068] Finished trial#4 resulted in value: 0.30885138495510517. Current best value is 0.30844710166990097 with parameters: {'num_leaves': 198}.\n",
      "tune_num_leaves, val_score: 0.308447:  25%|##5       | 5/20 [01:30<04:39, 18.65s/it]"
     ]
    },
    {
     "name": "stdout",
     "output_type": "stream",
     "text": [
      "Training until validation scores don't improve for 100 rounds\n",
      "[100]\ttraining's binary_logloss: 0.31176\tvalid_1's binary_logloss: 0.315431\n",
      "[200]\ttraining's binary_logloss: 0.308942\tvalid_1's binary_logloss: 0.313629\n",
      "[300]\ttraining's binary_logloss: 0.306992\tvalid_1's binary_logloss: 0.31263\n",
      "[400]\ttraining's binary_logloss: 0.30553\tvalid_1's binary_logloss: 0.312192\n",
      "[500]\ttraining's binary_logloss: 0.30407\tvalid_1's binary_logloss: 0.311771\n",
      "[600]\ttraining's binary_logloss: 0.302556\tvalid_1's binary_logloss: 0.31126\n",
      "[700]\ttraining's binary_logloss: 0.301312\tvalid_1's binary_logloss: 0.310921\n",
      "[800]\ttraining's binary_logloss: 0.30014\tvalid_1's binary_logloss: 0.310703\n",
      "[900]\ttraining's binary_logloss: 0.298973\tvalid_1's binary_logloss: 0.310467\n",
      "[1000]\ttraining's binary_logloss: 0.297857\tvalid_1's binary_logloss: 0.310278\n",
      "Did not meet early stopping. Best iteration is:\n",
      "[1000]\ttraining's binary_logloss: 0.297857\tvalid_1's binary_logloss: 0.310278\n"
     ]
    },
    {
     "name": "stderr",
     "output_type": "stream",
     "text": [
      "tune_num_leaves, val_score: 0.308447:  30%|###       | 6/20 [01:52<04:35, 19.71s/it][I 2020-03-24 15:31:42,228] Finished trial#5 resulted in value: 0.3102779294622831. Current best value is 0.30844710166990097 with parameters: {'num_leaves': 198}.\n",
      "tune_num_leaves, val_score: 0.308447:  30%|###       | 6/20 [01:52<04:35, 19.71s/it]"
     ]
    },
    {
     "name": "stdout",
     "output_type": "stream",
     "text": [
      "Training until validation scores don't improve for 100 rounds\n",
      "[100]\ttraining's binary_logloss: 0.294906\tvalid_1's binary_logloss: 0.309578\n",
      "[200]\ttraining's binary_logloss: 0.283982\tvalid_1's binary_logloss: 0.308721\n",
      "[300]\ttraining's binary_logloss: 0.275054\tvalid_1's binary_logloss: 0.308452\n",
      "[400]\ttraining's binary_logloss: 0.267274\tvalid_1's binary_logloss: 0.3085\n",
      "Early stopping, best iteration is:\n",
      "[331]\ttraining's binary_logloss: 0.272633\tvalid_1's binary_logloss: 0.308403\n"
     ]
    },
    {
     "name": "stderr",
     "output_type": "stream",
     "text": [
      "tune_num_leaves, val_score: 0.308403:  35%|###5      | 7/20 [02:08<04:02, 18.62s/it][I 2020-03-24 15:31:58,299] Finished trial#6 resulted in value: 0.3084033951611068. Current best value is 0.3084033951611068 with parameters: {'num_leaves': 146}.\n",
      "tune_num_leaves, val_score: 0.308403:  35%|###5      | 7/20 [02:08<04:02, 18.62s/it]"
     ]
    },
    {
     "name": "stdout",
     "output_type": "stream",
     "text": [
      "Training until validation scores don't improve for 100 rounds\n",
      "[100]\ttraining's binary_logloss: 0.293497\tvalid_1's binary_logloss: 0.309704\n",
      "[200]\ttraining's binary_logloss: 0.282127\tvalid_1's binary_logloss: 0.309151\n",
      "[300]\ttraining's binary_logloss: 0.272407\tvalid_1's binary_logloss: 0.309065\n",
      "[400]\ttraining's binary_logloss: 0.263697\tvalid_1's binary_logloss: 0.308888\n",
      "[500]\ttraining's binary_logloss: 0.255822\tvalid_1's binary_logloss: 0.309041\n",
      "Early stopping, best iteration is:\n",
      "[422]\ttraining's binary_logloss: 0.26171\tvalid_1's binary_logloss: 0.308878\n"
     ]
    },
    {
     "name": "stderr",
     "output_type": "stream",
     "text": [
      "tune_num_leaves, val_score: 0.308403:  40%|####      | 8/20 [02:27<03:46, 18.84s/it][I 2020-03-24 15:32:17,638] Finished trial#7 resulted in value: 0.30887782238790584. Current best value is 0.3084033951611068 with parameters: {'num_leaves': 146}.\n",
      "tune_num_leaves, val_score: 0.308403:  40%|####      | 8/20 [02:27<03:46, 18.84s/it]"
     ]
    },
    {
     "name": "stdout",
     "output_type": "stream",
     "text": [
      "Training until validation scores don't improve for 100 rounds\n",
      "[100]\ttraining's binary_logloss: 0.292136\tvalid_1's binary_logloss: 0.309358\n",
      "[200]\ttraining's binary_logloss: 0.280193\tvalid_1's binary_logloss: 0.308908\n",
      "[300]\ttraining's binary_logloss: 0.269498\tvalid_1's binary_logloss: 0.308893\n",
      "Early stopping, best iteration is:\n",
      "[213]\ttraining's binary_logloss: 0.278549\tvalid_1's binary_logloss: 0.308805\n"
     ]
    },
    {
     "name": "stderr",
     "output_type": "stream",
     "text": [
      "tune_num_leaves, val_score: 0.308403:  45%|####5     | 9/20 [02:40<03:08, 17.14s/it][I 2020-03-24 15:32:30,854] Finished trial#8 resulted in value: 0.30880456672174034. Current best value is 0.3084033951611068 with parameters: {'num_leaves': 146}.\n",
      "tune_num_leaves, val_score: 0.308403:  45%|####5     | 9/20 [02:41<03:08, 17.14s/it]"
     ]
    },
    {
     "name": "stdout",
     "output_type": "stream",
     "text": [
      "Training until validation scores don't improve for 100 rounds\n",
      "[100]\ttraining's binary_logloss: 0.294047\tvalid_1's binary_logloss: 0.309338\n",
      "[200]\ttraining's binary_logloss: 0.283139\tvalid_1's binary_logloss: 0.308836\n",
      "[300]\ttraining's binary_logloss: 0.273896\tvalid_1's binary_logloss: 0.308771\n",
      "[400]\ttraining's binary_logloss: 0.265479\tvalid_1's binary_logloss: 0.308801\n",
      "Early stopping, best iteration is:\n",
      "[309]\ttraining's binary_logloss: 0.273144\tvalid_1's binary_logloss: 0.308754\n"
     ]
    },
    {
     "name": "stderr",
     "output_type": "stream",
     "text": [
      "tune_num_leaves, val_score: 0.308403:  50%|#####     | 10/20 [02:56<02:46, 16.67s/it][I 2020-03-24 15:32:46,386] Finished trial#9 resulted in value: 0.30875372261281736. Current best value is 0.3084033951611068 with parameters: {'num_leaves': 146}.\n",
      "tune_num_leaves, val_score: 0.308403:  50%|#####     | 10/20 [02:56<02:46, 16.67s/it]"
     ]
    },
    {
     "name": "stdout",
     "output_type": "stream",
     "text": [
      "Training until validation scores don't improve for 100 rounds\n",
      "[100]\ttraining's binary_logloss: 0.299648\tvalid_1's binary_logloss: 0.310111\n",
      "[200]\ttraining's binary_logloss: 0.291469\tvalid_1's binary_logloss: 0.30932\n",
      "[300]\ttraining's binary_logloss: 0.284475\tvalid_1's binary_logloss: 0.308748\n",
      "[400]\ttraining's binary_logloss: 0.278472\tvalid_1's binary_logloss: 0.308523\n",
      "[500]\ttraining's binary_logloss: 0.272544\tvalid_1's binary_logloss: 0.308336\n",
      "Early stopping, best iteration is:\n",
      "[479]\ttraining's binary_logloss: 0.273645\tvalid_1's binary_logloss: 0.308314\n"
     ]
    },
    {
     "name": "stderr",
     "output_type": "stream",
     "text": [
      "tune_num_leaves, val_score: 0.308314:  55%|#####5    | 11/20 [03:15<02:35, 17.23s/it][I 2020-03-24 15:33:04,925] Finished trial#10 resulted in value: 0.3083143170242334. Current best value is 0.3083143170242334 with parameters: {'num_leaves': 98}.\n",
      "tune_num_leaves, val_score: 0.308314:  55%|#####5    | 11/20 [03:15<02:35, 17.23s/it]"
     ]
    },
    {
     "name": "stdout",
     "output_type": "stream",
     "text": [
      "Training until validation scores don't improve for 100 rounds\n",
      "[100]\ttraining's binary_logloss: 0.300605\tvalid_1's binary_logloss: 0.310237\n",
      "[200]\ttraining's binary_logloss: 0.293168\tvalid_1's binary_logloss: 0.309535\n",
      "[300]\ttraining's binary_logloss: 0.286863\tvalid_1's binary_logloss: 0.30927\n",
      "[400]\ttraining's binary_logloss: 0.281444\tvalid_1's binary_logloss: 0.309149\n",
      "Early stopping, best iteration is:\n",
      "[383]\ttraining's binary_logloss: 0.282254\tvalid_1's binary_logloss: 0.309103\n"
     ]
    },
    {
     "name": "stderr",
     "output_type": "stream",
     "text": [
      "tune_num_leaves, val_score: 0.308314:  60%|######    | 12/20 [03:30<02:13, 16.73s/it][I 2020-03-24 15:33:20,502] Finished trial#11 resulted in value: 0.30910327972950796. Current best value is 0.3083143170242334 with parameters: {'num_leaves': 98}.\n",
      "tune_num_leaves, val_score: 0.308314:  60%|######    | 12/20 [03:30<02:13, 16.73s/it]"
     ]
    },
    {
     "name": "stdout",
     "output_type": "stream",
     "text": [
      "Training until validation scores don't improve for 100 rounds\n",
      "[100]\ttraining's binary_logloss: 0.300703\tvalid_1's binary_logloss: 0.310127\n",
      "[200]\ttraining's binary_logloss: 0.29346\tvalid_1's binary_logloss: 0.309443\n",
      "[300]\ttraining's binary_logloss: 0.287417\tvalid_1's binary_logloss: 0.309019\n",
      "[400]\ttraining's binary_logloss: 0.282143\tvalid_1's binary_logloss: 0.308822\n",
      "[500]\ttraining's binary_logloss: 0.276977\tvalid_1's binary_logloss: 0.308684\n",
      "[600]\ttraining's binary_logloss: 0.272025\tvalid_1's binary_logloss: 0.308646\n",
      "[700]\ttraining's binary_logloss: 0.267445\tvalid_1's binary_logloss: 0.308587\n",
      "[800]\ttraining's binary_logloss: 0.262825\tvalid_1's binary_logloss: 0.308647\n",
      "Early stopping, best iteration is:\n",
      "[719]\ttraining's binary_logloss: 0.266552\tvalid_1's binary_logloss: 0.308554\n"
     ]
    },
    {
     "name": "stderr",
     "output_type": "stream",
     "text": [
      "tune_num_leaves, val_score: 0.308314:  65%|######5   | 13/20 [03:54<02:12, 19.00s/it][I 2020-03-24 15:33:44,783] Finished trial#12 resulted in value: 0.3085538193672746. Current best value is 0.3083143170242334 with parameters: {'num_leaves': 98}.\n",
      "tune_num_leaves, val_score: 0.308314:  65%|######5   | 13/20 [03:55<02:12, 19.00s/it]"
     ]
    },
    {
     "name": "stdout",
     "output_type": "stream",
     "text": [
      "Training until validation scores don't improve for 100 rounds\n",
      "[100]\ttraining's binary_logloss: 0.297866\tvalid_1's binary_logloss: 0.309894\n",
      "[200]\ttraining's binary_logloss: 0.288904\tvalid_1's binary_logloss: 0.309127\n",
      "[300]\ttraining's binary_logloss: 0.281301\tvalid_1's binary_logloss: 0.308756\n",
      "[400]\ttraining's binary_logloss: 0.274548\tvalid_1's binary_logloss: 0.308626\n",
      "Early stopping, best iteration is:\n",
      "[398]\ttraining's binary_logloss: 0.274647\tvalid_1's binary_logloss: 0.308611\n"
     ]
    },
    {
     "name": "stderr",
     "output_type": "stream",
     "text": [
      "tune_num_leaves, val_score: 0.308314:  70%|#######   | 14/20 [04:12<01:50, 18.48s/it][I 2020-03-24 15:34:02,048] Finished trial#13 resulted in value: 0.30861121682347054. Current best value is 0.3083143170242334 with parameters: {'num_leaves': 98}.\n",
      "tune_num_leaves, val_score: 0.308314:  70%|#######   | 14/20 [04:12<01:50, 18.48s/it]"
     ]
    },
    {
     "name": "stdout",
     "output_type": "stream",
     "text": [
      "Training until validation scores don't improve for 100 rounds\n",
      "[100]\ttraining's binary_logloss: 0.296945\tvalid_1's binary_logloss: 0.309706\n",
      "[200]\ttraining's binary_logloss: 0.287502\tvalid_1's binary_logloss: 0.309001\n",
      "[300]\ttraining's binary_logloss: 0.279377\tvalid_1's binary_logloss: 0.30887\n",
      "[400]\ttraining's binary_logloss: 0.27213\tvalid_1's binary_logloss: 0.3087\n",
      "[500]\ttraining's binary_logloss: 0.265636\tvalid_1's binary_logloss: 0.308827\n",
      "Early stopping, best iteration is:\n",
      "[402]\ttraining's binary_logloss: 0.271952\tvalid_1's binary_logloss: 0.308673\n"
     ]
    },
    {
     "name": "stderr",
     "output_type": "stream",
     "text": [
      "tune_num_leaves, val_score: 0.308314:  75%|#######5  | 15/20 [04:29<01:31, 18.24s/it][I 2020-03-24 15:34:19,713] Finished trial#14 resulted in value: 0.3086725097639875. Current best value is 0.3083143170242334 with parameters: {'num_leaves': 98}.\n",
      "tune_num_leaves, val_score: 0.308314:  75%|#######5  | 15/20 [04:29<01:31, 18.24s/it]"
     ]
    },
    {
     "name": "stdout",
     "output_type": "stream",
     "text": [
      "Training until validation scores don't improve for 100 rounds\n",
      "[100]\ttraining's binary_logloss: 0.30336\tvalid_1's binary_logloss: 0.310991\n",
      "[200]\ttraining's binary_logloss: 0.297445\tvalid_1's binary_logloss: 0.309992\n",
      "[300]\ttraining's binary_logloss: 0.292277\tvalid_1's binary_logloss: 0.309355\n",
      "[400]\ttraining's binary_logloss: 0.287901\tvalid_1's binary_logloss: 0.309101\n",
      "[500]\ttraining's binary_logloss: 0.283641\tvalid_1's binary_logloss: 0.308893\n",
      "[600]\ttraining's binary_logloss: 0.279553\tvalid_1's binary_logloss: 0.308792\n",
      "[700]\ttraining's binary_logloss: 0.275814\tvalid_1's binary_logloss: 0.3087\n",
      "[800]\ttraining's binary_logloss: 0.272076\tvalid_1's binary_logloss: 0.308699\n",
      "Early stopping, best iteration is:\n",
      "[716]\ttraining's binary_logloss: 0.275169\tvalid_1's binary_logloss: 0.308636\n"
     ]
    },
    {
     "name": "stderr",
     "output_type": "stream",
     "text": [
      "tune_num_leaves, val_score: 0.308314:  80%|########  | 16/20 [04:52<01:18, 19.57s/it][I 2020-03-24 15:34:42,432] Finished trial#15 resulted in value: 0.30863609227643424. Current best value is 0.3083143170242334 with parameters: {'num_leaves': 98}.\n",
      "tune_num_leaves, val_score: 0.308314:  80%|########  | 16/20 [04:52<01:18, 19.57s/it]"
     ]
    },
    {
     "name": "stdout",
     "output_type": "stream",
     "text": [
      "Training until validation scores don't improve for 100 rounds\n",
      "[100]\ttraining's binary_logloss: 0.295451\tvalid_1's binary_logloss: 0.309428\n",
      "[200]\ttraining's binary_logloss: 0.285199\tvalid_1's binary_logloss: 0.308733\n",
      "[300]\ttraining's binary_logloss: 0.276165\tvalid_1's binary_logloss: 0.308371\n",
      "[400]\ttraining's binary_logloss: 0.268503\tvalid_1's binary_logloss: 0.308288\n",
      "Early stopping, best iteration is:\n",
      "[391]\ttraining's binary_logloss: 0.269078\tvalid_1's binary_logloss: 0.30826\n"
     ]
    },
    {
     "name": "stderr",
     "output_type": "stream",
     "text": [
      "tune_num_leaves, val_score: 0.308260:  85%|########5 | 17/20 [05:10<00:57, 19.06s/it][I 2020-03-24 15:35:00,275] Finished trial#16 resulted in value: 0.3082597706839931. Current best value is 0.3082597706839931 with parameters: {'num_leaves': 140}.\n",
      "tune_num_leaves, val_score: 0.308260:  85%|########5 | 17/20 [05:10<00:57, 19.06s/it]"
     ]
    },
    {
     "name": "stdout",
     "output_type": "stream",
     "text": [
      "Training until validation scores don't improve for 100 rounds\n",
      "[100]\ttraining's binary_logloss: 0.299842\tvalid_1's binary_logloss: 0.310257\n",
      "[200]\ttraining's binary_logloss: 0.291897\tvalid_1's binary_logloss: 0.309421\n",
      "[300]\ttraining's binary_logloss: 0.285344\tvalid_1's binary_logloss: 0.309071\n",
      "[400]\ttraining's binary_logloss: 0.27961\tvalid_1's binary_logloss: 0.308866\n",
      "[500]\ttraining's binary_logloss: 0.273918\tvalid_1's binary_logloss: 0.308682\n",
      "[600]\ttraining's binary_logloss: 0.268509\tvalid_1's binary_logloss: 0.308593\n",
      "[700]\ttraining's binary_logloss: 0.263576\tvalid_1's binary_logloss: 0.308619\n",
      "Early stopping, best iteration is:\n",
      "[628]\ttraining's binary_logloss: 0.266954\tvalid_1's binary_logloss: 0.308508\n"
     ]
    },
    {
     "name": "stderr",
     "output_type": "stream",
     "text": [
      "tune_num_leaves, val_score: 0.308260:  90%|######### | 18/20 [05:32<00:40, 20.02s/it][I 2020-03-24 15:35:22,544] Finished trial#17 resulted in value: 0.30850794633222733. Current best value is 0.3082597706839931 with parameters: {'num_leaves': 140}.\n",
      "tune_num_leaves, val_score: 0.308260:  90%|######### | 18/20 [05:32<00:40, 20.02s/it]"
     ]
    },
    {
     "name": "stdout",
     "output_type": "stream",
     "text": [
      "Training until validation scores don't improve for 100 rounds\n",
      "[100]\ttraining's binary_logloss: 0.305349\tvalid_1's binary_logloss: 0.311659\n",
      "[200]\ttraining's binary_logloss: 0.30058\tvalid_1's binary_logloss: 0.310643\n",
      "[300]\ttraining's binary_logloss: 0.29639\tvalid_1's binary_logloss: 0.310029\n",
      "[400]\ttraining's binary_logloss: 0.292974\tvalid_1's binary_logloss: 0.309651\n",
      "[500]\ttraining's binary_logloss: 0.289229\tvalid_1's binary_logloss: 0.309318\n",
      "[600]\ttraining's binary_logloss: 0.285954\tvalid_1's binary_logloss: 0.309147\n",
      "[700]\ttraining's binary_logloss: 0.282791\tvalid_1's binary_logloss: 0.30903\n",
      "[800]\ttraining's binary_logloss: 0.27982\tvalid_1's binary_logloss: 0.308884\n",
      "[900]\ttraining's binary_logloss: 0.276732\tvalid_1's binary_logloss: 0.308847\n",
      "[1000]\ttraining's binary_logloss: 0.273784\tvalid_1's binary_logloss: 0.308688\n",
      "Did not meet early stopping. Best iteration is:\n",
      "[1000]\ttraining's binary_logloss: 0.273784\tvalid_1's binary_logloss: 0.308688\n"
     ]
    },
    {
     "name": "stderr",
     "output_type": "stream",
     "text": [
      "tune_num_leaves, val_score: 0.308260:  95%|#########5| 19/20 [05:58<00:21, 21.78s/it][I 2020-03-24 15:35:48,473] Finished trial#18 resulted in value: 0.3086882661853655. Current best value is 0.3082597706839931 with parameters: {'num_leaves': 140}.\n",
      "tune_num_leaves, val_score: 0.308260:  95%|#########5| 19/20 [05:58<00:21, 21.78s/it]"
     ]
    },
    {
     "name": "stdout",
     "output_type": "stream",
     "text": [
      "Training until validation scores don't improve for 100 rounds\n",
      "[100]\ttraining's binary_logloss: 0.287896\tvalid_1's binary_logloss: 0.309146\n",
      "[200]\ttraining's binary_logloss: 0.272871\tvalid_1's binary_logloss: 0.3086\n",
      "[300]\ttraining's binary_logloss: 0.260323\tvalid_1's binary_logloss: 0.308781\n",
      "Early stopping, best iteration is:\n",
      "[200]\ttraining's binary_logloss: 0.272871\tvalid_1's binary_logloss: 0.3086\n"
     ]
    },
    {
     "name": "stderr",
     "output_type": "stream",
     "text": [
      "tune_num_leaves, val_score: 0.308260: 100%|##########| 20/20 [06:12<00:00, 19.49s/it][I 2020-03-24 15:36:02,583] Finished trial#19 resulted in value: 0.3085996308052984. Current best value is 0.3082597706839931 with parameters: {'num_leaves': 140}.\n",
      "tune_num_leaves, val_score: 0.308260: 100%|##########| 20/20 [06:12<00:00, 18.64s/it]\n",
      "tune_bagging_fraction_and_bagging_freq, val_score: 0.308260:   0%|          | 0/10 [00:00<?, ?it/s]"
     ]
    },
    {
     "name": "stdout",
     "output_type": "stream",
     "text": [
      "Training until validation scores don't improve for 100 rounds\n",
      "[100]\ttraining's binary_logloss: 0.295965\tvalid_1's binary_logloss: 0.311015\n",
      "[200]\ttraining's binary_logloss: 0.2846\tvalid_1's binary_logloss: 0.310723\n",
      "Early stopping, best iteration is:\n",
      "[157]\ttraining's binary_logloss: 0.289311\tvalid_1's binary_logloss: 0.310621\n"
     ]
    },
    {
     "name": "stderr",
     "output_type": "stream",
     "text": [
      "tune_bagging_fraction_and_bagging_freq, val_score: 0.308260:  10%|#         | 1/10 [00:09<01:28,  9.86s/it][I 2020-03-24 15:36:12,589] Finished trial#0 resulted in value: 0.31062066408534733. Current best value is 0.31062066408534733 with parameters: {'bagging_fraction': 0.5051358548990146, 'bagging_freq': 3}.\n",
      "tune_bagging_fraction_and_bagging_freq, val_score: 0.308260:  10%|#         | 1/10 [00:09<01:28,  9.86s/it]"
     ]
    },
    {
     "name": "stdout",
     "output_type": "stream",
     "text": [
      "Training until validation scores don't improve for 100 rounds\n",
      "[100]\ttraining's binary_logloss: 0.295909\tvalid_1's binary_logloss: 0.310554\n",
      "[200]\ttraining's binary_logloss: 0.284768\tvalid_1's binary_logloss: 0.310399\n",
      "[300]\ttraining's binary_logloss: 0.274839\tvalid_1's binary_logloss: 0.310545\n",
      "Early stopping, best iteration is:\n",
      "[214]\ttraining's binary_logloss: 0.283318\tvalid_1's binary_logloss: 0.310279\n"
     ]
    },
    {
     "name": "stderr",
     "output_type": "stream",
     "text": [
      "tune_bagging_fraction_and_bagging_freq, val_score: 0.308260:  20%|##        | 2/10 [00:21<01:23, 10.38s/it][I 2020-03-24 15:36:24,189] Finished trial#1 resulted in value: 0.31027879246310097. Current best value is 0.31027879246310097 with parameters: {'bagging_fraction': 0.5030860536799232, 'bagging_freq': 5}.\n",
      "tune_bagging_fraction_and_bagging_freq, val_score: 0.308260:  20%|##        | 2/10 [00:21<01:23, 10.38s/it]"
     ]
    },
    {
     "name": "stdout",
     "output_type": "stream",
     "text": [
      "Training until validation scores don't improve for 100 rounds\n",
      "[100]\ttraining's binary_logloss: 0.295395\tvalid_1's binary_logloss: 0.309909\n",
      "[200]\ttraining's binary_logloss: 0.284399\tvalid_1's binary_logloss: 0.309257\n",
      "[300]\ttraining's binary_logloss: 0.274847\tvalid_1's binary_logloss: 0.309146\n",
      "[400]\ttraining's binary_logloss: 0.266226\tvalid_1's binary_logloss: 0.309078\n",
      "[500]\ttraining's binary_logloss: 0.258138\tvalid_1's binary_logloss: 0.309075\n",
      "Early stopping, best iteration is:\n",
      "[410]\ttraining's binary_logloss: 0.265305\tvalid_1's binary_logloss: 0.308999\n"
     ]
    },
    {
     "name": "stderr",
     "output_type": "stream",
     "text": [
      "tune_bagging_fraction_and_bagging_freq, val_score: 0.308260:  30%|###       | 3/10 [00:42<01:35, 13.70s/it][I 2020-03-24 15:36:45,648] Finished trial#2 resulted in value: 0.3089988896868557. Current best value is 0.3089988896868557 with parameters: {'bagging_fraction': 0.866437536385389, 'bagging_freq': 2}.\n",
      "tune_bagging_fraction_and_bagging_freq, val_score: 0.308260:  30%|###       | 3/10 [00:43<01:35, 13.70s/it]"
     ]
    },
    {
     "name": "stdout",
     "output_type": "stream",
     "text": [
      "Training until validation scores don't improve for 100 rounds\n",
      "[100]\ttraining's binary_logloss: 0.295474\tvalid_1's binary_logloss: 0.309971\n",
      "[200]\ttraining's binary_logloss: 0.28436\tvalid_1's binary_logloss: 0.309225\n",
      "[300]\ttraining's binary_logloss: 0.274671\tvalid_1's binary_logloss: 0.308742\n",
      "[400]\ttraining's binary_logloss: 0.265948\tvalid_1's binary_logloss: 0.308675\n",
      "Early stopping, best iteration is:\n",
      "[351]\ttraining's binary_logloss: 0.270019\tvalid_1's binary_logloss: 0.308651\n"
     ]
    },
    {
     "name": "stderr",
     "output_type": "stream",
     "text": [
      "tune_bagging_fraction_and_bagging_freq, val_score: 0.308260:  40%|####      | 4/10 [01:21<02:06, 21.10s/it][I 2020-03-24 15:37:24,031] Finished trial#3 resulted in value: 0.3086509059347968. Current best value is 0.3086509059347968 with parameters: {'bagging_fraction': 0.7820016403144447, 'bagging_freq': 1}.\n",
      "tune_bagging_fraction_and_bagging_freq, val_score: 0.308260:  40%|####      | 4/10 [01:21<02:06, 21.10s/it]"
     ]
    },
    {
     "name": "stdout",
     "output_type": "stream",
     "text": [
      "Training until validation scores don't improve for 100 rounds\n",
      "[100]\ttraining's binary_logloss: 0.295694\tvalid_1's binary_logloss: 0.31029\n",
      "[200]\ttraining's binary_logloss: 0.28458\tvalid_1's binary_logloss: 0.309854\n",
      "Early stopping, best iteration is:\n",
      "[168]\ttraining's binary_logloss: 0.287807\tvalid_1's binary_logloss: 0.309725\n"
     ]
    },
    {
     "name": "stderr",
     "output_type": "stream",
     "text": [
      "tune_bagging_fraction_and_bagging_freq, val_score: 0.308260:  50%|#####     | 5/10 [01:42<01:46, 21.27s/it][I 2020-03-24 15:37:45,677] Finished trial#4 resulted in value: 0.3097247075666903. Current best value is 0.3086509059347968 with parameters: {'bagging_fraction': 0.7820016403144447, 'bagging_freq': 1}.\n",
      "tune_bagging_fraction_and_bagging_freq, val_score: 0.308260:  50%|#####     | 5/10 [01:43<01:46, 21.27s/it]"
     ]
    },
    {
     "name": "stdout",
     "output_type": "stream",
     "text": [
      "Training until validation scores don't improve for 100 rounds\n",
      "[100]\ttraining's binary_logloss: 0.296229\tvalid_1's binary_logloss: 0.310993\n"
     ]
    }
   ],
   "source": [
    "params_shared = {\n",
    "    \"objective\": \"binary\",\n",
    "    \"metric\": \"binary_logloss\",\n",
    "    \"verbosity\": 1,\n",
    "    \"boosting_type\": \"gbdt\",\n",
    "    \"num_threads\": 24,\n",
    "}\n",
    "tgt2params = {k:params_shared for k in tgts}\n",
    "\n",
    "tgt2bst={}\n",
    "tgt2best_params={}\n",
    "tgt2tuning_history={}\n",
    "tgt2ytr={}\n",
    "tgt2yvl={}\n",
    "tgt2prdtr={}\n",
    "tgt2prdvl={}\n",
    "tgt2pops={}\n",
    "for tgt in tgts:\n",
    "    print(dtnow(), tgt, '*'*80)\n",
    "    do_tgt(tgt)\n",
    "    \n",
    "pickle.dump(tgt2bst, open(f\"{p_out}/tgt2bst.p\", \"wb\"))"
   ]
  },
  {
   "cell_type": "markdown",
   "metadata": {},
   "source": [
    "# analyze"
   ]
  },
  {
   "cell_type": "markdown",
   "metadata": {},
   "source": [
    "## tr vl"
   ]
  },
  {
   "cell_type": "raw",
   "metadata": {
    "scrolled": false
   },
   "source": [
    "for tgt in tgt2evalres:\n",
    "    evalres=tgt2evalres[tgt]\n",
    "    plt.plot(evalres['train']['logloss'][10:])\n",
    "    plt.plot(evalres['eval']['logloss'][10:])\n",
    "    plt.title(f\"{tgt} logloss {len(evalres['train']['logloss'])} rounds\")\n",
    "    plt.show()\n",
    "    plt.plot(evalres['train']['aucpr'])\n",
    "    plt.plot(evalres['eval']['aucpr'])\n",
    "    plt.title(f\"{tgt} aucpr {len(evalres['train']['aucpr'])} rounds\")\n",
    "    plt.show()"
   ]
  },
  {
   "cell_type": "raw",
   "metadata": {
    "scrolled": false
   },
   "source": [
    "def show_feat_importance(tgt):\n",
    "    bst=tgt2bst[tgt]\n",
    "    ax = xgb.plot_importance(bst, height=0.8, max_num_features=9)\n",
    "    ax.grid(False, axis=\"y\")\n",
    "    ax.set_title(f'{tgt} Estimated feature importance')\n",
    "    plt.show()\n",
    "    feat2importance=bst.get_fscore()\n",
    "    print(tgt)\n",
    "    display(pd.DataFrame([feat2importance.keys(), \n",
    "                          feat2importance.values()]).T.sort_values(1, ascending=False))\n",
    "\n",
    "for tgt in tgt2bst:\n",
    "    show_feat_importance(tgt)"
   ]
  },
  {
   "cell_type": "code",
   "execution_count": null,
   "metadata": {},
   "outputs": [],
   "source": [
    "tgt2auc_tr={}\n",
    "tgt2rce_tr={}\n",
    "tgt2auc_vl={}\n",
    "tgt2rce_vl={}\n",
    "for tgt in tgt2bst:\n",
    "    print(tgt)\n",
    "    prdtr_i, prdvl_i = tgt2prdtr[tgt], tgt2prdvl[tgt]\n",
    "    ytr_i, yvl_i = tgt2ytr[tgt], tgt2yvl[tgt]\n",
    "    scr_auc_tr=compute_prauc(prdtr_i, ytr_i)\n",
    "    scr_rce_tr=compute_rce(prdtr_i, ytr_i)\n",
    "    scr_auc_vl=compute_prauc(prdvl_i, yvl_i)\n",
    "    scr_rce_vl=compute_rce(prdvl_i, yvl_i)\n",
    "\n",
    "    tgt2auc_tr[tgt]=scr_auc_tr\n",
    "    tgt2rce_tr[tgt]=scr_rce_tr\n",
    "    tgt2auc_vl[tgt]=scr_auc_vl\n",
    "    tgt2rce_vl[tgt]=scr_rce_vl\n",
    "    \n",
    "    print('tr prauc:', f'{scr_auc_tr:.4f}','tr rce:', f'{scr_rce_tr:.4f}', )\n",
    "    print('vl prauc:', f'{scr_auc_vl:.4f}','vl rce:', f'{scr_rce_vl:.4f}', )"
   ]
  },
  {
   "cell_type": "code",
   "execution_count": null,
   "metadata": {},
   "outputs": [],
   "source": [
    "lsttr=[]\n",
    "lstvl=[]\n",
    "for tgt in ['Retweet','Reply','Like','RTwCmnt',]:\n",
    "    if tgt not in tgt2bst: continue\n",
    "    lsttr+=[(f'PRAUC {tgt}',tgt2auc_tr[tgt]),\n",
    "          (f'RCE {tgt}',tgt2rce_tr[tgt])]\n",
    "    lstvl+=[(f'PRAUC {tgt}',tgt2auc_vl[tgt]),\n",
    "          (f'RCE {tgt}',tgt2rce_vl[tgt])]\n",
    "\n",
    "dfscrtr=pd.DataFrame(lsttr)\n",
    "dfscrtr.columns=['metric','scr']\n",
    "dfscrvl=pd.DataFrame(lstvl)\n",
    "dfscrvl.columns=['metric','scr']\n",
    "dfscr = pd.merge(dfscrtr, dfscrvl, on='metric', suffixes=('tr','vl'))\n",
    "dfscr.T"
   ]
  },
  {
   "cell_type": "markdown",
   "metadata": {},
   "source": [
    "## valid"
   ]
  },
  {
   "cell_type": "code",
   "execution_count": null,
   "metadata": {},
   "outputs": [],
   "source": [
    "# tgt=tgts[1]\n",
    "# tgtcol=tgt2col[tgt]\n",
    "# bst=tgt2bst[tgt]\n",
    "\n",
    "# dvalid=xgb.DMatrix(dfvalid[cols_feat], label=dfvalid[tgtcol], feature_names=cols_feat)\n",
    "\n",
    "# prdvalid = bst.predict(dvalid, ntree_limit=bst.best_ntree_limit)\n",
    "\n",
    "# pops=tgt2pops[tgt]\n",
    "\n",
    "# prdvalid[:10]\n",
    "# # array([0.11734424, 0.09971393, 0.05619054, 0.03059793, 0.07979691,\n",
    "# #        0.01358252, 0.05293725, 0.27954698, 0.05738379, 0.01741553],\n",
    "# #       dtype=float32)\n",
    "\n",
    "\n",
    "# pops\n",
    "# # {'train_pop': 4000000,\n",
    "# #  'target_pop': 109752,\n",
    "# #  'sampled_train_pop': 1000000,\n",
    "# #  'sampled_target_pop': 109752}\n",
    "\n",
    "# prdvalid_calib = calibration(prdvalid, **pops)\n",
    "\n",
    "# prdvalid_calib[:10]\n",
    "# # array([0.02952491, 0.02471944, 0.01344113, 0.00717127, 0.01945818,\n",
    "# #        0.00314114, 0.0126298 , 0.08155248, 0.01373977, 0.00403964],\n",
    "# #       dtype=float32)"
   ]
  },
  {
   "cell_type": "code",
   "execution_count": null,
   "metadata": {},
   "outputs": [],
   "source": [
    "def do_post_valid(tgt):\n",
    "    tgtcol=tgt2col[tgt]\n",
    "    bst=tgt2bst[tgt]\n",
    "    pops=tgt2pops[tgt]\n",
    "    prdvalid = bst.predict(dfvalid[cols_feat])\n",
    "    prdvalid_calib = calibration(prdvalid, **pops)\n",
    "    return prdvalid,prdvalid_calib"
   ]
  },
  {
   "cell_type": "code",
   "execution_count": null,
   "metadata": {},
   "outputs": [],
   "source": [
    "tgt2yvalid={tgt:dfvalid[tgt2col[tgt]] for tgt in tgts}\n",
    "tgt2prdvalid={}\n",
    "tgt2prdvalid_calib={}\n",
    "for tgt in tgts:\n",
    "    print(dtnow(), tgt)\n",
    "    tgt2prdvalid[tgt],tgt2prdvalid_calib[tgt]=do_post_valid(tgt)\n"
   ]
  },
  {
   "cell_type": "code",
   "execution_count": null,
   "metadata": {},
   "outputs": [],
   "source": [
    "tgt2auc_valid={}\n",
    "tgt2rce_valid={}\n",
    "tgt2auc_valid_calib={}\n",
    "tgt2rce_valid_calib={}\n",
    "for tgt in tgts:\n",
    "    print(dtnow(), tgt)\n",
    "    prdvalid, prdvalid_calib = tgt2prdvalid[tgt], tgt2prdvalid_calib[tgt]\n",
    "    yvalid = tgt2yvalid[tgt]\n",
    "    scr_auc_valid=compute_prauc(prdvalid, yvalid)\n",
    "    scr_rce_valid=compute_rce(prdvalid, yvalid)\n",
    "    scr_auc_valid_calib=compute_prauc(prdvalid_calib, yvalid)\n",
    "    scr_rce_valid_calib=compute_rce(prdvalid_calib, yvalid)\n",
    "\n",
    "    tgt2auc_valid[tgt]=scr_auc_valid\n",
    "    tgt2rce_valid[tgt]=scr_rce_valid\n",
    "    tgt2auc_valid_calib[tgt]=scr_auc_valid_calib\n",
    "    tgt2rce_valid_calib[tgt]=scr_rce_valid_calib"
   ]
  },
  {
   "cell_type": "code",
   "execution_count": null,
   "metadata": {},
   "outputs": [],
   "source": [
    "for tgt in tgts:\n",
    "    print(tgt)\n",
    "    print('tr          prauc:', f'{tgt2auc_tr[tgt]:.4f}','tr rce:', f'{tgt2rce_tr[tgt]:.4f}', )\n",
    "    print('vl          prauc:', f'{tgt2auc_vl[tgt]:.4f}','tr rce:', f'{tgt2rce_vl[tgt]:.4f}', )\n",
    "    print('valid       prauc:', f'{tgt2auc_valid[tgt]:.4f}','tr rce:', f'{tgt2rce_valid[tgt]:.4f}', )\n",
    "    print('valid_calib prauc:', f'{tgt2auc_valid_calib[tgt]:.4f}','tr rce:', f'{tgt2rce_valid_calib[tgt]:.4f}', )\n",
    "    "
   ]
  },
  {
   "cell_type": "code",
   "execution_count": null,
   "metadata": {},
   "outputs": [],
   "source": [
    "lsttr=[]\n",
    "lstvl=[]\n",
    "lstvalid=[]\n",
    "lstvalid_calib=[]\n",
    "for tgt in ['Retweet','Reply','Like','RTwCmnt',]:\n",
    "    if tgt not in tgt2bst: continue\n",
    "    lsttr+=[(f'PRAUC {tgt}',tgt2auc_tr[tgt]),\n",
    "          (f'RCE {tgt}',tgt2rce_tr[tgt])]\n",
    "    lstvl+=[(f'PRAUC {tgt}',tgt2auc_vl[tgt]),\n",
    "          (f'RCE {tgt}',tgt2rce_vl[tgt])]\n",
    "    lstvalid+=[(f'PRAUC {tgt}',tgt2auc_valid[tgt]),\n",
    "          (f'RCE {tgt}',tgt2rce_valid[tgt])]\n",
    "    lstvalid_calib+=[(f'PRAUC {tgt}',tgt2auc_valid_calib[tgt]),\n",
    "          (f'RCE {tgt}',tgt2rce_valid_calib[tgt])]\n",
    "\n",
    "dfscrtr=pd.DataFrame(lsttr)\n",
    "dfscrtr.columns=['metric','scr']\n",
    "dfscrvl=pd.DataFrame(lstvl)\n",
    "dfscrvl.columns=['metric','scr']\n",
    "dfscrvalid=pd.DataFrame(lstvalid)\n",
    "dfscrvalid.columns=['metric','scr']\n",
    "dfscrvalid_calib=pd.DataFrame(lstvalid_calib)\n",
    "dfscrvalid_calib.columns=['metric','scr']\n",
    "\n",
    "dfscr = reduce(lambda df1,df2: pd.merge(df1,df2,on='metric'), \n",
    "            [dfscrtr,dfscrvl,dfscrvalid,dfscrvalid_calib])\n",
    "\n",
    "dfscr.columns=['scr','tr','vl','valid','valid_calib']\n",
    "dfscr.T"
   ]
  },
  {
   "cell_type": "code",
   "execution_count": null,
   "metadata": {},
   "outputs": [],
   "source": []
  },
  {
   "cell_type": "markdown",
   "metadata": {},
   "source": [
    "# infer"
   ]
  },
  {
   "cell_type": "raw",
   "metadata": {},
   "source": [
    "ls -lhS $p_in | grep val"
   ]
  },
  {
   "cell_type": "code",
   "execution_count": null,
   "metadata": {},
   "outputs": [],
   "source": [
    "%%time\n",
    "dftst=pd.read_csv(\n",
    "    f'{p_in}/val_{valtmstmp}.tsv',\n",
    "#     f'{p_in}/val_259A6F6DFD672CB1F883CBEC01B99F2D_1584405047.tsv',\n",
    "    sep='\\x01', header=None, names=cols_val,)\n"
   ]
  },
  {
   "cell_type": "code",
   "execution_count": null,
   "metadata": {
    "scrolled": false
   },
   "outputs": [],
   "source": [
    "%%time\n",
    "dftst = prp_df(dftst, istrn=False)"
   ]
  },
  {
   "cell_type": "code",
   "execution_count": null,
   "metadata": {},
   "outputs": [],
   "source": [
    "%%time\n",
    "dtst = xgb.DMatrix(dftst[cols_feat], feature_names=cols_feat)\n",
    "tgt2prdtst={}\n",
    "for tgt in tgts:\n",
    "    print(dtnow(), tgt)\n",
    "    bst = tgt2bst[tgt]\n",
    "    pops=tgt2pops[tgt]\n",
    "    prdtst = bst.predict(dtst, ntree_limit=bst.best_ntree_limit)\n",
    "    prdtst_calib = calibration(prdtst, **pops)\n",
    "    tgt2prdtst[tgt] = prdtst_calib"
   ]
  },
  {
   "cell_type": "code",
   "execution_count": null,
   "metadata": {},
   "outputs": [],
   "source": [
    "dfsub_ids = dftst[['twtid','u2id',]]\n",
    "\n",
    "tgt2dfsub = {}\n",
    "for tgt,prdtst in tgt2prdtst.items():\n",
    "    dfsub = dfsub_ids.copy()\n",
    "    dfsub['scr'] = prdtst\n",
    "    tgt2dfsub[tgt]=dfsub"
   ]
  },
  {
   "cell_type": "code",
   "execution_count": null,
   "metadata": {},
   "outputs": [],
   "source": [
    "%%time\n",
    "for i,tgt in enumerate(['Retweet','Reply','RTwCmnt','Like',]):\n",
    "    dfsub = tgt2dfsub[tgt]\n",
    "    print(dtnow(), tgt)\n",
    "    dfsub.to_csv(f'{p_out}/{i}_{tgt}__{valtmstmp}__{PRFX}.csv',index=False,header=False)"
   ]
  },
  {
   "cell_type": "code",
   "execution_count": null,
   "metadata": {},
   "outputs": [],
   "source": []
  },
  {
   "cell_type": "code",
   "execution_count": null,
   "metadata": {},
   "outputs": [],
   "source": []
  },
  {
   "cell_type": "code",
   "execution_count": null,
   "metadata": {},
   "outputs": [],
   "source": []
  },
  {
   "cell_type": "code",
   "execution_count": null,
   "metadata": {},
   "outputs": [],
   "source": []
  },
  {
   "cell_type": "code",
   "execution_count": null,
   "metadata": {},
   "outputs": [],
   "source": []
  }
 ],
 "metadata": {
  "kernelspec": {
   "display_name": "rcss20",
   "language": "python",
   "name": "rcss20"
  },
  "language_info": {
   "codemirror_mode": {
    "name": "ipython",
    "version": 3
   },
   "file_extension": ".py",
   "mimetype": "text/x-python",
   "name": "python",
   "nbconvert_exporter": "python",
   "pygments_lexer": "ipython3",
   "version": "3.7.6"
  },
  "toc": {
   "base_numbering": 1,
   "nav_menu": {},
   "number_sections": true,
   "sideBar": true,
   "skip_h1_title": false,
   "title_cell": "Table of Contents",
   "title_sidebar": "Contents",
   "toc_cell": false,
   "toc_position": {},
   "toc_section_display": true,
   "toc_window_display": true
  }
 },
 "nbformat": 4,
 "nbformat_minor": 4
}
