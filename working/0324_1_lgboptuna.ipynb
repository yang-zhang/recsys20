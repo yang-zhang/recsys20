{
 "cells": [
  {
   "cell_type": "markdown",
   "metadata": {},
   "source": [
    "# start"
   ]
  },
  {
   "cell_type": "markdown",
   "metadata": {},
   "source": [
    "- https://medium.com/optuna/lightgbm-tuner-new-optuna-integration-for-hyperparameter-optimization-8b7095e99258\n",
    "- https://github.com/optuna/optuna/blob/master/examples/lightgbm_tuner_simple.py"
   ]
  },
  {
   "cell_type": "code",
   "execution_count": 1,
   "metadata": {},
   "outputs": [
    {
     "name": "stdout",
     "output_type": "stream",
     "text": [
      "['2020-03-17 02:32:24', '2020-03-24 17:09:45']\n",
      "['2020-02-06 00:00:00', '2020-02-13 00:00:00']\n"
     ]
    }
   ],
   "source": [
    "PRFX='0324_1'\n",
    "trntmstmp=1584412344\n",
    "valtmstmp=1585069785\n",
    "import datetime\n",
    "print([datetime.datetime.fromtimestamp(o).strftime('%Y-%m-%d %H:%M:%S') for o in (trntmstmp, valtmstmp)])\n",
    "\n",
    "grand_total=1.5e8\n",
    "MIN_TM_TRN=1580947200\n",
    "MIN_TM_TST=1581552000\n",
    "print([datetime.datetime.fromtimestamp(o).strftime('%Y-%m-%d %H:%M:%S') for o in (MIN_TM_TRN, MIN_TM_TST)])\n",
    "\n",
    "\n",
    "CHNKSZ=1e6\n",
    "POST_RATE_WANTED=0.1"
   ]
  },
  {
   "cell_type": "markdown",
   "metadata": {},
   "source": [
    "# setup"
   ]
  },
  {
   "cell_type": "code",
   "execution_count": 2,
   "metadata": {
    "scrolled": true
   },
   "outputs": [
    {
     "data": {
      "text/plain": [
       "{'Retweet': 'retwt',\n",
       " 'Reply': 'reply',\n",
       " 'Like': 'like',\n",
       " 'RTwCmnt': 'retwt_cmmnt'}"
      ]
     },
     "execution_count": 2,
     "metadata": {},
     "output_type": "execute_result"
    }
   ],
   "source": [
    "from pathlib import Path\n",
    "# import dask\n",
    "# print('dask.__version__', dask.__version__)\n",
    "import xgboost as xgb\n",
    "# import lightgbm as lgb\n",
    "\n",
    "import optuna\n",
    "import optuna.integration.lightgbm as lgb\n",
    "\n",
    "\n",
    "# optuna.logging.CRITICAL, optuna.logging.FATAL\n",
    "# optuna.logging.ERROR\n",
    "# optuna.logging.WARNING, optuna.logging.WARN\n",
    "# optuna.logging.INFO\n",
    "# optuna.logging.DEBUG\n",
    "optuna.logging.set_verbosity(optuna.logging.INFO)\n",
    "\n",
    "\n",
    "# import dask_xgboost\n",
    "# import dask.dataframe as dd\n",
    "from sklearn.model_selection import train_test_split\n",
    "import pandas as pd\n",
    "import numpy as np\n",
    "import matplotlib.pyplot as plt\n",
    "from sklearn.metrics import accuracy_score, roc_auc_score, roc_curve, auc, precision_recall_curve\n",
    "from dask.distributed import Client\n",
    "import pickle\n",
    "from tqdm import tqdm\n",
    "from collections import Counter\n",
    "pd.set_option('display.max_rows', 500)\n",
    "\n",
    "from functools import reduce\n",
    "import datetime\n",
    "def dtnow(): return datetime.datetime.now().strftime('%Y-%m-%d %H:%M:%S')\n",
    "\n",
    "SEED=101\n",
    "HOME='/data/git/recsys20'\n",
    "p_in=f'{HOME}/input'\n",
    "p_out=f'{HOME}/output/{PRFX}'\n",
    "Path(p_out).mkdir(exist_ok=True, parents=True)\n",
    "\n",
    "from sklearn.metrics import precision_recall_curve, auc, log_loss\n",
    "\n",
    "def compute_prauc(pred, gt):\n",
    "    prec, recall, thresh = precision_recall_curve(gt, pred)\n",
    "    prauc = auc(recall, prec)\n",
    "    return prauc\n",
    "\n",
    "def calculate_ctr(gt):\n",
    "    positive = len([x for x in gt if x == 1])\n",
    "    ctr = positive/float(len(gt))\n",
    "    return ctr\n",
    "\n",
    "def compute_rce(pred, gt):\n",
    "    cross_entropy = log_loss(gt, pred)\n",
    "    data_ctr = calculate_ctr(gt)\n",
    "    strawman_cross_entropy = log_loss(gt, [data_ctr for _ in range(len(gt))])\n",
    "    return (1.0 - cross_entropy/strawman_cross_entropy)*100.0\n",
    "\n",
    "# https://towardsdatascience.com/how-to-calibrate-undersampled-model-scores-8f3319c1ea5b\n",
    "# How to use the function?\n",
    "# Let’s say your goal is to generate a model that shows the credit default probabilities and your original \n",
    "# training data has 50,000 rows with only 500 of them labeled as target class. When you sample your non-target \n",
    "# instances randomly and reduce the total row count to 10,000, while conserving 500 target rows, our calibration\n",
    "# function becomes:\n",
    "# calibration(model_results, 50000, 500, 10000, 500)\n",
    "# Here model_results is your model probability output array. After you train your model and put the results in it, your function is ready to use. \n",
    "\n",
    "def calibration(data, train_pop, target_pop, sampled_train_pop, sampled_target_pop):\n",
    "    calibrated_data = \\\n",
    "    ((data * (target_pop / train_pop) / (sampled_target_pop / sampled_train_pop)) /\n",
    "    ((\n",
    "        (1 - data) * (1 - target_pop / train_pop) / (1 - sampled_target_pop / sampled_train_pop)\n",
    "     ) +\n",
    "     (\n",
    "        data * (target_pop / train_pop) / (sampled_target_pop / sampled_train_pop)\n",
    "     )))\n",
    "\n",
    "    return calibrated_data\n",
    "\n",
    "cols=[\n",
    "'toks',\n",
    "'hshtgs',\n",
    "'twtid',\n",
    "'media',\n",
    "'links',\n",
    "'domns',\n",
    "'twttyp',\n",
    "'lang',\n",
    "'tm',\n",
    "\n",
    "'u1id',\n",
    "'u1_fllwer_cnt',\n",
    "'u1_fllwng_cnt',\n",
    "'u1_vrfed',\n",
    "'u1_create_tm',\n",
    "\n",
    "'u2id',\n",
    "'u2_fllwer_cnt',\n",
    "'u2_fllwng_cnt',\n",
    "'u2_vrfed',\n",
    "'u2_create_tm',\n",
    "\n",
    "'u1_fllw_u2',\n",
    "'reply_tm',\n",
    "'retwt_tm',\n",
    "'retwt_cmmnt_tm',\n",
    "'like_tm',\n",
    "]\n",
    "\n",
    "cols_val = cols[:-4]\n",
    "cols_tgt_tmstmp=[\n",
    "    'retwt_tm',\n",
    "    'reply_tm',\n",
    "    'like_tm',\n",
    "    'retwt_cmmnt_tm',\n",
    "]\n",
    "cols_tgt=[o.split('_tm')[0] for o in cols_tgt_tmstmp]\n",
    "tgts             = ['Retweet','Reply','Like','RTwCmnt',]\n",
    "assert cols_tgt == ['retwt',  'reply','like','retwt_cmmnt',]\n",
    "ntgts=len(tgts)\n",
    "\n",
    "tgt2col=dict(zip(tgts,cols_tgt))\n",
    "tgt2col"
   ]
  },
  {
   "cell_type": "markdown",
   "metadata": {},
   "source": [
    "# prepare data"
   ]
  },
  {
   "cell_type": "markdown",
   "metadata": {},
   "source": [
    "## get maps from test set"
   ]
  },
  {
   "cell_type": "code",
   "execution_count": 3,
   "metadata": {},
   "outputs": [],
   "source": [
    "# dfval=dd.read_csv(\n",
    "#     f'{p_in}/val_{valtmstmp}.tsv',\n",
    "#     sep='\\x01', header=None, names=cols_val,)\n",
    "# lang2cnt=dict(dfval.lang.value_counts().compute())\n",
    "# ttl=sum(lang2cnt.values())\n",
    "# lang2perc={k:v/ttl for k,v in lang2cnt.items()}\n",
    "langs=['D3164C7FBCF2565DDF915B1B3AEFB1DC', '22C448FF81263D4BAF2A176145EE9EAD', '06D61DCBBE938971E1EA0C38BD9B5446', 'ECED8A16BE2A5E8871FD55F4842F16B1', 'B9175601E87101A984A50F8A62A1C374', '4DC22C3F31C5C43721E6B5815A595ED6', '167115458A0DBDFF7E9C0C53A83BAC9B', '125C57F4FA6D4E110983FB11B52EFD4E', '022EC308651FACB02794A8147AEE1B78', 'FA3F382BC409C271E3D6EAF8BE4648DD', '9BF3403E0EB7EA8A256DA9019C0B0716', '975B38F44D65EE42A547283787FF5A21', '2996EB2FE8162C076D070A4C8D6532CD', 'FF60A88F53E63000266F8B9149E35AD9', '717293301FE296B0B61950D041485825', '3E16B11B7ADE3A22DDFC4423FBCEAD5D', '3820C29CBCA409A33BADF68852057C4A', '9ECD42BC079C20F156F53CB3B99E600E', '76B8A9C3013AE6414A3E6012413CDC3B', 'AEF22666801F0A5846D853B9CEB2E327', '190BA7DA361BC06BC1D7E824C378064D', '1FFD2FE4297F5E70EBC6C3230D95CB9C', 'A0C7021AD8299ADF0C9EBE326C115F6F', 'D413F5FE5236E5650A46FD983AB39212', '48236EC80FDDDFADE99420ABC9210DDF', '691890251F2B9FF922BE6D3699ABEFD2', '920502FAA080485768AA89BC96A55C47', '0331BF70E606D62D92C96CE9AD71A7CF', '89616CFF8EC8637092F885C7EFF43D74', '06BEAB41D66CCFF329D1ED8BA120A6C2', '60FBA0E834CC59D647C3599AD763FFDF', 'C7A400D9AD489ACF673CF12FBB80AAE5', 'E59EF8BB86A6D815331DDF4C467CE0C7', '4249CE88433AEA3F8DCEECF008B3CB95', '544FA32458C903F1125FE6598300A047', 'CB11E9CF42BD0A1BAD5E27BF3422D99D', '3A85BCEC571C3F5AB1069E4924189177', 'FF7EABB5A382356D54D9C41BA0125E09', 'E7BB61D2A87C1E72DF1C7BC292B86A1C', '69C4A33B9AD29AF883D60BA61CC08702', 'F4FD40A716F1572C9A28E9CAA58BE3A5', '259A6F6DFD672CB1F883CBEC01B99F2D', '6431A618DCF7F4CB7F62A95A39BAB77A', '3121F7240D488F74EEED9312E174B217', '54208B51D44E7D91DC2F3DD02ADEDEC2', 'DBEEFB80F8A314311E2B4BD593E11DFE', 'B6D90127A09AB1229731898AEF9D4D7C', 'F3E1016563360F9434FA986CA86C249C', '2216D01F7B48554E4211021A46816FCF', '1BC639981AE88E09129594B11F894A21', 'C942E369C88CE7C56E69A84D04319FF0', '57ADD4576E2AD6648E9B2DE32F3462A5', 'AC1F0671A4B0D5B8112F87DE7B490E6D', 'C2EF5FABE7619D8A333D5F0FF76E1BFA', 'AA0254541959271ED3453119B787D0C3', 'A6B70CDF8C7B934D4A218CA9B6B7FDB4', 'BF477808A37E3E4E9C5D9F1839E8519E', '97F81BD92A1ACA3F1F43C154E689350F', '60A3DB168094D41241E45E0DE3539BC0', '12D8CEB94F89D11D7EB95EAE9689B009', 'F73266A79468BB89C4325FDEDB0B533C', '4690215948DBF6872B8ED1C2BC87B17E', 'D18801336202297E6484F634CAC6592E', '2E18F6F53E3CF073911AF0A93BBE5373', 'B2235C8B73239FDC5780DD132419833A', '515E873C86EE1577E75FA2387B7FA59E',]\n",
    "\n",
    "# dfval.twttyp.value_counts().compute()\n",
    "# TopLevel    2932\n",
    "# Retweet      994\n",
    "# Quote        213\n",
    "twttyps=['TopLevel','Retweet','Quote']"
   ]
  },
  {
   "cell_type": "markdown",
   "metadata": {},
   "source": [
    "## prep func"
   ]
  },
  {
   "cell_type": "code",
   "execution_count": 4,
   "metadata": {},
   "outputs": [],
   "source": [
    "def prp_df(df, istrn=True):\n",
    "    tm_min = MIN_TM_TRN if istrn else MIN_TM_TST\n",
    "    df['len_toks'] = df.toks.apply(len)\n",
    "    for media in ['Photo', 'Video', 'GIF']:\n",
    "        df[f'has_media_{media}'] = df.media.fillna('').apply(lambda x: media in x)\n",
    "    for col in ['hshtgs', 'links', 'domns',]:\n",
    "        df[f'num_{col}'] = df[col].fillna('').apply(lambda x: len(x.split('\\t')) if len(x) else 0)\n",
    "    \n",
    "    df['twt_age'] = df.tm - tm_min\n",
    "    df['u1_age']  = df.tm - df.u1_create_tm\n",
    "    df['u2_age']  = df.tm - df.u2_create_tm\n",
    "        \n",
    "    tm_dt=pd.to_datetime(df.tm, unit='s')\n",
    "    df['tm_dayofweek']=tm_dt.dt.dayofweek\n",
    "    df['tm_hour']=tm_dt.dt.hour\n",
    "    \n",
    "    df['tmdlta_u2u1']  = df.u2_create_tm - df.u1_create_tm\n",
    "    \n",
    "    df['u1_fllwer_cnt_by_age'] = df.u1_fllwer_cnt / df.u1_age\n",
    "    df['u1_fllwng_cnt_by_age'] = df.u2_fllwng_cnt / df.u2_age\n",
    "    \n",
    "    for typ in twttyps:\n",
    "        df[f'twttyp_{typ}']=(df.twttyp==typ).astype('int8')\n",
    "\n",
    "    for lang in langs:\n",
    "        df[f'lang_{lang}']=(df.lang==lang).astype('int8')\n",
    "    if istrn: \n",
    "        df[cols_tgt]=df[cols_tgt_tmstmp].notna().astype('int8')\n",
    "        df.drop(inplace=True, columns=['toks', 'hshtgs', 'media', 'links', 'domns', 'twttyp', 'lang', \n",
    "                                       'tm', 'u1_create_tm','u2_create_tm', 'u1id', 'u2id', 'twtid', ]+cols_tgt_tmstmp, )\n",
    "    else:\n",
    "        df.drop(inplace=True, columns=['toks', 'hshtgs', 'media', 'links', 'domns', 'twttyp', 'lang', \n",
    "                                       'tm', 'u1_create_tm','u2_create_tm', 'u1id', ])        \n",
    "    return df"
   ]
  },
  {
   "cell_type": "raw",
   "metadata": {
    "scrolled": true
   },
   "source": [
    "ls -hlS $p_in | grep {trntmstmp} "
   ]
  },
  {
   "cell_type": "code",
   "execution_count": 5,
   "metadata": {
    "scrolled": false
   },
   "outputs": [
    {
     "data": {
      "text/plain": [
       "(150000000.0, 150.0)"
      ]
     },
     "execution_count": 5,
     "metadata": {},
     "output_type": "execute_result"
    }
   ],
   "source": [
    "grand_total, grand_total/CHNKSZ"
   ]
  },
  {
   "cell_type": "markdown",
   "metadata": {},
   "source": [
    "## valid data"
   ]
  },
  {
   "cell_type": "code",
   "execution_count": 6,
   "metadata": {},
   "outputs": [
    {
     "name": "stdout",
     "output_type": "stream",
     "text": [
      "2020-03-24 14:58:34 chunk 0\n",
      "['2020-02-06 00:00:00', '2020-02-12 23:59:59']\n"
     ]
    }
   ],
   "source": [
    "chnks_trn = pd.read_csv(f'{p_in}/trn_{trntmstmp}.tsv',sep='\\x01',\n",
    "                    header=None,names=cols, \n",
    "                        chunksize=CHNKSZ)\n",
    "# first chunk as validate data\n",
    "for ichnk,df in enumerate(chnks_trn):\n",
    "    print(dtnow(), 'chunk', ichnk)\n",
    "    print([datetime.datetime.fromtimestamp(o).strftime('%Y-%m-%d %H:%M:%S') \n",
    "           for o in (df.tm.min(), df.tm.max())])\n",
    "    dfvalid = prp_df(df)\n",
    "    break\n",
    "dfvalid.shape\n",
    "\n",
    "cols_feat=[o for o in dfvalid.columns if o not in cols_tgt]\n",
    "\n",
    "# Xvl,yvl=dfvl[cols_feat],dfvl[cols_tgt]"
   ]
  },
  {
   "cell_type": "markdown",
   "metadata": {},
   "source": [
    "## trnval data func"
   ]
  },
  {
   "cell_type": "code",
   "execution_count": 7,
   "metadata": {},
   "outputs": [],
   "source": [
    "def getdftrvl(tgt):\n",
    "    print(tgt)\n",
    "    tgtcol=tgt2col[tgt]\n",
    "    chnks_trn = pd.read_csv(f'{p_in}/trn_{trntmstmp}.tsv',sep='\\x01',\n",
    "                        header=None,names=cols, \n",
    "                            chunksize=CHNKSZ)\n",
    "    len_df_wanted = int(CHNKSZ)\n",
    "    # retwt          0.113031\n",
    "    # reply          0.027488\n",
    "    # like           0.439499\n",
    "    # retwt_cmmnt    0.007742\n",
    "    pos_rate_wanted = POST_RATE_WANTED\n",
    "    n_pos_wanted = int(len_df_wanted*pos_rate_wanted)\n",
    "    print('n_pos_wanted', n_pos_wanted)\n",
    "    np.random.seed(SEED)\n",
    "    lst_df = []\n",
    "    n_pos_ttl = 0\n",
    "    for ichnk,df in enumerate(chnks_trn):\n",
    "        #skip first chunk (it was validate data)\n",
    "        if ichnk==0: continue\n",
    "        print(dtnow(), 'chunk', ichnk)\n",
    "        df = prp_df(df)\n",
    "        n_pos_ttl+= df[tgtcol].sum()\n",
    "        lst_df.append(df)\n",
    "        if n_pos_ttl>=n_pos_wanted: break\n",
    "\n",
    "    df = pd.concat(lst_df)\n",
    "    df.reset_index(drop=True,inplace=True)\n",
    "\n",
    "\n",
    "    # https://stackoverflow.com/questions/28556942/pandas-remove-rows-at-random-without-shuffling-dataset\n",
    "    idx_neg=np.where(df[tgtcol]==0)[0]\n",
    "    n_neg = len(idx_neg)\n",
    "    n_pos = len(df)-len(idx_neg)\n",
    "    n_neg2keep = len_df_wanted-n_pos\n",
    "    n_neg2rmv = n_neg-n_neg2keep\n",
    "    idx_neg2rmv = np.random.choice(idx_neg, n_neg2rmv, replace=False)\n",
    "    dftrvl = df.drop(idx_neg2rmv)\n",
    "    dftrvl = dftrvl.sample(len(dftrvl))\n",
    "    print('dftrvl.shape:',dftrvl.shape,'dftrvl[tgtcol].mean():',dftrvl[tgtcol].mean())\n",
    "\n",
    "    pops={\n",
    "        'train_pop':len(df),\n",
    "        'target_pop':n_pos,\n",
    "        'sampled_train_pop':len_df_wanted,\n",
    "        'sampled_target_pop':n_pos,\n",
    "    }\n",
    "    print(pops)\n",
    "    return dftrvl, pops"
   ]
  },
  {
   "cell_type": "markdown",
   "metadata": {},
   "source": [
    "# model"
   ]
  },
  {
   "cell_type": "code",
   "execution_count": 8,
   "metadata": {},
   "outputs": [],
   "source": [
    "def train(params,dtr,dvl):\n",
    "    print(params)\n",
    "    best_params, tuning_history = dict(), list()\n",
    "#     evals_result = {}\n",
    "    evallist = [(dtr, 'train'), (dvl, 'eval')]\n",
    "    bst = lgb.train(params=params, \n",
    "                    train_set=dtr, \n",
    "                    valid_sets=[dtr, dvl],\n",
    "                    best_params=best_params,\n",
    "                    tuning_history=tuning_history,\n",
    "                    verbose_eval=100,\n",
    "                    early_stopping_rounds=100,\n",
    "#                     num_boost_round=10,#1000, \n",
    "#                     evals_result=evals_result, \n",
    "#                     verbose_eval=5,\n",
    "#                     early_stopping_rounds=5\n",
    "                   )\n",
    "                    \n",
    "    return bst,best_params,tuning_history\n",
    "\n",
    "def valid(bst,dftr,dfvl):\n",
    "#     prdtr = bst.predict(dtr, ntree_limit=bst.best_ntree_limit)\n",
    "#     prdvl = bst.predict(dvl, ntree_limit=bst.best_ntree_limit)\n",
    "    prdtr = bst.predict(dftr[cols_feat],num_iteration=bst.best_iteration)\n",
    "    prdvl = bst.predict(dfvl[cols_feat],num_iteration=bst.best_iteration)\n",
    "    return prdtr,prdvl\n",
    "\n",
    "def do_tgt(tgt):\n",
    "    params=tgt2params[tgt]\n",
    "    tgtcol=tgt2col[tgt]\n",
    "    dftrvl, pops=getdftrvl(tgt)\n",
    "    split=int(len(dftrvl)*0.85)\n",
    "    dftr,dfvl=dftrvl[:split],dftrvl[split:]\n",
    "    dtr = lgb.Dataset(dftr[cols_feat], label=dftr[tgtcol])\n",
    "    dvl = lgb.Dataset(dfvl[cols_feat], label=dfvl[tgtcol])\n",
    "    bst,best_params,tuning_history=train(params,dtr,dvl)\n",
    "    prdtr,prdvl=valid(bst,dftr,dfvl)\n",
    "    \n",
    "    tgt2bst[tgt]=bst\n",
    "#     tgt2evalres[tgt]=evals_result\n",
    "    tgt2best_params[tgt]=best_params\n",
    "    tgt2tuning_history[tgt]=tuning_history\n",
    "    tgt2ytr[tgt]=dftr[tgtcol]\n",
    "    tgt2yvl[tgt]=dfvl[tgtcol]\n",
    "    tgt2pops[tgt]=pops\n",
    "    tgt2prdtr[tgt]=prdtr\n",
    "    tgt2prdvl[tgt]=prdvl\n"
   ]
  },
  {
   "cell_type": "code",
   "execution_count": null,
   "metadata": {
    "scrolled": false
   },
   "outputs": [
    {
     "name": "stdout",
     "output_type": "stream",
     "text": [
      "2020-03-24 14:58:45 Retweet ********************************************************************************\n",
      "Retweet\n",
      "n_pos_wanted 100000\n",
      "2020-03-24 14:58:59 chunk 1\n",
      "dftrvl.shape: (1000000, 95) dftrvl[tgtcol].mean(): 0.112823\n",
      "{'train_pop': 1000000, 'target_pop': 112823, 'sampled_train_pop': 1000000, 'sampled_target_pop': 112823}\n",
      "{'objective': 'binary', 'metric': 'binary_logloss', 'verbosity': 1, 'boosting_type': 'gbdt', 'num_threads': 24}\n"
     ]
    },
    {
     "name": "stderr",
     "output_type": "stream",
     "text": [
      "/data/anaconda3/envs/rcss20/lib/python3.7/site-packages/optuna/_experimental.py:87: ExperimentalWarning: train is experimental (supported from v0.18.0). The interface can change in the future.\n",
      "  ExperimentalWarning\n",
      "tune_feature_fraction, val_score: inf:   0%|          | 0/7 [00:00<?, ?it/s]"
     ]
    },
    {
     "name": "stdout",
     "output_type": "stream",
     "text": [
      "Training until validation scores don't improve for 100 rounds\n",
      "[100]\ttraining's binary_logloss: 0.308382\tvalid_1's binary_logloss: 0.312946\n",
      "[200]\ttraining's binary_logloss: 0.304776\tvalid_1's binary_logloss: 0.311525\n",
      "[300]\ttraining's binary_logloss: 0.302052\tvalid_1's binary_logloss: 0.31087\n",
      "[400]\ttraining's binary_logloss: 0.299484\tvalid_1's binary_logloss: 0.310288\n",
      "[500]\ttraining's binary_logloss: 0.297041\tvalid_1's binary_logloss: 0.309966\n",
      "[600]\ttraining's binary_logloss: 0.294918\tvalid_1's binary_logloss: 0.309778\n",
      "[700]\ttraining's binary_logloss: 0.2928\tvalid_1's binary_logloss: 0.309567\n",
      "[800]\ttraining's binary_logloss: 0.290734\tvalid_1's binary_logloss: 0.309357\n",
      "[900]\ttraining's binary_logloss: 0.288699\tvalid_1's binary_logloss: 0.309233\n",
      "[1000]\ttraining's binary_logloss: 0.286642\tvalid_1's binary_logloss: 0.309119\n",
      "Did not meet early stopping. Best iteration is:\n",
      "[1000]\ttraining's binary_logloss: 0.286642\tvalid_1's binary_logloss: 0.309119\n"
     ]
    },
    {
     "name": "stderr",
     "output_type": "stream",
     "text": [
      "tune_feature_fraction, val_score: 0.309119:  14%|#4        | 1/7 [00:31<03:10, 31.79s/it][I 2020-03-24 14:59:41,667] Finished trial#0 resulted in value: 0.30911890068212977. Current best value is 0.30911890068212977 with parameters: {'feature_fraction': 0.4}.\n",
      "tune_feature_fraction, val_score: 0.309119:  14%|#4        | 1/7 [00:32<03:10, 31.79s/it]"
     ]
    },
    {
     "name": "stdout",
     "output_type": "stream",
     "text": [
      "Training until validation scores don't improve for 100 rounds\n",
      "[100]\ttraining's binary_logloss: 0.308072\tvalid_1's binary_logloss: 0.312927\n",
      "[200]\ttraining's binary_logloss: 0.304543\tvalid_1's binary_logloss: 0.311647\n",
      "[300]\ttraining's binary_logloss: 0.301535\tvalid_1's binary_logloss: 0.310928\n",
      "[400]\ttraining's binary_logloss: 0.299027\tvalid_1's binary_logloss: 0.310518\n",
      "[500]\ttraining's binary_logloss: 0.296589\tvalid_1's binary_logloss: 0.310157\n",
      "[600]\ttraining's binary_logloss: 0.294195\tvalid_1's binary_logloss: 0.309818\n",
      "[700]\ttraining's binary_logloss: 0.291755\tvalid_1's binary_logloss: 0.309531\n",
      "[800]\ttraining's binary_logloss: 0.28947\tvalid_1's binary_logloss: 0.309284\n",
      "[900]\ttraining's binary_logloss: 0.287328\tvalid_1's binary_logloss: 0.309139\n",
      "[1000]\ttraining's binary_logloss: 0.285401\tvalid_1's binary_logloss: 0.309104\n",
      "Did not meet early stopping. Best iteration is:\n",
      "[1000]\ttraining's binary_logloss: 0.285401\tvalid_1's binary_logloss: 0.309104\n"
     ]
    },
    {
     "name": "stderr",
     "output_type": "stream",
     "text": [
      "tune_feature_fraction, val_score: 0.309104:  29%|##8       | 2/7 [00:56<02:28, 29.68s/it][I 2020-03-24 15:00:06,365] Finished trial#1 resulted in value: 0.30910353107302263. Current best value is 0.30910353107302263 with parameters: {'feature_fraction': 0.5}.\n",
      "tune_feature_fraction, val_score: 0.309104:  29%|##8       | 2/7 [00:56<02:28, 29.68s/it]"
     ]
    },
    {
     "name": "stdout",
     "output_type": "stream",
     "text": [
      "Training until validation scores don't improve for 100 rounds\n",
      "[100]\ttraining's binary_logloss: 0.308\tvalid_1's binary_logloss: 0.313147\n",
      "[200]\ttraining's binary_logloss: 0.304243\tvalid_1's binary_logloss: 0.311899\n",
      "[300]\ttraining's binary_logloss: 0.300987\tvalid_1's binary_logloss: 0.310983\n",
      "[400]\ttraining's binary_logloss: 0.298355\tvalid_1's binary_logloss: 0.310489\n",
      "[500]\ttraining's binary_logloss: 0.296033\tvalid_1's binary_logloss: 0.310261\n",
      "[600]\ttraining's binary_logloss: 0.293538\tvalid_1's binary_logloss: 0.309937\n",
      "[700]\ttraining's binary_logloss: 0.291186\tvalid_1's binary_logloss: 0.309723\n",
      "[800]\ttraining's binary_logloss: 0.288864\tvalid_1's binary_logloss: 0.309513\n",
      "[900]\ttraining's binary_logloss: 0.286765\tvalid_1's binary_logloss: 0.309413\n",
      "Early stopping, best iteration is:\n",
      "[877]\ttraining's binary_logloss: 0.28717\tvalid_1's binary_logloss: 0.30938\n"
     ]
    },
    {
     "name": "stderr",
     "output_type": "stream",
     "text": [
      "tune_feature_fraction, val_score: 0.309104:  43%|####2     | 3/7 [01:23<01:54, 28.71s/it][I 2020-03-24 15:00:32,863] Finished trial#2 resulted in value: 0.30938045657730207. Current best value is 0.30910353107302263 with parameters: {'feature_fraction': 0.5}.\n",
      "tune_feature_fraction, val_score: 0.309104:  43%|####2     | 3/7 [01:23<01:54, 28.71s/it]"
     ]
    },
    {
     "name": "stdout",
     "output_type": "stream",
     "text": [
      "Training until validation scores don't improve for 100 rounds\n",
      "[100]\ttraining's binary_logloss: 0.30787\tvalid_1's binary_logloss: 0.312962\n",
      "[200]\ttraining's binary_logloss: 0.303991\tvalid_1's binary_logloss: 0.311655\n",
      "[300]\ttraining's binary_logloss: 0.300795\tvalid_1's binary_logloss: 0.310871\n",
      "[400]\ttraining's binary_logloss: 0.298062\tvalid_1's binary_logloss: 0.310401\n",
      "[500]\ttraining's binary_logloss: 0.295509\tvalid_1's binary_logloss: 0.310121\n",
      "[600]\ttraining's binary_logloss: 0.29299\tvalid_1's binary_logloss: 0.309874\n",
      "[700]\ttraining's binary_logloss: 0.290517\tvalid_1's binary_logloss: 0.309681\n",
      "[800]\ttraining's binary_logloss: 0.288259\tvalid_1's binary_logloss: 0.309587\n",
      "[900]\ttraining's binary_logloss: 0.285843\tvalid_1's binary_logloss: 0.309402\n",
      "[1000]\ttraining's binary_logloss: 0.283556\tvalid_1's binary_logloss: 0.3093\n",
      "Did not meet early stopping. Best iteration is:\n",
      "[1000]\ttraining's binary_logloss: 0.283556\tvalid_1's binary_logloss: 0.3093\n"
     ]
    },
    {
     "name": "stderr",
     "output_type": "stream",
     "text": [
      "tune_feature_fraction, val_score: 0.309104:  57%|#####7    | 4/7 [01:50<01:25, 28.45s/it][I 2020-03-24 15:01:00,515] Finished trial#3 resulted in value: 0.30930003930719646. Current best value is 0.30910353107302263 with parameters: {'feature_fraction': 0.5}.\n",
      "tune_feature_fraction, val_score: 0.309104:  57%|#####7    | 4/7 [01:50<01:25, 28.45s/it]"
     ]
    },
    {
     "name": "stdout",
     "output_type": "stream",
     "text": [
      "Training until validation scores don't improve for 100 rounds\n",
      "[100]\ttraining's binary_logloss: 0.307727\tvalid_1's binary_logloss: 0.312789\n",
      "[200]\ttraining's binary_logloss: 0.303662\tvalid_1's binary_logloss: 0.311283\n",
      "[300]\ttraining's binary_logloss: 0.300749\tvalid_1's binary_logloss: 0.3108\n",
      "[400]\ttraining's binary_logloss: 0.297886\tvalid_1's binary_logloss: 0.310396\n",
      "[500]\ttraining's binary_logloss: 0.295239\tvalid_1's binary_logloss: 0.310076\n",
      "[600]\ttraining's binary_logloss: 0.292718\tvalid_1's binary_logloss: 0.309881\n",
      "[700]\ttraining's binary_logloss: 0.290105\tvalid_1's binary_logloss: 0.309698\n",
      "[800]\ttraining's binary_logloss: 0.28758\tvalid_1's binary_logloss: 0.309455\n",
      "[900]\ttraining's binary_logloss: 0.285279\tvalid_1's binary_logloss: 0.309382\n",
      "[1000]\ttraining's binary_logloss: 0.283087\tvalid_1's binary_logloss: 0.309391\n",
      "Did not meet early stopping. Best iteration is:\n",
      "[1000]\ttraining's binary_logloss: 0.283087\tvalid_1's binary_logloss: 0.309391\n"
     ]
    },
    {
     "name": "stderr",
     "output_type": "stream",
     "text": [
      "tune_feature_fraction, val_score: 0.309104:  71%|#######1  | 5/7 [02:19<00:56, 28.37s/it][I 2020-03-24 15:01:28,693] Finished trial#4 resulted in value: 0.3093910142934038. Current best value is 0.30910353107302263 with parameters: {'feature_fraction': 0.5}.\n",
      "tune_feature_fraction, val_score: 0.309104:  71%|#######1  | 5/7 [02:19<00:56, 28.37s/it]"
     ]
    },
    {
     "name": "stdout",
     "output_type": "stream",
     "text": [
      "Training until validation scores don't improve for 100 rounds\n",
      "[100]\ttraining's binary_logloss: 0.30754\tvalid_1's binary_logloss: 0.312882\n",
      "[200]\ttraining's binary_logloss: 0.303616\tvalid_1's binary_logloss: 0.311689\n",
      "[300]\ttraining's binary_logloss: 0.30051\tvalid_1's binary_logloss: 0.311088\n",
      "[400]\ttraining's binary_logloss: 0.297604\tvalid_1's binary_logloss: 0.310631\n",
      "[500]\ttraining's binary_logloss: 0.29498\tvalid_1's binary_logloss: 0.310414\n",
      "[600]\ttraining's binary_logloss: 0.292318\tvalid_1's binary_logloss: 0.310215\n",
      "[700]\ttraining's binary_logloss: 0.289805\tvalid_1's binary_logloss: 0.310036\n",
      "[800]\ttraining's binary_logloss: 0.287336\tvalid_1's binary_logloss: 0.309853\n",
      "[900]\ttraining's binary_logloss: 0.284997\tvalid_1's binary_logloss: 0.309751\n",
      "[1000]\ttraining's binary_logloss: 0.282621\tvalid_1's binary_logloss: 0.30961\n",
      "Did not meet early stopping. Best iteration is:\n",
      "[1000]\ttraining's binary_logloss: 0.282621\tvalid_1's binary_logloss: 0.30961\n"
     ]
    },
    {
     "name": "stderr",
     "output_type": "stream",
     "text": [
      "tune_feature_fraction, val_score: 0.309104:  86%|########5 | 6/7 [02:47<00:28, 28.29s/it][I 2020-03-24 15:01:56,789] Finished trial#5 resulted in value: 0.3096102354194071. Current best value is 0.30910353107302263 with parameters: {'feature_fraction': 0.5}.\n",
      "tune_feature_fraction, val_score: 0.309104:  86%|########5 | 6/7 [02:47<00:28, 28.29s/it]"
     ]
    },
    {
     "name": "stdout",
     "output_type": "stream",
     "text": [
      "Training until validation scores don't improve for 100 rounds\n",
      "[100]\ttraining's binary_logloss: 0.30765\tvalid_1's binary_logloss: 0.313016\n",
      "[200]\ttraining's binary_logloss: 0.303491\tvalid_1's binary_logloss: 0.311605\n",
      "[300]\ttraining's binary_logloss: 0.300335\tvalid_1's binary_logloss: 0.311069\n",
      "[400]\ttraining's binary_logloss: 0.297524\tvalid_1's binary_logloss: 0.310657\n",
      "[500]\ttraining's binary_logloss: 0.294634\tvalid_1's binary_logloss: 0.310441\n",
      "[600]\ttraining's binary_logloss: 0.29187\tvalid_1's binary_logloss: 0.310162\n",
      "[700]\ttraining's binary_logloss: 0.289274\tvalid_1's binary_logloss: 0.310002\n",
      "[800]\ttraining's binary_logloss: 0.286778\tvalid_1's binary_logloss: 0.309756\n",
      "[900]\ttraining's binary_logloss: 0.284587\tvalid_1's binary_logloss: 0.309685\n",
      "[1000]\ttraining's binary_logloss: 0.282207\tvalid_1's binary_logloss: 0.309563\n",
      "Did not meet early stopping. Best iteration is:\n",
      "[1000]\ttraining's binary_logloss: 0.282207\tvalid_1's binary_logloss: 0.309563\n"
     ]
    },
    {
     "name": "stderr",
     "output_type": "stream",
     "text": [
      "tune_feature_fraction, val_score: 0.309104: 100%|##########| 7/7 [03:15<00:00, 28.23s/it][I 2020-03-24 15:02:24,902] Finished trial#6 resulted in value: 0.30956275978628284. Current best value is 0.30910353107302263 with parameters: {'feature_fraction': 0.5}.\n",
      "tune_feature_fraction, val_score: 0.309104: 100%|##########| 7/7 [03:15<00:00, 27.91s/it]\n",
      "tune_num_leaves, val_score: 0.309104:   0%|          | 0/20 [00:00<?, ?it/s]"
     ]
    },
    {
     "name": "stdout",
     "output_type": "stream",
     "text": [
      "Training until validation scores don't improve for 100 rounds\n",
      "[100]\ttraining's binary_logloss: 0.293837\tvalid_1's binary_logloss: 0.309325\n",
      "[200]\ttraining's binary_logloss: 0.282608\tvalid_1's binary_logloss: 0.308619\n",
      "[300]\ttraining's binary_logloss: 0.273176\tvalid_1's binary_logloss: 0.308415\n",
      "[400]\ttraining's binary_logloss: 0.264495\tvalid_1's binary_logloss: 0.30843\n",
      "Early stopping, best iteration is:\n",
      "[331]\ttraining's binary_logloss: 0.270511\tvalid_1's binary_logloss: 0.308351\n"
     ]
    },
    {
     "name": "stderr",
     "output_type": "stream",
     "text": [
      "tune_num_leaves, val_score: 0.308351:   5%|5         | 1/20 [00:17<05:27, 17.22s/it][I 2020-03-24 15:02:42,263] Finished trial#0 resulted in value: 0.3083509792469735. Current best value is 0.3083509792469735 with parameters: {'num_leaves': 157}.\n",
      "tune_num_leaves, val_score: 0.308351:   5%|5         | 1/20 [00:17<05:27, 17.22s/it]"
     ]
    },
    {
     "name": "stdout",
     "output_type": "stream",
     "text": [
      "Training until validation scores don't improve for 100 rounds\n",
      "[100]\ttraining's binary_logloss: 0.301465\tvalid_1's binary_logloss: 0.310486\n",
      "[200]\ttraining's binary_logloss: 0.294525\tvalid_1's binary_logloss: 0.309627\n",
      "[300]\ttraining's binary_logloss: 0.288721\tvalid_1's binary_logloss: 0.309277\n",
      "[400]\ttraining's binary_logloss: 0.283547\tvalid_1's binary_logloss: 0.309064\n",
      "[500]\ttraining's binary_logloss: 0.278911\tvalid_1's binary_logloss: 0.308956\n",
      "[600]\ttraining's binary_logloss: 0.274009\tvalid_1's binary_logloss: 0.308919\n",
      "[700]\ttraining's binary_logloss: 0.269404\tvalid_1's binary_logloss: 0.308901\n",
      "Early stopping, best iteration is:\n",
      "[693]\ttraining's binary_logloss: 0.269682\tvalid_1's binary_logloss: 0.308879\n"
     ]
    },
    {
     "name": "stderr",
     "output_type": "stream",
     "text": [
      "tune_num_leaves, val_score: 0.308351:  10%|#         | 2/20 [00:40<05:43, 19.10s/it][I 2020-03-24 15:03:05,711] Finished trial#1 resulted in value: 0.30887908434828304. Current best value is 0.3083509792469735 with parameters: {'num_leaves': 157}.\n",
      "tune_num_leaves, val_score: 0.308351:  10%|#         | 2/20 [00:40<05:43, 19.10s/it]"
     ]
    },
    {
     "name": "stdout",
     "output_type": "stream",
     "text": [
      "Training until validation scores don't improve for 100 rounds\n",
      "[100]\ttraining's binary_logloss: 0.306056\tvalid_1's binary_logloss: 0.311879\n",
      "[200]\ttraining's binary_logloss: 0.301754\tvalid_1's binary_logloss: 0.31088\n",
      "[300]\ttraining's binary_logloss: 0.297948\tvalid_1's binary_logloss: 0.310298\n",
      "[400]\ttraining's binary_logloss: 0.294707\tvalid_1's binary_logloss: 0.309945\n",
      "[500]\ttraining's binary_logloss: 0.291588\tvalid_1's binary_logloss: 0.309786\n",
      "[600]\ttraining's binary_logloss: 0.28847\tvalid_1's binary_logloss: 0.30946\n",
      "[700]\ttraining's binary_logloss: 0.28548\tvalid_1's binary_logloss: 0.309134\n",
      "[800]\ttraining's binary_logloss: 0.282756\tvalid_1's binary_logloss: 0.309019\n",
      "[900]\ttraining's binary_logloss: 0.279917\tvalid_1's binary_logloss: 0.308904\n",
      "[1000]\ttraining's binary_logloss: 0.27741\tvalid_1's binary_logloss: 0.308877\n",
      "Did not meet early stopping. Best iteration is:\n",
      "[1000]\ttraining's binary_logloss: 0.27741\tvalid_1's binary_logloss: 0.308877\n"
     ]
    },
    {
     "name": "stderr",
     "output_type": "stream",
     "text": [
      "tune_num_leaves, val_score: 0.308351:  15%|#5        | 3/20 [01:07<06:03, 21.37s/it][I 2020-03-24 15:03:32,400] Finished trial#2 resulted in value: 0.308877323095747. Current best value is 0.3083509792469735 with parameters: {'num_leaves': 157}.\n",
      "tune_num_leaves, val_score: 0.308351:  15%|#5        | 3/20 [01:07<06:03, 21.37s/it]"
     ]
    },
    {
     "name": "stdout",
     "output_type": "stream",
     "text": [
      "Training until validation scores don't improve for 100 rounds\n",
      "[100]\ttraining's binary_logloss: 0.316898\tvalid_1's binary_logloss: 0.319804\n",
      "[200]\ttraining's binary_logloss: 0.314116\tvalid_1's binary_logloss: 0.317346\n",
      "[300]\ttraining's binary_logloss: 0.312572\tvalid_1's binary_logloss: 0.316128\n",
      "[400]\ttraining's binary_logloss: 0.311196\tvalid_1's binary_logloss: 0.315041\n",
      "[500]\ttraining's binary_logloss: 0.310245\tvalid_1's binary_logloss: 0.314364\n",
      "[600]\ttraining's binary_logloss: 0.309449\tvalid_1's binary_logloss: 0.313874\n",
      "[700]\ttraining's binary_logloss: 0.308796\tvalid_1's binary_logloss: 0.313532\n",
      "[800]\ttraining's binary_logloss: 0.308138\tvalid_1's binary_logloss: 0.313115\n",
      "[900]\ttraining's binary_logloss: 0.307576\tvalid_1's binary_logloss: 0.312795\n",
      "[1000]\ttraining's binary_logloss: 0.306969\tvalid_1's binary_logloss: 0.31246\n",
      "Did not meet early stopping. Best iteration is:\n",
      "[1000]\ttraining's binary_logloss: 0.306969\tvalid_1's binary_logloss: 0.31246\n"
     ]
    },
    {
     "name": "stderr",
     "output_type": "stream",
     "text": [
      "tune_num_leaves, val_score: 0.308351:  20%|##        | 4/20 [01:27<05:36, 21.04s/it][I 2020-03-24 15:03:52,688] Finished trial#3 resulted in value: 0.3124597783230265. Current best value is 0.3083509792469735 with parameters: {'num_leaves': 157}.\n",
      "tune_num_leaves, val_score: 0.308351:  20%|##        | 4/20 [01:27<05:36, 21.04s/it]"
     ]
    },
    {
     "name": "stdout",
     "output_type": "stream",
     "text": [
      "Training until validation scores don't improve for 100 rounds\n",
      "[100]\ttraining's binary_logloss: 0.295797\tvalid_1's binary_logloss: 0.309758\n",
      "[200]\ttraining's binary_logloss: 0.285603\tvalid_1's binary_logloss: 0.309213\n",
      "[300]\ttraining's binary_logloss: 0.27692\tvalid_1's binary_logloss: 0.309022\n",
      "[400]\ttraining's binary_logloss: 0.269045\tvalid_1's binary_logloss: 0.308904\n",
      "[500]\ttraining's binary_logloss: 0.261907\tvalid_1's binary_logloss: 0.308948\n",
      "Early stopping, best iteration is:\n",
      "[454]\ttraining's binary_logloss: 0.265092\tvalid_1's binary_logloss: 0.308862\n"
     ]
    },
    {
     "name": "stderr",
     "output_type": "stream",
     "text": [
      "tune_num_leaves, val_score: 0.308351:  25%|##5       | 5/20 [01:47<05:11, 20.74s/it][I 2020-03-24 15:04:12,694] Finished trial#4 resulted in value: 0.3088617611162229. Current best value is 0.3083509792469735 with parameters: {'num_leaves': 157}.\n",
      "tune_num_leaves, val_score: 0.308351:  25%|##5       | 5/20 [01:47<05:11, 20.74s/it]"
     ]
    },
    {
     "name": "stdout",
     "output_type": "stream",
     "text": [
      "Training until validation scores don't improve for 100 rounds\n",
      "[100]\ttraining's binary_logloss: 0.290619\tvalid_1's binary_logloss: 0.309263\n",
      "[200]\ttraining's binary_logloss: 0.277747\tvalid_1's binary_logloss: 0.308768\n",
      "[300]\ttraining's binary_logloss: 0.266423\tvalid_1's binary_logloss: 0.308887\n",
      "Early stopping, best iteration is:\n",
      "[204]\ttraining's binary_logloss: 0.277178\tvalid_1's binary_logloss: 0.308746\n"
     ]
    },
    {
     "name": "stderr",
     "output_type": "stream",
     "text": [
      "tune_num_leaves, val_score: 0.308351:  30%|###       | 6/20 [02:01<04:22, 18.76s/it][I 2020-03-24 15:04:26,847] Finished trial#5 resulted in value: 0.30874581141404533. Current best value is 0.3083509792469735 with parameters: {'num_leaves': 157}.\n",
      "tune_num_leaves, val_score: 0.308351:  30%|###       | 6/20 [02:01<04:22, 18.76s/it]"
     ]
    },
    {
     "name": "stdout",
     "output_type": "stream",
     "text": [
      "Training until validation scores don't improve for 100 rounds\n",
      "[100]\ttraining's binary_logloss: 0.311924\tvalid_1's binary_logloss: 0.315483\n",
      "[200]\ttraining's binary_logloss: 0.309151\tvalid_1's binary_logloss: 0.313596\n",
      "[300]\ttraining's binary_logloss: 0.307494\tvalid_1's binary_logloss: 0.312865\n",
      "[400]\ttraining's binary_logloss: 0.305858\tvalid_1's binary_logloss: 0.312105\n",
      "[500]\ttraining's binary_logloss: 0.304513\tvalid_1's binary_logloss: 0.31171\n",
      "[600]\ttraining's binary_logloss: 0.303241\tvalid_1's binary_logloss: 0.31132\n",
      "[700]\ttraining's binary_logloss: 0.301932\tvalid_1's binary_logloss: 0.310872\n",
      "[800]\ttraining's binary_logloss: 0.300824\tvalid_1's binary_logloss: 0.310623\n",
      "[900]\ttraining's binary_logloss: 0.299678\tvalid_1's binary_logloss: 0.310355\n",
      "[1000]\ttraining's binary_logloss: 0.29856\tvalid_1's binary_logloss: 0.310131\n",
      "Did not meet early stopping. Best iteration is:\n",
      "[1000]\ttraining's binary_logloss: 0.29856\tvalid_1's binary_logloss: 0.310131\n"
     ]
    },
    {
     "name": "stderr",
     "output_type": "stream",
     "text": [
      "tune_num_leaves, val_score: 0.308351:  35%|###5      | 7/20 [02:23<04:16, 19.75s/it][I 2020-03-24 15:04:48,964] Finished trial#6 resulted in value: 0.31013050847538953. Current best value is 0.3083509792469735 with parameters: {'num_leaves': 157}.\n",
      "tune_num_leaves, val_score: 0.308351:  35%|###5      | 7/20 [02:24<04:16, 19.75s/it]"
     ]
    },
    {
     "name": "stdout",
     "output_type": "stream",
     "text": [
      "Training until validation scores don't improve for 100 rounds\n",
      "[100]\ttraining's binary_logloss: 0.293179\tvalid_1's binary_logloss: 0.309356\n",
      "[200]\ttraining's binary_logloss: 0.281452\tvalid_1's binary_logloss: 0.308788\n",
      "[300]\ttraining's binary_logloss: 0.271317\tvalid_1's binary_logloss: 0.30861\n",
      "Early stopping, best iteration is:\n",
      "[245]\ttraining's binary_logloss: 0.276636\tvalid_1's binary_logloss: 0.308573\n"
     ]
    },
    {
     "name": "stderr",
     "output_type": "stream",
     "text": [
      "tune_num_leaves, val_score: 0.308351:  40%|####      | 8/20 [02:39<03:40, 18.37s/it][I 2020-03-24 15:05:04,129] Finished trial#7 resulted in value: 0.3085732048610353. Current best value is 0.3083509792469735 with parameters: {'num_leaves': 157}.\n",
      "tune_num_leaves, val_score: 0.308351:  40%|####      | 8/20 [02:39<03:40, 18.37s/it]"
     ]
    },
    {
     "name": "stdout",
     "output_type": "stream",
     "text": [
      "Training until validation scores don't improve for 100 rounds\n",
      "[100]\ttraining's binary_logloss: 0.293227\tvalid_1's binary_logloss: 0.309374\n",
      "[200]\ttraining's binary_logloss: 0.281554\tvalid_1's binary_logloss: 0.308894\n",
      "[300]\ttraining's binary_logloss: 0.272417\tvalid_1's binary_logloss: 0.308779\n",
      "[400]\ttraining's binary_logloss: 0.263854\tvalid_1's binary_logloss: 0.308778\n",
      "Early stopping, best iteration is:\n",
      "[351]\ttraining's binary_logloss: 0.267728\tvalid_1's binary_logloss: 0.308657\n"
     ]
    },
    {
     "name": "stderr",
     "output_type": "stream",
     "text": [
      "tune_num_leaves, val_score: 0.308351:  45%|####5     | 9/20 [02:57<03:22, 18.40s/it][I 2020-03-24 15:05:22,749] Finished trial#8 resulted in value: 0.3086565324823371. Current best value is 0.3083509792469735 with parameters: {'num_leaves': 157}.\n",
      "tune_num_leaves, val_score: 0.308351:  45%|####5     | 9/20 [02:57<03:22, 18.40s/it]"
     ]
    },
    {
     "name": "stdout",
     "output_type": "stream",
     "text": [
      "Training until validation scores don't improve for 100 rounds\n",
      "[100]\ttraining's binary_logloss: 0.297483\tvalid_1's binary_logloss: 0.309976\n",
      "[200]\ttraining's binary_logloss: 0.288143\tvalid_1's binary_logloss: 0.309294\n",
      "[300]\ttraining's binary_logloss: 0.280539\tvalid_1's binary_logloss: 0.30907\n",
      "[400]\ttraining's binary_logloss: 0.273789\tvalid_1's binary_logloss: 0.308878\n",
      "[500]\ttraining's binary_logloss: 0.267113\tvalid_1's binary_logloss: 0.30876\n",
      "Early stopping, best iteration is:\n",
      "[472]\ttraining's binary_logloss: 0.268936\tvalid_1's binary_logloss: 0.308733\n"
     ]
    },
    {
     "name": "stderr",
     "output_type": "stream",
     "text": [
      "tune_num_leaves, val_score: 0.308351:  50%|#####     | 10/20 [03:16<03:06, 18.70s/it][I 2020-03-24 15:05:41,950] Finished trial#9 resulted in value: 0.30873340206525. Current best value is 0.3083509792469735 with parameters: {'num_leaves': 157}.\n",
      "tune_num_leaves, val_score: 0.308351:  50%|#####     | 10/20 [03:17<03:06, 18.70s/it]"
     ]
    },
    {
     "name": "stdout",
     "output_type": "stream",
     "text": [
      "Training until validation scores don't improve for 100 rounds\n",
      "[100]\ttraining's binary_logloss: 0.286574\tvalid_1's binary_logloss: 0.309012\n",
      "[200]\ttraining's binary_logloss: 0.271553\tvalid_1's binary_logloss: 0.308501\n",
      "[300]\ttraining's binary_logloss: 0.259114\tvalid_1's binary_logloss: 0.30864\n",
      "Early stopping, best iteration is:\n",
      "[200]\ttraining's binary_logloss: 0.271553\tvalid_1's binary_logloss: 0.308501\n"
     ]
    },
    {
     "name": "stderr",
     "output_type": "stream",
     "text": [
      "tune_num_leaves, val_score: 0.308351:  55%|#####5    | 11/20 [03:31<02:36, 17.38s/it][I 2020-03-24 15:05:56,258] Finished trial#10 resulted in value: 0.30850064906090346. Current best value is 0.3083509792469735 with parameters: {'num_leaves': 157}.\n",
      "tune_num_leaves, val_score: 0.308351:  55%|#####5    | 11/20 [03:31<02:36, 17.38s/it]"
     ]
    },
    {
     "name": "stdout",
     "output_type": "stream",
     "text": [
      "Training until validation scores don't improve for 100 rounds\n",
      "[100]\ttraining's binary_logloss: 0.286237\tvalid_1's binary_logloss: 0.308958\n",
      "[200]\ttraining's binary_logloss: 0.270898\tvalid_1's binary_logloss: 0.30846\n",
      "[300]\ttraining's binary_logloss: 0.258733\tvalid_1's binary_logloss: 0.308529\n",
      "Early stopping, best iteration is:\n",
      "[234]\ttraining's binary_logloss: 0.266611\tvalid_1's binary_logloss: 0.308356\n"
     ]
    },
    {
     "name": "stderr",
     "output_type": "stream",
     "text": [
      "tune_num_leaves, val_score: 0.308351:  60%|######    | 12/20 [03:46<02:15, 16.88s/it][I 2020-03-24 15:06:12,080] Finished trial#11 resulted in value: 0.3083558045129561. Current best value is 0.3083509792469735 with parameters: {'num_leaves': 157}.\n",
      "tune_num_leaves, val_score: 0.308351:  60%|######    | 12/20 [03:47<02:15, 16.88s/it]"
     ]
    },
    {
     "name": "stdout",
     "output_type": "stream",
     "text": [
      "Training until validation scores don't improve for 100 rounds\n",
      "[100]\ttraining's binary_logloss: 0.286328\tvalid_1's binary_logloss: 0.309035\n",
      "[200]\ttraining's binary_logloss: 0.271053\tvalid_1's binary_logloss: 0.308679\n",
      "Early stopping, best iteration is:\n",
      "[185]\ttraining's binary_logloss: 0.27315\tvalid_1's binary_logloss: 0.308621\n"
     ]
    },
    {
     "name": "stderr",
     "output_type": "stream",
     "text": [
      "tune_num_leaves, val_score: 0.308351:  65%|######5   | 13/20 [04:00<01:52, 16.01s/it][I 2020-03-24 15:06:25,967] Finished trial#12 resulted in value: 0.30862076655947573. Current best value is 0.3083509792469735 with parameters: {'num_leaves': 157}.\n",
      "tune_num_leaves, val_score: 0.308351:  65%|######5   | 13/20 [04:01<01:52, 16.01s/it]"
     ]
    },
    {
     "name": "stdout",
     "output_type": "stream",
     "text": [
      "Training until validation scores don't improve for 100 rounds\n",
      "[100]\ttraining's binary_logloss: 0.288924\tvalid_1's binary_logloss: 0.30902\n",
      "[200]\ttraining's binary_logloss: 0.274856\tvalid_1's binary_logloss: 0.308504\n",
      "Early stopping, best iteration is:\n",
      "[196]\ttraining's binary_logloss: 0.275329\tvalid_1's binary_logloss: 0.308469\n"
     ]
    },
    {
     "name": "stderr",
     "output_type": "stream",
     "text": [
      "tune_num_leaves, val_score: 0.308351:  70%|#######   | 14/20 [04:15<01:32, 15.44s/it][I 2020-03-24 15:06:40,062] Finished trial#13 resulted in value: 0.3084686255858499. Current best value is 0.3083509792469735 with parameters: {'num_leaves': 157}.\n",
      "tune_num_leaves, val_score: 0.308351:  70%|#######   | 14/20 [04:15<01:32, 15.44s/it]"
     ]
    },
    {
     "name": "stdout",
     "output_type": "stream",
     "text": [
      "Training until validation scores don't improve for 100 rounds\n",
      "[100]\ttraining's binary_logloss: 0.300703\tvalid_1's binary_logloss: 0.310127\n",
      "[200]\ttraining's binary_logloss: 0.29346\tvalid_1's binary_logloss: 0.309443\n",
      "[300]\ttraining's binary_logloss: 0.287417\tvalid_1's binary_logloss: 0.309019\n",
      "[400]\ttraining's binary_logloss: 0.282143\tvalid_1's binary_logloss: 0.308822\n",
      "[500]\ttraining's binary_logloss: 0.276977\tvalid_1's binary_logloss: 0.308684\n",
      "[600]\ttraining's binary_logloss: 0.272025\tvalid_1's binary_logloss: 0.308646\n",
      "[700]\ttraining's binary_logloss: 0.267445\tvalid_1's binary_logloss: 0.308587\n",
      "[800]\ttraining's binary_logloss: 0.262825\tvalid_1's binary_logloss: 0.308647\n",
      "Early stopping, best iteration is:\n",
      "[719]\ttraining's binary_logloss: 0.266552\tvalid_1's binary_logloss: 0.308554\n"
     ]
    },
    {
     "name": "stderr",
     "output_type": "stream",
     "text": [
      "tune_num_leaves, val_score: 0.308351:  75%|#######5  | 15/20 [04:39<01:31, 18.25s/it][I 2020-03-24 15:07:04,864] Finished trial#14 resulted in value: 0.3085538193672746. Current best value is 0.3083509792469735 with parameters: {'num_leaves': 157}.\n",
      "tune_num_leaves, val_score: 0.308351:  75%|#######5  | 15/20 [04:39<01:31, 18.25s/it]"
     ]
    },
    {
     "name": "stdout",
     "output_type": "stream",
     "text": [
      "Training until validation scores don't improve for 100 rounds\n",
      "[100]\ttraining's binary_logloss: 0.285584\tvalid_1's binary_logloss: 0.308917\n",
      "[200]\ttraining's binary_logloss: 0.2692\tvalid_1's binary_logloss: 0.308671\n",
      "[300]\ttraining's binary_logloss: 0.256038\tvalid_1's binary_logloss: 0.308843\n",
      "Early stopping, best iteration is:\n",
      "[228]\ttraining's binary_logloss: 0.265304\tvalid_1's binary_logloss: 0.308584\n"
     ]
    },
    {
     "name": "stderr",
     "output_type": "stream",
     "text": [
      "tune_num_leaves, val_score: 0.308351:  80%|########  | 16/20 [04:56<01:10, 17.72s/it][I 2020-03-24 15:07:21,357] Finished trial#15 resulted in value: 0.3085835402088944. Current best value is 0.3083509792469735 with parameters: {'num_leaves': 157}.\n",
      "tune_num_leaves, val_score: 0.308351:  80%|########  | 16/20 [04:56<01:10, 17.72s/it]"
     ]
    },
    {
     "name": "stdout",
     "output_type": "stream",
     "text": [
      "Training until validation scores don't improve for 100 rounds\n",
      "[100]\ttraining's binary_logloss: 0.289402\tvalid_1's binary_logloss: 0.309202\n",
      "[200]\ttraining's binary_logloss: 0.275765\tvalid_1's binary_logloss: 0.308884\n",
      "Early stopping, best iteration is:\n",
      "[156]\ttraining's binary_logloss: 0.281545\tvalid_1's binary_logloss: 0.308764\n"
     ]
    },
    {
     "name": "stderr",
     "output_type": "stream",
     "text": [
      "tune_num_leaves, val_score: 0.308351:  85%|########5 | 17/20 [05:08<00:48, 16.10s/it][I 2020-03-24 15:07:33,664] Finished trial#16 resulted in value: 0.3087637882648469. Current best value is 0.3083509792469735 with parameters: {'num_leaves': 157}.\n",
      "tune_num_leaves, val_score: 0.308351:  85%|########5 | 17/20 [05:08<00:48, 16.10s/it]"
     ]
    },
    {
     "name": "stdout",
     "output_type": "stream",
     "text": [
      "Training until validation scores don't improve for 100 rounds\n",
      "[100]\ttraining's binary_logloss: 0.292086\tvalid_1's binary_logloss: 0.309219\n",
      "[200]\ttraining's binary_logloss: 0.279749\tvalid_1's binary_logloss: 0.30883\n",
      "[300]\ttraining's binary_logloss: 0.268952\tvalid_1's binary_logloss: 0.308907\n",
      "Early stopping, best iteration is:\n",
      "[214]\ttraining's binary_logloss: 0.278176\tvalid_1's binary_logloss: 0.308777\n"
     ]
    },
    {
     "name": "stderr",
     "output_type": "stream",
     "text": [
      "tune_num_leaves, val_score: 0.308351:  90%|######### | 18/20 [05:22<00:30, 15.30s/it][I 2020-03-24 15:07:47,090] Finished trial#17 resulted in value: 0.3087772827589334. Current best value is 0.3083509792469735 with parameters: {'num_leaves': 157}.\n",
      "tune_num_leaves, val_score: 0.308351:  90%|######### | 18/20 [05:22<00:30, 15.30s/it]"
     ]
    },
    {
     "name": "stdout",
     "output_type": "stream",
     "text": [
      "Training until validation scores don't improve for 100 rounds\n",
      "[100]\ttraining's binary_logloss: 0.29738\tvalid_1's binary_logloss: 0.309729\n",
      "[200]\ttraining's binary_logloss: 0.287955\tvalid_1's binary_logloss: 0.309112\n",
      "[300]\ttraining's binary_logloss: 0.279748\tvalid_1's binary_logloss: 0.30887\n",
      "[400]\ttraining's binary_logloss: 0.273005\tvalid_1's binary_logloss: 0.308938\n",
      "Early stopping, best iteration is:\n",
      "[327]\ttraining's binary_logloss: 0.277933\tvalid_1's binary_logloss: 0.308814\n"
     ]
    },
    {
     "name": "stderr",
     "output_type": "stream",
     "text": [
      "tune_num_leaves, val_score: 0.308351:  95%|#########5| 19/20 [05:37<00:15, 15.26s/it][I 2020-03-24 15:08:02,443] Finished trial#18 resulted in value: 0.3088136104522747. Current best value is 0.3083509792469735 with parameters: {'num_leaves': 157}.\n",
      "tune_num_leaves, val_score: 0.308351:  95%|#########5| 19/20 [05:37<00:15, 15.26s/it]"
     ]
    },
    {
     "name": "stdout",
     "output_type": "stream",
     "text": [
      "Training until validation scores don't improve for 100 rounds\n",
      "[100]\ttraining's binary_logloss: 0.28829\tvalid_1's binary_logloss: 0.309275\n",
      "[200]\ttraining's binary_logloss: 0.273802\tvalid_1's binary_logloss: 0.309043\n",
      "[300]\ttraining's binary_logloss: 0.261479\tvalid_1's binary_logloss: 0.308946\n",
      "Early stopping, best iteration is:\n",
      "[218]\ttraining's binary_logloss: 0.271312\tvalid_1's binary_logloss: 0.308912\n"
     ]
    },
    {
     "name": "stderr",
     "output_type": "stream",
     "text": [
      "tune_num_leaves, val_score: 0.308351: 100%|##########| 20/20 [05:52<00:00, 15.22s/it][I 2020-03-24 15:08:17,354] Finished trial#19 resulted in value: 0.30891216219032186. Current best value is 0.3083509792469735 with parameters: {'num_leaves': 157}.\n",
      "tune_num_leaves, val_score: 0.308351: 100%|##########| 20/20 [05:52<00:00, 17.62s/it]\n",
      "tune_bagging_fraction_and_bagging_freq, val_score: 0.308351:   0%|          | 0/10 [00:00<?, ?it/s]"
     ]
    },
    {
     "name": "stdout",
     "output_type": "stream",
     "text": [
      "Training until validation scores don't improve for 100 rounds\n",
      "[100]\ttraining's binary_logloss: 0.294495\tvalid_1's binary_logloss: 0.310504\n",
      "[200]\ttraining's binary_logloss: 0.282404\tvalid_1's binary_logloss: 0.310264\n",
      "[300]\ttraining's binary_logloss: 0.271537\tvalid_1's binary_logloss: 0.310401\n",
      "Early stopping, best iteration is:\n",
      "[238]\ttraining's binary_logloss: 0.278106\tvalid_1's binary_logloss: 0.310057\n"
     ]
    },
    {
     "name": "stderr",
     "output_type": "stream",
     "text": [
      "tune_bagging_fraction_and_bagging_freq, val_score: 0.308351:  10%|#         | 1/10 [00:12<01:55, 12.81s/it][I 2020-03-24 15:08:30,265] Finished trial#0 resulted in value: 0.3100570135151479. Current best value is 0.3100570135151479 with parameters: {'bagging_fraction': 0.5124735858931135, 'bagging_freq': 4}.\n",
      "tune_bagging_fraction_and_bagging_freq, val_score: 0.308351:  10%|#         | 1/10 [00:12<01:55, 12.81s/it]"
     ]
    },
    {
     "name": "stdout",
     "output_type": "stream",
     "text": [
      "Training until validation scores don't improve for 100 rounds\n",
      "[100]\ttraining's binary_logloss: 0.293742\tvalid_1's binary_logloss: 0.309788\n",
      "[200]\ttraining's binary_logloss: 0.281564\tvalid_1's binary_logloss: 0.309184\n",
      "[300]\ttraining's binary_logloss: 0.271371\tvalid_1's binary_logloss: 0.309228\n",
      "Early stopping, best iteration is:\n",
      "[215]\ttraining's binary_logloss: 0.279964\tvalid_1's binary_logloss: 0.309119\n"
     ]
    },
    {
     "name": "stderr",
     "output_type": "stream",
     "text": [
      "tune_bagging_fraction_and_bagging_freq, val_score: 0.308351:  20%|##        | 2/10 [00:27<01:45, 13.24s/it][I 2020-03-24 15:08:44,496] Finished trial#1 resulted in value: 0.30911882821759684. Current best value is 0.30911882821759684 with parameters: {'bagging_fraction': 0.8100745933596607, 'bagging_freq': 3}.\n",
      "tune_bagging_fraction_and_bagging_freq, val_score: 0.308351:  20%|##        | 2/10 [00:27<01:45, 13.24s/it]"
     ]
    },
    {
     "name": "stdout",
     "output_type": "stream",
     "text": [
      "Training until validation scores don't improve for 100 rounds\n",
      "[100]\ttraining's binary_logloss: 0.29406\tvalid_1's binary_logloss: 0.310312\n",
      "[200]\ttraining's binary_logloss: 0.281747\tvalid_1's binary_logloss: 0.30995\n",
      "[300]\ttraining's binary_logloss: 0.271056\tvalid_1's binary_logloss: 0.310147\n",
      "Early stopping, best iteration is:\n",
      "[219]\ttraining's binary_logloss: 0.279591\tvalid_1's binary_logloss: 0.309836\n"
     ]
    },
    {
     "name": "stderr",
     "output_type": "stream",
     "text": [
      "tune_bagging_fraction_and_bagging_freq, val_score: 0.308351:  30%|###       | 3/10 [00:40<01:32, 13.16s/it][I 2020-03-24 15:08:57,513] Finished trial#2 resulted in value: 0.3098361272763005. Current best value is 0.30911882821759684 with parameters: {'bagging_fraction': 0.8100745933596607, 'bagging_freq': 3}.\n",
      "tune_bagging_fraction_and_bagging_freq, val_score: 0.308351:  30%|###       | 3/10 [00:40<01:32, 13.16s/it]"
     ]
    },
    {
     "name": "stdout",
     "output_type": "stream",
     "text": [
      "Training until validation scores don't improve for 100 rounds\n",
      "[100]\ttraining's binary_logloss: 0.294007\tvalid_1's binary_logloss: 0.309934\n",
      "[200]\ttraining's binary_logloss: 0.281969\tvalid_1's binary_logloss: 0.309614\n",
      "[300]\ttraining's binary_logloss: 0.27152\tvalid_1's binary_logloss: 0.309567\n",
      "Early stopping, best iteration is:\n",
      "[232]\ttraining's binary_logloss: 0.278641\tvalid_1's binary_logloss: 0.309502\n"
     ]
    },
    {
     "name": "stderr",
     "output_type": "stream",
     "text": [
      "tune_bagging_fraction_and_bagging_freq, val_score: 0.308351:  40%|####      | 4/10 [00:53<01:20, 13.34s/it][I 2020-03-24 15:09:11,283] Finished trial#3 resulted in value: 0.3095020488074864. Current best value is 0.30911882821759684 with parameters: {'bagging_fraction': 0.8100745933596607, 'bagging_freq': 3}.\n",
      "tune_bagging_fraction_and_bagging_freq, val_score: 0.308351:  40%|####      | 4/10 [00:53<01:20, 13.34s/it]"
     ]
    },
    {
     "name": "stdout",
     "output_type": "stream",
     "text": [
      "Training until validation scores don't improve for 100 rounds\n",
      "[100]\ttraining's binary_logloss: 0.29396\tvalid_1's binary_logloss: 0.310138\n",
      "[200]\ttraining's binary_logloss: 0.281915\tvalid_1's binary_logloss: 0.30966\n",
      "[300]\ttraining's binary_logloss: 0.271359\tvalid_1's binary_logloss: 0.309608\n",
      "[400]\ttraining's binary_logloss: 0.2618\tvalid_1's binary_logloss: 0.309656\n",
      "Early stopping, best iteration is:\n",
      "[367]\ttraining's binary_logloss: 0.264844\tvalid_1's binary_logloss: 0.309512\n"
     ]
    },
    {
     "name": "stderr",
     "output_type": "stream",
     "text": [
      "tune_bagging_fraction_and_bagging_freq, val_score: 0.308351:  50%|#####     | 5/10 [01:12<01:14, 14.87s/it][I 2020-03-24 15:09:29,708] Finished trial#4 resulted in value: 0.30951201277100004. Current best value is 0.30911882821759684 with parameters: {'bagging_fraction': 0.8100745933596607, 'bagging_freq': 3}.\n",
      "tune_bagging_fraction_and_bagging_freq, val_score: 0.308351:  50%|#####     | 5/10 [01:12<01:14, 14.87s/it]"
     ]
    },
    {
     "name": "stdout",
     "output_type": "stream",
     "text": [
      "Training until validation scores don't improve for 100 rounds\n",
      "[100]\ttraining's binary_logloss: 0.293814\tvalid_1's binary_logloss: 0.309866\n",
      "[200]\ttraining's binary_logloss: 0.281609\tvalid_1's binary_logloss: 0.308855\n",
      "[300]\ttraining's binary_logloss: 0.271478\tvalid_1's binary_logloss: 0.308821\n",
      "[400]\ttraining's binary_logloss: 0.262244\tvalid_1's binary_logloss: 0.308875\n",
      "Early stopping, best iteration is:\n",
      "[336]\ttraining's binary_logloss: 0.26807\tvalid_1's binary_logloss: 0.308762\n"
     ]
    },
    {
     "name": "stderr",
     "output_type": "stream",
     "text": [
      "tune_bagging_fraction_and_bagging_freq, val_score: 0.308351:  60%|######    | 6/10 [01:31<01:04, 16.06s/it][I 2020-03-24 15:09:48,514] Finished trial#5 resulted in value: 0.30876155623219376. Current best value is 0.30876155623219376 with parameters: {'bagging_fraction': 0.8316644786595102, 'bagging_freq': 3}.\n",
      "tune_bagging_fraction_and_bagging_freq, val_score: 0.308351:  60%|######    | 6/10 [01:31<01:04, 16.06s/it]"
     ]
    },
    {
     "name": "stdout",
     "output_type": "stream",
     "text": [
      "Training until validation scores don't improve for 100 rounds\n",
      "[100]\ttraining's binary_logloss: 0.294156\tvalid_1's binary_logloss: 0.310242\n",
      "[200]\ttraining's binary_logloss: 0.282029\tvalid_1's binary_logloss: 0.310133\n",
      "Early stopping, best iteration is:\n",
      "[140]\ttraining's binary_logloss: 0.289076\tvalid_1's binary_logloss: 0.309988\n"
     ]
    },
    {
     "name": "stderr",
     "output_type": "stream",
     "text": [
      "tune_bagging_fraction_and_bagging_freq, val_score: 0.308351:  70%|#######   | 7/10 [01:40<00:42, 14.18s/it][I 2020-03-24 15:09:58,313] Finished trial#6 resulted in value: 0.30998846437058936. Current best value is 0.30876155623219376 with parameters: {'bagging_fraction': 0.8316644786595102, 'bagging_freq': 3}.\n",
      "tune_bagging_fraction_and_bagging_freq, val_score: 0.308351:  70%|#######   | 7/10 [01:40<00:42, 14.18s/it]"
     ]
    },
    {
     "name": "stdout",
     "output_type": "stream",
     "text": [
      "Training until validation scores don't improve for 100 rounds\n",
      "[100]\ttraining's binary_logloss: 0.293883\tvalid_1's binary_logloss: 0.309852\n",
      "[200]\ttraining's binary_logloss: 0.281881\tvalid_1's binary_logloss: 0.309358\n",
      "[300]\ttraining's binary_logloss: 0.271404\tvalid_1's binary_logloss: 0.30927\n",
      "Early stopping, best iteration is:\n",
      "[286]\ttraining's binary_logloss: 0.272799\tvalid_1's binary_logloss: 0.309222\n"
     ]
    },
    {
     "name": "stderr",
     "output_type": "stream",
     "text": [
      "tune_bagging_fraction_and_bagging_freq, val_score: 0.308351:  80%|########  | 8/10 [01:56<00:29, 14.57s/it][I 2020-03-24 15:10:13,864] Finished trial#7 resulted in value: 0.3092219376389356. Current best value is 0.30876155623219376 with parameters: {'bagging_fraction': 0.8316644786595102, 'bagging_freq': 3}.\n",
      "tune_bagging_fraction_and_bagging_freq, val_score: 0.308351:  80%|########  | 8/10 [01:56<00:29, 14.57s/it]"
     ]
    },
    {
     "name": "stdout",
     "output_type": "stream",
     "text": [
      "Training until validation scores don't improve for 100 rounds\n",
      "[100]\ttraining's binary_logloss: 0.293975\tvalid_1's binary_logloss: 0.310067\n",
      "[200]\ttraining's binary_logloss: 0.281831\tvalid_1's binary_logloss: 0.309554\n",
      "[300]\ttraining's binary_logloss: 0.27117\tvalid_1's binary_logloss: 0.309669\n",
      "Early stopping, best iteration is:\n",
      "[221]\ttraining's binary_logloss: 0.279394\tvalid_1's binary_logloss: 0.309418\n"
     ]
    },
    {
     "name": "stderr",
     "output_type": "stream",
     "text": [
      "tune_bagging_fraction_and_bagging_freq, val_score: 0.308351:  90%|######### | 9/10 [02:09<00:14, 14.23s/it][I 2020-03-24 15:10:27,257] Finished trial#8 resulted in value: 0.30941783963290836. Current best value is 0.30876155623219376 with parameters: {'bagging_fraction': 0.8316644786595102, 'bagging_freq': 3}.\n",
      "tune_bagging_fraction_and_bagging_freq, val_score: 0.308351:  90%|######### | 9/10 [02:09<00:14, 14.23s/it]"
     ]
    },
    {
     "name": "stdout",
     "output_type": "stream",
     "text": [
      "Training until validation scores don't improve for 100 rounds\n",
      "[100]\ttraining's binary_logloss: 0.294538\tvalid_1's binary_logloss: 0.310803\n",
      "[200]\ttraining's binary_logloss: 0.282297\tvalid_1's binary_logloss: 0.311168\n",
      "Early stopping, best iteration is:\n",
      "[118]\ttraining's binary_logloss: 0.292161\tvalid_1's binary_logloss: 0.310787\n"
     ]
    },
    {
     "name": "stderr",
     "output_type": "stream",
     "text": [
      "tune_bagging_fraction_and_bagging_freq, val_score: 0.308351: 100%|##########| 10/10 [02:19<00:00, 12.78s/it][I 2020-03-24 15:10:36,635] Finished trial#9 resulted in value: 0.3107865430437687. Current best value is 0.30876155623219376 with parameters: {'bagging_fraction': 0.8316644786595102, 'bagging_freq': 3}.\n",
      "tune_bagging_fraction_and_bagging_freq, val_score: 0.308351: 100%|##########| 10/10 [02:19<00:00, 13.93s/it]\n",
      "tune_feature_fraction, val_score: 0.308351:   0%|          | 0/6 [00:00<?, ?it/s]"
     ]
    },
    {
     "name": "stdout",
     "output_type": "stream",
     "text": [
      "Training until validation scores don't improve for 100 rounds\n",
      "[100]\ttraining's binary_logloss: 0.294637\tvalid_1's binary_logloss: 0.30962\n",
      "[200]\ttraining's binary_logloss: 0.283779\tvalid_1's binary_logloss: 0.309186\n",
      "[300]\ttraining's binary_logloss: 0.274498\tvalid_1's binary_logloss: 0.308763\n",
      "[400]\ttraining's binary_logloss: 0.266642\tvalid_1's binary_logloss: 0.308657\n",
      "Early stopping, best iteration is:\n",
      "[399]\ttraining's binary_logloss: 0.266729\tvalid_1's binary_logloss: 0.308655\n"
     ]
    },
    {
     "name": "stderr",
     "output_type": "stream",
     "text": [
      "tune_feature_fraction, val_score: 0.308351:  17%|#6        | 1/6 [00:18<01:32, 18.58s/it][I 2020-03-24 15:10:55,324] Finished trial#0 resulted in value: 0.3086546976585546. Current best value is 0.3086546976585546 with parameters: {'feature_fraction': 0.42}.\n",
      "tune_feature_fraction, val_score: 0.308351:  17%|#6        | 1/6 [00:18<01:32, 18.58s/it]"
     ]
    },
    {
     "name": "stdout",
     "output_type": "stream",
     "text": [
      "Training until validation scores don't improve for 100 rounds\n",
      "[100]\ttraining's binary_logloss: 0.294406\tvalid_1's binary_logloss: 0.309771\n",
      "[200]\ttraining's binary_logloss: 0.283282\tvalid_1's binary_logloss: 0.308917\n",
      "[300]\ttraining's binary_logloss: 0.273759\tvalid_1's binary_logloss: 0.308635\n",
      "[400]\ttraining's binary_logloss: 0.265519\tvalid_1's binary_logloss: 0.308594\n",
      "Early stopping, best iteration is:\n",
      "[399]\ttraining's binary_logloss: 0.265562\tvalid_1's binary_logloss: 0.308594\n"
     ]
    },
    {
     "name": "stderr",
     "output_type": "stream",
     "text": [
      "tune_feature_fraction, val_score: 0.308351:  33%|###3      | 2/6 [00:37<01:14, 18.60s/it][I 2020-03-24 15:11:14,168] Finished trial#1 resulted in value: 0.30859415315674. Current best value is 0.30859415315674 with parameters: {'feature_fraction': 0.45199999999999996}.\n",
      "tune_feature_fraction, val_score: 0.308351:  33%|###3      | 2/6 [00:37<01:14, 18.60s/it]"
     ]
    },
    {
     "name": "stdout",
     "output_type": "stream",
     "text": [
      "Training until validation scores don't improve for 100 rounds\n",
      "[100]\ttraining's binary_logloss: 0.293979\tvalid_1's binary_logloss: 0.309539\n",
      "[200]\ttraining's binary_logloss: 0.282719\tvalid_1's binary_logloss: 0.30893\n",
      "[300]\ttraining's binary_logloss: 0.273008\tvalid_1's binary_logloss: 0.30875\n",
      "[400]\ttraining's binary_logloss: 0.264627\tvalid_1's binary_logloss: 0.308759\n",
      "[500]\ttraining's binary_logloss: 0.256569\tvalid_1's binary_logloss: 0.308804\n",
      "Early stopping, best iteration is:\n",
      "[420]\ttraining's binary_logloss: 0.262878\tvalid_1's binary_logloss: 0.308694\n"
     ]
    },
    {
     "name": "stderr",
     "output_type": "stream",
     "text": [
      "tune_feature_fraction, val_score: 0.308351:  50%|#####     | 3/6 [00:56<00:56, 18.85s/it][I 2020-03-24 15:11:33,555] Finished trial#2 resulted in value: 0.3086942969831044. Current best value is 0.30859415315674 with parameters: {'feature_fraction': 0.45199999999999996}.\n",
      "tune_feature_fraction, val_score: 0.308351:  50%|#####     | 3/6 [00:56<00:56, 18.85s/it]"
     ]
    },
    {
     "name": "stdout",
     "output_type": "stream",
     "text": [
      "Training until validation scores don't improve for 100 rounds\n",
      "[100]\ttraining's binary_logloss: 0.293671\tvalid_1's binary_logloss: 0.309368\n",
      "[200]\ttraining's binary_logloss: 0.282183\tvalid_1's binary_logloss: 0.308922\n",
      "[300]\ttraining's binary_logloss: 0.272376\tvalid_1's binary_logloss: 0.308821\n",
      "Early stopping, best iteration is:\n",
      "[250]\ttraining's binary_logloss: 0.277211\tvalid_1's binary_logloss: 0.308794\n"
     ]
    },
    {
     "name": "stderr",
     "output_type": "stream",
     "text": [
      "tune_feature_fraction, val_score: 0.308351:  67%|######6   | 4/6 [01:10<00:34, 17.47s/it][I 2020-03-24 15:11:47,665] Finished trial#3 resulted in value: 0.30879380198966355. Current best value is 0.30859415315674 with parameters: {'feature_fraction': 0.45199999999999996}.\n",
      "tune_feature_fraction, val_score: 0.308351:  67%|######6   | 4/6 [01:11<00:34, 17.47s/it]"
     ]
    },
    {
     "name": "stdout",
     "output_type": "stream",
     "text": [
      "Training until validation scores don't improve for 100 rounds\n",
      "[100]\ttraining's binary_logloss: 0.293681\tvalid_1's binary_logloss: 0.309482\n",
      "[200]\ttraining's binary_logloss: 0.281727\tvalid_1's binary_logloss: 0.308766\n",
      "[300]\ttraining's binary_logloss: 0.271834\tvalid_1's binary_logloss: 0.308749\n",
      "Early stopping, best iteration is:\n",
      "[218]\ttraining's binary_logloss: 0.279735\tvalid_1's binary_logloss: 0.308692\n"
     ]
    },
    {
     "name": "stderr",
     "output_type": "stream",
     "text": [
      "tune_feature_fraction, val_score: 0.308351:  83%|########3 | 5/6 [01:24<00:16, 16.20s/it][I 2020-03-24 15:12:00,882] Finished trial#4 resulted in value: 0.30869237641971126. Current best value is 0.30859415315674 with parameters: {'feature_fraction': 0.45199999999999996}.\n",
      "tune_feature_fraction, val_score: 0.308351:  83%|########3 | 5/6 [01:24<00:16, 16.20s/it]"
     ]
    },
    {
     "name": "stdout",
     "output_type": "stream",
     "text": [
      "Training until validation scores don't improve for 100 rounds\n",
      "[100]\ttraining's binary_logloss: 0.293586\tvalid_1's binary_logloss: 0.309679\n",
      "[200]\ttraining's binary_logloss: 0.281748\tvalid_1's binary_logloss: 0.30919\n",
      "[300]\ttraining's binary_logloss: 0.271872\tvalid_1's binary_logloss: 0.309057\n",
      "[400]\ttraining's binary_logloss: 0.262723\tvalid_1's binary_logloss: 0.309032\n",
      "Early stopping, best iteration is:\n",
      "[369]\ttraining's binary_logloss: 0.265433\tvalid_1's binary_logloss: 0.308942\n"
     ]
    },
    {
     "name": "stderr",
     "output_type": "stream",
     "text": [
      "tune_feature_fraction, val_score: 0.308351: 100%|##########| 6/6 [01:42<00:00, 16.77s/it][I 2020-03-24 15:12:18,993] Finished trial#5 resulted in value: 0.30894238627838616. Current best value is 0.30859415315674 with parameters: {'feature_fraction': 0.45199999999999996}.\n",
      "tune_feature_fraction, val_score: 0.308351: 100%|##########| 6/6 [01:42<00:00, 17.06s/it]\n",
      "tune_lambda_l1_and_lambda_l2, val_score: 0.308351:   0%|          | 0/20 [00:00<?, ?it/s]"
     ]
    },
    {
     "name": "stdout",
     "output_type": "stream",
     "text": [
      "Training until validation scores don't improve for 100 rounds\n",
      "[100]\ttraining's binary_logloss: 0.296961\tvalid_1's binary_logloss: 0.309743\n",
      "[200]\ttraining's binary_logloss: 0.288356\tvalid_1's binary_logloss: 0.308691\n",
      "[300]\ttraining's binary_logloss: 0.280942\tvalid_1's binary_logloss: 0.308415\n",
      "[400]\ttraining's binary_logloss: 0.27397\tvalid_1's binary_logloss: 0.308116\n",
      "[500]\ttraining's binary_logloss: 0.268016\tvalid_1's binary_logloss: 0.308132\n",
      "Early stopping, best iteration is:\n",
      "[443]\ttraining's binary_logloss: 0.271381\tvalid_1's binary_logloss: 0.307981\n"
     ]
    },
    {
     "name": "stderr",
     "output_type": "stream",
     "text": [
      "tune_lambda_l1_and_lambda_l2, val_score: 0.307981:   5%|5         | 1/20 [00:23<07:33, 23.86s/it][I 2020-03-24 15:12:42,978] Finished trial#0 resulted in value: 0.3079812778297129. Current best value is 0.3079812778297129 with parameters: {'lambda_l1': 5.0972910301465975, 'lambda_l2': 0.0017974522945683115}.\n",
      "tune_lambda_l1_and_lambda_l2, val_score: 0.307981:   5%|5         | 1/20 [00:23<07:33, 23.86s/it]"
     ]
    },
    {
     "name": "stdout",
     "output_type": "stream",
     "text": [
      "Training until validation scores don't improve for 100 rounds\n",
      "[100]\ttraining's binary_logloss: 0.29396\tvalid_1's binary_logloss: 0.309617\n",
      "[200]\ttraining's binary_logloss: 0.282694\tvalid_1's binary_logloss: 0.309217\n",
      "[300]\ttraining's binary_logloss: 0.272922\tvalid_1's binary_logloss: 0.309011\n",
      "[400]\ttraining's binary_logloss: 0.263841\tvalid_1's binary_logloss: 0.308746\n",
      "Early stopping, best iteration is:\n",
      "[364]\ttraining's binary_logloss: 0.266711\tvalid_1's binary_logloss: 0.308695\n"
     ]
    },
    {
     "name": "stderr",
     "output_type": "stream",
     "text": [
      "tune_lambda_l1_and_lambda_l2, val_score: 0.307981:  10%|#         | 2/20 [00:42<06:38, 22.14s/it][I 2020-03-24 15:13:01,278] Finished trial#1 resulted in value: 0.30869494525162516. Current best value is 0.3079812778297129 with parameters: {'lambda_l1': 5.0972910301465975, 'lambda_l2': 0.0017974522945683115}.\n",
      "tune_lambda_l1_and_lambda_l2, val_score: 0.307981:  10%|#         | 2/20 [00:42<06:38, 22.14s/it]"
     ]
    },
    {
     "name": "stdout",
     "output_type": "stream",
     "text": [
      "Training until validation scores don't improve for 100 rounds\n",
      "[100]\ttraining's binary_logloss: 0.295384\tvalid_1's binary_logloss: 0.309473\n",
      "[200]\ttraining's binary_logloss: 0.28495\tvalid_1's binary_logloss: 0.308566\n",
      "[300]\ttraining's binary_logloss: 0.276256\tvalid_1's binary_logloss: 0.308379\n",
      "[400]\ttraining's binary_logloss: 0.268101\tvalid_1's binary_logloss: 0.30812\n",
      "[500]\ttraining's binary_logloss: 0.260577\tvalid_1's binary_logloss: 0.308009\n",
      "[600]\ttraining's binary_logloss: 0.253656\tvalid_1's binary_logloss: 0.307986\n",
      "Early stopping, best iteration is:\n",
      "[563]\ttraining's binary_logloss: 0.25615\tvalid_1's binary_logloss: 0.307963\n"
     ]
    },
    {
     "name": "stderr",
     "output_type": "stream",
     "text": [
      "tune_lambda_l1_and_lambda_l2, val_score: 0.307963:  15%|#5        | 3/20 [01:08<06:39, 23.50s/it][I 2020-03-24 15:13:27,754] Finished trial#2 resulted in value: 0.30796295539851637. Current best value is 0.30796295539851637 with parameters: {'lambda_l1': 1.8786662392442963, 'lambda_l2': 0.0007386342236555889}.\n",
      "tune_lambda_l1_and_lambda_l2, val_score: 0.307963:  15%|#5        | 3/20 [01:08<06:39, 23.50s/it]"
     ]
    },
    {
     "name": "stdout",
     "output_type": "stream",
     "text": [
      "Training until validation scores don't improve for 100 rounds\n",
      "[100]\ttraining's binary_logloss: 0.293837\tvalid_1's binary_logloss: 0.309325\n",
      "[200]\ttraining's binary_logloss: 0.282477\tvalid_1's binary_logloss: 0.308666\n",
      "[300]\ttraining's binary_logloss: 0.273107\tvalid_1's binary_logloss: 0.308365\n",
      "[400]\ttraining's binary_logloss: 0.26459\tvalid_1's binary_logloss: 0.308301\n",
      "Early stopping, best iteration is:\n",
      "[383]\ttraining's binary_logloss: 0.2659\tvalid_1's binary_logloss: 0.308242\n"
     ]
    },
    {
     "name": "stderr",
     "output_type": "stream",
     "text": [
      "tune_lambda_l1_and_lambda_l2, val_score: 0.307963:  20%|##        | 4/20 [01:26<05:50, 21.89s/it][I 2020-03-24 15:13:45,908] Finished trial#3 resulted in value: 0.3082415675062207. Current best value is 0.30796295539851637 with parameters: {'lambda_l1': 1.8786662392442963, 'lambda_l2': 0.0007386342236555889}.\n",
      "tune_lambda_l1_and_lambda_l2, val_score: 0.307963:  20%|##        | 4/20 [01:26<05:50, 21.89s/it]"
     ]
    },
    {
     "name": "stdout",
     "output_type": "stream",
     "text": [
      "Training until validation scores don't improve for 100 rounds\n",
      "[100]\ttraining's binary_logloss: 0.294082\tvalid_1's binary_logloss: 0.309402\n",
      "[200]\ttraining's binary_logloss: 0.282645\tvalid_1's binary_logloss: 0.308814\n",
      "[300]\ttraining's binary_logloss: 0.272959\tvalid_1's binary_logloss: 0.308673\n",
      "[400]\ttraining's binary_logloss: 0.263834\tvalid_1's binary_logloss: 0.308647\n",
      "Early stopping, best iteration is:\n",
      "[344]\ttraining's binary_logloss: 0.268833\tvalid_1's binary_logloss: 0.308535\n"
     ]
    },
    {
     "name": "stderr",
     "output_type": "stream",
     "text": [
      "tune_lambda_l1_and_lambda_l2, val_score: 0.307963:  25%|##5       | 5/20 [01:43<05:06, 20.46s/it][I 2020-03-24 15:14:03,043] Finished trial#4 resulted in value: 0.30853488274555385. Current best value is 0.30796295539851637 with parameters: {'lambda_l1': 1.8786662392442963, 'lambda_l2': 0.0007386342236555889}.\n",
      "tune_lambda_l1_and_lambda_l2, val_score: 0.307963:  25%|##5       | 5/20 [01:44<05:06, 20.46s/it]"
     ]
    },
    {
     "name": "stdout",
     "output_type": "stream",
     "text": [
      "Training until validation scores don't improve for 100 rounds\n",
      "[100]\ttraining's binary_logloss: 0.293837\tvalid_1's binary_logloss: 0.309325\n",
      "[200]\ttraining's binary_logloss: 0.282681\tvalid_1's binary_logloss: 0.308519\n",
      "[300]\ttraining's binary_logloss: 0.272967\tvalid_1's binary_logloss: 0.308207\n",
      "[400]\ttraining's binary_logloss: 0.264642\tvalid_1's binary_logloss: 0.308162\n",
      "Early stopping, best iteration is:\n",
      "[399]\ttraining's binary_logloss: 0.264721\tvalid_1's binary_logloss: 0.308157\n"
     ]
    },
    {
     "name": "stderr",
     "output_type": "stream",
     "text": [
      "tune_lambda_l1_and_lambda_l2, val_score: 0.307963:  30%|###       | 6/20 [02:01<04:35, 19.68s/it][I 2020-03-24 15:14:20,925] Finished trial#5 resulted in value: 0.3081574119988527. Current best value is 0.30796295539851637 with parameters: {'lambda_l1': 1.8786662392442963, 'lambda_l2': 0.0007386342236555889}.\n",
      "tune_lambda_l1_and_lambda_l2, val_score: 0.307963:  30%|###       | 6/20 [02:01<04:35, 19.68s/it]"
     ]
    },
    {
     "name": "stdout",
     "output_type": "stream",
     "text": [
      "Training until validation scores don't improve for 100 rounds\n",
      "[100]\ttraining's binary_logloss: 0.294072\tvalid_1's binary_logloss: 0.309621\n",
      "[200]\ttraining's binary_logloss: 0.28259\tvalid_1's binary_logloss: 0.309024\n",
      "[300]\ttraining's binary_logloss: 0.272774\tvalid_1's binary_logloss: 0.308838\n",
      "[400]\ttraining's binary_logloss: 0.263998\tvalid_1's binary_logloss: 0.308591\n",
      "[500]\ttraining's binary_logloss: 0.256434\tvalid_1's binary_logloss: 0.308703\n",
      "Early stopping, best iteration is:\n",
      "[421]\ttraining's binary_logloss: 0.262343\tvalid_1's binary_logloss: 0.308568\n"
     ]
    },
    {
     "name": "stderr",
     "output_type": "stream",
     "text": [
      "tune_lambda_l1_and_lambda_l2, val_score: 0.307963:  35%|###5      | 7/20 [02:20<04:12, 19.42s/it][I 2020-03-24 15:14:39,765] Finished trial#6 resulted in value: 0.30856764624994737. Current best value is 0.30796295539851637 with parameters: {'lambda_l1': 1.8786662392442963, 'lambda_l2': 0.0007386342236555889}.\n",
      "tune_lambda_l1_and_lambda_l2, val_score: 0.307963:  35%|###5      | 7/20 [02:20<04:12, 19.42s/it]"
     ]
    },
    {
     "name": "stdout",
     "output_type": "stream",
     "text": [
      "Training until validation scores don't improve for 100 rounds\n",
      "[100]\ttraining's binary_logloss: 0.293756\tvalid_1's binary_logloss: 0.309513\n",
      "[200]\ttraining's binary_logloss: 0.282456\tvalid_1's binary_logloss: 0.30888\n",
      "[300]\ttraining's binary_logloss: 0.27322\tvalid_1's binary_logloss: 0.308617\n",
      "[400]\ttraining's binary_logloss: 0.264154\tvalid_1's binary_logloss: 0.308765\n",
      "Early stopping, best iteration is:\n",
      "[301]\ttraining's binary_logloss: 0.273076\tvalid_1's binary_logloss: 0.308587\n"
     ]
    },
    {
     "name": "stderr",
     "output_type": "stream",
     "text": [
      "tune_lambda_l1_and_lambda_l2, val_score: 0.307963:  40%|####      | 8/20 [02:35<03:38, 18.19s/it][I 2020-03-24 15:14:55,032] Finished trial#7 resulted in value: 0.308587026101701. Current best value is 0.30796295539851637 with parameters: {'lambda_l1': 1.8786662392442963, 'lambda_l2': 0.0007386342236555889}.\n",
      "tune_lambda_l1_and_lambda_l2, val_score: 0.307963:  40%|####      | 8/20 [02:36<03:38, 18.19s/it]"
     ]
    },
    {
     "name": "stdout",
     "output_type": "stream",
     "text": [
      "Training until validation scores don't improve for 100 rounds\n",
      "[100]\ttraining's binary_logloss: 0.293861\tvalid_1's binary_logloss: 0.309591\n",
      "[200]\ttraining's binary_logloss: 0.282453\tvalid_1's binary_logloss: 0.308922\n",
      "[300]\ttraining's binary_logloss: 0.272927\tvalid_1's binary_logloss: 0.308692\n",
      "[400]\ttraining's binary_logloss: 0.26446\tvalid_1's binary_logloss: 0.308646\n",
      "[500]\ttraining's binary_logloss: 0.256323\tvalid_1's binary_logloss: 0.308657\n",
      "Early stopping, best iteration is:\n",
      "[466]\ttraining's binary_logloss: 0.258903\tvalid_1's binary_logloss: 0.308577\n"
     ]
    },
    {
     "name": "stderr",
     "output_type": "stream",
     "text": [
      "tune_lambda_l1_and_lambda_l2, val_score: 0.307963:  45%|####5     | 9/20 [02:56<03:27, 18.85s/it][I 2020-03-24 15:15:15,429] Finished trial#8 resulted in value: 0.3085770688032371. Current best value is 0.30796295539851637 with parameters: {'lambda_l1': 1.8786662392442963, 'lambda_l2': 0.0007386342236555889}.\n",
      "tune_lambda_l1_and_lambda_l2, val_score: 0.307963:  45%|####5     | 9/20 [02:56<03:27, 18.85s/it]"
     ]
    },
    {
     "name": "stdout",
     "output_type": "stream",
     "text": [
      "Training until validation scores don't improve for 100 rounds\n",
      "[100]\ttraining's binary_logloss: 0.293961\tvalid_1's binary_logloss: 0.309717\n",
      "[200]\ttraining's binary_logloss: 0.282692\tvalid_1's binary_logloss: 0.308882\n",
      "[300]\ttraining's binary_logloss: 0.272867\tvalid_1's binary_logloss: 0.308523\n",
      "[400]\ttraining's binary_logloss: 0.264282\tvalid_1's binary_logloss: 0.308521\n",
      "Early stopping, best iteration is:\n",
      "[352]\ttraining's binary_logloss: 0.26837\tvalid_1's binary_logloss: 0.308435\n"
     ]
    },
    {
     "name": "stderr",
     "output_type": "stream",
     "text": [
      "tune_lambda_l1_and_lambda_l2, val_score: 0.307963:  50%|#####     | 10/20 [03:13<03:03, 18.35s/it][I 2020-03-24 15:15:32,576] Finished trial#9 resulted in value: 0.3084347964088708. Current best value is 0.30796295539851637 with parameters: {'lambda_l1': 1.8786662392442963, 'lambda_l2': 0.0007386342236555889}.\n",
      "tune_lambda_l1_and_lambda_l2, val_score: 0.307963:  50%|#####     | 10/20 [03:13<03:03, 18.35s/it]"
     ]
    },
    {
     "name": "stdout",
     "output_type": "stream",
     "text": [
      "Training until validation scores don't improve for 100 rounds\n",
      "[100]\ttraining's binary_logloss: 0.29837\tvalid_1's binary_logloss: 0.309958\n",
      "[200]\ttraining's binary_logloss: 0.29042\tvalid_1's binary_logloss: 0.308865\n",
      "[300]\ttraining's binary_logloss: 0.284003\tvalid_1's binary_logloss: 0.308502\n",
      "[400]\ttraining's binary_logloss: 0.278137\tvalid_1's binary_logloss: 0.308319\n",
      "[500]\ttraining's binary_logloss: 0.272831\tvalid_1's binary_logloss: 0.308267\n",
      "Early stopping, best iteration is:\n",
      "[484]\ttraining's binary_logloss: 0.273667\tvalid_1's binary_logloss: 0.308227\n"
     ]
    },
    {
     "name": "stderr",
     "output_type": "stream",
     "text": [
      "tune_lambda_l1_and_lambda_l2, val_score: 0.307963:  55%|#####5    | 11/20 [03:41<03:10, 21.15s/it][I 2020-03-24 15:16:00,298] Finished trial#10 resulted in value: 0.30822677872564364. Current best value is 0.30796295539851637 with parameters: {'lambda_l1': 1.8786662392442963, 'lambda_l2': 0.0007386342236555889}.\n",
      "tune_lambda_l1_and_lambda_l2, val_score: 0.307963:  55%|#####5    | 11/20 [03:41<03:10, 21.15s/it]"
     ]
    },
    {
     "name": "stdout",
     "output_type": "stream",
     "text": [
      "Training until validation scores don't improve for 100 rounds\n",
      "[100]\ttraining's binary_logloss: 0.298448\tvalid_1's binary_logloss: 0.309831\n",
      "[200]\ttraining's binary_logloss: 0.290736\tvalid_1's binary_logloss: 0.308859\n",
      "[300]\ttraining's binary_logloss: 0.284556\tvalid_1's binary_logloss: 0.308482\n",
      "[400]\ttraining's binary_logloss: 0.279154\tvalid_1's binary_logloss: 0.308284\n",
      "[500]\ttraining's binary_logloss: 0.273958\tvalid_1's binary_logloss: 0.308299\n",
      "Early stopping, best iteration is:\n",
      "[459]\ttraining's binary_logloss: 0.275988\tvalid_1's binary_logloss: 0.308215\n"
     ]
    },
    {
     "name": "stderr",
     "output_type": "stream",
     "text": [
      "tune_lambda_l1_and_lambda_l2, val_score: 0.307963:  60%|######    | 12/20 [04:08<03:03, 22.95s/it][I 2020-03-24 15:16:27,439] Finished trial#11 resulted in value: 0.30821525219722684. Current best value is 0.30796295539851637 with parameters: {'lambda_l1': 1.8786662392442963, 'lambda_l2': 0.0007386342236555889}.\n",
      "tune_lambda_l1_and_lambda_l2, val_score: 0.307963:  60%|######    | 12/20 [04:08<03:03, 22.95s/it]"
     ]
    },
    {
     "name": "stdout",
     "output_type": "stream",
     "text": [
      "Training until validation scores don't improve for 100 rounds\n",
      "[100]\ttraining's binary_logloss: 0.294023\tvalid_1's binary_logloss: 0.309551\n",
      "[200]\ttraining's binary_logloss: 0.282622\tvalid_1's binary_logloss: 0.308929\n",
      "[300]\ttraining's binary_logloss: 0.273071\tvalid_1's binary_logloss: 0.308756\n",
      "[400]\ttraining's binary_logloss: 0.264442\tvalid_1's binary_logloss: 0.308813\n",
      "Early stopping, best iteration is:\n",
      "[338]\ttraining's binary_logloss: 0.269475\tvalid_1's binary_logloss: 0.308672\n"
     ]
    },
    {
     "name": "stderr",
     "output_type": "stream",
     "text": [
      "tune_lambda_l1_and_lambda_l2, val_score: 0.307963:  65%|######5   | 13/20 [04:25<02:28, 21.20s/it][I 2020-03-24 15:16:44,557] Finished trial#12 resulted in value: 0.30867161076441907. Current best value is 0.30796295539851637 with parameters: {'lambda_l1': 1.8786662392442963, 'lambda_l2': 0.0007386342236555889}.\n",
      "tune_lambda_l1_and_lambda_l2, val_score: 0.307963:  65%|######5   | 13/20 [04:25<02:28, 21.20s/it]"
     ]
    },
    {
     "name": "stdout",
     "output_type": "stream",
     "text": [
      "Training until validation scores don't improve for 100 rounds\n",
      "[100]\ttraining's binary_logloss: 0.294131\tvalid_1's binary_logloss: 0.3095\n",
      "[200]\ttraining's binary_logloss: 0.282631\tvalid_1's binary_logloss: 0.308795\n",
      "[300]\ttraining's binary_logloss: 0.272809\tvalid_1's binary_logloss: 0.308717\n",
      "[400]\ttraining's binary_logloss: 0.264323\tvalid_1's binary_logloss: 0.308551\n",
      "Early stopping, best iteration is:\n",
      "[399]\ttraining's binary_logloss: 0.264369\tvalid_1's binary_logloss: 0.308535\n"
     ]
    },
    {
     "name": "stderr",
     "output_type": "stream",
     "text": [
      "tune_lambda_l1_and_lambda_l2, val_score: 0.307963:  70%|#######   | 14/20 [04:44<02:03, 20.52s/it][I 2020-03-24 15:17:03,475] Finished trial#13 resulted in value: 0.30853473237892637. Current best value is 0.30796295539851637 with parameters: {'lambda_l1': 1.8786662392442963, 'lambda_l2': 0.0007386342236555889}.\n",
      "tune_lambda_l1_and_lambda_l2, val_score: 0.307963:  70%|#######   | 14/20 [04:44<02:03, 20.52s/it]"
     ]
    },
    {
     "name": "stdout",
     "output_type": "stream",
     "text": [
      "Training until validation scores don't improve for 100 rounds\n",
      "[100]\ttraining's binary_logloss: 0.298776\tvalid_1's binary_logloss: 0.309997\n",
      "[200]\ttraining's binary_logloss: 0.291249\tvalid_1's binary_logloss: 0.308964\n",
      "[300]\ttraining's binary_logloss: 0.285107\tvalid_1's binary_logloss: 0.308492\n",
      "[400]\ttraining's binary_logloss: 0.279758\tvalid_1's binary_logloss: 0.308364\n",
      "[500]\ttraining's binary_logloss: 0.274662\tvalid_1's binary_logloss: 0.30842\n",
      "Early stopping, best iteration is:\n",
      "[440]\ttraining's binary_logloss: 0.277563\tvalid_1's binary_logloss: 0.308279\n"
     ]
    },
    {
     "name": "stderr",
     "output_type": "stream",
     "text": [
      "tune_lambda_l1_and_lambda_l2, val_score: 0.307963:  75%|#######5  | 15/20 [05:11<01:52, 22.43s/it][I 2020-03-24 15:17:30,523] Finished trial#14 resulted in value: 0.30827897157823253. Current best value is 0.30796295539851637 with parameters: {'lambda_l1': 1.8786662392442963, 'lambda_l2': 0.0007386342236555889}.\n",
      "tune_lambda_l1_and_lambda_l2, val_score: 0.307963:  75%|#######5  | 15/20 [05:11<01:52, 22.43s/it]"
     ]
    },
    {
     "name": "stdout",
     "output_type": "stream",
     "text": [
      "Training until validation scores don't improve for 100 rounds\n",
      "[100]\ttraining's binary_logloss: 0.293797\tvalid_1's binary_logloss: 0.309513\n",
      "[200]\ttraining's binary_logloss: 0.28273\tvalid_1's binary_logloss: 0.308887\n",
      "[300]\ttraining's binary_logloss: 0.272798\tvalid_1's binary_logloss: 0.308578\n",
      "[400]\ttraining's binary_logloss: 0.26403\tvalid_1's binary_logloss: 0.308585\n",
      "Early stopping, best iteration is:\n",
      "[379]\ttraining's binary_logloss: 0.265753\tvalid_1's binary_logloss: 0.30854\n"
     ]
    },
    {
     "name": "stderr",
     "output_type": "stream",
     "text": [
      "tune_lambda_l1_and_lambda_l2, val_score: 0.307963:  80%|########  | 16/20 [05:29<01:24, 21.07s/it][I 2020-03-24 15:17:48,253] Finished trial#15 resulted in value: 0.3085402818470377. Current best value is 0.30796295539851637 with parameters: {'lambda_l1': 1.8786662392442963, 'lambda_l2': 0.0007386342236555889}.\n",
      "tune_lambda_l1_and_lambda_l2, val_score: 0.307963:  80%|########  | 16/20 [05:29<01:24, 21.07s/it]"
     ]
    },
    {
     "name": "stdout",
     "output_type": "stream",
     "text": [
      "Training until validation scores don't improve for 100 rounds\n",
      "[100]\ttraining's binary_logloss: 0.295126\tvalid_1's binary_logloss: 0.309579\n",
      "[200]\ttraining's binary_logloss: 0.28431\tvalid_1's binary_logloss: 0.308714\n",
      "[300]\ttraining's binary_logloss: 0.275051\tvalid_1's binary_logloss: 0.308375\n",
      "[400]\ttraining's binary_logloss: 0.266963\tvalid_1's binary_logloss: 0.308173\n",
      "[500]\ttraining's binary_logloss: 0.259285\tvalid_1's binary_logloss: 0.30821\n",
      "Early stopping, best iteration is:\n",
      "[454]\ttraining's binary_logloss: 0.262658\tvalid_1's binary_logloss: 0.308114\n"
     ]
    },
    {
     "name": "stderr",
     "output_type": "stream",
     "text": [
      "tune_lambda_l1_and_lambda_l2, val_score: 0.307963:  85%|########5 | 17/20 [05:51<01:04, 21.54s/it][I 2020-03-24 15:18:10,918] Finished trial#16 resulted in value: 0.3081143415817731. Current best value is 0.30796295539851637 with parameters: {'lambda_l1': 1.8786662392442963, 'lambda_l2': 0.0007386342236555889}.\n",
      "tune_lambda_l1_and_lambda_l2, val_score: 0.307963:  85%|########5 | 17/20 [05:51<01:04, 21.54s/it]"
     ]
    },
    {
     "name": "stdout",
     "output_type": "stream",
     "text": [
      "Training until validation scores don't improve for 100 rounds\n",
      "[100]\ttraining's binary_logloss: 0.293903\tvalid_1's binary_logloss: 0.309679\n"
     ]
    }
   ],
   "source": [
    "params_shared = {\n",
    "    \"objective\": \"binary\",\n",
    "    \"metric\": \"binary_logloss\",\n",
    "    \"verbosity\": 1,\n",
    "    \"boosting_type\": \"gbdt\",\n",
    "    \"num_threads\": 24,\n",
    "}\n",
    "tgt2params = {k:params_shared for k in tgts}\n",
    "\n",
    "tgt2bst={}\n",
    "tgt2best_params={}\n",
    "tgt2tuning_history={}\n",
    "tgt2ytr={}\n",
    "tgt2yvl={}\n",
    "tgt2prdtr={}\n",
    "tgt2prdvl={}\n",
    "tgt2pops={}\n",
    "for tgt in tgts:\n",
    "    print(dtnow(), tgt, '*'*80)\n",
    "    do_tgt(tgt)\n",
    "    \n",
    "pickle.dump(tgt2bst, open(f\"{p_out}/tgt2bst.p\", \"wb\"))"
   ]
  },
  {
   "cell_type": "markdown",
   "metadata": {},
   "source": [
    "# analyze"
   ]
  },
  {
   "cell_type": "markdown",
   "metadata": {},
   "source": [
    "## tr vl"
   ]
  },
  {
   "cell_type": "raw",
   "metadata": {
    "scrolled": false
   },
   "source": [
    "for tgt in tgt2evalres:\n",
    "    evalres=tgt2evalres[tgt]\n",
    "    plt.plot(evalres['train']['logloss'][10:])\n",
    "    plt.plot(evalres['eval']['logloss'][10:])\n",
    "    plt.title(f\"{tgt} logloss {len(evalres['train']['logloss'])} rounds\")\n",
    "    plt.show()\n",
    "    plt.plot(evalres['train']['aucpr'])\n",
    "    plt.plot(evalres['eval']['aucpr'])\n",
    "    plt.title(f\"{tgt} aucpr {len(evalres['train']['aucpr'])} rounds\")\n",
    "    plt.show()"
   ]
  },
  {
   "cell_type": "raw",
   "metadata": {
    "scrolled": false
   },
   "source": [
    "def show_feat_importance(tgt):\n",
    "    bst=tgt2bst[tgt]\n",
    "    ax = xgb.plot_importance(bst, height=0.8, max_num_features=9)\n",
    "    ax.grid(False, axis=\"y\")\n",
    "    ax.set_title(f'{tgt} Estimated feature importance')\n",
    "    plt.show()\n",
    "    feat2importance=bst.get_fscore()\n",
    "    print(tgt)\n",
    "    display(pd.DataFrame([feat2importance.keys(), \n",
    "                          feat2importance.values()]).T.sort_values(1, ascending=False))\n",
    "\n",
    "for tgt in tgt2bst:\n",
    "    show_feat_importance(tgt)"
   ]
  },
  {
   "cell_type": "code",
   "execution_count": null,
   "metadata": {},
   "outputs": [],
   "source": [
    "tgt2auc_tr={}\n",
    "tgt2rce_tr={}\n",
    "tgt2auc_vl={}\n",
    "tgt2rce_vl={}\n",
    "for tgt in tgt2bst:\n",
    "    print(tgt)\n",
    "    prdtr_i, prdvl_i = tgt2prdtr[tgt], tgt2prdvl[tgt]\n",
    "    ytr_i, yvl_i = tgt2ytr[tgt], tgt2yvl[tgt]\n",
    "    scr_auc_tr=compute_prauc(prdtr_i, ytr_i)\n",
    "    scr_rce_tr=compute_rce(prdtr_i, ytr_i)\n",
    "    scr_auc_vl=compute_prauc(prdvl_i, yvl_i)\n",
    "    scr_rce_vl=compute_rce(prdvl_i, yvl_i)\n",
    "\n",
    "    tgt2auc_tr[tgt]=scr_auc_tr\n",
    "    tgt2rce_tr[tgt]=scr_rce_tr\n",
    "    tgt2auc_vl[tgt]=scr_auc_vl\n",
    "    tgt2rce_vl[tgt]=scr_rce_vl\n",
    "    \n",
    "    print('tr prauc:', f'{scr_auc_tr:.4f}','tr rce:', f'{scr_rce_tr:.4f}', )\n",
    "    print('vl prauc:', f'{scr_auc_vl:.4f}','vl rce:', f'{scr_rce_vl:.4f}', )"
   ]
  },
  {
   "cell_type": "code",
   "execution_count": null,
   "metadata": {},
   "outputs": [],
   "source": [
    "lsttr=[]\n",
    "lstvl=[]\n",
    "for tgt in ['Retweet','Reply','Like','RTwCmnt',]:\n",
    "    if tgt not in tgt2bst: continue\n",
    "    lsttr+=[(f'PRAUC {tgt}',tgt2auc_tr[tgt]),\n",
    "          (f'RCE {tgt}',tgt2rce_tr[tgt])]\n",
    "    lstvl+=[(f'PRAUC {tgt}',tgt2auc_vl[tgt]),\n",
    "          (f'RCE {tgt}',tgt2rce_vl[tgt])]\n",
    "\n",
    "dfscrtr=pd.DataFrame(lsttr)\n",
    "dfscrtr.columns=['metric','scr']\n",
    "dfscrvl=pd.DataFrame(lstvl)\n",
    "dfscrvl.columns=['metric','scr']\n",
    "dfscr = pd.merge(dfscrtr, dfscrvl, on='metric', suffixes=('tr','vl'))\n",
    "dfscr.T"
   ]
  },
  {
   "cell_type": "markdown",
   "metadata": {},
   "source": [
    "## valid"
   ]
  },
  {
   "cell_type": "code",
   "execution_count": null,
   "metadata": {},
   "outputs": [],
   "source": [
    "# tgt=tgts[1]\n",
    "# tgtcol=tgt2col[tgt]\n",
    "# bst=tgt2bst[tgt]\n",
    "\n",
    "# dvalid=xgb.DMatrix(dfvalid[cols_feat], label=dfvalid[tgtcol], feature_names=cols_feat)\n",
    "\n",
    "# prdvalid = bst.predict(dvalid, ntree_limit=bst.best_ntree_limit)\n",
    "\n",
    "# pops=tgt2pops[tgt]\n",
    "\n",
    "# prdvalid[:10]\n",
    "# # array([0.11734424, 0.09971393, 0.05619054, 0.03059793, 0.07979691,\n",
    "# #        0.01358252, 0.05293725, 0.27954698, 0.05738379, 0.01741553],\n",
    "# #       dtype=float32)\n",
    "\n",
    "\n",
    "# pops\n",
    "# # {'train_pop': 4000000,\n",
    "# #  'target_pop': 109752,\n",
    "# #  'sampled_train_pop': 1000000,\n",
    "# #  'sampled_target_pop': 109752}\n",
    "\n",
    "# prdvalid_calib = calibration(prdvalid, **pops)\n",
    "\n",
    "# prdvalid_calib[:10]\n",
    "# # array([0.02952491, 0.02471944, 0.01344113, 0.00717127, 0.01945818,\n",
    "# #        0.00314114, 0.0126298 , 0.08155248, 0.01373977, 0.00403964],\n",
    "# #       dtype=float32)"
   ]
  },
  {
   "cell_type": "code",
   "execution_count": null,
   "metadata": {},
   "outputs": [],
   "source": [
    "def do_post_valid(tgt):\n",
    "    tgtcol=tgt2col[tgt]\n",
    "    bst=tgt2bst[tgt]\n",
    "    pops=tgt2pops[tgt]\n",
    "    prdvalid = bst.predict(dfvalid[cols_feat])\n",
    "    prdvalid_calib = calibration(prdvalid, **pops)\n",
    "    return prdvalid,prdvalid_calib"
   ]
  },
  {
   "cell_type": "code",
   "execution_count": null,
   "metadata": {},
   "outputs": [],
   "source": [
    "tgt2yvalid={tgt:dfvalid[tgt2col[tgt]] for tgt in tgts}\n",
    "tgt2prdvalid={}\n",
    "tgt2prdvalid_calib={}\n",
    "for tgt in tgts:\n",
    "    print(dtnow(), tgt)\n",
    "    tgt2prdvalid[tgt],tgt2prdvalid_calib[tgt]=do_post_valid(tgt)\n"
   ]
  },
  {
   "cell_type": "code",
   "execution_count": null,
   "metadata": {},
   "outputs": [],
   "source": [
    "tgt2auc_valid={}\n",
    "tgt2rce_valid={}\n",
    "tgt2auc_valid_calib={}\n",
    "tgt2rce_valid_calib={}\n",
    "for tgt in tgts:\n",
    "    print(dtnow(), tgt)\n",
    "    prdvalid, prdvalid_calib = tgt2prdvalid[tgt], tgt2prdvalid_calib[tgt]\n",
    "    yvalid = tgt2yvalid[tgt]\n",
    "    scr_auc_valid=compute_prauc(prdvalid, yvalid)\n",
    "    scr_rce_valid=compute_rce(prdvalid, yvalid)\n",
    "    scr_auc_valid_calib=compute_prauc(prdvalid_calib, yvalid)\n",
    "    scr_rce_valid_calib=compute_rce(prdvalid_calib, yvalid)\n",
    "\n",
    "    tgt2auc_valid[tgt]=scr_auc_valid\n",
    "    tgt2rce_valid[tgt]=scr_rce_valid\n",
    "    tgt2auc_valid_calib[tgt]=scr_auc_valid_calib\n",
    "    tgt2rce_valid_calib[tgt]=scr_rce_valid_calib"
   ]
  },
  {
   "cell_type": "code",
   "execution_count": null,
   "metadata": {},
   "outputs": [],
   "source": [
    "for tgt in tgts:\n",
    "    print(tgt)\n",
    "    print('tr          prauc:', f'{tgt2auc_tr[tgt]:.4f}','tr rce:', f'{tgt2rce_tr[tgt]:.4f}', )\n",
    "    print('vl          prauc:', f'{tgt2auc_vl[tgt]:.4f}','tr rce:', f'{tgt2rce_vl[tgt]:.4f}', )\n",
    "    print('valid       prauc:', f'{tgt2auc_valid[tgt]:.4f}','tr rce:', f'{tgt2rce_valid[tgt]:.4f}', )\n",
    "    print('valid_calib prauc:', f'{tgt2auc_valid_calib[tgt]:.4f}','tr rce:', f'{tgt2rce_valid_calib[tgt]:.4f}', )\n",
    "    "
   ]
  },
  {
   "cell_type": "code",
   "execution_count": null,
   "metadata": {},
   "outputs": [],
   "source": [
    "lsttr=[]\n",
    "lstvl=[]\n",
    "lstvalid=[]\n",
    "lstvalid_calib=[]\n",
    "for tgt in ['Retweet','Reply','Like','RTwCmnt',]:\n",
    "    if tgt not in tgt2bst: continue\n",
    "    lsttr+=[(f'PRAUC {tgt}',tgt2auc_tr[tgt]),\n",
    "          (f'RCE {tgt}',tgt2rce_tr[tgt])]\n",
    "    lstvl+=[(f'PRAUC {tgt}',tgt2auc_vl[tgt]),\n",
    "          (f'RCE {tgt}',tgt2rce_vl[tgt])]\n",
    "    lstvalid+=[(f'PRAUC {tgt}',tgt2auc_valid[tgt]),\n",
    "          (f'RCE {tgt}',tgt2rce_valid[tgt])]\n",
    "    lstvalid_calib+=[(f'PRAUC {tgt}',tgt2auc_valid_calib[tgt]),\n",
    "          (f'RCE {tgt}',tgt2rce_valid_calib[tgt])]\n",
    "\n",
    "dfscrtr=pd.DataFrame(lsttr)\n",
    "dfscrtr.columns=['metric','scr']\n",
    "dfscrvl=pd.DataFrame(lstvl)\n",
    "dfscrvl.columns=['metric','scr']\n",
    "dfscrvalid=pd.DataFrame(lstvalid)\n",
    "dfscrvalid.columns=['metric','scr']\n",
    "dfscrvalid_calib=pd.DataFrame(lstvalid_calib)\n",
    "dfscrvalid_calib.columns=['metric','scr']\n",
    "\n",
    "dfscr = reduce(lambda df1,df2: pd.merge(df1,df2,on='metric'), \n",
    "            [dfscrtr,dfscrvl,dfscrvalid,dfscrvalid_calib])\n",
    "\n",
    "dfscr.columns=['scr','tr','vl','valid','valid_calib']\n",
    "dfscr.T"
   ]
  },
  {
   "cell_type": "code",
   "execution_count": null,
   "metadata": {},
   "outputs": [],
   "source": []
  },
  {
   "cell_type": "markdown",
   "metadata": {},
   "source": [
    "# infer"
   ]
  },
  {
   "cell_type": "raw",
   "metadata": {},
   "source": [
    "ls -lhS $p_in | grep val"
   ]
  },
  {
   "cell_type": "code",
   "execution_count": null,
   "metadata": {},
   "outputs": [],
   "source": [
    "%%time\n",
    "dftst=pd.read_csv(\n",
    "    f'{p_in}/val_{valtmstmp}.tsv',\n",
    "#     f'{p_in}/val_259A6F6DFD672CB1F883CBEC01B99F2D_1584405047.tsv',\n",
    "    sep='\\x01', header=None, names=cols_val,)\n"
   ]
  },
  {
   "cell_type": "code",
   "execution_count": null,
   "metadata": {
    "scrolled": false
   },
   "outputs": [],
   "source": [
    "%%time\n",
    "dftst = prp_df(dftst, istrn=False)"
   ]
  },
  {
   "cell_type": "code",
   "execution_count": null,
   "metadata": {},
   "outputs": [],
   "source": [
    "%%time\n",
    "dtst = xgb.DMatrix(dftst[cols_feat], feature_names=cols_feat)\n",
    "tgt2prdtst={}\n",
    "for tgt in tgts:\n",
    "    print(dtnow(), tgt)\n",
    "    bst = tgt2bst[tgt]\n",
    "    pops=tgt2pops[tgt]\n",
    "    prdtst = bst.predict(dtst, ntree_limit=bst.best_ntree_limit)\n",
    "    prdtst_calib = calibration(prdtst, **pops)\n",
    "    tgt2prdtst[tgt] = prdtst_calib"
   ]
  },
  {
   "cell_type": "code",
   "execution_count": null,
   "metadata": {},
   "outputs": [],
   "source": [
    "dfsub_ids = dftst[['twtid','u2id',]]\n",
    "\n",
    "tgt2dfsub = {}\n",
    "for tgt,prdtst in tgt2prdtst.items():\n",
    "    dfsub = dfsub_ids.copy()\n",
    "    dfsub['scr'] = prdtst\n",
    "    tgt2dfsub[tgt]=dfsub"
   ]
  },
  {
   "cell_type": "code",
   "execution_count": null,
   "metadata": {},
   "outputs": [],
   "source": [
    "%%time\n",
    "for i,tgt in enumerate(['Retweet','Reply','RTwCmnt','Like',]):\n",
    "    dfsub = tgt2dfsub[tgt]\n",
    "    print(dtnow(), tgt)\n",
    "    dfsub.to_csv(f'{p_out}/{i}_{tgt}__{valtmstmp}__{PRFX}.csv',index=False,header=False)"
   ]
  },
  {
   "cell_type": "code",
   "execution_count": null,
   "metadata": {},
   "outputs": [],
   "source": []
  },
  {
   "cell_type": "code",
   "execution_count": null,
   "metadata": {},
   "outputs": [],
   "source": []
  },
  {
   "cell_type": "code",
   "execution_count": null,
   "metadata": {},
   "outputs": [],
   "source": []
  },
  {
   "cell_type": "code",
   "execution_count": null,
   "metadata": {},
   "outputs": [],
   "source": []
  },
  {
   "cell_type": "code",
   "execution_count": null,
   "metadata": {},
   "outputs": [],
   "source": []
  }
 ],
 "metadata": {
  "kernelspec": {
   "display_name": "rcss20",
   "language": "python",
   "name": "rcss20"
  },
  "language_info": {
   "codemirror_mode": {
    "name": "ipython",
    "version": 3
   },
   "file_extension": ".py",
   "mimetype": "text/x-python",
   "name": "python",
   "nbconvert_exporter": "python",
   "pygments_lexer": "ipython3",
   "version": "3.7.6"
  },
  "toc": {
   "base_numbering": 1,
   "nav_menu": {},
   "number_sections": true,
   "sideBar": true,
   "skip_h1_title": false,
   "title_cell": "Table of Contents",
   "title_sidebar": "Contents",
   "toc_cell": false,
   "toc_position": {},
   "toc_section_display": true,
   "toc_window_display": true
  }
 },
 "nbformat": 4,
 "nbformat_minor": 4
}
