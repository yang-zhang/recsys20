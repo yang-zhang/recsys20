{
 "cells": [
  {
   "cell_type": "markdown",
   "metadata": {},
   "source": [
    "# start"
   ]
  },
  {
   "cell_type": "markdown",
   "metadata": {},
   "source": [
    "- https://medium.com/optuna/lightgbm-tuner-new-optuna-integration-for-hyperparameter-optimization-8b7095e99258\n",
    "- https://github.com/optuna/optuna/blob/master/examples/lightgbm_tuner_simple.py"
   ]
  },
  {
   "cell_type": "code",
   "execution_count": 1,
   "metadata": {},
   "outputs": [
    {
     "name": "stdout",
     "output_type": "stream",
     "text": [
      "['2020-03-17 02:32:24', '2020-03-24 17:09:45']\n",
      "['2020-02-06 00:00:00', '2020-02-13 00:00:00']\n"
     ]
    }
   ],
   "source": [
    "PRFX='0324_1'\n",
    "trntmstmp=1584412344\n",
    "valtmstmp=1585069785\n",
    "import datetime\n",
    "print([datetime.datetime.fromtimestamp(o).strftime('%Y-%m-%d %H:%M:%S') for o in (trntmstmp, valtmstmp)])\n",
    "\n",
    "grand_total=1.5e8\n",
    "MIN_TM_TRN=1580947200\n",
    "MIN_TM_TST=1581552000\n",
    "print([datetime.datetime.fromtimestamp(o).strftime('%Y-%m-%d %H:%M:%S') for o in (MIN_TM_TRN, MIN_TM_TST)])\n",
    "\n",
    "\n",
    "CHNKSZ=1e6\n",
    "POST_RATE_WANTED=0.1"
   ]
  },
  {
   "cell_type": "markdown",
   "metadata": {},
   "source": [
    "# setup"
   ]
  },
  {
   "cell_type": "code",
   "execution_count": 2,
   "metadata": {
    "scrolled": true
   },
   "outputs": [
    {
     "data": {
      "text/plain": [
       "{'Retweet': 'retwt',\n",
       " 'Reply': 'reply',\n",
       " 'Like': 'like',\n",
       " 'RTwCmnt': 'retwt_cmmnt'}"
      ]
     },
     "execution_count": 2,
     "metadata": {},
     "output_type": "execute_result"
    }
   ],
   "source": [
    "from pathlib import Path\n",
    "# import dask\n",
    "# print('dask.__version__', dask.__version__)\n",
    "import xgboost as xgb\n",
    "# import lightgbm as lgb\n",
    "\n",
    "import optuna\n",
    "import optuna.integration.lightgbm as lgb\n",
    "\n",
    "\n",
    "# optuna.logging.CRITICAL, optuna.logging.FATAL\n",
    "# optuna.logging.ERROR\n",
    "# optuna.logging.WARNING, optuna.logging.WARN\n",
    "# optuna.logging.INFO\n",
    "# optuna.logging.DEBUG\n",
    "optuna.logging.set_verbosity(optuna.logging.INFO)\n",
    "\n",
    "\n",
    "# import dask_xgboost\n",
    "# import dask.dataframe as dd\n",
    "from sklearn.model_selection import train_test_split\n",
    "import pandas as pd\n",
    "import numpy as np\n",
    "import matplotlib.pyplot as plt\n",
    "from sklearn.metrics import accuracy_score, roc_auc_score, roc_curve, auc, precision_recall_curve\n",
    "from dask.distributed import Client\n",
    "import pickle\n",
    "from tqdm import tqdm\n",
    "from collections import Counter\n",
    "pd.set_option('display.max_rows', 500)\n",
    "\n",
    "from functools import reduce\n",
    "import datetime\n",
    "def dtnow(): return datetime.datetime.now().strftime('%Y-%m-%d %H:%M:%S')\n",
    "\n",
    "SEED=101\n",
    "HOME='/data/git/recsys20'\n",
    "p_in=f'{HOME}/input'\n",
    "p_out=f'{HOME}/output/{PRFX}'\n",
    "Path(p_out).mkdir(exist_ok=True, parents=True)\n",
    "\n",
    "from sklearn.metrics import precision_recall_curve, auc, log_loss\n",
    "\n",
    "def compute_prauc(pred, gt):\n",
    "    prec, recall, thresh = precision_recall_curve(gt, pred)\n",
    "    prauc = auc(recall, prec)\n",
    "    return prauc\n",
    "\n",
    "def calculate_ctr(gt):\n",
    "    positive = len([x for x in gt if x == 1])\n",
    "    ctr = positive/float(len(gt))\n",
    "    return ctr\n",
    "\n",
    "def compute_rce(pred, gt):\n",
    "    cross_entropy = log_loss(gt, pred)\n",
    "    data_ctr = calculate_ctr(gt)\n",
    "    strawman_cross_entropy = log_loss(gt, [data_ctr for _ in range(len(gt))])\n",
    "    return (1.0 - cross_entropy/strawman_cross_entropy)*100.0\n",
    "\n",
    "# https://towardsdatascience.com/how-to-calibrate-undersampled-model-scores-8f3319c1ea5b\n",
    "# How to use the function?\n",
    "# Let’s say your goal is to generate a model that shows the credit default probabilities and your original \n",
    "# training data has 50,000 rows with only 500 of them labeled as target class. When you sample your non-target \n",
    "# instances randomly and reduce the total row count to 10,000, while conserving 500 target rows, our calibration\n",
    "# function becomes:\n",
    "# calibration(model_results, 50000, 500, 10000, 500)\n",
    "# Here model_results is your model probability output array. After you train your model and put the results in it, your function is ready to use. \n",
    "\n",
    "def calibration(data, train_pop, target_pop, sampled_train_pop, sampled_target_pop):\n",
    "    calibrated_data = \\\n",
    "    ((data * (target_pop / train_pop) / (sampled_target_pop / sampled_train_pop)) /\n",
    "    ((\n",
    "        (1 - data) * (1 - target_pop / train_pop) / (1 - sampled_target_pop / sampled_train_pop)\n",
    "     ) +\n",
    "     (\n",
    "        data * (target_pop / train_pop) / (sampled_target_pop / sampled_train_pop)\n",
    "     )))\n",
    "\n",
    "    return calibrated_data\n",
    "\n",
    "cols=[\n",
    "'toks',\n",
    "'hshtgs',\n",
    "'twtid',\n",
    "'media',\n",
    "'links',\n",
    "'domns',\n",
    "'twttyp',\n",
    "'lang',\n",
    "'tm',\n",
    "\n",
    "'u1id',\n",
    "'u1_fllwer_cnt',\n",
    "'u1_fllwng_cnt',\n",
    "'u1_vrfed',\n",
    "'u1_create_tm',\n",
    "\n",
    "'u2id',\n",
    "'u2_fllwer_cnt',\n",
    "'u2_fllwng_cnt',\n",
    "'u2_vrfed',\n",
    "'u2_create_tm',\n",
    "\n",
    "'u1_fllw_u2',\n",
    "'reply_tm',\n",
    "'retwt_tm',\n",
    "'retwt_cmmnt_tm',\n",
    "'like_tm',\n",
    "]\n",
    "\n",
    "cols_val = cols[:-4]\n",
    "cols_tgt_tmstmp=[\n",
    "    'retwt_tm',\n",
    "    'reply_tm',\n",
    "    'like_tm',\n",
    "    'retwt_cmmnt_tm',\n",
    "]\n",
    "cols_tgt=[o.split('_tm')[0] for o in cols_tgt_tmstmp]\n",
    "tgts             = ['Retweet','Reply','Like','RTwCmnt',]\n",
    "assert cols_tgt == ['retwt',  'reply','like','retwt_cmmnt',]\n",
    "ntgts=len(tgts)\n",
    "\n",
    "tgt2col=dict(zip(tgts,cols_tgt))\n",
    "tgt2col"
   ]
  },
  {
   "cell_type": "markdown",
   "metadata": {},
   "source": [
    "# prepare data"
   ]
  },
  {
   "cell_type": "markdown",
   "metadata": {},
   "source": [
    "## get maps from test set"
   ]
  },
  {
   "cell_type": "code",
   "execution_count": 3,
   "metadata": {},
   "outputs": [],
   "source": [
    "# dfval=dd.read_csv(\n",
    "#     f'{p_in}/val_{valtmstmp}.tsv',\n",
    "#     sep='\\x01', header=None, names=cols_val,)\n",
    "# lang2cnt=dict(dfval.lang.value_counts().compute())\n",
    "# ttl=sum(lang2cnt.values())\n",
    "# lang2perc={k:v/ttl for k,v in lang2cnt.items()}\n",
    "langs=['D3164C7FBCF2565DDF915B1B3AEFB1DC', '22C448FF81263D4BAF2A176145EE9EAD', '06D61DCBBE938971E1EA0C38BD9B5446', 'ECED8A16BE2A5E8871FD55F4842F16B1', 'B9175601E87101A984A50F8A62A1C374', '4DC22C3F31C5C43721E6B5815A595ED6', '167115458A0DBDFF7E9C0C53A83BAC9B', '125C57F4FA6D4E110983FB11B52EFD4E', '022EC308651FACB02794A8147AEE1B78', 'FA3F382BC409C271E3D6EAF8BE4648DD', '9BF3403E0EB7EA8A256DA9019C0B0716', '975B38F44D65EE42A547283787FF5A21', '2996EB2FE8162C076D070A4C8D6532CD', 'FF60A88F53E63000266F8B9149E35AD9', '717293301FE296B0B61950D041485825', '3E16B11B7ADE3A22DDFC4423FBCEAD5D', '3820C29CBCA409A33BADF68852057C4A', '9ECD42BC079C20F156F53CB3B99E600E', '76B8A9C3013AE6414A3E6012413CDC3B', 'AEF22666801F0A5846D853B9CEB2E327', '190BA7DA361BC06BC1D7E824C378064D', '1FFD2FE4297F5E70EBC6C3230D95CB9C', 'A0C7021AD8299ADF0C9EBE326C115F6F', 'D413F5FE5236E5650A46FD983AB39212', '48236EC80FDDDFADE99420ABC9210DDF', '691890251F2B9FF922BE6D3699ABEFD2', '920502FAA080485768AA89BC96A55C47', '0331BF70E606D62D92C96CE9AD71A7CF', '89616CFF8EC8637092F885C7EFF43D74', '06BEAB41D66CCFF329D1ED8BA120A6C2', '60FBA0E834CC59D647C3599AD763FFDF', 'C7A400D9AD489ACF673CF12FBB80AAE5', 'E59EF8BB86A6D815331DDF4C467CE0C7', '4249CE88433AEA3F8DCEECF008B3CB95', '544FA32458C903F1125FE6598300A047', 'CB11E9CF42BD0A1BAD5E27BF3422D99D', '3A85BCEC571C3F5AB1069E4924189177', 'FF7EABB5A382356D54D9C41BA0125E09', 'E7BB61D2A87C1E72DF1C7BC292B86A1C', '69C4A33B9AD29AF883D60BA61CC08702', 'F4FD40A716F1572C9A28E9CAA58BE3A5', '259A6F6DFD672CB1F883CBEC01B99F2D', '6431A618DCF7F4CB7F62A95A39BAB77A', '3121F7240D488F74EEED9312E174B217', '54208B51D44E7D91DC2F3DD02ADEDEC2', 'DBEEFB80F8A314311E2B4BD593E11DFE', 'B6D90127A09AB1229731898AEF9D4D7C', 'F3E1016563360F9434FA986CA86C249C', '2216D01F7B48554E4211021A46816FCF', '1BC639981AE88E09129594B11F894A21', 'C942E369C88CE7C56E69A84D04319FF0', '57ADD4576E2AD6648E9B2DE32F3462A5', 'AC1F0671A4B0D5B8112F87DE7B490E6D', 'C2EF5FABE7619D8A333D5F0FF76E1BFA', 'AA0254541959271ED3453119B787D0C3', 'A6B70CDF8C7B934D4A218CA9B6B7FDB4', 'BF477808A37E3E4E9C5D9F1839E8519E', '97F81BD92A1ACA3F1F43C154E689350F', '60A3DB168094D41241E45E0DE3539BC0', '12D8CEB94F89D11D7EB95EAE9689B009', 'F73266A79468BB89C4325FDEDB0B533C', '4690215948DBF6872B8ED1C2BC87B17E', 'D18801336202297E6484F634CAC6592E', '2E18F6F53E3CF073911AF0A93BBE5373', 'B2235C8B73239FDC5780DD132419833A', '515E873C86EE1577E75FA2387B7FA59E',]\n",
    "\n",
    "# dfval.twttyp.value_counts().compute()\n",
    "# TopLevel    2932\n",
    "# Retweet      994\n",
    "# Quote        213\n",
    "twttyps=['TopLevel','Retweet','Quote']"
   ]
  },
  {
   "cell_type": "markdown",
   "metadata": {},
   "source": [
    "## prep func"
   ]
  },
  {
   "cell_type": "code",
   "execution_count": 4,
   "metadata": {},
   "outputs": [],
   "source": [
    "def prp_df(df, istrn=True):\n",
    "    tm_min = MIN_TM_TRN if istrn else MIN_TM_TST\n",
    "    df['len_toks'] = df.toks.apply(len)\n",
    "    for media in ['Photo', 'Video', 'GIF']:\n",
    "        df[f'has_media_{media}'] = df.media.fillna('').apply(lambda x: media in x)\n",
    "    for col in ['hshtgs', 'links', 'domns',]:\n",
    "        df[f'num_{col}'] = df[col].fillna('').apply(lambda x: len(x.split('\\t')) if len(x) else 0)\n",
    "    \n",
    "    df['twt_age'] = df.tm - tm_min\n",
    "    df['u1_age']  = df.tm - df.u1_create_tm\n",
    "    df['u2_age']  = df.tm - df.u2_create_tm\n",
    "        \n",
    "    tm_dt=pd.to_datetime(df.tm, unit='s')\n",
    "    df['tm_dayofweek']=tm_dt.dt.dayofweek\n",
    "    df['tm_hour']=tm_dt.dt.hour\n",
    "    \n",
    "    df['tmdlta_u2u1']  = df.u2_create_tm - df.u1_create_tm\n",
    "    \n",
    "    df['u1_fllwer_cnt_by_age'] = df.u1_fllwer_cnt / df.u1_age\n",
    "    df['u1_fllwng_cnt_by_age'] = df.u2_fllwng_cnt / df.u2_age\n",
    "    \n",
    "    for typ in twttyps:\n",
    "        df[f'twttyp_{typ}']=(df.twttyp==typ).astype('int8')\n",
    "\n",
    "    for lang in langs:\n",
    "        df[f'lang_{lang}']=(df.lang==lang).astype('int8')\n",
    "    if istrn: \n",
    "        df[cols_tgt]=df[cols_tgt_tmstmp].notna().astype('int8')\n",
    "        df.drop(inplace=True, columns=['toks', 'hshtgs', 'media', 'links', 'domns', 'twttyp', 'lang', \n",
    "                                       'tm', 'u1_create_tm','u2_create_tm', 'u1id', 'u2id', 'twtid', ]+cols_tgt_tmstmp, )\n",
    "    else:\n",
    "        df.drop(inplace=True, columns=['toks', 'hshtgs', 'media', 'links', 'domns', 'twttyp', 'lang', \n",
    "                                       'tm', 'u1_create_tm','u2_create_tm', 'u1id', ])        \n",
    "    return df"
   ]
  },
  {
   "cell_type": "raw",
   "metadata": {
    "scrolled": true
   },
   "source": [
    "ls -hlS $p_in | grep {trntmstmp} "
   ]
  },
  {
   "cell_type": "code",
   "execution_count": 5,
   "metadata": {
    "scrolled": false
   },
   "outputs": [
    {
     "data": {
      "text/plain": [
       "(150000000.0, 150.0)"
      ]
     },
     "execution_count": 5,
     "metadata": {},
     "output_type": "execute_result"
    }
   ],
   "source": [
    "grand_total, grand_total/CHNKSZ"
   ]
  },
  {
   "cell_type": "markdown",
   "metadata": {},
   "source": [
    "## valid data"
   ]
  },
  {
   "cell_type": "code",
   "execution_count": 6,
   "metadata": {},
   "outputs": [
    {
     "name": "stdout",
     "output_type": "stream",
     "text": [
      "2020-03-24 15:26:09 chunk 0\n",
      "['2020-02-06 00:00:00', '2020-02-12 23:59:59']\n"
     ]
    }
   ],
   "source": [
    "chnks_trn = pd.read_csv(f'{p_in}/trn_{trntmstmp}.tsv',sep='\\x01',\n",
    "                    header=None,names=cols, \n",
    "                        chunksize=CHNKSZ)\n",
    "# first chunk as validate data\n",
    "for ichnk,df in enumerate(chnks_trn):\n",
    "    print(dtnow(), 'chunk', ichnk)\n",
    "    print([datetime.datetime.fromtimestamp(o).strftime('%Y-%m-%d %H:%M:%S') \n",
    "           for o in (df.tm.min(), df.tm.max())])\n",
    "    dfvalid = prp_df(df)\n",
    "    break\n",
    "dfvalid.shape\n",
    "\n",
    "cols_feat=[o for o in dfvalid.columns if o not in cols_tgt]\n",
    "\n",
    "# Xvl,yvl=dfvl[cols_feat],dfvl[cols_tgt]"
   ]
  },
  {
   "cell_type": "markdown",
   "metadata": {},
   "source": [
    "## trnval data func"
   ]
  },
  {
   "cell_type": "code",
   "execution_count": 7,
   "metadata": {},
   "outputs": [],
   "source": [
    "def getdftrvl(tgt):\n",
    "    print(tgt)\n",
    "    tgtcol=tgt2col[tgt]\n",
    "    chnks_trn = pd.read_csv(f'{p_in}/trn_{trntmstmp}.tsv',sep='\\x01',\n",
    "                        header=None,names=cols, \n",
    "                            chunksize=CHNKSZ)\n",
    "    len_df_wanted = int(CHNKSZ)\n",
    "    # retwt          0.113031\n",
    "    # reply          0.027488\n",
    "    # like           0.439499\n",
    "    # retwt_cmmnt    0.007742\n",
    "    pos_rate_wanted = POST_RATE_WANTED\n",
    "    n_pos_wanted = int(len_df_wanted*pos_rate_wanted)\n",
    "    print('n_pos_wanted', n_pos_wanted)\n",
    "    np.random.seed(SEED)\n",
    "    lst_df = []\n",
    "    n_pos_ttl = 0\n",
    "    for ichnk,df in enumerate(chnks_trn):\n",
    "        #skip first chunk (it was validate data)\n",
    "        if ichnk==0: continue\n",
    "        print(dtnow(), 'chunk', ichnk)\n",
    "        df = prp_df(df)\n",
    "        n_pos_ttl+= df[tgtcol].sum()\n",
    "        lst_df.append(df)\n",
    "        if n_pos_ttl>=n_pos_wanted: break\n",
    "\n",
    "    df = pd.concat(lst_df)\n",
    "    df.reset_index(drop=True,inplace=True)\n",
    "\n",
    "\n",
    "    # https://stackoverflow.com/questions/28556942/pandas-remove-rows-at-random-without-shuffling-dataset\n",
    "    idx_neg=np.where(df[tgtcol]==0)[0]\n",
    "    n_neg = len(idx_neg)\n",
    "    n_pos = len(df)-len(idx_neg)\n",
    "    n_neg2keep = len_df_wanted-n_pos\n",
    "    n_neg2rmv = n_neg-n_neg2keep\n",
    "    idx_neg2rmv = np.random.choice(idx_neg, n_neg2rmv, replace=False)\n",
    "    dftrvl = df.drop(idx_neg2rmv)\n",
    "    dftrvl = dftrvl.sample(len(dftrvl))\n",
    "    print('dftrvl.shape:',dftrvl.shape,'dftrvl[tgtcol].mean():',dftrvl[tgtcol].mean())\n",
    "\n",
    "    pops={\n",
    "        'train_pop':len(df),\n",
    "        'target_pop':n_pos,\n",
    "        'sampled_train_pop':len_df_wanted,\n",
    "        'sampled_target_pop':n_pos,\n",
    "    }\n",
    "    print(pops)\n",
    "    return dftrvl, pops"
   ]
  },
  {
   "cell_type": "markdown",
   "metadata": {},
   "source": [
    "# model"
   ]
  },
  {
   "cell_type": "code",
   "execution_count": 8,
   "metadata": {},
   "outputs": [],
   "source": [
    "def train(params,dtr,dvl):\n",
    "    print(params)\n",
    "    best_params, tuning_history = dict(), list()\n",
    "#     evals_result = {}\n",
    "    evallist = [(dtr, 'train'), (dvl, 'eval')]\n",
    "    bst = lgb.train(params=params, \n",
    "                    train_set=dtr, \n",
    "                    valid_sets=[dtr, dvl],\n",
    "                    best_params=best_params,\n",
    "                    tuning_history=tuning_history,\n",
    "                    verbose_eval=100,\n",
    "                    early_stopping_rounds=100,\n",
    "#                     num_boost_round=10,#1000, \n",
    "#                     evals_result=evals_result, \n",
    "#                     verbose_eval=5,\n",
    "#                     early_stopping_rounds=5\n",
    "                   )\n",
    "                    \n",
    "    return bst,best_params,tuning_history\n",
    "\n",
    "def valid(bst,dftr,dfvl):\n",
    "#     prdtr = bst.predict(dtr, ntree_limit=bst.best_ntree_limit)\n",
    "#     prdvl = bst.predict(dvl, ntree_limit=bst.best_ntree_limit)\n",
    "    prdtr = bst.predict(dftr[cols_feat],num_iteration=bst.best_iteration)\n",
    "    prdvl = bst.predict(dfvl[cols_feat],num_iteration=bst.best_iteration)\n",
    "    return prdtr,prdvl\n",
    "\n",
    "def do_tgt(tgt):\n",
    "    params=tgt2params[tgt]\n",
    "    tgtcol=tgt2col[tgt]\n",
    "    dftrvl, pops=getdftrvl(tgt)\n",
    "    split=int(len(dftrvl)*0.85)\n",
    "    dftr,dfvl=dftrvl[:split],dftrvl[split:]\n",
    "    dtr = lgb.Dataset(dftr[cols_feat], label=dftr[tgtcol])\n",
    "    dvl = lgb.Dataset(dfvl[cols_feat], label=dfvl[tgtcol])\n",
    "    bst,best_params,tuning_history=train(params,dtr,dvl)\n",
    "    prdtr,prdvl=valid(bst,dftr,dfvl)\n",
    "    \n",
    "    tgt2bst[tgt]=bst\n",
    "#     tgt2evalres[tgt]=evals_result\n",
    "    tgt2best_params[tgt]=best_params\n",
    "    tgt2tuning_history[tgt]=tuning_history\n",
    "    tgt2ytr[tgt]=dftr[tgtcol]\n",
    "    tgt2yvl[tgt]=dfvl[tgtcol]\n",
    "    tgt2pops[tgt]=pops\n",
    "    tgt2prdtr[tgt]=prdtr\n",
    "    tgt2prdvl[tgt]=prdvl\n"
   ]
  },
  {
   "cell_type": "code",
   "execution_count": 9,
   "metadata": {
    "collapsed": true
   },
   "outputs": [
    {
     "name": "stdout",
     "output_type": "stream",
     "text": [
      "2020-03-24 15:26:18 Retweet ********************************************************************************\n",
      "Retweet\n",
      "n_pos_wanted 100000\n",
      "2020-03-24 15:26:33 chunk 1\n",
      "dftrvl.shape: (1000000, 95) dftrvl[tgtcol].mean(): 0.112823\n",
      "{'train_pop': 1000000, 'target_pop': 112823, 'sampled_train_pop': 1000000, 'sampled_target_pop': 112823}\n",
      "{'objective': 'binary', 'metric': 'binary_logloss', 'verbosity': 1, 'boosting_type': 'gbdt', 'num_threads': 24}\n"
     ]
    },
    {
     "name": "stderr",
     "output_type": "stream",
     "text": [
      "/data/anaconda3/envs/rcss20/lib/python3.7/site-packages/optuna/_experimental.py:87: ExperimentalWarning: train is experimental (supported from v0.18.0). The interface can change in the future.\n",
      "  ExperimentalWarning\n",
      "tune_feature_fraction, val_score: inf:   0%|          | 0/7 [00:00<?, ?it/s]"
     ]
    },
    {
     "name": "stdout",
     "output_type": "stream",
     "text": [
      "Training until validation scores don't improve for 100 rounds\n",
      "[100]\ttraining's binary_logloss: 0.308382\tvalid_1's binary_logloss: 0.312946\n",
      "[200]\ttraining's binary_logloss: 0.304776\tvalid_1's binary_logloss: 0.311525\n",
      "[300]\ttraining's binary_logloss: 0.302052\tvalid_1's binary_logloss: 0.31087\n",
      "[400]\ttraining's binary_logloss: 0.299484\tvalid_1's binary_logloss: 0.310288\n",
      "[500]\ttraining's binary_logloss: 0.297041\tvalid_1's binary_logloss: 0.309966\n",
      "[600]\ttraining's binary_logloss: 0.294918\tvalid_1's binary_logloss: 0.309778\n",
      "[700]\ttraining's binary_logloss: 0.2928\tvalid_1's binary_logloss: 0.309567\n",
      "[800]\ttraining's binary_logloss: 0.290734\tvalid_1's binary_logloss: 0.309357\n",
      "[900]\ttraining's binary_logloss: 0.288699\tvalid_1's binary_logloss: 0.309233\n",
      "[1000]\ttraining's binary_logloss: 0.286642\tvalid_1's binary_logloss: 0.309119\n",
      "Did not meet early stopping. Best iteration is:\n",
      "[1000]\ttraining's binary_logloss: 0.286642\tvalid_1's binary_logloss: 0.309119\n"
     ]
    },
    {
     "name": "stderr",
     "output_type": "stream",
     "text": [
      "tune_feature_fraction, val_score: 0.309119:  14%|#4        | 1/7 [00:30<03:04, 30.76s/it][I 2020-03-24 15:27:14,545] Finished trial#0 resulted in value: 0.3091189006821297. Current best value is 0.3091189006821297 with parameters: {'feature_fraction': 0.4}.\n",
      "tune_feature_fraction, val_score: 0.309119:  14%|#4        | 1/7 [00:30<03:04, 30.76s/it]"
     ]
    },
    {
     "name": "stdout",
     "output_type": "stream",
     "text": [
      "Training until validation scores don't improve for 100 rounds\n",
      "[100]\ttraining's binary_logloss: 0.308072\tvalid_1's binary_logloss: 0.312927\n",
      "[200]\ttraining's binary_logloss: 0.304543\tvalid_1's binary_logloss: 0.311647\n",
      "[300]\ttraining's binary_logloss: 0.301535\tvalid_1's binary_logloss: 0.310928\n",
      "[400]\ttraining's binary_logloss: 0.299027\tvalid_1's binary_logloss: 0.310518\n",
      "[500]\ttraining's binary_logloss: 0.296589\tvalid_1's binary_logloss: 0.310157\n",
      "[600]\ttraining's binary_logloss: 0.294195\tvalid_1's binary_logloss: 0.309818\n",
      "[700]\ttraining's binary_logloss: 0.291755\tvalid_1's binary_logloss: 0.309531\n",
      "[800]\ttraining's binary_logloss: 0.28947\tvalid_1's binary_logloss: 0.309284\n",
      "[900]\ttraining's binary_logloss: 0.287328\tvalid_1's binary_logloss: 0.309139\n",
      "[1000]\ttraining's binary_logloss: 0.285401\tvalid_1's binary_logloss: 0.309104\n",
      "Did not meet early stopping. Best iteration is:\n",
      "[1000]\ttraining's binary_logloss: 0.285401\tvalid_1's binary_logloss: 0.309104\n"
     ]
    },
    {
     "name": "stderr",
     "output_type": "stream",
     "text": [
      "tune_feature_fraction, val_score: 0.309104:  29%|##8       | 2/7 [00:55<02:24, 28.81s/it][I 2020-03-24 15:27:38,837] Finished trial#1 resulted in value: 0.3091035310730227. Current best value is 0.3091035310730227 with parameters: {'feature_fraction': 0.5}.\n",
      "tune_feature_fraction, val_score: 0.309104:  29%|##8       | 2/7 [00:55<02:24, 28.81s/it]"
     ]
    },
    {
     "name": "stdout",
     "output_type": "stream",
     "text": [
      "Training until validation scores don't improve for 100 rounds\n",
      "[100]\ttraining's binary_logloss: 0.308\tvalid_1's binary_logloss: 0.313147\n",
      "[200]\ttraining's binary_logloss: 0.304243\tvalid_1's binary_logloss: 0.311899\n",
      "[300]\ttraining's binary_logloss: 0.300987\tvalid_1's binary_logloss: 0.310983\n",
      "[400]\ttraining's binary_logloss: 0.298355\tvalid_1's binary_logloss: 0.310489\n",
      "[500]\ttraining's binary_logloss: 0.296033\tvalid_1's binary_logloss: 0.310261\n",
      "[600]\ttraining's binary_logloss: 0.293538\tvalid_1's binary_logloss: 0.309937\n",
      "[700]\ttraining's binary_logloss: 0.291186\tvalid_1's binary_logloss: 0.309723\n",
      "[800]\ttraining's binary_logloss: 0.288864\tvalid_1's binary_logloss: 0.309513\n",
      "[900]\ttraining's binary_logloss: 0.286765\tvalid_1's binary_logloss: 0.309413\n",
      "Early stopping, best iteration is:\n",
      "[877]\ttraining's binary_logloss: 0.28717\tvalid_1's binary_logloss: 0.30938\n"
     ]
    },
    {
     "name": "stderr",
     "output_type": "stream",
     "text": [
      "tune_feature_fraction, val_score: 0.309104:  43%|####2     | 3/7 [01:19<01:50, 27.55s/it][I 2020-03-24 15:28:03,620] Finished trial#2 resulted in value: 0.3093804565773021. Current best value is 0.3091035310730227 with parameters: {'feature_fraction': 0.5}.\n",
      "tune_feature_fraction, val_score: 0.309104:  43%|####2     | 3/7 [01:19<01:50, 27.55s/it]"
     ]
    },
    {
     "name": "stdout",
     "output_type": "stream",
     "text": [
      "Training until validation scores don't improve for 100 rounds\n",
      "[100]\ttraining's binary_logloss: 0.30787\tvalid_1's binary_logloss: 0.312962\n",
      "[200]\ttraining's binary_logloss: 0.303991\tvalid_1's binary_logloss: 0.311655\n",
      "[300]\ttraining's binary_logloss: 0.300795\tvalid_1's binary_logloss: 0.310871\n",
      "[400]\ttraining's binary_logloss: 0.298062\tvalid_1's binary_logloss: 0.310401\n",
      "[500]\ttraining's binary_logloss: 0.295509\tvalid_1's binary_logloss: 0.310121\n",
      "[600]\ttraining's binary_logloss: 0.29299\tvalid_1's binary_logloss: 0.309874\n",
      "[700]\ttraining's binary_logloss: 0.290517\tvalid_1's binary_logloss: 0.309681\n",
      "[800]\ttraining's binary_logloss: 0.288259\tvalid_1's binary_logloss: 0.309587\n",
      "[900]\ttraining's binary_logloss: 0.285843\tvalid_1's binary_logloss: 0.309402\n",
      "[1000]\ttraining's binary_logloss: 0.283556\tvalid_1's binary_logloss: 0.3093\n",
      "Did not meet early stopping. Best iteration is:\n",
      "[1000]\ttraining's binary_logloss: 0.283556\tvalid_1's binary_logloss: 0.3093\n"
     ]
    },
    {
     "name": "stderr",
     "output_type": "stream",
     "text": [
      "tune_feature_fraction, val_score: 0.309104:  57%|#####7    | 4/7 [01:45<01:21, 27.11s/it][I 2020-03-24 15:28:29,461] Finished trial#3 resulted in value: 0.3093000393071964. Current best value is 0.3091035310730227 with parameters: {'feature_fraction': 0.5}.\n",
      "tune_feature_fraction, val_score: 0.309104:  57%|#####7    | 4/7 [01:45<01:21, 27.11s/it]"
     ]
    },
    {
     "name": "stdout",
     "output_type": "stream",
     "text": [
      "Training until validation scores don't improve for 100 rounds\n",
      "[100]\ttraining's binary_logloss: 0.307727\tvalid_1's binary_logloss: 0.312789\n",
      "[200]\ttraining's binary_logloss: 0.303662\tvalid_1's binary_logloss: 0.311283\n",
      "[300]\ttraining's binary_logloss: 0.300749\tvalid_1's binary_logloss: 0.3108\n",
      "[400]\ttraining's binary_logloss: 0.297886\tvalid_1's binary_logloss: 0.310396\n",
      "[500]\ttraining's binary_logloss: 0.295239\tvalid_1's binary_logloss: 0.310076\n",
      "[600]\ttraining's binary_logloss: 0.292718\tvalid_1's binary_logloss: 0.309881\n",
      "[700]\ttraining's binary_logloss: 0.290105\tvalid_1's binary_logloss: 0.309698\n",
      "[800]\ttraining's binary_logloss: 0.28758\tvalid_1's binary_logloss: 0.309455\n",
      "[900]\ttraining's binary_logloss: 0.285279\tvalid_1's binary_logloss: 0.309382\n",
      "[1000]\ttraining's binary_logloss: 0.283087\tvalid_1's binary_logloss: 0.309391\n",
      "Did not meet early stopping. Best iteration is:\n",
      "[1000]\ttraining's binary_logloss: 0.283087\tvalid_1's binary_logloss: 0.309391\n"
     ]
    },
    {
     "name": "stderr",
     "output_type": "stream",
     "text": [
      "tune_feature_fraction, val_score: 0.309104:  71%|#######1  | 5/7 [02:12<00:53, 26.92s/it][I 2020-03-24 15:28:55,955] Finished trial#4 resulted in value: 0.30939101429340377. Current best value is 0.3091035310730227 with parameters: {'feature_fraction': 0.5}.\n",
      "tune_feature_fraction, val_score: 0.309104:  71%|#######1  | 5/7 [02:12<00:53, 26.92s/it]"
     ]
    },
    {
     "name": "stdout",
     "output_type": "stream",
     "text": [
      "Training until validation scores don't improve for 100 rounds\n",
      "[100]\ttraining's binary_logloss: 0.30754\tvalid_1's binary_logloss: 0.312882\n",
      "[200]\ttraining's binary_logloss: 0.303616\tvalid_1's binary_logloss: 0.311689\n",
      "[300]\ttraining's binary_logloss: 0.30051\tvalid_1's binary_logloss: 0.311088\n",
      "[400]\ttraining's binary_logloss: 0.297604\tvalid_1's binary_logloss: 0.310631\n",
      "[500]\ttraining's binary_logloss: 0.29498\tvalid_1's binary_logloss: 0.310414\n",
      "[600]\ttraining's binary_logloss: 0.292318\tvalid_1's binary_logloss: 0.310215\n",
      "[700]\ttraining's binary_logloss: 0.289805\tvalid_1's binary_logloss: 0.310036\n",
      "[800]\ttraining's binary_logloss: 0.287336\tvalid_1's binary_logloss: 0.309853\n",
      "[900]\ttraining's binary_logloss: 0.284997\tvalid_1's binary_logloss: 0.309751\n",
      "[1000]\ttraining's binary_logloss: 0.282621\tvalid_1's binary_logloss: 0.30961\n",
      "Did not meet early stopping. Best iteration is:\n",
      "[1000]\ttraining's binary_logloss: 0.282621\tvalid_1's binary_logloss: 0.30961\n"
     ]
    },
    {
     "name": "stderr",
     "output_type": "stream",
     "text": [
      "tune_feature_fraction, val_score: 0.309104:  86%|########5 | 6/7 [02:38<00:26, 26.78s/it][I 2020-03-24 15:29:22,411] Finished trial#5 resulted in value: 0.30961023541940697. Current best value is 0.3091035310730227 with parameters: {'feature_fraction': 0.5}.\n",
      "tune_feature_fraction, val_score: 0.309104:  86%|########5 | 6/7 [02:38<00:26, 26.78s/it]"
     ]
    },
    {
     "name": "stdout",
     "output_type": "stream",
     "text": [
      "Training until validation scores don't improve for 100 rounds\n",
      "[100]\ttraining's binary_logloss: 0.30765\tvalid_1's binary_logloss: 0.313016\n",
      "[200]\ttraining's binary_logloss: 0.303491\tvalid_1's binary_logloss: 0.311605\n",
      "[300]\ttraining's binary_logloss: 0.300335\tvalid_1's binary_logloss: 0.311069\n",
      "[400]\ttraining's binary_logloss: 0.297524\tvalid_1's binary_logloss: 0.310657\n",
      "[500]\ttraining's binary_logloss: 0.294634\tvalid_1's binary_logloss: 0.310441\n",
      "[600]\ttraining's binary_logloss: 0.29187\tvalid_1's binary_logloss: 0.310162\n",
      "[700]\ttraining's binary_logloss: 0.289274\tvalid_1's binary_logloss: 0.310002\n",
      "[800]\ttraining's binary_logloss: 0.286778\tvalid_1's binary_logloss: 0.309756\n",
      "[900]\ttraining's binary_logloss: 0.284587\tvalid_1's binary_logloss: 0.309685\n",
      "[1000]\ttraining's binary_logloss: 0.282207\tvalid_1's binary_logloss: 0.309563\n",
      "Did not meet early stopping. Best iteration is:\n",
      "[1000]\ttraining's binary_logloss: 0.282207\tvalid_1's binary_logloss: 0.309563\n"
     ]
    },
    {
     "name": "stderr",
     "output_type": "stream",
     "text": [
      "tune_feature_fraction, val_score: 0.309104: 100%|##########| 7/7 [03:06<00:00, 26.96s/it][I 2020-03-24 15:29:49,748] Finished trial#6 resulted in value: 0.3095627597862829. Current best value is 0.3091035310730227 with parameters: {'feature_fraction': 0.5}.\n",
      "tune_feature_fraction, val_score: 0.309104: 100%|##########| 7/7 [03:06<00:00, 26.59s/it]\n",
      "tune_num_leaves, val_score: 0.309104:   0%|          | 0/20 [00:00<?, ?it/s]"
     ]
    },
    {
     "name": "stdout",
     "output_type": "stream",
     "text": [
      "Training until validation scores don't improve for 100 rounds\n",
      "[100]\ttraining's binary_logloss: 0.285684\tvalid_1's binary_logloss: 0.308997\n",
      "[200]\ttraining's binary_logloss: 0.270314\tvalid_1's binary_logloss: 0.308545\n",
      "[300]\ttraining's binary_logloss: 0.256866\tvalid_1's binary_logloss: 0.308554\n",
      "Early stopping, best iteration is:\n",
      "[210]\ttraining's binary_logloss: 0.268814\tvalid_1's binary_logloss: 0.308486\n"
     ]
    },
    {
     "name": "stderr",
     "output_type": "stream",
     "text": [
      "tune_num_leaves, val_score: 0.308486:   5%|5         | 1/20 [00:14<04:38, 14.64s/it][I 2020-03-24 15:30:04,538] Finished trial#0 resulted in value: 0.3084857271471038. Current best value is 0.3084857271471038 with parameters: {'num_leaves': 250}.\n",
      "tune_num_leaves, val_score: 0.308486:   5%|5         | 1/20 [00:14<04:38, 14.64s/it]"
     ]
    },
    {
     "name": "stdout",
     "output_type": "stream",
     "text": [
      "Training until validation scores don't improve for 100 rounds\n",
      "[100]\ttraining's binary_logloss: 0.290059\tvalid_1's binary_logloss: 0.309123\n",
      "[200]\ttraining's binary_logloss: 0.276909\tvalid_1's binary_logloss: 0.308602\n",
      "[300]\ttraining's binary_logloss: 0.265629\tvalid_1's binary_logloss: 0.308515\n",
      "[400]\ttraining's binary_logloss: 0.255459\tvalid_1's binary_logloss: 0.308609\n",
      "Early stopping, best iteration is:\n",
      "[351]\ttraining's binary_logloss: 0.260379\tvalid_1's binary_logloss: 0.308447\n"
     ]
    },
    {
     "name": "stderr",
     "output_type": "stream",
     "text": [
      "tune_num_leaves, val_score: 0.308447:  10%|#         | 2/20 [00:32<04:43, 15.75s/it][I 2020-03-24 15:30:22,849] Finished trial#1 resulted in value: 0.30844710166990097. Current best value is 0.30844710166990097 with parameters: {'num_leaves': 198}.\n",
      "tune_num_leaves, val_score: 0.308447:  10%|#         | 2/20 [00:33<04:43, 15.75s/it]"
     ]
    },
    {
     "name": "stdout",
     "output_type": "stream",
     "text": [
      "Training until validation scores don't improve for 100 rounds\n",
      "[100]\ttraining's binary_logloss: 0.289402\tvalid_1's binary_logloss: 0.309202\n",
      "[200]\ttraining's binary_logloss: 0.275765\tvalid_1's binary_logloss: 0.308884\n",
      "Early stopping, best iteration is:\n",
      "[156]\ttraining's binary_logloss: 0.281545\tvalid_1's binary_logloss: 0.308764\n"
     ]
    },
    {
     "name": "stderr",
     "output_type": "stream",
     "text": [
      "tune_num_leaves, val_score: 0.308447:  15%|#5        | 3/20 [00:44<04:08, 14.62s/it][I 2020-03-24 15:30:34,810] Finished trial#2 resulted in value: 0.3087637882648469. Current best value is 0.30844710166990097 with parameters: {'num_leaves': 198}.\n",
      "tune_num_leaves, val_score: 0.308447:  15%|#5        | 3/20 [00:45<04:08, 14.62s/it]"
     ]
    },
    {
     "name": "stdout",
     "output_type": "stream",
     "text": [
      "Training until validation scores don't improve for 100 rounds\n",
      "[100]\ttraining's binary_logloss: 0.309829\tvalid_1's binary_logloss: 0.314036\n",
      "[200]\ttraining's binary_logloss: 0.306869\tvalid_1's binary_logloss: 0.312764\n",
      "[300]\ttraining's binary_logloss: 0.304346\tvalid_1's binary_logloss: 0.311773\n",
      "[400]\ttraining's binary_logloss: 0.302327\tvalid_1's binary_logloss: 0.311225\n",
      "[500]\ttraining's binary_logloss: 0.300302\tvalid_1's binary_logloss: 0.31073\n",
      "[600]\ttraining's binary_logloss: 0.298368\tvalid_1's binary_logloss: 0.310381\n",
      "[700]\ttraining's binary_logloss: 0.296678\tvalid_1's binary_logloss: 0.310058\n",
      "[800]\ttraining's binary_logloss: 0.294991\tvalid_1's binary_logloss: 0.309815\n",
      "[900]\ttraining's binary_logloss: 0.29338\tvalid_1's binary_logloss: 0.309545\n",
      "[1000]\ttraining's binary_logloss: 0.291849\tvalid_1's binary_logloss: 0.309392\n",
      "Did not meet early stopping. Best iteration is:\n",
      "[1000]\ttraining's binary_logloss: 0.291849\tvalid_1's binary_logloss: 0.309392\n"
     ]
    },
    {
     "name": "stderr",
     "output_type": "stream",
     "text": [
      "tune_num_leaves, val_score: 0.308447:  20%|##        | 4/20 [01:08<04:34, 17.16s/it][I 2020-03-24 15:30:57,924] Finished trial#3 resulted in value: 0.30939224660465325. Current best value is 0.30844710166990097 with parameters: {'num_leaves': 198}.\n",
      "tune_num_leaves, val_score: 0.308447:  20%|##        | 4/20 [01:08<04:34, 17.16s/it]"
     ]
    },
    {
     "name": "stdout",
     "output_type": "stream",
     "text": [
      "Training until validation scores don't improve for 100 rounds\n",
      "[100]\ttraining's binary_logloss: 0.304572\tvalid_1's binary_logloss: 0.31145\n",
      "[200]\ttraining's binary_logloss: 0.299262\tvalid_1's binary_logloss: 0.310322\n",
      "[300]\ttraining's binary_logloss: 0.29502\tvalid_1's binary_logloss: 0.309928\n",
      "[400]\ttraining's binary_logloss: 0.291046\tvalid_1's binary_logloss: 0.30948\n",
      "[500]\ttraining's binary_logloss: 0.287228\tvalid_1's binary_logloss: 0.309302\n",
      "[600]\ttraining's binary_logloss: 0.283469\tvalid_1's binary_logloss: 0.309033\n",
      "[700]\ttraining's binary_logloss: 0.280095\tvalid_1's binary_logloss: 0.308899\n",
      "[800]\ttraining's binary_logloss: 0.276804\tvalid_1's binary_logloss: 0.308874\n",
      "Early stopping, best iteration is:\n",
      "[727]\ttraining's binary_logloss: 0.279207\tvalid_1's binary_logloss: 0.308851\n"
     ]
    },
    {
     "name": "stderr",
     "output_type": "stream",
     "text": [
      "tune_num_leaves, val_score: 0.308447:  25%|##5       | 5/20 [01:30<04:39, 18.65s/it][I 2020-03-24 15:31:20,068] Finished trial#4 resulted in value: 0.30885138495510517. Current best value is 0.30844710166990097 with parameters: {'num_leaves': 198}.\n",
      "tune_num_leaves, val_score: 0.308447:  25%|##5       | 5/20 [01:30<04:39, 18.65s/it]"
     ]
    },
    {
     "name": "stdout",
     "output_type": "stream",
     "text": [
      "Training until validation scores don't improve for 100 rounds\n",
      "[100]\ttraining's binary_logloss: 0.31176\tvalid_1's binary_logloss: 0.315431\n",
      "[200]\ttraining's binary_logloss: 0.308942\tvalid_1's binary_logloss: 0.313629\n",
      "[300]\ttraining's binary_logloss: 0.306992\tvalid_1's binary_logloss: 0.31263\n",
      "[400]\ttraining's binary_logloss: 0.30553\tvalid_1's binary_logloss: 0.312192\n",
      "[500]\ttraining's binary_logloss: 0.30407\tvalid_1's binary_logloss: 0.311771\n",
      "[600]\ttraining's binary_logloss: 0.302556\tvalid_1's binary_logloss: 0.31126\n",
      "[700]\ttraining's binary_logloss: 0.301312\tvalid_1's binary_logloss: 0.310921\n",
      "[800]\ttraining's binary_logloss: 0.30014\tvalid_1's binary_logloss: 0.310703\n",
      "[900]\ttraining's binary_logloss: 0.298973\tvalid_1's binary_logloss: 0.310467\n",
      "[1000]\ttraining's binary_logloss: 0.297857\tvalid_1's binary_logloss: 0.310278\n",
      "Did not meet early stopping. Best iteration is:\n",
      "[1000]\ttraining's binary_logloss: 0.297857\tvalid_1's binary_logloss: 0.310278\n"
     ]
    },
    {
     "name": "stderr",
     "output_type": "stream",
     "text": [
      "tune_num_leaves, val_score: 0.308447:  30%|###       | 6/20 [01:52<04:35, 19.71s/it][I 2020-03-24 15:31:42,228] Finished trial#5 resulted in value: 0.3102779294622831. Current best value is 0.30844710166990097 with parameters: {'num_leaves': 198}.\n",
      "tune_num_leaves, val_score: 0.308447:  30%|###       | 6/20 [01:52<04:35, 19.71s/it]"
     ]
    },
    {
     "name": "stdout",
     "output_type": "stream",
     "text": [
      "Training until validation scores don't improve for 100 rounds\n",
      "[100]\ttraining's binary_logloss: 0.294906\tvalid_1's binary_logloss: 0.309578\n",
      "[200]\ttraining's binary_logloss: 0.283982\tvalid_1's binary_logloss: 0.308721\n",
      "[300]\ttraining's binary_logloss: 0.275054\tvalid_1's binary_logloss: 0.308452\n",
      "[400]\ttraining's binary_logloss: 0.267274\tvalid_1's binary_logloss: 0.3085\n",
      "Early stopping, best iteration is:\n",
      "[331]\ttraining's binary_logloss: 0.272633\tvalid_1's binary_logloss: 0.308403\n"
     ]
    },
    {
     "name": "stderr",
     "output_type": "stream",
     "text": [
      "tune_num_leaves, val_score: 0.308403:  35%|###5      | 7/20 [02:08<04:02, 18.62s/it][I 2020-03-24 15:31:58,299] Finished trial#6 resulted in value: 0.3084033951611068. Current best value is 0.3084033951611068 with parameters: {'num_leaves': 146}.\n",
      "tune_num_leaves, val_score: 0.308403:  35%|###5      | 7/20 [02:08<04:02, 18.62s/it]"
     ]
    },
    {
     "name": "stdout",
     "output_type": "stream",
     "text": [
      "Training until validation scores don't improve for 100 rounds\n",
      "[100]\ttraining's binary_logloss: 0.293497\tvalid_1's binary_logloss: 0.309704\n",
      "[200]\ttraining's binary_logloss: 0.282127\tvalid_1's binary_logloss: 0.309151\n",
      "[300]\ttraining's binary_logloss: 0.272407\tvalid_1's binary_logloss: 0.309065\n",
      "[400]\ttraining's binary_logloss: 0.263697\tvalid_1's binary_logloss: 0.308888\n",
      "[500]\ttraining's binary_logloss: 0.255822\tvalid_1's binary_logloss: 0.309041\n",
      "Early stopping, best iteration is:\n",
      "[422]\ttraining's binary_logloss: 0.26171\tvalid_1's binary_logloss: 0.308878\n"
     ]
    },
    {
     "name": "stderr",
     "output_type": "stream",
     "text": [
      "tune_num_leaves, val_score: 0.308403:  40%|####      | 8/20 [02:27<03:46, 18.84s/it][I 2020-03-24 15:32:17,638] Finished trial#7 resulted in value: 0.30887782238790584. Current best value is 0.3084033951611068 with parameters: {'num_leaves': 146}.\n",
      "tune_num_leaves, val_score: 0.308403:  40%|####      | 8/20 [02:27<03:46, 18.84s/it]"
     ]
    },
    {
     "name": "stdout",
     "output_type": "stream",
     "text": [
      "Training until validation scores don't improve for 100 rounds\n",
      "[100]\ttraining's binary_logloss: 0.292136\tvalid_1's binary_logloss: 0.309358\n",
      "[200]\ttraining's binary_logloss: 0.280193\tvalid_1's binary_logloss: 0.308908\n",
      "[300]\ttraining's binary_logloss: 0.269498\tvalid_1's binary_logloss: 0.308893\n",
      "Early stopping, best iteration is:\n",
      "[213]\ttraining's binary_logloss: 0.278549\tvalid_1's binary_logloss: 0.308805\n"
     ]
    },
    {
     "name": "stderr",
     "output_type": "stream",
     "text": [
      "tune_num_leaves, val_score: 0.308403:  45%|####5     | 9/20 [02:40<03:08, 17.14s/it][I 2020-03-24 15:32:30,854] Finished trial#8 resulted in value: 0.30880456672174034. Current best value is 0.3084033951611068 with parameters: {'num_leaves': 146}.\n",
      "tune_num_leaves, val_score: 0.308403:  45%|####5     | 9/20 [02:41<03:08, 17.14s/it]"
     ]
    },
    {
     "name": "stdout",
     "output_type": "stream",
     "text": [
      "Training until validation scores don't improve for 100 rounds\n",
      "[100]\ttraining's binary_logloss: 0.294047\tvalid_1's binary_logloss: 0.309338\n",
      "[200]\ttraining's binary_logloss: 0.283139\tvalid_1's binary_logloss: 0.308836\n",
      "[300]\ttraining's binary_logloss: 0.273896\tvalid_1's binary_logloss: 0.308771\n",
      "[400]\ttraining's binary_logloss: 0.265479\tvalid_1's binary_logloss: 0.308801\n",
      "Early stopping, best iteration is:\n",
      "[309]\ttraining's binary_logloss: 0.273144\tvalid_1's binary_logloss: 0.308754\n"
     ]
    },
    {
     "name": "stderr",
     "output_type": "stream",
     "text": [
      "tune_num_leaves, val_score: 0.308403:  50%|#####     | 10/20 [02:56<02:46, 16.67s/it][I 2020-03-24 15:32:46,386] Finished trial#9 resulted in value: 0.30875372261281736. Current best value is 0.3084033951611068 with parameters: {'num_leaves': 146}.\n",
      "tune_num_leaves, val_score: 0.308403:  50%|#####     | 10/20 [02:56<02:46, 16.67s/it]"
     ]
    },
    {
     "name": "stdout",
     "output_type": "stream",
     "text": [
      "Training until validation scores don't improve for 100 rounds\n",
      "[100]\ttraining's binary_logloss: 0.299648\tvalid_1's binary_logloss: 0.310111\n",
      "[200]\ttraining's binary_logloss: 0.291469\tvalid_1's binary_logloss: 0.30932\n",
      "[300]\ttraining's binary_logloss: 0.284475\tvalid_1's binary_logloss: 0.308748\n",
      "[400]\ttraining's binary_logloss: 0.278472\tvalid_1's binary_logloss: 0.308523\n",
      "[500]\ttraining's binary_logloss: 0.272544\tvalid_1's binary_logloss: 0.308336\n",
      "Early stopping, best iteration is:\n",
      "[479]\ttraining's binary_logloss: 0.273645\tvalid_1's binary_logloss: 0.308314\n"
     ]
    },
    {
     "name": "stderr",
     "output_type": "stream",
     "text": [
      "tune_num_leaves, val_score: 0.308314:  55%|#####5    | 11/20 [03:15<02:35, 17.23s/it][I 2020-03-24 15:33:04,925] Finished trial#10 resulted in value: 0.3083143170242334. Current best value is 0.3083143170242334 with parameters: {'num_leaves': 98}.\n",
      "tune_num_leaves, val_score: 0.308314:  55%|#####5    | 11/20 [03:15<02:35, 17.23s/it]"
     ]
    },
    {
     "name": "stdout",
     "output_type": "stream",
     "text": [
      "Training until validation scores don't improve for 100 rounds\n",
      "[100]\ttraining's binary_logloss: 0.300605\tvalid_1's binary_logloss: 0.310237\n",
      "[200]\ttraining's binary_logloss: 0.293168\tvalid_1's binary_logloss: 0.309535\n",
      "[300]\ttraining's binary_logloss: 0.286863\tvalid_1's binary_logloss: 0.30927\n",
      "[400]\ttraining's binary_logloss: 0.281444\tvalid_1's binary_logloss: 0.309149\n",
      "Early stopping, best iteration is:\n",
      "[383]\ttraining's binary_logloss: 0.282254\tvalid_1's binary_logloss: 0.309103\n"
     ]
    },
    {
     "name": "stderr",
     "output_type": "stream",
     "text": [
      "tune_num_leaves, val_score: 0.308314:  60%|######    | 12/20 [03:30<02:13, 16.73s/it][I 2020-03-24 15:33:20,502] Finished trial#11 resulted in value: 0.30910327972950796. Current best value is 0.3083143170242334 with parameters: {'num_leaves': 98}.\n",
      "tune_num_leaves, val_score: 0.308314:  60%|######    | 12/20 [03:30<02:13, 16.73s/it]"
     ]
    },
    {
     "name": "stdout",
     "output_type": "stream",
     "text": [
      "Training until validation scores don't improve for 100 rounds\n",
      "[100]\ttraining's binary_logloss: 0.300703\tvalid_1's binary_logloss: 0.310127\n",
      "[200]\ttraining's binary_logloss: 0.29346\tvalid_1's binary_logloss: 0.309443\n",
      "[300]\ttraining's binary_logloss: 0.287417\tvalid_1's binary_logloss: 0.309019\n",
      "[400]\ttraining's binary_logloss: 0.282143\tvalid_1's binary_logloss: 0.308822\n",
      "[500]\ttraining's binary_logloss: 0.276977\tvalid_1's binary_logloss: 0.308684\n",
      "[600]\ttraining's binary_logloss: 0.272025\tvalid_1's binary_logloss: 0.308646\n",
      "[700]\ttraining's binary_logloss: 0.267445\tvalid_1's binary_logloss: 0.308587\n",
      "[800]\ttraining's binary_logloss: 0.262825\tvalid_1's binary_logloss: 0.308647\n",
      "Early stopping, best iteration is:\n",
      "[719]\ttraining's binary_logloss: 0.266552\tvalid_1's binary_logloss: 0.308554\n"
     ]
    },
    {
     "name": "stderr",
     "output_type": "stream",
     "text": [
      "tune_num_leaves, val_score: 0.308314:  65%|######5   | 13/20 [03:54<02:12, 19.00s/it][I 2020-03-24 15:33:44,783] Finished trial#12 resulted in value: 0.3085538193672746. Current best value is 0.3083143170242334 with parameters: {'num_leaves': 98}.\n",
      "tune_num_leaves, val_score: 0.308314:  65%|######5   | 13/20 [03:55<02:12, 19.00s/it]"
     ]
    },
    {
     "name": "stdout",
     "output_type": "stream",
     "text": [
      "Training until validation scores don't improve for 100 rounds\n",
      "[100]\ttraining's binary_logloss: 0.297866\tvalid_1's binary_logloss: 0.309894\n",
      "[200]\ttraining's binary_logloss: 0.288904\tvalid_1's binary_logloss: 0.309127\n",
      "[300]\ttraining's binary_logloss: 0.281301\tvalid_1's binary_logloss: 0.308756\n",
      "[400]\ttraining's binary_logloss: 0.274548\tvalid_1's binary_logloss: 0.308626\n",
      "Early stopping, best iteration is:\n",
      "[398]\ttraining's binary_logloss: 0.274647\tvalid_1's binary_logloss: 0.308611\n"
     ]
    },
    {
     "name": "stderr",
     "output_type": "stream",
     "text": [
      "tune_num_leaves, val_score: 0.308314:  70%|#######   | 14/20 [04:12<01:50, 18.48s/it][I 2020-03-24 15:34:02,048] Finished trial#13 resulted in value: 0.30861121682347054. Current best value is 0.3083143170242334 with parameters: {'num_leaves': 98}.\n",
      "tune_num_leaves, val_score: 0.308314:  70%|#######   | 14/20 [04:12<01:50, 18.48s/it]"
     ]
    },
    {
     "name": "stdout",
     "output_type": "stream",
     "text": [
      "Training until validation scores don't improve for 100 rounds\n",
      "[100]\ttraining's binary_logloss: 0.296945\tvalid_1's binary_logloss: 0.309706\n",
      "[200]\ttraining's binary_logloss: 0.287502\tvalid_1's binary_logloss: 0.309001\n",
      "[300]\ttraining's binary_logloss: 0.279377\tvalid_1's binary_logloss: 0.30887\n",
      "[400]\ttraining's binary_logloss: 0.27213\tvalid_1's binary_logloss: 0.3087\n",
      "[500]\ttraining's binary_logloss: 0.265636\tvalid_1's binary_logloss: 0.308827\n",
      "Early stopping, best iteration is:\n",
      "[402]\ttraining's binary_logloss: 0.271952\tvalid_1's binary_logloss: 0.308673\n"
     ]
    },
    {
     "name": "stderr",
     "output_type": "stream",
     "text": [
      "tune_num_leaves, val_score: 0.308314:  75%|#######5  | 15/20 [04:29<01:31, 18.24s/it][I 2020-03-24 15:34:19,713] Finished trial#14 resulted in value: 0.3086725097639875. Current best value is 0.3083143170242334 with parameters: {'num_leaves': 98}.\n",
      "tune_num_leaves, val_score: 0.308314:  75%|#######5  | 15/20 [04:29<01:31, 18.24s/it]"
     ]
    },
    {
     "name": "stdout",
     "output_type": "stream",
     "text": [
      "Training until validation scores don't improve for 100 rounds\n",
      "[100]\ttraining's binary_logloss: 0.30336\tvalid_1's binary_logloss: 0.310991\n",
      "[200]\ttraining's binary_logloss: 0.297445\tvalid_1's binary_logloss: 0.309992\n",
      "[300]\ttraining's binary_logloss: 0.292277\tvalid_1's binary_logloss: 0.309355\n",
      "[400]\ttraining's binary_logloss: 0.287901\tvalid_1's binary_logloss: 0.309101\n",
      "[500]\ttraining's binary_logloss: 0.283641\tvalid_1's binary_logloss: 0.308893\n",
      "[600]\ttraining's binary_logloss: 0.279553\tvalid_1's binary_logloss: 0.308792\n",
      "[700]\ttraining's binary_logloss: 0.275814\tvalid_1's binary_logloss: 0.3087\n",
      "[800]\ttraining's binary_logloss: 0.272076\tvalid_1's binary_logloss: 0.308699\n",
      "Early stopping, best iteration is:\n",
      "[716]\ttraining's binary_logloss: 0.275169\tvalid_1's binary_logloss: 0.308636\n"
     ]
    },
    {
     "name": "stderr",
     "output_type": "stream",
     "text": [
      "tune_num_leaves, val_score: 0.308314:  80%|########  | 16/20 [04:52<01:18, 19.57s/it][I 2020-03-24 15:34:42,432] Finished trial#15 resulted in value: 0.30863609227643424. Current best value is 0.3083143170242334 with parameters: {'num_leaves': 98}.\n",
      "tune_num_leaves, val_score: 0.308314:  80%|########  | 16/20 [04:52<01:18, 19.57s/it]"
     ]
    },
    {
     "name": "stdout",
     "output_type": "stream",
     "text": [
      "Training until validation scores don't improve for 100 rounds\n",
      "[100]\ttraining's binary_logloss: 0.295451\tvalid_1's binary_logloss: 0.309428\n",
      "[200]\ttraining's binary_logloss: 0.285199\tvalid_1's binary_logloss: 0.308733\n",
      "[300]\ttraining's binary_logloss: 0.276165\tvalid_1's binary_logloss: 0.308371\n",
      "[400]\ttraining's binary_logloss: 0.268503\tvalid_1's binary_logloss: 0.308288\n",
      "Early stopping, best iteration is:\n",
      "[391]\ttraining's binary_logloss: 0.269078\tvalid_1's binary_logloss: 0.30826\n"
     ]
    },
    {
     "name": "stderr",
     "output_type": "stream",
     "text": [
      "tune_num_leaves, val_score: 0.308260:  85%|########5 | 17/20 [05:10<00:57, 19.06s/it][I 2020-03-24 15:35:00,275] Finished trial#16 resulted in value: 0.3082597706839931. Current best value is 0.3082597706839931 with parameters: {'num_leaves': 140}.\n",
      "tune_num_leaves, val_score: 0.308260:  85%|########5 | 17/20 [05:10<00:57, 19.06s/it]"
     ]
    },
    {
     "name": "stdout",
     "output_type": "stream",
     "text": [
      "Training until validation scores don't improve for 100 rounds\n",
      "[100]\ttraining's binary_logloss: 0.299842\tvalid_1's binary_logloss: 0.310257\n",
      "[200]\ttraining's binary_logloss: 0.291897\tvalid_1's binary_logloss: 0.309421\n",
      "[300]\ttraining's binary_logloss: 0.285344\tvalid_1's binary_logloss: 0.309071\n",
      "[400]\ttraining's binary_logloss: 0.27961\tvalid_1's binary_logloss: 0.308866\n",
      "[500]\ttraining's binary_logloss: 0.273918\tvalid_1's binary_logloss: 0.308682\n",
      "[600]\ttraining's binary_logloss: 0.268509\tvalid_1's binary_logloss: 0.308593\n",
      "[700]\ttraining's binary_logloss: 0.263576\tvalid_1's binary_logloss: 0.308619\n",
      "Early stopping, best iteration is:\n",
      "[628]\ttraining's binary_logloss: 0.266954\tvalid_1's binary_logloss: 0.308508\n"
     ]
    },
    {
     "name": "stderr",
     "output_type": "stream",
     "text": [
      "tune_num_leaves, val_score: 0.308260:  90%|######### | 18/20 [05:32<00:40, 20.02s/it][I 2020-03-24 15:35:22,544] Finished trial#17 resulted in value: 0.30850794633222733. Current best value is 0.3082597706839931 with parameters: {'num_leaves': 140}.\n",
      "tune_num_leaves, val_score: 0.308260:  90%|######### | 18/20 [05:32<00:40, 20.02s/it]"
     ]
    },
    {
     "name": "stdout",
     "output_type": "stream",
     "text": [
      "Training until validation scores don't improve for 100 rounds\n",
      "[100]\ttraining's binary_logloss: 0.305349\tvalid_1's binary_logloss: 0.311659\n",
      "[200]\ttraining's binary_logloss: 0.30058\tvalid_1's binary_logloss: 0.310643\n",
      "[300]\ttraining's binary_logloss: 0.29639\tvalid_1's binary_logloss: 0.310029\n",
      "[400]\ttraining's binary_logloss: 0.292974\tvalid_1's binary_logloss: 0.309651\n",
      "[500]\ttraining's binary_logloss: 0.289229\tvalid_1's binary_logloss: 0.309318\n",
      "[600]\ttraining's binary_logloss: 0.285954\tvalid_1's binary_logloss: 0.309147\n",
      "[700]\ttraining's binary_logloss: 0.282791\tvalid_1's binary_logloss: 0.30903\n",
      "[800]\ttraining's binary_logloss: 0.27982\tvalid_1's binary_logloss: 0.308884\n",
      "[900]\ttraining's binary_logloss: 0.276732\tvalid_1's binary_logloss: 0.308847\n",
      "[1000]\ttraining's binary_logloss: 0.273784\tvalid_1's binary_logloss: 0.308688\n",
      "Did not meet early stopping. Best iteration is:\n",
      "[1000]\ttraining's binary_logloss: 0.273784\tvalid_1's binary_logloss: 0.308688\n"
     ]
    },
    {
     "name": "stderr",
     "output_type": "stream",
     "text": [
      "tune_num_leaves, val_score: 0.308260:  95%|#########5| 19/20 [05:58<00:21, 21.78s/it][I 2020-03-24 15:35:48,473] Finished trial#18 resulted in value: 0.3086882661853655. Current best value is 0.3082597706839931 with parameters: {'num_leaves': 140}.\n",
      "tune_num_leaves, val_score: 0.308260:  95%|#########5| 19/20 [05:58<00:21, 21.78s/it]"
     ]
    },
    {
     "name": "stdout",
     "output_type": "stream",
     "text": [
      "Training until validation scores don't improve for 100 rounds\n",
      "[100]\ttraining's binary_logloss: 0.287896\tvalid_1's binary_logloss: 0.309146\n",
      "[200]\ttraining's binary_logloss: 0.272871\tvalid_1's binary_logloss: 0.3086\n",
      "[300]\ttraining's binary_logloss: 0.260323\tvalid_1's binary_logloss: 0.308781\n",
      "Early stopping, best iteration is:\n",
      "[200]\ttraining's binary_logloss: 0.272871\tvalid_1's binary_logloss: 0.3086\n"
     ]
    },
    {
     "name": "stderr",
     "output_type": "stream",
     "text": [
      "tune_num_leaves, val_score: 0.308260: 100%|##########| 20/20 [06:12<00:00, 19.49s/it][I 2020-03-24 15:36:02,583] Finished trial#19 resulted in value: 0.3085996308052984. Current best value is 0.3082597706839931 with parameters: {'num_leaves': 140}.\n",
      "tune_num_leaves, val_score: 0.308260: 100%|##########| 20/20 [06:12<00:00, 18.64s/it]\n",
      "tune_bagging_fraction_and_bagging_freq, val_score: 0.308260:   0%|          | 0/10 [00:00<?, ?it/s]"
     ]
    },
    {
     "name": "stdout",
     "output_type": "stream",
     "text": [
      "Training until validation scores don't improve for 100 rounds\n",
      "[100]\ttraining's binary_logloss: 0.295965\tvalid_1's binary_logloss: 0.311015\n",
      "[200]\ttraining's binary_logloss: 0.2846\tvalid_1's binary_logloss: 0.310723\n",
      "Early stopping, best iteration is:\n",
      "[157]\ttraining's binary_logloss: 0.289311\tvalid_1's binary_logloss: 0.310621\n"
     ]
    },
    {
     "name": "stderr",
     "output_type": "stream",
     "text": [
      "tune_bagging_fraction_and_bagging_freq, val_score: 0.308260:  10%|#         | 1/10 [00:09<01:28,  9.86s/it][I 2020-03-24 15:36:12,589] Finished trial#0 resulted in value: 0.31062066408534733. Current best value is 0.31062066408534733 with parameters: {'bagging_fraction': 0.5051358548990146, 'bagging_freq': 3}.\n",
      "tune_bagging_fraction_and_bagging_freq, val_score: 0.308260:  10%|#         | 1/10 [00:09<01:28,  9.86s/it]"
     ]
    },
    {
     "name": "stdout",
     "output_type": "stream",
     "text": [
      "Training until validation scores don't improve for 100 rounds\n",
      "[100]\ttraining's binary_logloss: 0.295909\tvalid_1's binary_logloss: 0.310554\n",
      "[200]\ttraining's binary_logloss: 0.284768\tvalid_1's binary_logloss: 0.310399\n",
      "[300]\ttraining's binary_logloss: 0.274839\tvalid_1's binary_logloss: 0.310545\n",
      "Early stopping, best iteration is:\n",
      "[214]\ttraining's binary_logloss: 0.283318\tvalid_1's binary_logloss: 0.310279\n"
     ]
    },
    {
     "name": "stderr",
     "output_type": "stream",
     "text": [
      "tune_bagging_fraction_and_bagging_freq, val_score: 0.308260:  20%|##        | 2/10 [00:21<01:23, 10.38s/it][I 2020-03-24 15:36:24,189] Finished trial#1 resulted in value: 0.31027879246310097. Current best value is 0.31027879246310097 with parameters: {'bagging_fraction': 0.5030860536799232, 'bagging_freq': 5}.\n",
      "tune_bagging_fraction_and_bagging_freq, val_score: 0.308260:  20%|##        | 2/10 [00:21<01:23, 10.38s/it]"
     ]
    },
    {
     "name": "stdout",
     "output_type": "stream",
     "text": [
      "Training until validation scores don't improve for 100 rounds\n",
      "[100]\ttraining's binary_logloss: 0.295395\tvalid_1's binary_logloss: 0.309909\n",
      "[200]\ttraining's binary_logloss: 0.284399\tvalid_1's binary_logloss: 0.309257\n",
      "[300]\ttraining's binary_logloss: 0.274847\tvalid_1's binary_logloss: 0.309146\n",
      "[400]\ttraining's binary_logloss: 0.266226\tvalid_1's binary_logloss: 0.309078\n",
      "[500]\ttraining's binary_logloss: 0.258138\tvalid_1's binary_logloss: 0.309075\n",
      "Early stopping, best iteration is:\n",
      "[410]\ttraining's binary_logloss: 0.265305\tvalid_1's binary_logloss: 0.308999\n"
     ]
    },
    {
     "name": "stderr",
     "output_type": "stream",
     "text": [
      "tune_bagging_fraction_and_bagging_freq, val_score: 0.308260:  30%|###       | 3/10 [00:42<01:35, 13.70s/it][I 2020-03-24 15:36:45,648] Finished trial#2 resulted in value: 0.3089988896868557. Current best value is 0.3089988896868557 with parameters: {'bagging_fraction': 0.866437536385389, 'bagging_freq': 2}.\n",
      "tune_bagging_fraction_and_bagging_freq, val_score: 0.308260:  30%|###       | 3/10 [00:43<01:35, 13.70s/it]"
     ]
    },
    {
     "name": "stdout",
     "output_type": "stream",
     "text": [
      "Training until validation scores don't improve for 100 rounds\n",
      "[100]\ttraining's binary_logloss: 0.295474\tvalid_1's binary_logloss: 0.309971\n",
      "[200]\ttraining's binary_logloss: 0.28436\tvalid_1's binary_logloss: 0.309225\n",
      "[300]\ttraining's binary_logloss: 0.274671\tvalid_1's binary_logloss: 0.308742\n",
      "[400]\ttraining's binary_logloss: 0.265948\tvalid_1's binary_logloss: 0.308675\n",
      "Early stopping, best iteration is:\n",
      "[351]\ttraining's binary_logloss: 0.270019\tvalid_1's binary_logloss: 0.308651\n"
     ]
    },
    {
     "name": "stderr",
     "output_type": "stream",
     "text": [
      "tune_bagging_fraction_and_bagging_freq, val_score: 0.308260:  40%|####      | 4/10 [01:21<02:06, 21.10s/it][I 2020-03-24 15:37:24,031] Finished trial#3 resulted in value: 0.3086509059347968. Current best value is 0.3086509059347968 with parameters: {'bagging_fraction': 0.7820016403144447, 'bagging_freq': 1}.\n",
      "tune_bagging_fraction_and_bagging_freq, val_score: 0.308260:  40%|####      | 4/10 [01:21<02:06, 21.10s/it]"
     ]
    },
    {
     "name": "stdout",
     "output_type": "stream",
     "text": [
      "Training until validation scores don't improve for 100 rounds\n",
      "[100]\ttraining's binary_logloss: 0.295694\tvalid_1's binary_logloss: 0.31029\n",
      "[200]\ttraining's binary_logloss: 0.28458\tvalid_1's binary_logloss: 0.309854\n",
      "Early stopping, best iteration is:\n",
      "[168]\ttraining's binary_logloss: 0.287807\tvalid_1's binary_logloss: 0.309725\n"
     ]
    },
    {
     "name": "stderr",
     "output_type": "stream",
     "text": [
      "tune_bagging_fraction_and_bagging_freq, val_score: 0.308260:  50%|#####     | 5/10 [01:42<01:46, 21.27s/it][I 2020-03-24 15:37:45,677] Finished trial#4 resulted in value: 0.3097247075666903. Current best value is 0.3086509059347968 with parameters: {'bagging_fraction': 0.7820016403144447, 'bagging_freq': 1}.\n",
      "tune_bagging_fraction_and_bagging_freq, val_score: 0.308260:  50%|#####     | 5/10 [01:43<01:46, 21.27s/it]"
     ]
    },
    {
     "name": "stdout",
     "output_type": "stream",
     "text": [
      "Training until validation scores don't improve for 100 rounds\n",
      "[100]\ttraining's binary_logloss: 0.296229\tvalid_1's binary_logloss: 0.310993\n",
      "[200]\ttraining's binary_logloss: 0.285077\tvalid_1's binary_logloss: 0.3109\n",
      "Early stopping, best iteration is:\n",
      "[166]\ttraining's binary_logloss: 0.288718\tvalid_1's binary_logloss: 0.310642\n"
     ]
    },
    {
     "name": "stderr",
     "output_type": "stream",
     "text": [
      "tune_bagging_fraction_and_bagging_freq, val_score: 0.308260:  60%|######    | 6/10 [01:53<01:11, 17.96s/it][I 2020-03-24 15:37:55,903] Finished trial#5 resulted in value: 0.3106422177250597. Current best value is 0.3086509059347968 with parameters: {'bagging_fraction': 0.7820016403144447, 'bagging_freq': 1}.\n",
      "tune_bagging_fraction_and_bagging_freq, val_score: 0.308260:  60%|######    | 6/10 [01:53<01:11, 17.96s/it]"
     ]
    },
    {
     "name": "stdout",
     "output_type": "stream",
     "text": [
      "Training until validation scores don't improve for 100 rounds\n",
      "[100]\ttraining's binary_logloss: 0.295338\tvalid_1's binary_logloss: 0.309675\n",
      "[200]\ttraining's binary_logloss: 0.284235\tvalid_1's binary_logloss: 0.309088\n",
      "Early stopping, best iteration is:\n",
      "[195]\ttraining's binary_logloss: 0.284754\tvalid_1's binary_logloss: 0.309036\n"
     ]
    },
    {
     "name": "stderr",
     "output_type": "stream",
     "text": [
      "tune_bagging_fraction_and_bagging_freq, val_score: 0.308260:  70%|#######   | 7/10 [02:19<01:01, 20.37s/it][I 2020-03-24 15:38:21,963] Finished trial#6 resulted in value: 0.30903610138983323. Current best value is 0.3086509059347968 with parameters: {'bagging_fraction': 0.7820016403144447, 'bagging_freq': 1}.\n",
      "tune_bagging_fraction_and_bagging_freq, val_score: 0.308260:  70%|#######   | 7/10 [02:19<01:01, 20.37s/it]"
     ]
    },
    {
     "name": "stdout",
     "output_type": "stream",
     "text": [
      "Training until validation scores don't improve for 100 rounds\n",
      "[100]\ttraining's binary_logloss: 0.295676\tvalid_1's binary_logloss: 0.310025\n",
      "[200]\ttraining's binary_logloss: 0.284505\tvalid_1's binary_logloss: 0.309473\n",
      "[300]\ttraining's binary_logloss: 0.274628\tvalid_1's binary_logloss: 0.309473\n",
      "Early stopping, best iteration is:\n",
      "[243]\ttraining's binary_logloss: 0.280088\tvalid_1's binary_logloss: 0.309364\n"
     ]
    },
    {
     "name": "stderr",
     "output_type": "stream",
     "text": [
      "tune_bagging_fraction_and_bagging_freq, val_score: 0.308260:  80%|########  | 8/10 [03:01<00:53, 26.97s/it][I 2020-03-24 15:39:04,304] Finished trial#7 resulted in value: 0.3093636074589539. Current best value is 0.3086509059347968 with parameters: {'bagging_fraction': 0.7820016403144447, 'bagging_freq': 1}.\n",
      "tune_bagging_fraction_and_bagging_freq, val_score: 0.308260:  80%|########  | 8/10 [03:01<00:53, 26.97s/it]"
     ]
    },
    {
     "name": "stdout",
     "output_type": "stream",
     "text": [
      "Training until validation scores don't improve for 100 rounds\n",
      "[100]\ttraining's binary_logloss: 0.295324\tvalid_1's binary_logloss: 0.309791\n",
      "[200]\ttraining's binary_logloss: 0.284258\tvalid_1's binary_logloss: 0.309145\n",
      "[300]\ttraining's binary_logloss: 0.274838\tvalid_1's binary_logloss: 0.308803\n",
      "Early stopping, best iteration is:\n",
      "[289]\ttraining's binary_logloss: 0.275681\tvalid_1's binary_logloss: 0.308774\n"
     ]
    },
    {
     "name": "stderr",
     "output_type": "stream",
     "text": [
      "tune_bagging_fraction_and_bagging_freq, val_score: 0.308260:  90%|######### | 9/10 [03:17<00:23, 23.70s/it][I 2020-03-24 15:39:20,344] Finished trial#8 resulted in value: 0.30877407019879644. Current best value is 0.3086509059347968 with parameters: {'bagging_fraction': 0.7820016403144447, 'bagging_freq': 1}.\n",
      "tune_bagging_fraction_and_bagging_freq, val_score: 0.308260:  90%|######### | 9/10 [03:17<00:23, 23.70s/it]"
     ]
    },
    {
     "name": "stdout",
     "output_type": "stream",
     "text": [
      "Training until validation scores don't improve for 100 rounds\n",
      "[100]\ttraining's binary_logloss: 0.296352\tvalid_1's binary_logloss: 0.311177\n",
      "[200]\ttraining's binary_logloss: 0.28525\tvalid_1's binary_logloss: 0.311163\n",
      "Early stopping, best iteration is:\n",
      "[131]\ttraining's binary_logloss: 0.292643\tvalid_1's binary_logloss: 0.31092\n"
     ]
    },
    {
     "name": "stderr",
     "output_type": "stream",
     "text": [
      "tune_bagging_fraction_and_bagging_freq, val_score: 0.308260: 100%|##########| 10/10 [03:25<00:00, 19.09s/it][I 2020-03-24 15:39:28,646] Finished trial#9 resulted in value: 0.31091981007367303. Current best value is 0.3086509059347968 with parameters: {'bagging_fraction': 0.7820016403144447, 'bagging_freq': 1}.\n",
      "tune_bagging_fraction_and_bagging_freq, val_score: 0.308260: 100%|##########| 10/10 [03:26<00:00, 20.60s/it]\n",
      "tune_feature_fraction, val_score: 0.308260:   0%|          | 0/6 [00:00<?, ?it/s]"
     ]
    },
    {
     "name": "stdout",
     "output_type": "stream",
     "text": [
      "Training until validation scores don't improve for 100 rounds\n",
      "[100]\ttraining's binary_logloss: 0.296078\tvalid_1's binary_logloss: 0.309704\n",
      "[200]\ttraining's binary_logloss: 0.285887\tvalid_1's binary_logloss: 0.308866\n",
      "[300]\ttraining's binary_logloss: 0.277436\tvalid_1's binary_logloss: 0.308614\n",
      "[400]\ttraining's binary_logloss: 0.26984\tvalid_1's binary_logloss: 0.308559\n",
      "[500]\ttraining's binary_logloss: 0.262867\tvalid_1's binary_logloss: 0.308588\n",
      "Early stopping, best iteration is:\n",
      "[421]\ttraining's binary_logloss: 0.268222\tvalid_1's binary_logloss: 0.308481\n"
     ]
    },
    {
     "name": "stderr",
     "output_type": "stream",
     "text": [
      "tune_feature_fraction, val_score: 0.308260:  17%|#6        | 1/6 [00:18<01:31, 18.32s/it][I 2020-03-24 15:39:47,104] Finished trial#0 resulted in value: 0.3084810948003269. Current best value is 0.3084810948003269 with parameters: {'feature_fraction': 0.42}.\n",
      "tune_feature_fraction, val_score: 0.308260:  17%|#6        | 1/6 [00:18<01:31, 18.32s/it]"
     ]
    },
    {
     "name": "stdout",
     "output_type": "stream",
     "text": [
      "Training until validation scores don't improve for 100 rounds\n",
      "[100]\ttraining's binary_logloss: 0.295811\tvalid_1's binary_logloss: 0.309633\n",
      "[200]\ttraining's binary_logloss: 0.285704\tvalid_1's binary_logloss: 0.308984\n",
      "[300]\ttraining's binary_logloss: 0.277038\tvalid_1's binary_logloss: 0.308655\n",
      "[400]\ttraining's binary_logloss: 0.269781\tvalid_1's binary_logloss: 0.308451\n",
      "[500]\ttraining's binary_logloss: 0.262644\tvalid_1's binary_logloss: 0.308358\n",
      "Early stopping, best iteration is:\n",
      "[475]\ttraining's binary_logloss: 0.2643\tvalid_1's binary_logloss: 0.308292\n"
     ]
    },
    {
     "name": "stderr",
     "output_type": "stream",
     "text": [
      "tune_feature_fraction, val_score: 0.308260:  33%|###3      | 2/6 [00:38<01:14, 18.73s/it][I 2020-03-24 15:40:06,769] Finished trial#1 resulted in value: 0.30829154527413016. Current best value is 0.30829154527413016 with parameters: {'feature_fraction': 0.45199999999999996}.\n",
      "tune_feature_fraction, val_score: 0.308260:  33%|###3      | 2/6 [00:38<01:14, 18.73s/it]"
     ]
    },
    {
     "name": "stdout",
     "output_type": "stream",
     "text": [
      "Training until validation scores don't improve for 100 rounds\n",
      "[100]\ttraining's binary_logloss: 0.295558\tvalid_1's binary_logloss: 0.309855\n",
      "[200]\ttraining's binary_logloss: 0.28515\tvalid_1's binary_logloss: 0.309339\n",
      "[300]\ttraining's binary_logloss: 0.276857\tvalid_1's binary_logloss: 0.309258\n",
      "[400]\ttraining's binary_logloss: 0.269357\tvalid_1's binary_logloss: 0.309181\n",
      "[500]\ttraining's binary_logloss: 0.262049\tvalid_1's binary_logloss: 0.309215\n",
      "Early stopping, best iteration is:\n",
      "[452]\ttraining's binary_logloss: 0.265391\tvalid_1's binary_logloss: 0.309107\n"
     ]
    },
    {
     "name": "stderr",
     "output_type": "stream",
     "text": [
      "tune_feature_fraction, val_score: 0.308260:  50%|#####     | 3/6 [00:57<00:56, 18.93s/it][I 2020-03-24 15:40:26,427] Finished trial#2 resulted in value: 0.3091066913978356. Current best value is 0.30829154527413016 with parameters: {'feature_fraction': 0.45199999999999996}.\n",
      "tune_feature_fraction, val_score: 0.308260:  50%|#####     | 3/6 [00:57<00:56, 18.93s/it]"
     ]
    },
    {
     "name": "stdout",
     "output_type": "stream",
     "text": [
      "Training until validation scores don't improve for 100 rounds\n",
      "[100]\ttraining's binary_logloss: 0.295331\tvalid_1's binary_logloss: 0.309593\n",
      "[200]\ttraining's binary_logloss: 0.284713\tvalid_1's binary_logloss: 0.308728\n",
      "[300]\ttraining's binary_logloss: 0.275711\tvalid_1's binary_logloss: 0.308578\n",
      "[400]\ttraining's binary_logloss: 0.268029\tvalid_1's binary_logloss: 0.308445\n",
      "[500]\ttraining's binary_logloss: 0.260298\tvalid_1's binary_logloss: 0.308428\n",
      "Early stopping, best iteration is:\n",
      "[498]\ttraining's binary_logloss: 0.260479\tvalid_1's binary_logloss: 0.308399\n"
     ]
    },
    {
     "name": "stderr",
     "output_type": "stream",
     "text": [
      "tune_feature_fraction, val_score: 0.308260:  67%|######6   | 4/6 [01:18<00:39, 19.69s/it][I 2020-03-24 15:40:47,598] Finished trial#3 resulted in value: 0.3083989472519027. Current best value is 0.30829154527413016 with parameters: {'feature_fraction': 0.45199999999999996}.\n",
      "tune_feature_fraction, val_score: 0.308260:  67%|######6   | 4/6 [01:18<00:39, 19.69s/it]"
     ]
    },
    {
     "name": "stdout",
     "output_type": "stream",
     "text": [
      "Training until validation scores don't improve for 100 rounds\n",
      "[100]\ttraining's binary_logloss: 0.295395\tvalid_1's binary_logloss: 0.309834\n",
      "[200]\ttraining's binary_logloss: 0.284646\tvalid_1's binary_logloss: 0.309174\n",
      "[300]\ttraining's binary_logloss: 0.275401\tvalid_1's binary_logloss: 0.308919\n",
      "[400]\ttraining's binary_logloss: 0.267141\tvalid_1's binary_logloss: 0.308889\n",
      "Early stopping, best iteration is:\n",
      "[359]\ttraining's binary_logloss: 0.270413\tvalid_1's binary_logloss: 0.308834\n"
     ]
    },
    {
     "name": "stderr",
     "output_type": "stream",
     "text": [
      "tune_feature_fraction, val_score: 0.308260:  83%|########3 | 5/6 [01:35<00:18, 18.75s/it][I 2020-03-24 15:41:04,160] Finished trial#4 resulted in value: 0.30883438920494044. Current best value is 0.30829154527413016 with parameters: {'feature_fraction': 0.45199999999999996}.\n",
      "tune_feature_fraction, val_score: 0.308260:  83%|########3 | 5/6 [01:35<00:18, 18.75s/it]"
     ]
    },
    {
     "name": "stdout",
     "output_type": "stream",
     "text": [
      "Training until validation scores don't improve for 100 rounds\n",
      "[100]\ttraining's binary_logloss: 0.295359\tvalid_1's binary_logloss: 0.309819\n",
      "[200]\ttraining's binary_logloss: 0.284271\tvalid_1's binary_logloss: 0.308983\n",
      "[300]\ttraining's binary_logloss: 0.27456\tvalid_1's binary_logloss: 0.308714\n",
      "[400]\ttraining's binary_logloss: 0.266776\tvalid_1's binary_logloss: 0.308729\n",
      "Early stopping, best iteration is:\n",
      "[373]\ttraining's binary_logloss: 0.268929\tvalid_1's binary_logloss: 0.30862\n"
     ]
    },
    {
     "name": "stderr",
     "output_type": "stream",
     "text": [
      "tune_feature_fraction, val_score: 0.308260: 100%|##########| 6/6 [01:52<00:00, 18.16s/it][I 2020-03-24 15:41:20,942] Finished trial#5 resulted in value: 0.3086198803911576. Current best value is 0.30829154527413016 with parameters: {'feature_fraction': 0.45199999999999996}.\n",
      "tune_feature_fraction, val_score: 0.308260: 100%|##########| 6/6 [01:52<00:00, 18.72s/it]\n",
      "tune_lambda_l1_and_lambda_l2, val_score: 0.308260:   0%|          | 0/20 [00:00<?, ?it/s]"
     ]
    },
    {
     "name": "stdout",
     "output_type": "stream",
     "text": [
      "Training until validation scores don't improve for 100 rounds\n",
      "[100]\ttraining's binary_logloss: 0.295406\tvalid_1's binary_logloss: 0.309755\n",
      "[200]\ttraining's binary_logloss: 0.284942\tvalid_1's binary_logloss: 0.309148\n",
      "[300]\ttraining's binary_logloss: 0.276118\tvalid_1's binary_logloss: 0.308922\n",
      "Early stopping, best iteration is:\n",
      "[298]\ttraining's binary_logloss: 0.276243\tvalid_1's binary_logloss: 0.308914\n"
     ]
    },
    {
     "name": "stderr",
     "output_type": "stream",
     "text": [
      "tune_lambda_l1_and_lambda_l2, val_score: 0.308260:   5%|5         | 1/20 [00:14<04:33, 14.42s/it][I 2020-03-24 15:41:35,469] Finished trial#0 resulted in value: 0.30891402374830285. Current best value is 0.30891402374830285 with parameters: {'lambda_l1': 3.668580180118809e-07, 'lambda_l2': 0.0006443766988835693}.\n",
      "tune_lambda_l1_and_lambda_l2, val_score: 0.308260:   5%|5         | 1/20 [00:14<04:33, 14.42s/it]"
     ]
    },
    {
     "name": "stdout",
     "output_type": "stream",
     "text": [
      "Training until validation scores don't improve for 100 rounds\n",
      "[100]\ttraining's binary_logloss: 0.295451\tvalid_1's binary_logloss: 0.309739\n",
      "[200]\ttraining's binary_logloss: 0.285138\tvalid_1's binary_logloss: 0.309217\n",
      "[300]\ttraining's binary_logloss: 0.276264\tvalid_1's binary_logloss: 0.308999\n",
      "[400]\ttraining's binary_logloss: 0.267959\tvalid_1's binary_logloss: 0.30882\n",
      "[500]\ttraining's binary_logloss: 0.260842\tvalid_1's binary_logloss: 0.308966\n",
      "Early stopping, best iteration is:\n",
      "[402]\ttraining's binary_logloss: 0.267832\tvalid_1's binary_logloss: 0.308811\n"
     ]
    },
    {
     "name": "stderr",
     "output_type": "stream",
     "text": [
      "tune_lambda_l1_and_lambda_l2, val_score: 0.308260:  10%|#         | 2/20 [00:32<04:36, 15.38s/it][I 2020-03-24 15:41:53,098] Finished trial#1 resulted in value: 0.308811015809933. Current best value is 0.308811015809933 with parameters: {'lambda_l1': 0.0004090159512016816, 'lambda_l2': 0.008232545861644446}.\n",
      "tune_lambda_l1_and_lambda_l2, val_score: 0.308260:  10%|#         | 2/20 [00:32<04:36, 15.38s/it]"
     ]
    },
    {
     "name": "stdout",
     "output_type": "stream",
     "text": [
      "Training until validation scores don't improve for 100 rounds\n",
      "[100]\ttraining's binary_logloss: 0.295345\tvalid_1's binary_logloss: 0.309671\n",
      "[200]\ttraining's binary_logloss: 0.284861\tvalid_1's binary_logloss: 0.309011\n",
      "[300]\ttraining's binary_logloss: 0.275719\tvalid_1's binary_logloss: 0.308895\n",
      "[400]\ttraining's binary_logloss: 0.267656\tvalid_1's binary_logloss: 0.30889\n",
      "Early stopping, best iteration is:\n",
      "[384]\ttraining's binary_logloss: 0.268874\tvalid_1's binary_logloss: 0.308807\n"
     ]
    },
    {
     "name": "stderr",
     "output_type": "stream",
     "text": [
      "tune_lambda_l1_and_lambda_l2, val_score: 0.308260:  15%|#5        | 3/20 [00:49<04:29, 15.88s/it][I 2020-03-24 15:42:10,108] Finished trial#2 resulted in value: 0.3088066393361581. Current best value is 0.3088066393361581 with parameters: {'lambda_l1': 0.0010843899708002642, 'lambda_l2': 4.2631433297958046e-05}.\n",
      "tune_lambda_l1_and_lambda_l2, val_score: 0.308260:  15%|#5        | 3/20 [00:49<04:29, 15.88s/it]"
     ]
    },
    {
     "name": "stdout",
     "output_type": "stream",
     "text": [
      "Training until validation scores don't improve for 100 rounds\n",
      "[100]\ttraining's binary_logloss: 0.295591\tvalid_1's binary_logloss: 0.309709\n",
      "[200]\ttraining's binary_logloss: 0.285011\tvalid_1's binary_logloss: 0.309259\n",
      "[300]\ttraining's binary_logloss: 0.275901\tvalid_1's binary_logloss: 0.308793\n",
      "[400]\ttraining's binary_logloss: 0.268044\tvalid_1's binary_logloss: 0.308803\n",
      "Early stopping, best iteration is:\n",
      "[333]\ttraining's binary_logloss: 0.273161\tvalid_1's binary_logloss: 0.308709\n"
     ]
    },
    {
     "name": "stderr",
     "output_type": "stream",
     "text": [
      "tune_lambda_l1_and_lambda_l2, val_score: 0.308260:  20%|##        | 4/20 [01:04<04:11, 15.72s/it][I 2020-03-24 15:42:25,479] Finished trial#3 resulted in value: 0.308709244145498. Current best value is 0.308709244145498 with parameters: {'lambda_l1': 0.012197221015095948, 'lambda_l2': 2.3047642617076923e-08}.\n",
      "tune_lambda_l1_and_lambda_l2, val_score: 0.308260:  20%|##        | 4/20 [01:04<04:11, 15.72s/it]"
     ]
    },
    {
     "name": "stdout",
     "output_type": "stream",
     "text": [
      "Training until validation scores don't improve for 100 rounds\n",
      "[100]\ttraining's binary_logloss: 0.295795\tvalid_1's binary_logloss: 0.309682\n",
      "[200]\ttraining's binary_logloss: 0.285286\tvalid_1's binary_logloss: 0.308868\n",
      "[300]\ttraining's binary_logloss: 0.276353\tvalid_1's binary_logloss: 0.308638\n",
      "[400]\ttraining's binary_logloss: 0.268291\tvalid_1's binary_logloss: 0.308438\n",
      "[500]\ttraining's binary_logloss: 0.261204\tvalid_1's binary_logloss: 0.308524\n",
      "Early stopping, best iteration is:\n",
      "[412]\ttraining's binary_logloss: 0.267416\tvalid_1's binary_logloss: 0.308421\n"
     ]
    },
    {
     "name": "stderr",
     "output_type": "stream",
     "text": [
      "tune_lambda_l1_and_lambda_l2, val_score: 0.308260:  25%|##5       | 5/20 [01:22<04:05, 16.39s/it][I 2020-03-24 15:42:43,437] Finished trial#4 resulted in value: 0.30842117926917284. Current best value is 0.30842117926917284 with parameters: {'lambda_l1': 0.2684224230038514, 'lambda_l2': 9.862950789390065e-07}.\n",
      "tune_lambda_l1_and_lambda_l2, val_score: 0.308260:  25%|##5       | 5/20 [01:22<04:05, 16.39s/it]"
     ]
    },
    {
     "name": "stdout",
     "output_type": "stream",
     "text": [
      "Training until validation scores don't improve for 100 rounds\n",
      "[100]\ttraining's binary_logloss: 0.29656\tvalid_1's binary_logloss: 0.309455\n",
      "[200]\ttraining's binary_logloss: 0.287068\tvalid_1's binary_logloss: 0.308586\n",
      "[300]\ttraining's binary_logloss: 0.278853\tvalid_1's binary_logloss: 0.308339\n",
      "[400]\ttraining's binary_logloss: 0.27141\tvalid_1's binary_logloss: 0.308196\n",
      "[500]\ttraining's binary_logloss: 0.264469\tvalid_1's binary_logloss: 0.308318\n",
      "Early stopping, best iteration is:\n",
      "[442]\ttraining's binary_logloss: 0.268501\tvalid_1's binary_logloss: 0.308121\n"
     ]
    },
    {
     "name": "stderr",
     "output_type": "stream",
     "text": [
      "tune_lambda_l1_and_lambda_l2, val_score: 0.308121:  30%|###       | 6/20 [01:42<04:03, 17.42s/it][I 2020-03-24 15:43:03,387] Finished trial#5 resulted in value: 0.30812082901527826. Current best value is 0.30812082901527826 with parameters: {'lambda_l1': 0.003511899465608492, 'lambda_l2': 1.2632712209344816}.\n",
      "tune_lambda_l1_and_lambda_l2, val_score: 0.308121:  30%|###       | 6/20 [01:42<04:03, 17.42s/it]"
     ]
    },
    {
     "name": "stdout",
     "output_type": "stream",
     "text": [
      "Training until validation scores don't improve for 100 rounds\n",
      "[100]\ttraining's binary_logloss: 0.29546\tvalid_1's binary_logloss: 0.309573\n",
      "[200]\ttraining's binary_logloss: 0.284822\tvalid_1's binary_logloss: 0.308927\n",
      "[300]\ttraining's binary_logloss: 0.275675\tvalid_1's binary_logloss: 0.308716\n",
      "[400]\ttraining's binary_logloss: 0.267495\tvalid_1's binary_logloss: 0.308564\n",
      "[500]\ttraining's binary_logloss: 0.260293\tvalid_1's binary_logloss: 0.308513\n",
      "Early stopping, best iteration is:\n",
      "[461]\ttraining's binary_logloss: 0.263056\tvalid_1's binary_logloss: 0.308442\n"
     ]
    },
    {
     "name": "stderr",
     "output_type": "stream",
     "text": [
      "tune_lambda_l1_and_lambda_l2, val_score: 0.308121:  35%|###5      | 7/20 [02:01<03:53, 18.00s/it][I 2020-03-24 15:43:22,697] Finished trial#6 resulted in value: 0.3084416101236518. Current best value is 0.30812082901527826 with parameters: {'lambda_l1': 0.003511899465608492, 'lambda_l2': 1.2632712209344816}.\n",
      "tune_lambda_l1_and_lambda_l2, val_score: 0.308121:  35%|###5      | 7/20 [02:01<03:53, 18.00s/it]"
     ]
    },
    {
     "name": "stdout",
     "output_type": "stream",
     "text": [
      "Training until validation scores don't improve for 100 rounds\n",
      "[100]\ttraining's binary_logloss: 0.295442\tvalid_1's binary_logloss: 0.309726\n",
      "[200]\ttraining's binary_logloss: 0.285423\tvalid_1's binary_logloss: 0.309308\n",
      "[300]\ttraining's binary_logloss: 0.276003\tvalid_1's binary_logloss: 0.308926\n",
      "[400]\ttraining's binary_logloss: 0.268228\tvalid_1's binary_logloss: 0.308854\n",
      "[500]\ttraining's binary_logloss: 0.260881\tvalid_1's binary_logloss: 0.308677\n",
      "Early stopping, best iteration is:\n",
      "[491]\ttraining's binary_logloss: 0.261386\tvalid_1's binary_logloss: 0.308648\n"
     ]
    },
    {
     "name": "stderr",
     "output_type": "stream",
     "text": [
      "tune_lambda_l1_and_lambda_l2, val_score: 0.308121:  40%|####      | 8/20 [02:21<03:44, 18.72s/it][I 2020-03-24 15:43:42,992] Finished trial#7 resulted in value: 0.3086479777499809. Current best value is 0.30812082901527826 with parameters: {'lambda_l1': 0.003511899465608492, 'lambda_l2': 1.2632712209344816}.\n",
      "tune_lambda_l1_and_lambda_l2, val_score: 0.308121:  40%|####      | 8/20 [02:22<03:44, 18.72s/it]"
     ]
    },
    {
     "name": "stdout",
     "output_type": "stream",
     "text": [
      "Training until validation scores don't improve for 100 rounds\n",
      "[100]\ttraining's binary_logloss: 0.295459\tvalid_1's binary_logloss: 0.309619\n",
      "[200]\ttraining's binary_logloss: 0.285273\tvalid_1's binary_logloss: 0.309014\n",
      "[300]\ttraining's binary_logloss: 0.275987\tvalid_1's binary_logloss: 0.308655\n",
      "[400]\ttraining's binary_logloss: 0.268133\tvalid_1's binary_logloss: 0.308457\n",
      "[500]\ttraining's binary_logloss: 0.260567\tvalid_1's binary_logloss: 0.308448\n",
      "Early stopping, best iteration is:\n",
      "[479]\ttraining's binary_logloss: 0.262062\tvalid_1's binary_logloss: 0.308368\n"
     ]
    },
    {
     "name": "stderr",
     "output_type": "stream",
     "text": [
      "tune_lambda_l1_and_lambda_l2, val_score: 0.308121:  45%|####5     | 9/20 [02:42<03:30, 19.12s/it][I 2020-03-24 15:44:03,051] Finished trial#8 resulted in value: 0.3083681436977724. Current best value is 0.30812082901527826 with parameters: {'lambda_l1': 0.003511899465608492, 'lambda_l2': 1.2632712209344816}.\n",
      "tune_lambda_l1_and_lambda_l2, val_score: 0.308121:  45%|####5     | 9/20 [02:42<03:30, 19.12s/it]"
     ]
    },
    {
     "name": "stdout",
     "output_type": "stream",
     "text": [
      "Training until validation scores don't improve for 100 rounds\n",
      "[100]\ttraining's binary_logloss: 0.295451\tvalid_1's binary_logloss: 0.309428\n",
      "[200]\ttraining's binary_logloss: 0.285199\tvalid_1's binary_logloss: 0.308733\n",
      "[300]\ttraining's binary_logloss: 0.276165\tvalid_1's binary_logloss: 0.308371\n",
      "[400]\ttraining's binary_logloss: 0.268674\tvalid_1's binary_logloss: 0.308283\n",
      "[500]\ttraining's binary_logloss: 0.26117\tvalid_1's binary_logloss: 0.308231\n",
      "Early stopping, best iteration is:\n",
      "[486]\ttraining's binary_logloss: 0.2623\tvalid_1's binary_logloss: 0.308179\n"
     ]
    },
    {
     "name": "stderr",
     "output_type": "stream",
     "text": [
      "tune_lambda_l1_and_lambda_l2, val_score: 0.308121:  50%|#####     | 10/20 [03:02<03:14, 19.48s/it][I 2020-03-24 15:44:23,384] Finished trial#9 resulted in value: 0.3081790077084602. Current best value is 0.30812082901527826 with parameters: {'lambda_l1': 0.003511899465608492, 'lambda_l2': 1.2632712209344816}.\n",
      "tune_lambda_l1_and_lambda_l2, val_score: 0.308121:  50%|#####     | 10/20 [03:02<03:14, 19.48s/it]"
     ]
    },
    {
     "name": "stdout",
     "output_type": "stream",
     "text": [
      "Training until validation scores don't improve for 100 rounds\n",
      "[100]\ttraining's binary_logloss: 0.296657\tvalid_1's binary_logloss: 0.309579\n",
      "[200]\ttraining's binary_logloss: 0.287279\tvalid_1's binary_logloss: 0.308844\n",
      "[300]\ttraining's binary_logloss: 0.279106\tvalid_1's binary_logloss: 0.308539\n",
      "[400]\ttraining's binary_logloss: 0.271477\tvalid_1's binary_logloss: 0.308263\n",
      "[500]\ttraining's binary_logloss: 0.264239\tvalid_1's binary_logloss: 0.308165\n",
      "[600]\ttraining's binary_logloss: 0.257161\tvalid_1's binary_logloss: 0.308129\n",
      "[700]\ttraining's binary_logloss: 0.251028\tvalid_1's binary_logloss: 0.30818\n",
      "Early stopping, best iteration is:\n",
      "[616]\ttraining's binary_logloss: 0.256094\tvalid_1's binary_logloss: 0.308104\n"
     ]
    },
    {
     "name": "stderr",
     "output_type": "stream",
     "text": [
      "tune_lambda_l1_and_lambda_l2, val_score: 0.308104:  55%|#####5    | 11/20 [03:27<03:11, 21.30s/it][I 2020-03-24 15:44:48,941] Finished trial#10 resulted in value: 0.30810440770909797. Current best value is 0.30810440770909797 with parameters: {'lambda_l1': 4.517847363864029e-06, 'lambda_l2': 1.5028315756566415}.\n",
      "tune_lambda_l1_and_lambda_l2, val_score: 0.308104:  55%|#####5    | 11/20 [03:27<03:11, 21.30s/it]"
     ]
    },
    {
     "name": "stdout",
     "output_type": "stream",
     "text": [
      "Training until validation scores don't improve for 100 rounds\n",
      "[100]\ttraining's binary_logloss: 0.297968\tvalid_1's binary_logloss: 0.309635\n",
      "[200]\ttraining's binary_logloss: 0.290073\tvalid_1's binary_logloss: 0.308711\n",
      "[300]\ttraining's binary_logloss: 0.282954\tvalid_1's binary_logloss: 0.30827\n",
      "[400]\ttraining's binary_logloss: 0.277102\tvalid_1's binary_logloss: 0.30818\n",
      "[500]\ttraining's binary_logloss: 0.271235\tvalid_1's binary_logloss: 0.308037\n",
      "[600]\ttraining's binary_logloss: 0.265365\tvalid_1's binary_logloss: 0.307921\n",
      "[700]\ttraining's binary_logloss: 0.259892\tvalid_1's binary_logloss: 0.30781\n",
      "[800]\ttraining's binary_logloss: 0.254963\tvalid_1's binary_logloss: 0.307888\n",
      "Early stopping, best iteration is:\n",
      "[748]\ttraining's binary_logloss: 0.257354\tvalid_1's binary_logloss: 0.307764\n"
     ]
    },
    {
     "name": "stderr",
     "output_type": "stream",
     "text": [
      "tune_lambda_l1_and_lambda_l2, val_score: 0.307764:  60%|######    | 12/20 [03:58<03:13, 24.19s/it][I 2020-03-24 15:45:19,903] Finished trial#11 resulted in value: 0.30776448978333426. Current best value is 0.30776448978333426 with parameters: {'lambda_l1': 6.1728134095390715e-06, 'lambda_l2': 7.167783058067502}.\n",
      "tune_lambda_l1_and_lambda_l2, val_score: 0.307764:  60%|######    | 12/20 [03:58<03:13, 24.19s/it]"
     ]
    },
    {
     "name": "stdout",
     "output_type": "stream",
     "text": [
      "Training until validation scores don't improve for 100 rounds\n",
      "[100]\ttraining's binary_logloss: 0.298185\tvalid_1's binary_logloss: 0.309807\n",
      "[200]\ttraining's binary_logloss: 0.290582\tvalid_1's binary_logloss: 0.308814\n",
      "[300]\ttraining's binary_logloss: 0.283702\tvalid_1's binary_logloss: 0.308213\n",
      "[400]\ttraining's binary_logloss: 0.27799\tvalid_1's binary_logloss: 0.308093\n",
      "[500]\ttraining's binary_logloss: 0.272062\tvalid_1's binary_logloss: 0.307877\n",
      "[600]\ttraining's binary_logloss: 0.267231\tvalid_1's binary_logloss: 0.307758\n",
      "[700]\ttraining's binary_logloss: 0.261967\tvalid_1's binary_logloss: 0.30773\n",
      "[800]\ttraining's binary_logloss: 0.256985\tvalid_1's binary_logloss: 0.307759\n",
      "Early stopping, best iteration is:\n",
      "[735]\ttraining's binary_logloss: 0.26029\tvalid_1's binary_logloss: 0.307687\n"
     ]
    },
    {
     "name": "stderr",
     "output_type": "stream",
     "text": [
      "tune_lambda_l1_and_lambda_l2, val_score: 0.307687:  65%|######5   | 13/20 [04:29<03:02, 26.07s/it][I 2020-03-24 15:45:50,345] Finished trial#12 resulted in value: 0.30768686389638594. Current best value is 0.30768686389638594 with parameters: {'lambda_l1': 5.231119393184787e-06, 'lambda_l2': 9.18662922890244}.\n",
      "tune_lambda_l1_and_lambda_l2, val_score: 0.307687:  65%|######5   | 13/20 [04:29<03:02, 26.07s/it]"
     ]
    },
    {
     "name": "stdout",
     "output_type": "stream",
     "text": [
      "Training until validation scores don't improve for 100 rounds\n",
      "[100]\ttraining's binary_logloss: 0.297831\tvalid_1's binary_logloss: 0.309899\n",
      "[200]\ttraining's binary_logloss: 0.289718\tvalid_1's binary_logloss: 0.308898\n",
      "[300]\ttraining's binary_logloss: 0.282409\tvalid_1's binary_logloss: 0.308301\n",
      "[400]\ttraining's binary_logloss: 0.276276\tvalid_1's binary_logloss: 0.308045\n",
      "[500]\ttraining's binary_logloss: 0.270436\tvalid_1's binary_logloss: 0.307928\n",
      "[600]\ttraining's binary_logloss: 0.26513\tvalid_1's binary_logloss: 0.307956\n",
      "Early stopping, best iteration is:\n",
      "[534]\ttraining's binary_logloss: 0.268306\tvalid_1's binary_logloss: 0.30786\n"
     ]
    },
    {
     "name": "stderr",
     "output_type": "stream",
     "text": [
      "tune_lambda_l1_and_lambda_l2, val_score: 0.307687:  70%|#######   | 14/20 [04:52<02:31, 25.32s/it][I 2020-03-24 15:46:13,906] Finished trial#13 resulted in value: 0.30786034587801153. Current best value is 0.30768686389638594 with parameters: {'lambda_l1': 5.231119393184787e-06, 'lambda_l2': 9.18662922890244}.\n",
      "tune_lambda_l1_and_lambda_l2, val_score: 0.307687:  70%|#######   | 14/20 [04:52<02:31, 25.32s/it]"
     ]
    },
    {
     "name": "stdout",
     "output_type": "stream",
     "text": [
      "Training until validation scores don't improve for 100 rounds\n",
      "[100]\ttraining's binary_logloss: 0.295571\tvalid_1's binary_logloss: 0.309721\n",
      "[200]\ttraining's binary_logloss: 0.284945\tvalid_1's binary_logloss: 0.309032\n",
      "[300]\ttraining's binary_logloss: 0.276119\tvalid_1's binary_logloss: 0.308668\n",
      "Early stopping, best iteration is:\n",
      "[291]\ttraining's binary_logloss: 0.276854\tvalid_1's binary_logloss: 0.308638\n"
     ]
    },
    {
     "name": "stderr",
     "output_type": "stream",
     "text": [
      "tune_lambda_l1_and_lambda_l2, val_score: 0.307687:  75%|#######5  | 15/20 [05:07<01:49, 21.99s/it][I 2020-03-24 15:46:28,162] Finished trial#14 resulted in value: 0.30863802978944005. Current best value is 0.30768686389638594 with parameters: {'lambda_l1': 5.231119393184787e-06, 'lambda_l2': 9.18662922890244}.\n",
      "tune_lambda_l1_and_lambda_l2, val_score: 0.307687:  75%|#######5  | 15/20 [05:07<01:49, 21.99s/it]"
     ]
    },
    {
     "name": "stdout",
     "output_type": "stream",
     "text": [
      "Training until validation scores don't improve for 100 rounds\n",
      "[100]\ttraining's binary_logloss: 0.295662\tvalid_1's binary_logloss: 0.309573\n",
      "[200]\ttraining's binary_logloss: 0.284961\tvalid_1's binary_logloss: 0.30886\n",
      "[300]\ttraining's binary_logloss: 0.276076\tvalid_1's binary_logloss: 0.308666\n",
      "[400]\ttraining's binary_logloss: 0.268304\tvalid_1's binary_logloss: 0.308709\n",
      "Early stopping, best iteration is:\n",
      "[325]\ttraining's binary_logloss: 0.273973\tvalid_1's binary_logloss: 0.30864\n"
     ]
    },
    {
     "name": "stderr",
     "output_type": "stream",
     "text": [
      "tune_lambda_l1_and_lambda_l2, val_score: 0.307687:  80%|########  | 16/20 [05:22<01:20, 20.14s/it][I 2020-03-24 15:46:43,951] Finished trial#15 resulted in value: 0.3086401098010412. Current best value is 0.30768686389638594 with parameters: {'lambda_l1': 5.231119393184787e-06, 'lambda_l2': 9.18662922890244}.\n",
      "tune_lambda_l1_and_lambda_l2, val_score: 0.307687:  80%|########  | 16/20 [05:23<01:20, 20.14s/it]"
     ]
    },
    {
     "name": "stdout",
     "output_type": "stream",
     "text": [
      "Training until validation scores don't improve for 100 rounds\n",
      "[100]\ttraining's binary_logloss: 0.297759\tvalid_1's binary_logloss: 0.309672\n",
      "[200]\ttraining's binary_logloss: 0.289434\tvalid_1's binary_logloss: 0.308812\n",
      "[300]\ttraining's binary_logloss: 0.282404\tvalid_1's binary_logloss: 0.308275\n",
      "[400]\ttraining's binary_logloss: 0.275944\tvalid_1's binary_logloss: 0.307986\n",
      "[500]\ttraining's binary_logloss: 0.270304\tvalid_1's binary_logloss: 0.307783\n",
      "[600]\ttraining's binary_logloss: 0.264546\tvalid_1's binary_logloss: 0.307759\n",
      "[700]\ttraining's binary_logloss: 0.259282\tvalid_1's binary_logloss: 0.307723\n",
      "[800]\ttraining's binary_logloss: 0.25391\tvalid_1's binary_logloss: 0.307749\n",
      "Early stopping, best iteration is:\n",
      "[771]\ttraining's binary_logloss: 0.255438\tvalid_1's binary_logloss: 0.30768\n"
     ]
    },
    {
     "name": "stderr",
     "output_type": "stream",
     "text": [
      "tune_lambda_l1_and_lambda_l2, val_score: 0.307680:  85%|########5 | 17/20 [05:54<01:10, 23.63s/it][I 2020-03-24 15:47:15,729] Finished trial#16 resulted in value: 0.3076798928225297. Current best value is 0.3076798928225297 with parameters: {'lambda_l1': 1.9058490763205854e-05, 'lambda_l2': 5.853537397100255}.\n",
      "tune_lambda_l1_and_lambda_l2, val_score: 0.307680:  85%|########5 | 17/20 [05:54<01:10, 23.63s/it]"
     ]
    },
    {
     "name": "stdout",
     "output_type": "stream",
     "text": [
      "Training until validation scores don't improve for 100 rounds\n",
      "[100]\ttraining's binary_logloss: 0.295781\tvalid_1's binary_logloss: 0.30968\n",
      "[200]\ttraining's binary_logloss: 0.285396\tvalid_1's binary_logloss: 0.308803\n",
      "[300]\ttraining's binary_logloss: 0.276932\tvalid_1's binary_logloss: 0.308561\n",
      "[400]\ttraining's binary_logloss: 0.26894\tvalid_1's binary_logloss: 0.308457\n",
      "[500]\ttraining's binary_logloss: 0.261738\tvalid_1's binary_logloss: 0.30835\n",
      "Early stopping, best iteration is:\n",
      "[491]\ttraining's binary_logloss: 0.262374\tvalid_1's binary_logloss: 0.308304\n"
     ]
    },
    {
     "name": "stderr",
     "output_type": "stream",
     "text": [
      "tune_lambda_l1_and_lambda_l2, val_score: 0.307680:  90%|######### | 18/20 [06:15<00:45, 22.67s/it][I 2020-03-24 15:47:36,280] Finished trial#17 resulted in value: 0.308304064506225. Current best value is 0.3076798928225297 with parameters: {'lambda_l1': 1.9058490763205854e-05, 'lambda_l2': 5.853537397100255}.\n",
      "tune_lambda_l1_and_lambda_l2, val_score: 0.307680:  90%|######### | 18/20 [06:15<00:45, 22.67s/it]"
     ]
    },
    {
     "name": "stdout",
     "output_type": "stream",
     "text": [
      "Training until validation scores don't improve for 100 rounds\n",
      "[100]\ttraining's binary_logloss: 0.2954\tvalid_1's binary_logloss: 0.309626\n",
      "[200]\ttraining's binary_logloss: 0.285416\tvalid_1's binary_logloss: 0.309169\n",
      "[300]\ttraining's binary_logloss: 0.276588\tvalid_1's binary_logloss: 0.308794\n",
      "[400]\ttraining's binary_logloss: 0.26848\tvalid_1's binary_logloss: 0.308651\n",
      "[500]\ttraining's binary_logloss: 0.261256\tvalid_1's binary_logloss: 0.308656\n",
      "[600]\ttraining's binary_logloss: 0.25449\tvalid_1's binary_logloss: 0.30867\n",
      "Early stopping, best iteration is:\n",
      "[534]\ttraining's binary_logloss: 0.258977\tvalid_1's binary_logloss: 0.308573\n"
     ]
    },
    {
     "name": "stderr",
     "output_type": "stream",
     "text": [
      "tune_lambda_l1_and_lambda_l2, val_score: 0.307680:  95%|#########5| 19/20 [06:37<00:22, 22.45s/it][I 2020-03-24 15:47:58,270] Finished trial#18 resulted in value: 0.30857260379092566. Current best value is 0.3076798928225297 with parameters: {'lambda_l1': 1.9058490763205854e-05, 'lambda_l2': 5.853537397100255}.\n",
      "tune_lambda_l1_and_lambda_l2, val_score: 0.307680:  95%|#########5| 19/20 [06:37<00:22, 22.45s/it]"
     ]
    },
    {
     "name": "stdout",
     "output_type": "stream",
     "text": [
      "Training until validation scores don't improve for 100 rounds\n",
      "[100]\ttraining's binary_logloss: 0.296439\tvalid_1's binary_logloss: 0.30952\n",
      "[200]\ttraining's binary_logloss: 0.286821\tvalid_1's binary_logloss: 0.308801\n",
      "[300]\ttraining's binary_logloss: 0.278491\tvalid_1's binary_logloss: 0.308408\n",
      "[400]\ttraining's binary_logloss: 0.27065\tvalid_1's binary_logloss: 0.308139\n",
      "[500]\ttraining's binary_logloss: 0.263641\tvalid_1's binary_logloss: 0.307858\n",
      "[600]\ttraining's binary_logloss: 0.256607\tvalid_1's binary_logloss: 0.307817\n",
      "Early stopping, best iteration is:\n",
      "[548]\ttraining's binary_logloss: 0.260173\tvalid_1's binary_logloss: 0.307764\n"
     ]
    },
    {
     "name": "stderr",
     "output_type": "stream",
     "text": [
      "tune_lambda_l1_and_lambda_l2, val_score: 0.307680: 100%|##########| 20/20 [07:00<00:00, 22.85s/it][I 2020-03-24 15:48:21,845] Finished trial#19 resulted in value: 0.30776446641971866. Current best value is 0.3076798928225297 with parameters: {'lambda_l1': 1.9058490763205854e-05, 'lambda_l2': 5.853537397100255}.\n",
      "tune_lambda_l1_and_lambda_l2, val_score: 0.307680: 100%|##########| 20/20 [07:00<00:00, 21.04s/it]\n",
      "tune_min_child_samples, val_score: 0.307680:   0%|          | 0/5 [00:00<?, ?it/s]"
     ]
    },
    {
     "name": "stdout",
     "output_type": "stream",
     "text": [
      "Training until validation scores don't improve for 100 rounds\n",
      "[100]\ttraining's binary_logloss: 0.297722\tvalid_1's binary_logloss: 0.309606\n",
      "[200]\ttraining's binary_logloss: 0.289685\tvalid_1's binary_logloss: 0.308675\n",
      "[300]\ttraining's binary_logloss: 0.282713\tvalid_1's binary_logloss: 0.308075\n",
      "[400]\ttraining's binary_logloss: 0.276575\tvalid_1's binary_logloss: 0.307738\n",
      "[500]\ttraining's binary_logloss: 0.27072\tvalid_1's binary_logloss: 0.307398\n",
      "[600]\ttraining's binary_logloss: 0.265627\tvalid_1's binary_logloss: 0.307392\n",
      "[700]\ttraining's binary_logloss: 0.260413\tvalid_1's binary_logloss: 0.307331\n",
      "[800]\ttraining's binary_logloss: 0.254985\tvalid_1's binary_logloss: 0.307292\n",
      "[900]\ttraining's binary_logloss: 0.250136\tvalid_1's binary_logloss: 0.307299\n",
      "Early stopping, best iteration is:\n",
      "[809]\ttraining's binary_logloss: 0.254529\tvalid_1's binary_logloss: 0.307257\n"
     ]
    },
    {
     "name": "stderr",
     "output_type": "stream",
     "text": [
      "tune_min_child_samples, val_score: 0.307257:  20%|##        | 1/5 [00:32<02:11, 32.79s/it][I 2020-03-24 15:48:54,763] Finished trial#0 resulted in value: 0.3072568728623492. Current best value is 0.3072568728623492 with parameters: {'min_child_samples': 5}.\n",
      "tune_min_child_samples, val_score: 0.307257:  20%|##        | 1/5 [00:32<02:11, 32.79s/it]"
     ]
    },
    {
     "name": "stdout",
     "output_type": "stream",
     "text": [
      "Training until validation scores don't improve for 100 rounds\n",
      "[100]\ttraining's binary_logloss: 0.297677\tvalid_1's binary_logloss: 0.309512\n",
      "[200]\ttraining's binary_logloss: 0.289414\tvalid_1's binary_logloss: 0.30854\n",
      "[300]\ttraining's binary_logloss: 0.282572\tvalid_1's binary_logloss: 0.308188\n",
      "[400]\ttraining's binary_logloss: 0.276176\tvalid_1's binary_logloss: 0.308067\n",
      "[500]\ttraining's binary_logloss: 0.270131\tvalid_1's binary_logloss: 0.307854\n",
      "[600]\ttraining's binary_logloss: 0.264432\tvalid_1's binary_logloss: 0.307717\n",
      "[700]\ttraining's binary_logloss: 0.259009\tvalid_1's binary_logloss: 0.307696\n",
      "[800]\ttraining's binary_logloss: 0.254437\tvalid_1's binary_logloss: 0.307729\n",
      "Early stopping, best iteration is:\n",
      "[711]\ttraining's binary_logloss: 0.258458\tvalid_1's binary_logloss: 0.307656\n"
     ]
    },
    {
     "name": "stderr",
     "output_type": "stream",
     "text": [
      "tune_min_child_samples, val_score: 0.307257:  40%|####      | 2/5 [01:02<01:35, 31.89s/it][I 2020-03-24 15:49:24,588] Finished trial#1 resulted in value: 0.3076563821652538. Current best value is 0.3072568728623492 with parameters: {'min_child_samples': 5}.\n",
      "tune_min_child_samples, val_score: 0.307257:  40%|####      | 2/5 [01:02<01:35, 31.89s/it]"
     ]
    },
    {
     "name": "stdout",
     "output_type": "stream",
     "text": [
      "Training until validation scores don't improve for 100 rounds\n",
      "[100]\ttraining's binary_logloss: 0.297745\tvalid_1's binary_logloss: 0.309663\n",
      "[200]\ttraining's binary_logloss: 0.289233\tvalid_1's binary_logloss: 0.30851\n",
      "[300]\ttraining's binary_logloss: 0.282391\tvalid_1's binary_logloss: 0.308085\n",
      "[400]\ttraining's binary_logloss: 0.276192\tvalid_1's binary_logloss: 0.307774\n",
      "[500]\ttraining's binary_logloss: 0.270287\tvalid_1's binary_logloss: 0.30764\n",
      "[600]\ttraining's binary_logloss: 0.26425\tvalid_1's binary_logloss: 0.307559\n",
      "[700]\ttraining's binary_logloss: 0.25901\tvalid_1's binary_logloss: 0.30759\n",
      "Early stopping, best iteration is:\n",
      "[610]\ttraining's binary_logloss: 0.263686\tvalid_1's binary_logloss: 0.307541\n"
     ]
    },
    {
     "name": "stderr",
     "output_type": "stream",
     "text": [
      "tune_min_child_samples, val_score: 0.307257:  60%|######    | 3/5 [01:28<01:00, 30.21s/it][I 2020-03-24 15:49:50,861] Finished trial#2 resulted in value: 0.30754077569368976. Current best value is 0.3072568728623492 with parameters: {'min_child_samples': 5}.\n",
      "tune_min_child_samples, val_score: 0.307257:  60%|######    | 3/5 [01:29<01:00, 30.21s/it]"
     ]
    },
    {
     "name": "stdout",
     "output_type": "stream",
     "text": [
      "Training until validation scores don't improve for 100 rounds\n",
      "[100]\ttraining's binary_logloss: 0.297755\tvalid_1's binary_logloss: 0.309761\n",
      "[200]\ttraining's binary_logloss: 0.289355\tvalid_1's binary_logloss: 0.308769\n",
      "[300]\ttraining's binary_logloss: 0.282087\tvalid_1's binary_logloss: 0.308395\n",
      "[400]\ttraining's binary_logloss: 0.275692\tvalid_1's binary_logloss: 0.308092\n",
      "[500]\ttraining's binary_logloss: 0.269808\tvalid_1's binary_logloss: 0.308065\n",
      "[600]\ttraining's binary_logloss: 0.263967\tvalid_1's binary_logloss: 0.307938\n",
      "[700]\ttraining's binary_logloss: 0.258303\tvalid_1's binary_logloss: 0.307914\n",
      "[800]\ttraining's binary_logloss: 0.252786\tvalid_1's binary_logloss: 0.307903\n",
      "Early stopping, best iteration is:\n",
      "[736]\ttraining's binary_logloss: 0.256313\tvalid_1's binary_logloss: 0.307829\n"
     ]
    },
    {
     "name": "stderr",
     "output_type": "stream",
     "text": [
      "tune_min_child_samples, val_score: 0.307257:  80%|########  | 4/5 [01:59<00:30, 30.23s/it][I 2020-03-24 15:50:21,090] Finished trial#3 resulted in value: 0.3078288637073885. Current best value is 0.3072568728623492 with parameters: {'min_child_samples': 5}.\n",
      "tune_min_child_samples, val_score: 0.307257:  80%|########  | 4/5 [01:59<00:30, 30.23s/it]"
     ]
    },
    {
     "name": "stdout",
     "output_type": "stream",
     "text": [
      "Training until validation scores don't improve for 100 rounds\n",
      "[100]\ttraining's binary_logloss: 0.297692\tvalid_1's binary_logloss: 0.309696\n",
      "[200]\ttraining's binary_logloss: 0.28953\tvalid_1's binary_logloss: 0.308887\n",
      "[300]\ttraining's binary_logloss: 0.282168\tvalid_1's binary_logloss: 0.308528\n",
      "[400]\ttraining's binary_logloss: 0.275506\tvalid_1's binary_logloss: 0.308183\n",
      "[500]\ttraining's binary_logloss: 0.269318\tvalid_1's binary_logloss: 0.308056\n",
      "Early stopping, best iteration is:\n",
      "[484]\ttraining's binary_logloss: 0.270229\tvalid_1's binary_logloss: 0.308032\n"
     ]
    },
    {
     "name": "stderr",
     "output_type": "stream",
     "text": [
      "tune_min_child_samples, val_score: 0.307257: 100%|##########| 5/5 [02:21<00:00, 27.94s/it][I 2020-03-24 15:50:43,879] Finished trial#4 resulted in value: 0.3080319573027262. Current best value is 0.3072568728623492 with parameters: {'min_child_samples': 5}.\n",
      "tune_min_child_samples, val_score: 0.307257: 100%|##########| 5/5 [02:22<00:00, 28.40s/it]\n"
     ]
    },
    {
     "name": "stdout",
     "output_type": "stream",
     "text": [
      "2020-03-24 15:50:55 Reply ********************************************************************************\n",
      "Reply\n",
      "n_pos_wanted 100000\n",
      "2020-03-24 15:51:11 chunk 1\n",
      "2020-03-24 15:51:27 chunk 2\n",
      "2020-03-24 15:51:42 chunk 3\n",
      "2020-03-24 15:51:59 chunk 4\n",
      "dftrvl.shape: (1000000, 95) dftrvl[tgtcol].mean(): 0.109752\n",
      "{'train_pop': 4000000, 'target_pop': 109752, 'sampled_train_pop': 1000000, 'sampled_target_pop': 109752}\n",
      "{'objective': 'binary', 'metric': 'binary_logloss', 'verbosity': 1, 'boosting_type': 'gbdt', 'num_threads': 24}\n"
     ]
    },
    {
     "name": "stderr",
     "output_type": "stream",
     "text": [
      "tune_feature_fraction, val_score: inf:   0%|          | 0/7 [00:00<?, ?it/s]"
     ]
    },
    {
     "name": "stdout",
     "output_type": "stream",
     "text": [
      "Training until validation scores don't improve for 100 rounds\n",
      "[100]\ttraining's binary_logloss: 0.293113\tvalid_1's binary_logloss: 0.29649\n",
      "[200]\ttraining's binary_logloss: 0.290228\tvalid_1's binary_logloss: 0.295664\n",
      "[300]\ttraining's binary_logloss: 0.287776\tvalid_1's binary_logloss: 0.295225\n",
      "[400]\ttraining's binary_logloss: 0.285511\tvalid_1's binary_logloss: 0.29495\n",
      "[500]\ttraining's binary_logloss: 0.283326\tvalid_1's binary_logloss: 0.294737\n",
      "[600]\ttraining's binary_logloss: 0.281274\tvalid_1's binary_logloss: 0.294603\n",
      "[700]\ttraining's binary_logloss: 0.279266\tvalid_1's binary_logloss: 0.294553\n",
      "[800]\ttraining's binary_logloss: 0.277261\tvalid_1's binary_logloss: 0.29451\n",
      "[900]\ttraining's binary_logloss: 0.275392\tvalid_1's binary_logloss: 0.294464\n",
      "[1000]\ttraining's binary_logloss: 0.273521\tvalid_1's binary_logloss: 0.29441\n",
      "Did not meet early stopping. Best iteration is:\n",
      "[1000]\ttraining's binary_logloss: 0.273521\tvalid_1's binary_logloss: 0.29441\n"
     ]
    },
    {
     "name": "stderr",
     "output_type": "stream",
     "text": [
      "tune_feature_fraction, val_score: 0.294410:  14%|#4        | 1/7 [00:30<03:04, 30.70s/it][I 2020-03-24 15:52:43,771] Finished trial#0 resulted in value: 0.2944099722469817. Current best value is 0.2944099722469817 with parameters: {'feature_fraction': 0.4}.\n",
      "tune_feature_fraction, val_score: 0.294410:  14%|#4        | 1/7 [00:30<03:04, 30.70s/it]"
     ]
    },
    {
     "name": "stdout",
     "output_type": "stream",
     "text": [
      "Training until validation scores don't improve for 100 rounds\n",
      "[100]\ttraining's binary_logloss: 0.292916\tvalid_1's binary_logloss: 0.296453\n",
      "[200]\ttraining's binary_logloss: 0.28993\tvalid_1's binary_logloss: 0.295838\n",
      "[300]\ttraining's binary_logloss: 0.287382\tvalid_1's binary_logloss: 0.295467\n",
      "[400]\ttraining's binary_logloss: 0.284906\tvalid_1's binary_logloss: 0.295131\n",
      "[500]\ttraining's binary_logloss: 0.282521\tvalid_1's binary_logloss: 0.294976\n",
      "[600]\ttraining's binary_logloss: 0.28033\tvalid_1's binary_logloss: 0.294826\n",
      "[700]\ttraining's binary_logloss: 0.278278\tvalid_1's binary_logloss: 0.294756\n",
      "[800]\ttraining's binary_logloss: 0.276234\tvalid_1's binary_logloss: 0.294707\n",
      "[900]\ttraining's binary_logloss: 0.274186\tvalid_1's binary_logloss: 0.294676\n",
      "Early stopping, best iteration is:\n",
      "[815]\ttraining's binary_logloss: 0.275945\tvalid_1's binary_logloss: 0.29467\n"
     ]
    },
    {
     "name": "stderr",
     "output_type": "stream",
     "text": [
      "tune_feature_fraction, val_score: 0.294410:  29%|##8       | 2/7 [00:51<02:18, 27.76s/it][I 2020-03-24 15:53:04,822] Finished trial#1 resulted in value: 0.2946699655015905. Current best value is 0.2944099722469817 with parameters: {'feature_fraction': 0.4}.\n",
      "tune_feature_fraction, val_score: 0.294410:  29%|##8       | 2/7 [00:51<02:18, 27.76s/it]"
     ]
    },
    {
     "name": "stdout",
     "output_type": "stream",
     "text": [
      "Training until validation scores don't improve for 100 rounds\n",
      "[100]\ttraining's binary_logloss: 0.292747\tvalid_1's binary_logloss: 0.296492\n",
      "[200]\ttraining's binary_logloss: 0.289733\tvalid_1's binary_logloss: 0.295777\n",
      "[300]\ttraining's binary_logloss: 0.286997\tvalid_1's binary_logloss: 0.295365\n",
      "[400]\ttraining's binary_logloss: 0.284553\tvalid_1's binary_logloss: 0.295081\n",
      "[500]\ttraining's binary_logloss: 0.282083\tvalid_1's binary_logloss: 0.294873\n",
      "[600]\ttraining's binary_logloss: 0.279681\tvalid_1's binary_logloss: 0.294693\n",
      "[700]\ttraining's binary_logloss: 0.277463\tvalid_1's binary_logloss: 0.294677\n",
      "[800]\ttraining's binary_logloss: 0.275341\tvalid_1's binary_logloss: 0.29465\n",
      "[900]\ttraining's binary_logloss: 0.273202\tvalid_1's binary_logloss: 0.29468\n",
      "Early stopping, best iteration is:\n",
      "[817]\ttraining's binary_logloss: 0.27499\tvalid_1's binary_logloss: 0.29462\n"
     ]
    },
    {
     "name": "stderr",
     "output_type": "stream",
     "text": [
      "tune_feature_fraction, val_score: 0.294410:  43%|####2     | 3/7 [01:13<01:43, 25.89s/it][I 2020-03-24 15:53:26,119] Finished trial#2 resulted in value: 0.29462029645777066. Current best value is 0.2944099722469817 with parameters: {'feature_fraction': 0.4}.\n",
      "tune_feature_fraction, val_score: 0.294410:  43%|####2     | 3/7 [01:13<01:43, 25.89s/it]"
     ]
    },
    {
     "name": "stdout",
     "output_type": "stream",
     "text": [
      "Training until validation scores don't improve for 100 rounds\n",
      "[100]\ttraining's binary_logloss: 0.292584\tvalid_1's binary_logloss: 0.296289\n",
      "[200]\ttraining's binary_logloss: 0.289307\tvalid_1's binary_logloss: 0.295555\n",
      "[300]\ttraining's binary_logloss: 0.286641\tvalid_1's binary_logloss: 0.295273\n",
      "[400]\ttraining's binary_logloss: 0.284057\tvalid_1's binary_logloss: 0.295014\n",
      "[500]\ttraining's binary_logloss: 0.281533\tvalid_1's binary_logloss: 0.294824\n",
      "[600]\ttraining's binary_logloss: 0.279167\tvalid_1's binary_logloss: 0.294758\n",
      "[700]\ttraining's binary_logloss: 0.276911\tvalid_1's binary_logloss: 0.294742\n",
      "[800]\ttraining's binary_logloss: 0.27472\tvalid_1's binary_logloss: 0.294719\n",
      "Early stopping, best iteration is:\n",
      "[718]\ttraining's binary_logloss: 0.276518\tvalid_1's binary_logloss: 0.294714\n"
     ]
    },
    {
     "name": "stderr",
     "output_type": "stream",
     "text": [
      "tune_feature_fraction, val_score: 0.294410:  57%|#####7    | 4/7 [01:33<01:12, 24.27s/it][I 2020-03-24 15:53:46,642] Finished trial#3 resulted in value: 0.2947141725002761. Current best value is 0.2944099722469817 with parameters: {'feature_fraction': 0.4}.\n",
      "tune_feature_fraction, val_score: 0.294410:  57%|#####7    | 4/7 [01:33<01:12, 24.27s/it]"
     ]
    },
    {
     "name": "stdout",
     "output_type": "stream",
     "text": [
      "Training until validation scores don't improve for 100 rounds\n",
      "[100]\ttraining's binary_logloss: 0.292574\tvalid_1's binary_logloss: 0.296364\n",
      "[200]\ttraining's binary_logloss: 0.289313\tvalid_1's binary_logloss: 0.295612\n",
      "[300]\ttraining's binary_logloss: 0.286448\tvalid_1's binary_logloss: 0.295275\n",
      "[400]\ttraining's binary_logloss: 0.283724\tvalid_1's binary_logloss: 0.294951\n",
      "[500]\ttraining's binary_logloss: 0.28118\tvalid_1's binary_logloss: 0.294832\n",
      "[600]\ttraining's binary_logloss: 0.278817\tvalid_1's binary_logloss: 0.294753\n",
      "Early stopping, best iteration is:\n",
      "[595]\ttraining's binary_logloss: 0.278922\tvalid_1's binary_logloss: 0.294748\n"
     ]
    },
    {
     "name": "stderr",
     "output_type": "stream",
     "text": [
      "tune_feature_fraction, val_score: 0.294410:  71%|#######1  | 5/7 [01:51<00:44, 22.31s/it][I 2020-03-24 15:54:04,554] Finished trial#4 resulted in value: 0.29474840174312533. Current best value is 0.2944099722469817 with parameters: {'feature_fraction': 0.4}.\n",
      "tune_feature_fraction, val_score: 0.294410:  71%|#######1  | 5/7 [01:51<00:44, 22.31s/it]"
     ]
    },
    {
     "name": "stdout",
     "output_type": "stream",
     "text": [
      "Training until validation scores don't improve for 100 rounds\n",
      "[100]\ttraining's binary_logloss: 0.292374\tvalid_1's binary_logloss: 0.296094\n",
      "[200]\ttraining's binary_logloss: 0.289173\tvalid_1's binary_logloss: 0.29545\n",
      "[300]\ttraining's binary_logloss: 0.28628\tvalid_1's binary_logloss: 0.295131\n",
      "[400]\ttraining's binary_logloss: 0.28359\tvalid_1's binary_logloss: 0.294878\n",
      "[500]\ttraining's binary_logloss: 0.281033\tvalid_1's binary_logloss: 0.294689\n",
      "[600]\ttraining's binary_logloss: 0.278653\tvalid_1's binary_logloss: 0.294666\n",
      "[700]\ttraining's binary_logloss: 0.276283\tvalid_1's binary_logloss: 0.294618\n",
      "[800]\ttraining's binary_logloss: 0.273908\tvalid_1's binary_logloss: 0.294566\n",
      "[900]\ttraining's binary_logloss: 0.2717\tvalid_1's binary_logloss: 0.294583\n",
      "Early stopping, best iteration is:\n",
      "[827]\ttraining's binary_logloss: 0.273379\tvalid_1's binary_logloss: 0.294537\n"
     ]
    },
    {
     "name": "stderr",
     "output_type": "stream",
     "text": [
      "tune_feature_fraction, val_score: 0.294410:  86%|########5 | 6/7 [02:15<00:22, 22.97s/it][I 2020-03-24 15:54:28,980] Finished trial#5 resulted in value: 0.29453680538494603. Current best value is 0.2944099722469817 with parameters: {'feature_fraction': 0.4}.\n",
      "tune_feature_fraction, val_score: 0.294410:  86%|########5 | 6/7 [02:16<00:22, 22.97s/it]"
     ]
    },
    {
     "name": "stdout",
     "output_type": "stream",
     "text": [
      "Training until validation scores don't improve for 100 rounds\n",
      "[100]\ttraining's binary_logloss: 0.292352\tvalid_1's binary_logloss: 0.296136\n",
      "[200]\ttraining's binary_logloss: 0.28894\tvalid_1's binary_logloss: 0.295471\n",
      "[300]\ttraining's binary_logloss: 0.286017\tvalid_1's binary_logloss: 0.295048\n",
      "[400]\ttraining's binary_logloss: 0.283303\tvalid_1's binary_logloss: 0.29474\n",
      "[500]\ttraining's binary_logloss: 0.280821\tvalid_1's binary_logloss: 0.294587\n",
      "[600]\ttraining's binary_logloss: 0.278358\tvalid_1's binary_logloss: 0.294472\n",
      "[700]\ttraining's binary_logloss: 0.275904\tvalid_1's binary_logloss: 0.294446\n",
      "[800]\ttraining's binary_logloss: 0.273586\tvalid_1's binary_logloss: 0.294427\n",
      "Early stopping, best iteration is:\n",
      "[752]\ttraining's binary_logloss: 0.274675\tvalid_1's binary_logloss: 0.294396\n"
     ]
    },
    {
     "name": "stderr",
     "output_type": "stream",
     "text": [
      "tune_feature_fraction, val_score: 0.294396: 100%|##########| 7/7 [02:38<00:00, 22.85s/it][I 2020-03-24 15:54:51,412] Finished trial#6 resulted in value: 0.29439626128862284. Current best value is 0.29439626128862284 with parameters: {'feature_fraction': 1.0}.\n",
      "tune_feature_fraction, val_score: 0.294396: 100%|##########| 7/7 [02:38<00:00, 22.65s/it]\n",
      "tune_num_leaves, val_score: 0.294396:   0%|          | 0/20 [00:00<?, ?it/s]"
     ]
    },
    {
     "name": "stdout",
     "output_type": "stream",
     "text": [
      "Training until validation scores don't improve for 100 rounds\n",
      "[100]\ttraining's binary_logloss: 0.281394\tvalid_1's binary_logloss: 0.294613\n",
      "[200]\ttraining's binary_logloss: 0.271112\tvalid_1's binary_logloss: 0.294466\n",
      "Early stopping, best iteration is:\n",
      "[183]\ttraining's binary_logloss: 0.272761\tvalid_1's binary_logloss: 0.294417\n"
     ]
    },
    {
     "name": "stderr",
     "output_type": "stream",
     "text": [
      "tune_num_leaves, val_score: 0.294396:   5%|5         | 1/20 [00:11<03:41, 11.65s/it][I 2020-03-24 15:55:03,160] Finished trial#0 resulted in value: 0.2944171802342111. Current best value is 0.2944171802342111 with parameters: {'num_leaves': 127}.\n",
      "tune_num_leaves, val_score: 0.294396:   5%|5         | 1/20 [00:11<03:41, 11.65s/it]"
     ]
    },
    {
     "name": "stdout",
     "output_type": "stream",
     "text": [
      "Training until validation scores don't improve for 100 rounds\n",
      "[100]\ttraining's binary_logloss: 0.277487\tvalid_1's binary_logloss: 0.294803\n",
      "[200]\ttraining's binary_logloss: 0.264727\tvalid_1's binary_logloss: 0.294875\n",
      "Early stopping, best iteration is:\n",
      "[156]\ttraining's binary_logloss: 0.270052\tvalid_1's binary_logloss: 0.294739\n"
     ]
    },
    {
     "name": "stderr",
     "output_type": "stream",
     "text": [
      "tune_num_leaves, val_score: 0.294396:  10%|#         | 2/20 [00:23<03:28, 11.59s/it][I 2020-03-24 15:55:14,605] Finished trial#1 resulted in value: 0.2947388225033805. Current best value is 0.2944171802342111 with parameters: {'num_leaves': 127}.\n",
      "tune_num_leaves, val_score: 0.294396:  10%|#         | 2/20 [00:23<03:28, 11.59s/it]"
     ]
    },
    {
     "name": "stdout",
     "output_type": "stream",
     "text": [
      "Training until validation scores don't improve for 100 rounds\n",
      "[100]\ttraining's binary_logloss: 0.291463\tvalid_1's binary_logloss: 0.295952\n",
      "[200]\ttraining's binary_logloss: 0.287493\tvalid_1's binary_logloss: 0.295285\n",
      "[300]\ttraining's binary_logloss: 0.284124\tvalid_1's binary_logloss: 0.295041\n",
      "[400]\ttraining's binary_logloss: 0.280978\tvalid_1's binary_logloss: 0.294846\n",
      "[500]\ttraining's binary_logloss: 0.278025\tvalid_1's binary_logloss: 0.294759\n",
      "[600]\ttraining's binary_logloss: 0.275114\tvalid_1's binary_logloss: 0.294726\n",
      "[700]\ttraining's binary_logloss: 0.272153\tvalid_1's binary_logloss: 0.294751\n",
      "Early stopping, best iteration is:\n",
      "[623]\ttraining's binary_logloss: 0.274476\tvalid_1's binary_logloss: 0.294675\n"
     ]
    },
    {
     "name": "stderr",
     "output_type": "stream",
     "text": [
      "tune_num_leaves, val_score: 0.294396:  15%|#5        | 3/20 [00:42<03:59, 14.08s/it][I 2020-03-24 15:55:34,532] Finished trial#2 resulted in value: 0.29467543747299646. Current best value is 0.2944171802342111 with parameters: {'num_leaves': 127}.\n",
      "tune_num_leaves, val_score: 0.294396:  15%|#5        | 3/20 [00:43<03:59, 14.08s/it]"
     ]
    },
    {
     "name": "stdout",
     "output_type": "stream",
     "text": [
      "Training until validation scores don't improve for 100 rounds\n",
      "[100]\ttraining's binary_logloss: 0.29182\tvalid_1's binary_logloss: 0.296067\n",
      "[200]\ttraining's binary_logloss: 0.28816\tvalid_1's binary_logloss: 0.295392\n",
      "[300]\ttraining's binary_logloss: 0.285063\tvalid_1's binary_logloss: 0.295087\n",
      "[400]\ttraining's binary_logloss: 0.282106\tvalid_1's binary_logloss: 0.294853\n",
      "[500]\ttraining's binary_logloss: 0.27929\tvalid_1's binary_logloss: 0.294774\n",
      "[600]\ttraining's binary_logloss: 0.276633\tvalid_1's binary_logloss: 0.294731\n",
      "[700]\ttraining's binary_logloss: 0.273985\tvalid_1's binary_logloss: 0.294659\n",
      "[800]\ttraining's binary_logloss: 0.271418\tvalid_1's binary_logloss: 0.294602\n",
      "Early stopping, best iteration is:\n",
      "[748]\ttraining's binary_logloss: 0.272781\tvalid_1's binary_logloss: 0.294584\n"
     ]
    },
    {
     "name": "stderr",
     "output_type": "stream",
     "text": [
      "tune_num_leaves, val_score: 0.294396:  20%|##        | 4/20 [01:05<04:25, 16.56s/it][I 2020-03-24 15:55:56,897] Finished trial#3 resulted in value: 0.2945840910548579. Current best value is 0.2944171802342111 with parameters: {'num_leaves': 127}.\n",
      "tune_num_leaves, val_score: 0.294396:  20%|##        | 4/20 [01:05<04:25, 16.56s/it]"
     ]
    },
    {
     "name": "stdout",
     "output_type": "stream",
     "text": [
      "Training until validation scores don't improve for 100 rounds\n",
      "[100]\ttraining's binary_logloss: 0.282634\tvalid_1's binary_logloss: 0.294772\n",
      "[200]\ttraining's binary_logloss: 0.273286\tvalid_1's binary_logloss: 0.29461\n",
      "Early stopping, best iteration is:\n",
      "[189]\ttraining's binary_logloss: 0.274216\tvalid_1's binary_logloss: 0.294546\n"
     ]
    },
    {
     "name": "stderr",
     "output_type": "stream",
     "text": [
      "tune_num_leaves, val_score: 0.294396:  25%|##5       | 5/20 [01:16<03:45, 15.05s/it][I 2020-03-24 15:56:08,375] Finished trial#4 resulted in value: 0.29454648897866226. Current best value is 0.2944171802342111 with parameters: {'num_leaves': 127}.\n",
      "tune_num_leaves, val_score: 0.294396:  25%|##5       | 5/20 [01:16<03:45, 15.05s/it]"
     ]
    },
    {
     "name": "stdout",
     "output_type": "stream",
     "text": [
      "Training until validation scores don't improve for 100 rounds\n",
      "[100]\ttraining's binary_logloss: 0.281228\tvalid_1's binary_logloss: 0.294683\n",
      "[200]\ttraining's binary_logloss: 0.270677\tvalid_1's binary_logloss: 0.29468\n",
      "Early stopping, best iteration is:\n",
      "[151]\ttraining's binary_logloss: 0.275583\tvalid_1's binary_logloss: 0.294597\n"
     ]
    },
    {
     "name": "stderr",
     "output_type": "stream",
     "text": [
      "tune_num_leaves, val_score: 0.294396:  30%|###       | 6/20 [01:27<03:11, 13.68s/it][I 2020-03-24 15:56:18,855] Finished trial#5 resulted in value: 0.29459718910377874. Current best value is 0.2944171802342111 with parameters: {'num_leaves': 127}.\n",
      "tune_num_leaves, val_score: 0.294396:  30%|###       | 6/20 [01:27<03:11, 13.68s/it]"
     ]
    },
    {
     "name": "stdout",
     "output_type": "stream",
     "text": [
      "Training until validation scores don't improve for 100 rounds\n",
      "[100]\ttraining's binary_logloss: 0.295661\tvalid_1's binary_logloss: 0.297942\n",
      "[200]\ttraining's binary_logloss: 0.293566\tvalid_1's binary_logloss: 0.296855\n",
      "[300]\ttraining's binary_logloss: 0.291996\tvalid_1's binary_logloss: 0.296281\n",
      "[400]\ttraining's binary_logloss: 0.290688\tvalid_1's binary_logloss: 0.295948\n",
      "[500]\ttraining's binary_logloss: 0.289418\tvalid_1's binary_logloss: 0.295624\n",
      "[600]\ttraining's binary_logloss: 0.288282\tvalid_1's binary_logloss: 0.295396\n",
      "[700]\ttraining's binary_logloss: 0.287178\tvalid_1's binary_logloss: 0.295162\n",
      "[800]\ttraining's binary_logloss: 0.286115\tvalid_1's binary_logloss: 0.295008\n",
      "[900]\ttraining's binary_logloss: 0.285059\tvalid_1's binary_logloss: 0.294876\n",
      "[1000]\ttraining's binary_logloss: 0.284103\tvalid_1's binary_logloss: 0.294831\n",
      "Did not meet early stopping. Best iteration is:\n",
      "[1000]\ttraining's binary_logloss: 0.284103\tvalid_1's binary_logloss: 0.294831\n"
     ]
    },
    {
     "name": "stderr",
     "output_type": "stream",
     "text": [
      "tune_num_leaves, val_score: 0.294396:  35%|###5      | 7/20 [01:50<03:36, 16.65s/it][I 2020-03-24 15:56:42,476] Finished trial#6 resulted in value: 0.29483112984429094. Current best value is 0.2944171802342111 with parameters: {'num_leaves': 127}.\n",
      "tune_num_leaves, val_score: 0.294396:  35%|###5      | 7/20 [01:51<03:36, 16.65s/it]"
     ]
    },
    {
     "name": "stdout",
     "output_type": "stream",
     "text": [
      "Training until validation scores don't improve for 100 rounds\n",
      "[100]\ttraining's binary_logloss: 0.281521\tvalid_1's binary_logloss: 0.294695\n",
      "[200]\ttraining's binary_logloss: 0.271279\tvalid_1's binary_logloss: 0.294701\n",
      "Early stopping, best iteration is:\n",
      "[125]\ttraining's binary_logloss: 0.278828\tvalid_1's binary_logloss: 0.294594\n"
     ]
    },
    {
     "name": "stderr",
     "output_type": "stream",
     "text": [
      "tune_num_leaves, val_score: 0.294396:  40%|####      | 8/20 [02:00<02:54, 14.55s/it][I 2020-03-24 15:56:52,123] Finished trial#7 resulted in value: 0.2945935773052173. Current best value is 0.2944171802342111 with parameters: {'num_leaves': 127}.\n",
      "tune_num_leaves, val_score: 0.294396:  40%|####      | 8/20 [02:00<02:54, 14.55s/it]"
     ]
    },
    {
     "name": "stdout",
     "output_type": "stream",
     "text": [
      "Training until validation scores don't improve for 100 rounds\n",
      "[100]\ttraining's binary_logloss: 0.279814\tvalid_1's binary_logloss: 0.294754\n",
      "[200]\ttraining's binary_logloss: 0.268471\tvalid_1's binary_logloss: 0.294866\n",
      "Early stopping, best iteration is:\n",
      "[144]\ttraining's binary_logloss: 0.274806\tvalid_1's binary_logloss: 0.294684\n"
     ]
    },
    {
     "name": "stderr",
     "output_type": "stream",
     "text": [
      "tune_num_leaves, val_score: 0.294396:  45%|####5     | 9/20 [02:11<02:27, 13.37s/it][I 2020-03-24 15:57:02,715] Finished trial#8 resulted in value: 0.2946839358309036. Current best value is 0.2944171802342111 with parameters: {'num_leaves': 127}.\n",
      "tune_num_leaves, val_score: 0.294396:  45%|####5     | 9/20 [02:11<02:27, 13.37s/it]"
     ]
    },
    {
     "name": "stdout",
     "output_type": "stream",
     "text": [
      "Training until validation scores don't improve for 100 rounds\n",
      "[100]\ttraining's binary_logloss: 0.269623\tvalid_1's binary_logloss: 0.294713\n",
      "Early stopping, best iteration is:\n",
      "[77]\ttraining's binary_logloss: 0.274729\tvalid_1's binary_logloss: 0.294621\n"
     ]
    },
    {
     "name": "stderr",
     "output_type": "stream",
     "text": [
      "tune_num_leaves, val_score: 0.294396:  50%|#####     | 10/20 [02:21<02:03, 12.39s/it][I 2020-03-24 15:57:12,798] Finished trial#9 resulted in value: 0.29462095798625926. Current best value is 0.2944171802342111 with parameters: {'num_leaves': 127}.\n",
      "tune_num_leaves, val_score: 0.294396:  50%|#####     | 10/20 [02:21<02:03, 12.39s/it]"
     ]
    },
    {
     "name": "stdout",
     "output_type": "stream",
     "text": [
      "Training until validation scores don't improve for 100 rounds\n",
      "[100]\ttraining's binary_logloss: 0.274311\tvalid_1's binary_logloss: 0.294805\n",
      "Early stopping, best iteration is:\n",
      "[75]\ttraining's binary_logloss: 0.278494\tvalid_1's binary_logloss: 0.294662\n"
     ]
    },
    {
     "name": "stderr",
     "output_type": "stream",
     "text": [
      "tune_num_leaves, val_score: 0.294396:  55%|#####5    | 11/20 [02:30<01:43, 11.45s/it][I 2020-03-24 15:57:22,100] Finished trial#10 resulted in value: 0.2946620371043772. Current best value is 0.2944171802342111 with parameters: {'num_leaves': 127}.\n",
      "tune_num_leaves, val_score: 0.294396:  55%|#####5    | 11/20 [02:30<01:43, 11.45s/it]"
     ]
    },
    {
     "name": "stdout",
     "output_type": "stream",
     "text": [
      "Training until validation scores don't improve for 100 rounds\n",
      "[100]\ttraining's binary_logloss: 0.285143\tvalid_1's binary_logloss: 0.294922\n",
      "[200]\ttraining's binary_logloss: 0.276855\tvalid_1's binary_logloss: 0.294849\n",
      "Early stopping, best iteration is:\n",
      "[175]\ttraining's binary_logloss: 0.278754\tvalid_1's binary_logloss: 0.29479\n"
     ]
    },
    {
     "name": "stderr",
     "output_type": "stream",
     "text": [
      "tune_num_leaves, val_score: 0.294396:  60%|######    | 12/20 [02:40<01:28, 11.08s/it][I 2020-03-24 15:57:32,276] Finished trial#11 resulted in value: 0.2947901785672043. Current best value is 0.2944171802342111 with parameters: {'num_leaves': 127}.\n",
      "tune_num_leaves, val_score: 0.294396:  60%|######    | 12/20 [02:40<01:28, 11.08s/it]"
     ]
    },
    {
     "name": "stdout",
     "output_type": "stream",
     "text": [
      "Training until validation scores don't improve for 100 rounds\n",
      "[100]\ttraining's binary_logloss: 0.285908\tvalid_1's binary_logloss: 0.29495\n",
      "[200]\ttraining's binary_logloss: 0.278718\tvalid_1's binary_logloss: 0.294663\n",
      "[300]\ttraining's binary_logloss: 0.272425\tvalid_1's binary_logloss: 0.294756\n",
      "Early stopping, best iteration is:\n",
      "[239]\ttraining's binary_logloss: 0.27612\tvalid_1's binary_logloss: 0.294638\n"
     ]
    },
    {
     "name": "stderr",
     "output_type": "stream",
     "text": [
      "tune_num_leaves, val_score: 0.294396:  65%|######5   | 13/20 [02:52<01:19, 11.33s/it][I 2020-03-24 15:57:44,181] Finished trial#12 resulted in value: 0.2946381398403961. Current best value is 0.2944171802342111 with parameters: {'num_leaves': 127}.\n",
      "tune_num_leaves, val_score: 0.294396:  65%|######5   | 13/20 [02:52<01:19, 11.33s/it]"
     ]
    },
    {
     "name": "stdout",
     "output_type": "stream",
     "text": [
      "Training until validation scores don't improve for 100 rounds\n",
      "[100]\ttraining's binary_logloss: 0.286083\tvalid_1's binary_logloss: 0.294867\n",
      "[200]\ttraining's binary_logloss: 0.27891\tvalid_1's binary_logloss: 0.294607\n",
      "[300]\ttraining's binary_logloss: 0.272552\tvalid_1's binary_logloss: 0.29458\n",
      "[400]\ttraining's binary_logloss: 0.266327\tvalid_1's binary_logloss: 0.294766\n",
      "Early stopping, best iteration is:\n",
      "[311]\ttraining's binary_logloss: 0.271937\tvalid_1's binary_logloss: 0.294534\n"
     ]
    },
    {
     "name": "stderr",
     "output_type": "stream",
     "text": [
      "tune_num_leaves, val_score: 0.294396:  70%|#######   | 14/20 [03:06<01:12, 12.16s/it][I 2020-03-24 15:57:58,271] Finished trial#13 resulted in value: 0.29453448640148355. Current best value is 0.2944171802342111 with parameters: {'num_leaves': 127}.\n",
      "tune_num_leaves, val_score: 0.294396:  70%|#######   | 14/20 [03:06<01:12, 12.16s/it]"
     ]
    },
    {
     "name": "stdout",
     "output_type": "stream",
     "text": [
      "Training until validation scores don't improve for 100 rounds\n",
      "[100]\ttraining's binary_logloss: 0.288845\tvalid_1's binary_logloss: 0.295336\n",
      "[200]\ttraining's binary_logloss: 0.283407\tvalid_1's binary_logloss: 0.294979\n",
      "[300]\ttraining's binary_logloss: 0.278554\tvalid_1's binary_logloss: 0.294681\n",
      "[400]\ttraining's binary_logloss: 0.274028\tvalid_1's binary_logloss: 0.294547\n",
      "[500]\ttraining's binary_logloss: 0.269706\tvalid_1's binary_logloss: 0.29458\n",
      "Early stopping, best iteration is:\n",
      "[422]\ttraining's binary_logloss: 0.273081\tvalid_1's binary_logloss: 0.294514\n"
     ]
    },
    {
     "name": "stderr",
     "output_type": "stream",
     "text": [
      "tune_num_leaves, val_score: 0.294396:  75%|#######5  | 15/20 [03:22<01:06, 13.34s/it][I 2020-03-24 15:58:14,395] Finished trial#14 resulted in value: 0.2945143618914465. Current best value is 0.2944171802342111 with parameters: {'num_leaves': 127}.\n",
      "tune_num_leaves, val_score: 0.294396:  75%|#######5  | 15/20 [03:22<01:06, 13.34s/it]"
     ]
    },
    {
     "name": "stdout",
     "output_type": "stream",
     "text": [
      "Training until validation scores don't improve for 100 rounds\n",
      "[100]\ttraining's binary_logloss: 0.275825\tvalid_1's binary_logloss: 0.294576\n",
      "[200]\ttraining's binary_logloss: 0.261921\tvalid_1's binary_logloss: 0.294763\n",
      "Early stopping, best iteration is:\n",
      "[103]\ttraining's binary_logloss: 0.275333\tvalid_1's binary_logloss: 0.294553\n"
     ]
    },
    {
     "name": "stderr",
     "output_type": "stream",
     "text": [
      "tune_num_leaves, val_score: 0.294396:  80%|########  | 16/20 [03:32<00:49, 12.38s/it][I 2020-03-24 15:58:24,511] Finished trial#15 resulted in value: 0.294553302802062. Current best value is 0.2944171802342111 with parameters: {'num_leaves': 127}.\n",
      "tune_num_leaves, val_score: 0.294396:  80%|########  | 16/20 [03:33<00:49, 12.38s/it]"
     ]
    },
    {
     "name": "stdout",
     "output_type": "stream",
     "text": [
      "Training until validation scores don't improve for 100 rounds\n",
      "[100]\ttraining's binary_logloss: 0.290312\tvalid_1's binary_logloss: 0.295626\n",
      "[200]\ttraining's binary_logloss: 0.28582\tvalid_1's binary_logloss: 0.295132\n",
      "[300]\ttraining's binary_logloss: 0.281758\tvalid_1's binary_logloss: 0.29483\n",
      "[400]\ttraining's binary_logloss: 0.278032\tvalid_1's binary_logloss: 0.294691\n",
      "[500]\ttraining's binary_logloss: 0.274568\tvalid_1's binary_logloss: 0.294644\n",
      "Early stopping, best iteration is:\n",
      "[477]\ttraining's binary_logloss: 0.275363\tvalid_1's binary_logloss: 0.294605\n"
     ]
    },
    {
     "name": "stderr",
     "output_type": "stream",
     "text": [
      "tune_num_leaves, val_score: 0.294396:  85%|########5 | 17/20 [03:49<00:41, 13.74s/it][I 2020-03-24 15:58:41,480] Finished trial#16 resulted in value: 0.29460535870614574. Current best value is 0.2944171802342111 with parameters: {'num_leaves': 127}.\n",
      "tune_num_leaves, val_score: 0.294396:  85%|########5 | 17/20 [03:50<00:41, 13.74s/it]"
     ]
    },
    {
     "name": "stdout",
     "output_type": "stream",
     "text": [
      "Training until validation scores don't improve for 100 rounds\n",
      "[100]\ttraining's binary_logloss: 0.272905\tvalid_1's binary_logloss: 0.294518\n",
      "Early stopping, best iteration is:\n",
      "[80]\ttraining's binary_logloss: 0.276435\tvalid_1's binary_logloss: 0.294484\n"
     ]
    },
    {
     "name": "stderr",
     "output_type": "stream",
     "text": [
      "tune_num_leaves, val_score: 0.294396:  90%|######### | 18/20 [03:59<00:25, 12.55s/it][I 2020-03-24 15:58:51,209] Finished trial#17 resulted in value: 0.29448407074948096. Current best value is 0.2944171802342111 with parameters: {'num_leaves': 127}.\n",
      "tune_num_leaves, val_score: 0.294396:  90%|######### | 18/20 [03:59<00:25, 12.55s/it]"
     ]
    },
    {
     "name": "stdout",
     "output_type": "stream",
     "text": [
      "Training until validation scores don't improve for 100 rounds\n",
      "[100]\ttraining's binary_logloss: 0.270545\tvalid_1's binary_logloss: 0.294732\n",
      "Early stopping, best iteration is:\n",
      "[90]\ttraining's binary_logloss: 0.272339\tvalid_1's binary_logloss: 0.294718\n"
     ]
    },
    {
     "name": "stderr",
     "output_type": "stream",
     "text": [
      "tune_num_leaves, val_score: 0.294396:  95%|#########5| 19/20 [04:10<00:11, 11.95s/it][I 2020-03-24 15:59:01,756] Finished trial#18 resulted in value: 0.29471845163437954. Current best value is 0.2944171802342111 with parameters: {'num_leaves': 127}.\n",
      "tune_num_leaves, val_score: 0.294396:  95%|#########5| 19/20 [04:10<00:11, 11.95s/it]"
     ]
    },
    {
     "name": "stdout",
     "output_type": "stream",
     "text": [
      "Training until validation scores don't improve for 100 rounds\n",
      "[100]\ttraining's binary_logloss: 0.272122\tvalid_1's binary_logloss: 0.294613\n",
      "[200]\ttraining's binary_logloss: 0.255781\tvalid_1's binary_logloss: 0.294923\n",
      "Early stopping, best iteration is:\n",
      "[117]\ttraining's binary_logloss: 0.269189\tvalid_1's binary_logloss: 0.294556\n"
     ]
    },
    {
     "name": "stderr",
     "output_type": "stream",
     "text": [
      "tune_num_leaves, val_score: 0.294396: 100%|##########| 20/20 [04:21<00:00, 11.70s/it][I 2020-03-24 15:59:12,870] Finished trial#19 resulted in value: 0.29455626982214683. Current best value is 0.2944171802342111 with parameters: {'num_leaves': 127}.\n",
      "tune_num_leaves, val_score: 0.294396: 100%|##########| 20/20 [04:21<00:00, 13.07s/it]\n",
      "tune_bagging_fraction_and_bagging_freq, val_score: 0.294396:   0%|          | 0/10 [00:00<?, ?it/s]"
     ]
    },
    {
     "name": "stdout",
     "output_type": "stream",
     "text": [
      "Training until validation scores don't improve for 100 rounds\n",
      "[100]\ttraining's binary_logloss: 0.292248\tvalid_1's binary_logloss: 0.296159\n",
      "[200]\ttraining's binary_logloss: 0.288767\tvalid_1's binary_logloss: 0.295382\n",
      "[300]\ttraining's binary_logloss: 0.285843\tvalid_1's binary_logloss: 0.295273\n",
      "[400]\ttraining's binary_logloss: 0.282885\tvalid_1's binary_logloss: 0.295266\n",
      "Early stopping, best iteration is:\n",
      "[325]\ttraining's binary_logloss: 0.285085\tvalid_1's binary_logloss: 0.295183\n"
     ]
    },
    {
     "name": "stderr",
     "output_type": "stream",
     "text": [
      "tune_bagging_fraction_and_bagging_freq, val_score: 0.294396:  10%|#         | 1/10 [00:10<01:35, 10.62s/it][I 2020-03-24 15:59:23,622] Finished trial#0 resulted in value: 0.29518321680165605. Current best value is 0.29518321680165605 with parameters: {'bagging_fraction': 0.5559782659158958, 'bagging_freq': 3}.\n",
      "tune_bagging_fraction_and_bagging_freq, val_score: 0.294396:  10%|#         | 1/10 [00:10<01:35, 10.62s/it]"
     ]
    },
    {
     "name": "stdout",
     "output_type": "stream",
     "text": [
      "Training until validation scores don't improve for 100 rounds\n",
      "[100]\ttraining's binary_logloss: 0.292224\tvalid_1's binary_logloss: 0.296162\n",
      "[200]\ttraining's binary_logloss: 0.288553\tvalid_1's binary_logloss: 0.29546\n",
      "[300]\ttraining's binary_logloss: 0.285452\tvalid_1's binary_logloss: 0.295202\n",
      "Early stopping, best iteration is:\n",
      "[284]\ttraining's binary_logloss: 0.285903\tvalid_1's binary_logloss: 0.295161\n"
     ]
    },
    {
     "name": "stderr",
     "output_type": "stream",
     "text": [
      "tune_bagging_fraction_and_bagging_freq, val_score: 0.294396:  20%|##        | 2/10 [00:22<01:28, 11.12s/it][I 2020-03-24 15:59:35,881] Finished trial#1 resulted in value: 0.2951608509581051. Current best value is 0.2951608509581051 with parameters: {'bagging_fraction': 0.6406110081263467, 'bagging_freq': 1}.\n",
      "tune_bagging_fraction_and_bagging_freq, val_score: 0.294396:  20%|##        | 2/10 [00:23<01:28, 11.12s/it]"
     ]
    },
    {
     "name": "stdout",
     "output_type": "stream",
     "text": [
      "Training until validation scores don't improve for 100 rounds\n",
      "[100]\ttraining's binary_logloss: 0.292332\tvalid_1's binary_logloss: 0.296166\n",
      "[200]\ttraining's binary_logloss: 0.288866\tvalid_1's binary_logloss: 0.295429\n",
      "[300]\ttraining's binary_logloss: 0.285847\tvalid_1's binary_logloss: 0.295083\n",
      "[400]\ttraining's binary_logloss: 0.282815\tvalid_1's binary_logloss: 0.294776\n",
      "[500]\ttraining's binary_logloss: 0.280162\tvalid_1's binary_logloss: 0.29473\n",
      "Early stopping, best iteration is:\n",
      "[467]\ttraining's binary_logloss: 0.281061\tvalid_1's binary_logloss: 0.294711\n"
     ]
    },
    {
     "name": "stderr",
     "output_type": "stream",
     "text": [
      "tune_bagging_fraction_and_bagging_freq, val_score: 0.294396:  30%|###       | 3/10 [00:38<01:26, 12.39s/it][I 2020-03-24 15:59:51,234] Finished trial#2 resulted in value: 0.29471145046826586. Current best value is 0.29471145046826586 with parameters: {'bagging_fraction': 0.7728082002695582, 'bagging_freq': 6}.\n",
      "tune_bagging_fraction_and_bagging_freq, val_score: 0.294396:  30%|###       | 3/10 [00:38<01:26, 12.39s/it]"
     ]
    },
    {
     "name": "stdout",
     "output_type": "stream",
     "text": [
      "Training until validation scores don't improve for 100 rounds\n",
      "[100]\ttraining's binary_logloss: 0.292349\tvalid_1's binary_logloss: 0.296292\n",
      "[200]\ttraining's binary_logloss: 0.288789\tvalid_1's binary_logloss: 0.295502\n",
      "[300]\ttraining's binary_logloss: 0.28571\tvalid_1's binary_logloss: 0.29538\n",
      "[400]\ttraining's binary_logloss: 0.282883\tvalid_1's binary_logloss: 0.295248\n",
      "[500]\ttraining's binary_logloss: 0.280172\tvalid_1's binary_logloss: 0.295335\n",
      "Early stopping, best iteration is:\n",
      "[428]\ttraining's binary_logloss: 0.282093\tvalid_1's binary_logloss: 0.295183\n"
     ]
    },
    {
     "name": "stderr",
     "output_type": "stream",
     "text": [
      "tune_bagging_fraction_and_bagging_freq, val_score: 0.294396:  40%|####      | 4/10 [00:52<01:17, 12.86s/it][I 2020-03-24 16:00:05,215] Finished trial#3 resulted in value: 0.2951833788589057. Current best value is 0.29471145046826586 with parameters: {'bagging_fraction': 0.7728082002695582, 'bagging_freq': 6}.\n",
      "tune_bagging_fraction_and_bagging_freq, val_score: 0.294396:  40%|####      | 4/10 [00:52<01:17, 12.86s/it]"
     ]
    },
    {
     "name": "stdout",
     "output_type": "stream",
     "text": [
      "Training until validation scores don't improve for 100 rounds\n",
      "[100]\ttraining's binary_logloss: 0.2923\tvalid_1's binary_logloss: 0.296249\n",
      "[200]\ttraining's binary_logloss: 0.288801\tvalid_1's binary_logloss: 0.295711\n",
      "[300]\ttraining's binary_logloss: 0.285693\tvalid_1's binary_logloss: 0.295571\n",
      "[400]\ttraining's binary_logloss: 0.283013\tvalid_1's binary_logloss: 0.295616\n",
      "Early stopping, best iteration is:\n",
      "[352]\ttraining's binary_logloss: 0.284324\tvalid_1's binary_logloss: 0.295537\n"
     ]
    },
    {
     "name": "stderr",
     "output_type": "stream",
     "text": [
      "tune_bagging_fraction_and_bagging_freq, val_score: 0.294396:  50%|#####     | 5/10 [01:02<01:00, 12.12s/it][I 2020-03-24 16:00:15,605] Finished trial#4 resulted in value: 0.2955365127988476. Current best value is 0.29471145046826586 with parameters: {'bagging_fraction': 0.7728082002695582, 'bagging_freq': 6}.\n",
      "tune_bagging_fraction_and_bagging_freq, val_score: 0.294396:  50%|#####     | 5/10 [01:02<01:00, 12.12s/it]"
     ]
    },
    {
     "name": "stdout",
     "output_type": "stream",
     "text": [
      "Training until validation scores don't improve for 100 rounds\n",
      "[100]\ttraining's binary_logloss: 0.292304\tvalid_1's binary_logloss: 0.296176\n",
      "[200]\ttraining's binary_logloss: 0.288831\tvalid_1's binary_logloss: 0.295439\n",
      "[300]\ttraining's binary_logloss: 0.285717\tvalid_1's binary_logloss: 0.295027\n",
      "[400]\ttraining's binary_logloss: 0.282893\tvalid_1's binary_logloss: 0.294873\n",
      "[500]\ttraining's binary_logloss: 0.28016\tvalid_1's binary_logloss: 0.294749\n",
      "[600]\ttraining's binary_logloss: 0.277625\tvalid_1's binary_logloss: 0.294657\n",
      "[700]\ttraining's binary_logloss: 0.275041\tvalid_1's binary_logloss: 0.294705\n",
      "Early stopping, best iteration is:\n",
      "[630]\ttraining's binary_logloss: 0.276859\tvalid_1's binary_logloss: 0.294624\n"
     ]
    },
    {
     "name": "stderr",
     "output_type": "stream",
     "text": [
      "tune_bagging_fraction_and_bagging_freq, val_score: 0.294396:  60%|######    | 6/10 [01:22<00:58, 14.56s/it][I 2020-03-24 16:00:35,877] Finished trial#5 resulted in value: 0.2946244575759205. Current best value is 0.2946244575759205 with parameters: {'bagging_fraction': 0.8032468692548103, 'bagging_freq': 3}.\n",
      "tune_bagging_fraction_and_bagging_freq, val_score: 0.294396:  60%|######    | 6/10 [01:23<00:58, 14.56s/it]"
     ]
    },
    {
     "name": "stdout",
     "output_type": "stream",
     "text": [
      "Training until validation scores don't improve for 100 rounds\n",
      "[100]\ttraining's binary_logloss: 0.292419\tvalid_1's binary_logloss: 0.296287\n",
      "[200]\ttraining's binary_logloss: 0.288733\tvalid_1's binary_logloss: 0.295681\n",
      "[300]\ttraining's binary_logloss: 0.285568\tvalid_1's binary_logloss: 0.295323\n",
      "[400]\ttraining's binary_logloss: 0.282775\tvalid_1's binary_logloss: 0.295167\n",
      "[500]\ttraining's binary_logloss: 0.280116\tvalid_1's binary_logloss: 0.295172\n",
      "Early stopping, best iteration is:\n",
      "[470]\ttraining's binary_logloss: 0.280939\tvalid_1's binary_logloss: 0.295134\n"
     ]
    },
    {
     "name": "stderr",
     "output_type": "stream",
     "text": [
      "tune_bagging_fraction_and_bagging_freq, val_score: 0.294396:  70%|#######   | 7/10 [01:37<00:43, 14.51s/it][I 2020-03-24 16:00:50,262] Finished trial#6 resulted in value: 0.29513434084013285. Current best value is 0.2946244575759205 with parameters: {'bagging_fraction': 0.8032468692548103, 'bagging_freq': 3}.\n",
      "tune_bagging_fraction_and_bagging_freq, val_score: 0.294396:  70%|#######   | 7/10 [01:37<00:43, 14.51s/it]"
     ]
    },
    {
     "name": "stdout",
     "output_type": "stream",
     "text": [
      "Training until validation scores don't improve for 100 rounds\n",
      "[100]\ttraining's binary_logloss: 0.292272\tvalid_1's binary_logloss: 0.29645\n",
      "[200]\ttraining's binary_logloss: 0.288574\tvalid_1's binary_logloss: 0.295696\n",
      "[300]\ttraining's binary_logloss: 0.28557\tvalid_1's binary_logloss: 0.295508\n",
      "[400]\ttraining's binary_logloss: 0.2827\tvalid_1's binary_logloss: 0.295523\n",
      "Early stopping, best iteration is:\n",
      "[306]\ttraining's binary_logloss: 0.285395\tvalid_1's binary_logloss: 0.295476\n"
     ]
    },
    {
     "name": "stderr",
     "output_type": "stream",
     "text": [
      "tune_bagging_fraction_and_bagging_freq, val_score: 0.294396:  80%|########  | 8/10 [01:48<00:27, 13.64s/it][I 2020-03-24 16:01:01,890] Finished trial#7 resulted in value: 0.2954761372884109. Current best value is 0.2946244575759205 with parameters: {'bagging_fraction': 0.8032468692548103, 'bagging_freq': 3}.\n",
      "tune_bagging_fraction_and_bagging_freq, val_score: 0.294396:  80%|########  | 8/10 [01:49<00:27, 13.64s/it]"
     ]
    },
    {
     "name": "stdout",
     "output_type": "stream",
     "text": [
      "Training until validation scores don't improve for 100 rounds\n",
      "[100]\ttraining's binary_logloss: 0.292353\tvalid_1's binary_logloss: 0.296255\n",
      "[200]\ttraining's binary_logloss: 0.288809\tvalid_1's binary_logloss: 0.29543\n",
      "[300]\ttraining's binary_logloss: 0.285947\tvalid_1's binary_logloss: 0.295163\n",
      "[400]\ttraining's binary_logloss: 0.282882\tvalid_1's binary_logloss: 0.295036\n",
      "[500]\ttraining's binary_logloss: 0.280132\tvalid_1's binary_logloss: 0.295011\n",
      "Early stopping, best iteration is:\n",
      "[464]\ttraining's binary_logloss: 0.281083\tvalid_1's binary_logloss: 0.294953\n"
     ]
    },
    {
     "name": "stderr",
     "output_type": "stream",
     "text": [
      "tune_bagging_fraction_and_bagging_freq, val_score: 0.294396:  90%|######### | 9/10 [02:05<00:14, 14.51s/it][I 2020-03-24 16:01:18,451] Finished trial#8 resulted in value: 0.29495292864924644. Current best value is 0.2946244575759205 with parameters: {'bagging_fraction': 0.8032468692548103, 'bagging_freq': 3}.\n",
      "tune_bagging_fraction_and_bagging_freq, val_score: 0.294396:  90%|######### | 9/10 [02:05<00:14, 14.51s/it]"
     ]
    },
    {
     "name": "stdout",
     "output_type": "stream",
     "text": [
      "Training until validation scores don't improve for 100 rounds\n",
      "[100]\ttraining's binary_logloss: 0.292243\tvalid_1's binary_logloss: 0.296097\n",
      "[200]\ttraining's binary_logloss: 0.288752\tvalid_1's binary_logloss: 0.295416\n",
      "[300]\ttraining's binary_logloss: 0.285758\tvalid_1's binary_logloss: 0.295191\n",
      "[400]\ttraining's binary_logloss: 0.282809\tvalid_1's binary_logloss: 0.295073\n",
      "[500]\ttraining's binary_logloss: 0.280161\tvalid_1's binary_logloss: 0.295078\n",
      "Early stopping, best iteration is:\n",
      "[466]\ttraining's binary_logloss: 0.280976\tvalid_1's binary_logloss: 0.295031\n"
     ]
    },
    {
     "name": "stderr",
     "output_type": "stream",
     "text": [
      "tune_bagging_fraction_and_bagging_freq, val_score: 0.294396: 100%|##########| 10/10 [02:21<00:00, 14.95s/it][I 2020-03-24 16:01:34,408] Finished trial#9 resulted in value: 0.29503131104962416. Current best value is 0.2946244575759205 with parameters: {'bagging_fraction': 0.8032468692548103, 'bagging_freq': 3}.\n",
      "tune_bagging_fraction_and_bagging_freq, val_score: 0.294396: 100%|##########| 10/10 [02:21<00:00, 14.15s/it]\n",
      "tune_feature_fraction, val_score: 0.294396:   0%|          | 0/3 [00:00<?, ?it/s]"
     ]
    },
    {
     "name": "stdout",
     "output_type": "stream",
     "text": [
      "Training until validation scores don't improve for 100 rounds\n",
      "[100]\ttraining's binary_logloss: 0.29242\tvalid_1's binary_logloss: 0.296217\n",
      "[200]\ttraining's binary_logloss: 0.289042\tvalid_1's binary_logloss: 0.295516\n",
      "[300]\ttraining's binary_logloss: 0.286158\tvalid_1's binary_logloss: 0.295106\n",
      "[400]\ttraining's binary_logloss: 0.283444\tvalid_1's binary_logloss: 0.294891\n",
      "[500]\ttraining's binary_logloss: 0.280933\tvalid_1's binary_logloss: 0.294696\n",
      "[600]\ttraining's binary_logloss: 0.278542\tvalid_1's binary_logloss: 0.294665\n",
      "[700]\ttraining's binary_logloss: 0.276233\tvalid_1's binary_logloss: 0.294522\n",
      "[800]\ttraining's binary_logloss: 0.274037\tvalid_1's binary_logloss: 0.294612\n",
      "Early stopping, best iteration is:\n",
      "[707]\ttraining's binary_logloss: 0.276071\tvalid_1's binary_logloss: 0.2945\n"
     ]
    },
    {
     "name": "stderr",
     "output_type": "stream",
     "text": [
      "tune_feature_fraction, val_score: 0.294396:  33%|###3      | 1/3 [00:21<00:43, 21.88s/it][I 2020-03-24 16:01:56,417] Finished trial#0 resulted in value: 0.2944997084747627. Current best value is 0.2944997084747627 with parameters: {'feature_fraction': 0.92}.\n",
      "tune_feature_fraction, val_score: 0.294396:  33%|###3      | 1/3 [00:22<00:43, 21.88s/it]"
     ]
    },
    {
     "name": "stdout",
     "output_type": "stream",
     "text": [
      "Training until validation scores don't improve for 100 rounds\n",
      "[100]\ttraining's binary_logloss: 0.29248\tvalid_1's binary_logloss: 0.296265\n",
      "[200]\ttraining's binary_logloss: 0.289044\tvalid_1's binary_logloss: 0.295581\n",
      "[300]\ttraining's binary_logloss: 0.286215\tvalid_1's binary_logloss: 0.295197\n",
      "[400]\ttraining's binary_logloss: 0.283461\tvalid_1's binary_logloss: 0.294919\n",
      "[500]\ttraining's binary_logloss: 0.280927\tvalid_1's binary_logloss: 0.294811\n",
      "[600]\ttraining's binary_logloss: 0.27853\tvalid_1's binary_logloss: 0.294651\n",
      "[700]\ttraining's binary_logloss: 0.27623\tvalid_1's binary_logloss: 0.294595\n",
      "[800]\ttraining's binary_logloss: 0.273993\tvalid_1's binary_logloss: 0.294608\n",
      "Early stopping, best iteration is:\n",
      "[743]\ttraining's binary_logloss: 0.275266\tvalid_1's binary_logloss: 0.294575\n"
     ]
    },
    {
     "name": "stderr",
     "output_type": "stream",
     "text": [
      "tune_feature_fraction, val_score: 0.294396:  67%|######6   | 2/3 [00:45<00:22, 22.32s/it][I 2020-03-24 16:02:19,978] Finished trial#1 resulted in value: 0.2945747908453745. Current best value is 0.2944997084747627 with parameters: {'feature_fraction': 0.92}.\n",
      "tune_feature_fraction, val_score: 0.294396:  67%|######6   | 2/3 [00:45<00:22, 22.32s/it]"
     ]
    },
    {
     "name": "stdout",
     "output_type": "stream",
     "text": [
      "Training until validation scores don't improve for 100 rounds\n",
      "[100]\ttraining's binary_logloss: 0.292387\tvalid_1's binary_logloss: 0.296272\n",
      "[200]\ttraining's binary_logloss: 0.288991\tvalid_1's binary_logloss: 0.295498\n",
      "[300]\ttraining's binary_logloss: 0.286166\tvalid_1's binary_logloss: 0.295243\n",
      "[400]\ttraining's binary_logloss: 0.283476\tvalid_1's binary_logloss: 0.295046\n",
      "[500]\ttraining's binary_logloss: 0.281012\tvalid_1's binary_logloss: 0.294918\n",
      "[600]\ttraining's binary_logloss: 0.278547\tvalid_1's binary_logloss: 0.29481\n",
      "[700]\ttraining's binary_logloss: 0.27617\tvalid_1's binary_logloss: 0.294736\n",
      "Early stopping, best iteration is:\n",
      "[689]\ttraining's binary_logloss: 0.27637\tvalid_1's binary_logloss: 0.294721\n"
     ]
    },
    {
     "name": "stderr",
     "output_type": "stream",
     "text": [
      "tune_feature_fraction, val_score: 0.294396: 100%|##########| 3/3 [01:08<00:00, 22.47s/it][I 2020-03-24 16:02:42,548] Finished trial#2 resulted in value: 0.29472148125309805. Current best value is 0.2944997084747627 with parameters: {'feature_fraction': 0.92}.\n",
      "tune_feature_fraction, val_score: 0.294396: 100%|##########| 3/3 [01:08<00:00, 22.71s/it]\n",
      "tune_lambda_l1_and_lambda_l2, val_score: 0.294396:   0%|          | 0/20 [00:00<?, ?it/s]"
     ]
    },
    {
     "name": "stdout",
     "output_type": "stream",
     "text": [
      "Training until validation scores don't improve for 100 rounds\n",
      "[100]\ttraining's binary_logloss: 0.292472\tvalid_1's binary_logloss: 0.296281\n",
      "[200]\ttraining's binary_logloss: 0.289268\tvalid_1's binary_logloss: 0.295638\n",
      "[300]\ttraining's binary_logloss: 0.286348\tvalid_1's binary_logloss: 0.295214\n",
      "[400]\ttraining's binary_logloss: 0.283756\tvalid_1's binary_logloss: 0.294946\n",
      "[500]\ttraining's binary_logloss: 0.281287\tvalid_1's binary_logloss: 0.294785\n",
      "[600]\ttraining's binary_logloss: 0.278706\tvalid_1's binary_logloss: 0.294678\n",
      "[700]\ttraining's binary_logloss: 0.276305\tvalid_1's binary_logloss: 0.294583\n",
      "[800]\ttraining's binary_logloss: 0.273997\tvalid_1's binary_logloss: 0.294522\n",
      "Early stopping, best iteration is:\n",
      "[787]\ttraining's binary_logloss: 0.274307\tvalid_1's binary_logloss: 0.294505\n"
     ]
    },
    {
     "name": "stderr",
     "output_type": "stream",
     "text": [
      "tune_lambda_l1_and_lambda_l2, val_score: 0.294396:   5%|5         | 1/20 [00:25<07:55, 25.00s/it][I 2020-03-24 16:03:07,715] Finished trial#0 resulted in value: 0.2945046151335342. Current best value is 0.2945046151335342 with parameters: {'lambda_l1': 1.0079035348710097e-06, 'lambda_l2': 0.1800844638441192}.\n",
      "tune_lambda_l1_and_lambda_l2, val_score: 0.294396:   5%|5         | 1/20 [00:25<07:55, 25.00s/it]"
     ]
    },
    {
     "name": "stdout",
     "output_type": "stream",
     "text": [
      "Training until validation scores don't improve for 100 rounds\n",
      "[100]\ttraining's binary_logloss: 0.292352\tvalid_1's binary_logloss: 0.296136\n",
      "[200]\ttraining's binary_logloss: 0.28894\tvalid_1's binary_logloss: 0.295471\n",
      "[300]\ttraining's binary_logloss: 0.286017\tvalid_1's binary_logloss: 0.295048\n",
      "[400]\ttraining's binary_logloss: 0.283303\tvalid_1's binary_logloss: 0.29474\n",
      "[500]\ttraining's binary_logloss: 0.280814\tvalid_1's binary_logloss: 0.29458\n",
      "[600]\ttraining's binary_logloss: 0.278333\tvalid_1's binary_logloss: 0.294535\n",
      "[700]\ttraining's binary_logloss: 0.275987\tvalid_1's binary_logloss: 0.294482\n",
      "Early stopping, best iteration is:\n",
      "[690]\ttraining's binary_logloss: 0.276199\tvalid_1's binary_logloss: 0.294459\n"
     ]
    },
    {
     "name": "stderr",
     "output_type": "stream",
     "text": [
      "tune_lambda_l1_and_lambda_l2, val_score: 0.294396:  10%|#         | 2/20 [00:48<07:20, 24.47s/it][I 2020-03-24 16:03:30,897] Finished trial#1 resulted in value: 0.2944593755607835. Current best value is 0.2944593755607835 with parameters: {'lambda_l1': 6.220286363772129e-07, 'lambda_l2': 2.1195866035553e-06}.\n",
      "tune_lambda_l1_and_lambda_l2, val_score: 0.294396:  10%|#         | 2/20 [00:48<07:20, 24.47s/it]"
     ]
    },
    {
     "name": "stdout",
     "output_type": "stream",
     "text": [
      "Training until validation scores don't improve for 100 rounds\n",
      "[100]\ttraining's binary_logloss: 0.292352\tvalid_1's binary_logloss: 0.296136\n",
      "[200]\ttraining's binary_logloss: 0.28894\tvalid_1's binary_logloss: 0.295471\n",
      "[300]\ttraining's binary_logloss: 0.286017\tvalid_1's binary_logloss: 0.295048\n",
      "[400]\ttraining's binary_logloss: 0.283304\tvalid_1's binary_logloss: 0.29474\n",
      "[500]\ttraining's binary_logloss: 0.280814\tvalid_1's binary_logloss: 0.294581\n",
      "[600]\ttraining's binary_logloss: 0.278264\tvalid_1's binary_logloss: 0.294469\n",
      "Early stopping, best iteration is:\n",
      "[591]\ttraining's binary_logloss: 0.278503\tvalid_1's binary_logloss: 0.294458\n"
     ]
    },
    {
     "name": "stderr",
     "output_type": "stream",
     "text": [
      "tune_lambda_l1_and_lambda_l2, val_score: 0.294396:  15%|#5        | 3/20 [01:08<06:35, 23.29s/it][I 2020-03-24 16:03:51,601] Finished trial#2 resulted in value: 0.29445838011271486. Current best value is 0.29445838011271486 with parameters: {'lambda_l1': 1.262493498985865e-08, 'lambda_l2': 5.231259048880796e-05}.\n",
      "tune_lambda_l1_and_lambda_l2, val_score: 0.294396:  15%|#5        | 3/20 [01:09<06:35, 23.29s/it]"
     ]
    },
    {
     "name": "stdout",
     "output_type": "stream",
     "text": [
      "Training until validation scores don't improve for 100 rounds\n",
      "[100]\ttraining's binary_logloss: 0.29261\tvalid_1's binary_logloss: 0.296219\n",
      "[200]\ttraining's binary_logloss: 0.289628\tvalid_1's binary_logloss: 0.295493\n",
      "[300]\ttraining's binary_logloss: 0.287006\tvalid_1's binary_logloss: 0.294961\n",
      "[400]\ttraining's binary_logloss: 0.284682\tvalid_1's binary_logloss: 0.294728\n",
      "[500]\ttraining's binary_logloss: 0.282455\tvalid_1's binary_logloss: 0.294545\n",
      "[600]\ttraining's binary_logloss: 0.280421\tvalid_1's binary_logloss: 0.294443\n",
      "[700]\ttraining's binary_logloss: 0.278353\tvalid_1's binary_logloss: 0.294344\n",
      "[800]\ttraining's binary_logloss: 0.276298\tvalid_1's binary_logloss: 0.294295\n",
      "[900]\ttraining's binary_logloss: 0.274299\tvalid_1's binary_logloss: 0.294285\n",
      "Early stopping, best iteration is:\n",
      "[858]\ttraining's binary_logloss: 0.275113\tvalid_1's binary_logloss: 0.294241\n"
     ]
    },
    {
     "name": "stderr",
     "output_type": "stream",
     "text": [
      "tune_lambda_l1_and_lambda_l2, val_score: 0.294241:  20%|##        | 4/20 [01:36<06:32, 24.52s/it][I 2020-03-24 16:04:18,823] Finished trial#3 resulted in value: 0.2942413152727927. Current best value is 0.2942413152727927 with parameters: {'lambda_l1': 0.00519653681395466, 'lambda_l2': 1.5438345128716038}.\n",
      "tune_lambda_l1_and_lambda_l2, val_score: 0.294241:  20%|##        | 4/20 [01:36<06:32, 24.52s/it]"
     ]
    },
    {
     "name": "stdout",
     "output_type": "stream",
     "text": [
      "Training until validation scores don't improve for 100 rounds\n",
      "[100]\ttraining's binary_logloss: 0.292455\tvalid_1's binary_logloss: 0.296328\n",
      "[200]\ttraining's binary_logloss: 0.289168\tvalid_1's binary_logloss: 0.295773\n",
      "[300]\ttraining's binary_logloss: 0.286209\tvalid_1's binary_logloss: 0.295337\n",
      "[400]\ttraining's binary_logloss: 0.283516\tvalid_1's binary_logloss: 0.295124\n",
      "[500]\ttraining's binary_logloss: 0.280991\tvalid_1's binary_logloss: 0.295008\n",
      "[600]\ttraining's binary_logloss: 0.278517\tvalid_1's binary_logloss: 0.294802\n",
      "[700]\ttraining's binary_logloss: 0.276197\tvalid_1's binary_logloss: 0.29479\n",
      "Early stopping, best iteration is:\n",
      "[618]\ttraining's binary_logloss: 0.278089\tvalid_1's binary_logloss: 0.294751\n"
     ]
    },
    {
     "name": "stderr",
     "output_type": "stream",
     "text": [
      "tune_lambda_l1_and_lambda_l2, val_score: 0.294241:  25%|##5       | 5/20 [01:56<05:49, 23.31s/it][I 2020-03-24 16:04:39,287] Finished trial#4 resulted in value: 0.29475107047328813. Current best value is 0.2942413152727927 with parameters: {'lambda_l1': 0.00519653681395466, 'lambda_l2': 1.5438345128716038}.\n",
      "tune_lambda_l1_and_lambda_l2, val_score: 0.294241:  25%|##5       | 5/20 [01:56<05:49, 23.31s/it]"
     ]
    },
    {
     "name": "stdout",
     "output_type": "stream",
     "text": [
      "Training until validation scores don't improve for 100 rounds\n",
      "[100]\ttraining's binary_logloss: 0.29229\tvalid_1's binary_logloss: 0.296171\n",
      "[200]\ttraining's binary_logloss: 0.288946\tvalid_1's binary_logloss: 0.29553\n",
      "[300]\ttraining's binary_logloss: 0.285949\tvalid_1's binary_logloss: 0.295153\n",
      "[400]\ttraining's binary_logloss: 0.283189\tvalid_1's binary_logloss: 0.294868\n",
      "[500]\ttraining's binary_logloss: 0.280727\tvalid_1's binary_logloss: 0.294788\n",
      "[600]\ttraining's binary_logloss: 0.278257\tvalid_1's binary_logloss: 0.294669\n",
      "[700]\ttraining's binary_logloss: 0.275873\tvalid_1's binary_logloss: 0.294624\n",
      "Early stopping, best iteration is:\n",
      "[652]\ttraining's binary_logloss: 0.276972\tvalid_1's binary_logloss: 0.294586\n"
     ]
    },
    {
     "name": "stderr",
     "output_type": "stream",
     "text": [
      "tune_lambda_l1_and_lambda_l2, val_score: 0.294241:  30%|###       | 6/20 [02:17<05:18, 22.72s/it][I 2020-03-24 16:05:00,680] Finished trial#5 resulted in value: 0.29458642086652337. Current best value is 0.2942413152727927 with parameters: {'lambda_l1': 0.00519653681395466, 'lambda_l2': 1.5438345128716038}.\n",
      "tune_lambda_l1_and_lambda_l2, val_score: 0.294241:  30%|###       | 6/20 [02:18<05:18, 22.72s/it]"
     ]
    },
    {
     "name": "stdout",
     "output_type": "stream",
     "text": [
      "Training until validation scores don't improve for 100 rounds\n",
      "[100]\ttraining's binary_logloss: 0.292655\tvalid_1's binary_logloss: 0.296203\n",
      "[200]\ttraining's binary_logloss: 0.289907\tvalid_1's binary_logloss: 0.295535\n",
      "[300]\ttraining's binary_logloss: 0.287465\tvalid_1's binary_logloss: 0.295044\n",
      "[400]\ttraining's binary_logloss: 0.285229\tvalid_1's binary_logloss: 0.294814\n",
      "[500]\ttraining's binary_logloss: 0.28313\tvalid_1's binary_logloss: 0.294626\n",
      "[600]\ttraining's binary_logloss: 0.281013\tvalid_1's binary_logloss: 0.294478\n",
      "[700]\ttraining's binary_logloss: 0.279022\tvalid_1's binary_logloss: 0.294461\n",
      "[800]\ttraining's binary_logloss: 0.277036\tvalid_1's binary_logloss: 0.294414\n",
      "Early stopping, best iteration is:\n",
      "[781]\ttraining's binary_logloss: 0.277416\tvalid_1's binary_logloss: 0.294393\n"
     ]
    },
    {
     "name": "stderr",
     "output_type": "stream",
     "text": [
      "tune_lambda_l1_and_lambda_l2, val_score: 0.294241:  35%|###5      | 7/20 [02:43<05:06, 23.60s/it][I 2020-03-24 16:05:26,288] Finished trial#6 resulted in value: 0.2943930923841729. Current best value is 0.2942413152727927 with parameters: {'lambda_l1': 0.00519653681395466, 'lambda_l2': 1.5438345128716038}.\n",
      "tune_lambda_l1_and_lambda_l2, val_score: 0.294241:  35%|###5      | 7/20 [02:43<05:06, 23.60s/it]"
     ]
    },
    {
     "name": "stdout",
     "output_type": "stream",
     "text": [
      "Training until validation scores don't improve for 100 rounds\n",
      "[100]\ttraining's binary_logloss: 0.292352\tvalid_1's binary_logloss: 0.296136\n",
      "[200]\ttraining's binary_logloss: 0.289059\tvalid_1's binary_logloss: 0.295547\n",
      "[300]\ttraining's binary_logloss: 0.286112\tvalid_1's binary_logloss: 0.295141\n",
      "[400]\ttraining's binary_logloss: 0.283343\tvalid_1's binary_logloss: 0.29483\n",
      "[500]\ttraining's binary_logloss: 0.280813\tvalid_1's binary_logloss: 0.294639\n",
      "[600]\ttraining's binary_logloss: 0.278312\tvalid_1's binary_logloss: 0.294538\n",
      "[700]\ttraining's binary_logloss: 0.275955\tvalid_1's binary_logloss: 0.294493\n",
      "[800]\ttraining's binary_logloss: 0.273652\tvalid_1's binary_logloss: 0.294483\n",
      "Early stopping, best iteration is:\n",
      "[755]\ttraining's binary_logloss: 0.27475\tvalid_1's binary_logloss: 0.294437\n"
     ]
    },
    {
     "name": "stderr",
     "output_type": "stream",
     "text": [
      "tune_lambda_l1_and_lambda_l2, val_score: 0.294241:  40%|####      | 8/20 [03:07<04:44, 23.68s/it][I 2020-03-24 16:05:50,164] Finished trial#7 resulted in value: 0.29443748369168055. Current best value is 0.2942413152727927 with parameters: {'lambda_l1': 0.00519653681395466, 'lambda_l2': 1.5438345128716038}.\n",
      "tune_lambda_l1_and_lambda_l2, val_score: 0.294241:  40%|####      | 8/20 [03:07<04:44, 23.68s/it]"
     ]
    },
    {
     "name": "stdout",
     "output_type": "stream",
     "text": [
      "Training until validation scores don't improve for 100 rounds\n",
      "[100]\ttraining's binary_logloss: 0.292352\tvalid_1's binary_logloss: 0.296136\n",
      "[200]\ttraining's binary_logloss: 0.289012\tvalid_1's binary_logloss: 0.295525\n",
      "[300]\ttraining's binary_logloss: 0.285944\tvalid_1's binary_logloss: 0.295132\n",
      "[400]\ttraining's binary_logloss: 0.283329\tvalid_1's binary_logloss: 0.294965\n",
      "[500]\ttraining's binary_logloss: 0.28081\tvalid_1's binary_logloss: 0.294785\n",
      "[600]\ttraining's binary_logloss: 0.278187\tvalid_1's binary_logloss: 0.29466\n",
      "[700]\ttraining's binary_logloss: 0.27591\tvalid_1's binary_logloss: 0.294678\n",
      "Early stopping, best iteration is:\n",
      "[623]\ttraining's binary_logloss: 0.277583\tvalid_1's binary_logloss: 0.294616\n"
     ]
    },
    {
     "name": "stderr",
     "output_type": "stream",
     "text": [
      "tune_lambda_l1_and_lambda_l2, val_score: 0.294241:  45%|####5     | 9/20 [03:27<04:09, 22.71s/it][I 2020-03-24 16:06:10,641] Finished trial#8 resulted in value: 0.2946159668649234. Current best value is 0.2942413152727927 with parameters: {'lambda_l1': 0.00519653681395466, 'lambda_l2': 1.5438345128716038}.\n",
      "tune_lambda_l1_and_lambda_l2, val_score: 0.294241:  45%|####5     | 9/20 [03:28<04:09, 22.71s/it]"
     ]
    },
    {
     "name": "stdout",
     "output_type": "stream",
     "text": [
      "Training until validation scores don't improve for 100 rounds\n",
      "[100]\ttraining's binary_logloss: 0.292293\tvalid_1's binary_logloss: 0.296134\n",
      "[200]\ttraining's binary_logloss: 0.288974\tvalid_1's binary_logloss: 0.295583\n",
      "[300]\ttraining's binary_logloss: 0.286051\tvalid_1's binary_logloss: 0.295232\n",
      "[400]\ttraining's binary_logloss: 0.283367\tvalid_1's binary_logloss: 0.294935\n",
      "[500]\ttraining's binary_logloss: 0.280868\tvalid_1's binary_logloss: 0.294874\n",
      "Early stopping, best iteration is:\n",
      "[485]\ttraining's binary_logloss: 0.28124\tvalid_1's binary_logloss: 0.29486\n"
     ]
    },
    {
     "name": "stderr",
     "output_type": "stream",
     "text": [
      "tune_lambda_l1_and_lambda_l2, val_score: 0.294241:  50%|#####     | 10/20 [03:44<03:28, 20.86s/it][I 2020-03-24 16:06:27,166] Finished trial#9 resulted in value: 0.29485955520997487. Current best value is 0.2942413152727927 with parameters: {'lambda_l1': 0.00519653681395466, 'lambda_l2': 1.5438345128716038}.\n",
      "tune_lambda_l1_and_lambda_l2, val_score: 0.294241:  50%|#####     | 10/20 [03:44<03:28, 20.86s/it]"
     ]
    },
    {
     "name": "stdout",
     "output_type": "stream",
     "text": [
      "Training until validation scores don't improve for 100 rounds\n",
      "[100]\ttraining's binary_logloss: 0.292625\tvalid_1's binary_logloss: 0.296065\n",
      "[200]\ttraining's binary_logloss: 0.289868\tvalid_1's binary_logloss: 0.295269\n",
      "[300]\ttraining's binary_logloss: 0.287474\tvalid_1's binary_logloss: 0.294797\n",
      "[400]\ttraining's binary_logloss: 0.285255\tvalid_1's binary_logloss: 0.294533\n",
      "[500]\ttraining's binary_logloss: 0.283064\tvalid_1's binary_logloss: 0.29441\n",
      "[600]\ttraining's binary_logloss: 0.281072\tvalid_1's binary_logloss: 0.294292\n",
      "[700]\ttraining's binary_logloss: 0.279091\tvalid_1's binary_logloss: 0.294219\n",
      "[800]\ttraining's binary_logloss: 0.277126\tvalid_1's binary_logloss: 0.294145\n",
      "[900]\ttraining's binary_logloss: 0.275259\tvalid_1's binary_logloss: 0.294092\n",
      "[1000]\ttraining's binary_logloss: 0.273424\tvalid_1's binary_logloss: 0.294033\n",
      "Did not meet early stopping. Best iteration is:\n",
      "[1000]\ttraining's binary_logloss: 0.273424\tvalid_1's binary_logloss: 0.294033\n"
     ]
    },
    {
     "name": "stderr",
     "output_type": "stream",
     "text": [
      "tune_lambda_l1_and_lambda_l2, val_score: 0.294033:  55%|#####5    | 11/20 [04:13<03:29, 23.24s/it][I 2020-03-24 16:06:55,990] Finished trial#10 resulted in value: 0.29403320296545227. Current best value is 0.29403320296545227 with parameters: {'lambda_l1': 3.6150979470370794, 'lambda_l2': 0.011293289857721055}.\n",
      "tune_lambda_l1_and_lambda_l2, val_score: 0.294033:  55%|#####5    | 11/20 [04:13<03:29, 23.24s/it]"
     ]
    },
    {
     "name": "stdout",
     "output_type": "stream",
     "text": [
      "Training until validation scores don't improve for 100 rounds\n",
      "[100]\ttraining's binary_logloss: 0.29282\tvalid_1's binary_logloss: 0.296146\n",
      "[200]\ttraining's binary_logloss: 0.290305\tvalid_1's binary_logloss: 0.295275\n",
      "[300]\ttraining's binary_logloss: 0.288195\tvalid_1's binary_logloss: 0.294777\n",
      "[400]\ttraining's binary_logloss: 0.2862\tvalid_1's binary_logloss: 0.294542\n",
      "[500]\ttraining's binary_logloss: 0.284339\tvalid_1's binary_logloss: 0.294283\n",
      "[600]\ttraining's binary_logloss: 0.282564\tvalid_1's binary_logloss: 0.294242\n",
      "Early stopping, best iteration is:\n",
      "[558]\ttraining's binary_logloss: 0.283244\tvalid_1's binary_logloss: 0.294208\n"
     ]
    },
    {
     "name": "stderr",
     "output_type": "stream",
     "text": [
      "tune_lambda_l1_and_lambda_l2, val_score: 0.294033:  60%|######    | 12/20 [04:33<02:58, 22.30s/it][I 2020-03-24 16:07:16,325] Finished trial#11 resulted in value: 0.2942083029582875. Current best value is 0.29403320296545227 with parameters: {'lambda_l1': 3.6150979470370794, 'lambda_l2': 0.011293289857721055}.\n",
      "tune_lambda_l1_and_lambda_l2, val_score: 0.294033:  60%|######    | 12/20 [04:33<02:58, 22.30s/it]"
     ]
    },
    {
     "name": "stdout",
     "output_type": "stream",
     "text": [
      "Training until validation scores don't improve for 100 rounds\n",
      "[100]\ttraining's binary_logloss: 0.29284\tvalid_1's binary_logloss: 0.296173\n",
      "[200]\ttraining's binary_logloss: 0.290229\tvalid_1's binary_logloss: 0.295237\n",
      "[300]\ttraining's binary_logloss: 0.28795\tvalid_1's binary_logloss: 0.294787\n",
      "[400]\ttraining's binary_logloss: 0.285949\tvalid_1's binary_logloss: 0.294538\n",
      "[500]\ttraining's binary_logloss: 0.28417\tvalid_1's binary_logloss: 0.294337\n",
      "[600]\ttraining's binary_logloss: 0.282348\tvalid_1's binary_logloss: 0.294302\n",
      "[700]\ttraining's binary_logloss: 0.28065\tvalid_1's binary_logloss: 0.294319\n",
      "Early stopping, best iteration is:\n",
      "[606]\ttraining's binary_logloss: 0.282251\tvalid_1's binary_logloss: 0.294282\n"
     ]
    },
    {
     "name": "stderr",
     "output_type": "stream",
     "text": [
      "tune_lambda_l1_and_lambda_l2, val_score: 0.294033:  65%|######5   | 13/20 [04:55<02:35, 22.18s/it][I 2020-03-24 16:07:37,995] Finished trial#12 resulted in value: 0.2942815550551468. Current best value is 0.29403320296545227 with parameters: {'lambda_l1': 3.6150979470370794, 'lambda_l2': 0.011293289857721055}.\n",
      "tune_lambda_l1_and_lambda_l2, val_score: 0.294033:  65%|######5   | 13/20 [04:55<02:35, 22.18s/it]"
     ]
    },
    {
     "name": "stdout",
     "output_type": "stream",
     "text": [
      "Training until validation scores don't improve for 100 rounds\n",
      "[100]\ttraining's binary_logloss: 0.292948\tvalid_1's binary_logloss: 0.296117\n",
      "[200]\ttraining's binary_logloss: 0.290514\tvalid_1's binary_logloss: 0.295224\n",
      "[300]\ttraining's binary_logloss: 0.288602\tvalid_1's binary_logloss: 0.294802\n",
      "[400]\ttraining's binary_logloss: 0.286806\tvalid_1's binary_logloss: 0.294619\n",
      "[500]\ttraining's binary_logloss: 0.285009\tvalid_1's binary_logloss: 0.294418\n",
      "[600]\ttraining's binary_logloss: 0.283453\tvalid_1's binary_logloss: 0.294389\n",
      "[700]\ttraining's binary_logloss: 0.281976\tvalid_1's binary_logloss: 0.294273\n",
      "[800]\ttraining's binary_logloss: 0.280461\tvalid_1's binary_logloss: 0.294233\n",
      "[900]\ttraining's binary_logloss: 0.279027\tvalid_1's binary_logloss: 0.294239\n",
      "[1000]\ttraining's binary_logloss: 0.277577\tvalid_1's binary_logloss: 0.294286\n",
      "Did not meet early stopping. Best iteration is:\n",
      "[1000]\ttraining's binary_logloss: 0.277577\tvalid_1's binary_logloss: 0.294286\n"
     ]
    },
    {
     "name": "stderr",
     "output_type": "stream",
     "text": [
      "tune_lambda_l1_and_lambda_l2, val_score: 0.294033:  70%|#######   | 14/20 [05:25<02:27, 24.65s/it][I 2020-03-24 16:08:08,440] Finished trial#13 resulted in value: 0.2942862935231071. Current best value is 0.29403320296545227 with parameters: {'lambda_l1': 3.6150979470370794, 'lambda_l2': 0.011293289857721055}.\n",
      "tune_lambda_l1_and_lambda_l2, val_score: 0.294033:  70%|#######   | 14/20 [05:25<02:27, 24.65s/it]"
     ]
    },
    {
     "name": "stdout",
     "output_type": "stream",
     "text": [
      "Training until validation scores don't improve for 100 rounds\n",
      "[100]\ttraining's binary_logloss: 0.292555\tvalid_1's binary_logloss: 0.29625\n",
      "[200]\ttraining's binary_logloss: 0.289368\tvalid_1's binary_logloss: 0.295504\n",
      "[300]\ttraining's binary_logloss: 0.286654\tvalid_1's binary_logloss: 0.29506\n",
      "[400]\ttraining's binary_logloss: 0.284109\tvalid_1's binary_logloss: 0.294762\n",
      "[500]\ttraining's binary_logloss: 0.281684\tvalid_1's binary_logloss: 0.294493\n",
      "[600]\ttraining's binary_logloss: 0.279309\tvalid_1's binary_logloss: 0.294354\n",
      "[700]\ttraining's binary_logloss: 0.277053\tvalid_1's binary_logloss: 0.294326\n",
      "[800]\ttraining's binary_logloss: 0.274867\tvalid_1's binary_logloss: 0.294287\n",
      "[900]\ttraining's binary_logloss: 0.272621\tvalid_1's binary_logloss: 0.294231\n",
      "Early stopping, best iteration is:\n",
      "[891]\ttraining's binary_logloss: 0.272804\tvalid_1's binary_logloss: 0.294226\n"
     ]
    },
    {
     "name": "stderr",
     "output_type": "stream",
     "text": [
      "tune_lambda_l1_and_lambda_l2, val_score: 0.294033:  75%|#######5  | 15/20 [05:53<02:07, 25.51s/it][I 2020-03-24 16:08:35,928] Finished trial#14 resulted in value: 0.29422586100410425. Current best value is 0.29403320296545227 with parameters: {'lambda_l1': 3.6150979470370794, 'lambda_l2': 0.011293289857721055}.\n",
      "tune_lambda_l1_and_lambda_l2, val_score: 0.294033:  75%|#######5  | 15/20 [05:53<02:07, 25.51s/it]"
     ]
    },
    {
     "name": "stdout",
     "output_type": "stream",
     "text": [
      "Training until validation scores don't improve for 100 rounds\n",
      "[100]\ttraining's binary_logloss: 0.292352\tvalid_1's binary_logloss: 0.296136\n",
      "[200]\ttraining's binary_logloss: 0.289012\tvalid_1's binary_logloss: 0.295525\n",
      "[300]\ttraining's binary_logloss: 0.285944\tvalid_1's binary_logloss: 0.295132\n",
      "[400]\ttraining's binary_logloss: 0.283329\tvalid_1's binary_logloss: 0.294964\n",
      "[500]\ttraining's binary_logloss: 0.280867\tvalid_1's binary_logloss: 0.294811\n",
      "[600]\ttraining's binary_logloss: 0.278516\tvalid_1's binary_logloss: 0.294689\n",
      "[700]\ttraining's binary_logloss: 0.276059\tvalid_1's binary_logloss: 0.294623\n",
      "Early stopping, best iteration is:\n",
      "[692]\ttraining's binary_logloss: 0.276222\tvalid_1's binary_logloss: 0.294606\n"
     ]
    },
    {
     "name": "stderr",
     "output_type": "stream",
     "text": [
      "tune_lambda_l1_and_lambda_l2, val_score: 0.294033:  80%|########  | 16/20 [06:15<01:37, 24.40s/it][I 2020-03-24 16:08:57,962] Finished trial#15 resulted in value: 0.29460607708835884. Current best value is 0.29403320296545227 with parameters: {'lambda_l1': 3.6150979470370794, 'lambda_l2': 0.011293289857721055}.\n",
      "tune_lambda_l1_and_lambda_l2, val_score: 0.294033:  80%|########  | 16/20 [06:15<01:37, 24.40s/it]"
     ]
    },
    {
     "name": "stdout",
     "output_type": "stream",
     "text": [
      "Training until validation scores don't improve for 100 rounds\n",
      "[100]\ttraining's binary_logloss: 0.292867\tvalid_1's binary_logloss: 0.29609\n",
      "[200]\ttraining's binary_logloss: 0.290439\tvalid_1's binary_logloss: 0.295258\n",
      "[300]\ttraining's binary_logloss: 0.288357\tvalid_1's binary_logloss: 0.294818\n",
      "[400]\ttraining's binary_logloss: 0.286536\tvalid_1's binary_logloss: 0.294625\n",
      "[500]\ttraining's binary_logloss: 0.28481\tvalid_1's binary_logloss: 0.294516\n",
      "[600]\ttraining's binary_logloss: 0.283161\tvalid_1's binary_logloss: 0.294356\n",
      "[700]\ttraining's binary_logloss: 0.281546\tvalid_1's binary_logloss: 0.294305\n",
      "[800]\ttraining's binary_logloss: 0.279998\tvalid_1's binary_logloss: 0.294298\n",
      "Early stopping, best iteration is:\n",
      "[725]\ttraining's binary_logloss: 0.281141\tvalid_1's binary_logloss: 0.294275\n"
     ]
    },
    {
     "name": "stderr",
     "output_type": "stream",
     "text": [
      "tune_lambda_l1_and_lambda_l2, val_score: 0.294033:  85%|########5 | 17/20 [06:41<01:14, 24.87s/it][I 2020-03-24 16:09:23,648] Finished trial#16 resulted in value: 0.29427506213954846. Current best value is 0.29403320296545227 with parameters: {'lambda_l1': 3.6150979470370794, 'lambda_l2': 0.011293289857721055}.\n",
      "tune_lambda_l1_and_lambda_l2, val_score: 0.294033:  85%|########5 | 17/20 [06:41<01:14, 24.87s/it]"
     ]
    },
    {
     "name": "stdout",
     "output_type": "stream",
     "text": [
      "Training until validation scores don't improve for 100 rounds\n",
      "[100]\ttraining's binary_logloss: 0.292512\tvalid_1's binary_logloss: 0.296304\n",
      "[200]\ttraining's binary_logloss: 0.289358\tvalid_1's binary_logloss: 0.295507\n",
      "[300]\ttraining's binary_logloss: 0.286537\tvalid_1's binary_logloss: 0.295085\n",
      "[400]\ttraining's binary_logloss: 0.283964\tvalid_1's binary_logloss: 0.294813\n",
      "[500]\ttraining's binary_logloss: 0.281593\tvalid_1's binary_logloss: 0.294624\n",
      "[600]\ttraining's binary_logloss: 0.279317\tvalid_1's binary_logloss: 0.294571\n",
      "[700]\ttraining's binary_logloss: 0.27707\tvalid_1's binary_logloss: 0.29447\n",
      "[800]\ttraining's binary_logloss: 0.274879\tvalid_1's binary_logloss: 0.294414\n",
      "[900]\ttraining's binary_logloss: 0.272621\tvalid_1's binary_logloss: 0.294453\n",
      "Early stopping, best iteration is:\n",
      "[835]\ttraining's binary_logloss: 0.274046\tvalid_1's binary_logloss: 0.294383\n"
     ]
    },
    {
     "name": "stderr",
     "output_type": "stream",
     "text": [
      "tune_lambda_l1_and_lambda_l2, val_score: 0.294033:  90%|######### | 18/20 [07:07<00:50, 25.25s/it][I 2020-03-24 16:09:49,864] Finished trial#17 resulted in value: 0.2943834579096816. Current best value is 0.29403320296545227 with parameters: {'lambda_l1': 3.6150979470370794, 'lambda_l2': 0.011293289857721055}.\n",
      "tune_lambda_l1_and_lambda_l2, val_score: 0.294033:  90%|######### | 18/20 [07:07<00:50, 25.25s/it]"
     ]
    },
    {
     "name": "stdout",
     "output_type": "stream",
     "text": [
      "Training until validation scores don't improve for 100 rounds\n",
      "[100]\ttraining's binary_logloss: 0.292878\tvalid_1's binary_logloss: 0.296205\n",
      "[200]\ttraining's binary_logloss: 0.290385\tvalid_1's binary_logloss: 0.295411\n",
      "[300]\ttraining's binary_logloss: 0.28828\tvalid_1's binary_logloss: 0.295039\n",
      "[400]\ttraining's binary_logloss: 0.286416\tvalid_1's binary_logloss: 0.294752\n",
      "[500]\ttraining's binary_logloss: 0.28471\tvalid_1's binary_logloss: 0.294565\n",
      "[600]\ttraining's binary_logloss: 0.282967\tvalid_1's binary_logloss: 0.29449\n",
      "[700]\ttraining's binary_logloss: 0.281279\tvalid_1's binary_logloss: 0.294368\n",
      "[800]\ttraining's binary_logloss: 0.279593\tvalid_1's binary_logloss: 0.294303\n",
      "[900]\ttraining's binary_logloss: 0.27784\tvalid_1's binary_logloss: 0.294283\n",
      "Early stopping, best iteration is:\n",
      "[849]\ttraining's binary_logloss: 0.278719\tvalid_1's binary_logloss: 0.294258\n"
     ]
    },
    {
     "name": "stderr",
     "output_type": "stream",
     "text": [
      "tune_lambda_l1_and_lambda_l2, val_score: 0.294033:  95%|#########5| 19/20 [07:34<00:25, 25.92s/it][I 2020-03-24 16:10:17,356] Finished trial#18 resulted in value: 0.29425782567916037. Current best value is 0.29403320296545227 with parameters: {'lambda_l1': 3.6150979470370794, 'lambda_l2': 0.011293289857721055}.\n",
      "tune_lambda_l1_and_lambda_l2, val_score: 0.294033:  95%|#########5| 19/20 [07:34<00:25, 25.92s/it]"
     ]
    },
    {
     "name": "stdout",
     "output_type": "stream",
     "text": [
      "Training until validation scores don't improve for 100 rounds\n",
      "[100]\ttraining's binary_logloss: 0.29303\tvalid_1's binary_logloss: 0.296223\n",
      "[200]\ttraining's binary_logloss: 0.290513\tvalid_1's binary_logloss: 0.295208\n",
      "[300]\ttraining's binary_logloss: 0.288501\tvalid_1's binary_logloss: 0.294685\n",
      "[400]\ttraining's binary_logloss: 0.286698\tvalid_1's binary_logloss: 0.294484\n",
      "[500]\ttraining's binary_logloss: 0.284974\tvalid_1's binary_logloss: 0.29436\n",
      "[600]\ttraining's binary_logloss: 0.283345\tvalid_1's binary_logloss: 0.29429\n",
      "[700]\ttraining's binary_logloss: 0.281831\tvalid_1's binary_logloss: 0.29424\n",
      "[800]\ttraining's binary_logloss: 0.280369\tvalid_1's binary_logloss: 0.294177\n",
      "[900]\ttraining's binary_logloss: 0.278959\tvalid_1's binary_logloss: 0.294125\n",
      "[1000]\ttraining's binary_logloss: 0.277615\tvalid_1's binary_logloss: 0.294162\n",
      "Did not meet early stopping. Best iteration is:\n",
      "[1000]\ttraining's binary_logloss: 0.277615\tvalid_1's binary_logloss: 0.294162\n"
     ]
    },
    {
     "name": "stderr",
     "output_type": "stream",
     "text": [
      "tune_lambda_l1_and_lambda_l2, val_score: 0.294033: 100%|##########| 20/20 [08:04<00:00, 27.21s/it][I 2020-03-24 16:10:47,517] Finished trial#19 resulted in value: 0.29416156486256456. Current best value is 0.29403320296545227 with parameters: {'lambda_l1': 3.6150979470370794, 'lambda_l2': 0.011293289857721055}.\n",
      "tune_lambda_l1_and_lambda_l2, val_score: 0.294033: 100%|##########| 20/20 [08:04<00:00, 24.25s/it]\n",
      "tune_min_child_samples, val_score: 0.294033:   0%|          | 0/5 [00:00<?, ?it/s]"
     ]
    },
    {
     "name": "stdout",
     "output_type": "stream",
     "text": [
      "Training until validation scores don't improve for 100 rounds\n",
      "[100]\ttraining's binary_logloss: 0.29268\tvalid_1's binary_logloss: 0.296127\n",
      "[200]\ttraining's binary_logloss: 0.289844\tvalid_1's binary_logloss: 0.295268\n",
      "[300]\ttraining's binary_logloss: 0.287427\tvalid_1's binary_logloss: 0.29475\n",
      "[400]\ttraining's binary_logloss: 0.285099\tvalid_1's binary_logloss: 0.294447\n",
      "[500]\ttraining's binary_logloss: 0.283021\tvalid_1's binary_logloss: 0.294324\n",
      "[600]\ttraining's binary_logloss: 0.280921\tvalid_1's binary_logloss: 0.294194\n",
      "Early stopping, best iteration is:\n",
      "[574]\ttraining's binary_logloss: 0.281459\tvalid_1's binary_logloss: 0.294176\n"
     ]
    },
    {
     "name": "stderr",
     "output_type": "stream",
     "text": [
      "tune_min_child_samples, val_score: 0.294033:  20%|##        | 1/5 [00:20<01:21, 20.25s/it][I 2020-03-24 16:11:07,899] Finished trial#0 resulted in value: 0.29417597097704645. Current best value is 0.29417597097704645 with parameters: {'min_child_samples': 5}.\n",
      "tune_min_child_samples, val_score: 0.294033:  20%|##        | 1/5 [00:20<01:21, 20.25s/it]"
     ]
    },
    {
     "name": "stdout",
     "output_type": "stream",
     "text": [
      "Training until validation scores don't improve for 100 rounds\n",
      "[100]\ttraining's binary_logloss: 0.292688\tvalid_1's binary_logloss: 0.296169\n",
      "[200]\ttraining's binary_logloss: 0.28977\tvalid_1's binary_logloss: 0.295341\n",
      "[300]\ttraining's binary_logloss: 0.287432\tvalid_1's binary_logloss: 0.294838\n",
      "[400]\ttraining's binary_logloss: 0.285187\tvalid_1's binary_logloss: 0.29461\n",
      "[500]\ttraining's binary_logloss: 0.283107\tvalid_1's binary_logloss: 0.294475\n",
      "[600]\ttraining's binary_logloss: 0.281015\tvalid_1's binary_logloss: 0.294307\n",
      "[700]\ttraining's binary_logloss: 0.279057\tvalid_1's binary_logloss: 0.294243\n",
      "[800]\ttraining's binary_logloss: 0.277161\tvalid_1's binary_logloss: 0.294202\n",
      "[900]\ttraining's binary_logloss: 0.275324\tvalid_1's binary_logloss: 0.294158\n",
      "[1000]\ttraining's binary_logloss: 0.273478\tvalid_1's binary_logloss: 0.294167\n",
      "Did not meet early stopping. Best iteration is:\n",
      "[1000]\ttraining's binary_logloss: 0.273478\tvalid_1's binary_logloss: 0.294167\n"
     ]
    },
    {
     "name": "stderr",
     "output_type": "stream",
     "text": [
      "tune_min_child_samples, val_score: 0.294033:  40%|####      | 2/5 [00:48<01:07, 22.56s/it][I 2020-03-24 16:11:35,805] Finished trial#1 resulted in value: 0.2941670994660006. Current best value is 0.2941670994660006 with parameters: {'min_child_samples': 10}.\n",
      "tune_min_child_samples, val_score: 0.294033:  40%|####      | 2/5 [00:48<01:07, 22.56s/it]"
     ]
    },
    {
     "name": "stdout",
     "output_type": "stream",
     "text": [
      "Training until validation scores don't improve for 100 rounds\n",
      "[100]\ttraining's binary_logloss: 0.292694\tvalid_1's binary_logloss: 0.296123\n",
      "[200]\ttraining's binary_logloss: 0.289905\tvalid_1's binary_logloss: 0.295276\n",
      "[300]\ttraining's binary_logloss: 0.287499\tvalid_1's binary_logloss: 0.294905\n",
      "[400]\ttraining's binary_logloss: 0.285245\tvalid_1's binary_logloss: 0.294657\n",
      "[500]\ttraining's binary_logloss: 0.283158\tvalid_1's binary_logloss: 0.294475\n",
      "[600]\ttraining's binary_logloss: 0.281044\tvalid_1's binary_logloss: 0.294376\n",
      "[700]\ttraining's binary_logloss: 0.279098\tvalid_1's binary_logloss: 0.294224\n",
      "[800]\ttraining's binary_logloss: 0.277186\tvalid_1's binary_logloss: 0.294212\n",
      "[900]\ttraining's binary_logloss: 0.275317\tvalid_1's binary_logloss: 0.294227\n",
      "[1000]\ttraining's binary_logloss: 0.273546\tvalid_1's binary_logloss: 0.294223\n",
      "Did not meet early stopping. Best iteration is:\n",
      "[1000]\ttraining's binary_logloss: 0.273546\tvalid_1's binary_logloss: 0.294223\n"
     ]
    },
    {
     "name": "stderr",
     "output_type": "stream",
     "text": [
      "tune_min_child_samples, val_score: 0.294033:  60%|######    | 3/5 [01:15<00:47, 23.94s/it][I 2020-03-24 16:12:02,986] Finished trial#2 resulted in value: 0.29422281203637835. Current best value is 0.2941670994660006 with parameters: {'min_child_samples': 10}.\n",
      "tune_min_child_samples, val_score: 0.294033:  60%|######    | 3/5 [01:15<00:47, 23.94s/it]"
     ]
    },
    {
     "name": "stdout",
     "output_type": "stream",
     "text": [
      "Training until validation scores don't improve for 100 rounds\n",
      "[100]\ttraining's binary_logloss: 0.292664\tvalid_1's binary_logloss: 0.296078\n",
      "[200]\ttraining's binary_logloss: 0.289883\tvalid_1's binary_logloss: 0.295245\n",
      "[300]\ttraining's binary_logloss: 0.287336\tvalid_1's binary_logloss: 0.294696\n",
      "[400]\ttraining's binary_logloss: 0.285223\tvalid_1's binary_logloss: 0.294517\n",
      "[500]\ttraining's binary_logloss: 0.283086\tvalid_1's binary_logloss: 0.294351\n",
      "[600]\ttraining's binary_logloss: 0.281066\tvalid_1's binary_logloss: 0.294263\n",
      "[700]\ttraining's binary_logloss: 0.279101\tvalid_1's binary_logloss: 0.294211\n",
      "Early stopping, best iteration is:\n",
      "[651]\ttraining's binary_logloss: 0.280029\tvalid_1's binary_logloss: 0.29417\n"
     ]
    },
    {
     "name": "stderr",
     "output_type": "stream",
     "text": [
      "tune_min_child_samples, val_score: 0.294033:  80%|########  | 4/5 [01:36<00:23, 23.07s/it][I 2020-03-24 16:12:24,042] Finished trial#3 resulted in value: 0.294170399304649. Current best value is 0.2941670994660006 with parameters: {'min_child_samples': 10}.\n",
      "tune_min_child_samples, val_score: 0.294033:  80%|########  | 4/5 [01:36<00:23, 23.07s/it]"
     ]
    },
    {
     "name": "stdout",
     "output_type": "stream",
     "text": [
      "Training until validation scores don't improve for 100 rounds\n",
      "[100]\ttraining's binary_logloss: 0.29264\tvalid_1's binary_logloss: 0.296124\n",
      "[200]\ttraining's binary_logloss: 0.289968\tvalid_1's binary_logloss: 0.29531\n",
      "[300]\ttraining's binary_logloss: 0.287511\tvalid_1's binary_logloss: 0.294784\n",
      "[400]\ttraining's binary_logloss: 0.285275\tvalid_1's binary_logloss: 0.294491\n",
      "[500]\ttraining's binary_logloss: 0.283223\tvalid_1's binary_logloss: 0.294374\n",
      "[600]\ttraining's binary_logloss: 0.281211\tvalid_1's binary_logloss: 0.294195\n",
      "[700]\ttraining's binary_logloss: 0.279361\tvalid_1's binary_logloss: 0.294153\n",
      "[800]\ttraining's binary_logloss: 0.277434\tvalid_1's binary_logloss: 0.294091\n",
      "[900]\ttraining's binary_logloss: 0.275678\tvalid_1's binary_logloss: 0.294059\n",
      "[1000]\ttraining's binary_logloss: 0.273947\tvalid_1's binary_logloss: 0.294048\n",
      "Did not meet early stopping. Best iteration is:\n",
      "[1000]\ttraining's binary_logloss: 0.273947\tvalid_1's binary_logloss: 0.294048\n"
     ]
    },
    {
     "name": "stderr",
     "output_type": "stream",
     "text": [
      "tune_min_child_samples, val_score: 0.294033: 100%|##########| 5/5 [02:04<00:00, 24.50s/it][I 2020-03-24 16:12:51,879] Finished trial#4 resulted in value: 0.2940482531810648. Current best value is 0.2940482531810648 with parameters: {'min_child_samples': 100}.\n",
      "tune_min_child_samples, val_score: 0.294033: 100%|##########| 5/5 [02:04<00:00, 24.87s/it]\n"
     ]
    },
    {
     "name": "stdout",
     "output_type": "stream",
     "text": [
      "2020-03-24 16:13:02 Like ********************************************************************************\n",
      "Like\n",
      "n_pos_wanted 100000\n",
      "2020-03-24 16:13:16 chunk 1\n",
      "dftrvl.shape: (1000000, 95) dftrvl[tgtcol].mean(): 0.439225\n",
      "{'train_pop': 1000000, 'target_pop': 439225, 'sampled_train_pop': 1000000, 'sampled_target_pop': 439225}\n",
      "{'objective': 'binary', 'metric': 'binary_logloss', 'verbosity': 1, 'boosting_type': 'gbdt', 'num_threads': 24}\n"
     ]
    },
    {
     "name": "stderr",
     "output_type": "stream",
     "text": [
      "tune_feature_fraction, val_score: inf:   0%|          | 0/7 [00:00<?, ?it/s]"
     ]
    },
    {
     "name": "stdout",
     "output_type": "stream",
     "text": [
      "Training until validation scores don't improve for 100 rounds\n",
      "[100]\ttraining's binary_logloss: 0.596797\tvalid_1's binary_logloss: 0.600746\n",
      "[200]\ttraining's binary_logloss: 0.590671\tvalid_1's binary_logloss: 0.596508\n",
      "[300]\ttraining's binary_logloss: 0.586855\tvalid_1's binary_logloss: 0.594604\n",
      "[400]\ttraining's binary_logloss: 0.583926\tvalid_1's binary_logloss: 0.593526\n",
      "[500]\ttraining's binary_logloss: 0.580911\tvalid_1's binary_logloss: 0.59235\n",
      "[600]\ttraining's binary_logloss: 0.578374\tvalid_1's binary_logloss: 0.591661\n",
      "[700]\ttraining's binary_logloss: 0.575928\tvalid_1's binary_logloss: 0.591064\n",
      "[800]\ttraining's binary_logloss: 0.573522\tvalid_1's binary_logloss: 0.59049\n",
      "[900]\ttraining's binary_logloss: 0.571233\tvalid_1's binary_logloss: 0.589933\n",
      "[1000]\ttraining's binary_logloss: 0.568725\tvalid_1's binary_logloss: 0.589244\n",
      "Did not meet early stopping. Best iteration is:\n",
      "[1000]\ttraining's binary_logloss: 0.568725\tvalid_1's binary_logloss: 0.589244\n"
     ]
    },
    {
     "name": "stderr",
     "output_type": "stream",
     "text": [
      "tune_feature_fraction, val_score: 0.589244:  14%|#4        | 1/7 [00:31<03:09, 31.58s/it][I 2020-03-24 16:13:58,192] Finished trial#0 resulted in value: 0.5892443669045824. Current best value is 0.5892443669045824 with parameters: {'feature_fraction': 0.4}.\n",
      "tune_feature_fraction, val_score: 0.589244:  14%|#4        | 1/7 [00:31<03:09, 31.58s/it]"
     ]
    },
    {
     "name": "stdout",
     "output_type": "stream",
     "text": [
      "Training until validation scores don't improve for 100 rounds\n",
      "[100]\ttraining's binary_logloss: 0.595888\tvalid_1's binary_logloss: 0.599853\n",
      "[200]\ttraining's binary_logloss: 0.590082\tvalid_1's binary_logloss: 0.59607\n",
      "[300]\ttraining's binary_logloss: 0.586172\tvalid_1's binary_logloss: 0.594142\n",
      "[400]\ttraining's binary_logloss: 0.582968\tvalid_1's binary_logloss: 0.592957\n",
      "[500]\ttraining's binary_logloss: 0.579929\tvalid_1's binary_logloss: 0.591933\n",
      "[600]\ttraining's binary_logloss: 0.577142\tvalid_1's binary_logloss: 0.591093\n",
      "[700]\ttraining's binary_logloss: 0.574417\tvalid_1's binary_logloss: 0.590317\n",
      "[800]\ttraining's binary_logloss: 0.57194\tvalid_1's binary_logloss: 0.58961\n",
      "[900]\ttraining's binary_logloss: 0.569556\tvalid_1's binary_logloss: 0.589139\n",
      "[1000]\ttraining's binary_logloss: 0.567116\tvalid_1's binary_logloss: 0.588595\n",
      "Did not meet early stopping. Best iteration is:\n",
      "[1000]\ttraining's binary_logloss: 0.567116\tvalid_1's binary_logloss: 0.588595\n"
     ]
    },
    {
     "name": "stderr",
     "output_type": "stream",
     "text": [
      "tune_feature_fraction, val_score: 0.588595:  29%|##8       | 2/7 [00:57<02:29, 29.87s/it][I 2020-03-24 16:14:24,043] Finished trial#1 resulted in value: 0.5885950056315725. Current best value is 0.5885950056315725 with parameters: {'feature_fraction': 0.5}.\n",
      "tune_feature_fraction, val_score: 0.588595:  29%|##8       | 2/7 [00:57<02:29, 29.87s/it]"
     ]
    },
    {
     "name": "stdout",
     "output_type": "stream",
     "text": [
      "Training until validation scores don't improve for 100 rounds\n",
      "[100]\ttraining's binary_logloss: 0.595533\tvalid_1's binary_logloss: 0.599797\n",
      "[200]\ttraining's binary_logloss: 0.589708\tvalid_1's binary_logloss: 0.596042\n",
      "[300]\ttraining's binary_logloss: 0.586074\tvalid_1's binary_logloss: 0.594463\n",
      "[400]\ttraining's binary_logloss: 0.582792\tvalid_1's binary_logloss: 0.593244\n",
      "[500]\ttraining's binary_logloss: 0.579658\tvalid_1's binary_logloss: 0.592148\n",
      "[600]\ttraining's binary_logloss: 0.576926\tvalid_1's binary_logloss: 0.591394\n",
      "[700]\ttraining's binary_logloss: 0.574203\tvalid_1's binary_logloss: 0.590688\n",
      "[800]\ttraining's binary_logloss: 0.571712\tvalid_1's binary_logloss: 0.590253\n",
      "[900]\ttraining's binary_logloss: 0.569185\tvalid_1's binary_logloss: 0.589822\n",
      "[1000]\ttraining's binary_logloss: 0.566693\tvalid_1's binary_logloss: 0.589242\n",
      "Did not meet early stopping. Best iteration is:\n",
      "[1000]\ttraining's binary_logloss: 0.566693\tvalid_1's binary_logloss: 0.589242\n"
     ]
    },
    {
     "name": "stderr",
     "output_type": "stream",
     "text": [
      "tune_feature_fraction, val_score: 0.588595:  43%|####2     | 3/7 [01:26<01:58, 29.66s/it][I 2020-03-24 16:14:53,455] Finished trial#2 resulted in value: 0.5892420603757081. Current best value is 0.5885950056315725 with parameters: {'feature_fraction': 0.5}.\n",
      "tune_feature_fraction, val_score: 0.588595:  43%|####2     | 3/7 [01:27<01:58, 29.66s/it]"
     ]
    },
    {
     "name": "stdout",
     "output_type": "stream",
     "text": [
      "Training until validation scores don't improve for 100 rounds\n",
      "[100]\ttraining's binary_logloss: 0.595747\tvalid_1's binary_logloss: 0.599981\n",
      "[200]\ttraining's binary_logloss: 0.589739\tvalid_1's binary_logloss: 0.596182\n",
      "[300]\ttraining's binary_logloss: 0.585635\tvalid_1's binary_logloss: 0.594091\n",
      "[400]\ttraining's binary_logloss: 0.582355\tvalid_1's binary_logloss: 0.593008\n",
      "[500]\ttraining's binary_logloss: 0.579355\tvalid_1's binary_logloss: 0.592206\n",
      "[600]\ttraining's binary_logloss: 0.576372\tvalid_1's binary_logloss: 0.591252\n",
      "[700]\ttraining's binary_logloss: 0.573761\tvalid_1's binary_logloss: 0.5907\n",
      "[800]\ttraining's binary_logloss: 0.570977\tvalid_1's binary_logloss: 0.589894\n",
      "[900]\ttraining's binary_logloss: 0.568435\tvalid_1's binary_logloss: 0.58932\n",
      "[1000]\ttraining's binary_logloss: 0.565734\tvalid_1's binary_logloss: 0.588698\n",
      "Did not meet early stopping. Best iteration is:\n",
      "[1000]\ttraining's binary_logloss: 0.565734\tvalid_1's binary_logloss: 0.588698\n"
     ]
    },
    {
     "name": "stderr",
     "output_type": "stream",
     "text": [
      "tune_feature_fraction, val_score: 0.588595:  57%|#####7    | 4/7 [01:55<01:27, 29.32s/it][I 2020-03-24 16:15:21,703] Finished trial#3 resulted in value: 0.5886982051094835. Current best value is 0.5885950056315725 with parameters: {'feature_fraction': 0.5}.\n",
      "tune_feature_fraction, val_score: 0.588595:  57%|#####7    | 4/7 [01:55<01:27, 29.32s/it]"
     ]
    },
    {
     "name": "stdout",
     "output_type": "stream",
     "text": [
      "Training until validation scores don't improve for 100 rounds\n",
      "[100]\ttraining's binary_logloss: 0.595463\tvalid_1's binary_logloss: 0.599859\n",
      "[200]\ttraining's binary_logloss: 0.589537\tvalid_1's binary_logloss: 0.596104\n",
      "[300]\ttraining's binary_logloss: 0.585787\tvalid_1's binary_logloss: 0.594598\n",
      "[400]\ttraining's binary_logloss: 0.582212\tvalid_1's binary_logloss: 0.593267\n",
      "[500]\ttraining's binary_logloss: 0.578888\tvalid_1's binary_logloss: 0.592084\n",
      "[600]\ttraining's binary_logloss: 0.575978\tvalid_1's binary_logloss: 0.591253\n",
      "[700]\ttraining's binary_logloss: 0.57327\tvalid_1's binary_logloss: 0.590539\n",
      "[800]\ttraining's binary_logloss: 0.570615\tvalid_1's binary_logloss: 0.590033\n",
      "[900]\ttraining's binary_logloss: 0.568099\tvalid_1's binary_logloss: 0.589588\n",
      "[1000]\ttraining's binary_logloss: 0.565463\tvalid_1's binary_logloss: 0.588938\n",
      "Did not meet early stopping. Best iteration is:\n",
      "[1000]\ttraining's binary_logloss: 0.565463\tvalid_1's binary_logloss: 0.588938\n"
     ]
    },
    {
     "name": "stderr",
     "output_type": "stream",
     "text": [
      "tune_feature_fraction, val_score: 0.588595:  71%|#######1  | 5/7 [02:32<01:03, 31.81s/it][I 2020-03-24 16:15:59,362] Finished trial#4 resulted in value: 0.5889381908613073. Current best value is 0.5885950056315725 with parameters: {'feature_fraction': 0.5}.\n",
      "tune_feature_fraction, val_score: 0.588595:  71%|#######1  | 5/7 [02:32<01:03, 31.81s/it]"
     ]
    },
    {
     "name": "stdout",
     "output_type": "stream",
     "text": [
      "Training until validation scores don't improve for 100 rounds\n",
      "[100]\ttraining's binary_logloss: 0.595139\tvalid_1's binary_logloss: 0.599565\n",
      "[200]\ttraining's binary_logloss: 0.589291\tvalid_1's binary_logloss: 0.596032\n",
      "[300]\ttraining's binary_logloss: 0.585121\tvalid_1's binary_logloss: 0.594007\n",
      "[400]\ttraining's binary_logloss: 0.581684\tvalid_1's binary_logloss: 0.592814\n",
      "[500]\ttraining's binary_logloss: 0.578453\tvalid_1's binary_logloss: 0.591776\n",
      "[600]\ttraining's binary_logloss: 0.575575\tvalid_1's binary_logloss: 0.591088\n",
      "[700]\ttraining's binary_logloss: 0.572804\tvalid_1's binary_logloss: 0.590532\n",
      "[800]\ttraining's binary_logloss: 0.570165\tvalid_1's binary_logloss: 0.59006\n",
      "[900]\ttraining's binary_logloss: 0.56738\tvalid_1's binary_logloss: 0.589368\n",
      "[1000]\ttraining's binary_logloss: 0.564687\tvalid_1's binary_logloss: 0.588646\n",
      "Did not meet early stopping. Best iteration is:\n",
      "[1000]\ttraining's binary_logloss: 0.564687\tvalid_1's binary_logloss: 0.588646\n"
     ]
    },
    {
     "name": "stderr",
     "output_type": "stream",
     "text": [
      "tune_feature_fraction, val_score: 0.588595:  86%|########5 | 6/7 [03:03<00:31, 31.52s/it][I 2020-03-24 16:16:30,187] Finished trial#5 resulted in value: 0.5886457453882199. Current best value is 0.5885950056315725 with parameters: {'feature_fraction': 0.5}.\n",
      "tune_feature_fraction, val_score: 0.588595:  86%|########5 | 6/7 [03:03<00:31, 31.52s/it]"
     ]
    },
    {
     "name": "stdout",
     "output_type": "stream",
     "text": [
      "Training until validation scores don't improve for 100 rounds\n",
      "[100]\ttraining's binary_logloss: 0.595117\tvalid_1's binary_logloss: 0.599697\n",
      "[200]\ttraining's binary_logloss: 0.589465\tvalid_1's binary_logloss: 0.596247\n",
      "[300]\ttraining's binary_logloss: 0.585372\tvalid_1's binary_logloss: 0.594446\n",
      "[400]\ttraining's binary_logloss: 0.581735\tvalid_1's binary_logloss: 0.592935\n",
      "[500]\ttraining's binary_logloss: 0.578504\tvalid_1's binary_logloss: 0.591818\n",
      "[600]\ttraining's binary_logloss: 0.575332\tvalid_1's binary_logloss: 0.590916\n",
      "[700]\ttraining's binary_logloss: 0.572515\tvalid_1's binary_logloss: 0.590334\n",
      "[800]\ttraining's binary_logloss: 0.569544\tvalid_1's binary_logloss: 0.58948\n",
      "[900]\ttraining's binary_logloss: 0.56691\tvalid_1's binary_logloss: 0.589033\n",
      "[1000]\ttraining's binary_logloss: 0.564312\tvalid_1's binary_logloss: 0.588648\n",
      "Did not meet early stopping. Best iteration is:\n",
      "[1000]\ttraining's binary_logloss: 0.564312\tvalid_1's binary_logloss: 0.588648\n"
     ]
    },
    {
     "name": "stderr",
     "output_type": "stream",
     "text": [
      "tune_feature_fraction, val_score: 0.588595: 100%|##########| 7/7 [03:35<00:00, 31.55s/it][I 2020-03-24 16:17:01,811] Finished trial#6 resulted in value: 0.5886475810165291. Current best value is 0.5885950056315725 with parameters: {'feature_fraction': 0.5}.\n",
      "tune_feature_fraction, val_score: 0.588595: 100%|##########| 7/7 [03:35<00:00, 30.77s/it]\n",
      "tune_num_leaves, val_score: 0.588595:   0%|          | 0/20 [00:00<?, ?it/s]"
     ]
    },
    {
     "name": "stdout",
     "output_type": "stream",
     "text": [
      "Training until validation scores don't improve for 100 rounds\n",
      "[100]\ttraining's binary_logloss: 0.593452\tvalid_1's binary_logloss: 0.598283\n",
      "[200]\ttraining's binary_logloss: 0.587017\tvalid_1's binary_logloss: 0.594592\n",
      "[300]\ttraining's binary_logloss: 0.582762\tvalid_1's binary_logloss: 0.593055\n",
      "[400]\ttraining's binary_logloss: 0.579053\tvalid_1's binary_logloss: 0.592028\n",
      "[500]\ttraining's binary_logloss: 0.575392\tvalid_1's binary_logloss: 0.591012\n",
      "[600]\ttraining's binary_logloss: 0.572015\tvalid_1's binary_logloss: 0.59011\n",
      "[700]\ttraining's binary_logloss: 0.568735\tvalid_1's binary_logloss: 0.589544\n",
      "[800]\ttraining's binary_logloss: 0.565814\tvalid_1's binary_logloss: 0.589094\n",
      "[900]\ttraining's binary_logloss: 0.56267\tvalid_1's binary_logloss: 0.58852\n",
      "[1000]\ttraining's binary_logloss: 0.559833\tvalid_1's binary_logloss: 0.588073\n",
      "Did not meet early stopping. Best iteration is:\n",
      "[1000]\ttraining's binary_logloss: 0.559833\tvalid_1's binary_logloss: 0.588073\n"
     ]
    },
    {
     "name": "stderr",
     "output_type": "stream",
     "text": [
      "tune_num_leaves, val_score: 0.588073:   5%|5         | 1/20 [00:27<08:35, 27.14s/it][I 2020-03-24 16:17:29,047] Finished trial#0 resulted in value: 0.5880732170476852. Current best value is 0.5880732170476852 with parameters: {'num_leaves': 42}.\n",
      "tune_num_leaves, val_score: 0.588073:   5%|5         | 1/20 [00:27<08:35, 27.14s/it]"
     ]
    },
    {
     "name": "stdout",
     "output_type": "stream",
     "text": [
      "Training until validation scores don't improve for 100 rounds\n",
      "[100]\ttraining's binary_logloss: 0.584794\tvalid_1's binary_logloss: 0.593457\n",
      "[200]\ttraining's binary_logloss: 0.575278\tvalid_1's binary_logloss: 0.590642\n",
      "[300]\ttraining's binary_logloss: 0.567975\tvalid_1's binary_logloss: 0.589457\n",
      "[400]\ttraining's binary_logloss: 0.561133\tvalid_1's binary_logloss: 0.588672\n",
      "[500]\ttraining's binary_logloss: 0.554316\tvalid_1's binary_logloss: 0.588048\n",
      "[600]\ttraining's binary_logloss: 0.548151\tvalid_1's binary_logloss: 0.587472\n",
      "[700]\ttraining's binary_logloss: 0.541987\tvalid_1's binary_logloss: 0.586875\n",
      "[800]\ttraining's binary_logloss: 0.536077\tvalid_1's binary_logloss: 0.586389\n",
      "[900]\ttraining's binary_logloss: 0.530323\tvalid_1's binary_logloss: 0.585892\n",
      "[1000]\ttraining's binary_logloss: 0.524881\tvalid_1's binary_logloss: 0.585645\n",
      "Did not meet early stopping. Best iteration is:\n",
      "[1000]\ttraining's binary_logloss: 0.524881\tvalid_1's binary_logloss: 0.585645\n"
     ]
    },
    {
     "name": "stderr",
     "output_type": "stream",
     "text": [
      "tune_num_leaves, val_score: 0.585645:  10%|#         | 2/20 [00:59<08:35, 28.66s/it][I 2020-03-24 16:18:01,250] Finished trial#1 resulted in value: 0.5856449580316075. Current best value is 0.5856449580316075 with parameters: {'num_leaves': 99}.\n",
      "tune_num_leaves, val_score: 0.585645:  10%|#         | 2/20 [00:59<08:35, 28.66s/it]"
     ]
    },
    {
     "name": "stdout",
     "output_type": "stream",
     "text": [
      "Training until validation scores don't improve for 100 rounds\n",
      "[100]\ttraining's binary_logloss: 0.582458\tvalid_1's binary_logloss: 0.592671\n",
      "[200]\ttraining's binary_logloss: 0.57207\tvalid_1's binary_logloss: 0.590122\n",
      "[300]\ttraining's binary_logloss: 0.563351\tvalid_1's binary_logloss: 0.588692\n",
      "[400]\ttraining's binary_logloss: 0.555048\tvalid_1's binary_logloss: 0.58783\n",
      "[500]\ttraining's binary_logloss: 0.547501\tvalid_1's binary_logloss: 0.58744\n",
      "[600]\ttraining's binary_logloss: 0.540192\tvalid_1's binary_logloss: 0.586819\n",
      "[700]\ttraining's binary_logloss: 0.53306\tvalid_1's binary_logloss: 0.58642\n",
      "[800]\ttraining's binary_logloss: 0.52656\tvalid_1's binary_logloss: 0.586164\n",
      "[900]\ttraining's binary_logloss: 0.519965\tvalid_1's binary_logloss: 0.585881\n",
      "[1000]\ttraining's binary_logloss: 0.513864\tvalid_1's binary_logloss: 0.585925\n",
      "Did not meet early stopping. Best iteration is:\n",
      "[1000]\ttraining's binary_logloss: 0.513864\tvalid_1's binary_logloss: 0.585925\n"
     ]
    },
    {
     "name": "stderr",
     "output_type": "stream",
     "text": [
      "tune_num_leaves, val_score: 0.585645:  15%|#5        | 3/20 [01:33<08:34, 30.27s/it][I 2020-03-24 16:18:35,298] Finished trial#2 resulted in value: 0.5859249139377708. Current best value is 0.5856449580316075 with parameters: {'num_leaves': 99}.\n",
      "tune_num_leaves, val_score: 0.585645:  15%|#5        | 3/20 [01:33<08:34, 30.27s/it]"
     ]
    },
    {
     "name": "stdout",
     "output_type": "stream",
     "text": [
      "Training until validation scores don't improve for 100 rounds\n",
      "[100]\ttraining's binary_logloss: 0.604724\tvalid_1's binary_logloss: 0.607436\n",
      "[200]\ttraining's binary_logloss: 0.599418\tvalid_1's binary_logloss: 0.602871\n",
      "[300]\ttraining's binary_logloss: 0.596838\tvalid_1's binary_logloss: 0.60095\n",
      "[400]\ttraining's binary_logloss: 0.594744\tvalid_1's binary_logloss: 0.599447\n",
      "[500]\ttraining's binary_logloss: 0.593095\tvalid_1's binary_logloss: 0.598413\n",
      "[600]\ttraining's binary_logloss: 0.591463\tvalid_1's binary_logloss: 0.597352\n",
      "[700]\ttraining's binary_logloss: 0.590096\tvalid_1's binary_logloss: 0.59664\n",
      "[800]\ttraining's binary_logloss: 0.588686\tvalid_1's binary_logloss: 0.59576\n",
      "[900]\ttraining's binary_logloss: 0.587483\tvalid_1's binary_logloss: 0.595105\n",
      "[1000]\ttraining's binary_logloss: 0.586186\tvalid_1's binary_logloss: 0.594378\n",
      "Did not meet early stopping. Best iteration is:\n",
      "[1000]\ttraining's binary_logloss: 0.586186\tvalid_1's binary_logloss: 0.594378\n"
     ]
    },
    {
     "name": "stderr",
     "output_type": "stream",
     "text": [
      "tune_num_leaves, val_score: 0.585645:  20%|##        | 4/20 [01:56<07:31, 28.24s/it][I 2020-03-24 16:18:58,817] Finished trial#3 resulted in value: 0.5943776257025855. Current best value is 0.5856449580316075 with parameters: {'num_leaves': 99}.\n",
      "tune_num_leaves, val_score: 0.585645:  20%|##        | 4/20 [01:56<07:31, 28.24s/it]"
     ]
    },
    {
     "name": "stdout",
     "output_type": "stream",
     "text": [
      "Training until validation scores don't improve for 100 rounds\n",
      "[100]\ttraining's binary_logloss: 0.577306\tvalid_1's binary_logloss: 0.591036\n",
      "[200]\ttraining's binary_logloss: 0.56409\tvalid_1's binary_logloss: 0.58878\n",
      "[300]\ttraining's binary_logloss: 0.552936\tvalid_1's binary_logloss: 0.587617\n",
      "[400]\ttraining's binary_logloss: 0.542776\tvalid_1's binary_logloss: 0.587292\n",
      "[500]\ttraining's binary_logloss: 0.532574\tvalid_1's binary_logloss: 0.586612\n",
      "[600]\ttraining's binary_logloss: 0.523552\tvalid_1's binary_logloss: 0.586526\n",
      "[700]\ttraining's binary_logloss: 0.514732\tvalid_1's binary_logloss: 0.586285\n",
      "[800]\ttraining's binary_logloss: 0.506157\tvalid_1's binary_logloss: 0.586086\n",
      "[900]\ttraining's binary_logloss: 0.497844\tvalid_1's binary_logloss: 0.585759\n",
      "[1000]\ttraining's binary_logloss: 0.489494\tvalid_1's binary_logloss: 0.58562\n",
      "Did not meet early stopping. Best iteration is:\n",
      "[1000]\ttraining's binary_logloss: 0.489494\tvalid_1's binary_logloss: 0.58562\n"
     ]
    },
    {
     "name": "stderr",
     "output_type": "stream",
     "text": [
      "tune_num_leaves, val_score: 0.585620:  25%|##5       | 5/20 [02:33<07:40, 30.71s/it][I 2020-03-24 16:19:35,285] Finished trial#4 resulted in value: 0.5856195046804343. Current best value is 0.5856195046804343 with parameters: {'num_leaves': 170}.\n",
      "tune_num_leaves, val_score: 0.585620:  25%|##5       | 5/20 [02:33<07:40, 30.71s/it]"
     ]
    },
    {
     "name": "stdout",
     "output_type": "stream",
     "text": [
      "Training until validation scores don't improve for 100 rounds\n",
      "[100]\ttraining's binary_logloss: 0.59341\tvalid_1's binary_logloss: 0.5984\n",
      "[200]\ttraining's binary_logloss: 0.586751\tvalid_1's binary_logloss: 0.594596\n",
      "[300]\ttraining's binary_logloss: 0.582439\tvalid_1's binary_logloss: 0.592988\n",
      "[400]\ttraining's binary_logloss: 0.578646\tvalid_1's binary_logloss: 0.591843\n",
      "[500]\ttraining's binary_logloss: 0.574846\tvalid_1's binary_logloss: 0.590783\n",
      "[600]\ttraining's binary_logloss: 0.571559\tvalid_1's binary_logloss: 0.590136\n",
      "[700]\ttraining's binary_logloss: 0.568177\tvalid_1's binary_logloss: 0.589303\n",
      "[800]\ttraining's binary_logloss: 0.564959\tvalid_1's binary_logloss: 0.588684\n",
      "[900]\ttraining's binary_logloss: 0.561818\tvalid_1's binary_logloss: 0.588109\n",
      "[1000]\ttraining's binary_logloss: 0.558764\tvalid_1's binary_logloss: 0.58785\n",
      "Did not meet early stopping. Best iteration is:\n",
      "[1000]\ttraining's binary_logloss: 0.558764\tvalid_1's binary_logloss: 0.58785\n"
     ]
    },
    {
     "name": "stderr",
     "output_type": "stream",
     "text": [
      "tune_num_leaves, val_score: 0.585620:  30%|###       | 6/20 [03:01<06:59, 30.00s/it][I 2020-03-24 16:20:03,643] Finished trial#5 resulted in value: 0.5878499471417616. Current best value is 0.5856195046804343 with parameters: {'num_leaves': 170}.\n",
      "tune_num_leaves, val_score: 0.585620:  30%|###       | 6/20 [03:01<06:59, 30.00s/it]"
     ]
    },
    {
     "name": "stdout",
     "output_type": "stream",
     "text": [
      "Training until validation scores don't improve for 100 rounds\n",
      "[100]\ttraining's binary_logloss: 0.572669\tvalid_1's binary_logloss: 0.590507\n",
      "[200]\ttraining's binary_logloss: 0.556711\tvalid_1's binary_logloss: 0.588156\n",
      "[300]\ttraining's binary_logloss: 0.543252\tvalid_1's binary_logloss: 0.587256\n",
      "[400]\ttraining's binary_logloss: 0.530288\tvalid_1's binary_logloss: 0.586574\n",
      "[500]\ttraining's binary_logloss: 0.518506\tvalid_1's binary_logloss: 0.586132\n",
      "[600]\ttraining's binary_logloss: 0.506949\tvalid_1's binary_logloss: 0.58569\n",
      "[700]\ttraining's binary_logloss: 0.496348\tvalid_1's binary_logloss: 0.58571\n",
      "Early stopping, best iteration is:\n",
      "[615]\ttraining's binary_logloss: 0.50526\tvalid_1's binary_logloss: 0.585609\n"
     ]
    },
    {
     "name": "stderr",
     "output_type": "stream",
     "text": [
      "tune_num_leaves, val_score: 0.585609:  35%|###5      | 7/20 [03:33<06:35, 30.46s/it][I 2020-03-24 16:20:35,129] Finished trial#6 resulted in value: 0.5856090907324139. Current best value is 0.5856090907324139 with parameters: {'num_leaves': 223}.\n",
      "tune_num_leaves, val_score: 0.585609:  35%|###5      | 7/20 [03:33<06:35, 30.46s/it]"
     ]
    },
    {
     "name": "stdout",
     "output_type": "stream",
     "text": [
      "Training until validation scores don't improve for 100 rounds\n",
      "[100]\ttraining's binary_logloss: 0.575724\tvalid_1's binary_logloss: 0.59059\n",
      "[200]\ttraining's binary_logloss: 0.5616\tvalid_1's binary_logloss: 0.588395\n",
      "[300]\ttraining's binary_logloss: 0.549944\tvalid_1's binary_logloss: 0.58752\n",
      "[400]\ttraining's binary_logloss: 0.538846\tvalid_1's binary_logloss: 0.586831\n",
      "[500]\ttraining's binary_logloss: 0.528354\tvalid_1's binary_logloss: 0.586579\n",
      "[600]\ttraining's binary_logloss: 0.518793\tvalid_1's binary_logloss: 0.586445\n",
      "[700]\ttraining's binary_logloss: 0.509399\tvalid_1's binary_logloss: 0.586259\n",
      "[800]\ttraining's binary_logloss: 0.499835\tvalid_1's binary_logloss: 0.585672\n",
      "[900]\ttraining's binary_logloss: 0.491106\tvalid_1's binary_logloss: 0.58562\n",
      "[1000]\ttraining's binary_logloss: 0.482364\tvalid_1's binary_logloss: 0.585551\n",
      "Did not meet early stopping. Best iteration is:\n",
      "[1000]\ttraining's binary_logloss: 0.482364\tvalid_1's binary_logloss: 0.585551\n"
     ]
    },
    {
     "name": "stderr",
     "output_type": "stream",
     "text": [
      "tune_num_leaves, val_score: 0.585551:  40%|####      | 8/20 [04:11<06:33, 32.75s/it][I 2020-03-24 16:21:13,266] Finished trial#7 resulted in value: 0.5855508537824093. Current best value is 0.5855508537824093 with parameters: {'num_leaves': 185}.\n",
      "tune_num_leaves, val_score: 0.585551:  40%|####      | 8/20 [04:11<06:33, 32.75s/it]"
     ]
    },
    {
     "name": "stdout",
     "output_type": "stream",
     "text": [
      "Training until validation scores don't improve for 100 rounds\n",
      "[100]\ttraining's binary_logloss: 0.57126\tvalid_1's binary_logloss: 0.589979\n",
      "[200]\ttraining's binary_logloss: 0.55424\tvalid_1's binary_logloss: 0.587899\n",
      "[300]\ttraining's binary_logloss: 0.540288\tvalid_1's binary_logloss: 0.586952\n",
      "[400]\ttraining's binary_logloss: 0.527358\tvalid_1's binary_logloss: 0.586576\n",
      "[500]\ttraining's binary_logloss: 0.514603\tvalid_1's binary_logloss: 0.586209\n",
      "[600]\ttraining's binary_logloss: 0.502813\tvalid_1's binary_logloss: 0.585927\n",
      "[700]\ttraining's binary_logloss: 0.491034\tvalid_1's binary_logloss: 0.585939\n",
      "Early stopping, best iteration is:\n",
      "[604]\ttraining's binary_logloss: 0.50236\tvalid_1's binary_logloss: 0.585877\n"
     ]
    },
    {
     "name": "stderr",
     "output_type": "stream",
     "text": [
      "tune_num_leaves, val_score: 0.585551:  45%|####5     | 9/20 [04:42<05:54, 32.27s/it][I 2020-03-24 16:21:44,447] Finished trial#8 resulted in value: 0.5858770420842807. Current best value is 0.5855508537824093 with parameters: {'num_leaves': 185}.\n",
      "tune_num_leaves, val_score: 0.585551:  45%|####5     | 9/20 [04:42<05:54, 32.27s/it]"
     ]
    },
    {
     "name": "stdout",
     "output_type": "stream",
     "text": [
      "Training until validation scores don't improve for 100 rounds\n",
      "[100]\ttraining's binary_logloss: 0.592588\tvalid_1's binary_logloss: 0.597686\n",
      "[200]\ttraining's binary_logloss: 0.586034\tvalid_1's binary_logloss: 0.594211\n",
      "[300]\ttraining's binary_logloss: 0.581417\tvalid_1's binary_logloss: 0.592427\n",
      "[400]\ttraining's binary_logloss: 0.576973\tvalid_1's binary_logloss: 0.590938\n",
      "[500]\ttraining's binary_logloss: 0.57308\tvalid_1's binary_logloss: 0.590012\n",
      "[600]\ttraining's binary_logloss: 0.569452\tvalid_1's binary_logloss: 0.589343\n",
      "[700]\ttraining's binary_logloss: 0.566\tvalid_1's binary_logloss: 0.588789\n",
      "[800]\ttraining's binary_logloss: 0.562799\tvalid_1's binary_logloss: 0.588301\n",
      "[900]\ttraining's binary_logloss: 0.559699\tvalid_1's binary_logloss: 0.588039\n",
      "[1000]\ttraining's binary_logloss: 0.556629\tvalid_1's binary_logloss: 0.587701\n",
      "Did not meet early stopping. Best iteration is:\n",
      "[1000]\ttraining's binary_logloss: 0.556629\tvalid_1's binary_logloss: 0.587701\n"
     ]
    },
    {
     "name": "stderr",
     "output_type": "stream",
     "text": [
      "tune_num_leaves, val_score: 0.585551:  50%|#####     | 10/20 [05:10<05:08, 30.88s/it][I 2020-03-24 16:22:12,029] Finished trial#9 resulted in value: 0.5877014282043266. Current best value is 0.5855508537824093 with parameters: {'num_leaves': 185}.\n",
      "tune_num_leaves, val_score: 0.585551:  50%|#####     | 10/20 [05:10<05:08, 30.88s/it]"
     ]
    },
    {
     "name": "stdout",
     "output_type": "stream",
     "text": [
      "Training until validation scores don't improve for 100 rounds\n",
      "[100]\ttraining's binary_logloss: 0.576041\tvalid_1's binary_logloss: 0.590854\n",
      "[200]\ttraining's binary_logloss: 0.5624\tvalid_1's binary_logloss: 0.588909\n",
      "[300]\ttraining's binary_logloss: 0.550696\tvalid_1's binary_logloss: 0.587693\n",
      "[400]\ttraining's binary_logloss: 0.539243\tvalid_1's binary_logloss: 0.586898\n",
      "[500]\ttraining's binary_logloss: 0.529118\tvalid_1's binary_logloss: 0.586505\n",
      "[600]\ttraining's binary_logloss: 0.518767\tvalid_1's binary_logloss: 0.58579\n",
      "[700]\ttraining's binary_logloss: 0.509199\tvalid_1's binary_logloss: 0.58551\n",
      "[800]\ttraining's binary_logloss: 0.500539\tvalid_1's binary_logloss: 0.585392\n",
      "[900]\ttraining's binary_logloss: 0.491913\tvalid_1's binary_logloss: 0.585409\n",
      "Early stopping, best iteration is:\n",
      "[844]\ttraining's binary_logloss: 0.496735\tvalid_1's binary_logloss: 0.585311\n"
     ]
    },
    {
     "name": "stderr",
     "output_type": "stream",
     "text": [
      "tune_num_leaves, val_score: 0.585311:  55%|#####5    | 11/20 [05:45<04:50, 32.28s/it][I 2020-03-24 16:22:47,604] Finished trial#10 resulted in value: 0.5853111303310834. Current best value is 0.5853111303310834 with parameters: {'num_leaves': 183}.\n",
      "tune_num_leaves, val_score: 0.585311:  55%|#####5    | 11/20 [05:45<04:50, 32.28s/it]"
     ]
    },
    {
     "name": "stdout",
     "output_type": "stream",
     "text": [
      "Training until validation scores don't improve for 100 rounds\n",
      "[100]\ttraining's binary_logloss: 0.576159\tvalid_1's binary_logloss: 0.590722\n",
      "[200]\ttraining's binary_logloss: 0.562254\tvalid_1's binary_logloss: 0.588558\n",
      "[300]\ttraining's binary_logloss: 0.550636\tvalid_1's binary_logloss: 0.587615\n",
      "[400]\ttraining's binary_logloss: 0.540422\tvalid_1's binary_logloss: 0.587161\n",
      "[500]\ttraining's binary_logloss: 0.529808\tvalid_1's binary_logloss: 0.586816\n",
      "[600]\ttraining's binary_logloss: 0.519772\tvalid_1's binary_logloss: 0.586314\n",
      "[700]\ttraining's binary_logloss: 0.510338\tvalid_1's binary_logloss: 0.586067\n",
      "[800]\ttraining's binary_logloss: 0.500981\tvalid_1's binary_logloss: 0.585864\n",
      "[900]\ttraining's binary_logloss: 0.49228\tvalid_1's binary_logloss: 0.585731\n",
      "Early stopping, best iteration is:\n",
      "[864]\ttraining's binary_logloss: 0.495208\tvalid_1's binary_logloss: 0.585688\n"
     ]
    },
    {
     "name": "stderr",
     "output_type": "stream",
     "text": [
      "tune_num_leaves, val_score: 0.585311:  60%|######    | 12/20 [06:22<04:29, 33.71s/it][I 2020-03-24 16:23:24,656] Finished trial#11 resulted in value: 0.5856883642080204. Current best value is 0.5853111303310834 with parameters: {'num_leaves': 183}.\n",
      "tune_num_leaves, val_score: 0.585311:  60%|######    | 12/20 [06:22<04:29, 33.71s/it]"
     ]
    },
    {
     "name": "stdout",
     "output_type": "stream",
     "text": [
      "Training until validation scores don't improve for 100 rounds\n",
      "[100]\ttraining's binary_logloss: 0.576995\tvalid_1's binary_logloss: 0.591053\n",
      "[200]\ttraining's binary_logloss: 0.563149\tvalid_1's binary_logloss: 0.588329\n",
      "[300]\ttraining's binary_logloss: 0.551852\tvalid_1's binary_logloss: 0.587237\n",
      "[400]\ttraining's binary_logloss: 0.541955\tvalid_1's binary_logloss: 0.586729\n",
      "[500]\ttraining's binary_logloss: 0.53224\tvalid_1's binary_logloss: 0.586523\n",
      "[600]\ttraining's binary_logloss: 0.522279\tvalid_1's binary_logloss: 0.586012\n",
      "[700]\ttraining's binary_logloss: 0.51294\tvalid_1's binary_logloss: 0.585907\n",
      "[800]\ttraining's binary_logloss: 0.504381\tvalid_1's binary_logloss: 0.585705\n",
      "[900]\ttraining's binary_logloss: 0.495904\tvalid_1's binary_logloss: 0.585501\n",
      "[1000]\ttraining's binary_logloss: 0.487813\tvalid_1's binary_logloss: 0.585588\n",
      "Did not meet early stopping. Best iteration is:\n",
      "[1000]\ttraining's binary_logloss: 0.487813\tvalid_1's binary_logloss: 0.585588\n"
     ]
    },
    {
     "name": "stderr",
     "output_type": "stream",
     "text": [
      "tune_num_leaves, val_score: 0.585311:  65%|######5   | 13/20 [07:01<04:05, 35.14s/it][I 2020-03-24 16:24:03,155] Finished trial#12 resulted in value: 0.5855884252121926. Current best value is 0.5853111303310834 with parameters: {'num_leaves': 183}.\n",
      "tune_num_leaves, val_score: 0.585311:  65%|######5   | 13/20 [07:01<04:05, 35.14s/it]"
     ]
    },
    {
     "name": "stdout",
     "output_type": "stream",
     "text": [
      "Training until validation scores don't improve for 100 rounds\n",
      "[100]\ttraining's binary_logloss: 0.574785\tvalid_1's binary_logloss: 0.590923\n",
      "[200]\ttraining's binary_logloss: 0.559583\tvalid_1's binary_logloss: 0.588476\n",
      "[300]\ttraining's binary_logloss: 0.547145\tvalid_1's binary_logloss: 0.587454\n",
      "[400]\ttraining's binary_logloss: 0.535533\tvalid_1's binary_logloss: 0.587016\n",
      "[500]\ttraining's binary_logloss: 0.524255\tvalid_1's binary_logloss: 0.586703\n",
      "[600]\ttraining's binary_logloss: 0.513572\tvalid_1's binary_logloss: 0.586379\n",
      "[700]\ttraining's binary_logloss: 0.503728\tvalid_1's binary_logloss: 0.585955\n",
      "[800]\ttraining's binary_logloss: 0.493935\tvalid_1's binary_logloss: 0.585924\n",
      "Early stopping, best iteration is:\n",
      "[722]\ttraining's binary_logloss: 0.501321\tvalid_1's binary_logloss: 0.585865\n"
     ]
    },
    {
     "name": "stderr",
     "output_type": "stream",
     "text": [
      "tune_num_leaves, val_score: 0.585311:  70%|#######   | 14/20 [07:34<03:26, 34.49s/it][I 2020-03-24 16:24:36,242] Finished trial#13 resulted in value: 0.5858650199365107. Current best value is 0.5853111303310834 with parameters: {'num_leaves': 183}.\n",
      "tune_num_leaves, val_score: 0.585311:  70%|#######   | 14/20 [07:34<03:26, 34.49s/it]"
     ]
    },
    {
     "name": "stdout",
     "output_type": "stream",
     "text": [
      "Training until validation scores don't improve for 100 rounds\n",
      "[100]\ttraining's binary_logloss: 0.570032\tvalid_1's binary_logloss: 0.590033\n",
      "[200]\ttraining's binary_logloss: 0.552428\tvalid_1's binary_logloss: 0.588035\n",
      "[300]\ttraining's binary_logloss: 0.537347\tvalid_1's binary_logloss: 0.58679\n",
      "[400]\ttraining's binary_logloss: 0.523813\tvalid_1's binary_logloss: 0.586608\n",
      "[500]\ttraining's binary_logloss: 0.511067\tvalid_1's binary_logloss: 0.586526\n",
      "Early stopping, best iteration is:\n",
      "[485]\ttraining's binary_logloss: 0.512842\tvalid_1's binary_logloss: 0.586476\n"
     ]
    },
    {
     "name": "stderr",
     "output_type": "stream",
     "text": [
      "tune_num_leaves, val_score: 0.585311:  75%|#######5  | 15/20 [08:01<02:41, 32.32s/it][I 2020-03-24 16:25:03,342] Finished trial#14 resulted in value: 0.5864759733798439. Current best value is 0.5853111303310834 with parameters: {'num_leaves': 183}.\n",
      "tune_num_leaves, val_score: 0.585311:  75%|#######5  | 15/20 [08:01<02:41, 32.32s/it]"
     ]
    },
    {
     "name": "stdout",
     "output_type": "stream",
     "text": [
      "Training until validation scores don't improve for 100 rounds\n",
      "[100]\ttraining's binary_logloss: 0.579818\tvalid_1's binary_logloss: 0.591832\n",
      "[200]\ttraining's binary_logloss: 0.568281\tvalid_1's binary_logloss: 0.5896\n",
      "[300]\ttraining's binary_logloss: 0.558496\tvalid_1's binary_logloss: 0.588433\n",
      "[400]\ttraining's binary_logloss: 0.549452\tvalid_1's binary_logloss: 0.587864\n",
      "[500]\ttraining's binary_logloss: 0.54006\tvalid_1's binary_logloss: 0.587008\n",
      "[600]\ttraining's binary_logloss: 0.531671\tvalid_1's binary_logloss: 0.586627\n",
      "[700]\ttraining's binary_logloss: 0.523262\tvalid_1's binary_logloss: 0.586106\n",
      "[800]\ttraining's binary_logloss: 0.515648\tvalid_1's binary_logloss: 0.585976\n",
      "[900]\ttraining's binary_logloss: 0.50833\tvalid_1's binary_logloss: 0.585783\n",
      "[1000]\ttraining's binary_logloss: 0.501246\tvalid_1's binary_logloss: 0.585776\n",
      "Did not meet early stopping. Best iteration is:\n",
      "[1000]\ttraining's binary_logloss: 0.501246\tvalid_1's binary_logloss: 0.585776\n"
     ]
    },
    {
     "name": "stderr",
     "output_type": "stream",
     "text": [
      "tune_num_leaves, val_score: 0.585311:  80%|########  | 16/20 [08:38<02:15, 33.79s/it][I 2020-03-24 16:25:40,617] Finished trial#15 resulted in value: 0.5857758383997204. Current best value is 0.5853111303310834 with parameters: {'num_leaves': 183}.\n",
      "tune_num_leaves, val_score: 0.585311:  80%|########  | 16/20 [08:38<02:15, 33.79s/it]"
     ]
    },
    {
     "name": "stdout",
     "output_type": "stream",
     "text": [
      "Training until validation scores don't improve for 100 rounds\n",
      "[100]\ttraining's binary_logloss: 0.57307\tvalid_1's binary_logloss: 0.590181\n",
      "[200]\ttraining's binary_logloss: 0.557645\tvalid_1's binary_logloss: 0.588271\n",
      "[300]\ttraining's binary_logloss: 0.544415\tvalid_1's binary_logloss: 0.587542\n",
      "[400]\ttraining's binary_logloss: 0.531986\tvalid_1's binary_logloss: 0.587083\n",
      "[500]\ttraining's binary_logloss: 0.519696\tvalid_1's binary_logloss: 0.586519\n",
      "[600]\ttraining's binary_logloss: 0.508536\tvalid_1's binary_logloss: 0.586466\n",
      "Early stopping, best iteration is:\n",
      "[574]\ttraining's binary_logloss: 0.511245\tvalid_1's binary_logloss: 0.586407\n"
     ]
    },
    {
     "name": "stderr",
     "output_type": "stream",
     "text": [
      "tune_num_leaves, val_score: 0.585311:  85%|########5 | 17/20 [09:08<01:37, 32.57s/it][I 2020-03-24 16:26:10,289] Finished trial#16 resulted in value: 0.5864065419086648. Current best value is 0.5853111303310834 with parameters: {'num_leaves': 183}.\n",
      "tune_num_leaves, val_score: 0.585311:  85%|########5 | 17/20 [09:08<01:37, 32.57s/it]"
     ]
    },
    {
     "name": "stdout",
     "output_type": "stream",
     "text": [
      "Training until validation scores don't improve for 100 rounds\n",
      "[100]\ttraining's binary_logloss: 0.580081\tvalid_1's binary_logloss: 0.591844\n",
      "[200]\ttraining's binary_logloss: 0.568323\tvalid_1's binary_logloss: 0.58912\n",
      "[300]\ttraining's binary_logloss: 0.558737\tvalid_1's binary_logloss: 0.587829\n",
      "[400]\ttraining's binary_logloss: 0.550037\tvalid_1's binary_logloss: 0.587396\n",
      "[500]\ttraining's binary_logloss: 0.541082\tvalid_1's binary_logloss: 0.586604\n",
      "[600]\ttraining's binary_logloss: 0.532735\tvalid_1's binary_logloss: 0.586157\n",
      "[700]\ttraining's binary_logloss: 0.524995\tvalid_1's binary_logloss: 0.585864\n",
      "[800]\ttraining's binary_logloss: 0.517273\tvalid_1's binary_logloss: 0.585455\n",
      "[900]\ttraining's binary_logloss: 0.510272\tvalid_1's binary_logloss: 0.585327\n",
      "[1000]\ttraining's binary_logloss: 0.503216\tvalid_1's binary_logloss: 0.585224\n",
      "Did not meet early stopping. Best iteration is:\n",
      "[1000]\ttraining's binary_logloss: 0.503216\tvalid_1's binary_logloss: 0.585224\n"
     ]
    },
    {
     "name": "stderr",
     "output_type": "stream",
     "text": [
      "tune_num_leaves, val_score: 0.585224:  90%|######### | 18/20 [09:44<01:07, 33.71s/it][I 2020-03-24 16:26:46,729] Finished trial#17 resulted in value: 0.5852243683105083. Current best value is 0.5852243683105083 with parameters: {'num_leaves': 141}.\n",
      "tune_num_leaves, val_score: 0.585224:  90%|######### | 18/20 [09:44<01:07, 33.71s/it]"
     ]
    },
    {
     "name": "stdout",
     "output_type": "stream",
     "text": [
      "Training until validation scores don't improve for 100 rounds\n",
      "[100]\ttraining's binary_logloss: 0.586285\tvalid_1's binary_logloss: 0.594197\n",
      "[200]\ttraining's binary_logloss: 0.577472\tvalid_1's binary_logloss: 0.59121\n",
      "[300]\ttraining's binary_logloss: 0.570496\tvalid_1's binary_logloss: 0.589669\n",
      "[400]\ttraining's binary_logloss: 0.563974\tvalid_1's binary_logloss: 0.588668\n",
      "[500]\ttraining's binary_logloss: 0.557744\tvalid_1's binary_logloss: 0.58771\n",
      "[600]\ttraining's binary_logloss: 0.551795\tvalid_1's binary_logloss: 0.587018\n",
      "[700]\ttraining's binary_logloss: 0.546506\tvalid_1's binary_logloss: 0.586551\n",
      "[800]\ttraining's binary_logloss: 0.541376\tvalid_1's binary_logloss: 0.586314\n",
      "[900]\ttraining's binary_logloss: 0.536212\tvalid_1's binary_logloss: 0.586099\n",
      "[1000]\ttraining's binary_logloss: 0.531344\tvalid_1's binary_logloss: 0.586129\n",
      "Did not meet early stopping. Best iteration is:\n",
      "[1000]\ttraining's binary_logloss: 0.531344\tvalid_1's binary_logloss: 0.586129\n"
     ]
    },
    {
     "name": "stderr",
     "output_type": "stream",
     "text": [
      "tune_num_leaves, val_score: 0.585224:  95%|#########5| 19/20 [10:16<00:33, 33.05s/it][I 2020-03-24 16:27:18,177] Finished trial#18 resulted in value: 0.5861287296898748. Current best value is 0.5852243683105083 with parameters: {'num_leaves': 141}.\n",
      "tune_num_leaves, val_score: 0.585224:  95%|#########5| 19/20 [10:16<00:33, 33.05s/it]"
     ]
    },
    {
     "name": "stdout",
     "output_type": "stream",
     "text": [
      "Training until validation scores don't improve for 100 rounds\n",
      "[100]\ttraining's binary_logloss: 0.57939\tvalid_1's binary_logloss: 0.591778\n",
      "[200]\ttraining's binary_logloss: 0.566955\tvalid_1's binary_logloss: 0.589032\n",
      "[300]\ttraining's binary_logloss: 0.556894\tvalid_1's binary_logloss: 0.587966\n",
      "[400]\ttraining's binary_logloss: 0.547866\tvalid_1's binary_logloss: 0.58727\n",
      "[500]\ttraining's binary_logloss: 0.538509\tvalid_1's binary_logloss: 0.586758\n",
      "[600]\ttraining's binary_logloss: 0.529802\tvalid_1's binary_logloss: 0.586361\n",
      "[700]\ttraining's binary_logloss: 0.521567\tvalid_1's binary_logloss: 0.586112\n",
      "[800]\ttraining's binary_logloss: 0.513913\tvalid_1's binary_logloss: 0.585972\n",
      "[900]\ttraining's binary_logloss: 0.506062\tvalid_1's binary_logloss: 0.585719\n",
      "[1000]\ttraining's binary_logloss: 0.498824\tvalid_1's binary_logloss: 0.585753\n",
      "Did not meet early stopping. Best iteration is:\n",
      "[1000]\ttraining's binary_logloss: 0.498824\tvalid_1's binary_logloss: 0.585753\n"
     ]
    },
    {
     "name": "stderr",
     "output_type": "stream",
     "text": [
      "tune_num_leaves, val_score: 0.585224: 100%|##########| 20/20 [10:52<00:00, 33.92s/it][I 2020-03-24 16:27:54,137] Finished trial#19 resulted in value: 0.5857533373884204. Current best value is 0.5852243683105083 with parameters: {'num_leaves': 141}.\n",
      "tune_num_leaves, val_score: 0.585224: 100%|##########| 20/20 [10:52<00:00, 32.62s/it]\n",
      "tune_bagging_fraction_and_bagging_freq, val_score: 0.585224:   0%|          | 0/10 [00:00<?, ?it/s]"
     ]
    },
    {
     "name": "stdout",
     "output_type": "stream",
     "text": [
      "Training until validation scores don't improve for 100 rounds\n",
      "[100]\ttraining's binary_logloss: 0.580732\tvalid_1's binary_logloss: 0.592596\n",
      "[200]\ttraining's binary_logloss: 0.568381\tvalid_1's binary_logloss: 0.589969\n",
      "[300]\ttraining's binary_logloss: 0.558224\tvalid_1's binary_logloss: 0.58887\n",
      "[400]\ttraining's binary_logloss: 0.548952\tvalid_1's binary_logloss: 0.588377\n",
      "[500]\ttraining's binary_logloss: 0.539971\tvalid_1's binary_logloss: 0.588324\n",
      "[600]\ttraining's binary_logloss: 0.531674\tvalid_1's binary_logloss: 0.588267\n",
      "Early stopping, best iteration is:\n",
      "[589]\ttraining's binary_logloss: 0.532554\tvalid_1's binary_logloss: 0.588204\n"
     ]
    },
    {
     "name": "stderr",
     "output_type": "stream",
     "text": [
      "tune_bagging_fraction_and_bagging_freq, val_score: 0.585224:  10%|#         | 1/10 [00:24<03:42, 24.68s/it][I 2020-03-24 16:28:19,156] Finished trial#0 resulted in value: 0.5882044299652068. Current best value is 0.5882044299652068 with parameters: {'bagging_fraction': 0.6162203429496023, 'bagging_freq': 5}.\n",
      "tune_bagging_fraction_and_bagging_freq, val_score: 0.585224:  10%|#         | 1/10 [00:25<03:42, 24.68s/it]"
     ]
    },
    {
     "name": "stdout",
     "output_type": "stream",
     "text": [
      "Training until validation scores don't improve for 100 rounds\n",
      "[100]\ttraining's binary_logloss: 0.58069\tvalid_1's binary_logloss: 0.592711\n",
      "[200]\ttraining's binary_logloss: 0.568401\tvalid_1's binary_logloss: 0.590007\n",
      "[300]\ttraining's binary_logloss: 0.558135\tvalid_1's binary_logloss: 0.588912\n",
      "[400]\ttraining's binary_logloss: 0.549053\tvalid_1's binary_logloss: 0.588636\n",
      "[500]\ttraining's binary_logloss: 0.540096\tvalid_1's binary_logloss: 0.588314\n",
      "[600]\ttraining's binary_logloss: 0.531416\tvalid_1's binary_logloss: 0.588275\n",
      "[700]\ttraining's binary_logloss: 0.523374\tvalid_1's binary_logloss: 0.588365\n",
      "Early stopping, best iteration is:\n",
      "[615]\ttraining's binary_logloss: 0.530163\tvalid_1's binary_logloss: 0.588134\n"
     ]
    },
    {
     "name": "stderr",
     "output_type": "stream",
     "text": [
      "tune_bagging_fraction_and_bagging_freq, val_score: 0.585224:  20%|##        | 2/10 [00:50<03:21, 25.13s/it][I 2020-03-24 16:28:45,129] Finished trial#1 resulted in value: 0.5881344978290671. Current best value is 0.5881344978290671 with parameters: {'bagging_fraction': 0.6381379194593876, 'bagging_freq': 4}.\n",
      "tune_bagging_fraction_and_bagging_freq, val_score: 0.585224:  20%|##        | 2/10 [00:50<03:21, 25.13s/it]"
     ]
    },
    {
     "name": "stdout",
     "output_type": "stream",
     "text": [
      "Training until validation scores don't improve for 100 rounds\n",
      "[100]\ttraining's binary_logloss: 0.580589\tvalid_1's binary_logloss: 0.592419\n",
      "[200]\ttraining's binary_logloss: 0.56839\tvalid_1's binary_logloss: 0.589933\n",
      "[300]\ttraining's binary_logloss: 0.558225\tvalid_1's binary_logloss: 0.588806\n",
      "[400]\ttraining's binary_logloss: 0.54926\tvalid_1's binary_logloss: 0.588379\n",
      "[500]\ttraining's binary_logloss: 0.540114\tvalid_1's binary_logloss: 0.587702\n",
      "[600]\ttraining's binary_logloss: 0.531573\tvalid_1's binary_logloss: 0.587641\n",
      "[700]\ttraining's binary_logloss: 0.523723\tvalid_1's binary_logloss: 0.58774\n",
      "Early stopping, best iteration is:\n",
      "[646]\ttraining's binary_logloss: 0.527881\tvalid_1's binary_logloss: 0.58753\n"
     ]
    },
    {
     "name": "stderr",
     "output_type": "stream",
     "text": [
      "tune_bagging_fraction_and_bagging_freq, val_score: 0.585224:  30%|###       | 3/10 [01:18<03:00, 25.81s/it][I 2020-03-24 16:29:12,483] Finished trial#2 resulted in value: 0.587530052237015. Current best value is 0.587530052237015 with parameters: {'bagging_fraction': 0.7299441887911593, 'bagging_freq': 5}.\n",
      "tune_bagging_fraction_and_bagging_freq, val_score: 0.585224:  30%|###       | 3/10 [01:18<03:00, 25.81s/it]"
     ]
    },
    {
     "name": "stdout",
     "output_type": "stream",
     "text": [
      "Training until validation scores don't improve for 100 rounds\n",
      "[100]\ttraining's binary_logloss: 0.580754\tvalid_1's binary_logloss: 0.592342\n",
      "[200]\ttraining's binary_logloss: 0.568154\tvalid_1's binary_logloss: 0.58951\n",
      "[300]\ttraining's binary_logloss: 0.557908\tvalid_1's binary_logloss: 0.588367\n",
      "[400]\ttraining's binary_logloss: 0.54874\tvalid_1's binary_logloss: 0.587875\n",
      "[500]\ttraining's binary_logloss: 0.539643\tvalid_1's binary_logloss: 0.587293\n",
      "[600]\ttraining's binary_logloss: 0.531297\tvalid_1's binary_logloss: 0.587149\n",
      "[700]\ttraining's binary_logloss: 0.523364\tvalid_1's binary_logloss: 0.58688\n",
      "Early stopping, best iteration is:\n",
      "[686]\ttraining's binary_logloss: 0.524399\tvalid_1's binary_logloss: 0.586802\n"
     ]
    },
    {
     "name": "stderr",
     "output_type": "stream",
     "text": [
      "tune_bagging_fraction_and_bagging_freq, val_score: 0.585224:  40%|####      | 4/10 [01:48<02:43, 27.17s/it][I 2020-03-24 16:29:42,883] Finished trial#3 resulted in value: 0.5868024881055355. Current best value is 0.5868024881055355 with parameters: {'bagging_fraction': 0.745953690590559, 'bagging_freq': 2}.\n",
      "tune_bagging_fraction_and_bagging_freq, val_score: 0.585224:  40%|####      | 4/10 [01:48<02:43, 27.17s/it]"
     ]
    },
    {
     "name": "stdout",
     "output_type": "stream",
     "text": [
      "Training until validation scores don't improve for 100 rounds\n",
      "[100]\ttraining's binary_logloss: 0.580828\tvalid_1's binary_logloss: 0.592821\n",
      "[200]\ttraining's binary_logloss: 0.568336\tvalid_1's binary_logloss: 0.590109\n",
      "[300]\ttraining's binary_logloss: 0.558094\tvalid_1's binary_logloss: 0.589127\n",
      "[400]\ttraining's binary_logloss: 0.549128\tvalid_1's binary_logloss: 0.589179\n",
      "Early stopping, best iteration is:\n",
      "[354]\ttraining's binary_logloss: 0.553045\tvalid_1's binary_logloss: 0.588981\n"
     ]
    },
    {
     "name": "stderr",
     "output_type": "stream",
     "text": [
      "tune_bagging_fraction_and_bagging_freq, val_score: 0.585224:  50%|#####     | 5/10 [02:06<02:01, 24.24s/it][I 2020-03-24 16:30:00,253] Finished trial#4 resulted in value: 0.5889810382103964. Current best value is 0.5868024881055355 with parameters: {'bagging_fraction': 0.745953690590559, 'bagging_freq': 2}.\n",
      "tune_bagging_fraction_and_bagging_freq, val_score: 0.585224:  50%|#####     | 5/10 [02:06<02:01, 24.24s/it]"
     ]
    },
    {
     "name": "stdout",
     "output_type": "stream",
     "text": [
      "Training until validation scores don't improve for 100 rounds\n",
      "[100]\ttraining's binary_logloss: 0.580862\tvalid_1's binary_logloss: 0.592903\n",
      "[200]\ttraining's binary_logloss: 0.568549\tvalid_1's binary_logloss: 0.589974\n",
      "[300]\ttraining's binary_logloss: 0.558871\tvalid_1's binary_logloss: 0.589153\n",
      "[400]\ttraining's binary_logloss: 0.549716\tvalid_1's binary_logloss: 0.588687\n",
      "[500]\ttraining's binary_logloss: 0.540486\tvalid_1's binary_logloss: 0.587986\n",
      "[600]\ttraining's binary_logloss: 0.53183\tvalid_1's binary_logloss: 0.587758\n",
      "[700]\ttraining's binary_logloss: 0.523935\tvalid_1's binary_logloss: 0.587556\n",
      "Early stopping, best iteration is:\n",
      "[680]\ttraining's binary_logloss: 0.525433\tvalid_1's binary_logloss: 0.587502\n"
     ]
    },
    {
     "name": "stderr",
     "output_type": "stream",
     "text": [
      "tune_bagging_fraction_and_bagging_freq, val_score: 0.585224:  60%|######    | 6/10 [02:35<01:43, 25.75s/it][I 2020-03-24 16:30:29,569] Finished trial#5 resulted in value: 0.5875017355606141. Current best value is 0.5868024881055355 with parameters: {'bagging_fraction': 0.745953690590559, 'bagging_freq': 2}.\n",
      "tune_bagging_fraction_and_bagging_freq, val_score: 0.585224:  60%|######    | 6/10 [02:35<01:43, 25.75s/it]"
     ]
    },
    {
     "name": "stdout",
     "output_type": "stream",
     "text": [
      "Training until validation scores don't improve for 100 rounds\n",
      "[100]\ttraining's binary_logloss: 0.58037\tvalid_1's binary_logloss: 0.592081\n",
      "[200]\ttraining's binary_logloss: 0.568356\tvalid_1's binary_logloss: 0.589244\n",
      "[300]\ttraining's binary_logloss: 0.558077\tvalid_1's binary_logloss: 0.587535\n",
      "[400]\ttraining's binary_logloss: 0.549009\tvalid_1's binary_logloss: 0.587062\n",
      "[500]\ttraining's binary_logloss: 0.540154\tvalid_1's binary_logloss: 0.58647\n",
      "[600]\ttraining's binary_logloss: 0.531782\tvalid_1's binary_logloss: 0.586199\n",
      "[700]\ttraining's binary_logloss: 0.523627\tvalid_1's binary_logloss: 0.585954\n",
      "[800]\ttraining's binary_logloss: 0.515748\tvalid_1's binary_logloss: 0.585676\n",
      "[900]\ttraining's binary_logloss: 0.508189\tvalid_1's binary_logloss: 0.585666\n",
      "Early stopping, best iteration is:\n",
      "[862]\ttraining's binary_logloss: 0.510965\tvalid_1's binary_logloss: 0.585619\n"
     ]
    },
    {
     "name": "stderr",
     "output_type": "stream",
     "text": [
      "tune_bagging_fraction_and_bagging_freq, val_score: 0.585224:  70%|#######   | 7/10 [03:12<01:27, 29.10s/it][I 2020-03-24 16:31:06,481] Finished trial#6 resulted in value: 0.5856188075775101. Current best value is 0.5856188075775101 with parameters: {'bagging_fraction': 0.8865668956587113, 'bagging_freq': 4}.\n",
      "tune_bagging_fraction_and_bagging_freq, val_score: 0.585224:  70%|#######   | 7/10 [03:12<01:27, 29.10s/it]"
     ]
    },
    {
     "name": "stdout",
     "output_type": "stream",
     "text": [
      "Training until validation scores don't improve for 100 rounds\n",
      "[100]\ttraining's binary_logloss: 0.581483\tvalid_1's binary_logloss: 0.593864\n",
      "[200]\ttraining's binary_logloss: 0.568866\tvalid_1's binary_logloss: 0.590943\n",
      "[300]\ttraining's binary_logloss: 0.558563\tvalid_1's binary_logloss: 0.589941\n",
      "Early stopping, best iteration is:\n",
      "[293]\ttraining's binary_logloss: 0.559196\tvalid_1's binary_logloss: 0.589881\n"
     ]
    },
    {
     "name": "stderr",
     "output_type": "stream",
     "text": [
      "tune_bagging_fraction_and_bagging_freq, val_score: 0.585224:  80%|########  | 8/10 [03:26<00:49, 24.65s/it][I 2020-03-24 16:31:20,758] Finished trial#7 resulted in value: 0.5898809691593847. Current best value is 0.5856188075775101 with parameters: {'bagging_fraction': 0.8865668956587113, 'bagging_freq': 4}.\n",
      "tune_bagging_fraction_and_bagging_freq, val_score: 0.585224:  80%|########  | 8/10 [03:26<00:49, 24.65s/it]"
     ]
    },
    {
     "name": "stdout",
     "output_type": "stream",
     "text": [
      "Training until validation scores don't improve for 100 rounds\n",
      "[100]\ttraining's binary_logloss: 0.580648\tvalid_1's binary_logloss: 0.592514\n",
      "[200]\ttraining's binary_logloss: 0.568118\tvalid_1's binary_logloss: 0.589429\n",
      "[300]\ttraining's binary_logloss: 0.558197\tvalid_1's binary_logloss: 0.58841\n",
      "[400]\ttraining's binary_logloss: 0.549371\tvalid_1's binary_logloss: 0.588221\n",
      "[500]\ttraining's binary_logloss: 0.540371\tvalid_1's binary_logloss: 0.587868\n",
      "[600]\ttraining's binary_logloss: 0.53199\tvalid_1's binary_logloss: 0.587598\n",
      "[700]\ttraining's binary_logloss: 0.524029\tvalid_1's binary_logloss: 0.587443\n",
      "[800]\ttraining's binary_logloss: 0.516421\tvalid_1's binary_logloss: 0.587405\n",
      "Early stopping, best iteration is:\n",
      "[753]\ttraining's binary_logloss: 0.519929\tvalid_1's binary_logloss: 0.587337\n"
     ]
    },
    {
     "name": "stderr",
     "output_type": "stream",
     "text": [
      "tune_bagging_fraction_and_bagging_freq, val_score: 0.585224:  90%|######### | 9/10 [04:13<00:31, 31.22s/it][I 2020-03-24 16:32:07,352] Finished trial#8 resulted in value: 0.5873374026588083. Current best value is 0.5856188075775101 with parameters: {'bagging_fraction': 0.8865668956587113, 'bagging_freq': 4}.\n",
      "tune_bagging_fraction_and_bagging_freq, val_score: 0.585224:  90%|######### | 9/10 [04:13<00:31, 31.22s/it]"
     ]
    },
    {
     "name": "stdout",
     "output_type": "stream",
     "text": [
      "Training until validation scores don't improve for 100 rounds\n",
      "[100]\ttraining's binary_logloss: 0.580557\tvalid_1's binary_logloss: 0.592009\n",
      "[200]\ttraining's binary_logloss: 0.568003\tvalid_1's binary_logloss: 0.588974\n",
      "[300]\ttraining's binary_logloss: 0.558185\tvalid_1's binary_logloss: 0.587982\n",
      "[400]\ttraining's binary_logloss: 0.549055\tvalid_1's binary_logloss: 0.587455\n",
      "[500]\ttraining's binary_logloss: 0.540036\tvalid_1's binary_logloss: 0.586902\n",
      "[600]\ttraining's binary_logloss: 0.531435\tvalid_1's binary_logloss: 0.586739\n",
      "[700]\ttraining's binary_logloss: 0.523399\tvalid_1's binary_logloss: 0.586547\n",
      "[800]\ttraining's binary_logloss: 0.515777\tvalid_1's binary_logloss: 0.586519\n",
      "[900]\ttraining's binary_logloss: 0.508286\tvalid_1's binary_logloss: 0.586461\n",
      "[1000]\ttraining's binary_logloss: 0.500903\tvalid_1's binary_logloss: 0.586246\n",
      "Did not meet early stopping. Best iteration is:\n",
      "[1000]\ttraining's binary_logloss: 0.500903\tvalid_1's binary_logloss: 0.586246\n"
     ]
    },
    {
     "name": "stderr",
     "output_type": "stream",
     "text": [
      "tune_bagging_fraction_and_bagging_freq, val_score: 0.585224: 100%|##########| 10/10 [05:07<00:00, 38.34s/it][I 2020-03-24 16:33:02,397] Finished trial#9 resulted in value: 0.5862457258027521. Current best value is 0.5856188075775101 with parameters: {'bagging_fraction': 0.8865668956587113, 'bagging_freq': 4}.\n",
      "tune_bagging_fraction_and_bagging_freq, val_score: 0.585224: 100%|##########| 10/10 [05:08<00:00, 30.83s/it]\n",
      "tune_feature_fraction, val_score: 0.585224:   0%|          | 0/6 [00:00<?, ?it/s]"
     ]
    },
    {
     "name": "stdout",
     "output_type": "stream",
     "text": [
      "Training until validation scores don't improve for 100 rounds\n",
      "[100]\ttraining's binary_logloss: 0.58111\tvalid_1's binary_logloss: 0.592462\n",
      "[200]\ttraining's binary_logloss: 0.569544\tvalid_1's binary_logloss: 0.589678\n",
      "[300]\ttraining's binary_logloss: 0.560088\tvalid_1's binary_logloss: 0.588339\n",
      "[400]\ttraining's binary_logloss: 0.551476\tvalid_1's binary_logloss: 0.587374\n",
      "[500]\ttraining's binary_logloss: 0.542954\tvalid_1's binary_logloss: 0.58674\n",
      "[600]\ttraining's binary_logloss: 0.535094\tvalid_1's binary_logloss: 0.58618\n",
      "[700]\ttraining's binary_logloss: 0.527832\tvalid_1's binary_logloss: 0.586012\n",
      "[800]\ttraining's binary_logloss: 0.520482\tvalid_1's binary_logloss: 0.585697\n",
      "[900]\ttraining's binary_logloss: 0.513724\tvalid_1's binary_logloss: 0.585434\n",
      "[1000]\ttraining's binary_logloss: 0.507319\tvalid_1's binary_logloss: 0.585546\n",
      "Did not meet early stopping. Best iteration is:\n",
      "[1000]\ttraining's binary_logloss: 0.507319\tvalid_1's binary_logloss: 0.585546\n"
     ]
    },
    {
     "name": "stderr",
     "output_type": "stream",
     "text": [
      "tune_feature_fraction, val_score: 0.585224:  17%|#6        | 1/6 [00:34<02:51, 34.34s/it][I 2020-03-24 16:33:36,877] Finished trial#0 resulted in value: 0.5855461825375096. Current best value is 0.5855461825375096 with parameters: {'feature_fraction': 0.42}.\n",
      "tune_feature_fraction, val_score: 0.585224:  17%|#6        | 1/6 [00:34<02:51, 34.34s/it]"
     ]
    },
    {
     "name": "stdout",
     "output_type": "stream",
     "text": [
      "Training until validation scores don't improve for 100 rounds\n",
      "[100]\ttraining's binary_logloss: 0.580993\tvalid_1's binary_logloss: 0.59255\n",
      "[200]\ttraining's binary_logloss: 0.569026\tvalid_1's binary_logloss: 0.58969\n",
      "[300]\ttraining's binary_logloss: 0.559713\tvalid_1's binary_logloss: 0.58873\n",
      "[400]\ttraining's binary_logloss: 0.551135\tvalid_1's binary_logloss: 0.587795\n",
      "[500]\ttraining's binary_logloss: 0.542512\tvalid_1's binary_logloss: 0.587237\n",
      "[600]\ttraining's binary_logloss: 0.53458\tvalid_1's binary_logloss: 0.587056\n",
      "[700]\ttraining's binary_logloss: 0.526601\tvalid_1's binary_logloss: 0.586441\n",
      "[800]\ttraining's binary_logloss: 0.519483\tvalid_1's binary_logloss: 0.586347\n",
      "[900]\ttraining's binary_logloss: 0.512613\tvalid_1's binary_logloss: 0.586142\n",
      "[1000]\ttraining's binary_logloss: 0.505139\tvalid_1's binary_logloss: 0.585914\n",
      "Did not meet early stopping. Best iteration is:\n",
      "[1000]\ttraining's binary_logloss: 0.505139\tvalid_1's binary_logloss: 0.585914\n"
     ]
    },
    {
     "name": "stderr",
     "output_type": "stream",
     "text": [
      "tune_feature_fraction, val_score: 0.585224:  33%|###3      | 2/6 [01:08<02:16, 34.22s/it][I 2020-03-24 16:34:10,948] Finished trial#1 resulted in value: 0.5859135630856414. Current best value is 0.5855461825375096 with parameters: {'feature_fraction': 0.42}.\n",
      "tune_feature_fraction, val_score: 0.585224:  33%|###3      | 2/6 [01:08<02:16, 34.22s/it]"
     ]
    },
    {
     "name": "stdout",
     "output_type": "stream",
     "text": [
      "Training until validation scores don't improve for 100 rounds\n",
      "[100]\ttraining's binary_logloss: 0.580466\tvalid_1's binary_logloss: 0.592195\n",
      "[200]\ttraining's binary_logloss: 0.568292\tvalid_1's binary_logloss: 0.589294\n",
      "[300]\ttraining's binary_logloss: 0.558701\tvalid_1's binary_logloss: 0.588114\n",
      "[400]\ttraining's binary_logloss: 0.549785\tvalid_1's binary_logloss: 0.587297\n",
      "[500]\ttraining's binary_logloss: 0.541192\tvalid_1's binary_logloss: 0.586733\n",
      "[600]\ttraining's binary_logloss: 0.533012\tvalid_1's binary_logloss: 0.586255\n",
      "[700]\ttraining's binary_logloss: 0.525353\tvalid_1's binary_logloss: 0.5861\n",
      "[800]\ttraining's binary_logloss: 0.51795\tvalid_1's binary_logloss: 0.585681\n",
      "[900]\ttraining's binary_logloss: 0.510934\tvalid_1's binary_logloss: 0.585379\n",
      "[1000]\ttraining's binary_logloss: 0.503409\tvalid_1's binary_logloss: 0.585367\n",
      "Did not meet early stopping. Best iteration is:\n",
      "[1000]\ttraining's binary_logloss: 0.503409\tvalid_1's binary_logloss: 0.585367\n"
     ]
    },
    {
     "name": "stderr",
     "output_type": "stream",
     "text": [
      "tune_feature_fraction, val_score: 0.585224:  50%|#####     | 3/6 [01:43<01:43, 34.40s/it][I 2020-03-24 16:34:45,638] Finished trial#2 resulted in value: 0.5853674753641744. Current best value is 0.5853674753641744 with parameters: {'feature_fraction': 0.484}.\n",
      "tune_feature_fraction, val_score: 0.585224:  50%|#####     | 3/6 [01:43<01:43, 34.40s/it]"
     ]
    },
    {
     "name": "stdout",
     "output_type": "stream",
     "text": [
      "Training until validation scores don't improve for 100 rounds\n",
      "[100]\ttraining's binary_logloss: 0.580272\tvalid_1's binary_logloss: 0.592022\n",
      "[200]\ttraining's binary_logloss: 0.568496\tvalid_1's binary_logloss: 0.589534\n",
      "[300]\ttraining's binary_logloss: 0.558515\tvalid_1's binary_logloss: 0.58795\n",
      "[400]\ttraining's binary_logloss: 0.549911\tvalid_1's binary_logloss: 0.587382\n",
      "[500]\ttraining's binary_logloss: 0.541393\tvalid_1's binary_logloss: 0.586823\n",
      "[600]\ttraining's binary_logloss: 0.533066\tvalid_1's binary_logloss: 0.586395\n",
      "[700]\ttraining's binary_logloss: 0.525274\tvalid_1's binary_logloss: 0.586077\n",
      "[800]\ttraining's binary_logloss: 0.517842\tvalid_1's binary_logloss: 0.585828\n",
      "[900]\ttraining's binary_logloss: 0.510719\tvalid_1's binary_logloss: 0.585582\n",
      "Early stopping, best iteration is:\n",
      "[897]\ttraining's binary_logloss: 0.510921\tvalid_1's binary_logloss: 0.585563\n"
     ]
    },
    {
     "name": "stderr",
     "output_type": "stream",
     "text": [
      "tune_feature_fraction, val_score: 0.585224:  67%|######6   | 4/6 [02:17<01:08, 34.42s/it][I 2020-03-24 16:35:20,112] Finished trial#3 resulted in value: 0.5855634683241961. Current best value is 0.5853674753641744 with parameters: {'feature_fraction': 0.484}.\n",
      "tune_feature_fraction, val_score: 0.585224:  67%|######6   | 4/6 [02:17<01:08, 34.42s/it]"
     ]
    },
    {
     "name": "stdout",
     "output_type": "stream",
     "text": [
      "Training until validation scores don't improve for 100 rounds\n",
      "[100]\ttraining's binary_logloss: 0.580339\tvalid_1's binary_logloss: 0.592247\n",
      "[200]\ttraining's binary_logloss: 0.567825\tvalid_1's binary_logloss: 0.588919\n",
      "[300]\ttraining's binary_logloss: 0.558251\tvalid_1's binary_logloss: 0.587813\n",
      "[400]\ttraining's binary_logloss: 0.548935\tvalid_1's binary_logloss: 0.587306\n",
      "[500]\ttraining's binary_logloss: 0.540058\tvalid_1's binary_logloss: 0.586656\n",
      "[600]\ttraining's binary_logloss: 0.531436\tvalid_1's binary_logloss: 0.586177\n",
      "[700]\ttraining's binary_logloss: 0.523658\tvalid_1's binary_logloss: 0.5858\n",
      "[800]\ttraining's binary_logloss: 0.516292\tvalid_1's binary_logloss: 0.585696\n",
      "[900]\ttraining's binary_logloss: 0.508687\tvalid_1's binary_logloss: 0.585502\n",
      "[1000]\ttraining's binary_logloss: 0.501419\tvalid_1's binary_logloss: 0.585369\n",
      "Did not meet early stopping. Best iteration is:\n",
      "[1000]\ttraining's binary_logloss: 0.501419\tvalid_1's binary_logloss: 0.585369\n"
     ]
    },
    {
     "name": "stderr",
     "output_type": "stream",
     "text": [
      "tune_feature_fraction, val_score: 0.585224:  83%|########3 | 5/6 [02:53<00:34, 34.77s/it][I 2020-03-24 16:35:55,892] Finished trial#4 resulted in value: 0.5853685299430464. Current best value is 0.5853674753641744 with parameters: {'feature_fraction': 0.484}.\n",
      "tune_feature_fraction, val_score: 0.585224:  83%|########3 | 5/6 [02:53<00:34, 34.77s/it]"
     ]
    },
    {
     "name": "stdout",
     "output_type": "stream",
     "text": [
      "Training until validation scores don't improve for 100 rounds\n",
      "[100]\ttraining's binary_logloss: 0.580135\tvalid_1's binary_logloss: 0.592112\n",
      "[200]\ttraining's binary_logloss: 0.568439\tvalid_1's binary_logloss: 0.589994\n",
      "[300]\ttraining's binary_logloss: 0.558495\tvalid_1's binary_logloss: 0.588802\n",
      "[400]\ttraining's binary_logloss: 0.549503\tvalid_1's binary_logloss: 0.588278\n",
      "[500]\ttraining's binary_logloss: 0.540608\tvalid_1's binary_logloss: 0.5877\n",
      "[600]\ttraining's binary_logloss: 0.532413\tvalid_1's binary_logloss: 0.5872\n",
      "[700]\ttraining's binary_logloss: 0.524323\tvalid_1's binary_logloss: 0.586902\n",
      "[800]\ttraining's binary_logloss: 0.515915\tvalid_1's binary_logloss: 0.586377\n",
      "[900]\ttraining's binary_logloss: 0.508559\tvalid_1's binary_logloss: 0.586388\n",
      "Early stopping, best iteration is:\n",
      "[826]\ttraining's binary_logloss: 0.513914\tvalid_1's binary_logloss: 0.58629\n"
     ]
    },
    {
     "name": "stderr",
     "output_type": "stream",
     "text": [
      "tune_feature_fraction, val_score: 0.585224: 100%|##########| 6/6 [03:25<00:00, 34.06s/it][I 2020-03-24 16:36:28,206] Finished trial#5 resulted in value: 0.586290449084278. Current best value is 0.5853674753641744 with parameters: {'feature_fraction': 0.484}.\n",
      "tune_feature_fraction, val_score: 0.585224: 100%|##########| 6/6 [03:25<00:00, 34.30s/it]\n",
      "tune_lambda_l1_and_lambda_l2, val_score: 0.585224:   0%|          | 0/20 [00:00<?, ?it/s]"
     ]
    },
    {
     "name": "stdout",
     "output_type": "stream",
     "text": [
      "Training until validation scores don't improve for 100 rounds\n",
      "[100]\ttraining's binary_logloss: 0.580081\tvalid_1's binary_logloss: 0.591844\n",
      "[200]\ttraining's binary_logloss: 0.568323\tvalid_1's binary_logloss: 0.58912\n",
      "[300]\ttraining's binary_logloss: 0.558757\tvalid_1's binary_logloss: 0.587857\n",
      "[400]\ttraining's binary_logloss: 0.549965\tvalid_1's binary_logloss: 0.587317\n",
      "[500]\ttraining's binary_logloss: 0.540866\tvalid_1's binary_logloss: 0.586601\n",
      "[600]\ttraining's binary_logloss: 0.532417\tvalid_1's binary_logloss: 0.58627\n",
      "[700]\ttraining's binary_logloss: 0.524683\tvalid_1's binary_logloss: 0.586084\n",
      "[800]\ttraining's binary_logloss: 0.51748\tvalid_1's binary_logloss: 0.585988\n",
      "[900]\ttraining's binary_logloss: 0.51021\tvalid_1's binary_logloss: 0.58593\n",
      "[1000]\ttraining's binary_logloss: 0.503182\tvalid_1's binary_logloss: 0.585804\n",
      "Did not meet early stopping. Best iteration is:\n",
      "[1000]\ttraining's binary_logloss: 0.503182\tvalid_1's binary_logloss: 0.585804\n"
     ]
    },
    {
     "name": "stderr",
     "output_type": "stream",
     "text": [
      "tune_lambda_l1_and_lambda_l2, val_score: 0.585224:   5%|5         | 1/20 [00:34<10:50, 34.25s/it][I 2020-03-24 16:37:02,581] Finished trial#0 resulted in value: 0.585803589106474. Current best value is 0.585803589106474 with parameters: {'lambda_l1': 1.1117132097823834e-06, 'lambda_l2': 2.0889451443846134e-07}.\n",
      "tune_lambda_l1_and_lambda_l2, val_score: 0.585224:   5%|5         | 1/20 [00:34<10:50, 34.25s/it]"
     ]
    },
    {
     "name": "stdout",
     "output_type": "stream",
     "text": [
      "Training until validation scores don't improve for 100 rounds\n",
      "[100]\ttraining's binary_logloss: 0.580515\tvalid_1's binary_logloss: 0.592301\n",
      "[200]\ttraining's binary_logloss: 0.568824\tvalid_1's binary_logloss: 0.589121\n",
      "[300]\ttraining's binary_logloss: 0.56008\tvalid_1's binary_logloss: 0.588331\n",
      "[400]\ttraining's binary_logloss: 0.551492\tvalid_1's binary_logloss: 0.587583\n",
      "[500]\ttraining's binary_logloss: 0.543323\tvalid_1's binary_logloss: 0.587054\n",
      "[600]\ttraining's binary_logloss: 0.535499\tvalid_1's binary_logloss: 0.586618\n",
      "[700]\ttraining's binary_logloss: 0.527932\tvalid_1's binary_logloss: 0.586204\n",
      "[800]\ttraining's binary_logloss: 0.52078\tvalid_1's binary_logloss: 0.585829\n",
      "[900]\ttraining's binary_logloss: 0.514092\tvalid_1's binary_logloss: 0.585663\n",
      "[1000]\ttraining's binary_logloss: 0.507431\tvalid_1's binary_logloss: 0.585463\n",
      "Did not meet early stopping. Best iteration is:\n",
      "[1000]\ttraining's binary_logloss: 0.507431\tvalid_1's binary_logloss: 0.585463\n"
     ]
    },
    {
     "name": "stderr",
     "output_type": "stream",
     "text": [
      "tune_lambda_l1_and_lambda_l2, val_score: 0.585224:  10%|#         | 2/20 [01:09<10:24, 34.68s/it][I 2020-03-24 16:37:38,249] Finished trial#1 resulted in value: 0.5854633758803294. Current best value is 0.5854633758803294 with parameters: {'lambda_l1': 0.019697682286991074, 'lambda_l2': 1.4924841762439671}.\n",
      "tune_lambda_l1_and_lambda_l2, val_score: 0.585224:  10%|#         | 2/20 [01:10<10:24, 34.68s/it]"
     ]
    },
    {
     "name": "stdout",
     "output_type": "stream",
     "text": [
      "Training until validation scores don't improve for 100 rounds\n",
      "[100]\ttraining's binary_logloss: 0.580381\tvalid_1's binary_logloss: 0.592146\n",
      "[200]\ttraining's binary_logloss: 0.568669\tvalid_1's binary_logloss: 0.589631\n",
      "[300]\ttraining's binary_logloss: 0.558802\tvalid_1's binary_logloss: 0.588078\n",
      "[400]\ttraining's binary_logloss: 0.549992\tvalid_1's binary_logloss: 0.587514\n",
      "[500]\ttraining's binary_logloss: 0.541441\tvalid_1's binary_logloss: 0.586959\n",
      "[600]\ttraining's binary_logloss: 0.533346\tvalid_1's binary_logloss: 0.586655\n",
      "[700]\ttraining's binary_logloss: 0.52544\tvalid_1's binary_logloss: 0.586135\n",
      "[800]\ttraining's binary_logloss: 0.517524\tvalid_1's binary_logloss: 0.585812\n",
      "[900]\ttraining's binary_logloss: 0.510275\tvalid_1's binary_logloss: 0.585598\n",
      "[1000]\ttraining's binary_logloss: 0.503214\tvalid_1's binary_logloss: 0.585715\n",
      "Did not meet early stopping. Best iteration is:\n",
      "[1000]\ttraining's binary_logloss: 0.503214\tvalid_1's binary_logloss: 0.585715\n"
     ]
    },
    {
     "name": "stderr",
     "output_type": "stream",
     "text": [
      "tune_lambda_l1_and_lambda_l2, val_score: 0.585224:  15%|#5        | 3/20 [01:45<09:52, 34.86s/it][I 2020-03-24 16:38:13,522] Finished trial#2 resulted in value: 0.5857149159081511. Current best value is 0.5854633758803294 with parameters: {'lambda_l1': 0.019697682286991074, 'lambda_l2': 1.4924841762439671}.\n",
      "tune_lambda_l1_and_lambda_l2, val_score: 0.585224:  15%|#5        | 3/20 [01:45<09:52, 34.86s/it]"
     ]
    },
    {
     "name": "stdout",
     "output_type": "stream",
     "text": [
      "Training until validation scores don't improve for 100 rounds\n",
      "[100]\ttraining's binary_logloss: 0.580081\tvalid_1's binary_logloss: 0.591844\n",
      "[200]\ttraining's binary_logloss: 0.568323\tvalid_1's binary_logloss: 0.58912\n",
      "[300]\ttraining's binary_logloss: 0.558986\tvalid_1's binary_logloss: 0.588048\n",
      "[400]\ttraining's binary_logloss: 0.549839\tvalid_1's binary_logloss: 0.587356\n",
      "[500]\ttraining's binary_logloss: 0.540824\tvalid_1's binary_logloss: 0.586728\n",
      "[600]\ttraining's binary_logloss: 0.532891\tvalid_1's binary_logloss: 0.58624\n",
      "[700]\ttraining's binary_logloss: 0.524734\tvalid_1's binary_logloss: 0.585911\n",
      "[800]\ttraining's binary_logloss: 0.517539\tvalid_1's binary_logloss: 0.585702\n",
      "[900]\ttraining's binary_logloss: 0.510019\tvalid_1's binary_logloss: 0.585501\n",
      "[1000]\ttraining's binary_logloss: 0.503175\tvalid_1's binary_logloss: 0.585502\n",
      "Did not meet early stopping. Best iteration is:\n",
      "[1000]\ttraining's binary_logloss: 0.503175\tvalid_1's binary_logloss: 0.585502\n"
     ]
    },
    {
     "name": "stderr",
     "output_type": "stream",
     "text": [
      "tune_lambda_l1_and_lambda_l2, val_score: 0.585224:  20%|##        | 4/20 [02:19<09:14, 34.65s/it][I 2020-03-24 16:38:47,671] Finished trial#3 resulted in value: 0.5855017360648508. Current best value is 0.5854633758803294 with parameters: {'lambda_l1': 0.019697682286991074, 'lambda_l2': 1.4924841762439671}.\n",
      "tune_lambda_l1_and_lambda_l2, val_score: 0.585224:  20%|##        | 4/20 [02:19<09:14, 34.65s/it]"
     ]
    },
    {
     "name": "stdout",
     "output_type": "stream",
     "text": [
      "Training until validation scores don't improve for 100 rounds\n",
      "[100]\ttraining's binary_logloss: 0.580344\tvalid_1's binary_logloss: 0.592103\n",
      "[200]\ttraining's binary_logloss: 0.568366\tvalid_1's binary_logloss: 0.589464\n",
      "[300]\ttraining's binary_logloss: 0.558717\tvalid_1's binary_logloss: 0.587974\n",
      "[400]\ttraining's binary_logloss: 0.549532\tvalid_1's binary_logloss: 0.587226\n",
      "[500]\ttraining's binary_logloss: 0.540739\tvalid_1's binary_logloss: 0.586595\n",
      "[600]\ttraining's binary_logloss: 0.532835\tvalid_1's binary_logloss: 0.586315\n",
      "[700]\ttraining's binary_logloss: 0.525109\tvalid_1's binary_logloss: 0.585736\n",
      "[800]\ttraining's binary_logloss: 0.517907\tvalid_1's binary_logloss: 0.585517\n",
      "[900]\ttraining's binary_logloss: 0.510898\tvalid_1's binary_logloss: 0.585359\n",
      "[1000]\ttraining's binary_logloss: 0.503548\tvalid_1's binary_logloss: 0.585182\n",
      "Did not meet early stopping. Best iteration is:\n",
      "[1000]\ttraining's binary_logloss: 0.503548\tvalid_1's binary_logloss: 0.585182\n"
     ]
    },
    {
     "name": "stderr",
     "output_type": "stream",
     "text": [
      "tune_lambda_l1_and_lambda_l2, val_score: 0.585182:  25%|##5       | 5/20 [02:54<08:40, 34.68s/it][I 2020-03-24 16:39:22,420] Finished trial#4 resulted in value: 0.5851819743213111. Current best value is 0.5851819743213111 with parameters: {'lambda_l1': 0.2540497269668173, 'lambda_l2': 1.882115141309923e-06}.\n",
      "tune_lambda_l1_and_lambda_l2, val_score: 0.585182:  25%|##5       | 5/20 [02:54<08:40, 34.68s/it]"
     ]
    },
    {
     "name": "stdout",
     "output_type": "stream",
     "text": [
      "Training until validation scores don't improve for 100 rounds\n",
      "[100]\ttraining's binary_logloss: 0.580177\tvalid_1's binary_logloss: 0.59185\n",
      "[200]\ttraining's binary_logloss: 0.568317\tvalid_1's binary_logloss: 0.589413\n",
      "[300]\ttraining's binary_logloss: 0.558518\tvalid_1's binary_logloss: 0.58806\n",
      "[400]\ttraining's binary_logloss: 0.549612\tvalid_1's binary_logloss: 0.587242\n",
      "[500]\ttraining's binary_logloss: 0.541034\tvalid_1's binary_logloss: 0.586705\n",
      "[600]\ttraining's binary_logloss: 0.532839\tvalid_1's binary_logloss: 0.586084\n",
      "[700]\ttraining's binary_logloss: 0.525062\tvalid_1's binary_logloss: 0.585811\n",
      "[800]\ttraining's binary_logloss: 0.517596\tvalid_1's binary_logloss: 0.585215\n",
      "[900]\ttraining's binary_logloss: 0.510328\tvalid_1's binary_logloss: 0.58502\n",
      "[1000]\ttraining's binary_logloss: 0.503363\tvalid_1's binary_logloss: 0.584827\n",
      "Did not meet early stopping. Best iteration is:\n",
      "[1000]\ttraining's binary_logloss: 0.503363\tvalid_1's binary_logloss: 0.584827\n"
     ]
    },
    {
     "name": "stderr",
     "output_type": "stream",
     "text": [
      "tune_lambda_l1_and_lambda_l2, val_score: 0.584827:  30%|###       | 6/20 [03:28<08:05, 34.65s/it][I 2020-03-24 16:39:57,001] Finished trial#5 resulted in value: 0.5848270321346352. Current best value is 0.5848270321346352 with parameters: {'lambda_l1': 0.0011652697252815055, 'lambda_l2': 0.11499520828268975}.\n",
      "tune_lambda_l1_and_lambda_l2, val_score: 0.584827:  30%|###       | 6/20 [03:28<08:05, 34.65s/it]"
     ]
    },
    {
     "name": "stdout",
     "output_type": "stream",
     "text": [
      "Training until validation scores don't improve for 100 rounds\n",
      "[100]\ttraining's binary_logloss: 0.580257\tvalid_1's binary_logloss: 0.592101\n",
      "[200]\ttraining's binary_logloss: 0.568365\tvalid_1's binary_logloss: 0.589452\n",
      "[300]\ttraining's binary_logloss: 0.559156\tvalid_1's binary_logloss: 0.588609\n",
      "[400]\ttraining's binary_logloss: 0.549983\tvalid_1's binary_logloss: 0.587672\n",
      "[500]\ttraining's binary_logloss: 0.541387\tvalid_1's binary_logloss: 0.58725\n",
      "[600]\ttraining's binary_logloss: 0.532967\tvalid_1's binary_logloss: 0.586641\n",
      "[700]\ttraining's binary_logloss: 0.525258\tvalid_1's binary_logloss: 0.586251\n",
      "[800]\ttraining's binary_logloss: 0.517805\tvalid_1's binary_logloss: 0.585997\n",
      "[900]\ttraining's binary_logloss: 0.510571\tvalid_1's binary_logloss: 0.585708\n",
      "[1000]\ttraining's binary_logloss: 0.503355\tvalid_1's binary_logloss: 0.585488\n",
      "Did not meet early stopping. Best iteration is:\n",
      "[1000]\ttraining's binary_logloss: 0.503355\tvalid_1's binary_logloss: 0.585488\n"
     ]
    },
    {
     "name": "stderr",
     "output_type": "stream",
     "text": [
      "tune_lambda_l1_and_lambda_l2, val_score: 0.584827:  35%|###5      | 7/20 [04:03<07:29, 34.58s/it][I 2020-03-24 16:40:31,416] Finished trial#6 resulted in value: 0.5854876835330958. Current best value is 0.5848270321346352 with parameters: {'lambda_l1': 0.0011652697252815055, 'lambda_l2': 0.11499520828268975}.\n",
      "tune_lambda_l1_and_lambda_l2, val_score: 0.584827:  35%|###5      | 7/20 [04:03<07:29, 34.58s/it]"
     ]
    },
    {
     "name": "stdout",
     "output_type": "stream",
     "text": [
      "Training until validation scores don't improve for 100 rounds\n",
      "[100]\ttraining's binary_logloss: 0.580608\tvalid_1's binary_logloss: 0.592273\n",
      "[200]\ttraining's binary_logloss: 0.569402\tvalid_1's binary_logloss: 0.589495\n",
      "[300]\ttraining's binary_logloss: 0.560283\tvalid_1's binary_logloss: 0.588273\n",
      "[400]\ttraining's binary_logloss: 0.551786\tvalid_1's binary_logloss: 0.587768\n",
      "[500]\ttraining's binary_logloss: 0.54344\tvalid_1's binary_logloss: 0.586966\n",
      "[600]\ttraining's binary_logloss: 0.535767\tvalid_1's binary_logloss: 0.586415\n",
      "[700]\ttraining's binary_logloss: 0.528246\tvalid_1's binary_logloss: 0.585964\n",
      "[800]\ttraining's binary_logloss: 0.520743\tvalid_1's binary_logloss: 0.585576\n",
      "[900]\ttraining's binary_logloss: 0.513894\tvalid_1's binary_logloss: 0.585407\n",
      "[1000]\ttraining's binary_logloss: 0.507573\tvalid_1's binary_logloss: 0.585168\n",
      "Did not meet early stopping. Best iteration is:\n",
      "[1000]\ttraining's binary_logloss: 0.507573\tvalid_1's binary_logloss: 0.585168\n"
     ]
    },
    {
     "name": "stderr",
     "output_type": "stream",
     "text": [
      "tune_lambda_l1_and_lambda_l2, val_score: 0.584827:  40%|####      | 8/20 [04:37<06:55, 34.60s/it][I 2020-03-24 16:41:06,071] Finished trial#7 resulted in value: 0.5851675624082022. Current best value is 0.5848270321346352 with parameters: {'lambda_l1': 0.0011652697252815055, 'lambda_l2': 0.11499520828268975}.\n",
      "tune_lambda_l1_and_lambda_l2, val_score: 0.584827:  40%|####      | 8/20 [04:37<06:55, 34.60s/it]"
     ]
    },
    {
     "name": "stdout",
     "output_type": "stream",
     "text": [
      "Training until validation scores don't improve for 100 rounds\n",
      "[100]\ttraining's binary_logloss: 0.580358\tvalid_1's binary_logloss: 0.592093\n",
      "[200]\ttraining's binary_logloss: 0.568138\tvalid_1's binary_logloss: 0.589184\n",
      "[300]\ttraining's binary_logloss: 0.558628\tvalid_1's binary_logloss: 0.588147\n",
      "[400]\ttraining's binary_logloss: 0.549302\tvalid_1's binary_logloss: 0.58708\n",
      "[500]\ttraining's binary_logloss: 0.54065\tvalid_1's binary_logloss: 0.586562\n",
      "[600]\ttraining's binary_logloss: 0.532426\tvalid_1's binary_logloss: 0.58628\n",
      "[700]\ttraining's binary_logloss: 0.52449\tvalid_1's binary_logloss: 0.586003\n",
      "[800]\ttraining's binary_logloss: 0.51695\tvalid_1's binary_logloss: 0.585699\n",
      "[900]\ttraining's binary_logloss: 0.509915\tvalid_1's binary_logloss: 0.585528\n",
      "[1000]\ttraining's binary_logloss: 0.502766\tvalid_1's binary_logloss: 0.5855\n",
      "Did not meet early stopping. Best iteration is:\n",
      "[1000]\ttraining's binary_logloss: 0.502766\tvalid_1's binary_logloss: 0.5855\n"
     ]
    },
    {
     "name": "stderr",
     "output_type": "stream",
     "text": [
      "tune_lambda_l1_and_lambda_l2, val_score: 0.584827:  45%|####5     | 9/20 [05:11<06:16, 34.20s/it][I 2020-03-24 16:41:39,337] Finished trial#8 resulted in value: 0.5855002244035528. Current best value is 0.5848270321346352 with parameters: {'lambda_l1': 0.0011652697252815055, 'lambda_l2': 0.11499520828268975}.\n",
      "tune_lambda_l1_and_lambda_l2, val_score: 0.584827:  45%|####5     | 9/20 [05:11<06:16, 34.20s/it]"
     ]
    },
    {
     "name": "stdout",
     "output_type": "stream",
     "text": [
      "Training until validation scores don't improve for 100 rounds\n",
      "[100]\ttraining's binary_logloss: 0.580262\tvalid_1's binary_logloss: 0.591929\n",
      "[200]\ttraining's binary_logloss: 0.568448\tvalid_1's binary_logloss: 0.589312\n",
      "[300]\ttraining's binary_logloss: 0.558769\tvalid_1's binary_logloss: 0.588356\n",
      "[400]\ttraining's binary_logloss: 0.550093\tvalid_1's binary_logloss: 0.587706\n",
      "[500]\ttraining's binary_logloss: 0.541699\tvalid_1's binary_logloss: 0.587297\n",
      "[600]\ttraining's binary_logloss: 0.533059\tvalid_1's binary_logloss: 0.586321\n",
      "[700]\ttraining's binary_logloss: 0.52527\tvalid_1's binary_logloss: 0.586005\n",
      "[800]\ttraining's binary_logloss: 0.517888\tvalid_1's binary_logloss: 0.585834\n",
      "[900]\ttraining's binary_logloss: 0.510514\tvalid_1's binary_logloss: 0.585389\n",
      "[1000]\ttraining's binary_logloss: 0.503436\tvalid_1's binary_logloss: 0.585431\n",
      "Did not meet early stopping. Best iteration is:\n",
      "[1000]\ttraining's binary_logloss: 0.503436\tvalid_1's binary_logloss: 0.585431\n"
     ]
    },
    {
     "name": "stderr",
     "output_type": "stream",
     "text": [
      "tune_lambda_l1_and_lambda_l2, val_score: 0.584827:  50%|#####     | 10/20 [05:45<05:42, 34.29s/it][I 2020-03-24 16:42:13,803] Finished trial#9 resulted in value: 0.5854307860684838. Current best value is 0.5848270321346352 with parameters: {'lambda_l1': 0.0011652697252815055, 'lambda_l2': 0.11499520828268975}.\n",
      "tune_lambda_l1_and_lambda_l2, val_score: 0.584827:  50%|#####     | 10/20 [05:45<05:42, 34.29s/it]"
     ]
    },
    {
     "name": "stdout",
     "output_type": "stream",
     "text": [
      "Training until validation scores don't improve for 100 rounds\n",
      "[100]\ttraining's binary_logloss: 0.580298\tvalid_1's binary_logloss: 0.592068\n",
      "[200]\ttraining's binary_logloss: 0.568363\tvalid_1's binary_logloss: 0.589323\n",
      "[300]\ttraining's binary_logloss: 0.558994\tvalid_1's binary_logloss: 0.588226\n",
      "[400]\ttraining's binary_logloss: 0.54992\tvalid_1's binary_logloss: 0.587355\n",
      "[500]\ttraining's binary_logloss: 0.541036\tvalid_1's binary_logloss: 0.58674\n",
      "[600]\ttraining's binary_logloss: 0.532938\tvalid_1's binary_logloss: 0.586412\n",
      "[700]\ttraining's binary_logloss: 0.525155\tvalid_1's binary_logloss: 0.586171\n",
      "[800]\ttraining's binary_logloss: 0.517596\tvalid_1's binary_logloss: 0.58598\n",
      "[900]\ttraining's binary_logloss: 0.510244\tvalid_1's binary_logloss: 0.585831\n",
      "[1000]\ttraining's binary_logloss: 0.503101\tvalid_1's binary_logloss: 0.585633\n",
      "Did not meet early stopping. Best iteration is:\n",
      "[1000]\ttraining's binary_logloss: 0.503101\tvalid_1's binary_logloss: 0.585633\n"
     ]
    },
    {
     "name": "stderr",
     "output_type": "stream",
     "text": [
      "tune_lambda_l1_and_lambda_l2, val_score: 0.584827:  55%|#####5    | 11/20 [06:20<05:10, 34.45s/it][I 2020-03-24 16:42:48,687] Finished trial#10 resulted in value: 0.5856327740888626. Current best value is 0.5848270321346352 with parameters: {'lambda_l1': 0.0011652697252815055, 'lambda_l2': 0.11499520828268975}.\n",
      "tune_lambda_l1_and_lambda_l2, val_score: 0.584827:  55%|#####5    | 11/20 [06:20<05:10, 34.45s/it]"
     ]
    },
    {
     "name": "stdout",
     "output_type": "stream",
     "text": [
      "Training until validation scores don't improve for 100 rounds\n",
      "[100]\ttraining's binary_logloss: 0.580336\tvalid_1's binary_logloss: 0.591893\n",
      "[200]\ttraining's binary_logloss: 0.569068\tvalid_1's binary_logloss: 0.589363\n",
      "[300]\ttraining's binary_logloss: 0.559809\tvalid_1's binary_logloss: 0.588484\n",
      "[400]\ttraining's binary_logloss: 0.55092\tvalid_1's binary_logloss: 0.58768\n",
      "[500]\ttraining's binary_logloss: 0.542608\tvalid_1's binary_logloss: 0.586931\n",
      "[600]\ttraining's binary_logloss: 0.534754\tvalid_1's binary_logloss: 0.586496\n",
      "[700]\ttraining's binary_logloss: 0.526815\tvalid_1's binary_logloss: 0.585997\n",
      "[800]\ttraining's binary_logloss: 0.519302\tvalid_1's binary_logloss: 0.585753\n",
      "[900]\ttraining's binary_logloss: 0.512404\tvalid_1's binary_logloss: 0.585626\n",
      "[1000]\ttraining's binary_logloss: 0.505759\tvalid_1's binary_logloss: 0.585608\n",
      "Did not meet early stopping. Best iteration is:\n",
      "[1000]\ttraining's binary_logloss: 0.505759\tvalid_1's binary_logloss: 0.585608\n"
     ]
    },
    {
     "name": "stderr",
     "output_type": "stream",
     "text": [
      "tune_lambda_l1_and_lambda_l2, val_score: 0.584827:  60%|######    | 12/20 [06:56<04:39, 34.90s/it][I 2020-03-24 16:43:24,616] Finished trial#11 resulted in value: 0.5856076532375849. Current best value is 0.5848270321346352 with parameters: {'lambda_l1': 0.0011652697252815055, 'lambda_l2': 0.11499520828268975}.\n",
      "tune_lambda_l1_and_lambda_l2, val_score: 0.584827:  60%|######    | 12/20 [06:56<04:39, 34.90s/it]"
     ]
    },
    {
     "name": "stdout",
     "output_type": "stream",
     "text": [
      "Training until validation scores don't improve for 100 rounds\n",
      "[100]\ttraining's binary_logloss: 0.581769\tvalid_1's binary_logloss: 0.592602\n",
      "[200]\ttraining's binary_logloss: 0.571153\tvalid_1's binary_logloss: 0.589387\n",
      "[300]\ttraining's binary_logloss: 0.563421\tvalid_1's binary_logloss: 0.588156\n",
      "[400]\ttraining's binary_logloss: 0.555981\tvalid_1's binary_logloss: 0.58714\n",
      "[500]\ttraining's binary_logloss: 0.548825\tvalid_1's binary_logloss: 0.586386\n",
      "[600]\ttraining's binary_logloss: 0.542337\tvalid_1's binary_logloss: 0.586184\n",
      "[700]\ttraining's binary_logloss: 0.536097\tvalid_1's binary_logloss: 0.585852\n",
      "[800]\ttraining's binary_logloss: 0.530294\tvalid_1's binary_logloss: 0.585442\n",
      "[900]\ttraining's binary_logloss: 0.524518\tvalid_1's binary_logloss: 0.585242\n",
      "[1000]\ttraining's binary_logloss: 0.518873\tvalid_1's binary_logloss: 0.585153\n",
      "Did not meet early stopping. Best iteration is:\n",
      "[1000]\ttraining's binary_logloss: 0.518873\tvalid_1's binary_logloss: 0.585153\n"
     ]
    },
    {
     "name": "stderr",
     "output_type": "stream",
     "text": [
      "tune_lambda_l1_and_lambda_l2, val_score: 0.584827:  65%|######5   | 13/20 [07:35<04:13, 36.22s/it][I 2020-03-24 16:44:03,955] Finished trial#12 resulted in value: 0.5851531925372828. Current best value is 0.5848270321346352 with parameters: {'lambda_l1': 0.0011652697252815055, 'lambda_l2': 0.11499520828268975}.\n",
      "tune_lambda_l1_and_lambda_l2, val_score: 0.584827:  65%|######5   | 13/20 [07:35<04:13, 36.22s/it]"
     ]
    },
    {
     "name": "stdout",
     "output_type": "stream",
     "text": [
      "Training until validation scores don't improve for 100 rounds\n",
      "[100]\ttraining's binary_logloss: 0.582593\tvalid_1's binary_logloss: 0.593257\n",
      "[200]\ttraining's binary_logloss: 0.572505\tvalid_1's binary_logloss: 0.590023\n",
      "[300]\ttraining's binary_logloss: 0.56532\tvalid_1's binary_logloss: 0.588513\n",
      "[400]\ttraining's binary_logloss: 0.55822\tvalid_1's binary_logloss: 0.587484\n",
      "[500]\ttraining's binary_logloss: 0.551943\tvalid_1's binary_logloss: 0.586796\n",
      "[600]\ttraining's binary_logloss: 0.545748\tvalid_1's binary_logloss: 0.586408\n",
      "[700]\ttraining's binary_logloss: 0.540151\tvalid_1's binary_logloss: 0.586024\n",
      "[800]\ttraining's binary_logloss: 0.534755\tvalid_1's binary_logloss: 0.585699\n",
      "[900]\ttraining's binary_logloss: 0.529257\tvalid_1's binary_logloss: 0.585379\n",
      "[1000]\ttraining's binary_logloss: 0.524034\tvalid_1's binary_logloss: 0.585142\n",
      "Did not meet early stopping. Best iteration is:\n",
      "[1000]\ttraining's binary_logloss: 0.524034\tvalid_1's binary_logloss: 0.585142\n"
     ]
    },
    {
     "name": "stderr",
     "output_type": "stream",
     "text": [
      "tune_lambda_l1_and_lambda_l2, val_score: 0.584827:  70%|#######   | 14/20 [08:16<03:46, 37.70s/it][I 2020-03-24 16:44:45,241] Finished trial#13 resulted in value: 0.585141653392733. Current best value is 0.5848270321346352 with parameters: {'lambda_l1': 0.0011652697252815055, 'lambda_l2': 0.11499520828268975}.\n",
      "tune_lambda_l1_and_lambda_l2, val_score: 0.584827:  70%|#######   | 14/20 [08:17<03:46, 37.70s/it]"
     ]
    },
    {
     "name": "stdout",
     "output_type": "stream",
     "text": [
      "Training until validation scores don't improve for 100 rounds\n",
      "[100]\ttraining's binary_logloss: 0.581256\tvalid_1's binary_logloss: 0.592602\n",
      "[200]\ttraining's binary_logloss: 0.569868\tvalid_1's binary_logloss: 0.589439\n",
      "[300]\ttraining's binary_logloss: 0.561248\tvalid_1's binary_logloss: 0.58818\n",
      "[400]\ttraining's binary_logloss: 0.55315\tvalid_1's binary_logloss: 0.587378\n",
      "[500]\ttraining's binary_logloss: 0.545701\tvalid_1's binary_logloss: 0.586815\n",
      "[600]\ttraining's binary_logloss: 0.538156\tvalid_1's binary_logloss: 0.586351\n",
      "[700]\ttraining's binary_logloss: 0.531365\tvalid_1's binary_logloss: 0.586075\n",
      "[800]\ttraining's binary_logloss: 0.524222\tvalid_1's binary_logloss: 0.585375\n",
      "[900]\ttraining's binary_logloss: 0.517661\tvalid_1's binary_logloss: 0.585191\n",
      "Early stopping, best iteration is:\n",
      "[872]\ttraining's binary_logloss: 0.519394\tvalid_1's binary_logloss: 0.585143\n"
     ]
    },
    {
     "name": "stderr",
     "output_type": "stream",
     "text": [
      "tune_lambda_l1_and_lambda_l2, val_score: 0.584827:  75%|#######5  | 15/20 [08:54<03:08, 37.77s/it][I 2020-03-24 16:45:23,004] Finished trial#14 resulted in value: 0.5851431513659876. Current best value is 0.5848270321346352 with parameters: {'lambda_l1': 0.0011652697252815055, 'lambda_l2': 0.11499520828268975}.\n",
      "tune_lambda_l1_and_lambda_l2, val_score: 0.584827:  75%|#######5  | 15/20 [08:54<03:08, 37.77s/it]"
     ]
    },
    {
     "name": "stdout",
     "output_type": "stream",
     "text": [
      "Training until validation scores don't improve for 100 rounds\n",
      "[100]\ttraining's binary_logloss: 0.581232\tvalid_1's binary_logloss: 0.592385\n",
      "[200]\ttraining's binary_logloss: 0.570963\tvalid_1's binary_logloss: 0.589531\n",
      "[300]\ttraining's binary_logloss: 0.562729\tvalid_1's binary_logloss: 0.588079\n",
      "[400]\ttraining's binary_logloss: 0.555636\tvalid_1's binary_logloss: 0.587409\n",
      "[500]\ttraining's binary_logloss: 0.548003\tvalid_1's binary_logloss: 0.586292\n",
      "[600]\ttraining's binary_logloss: 0.541274\tvalid_1's binary_logloss: 0.5857\n",
      "[700]\ttraining's binary_logloss: 0.53482\tvalid_1's binary_logloss: 0.585395\n",
      "[800]\ttraining's binary_logloss: 0.528781\tvalid_1's binary_logloss: 0.585196\n",
      "[900]\ttraining's binary_logloss: 0.523192\tvalid_1's binary_logloss: 0.584752\n",
      "[1000]\ttraining's binary_logloss: 0.517469\tvalid_1's binary_logloss: 0.584614\n",
      "Did not meet early stopping. Best iteration is:\n",
      "[1000]\ttraining's binary_logloss: 0.517469\tvalid_1's binary_logloss: 0.584614\n"
     ]
    },
    {
     "name": "stderr",
     "output_type": "stream",
     "text": [
      "tune_lambda_l1_and_lambda_l2, val_score: 0.584614:  80%|########  | 16/20 [09:32<02:31, 37.79s/it][I 2020-03-24 16:46:00,958] Finished trial#15 resulted in value: 0.5846141968236136. Current best value is 0.5846141968236136 with parameters: {'lambda_l1': 0.0018653584865405692, 'lambda_l2': 9.697539406806108}.\n",
      "tune_lambda_l1_and_lambda_l2, val_score: 0.584614:  80%|########  | 16/20 [09:32<02:31, 37.79s/it]"
     ]
    },
    {
     "name": "stdout",
     "output_type": "stream",
     "text": [
      "Training until validation scores don't improve for 100 rounds\n",
      "[100]\ttraining's binary_logloss: 0.5802\tvalid_1's binary_logloss: 0.592209\n",
      "[200]\ttraining's binary_logloss: 0.568613\tvalid_1's binary_logloss: 0.589729\n",
      "[300]\ttraining's binary_logloss: 0.558908\tvalid_1's binary_logloss: 0.58835\n",
      "[400]\ttraining's binary_logloss: 0.549867\tvalid_1's binary_logloss: 0.587645\n",
      "[500]\ttraining's binary_logloss: 0.540972\tvalid_1's binary_logloss: 0.586972\n",
      "[600]\ttraining's binary_logloss: 0.532796\tvalid_1's binary_logloss: 0.586565\n",
      "[700]\ttraining's binary_logloss: 0.524756\tvalid_1's binary_logloss: 0.586156\n",
      "[800]\ttraining's binary_logloss: 0.517279\tvalid_1's binary_logloss: 0.586005\n",
      "[900]\ttraining's binary_logloss: 0.51006\tvalid_1's binary_logloss: 0.585745\n",
      "[1000]\ttraining's binary_logloss: 0.502999\tvalid_1's binary_logloss: 0.585836\n",
      "Did not meet early stopping. Best iteration is:\n",
      "[1000]\ttraining's binary_logloss: 0.502999\tvalid_1's binary_logloss: 0.585836\n"
     ]
    },
    {
     "name": "stderr",
     "output_type": "stream",
     "text": [
      "tune_lambda_l1_and_lambda_l2, val_score: 0.584614:  85%|########5 | 17/20 [10:08<01:52, 37.38s/it][I 2020-03-24 16:46:37,249] Finished trial#16 resulted in value: 0.5858355364805621. Current best value is 0.5846141968236136 with parameters: {'lambda_l1': 0.0018653584865405692, 'lambda_l2': 9.697539406806108}.\n",
      "tune_lambda_l1_and_lambda_l2, val_score: 0.584614:  85%|########5 | 17/20 [10:09<01:52, 37.38s/it]"
     ]
    },
    {
     "name": "stdout",
     "output_type": "stream",
     "text": [
      "Training until validation scores don't improve for 100 rounds\n",
      "[100]\ttraining's binary_logloss: 0.580239\tvalid_1's binary_logloss: 0.591999\n",
      "[200]\ttraining's binary_logloss: 0.568134\tvalid_1's binary_logloss: 0.588998\n",
      "[300]\ttraining's binary_logloss: 0.55889\tvalid_1's binary_logloss: 0.588001\n",
      "[400]\ttraining's binary_logloss: 0.550197\tvalid_1's binary_logloss: 0.587357\n",
      "[500]\ttraining's binary_logloss: 0.541478\tvalid_1's binary_logloss: 0.586577\n",
      "[600]\ttraining's binary_logloss: 0.533314\tvalid_1's binary_logloss: 0.586259\n",
      "[700]\ttraining's binary_logloss: 0.525622\tvalid_1's binary_logloss: 0.58557\n",
      "[800]\ttraining's binary_logloss: 0.518175\tvalid_1's binary_logloss: 0.585311\n",
      "[900]\ttraining's binary_logloss: 0.511171\tvalid_1's binary_logloss: 0.585168\n",
      "[1000]\ttraining's binary_logloss: 0.504596\tvalid_1's binary_logloss: 0.584954\n",
      "Did not meet early stopping. Best iteration is:\n",
      "[1000]\ttraining's binary_logloss: 0.504596\tvalid_1's binary_logloss: 0.584954\n"
     ]
    },
    {
     "name": "stderr",
     "output_type": "stream",
     "text": [
      "tune_lambda_l1_and_lambda_l2, val_score: 0.584614:  90%|######### | 18/20 [10:42<01:12, 36.35s/it][I 2020-03-24 16:47:11,417] Finished trial#17 resulted in value: 0.5849543100524782. Current best value is 0.5846141968236136 with parameters: {'lambda_l1': 0.0018653584865405692, 'lambda_l2': 9.697539406806108}.\n",
      "tune_lambda_l1_and_lambda_l2, val_score: 0.584614:  90%|######### | 18/20 [10:43<01:12, 36.35s/it]"
     ]
    },
    {
     "name": "stdout",
     "output_type": "stream",
     "text": [
      "Training until validation scores don't improve for 100 rounds\n",
      "[100]\ttraining's binary_logloss: 0.581064\tvalid_1's binary_logloss: 0.592177\n",
      "[200]\ttraining's binary_logloss: 0.570586\tvalid_1's binary_logloss: 0.589285\n",
      "[300]\ttraining's binary_logloss: 0.56261\tvalid_1's binary_logloss: 0.58806\n",
      "[400]\ttraining's binary_logloss: 0.554948\tvalid_1's binary_logloss: 0.58718\n",
      "[500]\ttraining's binary_logloss: 0.547809\tvalid_1's binary_logloss: 0.586416\n",
      "[600]\ttraining's binary_logloss: 0.540965\tvalid_1's binary_logloss: 0.585773\n",
      "[700]\ttraining's binary_logloss: 0.534534\tvalid_1's binary_logloss: 0.585457\n",
      "[800]\ttraining's binary_logloss: 0.528375\tvalid_1's binary_logloss: 0.585175\n",
      "[900]\ttraining's binary_logloss: 0.522474\tvalid_1's binary_logloss: 0.584963\n",
      "[1000]\ttraining's binary_logloss: 0.516697\tvalid_1's binary_logloss: 0.584823\n",
      "Did not meet early stopping. Best iteration is:\n",
      "[1000]\ttraining's binary_logloss: 0.516697\tvalid_1's binary_logloss: 0.584823\n"
     ]
    },
    {
     "name": "stderr",
     "output_type": "stream",
     "text": [
      "tune_lambda_l1_and_lambda_l2, val_score: 0.584614:  95%|#########5| 19/20 [11:19<00:36, 36.53s/it][I 2020-03-24 16:47:48,159] Finished trial#18 resulted in value: 0.5848226981174439. Current best value is 0.5846141968236136 with parameters: {'lambda_l1': 0.0018653584865405692, 'lambda_l2': 9.697539406806108}.\n",
      "tune_lambda_l1_and_lambda_l2, val_score: 0.584614:  95%|#########5| 19/20 [11:19<00:36, 36.53s/it]"
     ]
    },
    {
     "name": "stdout",
     "output_type": "stream",
     "text": [
      "Training until validation scores don't improve for 100 rounds\n",
      "[100]\ttraining's binary_logloss: 0.580036\tvalid_1's binary_logloss: 0.591841\n",
      "[200]\ttraining's binary_logloss: 0.568195\tvalid_1's binary_logloss: 0.589114\n",
      "[300]\ttraining's binary_logloss: 0.558764\tvalid_1's binary_logloss: 0.588239\n",
      "[400]\ttraining's binary_logloss: 0.549485\tvalid_1's binary_logloss: 0.587353\n",
      "[500]\ttraining's binary_logloss: 0.540775\tvalid_1's binary_logloss: 0.586955\n",
      "[600]\ttraining's binary_logloss: 0.532515\tvalid_1's binary_logloss: 0.586423\n",
      "[700]\ttraining's binary_logloss: 0.524934\tvalid_1's binary_logloss: 0.586228\n",
      "[800]\ttraining's binary_logloss: 0.517369\tvalid_1's binary_logloss: 0.585754\n",
      "[900]\ttraining's binary_logloss: 0.509613\tvalid_1's binary_logloss: 0.585307\n",
      "[1000]\ttraining's binary_logloss: 0.502546\tvalid_1's binary_logloss: 0.585222\n",
      "Did not meet early stopping. Best iteration is:\n",
      "[1000]\ttraining's binary_logloss: 0.502546\tvalid_1's binary_logloss: 0.585222\n"
     ]
    },
    {
     "name": "stderr",
     "output_type": "stream",
     "text": [
      "tune_lambda_l1_and_lambda_l2, val_score: 0.584614: 100%|##########| 20/20 [12:01<00:00, 38.13s/it][I 2020-03-24 16:48:30,040] Finished trial#19 resulted in value: 0.585222197676656. Current best value is 0.5846141968236136 with parameters: {'lambda_l1': 0.0018653584865405692, 'lambda_l2': 9.697539406806108}.\n",
      "tune_lambda_l1_and_lambda_l2, val_score: 0.584614: 100%|##########| 20/20 [12:01<00:00, 36.09s/it]\n",
      "tune_min_child_samples, val_score: 0.584614:   0%|          | 0/5 [00:00<?, ?it/s]"
     ]
    },
    {
     "name": "stdout",
     "output_type": "stream",
     "text": [
      "Training until validation scores don't improve for 100 rounds\n",
      "[100]\ttraining's binary_logloss: 0.581257\tvalid_1's binary_logloss: 0.592287\n",
      "[200]\ttraining's binary_logloss: 0.570857\tvalid_1's binary_logloss: 0.589489\n",
      "[300]\ttraining's binary_logloss: 0.562433\tvalid_1's binary_logloss: 0.587856\n",
      "[400]\ttraining's binary_logloss: 0.555286\tvalid_1's binary_logloss: 0.586947\n",
      "[500]\ttraining's binary_logloss: 0.548867\tvalid_1's binary_logloss: 0.586535\n",
      "[600]\ttraining's binary_logloss: 0.542244\tvalid_1's binary_logloss: 0.585972\n",
      "[700]\ttraining's binary_logloss: 0.535863\tvalid_1's binary_logloss: 0.585691\n",
      "[800]\ttraining's binary_logloss: 0.529587\tvalid_1's binary_logloss: 0.585332\n",
      "[900]\ttraining's binary_logloss: 0.523914\tvalid_1's binary_logloss: 0.585021\n",
      "[1000]\ttraining's binary_logloss: 0.51828\tvalid_1's binary_logloss: 0.584792\n",
      "Did not meet early stopping. Best iteration is:\n",
      "[1000]\ttraining's binary_logloss: 0.51828\tvalid_1's binary_logloss: 0.584792\n"
     ]
    },
    {
     "name": "stderr",
     "output_type": "stream",
     "text": [
      "tune_min_child_samples, val_score: 0.584614:  20%|##        | 1/5 [00:58<03:52, 58.03s/it][I 2020-03-24 16:49:28,226] Finished trial#0 resulted in value: 0.5847922843788212. Current best value is 0.5847922843788212 with parameters: {'min_child_samples': 5}.\n",
      "tune_min_child_samples, val_score: 0.584614:  20%|##        | 1/5 [00:58<03:52, 58.03s/it]"
     ]
    },
    {
     "name": "stdout",
     "output_type": "stream",
     "text": [
      "Training until validation scores don't improve for 100 rounds\n",
      "[100]\ttraining's binary_logloss: 0.581337\tvalid_1's binary_logloss: 0.592495\n",
      "[200]\ttraining's binary_logloss: 0.570732\tvalid_1's binary_logloss: 0.589339\n",
      "[300]\ttraining's binary_logloss: 0.562881\tvalid_1's binary_logloss: 0.588234\n",
      "[400]\ttraining's binary_logloss: 0.55562\tvalid_1's binary_logloss: 0.587395\n",
      "[500]\ttraining's binary_logloss: 0.548587\tvalid_1's binary_logloss: 0.586852\n",
      "[600]\ttraining's binary_logloss: 0.541899\tvalid_1's binary_logloss: 0.586444\n",
      "[700]\ttraining's binary_logloss: 0.535705\tvalid_1's binary_logloss: 0.585967\n",
      "[800]\ttraining's binary_logloss: 0.529863\tvalid_1's binary_logloss: 0.585719\n",
      "[900]\ttraining's binary_logloss: 0.523815\tvalid_1's binary_logloss: 0.585385\n",
      "[1000]\ttraining's binary_logloss: 0.518213\tvalid_1's binary_logloss: 0.585139\n",
      "Did not meet early stopping. Best iteration is:\n",
      "[1000]\ttraining's binary_logloss: 0.518213\tvalid_1's binary_logloss: 0.585139\n"
     ]
    },
    {
     "name": "stderr",
     "output_type": "stream",
     "text": [
      "tune_min_child_samples, val_score: 0.584614:  40%|####      | 2/5 [01:35<02:35, 51.98s/it][I 2020-03-24 16:50:06,068] Finished trial#1 resulted in value: 0.5851391755106288. Current best value is 0.5847922843788212 with parameters: {'min_child_samples': 5}.\n",
      "tune_min_child_samples, val_score: 0.584614:  40%|####      | 2/5 [01:36<02:35, 51.98s/it]"
     ]
    },
    {
     "name": "stdout",
     "output_type": "stream",
     "text": [
      "Training until validation scores don't improve for 100 rounds\n",
      "[100]\ttraining's binary_logloss: 0.581387\tvalid_1's binary_logloss: 0.592567\n",
      "[200]\ttraining's binary_logloss: 0.570661\tvalid_1's binary_logloss: 0.58927\n",
      "[300]\ttraining's binary_logloss: 0.562743\tvalid_1's binary_logloss: 0.587864\n",
      "[400]\ttraining's binary_logloss: 0.55569\tvalid_1's binary_logloss: 0.587132\n",
      "[500]\ttraining's binary_logloss: 0.54833\tvalid_1's binary_logloss: 0.586176\n",
      "[600]\ttraining's binary_logloss: 0.541878\tvalid_1's binary_logloss: 0.585855\n",
      "[700]\ttraining's binary_logloss: 0.535591\tvalid_1's binary_logloss: 0.585518\n",
      "[800]\ttraining's binary_logloss: 0.529947\tvalid_1's binary_logloss: 0.585305\n",
      "[900]\ttraining's binary_logloss: 0.523988\tvalid_1's binary_logloss: 0.58503\n",
      "[1000]\ttraining's binary_logloss: 0.518224\tvalid_1's binary_logloss: 0.584922\n",
      "Did not meet early stopping. Best iteration is:\n",
      "[1000]\ttraining's binary_logloss: 0.518224\tvalid_1's binary_logloss: 0.584922\n"
     ]
    },
    {
     "name": "stderr",
     "output_type": "stream",
     "text": [
      "tune_min_child_samples, val_score: 0.584614:  60%|######    | 3/5 [02:12<01:34, 47.49s/it][I 2020-03-24 16:50:43,109] Finished trial#2 resulted in value: 0.5849218571616255. Current best value is 0.5847922843788212 with parameters: {'min_child_samples': 5}.\n",
      "tune_min_child_samples, val_score: 0.584614:  60%|######    | 3/5 [02:13<01:34, 47.49s/it]"
     ]
    },
    {
     "name": "stdout",
     "output_type": "stream",
     "text": [
      "Training until validation scores don't improve for 100 rounds\n",
      "[100]\ttraining's binary_logloss: 0.581551\tvalid_1's binary_logloss: 0.592528\n",
      "[200]\ttraining's binary_logloss: 0.570715\tvalid_1's binary_logloss: 0.589164\n",
      "[300]\ttraining's binary_logloss: 0.562323\tvalid_1's binary_logloss: 0.587617\n",
      "[400]\ttraining's binary_logloss: 0.554955\tvalid_1's binary_logloss: 0.586717\n",
      "[500]\ttraining's binary_logloss: 0.547531\tvalid_1's binary_logloss: 0.585907\n",
      "[600]\ttraining's binary_logloss: 0.540882\tvalid_1's binary_logloss: 0.58551\n",
      "[700]\ttraining's binary_logloss: 0.534449\tvalid_1's binary_logloss: 0.585193\n",
      "[800]\ttraining's binary_logloss: 0.528125\tvalid_1's binary_logloss: 0.584774\n",
      "[900]\ttraining's binary_logloss: 0.522141\tvalid_1's binary_logloss: 0.584493\n",
      "[1000]\ttraining's binary_logloss: 0.516035\tvalid_1's binary_logloss: 0.584254\n",
      "Did not meet early stopping. Best iteration is:\n",
      "[1000]\ttraining's binary_logloss: 0.516035\tvalid_1's binary_logloss: 0.584254\n"
     ]
    },
    {
     "name": "stderr",
     "output_type": "stream",
     "text": [
      "tune_min_child_samples, val_score: 0.584254:  80%|########  | 4/5 [02:51<00:44, 44.75s/it][I 2020-03-24 16:51:21,445] Finished trial#3 resulted in value: 0.5842540281502552. Current best value is 0.5842540281502552 with parameters: {'min_child_samples': 50}.\n",
      "tune_min_child_samples, val_score: 0.584254:  80%|########  | 4/5 [02:51<00:44, 44.75s/it]"
     ]
    },
    {
     "name": "stdout",
     "output_type": "stream",
     "text": [
      "Training until validation scores don't improve for 100 rounds\n",
      "[100]\ttraining's binary_logloss: 0.581418\tvalid_1's binary_logloss: 0.592357\n",
      "[200]\ttraining's binary_logloss: 0.570928\tvalid_1's binary_logloss: 0.589521\n",
      "[300]\ttraining's binary_logloss: 0.56249\tvalid_1's binary_logloss: 0.588016\n",
      "[400]\ttraining's binary_logloss: 0.555089\tvalid_1's binary_logloss: 0.587383\n",
      "[500]\ttraining's binary_logloss: 0.548095\tvalid_1's binary_logloss: 0.58649\n",
      "[600]\ttraining's binary_logloss: 0.541131\tvalid_1's binary_logloss: 0.585821\n",
      "[700]\ttraining's binary_logloss: 0.534559\tvalid_1's binary_logloss: 0.585546\n",
      "[800]\ttraining's binary_logloss: 0.52857\tvalid_1's binary_logloss: 0.585369\n",
      "[900]\ttraining's binary_logloss: 0.522496\tvalid_1's binary_logloss: 0.585073\n",
      "[1000]\ttraining's binary_logloss: 0.516416\tvalid_1's binary_logloss: 0.584767\n",
      "Did not meet early stopping. Best iteration is:\n",
      "[1000]\ttraining's binary_logloss: 0.516416\tvalid_1's binary_logloss: 0.584767\n"
     ]
    },
    {
     "name": "stderr",
     "output_type": "stream",
     "text": [
      "tune_min_child_samples, val_score: 0.584254: 100%|##########| 5/5 [03:30<00:00, 42.97s/it][I 2020-03-24 16:52:00,329] Finished trial#4 resulted in value: 0.5847666493974953. Current best value is 0.5842540281502552 with parameters: {'min_child_samples': 50}.\n",
      "tune_min_child_samples, val_score: 0.584254: 100%|##########| 5/5 [03:30<00:00, 42.05s/it]\n"
     ]
    },
    {
     "name": "stdout",
     "output_type": "stream",
     "text": [
      "2020-03-24 16:52:13 RTwCmnt ********************************************************************************\n",
      "RTwCmnt\n",
      "n_pos_wanted 100000\n",
      "2020-03-24 16:52:29 chunk 1\n",
      "2020-03-24 16:52:45 chunk 2\n",
      "2020-03-24 16:53:00 chunk 3\n",
      "2020-03-24 16:53:16 chunk 4\n",
      "2020-03-24 16:53:31 chunk 5\n",
      "2020-03-24 16:53:47 chunk 6\n",
      "2020-03-24 16:54:02 chunk 7\n",
      "2020-03-24 16:54:18 chunk 8\n",
      "2020-03-24 16:54:33 chunk 9\n",
      "2020-03-24 16:54:49 chunk 10\n",
      "2020-03-24 16:55:04 chunk 11\n",
      "2020-03-24 16:55:20 chunk 12\n",
      "2020-03-24 16:55:35 chunk 13\n",
      "dftrvl.shape: (1000000, 95) dftrvl[tgtcol].mean(): 0.101203\n",
      "{'train_pop': 13000000, 'target_pop': 101203, 'sampled_train_pop': 1000000, 'sampled_target_pop': 101203}\n",
      "{'objective': 'binary', 'metric': 'binary_logloss', 'verbosity': 1, 'boosting_type': 'gbdt', 'num_threads': 24}\n"
     ]
    },
    {
     "name": "stderr",
     "output_type": "stream",
     "text": [
      "tune_feature_fraction, val_score: inf:   0%|          | 0/7 [00:00<?, ?it/s]"
     ]
    },
    {
     "name": "stdout",
     "output_type": "stream",
     "text": [
      "Training until validation scores don't improve for 100 rounds\n",
      "[100]\ttraining's binary_logloss: 0.298095\tvalid_1's binary_logloss: 0.298359\n",
      "[200]\ttraining's binary_logloss: 0.294917\tvalid_1's binary_logloss: 0.297467\n",
      "[300]\ttraining's binary_logloss: 0.292398\tvalid_1's binary_logloss: 0.297031\n",
      "[400]\ttraining's binary_logloss: 0.290183\tvalid_1's binary_logloss: 0.296786\n",
      "[500]\ttraining's binary_logloss: 0.287893\tvalid_1's binary_logloss: 0.296447\n",
      "[600]\ttraining's binary_logloss: 0.28577\tvalid_1's binary_logloss: 0.29637\n",
      "[700]\ttraining's binary_logloss: 0.283729\tvalid_1's binary_logloss: 0.296319\n",
      "[800]\ttraining's binary_logloss: 0.28165\tvalid_1's binary_logloss: 0.296311\n",
      "Early stopping, best iteration is:\n",
      "[729]\ttraining's binary_logloss: 0.283082\tvalid_1's binary_logloss: 0.296268\n"
     ]
    },
    {
     "name": "stderr",
     "output_type": "stream",
     "text": [
      "tune_feature_fraction, val_score: 0.296268:  14%|#4        | 1/7 [00:26<02:40, 26.67s/it][I 2020-03-24 16:56:20,877] Finished trial#0 resulted in value: 0.2962681202466132. Current best value is 0.2962681202466132 with parameters: {'feature_fraction': 0.4}.\n",
      "tune_feature_fraction, val_score: 0.296268:  14%|#4        | 1/7 [00:26<02:40, 26.67s/it]"
     ]
    },
    {
     "name": "stdout",
     "output_type": "stream",
     "text": [
      "Training until validation scores don't improve for 100 rounds\n",
      "[100]\ttraining's binary_logloss: 0.29776\tvalid_1's binary_logloss: 0.298164\n",
      "[200]\ttraining's binary_logloss: 0.294546\tvalid_1's binary_logloss: 0.297332\n",
      "[300]\ttraining's binary_logloss: 0.291927\tvalid_1's binary_logloss: 0.297023\n",
      "[400]\ttraining's binary_logloss: 0.289485\tvalid_1's binary_logloss: 0.296785\n",
      "[500]\ttraining's binary_logloss: 0.287092\tvalid_1's binary_logloss: 0.29659\n",
      "[600]\ttraining's binary_logloss: 0.284941\tvalid_1's binary_logloss: 0.296533\n",
      "[700]\ttraining's binary_logloss: 0.282873\tvalid_1's binary_logloss: 0.296521\n",
      "[800]\ttraining's binary_logloss: 0.280801\tvalid_1's binary_logloss: 0.296364\n",
      "[900]\ttraining's binary_logloss: 0.278907\tvalid_1's binary_logloss: 0.296311\n",
      "[1000]\ttraining's binary_logloss: 0.276827\tvalid_1's binary_logloss: 0.296207\n",
      "Did not meet early stopping. Best iteration is:\n",
      "[1000]\ttraining's binary_logloss: 0.276827\tvalid_1's binary_logloss: 0.296207\n"
     ]
    },
    {
     "name": "stderr",
     "output_type": "stream",
     "text": [
      "tune_feature_fraction, val_score: 0.296207:  29%|##8       | 2/7 [00:51<02:09, 25.97s/it][I 2020-03-24 16:56:45,156] Finished trial#1 resulted in value: 0.296206595182241. Current best value is 0.296206595182241 with parameters: {'feature_fraction': 0.5}.\n",
      "tune_feature_fraction, val_score: 0.296207:  29%|##8       | 2/7 [00:51<02:09, 25.97s/it]"
     ]
    },
    {
     "name": "stdout",
     "output_type": "stream",
     "text": [
      "Training until validation scores don't improve for 100 rounds\n",
      "[100]\ttraining's binary_logloss: 0.297683\tvalid_1's binary_logloss: 0.298286\n",
      "[200]\ttraining's binary_logloss: 0.294445\tvalid_1's binary_logloss: 0.297604\n",
      "[300]\ttraining's binary_logloss: 0.291544\tvalid_1's binary_logloss: 0.297082\n",
      "[400]\ttraining's binary_logloss: 0.289044\tvalid_1's binary_logloss: 0.296941\n",
      "[500]\ttraining's binary_logloss: 0.286695\tvalid_1's binary_logloss: 0.296803\n",
      "[600]\ttraining's binary_logloss: 0.284538\tvalid_1's binary_logloss: 0.296725\n",
      "[700]\ttraining's binary_logloss: 0.282281\tvalid_1's binary_logloss: 0.296673\n",
      "[800]\ttraining's binary_logloss: 0.280005\tvalid_1's binary_logloss: 0.296572\n",
      "[900]\ttraining's binary_logloss: 0.277855\tvalid_1's binary_logloss: 0.296593\n",
      "Early stopping, best iteration is:\n",
      "[801]\ttraining's binary_logloss: 0.279979\tvalid_1's binary_logloss: 0.29657\n"
     ]
    },
    {
     "name": "stderr",
     "output_type": "stream",
     "text": [
      "tune_feature_fraction, val_score: 0.296207:  43%|####2     | 3/7 [01:14<01:41, 25.26s/it][I 2020-03-24 16:57:08,848] Finished trial#2 resulted in value: 0.2965703628827023. Current best value is 0.296206595182241 with parameters: {'feature_fraction': 0.5}.\n",
      "tune_feature_fraction, val_score: 0.296207:  43%|####2     | 3/7 [01:14<01:41, 25.26s/it]"
     ]
    },
    {
     "name": "stdout",
     "output_type": "stream",
     "text": [
      "Training until validation scores don't improve for 100 rounds\n",
      "[100]\ttraining's binary_logloss: 0.297512\tvalid_1's binary_logloss: 0.298003\n",
      "[200]\ttraining's binary_logloss: 0.294135\tvalid_1's binary_logloss: 0.29721\n",
      "[300]\ttraining's binary_logloss: 0.291394\tvalid_1's binary_logloss: 0.296986\n",
      "[400]\ttraining's binary_logloss: 0.288826\tvalid_1's binary_logloss: 0.296778\n",
      "[500]\ttraining's binary_logloss: 0.286438\tvalid_1's binary_logloss: 0.296636\n",
      "[600]\ttraining's binary_logloss: 0.283914\tvalid_1's binary_logloss: 0.296543\n",
      "[700]\ttraining's binary_logloss: 0.28168\tvalid_1's binary_logloss: 0.296528\n",
      "Early stopping, best iteration is:\n",
      "[671]\ttraining's binary_logloss: 0.282317\tvalid_1's binary_logloss: 0.296492\n"
     ]
    },
    {
     "name": "stderr",
     "output_type": "stream",
     "text": [
      "tune_feature_fraction, val_score: 0.296207:  57%|#####7    | 4/7 [01:35<01:12, 24.03s/it][I 2020-03-24 16:57:29,969] Finished trial#3 resulted in value: 0.29649196281264084. Current best value is 0.296206595182241 with parameters: {'feature_fraction': 0.5}.\n",
      "tune_feature_fraction, val_score: 0.296207:  57%|#####7    | 4/7 [01:35<01:12, 24.03s/it]"
     ]
    },
    {
     "name": "stdout",
     "output_type": "stream",
     "text": [
      "Training until validation scores don't improve for 100 rounds\n",
      "[100]\ttraining's binary_logloss: 0.297629\tvalid_1's binary_logloss: 0.298333\n",
      "[200]\ttraining's binary_logloss: 0.294001\tvalid_1's binary_logloss: 0.297457\n",
      "[300]\ttraining's binary_logloss: 0.291207\tvalid_1's binary_logloss: 0.297112\n",
      "[400]\ttraining's binary_logloss: 0.288627\tvalid_1's binary_logloss: 0.296952\n",
      "[500]\ttraining's binary_logloss: 0.286087\tvalid_1's binary_logloss: 0.296789\n",
      "[600]\ttraining's binary_logloss: 0.283725\tvalid_1's binary_logloss: 0.296669\n",
      "[700]\ttraining's binary_logloss: 0.281237\tvalid_1's binary_logloss: 0.296663\n",
      "[800]\ttraining's binary_logloss: 0.278956\tvalid_1's binary_logloss: 0.29657\n",
      "[900]\ttraining's binary_logloss: 0.27673\tvalid_1's binary_logloss: 0.296423\n",
      "[1000]\ttraining's binary_logloss: 0.274512\tvalid_1's binary_logloss: 0.296399\n",
      "Did not meet early stopping. Best iteration is:\n",
      "[1000]\ttraining's binary_logloss: 0.274512\tvalid_1's binary_logloss: 0.296399\n"
     ]
    },
    {
     "name": "stderr",
     "output_type": "stream",
     "text": [
      "tune_feature_fraction, val_score: 0.296207:  71%|#######1  | 5/7 [02:04<00:51, 25.52s/it][I 2020-03-24 16:57:59,220] Finished trial#4 resulted in value: 0.2963994830272432. Current best value is 0.296206595182241 with parameters: {'feature_fraction': 0.5}.\n",
      "tune_feature_fraction, val_score: 0.296207:  71%|#######1  | 5/7 [02:05<00:51, 25.52s/it]"
     ]
    },
    {
     "name": "stdout",
     "output_type": "stream",
     "text": [
      "Training until validation scores don't improve for 100 rounds\n",
      "[100]\ttraining's binary_logloss: 0.297531\tvalid_1's binary_logloss: 0.298161\n",
      "[200]\ttraining's binary_logloss: 0.294025\tvalid_1's binary_logloss: 0.297488\n",
      "[300]\ttraining's binary_logloss: 0.291166\tvalid_1's binary_logloss: 0.297274\n",
      "[400]\ttraining's binary_logloss: 0.288433\tvalid_1's binary_logloss: 0.296917\n",
      "[500]\ttraining's binary_logloss: 0.285805\tvalid_1's binary_logloss: 0.296751\n",
      "[600]\ttraining's binary_logloss: 0.2833\tvalid_1's binary_logloss: 0.296588\n",
      "[700]\ttraining's binary_logloss: 0.280796\tvalid_1's binary_logloss: 0.296578\n",
      "Early stopping, best iteration is:\n",
      "[675]\ttraining's binary_logloss: 0.281312\tvalid_1's binary_logloss: 0.296528\n"
     ]
    },
    {
     "name": "stderr",
     "output_type": "stream",
     "text": [
      "tune_feature_fraction, val_score: 0.296207:  86%|########5 | 6/7 [02:53<00:32, 32.56s/it][I 2020-03-24 16:58:47,986] Finished trial#5 resulted in value: 0.296527902771044. Current best value is 0.296206595182241 with parameters: {'feature_fraction': 0.5}.\n",
      "tune_feature_fraction, val_score: 0.296207:  86%|########5 | 6/7 [02:53<00:32, 32.56s/it]"
     ]
    },
    {
     "name": "stdout",
     "output_type": "stream",
     "text": [
      "Training until validation scores don't improve for 100 rounds\n",
      "[100]\ttraining's binary_logloss: 0.297486\tvalid_1's binary_logloss: 0.298135\n",
      "[200]\ttraining's binary_logloss: 0.293997\tvalid_1's binary_logloss: 0.297469\n",
      "[300]\ttraining's binary_logloss: 0.291067\tvalid_1's binary_logloss: 0.297175\n",
      "[400]\ttraining's binary_logloss: 0.288309\tvalid_1's binary_logloss: 0.296934\n",
      "[500]\ttraining's binary_logloss: 0.285792\tvalid_1's binary_logloss: 0.296839\n",
      "[600]\ttraining's binary_logloss: 0.2834\tvalid_1's binary_logloss: 0.296684\n",
      "[700]\ttraining's binary_logloss: 0.280983\tvalid_1's binary_logloss: 0.29661\n",
      "[800]\ttraining's binary_logloss: 0.278526\tvalid_1's binary_logloss: 0.296577\n",
      "[900]\ttraining's binary_logloss: 0.276181\tvalid_1's binary_logloss: 0.296484\n",
      "Early stopping, best iteration is:\n",
      "[890]\ttraining's binary_logloss: 0.276386\tvalid_1's binary_logloss: 0.296459\n"
     ]
    },
    {
     "name": "stderr",
     "output_type": "stream",
     "text": [
      "tune_feature_fraction, val_score: 0.296207: 100%|##########| 7/7 [03:51<00:00, 40.21s/it][I 2020-03-24 16:59:46,035] Finished trial#6 resulted in value: 0.2964587399922098. Current best value is 0.296206595182241 with parameters: {'feature_fraction': 0.5}.\n",
      "tune_feature_fraction, val_score: 0.296207: 100%|##########| 7/7 [03:51<00:00, 33.14s/it]\n",
      "tune_num_leaves, val_score: 0.296207:   0%|          | 0/20 [00:00<?, ?it/s]"
     ]
    },
    {
     "name": "stdout",
     "output_type": "stream",
     "text": [
      "Training until validation scores don't improve for 100 rounds\n",
      "[100]\ttraining's binary_logloss: 0.283551\tvalid_1's binary_logloss: 0.296439\n",
      "[200]\ttraining's binary_logloss: 0.272403\tvalid_1's binary_logloss: 0.296409\n",
      "Early stopping, best iteration is:\n",
      "[172]\ttraining's binary_logloss: 0.275138\tvalid_1's binary_logloss: 0.296361\n"
     ]
    },
    {
     "name": "stderr",
     "output_type": "stream",
     "text": [
      "tune_num_leaves, val_score: 0.296207:   5%|5         | 1/20 [00:11<03:38, 11.52s/it][I 2020-03-24 16:59:57,680] Finished trial#0 resulted in value: 0.2963613150872526. Current best value is 0.2963613150872526 with parameters: {'num_leaves': 167}.\n",
      "tune_num_leaves, val_score: 0.296207:   5%|5         | 1/20 [00:11<03:38, 11.52s/it]"
     ]
    },
    {
     "name": "stdout",
     "output_type": "stream",
     "text": [
      "Training until validation scores don't improve for 100 rounds\n",
      "[100]\ttraining's binary_logloss: 0.286659\tvalid_1's binary_logloss: 0.296475\n",
      "[200]\ttraining's binary_logloss: 0.276888\tvalid_1's binary_logloss: 0.296282\n",
      "[300]\ttraining's binary_logloss: 0.268529\tvalid_1's binary_logloss: 0.296258\n",
      "Early stopping, best iteration is:\n",
      "[253]\ttraining's binary_logloss: 0.272233\tvalid_1's binary_logloss: 0.296192\n"
     ]
    },
    {
     "name": "stderr",
     "output_type": "stream",
     "text": [
      "tune_num_leaves, val_score: 0.296192:  10%|#         | 2/20 [00:25<03:38, 12.16s/it][I 2020-03-24 17:00:11,332] Finished trial#1 resulted in value: 0.2961915324300209. Current best value is 0.2961915324300209 with parameters: {'num_leaves': 135}.\n",
      "tune_num_leaves, val_score: 0.296192:  10%|#         | 2/20 [00:25<03:38, 12.16s/it]"
     ]
    },
    {
     "name": "stdout",
     "output_type": "stream",
     "text": [
      "Training until validation scores don't improve for 100 rounds\n",
      "[100]\ttraining's binary_logloss: 0.290729\tvalid_1's binary_logloss: 0.296728\n",
      "[200]\ttraining's binary_logloss: 0.283523\tvalid_1's binary_logloss: 0.296363\n",
      "[300]\ttraining's binary_logloss: 0.27741\tvalid_1's binary_logloss: 0.296341\n",
      "Early stopping, best iteration is:\n",
      "[270]\ttraining's binary_logloss: 0.279224\tvalid_1's binary_logloss: 0.296273\n"
     ]
    },
    {
     "name": "stderr",
     "output_type": "stream",
     "text": [
      "tune_num_leaves, val_score: 0.296192:  15%|#5        | 3/20 [00:37<03:28, 12.27s/it][I 2020-03-24 17:00:23,845] Finished trial#2 resulted in value: 0.2962725029177746. Current best value is 0.2961915324300209 with parameters: {'num_leaves': 135}.\n",
      "tune_num_leaves, val_score: 0.296192:  15%|#5        | 3/20 [00:37<03:28, 12.27s/it]"
     ]
    },
    {
     "name": "stdout",
     "output_type": "stream",
     "text": [
      "Training until validation scores don't improve for 100 rounds\n",
      "[100]\ttraining's binary_logloss: 0.297365\tvalid_1's binary_logloss: 0.298137\n",
      "[200]\ttraining's binary_logloss: 0.293948\tvalid_1's binary_logloss: 0.297459\n",
      "[300]\ttraining's binary_logloss: 0.291064\tvalid_1's binary_logloss: 0.29719\n",
      "[400]\ttraining's binary_logloss: 0.288494\tvalid_1's binary_logloss: 0.296875\n",
      "[500]\ttraining's binary_logloss: 0.286029\tvalid_1's binary_logloss: 0.296702\n",
      "[600]\ttraining's binary_logloss: 0.283475\tvalid_1's binary_logloss: 0.296465\n",
      "[700]\ttraining's binary_logloss: 0.281209\tvalid_1's binary_logloss: 0.296409\n",
      "[800]\ttraining's binary_logloss: 0.27889\tvalid_1's binary_logloss: 0.296309\n",
      "[900]\ttraining's binary_logloss: 0.276842\tvalid_1's binary_logloss: 0.296317\n",
      "[1000]\ttraining's binary_logloss: 0.274739\tvalid_1's binary_logloss: 0.29625\n",
      "Did not meet early stopping. Best iteration is:\n",
      "[1000]\ttraining's binary_logloss: 0.274739\tvalid_1's binary_logloss: 0.29625\n"
     ]
    },
    {
     "name": "stderr",
     "output_type": "stream",
     "text": [
      "tune_num_leaves, val_score: 0.296192:  20%|##        | 4/20 [01:08<04:44, 17.81s/it][I 2020-03-24 17:00:54,627] Finished trial#3 resulted in value: 0.2962504288660096. Current best value is 0.2961915324300209 with parameters: {'num_leaves': 135}.\n",
      "tune_num_leaves, val_score: 0.296192:  20%|##        | 4/20 [01:08<04:44, 17.81s/it]"
     ]
    },
    {
     "name": "stdout",
     "output_type": "stream",
     "text": [
      "Training until validation scores don't improve for 100 rounds\n",
      "[100]\ttraining's binary_logloss: 0.290184\tvalid_1's binary_logloss: 0.296801\n",
      "[200]\ttraining's binary_logloss: 0.2826\tvalid_1's binary_logloss: 0.296553\n",
      "[300]\ttraining's binary_logloss: 0.276238\tvalid_1's binary_logloss: 0.296522\n",
      "Early stopping, best iteration is:\n",
      "[247]\ttraining's binary_logloss: 0.279439\tvalid_1's binary_logloss: 0.296475\n"
     ]
    },
    {
     "name": "stderr",
     "output_type": "stream",
     "text": [
      "tune_num_leaves, val_score: 0.296192:  25%|##5       | 5/20 [01:49<06:12, 24.85s/it][I 2020-03-24 17:01:35,976] Finished trial#4 resulted in value: 0.2964745346743997. Current best value is 0.2961915324300209 with parameters: {'num_leaves': 135}.\n",
      "tune_num_leaves, val_score: 0.296192:  25%|##5       | 5/20 [01:49<06:12, 24.85s/it]"
     ]
    },
    {
     "name": "stdout",
     "output_type": "stream",
     "text": [
      "Training until validation scores don't improve for 100 rounds\n",
      "[100]\ttraining's binary_logloss: 0.27765\tvalid_1's binary_logloss: 0.296618\n",
      "[200]\ttraining's binary_logloss: 0.263297\tvalid_1's binary_logloss: 0.296804\n",
      "Early stopping, best iteration is:\n",
      "[110]\ttraining's binary_logloss: 0.276006\tvalid_1's binary_logloss: 0.296584\n"
     ]
    },
    {
     "name": "stderr",
     "output_type": "stream",
     "text": [
      "tune_num_leaves, val_score: 0.296192:  30%|###       | 6/20 [02:23<06:27, 27.67s/it][I 2020-03-24 17:02:10,394] Finished trial#5 resulted in value: 0.29658360740904605. Current best value is 0.2961915324300209 with parameters: {'num_leaves': 135}.\n",
      "tune_num_leaves, val_score: 0.296192:  30%|###       | 6/20 [02:24<06:27, 27.67s/it]"
     ]
    },
    {
     "name": "stdout",
     "output_type": "stream",
     "text": [
      "Training until validation scores don't improve for 100 rounds\n",
      "[100]\ttraining's binary_logloss: 0.294051\tvalid_1's binary_logloss: 0.297321\n",
      "[200]\ttraining's binary_logloss: 0.288903\tvalid_1's binary_logloss: 0.296871\n",
      "[300]\ttraining's binary_logloss: 0.284516\tvalid_1's binary_logloss: 0.2967\n",
      "[400]\ttraining's binary_logloss: 0.280626\tvalid_1's binary_logloss: 0.296653\n",
      "[500]\ttraining's binary_logloss: 0.276714\tvalid_1's binary_logloss: 0.29667\n",
      "Early stopping, best iteration is:\n",
      "[456]\ttraining's binary_logloss: 0.278446\tvalid_1's binary_logloss: 0.29657\n"
     ]
    },
    {
     "name": "stderr",
     "output_type": "stream",
     "text": [
      "tune_num_leaves, val_score: 0.296192:  35%|###5      | 7/20 [02:41<05:18, 24.52s/it][I 2020-03-24 17:02:27,301] Finished trial#6 resulted in value: 0.296569926132007. Current best value is 0.2961915324300209 with parameters: {'num_leaves': 135}.\n",
      "tune_num_leaves, val_score: 0.296192:  35%|###5      | 7/20 [02:41<05:18, 24.52s/it]"
     ]
    },
    {
     "name": "stdout",
     "output_type": "stream",
     "text": [
      "Training until validation scores don't improve for 100 rounds\n",
      "[100]\ttraining's binary_logloss: 0.279632\tvalid_1's binary_logloss: 0.296467\n",
      "[200]\ttraining's binary_logloss: 0.265658\tvalid_1's binary_logloss: 0.296403\n",
      "Early stopping, best iteration is:\n",
      "[124]\ttraining's binary_logloss: 0.275985\tvalid_1's binary_logloss: 0.296368\n"
     ]
    },
    {
     "name": "stderr",
     "output_type": "stream",
     "text": [
      "tune_num_leaves, val_score: 0.296192:  40%|####      | 8/20 [02:52<04:05, 20.48s/it][I 2020-03-24 17:02:38,359] Finished trial#7 resulted in value: 0.2963678381175599. Current best value is 0.2961915324300209 with parameters: {'num_leaves': 135}.\n",
      "tune_num_leaves, val_score: 0.296192:  40%|####      | 8/20 [02:52<04:05, 20.48s/it]"
     ]
    },
    {
     "name": "stdout",
     "output_type": "stream",
     "text": [
      "Training until validation scores don't improve for 100 rounds\n",
      "[100]\ttraining's binary_logloss: 0.294202\tvalid_1's binary_logloss: 0.297218\n",
      "[200]\ttraining's binary_logloss: 0.289033\tvalid_1's binary_logloss: 0.296749\n",
      "[300]\ttraining's binary_logloss: 0.284853\tvalid_1's binary_logloss: 0.296759\n",
      "Early stopping, best iteration is:\n",
      "[250]\ttraining's binary_logloss: 0.286873\tvalid_1's binary_logloss: 0.296725\n"
     ]
    },
    {
     "name": "stderr",
     "output_type": "stream",
     "text": [
      "tune_num_leaves, val_score: 0.296192:  45%|####5     | 9/20 [03:03<03:15, 17.74s/it][I 2020-03-24 17:02:49,731] Finished trial#8 resulted in value: 0.29672483627620333. Current best value is 0.2961915324300209 with parameters: {'num_leaves': 135}.\n",
      "tune_num_leaves, val_score: 0.296192:  45%|####5     | 9/20 [03:03<03:15, 17.74s/it]"
     ]
    },
    {
     "name": "stdout",
     "output_type": "stream",
     "text": [
      "Training until validation scores don't improve for 100 rounds\n",
      "[100]\ttraining's binary_logloss: 0.288262\tvalid_1's binary_logloss: 0.296644\n",
      "[200]\ttraining's binary_logloss: 0.279569\tvalid_1's binary_logloss: 0.296442\n",
      "[300]\ttraining's binary_logloss: 0.272501\tvalid_1's binary_logloss: 0.296467\n",
      "Early stopping, best iteration is:\n",
      "[247]\ttraining's binary_logloss: 0.276219\tvalid_1's binary_logloss: 0.296396\n"
     ]
    },
    {
     "name": "stderr",
     "output_type": "stream",
     "text": [
      "tune_num_leaves, val_score: 0.296192:  50%|#####     | 10/20 [03:16<02:44, 16.41s/it][I 2020-03-24 17:03:03,037] Finished trial#9 resulted in value: 0.29639612398802695. Current best value is 0.2961915324300209 with parameters: {'num_leaves': 135}.\n",
      "tune_num_leaves, val_score: 0.296192:  50%|#####     | 10/20 [03:16<02:44, 16.41s/it]"
     ]
    },
    {
     "name": "stdout",
     "output_type": "stream",
     "text": [
      "Training until validation scores don't improve for 100 rounds\n",
      "[100]\ttraining's binary_logloss: 0.283197\tvalid_1's binary_logloss: 0.296583\n",
      "[200]\ttraining's binary_logloss: 0.271249\tvalid_1's binary_logloss: 0.296544\n",
      "Early stopping, best iteration is:\n",
      "[174]\ttraining's binary_logloss: 0.274066\tvalid_1's binary_logloss: 0.296457\n"
     ]
    },
    {
     "name": "stderr",
     "output_type": "stream",
     "text": [
      "tune_num_leaves, val_score: 0.296192:  55%|#####5    | 11/20 [03:28<02:16, 15.13s/it][I 2020-03-24 17:03:15,178] Finished trial#10 resulted in value: 0.2964567040200044. Current best value is 0.2961915324300209 with parameters: {'num_leaves': 135}.\n",
      "tune_num_leaves, val_score: 0.296192:  55%|#####5    | 11/20 [03:29<02:16, 15.13s/it]"
     ]
    },
    {
     "name": "stdout",
     "output_type": "stream",
     "text": [
      "Training until validation scores don't improve for 100 rounds\n",
      "[100]\ttraining's binary_logloss: 0.302999\tvalid_1's binary_logloss: 0.301579\n",
      "[200]\ttraining's binary_logloss: 0.300956\tvalid_1's binary_logloss: 0.299861\n",
      "[300]\ttraining's binary_logloss: 0.299803\tvalid_1's binary_logloss: 0.299148\n",
      "[400]\ttraining's binary_logloss: 0.298889\tvalid_1's binary_logloss: 0.298724\n",
      "[500]\ttraining's binary_logloss: 0.298102\tvalid_1's binary_logloss: 0.298399\n",
      "[600]\ttraining's binary_logloss: 0.297295\tvalid_1's binary_logloss: 0.298013\n",
      "[700]\ttraining's binary_logloss: 0.296647\tvalid_1's binary_logloss: 0.297857\n",
      "[800]\ttraining's binary_logloss: 0.295975\tvalid_1's binary_logloss: 0.29764\n",
      "[900]\ttraining's binary_logloss: 0.2953\tvalid_1's binary_logloss: 0.297412\n",
      "[1000]\ttraining's binary_logloss: 0.294689\tvalid_1's binary_logloss: 0.29724\n",
      "Did not meet early stopping. Best iteration is:\n",
      "[1000]\ttraining's binary_logloss: 0.294689\tvalid_1's binary_logloss: 0.29724\n"
     ]
    },
    {
     "name": "stderr",
     "output_type": "stream",
     "text": [
      "tune_num_leaves, val_score: 0.296192:  60%|######    | 12/20 [04:09<03:01, 22.72s/it][I 2020-03-24 17:03:55,665] Finished trial#11 resulted in value: 0.2972397633876743. Current best value is 0.2961915324300209 with parameters: {'num_leaves': 135}.\n",
      "tune_num_leaves, val_score: 0.296192:  60%|######    | 12/20 [04:09<03:01, 22.72s/it]"
     ]
    },
    {
     "name": "stdout",
     "output_type": "stream",
     "text": [
      "Training until validation scores don't improve for 100 rounds\n",
      "[100]\ttraining's binary_logloss: 0.283831\tvalid_1's binary_logloss: 0.296463\n",
      "[200]\ttraining's binary_logloss: 0.272477\tvalid_1's binary_logloss: 0.296315\n",
      "Early stopping, best iteration is:\n",
      "[174]\ttraining's binary_logloss: 0.275285\tvalid_1's binary_logloss: 0.296193\n"
     ]
    },
    {
     "name": "stderr",
     "output_type": "stream",
     "text": [
      "tune_num_leaves, val_score: 0.296192:  65%|######5   | 13/20 [04:43<03:03, 26.17s/it][I 2020-03-24 17:04:29,797] Finished trial#12 resulted in value: 0.2961933674261674. Current best value is 0.2961915324300209 with parameters: {'num_leaves': 135}.\n",
      "tune_num_leaves, val_score: 0.296192:  65%|######5   | 13/20 [04:43<03:03, 26.17s/it]"
     ]
    },
    {
     "name": "stdout",
     "output_type": "stream",
     "text": [
      "Training until validation scores don't improve for 100 rounds\n",
      "[100]\ttraining's binary_logloss: 0.284265\tvalid_1's binary_logloss: 0.296471\n",
      "[200]\ttraining's binary_logloss: 0.272849\tvalid_1's binary_logloss: 0.296324\n",
      "Early stopping, best iteration is:\n",
      "[138]\ttraining's binary_logloss: 0.27964\tvalid_1's binary_logloss: 0.296285\n"
     ]
    },
    {
     "name": "stderr",
     "output_type": "stream",
     "text": [
      "tune_num_leaves, val_score: 0.296192:  70%|#######   | 14/20 [04:54<02:09, 21.54s/it][I 2020-03-24 17:04:40,501] Finished trial#13 resulted in value: 0.2962850107959426. Current best value is 0.2961915324300209 with parameters: {'num_leaves': 135}.\n",
      "tune_num_leaves, val_score: 0.296192:  70%|#######   | 14/20 [04:54<02:09, 21.54s/it]"
     ]
    },
    {
     "name": "stdout",
     "output_type": "stream",
     "text": [
      "Training until validation scores don't improve for 100 rounds\n",
      "[100]\ttraining's binary_logloss: 0.281165\tvalid_1's binary_logloss: 0.296502\n",
      "[200]\ttraining's binary_logloss: 0.268294\tvalid_1's binary_logloss: 0.296565\n",
      "Early stopping, best iteration is:\n",
      "[144]\ttraining's binary_logloss: 0.274956\tvalid_1's binary_logloss: 0.296315\n"
     ]
    },
    {
     "name": "stderr",
     "output_type": "stream",
     "text": [
      "tune_num_leaves, val_score: 0.296192:  75%|#######5  | 15/20 [05:05<01:32, 18.46s/it][I 2020-03-24 17:04:51,779] Finished trial#14 resulted in value: 0.29631470687676853. Current best value is 0.2961915324300209 with parameters: {'num_leaves': 135}.\n",
      "tune_num_leaves, val_score: 0.296192:  75%|#######5  | 15/20 [05:05<01:32, 18.46s/it]"
     ]
    },
    {
     "name": "stdout",
     "output_type": "stream",
     "text": [
      "Training until validation scores don't improve for 100 rounds\n",
      "[100]\ttraining's binary_logloss: 0.286139\tvalid_1's binary_logloss: 0.296552\n",
      "[200]\ttraining's binary_logloss: 0.27594\tvalid_1's binary_logloss: 0.296438\n",
      "Early stopping, best iteration is:\n",
      "[181]\ttraining's binary_logloss: 0.277745\tvalid_1's binary_logloss: 0.296385\n"
     ]
    },
    {
     "name": "stderr",
     "output_type": "stream",
     "text": [
      "tune_num_leaves, val_score: 0.296192:  80%|########  | 16/20 [05:40<01:33, 23.37s/it][I 2020-03-24 17:05:26,616] Finished trial#15 resulted in value: 0.2963854160349623. Current best value is 0.2961915324300209 with parameters: {'num_leaves': 135}.\n",
      "tune_num_leaves, val_score: 0.296192:  80%|########  | 16/20 [05:40<01:33, 23.37s/it]"
     ]
    },
    {
     "name": "stdout",
     "output_type": "stream",
     "text": [
      "Training until validation scores don't improve for 100 rounds\n",
      "[100]\ttraining's binary_logloss: 0.276696\tvalid_1's binary_logloss: 0.29656\n",
      "[200]\ttraining's binary_logloss: 0.261896\tvalid_1's binary_logloss: 0.296603\n",
      "Early stopping, best iteration is:\n",
      "[156]\ttraining's binary_logloss: 0.268032\tvalid_1's binary_logloss: 0.296336\n"
     ]
    },
    {
     "name": "stderr",
     "output_type": "stream",
     "text": [
      "tune_num_leaves, val_score: 0.296192:  85%|########5 | 17/20 [06:35<01:38, 32.89s/it][I 2020-03-24 17:06:21,809] Finished trial#16 resulted in value: 0.29633570275033305. Current best value is 0.2961915324300209 with parameters: {'num_leaves': 135}.\n",
      "tune_num_leaves, val_score: 0.296192:  85%|########5 | 17/20 [06:35<01:38, 32.89s/it]"
     ]
    },
    {
     "name": "stdout",
     "output_type": "stream",
     "text": [
      "Training until validation scores don't improve for 100 rounds\n",
      "[100]\ttraining's binary_logloss: 0.286659\tvalid_1's binary_logloss: 0.296475\n",
      "[200]\ttraining's binary_logloss: 0.276888\tvalid_1's binary_logloss: 0.296282\n",
      "[300]\ttraining's binary_logloss: 0.268529\tvalid_1's binary_logloss: 0.296258\n",
      "Early stopping, best iteration is:\n",
      "[253]\ttraining's binary_logloss: 0.272233\tvalid_1's binary_logloss: 0.296192\n"
     ]
    },
    {
     "name": "stderr",
     "output_type": "stream",
     "text": [
      "tune_num_leaves, val_score: 0.296192:  90%|######### | 18/20 [07:29<01:18, 39.26s/it][I 2020-03-24 17:07:15,928] Finished trial#17 resulted in value: 0.296191532430021. Current best value is 0.2961915324300209 with parameters: {'num_leaves': 135}.\n",
      "tune_num_leaves, val_score: 0.296192:  90%|######### | 18/20 [07:29<01:18, 39.26s/it]"
     ]
    },
    {
     "name": "stdout",
     "output_type": "stream",
     "text": [
      "Training until validation scores don't improve for 100 rounds\n",
      "[100]\ttraining's binary_logloss: 0.286454\tvalid_1's binary_logloss: 0.296725\n",
      "[200]\ttraining's binary_logloss: 0.276767\tvalid_1's binary_logloss: 0.296543\n",
      "Early stopping, best iteration is:\n",
      "[144]\ttraining's binary_logloss: 0.281874\tvalid_1's binary_logloss: 0.29649\n"
     ]
    },
    {
     "name": "stderr",
     "output_type": "stream",
     "text": [
      "tune_num_leaves, val_score: 0.296192:  95%|#########5| 19/20 [07:54<00:34, 35.00s/it][I 2020-03-24 17:07:40,886] Finished trial#18 resulted in value: 0.29649009180620983. Current best value is 0.2961915324300209 with parameters: {'num_leaves': 135}.\n",
      "tune_num_leaves, val_score: 0.296192:  95%|#########5| 19/20 [07:54<00:34, 35.00s/it]"
     ]
    },
    {
     "name": "stdout",
     "output_type": "stream",
     "text": [
      "Training until validation scores don't improve for 100 rounds\n",
      "[100]\ttraining's binary_logloss: 0.289513\tvalid_1's binary_logloss: 0.296836\n",
      "[200]\ttraining's binary_logloss: 0.281527\tvalid_1's binary_logloss: 0.296348\n",
      "[300]\ttraining's binary_logloss: 0.275259\tvalid_1's binary_logloss: 0.296399\n",
      "Early stopping, best iteration is:\n",
      "[231]\ttraining's binary_logloss: 0.279312\tvalid_1's binary_logloss: 0.296299\n"
     ]
    },
    {
     "name": "stderr",
     "output_type": "stream",
     "text": [
      "tune_num_leaves, val_score: 0.296192: 100%|##########| 20/20 [08:06<00:00, 28.12s/it][I 2020-03-24 17:07:53,003] Finished trial#19 resulted in value: 0.2962990565902934. Current best value is 0.2961915324300209 with parameters: {'num_leaves': 135}.\n",
      "tune_num_leaves, val_score: 0.296192: 100%|##########| 20/20 [08:06<00:00, 24.35s/it]\n",
      "tune_bagging_fraction_and_bagging_freq, val_score: 0.296192:   0%|          | 0/10 [00:00<?, ?it/s]"
     ]
    },
    {
     "name": "stdout",
     "output_type": "stream",
     "text": [
      "Training until validation scores don't improve for 100 rounds\n",
      "[100]\ttraining's binary_logloss: 0.286954\tvalid_1's binary_logloss: 0.297188\n",
      "[200]\ttraining's binary_logloss: 0.27664\tvalid_1's binary_logloss: 0.297228\n",
      "Early stopping, best iteration is:\n",
      "[121]\ttraining's binary_logloss: 0.284598\tvalid_1's binary_logloss: 0.297011\n"
     ]
    },
    {
     "name": "stderr",
     "output_type": "stream",
     "text": [
      "tune_bagging_fraction_and_bagging_freq, val_score: 0.296192:  10%|#         | 1/10 [00:08<01:16,  8.49s/it][I 2020-03-24 17:08:01,686] Finished trial#0 resulted in value: 0.2970108546768092. Current best value is 0.2970108546768092 with parameters: {'bagging_fraction': 0.5743391153838853, 'bagging_freq': 7}.\n",
      "tune_bagging_fraction_and_bagging_freq, val_score: 0.296192:  10%|#         | 1/10 [00:08<01:16,  8.49s/it]"
     ]
    },
    {
     "name": "stdout",
     "output_type": "stream",
     "text": [
      "Training until validation scores don't improve for 100 rounds\n",
      "[100]\ttraining's binary_logloss: 0.286534\tvalid_1's binary_logloss: 0.296586\n",
      "[200]\ttraining's binary_logloss: 0.276106\tvalid_1's binary_logloss: 0.296601\n",
      "Early stopping, best iteration is:\n",
      "[122]\ttraining's binary_logloss: 0.284061\tvalid_1's binary_logloss: 0.29643\n"
     ]
    },
    {
     "name": "stderr",
     "output_type": "stream",
     "text": [
      "tune_bagging_fraction_and_bagging_freq, val_score: 0.296192:  20%|##        | 2/10 [00:18<01:11,  8.91s/it][I 2020-03-24 17:08:11,520] Finished trial#1 resulted in value: 0.296430061323361. Current best value is 0.296430061323361 with parameters: {'bagging_fraction': 0.7952323451072644, 'bagging_freq': 5}.\n",
      "tune_bagging_fraction_and_bagging_freq, val_score: 0.296192:  20%|##        | 2/10 [00:18<01:11,  8.91s/it]"
     ]
    },
    {
     "name": "stdout",
     "output_type": "stream",
     "text": [
      "Training until validation scores don't improve for 100 rounds\n",
      "[100]\ttraining's binary_logloss: 0.287358\tvalid_1's binary_logloss: 0.297646\n",
      "[200]\ttraining's binary_logloss: 0.277142\tvalid_1's binary_logloss: 0.298033\n",
      "Early stopping, best iteration is:\n",
      "[101]\ttraining's binary_logloss: 0.287271\tvalid_1's binary_logloss: 0.297627\n"
     ]
    },
    {
     "name": "stderr",
     "output_type": "stream",
     "text": [
      "tune_bagging_fraction_and_bagging_freq, val_score: 0.296192:  30%|###       | 3/10 [00:25<00:58,  8.38s/it][I 2020-03-24 17:08:18,654] Finished trial#2 resulted in value: 0.29762717229832747. Current best value is 0.296430061323361 with parameters: {'bagging_fraction': 0.7952323451072644, 'bagging_freq': 5}.\n",
      "tune_bagging_fraction_and_bagging_freq, val_score: 0.296192:  30%|###       | 3/10 [00:25<00:58,  8.38s/it]"
     ]
    },
    {
     "name": "stdout",
     "output_type": "stream",
     "text": [
      "Training until validation scores don't improve for 100 rounds\n",
      "[100]\ttraining's binary_logloss: 0.286808\tvalid_1's binary_logloss: 0.297393\n",
      "[200]\ttraining's binary_logloss: 0.27633\tvalid_1's binary_logloss: 0.297271\n",
      "Early stopping, best iteration is:\n",
      "[142]\ttraining's binary_logloss: 0.282252\tvalid_1's binary_logloss: 0.297117\n"
     ]
    },
    {
     "name": "stderr",
     "output_type": "stream",
     "text": [
      "tune_bagging_fraction_and_bagging_freq, val_score: 0.296192:  40%|####      | 4/10 [00:35<00:53,  8.84s/it][I 2020-03-24 17:08:28,585] Finished trial#3 resulted in value: 0.2971170305694555. Current best value is 0.296430061323361 with parameters: {'bagging_fraction': 0.7952323451072644, 'bagging_freq': 5}.\n",
      "tune_bagging_fraction_and_bagging_freq, val_score: 0.296192:  40%|####      | 4/10 [00:35<00:53,  8.84s/it]"
     ]
    },
    {
     "name": "stdout",
     "output_type": "stream",
     "text": [
      "Training until validation scores don't improve for 100 rounds\n",
      "[100]\ttraining's binary_logloss: 0.286588\tvalid_1's binary_logloss: 0.296857\n",
      "[200]\ttraining's binary_logloss: 0.276306\tvalid_1's binary_logloss: 0.296657\n",
      "Early stopping, best iteration is:\n",
      "[131]\ttraining's binary_logloss: 0.283126\tvalid_1's binary_logloss: 0.296597\n"
     ]
    },
    {
     "name": "stderr",
     "output_type": "stream",
     "text": [
      "tune_bagging_fraction_and_bagging_freq, val_score: 0.296192:  50%|#####     | 5/10 [00:45<00:46,  9.28s/it][I 2020-03-24 17:08:38,888] Finished trial#4 resulted in value: 0.2965972945849483. Current best value is 0.296430061323361 with parameters: {'bagging_fraction': 0.7952323451072644, 'bagging_freq': 5}.\n",
      "tune_bagging_fraction_and_bagging_freq, val_score: 0.296192:  50%|#####     | 5/10 [00:45<00:46,  9.28s/it]"
     ]
    },
    {
     "name": "stdout",
     "output_type": "stream",
     "text": [
      "Training until validation scores don't improve for 100 rounds\n",
      "[100]\ttraining's binary_logloss: 0.286514\tvalid_1's binary_logloss: 0.296945\n",
      "[200]\ttraining's binary_logloss: 0.276167\tvalid_1's binary_logloss: 0.296775\n",
      "[300]\ttraining's binary_logloss: 0.267009\tvalid_1's binary_logloss: 0.296913\n",
      "Early stopping, best iteration is:\n",
      "[224]\ttraining's binary_logloss: 0.273878\tvalid_1's binary_logloss: 0.296678\n"
     ]
    },
    {
     "name": "stderr",
     "output_type": "stream",
     "text": [
      "tune_bagging_fraction_and_bagging_freq, val_score: 0.296192:  60%|######    | 6/10 [00:58<00:41, 10.36s/it][I 2020-03-24 17:08:51,737] Finished trial#5 resulted in value: 0.2966780155226056. Current best value is 0.296430061323361 with parameters: {'bagging_fraction': 0.7952323451072644, 'bagging_freq': 5}.\n",
      "tune_bagging_fraction_and_bagging_freq, val_score: 0.296192:  60%|######    | 6/10 [00:58<00:41, 10.36s/it]"
     ]
    },
    {
     "name": "stdout",
     "output_type": "stream",
     "text": [
      "Training until validation scores don't improve for 100 rounds\n",
      "[100]\ttraining's binary_logloss: 0.287365\tvalid_1's binary_logloss: 0.297723\n",
      "[200]\ttraining's binary_logloss: 0.277005\tvalid_1's binary_logloss: 0.297952\n",
      "Early stopping, best iteration is:\n",
      "[108]\ttraining's binary_logloss: 0.28644\tvalid_1's binary_logloss: 0.2977\n"
     ]
    },
    {
     "name": "stderr",
     "output_type": "stream",
     "text": [
      "tune_bagging_fraction_and_bagging_freq, val_score: 0.296192:  70%|#######   | 7/10 [01:06<00:28,  9.57s/it][I 2020-03-24 17:08:59,660] Finished trial#6 resulted in value: 0.2976995386614385. Current best value is 0.296430061323361 with parameters: {'bagging_fraction': 0.7952323451072644, 'bagging_freq': 5}.\n",
      "tune_bagging_fraction_and_bagging_freq, val_score: 0.296192:  70%|#######   | 7/10 [01:06<00:28,  9.57s/it]"
     ]
    },
    {
     "name": "stdout",
     "output_type": "stream",
     "text": [
      "Training until validation scores don't improve for 100 rounds\n",
      "[100]\ttraining's binary_logloss: 0.286464\tvalid_1's binary_logloss: 0.296796\n",
      "[200]\ttraining's binary_logloss: 0.275992\tvalid_1's binary_logloss: 0.296731\n",
      "Early stopping, best iteration is:\n",
      "[124]\ttraining's binary_logloss: 0.283737\tvalid_1's binary_logloss: 0.296643\n"
     ]
    },
    {
     "name": "stderr",
     "output_type": "stream",
     "text": [
      "tune_bagging_fraction_and_bagging_freq, val_score: 0.296192:  80%|########  | 8/10 [01:16<00:19,  9.88s/it][I 2020-03-24 17:09:10,277] Finished trial#7 resulted in value: 0.29664255700795433. Current best value is 0.296430061323361 with parameters: {'bagging_fraction': 0.7952323451072644, 'bagging_freq': 5}.\n",
      "tune_bagging_fraction_and_bagging_freq, val_score: 0.296192:  80%|########  | 8/10 [01:17<00:19,  9.88s/it]"
     ]
    },
    {
     "name": "stdout",
     "output_type": "stream",
     "text": [
      "Training until validation scores don't improve for 100 rounds\n",
      "[100]\ttraining's binary_logloss: 0.286632\tvalid_1's binary_logloss: 0.296534\n",
      "[200]\ttraining's binary_logloss: 0.276164\tvalid_1's binary_logloss: 0.296387\n",
      "[300]\ttraining's binary_logloss: 0.267284\tvalid_1's binary_logloss: 0.296314\n",
      "[400]\ttraining's binary_logloss: 0.259534\tvalid_1's binary_logloss: 0.296659\n",
      "Early stopping, best iteration is:\n",
      "[302]\ttraining's binary_logloss: 0.267126\tvalid_1's binary_logloss: 0.296307\n"
     ]
    },
    {
     "name": "stderr",
     "output_type": "stream",
     "text": [
      "tune_bagging_fraction_and_bagging_freq, val_score: 0.296192:  90%|######### | 9/10 [01:36<00:12, 12.74s/it][I 2020-03-24 17:09:29,477] Finished trial#8 resulted in value: 0.2963073816055833. Current best value is 0.2963073816055833 with parameters: {'bagging_fraction': 0.9032419779912308, 'bagging_freq': 1}.\n",
      "tune_bagging_fraction_and_bagging_freq, val_score: 0.296192:  90%|######### | 9/10 [01:36<00:12, 12.74s/it]"
     ]
    },
    {
     "name": "stdout",
     "output_type": "stream",
     "text": [
      "Training until validation scores don't improve for 100 rounds\n",
      "[100]\ttraining's binary_logloss: 0.286778\tvalid_1's binary_logloss: 0.296875\n",
      "[200]\ttraining's binary_logloss: 0.276306\tvalid_1's binary_logloss: 0.296513\n",
      "[300]\ttraining's binary_logloss: 0.26735\tvalid_1's binary_logloss: 0.296751\n",
      "Early stopping, best iteration is:\n",
      "[202]\ttraining's binary_logloss: 0.276125\tvalid_1's binary_logloss: 0.296482\n"
     ]
    },
    {
     "name": "stderr",
     "output_type": "stream",
     "text": [
      "tune_bagging_fraction_and_bagging_freq, val_score: 0.296192: 100%|##########| 10/10 [01:48<00:00, 12.66s/it][I 2020-03-24 17:09:41,942] Finished trial#9 resulted in value: 0.2964816803017482. Current best value is 0.2963073816055833 with parameters: {'bagging_fraction': 0.9032419779912308, 'bagging_freq': 1}.\n",
      "tune_bagging_fraction_and_bagging_freq, val_score: 0.296192: 100%|##########| 10/10 [01:48<00:00, 10.89s/it]\n",
      "tune_feature_fraction, val_score: 0.296192:   0%|          | 0/6 [00:00<?, ?it/s]"
     ]
    },
    {
     "name": "stdout",
     "output_type": "stream",
     "text": [
      "Training until validation scores don't improve for 100 rounds\n",
      "[100]\ttraining's binary_logloss: 0.287091\tvalid_1's binary_logloss: 0.296425\n",
      "[200]\ttraining's binary_logloss: 0.277711\tvalid_1's binary_logloss: 0.296059\n",
      "[300]\ttraining's binary_logloss: 0.270088\tvalid_1's binary_logloss: 0.296038\n",
      "Early stopping, best iteration is:\n",
      "[274]\ttraining's binary_logloss: 0.271972\tvalid_1's binary_logloss: 0.29599\n"
     ]
    },
    {
     "name": "stderr",
     "output_type": "stream",
     "text": [
      "tune_feature_fraction, val_score: 0.295990:  17%|#6        | 1/6 [00:14<01:12, 14.49s/it][I 2020-03-24 17:09:56,563] Finished trial#0 resulted in value: 0.2959897227511352. Current best value is 0.2959897227511352 with parameters: {'feature_fraction': 0.42}.\n",
      "tune_feature_fraction, val_score: 0.295990:  17%|#6        | 1/6 [00:14<01:12, 14.49s/it]"
     ]
    },
    {
     "name": "stdout",
     "output_type": "stream",
     "text": [
      "Training until validation scores don't improve for 100 rounds\n",
      "[100]\ttraining's binary_logloss: 0.286863\tvalid_1's binary_logloss: 0.296644\n",
      "[200]\ttraining's binary_logloss: 0.277308\tvalid_1's binary_logloss: 0.296347\n",
      "[300]\ttraining's binary_logloss: 0.269254\tvalid_1's binary_logloss: 0.296456\n",
      "Early stopping, best iteration is:\n",
      "[226]\ttraining's binary_logloss: 0.275104\tvalid_1's binary_logloss: 0.296258\n"
     ]
    },
    {
     "name": "stderr",
     "output_type": "stream",
     "text": [
      "tune_feature_fraction, val_score: 0.295990:  33%|###3      | 2/6 [00:27<00:56, 14.02s/it][I 2020-03-24 17:10:09,492] Finished trial#1 resulted in value: 0.2962584190986242. Current best value is 0.2959897227511352 with parameters: {'feature_fraction': 0.42}.\n",
      "tune_feature_fraction, val_score: 0.295990:  33%|###3      | 2/6 [00:27<00:56, 14.02s/it]"
     ]
    },
    {
     "name": "stdout",
     "output_type": "stream",
     "text": [
      "Training until validation scores don't improve for 100 rounds\n",
      "[100]\ttraining's binary_logloss: 0.286668\tvalid_1's binary_logloss: 0.296763\n",
      "[200]\ttraining's binary_logloss: 0.277066\tvalid_1's binary_logloss: 0.296376\n",
      "[300]\ttraining's binary_logloss: 0.268967\tvalid_1's binary_logloss: 0.296483\n",
      "Early stopping, best iteration is:\n",
      "[200]\ttraining's binary_logloss: 0.277066\tvalid_1's binary_logloss: 0.296376\n"
     ]
    },
    {
     "name": "stderr",
     "output_type": "stream",
     "text": [
      "tune_feature_fraction, val_score: 0.295990:  50%|#####     | 3/6 [00:39<00:40, 13.41s/it][I 2020-03-24 17:10:21,488] Finished trial#2 resulted in value: 0.2963760488861676. Current best value is 0.2959897227511352 with parameters: {'feature_fraction': 0.42}.\n",
      "tune_feature_fraction, val_score: 0.295990:  50%|#####     | 3/6 [00:39<00:40, 13.41s/it]"
     ]
    },
    {
     "name": "stdout",
     "output_type": "stream",
     "text": [
      "Training until validation scores don't improve for 100 rounds\n",
      "[100]\ttraining's binary_logloss: 0.286537\tvalid_1's binary_logloss: 0.296736\n",
      "[200]\ttraining's binary_logloss: 0.276529\tvalid_1's binary_logloss: 0.29668\n",
      "Early stopping, best iteration is:\n",
      "[134]\ttraining's binary_logloss: 0.282761\tvalid_1's binary_logloss: 0.296545\n"
     ]
    },
    {
     "name": "stderr",
     "output_type": "stream",
     "text": [
      "tune_feature_fraction, val_score: 0.295990:  67%|######6   | 4/6 [00:49<00:24, 12.40s/it][I 2020-03-24 17:10:31,497] Finished trial#3 resulted in value: 0.2965449070893658. Current best value is 0.2959897227511352 with parameters: {'feature_fraction': 0.42}.\n",
      "tune_feature_fraction, val_score: 0.295990:  67%|######6   | 4/6 [00:49<00:24, 12.40s/it]"
     ]
    },
    {
     "name": "stdout",
     "output_type": "stream",
     "text": [
      "Training until validation scores don't improve for 100 rounds\n",
      "[100]\ttraining's binary_logloss: 0.28652\tvalid_1's binary_logloss: 0.296497\n",
      "[200]\ttraining's binary_logloss: 0.276638\tvalid_1's binary_logloss: 0.296436\n",
      "Early stopping, best iteration is:\n",
      "[131]\ttraining's binary_logloss: 0.283201\tvalid_1's binary_logloss: 0.296388\n"
     ]
    },
    {
     "name": "stderr",
     "output_type": "stream",
     "text": [
      "tune_feature_fraction, val_score: 0.295990:  83%|########3 | 5/6 [00:59<00:11, 11.69s/it][I 2020-03-24 17:10:41,515] Finished trial#4 resulted in value: 0.2963875649209307. Current best value is 0.2959897227511352 with parameters: {'feature_fraction': 0.42}.\n",
      "tune_feature_fraction, val_score: 0.295990:  83%|########3 | 5/6 [00:59<00:11, 11.69s/it]"
     ]
    },
    {
     "name": "stdout",
     "output_type": "stream",
     "text": [
      "Training until validation scores don't improve for 100 rounds\n",
      "[100]\ttraining's binary_logloss: 0.28626\tvalid_1's binary_logloss: 0.296541\n",
      "[200]\ttraining's binary_logloss: 0.276411\tvalid_1's binary_logloss: 0.296437\n",
      "Early stopping, best iteration is:\n",
      "[151]\ttraining's binary_logloss: 0.280875\tvalid_1's binary_logloss: 0.296329\n"
     ]
    },
    {
     "name": "stderr",
     "output_type": "stream",
     "text": [
      "tune_feature_fraction, val_score: 0.295990: 100%|##########| 6/6 [01:10<00:00, 11.44s/it][I 2020-03-24 17:10:52,400] Finished trial#5 resulted in value: 0.29632893257643694. Current best value is 0.2959897227511352 with parameters: {'feature_fraction': 0.42}.\n",
      "tune_feature_fraction, val_score: 0.295990: 100%|##########| 6/6 [01:10<00:00, 11.74s/it]\n",
      "tune_lambda_l1_and_lambda_l2, val_score: 0.295990:   0%|          | 0/20 [00:00<?, ?it/s]"
     ]
    },
    {
     "name": "stdout",
     "output_type": "stream",
     "text": [
      "Training until validation scores don't improve for 100 rounds\n",
      "[100]\ttraining's binary_logloss: 0.287721\tvalid_1's binary_logloss: 0.296526\n",
      "[200]\ttraining's binary_logloss: 0.278681\tvalid_1's binary_logloss: 0.296116\n",
      "[300]\ttraining's binary_logloss: 0.270766\tvalid_1's binary_logloss: 0.296007\n",
      "Early stopping, best iteration is:\n",
      "[233]\ttraining's binary_logloss: 0.275854\tvalid_1's binary_logloss: 0.295935\n"
     ]
    },
    {
     "name": "stderr",
     "output_type": "stream",
     "text": [
      "tune_lambda_l1_and_lambda_l2, val_score: 0.295935:   5%|5         | 1/20 [00:12<04:05, 12.93s/it][I 2020-03-24 17:11:05,449] Finished trial#0 resulted in value: 0.29593477044005034. Current best value is 0.29593477044005034 with parameters: {'lambda_l1': 0.0001691089314563118, 'lambda_l2': 0.4806208798103152}.\n",
      "tune_lambda_l1_and_lambda_l2, val_score: 0.295935:   5%|5         | 1/20 [00:13<04:05, 12.93s/it]"
     ]
    },
    {
     "name": "stdout",
     "output_type": "stream",
     "text": [
      "Training until validation scores don't improve for 100 rounds\n",
      "[100]\ttraining's binary_logloss: 0.288075\tvalid_1's binary_logloss: 0.296459\n",
      "[200]\ttraining's binary_logloss: 0.279284\tvalid_1's binary_logloss: 0.295976\n",
      "[300]\ttraining's binary_logloss: 0.271651\tvalid_1's binary_logloss: 0.295881\n",
      "[400]\ttraining's binary_logloss: 0.264659\tvalid_1's binary_logloss: 0.295937\n",
      "Early stopping, best iteration is:\n",
      "[328]\ttraining's binary_logloss: 0.269618\tvalid_1's binary_logloss: 0.295822\n"
     ]
    },
    {
     "name": "stderr",
     "output_type": "stream",
     "text": [
      "tune_lambda_l1_and_lambda_l2, val_score: 0.295822:  10%|#         | 2/20 [01:03<07:18, 24.34s/it][I 2020-03-24 17:11:56,551] Finished trial#1 resulted in value: 0.295821547565504. Current best value is 0.295821547565504 with parameters: {'lambda_l1': 0.610136870383437, 'lambda_l2': 0.4600656545819559}.\n",
      "tune_lambda_l1_and_lambda_l2, val_score: 0.295822:  10%|#         | 2/20 [01:04<07:18, 24.34s/it]"
     ]
    },
    {
     "name": "stdout",
     "output_type": "stream",
     "text": [
      "Training until validation scores don't improve for 100 rounds\n",
      "[100]\ttraining's binary_logloss: 0.287091\tvalid_1's binary_logloss: 0.296424\n",
      "[200]\ttraining's binary_logloss: 0.277717\tvalid_1's binary_logloss: 0.296078\n",
      "[300]\ttraining's binary_logloss: 0.270003\tvalid_1's binary_logloss: 0.295951\n",
      "[400]\ttraining's binary_logloss: 0.262927\tvalid_1's binary_logloss: 0.295878\n",
      "Early stopping, best iteration is:\n",
      "[364]\ttraining's binary_logloss: 0.265201\tvalid_1's binary_logloss: 0.295849\n"
     ]
    },
    {
     "name": "stderr",
     "output_type": "stream",
     "text": [
      "tune_lambda_l1_and_lambda_l2, val_score: 0.295822:  15%|#5        | 3/20 [01:20<06:16, 22.16s/it][I 2020-03-24 17:12:13,508] Finished trial#2 resulted in value: 0.2958492668302336. Current best value is 0.295821547565504 with parameters: {'lambda_l1': 0.610136870383437, 'lambda_l2': 0.4600656545819559}.\n",
      "tune_lambda_l1_and_lambda_l2, val_score: 0.295822:  15%|#5        | 3/20 [01:21<06:16, 22.16s/it]"
     ]
    },
    {
     "name": "stdout",
     "output_type": "stream",
     "text": [
      "Training until validation scores don't improve for 100 rounds\n",
      "[100]\ttraining's binary_logloss: 0.28707\tvalid_1's binary_logloss: 0.296566\n",
      "[200]\ttraining's binary_logloss: 0.27785\tvalid_1's binary_logloss: 0.296169\n",
      "[300]\ttraining's binary_logloss: 0.269643\tvalid_1's binary_logloss: 0.296207\n",
      "Early stopping, best iteration is:\n",
      "[212]\ttraining's binary_logloss: 0.27682\tvalid_1's binary_logloss: 0.296108\n"
     ]
    },
    {
     "name": "stderr",
     "output_type": "stream",
     "text": [
      "tune_lambda_l1_and_lambda_l2, val_score: 0.295822:  20%|##        | 4/20 [01:33<05:06, 19.15s/it][I 2020-03-24 17:12:25,633] Finished trial#3 resulted in value: 0.29610780333588477. Current best value is 0.295821547565504 with parameters: {'lambda_l1': 0.610136870383437, 'lambda_l2': 0.4600656545819559}.\n",
      "tune_lambda_l1_and_lambda_l2, val_score: 0.295822:  20%|##        | 4/20 [01:33<05:06, 19.15s/it]"
     ]
    },
    {
     "name": "stdout",
     "output_type": "stream",
     "text": [
      "Training until validation scores don't improve for 100 rounds\n",
      "[100]\ttraining's binary_logloss: 0.290862\tvalid_1's binary_logloss: 0.296623\n",
      "[200]\ttraining's binary_logloss: 0.284445\tvalid_1's binary_logloss: 0.295816\n",
      "[300]\ttraining's binary_logloss: 0.279265\tvalid_1's binary_logloss: 0.295733\n",
      "[400]\ttraining's binary_logloss: 0.274759\tvalid_1's binary_logloss: 0.295718\n",
      "Early stopping, best iteration is:\n",
      "[316]\ttraining's binary_logloss: 0.278526\tvalid_1's binary_logloss: 0.295677\n"
     ]
    },
    {
     "name": "stderr",
     "output_type": "stream",
     "text": [
      "tune_lambda_l1_and_lambda_l2, val_score: 0.295677:  25%|##5       | 5/20 [02:16<06:36, 26.41s/it][I 2020-03-24 17:13:08,995] Finished trial#4 resulted in value: 0.2956772073750667. Current best value is 0.2956772073750667 with parameters: {'lambda_l1': 8.4124956912795, 'lambda_l2': 3.40592315381135e-05}.\n",
      "tune_lambda_l1_and_lambda_l2, val_score: 0.295677:  25%|##5       | 5/20 [02:16<06:36, 26.41s/it]"
     ]
    },
    {
     "name": "stdout",
     "output_type": "stream",
     "text": [
      "Training until validation scores don't improve for 100 rounds\n",
      "[100]\ttraining's binary_logloss: 0.290701\tvalid_1's binary_logloss: 0.296612\n",
      "[200]\ttraining's binary_logloss: 0.284257\tvalid_1's binary_logloss: 0.295905\n",
      "[300]\ttraining's binary_logloss: 0.278945\tvalid_1's binary_logloss: 0.295819\n",
      "[400]\ttraining's binary_logloss: 0.274286\tvalid_1's binary_logloss: 0.295903\n",
      "Early stopping, best iteration is:\n",
      "[343]\ttraining's binary_logloss: 0.276884\tvalid_1's binary_logloss: 0.295797\n"
     ]
    },
    {
     "name": "stderr",
     "output_type": "stream",
     "text": [
      "tune_lambda_l1_and_lambda_l2, val_score: 0.295677:  30%|###       | 6/20 [02:36<05:42, 24.44s/it][I 2020-03-24 17:13:28,814] Finished trial#5 resulted in value: 0.29579662748858626. Current best value is 0.2956772073750667 with parameters: {'lambda_l1': 8.4124956912795, 'lambda_l2': 3.40592315381135e-05}.\n",
      "tune_lambda_l1_and_lambda_l2, val_score: 0.295677:  30%|###       | 6/20 [02:36<05:42, 24.44s/it]"
     ]
    },
    {
     "name": "stdout",
     "output_type": "stream",
     "text": [
      "Training until validation scores don't improve for 100 rounds\n",
      "[100]\ttraining's binary_logloss: 0.288225\tvalid_1's binary_logloss: 0.296368\n",
      "[200]\ttraining's binary_logloss: 0.279981\tvalid_1's binary_logloss: 0.2959\n",
      "[300]\ttraining's binary_logloss: 0.272754\tvalid_1's binary_logloss: 0.295768\n",
      "[400]\ttraining's binary_logloss: 0.266088\tvalid_1's binary_logloss: 0.295697\n",
      "Early stopping, best iteration is:\n",
      "[384]\ttraining's binary_logloss: 0.26707\tvalid_1's binary_logloss: 0.295663\n"
     ]
    },
    {
     "name": "stderr",
     "output_type": "stream",
     "text": [
      "tune_lambda_l1_and_lambda_l2, val_score: 0.295663:  35%|###5      | 7/20 [02:54<04:53, 22.61s/it][I 2020-03-24 17:13:47,282] Finished trial#6 resulted in value: 0.2956629559163184. Current best value is 0.2956629559163184 with parameters: {'lambda_l1': 0.00773892914477605, 'lambda_l2': 1.4648233504561583}.\n",
      "tune_lambda_l1_and_lambda_l2, val_score: 0.295663:  35%|###5      | 7/20 [02:54<04:53, 22.61s/it]"
     ]
    },
    {
     "name": "stdout",
     "output_type": "stream",
     "text": [
      "Training until validation scores don't improve for 100 rounds\n",
      "[100]\ttraining's binary_logloss: 0.287501\tvalid_1's binary_logloss: 0.296569\n",
      "[200]\ttraining's binary_logloss: 0.278475\tvalid_1's binary_logloss: 0.29625\n",
      "[300]\ttraining's binary_logloss: 0.270472\tvalid_1's binary_logloss: 0.296214\n",
      "[400]\ttraining's binary_logloss: 0.263571\tvalid_1's binary_logloss: 0.296386\n",
      "Early stopping, best iteration is:\n",
      "[319]\ttraining's binary_logloss: 0.268946\tvalid_1's binary_logloss: 0.296189\n"
     ]
    },
    {
     "name": "stderr",
     "output_type": "stream",
     "text": [
      "tune_lambda_l1_and_lambda_l2, val_score: 0.295663:  40%|####      | 8/20 [03:10<04:07, 20.60s/it][I 2020-03-24 17:14:03,042] Finished trial#7 resulted in value: 0.2961890857798547. Current best value is 0.2956629559163184 with parameters: {'lambda_l1': 0.00773892914477605, 'lambda_l2': 1.4648233504561583}.\n",
      "tune_lambda_l1_and_lambda_l2, val_score: 0.295663:  40%|####      | 8/20 [03:10<04:07, 20.60s/it]"
     ]
    },
    {
     "name": "stdout",
     "output_type": "stream",
     "text": [
      "Training until validation scores don't improve for 100 rounds\n",
      "[100]\ttraining's binary_logloss: 0.287091\tvalid_1's binary_logloss: 0.296424\n",
      "[200]\ttraining's binary_logloss: 0.277821\tvalid_1's binary_logloss: 0.296131\n",
      "[300]\ttraining's binary_logloss: 0.269804\tvalid_1's binary_logloss: 0.29596\n",
      "Early stopping, best iteration is:\n",
      "[298]\ttraining's binary_logloss: 0.269936\tvalid_1's binary_logloss: 0.295946\n"
     ]
    },
    {
     "name": "stderr",
     "output_type": "stream",
     "text": [
      "tune_lambda_l1_and_lambda_l2, val_score: 0.295663:  45%|####5     | 9/20 [03:25<03:26, 18.78s/it][I 2020-03-24 17:14:17,580] Finished trial#8 resulted in value: 0.2959459982674993. Current best value is 0.2956629559163184 with parameters: {'lambda_l1': 0.00773892914477605, 'lambda_l2': 1.4648233504561583}.\n",
      "tune_lambda_l1_and_lambda_l2, val_score: 0.295663:  45%|####5     | 9/20 [03:25<03:26, 18.78s/it]"
     ]
    },
    {
     "name": "stdout",
     "output_type": "stream",
     "text": [
      "Training until validation scores don't improve for 100 rounds\n",
      "[100]\ttraining's binary_logloss: 0.28713\tvalid_1's binary_logloss: 0.296667\n",
      "[200]\ttraining's binary_logloss: 0.277452\tvalid_1's binary_logloss: 0.296309\n",
      "[300]\ttraining's binary_logloss: 0.269602\tvalid_1's binary_logloss: 0.296422\n",
      "Early stopping, best iteration is:\n",
      "[216]\ttraining's binary_logloss: 0.276106\tvalid_1's binary_logloss: 0.296233\n"
     ]
    },
    {
     "name": "stderr",
     "output_type": "stream",
     "text": [
      "tune_lambda_l1_and_lambda_l2, val_score: 0.295663:  50%|#####     | 10/20 [03:37<02:48, 16.83s/it][I 2020-03-24 17:14:29,875] Finished trial#9 resulted in value: 0.296232874948606. Current best value is 0.2956629559163184 with parameters: {'lambda_l1': 0.00773892914477605, 'lambda_l2': 1.4648233504561583}.\n",
      "tune_lambda_l1_and_lambda_l2, val_score: 0.295663:  50%|#####     | 10/20 [03:37<02:48, 16.83s/it]"
     ]
    },
    {
     "name": "stdout",
     "output_type": "stream",
     "text": [
      "Training until validation scores don't improve for 100 rounds\n",
      "[100]\ttraining's binary_logloss: 0.289386\tvalid_1's binary_logloss: 0.296493\n",
      "[200]\ttraining's binary_logloss: 0.282021\tvalid_1's binary_logloss: 0.296068\n",
      "[300]\ttraining's binary_logloss: 0.275764\tvalid_1's binary_logloss: 0.295851\n",
      "[400]\ttraining's binary_logloss: 0.269906\tvalid_1's binary_logloss: 0.295714\n",
      "[500]\ttraining's binary_logloss: 0.264856\tvalid_1's binary_logloss: 0.295609\n",
      "Early stopping, best iteration is:\n",
      "[446]\ttraining's binary_logloss: 0.267349\tvalid_1's binary_logloss: 0.295573\n"
     ]
    },
    {
     "name": "stderr",
     "output_type": "stream",
     "text": [
      "tune_lambda_l1_and_lambda_l2, val_score: 0.295573:  55%|#####5    | 11/20 [03:58<02:42, 18.09s/it][I 2020-03-24 17:14:50,944] Finished trial#10 resulted in value: 0.29557290540425046. Current best value is 0.29557290540425046 with parameters: {'lambda_l1': 0.03810342619415522, 'lambda_l2': 6.0944129002597744}.\n",
      "tune_lambda_l1_and_lambda_l2, val_score: 0.295573:  55%|#####5    | 11/20 [03:58<02:42, 18.09s/it]"
     ]
    },
    {
     "name": "stdout",
     "output_type": "stream",
     "text": [
      "Training until validation scores don't improve for 100 rounds\n",
      "[100]\ttraining's binary_logloss: 0.289639\tvalid_1's binary_logloss: 0.296404\n",
      "[200]\ttraining's binary_logloss: 0.282754\tvalid_1's binary_logloss: 0.295781\n",
      "[300]\ttraining's binary_logloss: 0.276559\tvalid_1's binary_logloss: 0.295571\n",
      "[400]\ttraining's binary_logloss: 0.271451\tvalid_1's binary_logloss: 0.295658\n",
      "Early stopping, best iteration is:\n",
      "[301]\ttraining's binary_logloss: 0.276496\tvalid_1's binary_logloss: 0.295557\n"
     ]
    },
    {
     "name": "stderr",
     "output_type": "stream",
     "text": [
      "tune_lambda_l1_and_lambda_l2, val_score: 0.295557:  60%|######    | 12/20 [04:15<02:21, 17.67s/it][I 2020-03-24 17:15:07,573] Finished trial#11 resulted in value: 0.29555720734342966. Current best value is 0.29555720734342966 with parameters: {'lambda_l1': 0.03922972182951553, 'lambda_l2': 9.173172452094127}.\n",
      "tune_lambda_l1_and_lambda_l2, val_score: 0.295557:  60%|######    | 12/20 [04:15<02:21, 17.67s/it]"
     ]
    },
    {
     "name": "stdout",
     "output_type": "stream",
     "text": [
      "Training until validation scores don't improve for 100 rounds\n",
      "[100]\ttraining's binary_logloss: 0.287139\tvalid_1's binary_logloss: 0.296679\n",
      "[200]\ttraining's binary_logloss: 0.277623\tvalid_1's binary_logloss: 0.296476\n",
      "[300]\ttraining's binary_logloss: 0.269625\tvalid_1's binary_logloss: 0.296382\n",
      "Early stopping, best iteration is:\n",
      "[221]\ttraining's binary_logloss: 0.275733\tvalid_1's binary_logloss: 0.296312\n"
     ]
    },
    {
     "name": "stderr",
     "output_type": "stream",
     "text": [
      "tune_lambda_l1_and_lambda_l2, val_score: 0.295557:  65%|######5   | 13/20 [04:27<01:52, 16.07s/it][I 2020-03-24 17:15:19,899] Finished trial#12 resulted in value: 0.2963120125207953. Current best value is 0.29555720734342966 with parameters: {'lambda_l1': 0.03922972182951553, 'lambda_l2': 9.173172452094127}.\n",
      "tune_lambda_l1_and_lambda_l2, val_score: 0.295557:  65%|######5   | 13/20 [04:27<01:52, 16.07s/it]"
     ]
    },
    {
     "name": "stdout",
     "output_type": "stream",
     "text": [
      "Training until validation scores don't improve for 100 rounds\n",
      "[100]\ttraining's binary_logloss: 0.289606\tvalid_1's binary_logloss: 0.296396\n",
      "[200]\ttraining's binary_logloss: 0.282643\tvalid_1's binary_logloss: 0.295759\n",
      "[300]\ttraining's binary_logloss: 0.276669\tvalid_1's binary_logloss: 0.295594\n",
      "[400]\ttraining's binary_logloss: 0.271596\tvalid_1's binary_logloss: 0.29552\n",
      "[500]\ttraining's binary_logloss: 0.266413\tvalid_1's binary_logloss: 0.295634\n",
      "Early stopping, best iteration is:\n",
      "[421]\ttraining's binary_logloss: 0.270486\tvalid_1's binary_logloss: 0.29548\n"
     ]
    },
    {
     "name": "stderr",
     "output_type": "stream",
     "text": [
      "tune_lambda_l1_and_lambda_l2, val_score: 0.295480:  70%|#######   | 14/20 [04:48<01:44, 17.43s/it][I 2020-03-24 17:15:40,535] Finished trial#13 resulted in value: 0.2954801696886223. Current best value is 0.2954801696886223 with parameters: {'lambda_l1': 0.3347312504451786, 'lambda_l2': 8.393452081658955}.\n",
      "tune_lambda_l1_and_lambda_l2, val_score: 0.295480:  70%|#######   | 14/20 [04:48<01:44, 17.43s/it]"
     ]
    },
    {
     "name": "stdout",
     "output_type": "stream",
     "text": [
      "Training until validation scores don't improve for 100 rounds\n",
      "[100]\ttraining's binary_logloss: 0.289829\tvalid_1's binary_logloss: 0.29643\n",
      "[200]\ttraining's binary_logloss: 0.28297\tvalid_1's binary_logloss: 0.295804\n",
      "[300]\ttraining's binary_logloss: 0.27705\tvalid_1's binary_logloss: 0.295736\n",
      "Early stopping, best iteration is:\n",
      "[233]\ttraining's binary_logloss: 0.280945\tvalid_1's binary_logloss: 0.295701\n"
     ]
    },
    {
     "name": "stderr",
     "output_type": "stream",
     "text": [
      "tune_lambda_l1_and_lambda_l2, val_score: 0.295480:  75%|#######5  | 15/20 [05:02<01:22, 16.56s/it][I 2020-03-24 17:15:55,057] Finished trial#14 resulted in value: 0.29570077387192095. Current best value is 0.2954801696886223 with parameters: {'lambda_l1': 0.3347312504451786, 'lambda_l2': 8.393452081658955}.\n",
      "tune_lambda_l1_and_lambda_l2, val_score: 0.295480:  75%|#######5  | 15/20 [05:02<01:22, 16.56s/it]"
     ]
    },
    {
     "name": "stdout",
     "output_type": "stream",
     "text": [
      "Training until validation scores don't improve for 100 rounds\n",
      "[100]\ttraining's binary_logloss: 0.287189\tvalid_1's binary_logloss: 0.296678\n",
      "[200]\ttraining's binary_logloss: 0.27759\tvalid_1's binary_logloss: 0.296222\n",
      "[300]\ttraining's binary_logloss: 0.269763\tvalid_1's binary_logloss: 0.29628\n",
      "Early stopping, best iteration is:\n",
      "[212]\ttraining's binary_logloss: 0.276682\tvalid_1's binary_logloss: 0.296186\n"
     ]
    },
    {
     "name": "stderr",
     "output_type": "stream",
     "text": [
      "tune_lambda_l1_and_lambda_l2, val_score: 0.295480:  80%|########  | 16/20 [05:14<01:00, 15.24s/it][I 2020-03-24 17:16:07,229] Finished trial#15 resulted in value: 0.29618598847863914. Current best value is 0.2954801696886223 with parameters: {'lambda_l1': 0.3347312504451786, 'lambda_l2': 8.393452081658955}.\n",
      "tune_lambda_l1_and_lambda_l2, val_score: 0.295480:  80%|########  | 16/20 [05:14<01:00, 15.24s/it]"
     ]
    },
    {
     "name": "stdout",
     "output_type": "stream",
     "text": [
      "Training until validation scores don't improve for 100 rounds\n",
      "[100]\ttraining's binary_logloss: 0.287554\tvalid_1's binary_logloss: 0.296613\n",
      "[200]\ttraining's binary_logloss: 0.278297\tvalid_1's binary_logloss: 0.296482\n",
      "Early stopping, best iteration is:\n",
      "[150]\ttraining's binary_logloss: 0.28262\tvalid_1's binary_logloss: 0.296369\n"
     ]
    },
    {
     "name": "stderr",
     "output_type": "stream",
     "text": [
      "tune_lambda_l1_and_lambda_l2, val_score: 0.295480:  85%|########5 | 17/20 [05:25<00:41, 13.87s/it][I 2020-03-24 17:16:17,862] Finished trial#16 resulted in value: 0.2963685618236073. Current best value is 0.2954801696886223 with parameters: {'lambda_l1': 0.3347312504451786, 'lambda_l2': 8.393452081658955}.\n",
      "tune_lambda_l1_and_lambda_l2, val_score: 0.295480:  85%|########5 | 17/20 [05:25<00:41, 13.87s/it]"
     ]
    },
    {
     "name": "stdout",
     "output_type": "stream",
     "text": [
      "Training until validation scores don't improve for 100 rounds\n",
      "[100]\ttraining's binary_logloss: 0.287247\tvalid_1's binary_logloss: 0.296637\n",
      "[200]\ttraining's binary_logloss: 0.277845\tvalid_1's binary_logloss: 0.29637\n",
      "[300]\ttraining's binary_logloss: 0.269967\tvalid_1's binary_logloss: 0.296459\n",
      "Early stopping, best iteration is:\n",
      "[233]\ttraining's binary_logloss: 0.275137\tvalid_1's binary_logloss: 0.296341\n"
     ]
    },
    {
     "name": "stderr",
     "output_type": "stream",
     "text": [
      "tune_lambda_l1_and_lambda_l2, val_score: 0.295480:  90%|######### | 18/20 [05:37<00:26, 13.47s/it][I 2020-03-24 17:16:30,409] Finished trial#17 resulted in value: 0.29634096283958566. Current best value is 0.2954801696886223 with parameters: {'lambda_l1': 0.3347312504451786, 'lambda_l2': 8.393452081658955}.\n",
      "tune_lambda_l1_and_lambda_l2, val_score: 0.295480:  90%|######### | 18/20 [05:37<00:26, 13.47s/it]"
     ]
    },
    {
     "name": "stdout",
     "output_type": "stream",
     "text": [
      "Training until validation scores don't improve for 100 rounds\n",
      "[100]\ttraining's binary_logloss: 0.289735\tvalid_1's binary_logloss: 0.296379\n",
      "[200]\ttraining's binary_logloss: 0.282574\tvalid_1's binary_logloss: 0.295749\n",
      "[300]\ttraining's binary_logloss: 0.27666\tvalid_1's binary_logloss: 0.295662\n",
      "[400]\ttraining's binary_logloss: 0.271449\tvalid_1's binary_logloss: 0.295622\n",
      "[500]\ttraining's binary_logloss: 0.266318\tvalid_1's binary_logloss: 0.29569\n",
      "Early stopping, best iteration is:\n",
      "[442]\ttraining's binary_logloss: 0.269244\tvalid_1's binary_logloss: 0.295608\n"
     ]
    },
    {
     "name": "stderr",
     "output_type": "stream",
     "text": [
      "tune_lambda_l1_and_lambda_l2, val_score: 0.295480:  95%|#########5| 19/20 [05:59<00:15, 15.82s/it][I 2020-03-24 17:16:51,710] Finished trial#18 resulted in value: 0.2956080878770181. Current best value is 0.2954801696886223 with parameters: {'lambda_l1': 0.3347312504451786, 'lambda_l2': 8.393452081658955}.\n",
      "tune_lambda_l1_and_lambda_l2, val_score: 0.295480:  95%|#########5| 19/20 [05:59<00:15, 15.82s/it]"
     ]
    },
    {
     "name": "stdout",
     "output_type": "stream",
     "text": [
      "Training until validation scores don't improve for 100 rounds\n",
      "[100]\ttraining's binary_logloss: 0.291115\tvalid_1's binary_logloss: 0.296712\n",
      "[200]\ttraining's binary_logloss: 0.284897\tvalid_1's binary_logloss: 0.296021\n",
      "[300]\ttraining's binary_logloss: 0.280001\tvalid_1's binary_logloss: 0.295851\n",
      "[400]\ttraining's binary_logloss: 0.275586\tvalid_1's binary_logloss: 0.295818\n",
      "Early stopping, best iteration is:\n",
      "[363]\ttraining's binary_logloss: 0.277123\tvalid_1's binary_logloss: 0.295796\n"
     ]
    },
    {
     "name": "stderr",
     "output_type": "stream",
     "text": [
      "tune_lambda_l1_and_lambda_l2, val_score: 0.295480: 100%|##########| 20/20 [06:20<00:00, 17.39s/it][I 2020-03-24 17:17:12,796] Finished trial#19 resulted in value: 0.29579592452079934. Current best value is 0.2954801696886223 with parameters: {'lambda_l1': 0.3347312504451786, 'lambda_l2': 8.393452081658955}.\n",
      "tune_lambda_l1_and_lambda_l2, val_score: 0.295480: 100%|##########| 20/20 [06:20<00:00, 19.02s/it]\n",
      "tune_min_child_samples, val_score: 0.295480:   0%|          | 0/5 [00:00<?, ?it/s]"
     ]
    },
    {
     "name": "stdout",
     "output_type": "stream",
     "text": [
      "Training until validation scores don't improve for 100 rounds\n",
      "[100]\ttraining's binary_logloss: 0.28967\tvalid_1's binary_logloss: 0.296489\n",
      "[200]\ttraining's binary_logloss: 0.282683\tvalid_1's binary_logloss: 0.29587\n",
      "[300]\ttraining's binary_logloss: 0.276893\tvalid_1's binary_logloss: 0.295729\n",
      "[400]\ttraining's binary_logloss: 0.271616\tvalid_1's binary_logloss: 0.29581\n",
      "Early stopping, best iteration is:\n",
      "[345]\ttraining's binary_logloss: 0.274324\tvalid_1's binary_logloss: 0.295691\n"
     ]
    },
    {
     "name": "stderr",
     "output_type": "stream",
     "text": [
      "tune_min_child_samples, val_score: 0.295480:  20%|##        | 1/5 [00:18<01:13, 18.26s/it][I 2020-03-24 17:17:31,170] Finished trial#0 resulted in value: 0.29569113063920194. Current best value is 0.29569113063920194 with parameters: {'min_child_samples': 5}.\n",
      "tune_min_child_samples, val_score: 0.295480:  20%|##        | 1/5 [00:18<01:13, 18.26s/it]"
     ]
    },
    {
     "name": "stdout",
     "output_type": "stream",
     "text": [
      "Training until validation scores don't improve for 100 rounds\n",
      "[100]\ttraining's binary_logloss: 0.289721\tvalid_1's binary_logloss: 0.296421\n",
      "[200]\ttraining's binary_logloss: 0.282476\tvalid_1's binary_logloss: 0.295732\n",
      "[300]\ttraining's binary_logloss: 0.276516\tvalid_1's binary_logloss: 0.295671\n",
      "[400]\ttraining's binary_logloss: 0.271252\tvalid_1's binary_logloss: 0.295656\n",
      "Early stopping, best iteration is:\n",
      "[347]\ttraining's binary_logloss: 0.273893\tvalid_1's binary_logloss: 0.2956\n"
     ]
    },
    {
     "name": "stderr",
     "output_type": "stream",
     "text": [
      "tune_min_child_samples, val_score: 0.295480:  40%|####      | 2/5 [00:36<00:54, 18.20s/it][I 2020-03-24 17:17:49,252] Finished trial#1 resulted in value: 0.2955997844401228. Current best value is 0.2955997844401228 with parameters: {'min_child_samples': 10}.\n",
      "tune_min_child_samples, val_score: 0.295480:  40%|####      | 2/5 [00:36<00:54, 18.20s/it]"
     ]
    },
    {
     "name": "stdout",
     "output_type": "stream",
     "text": [
      "Training until validation scores don't improve for 100 rounds\n",
      "[100]\ttraining's binary_logloss: 0.289631\tvalid_1's binary_logloss: 0.296481\n",
      "[200]\ttraining's binary_logloss: 0.282474\tvalid_1's binary_logloss: 0.295821\n",
      "[300]\ttraining's binary_logloss: 0.27675\tvalid_1's binary_logloss: 0.295709\n",
      "Early stopping, best iteration is:\n",
      "[291]\ttraining's binary_logloss: 0.277208\tvalid_1's binary_logloss: 0.295685\n"
     ]
    },
    {
     "name": "stderr",
     "output_type": "stream",
     "text": [
      "tune_min_child_samples, val_score: 0.295480:  60%|######    | 3/5 [00:52<00:35, 17.69s/it][I 2020-03-24 17:18:05,770] Finished trial#2 resulted in value: 0.29568481742229674. Current best value is 0.2955997844401228 with parameters: {'min_child_samples': 10}.\n",
      "tune_min_child_samples, val_score: 0.295480:  60%|######    | 3/5 [00:52<00:35, 17.69s/it]"
     ]
    },
    {
     "name": "stdout",
     "output_type": "stream",
     "text": [
      "Training until validation scores don't improve for 100 rounds\n",
      "[100]\ttraining's binary_logloss: 0.289714\tvalid_1's binary_logloss: 0.296586\n",
      "[200]\ttraining's binary_logloss: 0.28255\tvalid_1's binary_logloss: 0.296054\n",
      "[300]\ttraining's binary_logloss: 0.276411\tvalid_1's binary_logloss: 0.29596\n",
      "[400]\ttraining's binary_logloss: 0.270663\tvalid_1's binary_logloss: 0.295951\n",
      "Early stopping, best iteration is:\n",
      "[302]\ttraining's binary_logloss: 0.276265\tvalid_1's binary_logloss: 0.29594\n"
     ]
    },
    {
     "name": "stderr",
     "output_type": "stream",
     "text": [
      "tune_min_child_samples, val_score: 0.295480:  80%|########  | 4/5 [01:09<00:17, 17.49s/it][I 2020-03-24 17:18:22,766] Finished trial#3 resulted in value: 0.2959398756219793. Current best value is 0.2955997844401228 with parameters: {'min_child_samples': 10}.\n",
      "tune_min_child_samples, val_score: 0.295480:  80%|########  | 4/5 [01:09<00:17, 17.49s/it]"
     ]
    },
    {
     "name": "stdout",
     "output_type": "stream",
     "text": [
      "Training until validation scores don't improve for 100 rounds\n",
      "[100]\ttraining's binary_logloss: 0.28969\tvalid_1's binary_logloss: 0.296479\n",
      "[200]\ttraining's binary_logloss: 0.282452\tvalid_1's binary_logloss: 0.295752\n",
      "[300]\ttraining's binary_logloss: 0.27646\tvalid_1's binary_logloss: 0.295543\n",
      "[400]\ttraining's binary_logloss: 0.271027\tvalid_1's binary_logloss: 0.295412\n",
      "[500]\ttraining's binary_logloss: 0.265531\tvalid_1's binary_logloss: 0.295546\n",
      "Early stopping, best iteration is:\n",
      "[402]\ttraining's binary_logloss: 0.270919\tvalid_1's binary_logloss: 0.295402\n"
     ]
    },
    {
     "name": "stderr",
     "output_type": "stream",
     "text": [
      "tune_min_child_samples, val_score: 0.295402: 100%|##########| 5/5 [01:30<00:00, 18.32s/it][I 2020-03-24 17:18:43,004] Finished trial#4 resulted in value: 0.2954020887991685. Current best value is 0.2954020887991685 with parameters: {'min_child_samples': 100}.\n",
      "tune_min_child_samples, val_score: 0.295402: 100%|##########| 5/5 [01:30<00:00, 18.04s/it]\n"
     ]
    }
   ],
   "source": [
    "params_shared = {\n",
    "    \"objective\": \"binary\",\n",
    "    \"metric\": \"binary_logloss\",\n",
    "    \"verbosity\": 1,\n",
    "    \"boosting_type\": \"gbdt\",\n",
    "    \"num_threads\": 24,\n",
    "}\n",
    "tgt2params = {k:params_shared for k in tgts}\n",
    "\n",
    "tgt2bst={}\n",
    "tgt2best_params={}\n",
    "tgt2tuning_history={}\n",
    "tgt2ytr={}\n",
    "tgt2yvl={}\n",
    "tgt2prdtr={}\n",
    "tgt2prdvl={}\n",
    "tgt2pops={}\n",
    "for tgt in tgts:\n",
    "    print(dtnow(), tgt, '*'*80)\n",
    "    do_tgt(tgt)\n",
    "    \n"
   ]
  },
  {
   "cell_type": "code",
   "execution_count": 40,
   "metadata": {},
   "outputs": [
    {
     "data": {
      "text/plain": [
       "{'Retweet': {'lambda_l1': 1.9058490763205854e-05,\n",
       "  'lambda_l2': 5.853537397100255,\n",
       "  'num_leaves': 140,\n",
       "  'feature_fraction': 0.5,\n",
       "  'bagging_fraction': 1.0,\n",
       "  'bagging_freq': 0,\n",
       "  'min_child_samples': 5},\n",
       " 'Reply': {'lambda_l1': 3.6150979470370794,\n",
       "  'lambda_l2': 0.011293289857721055,\n",
       "  'num_leaves': 31,\n",
       "  'feature_fraction': 1.0,\n",
       "  'bagging_fraction': 1.0,\n",
       "  'bagging_freq': 0,\n",
       "  'min_child_samples': 20},\n",
       " 'Like': {'lambda_l1': 0.0018653584865405692,\n",
       "  'lambda_l2': 9.697539406806108,\n",
       "  'num_leaves': 141,\n",
       "  'feature_fraction': 0.5,\n",
       "  'bagging_fraction': 1.0,\n",
       "  'bagging_freq': 0,\n",
       "  'min_child_samples': 50},\n",
       " 'RTwCmnt': {'lambda_l1': 0.3347312504451786,\n",
       "  'lambda_l2': 8.393452081658955,\n",
       "  'num_leaves': 135,\n",
       "  'feature_fraction': 0.42,\n",
       "  'bagging_fraction': 1.0,\n",
       "  'bagging_freq': 0,\n",
       "  'min_child_samples': 100}}"
      ]
     },
     "execution_count": 40,
     "metadata": {},
     "output_type": "execute_result"
    }
   ],
   "source": [
    "tgt2best_params"
   ]
  },
  {
   "cell_type": "markdown",
   "metadata": {},
   "source": [
    "# analyze"
   ]
  },
  {
   "cell_type": "markdown",
   "metadata": {},
   "source": [
    "## tr vl"
   ]
  },
  {
   "cell_type": "raw",
   "metadata": {
    "scrolled": false
   },
   "source": [
    "for tgt in tgt2evalres:\n",
    "    evalres=tgt2evalres[tgt]\n",
    "    plt.plot(evalres['train']['logloss'][10:])\n",
    "    plt.plot(evalres['eval']['logloss'][10:])\n",
    "    plt.title(f\"{tgt} logloss {len(evalres['train']['logloss'])} rounds\")\n",
    "    plt.show()\n",
    "    plt.plot(evalres['train']['aucpr'])\n",
    "    plt.plot(evalres['eval']['aucpr'])\n",
    "    plt.title(f\"{tgt} aucpr {len(evalres['train']['aucpr'])} rounds\")\n",
    "    plt.show()"
   ]
  },
  {
   "cell_type": "raw",
   "metadata": {
    "scrolled": false
   },
   "source": [
    "def show_feat_importance(tgt):\n",
    "    bst=tgt2bst[tgt]\n",
    "    ax = xgb.plot_importance(bst, height=0.8, max_num_features=9)\n",
    "    ax.grid(False, axis=\"y\")\n",
    "    ax.set_title(f'{tgt} Estimated feature importance')\n",
    "    plt.show()\n",
    "    feat2importance=bst.get_fscore()\n",
    "    print(tgt)\n",
    "    display(pd.DataFrame([feat2importance.keys(), \n",
    "                          feat2importance.values()]).T.sort_values(1, ascending=False))\n",
    "\n",
    "for tgt in tgt2bst:\n",
    "    show_feat_importance(tgt)"
   ]
  },
  {
   "cell_type": "code",
   "execution_count": 10,
   "metadata": {},
   "outputs": [
    {
     "name": "stdout",
     "output_type": "stream",
     "text": [
      "Retweet\n",
      "tr prauc: 0.5615 tr rce: 27.7108\n",
      "vl prauc: 0.3345 vl rce: 13.1918\n",
      "Reply\n",
      "tr prauc: 0.4118 tr rce: 20.9094\n",
      "vl prauc: 0.3234 vl rce: 15.4141\n",
      "Like\n",
      "tr prauc: 0.7936 tr rce: 24.7456\n",
      "vl prauc: 0.6970 vl rce: 14.8141\n",
      "RTwCmnt\n",
      "tr prauc: 0.3830 tr rce: 17.4084\n",
      "vl prauc: 0.2412 vl rce: 9.3831\n"
     ]
    }
   ],
   "source": [
    "tgt2auc_tr={}\n",
    "tgt2rce_tr={}\n",
    "tgt2auc_vl={}\n",
    "tgt2rce_vl={}\n",
    "for tgt in tgt2bst:\n",
    "    print(tgt)\n",
    "    prdtr_i, prdvl_i = tgt2prdtr[tgt], tgt2prdvl[tgt]\n",
    "    ytr_i, yvl_i = tgt2ytr[tgt], tgt2yvl[tgt]\n",
    "    scr_auc_tr=compute_prauc(prdtr_i, ytr_i)\n",
    "    scr_rce_tr=compute_rce(prdtr_i, ytr_i)\n",
    "    scr_auc_vl=compute_prauc(prdvl_i, yvl_i)\n",
    "    scr_rce_vl=compute_rce(prdvl_i, yvl_i)\n",
    "\n",
    "    tgt2auc_tr[tgt]=scr_auc_tr\n",
    "    tgt2rce_tr[tgt]=scr_rce_tr\n",
    "    tgt2auc_vl[tgt]=scr_auc_vl\n",
    "    tgt2rce_vl[tgt]=scr_rce_vl\n",
    "    \n",
    "    print('tr prauc:', f'{scr_auc_tr:.4f}','tr rce:', f'{scr_rce_tr:.4f}', )\n",
    "    print('vl prauc:', f'{scr_auc_vl:.4f}','vl rce:', f'{scr_rce_vl:.4f}', )"
   ]
  },
  {
   "cell_type": "code",
   "execution_count": 11,
   "metadata": {},
   "outputs": [
    {
     "data": {
      "text/html": [
       "<div>\n",
       "<style scoped>\n",
       "    .dataframe tbody tr th:only-of-type {\n",
       "        vertical-align: middle;\n",
       "    }\n",
       "\n",
       "    .dataframe tbody tr th {\n",
       "        vertical-align: top;\n",
       "    }\n",
       "\n",
       "    .dataframe thead th {\n",
       "        text-align: right;\n",
       "    }\n",
       "</style>\n",
       "<table border=\"1\" class=\"dataframe\">\n",
       "  <thead>\n",
       "    <tr style=\"text-align: right;\">\n",
       "      <th></th>\n",
       "      <th>0</th>\n",
       "      <th>1</th>\n",
       "      <th>2</th>\n",
       "      <th>3</th>\n",
       "      <th>4</th>\n",
       "      <th>5</th>\n",
       "      <th>6</th>\n",
       "      <th>7</th>\n",
       "    </tr>\n",
       "  </thead>\n",
       "  <tbody>\n",
       "    <tr>\n",
       "      <th>metric</th>\n",
       "      <td>PRAUC Retweet</td>\n",
       "      <td>RCE Retweet</td>\n",
       "      <td>PRAUC Reply</td>\n",
       "      <td>RCE Reply</td>\n",
       "      <td>PRAUC Like</td>\n",
       "      <td>RCE Like</td>\n",
       "      <td>PRAUC RTwCmnt</td>\n",
       "      <td>RCE RTwCmnt</td>\n",
       "    </tr>\n",
       "    <tr>\n",
       "      <th>scrtr</th>\n",
       "      <td>0.561538</td>\n",
       "      <td>27.7108</td>\n",
       "      <td>0.411845</td>\n",
       "      <td>20.9094</td>\n",
       "      <td>0.793648</td>\n",
       "      <td>24.7456</td>\n",
       "      <td>0.382963</td>\n",
       "      <td>17.4084</td>\n",
       "    </tr>\n",
       "    <tr>\n",
       "      <th>scrvl</th>\n",
       "      <td>0.334452</td>\n",
       "      <td>13.1918</td>\n",
       "      <td>0.323379</td>\n",
       "      <td>15.4141</td>\n",
       "      <td>0.696969</td>\n",
       "      <td>14.8141</td>\n",
       "      <td>0.241213</td>\n",
       "      <td>9.38314</td>\n",
       "    </tr>\n",
       "  </tbody>\n",
       "</table>\n",
       "</div>"
      ],
      "text/plain": [
       "                    0            1            2          3           4  \\\n",
       "metric  PRAUC Retweet  RCE Retweet  PRAUC Reply  RCE Reply  PRAUC Like   \n",
       "scrtr        0.561538      27.7108     0.411845    20.9094    0.793648   \n",
       "scrvl        0.334452      13.1918     0.323379    15.4141    0.696969   \n",
       "\n",
       "               5              6            7  \n",
       "metric  RCE Like  PRAUC RTwCmnt  RCE RTwCmnt  \n",
       "scrtr    24.7456       0.382963      17.4084  \n",
       "scrvl    14.8141       0.241213      9.38314  "
      ]
     },
     "execution_count": 11,
     "metadata": {},
     "output_type": "execute_result"
    }
   ],
   "source": [
    "lsttr=[]\n",
    "lstvl=[]\n",
    "for tgt in ['Retweet','Reply','Like','RTwCmnt',]:\n",
    "    if tgt not in tgt2bst: continue\n",
    "    lsttr+=[(f'PRAUC {tgt}',tgt2auc_tr[tgt]),\n",
    "          (f'RCE {tgt}',tgt2rce_tr[tgt])]\n",
    "    lstvl+=[(f'PRAUC {tgt}',tgt2auc_vl[tgt]),\n",
    "          (f'RCE {tgt}',tgt2rce_vl[tgt])]\n",
    "\n",
    "dfscrtr=pd.DataFrame(lsttr)\n",
    "dfscrtr.columns=['metric','scr']\n",
    "dfscrvl=pd.DataFrame(lstvl)\n",
    "dfscrvl.columns=['metric','scr']\n",
    "dfscr = pd.merge(dfscrtr, dfscrvl, on='metric', suffixes=('tr','vl'))\n",
    "dfscr.T"
   ]
  },
  {
   "cell_type": "markdown",
   "metadata": {},
   "source": [
    "## valid"
   ]
  },
  {
   "cell_type": "code",
   "execution_count": 12,
   "metadata": {},
   "outputs": [],
   "source": [
    "# tgt=tgts[1]\n",
    "# tgtcol=tgt2col[tgt]\n",
    "# bst=tgt2bst[tgt]\n",
    "\n",
    "# dvalid=xgb.DMatrix(dfvalid[cols_feat], label=dfvalid[tgtcol], feature_names=cols_feat)\n",
    "\n",
    "# prdvalid = bst.predict(dvalid, ntree_limit=bst.best_ntree_limit)\n",
    "\n",
    "# pops=tgt2pops[tgt]\n",
    "\n",
    "# prdvalid[:10]\n",
    "# # array([0.11734424, 0.09971393, 0.05619054, 0.03059793, 0.07979691,\n",
    "# #        0.01358252, 0.05293725, 0.27954698, 0.05738379, 0.01741553],\n",
    "# #       dtype=float32)\n",
    "\n",
    "\n",
    "# pops\n",
    "# # {'train_pop': 4000000,\n",
    "# #  'target_pop': 109752,\n",
    "# #  'sampled_train_pop': 1000000,\n",
    "# #  'sampled_target_pop': 109752}\n",
    "\n",
    "# prdvalid_calib = calibration(prdvalid, **pops)\n",
    "\n",
    "# prdvalid_calib[:10]\n",
    "# # array([0.02952491, 0.02471944, 0.01344113, 0.00717127, 0.01945818,\n",
    "# #        0.00314114, 0.0126298 , 0.08155248, 0.01373977, 0.00403964],\n",
    "# #       dtype=float32)"
   ]
  },
  {
   "cell_type": "code",
   "execution_count": 30,
   "metadata": {},
   "outputs": [],
   "source": [
    "def do_post_valid(tgt):\n",
    "    tgtcol=tgt2col[tgt]\n",
    "    bst=tgt2bst[tgt]\n",
    "    pops=tgt2pops[tgt]\n",
    "    prdvalid = bst.predict(dfvalid[cols_feat],num_iteration=bst.best_iteration)\n",
    "    prdvalid_calib = calibration(prdvalid, **pops)\n",
    "    return prdvalid,prdvalid_calib"
   ]
  },
  {
   "cell_type": "code",
   "execution_count": 31,
   "metadata": {},
   "outputs": [
    {
     "name": "stdout",
     "output_type": "stream",
     "text": [
      "2020-03-24 18:10:47 Retweet\n",
      "2020-03-24 18:10:59 Reply\n",
      "2020-03-24 18:11:09 Like\n",
      "2020-03-24 18:11:22 RTwCmnt\n"
     ]
    }
   ],
   "source": [
    "tgt2yvalid={tgt:dfvalid[tgt2col[tgt]] for tgt in tgts}\n",
    "tgt2prdvalid={}\n",
    "tgt2prdvalid_calib={}\n",
    "for tgt in tgts:\n",
    "    print(dtnow(), tgt)\n",
    "    tgt2prdvalid[tgt],tgt2prdvalid_calib[tgt]=do_post_valid(tgt)\n"
   ]
  },
  {
   "cell_type": "code",
   "execution_count": 32,
   "metadata": {},
   "outputs": [
    {
     "name": "stdout",
     "output_type": "stream",
     "text": [
      "2020-03-24 18:11:32 Retweet\n",
      "2020-03-24 18:11:34 Reply\n",
      "2020-03-24 18:11:36 Like\n",
      "2020-03-24 18:11:38 RTwCmnt\n"
     ]
    }
   ],
   "source": [
    "tgt2auc_valid={}\n",
    "tgt2rce_valid={}\n",
    "tgt2auc_valid_calib={}\n",
    "tgt2rce_valid_calib={}\n",
    "for tgt in tgts:\n",
    "    print(dtnow(), tgt)\n",
    "    prdvalid, prdvalid_calib = tgt2prdvalid[tgt], tgt2prdvalid_calib[tgt]\n",
    "    yvalid = tgt2yvalid[tgt]\n",
    "    scr_auc_valid=compute_prauc(prdvalid, yvalid)\n",
    "    scr_rce_valid=compute_rce(prdvalid, yvalid)\n",
    "    scr_auc_valid_calib=compute_prauc(prdvalid_calib, yvalid)\n",
    "    scr_rce_valid_calib=compute_rce(prdvalid_calib, yvalid)\n",
    "\n",
    "    tgt2auc_valid[tgt]=scr_auc_valid\n",
    "    tgt2rce_valid[tgt]=scr_rce_valid\n",
    "    tgt2auc_valid_calib[tgt]=scr_auc_valid_calib\n",
    "    tgt2rce_valid_calib[tgt]=scr_rce_valid_calib"
   ]
  },
  {
   "cell_type": "code",
   "execution_count": 33,
   "metadata": {
    "collapsed": true
   },
   "outputs": [
    {
     "name": "stdout",
     "output_type": "stream",
     "text": [
      "Retweet\n",
      "tr          prauc: 0.5615 tr rce: 27.7108\n",
      "vl          prauc: 0.3345 tr rce: 13.1918\n",
      "valid       prauc: 0.3198 tr rce: 12.5012\n",
      "valid_calib prauc: 0.3198 tr rce: 12.5012\n",
      "Reply\n",
      "tr          prauc: 0.4118 tr rce: 20.9094\n",
      "vl          prauc: 0.3234 tr rce: 15.4141\n",
      "valid       prauc: 0.1055 tr rce: -21.8611\n",
      "valid_calib prauc: 0.1055 tr rce: 11.8948\n",
      "Like\n",
      "tr          prauc: 0.7936 tr rce: 24.7456\n",
      "vl          prauc: 0.6970 tr rce: 14.8141\n",
      "valid       prauc: 0.6922 tr rce: 14.4965\n",
      "valid_calib prauc: 0.6922 tr rce: 14.4965\n",
      "RTwCmnt\n",
      "tr          prauc: 0.3830 tr rce: 17.4084\n",
      "vl          prauc: 0.2412 tr rce: 9.3831\n",
      "valid       prauc: 0.0250 tr rce: -158.4843\n",
      "valid_calib prauc: 0.0250 tr rce: 5.8453\n"
     ]
    }
   ],
   "source": [
    "for tgt in tgts:\n",
    "    print(tgt)\n",
    "    print('tr          prauc:', f'{tgt2auc_tr[tgt]:.4f}','tr rce:', f'{tgt2rce_tr[tgt]:.4f}', )\n",
    "    print('vl          prauc:', f'{tgt2auc_vl[tgt]:.4f}','tr rce:', f'{tgt2rce_vl[tgt]:.4f}', )\n",
    "    print('valid       prauc:', f'{tgt2auc_valid[tgt]:.4f}','tr rce:', f'{tgt2rce_valid[tgt]:.4f}', )\n",
    "    print('valid_calib prauc:', f'{tgt2auc_valid_calib[tgt]:.4f}','tr rce:', f'{tgt2rce_valid_calib[tgt]:.4f}', )\n",
    "    "
   ]
  },
  {
   "cell_type": "code",
   "execution_count": 34,
   "metadata": {},
   "outputs": [
    {
     "data": {
      "text/html": [
       "<div>\n",
       "<style scoped>\n",
       "    .dataframe tbody tr th:only-of-type {\n",
       "        vertical-align: middle;\n",
       "    }\n",
       "\n",
       "    .dataframe tbody tr th {\n",
       "        vertical-align: top;\n",
       "    }\n",
       "\n",
       "    .dataframe thead th {\n",
       "        text-align: right;\n",
       "    }\n",
       "</style>\n",
       "<table border=\"1\" class=\"dataframe\">\n",
       "  <thead>\n",
       "    <tr style=\"text-align: right;\">\n",
       "      <th></th>\n",
       "      <th>0</th>\n",
       "      <th>1</th>\n",
       "      <th>2</th>\n",
       "      <th>3</th>\n",
       "      <th>4</th>\n",
       "      <th>5</th>\n",
       "      <th>6</th>\n",
       "      <th>7</th>\n",
       "    </tr>\n",
       "  </thead>\n",
       "  <tbody>\n",
       "    <tr>\n",
       "      <th>scr</th>\n",
       "      <td>PRAUC Retweet</td>\n",
       "      <td>RCE Retweet</td>\n",
       "      <td>PRAUC Reply</td>\n",
       "      <td>RCE Reply</td>\n",
       "      <td>PRAUC Like</td>\n",
       "      <td>RCE Like</td>\n",
       "      <td>PRAUC RTwCmnt</td>\n",
       "      <td>RCE RTwCmnt</td>\n",
       "    </tr>\n",
       "    <tr>\n",
       "      <th>tr</th>\n",
       "      <td>0.561538</td>\n",
       "      <td>27.7108</td>\n",
       "      <td>0.411845</td>\n",
       "      <td>20.9094</td>\n",
       "      <td>0.793648</td>\n",
       "      <td>24.7456</td>\n",
       "      <td>0.382963</td>\n",
       "      <td>17.4084</td>\n",
       "    </tr>\n",
       "    <tr>\n",
       "      <th>vl</th>\n",
       "      <td>0.334452</td>\n",
       "      <td>13.1918</td>\n",
       "      <td>0.323379</td>\n",
       "      <td>15.4141</td>\n",
       "      <td>0.696969</td>\n",
       "      <td>14.8141</td>\n",
       "      <td>0.241213</td>\n",
       "      <td>9.38314</td>\n",
       "    </tr>\n",
       "    <tr>\n",
       "      <th>valid</th>\n",
       "      <td>0.319797</td>\n",
       "      <td>12.5012</td>\n",
       "      <td>0.105461</td>\n",
       "      <td>-21.8611</td>\n",
       "      <td>0.692242</td>\n",
       "      <td>14.4965</td>\n",
       "      <td>0.0249573</td>\n",
       "      <td>-158.484</td>\n",
       "    </tr>\n",
       "    <tr>\n",
       "      <th>valid_calib</th>\n",
       "      <td>0.319797</td>\n",
       "      <td>12.5012</td>\n",
       "      <td>0.105461</td>\n",
       "      <td>11.8948</td>\n",
       "      <td>0.692242</td>\n",
       "      <td>14.4965</td>\n",
       "      <td>0.0249573</td>\n",
       "      <td>5.84528</td>\n",
       "    </tr>\n",
       "  </tbody>\n",
       "</table>\n",
       "</div>"
      ],
      "text/plain": [
       "                         0            1            2          3           4  \\\n",
       "scr          PRAUC Retweet  RCE Retweet  PRAUC Reply  RCE Reply  PRAUC Like   \n",
       "tr                0.561538      27.7108     0.411845    20.9094    0.793648   \n",
       "vl                0.334452      13.1918     0.323379    15.4141    0.696969   \n",
       "valid             0.319797      12.5012     0.105461   -21.8611    0.692242   \n",
       "valid_calib       0.319797      12.5012     0.105461    11.8948    0.692242   \n",
       "\n",
       "                    5              6            7  \n",
       "scr          RCE Like  PRAUC RTwCmnt  RCE RTwCmnt  \n",
       "tr            24.7456       0.382963      17.4084  \n",
       "vl            14.8141       0.241213      9.38314  \n",
       "valid         14.4965      0.0249573     -158.484  \n",
       "valid_calib   14.4965      0.0249573      5.84528  "
      ]
     },
     "execution_count": 34,
     "metadata": {},
     "output_type": "execute_result"
    }
   ],
   "source": [
    "lsttr=[]\n",
    "lstvl=[]\n",
    "lstvalid=[]\n",
    "lstvalid_calib=[]\n",
    "for tgt in ['Retweet','Reply','Like','RTwCmnt',]:\n",
    "    if tgt not in tgt2bst: continue\n",
    "    lsttr+=[(f'PRAUC {tgt}',tgt2auc_tr[tgt]),\n",
    "          (f'RCE {tgt}',tgt2rce_tr[tgt])]\n",
    "    lstvl+=[(f'PRAUC {tgt}',tgt2auc_vl[tgt]),\n",
    "          (f'RCE {tgt}',tgt2rce_vl[tgt])]\n",
    "    lstvalid+=[(f'PRAUC {tgt}',tgt2auc_valid[tgt]),\n",
    "          (f'RCE {tgt}',tgt2rce_valid[tgt])]\n",
    "    lstvalid_calib+=[(f'PRAUC {tgt}',tgt2auc_valid_calib[tgt]),\n",
    "          (f'RCE {tgt}',tgt2rce_valid_calib[tgt])]\n",
    "\n",
    "dfscrtr=pd.DataFrame(lsttr)\n",
    "dfscrtr.columns=['metric','scr']\n",
    "dfscrvl=pd.DataFrame(lstvl)\n",
    "dfscrvl.columns=['metric','scr']\n",
    "dfscrvalid=pd.DataFrame(lstvalid)\n",
    "dfscrvalid.columns=['metric','scr']\n",
    "dfscrvalid_calib=pd.DataFrame(lstvalid_calib)\n",
    "dfscrvalid_calib.columns=['metric','scr']\n",
    "\n",
    "dfscr = reduce(lambda df1,df2: pd.merge(df1,df2,on='metric'), \n",
    "            [dfscrtr,dfscrvl,dfscrvalid,dfscrvalid_calib])\n",
    "\n",
    "dfscr.columns=['scr','tr','vl','valid','valid_calib']\n",
    "dfscr.T"
   ]
  },
  {
   "cell_type": "markdown",
   "metadata": {},
   "source": [
    "# save"
   ]
  },
  {
   "cell_type": "code",
   "execution_count": 39,
   "metadata": {},
   "outputs": [],
   "source": [
    "pickle.dump(tgt2bst, open(f\"{p_out}/tgt2bst.p\", \"wb\"))\n",
    "pickle.dump(tgt2best_params, open(f\"{p_out}/tgt2best_params.p\", \"wb\"))\n",
    "pickle.dump(tgt2tuning_history, open(f\"{p_out}/tgt2tuning_history.p\", \"wb\"))\n",
    "pickle.dump(tgt2ytr, open(f\"{p_out}/tgt2ytr.p\", \"wb\"))\n",
    "pickle.dump(tgt2yvl, open(f\"{p_out}/tgt2yvl.p\", \"wb\"))\n",
    "pickle.dump(tgt2prdtr, open(f\"{p_out}/tgt2prdtr.p\", \"wb\"))\n",
    "pickle.dump(tgt2prdvl, open(f\"{p_out}/tgt2prdvl.p\", \"wb\"))\n",
    "pickle.dump(tgt2pops, open(f\"{p_out}/tgt2pops.p\", \"wb\"))\n",
    "pickle.dump(tgt2prdvalid, open(f\"{p_out}/tgt2prdvalid.p\", \"wb\"))\n",
    "pickle.dump(tgt2prdvalid_calib, open(f\"{p_out}/tgt2prdvalid_calib.p\", \"wb\"))"
   ]
  },
  {
   "cell_type": "markdown",
   "metadata": {},
   "source": [
    "# infer"
   ]
  },
  {
   "cell_type": "raw",
   "metadata": {},
   "source": [
    "ls -lhS $p_in | grep val"
   ]
  },
  {
   "cell_type": "code",
   "execution_count": 23,
   "metadata": {},
   "outputs": [
    {
     "name": "stdout",
     "output_type": "stream",
     "text": [
      "CPU times: user 1min 33s, sys: 8.57 s, total: 1min 41s\n",
      "Wall time: 1min 41s\n"
     ]
    }
   ],
   "source": [
    "%%time\n",
    "dftst=pd.read_csv(\n",
    "    f'{p_in}/val_{valtmstmp}.tsv',\n",
    "#     f'{p_in}/val_259A6F6DFD672CB1F883CBEC01B99F2D_1584405047.tsv',\n",
    "    sep='\\x01', header=None, names=cols_val,)\n"
   ]
  },
  {
   "cell_type": "code",
   "execution_count": 24,
   "metadata": {
    "scrolled": false
   },
   "outputs": [
    {
     "name": "stdout",
     "output_type": "stream",
     "text": [
      "CPU times: user 1min 54s, sys: 10.1 s, total: 2min 4s\n",
      "Wall time: 2min 4s\n"
     ]
    }
   ],
   "source": [
    "%%time\n",
    "dftst = prp_df(dftst, istrn=False)"
   ]
  },
  {
   "cell_type": "code",
   "execution_count": 35,
   "metadata": {
    "scrolled": true
   },
   "outputs": [
    {
     "name": "stdout",
     "output_type": "stream",
     "text": [
      "2020-03-24 18:14:52 Retweet\n",
      "2020-03-24 18:18:05 Reply\n",
      "2020-03-24 18:21:01 Like\n",
      "2020-03-24 18:25:01 RTwCmnt\n",
      "CPU times: user 2h 2min 21s, sys: 6min 29s, total: 2h 8min 50s\n",
      "Wall time: 13min 21s\n"
     ]
    }
   ],
   "source": [
    "%%time\n",
    "tgt2prdtst={}\n",
    "for tgt in tgts:\n",
    "    print(dtnow(), tgt)\n",
    "    bst = tgt2bst[tgt]\n",
    "    pops=tgt2pops[tgt]\n",
    "    prdtst = bst.predict(dftst[cols_feat], num_iteration=bst.best_iteration)\n",
    "    prdtst_calib = calibration(prdtst, **pops)\n",
    "    tgt2prdtst[tgt] = prdtst_calib"
   ]
  },
  {
   "cell_type": "code",
   "execution_count": 36,
   "metadata": {},
   "outputs": [],
   "source": [
    "dfsub_ids = dftst[['twtid','u2id',]]\n",
    "\n",
    "tgt2dfsub = {}\n",
    "for tgt,prdtst in tgt2prdtst.items():\n",
    "    dfsub = dfsub_ids.copy()\n",
    "    dfsub['scr'] = prdtst\n",
    "    tgt2dfsub[tgt]=dfsub"
   ]
  },
  {
   "cell_type": "code",
   "execution_count": 37,
   "metadata": {},
   "outputs": [
    {
     "name": "stdout",
     "output_type": "stream",
     "text": [
      "2020-03-24 18:28:19 Retweet\n",
      "2020-03-24 18:29:24 Reply\n",
      "2020-03-24 18:30:29 RTwCmnt\n",
      "2020-03-24 18:31:34 Like\n",
      "CPU times: user 4min 5s, sys: 13.2 s, total: 4min 18s\n",
      "Wall time: 4min 18s\n"
     ]
    }
   ],
   "source": [
    "%%time\n",
    "for i,tgt in enumerate(['Retweet','Reply','RTwCmnt','Like',]):\n",
    "    dfsub = tgt2dfsub[tgt]\n",
    "    print(dtnow(), tgt)\n",
    "    dfsub.to_csv(f'{p_out}/{i}_{tgt}__{valtmstmp}__{PRFX}.csv',index=False,header=False)"
   ]
  },
  {
   "cell_type": "code",
   "execution_count": null,
   "metadata": {},
   "outputs": [],
   "source": []
  },
  {
   "cell_type": "code",
   "execution_count": null,
   "metadata": {},
   "outputs": [],
   "source": []
  },
  {
   "cell_type": "code",
   "execution_count": null,
   "metadata": {},
   "outputs": [],
   "source": []
  },
  {
   "cell_type": "code",
   "execution_count": null,
   "metadata": {},
   "outputs": [],
   "source": []
  },
  {
   "cell_type": "code",
   "execution_count": null,
   "metadata": {},
   "outputs": [],
   "source": []
  }
 ],
 "metadata": {
  "kernelspec": {
   "display_name": "rcss20",
   "language": "python",
   "name": "rcss20"
  },
  "language_info": {
   "codemirror_mode": {
    "name": "ipython",
    "version": 3
   },
   "file_extension": ".py",
   "mimetype": "text/x-python",
   "name": "python",
   "nbconvert_exporter": "python",
   "pygments_lexer": "ipython3",
   "version": "3.7.6"
  },
  "toc": {
   "base_numbering": 1,
   "nav_menu": {},
   "number_sections": true,
   "sideBar": true,
   "skip_h1_title": false,
   "title_cell": "Table of Contents",
   "title_sidebar": "Contents",
   "toc_cell": false,
   "toc_position": {},
   "toc_section_display": true,
   "toc_window_display": true
  }
 },
 "nbformat": 4,
 "nbformat_minor": 4
}
