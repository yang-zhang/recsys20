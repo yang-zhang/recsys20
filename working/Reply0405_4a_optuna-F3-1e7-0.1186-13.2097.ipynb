{
 "cells": [
  {
   "cell_type": "markdown",
   "metadata": {},
   "source": [
    "# start"
   ]
  },
  {
   "cell_type": "markdown",
   "metadata": {},
   "source": [
    "- http://localhost:8081/notebooks/git/recsys20/working/0324_6_3_lgb_feat_engr-1e7.ipynb\n",
    "- http://localhost:8081/notebooks/git/recsys20/working/mdl0404_1__xgb_mean_encode.ipynb\n",
    "- http://localhost:8081/notebooks/git/recsys20/working/eda_0404_1.ipynb#v.s.-target\n",
    "- https://www.kaggle.com/discdiver/category-encoders-examples"
   ]
  },
  {
   "cell_type": "code",
   "execution_count": 1,
   "metadata": {},
   "outputs": [
    {
     "name": "stdout",
     "output_type": "stream",
     "text": [
      "train_total 148,075,238, test_total 14,000,000\n",
      "['2020-03-17 02:32:24', '2020-04-06 00:35:47']\n",
      "['2020-02-06 00:00:00', '2020-02-12 23:59:59']\n",
      "['2020-02-13 00:00:00', '2020-02-19 23:59:59']\n"
     ]
    }
   ],
   "source": [
    "TGT='Reply'\n",
    "PRFX='Reply0405_4a'\n",
    "\n",
    "trntmstmp=1584412344\n",
    "tsttmstmp=1586133347\n",
    "\n",
    "tm_trn_min,tm_trn_max=(1580947200, 1581551999)\n",
    "tm_tst_min,tm_tst_max=(1581552000, 1582156799)\n",
    "\n",
    "SEED=101\n",
    "\n",
    "valsz = int(1e6)#int(1e5)\n",
    "trnsz = int(1e7)#int(5e5)\n",
    "\n",
    "train_total=148075238\n",
    "test_total=int(1.4e7)\n",
    "print(f'train_total {train_total:,}, test_total {test_total:,}')\n",
    "\n",
    "\n",
    "import datetime\n",
    "def showtm(tm): return datetime.datetime.fromtimestamp(tm).strftime('%Y-%m-%d %H:%M:%S')\n",
    "print([showtm(tm) for tm in (trntmstmp, tsttmstmp)])\n",
    "print([showtm(tm) for tm in (tm_trn_min,tm_trn_max)])\n",
    "print([showtm(tm) for tm in (tm_tst_min,tm_tst_max)])"
   ]
  },
  {
   "cell_type": "markdown",
   "metadata": {},
   "source": [
    "# setup"
   ]
  },
  {
   "cell_type": "code",
   "execution_count": 2,
   "metadata": {},
   "outputs": [
    {
     "name": "stdout",
     "output_type": "stream",
     "text": [
      "TCOL reply\n",
      "{'Retweet': 'retwt', 'Reply': 'reply', 'Like': 'like', 'RTwCmnt': 'retwt_cmmnt'}\n"
     ]
    }
   ],
   "source": [
    "from tqdm import tqdm\n",
    "import time\n",
    "from pathlib import Path\n",
    "from collections import Counter,defaultdict\n",
    "from sklearn.model_selection import train_test_split\n",
    "import pandas as pd\n",
    "import numpy as np\n",
    "import matplotlib.pyplot as plt\n",
    "from sklearn.metrics import accuracy_score, roc_auc_score, roc_curve, auc, precision_recall_curve\n",
    "import pickle\n",
    "# import xgboost as xgb\n",
    "# import lightgbm as lgb\n",
    "import category_encoders as ce\n",
    "import gc\n",
    "\n",
    "import optuna\n",
    "# optuna.logging.CRITICAL, optuna.logging.FATAL\n",
    "# optuna.logging.ERROR\n",
    "# optuna.logging.WARNING, optuna.logging.WARN\n",
    "# optuna.logging.INFO\n",
    "# optuna.logging.DEBUG\n",
    "optuna.logging.set_verbosity(optuna.logging.ERROR)\n",
    "import optuna.integration.lightgbm as lgb\n",
    "optuna.logging.set_verbosity(optuna.logging.ERROR)\n",
    "\n",
    "\n",
    "pd.set_option('display.max_rows', 500)\n",
    "pd.set_option('display.max_columns', 500)\n",
    "\n",
    "\n",
    "import datetime\n",
    "def dtnow(): return datetime.datetime.now().strftime('%Y-%m-%d %H:%M:%S')\n",
    "\n",
    "def iou(s1,s2):\n",
    "    return len(s1&s2) / len(s1|s2)\n",
    "\n",
    "HOME='/data/git/recsys20'\n",
    "p_in=f'{HOME}/input'\n",
    "p_out=f'{HOME}/output/{PRFX}'\n",
    "Path(p_out).mkdir(exist_ok=True, parents=True)\n",
    "\n",
    "from sklearn.metrics import precision_recall_curve, auc, log_loss\n",
    "\n",
    "def compute_prauc(pred, gt):\n",
    "    prec, recall, thresh = precision_recall_curve(gt, pred)\n",
    "    prauc = auc(recall, prec)\n",
    "    return prauc\n",
    "\n",
    "def calculate_ctr(gt):\n",
    "    positive = len([x for x in gt if x == 1])\n",
    "    ctr = positive/float(len(gt))\n",
    "    return ctr\n",
    "\n",
    "def compute_rce(pred, gt):\n",
    "    cross_entropy = log_loss(gt, pred)\n",
    "    data_ctr = calculate_ctr(gt)\n",
    "    strawman_cross_entropy = log_loss(gt, [data_ctr for _ in range(len(gt))])\n",
    "    return (1.0 - cross_entropy/strawman_cross_entropy)*100.0\n",
    "\n",
    "# https://towardsdatascience.com/how-to-calibrate-undersampled-model-scores-8f3319c1ea5b\n",
    "# How to use the function?\n",
    "# Let’s say your goal is to generate a model that shows the credit default probabilities and your original \n",
    "# training data has 50,000 rows with only 500 of them labeled as target class. When you sample your non-target \n",
    "# instances randomly and reduce the total row count to 10,000, while conserving 500 target rows, our calibration\n",
    "# function becomes:\n",
    "# calibration(model_results, 50000, 500, 10000, 500)\n",
    "# Here model_results is your model probability output array. After you train your model and put the results in it, your function is ready to use. \n",
    "def calibration(data, train_pop, target_pop, sampled_train_pop, sampled_target_pop):\n",
    "    calibrated_data = ((data * (target_pop / train_pop) / (sampled_target_pop / sampled_train_pop)) /\n",
    "    (((1 - data) * (1 - target_pop / train_pop) / (1 - sampled_target_pop / sampled_train_pop)) +\n",
    "     (data * (target_pop / train_pop) / (sampled_target_pop / sampled_train_pop))))\n",
    "    return calibrated_data\n",
    "\n",
    "\n",
    "cols=['toks','hshtgs','twtid','media','links','domns','twttyp','lang','tm','u1id','u1_fllwer_cnt','u1_fllwing_cnt','u1_vrfed','u1_create_tm','u2id','u2_fllwer_cnt','u2_fllwng_cnt','u2_vrfed','u2_create_tm','u1_fllw_u2','reply_tm','retwt_tm','retwt_cmmnt_tm','like_tm',]\n",
    "\n",
    "cols_val = cols[:-4]\n",
    "cols_tgt_tmstmp=[ 'retwt_tm', 'reply_tm', 'like_tm', 'retwt_cmmnt_tm',]\n",
    "cols_tgt=[o.split('_tm')[0] for o in cols_tgt_tmstmp]\n",
    "tgts             = ['Retweet','Reply','Like','RTwCmnt',]\n",
    "assert cols_tgt == ['retwt',  'reply','like','retwt_cmmnt',]\n",
    "tgt2col = dict(zip(tgts, cols_tgt))\n",
    "TCOL=tgt2col[TGT]\n",
    "print('TCOL', TCOL)\n",
    "print(tgt2col)"
   ]
  },
  {
   "cell_type": "markdown",
   "metadata": {},
   "source": [
    "# prep"
   ]
  },
  {
   "cell_type": "code",
   "execution_count": 3,
   "metadata": {},
   "outputs": [],
   "source": [
    "def prp_tgt(df):\n",
    "    df[cols_tgt]=df[cols_tgt_tmstmp].notna()\n",
    "    df.drop(columns=cols_tgt_tmstmp, inplace=True)\n",
    "    display(df[cols_tgt].mean())"
   ]
  },
  {
   "cell_type": "code",
   "execution_count": 4,
   "metadata": {
    "scrolled": false
   },
   "outputs": [
    {
     "name": "stdout",
     "output_type": "stream",
     "text": [
      "(1000000, 24)\n"
     ]
    },
    {
     "data": {
      "text/plain": [
       "retwt          0.113135\n",
       "reply          0.027688\n",
       "like           0.438804\n",
       "retwt_cmmnt    0.007750\n",
       "dtype: float64"
      ]
     },
     "metadata": {},
     "output_type": "display_data"
    },
    {
     "name": "stdout",
     "output_type": "stream",
     "text": [
      "CPU times: user 7.15 s, sys: 760 ms, total: 7.91 s\n",
      "Wall time: 7.91 s\n"
     ]
    }
   ],
   "source": [
    "%%time\n",
    "dfval = pd.read_csv(f'{p_in}/trn_{trntmstmp}.tsv',sep='\\x01',header=None,names=cols,nrows=valsz)\n",
    "print(dfval.shape)\n",
    "prp_tgt(dfval)"
   ]
  },
  {
   "cell_type": "markdown",
   "metadata": {},
   "source": [
    "## maybe oversample"
   ]
  },
  {
   "cell_type": "code",
   "execution_count": 5,
   "metadata": {},
   "outputs": [],
   "source": [
    "# df = pd.read_csv(f'{p_in}/trn_{trntmstmp}.tsv',sep='\\x01',header=None,names=cols,nrows=5)\n",
    "# dfval = pd.read_csv(f'{p_in}/trn_{trntmstmp}.tsv',sep='\\x01',header=None,names=cols,nrows=2)\n",
    "# dftrn = pd.read_csv(f'{p_in}/trn_{trntmstmp}.tsv',sep='\\x01',header=None,names=cols,skiprows=2,nrows=3)\n",
    "# display(df.twtid)\n",
    "# display(dfval.twtid)\n",
    "# display(dftrn.twtid)\n",
    "\n",
    "# 0    D4D1EBDE74F74C5DA529959AF979625C\n",
    "# 1    BFB529DAB6D384EB83E899A72AB3830D\n",
    "# 2    519078C7834E9642508F72A6C2D0F3B7\n",
    "# 3    52AAE9E33EFAC8C478C57B31A9E31ED1\n",
    "# 4    89C1298C55EB3D68E2784F0BFB69E6F8\n",
    "# Name: twtid, dtype: object\n",
    "# 0    D4D1EBDE74F74C5DA529959AF979625C\n",
    "# 1    BFB529DAB6D384EB83E899A72AB3830D\n",
    "# Name: twtid, dtype: object\n",
    "# 0    519078C7834E9642508F72A6C2D0F3B7\n",
    "# 1    52AAE9E33EFAC8C478C57B31A9E31ED1\n",
    "# 2    89C1298C55EB3D68E2784F0BFB69E6F8\n",
    "# Name: twtid, dtype: object"
   ]
  },
  {
   "cell_type": "code",
   "execution_count": 6,
   "metadata": {
    "scrolled": true
   },
   "outputs": [
    {
     "name": "stdout",
     "output_type": "stream",
     "text": [
      "(37000000, 24)\n"
     ]
    },
    {
     "data": {
      "text/plain": [
       "retwt          0.113052\n",
       "reply          0.027434\n",
       "like           0.439190\n",
       "retwt_cmmnt    0.007789\n",
       "dtype: float64"
      ]
     },
     "metadata": {},
     "output_type": "display_data"
    },
    {
     "name": "stdout",
     "output_type": "stream",
     "text": [
      "CPU times: user 4min 25s, sys: 27.7 s, total: 4min 53s\n",
      "Wall time: 5min 6s\n"
     ]
    }
   ],
   "source": [
    "%%time\n",
    "if TGT in ('Retweet','Like'): trnpop=trnsz\n",
    "if TGT=='Reply': trnpop=trnsz*3.7\n",
    "if TGT=='RTwCmnt': trnpop=trnsz*11.5\n",
    "assert trnpop<train_total\n",
    "\n",
    "dftrn = pd.read_csv(f'{p_in}/trn_{trntmstmp}.tsv',sep='\\x01',header=None,names=cols,\n",
    "                     skiprows=valsz, nrows=trnpop)\n",
    "print(dftrn.shape)\n",
    "prp_tgt(dftrn)"
   ]
  },
  {
   "cell_type": "code",
   "execution_count": 7,
   "metadata": {
    "scrolled": true
   },
   "outputs": [
    {
     "name": "stdout",
     "output_type": "stream",
     "text": [
      "(10000000, 24) 0.1015047\n",
      "37000000 1015047 10000000 1015047\n"
     ]
    },
    {
     "data": {
      "text/html": [
       "<div>\n",
       "<style scoped>\n",
       "    .dataframe tbody tr th:only-of-type {\n",
       "        vertical-align: middle;\n",
       "    }\n",
       "\n",
       "    .dataframe tbody tr th {\n",
       "        vertical-align: top;\n",
       "    }\n",
       "\n",
       "    .dataframe thead th {\n",
       "        text-align: right;\n",
       "    }\n",
       "</style>\n",
       "<table border=\"1\" class=\"dataframe\">\n",
       "  <thead>\n",
       "    <tr style=\"text-align: right;\">\n",
       "      <th></th>\n",
       "      <th>toks</th>\n",
       "      <th>hshtgs</th>\n",
       "      <th>twtid</th>\n",
       "      <th>media</th>\n",
       "      <th>links</th>\n",
       "      <th>domns</th>\n",
       "      <th>twttyp</th>\n",
       "      <th>lang</th>\n",
       "      <th>tm</th>\n",
       "      <th>u1id</th>\n",
       "      <th>u1_fllwer_cnt</th>\n",
       "      <th>u1_fllwing_cnt</th>\n",
       "      <th>u1_vrfed</th>\n",
       "      <th>u1_create_tm</th>\n",
       "      <th>u2id</th>\n",
       "      <th>u2_fllwer_cnt</th>\n",
       "      <th>u2_fllwng_cnt</th>\n",
       "      <th>u2_vrfed</th>\n",
       "      <th>u2_create_tm</th>\n",
       "      <th>u1_fllw_u2</th>\n",
       "      <th>retwt</th>\n",
       "      <th>reply</th>\n",
       "      <th>like</th>\n",
       "      <th>retwt_cmmnt</th>\n",
       "    </tr>\n",
       "  </thead>\n",
       "  <tbody>\n",
       "    <tr>\n",
       "      <th>11</th>\n",
       "      <td>101\\t22734\\t19540\\t10393\\t124\\t76456\\t22201\\t1...</td>\n",
       "      <td>NaN</td>\n",
       "      <td>F11BD399C084D3035209F62EC72C0E6A</td>\n",
       "      <td>NaN</td>\n",
       "      <td>NaN</td>\n",
       "      <td>NaN</td>\n",
       "      <td>TopLevel</td>\n",
       "      <td>D3164C7FBCF2565DDF915B1B3AEFB1DC</td>\n",
       "      <td>1581044002</td>\n",
       "      <td>CFF9C8C70792DC31C769F29CBFA2FEBE</td>\n",
       "      <td>972</td>\n",
       "      <td>811</td>\n",
       "      <td>False</td>\n",
       "      <td>1575970944</td>\n",
       "      <td>0DD2B48B86395C04C36C377F0F499CC4</td>\n",
       "      <td>741</td>\n",
       "      <td>736</td>\n",
       "      <td>False</td>\n",
       "      <td>1563093560</td>\n",
       "      <td>True</td>\n",
       "      <td>False</td>\n",
       "      <td>True</td>\n",
       "      <td>True</td>\n",
       "      <td>False</td>\n",
       "    </tr>\n",
       "    <tr>\n",
       "      <th>32</th>\n",
       "      <td>101\\t100397\\t11447\\t119\\t100397\\t11447\\t119\\t1...</td>\n",
       "      <td>NaN</td>\n",
       "      <td>65AFF257ED64E9FA0428A761AA305287</td>\n",
       "      <td>NaN</td>\n",
       "      <td>NaN</td>\n",
       "      <td>NaN</td>\n",
       "      <td>Quote</td>\n",
       "      <td>1FFD2FE4297F5E70EBC6C3230D95CB9C</td>\n",
       "      <td>1581462579</td>\n",
       "      <td>5BA44B16761DE43723E20E995437805C</td>\n",
       "      <td>514</td>\n",
       "      <td>858</td>\n",
       "      <td>False</td>\n",
       "      <td>1237411551</td>\n",
       "      <td>0DD2CF17568371669DD5807061A7F231</td>\n",
       "      <td>17</td>\n",
       "      <td>38</td>\n",
       "      <td>False</td>\n",
       "      <td>1376576148</td>\n",
       "      <td>True</td>\n",
       "      <td>False</td>\n",
       "      <td>True</td>\n",
       "      <td>False</td>\n",
       "      <td>False</td>\n",
       "    </tr>\n",
       "    <tr>\n",
       "      <th>67</th>\n",
       "      <td>101\\t232\\t10113\\t44730\\t17828\\t102</td>\n",
       "      <td>NaN</td>\n",
       "      <td>96D790B62A2C15769B830E3A3E51BF34</td>\n",
       "      <td>NaN</td>\n",
       "      <td>NaN</td>\n",
       "      <td>NaN</td>\n",
       "      <td>TopLevel</td>\n",
       "      <td>FA3F382BC409C271E3D6EAF8BE4648DD</td>\n",
       "      <td>1581374220</td>\n",
       "      <td>2111169D09C052121BDF329807DC75A4</td>\n",
       "      <td>5296</td>\n",
       "      <td>1088</td>\n",
       "      <td>False</td>\n",
       "      <td>1286175742</td>\n",
       "      <td>0DD2ED2C408A60972110349BC121AEA7</td>\n",
       "      <td>77</td>\n",
       "      <td>304</td>\n",
       "      <td>False</td>\n",
       "      <td>1369165590</td>\n",
       "      <td>False</td>\n",
       "      <td>False</td>\n",
       "      <td>True</td>\n",
       "      <td>False</td>\n",
       "      <td>False</td>\n",
       "    </tr>\n",
       "    <tr>\n",
       "      <th>84</th>\n",
       "      <td>101\\t10862\\t11710\\t11223\\t14517\\t89106\\t17021\\...</td>\n",
       "      <td>NaN</td>\n",
       "      <td>46FB82A9A3034DDBD4A7C1E545720DF0</td>\n",
       "      <td>NaN</td>\n",
       "      <td>NaN</td>\n",
       "      <td>NaN</td>\n",
       "      <td>TopLevel</td>\n",
       "      <td>D3164C7FBCF2565DDF915B1B3AEFB1DC</td>\n",
       "      <td>1581536890</td>\n",
       "      <td>F8742926680CE7BA15DA13CE557BE011</td>\n",
       "      <td>2234</td>\n",
       "      <td>416</td>\n",
       "      <td>False</td>\n",
       "      <td>1305458959</td>\n",
       "      <td>0DD2FD96A5F56E0ABA54276D3CCC7480</td>\n",
       "      <td>1178</td>\n",
       "      <td>1661</td>\n",
       "      <td>False</td>\n",
       "      <td>1349738202</td>\n",
       "      <td>False</td>\n",
       "      <td>False</td>\n",
       "      <td>True</td>\n",
       "      <td>False</td>\n",
       "      <td>False</td>\n",
       "    </tr>\n",
       "    <tr>\n",
       "      <th>118</th>\n",
       "      <td>101\\t4726\\t4997\\t3740\\t1931\\t26164\\t29570\\t706...</td>\n",
       "      <td>NaN</td>\n",
       "      <td>9F3630A26084A55B8326376FC4AF5AF2</td>\n",
       "      <td>NaN</td>\n",
       "      <td>NaN</td>\n",
       "      <td>NaN</td>\n",
       "      <td>TopLevel</td>\n",
       "      <td>22C448FF81263D4BAF2A176145EE9EAD</td>\n",
       "      <td>1581463772</td>\n",
       "      <td>FE2B80E908ED0EF93CE0749BD93854BF</td>\n",
       "      <td>128</td>\n",
       "      <td>144</td>\n",
       "      <td>False</td>\n",
       "      <td>1567089785</td>\n",
       "      <td>0DD31F56720FD03FF243779A0004A4A8</td>\n",
       "      <td>146</td>\n",
       "      <td>191</td>\n",
       "      <td>False</td>\n",
       "      <td>1571151626</td>\n",
       "      <td>True</td>\n",
       "      <td>False</td>\n",
       "      <td>True</td>\n",
       "      <td>False</td>\n",
       "      <td>False</td>\n",
       "    </tr>\n",
       "  </tbody>\n",
       "</table>\n",
       "</div>"
      ],
      "text/plain": [
       "                                                  toks hshtgs  \\\n",
       "11   101\\t22734\\t19540\\t10393\\t124\\t76456\\t22201\\t1...    NaN   \n",
       "32   101\\t100397\\t11447\\t119\\t100397\\t11447\\t119\\t1...    NaN   \n",
       "67                  101\\t232\\t10113\\t44730\\t17828\\t102    NaN   \n",
       "84   101\\t10862\\t11710\\t11223\\t14517\\t89106\\t17021\\...    NaN   \n",
       "118  101\\t4726\\t4997\\t3740\\t1931\\t26164\\t29570\\t706...    NaN   \n",
       "\n",
       "                                twtid media links domns    twttyp  \\\n",
       "11   F11BD399C084D3035209F62EC72C0E6A   NaN   NaN   NaN  TopLevel   \n",
       "32   65AFF257ED64E9FA0428A761AA305287   NaN   NaN   NaN     Quote   \n",
       "67   96D790B62A2C15769B830E3A3E51BF34   NaN   NaN   NaN  TopLevel   \n",
       "84   46FB82A9A3034DDBD4A7C1E545720DF0   NaN   NaN   NaN  TopLevel   \n",
       "118  9F3630A26084A55B8326376FC4AF5AF2   NaN   NaN   NaN  TopLevel   \n",
       "\n",
       "                                 lang          tm  \\\n",
       "11   D3164C7FBCF2565DDF915B1B3AEFB1DC  1581044002   \n",
       "32   1FFD2FE4297F5E70EBC6C3230D95CB9C  1581462579   \n",
       "67   FA3F382BC409C271E3D6EAF8BE4648DD  1581374220   \n",
       "84   D3164C7FBCF2565DDF915B1B3AEFB1DC  1581536890   \n",
       "118  22C448FF81263D4BAF2A176145EE9EAD  1581463772   \n",
       "\n",
       "                                 u1id  u1_fllwer_cnt  u1_fllwing_cnt  \\\n",
       "11   CFF9C8C70792DC31C769F29CBFA2FEBE            972             811   \n",
       "32   5BA44B16761DE43723E20E995437805C            514             858   \n",
       "67   2111169D09C052121BDF329807DC75A4           5296            1088   \n",
       "84   F8742926680CE7BA15DA13CE557BE011           2234             416   \n",
       "118  FE2B80E908ED0EF93CE0749BD93854BF            128             144   \n",
       "\n",
       "     u1_vrfed  u1_create_tm                              u2id  u2_fllwer_cnt  \\\n",
       "11      False    1575970944  0DD2B48B86395C04C36C377F0F499CC4            741   \n",
       "32      False    1237411551  0DD2CF17568371669DD5807061A7F231             17   \n",
       "67      False    1286175742  0DD2ED2C408A60972110349BC121AEA7             77   \n",
       "84      False    1305458959  0DD2FD96A5F56E0ABA54276D3CCC7480           1178   \n",
       "118     False    1567089785  0DD31F56720FD03FF243779A0004A4A8            146   \n",
       "\n",
       "     u2_fllwng_cnt  u2_vrfed  u2_create_tm  u1_fllw_u2  retwt  reply   like  \\\n",
       "11             736     False    1563093560        True  False   True   True   \n",
       "32              38     False    1376576148        True  False   True  False   \n",
       "67             304     False    1369165590       False  False   True  False   \n",
       "84            1661     False    1349738202       False  False   True  False   \n",
       "118            191     False    1571151626        True  False   True  False   \n",
       "\n",
       "     retwt_cmmnt  \n",
       "11         False  \n",
       "32         False  \n",
       "67         False  \n",
       "84         False  \n",
       "118        False  "
      ]
     },
     "metadata": {},
     "output_type": "display_data"
    },
    {
     "data": {
      "text/plain": [
       "Index(['toks', 'hshtgs', 'twtid', 'media', 'links', 'domns', 'twttyp', 'lang',\n",
       "       'tm', 'u1id', 'u1_fllwer_cnt', 'u1_fllwing_cnt', 'u1_vrfed',\n",
       "       'u1_create_tm', 'u2id', 'u2_fllwer_cnt', 'u2_fllwng_cnt', 'u2_vrfed',\n",
       "       'u2_create_tm', 'u1_fllw_u2', 'retwt', 'reply', 'like', 'retwt_cmmnt'],\n",
       "      dtype='object')"
      ]
     },
     "metadata": {},
     "output_type": "display_data"
    }
   ],
   "source": [
    "train_pop=len(dftrn)\n",
    "sampled_train_pop=trnsz\n",
    "idx_pos = np.where(dftrn[TCOL])[0]\n",
    "target_pop=sampled_target_pop=len(idx_pos)\n",
    "if TGT in ('Reply','RTwCmnt'):\n",
    "    idx_neg0 = np.where(~dftrn[TCOL])[0]\n",
    "    idx_neg = np.random.choice(idx_neg0, trnsz-len(idx_pos), replace=False)\n",
    "    idx = np.concatenate([idx_pos,idx_neg])\n",
    "    dftrn = dftrn.iloc[idx].copy()\n",
    "print(dftrn.shape, dftrn[TCOL].mean())\n",
    "print(train_pop, target_pop, sampled_train_pop, sampled_target_pop)\n",
    "\n",
    "display(dftrn.head())\n",
    "display(dftrn.columns)"
   ]
  },
  {
   "cell_type": "markdown",
   "metadata": {},
   "source": [
    "## prep and features"
   ]
  },
  {
   "cell_type": "code",
   "execution_count": 8,
   "metadata": {},
   "outputs": [],
   "source": [
    "def prp_df(df, tm_max):\n",
    "    '''\n",
    "    tm_max = tm_trn_max for train tm_tst_max for test\n",
    "    '''\n",
    "    lendf = len(df)\n",
    "    print(dtnow(), 'start')\n",
    "    \n",
    "    #counts\n",
    "    df['len_toks'] = df.toks.apply(lambda x: len(x.split('\\t')))\n",
    "    df.drop(columns=['toks'], inplace=True)    \n",
    "    for m in ['Photo', 'Video', 'GIF']:\n",
    "        df[f'n_media_{m}'] = df['media'].fillna('').apply(lambda x: x.split('\\t').count(m))\n",
    "    tgnms = ['hshtgs','media', 'links', 'domns',]\n",
    "    for tgnm in tgnms:\n",
    "        df[f'has_{tgnm}']=df[tgnm].notna()\n",
    "        df[f'lst_{tgnm}'] = df[tgnm].fillna('').apply(lambda x: x.split('\\t') if len(x) else [])\n",
    "        df[f'n_{tgnm}'] = df[f'lst_{tgnm}'].apply(len)  \n",
    "    df.drop(columns=['has_links','n_links'], inplace=True) #duplicates has_domns,n_domns \n",
    "    \n",
    "    #time\n",
    "    dt = pd.to_datetime(df.tm, unit='s')\n",
    "    df['dayofweek'] = dt.dt.dayofweek\n",
    "    df['hour'] = dt.dt.hour\n",
    "    \n",
    "    df['tmdlta_u2u1']  = df.u2_create_tm - df.u1_create_tm\n",
    "    df['tmdlta_twtu1'] = df.tm - df.u1_create_tm\n",
    "    df['tmdlta_twtu2'] = df.tm - df.u2_create_tm\n",
    "\n",
    "    df['twt_age']   = tm_max-df.tm\n",
    "    df['u1_age']    = tm_max-df.u1_create_tm\n",
    "    df['u2_age']    = tm_max-df.u2_create_tm\n",
    "    df.drop(columns=['tm', 'u1_create_tm', 'u2_create_tm'], inplace=True)\n",
    "\n",
    "    #time derived\n",
    "    df['u1_fllwer_cnt_by_age'] = df.u1_fllwer_cnt / df.u1_age\n",
    "    df['u1_fllwng_cnt_by_age'] = df.u2_fllwng_cnt / df.u2_age\n",
    "    \n",
    "    #interaction\n",
    "    df['u1u2']=df.u1id+'_'+df.u2id\n",
    "    df['langhour']=df.lang+'_'+df.hour.astype(str)\n",
    "    \n",
    "\n",
    "    #freq of feature values\n",
    "    print(dtnow(), 'freq of columns using CountEncoder')\n",
    "    encoder = ce.CountEncoder()\n",
    "    encoded = encoder.fit_transform(\n",
    "    df[['twtid', 'twttyp', 'lang', 'u1id', 'u1_fllwing_cnt', 'u1_vrfed', 'u2id', 'u2_fllwer_cnt', 'u2_vrfed', 'u1_fllw_u2', \n",
    "       'n_media_Photo', 'n_media_Video', 'n_media_GIF', \n",
    "       'has_hshtgs', 'n_hshtgs', 'has_media', 'n_media','has_domns', 'n_domns', \n",
    "       'dayofweek', 'hour', 'u1u2', 'langhour']].astype(object))\n",
    "    encoded = encoded.astype(int)/lendf\n",
    "    encoded.columns = [f'frq_{col}' for col in encoded.columns]\n",
    "    df = pd.concat([df,encoded],1)\n",
    "    \n",
    "    #freq of tgnm values\n",
    "    print(dtnow(), 'freq of tags')\n",
    "    for tgnm in tgnms:\n",
    "        vs = [j for i in df[f'lst_{tgnm}'] for j in i]\n",
    "        cnt = Counter(vs)\n",
    "        frq = {k:v/lendf for k,v in cnt.items()}\n",
    "        df[f'sumfrq_{tgnm}']=df[f'lst_{tgnm}'].apply(lambda x: sum([frq.get(o,0) for o in x]))\n",
    "        df[f'maxfrq_{tgnm}']=df[f'lst_{tgnm}'].apply(lambda x: max([frq.get(o,0) for o in x]) if len(x) else 0)\n",
    "    df.drop(columns=tgnms+[f'lst_{tgnm}' for tgnm in tgnms],inplace=True)\n",
    "\n",
    "    print(dtnow(), 'done')\n",
    "    return df"
   ]
  },
  {
   "cell_type": "code",
   "execution_count": null,
   "metadata": {},
   "outputs": [
    {
     "name": "stdout",
     "output_type": "stream",
     "text": [
      "2020-04-07 01:03:38 start\n",
      "2020-04-07 01:07:53 freq of columns using CountEncoder\n"
     ]
    },
    {
     "name": "stderr",
     "output_type": "stream",
     "text": [
      "/data/anaconda3/envs/rcss20/lib/python3.7/site-packages/category_encoders/count.py:255: FutureWarning: The pandas.np module is deprecated and will be removed from pandas in a future version. Import numpy directly instead\n",
      "  X.loc[:, self.cols] = X.fillna(value=pd.np.nan)\n"
     ]
    },
    {
     "name": "stdout",
     "output_type": "stream",
     "text": [
      "2020-04-07 01:14:55 freq of tags\n"
     ]
    }
   ],
   "source": [
    "%%time\n",
    "dftrn=prp_df(dftrn, tm_max=tm_trn_max)"
   ]
  },
  {
   "cell_type": "code",
   "execution_count": null,
   "metadata": {},
   "outputs": [],
   "source": [
    "%%time\n",
    "dfval=prp_df(dfval, tm_max=tm_trn_max)"
   ]
  },
  {
   "cell_type": "markdown",
   "metadata": {},
   "source": [
    "## tr vl split and target encoding"
   ]
  },
  {
   "cell_type": "code",
   "execution_count": null,
   "metadata": {},
   "outputs": [],
   "source": [
    "msk_vl=np.random.rand(len(dftrn))<0.15\n",
    "idxvl=np.where( msk_vl)[0]\n",
    "idxtr=np.where(~msk_vl)[0]\n",
    "\n",
    "dftr = dftrn.iloc[idxtr].copy()\n",
    "dfvl = dftrn.iloc[idxvl].copy()\n",
    "del dftrn\n",
    "\n",
    "gc.collect()"
   ]
  },
  {
   "cell_type": "code",
   "execution_count": null,
   "metadata": {},
   "outputs": [],
   "source": [
    "dftr.columns"
   ]
  },
  {
   "cell_type": "code",
   "execution_count": null,
   "metadata": {},
   "outputs": [],
   "source": [
    "%%time\n",
    "col2tgtenc=['twtid', 'twttyp', 'lang', 'u1id', 'u1_fllwing_cnt', 'u1_vrfed', 'u2id', 'u2_fllwer_cnt', 'u2_vrfed', 'u1_fllw_u2', \n",
    "   'n_media_Photo', 'n_media_Video', 'n_media_GIF', \n",
    "   'has_hshtgs', 'n_hshtgs', 'has_media', 'n_media','has_domns', 'n_domns', \n",
    "   'dayofweek', 'hour', 'u1u2', 'langhour']\n",
    "tgt_encoder = ce.TargetEncoder()\n",
    "encoded_tr = tgt_encoder.fit_transform(dftr[col2tgtenc].astype(object), dftr[TCOL])\n",
    "encoded_vl = tgt_encoder.transform(dfvl[col2tgtenc].astype(object))\n",
    "encoded_val = tgt_encoder.transform(dfval[col2tgtenc].astype(object))\n",
    "\n",
    "tgtenc_columns = [f'tgtenc_{col}' for col in encoded_tr.columns]\n",
    "encoded_tr.columns = tgtenc_columns\n",
    "encoded_vl.columns = tgtenc_columns\n",
    "encoded_val.columns = tgtenc_columns\n",
    "\n",
    "dftr = pd.concat([dftr, encoded_tr], 1)\n",
    "dfvl = pd.concat([dfvl, encoded_vl], 1)\n",
    "dfval = pd.concat([dfval, encoded_val], 1)\n"
   ]
  },
  {
   "cell_type": "code",
   "execution_count": null,
   "metadata": {},
   "outputs": [],
   "source": [
    "cols_category=['twttyp', 'lang', 'langhour']\n",
    "for df in dftr,dfvl,dfval:\n",
    "    df.drop(columns=['twtid','u1id','u2id','u1u2'], inplace=True)\n",
    "    df[cols_category]=df[cols_category].astype('category')"
   ]
  },
  {
   "cell_type": "code",
   "execution_count": null,
   "metadata": {},
   "outputs": [],
   "source": [
    "cols_feat = [col for col in dftr.columns if col not in cols_tgt]"
   ]
  },
  {
   "cell_type": "code",
   "execution_count": null,
   "metadata": {},
   "outputs": [],
   "source": [
    "dftr.dtypes"
   ]
  },
  {
   "cell_type": "markdown",
   "metadata": {},
   "source": [
    "# model"
   ]
  },
  {
   "cell_type": "code",
   "execution_count": null,
   "metadata": {},
   "outputs": [],
   "source": [
    "cols_feat=['twttyp',\n",
    " 'lang',\n",
    " 'u1_fllwer_cnt',\n",
    " 'u1_fllwing_cnt',\n",
    " 'u1_vrfed',\n",
    " 'u2_fllwer_cnt',\n",
    " 'u2_fllwng_cnt',\n",
    " 'u2_vrfed',\n",
    " 'u1_fllw_u2',\n",
    " 'len_toks',\n",
    " 'n_media_Photo',\n",
    " 'n_media_Video',\n",
    " 'n_media_GIF',\n",
    "#  'has_hshtgs',\n",
    " 'n_hshtgs',\n",
    "#  'has_media',\n",
    " 'n_media',\n",
    "#  'has_domns',\n",
    " 'n_domns',\n",
    " 'dayofweek',\n",
    " 'hour',\n",
    " 'tmdlta_u2u1',\n",
    " 'tmdlta_twtu1',\n",
    " 'tmdlta_twtu2',\n",
    " 'twt_age',\n",
    " 'u1_age',\n",
    " 'u2_age',\n",
    " 'u1_fllwer_cnt_by_age',\n",
    " 'u1_fllwng_cnt_by_age',\n",
    " 'langhour',\n",
    "#  'frq_twtid',\n",
    "#  'frq_twttyp',\n",
    "#  'frq_lang',\n",
    "#  'frq_u1id',\n",
    "#  'frq_u1_fllwing_cnt',\n",
    "#  'frq_u1_vrfed',\n",
    "#  'frq_u2id',\n",
    "#  'frq_u2_fllwer_cnt',\n",
    "#  'frq_u2_vrfed',\n",
    "#  'frq_u1_fllw_u2',\n",
    "#  'frq_n_media_Photo',\n",
    "#  'frq_n_media_Video',\n",
    "#  'frq_n_media_GIF',\n",
    "#  'frq_has_hshtgs',\n",
    "#  'frq_n_hshtgs',\n",
    "#  'frq_has_media',\n",
    "#  'frq_n_media',\n",
    "#  'frq_has_domns',\n",
    "#  'frq_n_domns',\n",
    "#  'frq_dayofweek',\n",
    "#  'frq_hour',\n",
    "#  'frq_u1u2',\n",
    "#  'frq_langhour',\n",
    "#  'sumfrq_hshtgs',\n",
    "#  'maxfrq_hshtgs',\n",
    "#  'sumfrq_media',\n",
    "#  'maxfrq_media',\n",
    "#  'sumfrq_links',\n",
    "#  'maxfrq_links',\n",
    "#  'sumfrq_domns',\n",
    "#  'maxfrq_domns',\n",
    "#  'tgtenc_twtid',\n",
    "#  'tgtenc_twttyp',\n",
    " 'tgtenc_lang',\n",
    "#  'tgtenc_u1id',\n",
    "#  'tgtenc_u1_fllwing_cnt',\n",
    "#  'tgtenc_u1_vrfed',\n",
    "#  'tgtenc_u2id',\n",
    "#  'tgtenc_u2_fllwer_cnt',\n",
    "#  'tgtenc_u2_vrfed',\n",
    "#  'tgtenc_u1_fllw_u2',\n",
    "#  'tgtenc_n_media_Photo',\n",
    "#  'tgtenc_n_media_Video',\n",
    "#  'tgtenc_n_media_GIF',\n",
    "#  'tgtenc_has_hshtgs',\n",
    "#  'tgtenc_n_hshtgs',\n",
    "#  'tgtenc_has_media',\n",
    "#  'tgtenc_n_media',\n",
    "#  'tgtenc_has_domns',\n",
    "#  'tgtenc_n_domns',\n",
    "#  'tgtenc_dayofweek',\n",
    "#  'tgtenc_hour',\n",
    "#  'tgtenc_u1u2',\n",
    "#  'tgtenc_langhour'\n",
    "          ]"
   ]
  },
  {
   "cell_type": "code",
   "execution_count": null,
   "metadata": {},
   "outputs": [],
   "source": [
    "results = {}\n",
    "results['PRFX'] = PRFX\n",
    "results['TGT'] = TGT\n",
    "results['cols_feat'] = cols_feat\n",
    "results['tgt_encoder'] = tgt_encoder\n",
    "results['col2tgtenc'] = col2tgtenc"
   ]
  },
  {
   "cell_type": "code",
   "execution_count": null,
   "metadata": {},
   "outputs": [],
   "source": [
    "params={\n",
    "    'objective': 'binary',\n",
    "    'metric': 'binary_logloss',\n",
    "    'verbosity': 0,\n",
    "    \n",
    "}\n",
    "results['params'] = params"
   ]
  },
  {
   "cell_type": "code",
   "execution_count": null,
   "metadata": {},
   "outputs": [],
   "source": [
    "%%time\n",
    "dtr = lgb.Dataset(dftr[cols_feat], label=dftr[TCOL])\n",
    "dvl = lgb.Dataset(dfvl[cols_feat], label=dfvl[TCOL])\n",
    "best_params, tuning_history = {}, []\n",
    "evalres = {}\n",
    "evallist = [(dtr, 'train'), (dvl, 'eval')]\n",
    "bst = lgb.train(params=params, \n",
    "                train_set=dtr, \n",
    "                num_boost_round=50000,\n",
    "                valid_sets=[dtr, dvl],\n",
    "                valid_names=['tr','vl'],\n",
    "                best_params=best_params,\n",
    "                tuning_history=tuning_history,\n",
    "                verbose_eval=100,\n",
    "                early_stopping_rounds=100,\n",
    "                evals_result=evalres,\n",
    "               )\n",
    "results['bst'] = bst\n",
    "results['evalres'] = evalres\n",
    "results['best_params']=best_params\n",
    "results['tuning_history']=tuning_history"
   ]
  },
  {
   "cell_type": "code",
   "execution_count": 52,
   "metadata": {},
   "outputs": [
    {
     "data": {
      "text/plain": [
       "[{'action': 'tune_feature_fraction',\n",
       "  'trial': 0,\n",
       "  'value': \"{'feature_fraction': 0.4}\",\n",
       "  'val_score': 0.27428296574398814,\n",
       "  'elapsed_secs': 1634.7858679294586,\n",
       "  'average_iteration_time': 0.31798985954667547},\n",
       " {'action': 'tune_feature_fraction',\n",
       "  'trial': 1,\n",
       "  'value': \"{'feature_fraction': 0.5}\",\n",
       "  'val_score': 0.2746650754546047,\n",
       "  'elapsed_secs': 927.2903187274933,\n",
       "  'average_iteration_time': 0.3013618195409468},\n",
       " {'action': 'tune_feature_fraction',\n",
       "  'trial': 2,\n",
       "  'value': \"{'feature_fraction': 0.6}\",\n",
       "  'val_score': 0.27483486149957,\n",
       "  'elapsed_secs': 931.3253405094147,\n",
       "  'average_iteration_time': 0.3278160297463621},\n",
       " {'action': 'tune_feature_fraction',\n",
       "  'trial': 3,\n",
       "  'value': \"{'feature_fraction': 0.7}\",\n",
       "  'val_score': 0.2749988592020579,\n",
       "  'elapsed_secs': 921.060042142868,\n",
       "  'average_iteration_time': 0.32420276034595846},\n",
       " {'action': 'tune_feature_fraction',\n",
       "  'trial': 4,\n",
       "  'value': \"{'feature_fraction': 0.8}\",\n",
       "  'val_score': 0.27531013117112085,\n",
       "  'elapsed_secs': 730.2869455814362,\n",
       "  'average_iteration_time': 0.3426968303995477},\n",
       " {'action': 'tune_feature_fraction',\n",
       "  'trial': 5,\n",
       "  'value': \"{'feature_fraction': 0.8999999999999999}\",\n",
       "  'val_score': 0.27563528911447466,\n",
       "  'elapsed_secs': 785.0331704616547,\n",
       "  'average_iteration_time': 0.4029944406887344},\n",
       " {'action': 'tune_feature_fraction',\n",
       "  'trial': 6,\n",
       "  'value': \"{'feature_fraction': 1.0}\",\n",
       "  'val_score': 0.2758833591056416,\n",
       "  'elapsed_secs': 887.9752576351166,\n",
       "  'average_iteration_time': 0.37419943431736896},\n",
       " {'action': 'tune_num_leaves',\n",
       "  'trial': 0,\n",
       "  'value': \"{'num_leaves': 230}\",\n",
       "  'val_score': 0.27407487478409837,\n",
       "  'elapsed_secs': 453.33771872520447,\n",
       "  'average_iteration_time': 0.4380074577055116},\n",
       " {'action': 'tune_num_leaves',\n",
       "  'trial': 1,\n",
       "  'value': \"{'num_leaves': 106}\",\n",
       "  'val_score': 0.2742499390483661,\n",
       "  'elapsed_secs': 594.4589200019836,\n",
       "  'average_iteration_time': 0.34401557870485167},\n",
       " {'action': 'tune_num_leaves',\n",
       "  'trial': 2,\n",
       "  'value': \"{'num_leaves': 124}\",\n",
       "  'val_score': 0.2740240129164071,\n",
       "  'elapsed_secs': 714.2836236953735,\n",
       "  'average_iteration_time': 0.36667537150686524},\n",
       " {'action': 'tune_num_leaves',\n",
       "  'trial': 3,\n",
       "  'value': \"{'num_leaves': 70}\",\n",
       "  'val_score': 0.27419551697083766,\n",
       "  'elapsed_secs': 812.579745054245,\n",
       "  'average_iteration_time': 0.33004863730879164},\n",
       " {'action': 'tune_num_leaves',\n",
       "  'trial': 4,\n",
       "  'value': \"{'num_leaves': 147}\",\n",
       "  'val_score': 0.2740373940112818,\n",
       "  'elapsed_secs': 495.9872407913208,\n",
       "  'average_iteration_time': 0.38779299514567694},\n",
       " {'action': 'tune_num_leaves',\n",
       "  'trial': 5,\n",
       "  'value': \"{'num_leaves': 215}\",\n",
       "  'val_score': 0.27426638044963986,\n",
       "  'elapsed_secs': 389.72111988067627,\n",
       "  'average_iteration_time': 0.5338645477817483},\n",
       " {'action': 'tune_num_leaves',\n",
       "  'trial': 6,\n",
       "  'value': \"{'num_leaves': 61}\",\n",
       "  'val_score': 0.274080215202615,\n",
       "  'elapsed_secs': 1128.0251002311707,\n",
       "  'average_iteration_time': 0.3027442566374586},\n",
       " {'action': 'tune_num_leaves',\n",
       "  'trial': 7,\n",
       "  'value': \"{'num_leaves': 150}\",\n",
       "  'val_score': 0.27423548554668925,\n",
       "  'elapsed_secs': 559.7978231906891,\n",
       "  'average_iteration_time': 0.3695035136572205},\n",
       " {'action': 'tune_num_leaves',\n",
       "  'trial': 8,\n",
       "  'value': \"{'num_leaves': 226}\",\n",
       "  'val_score': 0.27404368176906885,\n",
       "  'elapsed_secs': 422.2814619541168,\n",
       "  'average_iteration_time': 0.456520499409856},\n",
       " {'action': 'tune_num_leaves',\n",
       "  'trial': 9,\n",
       "  'value': \"{'num_leaves': 184}\",\n",
       "  'val_score': 0.27408637865162916,\n",
       "  'elapsed_secs': 641.691157579422,\n",
       "  'average_iteration_time': 0.3617199309917824},\n",
       " {'action': 'tune_num_leaves',\n",
       "  'trial': 10,\n",
       "  'value': \"{'num_leaves': 26}\",\n",
       "  'val_score': 0.27428997859566984,\n",
       "  'elapsed_secs': 1508.306340932846,\n",
       "  'average_iteration_time': 0.2778239714372529},\n",
       " {'action': 'tune_num_leaves',\n",
       "  'trial': 11,\n",
       "  'value': \"{'num_leaves': 134}\",\n",
       "  'val_score': 0.2741499177606842,\n",
       "  'elapsed_secs': 679.0347483158112,\n",
       "  'average_iteration_time': 0.38233938531295675},\n",
       " {'action': 'tune_num_leaves',\n",
       "  'trial': 12,\n",
       "  'value': \"{'num_leaves': 169}\",\n",
       "  'val_score': 0.27409385948442694,\n",
       "  'elapsed_secs': 547.5452661514282,\n",
       "  'average_iteration_time': 0.4786234843981016},\n",
       " {'action': 'tune_num_leaves',\n",
       "  'trial': 13,\n",
       "  'value': \"{'num_leaves': 107}\",\n",
       "  'val_score': 0.274113916886103,\n",
       "  'elapsed_secs': 778.5889823436737,\n",
       "  'average_iteration_time': 0.3984590493058719},\n",
       " {'action': 'tune_num_leaves',\n",
       "  'trial': 14,\n",
       "  'value': \"{'num_leaves': 107}\",\n",
       "  'val_score': 0.2741139168861019,\n",
       "  'elapsed_secs': 676.5962707996368,\n",
       "  'average_iteration_time': 0.3462621651994047},\n",
       " {'action': 'tune_num_leaves',\n",
       "  'trial': 15,\n",
       "  'value': \"{'num_leaves': 193}\",\n",
       "  'val_score': 0.27410476557361557,\n",
       "  'elapsed_secs': 736.825877904892,\n",
       "  'average_iteration_time': 0.4385868320862452},\n",
       " {'action': 'tune_num_leaves',\n",
       "  'trial': 16,\n",
       "  'value': \"{'num_leaves': 74}\",\n",
       "  'val_score': 0.274027796542631,\n",
       "  'elapsed_secs': 857.7528314590454,\n",
       "  'average_iteration_time': 0.3724502090573363},\n",
       " {'action': 'tune_num_leaves',\n",
       "  'trial': 17,\n",
       "  'value': \"{'num_leaves': 62}\",\n",
       "  'val_score': 0.27416652536838354,\n",
       "  'elapsed_secs': 821.173415184021,\n",
       "  'average_iteration_time': 0.32483125600633744},\n",
       " {'action': 'tune_num_leaves',\n",
       "  'trial': 18,\n",
       "  'value': \"{'num_leaves': 12}\",\n",
       "  'val_score': 0.2746375295566744,\n",
       "  'elapsed_secs': 2373.1558561325073,\n",
       "  'average_iteration_time': 0.24922871835039984},\n",
       " {'action': 'tune_num_leaves',\n",
       "  'trial': 19,\n",
       "  'value': \"{'num_leaves': 81}\",\n",
       "  'val_score': 0.27423731703586396,\n",
       "  'elapsed_secs': 593.6365637779236,\n",
       "  'average_iteration_time': 0.3331293848360963},\n",
       " {'action': 'tune_bagging_fraction_and_bagging_freq',\n",
       "  'trial': 0,\n",
       "  'value': \"{'bagging_fraction': 0.6169545417298139, 'bagging_freq': 5}\",\n",
       "  'val_score': 0.2747988969246597,\n",
       "  'elapsed_secs': 672.411096572876,\n",
       "  'average_iteration_time': 0.5362129956721499},\n",
       " {'action': 'tune_bagging_fraction_and_bagging_freq',\n",
       "  'trial': 1,\n",
       "  'value': \"{'bagging_fraction': 0.5237490575848731, 'bagging_freq': 6}\",\n",
       "  'val_score': 0.2749854797356176,\n",
       "  'elapsed_secs': 473.198361158371,\n",
       "  'average_iteration_time': 0.4594158846197776},\n",
       " {'action': 'tune_bagging_fraction_and_bagging_freq',\n",
       "  'trial': 2,\n",
       "  'value': \"{'bagging_fraction': 0.4726551495695672, 'bagging_freq': 6}\",\n",
       "  'val_score': 0.2751485803601264,\n",
       "  'elapsed_secs': 579.2300789356232,\n",
       "  'average_iteration_time': 0.4959161634722801},\n",
       " {'action': 'tune_bagging_fraction_and_bagging_freq',\n",
       "  'trial': 3,\n",
       "  'value': \"{'bagging_fraction': 0.44829232328460633, 'bagging_freq': 4}\",\n",
       "  'val_score': 0.2751558770756835,\n",
       "  'elapsed_secs': 561.4576969146729,\n",
       "  'average_iteration_time': 0.5266957757173292},\n",
       " {'action': 'tune_bagging_fraction_and_bagging_freq',\n",
       "  'trial': 4,\n",
       "  'value': \"{'bagging_fraction': 0.901520338286772, 'bagging_freq': 1}\",\n",
       "  'val_score': 0.2740152650344468,\n",
       "  'elapsed_secs': 1156.927000284195,\n",
       "  'average_iteration_time': 0.5501317167304779},\n",
       " {'action': 'tune_bagging_fraction_and_bagging_freq',\n",
       "  'trial': 5,\n",
       "  'value': \"{'bagging_fraction': 0.7073017126472255, 'bagging_freq': 1}\",\n",
       "  'val_score': 0.27440669261098655,\n",
       "  'elapsed_secs': 1021.9502532482147,\n",
       "  'average_iteration_time': 0.6201154449321691},\n",
       " {'action': 'tune_bagging_fraction_and_bagging_freq',\n",
       "  'trial': 6,\n",
       "  'value': \"{'bagging_fraction': 0.7930831673642489, 'bagging_freq': 2}\",\n",
       "  'val_score': 0.27428857033434795,\n",
       "  'elapsed_secs': 918.6039624214172,\n",
       "  'average_iteration_time': 0.5267224555168677},\n",
       " {'action': 'tune_bagging_fraction_and_bagging_freq',\n",
       "  'trial': 7,\n",
       "  'value': \"{'bagging_fraction': 0.46164657178693225, 'bagging_freq': 7}\",\n",
       "  'val_score': 0.2751630005765451,\n",
       "  'elapsed_secs': 493.07137179374695,\n",
       "  'average_iteration_time': 0.4474331867456869},\n",
       " {'action': 'tune_bagging_fraction_and_bagging_freq',\n",
       "  'trial': 8,\n",
       "  'value': \"{'bagging_fraction': 0.9306013181735512, 'bagging_freq': 2}\",\n",
       "  'val_score': 0.27411757119788843,\n",
       "  'elapsed_secs': 840.2092757225037,\n",
       "  'average_iteration_time': 0.4992330812373759},\n",
       " {'action': 'tune_bagging_fraction_and_bagging_freq',\n",
       "  'trial': 9,\n",
       "  'value': \"{'bagging_fraction': 0.9450682238756808, 'bagging_freq': 7}\",\n",
       "  'val_score': 0.27422302591783476,\n",
       "  'elapsed_secs': 577.7359941005707,\n",
       "  'average_iteration_time': 0.4159366408211452},\n",
       " {'action': 'tune_feature_fraction',\n",
       "  'trial': 0,\n",
       "  'value': \"{'feature_fraction': 0.41600000000000004}\",\n",
       "  'val_score': 0.2741732571448582,\n",
       "  'elapsed_secs': 1071.8487005233765,\n",
       "  'average_iteration_time': 0.6065923602282832},\n",
       " {'action': 'tune_feature_fraction',\n",
       "  'trial': 1,\n",
       "  'value': \"{'feature_fraction': 0.44800000000000006}\",\n",
       "  'val_score': 0.2741748273023265,\n",
       "  'elapsed_secs': 1081.945262670517,\n",
       "  'average_iteration_time': 0.5776536373040667},\n",
       " {'action': 'tune_feature_fraction',\n",
       "  'trial': 2,\n",
       "  'value': \"{'feature_fraction': 0.48000000000000004}\",\n",
       "  'val_score': 0.2741748523039906,\n",
       "  'elapsed_secs': 1095.8605444431305,\n",
       "  'average_iteration_time': 0.5850830456183291},\n",
       " {'action': 'tune_lambda_l1_and_lambda_l2',\n",
       "  'trial': 0,\n",
       "  'value': \"{'lambda_l1': 3.154772695580883e-08, 'lambda_l2': 0.0010442000913047638}\",\n",
       "  'val_score': 0.27417661871763344,\n",
       "  'elapsed_secs': 1072.5500741004944,\n",
       "  'average_iteration_time': 0.6035734800790626},\n",
       " {'action': 'tune_lambda_l1_and_lambda_l2',\n",
       "  'trial': 1,\n",
       "  'value': \"{'lambda_l1': 0.0035315937238614443, 'lambda_l2': 0.0016160794645481954}\",\n",
       "  'val_score': 0.27405364321188136,\n",
       "  'elapsed_secs': 1162.5204956531525,\n",
       "  'average_iteration_time': 0.5970829458927337},\n",
       " {'action': 'tune_lambda_l1_and_lambda_l2',\n",
       "  'trial': 2,\n",
       "  'value': \"{'lambda_l1': 0.002224465173376051, 'lambda_l2': 1.5517327280494376e-08}\",\n",
       "  'val_score': 0.2740264914532527,\n",
       "  'elapsed_secs': 979.8559639453888,\n",
       "  'average_iteration_time': 0.5693526809676867},\n",
       " {'action': 'tune_lambda_l1_and_lambda_l2',\n",
       "  'trial': 3,\n",
       "  'value': \"{'lambda_l1': 5.4055522028791224e-05, 'lambda_l2': 3.058016647759404e-06}\",\n",
       "  'val_score': 0.2740774350854016,\n",
       "  'elapsed_secs': 949.2345039844513,\n",
       "  'average_iteration_time': 0.5518805255723555},\n",
       " {'action': 'tune_lambda_l1_and_lambda_l2',\n",
       "  'trial': 4,\n",
       "  'value': \"{'lambda_l1': 1.9874996042055718e-08, 'lambda_l2': 3.3110704287623586e-08}\",\n",
       "  'val_score': 0.2740726220744432,\n",
       "  'elapsed_secs': 1301.6371483802795,\n",
       "  'average_iteration_time': 0.5459887367366945},\n",
       " {'action': 'tune_lambda_l1_and_lambda_l2',\n",
       "  'trial': 5,\n",
       "  'value': \"{'lambda_l1': 1.2673877069358904e-05, 'lambda_l2': 1.0568761875058614}\",\n",
       "  'val_score': 0.27398638690153493,\n",
       "  'elapsed_secs': 1022.1314771175385,\n",
       "  'average_iteration_time': 0.6048115249216204},\n",
       " {'action': 'tune_lambda_l1_and_lambda_l2',\n",
       "  'trial': 6,\n",
       "  'value': \"{'lambda_l1': 5.51962371799732e-06, 'lambda_l2': 1.0226343665521726e-06}\",\n",
       "  'val_score': 0.27414466493544504,\n",
       "  'elapsed_secs': 1091.2761840820312,\n",
       "  'average_iteration_time': 0.5590554221731717},\n",
       " {'action': 'tune_lambda_l1_and_lambda_l2',\n",
       "  'trial': 7,\n",
       "  'value': \"{'lambda_l1': 0.002170089872603657, 'lambda_l2': 1.1985581606618008e-05}\",\n",
       "  'val_score': 0.2741073261282495,\n",
       "  'elapsed_secs': 944.3591206073761,\n",
       "  'average_iteration_time': 0.5611165303668307},\n",
       " {'action': 'tune_lambda_l1_and_lambda_l2',\n",
       "  'trial': 8,\n",
       "  'value': \"{'lambda_l1': 1.092452555757899, 'lambda_l2': 6.213209719737502}\",\n",
       "  'val_score': 0.273728095067823,\n",
       "  'elapsed_secs': 1337.1382157802582,\n",
       "  'average_iteration_time': 0.6434736360828961},\n",
       " {'action': 'tune_lambda_l1_and_lambda_l2',\n",
       "  'trial': 9,\n",
       "  'value': \"{'lambda_l1': 0.0005959543183083721, 'lambda_l2': 0.0005006252812648048}\",\n",
       "  'val_score': 0.2741900841063604,\n",
       "  'elapsed_secs': 958.434930562973,\n",
       "  'average_iteration_time': 0.5552925437792428},\n",
       " {'action': 'tune_lambda_l1_and_lambda_l2',\n",
       "  'trial': 10,\n",
       "  'value': \"{'lambda_l1': 0.19002970773731712, 'lambda_l2': 1.6359157492781713}\",\n",
       "  'val_score': 0.27377655100985904,\n",
       "  'elapsed_secs': 1232.067330121994,\n",
       "  'average_iteration_time': 0.5872580219837913},\n",
       " {'action': 'tune_lambda_l1_and_lambda_l2',\n",
       "  'trial': 11,\n",
       "  'value': \"{'lambda_l1': 5.693563040949477, 'lambda_l2': 7.586022285239909}\",\n",
       "  'val_score': 0.2735637468274228,\n",
       "  'elapsed_secs': 1541.9922602176666,\n",
       "  'average_iteration_time': 0.6924078402414309},\n",
       " {'action': 'tune_lambda_l1_and_lambda_l2',\n",
       "  'trial': 12,\n",
       "  'value': \"{'lambda_l1': 8.626989877803492, 'lambda_l2': 9.593597164958457}\",\n",
       "  'val_score': 0.2736630492960666,\n",
       "  'elapsed_secs': 1872.4571497440338,\n",
       "  'average_iteration_time': 0.7639564054443222},\n",
       " {'action': 'tune_lambda_l1_and_lambda_l2',\n",
       "  'trial': 13,\n",
       "  'value': \"{'lambda_l1': 4.676777723957814, 'lambda_l2': 0.07079476584097422}\",\n",
       "  'val_score': 0.27363184792925166,\n",
       "  'elapsed_secs': 1173.6978118419647,\n",
       "  'average_iteration_time': 0.6986296499059313},\n",
       " {'action': 'tune_lambda_l1_and_lambda_l2',\n",
       "  'trial': 14,\n",
       "  'value': \"{'lambda_l1': 0.08841949666499288, 'lambda_l2': 0.054798063336727126}\",\n",
       "  'val_score': 0.27398513763653787,\n",
       "  'elapsed_secs': 1089.1254148483276,\n",
       "  'average_iteration_time': 0.557953593672299},\n",
       " {'action': 'tune_lambda_l1_and_lambda_l2',\n",
       "  'trial': 15,\n",
       "  'value': \"{'lambda_l1': 4.327562351818901, 'lambda_l2': 0.05634878868859807}\",\n",
       "  'val_score': 0.273596662816302,\n",
       "  'elapsed_secs': 1405.8149242401123,\n",
       "  'average_iteration_time': 0.6114897452110102},\n",
       " {'action': 'tune_lambda_l1_and_lambda_l2',\n",
       "  'trial': 16,\n",
       "  'value': \"{'lambda_l1': 0.04420113465414483, 'lambda_l2': 0.1040438589505109}\",\n",
       "  'val_score': 0.27414088928003777,\n",
       "  'elapsed_secs': 1045.6723144054413,\n",
       "  'average_iteration_time': 0.6295438376914155},\n",
       " {'action': 'tune_lambda_l1_and_lambda_l2',\n",
       "  'trial': 17,\n",
       "  'value': \"{'lambda_l1': 1.5743330250587897, 'lambda_l2': 0.010949937516074941}\",\n",
       "  'val_score': 0.27369915023241853,\n",
       "  'elapsed_secs': 1428.7522854804993,\n",
       "  'average_iteration_time': 0.5838791522192478},\n",
       " {'action': 'tune_lambda_l1_and_lambda_l2',\n",
       "  'trial': 18,\n",
       "  'value': \"{'lambda_l1': 2.346930586227643e-07, 'lambda_l2': 0.3698324657092676}\",\n",
       "  'val_score': 0.2740472561140249,\n",
       "  'elapsed_secs': 945.9748177528381,\n",
       "  'average_iteration_time': 0.5600798210496377},\n",
       " {'action': 'tune_lambda_l1_and_lambda_l2',\n",
       "  'trial': 19,\n",
       "  'value': \"{'lambda_l1': 0.015873764506740082, 'lambda_l2': 0.012150487076689276}\",\n",
       "  'val_score': 0.27413309845543327,\n",
       "  'elapsed_secs': 1027.1176798343658,\n",
       "  'average_iteration_time': 0.6017092441911926},\n",
       " {'action': 'tune_min_child_samples',\n",
       "  'trial': 0,\n",
       "  'value': \"{'min_child_samples': 5}\",\n",
       "  'val_score': 0.2735779742660349,\n",
       "  'elapsed_secs': 1933.9848086833954,\n",
       "  'average_iteration_time': 0.7745233514951524},\n",
       " {'action': 'tune_min_child_samples',\n",
       "  'trial': 1,\n",
       "  'value': \"{'min_child_samples': 10}\",\n",
       "  'val_score': 0.27369400450750003,\n",
       "  'elapsed_secs': 2259.922538995743,\n",
       "  'average_iteration_time': 1.1577472023543764},\n",
       " {'action': 'tune_min_child_samples',\n",
       "  'trial': 2,\n",
       "  'value': \"{'min_child_samples': 25}\",\n",
       "  'val_score': 0.27364554835549665,\n",
       "  'elapsed_secs': 1529.538893699646,\n",
       "  'average_iteration_time': 0.7273128358058231},\n",
       " {'action': 'tune_min_child_samples',\n",
       "  'trial': 3,\n",
       "  'value': \"{'min_child_samples': 50}\",\n",
       "  'val_score': 0.27360443534932494,\n",
       "  'elapsed_secs': 1444.5169699192047,\n",
       "  'average_iteration_time': 0.6064302980349306},\n",
       " {'action': 'tune_min_child_samples',\n",
       "  'trial': 4,\n",
       "  'value': \"{'min_child_samples': 100}\",\n",
       "  'val_score': 0.27361288996297634,\n",
       "  'elapsed_secs': 1589.9371995925903,\n",
       "  'average_iteration_time': 0.690376552146153}]"
      ]
     },
     "execution_count": 52,
     "metadata": {},
     "output_type": "execute_result"
    }
   ],
   "source": [
    "tuning_history"
   ]
  },
  {
   "cell_type": "code",
   "execution_count": 51,
   "metadata": {},
   "outputs": [
    {
     "data": {
      "text/plain": [
       "{'lambda_l1': 5.693563040949477,\n",
       " 'lambda_l2': 7.586022285239909,\n",
       " 'num_leaves': 124,\n",
       " 'feature_fraction': 0.4,\n",
       " 'bagging_fraction': 0.901520338286772,\n",
       " 'bagging_freq': 1,\n",
       " 'min_child_samples': 20}"
      ]
     },
     "execution_count": 51,
     "metadata": {},
     "output_type": "execute_result"
    }
   ],
   "source": [
    "best_params"
   ]
  },
  {
   "cell_type": "markdown",
   "metadata": {},
   "source": [
    "## tr vl trajec"
   ]
  },
  {
   "cell_type": "code",
   "execution_count": 53,
   "metadata": {
    "scrolled": true
   },
   "outputs": [
    {
     "data": {
      "image/png": "[encoded data removed]",
      "text/plain": [
       "<Figure size 432x288 with 1 Axes>"
      ]
     },
     "metadata": {
      "needs_background": "light"
     },
     "output_type": "display_data"
    }
   ],
   "source": [
    "plt.plot(evalres['tr']['binary_logloss'])\n",
    "plt.plot(evalres['vl']['binary_logloss'])\n",
    "plt.title(f\"logloss; best_iteration {bst.best_iteration}\")\n",
    "plt.show()"
   ]
  },
  {
   "cell_type": "markdown",
   "metadata": {},
   "source": [
    "## model features"
   ]
  },
  {
   "cell_type": "code",
   "execution_count": 54,
   "metadata": {},
   "outputs": [
    {
     "data": {
      "image/png": "[encoded data removed]",
      "text/plain": [
       "<Figure size 720x1080 with 1 Axes>"
      ]
     },
     "metadata": {
      "needs_background": "light"
     },
     "output_type": "display_data"
    }
   ],
   "source": [
    "ax = lgb.plot_importance(bst, height=0.8, max_num_features=50, figsize=(10,15))\n",
    "ax.grid(False, axis=\"y\")\n",
    "ax.set_title(f'Estimated feature importance')\n",
    "plt.show()"
   ]
  },
  {
   "cell_type": "code",
   "execution_count": 55,
   "metadata": {
    "scrolled": false
   },
   "outputs": [
    {
     "data": {
      "text/html": [
       "<div>\n",
       "<style scoped>\n",
       "    .dataframe tbody tr th:only-of-type {\n",
       "        vertical-align: middle;\n",
       "    }\n",
       "\n",
       "    .dataframe tbody tr th {\n",
       "        vertical-align: top;\n",
       "    }\n",
       "\n",
       "    .dataframe thead th {\n",
       "        text-align: right;\n",
       "    }\n",
       "</style>\n",
       "<table border=\"1\" class=\"dataframe\">\n",
       "  <thead>\n",
       "    <tr style=\"text-align: right;\">\n",
       "      <th></th>\n",
       "      <th>0</th>\n",
       "      <th>1</th>\n",
       "    </tr>\n",
       "  </thead>\n",
       "  <tbody>\n",
       "    <tr>\n",
       "      <th>3</th>\n",
       "      <td>u1_fllwing_cnt</td>\n",
       "      <td>21144</td>\n",
       "    </tr>\n",
       "    <tr>\n",
       "      <th>24</th>\n",
       "      <td>u1_fllwer_cnt_by_age</td>\n",
       "      <td>19679</td>\n",
       "    </tr>\n",
       "    <tr>\n",
       "      <th>2</th>\n",
       "      <td>u1_fllwer_cnt</td>\n",
       "      <td>19337</td>\n",
       "    </tr>\n",
       "    <tr>\n",
       "      <th>5</th>\n",
       "      <td>u2_fllwer_cnt</td>\n",
       "      <td>17556</td>\n",
       "    </tr>\n",
       "    <tr>\n",
       "      <th>9</th>\n",
       "      <td>len_toks</td>\n",
       "      <td>17418</td>\n",
       "    </tr>\n",
       "    <tr>\n",
       "      <th>21</th>\n",
       "      <td>twt_age</td>\n",
       "      <td>16967</td>\n",
       "    </tr>\n",
       "    <tr>\n",
       "      <th>19</th>\n",
       "      <td>tmdlta_twtu1</td>\n",
       "      <td>16795</td>\n",
       "    </tr>\n",
       "    <tr>\n",
       "      <th>25</th>\n",
       "      <td>u1_fllwng_cnt_by_age</td>\n",
       "      <td>16334</td>\n",
       "    </tr>\n",
       "    <tr>\n",
       "      <th>22</th>\n",
       "      <td>u1_age</td>\n",
       "      <td>16271</td>\n",
       "    </tr>\n",
       "    <tr>\n",
       "      <th>18</th>\n",
       "      <td>tmdlta_u2u1</td>\n",
       "      <td>15502</td>\n",
       "    </tr>\n",
       "    <tr>\n",
       "      <th>6</th>\n",
       "      <td>u2_fllwng_cnt</td>\n",
       "      <td>15498</td>\n",
       "    </tr>\n",
       "    <tr>\n",
       "      <th>20</th>\n",
       "      <td>tmdlta_twtu2</td>\n",
       "      <td>14661</td>\n",
       "    </tr>\n",
       "    <tr>\n",
       "      <th>23</th>\n",
       "      <td>u2_age</td>\n",
       "      <td>13947</td>\n",
       "    </tr>\n",
       "    <tr>\n",
       "      <th>26</th>\n",
       "      <td>langhour</td>\n",
       "      <td>13807</td>\n",
       "    </tr>\n",
       "    <tr>\n",
       "      <th>1</th>\n",
       "      <td>lang</td>\n",
       "      <td>10210</td>\n",
       "    </tr>\n",
       "    <tr>\n",
       "      <th>17</th>\n",
       "      <td>hour</td>\n",
       "      <td>6178</td>\n",
       "    </tr>\n",
       "    <tr>\n",
       "      <th>16</th>\n",
       "      <td>dayofweek</td>\n",
       "      <td>4290</td>\n",
       "    </tr>\n",
       "    <tr>\n",
       "      <th>27</th>\n",
       "      <td>tgtenc_lang</td>\n",
       "      <td>3928</td>\n",
       "    </tr>\n",
       "    <tr>\n",
       "      <th>0</th>\n",
       "      <td>twttyp</td>\n",
       "      <td>3598</td>\n",
       "    </tr>\n",
       "    <tr>\n",
       "      <th>13</th>\n",
       "      <td>n_hshtgs</td>\n",
       "      <td>3153</td>\n",
       "    </tr>\n",
       "    <tr>\n",
       "      <th>10</th>\n",
       "      <td>n_media_Photo</td>\n",
       "      <td>2434</td>\n",
       "    </tr>\n",
       "    <tr>\n",
       "      <th>14</th>\n",
       "      <td>n_media</td>\n",
       "      <td>2240</td>\n",
       "    </tr>\n",
       "    <tr>\n",
       "      <th>15</th>\n",
       "      <td>n_domns</td>\n",
       "      <td>1049</td>\n",
       "    </tr>\n",
       "    <tr>\n",
       "      <th>8</th>\n",
       "      <td>u1_fllw_u2</td>\n",
       "      <td>612</td>\n",
       "    </tr>\n",
       "    <tr>\n",
       "      <th>11</th>\n",
       "      <td>n_media_Video</td>\n",
       "      <td>561</td>\n",
       "    </tr>\n",
       "    <tr>\n",
       "      <th>4</th>\n",
       "      <td>u1_vrfed</td>\n",
       "      <td>542</td>\n",
       "    </tr>\n",
       "    <tr>\n",
       "      <th>12</th>\n",
       "      <td>n_media_GIF</td>\n",
       "      <td>168</td>\n",
       "    </tr>\n",
       "    <tr>\n",
       "      <th>7</th>\n",
       "      <td>u2_vrfed</td>\n",
       "      <td>42</td>\n",
       "    </tr>\n",
       "  </tbody>\n",
       "</table>\n",
       "</div>"
      ],
      "text/plain": [
       "                       0      1\n",
       "3         u1_fllwing_cnt  21144\n",
       "24  u1_fllwer_cnt_by_age  19679\n",
       "2          u1_fllwer_cnt  19337\n",
       "5          u2_fllwer_cnt  17556\n",
       "9               len_toks  17418\n",
       "21               twt_age  16967\n",
       "19          tmdlta_twtu1  16795\n",
       "25  u1_fllwng_cnt_by_age  16334\n",
       "22                u1_age  16271\n",
       "18           tmdlta_u2u1  15502\n",
       "6          u2_fllwng_cnt  15498\n",
       "20          tmdlta_twtu2  14661\n",
       "23                u2_age  13947\n",
       "26              langhour  13807\n",
       "1                   lang  10210\n",
       "17                  hour   6178\n",
       "16             dayofweek   4290\n",
       "27           tgtenc_lang   3928\n",
       "0                 twttyp   3598\n",
       "13              n_hshtgs   3153\n",
       "10         n_media_Photo   2434\n",
       "14               n_media   2240\n",
       "15               n_domns   1049\n",
       "8             u1_fllw_u2    612\n",
       "11         n_media_Video    561\n",
       "4               u1_vrfed    542\n",
       "12           n_media_GIF    168\n",
       "7               u2_vrfed     42"
      ]
     },
     "execution_count": 55,
     "metadata": {},
     "output_type": "execute_result"
    }
   ],
   "source": [
    "pd.DataFrame([bst.feature_name(), bst.feature_importance()]).T.sort_values(1, ascending=False)"
   ]
  },
  {
   "cell_type": "markdown",
   "metadata": {},
   "source": [
    "# eval"
   ]
  },
  {
   "cell_type": "code",
   "execution_count": 56,
   "metadata": {},
   "outputs": [
    {
     "name": "stdout",
     "output_type": "stream",
     "text": [
      "CPU times: user 1h 20min 22s, sys: 18 s, total: 1h 20min 40s\n",
      "Wall time: 5min 40s\n"
     ]
    }
   ],
   "source": [
    "%%time\n",
    "prdtr = bst.predict(dftr[cols_feat],num_iteration=bst.best_iteration)\n",
    "prdvl = bst.predict(dfvl[cols_feat],num_iteration=bst.best_iteration)\n",
    "prdval0 = bst.predict(dfval[cols_feat],num_iteration=bst.best_iteration)\n",
    "prdval = calibration(prdval0, train_pop, target_pop, sampled_train_pop, sampled_target_pop)"
   ]
  },
  {
   "cell_type": "code",
   "execution_count": 57,
   "metadata": {},
   "outputs": [
    {
     "name": "stdout",
     "output_type": "stream",
     "text": [
      "CPU times: user 33.8 s, sys: 0 ns, total: 33.8 s\n",
      "Wall time: 33.6 s\n"
     ]
    }
   ],
   "source": [
    "%%time\n",
    "ytr,yvl,yval=[df[TCOL].values for df in (dftr,dfvl,dfval)]\n",
    "\n",
    "auc_tr=compute_prauc(prdtr, ytr)\n",
    "rce_tr=compute_rce(prdtr, ytr)\n",
    "auc_vl=compute_prauc(prdvl, yvl)\n",
    "rce_vl=compute_rce(prdvl, yvl)\n",
    "auc_val=compute_prauc(prdval, yval)\n",
    "rce_val=compute_rce(prdval, yval)\n",
    "\n",
    "results['scrs'] = {}\n",
    "results['scrs']['auc_tr']=auc_tr\n",
    "results['scrs']['rce_tr']=rce_tr\n",
    "results['scrs']['auc_vl']=auc_vl\n",
    "results['scrs']['rce_vl']=rce_vl\n",
    "results['scrs']['auc_val']=auc_val\n",
    "results['scrs']['rce_val']=rce_val"
   ]
  },
  {
   "cell_type": "code",
   "execution_count": 58,
   "metadata": {},
   "outputs": [
    {
     "name": "stdout",
     "output_type": "stream",
     "text": [
      "auc_tr:  0.4013\n",
      "auc_vl:  0.3198\n",
      "auc_val: 0.1186\n",
      "\n",
      "rce_tr:  21.5155\n",
      "rce_vl:  16.5416\n",
      "rce_val: 13.2097\n"
     ]
    }
   ],
   "source": [
    "print(f'auc_tr:  {auc_tr:.4f}')\n",
    "print(f'auc_vl:  {auc_vl:.4f}')\n",
    "print(f'auc_val: {auc_val:.4f}')\n",
    "print()\n",
    "print(f'rce_tr:  {rce_tr:.4f}')\n",
    "print(f'rce_vl:  {rce_vl:.4f}')\n",
    "print(f'rce_val: {rce_val:.4f}')"
   ]
  },
  {
   "cell_type": "code",
   "execution_count": 59,
   "metadata": {},
   "outputs": [
    {
     "name": "stdout",
     "output_type": "stream",
     "text": [
      "-0.1186-13.2097\n"
     ]
    }
   ],
   "source": [
    "print(f'-{auc_val:.4f}-{rce_val:.4f}')"
   ]
  },
  {
   "cell_type": "markdown",
   "metadata": {},
   "source": [
    "# save results"
   ]
  },
  {
   "cell_type": "code",
   "execution_count": 60,
   "metadata": {},
   "outputs": [],
   "source": [
    "pickle.dump(results, open(f'{p_out}/results_{PRFX}.p', 'wb'))"
   ]
  },
  {
   "cell_type": "markdown",
   "metadata": {},
   "source": [
    "# infer"
   ]
  },
  {
   "cell_type": "code",
   "execution_count": 61,
   "metadata": {},
   "outputs": [],
   "source": [
    "results = pickle.load( open(f'{p_out}/results_{PRFX}.p', 'rb'))\n",
    "bst = results['bst']\n",
    "col2tgtenc = results['col2tgtenc']\n",
    "cols_feat = results['cols_feat']\n",
    "tgt_encoder = results['tgt_encoder']"
   ]
  },
  {
   "cell_type": "markdown",
   "metadata": {},
   "source": [
    "## prep"
   ]
  },
  {
   "cell_type": "code",
   "execution_count": 67,
   "metadata": {},
   "outputs": [
    {
     "name": "stdout",
     "output_type": "stream",
     "text": [
      "CPU times: user 1min 21s, sys: 9.29 s, total: 1min 31s\n",
      "Wall time: 2min 28s\n"
     ]
    }
   ],
   "source": [
    "%%time\n",
    "dftst=pd.read_csv(\n",
    "    f'{p_in}/val_{tsttmstmp}.tsv',\n",
    "    sep='\\x01', header=None, names=cols_val, \n",
    "#     nrows=10\n",
    ")"
   ]
  },
  {
   "cell_type": "code",
   "execution_count": 68,
   "metadata": {
    "scrolled": true
   },
   "outputs": [
    {
     "name": "stdout",
     "output_type": "stream",
     "text": [
      "2020-04-07 21:02:53 start\n",
      "2020-04-07 21:05:53 freq of columns using CountEncoder\n",
      "2020-04-07 21:12:22 freq of tags\n",
      "2020-04-07 21:14:26 done\n",
      "CPU times: user 10min 14s, sys: 1min 34s, total: 11min 48s\n",
      "Wall time: 11min 44s\n"
     ]
    }
   ],
   "source": [
    "%%time\n",
    "dftst=prp_df(dftst, tm_max=tm_tst_max)"
   ]
  },
  {
   "cell_type": "code",
   "execution_count": 69,
   "metadata": {},
   "outputs": [],
   "source": [
    "encoded_tst = tgt_encoder.transform(dftst[col2tgtenc].astype(object))\n",
    "tgtenc_columns = [f'tgtenc_{col}' for col in encoded_tst.columns]\n",
    "encoded_tst.columns = tgtenc_columns\n",
    "dftst = pd.concat([dftst, encoded_tst], 1)\n",
    "dftst.drop(columns=['u1id','u1u2'], inplace=True)\n",
    "cols_category=['twttyp', 'lang', 'langhour']\n",
    "dftst[cols_category]=dftst[cols_category].astype('category')"
   ]
  },
  {
   "cell_type": "markdown",
   "metadata": {},
   "source": [
    "## predict"
   ]
  },
  {
   "cell_type": "code",
   "execution_count": 70,
   "metadata": {},
   "outputs": [
    {
     "name": "stdout",
     "output_type": "stream",
     "text": [
      "CPU times: user 1h 40min 52s, sys: 8.62 s, total: 1h 41min 1s\n",
      "Wall time: 7min 9s\n"
     ]
    }
   ],
   "source": [
    "%%time\n",
    "prdtst0 = bst.predict(dftst[cols_feat],num_iteration=bst.best_iteration)\n",
    "prdtst = calibration(prdtst0, train_pop, target_pop, sampled_train_pop, sampled_target_pop)"
   ]
  },
  {
   "cell_type": "code",
   "execution_count": 71,
   "metadata": {},
   "outputs": [],
   "source": [
    "dfsub_ids = dftst[['twtid','u2id',]]\n",
    "dfsub = dfsub_ids.copy()\n",
    "dfsub['scr'] = prdtst\n",
    "dfsub.to_csv(f'{p_out}/{TGT}__{PRFX}.csv',index=False,header=False)"
   ]
  },
  {
   "cell_type": "code",
   "execution_count": null,
   "metadata": {},
   "outputs": [],
   "source": []
  },
  {
   "cell_type": "code",
   "execution_count": null,
   "metadata": {},
   "outputs": [],
   "source": []
  },
  {
   "cell_type": "code",
   "execution_count": null,
   "metadata": {},
   "outputs": [],
   "source": []
  }
 ],
 "metadata": {
  "kernelspec": {
   "display_name": "rcss20",
   "language": "python",
   "name": "rcss20"
  },
  "language_info": {
   "codemirror_mode": {
    "name": "ipython",
    "version": 3
   },
   "file_extension": ".py",
   "mimetype": "text/x-python",
   "name": "python",
   "nbconvert_exporter": "python",
   "pygments_lexer": "ipython3",
   "version": "3.7.6"
  },
  "toc": {
   "base_numbering": 1,
   "nav_menu": {},
   "number_sections": true,
   "sideBar": true,
   "skip_h1_title": false,
   "title_cell": "Table of Contents",
   "title_sidebar": "Contents",
   "toc_cell": false,
   "toc_position": {},
   "toc_section_display": true,
   "toc_window_display": true
  }
 },
 "nbformat": 4,
 "nbformat_minor": 4
}
