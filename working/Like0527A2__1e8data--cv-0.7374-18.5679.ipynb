{
 "cells": [
  {
   "cell_type": "markdown",
   "metadata": {},
   "source": [
    "# start"
   ]
  },
  {
   "cell_type": "code",
   "execution_count": 1,
   "metadata": {},
   "outputs": [
    {
     "name": "stdout",
     "output_type": "stream",
     "text": [
      "train_total 148,075,238, test_total 14,000,000\n",
      "train_total 100,000,000, valsz 1,000,000\n",
      "['2020-03-17 02:32:24', '2020-05-21 15:43:26']\n",
      "['2020-02-06 00:00:00', '2020-02-12 23:59:59']\n",
      "['2020-02-13 00:00:00', '2020-02-19 23:59:59']\n"
     ]
    }
   ],
   "source": [
    "TGT='Like'\n",
    "PRFX='Like0527A2'\n",
    "\n",
    "trntmstmp=1584412344\n",
    "tsttmstmp=1590075806\n",
    "\n",
    "tm_trn_min,tm_trn_max=(1580947200, 1581551999)\n",
    "tm_tst_min,tm_tst_max=(1581552000, 1582156799)\n",
    "\n",
    "train_total=148075238\n",
    "test_total=int(1.4e7)\n",
    "print(f'train_total {train_total:,}, test_total {test_total:,}')\n",
    "\n",
    "SEED=101\n",
    "\n",
    "trnsz = int(1e8)\n",
    "valsz = int(1e6)\n",
    "print(f'train_total {trnsz:,}, valsz {valsz:,}')\n",
    "\n",
    "\n",
    "\n",
    "import datetime\n",
    "def showtm(tm): return datetime.datetime.fromtimestamp(tm).strftime('%Y-%m-%d %H:%M:%S')\n",
    "print([showtm(tm) for tm in (trntmstmp, tsttmstmp)])\n",
    "print([showtm(tm) for tm in (tm_trn_min,tm_trn_max)])\n",
    "print([showtm(tm) for tm in (tm_tst_min,tm_tst_max)])"
   ]
  },
  {
   "cell_type": "markdown",
   "metadata": {},
   "source": [
    "# setup"
   ]
  },
  {
   "cell_type": "code",
   "execution_count": 2,
   "metadata": {},
   "outputs": [
    {
     "name": "stdout",
     "output_type": "stream",
     "text": [
      "TCOL like\n",
      "{'Retweet': 'retwt', 'Reply': 'reply', 'Like': 'like', 'RTwCmnt': 'retwt_cmmnt'}\n"
     ]
    }
   ],
   "source": [
    "from tqdm import tqdm\n",
    "import time\n",
    "from pathlib import Path\n",
    "from collections import Counter,defaultdict\n",
    "from sklearn.model_selection import train_test_split\n",
    "import pandas as pd\n",
    "import numpy as np\n",
    "import matplotlib.pyplot as plt\n",
    "from sklearn.metrics import accuracy_score, roc_auc_score, roc_curve, auc, precision_recall_curve\n",
    "import pickle\n",
    "# import xgboost as xgb\n",
    "import lightgbm as lgb\n",
    "import category_encoders as ce\n",
    "import gc\n",
    "\n",
    "# import optuna\n",
    "# optuna.logging.CRITICAL, optuna.logging.FATAL\n",
    "# optuna.logging.ERROR\n",
    "# optuna.logging.WARNING, optuna.logging.WARN\n",
    "# optuna.logging.INFO\n",
    "# optuna.logging.DEBUG\n",
    "# optuna.logging.set_verbosity(optuna.logging.ERROR)\n",
    "# import optuna.integration.lightgbm as lgb\n",
    "# optuna.logging.disable_default_handler()\n",
    "\n",
    "\n",
    "pd.set_option('display.max_rows', 500)\n",
    "pd.set_option('display.max_columns', 500)\n",
    "\n",
    "\n",
    "import datetime\n",
    "def dtnow(): return datetime.datetime.now().strftime('%Y-%m-%d %H:%M:%S')\n",
    "\n",
    "def iou(s1,s2):\n",
    "    return len(s1&s2) / len(s1|s2)\n",
    "\n",
    "HOME='/data/git/recsys20'\n",
    "p_in=f'{HOME}/input'\n",
    "p_out=f'{HOME}/output/{PRFX}'\n",
    "Path(p_out).mkdir(exist_ok=True, parents=True)\n",
    "\n",
    "from sklearn.metrics import precision_recall_curve, auc, log_loss\n",
    "\n",
    "def compute_prauc(pred, gt):\n",
    "    prec, recall, thresh = precision_recall_curve(gt, pred)\n",
    "    prauc = auc(recall, prec)\n",
    "    return prauc\n",
    "\n",
    "def calculate_ctr(gt):\n",
    "    positive = len([x for x in gt if x == 1])\n",
    "    ctr = positive/float(len(gt))\n",
    "    return ctr\n",
    "\n",
    "def compute_rce(pred, gt):\n",
    "    cross_entropy = log_loss(gt, pred)\n",
    "    data_ctr = calculate_ctr(gt)\n",
    "    strawman_cross_entropy = log_loss(gt, [data_ctr for _ in range(len(gt))])\n",
    "    return (1.0 - cross_entropy/strawman_cross_entropy)*100.0\n",
    "\n",
    "# https://towardsdatascience.com/how-to-calibrate-undersampled-model-scores-8f3319c1ea5b\n",
    "# How to use the function?\n",
    "# Let’s say your goal is to generate a model that shows the credit default probabilities and your original \n",
    "# training data has 50,000 rows with only 500 of them labeled as target class. When you sample your non-target \n",
    "# instances randomly and reduce the total row count to 10,000, while conserving 500 target rows, our calibration\n",
    "# function becomes:\n",
    "# calibration(model_results, 50000, 500, 10000, 500)\n",
    "# Here model_results is your model probability output array. After you train your model and put the results in it, your function is ready to use. \n",
    "def calibration(data, train_pop, target_pop, sampled_train_pop, sampled_target_pop):\n",
    "    calibrated_data = ((data * (target_pop / train_pop) / (sampled_target_pop / sampled_train_pop)) /\n",
    "    (((1 - data) * (1 - target_pop / train_pop) / (1 - sampled_target_pop / sampled_train_pop)) +\n",
    "     (data * (target_pop / train_pop) / (sampled_target_pop / sampled_train_pop))))\n",
    "    return calibrated_data\n",
    "\n",
    "\n",
    "cols=['toks','hshtgs','twtid','media','links','domns','twttyp','lang','tm','u1id','u1_fllwer_cnt','u1_fllwing_cnt','u1_vrfed','u1_create_tm','u2id','u2_fllwer_cnt','u2_fllwng_cnt','u2_vrfed','u2_create_tm','u1_fllw_u2','reply_tm','retwt_tm','retwt_cmmnt_tm','like_tm',]\n",
    "\n",
    "cols_val = cols[:-4]\n",
    "cols_tgt_tmstmp=[ 'retwt_tm', 'reply_tm', 'like_tm', 'retwt_cmmnt_tm',]\n",
    "cols_tgt=[o.split('_tm')[0] for o in cols_tgt_tmstmp]\n",
    "tgts             = ['Retweet','Reply','Like','RTwCmnt',]\n",
    "assert cols_tgt == ['retwt',  'reply','like','retwt_cmmnt',]\n",
    "tgt2col = dict(zip(tgts, cols_tgt))\n",
    "TCOL=tgt2col[TGT]\n",
    "print('TCOL', TCOL)\n",
    "print(tgt2col)"
   ]
  },
  {
   "cell_type": "markdown",
   "metadata": {},
   "source": [
    "# prep"
   ]
  },
  {
   "cell_type": "code",
   "execution_count": 3,
   "metadata": {},
   "outputs": [],
   "source": [
    "def prp_tgt(df):\n",
    "    df[cols_tgt]=df[cols_tgt_tmstmp].notna()\n",
    "    df.drop(columns=cols_tgt_tmstmp, inplace=True)\n",
    "    display(df[cols_tgt].mean())"
   ]
  },
  {
   "cell_type": "code",
   "execution_count": 4,
   "metadata": {
    "scrolled": false
   },
   "outputs": [
    {
     "name": "stdout",
     "output_type": "stream",
     "text": [
      "(1000000, 24)\n"
     ]
    },
    {
     "data": {
      "text/plain": [
       "retwt          0.113135\n",
       "reply          0.027688\n",
       "like           0.438804\n",
       "retwt_cmmnt    0.007750\n",
       "dtype: float64"
      ]
     },
     "metadata": {},
     "output_type": "display_data"
    },
    {
     "name": "stdout",
     "output_type": "stream",
     "text": [
      "CPU times: user 6.85 s, sys: 1.28 s, total: 8.13 s\n",
      "Wall time: 8.14 s\n"
     ]
    }
   ],
   "source": [
    "%%time\n",
    "dfval = pd.read_csv(f'{p_in}/trn_{trntmstmp}.tsv',sep='\\x01',header=None,names=cols,nrows=valsz)\n",
    "print(dfval.shape)\n",
    "prp_tgt(dfval)"
   ]
  },
  {
   "cell_type": "markdown",
   "metadata": {},
   "source": [
    "## maybe oversample"
   ]
  },
  {
   "cell_type": "code",
   "execution_count": 5,
   "metadata": {},
   "outputs": [],
   "source": [
    "# df = pd.read_csv(f'{p_in}/trn_{trntmstmp}.tsv',sep='\\x01',header=None,names=cols,nrows=5)\n",
    "# dfval = pd.read_csv(f'{p_in}/trn_{trntmstmp}.tsv',sep='\\x01',header=None,names=cols,nrows=2)\n",
    "# dftrn = pd.read_csv(f'{p_in}/trn_{trntmstmp}.tsv',sep='\\x01',header=None,names=cols,skiprows=2,nrows=3)\n",
    "# display(df.twtid)\n",
    "# display(dfval.twtid)\n",
    "# display(dftrn.twtid)\n",
    "\n",
    "# 0    D4D1EBDE74F74C5DA529959AF979625C\n",
    "# 1    BFB529DAB6D384EB83E899A72AB3830D\n",
    "# 2    519078C7834E9642508F72A6C2D0F3B7\n",
    "# 3    52AAE9E33EFAC8C478C57B31A9E31ED1\n",
    "# 4    89C1298C55EB3D68E2784F0BFB69E6F8\n",
    "# Name: twtid, dtype: object\n",
    "# 0    D4D1EBDE74F74C5DA529959AF979625C\n",
    "# 1    BFB529DAB6D384EB83E899A72AB3830D\n",
    "# Name: twtid, dtype: object\n",
    "# 0    519078C7834E9642508F72A6C2D0F3B7\n",
    "# 1    52AAE9E33EFAC8C478C57B31A9E31ED1\n",
    "# 2    89C1298C55EB3D68E2784F0BFB69E6F8\n",
    "# Name: twtid, dtype: object"
   ]
  },
  {
   "cell_type": "code",
   "execution_count": 6,
   "metadata": {
    "scrolled": true
   },
   "outputs": [
    {
     "name": "stdout",
     "output_type": "stream",
     "text": [
      "(100000000, 24)\n"
     ]
    },
    {
     "data": {
      "text/plain": [
       "retwt          0.113090\n",
       "reply          0.027447\n",
       "like           0.439211\n",
       "retwt_cmmnt    0.007793\n",
       "dtype: float64"
      ]
     },
     "metadata": {},
     "output_type": "display_data"
    },
    {
     "name": "stdout",
     "output_type": "stream",
     "text": [
      "CPU times: user 11min 38s, sys: 2min 39s, total: 14min 18s\n",
      "Wall time: 16min 4s\n"
     ]
    }
   ],
   "source": [
    "%%time\n",
    "if TGT in ('Retweet','Like'): trnpop=trnsz\n",
    "if TGT=='Reply': trnpop=trnsz*3.7\n",
    "if TGT=='RTwCmnt': trnpop=trnsz*11.5\n",
    "assert trnpop<train_total\n",
    "\n",
    "dftrn = pd.read_csv(f'{p_in}/trn_{trntmstmp}.tsv',sep='\\x01',header=None,names=cols,\n",
    "                     skiprows=valsz, nrows=trnpop)\n",
    "print(dftrn.shape)\n",
    "prp_tgt(dftrn)"
   ]
  },
  {
   "cell_type": "code",
   "execution_count": 7,
   "metadata": {
    "scrolled": true
   },
   "outputs": [
    {
     "name": "stdout",
     "output_type": "stream",
     "text": [
      "(100000000, 24) 0.43921073\n",
      "100000000 43921073 100000000 43921073\n"
     ]
    },
    {
     "data": {
      "text/html": [
       "<div>\n",
       "<style scoped>\n",
       "    .dataframe tbody tr th:only-of-type {\n",
       "        vertical-align: middle;\n",
       "    }\n",
       "\n",
       "    .dataframe tbody tr th {\n",
       "        vertical-align: top;\n",
       "    }\n",
       "\n",
       "    .dataframe thead th {\n",
       "        text-align: right;\n",
       "    }\n",
       "</style>\n",
       "<table border=\"1\" class=\"dataframe\">\n",
       "  <thead>\n",
       "    <tr style=\"text-align: right;\">\n",
       "      <th></th>\n",
       "      <th>toks</th>\n",
       "      <th>hshtgs</th>\n",
       "      <th>twtid</th>\n",
       "      <th>media</th>\n",
       "      <th>links</th>\n",
       "      <th>domns</th>\n",
       "      <th>twttyp</th>\n",
       "      <th>lang</th>\n",
       "      <th>tm</th>\n",
       "      <th>u1id</th>\n",
       "      <th>u1_fllwer_cnt</th>\n",
       "      <th>u1_fllwing_cnt</th>\n",
       "      <th>u1_vrfed</th>\n",
       "      <th>u1_create_tm</th>\n",
       "      <th>u2id</th>\n",
       "      <th>u2_fllwer_cnt</th>\n",
       "      <th>u2_fllwng_cnt</th>\n",
       "      <th>u2_vrfed</th>\n",
       "      <th>u2_create_tm</th>\n",
       "      <th>u1_fllw_u2</th>\n",
       "      <th>retwt</th>\n",
       "      <th>reply</th>\n",
       "      <th>like</th>\n",
       "      <th>retwt_cmmnt</th>\n",
       "    </tr>\n",
       "  </thead>\n",
       "  <tbody>\n",
       "    <tr>\n",
       "      <th>0</th>\n",
       "      <td>101\\t9706\\t36553\\t108578\\t119\\t119\\t119\\t108\\t...</td>\n",
       "      <td>11218D05D5E94DE4E577C3AF9338E65D\\t3A6FF9E6FA11...</td>\n",
       "      <td>E0B1129F0B31CAE6655127073C08979C</td>\n",
       "      <td>Photo</td>\n",
       "      <td>NaN</td>\n",
       "      <td>NaN</td>\n",
       "      <td>TopLevel</td>\n",
       "      <td>125C57F4FA6D4E110983FB11B52EFD4E</td>\n",
       "      <td>1581348967</td>\n",
       "      <td>30D18739CC163E7629104D16BE4E65DF</td>\n",
       "      <td>13537</td>\n",
       "      <td>114</td>\n",
       "      <td>False</td>\n",
       "      <td>1534442935</td>\n",
       "      <td>0DD2A83B6837B1FA23CEA85748175A46</td>\n",
       "      <td>95</td>\n",
       "      <td>354</td>\n",
       "      <td>False</td>\n",
       "      <td>1348229207</td>\n",
       "      <td>False</td>\n",
       "      <td>True</td>\n",
       "      <td>False</td>\n",
       "      <td>False</td>\n",
       "      <td>False</td>\n",
       "    </tr>\n",
       "    <tr>\n",
       "      <th>1</th>\n",
       "      <td>101\\t56898\\t137\\t12655\\t168\\t10514\\t10115\\t131...</td>\n",
       "      <td>NaN</td>\n",
       "      <td>99E58F0E8DADFB4BAF9EEA0E93694AAE</td>\n",
       "      <td>Photo\\tPhoto\\tPhoto\\tPhoto</td>\n",
       "      <td>NaN</td>\n",
       "      <td>NaN</td>\n",
       "      <td>Retweet</td>\n",
       "      <td>22C448FF81263D4BAF2A176145EE9EAD</td>\n",
       "      <td>1581391499</td>\n",
       "      <td>458AF1D57377287A0BAB2A56AA3EE4AC</td>\n",
       "      <td>136</td>\n",
       "      <td>688</td>\n",
       "      <td>False</td>\n",
       "      <td>1429565372</td>\n",
       "      <td>0DD2A9EE937B01347709DE173E6E1E47</td>\n",
       "      <td>74</td>\n",
       "      <td>181</td>\n",
       "      <td>False</td>\n",
       "      <td>1496325843</td>\n",
       "      <td>True</td>\n",
       "      <td>False</td>\n",
       "      <td>False</td>\n",
       "      <td>True</td>\n",
       "      <td>False</td>\n",
       "    </tr>\n",
       "    <tr>\n",
       "      <th>2</th>\n",
       "      <td>101\\t56898\\t137\\t24109\\t10506\\t168\\t21881\\t113...</td>\n",
       "      <td>NaN</td>\n",
       "      <td>9A3C7C7654F75C478EC3922E60AD0039</td>\n",
       "      <td>Photo</td>\n",
       "      <td>NaN</td>\n",
       "      <td>NaN</td>\n",
       "      <td>Retweet</td>\n",
       "      <td>ECED8A16BE2A5E8871FD55F4842F16B1</td>\n",
       "      <td>1581460690</td>\n",
       "      <td>356534AF79A703A631CA45EF95F702C9</td>\n",
       "      <td>466</td>\n",
       "      <td>805</td>\n",
       "      <td>False</td>\n",
       "      <td>1402911598</td>\n",
       "      <td>0DD2AA5E775014DC55292B2B7E80619E</td>\n",
       "      <td>215</td>\n",
       "      <td>436</td>\n",
       "      <td>False</td>\n",
       "      <td>1451672532</td>\n",
       "      <td>True</td>\n",
       "      <td>False</td>\n",
       "      <td>False</td>\n",
       "      <td>True</td>\n",
       "      <td>False</td>\n",
       "    </tr>\n",
       "    <tr>\n",
       "      <th>3</th>\n",
       "      <td>101\\t56898\\t137\\t53542\\t14985\\t11537\\t28754\\t1...</td>\n",
       "      <td>NaN</td>\n",
       "      <td>4F7E51D4C05BC27B8F29CCE39BA5CA95</td>\n",
       "      <td>Photo\\tPhoto</td>\n",
       "      <td>NaN</td>\n",
       "      <td>NaN</td>\n",
       "      <td>Retweet</td>\n",
       "      <td>D3164C7FBCF2565DDF915B1B3AEFB1DC</td>\n",
       "      <td>1581324557</td>\n",
       "      <td>221780A4B90649CB87AC0CBA7102A2AC</td>\n",
       "      <td>3491</td>\n",
       "      <td>2001</td>\n",
       "      <td>False</td>\n",
       "      <td>1231675403</td>\n",
       "      <td>0DD2AACDA7259687F9FD27A6CA3A0614</td>\n",
       "      <td>143</td>\n",
       "      <td>254</td>\n",
       "      <td>False</td>\n",
       "      <td>1375373900</td>\n",
       "      <td>True</td>\n",
       "      <td>False</td>\n",
       "      <td>False</td>\n",
       "      <td>True</td>\n",
       "      <td>False</td>\n",
       "    </tr>\n",
       "    <tr>\n",
       "      <th>4</th>\n",
       "      <td>101\\t199\\t143\\t27128\\t32002\\t106\\t137\\t17673\\t...</td>\n",
       "      <td>35D2EF13596CAC1B15863EF3CAB39A2E\\t85ADB30A7FFB...</td>\n",
       "      <td>9035B7BA255DE0118FA0F41D2BB897A2</td>\n",
       "      <td>Photo</td>\n",
       "      <td>B490D14EB0D08709727B4CEE188641AA</td>\n",
       "      <td>26D558AFEEDD2EDC37CB4A5E7042E1C4</td>\n",
       "      <td>TopLevel</td>\n",
       "      <td>06D61DCBBE938971E1EA0C38BD9B5446</td>\n",
       "      <td>1581162933</td>\n",
       "      <td>DBE3576D0E67C652379202D7202B874F</td>\n",
       "      <td>5210115</td>\n",
       "      <td>1583</td>\n",
       "      <td>True</td>\n",
       "      <td>1211799913</td>\n",
       "      <td>0DD2AAD677632C842DE89D7BB43AA453</td>\n",
       "      <td>226</td>\n",
       "      <td>330</td>\n",
       "      <td>False</td>\n",
       "      <td>1576352487</td>\n",
       "      <td>False</td>\n",
       "      <td>False</td>\n",
       "      <td>False</td>\n",
       "      <td>False</td>\n",
       "      <td>False</td>\n",
       "    </tr>\n",
       "  </tbody>\n",
       "</table>\n",
       "</div>"
      ],
      "text/plain": [
       "                                                toks  \\\n",
       "0  101\\t9706\\t36553\\t108578\\t119\\t119\\t119\\t108\\t...   \n",
       "1  101\\t56898\\t137\\t12655\\t168\\t10514\\t10115\\t131...   \n",
       "2  101\\t56898\\t137\\t24109\\t10506\\t168\\t21881\\t113...   \n",
       "3  101\\t56898\\t137\\t53542\\t14985\\t11537\\t28754\\t1...   \n",
       "4  101\\t199\\t143\\t27128\\t32002\\t106\\t137\\t17673\\t...   \n",
       "\n",
       "                                              hshtgs  \\\n",
       "0  11218D05D5E94DE4E577C3AF9338E65D\\t3A6FF9E6FA11...   \n",
       "1                                                NaN   \n",
       "2                                                NaN   \n",
       "3                                                NaN   \n",
       "4  35D2EF13596CAC1B15863EF3CAB39A2E\\t85ADB30A7FFB...   \n",
       "\n",
       "                              twtid                       media  \\\n",
       "0  E0B1129F0B31CAE6655127073C08979C                       Photo   \n",
       "1  99E58F0E8DADFB4BAF9EEA0E93694AAE  Photo\\tPhoto\\tPhoto\\tPhoto   \n",
       "2  9A3C7C7654F75C478EC3922E60AD0039                       Photo   \n",
       "3  4F7E51D4C05BC27B8F29CCE39BA5CA95                Photo\\tPhoto   \n",
       "4  9035B7BA255DE0118FA0F41D2BB897A2                       Photo   \n",
       "\n",
       "                              links                             domns  \\\n",
       "0                               NaN                               NaN   \n",
       "1                               NaN                               NaN   \n",
       "2                               NaN                               NaN   \n",
       "3                               NaN                               NaN   \n",
       "4  B490D14EB0D08709727B4CEE188641AA  26D558AFEEDD2EDC37CB4A5E7042E1C4   \n",
       "\n",
       "     twttyp                              lang          tm  \\\n",
       "0  TopLevel  125C57F4FA6D4E110983FB11B52EFD4E  1581348967   \n",
       "1   Retweet  22C448FF81263D4BAF2A176145EE9EAD  1581391499   \n",
       "2   Retweet  ECED8A16BE2A5E8871FD55F4842F16B1  1581460690   \n",
       "3   Retweet  D3164C7FBCF2565DDF915B1B3AEFB1DC  1581324557   \n",
       "4  TopLevel  06D61DCBBE938971E1EA0C38BD9B5446  1581162933   \n",
       "\n",
       "                               u1id  u1_fllwer_cnt  u1_fllwing_cnt  u1_vrfed  \\\n",
       "0  30D18739CC163E7629104D16BE4E65DF          13537             114     False   \n",
       "1  458AF1D57377287A0BAB2A56AA3EE4AC            136             688     False   \n",
       "2  356534AF79A703A631CA45EF95F702C9            466             805     False   \n",
       "3  221780A4B90649CB87AC0CBA7102A2AC           3491            2001     False   \n",
       "4  DBE3576D0E67C652379202D7202B874F        5210115            1583      True   \n",
       "\n",
       "   u1_create_tm                              u2id  u2_fllwer_cnt  \\\n",
       "0    1534442935  0DD2A83B6837B1FA23CEA85748175A46             95   \n",
       "1    1429565372  0DD2A9EE937B01347709DE173E6E1E47             74   \n",
       "2    1402911598  0DD2AA5E775014DC55292B2B7E80619E            215   \n",
       "3    1231675403  0DD2AACDA7259687F9FD27A6CA3A0614            143   \n",
       "4    1211799913  0DD2AAD677632C842DE89D7BB43AA453            226   \n",
       "\n",
       "   u2_fllwng_cnt  u2_vrfed  u2_create_tm  u1_fllw_u2  retwt  reply   like  \\\n",
       "0            354     False    1348229207       False   True  False  False   \n",
       "1            181     False    1496325843        True  False  False   True   \n",
       "2            436     False    1451672532        True  False  False   True   \n",
       "3            254     False    1375373900        True  False  False   True   \n",
       "4            330     False    1576352487       False  False  False  False   \n",
       "\n",
       "   retwt_cmmnt  \n",
       "0        False  \n",
       "1        False  \n",
       "2        False  \n",
       "3        False  \n",
       "4        False  "
      ]
     },
     "metadata": {},
     "output_type": "display_data"
    },
    {
     "data": {
      "text/plain": [
       "Index(['toks', 'hshtgs', 'twtid', 'media', 'links', 'domns', 'twttyp', 'lang',\n",
       "       'tm', 'u1id', 'u1_fllwer_cnt', 'u1_fllwing_cnt', 'u1_vrfed',\n",
       "       'u1_create_tm', 'u2id', 'u2_fllwer_cnt', 'u2_fllwng_cnt', 'u2_vrfed',\n",
       "       'u2_create_tm', 'u1_fllw_u2', 'retwt', 'reply', 'like', 'retwt_cmmnt'],\n",
       "      dtype='object')"
      ]
     },
     "metadata": {},
     "output_type": "display_data"
    }
   ],
   "source": [
    "train_pop=len(dftrn)\n",
    "sampled_train_pop=trnsz\n",
    "idx_pos = np.where(dftrn[TCOL])[0]\n",
    "target_pop=sampled_target_pop=len(idx_pos)\n",
    "if TGT in ('Reply','RTwCmnt'):\n",
    "    idx_neg0 = np.where(~dftrn[TCOL])[0]\n",
    "    idx_neg = np.random.choice(idx_neg0, trnsz-len(idx_pos), replace=False)\n",
    "    idx = np.concatenate([idx_pos,idx_neg])\n",
    "    dftrn = dftrn.iloc[idx].copy()\n",
    "print(dftrn.shape, dftrn[TCOL].mean())\n",
    "print(train_pop, target_pop, sampled_train_pop, sampled_target_pop)\n",
    "\n",
    "display(dftrn.head())\n",
    "display(dftrn.columns)"
   ]
  },
  {
   "cell_type": "markdown",
   "metadata": {},
   "source": [
    "## prep and features"
   ]
  },
  {
   "cell_type": "code",
   "execution_count": 8,
   "metadata": {},
   "outputs": [],
   "source": [
    "def prp_df(df, tm_max):\n",
    "    '''\n",
    "    tm_max = tm_trn_max for train tm_tst_max for test\n",
    "    '''\n",
    "    lendf = len(df)\n",
    "    print(dtnow(), 'start')\n",
    "    set_u1 = set(df.u1id)\n",
    "    set_u2 = set(df.u2id)\n",
    "    df['u1inu2']=df.u1id.isin(set_u2)\n",
    "    df['u2inu1']=df.u2id.isin(set_u1)\n",
    "\n",
    "    #counts\n",
    "    df['len_toks'] = df.toks.apply(lambda x: len(x.split('\\t')))\n",
    "    df.drop(columns=['toks'], inplace=True)    \n",
    "    for m in ['Photo', 'Video', 'GIF']:\n",
    "        df[f'n_media_{m}'] = df['media'].fillna('').apply(lambda x: x.split('\\t').count(m))\n",
    "    tgnms = ['hshtgs','media', 'links', 'domns',]\n",
    "    for tgnm in tgnms:\n",
    "        df[f'has_{tgnm}']=df[tgnm].notna()\n",
    "        df[f'lst_{tgnm}'] = df[tgnm].fillna('').apply(lambda x: x.split('\\t') if len(x) else [])\n",
    "        df[f'n_{tgnm}'] = df[f'lst_{tgnm}'].apply(len)  \n",
    "    df.drop(columns=['has_links','n_links'], inplace=True) #duplicates has_domns,n_domns \n",
    "    \n",
    "    #time\n",
    "    dt = pd.to_datetime(df.tm, unit='s')\n",
    "    df['dayofweek'] = dt.dt.dayofweek\n",
    "    df['hour'] = dt.dt.hour\n",
    "    \n",
    "    df['tmdlta_u2u1']  = df.u2_create_tm - df.u1_create_tm\n",
    "    df['tmdlta_twtu1'] = df.tm - df.u1_create_tm\n",
    "    df['tmdlta_twtu2'] = df.tm - df.u2_create_tm\n",
    "\n",
    "    df['twt_age']   = tm_max-df.tm\n",
    "    df['u1_age']    = tm_max-df.u1_create_tm\n",
    "    df['u2_age']    = tm_max-df.u2_create_tm\n",
    "    df.drop(columns=['tm', 'u1_create_tm', 'u2_create_tm'], inplace=True)\n",
    "\n",
    "    #time derived\n",
    "    df['u1_fllwer_cnt_by_age'] = df.u1_fllwer_cnt / df.u1_age\n",
    "    df['u1_fllwng_cnt_by_age'] = df.u2_fllwng_cnt / df.u2_age\n",
    "    \n",
    "    #interaction\n",
    "    df['u1u2']=df.u1id+'_'+df.u2id\n",
    "    df['langhour']=df.lang+'_'+df.hour.astype(str)\n",
    "    \n",
    "\n",
    "#     #freq of feature values\n",
    "#     print(dtnow(), 'freq of columns using CountEncoder')\n",
    "#     encoder = ce.CountEncoder()\n",
    "#     encoded = encoder.fit_transform(\n",
    "#     df[['twtid', 'twttyp', 'lang', 'u1id', 'u1_fllwing_cnt', 'u1_vrfed', 'u2id', 'u2_fllwer_cnt', 'u2_vrfed', 'u1_fllw_u2', \n",
    "#        'n_media_Photo', 'n_media_Video', 'n_media_GIF', \n",
    "#        'has_hshtgs', 'n_hshtgs', 'has_media', 'n_media','has_domns', 'n_domns', \n",
    "#        'dayofweek', 'hour', 'u1u2', 'langhour']].astype(object))\n",
    "#     encoded = encoded.astype(int)/lendf\n",
    "#     encoded.columns = [f'frq_{col}' for col in encoded.columns]\n",
    "#     df = pd.concat([df,encoded],1)\n",
    "    \n",
    "    #freq of tgnm values\n",
    "#     print(dtnow(), 'freq of tags')\n",
    "#     for tgnm in tgnms:\n",
    "#         vs = [j for i in df[f'lst_{tgnm}'] for j in i]\n",
    "#         cnt = Counter(vs)\n",
    "#         frq = {k:v/lendf for k,v in cnt.items()}\n",
    "#         df[f'sumfrq_{tgnm}']=df[f'lst_{tgnm}'].apply(lambda x: sum([frq.get(o,0) for o in x]))\n",
    "#         df[f'maxfrq_{tgnm}']=df[f'lst_{tgnm}'].apply(lambda x: max([frq.get(o,0) for o in x]) if len(x) else 0)\n",
    "    \n",
    "    df.drop(columns=tgnms+[f'lst_{tgnm}' for tgnm in tgnms],inplace=True)\n",
    "\n",
    "    print(dtnow(), 'done')\n",
    "    return df"
   ]
  },
  {
   "cell_type": "code",
   "execution_count": 9,
   "metadata": {},
   "outputs": [
    {
     "name": "stdout",
     "output_type": "stream",
     "text": [
      "2020-05-30 14:30:19 start\n",
      "2020-05-30 15:25:58 done\n",
      "CPU times: user 29min 51s, sys: 21min 15s, total: 51min 6s\n",
      "Wall time: 55min 48s\n"
     ]
    }
   ],
   "source": [
    "%%time\n",
    "dftrn=prp_df(dftrn, tm_max=tm_trn_max)"
   ]
  },
  {
   "cell_type": "code",
   "execution_count": 10,
   "metadata": {},
   "outputs": [
    {
     "name": "stdout",
     "output_type": "stream",
     "text": [
      "2020-05-30 15:26:08 start\n",
      "2020-05-30 15:26:25 done\n",
      "CPU times: user 14.6 s, sys: 1.58 s, total: 16.2 s\n",
      "Wall time: 16.3 s\n"
     ]
    }
   ],
   "source": [
    "%%time\n",
    "dfval=prp_df(dfval, tm_max=tm_trn_max)"
   ]
  },
  {
   "cell_type": "markdown",
   "metadata": {},
   "source": [
    "## tr vl split"
   ]
  },
  {
   "cell_type": "code",
   "execution_count": 11,
   "metadata": {},
   "outputs": [
    {
     "data": {
      "text/plain": [
       "30"
      ]
     },
     "execution_count": 11,
     "metadata": {},
     "output_type": "execute_result"
    }
   ],
   "source": [
    "msk_vl=np.random.rand(len(dftrn))<0.15\n",
    "idxvl=np.where( msk_vl)[0]\n",
    "idxtr=np.where(~msk_vl)[0]\n",
    "\n",
    "dftr = dftrn.iloc[idxtr].copy()\n",
    "dfvl = dftrn.iloc[idxvl].copy()\n",
    "del dftrn\n",
    "\n",
    "gc.collect()"
   ]
  },
  {
   "cell_type": "code",
   "execution_count": 12,
   "metadata": {},
   "outputs": [],
   "source": [
    "cols_category=['twttyp', 'lang', 'langhour']\n",
    "for df in dftr,dfvl,dfval:\n",
    "    df.drop(columns=['twtid','u1id','u2id','u1u2'], inplace=True)\n",
    "    df[cols_category]=df[cols_category].astype('category')"
   ]
  },
  {
   "cell_type": "code",
   "execution_count": 13,
   "metadata": {},
   "outputs": [],
   "source": [
    "cols_feat = [col for col in dftr.columns if col not in cols_tgt]"
   ]
  },
  {
   "cell_type": "markdown",
   "metadata": {},
   "source": [
    "# model"
   ]
  },
  {
   "cell_type": "markdown",
   "metadata": {},
   "source": [
    "## cols_feat"
   ]
  },
  {
   "cell_type": "code",
   "execution_count": 14,
   "metadata": {},
   "outputs": [
    {
     "data": {
      "text/plain": [
       "['twttyp',\n",
       " 'lang',\n",
       " 'u1_fllwer_cnt',\n",
       " 'u1_fllwing_cnt',\n",
       " 'u1_vrfed',\n",
       " 'u2_fllwer_cnt',\n",
       " 'u2_fllwng_cnt',\n",
       " 'u2_vrfed',\n",
       " 'u1_fllw_u2',\n",
       " 'u1inu2',\n",
       " 'u2inu1',\n",
       " 'len_toks',\n",
       " 'n_media_Photo',\n",
       " 'n_media_Video',\n",
       " 'n_media_GIF',\n",
       " 'has_hshtgs',\n",
       " 'n_hshtgs',\n",
       " 'has_media',\n",
       " 'n_media',\n",
       " 'has_domns',\n",
       " 'n_domns',\n",
       " 'dayofweek',\n",
       " 'hour',\n",
       " 'tmdlta_u2u1',\n",
       " 'tmdlta_twtu1',\n",
       " 'tmdlta_twtu2',\n",
       " 'twt_age',\n",
       " 'u1_age',\n",
       " 'u2_age',\n",
       " 'u1_fllwer_cnt_by_age',\n",
       " 'u1_fllwng_cnt_by_age',\n",
       " 'langhour']"
      ]
     },
     "execution_count": 14,
     "metadata": {},
     "output_type": "execute_result"
    }
   ],
   "source": [
    "cols_feat"
   ]
  },
  {
   "cell_type": "code",
   "execution_count": 15,
   "metadata": {},
   "outputs": [
    {
     "name": "stdout",
     "output_type": "stream",
     "text": [
      "32\n"
     ]
    }
   ],
   "source": [
    "print(len(cols_feat))\n"
   ]
  },
  {
   "cell_type": "code",
   "execution_count": 16,
   "metadata": {},
   "outputs": [],
   "source": [
    "results = {}\n",
    "results['PRFX'] = PRFX\n",
    "results['TGT'] = TGT\n",
    "results['cols_feat'] = cols_feat"
   ]
  },
  {
   "cell_type": "code",
   "execution_count": 17,
   "metadata": {},
   "outputs": [],
   "source": [
    "params={\n",
    "    'objective': 'binary',\n",
    "    'metric': 'binary_logloss',\n",
    "    'verbosity': 0,    \n",
    "}\n",
    "# params.update({'lambda_l1': 2.7218581416769004e-07,\n",
    "#  'lambda_l2': 3.907768244028144e-06,\n",
    "#  'num_leaves': 152,\n",
    "#  'feature_fraction': 0.4,\n",
    "#  'bagging_fraction': 1.0,\n",
    "#  'bagging_freq': 0,\n",
    "#  'min_child_samples': 100})\n",
    "# print(params)\n",
    "\n",
    "\n",
    "results['params'] = params"
   ]
  },
  {
   "cell_type": "code",
   "execution_count": null,
   "metadata": {
    "scrolled": true
   },
   "outputs": [
    {
     "name": "stdout",
     "output_type": "stream",
     "text": [
      "Training until validation scores don't improve for 100 rounds\n",
      "[100]\ttr's binary_logloss: 0.592456\tvl's binary_logloss: 0.592477\n",
      "[200]\ttr's binary_logloss: 0.587335\tvl's binary_logloss: 0.587399\n",
      "[300]\ttr's binary_logloss: 0.584587\tvl's binary_logloss: 0.584702\n",
      "[400]\ttr's binary_logloss: 0.582694\tvl's binary_logloss: 0.582865\n",
      "[500]\ttr's binary_logloss: 0.581161\tvl's binary_logloss: 0.581384\n",
      "[600]\ttr's binary_logloss: 0.579553\tvl's binary_logloss: 0.579836\n",
      "[700]\ttr's binary_logloss: 0.578123\tvl's binary_logloss: 0.578459\n",
      "[800]\ttr's binary_logloss: 0.576984\tvl's binary_logloss: 0.577387\n",
      "[900]\ttr's binary_logloss: 0.575947\tvl's binary_logloss: 0.576418\n",
      "[1000]\ttr's binary_logloss: 0.575019\tvl's binary_logloss: 0.575556\n",
      "[1100]\ttr's binary_logloss: 0.574153\tvl's binary_logloss: 0.574753\n",
      "[1200]\ttr's binary_logloss: 0.573236\tvl's binary_logloss: 0.573909\n",
      "[1300]\ttr's binary_logloss: 0.572493\tvl's binary_logloss: 0.57322\n",
      "[1400]\ttr's binary_logloss: 0.571655\tvl's binary_logloss: 0.572448\n",
      "[1500]\ttr's binary_logloss: 0.570895\tvl's binary_logloss: 0.571755\n",
      "[1600]\ttr's binary_logloss: 0.570301\tvl's binary_logloss: 0.571228\n",
      "[1700]\ttr's binary_logloss: 0.56971\tvl's binary_logloss: 0.570713\n",
      "[1800]\ttr's binary_logloss: 0.56915\tvl's binary_logloss: 0.57021\n",
      "[1900]\ttr's binary_logloss: 0.568482\tvl's binary_logloss: 0.569614\n",
      "[2000]\ttr's binary_logloss: 0.567972\tvl's binary_logloss: 0.569173\n",
      "[2100]\ttr's binary_logloss: 0.567409\tvl's binary_logloss: 0.568678\n",
      "[2200]\ttr's binary_logloss: 0.566936\tvl's binary_logloss: 0.568272\n",
      "[2300]\ttr's binary_logloss: 0.566538\tvl's binary_logloss: 0.567938\n",
      "[2400]\ttr's binary_logloss: 0.565926\tvl's binary_logloss: 0.567396\n",
      "[2500]\ttr's binary_logloss: 0.565498\tvl's binary_logloss: 0.567042\n",
      "[2600]\ttr's binary_logloss: 0.565026\tvl's binary_logloss: 0.566634\n",
      "[2700]\ttr's binary_logloss: 0.56466\tvl's binary_logloss: 0.566341\n",
      "[2800]\ttr's binary_logloss: 0.564264\tvl's binary_logloss: 0.566018\n",
      "[2900]\ttr's binary_logloss: 0.563837\tvl's binary_logloss: 0.565661\n",
      "[3000]\ttr's binary_logloss: 0.563482\tvl's binary_logloss: 0.56537\n",
      "[3100]\ttr's binary_logloss: 0.563102\tvl's binary_logloss: 0.565063\n",
      "[3200]\ttr's binary_logloss: 0.562783\tvl's binary_logloss: 0.564811\n",
      "[3300]\ttr's binary_logloss: 0.562375\tvl's binary_logloss: 0.564468\n",
      "[3400]\ttr's binary_logloss: 0.561963\tvl's binary_logloss: 0.56411\n",
      "[3500]\ttr's binary_logloss: 0.561591\tvl's binary_logloss: 0.563788\n",
      "[3600]\ttr's binary_logloss: 0.561244\tvl's binary_logloss: 0.5635\n",
      "[3700]\ttr's binary_logloss: 0.560946\tvl's binary_logloss: 0.563256\n",
      "[3800]\ttr's binary_logloss: 0.560613\tvl's binary_logloss: 0.562997\n",
      "[3900]\ttr's binary_logloss: 0.560302\tvl's binary_logloss: 0.562755\n",
      "[4000]\ttr's binary_logloss: 0.560008\tvl's binary_logloss: 0.562509\n",
      "[4100]\ttr's binary_logloss: 0.559686\tvl's binary_logloss: 0.562244\n",
      "[4200]\ttr's binary_logloss: 0.55938\tvl's binary_logloss: 0.561996\n",
      "[4300]\ttr's binary_logloss: 0.559125\tvl's binary_logloss: 0.561803\n",
      "[4400]\ttr's binary_logloss: 0.558861\tvl's binary_logloss: 0.561599\n",
      "[4500]\ttr's binary_logloss: 0.558538\tvl's binary_logloss: 0.561329\n",
      "[4600]\ttr's binary_logloss: 0.558244\tvl's binary_logloss: 0.5611\n",
      "[4700]\ttr's binary_logloss: 0.557965\tvl's binary_logloss: 0.560882\n",
      "[4800]\ttr's binary_logloss: 0.557717\tvl's binary_logloss: 0.560692\n",
      "[4900]\ttr's binary_logloss: 0.557389\tvl's binary_logloss: 0.560426\n",
      "[5000]\ttr's binary_logloss: 0.557109\tvl's binary_logloss: 0.560199\n",
      "[5100]\ttr's binary_logloss: 0.556883\tvl's binary_logloss: 0.560027\n",
      "[5200]\ttr's binary_logloss: 0.556643\tvl's binary_logloss: 0.559844\n",
      "[5300]\ttr's binary_logloss: 0.556438\tvl's binary_logloss: 0.559701\n",
      "[5400]\ttr's binary_logloss: 0.556213\tvl's binary_logloss: 0.559528\n",
      "[5500]\ttr's binary_logloss: 0.55596\tvl's binary_logloss: 0.55933\n",
      "[5600]\ttr's binary_logloss: 0.555744\tvl's binary_logloss: 0.559173\n",
      "[5700]\ttr's binary_logloss: 0.555439\tvl's binary_logloss: 0.558923\n",
      "[5800]\ttr's binary_logloss: 0.555188\tvl's binary_logloss: 0.558724\n",
      "[5900]\ttr's binary_logloss: 0.554965\tvl's binary_logloss: 0.558555\n",
      "[6000]\ttr's binary_logloss: 0.5547\tvl's binary_logloss: 0.558346\n",
      "[6100]\ttr's binary_logloss: 0.554462\tvl's binary_logloss: 0.558147\n",
      "[6200]\ttr's binary_logloss: 0.554221\tvl's binary_logloss: 0.557959\n",
      "[6300]\ttr's binary_logloss: 0.553982\tvl's binary_logloss: 0.55777\n",
      "[6400]\ttr's binary_logloss: 0.553761\tvl's binary_logloss: 0.557602\n",
      "[6500]\ttr's binary_logloss: 0.553596\tvl's binary_logloss: 0.557497\n",
      "[6600]\ttr's binary_logloss: 0.553303\tvl's binary_logloss: 0.557255\n",
      "[6700]\ttr's binary_logloss: 0.553026\tvl's binary_logloss: 0.557029\n",
      "[6800]\ttr's binary_logloss: 0.552798\tvl's binary_logloss: 0.556843\n",
      "[6900]\ttr's binary_logloss: 0.552631\tvl's binary_logloss: 0.556737\n",
      "[7000]\ttr's binary_logloss: 0.552448\tvl's binary_logloss: 0.556608\n",
      "[7100]\ttr's binary_logloss: 0.552236\tvl's binary_logloss: 0.556456\n",
      "[7200]\ttr's binary_logloss: 0.552029\tvl's binary_logloss: 0.556296\n",
      "[7300]\ttr's binary_logloss: 0.55183\tvl's binary_logloss: 0.556153\n",
      "[7400]\ttr's binary_logloss: 0.551635\tvl's binary_logloss: 0.556006\n",
      "[7500]\ttr's binary_logloss: 0.551435\tvl's binary_logloss: 0.555853\n",
      "[7600]\ttr's binary_logloss: 0.551248\tvl's binary_logloss: 0.555714\n",
      "[7700]\ttr's binary_logloss: 0.551061\tvl's binary_logloss: 0.555593\n",
      "[7800]\ttr's binary_logloss: 0.550899\tvl's binary_logloss: 0.555493\n",
      "[7900]\ttr's binary_logloss: 0.550668\tvl's binary_logloss: 0.555315\n",
      "[8000]\ttr's binary_logloss: 0.550514\tvl's binary_logloss: 0.555207\n",
      "[8100]\ttr's binary_logloss: 0.550325\tvl's binary_logloss: 0.555053\n",
      "[8200]\ttr's binary_logloss: 0.550166\tvl's binary_logloss: 0.55494\n",
      "[8300]\ttr's binary_logloss: 0.549999\tvl's binary_logloss: 0.554828\n",
      "[8400]\ttr's binary_logloss: 0.549854\tvl's binary_logloss: 0.554738\n",
      "[8500]\ttr's binary_logloss: 0.549702\tvl's binary_logloss: 0.554646\n",
      "[8600]\ttr's binary_logloss: 0.549524\tvl's binary_logloss: 0.554526\n",
      "[8700]\ttr's binary_logloss: 0.549372\tvl's binary_logloss: 0.554428\n",
      "[8800]\ttr's binary_logloss: 0.54922\tvl's binary_logloss: 0.554329\n",
      "[8900]\ttr's binary_logloss: 0.549091\tvl's binary_logloss: 0.554252\n",
      "[9000]\ttr's binary_logloss: 0.548922\tvl's binary_logloss: 0.55413\n",
      "[9100]\ttr's binary_logloss: 0.548788\tvl's binary_logloss: 0.55404\n",
      "[9200]\ttr's binary_logloss: 0.54863\tvl's binary_logloss: 0.553931\n",
      "[9300]\ttr's binary_logloss: 0.548518\tvl's binary_logloss: 0.553871\n",
      "[9400]\ttr's binary_logloss: 0.548405\tvl's binary_logloss: 0.553808\n",
      "[9500]\ttr's binary_logloss: 0.548247\tvl's binary_logloss: 0.5537\n",
      "[9600]\ttr's binary_logloss: 0.548103\tvl's binary_logloss: 0.553601\n",
      "[9700]\ttr's binary_logloss: 0.547972\tvl's binary_logloss: 0.5535\n",
      "[9800]\ttr's binary_logloss: 0.547774\tvl's binary_logloss: 0.553351\n",
      "[9900]\ttr's binary_logloss: 0.547607\tvl's binary_logloss: 0.553234\n",
      "[10000]\ttr's binary_logloss: 0.547452\tvl's binary_logloss: 0.553132\n",
      "[10100]\ttr's binary_logloss: 0.547309\tvl's binary_logloss: 0.553038\n",
      "[10200]\ttr's binary_logloss: 0.547181\tvl's binary_logloss: 0.552954\n",
      "[10300]\ttr's binary_logloss: 0.547048\tvl's binary_logloss: 0.552871\n",
      "[10400]\ttr's binary_logloss: 0.546837\tvl's binary_logloss: 0.552705\n",
      "[10500]\ttr's binary_logloss: 0.546705\tvl's binary_logloss: 0.552618\n",
      "[10600]\ttr's binary_logloss: 0.546543\tvl's binary_logloss: 0.552503\n",
      "[10700]\ttr's binary_logloss: 0.546378\tvl's binary_logloss: 0.55238\n",
      "[10800]\ttr's binary_logloss: 0.546243\tvl's binary_logloss: 0.552284\n",
      "[10900]\ttr's binary_logloss: 0.546117\tvl's binary_logloss: 0.552193\n",
      "[11000]\ttr's binary_logloss: 0.545981\tvl's binary_logloss: 0.552098\n",
      "[11100]\ttr's binary_logloss: 0.545849\tvl's binary_logloss: 0.552001\n",
      "[11200]\ttr's binary_logloss: 0.545694\tvl's binary_logloss: 0.55189\n",
      "[11300]\ttr's binary_logloss: 0.545568\tvl's binary_logloss: 0.551801\n",
      "[11400]\ttr's binary_logloss: 0.54542\tvl's binary_logloss: 0.5517\n",
      "[11500]\ttr's binary_logloss: 0.545303\tvl's binary_logloss: 0.551629\n",
      "[11600]\ttr's binary_logloss: 0.545188\tvl's binary_logloss: 0.55156\n",
      "[11700]\ttr's binary_logloss: 0.545077\tvl's binary_logloss: 0.551492\n",
      "[11800]\ttr's binary_logloss: 0.544927\tvl's binary_logloss: 0.551381\n",
      "[11900]\ttr's binary_logloss: 0.544842\tvl's binary_logloss: 0.551332\n",
      "[12000]\ttr's binary_logloss: 0.544704\tvl's binary_logloss: 0.55124\n",
      "[12100]\ttr's binary_logloss: 0.544521\tvl's binary_logloss: 0.551101\n",
      "[12200]\ttr's binary_logloss: 0.544414\tvl's binary_logloss: 0.55104\n"
     ]
    },
    {
     "name": "stdout",
     "output_type": "stream",
     "text": [
      "[12300]\ttr's binary_logloss: 0.544304\tvl's binary_logloss: 0.55097\n",
      "[12400]\ttr's binary_logloss: 0.544184\tvl's binary_logloss: 0.550898\n",
      "[12500]\ttr's binary_logloss: 0.544077\tvl's binary_logloss: 0.550833\n",
      "[12600]\ttr's binary_logloss: 0.543952\tvl's binary_logloss: 0.550739\n",
      "[12700]\ttr's binary_logloss: 0.54381\tvl's binary_logloss: 0.550641\n",
      "[12800]\ttr's binary_logloss: 0.543681\tvl's binary_logloss: 0.550558\n",
      "[12900]\ttr's binary_logloss: 0.543515\tvl's binary_logloss: 0.550436\n",
      "[13000]\ttr's binary_logloss: 0.543389\tvl's binary_logloss: 0.550356\n",
      "[13100]\ttr's binary_logloss: 0.543245\tvl's binary_logloss: 0.550254\n",
      "[13200]\ttr's binary_logloss: 0.543113\tvl's binary_logloss: 0.550154\n",
      "[13300]\ttr's binary_logloss: 0.543009\tvl's binary_logloss: 0.550091\n",
      "[13400]\ttr's binary_logloss: 0.542868\tvl's binary_logloss: 0.549988\n",
      "[13500]\ttr's binary_logloss: 0.542728\tvl's binary_logloss: 0.54989\n",
      "[13600]\ttr's binary_logloss: 0.542596\tvl's binary_logloss: 0.5498\n",
      "[13700]\ttr's binary_logloss: 0.542498\tvl's binary_logloss: 0.549744\n",
      "[13800]\ttr's binary_logloss: 0.542391\tvl's binary_logloss: 0.549677\n",
      "[13900]\ttr's binary_logloss: 0.542299\tvl's binary_logloss: 0.549624\n",
      "[14000]\ttr's binary_logloss: 0.54221\tvl's binary_logloss: 0.549575\n",
      "[14100]\ttr's binary_logloss: 0.542098\tvl's binary_logloss: 0.54951\n",
      "[14200]\ttr's binary_logloss: 0.541988\tvl's binary_logloss: 0.549437\n",
      "[14300]\ttr's binary_logloss: 0.541903\tvl's binary_logloss: 0.549386\n",
      "[14400]\ttr's binary_logloss: 0.54178\tvl's binary_logloss: 0.549306\n",
      "[14500]\ttr's binary_logloss: 0.541649\tvl's binary_logloss: 0.549215\n",
      "[14600]\ttr's binary_logloss: 0.541521\tvl's binary_logloss: 0.549125\n",
      "[14700]\ttr's binary_logloss: 0.54142\tvl's binary_logloss: 0.549067\n",
      "[14800]\ttr's binary_logloss: 0.541328\tvl's binary_logloss: 0.549017\n",
      "[14900]\ttr's binary_logloss: 0.541233\tvl's binary_logloss: 0.548966\n",
      "[15000]\ttr's binary_logloss: 0.541131\tvl's binary_logloss: 0.548901\n",
      "[15100]\ttr's binary_logloss: 0.541033\tvl's binary_logloss: 0.548846\n",
      "[15200]\ttr's binary_logloss: 0.540953\tvl's binary_logloss: 0.548808\n",
      "[15300]\ttr's binary_logloss: 0.540859\tvl's binary_logloss: 0.548756\n",
      "[15400]\ttr's binary_logloss: 0.540764\tvl's binary_logloss: 0.548706\n",
      "[15500]\ttr's binary_logloss: 0.540675\tvl's binary_logloss: 0.548652\n",
      "[15600]\ttr's binary_logloss: 0.540592\tvl's binary_logloss: 0.548608\n",
      "[15700]\ttr's binary_logloss: 0.540496\tvl's binary_logloss: 0.548548\n",
      "[15800]\ttr's binary_logloss: 0.540404\tvl's binary_logloss: 0.548497\n",
      "[15900]\ttr's binary_logloss: 0.540322\tvl's binary_logloss: 0.54846\n",
      "[16000]\ttr's binary_logloss: 0.540231\tvl's binary_logloss: 0.548416\n",
      "[16100]\ttr's binary_logloss: 0.54013\tvl's binary_logloss: 0.548352\n",
      "[16200]\ttr's binary_logloss: 0.540038\tvl's binary_logloss: 0.548298\n",
      "[16300]\ttr's binary_logloss: 0.539924\tvl's binary_logloss: 0.548229\n",
      "[16400]\ttr's binary_logloss: 0.539833\tvl's binary_logloss: 0.548185\n",
      "[16500]\ttr's binary_logloss: 0.539764\tvl's binary_logloss: 0.548152\n",
      "[16600]\ttr's binary_logloss: 0.539669\tvl's binary_logloss: 0.548095\n",
      "[16700]\ttr's binary_logloss: 0.539541\tvl's binary_logloss: 0.548003\n",
      "[16800]\ttr's binary_logloss: 0.539429\tvl's binary_logloss: 0.547936\n",
      "[16900]\ttr's binary_logloss: 0.539353\tvl's binary_logloss: 0.547895\n",
      "[17000]\ttr's binary_logloss: 0.53925\tvl's binary_logloss: 0.54783\n",
      "[17100]\ttr's binary_logloss: 0.539149\tvl's binary_logloss: 0.547763\n",
      "[17200]\ttr's binary_logloss: 0.539071\tvl's binary_logloss: 0.547723\n",
      "[17300]\ttr's binary_logloss: 0.538976\tvl's binary_logloss: 0.547667\n",
      "[17400]\ttr's binary_logloss: 0.538877\tvl's binary_logloss: 0.54761\n",
      "[17500]\ttr's binary_logloss: 0.538804\tvl's binary_logloss: 0.547573\n",
      "[17600]\ttr's binary_logloss: 0.538702\tvl's binary_logloss: 0.547506\n",
      "[17700]\ttr's binary_logloss: 0.538614\tvl's binary_logloss: 0.547465\n",
      "[17800]\ttr's binary_logloss: 0.53852\tvl's binary_logloss: 0.547412\n",
      "[17900]\ttr's binary_logloss: 0.538418\tvl's binary_logloss: 0.547354\n",
      "[18000]\ttr's binary_logloss: 0.53834\tvl's binary_logloss: 0.547309\n",
      "[18100]\ttr's binary_logloss: 0.538253\tvl's binary_logloss: 0.547261\n",
      "[18200]\ttr's binary_logloss: 0.538166\tvl's binary_logloss: 0.547216\n",
      "[18300]\ttr's binary_logloss: 0.538097\tvl's binary_logloss: 0.547184\n",
      "[18400]\ttr's binary_logloss: 0.53799\tvl's binary_logloss: 0.547111\n",
      "[18500]\ttr's binary_logloss: 0.537878\tvl's binary_logloss: 0.547044\n",
      "[18600]\ttr's binary_logloss: 0.53781\tvl's binary_logloss: 0.547012\n",
      "[18700]\ttr's binary_logloss: 0.537726\tvl's binary_logloss: 0.546966\n",
      "[18800]\ttr's binary_logloss: 0.537659\tvl's binary_logloss: 0.546938\n",
      "[18900]\ttr's binary_logloss: 0.537585\tvl's binary_logloss: 0.5469\n",
      "[19000]\ttr's binary_logloss: 0.537512\tvl's binary_logloss: 0.546872\n",
      "[19100]\ttr's binary_logloss: 0.537455\tvl's binary_logloss: 0.546853\n",
      "[19200]\ttr's binary_logloss: 0.537377\tvl's binary_logloss: 0.546818\n",
      "[19300]\ttr's binary_logloss: 0.537308\tvl's binary_logloss: 0.546787\n",
      "[19400]\ttr's binary_logloss: 0.537228\tvl's binary_logloss: 0.546755\n",
      "[19500]\ttr's binary_logloss: 0.53715\tvl's binary_logloss: 0.546713\n",
      "[19600]\ttr's binary_logloss: 0.537063\tvl's binary_logloss: 0.546665\n",
      "[19700]\ttr's binary_logloss: 0.536995\tvl's binary_logloss: 0.54664\n",
      "[19800]\ttr's binary_logloss: 0.536929\tvl's binary_logloss: 0.546614\n",
      "[19900]\ttr's binary_logloss: 0.53686\tvl's binary_logloss: 0.546584\n",
      "[20000]\ttr's binary_logloss: 0.536771\tvl's binary_logloss: 0.54653\n",
      "[20100]\ttr's binary_logloss: 0.536685\tvl's binary_logloss: 0.546476\n",
      "[20200]\ttr's binary_logloss: 0.536594\tvl's binary_logloss: 0.546419\n",
      "[20300]\ttr's binary_logloss: 0.5365\tvl's binary_logloss: 0.546357\n",
      "[20400]\ttr's binary_logloss: 0.536417\tvl's binary_logloss: 0.546307\n",
      "[20500]\ttr's binary_logloss: 0.536335\tvl's binary_logloss: 0.546261\n",
      "[20600]\ttr's binary_logloss: 0.536269\tvl's binary_logloss: 0.546223\n"
     ]
    }
   ],
   "source": [
    "%%time\n",
    "dtr = lgb.Dataset(dftr[cols_feat], label=dftr[TCOL])\n",
    "dvl = lgb.Dataset(dfvl[cols_feat], label=dfvl[TCOL])\n",
    "evalres = {}\n",
    "evallist = [(dtr, 'train'), (dvl, 'eval')]\n",
    "bst = lgb.train(params=params, \n",
    "                train_set=dtr, \n",
    "                num_boost_round=50000,\n",
    "                valid_sets=[dtr, dvl],\n",
    "                valid_names=['tr','vl'],\n",
    "                verbose_eval=100,\n",
    "                early_stopping_rounds=100,\n",
    "                evals_result=evalres,\n",
    "               )\n",
    "results['bst'] = bst\n",
    "results['evalres'] = evalres"
   ]
  },
  {
   "cell_type": "markdown",
   "metadata": {},
   "source": [
    "## tr vl trajec"
   ]
  },
  {
   "cell_type": "code",
   "execution_count": 36,
   "metadata": {},
   "outputs": [
    {
     "data": {
      "image/png": "[encoded data removed]",
      "text/plain": [
       "<Figure size 432x288 with 1 Axes>"
      ]
     },
     "metadata": {
      "needs_background": "light"
     },
     "output_type": "display_data"
    }
   ],
   "source": [
    "plt.plot(evalres['tr']['binary_logloss'])\n",
    "plt.plot(evalres['vl']['binary_logloss'])\n",
    "plt.title(f\"logloss; best_iteration {bst.best_iteration}\")\n",
    "plt.show()"
   ]
  },
  {
   "cell_type": "markdown",
   "metadata": {},
   "source": [
    "## model features"
   ]
  },
  {
   "cell_type": "code",
   "execution_count": 37,
   "metadata": {},
   "outputs": [
    {
     "data": {
      "image/png": "[encoded data removed]",
      "text/plain": [
       "<Figure size 720x1080 with 1 Axes>"
      ]
     },
     "metadata": {
      "needs_background": "light"
     },
     "output_type": "display_data"
    }
   ],
   "source": [
    "ax = lgb.plot_importance(bst, height=0.8, max_num_features=50, figsize=(10,15))\n",
    "ax.grid(False, axis=\"y\")\n",
    "ax.set_title(f'Estimated feature importance')\n",
    "plt.show()"
   ]
  },
  {
   "cell_type": "code",
   "execution_count": 38,
   "metadata": {},
   "outputs": [
    {
     "data": {
      "text/html": [
       "<div>\n",
       "<style scoped>\n",
       "    .dataframe tbody tr th:only-of-type {\n",
       "        vertical-align: middle;\n",
       "    }\n",
       "\n",
       "    .dataframe tbody tr th {\n",
       "        vertical-align: top;\n",
       "    }\n",
       "\n",
       "    .dataframe thead th {\n",
       "        text-align: right;\n",
       "    }\n",
       "</style>\n",
       "<table border=\"1\" class=\"dataframe\">\n",
       "  <thead>\n",
       "    <tr style=\"text-align: right;\">\n",
       "      <th></th>\n",
       "      <th>0</th>\n",
       "      <th>1</th>\n",
       "    </tr>\n",
       "  </thead>\n",
       "  <tbody>\n",
       "    <tr>\n",
       "      <th>31</th>\n",
       "      <td>langhour</td>\n",
       "      <td>427057</td>\n",
       "    </tr>\n",
       "    <tr>\n",
       "      <th>3</th>\n",
       "      <td>u1_fllwing_cnt</td>\n",
       "      <td>134199</td>\n",
       "    </tr>\n",
       "    <tr>\n",
       "      <th>2</th>\n",
       "      <td>u1_fllwer_cnt</td>\n",
       "      <td>111183</td>\n",
       "    </tr>\n",
       "    <tr>\n",
       "      <th>29</th>\n",
       "      <td>u1_fllwer_cnt_by_age</td>\n",
       "      <td>99269</td>\n",
       "    </tr>\n",
       "    <tr>\n",
       "      <th>11</th>\n",
       "      <td>len_toks</td>\n",
       "      <td>91799</td>\n",
       "    </tr>\n",
       "    <tr>\n",
       "      <th>5</th>\n",
       "      <td>u2_fllwer_cnt</td>\n",
       "      <td>73623</td>\n",
       "    </tr>\n",
       "    <tr>\n",
       "      <th>26</th>\n",
       "      <td>twt_age</td>\n",
       "      <td>73578</td>\n",
       "    </tr>\n",
       "    <tr>\n",
       "      <th>24</th>\n",
       "      <td>tmdlta_twtu1</td>\n",
       "      <td>66948</td>\n",
       "    </tr>\n",
       "    <tr>\n",
       "      <th>6</th>\n",
       "      <td>u2_fllwng_cnt</td>\n",
       "      <td>62919</td>\n",
       "    </tr>\n",
       "    <tr>\n",
       "      <th>30</th>\n",
       "      <td>u1_fllwng_cnt_by_age</td>\n",
       "      <td>57093</td>\n",
       "    </tr>\n",
       "    <tr>\n",
       "      <th>23</th>\n",
       "      <td>tmdlta_u2u1</td>\n",
       "      <td>47752</td>\n",
       "    </tr>\n",
       "    <tr>\n",
       "      <th>25</th>\n",
       "      <td>tmdlta_twtu2</td>\n",
       "      <td>39653</td>\n",
       "    </tr>\n",
       "    <tr>\n",
       "      <th>27</th>\n",
       "      <td>u1_age</td>\n",
       "      <td>36351</td>\n",
       "    </tr>\n",
       "    <tr>\n",
       "      <th>1</th>\n",
       "      <td>lang</td>\n",
       "      <td>27516</td>\n",
       "    </tr>\n",
       "    <tr>\n",
       "      <th>28</th>\n",
       "      <td>u2_age</td>\n",
       "      <td>23610</td>\n",
       "    </tr>\n",
       "    <tr>\n",
       "      <th>0</th>\n",
       "      <td>twttyp</td>\n",
       "      <td>19663</td>\n",
       "    </tr>\n",
       "    <tr>\n",
       "      <th>21</th>\n",
       "      <td>dayofweek</td>\n",
       "      <td>16588</td>\n",
       "    </tr>\n",
       "    <tr>\n",
       "      <th>16</th>\n",
       "      <td>n_hshtgs</td>\n",
       "      <td>11533</td>\n",
       "    </tr>\n",
       "    <tr>\n",
       "      <th>12</th>\n",
       "      <td>n_media_Photo</td>\n",
       "      <td>11361</td>\n",
       "    </tr>\n",
       "    <tr>\n",
       "      <th>9</th>\n",
       "      <td>u1inu2</td>\n",
       "      <td>10642</td>\n",
       "    </tr>\n",
       "    <tr>\n",
       "      <th>22</th>\n",
       "      <td>hour</td>\n",
       "      <td>10488</td>\n",
       "    </tr>\n",
       "    <tr>\n",
       "      <th>17</th>\n",
       "      <td>has_media</td>\n",
       "      <td>7070</td>\n",
       "    </tr>\n",
       "    <tr>\n",
       "      <th>19</th>\n",
       "      <td>has_domns</td>\n",
       "      <td>6897</td>\n",
       "    </tr>\n",
       "    <tr>\n",
       "      <th>15</th>\n",
       "      <td>has_hshtgs</td>\n",
       "      <td>6597</td>\n",
       "    </tr>\n",
       "    <tr>\n",
       "      <th>10</th>\n",
       "      <td>u2inu1</td>\n",
       "      <td>6458</td>\n",
       "    </tr>\n",
       "    <tr>\n",
       "      <th>4</th>\n",
       "      <td>u1_vrfed</td>\n",
       "      <td>6196</td>\n",
       "    </tr>\n",
       "    <tr>\n",
       "      <th>13</th>\n",
       "      <td>n_media_Video</td>\n",
       "      <td>5267</td>\n",
       "    </tr>\n",
       "    <tr>\n",
       "      <th>8</th>\n",
       "      <td>u1_fllw_u2</td>\n",
       "      <td>4707</td>\n",
       "    </tr>\n",
       "    <tr>\n",
       "      <th>20</th>\n",
       "      <td>n_domns</td>\n",
       "      <td>1474</td>\n",
       "    </tr>\n",
       "    <tr>\n",
       "      <th>14</th>\n",
       "      <td>n_media_GIF</td>\n",
       "      <td>1452</td>\n",
       "    </tr>\n",
       "    <tr>\n",
       "      <th>18</th>\n",
       "      <td>n_media</td>\n",
       "      <td>686</td>\n",
       "    </tr>\n",
       "    <tr>\n",
       "      <th>7</th>\n",
       "      <td>u2_vrfed</td>\n",
       "      <td>371</td>\n",
       "    </tr>\n",
       "  </tbody>\n",
       "</table>\n",
       "</div>"
      ],
      "text/plain": [
       "                       0       1\n",
       "31              langhour  427057\n",
       "3         u1_fllwing_cnt  134199\n",
       "2          u1_fllwer_cnt  111183\n",
       "29  u1_fllwer_cnt_by_age   99269\n",
       "11              len_toks   91799\n",
       "5          u2_fllwer_cnt   73623\n",
       "26               twt_age   73578\n",
       "24          tmdlta_twtu1   66948\n",
       "6          u2_fllwng_cnt   62919\n",
       "30  u1_fllwng_cnt_by_age   57093\n",
       "23           tmdlta_u2u1   47752\n",
       "25          tmdlta_twtu2   39653\n",
       "27                u1_age   36351\n",
       "1                   lang   27516\n",
       "28                u2_age   23610\n",
       "0                 twttyp   19663\n",
       "21             dayofweek   16588\n",
       "16              n_hshtgs   11533\n",
       "12         n_media_Photo   11361\n",
       "9                 u1inu2   10642\n",
       "22                  hour   10488\n",
       "17             has_media    7070\n",
       "19             has_domns    6897\n",
       "15            has_hshtgs    6597\n",
       "10                u2inu1    6458\n",
       "4               u1_vrfed    6196\n",
       "13         n_media_Video    5267\n",
       "8             u1_fllw_u2    4707\n",
       "20               n_domns    1474\n",
       "14           n_media_GIF    1452\n",
       "18               n_media     686\n",
       "7               u2_vrfed     371"
      ]
     },
     "execution_count": 38,
     "metadata": {},
     "output_type": "execute_result"
    }
   ],
   "source": [
    "pd.DataFrame([bst.feature_name(), bst.feature_importance()]).T.sort_values(1, ascending=False)"
   ]
  },
  {
   "cell_type": "code",
   "execution_count": 39,
   "metadata": {},
   "outputs": [
    {
     "data": {
      "text/plain": [
       "[('langhour', 427057),\n",
       " ('u1_fllwing_cnt', 134199),\n",
       " ('u1_fllwer_cnt', 111183),\n",
       " ('u1_fllwer_cnt_by_age', 99269),\n",
       " ('len_toks', 91799),\n",
       " ('u2_fllwer_cnt', 73623),\n",
       " ('twt_age', 73578),\n",
       " ('tmdlta_twtu1', 66948),\n",
       " ('u2_fllwng_cnt', 62919),\n",
       " ('u1_fllwng_cnt_by_age', 57093),\n",
       " ('tmdlta_u2u1', 47752),\n",
       " ('tmdlta_twtu2', 39653),\n",
       " ('u1_age', 36351),\n",
       " ('lang', 27516),\n",
       " ('u2_age', 23610),\n",
       " ('twttyp', 19663),\n",
       " ('dayofweek', 16588),\n",
       " ('n_hshtgs', 11533),\n",
       " ('n_media_Photo', 11361),\n",
       " ('u1inu2', 10642),\n",
       " ('hour', 10488),\n",
       " ('has_media', 7070),\n",
       " ('has_domns', 6897),\n",
       " ('has_hshtgs', 6597),\n",
       " ('u2inu1', 6458),\n",
       " ('u1_vrfed', 6196),\n",
       " ('n_media_Video', 5267),\n",
       " ('u1_fllw_u2', 4707),\n",
       " ('n_domns', 1474),\n",
       " ('n_media_GIF', 1452),\n",
       " ('n_media', 686),\n",
       " ('u2_vrfed', 371)]"
      ]
     },
     "execution_count": 39,
     "metadata": {},
     "output_type": "execute_result"
    }
   ],
   "source": [
    "col2imp = dict(zip(bst.feature_name(), bst.feature_importance()))\n",
    "sorted(col2imp.items(), key=lambda x: -x[1])"
   ]
  },
  {
   "cell_type": "code",
   "execution_count": 40,
   "metadata": {},
   "outputs": [
    {
     "data": {
      "text/plain": [
       "['langhour',\n",
       " 'u1_fllwing_cnt',\n",
       " 'u1_fllwer_cnt',\n",
       " 'u1_fllwer_cnt_by_age',\n",
       " 'len_toks',\n",
       " 'u2_fllwer_cnt',\n",
       " 'twt_age',\n",
       " 'tmdlta_twtu1',\n",
       " 'u2_fllwng_cnt',\n",
       " 'u1_fllwng_cnt_by_age',\n",
       " 'tmdlta_u2u1',\n",
       " 'tmdlta_twtu2',\n",
       " 'u1_age',\n",
       " 'lang',\n",
       " 'u2_age',\n",
       " 'twttyp',\n",
       " 'dayofweek',\n",
       " 'n_hshtgs',\n",
       " 'n_media_Photo',\n",
       " 'u1inu2',\n",
       " 'hour',\n",
       " 'has_media',\n",
       " 'has_domns',\n",
       " 'has_hshtgs',\n",
       " 'u2inu1',\n",
       " 'u1_vrfed',\n",
       " 'n_media_Video',\n",
       " 'u1_fllw_u2',\n",
       " 'n_domns',\n",
       " 'n_media_GIF',\n",
       " 'n_media',\n",
       " 'u2_vrfed']"
      ]
     },
     "execution_count": 40,
     "metadata": {},
     "output_type": "execute_result"
    }
   ],
   "source": [
    "[o[0] for o in sorted(col2imp.items(), key=lambda x: -x[1]) if o[1]>0]"
   ]
  },
  {
   "cell_type": "code",
   "execution_count": null,
   "metadata": {},
   "outputs": [],
   "source": []
  },
  {
   "cell_type": "markdown",
   "metadata": {},
   "source": [
    "# eval"
   ]
  },
  {
   "cell_type": "code",
   "execution_count": null,
   "metadata": {},
   "outputs": [],
   "source": [
    "%%time\n",
    "prdtr = bst.predict(dftr[cols_feat],num_iteration=bst.best_iteration)\n",
    "prdvl = bst.predict(dfvl[cols_feat],num_iteration=bst.best_iteration)\n",
    "prdval0 = bst.predict(dfval[cols_feat],num_iteration=bst.best_iteration)\n",
    "prdval = calibration(prdval0, train_pop, target_pop, sampled_train_pop, sampled_target_pop)"
   ]
  },
  {
   "cell_type": "code",
   "execution_count": null,
   "metadata": {},
   "outputs": [],
   "source": [
    "%%time\n",
    "ytr,yvl,yval=[df[TCOL].values for df in (dftr,dfvl,dfval)]\n",
    "\n",
    "auc_tr=compute_prauc(prdtr, ytr)\n",
    "rce_tr=compute_rce(prdtr, ytr)\n",
    "auc_vl=compute_prauc(prdvl, yvl)\n",
    "rce_vl=compute_rce(prdvl, yvl)\n",
    "auc_val=compute_prauc(prdval, yval)\n",
    "rce_val=compute_rce(prdval, yval)\n",
    "\n",
    "results['scrs'] = {}\n",
    "results['scrs']['auc_tr']=auc_tr\n",
    "results['scrs']['rce_tr']=rce_tr\n",
    "results['scrs']['auc_vl']=auc_vl\n",
    "results['scrs']['rce_vl']=rce_vl\n",
    "results['scrs']['auc_val']=auc_val\n",
    "results['scrs']['rce_val']=rce_val"
   ]
  },
  {
   "cell_type": "code",
   "execution_count": 41,
   "metadata": {},
   "outputs": [
    {
     "name": "stdout",
     "output_type": "stream",
     "text": [
      "auc_tr:  0.7754\n",
      "auc_vl:  0.7509\n",
      "auc_val: 0.7374\n",
      "\n",
      "rce_tr:  24.1424\n",
      "rce_vl:  21.3522\n",
      "rce_val: 18.5679\n"
     ]
    }
   ],
   "source": [
    "print(f'auc_tr:  {auc_tr:.4f}')\n",
    "print(f'auc_vl:  {auc_vl:.4f}')\n",
    "print(f'auc_val: {auc_val:.4f}')\n",
    "print()\n",
    "print(f'rce_tr:  {rce_tr:.4f}')\n",
    "print(f'rce_vl:  {rce_vl:.4f}')\n",
    "print(f'rce_val: {rce_val:.4f}')"
   ]
  },
  {
   "cell_type": "markdown",
   "metadata": {},
   "source": [
    "## score"
   ]
  },
  {
   "cell_type": "code",
   "execution_count": 42,
   "metadata": {},
   "outputs": [
    {
     "name": "stdout",
     "output_type": "stream",
     "text": [
      "-0.7374-18.5679\n"
     ]
    }
   ],
   "source": [
    "print(f'-{auc_val:.4f}-{rce_val:.4f}')"
   ]
  },
  {
   "cell_type": "markdown",
   "metadata": {},
   "source": [
    "# save results"
   ]
  },
  {
   "cell_type": "code",
   "execution_count": null,
   "metadata": {},
   "outputs": [],
   "source": [
    "pickle.dump(results, open(f'{p_out}/results_{PRFX}.p', 'wb'))"
   ]
  },
  {
   "cell_type": "markdown",
   "metadata": {},
   "source": [
    "# infer"
   ]
  },
  {
   "cell_type": "code",
   "execution_count": null,
   "metadata": {},
   "outputs": [],
   "source": [
    "results = pickle.load( open(f'{p_out}/results_{PRFX}.p', 'rb'))\n",
    "bst = results['bst']\n",
    "cols_feat = results['cols_feat']"
   ]
  },
  {
   "cell_type": "markdown",
   "metadata": {},
   "source": [
    "## prep"
   ]
  },
  {
   "cell_type": "code",
   "execution_count": null,
   "metadata": {},
   "outputs": [],
   "source": [
    "%%time\n",
    "dftst=pd.read_csv(\n",
    "    f'{p_in}/val_{tsttmstmp}.tsv',\n",
    "    sep='\\x01', header=None, names=cols_val, \n",
    "#     nrows=10\n",
    ")"
   ]
  },
  {
   "cell_type": "code",
   "execution_count": null,
   "metadata": {},
   "outputs": [],
   "source": [
    "dftst.shape"
   ]
  },
  {
   "cell_type": "code",
   "execution_count": null,
   "metadata": {
    "scrolled": false
   },
   "outputs": [],
   "source": [
    "%%time\n",
    "dftst=prp_df(dftst, tm_max=tm_tst_max)"
   ]
  },
  {
   "cell_type": "code",
   "execution_count": null,
   "metadata": {},
   "outputs": [],
   "source": [
    "dftst.drop(columns=['u1id','u1u2'], inplace=True)\n",
    "cols_category=['twttyp', 'lang', 'langhour']\n",
    "dftst[cols_category]=dftst[cols_category].astype('category')"
   ]
  },
  {
   "cell_type": "markdown",
   "metadata": {},
   "source": [
    "## predict"
   ]
  },
  {
   "cell_type": "code",
   "execution_count": null,
   "metadata": {},
   "outputs": [],
   "source": [
    "%%time\n",
    "prdtst0 = bst.predict(dftst[cols_feat],num_iteration=bst.best_iteration)\n",
    "prdtst = calibration(prdtst0, train_pop, target_pop, sampled_train_pop, sampled_target_pop)"
   ]
  },
  {
   "cell_type": "code",
   "execution_count": null,
   "metadata": {},
   "outputs": [],
   "source": [
    "dfsub_ids = dftst[['twtid','u2id',]]\n",
    "dfsub = dfsub_ids.copy()\n",
    "dfsub['scr'] = prdtst\n",
    "dfsub.to_csv(f'{p_out}/{TGT}__{PRFX}.csv',index=False,header=False)"
   ]
  },
  {
   "cell_type": "code",
   "execution_count": null,
   "metadata": {},
   "outputs": [],
   "source": []
  }
 ],
 "metadata": {
  "kernelspec": {
   "display_name": "rcss20",
   "language": "python",
   "name": "rcss20"
  },
  "language_info": {
   "codemirror_mode": {
    "name": "ipython",
    "version": 3
   },
   "file_extension": ".py",
   "mimetype": "text/x-python",
   "name": "python",
   "nbconvert_exporter": "python",
   "pygments_lexer": "ipython3",
   "version": "3.7.6"
  },
  "toc": {
   "base_numbering": 1,
   "nav_menu": {},
   "number_sections": true,
   "sideBar": true,
   "skip_h1_title": false,
   "title_cell": "Table of Contents",
   "title_sidebar": "Contents",
   "toc_cell": false,
   "toc_position": {},
   "toc_section_display": true,
   "toc_window_display": true
  }
 },
 "nbformat": 4,
 "nbformat_minor": 4
}
