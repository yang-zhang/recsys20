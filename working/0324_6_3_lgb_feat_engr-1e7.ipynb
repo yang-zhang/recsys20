{
 "cells": [
  {
   "cell_type": "markdown",
   "metadata": {},
   "source": [
    "https://www.kaggle.com/learn/feature-engineering\n",
    "user count feature"
   ]
  },
  {
   "cell_type": "markdown",
   "metadata": {},
   "source": [
    "# start"
   ]
  },
  {
   "cell_type": "code",
   "execution_count": 27,
   "metadata": {},
   "outputs": [
    {
     "name": "stdout",
     "output_type": "stream",
     "text": [
      "['2020-03-17 02:32:24', '2020-03-26 16:11:23']\n",
      "['2020-02-06 00:00:00', '2020-02-13 00:00:00']\n"
     ]
    }
   ],
   "source": [
    "PRFX='0324_6_2'\n",
    "trntmstmp=1584412344\n",
    "valtmstmp=1585239083\n",
    "import datetime\n",
    "print([datetime.datetime.fromtimestamp(o).strftime('%Y-%m-%d %H:%M:%S') for o in (trntmstmp, valtmstmp)])\n",
    "\n",
    "grand_total=1.5e8\n",
    "MIN_TM_TRN=1580947200\n",
    "MIN_TM_TST=1581552000\n",
    "print([datetime.datetime.fromtimestamp(o).strftime('%Y-%m-%d %H:%M:%S') for o in (MIN_TM_TRN, MIN_TM_TST)])\n",
    "\n",
    "\n",
    "CHNKSZ=1e7\n",
    "POST_RATE_WANTED=0.1\n",
    "max_seq_length="
   ]
  },
  {
   "cell_type": "markdown",
   "metadata": {},
   "source": [
    "# setup"
   ]
  },
  {
   "cell_type": "code",
   "execution_count": 2,
   "metadata": {
    "scrolled": true
   },
   "outputs": [
    {
     "data": {
      "text/plain": [
       "{'Retweet': 'retwt',\n",
       " 'Reply': 'reply',\n",
       " 'Like': 'like',\n",
       " 'RTwCmnt': 'retwt_cmmnt'}"
      ]
     },
     "execution_count": 2,
     "metadata": {},
     "output_type": "execute_result"
    }
   ],
   "source": [
    "from pathlib import Path\n",
    "import xgboost as xgb\n",
    "import lightgbm as lgb\n",
    "from sklearn.model_selection import train_test_split\n",
    "import pandas as pd\n",
    "import numpy as np\n",
    "import matplotlib.pyplot as plt\n",
    "from sklearn.metrics import accuracy_score, roc_auc_score, roc_curve, auc, precision_recall_curve\n",
    "import pickle\n",
    "from tqdm import tqdm\n",
    "from collections import Counter\n",
    "import category_encoders as ce\n",
    "pd.set_option('display.max_rows', 500)\n",
    "\n",
    "from functools import reduce\n",
    "import datetime\n",
    "def dtnow(): return datetime.datetime.now().strftime('%Y-%m-%d %H:%M:%S')\n",
    "\n",
    "SEED=101\n",
    "HOME='/data/git/recsys20'\n",
    "p_in=f'{HOME}/input'\n",
    "p_out=f'{HOME}/output/{PRFX}'\n",
    "Path(p_out).mkdir(exist_ok=True, parents=True)\n",
    "\n",
    "from sklearn.metrics import precision_recall_curve, auc, log_loss\n",
    "\n",
    "def compute_prauc(pred, gt):\n",
    "    prec, recall, thresh = precision_recall_curve(gt, pred)\n",
    "    prauc = auc(recall, prec)\n",
    "    return prauc\n",
    "\n",
    "def calculate_ctr(gt):\n",
    "    positive = len([x for x in gt if x == 1])\n",
    "    ctr = positive/float(len(gt))\n",
    "    return ctr\n",
    "\n",
    "def compute_rce(pred, gt):\n",
    "    cross_entropy = log_loss(gt, pred)\n",
    "    data_ctr = calculate_ctr(gt)\n",
    "    strawman_cross_entropy = log_loss(gt, [data_ctr for _ in range(len(gt))])\n",
    "    return (1.0 - cross_entropy/strawman_cross_entropy)*100.0\n",
    "\n",
    "# https://towardsdatascience.com/how-to-calibrate-undersampled-model-scores-8f3319c1ea5b\n",
    "# How to use the function?\n",
    "# Let’s say your goal is to generate a model that shows the credit default probabilities and your original \n",
    "# training data has 50,000 rows with only 500 of them labeled as target class. When you sample your non-target \n",
    "# instances randomly and reduce the total row count to 10,000, while conserving 500 target rows, our calibration\n",
    "# function becomes:\n",
    "# calibration(model_results, 50000, 500, 10000, 500)\n",
    "# Here model_results is your model probability output array. After you train your model and put the results in it, your function is ready to use. \n",
    "\n",
    "def calibration(data, train_pop, target_pop, sampled_train_pop, sampled_target_pop):\n",
    "    calibrated_data = \\\n",
    "    ((data * (target_pop / train_pop) / (sampled_target_pop / sampled_train_pop)) /\n",
    "    ((\n",
    "        (1 - data) * (1 - target_pop / train_pop) / (1 - sampled_target_pop / sampled_train_pop)\n",
    "     ) +\n",
    "     (\n",
    "        data * (target_pop / train_pop) / (sampled_target_pop / sampled_train_pop)\n",
    "     )))\n",
    "\n",
    "    return calibrated_data\n",
    "\n",
    "cols=[\n",
    "'toks',\n",
    "'hshtgs',\n",
    "'twtid',\n",
    "'media',\n",
    "'links',\n",
    "'domns',\n",
    "'twttyp',\n",
    "'lang',\n",
    "'tm',\n",
    "\n",
    "'u1id',\n",
    "'u1_fllwer_cnt',\n",
    "'u1_fllwng_cnt',\n",
    "'u1_vrfed',\n",
    "'u1_create_tm',\n",
    "\n",
    "'u2id',\n",
    "'u2_fllwer_cnt',\n",
    "'u2_fllwng_cnt',\n",
    "'u2_vrfed',\n",
    "'u2_create_tm',\n",
    "\n",
    "'u1_fllw_u2',\n",
    "'reply_tm',\n",
    "'retwt_tm',\n",
    "'retwt_cmmnt_tm',\n",
    "'like_tm',\n",
    "]\n",
    "cols_cat = ['twttyp','lang']\n",
    "cols_val = cols[:-4]\n",
    "cols_tgt_tmstmp=[\n",
    "    'retwt_tm',\n",
    "    'reply_tm',\n",
    "    'like_tm',\n",
    "    'retwt_cmmnt_tm',\n",
    "]\n",
    "cols_tgt=[o.split('_tm')[0] for o in cols_tgt_tmstmp]\n",
    "tgts             = ['Retweet','Reply','Like','RTwCmnt',]\n",
    "assert cols_tgt == ['retwt',  'reply','like','retwt_cmmnt',]\n",
    "ntgts=len(tgts)\n",
    "\n",
    "\n",
    "tgt2col=dict(zip(tgts,cols_tgt))\n",
    "tgt2col"
   ]
  },
  {
   "cell_type": "markdown",
   "metadata": {},
   "source": [
    "# prepare data"
   ]
  },
  {
   "cell_type": "markdown",
   "metadata": {},
   "source": [
    "## prep func"
   ]
  },
  {
   "cell_type": "code",
   "execution_count": 3,
   "metadata": {},
   "outputs": [],
   "source": [
    "# chnks_trn = pd.read_csv(f'{p_in}/trn_{trntmstmp}.tsv',sep='\\x01',\n",
    "#                     header=None,names=cols, \n",
    "#                         chunksize=CHNKSZ)\n",
    "# # first chunk as validate data\n",
    "# for ichnk,df in enumerate(chnks_trn):\n",
    "#     df\n",
    "#     break\n",
    "\n",
    "# istrn=True\n",
    "# tm_min = MIN_TM_TRN if istrn else MIN_TM_TST\n",
    "# df['len_toks'] = df.toks.apply(len)\n",
    "# for media in ['Photo', 'Video', 'GIF']:\n",
    "#     df[f'has_media_{media}'] = df.media.fillna('').apply(lambda x: media in x)\n",
    "# for col in ['hshtgs', 'links', 'domns',]:\n",
    "#     df[f'num_{col}'] = df[col].fillna('').apply(lambda x: len(x.split('\\t')) if len(x) else 0)\n",
    "\n",
    "# df['twt_age'] = df.tm - tm_min\n",
    "# df['u1_age']  = df.tm - df.u1_create_tm\n",
    "# df['u2_age']  = df.tm - df.u2_create_tm\n",
    "\n",
    "# tm_dt=pd.to_datetime(df.tm, unit='s')\n",
    "# df['tm_dayofweek']=tm_dt.dt.dayofweek\n",
    "# df['tm_hour']=tm_dt.dt.hour\n",
    "\n",
    "# df['tmdlta_u2u1']  = df.u2_create_tm - df.u1_create_tm\n",
    "\n",
    "# df['u1_fllwer_cnt_by_age'] = df.u1_fllwer_cnt / df.u1_age\n",
    "# df['u1_fllwng_cnt_by_age'] = df.u2_fllwng_cnt / df.u2_age\n",
    "\n",
    "# for col in ['twttyp','lang']:\n",
    "#     df[col]=df[col].astype('category')\n",
    "\n",
    "# ce_features = ['twttyp', 'lang' ]\n",
    "# cnt_encd = ce.CountEncoder()\n",
    "# cnt_encded = cnt_encd.fit_transform(df[ce_features])\n",
    "# cnt_encded = cnt_encded.astype(int)\n",
    "# cnt_encded.columns = [f'{col}_cnt' for col in ce_features]\n",
    "\n",
    "# df = pd.concat([df,cnt_encded],1)\n",
    "\n",
    "# if istrn: \n",
    "#     df[cols_tgt]=df[cols_tgt_tmstmp].notna().astype('int8')\n",
    "#     df.drop(inplace=True, columns=['toks', 'hshtgs', 'media', 'links', 'domns',  \n",
    "#                                    'tm', 'u1_create_tm','u2_create_tm', 'u1id', 'u2id', 'twtid', ]+cols_tgt_tmstmp, )\n",
    "# else:\n",
    "#     df.drop(inplace=True, columns=['toks', 'hshtgs', 'media', 'links', 'domns', \n",
    "#                                    'tm', 'u1_create_tm','u2_create_tm', 'u1id', ])   \n",
    "\n",
    "# df.dtypes"
   ]
  },
  {
   "cell_type": "code",
   "execution_count": 4,
   "metadata": {},
   "outputs": [],
   "source": [
    "def prp_df(df, istrn=True):\n",
    "    tm_min = MIN_TM_TRN if istrn else MIN_TM_TST\n",
    "    df['len_toks'] = df.toks.apply(len)\n",
    "    for media in ['Photo', 'Video', 'GIF']:\n",
    "        df[f'has_media_{media}'] = df.media.fillna('').apply(lambda x: media in x)\n",
    "    for col in ['hshtgs', 'links', 'domns',]:\n",
    "        df[f'num_{col}'] = df[col].fillna('').apply(lambda x: len(x.split('\\t')) if len(x) else 0)\n",
    "\n",
    "    df['twt_age'] = df.tm - tm_min\n",
    "    df['u1_age']  = df.tm - df.u1_create_tm\n",
    "    df['u2_age']  = df.tm - df.u2_create_tm\n",
    "\n",
    "    tm_dt=pd.to_datetime(df.tm, unit='s')\n",
    "    df['tm_dayofweek']=tm_dt.dt.dayofweek\n",
    "    df['tm_hour']=tm_dt.dt.hour\n",
    "\n",
    "    df['tmdlta_u2u1']  = df.u2_create_tm - df.u1_create_tm\n",
    "\n",
    "    df['u1_fllwer_cnt_by_age'] = df.u1_fllwer_cnt / df.u1_age\n",
    "    df['u1_fllwng_cnt_by_age'] = df.u2_fllwng_cnt / df.u2_age\n",
    "\n",
    "    for col in cols_cat:\n",
    "        df[col]=df[col].astype('category')\n",
    "\n",
    "    df['u1u2']=df.u1id+'_'+df.u2id\n",
    "    ce_features = ['twttyp', 'lang', 'u1id', 'u2id', 'u1u2', 'twtid']\n",
    "    cnt_encd = ce.CountEncoder()\n",
    "    cnt_encded = cnt_encd.fit_transform(df[ce_features])\n",
    "    cnt_encded = cnt_encded.astype(int)\n",
    "    cnt_encded.columns = [f'{col}_cnt' for col in ce_features]\n",
    "\n",
    "    df = pd.concat([df,cnt_encded],1)\n",
    "    if istrn: \n",
    "        df[cols_tgt]=df[cols_tgt_tmstmp].notna().astype('int8')\n",
    "        df.drop(inplace=True, columns=['toks', 'hshtgs', 'media', 'links', 'domns',  \n",
    "                                       'tm', 'u1_create_tm','u2_create_tm', 'u1id', 'u1u2', 'u2id', 'twtid', ]+cols_tgt_tmstmp, )\n",
    "    else:\n",
    "        df.drop(inplace=True, columns=['toks', 'hshtgs', 'media', 'links', 'domns', \n",
    "                                       'tm', 'u1_create_tm','u2_create_tm', 'u1id', 'u1u2'])   \n",
    "    return df"
   ]
  },
  {
   "cell_type": "code",
   "execution_count": 5,
   "metadata": {
    "scrolled": false
   },
   "outputs": [
    {
     "data": {
      "text/plain": [
       "(150000000.0, 15.0)"
      ]
     },
     "execution_count": 5,
     "metadata": {},
     "output_type": "execute_result"
    }
   ],
   "source": [
    "grand_total, grand_total/CHNKSZ"
   ]
  },
  {
   "cell_type": "markdown",
   "metadata": {},
   "source": [
    "## valid data"
   ]
  },
  {
   "cell_type": "code",
   "execution_count": 6,
   "metadata": {},
   "outputs": [
    {
     "name": "stdout",
     "output_type": "stream",
     "text": [
      "2020-03-25 13:02:13 chunk 0\n"
     ]
    },
    {
     "name": "stderr",
     "output_type": "stream",
     "text": [
      "/data/anaconda3/envs/rcss20/lib/python3.7/site-packages/category_encoders/count.py:255: FutureWarning: The pandas.np module is deprecated and will be removed from pandas in a future version. Import numpy directly instead\n",
      "  X.loc[:, self.cols] = X.fillna(value=pd.np.nan)\n"
     ]
    },
    {
     "name": "stdout",
     "output_type": "stream",
     "text": [
      "dfvalid.shape: (10000000, 34)\n"
     ]
    },
    {
     "data": {
      "text/plain": [
       "twttyp                  category\n",
       "lang                    category\n",
       "u1_fllwer_cnt              int64\n",
       "u1_fllwng_cnt              int64\n",
       "u1_vrfed                    bool\n",
       "u2_fllwer_cnt              int64\n",
       "u2_fllwng_cnt              int64\n",
       "u2_vrfed                    bool\n",
       "u1_fllw_u2                  bool\n",
       "len_toks                   int64\n",
       "has_media_Photo             bool\n",
       "has_media_Video             bool\n",
       "has_media_GIF               bool\n",
       "num_hshtgs                 int64\n",
       "num_links                  int64\n",
       "num_domns                  int64\n",
       "twt_age                    int64\n",
       "u1_age                     int64\n",
       "u2_age                     int64\n",
       "tm_dayofweek               int64\n",
       "tm_hour                    int64\n",
       "tmdlta_u2u1                int64\n",
       "u1_fllwer_cnt_by_age     float64\n",
       "u1_fllwng_cnt_by_age     float64\n",
       "twttyp_cnt                 int64\n",
       "lang_cnt                   int64\n",
       "u1id_cnt                   int64\n",
       "u2id_cnt                   int64\n",
       "u1u2_cnt                   int64\n",
       "twtid_cnt                  int64\n",
       "dtype: object"
      ]
     },
     "metadata": {},
     "output_type": "display_data"
    }
   ],
   "source": [
    "chnks_trn = pd.read_csv(f'{p_in}/trn_{trntmstmp}.tsv',sep='\\x01',\n",
    "                    header=None,names=cols, \n",
    "                        chunksize=CHNKSZ)\n",
    "# first chunk as validate data\n",
    "for ichnk,df in enumerate(chnks_trn):\n",
    "    print(dtnow(), 'chunk', ichnk)\n",
    "#     print([datetime.datetime.fromtimestamp(o).strftime('%Y-%m-%d %H:%M:%S') \n",
    "#            for o in (df.tm.min(), df.tm.max())])\n",
    "    dfvalid = prp_df(df)\n",
    "    break\n",
    "print('dfvalid.shape:',dfvalid.shape)\n",
    "\n",
    "cols_feat=[o for o in dfvalid.columns if o not in cols_tgt]\n",
    "\n",
    "display(dfvalid[cols_feat].dtypes)"
   ]
  },
  {
   "cell_type": "markdown",
   "metadata": {},
   "source": [
    "## trnval data func"
   ]
  },
  {
   "cell_type": "code",
   "execution_count": 7,
   "metadata": {},
   "outputs": [],
   "source": [
    "def getdftrvl(tgt):\n",
    "    print(tgt)\n",
    "    tgtcol=tgt2col[tgt]\n",
    "    chnks_trn = pd.read_csv(f'{p_in}/trn_{trntmstmp}.tsv',sep='\\x01',\n",
    "                        header=None,names=cols, \n",
    "                            chunksize=CHNKSZ)\n",
    "    len_df_wanted = int(CHNKSZ)\n",
    "    # retwt          0.113031\n",
    "    # reply          0.027488\n",
    "    # like           0.439499\n",
    "    # retwt_cmmnt    0.007742\n",
    "    pos_rate_wanted = POST_RATE_WANTED\n",
    "    n_pos_wanted = int(len_df_wanted*pos_rate_wanted)\n",
    "    print('n_pos_wanted', n_pos_wanted)\n",
    "    np.random.seed(SEED)\n",
    "    lst_df = []\n",
    "    n_pos_ttl = 0\n",
    "    for ichnk,df in enumerate(chnks_trn):\n",
    "        #skip first chunk (it was validate data)\n",
    "        if ichnk==0: continue\n",
    "        print(dtnow(), 'chunk', ichnk)\n",
    "        df = prp_df(df)\n",
    "        n_pos_ttl+= df[tgtcol].sum()\n",
    "        lst_df.append(df)\n",
    "        if n_pos_ttl>=n_pos_wanted: break\n",
    "\n",
    "    df = pd.concat(lst_df)\n",
    "    df.reset_index(drop=True,inplace=True)\n",
    "\n",
    "\n",
    "    # https://stackoverflow.com/questions/28556942/pandas-remove-rows-at-random-without-shuffling-dataset\n",
    "    idx_neg=np.where(df[tgtcol]==0)[0]\n",
    "    n_neg = len(idx_neg)\n",
    "    n_pos = len(df)-len(idx_neg)\n",
    "    n_neg2keep = len_df_wanted-n_pos\n",
    "    n_neg2rmv = n_neg-n_neg2keep\n",
    "    idx_neg2rmv = np.random.choice(idx_neg, n_neg2rmv, replace=False)\n",
    "    dftrvl = df.drop(idx_neg2rmv)\n",
    "    dftrvl = dftrvl.sample(len(dftrvl))\n",
    "    for col in cols_cat:\n",
    "        dftrvl[col]=dftrvl[col].astype('category')\n",
    "    \n",
    "#     display(dftrvl.dtypes)\n",
    "    print('dftrvl.shape:',dftrvl.shape,'dftrvl[tgtcol].mean():',dftrvl[tgtcol].mean())\n",
    "    \n",
    "    pops={\n",
    "        'train_pop':len(df),\n",
    "        'target_pop':n_pos,\n",
    "        'sampled_train_pop':len_df_wanted,\n",
    "        'sampled_target_pop':n_pos,\n",
    "    }\n",
    "    print(pops)\n",
    "    return dftrvl, pops"
   ]
  },
  {
   "cell_type": "markdown",
   "metadata": {},
   "source": [
    "# model"
   ]
  },
  {
   "cell_type": "code",
   "execution_count": 8,
   "metadata": {},
   "outputs": [],
   "source": [
    "def train(params,dtr,dvl):\n",
    "    print(params)\n",
    "    evals_result = {}\n",
    "    evallist = [(dtr, 'train'), (dvl, 'eval')]\n",
    "    bst = lgb.train(params=params, \n",
    "                    train_set=dtr, \n",
    "                    num_boost_round=5000,\n",
    "                    valid_sets=[dtr, dvl],\n",
    "                    verbose_eval=100,\n",
    "                    early_stopping_rounds=100,\n",
    "                    evals_result=evals_result,\n",
    "                   )\n",
    "    return bst,evals_result\n",
    "\n",
    "def valid(bst,dftr,dfvl):\n",
    "    prdtr = bst.predict(dftr[cols_feat],num_iteration=bst.best_iteration)\n",
    "    prdvl = bst.predict(dfvl[cols_feat],num_iteration=bst.best_iteration)\n",
    "    return prdtr,prdvl\n",
    "\n",
    "def do_tgt(tgt):\n",
    "    params=tgt2params[tgt]\n",
    "    tgtcol=tgt2col[tgt]\n",
    "    dftrvl, pops=getdftrvl(tgt)\n",
    "    split=int(len(dftrvl)*0.85)\n",
    "    dftr,dfvl=dftrvl[:split],dftrvl[split:]\n",
    "    dtr = lgb.Dataset(dftr[cols_feat], label=dftr[tgtcol])\n",
    "    dvl = lgb.Dataset(dfvl[cols_feat], label=dfvl[tgtcol])\n",
    "    bst,evlres=train(params,dtr,dvl)\n",
    "    prdtr,prdvl=valid(bst,dftr,dfvl)\n",
    "    \n",
    "    tgt2bst[tgt]=bst\n",
    "    tgt2evlres[tgt]=evlres\n",
    "    tgt2ytr[tgt]=dftr[tgtcol]\n",
    "    tgt2yvl[tgt]=dfvl[tgtcol]\n",
    "    tgt2pops[tgt]=pops\n",
    "    tgt2prdtr[tgt]=prdtr\n",
    "    tgt2prdvl[tgt]=prdvl\n"
   ]
  },
  {
   "cell_type": "code",
   "execution_count": 9,
   "metadata": {},
   "outputs": [
    {
     "name": "stdout",
     "output_type": "stream",
     "text": [
      "2020-03-25 13:04:57 Retweet ********************************************************************************\n",
      "Retweet\n",
      "n_pos_wanted 1000000\n",
      "2020-03-25 13:07:33 chunk 1\n",
      "dftrvl.shape: (10000000, 34) dftrvl[tgtcol].mean(): 0.1129292\n",
      "{'train_pop': 10000000, 'target_pop': 1129292, 'sampled_train_pop': 10000000, 'sampled_target_pop': 1129292}\n",
      "{'objective': 'binary', 'metric': 'binary_logloss', 'verbosity': 0, 'boosting_type': 'gbdt'}\n",
      "Training until validation scores don't improve for 100 rounds\n",
      "[100]\ttraining's binary_logloss: 0.301256\tvalid_1's binary_logloss: 0.301772\n",
      "[200]\ttraining's binary_logloss: 0.298465\tvalid_1's binary_logloss: 0.299298\n",
      "[300]\ttraining's binary_logloss: 0.297055\tvalid_1's binary_logloss: 0.298179\n",
      "[400]\ttraining's binary_logloss: 0.296049\tvalid_1's binary_logloss: 0.297447\n",
      "[500]\ttraining's binary_logloss: 0.295206\tvalid_1's binary_logloss: 0.296871\n",
      "[600]\ttraining's binary_logloss: 0.294492\tvalid_1's binary_logloss: 0.296421\n",
      "[700]\ttraining's binary_logloss: 0.29386\tvalid_1's binary_logloss: 0.296072\n",
      "[800]\ttraining's binary_logloss: 0.293192\tvalid_1's binary_logloss: 0.295681\n",
      "[900]\ttraining's binary_logloss: 0.292666\tvalid_1's binary_logloss: 0.295445\n",
      "[1000]\ttraining's binary_logloss: 0.292152\tvalid_1's binary_logloss: 0.295224\n",
      "[1100]\ttraining's binary_logloss: 0.291663\tvalid_1's binary_logloss: 0.295015\n",
      "[1200]\ttraining's binary_logloss: 0.291153\tvalid_1's binary_logloss: 0.294786\n",
      "[1300]\ttraining's binary_logloss: 0.290668\tvalid_1's binary_logloss: 0.294567\n",
      "[1400]\ttraining's binary_logloss: 0.29023\tvalid_1's binary_logloss: 0.29442\n",
      "[1500]\ttraining's binary_logloss: 0.289817\tvalid_1's binary_logloss: 0.294295\n",
      "[1600]\ttraining's binary_logloss: 0.289415\tvalid_1's binary_logloss: 0.294183\n",
      "[1700]\ttraining's binary_logloss: 0.288995\tvalid_1's binary_logloss: 0.294037\n",
      "[1800]\ttraining's binary_logloss: 0.288591\tvalid_1's binary_logloss: 0.293926\n",
      "[1900]\ttraining's binary_logloss: 0.288199\tvalid_1's binary_logloss: 0.293812\n",
      "[2000]\ttraining's binary_logloss: 0.287822\tvalid_1's binary_logloss: 0.293732\n",
      "[2100]\ttraining's binary_logloss: 0.28747\tvalid_1's binary_logloss: 0.293661\n",
      "[2200]\ttraining's binary_logloss: 0.287101\tvalid_1's binary_logloss: 0.293562\n",
      "[2300]\ttraining's binary_logloss: 0.286782\tvalid_1's binary_logloss: 0.293509\n",
      "[2400]\ttraining's binary_logloss: 0.286417\tvalid_1's binary_logloss: 0.293407\n",
      "[2500]\ttraining's binary_logloss: 0.286062\tvalid_1's binary_logloss: 0.293332\n",
      "[2600]\ttraining's binary_logloss: 0.285725\tvalid_1's binary_logloss: 0.293271\n",
      "[2700]\ttraining's binary_logloss: 0.28539\tvalid_1's binary_logloss: 0.293215\n",
      "[2800]\ttraining's binary_logloss: 0.285058\tvalid_1's binary_logloss: 0.29317\n",
      "[2900]\ttraining's binary_logloss: 0.284725\tvalid_1's binary_logloss: 0.293114\n",
      "[3000]\ttraining's binary_logloss: 0.284415\tvalid_1's binary_logloss: 0.293065\n",
      "[3100]\ttraining's binary_logloss: 0.284084\tvalid_1's binary_logloss: 0.293005\n",
      "[3200]\ttraining's binary_logloss: 0.283766\tvalid_1's binary_logloss: 0.292967\n",
      "[3300]\ttraining's binary_logloss: 0.283466\tvalid_1's binary_logloss: 0.292936\n",
      "[3400]\ttraining's binary_logloss: 0.283187\tvalid_1's binary_logloss: 0.292919\n",
      "[3500]\ttraining's binary_logloss: 0.282887\tvalid_1's binary_logloss: 0.292876\n",
      "[3600]\ttraining's binary_logloss: 0.282605\tvalid_1's binary_logloss: 0.29284\n",
      "[3700]\ttraining's binary_logloss: 0.282327\tvalid_1's binary_logloss: 0.292807\n",
      "[3800]\ttraining's binary_logloss: 0.282044\tvalid_1's binary_logloss: 0.292776\n",
      "[3900]\ttraining's binary_logloss: 0.281744\tvalid_1's binary_logloss: 0.292752\n",
      "[4000]\ttraining's binary_logloss: 0.281459\tvalid_1's binary_logloss: 0.292727\n",
      "[4100]\ttraining's binary_logloss: 0.281163\tvalid_1's binary_logloss: 0.292686\n",
      "[4200]\ttraining's binary_logloss: 0.280869\tvalid_1's binary_logloss: 0.292642\n",
      "[4300]\ttraining's binary_logloss: 0.280581\tvalid_1's binary_logloss: 0.292612\n",
      "[4400]\ttraining's binary_logloss: 0.280307\tvalid_1's binary_logloss: 0.292584\n",
      "[4500]\ttraining's binary_logloss: 0.280024\tvalid_1's binary_logloss: 0.292552\n",
      "[4600]\ttraining's binary_logloss: 0.279736\tvalid_1's binary_logloss: 0.292532\n",
      "[4700]\ttraining's binary_logloss: 0.279472\tvalid_1's binary_logloss: 0.292513\n",
      "[4800]\ttraining's binary_logloss: 0.279213\tvalid_1's binary_logloss: 0.292498\n",
      "[4900]\ttraining's binary_logloss: 0.278928\tvalid_1's binary_logloss: 0.292466\n",
      "[5000]\ttraining's binary_logloss: 0.278633\tvalid_1's binary_logloss: 0.292414\n",
      "Did not meet early stopping. Best iteration is:\n",
      "[5000]\ttraining's binary_logloss: 0.278633\tvalid_1's binary_logloss: 0.292414\n",
      "2020-03-25 13:45:08 Reply ********************************************************************************\n",
      "Reply\n",
      "n_pos_wanted 1000000\n",
      "2020-03-25 13:47:50 chunk 1\n",
      "2020-03-25 13:52:54 chunk 2\n",
      "2020-03-25 13:57:53 chunk 3\n",
      "2020-03-25 14:02:46 chunk 4\n",
      "dftrvl.shape: (10000000, 34) dftrvl[tgtcol].mean(): 0.1097816\n",
      "{'train_pop': 40000000, 'target_pop': 1097816, 'sampled_train_pop': 10000000, 'sampled_target_pop': 1097816}\n",
      "{'objective': 'binary', 'metric': 'binary_logloss', 'verbosity': 0, 'boosting_type': 'gbdt'}\n",
      "Training until validation scores don't improve for 100 rounds\n",
      "[100]\ttraining's binary_logloss: 0.291076\tvalid_1's binary_logloss: 0.291352\n",
      "[200]\ttraining's binary_logloss: 0.288889\tvalid_1's binary_logloss: 0.289432\n",
      "[300]\ttraining's binary_logloss: 0.287671\tvalid_1's binary_logloss: 0.288505\n",
      "[400]\ttraining's binary_logloss: 0.286839\tvalid_1's binary_logloss: 0.28797\n",
      "[500]\ttraining's binary_logloss: 0.286067\tvalid_1's binary_logloss: 0.287498\n",
      "[600]\ttraining's binary_logloss: 0.285364\tvalid_1's binary_logloss: 0.287099\n",
      "[700]\ttraining's binary_logloss: 0.28475\tvalid_1's binary_logloss: 0.286778\n",
      "[800]\ttraining's binary_logloss: 0.284229\tvalid_1's binary_logloss: 0.286555\n",
      "[900]\ttraining's binary_logloss: 0.283731\tvalid_1's binary_logloss: 0.286341\n",
      "[1000]\ttraining's binary_logloss: 0.283233\tvalid_1's binary_logloss: 0.286135\n",
      "[1100]\ttraining's binary_logloss: 0.282786\tvalid_1's binary_logloss: 0.285968\n",
      "[1200]\ttraining's binary_logloss: 0.282326\tvalid_1's binary_logloss: 0.285787\n",
      "[1300]\ttraining's binary_logloss: 0.281881\tvalid_1's binary_logloss: 0.285637\n",
      "[1400]\ttraining's binary_logloss: 0.281416\tvalid_1's binary_logloss: 0.285469\n",
      "[1500]\ttraining's binary_logloss: 0.281015\tvalid_1's binary_logloss: 0.285356\n",
      "[1600]\ttraining's binary_logloss: 0.280612\tvalid_1's binary_logloss: 0.285245\n",
      "[1700]\ttraining's binary_logloss: 0.280254\tvalid_1's binary_logloss: 0.285178\n",
      "[1800]\ttraining's binary_logloss: 0.279877\tvalid_1's binary_logloss: 0.285092\n",
      "[1900]\ttraining's binary_logloss: 0.279519\tvalid_1's binary_logloss: 0.285032\n",
      "[2000]\ttraining's binary_logloss: 0.279153\tvalid_1's binary_logloss: 0.284955\n",
      "[2100]\ttraining's binary_logloss: 0.278773\tvalid_1's binary_logloss: 0.284859\n",
      "[2200]\ttraining's binary_logloss: 0.278421\tvalid_1's binary_logloss: 0.284799\n",
      "[2300]\ttraining's binary_logloss: 0.278092\tvalid_1's binary_logloss: 0.28476\n",
      "[2400]\ttraining's binary_logloss: 0.277752\tvalid_1's binary_logloss: 0.284709\n",
      "[2500]\ttraining's binary_logloss: 0.277405\tvalid_1's binary_logloss: 0.284629\n",
      "[2600]\ttraining's binary_logloss: 0.277081\tvalid_1's binary_logloss: 0.284582\n",
      "[2700]\ttraining's binary_logloss: 0.276772\tvalid_1's binary_logloss: 0.284551\n",
      "[2800]\ttraining's binary_logloss: 0.276463\tvalid_1's binary_logloss: 0.284519\n",
      "[2900]\ttraining's binary_logloss: 0.276146\tvalid_1's binary_logloss: 0.284481\n",
      "[3000]\ttraining's binary_logloss: 0.275828\tvalid_1's binary_logloss: 0.284442\n",
      "[3100]\ttraining's binary_logloss: 0.27552\tvalid_1's binary_logloss: 0.284398\n",
      "[3200]\ttraining's binary_logloss: 0.275228\tvalid_1's binary_logloss: 0.284374\n",
      "[3300]\ttraining's binary_logloss: 0.274925\tvalid_1's binary_logloss: 0.284332\n",
      "[3400]\ttraining's binary_logloss: 0.274594\tvalid_1's binary_logloss: 0.284299\n",
      "[3500]\ttraining's binary_logloss: 0.274302\tvalid_1's binary_logloss: 0.284268\n",
      "[3600]\ttraining's binary_logloss: 0.273993\tvalid_1's binary_logloss: 0.284223\n",
      "[3700]\ttraining's binary_logloss: 0.273703\tvalid_1's binary_logloss: 0.284199\n",
      "[3800]\ttraining's binary_logloss: 0.273381\tvalid_1's binary_logloss: 0.284161\n",
      "[3900]\ttraining's binary_logloss: 0.273081\tvalid_1's binary_logloss: 0.284138\n",
      "[4000]\ttraining's binary_logloss: 0.272828\tvalid_1's binary_logloss: 0.284135\n",
      "[4100]\ttraining's binary_logloss: 0.272538\tvalid_1's binary_logloss: 0.284105\n"
     ]
    },
    {
     "name": "stdout",
     "output_type": "stream",
     "text": [
      "[4200]\ttraining's binary_logloss: 0.272231\tvalid_1's binary_logloss: 0.284075\n",
      "[4300]\ttraining's binary_logloss: 0.271949\tvalid_1's binary_logloss: 0.28406\n",
      "[4400]\ttraining's binary_logloss: 0.271694\tvalid_1's binary_logloss: 0.284055\n",
      "[4500]\ttraining's binary_logloss: 0.271416\tvalid_1's binary_logloss: 0.28404\n",
      "[4600]\ttraining's binary_logloss: 0.271141\tvalid_1's binary_logloss: 0.284021\n",
      "[4700]\ttraining's binary_logloss: 0.270859\tvalid_1's binary_logloss: 0.28401\n",
      "[4800]\ttraining's binary_logloss: 0.270575\tvalid_1's binary_logloss: 0.283985\n",
      "[4900]\ttraining's binary_logloss: 0.27034\tvalid_1's binary_logloss: 0.283983\n",
      "[5000]\ttraining's binary_logloss: 0.270073\tvalid_1's binary_logloss: 0.283963\n",
      "Did not meet early stopping. Best iteration is:\n",
      "[5000]\ttraining's binary_logloss: 0.270073\tvalid_1's binary_logloss: 0.283963\n",
      "2020-03-25 14:39:30 Like ********************************************************************************\n",
      "Like\n",
      "n_pos_wanted 1000000\n",
      "2020-03-25 14:43:25 chunk 1\n",
      "dftrvl.shape: (10000000, 34) dftrvl[tgtcol].mean(): 0.438925\n",
      "{'train_pop': 10000000, 'target_pop': 4389250, 'sampled_train_pop': 10000000, 'sampled_target_pop': 4389250}\n",
      "{'objective': 'binary', 'metric': 'binary_logloss', 'verbosity': 0, 'boosting_type': 'gbdt'}\n",
      "Training until validation scores don't improve for 100 rounds\n",
      "[100]\ttraining's binary_logloss: 0.556954\tvalid_1's binary_logloss: 0.557593\n",
      "[200]\ttraining's binary_logloss: 0.551051\tvalid_1's binary_logloss: 0.551965\n",
      "[300]\ttraining's binary_logloss: 0.548174\tvalid_1's binary_logloss: 0.549316\n",
      "[400]\ttraining's binary_logloss: 0.546334\tvalid_1's binary_logloss: 0.547705\n",
      "[500]\ttraining's binary_logloss: 0.544669\tvalid_1's binary_logloss: 0.546269\n",
      "[600]\ttraining's binary_logloss: 0.543269\tvalid_1's binary_logloss: 0.54509\n",
      "[700]\ttraining's binary_logloss: 0.542133\tvalid_1's binary_logloss: 0.544184\n",
      "[800]\ttraining's binary_logloss: 0.541143\tvalid_1's binary_logloss: 0.543428\n",
      "[900]\ttraining's binary_logloss: 0.54027\tvalid_1's binary_logloss: 0.542811\n",
      "[1000]\ttraining's binary_logloss: 0.539425\tvalid_1's binary_logloss: 0.542185\n",
      "[1100]\ttraining's binary_logloss: 0.538668\tvalid_1's binary_logloss: 0.541643\n",
      "[1200]\ttraining's binary_logloss: 0.537929\tvalid_1's binary_logloss: 0.541129\n",
      "[1300]\ttraining's binary_logloss: 0.537169\tvalid_1's binary_logloss: 0.540591\n",
      "[1400]\ttraining's binary_logloss: 0.536447\tvalid_1's binary_logloss: 0.540098\n",
      "[1500]\ttraining's binary_logloss: 0.535779\tvalid_1's binary_logloss: 0.539647\n",
      "[1600]\ttraining's binary_logloss: 0.535176\tvalid_1's binary_logloss: 0.539298\n",
      "[1700]\ttraining's binary_logloss: 0.534596\tvalid_1's binary_logloss: 0.538972\n",
      "[1800]\ttraining's binary_logloss: 0.534061\tvalid_1's binary_logloss: 0.538667\n",
      "[1900]\ttraining's binary_logloss: 0.533537\tvalid_1's binary_logloss: 0.538384\n",
      "[2000]\ttraining's binary_logloss: 0.532943\tvalid_1's binary_logloss: 0.538011\n",
      "[2100]\ttraining's binary_logloss: 0.532469\tvalid_1's binary_logloss: 0.53777\n",
      "[2200]\ttraining's binary_logloss: 0.53189\tvalid_1's binary_logloss: 0.537407\n",
      "[2300]\ttraining's binary_logloss: 0.531323\tvalid_1's binary_logloss: 0.537065\n",
      "[2400]\ttraining's binary_logloss: 0.530929\tvalid_1's binary_logloss: 0.536899\n",
      "[2500]\ttraining's binary_logloss: 0.530476\tvalid_1's binary_logloss: 0.536682\n",
      "[2600]\ttraining's binary_logloss: 0.529981\tvalid_1's binary_logloss: 0.536429\n",
      "[2700]\ttraining's binary_logloss: 0.529544\tvalid_1's binary_logloss: 0.536227\n",
      "[2800]\ttraining's binary_logloss: 0.529073\tvalid_1's binary_logloss: 0.535979\n",
      "[2900]\ttraining's binary_logloss: 0.528702\tvalid_1's binary_logloss: 0.535845\n",
      "[3000]\ttraining's binary_logloss: 0.528314\tvalid_1's binary_logloss: 0.535699\n",
      "[3100]\ttraining's binary_logloss: 0.527827\tvalid_1's binary_logloss: 0.53545\n",
      "[3200]\ttraining's binary_logloss: 0.527465\tvalid_1's binary_logloss: 0.535333\n",
      "[3300]\ttraining's binary_logloss: 0.527117\tvalid_1's binary_logloss: 0.535211\n",
      "[3400]\ttraining's binary_logloss: 0.526692\tvalid_1's binary_logloss: 0.535005\n",
      "[3500]\ttraining's binary_logloss: 0.526273\tvalid_1's binary_logloss: 0.534815\n",
      "[3600]\ttraining's binary_logloss: 0.525864\tvalid_1's binary_logloss: 0.534627\n",
      "[3700]\ttraining's binary_logloss: 0.525466\tvalid_1's binary_logloss: 0.534454\n",
      "[3800]\ttraining's binary_logloss: 0.525097\tvalid_1's binary_logloss: 0.534303\n",
      "[3900]\ttraining's binary_logloss: 0.524703\tvalid_1's binary_logloss: 0.534127\n",
      "[4000]\ttraining's binary_logloss: 0.524358\tvalid_1's binary_logloss: 0.534014\n",
      "[4100]\ttraining's binary_logloss: 0.524004\tvalid_1's binary_logloss: 0.533876\n",
      "[4200]\ttraining's binary_logloss: 0.523667\tvalid_1's binary_logloss: 0.53375\n",
      "[4300]\ttraining's binary_logloss: 0.52333\tvalid_1's binary_logloss: 0.533627\n",
      "[4400]\ttraining's binary_logloss: 0.522972\tvalid_1's binary_logloss: 0.533498\n",
      "[4500]\ttraining's binary_logloss: 0.522635\tvalid_1's binary_logloss: 0.533386\n",
      "[4600]\ttraining's binary_logloss: 0.522331\tvalid_1's binary_logloss: 0.533314\n",
      "[4700]\ttraining's binary_logloss: 0.521967\tvalid_1's binary_logloss: 0.533179\n",
      "[4800]\ttraining's binary_logloss: 0.521638\tvalid_1's binary_logloss: 0.533071\n",
      "[4900]\ttraining's binary_logloss: 0.521312\tvalid_1's binary_logloss: 0.532974\n",
      "[5000]\ttraining's binary_logloss: 0.520987\tvalid_1's binary_logloss: 0.532866\n",
      "Did not meet early stopping. Best iteration is:\n",
      "[5000]\ttraining's binary_logloss: 0.520987\tvalid_1's binary_logloss: 0.532866\n",
      "2020-03-25 15:15:40 RTwCmnt ********************************************************************************\n",
      "RTwCmnt\n",
      "n_pos_wanted 1000000\n",
      "2020-03-25 15:18:11 chunk 1\n",
      "2020-03-25 15:23:12 chunk 2\n",
      "2020-03-25 15:28:26 chunk 3\n",
      "2020-03-25 15:33:48 chunk 4\n",
      "2020-03-25 15:39:05 chunk 5\n",
      "2020-03-25 15:44:28 chunk 6\n",
      "2020-03-25 15:48:56 chunk 7\n",
      "2020-03-25 15:53:36 chunk 8\n",
      "2020-03-25 15:58:04 chunk 9\n",
      "2020-03-25 16:02:34 chunk 10\n",
      "2020-03-25 16:07:53 chunk 11\n",
      "2020-03-25 16:13:06 chunk 12\n",
      "2020-03-25 16:17:56 chunk 13\n",
      "dftrvl.shape: (10000000, 34) dftrvl[tgtcol].mean(): 0.1012718\n",
      "{'train_pop': 130000000, 'target_pop': 1012718, 'sampled_train_pop': 10000000, 'sampled_target_pop': 1012718}\n",
      "{'objective': 'binary', 'metric': 'binary_logloss', 'verbosity': 0, 'boosting_type': 'gbdt'}\n",
      "Training until validation scores don't improve for 100 rounds\n",
      "[100]\ttraining's binary_logloss: 0.296056\tvalid_1's binary_logloss: 0.295172\n",
      "[200]\ttraining's binary_logloss: 0.29371\tvalid_1's binary_logloss: 0.293127\n",
      "[300]\ttraining's binary_logloss: 0.292542\tvalid_1's binary_logloss: 0.292256\n",
      "[400]\ttraining's binary_logloss: 0.291675\tvalid_1's binary_logloss: 0.291684\n",
      "[500]\ttraining's binary_logloss: 0.290965\tvalid_1's binary_logloss: 0.291263\n",
      "[600]\ttraining's binary_logloss: 0.290277\tvalid_1's binary_logloss: 0.290876\n",
      "[700]\ttraining's binary_logloss: 0.289676\tvalid_1's binary_logloss: 0.29058\n",
      "[800]\ttraining's binary_logloss: 0.289136\tvalid_1's binary_logloss: 0.290347\n",
      "[900]\ttraining's binary_logloss: 0.288595\tvalid_1's binary_logloss: 0.290116\n",
      "[1000]\ttraining's binary_logloss: 0.288106\tvalid_1's binary_logloss: 0.289937\n",
      "[1100]\ttraining's binary_logloss: 0.28763\tvalid_1's binary_logloss: 0.289764\n",
      "[1200]\ttraining's binary_logloss: 0.287165\tvalid_1's binary_logloss: 0.289609\n",
      "[1300]\ttraining's binary_logloss: 0.286742\tvalid_1's binary_logloss: 0.289492\n",
      "[1400]\ttraining's binary_logloss: 0.286334\tvalid_1's binary_logloss: 0.289375\n",
      "[1500]\ttraining's binary_logloss: 0.285924\tvalid_1's binary_logloss: 0.289279\n",
      "[1600]\ttraining's binary_logloss: 0.285523\tvalid_1's binary_logloss: 0.289174\n",
      "[1700]\ttraining's binary_logloss: 0.285152\tvalid_1's binary_logloss: 0.289103\n",
      "[1800]\ttraining's binary_logloss: 0.284807\tvalid_1's binary_logloss: 0.289048\n",
      "[1900]\ttraining's binary_logloss: 0.284419\tvalid_1's binary_logloss: 0.288954\n",
      "[2000]\ttraining's binary_logloss: 0.284049\tvalid_1's binary_logloss: 0.288874\n",
      "[2100]\ttraining's binary_logloss: 0.283682\tvalid_1's binary_logloss: 0.288808\n",
      "[2200]\ttraining's binary_logloss: 0.283356\tvalid_1's binary_logloss: 0.288766\n",
      "[2300]\ttraining's binary_logloss: 0.282998\tvalid_1's binary_logloss: 0.288716\n",
      "[2400]\ttraining's binary_logloss: 0.282661\tvalid_1's binary_logloss: 0.28868\n",
      "[2500]\ttraining's binary_logloss: 0.282333\tvalid_1's binary_logloss: 0.288642\n",
      "[2600]\ttraining's binary_logloss: 0.282027\tvalid_1's binary_logloss: 0.288605\n",
      "[2700]\ttraining's binary_logloss: 0.281665\tvalid_1's binary_logloss: 0.288539\n"
     ]
    },
    {
     "name": "stdout",
     "output_type": "stream",
     "text": [
      "[2800]\ttraining's binary_logloss: 0.281334\tvalid_1's binary_logloss: 0.288483\n",
      "[2900]\ttraining's binary_logloss: 0.281028\tvalid_1's binary_logloss: 0.288454\n",
      "[3000]\ttraining's binary_logloss: 0.280733\tvalid_1's binary_logloss: 0.28843\n",
      "[3100]\ttraining's binary_logloss: 0.280438\tvalid_1's binary_logloss: 0.288396\n",
      "[3200]\ttraining's binary_logloss: 0.280128\tvalid_1's binary_logloss: 0.288339\n",
      "[3300]\ttraining's binary_logloss: 0.279803\tvalid_1's binary_logloss: 0.288292\n",
      "[3400]\ttraining's binary_logloss: 0.279487\tvalid_1's binary_logloss: 0.288261\n",
      "[3500]\ttraining's binary_logloss: 0.279169\tvalid_1's binary_logloss: 0.288206\n",
      "[3600]\ttraining's binary_logloss: 0.278879\tvalid_1's binary_logloss: 0.288189\n",
      "[3700]\ttraining's binary_logloss: 0.278605\tvalid_1's binary_logloss: 0.288177\n",
      "[3800]\ttraining's binary_logloss: 0.278296\tvalid_1's binary_logloss: 0.288149\n",
      "[3900]\ttraining's binary_logloss: 0.278013\tvalid_1's binary_logloss: 0.288117\n",
      "[4000]\ttraining's binary_logloss: 0.277734\tvalid_1's binary_logloss: 0.2881\n",
      "[4100]\ttraining's binary_logloss: 0.277424\tvalid_1's binary_logloss: 0.288059\n",
      "[4200]\ttraining's binary_logloss: 0.277147\tvalid_1's binary_logloss: 0.28805\n",
      "[4300]\ttraining's binary_logloss: 0.276866\tvalid_1's binary_logloss: 0.288031\n",
      "[4400]\ttraining's binary_logloss: 0.276577\tvalid_1's binary_logloss: 0.288007\n",
      "[4500]\ttraining's binary_logloss: 0.276315\tvalid_1's binary_logloss: 0.287997\n",
      "[4600]\ttraining's binary_logloss: 0.276039\tvalid_1's binary_logloss: 0.287977\n",
      "[4700]\ttraining's binary_logloss: 0.275766\tvalid_1's binary_logloss: 0.287968\n",
      "[4800]\ttraining's binary_logloss: 0.275481\tvalid_1's binary_logloss: 0.287943\n",
      "[4900]\ttraining's binary_logloss: 0.275189\tvalid_1's binary_logloss: 0.287917\n",
      "[5000]\ttraining's binary_logloss: 0.274935\tvalid_1's binary_logloss: 0.287915\n",
      "Did not meet early stopping. Best iteration is:\n",
      "[5000]\ttraining's binary_logloss: 0.274935\tvalid_1's binary_logloss: 0.287915\n"
     ]
    }
   ],
   "source": [
    "params_shared = {\n",
    "    \"objective\": \"binary\",\n",
    "    \"metric\": \"binary_logloss\",\n",
    "    \"verbosity\": 0,\n",
    "    \"boosting_type\": \"gbdt\",\n",
    "}\n",
    "tgt2params = {k:params_shared for k in tgts}\n",
    "\n",
    "tgt2bst={}\n",
    "tgt2evlres={}\n",
    "tgt2tuning_history={}\n",
    "tgt2ytr={}\n",
    "tgt2yvl={}\n",
    "tgt2prdtr={}\n",
    "tgt2prdvl={}\n",
    "tgt2pops={}\n",
    "for tgt in tgts:\n",
    "    print(dtnow(), tgt, '*'*80)\n",
    "    do_tgt(tgt)\n",
    "    \n",
    "pickle.dump(tgt2bst, open(f\"{p_out}/tgt2bst.p\", \"wb\"))"
   ]
  },
  {
   "cell_type": "markdown",
   "metadata": {},
   "source": [
    "# analyze"
   ]
  },
  {
   "cell_type": "markdown",
   "metadata": {},
   "source": [
    "## tr vl"
   ]
  },
  {
   "cell_type": "code",
   "execution_count": 10,
   "metadata": {},
   "outputs": [
    {
     "data": {
      "image/png": "[encoded data removed]",
      "text/plain": [
       "<Figure size 432x288 with 1 Axes>"
      ]
     },
     "metadata": {
      "needs_background": "light"
     },
     "output_type": "display_data"
    },
    {
     "data": {
      "image/png": "[encoded data removed]",
      "text/plain": [
       "<Figure size 432x288 with 1 Axes>"
      ]
     },
     "metadata": {
      "needs_background": "light"
     },
     "output_type": "display_data"
    },
    {
     "data": {
      "image/png": "[encoded data removed]",
      "text/plain": [
       "<Figure size 432x288 with 1 Axes>"
      ]
     },
     "metadata": {
      "needs_background": "light"
     },
     "output_type": "display_data"
    },
    {
     "data": {
      "image/png": "[encoded data removed]",
      "text/plain": [
       "<Figure size 432x288 with 1 Axes>"
      ]
     },
     "metadata": {
      "needs_background": "light"
     },
     "output_type": "display_data"
    }
   ],
   "source": [
    "for tgt in tgt2evlres:\n",
    "    evlres=tgt2evlres[tgt]\n",
    "    plt.plot(evlres['training']['binary_logloss'])\n",
    "    plt.plot(evlres['valid_1']['binary_logloss'])\n",
    "    plt.title(f\"{tgt} logloss {len(evlres['valid_1']['binary_logloss'])} rounds\")\n",
    "    plt.show()"
   ]
  },
  {
   "cell_type": "code",
   "execution_count": 11,
   "metadata": {},
   "outputs": [
    {
     "data": {
      "image/png": "[encoded data removed]",
      "text/plain": [
       "<Figure size 432x288 with 1 Axes>"
      ]
     },
     "metadata": {
      "needs_background": "light"
     },
     "output_type": "display_data"
    },
    {
     "data": {
      "image/png": "[encoded data removed]",
      "text/plain": [
       "<Figure size 432x288 with 1 Axes>"
      ]
     },
     "metadata": {
      "needs_background": "light"
     },
     "output_type": "display_data"
    },
    {
     "data": {
      "image/png": "[encoded data removed]",
      "text/plain": [
       "<Figure size 432x288 with 1 Axes>"
      ]
     },
     "metadata": {
      "needs_background": "light"
     },
     "output_type": "display_data"
    },
    {
     "data": {
      "image/png": "[encoded data removed]",
      "text/plain": [
       "<Figure size 432x288 with 1 Axes>"
      ]
     },
     "metadata": {
      "needs_background": "light"
     },
     "output_type": "display_data"
    }
   ],
   "source": [
    "def show_feat_importance(tgt):\n",
    "    bst=tgt2bst[tgt]\n",
    "    ax = lgb.plot_importance(bst, height=0.8, max_num_features=20)\n",
    "    ax.grid(False, axis=\"y\")\n",
    "    ax.set_title(f'{tgt} Estimated feature importance')\n",
    "    plt.show()\n",
    "#     feat2importance=bst.get_fscore()\n",
    "#     print(tgt)\n",
    "#     display(pd.DataFrame([feat2importance.keys(), \n",
    "#                           feat2importance.values()]).T.sort_values(1, ascending=False))\n",
    "\n",
    "for tgt in tgt2bst:\n",
    "    show_feat_importance(tgt)"
   ]
  },
  {
   "cell_type": "code",
   "execution_count": 12,
   "metadata": {},
   "outputs": [
    {
     "name": "stdout",
     "output_type": "stream",
     "text": [
      "Retweet\n",
      "tr prauc: 0.4378 tr rce: 20.9846\n",
      "vl prauc: 0.3847 vl rce: 17.0220\n",
      "Reply\n",
      "tr prauc: 0.4099 tr rce: 21.9456\n",
      "vl prauc: 0.3526 vl rce: 18.0148\n",
      "Like\n",
      "tr prauc: 0.7776 tr rce: 24.0168\n",
      "vl prauc: 0.7626 vl rce: 22.2898\n",
      "RTwCmnt\n",
      "tr prauc: 0.3438 tr rce: 16.1902\n",
      "vl prauc: 0.2760 vl rce: 11.9151\n"
     ]
    }
   ],
   "source": [
    "tgt2auc_tr={}\n",
    "tgt2rce_tr={}\n",
    "tgt2auc_vl={}\n",
    "tgt2rce_vl={}\n",
    "for tgt in tgt2bst:\n",
    "    print(tgt)\n",
    "    prdtr_i, prdvl_i = tgt2prdtr[tgt], tgt2prdvl[tgt]\n",
    "    ytr_i, yvl_i = tgt2ytr[tgt], tgt2yvl[tgt]\n",
    "    scr_auc_tr=compute_prauc(prdtr_i, ytr_i)\n",
    "    scr_rce_tr=compute_rce(prdtr_i, ytr_i)\n",
    "    scr_auc_vl=compute_prauc(prdvl_i, yvl_i)\n",
    "    scr_rce_vl=compute_rce(prdvl_i, yvl_i)\n",
    "\n",
    "    tgt2auc_tr[tgt]=scr_auc_tr\n",
    "    tgt2rce_tr[tgt]=scr_rce_tr\n",
    "    tgt2auc_vl[tgt]=scr_auc_vl\n",
    "    tgt2rce_vl[tgt]=scr_rce_vl\n",
    "    \n",
    "    print('tr prauc:', f'{scr_auc_tr:.4f}','tr rce:', f'{scr_rce_tr:.4f}', )\n",
    "    print('vl prauc:', f'{scr_auc_vl:.4f}','vl rce:', f'{scr_rce_vl:.4f}', )"
   ]
  },
  {
   "cell_type": "code",
   "execution_count": 13,
   "metadata": {},
   "outputs": [
    {
     "data": {
      "text/html": [
       "<div>\n",
       "<style scoped>\n",
       "    .dataframe tbody tr th:only-of-type {\n",
       "        vertical-align: middle;\n",
       "    }\n",
       "\n",
       "    .dataframe tbody tr th {\n",
       "        vertical-align: top;\n",
       "    }\n",
       "\n",
       "    .dataframe thead th {\n",
       "        text-align: right;\n",
       "    }\n",
       "</style>\n",
       "<table border=\"1\" class=\"dataframe\">\n",
       "  <thead>\n",
       "    <tr style=\"text-align: right;\">\n",
       "      <th></th>\n",
       "      <th>0</th>\n",
       "      <th>1</th>\n",
       "      <th>2</th>\n",
       "      <th>3</th>\n",
       "      <th>4</th>\n",
       "      <th>5</th>\n",
       "      <th>6</th>\n",
       "      <th>7</th>\n",
       "    </tr>\n",
       "  </thead>\n",
       "  <tbody>\n",
       "    <tr>\n",
       "      <th>metric</th>\n",
       "      <td>PRAUC Retweet</td>\n",
       "      <td>RCE Retweet</td>\n",
       "      <td>PRAUC Reply</td>\n",
       "      <td>RCE Reply</td>\n",
       "      <td>PRAUC Like</td>\n",
       "      <td>RCE Like</td>\n",
       "      <td>PRAUC RTwCmnt</td>\n",
       "      <td>RCE RTwCmnt</td>\n",
       "    </tr>\n",
       "    <tr>\n",
       "      <th>scrtr</th>\n",
       "      <td>0.437819</td>\n",
       "      <td>20.9846</td>\n",
       "      <td>0.409893</td>\n",
       "      <td>21.9456</td>\n",
       "      <td>0.777581</td>\n",
       "      <td>24.0168</td>\n",
       "      <td>0.34375</td>\n",
       "      <td>16.1902</td>\n",
       "    </tr>\n",
       "    <tr>\n",
       "      <th>scrvl</th>\n",
       "      <td>0.384702</td>\n",
       "      <td>17.022</td>\n",
       "      <td>0.352561</td>\n",
       "      <td>18.0148</td>\n",
       "      <td>0.762621</td>\n",
       "      <td>22.2898</td>\n",
       "      <td>0.276038</td>\n",
       "      <td>11.9151</td>\n",
       "    </tr>\n",
       "  </tbody>\n",
       "</table>\n",
       "</div>"
      ],
      "text/plain": [
       "                    0            1            2          3           4  \\\n",
       "metric  PRAUC Retweet  RCE Retweet  PRAUC Reply  RCE Reply  PRAUC Like   \n",
       "scrtr        0.437819      20.9846     0.409893    21.9456    0.777581   \n",
       "scrvl        0.384702       17.022     0.352561    18.0148    0.762621   \n",
       "\n",
       "               5              6            7  \n",
       "metric  RCE Like  PRAUC RTwCmnt  RCE RTwCmnt  \n",
       "scrtr    24.0168        0.34375      16.1902  \n",
       "scrvl    22.2898       0.276038      11.9151  "
      ]
     },
     "execution_count": 13,
     "metadata": {},
     "output_type": "execute_result"
    }
   ],
   "source": [
    "lsttr=[]\n",
    "lstvl=[]\n",
    "for tgt in ['Retweet','Reply','Like','RTwCmnt',]:\n",
    "    if tgt not in tgt2bst: continue\n",
    "    lsttr+=[(f'PRAUC {tgt}',tgt2auc_tr[tgt]),\n",
    "          (f'RCE {tgt}',tgt2rce_tr[tgt])]\n",
    "    lstvl+=[(f'PRAUC {tgt}',tgt2auc_vl[tgt]),\n",
    "          (f'RCE {tgt}',tgt2rce_vl[tgt])]\n",
    "\n",
    "dfscrtr=pd.DataFrame(lsttr)\n",
    "dfscrtr.columns=['metric','scr']\n",
    "dfscrvl=pd.DataFrame(lstvl)\n",
    "dfscrvl.columns=['metric','scr']\n",
    "dfscr = pd.merge(dfscrtr, dfscrvl, on='metric', suffixes=('tr','vl'))\n",
    "dfscr.T"
   ]
  },
  {
   "cell_type": "markdown",
   "metadata": {},
   "source": [
    "## valid"
   ]
  },
  {
   "cell_type": "code",
   "execution_count": 14,
   "metadata": {},
   "outputs": [],
   "source": [
    "# tgt=tgts[1]\n",
    "# tgtcol=tgt2col[tgt]\n",
    "# bst=tgt2bst[tgt]\n",
    "\n",
    "# dvalid=xgb.DMatrix(dfvalid[cols_feat], label=dfvalid[tgtcol], feature_names=cols_feat)\n",
    "\n",
    "# prdvalid = bst.predict(dvalid, ntree_limit=bst.best_ntree_limit)\n",
    "\n",
    "# pops=tgt2pops[tgt]\n",
    "\n",
    "# prdvalid[:10]\n",
    "# # array([0.11734424, 0.09971393, 0.05619054, 0.03059793, 0.07979691,\n",
    "# #        0.01358252, 0.05293725, 0.27954698, 0.05738379, 0.01741553],\n",
    "# #       dtype=float32)\n",
    "\n",
    "\n",
    "# pops\n",
    "# # {'train_pop': 4000000,\n",
    "# #  'target_pop': 109752,\n",
    "# #  'sampled_train_pop': 1000000,\n",
    "# #  'sampled_target_pop': 109752}\n",
    "\n",
    "# prdvalid_calib = calibration(prdvalid, **pops)\n",
    "\n",
    "# prdvalid_calib[:10]\n",
    "# # array([0.02952491, 0.02471944, 0.01344113, 0.00717127, 0.01945818,\n",
    "# #        0.00314114, 0.0126298 , 0.08155248, 0.01373977, 0.00403964],\n",
    "# #       dtype=float32)"
   ]
  },
  {
   "cell_type": "code",
   "execution_count": 15,
   "metadata": {},
   "outputs": [
    {
     "data": {
      "text/plain": [
       "{'Retweet': {'train_pop': 10000000,\n",
       "  'target_pop': 1129292,\n",
       "  'sampled_train_pop': 10000000,\n",
       "  'sampled_target_pop': 1129292},\n",
       " 'Reply': {'train_pop': 40000000,\n",
       "  'target_pop': 1097816,\n",
       "  'sampled_train_pop': 10000000,\n",
       "  'sampled_target_pop': 1097816},\n",
       " 'Like': {'train_pop': 10000000,\n",
       "  'target_pop': 4389250,\n",
       "  'sampled_train_pop': 10000000,\n",
       "  'sampled_target_pop': 4389250},\n",
       " 'RTwCmnt': {'train_pop': 130000000,\n",
       "  'target_pop': 1012718,\n",
       "  'sampled_train_pop': 10000000,\n",
       "  'sampled_target_pop': 1012718}}"
      ]
     },
     "execution_count": 15,
     "metadata": {},
     "output_type": "execute_result"
    }
   ],
   "source": [
    "tgt2pops"
   ]
  },
  {
   "cell_type": "code",
   "execution_count": 16,
   "metadata": {},
   "outputs": [],
   "source": [
    "def do_post_valid(tgt):\n",
    "    tgtcol=tgt2col[tgt]\n",
    "    bst=tgt2bst[tgt]\n",
    "    pops=tgt2pops[tgt]\n",
    "    prdvalid = bst.predict(dfvalid[cols_feat],num_iteration=bst.best_iteration)\n",
    "    prdvalid_calib = calibration(prdvalid, **pops)\n",
    "    return prdvalid,prdvalid_calib"
   ]
  },
  {
   "cell_type": "code",
   "execution_count": 17,
   "metadata": {},
   "outputs": [
    {
     "name": "stdout",
     "output_type": "stream",
     "text": [
      "2020-03-25 16:53:31 Retweet\n",
      "2020-03-25 16:56:17 Reply\n",
      "2020-03-25 16:59:04 Like\n",
      "2020-03-25 17:01:55 RTwCmnt\n"
     ]
    }
   ],
   "source": [
    "tgt2yvalid={tgt:dfvalid[tgt2col[tgt]] for tgt in tgts}\n",
    "tgt2prdvalid={}\n",
    "tgt2prdvalid_calib={}\n",
    "for tgt in tgts:\n",
    "    print(dtnow(), tgt)\n",
    "    tgt2prdvalid[tgt],tgt2prdvalid_calib[tgt]=do_post_valid(tgt)\n"
   ]
  },
  {
   "cell_type": "code",
   "execution_count": 18,
   "metadata": {},
   "outputs": [
    {
     "name": "stdout",
     "output_type": "stream",
     "text": [
      "2020-03-25 17:04:37 Retweet\n",
      "2020-03-25 17:05:05 Reply\n",
      "2020-03-25 17:05:32 Like\n",
      "2020-03-25 17:06:00 RTwCmnt\n"
     ]
    }
   ],
   "source": [
    "tgt2auc_valid={}\n",
    "tgt2rce_valid={}\n",
    "tgt2auc_valid_calib={}\n",
    "tgt2rce_valid_calib={}\n",
    "for tgt in tgts:\n",
    "    print(dtnow(), tgt)\n",
    "    prdvalid, prdvalid_calib = tgt2prdvalid[tgt], tgt2prdvalid_calib[tgt]\n",
    "    yvalid = tgt2yvalid[tgt]\n",
    "    scr_auc_valid=compute_prauc(prdvalid, yvalid)\n",
    "    scr_rce_valid=compute_rce(prdvalid, yvalid)\n",
    "    scr_auc_valid_calib=compute_prauc(prdvalid_calib, yvalid)\n",
    "    scr_rce_valid_calib=compute_rce(prdvalid_calib, yvalid)\n",
    "\n",
    "    tgt2auc_valid[tgt]=scr_auc_valid\n",
    "    tgt2rce_valid[tgt]=scr_rce_valid\n",
    "    tgt2auc_valid_calib[tgt]=scr_auc_valid_calib\n",
    "    tgt2rce_valid_calib[tgt]=scr_rce_valid_calib"
   ]
  },
  {
   "cell_type": "code",
   "execution_count": 19,
   "metadata": {},
   "outputs": [
    {
     "name": "stdout",
     "output_type": "stream",
     "text": [
      "Retweet\n",
      "tr          prauc: 0.4378 tr rce: 20.9846\n",
      "vl          prauc: 0.3847 tr rce: 17.0220\n",
      "valid       prauc: 0.3776 tr rce: 16.5548\n",
      "valid_calib prauc: 0.3776 tr rce: 16.5548\n",
      "Reply\n",
      "tr          prauc: 0.4099 tr rce: 21.9456\n",
      "vl          prauc: 0.3526 tr rce: 18.0148\n",
      "valid       prauc: 0.1222 tr rce: -19.8441\n",
      "valid_calib prauc: 0.1222 tr rce: 13.8615\n",
      "Like\n",
      "tr          prauc: 0.7776 tr rce: 24.0168\n",
      "vl          prauc: 0.7626 tr rce: 22.2898\n",
      "valid       prauc: 0.7599 tr rce: 22.0210\n",
      "valid_calib prauc: 0.7599 tr rce: 22.0210\n",
      "RTwCmnt\n",
      "tr          prauc: 0.3438 tr rce: 16.1902\n",
      "vl          prauc: 0.2760 tr rce: 11.9151\n",
      "valid       prauc: 0.0314 tr rce: -154.3666\n",
      "valid_calib prauc: 0.0314 tr rce: 7.5708\n"
     ]
    }
   ],
   "source": [
    "for tgt in tgts:\n",
    "    print(tgt)\n",
    "    print('tr          prauc:', f'{tgt2auc_tr[tgt]:.4f}','tr rce:', f'{tgt2rce_tr[tgt]:.4f}', )\n",
    "    print('vl          prauc:', f'{tgt2auc_vl[tgt]:.4f}','tr rce:', f'{tgt2rce_vl[tgt]:.4f}', )\n",
    "    print('valid       prauc:', f'{tgt2auc_valid[tgt]:.4f}','tr rce:', f'{tgt2rce_valid[tgt]:.4f}', )\n",
    "    print('valid_calib prauc:', f'{tgt2auc_valid_calib[tgt]:.4f}','tr rce:', f'{tgt2rce_valid_calib[tgt]:.4f}', )\n",
    "    "
   ]
  },
  {
   "cell_type": "code",
   "execution_count": 20,
   "metadata": {},
   "outputs": [
    {
     "data": {
      "text/html": [
       "<div>\n",
       "<style scoped>\n",
       "    .dataframe tbody tr th:only-of-type {\n",
       "        vertical-align: middle;\n",
       "    }\n",
       "\n",
       "    .dataframe tbody tr th {\n",
       "        vertical-align: top;\n",
       "    }\n",
       "\n",
       "    .dataframe thead th {\n",
       "        text-align: right;\n",
       "    }\n",
       "</style>\n",
       "<table border=\"1\" class=\"dataframe\">\n",
       "  <thead>\n",
       "    <tr style=\"text-align: right;\">\n",
       "      <th></th>\n",
       "      <th>0</th>\n",
       "      <th>1</th>\n",
       "      <th>2</th>\n",
       "      <th>3</th>\n",
       "      <th>4</th>\n",
       "      <th>5</th>\n",
       "      <th>6</th>\n",
       "      <th>7</th>\n",
       "    </tr>\n",
       "  </thead>\n",
       "  <tbody>\n",
       "    <tr>\n",
       "      <th>scr</th>\n",
       "      <td>PRAUC Retweet</td>\n",
       "      <td>RCE Retweet</td>\n",
       "      <td>PRAUC Reply</td>\n",
       "      <td>RCE Reply</td>\n",
       "      <td>PRAUC Like</td>\n",
       "      <td>RCE Like</td>\n",
       "      <td>PRAUC RTwCmnt</td>\n",
       "      <td>RCE RTwCmnt</td>\n",
       "    </tr>\n",
       "    <tr>\n",
       "      <th>tr</th>\n",
       "      <td>0.437819</td>\n",
       "      <td>20.9846</td>\n",
       "      <td>0.409893</td>\n",
       "      <td>21.9456</td>\n",
       "      <td>0.777581</td>\n",
       "      <td>24.0168</td>\n",
       "      <td>0.34375</td>\n",
       "      <td>16.1902</td>\n",
       "    </tr>\n",
       "    <tr>\n",
       "      <th>vl</th>\n",
       "      <td>0.384702</td>\n",
       "      <td>17.022</td>\n",
       "      <td>0.352561</td>\n",
       "      <td>18.0148</td>\n",
       "      <td>0.762621</td>\n",
       "      <td>22.2898</td>\n",
       "      <td>0.276038</td>\n",
       "      <td>11.9151</td>\n",
       "    </tr>\n",
       "    <tr>\n",
       "      <th>valid</th>\n",
       "      <td>0.377568</td>\n",
       "      <td>16.5548</td>\n",
       "      <td>0.122207</td>\n",
       "      <td>-19.8441</td>\n",
       "      <td>0.759936</td>\n",
       "      <td>22.021</td>\n",
       "      <td>0.0314229</td>\n",
       "      <td>-154.367</td>\n",
       "    </tr>\n",
       "    <tr>\n",
       "      <th>valid_calib</th>\n",
       "      <td>0.377568</td>\n",
       "      <td>16.5548</td>\n",
       "      <td>0.122207</td>\n",
       "      <td>13.8615</td>\n",
       "      <td>0.759936</td>\n",
       "      <td>22.021</td>\n",
       "      <td>0.0314229</td>\n",
       "      <td>7.57081</td>\n",
       "    </tr>\n",
       "  </tbody>\n",
       "</table>\n",
       "</div>"
      ],
      "text/plain": [
       "                         0            1            2          3           4  \\\n",
       "scr          PRAUC Retweet  RCE Retweet  PRAUC Reply  RCE Reply  PRAUC Like   \n",
       "tr                0.437819      20.9846     0.409893    21.9456    0.777581   \n",
       "vl                0.384702       17.022     0.352561    18.0148    0.762621   \n",
       "valid             0.377568      16.5548     0.122207   -19.8441    0.759936   \n",
       "valid_calib       0.377568      16.5548     0.122207    13.8615    0.759936   \n",
       "\n",
       "                    5              6            7  \n",
       "scr          RCE Like  PRAUC RTwCmnt  RCE RTwCmnt  \n",
       "tr            24.0168        0.34375      16.1902  \n",
       "vl            22.2898       0.276038      11.9151  \n",
       "valid          22.021      0.0314229     -154.367  \n",
       "valid_calib    22.021      0.0314229      7.57081  "
      ]
     },
     "execution_count": 20,
     "metadata": {},
     "output_type": "execute_result"
    }
   ],
   "source": [
    "lsttr=[]\n",
    "lstvl=[]\n",
    "lstvalid=[]\n",
    "lstvalid_calib=[]\n",
    "for tgt in ['Retweet','Reply','Like','RTwCmnt',]:\n",
    "    if tgt not in tgt2bst: continue\n",
    "    lsttr+=[(f'PRAUC {tgt}',tgt2auc_tr[tgt]),\n",
    "          (f'RCE {tgt}',tgt2rce_tr[tgt])]\n",
    "    lstvl+=[(f'PRAUC {tgt}',tgt2auc_vl[tgt]),\n",
    "          (f'RCE {tgt}',tgt2rce_vl[tgt])]\n",
    "    lstvalid+=[(f'PRAUC {tgt}',tgt2auc_valid[tgt]),\n",
    "          (f'RCE {tgt}',tgt2rce_valid[tgt])]\n",
    "    lstvalid_calib+=[(f'PRAUC {tgt}',tgt2auc_valid_calib[tgt]),\n",
    "          (f'RCE {tgt}',tgt2rce_valid_calib[tgt])]\n",
    "\n",
    "dfscrtr=pd.DataFrame(lsttr)\n",
    "dfscrtr.columns=['metric','scr']\n",
    "dfscrvl=pd.DataFrame(lstvl)\n",
    "dfscrvl.columns=['metric','scr']\n",
    "dfscrvalid=pd.DataFrame(lstvalid)\n",
    "dfscrvalid.columns=['metric','scr']\n",
    "dfscrvalid_calib=pd.DataFrame(lstvalid_calib)\n",
    "dfscrvalid_calib.columns=['metric','scr']\n",
    "\n",
    "dfscr = reduce(lambda df1,df2: pd.merge(df1,df2,on='metric'), \n",
    "            [dfscrtr,dfscrvl,dfscrvalid,dfscrvalid_calib])\n",
    "\n",
    "dfscr.columns=['scr','tr','vl','valid','valid_calib']\n",
    "dfscr.T"
   ]
  },
  {
   "cell_type": "code",
   "execution_count": null,
   "metadata": {},
   "outputs": [],
   "source": []
  },
  {
   "cell_type": "markdown",
   "metadata": {},
   "source": [
    "# infer"
   ]
  },
  {
   "cell_type": "raw",
   "metadata": {},
   "source": [
    "ls -lhS $p_in | grep val"
   ]
  },
  {
   "cell_type": "code",
   "execution_count": null,
   "metadata": {},
   "outputs": [],
   "source": []
  },
  {
   "cell_type": "code",
   "execution_count": 28,
   "metadata": {},
   "outputs": [
    {
     "name": "stdout",
     "output_type": "stream",
     "text": [
      "CPU times: user 1min 34s, sys: 14.1 s, total: 1min 48s\n",
      "Wall time: 2min 36s\n"
     ]
    }
   ],
   "source": [
    "%%time\n",
    "dftst=pd.read_csv(\n",
    "    f'{p_in}/val_{valtmstmp}.tsv',\n",
    "#     f'{p_in}/val_259A6F6DFD672CB1F883CBEC01B99F2D_1584405047.tsv',\n",
    "    sep='\\x01', header=None, names=cols_val,)\n"
   ]
  },
  {
   "cell_type": "code",
   "execution_count": 29,
   "metadata": {
    "scrolled": false
   },
   "outputs": [
    {
     "name": "stdout",
     "output_type": "stream",
     "text": [
      "CPU times: user 3min 24s, sys: 50 s, total: 4min 14s\n",
      "Wall time: 4min 13s\n"
     ]
    }
   ],
   "source": [
    "%%time\n",
    "dftst = prp_df(dftst, istrn=False)"
   ]
  },
  {
   "cell_type": "code",
   "execution_count": null,
   "metadata": {},
   "outputs": [],
   "source": []
  },
  {
   "cell_type": "code",
   "execution_count": 30,
   "metadata": {},
   "outputs": [
    {
     "name": "stdout",
     "output_type": "stream",
     "text": [
      "2020-03-25 18:11:29 Retweet\n",
      "2020-03-25 18:15:35 Reply\n",
      "2020-03-25 18:19:46 Like\n",
      "2020-03-25 18:23:56 RTwCmnt\n",
      "CPU times: user 6h 34min 37s, sys: 5min 42s, total: 6h 40min 19s\n",
      "Wall time: 16min 26s\n"
     ]
    }
   ],
   "source": [
    "%%time\n",
    "tgt2prdtst={}\n",
    "for tgt in tgts:\n",
    "    print(dtnow(), tgt)\n",
    "    bst = tgt2bst[tgt]\n",
    "    pops=tgt2pops[tgt]\n",
    "    prdtst = bst.predict(dftst[cols_feat], num_iteration=bst.best_iteration)\n",
    "    prdtst_calib = calibration(prdtst, **pops)\n",
    "    tgt2prdtst[tgt] = prdtst_calib"
   ]
  },
  {
   "cell_type": "code",
   "execution_count": 31,
   "metadata": {},
   "outputs": [],
   "source": [
    "dfsub_ids = dftst[['twtid','u2id',]]\n",
    "\n",
    "tgt2dfsub = {}\n",
    "for tgt,prdtst in tgt2prdtst.items():\n",
    "    dfsub = dfsub_ids.copy()\n",
    "    dfsub['scr'] = prdtst\n",
    "    tgt2dfsub[tgt]=dfsub"
   ]
  },
  {
   "cell_type": "code",
   "execution_count": 32,
   "metadata": {},
   "outputs": [
    {
     "name": "stdout",
     "output_type": "stream",
     "text": [
      "2020-03-25 18:28:02 Retweet\n",
      "2020-03-25 18:29:06 Reply\n",
      "2020-03-25 18:30:10 RTwCmnt\n",
      "2020-03-25 18:31:16 Like\n",
      "CPU times: user 4min 6s, sys: 10 s, total: 4min 16s\n",
      "Wall time: 4min 17s\n"
     ]
    }
   ],
   "source": [
    "%%time\n",
    "for i,tgt in enumerate(['Retweet','Reply','RTwCmnt','Like',]):\n",
    "    dfsub = tgt2dfsub[tgt]\n",
    "    print(dtnow(), tgt)\n",
    "    dfsub.to_csv(f'{p_out}/{i}_{tgt}__{valtmstmp}__{PRFX}.csv',index=False,header=False)"
   ]
  },
  {
   "cell_type": "code",
   "execution_count": null,
   "metadata": {},
   "outputs": [],
   "source": []
  },
  {
   "cell_type": "code",
   "execution_count": null,
   "metadata": {},
   "outputs": [],
   "source": []
  },
  {
   "cell_type": "code",
   "execution_count": null,
   "metadata": {},
   "outputs": [],
   "source": []
  },
  {
   "cell_type": "code",
   "execution_count": null,
   "metadata": {},
   "outputs": [],
   "source": []
  },
  {
   "cell_type": "code",
   "execution_count": null,
   "metadata": {},
   "outputs": [],
   "source": []
  }
 ],
 "metadata": {
  "kernelspec": {
   "display_name": "rcss20",
   "language": "python",
   "name": "rcss20"
  },
  "language_info": {
   "codemirror_mode": {
    "name": "ipython",
    "version": 3
   },
   "file_extension": ".py",
   "mimetype": "text/x-python",
   "name": "python",
   "nbconvert_exporter": "python",
   "pygments_lexer": "ipython3",
   "version": "3.7.6"
  },
  "toc": {
   "base_numbering": 1,
   "nav_menu": {},
   "number_sections": true,
   "sideBar": true,
   "skip_h1_title": false,
   "title_cell": "Table of Contents",
   "title_sidebar": "Contents",
   "toc_cell": false,
   "toc_position": {},
   "toc_section_display": true,
   "toc_window_display": true
  }
 },
 "nbformat": 4,
 "nbformat_minor": 4
}
