{
 "cells": [
  {
   "cell_type": "markdown",
   "metadata": {},
   "source": [
    "# start"
   ]
  },
  {
   "cell_type": "markdown",
   "metadata": {},
   "source": [
    "from 0320_3; grid search;"
   ]
  },
  {
   "cell_type": "markdown",
   "metadata": {},
   "source": [
    "- https://github.com/dmlc/xgboost/blob/master/demo/guide-python/sklearn_examples.py\n",
    "- https://www.kaggle.com/tilii7/hyperparameter-grid-search-with-xgboost\n",
    "- https://www.kaggle.com/phunter/xgboost-with-gridsearchcv"
   ]
  },
  {
   "cell_type": "code",
   "execution_count": 74,
   "metadata": {},
   "outputs": [
    {
     "name": "stdout",
     "output_type": "stream",
     "text": [
      "['2020-03-17 02:32:24', '2020-03-21 15:57:13']\n",
      "['2020-02-06 00:00:00', '2020-02-13 00:00:00']\n"
     ]
    }
   ],
   "source": [
    "PRFX='0320_5'\n",
    "trntmstmp=1584412344\n",
    "valtmstmp=1584806233\n",
    "import datetime\n",
    "print([datetime.datetime.fromtimestamp(o).strftime('%Y-%m-%d %H:%M:%S') for o in (trntmstmp, valtmstmp)])\n",
    "\n",
    "grand_total=1.5e8\n",
    "MIN_TM_TRN=1580947200\n",
    "MIN_TM_TST=1581552000\n",
    "print([datetime.datetime.fromtimestamp(o).strftime('%Y-%m-%d %H:%M:%S') for o in (MIN_TM_TRN, MIN_TM_TST)])\n",
    "\n",
    "params = {\n",
    "    'objective': 'binary:logistic',\n",
    "    'verbosity': 2,\n",
    "    'eval_metric': ['error', 'logloss', 'auc', 'aucpr',],\n",
    "    'max_delta_step': 1,\n",
    "}\n",
    "num_rounds = 800"
   ]
  },
  {
   "cell_type": "markdown",
   "metadata": {},
   "source": [
    "# setup"
   ]
  },
  {
   "cell_type": "code",
   "execution_count": 75,
   "metadata": {
    "scrolled": true
   },
   "outputs": [
    {
     "name": "stdout",
     "output_type": "stream",
     "text": [
      "dask.__version__ 2.12.0\n"
     ]
    }
   ],
   "source": [
    "from pathlib import Path\n",
    "import dask\n",
    "print('dask.__version__', dask.__version__)\n",
    "import xgboost as xgb\n",
    "import dask_xgboost\n",
    "import dask.dataframe as dd\n",
    "from sklearn.model_selection import train_test_split, GridSearchCV\n",
    "import pandas as pd\n",
    "import numpy as np\n",
    "import matplotlib.pyplot as plt\n",
    "from sklearn.metrics import accuracy_score, roc_auc_score, roc_curve, auc, precision_recall_curve\n",
    "from dask.distributed import Client\n",
    "import pickle\n",
    "import lightgbm as lgb\n",
    "from tqdm import tqdm\n",
    "import matplotlib.pyplot as plt\n",
    "\n",
    "import datetime\n",
    "def dtnow(): return datetime.datetime.now().strftime('%Y-%m-%d %H:%M:%S')\n",
    "\n",
    "SEED=101\n",
    "HOME='/data/git/recsys20'\n",
    "p_in=f'{HOME}/input'\n",
    "p_out=f'{HOME}/output/{PRFX}'\n",
    "Path(p_out).mkdir(exist_ok=True, parents=True)\n",
    "\n",
    "from sklearn.metrics import precision_recall_curve, auc, log_loss\n",
    "\n",
    "def compute_prauc(pred, gt):\n",
    "    prec, recall, thresh = precision_recall_curve(gt, pred)\n",
    "    prauc = auc(recall, prec)\n",
    "    return prauc\n",
    "\n",
    "def calculate_ctr(gt):\n",
    "    positive = len([x for x in gt if x == 1])\n",
    "    ctr = positive/float(len(gt))\n",
    "    return ctr\n",
    "\n",
    "def compute_rce(pred, gt):\n",
    "    cross_entropy = log_loss(gt, pred)\n",
    "    data_ctr = calculate_ctr(gt)\n",
    "    strawman_cross_entropy = log_loss(gt, [data_ctr for _ in range(len(gt))])\n",
    "    return (1.0 - cross_entropy/strawman_cross_entropy)*100.0\n",
    "\n",
    "cols=[\n",
    "'toks',\n",
    "'hshtgs',\n",
    "'twtid',\n",
    "'media',\n",
    "'links',\n",
    "'domns',\n",
    "'twttyp',\n",
    "'lang',\n",
    "'tm',\n",
    "\n",
    "'u1id',\n",
    "'u1_fllwer_cnt',\n",
    "'u1_fllwng_cnt',\n",
    "'u1_vrfed',\n",
    "'u1_create_tm',\n",
    "\n",
    "'u2id',\n",
    "'u2_fllwer_cnt',\n",
    "'u2_fllwng_cnt',\n",
    "'u2_vrfed',\n",
    "'u2_create_tm',\n",
    "\n",
    "'u1_fllw_u2',\n",
    "'reply_tm',\n",
    "'retwt_tm',\n",
    "'retwt_cmmnt_tm',\n",
    "'like_tm',\n",
    "]\n",
    "\n",
    "cols_val = cols[:-4]\n",
    "cols_tgt_tmstmp=[\n",
    "    'retwt_tm',\n",
    "    'reply_tm',\n",
    "    'like_tm',\n",
    "    'retwt_cmmnt_tm',\n",
    "]\n",
    "cols_tgt=[o.split('_tm')[0] for o in cols_tgt_tmstmp]\n",
    "tgts             = ['Retweet','Reply','Like','RTwCmnt',]\n",
    "assert cols_tgt == ['retwt',  'reply','like','retwt_cmmnt',]\n",
    "ntgts=len(tgts)"
   ]
  },
  {
   "cell_type": "markdown",
   "metadata": {},
   "source": [
    "# prepare data"
   ]
  },
  {
   "cell_type": "markdown",
   "metadata": {},
   "source": [
    "## get maps from dfval"
   ]
  },
  {
   "cell_type": "code",
   "execution_count": 76,
   "metadata": {},
   "outputs": [],
   "source": [
    "# dfval=dd.read_csv(\n",
    "#     f'{p_in}/val_{valtmstmp}.tsv',\n",
    "#     sep='\\x01', header=None, names=cols_val,)\n",
    "# lang2cnt=dict(dfval.lang.value_counts().compute())\n",
    "# ttl=sum(lang2cnt.values())\n",
    "# lang2perc={k:v/ttl for k,v in lang2cnt.items()}\n",
    "# langs=['D3164C7FBCF2565DDF915B1B3AEFB1DC', '22C448FF81263D4BAF2A176145EE9EAD', '06D61DCBBE938971E1EA0C38BD9B5446', 'ECED8A16BE2A5E8871FD55F4842F16B1', 'B9175601E87101A984A50F8A62A1C374', '4DC22C3F31C5C43721E6B5815A595ED6', '167115458A0DBDFF7E9C0C53A83BAC9B', '125C57F4FA6D4E110983FB11B52EFD4E', '022EC308651FACB02794A8147AEE1B78', 'FA3F382BC409C271E3D6EAF8BE4648DD', '9BF3403E0EB7EA8A256DA9019C0B0716', '975B38F44D65EE42A547283787FF5A21', '2996EB2FE8162C076D070A4C8D6532CD', 'FF60A88F53E63000266F8B9149E35AD9', '717293301FE296B0B61950D041485825', '3E16B11B7ADE3A22DDFC4423FBCEAD5D', '3820C29CBCA409A33BADF68852057C4A', '9ECD42BC079C20F156F53CB3B99E600E', '76B8A9C3013AE6414A3E6012413CDC3B', 'AEF22666801F0A5846D853B9CEB2E327', '190BA7DA361BC06BC1D7E824C378064D', '1FFD2FE4297F5E70EBC6C3230D95CB9C', 'A0C7021AD8299ADF0C9EBE326C115F6F', 'D413F5FE5236E5650A46FD983AB39212', '48236EC80FDDDFADE99420ABC9210DDF', '691890251F2B9FF922BE6D3699ABEFD2', '920502FAA080485768AA89BC96A55C47', '0331BF70E606D62D92C96CE9AD71A7CF', '89616CFF8EC8637092F885C7EFF43D74', '06BEAB41D66CCFF329D1ED8BA120A6C2', '60FBA0E834CC59D647C3599AD763FFDF', 'C7A400D9AD489ACF673CF12FBB80AAE5', 'E59EF8BB86A6D815331DDF4C467CE0C7', '4249CE88433AEA3F8DCEECF008B3CB95', '544FA32458C903F1125FE6598300A047', 'CB11E9CF42BD0A1BAD5E27BF3422D99D', '3A85BCEC571C3F5AB1069E4924189177', 'FF7EABB5A382356D54D9C41BA0125E09', 'E7BB61D2A87C1E72DF1C7BC292B86A1C', '69C4A33B9AD29AF883D60BA61CC08702', 'F4FD40A716F1572C9A28E9CAA58BE3A5', '259A6F6DFD672CB1F883CBEC01B99F2D', '6431A618DCF7F4CB7F62A95A39BAB77A', '3121F7240D488F74EEED9312E174B217', '54208B51D44E7D91DC2F3DD02ADEDEC2', 'DBEEFB80F8A314311E2B4BD593E11DFE', 'B6D90127A09AB1229731898AEF9D4D7C', 'F3E1016563360F9434FA986CA86C249C', '2216D01F7B48554E4211021A46816FCF', '1BC639981AE88E09129594B11F894A21', 'C942E369C88CE7C56E69A84D04319FF0', '57ADD4576E2AD6648E9B2DE32F3462A5', 'AC1F0671A4B0D5B8112F87DE7B490E6D', 'C2EF5FABE7619D8A333D5F0FF76E1BFA', 'AA0254541959271ED3453119B787D0C3', 'A6B70CDF8C7B934D4A218CA9B6B7FDB4', 'BF477808A37E3E4E9C5D9F1839E8519E', '97F81BD92A1ACA3F1F43C154E689350F', '60A3DB168094D41241E45E0DE3539BC0', '12D8CEB94F89D11D7EB95EAE9689B009', 'F73266A79468BB89C4325FDEDB0B533C', '4690215948DBF6872B8ED1C2BC87B17E', 'D18801336202297E6484F634CAC6592E', '2E18F6F53E3CF073911AF0A93BBE5373', 'B2235C8B73239FDC5780DD132419833A', '515E873C86EE1577E75FA2387B7FA59E',]\n",
    "\n",
    "# dfval.twttyp.value_counts().compute()\n",
    "# TopLevel    2932\n",
    "# Retweet      994\n",
    "# Quote        213\n",
    "twttyps=['TopLevel','Retweet','Quote']"
   ]
  },
  {
   "cell_type": "code",
   "execution_count": 77,
   "metadata": {},
   "outputs": [],
   "source": [
    "def prp_df(df, istrn=True):\n",
    "    tm_min = MIN_TM_TRN if istrn else MIN_TM_TST\n",
    "    df['len_toks'] = df.toks.apply(len)\n",
    "    for media in ['Photo', 'Video', 'GIF']:\n",
    "        df[f'has_media_{media}'] = df.media.fillna('').apply(lambda x: media in x)\n",
    "    for col in ['hshtgs', 'links', 'domns',]:\n",
    "        df[f'num_{col}'] = df[col].fillna('').apply(lambda x: len(x.split('\\t')) if len(x) else 0)\n",
    "    \n",
    "    df['twt_age'] = df.tm - tm_min\n",
    "    df['u1_age']  = df.tm - df.u1_create_tm\n",
    "    df['u2_age']  = df.tm - df.u2_create_tm\n",
    "        \n",
    "    tm_dt=pd.to_datetime(df.tm, unit='s')\n",
    "    df['tm_dayofweek']=tm_dt.dt.dayofweek\n",
    "    df['tm_hour']=tm_dt.dt.hour\n",
    "    \n",
    "    df['tmdlta_u2u1']  = df.u2_create_tm - df.u1_create_tm\n",
    "    \n",
    "    df['u1_fllwer_cnt_by_age'] = df.u1_fllwer_cnt / df.u1_age\n",
    "    df['u1_fllwng_cnt_by_age'] = df.u2_fllwng_cnt / df.u2_age\n",
    "    \n",
    "    for typ in twttyps:\n",
    "        df[f'twttyp_{typ}']=(df.twttyp==typ).astype('int8')\n",
    "\n",
    "#     for lang in langs:\n",
    "#         df[f'lang_{lang}']=(df.lang==lang).astype('int8')\n",
    "    if istrn: \n",
    "        df[cols_tgt]=df[cols_tgt_tmstmp].notna().astype('int8')\n",
    "        df.drop(inplace=True, columns=['toks', 'hshtgs', 'media', 'links', 'domns', 'twttyp', 'lang', \n",
    "                                       'tm', 'u1_create_tm','u2_create_tm', 'u1id', 'u2id', 'twtid', ]+cols_tgt_tmstmp, )\n",
    "    else:\n",
    "        df.drop(inplace=True, columns=['toks', 'hshtgs', 'media', 'links', 'domns', 'twttyp', 'lang', \n",
    "                                       'tm', 'u1_create_tm','u2_create_tm', 'u1id', ])        \n",
    "    return df"
   ]
  },
  {
   "cell_type": "raw",
   "metadata": {
    "scrolled": true
   },
   "source": [
    "ls -hlS $p_in | grep {trntmstmp} "
   ]
  },
  {
   "cell_type": "code",
   "execution_count": 78,
   "metadata": {},
   "outputs": [
    {
     "data": {
      "text/plain": [
       "150000000.0"
      ]
     },
     "execution_count": 78,
     "metadata": {},
     "output_type": "execute_result"
    }
   ],
   "source": [
    "grand_total"
   ]
  },
  {
   "cell_type": "code",
   "execution_count": 79,
   "metadata": {},
   "outputs": [
    {
     "data": {
      "text/plain": [
       "150.0"
      ]
     },
     "execution_count": 79,
     "metadata": {},
     "output_type": "execute_result"
    }
   ],
   "source": [
    "grand_total/1e6"
   ]
  },
  {
   "cell_type": "raw",
   "metadata": {},
   "source": [
    "chnks_trn = pd.read_csv(f'{p_in}/trn_{trntmstmp}.tsv',sep='\\x01',\n",
    "                    header=None,names=cols, \n",
    "                        chunksize=1e6\n",
    "                       )\n",
    "for ichnk,df in enumerate(chnks_trn):\n",
    "    print(dtnow(), 'chunk', ichnk, df.tm.max())\n",
    "ichnk"
   ]
  },
  {
   "cell_type": "code",
   "execution_count": 80,
   "metadata": {
    "scrolled": false
   },
   "outputs": [
    {
     "name": "stdout",
     "output_type": "stream",
     "text": [
      "2020-03-21 01:08:18 chunk 0\n"
     ]
    }
   ],
   "source": [
    "chnks_trn = pd.read_csv(f'{p_in}/trn_{trntmstmp}.tsv',sep='\\x01',\n",
    "                    header=None,names=cols, \n",
    "                        chunksize=1e4#1e6\n",
    "                       )\n",
    "\n",
    "np.random.seed(SEED)\n",
    "lst_df = []\n",
    "for ichnk,df in enumerate(chnks_trn):\n",
    "    print(dtnow(), 'chunk', ichnk)\n",
    "    df = prp_df(df)    \n",
    "    lst_df.append(df)\n",
    "    if ichnk>=0: break\n",
    "\n"
   ]
  },
  {
   "cell_type": "code",
   "execution_count": 81,
   "metadata": {},
   "outputs": [],
   "source": [
    "df = pd.concat(lst_df)"
   ]
  },
  {
   "cell_type": "code",
   "execution_count": 82,
   "metadata": {
    "scrolled": true
   },
   "outputs": [
    {
     "data": {
      "text/plain": [
       "(10000, 29)"
      ]
     },
     "execution_count": 82,
     "metadata": {},
     "output_type": "execute_result"
    }
   ],
   "source": [
    "df.shape"
   ]
  },
  {
   "cell_type": "code",
   "execution_count": 83,
   "metadata": {},
   "outputs": [
    {
     "data": {
      "text/plain": [
       "Index(['u1_fllwer_cnt', 'u1_fllwng_cnt', 'u1_vrfed', 'u2_fllwer_cnt',\n",
       "       'u2_fllwng_cnt', 'u2_vrfed', 'u1_fllw_u2', 'len_toks',\n",
       "       'has_media_Photo', 'has_media_Video', 'has_media_GIF', 'num_hshtgs',\n",
       "       'num_links', 'num_domns', 'twt_age', 'u1_age', 'u2_age', 'tm_dayofweek',\n",
       "       'tm_hour', 'tmdlta_u2u1', 'u1_fllwer_cnt_by_age',\n",
       "       'u1_fllwng_cnt_by_age', 'twttyp_TopLevel', 'twttyp_Retweet',\n",
       "       'twttyp_Quote', 'retwt', 'reply', 'like', 'retwt_cmmnt'],\n",
       "      dtype='object')"
      ]
     },
     "execution_count": 83,
     "metadata": {},
     "output_type": "execute_result"
    }
   ],
   "source": [
    "df.columns"
   ]
  },
  {
   "cell_type": "code",
   "execution_count": 84,
   "metadata": {},
   "outputs": [],
   "source": [
    "cols_feat=[o for o in df.columns if o not in cols_tgt]"
   ]
  },
  {
   "cell_type": "code",
   "execution_count": 85,
   "metadata": {},
   "outputs": [
    {
     "name": "stdout",
     "output_type": "stream",
     "text": [
      "CPU times: user 5.29 ms, sys: 4.46 ms, total: 9.76 ms\n",
      "Wall time: 8.09 ms\n"
     ]
    }
   ],
   "source": [
    "%%time\n",
    "split=int(len(df)*0.85)\n",
    "Xtr,Xvl=df[cols_feat][:split],df[cols_feat][split:]\n",
    "ytr,yvl=df[cols_tgt ][:split],df[cols_tgt ][split:]"
   ]
  },
  {
   "cell_type": "code",
   "execution_count": 86,
   "metadata": {},
   "outputs": [
    {
     "data": {
      "text/plain": [
       "((8500, 25), (1500, 25), (8500, 4), (1500, 4))"
      ]
     },
     "execution_count": 86,
     "metadata": {},
     "output_type": "execute_result"
    }
   ],
   "source": [
    "Xtr.shape,Xvl.shape,ytr.shape,yvl.shape"
   ]
  },
  {
   "cell_type": "raw",
   "metadata": {},
   "source": [
    "GridSearchCV(cv=None, error_score=nan,\n",
    "             estimator=XGBRegressor(base_score=None, booster=None,\n",
    "                                    colsample_bylevel=None,\n",
    "                                    colsample_bynode=None,\n",
    "                                    colsample_bytree=None, gamma=None,\n",
    "                                    gpu_id=None, importance_type='gain',\n",
    "                                    interaction_constraints=None,\n",
    "                                    learning_rate=None, max_delta_step=None,\n",
    "                                    max_depth=None, min_child_weight=None,\n",
    "                                    missing=nan, monotone_constraints=None,\n",
    "                                    n_est...\n",
    "                                    num_parallel_tree=None,\n",
    "                                    objective='reg:squarederror',\n",
    "                                    random_state=None, reg_alpha=None,\n",
    "                                    reg_lambda=None, scale_pos_weight=None,\n",
    "                                    subsample=None, tree_method=None,\n",
    "                                    validate_parameters=False, verbosity=None),\n",
    "             iid='deprecated', n_jobs=None,\n",
    "             param_grid={'max_depth': [2, 4], 'n_estimators': [5, 7]},\n",
    "             pre_dispatch='2*n_jobs', refit=True, return_train_score=False,\n",
    "             scoring=None, verbose=2)"
   ]
  },
  {
   "cell_type": "code",
   "execution_count": 91,
   "metadata": {
    "collapsed": true
   },
   "outputs": [
    {
     "name": "stdout",
     "output_type": "stream",
     "text": [
      "Fitting 5 folds for each of 4 candidates, totalling 20 fits\n",
      "[CV] max_depth=2, n_estimators=5 .....................................\n",
      "[01:09:49] INFO: /workspace/src/tree/updater_prune.cc:89: tree pruning end, 6 extra nodes, 0 pruned nodes, max_depth=2\n",
      "[01:09:49] INFO: /workspace/src/tree/updater_prune.cc:89: tree pruning end, 6 extra nodes, 0 pruned nodes, max_depth=2\n",
      "[01:09:49] INFO: /workspace/src/tree/updater_prune.cc:89: tree pruning end, 6 extra nodes, 0 pruned nodes, max_depth=2\n",
      "[01:09:49] INFO: /workspace/src/tree/updater_prune.cc:89: tree pruning end, 6 extra nodes, 0 pruned nodes, max_depth=2\n",
      "[01:09:49] INFO: /workspace/src/tree/updater_prune.cc:89: tree pruning end, 6 extra nodes, 0 pruned nodes, max_depth=2\n",
      "[CV] ...................... max_depth=2, n_estimators=5, total=   0.0s\n",
      "[CV] max_depth=2, n_estimators=5 .....................................\n",
      "[01:09:49] INFO: /workspace/src/tree/updater_prune.cc:89: tree pruning end, 6 extra nodes, 0 pruned nodes, max_depth=2\n",
      "[01:09:49] INFO: /workspace/src/tree/updater_prune.cc:89: tree pruning end, 6 extra nodes, 0 pruned nodes, max_depth=2\n",
      "[01:09:49] INFO: /workspace/src/tree/updater_prune.cc:89: tree pruning end, 6 extra nodes, 0 pruned nodes, max_depth=2\n",
      "[01:09:49] INFO: /workspace/src/tree/updater_prune.cc:89: tree pruning end, 6 extra nodes, 0 pruned nodes, max_depth=2\n",
      "[01:09:49] INFO: /workspace/src/tree/updater_prune.cc:89: tree pruning end, 6 extra nodes, 0 pruned nodes, max_depth=2\n",
      "[CV] ...................... max_depth=2, n_estimators=5, total=   0.1s\n",
      "[CV] max_depth=2, n_estimators=5 .....................................\n",
      "[01:09:49] INFO: /workspace/src/tree/updater_prune.cc:89: tree pruning end, 6 extra nodes, 0 pruned nodes, max_depth=2\n",
      "[01:09:49] INFO: /workspace/src/tree/updater_prune.cc:89: tree pruning end, 6 extra nodes, 0 pruned nodes, max_depth=2\n",
      "[01:09:49] INFO: /workspace/src/tree/updater_prune.cc:89: tree pruning end, 6 extra nodes, 0 pruned nodes, max_depth=2\n",
      "[01:09:49] INFO: /workspace/src/tree/updater_prune.cc:89: tree pruning end, 6 extra nodes, 0 pruned nodes, max_depth=2\n",
      "[01:09:49] INFO: /workspace/src/tree/updater_prune.cc:89: tree pruning end, 6 extra nodes, 0 pruned nodes, max_depth=2\n",
      "[CV] ...................... max_depth=2, n_estimators=5, total=   0.1s\n",
      "[CV] max_depth=2, n_estimators=5 .....................................\n",
      "[01:09:49] INFO: /workspace/src/tree/updater_prune.cc:89: tree pruning end, 6 extra nodes, 0 pruned nodes, max_depth=2\n"
     ]
    },
    {
     "name": "stderr",
     "output_type": "stream",
     "text": [
      "[Parallel(n_jobs=1)]: Using backend SequentialBackend with 1 concurrent workers.\n",
      "[Parallel(n_jobs=1)]: Done   1 out of   1 | elapsed:    0.0s remaining:    0.0s\n"
     ]
    },
    {
     "name": "stdout",
     "output_type": "stream",
     "text": [
      "[01:09:49] INFO: /workspace/src/tree/updater_prune.cc:89: tree pruning end, 6 extra nodes, 0 pruned nodes, max_depth=2\n",
      "[01:09:49] INFO: /workspace/src/tree/updater_prune.cc:89: tree pruning end, 6 extra nodes, 0 pruned nodes, max_depth=2\n",
      "[01:09:49] INFO: /workspace/src/tree/updater_prune.cc:89: tree pruning end, 6 extra nodes, 0 pruned nodes, max_depth=2\n",
      "[01:09:49] INFO: /workspace/src/tree/updater_prune.cc:89: tree pruning end, 6 extra nodes, 0 pruned nodes, max_depth=2\n",
      "[CV] ...................... max_depth=2, n_estimators=5, total=   0.1s\n",
      "[CV] max_depth=2, n_estimators=5 .....................................\n",
      "[01:09:49] INFO: /workspace/src/tree/updater_prune.cc:89: tree pruning end, 6 extra nodes, 0 pruned nodes, max_depth=2\n",
      "[01:09:49] INFO: /workspace/src/tree/updater_prune.cc:89: tree pruning end, 6 extra nodes, 0 pruned nodes, max_depth=2\n",
      "[01:09:49] INFO: /workspace/src/tree/updater_prune.cc:89: tree pruning end, 6 extra nodes, 0 pruned nodes, max_depth=2\n",
      "[01:09:49] INFO: /workspace/src/tree/updater_prune.cc:89: tree pruning end, 6 extra nodes, 0 pruned nodes, max_depth=2\n",
      "[01:09:49] INFO: /workspace/src/tree/updater_prune.cc:89: tree pruning end, 6 extra nodes, 0 pruned nodes, max_depth=2\n",
      "[CV] ...................... max_depth=2, n_estimators=5, total=   0.1s\n",
      "[CV] max_depth=2, n_estimators=7 .....................................\n",
      "[01:09:49] INFO: /workspace/src/tree/updater_prune.cc:89: tree pruning end, 6 extra nodes, 0 pruned nodes, max_depth=2\n",
      "[01:09:49] INFO: /workspace/src/tree/updater_prune.cc:89: tree pruning end, 6 extra nodes, 0 pruned nodes, max_depth=2\n",
      "[01:09:49] INFO: /workspace/src/tree/updater_prune.cc:89: tree pruning end, 6 extra nodes, 0 pruned nodes, max_depth=2\n",
      "[01:09:49] INFO: /workspace/src/tree/updater_prune.cc:89: tree pruning end, 6 extra nodes, 0 pruned nodes, max_depth=2\n",
      "[01:09:49] INFO: /workspace/src/tree/updater_prune.cc:89: tree pruning end, 6 extra nodes, 0 pruned nodes, max_depth=2\n",
      "[01:09:49] INFO: /workspace/src/tree/updater_prune.cc:89: tree pruning end, 6 extra nodes, 0 pruned nodes, max_depth=2\n",
      "[01:09:49] INFO: /workspace/src/tree/updater_prune.cc:89: tree pruning end, 6 extra nodes, 0 pruned nodes, max_depth=2\n",
      "[CV] ...................... max_depth=2, n_estimators=7, total=   0.1s\n",
      "[CV] max_depth=2, n_estimators=7 .....................................\n",
      "[01:09:49] INFO: /workspace/src/tree/updater_prune.cc:89: tree pruning end, 6 extra nodes, 0 pruned nodes, max_depth=2\n",
      "[01:09:49] INFO: /workspace/src/tree/updater_prune.cc:89: tree pruning end, 6 extra nodes, 0 pruned nodes, max_depth=2\n",
      "[01:09:49] INFO: /workspace/src/tree/updater_prune.cc:89: tree pruning end, 6 extra nodes, 0 pruned nodes, max_depth=2\n",
      "[01:09:49] INFO: /workspace/src/tree/updater_prune.cc:89: tree pruning end, 6 extra nodes, 0 pruned nodes, max_depth=2\n",
      "[01:09:49] INFO: /workspace/src/tree/updater_prune.cc:89: tree pruning end, 6 extra nodes, 0 pruned nodes, max_depth=2\n",
      "[01:09:49] INFO: /workspace/src/tree/updater_prune.cc:89: tree pruning end, 6 extra nodes, 0 pruned nodes, max_depth=2\n",
      "[01:09:49] INFO: /workspace/src/tree/updater_prune.cc:89: tree pruning end, 6 extra nodes, 0 pruned nodes, max_depth=2\n",
      "[CV] ...................... max_depth=2, n_estimators=7, total=   0.1s\n",
      "[CV] max_depth=2, n_estimators=7 .....................................\n",
      "[01:09:49] INFO: /workspace/src/tree/updater_prune.cc:89: tree pruning end, 6 extra nodes, 0 pruned nodes, max_depth=2\n",
      "[01:09:49] INFO: /workspace/src/tree/updater_prune.cc:89: tree pruning end, 6 extra nodes, 0 pruned nodes, max_depth=2\n",
      "[01:09:49] INFO: /workspace/src/tree/updater_prune.cc:89: tree pruning end, 6 extra nodes, 0 pruned nodes, max_depth=2\n",
      "[01:09:49] INFO: /workspace/src/tree/updater_prune.cc:89: tree pruning end, 6 extra nodes, 0 pruned nodes, max_depth=2\n",
      "[01:09:49] INFO: /workspace/src/tree/updater_prune.cc:89: tree pruning end, 6 extra nodes, 0 pruned nodes, max_depth=2\n",
      "[01:09:49] INFO: /workspace/src/tree/updater_prune.cc:89: tree pruning end, 6 extra nodes, 0 pruned nodes, max_depth=2\n",
      "[01:09:49] INFO: /workspace/src/tree/updater_prune.cc:89: tree pruning end, 6 extra nodes, 0 pruned nodes, max_depth=2\n",
      "[CV] ...................... max_depth=2, n_estimators=7, total=   0.1s\n",
      "[CV] max_depth=2, n_estimators=7 .....................................\n",
      "[01:09:49] INFO: /workspace/src/tree/updater_prune.cc:89: tree pruning end, 6 extra nodes, 0 pruned nodes, max_depth=2\n",
      "[01:09:49] INFO: /workspace/src/tree/updater_prune.cc:89: tree pruning end, 6 extra nodes, 0 pruned nodes, max_depth=2\n",
      "[01:09:49] INFO: /workspace/src/tree/updater_prune.cc:89: tree pruning end, 6 extra nodes, 0 pruned nodes, max_depth=2\n",
      "[01:09:49] INFO: /workspace/src/tree/updater_prune.cc:89: tree pruning end, 6 extra nodes, 0 pruned nodes, max_depth=2\n",
      "[01:09:49] INFO: /workspace/src/tree/updater_prune.cc:89: tree pruning end, 6 extra nodes, 0 pruned nodes, max_depth=2\n",
      "[01:09:49] INFO: /workspace/src/tree/updater_prune.cc:89: tree pruning end, 6 extra nodes, 0 pruned nodes, max_depth=2\n",
      "[01:09:49] INFO: /workspace/src/tree/updater_prune.cc:89: tree pruning end, 6 extra nodes, 0 pruned nodes, max_depth=2\n",
      "[CV] ...................... max_depth=2, n_estimators=7, total=   0.1s\n",
      "[CV] max_depth=2, n_estimators=7 .....................................\n",
      "[01:09:49] INFO: /workspace/src/tree/updater_prune.cc:89: tree pruning end, 6 extra nodes, 0 pruned nodes, max_depth=2\n",
      "[01:09:49] INFO: /workspace/src/tree/updater_prune.cc:89: tree pruning end, 6 extra nodes, 0 pruned nodes, max_depth=2\n",
      "[01:09:49] INFO: /workspace/src/tree/updater_prune.cc:89: tree pruning end, 6 extra nodes, 0 pruned nodes, max_depth=2\n",
      "[01:09:49] INFO: /workspace/src/tree/updater_prune.cc:89: tree pruning end, 6 extra nodes, 0 pruned nodes, max_depth=2\n",
      "[01:09:49] INFO: /workspace/src/tree/updater_prune.cc:89: tree pruning end, 6 extra nodes, 0 pruned nodes, max_depth=2\n",
      "[01:09:49] INFO: /workspace/src/tree/updater_prune.cc:89: tree pruning end, 6 extra nodes, 0 pruned nodes, max_depth=2\n",
      "[01:09:49] INFO: /workspace/src/tree/updater_prune.cc:89: tree pruning end, 6 extra nodes, 0 pruned nodes, max_depth=2\n",
      "[CV] ...................... max_depth=2, n_estimators=7, total=   0.1s\n",
      "[CV] max_depth=4, n_estimators=5 .....................................\n",
      "[01:09:49] INFO: /workspace/src/tree/updater_prune.cc:89: tree pruning end, 30 extra nodes, 0 pruned nodes, max_depth=4\n",
      "[01:09:49] INFO: /workspace/src/tree/updater_prune.cc:89: tree pruning end, 30 extra nodes, 0 pruned nodes, max_depth=4\n",
      "[01:09:49] INFO: /workspace/src/tree/updater_prune.cc:89: tree pruning end, 30 extra nodes, 0 pruned nodes, max_depth=4\n",
      "[01:09:49] INFO: /workspace/src/tree/updater_prune.cc:89: tree pruning end, 26 extra nodes, 0 pruned nodes, max_depth=4\n",
      "[01:09:50] INFO: /workspace/src/tree/updater_prune.cc:89: tree pruning end, 28 extra nodes, 0 pruned nodes, max_depth=4\n",
      "[CV] ...................... max_depth=4, n_estimators=5, total=   0.1s\n",
      "[CV] max_depth=4, n_estimators=5 .....................................\n",
      "[01:09:50] INFO: /workspace/src/tree/updater_prune.cc:89: tree pruning end, 28 extra nodes, 0 pruned nodes, max_depth=4\n",
      "[01:09:50] INFO: /workspace/src/tree/updater_prune.cc:89: tree pruning end, 24 extra nodes, 0 pruned nodes, max_depth=4\n",
      "[01:09:50] INFO: /workspace/src/tree/updater_prune.cc:89: tree pruning end, 26 extra nodes, 0 pruned nodes, max_depth=4\n",
      "[01:09:50] INFO: /workspace/src/tree/updater_prune.cc:89: tree pruning end, 24 extra nodes, 0 pruned nodes, max_depth=4\n",
      "[01:09:50] INFO: /workspace/src/tree/updater_prune.cc:89: tree pruning end, 22 extra nodes, 0 pruned nodes, max_depth=4\n",
      "[CV] ...................... max_depth=4, n_estimators=5, total=   0.1s\n",
      "[CV] max_depth=4, n_estimators=5 .....................................\n",
      "[01:09:50] INFO: /workspace/src/tree/updater_prune.cc:89: tree pruning end, 30 extra nodes, 0 pruned nodes, max_depth=4\n",
      "[01:09:50] INFO: /workspace/src/tree/updater_prune.cc:89: tree pruning end, 28 extra nodes, 0 pruned nodes, max_depth=4\n",
      "[01:09:50] INFO: /workspace/src/tree/updater_prune.cc:89: tree pruning end, 30 extra nodes, 0 pruned nodes, max_depth=4\n",
      "[01:09:50] INFO: /workspace/src/tree/updater_prune.cc:89: tree pruning end, 30 extra nodes, 0 pruned nodes, max_depth=4\n",
      "[01:09:50] INFO: /workspace/src/tree/updater_prune.cc:89: tree pruning end, 30 extra nodes, 0 pruned nodes, max_depth=4\n",
      "[CV] ...................... max_depth=4, n_estimators=5, total=   0.1s\n",
      "[CV] max_depth=4, n_estimators=5 .....................................\n",
      "[01:09:50] INFO: /workspace/src/tree/updater_prune.cc:89: tree pruning end, 30 extra nodes, 0 pruned nodes, max_depth=4\n",
      "[01:09:50] INFO: /workspace/src/tree/updater_prune.cc:89: tree pruning end, 26 extra nodes, 0 pruned nodes, max_depth=4\n",
      "[01:09:50] INFO: /workspace/src/tree/updater_prune.cc:89: tree pruning end, 30 extra nodes, 0 pruned nodes, max_depth=4\n",
      "[01:09:50] INFO: /workspace/src/tree/updater_prune.cc:89: tree pruning end, 30 extra nodes, 0 pruned nodes, max_depth=4\n",
      "[01:09:50] INFO: /workspace/src/tree/updater_prune.cc:89: tree pruning end, 28 extra nodes, 0 pruned nodes, max_depth=4\n"
     ]
    },
    {
     "name": "stdout",
     "output_type": "stream",
     "text": [
      "[CV] ...................... max_depth=4, n_estimators=5, total=   0.1s\n",
      "[CV] max_depth=4, n_estimators=5 .....................................\n",
      "[01:09:50] INFO: /workspace/src/tree/updater_prune.cc:89: tree pruning end, 30 extra nodes, 0 pruned nodes, max_depth=4\n",
      "[01:09:50] INFO: /workspace/src/tree/updater_prune.cc:89: tree pruning end, 30 extra nodes, 0 pruned nodes, max_depth=4\n",
      "[01:09:50] INFO: /workspace/src/tree/updater_prune.cc:89: tree pruning end, 26 extra nodes, 0 pruned nodes, max_depth=4\n",
      "[01:09:50] INFO: /workspace/src/tree/updater_prune.cc:89: tree pruning end, 30 extra nodes, 0 pruned nodes, max_depth=4\n",
      "[01:09:50] INFO: /workspace/src/tree/updater_prune.cc:89: tree pruning end, 28 extra nodes, 0 pruned nodes, max_depth=4\n",
      "[CV] ...................... max_depth=4, n_estimators=5, total=   0.1s\n",
      "[CV] max_depth=4, n_estimators=7 .....................................\n",
      "[01:09:50] INFO: /workspace/src/tree/updater_prune.cc:89: tree pruning end, 30 extra nodes, 0 pruned nodes, max_depth=4\n",
      "[01:09:50] INFO: /workspace/src/tree/updater_prune.cc:89: tree pruning end, 30 extra nodes, 0 pruned nodes, max_depth=4\n",
      "[01:09:50] INFO: /workspace/src/tree/updater_prune.cc:89: tree pruning end, 30 extra nodes, 0 pruned nodes, max_depth=4\n",
      "[01:09:50] INFO: /workspace/src/tree/updater_prune.cc:89: tree pruning end, 26 extra nodes, 0 pruned nodes, max_depth=4\n",
      "[01:09:50] INFO: /workspace/src/tree/updater_prune.cc:89: tree pruning end, 28 extra nodes, 0 pruned nodes, max_depth=4\n",
      "[01:09:50] INFO: /workspace/src/tree/updater_prune.cc:89: tree pruning end, 22 extra nodes, 0 pruned nodes, max_depth=4\n",
      "[01:09:50] INFO: /workspace/src/tree/updater_prune.cc:89: tree pruning end, 30 extra nodes, 0 pruned nodes, max_depth=4\n",
      "[CV] ...................... max_depth=4, n_estimators=7, total=   0.1s\n",
      "[CV] max_depth=4, n_estimators=7 .....................................\n",
      "[01:09:50] INFO: /workspace/src/tree/updater_prune.cc:89: tree pruning end, 28 extra nodes, 0 pruned nodes, max_depth=4\n",
      "[01:09:50] INFO: /workspace/src/tree/updater_prune.cc:89: tree pruning end, 24 extra nodes, 0 pruned nodes, max_depth=4\n",
      "[01:09:50] INFO: /workspace/src/tree/updater_prune.cc:89: tree pruning end, 26 extra nodes, 0 pruned nodes, max_depth=4\n",
      "[01:09:50] INFO: /workspace/src/tree/updater_prune.cc:89: tree pruning end, 24 extra nodes, 0 pruned nodes, max_depth=4\n",
      "[01:09:50] INFO: /workspace/src/tree/updater_prune.cc:89: tree pruning end, 22 extra nodes, 0 pruned nodes, max_depth=4\n",
      "[01:09:50] INFO: /workspace/src/tree/updater_prune.cc:89: tree pruning end, 30 extra nodes, 0 pruned nodes, max_depth=4\n",
      "[01:09:50] INFO: /workspace/src/tree/updater_prune.cc:89: tree pruning end, 22 extra nodes, 0 pruned nodes, max_depth=4\n",
      "[CV] ...................... max_depth=4, n_estimators=7, total=   0.1s\n",
      "[CV] max_depth=4, n_estimators=7 .....................................\n",
      "[01:09:50] INFO: /workspace/src/tree/updater_prune.cc:89: tree pruning end, 30 extra nodes, 0 pruned nodes, max_depth=4\n",
      "[01:09:50] INFO: /workspace/src/tree/updater_prune.cc:89: tree pruning end, 28 extra nodes, 0 pruned nodes, max_depth=4\n",
      "[01:09:50] INFO: /workspace/src/tree/updater_prune.cc:89: tree pruning end, 30 extra nodes, 0 pruned nodes, max_depth=4\n",
      "[01:09:50] INFO: /workspace/src/tree/updater_prune.cc:89: tree pruning end, 30 extra nodes, 0 pruned nodes, max_depth=4\n",
      "[01:09:50] INFO: /workspace/src/tree/updater_prune.cc:89: tree pruning end, 30 extra nodes, 0 pruned nodes, max_depth=4\n",
      "[01:09:50] INFO: /workspace/src/tree/updater_prune.cc:89: tree pruning end, 30 extra nodes, 0 pruned nodes, max_depth=4\n",
      "[01:09:50] INFO: /workspace/src/tree/updater_prune.cc:89: tree pruning end, 26 extra nodes, 0 pruned nodes, max_depth=4\n",
      "[CV] ...................... max_depth=4, n_estimators=7, total=   0.1s\n",
      "[CV] max_depth=4, n_estimators=7 .....................................\n",
      "[01:09:50] INFO: /workspace/src/tree/updater_prune.cc:89: tree pruning end, 30 extra nodes, 0 pruned nodes, max_depth=4\n",
      "[01:09:50] INFO: /workspace/src/tree/updater_prune.cc:89: tree pruning end, 26 extra nodes, 0 pruned nodes, max_depth=4\n",
      "[01:09:50] INFO: /workspace/src/tree/updater_prune.cc:89: tree pruning end, 30 extra nodes, 0 pruned nodes, max_depth=4\n",
      "[01:09:50] INFO: /workspace/src/tree/updater_prune.cc:89: tree pruning end, 30 extra nodes, 0 pruned nodes, max_depth=4\n",
      "[01:09:50] INFO: /workspace/src/tree/updater_prune.cc:89: tree pruning end, 28 extra nodes, 0 pruned nodes, max_depth=4\n",
      "[01:09:50] INFO: /workspace/src/tree/updater_prune.cc:89: tree pruning end, 26 extra nodes, 0 pruned nodes, max_depth=4\n",
      "[01:09:50] INFO: /workspace/src/tree/updater_prune.cc:89: tree pruning end, 28 extra nodes, 0 pruned nodes, max_depth=4\n",
      "[CV] ...................... max_depth=4, n_estimators=7, total=   0.1s\n",
      "[CV] max_depth=4, n_estimators=7 .....................................\n",
      "[01:09:50] INFO: /workspace/src/tree/updater_prune.cc:89: tree pruning end, 30 extra nodes, 0 pruned nodes, max_depth=4\n",
      "[01:09:50] INFO: /workspace/src/tree/updater_prune.cc:89: tree pruning end, 30 extra nodes, 0 pruned nodes, max_depth=4\n",
      "[01:09:50] INFO: /workspace/src/tree/updater_prune.cc:89: tree pruning end, 26 extra nodes, 0 pruned nodes, max_depth=4\n",
      "[01:09:50] INFO: /workspace/src/tree/updater_prune.cc:89: tree pruning end, 30 extra nodes, 0 pruned nodes, max_depth=4\n",
      "[01:09:50] INFO: /workspace/src/tree/updater_prune.cc:89: tree pruning end, 28 extra nodes, 0 pruned nodes, max_depth=4\n",
      "[01:09:50] INFO: /workspace/src/tree/updater_prune.cc:89: tree pruning end, 28 extra nodes, 0 pruned nodes, max_depth=4\n",
      "[01:09:50] INFO: /workspace/src/tree/updater_prune.cc:89: tree pruning end, 28 extra nodes, 0 pruned nodes, max_depth=4\n",
      "[CV] ...................... max_depth=4, n_estimators=7, total=   0.1s\n",
      "[01:09:50] INFO: /workspace/src/tree/updater_prune.cc:89: tree pruning end, 30 extra nodes, 0 pruned nodes, max_depth=4\n",
      "[01:09:50] INFO: /workspace/src/tree/updater_prune.cc:89: tree pruning end, 30 extra nodes, 0 pruned nodes, max_depth=4\n",
      "[01:09:50] INFO: /workspace/src/tree/updater_prune.cc:89: tree pruning end, 30 extra nodes, 0 pruned nodes, max_depth=4\n",
      "[01:09:50] INFO: /workspace/src/tree/updater_prune.cc:89: tree pruning end, 28 extra nodes, 0 pruned nodes, max_depth=4\n",
      "[01:09:50] INFO: /workspace/src/tree/updater_prune.cc:89: tree pruning end, 30 extra nodes, 0 pruned nodes, max_depth=4\n",
      "[01:09:50] INFO: /workspace/src/tree/updater_prune.cc:89: tree pruning end, 30 extra nodes, 0 pruned nodes, max_depth=4\n",
      "[01:09:50] INFO: /workspace/src/tree/updater_prune.cc:89: tree pruning end, 30 extra nodes, 0 pruned nodes, max_depth=4\n"
     ]
    },
    {
     "name": "stderr",
     "output_type": "stream",
     "text": [
      "[Parallel(n_jobs=1)]: Done  20 out of  20 | elapsed:    1.3s finished\n"
     ]
    },
    {
     "data": {
      "text/plain": [
       "GridSearchCV(cv=None, error_score=nan,\n",
       "             estimator=XGBRegressor(base_score=None, booster=None,\n",
       "                                    colsample_bylevel=None,\n",
       "                                    colsample_bynode=None,\n",
       "                                    colsample_bytree=None, gamma=None,\n",
       "                                    gpu_id=None, importance_type='gain',\n",
       "                                    interaction_constraints=None,\n",
       "                                    learning_rate=None, max_delta_step=None,\n",
       "                                    max_depth=None, min_child_weight=None,\n",
       "                                    missing=nan, monotone_constraints=None,\n",
       "                                    n_est...\n",
       "                                    num_parallel_tree=None,\n",
       "                                    objective='reg:squarederror',\n",
       "                                    random_state=None, reg_alpha=None,\n",
       "                                    reg_lambda=None, scale_pos_weight=None,\n",
       "                                    subsample=None, tree_method=None,\n",
       "                                    validate_parameters=False, verbosity=None),\n",
       "             iid='deprecated', n_jobs=None,\n",
       "             param_grid={'max_depth': [2, 4], 'n_estimators': [5, 7]},\n",
       "             pre_dispatch='2*n_jobs', refit=True, return_train_score=False,\n",
       "             scoring=None, verbose=2)"
      ]
     },
     "execution_count": 91,
     "metadata": {},
     "output_type": "execute_result"
    }
   ],
   "source": [
    "bst = xgb.XGBClassifier(objective='binary:logistic')\n",
    "clf = GridSearchCV(bst,\n",
    "                   {'n_estimators': [5, 7]}, \n",
    "                   verbose=2)\n",
    "clf.fit(Xtr,ytr.iloc[:,0])"
   ]
  },
  {
   "cell_type": "code",
   "execution_count": 92,
   "metadata": {},
   "outputs": [
    {
     "name": "stdout",
     "output_type": "stream",
     "text": [
      "0.012786889554495917\n",
      "{'max_depth': 4, 'n_estimators': 7}\n"
     ]
    }
   ],
   "source": [
    "print(clf.best_score_)\n",
    "print(clf.best_params_)\n"
   ]
  },
  {
   "cell_type": "code",
   "execution_count": 94,
   "metadata": {},
   "outputs": [
    {
     "ename": "AttributeError",
     "evalue": "'XGBRegressor' object has no attribute 'predict_proba'",
     "output_type": "error",
     "traceback": [
      "\u001b[0;31m---------------------------------------------------------------------------\u001b[0m",
      "\u001b[0;31mAttributeError\u001b[0m                            Traceback (most recent call last)",
      "\u001b[0;32m<ipython-input-94-8e838ad33d35>\u001b[0m in \u001b[0;36m<module>\u001b[0;34m\u001b[0m\n\u001b[0;32m----> 1\u001b[0;31m \u001b[0mclf\u001b[0m\u001b[0;34m.\u001b[0m\u001b[0mpredict_proba\u001b[0m\u001b[0;34m(\u001b[0m\u001b[0mXvl\u001b[0m\u001b[0;34m)\u001b[0m\u001b[0;34m\u001b[0m\u001b[0;34m\u001b[0m\u001b[0m\n\u001b[0m",
      "\u001b[0;32m/data/anaconda3/envs/rcss20/lib/python3.7/site-packages/sklearn/utils/metaestimators.py\u001b[0m in \u001b[0;36m__get__\u001b[0;34m(self, obj, type)\u001b[0m\n\u001b[1;32m    108\u001b[0m                     \u001b[0;32mcontinue\u001b[0m\u001b[0;34m\u001b[0m\u001b[0;34m\u001b[0m\u001b[0m\n\u001b[1;32m    109\u001b[0m                 \u001b[0;32melse\u001b[0m\u001b[0;34m:\u001b[0m\u001b[0;34m\u001b[0m\u001b[0;34m\u001b[0m\u001b[0m\n\u001b[0;32m--> 110\u001b[0;31m                     \u001b[0mgetattr\u001b[0m\u001b[0;34m(\u001b[0m\u001b[0mdelegate\u001b[0m\u001b[0;34m,\u001b[0m \u001b[0mself\u001b[0m\u001b[0;34m.\u001b[0m\u001b[0mattribute_name\u001b[0m\u001b[0;34m)\u001b[0m\u001b[0;34m\u001b[0m\u001b[0;34m\u001b[0m\u001b[0m\n\u001b[0m\u001b[1;32m    111\u001b[0m                     \u001b[0;32mbreak\u001b[0m\u001b[0;34m\u001b[0m\u001b[0;34m\u001b[0m\u001b[0m\n\u001b[1;32m    112\u001b[0m             \u001b[0;32melse\u001b[0m\u001b[0;34m:\u001b[0m\u001b[0;34m\u001b[0m\u001b[0;34m\u001b[0m\u001b[0m\n",
      "\u001b[0;31mAttributeError\u001b[0m: 'XGBRegressor' object has no attribute 'predict_proba'"
     ]
    }
   ],
   "source": [
    "clf.predict_proba(Xvl)"
   ]
  },
  {
   "cell_type": "code",
   "execution_count": null,
   "metadata": {},
   "outputs": [],
   "source": []
  },
  {
   "cell_type": "code",
   "execution_count": null,
   "metadata": {},
   "outputs": [],
   "source": []
  },
  {
   "cell_type": "code",
   "execution_count": null,
   "metadata": {},
   "outputs": [],
   "source": []
  },
  {
   "cell_type": "markdown",
   "metadata": {},
   "source": [
    "# model"
   ]
  },
  {
   "cell_type": "code",
   "execution_count": null,
   "metadata": {},
   "outputs": [],
   "source": []
  },
  {
   "cell_type": "code",
   "execution_count": null,
   "metadata": {},
   "outputs": [],
   "source": []
  },
  {
   "cell_type": "code",
   "execution_count": null,
   "metadata": {},
   "outputs": [],
   "source": []
  },
  {
   "cell_type": "code",
   "execution_count": null,
   "metadata": {},
   "outputs": [],
   "source": []
  },
  {
   "cell_type": "code",
   "execution_count": 28,
   "metadata": {
    "collapsed": true
   },
   "outputs": [
    {
     "name": "stdout",
     "output_type": "stream",
     "text": [
      "2020-03-20 20:21:05 Retweet ********************************************************************************\n",
      "[20:21:05] INFO: /workspace/src/tree/updater_prune.cc:89: tree pruning end, 10 extra nodes, 0 pruned nodes, max_depth=3\n",
      "[0]\ttrain-error:0.10988\ttrain-logloss:0.58731\ttrain-auc:0.50738\ttrain-aucpr:0.12893\teval-error:0.11667\teval-logloss:0.58945\teval-auc:0.50772\teval-aucpr:0.13620\n",
      "Multiple eval metrics have been passed: 'eval-aucpr' will be used for early stopping.\n",
      "\n",
      "Will train until eval-aucpr hasn't improved in 10 rounds.\n",
      "[20:21:05] INFO: /workspace/src/tree/updater_prune.cc:89: tree pruning end, 44 extra nodes, 0 pruned nodes, max_depth=6\n",
      "[1]\ttrain-error:0.10953\ttrain-logloss:0.50165\ttrain-auc:0.54816\ttrain-aucpr:0.21002\teval-error:0.11667\teval-logloss:0.50993\teval-auc:0.51185\teval-aucpr:0.13540\n",
      "[20:21:05] INFO: /workspace/src/tree/updater_prune.cc:89: tree pruning end, 72 extra nodes, 0 pruned nodes, max_depth=6\n",
      "[2]\ttrain-error:0.10812\ttrain-logloss:0.43599\ttrain-auc:0.60431\ttrain-aucpr:0.28865\teval-error:0.11867\teval-logloss:0.45153\teval-auc:0.52961\teval-aucpr:0.13970\n",
      "[20:21:05] INFO: /workspace/src/tree/updater_prune.cc:89: tree pruning end, 78 extra nodes, 0 pruned nodes, max_depth=6\n",
      "[3]\ttrain-error:0.10753\ttrain-logloss:0.38865\ttrain-auc:0.69878\ttrain-aucpr:0.36853\teval-error:0.12000\teval-logloss:0.41192\teval-auc:0.57335\teval-aucpr:0.15559\n",
      "[20:21:05] INFO: /workspace/src/tree/updater_prune.cc:89: tree pruning end, 98 extra nodes, 0 pruned nodes, max_depth=6\n",
      "[4]\ttrain-error:0.10718\ttrain-logloss:0.35483\ttrain-auc:0.74911\ttrain-aucpr:0.42022\teval-error:0.11867\teval-logloss:0.38769\teval-auc:0.58512\teval-aucpr:0.15632\n",
      "[20:21:05] INFO: /workspace/src/tree/updater_prune.cc:89: tree pruning end, 90 extra nodes, 0 pruned nodes, max_depth=6\n",
      "[5]\ttrain-error:0.10718\ttrain-logloss:0.33207\ttrain-auc:0.77816\ttrain-aucpr:0.45630\teval-error:0.11867\teval-logloss:0.37119\teval-auc:0.62297\teval-aucpr:0.17132\n",
      "[20:21:05] INFO: /workspace/src/tree/updater_prune.cc:89: tree pruning end, 84 extra nodes, 0 pruned nodes, max_depth=6\n",
      "[6]\ttrain-error:0.10588\ttrain-logloss:0.31601\ttrain-auc:0.79285\ttrain-aucpr:0.48033\teval-error:0.11867\teval-logloss:0.36131\teval-auc:0.63351\teval-aucpr:0.17765\n",
      "[20:21:06] INFO: /workspace/src/tree/updater_prune.cc:89: tree pruning end, 88 extra nodes, 0 pruned nodes, max_depth=6\n",
      "[7]\ttrain-error:0.10518\ttrain-logloss:0.30384\ttrain-auc:0.80919\ttrain-aucpr:0.50162\teval-error:0.11867\teval-logloss:0.35674\teval-auc:0.63657\teval-aucpr:0.17348\n",
      "[20:21:06] INFO: /workspace/src/tree/updater_prune.cc:89: tree pruning end, 106 extra nodes, 0 pruned nodes, max_depth=6\n",
      "[8]\ttrain-error:0.10518\ttrain-logloss:0.29341\ttrain-auc:0.82848\ttrain-aucpr:0.52648\teval-error:0.11867\teval-logloss:0.35341\teval-auc:0.64125\teval-aucpr:0.17820\n",
      "[20:21:06] INFO: /workspace/src/tree/updater_prune.cc:89: tree pruning end, 92 extra nodes, 0 pruned nodes, max_depth=6\n",
      "[9]\ttrain-error:0.10471\ttrain-logloss:0.28530\ttrain-auc:0.84015\ttrain-aucpr:0.54495\teval-error:0.11933\teval-logloss:0.35139\teval-auc:0.64906\teval-aucpr:0.18240\n",
      "[20:21:06] INFO: /workspace/src/tree/updater_prune.cc:89: tree pruning end, 90 extra nodes, 0 pruned nodes, max_depth=6\n",
      "[10]\ttrain-error:0.10388\ttrain-logloss:0.27792\ttrain-auc:0.85140\ttrain-aucpr:0.56605\teval-error:0.11933\teval-logloss:0.35085\teval-auc:0.65116\teval-aucpr:0.18581\n",
      "[20:21:06] INFO: /workspace/src/tree/updater_prune.cc:89: tree pruning end, 82 extra nodes, 0 pruned nodes, max_depth=6\n",
      "[11]\ttrain-error:0.10388\ttrain-logloss:0.27287\ttrain-auc:0.86051\ttrain-aucpr:0.57895\teval-error:0.11933\teval-logloss:0.35197\teval-auc:0.64547\teval-aucpr:0.18371\n",
      "[20:21:06] INFO: /workspace/src/tree/updater_prune.cc:89: tree pruning end, 92 extra nodes, 0 pruned nodes, max_depth=6\n",
      "[12]\ttrain-error:0.10224\ttrain-logloss:0.26738\ttrain-auc:0.86952\ttrain-aucpr:0.59322\teval-error:0.11933\teval-logloss:0.35229\teval-auc:0.64710\teval-aucpr:0.18034\n",
      "[20:21:06] INFO: /workspace/src/tree/updater_prune.cc:89: tree pruning end, 84 extra nodes, 0 pruned nodes, max_depth=6\n",
      "[13]\ttrain-error:0.10118\ttrain-logloss:0.26264\ttrain-auc:0.87789\ttrain-aucpr:0.60717\teval-error:0.12000\teval-logloss:0.35114\teval-auc:0.65307\teval-aucpr:0.18320\n",
      "[20:21:06] INFO: /workspace/src/tree/updater_prune.cc:89: tree pruning end, 62 extra nodes, 0 pruned nodes, max_depth=6\n",
      "[14]\ttrain-error:0.10059\ttrain-logloss:0.25967\ttrain-auc:0.88212\ttrain-aucpr:0.61810\teval-error:0.12067\teval-logloss:0.35156\teval-auc:0.65323\teval-aucpr:0.18305\n",
      "[20:21:06] INFO: /workspace/src/tree/updater_prune.cc:89: tree pruning end, 74 extra nodes, 0 pruned nodes, max_depth=6\n",
      "[15]\ttrain-error:0.10012\ttrain-logloss:0.25583\ttrain-auc:0.89023\ttrain-aucpr:0.63507\teval-error:0.12000\teval-logloss:0.35312\teval-auc:0.64967\teval-aucpr:0.18182\n",
      "[20:21:06] INFO: /workspace/src/tree/updater_prune.cc:89: tree pruning end, 106 extra nodes, 0 pruned nodes, max_depth=6\n",
      "[16]\ttrain-error:0.09882\ttrain-logloss:0.25011\ttrain-auc:0.89853\ttrain-aucpr:0.65466\teval-error:0.12000\teval-logloss:0.35309\teval-auc:0.65142\teval-aucpr:0.18498\n",
      "[20:21:06] INFO: /workspace/src/tree/updater_prune.cc:89: tree pruning end, 90 extra nodes, 0 pruned nodes, max_depth=6\n",
      "[17]\ttrain-error:0.09671\ttrain-logloss:0.24539\ttrain-auc:0.90652\ttrain-aucpr:0.67287\teval-error:0.12000\teval-logloss:0.35323\teval-auc:0.65516\teval-aucpr:0.18603\n",
      "[20:21:06] INFO: /workspace/src/tree/updater_prune.cc:89: tree pruning end, 86 extra nodes, 0 pruned nodes, max_depth=6\n",
      "[18]\ttrain-error:0.09494\ttrain-logloss:0.24028\ttrain-auc:0.91579\ttrain-aucpr:0.69234\teval-error:0.12000\teval-logloss:0.35297\teval-auc:0.65621\teval-aucpr:0.18646\n",
      "[20:21:07] INFO: /workspace/src/tree/updater_prune.cc:89: tree pruning end, 66 extra nodes, 0 pruned nodes, max_depth=6\n",
      "[19]\ttrain-error:0.09423\ttrain-logloss:0.23753\ttrain-auc:0.91869\ttrain-aucpr:0.69959\teval-error:0.12000\teval-logloss:0.35326\teval-auc:0.65434\teval-aucpr:0.18731\n",
      "[20:21:07] INFO: /workspace/src/tree/updater_prune.cc:89: tree pruning end, 24 extra nodes, 0 pruned nodes, max_depth=6\n",
      "[20]\ttrain-error:0.09412\ttrain-logloss:0.23683\ttrain-auc:0.91960\ttrain-aucpr:0.70270\teval-error:0.12000\teval-logloss:0.35327\teval-auc:0.65456\teval-aucpr:0.18762\n",
      "[20:21:07] INFO: /workspace/src/tree/updater_prune.cc:89: tree pruning end, 92 extra nodes, 0 pruned nodes, max_depth=6\n",
      "[21]\ttrain-error:0.09341\ttrain-logloss:0.23077\ttrain-auc:0.92952\ttrain-aucpr:0.72652\teval-error:0.12067\teval-logloss:0.35445\teval-auc:0.65183\teval-aucpr:0.18985\n",
      "[20:21:07] INFO: /workspace/src/tree/updater_prune.cc:89: tree pruning end, 100 extra nodes, 0 pruned nodes, max_depth=6\n",
      "[22]\ttrain-error:0.09188\ttrain-logloss:0.22643\ttrain-auc:0.93534\ttrain-aucpr:0.74214\teval-error:0.12067\teval-logloss:0.35577\teval-auc:0.65179\teval-aucpr:0.18675\n",
      "[20:21:07] INFO: /workspace/src/tree/updater_prune.cc:89: tree pruning end, 58 extra nodes, 0 pruned nodes, max_depth=6\n",
      "[23]\ttrain-error:0.09035\ttrain-logloss:0.22359\ttrain-auc:0.93960\ttrain-aucpr:0.75442\teval-error:0.12133\teval-logloss:0.35536\teval-auc:0.65246\teval-aucpr:0.18870\n",
      "[20:21:07] INFO: /workspace/src/tree/updater_prune.cc:89: tree pruning end, 38 extra nodes, 0 pruned nodes, max_depth=6\n",
      "[24]\ttrain-error:0.09012\ttrain-logloss:0.22251\ttrain-auc:0.94080\ttrain-aucpr:0.75737\teval-error:0.12133\teval-logloss:0.35559\teval-auc:0.65168\teval-aucpr:0.18959\n",
      "[20:21:07] INFO: /workspace/src/tree/updater_prune.cc:89: tree pruning end, 52 extra nodes, 0 pruned nodes, max_depth=6\n",
      "[25]\ttrain-error:0.08906\ttrain-logloss:0.22077\ttrain-auc:0.94323\ttrain-aucpr:0.76449\teval-error:0.12067\teval-logloss:0.35542\teval-auc:0.65165\teval-aucpr:0.18908\n",
      "[20:21:08] INFO: /workspace/src/tree/updater_prune.cc:89: tree pruning end, 68 extra nodes, 0 pruned nodes, max_depth=6\n",
      "[26]\ttrain-error:0.08871\ttrain-logloss:0.21815\ttrain-auc:0.94646\ttrain-aucpr:0.77359\teval-error:0.12133\teval-logloss:0.35728\teval-auc:0.64881\teval-aucpr:0.18586\n",
      "[20:21:08] INFO: /workspace/src/tree/updater_prune.cc:89: tree pruning end, 80 extra nodes, 0 pruned nodes, max_depth=6\n",
      "[27]\ttrain-error:0.08776\ttrain-logloss:0.21469\ttrain-auc:0.95099\ttrain-aucpr:0.79005\teval-error:0.12267\teval-logloss:0.35560\teval-auc:0.65348\teval-aucpr:0.19448\n",
      "[20:21:09] INFO: /workspace/src/tree/updater_prune.cc:89: tree pruning end, 52 extra nodes, 0 pruned nodes, max_depth=6\n",
      "[28]\ttrain-error:0.08776\ttrain-logloss:0.21196\ttrain-auc:0.95369\ttrain-aucpr:0.80131\teval-error:0.12400\teval-logloss:0.35661\teval-auc:0.65236\teval-aucpr:0.19264\n"
     ]
    },
    {
     "name": "stdout",
     "output_type": "stream",
     "text": [
      "[20:21:09] INFO: /workspace/src/tree/updater_prune.cc:89: tree pruning end, 34 extra nodes, 0 pruned nodes, max_depth=6\n",
      "[29]\ttrain-error:0.08694\ttrain-logloss:0.21112\ttrain-auc:0.95422\ttrain-aucpr:0.80282\teval-error:0.12400\teval-logloss:0.35665\teval-auc:0.65260\teval-aucpr:0.19270\n",
      "[20:21:09] INFO: /workspace/src/tree/updater_prune.cc:89: tree pruning end, 46 extra nodes, 0 pruned nodes, max_depth=6\n",
      "[30]\ttrain-error:0.08588\ttrain-logloss:0.20934\ttrain-auc:0.95630\ttrain-aucpr:0.81157\teval-error:0.12400\teval-logloss:0.35753\teval-auc:0.65075\teval-aucpr:0.19190\n",
      "[20:21:09] INFO: /workspace/src/tree/updater_prune.cc:89: tree pruning end, 76 extra nodes, 0 pruned nodes, max_depth=6\n",
      "[31]\ttrain-error:0.08541\ttrain-logloss:0.20597\ttrain-auc:0.95927\ttrain-aucpr:0.82299\teval-error:0.12400\teval-logloss:0.35795\teval-auc:0.65139\teval-aucpr:0.19259\n",
      "[20:21:09] INFO: /workspace/src/tree/updater_prune.cc:89: tree pruning end, 68 extra nodes, 0 pruned nodes, max_depth=6\n",
      "[32]\ttrain-error:0.08353\ttrain-logloss:0.20305\ttrain-auc:0.96135\ttrain-aucpr:0.83213\teval-error:0.12467\teval-logloss:0.35871\teval-auc:0.64920\teval-aucpr:0.19262\n",
      "[20:21:09] INFO: /workspace/src/tree/updater_prune.cc:89: tree pruning end, 78 extra nodes, 0 pruned nodes, max_depth=6\n",
      "[33]\ttrain-error:0.08141\ttrain-logloss:0.19947\ttrain-auc:0.96485\ttrain-aucpr:0.84532\teval-error:0.12600\teval-logloss:0.36077\teval-auc:0.64596\teval-aucpr:0.18947\n",
      "[20:21:09] INFO: /workspace/src/tree/updater_prune.cc:89: tree pruning end, 40 extra nodes, 0 pruned nodes, max_depth=6\n",
      "[34]\ttrain-error:0.08035\ttrain-logloss:0.19807\ttrain-auc:0.96616\ttrain-aucpr:0.85008\teval-error:0.12600\teval-logloss:0.36045\teval-auc:0.64825\teval-aucpr:0.19094\n",
      "[20:21:09] INFO: /workspace/src/tree/updater_prune.cc:89: tree pruning end, 48 extra nodes, 0 pruned nodes, max_depth=6\n",
      "[35]\ttrain-error:0.08024\ttrain-logloss:0.19639\ttrain-auc:0.96763\ttrain-aucpr:0.85540\teval-error:0.12467\teval-logloss:0.36092\teval-auc:0.64736\teval-aucpr:0.18860\n",
      "[20:21:09] INFO: /workspace/src/tree/updater_prune.cc:89: tree pruning end, 38 extra nodes, 0 pruned nodes, max_depth=6\n",
      "[36]\ttrain-error:0.07929\ttrain-logloss:0.19508\ttrain-auc:0.96850\ttrain-aucpr:0.85937\teval-error:0.12533\teval-logloss:0.36113\teval-auc:0.64649\teval-aucpr:0.18887\n",
      "[20:21:09] INFO: /workspace/src/tree/updater_prune.cc:89: tree pruning end, 46 extra nodes, 0 pruned nodes, max_depth=6\n",
      "[37]\ttrain-error:0.07812\ttrain-logloss:0.19361\ttrain-auc:0.96896\ttrain-aucpr:0.86175\teval-error:0.12467\teval-logloss:0.36165\teval-auc:0.64654\teval-aucpr:0.18860\n",
      "Stopping. Best iteration:\n",
      "[27]\ttrain-error:0.08776\ttrain-logloss:0.21469\ttrain-auc:0.95099\ttrain-aucpr:0.79005\teval-error:0.12267\teval-logloss:0.35560\teval-auc:0.65348\teval-aucpr:0.19448\n",
      "\n",
      "2020-03-20 20:21:09 Reply ********************************************************************************\n",
      "[20:21:09] INFO: /workspace/src/tree/updater_prune.cc:89: tree pruning end, 0 extra nodes, 0 pruned nodes, max_depth=0\n",
      "[0]\ttrain-error:0.02847\ttrain-logloss:0.56289\ttrain-auc:0.50000\ttrain-aucpr:0.02847\teval-error:0.02533\teval-logloss:0.56196\teval-auc:0.50000\teval-aucpr:0.02533\n",
      "Multiple eval metrics have been passed: 'eval-aucpr' will be used for early stopping.\n",
      "\n",
      "Will train until eval-aucpr hasn't improved in 10 rounds.\n",
      "[20:21:09] INFO: /workspace/src/tree/updater_prune.cc:89: tree pruning end, 4 extra nodes, 0 pruned nodes, max_depth=2\n",
      "[1]\ttrain-error:0.02847\ttrain-logloss:0.45452\ttrain-auc:0.50608\ttrain-aucpr:0.03770\teval-error:0.02533\teval-logloss:0.45303\teval-auc:0.49897\teval-aucpr:0.02507\n",
      "[20:21:09] INFO: /workspace/src/tree/updater_prune.cc:89: tree pruning end, 12 extra nodes, 0 pruned nodes, max_depth=4\n",
      "[2]\ttrain-error:0.02847\ttrain-logloss:0.36643\ttrain-auc:0.52202\ttrain-aucpr:0.06234\teval-error:0.02533\teval-logloss:0.36458\teval-auc:0.49863\teval-aucpr:0.02500\n",
      "[20:21:09] INFO: /workspace/src/tree/updater_prune.cc:89: tree pruning end, 18 extra nodes, 0 pruned nodes, max_depth=4\n",
      "[3]\ttrain-error:0.02812\ttrain-logloss:0.29674\ttrain-auc:0.53763\ttrain-aucpr:0.09138\teval-error:0.02733\teval-logloss:0.29484\teval-auc:0.49692\teval-aucpr:0.02470\n",
      "[20:21:09] INFO: /workspace/src/tree/updater_prune.cc:89: tree pruning end, 28 extra nodes, 0 pruned nodes, max_depth=6\n",
      "[4]\ttrain-error:0.02812\ttrain-logloss:0.24285\ttrain-auc:0.54075\ttrain-aucpr:0.10517\teval-error:0.02600\teval-logloss:0.24088\teval-auc:0.53307\teval-aucpr:0.03575\n",
      "[20:21:09] INFO: /workspace/src/tree/updater_prune.cc:89: tree pruning end, 58 extra nodes, 0 pruned nodes, max_depth=6\n",
      "[5]\ttrain-error:0.02812\ttrain-logloss:0.20138\ttrain-auc:0.64140\ttrain-aucpr:0.19866\teval-error:0.02600\teval-logloss:0.20189\teval-auc:0.58886\teval-aucpr:0.03955\n",
      "[20:21:10] INFO: /workspace/src/tree/updater_prune.cc:89: tree pruning end, 66 extra nodes, 0 pruned nodes, max_depth=6\n",
      "[6]\ttrain-error:0.02812\ttrain-logloss:0.17091\ttrain-auc:0.78249\ttrain-aucpr:0.28340\teval-error:0.02600\teval-logloss:0.17384\teval-auc:0.64481\teval-aucpr:0.04323\n",
      "[20:21:10] INFO: /workspace/src/tree/updater_prune.cc:89: tree pruning end, 48 extra nodes, 0 pruned nodes, max_depth=6\n",
      "[7]\ttrain-error:0.02800\ttrain-logloss:0.14919\ttrain-auc:0.80224\ttrain-aucpr:0.31160\teval-error:0.02533\teval-logloss:0.15282\teval-auc:0.70802\teval-aucpr:0.05398\n",
      "[20:21:10] INFO: /workspace/src/tree/updater_prune.cc:89: tree pruning end, 62 extra nodes, 0 pruned nodes, max_depth=6\n",
      "[8]\ttrain-error:0.02777\ttrain-logloss:0.13325\ttrain-auc:0.83561\ttrain-aucpr:0.34844\teval-error:0.02533\teval-logloss:0.13857\teval-auc:0.71949\teval-aucpr:0.05378\n",
      "[20:21:10] INFO: /workspace/src/tree/updater_prune.cc:89: tree pruning end, 68 extra nodes, 0 pruned nodes, max_depth=6\n",
      "[9]\ttrain-error:0.02765\ttrain-logloss:0.12125\ttrain-auc:0.84958\ttrain-aucpr:0.38126\teval-error:0.02533\teval-logloss:0.12959\teval-auc:0.70307\teval-aucpr:0.05130\n",
      "[20:21:10] INFO: /workspace/src/tree/updater_prune.cc:89: tree pruning end, 78 extra nodes, 0 pruned nodes, max_depth=6\n",
      "[10]\ttrain-error:0.02765\ttrain-logloss:0.11196\ttrain-auc:0.88120\ttrain-aucpr:0.42872\teval-error:0.02533\teval-logloss:0.12366\teval-auc:0.68804\teval-aucpr:0.05138\n",
      "[20:21:10] INFO: /workspace/src/tree/updater_prune.cc:89: tree pruning end, 76 extra nodes, 0 pruned nodes, max_depth=6\n",
      "[11]\ttrain-error:0.02788\ttrain-logloss:0.10477\ttrain-auc:0.89689\ttrain-aucpr:0.45704\teval-error:0.02533\teval-logloss:0.12019\teval-auc:0.67811\teval-aucpr:0.05380\n",
      "[20:21:11] INFO: /workspace/src/tree/updater_prune.cc:89: tree pruning end, 84 extra nodes, 0 pruned nodes, max_depth=6\n",
      "[12]\ttrain-error:0.02788\ttrain-logloss:0.09830\ttrain-auc:0.92198\ttrain-aucpr:0.50620\teval-error:0.02533\teval-logloss:0.11731\teval-auc:0.67420\teval-aucpr:0.05949\n",
      "[20:21:12] INFO: /workspace/src/tree/updater_prune.cc:89: tree pruning end, 82 extra nodes, 0 pruned nodes, max_depth=6\n",
      "[13]\ttrain-error:0.02765\ttrain-logloss:0.09310\ttrain-auc:0.93527\ttrain-aucpr:0.53704\teval-error:0.02533\teval-logloss:0.11531\teval-auc:0.68649\teval-aucpr:0.05928\n",
      "[20:21:12] INFO: /workspace/src/tree/updater_prune.cc:89: tree pruning end, 70 extra nodes, 0 pruned nodes, max_depth=6\n",
      "[14]\ttrain-error:0.02753\ttrain-logloss:0.08936\ttrain-auc:0.94334\ttrain-aucpr:0.55409\teval-error:0.02533\teval-logloss:0.11543\teval-auc:0.67638\teval-aucpr:0.05438\n",
      "[20:21:12] INFO: /workspace/src/tree/updater_prune.cc:89: tree pruning end, 70 extra nodes, 0 pruned nodes, max_depth=6\n",
      "[15]\ttrain-error:0.02729\ttrain-logloss:0.08565\ttrain-auc:0.95003\ttrain-aucpr:0.59969\teval-error:0.02533\teval-logloss:0.11442\teval-auc:0.68709\teval-aucpr:0.07404\n",
      "[20:21:12] INFO: /workspace/src/tree/updater_prune.cc:89: tree pruning end, 74 extra nodes, 0 pruned nodes, max_depth=6\n",
      "[16]\ttrain-error:0.02729\ttrain-logloss:0.08192\ttrain-auc:0.96192\ttrain-aucpr:0.62315\teval-error:0.02533\teval-logloss:0.11398\teval-auc:0.69100\teval-aucpr:0.07438\n",
      "[20:21:12] INFO: /workspace/src/tree/updater_prune.cc:89: tree pruning end, 52 extra nodes, 0 pruned nodes, max_depth=6\n",
      "[17]\ttrain-error:0.02753\ttrain-logloss:0.07976\ttrain-auc:0.96644\ttrain-aucpr:0.63825\teval-error:0.02533\teval-logloss:0.11404\teval-auc:0.69304\teval-aucpr:0.07200\n",
      "[20:21:12] INFO: /workspace/src/tree/updater_prune.cc:89: tree pruning end, 48 extra nodes, 0 pruned nodes, max_depth=6\n",
      "[18]\ttrain-error:0.02729\ttrain-logloss:0.07720\ttrain-auc:0.97163\ttrain-aucpr:0.67984\teval-error:0.02533\teval-logloss:0.11417\teval-auc:0.69902\teval-aucpr:0.04732\n"
     ]
    },
    {
     "name": "stdout",
     "output_type": "stream",
     "text": [
      "[20:21:12] INFO: /workspace/src/tree/updater_prune.cc:89: tree pruning end, 60 extra nodes, 0 pruned nodes, max_depth=6\n",
      "[19]\ttrain-error:0.02706\ttrain-logloss:0.07496\ttrain-auc:0.97467\ttrain-aucpr:0.70259\teval-error:0.02533\teval-logloss:0.11452\teval-auc:0.68989\teval-aucpr:0.04957\n",
      "[20:21:12] INFO: /workspace/src/tree/updater_prune.cc:89: tree pruning end, 62 extra nodes, 0 pruned nodes, max_depth=6\n",
      "[20]\ttrain-error:0.02659\ttrain-logloss:0.07208\ttrain-auc:0.97865\ttrain-aucpr:0.73964\teval-error:0.02533\teval-logloss:0.11551\teval-auc:0.68555\teval-aucpr:0.04541\n",
      "[20:21:12] INFO: /workspace/src/tree/updater_prune.cc:89: tree pruning end, 58 extra nodes, 0 pruned nodes, max_depth=6\n",
      "[21]\ttrain-error:0.02624\ttrain-logloss:0.06980\ttrain-auc:0.98256\ttrain-aucpr:0.77055\teval-error:0.02533\teval-logloss:0.11737\teval-auc:0.67012\teval-aucpr:0.04334\n",
      "[20:21:13] INFO: /workspace/src/tree/updater_prune.cc:89: tree pruning end, 40 extra nodes, 0 pruned nodes, max_depth=6\n",
      "[22]\ttrain-error:0.02612\ttrain-logloss:0.06824\ttrain-auc:0.98367\ttrain-aucpr:0.78206\teval-error:0.02533\teval-logloss:0.11709\teval-auc:0.67672\teval-aucpr:0.04588\n",
      "[20:21:13] INFO: /workspace/src/tree/updater_prune.cc:89: tree pruning end, 38 extra nodes, 0 pruned nodes, max_depth=6\n",
      "[23]\ttrain-error:0.02576\ttrain-logloss:0.06691\ttrain-auc:0.98557\ttrain-aucpr:0.79421\teval-error:0.02533\teval-logloss:0.11811\teval-auc:0.66765\teval-aucpr:0.04499\n",
      "[20:21:13] INFO: /workspace/src/tree/updater_prune.cc:89: tree pruning end, 38 extra nodes, 0 pruned nodes, max_depth=6\n",
      "[24]\ttrain-error:0.02506\ttrain-logloss:0.06567\ttrain-auc:0.98669\ttrain-aucpr:0.80097\teval-error:0.02533\teval-logloss:0.11847\teval-auc:0.66488\teval-aucpr:0.04817\n",
      "[20:21:13] INFO: /workspace/src/tree/updater_prune.cc:89: tree pruning end, 36 extra nodes, 0 pruned nodes, max_depth=6\n",
      "[25]\ttrain-error:0.02471\ttrain-logloss:0.06473\ttrain-auc:0.98755\ttrain-aucpr:0.81406\teval-error:0.02533\teval-logloss:0.11917\teval-auc:0.66068\teval-aucpr:0.04296\n",
      "[20:21:13] INFO: /workspace/src/tree/updater_prune.cc:89: tree pruning end, 52 extra nodes, 0 pruned nodes, max_depth=6\n",
      "[26]\ttrain-error:0.02423\ttrain-logloss:0.06287\ttrain-auc:0.98969\ttrain-aucpr:0.83590\teval-error:0.02533\teval-logloss:0.11900\teval-auc:0.66717\teval-aucpr:0.04366\n",
      "Stopping. Best iteration:\n",
      "[16]\ttrain-error:0.02729\ttrain-logloss:0.08192\ttrain-auc:0.96192\ttrain-aucpr:0.62315\teval-error:0.02533\teval-logloss:0.11398\teval-auc:0.69100\teval-aucpr:0.07438\n",
      "\n",
      "2020-03-20 20:21:13 Like ********************************************************************************\n",
      "[20:21:14] INFO: /workspace/src/tree/updater_prune.cc:89: tree pruning end, 102 extra nodes, 0 pruned nodes, max_depth=6\n",
      "[0]\ttrain-error:0.32623\ttrain-logloss:0.65446\ttrain-auc:0.72996\ttrain-aucpr:0.67007\teval-error:0.34933\teval-logloss:0.66113\teval-auc:0.68966\teval-aucpr:0.62656\n",
      "Multiple eval metrics have been passed: 'eval-aucpr' will be used for early stopping.\n",
      "\n",
      "Will train until eval-aucpr hasn't improved in 10 rounds.\n",
      "[20:21:14] INFO: /workspace/src/tree/updater_prune.cc:89: tree pruning end, 102 extra nodes, 0 pruned nodes, max_depth=6\n",
      "[1]\ttrain-error:0.31318\ttrain-logloss:0.62773\ttrain-auc:0.74794\ttrain-aucpr:0.69647\teval-error:0.33467\teval-logloss:0.64033\teval-auc:0.70569\teval-aucpr:0.64166\n",
      "[20:21:14] INFO: /workspace/src/tree/updater_prune.cc:89: tree pruning end, 102 extra nodes, 0 pruned nodes, max_depth=6\n",
      "[2]\ttrain-error:0.30882\ttrain-logloss:0.60985\ttrain-auc:0.75555\ttrain-aucpr:0.70814\teval-error:0.33400\teval-logloss:0.62906\teval-auc:0.70991\teval-aucpr:0.64583\n",
      "[20:21:14] INFO: /workspace/src/tree/updater_prune.cc:89: tree pruning end, 96 extra nodes, 0 pruned nodes, max_depth=6\n",
      "[3]\ttrain-error:0.30388\ttrain-logloss:0.59748\ttrain-auc:0.76206\ttrain-aucpr:0.71847\teval-error:0.32667\teval-logloss:0.62354\teval-auc:0.71066\teval-aucpr:0.65227\n",
      "[20:21:14] INFO: /workspace/src/tree/updater_prune.cc:89: tree pruning end, 104 extra nodes, 0 pruned nodes, max_depth=6\n",
      "[4]\ttrain-error:0.29659\ttrain-logloss:0.58601\ttrain-auc:0.76951\ttrain-aucpr:0.72541\teval-error:0.32600\teval-logloss:0.61990\teval-auc:0.71222\teval-aucpr:0.65192\n",
      "[20:21:15] INFO: /workspace/src/tree/updater_prune.cc:89: tree pruning end, 106 extra nodes, 0 pruned nodes, max_depth=6\n",
      "[5]\ttrain-error:0.29388\ttrain-logloss:0.57632\ttrain-auc:0.77785\ttrain-aucpr:0.73249\teval-error:0.33267\teval-logloss:0.61834\teval-auc:0.71397\teval-aucpr:0.65708\n",
      "[20:21:15] INFO: /workspace/src/tree/updater_prune.cc:89: tree pruning end, 78 extra nodes, 0 pruned nodes, max_depth=6\n",
      "[6]\ttrain-error:0.29424\ttrain-logloss:0.57137\ttrain-auc:0.78042\ttrain-aucpr:0.73571\teval-error:0.32533\teval-logloss:0.61669\teval-auc:0.71611\teval-aucpr:0.65972\n",
      "[20:21:15] INFO: /workspace/src/tree/updater_prune.cc:89: tree pruning end, 72 extra nodes, 0 pruned nodes, max_depth=6\n",
      "[7]\ttrain-error:0.29059\ttrain-logloss:0.56667\ttrain-auc:0.78594\ttrain-aucpr:0.74307\teval-error:0.32067\teval-logloss:0.61624\teval-auc:0.71597\teval-aucpr:0.66365\n",
      "[20:21:15] INFO: /workspace/src/tree/updater_prune.cc:89: tree pruning end, 114 extra nodes, 0 pruned nodes, max_depth=6\n",
      "[8]\ttrain-error:0.28212\ttrain-logloss:0.55686\ttrain-auc:0.79815\ttrain-aucpr:0.75679\teval-error:0.32533\teval-logloss:0.61558\teval-auc:0.71642\teval-aucpr:0.66165\n",
      "[20:21:16] INFO: /workspace/src/tree/updater_prune.cc:89: tree pruning end, 94 extra nodes, 0 pruned nodes, max_depth=6\n",
      "[9]\ttrain-error:0.27212\ttrain-logloss:0.54918\ttrain-auc:0.80643\ttrain-aucpr:0.76679\teval-error:0.32467\teval-logloss:0.61440\teval-auc:0.71823\teval-aucpr:0.66269\n",
      "[20:21:16] INFO: /workspace/src/tree/updater_prune.cc:89: tree pruning end, 48 extra nodes, 0 pruned nodes, max_depth=6\n",
      "[10]\ttrain-error:0.27141\ttrain-logloss:0.54578\ttrain-auc:0.80921\ttrain-aucpr:0.76934\teval-error:0.32800\teval-logloss:0.61382\teval-auc:0.71915\teval-aucpr:0.66364\n",
      "[20:21:16] INFO: /workspace/src/tree/updater_prune.cc:89: tree pruning end, 66 extra nodes, 0 pruned nodes, max_depth=6\n",
      "[11]\ttrain-error:0.26600\ttrain-logloss:0.54194\ttrain-auc:0.81353\ttrain-aucpr:0.77401\teval-error:0.33000\teval-logloss:0.61438\teval-auc:0.71820\teval-aucpr:0.66400\n",
      "[20:21:16] INFO: /workspace/src/tree/updater_prune.cc:89: tree pruning end, 90 extra nodes, 0 pruned nodes, max_depth=6\n",
      "[12]\ttrain-error:0.26223\ttrain-logloss:0.53525\ttrain-auc:0.82137\ttrain-aucpr:0.78156\teval-error:0.32267\teval-logloss:0.61447\teval-auc:0.71905\teval-aucpr:0.66218\n",
      "[20:21:16] INFO: /workspace/src/tree/updater_prune.cc:89: tree pruning end, 30 extra nodes, 0 pruned nodes, max_depth=6\n",
      "[13]\ttrain-error:0.26094\ttrain-logloss:0.53364\ttrain-auc:0.82232\ttrain-aucpr:0.78304\teval-error:0.32400\teval-logloss:0.61338\teval-auc:0.72063\teval-aucpr:0.66323\n",
      "[20:21:16] INFO: /workspace/src/tree/updater_prune.cc:89: tree pruning end, 64 extra nodes, 0 pruned nodes, max_depth=6\n",
      "[14]\ttrain-error:0.25777\ttrain-logloss:0.53095\ttrain-auc:0.82533\ttrain-aucpr:0.78764\teval-error:0.32600\teval-logloss:0.61386\teval-auc:0.71966\teval-aucpr:0.66304\n",
      "[20:21:16] INFO: /workspace/src/tree/updater_prune.cc:89: tree pruning end, 34 extra nodes, 0 pruned nodes, max_depth=6\n",
      "[15]\ttrain-error:0.25647\ttrain-logloss:0.52903\ttrain-auc:0.82757\ttrain-aucpr:0.78975\teval-error:0.32733\teval-logloss:0.61475\teval-auc:0.71902\teval-aucpr:0.66156\n",
      "[20:21:16] INFO: /workspace/src/tree/updater_prune.cc:89: tree pruning end, 64 extra nodes, 0 pruned nodes, max_depth=6\n",
      "[16]\ttrain-error:0.25577\ttrain-logloss:0.52613\ttrain-auc:0.83060\ttrain-aucpr:0.79310\teval-error:0.32333\teval-logloss:0.61366\teval-auc:0.72005\teval-aucpr:0.66269\n",
      "[20:21:16] INFO: /workspace/src/tree/updater_prune.cc:89: tree pruning end, 48 extra nodes, 0 pruned nodes, max_depth=6\n",
      "[17]\ttrain-error:0.25341\ttrain-logloss:0.52304\ttrain-auc:0.83335\ttrain-aucpr:0.79666\teval-error:0.32067\teval-logloss:0.61209\teval-auc:0.72295\teval-aucpr:0.66651\n",
      "[20:21:16] INFO: /workspace/src/tree/updater_prune.cc:89: tree pruning end, 84 extra nodes, 0 pruned nodes, max_depth=6\n",
      "[18]\ttrain-error:0.24718\ttrain-logloss:0.51707\ttrain-auc:0.83974\ttrain-aucpr:0.80459\teval-error:0.32667\teval-logloss:0.61480\teval-auc:0.72023\teval-aucpr:0.66161\n",
      "[20:21:16] INFO: /workspace/src/tree/updater_prune.cc:89: tree pruning end, 62 extra nodes, 0 pruned nodes, max_depth=6\n",
      "[19]\ttrain-error:0.24612\ttrain-logloss:0.51482\ttrain-auc:0.84147\ttrain-aucpr:0.80711\teval-error:0.32667\teval-logloss:0.61467\teval-auc:0.72043\teval-aucpr:0.66290\n"
     ]
    },
    {
     "name": "stdout",
     "output_type": "stream",
     "text": [
      "[20:21:16] INFO: /workspace/src/tree/updater_prune.cc:89: tree pruning end, 24 extra nodes, 0 pruned nodes, max_depth=6\n",
      "[20]\ttrain-error:0.24588\ttrain-logloss:0.51401\ttrain-auc:0.84212\ttrain-aucpr:0.80795\teval-error:0.32600\teval-logloss:0.61513\teval-auc:0.72006\teval-aucpr:0.66245\n",
      "[20:21:16] INFO: /workspace/src/tree/updater_prune.cc:89: tree pruning end, 64 extra nodes, 0 pruned nodes, max_depth=6\n",
      "[21]\ttrain-error:0.24329\ttrain-logloss:0.51111\ttrain-auc:0.84517\ttrain-aucpr:0.81262\teval-error:0.32733\teval-logloss:0.61606\teval-auc:0.71925\teval-aucpr:0.66209\n",
      "[20:21:16] INFO: /workspace/src/tree/updater_prune.cc:89: tree pruning end, 18 extra nodes, 0 pruned nodes, max_depth=6\n",
      "[22]\ttrain-error:0.24294\ttrain-logloss:0.51052\ttrain-auc:0.84552\ttrain-aucpr:0.81328\teval-error:0.32867\teval-logloss:0.61604\teval-auc:0.71929\teval-aucpr:0.66233\n",
      "[20:21:17] INFO: /workspace/src/tree/updater_prune.cc:89: tree pruning end, 86 extra nodes, 0 pruned nodes, max_depth=6\n",
      "[23]\ttrain-error:0.23977\ttrain-logloss:0.50653\ttrain-auc:0.85016\ttrain-aucpr:0.81859\teval-error:0.33000\teval-logloss:0.61666\teval-auc:0.71843\teval-aucpr:0.66091\n",
      "[20:21:17] INFO: /workspace/src/tree/updater_prune.cc:89: tree pruning end, 22 extra nodes, 0 pruned nodes, max_depth=6\n",
      "[24]\ttrain-error:0.23882\ttrain-logloss:0.50587\ttrain-auc:0.85035\ttrain-aucpr:0.81884\teval-error:0.33133\teval-logloss:0.61667\teval-auc:0.71859\teval-aucpr:0.66103\n",
      "[20:21:17] INFO: /workspace/src/tree/updater_prune.cc:89: tree pruning end, 120 extra nodes, 0 pruned nodes, max_depth=6\n",
      "[25]\ttrain-error:0.23141\ttrain-logloss:0.49828\ttrain-auc:0.85796\ttrain-aucpr:0.82762\teval-error:0.33067\teval-logloss:0.61937\teval-auc:0.71550\teval-aucpr:0.65620\n",
      "[20:21:17] INFO: /workspace/src/tree/updater_prune.cc:89: tree pruning end, 38 extra nodes, 0 pruned nodes, max_depth=6\n",
      "[26]\ttrain-error:0.23059\ttrain-logloss:0.49721\ttrain-auc:0.85889\ttrain-aucpr:0.82898\teval-error:0.33133\teval-logloss:0.61958\teval-auc:0.71535\teval-aucpr:0.65603\n",
      "[20:21:17] INFO: /workspace/src/tree/updater_prune.cc:89: tree pruning end, 64 extra nodes, 0 pruned nodes, max_depth=6\n",
      "[27]\ttrain-error:0.22906\ttrain-logloss:0.49498\ttrain-auc:0.86085\ttrain-aucpr:0.83161\teval-error:0.33200\teval-logloss:0.61988\teval-auc:0.71515\teval-aucpr:0.65545\n",
      "Stopping. Best iteration:\n",
      "[17]\ttrain-error:0.25341\ttrain-logloss:0.52304\ttrain-auc:0.83335\ttrain-aucpr:0.79666\teval-error:0.32067\teval-logloss:0.61209\teval-auc:0.72295\teval-aucpr:0.66651\n",
      "\n",
      "2020-03-20 20:21:17 RTwCmnt ********************************************************************************\n",
      "[20:21:17] INFO: /workspace/src/tree/updater_prune.cc:89: tree pruning end, 0 extra nodes, 0 pruned nodes, max_depth=0\n",
      "[0]\ttrain-error:0.00682\ttrain-logloss:0.55640\ttrain-auc:0.50000\ttrain-aucpr:0.00682\teval-error:0.01267\teval-logloss:0.55816\teval-auc:0.50000\teval-aucpr:0.01267\n",
      "Multiple eval metrics have been passed: 'eval-aucpr' will be used for early stopping.\n",
      "\n",
      "Will train until eval-aucpr hasn't improved in 10 rounds.\n",
      "[20:21:17] INFO: /workspace/src/tree/updater_prune.cc:89: tree pruning end, 0 extra nodes, 0 pruned nodes, max_depth=0\n",
      "[1]\ttrain-error:0.00682\ttrain-logloss:0.44158\ttrain-auc:0.50000\ttrain-aucpr:0.00682\teval-error:0.01267\teval-logloss:0.44509\teval-auc:0.50000\teval-aucpr:0.01267\n",
      "[20:21:17] INFO: /workspace/src/tree/updater_prune.cc:89: tree pruning end, 0 extra nodes, 0 pruned nodes, max_depth=0\n",
      "[2]\ttrain-error:0.00682\ttrain-logloss:0.34730\ttrain-auc:0.50000\ttrain-aucpr:0.00682\teval-error:0.01267\teval-logloss:0.35255\teval-auc:0.50000\teval-aucpr:0.01267\n",
      "[20:21:17] INFO: /workspace/src/tree/updater_prune.cc:89: tree pruning end, 4 extra nodes, 0 pruned nodes, max_depth=2\n",
      "[3]\ttrain-error:0.00682\ttrain-logloss:0.27149\ttrain-auc:0.51671\ttrain-aucpr:0.01453\teval-error:0.01267\teval-logloss:0.27841\teval-auc:0.52598\teval-aucpr:0.04179\n",
      "[20:21:17] INFO: /workspace/src/tree/updater_prune.cc:89: tree pruning end, 4 extra nodes, 0 pruned nodes, max_depth=2\n",
      "[4]\ttrain-error:0.00682\ttrain-logloss:0.21167\ttrain-auc:0.51644\ttrain-aucpr:0.03250\teval-error:0.01267\teval-logloss:0.22032\teval-auc:0.52598\teval-aucpr:0.04179\n",
      "[20:21:17] INFO: /workspace/src/tree/updater_prune.cc:89: tree pruning end, 8 extra nodes, 0 pruned nodes, max_depth=4\n",
      "[5]\ttrain-error:0.00682\ttrain-logloss:0.16529\ttrain-auc:0.53262\ttrain-aucpr:0.03694\teval-error:0.01267\teval-logloss:0.17563\teval-auc:0.52502\teval-aucpr:0.04112\n",
      "[20:21:17] INFO: /workspace/src/tree/updater_prune.cc:89: tree pruning end, 6 extra nodes, 0 pruned nodes, max_depth=3\n",
      "[6]\ttrain-error:0.00682\ttrain-logloss:0.12984\ttrain-auc:0.53256\ttrain-aucpr:0.03696\teval-error:0.01267\teval-logloss:0.14198\teval-auc:0.52502\teval-aucpr:0.04112\n",
      "[20:21:17] INFO: /workspace/src/tree/updater_prune.cc:89: tree pruning end, 14 extra nodes, 0 pruned nodes, max_depth=6\n",
      "[7]\ttrain-error:0.00682\ttrain-logloss:0.10309\ttrain-auc:0.56977\ttrain-aucpr:0.05005\teval-error:0.01267\teval-logloss:0.11731\teval-auc:0.51702\teval-aucpr:0.03951\n",
      "[20:21:17] INFO: /workspace/src/tree/updater_prune.cc:89: tree pruning end, 16 extra nodes, 0 pruned nodes, max_depth=6\n",
      "[8]\ttrain-error:0.00682\ttrain-logloss:0.08309\ttrain-auc:0.57649\ttrain-aucpr:0.06835\teval-error:0.01267\teval-logloss:0.09939\teval-auc:0.51347\teval-aucpr:0.02470\n",
      "[20:21:18] INFO: /workspace/src/tree/updater_prune.cc:89: tree pruning end, 20 extra nodes, 0 pruned nodes, max_depth=6\n",
      "[9]\ttrain-error:0.00682\ttrain-logloss:0.06874\ttrain-auc:0.62334\ttrain-aucpr:0.09207\teval-error:0.01267\teval-logloss:0.08713\teval-auc:0.48628\teval-aucpr:0.02316\n",
      "[20:21:18] INFO: /workspace/src/tree/updater_prune.cc:89: tree pruning end, 36 extra nodes, 0 pruned nodes, max_depth=6\n",
      "[10]\ttrain-error:0.00682\ttrain-logloss:0.05806\ttrain-auc:0.76339\ttrain-aucpr:0.13570\teval-error:0.01267\teval-logloss:0.07872\teval-auc:0.52177\teval-aucpr:0.02500\n",
      "[20:21:18] INFO: /workspace/src/tree/updater_prune.cc:89: tree pruning end, 32 extra nodes, 0 pruned nodes, max_depth=6\n",
      "[11]\ttrain-error:0.00682\ttrain-logloss:0.05043\ttrain-auc:0.80645\ttrain-aucpr:0.17647\teval-error:0.01267\teval-logloss:0.07327\teval-auc:0.52415\teval-aucpr:0.02819\n",
      "[20:21:18] INFO: /workspace/src/tree/updater_prune.cc:89: tree pruning end, 40 extra nodes, 0 pruned nodes, max_depth=6\n",
      "[12]\ttrain-error:0.00682\ttrain-logloss:0.04470\ttrain-auc:0.81372\ttrain-aucpr:0.19165\teval-error:0.01267\teval-logloss:0.07003\teval-auc:0.51995\teval-aucpr:0.02506\n",
      "[20:21:18] INFO: /workspace/src/tree/updater_prune.cc:89: tree pruning end, 28 extra nodes, 0 pruned nodes, max_depth=6\n",
      "[13]\ttrain-error:0.00682\ttrain-logloss:0.04060\ttrain-auc:0.87911\ttrain-aucpr:0.23383\teval-error:0.01267\teval-logloss:0.06806\teval-auc:0.54252\teval-aucpr:0.02625\n",
      "Stopping. Best iteration:\n",
      "[3]\ttrain-error:0.00682\ttrain-logloss:0.27149\ttrain-auc:0.51671\ttrain-aucpr:0.01453\teval-error:0.01267\teval-logloss:0.27841\teval-auc:0.52598\teval-aucpr:0.04179\n",
      "\n"
     ]
    }
   ],
   "source": [
    "tgt2bst={}\n",
    "tgt2ytr={}\n",
    "tgt2yvl={}\n",
    "tgt2evalres={}\n",
    "for i,tgt in enumerate(tgts):\n",
    "    evals_result = {}\n",
    "    print(dtnow(), tgt, '*'*80)\n",
    "    tgt2ytr[tgt]=ytr.iloc[:,i]\n",
    "    tgt2yvl[tgt]=yvl.iloc[:,i]\n",
    "    dtr = xgb.DMatrix(Xtr, label=ytr.iloc[:,i], feature_names=cols_feat)\n",
    "    dvl = xgb.DMatrix(Xvl, label=yvl.iloc[:,i], feature_names=cols_feat)\n",
    "    evallist = [(dtr, 'train'), (dvl, 'eval')]\n",
    "    bst = xgb.train(params=params, dtrain=dtr, num_boost_round=num_rounds, \n",
    "                    evals=evallist, evals_result=evals_result, early_stopping_rounds=10)\n",
    "    tgt2bst[tgt] = bst\n",
    "    tgt2evalres[tgt] = evals_result\n",
    "pickle.dump(tgt2bst, open(f\"{p_out}/tgt2bst.p\", \"wb\"))"
   ]
  },
  {
   "cell_type": "code",
   "execution_count": 29,
   "metadata": {},
   "outputs": [],
   "source": [
    "def show_feat_importance(bst):\n",
    "    ax = xgb.plot_importance(bst, height=0.8, max_num_features=9)\n",
    "    ax.grid(False, axis=\"y\")\n",
    "    ax.set_title('Estimated feature importance')\n",
    "    plt.show()\n",
    "    feat2importance=bst.get_fscore()\n",
    "    display(pd.DataFrame([feat2importance.keys(), feat2importance.values()]).T.sort_values(1, ascending=False).head(20))"
   ]
  },
  {
   "cell_type": "code",
   "execution_count": 30,
   "metadata": {
    "scrolled": true
   },
   "outputs": [
    {
     "name": "stdout",
     "output_type": "stream",
     "text": [
      "Retweet\n"
     ]
    },
    {
     "data": {
      "image/png": "[encoded data removed]",
      "text/plain": [
       "<Figure size 432x288 with 1 Axes>"
      ]
     },
     "metadata": {
      "needs_background": "light"
     },
     "output_type": "display_data"
    },
    {
     "data": {
      "text/html": [
       "<div>\n",
       "<style scoped>\n",
       "    .dataframe tbody tr th:only-of-type {\n",
       "        vertical-align: middle;\n",
       "    }\n",
       "\n",
       "    .dataframe tbody tr th {\n",
       "        vertical-align: top;\n",
       "    }\n",
       "\n",
       "    .dataframe thead th {\n",
       "        text-align: right;\n",
       "    }\n",
       "</style>\n",
       "<table border=\"1\" class=\"dataframe\">\n",
       "  <thead>\n",
       "    <tr style=\"text-align: right;\">\n",
       "      <th></th>\n",
       "      <th>0</th>\n",
       "      <th>1</th>\n",
       "    </tr>\n",
       "  </thead>\n",
       "  <tbody>\n",
       "    <tr>\n",
       "      <th>3</th>\n",
       "      <td>u2_age</td>\n",
       "      <td>149</td>\n",
       "    </tr>\n",
       "    <tr>\n",
       "      <th>1</th>\n",
       "      <td>u2_fllwer_cnt</td>\n",
       "      <td>136</td>\n",
       "    </tr>\n",
       "    <tr>\n",
       "      <th>8</th>\n",
       "      <td>u1_fllwng_cnt_by_age</td>\n",
       "      <td>133</td>\n",
       "    </tr>\n",
       "    <tr>\n",
       "      <th>0</th>\n",
       "      <td>len_toks</td>\n",
       "      <td>132</td>\n",
       "    </tr>\n",
       "    <tr>\n",
       "      <th>4</th>\n",
       "      <td>u1_fllwng_cnt</td>\n",
       "      <td>119</td>\n",
       "    </tr>\n",
       "    <tr>\n",
       "      <th>7</th>\n",
       "      <td>twt_age</td>\n",
       "      <td>96</td>\n",
       "    </tr>\n",
       "    <tr>\n",
       "      <th>5</th>\n",
       "      <td>u2_fllwng_cnt</td>\n",
       "      <td>91</td>\n",
       "    </tr>\n",
       "    <tr>\n",
       "      <th>10</th>\n",
       "      <td>u1_fllwer_cnt_by_age</td>\n",
       "      <td>85</td>\n",
       "    </tr>\n",
       "    <tr>\n",
       "      <th>9</th>\n",
       "      <td>u1_age</td>\n",
       "      <td>85</td>\n",
       "    </tr>\n",
       "    <tr>\n",
       "      <th>13</th>\n",
       "      <td>tmdlta_u2u1</td>\n",
       "      <td>74</td>\n",
       "    </tr>\n",
       "    <tr>\n",
       "      <th>11</th>\n",
       "      <td>u1_fllwer_cnt</td>\n",
       "      <td>67</td>\n",
       "    </tr>\n",
       "    <tr>\n",
       "      <th>20</th>\n",
       "      <td>tm_hour</td>\n",
       "      <td>41</td>\n",
       "    </tr>\n",
       "    <tr>\n",
       "      <th>18</th>\n",
       "      <td>tm_dayofweek</td>\n",
       "      <td>22</td>\n",
       "    </tr>\n",
       "    <tr>\n",
       "      <th>2</th>\n",
       "      <td>num_hshtgs</td>\n",
       "      <td>18</td>\n",
       "    </tr>\n",
       "    <tr>\n",
       "      <th>19</th>\n",
       "      <td>has_media_Video</td>\n",
       "      <td>15</td>\n",
       "    </tr>\n",
       "    <tr>\n",
       "      <th>12</th>\n",
       "      <td>num_links</td>\n",
       "      <td>10</td>\n",
       "    </tr>\n",
       "    <tr>\n",
       "      <th>15</th>\n",
       "      <td>u1_fllw_u2</td>\n",
       "      <td>10</td>\n",
       "    </tr>\n",
       "    <tr>\n",
       "      <th>16</th>\n",
       "      <td>twttyp_TopLevel</td>\n",
       "      <td>9</td>\n",
       "    </tr>\n",
       "    <tr>\n",
       "      <th>6</th>\n",
       "      <td>twttyp_Retweet</td>\n",
       "      <td>8</td>\n",
       "    </tr>\n",
       "    <tr>\n",
       "      <th>17</th>\n",
       "      <td>u1_vrfed</td>\n",
       "      <td>7</td>\n",
       "    </tr>\n",
       "  </tbody>\n",
       "</table>\n",
       "</div>"
      ],
      "text/plain": [
       "                       0    1\n",
       "3                 u2_age  149\n",
       "1          u2_fllwer_cnt  136\n",
       "8   u1_fllwng_cnt_by_age  133\n",
       "0               len_toks  132\n",
       "4          u1_fllwng_cnt  119\n",
       "7                twt_age   96\n",
       "5          u2_fllwng_cnt   91\n",
       "10  u1_fllwer_cnt_by_age   85\n",
       "9                 u1_age   85\n",
       "13           tmdlta_u2u1   74\n",
       "11         u1_fllwer_cnt   67\n",
       "20               tm_hour   41\n",
       "18          tm_dayofweek   22\n",
       "2             num_hshtgs   18\n",
       "19       has_media_Video   15\n",
       "12             num_links   10\n",
       "15            u1_fllw_u2   10\n",
       "16       twttyp_TopLevel    9\n",
       "6         twttyp_Retweet    8\n",
       "17              u1_vrfed    7"
      ]
     },
     "metadata": {},
     "output_type": "display_data"
    },
    {
     "name": "stdout",
     "output_type": "stream",
     "text": [
      "Reply\n"
     ]
    },
    {
     "data": {
      "image/png": "[encoded data removed]",
      "text/plain": [
       "<Figure size 432x288 with 1 Axes>"
      ]
     },
     "metadata": {
      "needs_background": "light"
     },
     "output_type": "display_data"
    },
    {
     "data": {
      "text/html": [
       "<div>\n",
       "<style scoped>\n",
       "    .dataframe tbody tr th:only-of-type {\n",
       "        vertical-align: middle;\n",
       "    }\n",
       "\n",
       "    .dataframe tbody tr th {\n",
       "        vertical-align: top;\n",
       "    }\n",
       "\n",
       "    .dataframe thead th {\n",
       "        text-align: right;\n",
       "    }\n",
       "</style>\n",
       "<table border=\"1\" class=\"dataframe\">\n",
       "  <thead>\n",
       "    <tr style=\"text-align: right;\">\n",
       "      <th></th>\n",
       "      <th>0</th>\n",
       "      <th>1</th>\n",
       "    </tr>\n",
       "  </thead>\n",
       "  <tbody>\n",
       "    <tr>\n",
       "      <th>3</th>\n",
       "      <td>u2_age</td>\n",
       "      <td>85</td>\n",
       "    </tr>\n",
       "    <tr>\n",
       "      <th>9</th>\n",
       "      <td>len_toks</td>\n",
       "      <td>65</td>\n",
       "    </tr>\n",
       "    <tr>\n",
       "      <th>10</th>\n",
       "      <td>u2_fllwer_cnt</td>\n",
       "      <td>59</td>\n",
       "    </tr>\n",
       "    <tr>\n",
       "      <th>2</th>\n",
       "      <td>twt_age</td>\n",
       "      <td>57</td>\n",
       "    </tr>\n",
       "    <tr>\n",
       "      <th>4</th>\n",
       "      <td>tmdlta_u2u1</td>\n",
       "      <td>52</td>\n",
       "    </tr>\n",
       "    <tr>\n",
       "      <th>1</th>\n",
       "      <td>u1_age</td>\n",
       "      <td>52</td>\n",
       "    </tr>\n",
       "    <tr>\n",
       "      <th>6</th>\n",
       "      <td>u1_fllwer_cnt</td>\n",
       "      <td>52</td>\n",
       "    </tr>\n",
       "    <tr>\n",
       "      <th>11</th>\n",
       "      <td>u1_fllwng_cnt_by_age</td>\n",
       "      <td>50</td>\n",
       "    </tr>\n",
       "    <tr>\n",
       "      <th>7</th>\n",
       "      <td>u2_fllwng_cnt</td>\n",
       "      <td>50</td>\n",
       "    </tr>\n",
       "    <tr>\n",
       "      <th>0</th>\n",
       "      <td>u1_fllwer_cnt_by_age</td>\n",
       "      <td>45</td>\n",
       "    </tr>\n",
       "    <tr>\n",
       "      <th>12</th>\n",
       "      <td>u1_fllwng_cnt</td>\n",
       "      <td>42</td>\n",
       "    </tr>\n",
       "    <tr>\n",
       "      <th>5</th>\n",
       "      <td>tm_hour</td>\n",
       "      <td>36</td>\n",
       "    </tr>\n",
       "    <tr>\n",
       "      <th>8</th>\n",
       "      <td>twttyp_TopLevel</td>\n",
       "      <td>8</td>\n",
       "    </tr>\n",
       "    <tr>\n",
       "      <th>14</th>\n",
       "      <td>twttyp_Retweet</td>\n",
       "      <td>8</td>\n",
       "    </tr>\n",
       "    <tr>\n",
       "      <th>13</th>\n",
       "      <td>tm_dayofweek</td>\n",
       "      <td>7</td>\n",
       "    </tr>\n",
       "    <tr>\n",
       "      <th>15</th>\n",
       "      <td>num_hshtgs</td>\n",
       "      <td>5</td>\n",
       "    </tr>\n",
       "    <tr>\n",
       "      <th>16</th>\n",
       "      <td>u1_vrfed</td>\n",
       "      <td>5</td>\n",
       "    </tr>\n",
       "    <tr>\n",
       "      <th>17</th>\n",
       "      <td>num_links</td>\n",
       "      <td>4</td>\n",
       "    </tr>\n",
       "    <tr>\n",
       "      <th>20</th>\n",
       "      <td>has_media_Video</td>\n",
       "      <td>4</td>\n",
       "    </tr>\n",
       "    <tr>\n",
       "      <th>18</th>\n",
       "      <td>u1_fllw_u2</td>\n",
       "      <td>2</td>\n",
       "    </tr>\n",
       "  </tbody>\n",
       "</table>\n",
       "</div>"
      ],
      "text/plain": [
       "                       0   1\n",
       "3                 u2_age  85\n",
       "9               len_toks  65\n",
       "10         u2_fllwer_cnt  59\n",
       "2                twt_age  57\n",
       "4            tmdlta_u2u1  52\n",
       "1                 u1_age  52\n",
       "6          u1_fllwer_cnt  52\n",
       "11  u1_fllwng_cnt_by_age  50\n",
       "7          u2_fllwng_cnt  50\n",
       "0   u1_fllwer_cnt_by_age  45\n",
       "12         u1_fllwng_cnt  42\n",
       "5                tm_hour  36\n",
       "8        twttyp_TopLevel   8\n",
       "14        twttyp_Retweet   8\n",
       "13          tm_dayofweek   7\n",
       "15            num_hshtgs   5\n",
       "16              u1_vrfed   5\n",
       "17             num_links   4\n",
       "20       has_media_Video   4\n",
       "18            u1_fllw_u2   2"
      ]
     },
     "metadata": {},
     "output_type": "display_data"
    },
    {
     "name": "stdout",
     "output_type": "stream",
     "text": [
      "Like\n"
     ]
    },
    {
     "data": {
      "image/png": "[encoded data removed]",
      "text/plain": [
       "<Figure size 432x288 with 1 Axes>"
      ]
     },
     "metadata": {
      "needs_background": "light"
     },
     "output_type": "display_data"
    },
    {
     "data": {
      "text/html": [
       "<div>\n",
       "<style scoped>\n",
       "    .dataframe tbody tr th:only-of-type {\n",
       "        vertical-align: middle;\n",
       "    }\n",
       "\n",
       "    .dataframe tbody tr th {\n",
       "        vertical-align: top;\n",
       "    }\n",
       "\n",
       "    .dataframe thead th {\n",
       "        text-align: right;\n",
       "    }\n",
       "</style>\n",
       "<table border=\"1\" class=\"dataframe\">\n",
       "  <thead>\n",
       "    <tr style=\"text-align: right;\">\n",
       "      <th></th>\n",
       "      <th>0</th>\n",
       "      <th>1</th>\n",
       "    </tr>\n",
       "  </thead>\n",
       "  <tbody>\n",
       "    <tr>\n",
       "      <th>3</th>\n",
       "      <td>len_toks</td>\n",
       "      <td>102</td>\n",
       "    </tr>\n",
       "    <tr>\n",
       "      <th>12</th>\n",
       "      <td>u2_age</td>\n",
       "      <td>90</td>\n",
       "    </tr>\n",
       "    <tr>\n",
       "      <th>8</th>\n",
       "      <td>u2_fllwer_cnt</td>\n",
       "      <td>89</td>\n",
       "    </tr>\n",
       "    <tr>\n",
       "      <th>7</th>\n",
       "      <td>u1_age</td>\n",
       "      <td>79</td>\n",
       "    </tr>\n",
       "    <tr>\n",
       "      <th>9</th>\n",
       "      <td>twt_age</td>\n",
       "      <td>79</td>\n",
       "    </tr>\n",
       "    <tr>\n",
       "      <th>11</th>\n",
       "      <td>u1_fllwng_cnt</td>\n",
       "      <td>77</td>\n",
       "    </tr>\n",
       "    <tr>\n",
       "      <th>4</th>\n",
       "      <td>u1_fllwer_cnt_by_age</td>\n",
       "      <td>77</td>\n",
       "    </tr>\n",
       "    <tr>\n",
       "      <th>5</th>\n",
       "      <td>u1_fllwer_cnt</td>\n",
       "      <td>73</td>\n",
       "    </tr>\n",
       "    <tr>\n",
       "      <th>10</th>\n",
       "      <td>u2_fllwng_cnt</td>\n",
       "      <td>69</td>\n",
       "    </tr>\n",
       "    <tr>\n",
       "      <th>2</th>\n",
       "      <td>u1_fllwng_cnt_by_age</td>\n",
       "      <td>64</td>\n",
       "    </tr>\n",
       "    <tr>\n",
       "      <th>15</th>\n",
       "      <td>tmdlta_u2u1</td>\n",
       "      <td>57</td>\n",
       "    </tr>\n",
       "    <tr>\n",
       "      <th>6</th>\n",
       "      <td>tm_hour</td>\n",
       "      <td>41</td>\n",
       "    </tr>\n",
       "    <tr>\n",
       "      <th>14</th>\n",
       "      <td>num_hshtgs</td>\n",
       "      <td>20</td>\n",
       "    </tr>\n",
       "    <tr>\n",
       "      <th>1</th>\n",
       "      <td>num_links</td>\n",
       "      <td>17</td>\n",
       "    </tr>\n",
       "    <tr>\n",
       "      <th>0</th>\n",
       "      <td>twttyp_Retweet</td>\n",
       "      <td>14</td>\n",
       "    </tr>\n",
       "    <tr>\n",
       "      <th>13</th>\n",
       "      <td>tm_dayofweek</td>\n",
       "      <td>14</td>\n",
       "    </tr>\n",
       "    <tr>\n",
       "      <th>17</th>\n",
       "      <td>has_media_Photo</td>\n",
       "      <td>10</td>\n",
       "    </tr>\n",
       "    <tr>\n",
       "      <th>18</th>\n",
       "      <td>twttyp_TopLevel</td>\n",
       "      <td>10</td>\n",
       "    </tr>\n",
       "    <tr>\n",
       "      <th>20</th>\n",
       "      <td>u1_fllw_u2</td>\n",
       "      <td>7</td>\n",
       "    </tr>\n",
       "    <tr>\n",
       "      <th>16</th>\n",
       "      <td>u1_vrfed</td>\n",
       "      <td>4</td>\n",
       "    </tr>\n",
       "  </tbody>\n",
       "</table>\n",
       "</div>"
      ],
      "text/plain": [
       "                       0    1\n",
       "3               len_toks  102\n",
       "12                u2_age   90\n",
       "8          u2_fllwer_cnt   89\n",
       "7                 u1_age   79\n",
       "9                twt_age   79\n",
       "11         u1_fllwng_cnt   77\n",
       "4   u1_fllwer_cnt_by_age   77\n",
       "5          u1_fllwer_cnt   73\n",
       "10         u2_fllwng_cnt   69\n",
       "2   u1_fllwng_cnt_by_age   64\n",
       "15           tmdlta_u2u1   57\n",
       "6                tm_hour   41\n",
       "14            num_hshtgs   20\n",
       "1              num_links   17\n",
       "0         twttyp_Retweet   14\n",
       "13          tm_dayofweek   14\n",
       "17       has_media_Photo   10\n",
       "18       twttyp_TopLevel   10\n",
       "20            u1_fllw_u2    7\n",
       "16              u1_vrfed    4"
      ]
     },
     "metadata": {},
     "output_type": "display_data"
    },
    {
     "name": "stdout",
     "output_type": "stream",
     "text": [
      "RTwCmnt\n"
     ]
    },
    {
     "data": {
      "image/png": "[encoded data removed]",
      "text/plain": [
       "<Figure size 432x288 with 1 Axes>"
      ]
     },
     "metadata": {
      "needs_background": "light"
     },
     "output_type": "display_data"
    },
    {
     "data": {
      "text/html": [
       "<div>\n",
       "<style scoped>\n",
       "    .dataframe tbody tr th:only-of-type {\n",
       "        vertical-align: middle;\n",
       "    }\n",
       "\n",
       "    .dataframe tbody tr th {\n",
       "        vertical-align: top;\n",
       "    }\n",
       "\n",
       "    .dataframe thead th {\n",
       "        text-align: right;\n",
       "    }\n",
       "</style>\n",
       "<table border=\"1\" class=\"dataframe\">\n",
       "  <thead>\n",
       "    <tr style=\"text-align: right;\">\n",
       "      <th></th>\n",
       "      <th>0</th>\n",
       "      <th>1</th>\n",
       "    </tr>\n",
       "  </thead>\n",
       "  <tbody>\n",
       "    <tr>\n",
       "      <th>6</th>\n",
       "      <td>len_toks</td>\n",
       "      <td>16</td>\n",
       "    </tr>\n",
       "    <tr>\n",
       "      <th>1</th>\n",
       "      <td>num_hshtgs</td>\n",
       "      <td>12</td>\n",
       "    </tr>\n",
       "    <tr>\n",
       "      <th>5</th>\n",
       "      <td>u1_fllwng_cnt</td>\n",
       "      <td>11</td>\n",
       "    </tr>\n",
       "    <tr>\n",
       "      <th>0</th>\n",
       "      <td>u2_fllwer_cnt</td>\n",
       "      <td>10</td>\n",
       "    </tr>\n",
       "    <tr>\n",
       "      <th>2</th>\n",
       "      <td>u1_fllwng_cnt_by_age</td>\n",
       "      <td>10</td>\n",
       "    </tr>\n",
       "    <tr>\n",
       "      <th>3</th>\n",
       "      <td>u2_age</td>\n",
       "      <td>10</td>\n",
       "    </tr>\n",
       "    <tr>\n",
       "      <th>12</th>\n",
       "      <td>u2_fllwng_cnt</td>\n",
       "      <td>6</td>\n",
       "    </tr>\n",
       "    <tr>\n",
       "      <th>14</th>\n",
       "      <td>u1_age</td>\n",
       "      <td>6</td>\n",
       "    </tr>\n",
       "    <tr>\n",
       "      <th>8</th>\n",
       "      <td>tm_hour</td>\n",
       "      <td>4</td>\n",
       "    </tr>\n",
       "    <tr>\n",
       "      <th>9</th>\n",
       "      <td>u1_fllwer_cnt</td>\n",
       "      <td>4</td>\n",
       "    </tr>\n",
       "    <tr>\n",
       "      <th>13</th>\n",
       "      <td>tmdlta_u2u1</td>\n",
       "      <td>4</td>\n",
       "    </tr>\n",
       "    <tr>\n",
       "      <th>4</th>\n",
       "      <td>u2_vrfed</td>\n",
       "      <td>3</td>\n",
       "    </tr>\n",
       "    <tr>\n",
       "      <th>10</th>\n",
       "      <td>u1_fllwer_cnt_by_age</td>\n",
       "      <td>3</td>\n",
       "    </tr>\n",
       "    <tr>\n",
       "      <th>11</th>\n",
       "      <td>twt_age</td>\n",
       "      <td>3</td>\n",
       "    </tr>\n",
       "    <tr>\n",
       "      <th>7</th>\n",
       "      <td>tm_dayofweek</td>\n",
       "      <td>2</td>\n",
       "    </tr>\n",
       "  </tbody>\n",
       "</table>\n",
       "</div>"
      ],
      "text/plain": [
       "                       0   1\n",
       "6               len_toks  16\n",
       "1             num_hshtgs  12\n",
       "5          u1_fllwng_cnt  11\n",
       "0          u2_fllwer_cnt  10\n",
       "2   u1_fllwng_cnt_by_age  10\n",
       "3                 u2_age  10\n",
       "12         u2_fllwng_cnt   6\n",
       "14                u1_age   6\n",
       "8                tm_hour   4\n",
       "9          u1_fllwer_cnt   4\n",
       "13           tmdlta_u2u1   4\n",
       "4               u2_vrfed   3\n",
       "10  u1_fllwer_cnt_by_age   3\n",
       "11               twt_age   3\n",
       "7           tm_dayofweek   2"
      ]
     },
     "metadata": {},
     "output_type": "display_data"
    }
   ],
   "source": [
    "for tgt,bst in tgt2bst.items():\n",
    "    print(tgt)\n",
    "    show_feat_importance(bst)"
   ]
  },
  {
   "cell_type": "markdown",
   "metadata": {},
   "source": [
    "## valid"
   ]
  },
  {
   "cell_type": "code",
   "execution_count": 39,
   "metadata": {
    "scrolled": false
   },
   "outputs": [
    {
     "data": {
      "image/png": "[encoded data removed]",
      "text/plain": [
       "<Figure size 432x288 with 1 Axes>"
      ]
     },
     "metadata": {
      "needs_background": "light"
     },
     "output_type": "display_data"
    },
    {
     "data": {
      "image/png": "[encoded data removed]",
      "text/plain": [
       "<Figure size 432x288 with 1 Axes>"
      ]
     },
     "metadata": {
      "needs_background": "light"
     },
     "output_type": "display_data"
    },
    {
     "data": {
      "image/png": "[encoded data removed]",
      "text/plain": [
       "<Figure size 432x288 with 1 Axes>"
      ]
     },
     "metadata": {
      "needs_background": "light"
     },
     "output_type": "display_data"
    },
    {
     "data": {
      "image/png": "[encoded data removed]",
      "text/plain": [
       "<Figure size 432x288 with 1 Axes>"
      ]
     },
     "metadata": {
      "needs_background": "light"
     },
     "output_type": "display_data"
    },
    {
     "data": {
      "image/png": "[encoded data removed]",
      "text/plain": [
       "<Figure size 432x288 with 1 Axes>"
      ]
     },
     "metadata": {
      "needs_background": "light"
     },
     "output_type": "display_data"
    },
    {
     "data": {
      "image/png": "[encoded data removed]",
      "text/plain": [
       "<Figure size 432x288 with 1 Axes>"
      ]
     },
     "metadata": {
      "needs_background": "light"
     },
     "output_type": "display_data"
    },
    {
     "data": {
      "image/png": "[encoded data removed]",
      "text/plain": [
       "<Figure size 432x288 with 1 Axes>"
      ]
     },
     "metadata": {
      "needs_background": "light"
     },
     "output_type": "display_data"
    },
    {
     "data": {
      "image/png": "[encoded data removed]",
      "text/plain": [
       "<Figure size 432x288 with 1 Axes>"
      ]
     },
     "metadata": {
      "needs_background": "light"
     },
     "output_type": "display_data"
    }
   ],
   "source": [
    "for tgt in tgts:\n",
    "    evalres=tgt2evalres[tgt]\n",
    "#     plt.plot(evalres['train']['error'])\n",
    "#     plt.plot(evalres['eval']['error'])\n",
    "#     plt.title(f\"{tgt} error {len(evalres['train']['error'])} rounds\")\n",
    "#     plt.show()\n",
    "#     plt.plot(evalres['train']['auc'])\n",
    "#     plt.plot(evalres['eval']['auc'])\n",
    "#     plt.title(f\"{tgt} auc {len(evalres['train']['auc'])} rounds\")\n",
    "#     plt.show()    \n",
    "    plt.plot(evalres['train']['logloss'])\n",
    "    plt.plot(evalres['eval']['logloss'])\n",
    "    plt.title(f\"{tgt} logloss {len(evalres['train']['logloss'])} rounds\")\n",
    "    plt.show()\n",
    "    plt.plot(evalres['train']['aucpr'])\n",
    "    plt.plot(evalres['eval']['aucpr'])\n",
    "    plt.title(f\"{tgt} aucpr {len(evalres['train']['aucpr'])} rounds\")\n",
    "    plt.show()"
   ]
  },
  {
   "cell_type": "code",
   "execution_count": 40,
   "metadata": {},
   "outputs": [
    {
     "name": "stdout",
     "output_type": "stream",
     "text": [
      "2020-03-20 20:25:08 Retweet\n",
      "2020-03-20 20:25:08 Reply\n",
      "2020-03-20 20:25:08 Like\n",
      "2020-03-20 20:25:08 RTwCmnt\n"
     ]
    }
   ],
   "source": [
    "tgt2prdtr={}\n",
    "tgt2prdvl={}\n",
    "for tgt in tgts:\n",
    "    print(dtnow(), tgt)\n",
    "    bst = tgt2bst[tgt]\n",
    "    tgt2prdtr[tgt] = bst.predict(dtr)\n",
    "    tgt2prdvl[tgt] = bst.predict(dvl)\n",
    "    "
   ]
  },
  {
   "cell_type": "code",
   "execution_count": 41,
   "metadata": {},
   "outputs": [
    {
     "name": "stdout",
     "output_type": "stream",
     "text": [
      "Retweet\n",
      "train rocauc: 0.9690 valid auc: 0.6465\n",
      "train prauc: 0.8617 valid auc: 0.1886\n",
      "train rce: 44.3620 valid rce: 0.3508\n",
      "Reply\n",
      "train rocauc: 0.9897 valid auc: 0.6672\n",
      "train prauc: 0.8359 valid auc: 0.0433\n",
      "train rce: 51.4088 valid rce: -0.7417\n",
      "Like\n",
      "train rocauc: 0.8609 valid auc: 0.7152\n",
      "train prauc: 0.8316 valid auc: 0.6554\n",
      "train rce: 27.9744 valid rce: 9.8282\n",
      "RTwCmnt\n",
      "train rocauc: 0.8791 valid auc: 0.5425\n",
      "train prauc: 0.2339 valid auc: 0.0258\n",
      "train rce: 0.5654 valid rce: -0.2012\n"
     ]
    }
   ],
   "source": [
    "tgt2auc_trn={}\n",
    "tgt2rce_trn={}\n",
    "tgt2auc_val={}\n",
    "tgt2rce_val={}\n",
    "for itgt, tgt in enumerate(tgts):\n",
    "    print(tgt)\n",
    "    prdtr_i, prdvl_i = tgt2prdtr[tgt], tgt2prdvl[tgt]\n",
    "    ytr_i, yvl_i = tgt2ytr[tgt], tgt2yvl[tgt]\n",
    "    scr_rocauc_trn = roc_auc_score(ytr_i, prdtr_i)\n",
    "    scr_rocauc_val = roc_auc_score(yvl_i, prdvl_i)\n",
    "    scr_auc_trn=compute_prauc(prdtr_i, ytr_i)\n",
    "    scr_rce_trn=compute_rce(prdtr_i, ytr_i)\n",
    "    scr_auc_val=compute_prauc(prdvl_i, yvl_i)\n",
    "    scr_rce_val=compute_rce(prdvl_i, yvl_i)\n",
    "\n",
    "    tgt2auc_trn[tgt]=scr_auc_trn\n",
    "    tgt2rce_trn[tgt]=scr_rce_trn\n",
    "    tgt2auc_val[tgt]=scr_auc_val\n",
    "    tgt2rce_val[tgt]=scr_rce_val\n",
    "    \n",
    "    print('train rocauc:', f'{scr_rocauc_trn:.4f}', 'valid auc:', f'{scr_rocauc_val:.4f}', )\n",
    "    print('train prauc:', f'{scr_auc_trn:.4f}', 'valid auc:', f'{scr_auc_val:.4f}', )\n",
    "    print('train rce:', f'{scr_rce_trn:.4f}', 'valid rce:', f'{scr_rce_val:.4f}', )"
   ]
  },
  {
   "cell_type": "code",
   "execution_count": 42,
   "metadata": {},
   "outputs": [
    {
     "data": {
      "text/html": [
       "<div>\n",
       "<style scoped>\n",
       "    .dataframe tbody tr th:only-of-type {\n",
       "        vertical-align: middle;\n",
       "    }\n",
       "\n",
       "    .dataframe tbody tr th {\n",
       "        vertical-align: top;\n",
       "    }\n",
       "\n",
       "    .dataframe thead th {\n",
       "        text-align: right;\n",
       "    }\n",
       "</style>\n",
       "<table border=\"1\" class=\"dataframe\">\n",
       "  <thead>\n",
       "    <tr style=\"text-align: right;\">\n",
       "      <th></th>\n",
       "      <th>0</th>\n",
       "      <th>1</th>\n",
       "      <th>2</th>\n",
       "      <th>3</th>\n",
       "      <th>4</th>\n",
       "      <th>5</th>\n",
       "      <th>6</th>\n",
       "      <th>7</th>\n",
       "    </tr>\n",
       "  </thead>\n",
       "  <tbody>\n",
       "    <tr>\n",
       "      <th>metric</th>\n",
       "      <td>PRAUC Retweet</td>\n",
       "      <td>RCE Retweet</td>\n",
       "      <td>PRAUC Reply</td>\n",
       "      <td>RCE Reply</td>\n",
       "      <td>PRAUC Like</td>\n",
       "      <td>RCE Like</td>\n",
       "      <td>PRAUC RTwCmnt</td>\n",
       "      <td>RCE RTwCmnt</td>\n",
       "    </tr>\n",
       "    <tr>\n",
       "      <th>scrtrn</th>\n",
       "      <td>0.861748</td>\n",
       "      <td>44.362</td>\n",
       "      <td>0.835903</td>\n",
       "      <td>51.4088</td>\n",
       "      <td>0.831615</td>\n",
       "      <td>27.9744</td>\n",
       "      <td>0.233888</td>\n",
       "      <td>0.565399</td>\n",
       "    </tr>\n",
       "    <tr>\n",
       "      <th>scrval</th>\n",
       "      <td>0.188572</td>\n",
       "      <td>0.350788</td>\n",
       "      <td>0.0433342</td>\n",
       "      <td>-0.741687</td>\n",
       "      <td>0.655412</td>\n",
       "      <td>9.82817</td>\n",
       "      <td>0.0258407</td>\n",
       "      <td>-0.20121</td>\n",
       "    </tr>\n",
       "  </tbody>\n",
       "</table>\n",
       "</div>"
      ],
      "text/plain": [
       "                    0            1            2          3           4  \\\n",
       "metric  PRAUC Retweet  RCE Retweet  PRAUC Reply  RCE Reply  PRAUC Like   \n",
       "scrtrn       0.861748       44.362     0.835903    51.4088    0.831615   \n",
       "scrval       0.188572     0.350788    0.0433342  -0.741687    0.655412   \n",
       "\n",
       "               5              6            7  \n",
       "metric  RCE Like  PRAUC RTwCmnt  RCE RTwCmnt  \n",
       "scrtrn   27.9744       0.233888     0.565399  \n",
       "scrval   9.82817      0.0258407     -0.20121  "
      ]
     },
     "execution_count": 42,
     "metadata": {},
     "output_type": "execute_result"
    }
   ],
   "source": [
    "lsttrn=[]\n",
    "lstval=[]\n",
    "for tgt in ['Retweet','Reply','Like','RTwCmnt',]:\n",
    "    lsttrn+=[(f'PRAUC {tgt}',tgt2auc_trn[tgt]),\n",
    "          (f'RCE {tgt}',tgt2rce_trn[tgt])]\n",
    "    lstval+=[(f'PRAUC {tgt}',tgt2auc_val[tgt]),\n",
    "          (f'RCE {tgt}',tgt2rce_val[tgt])]\n",
    "\n",
    "dfscrtrn=pd.DataFrame(lsttrn)\n",
    "dfscrtrn.columns=['metric','scr']\n",
    "dfscrval=pd.DataFrame(lstval)\n",
    "dfscrval.columns=['metric','scr']\n",
    "dfscr = pd.merge(dfscrtrn, dfscrval, on='metric', suffixes=('trn','val'))\n",
    "dfscr.T"
   ]
  },
  {
   "cell_type": "markdown",
   "metadata": {},
   "source": [
    "# infer"
   ]
  },
  {
   "cell_type": "raw",
   "metadata": {},
   "source": [
    "ls -lhS $p_in | grep val"
   ]
  },
  {
   "cell_type": "code",
   "execution_count": 37,
   "metadata": {},
   "outputs": [
    {
     "ename": "KeyboardInterrupt",
     "evalue": "",
     "output_type": "error",
     "traceback": [
      "\u001b[0;31m---------------------------------------------------------------------------\u001b[0m",
      "\u001b[0;31mKeyboardInterrupt\u001b[0m                         Traceback (most recent call last)",
      "\u001b[0;32m<timed exec>\u001b[0m in \u001b[0;36m<module>\u001b[0;34m\u001b[0m\n",
      "\u001b[0;32m/data/anaconda3/envs/rcss20/lib/python3.7/site-packages/pandas/io/parsers.py\u001b[0m in \u001b[0;36mparser_f\u001b[0;34m(filepath_or_buffer, sep, delimiter, header, names, index_col, usecols, squeeze, prefix, mangle_dupe_cols, dtype, engine, converters, true_values, false_values, skipinitialspace, skiprows, skipfooter, nrows, na_values, keep_default_na, na_filter, verbose, skip_blank_lines, parse_dates, infer_datetime_format, keep_date_col, date_parser, dayfirst, cache_dates, iterator, chunksize, compression, thousands, decimal, lineterminator, quotechar, quoting, doublequote, escapechar, comment, encoding, dialect, error_bad_lines, warn_bad_lines, delim_whitespace, low_memory, memory_map, float_precision)\u001b[0m\n\u001b[1;32m    674\u001b[0m         )\n\u001b[1;32m    675\u001b[0m \u001b[0;34m\u001b[0m\u001b[0m\n\u001b[0;32m--> 676\u001b[0;31m         \u001b[0;32mreturn\u001b[0m \u001b[0m_read\u001b[0m\u001b[0;34m(\u001b[0m\u001b[0mfilepath_or_buffer\u001b[0m\u001b[0;34m,\u001b[0m \u001b[0mkwds\u001b[0m\u001b[0;34m)\u001b[0m\u001b[0;34m\u001b[0m\u001b[0;34m\u001b[0m\u001b[0m\n\u001b[0m\u001b[1;32m    677\u001b[0m \u001b[0;34m\u001b[0m\u001b[0m\n\u001b[1;32m    678\u001b[0m     \u001b[0mparser_f\u001b[0m\u001b[0;34m.\u001b[0m\u001b[0m__name__\u001b[0m \u001b[0;34m=\u001b[0m \u001b[0mname\u001b[0m\u001b[0;34m\u001b[0m\u001b[0;34m\u001b[0m\u001b[0m\n",
      "\u001b[0;32m/data/anaconda3/envs/rcss20/lib/python3.7/site-packages/pandas/io/parsers.py\u001b[0m in \u001b[0;36m_read\u001b[0;34m(filepath_or_buffer, kwds)\u001b[0m\n\u001b[1;32m    452\u001b[0m \u001b[0;34m\u001b[0m\u001b[0m\n\u001b[1;32m    453\u001b[0m     \u001b[0;32mtry\u001b[0m\u001b[0;34m:\u001b[0m\u001b[0;34m\u001b[0m\u001b[0;34m\u001b[0m\u001b[0m\n\u001b[0;32m--> 454\u001b[0;31m         \u001b[0mdata\u001b[0m \u001b[0;34m=\u001b[0m \u001b[0mparser\u001b[0m\u001b[0;34m.\u001b[0m\u001b[0mread\u001b[0m\u001b[0;34m(\u001b[0m\u001b[0mnrows\u001b[0m\u001b[0;34m)\u001b[0m\u001b[0;34m\u001b[0m\u001b[0;34m\u001b[0m\u001b[0m\n\u001b[0m\u001b[1;32m    455\u001b[0m     \u001b[0;32mfinally\u001b[0m\u001b[0;34m:\u001b[0m\u001b[0;34m\u001b[0m\u001b[0;34m\u001b[0m\u001b[0m\n\u001b[1;32m    456\u001b[0m         \u001b[0mparser\u001b[0m\u001b[0;34m.\u001b[0m\u001b[0mclose\u001b[0m\u001b[0;34m(\u001b[0m\u001b[0;34m)\u001b[0m\u001b[0;34m\u001b[0m\u001b[0;34m\u001b[0m\u001b[0m\n",
      "\u001b[0;32m/data/anaconda3/envs/rcss20/lib/python3.7/site-packages/pandas/io/parsers.py\u001b[0m in \u001b[0;36mread\u001b[0;34m(self, nrows)\u001b[0m\n\u001b[1;32m   1131\u001b[0m     \u001b[0;32mdef\u001b[0m \u001b[0mread\u001b[0m\u001b[0;34m(\u001b[0m\u001b[0mself\u001b[0m\u001b[0;34m,\u001b[0m \u001b[0mnrows\u001b[0m\u001b[0;34m=\u001b[0m\u001b[0;32mNone\u001b[0m\u001b[0;34m)\u001b[0m\u001b[0;34m:\u001b[0m\u001b[0;34m\u001b[0m\u001b[0;34m\u001b[0m\u001b[0m\n\u001b[1;32m   1132\u001b[0m         \u001b[0mnrows\u001b[0m \u001b[0;34m=\u001b[0m \u001b[0m_validate_integer\u001b[0m\u001b[0;34m(\u001b[0m\u001b[0;34m\"nrows\"\u001b[0m\u001b[0;34m,\u001b[0m \u001b[0mnrows\u001b[0m\u001b[0;34m)\u001b[0m\u001b[0;34m\u001b[0m\u001b[0;34m\u001b[0m\u001b[0m\n\u001b[0;32m-> 1133\u001b[0;31m         \u001b[0mret\u001b[0m \u001b[0;34m=\u001b[0m \u001b[0mself\u001b[0m\u001b[0;34m.\u001b[0m\u001b[0m_engine\u001b[0m\u001b[0;34m.\u001b[0m\u001b[0mread\u001b[0m\u001b[0;34m(\u001b[0m\u001b[0mnrows\u001b[0m\u001b[0;34m)\u001b[0m\u001b[0;34m\u001b[0m\u001b[0;34m\u001b[0m\u001b[0m\n\u001b[0m\u001b[1;32m   1134\u001b[0m \u001b[0;34m\u001b[0m\u001b[0m\n\u001b[1;32m   1135\u001b[0m         \u001b[0;31m# May alter columns / col_dict\u001b[0m\u001b[0;34m\u001b[0m\u001b[0;34m\u001b[0m\u001b[0;34m\u001b[0m\u001b[0m\n",
      "\u001b[0;32m/data/anaconda3/envs/rcss20/lib/python3.7/site-packages/pandas/io/parsers.py\u001b[0m in \u001b[0;36mread\u001b[0;34m(self, nrows)\u001b[0m\n\u001b[1;32m   2035\u001b[0m     \u001b[0;32mdef\u001b[0m \u001b[0mread\u001b[0m\u001b[0;34m(\u001b[0m\u001b[0mself\u001b[0m\u001b[0;34m,\u001b[0m \u001b[0mnrows\u001b[0m\u001b[0;34m=\u001b[0m\u001b[0;32mNone\u001b[0m\u001b[0;34m)\u001b[0m\u001b[0;34m:\u001b[0m\u001b[0;34m\u001b[0m\u001b[0;34m\u001b[0m\u001b[0m\n\u001b[1;32m   2036\u001b[0m         \u001b[0;32mtry\u001b[0m\u001b[0;34m:\u001b[0m\u001b[0;34m\u001b[0m\u001b[0;34m\u001b[0m\u001b[0m\n\u001b[0;32m-> 2037\u001b[0;31m             \u001b[0mdata\u001b[0m \u001b[0;34m=\u001b[0m \u001b[0mself\u001b[0m\u001b[0;34m.\u001b[0m\u001b[0m_reader\u001b[0m\u001b[0;34m.\u001b[0m\u001b[0mread\u001b[0m\u001b[0;34m(\u001b[0m\u001b[0mnrows\u001b[0m\u001b[0;34m)\u001b[0m\u001b[0;34m\u001b[0m\u001b[0;34m\u001b[0m\u001b[0m\n\u001b[0m\u001b[1;32m   2038\u001b[0m         \u001b[0;32mexcept\u001b[0m \u001b[0mStopIteration\u001b[0m\u001b[0;34m:\u001b[0m\u001b[0;34m\u001b[0m\u001b[0;34m\u001b[0m\u001b[0m\n\u001b[1;32m   2039\u001b[0m             \u001b[0;32mif\u001b[0m \u001b[0mself\u001b[0m\u001b[0;34m.\u001b[0m\u001b[0m_first_chunk\u001b[0m\u001b[0;34m:\u001b[0m\u001b[0;34m\u001b[0m\u001b[0;34m\u001b[0m\u001b[0m\n",
      "\u001b[0;32mpandas/_libs/parsers.pyx\u001b[0m in \u001b[0;36mpandas._libs.parsers.TextReader.read\u001b[0;34m()\u001b[0m\n",
      "\u001b[0;32mpandas/_libs/parsers.pyx\u001b[0m in \u001b[0;36mpandas._libs.parsers.TextReader._read_low_memory\u001b[0;34m()\u001b[0m\n",
      "\u001b[0;32mpandas/_libs/parsers.pyx\u001b[0m in \u001b[0;36mpandas._libs.parsers.TextReader._read_rows\u001b[0;34m()\u001b[0m\n",
      "\u001b[0;32mpandas/_libs/parsers.pyx\u001b[0m in \u001b[0;36mpandas._libs.parsers.TextReader._convert_column_data\u001b[0;34m()\u001b[0m\n",
      "\u001b[0;32mpandas/_libs/parsers.pyx\u001b[0m in \u001b[0;36mpandas._libs.parsers.TextReader._convert_tokens\u001b[0;34m()\u001b[0m\n",
      "\u001b[0;32mpandas/_libs/parsers.pyx\u001b[0m in \u001b[0;36mpandas._libs.parsers.TextReader._convert_with_dtype\u001b[0;34m()\u001b[0m\n",
      "\u001b[0;32m/data/anaconda3/envs/rcss20/lib/python3.7/site-packages/pandas/core/dtypes/common.py\u001b[0m in \u001b[0;36mis_categorical_dtype\u001b[0;34m(arr_or_dtype)\u001b[0m\n\u001b[1;32m    540\u001b[0m \u001b[0;34m\u001b[0m\u001b[0m\n\u001b[1;32m    541\u001b[0m \u001b[0;34m\u001b[0m\u001b[0m\n\u001b[0;32m--> 542\u001b[0;31m \u001b[0;32mdef\u001b[0m \u001b[0mis_categorical_dtype\u001b[0m\u001b[0;34m(\u001b[0m\u001b[0marr_or_dtype\u001b[0m\u001b[0;34m)\u001b[0m \u001b[0;34m->\u001b[0m \u001b[0mbool\u001b[0m\u001b[0;34m:\u001b[0m\u001b[0;34m\u001b[0m\u001b[0;34m\u001b[0m\u001b[0m\n\u001b[0m\u001b[1;32m    543\u001b[0m     \"\"\"\n\u001b[1;32m    544\u001b[0m     \u001b[0mCheck\u001b[0m \u001b[0mwhether\u001b[0m \u001b[0man\u001b[0m \u001b[0marray\u001b[0m\u001b[0;34m-\u001b[0m\u001b[0mlike\u001b[0m \u001b[0;32mor\u001b[0m \u001b[0mdtype\u001b[0m \u001b[0;32mis\u001b[0m \u001b[0mof\u001b[0m \u001b[0mthe\u001b[0m \u001b[0mCategorical\u001b[0m \u001b[0mdtype\u001b[0m\u001b[0;34m.\u001b[0m\u001b[0;34m\u001b[0m\u001b[0;34m\u001b[0m\u001b[0m\n",
      "\u001b[0;31mKeyboardInterrupt\u001b[0m: "
     ]
    }
   ],
   "source": [
    "%%time\n",
    "dftst=pd.read_csv(\n",
    "    f'{p_in}/val_{valtmstmp}.tsv',\n",
    "#     f'{p_in}/val_259A6F6DFD672CB1F883CBEC01B99F2D_1584405047.tsv',\n",
    "    sep='\\x01', header=None, names=cols_val,)\n"
   ]
  },
  {
   "cell_type": "code",
   "execution_count": 38,
   "metadata": {
    "scrolled": false
   },
   "outputs": [
    {
     "ename": "NameError",
     "evalue": "name 'dftst' is not defined",
     "output_type": "error",
     "traceback": [
      "\u001b[0;31m---------------------------------------------------------------------------\u001b[0m",
      "\u001b[0;31mNameError\u001b[0m                                 Traceback (most recent call last)",
      "\u001b[0;32m<timed exec>\u001b[0m in \u001b[0;36m<module>\u001b[0;34m\u001b[0m\n",
      "\u001b[0;31mNameError\u001b[0m: name 'dftst' is not defined"
     ]
    }
   ],
   "source": [
    "%%time\n",
    "dftst = prp_df(dftst, istrn=False)"
   ]
  },
  {
   "cell_type": "code",
   "execution_count": 24,
   "metadata": {},
   "outputs": [
    {
     "name": "stdout",
     "output_type": "stream",
     "text": [
      "2020-03-20 16:28:21 Retweet\n",
      "2020-03-20 16:28:34 Reply\n",
      "2020-03-20 16:28:39 Like\n",
      "2020-03-20 16:29:33 RTwCmnt\n",
      "CPU times: user 19min 49s, sys: 12.8 s, total: 20min 2s\n",
      "Wall time: 1min 53s\n"
     ]
    }
   ],
   "source": [
    "%%time\n",
    "dtst = xgb.DMatrix(dftst[cols_feat], feature_names=cols_feat)\n",
    "tgt2prdtst={}\n",
    "for tgt in tgts:\n",
    "    print(dtnow(), tgt)\n",
    "    bst = tgt2bst[tgt]\n",
    "    tgt2prdtst[tgt] = bst.predict(dtst)"
   ]
  },
  {
   "cell_type": "code",
   "execution_count": 25,
   "metadata": {},
   "outputs": [],
   "source": [
    "dfsub_ids = dftst[['twtid','u2id',]]\n",
    "\n",
    "tgt2dfsub = {}\n",
    "for tgt,prdtst in tgt2prdtst.items():\n",
    "    dfsub = dfsub_ids.copy()\n",
    "    dfsub['scr'] = prdtst\n",
    "    tgt2dfsub[tgt]=dfsub"
   ]
  },
  {
   "cell_type": "code",
   "execution_count": 26,
   "metadata": {},
   "outputs": [
    {
     "name": "stdout",
     "output_type": "stream",
     "text": [
      "2020-03-20 16:29:38 Retweet\n",
      "2020-03-20 16:30:34 Reply\n",
      "2020-03-20 16:31:31 Like\n",
      "2020-03-20 16:32:26 RTwCmnt\n",
      "CPU times: user 3min 37s, sys: 6.78 s, total: 3min 44s\n",
      "Wall time: 3min 45s\n"
     ]
    }
   ],
   "source": [
    "%%time\n",
    "for tgt, dfsub in tgt2dfsub.items():\n",
    "    print(dtnow(), tgt)\n",
    "    dfsub.to_csv(f'{p_out}/{tgt}__{valtmstmp}__{PRFX}.csv',index=False,header=False)"
   ]
  },
  {
   "cell_type": "code",
   "execution_count": null,
   "metadata": {},
   "outputs": [],
   "source": []
  }
 ],
 "metadata": {
  "kernelspec": {
   "display_name": "rcss20",
   "language": "python",
   "name": "rcss20"
  },
  "language_info": {
   "codemirror_mode": {
    "name": "ipython",
    "version": 3
   },
   "file_extension": ".py",
   "mimetype": "text/x-python",
   "name": "python",
   "nbconvert_exporter": "python",
   "pygments_lexer": "ipython3",
   "version": "3.7.6"
  },
  "toc": {
   "base_numbering": 1,
   "nav_menu": {},
   "number_sections": true,
   "sideBar": true,
   "skip_h1_title": false,
   "title_cell": "Table of Contents",
   "title_sidebar": "Contents",
   "toc_cell": false,
   "toc_position": {},
   "toc_section_display": true,
   "toc_window_display": true
  }
 },
 "nbformat": 4,
 "nbformat_minor": 4
}
