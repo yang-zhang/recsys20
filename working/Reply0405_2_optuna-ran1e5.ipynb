{
 "cells": [
  {
   "cell_type": "markdown",
   "metadata": {},
   "source": [
    "# start"
   ]
  },
  {
   "cell_type": "markdown",
   "metadata": {},
   "source": [
    "- http://localhost:8081/notebooks/git/recsys20/working/0324_6_3_lgb_feat_engr-1e7.ipynb\n",
    "- http://localhost:8081/notebooks/git/recsys20/working/mdl0404_1__xgb_mean_encode.ipynb\n",
    "- http://localhost:8081/notebooks/git/recsys20/working/eda_0404_1.ipynb#v.s.-target\n",
    "- https://www.kaggle.com/discdiver/category-encoders-examples"
   ]
  },
  {
   "cell_type": "code",
   "execution_count": 8,
   "metadata": {},
   "outputs": [
    {
     "name": "stdout",
     "output_type": "stream",
     "text": [
      "train_total 148,075,238, test_total 14,000,000\n",
      "['2020-03-17 02:32:24', '2020-04-06 00:35:47']\n",
      "['2020-02-06 00:00:00', '2020-02-12 23:59:59']\n",
      "['2020-02-13 00:00:00', '2020-02-19 23:59:59']\n"
     ]
    }
   ],
   "source": [
    "TGT='Reply'\n",
    "PRFX='Reply0405_2'\n",
    "\n",
    "trntmstmp=1584412344\n",
    "tsttmstmp=1586133347\n",
    "\n",
    "tm_trn_min,tm_trn_max=(1580947200, 1581551999)\n",
    "tm_tst_min,tm_tst_max=(1581552000, 1582156799)\n",
    "\n",
    "SEED=101\n",
    "\n",
    "valsz = int(1e5)#int(1e5)\n",
    "trnsz = int(1e5)#int(5e5)\n",
    "\n",
    "train_total=148075238\n",
    "test_total=int(1.4e7)\n",
    "print(f'train_total {train_total:,}, test_total {test_total:,}')\n",
    "\n",
    "\n",
    "import datetime\n",
    "def showtm(tm): return datetime.datetime.fromtimestamp(tm).strftime('%Y-%m-%d %H:%M:%S')\n",
    "print([showtm(tm) for tm in (trntmstmp, tsttmstmp)])\n",
    "print([showtm(tm) for tm in (tm_trn_min,tm_trn_max)])\n",
    "print([showtm(tm) for tm in (tm_tst_min,tm_tst_max)])"
   ]
  },
  {
   "cell_type": "markdown",
   "metadata": {},
   "source": [
    "# setup"
   ]
  },
  {
   "cell_type": "code",
   "execution_count": 9,
   "metadata": {},
   "outputs": [
    {
     "name": "stdout",
     "output_type": "stream",
     "text": [
      "TCOL reply\n",
      "{'Retweet': 'retwt', 'Reply': 'reply', 'Like': 'like', 'RTwCmnt': 'retwt_cmmnt'}\n"
     ]
    }
   ],
   "source": [
    "from tqdm import tqdm\n",
    "import time\n",
    "from pathlib import Path\n",
    "from collections import Counter,defaultdict\n",
    "from sklearn.model_selection import train_test_split\n",
    "import pandas as pd\n",
    "import numpy as np\n",
    "import matplotlib.pyplot as plt\n",
    "from sklearn.metrics import accuracy_score, roc_auc_score, roc_curve, auc, precision_recall_curve\n",
    "import pickle\n",
    "# import xgboost as xgb\n",
    "# import lightgbm as lgb\n",
    "import category_encoders as ce\n",
    "import gc\n",
    "\n",
    "import optuna\n",
    "# optuna.logging.CRITICAL, optuna.logging.FATAL\n",
    "# optuna.logging.ERROR\n",
    "# optuna.logging.WARNING, optuna.logging.WARN\n",
    "# optuna.logging.INFO\n",
    "# optuna.logging.DEBUG\n",
    "optuna.logging.set_verbosity(optuna.logging.ERROR)\n",
    "import optuna.integration.lightgbm as lgb\n",
    "optuna.logging.set_verbosity(optuna.logging.ERROR)\n",
    "\n",
    "\n",
    "pd.set_option('display.max_rows', 500)\n",
    "pd.set_option('display.max_columns', 500)\n",
    "\n",
    "\n",
    "import datetime\n",
    "def dtnow(): return datetime.datetime.now().strftime('%Y-%m-%d %H:%M:%S')\n",
    "\n",
    "def iou(s1,s2):\n",
    "    return len(s1&s2) / len(s1|s2)\n",
    "\n",
    "HOME='/data/git/recsys20'\n",
    "p_in=f'{HOME}/input'\n",
    "p_out=f'{HOME}/output/{PRFX}'\n",
    "Path(p_out).mkdir(exist_ok=True, parents=True)\n",
    "\n",
    "from sklearn.metrics import precision_recall_curve, auc, log_loss\n",
    "\n",
    "def compute_prauc(pred, gt):\n",
    "    prec, recall, thresh = precision_recall_curve(gt, pred)\n",
    "    prauc = auc(recall, prec)\n",
    "    return prauc\n",
    "\n",
    "def calculate_ctr(gt):\n",
    "    positive = len([x for x in gt if x == 1])\n",
    "    ctr = positive/float(len(gt))\n",
    "    return ctr\n",
    "\n",
    "def compute_rce(pred, gt):\n",
    "    cross_entropy = log_loss(gt, pred)\n",
    "    data_ctr = calculate_ctr(gt)\n",
    "    strawman_cross_entropy = log_loss(gt, [data_ctr for _ in range(len(gt))])\n",
    "    return (1.0 - cross_entropy/strawman_cross_entropy)*100.0\n",
    "\n",
    "# https://towardsdatascience.com/how-to-calibrate-undersampled-model-scores-8f3319c1ea5b\n",
    "# How to use the function?\n",
    "# Let’s say your goal is to generate a model that shows the credit default probabilities and your original \n",
    "# training data has 50,000 rows with only 500 of them labeled as target class. When you sample your non-target \n",
    "# instances randomly and reduce the total row count to 10,000, while conserving 500 target rows, our calibration\n",
    "# function becomes:\n",
    "# calibration(model_results, 50000, 500, 10000, 500)\n",
    "# Here model_results is your model probability output array. After you train your model and put the results in it, your function is ready to use. \n",
    "def calibration(data, train_pop, target_pop, sampled_train_pop, sampled_target_pop):\n",
    "    calibrated_data = ((data * (target_pop / train_pop) / (sampled_target_pop / sampled_train_pop)) /\n",
    "    (((1 - data) * (1 - target_pop / train_pop) / (1 - sampled_target_pop / sampled_train_pop)) +\n",
    "     (data * (target_pop / train_pop) / (sampled_target_pop / sampled_train_pop))))\n",
    "    return calibrated_data\n",
    "\n",
    "\n",
    "cols=['toks','hshtgs','twtid','media','links','domns','twttyp','lang','tm','u1id','u1_fllwer_cnt','u1_fllwing_cnt','u1_vrfed','u1_create_tm','u2id','u2_fllwer_cnt','u2_fllwng_cnt','u2_vrfed','u2_create_tm','u1_fllw_u2','reply_tm','retwt_tm','retwt_cmmnt_tm','like_tm',]\n",
    "\n",
    "cols_val = cols[:-4]\n",
    "cols_tgt_tmstmp=[ 'retwt_tm', 'reply_tm', 'like_tm', 'retwt_cmmnt_tm',]\n",
    "cols_tgt=[o.split('_tm')[0] for o in cols_tgt_tmstmp]\n",
    "tgts             = ['Retweet','Reply','Like','RTwCmnt',]\n",
    "assert cols_tgt == ['retwt',  'reply','like','retwt_cmmnt',]\n",
    "tgt2col = dict(zip(tgts, cols_tgt))\n",
    "TCOL=tgt2col[TGT]\n",
    "print('TCOL', TCOL)\n",
    "print(tgt2col)"
   ]
  },
  {
   "cell_type": "markdown",
   "metadata": {},
   "source": [
    "# prep"
   ]
  },
  {
   "cell_type": "code",
   "execution_count": 10,
   "metadata": {},
   "outputs": [],
   "source": [
    "def prp_tgt(df):\n",
    "    df[cols_tgt]=df[cols_tgt_tmstmp].notna()\n",
    "    df.drop(columns=cols_tgt_tmstmp, inplace=True)\n",
    "    display(df[cols_tgt].mean())"
   ]
  },
  {
   "cell_type": "code",
   "execution_count": 11,
   "metadata": {
    "scrolled": false
   },
   "outputs": [
    {
     "name": "stdout",
     "output_type": "stream",
     "text": [
      "(100000, 24)\n"
     ]
    },
    {
     "data": {
      "text/plain": [
       "retwt          0.11211\n",
       "reply          0.02754\n",
       "like           0.43929\n",
       "retwt_cmmnt    0.00801\n",
       "dtype: float64"
      ]
     },
     "metadata": {},
     "output_type": "display_data"
    },
    {
     "name": "stdout",
     "output_type": "stream",
     "text": [
      "CPU times: user 749 ms, sys: 72.1 ms, total: 821 ms\n",
      "Wall time: 819 ms\n"
     ]
    }
   ],
   "source": [
    "%%time\n",
    "dfval = pd.read_csv(f'{p_in}/trn_{trntmstmp}.tsv',sep='\\x01',header=None,names=cols,nrows=valsz)\n",
    "print(dfval.shape)\n",
    "prp_tgt(dfval)"
   ]
  },
  {
   "cell_type": "markdown",
   "metadata": {},
   "source": [
    "## maybe oversample"
   ]
  },
  {
   "cell_type": "code",
   "execution_count": 12,
   "metadata": {},
   "outputs": [],
   "source": [
    "# df = pd.read_csv(f'{p_in}/trn_{trntmstmp}.tsv',sep='\\x01',header=None,names=cols,nrows=5)\n",
    "# dfval = pd.read_csv(f'{p_in}/trn_{trntmstmp}.tsv',sep='\\x01',header=None,names=cols,nrows=2)\n",
    "# dftrn = pd.read_csv(f'{p_in}/trn_{trntmstmp}.tsv',sep='\\x01',header=None,names=cols,skiprows=2,nrows=3)\n",
    "# display(df.twtid)\n",
    "# display(dfval.twtid)\n",
    "# display(dftrn.twtid)\n",
    "\n",
    "# 0    D4D1EBDE74F74C5DA529959AF979625C\n",
    "# 1    BFB529DAB6D384EB83E899A72AB3830D\n",
    "# 2    519078C7834E9642508F72A6C2D0F3B7\n",
    "# 3    52AAE9E33EFAC8C478C57B31A9E31ED1\n",
    "# 4    89C1298C55EB3D68E2784F0BFB69E6F8\n",
    "# Name: twtid, dtype: object\n",
    "# 0    D4D1EBDE74F74C5DA529959AF979625C\n",
    "# 1    BFB529DAB6D384EB83E899A72AB3830D\n",
    "# Name: twtid, dtype: object\n",
    "# 0    519078C7834E9642508F72A6C2D0F3B7\n",
    "# 1    52AAE9E33EFAC8C478C57B31A9E31ED1\n",
    "# 2    89C1298C55EB3D68E2784F0BFB69E6F8\n",
    "# Name: twtid, dtype: object"
   ]
  },
  {
   "cell_type": "code",
   "execution_count": 13,
   "metadata": {
    "scrolled": true
   },
   "outputs": [
    {
     "name": "stdout",
     "output_type": "stream",
     "text": [
      "(370000, 24)\n"
     ]
    },
    {
     "data": {
      "text/plain": [
       "retwt          0.112570\n",
       "reply          0.028143\n",
       "like           0.438841\n",
       "retwt_cmmnt    0.007565\n",
       "dtype: float64"
      ]
     },
     "metadata": {},
     "output_type": "display_data"
    },
    {
     "name": "stdout",
     "output_type": "stream",
     "text": [
      "CPU times: user 2.75 s, sys: 333 ms, total: 3.08 s\n",
      "Wall time: 3.08 s\n"
     ]
    }
   ],
   "source": [
    "%%time\n",
    "if TGT in ('Retweet','Like'): trnpop=trnsz\n",
    "if TGT=='Reply': trnpop=trnsz*3.7\n",
    "if TGT=='RTwCmnt': trnpop=trnsz*11.5\n",
    "assert trnpop<train_total\n",
    "\n",
    "dftrn = pd.read_csv(f'{p_in}/trn_{trntmstmp}.tsv',sep='\\x01',header=None,names=cols,\n",
    "                     skiprows=valsz, nrows=trnpop)\n",
    "print(dftrn.shape)\n",
    "prp_tgt(dftrn)"
   ]
  },
  {
   "cell_type": "code",
   "execution_count": 14,
   "metadata": {
    "scrolled": true
   },
   "outputs": [
    {
     "name": "stdout",
     "output_type": "stream",
     "text": [
      "(100000, 24) 0.10413\n",
      "370000 10413 100000 10413\n"
     ]
    },
    {
     "data": {
      "text/html": [
       "<div>\n",
       "<style scoped>\n",
       "    .dataframe tbody tr th:only-of-type {\n",
       "        vertical-align: middle;\n",
       "    }\n",
       "\n",
       "    .dataframe tbody tr th {\n",
       "        vertical-align: top;\n",
       "    }\n",
       "\n",
       "    .dataframe thead th {\n",
       "        text-align: right;\n",
       "    }\n",
       "</style>\n",
       "<table border=\"1\" class=\"dataframe\">\n",
       "  <thead>\n",
       "    <tr style=\"text-align: right;\">\n",
       "      <th></th>\n",
       "      <th>toks</th>\n",
       "      <th>hshtgs</th>\n",
       "      <th>twtid</th>\n",
       "      <th>media</th>\n",
       "      <th>links</th>\n",
       "      <th>domns</th>\n",
       "      <th>twttyp</th>\n",
       "      <th>lang</th>\n",
       "      <th>tm</th>\n",
       "      <th>u1id</th>\n",
       "      <th>u1_fllwer_cnt</th>\n",
       "      <th>u1_fllwing_cnt</th>\n",
       "      <th>u1_vrfed</th>\n",
       "      <th>u1_create_tm</th>\n",
       "      <th>u2id</th>\n",
       "      <th>u2_fllwer_cnt</th>\n",
       "      <th>u2_fllwng_cnt</th>\n",
       "      <th>u2_vrfed</th>\n",
       "      <th>u2_create_tm</th>\n",
       "      <th>u1_fllw_u2</th>\n",
       "      <th>retwt</th>\n",
       "      <th>reply</th>\n",
       "      <th>like</th>\n",
       "      <th>retwt_cmmnt</th>\n",
       "    </tr>\n",
       "  </thead>\n",
       "  <tbody>\n",
       "    <tr>\n",
       "      <th>5</th>\n",
       "      <td>101\\t1434\\t107854\\t18260\\t31904\\t111431\\t74759...</td>\n",
       "      <td>NaN</td>\n",
       "      <td>0EB15633A8CC0A6E3917C272F43E6DF3</td>\n",
       "      <td>NaN</td>\n",
       "      <td>NaN</td>\n",
       "      <td>NaN</td>\n",
       "      <td>TopLevel</td>\n",
       "      <td>022EC308651FACB02794A8147AEE1B78</td>\n",
       "      <td>1581218899</td>\n",
       "      <td>A7E00C86B4E3709D589754A51042A360</td>\n",
       "      <td>1198215</td>\n",
       "      <td>662</td>\n",
       "      <td>True</td>\n",
       "      <td>1246548812</td>\n",
       "      <td>016212C070A76EAB37E8ED93CA509BA9</td>\n",
       "      <td>0</td>\n",
       "      <td>42</td>\n",
       "      <td>False</td>\n",
       "      <td>1578271262</td>\n",
       "      <td>False</td>\n",
       "      <td>False</td>\n",
       "      <td>True</td>\n",
       "      <td>False</td>\n",
       "      <td>False</td>\n",
       "    </tr>\n",
       "    <tr>\n",
       "      <th>51</th>\n",
       "      <td>101\\t10473\\t10116\\t10132\\t12603\\t97953\\t25307\\...</td>\n",
       "      <td>NaN</td>\n",
       "      <td>7C71C144E7B9F2D87F1F4DDB40AB1C49</td>\n",
       "      <td>NaN</td>\n",
       "      <td>NaN</td>\n",
       "      <td>NaN</td>\n",
       "      <td>TopLevel</td>\n",
       "      <td>2996EB2FE8162C076D070A4C8D6532CD</td>\n",
       "      <td>1581203618</td>\n",
       "      <td>B0CBECD53C3B945C875C55DDFF56D13F</td>\n",
       "      <td>1424</td>\n",
       "      <td>854</td>\n",
       "      <td>False</td>\n",
       "      <td>1394906655</td>\n",
       "      <td>01625341E5A48963E5AA7DFFDC4436D4</td>\n",
       "      <td>643</td>\n",
       "      <td>327</td>\n",
       "      <td>False</td>\n",
       "      <td>1372760933</td>\n",
       "      <td>True</td>\n",
       "      <td>False</td>\n",
       "      <td>True</td>\n",
       "      <td>False</td>\n",
       "      <td>False</td>\n",
       "    </tr>\n",
       "    <tr>\n",
       "      <th>63</th>\n",
       "      <td>101\\t56898\\t137\\t24362\\t131\\t100\\t196\\t36351\\t...</td>\n",
       "      <td>NaN</td>\n",
       "      <td>ADCF033A7C7087C1506E2BC3E2D8F092</td>\n",
       "      <td>NaN</td>\n",
       "      <td>NaN</td>\n",
       "      <td>NaN</td>\n",
       "      <td>Retweet</td>\n",
       "      <td>717293301FE296B0B61950D041485825</td>\n",
       "      <td>1581258397</td>\n",
       "      <td>ECD90FC37F0A7C15C82834FDDEEDC21A</td>\n",
       "      <td>1753</td>\n",
       "      <td>811</td>\n",
       "      <td>False</td>\n",
       "      <td>1568347799</td>\n",
       "      <td>01625CCEC5A4C322FC247DB9E223CC08</td>\n",
       "      <td>147</td>\n",
       "      <td>1355</td>\n",
       "      <td>False</td>\n",
       "      <td>1355850070</td>\n",
       "      <td>False</td>\n",
       "      <td>False</td>\n",
       "      <td>True</td>\n",
       "      <td>False</td>\n",
       "      <td>False</td>\n",
       "    </tr>\n",
       "    <tr>\n",
       "      <th>75</th>\n",
       "      <td>101\\t12441\\t105702\\t793\\t61783\\t34022\\t60578\\t...</td>\n",
       "      <td>NaN</td>\n",
       "      <td>7EB0824DDA3D28844CC0FF65B7C4AA08</td>\n",
       "      <td>NaN</td>\n",
       "      <td>NaN</td>\n",
       "      <td>NaN</td>\n",
       "      <td>TopLevel</td>\n",
       "      <td>167115458A0DBDFF7E9C0C53A83BAC9B</td>\n",
       "      <td>1581271814</td>\n",
       "      <td>D905F31F909CC63C2BBEB7F6B43487FE</td>\n",
       "      <td>175998</td>\n",
       "      <td>116</td>\n",
       "      <td>False</td>\n",
       "      <td>1466830888</td>\n",
       "      <td>01626B64A2570C2807AB97716262FBA9</td>\n",
       "      <td>90</td>\n",
       "      <td>139</td>\n",
       "      <td>False</td>\n",
       "      <td>1364278366</td>\n",
       "      <td>False</td>\n",
       "      <td>False</td>\n",
       "      <td>True</td>\n",
       "      <td>False</td>\n",
       "      <td>False</td>\n",
       "    </tr>\n",
       "    <tr>\n",
       "      <th>83</th>\n",
       "      <td>101\\t69532\\t10107\\t12372\\t10160\\t19048\\t136\\t1...</td>\n",
       "      <td>NaN</td>\n",
       "      <td>0A95516F028EBFF6B551DB32C4B2D1B5</td>\n",
       "      <td>Video</td>\n",
       "      <td>NaN</td>\n",
       "      <td>NaN</td>\n",
       "      <td>TopLevel</td>\n",
       "      <td>ECED8A16BE2A5E8871FD55F4842F16B1</td>\n",
       "      <td>1581214010</td>\n",
       "      <td>88E80BAB56E6F59E4EF012A8B12D3BAE</td>\n",
       "      <td>8825</td>\n",
       "      <td>8024</td>\n",
       "      <td>False</td>\n",
       "      <td>1557262802</td>\n",
       "      <td>0162759D8908AA8C849F06086A023D85</td>\n",
       "      <td>26265</td>\n",
       "      <td>24215</td>\n",
       "      <td>False</td>\n",
       "      <td>1557422269</td>\n",
       "      <td>True</td>\n",
       "      <td>False</td>\n",
       "      <td>True</td>\n",
       "      <td>False</td>\n",
       "      <td>False</td>\n",
       "    </tr>\n",
       "  </tbody>\n",
       "</table>\n",
       "</div>"
      ],
      "text/plain": [
       "                                                 toks hshtgs  \\\n",
       "5   101\\t1434\\t107854\\t18260\\t31904\\t111431\\t74759...    NaN   \n",
       "51  101\\t10473\\t10116\\t10132\\t12603\\t97953\\t25307\\...    NaN   \n",
       "63  101\\t56898\\t137\\t24362\\t131\\t100\\t196\\t36351\\t...    NaN   \n",
       "75  101\\t12441\\t105702\\t793\\t61783\\t34022\\t60578\\t...    NaN   \n",
       "83  101\\t69532\\t10107\\t12372\\t10160\\t19048\\t136\\t1...    NaN   \n",
       "\n",
       "                               twtid  media links domns    twttyp  \\\n",
       "5   0EB15633A8CC0A6E3917C272F43E6DF3    NaN   NaN   NaN  TopLevel   \n",
       "51  7C71C144E7B9F2D87F1F4DDB40AB1C49    NaN   NaN   NaN  TopLevel   \n",
       "63  ADCF033A7C7087C1506E2BC3E2D8F092    NaN   NaN   NaN   Retweet   \n",
       "75  7EB0824DDA3D28844CC0FF65B7C4AA08    NaN   NaN   NaN  TopLevel   \n",
       "83  0A95516F028EBFF6B551DB32C4B2D1B5  Video   NaN   NaN  TopLevel   \n",
       "\n",
       "                                lang          tm  \\\n",
       "5   022EC308651FACB02794A8147AEE1B78  1581218899   \n",
       "51  2996EB2FE8162C076D070A4C8D6532CD  1581203618   \n",
       "63  717293301FE296B0B61950D041485825  1581258397   \n",
       "75  167115458A0DBDFF7E9C0C53A83BAC9B  1581271814   \n",
       "83  ECED8A16BE2A5E8871FD55F4842F16B1  1581214010   \n",
       "\n",
       "                                u1id  u1_fllwer_cnt  u1_fllwing_cnt  u1_vrfed  \\\n",
       "5   A7E00C86B4E3709D589754A51042A360        1198215             662      True   \n",
       "51  B0CBECD53C3B945C875C55DDFF56D13F           1424             854     False   \n",
       "63  ECD90FC37F0A7C15C82834FDDEEDC21A           1753             811     False   \n",
       "75  D905F31F909CC63C2BBEB7F6B43487FE         175998             116     False   \n",
       "83  88E80BAB56E6F59E4EF012A8B12D3BAE           8825            8024     False   \n",
       "\n",
       "    u1_create_tm                              u2id  u2_fllwer_cnt  \\\n",
       "5     1246548812  016212C070A76EAB37E8ED93CA509BA9              0   \n",
       "51    1394906655  01625341E5A48963E5AA7DFFDC4436D4            643   \n",
       "63    1568347799  01625CCEC5A4C322FC247DB9E223CC08            147   \n",
       "75    1466830888  01626B64A2570C2807AB97716262FBA9             90   \n",
       "83    1557262802  0162759D8908AA8C849F06086A023D85          26265   \n",
       "\n",
       "    u2_fllwng_cnt  u2_vrfed  u2_create_tm  u1_fllw_u2  retwt  reply   like  \\\n",
       "5              42     False    1578271262       False  False   True  False   \n",
       "51            327     False    1372760933        True  False   True  False   \n",
       "63           1355     False    1355850070       False  False   True  False   \n",
       "75            139     False    1364278366       False  False   True  False   \n",
       "83          24215     False    1557422269        True  False   True  False   \n",
       "\n",
       "    retwt_cmmnt  \n",
       "5         False  \n",
       "51        False  \n",
       "63        False  \n",
       "75        False  \n",
       "83        False  "
      ]
     },
     "metadata": {},
     "output_type": "display_data"
    },
    {
     "data": {
      "text/plain": [
       "Index(['toks', 'hshtgs', 'twtid', 'media', 'links', 'domns', 'twttyp', 'lang',\n",
       "       'tm', 'u1id', 'u1_fllwer_cnt', 'u1_fllwing_cnt', 'u1_vrfed',\n",
       "       'u1_create_tm', 'u2id', 'u2_fllwer_cnt', 'u2_fllwng_cnt', 'u2_vrfed',\n",
       "       'u2_create_tm', 'u1_fllw_u2', 'retwt', 'reply', 'like', 'retwt_cmmnt'],\n",
       "      dtype='object')"
      ]
     },
     "metadata": {},
     "output_type": "display_data"
    }
   ],
   "source": [
    "train_pop=len(dftrn)\n",
    "sampled_train_pop=trnsz\n",
    "idx_pos = np.where(dftrn[TCOL])[0]\n",
    "target_pop=sampled_target_pop=len(idx_pos)\n",
    "if TGT in ('Reply','RTwCmnt'):\n",
    "    idx_neg0 = np.where(~dftrn[TCOL])[0]\n",
    "    idx_neg = np.random.choice(idx_neg0, trnsz-len(idx_pos), replace=False)\n",
    "    idx = np.concatenate([idx_pos,idx_neg])\n",
    "    dftrn = dftrn.iloc[idx].copy()\n",
    "print(dftrn.shape, dftrn[TCOL].mean())\n",
    "print(train_pop, target_pop, sampled_train_pop, sampled_target_pop)\n",
    "\n",
    "display(dftrn.head())\n",
    "display(dftrn.columns)"
   ]
  },
  {
   "cell_type": "markdown",
   "metadata": {},
   "source": [
    "## prep and features"
   ]
  },
  {
   "cell_type": "code",
   "execution_count": 15,
   "metadata": {},
   "outputs": [],
   "source": [
    "def prp_df(df, tm_max):\n",
    "    '''\n",
    "    tm_max = tm_trn_max for train tm_tst_max for test\n",
    "    '''\n",
    "    lendf = len(df)\n",
    "    print(dtnow(), 'start')\n",
    "    \n",
    "    #counts\n",
    "    df['len_toks'] = df.toks.apply(lambda x: len(x.split('\\t')))\n",
    "    df.drop(columns=['toks'], inplace=True)    \n",
    "    for m in ['Photo', 'Video', 'GIF']:\n",
    "        df[f'n_media_{m}'] = df['media'].fillna('').apply(lambda x: x.split('\\t').count(m))\n",
    "    tgnms = ['hshtgs','media', 'links', 'domns',]\n",
    "    for tgnm in tgnms:\n",
    "        df[f'has_{tgnm}']=df[tgnm].notna()\n",
    "        df[f'lst_{tgnm}'] = df[tgnm].fillna('').apply(lambda x: x.split('\\t') if len(x) else [])\n",
    "        df[f'n_{tgnm}'] = df[f'lst_{tgnm}'].apply(len)  \n",
    "    df.drop(columns=['has_links','n_links'], inplace=True) #duplicates has_domns,n_domns \n",
    "    \n",
    "    #time\n",
    "    dt = pd.to_datetime(df.tm, unit='s')\n",
    "    df['dayofweek'] = dt.dt.dayofweek\n",
    "    df['hour'] = dt.dt.hour\n",
    "    \n",
    "    df['tmdlta_u2u1']  = df.u2_create_tm - df.u1_create_tm\n",
    "    df['tmdlta_twtu1'] = df.tm - df.u1_create_tm\n",
    "    df['tmdlta_twtu2'] = df.tm - df.u2_create_tm\n",
    "\n",
    "    df['twt_age']   = tm_max-df.tm\n",
    "    df['u1_age']    = tm_max-df.u1_create_tm\n",
    "    df['u2_age']    = tm_max-df.u2_create_tm\n",
    "    df.drop(columns=['tm', 'u1_create_tm', 'u2_create_tm'], inplace=True)\n",
    "\n",
    "    #time derived\n",
    "    df['u1_fllwer_cnt_by_age'] = df.u1_fllwer_cnt / df.u1_age\n",
    "    df['u1_fllwng_cnt_by_age'] = df.u2_fllwng_cnt / df.u2_age\n",
    "    \n",
    "    #interaction\n",
    "    df['u1u2']=df.u1id+'_'+df.u2id\n",
    "    df['langhour']=df.lang+'_'+df.hour.astype(str)\n",
    "    \n",
    "\n",
    "    #freq of feature values\n",
    "    print(dtnow(), 'freq of columns using CountEncoder')\n",
    "    encoder = ce.CountEncoder()\n",
    "    encoded = encoder.fit_transform(\n",
    "    df[['twtid', 'twttyp', 'lang', 'u1id', 'u1_fllwing_cnt', 'u1_vrfed', 'u2id', 'u2_fllwer_cnt', 'u2_vrfed', 'u1_fllw_u2', \n",
    "       'n_media_Photo', 'n_media_Video', 'n_media_GIF', \n",
    "       'has_hshtgs', 'n_hshtgs', 'has_media', 'n_media','has_domns', 'n_domns', \n",
    "       'dayofweek', 'hour', 'u1u2', 'langhour']].astype(object))\n",
    "    encoded = encoded.astype(int)/lendf\n",
    "    encoded.columns = [f'frq_{col}' for col in encoded.columns]\n",
    "    df = pd.concat([df,encoded],1)\n",
    "    \n",
    "    #freq of tgnm values\n",
    "    print(dtnow(), 'freq of tags')\n",
    "    for tgnm in tgnms:\n",
    "        vs = [j for i in df[f'lst_{tgnm}'] for j in i]\n",
    "        cnt = Counter(vs)\n",
    "        frq = {k:v/lendf for k,v in cnt.items()}\n",
    "        df[f'sumfrq_{tgnm}']=df[f'lst_{tgnm}'].apply(lambda x: sum([frq.get(o,0) for o in x]))\n",
    "        df[f'maxfrq_{tgnm}']=df[f'lst_{tgnm}'].apply(lambda x: max([frq.get(o,0) for o in x]) if len(x) else 0)\n",
    "    df.drop(columns=tgnms+[f'lst_{tgnm}' for tgnm in tgnms],inplace=True)\n",
    "\n",
    "    print(dtnow(), 'done')\n",
    "    return df"
   ]
  },
  {
   "cell_type": "code",
   "execution_count": 16,
   "metadata": {},
   "outputs": [
    {
     "name": "stdout",
     "output_type": "stream",
     "text": [
      "2020-04-05 19:56:13 start\n",
      "2020-04-05 19:56:14 freq of columns using CountEncoder\n"
     ]
    },
    {
     "name": "stderr",
     "output_type": "stream",
     "text": [
      "/data/anaconda3/envs/rcss20/lib/python3.7/site-packages/category_encoders/count.py:255: FutureWarning: The pandas.np module is deprecated and will be removed from pandas in a future version. Import numpy directly instead\n",
      "  X.loc[:, self.cols] = X.fillna(value=pd.np.nan)\n"
     ]
    },
    {
     "name": "stdout",
     "output_type": "stream",
     "text": [
      "2020-04-05 19:56:17 freq of tags\n",
      "2020-04-05 19:56:18 done\n",
      "CPU times: user 4.42 s, sys: 197 ms, total: 4.62 s\n",
      "Wall time: 4.57 s\n"
     ]
    }
   ],
   "source": [
    "%%time\n",
    "dftrn=prp_df(dftrn, tm_max=tm_trn_max)"
   ]
  },
  {
   "cell_type": "code",
   "execution_count": 17,
   "metadata": {},
   "outputs": [
    {
     "name": "stdout",
     "output_type": "stream",
     "text": [
      "2020-04-05 19:56:18 start\n",
      "2020-04-05 19:56:19 freq of columns using CountEncoder\n",
      "2020-04-05 19:56:21 freq of tags\n",
      "2020-04-05 19:56:21 done\n",
      "CPU times: user 3.9 s, sys: 58.5 ms, total: 3.95 s\n",
      "Wall time: 3.93 s\n"
     ]
    }
   ],
   "source": [
    "%%time\n",
    "dfval=prp_df(dfval, tm_max=tm_trn_max)"
   ]
  },
  {
   "cell_type": "markdown",
   "metadata": {},
   "source": [
    "## tr vl split and target encoding"
   ]
  },
  {
   "cell_type": "code",
   "execution_count": 18,
   "metadata": {},
   "outputs": [
    {
     "data": {
      "text/plain": [
       "30"
      ]
     },
     "execution_count": 18,
     "metadata": {},
     "output_type": "execute_result"
    }
   ],
   "source": [
    "msk_vl=np.random.rand(len(dftrn))<0.15\n",
    "idxvl=np.where( msk_vl)[0]\n",
    "idxtr=np.where(~msk_vl)[0]\n",
    "\n",
    "dftr = dftrn.iloc[idxtr].copy()\n",
    "dfvl = dftrn.iloc[idxvl].copy()\n",
    "del dftrn\n",
    "\n",
    "gc.collect()"
   ]
  },
  {
   "cell_type": "code",
   "execution_count": 19,
   "metadata": {},
   "outputs": [
    {
     "data": {
      "text/plain": [
       "Index(['twtid', 'twttyp', 'lang', 'u1id', 'u1_fllwer_cnt', 'u1_fllwing_cnt',\n",
       "       'u1_vrfed', 'u2id', 'u2_fllwer_cnt', 'u2_fllwng_cnt', 'u2_vrfed',\n",
       "       'u1_fllw_u2', 'retwt', 'reply', 'like', 'retwt_cmmnt', 'len_toks',\n",
       "       'n_media_Photo', 'n_media_Video', 'n_media_GIF', 'has_hshtgs',\n",
       "       'n_hshtgs', 'has_media', 'n_media', 'has_domns', 'n_domns', 'dayofweek',\n",
       "       'hour', 'tmdlta_u2u1', 'tmdlta_twtu1', 'tmdlta_twtu2', 'twt_age',\n",
       "       'u1_age', 'u2_age', 'u1_fllwer_cnt_by_age', 'u1_fllwng_cnt_by_age',\n",
       "       'u1u2', 'langhour', 'frq_twtid', 'frq_twttyp', 'frq_lang', 'frq_u1id',\n",
       "       'frq_u1_fllwing_cnt', 'frq_u1_vrfed', 'frq_u2id', 'frq_u2_fllwer_cnt',\n",
       "       'frq_u2_vrfed', 'frq_u1_fllw_u2', 'frq_n_media_Photo',\n",
       "       'frq_n_media_Video', 'frq_n_media_GIF', 'frq_has_hshtgs',\n",
       "       'frq_n_hshtgs', 'frq_has_media', 'frq_n_media', 'frq_has_domns',\n",
       "       'frq_n_domns', 'frq_dayofweek', 'frq_hour', 'frq_u1u2', 'frq_langhour',\n",
       "       'sumfrq_hshtgs', 'maxfrq_hshtgs', 'sumfrq_media', 'maxfrq_media',\n",
       "       'sumfrq_links', 'maxfrq_links', 'sumfrq_domns', 'maxfrq_domns'],\n",
       "      dtype='object')"
      ]
     },
     "execution_count": 19,
     "metadata": {},
     "output_type": "execute_result"
    }
   ],
   "source": [
    "dftr.columns"
   ]
  },
  {
   "cell_type": "code",
   "execution_count": 20,
   "metadata": {},
   "outputs": [
    {
     "name": "stdout",
     "output_type": "stream",
     "text": [
      "CPU times: user 4.73 s, sys: 0 ns, total: 4.73 s\n",
      "Wall time: 4.71 s\n"
     ]
    }
   ],
   "source": [
    "%%time\n",
    "col2tgtenc=['twtid', 'twttyp', 'lang', 'u1id', 'u1_fllwing_cnt', 'u1_vrfed', 'u2id', 'u2_fllwer_cnt', 'u2_vrfed', 'u1_fllw_u2', \n",
    "   'n_media_Photo', 'n_media_Video', 'n_media_GIF', \n",
    "   'has_hshtgs', 'n_hshtgs', 'has_media', 'n_media','has_domns', 'n_domns', \n",
    "   'dayofweek', 'hour', 'u1u2', 'langhour']\n",
    "tgt_encoder = ce.TargetEncoder()\n",
    "encoded_tr = tgt_encoder.fit_transform(dftr[col2tgtenc].astype(object), dftr[TCOL])\n",
    "encoded_vl = tgt_encoder.transform(dfvl[col2tgtenc].astype(object))\n",
    "encoded_val = tgt_encoder.transform(dfval[col2tgtenc].astype(object))\n",
    "\n",
    "tgtenc_columns = [f'tgtenc_{col}' for col in encoded_tr.columns]\n",
    "encoded_tr.columns = tgtenc_columns\n",
    "encoded_vl.columns = tgtenc_columns\n",
    "encoded_val.columns = tgtenc_columns\n",
    "\n",
    "dftr = pd.concat([dftr, encoded_tr], 1)\n",
    "dfvl = pd.concat([dfvl, encoded_vl], 1)\n",
    "dfval = pd.concat([dfval, encoded_val], 1)\n"
   ]
  },
  {
   "cell_type": "code",
   "execution_count": 21,
   "metadata": {},
   "outputs": [],
   "source": [
    "cols_category=['twttyp', 'lang', 'langhour']\n",
    "for df in dftr,dfvl,dfval:\n",
    "    df.drop(columns=['twtid','u1id','u2id','u1u2'], inplace=True)\n",
    "    df[cols_category]=df[cols_category].astype('category')"
   ]
  },
  {
   "cell_type": "code",
   "execution_count": 22,
   "metadata": {},
   "outputs": [],
   "source": [
    "cols_feat = [col for col in dftr.columns if col not in cols_tgt]"
   ]
  },
  {
   "cell_type": "code",
   "execution_count": 23,
   "metadata": {},
   "outputs": [
    {
     "data": {
      "text/plain": [
       "twttyp                   category\n",
       "lang                     category\n",
       "u1_fllwer_cnt               int64\n",
       "u1_fllwing_cnt              int64\n",
       "u1_vrfed                     bool\n",
       "u2_fllwer_cnt               int64\n",
       "u2_fllwng_cnt               int64\n",
       "u2_vrfed                     bool\n",
       "u1_fllw_u2                   bool\n",
       "retwt                        bool\n",
       "reply                        bool\n",
       "like                         bool\n",
       "retwt_cmmnt                  bool\n",
       "len_toks                    int64\n",
       "n_media_Photo               int64\n",
       "n_media_Video               int64\n",
       "n_media_GIF                 int64\n",
       "has_hshtgs                   bool\n",
       "n_hshtgs                    int64\n",
       "has_media                    bool\n",
       "n_media                     int64\n",
       "has_domns                    bool\n",
       "n_domns                     int64\n",
       "dayofweek                   int64\n",
       "hour                        int64\n",
       "tmdlta_u2u1                 int64\n",
       "tmdlta_twtu1                int64\n",
       "tmdlta_twtu2                int64\n",
       "twt_age                     int64\n",
       "u1_age                      int64\n",
       "u2_age                      int64\n",
       "u1_fllwer_cnt_by_age      float64\n",
       "u1_fllwng_cnt_by_age      float64\n",
       "langhour                 category\n",
       "frq_twtid                 float64\n",
       "frq_twttyp                float64\n",
       "frq_lang                  float64\n",
       "frq_u1id                  float64\n",
       "frq_u1_fllwing_cnt        float64\n",
       "frq_u1_vrfed              float64\n",
       "frq_u2id                  float64\n",
       "frq_u2_fllwer_cnt         float64\n",
       "frq_u2_vrfed              float64\n",
       "frq_u1_fllw_u2            float64\n",
       "frq_n_media_Photo         float64\n",
       "frq_n_media_Video         float64\n",
       "frq_n_media_GIF           float64\n",
       "frq_has_hshtgs            float64\n",
       "frq_n_hshtgs              float64\n",
       "frq_has_media             float64\n",
       "frq_n_media               float64\n",
       "frq_has_domns             float64\n",
       "frq_n_domns               float64\n",
       "frq_dayofweek             float64\n",
       "frq_hour                  float64\n",
       "frq_u1u2                  float64\n",
       "frq_langhour              float64\n",
       "sumfrq_hshtgs             float64\n",
       "maxfrq_hshtgs             float64\n",
       "sumfrq_media              float64\n",
       "maxfrq_media              float64\n",
       "sumfrq_links              float64\n",
       "maxfrq_links              float64\n",
       "sumfrq_domns              float64\n",
       "maxfrq_domns              float64\n",
       "tgtenc_twtid              float64\n",
       "tgtenc_twttyp             float64\n",
       "tgtenc_lang               float64\n",
       "tgtenc_u1id               float64\n",
       "tgtenc_u1_fllwing_cnt     float64\n",
       "tgtenc_u1_vrfed           float64\n",
       "tgtenc_u2id               float64\n",
       "tgtenc_u2_fllwer_cnt      float64\n",
       "tgtenc_u2_vrfed           float64\n",
       "tgtenc_u1_fllw_u2         float64\n",
       "tgtenc_n_media_Photo      float64\n",
       "tgtenc_n_media_Video      float64\n",
       "tgtenc_n_media_GIF        float64\n",
       "tgtenc_has_hshtgs         float64\n",
       "tgtenc_n_hshtgs           float64\n",
       "tgtenc_has_media          float64\n",
       "tgtenc_n_media            float64\n",
       "tgtenc_has_domns          float64\n",
       "tgtenc_n_domns            float64\n",
       "tgtenc_dayofweek          float64\n",
       "tgtenc_hour               float64\n",
       "tgtenc_u1u2               float64\n",
       "tgtenc_langhour           float64\n",
       "dtype: object"
      ]
     },
     "execution_count": 23,
     "metadata": {},
     "output_type": "execute_result"
    }
   ],
   "source": [
    "dftr.dtypes"
   ]
  },
  {
   "cell_type": "markdown",
   "metadata": {},
   "source": [
    "# model"
   ]
  },
  {
   "cell_type": "code",
   "execution_count": 25,
   "metadata": {},
   "outputs": [],
   "source": [
    "results = {}\n",
    "results['PRFX'] = PRFX\n",
    "results['TGT'] = TGT\n",
    "results['cols_feat'] = cols_feat\n",
    "results['tgt_encoder'] = tgt_encoder\n",
    "results['col2tgtenc'] = col2tgtenc"
   ]
  },
  {
   "cell_type": "code",
   "execution_count": 26,
   "metadata": {},
   "outputs": [],
   "source": [
    "params={\n",
    "    'objective': 'binary',\n",
    "    'metric': 'binary_logloss',\n",
    "    'verbosity': 0,\n",
    "    \n",
    "}\n",
    "results['params'] = params"
   ]
  },
  {
   "cell_type": "code",
   "execution_count": 28,
   "metadata": {
    "scrolled": false
   },
   "outputs": [
    {
     "name": "stderr",
     "output_type": "stream",
     "text": [
      "\n",
      "  0%|          | 0/7 [00:00<?, ?it/s]\n",
      "tune_feature_fraction, val_score: inf:   0%|          | 0/7 [00:00<?, ?it/s]"
     ]
    },
    {
     "name": "stdout",
     "output_type": "stream",
     "text": [
      "Training until validation scores don't improve for 100 rounds\n",
      "[100]\ttr's binary_logloss: 0.16374\tvl's binary_logloss: 0.380795\n",
      "Early stopping, best iteration is:\n",
      "[16]\ttr's binary_logloss: 0.232279\tvl's binary_logloss: 0.301384\n"
     ]
    },
    {
     "name": "stderr",
     "output_type": "stream",
     "text": [
      "\n",
      "tune_feature_fraction, val_score: 0.301384:   0%|          | 0/7 [00:02<?, ?it/s]\n",
      "tune_feature_fraction, val_score: 0.301384:  14%|#4        | 1/7 [00:02<00:15,  2.58s/it]\n",
      "tune_feature_fraction, val_score: 0.301384:  14%|#4        | 1/7 [00:02<00:15,  2.58s/it]"
     ]
    },
    {
     "name": "stdout",
     "output_type": "stream",
     "text": [
      "Training until validation scores don't improve for 100 rounds\n",
      "[100]\ttr's binary_logloss: 0.161585\tvl's binary_logloss: 0.404715\n",
      "Early stopping, best iteration is:\n",
      "[16]\ttr's binary_logloss: 0.224463\tvl's binary_logloss: 0.3036\n"
     ]
    },
    {
     "name": "stderr",
     "output_type": "stream",
     "text": [
      "\n",
      "tune_feature_fraction, val_score: 0.301384:  14%|#4        | 1/7 [00:04<00:15,  2.58s/it]\n",
      "tune_feature_fraction, val_score: 0.301384:  29%|##8       | 2/7 [00:04<00:11,  2.28s/it]\n",
      "tune_feature_fraction, val_score: 0.301384:  29%|##8       | 2/7 [00:04<00:11,  2.28s/it]"
     ]
    },
    {
     "name": "stdout",
     "output_type": "stream",
     "text": [
      "Training until validation scores don't improve for 100 rounds\n",
      "[100]\ttr's binary_logloss: 0.159477\tvl's binary_logloss: 0.413834\n",
      "Early stopping, best iteration is:\n",
      "[16]\ttr's binary_logloss: 0.219658\tvl's binary_logloss: 0.305646\n"
     ]
    },
    {
     "name": "stderr",
     "output_type": "stream",
     "text": [
      "\n",
      "tune_feature_fraction, val_score: 0.301384:  29%|##8       | 2/7 [00:05<00:11,  2.28s/it]\n",
      "tune_feature_fraction, val_score: 0.301384:  43%|####2     | 3/7 [00:05<00:08,  2.09s/it]\n",
      "tune_feature_fraction, val_score: 0.301384:  43%|####2     | 3/7 [00:05<00:08,  2.09s/it]"
     ]
    },
    {
     "name": "stdout",
     "output_type": "stream",
     "text": [
      "Training until validation scores don't improve for 100 rounds\n",
      "[100]\ttr's binary_logloss: 0.158147\tvl's binary_logloss: 0.416951\n",
      "Early stopping, best iteration is:\n",
      "[8]\ttr's binary_logloss: 0.244959\tvl's binary_logloss: 0.308941\n"
     ]
    },
    {
     "name": "stderr",
     "output_type": "stream",
     "text": [
      "\n",
      "tune_feature_fraction, val_score: 0.301384:  43%|####2     | 3/7 [00:07<00:08,  2.09s/it]\n",
      "tune_feature_fraction, val_score: 0.301384:  57%|#####7    | 4/7 [00:07<00:05,  1.98s/it]\n",
      "tune_feature_fraction, val_score: 0.301384:  57%|#####7    | 4/7 [00:07<00:05,  1.98s/it]"
     ]
    },
    {
     "name": "stdout",
     "output_type": "stream",
     "text": [
      "Training until validation scores don't improve for 100 rounds\n",
      "[100]\ttr's binary_logloss: 0.15669\tvl's binary_logloss: 0.417872\n",
      "Early stopping, best iteration is:\n",
      "[8]\ttr's binary_logloss: 0.235727\tvl's binary_logloss: 0.315545\n"
     ]
    },
    {
     "name": "stderr",
     "output_type": "stream",
     "text": [
      "\n",
      "tune_feature_fraction, val_score: 0.301384:  57%|#####7    | 4/7 [00:09<00:05,  1.98s/it]\n",
      "tune_feature_fraction, val_score: 0.301384:  71%|#######1  | 5/7 [00:09<00:03,  1.95s/it]\n",
      "tune_feature_fraction, val_score: 0.301384:  71%|#######1  | 5/7 [00:09<00:03,  1.95s/it]"
     ]
    },
    {
     "name": "stdout",
     "output_type": "stream",
     "text": [
      "Training until validation scores don't improve for 100 rounds\n",
      "[100]\ttr's binary_logloss: 0.155011\tvl's binary_logloss: 0.419328\n",
      "Early stopping, best iteration is:\n",
      "[7]\ttr's binary_logloss: 0.237752\tvl's binary_logloss: 0.317551\n"
     ]
    },
    {
     "name": "stderr",
     "output_type": "stream",
     "text": [
      "\n",
      "tune_feature_fraction, val_score: 0.301384:  71%|#######1  | 5/7 [00:11<00:03,  1.95s/it]\n",
      "tune_feature_fraction, val_score: 0.301384:  86%|########5 | 6/7 [00:11<00:01,  1.96s/it]\n",
      "tune_feature_fraction, val_score: 0.301384:  86%|########5 | 6/7 [00:11<00:01,  1.96s/it]"
     ]
    },
    {
     "name": "stdout",
     "output_type": "stream",
     "text": [
      "Training until validation scores don't improve for 100 rounds\n",
      "[100]\ttr's binary_logloss: 0.154104\tvl's binary_logloss: 0.419636\n",
      "Early stopping, best iteration is:\n",
      "[7]\ttr's binary_logloss: 0.237687\tvl's binary_logloss: 0.317495\n"
     ]
    },
    {
     "name": "stderr",
     "output_type": "stream",
     "text": [
      "\n",
      "tune_feature_fraction, val_score: 0.301384:  86%|########5 | 6/7 [00:13<00:01,  1.96s/it]\n",
      "tune_feature_fraction, val_score: 0.301384: 100%|##########| 7/7 [00:13<00:00,  1.92s/it]\n",
      "\n",
      "  0%|          | 0/20 [00:00<?, ?it/s]\n",
      "tune_num_leaves, val_score: 0.301384:   0%|          | 0/20 [00:00<?, ?it/s]"
     ]
    },
    {
     "name": "stdout",
     "output_type": "stream",
     "text": [
      "Training until validation scores don't improve for 100 rounds\n",
      "[100]\ttr's binary_logloss: 0.132741\tvl's binary_logloss: 0.384288\n",
      "Early stopping, best iteration is:\n",
      "[16]\ttr's binary_logloss: 0.222331\tvl's binary_logloss: 0.300385\n"
     ]
    },
    {
     "name": "stderr",
     "output_type": "stream",
     "text": [
      "\n",
      "tune_num_leaves, val_score: 0.300385:   0%|          | 0/20 [00:02<?, ?it/s]\n",
      "tune_num_leaves, val_score: 0.300385:   5%|5         | 1/20 [00:02<00:38,  2.03s/it]\n",
      "tune_num_leaves, val_score: 0.300385:   5%|5         | 1/20 [00:02<00:38,  2.03s/it]"
     ]
    },
    {
     "name": "stdout",
     "output_type": "stream",
     "text": [
      "Training until validation scores don't improve for 100 rounds\n",
      "[100]\ttr's binary_logloss: 0.096057\tvl's binary_logloss: 0.388994\n",
      "Early stopping, best iteration is:\n",
      "[16]\ttr's binary_logloss: 0.209798\tvl's binary_logloss: 0.300883\n"
     ]
    },
    {
     "name": "stderr",
     "output_type": "stream",
     "text": [
      "\n",
      "tune_num_leaves, val_score: 0.300385:   5%|5         | 1/20 [00:05<00:38,  2.03s/it]\n",
      "tune_num_leaves, val_score: 0.300385:  10%|#         | 2/20 [00:05<00:44,  2.47s/it]\n",
      "tune_num_leaves, val_score: 0.300385:  10%|#         | 2/20 [00:05<00:44,  2.47s/it]"
     ]
    },
    {
     "name": "stdout",
     "output_type": "stream",
     "text": [
      "Training until validation scores don't improve for 100 rounds\n",
      "[100]\ttr's binary_logloss: 0.0995324\tvl's binary_logloss: 0.390495\n",
      "Early stopping, best iteration is:\n",
      "[16]\ttr's binary_logloss: 0.210921\tvl's binary_logloss: 0.300754\n"
     ]
    },
    {
     "name": "stderr",
     "output_type": "stream",
     "text": [
      "\n",
      "tune_num_leaves, val_score: 0.300385:  10%|#         | 2/20 [00:08<00:44,  2.47s/it]\n",
      "tune_num_leaves, val_score: 0.300385:  15%|#5        | 3/20 [00:08<00:45,  2.69s/it]\n",
      "tune_num_leaves, val_score: 0.300385:  15%|#5        | 3/20 [00:08<00:45,  2.69s/it]"
     ]
    },
    {
     "name": "stdout",
     "output_type": "stream",
     "text": [
      "Training until validation scores don't improve for 100 rounds\n",
      "[100]\ttr's binary_logloss: 0.0886574\tvl's binary_logloss: 0.391447\n",
      "Early stopping, best iteration is:\n",
      "[16]\ttr's binary_logloss: 0.20676\tvl's binary_logloss: 0.301006\n"
     ]
    },
    {
     "name": "stderr",
     "output_type": "stream",
     "text": [
      "\n",
      "tune_num_leaves, val_score: 0.300385:  15%|#5        | 3/20 [00:12<00:45,  2.69s/it]\n",
      "tune_num_leaves, val_score: 0.300385:  20%|##        | 4/20 [00:12<00:48,  3.01s/it]\n",
      "tune_num_leaves, val_score: 0.300385:  20%|##        | 4/20 [00:12<00:48,  3.01s/it]"
     ]
    },
    {
     "name": "stdout",
     "output_type": "stream",
     "text": [
      "Training until validation scores don't improve for 100 rounds\n",
      "[100]\ttr's binary_logloss: 0.0849307\tvl's binary_logloss: 0.392937\n",
      "Early stopping, best iteration is:\n",
      "[16]\ttr's binary_logloss: 0.205413\tvl's binary_logloss: 0.301622\n"
     ]
    },
    {
     "name": "stderr",
     "output_type": "stream",
     "text": [
      "\n",
      "tune_num_leaves, val_score: 0.300385:  20%|##        | 4/20 [00:16<00:48,  3.01s/it]\n",
      "tune_num_leaves, val_score: 0.300385:  25%|##5       | 5/20 [00:16<00:48,  3.22s/it]\n",
      "tune_num_leaves, val_score: 0.300385:  25%|##5       | 5/20 [00:16<00:48,  3.22s/it]"
     ]
    },
    {
     "name": "stdout",
     "output_type": "stream",
     "text": [
      "Training until validation scores don't improve for 100 rounds\n",
      "[100]\ttr's binary_logloss: 0.127975\tvl's binary_logloss: 0.385062\n",
      "Early stopping, best iteration is:\n",
      "[16]\ttr's binary_logloss: 0.220518\tvl's binary_logloss: 0.300462\n"
     ]
    },
    {
     "name": "stderr",
     "output_type": "stream",
     "text": [
      "\n",
      "tune_num_leaves, val_score: 0.300385:  25%|##5       | 5/20 [00:18<00:48,  3.22s/it]\n",
      "tune_num_leaves, val_score: 0.300385:  30%|###       | 6/20 [00:18<00:41,  2.97s/it]\n",
      "tune_num_leaves, val_score: 0.300385:  30%|###       | 6/20 [00:18<00:41,  2.97s/it]"
     ]
    },
    {
     "name": "stdout",
     "output_type": "stream",
     "text": [
      "Training until validation scores don't improve for 100 rounds\n",
      "[100]\ttr's binary_logloss: 0.0828745\tvl's binary_logloss: 0.392178\n",
      "Early stopping, best iteration is:\n",
      "[16]\ttr's binary_logloss: 0.204511\tvl's binary_logloss: 0.30123\n"
     ]
    },
    {
     "name": "stderr",
     "output_type": "stream",
     "text": [
      "\n",
      "tune_num_leaves, val_score: 0.300385:  30%|###       | 6/20 [00:22<00:41,  2.97s/it]\n",
      "tune_num_leaves, val_score: 0.300385:  35%|###5      | 7/20 [00:22<00:42,  3.26s/it]\n",
      "tune_num_leaves, val_score: 0.300385:  35%|###5      | 7/20 [00:22<00:42,  3.26s/it]"
     ]
    },
    {
     "name": "stdout",
     "output_type": "stream",
     "text": [
      "Training until validation scores don't improve for 100 rounds\n",
      "[100]\ttr's binary_logloss: 0.0742729\tvl's binary_logloss: 0.393116\n",
      "Early stopping, best iteration is:\n",
      "[16]\ttr's binary_logloss: 0.200809\tvl's binary_logloss: 0.301029\n"
     ]
    },
    {
     "name": "stderr",
     "output_type": "stream",
     "text": [
      "\n",
      "tune_num_leaves, val_score: 0.300385:  35%|###5      | 7/20 [00:26<00:42,  3.26s/it]\n",
      "tune_num_leaves, val_score: 0.300385:  40%|####      | 8/20 [00:26<00:43,  3.58s/it]\n",
      "tune_num_leaves, val_score: 0.300385:  40%|####      | 8/20 [00:26<00:43,  3.58s/it]"
     ]
    },
    {
     "name": "stdout",
     "output_type": "stream",
     "text": [
      "Training until validation scores don't improve for 100 rounds\n",
      "[100]\ttr's binary_logloss: 0.181975\tvl's binary_logloss: 0.374515\n",
      "Early stopping, best iteration is:\n",
      "[16]\ttr's binary_logloss: 0.242509\tvl's binary_logloss: 0.303835\n"
     ]
    },
    {
     "name": "stderr",
     "output_type": "stream",
     "text": [
      "\n",
      "tune_num_leaves, val_score: 0.300385:  40%|####      | 8/20 [00:27<00:43,  3.58s/it]\n",
      "tune_num_leaves, val_score: 0.300385:  45%|####5     | 9/20 [00:27<00:31,  2.84s/it]\n",
      "tune_num_leaves, val_score: 0.300385:  45%|####5     | 9/20 [00:28<00:31,  2.84s/it]"
     ]
    },
    {
     "name": "stdout",
     "output_type": "stream",
     "text": [
      "Training until validation scores don't improve for 100 rounds\n",
      "[100]\ttr's binary_logloss: 0.119897\tvl's binary_logloss: 0.386385\n",
      "Early stopping, best iteration is:\n",
      "[16]\ttr's binary_logloss: 0.217924\tvl's binary_logloss: 0.300252\n"
     ]
    },
    {
     "name": "stderr",
     "output_type": "stream",
     "text": [
      "\n",
      "tune_num_leaves, val_score: 0.300252:  45%|####5     | 9/20 [00:30<00:31,  2.84s/it]\n",
      "tune_num_leaves, val_score: 0.300252:  50%|#####     | 10/20 [00:30<00:27,  2.75s/it]\n",
      "tune_num_leaves, val_score: 0.300252:  50%|#####     | 10/20 [00:30<00:27,  2.75s/it]"
     ]
    },
    {
     "name": "stdout",
     "output_type": "stream",
     "text": [
      "Training until validation scores don't improve for 100 rounds\n",
      "[100]\ttr's binary_logloss: 0.190676\tvl's binary_logloss: 0.367004\n",
      "Early stopping, best iteration is:\n",
      "[16]\ttr's binary_logloss: 0.252031\tvl's binary_logloss: 0.305703\n"
     ]
    },
    {
     "name": "stderr",
     "output_type": "stream",
     "text": [
      "\n",
      "tune_num_leaves, val_score: 0.300252:  50%|#####     | 10/20 [00:31<00:27,  2.75s/it]\n",
      "tune_num_leaves, val_score: 0.300252:  55%|#####5    | 11/20 [00:31<00:19,  2.21s/it]\n",
      "tune_num_leaves, val_score: 0.300252:  55%|#####5    | 11/20 [00:31<00:19,  2.21s/it]"
     ]
    },
    {
     "name": "stdout",
     "output_type": "stream",
     "text": [
      "Training until validation scores don't improve for 100 rounds\n",
      "[100]\ttr's binary_logloss: 0.131161\tvl's binary_logloss: 0.384926\n",
      "Early stopping, best iteration is:\n",
      "[16]\ttr's binary_logloss: 0.221477\tvl's binary_logloss: 0.300491\n"
     ]
    },
    {
     "name": "stderr",
     "output_type": "stream",
     "text": [
      "\n",
      "tune_num_leaves, val_score: 0.300252:  55%|#####5    | 11/20 [00:33<00:19,  2.21s/it]\n",
      "tune_num_leaves, val_score: 0.300252:  60%|######    | 12/20 [00:33<00:17,  2.21s/it]\n",
      "tune_num_leaves, val_score: 0.300252:  60%|######    | 12/20 [00:33<00:17,  2.21s/it]"
     ]
    },
    {
     "name": "stdout",
     "output_type": "stream",
     "text": [
      "Training until validation scores don't improve for 100 rounds\n",
      "[100]\ttr's binary_logloss: 0.133903\tvl's binary_logloss: 0.38467\n",
      "Early stopping, best iteration is:\n",
      "[16]\ttr's binary_logloss: 0.222344\tvl's binary_logloss: 0.300864\n"
     ]
    },
    {
     "name": "stderr",
     "output_type": "stream",
     "text": [
      "\n",
      "tune_num_leaves, val_score: 0.300252:  60%|######    | 12/20 [00:35<00:17,  2.21s/it]\n",
      "tune_num_leaves, val_score: 0.300252:  65%|######5   | 13/20 [00:35<00:15,  2.16s/it]\n",
      "tune_num_leaves, val_score: 0.300252:  65%|######5   | 13/20 [00:35<00:15,  2.16s/it]"
     ]
    },
    {
     "name": "stdout",
     "output_type": "stream",
     "text": [
      "Training until validation scores don't improve for 100 rounds\n",
      "[100]\ttr's binary_logloss: 0.150213\tvl's binary_logloss: 0.382393\n",
      "Early stopping, best iteration is:\n",
      "[16]\ttr's binary_logloss: 0.227578\tvl's binary_logloss: 0.300846\n"
     ]
    },
    {
     "name": "stderr",
     "output_type": "stream",
     "text": [
      "\n",
      "tune_num_leaves, val_score: 0.300252:  65%|######5   | 13/20 [00:37<00:15,  2.16s/it]\n",
      "tune_num_leaves, val_score: 0.300252:  70%|#######   | 14/20 [00:37<00:12,  2.04s/it]\n",
      "tune_num_leaves, val_score: 0.300252:  70%|#######   | 14/20 [00:37<00:12,  2.04s/it]"
     ]
    },
    {
     "name": "stdout",
     "output_type": "stream",
     "text": [
      "Training until validation scores don't improve for 100 rounds\n",
      "[100]\ttr's binary_logloss: 0.113053\tvl's binary_logloss: 0.386441\n",
      "Early stopping, best iteration is:\n",
      "[16]\ttr's binary_logloss: 0.215686\tvl's binary_logloss: 0.300598\n"
     ]
    },
    {
     "name": "stderr",
     "output_type": "stream",
     "text": [
      "\n",
      "tune_num_leaves, val_score: 0.300252:  70%|#######   | 14/20 [00:40<00:12,  2.04s/it]\n",
      "tune_num_leaves, val_score: 0.300252:  75%|#######5  | 15/20 [00:40<00:11,  2.25s/it]\n",
      "tune_num_leaves, val_score: 0.300252:  75%|#######5  | 15/20 [00:40<00:11,  2.25s/it]"
     ]
    },
    {
     "name": "stdout",
     "output_type": "stream",
     "text": [
      "Training until validation scores don't improve for 100 rounds\n",
      "[100]\ttr's binary_logloss: 0.114183\tvl's binary_logloss: 0.388249\n",
      "Early stopping, best iteration is:\n",
      "[16]\ttr's binary_logloss: 0.215958\tvl's binary_logloss: 0.300592\n"
     ]
    },
    {
     "name": "stderr",
     "output_type": "stream",
     "text": [
      "\n",
      "tune_num_leaves, val_score: 0.300252:  75%|#######5  | 15/20 [00:42<00:11,  2.25s/it]\n",
      "tune_num_leaves, val_score: 0.300252:  80%|########  | 16/20 [00:42<00:09,  2.37s/it]\n",
      "tune_num_leaves, val_score: 0.300252:  80%|########  | 16/20 [00:42<00:09,  2.37s/it]"
     ]
    },
    {
     "name": "stdout",
     "output_type": "stream",
     "text": [
      "Training until validation scores don't improve for 100 rounds\n",
      "[100]\ttr's binary_logloss: 0.149936\tvl's binary_logloss: 0.381982\n",
      "Early stopping, best iteration is:\n",
      "[16]\ttr's binary_logloss: 0.227503\tvl's binary_logloss: 0.300779\n"
     ]
    },
    {
     "name": "stderr",
     "output_type": "stream",
     "text": [
      "\n",
      "tune_num_leaves, val_score: 0.300252:  80%|########  | 16/20 [00:44<00:09,  2.37s/it]\n",
      "tune_num_leaves, val_score: 0.300252:  85%|########5 | 17/20 [00:44<00:06,  2.19s/it]\n",
      "tune_num_leaves, val_score: 0.300252:  85%|########5 | 17/20 [00:44<00:06,  2.19s/it]"
     ]
    },
    {
     "name": "stdout",
     "output_type": "stream",
     "text": [
      "Training until validation scores don't improve for 100 rounds\n",
      "[100]\ttr's binary_logloss: 0.155875\tvl's binary_logloss: 0.381276\n",
      "Early stopping, best iteration is:\n",
      "[16]\ttr's binary_logloss: 0.229508\tvl's binary_logloss: 0.30129\n"
     ]
    },
    {
     "name": "stderr",
     "output_type": "stream",
     "text": [
      "\n",
      "tune_num_leaves, val_score: 0.300252:  85%|########5 | 17/20 [00:46<00:06,  2.19s/it]\n",
      "tune_num_leaves, val_score: 0.300252:  90%|######### | 18/20 [00:46<00:04,  2.03s/it]\n",
      "tune_num_leaves, val_score: 0.300252:  90%|######### | 18/20 [00:46<00:04,  2.03s/it]"
     ]
    },
    {
     "name": "stdout",
     "output_type": "stream",
     "text": [
      "Training until validation scores don't improve for 100 rounds\n",
      "[100]\ttr's binary_logloss: 0.120189\tvl's binary_logloss: 0.386431\n",
      "Early stopping, best iteration is:\n",
      "[16]\ttr's binary_logloss: 0.217999\tvl's binary_logloss: 0.300631\n"
     ]
    },
    {
     "name": "stderr",
     "output_type": "stream",
     "text": [
      "\n",
      "tune_num_leaves, val_score: 0.300252:  90%|######### | 18/20 [00:48<00:04,  2.03s/it]\n",
      "tune_num_leaves, val_score: 0.300252:  95%|#########5| 19/20 [00:48<00:02,  2.16s/it]\n",
      "tune_num_leaves, val_score: 0.300252:  95%|#########5| 19/20 [00:48<00:02,  2.16s/it]"
     ]
    },
    {
     "name": "stdout",
     "output_type": "stream",
     "text": [
      "Training until validation scores don't improve for 100 rounds\n",
      "[100]\ttr's binary_logloss: 0.104381\tvl's binary_logloss: 0.388878\n",
      "Early stopping, best iteration is:\n",
      "[16]\ttr's binary_logloss: 0.212539\tvl's binary_logloss: 0.300674\n"
     ]
    },
    {
     "name": "stderr",
     "output_type": "stream",
     "text": [
      "\n",
      "tune_num_leaves, val_score: 0.300252:  95%|#########5| 19/20 [00:51<00:02,  2.16s/it]\n",
      "tune_num_leaves, val_score: 0.300252: 100%|##########| 20/20 [00:51<00:00,  2.59s/it]\n",
      "\n",
      "  0%|          | 0/10 [00:00<?, ?it/s]\n",
      "tune_bagging_fraction_and_bagging_freq, val_score: 0.300252:   0%|          | 0/10 [00:00<?, ?it/s]"
     ]
    },
    {
     "name": "stdout",
     "output_type": "stream",
     "text": [
      "Training until validation scores don't improve for 100 rounds\n",
      "[100]\ttr's binary_logloss: 0.120175\tvl's binary_logloss: 0.385047\n",
      "Early stopping, best iteration is:\n",
      "[16]\ttr's binary_logloss: 0.218783\tvl's binary_logloss: 0.300708\n"
     ]
    },
    {
     "name": "stderr",
     "output_type": "stream",
     "text": [
      "\n",
      "tune_bagging_fraction_and_bagging_freq, val_score: 0.300252:   0%|          | 0/10 [00:02<?, ?it/s]\n",
      "tune_bagging_fraction_and_bagging_freq, val_score: 0.300252:  10%|#         | 1/10 [00:02<00:25,  2.81s/it]\n",
      "tune_bagging_fraction_and_bagging_freq, val_score: 0.300252:  10%|#         | 1/10 [00:02<00:25,  2.81s/it]"
     ]
    },
    {
     "name": "stdout",
     "output_type": "stream",
     "text": [
      "Training until validation scores don't improve for 100 rounds\n",
      "[100]\ttr's binary_logloss: 0.126521\tvl's binary_logloss: 0.384443\n",
      "Early stopping, best iteration is:\n",
      "[16]\ttr's binary_logloss: 0.221909\tvl's binary_logloss: 0.301718\n"
     ]
    },
    {
     "name": "stderr",
     "output_type": "stream",
     "text": [
      "\n",
      "tune_bagging_fraction_and_bagging_freq, val_score: 0.300252:  10%|#         | 1/10 [00:05<00:25,  2.81s/it]\n",
      "tune_bagging_fraction_and_bagging_freq, val_score: 0.300252:  20%|##        | 2/10 [00:05<00:22,  2.79s/it]\n",
      "tune_bagging_fraction_and_bagging_freq, val_score: 0.300252:  20%|##        | 2/10 [00:05<00:22,  2.79s/it]"
     ]
    },
    {
     "name": "stdout",
     "output_type": "stream",
     "text": [
      "Training until validation scores don't improve for 100 rounds\n",
      "[100]\ttr's binary_logloss: 0.122053\tvl's binary_logloss: 0.384106\n",
      "Early stopping, best iteration is:\n",
      "[16]\ttr's binary_logloss: 0.219606\tvl's binary_logloss: 0.301011\n"
     ]
    },
    {
     "name": "stderr",
     "output_type": "stream",
     "text": [
      "\n",
      "tune_bagging_fraction_and_bagging_freq, val_score: 0.300252:  20%|##        | 2/10 [00:08<00:22,  2.79s/it]\n",
      "tune_bagging_fraction_and_bagging_freq, val_score: 0.300252:  30%|###       | 3/10 [00:08<00:20,  2.89s/it]\n",
      "tune_bagging_fraction_and_bagging_freq, val_score: 0.300252:  30%|###       | 3/10 [00:08<00:20,  2.89s/it]"
     ]
    },
    {
     "name": "stdout",
     "output_type": "stream",
     "text": [
      "Training until validation scores don't improve for 100 rounds\n",
      "[100]\ttr's binary_logloss: 0.122528\tvl's binary_logloss: 0.387347\n",
      "Early stopping, best iteration is:\n",
      "[16]\ttr's binary_logloss: 0.220177\tvl's binary_logloss: 0.302498\n"
     ]
    },
    {
     "name": "stderr",
     "output_type": "stream",
     "text": [
      "\n",
      "tune_bagging_fraction_and_bagging_freq, val_score: 0.300252:  30%|###       | 3/10 [00:11<00:20,  2.89s/it]\n",
      "tune_bagging_fraction_and_bagging_freq, val_score: 0.300252:  40%|####      | 4/10 [00:11<00:17,  2.86s/it]\n",
      "tune_bagging_fraction_and_bagging_freq, val_score: 0.300252:  40%|####      | 4/10 [00:11<00:17,  2.86s/it]"
     ]
    },
    {
     "name": "stdout",
     "output_type": "stream",
     "text": [
      "Training until validation scores don't improve for 100 rounds\n",
      "[100]\ttr's binary_logloss: 0.123052\tvl's binary_logloss: 0.384238\n",
      "Early stopping, best iteration is:\n",
      "[16]\ttr's binary_logloss: 0.220292\tvl's binary_logloss: 0.300853\n"
     ]
    },
    {
     "name": "stderr",
     "output_type": "stream",
     "text": [
      "\n",
      "tune_bagging_fraction_and_bagging_freq, val_score: 0.300252:  40%|####      | 4/10 [00:14<00:17,  2.86s/it]\n",
      "tune_bagging_fraction_and_bagging_freq, val_score: 0.300252:  50%|#####     | 5/10 [00:14<00:14,  2.82s/it]\n",
      "tune_bagging_fraction_and_bagging_freq, val_score: 0.300252:  50%|#####     | 5/10 [00:14<00:14,  2.82s/it]"
     ]
    },
    {
     "name": "stdout",
     "output_type": "stream",
     "text": [
      "Training until validation scores don't improve for 100 rounds\n",
      "[100]\ttr's binary_logloss: 0.123429\tvl's binary_logloss: 0.385911\n",
      "Early stopping, best iteration is:\n",
      "[16]\ttr's binary_logloss: 0.220609\tvl's binary_logloss: 0.302158\n"
     ]
    },
    {
     "name": "stderr",
     "output_type": "stream",
     "text": [
      "\n",
      "tune_bagging_fraction_and_bagging_freq, val_score: 0.300252:  50%|#####     | 5/10 [00:16<00:14,  2.82s/it]\n",
      "tune_bagging_fraction_and_bagging_freq, val_score: 0.300252:  60%|######    | 6/10 [00:16<00:10,  2.73s/it]\n",
      "tune_bagging_fraction_and_bagging_freq, val_score: 0.300252:  60%|######    | 6/10 [00:16<00:10,  2.73s/it]"
     ]
    },
    {
     "name": "stdout",
     "output_type": "stream",
     "text": [
      "Training until validation scores don't improve for 100 rounds\n",
      "[100]\ttr's binary_logloss: 0.120762\tvl's binary_logloss: 0.385187\n",
      "Early stopping, best iteration is:\n",
      "[16]\ttr's binary_logloss: 0.218433\tvl's binary_logloss: 0.300631\n"
     ]
    },
    {
     "name": "stderr",
     "output_type": "stream",
     "text": [
      "\n",
      "tune_bagging_fraction_and_bagging_freq, val_score: 0.300252:  60%|######    | 6/10 [00:19<00:10,  2.73s/it]\n",
      "tune_bagging_fraction_and_bagging_freq, val_score: 0.300252:  70%|#######   | 7/10 [00:19<00:08,  2.76s/it]\n",
      "tune_bagging_fraction_and_bagging_freq, val_score: 0.300252:  70%|#######   | 7/10 [00:19<00:08,  2.76s/it]"
     ]
    },
    {
     "name": "stdout",
     "output_type": "stream",
     "text": [
      "Training until validation scores don't improve for 100 rounds\n",
      "[100]\ttr's binary_logloss: 0.120959\tvl's binary_logloss: 0.38669\n",
      "Early stopping, best iteration is:\n",
      "[16]\ttr's binary_logloss: 0.219276\tvl's binary_logloss: 0.301658\n"
     ]
    },
    {
     "name": "stderr",
     "output_type": "stream",
     "text": [
      "\n",
      "tune_bagging_fraction_and_bagging_freq, val_score: 0.300252:  70%|#######   | 7/10 [00:22<00:08,  2.76s/it]\n",
      "tune_bagging_fraction_and_bagging_freq, val_score: 0.300252:  80%|########  | 8/10 [00:22<00:05,  2.77s/it]\n",
      "tune_bagging_fraction_and_bagging_freq, val_score: 0.300252:  80%|########  | 8/10 [00:22<00:05,  2.77s/it]"
     ]
    },
    {
     "name": "stdout",
     "output_type": "stream",
     "text": [
      "Training until validation scores don't improve for 100 rounds\n",
      "[100]\ttr's binary_logloss: 0.122176\tvl's binary_logloss: 0.384849\n",
      "Early stopping, best iteration is:\n",
      "[16]\ttr's binary_logloss: 0.219732\tvl's binary_logloss: 0.301383\n"
     ]
    },
    {
     "name": "stderr",
     "output_type": "stream",
     "text": [
      "\n",
      "tune_bagging_fraction_and_bagging_freq, val_score: 0.300252:  80%|########  | 8/10 [00:25<00:05,  2.77s/it]\n",
      "tune_bagging_fraction_and_bagging_freq, val_score: 0.300252:  90%|######### | 9/10 [00:25<00:02,  2.76s/it]\n",
      "tune_bagging_fraction_and_bagging_freq, val_score: 0.300252:  90%|######### | 9/10 [00:25<00:02,  2.76s/it]"
     ]
    },
    {
     "name": "stdout",
     "output_type": "stream",
     "text": [
      "Training until validation scores don't improve for 100 rounds\n",
      "[100]\ttr's binary_logloss: 0.121845\tvl's binary_logloss: 0.385524\n",
      "Early stopping, best iteration is:\n",
      "[16]\ttr's binary_logloss: 0.219583\tvl's binary_logloss: 0.300529\n"
     ]
    },
    {
     "name": "stderr",
     "output_type": "stream",
     "text": [
      "\n",
      "tune_bagging_fraction_and_bagging_freq, val_score: 0.300252:  90%|######### | 9/10 [00:27<00:02,  2.76s/it]\n",
      "tune_bagging_fraction_and_bagging_freq, val_score: 0.300252: 100%|##########| 10/10 [00:28<00:00,  2.80s/it]\n",
      "\n",
      "  0%|          | 0/3 [00:00<?, ?it/s]\n",
      "tune_feature_fraction, val_score: 0.300252:   0%|          | 0/3 [00:00<?, ?it/s]"
     ]
    },
    {
     "name": "stdout",
     "output_type": "stream",
     "text": [
      "Training until validation scores don't improve for 100 rounds\n",
      "[100]\ttr's binary_logloss: 0.119726\tvl's binary_logloss: 0.388569\n",
      "Early stopping, best iteration is:\n",
      "[16]\ttr's binary_logloss: 0.217194\tvl's binary_logloss: 0.300803\n"
     ]
    },
    {
     "name": "stderr",
     "output_type": "stream",
     "text": [
      "\n",
      "tune_feature_fraction, val_score: 0.300252:   0%|          | 0/3 [00:02<?, ?it/s]\n",
      "tune_feature_fraction, val_score: 0.300252:  33%|###3      | 1/3 [00:02<00:04,  2.50s/it]\n",
      "tune_feature_fraction, val_score: 0.300252:  33%|###3      | 1/3 [00:02<00:04,  2.50s/it]"
     ]
    },
    {
     "name": "stdout",
     "output_type": "stream",
     "text": [
      "Training until validation scores don't improve for 100 rounds\n",
      "[100]\ttr's binary_logloss: 0.11787\tvl's binary_logloss: 0.402267\n",
      "Early stopping, best iteration is:\n",
      "[16]\ttr's binary_logloss: 0.211527\tvl's binary_logloss: 0.301809\n"
     ]
    },
    {
     "name": "stderr",
     "output_type": "stream",
     "text": [
      "\n",
      "tune_feature_fraction, val_score: 0.300252:  33%|###3      | 1/3 [00:05<00:04,  2.50s/it]\n",
      "tune_feature_fraction, val_score: 0.300252:  67%|######6   | 2/3 [00:05<00:02,  2.53s/it]\n",
      "tune_feature_fraction, val_score: 0.300252:  67%|######6   | 2/3 [00:05<00:02,  2.53s/it]"
     ]
    },
    {
     "name": "stdout",
     "output_type": "stream",
     "text": [
      "Training until validation scores don't improve for 100 rounds\n",
      "[100]\ttr's binary_logloss: 0.11695\tvl's binary_logloss: 0.4069\n",
      "Early stopping, best iteration is:\n",
      "[16]\ttr's binary_logloss: 0.211196\tvl's binary_logloss: 0.301551\n"
     ]
    },
    {
     "name": "stderr",
     "output_type": "stream",
     "text": [
      "\n",
      "tune_feature_fraction, val_score: 0.300252:  67%|######6   | 2/3 [00:07<00:02,  2.53s/it]\n",
      "tune_feature_fraction, val_score: 0.300252: 100%|##########| 3/3 [00:07<00:00,  2.62s/it]\n",
      "\n",
      "  0%|          | 0/20 [00:00<?, ?it/s]\n",
      "tune_lambda_l1_and_lambda_l2, val_score: 0.300252:   0%|          | 0/20 [00:00<?, ?it/s]"
     ]
    },
    {
     "name": "stdout",
     "output_type": "stream",
     "text": [
      "Training until validation scores don't improve for 100 rounds\n",
      "[100]\ttr's binary_logloss: 0.130348\tvl's binary_logloss: 0.379988\n",
      "Early stopping, best iteration is:\n",
      "[16]\ttr's binary_logloss: 0.222251\tvl's binary_logloss: 0.301334\n"
     ]
    },
    {
     "name": "stderr",
     "output_type": "stream",
     "text": [
      "\n",
      "tune_lambda_l1_and_lambda_l2, val_score: 0.300252:   0%|          | 0/20 [00:02<?, ?it/s]\n",
      "tune_lambda_l1_and_lambda_l2, val_score: 0.300252:   5%|5         | 1/20 [00:02<00:49,  2.62s/it]\n",
      "tune_lambda_l1_and_lambda_l2, val_score: 0.300252:   5%|5         | 1/20 [00:02<00:49,  2.62s/it]"
     ]
    },
    {
     "name": "stdout",
     "output_type": "stream",
     "text": [
      "Training until validation scores don't improve for 100 rounds\n",
      "[100]\ttr's binary_logloss: 0.119513\tvl's binary_logloss: 0.386289\n",
      "Early stopping, best iteration is:\n",
      "[16]\ttr's binary_logloss: 0.217925\tvl's binary_logloss: 0.300252\n"
     ]
    },
    {
     "name": "stderr",
     "output_type": "stream",
     "text": [
      "\n",
      "tune_lambda_l1_and_lambda_l2, val_score: 0.300252:   5%|5         | 1/20 [00:05<00:49,  2.62s/it]\n",
      "tune_lambda_l1_and_lambda_l2, val_score: 0.300252:  10%|#         | 2/20 [00:05<00:46,  2.59s/it]\n",
      "tune_lambda_l1_and_lambda_l2, val_score: 0.300252:  10%|#         | 2/20 [00:05<00:46,  2.59s/it]"
     ]
    },
    {
     "name": "stdout",
     "output_type": "stream",
     "text": [
      "Training until validation scores don't improve for 100 rounds\n",
      "[100]\ttr's binary_logloss: 0.119911\tvl's binary_logloss: 0.385487\n",
      "Early stopping, best iteration is:\n",
      "[16]\ttr's binary_logloss: 0.217925\tvl's binary_logloss: 0.300252\n"
     ]
    },
    {
     "name": "stderr",
     "output_type": "stream",
     "text": [
      "\n",
      "tune_lambda_l1_and_lambda_l2, val_score: 0.300252:  10%|#         | 2/20 [00:07<00:46,  2.59s/it]\n",
      "tune_lambda_l1_and_lambda_l2, val_score: 0.300252:  15%|#5        | 3/20 [00:07<00:43,  2.55s/it]\n",
      "tune_lambda_l1_and_lambda_l2, val_score: 0.300252:  15%|#5        | 3/20 [00:07<00:43,  2.55s/it]"
     ]
    },
    {
     "name": "stdout",
     "output_type": "stream",
     "text": [
      "Training until validation scores don't improve for 100 rounds\n",
      "[100]\ttr's binary_logloss: 0.120253\tvl's binary_logloss: 0.386814\n",
      "Early stopping, best iteration is:\n",
      "[16]\ttr's binary_logloss: 0.217924\tvl's binary_logloss: 0.300252\n"
     ]
    },
    {
     "name": "stderr",
     "output_type": "stream",
     "text": [
      "\n",
      "tune_lambda_l1_and_lambda_l2, val_score: 0.300252:  15%|#5        | 3/20 [00:10<00:43,  2.55s/it]\n",
      "tune_lambda_l1_and_lambda_l2, val_score: 0.300252:  20%|##        | 4/20 [00:10<00:40,  2.54s/it]\n",
      "tune_lambda_l1_and_lambda_l2, val_score: 0.300252:  20%|##        | 4/20 [00:10<00:40,  2.54s/it]"
     ]
    },
    {
     "name": "stdout",
     "output_type": "stream",
     "text": [
      "Training until validation scores don't improve for 100 rounds\n",
      "[100]\ttr's binary_logloss: 0.130866\tvl's binary_logloss: 0.379097\n",
      "Early stopping, best iteration is:\n",
      "[16]\ttr's binary_logloss: 0.222151\tvl's binary_logloss: 0.300335\n"
     ]
    },
    {
     "name": "stderr",
     "output_type": "stream",
     "text": [
      "\n",
      "tune_lambda_l1_and_lambda_l2, val_score: 0.300252:  20%|##        | 4/20 [00:12<00:40,  2.54s/it]\n",
      "tune_lambda_l1_and_lambda_l2, val_score: 0.300252:  25%|##5       | 5/20 [00:12<00:38,  2.58s/it]\n",
      "tune_lambda_l1_and_lambda_l2, val_score: 0.300252:  25%|##5       | 5/20 [00:12<00:38,  2.58s/it]"
     ]
    },
    {
     "name": "stdout",
     "output_type": "stream",
     "text": [
      "Training until validation scores don't improve for 100 rounds\n",
      "[100]\ttr's binary_logloss: 0.120103\tvl's binary_logloss: 0.385037\n",
      "Early stopping, best iteration is:\n",
      "[16]\ttr's binary_logloss: 0.218029\tvl's binary_logloss: 0.300473\n"
     ]
    },
    {
     "name": "stderr",
     "output_type": "stream",
     "text": [
      "\n",
      "tune_lambda_l1_and_lambda_l2, val_score: 0.300252:  25%|##5       | 5/20 [00:15<00:38,  2.58s/it]\n",
      "tune_lambda_l1_and_lambda_l2, val_score: 0.300252:  30%|###       | 6/20 [00:15<00:35,  2.56s/it]\n",
      "tune_lambda_l1_and_lambda_l2, val_score: 0.300252:  30%|###       | 6/20 [00:15<00:35,  2.56s/it]"
     ]
    },
    {
     "name": "stdout",
     "output_type": "stream",
     "text": [
      "Training until validation scores don't improve for 100 rounds\n",
      "[100]\ttr's binary_logloss: 0.119851\tvl's binary_logloss: 0.38564\n",
      "Early stopping, best iteration is:\n",
      "[16]\ttr's binary_logloss: 0.217924\tvl's binary_logloss: 0.300252\n"
     ]
    },
    {
     "name": "stderr",
     "output_type": "stream",
     "text": [
      "\n",
      "tune_lambda_l1_and_lambda_l2, val_score: 0.300252:  30%|###       | 6/20 [00:17<00:35,  2.56s/it]\n",
      "tune_lambda_l1_and_lambda_l2, val_score: 0.300252:  35%|###5      | 7/20 [00:17<00:32,  2.54s/it]\n",
      "tune_lambda_l1_and_lambda_l2, val_score: 0.300252:  35%|###5      | 7/20 [00:17<00:32,  2.54s/it]"
     ]
    },
    {
     "name": "stdout",
     "output_type": "stream",
     "text": [
      "Training until validation scores don't improve for 100 rounds\n",
      "[100]\ttr's binary_logloss: 0.120921\tvl's binary_logloss: 0.384373\n",
      "Early stopping, best iteration is:\n",
      "[16]\ttr's binary_logloss: 0.218571\tvl's binary_logloss: 0.300688\n"
     ]
    },
    {
     "name": "stderr",
     "output_type": "stream",
     "text": [
      "\n",
      "tune_lambda_l1_and_lambda_l2, val_score: 0.300252:  35%|###5      | 7/20 [00:20<00:32,  2.54s/it]\n",
      "tune_lambda_l1_and_lambda_l2, val_score: 0.300252:  40%|####      | 8/20 [00:20<00:30,  2.52s/it]\n",
      "tune_lambda_l1_and_lambda_l2, val_score: 0.300252:  40%|####      | 8/20 [00:20<00:30,  2.52s/it]"
     ]
    },
    {
     "name": "stdout",
     "output_type": "stream",
     "text": [
      "Training until validation scores don't improve for 100 rounds\n",
      "[100]\ttr's binary_logloss: 0.12104\tvl's binary_logloss: 0.386711\n",
      "Early stopping, best iteration is:\n",
      "[16]\ttr's binary_logloss: 0.218308\tvl's binary_logloss: 0.300676\n"
     ]
    },
    {
     "name": "stderr",
     "output_type": "stream",
     "text": [
      "\n",
      "tune_lambda_l1_and_lambda_l2, val_score: 0.300252:  40%|####      | 8/20 [00:22<00:30,  2.52s/it]\n",
      "tune_lambda_l1_and_lambda_l2, val_score: 0.300252:  45%|####5     | 9/20 [00:22<00:27,  2.53s/it]\n",
      "tune_lambda_l1_and_lambda_l2, val_score: 0.300252:  45%|####5     | 9/20 [00:22<00:27,  2.53s/it]"
     ]
    },
    {
     "name": "stdout",
     "output_type": "stream",
     "text": [
      "Training until validation scores don't improve for 100 rounds\n",
      "[100]\ttr's binary_logloss: 0.120331\tvl's binary_logloss: 0.386842\n",
      "Early stopping, best iteration is:\n",
      "[16]\ttr's binary_logloss: 0.218058\tvl's binary_logloss: 0.300894\n"
     ]
    },
    {
     "name": "stderr",
     "output_type": "stream",
     "text": [
      "\n",
      "tune_lambda_l1_and_lambda_l2, val_score: 0.300252:  45%|####5     | 9/20 [00:25<00:27,  2.53s/it]\n",
      "tune_lambda_l1_and_lambda_l2, val_score: 0.300252:  50%|#####     | 10/20 [00:25<00:25,  2.51s/it]\n",
      "tune_lambda_l1_and_lambda_l2, val_score: 0.300252:  50%|#####     | 10/20 [00:25<00:25,  2.51s/it]"
     ]
    },
    {
     "name": "stdout",
     "output_type": "stream",
     "text": [
      "Training until validation scores don't improve for 100 rounds\n",
      "[100]\ttr's binary_logloss: 0.119897\tvl's binary_logloss: 0.386385\n",
      "Early stopping, best iteration is:\n",
      "[16]\ttr's binary_logloss: 0.217924\tvl's binary_logloss: 0.300252\n"
     ]
    },
    {
     "name": "stderr",
     "output_type": "stream",
     "text": [
      "\n",
      "tune_lambda_l1_and_lambda_l2, val_score: 0.300252:  50%|#####     | 10/20 [00:27<00:25,  2.51s/it]\n",
      "tune_lambda_l1_and_lambda_l2, val_score: 0.300252:  55%|#####5    | 11/20 [00:27<00:22,  2.55s/it]\n",
      "tune_lambda_l1_and_lambda_l2, val_score: 0.300252:  55%|#####5    | 11/20 [00:27<00:22,  2.55s/it]"
     ]
    },
    {
     "name": "stdout",
     "output_type": "stream",
     "text": [
      "Training until validation scores don't improve for 100 rounds\n",
      "[100]\ttr's binary_logloss: 0.120421\tvl's binary_logloss: 0.386683\n",
      "Early stopping, best iteration is:\n",
      "[16]\ttr's binary_logloss: 0.217972\tvl's binary_logloss: 0.300367\n"
     ]
    },
    {
     "name": "stderr",
     "output_type": "stream",
     "text": [
      "\n",
      "tune_lambda_l1_and_lambda_l2, val_score: 0.300252:  55%|#####5    | 11/20 [00:30<00:22,  2.55s/it]\n",
      "tune_lambda_l1_and_lambda_l2, val_score: 0.300252:  60%|######    | 12/20 [00:30<00:20,  2.54s/it]\n",
      "tune_lambda_l1_and_lambda_l2, val_score: 0.300252:  60%|######    | 12/20 [00:30<00:20,  2.54s/it]"
     ]
    },
    {
     "name": "stdout",
     "output_type": "stream",
     "text": [
      "Training until validation scores don't improve for 100 rounds\n",
      "[100]\ttr's binary_logloss: 0.119897\tvl's binary_logloss: 0.386385\n",
      "Early stopping, best iteration is:\n",
      "[16]\ttr's binary_logloss: 0.217924\tvl's binary_logloss: 0.300252\n"
     ]
    },
    {
     "name": "stderr",
     "output_type": "stream",
     "text": [
      "\n",
      "tune_lambda_l1_and_lambda_l2, val_score: 0.300252:  60%|######    | 12/20 [00:32<00:20,  2.54s/it]\n",
      "tune_lambda_l1_and_lambda_l2, val_score: 0.300252:  65%|######5   | 13/20 [00:32<00:17,  2.53s/it]\n",
      "tune_lambda_l1_and_lambda_l2, val_score: 0.300252:  65%|######5   | 13/20 [00:33<00:17,  2.53s/it]"
     ]
    },
    {
     "name": "stdout",
     "output_type": "stream",
     "text": [
      "Training until validation scores don't improve for 100 rounds\n",
      "[100]\ttr's binary_logloss: 0.120385\tvl's binary_logloss: 0.386704\n",
      "Early stopping, best iteration is:\n",
      "[16]\ttr's binary_logloss: 0.218001\tvl's binary_logloss: 0.300415\n"
     ]
    },
    {
     "name": "stderr",
     "output_type": "stream",
     "text": [
      "\n",
      "tune_lambda_l1_and_lambda_l2, val_score: 0.300252:  65%|######5   | 13/20 [00:35<00:17,  2.53s/it]\n",
      "tune_lambda_l1_and_lambda_l2, val_score: 0.300252:  70%|#######   | 14/20 [00:35<00:15,  2.54s/it]\n",
      "tune_lambda_l1_and_lambda_l2, val_score: 0.300252:  70%|#######   | 14/20 [00:35<00:15,  2.54s/it]"
     ]
    },
    {
     "name": "stdout",
     "output_type": "stream",
     "text": [
      "Training until validation scores don't improve for 100 rounds\n",
      "[100]\ttr's binary_logloss: 0.119912\tvl's binary_logloss: 0.385486\n",
      "Early stopping, best iteration is:\n",
      "[16]\ttr's binary_logloss: 0.217925\tvl's binary_logloss: 0.300252\n"
     ]
    },
    {
     "name": "stderr",
     "output_type": "stream",
     "text": [
      "\n",
      "tune_lambda_l1_and_lambda_l2, val_score: 0.300252:  70%|#######   | 14/20 [00:37<00:15,  2.54s/it]\n",
      "tune_lambda_l1_and_lambda_l2, val_score: 0.300252:  75%|#######5  | 15/20 [00:38<00:12,  2.53s/it]\n",
      "tune_lambda_l1_and_lambda_l2, val_score: 0.300252:  75%|#######5  | 15/20 [00:38<00:12,  2.53s/it]"
     ]
    },
    {
     "name": "stdout",
     "output_type": "stream",
     "text": [
      "Training until validation scores don't improve for 100 rounds\n",
      "[100]\ttr's binary_logloss: 0.11953\tvl's binary_logloss: 0.386254\n",
      "Early stopping, best iteration is:\n",
      "[16]\ttr's binary_logloss: 0.218004\tvl's binary_logloss: 0.300415\n"
     ]
    },
    {
     "name": "stderr",
     "output_type": "stream",
     "text": [
      "\n",
      "tune_lambda_l1_and_lambda_l2, val_score: 0.300252:  75%|#######5  | 15/20 [00:40<00:12,  2.53s/it]\n",
      "tune_lambda_l1_and_lambda_l2, val_score: 0.300252:  80%|########  | 16/20 [00:40<00:10,  2.52s/it]\n",
      "tune_lambda_l1_and_lambda_l2, val_score: 0.300252:  80%|########  | 16/20 [00:40<00:10,  2.52s/it]"
     ]
    },
    {
     "name": "stdout",
     "output_type": "stream",
     "text": [
      "Training until validation scores don't improve for 100 rounds\n",
      "[100]\ttr's binary_logloss: 0.119738\tvl's binary_logloss: 0.386186\n",
      "Early stopping, best iteration is:\n",
      "[16]\ttr's binary_logloss: 0.217924\tvl's binary_logloss: 0.300252\n"
     ]
    },
    {
     "name": "stderr",
     "output_type": "stream",
     "text": [
      "\n",
      "tune_lambda_l1_and_lambda_l2, val_score: 0.300252:  80%|########  | 16/20 [00:43<00:10,  2.52s/it]\n",
      "tune_lambda_l1_and_lambda_l2, val_score: 0.300252:  85%|########5 | 17/20 [00:43<00:07,  2.54s/it]\n",
      "tune_lambda_l1_and_lambda_l2, val_score: 0.300252:  85%|########5 | 17/20 [00:43<00:07,  2.54s/it]"
     ]
    },
    {
     "name": "stdout",
     "output_type": "stream",
     "text": [
      "Training until validation scores don't improve for 100 rounds\n",
      "[100]\ttr's binary_logloss: 0.121009\tvl's binary_logloss: 0.387075\n",
      "Early stopping, best iteration is:\n",
      "[16]\ttr's binary_logloss: 0.217945\tvl's binary_logloss: 0.300577\n"
     ]
    },
    {
     "name": "stderr",
     "output_type": "stream",
     "text": [
      "\n",
      "tune_lambda_l1_and_lambda_l2, val_score: 0.300252:  85%|########5 | 17/20 [00:45<00:07,  2.54s/it]\n",
      "tune_lambda_l1_and_lambda_l2, val_score: 0.300252:  90%|######### | 18/20 [00:45<00:05,  2.56s/it]\n",
      "tune_lambda_l1_and_lambda_l2, val_score: 0.300252:  90%|######### | 18/20 [00:45<00:05,  2.56s/it]"
     ]
    },
    {
     "name": "stdout",
     "output_type": "stream",
     "text": [
      "Training until validation scores don't improve for 100 rounds\n",
      "[100]\ttr's binary_logloss: 0.119778\tvl's binary_logloss: 0.386124\n",
      "Early stopping, best iteration is:\n",
      "[16]\ttr's binary_logloss: 0.217997\tvl's binary_logloss: 0.300416\n"
     ]
    },
    {
     "name": "stderr",
     "output_type": "stream",
     "text": [
      "\n",
      "tune_lambda_l1_and_lambda_l2, val_score: 0.300252:  90%|######### | 18/20 [00:48<00:05,  2.56s/it]\n",
      "tune_lambda_l1_and_lambda_l2, val_score: 0.300252:  95%|#########5| 19/20 [00:48<00:02,  2.54s/it]\n",
      "tune_lambda_l1_and_lambda_l2, val_score: 0.300252:  95%|#########5| 19/20 [00:48<00:02,  2.54s/it]"
     ]
    },
    {
     "name": "stdout",
     "output_type": "stream",
     "text": [
      "Training until validation scores don't improve for 100 rounds\n",
      "[100]\ttr's binary_logloss: 0.131079\tvl's binary_logloss: 0.377269\n",
      "Early stopping, best iteration is:\n",
      "[16]\ttr's binary_logloss: 0.222796\tvl's binary_logloss: 0.300711\n"
     ]
    },
    {
     "name": "stderr",
     "output_type": "stream",
     "text": [
      "\n",
      "tune_lambda_l1_and_lambda_l2, val_score: 0.300252:  95%|#########5| 19/20 [00:50<00:02,  2.54s/it]\n",
      "tune_lambda_l1_and_lambda_l2, val_score: 0.300252: 100%|##########| 20/20 [00:51<00:00,  2.55s/it]\n",
      "\n",
      "  0%|          | 0/5 [00:00<?, ?it/s]\n",
      "tune_min_child_samples, val_score: 0.300252:   0%|          | 0/5 [00:00<?, ?it/s]"
     ]
    },
    {
     "name": "stdout",
     "output_type": "stream",
     "text": [
      "Training until validation scores don't improve for 100 rounds\n",
      "[100]\ttr's binary_logloss: 0.116662\tvl's binary_logloss: 0.386356\n",
      "Early stopping, best iteration is:\n",
      "[16]\ttr's binary_logloss: 0.217096\tvl's binary_logloss: 0.30051\n"
     ]
    },
    {
     "name": "stderr",
     "output_type": "stream",
     "text": [
      "\n",
      "tune_min_child_samples, val_score: 0.300252:   0%|          | 0/5 [00:02<?, ?it/s]\n",
      "tune_min_child_samples, val_score: 0.300252:  20%|##        | 1/5 [00:02<00:10,  2.51s/it]\n",
      "tune_min_child_samples, val_score: 0.300252:  20%|##        | 1/5 [00:02<00:10,  2.51s/it]"
     ]
    },
    {
     "name": "stdout",
     "output_type": "stream",
     "text": [
      "Training until validation scores don't improve for 100 rounds\n",
      "[100]\ttr's binary_logloss: 0.11827\tvl's binary_logloss: 0.385623\n",
      "Early stopping, best iteration is:\n",
      "[16]\ttr's binary_logloss: 0.217426\tvl's binary_logloss: 0.300558\n"
     ]
    },
    {
     "name": "stderr",
     "output_type": "stream",
     "text": [
      "\n",
      "tune_min_child_samples, val_score: 0.300252:  20%|##        | 1/5 [00:05<00:10,  2.51s/it]\n",
      "tune_min_child_samples, val_score: 0.300252:  40%|####      | 2/5 [00:05<00:07,  2.53s/it]\n",
      "tune_min_child_samples, val_score: 0.300252:  40%|####      | 2/5 [00:05<00:07,  2.53s/it]"
     ]
    },
    {
     "name": "stdout",
     "output_type": "stream",
     "text": [
      "Training until validation scores don't improve for 100 rounds\n",
      "[100]\ttr's binary_logloss: 0.120358\tvl's binary_logloss: 0.38729\n",
      "Early stopping, best iteration is:\n",
      "[16]\ttr's binary_logloss: 0.218046\tvl's binary_logloss: 0.300597\n"
     ]
    },
    {
     "name": "stderr",
     "output_type": "stream",
     "text": [
      "\n",
      "tune_min_child_samples, val_score: 0.300252:  40%|####      | 2/5 [00:07<00:07,  2.53s/it]\n",
      "tune_min_child_samples, val_score: 0.300252:  60%|######    | 3/5 [00:07<00:05,  2.52s/it]\n",
      "tune_min_child_samples, val_score: 0.300252:  60%|######    | 3/5 [00:07<00:05,  2.52s/it]"
     ]
    },
    {
     "name": "stdout",
     "output_type": "stream",
     "text": [
      "Training until validation scores don't improve for 100 rounds\n",
      "[100]\ttr's binary_logloss: 0.122946\tvl's binary_logloss: 0.385182\n",
      "Early stopping, best iteration is:\n",
      "[16]\ttr's binary_logloss: 0.218981\tvl's binary_logloss: 0.299814\n"
     ]
    },
    {
     "name": "stderr",
     "output_type": "stream",
     "text": [
      "\n",
      "tune_min_child_samples, val_score: 0.299814:  60%|######    | 3/5 [00:10<00:05,  2.52s/it]\n",
      "tune_min_child_samples, val_score: 0.299814:  80%|########  | 4/5 [00:10<00:02,  2.54s/it]\n",
      "tune_min_child_samples, val_score: 0.299814:  80%|########  | 4/5 [00:10<00:02,  2.54s/it]"
     ]
    },
    {
     "name": "stdout",
     "output_type": "stream",
     "text": [
      "Training until validation scores don't improve for 100 rounds\n",
      "[100]\ttr's binary_logloss: 0.124892\tvl's binary_logloss: 0.386836\n",
      "Early stopping, best iteration is:\n",
      "[16]\ttr's binary_logloss: 0.219927\tvl's binary_logloss: 0.301026\n"
     ]
    },
    {
     "name": "stderr",
     "output_type": "stream",
     "text": [
      "\n",
      "tune_min_child_samples, val_score: 0.299814:  80%|########  | 4/5 [00:12<00:02,  2.54s/it]\n",
      "tune_min_child_samples, val_score: 0.299814: 100%|##########| 5/5 [00:12<00:00,  2.56s/it]\n"
     ]
    }
   ],
   "source": [
    "dtr = lgb.Dataset(dftr[cols_feat], label=dftr[TCOL])\n",
    "dvl = lgb.Dataset(dfvl[cols_feat], label=dfvl[TCOL])\n",
    "best_params, tuning_history = {}, []\n",
    "evalres = {}\n",
    "evallist = [(dtr, 'train'), (dvl, 'eval')]\n",
    "bst = lgb.train(params=params, \n",
    "                train_set=dtr, \n",
    "                num_boost_round=50000,\n",
    "                valid_sets=[dtr, dvl],\n",
    "                valid_names=['tr','vl'],\n",
    "                best_params=best_params,\n",
    "                tuning_history=tuning_history,\n",
    "                verbose_eval=100,\n",
    "                early_stopping_rounds=100,\n",
    "                evals_result=evalres,\n",
    "               )\n",
    "results['bst'] = bst\n",
    "results['evalres'] = evalres\n",
    "results['best_params']=best_params\n",
    "results['tuning_history']=tuning_history\n"
   ]
  },
  {
   "cell_type": "markdown",
   "metadata": {},
   "source": [
    "## tr vl trajec"
   ]
  },
  {
   "cell_type": "code",
   "execution_count": 29,
   "metadata": {},
   "outputs": [
    {
     "data": {
      "image/png": "[encoded data removed]",
      "text/plain": [
       "<Figure size 432x288 with 1 Axes>"
      ]
     },
     "metadata": {
      "needs_background": "light"
     },
     "output_type": "display_data"
    }
   ],
   "source": [
    "plt.plot(evalres['tr']['binary_logloss'])\n",
    "plt.plot(evalres['vl']['binary_logloss'])\n",
    "plt.title(f\"logloss; best_iteration {bst.best_iteration}\")\n",
    "plt.show()"
   ]
  },
  {
   "cell_type": "markdown",
   "metadata": {},
   "source": [
    "## model features"
   ]
  },
  {
   "cell_type": "code",
   "execution_count": 30,
   "metadata": {},
   "outputs": [
    {
     "data": {
      "image/png": "[encoded data removed]",
      "text/plain": [
       "<Figure size 720x360 with 1 Axes>"
      ]
     },
     "metadata": {
      "needs_background": "light"
     },
     "output_type": "display_data"
    }
   ],
   "source": [
    "ax = lgb.plot_importance(bst, height=0.8, max_num_features=50, figsize=(10,5))\n",
    "ax.grid(False, axis=\"y\")\n",
    "ax.set_title(f'Estimated feature importance')\n",
    "plt.show()"
   ]
  },
  {
   "cell_type": "code",
   "execution_count": 31,
   "metadata": {
    "scrolled": true
   },
   "outputs": [
    {
     "data": {
      "text/html": [
       "<div>\n",
       "<style scoped>\n",
       "    .dataframe tbody tr th:only-of-type {\n",
       "        vertical-align: middle;\n",
       "    }\n",
       "\n",
       "    .dataframe tbody tr th {\n",
       "        vertical-align: top;\n",
       "    }\n",
       "\n",
       "    .dataframe thead th {\n",
       "        text-align: right;\n",
       "    }\n",
       "</style>\n",
       "<table border=\"1\" class=\"dataframe\">\n",
       "  <thead>\n",
       "    <tr style=\"text-align: right;\">\n",
       "      <th></th>\n",
       "      <th>0</th>\n",
       "      <th>1</th>\n",
       "    </tr>\n",
       "  </thead>\n",
       "  <tbody>\n",
       "    <tr>\n",
       "      <th>29</th>\n",
       "      <td>langhour</td>\n",
       "      <td>148</td>\n",
       "    </tr>\n",
       "    <tr>\n",
       "      <th>68</th>\n",
       "      <td>tgtenc_u2_fllwer_cnt</td>\n",
       "      <td>97</td>\n",
       "    </tr>\n",
       "    <tr>\n",
       "      <th>26</th>\n",
       "      <td>u2_age</td>\n",
       "      <td>80</td>\n",
       "    </tr>\n",
       "    <tr>\n",
       "      <th>28</th>\n",
       "      <td>u1_fllwng_cnt_by_age</td>\n",
       "      <td>79</td>\n",
       "    </tr>\n",
       "    <tr>\n",
       "      <th>83</th>\n",
       "      <td>tgtenc_langhour</td>\n",
       "      <td>73</td>\n",
       "    </tr>\n",
       "    <tr>\n",
       "      <th>2</th>\n",
       "      <td>u1_fllwer_cnt</td>\n",
       "      <td>73</td>\n",
       "    </tr>\n",
       "    <tr>\n",
       "      <th>65</th>\n",
       "      <td>tgtenc_u1_fllwing_cnt</td>\n",
       "      <td>71</td>\n",
       "    </tr>\n",
       "    <tr>\n",
       "      <th>23</th>\n",
       "      <td>tmdlta_twtu2</td>\n",
       "      <td>69</td>\n",
       "    </tr>\n",
       "    <tr>\n",
       "      <th>24</th>\n",
       "      <td>twt_age</td>\n",
       "      <td>65</td>\n",
       "    </tr>\n",
       "    <tr>\n",
       "      <th>9</th>\n",
       "      <td>len_toks</td>\n",
       "      <td>62</td>\n",
       "    </tr>\n",
       "    <tr>\n",
       "      <th>27</th>\n",
       "      <td>u1_fllwer_cnt_by_age</td>\n",
       "      <td>59</td>\n",
       "    </tr>\n",
       "    <tr>\n",
       "      <th>6</th>\n",
       "      <td>u2_fllwng_cnt</td>\n",
       "      <td>58</td>\n",
       "    </tr>\n",
       "    <tr>\n",
       "      <th>22</th>\n",
       "      <td>tmdlta_twtu1</td>\n",
       "      <td>57</td>\n",
       "    </tr>\n",
       "    <tr>\n",
       "      <th>37</th>\n",
       "      <td>frq_u2_fllwer_cnt</td>\n",
       "      <td>57</td>\n",
       "    </tr>\n",
       "    <tr>\n",
       "      <th>5</th>\n",
       "      <td>u2_fllwer_cnt</td>\n",
       "      <td>55</td>\n",
       "    </tr>\n",
       "    <tr>\n",
       "      <th>3</th>\n",
       "      <td>u1_fllwing_cnt</td>\n",
       "      <td>46</td>\n",
       "    </tr>\n",
       "    <tr>\n",
       "      <th>34</th>\n",
       "      <td>frq_u1_fllwing_cnt</td>\n",
       "      <td>42</td>\n",
       "    </tr>\n",
       "    <tr>\n",
       "      <th>25</th>\n",
       "      <td>u1_age</td>\n",
       "      <td>38</td>\n",
       "    </tr>\n",
       "    <tr>\n",
       "      <th>64</th>\n",
       "      <td>tgtenc_u1id</td>\n",
       "      <td>36</td>\n",
       "    </tr>\n",
       "    <tr>\n",
       "      <th>0</th>\n",
       "      <td>twttyp</td>\n",
       "      <td>31</td>\n",
       "    </tr>\n",
       "    <tr>\n",
       "      <th>52</th>\n",
       "      <td>frq_langhour</td>\n",
       "      <td>30</td>\n",
       "    </tr>\n",
       "    <tr>\n",
       "      <th>1</th>\n",
       "      <td>lang</td>\n",
       "      <td>25</td>\n",
       "    </tr>\n",
       "    <tr>\n",
       "      <th>21</th>\n",
       "      <td>tmdlta_u2u1</td>\n",
       "      <td>24</td>\n",
       "    </tr>\n",
       "    <tr>\n",
       "      <th>61</th>\n",
       "      <td>tgtenc_twtid</td>\n",
       "      <td>23</td>\n",
       "    </tr>\n",
       "    <tr>\n",
       "      <th>80</th>\n",
       "      <td>tgtenc_dayofweek</td>\n",
       "      <td>22</td>\n",
       "    </tr>\n",
       "    <tr>\n",
       "      <th>32</th>\n",
       "      <td>frq_lang</td>\n",
       "      <td>21</td>\n",
       "    </tr>\n",
       "    <tr>\n",
       "      <th>63</th>\n",
       "      <td>tgtenc_lang</td>\n",
       "      <td>18</td>\n",
       "    </tr>\n",
       "    <tr>\n",
       "      <th>67</th>\n",
       "      <td>tgtenc_u2id</td>\n",
       "      <td>17</td>\n",
       "    </tr>\n",
       "    <tr>\n",
       "      <th>53</th>\n",
       "      <td>sumfrq_hshtgs</td>\n",
       "      <td>17</td>\n",
       "    </tr>\n",
       "    <tr>\n",
       "      <th>20</th>\n",
       "      <td>hour</td>\n",
       "      <td>14</td>\n",
       "    </tr>\n",
       "    <tr>\n",
       "      <th>33</th>\n",
       "      <td>frq_u1id</td>\n",
       "      <td>13</td>\n",
       "    </tr>\n",
       "    <tr>\n",
       "      <th>8</th>\n",
       "      <td>u1_fllw_u2</td>\n",
       "      <td>13</td>\n",
       "    </tr>\n",
       "    <tr>\n",
       "      <th>18</th>\n",
       "      <td>n_domns</td>\n",
       "      <td>13</td>\n",
       "    </tr>\n",
       "    <tr>\n",
       "      <th>39</th>\n",
       "      <td>frq_u1_fllw_u2</td>\n",
       "      <td>12</td>\n",
       "    </tr>\n",
       "    <tr>\n",
       "      <th>49</th>\n",
       "      <td>frq_dayofweek</td>\n",
       "      <td>12</td>\n",
       "    </tr>\n",
       "    <tr>\n",
       "      <th>81</th>\n",
       "      <td>tgtenc_hour</td>\n",
       "      <td>11</td>\n",
       "    </tr>\n",
       "    <tr>\n",
       "      <th>62</th>\n",
       "      <td>tgtenc_twttyp</td>\n",
       "      <td>11</td>\n",
       "    </tr>\n",
       "    <tr>\n",
       "      <th>60</th>\n",
       "      <td>maxfrq_domns</td>\n",
       "      <td>8</td>\n",
       "    </tr>\n",
       "    <tr>\n",
       "      <th>36</th>\n",
       "      <td>frq_u2id</td>\n",
       "      <td>8</td>\n",
       "    </tr>\n",
       "    <tr>\n",
       "      <th>10</th>\n",
       "      <td>n_media_Photo</td>\n",
       "      <td>8</td>\n",
       "    </tr>\n",
       "    <tr>\n",
       "      <th>43</th>\n",
       "      <td>frq_has_hshtgs</td>\n",
       "      <td>6</td>\n",
       "    </tr>\n",
       "    <tr>\n",
       "      <th>55</th>\n",
       "      <td>sumfrq_media</td>\n",
       "      <td>5</td>\n",
       "    </tr>\n",
       "    <tr>\n",
       "      <th>44</th>\n",
       "      <td>frq_n_hshtgs</td>\n",
       "      <td>4</td>\n",
       "    </tr>\n",
       "    <tr>\n",
       "      <th>47</th>\n",
       "      <td>frq_has_domns</td>\n",
       "      <td>4</td>\n",
       "    </tr>\n",
       "    <tr>\n",
       "      <th>16</th>\n",
       "      <td>n_media</td>\n",
       "      <td>4</td>\n",
       "    </tr>\n",
       "    <tr>\n",
       "      <th>50</th>\n",
       "      <td>frq_hour</td>\n",
       "      <td>4</td>\n",
       "    </tr>\n",
       "    <tr>\n",
       "      <th>31</th>\n",
       "      <td>frq_twttyp</td>\n",
       "      <td>4</td>\n",
       "    </tr>\n",
       "    <tr>\n",
       "      <th>46</th>\n",
       "      <td>frq_n_media</td>\n",
       "      <td>4</td>\n",
       "    </tr>\n",
       "    <tr>\n",
       "      <th>17</th>\n",
       "      <td>has_domns</td>\n",
       "      <td>4</td>\n",
       "    </tr>\n",
       "    <tr>\n",
       "      <th>79</th>\n",
       "      <td>tgtenc_n_domns</td>\n",
       "      <td>4</td>\n",
       "    </tr>\n",
       "    <tr>\n",
       "      <th>59</th>\n",
       "      <td>sumfrq_domns</td>\n",
       "      <td>3</td>\n",
       "    </tr>\n",
       "    <tr>\n",
       "      <th>13</th>\n",
       "      <td>has_hshtgs</td>\n",
       "      <td>3</td>\n",
       "    </tr>\n",
       "    <tr>\n",
       "      <th>14</th>\n",
       "      <td>n_hshtgs</td>\n",
       "      <td>3</td>\n",
       "    </tr>\n",
       "    <tr>\n",
       "      <th>19</th>\n",
       "      <td>dayofweek</td>\n",
       "      <td>3</td>\n",
       "    </tr>\n",
       "    <tr>\n",
       "      <th>11</th>\n",
       "      <td>n_media_Video</td>\n",
       "      <td>3</td>\n",
       "    </tr>\n",
       "    <tr>\n",
       "      <th>75</th>\n",
       "      <td>tgtenc_n_hshtgs</td>\n",
       "      <td>3</td>\n",
       "    </tr>\n",
       "    <tr>\n",
       "      <th>56</th>\n",
       "      <td>maxfrq_media</td>\n",
       "      <td>3</td>\n",
       "    </tr>\n",
       "    <tr>\n",
       "      <th>48</th>\n",
       "      <td>frq_n_domns</td>\n",
       "      <td>3</td>\n",
       "    </tr>\n",
       "    <tr>\n",
       "      <th>57</th>\n",
       "      <td>sumfrq_links</td>\n",
       "      <td>2</td>\n",
       "    </tr>\n",
       "    <tr>\n",
       "      <th>15</th>\n",
       "      <td>has_media</td>\n",
       "      <td>2</td>\n",
       "    </tr>\n",
       "    <tr>\n",
       "      <th>45</th>\n",
       "      <td>frq_has_media</td>\n",
       "      <td>2</td>\n",
       "    </tr>\n",
       "    <tr>\n",
       "      <th>35</th>\n",
       "      <td>frq_u1_vrfed</td>\n",
       "      <td>2</td>\n",
       "    </tr>\n",
       "    <tr>\n",
       "      <th>66</th>\n",
       "      <td>tgtenc_u1_vrfed</td>\n",
       "      <td>2</td>\n",
       "    </tr>\n",
       "    <tr>\n",
       "      <th>54</th>\n",
       "      <td>maxfrq_hshtgs</td>\n",
       "      <td>1</td>\n",
       "    </tr>\n",
       "    <tr>\n",
       "      <th>70</th>\n",
       "      <td>tgtenc_u1_fllw_u2</td>\n",
       "      <td>1</td>\n",
       "    </tr>\n",
       "    <tr>\n",
       "      <th>82</th>\n",
       "      <td>tgtenc_u1u2</td>\n",
       "      <td>1</td>\n",
       "    </tr>\n",
       "    <tr>\n",
       "      <th>74</th>\n",
       "      <td>tgtenc_has_hshtgs</td>\n",
       "      <td>0</td>\n",
       "    </tr>\n",
       "    <tr>\n",
       "      <th>78</th>\n",
       "      <td>tgtenc_has_domns</td>\n",
       "      <td>0</td>\n",
       "    </tr>\n",
       "    <tr>\n",
       "      <th>76</th>\n",
       "      <td>tgtenc_has_media</td>\n",
       "      <td>0</td>\n",
       "    </tr>\n",
       "    <tr>\n",
       "      <th>77</th>\n",
       "      <td>tgtenc_n_media</td>\n",
       "      <td>0</td>\n",
       "    </tr>\n",
       "    <tr>\n",
       "      <th>72</th>\n",
       "      <td>tgtenc_n_media_Video</td>\n",
       "      <td>0</td>\n",
       "    </tr>\n",
       "    <tr>\n",
       "      <th>73</th>\n",
       "      <td>tgtenc_n_media_GIF</td>\n",
       "      <td>0</td>\n",
       "    </tr>\n",
       "    <tr>\n",
       "      <th>30</th>\n",
       "      <td>frq_twtid</td>\n",
       "      <td>0</td>\n",
       "    </tr>\n",
       "    <tr>\n",
       "      <th>71</th>\n",
       "      <td>tgtenc_n_media_Photo</td>\n",
       "      <td>0</td>\n",
       "    </tr>\n",
       "    <tr>\n",
       "      <th>69</th>\n",
       "      <td>tgtenc_u2_vrfed</td>\n",
       "      <td>0</td>\n",
       "    </tr>\n",
       "    <tr>\n",
       "      <th>4</th>\n",
       "      <td>u1_vrfed</td>\n",
       "      <td>0</td>\n",
       "    </tr>\n",
       "    <tr>\n",
       "      <th>7</th>\n",
       "      <td>u2_vrfed</td>\n",
       "      <td>0</td>\n",
       "    </tr>\n",
       "    <tr>\n",
       "      <th>58</th>\n",
       "      <td>maxfrq_links</td>\n",
       "      <td>0</td>\n",
       "    </tr>\n",
       "    <tr>\n",
       "      <th>51</th>\n",
       "      <td>frq_u1u2</td>\n",
       "      <td>0</td>\n",
       "    </tr>\n",
       "    <tr>\n",
       "      <th>41</th>\n",
       "      <td>frq_n_media_Video</td>\n",
       "      <td>0</td>\n",
       "    </tr>\n",
       "    <tr>\n",
       "      <th>40</th>\n",
       "      <td>frq_n_media_Photo</td>\n",
       "      <td>0</td>\n",
       "    </tr>\n",
       "    <tr>\n",
       "      <th>38</th>\n",
       "      <td>frq_u2_vrfed</td>\n",
       "      <td>0</td>\n",
       "    </tr>\n",
       "    <tr>\n",
       "      <th>12</th>\n",
       "      <td>n_media_GIF</td>\n",
       "      <td>0</td>\n",
       "    </tr>\n",
       "    <tr>\n",
       "      <th>42</th>\n",
       "      <td>frq_n_media_GIF</td>\n",
       "      <td>0</td>\n",
       "    </tr>\n",
       "  </tbody>\n",
       "</table>\n",
       "</div>"
      ],
      "text/plain": [
       "                        0    1\n",
       "29               langhour  148\n",
       "68   tgtenc_u2_fllwer_cnt   97\n",
       "26                 u2_age   80\n",
       "28   u1_fllwng_cnt_by_age   79\n",
       "83        tgtenc_langhour   73\n",
       "2           u1_fllwer_cnt   73\n",
       "65  tgtenc_u1_fllwing_cnt   71\n",
       "23           tmdlta_twtu2   69\n",
       "24                twt_age   65\n",
       "9                len_toks   62\n",
       "27   u1_fllwer_cnt_by_age   59\n",
       "6           u2_fllwng_cnt   58\n",
       "22           tmdlta_twtu1   57\n",
       "37      frq_u2_fllwer_cnt   57\n",
       "5           u2_fllwer_cnt   55\n",
       "3          u1_fllwing_cnt   46\n",
       "34     frq_u1_fllwing_cnt   42\n",
       "25                 u1_age   38\n",
       "64            tgtenc_u1id   36\n",
       "0                  twttyp   31\n",
       "52           frq_langhour   30\n",
       "1                    lang   25\n",
       "21            tmdlta_u2u1   24\n",
       "61           tgtenc_twtid   23\n",
       "80       tgtenc_dayofweek   22\n",
       "32               frq_lang   21\n",
       "63            tgtenc_lang   18\n",
       "67            tgtenc_u2id   17\n",
       "53          sumfrq_hshtgs   17\n",
       "20                   hour   14\n",
       "33               frq_u1id   13\n",
       "8              u1_fllw_u2   13\n",
       "18                n_domns   13\n",
       "39         frq_u1_fllw_u2   12\n",
       "49          frq_dayofweek   12\n",
       "81            tgtenc_hour   11\n",
       "62          tgtenc_twttyp   11\n",
       "60           maxfrq_domns    8\n",
       "36               frq_u2id    8\n",
       "10          n_media_Photo    8\n",
       "43         frq_has_hshtgs    6\n",
       "55           sumfrq_media    5\n",
       "44           frq_n_hshtgs    4\n",
       "47          frq_has_domns    4\n",
       "16                n_media    4\n",
       "50               frq_hour    4\n",
       "31             frq_twttyp    4\n",
       "46            frq_n_media    4\n",
       "17              has_domns    4\n",
       "79         tgtenc_n_domns    4\n",
       "59           sumfrq_domns    3\n",
       "13             has_hshtgs    3\n",
       "14               n_hshtgs    3\n",
       "19              dayofweek    3\n",
       "11          n_media_Video    3\n",
       "75        tgtenc_n_hshtgs    3\n",
       "56           maxfrq_media    3\n",
       "48            frq_n_domns    3\n",
       "57           sumfrq_links    2\n",
       "15              has_media    2\n",
       "45          frq_has_media    2\n",
       "35           frq_u1_vrfed    2\n",
       "66        tgtenc_u1_vrfed    2\n",
       "54          maxfrq_hshtgs    1\n",
       "70      tgtenc_u1_fllw_u2    1\n",
       "82            tgtenc_u1u2    1\n",
       "74      tgtenc_has_hshtgs    0\n",
       "78       tgtenc_has_domns    0\n",
       "76       tgtenc_has_media    0\n",
       "77         tgtenc_n_media    0\n",
       "72   tgtenc_n_media_Video    0\n",
       "73     tgtenc_n_media_GIF    0\n",
       "30              frq_twtid    0\n",
       "71   tgtenc_n_media_Photo    0\n",
       "69        tgtenc_u2_vrfed    0\n",
       "4                u1_vrfed    0\n",
       "7                u2_vrfed    0\n",
       "58           maxfrq_links    0\n",
       "51               frq_u1u2    0\n",
       "41      frq_n_media_Video    0\n",
       "40      frq_n_media_Photo    0\n",
       "38           frq_u2_vrfed    0\n",
       "12            n_media_GIF    0\n",
       "42        frq_n_media_GIF    0"
      ]
     },
     "execution_count": 31,
     "metadata": {},
     "output_type": "execute_result"
    }
   ],
   "source": [
    "pd.DataFrame([bst.feature_name(), bst.feature_importance()]).T.sort_values(1, ascending=False)"
   ]
  },
  {
   "cell_type": "markdown",
   "metadata": {},
   "source": [
    "# eval"
   ]
  },
  {
   "cell_type": "code",
   "execution_count": 32,
   "metadata": {},
   "outputs": [
    {
     "name": "stdout",
     "output_type": "stream",
     "text": [
      "CPU times: user 2.92 s, sys: 4.82 s, total: 7.75 s\n",
      "Wall time: 1.62 s\n"
     ]
    }
   ],
   "source": [
    "%%time\n",
    "prdtr = bst.predict(dftr[cols_feat],num_iteration=bst.best_iteration)\n",
    "prdvl = bst.predict(dfvl[cols_feat],num_iteration=bst.best_iteration)\n",
    "prdval0 = bst.predict(dfval[cols_feat],num_iteration=bst.best_iteration)\n",
    "prdval = calibration(prdval0, train_pop, target_pop, sampled_train_pop, sampled_target_pop)"
   ]
  },
  {
   "cell_type": "code",
   "execution_count": 33,
   "metadata": {},
   "outputs": [
    {
     "name": "stdout",
     "output_type": "stream",
     "text": [
      "CPU times: user 924 ms, sys: 1.73 s, total: 2.66 s\n",
      "Wall time: 641 ms\n"
     ]
    }
   ],
   "source": [
    "%%time\n",
    "ytr,yvl,yval=[df[TCOL].values for df in (dftr,dfvl,dfval)]\n",
    "\n",
    "auc_tr=compute_prauc(prdtr, ytr)\n",
    "rce_tr=compute_rce(prdtr, ytr)\n",
    "auc_vl=compute_prauc(prdvl, yvl)\n",
    "rce_vl=compute_rce(prdvl, yvl)\n",
    "auc_val=compute_prauc(prdval, yval)\n",
    "rce_val=compute_rce(prdval, yval)\n",
    "\n",
    "results['scrs'] = {}\n",
    "results['scrs']['auc_tr']=auc_tr\n",
    "results['scrs']['rce_tr']=rce_tr\n",
    "results['scrs']['auc_vl']=auc_vl\n",
    "results['scrs']['rce_vl']=rce_vl\n",
    "results['scrs']['auc_val']=auc_val\n",
    "results['scrs']['rce_val']=rce_val"
   ]
  },
  {
   "cell_type": "code",
   "execution_count": 34,
   "metadata": {},
   "outputs": [
    {
     "name": "stdout",
     "output_type": "stream",
     "text": [
      "auc_tr:  0.6891\n",
      "auc_vl:  0.2634\n",
      "auc_val: 0.0781\n",
      "\n",
      "rce_tr:  34.3651\n",
      "rce_vl:  10.8872\n",
      "rce_val: 8.0058\n"
     ]
    }
   ],
   "source": [
    "print(f'auc_tr:  {auc_tr:.4f}')\n",
    "print(f'auc_vl:  {auc_vl:.4f}')\n",
    "print(f'auc_val: {auc_val:.4f}')\n",
    "print()\n",
    "print(f'rce_tr:  {rce_tr:.4f}')\n",
    "print(f'rce_vl:  {rce_vl:.4f}')\n",
    "print(f'rce_val: {rce_val:.4f}')"
   ]
  },
  {
   "cell_type": "markdown",
   "metadata": {},
   "source": [
    "# save results"
   ]
  },
  {
   "cell_type": "code",
   "execution_count": 35,
   "metadata": {},
   "outputs": [],
   "source": [
    "pickle.dump(results, open(f'{p_out}/results_{PRFX}.p', 'wb'))"
   ]
  },
  {
   "cell_type": "markdown",
   "metadata": {},
   "source": [
    "# infer"
   ]
  },
  {
   "cell_type": "code",
   "execution_count": 36,
   "metadata": {},
   "outputs": [],
   "source": [
    "results = pickle.load( open(f'{p_out}/results_{PRFX}.p', 'rb'))\n",
    "bst = results['bst']\n",
    "col2tgtenc = results['col2tgtenc']\n",
    "cols_feat = results['cols_feat']\n",
    "tgt_encoder = results['tgt_encoder']"
   ]
  },
  {
   "cell_type": "markdown",
   "metadata": {},
   "source": [
    "## prep"
   ]
  },
  {
   "cell_type": "code",
   "execution_count": 37,
   "metadata": {},
   "outputs": [
    {
     "name": "stdout",
     "output_type": "stream",
     "text": [
      "CPU times: user 7.67 ms, sys: 0 ns, total: 7.67 ms\n",
      "Wall time: 6.16 ms\n"
     ]
    }
   ],
   "source": [
    "%%time\n",
    "dftst=pd.read_csv(\n",
    "    f'{p_in}/val_{tsttmstmp}.tsv',\n",
    "    sep='\\x01', header=None, names=cols_val, \n",
    "    nrows=10\n",
    ")"
   ]
  },
  {
   "cell_type": "code",
   "execution_count": 38,
   "metadata": {
    "scrolled": true
   },
   "outputs": [
    {
     "name": "stdout",
     "output_type": "stream",
     "text": [
      "2020-04-05 20:04:54 start\n",
      "2020-04-05 20:04:54 freq of columns using CountEncoder\n"
     ]
    },
    {
     "name": "stderr",
     "output_type": "stream",
     "text": [
      "/data/anaconda3/envs/rcss20/lib/python3.7/site-packages/category_encoders/count.py:255: FutureWarning: The pandas.np module is deprecated and will be removed from pandas in a future version. Import numpy directly instead\n",
      "  X.loc[:, self.cols] = X.fillna(value=pd.np.nan)\n"
     ]
    },
    {
     "name": "stdout",
     "output_type": "stream",
     "text": [
      "2020-04-05 20:04:54 freq of tags\n",
      "2020-04-05 20:04:54 done\n",
      "CPU times: user 127 ms, sys: 6.81 ms, total: 134 ms\n",
      "Wall time: 128 ms\n"
     ]
    }
   ],
   "source": [
    "%%time\n",
    "dftst=prp_df(dftst, tm_max=tm_tst_max)"
   ]
  },
  {
   "cell_type": "code",
   "execution_count": 39,
   "metadata": {},
   "outputs": [],
   "source": [
    "encoded_tst = tgt_encoder.transform(dftst[col2tgtenc].astype(object))\n",
    "tgtenc_columns = [f'tgtenc_{col}' for col in encoded_tst.columns]\n",
    "encoded_tst.columns = tgtenc_columns\n",
    "dftst = pd.concat([dftst, encoded_tst], 1)\n",
    "dftst.drop(columns=['u1id','u1u2'], inplace=True)\n",
    "cols_category=['twttyp', 'lang', 'langhour']\n",
    "dftst[cols_category]=dftst[cols_category].astype('category')"
   ]
  },
  {
   "cell_type": "markdown",
   "metadata": {},
   "source": [
    "## predict"
   ]
  },
  {
   "cell_type": "code",
   "execution_count": 40,
   "metadata": {},
   "outputs": [
    {
     "name": "stdout",
     "output_type": "stream",
     "text": [
      "CPU times: user 19.8 ms, sys: 8.24 ms, total: 28 ms\n",
      "Wall time: 21.4 ms\n"
     ]
    }
   ],
   "source": [
    "%%time\n",
    "prdtst0 = bst.predict(dftst[cols_feat],num_iteration=bst.best_iteration)\n",
    "prdtst = calibration(prdtst0, train_pop, target_pop, sampled_train_pop, sampled_target_pop)"
   ]
  },
  {
   "cell_type": "code",
   "execution_count": 41,
   "metadata": {},
   "outputs": [],
   "source": [
    "dfsub_ids = dftst[['twtid','u2id',]]\n",
    "dfsub = dfsub_ids.copy()\n",
    "dfsub['scr'] = prdtst\n",
    "dfsub.to_csv(f'{p_out}/{TGT}__{PRFX}.csv',index=False,header=False)"
   ]
  },
  {
   "cell_type": "code",
   "execution_count": null,
   "metadata": {},
   "outputs": [],
   "source": []
  },
  {
   "cell_type": "code",
   "execution_count": null,
   "metadata": {},
   "outputs": [],
   "source": []
  },
  {
   "cell_type": "code",
   "execution_count": null,
   "metadata": {},
   "outputs": [],
   "source": []
  }
 ],
 "metadata": {
  "kernelspec": {
   "display_name": "rcss20",
   "language": "python",
   "name": "rcss20"
  },
  "language_info": {
   "codemirror_mode": {
    "name": "ipython",
    "version": 3
   },
   "file_extension": ".py",
   "mimetype": "text/x-python",
   "name": "python",
   "nbconvert_exporter": "python",
   "pygments_lexer": "ipython3",
   "version": "3.7.6"
  },
  "toc": {
   "base_numbering": 1,
   "nav_menu": {},
   "number_sections": true,
   "sideBar": true,
   "skip_h1_title": false,
   "title_cell": "Table of Contents",
   "title_sidebar": "Contents",
   "toc_cell": false,
   "toc_position": {},
   "toc_section_display": true,
   "toc_window_display": true
  }
 },
 "nbformat": 4,
 "nbformat_minor": 4
}
