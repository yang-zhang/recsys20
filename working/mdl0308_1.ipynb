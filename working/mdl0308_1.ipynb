{
 "cells": [
  {
   "cell_type": "markdown",
   "metadata": {},
   "source": [
    "# setup"
   ]
  },
  {
   "cell_type": "code",
   "execution_count": 1,
   "metadata": {},
   "outputs": [],
   "source": [
    "PRFX = 'mdl0308_1'\n",
    "\n",
    "SEED = 101\n",
    "\n",
    "# import torch\n",
    "# from transformers import *\n",
    "\n",
    "import numpy as np\n",
    "import pandas as pd\n",
    "from pathlib import Path\n",
    "# pd.set_option('display.max_columns', 500)\n",
    "# import dask.dataframe as dd\n",
    "\n",
    "from sklearn.model_selection import train_test_split\n",
    "from sklearn.ensemble import RandomForestClassifier\n",
    "from sklearn.metrics import accuracy_score, average_precision_score\n",
    "\n",
    "\n",
    "HOME='/Users/yang.zhang/git/recsys20/'\n",
    "p_in=f'{HOME}/input'\n",
    "p_out=f'{HOME}/output/{PRFX}'\n",
    "Path(p_out).mkdir(exist_ok=True)\n",
    "# tokenizer = BertTokenizer.from_pretrained('bert-base-uncased')\n",
    "\n",
    "# (rcss20) ➜  recsys20 git:(master) ✗ wc -l data/training.tsv\n",
    "#  148,075,238 data/training.tsv\n",
    "# (rcss20) ➜  recsys20 git:(master) ✗ wc -l data/val.tsv\n",
    "#  15,127,684 data/val.tsv\n",
    "# !head -100000 {p_in}/trn.tsv > {p_in}/trn1e5.tsv\n",
    "# !head -10000 {p_in}/val.tsv > {p_in}/val1e4.tsv\n"
   ]
  },
  {
   "cell_type": "code",
   "execution_count": 2,
   "metadata": {},
   "outputs": [],
   "source": [
    "cols_tgt   = ['did_rtwt', 'did_rply','did_like','did_cmmt',            ]\n",
    "cols_subnm = ['Retweet' , 'Reply',   'Like',    'Retweet with comment',]\n",
    "ntgts = len(cols_tgt)"
   ]
  },
  {
   "cell_type": "markdown",
   "metadata": {},
   "source": [
    "# prep"
   ]
  },
  {
   "cell_type": "code",
   "execution_count": 3,
   "metadata": {},
   "outputs": [],
   "source": [
    "cols=[\n",
    "'Text tokens',\n",
    "'Hashtags',\n",
    "'Tweet id',\n",
    "'Present media',\n",
    "'Present links',\n",
    "'Present domains',\n",
    "'Tweet type',\n",
    "'Language',\n",
    "'Timestamp',\n",
    "    \n",
    "'Engaged User id',\n",
    "'Engaged Follower count',\n",
    "'Engaged Following count',\n",
    "'Engaged Is verified?',\n",
    "'Engaged Account creation time',\n",
    "    \n",
    "'Engaging User id',\n",
    "'Engaging Follower count',\n",
    "'Engaging Following count',\n",
    "'Engaging Is verified?',\n",
    "'Engaging Account creation time',\n",
    "    \n",
    "'Engagee follows engager?',\n",
    "'Reply engagement timestamp',\n",
    "'Retweet engagement timestamp',\n",
    "'Retweet with comment engagement timestamp',\n",
    "'Like engagement timestamp',\n",
    "]\n",
    "cols_val=cols[:-4]\n",
    "cols_time=[\n",
    "'Timestamp',\n",
    "'Engaged Account creation time',\n",
    "'Engaging Account creation time',\n",
    "'Reply engagement timestamp',\n",
    "'Retweet engagement timestamp',\n",
    "'Retweet with comment engagement timestamp',\n",
    "'Like engagement timestamp',\n",
    "]"
   ]
  },
  {
   "cell_type": "code",
   "execution_count": 4,
   "metadata": {},
   "outputs": [],
   "source": [
    "df=pd.read_csv(f'{p_in}/trn1e5.tsv',\n",
    "               sep='\\x01',\n",
    "               header=None,\n",
    "               usecols=range(1,len(cols)),\n",
    "               names=cols[1:],)"
   ]
  },
  {
   "cell_type": "code",
   "execution_count": 29,
   "metadata": {},
   "outputs": [],
   "source": [
    "df['did_rtwt']=df['Retweet engagement timestamp'].notna()\n",
    "df['did_rply']=df['Reply engagement timestamp'].notna()\n",
    "df['did_cmmt']=df['Retweet with comment engagement timestamp'].notna()\n",
    "df['did_like']=df['Like engagement timestamp'].notna()"
   ]
  },
  {
   "cell_type": "code",
   "execution_count": 30,
   "metadata": {},
   "outputs": [],
   "source": [
    "y=df[cols_tgt].astype(int).values"
   ]
  },
  {
   "cell_type": "markdown",
   "metadata": {},
   "source": [
    "## make features"
   ]
  },
  {
   "cell_type": "code",
   "execution_count": 39,
   "metadata": {},
   "outputs": [],
   "source": [
    "X=df[['Engaged Follower count',\n",
    "      'Engaging Following count',\n",
    "      'Engaging Is verified?', \n",
    "      'Engagee follows engager?']].astype(int).values\n"
   ]
  },
  {
   "cell_type": "code",
   "execution_count": 40,
   "metadata": {},
   "outputs": [
    {
     "data": {
      "text/plain": [
       "(100000, 4)"
      ]
     },
     "execution_count": 40,
     "metadata": {},
     "output_type": "execute_result"
    }
   ],
   "source": [
    "X.shape"
   ]
  },
  {
   "cell_type": "code",
   "execution_count": 79,
   "metadata": {},
   "outputs": [],
   "source": [
    "def makeX(df):\n",
    "    X=df[['Engaged Follower count',\n",
    "          'Engaging Following count',\n",
    "          'Engaging Is verified?', \n",
    "          'Engagee follows engager?']].values\n",
    "    has_media=df['Present media'].notna().values[:,None]\n",
    "    X = np.concatenate([X,has_media],1)\n",
    "    has_media=df['Present media'].notna().values[:,None]\n",
    "    X = np.concatenate([X,has_media],1)\n",
    "    \n",
    "    return X"
   ]
  },
  {
   "cell_type": "code",
   "execution_count": 80,
   "metadata": {},
   "outputs": [],
   "source": [
    "X = makeX(df)"
   ]
  },
  {
   "cell_type": "markdown",
   "metadata": {},
   "source": [
    "# model"
   ]
  },
  {
   "cell_type": "markdown",
   "metadata": {},
   "source": [
    "## trnval split"
   ]
  },
  {
   "cell_type": "code",
   "execution_count": 82,
   "metadata": {},
   "outputs": [],
   "source": [
    "np.random.seed(SEED)\n",
    "mskval=np.random.rand(len(y))<0.2\n",
    "val=np.where(mskval)[0]\n",
    "trn=np.where(~mskval)[0]\n",
    "\n",
    "# print(y.mean(0), y[trn].mean(0), y[val].mean(0))\n",
    "\n",
    "Xtrn,Xval,ytrn,yval=X[trn],X[val],y[trn],y[val]"
   ]
  },
  {
   "cell_type": "markdown",
   "metadata": {},
   "source": [
    "## train"
   ]
  },
  {
   "cell_type": "code",
   "execution_count": 83,
   "metadata": {},
   "outputs": [
    {
     "data": {
      "text/plain": [
       "RandomForestClassifier(bootstrap=True, ccp_alpha=0.0, class_weight=None,\n",
       "                       criterion='gini', max_depth=None, max_features=0.5,\n",
       "                       max_leaf_nodes=None, max_samples=None,\n",
       "                       min_impurity_decrease=0.0, min_impurity_split=None,\n",
       "                       min_samples_leaf=2, min_samples_split=2,\n",
       "                       min_weight_fraction_leaf=0.0, n_estimators=100,\n",
       "                       n_jobs=-1, oob_score=False, random_state=101, verbose=0,\n",
       "                       warm_start=False)"
      ]
     },
     "execution_count": 83,
     "metadata": {},
     "output_type": "execute_result"
    }
   ],
   "source": [
    "clf = RandomForestClassifier( \n",
    "                             min_samples_leaf=2,\n",
    "                             max_features=0.5,\n",
    "                             n_jobs=-1,\n",
    "                             random_state=SEED)\n",
    "clf.fit(Xtrn, ytrn)"
   ]
  },
  {
   "cell_type": "code",
   "execution_count": 84,
   "metadata": {},
   "outputs": [],
   "source": [
    "def get_scrs(y,prd):\n",
    "    return [average_precision_score(y[:,i],prd[:,i]) for i in range(y.shape[1])]"
   ]
  },
  {
   "cell_type": "code",
   "execution_count": 94,
   "metadata": {},
   "outputs": [],
   "source": [
    "def show_scrs(scrs):\n",
    "    print(list(zip(cols_subnm, [round(o,4) for o in scrs])))\n",
    "    print(np.mean(scrs))\n"
   ]
  },
  {
   "cell_type": "code",
   "execution_count": 95,
   "metadata": {},
   "outputs": [
    {
     "name": "stdout",
     "output_type": "stream",
     "text": [
      "[('Retweet', 0.1147), ('Reply', 0.0301), ('Like', 0.4433), ('Retweet with comment', 0.0095)]\n",
      "0.14941735529738157\n",
      "[('Retweet', 0.1131), ('Reply', 0.028), ('Like', 0.4387), ('Retweet with comment', 0.0088)]\n",
      "0.14713332664526485\n"
     ]
    }
   ],
   "source": [
    "prdval_rnd = np.random.rand(*yval.shape)\n",
    "prdval_avg = np.repeat(yval.mean(0)[None],  len(yval), 0)\n",
    "show_scrs(get_scrs(yval,prdval_rnd))\n",
    "show_scrs(get_scrs(yval,prdval_avg))"
   ]
  },
  {
   "cell_type": "code",
   "execution_count": 96,
   "metadata": {},
   "outputs": [],
   "source": [
    "prdval_bool = clf.predict(Xval)\n",
    "prdval_probval = clf.predict_proba(Xval)\n",
    "prdval = np.array([o[:,1] for o in prdval_probval]).T"
   ]
  },
  {
   "cell_type": "code",
   "execution_count": 97,
   "metadata": {},
   "outputs": [
    {
     "name": "stdout",
     "output_type": "stream",
     "text": [
      "[('Retweet', 0.1541), ('Reply', 0.0394), ('Like', 0.498), ('Retweet with comment', 0.0168)]\n",
      "0.17706926438691906\n"
     ]
    }
   ],
   "source": [
    "show_scrs(get_scrs(yval,prdval))"
   ]
  },
  {
   "cell_type": "markdown",
   "metadata": {},
   "source": [
    "# infer"
   ]
  },
  {
   "cell_type": "code",
   "execution_count": 21,
   "metadata": {},
   "outputs": [],
   "source": [
    "dftst=pd.read_csv(f'{p_in}/val1e4.tsv',\n",
    "                  sep='\\x01',\n",
    "               header=None,\n",
    "               names=cols_val)"
   ]
  },
  {
   "cell_type": "code",
   "execution_count": 22,
   "metadata": {},
   "outputs": [
    {
     "data": {
      "text/html": [
       "<div>\n",
       "<style scoped>\n",
       "    .dataframe tbody tr th:only-of-type {\n",
       "        vertical-align: middle;\n",
       "    }\n",
       "\n",
       "    .dataframe tbody tr th {\n",
       "        vertical-align: top;\n",
       "    }\n",
       "\n",
       "    .dataframe thead th {\n",
       "        text-align: right;\n",
       "    }\n",
       "</style>\n",
       "<table border=\"1\" class=\"dataframe\">\n",
       "  <thead>\n",
       "    <tr style=\"text-align: right;\">\n",
       "      <th></th>\n",
       "      <th>Text tokens</th>\n",
       "      <th>Hashtags</th>\n",
       "      <th>Tweet id</th>\n",
       "      <th>Present media</th>\n",
       "      <th>Present links</th>\n",
       "      <th>Present domains</th>\n",
       "      <th>Tweet type</th>\n",
       "      <th>Language</th>\n",
       "      <th>Timestamp</th>\n",
       "      <th>Engaged User id</th>\n",
       "      <th>Engaged Follower count</th>\n",
       "      <th>Engaged Following count</th>\n",
       "      <th>Engaged Is verified?</th>\n",
       "      <th>Engaged Account creation time</th>\n",
       "      <th>Engaging User id</th>\n",
       "      <th>Engaging Follower count</th>\n",
       "      <th>Engaging Following count</th>\n",
       "      <th>Engaging Is verified?</th>\n",
       "      <th>Engaging Account creation time</th>\n",
       "      <th>Engagee follows engager?</th>\n",
       "    </tr>\n",
       "  </thead>\n",
       "  <tbody>\n",
       "    <tr>\n",
       "      <th>0</th>\n",
       "      <td>101\\t47185\\t10157\\t100986\\t10343\\t55422\\t119\\t...</td>\n",
       "      <td>NaN</td>\n",
       "      <td>7647B4E9DAF4C1D8973397DC2A04F3E3</td>\n",
       "      <td>Photo</td>\n",
       "      <td>NaN</td>\n",
       "      <td>NaN</td>\n",
       "      <td>TopLevel</td>\n",
       "      <td>D3164C7FBCF2565DDF915B1B3AEFB1DC</td>\n",
       "      <td>1581703126</td>\n",
       "      <td>8A9AB92B775C62C4AB60DF6773A01571</td>\n",
       "      <td>13941</td>\n",
       "      <td>1216</td>\n",
       "      <td>False</td>\n",
       "      <td>1448292186</td>\n",
       "      <td>0000006C3074607050F1339DDCB890BB</td>\n",
       "      <td>27448</td>\n",
       "      <td>600</td>\n",
       "      <td>False</td>\n",
       "      <td>1520948869</td>\n",
       "      <td>True</td>\n",
       "    </tr>\n",
       "    <tr>\n",
       "      <th>1</th>\n",
       "      <td>101\\t6006\\t5086\\t1939\\t7418\\t3601\\t6406\\t1913\\...</td>\n",
       "      <td>NaN</td>\n",
       "      <td>CCBFBA5AFE7EFC03102EA8D0F86C4208</td>\n",
       "      <td>Photo</td>\n",
       "      <td>NaN</td>\n",
       "      <td>NaN</td>\n",
       "      <td>TopLevel</td>\n",
       "      <td>22C448FF81263D4BAF2A176145EE9EAD</td>\n",
       "      <td>1581736431</td>\n",
       "      <td>187AC59639DA9A6F32F7CD118EDD58F7</td>\n",
       "      <td>476439</td>\n",
       "      <td>1478</td>\n",
       "      <td>False</td>\n",
       "      <td>1254447722</td>\n",
       "      <td>00000776B07587ECA9717BFC301F2D6E</td>\n",
       "      <td>102</td>\n",
       "      <td>659</td>\n",
       "      <td>False</td>\n",
       "      <td>1478011810</td>\n",
       "      <td>False</td>\n",
       "    </tr>\n",
       "    <tr>\n",
       "      <th>2</th>\n",
       "      <td>101\\t56898\\t137\\t44851\\t10317\\t11490\\t10112\\t1...</td>\n",
       "      <td>NaN</td>\n",
       "      <td>E18C2DCFC5AF20C650A0FD94598E69B7</td>\n",
       "      <td>Video</td>\n",
       "      <td>NaN</td>\n",
       "      <td>NaN</td>\n",
       "      <td>Retweet</td>\n",
       "      <td>ECED8A16BE2A5E8871FD55F4842F16B1</td>\n",
       "      <td>1582061925</td>\n",
       "      <td>82626B53CB2AD3B469E4AE06EAA9D930</td>\n",
       "      <td>367</td>\n",
       "      <td>702</td>\n",
       "      <td>False</td>\n",
       "      <td>1518708926</td>\n",
       "      <td>00000860E80C67D8C46CE57C64DE9444</td>\n",
       "      <td>230</td>\n",
       "      <td>189</td>\n",
       "      <td>False</td>\n",
       "      <td>1541013180</td>\n",
       "      <td>True</td>\n",
       "    </tr>\n",
       "    <tr>\n",
       "      <th>3</th>\n",
       "      <td>101\\t13497\\t10437\\t94005\\t11161\\t73632\\t11067\\...</td>\n",
       "      <td>NaN</td>\n",
       "      <td>26DC813FDF8546B757BB9141099F119E</td>\n",
       "      <td>NaN</td>\n",
       "      <td>D58137F9D688C88435FD64FBAEA82B97</td>\n",
       "      <td>E91CDEC8DC7ABF30592FA024616FF970</td>\n",
       "      <td>TopLevel</td>\n",
       "      <td>ECED8A16BE2A5E8871FD55F4842F16B1</td>\n",
       "      <td>1582110043</td>\n",
       "      <td>7AFE06FF54898A1E9C716F539831849E</td>\n",
       "      <td>278</td>\n",
       "      <td>1229</td>\n",
       "      <td>False</td>\n",
       "      <td>1243548061</td>\n",
       "      <td>00000865A1538142CDA5936B07FE4311</td>\n",
       "      <td>65</td>\n",
       "      <td>165</td>\n",
       "      <td>False</td>\n",
       "      <td>1452599043</td>\n",
       "      <td>True</td>\n",
       "    </tr>\n",
       "    <tr>\n",
       "      <th>4</th>\n",
       "      <td>101\\t24781\\t10152\\t42041\\t38268\\t10301\\t10798\\...</td>\n",
       "      <td>NaN</td>\n",
       "      <td>30A33055566AAC9EB18734C4EAD11FE1</td>\n",
       "      <td>NaN</td>\n",
       "      <td>AEF0CC9FA7B389B9A2ADF1331F00B65B</td>\n",
       "      <td>42DD9E2D4B2C0B0A71E909A6049EC2C2</td>\n",
       "      <td>TopLevel</td>\n",
       "      <td>D3164C7FBCF2565DDF915B1B3AEFB1DC</td>\n",
       "      <td>1581860270</td>\n",
       "      <td>D240DACE38CA84965270C86D47D3BF40</td>\n",
       "      <td>24313527</td>\n",
       "      <td>121</td>\n",
       "      <td>True</td>\n",
       "      <td>1177506290</td>\n",
       "      <td>00000865A1538142CDA5936B07FE4311</td>\n",
       "      <td>64</td>\n",
       "      <td>164</td>\n",
       "      <td>False</td>\n",
       "      <td>1452599043</td>\n",
       "      <td>False</td>\n",
       "    </tr>\n",
       "  </tbody>\n",
       "</table>\n",
       "</div>"
      ],
      "text/plain": [
       "                                         Text tokens Hashtags  \\\n",
       "0  101\\t47185\\t10157\\t100986\\t10343\\t55422\\t119\\t...      NaN   \n",
       "1  101\\t6006\\t5086\\t1939\\t7418\\t3601\\t6406\\t1913\\...      NaN   \n",
       "2  101\\t56898\\t137\\t44851\\t10317\\t11490\\t10112\\t1...      NaN   \n",
       "3  101\\t13497\\t10437\\t94005\\t11161\\t73632\\t11067\\...      NaN   \n",
       "4  101\\t24781\\t10152\\t42041\\t38268\\t10301\\t10798\\...      NaN   \n",
       "\n",
       "                           Tweet id Present media  \\\n",
       "0  7647B4E9DAF4C1D8973397DC2A04F3E3         Photo   \n",
       "1  CCBFBA5AFE7EFC03102EA8D0F86C4208         Photo   \n",
       "2  E18C2DCFC5AF20C650A0FD94598E69B7         Video   \n",
       "3  26DC813FDF8546B757BB9141099F119E           NaN   \n",
       "4  30A33055566AAC9EB18734C4EAD11FE1           NaN   \n",
       "\n",
       "                      Present links                   Present domains  \\\n",
       "0                               NaN                               NaN   \n",
       "1                               NaN                               NaN   \n",
       "2                               NaN                               NaN   \n",
       "3  D58137F9D688C88435FD64FBAEA82B97  E91CDEC8DC7ABF30592FA024616FF970   \n",
       "4  AEF0CC9FA7B389B9A2ADF1331F00B65B  42DD9E2D4B2C0B0A71E909A6049EC2C2   \n",
       "\n",
       "  Tweet type                          Language   Timestamp  \\\n",
       "0   TopLevel  D3164C7FBCF2565DDF915B1B3AEFB1DC  1581703126   \n",
       "1   TopLevel  22C448FF81263D4BAF2A176145EE9EAD  1581736431   \n",
       "2    Retweet  ECED8A16BE2A5E8871FD55F4842F16B1  1582061925   \n",
       "3   TopLevel  ECED8A16BE2A5E8871FD55F4842F16B1  1582110043   \n",
       "4   TopLevel  D3164C7FBCF2565DDF915B1B3AEFB1DC  1581860270   \n",
       "\n",
       "                    Engaged User id  Engaged Follower count  \\\n",
       "0  8A9AB92B775C62C4AB60DF6773A01571                   13941   \n",
       "1  187AC59639DA9A6F32F7CD118EDD58F7                  476439   \n",
       "2  82626B53CB2AD3B469E4AE06EAA9D930                     367   \n",
       "3  7AFE06FF54898A1E9C716F539831849E                     278   \n",
       "4  D240DACE38CA84965270C86D47D3BF40                24313527   \n",
       "\n",
       "   Engaged Following count  Engaged Is verified?  \\\n",
       "0                     1216                 False   \n",
       "1                     1478                 False   \n",
       "2                      702                 False   \n",
       "3                     1229                 False   \n",
       "4                      121                  True   \n",
       "\n",
       "   Engaged Account creation time                  Engaging User id  \\\n",
       "0                     1448292186  0000006C3074607050F1339DDCB890BB   \n",
       "1                     1254447722  00000776B07587ECA9717BFC301F2D6E   \n",
       "2                     1518708926  00000860E80C67D8C46CE57C64DE9444   \n",
       "3                     1243548061  00000865A1538142CDA5936B07FE4311   \n",
       "4                     1177506290  00000865A1538142CDA5936B07FE4311   \n",
       "\n",
       "   Engaging Follower count  Engaging Following count  Engaging Is verified?  \\\n",
       "0                    27448                       600                  False   \n",
       "1                      102                       659                  False   \n",
       "2                      230                       189                  False   \n",
       "3                       65                       165                  False   \n",
       "4                       64                       164                  False   \n",
       "\n",
       "   Engaging Account creation time  Engagee follows engager?  \n",
       "0                      1520948869                      True  \n",
       "1                      1478011810                     False  \n",
       "2                      1541013180                      True  \n",
       "3                      1452599043                      True  \n",
       "4                      1452599043                     False  "
      ]
     },
     "execution_count": 22,
     "metadata": {},
     "output_type": "execute_result"
    }
   ],
   "source": [
    "dftst.head()"
   ]
  },
  {
   "cell_type": "code",
   "execution_count": 23,
   "metadata": {},
   "outputs": [],
   "source": [
    "Xtst=makeX(dftst)"
   ]
  },
  {
   "cell_type": "code",
   "execution_count": 24,
   "metadata": {},
   "outputs": [],
   "source": [
    "prdtst_bool = clf.predict(Xtst)\n",
    "prdtst_prob = clf.predict_proba(Xtst)\n",
    "prdtst = np.array([o[:,1] for o in prdtst_prob]).T"
   ]
  },
  {
   "cell_type": "code",
   "execution_count": 25,
   "metadata": {
    "scrolled": false
   },
   "outputs": [
    {
     "data": {
      "text/plain": [
       "(10000, 4)"
      ]
     },
     "execution_count": 25,
     "metadata": {},
     "output_type": "execute_result"
    }
   ],
   "source": [
    "prdtst.shape"
   ]
  },
  {
   "cell_type": "code",
   "execution_count": 26,
   "metadata": {},
   "outputs": [],
   "source": [
    "dfsub_ids = dftst[['Tweet id','Engaging User id',]]\n",
    "\n",
    "col2dfsub = {}\n",
    "for i,col in enumerate(cols_tgt):\n",
    "    dfsub = dfsub_ids.copy()\n",
    "    dfsub['scr'] = prdtst[:,i]\n",
    "    col2dfsub[col]=dfsub"
   ]
  },
  {
   "cell_type": "code",
   "execution_count": 27,
   "metadata": {},
   "outputs": [],
   "source": [
    "for col,colnm in zip(cols_tgt,cols_subnm):\n",
    "    col2dfsub[col].to_csv(f'{p_out}/{colnm}__{PRFX}.csv', index=False, header=False)"
   ]
  },
  {
   "cell_type": "code",
   "execution_count": null,
   "metadata": {},
   "outputs": [],
   "source": []
  }
 ],
 "metadata": {
  "kernelspec": {
   "display_name": "rcss20",
   "language": "python",
   "name": "rcss20"
  },
  "language_info": {
   "codemirror_mode": {
    "name": "ipython",
    "version": 3
   },
   "file_extension": ".py",
   "mimetype": "text/x-python",
   "name": "python",
   "nbconvert_exporter": "python",
   "pygments_lexer": "ipython3",
   "version": "3.7.6"
  },
  "toc": {
   "base_numbering": 1,
   "nav_menu": {},
   "number_sections": true,
   "sideBar": true,
   "skip_h1_title": false,
   "title_cell": "Table of Contents",
   "title_sidebar": "Contents",
   "toc_cell": false,
   "toc_position": {},
   "toc_section_display": true,
   "toc_window_display": true
  }
 },
 "nbformat": 4,
 "nbformat_minor": 2
}
