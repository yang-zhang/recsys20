{
 "cells": [
  {
   "cell_type": "markdown",
   "metadata": {},
   "source": [
    "# setup"
   ]
  },
  {
   "cell_type": "code",
   "execution_count": 1,
   "metadata": {},
   "outputs": [
    {
     "name": "stdout",
     "output_type": "stream",
     "text": [
      "dask.__version__ 2.12.0\n"
     ]
    }
   ],
   "source": [
    "from pathlib import Path\n",
    "import dask.dataframe as dd\n",
    "import pandas as pd\n",
    "import dask\n",
    "print('dask.__version__', dask.__version__)\n",
    "import xgboost\n",
    "import datetime\n",
    "def dtnow(): return datetime.datetime.now().strftime('%Y-%m-%d %H:%M:%S')\n",
    "\n",
    "\n",
    "SEED=101\n",
    "HOME='/data/git/recsys20'\n",
    "p_in=f'{HOME}/input'\n",
    "# p_out=f'{HOME}/output/{PRFX}'\n",
    "# Path(p_out).mkdir(exist_ok=True, parents=True)\n",
    "\n",
    "cols=[\n",
    "'toks',\n",
    "'hshtgs',\n",
    "'twtid',\n",
    "'media',\n",
    "'links',\n",
    "'domns',\n",
    "'twttyp',\n",
    "'lang',\n",
    "'tm',\n",
    "\n",
    "'u1_id',\n",
    "'u1_fllwer_cnt',\n",
    "'u1_fllwing_cnt',\n",
    "'u1_vrfed',\n",
    "'u1_create_tm',\n",
    "\n",
    "'u2_id',\n",
    "'u2_follower_cnt',\n",
    "'u2_following_cnt',\n",
    "'u2_vrfed',\n",
    "'u2_create_tm',\n",
    "\n",
    "'u1_fllw_u2',\n",
    "'reply_tm',\n",
    "'retwt_tm',\n",
    "'retwt_cmmnt_tm',\n",
    "'like_tm',\n",
    "]\n",
    "\n",
    "cols_val = cols[:-4]"
   ]
  },
  {
   "cell_type": "markdown",
   "metadata": {},
   "source": [
    "# prepare data"
   ]
  },
  {
   "cell_type": "code",
   "execution_count": 2,
   "metadata": {},
   "outputs": [
    {
     "data": {
      "text/plain": [
       "'2020-03-17 02:32:24'"
      ]
     },
     "execution_count": 2,
     "metadata": {},
     "output_type": "execute_result"
    }
   ],
   "source": [
    "trntmstmp=1584412344\n",
    "datetime.datetime.fromtimestamp(trntmstmp).strftime('%Y-%m-%d %H:%M:%S')"
   ]
  },
  {
   "cell_type": "code",
   "execution_count": 3,
   "metadata": {},
   "outputs": [
    {
     "data": {
      "text/plain": [
       "'2020-03-17 00:30:47'"
      ]
     },
     "execution_count": 3,
     "metadata": {},
     "output_type": "execute_result"
    }
   ],
   "source": [
    "valtmstmp=1584405047\n",
    "datetime.datetime.fromtimestamp(valtmstmp).strftime('%Y-%m-%d %H:%M:%S')"
   ]
  },
  {
   "cell_type": "code",
   "execution_count": 4,
   "metadata": {},
   "outputs": [],
   "source": [
    "dftrn=dd.read_csv(\n",
    "    f'{p_in}/trn_{trntmstmp}.tsv',\n",
    "    sep='\\x01', header=None, names=cols,)"
   ]
  },
  {
   "cell_type": "code",
   "execution_count": 5,
   "metadata": {},
   "outputs": [],
   "source": [
    "dfval=dd.read_csv(\n",
    "    f'{p_in}/val_{valtmstmp}.tsv',\n",
    "    sep='\\x01',header=None,names=cols_val,)"
   ]
  },
  {
   "cell_type": "code",
   "execution_count": 6,
   "metadata": {
    "collapsed": true
   },
   "outputs": [
    {
     "name": "stderr",
     "output_type": "stream",
     "text": [
      "/data/anaconda3/envs/rcss20/lib/python3.7/site-packages/dask/core.py:121: DtypeWarning: Columns (4,5) have mixed types.Specify dtype option on import or set low_memory=False.\n",
      "  return func(*(_execute_task(a, cache) for a in args))\n"
     ]
    },
    {
     "name": "stdout",
     "output_type": "stream",
     "text": [
      "CPU times: user 2min 21s, sys: 22.5 s, total: 2min 43s\n",
      "Wall time: 1min 26s\n"
     ]
    },
    {
     "data": {
      "text/plain": [
       "{'D3164C7FBCF2565DDF915B1B3AEFB1DC': 0.4281568150154379,\n",
       " '22C448FF81263D4BAF2A176145EE9EAD': 0.15653506511637869,\n",
       " '06D61DCBBE938971E1EA0C38BD9B5446': 0.08684409325313776,\n",
       " 'ECED8A16BE2A5E8871FD55F4842F16B1': 0.07187590645071645,\n",
       " 'B9175601E87101A984A50F8A62A1C374': 0.0510950651798385,\n",
       " '4DC22C3F31C5C43721E6B5815A595ED6': 0.03233621220538451,\n",
       " '167115458A0DBDFF7E9C0C53A83BAC9B': 0.02869156970756396,\n",
       " '125C57F4FA6D4E110983FB11B52EFD4E': 0.02251587222472389,\n",
       " '022EC308651FACB02794A8147AEE1B78': 0.022084940431066645,\n",
       " 'FA3F382BC409C271E3D6EAF8BE4648DD': 0.020434654769361918,\n",
       " '9BF3403E0EB7EA8A256DA9019C0B0716': 0.01711266575901506,\n",
       " '975B38F44D65EE42A547283787FF5A21': 0.008900304897960587,\n",
       " '2996EB2FE8162C076D070A4C8D6532CD': 0.008491055207128863,\n",
       " 'FF60A88F53E63000266F8B9149E35AD9': 0.005443463784674508,\n",
       " '717293301FE296B0B61950D041485825': 0.005351975887386331,\n",
       " '3E16B11B7ADE3A22DDFC4423FBCEAD5D': 0.005259694742433805,\n",
       " '3820C29CBCA409A33BADF68852057C4A': 0.005107391190878921,\n",
       " '9ECD42BC079C20F156F53CB3B99E600E': 0.0025499607210198202,\n",
       " '76B8A9C3013AE6414A3E6012413CDC3B': 0.0025153883436486377,\n",
       " 'AEF22666801F0A5846D853B9CEB2E327': 0.002179910685601312,\n",
       " '190BA7DA361BC06BC1D7E824C378064D': 0.0019262697449259252,\n",
       " '1FFD2FE4297F5E70EBC6C3230D95CB9C': 0.0019155609014572224,\n",
       " 'A0C7021AD8299ADF0C9EBE326C115F6F': 0.0012986125305102882,\n",
       " 'D413F5FE5236E5650A46FD983AB39212': 0.0012444072734464839,\n",
       " '48236EC80FDDDFADE99420ABC9210DDF': 0.0011455818352630845,\n",
       " '691890251F2B9FF922BE6D3699ABEFD2': 0.0008832151702798657,\n",
       " '920502FAA080485768AA89BC96A55C47': 0.0007246317413822235,\n",
       " '0331BF70E606D62D92C96CE9AD71A7CF': 0.0006743927226401609,\n",
       " '89616CFF8EC8637092F885C7EFF43D74': 0.0006288470859121594,\n",
       " '06BEAB41D66CCFF329D1ED8BA120A6C2': 0.0006205840894085308,\n",
       " '60FBA0E834CC59D647C3599AD763FFDF': 0.0005243367061342635,\n",
       " 'C7A400D9AD489ACF673CF12FBB80AAE5': 0.00047032976098654625,\n",
       " 'E59EF8BB86A6D815331DDF4C467CE0C7': 0.0004138108649017259,\n",
       " '4249CE88433AEA3F8DCEECF008B3CB95': 0.00038637771650967855,\n",
       " '544FA32458C903F1125FE6598300A047': 0.00037732147234170147,\n",
       " 'CB11E9CF42BD0A1BAD5E27BF3422D99D': 0.00033765908912428366,\n",
       " '3A85BCEC571C3F5AB1069E4924189177': 0.0002736043402281539,\n",
       " 'FF7EABB5A382356D54D9C41BA0125E09': 0.00025767328296915775,\n",
       " 'E7BB61D2A87C1E72DF1C7BC292B86A1C': 0.0002548308121719095,\n",
       " '69C4A33B9AD29AF883D60BA61CC08702': 0.00024068456215769712,\n",
       " 'F4FD40A716F1572C9A28E9CAA58BE3A5': 0.00021701934017130447,\n",
       " '259A6F6DFD672CB1F883CBEC01B99F2D': 0.00019963399552766966,\n",
       " '6431A618DCF7F4CB7F62A95A39BAB77A': 0.000198113604171002,\n",
       " '3121F7240D488F74EEED9312E174B217': 0.00018991671163940232,\n",
       " '54208B51D44E7D91DC2F3DD02ADEDEC2': 0.00016354122679981947,\n",
       " 'DBEEFB80F8A314311E2B4BD593E11DFE': 0.00016235135530329693,\n",
       " 'B6D90127A09AB1229731898AEF9D4D7C': 0.00013749626182038175,\n",
       " 'F3E1016563360F9434FA986CA86C249C': 0.0001344554791070464,\n",
       " '2216D01F7B48554E4211021A46816FCF': 0.00011581415899486002,\n",
       " '1BC639981AE88E09129594B11F894A21': 9.578465547006403e-05,\n",
       " 'C942E369C88CE7C56E69A84D04319FF0': 5.770876758134292e-05,\n",
       " '57ADD4576E2AD6648E9B2DE32F3462A5': 5.446967295192046e-05,\n",
       " 'AC1F0671A4B0D5B8112F87DE7B490E6D': 4.501680495176922e-05,\n",
       " 'C2EF5FABE7619D8A333D5F0FF76E1BFA': 4.0587838825824233e-05,\n",
       " 'AA0254541959271ED3453119B787D0C3': 3.080445096552784e-05,\n",
       " 'A6B70CDF8C7B934D4A218CA9B6B7FDB4': 1.8971839972331523e-05,\n",
       " 'BF477808A37E3E4E9C5D9F1839E8519E': 1.2229234825370492e-05,\n",
       " '97F81BD92A1ACA3F1F43C154E689350F': 1.1568195105080195e-05,\n",
       " '60A3DB168094D41241E45E0DE3539BC0': 1.070884346870281e-05,\n",
       " '12D8CEB94F89D11D7EB95EAE9689B009': 7.800268699425504e-06,\n",
       " 'F73266A79468BB89C4325FDEDB0B533C': 5.552733650438494e-06,\n",
       " '4690215948DBF6872B8ED1C2BC87B17E': 5.354421734351405e-06,\n",
       " 'D18801336202297E6484F634CAC6592E': 3.834030377683722e-06,\n",
       " '2E18F6F53E3CF073911AF0A93BBE5373': 2.644158881161188e-07,\n",
       " 'B2235C8B73239FDC5780DD132419833A': 1.9831191608708906e-07,\n",
       " '515E873C86EE1577E75FA2387B7FA59E': 6.61039720290297e-08}"
      ]
     },
     "execution_count": 6,
     "metadata": {},
     "output_type": "execute_result"
    }
   ],
   "source": [
    "# %%time\n",
    "# lang2cnt=dict(dfval.lang.value_counts().compute())\n",
    "# ttl=sum(lang2cnt.values())\n",
    "# lang2perc={k:v/ttl for k,v in lang2cnt.items()}\n"
   ]
  },
  {
   "cell_type": "code",
   "execution_count": 22,
   "metadata": {},
   "outputs": [
    {
     "data": {
      "text/plain": [
       "{'D3164C7FBCF2565DDF915B1B3AEFB1DC': 6477021,\n",
       " '22C448FF81263D4BAF2A176145EE9EAD': 2368013,\n",
       " '06D61DCBBE938971E1EA0C38BD9B5446': 1313750,\n",
       " 'ECED8A16BE2A5E8871FD55F4842F16B1': 1087316,\n",
       " 'B9175601E87101A984A50F8A62A1C374': 772950,\n",
       " '4DC22C3F31C5C43721E6B5815A595ED6': 489172,\n",
       " '167115458A0DBDFF7E9C0C53A83BAC9B': 434037,\n",
       " '125C57F4FA6D4E110983FB11B52EFD4E': 340613,\n",
       " '022EC308651FACB02794A8147AEE1B78': 334094,\n",
       " 'FA3F382BC409C271E3D6EAF8BE4648DD': 309129,\n",
       " '9BF3403E0EB7EA8A256DA9019C0B0716': 258875,\n",
       " '975B38F44D65EE42A547283787FF5A21': 134641,\n",
       " '2996EB2FE8162C076D070A4C8D6532CD': 128450,\n",
       " 'FF60A88F53E63000266F8B9149E35AD9': 82347,\n",
       " '717293301FE296B0B61950D041485825': 80963,\n",
       " '3E16B11B7ADE3A22DDFC4423FBCEAD5D': 79567,\n",
       " '3820C29CBCA409A33BADF68852057C4A': 77263,\n",
       " '9ECD42BC079C20F156F53CB3B99E600E': 38575,\n",
       " '76B8A9C3013AE6414A3E6012413CDC3B': 38052,\n",
       " 'AEF22666801F0A5846D853B9CEB2E327': 32977,\n",
       " '190BA7DA361BC06BC1D7E824C378064D': 29140,\n",
       " '1FFD2FE4297F5E70EBC6C3230D95CB9C': 28978,\n",
       " 'A0C7021AD8299ADF0C9EBE326C115F6F': 19645,\n",
       " 'D413F5FE5236E5650A46FD983AB39212': 18825,\n",
       " '48236EC80FDDDFADE99420ABC9210DDF': 17330,\n",
       " '691890251F2B9FF922BE6D3699ABEFD2': 13361,\n",
       " '920502FAA080485768AA89BC96A55C47': 10962,\n",
       " '0331BF70E606D62D92C96CE9AD71A7CF': 10202,\n",
       " '89616CFF8EC8637092F885C7EFF43D74': 9513,\n",
       " '06BEAB41D66CCFF329D1ED8BA120A6C2': 9388,\n",
       " '60FBA0E834CC59D647C3599AD763FFDF': 7932,\n",
       " 'C7A400D9AD489ACF673CF12FBB80AAE5': 7115,\n",
       " 'E59EF8BB86A6D815331DDF4C467CE0C7': 6260,\n",
       " '4249CE88433AEA3F8DCEECF008B3CB95': 5845,\n",
       " '544FA32458C903F1125FE6598300A047': 5708,\n",
       " 'CB11E9CF42BD0A1BAD5E27BF3422D99D': 5108,\n",
       " '3A85BCEC571C3F5AB1069E4924189177': 4139,\n",
       " 'FF7EABB5A382356D54D9C41BA0125E09': 3898,\n",
       " 'E7BB61D2A87C1E72DF1C7BC292B86A1C': 3855,\n",
       " '69C4A33B9AD29AF883D60BA61CC08702': 3641,\n",
       " 'F4FD40A716F1572C9A28E9CAA58BE3A5': 3283,\n",
       " '259A6F6DFD672CB1F883CBEC01B99F2D': 3020,\n",
       " '6431A618DCF7F4CB7F62A95A39BAB77A': 2997,\n",
       " '3121F7240D488F74EEED9312E174B217': 2873,\n",
       " '54208B51D44E7D91DC2F3DD02ADEDEC2': 2474,\n",
       " 'DBEEFB80F8A314311E2B4BD593E11DFE': 2456,\n",
       " 'B6D90127A09AB1229731898AEF9D4D7C': 2080,\n",
       " 'F3E1016563360F9434FA986CA86C249C': 2034,\n",
       " '2216D01F7B48554E4211021A46816FCF': 1752,\n",
       " '1BC639981AE88E09129594B11F894A21': 1449,\n",
       " 'C942E369C88CE7C56E69A84D04319FF0': 873,\n",
       " '57ADD4576E2AD6648E9B2DE32F3462A5': 824,\n",
       " 'AC1F0671A4B0D5B8112F87DE7B490E6D': 681,\n",
       " 'C2EF5FABE7619D8A333D5F0FF76E1BFA': 614,\n",
       " 'AA0254541959271ED3453119B787D0C3': 466,\n",
       " 'A6B70CDF8C7B934D4A218CA9B6B7FDB4': 287,\n",
       " 'BF477808A37E3E4E9C5D9F1839E8519E': 185,\n",
       " '97F81BD92A1ACA3F1F43C154E689350F': 175,\n",
       " '60A3DB168094D41241E45E0DE3539BC0': 162,\n",
       " '12D8CEB94F89D11D7EB95EAE9689B009': 118,\n",
       " 'F73266A79468BB89C4325FDEDB0B533C': 84,\n",
       " '4690215948DBF6872B8ED1C2BC87B17E': 81,\n",
       " 'D18801336202297E6484F634CAC6592E': 58,\n",
       " '2E18F6F53E3CF073911AF0A93BBE5373': 4,\n",
       " 'B2235C8B73239FDC5780DD132419833A': 3,\n",
       " '515E873C86EE1577E75FA2387B7FA59E': 1}"
      ]
     },
     "execution_count": 22,
     "metadata": {},
     "output_type": "execute_result"
    }
   ],
   "source": [
    "lang2cnt"
   ]
  },
  {
   "cell_type": "code",
   "execution_count": 21,
   "metadata": {},
   "outputs": [
    {
     "data": {
      "text/plain": [
       "{'D3164C7FBCF2565DDF915B1B3AEFB1DC': 0.4281568150154379,\n",
       " '22C448FF81263D4BAF2A176145EE9EAD': 0.15653506511637869,\n",
       " '06D61DCBBE938971E1EA0C38BD9B5446': 0.08684409325313776,\n",
       " 'ECED8A16BE2A5E8871FD55F4842F16B1': 0.07187590645071645,\n",
       " 'B9175601E87101A984A50F8A62A1C374': 0.0510950651798385,\n",
       " '4DC22C3F31C5C43721E6B5815A595ED6': 0.03233621220538451,\n",
       " '167115458A0DBDFF7E9C0C53A83BAC9B': 0.02869156970756396,\n",
       " '125C57F4FA6D4E110983FB11B52EFD4E': 0.02251587222472389,\n",
       " '022EC308651FACB02794A8147AEE1B78': 0.022084940431066645,\n",
       " 'FA3F382BC409C271E3D6EAF8BE4648DD': 0.020434654769361918,\n",
       " '9BF3403E0EB7EA8A256DA9019C0B0716': 0.01711266575901506,\n",
       " '975B38F44D65EE42A547283787FF5A21': 0.008900304897960587,\n",
       " '2996EB2FE8162C076D070A4C8D6532CD': 0.008491055207128863,\n",
       " 'FF60A88F53E63000266F8B9149E35AD9': 0.005443463784674508,\n",
       " '717293301FE296B0B61950D041485825': 0.005351975887386331,\n",
       " '3E16B11B7ADE3A22DDFC4423FBCEAD5D': 0.005259694742433805,\n",
       " '3820C29CBCA409A33BADF68852057C4A': 0.005107391190878921,\n",
       " '9ECD42BC079C20F156F53CB3B99E600E': 0.0025499607210198202,\n",
       " '76B8A9C3013AE6414A3E6012413CDC3B': 0.0025153883436486377,\n",
       " 'AEF22666801F0A5846D853B9CEB2E327': 0.002179910685601312,\n",
       " '190BA7DA361BC06BC1D7E824C378064D': 0.0019262697449259252,\n",
       " '1FFD2FE4297F5E70EBC6C3230D95CB9C': 0.0019155609014572224,\n",
       " 'A0C7021AD8299ADF0C9EBE326C115F6F': 0.0012986125305102882,\n",
       " 'D413F5FE5236E5650A46FD983AB39212': 0.0012444072734464839,\n",
       " '48236EC80FDDDFADE99420ABC9210DDF': 0.0011455818352630845,\n",
       " '691890251F2B9FF922BE6D3699ABEFD2': 0.0008832151702798657,\n",
       " '920502FAA080485768AA89BC96A55C47': 0.0007246317413822235,\n",
       " '0331BF70E606D62D92C96CE9AD71A7CF': 0.0006743927226401609,\n",
       " '89616CFF8EC8637092F885C7EFF43D74': 0.0006288470859121594,\n",
       " '06BEAB41D66CCFF329D1ED8BA120A6C2': 0.0006205840894085308,\n",
       " '60FBA0E834CC59D647C3599AD763FFDF': 0.0005243367061342635,\n",
       " 'C7A400D9AD489ACF673CF12FBB80AAE5': 0.00047032976098654625,\n",
       " 'E59EF8BB86A6D815331DDF4C467CE0C7': 0.0004138108649017259,\n",
       " '4249CE88433AEA3F8DCEECF008B3CB95': 0.00038637771650967855,\n",
       " '544FA32458C903F1125FE6598300A047': 0.00037732147234170147,\n",
       " 'CB11E9CF42BD0A1BAD5E27BF3422D99D': 0.00033765908912428366,\n",
       " '3A85BCEC571C3F5AB1069E4924189177': 0.0002736043402281539,\n",
       " 'FF7EABB5A382356D54D9C41BA0125E09': 0.00025767328296915775,\n",
       " 'E7BB61D2A87C1E72DF1C7BC292B86A1C': 0.0002548308121719095,\n",
       " '69C4A33B9AD29AF883D60BA61CC08702': 0.00024068456215769712,\n",
       " 'F4FD40A716F1572C9A28E9CAA58BE3A5': 0.00021701934017130447,\n",
       " '259A6F6DFD672CB1F883CBEC01B99F2D': 0.00019963399552766966,\n",
       " '6431A618DCF7F4CB7F62A95A39BAB77A': 0.000198113604171002,\n",
       " '3121F7240D488F74EEED9312E174B217': 0.00018991671163940232,\n",
       " '54208B51D44E7D91DC2F3DD02ADEDEC2': 0.00016354122679981947,\n",
       " 'DBEEFB80F8A314311E2B4BD593E11DFE': 0.00016235135530329693,\n",
       " 'B6D90127A09AB1229731898AEF9D4D7C': 0.00013749626182038175,\n",
       " 'F3E1016563360F9434FA986CA86C249C': 0.0001344554791070464,\n",
       " '2216D01F7B48554E4211021A46816FCF': 0.00011581415899486002,\n",
       " '1BC639981AE88E09129594B11F894A21': 9.578465547006403e-05,\n",
       " 'C942E369C88CE7C56E69A84D04319FF0': 5.770876758134292e-05,\n",
       " '57ADD4576E2AD6648E9B2DE32F3462A5': 5.446967295192046e-05,\n",
       " 'AC1F0671A4B0D5B8112F87DE7B490E6D': 4.501680495176922e-05,\n",
       " 'C2EF5FABE7619D8A333D5F0FF76E1BFA': 4.0587838825824233e-05,\n",
       " 'AA0254541959271ED3453119B787D0C3': 3.080445096552784e-05,\n",
       " 'A6B70CDF8C7B934D4A218CA9B6B7FDB4': 1.8971839972331523e-05,\n",
       " 'BF477808A37E3E4E9C5D9F1839E8519E': 1.2229234825370492e-05,\n",
       " '97F81BD92A1ACA3F1F43C154E689350F': 1.1568195105080195e-05,\n",
       " '60A3DB168094D41241E45E0DE3539BC0': 1.070884346870281e-05,\n",
       " '12D8CEB94F89D11D7EB95EAE9689B009': 7.800268699425504e-06,\n",
       " 'F73266A79468BB89C4325FDEDB0B533C': 5.552733650438494e-06,\n",
       " '4690215948DBF6872B8ED1C2BC87B17E': 5.354421734351405e-06,\n",
       " 'D18801336202297E6484F634CAC6592E': 3.834030377683722e-06,\n",
       " '2E18F6F53E3CF073911AF0A93BBE5373': 2.644158881161188e-07,\n",
       " 'B2235C8B73239FDC5780DD132419833A': 1.9831191608708906e-07,\n",
       " '515E873C86EE1577E75FA2387B7FA59E': 6.61039720290297e-08}"
      ]
     },
     "execution_count": 21,
     "metadata": {},
     "output_type": "execute_result"
    }
   ],
   "source": [
    "lang2perc"
   ]
  },
  {
   "cell_type": "code",
   "execution_count": 6,
   "metadata": {},
   "outputs": [],
   "source": [
    "def prep_lang_df(df, trnval, tmstmp, lang):\n",
    "    df_lang = df[df.lang==lang]\n",
    "    len_df_lang=len(df_lang)\n",
    "    if len_df_lang==0: return\n",
    "    df_lang.to_csv(f'{p_in}/{trnval}_{lang}_{tmstmp}.tsv',\n",
    "                   sep='\\x01',header=False,index=False,single_file=True)"
   ]
  },
  {
   "cell_type": "markdown",
   "metadata": {},
   "source": [
    "## do a lang"
   ]
  },
  {
   "cell_type": "code",
   "execution_count": 10,
   "metadata": {},
   "outputs": [],
   "source": [
    "lang='06D61DCBBE938971E1EA0C38BD9B5446'"
   ]
  },
  {
   "cell_type": "code",
   "execution_count": 11,
   "metadata": {},
   "outputs": [
    {
     "name": "stderr",
     "output_type": "stream",
     "text": [
      "/data/anaconda3/envs/rcss20/lib/python3.7/site-packages/dask/core.py:121: DtypeWarning: Columns (4,5) have mixed types.Specify dtype option on import or set low_memory=False.\n",
      "  return func(*(_execute_task(a, cache) for a in args))\n",
      "/data/anaconda3/envs/rcss20/lib/python3.7/site-packages/dask/core.py:121: DtypeWarning: Columns (4,5) have mixed types.Specify dtype option on import or set low_memory=False.\n",
      "  return func(*(_execute_task(a, cache) for a in args))\n"
     ]
    },
    {
     "name": "stdout",
     "output_type": "stream",
     "text": [
      "CPU times: user 5min 33s, sys: 11 s, total: 5min 44s\n",
      "Wall time: 3min 21s\n"
     ]
    }
   ],
   "source": [
    "%%time\n",
    "prep_lang_df(dfval,trnval='val',tmstmp=valtmstmp,lang=lang)"
   ]
  },
  {
   "cell_type": "code",
   "execution_count": 12,
   "metadata": {},
   "outputs": [
    {
     "name": "stdout",
     "output_type": "stream",
     "text": [
      "CPU times: user 1h 1min 7s, sys: 1min 52s, total: 1h 3min\n",
      "Wall time: 36min 21s\n"
     ]
    }
   ],
   "source": [
    "%%time\n",
    "prep_lang_df(dftrn,trnval='trn',tmstmp=trntmstmp,lang=lang)"
   ]
  },
  {
   "cell_type": "markdown",
   "metadata": {},
   "source": [
    "## do all langs"
   ]
  },
  {
   "cell_type": "code",
   "execution_count": 32,
   "metadata": {},
   "outputs": [],
   "source": [
    "langs = [o[0] for o in sorted(lang2cnt.items(), key=lambda x: x[1])]"
   ]
  },
  {
   "cell_type": "code",
   "execution_count": null,
   "metadata": {},
   "outputs": [],
   "source": [
    "pickle.dump(langs, open(f'{p_in}/langs_{valtmstmp}.p', 'wb'))"
   ]
  },
  {
   "cell_type": "code",
   "execution_count": null,
   "metadata": {},
   "outputs": [
    {
     "name": "stdout",
     "output_type": "stream",
     "text": [
      "2020-03-17 20:59:30 515E873C86EE1577E75FA2387B7FA59E val\n"
     ]
    },
    {
     "name": "stderr",
     "output_type": "stream",
     "text": [
      "/data/anaconda3/envs/rcss20/lib/python3.7/site-packages/dask/core.py:121: DtypeWarning: Columns (4,5) have mixed types.Specify dtype option on import or set low_memory=False.\n",
      "  return func(*(_execute_task(a, cache) for a in args))\n",
      "/data/anaconda3/envs/rcss20/lib/python3.7/site-packages/dask/core.py:121: DtypeWarning: Columns (4,5) have mixed types.Specify dtype option on import or set low_memory=False.\n",
      "  return func(*(_execute_task(a, cache) for a in args))\n"
     ]
    },
    {
     "name": "stdout",
     "output_type": "stream",
     "text": [
      "2020-03-17 21:02:15 515E873C86EE1577E75FA2387B7FA59E trn\n",
      "2020-03-17 21:30:01 B2235C8B73239FDC5780DD132419833A val\n"
     ]
    },
    {
     "name": "stderr",
     "output_type": "stream",
     "text": [
      "/data/anaconda3/envs/rcss20/lib/python3.7/site-packages/dask/core.py:121: DtypeWarning: Columns (4,5) have mixed types.Specify dtype option on import or set low_memory=False.\n",
      "  return func(*(_execute_task(a, cache) for a in args))\n",
      "/data/anaconda3/envs/rcss20/lib/python3.7/site-packages/dask/core.py:121: DtypeWarning: Columns (4,5) have mixed types.Specify dtype option on import or set low_memory=False.\n",
      "  return func(*(_execute_task(a, cache) for a in args))\n"
     ]
    },
    {
     "name": "stdout",
     "output_type": "stream",
     "text": [
      "2020-03-17 21:32:52 B2235C8B73239FDC5780DD132419833A trn\n",
      "2020-03-17 22:00:57 2E18F6F53E3CF073911AF0A93BBE5373 val\n"
     ]
    },
    {
     "name": "stderr",
     "output_type": "stream",
     "text": [
      "/data/anaconda3/envs/rcss20/lib/python3.7/site-packages/dask/core.py:121: DtypeWarning: Columns (4,5) have mixed types.Specify dtype option on import or set low_memory=False.\n",
      "  return func(*(_execute_task(a, cache) for a in args))\n",
      "/data/anaconda3/envs/rcss20/lib/python3.7/site-packages/dask/core.py:121: DtypeWarning: Columns (4,5) have mixed types.Specify dtype option on import or set low_memory=False.\n",
      "  return func(*(_execute_task(a, cache) for a in args))\n"
     ]
    },
    {
     "name": "stdout",
     "output_type": "stream",
     "text": [
      "2020-03-17 22:03:42 2E18F6F53E3CF073911AF0A93BBE5373 trn\n",
      "2020-03-17 22:31:51 D18801336202297E6484F634CAC6592E val\n"
     ]
    },
    {
     "name": "stderr",
     "output_type": "stream",
     "text": [
      "/data/anaconda3/envs/rcss20/lib/python3.7/site-packages/dask/core.py:121: DtypeWarning: Columns (4,5) have mixed types.Specify dtype option on import or set low_memory=False.\n",
      "  return func(*(_execute_task(a, cache) for a in args))\n",
      "/data/anaconda3/envs/rcss20/lib/python3.7/site-packages/dask/core.py:121: DtypeWarning: Columns (4,5) have mixed types.Specify dtype option on import or set low_memory=False.\n",
      "  return func(*(_execute_task(a, cache) for a in args))\n"
     ]
    },
    {
     "name": "stdout",
     "output_type": "stream",
     "text": [
      "2020-03-17 22:34:43 D18801336202297E6484F634CAC6592E trn\n",
      "2020-03-17 23:03:12 4690215948DBF6872B8ED1C2BC87B17E val\n"
     ]
    },
    {
     "name": "stderr",
     "output_type": "stream",
     "text": [
      "/data/anaconda3/envs/rcss20/lib/python3.7/site-packages/dask/core.py:121: DtypeWarning: Columns (4,5) have mixed types.Specify dtype option on import or set low_memory=False.\n",
      "  return func(*(_execute_task(a, cache) for a in args))\n",
      "/data/anaconda3/envs/rcss20/lib/python3.7/site-packages/dask/core.py:121: DtypeWarning: Columns (4,5) have mixed types.Specify dtype option on import or set low_memory=False.\n",
      "  return func(*(_execute_task(a, cache) for a in args))\n"
     ]
    },
    {
     "name": "stdout",
     "output_type": "stream",
     "text": [
      "2020-03-17 23:06:03 4690215948DBF6872B8ED1C2BC87B17E trn\n",
      "2020-03-17 23:34:31 F73266A79468BB89C4325FDEDB0B533C val\n"
     ]
    },
    {
     "name": "stderr",
     "output_type": "stream",
     "text": [
      "/data/anaconda3/envs/rcss20/lib/python3.7/site-packages/dask/core.py:121: DtypeWarning: Columns (4,5) have mixed types.Specify dtype option on import or set low_memory=False.\n",
      "  return func(*(_execute_task(a, cache) for a in args))\n",
      "/data/anaconda3/envs/rcss20/lib/python3.7/site-packages/dask/core.py:121: DtypeWarning: Columns (4,5) have mixed types.Specify dtype option on import or set low_memory=False.\n",
      "  return func(*(_execute_task(a, cache) for a in args))\n"
     ]
    },
    {
     "name": "stdout",
     "output_type": "stream",
     "text": [
      "2020-03-17 23:37:22 F73266A79468BB89C4325FDEDB0B533C trn\n",
      "2020-03-18 00:05:52 12D8CEB94F89D11D7EB95EAE9689B009 val\n"
     ]
    },
    {
     "name": "stderr",
     "output_type": "stream",
     "text": [
      "/data/anaconda3/envs/rcss20/lib/python3.7/site-packages/dask/core.py:121: DtypeWarning: Columns (4,5) have mixed types.Specify dtype option on import or set low_memory=False.\n",
      "  return func(*(_execute_task(a, cache) for a in args))\n",
      "/data/anaconda3/envs/rcss20/lib/python3.7/site-packages/dask/core.py:121: DtypeWarning: Columns (4,5) have mixed types.Specify dtype option on import or set low_memory=False.\n",
      "  return func(*(_execute_task(a, cache) for a in args))\n"
     ]
    },
    {
     "name": "stdout",
     "output_type": "stream",
     "text": [
      "2020-03-18 00:08:43 12D8CEB94F89D11D7EB95EAE9689B009 trn\n",
      "2020-03-18 00:37:14 60A3DB168094D41241E45E0DE3539BC0 val\n"
     ]
    },
    {
     "name": "stderr",
     "output_type": "stream",
     "text": [
      "/data/anaconda3/envs/rcss20/lib/python3.7/site-packages/dask/core.py:121: DtypeWarning: Columns (4,5) have mixed types.Specify dtype option on import or set low_memory=False.\n",
      "  return func(*(_execute_task(a, cache) for a in args))\n",
      "/data/anaconda3/envs/rcss20/lib/python3.7/site-packages/dask/core.py:121: DtypeWarning: Columns (4,5) have mixed types.Specify dtype option on import or set low_memory=False.\n",
      "  return func(*(_execute_task(a, cache) for a in args))\n"
     ]
    },
    {
     "name": "stdout",
     "output_type": "stream",
     "text": [
      "2020-03-18 00:40:06 60A3DB168094D41241E45E0DE3539BC0 trn\n",
      "2020-03-18 01:08:26 97F81BD92A1ACA3F1F43C154E689350F val\n"
     ]
    },
    {
     "name": "stderr",
     "output_type": "stream",
     "text": [
      "/data/anaconda3/envs/rcss20/lib/python3.7/site-packages/dask/core.py:121: DtypeWarning: Columns (4,5) have mixed types.Specify dtype option on import or set low_memory=False.\n",
      "  return func(*(_execute_task(a, cache) for a in args))\n",
      "/data/anaconda3/envs/rcss20/lib/python3.7/site-packages/dask/core.py:121: DtypeWarning: Columns (4,5) have mixed types.Specify dtype option on import or set low_memory=False.\n",
      "  return func(*(_execute_task(a, cache) for a in args))\n"
     ]
    },
    {
     "name": "stdout",
     "output_type": "stream",
     "text": [
      "2020-03-18 01:11:12 97F81BD92A1ACA3F1F43C154E689350F trn\n",
      "2020-03-18 01:39:00 BF477808A37E3E4E9C5D9F1839E8519E val\n"
     ]
    },
    {
     "name": "stderr",
     "output_type": "stream",
     "text": [
      "/data/anaconda3/envs/rcss20/lib/python3.7/site-packages/dask/core.py:121: DtypeWarning: Columns (4,5) have mixed types.Specify dtype option on import or set low_memory=False.\n",
      "  return func(*(_execute_task(a, cache) for a in args))\n",
      "/data/anaconda3/envs/rcss20/lib/python3.7/site-packages/dask/core.py:121: DtypeWarning: Columns (4,5) have mixed types.Specify dtype option on import or set low_memory=False.\n",
      "  return func(*(_execute_task(a, cache) for a in args))\n"
     ]
    },
    {
     "name": "stdout",
     "output_type": "stream",
     "text": [
      "2020-03-18 01:41:48 BF477808A37E3E4E9C5D9F1839E8519E trn\n",
      "2020-03-18 02:09:50 A6B70CDF8C7B934D4A218CA9B6B7FDB4 val\n"
     ]
    },
    {
     "name": "stderr",
     "output_type": "stream",
     "text": [
      "/data/anaconda3/envs/rcss20/lib/python3.7/site-packages/dask/core.py:121: DtypeWarning: Columns (4,5) have mixed types.Specify dtype option on import or set low_memory=False.\n",
      "  return func(*(_execute_task(a, cache) for a in args))\n",
      "/data/anaconda3/envs/rcss20/lib/python3.7/site-packages/dask/core.py:121: DtypeWarning: Columns (4,5) have mixed types.Specify dtype option on import or set low_memory=False.\n",
      "  return func(*(_execute_task(a, cache) for a in args))\n"
     ]
    },
    {
     "name": "stdout",
     "output_type": "stream",
     "text": [
      "2020-03-18 02:12:43 A6B70CDF8C7B934D4A218CA9B6B7FDB4 trn\n",
      "2020-03-18 02:40:57 AA0254541959271ED3453119B787D0C3 val\n"
     ]
    },
    {
     "name": "stderr",
     "output_type": "stream",
     "text": [
      "/data/anaconda3/envs/rcss20/lib/python3.7/site-packages/dask/core.py:121: DtypeWarning: Columns (4,5) have mixed types.Specify dtype option on import or set low_memory=False.\n",
      "  return func(*(_execute_task(a, cache) for a in args))\n",
      "/data/anaconda3/envs/rcss20/lib/python3.7/site-packages/dask/core.py:121: DtypeWarning: Columns (4,5) have mixed types.Specify dtype option on import or set low_memory=False.\n",
      "  return func(*(_execute_task(a, cache) for a in args))\n"
     ]
    },
    {
     "name": "stdout",
     "output_type": "stream",
     "text": [
      "2020-03-18 02:43:49 AA0254541959271ED3453119B787D0C3 trn\n",
      "2020-03-18 03:12:29 C2EF5FABE7619D8A333D5F0FF76E1BFA val\n"
     ]
    },
    {
     "name": "stderr",
     "output_type": "stream",
     "text": [
      "/data/anaconda3/envs/rcss20/lib/python3.7/site-packages/dask/core.py:121: DtypeWarning: Columns (4,5) have mixed types.Specify dtype option on import or set low_memory=False.\n",
      "  return func(*(_execute_task(a, cache) for a in args))\n",
      "/data/anaconda3/envs/rcss20/lib/python3.7/site-packages/dask/core.py:121: DtypeWarning: Columns (4,5) have mixed types.Specify dtype option on import or set low_memory=False.\n",
      "  return func(*(_execute_task(a, cache) for a in args))\n"
     ]
    },
    {
     "name": "stdout",
     "output_type": "stream",
     "text": [
      "2020-03-18 03:15:22 C2EF5FABE7619D8A333D5F0FF76E1BFA trn\n",
      "2020-03-18 03:43:56 AC1F0671A4B0D5B8112F87DE7B490E6D val\n"
     ]
    },
    {
     "name": "stderr",
     "output_type": "stream",
     "text": [
      "/data/anaconda3/envs/rcss20/lib/python3.7/site-packages/dask/core.py:121: DtypeWarning: Columns (4,5) have mixed types.Specify dtype option on import or set low_memory=False.\n",
      "  return func(*(_execute_task(a, cache) for a in args))\n",
      "/data/anaconda3/envs/rcss20/lib/python3.7/site-packages/dask/core.py:121: DtypeWarning: Columns (4,5) have mixed types.Specify dtype option on import or set low_memory=False.\n",
      "  return func(*(_execute_task(a, cache) for a in args))\n"
     ]
    },
    {
     "name": "stdout",
     "output_type": "stream",
     "text": [
      "2020-03-18 03:46:49 AC1F0671A4B0D5B8112F87DE7B490E6D trn\n",
      "2020-03-18 04:15:43 57ADD4576E2AD6648E9B2DE32F3462A5 val\n"
     ]
    },
    {
     "name": "stderr",
     "output_type": "stream",
     "text": [
      "/data/anaconda3/envs/rcss20/lib/python3.7/site-packages/dask/core.py:121: DtypeWarning: Columns (4,5) have mixed types.Specify dtype option on import or set low_memory=False.\n",
      "  return func(*(_execute_task(a, cache) for a in args))\n",
      "/data/anaconda3/envs/rcss20/lib/python3.7/site-packages/dask/core.py:121: DtypeWarning: Columns (4,5) have mixed types.Specify dtype option on import or set low_memory=False.\n",
      "  return func(*(_execute_task(a, cache) for a in args))\n"
     ]
    },
    {
     "name": "stdout",
     "output_type": "stream",
     "text": [
      "2020-03-18 04:18:37 57ADD4576E2AD6648E9B2DE32F3462A5 trn\n",
      "2020-03-18 04:47:33 C942E369C88CE7C56E69A84D04319FF0 val\n"
     ]
    },
    {
     "name": "stderr",
     "output_type": "stream",
     "text": [
      "/data/anaconda3/envs/rcss20/lib/python3.7/site-packages/dask/core.py:121: DtypeWarning: Columns (4,5) have mixed types.Specify dtype option on import or set low_memory=False.\n",
      "  return func(*(_execute_task(a, cache) for a in args))\n",
      "/data/anaconda3/envs/rcss20/lib/python3.7/site-packages/dask/core.py:121: DtypeWarning: Columns (4,5) have mixed types.Specify dtype option on import or set low_memory=False.\n",
      "  return func(*(_execute_task(a, cache) for a in args))\n"
     ]
    },
    {
     "name": "stdout",
     "output_type": "stream",
     "text": [
      "2020-03-18 04:50:28 C942E369C88CE7C56E69A84D04319FF0 trn\n",
      "2020-03-18 05:19:24 1BC639981AE88E09129594B11F894A21 val\n"
     ]
    },
    {
     "name": "stderr",
     "output_type": "stream",
     "text": [
      "/data/anaconda3/envs/rcss20/lib/python3.7/site-packages/dask/core.py:121: DtypeWarning: Columns (4,5) have mixed types.Specify dtype option on import or set low_memory=False.\n",
      "  return func(*(_execute_task(a, cache) for a in args))\n",
      "/data/anaconda3/envs/rcss20/lib/python3.7/site-packages/dask/core.py:121: DtypeWarning: Columns (4,5) have mixed types.Specify dtype option on import or set low_memory=False.\n",
      "  return func(*(_execute_task(a, cache) for a in args))\n"
     ]
    },
    {
     "name": "stdout",
     "output_type": "stream",
     "text": [
      "2020-03-18 05:22:17 1BC639981AE88E09129594B11F894A21 trn\n",
      "2020-03-18 05:51:14 2216D01F7B48554E4211021A46816FCF val\n"
     ]
    },
    {
     "name": "stderr",
     "output_type": "stream",
     "text": [
      "/data/anaconda3/envs/rcss20/lib/python3.7/site-packages/dask/core.py:121: DtypeWarning: Columns (4,5) have mixed types.Specify dtype option on import or set low_memory=False.\n",
      "  return func(*(_execute_task(a, cache) for a in args))\n",
      "/data/anaconda3/envs/rcss20/lib/python3.7/site-packages/dask/core.py:121: DtypeWarning: Columns (4,5) have mixed types.Specify dtype option on import or set low_memory=False.\n",
      "  return func(*(_execute_task(a, cache) for a in args))\n"
     ]
    },
    {
     "name": "stdout",
     "output_type": "stream",
     "text": [
      "2020-03-18 05:54:08 2216D01F7B48554E4211021A46816FCF trn\n",
      "2020-03-18 06:23:04 F3E1016563360F9434FA986CA86C249C val\n"
     ]
    },
    {
     "name": "stderr",
     "output_type": "stream",
     "text": [
      "/data/anaconda3/envs/rcss20/lib/python3.7/site-packages/dask/core.py:121: DtypeWarning: Columns (4,5) have mixed types.Specify dtype option on import or set low_memory=False.\n",
      "  return func(*(_execute_task(a, cache) for a in args))\n",
      "/data/anaconda3/envs/rcss20/lib/python3.7/site-packages/dask/core.py:121: DtypeWarning: Columns (4,5) have mixed types.Specify dtype option on import or set low_memory=False.\n",
      "  return func(*(_execute_task(a, cache) for a in args))\n"
     ]
    },
    {
     "name": "stdout",
     "output_type": "stream",
     "text": [
      "2020-03-18 06:25:58 F3E1016563360F9434FA986CA86C249C trn\n",
      "2020-03-18 06:54:53 B6D90127A09AB1229731898AEF9D4D7C val\n"
     ]
    },
    {
     "name": "stderr",
     "output_type": "stream",
     "text": [
      "/data/anaconda3/envs/rcss20/lib/python3.7/site-packages/dask/core.py:121: DtypeWarning: Columns (4,5) have mixed types.Specify dtype option on import or set low_memory=False.\n",
      "  return func(*(_execute_task(a, cache) for a in args))\n",
      "/data/anaconda3/envs/rcss20/lib/python3.7/site-packages/dask/core.py:121: DtypeWarning: Columns (4,5) have mixed types.Specify dtype option on import or set low_memory=False.\n",
      "  return func(*(_execute_task(a, cache) for a in args))\n"
     ]
    },
    {
     "name": "stdout",
     "output_type": "stream",
     "text": [
      "2020-03-18 06:57:47 B6D90127A09AB1229731898AEF9D4D7C trn\n",
      "2020-03-18 07:26:43 DBEEFB80F8A314311E2B4BD593E11DFE val\n"
     ]
    },
    {
     "name": "stderr",
     "output_type": "stream",
     "text": [
      "/data/anaconda3/envs/rcss20/lib/python3.7/site-packages/dask/core.py:121: DtypeWarning: Columns (4,5) have mixed types.Specify dtype option on import or set low_memory=False.\n",
      "  return func(*(_execute_task(a, cache) for a in args))\n",
      "/data/anaconda3/envs/rcss20/lib/python3.7/site-packages/dask/core.py:121: DtypeWarning: Columns (4,5) have mixed types.Specify dtype option on import or set low_memory=False.\n",
      "  return func(*(_execute_task(a, cache) for a in args))\n"
     ]
    },
    {
     "name": "stdout",
     "output_type": "stream",
     "text": [
      "2020-03-18 07:29:37 DBEEFB80F8A314311E2B4BD593E11DFE trn\n",
      "2020-03-18 07:58:33 54208B51D44E7D91DC2F3DD02ADEDEC2 val\n"
     ]
    },
    {
     "name": "stderr",
     "output_type": "stream",
     "text": [
      "/data/anaconda3/envs/rcss20/lib/python3.7/site-packages/dask/core.py:121: DtypeWarning: Columns (4,5) have mixed types.Specify dtype option on import or set low_memory=False.\n",
      "  return func(*(_execute_task(a, cache) for a in args))\n",
      "/data/anaconda3/envs/rcss20/lib/python3.7/site-packages/dask/core.py:121: DtypeWarning: Columns (4,5) have mixed types.Specify dtype option on import or set low_memory=False.\n",
      "  return func(*(_execute_task(a, cache) for a in args))\n"
     ]
    },
    {
     "name": "stdout",
     "output_type": "stream",
     "text": [
      "2020-03-18 08:01:27 54208B51D44E7D91DC2F3DD02ADEDEC2 trn\n",
      "2020-03-18 08:30:23 3121F7240D488F74EEED9312E174B217 val\n"
     ]
    },
    {
     "name": "stderr",
     "output_type": "stream",
     "text": [
      "/data/anaconda3/envs/rcss20/lib/python3.7/site-packages/dask/core.py:121: DtypeWarning: Columns (4,5) have mixed types.Specify dtype option on import or set low_memory=False.\n",
      "  return func(*(_execute_task(a, cache) for a in args))\n",
      "/data/anaconda3/envs/rcss20/lib/python3.7/site-packages/dask/core.py:121: DtypeWarning: Columns (4,5) have mixed types.Specify dtype option on import or set low_memory=False.\n",
      "  return func(*(_execute_task(a, cache) for a in args))\n"
     ]
    },
    {
     "name": "stdout",
     "output_type": "stream",
     "text": [
      "2020-03-18 08:33:16 3121F7240D488F74EEED9312E174B217 trn\n",
      "2020-03-18 09:02:10 6431A618DCF7F4CB7F62A95A39BAB77A val\n"
     ]
    },
    {
     "name": "stderr",
     "output_type": "stream",
     "text": [
      "/data/anaconda3/envs/rcss20/lib/python3.7/site-packages/dask/core.py:121: DtypeWarning: Columns (4,5) have mixed types.Specify dtype option on import or set low_memory=False.\n",
      "  return func(*(_execute_task(a, cache) for a in args))\n",
      "/data/anaconda3/envs/rcss20/lib/python3.7/site-packages/dask/core.py:121: DtypeWarning: Columns (4,5) have mixed types.Specify dtype option on import or set low_memory=False.\n",
      "  return func(*(_execute_task(a, cache) for a in args))\n"
     ]
    },
    {
     "name": "stdout",
     "output_type": "stream",
     "text": [
      "2020-03-18 09:05:03 6431A618DCF7F4CB7F62A95A39BAB77A trn\n",
      "2020-03-18 09:33:59 259A6F6DFD672CB1F883CBEC01B99F2D val\n"
     ]
    },
    {
     "name": "stderr",
     "output_type": "stream",
     "text": [
      "/data/anaconda3/envs/rcss20/lib/python3.7/site-packages/dask/core.py:121: DtypeWarning: Columns (4,5) have mixed types.Specify dtype option on import or set low_memory=False.\n",
      "  return func(*(_execute_task(a, cache) for a in args))\n",
      "/data/anaconda3/envs/rcss20/lib/python3.7/site-packages/dask/core.py:121: DtypeWarning: Columns (4,5) have mixed types.Specify dtype option on import or set low_memory=False.\n",
      "  return func(*(_execute_task(a, cache) for a in args))\n"
     ]
    },
    {
     "name": "stdout",
     "output_type": "stream",
     "text": [
      "2020-03-18 09:36:54 259A6F6DFD672CB1F883CBEC01B99F2D trn\n",
      "2020-03-18 10:05:47 F4FD40A716F1572C9A28E9CAA58BE3A5 val\n"
     ]
    },
    {
     "name": "stderr",
     "output_type": "stream",
     "text": [
      "/data/anaconda3/envs/rcss20/lib/python3.7/site-packages/dask/core.py:121: DtypeWarning: Columns (4,5) have mixed types.Specify dtype option on import or set low_memory=False.\n",
      "  return func(*(_execute_task(a, cache) for a in args))\n",
      "/data/anaconda3/envs/rcss20/lib/python3.7/site-packages/dask/core.py:121: DtypeWarning: Columns (4,5) have mixed types.Specify dtype option on import or set low_memory=False.\n",
      "  return func(*(_execute_task(a, cache) for a in args))\n"
     ]
    },
    {
     "name": "stdout",
     "output_type": "stream",
     "text": [
      "2020-03-18 10:08:40 F4FD40A716F1572C9A28E9CAA58BE3A5 trn\n",
      "2020-03-18 10:37:35 69C4A33B9AD29AF883D60BA61CC08702 val\n"
     ]
    },
    {
     "name": "stderr",
     "output_type": "stream",
     "text": [
      "/data/anaconda3/envs/rcss20/lib/python3.7/site-packages/dask/core.py:121: DtypeWarning: Columns (4,5) have mixed types.Specify dtype option on import or set low_memory=False.\n",
      "  return func(*(_execute_task(a, cache) for a in args))\n",
      "/data/anaconda3/envs/rcss20/lib/python3.7/site-packages/dask/core.py:121: DtypeWarning: Columns (4,5) have mixed types.Specify dtype option on import or set low_memory=False.\n",
      "  return func(*(_execute_task(a, cache) for a in args))\n"
     ]
    },
    {
     "name": "stdout",
     "output_type": "stream",
     "text": [
      "2020-03-18 10:40:29 69C4A33B9AD29AF883D60BA61CC08702 trn\n",
      "2020-03-18 11:09:23 E7BB61D2A87C1E72DF1C7BC292B86A1C val\n"
     ]
    },
    {
     "name": "stderr",
     "output_type": "stream",
     "text": [
      "/data/anaconda3/envs/rcss20/lib/python3.7/site-packages/dask/core.py:121: DtypeWarning: Columns (4,5) have mixed types.Specify dtype option on import or set low_memory=False.\n",
      "  return func(*(_execute_task(a, cache) for a in args))\n",
      "/data/anaconda3/envs/rcss20/lib/python3.7/site-packages/dask/core.py:121: DtypeWarning: Columns (4,5) have mixed types.Specify dtype option on import or set low_memory=False.\n",
      "  return func(*(_execute_task(a, cache) for a in args))\n"
     ]
    },
    {
     "name": "stdout",
     "output_type": "stream",
     "text": [
      "2020-03-18 11:12:17 E7BB61D2A87C1E72DF1C7BC292B86A1C trn\n",
      "2020-03-18 11:41:12 FF7EABB5A382356D54D9C41BA0125E09 val\n"
     ]
    },
    {
     "name": "stderr",
     "output_type": "stream",
     "text": [
      "/data/anaconda3/envs/rcss20/lib/python3.7/site-packages/dask/core.py:121: DtypeWarning: Columns (4,5) have mixed types.Specify dtype option on import or set low_memory=False.\n",
      "  return func(*(_execute_task(a, cache) for a in args))\n",
      "/data/anaconda3/envs/rcss20/lib/python3.7/site-packages/dask/core.py:121: DtypeWarning: Columns (4,5) have mixed types.Specify dtype option on import or set low_memory=False.\n",
      "  return func(*(_execute_task(a, cache) for a in args))\n"
     ]
    },
    {
     "name": "stdout",
     "output_type": "stream",
     "text": [
      "2020-03-18 11:44:05 FF7EABB5A382356D54D9C41BA0125E09 trn\n",
      "2020-03-18 12:12:58 3A85BCEC571C3F5AB1069E4924189177 val\n"
     ]
    },
    {
     "name": "stderr",
     "output_type": "stream",
     "text": [
      "/data/anaconda3/envs/rcss20/lib/python3.7/site-packages/dask/core.py:121: DtypeWarning: Columns (4,5) have mixed types.Specify dtype option on import or set low_memory=False.\n",
      "  return func(*(_execute_task(a, cache) for a in args))\n",
      "/data/anaconda3/envs/rcss20/lib/python3.7/site-packages/dask/core.py:121: DtypeWarning: Columns (4,5) have mixed types.Specify dtype option on import or set low_memory=False.\n",
      "  return func(*(_execute_task(a, cache) for a in args))\n"
     ]
    },
    {
     "name": "stdout",
     "output_type": "stream",
     "text": [
      "2020-03-18 12:15:51 3A85BCEC571C3F5AB1069E4924189177 trn\n",
      "2020-03-18 12:44:45 CB11E9CF42BD0A1BAD5E27BF3422D99D val\n"
     ]
    },
    {
     "name": "stderr",
     "output_type": "stream",
     "text": [
      "/data/anaconda3/envs/rcss20/lib/python3.7/site-packages/dask/core.py:121: DtypeWarning: Columns (4,5) have mixed types.Specify dtype option on import or set low_memory=False.\n",
      "  return func(*(_execute_task(a, cache) for a in args))\n",
      "/data/anaconda3/envs/rcss20/lib/python3.7/site-packages/dask/core.py:121: DtypeWarning: Columns (4,5) have mixed types.Specify dtype option on import or set low_memory=False.\n",
      "  return func(*(_execute_task(a, cache) for a in args))\n"
     ]
    },
    {
     "name": "stdout",
     "output_type": "stream",
     "text": [
      "2020-03-18 12:47:37 CB11E9CF42BD0A1BAD5E27BF3422D99D trn\n",
      "2020-03-18 13:16:16 544FA32458C903F1125FE6598300A047 val\n"
     ]
    },
    {
     "name": "stderr",
     "output_type": "stream",
     "text": [
      "/data/anaconda3/envs/rcss20/lib/python3.7/site-packages/dask/core.py:121: DtypeWarning: Columns (4,5) have mixed types.Specify dtype option on import or set low_memory=False.\n",
      "  return func(*(_execute_task(a, cache) for a in args))\n",
      "/data/anaconda3/envs/rcss20/lib/python3.7/site-packages/dask/core.py:121: DtypeWarning: Columns (4,5) have mixed types.Specify dtype option on import or set low_memory=False.\n",
      "  return func(*(_execute_task(a, cache) for a in args))\n"
     ]
    },
    {
     "name": "stdout",
     "output_type": "stream",
     "text": [
      "2020-03-18 13:19:04 544FA32458C903F1125FE6598300A047 trn\n",
      "2020-03-18 13:47:31 4249CE88433AEA3F8DCEECF008B3CB95 val\n"
     ]
    },
    {
     "name": "stderr",
     "output_type": "stream",
     "text": [
      "/data/anaconda3/envs/rcss20/lib/python3.7/site-packages/dask/core.py:121: DtypeWarning: Columns (4,5) have mixed types.Specify dtype option on import or set low_memory=False.\n",
      "  return func(*(_execute_task(a, cache) for a in args))\n",
      "/data/anaconda3/envs/rcss20/lib/python3.7/site-packages/dask/core.py:121: DtypeWarning: Columns (4,5) have mixed types.Specify dtype option on import or set low_memory=False.\n",
      "  return func(*(_execute_task(a, cache) for a in args))\n"
     ]
    },
    {
     "name": "stdout",
     "output_type": "stream",
     "text": [
      "2020-03-18 13:50:23 4249CE88433AEA3F8DCEECF008B3CB95 trn\n"
     ]
    }
   ],
   "source": [
    "for lang in langs:\n",
    "    print(dtnow(), lang, 'val')\n",
    "    prep_lang_df(dfval,trnval='val',tmstmp=valtmstmp,lang=lang)\n",
    "    print(dtnow(), lang, 'trn')\n",
    "    prep_lang_df(dftrn,trnval='trn',tmstmp=trntmstmp,lang=lang)    "
   ]
  },
  {
   "cell_type": "code",
   "execution_count": null,
   "metadata": {},
   "outputs": [],
   "source": []
  },
  {
   "cell_type": "code",
   "execution_count": null,
   "metadata": {},
   "outputs": [],
   "source": []
  },
  {
   "cell_type": "code",
   "execution_count": null,
   "metadata": {},
   "outputs": [],
   "source": []
  },
  {
   "cell_type": "code",
   "execution_count": null,
   "metadata": {},
   "outputs": [],
   "source": []
  },
  {
   "cell_type": "code",
   "execution_count": null,
   "metadata": {},
   "outputs": [],
   "source": []
  },
  {
   "cell_type": "code",
   "execution_count": null,
   "metadata": {},
   "outputs": [],
   "source": []
  },
  {
   "cell_type": "code",
   "execution_count": null,
   "metadata": {},
   "outputs": [],
   "source": []
  },
  {
   "cell_type": "code",
   "execution_count": null,
   "metadata": {},
   "outputs": [],
   "source": []
  },
  {
   "cell_type": "code",
   "execution_count": null,
   "metadata": {},
   "outputs": [],
   "source": []
  },
  {
   "cell_type": "code",
   "execution_count": null,
   "metadata": {},
   "outputs": [],
   "source": []
  },
  {
   "cell_type": "code",
   "execution_count": null,
   "metadata": {},
   "outputs": [],
   "source": []
  }
 ],
 "metadata": {
  "kernelspec": {
   "display_name": "rcss20",
   "language": "python",
   "name": "rcss20"
  },
  "language_info": {
   "codemirror_mode": {
    "name": "ipython",
    "version": 3
   },
   "file_extension": ".py",
   "mimetype": "text/x-python",
   "name": "python",
   "nbconvert_exporter": "python",
   "pygments_lexer": "ipython3",
   "version": "3.7.6"
  },
  "toc": {
   "base_numbering": 1,
   "nav_menu": {},
   "number_sections": true,
   "sideBar": true,
   "skip_h1_title": false,
   "title_cell": "Table of Contents",
   "title_sidebar": "Contents",
   "toc_cell": false,
   "toc_position": {},
   "toc_section_display": true,
   "toc_window_display": true
  }
 },
 "nbformat": 4,
 "nbformat_minor": 2
}
