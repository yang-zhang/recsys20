{
 "cells": [
  {
   "cell_type": "markdown",
   "metadata": {},
   "source": [
    "# start"
   ]
  },
  {
   "cell_type": "code",
   "execution_count": 1,
   "metadata": {},
   "outputs": [
    {
     "name": "stdout",
     "output_type": "stream",
     "text": [
      "train_total 148,075,238, test_total 14,000,000\n",
      "train_total 50,000,000, valsz 5,000,000\n",
      "['2020-03-17 02:32:24', '2020-05-21 15:43:26']\n",
      "['2020-02-06 00:00:00', '2020-02-12 23:59:59']\n",
      "['2020-02-13 00:00:00', '2020-02-19 23:59:59']\n"
     ]
    }
   ],
   "source": [
    "TGT='Retweet'\n",
    "PRFX='Retweet0520A3'\n",
    "\n",
    "trntmstmp=1584412344\n",
    "tsttmstmp=1590075806\n",
    "\n",
    "tm_trn_min,tm_trn_max=(1580947200, 1581551999)\n",
    "tm_tst_min,tm_tst_max=(1581552000, 1582156799)\n",
    "\n",
    "train_total=148075238\n",
    "test_total=int(1.4e7)\n",
    "print(f'train_total {train_total:,}, test_total {test_total:,}')\n",
    "\n",
    "SEED=101\n",
    "\n",
    "trnsz = int(5e7)\n",
    "valsz = trnsz//10\n",
    "print(f'train_total {trnsz:,}, valsz {valsz:,}')\n",
    "\n",
    "\n",
    "\n",
    "import datetime\n",
    "def showtm(tm): return datetime.datetime.fromtimestamp(tm).strftime('%Y-%m-%d %H:%M:%S')\n",
    "print([showtm(tm) for tm in (trntmstmp, tsttmstmp)])\n",
    "print([showtm(tm) for tm in (tm_trn_min,tm_trn_max)])\n",
    "print([showtm(tm) for tm in (tm_tst_min,tm_tst_max)])"
   ]
  },
  {
   "cell_type": "markdown",
   "metadata": {},
   "source": [
    "# setup"
   ]
  },
  {
   "cell_type": "code",
   "execution_count": 2,
   "metadata": {},
   "outputs": [
    {
     "name": "stdout",
     "output_type": "stream",
     "text": [
      "TCOL retwt\n",
      "{'Retweet': 'retwt', 'Reply': 'reply', 'Like': 'like', 'RTwCmnt': 'retwt_cmmnt'}\n"
     ]
    }
   ],
   "source": [
    "from tqdm import tqdm\n",
    "import time\n",
    "from pathlib import Path\n",
    "from collections import Counter,defaultdict\n",
    "from sklearn.model_selection import train_test_split\n",
    "import pandas as pd\n",
    "import numpy as np\n",
    "import matplotlib.pyplot as plt\n",
    "from sklearn.metrics import accuracy_score, roc_auc_score, roc_curve, auc, precision_recall_curve\n",
    "import pickle\n",
    "# import xgboost as xgb\n",
    "import lightgbm as lgb\n",
    "import category_encoders as ce\n",
    "import gc\n",
    "\n",
    "# import optuna\n",
    "# optuna.logging.CRITICAL, optuna.logging.FATAL\n",
    "# optuna.logging.ERROR\n",
    "# optuna.logging.WARNING, optuna.logging.WARN\n",
    "# optuna.logging.INFO\n",
    "# optuna.logging.DEBUG\n",
    "# optuna.logging.set_verbosity(optuna.logging.ERROR)\n",
    "# import optuna.integration.lightgbm as lgb\n",
    "# optuna.logging.disable_default_handler()\n",
    "\n",
    "\n",
    "pd.set_option('display.max_rows', 500)\n",
    "pd.set_option('display.max_columns', 500)\n",
    "\n",
    "\n",
    "import datetime\n",
    "def dtnow(): return datetime.datetime.now().strftime('%Y-%m-%d %H:%M:%S')\n",
    "\n",
    "def iou(s1,s2):\n",
    "    return len(s1&s2) / len(s1|s2)\n",
    "\n",
    "HOME='/data/git/recsys20'\n",
    "p_in=f'{HOME}/input'\n",
    "p_out=f'{HOME}/output/{PRFX}'\n",
    "Path(p_out).mkdir(exist_ok=True, parents=True)\n",
    "\n",
    "from sklearn.metrics import precision_recall_curve, auc, log_loss\n",
    "\n",
    "def compute_prauc(pred, gt):\n",
    "    prec, recall, thresh = precision_recall_curve(gt, pred)\n",
    "    prauc = auc(recall, prec)\n",
    "    return prauc\n",
    "\n",
    "def calculate_ctr(gt):\n",
    "    positive = len([x for x in gt if x == 1])\n",
    "    ctr = positive/float(len(gt))\n",
    "    return ctr\n",
    "\n",
    "def compute_rce(pred, gt):\n",
    "    cross_entropy = log_loss(gt, pred)\n",
    "    data_ctr = calculate_ctr(gt)\n",
    "    strawman_cross_entropy = log_loss(gt, [data_ctr for _ in range(len(gt))])\n",
    "    return (1.0 - cross_entropy/strawman_cross_entropy)*100.0\n",
    "\n",
    "# https://towardsdatascience.com/how-to-calibrate-undersampled-model-scores-8f3319c1ea5b\n",
    "# How to use the function?\n",
    "# Let’s say your goal is to generate a model that shows the credit default probabilities and your original \n",
    "# training data has 50,000 rows with only 500 of them labeled as target class. When you sample your non-target \n",
    "# instances randomly and reduce the total row count to 10,000, while conserving 500 target rows, our calibration\n",
    "# function becomes:\n",
    "# calibration(model_results, 50000, 500, 10000, 500)\n",
    "# Here model_results is your model probability output array. After you train your model and put the results in it, your function is ready to use. \n",
    "def calibration(data, train_pop, target_pop, sampled_train_pop, sampled_target_pop):\n",
    "    calibrated_data = ((data * (target_pop / train_pop) / (sampled_target_pop / sampled_train_pop)) /\n",
    "    (((1 - data) * (1 - target_pop / train_pop) / (1 - sampled_target_pop / sampled_train_pop)) +\n",
    "     (data * (target_pop / train_pop) / (sampled_target_pop / sampled_train_pop))))\n",
    "    return calibrated_data\n",
    "\n",
    "\n",
    "cols=['toks','hshtgs','twtid','media','links','domns','twttyp','lang','tm','u1id','u1_fllwer_cnt','u1_fllwing_cnt','u1_vrfed','u1_create_tm','u2id','u2_fllwer_cnt','u2_fllwng_cnt','u2_vrfed','u2_create_tm','u1_fllw_u2','reply_tm','retwt_tm','retwt_cmmnt_tm','like_tm',]\n",
    "\n",
    "cols_val = cols[:-4]\n",
    "cols_tgt_tmstmp=[ 'retwt_tm', 'reply_tm', 'like_tm', 'retwt_cmmnt_tm',]\n",
    "cols_tgt=[o.split('_tm')[0] for o in cols_tgt_tmstmp]\n",
    "tgts             = ['Retweet','Reply','Like','RTwCmnt',]\n",
    "assert cols_tgt == ['retwt',  'reply','like','retwt_cmmnt',]\n",
    "tgt2col = dict(zip(tgts, cols_tgt))\n",
    "TCOL=tgt2col[TGT]\n",
    "print('TCOL', TCOL)\n",
    "print(tgt2col)"
   ]
  },
  {
   "cell_type": "markdown",
   "metadata": {},
   "source": [
    "# prep"
   ]
  },
  {
   "cell_type": "code",
   "execution_count": 3,
   "metadata": {},
   "outputs": [],
   "source": [
    "def prp_tgt(df):\n",
    "    df[cols_tgt]=df[cols_tgt_tmstmp].notna()\n",
    "    df.drop(columns=cols_tgt_tmstmp, inplace=True)\n",
    "    display(df[cols_tgt].mean())"
   ]
  },
  {
   "cell_type": "code",
   "execution_count": 4,
   "metadata": {
    "scrolled": false
   },
   "outputs": [
    {
     "name": "stdout",
     "output_type": "stream",
     "text": [
      "(5000000, 24)\n"
     ]
    },
    {
     "data": {
      "text/plain": [
       "retwt          0.113031\n",
       "reply          0.027488\n",
       "like           0.439499\n",
       "retwt_cmmnt    0.007742\n",
       "dtype: float64"
      ]
     },
     "metadata": {},
     "output_type": "display_data"
    },
    {
     "name": "stdout",
     "output_type": "stream",
     "text": [
      "CPU times: user 55.8 s, sys: 6.61 s, total: 1min 2s\n",
      "Wall time: 1min 44s\n"
     ]
    }
   ],
   "source": [
    "%%time\n",
    "dfval = pd.read_csv(f'{p_in}/trn_{trntmstmp}.tsv',sep='\\x01',header=None,names=cols,nrows=valsz)\n",
    "print(dfval.shape)\n",
    "prp_tgt(dfval)"
   ]
  },
  {
   "cell_type": "markdown",
   "metadata": {},
   "source": [
    "## maybe oversample"
   ]
  },
  {
   "cell_type": "code",
   "execution_count": 5,
   "metadata": {},
   "outputs": [],
   "source": [
    "# df = pd.read_csv(f'{p_in}/trn_{trntmstmp}.tsv',sep='\\x01',header=None,names=cols,nrows=5)\n",
    "# dfval = pd.read_csv(f'{p_in}/trn_{trntmstmp}.tsv',sep='\\x01',header=None,names=cols,nrows=2)\n",
    "# dftrn = pd.read_csv(f'{p_in}/trn_{trntmstmp}.tsv',sep='\\x01',header=None,names=cols,skiprows=2,nrows=3)\n",
    "# display(df.twtid)\n",
    "# display(dfval.twtid)\n",
    "# display(dftrn.twtid)\n",
    "\n",
    "# 0    D4D1EBDE74F74C5DA529959AF979625C\n",
    "# 1    BFB529DAB6D384EB83E899A72AB3830D\n",
    "# 2    519078C7834E9642508F72A6C2D0F3B7\n",
    "# 3    52AAE9E33EFAC8C478C57B31A9E31ED1\n",
    "# 4    89C1298C55EB3D68E2784F0BFB69E6F8\n",
    "# Name: twtid, dtype: object\n",
    "# 0    D4D1EBDE74F74C5DA529959AF979625C\n",
    "# 1    BFB529DAB6D384EB83E899A72AB3830D\n",
    "# Name: twtid, dtype: object\n",
    "# 0    519078C7834E9642508F72A6C2D0F3B7\n",
    "# 1    52AAE9E33EFAC8C478C57B31A9E31ED1\n",
    "# 2    89C1298C55EB3D68E2784F0BFB69E6F8\n",
    "# Name: twtid, dtype: object"
   ]
  },
  {
   "cell_type": "code",
   "execution_count": 6,
   "metadata": {
    "scrolled": true
   },
   "outputs": [
    {
     "name": "stdout",
     "output_type": "stream",
     "text": [
      "(50000000, 24)\n"
     ]
    },
    {
     "data": {
      "text/plain": [
       "retwt          0.113073\n",
       "reply          0.027466\n",
       "like           0.439151\n",
       "retwt_cmmnt    0.007798\n",
       "dtype: float64"
      ]
     },
     "metadata": {},
     "output_type": "display_data"
    },
    {
     "name": "stdout",
     "output_type": "stream",
     "text": [
      "CPU times: user 9min 34s, sys: 1min 34s, total: 11min 8s\n",
      "Wall time: 16min 52s\n"
     ]
    }
   ],
   "source": [
    "%%time\n",
    "if TGT in ('Retweet','Like'): trnpop=trnsz\n",
    "if TGT=='Reply': trnpop=trnsz*3.7\n",
    "if TGT=='RTwCmnt': trnpop=trnsz*11.5\n",
    "assert trnpop<train_total\n",
    "\n",
    "dftrn = pd.read_csv(f'{p_in}/trn_{trntmstmp}.tsv',sep='\\x01',header=None,names=cols,\n",
    "                     skiprows=valsz, nrows=trnpop)\n",
    "print(dftrn.shape)\n",
    "prp_tgt(dftrn)"
   ]
  },
  {
   "cell_type": "code",
   "execution_count": 7,
   "metadata": {
    "scrolled": true
   },
   "outputs": [
    {
     "name": "stdout",
     "output_type": "stream",
     "text": [
      "(50000000, 24) 0.11307254\n",
      "50000000 5653627 50000000 5653627\n"
     ]
    },
    {
     "data": {
      "text/html": [
       "<div>\n",
       "<style scoped>\n",
       "    .dataframe tbody tr th:only-of-type {\n",
       "        vertical-align: middle;\n",
       "    }\n",
       "\n",
       "    .dataframe tbody tr th {\n",
       "        vertical-align: top;\n",
       "    }\n",
       "\n",
       "    .dataframe thead th {\n",
       "        text-align: right;\n",
       "    }\n",
       "</style>\n",
       "<table border=\"1\" class=\"dataframe\">\n",
       "  <thead>\n",
       "    <tr style=\"text-align: right;\">\n",
       "      <th></th>\n",
       "      <th>toks</th>\n",
       "      <th>hshtgs</th>\n",
       "      <th>twtid</th>\n",
       "      <th>media</th>\n",
       "      <th>links</th>\n",
       "      <th>domns</th>\n",
       "      <th>twttyp</th>\n",
       "      <th>lang</th>\n",
       "      <th>tm</th>\n",
       "      <th>u1id</th>\n",
       "      <th>u1_fllwer_cnt</th>\n",
       "      <th>u1_fllwing_cnt</th>\n",
       "      <th>u1_vrfed</th>\n",
       "      <th>u1_create_tm</th>\n",
       "      <th>u2id</th>\n",
       "      <th>u2_fllwer_cnt</th>\n",
       "      <th>u2_fllwng_cnt</th>\n",
       "      <th>u2_vrfed</th>\n",
       "      <th>u2_create_tm</th>\n",
       "      <th>u1_fllw_u2</th>\n",
       "      <th>retwt</th>\n",
       "      <th>reply</th>\n",
       "      <th>like</th>\n",
       "      <th>retwt_cmmnt</th>\n",
       "    </tr>\n",
       "  </thead>\n",
       "  <tbody>\n",
       "    <tr>\n",
       "      <th>0</th>\n",
       "      <td>101\\t4476\\t4348\\t1966\\t25204\\t5660\\t1976\\t4704...</td>\n",
       "      <td>37818B31C1704769399E042511BA4C17</td>\n",
       "      <td>A7F392023C43A70315065C2A3ADDC278</td>\n",
       "      <td>Photo\\tPhoto</td>\n",
       "      <td>NaN</td>\n",
       "      <td>NaN</td>\n",
       "      <td>TopLevel</td>\n",
       "      <td>22C448FF81263D4BAF2A176145EE9EAD</td>\n",
       "      <td>1581085559</td>\n",
       "      <td>DB1C90DF04A5BBEFDCE020C5984D383D</td>\n",
       "      <td>92747</td>\n",
       "      <td>182</td>\n",
       "      <td>False</td>\n",
       "      <td>1309349662</td>\n",
       "      <td>4524EA2B6D799DB23D35E5956652783D</td>\n",
       "      <td>585</td>\n",
       "      <td>3715</td>\n",
       "      <td>False</td>\n",
       "      <td>1517242643</td>\n",
       "      <td>False</td>\n",
       "      <td>False</td>\n",
       "      <td>False</td>\n",
       "      <td>True</td>\n",
       "      <td>False</td>\n",
       "    </tr>\n",
       "    <tr>\n",
       "      <th>1</th>\n",
       "      <td>101\\t7218\\t5600\\t4348\\t1910\\t37133\\t12236\\t103...</td>\n",
       "      <td>NaN</td>\n",
       "      <td>D9225516353D575D61D940FBEF1F30AA</td>\n",
       "      <td>NaN</td>\n",
       "      <td>NaN</td>\n",
       "      <td>NaN</td>\n",
       "      <td>Quote</td>\n",
       "      <td>22C448FF81263D4BAF2A176145EE9EAD</td>\n",
       "      <td>1581258666</td>\n",
       "      <td>96CDDA7BD14717C9CFC35F6CF958C6DE</td>\n",
       "      <td>248661</td>\n",
       "      <td>454</td>\n",
       "      <td>False</td>\n",
       "      <td>1408558347</td>\n",
       "      <td>4524EA2B6D799DB23D35E5956652783D</td>\n",
       "      <td>585</td>\n",
       "      <td>3715</td>\n",
       "      <td>False</td>\n",
       "      <td>1517242643</td>\n",
       "      <td>False</td>\n",
       "      <td>False</td>\n",
       "      <td>False</td>\n",
       "      <td>True</td>\n",
       "      <td>False</td>\n",
       "    </tr>\n",
       "    <tr>\n",
       "      <th>2</th>\n",
       "      <td>101\\t97074\\t59599\\t10133\\t10437\\t10120\\t58848\\...</td>\n",
       "      <td>NaN</td>\n",
       "      <td>3B753380FABA06FD22189FBC1479ED4C</td>\n",
       "      <td>NaN</td>\n",
       "      <td>NaN</td>\n",
       "      <td>NaN</td>\n",
       "      <td>TopLevel</td>\n",
       "      <td>ECED8A16BE2A5E8871FD55F4842F16B1</td>\n",
       "      <td>1581021899</td>\n",
       "      <td>942CAA7AC2C628EA418AC5C33631E2A7</td>\n",
       "      <td>365</td>\n",
       "      <td>312</td>\n",
       "      <td>False</td>\n",
       "      <td>1239406983</td>\n",
       "      <td>4524EA4E8220BB5B58D59F0769057177</td>\n",
       "      <td>60</td>\n",
       "      <td>63</td>\n",
       "      <td>False</td>\n",
       "      <td>1310696993</td>\n",
       "      <td>True</td>\n",
       "      <td>False</td>\n",
       "      <td>False</td>\n",
       "      <td>True</td>\n",
       "      <td>False</td>\n",
       "    </tr>\n",
       "    <tr>\n",
       "      <th>3</th>\n",
       "      <td>101\\t56898\\t137\\t13000\\t13788\\t15976\\t41756\\t1...</td>\n",
       "      <td>NaN</td>\n",
       "      <td>1D26FC14403A203B33F5E73C8E10CC6A</td>\n",
       "      <td>NaN</td>\n",
       "      <td>NaN</td>\n",
       "      <td>NaN</td>\n",
       "      <td>Retweet</td>\n",
       "      <td>06D61DCBBE938971E1EA0C38BD9B5446</td>\n",
       "      <td>1581291259</td>\n",
       "      <td>0C048EC997A555324D7A3B0A8136D8C1</td>\n",
       "      <td>1645</td>\n",
       "      <td>678</td>\n",
       "      <td>False</td>\n",
       "      <td>1382659382</td>\n",
       "      <td>4524EB29D12EE91CB8FABCCF20436395</td>\n",
       "      <td>909</td>\n",
       "      <td>575</td>\n",
       "      <td>False</td>\n",
       "      <td>1366224563</td>\n",
       "      <td>True</td>\n",
       "      <td>False</td>\n",
       "      <td>False</td>\n",
       "      <td>False</td>\n",
       "      <td>False</td>\n",
       "    </tr>\n",
       "    <tr>\n",
       "      <th>4</th>\n",
       "      <td>101\\t56898\\t137\\t11161\\t26252\\t57717\\t84709\\t1...</td>\n",
       "      <td>NaN</td>\n",
       "      <td>B5578548D6C4CECE3D10B0D2AF6A4F8D</td>\n",
       "      <td>NaN</td>\n",
       "      <td>NaN</td>\n",
       "      <td>NaN</td>\n",
       "      <td>Retweet</td>\n",
       "      <td>06D61DCBBE938971E1EA0C38BD9B5446</td>\n",
       "      <td>1581383127</td>\n",
       "      <td>39F9D34C69FA849408B9ECDADD239B2F</td>\n",
       "      <td>166</td>\n",
       "      <td>155</td>\n",
       "      <td>False</td>\n",
       "      <td>1549643033</td>\n",
       "      <td>4524EB29D12EE91CB8FABCCF20436395</td>\n",
       "      <td>909</td>\n",
       "      <td>575</td>\n",
       "      <td>False</td>\n",
       "      <td>1366224563</td>\n",
       "      <td>True</td>\n",
       "      <td>False</td>\n",
       "      <td>False</td>\n",
       "      <td>False</td>\n",
       "      <td>False</td>\n",
       "    </tr>\n",
       "  </tbody>\n",
       "</table>\n",
       "</div>"
      ],
      "text/plain": [
       "                                                toks  \\\n",
       "0  101\\t4476\\t4348\\t1966\\t25204\\t5660\\t1976\\t4704...   \n",
       "1  101\\t7218\\t5600\\t4348\\t1910\\t37133\\t12236\\t103...   \n",
       "2  101\\t97074\\t59599\\t10133\\t10437\\t10120\\t58848\\...   \n",
       "3  101\\t56898\\t137\\t13000\\t13788\\t15976\\t41756\\t1...   \n",
       "4  101\\t56898\\t137\\t11161\\t26252\\t57717\\t84709\\t1...   \n",
       "\n",
       "                             hshtgs                             twtid  \\\n",
       "0  37818B31C1704769399E042511BA4C17  A7F392023C43A70315065C2A3ADDC278   \n",
       "1                               NaN  D9225516353D575D61D940FBEF1F30AA   \n",
       "2                               NaN  3B753380FABA06FD22189FBC1479ED4C   \n",
       "3                               NaN  1D26FC14403A203B33F5E73C8E10CC6A   \n",
       "4                               NaN  B5578548D6C4CECE3D10B0D2AF6A4F8D   \n",
       "\n",
       "          media links domns    twttyp                              lang  \\\n",
       "0  Photo\\tPhoto   NaN   NaN  TopLevel  22C448FF81263D4BAF2A176145EE9EAD   \n",
       "1           NaN   NaN   NaN     Quote  22C448FF81263D4BAF2A176145EE9EAD   \n",
       "2           NaN   NaN   NaN  TopLevel  ECED8A16BE2A5E8871FD55F4842F16B1   \n",
       "3           NaN   NaN   NaN   Retweet  06D61DCBBE938971E1EA0C38BD9B5446   \n",
       "4           NaN   NaN   NaN   Retweet  06D61DCBBE938971E1EA0C38BD9B5446   \n",
       "\n",
       "           tm                              u1id  u1_fllwer_cnt  \\\n",
       "0  1581085559  DB1C90DF04A5BBEFDCE020C5984D383D          92747   \n",
       "1  1581258666  96CDDA7BD14717C9CFC35F6CF958C6DE         248661   \n",
       "2  1581021899  942CAA7AC2C628EA418AC5C33631E2A7            365   \n",
       "3  1581291259  0C048EC997A555324D7A3B0A8136D8C1           1645   \n",
       "4  1581383127  39F9D34C69FA849408B9ECDADD239B2F            166   \n",
       "\n",
       "   u1_fllwing_cnt  u1_vrfed  u1_create_tm                              u2id  \\\n",
       "0             182     False    1309349662  4524EA2B6D799DB23D35E5956652783D   \n",
       "1             454     False    1408558347  4524EA2B6D799DB23D35E5956652783D   \n",
       "2             312     False    1239406983  4524EA4E8220BB5B58D59F0769057177   \n",
       "3             678     False    1382659382  4524EB29D12EE91CB8FABCCF20436395   \n",
       "4             155     False    1549643033  4524EB29D12EE91CB8FABCCF20436395   \n",
       "\n",
       "   u2_fllwer_cnt  u2_fllwng_cnt  u2_vrfed  u2_create_tm  u1_fllw_u2  retwt  \\\n",
       "0            585           3715     False    1517242643       False  False   \n",
       "1            585           3715     False    1517242643       False  False   \n",
       "2             60             63     False    1310696993        True  False   \n",
       "3            909            575     False    1366224563        True  False   \n",
       "4            909            575     False    1366224563        True  False   \n",
       "\n",
       "   reply   like  retwt_cmmnt  \n",
       "0  False   True        False  \n",
       "1  False   True        False  \n",
       "2  False   True        False  \n",
       "3  False  False        False  \n",
       "4  False  False        False  "
      ]
     },
     "metadata": {},
     "output_type": "display_data"
    },
    {
     "data": {
      "text/plain": [
       "Index(['toks', 'hshtgs', 'twtid', 'media', 'links', 'domns', 'twttyp', 'lang',\n",
       "       'tm', 'u1id', 'u1_fllwer_cnt', 'u1_fllwing_cnt', 'u1_vrfed',\n",
       "       'u1_create_tm', 'u2id', 'u2_fllwer_cnt', 'u2_fllwng_cnt', 'u2_vrfed',\n",
       "       'u2_create_tm', 'u1_fllw_u2', 'retwt', 'reply', 'like', 'retwt_cmmnt'],\n",
       "      dtype='object')"
      ]
     },
     "metadata": {},
     "output_type": "display_data"
    }
   ],
   "source": [
    "train_pop=len(dftrn)\n",
    "sampled_train_pop=trnsz\n",
    "idx_pos = np.where(dftrn[TCOL])[0]\n",
    "target_pop=sampled_target_pop=len(idx_pos)\n",
    "if TGT in ('Reply','RTwCmnt'):\n",
    "    idx_neg0 = np.where(~dftrn[TCOL])[0]\n",
    "    idx_neg = np.random.choice(idx_neg0, trnsz-len(idx_pos), replace=False)\n",
    "    idx = np.concatenate([idx_pos,idx_neg])\n",
    "    dftrn = dftrn.iloc[idx].copy()\n",
    "print(dftrn.shape, dftrn[TCOL].mean())\n",
    "print(train_pop, target_pop, sampled_train_pop, sampled_target_pop)\n",
    "\n",
    "display(dftrn.head())\n",
    "display(dftrn.columns)"
   ]
  },
  {
   "cell_type": "markdown",
   "metadata": {},
   "source": [
    "## prep and features"
   ]
  },
  {
   "cell_type": "code",
   "execution_count": 8,
   "metadata": {},
   "outputs": [],
   "source": [
    "def prp_df(df, tm_max):\n",
    "    '''\n",
    "    tm_max = tm_trn_max for train tm_tst_max for test\n",
    "    '''\n",
    "    lendf = len(df)\n",
    "    print(dtnow(), 'start')\n",
    "    set_u1 = set(df.u1id)\n",
    "    set_u2 = set(df.u2id)\n",
    "    df['u1inu2']=df.u1id.isin(set_u2)\n",
    "    df['u2inu1']=df.u2id.isin(set_u1)\n",
    "\n",
    "    #counts\n",
    "    df['len_toks'] = df.toks.apply(lambda x: len(x.split('\\t')))\n",
    "    df.drop(columns=['toks'], inplace=True)    \n",
    "    for m in ['Photo', 'Video', 'GIF']:\n",
    "        df[f'n_media_{m}'] = df['media'].fillna('').apply(lambda x: x.split('\\t').count(m))\n",
    "    tgnms = ['hshtgs','media', 'links', 'domns',]\n",
    "    for tgnm in tgnms:\n",
    "        df[f'has_{tgnm}']=df[tgnm].notna()\n",
    "        df[f'lst_{tgnm}'] = df[tgnm].fillna('').apply(lambda x: x.split('\\t') if len(x) else [])\n",
    "        df[f'n_{tgnm}'] = df[f'lst_{tgnm}'].apply(len)  \n",
    "    df.drop(columns=['has_links','n_links'], inplace=True) #duplicates has_domns,n_domns \n",
    "    \n",
    "    #time\n",
    "    dt = pd.to_datetime(df.tm, unit='s')\n",
    "    df['dayofweek'] = dt.dt.dayofweek\n",
    "    df['hour'] = dt.dt.hour\n",
    "    \n",
    "    df['tmdlta_u2u1']  = df.u2_create_tm - df.u1_create_tm\n",
    "    df['tmdlta_twtu1'] = df.tm - df.u1_create_tm\n",
    "    df['tmdlta_twtu2'] = df.tm - df.u2_create_tm\n",
    "\n",
    "    df['twt_age']   = tm_max-df.tm\n",
    "    df['u1_age']    = tm_max-df.u1_create_tm\n",
    "    df['u2_age']    = tm_max-df.u2_create_tm\n",
    "    df.drop(columns=['tm', 'u1_create_tm', 'u2_create_tm'], inplace=True)\n",
    "\n",
    "    #time derived\n",
    "    df['u1_fllwer_cnt_by_age'] = df.u1_fllwer_cnt / df.u1_age\n",
    "    df['u1_fllwng_cnt_by_age'] = df.u2_fllwng_cnt / df.u2_age\n",
    "    \n",
    "    #interaction\n",
    "    df['u1u2']=df.u1id+'_'+df.u2id\n",
    "    df['langhour']=df.lang+'_'+df.hour.astype(str)\n",
    "    \n",
    "\n",
    "#     #freq of feature values\n",
    "#     print(dtnow(), 'freq of columns using CountEncoder')\n",
    "#     encoder = ce.CountEncoder()\n",
    "#     encoded = encoder.fit_transform(\n",
    "#     df[['twtid', 'twttyp', 'lang', 'u1id', 'u1_fllwing_cnt', 'u1_vrfed', 'u2id', 'u2_fllwer_cnt', 'u2_vrfed', 'u1_fllw_u2', \n",
    "#        'n_media_Photo', 'n_media_Video', 'n_media_GIF', \n",
    "#        'has_hshtgs', 'n_hshtgs', 'has_media', 'n_media','has_domns', 'n_domns', \n",
    "#        'dayofweek', 'hour', 'u1u2', 'langhour']].astype(object))\n",
    "#     encoded = encoded.astype(int)/lendf\n",
    "#     encoded.columns = [f'frq_{col}' for col in encoded.columns]\n",
    "#     df = pd.concat([df,encoded],1)\n",
    "    \n",
    "    #freq of tgnm values\n",
    "#     print(dtnow(), 'freq of tags')\n",
    "#     for tgnm in tgnms:\n",
    "#         vs = [j for i in df[f'lst_{tgnm}'] for j in i]\n",
    "#         cnt = Counter(vs)\n",
    "#         frq = {k:v/lendf for k,v in cnt.items()}\n",
    "#         df[f'sumfrq_{tgnm}']=df[f'lst_{tgnm}'].apply(lambda x: sum([frq.get(o,0) for o in x]))\n",
    "#         df[f'maxfrq_{tgnm}']=df[f'lst_{tgnm}'].apply(lambda x: max([frq.get(o,0) for o in x]) if len(x) else 0)\n",
    "    \n",
    "    df.drop(columns=tgnms+[f'lst_{tgnm}' for tgnm in tgnms],inplace=True)\n",
    "\n",
    "    print(dtnow(), 'done')\n",
    "    return df"
   ]
  },
  {
   "cell_type": "code",
   "execution_count": 9,
   "metadata": {},
   "outputs": [
    {
     "name": "stdout",
     "output_type": "stream",
     "text": [
      "2020-05-21 02:58:32 start\n",
      "2020-05-21 03:35:25 done\n",
      "CPU times: user 23min 59s, sys: 10min 51s, total: 34min 50s\n",
      "Wall time: 37min 21s\n"
     ]
    }
   ],
   "source": [
    "%%time\n",
    "dftrn=prp_df(dftrn, tm_max=tm_trn_max)"
   ]
  },
  {
   "cell_type": "code",
   "execution_count": 10,
   "metadata": {},
   "outputs": [
    {
     "name": "stdout",
     "output_type": "stream",
     "text": [
      "2020-05-21 03:35:53 start\n",
      "2020-05-21 03:38:29 done\n",
      "CPU times: user 1min 53s, sys: 33.6 s, total: 2min 26s\n",
      "Wall time: 2min 35s\n"
     ]
    }
   ],
   "source": [
    "%%time\n",
    "dfval=prp_df(dfval, tm_max=tm_trn_max)"
   ]
  },
  {
   "cell_type": "markdown",
   "metadata": {},
   "source": [
    "## tr vl split"
   ]
  },
  {
   "cell_type": "code",
   "execution_count": 11,
   "metadata": {},
   "outputs": [
    {
     "data": {
      "text/plain": [
       "30"
      ]
     },
     "execution_count": 11,
     "metadata": {},
     "output_type": "execute_result"
    }
   ],
   "source": [
    "msk_vl=np.random.rand(len(dftrn))<0.15\n",
    "idxvl=np.where( msk_vl)[0]\n",
    "idxtr=np.where(~msk_vl)[0]\n",
    "\n",
    "dftr = dftrn.iloc[idxtr].copy()\n",
    "dfvl = dftrn.iloc[idxvl].copy()\n",
    "del dftrn\n",
    "\n",
    "gc.collect()"
   ]
  },
  {
   "cell_type": "code",
   "execution_count": 12,
   "metadata": {},
   "outputs": [],
   "source": [
    "cols_category=['twttyp', 'lang', 'langhour']\n",
    "for df in dftr,dfvl,dfval:\n",
    "    df.drop(columns=['twtid','u1id','u2id','u1u2'], inplace=True)\n",
    "    df[cols_category]=df[cols_category].astype('category')"
   ]
  },
  {
   "cell_type": "code",
   "execution_count": 13,
   "metadata": {},
   "outputs": [],
   "source": [
    "cols_feat = [col for col in dftr.columns if col not in cols_tgt]"
   ]
  },
  {
   "cell_type": "markdown",
   "metadata": {},
   "source": [
    "# model"
   ]
  },
  {
   "cell_type": "markdown",
   "metadata": {},
   "source": [
    "## cols_feat"
   ]
  },
  {
   "cell_type": "code",
   "execution_count": 14,
   "metadata": {},
   "outputs": [
    {
     "data": {
      "text/plain": [
       "['twttyp',\n",
       " 'lang',\n",
       " 'u1_fllwer_cnt',\n",
       " 'u1_fllwing_cnt',\n",
       " 'u1_vrfed',\n",
       " 'u2_fllwer_cnt',\n",
       " 'u2_fllwng_cnt',\n",
       " 'u2_vrfed',\n",
       " 'u1_fllw_u2',\n",
       " 'u1inu2',\n",
       " 'u2inu1',\n",
       " 'len_toks',\n",
       " 'n_media_Photo',\n",
       " 'n_media_Video',\n",
       " 'n_media_GIF',\n",
       " 'has_hshtgs',\n",
       " 'n_hshtgs',\n",
       " 'has_media',\n",
       " 'n_media',\n",
       " 'has_domns',\n",
       " 'n_domns',\n",
       " 'dayofweek',\n",
       " 'hour',\n",
       " 'tmdlta_u2u1',\n",
       " 'tmdlta_twtu1',\n",
       " 'tmdlta_twtu2',\n",
       " 'twt_age',\n",
       " 'u1_age',\n",
       " 'u2_age',\n",
       " 'u1_fllwer_cnt_by_age',\n",
       " 'u1_fllwng_cnt_by_age',\n",
       " 'langhour']"
      ]
     },
     "execution_count": 14,
     "metadata": {},
     "output_type": "execute_result"
    }
   ],
   "source": [
    "cols_feat"
   ]
  },
  {
   "cell_type": "code",
   "execution_count": 15,
   "metadata": {},
   "outputs": [
    {
     "name": "stdout",
     "output_type": "stream",
     "text": [
      "32\n"
     ]
    }
   ],
   "source": [
    "print(len(cols_feat))\n"
   ]
  },
  {
   "cell_type": "code",
   "execution_count": 16,
   "metadata": {},
   "outputs": [],
   "source": [
    "results = {}\n",
    "results['PRFX'] = PRFX\n",
    "results['TGT'] = TGT\n",
    "results['cols_feat'] = cols_feat"
   ]
  },
  {
   "cell_type": "code",
   "execution_count": 17,
   "metadata": {},
   "outputs": [],
   "source": [
    "params={\n",
    "    'objective': 'binary',\n",
    "    'metric': 'binary_logloss',\n",
    "    'verbosity': 0,    \n",
    "}\n",
    "# params.update({'lambda_l1': 2.7218581416769004e-07,\n",
    "#  'lambda_l2': 3.907768244028144e-06,\n",
    "#  'num_leaves': 152,\n",
    "#  'feature_fraction': 0.4,\n",
    "#  'bagging_fraction': 1.0,\n",
    "#  'bagging_freq': 0,\n",
    "#  'min_child_samples': 100})\n",
    "# print(params)\n",
    "\n",
    "\n",
    "results['params'] = params"
   ]
  },
  {
   "cell_type": "code",
   "execution_count": null,
   "metadata": {
    "scrolled": true
   },
   "outputs": [
    {
     "name": "stdout",
     "output_type": "stream",
     "text": [
      "Training until validation scores don't improve for 100 rounds\n",
      "[100]\ttr's binary_logloss: 0.302061\tvl's binary_logloss: 0.30233\n",
      "[200]\ttr's binary_logloss: 0.299815\tvl's binary_logloss: 0.300231\n",
      "[300]\ttr's binary_logloss: 0.298591\tvl's binary_logloss: 0.299176\n",
      "[400]\ttr's binary_logloss: 0.297574\tvl's binary_logloss: 0.298333\n",
      "[500]\ttr's binary_logloss: 0.296762\tvl's binary_logloss: 0.297701\n",
      "[600]\ttr's binary_logloss: 0.296084\tvl's binary_logloss: 0.297194\n",
      "[700]\ttr's binary_logloss: 0.295541\tvl's binary_logloss: 0.296826\n",
      "[800]\ttr's binary_logloss: 0.294951\tvl's binary_logloss: 0.296403\n",
      "[900]\ttr's binary_logloss: 0.294522\tvl's binary_logloss: 0.296126\n",
      "[1000]\ttr's binary_logloss: 0.294066\tvl's binary_logloss: 0.295815\n",
      "[1100]\ttr's binary_logloss: 0.293648\tvl's binary_logloss: 0.295556\n",
      "[1200]\ttr's binary_logloss: 0.293273\tvl's binary_logloss: 0.295322\n",
      "[1300]\ttr's binary_logloss: 0.292936\tvl's binary_logloss: 0.295136\n",
      "[1400]\ttr's binary_logloss: 0.292597\tvl's binary_logloss: 0.294949\n",
      "[1500]\ttr's binary_logloss: 0.292228\tvl's binary_logloss: 0.29472\n",
      "[1600]\ttr's binary_logloss: 0.291925\tvl's binary_logloss: 0.294567\n",
      "[1700]\ttr's binary_logloss: 0.291631\tvl's binary_logloss: 0.294403\n",
      "[1800]\ttr's binary_logloss: 0.291354\tvl's binary_logloss: 0.294259\n",
      "[1900]\ttr's binary_logloss: 0.291076\tvl's binary_logloss: 0.294111\n",
      "[2000]\ttr's binary_logloss: 0.290834\tvl's binary_logloss: 0.294004\n",
      "[2100]\ttr's binary_logloss: 0.290564\tvl's binary_logloss: 0.29388\n",
      "[2200]\ttr's binary_logloss: 0.29032\tvl's binary_logloss: 0.293783\n",
      "[2300]\ttr's binary_logloss: 0.290065\tvl's binary_logloss: 0.293662\n",
      "[2400]\ttr's binary_logloss: 0.289858\tvl's binary_logloss: 0.293562\n",
      "[2500]\ttr's binary_logloss: 0.289659\tvl's binary_logloss: 0.293493\n",
      "[2600]\ttr's binary_logloss: 0.289456\tvl's binary_logloss: 0.293419\n",
      "[2700]\ttr's binary_logloss: 0.289261\tvl's binary_logloss: 0.29334\n",
      "[2800]\ttr's binary_logloss: 0.289069\tvl's binary_logloss: 0.293252\n",
      "[2900]\ttr's binary_logloss: 0.288875\tvl's binary_logloss: 0.29318\n",
      "[3000]\ttr's binary_logloss: 0.288699\tvl's binary_logloss: 0.293109\n",
      "[3100]\ttr's binary_logloss: 0.288526\tvl's binary_logloss: 0.293053\n",
      "[3200]\ttr's binary_logloss: 0.288365\tvl's binary_logloss: 0.292997\n",
      "[3300]\ttr's binary_logloss: 0.28818\tvl's binary_logloss: 0.292925\n",
      "[3400]\ttr's binary_logloss: 0.288001\tvl's binary_logloss: 0.292862\n",
      "[3500]\ttr's binary_logloss: 0.287816\tvl's binary_logloss: 0.292793\n",
      "[3600]\ttr's binary_logloss: 0.287641\tvl's binary_logloss: 0.292719\n",
      "[3700]\ttr's binary_logloss: 0.287485\tvl's binary_logloss: 0.29267\n",
      "[3800]\ttr's binary_logloss: 0.287308\tvl's binary_logloss: 0.292598\n",
      "[3900]\ttr's binary_logloss: 0.287157\tvl's binary_logloss: 0.292552\n",
      "[4000]\ttr's binary_logloss: 0.287027\tvl's binary_logloss: 0.292522\n",
      "[4100]\ttr's binary_logloss: 0.286901\tvl's binary_logloss: 0.292485\n",
      "[4200]\ttr's binary_logloss: 0.286774\tvl's binary_logloss: 0.292449\n",
      "[4300]\ttr's binary_logloss: 0.286606\tvl's binary_logloss: 0.292388\n",
      "[4400]\ttr's binary_logloss: 0.286468\tvl's binary_logloss: 0.292347\n",
      "[4500]\ttr's binary_logloss: 0.286314\tvl's binary_logloss: 0.292299\n",
      "[4600]\ttr's binary_logloss: 0.286177\tvl's binary_logloss: 0.292263\n",
      "[4700]\ttr's binary_logloss: 0.286054\tvl's binary_logloss: 0.292238\n",
      "[4800]\ttr's binary_logloss: 0.285938\tvl's binary_logloss: 0.292215\n",
      "[4900]\ttr's binary_logloss: 0.285802\tvl's binary_logloss: 0.292177\n",
      "[5000]\ttr's binary_logloss: 0.285661\tvl's binary_logloss: 0.292133\n",
      "[5100]\ttr's binary_logloss: 0.28554\tvl's binary_logloss: 0.292102\n",
      "[5200]\ttr's binary_logloss: 0.285422\tvl's binary_logloss: 0.292077\n",
      "[5300]\ttr's binary_logloss: 0.285262\tvl's binary_logloss: 0.292031\n",
      "[5400]\ttr's binary_logloss: 0.285155\tvl's binary_logloss: 0.292018\n",
      "[5500]\ttr's binary_logloss: 0.28504\tvl's binary_logloss: 0.291987\n",
      "[5600]\ttr's binary_logloss: 0.284932\tvl's binary_logloss: 0.291968\n",
      "[5700]\ttr's binary_logloss: 0.28482\tvl's binary_logloss: 0.29194\n",
      "[5800]\ttr's binary_logloss: 0.284702\tvl's binary_logloss: 0.291918\n",
      "[5900]\ttr's binary_logloss: 0.284581\tvl's binary_logloss: 0.291892\n",
      "[6000]\ttr's binary_logloss: 0.284449\tvl's binary_logloss: 0.29185\n",
      "[6100]\ttr's binary_logloss: 0.284311\tvl's binary_logloss: 0.291814\n",
      "[6200]\ttr's binary_logloss: 0.284177\tvl's binary_logloss: 0.291765\n",
      "[6300]\ttr's binary_logloss: 0.284041\tvl's binary_logloss: 0.291723\n",
      "[6400]\ttr's binary_logloss: 0.283927\tvl's binary_logloss: 0.291697\n",
      "[6500]\ttr's binary_logloss: 0.283818\tvl's binary_logloss: 0.291676\n",
      "[6600]\ttr's binary_logloss: 0.283703\tvl's binary_logloss: 0.291644\n",
      "[6700]\ttr's binary_logloss: 0.283596\tvl's binary_logloss: 0.291621\n",
      "[6800]\ttr's binary_logloss: 0.283473\tvl's binary_logloss: 0.291593\n",
      "[6900]\ttr's binary_logloss: 0.283371\tvl's binary_logloss: 0.291571\n",
      "[7000]\ttr's binary_logloss: 0.283252\tvl's binary_logloss: 0.291544\n",
      "[7100]\ttr's binary_logloss: 0.283153\tvl's binary_logloss: 0.291525\n",
      "[7200]\ttr's binary_logloss: 0.283033\tvl's binary_logloss: 0.29149\n",
      "[7300]\ttr's binary_logloss: 0.28293\tvl's binary_logloss: 0.291467\n",
      "[7400]\ttr's binary_logloss: 0.282848\tvl's binary_logloss: 0.291458\n",
      "[7500]\ttr's binary_logloss: 0.282757\tvl's binary_logloss: 0.291441\n",
      "[7600]\ttr's binary_logloss: 0.282669\tvl's binary_logloss: 0.291428\n",
      "[7700]\ttr's binary_logloss: 0.282572\tvl's binary_logloss: 0.291412\n",
      "[7800]\ttr's binary_logloss: 0.282462\tvl's binary_logloss: 0.291388\n",
      "[7900]\ttr's binary_logloss: 0.282358\tvl's binary_logloss: 0.291361\n",
      "[8000]\ttr's binary_logloss: 0.282273\tvl's binary_logloss: 0.291351\n",
      "[8100]\ttr's binary_logloss: 0.282181\tvl's binary_logloss: 0.291334\n",
      "[8200]\ttr's binary_logloss: 0.282081\tvl's binary_logloss: 0.291311\n",
      "[8300]\ttr's binary_logloss: 0.281983\tvl's binary_logloss: 0.291291\n",
      "[8400]\ttr's binary_logloss: 0.281903\tvl's binary_logloss: 0.291284\n",
      "[8500]\ttr's binary_logloss: 0.281809\tvl's binary_logloss: 0.291274\n",
      "[8600]\ttr's binary_logloss: 0.281727\tvl's binary_logloss: 0.291265\n",
      "[8700]\ttr's binary_logloss: 0.281647\tvl's binary_logloss: 0.291256\n",
      "[8800]\ttr's binary_logloss: 0.28156\tvl's binary_logloss: 0.291251\n",
      "[8900]\ttr's binary_logloss: 0.281478\tvl's binary_logloss: 0.291238\n",
      "[9000]\ttr's binary_logloss: 0.281399\tvl's binary_logloss: 0.291231\n",
      "[9100]\ttr's binary_logloss: 0.281321\tvl's binary_logloss: 0.291222\n",
      "[9200]\ttr's binary_logloss: 0.281243\tvl's binary_logloss: 0.291212\n",
      "[9300]\ttr's binary_logloss: 0.281164\tvl's binary_logloss: 0.291203\n",
      "[9400]\ttr's binary_logloss: 0.281059\tvl's binary_logloss: 0.291177\n",
      "[9500]\ttr's binary_logloss: 0.28098\tvl's binary_logloss: 0.291171\n",
      "[9600]\ttr's binary_logloss: 0.280895\tvl's binary_logloss: 0.291154\n",
      "[9700]\ttr's binary_logloss: 0.280786\tvl's binary_logloss: 0.291127\n",
      "[9800]\ttr's binary_logloss: 0.280685\tvl's binary_logloss: 0.291108\n",
      "[9900]\ttr's binary_logloss: 0.280596\tvl's binary_logloss: 0.291091\n",
      "[10000]\ttr's binary_logloss: 0.280514\tvl's binary_logloss: 0.291081\n",
      "[10100]\ttr's binary_logloss: 0.280423\tvl's binary_logloss: 0.291067\n",
      "[10200]\ttr's binary_logloss: 0.280325\tvl's binary_logloss: 0.291051\n",
      "[10300]\ttr's binary_logloss: 0.280247\tvl's binary_logloss: 0.291046\n",
      "[10400]\ttr's binary_logloss: 0.280171\tvl's binary_logloss: 0.291041\n",
      "[10500]\ttr's binary_logloss: 0.28007\tvl's binary_logloss: 0.291017\n",
      "[10600]\ttr's binary_logloss: 0.279974\tvl's binary_logloss: 0.290997\n",
      "[10700]\ttr's binary_logloss: 0.27989\tvl's binary_logloss: 0.290981\n",
      "[10800]\ttr's binary_logloss: 0.279802\tvl's binary_logloss: 0.290967\n",
      "[10900]\ttr's binary_logloss: 0.279717\tvl's binary_logloss: 0.290955\n",
      "[11000]\ttr's binary_logloss: 0.279646\tvl's binary_logloss: 0.290951\n",
      "[11100]\ttr's binary_logloss: 0.279557\tvl's binary_logloss: 0.290939\n",
      "[11200]\ttr's binary_logloss: 0.279475\tvl's binary_logloss: 0.290924\n",
      "[11300]\ttr's binary_logloss: 0.279402\tvl's binary_logloss: 0.290918\n",
      "[11400]\ttr's binary_logloss: 0.279315\tvl's binary_logloss: 0.290905\n",
      "[11500]\ttr's binary_logloss: 0.279222\tvl's binary_logloss: 0.29089\n",
      "[11600]\ttr's binary_logloss: 0.279147\tvl's binary_logloss: 0.290884\n",
      "[11700]\ttr's binary_logloss: 0.27906\tvl's binary_logloss: 0.290873\n",
      "[11800]\ttr's binary_logloss: 0.278991\tvl's binary_logloss: 0.290864\n",
      "[11900]\ttr's binary_logloss: 0.278922\tvl's binary_logloss: 0.290858\n",
      "[12000]\ttr's binary_logloss: 0.278843\tvl's binary_logloss: 0.290844\n",
      "[12100]\ttr's binary_logloss: 0.27876\tvl's binary_logloss: 0.290832\n",
      "[12200]\ttr's binary_logloss: 0.278676\tvl's binary_logloss: 0.29082\n"
     ]
    },
    {
     "name": "stdout",
     "output_type": "stream",
     "text": [
      "[12300]\ttr's binary_logloss: 0.278599\tvl's binary_logloss: 0.290812\n",
      "[12400]\ttr's binary_logloss: 0.278524\tvl's binary_logloss: 0.290803\n",
      "[12500]\ttr's binary_logloss: 0.278452\tvl's binary_logloss: 0.290796\n",
      "[12600]\ttr's binary_logloss: 0.278382\tvl's binary_logloss: 0.290789\n",
      "[12700]\ttr's binary_logloss: 0.27831\tvl's binary_logloss: 0.290782\n",
      "[12800]\ttr's binary_logloss: 0.278235\tvl's binary_logloss: 0.290775\n",
      "[12900]\ttr's binary_logloss: 0.278159\tvl's binary_logloss: 0.290769\n",
      "[13000]\ttr's binary_logloss: 0.278089\tvl's binary_logloss: 0.290765\n",
      "[13100]\ttr's binary_logloss: 0.278013\tvl's binary_logloss: 0.290759\n",
      "[13200]\ttr's binary_logloss: 0.277941\tvl's binary_logloss: 0.290756\n",
      "[13300]\ttr's binary_logloss: 0.27788\tvl's binary_logloss: 0.290754\n",
      "[13400]\ttr's binary_logloss: 0.277806\tvl's binary_logloss: 0.290748\n",
      "[13500]\ttr's binary_logloss: 0.277736\tvl's binary_logloss: 0.290743\n",
      "[13600]\ttr's binary_logloss: 0.277664\tvl's binary_logloss: 0.290733\n",
      "[13700]\ttr's binary_logloss: 0.27759\tvl's binary_logloss: 0.290725\n",
      "[13800]\ttr's binary_logloss: 0.277502\tvl's binary_logloss: 0.290712\n",
      "[13900]\ttr's binary_logloss: 0.277422\tvl's binary_logloss: 0.290701\n",
      "[14000]\ttr's binary_logloss: 0.277361\tvl's binary_logloss: 0.290699\n",
      "[14100]\ttr's binary_logloss: 0.277283\tvl's binary_logloss: 0.29069\n",
      "[14200]\ttr's binary_logloss: 0.277211\tvl's binary_logloss: 0.290682\n",
      "[14300]\ttr's binary_logloss: 0.277142\tvl's binary_logloss: 0.290676\n",
      "[14400]\ttr's binary_logloss: 0.277062\tvl's binary_logloss: 0.290664\n",
      "[14500]\ttr's binary_logloss: 0.276986\tvl's binary_logloss: 0.290655\n"
     ]
    }
   ],
   "source": [
    "%%time\n",
    "dtr = lgb.Dataset(dftr[cols_feat], label=dftr[TCOL])\n",
    "dvl = lgb.Dataset(dfvl[cols_feat], label=dfvl[TCOL])\n",
    "evalres = {}\n",
    "evallist = [(dtr, 'train'), (dvl, 'eval')]\n",
    "bst = lgb.train(params=params, \n",
    "                train_set=dtr, \n",
    "                num_boost_round=50000,\n",
    "                valid_sets=[dtr, dvl],\n",
    "                valid_names=['tr','vl'],\n",
    "                verbose_eval=100,\n",
    "                early_stopping_rounds=100,\n",
    "                evals_result=evalres,\n",
    "               )\n",
    "results['bst'] = bst\n",
    "results['evalres'] = evalres"
   ]
  },
  {
   "cell_type": "markdown",
   "metadata": {},
   "source": [
    "## tr vl trajec"
   ]
  },
  {
   "cell_type": "code",
   "execution_count": null,
   "metadata": {},
   "outputs": [],
   "source": [
    "plt.plot(evalres['tr']['binary_logloss'])\n",
    "plt.plot(evalres['vl']['binary_logloss'])\n",
    "plt.title(f\"logloss; best_iteration {bst.best_iteration}\")\n",
    "plt.show()"
   ]
  },
  {
   "cell_type": "markdown",
   "metadata": {},
   "source": [
    "## model features"
   ]
  },
  {
   "cell_type": "code",
   "execution_count": null,
   "metadata": {},
   "outputs": [],
   "source": [
    "ax = lgb.plot_importance(bst, height=0.8, max_num_features=50, figsize=(10,15))\n",
    "ax.grid(False, axis=\"y\")\n",
    "ax.set_title(f'Estimated feature importance')\n",
    "plt.show()"
   ]
  },
  {
   "cell_type": "code",
   "execution_count": null,
   "metadata": {},
   "outputs": [],
   "source": [
    "pd.DataFrame([bst.feature_name(), bst.feature_importance()]).T.sort_values(1, ascending=False)"
   ]
  },
  {
   "cell_type": "code",
   "execution_count": null,
   "metadata": {},
   "outputs": [],
   "source": [
    "col2imp = dict(zip(bst.feature_name(), bst.feature_importance()))\n",
    "sorted(col2imp.items(), key=lambda x: -x[1])"
   ]
  },
  {
   "cell_type": "code",
   "execution_count": null,
   "metadata": {},
   "outputs": [],
   "source": [
    "[o[0] for o in sorted(col2imp.items(), key=lambda x: -x[1]) if o[1]>0]"
   ]
  },
  {
   "cell_type": "code",
   "execution_count": null,
   "metadata": {},
   "outputs": [],
   "source": []
  },
  {
   "cell_type": "markdown",
   "metadata": {},
   "source": [
    "# eval"
   ]
  },
  {
   "cell_type": "code",
   "execution_count": null,
   "metadata": {},
   "outputs": [],
   "source": [
    "%%time\n",
    "prdtr = bst.predict(dftr[cols_feat],num_iteration=bst.best_iteration)\n",
    "prdvl = bst.predict(dfvl[cols_feat],num_iteration=bst.best_iteration)\n",
    "prdval0 = bst.predict(dfval[cols_feat],num_iteration=bst.best_iteration)\n",
    "prdval = calibration(prdval0, train_pop, target_pop, sampled_train_pop, sampled_target_pop)"
   ]
  },
  {
   "cell_type": "code",
   "execution_count": null,
   "metadata": {},
   "outputs": [],
   "source": [
    "%%time\n",
    "ytr,yvl,yval=[df[TCOL].values for df in (dftr,dfvl,dfval)]\n",
    "\n",
    "auc_tr=compute_prauc(prdtr, ytr)\n",
    "rce_tr=compute_rce(prdtr, ytr)\n",
    "auc_vl=compute_prauc(prdvl, yvl)\n",
    "rce_vl=compute_rce(prdvl, yvl)\n",
    "auc_val=compute_prauc(prdval, yval)\n",
    "rce_val=compute_rce(prdval, yval)\n",
    "\n",
    "results['scrs'] = {}\n",
    "results['scrs']['auc_tr']=auc_tr\n",
    "results['scrs']['rce_tr']=rce_tr\n",
    "results['scrs']['auc_vl']=auc_vl\n",
    "results['scrs']['rce_vl']=rce_vl\n",
    "results['scrs']['auc_val']=auc_val\n",
    "results['scrs']['rce_val']=rce_val"
   ]
  },
  {
   "cell_type": "code",
   "execution_count": null,
   "metadata": {},
   "outputs": [],
   "source": [
    "print(f'auc_tr:  {auc_tr:.4f}')\n",
    "print(f'auc_vl:  {auc_vl:.4f}')\n",
    "print(f'auc_val: {auc_val:.4f}')\n",
    "print()\n",
    "print(f'rce_tr:  {rce_tr:.4f}')\n",
    "print(f'rce_vl:  {rce_vl:.4f}')\n",
    "print(f'rce_val: {rce_val:.4f}')"
   ]
  },
  {
   "cell_type": "markdown",
   "metadata": {},
   "source": [
    "## score"
   ]
  },
  {
   "cell_type": "code",
   "execution_count": null,
   "metadata": {},
   "outputs": [],
   "source": [
    "print(f'-{auc_val:.4f}-{rce_val:.4f}')"
   ]
  },
  {
   "cell_type": "markdown",
   "metadata": {},
   "source": [
    "# save results"
   ]
  },
  {
   "cell_type": "code",
   "execution_count": null,
   "metadata": {},
   "outputs": [],
   "source": [
    "pickle.dump(results, open(f'{p_out}/results_{PRFX}.p', 'wb'))"
   ]
  },
  {
   "cell_type": "markdown",
   "metadata": {},
   "source": [
    "# infer"
   ]
  },
  {
   "cell_type": "code",
   "execution_count": null,
   "metadata": {},
   "outputs": [],
   "source": [
    "results = pickle.load( open(f'{p_out}/results_{PRFX}.p', 'rb'))\n",
    "bst = results['bst']\n",
    "cols_feat = results['cols_feat']"
   ]
  },
  {
   "cell_type": "markdown",
   "metadata": {},
   "source": [
    "## prep"
   ]
  },
  {
   "cell_type": "code",
   "execution_count": null,
   "metadata": {},
   "outputs": [],
   "source": [
    "%%time\n",
    "dftst=pd.read_csv(\n",
    "    f'{p_in}/val_{tsttmstmp}.tsv',\n",
    "    sep='\\x01', header=None, names=cols_val, \n",
    "#     nrows=10\n",
    ")"
   ]
  },
  {
   "cell_type": "code",
   "execution_count": null,
   "metadata": {},
   "outputs": [],
   "source": [
    "dftst.shape"
   ]
  },
  {
   "cell_type": "code",
   "execution_count": null,
   "metadata": {
    "scrolled": false
   },
   "outputs": [],
   "source": [
    "%%time\n",
    "dftst=prp_df(dftst, tm_max=tm_tst_max)"
   ]
  },
  {
   "cell_type": "code",
   "execution_count": null,
   "metadata": {},
   "outputs": [],
   "source": [
    "dftst.drop(columns=['u1id','u1u2'], inplace=True)\n",
    "cols_category=['twttyp', 'lang', 'langhour']\n",
    "dftst[cols_category]=dftst[cols_category].astype('category')"
   ]
  },
  {
   "cell_type": "markdown",
   "metadata": {},
   "source": [
    "## predict"
   ]
  },
  {
   "cell_type": "code",
   "execution_count": null,
   "metadata": {},
   "outputs": [],
   "source": [
    "%%time\n",
    "prdtst0 = bst.predict(dftst[cols_feat],num_iteration=bst.best_iteration)\n",
    "prdtst = calibration(prdtst0, train_pop, target_pop, sampled_train_pop, sampled_target_pop)"
   ]
  },
  {
   "cell_type": "code",
   "execution_count": null,
   "metadata": {},
   "outputs": [],
   "source": [
    "dfsub_ids = dftst[['twtid','u2id',]]\n",
    "dfsub = dfsub_ids.copy()\n",
    "dfsub['scr'] = prdtst\n",
    "dfsub.to_csv(f'{p_out}/{TGT}__{PRFX}.csv',index=False,header=False)"
   ]
  },
  {
   "cell_type": "code",
   "execution_count": null,
   "metadata": {},
   "outputs": [],
   "source": []
  },
  {
   "cell_type": "code",
   "execution_count": null,
   "metadata": {},
   "outputs": [],
   "source": []
  },
  {
   "cell_type": "code",
   "execution_count": null,
   "metadata": {},
   "outputs": [],
   "source": []
  },
  {
   "cell_type": "code",
   "execution_count": null,
   "metadata": {},
   "outputs": [],
   "source": []
  }
 ],
 "metadata": {
  "kernelspec": {
   "display_name": "rcss20",
   "language": "python",
   "name": "rcss20"
  },
  "language_info": {
   "codemirror_mode": {
    "name": "ipython",
    "version": 3
   },
   "file_extension": ".py",
   "mimetype": "text/x-python",
   "name": "python",
   "nbconvert_exporter": "python",
   "pygments_lexer": "ipython3",
   "version": "3.7.6"
  },
  "toc": {
   "base_numbering": 1,
   "nav_menu": {},
   "number_sections": true,
   "sideBar": true,
   "skip_h1_title": false,
   "title_cell": "Table of Contents",
   "title_sidebar": "Contents",
   "toc_cell": false,
   "toc_position": {},
   "toc_section_display": true,
   "toc_window_display": true
  }
 },
 "nbformat": 4,
 "nbformat_minor": 4
}
