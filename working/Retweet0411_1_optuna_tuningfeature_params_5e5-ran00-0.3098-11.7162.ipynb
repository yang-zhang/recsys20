{
 "cells": [
  {
   "cell_type": "markdown",
   "metadata": {},
   "source": [
    "# start"
   ]
  },
  {
   "cell_type": "markdown",
   "metadata": {},
   "source": [
    "- http://localhost:8081/notebooks/git/recsys20/working/0324_6_3_lgb_feat_engr-1e7.ipynb\n",
    "- http://localhost:8081/notebooks/git/recsys20/working/mdl0404_1__xgb_mean_encode.ipynb\n",
    "- http://localhost:8081/notebooks/git/recsys20/working/eda_0404_1.ipynb#v.s.-target\n",
    "- https://www.kaggle.com/discdiver/category-encoders-examples\n",
    "- https://www.kaggle.com/snakayama/lightgbm-using-optuna-optuna-lightgbm"
   ]
  },
  {
   "cell_type": "code",
   "execution_count": 1,
   "metadata": {},
   "outputs": [
    {
     "name": "stdout",
     "output_type": "stream",
     "text": [
      "train_total 148,075,238, test_total 14,000,000\n",
      "['2020-03-17 02:32:24', '2020-04-06 00:35:47']\n",
      "['2020-02-06 00:00:00', '2020-02-12 23:59:59']\n",
      "['2020-02-13 00:00:00', '2020-02-19 23:59:59']\n"
     ]
    }
   ],
   "source": [
    "TGT='Retweet'\n",
    "PRFX='Retweet0411_1'\n",
    "\n",
    "trntmstmp=1584412344\n",
    "tsttmstmp=1586133347\n",
    "\n",
    "tm_trn_min,tm_trn_max=(1580947200, 1581551999)\n",
    "tm_tst_min,tm_tst_max=(1581552000, 1582156799)\n",
    "\n",
    "SEED=101\n",
    "\n",
    "valsz = int(5e5)#int(1e5)\n",
    "trnsz = int(5e5)#int(5e5)\n",
    "\n",
    "train_total=148075238\n",
    "test_total=int(1.4e7)\n",
    "print(f'train_total {train_total:,}, test_total {test_total:,}')\n",
    "\n",
    "\n",
    "import datetime\n",
    "def showtm(tm): return datetime.datetime.fromtimestamp(tm).strftime('%Y-%m-%d %H:%M:%S')\n",
    "print([showtm(tm) for tm in (trntmstmp, tsttmstmp)])\n",
    "print([showtm(tm) for tm in (tm_trn_min,tm_trn_max)])\n",
    "print([showtm(tm) for tm in (tm_tst_min,tm_tst_max)])"
   ]
  },
  {
   "cell_type": "markdown",
   "metadata": {},
   "source": [
    "# setup"
   ]
  },
  {
   "cell_type": "code",
   "execution_count": 2,
   "metadata": {},
   "outputs": [
    {
     "name": "stdout",
     "output_type": "stream",
     "text": [
      "TCOL retwt\n",
      "{'Retweet': 'retwt', 'Reply': 'reply', 'Like': 'like', 'RTwCmnt': 'retwt_cmmnt'}\n"
     ]
    }
   ],
   "source": [
    "from tqdm import tqdm\n",
    "import time\n",
    "from pathlib import Path\n",
    "from collections import Counter,defaultdict\n",
    "from sklearn.model_selection import train_test_split\n",
    "import pandas as pd\n",
    "import numpy as np\n",
    "import matplotlib.pyplot as plt\n",
    "from sklearn.metrics import accuracy_score, roc_auc_score, roc_curve, auc, precision_recall_curve\n",
    "import pickle\n",
    "# import xgboost as xgb\n",
    "# import lightgbm as lgb\n",
    "import category_encoders as ce\n",
    "import gc\n",
    "\n",
    "import optuna\n",
    "# optuna.logging.CRITICAL, optuna.logging.FATAL\n",
    "# optuna.logging.ERROR\n",
    "# optuna.logging.WARNING, optuna.logging.WARN\n",
    "# optuna.logging.INFO\n",
    "# optuna.logging.DEBUG\n",
    "# optuna.logging.set_verbosity(optuna.logging.ERROR)\n",
    "import optuna.integration.lightgbm as lgb\n",
    "optuna.logging.disable_default_handler()\n",
    "\n",
    "\n",
    "pd.set_option('display.max_rows', 500)\n",
    "pd.set_option('display.max_columns', 500)\n",
    "\n",
    "\n",
    "import datetime\n",
    "def dtnow(): return datetime.datetime.now().strftime('%Y-%m-%d %H:%M:%S')\n",
    "\n",
    "def iou(s1,s2):\n",
    "    return len(s1&s2) / len(s1|s2)\n",
    "\n",
    "HOME='/data/git/recsys20'\n",
    "p_in=f'{HOME}/input'\n",
    "p_out=f'{HOME}/output/{PRFX}'\n",
    "Path(p_out).mkdir(exist_ok=True, parents=True)\n",
    "\n",
    "from sklearn.metrics import precision_recall_curve, auc, log_loss\n",
    "\n",
    "def compute_prauc(pred, gt):\n",
    "    prec, recall, thresh = precision_recall_curve(gt, pred)\n",
    "    prauc = auc(recall, prec)\n",
    "    return prauc\n",
    "\n",
    "def calculate_ctr(gt):\n",
    "    positive = len([x for x in gt if x == 1])\n",
    "    ctr = positive/float(len(gt))\n",
    "    return ctr\n",
    "\n",
    "def compute_rce(pred, gt):\n",
    "    cross_entropy = log_loss(gt, pred)\n",
    "    data_ctr = calculate_ctr(gt)\n",
    "    strawman_cross_entropy = log_loss(gt, [data_ctr for _ in range(len(gt))])\n",
    "    return (1.0 - cross_entropy/strawman_cross_entropy)*100.0\n",
    "\n",
    "# https://towardsdatascience.com/how-to-calibrate-undersampled-model-scores-8f3319c1ea5b\n",
    "# How to use the function?\n",
    "# Let’s say your goal is to generate a model that shows the credit default probabilities and your original \n",
    "# training data has 50,000 rows with only 500 of them labeled as target class. When you sample your non-target \n",
    "# instances randomly and reduce the total row count to 10,000, while conserving 500 target rows, our calibration\n",
    "# function becomes:\n",
    "# calibration(model_results, 50000, 500, 10000, 500)\n",
    "# Here model_results is your model probability output array. After you train your model and put the results in it, your function is ready to use. \n",
    "def calibration(data, train_pop, target_pop, sampled_train_pop, sampled_target_pop):\n",
    "    calibrated_data = ((data * (target_pop / train_pop) / (sampled_target_pop / sampled_train_pop)) /\n",
    "    (((1 - data) * (1 - target_pop / train_pop) / (1 - sampled_target_pop / sampled_train_pop)) +\n",
    "     (data * (target_pop / train_pop) / (sampled_target_pop / sampled_train_pop))))\n",
    "    return calibrated_data\n",
    "\n",
    "\n",
    "cols=['toks','hshtgs','twtid','media','links','domns','twttyp','lang','tm','u1id','u1_fllwer_cnt','u1_fllwing_cnt','u1_vrfed','u1_create_tm','u2id','u2_fllwer_cnt','u2_fllwng_cnt','u2_vrfed','u2_create_tm','u1_fllw_u2','reply_tm','retwt_tm','retwt_cmmnt_tm','like_tm',]\n",
    "\n",
    "cols_val = cols[:-4]\n",
    "cols_tgt_tmstmp=[ 'retwt_tm', 'reply_tm', 'like_tm', 'retwt_cmmnt_tm',]\n",
    "cols_tgt=[o.split('_tm')[0] for o in cols_tgt_tmstmp]\n",
    "tgts             = ['Retweet','Reply','Like','RTwCmnt',]\n",
    "assert cols_tgt == ['retwt',  'reply','like','retwt_cmmnt',]\n",
    "tgt2col = dict(zip(tgts, cols_tgt))\n",
    "TCOL=tgt2col[TGT]\n",
    "print('TCOL', TCOL)\n",
    "print(tgt2col)"
   ]
  },
  {
   "cell_type": "markdown",
   "metadata": {},
   "source": [
    "# prep"
   ]
  },
  {
   "cell_type": "code",
   "execution_count": 3,
   "metadata": {},
   "outputs": [],
   "source": [
    "def prp_tgt(df):\n",
    "    df[cols_tgt]=df[cols_tgt_tmstmp].notna()\n",
    "    df.drop(columns=cols_tgt_tmstmp, inplace=True)\n",
    "    display(df[cols_tgt].mean())"
   ]
  },
  {
   "cell_type": "code",
   "execution_count": 4,
   "metadata": {
    "scrolled": false
   },
   "outputs": [
    {
     "name": "stdout",
     "output_type": "stream",
     "text": [
      "(500000, 24)\n"
     ]
    },
    {
     "data": {
      "text/plain": [
       "retwt          0.112638\n",
       "reply          0.027980\n",
       "like           0.439010\n",
       "retwt_cmmnt    0.007676\n",
       "dtype: float64"
      ]
     },
     "metadata": {},
     "output_type": "display_data"
    },
    {
     "name": "stdout",
     "output_type": "stream",
     "text": [
      "CPU times: user 5.54 s, sys: 460 ms, total: 6 s\n",
      "Wall time: 6.68 s\n"
     ]
    }
   ],
   "source": [
    "%%time\n",
    "dfval = pd.read_csv(f'{p_in}/trn_{trntmstmp}.tsv',sep='\\x01',header=None,names=cols,nrows=valsz)\n",
    "print(dfval.shape)\n",
    "prp_tgt(dfval)"
   ]
  },
  {
   "cell_type": "markdown",
   "metadata": {},
   "source": [
    "## maybe oversample"
   ]
  },
  {
   "cell_type": "code",
   "execution_count": 5,
   "metadata": {},
   "outputs": [],
   "source": [
    "# df = pd.read_csv(f'{p_in}/trn_{trntmstmp}.tsv',sep='\\x01',header=None,names=cols,nrows=5)\n",
    "# dfval = pd.read_csv(f'{p_in}/trn_{trntmstmp}.tsv',sep='\\x01',header=None,names=cols,nrows=2)\n",
    "# dftrn = pd.read_csv(f'{p_in}/trn_{trntmstmp}.tsv',sep='\\x01',header=None,names=cols,skiprows=2,nrows=3)\n",
    "# display(df.twtid)\n",
    "# display(dfval.twtid)\n",
    "# display(dftrn.twtid)\n",
    "\n",
    "# 0    D4D1EBDE74F74C5DA529959AF979625C\n",
    "# 1    BFB529DAB6D384EB83E899A72AB3830D\n",
    "# 2    519078C7834E9642508F72A6C2D0F3B7\n",
    "# 3    52AAE9E33EFAC8C478C57B31A9E31ED1\n",
    "# 4    89C1298C55EB3D68E2784F0BFB69E6F8\n",
    "# Name: twtid, dtype: object\n",
    "# 0    D4D1EBDE74F74C5DA529959AF979625C\n",
    "# 1    BFB529DAB6D384EB83E899A72AB3830D\n",
    "# Name: twtid, dtype: object\n",
    "# 0    519078C7834E9642508F72A6C2D0F3B7\n",
    "# 1    52AAE9E33EFAC8C478C57B31A9E31ED1\n",
    "# 2    89C1298C55EB3D68E2784F0BFB69E6F8\n",
    "# Name: twtid, dtype: object"
   ]
  },
  {
   "cell_type": "code",
   "execution_count": 6,
   "metadata": {
    "scrolled": true
   },
   "outputs": [
    {
     "name": "stdout",
     "output_type": "stream",
     "text": [
      "(500000, 24)\n"
     ]
    },
    {
     "data": {
      "text/plain": [
       "retwt          0.113632\n",
       "reply          0.027396\n",
       "like           0.438598\n",
       "retwt_cmmnt    0.007824\n",
       "dtype: float64"
      ]
     },
     "metadata": {},
     "output_type": "display_data"
    },
    {
     "name": "stdout",
     "output_type": "stream",
     "text": [
      "CPU times: user 6.56 s, sys: 406 ms, total: 6.97 s\n",
      "Wall time: 7.24 s\n"
     ]
    }
   ],
   "source": [
    "%%time\n",
    "if TGT in ('Retweet','Like'): trnpop=trnsz\n",
    "if TGT=='Reply': trnpop=trnsz*3.7\n",
    "if TGT=='RTwCmnt': trnpop=trnsz*11.5\n",
    "assert trnpop<train_total\n",
    "\n",
    "dftrn = pd.read_csv(f'{p_in}/trn_{trntmstmp}.tsv',sep='\\x01',header=None,names=cols,\n",
    "                     skiprows=valsz, nrows=trnpop)\n",
    "print(dftrn.shape)\n",
    "prp_tgt(dftrn)"
   ]
  },
  {
   "cell_type": "code",
   "execution_count": 7,
   "metadata": {
    "scrolled": true
   },
   "outputs": [
    {
     "name": "stdout",
     "output_type": "stream",
     "text": [
      "(500000, 24) 0.113632\n",
      "500000 56816 500000 56816\n"
     ]
    },
    {
     "data": {
      "text/html": [
       "<div>\n",
       "<style scoped>\n",
       "    .dataframe tbody tr th:only-of-type {\n",
       "        vertical-align: middle;\n",
       "    }\n",
       "\n",
       "    .dataframe tbody tr th {\n",
       "        vertical-align: top;\n",
       "    }\n",
       "\n",
       "    .dataframe thead th {\n",
       "        text-align: right;\n",
       "    }\n",
       "</style>\n",
       "<table border=\"1\" class=\"dataframe\">\n",
       "  <thead>\n",
       "    <tr style=\"text-align: right;\">\n",
       "      <th></th>\n",
       "      <th>toks</th>\n",
       "      <th>hshtgs</th>\n",
       "      <th>twtid</th>\n",
       "      <th>media</th>\n",
       "      <th>links</th>\n",
       "      <th>domns</th>\n",
       "      <th>twttyp</th>\n",
       "      <th>lang</th>\n",
       "      <th>tm</th>\n",
       "      <th>u1id</th>\n",
       "      <th>u1_fllwer_cnt</th>\n",
       "      <th>u1_fllwing_cnt</th>\n",
       "      <th>u1_vrfed</th>\n",
       "      <th>u1_create_tm</th>\n",
       "      <th>u2id</th>\n",
       "      <th>u2_fllwer_cnt</th>\n",
       "      <th>u2_fllwng_cnt</th>\n",
       "      <th>u2_vrfed</th>\n",
       "      <th>u2_create_tm</th>\n",
       "      <th>u1_fllw_u2</th>\n",
       "      <th>retwt</th>\n",
       "      <th>reply</th>\n",
       "      <th>like</th>\n",
       "      <th>retwt_cmmnt</th>\n",
       "    </tr>\n",
       "  </thead>\n",
       "  <tbody>\n",
       "    <tr>\n",
       "      <th>0</th>\n",
       "      <td>101\\t56898\\t137\\t14248\\t10567\\t77966\\t11166\\t1...</td>\n",
       "      <td>NaN</td>\n",
       "      <td>A964AF200DAFFEBCB632CE2196DFBE6F</td>\n",
       "      <td>NaN</td>\n",
       "      <td>NaN</td>\n",
       "      <td>NaN</td>\n",
       "      <td>Retweet</td>\n",
       "      <td>022EC308651FACB02794A8147AEE1B78</td>\n",
       "      <td>1581227402</td>\n",
       "      <td>E43C242721C2336F88D163ADFDB2A364</td>\n",
       "      <td>27901</td>\n",
       "      <td>306</td>\n",
       "      <td>False</td>\n",
       "      <td>1351736247</td>\n",
       "      <td>06E9B34C49824F5C612B01F3DF66C4B8</td>\n",
       "      <td>48</td>\n",
       "      <td>977</td>\n",
       "      <td>False</td>\n",
       "      <td>1493475569</td>\n",
       "      <td>False</td>\n",
       "      <td>True</td>\n",
       "      <td>False</td>\n",
       "      <td>False</td>\n",
       "      <td>False</td>\n",
       "    </tr>\n",
       "    <tr>\n",
       "      <th>1</th>\n",
       "      <td>101\\t29922\\t10230\\t112\\t11368\\t112\\t12469\\t169...</td>\n",
       "      <td>NaN</td>\n",
       "      <td>CA95806CCD16ADD6164D8B632345A5B6</td>\n",
       "      <td>NaN</td>\n",
       "      <td>NaN</td>\n",
       "      <td>NaN</td>\n",
       "      <td>TopLevel</td>\n",
       "      <td>D3164C7FBCF2565DDF915B1B3AEFB1DC</td>\n",
       "      <td>1581415813</td>\n",
       "      <td>520F4141FB74447AA2D5100C12656DF2</td>\n",
       "      <td>190829</td>\n",
       "      <td>2227</td>\n",
       "      <td>True</td>\n",
       "      <td>1246308293</td>\n",
       "      <td>06E9B485CA5F2757CB554B0244FE2FA4</td>\n",
       "      <td>2024</td>\n",
       "      <td>1227</td>\n",
       "      <td>False</td>\n",
       "      <td>1234745553</td>\n",
       "      <td>False</td>\n",
       "      <td>False</td>\n",
       "      <td>False</td>\n",
       "      <td>True</td>\n",
       "      <td>False</td>\n",
       "    </tr>\n",
       "    <tr>\n",
       "      <th>2</th>\n",
       "      <td>101\\t16358\\t10107\\t117\\t146\\t100\\t181\\t32342\\t...</td>\n",
       "      <td>NaN</td>\n",
       "      <td>EAB281F4E0B985324DB134D922D7753C</td>\n",
       "      <td>NaN</td>\n",
       "      <td>NaN</td>\n",
       "      <td>NaN</td>\n",
       "      <td>Quote</td>\n",
       "      <td>D3164C7FBCF2565DDF915B1B3AEFB1DC</td>\n",
       "      <td>1581524517</td>\n",
       "      <td>EC1254C86CED1D8F2B556786329FD939</td>\n",
       "      <td>225223</td>\n",
       "      <td>1365</td>\n",
       "      <td>True</td>\n",
       "      <td>1238211373</td>\n",
       "      <td>06E9B485CA5F2757CB554B0244FE2FA4</td>\n",
       "      <td>2024</td>\n",
       "      <td>1227</td>\n",
       "      <td>False</td>\n",
       "      <td>1234745553</td>\n",
       "      <td>False</td>\n",
       "      <td>True</td>\n",
       "      <td>False</td>\n",
       "      <td>True</td>\n",
       "      <td>False</td>\n",
       "    </tr>\n",
       "    <tr>\n",
       "      <th>3</th>\n",
       "      <td>101\\t49004\\t24951\\t11517\\t21793\\t49004\\t46900\\...</td>\n",
       "      <td>E35EBE28C67E02E3EAABD4D383303A10\\tBF43374FADDC...</td>\n",
       "      <td>55F436653590B79DC49DCA2FC5E6BA6E</td>\n",
       "      <td>Photo</td>\n",
       "      <td>NaN</td>\n",
       "      <td>NaN</td>\n",
       "      <td>TopLevel</td>\n",
       "      <td>06D61DCBBE938971E1EA0C38BD9B5446</td>\n",
       "      <td>1581098413</td>\n",
       "      <td>09567D1DEB473ABA2CD04D06F1F6D22D</td>\n",
       "      <td>3110429</td>\n",
       "      <td>39</td>\n",
       "      <td>True</td>\n",
       "      <td>1243169868</td>\n",
       "      <td>06E9B6ABEB6C57CA5A394DADF375D940</td>\n",
       "      <td>557</td>\n",
       "      <td>466</td>\n",
       "      <td>False</td>\n",
       "      <td>1509320658</td>\n",
       "      <td>False</td>\n",
       "      <td>False</td>\n",
       "      <td>False</td>\n",
       "      <td>True</td>\n",
       "      <td>False</td>\n",
       "    </tr>\n",
       "    <tr>\n",
       "      <th>4</th>\n",
       "      <td>101\\t320\\t108660\\t18492\\t105861\\t26349\\t10174\\...</td>\n",
       "      <td>NaN</td>\n",
       "      <td>2F374BA8A03CFA7B51594FBBD45E4BA6</td>\n",
       "      <td>Photo</td>\n",
       "      <td>E07397470C5AD4AC2420A832A49E045B</td>\n",
       "      <td>476213C6321CD12B64C1FB76A6CE02CA</td>\n",
       "      <td>TopLevel</td>\n",
       "      <td>4DC22C3F31C5C43721E6B5815A595ED6</td>\n",
       "      <td>1581158393</td>\n",
       "      <td>DF856F242E9519638FD447D0CCFA06DF</td>\n",
       "      <td>4245504</td>\n",
       "      <td>54</td>\n",
       "      <td>True</td>\n",
       "      <td>1248789982</td>\n",
       "      <td>06E9B7217C92B280231E835F1B686176</td>\n",
       "      <td>8</td>\n",
       "      <td>74</td>\n",
       "      <td>False</td>\n",
       "      <td>1346060212</td>\n",
       "      <td>False</td>\n",
       "      <td>False</td>\n",
       "      <td>False</td>\n",
       "      <td>False</td>\n",
       "      <td>False</td>\n",
       "    </tr>\n",
       "  </tbody>\n",
       "</table>\n",
       "</div>"
      ],
      "text/plain": [
       "                                                toks  \\\n",
       "0  101\\t56898\\t137\\t14248\\t10567\\t77966\\t11166\\t1...   \n",
       "1  101\\t29922\\t10230\\t112\\t11368\\t112\\t12469\\t169...   \n",
       "2  101\\t16358\\t10107\\t117\\t146\\t100\\t181\\t32342\\t...   \n",
       "3  101\\t49004\\t24951\\t11517\\t21793\\t49004\\t46900\\...   \n",
       "4  101\\t320\\t108660\\t18492\\t105861\\t26349\\t10174\\...   \n",
       "\n",
       "                                              hshtgs  \\\n",
       "0                                                NaN   \n",
       "1                                                NaN   \n",
       "2                                                NaN   \n",
       "3  E35EBE28C67E02E3EAABD4D383303A10\\tBF43374FADDC...   \n",
       "4                                                NaN   \n",
       "\n",
       "                              twtid  media                             links  \\\n",
       "0  A964AF200DAFFEBCB632CE2196DFBE6F    NaN                               NaN   \n",
       "1  CA95806CCD16ADD6164D8B632345A5B6    NaN                               NaN   \n",
       "2  EAB281F4E0B985324DB134D922D7753C    NaN                               NaN   \n",
       "3  55F436653590B79DC49DCA2FC5E6BA6E  Photo                               NaN   \n",
       "4  2F374BA8A03CFA7B51594FBBD45E4BA6  Photo  E07397470C5AD4AC2420A832A49E045B   \n",
       "\n",
       "                              domns    twttyp  \\\n",
       "0                               NaN   Retweet   \n",
       "1                               NaN  TopLevel   \n",
       "2                               NaN     Quote   \n",
       "3                               NaN  TopLevel   \n",
       "4  476213C6321CD12B64C1FB76A6CE02CA  TopLevel   \n",
       "\n",
       "                               lang          tm  \\\n",
       "0  022EC308651FACB02794A8147AEE1B78  1581227402   \n",
       "1  D3164C7FBCF2565DDF915B1B3AEFB1DC  1581415813   \n",
       "2  D3164C7FBCF2565DDF915B1B3AEFB1DC  1581524517   \n",
       "3  06D61DCBBE938971E1EA0C38BD9B5446  1581098413   \n",
       "4  4DC22C3F31C5C43721E6B5815A595ED6  1581158393   \n",
       "\n",
       "                               u1id  u1_fllwer_cnt  u1_fllwing_cnt  u1_vrfed  \\\n",
       "0  E43C242721C2336F88D163ADFDB2A364          27901             306     False   \n",
       "1  520F4141FB74447AA2D5100C12656DF2         190829            2227      True   \n",
       "2  EC1254C86CED1D8F2B556786329FD939         225223            1365      True   \n",
       "3  09567D1DEB473ABA2CD04D06F1F6D22D        3110429              39      True   \n",
       "4  DF856F242E9519638FD447D0CCFA06DF        4245504              54      True   \n",
       "\n",
       "   u1_create_tm                              u2id  u2_fllwer_cnt  \\\n",
       "0    1351736247  06E9B34C49824F5C612B01F3DF66C4B8             48   \n",
       "1    1246308293  06E9B485CA5F2757CB554B0244FE2FA4           2024   \n",
       "2    1238211373  06E9B485CA5F2757CB554B0244FE2FA4           2024   \n",
       "3    1243169868  06E9B6ABEB6C57CA5A394DADF375D940            557   \n",
       "4    1248789982  06E9B7217C92B280231E835F1B686176              8   \n",
       "\n",
       "   u2_fllwng_cnt  u2_vrfed  u2_create_tm  u1_fllw_u2  retwt  reply   like  \\\n",
       "0            977     False    1493475569       False   True  False  False   \n",
       "1           1227     False    1234745553       False  False  False   True   \n",
       "2           1227     False    1234745553       False   True  False   True   \n",
       "3            466     False    1509320658       False  False  False   True   \n",
       "4             74     False    1346060212       False  False  False  False   \n",
       "\n",
       "   retwt_cmmnt  \n",
       "0        False  \n",
       "1        False  \n",
       "2        False  \n",
       "3        False  \n",
       "4        False  "
      ]
     },
     "metadata": {},
     "output_type": "display_data"
    },
    {
     "data": {
      "text/plain": [
       "Index(['toks', 'hshtgs', 'twtid', 'media', 'links', 'domns', 'twttyp', 'lang',\n",
       "       'tm', 'u1id', 'u1_fllwer_cnt', 'u1_fllwing_cnt', 'u1_vrfed',\n",
       "       'u1_create_tm', 'u2id', 'u2_fllwer_cnt', 'u2_fllwng_cnt', 'u2_vrfed',\n",
       "       'u2_create_tm', 'u1_fllw_u2', 'retwt', 'reply', 'like', 'retwt_cmmnt'],\n",
       "      dtype='object')"
      ]
     },
     "metadata": {},
     "output_type": "display_data"
    }
   ],
   "source": [
    "train_pop=len(dftrn)\n",
    "sampled_train_pop=trnsz\n",
    "idx_pos = np.where(dftrn[TCOL])[0]\n",
    "target_pop=sampled_target_pop=len(idx_pos)\n",
    "if TGT in ('Reply','RTwCmnt'):\n",
    "    idx_neg0 = np.where(~dftrn[TCOL])[0]\n",
    "    idx_neg = np.random.choice(idx_neg0, trnsz-len(idx_pos), replace=False)\n",
    "    idx = np.concatenate([idx_pos,idx_neg])\n",
    "    dftrn = dftrn.iloc[idx].copy()\n",
    "print(dftrn.shape, dftrn[TCOL].mean())\n",
    "print(train_pop, target_pop, sampled_train_pop, sampled_target_pop)\n",
    "\n",
    "display(dftrn.head())\n",
    "display(dftrn.columns)"
   ]
  },
  {
   "cell_type": "markdown",
   "metadata": {},
   "source": [
    "## prep and features"
   ]
  },
  {
   "cell_type": "code",
   "execution_count": 8,
   "metadata": {},
   "outputs": [],
   "source": [
    "def prp_df(df, tm_max):\n",
    "    '''\n",
    "    tm_max = tm_trn_max for train tm_tst_max for test\n",
    "    '''\n",
    "    lendf = len(df)\n",
    "    print(dtnow(), 'start')\n",
    "    set_u1 = set(df.u1id)\n",
    "    set_u2 = set(df.u2id)\n",
    "    df['u1inu2']=df.u1id.isin(set_u2)\n",
    "    df['u2inu1']=df.u2id.isin(set_u1)\n",
    "\n",
    "    #counts\n",
    "    df['len_toks'] = df.toks.apply(lambda x: len(x.split('\\t')))\n",
    "    df.drop(columns=['toks'], inplace=True)    \n",
    "    for m in ['Photo', 'Video', 'GIF']:\n",
    "        df[f'n_media_{m}'] = df['media'].fillna('').apply(lambda x: x.split('\\t').count(m))\n",
    "    tgnms = ['hshtgs','media', 'links', 'domns',]\n",
    "    for tgnm in tgnms:\n",
    "        df[f'has_{tgnm}']=df[tgnm].notna()\n",
    "        df[f'lst_{tgnm}'] = df[tgnm].fillna('').apply(lambda x: x.split('\\t') if len(x) else [])\n",
    "        df[f'n_{tgnm}'] = df[f'lst_{tgnm}'].apply(len)  \n",
    "    df.drop(columns=['has_links','n_links'], inplace=True) #duplicates has_domns,n_domns \n",
    "    \n",
    "    #time\n",
    "    dt = pd.to_datetime(df.tm, unit='s')\n",
    "    df['dayofweek'] = dt.dt.dayofweek\n",
    "    df['hour'] = dt.dt.hour\n",
    "    \n",
    "    df['tmdlta_u2u1']  = df.u2_create_tm - df.u1_create_tm\n",
    "    df['tmdlta_twtu1'] = df.tm - df.u1_create_tm\n",
    "    df['tmdlta_twtu2'] = df.tm - df.u2_create_tm\n",
    "\n",
    "    df['twt_age']   = tm_max-df.tm\n",
    "    df['u1_age']    = tm_max-df.u1_create_tm\n",
    "    df['u2_age']    = tm_max-df.u2_create_tm\n",
    "    df.drop(columns=['tm', 'u1_create_tm', 'u2_create_tm'], inplace=True)\n",
    "\n",
    "    #time derived\n",
    "    df['u1_fllwer_cnt_by_age'] = df.u1_fllwer_cnt / df.u1_age\n",
    "    df['u1_fllwng_cnt_by_age'] = df.u2_fllwng_cnt / df.u2_age\n",
    "    \n",
    "    #interaction\n",
    "    df['u1u2']=df.u1id+'_'+df.u2id\n",
    "    df['langhour']=df.lang+'_'+df.hour.astype(str)\n",
    "    \n",
    "\n",
    "    #freq of feature values\n",
    "    print(dtnow(), 'freq of columns using CountEncoder')\n",
    "    encoder = ce.CountEncoder()\n",
    "    encoded = encoder.fit_transform(\n",
    "    df[['twtid', 'twttyp', 'lang', 'u1id', 'u1_fllwing_cnt', 'u1_vrfed', 'u2id', 'u2_fllwer_cnt', 'u2_vrfed', 'u1_fllw_u2', \n",
    "       'n_media_Photo', 'n_media_Video', 'n_media_GIF', \n",
    "       'has_hshtgs', 'n_hshtgs', 'has_media', 'n_media','has_domns', 'n_domns', \n",
    "       'dayofweek', 'hour', 'u1u2', 'langhour']].astype(object))\n",
    "    encoded = encoded.astype(int)/lendf\n",
    "    encoded.columns = [f'frq_{col}' for col in encoded.columns]\n",
    "    df = pd.concat([df,encoded],1)\n",
    "    \n",
    "    #freq of tgnm values\n",
    "    print(dtnow(), 'freq of tags')\n",
    "    for tgnm in tgnms:\n",
    "        vs = [j for i in df[f'lst_{tgnm}'] for j in i]\n",
    "        cnt = Counter(vs)\n",
    "        frq = {k:v/lendf for k,v in cnt.items()}\n",
    "        df[f'sumfrq_{tgnm}']=df[f'lst_{tgnm}'].apply(lambda x: sum([frq.get(o,0) for o in x]))\n",
    "        df[f'maxfrq_{tgnm}']=df[f'lst_{tgnm}'].apply(lambda x: max([frq.get(o,0) for o in x]) if len(x) else 0)\n",
    "    df.drop(columns=tgnms+[f'lst_{tgnm}' for tgnm in tgnms],inplace=True)\n",
    "\n",
    "    print(dtnow(), 'done')\n",
    "    return df"
   ]
  },
  {
   "cell_type": "code",
   "execution_count": 9,
   "metadata": {},
   "outputs": [
    {
     "name": "stdout",
     "output_type": "stream",
     "text": [
      "2020-04-11 20:46:33 start\n",
      "2020-04-11 20:46:48 freq of columns using CountEncoder\n"
     ]
    },
    {
     "name": "stderr",
     "output_type": "stream",
     "text": [
      "/data/anaconda3/envs/rcss20/lib/python3.7/site-packages/category_encoders/count.py:255: FutureWarning: The pandas.np module is deprecated and will be removed from pandas in a future version. Import numpy directly instead\n",
      "  X.loc[:, self.cols] = X.fillna(value=pd.np.nan)\n"
     ]
    },
    {
     "name": "stdout",
     "output_type": "stream",
     "text": [
      "2020-04-11 20:47:06 freq of tags\n",
      "2020-04-11 20:47:14 done\n",
      "CPU times: user 34.4 s, sys: 3.66 s, total: 38 s\n",
      "Wall time: 41.4 s\n"
     ]
    }
   ],
   "source": [
    "%%time\n",
    "dftrn=prp_df(dftrn, tm_max=tm_trn_max)"
   ]
  },
  {
   "cell_type": "code",
   "execution_count": 10,
   "metadata": {},
   "outputs": [
    {
     "name": "stdout",
     "output_type": "stream",
     "text": [
      "2020-04-11 20:47:15 start\n",
      "2020-04-11 20:47:27 freq of columns using CountEncoder\n",
      "2020-04-11 20:47:45 freq of tags\n",
      "2020-04-11 20:47:52 done\n",
      "CPU times: user 33.7 s, sys: 3.16 s, total: 36.8 s\n",
      "Wall time: 37.8 s\n"
     ]
    }
   ],
   "source": [
    "%%time\n",
    "dfval=prp_df(dfval, tm_max=tm_trn_max)"
   ]
  },
  {
   "cell_type": "markdown",
   "metadata": {},
   "source": [
    "## tr vl split and target encoding"
   ]
  },
  {
   "cell_type": "code",
   "execution_count": 11,
   "metadata": {},
   "outputs": [
    {
     "data": {
      "text/plain": [
       "30"
      ]
     },
     "execution_count": 11,
     "metadata": {},
     "output_type": "execute_result"
    }
   ],
   "source": [
    "msk_vl=np.random.rand(len(dftrn))<0.15\n",
    "idxvl=np.where( msk_vl)[0]\n",
    "idxtr=np.where(~msk_vl)[0]\n",
    "\n",
    "dftr = dftrn.iloc[idxtr].copy()\n",
    "dfvl = dftrn.iloc[idxvl].copy()\n",
    "del dftrn\n",
    "\n",
    "gc.collect()"
   ]
  },
  {
   "cell_type": "code",
   "execution_count": 12,
   "metadata": {},
   "outputs": [
    {
     "data": {
      "text/plain": [
       "Index(['twtid', 'twttyp', 'lang', 'u1id', 'u1_fllwer_cnt', 'u1_fllwing_cnt',\n",
       "       'u1_vrfed', 'u2id', 'u2_fllwer_cnt', 'u2_fllwng_cnt', 'u2_vrfed',\n",
       "       'u1_fllw_u2', 'retwt', 'reply', 'like', 'retwt_cmmnt', 'u1inu2',\n",
       "       'u2inu1', 'len_toks', 'n_media_Photo', 'n_media_Video', 'n_media_GIF',\n",
       "       'has_hshtgs', 'n_hshtgs', 'has_media', 'n_media', 'has_domns',\n",
       "       'n_domns', 'dayofweek', 'hour', 'tmdlta_u2u1', 'tmdlta_twtu1',\n",
       "       'tmdlta_twtu2', 'twt_age', 'u1_age', 'u2_age', 'u1_fllwer_cnt_by_age',\n",
       "       'u1_fllwng_cnt_by_age', 'u1u2', 'langhour', 'frq_twtid', 'frq_twttyp',\n",
       "       'frq_lang', 'frq_u1id', 'frq_u1_fllwing_cnt', 'frq_u1_vrfed',\n",
       "       'frq_u2id', 'frq_u2_fllwer_cnt', 'frq_u2_vrfed', 'frq_u1_fllw_u2',\n",
       "       'frq_n_media_Photo', 'frq_n_media_Video', 'frq_n_media_GIF',\n",
       "       'frq_has_hshtgs', 'frq_n_hshtgs', 'frq_has_media', 'frq_n_media',\n",
       "       'frq_has_domns', 'frq_n_domns', 'frq_dayofweek', 'frq_hour', 'frq_u1u2',\n",
       "       'frq_langhour', 'sumfrq_hshtgs', 'maxfrq_hshtgs', 'sumfrq_media',\n",
       "       'maxfrq_media', 'sumfrq_links', 'maxfrq_links', 'sumfrq_domns',\n",
       "       'maxfrq_domns'],\n",
       "      dtype='object')"
      ]
     },
     "execution_count": 12,
     "metadata": {},
     "output_type": "execute_result"
    }
   ],
   "source": [
    "dftr.columns"
   ]
  },
  {
   "cell_type": "code",
   "execution_count": 13,
   "metadata": {},
   "outputs": [
    {
     "name": "stdout",
     "output_type": "stream",
     "text": [
      "CPU times: user 31.5 s, sys: 6.74 s, total: 38.3 s\n",
      "Wall time: 41.8 s\n"
     ]
    }
   ],
   "source": [
    "%%time\n",
    "col2tgtenc=['twtid', 'twttyp', 'lang', 'u1id', 'u1_fllwing_cnt', 'u1_vrfed', 'u2id', 'u2_fllwer_cnt', 'u2_vrfed', 'u1_fllw_u2', \n",
    "   'n_media_Photo', 'n_media_Video', 'n_media_GIF', \n",
    "   'has_hshtgs', 'n_hshtgs', 'has_media', 'n_media','has_domns', 'n_domns', \n",
    "   'dayofweek', 'hour', 'u1u2', 'langhour']\n",
    "tgt_encoder = ce.TargetEncoder()\n",
    "encoded_tr = tgt_encoder.fit_transform(dftr[col2tgtenc].astype(object), dftr[TCOL])\n",
    "encoded_vl = tgt_encoder.transform(dfvl[col2tgtenc].astype(object))\n",
    "encoded_val = tgt_encoder.transform(dfval[col2tgtenc].astype(object))\n",
    "\n",
    "tgtenc_columns = [f'tgtenc_{col}' for col in encoded_tr.columns]\n",
    "encoded_tr.columns = tgtenc_columns\n",
    "encoded_vl.columns = tgtenc_columns\n",
    "encoded_val.columns = tgtenc_columns\n",
    "\n",
    "dftr = pd.concat([dftr, encoded_tr], 1)\n",
    "dfvl = pd.concat([dfvl, encoded_vl], 1)\n",
    "dfval = pd.concat([dfval, encoded_val], 1)\n"
   ]
  },
  {
   "cell_type": "code",
   "execution_count": 14,
   "metadata": {},
   "outputs": [],
   "source": [
    "cols_category=['twttyp', 'lang', 'langhour']\n",
    "for df in dftr,dfvl,dfval:\n",
    "    df.drop(columns=['twtid','u1id','u2id','u1u2'], inplace=True)\n",
    "    df[cols_category]=df[cols_category].astype('category')"
   ]
  },
  {
   "cell_type": "code",
   "execution_count": 15,
   "metadata": {},
   "outputs": [],
   "source": [
    "cols_feat = [col for col in dftr.columns if col not in cols_tgt]"
   ]
  },
  {
   "cell_type": "markdown",
   "metadata": {},
   "source": [
    "# model"
   ]
  },
  {
   "cell_type": "markdown",
   "metadata": {},
   "source": [
    "## cols_feat"
   ]
  },
  {
   "cell_type": "code",
   "execution_count": 16,
   "metadata": {},
   "outputs": [
    {
     "name": "stdout",
     "output_type": "stream",
     "text": [
      "86\n",
      "29\n"
     ]
    }
   ],
   "source": [
    "print(len(cols_feat))\n",
    "cols_feat=['twttyp',\n",
    " 'lang',\n",
    " 'u1_fllwer_cnt',\n",
    " 'u1_fllwing_cnt',\n",
    " 'u1_vrfed',\n",
    " 'u2_fllwer_cnt',\n",
    " 'u2_fllwng_cnt',\n",
    " 'u2_vrfed',\n",
    " 'u1_fllw_u2',\n",
    " 'u1inu2',\n",
    " 'u2inu1',\n",
    " 'len_toks',\n",
    " 'n_media_Photo',\n",
    " 'n_media_Video',\n",
    " 'n_media_GIF',\n",
    "#  'has_hshtgs',\n",
    " 'n_hshtgs',\n",
    "#  'has_media',\n",
    " 'n_media',\n",
    "#  'has_domns',\n",
    " 'n_domns',\n",
    " 'dayofweek',\n",
    " 'hour',\n",
    " 'tmdlta_u2u1',\n",
    " 'tmdlta_twtu1',\n",
    " 'tmdlta_twtu2',\n",
    " 'twt_age',\n",
    " 'u1_age',\n",
    " 'u2_age',\n",
    " 'u1_fllwer_cnt_by_age',\n",
    " 'u1_fllwng_cnt_by_age',\n",
    " 'langhour',\n",
    "#  'frq_twtid',\n",
    "#  'frq_twttyp',\n",
    "#  'frq_lang',\n",
    "#  'frq_u1id',\n",
    "#  'frq_u1_fllwing_cnt',\n",
    "#  'frq_u1_vrfed',\n",
    "#  'frq_u2id',\n",
    "#  'frq_u2_fllwer_cnt',\n",
    "#  'frq_u2_vrfed',\n",
    "#  'frq_u1_fllw_u2',\n",
    "#  'frq_n_media_Photo',\n",
    "#  'frq_n_media_Video',\n",
    "#  'frq_n_media_GIF',\n",
    "#  'frq_has_hshtgs',\n",
    "#  'frq_n_hshtgs',\n",
    "#  'frq_has_media',\n",
    "#  'frq_n_media',\n",
    "#  'frq_has_domns',\n",
    "#  'frq_n_domns',\n",
    "#  'frq_dayofweek',\n",
    "#  'frq_hour',\n",
    "#  'frq_u1u2',\n",
    "#  'frq_langhour',\n",
    "#  'sumfrq_hshtgs',\n",
    "#  'maxfrq_hshtgs',\n",
    "#  'sumfrq_media',\n",
    "#  'maxfrq_media',\n",
    "#  'sumfrq_links',\n",
    "#  'maxfrq_links',\n",
    "#  'sumfrq_domns',\n",
    "#  'maxfrq_domns',\n",
    "#  'tgtenc_twtid',\n",
    "#  'tgtenc_twttyp',\n",
    "#  'tgtenc_lang',\n",
    "#  'tgtenc_u1id',\n",
    "#  'tgtenc_u1_fllwing_cnt',\n",
    "#  'tgtenc_u1_vrfed',\n",
    "#  'tgtenc_u2id',\n",
    "#  'tgtenc_u2_fllwer_cnt',\n",
    "#  'tgtenc_u2_vrfed',\n",
    "#  'tgtenc_u1_fllw_u2',\n",
    "#  'tgtenc_n_media_Photo',\n",
    "#  'tgtenc_n_media_Video',\n",
    "#  'tgtenc_n_media_GIF',\n",
    "#  'tgtenc_has_hshtgs',\n",
    "#  'tgtenc_n_hshtgs',\n",
    "#  'tgtenc_has_media',\n",
    "#  'tgtenc_n_media',\n",
    "#  'tgtenc_has_domns',\n",
    "#  'tgtenc_n_domns',\n",
    "#  'tgtenc_dayofweek',\n",
    "#  'tgtenc_hour',\n",
    "#  'tgtenc_u1u2',\n",
    "#  'tgtenc_langhour'\n",
    "          ]\n",
    "print(len(cols_feat))"
   ]
  },
  {
   "cell_type": "code",
   "execution_count": 17,
   "metadata": {},
   "outputs": [],
   "source": [
    "results = {}\n",
    "results['PRFX'] = PRFX\n",
    "results['TGT'] = TGT\n",
    "results['cols_feat'] = cols_feat\n",
    "results['tgt_encoder'] = tgt_encoder\n",
    "results['col2tgtenc'] = col2tgtenc"
   ]
  },
  {
   "cell_type": "code",
   "execution_count": 18,
   "metadata": {},
   "outputs": [],
   "source": [
    "params={\n",
    "    'objective': 'binary',\n",
    "    'metric': 'binary_logloss',\n",
    "    'verbosity': 0,    \n",
    "}\n",
    "results['params'] = params"
   ]
  },
  {
   "cell_type": "code",
   "execution_count": 19,
   "metadata": {
    "scrolled": true
   },
   "outputs": [
    {
     "name": "stderr",
     "output_type": "stream",
     "text": [
      "/data/anaconda3/envs/rcss20/lib/python3.7/site-packages/optuna/_experimental.py:87: ExperimentalWarning: train is experimental (supported from v0.18.0). The interface can change in the future.\n",
      "  ExperimentalWarning\n",
      "tune_feature_fraction, val_score: inf:   0%|          | 0/7 [00:00<?, ?it/s]"
     ]
    },
    {
     "name": "stdout",
     "output_type": "stream",
     "text": [
      "Training until validation scores don't improve for 100 rounds\n",
      "[100]\ttr's binary_logloss: 0.302698\tvl's binary_logloss: 0.313062\n",
      "[200]\ttr's binary_logloss: 0.296065\tvl's binary_logloss: 0.312213\n",
      "[300]\ttr's binary_logloss: 0.29034\tvl's binary_logloss: 0.311852\n",
      "[400]\ttr's binary_logloss: 0.285238\tvl's binary_logloss: 0.311785\n",
      "Early stopping, best iteration is:\n",
      "[346]\ttr's binary_logloss: 0.28783\tvl's binary_logloss: 0.31173\n"
     ]
    },
    {
     "name": "stderr",
     "output_type": "stream",
     "text": [
      "tune_feature_fraction, val_score: 0.311730:  14%|#4        | 1/7 [00:27<02:45, 27.61s/it]"
     ]
    },
    {
     "name": "stdout",
     "output_type": "stream",
     "text": [
      "Training until validation scores don't improve for 100 rounds\n",
      "[100]\ttr's binary_logloss: 0.302146\tvl's binary_logloss: 0.313483\n",
      "[200]\ttr's binary_logloss: 0.294497\tvl's binary_logloss: 0.312553\n",
      "[300]\ttr's binary_logloss: 0.28863\tvl's binary_logloss: 0.312318\n",
      "[400]\ttr's binary_logloss: 0.283357\tvl's binary_logloss: 0.312367\n",
      "Early stopping, best iteration is:\n",
      "[320]\ttr's binary_logloss: 0.287454\tvl's binary_logloss: 0.312226\n"
     ]
    },
    {
     "name": "stderr",
     "output_type": "stream",
     "text": [
      "tune_feature_fraction, val_score: 0.311730:  29%|##8       | 2/7 [00:50<02:11, 26.21s/it]"
     ]
    },
    {
     "name": "stdout",
     "output_type": "stream",
     "text": [
      "Training until validation scores don't improve for 100 rounds\n",
      "[100]\ttr's binary_logloss: 0.301551\tvl's binary_logloss: 0.313346\n",
      "[200]\ttr's binary_logloss: 0.293968\tvl's binary_logloss: 0.312758\n",
      "[300]\ttr's binary_logloss: 0.28818\tvl's binary_logloss: 0.312782\n",
      "Early stopping, best iteration is:\n",
      "[243]\ttr's binary_logloss: 0.291341\tvl's binary_logloss: 0.312704\n"
     ]
    },
    {
     "name": "stderr",
     "output_type": "stream",
     "text": [
      "tune_feature_fraction, val_score: 0.311730:  43%|####2     | 3/7 [01:15<01:42, 25.65s/it]"
     ]
    },
    {
     "name": "stdout",
     "output_type": "stream",
     "text": [
      "Training until validation scores don't improve for 100 rounds\n",
      "[100]\ttr's binary_logloss: 0.300866\tvl's binary_logloss: 0.313705\n",
      "[200]\ttr's binary_logloss: 0.292429\tvl's binary_logloss: 0.312946\n",
      "[300]\ttr's binary_logloss: 0.286219\tvl's binary_logloss: 0.312874\n",
      "Early stopping, best iteration is:\n",
      "[269]\ttr's binary_logloss: 0.288159\tvl's binary_logloss: 0.312714\n"
     ]
    },
    {
     "name": "stderr",
     "output_type": "stream",
     "text": [
      "tune_feature_fraction, val_score: 0.311730:  57%|#####7    | 4/7 [01:45<01:20, 26.96s/it]"
     ]
    },
    {
     "name": "stdout",
     "output_type": "stream",
     "text": [
      "Training until validation scores don't improve for 100 rounds\n",
      "[100]\ttr's binary_logloss: 0.299197\tvl's binary_logloss: 0.314139\n",
      "[200]\ttr's binary_logloss: 0.290829\tvl's binary_logloss: 0.313612\n",
      "[300]\ttr's binary_logloss: 0.284089\tvl's binary_logloss: 0.313687\n",
      "Early stopping, best iteration is:\n",
      "[224]\ttr's binary_logloss: 0.289157\tvl's binary_logloss: 0.313513\n"
     ]
    },
    {
     "name": "stderr",
     "output_type": "stream",
     "text": [
      "tune_feature_fraction, val_score: 0.311730:  71%|#######1  | 5/7 [02:13<00:54, 27.47s/it]"
     ]
    },
    {
     "name": "stdout",
     "output_type": "stream",
     "text": [
      "Training until validation scores don't improve for 100 rounds\n",
      "[100]\ttr's binary_logloss: 0.298776\tvl's binary_logloss: 0.31438\n",
      "[200]\ttr's binary_logloss: 0.290281\tvl's binary_logloss: 0.314075\n",
      "[300]\ttr's binary_logloss: 0.283324\tvl's binary_logloss: 0.314117\n",
      "Early stopping, best iteration is:\n",
      "[207]\ttr's binary_logloss: 0.289737\tvl's binary_logloss: 0.314013\n"
     ]
    },
    {
     "name": "stderr",
     "output_type": "stream",
     "text": [
      "tune_feature_fraction, val_score: 0.311730:  86%|########5 | 6/7 [02:40<00:27, 27.39s/it]"
     ]
    },
    {
     "name": "stdout",
     "output_type": "stream",
     "text": [
      "Training until validation scores don't improve for 100 rounds\n",
      "[100]\ttr's binary_logloss: 0.298457\tvl's binary_logloss: 0.314664\n",
      "[200]\ttr's binary_logloss: 0.28931\tvl's binary_logloss: 0.314771\n",
      "Early stopping, best iteration is:\n",
      "[103]\ttr's binary_logloss: 0.297988\tvl's binary_logloss: 0.314585\n"
     ]
    },
    {
     "name": "stderr",
     "output_type": "stream",
     "text": [
      "tune_feature_fraction, val_score: 0.311730: 100%|##########| 7/7 [03:00<00:00, 25.75s/it]\n",
      "tune_num_leaves, val_score: 0.311730:   0%|          | 0/20 [00:00<?, ?it/s]"
     ]
    },
    {
     "name": "stdout",
     "output_type": "stream",
     "text": [
      "Training until validation scores don't improve for 100 rounds\n",
      "[100]\ttr's binary_logloss: 0.267414\tvl's binary_logloss: 0.311181\n",
      "[200]\ttr's binary_logloss: 0.243235\tvl's binary_logloss: 0.311512\n",
      "Early stopping, best iteration is:\n",
      "[120]\ttr's binary_logloss: 0.261594\tvl's binary_logloss: 0.311139\n"
     ]
    },
    {
     "name": "stderr",
     "output_type": "stream",
     "text": [
      "tune_num_leaves, val_score: 0.311139:   5%|5         | 1/20 [00:48<15:27, 48.80s/it]"
     ]
    },
    {
     "name": "stdout",
     "output_type": "stream",
     "text": [
      "Training until validation scores don't improve for 100 rounds\n",
      "[100]\ttr's binary_logloss: 0.299906\tvl's binary_logloss: 0.312811\n",
      "[200]\ttr's binary_logloss: 0.2919\tvl's binary_logloss: 0.312034\n",
      "[300]\ttr's binary_logloss: 0.285344\tvl's binary_logloss: 0.311769\n",
      "[400]\ttr's binary_logloss: 0.279506\tvl's binary_logloss: 0.311532\n",
      "[500]\ttr's binary_logloss: 0.273982\tvl's binary_logloss: 0.311443\n",
      "[600]\ttr's binary_logloss: 0.268981\tvl's binary_logloss: 0.311339\n",
      "Early stopping, best iteration is:\n",
      "[566]\ttr's binary_logloss: 0.270645\tvl's binary_logloss: 0.311275\n"
     ]
    },
    {
     "name": "stderr",
     "output_type": "stream",
     "text": [
      "tune_num_leaves, val_score: 0.311139:  10%|#         | 2/20 [01:37<14:35, 48.63s/it]"
     ]
    },
    {
     "name": "stdout",
     "output_type": "stream",
     "text": [
      "Training until validation scores don't improve for 100 rounds\n",
      "[100]\ttr's binary_logloss: 0.31255\tvl's binary_logloss: 0.31675\n",
      "[200]\ttr's binary_logloss: 0.308458\tvl's binary_logloss: 0.314952\n",
      "[300]\ttr's binary_logloss: 0.305668\tvl's binary_logloss: 0.314121\n",
      "[400]\ttr's binary_logloss: 0.303091\tvl's binary_logloss: 0.313541\n",
      "[500]\ttr's binary_logloss: 0.300814\tvl's binary_logloss: 0.313092\n",
      "[600]\ttr's binary_logloss: 0.298668\tvl's binary_logloss: 0.312563\n",
      "[700]\ttr's binary_logloss: 0.296605\tvl's binary_logloss: 0.312339\n",
      "[800]\ttr's binary_logloss: 0.294699\tvl's binary_logloss: 0.312174\n",
      "[900]\ttr's binary_logloss: 0.293009\tvl's binary_logloss: 0.312101\n",
      "[1000]\ttr's binary_logloss: 0.291428\tvl's binary_logloss: 0.312009\n",
      "[1100]\ttr's binary_logloss: 0.289869\tvl's binary_logloss: 0.312016\n",
      "Early stopping, best iteration is:\n",
      "[1049]\ttr's binary_logloss: 0.290687\tvl's binary_logloss: 0.311927\n"
     ]
    },
    {
     "name": "stderr",
     "output_type": "stream",
     "text": [
      "tune_num_leaves, val_score: 0.311139:  15%|#5        | 3/20 [02:32<14:20, 50.60s/it]"
     ]
    },
    {
     "name": "stdout",
     "output_type": "stream",
     "text": [
      "Training until validation scores don't improve for 100 rounds\n",
      "[100]\ttr's binary_logloss: 0.297501\tvl's binary_logloss: 0.312355\n",
      "[200]\ttr's binary_logloss: 0.288304\tvl's binary_logloss: 0.31158\n",
      "[300]\ttr's binary_logloss: 0.280574\tvl's binary_logloss: 0.311553\n",
      "Early stopping, best iteration is:\n",
      "[269]\ttr's binary_logloss: 0.282602\tvl's binary_logloss: 0.311349\n"
     ]
    },
    {
     "name": "stderr",
     "output_type": "stream",
     "text": [
      "tune_num_leaves, val_score: 0.311139:  20%|##        | 4/20 [03:07<12:13, 45.84s/it]"
     ]
    },
    {
     "name": "stdout",
     "output_type": "stream",
     "text": [
      "Training until validation scores don't improve for 100 rounds\n",
      "[100]\ttr's binary_logloss: 0.302144\tvl's binary_logloss: 0.313109\n",
      "[200]\ttr's binary_logloss: 0.295118\tvl's binary_logloss: 0.312311\n",
      "[300]\ttr's binary_logloss: 0.289322\tvl's binary_logloss: 0.312019\n",
      "[400]\ttr's binary_logloss: 0.284094\tvl's binary_logloss: 0.311959\n",
      "[500]\ttr's binary_logloss: 0.279003\tvl's binary_logloss: 0.311914\n",
      "[600]\ttr's binary_logloss: 0.274372\tvl's binary_logloss: 0.311929\n",
      "Early stopping, best iteration is:\n",
      "[547]\ttr's binary_logloss: 0.277012\tvl's binary_logloss: 0.311846\n"
     ]
    },
    {
     "name": "stderr",
     "output_type": "stream",
     "text": [
      "tune_num_leaves, val_score: 0.311139:  25%|##5       | 5/20 [03:50<11:18, 45.22s/it]"
     ]
    },
    {
     "name": "stdout",
     "output_type": "stream",
     "text": [
      "Training until validation scores don't improve for 100 rounds\n",
      "[100]\ttr's binary_logloss: 0.27513\tvl's binary_logloss: 0.31111\n",
      "[200]\ttr's binary_logloss: 0.253749\tvl's binary_logloss: 0.311496\n",
      "Early stopping, best iteration is:\n",
      "[120]\ttr's binary_logloss: 0.270172\tvl's binary_logloss: 0.311016\n"
     ]
    },
    {
     "name": "stderr",
     "output_type": "stream",
     "text": [
      "tune_num_leaves, val_score: 0.311016:  30%|###       | 6/20 [04:26<09:52, 42.33s/it]"
     ]
    },
    {
     "name": "stdout",
     "output_type": "stream",
     "text": [
      "Training until validation scores don't improve for 100 rounds\n",
      "[100]\ttr's binary_logloss: 0.316663\tvl's binary_logloss: 0.319352\n",
      "[200]\ttr's binary_logloss: 0.313001\tvl's binary_logloss: 0.316928\n",
      "[300]\ttr's binary_logloss: 0.310635\tvl's binary_logloss: 0.315843\n",
      "[400]\ttr's binary_logloss: 0.308481\tvl's binary_logloss: 0.31494\n",
      "[500]\ttr's binary_logloss: 0.306761\tvl's binary_logloss: 0.314438\n",
      "[600]\ttr's binary_logloss: 0.30535\tvl's binary_logloss: 0.314022\n",
      "[700]\ttr's binary_logloss: 0.304001\tvl's binary_logloss: 0.313676\n",
      "[800]\ttr's binary_logloss: 0.302694\tvl's binary_logloss: 0.313234\n",
      "[900]\ttr's binary_logloss: 0.301475\tvl's binary_logloss: 0.312999\n",
      "[1000]\ttr's binary_logloss: 0.300367\tvl's binary_logloss: 0.312876\n",
      "[1100]\ttr's binary_logloss: 0.29923\tvl's binary_logloss: 0.312777\n",
      "[1200]\ttr's binary_logloss: 0.29829\tvl's binary_logloss: 0.312709\n",
      "[1300]\ttr's binary_logloss: 0.297264\tvl's binary_logloss: 0.312703\n",
      "Early stopping, best iteration is:\n",
      "[1244]\ttr's binary_logloss: 0.297812\tvl's binary_logloss: 0.312683\n"
     ]
    },
    {
     "name": "stderr",
     "output_type": "stream",
     "text": [
      "tune_num_leaves, val_score: 0.311016:  35%|###5      | 7/20 [05:19<09:51, 45.53s/it]"
     ]
    },
    {
     "name": "stdout",
     "output_type": "stream",
     "text": [
      "Training until validation scores don't improve for 100 rounds\n",
      "[100]\ttr's binary_logloss: 0.295804\tvl's binary_logloss: 0.312092\n",
      "[200]\ttr's binary_logloss: 0.285771\tvl's binary_logloss: 0.311294\n",
      "[300]\ttr's binary_logloss: 0.277387\tvl's binary_logloss: 0.311133\n",
      "[400]\ttr's binary_logloss: 0.270011\tvl's binary_logloss: 0.311407\n",
      "Early stopping, best iteration is:\n",
      "[313]\ttr's binary_logloss: 0.27639\tvl's binary_logloss: 0.311079\n"
     ]
    },
    {
     "name": "stderr",
     "output_type": "stream",
     "text": [
      "tune_num_leaves, val_score: 0.311016:  40%|####      | 8/20 [05:47<08:01, 40.16s/it]"
     ]
    },
    {
     "name": "stdout",
     "output_type": "stream",
     "text": [
      "Training until validation scores don't improve for 100 rounds\n",
      "[100]\ttr's binary_logloss: 0.310287\tvl's binary_logloss: 0.315492\n",
      "[200]\ttr's binary_logloss: 0.306054\tvl's binary_logloss: 0.314028\n",
      "[300]\ttr's binary_logloss: 0.302888\tvl's binary_logloss: 0.313428\n",
      "[400]\ttr's binary_logloss: 0.299867\tvl's binary_logloss: 0.31282\n",
      "[500]\ttr's binary_logloss: 0.296914\tvl's binary_logloss: 0.312582\n",
      "[600]\ttr's binary_logloss: 0.294354\tvl's binary_logloss: 0.312266\n",
      "[700]\ttr's binary_logloss: 0.291919\tvl's binary_logloss: 0.312248\n",
      "[800]\ttr's binary_logloss: 0.289653\tvl's binary_logloss: 0.312072\n",
      "[900]\ttr's binary_logloss: 0.287538\tvl's binary_logloss: 0.312019\n",
      "Early stopping, best iteration is:\n",
      "[817]\ttr's binary_logloss: 0.289284\tvl's binary_logloss: 0.311991\n"
     ]
    },
    {
     "name": "stderr",
     "output_type": "stream",
     "text": [
      "tune_num_leaves, val_score: 0.311016:  45%|####5     | 9/20 [06:28<07:24, 40.44s/it]"
     ]
    },
    {
     "name": "stdout",
     "output_type": "stream",
     "text": [
      "Training until validation scores don't improve for 100 rounds\n",
      "[100]\ttr's binary_logloss: 0.274492\tvl's binary_logloss: 0.311034\n",
      "Early stopping, best iteration is:\n",
      "[96]\ttr's binary_logloss: 0.275611\tvl's binary_logloss: 0.310995\n"
     ]
    },
    {
     "name": "stderr",
     "output_type": "stream",
     "text": [
      "tune_num_leaves, val_score: 0.310995:  50%|#####     | 10/20 [07:00<06:18, 37.84s/it]"
     ]
    },
    {
     "name": "stdout",
     "output_type": "stream",
     "text": [
      "Training until validation scores don't improve for 100 rounds\n",
      "[100]\ttr's binary_logloss: 0.28409\tvl's binary_logloss: 0.311396\n",
      "[200]\ttr's binary_logloss: 0.267428\tvl's binary_logloss: 0.311622\n",
      "Early stopping, best iteration is:\n",
      "[118]\ttr's binary_logloss: 0.280754\tvl's binary_logloss: 0.31131\n"
     ]
    },
    {
     "name": "stderr",
     "output_type": "stream",
     "text": [
      "tune_num_leaves, val_score: 0.310995:  55%|#####5    | 11/20 [07:26<05:09, 34.43s/it]"
     ]
    },
    {
     "name": "stdout",
     "output_type": "stream",
     "text": [
      "Training until validation scores don't improve for 100 rounds\n",
      "[100]\ttr's binary_logloss: 0.269351\tvl's binary_logloss: 0.311902\n",
      "Early stopping, best iteration is:\n",
      "[65]\ttr's binary_logloss: 0.281203\tvl's binary_logloss: 0.311712\n"
     ]
    },
    {
     "name": "stderr",
     "output_type": "stream",
     "text": [
      "tune_num_leaves, val_score: 0.310995:  60%|######    | 12/20 [07:58<04:30, 33.84s/it]"
     ]
    },
    {
     "name": "stdout",
     "output_type": "stream",
     "text": [
      "Training until validation scores don't improve for 100 rounds\n",
      "[100]\ttr's binary_logloss: 0.276478\tvl's binary_logloss: 0.311315\n",
      "[200]\ttr's binary_logloss: 0.256402\tvl's binary_logloss: 0.31131\n",
      "Early stopping, best iteration is:\n",
      "[123]\ttr's binary_logloss: 0.271412\tvl's binary_logloss: 0.311193\n"
     ]
    },
    {
     "name": "stderr",
     "output_type": "stream",
     "text": [
      "tune_num_leaves, val_score: 0.310995:  65%|######5   | 13/20 [08:33<03:57, 33.95s/it]"
     ]
    },
    {
     "name": "stdout",
     "output_type": "stream",
     "text": [
      "Training until validation scores don't improve for 100 rounds\n",
      "[100]\ttr's binary_logloss: 0.261296\tvl's binary_logloss: 0.311421\n",
      "Early stopping, best iteration is:\n",
      "[94]\ttr's binary_logloss: 0.263452\tvl's binary_logloss: 0.311318\n"
     ]
    },
    {
     "name": "stderr",
     "output_type": "stream",
     "text": [
      "tune_num_leaves, val_score: 0.310995:  70%|#######   | 14/20 [09:09<03:28, 34.67s/it]"
     ]
    },
    {
     "name": "stdout",
     "output_type": "stream",
     "text": [
      "Training until validation scores don't improve for 100 rounds\n",
      "[100]\ttr's binary_logloss: 0.279834\tvl's binary_logloss: 0.311153\n",
      "[200]\ttr's binary_logloss: 0.261922\tvl's binary_logloss: 0.311089\n",
      "Early stopping, best iteration is:\n",
      "[161]\ttr's binary_logloss: 0.268567\tvl's binary_logloss: 0.310957\n"
     ]
    },
    {
     "name": "stderr",
     "output_type": "stream",
     "text": [
      "tune_num_leaves, val_score: 0.310957:  75%|#######5  | 15/20 [09:40<02:47, 33.57s/it]"
     ]
    },
    {
     "name": "stdout",
     "output_type": "stream",
     "text": [
      "Training until validation scores don't improve for 100 rounds\n",
      "[100]\ttr's binary_logloss: 0.287571\tvl's binary_logloss: 0.311844\n",
      "[200]\ttr's binary_logloss: 0.273584\tvl's binary_logloss: 0.31163\n",
      "[300]\ttr's binary_logloss: 0.261559\tvl's binary_logloss: 0.311671\n",
      "Early stopping, best iteration is:\n",
      "[249]\ttr's binary_logloss: 0.267432\tvl's binary_logloss: 0.311478\n"
     ]
    },
    {
     "name": "stderr",
     "output_type": "stream",
     "text": [
      "tune_num_leaves, val_score: 0.310957:  80%|########  | 16/20 [10:12<02:12, 33.17s/it]"
     ]
    },
    {
     "name": "stdout",
     "output_type": "stream",
     "text": [
      "Training until validation scores don't improve for 100 rounds\n",
      "[100]\ttr's binary_logloss: 0.277901\tvl's binary_logloss: 0.311353\n",
      "Early stopping, best iteration is:\n",
      "[93]\ttr's binary_logloss: 0.279463\tvl's binary_logloss: 0.311271\n"
     ]
    },
    {
     "name": "stderr",
     "output_type": "stream",
     "text": [
      "tune_num_leaves, val_score: 0.310957:  85%|########5 | 17/20 [10:36<01:31, 30.44s/it]"
     ]
    },
    {
     "name": "stdout",
     "output_type": "stream",
     "text": [
      "Training until validation scores don't improve for 100 rounds\n",
      "[100]\ttr's binary_logloss: 0.270215\tvl's binary_logloss: 0.311245\n",
      "[200]\ttr's binary_logloss: 0.24701\tvl's binary_logloss: 0.311251\n",
      "Early stopping, best iteration is:\n",
      "[126]\ttr's binary_logloss: 0.262948\tvl's binary_logloss: 0.311168\n"
     ]
    },
    {
     "name": "stderr",
     "output_type": "stream",
     "text": [
      "tune_num_leaves, val_score: 0.310957:  90%|######### | 18/20 [11:05<00:59, 29.98s/it]"
     ]
    },
    {
     "name": "stdout",
     "output_type": "stream",
     "text": [
      "Training until validation scores don't improve for 100 rounds\n",
      "[100]\ttr's binary_logloss: 0.287556\tvl's binary_logloss: 0.311707\n",
      "[200]\ttr's binary_logloss: 0.273029\tvl's binary_logloss: 0.311584\n",
      "[300]\ttr's binary_logloss: 0.261158\tvl's binary_logloss: 0.311908\n",
      "Early stopping, best iteration is:\n",
      "[204]\ttr's binary_logloss: 0.272514\tvl's binary_logloss: 0.311547\n"
     ]
    },
    {
     "name": "stderr",
     "output_type": "stream",
     "text": [
      "tune_num_leaves, val_score: 0.310957:  95%|#########5| 19/20 [11:35<00:30, 30.01s/it]"
     ]
    },
    {
     "name": "stdout",
     "output_type": "stream",
     "text": [
      "Training until validation scores don't improve for 100 rounds\n",
      "[100]\ttr's binary_logloss: 0.264166\tvl's binary_logloss: 0.31143\n",
      "Early stopping, best iteration is:\n",
      "[90]\ttr's binary_logloss: 0.267421\tvl's binary_logloss: 0.31128\n"
     ]
    },
    {
     "name": "stderr",
     "output_type": "stream",
     "text": [
      "tune_num_leaves, val_score: 0.310957: 100%|##########| 20/20 [12:14<00:00, 36.72s/it]\n",
      "tune_bagging_fraction_and_bagging_freq, val_score: 0.310957:   0%|          | 0/10 [00:00<?, ?it/s]"
     ]
    },
    {
     "name": "stdout",
     "output_type": "stream",
     "text": [
      "Training until validation scores don't improve for 100 rounds\n",
      "[100]\ttr's binary_logloss: 0.282347\tvl's binary_logloss: 0.311985\n",
      "[200]\ttr's binary_logloss: 0.263216\tvl's binary_logloss: 0.312009\n",
      "Early stopping, best iteration is:\n",
      "[174]\ttr's binary_logloss: 0.267663\tvl's binary_logloss: 0.311797\n"
     ]
    },
    {
     "name": "stderr",
     "output_type": "stream",
     "text": [
      "tune_bagging_fraction_and_bagging_freq, val_score: 0.310957:  10%|#         | 1/10 [00:28<04:14, 28.29s/it]"
     ]
    },
    {
     "name": "stdout",
     "output_type": "stream",
     "text": [
      "Training until validation scores don't improve for 100 rounds\n",
      "[100]\ttr's binary_logloss: 0.28522\tvl's binary_logloss: 0.313571\n",
      "Early stopping, best iteration is:\n",
      "[84]\ttr's binary_logloss: 0.288655\tvl's binary_logloss: 0.313533\n"
     ]
    },
    {
     "name": "stderr",
     "output_type": "stream",
     "text": [
      "tune_bagging_fraction_and_bagging_freq, val_score: 0.310957:  20%|##        | 2/10 [00:44<03:16, 24.61s/it]"
     ]
    },
    {
     "name": "stdout",
     "output_type": "stream",
     "text": [
      "Training until validation scores don't improve for 100 rounds\n",
      "[100]\ttr's binary_logloss: 0.280289\tvl's binary_logloss: 0.311467\n",
      "[200]\ttr's binary_logloss: 0.262867\tvl's binary_logloss: 0.311343\n",
      "Early stopping, best iteration is:\n",
      "[180]\ttr's binary_logloss: 0.265939\tvl's binary_logloss: 0.311251\n"
     ]
    },
    {
     "name": "stderr",
     "output_type": "stream",
     "text": [
      "tune_bagging_fraction_and_bagging_freq, val_score: 0.310957:  30%|###       | 3/10 [01:07<02:49, 24.20s/it]"
     ]
    },
    {
     "name": "stdout",
     "output_type": "stream",
     "text": [
      "Training until validation scores don't improve for 100 rounds\n",
      "[100]\ttr's binary_logloss: 0.28366\tvl's binary_logloss: 0.311967\n",
      "[200]\ttr's binary_logloss: 0.264338\tvl's binary_logloss: 0.312124\n",
      "Early stopping, best iteration is:\n",
      "[117]\ttr's binary_logloss: 0.279842\tvl's binary_logloss: 0.311861\n"
     ]
    },
    {
     "name": "stderr",
     "output_type": "stream",
     "text": [
      "tune_bagging_fraction_and_bagging_freq, val_score: 0.310957:  40%|####      | 4/10 [01:24<02:12, 22.07s/it]"
     ]
    },
    {
     "name": "stdout",
     "output_type": "stream",
     "text": [
      "Training until validation scores don't improve for 100 rounds\n",
      "[100]\ttr's binary_logloss: 0.283818\tvl's binary_logloss: 0.312829\n",
      "[200]\ttr's binary_logloss: 0.264522\tvl's binary_logloss: 0.313127\n",
      "Early stopping, best iteration is:\n",
      "[118]\ttr's binary_logloss: 0.279654\tvl's binary_logloss: 0.312677\n"
     ]
    },
    {
     "name": "stderr",
     "output_type": "stream",
     "text": [
      "tune_bagging_fraction_and_bagging_freq, val_score: 0.310957:  50%|#####     | 5/10 [01:40<01:40, 20.14s/it]"
     ]
    },
    {
     "name": "stdout",
     "output_type": "stream",
     "text": [
      "Training until validation scores don't improve for 100 rounds\n",
      "[100]\ttr's binary_logloss: 0.28092\tvl's binary_logloss: 0.311509\n",
      "[200]\ttr's binary_logloss: 0.262262\tvl's binary_logloss: 0.311796\n",
      "Early stopping, best iteration is:\n",
      "[120]\ttr's binary_logloss: 0.276577\tvl's binary_logloss: 0.311336\n"
     ]
    },
    {
     "name": "stderr",
     "output_type": "stream",
     "text": [
      "tune_bagging_fraction_and_bagging_freq, val_score: 0.310957:  60%|######    | 6/10 [01:59<01:19, 19.81s/it]"
     ]
    },
    {
     "name": "stdout",
     "output_type": "stream",
     "text": [
      "Training until validation scores don't improve for 100 rounds\n",
      "[100]\ttr's binary_logloss: 0.28388\tvl's binary_logloss: 0.312467\n",
      "[200]\ttr's binary_logloss: 0.264559\tvl's binary_logloss: 0.31279\n",
      "Early stopping, best iteration is:\n",
      "[113]\ttr's binary_logloss: 0.280988\tvl's binary_logloss: 0.312373\n"
     ]
    },
    {
     "name": "stderr",
     "output_type": "stream",
     "text": [
      "tune_bagging_fraction_and_bagging_freq, val_score: 0.310957:  70%|#######   | 7/10 [02:16<00:56, 18.99s/it]"
     ]
    },
    {
     "name": "stdout",
     "output_type": "stream",
     "text": [
      "Training until validation scores don't improve for 100 rounds\n",
      "[100]\ttr's binary_logloss: 0.284283\tvl's binary_logloss: 0.312626\n",
      "Early stopping, best iteration is:\n",
      "[93]\ttr's binary_logloss: 0.285798\tvl's binary_logloss: 0.312355\n"
     ]
    },
    {
     "name": "stderr",
     "output_type": "stream",
     "text": [
      "tune_bagging_fraction_and_bagging_freq, val_score: 0.310957:  80%|########  | 8/10 [02:33<00:36, 18.27s/it]"
     ]
    },
    {
     "name": "stdout",
     "output_type": "stream",
     "text": [
      "Training until validation scores don't improve for 100 rounds\n",
      "[100]\ttr's binary_logloss: 0.282984\tvl's binary_logloss: 0.311933\n",
      "Early stopping, best iteration is:\n",
      "[93]\ttr's binary_logloss: 0.284549\tvl's binary_logloss: 0.311851\n"
     ]
    },
    {
     "name": "stderr",
     "output_type": "stream",
     "text": [
      "tune_bagging_fraction_and_bagging_freq, val_score: 0.310957:  90%|######### | 9/10 [02:47<00:17, 17.08s/it]"
     ]
    },
    {
     "name": "stdout",
     "output_type": "stream",
     "text": [
      "Training until validation scores don't improve for 100 rounds\n",
      "[100]\ttr's binary_logloss: 0.281597\tvl's binary_logloss: 0.311658\n",
      "[200]\ttr's binary_logloss: 0.262378\tvl's binary_logloss: 0.311589\n",
      "Early stopping, best iteration is:\n",
      "[123]\ttr's binary_logloss: 0.276413\tvl's binary_logloss: 0.311437\n"
     ]
    },
    {
     "name": "stderr",
     "output_type": "stream",
     "text": [
      "tune_bagging_fraction_and_bagging_freq, val_score: 0.310957: 100%|##########| 10/10 [03:04<00:00, 18.42s/it]\n",
      "tune_feature_fraction, val_score: 0.310957:   0%|          | 0/3 [00:00<?, ?it/s]"
     ]
    },
    {
     "name": "stdout",
     "output_type": "stream",
     "text": [
      "Training until validation scores don't improve for 100 rounds\n",
      "[100]\ttr's binary_logloss: 0.279834\tvl's binary_logloss: 0.311153\n",
      "[200]\ttr's binary_logloss: 0.261922\tvl's binary_logloss: 0.311089\n",
      "Early stopping, best iteration is:\n",
      "[161]\ttr's binary_logloss: 0.268567\tvl's binary_logloss: 0.310957\n"
     ]
    },
    {
     "name": "stderr",
     "output_type": "stream",
     "text": [
      "tune_feature_fraction, val_score: 0.310957:  33%|###3      | 1/3 [00:17<00:34, 17.29s/it]"
     ]
    },
    {
     "name": "stdout",
     "output_type": "stream",
     "text": [
      "Training until validation scores don't improve for 100 rounds\n",
      "[100]\ttr's binary_logloss: 0.279066\tvl's binary_logloss: 0.311489\n",
      "Early stopping, best iteration is:\n",
      "[89]\ttr's binary_logloss: 0.281664\tvl's binary_logloss: 0.31143\n"
     ]
    },
    {
     "name": "stderr",
     "output_type": "stream",
     "text": [
      "tune_feature_fraction, val_score: 0.310957:  67%|######6   | 2/3 [00:32<00:16, 16.55s/it]"
     ]
    },
    {
     "name": "stdout",
     "output_type": "stream",
     "text": [
      "Training until validation scores don't improve for 100 rounds\n",
      "[100]\ttr's binary_logloss: 0.278584\tvl's binary_logloss: 0.311889\n",
      "[200]\ttr's binary_logloss: 0.259638\tvl's binary_logloss: 0.312139\n",
      "Early stopping, best iteration is:\n",
      "[121]\ttr's binary_logloss: 0.273937\tvl's binary_logloss: 0.31188\n"
     ]
    },
    {
     "name": "stderr",
     "output_type": "stream",
     "text": [
      "tune_feature_fraction, val_score: 0.310957: 100%|##########| 3/3 [00:49<00:00, 16.58s/it]\n",
      "tune_lambda_l1_and_lambda_l2, val_score: 0.310957:   0%|          | 0/20 [00:00<?, ?it/s]"
     ]
    },
    {
     "name": "stdout",
     "output_type": "stream",
     "text": [
      "Training until validation scores don't improve for 100 rounds\n",
      "[100]\ttr's binary_logloss: 0.279834\tvl's binary_logloss: 0.311153\n",
      "[200]\ttr's binary_logloss: 0.261922\tvl's binary_logloss: 0.311089\n",
      "Early stopping, best iteration is:\n",
      "[161]\ttr's binary_logloss: 0.268567\tvl's binary_logloss: 0.310957\n"
     ]
    },
    {
     "name": "stderr",
     "output_type": "stream",
     "text": [
      "tune_lambda_l1_and_lambda_l2, val_score: 0.310957:   5%|5         | 1/20 [00:19<06:04, 19.16s/it]"
     ]
    },
    {
     "name": "stdout",
     "output_type": "stream",
     "text": [
      "Training until validation scores don't improve for 100 rounds\n",
      "[100]\ttr's binary_logloss: 0.279834\tvl's binary_logloss: 0.311153\n",
      "[200]\ttr's binary_logloss: 0.261973\tvl's binary_logloss: 0.311119\n",
      "Early stopping, best iteration is:\n",
      "[161]\ttr's binary_logloss: 0.268567\tvl's binary_logloss: 0.310957\n"
     ]
    },
    {
     "name": "stderr",
     "output_type": "stream",
     "text": [
      "tune_lambda_l1_and_lambda_l2, val_score: 0.310957:  10%|#         | 2/20 [00:39<05:51, 19.52s/it]"
     ]
    },
    {
     "name": "stdout",
     "output_type": "stream",
     "text": [
      "Training until validation scores don't improve for 100 rounds\n",
      "[100]\ttr's binary_logloss: 0.280059\tvl's binary_logloss: 0.311171\n",
      "[200]\ttr's binary_logloss: 0.262039\tvl's binary_logloss: 0.311368\n",
      "Early stopping, best iteration is:\n",
      "[118]\ttr's binary_logloss: 0.276302\tvl's binary_logloss: 0.311006\n"
     ]
    },
    {
     "name": "stderr",
     "output_type": "stream",
     "text": [
      "tune_lambda_l1_and_lambda_l2, val_score: 0.310957:  15%|#5        | 3/20 [00:57<05:22, 18.99s/it]"
     ]
    },
    {
     "name": "stdout",
     "output_type": "stream",
     "text": [
      "Training until validation scores don't improve for 100 rounds\n",
      "[100]\ttr's binary_logloss: 0.280882\tvl's binary_logloss: 0.311352\n",
      "[200]\ttr's binary_logloss: 0.263281\tvl's binary_logloss: 0.311215\n",
      "[300]\ttr's binary_logloss: 0.248107\tvl's binary_logloss: 0.311686\n",
      "Early stopping, best iteration is:\n",
      "[203]\ttr's binary_logloss: 0.262749\tvl's binary_logloss: 0.311125\n"
     ]
    },
    {
     "name": "stderr",
     "output_type": "stream",
     "text": [
      "tune_lambda_l1_and_lambda_l2, val_score: 0.310957:  20%|##        | 4/20 [01:20<05:22, 20.14s/it]"
     ]
    },
    {
     "name": "stdout",
     "output_type": "stream",
     "text": [
      "Training until validation scores don't improve for 100 rounds\n",
      "[100]\ttr's binary_logloss: 0.281763\tvl's binary_logloss: 0.31118\n",
      "[200]\ttr's binary_logloss: 0.264561\tvl's binary_logloss: 0.311124\n",
      "Early stopping, best iteration is:\n",
      "[164]\ttr's binary_logloss: 0.270145\tvl's binary_logloss: 0.310892\n"
     ]
    },
    {
     "name": "stderr",
     "output_type": "stream",
     "text": [
      "tune_lambda_l1_and_lambda_l2, val_score: 0.310892:  25%|##5       | 5/20 [01:46<05:28, 21.88s/it]"
     ]
    },
    {
     "name": "stdout",
     "output_type": "stream",
     "text": [
      "Training until validation scores don't improve for 100 rounds\n",
      "[100]\ttr's binary_logloss: 0.279834\tvl's binary_logloss: 0.311153\n",
      "[200]\ttr's binary_logloss: 0.261973\tvl's binary_logloss: 0.311119\n",
      "Early stopping, best iteration is:\n",
      "[161]\ttr's binary_logloss: 0.268567\tvl's binary_logloss: 0.310957\n"
     ]
    },
    {
     "name": "stderr",
     "output_type": "stream",
     "text": [
      "tune_lambda_l1_and_lambda_l2, val_score: 0.310892:  30%|###       | 6/20 [02:12<05:23, 23.12s/it]"
     ]
    },
    {
     "name": "stdout",
     "output_type": "stream",
     "text": [
      "Training until validation scores don't improve for 100 rounds\n",
      "[100]\ttr's binary_logloss: 0.282259\tvl's binary_logloss: 0.311126\n",
      "[200]\ttr's binary_logloss: 0.265431\tvl's binary_logloss: 0.310995\n",
      "Early stopping, best iteration is:\n",
      "[126]\ttr's binary_logloss: 0.277326\tvl's binary_logloss: 0.310846\n"
     ]
    },
    {
     "name": "stderr",
     "output_type": "stream",
     "text": [
      "tune_lambda_l1_and_lambda_l2, val_score: 0.310846:  35%|###5      | 7/20 [02:37<05:08, 23.72s/it]"
     ]
    },
    {
     "name": "stdout",
     "output_type": "stream",
     "text": [
      "Training until validation scores don't improve for 100 rounds\n",
      "[100]\ttr's binary_logloss: 0.280097\tvl's binary_logloss: 0.311299\n",
      "[200]\ttr's binary_logloss: 0.261666\tvl's binary_logloss: 0.311259\n",
      "Early stopping, best iteration is:\n",
      "[127]\ttr's binary_logloss: 0.274387\tvl's binary_logloss: 0.311011\n"
     ]
    },
    {
     "name": "stderr",
     "output_type": "stream",
     "text": [
      "tune_lambda_l1_and_lambda_l2, val_score: 0.310846:  40%|####      | 8/20 [02:57<04:31, 22.64s/it]"
     ]
    },
    {
     "name": "stdout",
     "output_type": "stream",
     "text": [
      "Training until validation scores don't improve for 100 rounds\n",
      "[100]\ttr's binary_logloss: 0.280178\tvl's binary_logloss: 0.311447\n",
      "[200]\ttr's binary_logloss: 0.261908\tvl's binary_logloss: 0.311326\n",
      "Early stopping, best iteration is:\n",
      "[127]\ttr's binary_logloss: 0.274566\tvl's binary_logloss: 0.311233\n"
     ]
    },
    {
     "name": "stderr",
     "output_type": "stream",
     "text": [
      "tune_lambda_l1_and_lambda_l2, val_score: 0.310846:  45%|####5     | 9/20 [03:15<03:52, 21.14s/it]"
     ]
    },
    {
     "name": "stdout",
     "output_type": "stream",
     "text": [
      "Training until validation scores don't improve for 100 rounds\n",
      "[100]\ttr's binary_logloss: 0.280286\tvl's binary_logloss: 0.311253\n",
      "[200]\ttr's binary_logloss: 0.261556\tvl's binary_logloss: 0.311028\n",
      "Early stopping, best iteration is:\n",
      "[198]\ttr's binary_logloss: 0.261992\tvl's binary_logloss: 0.311008\n"
     ]
    },
    {
     "name": "stderr",
     "output_type": "stream",
     "text": [
      "tune_lambda_l1_and_lambda_l2, val_score: 0.310846:  50%|#####     | 10/20 [03:36<03:32, 21.30s/it]"
     ]
    },
    {
     "name": "stdout",
     "output_type": "stream",
     "text": [
      "Training until validation scores don't improve for 100 rounds\n",
      "[100]\ttr's binary_logloss: 0.283381\tvl's binary_logloss: 0.311169\n",
      "[200]\ttr's binary_logloss: 0.267385\tvl's binary_logloss: 0.310888\n",
      "[300]\ttr's binary_logloss: 0.255497\tvl's binary_logloss: 0.311165\n",
      "Early stopping, best iteration is:\n",
      "[217]\ttr's binary_logloss: 0.265036\tvl's binary_logloss: 0.310778\n"
     ]
    },
    {
     "name": "stderr",
     "output_type": "stream",
     "text": [
      "tune_lambda_l1_and_lambda_l2, val_score: 0.310778:  55%|#####5    | 11/20 [04:13<03:52, 25.80s/it]"
     ]
    },
    {
     "name": "stdout",
     "output_type": "stream",
     "text": [
      "Training until validation scores don't improve for 100 rounds\n",
      "[100]\ttr's binary_logloss: 0.284126\tvl's binary_logloss: 0.311037\n",
      "[200]\ttr's binary_logloss: 0.269025\tvl's binary_logloss: 0.310764\n",
      "Early stopping, best iteration is:\n",
      "[193]\ttr's binary_logloss: 0.270092\tvl's binary_logloss: 0.310694\n"
     ]
    },
    {
     "name": "stderr",
     "output_type": "stream",
     "text": [
      "tune_lambda_l1_and_lambda_l2, val_score: 0.310694:  60%|######    | 12/20 [04:51<03:56, 29.58s/it]"
     ]
    },
    {
     "name": "stdout",
     "output_type": "stream",
     "text": [
      "Training until validation scores don't improve for 100 rounds\n",
      "[100]\ttr's binary_logloss: 0.280326\tvl's binary_logloss: 0.311651\n",
      "[200]\ttr's binary_logloss: 0.262056\tvl's binary_logloss: 0.311683\n",
      "Early stopping, best iteration is:\n",
      "[128]\ttr's binary_logloss: 0.274567\tvl's binary_logloss: 0.311443\n"
     ]
    },
    {
     "name": "stderr",
     "output_type": "stream",
     "text": [
      "tune_lambda_l1_and_lambda_l2, val_score: 0.310694:  65%|######5   | 13/20 [05:13<03:11, 27.30s/it]"
     ]
    },
    {
     "name": "stdout",
     "output_type": "stream",
     "text": [
      "Training until validation scores don't improve for 100 rounds\n",
      "[100]\ttr's binary_logloss: 0.283789\tvl's binary_logloss: 0.311139\n",
      "[200]\ttr's binary_logloss: 0.269024\tvl's binary_logloss: 0.310884\n",
      "[300]\ttr's binary_logloss: 0.256472\tvl's binary_logloss: 0.311155\n",
      "Early stopping, best iteration is:\n",
      "[210]\ttr's binary_logloss: 0.267802\tvl's binary_logloss: 0.310865\n"
     ]
    },
    {
     "name": "stderr",
     "output_type": "stream",
     "text": [
      "tune_lambda_l1_and_lambda_l2, val_score: 0.310694:  70%|#######   | 14/20 [05:41<02:44, 27.41s/it]"
     ]
    },
    {
     "name": "stdout",
     "output_type": "stream",
     "text": [
      "Training until validation scores don't improve for 100 rounds\n",
      "[100]\ttr's binary_logloss: 0.279809\tvl's binary_logloss: 0.311178\n",
      "[200]\ttr's binary_logloss: 0.261053\tvl's binary_logloss: 0.31108\n",
      "Early stopping, best iteration is:\n",
      "[192]\ttr's binary_logloss: 0.262543\tvl's binary_logloss: 0.311007\n"
     ]
    },
    {
     "name": "stderr",
     "output_type": "stream",
     "text": [
      "tune_lambda_l1_and_lambda_l2, val_score: 0.310694:  75%|#######5  | 15/20 [06:07<02:16, 27.23s/it]"
     ]
    },
    {
     "name": "stdout",
     "output_type": "stream",
     "text": [
      "Training until validation scores don't improve for 100 rounds\n",
      "[100]\ttr's binary_logloss: 0.284026\tvl's binary_logloss: 0.311068\n",
      "[200]\ttr's binary_logloss: 0.269068\tvl's binary_logloss: 0.310744\n",
      "[300]\ttr's binary_logloss: 0.257469\tvl's binary_logloss: 0.311059\n",
      "Early stopping, best iteration is:\n",
      "[210]\ttr's binary_logloss: 0.267679\tvl's binary_logloss: 0.310683\n"
     ]
    },
    {
     "name": "stderr",
     "output_type": "stream",
     "text": [
      "tune_lambda_l1_and_lambda_l2, val_score: 0.310683:  80%|########  | 16/20 [06:42<01:57, 29.33s/it]"
     ]
    },
    {
     "name": "stdout",
     "output_type": "stream",
     "text": [
      "Training until validation scores don't improve for 100 rounds\n",
      "[100]\ttr's binary_logloss: 0.280196\tvl's binary_logloss: 0.311368\n",
      "[200]\ttr's binary_logloss: 0.262434\tvl's binary_logloss: 0.311129\n",
      "[300]\ttr's binary_logloss: 0.247116\tvl's binary_logloss: 0.311369\n",
      "Early stopping, best iteration is:\n",
      "[223]\ttr's binary_logloss: 0.258487\tvl's binary_logloss: 0.310989\n"
     ]
    },
    {
     "name": "stderr",
     "output_type": "stream",
     "text": [
      "tune_lambda_l1_and_lambda_l2, val_score: 0.310683:  85%|########5 | 17/20 [07:14<01:30, 30.29s/it]"
     ]
    },
    {
     "name": "stdout",
     "output_type": "stream",
     "text": [
      "Training until validation scores don't improve for 100 rounds\n",
      "[100]\ttr's binary_logloss: 0.280636\tvl's binary_logloss: 0.311129\n",
      "[200]\ttr's binary_logloss: 0.26223\tvl's binary_logloss: 0.310931\n",
      "Early stopping, best iteration is:\n",
      "[179]\ttr's binary_logloss: 0.265843\tvl's binary_logloss: 0.310846\n"
     ]
    },
    {
     "name": "stderr",
     "output_type": "stream",
     "text": [
      "tune_lambda_l1_and_lambda_l2, val_score: 0.310683:  90%|######### | 18/20 [07:47<01:02, 31.12s/it]"
     ]
    },
    {
     "name": "stdout",
     "output_type": "stream",
     "text": [
      "Training until validation scores don't improve for 100 rounds\n",
      "[100]\ttr's binary_logloss: 0.281409\tvl's binary_logloss: 0.310966\n",
      "[200]\ttr's binary_logloss: 0.263881\tvl's binary_logloss: 0.310608\n",
      "Early stopping, best iteration is:\n",
      "[155]\ttr's binary_logloss: 0.270926\tvl's binary_logloss: 0.310586\n"
     ]
    },
    {
     "name": "stderr",
     "output_type": "stream",
     "text": [
      "tune_lambda_l1_and_lambda_l2, val_score: 0.310586:  95%|#########5| 19/20 [08:08<00:28, 28.07s/it]"
     ]
    },
    {
     "name": "stdout",
     "output_type": "stream",
     "text": [
      "Training until validation scores don't improve for 100 rounds\n",
      "[100]\ttr's binary_logloss: 0.281186\tvl's binary_logloss: 0.311247\n",
      "[200]\ttr's binary_logloss: 0.263326\tvl's binary_logloss: 0.311248\n",
      "Early stopping, best iteration is:\n",
      "[179]\ttr's binary_logloss: 0.266724\tvl's binary_logloss: 0.311169\n"
     ]
    },
    {
     "name": "stderr",
     "output_type": "stream",
     "text": [
      "tune_lambda_l1_and_lambda_l2, val_score: 0.310586: 100%|##########| 20/20 [08:38<00:00, 25.95s/it]\n",
      "tune_min_child_samples, val_score: 0.310586:   0%|          | 0/5 [00:00<?, ?it/s]"
     ]
    },
    {
     "name": "stdout",
     "output_type": "stream",
     "text": [
      "Training until validation scores don't improve for 100 rounds\n",
      "[100]\ttr's binary_logloss: 0.281458\tvl's binary_logloss: 0.311409\n",
      "[200]\ttr's binary_logloss: 0.263803\tvl's binary_logloss: 0.311029\n",
      "[300]\ttr's binary_logloss: 0.249691\tvl's binary_logloss: 0.311142\n",
      "Early stopping, best iteration is:\n",
      "[208]\ttr's binary_logloss: 0.262668\tvl's binary_logloss: 0.31094\n"
     ]
    },
    {
     "name": "stderr",
     "output_type": "stream",
     "text": [
      "tune_min_child_samples, val_score: 0.310586:  20%|##        | 1/5 [00:26<01:45, 26.35s/it]"
     ]
    },
    {
     "name": "stdout",
     "output_type": "stream",
     "text": [
      "Training until validation scores don't improve for 100 rounds\n",
      "[100]\ttr's binary_logloss: 0.281466\tvl's binary_logloss: 0.311107\n",
      "[200]\ttr's binary_logloss: 0.264295\tvl's binary_logloss: 0.310939\n",
      "Early stopping, best iteration is:\n",
      "[172]\ttr's binary_logloss: 0.268644\tvl's binary_logloss: 0.310844\n"
     ]
    },
    {
     "name": "stderr",
     "output_type": "stream",
     "text": [
      "tune_min_child_samples, val_score: 0.310586:  40%|####      | 2/5 [00:54<01:20, 26.83s/it]"
     ]
    },
    {
     "name": "stdout",
     "output_type": "stream",
     "text": [
      "Training until validation scores don't improve for 100 rounds\n",
      "[100]\ttr's binary_logloss: 0.281526\tvl's binary_logloss: 0.310883\n",
      "[200]\ttr's binary_logloss: 0.263511\tvl's binary_logloss: 0.310864\n",
      "Early stopping, best iteration is:\n",
      "[118]\ttr's binary_logloss: 0.277866\tvl's binary_logloss: 0.310703\n"
     ]
    },
    {
     "name": "stderr",
     "output_type": "stream",
     "text": [
      "tune_min_child_samples, val_score: 0.310586:  60%|######    | 3/5 [01:15<00:49, 24.97s/it]"
     ]
    },
    {
     "name": "stdout",
     "output_type": "stream",
     "text": [
      "Training until validation scores don't improve for 100 rounds\n",
      "[100]\ttr's binary_logloss: 0.281648\tvl's binary_logloss: 0.311089\n",
      "[200]\ttr's binary_logloss: 0.264325\tvl's binary_logloss: 0.31077\n",
      "Early stopping, best iteration is:\n",
      "[186]\ttr's binary_logloss: 0.26652\tvl's binary_logloss: 0.310702\n"
     ]
    },
    {
     "name": "stderr",
     "output_type": "stream",
     "text": [
      "tune_min_child_samples, val_score: 0.310586:  80%|########  | 4/5 [01:36<00:23, 23.82s/it]"
     ]
    },
    {
     "name": "stdout",
     "output_type": "stream",
     "text": [
      "Training until validation scores don't improve for 100 rounds\n",
      "[100]\ttr's binary_logloss: 0.282162\tvl's binary_logloss: 0.311156\n",
      "[200]\ttr's binary_logloss: 0.265056\tvl's binary_logloss: 0.311051\n",
      "Early stopping, best iteration is:\n",
      "[147]\ttr's binary_logloss: 0.27372\tvl's binary_logloss: 0.310959\n"
     ]
    },
    {
     "name": "stderr",
     "output_type": "stream",
     "text": [
      "tune_min_child_samples, val_score: 0.310586: 100%|##########| 5/5 [02:03<00:00, 24.78s/it]\n"
     ]
    },
    {
     "name": "stdout",
     "output_type": "stream",
     "text": [
      "CPU times: user 1h 21min 33s, sys: 1h 54min 58s, total: 3h 16min 31s\n",
      "Wall time: 29min 51s\n"
     ]
    }
   ],
   "source": [
    "%%time\n",
    "dtr = lgb.Dataset(dftr[cols_feat], label=dftr[TCOL])\n",
    "dvl = lgb.Dataset(dfvl[cols_feat], label=dfvl[TCOL])\n",
    "best_params, tuning_history = {}, []\n",
    "evalres = {}\n",
    "evallist = [(dtr, 'train'), (dvl, 'eval')]\n",
    "bst = lgb.train(params=params, \n",
    "                train_set=dtr, \n",
    "                num_boost_round=50000,\n",
    "                valid_sets=[dtr, dvl],\n",
    "                valid_names=['tr','vl'],\n",
    "                best_params=best_params,\n",
    "                tuning_history=tuning_history,\n",
    "                verbose_eval=100,\n",
    "                early_stopping_rounds=100,\n",
    "                evals_result=evalres,\n",
    "               )\n",
    "results['bst'] = bst\n",
    "results['evalres'] = evalres\n",
    "results['best_params']=best_params\n",
    "results['tuning_history']=tuning_history"
   ]
  },
  {
   "cell_type": "markdown",
   "metadata": {},
   "source": [
    "## best_params"
   ]
  },
  {
   "cell_type": "code",
   "execution_count": 20,
   "metadata": {},
   "outputs": [
    {
     "data": {
      "text/plain": [
       "{'lambda_l1': 4.696634424877054e-07,\n",
       " 'lambda_l2': 0.841364284604577,\n",
       " 'num_leaves': 137,\n",
       " 'feature_fraction': 0.4,\n",
       " 'bagging_fraction': 1.0,\n",
       " 'bagging_freq': 0,\n",
       " 'min_child_samples': 20}"
      ]
     },
     "execution_count": 20,
     "metadata": {},
     "output_type": "execute_result"
    }
   ],
   "source": [
    "best_params"
   ]
  },
  {
   "cell_type": "markdown",
   "metadata": {},
   "source": [
    "## tr vl trajec"
   ]
  },
  {
   "cell_type": "code",
   "execution_count": 21,
   "metadata": {},
   "outputs": [
    {
     "data": {
      "image/png": "[encoded data removed]",
      "text/plain": [
       "<Figure size 432x288 with 1 Axes>"
      ]
     },
     "metadata": {
      "needs_background": "light"
     },
     "output_type": "display_data"
    }
   ],
   "source": [
    "plt.plot(evalres['tr']['binary_logloss'])\n",
    "plt.plot(evalres['vl']['binary_logloss'])\n",
    "plt.title(f\"logloss; best_iteration {bst.best_iteration}\")\n",
    "plt.show()"
   ]
  },
  {
   "cell_type": "markdown",
   "metadata": {},
   "source": [
    "## model features"
   ]
  },
  {
   "cell_type": "code",
   "execution_count": 22,
   "metadata": {
    "scrolled": true
   },
   "outputs": [
    {
     "data": {
      "image/png": "[encoded data removed]",
      "text/plain": [
       "<Figure size 720x1080 with 1 Axes>"
      ]
     },
     "metadata": {
      "needs_background": "light"
     },
     "output_type": "display_data"
    }
   ],
   "source": [
    "ax = lgb.plot_importance(bst, height=0.8, max_num_features=50, figsize=(10,15))\n",
    "ax.grid(False, axis=\"y\")\n",
    "ax.set_title(f'Estimated feature importance')\n",
    "plt.show()"
   ]
  },
  {
   "cell_type": "code",
   "execution_count": 23,
   "metadata": {},
   "outputs": [
    {
     "data": {
      "text/html": [
       "<div>\n",
       "<style scoped>\n",
       "    .dataframe tbody tr th:only-of-type {\n",
       "        vertical-align: middle;\n",
       "    }\n",
       "\n",
       "    .dataframe tbody tr th {\n",
       "        vertical-align: top;\n",
       "    }\n",
       "\n",
       "    .dataframe thead th {\n",
       "        text-align: right;\n",
       "    }\n",
       "</style>\n",
       "<table border=\"1\" class=\"dataframe\">\n",
       "  <thead>\n",
       "    <tr style=\"text-align: right;\">\n",
       "      <th></th>\n",
       "      <th>0</th>\n",
       "      <th>1</th>\n",
       "    </tr>\n",
       "  </thead>\n",
       "  <tbody>\n",
       "    <tr>\n",
       "      <th>28</th>\n",
       "      <td>langhour</td>\n",
       "      <td>2497</td>\n",
       "    </tr>\n",
       "    <tr>\n",
       "      <th>6</th>\n",
       "      <td>u2_fllwng_cnt</td>\n",
       "      <td>1473</td>\n",
       "    </tr>\n",
       "    <tr>\n",
       "      <th>3</th>\n",
       "      <td>u1_fllwing_cnt</td>\n",
       "      <td>1377</td>\n",
       "    </tr>\n",
       "    <tr>\n",
       "      <th>2</th>\n",
       "      <td>u1_fllwer_cnt</td>\n",
       "      <td>1364</td>\n",
       "    </tr>\n",
       "    <tr>\n",
       "      <th>11</th>\n",
       "      <td>len_toks</td>\n",
       "      <td>1336</td>\n",
       "    </tr>\n",
       "    <tr>\n",
       "      <th>26</th>\n",
       "      <td>u1_fllwer_cnt_by_age</td>\n",
       "      <td>1282</td>\n",
       "    </tr>\n",
       "    <tr>\n",
       "      <th>5</th>\n",
       "      <td>u2_fllwer_cnt</td>\n",
       "      <td>1243</td>\n",
       "    </tr>\n",
       "    <tr>\n",
       "      <th>21</th>\n",
       "      <td>tmdlta_twtu1</td>\n",
       "      <td>1173</td>\n",
       "    </tr>\n",
       "    <tr>\n",
       "      <th>23</th>\n",
       "      <td>twt_age</td>\n",
       "      <td>1152</td>\n",
       "    </tr>\n",
       "    <tr>\n",
       "      <th>27</th>\n",
       "      <td>u1_fllwng_cnt_by_age</td>\n",
       "      <td>1132</td>\n",
       "    </tr>\n",
       "    <tr>\n",
       "      <th>20</th>\n",
       "      <td>tmdlta_u2u1</td>\n",
       "      <td>1089</td>\n",
       "    </tr>\n",
       "    <tr>\n",
       "      <th>25</th>\n",
       "      <td>u2_age</td>\n",
       "      <td>987</td>\n",
       "    </tr>\n",
       "    <tr>\n",
       "      <th>24</th>\n",
       "      <td>u1_age</td>\n",
       "      <td>900</td>\n",
       "    </tr>\n",
       "    <tr>\n",
       "      <th>22</th>\n",
       "      <td>tmdlta_twtu2</td>\n",
       "      <td>886</td>\n",
       "    </tr>\n",
       "    <tr>\n",
       "      <th>1</th>\n",
       "      <td>lang</td>\n",
       "      <td>630</td>\n",
       "    </tr>\n",
       "    <tr>\n",
       "      <th>19</th>\n",
       "      <td>hour</td>\n",
       "      <td>466</td>\n",
       "    </tr>\n",
       "    <tr>\n",
       "      <th>15</th>\n",
       "      <td>n_hshtgs</td>\n",
       "      <td>388</td>\n",
       "    </tr>\n",
       "    <tr>\n",
       "      <th>0</th>\n",
       "      <td>twttyp</td>\n",
       "      <td>334</td>\n",
       "    </tr>\n",
       "    <tr>\n",
       "      <th>18</th>\n",
       "      <td>dayofweek</td>\n",
       "      <td>301</td>\n",
       "    </tr>\n",
       "    <tr>\n",
       "      <th>16</th>\n",
       "      <td>n_media</td>\n",
       "      <td>236</td>\n",
       "    </tr>\n",
       "    <tr>\n",
       "      <th>12</th>\n",
       "      <td>n_media_Photo</td>\n",
       "      <td>212</td>\n",
       "    </tr>\n",
       "    <tr>\n",
       "      <th>8</th>\n",
       "      <td>u1_fllw_u2</td>\n",
       "      <td>124</td>\n",
       "    </tr>\n",
       "    <tr>\n",
       "      <th>13</th>\n",
       "      <td>n_media_Video</td>\n",
       "      <td>112</td>\n",
       "    </tr>\n",
       "    <tr>\n",
       "      <th>17</th>\n",
       "      <td>n_domns</td>\n",
       "      <td>111</td>\n",
       "    </tr>\n",
       "    <tr>\n",
       "      <th>4</th>\n",
       "      <td>u1_vrfed</td>\n",
       "      <td>91</td>\n",
       "    </tr>\n",
       "    <tr>\n",
       "      <th>10</th>\n",
       "      <td>u2inu1</td>\n",
       "      <td>84</td>\n",
       "    </tr>\n",
       "    <tr>\n",
       "      <th>14</th>\n",
       "      <td>n_media_GIF</td>\n",
       "      <td>49</td>\n",
       "    </tr>\n",
       "    <tr>\n",
       "      <th>9</th>\n",
       "      <td>u1inu2</td>\n",
       "      <td>31</td>\n",
       "    </tr>\n",
       "    <tr>\n",
       "      <th>7</th>\n",
       "      <td>u2_vrfed</td>\n",
       "      <td>20</td>\n",
       "    </tr>\n",
       "  </tbody>\n",
       "</table>\n",
       "</div>"
      ],
      "text/plain": [
       "                       0     1\n",
       "28              langhour  2497\n",
       "6          u2_fllwng_cnt  1473\n",
       "3         u1_fllwing_cnt  1377\n",
       "2          u1_fllwer_cnt  1364\n",
       "11              len_toks  1336\n",
       "26  u1_fllwer_cnt_by_age  1282\n",
       "5          u2_fllwer_cnt  1243\n",
       "21          tmdlta_twtu1  1173\n",
       "23               twt_age  1152\n",
       "27  u1_fllwng_cnt_by_age  1132\n",
       "20           tmdlta_u2u1  1089\n",
       "25                u2_age   987\n",
       "24                u1_age   900\n",
       "22          tmdlta_twtu2   886\n",
       "1                   lang   630\n",
       "19                  hour   466\n",
       "15              n_hshtgs   388\n",
       "0                 twttyp   334\n",
       "18             dayofweek   301\n",
       "16               n_media   236\n",
       "12         n_media_Photo   212\n",
       "8             u1_fllw_u2   124\n",
       "13         n_media_Video   112\n",
       "17               n_domns   111\n",
       "4               u1_vrfed    91\n",
       "10                u2inu1    84\n",
       "14           n_media_GIF    49\n",
       "9                 u1inu2    31\n",
       "7               u2_vrfed    20"
      ]
     },
     "execution_count": 23,
     "metadata": {},
     "output_type": "execute_result"
    }
   ],
   "source": [
    "pd.DataFrame([bst.feature_name(), bst.feature_importance()]).T.sort_values(1, ascending=False)"
   ]
  },
  {
   "cell_type": "code",
   "execution_count": 24,
   "metadata": {},
   "outputs": [
    {
     "data": {
      "text/plain": [
       "[('langhour', 2497),\n",
       " ('u2_fllwng_cnt', 1473),\n",
       " ('u1_fllwing_cnt', 1377),\n",
       " ('u1_fllwer_cnt', 1364),\n",
       " ('len_toks', 1336),\n",
       " ('u1_fllwer_cnt_by_age', 1282),\n",
       " ('u2_fllwer_cnt', 1243),\n",
       " ('tmdlta_twtu1', 1173),\n",
       " ('twt_age', 1152),\n",
       " ('u1_fllwng_cnt_by_age', 1132),\n",
       " ('tmdlta_u2u1', 1089),\n",
       " ('u2_age', 987),\n",
       " ('u1_age', 900),\n",
       " ('tmdlta_twtu2', 886),\n",
       " ('lang', 630),\n",
       " ('hour', 466),\n",
       " ('n_hshtgs', 388),\n",
       " ('twttyp', 334),\n",
       " ('dayofweek', 301),\n",
       " ('n_media', 236),\n",
       " ('n_media_Photo', 212),\n",
       " ('u1_fllw_u2', 124),\n",
       " ('n_media_Video', 112),\n",
       " ('n_domns', 111),\n",
       " ('u1_vrfed', 91),\n",
       " ('u2inu1', 84),\n",
       " ('n_media_GIF', 49),\n",
       " ('u1inu2', 31),\n",
       " ('u2_vrfed', 20)]"
      ]
     },
     "execution_count": 24,
     "metadata": {},
     "output_type": "execute_result"
    }
   ],
   "source": [
    "col2imp = dict(zip(bst.feature_name(), bst.feature_importance()))\n",
    "sorted(col2imp.items(), key=lambda x: -x[1])"
   ]
  },
  {
   "cell_type": "code",
   "execution_count": 25,
   "metadata": {},
   "outputs": [
    {
     "data": {
      "text/plain": [
       "['langhour',\n",
       " 'u2_fllwng_cnt',\n",
       " 'u1_fllwing_cnt',\n",
       " 'u1_fllwer_cnt',\n",
       " 'len_toks',\n",
       " 'u1_fllwer_cnt_by_age',\n",
       " 'u2_fllwer_cnt',\n",
       " 'tmdlta_twtu1',\n",
       " 'twt_age',\n",
       " 'u1_fllwng_cnt_by_age',\n",
       " 'tmdlta_u2u1',\n",
       " 'u2_age',\n",
       " 'u1_age',\n",
       " 'tmdlta_twtu2',\n",
       " 'lang',\n",
       " 'hour',\n",
       " 'n_hshtgs',\n",
       " 'twttyp',\n",
       " 'dayofweek',\n",
       " 'n_media',\n",
       " 'n_media_Photo',\n",
       " 'u1_fllw_u2',\n",
       " 'n_media_Video',\n",
       " 'n_domns',\n",
       " 'u1_vrfed',\n",
       " 'u2inu1',\n",
       " 'n_media_GIF',\n",
       " 'u1inu2',\n",
       " 'u2_vrfed']"
      ]
     },
     "execution_count": 25,
     "metadata": {},
     "output_type": "execute_result"
    }
   ],
   "source": [
    "[o[0] for o in sorted(col2imp.items(), key=lambda x: -x[1]) if o[1]>0]"
   ]
  },
  {
   "cell_type": "code",
   "execution_count": null,
   "metadata": {},
   "outputs": [],
   "source": []
  },
  {
   "cell_type": "markdown",
   "metadata": {},
   "source": [
    "# eval"
   ]
  },
  {
   "cell_type": "code",
   "execution_count": 26,
   "metadata": {},
   "outputs": [
    {
     "name": "stdout",
     "output_type": "stream",
     "text": [
      "CPU times: user 51.6 s, sys: 2.45 s, total: 54.1 s\n",
      "Wall time: 10.1 s\n"
     ]
    }
   ],
   "source": [
    "%%time\n",
    "prdtr = bst.predict(dftr[cols_feat],num_iteration=bst.best_iteration)\n",
    "prdvl = bst.predict(dfvl[cols_feat],num_iteration=bst.best_iteration)\n",
    "prdval0 = bst.predict(dfval[cols_feat],num_iteration=bst.best_iteration)\n",
    "prdval = calibration(prdval0, train_pop, target_pop, sampled_train_pop, sampled_target_pop)"
   ]
  },
  {
   "cell_type": "code",
   "execution_count": 27,
   "metadata": {},
   "outputs": [
    {
     "name": "stdout",
     "output_type": "stream",
     "text": [
      "CPU times: user 5.91 s, sys: 209 ms, total: 6.12 s\n",
      "Wall time: 5.95 s\n"
     ]
    }
   ],
   "source": [
    "%%time\n",
    "ytr,yvl,yval=[df[TCOL].values for df in (dftr,dfvl,dfval)]\n",
    "\n",
    "auc_tr=compute_prauc(prdtr, ytr)\n",
    "rce_tr=compute_rce(prdtr, ytr)\n",
    "auc_vl=compute_prauc(prdvl, yvl)\n",
    "rce_vl=compute_rce(prdvl, yvl)\n",
    "auc_val=compute_prauc(prdval, yval)\n",
    "rce_val=compute_rce(prdval, yval)\n",
    "\n",
    "results['scrs'] = {}\n",
    "results['scrs']['auc_tr']=auc_tr\n",
    "results['scrs']['rce_tr']=rce_tr\n",
    "results['scrs']['auc_vl']=auc_vl\n",
    "results['scrs']['rce_vl']=rce_vl\n",
    "results['scrs']['auc_val']=auc_val\n",
    "results['scrs']['rce_val']=rce_val"
   ]
  },
  {
   "cell_type": "code",
   "execution_count": 28,
   "metadata": {},
   "outputs": [
    {
     "name": "stdout",
     "output_type": "stream",
     "text": [
      "auc_tr:  0.4908\n",
      "auc_vl:  0.3239\n",
      "auc_val: 0.3098\n",
      "\n",
      "rce_tr:  23.4173\n",
      "rce_vl:  12.6544\n",
      "rce_val: 11.7162\n"
     ]
    }
   ],
   "source": [
    "print(f'auc_tr:  {auc_tr:.4f}')\n",
    "print(f'auc_vl:  {auc_vl:.4f}')\n",
    "print(f'auc_val: {auc_val:.4f}')\n",
    "print()\n",
    "print(f'rce_tr:  {rce_tr:.4f}')\n",
    "print(f'rce_vl:  {rce_vl:.4f}')\n",
    "print(f'rce_val: {rce_val:.4f}')"
   ]
  },
  {
   "cell_type": "markdown",
   "metadata": {},
   "source": [
    "## score"
   ]
  },
  {
   "cell_type": "code",
   "execution_count": 29,
   "metadata": {},
   "outputs": [
    {
     "name": "stdout",
     "output_type": "stream",
     "text": [
      "-0.3098-11.7162\n"
     ]
    }
   ],
   "source": [
    "print(f'-{auc_val:.4f}-{rce_val:.4f}')"
   ]
  },
  {
   "cell_type": "markdown",
   "metadata": {},
   "source": [
    "# save results"
   ]
  },
  {
   "cell_type": "code",
   "execution_count": 30,
   "metadata": {},
   "outputs": [],
   "source": [
    "pickle.dump(results, open(f'{p_out}/results_{PRFX}.p', 'wb'))"
   ]
  },
  {
   "cell_type": "markdown",
   "metadata": {},
   "source": [
    "# infer"
   ]
  },
  {
   "cell_type": "code",
   "execution_count": 31,
   "metadata": {},
   "outputs": [],
   "source": [
    "results = pickle.load( open(f'{p_out}/results_{PRFX}.p', 'rb'))\n",
    "bst = results['bst']\n",
    "col2tgtenc = results['col2tgtenc']\n",
    "cols_feat = results['cols_feat']\n",
    "tgt_encoder = results['tgt_encoder']"
   ]
  },
  {
   "cell_type": "markdown",
   "metadata": {},
   "source": [
    "## prep"
   ]
  },
  {
   "cell_type": "code",
   "execution_count": 32,
   "metadata": {},
   "outputs": [
    {
     "name": "stdout",
     "output_type": "stream",
     "text": [
      "CPU times: user 9.7 ms, sys: 0 ns, total: 9.7 ms\n",
      "Wall time: 18.6 ms\n"
     ]
    }
   ],
   "source": [
    "%%time\n",
    "dftst=pd.read_csv(\n",
    "    f'{p_in}/val_{tsttmstmp}.tsv',\n",
    "    sep='\\x01', header=None, names=cols_val, \n",
    "    nrows=10\n",
    ")"
   ]
  },
  {
   "cell_type": "code",
   "execution_count": 33,
   "metadata": {
    "scrolled": true
   },
   "outputs": [
    {
     "name": "stdout",
     "output_type": "stream",
     "text": [
      "2020-04-11 21:18:50 start\n",
      "2020-04-11 21:18:50 freq of columns using CountEncoder\n"
     ]
    },
    {
     "name": "stderr",
     "output_type": "stream",
     "text": [
      "/data/anaconda3/envs/rcss20/lib/python3.7/site-packages/category_encoders/count.py:255: FutureWarning: The pandas.np module is deprecated and will be removed from pandas in a future version. Import numpy directly instead\n",
      "  X.loc[:, self.cols] = X.fillna(value=pd.np.nan)\n"
     ]
    },
    {
     "name": "stdout",
     "output_type": "stream",
     "text": [
      "2020-04-11 21:18:50 freq of tags\n",
      "2020-04-11 21:18:50 done\n",
      "CPU times: user 208 ms, sys: 6.31 ms, total: 214 ms\n",
      "Wall time: 242 ms\n"
     ]
    }
   ],
   "source": [
    "%%time\n",
    "dftst=prp_df(dftst, tm_max=tm_tst_max)"
   ]
  },
  {
   "cell_type": "code",
   "execution_count": 34,
   "metadata": {},
   "outputs": [],
   "source": [
    "encoded_tst = tgt_encoder.transform(dftst[col2tgtenc].astype(object))\n",
    "tgtenc_columns = [f'tgtenc_{col}' for col in encoded_tst.columns]\n",
    "encoded_tst.columns = tgtenc_columns\n",
    "dftst = pd.concat([dftst, encoded_tst], 1)\n",
    "dftst.drop(columns=['u1id','u1u2'], inplace=True)\n",
    "cols_category=['twttyp', 'lang', 'langhour']\n",
    "dftst[cols_category]=dftst[cols_category].astype('category')"
   ]
  },
  {
   "cell_type": "markdown",
   "metadata": {},
   "source": [
    "## predict"
   ]
  },
  {
   "cell_type": "code",
   "execution_count": 35,
   "metadata": {},
   "outputs": [
    {
     "name": "stdout",
     "output_type": "stream",
     "text": [
      "CPU times: user 58.3 ms, sys: 207 ms, total: 266 ms\n",
      "Wall time: 61.6 ms\n"
     ]
    }
   ],
   "source": [
    "%%time\n",
    "prdtst0 = bst.predict(dftst[cols_feat],num_iteration=bst.best_iteration)\n",
    "prdtst = calibration(prdtst0, train_pop, target_pop, sampled_train_pop, sampled_target_pop)"
   ]
  },
  {
   "cell_type": "code",
   "execution_count": 36,
   "metadata": {},
   "outputs": [],
   "source": [
    "dfsub_ids = dftst[['twtid','u2id',]]\n",
    "dfsub = dfsub_ids.copy()\n",
    "dfsub['scr'] = prdtst\n",
    "dfsub.to_csv(f'{p_out}/{TGT}__{PRFX}.csv',index=False,header=False)"
   ]
  },
  {
   "cell_type": "code",
   "execution_count": null,
   "metadata": {},
   "outputs": [],
   "source": []
  },
  {
   "cell_type": "code",
   "execution_count": null,
   "metadata": {},
   "outputs": [],
   "source": []
  },
  {
   "cell_type": "code",
   "execution_count": null,
   "metadata": {},
   "outputs": [],
   "source": []
  }
 ],
 "metadata": {
  "kernelspec": {
   "display_name": "rcss20",
   "language": "python",
   "name": "rcss20"
  },
  "language_info": {
   "codemirror_mode": {
    "name": "ipython",
    "version": 3
   },
   "file_extension": ".py",
   "mimetype": "text/x-python",
   "name": "python",
   "nbconvert_exporter": "python",
   "pygments_lexer": "ipython3",
   "version": "3.7.6"
  },
  "toc": {
   "base_numbering": 1,
   "nav_menu": {},
   "number_sections": true,
   "sideBar": true,
   "skip_h1_title": false,
   "title_cell": "Table of Contents",
   "title_sidebar": "Contents",
   "toc_cell": false,
   "toc_position": {},
   "toc_section_display": true,
   "toc_window_display": true
  }
 },
 "nbformat": 4,
 "nbformat_minor": 4
}
