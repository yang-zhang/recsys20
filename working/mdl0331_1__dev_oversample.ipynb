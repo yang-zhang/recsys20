{
 "cells": [
  {
   "cell_type": "markdown",
   "metadata": {},
   "source": [
    "# start"
   ]
  },
  {
   "cell_type": "code",
   "execution_count": 94,
   "metadata": {},
   "outputs": [
    {
     "name": "stdout",
     "output_type": "stream",
     "text": [
      "train_total 150,000,000, test_total 14,000,000\n",
      "['2020-03-17 02:32:24', '2020-04-01 17:19:38']\n",
      "['2020-02-06 00:00:00', '2020-02-12 23:59:59']\n",
      "['2020-02-13 00:00:00', '2020-02-19 23:59:59']\n"
     ]
    }
   ],
   "source": [
    "PRFX='mdl0331_1'\n",
    "trntmstmp=1584412344\n",
    "valtmstmp=1585761578\n",
    "\n",
    "tm_trn_min,tm_trn_max=(1580947200, 1581551999)\n",
    "tm_val_min,tm_val_max=(1581552000, 1582156799)\n",
    "\n",
    "SEED=101\n",
    "\n",
    "valsz = int(1e3)\n",
    "trnsz = int(1e4)\n",
    "pos_rate_at_least = 0.1\n",
    "\n",
    "train_total=int(1.5e8)\n",
    "test_total=int(1.4e7)\n",
    "print(f'train_total {train_total:,}, test_total {test_total:,}')\n",
    "\n",
    "\n",
    "import datetime\n",
    "def showtm(tm): return datetime.datetime.fromtimestamp(tm).strftime('%Y-%m-%d %H:%M:%S')\n",
    "print([showtm(tm) for tm in (trntmstmp, valtmstmp)])\n",
    "print([showtm(tm) for tm in (tm_trn_min,tm_trn_max)])\n",
    "print([showtm(tm) for tm in (tm_val_min,tm_val_max)])"
   ]
  },
  {
   "cell_type": "markdown",
   "metadata": {},
   "source": [
    "# setup"
   ]
  },
  {
   "cell_type": "code",
   "execution_count": 95,
   "metadata": {},
   "outputs": [
    {
     "name": "stdout",
     "output_type": "stream",
     "text": [
      "{'Retweet': 'retwt', 'Reply': 'reply', 'Like': 'like', 'RTwCmnt': 'retwt_cmmnt'}\n"
     ]
    }
   ],
   "source": [
    "from tqdm import tqdm\n",
    "from pathlib import Path\n",
    "from collections import Counter\n",
    "from sklearn.model_selection import train_test_split\n",
    "import pandas as pd\n",
    "import numpy as np\n",
    "import matplotlib.pyplot as plt\n",
    "from sklearn.metrics import accuracy_score, roc_auc_score, roc_curve, auc, precision_recall_curve\n",
    "import pickle\n",
    "import xgboost as xgb\n",
    "import lightgbm as lgb\n",
    "\n",
    "pd.set_option('display.max_rows', 500)\n",
    "pd.set_option('display.max_columns', 500)\n",
    "\n",
    "\n",
    "import datetime\n",
    "def dtnow(): return datetime.datetime.now().strftime('%Y-%m-%d %H:%M:%S')\n",
    "\n",
    "def iou(s1,s2):\n",
    "    return len(s1&s2) / len(s1|s2)\n",
    "\n",
    "HOME='/data/git/recsys20'\n",
    "p_in=f'{HOME}/input'\n",
    "p_out=f'{HOME}/output/{PRFX}'\n",
    "Path(p_out).mkdir(exist_ok=True, parents=True)\n",
    "\n",
    "from sklearn.metrics import precision_recall_curve, auc, log_loss\n",
    "\n",
    "def compute_prauc(pred, gt):\n",
    "    prec, recall, thresh = precision_recall_curve(gt, pred)\n",
    "    prauc = auc(recall, prec)\n",
    "    return prauc\n",
    "\n",
    "def calculate_ctr(gt):\n",
    "    positive = len([x for x in gt if x == 1])\n",
    "    ctr = positive/float(len(gt))\n",
    "    return ctr\n",
    "\n",
    "def compute_rce(pred, gt):\n",
    "    cross_entropy = log_loss(gt, pred)\n",
    "    data_ctr = calculate_ctr(gt)\n",
    "    strawman_cross_entropy = log_loss(gt, [data_ctr for _ in range(len(gt))])\n",
    "    return (1.0 - cross_entropy/strawman_cross_entropy)*100.0\n",
    "\n",
    "cols=['toks','hshtgs','twtid','media','links','domns','twttyp','lang','tm','u1id','u1_fllwer_cnt','u1_fllwing_cnt','u1_vrfed','u1_create_tm','u2id','u2_follower_cnt','u2_following_cnt','u2_vrfed','u2_create_tm','u1_fllw_u2','reply_tm','retwt_tm','retwt_cmmnt_tm','like_tm',]\n",
    "\n",
    "cols_val = cols[:-4]\n",
    "cols_tgt_tmstmp=[ 'retwt_tm', 'reply_tm', 'like_tm', 'retwt_cmmnt_tm',]\n",
    "cols_tgt=[o.split('_tm')[0] for o in cols_tgt_tmstmp]\n",
    "tgts             = ['Retweet','Reply','Like','RTwCmnt',]\n",
    "assert cols_tgt == ['retwt',  'reply','like','retwt_cmmnt',]\n",
    "tgt2col = dict(zip(tgts, cols_tgt))\n",
    "print(tgt2col)\n",
    "ntgts=len(tgts)"
   ]
  },
  {
   "cell_type": "markdown",
   "metadata": {},
   "source": [
    "# prep"
   ]
  },
  {
   "cell_type": "code",
   "execution_count": 96,
   "metadata": {},
   "outputs": [],
   "source": [
    "df = pd.read_csv(f'{p_in}/trn_{trntmstmp}.tsv',sep='\\x01',header=None,names=cols,nrows=5)\n",
    "dfval = pd.read_csv(f'{p_in}/trn_{trntmstmp}.tsv',sep='\\x01',header=None,names=cols,nrows=2)\n",
    "dftrn = pd.read_csv(f'{p_in}/trn_{trntmstmp}.tsv',sep='\\x01',header=None,names=cols,skiprows=2,nrows=3)"
   ]
  },
  {
   "cell_type": "code",
   "execution_count": 97,
   "metadata": {},
   "outputs": [
    {
     "data": {
      "text/plain": [
       "0    D4D1EBDE74F74C5DA529959AF979625C\n",
       "1    BFB529DAB6D384EB83E899A72AB3830D\n",
       "2    519078C7834E9642508F72A6C2D0F3B7\n",
       "3    52AAE9E33EFAC8C478C57B31A9E31ED1\n",
       "4    89C1298C55EB3D68E2784F0BFB69E6F8\n",
       "Name: twtid, dtype: object"
      ]
     },
     "metadata": {},
     "output_type": "display_data"
    },
    {
     "data": {
      "text/plain": [
       "0    D4D1EBDE74F74C5DA529959AF979625C\n",
       "1    BFB529DAB6D384EB83E899A72AB3830D\n",
       "Name: twtid, dtype: object"
      ]
     },
     "metadata": {},
     "output_type": "display_data"
    },
    {
     "data": {
      "text/plain": [
       "0    519078C7834E9642508F72A6C2D0F3B7\n",
       "1    52AAE9E33EFAC8C478C57B31A9E31ED1\n",
       "2    89C1298C55EB3D68E2784F0BFB69E6F8\n",
       "Name: twtid, dtype: object"
      ]
     },
     "metadata": {},
     "output_type": "display_data"
    }
   ],
   "source": [
    "display(df.twtid)\n",
    "display(dfval.twtid)\n",
    "display(dftrn.twtid)"
   ]
  },
  {
   "cell_type": "code",
   "execution_count": 98,
   "metadata": {
    "scrolled": true
   },
   "outputs": [
    {
     "name": "stdout",
     "output_type": "stream",
     "text": [
      "CPU times: user 14.7 ms, sys: 0 ns, total: 14.7 ms\n",
      "Wall time: 13.2 ms\n"
     ]
    },
    {
     "data": {
      "text/plain": [
       "(1000, 24)"
      ]
     },
     "execution_count": 98,
     "metadata": {},
     "output_type": "execute_result"
    }
   ],
   "source": [
    "%%time\n",
    "dfval = pd.read_csv(f'{p_in}/trn_{trntmstmp}.tsv',sep='\\x01',header=None,names=cols,nrows=valsz)\n",
    "dfval.shape"
   ]
  },
  {
   "cell_type": "code",
   "execution_count": 99,
   "metadata": {},
   "outputs": [
    {
     "name": "stdout",
     "output_type": "stream",
     "text": [
      "CPU times: user 1.18 s, sys: 99.2 ms, total: 1.28 s\n",
      "Wall time: 1.28 s\n"
     ]
    },
    {
     "data": {
      "text/plain": [
       "(150000, 24)"
      ]
     },
     "execution_count": 99,
     "metadata": {},
     "output_type": "execute_result"
    }
   ],
   "source": [
    "%%time\n",
    "dftrn0 = pd.read_csv(f'{p_in}/trn_{trntmstmp}.tsv',sep='\\x01',header=None,names=cols,\n",
    "                     skiprows=valsz,nrows=min(1e6,trnsz*15))\n",
    "dftrn0.shape"
   ]
  },
  {
   "cell_type": "code",
   "execution_count": 100,
   "metadata": {},
   "outputs": [],
   "source": [
    "def prp_tm(df, col):\n",
    "    coldt=col+'_dt'\n",
    "    df[coldt]=pd.to_datetime(df[col], unit='s')\n",
    "    df[col+'_dayofweek']=df[coldt].dt.dayofweek\n",
    "    df[col+'_day']=df[coldt].dt.day\n",
    "    df[col+'_hour']=df[coldt].dt.hour\n",
    "\n",
    "def prpdf(df,istrn=True):\n",
    "    tags = ['hshtgs','media','links','domns',]\n",
    "    for tag in tags:\n",
    "        df[f'has_{tag}']=df[tag].notna()\n",
    "        df[tag]=df[tag].fillna('')\n",
    "        df[f'lst_{tag}']=df[tag].fillna('').apply(lambda x: x.split('\\t') if len(x) else [])\n",
    "        df[f'n_{tag}']=df[f'lst_{tag}'].apply(len)\n",
    "\n",
    "    df['toks']=df.toks.apply(lambda x: x.split('\\t'))\n",
    "    df['len_toks']=df.toks.apply(len)\n",
    "    \n",
    "    prp_tm(df, 'tm')\n",
    "    \n",
    "    df['tmdlta_u2u1']  = df.u2_create_tm - df.u1_create_tm\n",
    "    df['tmdlta_twtu1'] = df.tm - df.u1_create_tm\n",
    "    df['tmdlta_twtu2'] = df.tm - df.u2_create_tm\n",
    "    if istrn:\n",
    "        df['tmleft_twt']   = tm_trn_max-df.tm\n",
    "        df['tmleft_u1']    = tm_trn_max-df.u1_create_tm\n",
    "        df['tmleft_u2']    = tm_trn_max-df.u2_create_tm\n",
    "    else:\n",
    "        df['tmleft_twt']   = tm_val_max-df.tm\n",
    "        df['tmleft_u1']    = tm_val_max-df.u1_create_tm\n",
    "        df['tmleft_u2']    = tm_val_max-df.u2_create_tm\n",
    "    \n",
    "    if istrn: \n",
    "        df[cols_tgt]=df[cols_tgt_tmstmp].notna()\n",
    "        df['enged']=df[cols_tgt].sum(1).astype(bool)\n",
    "    return df    "
   ]
  },
  {
   "cell_type": "code",
   "execution_count": 101,
   "metadata": {
    "scrolled": false
   },
   "outputs": [
    {
     "name": "stdout",
     "output_type": "stream",
     "text": [
      "CPU times: user 1.56 s, sys: 228 ms, total: 1.79 s\n",
      "Wall time: 1.78 s\n"
     ]
    }
   ],
   "source": [
    "%%time\n",
    "dftrn0 = prpdf(dftrn0)"
   ]
  },
  {
   "cell_type": "code",
   "execution_count": 102,
   "metadata": {},
   "outputs": [
    {
     "name": "stdout",
     "output_type": "stream",
     "text": [
      "CPU times: user 266 ms, sys: 4.43 ms, total: 270 ms\n",
      "Wall time: 263 ms\n"
     ]
    }
   ],
   "source": [
    "%%time\n",
    "dfval = prpdf(dfval,istrn=False)"
   ]
  },
  {
   "cell_type": "code",
   "execution_count": 103,
   "metadata": {},
   "outputs": [
    {
     "data": {
      "text/plain": [
       "retwt          0.112273\n",
       "reply          0.027487\n",
       "like           0.438047\n",
       "retwt_cmmnt    0.007887\n",
       "dtype: float64"
      ]
     },
     "execution_count": 103,
     "metadata": {},
     "output_type": "execute_result"
    }
   ],
   "source": [
    "dftrn0[cols_tgt].mean()"
   ]
  },
  {
   "cell_type": "code",
   "execution_count": 104,
   "metadata": {},
   "outputs": [
    {
     "name": "stdout",
     "output_type": "stream",
     "text": [
      "retwt\n",
      "10000 0.1163\n",
      "reply\n",
      "10000 0.1\n",
      "like\n",
      "10000 0.4345\n",
      "retwt_cmmnt\n",
      "10000 0.1\n"
     ]
    }
   ],
   "source": [
    "np.random.seed(SEED)\n",
    "tgt2idxtrn = {}\n",
    "for tgt,col in tgt2col.items(): \n",
    "    pos_rate = dftrn0[col].mean()\n",
    "    if pos_rate>=pos_rate_at_least:\n",
    "        idxtrn = np.random.choice(range(len(dftrn0)), trnsz, replace=False)\n",
    "    else:\n",
    "        npos_at_least=int(trnsz*pos_rate_at_least)\n",
    "        idx_pos = np.where(dftrn0[col])[0]\n",
    "        idx_neg = np.where(~dftrn0[col])[0]\n",
    "        idxtrn_pos = np.random.choice(idx_pos, npos_at_least,       replace=False)\n",
    "        idxtrn_neg = np.random.choice(idx_neg, trnsz-npos_at_least, replace=False)\n",
    "        idxtrn = np.concatenate([idxtrn_pos,idxtrn_neg])\n",
    "        assert len(idxtrn)==len(set(idxtrn))\n",
    "        np.random.shuffle(idxtrn)\n",
    "    print(col)\n",
    "    dftrn=dftrn0.iloc[idxtrn]\n",
    "    print(len(dftrn), dftrn[col].mean())\n",
    "    tgt2idxtrn[tgt]=idxtrn    "
   ]
  },
  {
   "cell_type": "code",
   "execution_count": null,
   "metadata": {},
   "outputs": [],
   "source": []
  },
  {
   "cell_type": "code",
   "execution_count": null,
   "metadata": {},
   "outputs": [],
   "source": []
  }
 ],
 "metadata": {
  "kernelspec": {
   "display_name": "rcss20",
   "language": "python",
   "name": "rcss20"
  },
  "language_info": {
   "codemirror_mode": {
    "name": "ipython",
    "version": 3
   },
   "file_extension": ".py",
   "mimetype": "text/x-python",
   "name": "python",
   "nbconvert_exporter": "python",
   "pygments_lexer": "ipython3",
   "version": "3.7.6"
  },
  "toc": {
   "base_numbering": 1,
   "nav_menu": {},
   "number_sections": true,
   "sideBar": true,
   "skip_h1_title": false,
   "title_cell": "Table of Contents",
   "title_sidebar": "Contents",
   "toc_cell": false,
   "toc_position": {},
   "toc_section_display": true,
   "toc_window_display": true
  }
 },
 "nbformat": 4,
 "nbformat_minor": 4
}
