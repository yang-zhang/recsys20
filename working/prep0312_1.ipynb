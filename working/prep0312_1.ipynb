{
 "cells": [
  {
   "cell_type": "markdown",
   "metadata": {},
   "source": [
    "# start"
   ]
  },
  {
   "cell_type": "code",
   "execution_count": 1,
   "metadata": {},
   "outputs": [],
   "source": [
    "prfx='0312_1'"
   ]
  },
  {
   "cell_type": "code",
   "execution_count": 2,
   "metadata": {},
   "outputs": [],
   "source": [
    "import numpy as np\n",
    "from collections import Counter, defaultdict\n",
    "import torch\n",
    "from transformers import *\n",
    "from tqdm import tqdm\n",
    "import gc\n",
    "import pickle\n",
    "\n",
    "import pandas as pd\n",
    "pd.set_option('display.max_columns', 500)\n",
    "import dask.dataframe as dd\n",
    "\n",
    "import datetime\n",
    "def dtnow(): return datetime.datetime.now().strftime('%Y-%m-%d %H:%M:%S')\n",
    "\n",
    "\n",
    "HOME='/tmp/working/data/git/recsys20'\n",
    "p_in=f'{HOME}/input'\n",
    "\n",
    "# pretrained_weights='bert-base-multilingual-cased'\n",
    "# bertmodel = BertModel.from_pretrained(pretrained_weights)\n",
    "# tokenizer = BertTokenizer.from_pretrained(pretrained_weights, do_lower_case=False)\n",
    "\n",
    "# (rcss20) ➜  recsys20 git:(master) ✗ wc -l input/trn.tsv\n",
    "#  148,075,238 data/trn.tsv\n",
    "# (rcss20) ➜  recsys20 git:(master) ✗ wc -l input/val.tsv\n",
    "#  15,127,684 data/val.tsv\n",
    "\n",
    "# !head -500000 {p_in}/training.tsv > {p_in}/trn5e5.tsv\n",
    "# !head -50000  {p_in}/val.tsv      > {p_in}/val5e4.tsv"
   ]
  },
  {
   "cell_type": "code",
   "execution_count": 3,
   "metadata": {},
   "outputs": [],
   "source": [
    "cols=[\n",
    "'text_tokens',\n",
    "'hashtags',\n",
    "'tweet_id',\n",
    "'present_media',\n",
    "'present_links',\n",
    "'present_domains',\n",
    "'tweet_type',\n",
    "'language',\n",
    "'timestamp',\n",
    "\n",
    "'engaged_user_id',\n",
    "'engaged_follower_count',\n",
    "'engaged_following_count',\n",
    "'engaged_is_verified',\n",
    "'engaged_account_creation_time',\n",
    "\n",
    "'engaging_user_id',\n",
    "'engaging_follower_count',\n",
    "'engaging_following_count',\n",
    "'engaging_is_verified',\n",
    "'engaging_account_creation_time',\n",
    "\n",
    "'engagee_follows_engager',\n",
    "'reply_engagement_timestamp',\n",
    "'retweet_engagement_timestamp',\n",
    "'retweet_with_comment_engagement_timestamp',\n",
    "'like_engagement_timestamp',\n",
    "]\n",
    "\n",
    "col2i={v:k for k,v in enumerate(cols)}\n",
    "\n",
    "cols_val=cols[:-4]\n",
    "cols_time=[\n",
    "'timestamp',\n",
    "'engaged_account_creation_time',\n",
    "'engaging_account_creation_time',\n",
    "'reply_engagement_timestamp',\n",
    "'retweet_engagement_timestamp',\n",
    "'retweet_with_comment_engagement_timestamp',\n",
    "'like_engagement_timestamp',\n",
    "]"
   ]
  },
  {
   "cell_type": "code",
   "execution_count": 4,
   "metadata": {},
   "outputs": [],
   "source": [
    "def readcols(cols2use):\n",
    "    return pd.read_csv(f'{p_in}/trn.tsv',sep='\\x01',encoding='utf8',header=None,\n",
    "                usecols=[col2i[col] for col in cols2use],names=cols2use)\n",
    "\n",
    "def readchnks(cols2use=cols, chunksize=1e6):\n",
    "    return pd.read_csv(f'{p_in}/trn.tsv',sep='\\x01',header=None,encoding='utf8',\n",
    "                       usecols=[col2i[col] for col in cols2use],names=cols2use,\n",
    "                       chunksize=chunksize)"
   ]
  },
  {
   "cell_type": "markdown",
   "metadata": {},
   "source": [
    "# make maps"
   ]
  },
  {
   "cell_type": "markdown",
   "metadata": {},
   "source": [
    "## val"
   ]
  },
  {
   "cell_type": "code",
   "execution_count": 4,
   "metadata": {
    "scrolled": true
   },
   "outputs": [
    {
     "name": "stdout",
     "output_type": "stream",
     "text": [
      "CPU times: user 1min 11s, sys: 7.62 s, total: 1min 19s\n",
      "Wall time: 1min 56s\n"
     ]
    }
   ],
   "source": [
    "%%time\n",
    "dfval=pd.read_csv(f'{p_in}/val.tsv',sep='\\x01',encoding='utf8',header=None,\n",
    "                  usecols=range(1,len(cols_val)),names=cols_val[1:],)"
   ]
  },
  {
   "cell_type": "code",
   "execution_count": 5,
   "metadata": {},
   "outputs": [
    {
     "data": {
      "text/plain": [
       "'len(dfval): 15,127,684'"
      ]
     },
     "execution_count": 5,
     "metadata": {},
     "output_type": "execute_result"
    }
   ],
   "source": [
    "f'len(dfval): {len(dfval):,}'"
   ]
  },
  {
   "cell_type": "code",
   "execution_count": 6,
   "metadata": {},
   "outputs": [
    {
     "name": "stdout",
     "output_type": "stream",
     "text": [
      "nunq_twts_val: 10,799,267\n",
      "nunq_enged_usrs_val: 4,281,756\n",
      "nunq_engng_usrs_val: 7,662,966\n"
     ]
    }
   ],
   "source": [
    "unq_twts_val = dfval.tweet_id.unique()\n",
    "unq_enged_usrs_val = dfval.engaged_user_id.unique()\n",
    "unq_engng_usrs_val = dfval.engaging_user_id.unique()\n",
    "\n",
    "nunq_twts_val = len(unq_twts_val)\n",
    "nunq_enged_usrs_val = len(unq_enged_usrs_val)\n",
    "nunq_engng_usrs_val = len(unq_engng_usrs_val)\n",
    "\n",
    "print(f'nunq_twts_val: {nunq_twts_val:,}' )\n",
    "print(f'nunq_enged_usrs_val: {nunq_enged_usrs_val:,}')\n",
    "print(f'nunq_engng_usrs_val: {nunq_engng_usrs_val:,}')"
   ]
  },
  {
   "cell_type": "code",
   "execution_count": 7,
   "metadata": {},
   "outputs": [],
   "source": [
    "i2twttyp=list(dfval.tweet_type.value_counts().index.values)\n",
    "twttyp2i={v:k for k,v in enumerate(i2twttyp)}"
   ]
  },
  {
   "cell_type": "code",
   "execution_count": 8,
   "metadata": {},
   "outputs": [
    {
     "data": {
      "text/plain": [
       "D3164C7FBCF2565DDF915B1B3AEFB1DC    6477021\n",
       "22C448FF81263D4BAF2A176145EE9EAD    2368013\n",
       "06D61DCBBE938971E1EA0C38BD9B5446    1313750\n",
       "ECED8A16BE2A5E8871FD55F4842F16B1    1087316\n",
       "B9175601E87101A984A50F8A62A1C374     772950\n",
       "                                     ...   \n",
       "4690215948DBF6872B8ED1C2BC87B17E         81\n",
       "D18801336202297E6484F634CAC6592E         58\n",
       "2E18F6F53E3CF073911AF0A93BBE5373          4\n",
       "B2235C8B73239FDC5780DD132419833A          3\n",
       "515E873C86EE1577E75FA2387B7FA59E          1\n",
       "Name: language, Length: 66, dtype: int64"
      ]
     },
     "execution_count": 8,
     "metadata": {},
     "output_type": "execute_result"
    }
   ],
   "source": [
    "dfval.language.value_counts()"
   ]
  },
  {
   "cell_type": "code",
   "execution_count": 9,
   "metadata": {},
   "outputs": [],
   "source": [
    "i2lang=list(dfval.language.value_counts().index.values)\n",
    "lang2i={v:k for k,v in enumerate(i2lang)}"
   ]
  },
  {
   "cell_type": "code",
   "execution_count": 11,
   "metadata": {},
   "outputs": [],
   "source": [
    "hshtg2cnt=Counter(j for i in dfval.hashtags.dropna().apply(lambda x: x.split('\\t')) for j in i)\n",
    "i2hshtg=[o[0] for o in hshtg2cnt.most_common()]\n",
    "hshtg2i={v:k for k,v in enumerate(i2hshtg)}"
   ]
  },
  {
   "cell_type": "code",
   "execution_count": 12,
   "metadata": {},
   "outputs": [],
   "source": [
    "link2cnt=Counter(j for i in dfval.present_links.dropna().apply(lambda x: x.split('\\t')) for j in i)\n",
    "i2link=[o[0] for o in link2cnt.most_common()]\n",
    "link2i={v:k for k,v in enumerate(i2link)}"
   ]
  },
  {
   "cell_type": "code",
   "execution_count": 13,
   "metadata": {
    "scrolled": true
   },
   "outputs": [
    {
     "data": {
      "text/plain": [
       "[('E522B6C629B01DA6B29DE65BF5DFA55B', 3597),\n",
       " ('979B4F7F5C3B6AC61479D7E0070A2D17', 3136),\n",
       " ('140BCA0056E50C79778369C95D6DDC63', 1483),\n",
       " ('6F4FC1683D0D6FEC76DDBE6C699BCF10', 1222),\n",
       " ('52B4B186BC13C290B696BD5D304DA89A', 999),\n",
       " ('4A939FCEAF42B180561F4B7D8ACE2406', 911),\n",
       " ('180511B4A939ADAD39FDB6604C1A9AC5', 899),\n",
       " ('FF3D932C8BDCBC65A6D0A834418B03FB', 897),\n",
       " ('EF4BB86374435F3327FA6DFD08350868', 846),\n",
       " ('608B880AE03A9C931AEF7F855D0118B4', 829)]"
      ]
     },
     "execution_count": 13,
     "metadata": {},
     "output_type": "execute_result"
    }
   ],
   "source": [
    "link2cnt.most_common(10)"
   ]
  },
  {
   "cell_type": "code",
   "execution_count": 14,
   "metadata": {},
   "outputs": [],
   "source": [
    "domn2cnt=Counter(j for i in dfval.present_domains.dropna().apply(lambda x: x.split('\\t')) for j in i)\n",
    "i2domn=[o[0] for o in domn2cnt.most_common()]\n",
    "domn2i={v:k for k,v in enumerate(i2domn)}"
   ]
  },
  {
   "cell_type": "code",
   "execution_count": 15,
   "metadata": {
    "scrolled": true
   },
   "outputs": [
    {
     "data": {
      "text/plain": [
       "[('3896E26D12C903F0A00B6B1BE9A9BEA3', 201179),\n",
       " ('E91CDEC8DC7ABF30592FA024616FF970', 129797),\n",
       " ('FECA6F2E8244F2294BD2CE957C0602A9', 96457),\n",
       " ('FCA72262B99BB78F010B25C882A0C93C', 55659),\n",
       " ('A32007FFB62B2DFC4E449BD37F985C53', 32502),\n",
       " ('9E34EBC679CA0BC677D198BEE3E37113', 31259),\n",
       " ('A898ECD422D0575A276A0D74CD01C867', 28438),\n",
       " ('BBA1D3359A23689C6783652EA73B12BA', 23125),\n",
       " ('D0120C5A771484D1765BBA60461666B9', 17456),\n",
       " ('979ECC05068307E0490EA1B9B9B44411', 17080)]"
      ]
     },
     "execution_count": 15,
     "metadata": {},
     "output_type": "execute_result"
    }
   ],
   "source": [
    "domn2cnt.most_common(10)"
   ]
  },
  {
   "cell_type": "markdown",
   "metadata": {},
   "source": [
    "### save results"
   ]
  },
  {
   "cell_type": "code",
   "execution_count": 16,
   "metadata": {},
   "outputs": [],
   "source": [
    "pickle.dump(i2twttyp,open(f'{p_in}/i2twttyp_{prfx}.p','wb'))\n",
    "pickle.dump(i2lang,open(f'{p_in}/i2lang_{prfx}.p','wb'))\n",
    "pickle.dump(i2hshtg,open(f'{p_in}/i2hshtg_{prfx}.p','wb'))\n",
    "pickle.dump(i2link,open(f'{p_in}/i2link_{prfx}.p','wb'))\n",
    "pickle.dump(i2domn,open(f'{p_in}/i2domn_{prfx}.p','wb'))"
   ]
  },
  {
   "cell_type": "markdown",
   "metadata": {},
   "source": [
    "## trn"
   ]
  },
  {
   "cell_type": "code",
   "execution_count": 91,
   "metadata": {
    "scrolled": true
   },
   "outputs": [
    {
     "name": "stdout",
     "output_type": "stream",
     "text": [
      "CPU times: user 6min 30s, sys: 31.4 s, total: 7min 1s\n",
      "Wall time: 13min 13s\n"
     ]
    }
   ],
   "source": [
    "%%time\n",
    "df_tweet_id=readcols(['tweet_id'])\n",
    "# Wall time: 13min 13s\n",
    "i2twt=df_tweet_id.tweet_id.unique()\n",
    "# twt2i={v:k for k,v in enumerate(i2twt)}\n",
    "del df_tweet_id; gc.collect()\n",
    "pickle.dump(i2twt,open(f'{p_in}/i2twt_{prfx}.p','wb'))"
   ]
  },
  {
   "cell_type": "code",
   "execution_count": 5,
   "metadata": {},
   "outputs": [
    {
     "name": "stdout",
     "output_type": "stream",
     "text": [
      "CPU times: user 7min 31s, sys: 35.5 s, total: 8min 7s\n",
      "Wall time: 14min 42s\n"
     ]
    }
   ],
   "source": [
    "%%time\n",
    "df_user_id=readcols(['engaged_user_id','engaging_user_id'])\n",
    "# Wall time: 14min 42s\n",
    "i2usr=list(set(df_user_id.engaged_user_id)|set(df_user_id.engaging_user_id))\n",
    "usr2i={v:k for k,v in enumerate(i2usr)}\n",
    "# del df_user_id; gc.collect()\n",
    "pickle.dump(i2usr,open(f'{p_in}/i2usr_{prfx}.p','wb'))"
   ]
  },
  {
   "cell_type": "markdown",
   "metadata": {},
   "source": [
    "# prep data"
   ]
  },
  {
   "cell_type": "markdown",
   "metadata": {},
   "source": [
    "## load maps"
   ]
  },
  {
   "cell_type": "code",
   "execution_count": 5,
   "metadata": {},
   "outputs": [],
   "source": [
    "%%time\n",
    "i2twttyp=pickle.load(open(f'{p_in}/i2twttyp_{prfx}.p','rb'))\n",
    "i2lang=pickle.load(open(f'{p_in}/i2lang_{prfx}.p','rb'))\n",
    "i2hshtg=pickle.load(open(f'{p_in}/i2hshtg_{prfx}.p','rb'))\n",
    "i2link=pickle.load(open(f'{p_in}/i2link_{prfx}.p','rb'))\n",
    "i2domn=pickle.load(open(f'{p_in}/i2domn_{prfx}.p','rb'))\n",
    "i2twt=pickle.load(open(f'{p_in}/i2twt_{prfx}.p','rb'))\n",
    "i2usr=pickle.load(open(f'{p_in}/i2usr_{prfx}.p','rb'))"
   ]
  },
  {
   "cell_type": "code",
   "execution_count": 9,
   "metadata": {},
   "outputs": [],
   "source": [
    "def make_x2i(i2x): return {v:k for k,v in enumerate(i2x)}"
   ]
  },
  {
   "cell_type": "code",
   "execution_count": 10,
   "metadata": {},
   "outputs": [],
   "source": [
    "%%time\n",
    "twttyp2i=make_x2i(i2twttyp)\n",
    "lang2i=make_x2i(i2lang)\n",
    "hshtg2i=make_x2i(i2hshtg)\n",
    "link2i=make_x2i(i2link)\n",
    "domn2i=make_x2i(i2domn)\n",
    "twt2i=make_x2i(i2twt)\n",
    "usr2i=make_x2i(i2usr)"
   ]
  },
  {
   "cell_type": "markdown",
   "metadata": {},
   "source": [
    "## map val data"
   ]
  },
  {
   "cell_type": "code",
   "execution_count": 7,
   "metadata": {},
   "outputs": [
    {
     "name": "stdout",
     "output_type": "stream",
     "text": [
      "CPU times: user 1min 14s, sys: 7.04 s, total: 1min 21s\n",
      "Wall time: 1min 20s\n"
     ]
    }
   ],
   "source": [
    "%%time\n",
    "dfval=pd.read_csv(f'{p_in}/val.tsv',sep='\\x01',encoding='utf8',header=None,\n",
    "                  usecols=range(1,len(cols_val)),names=cols_val[1:],)"
   ]
  },
  {
   "cell_type": "code",
   "execution_count": 12,
   "metadata": {},
   "outputs": [
    {
     "data": {
      "text/plain": [
       "0     7438379\n",
       "1    26178136\n",
       "2    17290440\n",
       "3    29752193\n",
       "4      936864\n",
       "Name: engaged_user_id, dtype: int64"
      ]
     },
     "execution_count": 12,
     "metadata": {},
     "output_type": "execute_result"
    }
   ],
   "source": [
    "dfval.head(5).engaged_user_id.map(usr2i)"
   ]
  },
  {
   "cell_type": "code",
   "execution_count": 15,
   "metadata": {},
   "outputs": [
    {
     "name": "stdout",
     "output_type": "stream",
     "text": [
      "CPU times: user 1min 25s, sys: 4.78 s, total: 1min 30s\n",
      "Wall time: 1min 29s\n"
     ]
    }
   ],
   "source": [
    "%%time\n",
    "enged_usrs_val = dfval.engaged_user_id.map(usr2i)"
   ]
  },
  {
   "cell_type": "code",
   "execution_count": 16,
   "metadata": {},
   "outputs": [
    {
     "name": "stdout",
     "output_type": "stream",
     "text": [
      "CPU times: user 1min 28s, sys: 4.74 s, total: 1min 33s\n",
      "Wall time: 1min 33s\n"
     ]
    }
   ],
   "source": [
    "%%time\n",
    "engng_usrs_val = dfval.engaging_user_id.map(usr2i)"
   ]
  },
  {
   "cell_type": "code",
   "execution_count": 17,
   "metadata": {},
   "outputs": [
    {
     "data": {
      "text/plain": [
       "(15127684, 15127684)"
      ]
     },
     "execution_count": 17,
     "metadata": {},
     "output_type": "execute_result"
    }
   ],
   "source": [
    "len(enged_usrs_val),len(engng_usrs_val)"
   ]
  },
  {
   "cell_type": "code",
   "execution_count": null,
   "metadata": {},
   "outputs": [],
   "source": [
    "set_enged_usrs_val = set(enged_usrs_val)\n",
    "set_engng_usrs_val = set(engng_usrs_val)"
   ]
  },
  {
   "cell_type": "code",
   "execution_count": null,
   "metadata": {},
   "outputs": [],
   "source": [
    "len(set_enged_usrs_val),len(set_engng_usrs_val)"
   ]
  },
  {
   "cell_type": "code",
   "execution_count": null,
   "metadata": {},
   "outputs": [],
   "source": [
    "1"
   ]
  },
  {
   "cell_type": "code",
   "execution_count": null,
   "metadata": {},
   "outputs": [],
   "source": []
  }
 ],
 "metadata": {
  "kernelspec": {
   "display_name": "Python 3",
   "language": "python",
   "name": "python3"
  },
  "language_info": {
   "codemirror_mode": {
    "name": "ipython",
    "version": 3
   },
   "file_extension": ".py",
   "mimetype": "text/x-python",
   "name": "python",
   "nbconvert_exporter": "python",
   "pygments_lexer": "ipython3",
   "version": "3.6.6"
  },
  "toc": {
   "base_numbering": 1,
   "nav_menu": {},
   "number_sections": true,
   "sideBar": true,
   "skip_h1_title": false,
   "title_cell": "Table of Contents",
   "title_sidebar": "Contents",
   "toc_cell": false,
   "toc_position": {},
   "toc_section_display": true,
   "toc_window_display": true
  }
 },
 "nbformat": 4,
 "nbformat_minor": 2
}
