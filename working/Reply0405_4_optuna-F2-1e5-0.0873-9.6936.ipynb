{
 "cells": [
  {
   "cell_type": "markdown",
   "metadata": {},
   "source": [
    "# start"
   ]
  },
  {
   "cell_type": "markdown",
   "metadata": {},
   "source": [
    "- http://localhost:8081/notebooks/git/recsys20/working/0324_6_3_lgb_feat_engr-1e7.ipynb\n",
    "- http://localhost:8081/notebooks/git/recsys20/working/mdl0404_1__xgb_mean_encode.ipynb\n",
    "- http://localhost:8081/notebooks/git/recsys20/working/eda_0404_1.ipynb#v.s.-target\n",
    "- https://www.kaggle.com/discdiver/category-encoders-examples"
   ]
  },
  {
   "cell_type": "code",
   "execution_count": 1,
   "metadata": {},
   "outputs": [
    {
     "name": "stdout",
     "output_type": "stream",
     "text": [
      "train_total 148,075,238, test_total 14,000,000\n",
      "['2020-03-17 02:32:24', '2020-04-06 00:35:47']\n",
      "['2020-02-06 00:00:00', '2020-02-12 23:59:59']\n",
      "['2020-02-13 00:00:00', '2020-02-19 23:59:59']\n"
     ]
    }
   ],
   "source": [
    "TGT='Reply'\n",
    "PRFX='Reply0405_4'\n",
    "\n",
    "trntmstmp=1584412344\n",
    "tsttmstmp=1586133347\n",
    "\n",
    "tm_trn_min,tm_trn_max=(1580947200, 1581551999)\n",
    "tm_tst_min,tm_tst_max=(1581552000, 1582156799)\n",
    "\n",
    "SEED=101\n",
    "\n",
    "valsz = int(1e5)#int(1e5)\n",
    "trnsz = int(1e5)#int(5e5)\n",
    "\n",
    "train_total=148075238\n",
    "test_total=int(1.4e7)\n",
    "print(f'train_total {train_total:,}, test_total {test_total:,}')\n",
    "\n",
    "\n",
    "import datetime\n",
    "def showtm(tm): return datetime.datetime.fromtimestamp(tm).strftime('%Y-%m-%d %H:%M:%S')\n",
    "print([showtm(tm) for tm in (trntmstmp, tsttmstmp)])\n",
    "print([showtm(tm) for tm in (tm_trn_min,tm_trn_max)])\n",
    "print([showtm(tm) for tm in (tm_tst_min,tm_tst_max)])"
   ]
  },
  {
   "cell_type": "markdown",
   "metadata": {},
   "source": [
    "# setup"
   ]
  },
  {
   "cell_type": "code",
   "execution_count": 2,
   "metadata": {},
   "outputs": [
    {
     "name": "stdout",
     "output_type": "stream",
     "text": [
      "TCOL reply\n",
      "{'Retweet': 'retwt', 'Reply': 'reply', 'Like': 'like', 'RTwCmnt': 'retwt_cmmnt'}\n"
     ]
    }
   ],
   "source": [
    "from tqdm import tqdm\n",
    "import time\n",
    "from pathlib import Path\n",
    "from collections import Counter,defaultdict\n",
    "from sklearn.model_selection import train_test_split\n",
    "import pandas as pd\n",
    "import numpy as np\n",
    "import matplotlib.pyplot as plt\n",
    "from sklearn.metrics import accuracy_score, roc_auc_score, roc_curve, auc, precision_recall_curve\n",
    "import pickle\n",
    "# import xgboost as xgb\n",
    "# import lightgbm as lgb\n",
    "import category_encoders as ce\n",
    "import gc\n",
    "\n",
    "import optuna\n",
    "# optuna.logging.CRITICAL, optuna.logging.FATAL\n",
    "# optuna.logging.ERROR\n",
    "# optuna.logging.WARNING, optuna.logging.WARN\n",
    "# optuna.logging.INFO\n",
    "# optuna.logging.DEBUG\n",
    "optuna.logging.set_verbosity(optuna.logging.ERROR)\n",
    "import optuna.integration.lightgbm as lgb\n",
    "optuna.logging.set_verbosity(optuna.logging.ERROR)\n",
    "\n",
    "\n",
    "pd.set_option('display.max_rows', 500)\n",
    "pd.set_option('display.max_columns', 500)\n",
    "\n",
    "\n",
    "import datetime\n",
    "def dtnow(): return datetime.datetime.now().strftime('%Y-%m-%d %H:%M:%S')\n",
    "\n",
    "def iou(s1,s2):\n",
    "    return len(s1&s2) / len(s1|s2)\n",
    "\n",
    "HOME='/data/git/recsys20'\n",
    "p_in=f'{HOME}/input'\n",
    "p_out=f'{HOME}/output/{PRFX}'\n",
    "Path(p_out).mkdir(exist_ok=True, parents=True)\n",
    "\n",
    "from sklearn.metrics import precision_recall_curve, auc, log_loss\n",
    "\n",
    "def compute_prauc(pred, gt):\n",
    "    prec, recall, thresh = precision_recall_curve(gt, pred)\n",
    "    prauc = auc(recall, prec)\n",
    "    return prauc\n",
    "\n",
    "def calculate_ctr(gt):\n",
    "    positive = len([x for x in gt if x == 1])\n",
    "    ctr = positive/float(len(gt))\n",
    "    return ctr\n",
    "\n",
    "def compute_rce(pred, gt):\n",
    "    cross_entropy = log_loss(gt, pred)\n",
    "    data_ctr = calculate_ctr(gt)\n",
    "    strawman_cross_entropy = log_loss(gt, [data_ctr for _ in range(len(gt))])\n",
    "    return (1.0 - cross_entropy/strawman_cross_entropy)*100.0\n",
    "\n",
    "# https://towardsdatascience.com/how-to-calibrate-undersampled-model-scores-8f3319c1ea5b\n",
    "# How to use the function?\n",
    "# Let’s say your goal is to generate a model that shows the credit default probabilities and your original \n",
    "# training data has 50,000 rows with only 500 of them labeled as target class. When you sample your non-target \n",
    "# instances randomly and reduce the total row count to 10,000, while conserving 500 target rows, our calibration\n",
    "# function becomes:\n",
    "# calibration(model_results, 50000, 500, 10000, 500)\n",
    "# Here model_results is your model probability output array. After you train your model and put the results in it, your function is ready to use. \n",
    "def calibration(data, train_pop, target_pop, sampled_train_pop, sampled_target_pop):\n",
    "    calibrated_data = ((data * (target_pop / train_pop) / (sampled_target_pop / sampled_train_pop)) /\n",
    "    (((1 - data) * (1 - target_pop / train_pop) / (1 - sampled_target_pop / sampled_train_pop)) +\n",
    "     (data * (target_pop / train_pop) / (sampled_target_pop / sampled_train_pop))))\n",
    "    return calibrated_data\n",
    "\n",
    "\n",
    "cols=['toks','hshtgs','twtid','media','links','domns','twttyp','lang','tm','u1id','u1_fllwer_cnt','u1_fllwing_cnt','u1_vrfed','u1_create_tm','u2id','u2_fllwer_cnt','u2_fllwng_cnt','u2_vrfed','u2_create_tm','u1_fllw_u2','reply_tm','retwt_tm','retwt_cmmnt_tm','like_tm',]\n",
    "\n",
    "cols_val = cols[:-4]\n",
    "cols_tgt_tmstmp=[ 'retwt_tm', 'reply_tm', 'like_tm', 'retwt_cmmnt_tm',]\n",
    "cols_tgt=[o.split('_tm')[0] for o in cols_tgt_tmstmp]\n",
    "tgts             = ['Retweet','Reply','Like','RTwCmnt',]\n",
    "assert cols_tgt == ['retwt',  'reply','like','retwt_cmmnt',]\n",
    "tgt2col = dict(zip(tgts, cols_tgt))\n",
    "TCOL=tgt2col[TGT]\n",
    "print('TCOL', TCOL)\n",
    "print(tgt2col)"
   ]
  },
  {
   "cell_type": "markdown",
   "metadata": {},
   "source": [
    "# prep"
   ]
  },
  {
   "cell_type": "code",
   "execution_count": 3,
   "metadata": {},
   "outputs": [],
   "source": [
    "def prp_tgt(df):\n",
    "    df[cols_tgt]=df[cols_tgt_tmstmp].notna()\n",
    "    df.drop(columns=cols_tgt_tmstmp, inplace=True)\n",
    "    display(df[cols_tgt].mean())"
   ]
  },
  {
   "cell_type": "code",
   "execution_count": 4,
   "metadata": {
    "scrolled": false
   },
   "outputs": [
    {
     "name": "stdout",
     "output_type": "stream",
     "text": [
      "(100000, 24)\n"
     ]
    },
    {
     "data": {
      "text/plain": [
       "retwt          0.11211\n",
       "reply          0.02754\n",
       "like           0.43929\n",
       "retwt_cmmnt    0.00801\n",
       "dtype: float64"
      ]
     },
     "metadata": {},
     "output_type": "display_data"
    },
    {
     "name": "stdout",
     "output_type": "stream",
     "text": [
      "CPU times: user 742 ms, sys: 84.2 ms, total: 826 ms\n",
      "Wall time: 824 ms\n"
     ]
    }
   ],
   "source": [
    "%%time\n",
    "dfval = pd.read_csv(f'{p_in}/trn_{trntmstmp}.tsv',sep='\\x01',header=None,names=cols,nrows=valsz)\n",
    "print(dfval.shape)\n",
    "prp_tgt(dfval)"
   ]
  },
  {
   "cell_type": "markdown",
   "metadata": {},
   "source": [
    "## maybe oversample"
   ]
  },
  {
   "cell_type": "code",
   "execution_count": 5,
   "metadata": {},
   "outputs": [],
   "source": [
    "# df = pd.read_csv(f'{p_in}/trn_{trntmstmp}.tsv',sep='\\x01',header=None,names=cols,nrows=5)\n",
    "# dfval = pd.read_csv(f'{p_in}/trn_{trntmstmp}.tsv',sep='\\x01',header=None,names=cols,nrows=2)\n",
    "# dftrn = pd.read_csv(f'{p_in}/trn_{trntmstmp}.tsv',sep='\\x01',header=None,names=cols,skiprows=2,nrows=3)\n",
    "# display(df.twtid)\n",
    "# display(dfval.twtid)\n",
    "# display(dftrn.twtid)\n",
    "\n",
    "# 0    D4D1EBDE74F74C5DA529959AF979625C\n",
    "# 1    BFB529DAB6D384EB83E899A72AB3830D\n",
    "# 2    519078C7834E9642508F72A6C2D0F3B7\n",
    "# 3    52AAE9E33EFAC8C478C57B31A9E31ED1\n",
    "# 4    89C1298C55EB3D68E2784F0BFB69E6F8\n",
    "# Name: twtid, dtype: object\n",
    "# 0    D4D1EBDE74F74C5DA529959AF979625C\n",
    "# 1    BFB529DAB6D384EB83E899A72AB3830D\n",
    "# Name: twtid, dtype: object\n",
    "# 0    519078C7834E9642508F72A6C2D0F3B7\n",
    "# 1    52AAE9E33EFAC8C478C57B31A9E31ED1\n",
    "# 2    89C1298C55EB3D68E2784F0BFB69E6F8\n",
    "# Name: twtid, dtype: object"
   ]
  },
  {
   "cell_type": "code",
   "execution_count": 6,
   "metadata": {
    "scrolled": true
   },
   "outputs": [
    {
     "name": "stdout",
     "output_type": "stream",
     "text": [
      "(370000, 24)\n"
     ]
    },
    {
     "data": {
      "text/plain": [
       "retwt          0.112570\n",
       "reply          0.028143\n",
       "like           0.438841\n",
       "retwt_cmmnt    0.007565\n",
       "dtype: float64"
      ]
     },
     "metadata": {},
     "output_type": "display_data"
    },
    {
     "name": "stdout",
     "output_type": "stream",
     "text": [
      "CPU times: user 2.78 s, sys: 336 ms, total: 3.11 s\n",
      "Wall time: 3.11 s\n"
     ]
    }
   ],
   "source": [
    "%%time\n",
    "if TGT in ('Retweet','Like'): trnpop=trnsz\n",
    "if TGT=='Reply': trnpop=trnsz*3.7\n",
    "if TGT=='RTwCmnt': trnpop=trnsz*11.5\n",
    "assert trnpop<train_total\n",
    "\n",
    "dftrn = pd.read_csv(f'{p_in}/trn_{trntmstmp}.tsv',sep='\\x01',header=None,names=cols,\n",
    "                     skiprows=valsz, nrows=trnpop)\n",
    "print(dftrn.shape)\n",
    "prp_tgt(dftrn)"
   ]
  },
  {
   "cell_type": "code",
   "execution_count": 7,
   "metadata": {
    "scrolled": true
   },
   "outputs": [
    {
     "name": "stdout",
     "output_type": "stream",
     "text": [
      "(100000, 24) 0.10413\n",
      "370000 10413 100000 10413\n"
     ]
    },
    {
     "data": {
      "text/html": [
       "<div>\n",
       "<style scoped>\n",
       "    .dataframe tbody tr th:only-of-type {\n",
       "        vertical-align: middle;\n",
       "    }\n",
       "\n",
       "    .dataframe tbody tr th {\n",
       "        vertical-align: top;\n",
       "    }\n",
       "\n",
       "    .dataframe thead th {\n",
       "        text-align: right;\n",
       "    }\n",
       "</style>\n",
       "<table border=\"1\" class=\"dataframe\">\n",
       "  <thead>\n",
       "    <tr style=\"text-align: right;\">\n",
       "      <th></th>\n",
       "      <th>toks</th>\n",
       "      <th>hshtgs</th>\n",
       "      <th>twtid</th>\n",
       "      <th>media</th>\n",
       "      <th>links</th>\n",
       "      <th>domns</th>\n",
       "      <th>twttyp</th>\n",
       "      <th>lang</th>\n",
       "      <th>tm</th>\n",
       "      <th>u1id</th>\n",
       "      <th>u1_fllwer_cnt</th>\n",
       "      <th>u1_fllwing_cnt</th>\n",
       "      <th>u1_vrfed</th>\n",
       "      <th>u1_create_tm</th>\n",
       "      <th>u2id</th>\n",
       "      <th>u2_fllwer_cnt</th>\n",
       "      <th>u2_fllwng_cnt</th>\n",
       "      <th>u2_vrfed</th>\n",
       "      <th>u2_create_tm</th>\n",
       "      <th>u1_fllw_u2</th>\n",
       "      <th>retwt</th>\n",
       "      <th>reply</th>\n",
       "      <th>like</th>\n",
       "      <th>retwt_cmmnt</th>\n",
       "    </tr>\n",
       "  </thead>\n",
       "  <tbody>\n",
       "    <tr>\n",
       "      <th>5</th>\n",
       "      <td>101\\t1434\\t107854\\t18260\\t31904\\t111431\\t74759...</td>\n",
       "      <td>NaN</td>\n",
       "      <td>0EB15633A8CC0A6E3917C272F43E6DF3</td>\n",
       "      <td>NaN</td>\n",
       "      <td>NaN</td>\n",
       "      <td>NaN</td>\n",
       "      <td>TopLevel</td>\n",
       "      <td>022EC308651FACB02794A8147AEE1B78</td>\n",
       "      <td>1581218899</td>\n",
       "      <td>A7E00C86B4E3709D589754A51042A360</td>\n",
       "      <td>1198215</td>\n",
       "      <td>662</td>\n",
       "      <td>True</td>\n",
       "      <td>1246548812</td>\n",
       "      <td>016212C070A76EAB37E8ED93CA509BA9</td>\n",
       "      <td>0</td>\n",
       "      <td>42</td>\n",
       "      <td>False</td>\n",
       "      <td>1578271262</td>\n",
       "      <td>False</td>\n",
       "      <td>False</td>\n",
       "      <td>True</td>\n",
       "      <td>False</td>\n",
       "      <td>False</td>\n",
       "    </tr>\n",
       "    <tr>\n",
       "      <th>51</th>\n",
       "      <td>101\\t10473\\t10116\\t10132\\t12603\\t97953\\t25307\\...</td>\n",
       "      <td>NaN</td>\n",
       "      <td>7C71C144E7B9F2D87F1F4DDB40AB1C49</td>\n",
       "      <td>NaN</td>\n",
       "      <td>NaN</td>\n",
       "      <td>NaN</td>\n",
       "      <td>TopLevel</td>\n",
       "      <td>2996EB2FE8162C076D070A4C8D6532CD</td>\n",
       "      <td>1581203618</td>\n",
       "      <td>B0CBECD53C3B945C875C55DDFF56D13F</td>\n",
       "      <td>1424</td>\n",
       "      <td>854</td>\n",
       "      <td>False</td>\n",
       "      <td>1394906655</td>\n",
       "      <td>01625341E5A48963E5AA7DFFDC4436D4</td>\n",
       "      <td>643</td>\n",
       "      <td>327</td>\n",
       "      <td>False</td>\n",
       "      <td>1372760933</td>\n",
       "      <td>True</td>\n",
       "      <td>False</td>\n",
       "      <td>True</td>\n",
       "      <td>False</td>\n",
       "      <td>False</td>\n",
       "    </tr>\n",
       "    <tr>\n",
       "      <th>63</th>\n",
       "      <td>101\\t56898\\t137\\t24362\\t131\\t100\\t196\\t36351\\t...</td>\n",
       "      <td>NaN</td>\n",
       "      <td>ADCF033A7C7087C1506E2BC3E2D8F092</td>\n",
       "      <td>NaN</td>\n",
       "      <td>NaN</td>\n",
       "      <td>NaN</td>\n",
       "      <td>Retweet</td>\n",
       "      <td>717293301FE296B0B61950D041485825</td>\n",
       "      <td>1581258397</td>\n",
       "      <td>ECD90FC37F0A7C15C82834FDDEEDC21A</td>\n",
       "      <td>1753</td>\n",
       "      <td>811</td>\n",
       "      <td>False</td>\n",
       "      <td>1568347799</td>\n",
       "      <td>01625CCEC5A4C322FC247DB9E223CC08</td>\n",
       "      <td>147</td>\n",
       "      <td>1355</td>\n",
       "      <td>False</td>\n",
       "      <td>1355850070</td>\n",
       "      <td>False</td>\n",
       "      <td>False</td>\n",
       "      <td>True</td>\n",
       "      <td>False</td>\n",
       "      <td>False</td>\n",
       "    </tr>\n",
       "    <tr>\n",
       "      <th>75</th>\n",
       "      <td>101\\t12441\\t105702\\t793\\t61783\\t34022\\t60578\\t...</td>\n",
       "      <td>NaN</td>\n",
       "      <td>7EB0824DDA3D28844CC0FF65B7C4AA08</td>\n",
       "      <td>NaN</td>\n",
       "      <td>NaN</td>\n",
       "      <td>NaN</td>\n",
       "      <td>TopLevel</td>\n",
       "      <td>167115458A0DBDFF7E9C0C53A83BAC9B</td>\n",
       "      <td>1581271814</td>\n",
       "      <td>D905F31F909CC63C2BBEB7F6B43487FE</td>\n",
       "      <td>175998</td>\n",
       "      <td>116</td>\n",
       "      <td>False</td>\n",
       "      <td>1466830888</td>\n",
       "      <td>01626B64A2570C2807AB97716262FBA9</td>\n",
       "      <td>90</td>\n",
       "      <td>139</td>\n",
       "      <td>False</td>\n",
       "      <td>1364278366</td>\n",
       "      <td>False</td>\n",
       "      <td>False</td>\n",
       "      <td>True</td>\n",
       "      <td>False</td>\n",
       "      <td>False</td>\n",
       "    </tr>\n",
       "    <tr>\n",
       "      <th>83</th>\n",
       "      <td>101\\t69532\\t10107\\t12372\\t10160\\t19048\\t136\\t1...</td>\n",
       "      <td>NaN</td>\n",
       "      <td>0A95516F028EBFF6B551DB32C4B2D1B5</td>\n",
       "      <td>Video</td>\n",
       "      <td>NaN</td>\n",
       "      <td>NaN</td>\n",
       "      <td>TopLevel</td>\n",
       "      <td>ECED8A16BE2A5E8871FD55F4842F16B1</td>\n",
       "      <td>1581214010</td>\n",
       "      <td>88E80BAB56E6F59E4EF012A8B12D3BAE</td>\n",
       "      <td>8825</td>\n",
       "      <td>8024</td>\n",
       "      <td>False</td>\n",
       "      <td>1557262802</td>\n",
       "      <td>0162759D8908AA8C849F06086A023D85</td>\n",
       "      <td>26265</td>\n",
       "      <td>24215</td>\n",
       "      <td>False</td>\n",
       "      <td>1557422269</td>\n",
       "      <td>True</td>\n",
       "      <td>False</td>\n",
       "      <td>True</td>\n",
       "      <td>False</td>\n",
       "      <td>False</td>\n",
       "    </tr>\n",
       "  </tbody>\n",
       "</table>\n",
       "</div>"
      ],
      "text/plain": [
       "                                                 toks hshtgs  \\\n",
       "5   101\\t1434\\t107854\\t18260\\t31904\\t111431\\t74759...    NaN   \n",
       "51  101\\t10473\\t10116\\t10132\\t12603\\t97953\\t25307\\...    NaN   \n",
       "63  101\\t56898\\t137\\t24362\\t131\\t100\\t196\\t36351\\t...    NaN   \n",
       "75  101\\t12441\\t105702\\t793\\t61783\\t34022\\t60578\\t...    NaN   \n",
       "83  101\\t69532\\t10107\\t12372\\t10160\\t19048\\t136\\t1...    NaN   \n",
       "\n",
       "                               twtid  media links domns    twttyp  \\\n",
       "5   0EB15633A8CC0A6E3917C272F43E6DF3    NaN   NaN   NaN  TopLevel   \n",
       "51  7C71C144E7B9F2D87F1F4DDB40AB1C49    NaN   NaN   NaN  TopLevel   \n",
       "63  ADCF033A7C7087C1506E2BC3E2D8F092    NaN   NaN   NaN   Retweet   \n",
       "75  7EB0824DDA3D28844CC0FF65B7C4AA08    NaN   NaN   NaN  TopLevel   \n",
       "83  0A95516F028EBFF6B551DB32C4B2D1B5  Video   NaN   NaN  TopLevel   \n",
       "\n",
       "                                lang          tm  \\\n",
       "5   022EC308651FACB02794A8147AEE1B78  1581218899   \n",
       "51  2996EB2FE8162C076D070A4C8D6532CD  1581203618   \n",
       "63  717293301FE296B0B61950D041485825  1581258397   \n",
       "75  167115458A0DBDFF7E9C0C53A83BAC9B  1581271814   \n",
       "83  ECED8A16BE2A5E8871FD55F4842F16B1  1581214010   \n",
       "\n",
       "                                u1id  u1_fllwer_cnt  u1_fllwing_cnt  u1_vrfed  \\\n",
       "5   A7E00C86B4E3709D589754A51042A360        1198215             662      True   \n",
       "51  B0CBECD53C3B945C875C55DDFF56D13F           1424             854     False   \n",
       "63  ECD90FC37F0A7C15C82834FDDEEDC21A           1753             811     False   \n",
       "75  D905F31F909CC63C2BBEB7F6B43487FE         175998             116     False   \n",
       "83  88E80BAB56E6F59E4EF012A8B12D3BAE           8825            8024     False   \n",
       "\n",
       "    u1_create_tm                              u2id  u2_fllwer_cnt  \\\n",
       "5     1246548812  016212C070A76EAB37E8ED93CA509BA9              0   \n",
       "51    1394906655  01625341E5A48963E5AA7DFFDC4436D4            643   \n",
       "63    1568347799  01625CCEC5A4C322FC247DB9E223CC08            147   \n",
       "75    1466830888  01626B64A2570C2807AB97716262FBA9             90   \n",
       "83    1557262802  0162759D8908AA8C849F06086A023D85          26265   \n",
       "\n",
       "    u2_fllwng_cnt  u2_vrfed  u2_create_tm  u1_fllw_u2  retwt  reply   like  \\\n",
       "5              42     False    1578271262       False  False   True  False   \n",
       "51            327     False    1372760933        True  False   True  False   \n",
       "63           1355     False    1355850070       False  False   True  False   \n",
       "75            139     False    1364278366       False  False   True  False   \n",
       "83          24215     False    1557422269        True  False   True  False   \n",
       "\n",
       "    retwt_cmmnt  \n",
       "5         False  \n",
       "51        False  \n",
       "63        False  \n",
       "75        False  \n",
       "83        False  "
      ]
     },
     "metadata": {},
     "output_type": "display_data"
    },
    {
     "data": {
      "text/plain": [
       "Index(['toks', 'hshtgs', 'twtid', 'media', 'links', 'domns', 'twttyp', 'lang',\n",
       "       'tm', 'u1id', 'u1_fllwer_cnt', 'u1_fllwing_cnt', 'u1_vrfed',\n",
       "       'u1_create_tm', 'u2id', 'u2_fllwer_cnt', 'u2_fllwng_cnt', 'u2_vrfed',\n",
       "       'u2_create_tm', 'u1_fllw_u2', 'retwt', 'reply', 'like', 'retwt_cmmnt'],\n",
       "      dtype='object')"
      ]
     },
     "metadata": {},
     "output_type": "display_data"
    }
   ],
   "source": [
    "train_pop=len(dftrn)\n",
    "sampled_train_pop=trnsz\n",
    "idx_pos = np.where(dftrn[TCOL])[0]\n",
    "target_pop=sampled_target_pop=len(idx_pos)\n",
    "if TGT in ('Reply','RTwCmnt'):\n",
    "    idx_neg0 = np.where(~dftrn[TCOL])[0]\n",
    "    idx_neg = np.random.choice(idx_neg0, trnsz-len(idx_pos), replace=False)\n",
    "    idx = np.concatenate([idx_pos,idx_neg])\n",
    "    dftrn = dftrn.iloc[idx].copy()\n",
    "print(dftrn.shape, dftrn[TCOL].mean())\n",
    "print(train_pop, target_pop, sampled_train_pop, sampled_target_pop)\n",
    "\n",
    "display(dftrn.head())\n",
    "display(dftrn.columns)"
   ]
  },
  {
   "cell_type": "markdown",
   "metadata": {},
   "source": [
    "## prep and features"
   ]
  },
  {
   "cell_type": "code",
   "execution_count": 8,
   "metadata": {},
   "outputs": [],
   "source": [
    "def prp_df(df, tm_max):\n",
    "    '''\n",
    "    tm_max = tm_trn_max for train tm_tst_max for test\n",
    "    '''\n",
    "    lendf = len(df)\n",
    "    print(dtnow(), 'start')\n",
    "    \n",
    "    #counts\n",
    "    df['len_toks'] = df.toks.apply(lambda x: len(x.split('\\t')))\n",
    "    df.drop(columns=['toks'], inplace=True)    \n",
    "    for m in ['Photo', 'Video', 'GIF']:\n",
    "        df[f'n_media_{m}'] = df['media'].fillna('').apply(lambda x: x.split('\\t').count(m))\n",
    "    tgnms = ['hshtgs','media', 'links', 'domns',]\n",
    "    for tgnm in tgnms:\n",
    "        df[f'has_{tgnm}']=df[tgnm].notna()\n",
    "        df[f'lst_{tgnm}'] = df[tgnm].fillna('').apply(lambda x: x.split('\\t') if len(x) else [])\n",
    "        df[f'n_{tgnm}'] = df[f'lst_{tgnm}'].apply(len)  \n",
    "    df.drop(columns=['has_links','n_links'], inplace=True) #duplicates has_domns,n_domns \n",
    "    \n",
    "    #time\n",
    "    dt = pd.to_datetime(df.tm, unit='s')\n",
    "    df['dayofweek'] = dt.dt.dayofweek\n",
    "    df['hour'] = dt.dt.hour\n",
    "    \n",
    "    df['tmdlta_u2u1']  = df.u2_create_tm - df.u1_create_tm\n",
    "    df['tmdlta_twtu1'] = df.tm - df.u1_create_tm\n",
    "    df['tmdlta_twtu2'] = df.tm - df.u2_create_tm\n",
    "\n",
    "    df['twt_age']   = tm_max-df.tm\n",
    "    df['u1_age']    = tm_max-df.u1_create_tm\n",
    "    df['u2_age']    = tm_max-df.u2_create_tm\n",
    "    df.drop(columns=['tm', 'u1_create_tm', 'u2_create_tm'], inplace=True)\n",
    "\n",
    "    #time derived\n",
    "    df['u1_fllwer_cnt_by_age'] = df.u1_fllwer_cnt / df.u1_age\n",
    "    df['u1_fllwng_cnt_by_age'] = df.u2_fllwng_cnt / df.u2_age\n",
    "    \n",
    "    #interaction\n",
    "    df['u1u2']=df.u1id+'_'+df.u2id\n",
    "    df['langhour']=df.lang+'_'+df.hour.astype(str)\n",
    "    \n",
    "\n",
    "    #freq of feature values\n",
    "    print(dtnow(), 'freq of columns using CountEncoder')\n",
    "    encoder = ce.CountEncoder()\n",
    "    encoded = encoder.fit_transform(\n",
    "    df[['twtid', 'twttyp', 'lang', 'u1id', 'u1_fllwing_cnt', 'u1_vrfed', 'u2id', 'u2_fllwer_cnt', 'u2_vrfed', 'u1_fllw_u2', \n",
    "       'n_media_Photo', 'n_media_Video', 'n_media_GIF', \n",
    "       'has_hshtgs', 'n_hshtgs', 'has_media', 'n_media','has_domns', 'n_domns', \n",
    "       'dayofweek', 'hour', 'u1u2', 'langhour']].astype(object))\n",
    "    encoded = encoded.astype(int)/lendf\n",
    "    encoded.columns = [f'frq_{col}' for col in encoded.columns]\n",
    "    df = pd.concat([df,encoded],1)\n",
    "    \n",
    "    #freq of tgnm values\n",
    "    print(dtnow(), 'freq of tags')\n",
    "    for tgnm in tgnms:\n",
    "        vs = [j for i in df[f'lst_{tgnm}'] for j in i]\n",
    "        cnt = Counter(vs)\n",
    "        frq = {k:v/lendf for k,v in cnt.items()}\n",
    "        df[f'sumfrq_{tgnm}']=df[f'lst_{tgnm}'].apply(lambda x: sum([frq.get(o,0) for o in x]))\n",
    "        df[f'maxfrq_{tgnm}']=df[f'lst_{tgnm}'].apply(lambda x: max([frq.get(o,0) for o in x]) if len(x) else 0)\n",
    "    df.drop(columns=tgnms+[f'lst_{tgnm}' for tgnm in tgnms],inplace=True)\n",
    "\n",
    "    print(dtnow(), 'done')\n",
    "    return df"
   ]
  },
  {
   "cell_type": "code",
   "execution_count": 9,
   "metadata": {},
   "outputs": [
    {
     "name": "stdout",
     "output_type": "stream",
     "text": [
      "2020-04-06 02:36:54 start\n",
      "2020-04-06 02:36:56 freq of columns using CountEncoder\n"
     ]
    },
    {
     "name": "stderr",
     "output_type": "stream",
     "text": [
      "/data/anaconda3/envs/rcss20/lib/python3.7/site-packages/category_encoders/count.py:255: FutureWarning: The pandas.np module is deprecated and will be removed from pandas in a future version. Import numpy directly instead\n",
      "  X.loc[:, self.cols] = X.fillna(value=pd.np.nan)\n"
     ]
    },
    {
     "name": "stdout",
     "output_type": "stream",
     "text": [
      "2020-04-06 02:36:58 freq of tags\n",
      "2020-04-06 02:36:59 done\n",
      "CPU times: user 4.52 s, sys: 253 ms, total: 4.77 s\n",
      "Wall time: 4.68 s\n"
     ]
    }
   ],
   "source": [
    "%%time\n",
    "dftrn=prp_df(dftrn, tm_max=tm_trn_max)"
   ]
  },
  {
   "cell_type": "code",
   "execution_count": 10,
   "metadata": {},
   "outputs": [
    {
     "name": "stdout",
     "output_type": "stream",
     "text": [
      "2020-04-06 02:36:59 start\n",
      "2020-04-06 02:37:00 freq of columns using CountEncoder\n",
      "2020-04-06 02:37:02 freq of tags\n",
      "2020-04-06 02:37:03 done\n",
      "CPU times: user 3.98 s, sys: 56.7 ms, total: 4.04 s\n",
      "Wall time: 4.02 s\n"
     ]
    }
   ],
   "source": [
    "%%time\n",
    "dfval=prp_df(dfval, tm_max=tm_trn_max)"
   ]
  },
  {
   "cell_type": "markdown",
   "metadata": {},
   "source": [
    "## tr vl split and target encoding"
   ]
  },
  {
   "cell_type": "code",
   "execution_count": 11,
   "metadata": {},
   "outputs": [
    {
     "data": {
      "text/plain": [
       "30"
      ]
     },
     "execution_count": 11,
     "metadata": {},
     "output_type": "execute_result"
    }
   ],
   "source": [
    "msk_vl=np.random.rand(len(dftrn))<0.15\n",
    "idxvl=np.where( msk_vl)[0]\n",
    "idxtr=np.where(~msk_vl)[0]\n",
    "\n",
    "dftr = dftrn.iloc[idxtr].copy()\n",
    "dfvl = dftrn.iloc[idxvl].copy()\n",
    "del dftrn\n",
    "\n",
    "gc.collect()"
   ]
  },
  {
   "cell_type": "code",
   "execution_count": 12,
   "metadata": {},
   "outputs": [
    {
     "data": {
      "text/plain": [
       "Index(['twtid', 'twttyp', 'lang', 'u1id', 'u1_fllwer_cnt', 'u1_fllwing_cnt',\n",
       "       'u1_vrfed', 'u2id', 'u2_fllwer_cnt', 'u2_fllwng_cnt', 'u2_vrfed',\n",
       "       'u1_fllw_u2', 'retwt', 'reply', 'like', 'retwt_cmmnt', 'len_toks',\n",
       "       'n_media_Photo', 'n_media_Video', 'n_media_GIF', 'has_hshtgs',\n",
       "       'n_hshtgs', 'has_media', 'n_media', 'has_domns', 'n_domns', 'dayofweek',\n",
       "       'hour', 'tmdlta_u2u1', 'tmdlta_twtu1', 'tmdlta_twtu2', 'twt_age',\n",
       "       'u1_age', 'u2_age', 'u1_fllwer_cnt_by_age', 'u1_fllwng_cnt_by_age',\n",
       "       'u1u2', 'langhour', 'frq_twtid', 'frq_twttyp', 'frq_lang', 'frq_u1id',\n",
       "       'frq_u1_fllwing_cnt', 'frq_u1_vrfed', 'frq_u2id', 'frq_u2_fllwer_cnt',\n",
       "       'frq_u2_vrfed', 'frq_u1_fllw_u2', 'frq_n_media_Photo',\n",
       "       'frq_n_media_Video', 'frq_n_media_GIF', 'frq_has_hshtgs',\n",
       "       'frq_n_hshtgs', 'frq_has_media', 'frq_n_media', 'frq_has_domns',\n",
       "       'frq_n_domns', 'frq_dayofweek', 'frq_hour', 'frq_u1u2', 'frq_langhour',\n",
       "       'sumfrq_hshtgs', 'maxfrq_hshtgs', 'sumfrq_media', 'maxfrq_media',\n",
       "       'sumfrq_links', 'maxfrq_links', 'sumfrq_domns', 'maxfrq_domns'],\n",
       "      dtype='object')"
      ]
     },
     "execution_count": 12,
     "metadata": {},
     "output_type": "execute_result"
    }
   ],
   "source": [
    "dftr.columns"
   ]
  },
  {
   "cell_type": "code",
   "execution_count": 13,
   "metadata": {},
   "outputs": [
    {
     "name": "stdout",
     "output_type": "stream",
     "text": [
      "CPU times: user 4.77 s, sys: 0 ns, total: 4.77 s\n",
      "Wall time: 4.76 s\n"
     ]
    }
   ],
   "source": [
    "%%time\n",
    "col2tgtenc=['twtid', 'twttyp', 'lang', 'u1id', 'u1_fllwing_cnt', 'u1_vrfed', 'u2id', 'u2_fllwer_cnt', 'u2_vrfed', 'u1_fllw_u2', \n",
    "   'n_media_Photo', 'n_media_Video', 'n_media_GIF', \n",
    "   'has_hshtgs', 'n_hshtgs', 'has_media', 'n_media','has_domns', 'n_domns', \n",
    "   'dayofweek', 'hour', 'u1u2', 'langhour']\n",
    "tgt_encoder = ce.TargetEncoder()\n",
    "encoded_tr = tgt_encoder.fit_transform(dftr[col2tgtenc].astype(object), dftr[TCOL])\n",
    "encoded_vl = tgt_encoder.transform(dfvl[col2tgtenc].astype(object))\n",
    "encoded_val = tgt_encoder.transform(dfval[col2tgtenc].astype(object))\n",
    "\n",
    "tgtenc_columns = [f'tgtenc_{col}' for col in encoded_tr.columns]\n",
    "encoded_tr.columns = tgtenc_columns\n",
    "encoded_vl.columns = tgtenc_columns\n",
    "encoded_val.columns = tgtenc_columns\n",
    "\n",
    "dftr = pd.concat([dftr, encoded_tr], 1)\n",
    "dfvl = pd.concat([dfvl, encoded_vl], 1)\n",
    "dfval = pd.concat([dfval, encoded_val], 1)\n"
   ]
  },
  {
   "cell_type": "code",
   "execution_count": 14,
   "metadata": {},
   "outputs": [],
   "source": [
    "cols_category=['twttyp', 'lang', 'langhour']\n",
    "for df in dftr,dfvl,dfval:\n",
    "    df.drop(columns=['twtid','u1id','u2id','u1u2'], inplace=True)\n",
    "    df[cols_category]=df[cols_category].astype('category')"
   ]
  },
  {
   "cell_type": "code",
   "execution_count": 15,
   "metadata": {},
   "outputs": [],
   "source": [
    "cols_feat = [col for col in dftr.columns if col not in cols_tgt]"
   ]
  },
  {
   "cell_type": "code",
   "execution_count": 16,
   "metadata": {},
   "outputs": [
    {
     "data": {
      "text/plain": [
       "twttyp                   category\n",
       "lang                     category\n",
       "u1_fllwer_cnt               int64\n",
       "u1_fllwing_cnt              int64\n",
       "u1_vrfed                     bool\n",
       "u2_fllwer_cnt               int64\n",
       "u2_fllwng_cnt               int64\n",
       "u2_vrfed                     bool\n",
       "u1_fllw_u2                   bool\n",
       "retwt                        bool\n",
       "reply                        bool\n",
       "like                         bool\n",
       "retwt_cmmnt                  bool\n",
       "len_toks                    int64\n",
       "n_media_Photo               int64\n",
       "n_media_Video               int64\n",
       "n_media_GIF                 int64\n",
       "has_hshtgs                   bool\n",
       "n_hshtgs                    int64\n",
       "has_media                    bool\n",
       "n_media                     int64\n",
       "has_domns                    bool\n",
       "n_domns                     int64\n",
       "dayofweek                   int64\n",
       "hour                        int64\n",
       "tmdlta_u2u1                 int64\n",
       "tmdlta_twtu1                int64\n",
       "tmdlta_twtu2                int64\n",
       "twt_age                     int64\n",
       "u1_age                      int64\n",
       "u2_age                      int64\n",
       "u1_fllwer_cnt_by_age      float64\n",
       "u1_fllwng_cnt_by_age      float64\n",
       "langhour                 category\n",
       "frq_twtid                 float64\n",
       "frq_twttyp                float64\n",
       "frq_lang                  float64\n",
       "frq_u1id                  float64\n",
       "frq_u1_fllwing_cnt        float64\n",
       "frq_u1_vrfed              float64\n",
       "frq_u2id                  float64\n",
       "frq_u2_fllwer_cnt         float64\n",
       "frq_u2_vrfed              float64\n",
       "frq_u1_fllw_u2            float64\n",
       "frq_n_media_Photo         float64\n",
       "frq_n_media_Video         float64\n",
       "frq_n_media_GIF           float64\n",
       "frq_has_hshtgs            float64\n",
       "frq_n_hshtgs              float64\n",
       "frq_has_media             float64\n",
       "frq_n_media               float64\n",
       "frq_has_domns             float64\n",
       "frq_n_domns               float64\n",
       "frq_dayofweek             float64\n",
       "frq_hour                  float64\n",
       "frq_u1u2                  float64\n",
       "frq_langhour              float64\n",
       "sumfrq_hshtgs             float64\n",
       "maxfrq_hshtgs             float64\n",
       "sumfrq_media              float64\n",
       "maxfrq_media              float64\n",
       "sumfrq_links              float64\n",
       "maxfrq_links              float64\n",
       "sumfrq_domns              float64\n",
       "maxfrq_domns              float64\n",
       "tgtenc_twtid              float64\n",
       "tgtenc_twttyp             float64\n",
       "tgtenc_lang               float64\n",
       "tgtenc_u1id               float64\n",
       "tgtenc_u1_fllwing_cnt     float64\n",
       "tgtenc_u1_vrfed           float64\n",
       "tgtenc_u2id               float64\n",
       "tgtenc_u2_fllwer_cnt      float64\n",
       "tgtenc_u2_vrfed           float64\n",
       "tgtenc_u1_fllw_u2         float64\n",
       "tgtenc_n_media_Photo      float64\n",
       "tgtenc_n_media_Video      float64\n",
       "tgtenc_n_media_GIF        float64\n",
       "tgtenc_has_hshtgs         float64\n",
       "tgtenc_n_hshtgs           float64\n",
       "tgtenc_has_media          float64\n",
       "tgtenc_n_media            float64\n",
       "tgtenc_has_domns          float64\n",
       "tgtenc_n_domns            float64\n",
       "tgtenc_dayofweek          float64\n",
       "tgtenc_hour               float64\n",
       "tgtenc_u1u2               float64\n",
       "tgtenc_langhour           float64\n",
       "dtype: object"
      ]
     },
     "execution_count": 16,
     "metadata": {},
     "output_type": "execute_result"
    }
   ],
   "source": [
    "dftr.dtypes"
   ]
  },
  {
   "cell_type": "markdown",
   "metadata": {},
   "source": [
    "# model"
   ]
  },
  {
   "cell_type": "code",
   "execution_count": 17,
   "metadata": {},
   "outputs": [],
   "source": [
    "cols_feat=['twttyp',\n",
    " 'lang',\n",
    " 'u1_fllwer_cnt',\n",
    " 'u1_fllwing_cnt',\n",
    " 'u1_vrfed',\n",
    " 'u2_fllwer_cnt',\n",
    " 'u2_fllwng_cnt',\n",
    " 'u2_vrfed',\n",
    " 'u1_fllw_u2',\n",
    " 'len_toks',\n",
    " 'n_media_Photo',\n",
    " 'n_media_Video',\n",
    " 'n_media_GIF',\n",
    "#  'has_hshtgs',\n",
    " 'n_hshtgs',\n",
    "#  'has_media',\n",
    " 'n_media',\n",
    "#  'has_domns',\n",
    " 'n_domns',\n",
    " 'dayofweek',\n",
    " 'hour',\n",
    " 'tmdlta_u2u1',\n",
    " 'tmdlta_twtu1',\n",
    " 'tmdlta_twtu2',\n",
    " 'twt_age',\n",
    " 'u1_age',\n",
    " 'u2_age',\n",
    " 'u1_fllwer_cnt_by_age',\n",
    " 'u1_fllwng_cnt_by_age',\n",
    " 'langhour',\n",
    "#  'frq_twtid',\n",
    "#  'frq_twttyp',\n",
    " 'frq_lang',\n",
    " 'frq_u1id',\n",
    "#  'frq_u1_fllwing_cnt',\n",
    "#  'frq_u1_vrfed',\n",
    " 'frq_u2id',\n",
    "#  'frq_u2_fllwer_cnt',\n",
    "#  'frq_u2_vrfed',\n",
    "#  'frq_u1_fllw_u2',\n",
    "#  'frq_n_media_Photo',\n",
    "#  'frq_n_media_Video',\n",
    "#  'frq_n_media_GIF',\n",
    "#  'frq_has_hshtgs',\n",
    "#  'frq_n_hshtgs',\n",
    "#  'frq_has_media',\n",
    "#  'frq_n_media',\n",
    "#  'frq_has_domns',\n",
    "#  'frq_n_domns',\n",
    " 'frq_dayofweek',\n",
    " 'frq_hour',\n",
    " 'frq_u1u2',\n",
    "#  'frq_langhour',\n",
    "#  'sumfrq_hshtgs',\n",
    "#  'maxfrq_hshtgs',\n",
    "#  'sumfrq_media',\n",
    "#  'maxfrq_media',\n",
    "#  'sumfrq_links',\n",
    "#  'maxfrq_links',\n",
    "#  'sumfrq_domns',\n",
    "#  'maxfrq_domns',\n",
    "#  'tgtenc_twtid',\n",
    "#  'tgtenc_twttyp',\n",
    "#  'tgtenc_lang',\n",
    "#  'tgtenc_u1id',\n",
    "#  'tgtenc_u1_fllwing_cnt',\n",
    "#  'tgtenc_u1_vrfed',\n",
    "#  'tgtenc_u2id',\n",
    "#  'tgtenc_u2_fllwer_cnt',\n",
    "#  'tgtenc_u2_vrfed',\n",
    "#  'tgtenc_u1_fllw_u2',\n",
    "#  'tgtenc_n_media_Photo',\n",
    "#  'tgtenc_n_media_Video',\n",
    "#  'tgtenc_n_media_GIF',\n",
    "#  'tgtenc_has_hshtgs',\n",
    "#  'tgtenc_n_hshtgs',\n",
    "#  'tgtenc_has_media',\n",
    "#  'tgtenc_n_media',\n",
    "#  'tgtenc_has_domns',\n",
    "#  'tgtenc_n_domns',\n",
    "#  'tgtenc_dayofweek',\n",
    "#  'tgtenc_hour',\n",
    "#  'tgtenc_u1u2',\n",
    "#  'tgtenc_langhour'\n",
    "          ]"
   ]
  },
  {
   "cell_type": "code",
   "execution_count": 18,
   "metadata": {},
   "outputs": [],
   "source": [
    "results = {}\n",
    "results['PRFX'] = PRFX\n",
    "results['TGT'] = TGT\n",
    "results['cols_feat'] = cols_feat\n",
    "results['tgt_encoder'] = tgt_encoder\n",
    "results['col2tgtenc'] = col2tgtenc"
   ]
  },
  {
   "cell_type": "code",
   "execution_count": 19,
   "metadata": {},
   "outputs": [],
   "source": [
    "params={\n",
    "    'objective': 'binary',\n",
    "    'metric': 'binary_logloss',\n",
    "    'verbosity': 0,\n",
    "    \n",
    "}\n",
    "results['params'] = params"
   ]
  },
  {
   "cell_type": "code",
   "execution_count": 20,
   "metadata": {},
   "outputs": [
    {
     "name": "stderr",
     "output_type": "stream",
     "text": [
      "/data/anaconda3/envs/rcss20/lib/python3.7/site-packages/optuna/_experimental.py:87: ExperimentalWarning: train is experimental (supported from v0.18.0). The interface can change in the future.\n",
      "  ExperimentalWarning\n",
      "tune_feature_fraction, val_score: inf:   0%|          | 0/7 [00:00<?, ?it/s]"
     ]
    },
    {
     "name": "stdout",
     "output_type": "stream",
     "text": [
      "Training until validation scores don't improve for 100 rounds\n",
      "[100]\ttr's binary_logloss: 0.254041\tvl's binary_logloss: 0.287873\n",
      "Early stopping, best iteration is:\n",
      "[68]\ttr's binary_logloss: 0.262654\tvl's binary_logloss: 0.28726\n"
     ]
    },
    {
     "name": "stderr",
     "output_type": "stream",
     "text": [
      "tune_feature_fraction, val_score: 0.287260:  14%|#4        | 1/7 [00:01<00:09,  1.61s/it]"
     ]
    },
    {
     "name": "stdout",
     "output_type": "stream",
     "text": [
      "Training until validation scores don't improve for 100 rounds\n",
      "[100]\ttr's binary_logloss: 0.251619\tvl's binary_logloss: 0.287766\n",
      "[200]\ttr's binary_logloss: 0.229361\tvl's binary_logloss: 0.288833\n",
      "Early stopping, best iteration is:\n",
      "[118]\ttr's binary_logloss: 0.247205\tvl's binary_logloss: 0.287478\n"
     ]
    },
    {
     "name": "stderr",
     "output_type": "stream",
     "text": [
      "tune_feature_fraction, val_score: 0.287260:  29%|##8       | 2/7 [00:03<00:08,  1.62s/it]"
     ]
    },
    {
     "name": "stdout",
     "output_type": "stream",
     "text": [
      "Training until validation scores don't improve for 100 rounds\n",
      "[100]\ttr's binary_logloss: 0.249783\tvl's binary_logloss: 0.289138\n",
      "Early stopping, best iteration is:\n",
      "[52]\ttr's binary_logloss: 0.264249\tvl's binary_logloss: 0.288221\n"
     ]
    },
    {
     "name": "stderr",
     "output_type": "stream",
     "text": [
      "tune_feature_fraction, val_score: 0.287260:  43%|####2     | 3/7 [00:04<00:06,  1.52s/it]"
     ]
    },
    {
     "name": "stdout",
     "output_type": "stream",
     "text": [
      "Training until validation scores don't improve for 100 rounds\n",
      "[100]\ttr's binary_logloss: 0.248078\tvl's binary_logloss: 0.288333\n",
      "[200]\ttr's binary_logloss: 0.225543\tvl's binary_logloss: 0.289654\n",
      "Early stopping, best iteration is:\n",
      "[112]\ttr's binary_logloss: 0.244903\tvl's binary_logloss: 0.288161\n"
     ]
    },
    {
     "name": "stderr",
     "output_type": "stream",
     "text": [
      "tune_feature_fraction, val_score: 0.287260:  57%|#####7    | 4/7 [00:06<00:04,  1.56s/it]"
     ]
    },
    {
     "name": "stdout",
     "output_type": "stream",
     "text": [
      "Training until validation scores don't improve for 100 rounds\n",
      "[100]\ttr's binary_logloss: 0.246437\tvl's binary_logloss: 0.288998\n",
      "Early stopping, best iteration is:\n",
      "[53]\ttr's binary_logloss: 0.261323\tvl's binary_logloss: 0.288571\n"
     ]
    },
    {
     "name": "stderr",
     "output_type": "stream",
     "text": [
      "tune_feature_fraction, val_score: 0.287260:  71%|#######1  | 5/7 [00:07<00:02,  1.48s/it]"
     ]
    },
    {
     "name": "stdout",
     "output_type": "stream",
     "text": [
      "Training until validation scores don't improve for 100 rounds\n",
      "[100]\ttr's binary_logloss: 0.246143\tvl's binary_logloss: 0.288705\n",
      "Early stopping, best iteration is:\n",
      "[42]\ttr's binary_logloss: 0.26621\tvl's binary_logloss: 0.288272\n"
     ]
    },
    {
     "name": "stderr",
     "output_type": "stream",
     "text": [
      "tune_feature_fraction, val_score: 0.287260:  86%|########5 | 6/7 [00:08<00:01,  1.42s/it]"
     ]
    },
    {
     "name": "stdout",
     "output_type": "stream",
     "text": [
      "Training until validation scores don't improve for 100 rounds\n",
      "[100]\ttr's binary_logloss: 0.245335\tvl's binary_logloss: 0.289696\n",
      "Early stopping, best iteration is:\n",
      "[59]\ttr's binary_logloss: 0.258213\tvl's binary_logloss: 0.288818\n"
     ]
    },
    {
     "name": "stderr",
     "output_type": "stream",
     "text": [
      "tune_feature_fraction, val_score: 0.287260: 100%|##########| 7/7 [00:10<00:00,  1.47s/it]\n",
      "tune_num_leaves, val_score: 0.287260:   0%|          | 0/20 [00:00<?, ?it/s]"
     ]
    },
    {
     "name": "stdout",
     "output_type": "stream",
     "text": [
      "Training until validation scores don't improve for 100 rounds\n",
      "[100]\ttr's binary_logloss: 0.200864\tvl's binary_logloss: 0.290524\n",
      "Early stopping, best iteration is:\n",
      "[61]\ttr's binary_logloss: 0.226123\tvl's binary_logloss: 0.288796\n"
     ]
    },
    {
     "name": "stderr",
     "output_type": "stream",
     "text": [
      "tune_num_leaves, val_score: 0.287260:   5%|5         | 1/20 [00:02<00:42,  2.22s/it]"
     ]
    },
    {
     "name": "stdout",
     "output_type": "stream",
     "text": [
      "Training until validation scores don't improve for 100 rounds\n",
      "[100]\ttr's binary_logloss: 0.161908\tvl's binary_logloss: 0.292596\n",
      "Early stopping, best iteration is:\n",
      "[34]\ttr's binary_logloss: 0.229395\tvl's binary_logloss: 0.289451\n"
     ]
    },
    {
     "name": "stderr",
     "output_type": "stream",
     "text": [
      "tune_num_leaves, val_score: 0.287260:  10%|#         | 2/20 [00:05<00:44,  2.45s/it]"
     ]
    },
    {
     "name": "stdout",
     "output_type": "stream",
     "text": [
      "Training until validation scores don't improve for 100 rounds\n",
      "[100]\ttr's binary_logloss: 0.193083\tvl's binary_logloss: 0.289818\n",
      "Early stopping, best iteration is:\n",
      "[68]\ttr's binary_logloss: 0.214549\tvl's binary_logloss: 0.288457\n"
     ]
    },
    {
     "name": "stderr",
     "output_type": "stream",
     "text": [
      "tune_num_leaves, val_score: 0.287260:  15%|#5        | 3/20 [00:07<00:42,  2.48s/it]"
     ]
    },
    {
     "name": "stdout",
     "output_type": "stream",
     "text": [
      "Training until validation scores don't improve for 100 rounds\n",
      "[100]\ttr's binary_logloss: 0.154114\tvl's binary_logloss: 0.292918\n",
      "Early stopping, best iteration is:\n",
      "[34]\ttr's binary_logloss: 0.224461\tvl's binary_logloss: 0.289607\n"
     ]
    },
    {
     "name": "stderr",
     "output_type": "stream",
     "text": [
      "tune_num_leaves, val_score: 0.287260:  20%|##        | 4/20 [00:10<00:42,  2.64s/it]"
     ]
    },
    {
     "name": "stdout",
     "output_type": "stream",
     "text": [
      "Training until validation scores don't improve for 100 rounds\n",
      "[100]\ttr's binary_logloss: 0.283525\tvl's binary_logloss: 0.288355\n",
      "[200]\ttr's binary_logloss: 0.278093\tvl's binary_logloss: 0.287222\n",
      "[300]\ttr's binary_logloss: 0.274163\tvl's binary_logloss: 0.286753\n",
      "[400]\ttr's binary_logloss: 0.270595\tvl's binary_logloss: 0.286304\n",
      "[500]\ttr's binary_logloss: 0.267787\tvl's binary_logloss: 0.286368\n",
      "Early stopping, best iteration is:\n",
      "[459]\ttr's binary_logloss: 0.268991\tvl's binary_logloss: 0.286251\n"
     ]
    },
    {
     "name": "stderr",
     "output_type": "stream",
     "text": [
      "tune_num_leaves, val_score: 0.286251:  25%|##5       | 5/20 [00:12<00:37,  2.48s/it]"
     ]
    },
    {
     "name": "stdout",
     "output_type": "stream",
     "text": [
      "Training until validation scores don't improve for 100 rounds\n",
      "[100]\ttr's binary_logloss: 0.14977\tvl's binary_logloss: 0.295038\n",
      "Early stopping, best iteration is:\n",
      "[36]\ttr's binary_logloss: 0.217996\tvl's binary_logloss: 0.291528\n"
     ]
    },
    {
     "name": "stderr",
     "output_type": "stream",
     "text": [
      "tune_num_leaves, val_score: 0.286251:  30%|###       | 6/20 [00:16<00:37,  2.70s/it]"
     ]
    },
    {
     "name": "stdout",
     "output_type": "stream",
     "text": [
      "Training until validation scores don't improve for 100 rounds\n",
      "[100]\ttr's binary_logloss: 0.14679\tvl's binary_logloss: 0.294724\n",
      "Early stopping, best iteration is:\n",
      "[36]\ttr's binary_logloss: 0.216395\tvl's binary_logloss: 0.290264\n"
     ]
    },
    {
     "name": "stderr",
     "output_type": "stream",
     "text": [
      "tune_num_leaves, val_score: 0.286251:  35%|###5      | 7/20 [00:19<00:37,  2.89s/it]"
     ]
    },
    {
     "name": "stdout",
     "output_type": "stream",
     "text": [
      "Training until validation scores don't improve for 100 rounds\n",
      "[100]\ttr's binary_logloss: 0.209287\tvl's binary_logloss: 0.290342\n",
      "Early stopping, best iteration is:\n",
      "[56]\ttr's binary_logloss: 0.235865\tvl's binary_logloss: 0.288664\n"
     ]
    },
    {
     "name": "stderr",
     "output_type": "stream",
     "text": [
      "tune_num_leaves, val_score: 0.286251:  40%|####      | 8/20 [00:21<00:31,  2.63s/it]"
     ]
    },
    {
     "name": "stdout",
     "output_type": "stream",
     "text": [
      "Training until validation scores don't improve for 100 rounds\n",
      "[100]\ttr's binary_logloss: 0.148386\tvl's binary_logloss: 0.29378\n",
      "Early stopping, best iteration is:\n",
      "[36]\ttr's binary_logloss: 0.218013\tvl's binary_logloss: 0.290511\n"
     ]
    },
    {
     "name": "stderr",
     "output_type": "stream",
     "text": [
      "tune_num_leaves, val_score: 0.286251:  45%|####5     | 9/20 [00:24<00:30,  2.79s/it]"
     ]
    },
    {
     "name": "stdout",
     "output_type": "stream",
     "text": [
      "Training until validation scores don't improve for 100 rounds\n",
      "[100]\ttr's binary_logloss: 0.160569\tvl's binary_logloss: 0.294366\n",
      "Early stopping, best iteration is:\n",
      "[34]\ttr's binary_logloss: 0.227816\tvl's binary_logloss: 0.291275\n"
     ]
    },
    {
     "name": "stderr",
     "output_type": "stream",
     "text": [
      "tune_num_leaves, val_score: 0.286251:  50%|#####     | 10/20 [00:27<00:28,  2.80s/it]"
     ]
    },
    {
     "name": "stdout",
     "output_type": "stream",
     "text": [
      "Training until validation scores don't improve for 100 rounds\n",
      "[100]\ttr's binary_logloss: 0.296087\tvl's binary_logloss: 0.294695\n",
      "[200]\ttr's binary_logloss: 0.291854\tvl's binary_logloss: 0.291869\n",
      "[300]\ttr's binary_logloss: 0.290132\tvl's binary_logloss: 0.29094\n",
      "[400]\ttr's binary_logloss: 0.289165\tvl's binary_logloss: 0.290406\n",
      "[500]\ttr's binary_logloss: 0.288543\tvl's binary_logloss: 0.290236\n",
      "[600]\ttr's binary_logloss: 0.28812\tvl's binary_logloss: 0.2901\n",
      "[700]\ttr's binary_logloss: 0.287812\tvl's binary_logloss: 0.29003\n",
      "[800]\ttr's binary_logloss: 0.28757\tvl's binary_logloss: 0.289997\n",
      "[900]\ttr's binary_logloss: 0.287376\tvl's binary_logloss: 0.289988\n",
      "Early stopping, best iteration is:\n",
      "[859]\ttr's binary_logloss: 0.287453\tvl's binary_logloss: 0.289953\n"
     ]
    },
    {
     "name": "stderr",
     "output_type": "stream",
     "text": [
      "tune_num_leaves, val_score: 0.286251:  55%|#####5    | 11/20 [00:30<00:25,  2.80s/it]"
     ]
    },
    {
     "name": "stdout",
     "output_type": "stream",
     "text": [
      "Training until validation scores don't improve for 100 rounds\n",
      "[100]\ttr's binary_logloss: 0.240094\tvl's binary_logloss: 0.287867\n",
      "Early stopping, best iteration is:\n",
      "[61]\ttr's binary_logloss: 0.254584\tvl's binary_logloss: 0.287071\n"
     ]
    },
    {
     "name": "stderr",
     "output_type": "stream",
     "text": [
      "tune_num_leaves, val_score: 0.286251:  60%|######    | 12/20 [00:31<00:19,  2.40s/it]"
     ]
    },
    {
     "name": "stdout",
     "output_type": "stream",
     "text": [
      "Training until validation scores don't improve for 100 rounds\n",
      "[100]\ttr's binary_logloss: 0.275689\tvl's binary_logloss: 0.28734\n",
      "Early stopping, best iteration is:\n",
      "[96]\ttr's binary_logloss: 0.276158\tvl's binary_logloss: 0.287286\n"
     ]
    },
    {
     "name": "stderr",
     "output_type": "stream",
     "text": [
      "tune_num_leaves, val_score: 0.286251:  65%|######5   | 13/20 [00:32<00:13,  1.98s/it]"
     ]
    },
    {
     "name": "stdout",
     "output_type": "stream",
     "text": [
      "Training until validation scores don't improve for 100 rounds\n",
      "[100]\ttr's binary_logloss: 0.242115\tvl's binary_logloss: 0.288037\n",
      "Early stopping, best iteration is:\n",
      "[71]\ttr's binary_logloss: 0.252321\tvl's binary_logloss: 0.287297\n"
     ]
    },
    {
     "name": "stderr",
     "output_type": "stream",
     "text": [
      "tune_num_leaves, val_score: 0.286251:  70%|#######   | 14/20 [00:34<00:10,  1.83s/it]"
     ]
    },
    {
     "name": "stdout",
     "output_type": "stream",
     "text": [
      "Training until validation scores don't improve for 100 rounds\n",
      "[100]\ttr's binary_logloss: 0.239087\tvl's binary_logloss: 0.287424\n",
      "Early stopping, best iteration is:\n",
      "[83]\ttr's binary_logloss: 0.245226\tvl's binary_logloss: 0.287054\n"
     ]
    },
    {
     "name": "stderr",
     "output_type": "stream",
     "text": [
      "tune_num_leaves, val_score: 0.286251:  75%|#######5  | 15/20 [00:35<00:08,  1.77s/it]"
     ]
    },
    {
     "name": "stdout",
     "output_type": "stream",
     "text": [
      "Training until validation scores don't improve for 100 rounds\n",
      "[100]\ttr's binary_logloss: 0.23786\tvl's binary_logloss: 0.288473\n",
      "Early stopping, best iteration is:\n",
      "[61]\ttr's binary_logloss: 0.253332\tvl's binary_logloss: 0.287854\n"
     ]
    },
    {
     "name": "stderr",
     "output_type": "stream",
     "text": [
      "tune_num_leaves, val_score: 0.286251:  80%|########  | 16/20 [00:37<00:06,  1.70s/it]"
     ]
    },
    {
     "name": "stdout",
     "output_type": "stream",
     "text": [
      "Training until validation scores don't improve for 100 rounds\n",
      "[100]\ttr's binary_logloss: 0.219449\tvl's binary_logloss: 0.288669\n",
      "Early stopping, best iteration is:\n",
      "[73]\ttr's binary_logloss: 0.233317\tvl's binary_logloss: 0.288226\n"
     ]
    },
    {
     "name": "stderr",
     "output_type": "stream",
     "text": [
      "tune_num_leaves, val_score: 0.286251:  85%|########5 | 17/20 [00:39<00:05,  1.78s/it]"
     ]
    },
    {
     "name": "stdout",
     "output_type": "stream",
     "text": [
      "Training until validation scores don't improve for 100 rounds\n",
      "[100]\ttr's binary_logloss: 0.183959\tvl's binary_logloss: 0.290998\n",
      "Early stopping, best iteration is:\n",
      "[55]\ttr's binary_logloss: 0.217992\tvl's binary_logloss: 0.288631\n"
     ]
    },
    {
     "name": "stderr",
     "output_type": "stream",
     "text": [
      "tune_num_leaves, val_score: 0.286251:  90%|######### | 18/20 [00:42<00:04,  2.04s/it]"
     ]
    },
    {
     "name": "stdout",
     "output_type": "stream",
     "text": [
      "Training until validation scores don't improve for 100 rounds\n",
      "[100]\ttr's binary_logloss: 0.26429\tvl's binary_logloss: 0.287108\n",
      "Early stopping, best iteration is:\n",
      "[78]\ttr's binary_logloss: 0.268475\tvl's binary_logloss: 0.286977\n"
     ]
    },
    {
     "name": "stderr",
     "output_type": "stream",
     "text": [
      "tune_num_leaves, val_score: 0.286251:  95%|#########5| 19/20 [00:43<00:01,  1.76s/it]"
     ]
    },
    {
     "name": "stdout",
     "output_type": "stream",
     "text": [
      "Training until validation scores don't improve for 100 rounds\n",
      "[100]\ttr's binary_logloss: 0.261894\tvl's binary_logloss: 0.287121\n",
      "Early stopping, best iteration is:\n",
      "[76]\ttr's binary_logloss: 0.267003\tvl's binary_logloss: 0.286911\n"
     ]
    },
    {
     "name": "stderr",
     "output_type": "stream",
     "text": [
      "tune_num_leaves, val_score: 0.286251: 100%|##########| 20/20 [00:44<00:00,  2.21s/it]\n",
      "tune_bagging_fraction_and_bagging_freq, val_score: 0.286251:   0%|          | 0/10 [00:00<?, ?it/s]"
     ]
    },
    {
     "name": "stdout",
     "output_type": "stream",
     "text": [
      "Training until validation scores don't improve for 100 rounds\n",
      "[100]\ttr's binary_logloss: 0.285771\tvl's binary_logloss: 0.288988\n",
      "[200]\ttr's binary_logloss: 0.282251\tvl's binary_logloss: 0.287652\n",
      "[300]\ttr's binary_logloss: 0.279684\tvl's binary_logloss: 0.286874\n",
      "[400]\ttr's binary_logloss: 0.277598\tvl's binary_logloss: 0.28668\n",
      "[500]\ttr's binary_logloss: 0.275581\tvl's binary_logloss: 0.286389\n",
      "[600]\ttr's binary_logloss: 0.273994\tvl's binary_logloss: 0.28615\n",
      "[700]\ttr's binary_logloss: 0.272493\tvl's binary_logloss: 0.28634\n",
      "Early stopping, best iteration is:\n",
      "[609]\ttr's binary_logloss: 0.273854\tvl's binary_logloss: 0.286015\n"
     ]
    },
    {
     "name": "stderr",
     "output_type": "stream",
     "text": [
      "tune_bagging_fraction_and_bagging_freq, val_score: 0.286015:  10%|#         | 1/10 [00:03<00:27,  3.07s/it]"
     ]
    },
    {
     "name": "stdout",
     "output_type": "stream",
     "text": [
      "Training until validation scores don't improve for 100 rounds\n",
      "[100]\ttr's binary_logloss: 0.284483\tvl's binary_logloss: 0.288687\n",
      "[200]\ttr's binary_logloss: 0.280854\tvl's binary_logloss: 0.287866\n",
      "[300]\ttr's binary_logloss: 0.277846\tvl's binary_logloss: 0.286804\n",
      "[400]\ttr's binary_logloss: 0.275426\tvl's binary_logloss: 0.286714\n",
      "[500]\ttr's binary_logloss: 0.273169\tvl's binary_logloss: 0.286314\n",
      "Early stopping, best iteration is:\n",
      "[452]\ttr's binary_logloss: 0.274227\tvl's binary_logloss: 0.286232\n"
     ]
    },
    {
     "name": "stderr",
     "output_type": "stream",
     "text": [
      "tune_bagging_fraction_and_bagging_freq, val_score: 0.286015:  20%|##        | 2/10 [00:05<00:22,  2.85s/it]"
     ]
    },
    {
     "name": "stdout",
     "output_type": "stream",
     "text": [
      "Training until validation scores don't improve for 100 rounds\n",
      "[100]\ttr's binary_logloss: 0.285142\tvl's binary_logloss: 0.288942\n",
      "[200]\ttr's binary_logloss: 0.281612\tvl's binary_logloss: 0.287937\n",
      "[300]\ttr's binary_logloss: 0.279154\tvl's binary_logloss: 0.287316\n",
      "[400]\ttr's binary_logloss: 0.276808\tvl's binary_logloss: 0.287028\n",
      "[500]\ttr's binary_logloss: 0.274737\tvl's binary_logloss: 0.286822\n",
      "[600]\ttr's binary_logloss: 0.272988\tvl's binary_logloss: 0.286838\n",
      "[700]\ttr's binary_logloss: 0.271254\tvl's binary_logloss: 0.286502\n",
      "[800]\ttr's binary_logloss: 0.269801\tvl's binary_logloss: 0.286144\n",
      "[900]\ttr's binary_logloss: 0.268029\tvl's binary_logloss: 0.286158\n",
      "Early stopping, best iteration is:\n",
      "[852]\ttr's binary_logloss: 0.26876\tvl's binary_logloss: 0.285993\n"
     ]
    },
    {
     "name": "stderr",
     "output_type": "stream",
     "text": [
      "tune_bagging_fraction_and_bagging_freq, val_score: 0.285993:  30%|###       | 3/10 [00:09<00:21,  3.12s/it]"
     ]
    },
    {
     "name": "stdout",
     "output_type": "stream",
     "text": [
      "Training until validation scores don't improve for 100 rounds\n",
      "[100]\ttr's binary_logloss: 0.285964\tvl's binary_logloss: 0.288873\n",
      "[200]\ttr's binary_logloss: 0.282697\tvl's binary_logloss: 0.287871\n",
      "[300]\ttr's binary_logloss: 0.280113\tvl's binary_logloss: 0.287016\n",
      "Early stopping, best iteration is:\n",
      "[284]\ttr's binary_logloss: 0.280459\tvl's binary_logloss: 0.286826\n"
     ]
    },
    {
     "name": "stderr",
     "output_type": "stream",
     "text": [
      "tune_bagging_fraction_and_bagging_freq, val_score: 0.285993:  40%|####      | 4/10 [00:10<00:15,  2.64s/it]"
     ]
    },
    {
     "name": "stdout",
     "output_type": "stream",
     "text": [
      "Training until validation scores don't improve for 100 rounds\n",
      "[100]\ttr's binary_logloss: 0.284139\tvl's binary_logloss: 0.288154\n",
      "[200]\ttr's binary_logloss: 0.279662\tvl's binary_logloss: 0.287387\n",
      "[300]\ttr's binary_logloss: 0.276672\tvl's binary_logloss: 0.28673\n",
      "[400]\ttr's binary_logloss: 0.274113\tvl's binary_logloss: 0.286369\n",
      "[500]\ttr's binary_logloss: 0.27167\tvl's binary_logloss: 0.286414\n",
      "[600]\ttr's binary_logloss: 0.269373\tvl's binary_logloss: 0.286105\n",
      "[700]\ttr's binary_logloss: 0.267185\tvl's binary_logloss: 0.285682\n",
      "[800]\ttr's binary_logloss: 0.265184\tvl's binary_logloss: 0.285757\n",
      "Early stopping, best iteration is:\n",
      "[775]\ttr's binary_logloss: 0.265651\tvl's binary_logloss: 0.28548\n"
     ]
    },
    {
     "name": "stderr",
     "output_type": "stream",
     "text": [
      "tune_bagging_fraction_and_bagging_freq, val_score: 0.285480:  50%|#####     | 5/10 [00:14<00:14,  2.93s/it]"
     ]
    },
    {
     "name": "stdout",
     "output_type": "stream",
     "text": [
      "Training until validation scores don't improve for 100 rounds\n",
      "[100]\ttr's binary_logloss: 0.284815\tvl's binary_logloss: 0.288406\n",
      "[200]\ttr's binary_logloss: 0.281077\tvl's binary_logloss: 0.287191\n",
      "[300]\ttr's binary_logloss: 0.278342\tvl's binary_logloss: 0.286656\n",
      "[400]\ttr's binary_logloss: 0.275901\tvl's binary_logloss: 0.286392\n",
      "[500]\ttr's binary_logloss: 0.273574\tvl's binary_logloss: 0.28616\n",
      "[600]\ttr's binary_logloss: 0.271622\tvl's binary_logloss: 0.286121\n",
      "Early stopping, best iteration is:\n",
      "[554]\ttr's binary_logloss: 0.272497\tvl's binary_logloss: 0.286059\n"
     ]
    },
    {
     "name": "stderr",
     "output_type": "stream",
     "text": [
      "tune_bagging_fraction_and_bagging_freq, val_score: 0.285480:  60%|######    | 6/10 [00:17<00:11,  2.92s/it]"
     ]
    },
    {
     "name": "stdout",
     "output_type": "stream",
     "text": [
      "Training until validation scores don't improve for 100 rounds\n",
      "[100]\ttr's binary_logloss: 0.284506\tvl's binary_logloss: 0.288733\n",
      "[200]\ttr's binary_logloss: 0.280565\tvl's binary_logloss: 0.287618\n",
      "[300]\ttr's binary_logloss: 0.277715\tvl's binary_logloss: 0.286941\n",
      "[400]\ttr's binary_logloss: 0.275299\tvl's binary_logloss: 0.286712\n",
      "[500]\ttr's binary_logloss: 0.273024\tvl's binary_logloss: 0.286117\n",
      "[600]\ttr's binary_logloss: 0.271082\tvl's binary_logloss: 0.285805\n",
      "[700]\ttr's binary_logloss: 0.26909\tvl's binary_logloss: 0.286105\n",
      "Early stopping, best iteration is:\n",
      "[631]\ttr's binary_logloss: 0.270417\tvl's binary_logloss: 0.285734\n"
     ]
    },
    {
     "name": "stderr",
     "output_type": "stream",
     "text": [
      "tune_bagging_fraction_and_bagging_freq, val_score: 0.285480:  70%|#######   | 7/10 [00:20<00:09,  3.02s/it]"
     ]
    },
    {
     "name": "stdout",
     "output_type": "stream",
     "text": [
      "Training until validation scores don't improve for 100 rounds\n",
      "[100]\ttr's binary_logloss: 0.284341\tvl's binary_logloss: 0.28863\n",
      "[200]\ttr's binary_logloss: 0.279817\tvl's binary_logloss: 0.287488\n",
      "[300]\ttr's binary_logloss: 0.276675\tvl's binary_logloss: 0.287051\n",
      "[400]\ttr's binary_logloss: 0.274015\tvl's binary_logloss: 0.286927\n",
      "[500]\ttr's binary_logloss: 0.271587\tvl's binary_logloss: 0.286434\n",
      "[600]\ttr's binary_logloss: 0.269351\tvl's binary_logloss: 0.286337\n",
      "[700]\ttr's binary_logloss: 0.267125\tvl's binary_logloss: 0.286039\n",
      "[800]\ttr's binary_logloss: 0.264937\tvl's binary_logloss: 0.286283\n",
      "Early stopping, best iteration is:\n",
      "[723]\ttr's binary_logloss: 0.266582\tvl's binary_logloss: 0.286\n"
     ]
    },
    {
     "name": "stderr",
     "output_type": "stream",
     "text": [
      "tune_bagging_fraction_and_bagging_freq, val_score: 0.285480:  80%|########  | 8/10 [00:25<00:06,  3.46s/it]"
     ]
    },
    {
     "name": "stdout",
     "output_type": "stream",
     "text": [
      "Training until validation scores don't improve for 100 rounds\n",
      "[100]\ttr's binary_logloss: 0.284612\tvl's binary_logloss: 0.288036\n",
      "[200]\ttr's binary_logloss: 0.280851\tvl's binary_logloss: 0.286954\n",
      "[300]\ttr's binary_logloss: 0.278099\tvl's binary_logloss: 0.286569\n",
      "[400]\ttr's binary_logloss: 0.27572\tvl's binary_logloss: 0.286101\n",
      "[500]\ttr's binary_logloss: 0.273408\tvl's binary_logloss: 0.285703\n",
      "[600]\ttr's binary_logloss: 0.271465\tvl's binary_logloss: 0.285533\n",
      "[700]\ttr's binary_logloss: 0.269454\tvl's binary_logloss: 0.285557\n",
      "Early stopping, best iteration is:\n",
      "[617]\ttr's binary_logloss: 0.27106\tvl's binary_logloss: 0.285389\n"
     ]
    },
    {
     "name": "stderr",
     "output_type": "stream",
     "text": [
      "tune_bagging_fraction_and_bagging_freq, val_score: 0.285389:  90%|######### | 9/10 [00:29<00:03,  3.81s/it]"
     ]
    },
    {
     "name": "stdout",
     "output_type": "stream",
     "text": [
      "Training until validation scores don't improve for 100 rounds\n",
      "[100]\ttr's binary_logloss: 0.285312\tvl's binary_logloss: 0.28861\n",
      "[200]\ttr's binary_logloss: 0.281819\tvl's binary_logloss: 0.287279\n",
      "[300]\ttr's binary_logloss: 0.279216\tvl's binary_logloss: 0.286535\n",
      "Early stopping, best iteration is:\n",
      "[260]\ttr's binary_logloss: 0.280093\tvl's binary_logloss: 0.286388\n"
     ]
    },
    {
     "name": "stderr",
     "output_type": "stream",
     "text": [
      "tune_bagging_fraction_and_bagging_freq, val_score: 0.285389: 100%|##########| 10/10 [00:32<00:00,  3.20s/it]\n",
      "tune_feature_fraction, val_score: 0.285389:   0%|          | 0/3 [00:00<?, ?it/s]"
     ]
    },
    {
     "name": "stdout",
     "output_type": "stream",
     "text": [
      "Training until validation scores don't improve for 100 rounds\n",
      "[100]\ttr's binary_logloss: 0.284628\tvl's binary_logloss: 0.288126\n",
      "[200]\ttr's binary_logloss: 0.280751\tvl's binary_logloss: 0.287222\n",
      "[300]\ttr's binary_logloss: 0.27792\tvl's binary_logloss: 0.286757\n",
      "[400]\ttr's binary_logloss: 0.275449\tvl's binary_logloss: 0.286135\n",
      "[500]\ttr's binary_logloss: 0.273122\tvl's binary_logloss: 0.285735\n",
      "[600]\ttr's binary_logloss: 0.271303\tvl's binary_logloss: 0.28553\n",
      "[700]\ttr's binary_logloss: 0.269393\tvl's binary_logloss: 0.285385\n",
      "[800]\ttr's binary_logloss: 0.267806\tvl's binary_logloss: 0.285267\n",
      "Early stopping, best iteration is:\n",
      "[779]\ttr's binary_logloss: 0.268123\tvl's binary_logloss: 0.285145\n"
     ]
    },
    {
     "name": "stderr",
     "output_type": "stream",
     "text": [
      "tune_feature_fraction, val_score: 0.285145:  33%|###3      | 1/3 [00:05<00:10,  5.40s/it]"
     ]
    },
    {
     "name": "stdout",
     "output_type": "stream",
     "text": [
      "Training until validation scores don't improve for 100 rounds\n",
      "[100]\ttr's binary_logloss: 0.284341\tvl's binary_logloss: 0.288317\n",
      "[200]\ttr's binary_logloss: 0.280578\tvl's binary_logloss: 0.287169\n",
      "[300]\ttr's binary_logloss: 0.277793\tvl's binary_logloss: 0.286406\n",
      "[400]\ttr's binary_logloss: 0.2755\tvl's binary_logloss: 0.285723\n",
      "[500]\ttr's binary_logloss: 0.273185\tvl's binary_logloss: 0.285346\n",
      "[600]\ttr's binary_logloss: 0.271281\tvl's binary_logloss: 0.285274\n",
      "Early stopping, best iteration is:\n",
      "[560]\ttr's binary_logloss: 0.272004\tvl's binary_logloss: 0.285102\n"
     ]
    },
    {
     "name": "stderr",
     "output_type": "stream",
     "text": [
      "tune_feature_fraction, val_score: 0.285102:  67%|######6   | 2/3 [00:09<00:05,  5.11s/it]"
     ]
    },
    {
     "name": "stdout",
     "output_type": "stream",
     "text": [
      "Training until validation scores don't improve for 100 rounds\n",
      "[100]\ttr's binary_logloss: 0.2844\tvl's binary_logloss: 0.288444\n",
      "[200]\ttr's binary_logloss: 0.280501\tvl's binary_logloss: 0.28744\n",
      "[300]\ttr's binary_logloss: 0.27773\tvl's binary_logloss: 0.286936\n",
      "[400]\ttr's binary_logloss: 0.275366\tvl's binary_logloss: 0.286589\n",
      "[500]\ttr's binary_logloss: 0.273041\tvl's binary_logloss: 0.286219\n",
      "[600]\ttr's binary_logloss: 0.271106\tvl's binary_logloss: 0.285684\n",
      "[700]\ttr's binary_logloss: 0.26925\tvl's binary_logloss: 0.285651\n",
      "Early stopping, best iteration is:\n",
      "[664]\ttr's binary_logloss: 0.269906\tvl's binary_logloss: 0.285504\n"
     ]
    },
    {
     "name": "stderr",
     "output_type": "stream",
     "text": [
      "tune_feature_fraction, val_score: 0.285102: 100%|##########| 3/3 [00:14<00:00,  4.98s/it]\n",
      "tune_lambda_l1_and_lambda_l2, val_score: 0.285102:   0%|          | 0/20 [00:00<?, ?it/s]"
     ]
    },
    {
     "name": "stdout",
     "output_type": "stream",
     "text": [
      "Training until validation scores don't improve for 100 rounds\n",
      "[100]\ttr's binary_logloss: 0.284341\tvl's binary_logloss: 0.288317\n",
      "[200]\ttr's binary_logloss: 0.280578\tvl's binary_logloss: 0.287169\n",
      "[300]\ttr's binary_logloss: 0.277793\tvl's binary_logloss: 0.286406\n",
      "[400]\ttr's binary_logloss: 0.2755\tvl's binary_logloss: 0.285723\n",
      "[500]\ttr's binary_logloss: 0.273185\tvl's binary_logloss: 0.285346\n",
      "[600]\ttr's binary_logloss: 0.271281\tvl's binary_logloss: 0.285274\n",
      "Early stopping, best iteration is:\n",
      "[560]\ttr's binary_logloss: 0.272004\tvl's binary_logloss: 0.285102\n"
     ]
    },
    {
     "name": "stderr",
     "output_type": "stream",
     "text": [
      "tune_lambda_l1_and_lambda_l2, val_score: 0.285102:   5%|5         | 1/20 [00:04<01:23,  4.39s/it]"
     ]
    },
    {
     "name": "stdout",
     "output_type": "stream",
     "text": [
      "Training until validation scores don't improve for 100 rounds\n",
      "[100]\ttr's binary_logloss: 0.284341\tvl's binary_logloss: 0.288317\n",
      "[200]\ttr's binary_logloss: 0.280579\tvl's binary_logloss: 0.287169\n",
      "[300]\ttr's binary_logloss: 0.277795\tvl's binary_logloss: 0.286406\n",
      "[400]\ttr's binary_logloss: 0.275456\tvl's binary_logloss: 0.285702\n",
      "[500]\ttr's binary_logloss: 0.273021\tvl's binary_logloss: 0.285189\n",
      "[600]\ttr's binary_logloss: 0.271169\tvl's binary_logloss: 0.284847\n",
      "[700]\ttr's binary_logloss: 0.269317\tvl's binary_logloss: 0.284891\n",
      "Early stopping, best iteration is:\n",
      "[612]\ttr's binary_logloss: 0.270978\tvl's binary_logloss: 0.284708\n"
     ]
    },
    {
     "name": "stderr",
     "output_type": "stream",
     "text": [
      "tune_lambda_l1_and_lambda_l2, val_score: 0.284708:  10%|#         | 2/20 [00:09<01:20,  4.49s/it]"
     ]
    },
    {
     "name": "stdout",
     "output_type": "stream",
     "text": [
      "Training until validation scores don't improve for 100 rounds\n",
      "[100]\ttr's binary_logloss: 0.284204\tvl's binary_logloss: 0.28818\n",
      "[200]\ttr's binary_logloss: 0.280349\tvl's binary_logloss: 0.286996\n",
      "[300]\ttr's binary_logloss: 0.277534\tvl's binary_logloss: 0.286603\n",
      "[400]\ttr's binary_logloss: 0.275153\tvl's binary_logloss: 0.285973\n",
      "[500]\ttr's binary_logloss: 0.272844\tvl's binary_logloss: 0.285721\n",
      "[600]\ttr's binary_logloss: 0.271097\tvl's binary_logloss: 0.28547\n",
      "[700]\ttr's binary_logloss: 0.269173\tvl's binary_logloss: 0.285692\n",
      "Early stopping, best iteration is:\n",
      "[612]\ttr's binary_logloss: 0.270867\tvl's binary_logloss: 0.28539\n"
     ]
    },
    {
     "name": "stderr",
     "output_type": "stream",
     "text": [
      "tune_lambda_l1_and_lambda_l2, val_score: 0.284708:  15%|#5        | 3/20 [00:13<01:17,  4.55s/it]"
     ]
    },
    {
     "name": "stdout",
     "output_type": "stream",
     "text": [
      "Training until validation scores don't improve for 100 rounds\n",
      "[100]\ttr's binary_logloss: 0.284243\tvl's binary_logloss: 0.288214\n",
      "[200]\ttr's binary_logloss: 0.280544\tvl's binary_logloss: 0.287055\n",
      "[300]\ttr's binary_logloss: 0.277924\tvl's binary_logloss: 0.286524\n",
      "[400]\ttr's binary_logloss: 0.275634\tvl's binary_logloss: 0.286029\n",
      "[500]\ttr's binary_logloss: 0.273418\tvl's binary_logloss: 0.28571\n",
      "[600]\ttr's binary_logloss: 0.271771\tvl's binary_logloss: 0.285552\n",
      "[700]\ttr's binary_logloss: 0.269967\tvl's binary_logloss: 0.285166\n",
      "[800]\ttr's binary_logloss: 0.268538\tvl's binary_logloss: 0.284814\n",
      "[900]\ttr's binary_logloss: 0.266878\tvl's binary_logloss: 0.285\n",
      "Early stopping, best iteration is:\n",
      "[804]\ttr's binary_logloss: 0.268475\tvl's binary_logloss: 0.284807\n"
     ]
    },
    {
     "name": "stderr",
     "output_type": "stream",
     "text": [
      "tune_lambda_l1_and_lambda_l2, val_score: 0.284708:  20%|##        | 4/20 [00:19<01:20,  5.01s/it]"
     ]
    },
    {
     "name": "stdout",
     "output_type": "stream",
     "text": [
      "Training until validation scores don't improve for 100 rounds\n",
      "[100]\ttr's binary_logloss: 0.284506\tvl's binary_logloss: 0.288306\n",
      "[200]\ttr's binary_logloss: 0.280999\tvl's binary_logloss: 0.287207\n",
      "[300]\ttr's binary_logloss: 0.27835\tvl's binary_logloss: 0.286439\n",
      "[400]\ttr's binary_logloss: 0.276096\tvl's binary_logloss: 0.285764\n",
      "[500]\ttr's binary_logloss: 0.273962\tvl's binary_logloss: 0.285518\n",
      "[600]\ttr's binary_logloss: 0.272295\tvl's binary_logloss: 0.285275\n",
      "[700]\ttr's binary_logloss: 0.270613\tvl's binary_logloss: 0.285145\n",
      "[800]\ttr's binary_logloss: 0.269166\tvl's binary_logloss: 0.285094\n",
      "Early stopping, best iteration is:\n",
      "[722]\ttr's binary_logloss: 0.270235\tvl's binary_logloss: 0.284964\n"
     ]
    },
    {
     "name": "stderr",
     "output_type": "stream",
     "text": [
      "tune_lambda_l1_and_lambda_l2, val_score: 0.284708:  25%|##5       | 5/20 [00:25<01:17,  5.15s/it]"
     ]
    },
    {
     "name": "stdout",
     "output_type": "stream",
     "text": [
      "Training until validation scores don't improve for 100 rounds\n",
      "[100]\ttr's binary_logloss: 0.284481\tvl's binary_logloss: 0.288244\n",
      "[200]\ttr's binary_logloss: 0.280664\tvl's binary_logloss: 0.28704\n",
      "[300]\ttr's binary_logloss: 0.277838\tvl's binary_logloss: 0.286471\n",
      "[400]\ttr's binary_logloss: 0.27556\tvl's binary_logloss: 0.285934\n",
      "[500]\ttr's binary_logloss: 0.273268\tvl's binary_logloss: 0.285624\n",
      "[600]\ttr's binary_logloss: 0.271555\tvl's binary_logloss: 0.285375\n",
      "[700]\ttr's binary_logloss: 0.269739\tvl's binary_logloss: 0.285088\n",
      "[800]\ttr's binary_logloss: 0.268259\tvl's binary_logloss: 0.284969\n",
      "Early stopping, best iteration is:\n",
      "[765]\ttr's binary_logloss: 0.26876\tvl's binary_logloss: 0.284882\n"
     ]
    },
    {
     "name": "stderr",
     "output_type": "stream",
     "text": [
      "tune_lambda_l1_and_lambda_l2, val_score: 0.284708:  30%|###       | 6/20 [00:31<01:14,  5.33s/it]"
     ]
    },
    {
     "name": "stdout",
     "output_type": "stream",
     "text": [
      "Training until validation scores don't improve for 100 rounds\n",
      "[100]\ttr's binary_logloss: 0.284203\tvl's binary_logloss: 0.28818\n",
      "[200]\ttr's binary_logloss: 0.280341\tvl's binary_logloss: 0.287048\n",
      "[300]\ttr's binary_logloss: 0.277527\tvl's binary_logloss: 0.286506\n",
      "[400]\ttr's binary_logloss: 0.275085\tvl's binary_logloss: 0.285949\n",
      "[500]\ttr's binary_logloss: 0.272879\tvl's binary_logloss: 0.285839\n",
      "[600]\ttr's binary_logloss: 0.271025\tvl's binary_logloss: 0.285684\n",
      "[700]\ttr's binary_logloss: 0.269046\tvl's binary_logloss: 0.285802\n",
      "[800]\ttr's binary_logloss: 0.267511\tvl's binary_logloss: 0.28555\n",
      "Early stopping, best iteration is:\n",
      "[764]\ttr's binary_logloss: 0.268055\tvl's binary_logloss: 0.285491\n"
     ]
    },
    {
     "name": "stderr",
     "output_type": "stream",
     "text": [
      "tune_lambda_l1_and_lambda_l2, val_score: 0.284708:  35%|###5      | 7/20 [00:37<01:11,  5.50s/it]"
     ]
    },
    {
     "name": "stdout",
     "output_type": "stream",
     "text": [
      "Training until validation scores don't improve for 100 rounds\n",
      "[100]\ttr's binary_logloss: 0.284218\tvl's binary_logloss: 0.288243\n",
      "[200]\ttr's binary_logloss: 0.280272\tvl's binary_logloss: 0.287169\n",
      "[300]\ttr's binary_logloss: 0.277412\tvl's binary_logloss: 0.286697\n",
      "[400]\ttr's binary_logloss: 0.275074\tvl's binary_logloss: 0.286068\n",
      "[500]\ttr's binary_logloss: 0.272727\tvl's binary_logloss: 0.286035\n",
      "[600]\ttr's binary_logloss: 0.270861\tvl's binary_logloss: 0.285474\n",
      "[700]\ttr's binary_logloss: 0.26902\tvl's binary_logloss: 0.285645\n",
      "Early stopping, best iteration is:\n",
      "[612]\ttr's binary_logloss: 0.270658\tvl's binary_logloss: 0.28534\n"
     ]
    },
    {
     "name": "stderr",
     "output_type": "stream",
     "text": [
      "tune_lambda_l1_and_lambda_l2, val_score: 0.284708:  40%|####      | 8/20 [00:41<01:02,  5.25s/it]"
     ]
    },
    {
     "name": "stdout",
     "output_type": "stream",
     "text": [
      "Training until validation scores don't improve for 100 rounds\n",
      "[100]\ttr's binary_logloss: 0.284341\tvl's binary_logloss: 0.288317\n",
      "[200]\ttr's binary_logloss: 0.280578\tvl's binary_logloss: 0.287169\n",
      "[300]\ttr's binary_logloss: 0.277793\tvl's binary_logloss: 0.286406\n",
      "[400]\ttr's binary_logloss: 0.2755\tvl's binary_logloss: 0.285723\n",
      "[500]\ttr's binary_logloss: 0.273185\tvl's binary_logloss: 0.285346\n",
      "[600]\ttr's binary_logloss: 0.271281\tvl's binary_logloss: 0.285274\n",
      "Early stopping, best iteration is:\n",
      "[560]\ttr's binary_logloss: 0.272005\tvl's binary_logloss: 0.285102\n"
     ]
    },
    {
     "name": "stderr",
     "output_type": "stream",
     "text": [
      "tune_lambda_l1_and_lambda_l2, val_score: 0.284708:  45%|####5     | 9/20 [00:46<00:54,  4.96s/it]"
     ]
    },
    {
     "name": "stdout",
     "output_type": "stream",
     "text": [
      "Training until validation scores don't improve for 100 rounds\n",
      "[100]\ttr's binary_logloss: 0.284341\tvl's binary_logloss: 0.288317\n",
      "[200]\ttr's binary_logloss: 0.280578\tvl's binary_logloss: 0.287169\n",
      "[300]\ttr's binary_logloss: 0.277793\tvl's binary_logloss: 0.286406\n",
      "[400]\ttr's binary_logloss: 0.275501\tvl's binary_logloss: 0.285723\n",
      "[500]\ttr's binary_logloss: 0.273186\tvl's binary_logloss: 0.285346\n",
      "[600]\ttr's binary_logloss: 0.271282\tvl's binary_logloss: 0.285274\n",
      "Early stopping, best iteration is:\n",
      "[560]\ttr's binary_logloss: 0.272005\tvl's binary_logloss: 0.285102\n"
     ]
    },
    {
     "name": "stderr",
     "output_type": "stream",
     "text": [
      "tune_lambda_l1_and_lambda_l2, val_score: 0.284708:  50%|#####     | 10/20 [00:50<00:48,  4.82s/it]"
     ]
    },
    {
     "name": "stdout",
     "output_type": "stream",
     "text": [
      "Training until validation scores don't improve for 100 rounds\n",
      "[100]\ttr's binary_logloss: 0.28434\tvl's binary_logloss: 0.288239\n",
      "[200]\ttr's binary_logloss: 0.280625\tvl's binary_logloss: 0.287114\n",
      "[300]\ttr's binary_logloss: 0.277952\tvl's binary_logloss: 0.286572\n",
      "[400]\ttr's binary_logloss: 0.275736\tvl's binary_logloss: 0.286011\n",
      "[500]\ttr's binary_logloss: 0.273481\tvl's binary_logloss: 0.285716\n",
      "[600]\ttr's binary_logloss: 0.271656\tvl's binary_logloss: 0.285402\n",
      "[700]\ttr's binary_logloss: 0.269831\tvl's binary_logloss: 0.285332\n",
      "[800]\ttr's binary_logloss: 0.268353\tvl's binary_logloss: 0.285205\n",
      "Early stopping, best iteration is:\n",
      "[792]\ttr's binary_logloss: 0.268525\tvl's binary_logloss: 0.285169\n"
     ]
    },
    {
     "name": "stderr",
     "output_type": "stream",
     "text": [
      "tune_lambda_l1_and_lambda_l2, val_score: 0.284708:  55%|#####5    | 11/20 [00:56<00:46,  5.13s/it]"
     ]
    },
    {
     "name": "stdout",
     "output_type": "stream",
     "text": [
      "Training until validation scores don't improve for 100 rounds\n",
      "[100]\ttr's binary_logloss: 0.285002\tvl's binary_logloss: 0.288226\n",
      "[200]\ttr's binary_logloss: 0.281841\tvl's binary_logloss: 0.287362\n",
      "[300]\ttr's binary_logloss: 0.279748\tvl's binary_logloss: 0.286792\n",
      "[400]\ttr's binary_logloss: 0.278144\tvl's binary_logloss: 0.28637\n",
      "[500]\ttr's binary_logloss: 0.276464\tvl's binary_logloss: 0.286117\n",
      "[600]\ttr's binary_logloss: 0.275317\tvl's binary_logloss: 0.286097\n",
      "Early stopping, best iteration is:\n",
      "[556]\ttr's binary_logloss: 0.27584\tvl's binary_logloss: 0.285941\n"
     ]
    },
    {
     "name": "stderr",
     "output_type": "stream",
     "text": [
      "tune_lambda_l1_and_lambda_l2, val_score: 0.284708:  60%|######    | 12/20 [01:00<00:39,  4.91s/it]"
     ]
    },
    {
     "name": "stdout",
     "output_type": "stream",
     "text": [
      "Training until validation scores don't improve for 100 rounds\n",
      "[100]\ttr's binary_logloss: 0.284208\tvl's binary_logloss: 0.288182\n",
      "[200]\ttr's binary_logloss: 0.280422\tvl's binary_logloss: 0.28715\n",
      "[300]\ttr's binary_logloss: 0.277742\tvl's binary_logloss: 0.286535\n",
      "[400]\ttr's binary_logloss: 0.27524\tvl's binary_logloss: 0.286209\n",
      "[500]\ttr's binary_logloss: 0.272947\tvl's binary_logloss: 0.286041\n",
      "[600]\ttr's binary_logloss: 0.270961\tvl's binary_logloss: 0.285679\n",
      "[700]\ttr's binary_logloss: 0.269116\tvl's binary_logloss: 0.28557\n",
      "[800]\ttr's binary_logloss: 0.267557\tvl's binary_logloss: 0.285329\n",
      "Early stopping, best iteration is:\n",
      "[765]\ttr's binary_logloss: 0.268131\tvl's binary_logloss: 0.285281\n"
     ]
    },
    {
     "name": "stderr",
     "output_type": "stream",
     "text": [
      "tune_lambda_l1_and_lambda_l2, val_score: 0.284708:  65%|######5   | 13/20 [01:06<00:36,  5.19s/it]"
     ]
    },
    {
     "name": "stdout",
     "output_type": "stream",
     "text": [
      "Training until validation scores don't improve for 100 rounds\n",
      "[100]\ttr's binary_logloss: 0.284341\tvl's binary_logloss: 0.288317\n",
      "[200]\ttr's binary_logloss: 0.280578\tvl's binary_logloss: 0.287169\n",
      "[300]\ttr's binary_logloss: 0.277793\tvl's binary_logloss: 0.286406\n",
      "[400]\ttr's binary_logloss: 0.2755\tvl's binary_logloss: 0.285723\n",
      "[500]\ttr's binary_logloss: 0.273185\tvl's binary_logloss: 0.285346\n",
      "[600]\ttr's binary_logloss: 0.271282\tvl's binary_logloss: 0.285274\n",
      "Early stopping, best iteration is:\n",
      "[560]\ttr's binary_logloss: 0.272005\tvl's binary_logloss: 0.285102\n"
     ]
    },
    {
     "name": "stderr",
     "output_type": "stream",
     "text": [
      "tune_lambda_l1_and_lambda_l2, val_score: 0.284708:  70%|#######   | 14/20 [01:10<00:29,  4.92s/it]"
     ]
    },
    {
     "name": "stdout",
     "output_type": "stream",
     "text": [
      "Training until validation scores don't improve for 100 rounds\n",
      "[100]\ttr's binary_logloss: 0.284939\tvl's binary_logloss: 0.288163\n",
      "[200]\ttr's binary_logloss: 0.281558\tvl's binary_logloss: 0.287087\n",
      "[300]\ttr's binary_logloss: 0.279352\tvl's binary_logloss: 0.286585\n",
      "[400]\ttr's binary_logloss: 0.277503\tvl's binary_logloss: 0.286216\n",
      "[500]\ttr's binary_logloss: 0.275899\tvl's binary_logloss: 0.286071\n",
      "[600]\ttr's binary_logloss: 0.274671\tvl's binary_logloss: 0.285854\n",
      "[700]\ttr's binary_logloss: 0.273367\tvl's binary_logloss: 0.285833\n",
      "[800]\ttr's binary_logloss: 0.272347\tvl's binary_logloss: 0.285633\n",
      "Early stopping, best iteration is:\n",
      "[792]\ttr's binary_logloss: 0.272448\tvl's binary_logloss: 0.285606\n"
     ]
    },
    {
     "name": "stderr",
     "output_type": "stream",
     "text": [
      "tune_lambda_l1_and_lambda_l2, val_score: 0.284708:  75%|#######5  | 15/20 [01:17<00:26,  5.28s/it]"
     ]
    },
    {
     "name": "stdout",
     "output_type": "stream",
     "text": [
      "Training until validation scores don't improve for 100 rounds\n",
      "[100]\ttr's binary_logloss: 0.284341\tvl's binary_logloss: 0.288317\n",
      "[200]\ttr's binary_logloss: 0.280578\tvl's binary_logloss: 0.287169\n",
      "[300]\ttr's binary_logloss: 0.277793\tvl's binary_logloss: 0.286406\n",
      "[400]\ttr's binary_logloss: 0.2755\tvl's binary_logloss: 0.285723\n",
      "[500]\ttr's binary_logloss: 0.273185\tvl's binary_logloss: 0.285346\n",
      "[600]\ttr's binary_logloss: 0.271282\tvl's binary_logloss: 0.285274\n",
      "Early stopping, best iteration is:\n",
      "[560]\ttr's binary_logloss: 0.272005\tvl's binary_logloss: 0.285102\n"
     ]
    },
    {
     "name": "stderr",
     "output_type": "stream",
     "text": [
      "tune_lambda_l1_and_lambda_l2, val_score: 0.284708:  80%|########  | 16/20 [01:21<00:20,  5.03s/it]"
     ]
    },
    {
     "name": "stdout",
     "output_type": "stream",
     "text": [
      "Training until validation scores don't improve for 100 rounds\n",
      "[100]\ttr's binary_logloss: 0.284274\tvl's binary_logloss: 0.288179\n",
      "[200]\ttr's binary_logloss: 0.280456\tvl's binary_logloss: 0.286973\n",
      "[300]\ttr's binary_logloss: 0.277616\tvl's binary_logloss: 0.286439\n",
      "[400]\ttr's binary_logloss: 0.275253\tvl's binary_logloss: 0.285853\n",
      "[500]\ttr's binary_logloss: 0.27289\tvl's binary_logloss: 0.285451\n",
      "[600]\ttr's binary_logloss: 0.271054\tvl's binary_logloss: 0.28528\n",
      "Early stopping, best iteration is:\n",
      "[560]\ttr's binary_logloss: 0.271771\tvl's binary_logloss: 0.285142\n"
     ]
    },
    {
     "name": "stderr",
     "output_type": "stream",
     "text": [
      "tune_lambda_l1_and_lambda_l2, val_score: 0.284708:  85%|########5 | 17/20 [01:25<00:14,  4.82s/it]"
     ]
    },
    {
     "name": "stdout",
     "output_type": "stream",
     "text": [
      "Training until validation scores don't improve for 100 rounds\n",
      "[100]\ttr's binary_logloss: 0.284483\tvl's binary_logloss: 0.288247\n",
      "[200]\ttr's binary_logloss: 0.280661\tvl's binary_logloss: 0.287124\n",
      "[300]\ttr's binary_logloss: 0.277995\tvl's binary_logloss: 0.286896\n",
      "[400]\ttr's binary_logloss: 0.275732\tvl's binary_logloss: 0.286134\n",
      "[500]\ttr's binary_logloss: 0.273475\tvl's binary_logloss: 0.286012\n",
      "[600]\ttr's binary_logloss: 0.271676\tvl's binary_logloss: 0.285803\n",
      "[700]\ttr's binary_logloss: 0.269892\tvl's binary_logloss: 0.28584\n",
      "Early stopping, best iteration is:\n",
      "[621]\ttr's binary_logloss: 0.271239\tvl's binary_logloss: 0.285609\n"
     ]
    },
    {
     "name": "stderr",
     "output_type": "stream",
     "text": [
      "tune_lambda_l1_and_lambda_l2, val_score: 0.284708:  90%|######### | 18/20 [01:30<00:09,  4.84s/it]"
     ]
    },
    {
     "name": "stdout",
     "output_type": "stream",
     "text": [
      "Training until validation scores don't improve for 100 rounds\n",
      "[100]\ttr's binary_logloss: 0.284205\tvl's binary_logloss: 0.28818\n",
      "[200]\ttr's binary_logloss: 0.280501\tvl's binary_logloss: 0.286908\n",
      "[300]\ttr's binary_logloss: 0.277647\tvl's binary_logloss: 0.286397\n",
      "[400]\ttr's binary_logloss: 0.275257\tvl's binary_logloss: 0.285735\n",
      "[500]\ttr's binary_logloss: 0.273015\tvl's binary_logloss: 0.285672\n",
      "[600]\ttr's binary_logloss: 0.271127\tvl's binary_logloss: 0.285358\n",
      "[700]\ttr's binary_logloss: 0.269217\tvl's binary_logloss: 0.285406\n",
      "Early stopping, best iteration is:\n",
      "[608]\ttr's binary_logloss: 0.270981\tvl's binary_logloss: 0.285281\n"
     ]
    },
    {
     "name": "stderr",
     "output_type": "stream",
     "text": [
      "tune_lambda_l1_and_lambda_l2, val_score: 0.284708:  95%|#########5| 19/20 [01:35<00:04,  4.81s/it]"
     ]
    },
    {
     "name": "stdout",
     "output_type": "stream",
     "text": [
      "Training until validation scores don't improve for 100 rounds\n",
      "[100]\ttr's binary_logloss: 0.284341\tvl's binary_logloss: 0.288317\n",
      "[200]\ttr's binary_logloss: 0.280578\tvl's binary_logloss: 0.287169\n",
      "[300]\ttr's binary_logloss: 0.277793\tvl's binary_logloss: 0.286406\n",
      "[400]\ttr's binary_logloss: 0.2755\tvl's binary_logloss: 0.285723\n",
      "[500]\ttr's binary_logloss: 0.273185\tvl's binary_logloss: 0.285346\n",
      "[600]\ttr's binary_logloss: 0.271281\tvl's binary_logloss: 0.285274\n",
      "Early stopping, best iteration is:\n",
      "[560]\ttr's binary_logloss: 0.272004\tvl's binary_logloss: 0.285102\n"
     ]
    },
    {
     "name": "stderr",
     "output_type": "stream",
     "text": [
      "tune_lambda_l1_and_lambda_l2, val_score: 0.284708: 100%|##########| 20/20 [01:39<00:00,  4.99s/it]\n",
      "tune_min_child_samples, val_score: 0.284708:   0%|          | 0/5 [00:00<?, ?it/s]"
     ]
    },
    {
     "name": "stdout",
     "output_type": "stream",
     "text": [
      "Training until validation scores don't improve for 100 rounds\n",
      "[100]\ttr's binary_logloss: 0.284344\tvl's binary_logloss: 0.288283\n",
      "[200]\ttr's binary_logloss: 0.280245\tvl's binary_logloss: 0.287445\n",
      "[300]\ttr's binary_logloss: 0.277248\tvl's binary_logloss: 0.286757\n",
      "[400]\ttr's binary_logloss: 0.274709\tvl's binary_logloss: 0.286093\n",
      "[500]\ttr's binary_logloss: 0.272284\tvl's binary_logloss: 0.286136\n",
      "Early stopping, best iteration is:\n",
      "[410]\ttr's binary_logloss: 0.274475\tvl's binary_logloss: 0.285987\n"
     ]
    },
    {
     "name": "stderr",
     "output_type": "stream",
     "text": [
      "tune_min_child_samples, val_score: 0.284708:  20%|##        | 1/5 [00:03<00:13,  3.41s/it]"
     ]
    },
    {
     "name": "stdout",
     "output_type": "stream",
     "text": [
      "Training until validation scores don't improve for 100 rounds\n",
      "[100]\ttr's binary_logloss: 0.284341\tvl's binary_logloss: 0.288317\n",
      "[200]\ttr's binary_logloss: 0.280433\tvl's binary_logloss: 0.287055\n",
      "[300]\ttr's binary_logloss: 0.27744\tvl's binary_logloss: 0.286442\n",
      "[400]\ttr's binary_logloss: 0.274896\tvl's binary_logloss: 0.285842\n",
      "[500]\ttr's binary_logloss: 0.272489\tvl's binary_logloss: 0.28555\n",
      "[600]\ttr's binary_logloss: 0.27058\tvl's binary_logloss: 0.285271\n",
      "[700]\ttr's binary_logloss: 0.268712\tvl's binary_logloss: 0.285318\n",
      "Early stopping, best iteration is:\n",
      "[621]\ttr's binary_logloss: 0.270143\tvl's binary_logloss: 0.285028\n"
     ]
    },
    {
     "name": "stderr",
     "output_type": "stream",
     "text": [
      "tune_min_child_samples, val_score: 0.284708:  40%|####      | 2/5 [00:08<00:11,  3.80s/it]"
     ]
    },
    {
     "name": "stdout",
     "output_type": "stream",
     "text": [
      "Training until validation scores don't improve for 100 rounds\n",
      "[100]\ttr's binary_logloss: 0.284343\tvl's binary_logloss: 0.288336\n",
      "[200]\ttr's binary_logloss: 0.28053\tvl's binary_logloss: 0.287283\n",
      "[300]\ttr's binary_logloss: 0.277656\tvl's binary_logloss: 0.286608\n",
      "[400]\ttr's binary_logloss: 0.275283\tvl's binary_logloss: 0.286121\n",
      "[500]\ttr's binary_logloss: 0.272921\tvl's binary_logloss: 0.285895\n",
      "[600]\ttr's binary_logloss: 0.271196\tvl's binary_logloss: 0.285679\n",
      "[700]\ttr's binary_logloss: 0.269379\tvl's binary_logloss: 0.285575\n",
      "[800]\ttr's binary_logloss: 0.267872\tvl's binary_logloss: 0.285367\n",
      "Early stopping, best iteration is:\n",
      "[792]\ttr's binary_logloss: 0.268023\tvl's binary_logloss: 0.285334\n"
     ]
    },
    {
     "name": "stderr",
     "output_type": "stream",
     "text": [
      "tune_min_child_samples, val_score: 0.284708:  60%|######    | 3/5 [00:13<00:08,  4.38s/it]"
     ]
    },
    {
     "name": "stdout",
     "output_type": "stream",
     "text": [
      "Training until validation scores don't improve for 100 rounds\n",
      "[100]\ttr's binary_logloss: 0.28434\tvl's binary_logloss: 0.288349\n",
      "[200]\ttr's binary_logloss: 0.280711\tvl's binary_logloss: 0.287345\n",
      "[300]\ttr's binary_logloss: 0.277973\tvl's binary_logloss: 0.286721\n",
      "[400]\ttr's binary_logloss: 0.275631\tvl's binary_logloss: 0.286096\n",
      "[500]\ttr's binary_logloss: 0.27341\tvl's binary_logloss: 0.285735\n",
      "[600]\ttr's binary_logloss: 0.271701\tvl's binary_logloss: 0.28553\n",
      "[700]\ttr's binary_logloss: 0.26988\tvl's binary_logloss: 0.285355\n",
      "[800]\ttr's binary_logloss: 0.268366\tvl's binary_logloss: 0.285207\n",
      "Early stopping, best iteration is:\n",
      "[779]\ttr's binary_logloss: 0.268696\tvl's binary_logloss: 0.285174\n"
     ]
    },
    {
     "name": "stderr",
     "output_type": "stream",
     "text": [
      "tune_min_child_samples, val_score: 0.284708:  80%|########  | 4/5 [00:19<00:04,  4.82s/it]"
     ]
    },
    {
     "name": "stdout",
     "output_type": "stream",
     "text": [
      "Training until validation scores don't improve for 100 rounds\n",
      "[100]\ttr's binary_logloss: 0.284378\tvl's binary_logloss: 0.288244\n",
      "[200]\ttr's binary_logloss: 0.280644\tvl's binary_logloss: 0.287091\n",
      "[300]\ttr's binary_logloss: 0.278006\tvl's binary_logloss: 0.286634\n",
      "[400]\ttr's binary_logloss: 0.275793\tvl's binary_logloss: 0.286191\n",
      "[500]\ttr's binary_logloss: 0.273592\tvl's binary_logloss: 0.285736\n",
      "[600]\ttr's binary_logloss: 0.272036\tvl's binary_logloss: 0.285428\n",
      "[700]\ttr's binary_logloss: 0.270437\tvl's binary_logloss: 0.28532\n",
      "[800]\ttr's binary_logloss: 0.268968\tvl's binary_logloss: 0.28534\n",
      "Early stopping, best iteration is:\n",
      "[721]\ttr's binary_logloss: 0.270102\tvl's binary_logloss: 0.285167\n"
     ]
    },
    {
     "name": "stderr",
     "output_type": "stream",
     "text": [
      "tune_min_child_samples, val_score: 0.284708: 100%|##########| 5/5 [00:25<00:00,  5.05s/it]\n"
     ]
    },
    {
     "name": "stdout",
     "output_type": "stream",
     "text": [
      "CPU times: user 22min 37s, sys: 35min 29s, total: 58min 7s\n",
      "Wall time: 3min 46s\n"
     ]
    }
   ],
   "source": [
    "%%time\n",
    "dtr = lgb.Dataset(dftr[cols_feat], label=dftr[TCOL])\n",
    "dvl = lgb.Dataset(dfvl[cols_feat], label=dfvl[TCOL])\n",
    "best_params, tuning_history = {}, []\n",
    "evalres = {}\n",
    "evallist = [(dtr, 'train'), (dvl, 'eval')]\n",
    "bst = lgb.train(params=params, \n",
    "                train_set=dtr, \n",
    "                num_boost_round=50000,\n",
    "                valid_sets=[dtr, dvl],\n",
    "                valid_names=['tr','vl'],\n",
    "                best_params=best_params,\n",
    "                tuning_history=tuning_history,\n",
    "                verbose_eval=100,\n",
    "                early_stopping_rounds=100,\n",
    "                evals_result=evalres,\n",
    "               )\n",
    "results['bst'] = bst\n",
    "results['evalres'] = evalres\n",
    "results['best_params']=best_params\n",
    "results['tuning_history']=tuning_history"
   ]
  },
  {
   "cell_type": "code",
   "execution_count": 21,
   "metadata": {},
   "outputs": [
    {
     "data": {
      "text/plain": [
       "{'lambda_l1': 0.0048369945362713666,\n",
       " 'lambda_l2': 0.0012221801844628346,\n",
       " 'num_leaves': 5,\n",
       " 'feature_fraction': 0.44800000000000006,\n",
       " 'bagging_fraction': 0.7256490205301637,\n",
       " 'bagging_freq': 1,\n",
       " 'min_child_samples': 20}"
      ]
     },
     "execution_count": 21,
     "metadata": {},
     "output_type": "execute_result"
    }
   ],
   "source": [
    "best_params"
   ]
  },
  {
   "cell_type": "markdown",
   "metadata": {},
   "source": [
    "## tr vl trajec"
   ]
  },
  {
   "cell_type": "code",
   "execution_count": 22,
   "metadata": {
    "scrolled": true
   },
   "outputs": [
    {
     "data": {
      "image/png": "[encoded data removed]",
      "text/plain": [
       "<Figure size 432x288 with 1 Axes>"
      ]
     },
     "metadata": {
      "needs_background": "light"
     },
     "output_type": "display_data"
    }
   ],
   "source": [
    "plt.plot(evalres['tr']['binary_logloss'])\n",
    "plt.plot(evalres['vl']['binary_logloss'])\n",
    "plt.title(f\"logloss; best_iteration {bst.best_iteration}\")\n",
    "plt.show()"
   ]
  },
  {
   "cell_type": "markdown",
   "metadata": {},
   "source": [
    "## model features"
   ]
  },
  {
   "cell_type": "code",
   "execution_count": 23,
   "metadata": {},
   "outputs": [
    {
     "data": {
      "image/png": "[encoded data removed]",
      "text/plain": [
       "<Figure size 720x1080 with 1 Axes>"
      ]
     },
     "metadata": {
      "needs_background": "light"
     },
     "output_type": "display_data"
    }
   ],
   "source": [
    "ax = lgb.plot_importance(bst, height=0.8, max_num_features=50, figsize=(10,15))\n",
    "ax.grid(False, axis=\"y\")\n",
    "ax.set_title(f'Estimated feature importance')\n",
    "plt.show()"
   ]
  },
  {
   "cell_type": "code",
   "execution_count": 24,
   "metadata": {
    "scrolled": false
   },
   "outputs": [
    {
     "data": {
      "text/html": [
       "<div>\n",
       "<style scoped>\n",
       "    .dataframe tbody tr th:only-of-type {\n",
       "        vertical-align: middle;\n",
       "    }\n",
       "\n",
       "    .dataframe tbody tr th {\n",
       "        vertical-align: top;\n",
       "    }\n",
       "\n",
       "    .dataframe thead th {\n",
       "        text-align: right;\n",
       "    }\n",
       "</style>\n",
       "<table border=\"1\" class=\"dataframe\">\n",
       "  <thead>\n",
       "    <tr style=\"text-align: right;\">\n",
       "      <th></th>\n",
       "      <th>0</th>\n",
       "      <th>1</th>\n",
       "    </tr>\n",
       "  </thead>\n",
       "  <tbody>\n",
       "    <tr>\n",
       "      <th>26</th>\n",
       "      <td>langhour</td>\n",
       "      <td>804</td>\n",
       "    </tr>\n",
       "    <tr>\n",
       "      <th>1</th>\n",
       "      <td>lang</td>\n",
       "      <td>157</td>\n",
       "    </tr>\n",
       "    <tr>\n",
       "      <th>3</th>\n",
       "      <td>u1_fllwing_cnt</td>\n",
       "      <td>116</td>\n",
       "    </tr>\n",
       "    <tr>\n",
       "      <th>6</th>\n",
       "      <td>u2_fllwng_cnt</td>\n",
       "      <td>109</td>\n",
       "    </tr>\n",
       "    <tr>\n",
       "      <th>24</th>\n",
       "      <td>u1_fllwer_cnt_by_age</td>\n",
       "      <td>104</td>\n",
       "    </tr>\n",
       "    <tr>\n",
       "      <th>5</th>\n",
       "      <td>u2_fllwer_cnt</td>\n",
       "      <td>104</td>\n",
       "    </tr>\n",
       "    <tr>\n",
       "      <th>25</th>\n",
       "      <td>u1_fllwng_cnt_by_age</td>\n",
       "      <td>103</td>\n",
       "    </tr>\n",
       "    <tr>\n",
       "      <th>21</th>\n",
       "      <td>twt_age</td>\n",
       "      <td>95</td>\n",
       "    </tr>\n",
       "    <tr>\n",
       "      <th>2</th>\n",
       "      <td>u1_fllwer_cnt</td>\n",
       "      <td>84</td>\n",
       "    </tr>\n",
       "    <tr>\n",
       "      <th>23</th>\n",
       "      <td>u2_age</td>\n",
       "      <td>83</td>\n",
       "    </tr>\n",
       "    <tr>\n",
       "      <th>9</th>\n",
       "      <td>len_toks</td>\n",
       "      <td>76</td>\n",
       "    </tr>\n",
       "    <tr>\n",
       "      <th>20</th>\n",
       "      <td>tmdlta_twtu2</td>\n",
       "      <td>76</td>\n",
       "    </tr>\n",
       "    <tr>\n",
       "      <th>22</th>\n",
       "      <td>u1_age</td>\n",
       "      <td>74</td>\n",
       "    </tr>\n",
       "    <tr>\n",
       "      <th>18</th>\n",
       "      <td>tmdlta_u2u1</td>\n",
       "      <td>65</td>\n",
       "    </tr>\n",
       "    <tr>\n",
       "      <th>19</th>\n",
       "      <td>tmdlta_twtu1</td>\n",
       "      <td>61</td>\n",
       "    </tr>\n",
       "    <tr>\n",
       "      <th>0</th>\n",
       "      <td>twttyp</td>\n",
       "      <td>61</td>\n",
       "    </tr>\n",
       "    <tr>\n",
       "      <th>13</th>\n",
       "      <td>n_hshtgs</td>\n",
       "      <td>37</td>\n",
       "    </tr>\n",
       "    <tr>\n",
       "      <th>28</th>\n",
       "      <td>frq_u1id</td>\n",
       "      <td>35</td>\n",
       "    </tr>\n",
       "    <tr>\n",
       "      <th>29</th>\n",
       "      <td>frq_u2id</td>\n",
       "      <td>26</td>\n",
       "    </tr>\n",
       "    <tr>\n",
       "      <th>15</th>\n",
       "      <td>n_domns</td>\n",
       "      <td>26</td>\n",
       "    </tr>\n",
       "    <tr>\n",
       "      <th>14</th>\n",
       "      <td>n_media</td>\n",
       "      <td>23</td>\n",
       "    </tr>\n",
       "    <tr>\n",
       "      <th>27</th>\n",
       "      <td>frq_lang</td>\n",
       "      <td>17</td>\n",
       "    </tr>\n",
       "    <tr>\n",
       "      <th>16</th>\n",
       "      <td>dayofweek</td>\n",
       "      <td>17</td>\n",
       "    </tr>\n",
       "    <tr>\n",
       "      <th>17</th>\n",
       "      <td>hour</td>\n",
       "      <td>15</td>\n",
       "    </tr>\n",
       "    <tr>\n",
       "      <th>10</th>\n",
       "      <td>n_media_Photo</td>\n",
       "      <td>15</td>\n",
       "    </tr>\n",
       "    <tr>\n",
       "      <th>30</th>\n",
       "      <td>frq_dayofweek</td>\n",
       "      <td>15</td>\n",
       "    </tr>\n",
       "    <tr>\n",
       "      <th>31</th>\n",
       "      <td>frq_hour</td>\n",
       "      <td>15</td>\n",
       "    </tr>\n",
       "    <tr>\n",
       "      <th>8</th>\n",
       "      <td>u1_fllw_u2</td>\n",
       "      <td>14</td>\n",
       "    </tr>\n",
       "    <tr>\n",
       "      <th>32</th>\n",
       "      <td>frq_u1u2</td>\n",
       "      <td>7</td>\n",
       "    </tr>\n",
       "    <tr>\n",
       "      <th>4</th>\n",
       "      <td>u1_vrfed</td>\n",
       "      <td>6</td>\n",
       "    </tr>\n",
       "    <tr>\n",
       "      <th>11</th>\n",
       "      <td>n_media_Video</td>\n",
       "      <td>5</td>\n",
       "    </tr>\n",
       "    <tr>\n",
       "      <th>12</th>\n",
       "      <td>n_media_GIF</td>\n",
       "      <td>3</td>\n",
       "    </tr>\n",
       "    <tr>\n",
       "      <th>7</th>\n",
       "      <td>u2_vrfed</td>\n",
       "      <td>0</td>\n",
       "    </tr>\n",
       "  </tbody>\n",
       "</table>\n",
       "</div>"
      ],
      "text/plain": [
       "                       0    1\n",
       "26              langhour  804\n",
       "1                   lang  157\n",
       "3         u1_fllwing_cnt  116\n",
       "6          u2_fllwng_cnt  109\n",
       "24  u1_fllwer_cnt_by_age  104\n",
       "5          u2_fllwer_cnt  104\n",
       "25  u1_fllwng_cnt_by_age  103\n",
       "21               twt_age   95\n",
       "2          u1_fllwer_cnt   84\n",
       "23                u2_age   83\n",
       "9               len_toks   76\n",
       "20          tmdlta_twtu2   76\n",
       "22                u1_age   74\n",
       "18           tmdlta_u2u1   65\n",
       "19          tmdlta_twtu1   61\n",
       "0                 twttyp   61\n",
       "13              n_hshtgs   37\n",
       "28              frq_u1id   35\n",
       "29              frq_u2id   26\n",
       "15               n_domns   26\n",
       "14               n_media   23\n",
       "27              frq_lang   17\n",
       "16             dayofweek   17\n",
       "17                  hour   15\n",
       "10         n_media_Photo   15\n",
       "30         frq_dayofweek   15\n",
       "31              frq_hour   15\n",
       "8             u1_fllw_u2   14\n",
       "32              frq_u1u2    7\n",
       "4               u1_vrfed    6\n",
       "11         n_media_Video    5\n",
       "12           n_media_GIF    3\n",
       "7               u2_vrfed    0"
      ]
     },
     "execution_count": 24,
     "metadata": {},
     "output_type": "execute_result"
    }
   ],
   "source": [
    "pd.DataFrame([bst.feature_name(), bst.feature_importance()]).T.sort_values(1, ascending=False)"
   ]
  },
  {
   "cell_type": "markdown",
   "metadata": {},
   "source": [
    "# eval"
   ]
  },
  {
   "cell_type": "code",
   "execution_count": 25,
   "metadata": {},
   "outputs": [
    {
     "name": "stdout",
     "output_type": "stream",
     "text": [
      "CPU times: user 12 s, sys: 5.42 s, total: 17.4 s\n",
      "Wall time: 1.44 s\n"
     ]
    }
   ],
   "source": [
    "%%time\n",
    "prdtr = bst.predict(dftr[cols_feat],num_iteration=bst.best_iteration)\n",
    "prdvl = bst.predict(dfvl[cols_feat],num_iteration=bst.best_iteration)\n",
    "prdval0 = bst.predict(dfval[cols_feat],num_iteration=bst.best_iteration)\n",
    "prdval = calibration(prdval0, train_pop, target_pop, sampled_train_pop, sampled_target_pop)"
   ]
  },
  {
   "cell_type": "code",
   "execution_count": 26,
   "metadata": {},
   "outputs": [
    {
     "name": "stdout",
     "output_type": "stream",
     "text": [
      "CPU times: user 840 ms, sys: 1.21 s, total: 2.05 s\n",
      "Wall time: 680 ms\n"
     ]
    }
   ],
   "source": [
    "%%time\n",
    "ytr,yvl,yval=[df[TCOL].values for df in (dftr,dfvl,dfval)]\n",
    "\n",
    "auc_tr=compute_prauc(prdtr, ytr)\n",
    "rce_tr=compute_rce(prdtr, ytr)\n",
    "auc_vl=compute_prauc(prdvl, yvl)\n",
    "rce_vl=compute_rce(prdvl, yvl)\n",
    "auc_val=compute_prauc(prdval, yval)\n",
    "rce_val=compute_rce(prdval, yval)\n",
    "\n",
    "results['scrs'] = {}\n",
    "results['scrs']['auc_tr']=auc_tr\n",
    "results['scrs']['rce_tr']=rce_tr\n",
    "results['scrs']['auc_vl']=auc_vl\n",
    "results['scrs']['rce_vl']=rce_vl\n",
    "results['scrs']['auc_val']=auc_val\n",
    "results['scrs']['rce_val']=rce_val"
   ]
  },
  {
   "cell_type": "code",
   "execution_count": 27,
   "metadata": {},
   "outputs": [
    {
     "name": "stdout",
     "output_type": "stream",
     "text": [
      "auc_tr:  0.3738\n",
      "auc_vl:  0.2778\n",
      "auc_val: 0.0873\n",
      "\n",
      "rce_tr:  19.0839\n",
      "rce_vl:  13.5636\n",
      "rce_val: 9.6936\n"
     ]
    }
   ],
   "source": [
    "print(f'auc_tr:  {auc_tr:.4f}')\n",
    "print(f'auc_vl:  {auc_vl:.4f}')\n",
    "print(f'auc_val: {auc_val:.4f}')\n",
    "print()\n",
    "print(f'rce_tr:  {rce_tr:.4f}')\n",
    "print(f'rce_vl:  {rce_vl:.4f}')\n",
    "print(f'rce_val: {rce_val:.4f}')"
   ]
  },
  {
   "cell_type": "markdown",
   "metadata": {},
   "source": [
    "# save results"
   ]
  },
  {
   "cell_type": "code",
   "execution_count": 28,
   "metadata": {},
   "outputs": [],
   "source": [
    "pickle.dump(results, open(f'{p_out}/results_{PRFX}.p', 'wb'))"
   ]
  },
  {
   "cell_type": "markdown",
   "metadata": {},
   "source": [
    "# infer"
   ]
  },
  {
   "cell_type": "code",
   "execution_count": 29,
   "metadata": {},
   "outputs": [],
   "source": [
    "results = pickle.load( open(f'{p_out}/results_{PRFX}.p', 'rb'))\n",
    "bst = results['bst']\n",
    "col2tgtenc = results['col2tgtenc']\n",
    "cols_feat = results['cols_feat']\n",
    "tgt_encoder = results['tgt_encoder']"
   ]
  },
  {
   "cell_type": "markdown",
   "metadata": {},
   "source": [
    "## prep"
   ]
  },
  {
   "cell_type": "code",
   "execution_count": 30,
   "metadata": {},
   "outputs": [
    {
     "name": "stdout",
     "output_type": "stream",
     "text": [
      "CPU times: user 36.5 ms, sys: 210 ms, total: 247 ms\n",
      "Wall time: 16.7 ms\n"
     ]
    }
   ],
   "source": [
    "%%time\n",
    "dftst=pd.read_csv(\n",
    "    f'{p_in}/val_{tsttmstmp}.tsv',\n",
    "    sep='\\x01', header=None, names=cols_val, \n",
    "    nrows=10\n",
    ")"
   ]
  },
  {
   "cell_type": "code",
   "execution_count": 31,
   "metadata": {
    "scrolled": true
   },
   "outputs": [
    {
     "name": "stdout",
     "output_type": "stream",
     "text": [
      "2020-04-06 02:40:58 start\n",
      "2020-04-06 02:40:59 freq of columns using CountEncoder\n"
     ]
    },
    {
     "name": "stderr",
     "output_type": "stream",
     "text": [
      "/data/anaconda3/envs/rcss20/lib/python3.7/site-packages/category_encoders/count.py:255: FutureWarning: The pandas.np module is deprecated and will be removed from pandas in a future version. Import numpy directly instead\n",
      "  X.loc[:, self.cols] = X.fillna(value=pd.np.nan)\n"
     ]
    },
    {
     "name": "stdout",
     "output_type": "stream",
     "text": [
      "2020-04-06 02:40:59 freq of tags\n",
      "2020-04-06 02:40:59 done\n",
      "CPU times: user 236 ms, sys: 938 ms, total: 1.17 s\n",
      "Wall time: 154 ms\n"
     ]
    }
   ],
   "source": [
    "%%time\n",
    "dftst=prp_df(dftst, tm_max=tm_tst_max)"
   ]
  },
  {
   "cell_type": "code",
   "execution_count": 32,
   "metadata": {},
   "outputs": [],
   "source": [
    "encoded_tst = tgt_encoder.transform(dftst[col2tgtenc].astype(object))\n",
    "tgtenc_columns = [f'tgtenc_{col}' for col in encoded_tst.columns]\n",
    "encoded_tst.columns = tgtenc_columns\n",
    "dftst = pd.concat([dftst, encoded_tst], 1)\n",
    "dftst.drop(columns=['u1id','u1u2'], inplace=True)\n",
    "cols_category=['twttyp', 'lang', 'langhour']\n",
    "dftst[cols_category]=dftst[cols_category].astype('category')"
   ]
  },
  {
   "cell_type": "markdown",
   "metadata": {},
   "source": [
    "## predict"
   ]
  },
  {
   "cell_type": "code",
   "execution_count": 33,
   "metadata": {},
   "outputs": [
    {
     "name": "stdout",
     "output_type": "stream",
     "text": [
      "CPU times: user 18.7 ms, sys: 8.21 ms, total: 26.9 ms\n",
      "Wall time: 19.9 ms\n"
     ]
    }
   ],
   "source": [
    "%%time\n",
    "prdtst0 = bst.predict(dftst[cols_feat],num_iteration=bst.best_iteration)\n",
    "prdtst = calibration(prdtst0, train_pop, target_pop, sampled_train_pop, sampled_target_pop)"
   ]
  },
  {
   "cell_type": "code",
   "execution_count": 34,
   "metadata": {},
   "outputs": [],
   "source": [
    "dfsub_ids = dftst[['twtid','u2id',]]\n",
    "dfsub = dfsub_ids.copy()\n",
    "dfsub['scr'] = prdtst\n",
    "dfsub.to_csv(f'{p_out}/{TGT}__{PRFX}.csv',index=False,header=False)"
   ]
  },
  {
   "cell_type": "code",
   "execution_count": null,
   "metadata": {},
   "outputs": [],
   "source": []
  },
  {
   "cell_type": "code",
   "execution_count": null,
   "metadata": {},
   "outputs": [],
   "source": []
  },
  {
   "cell_type": "code",
   "execution_count": null,
   "metadata": {},
   "outputs": [],
   "source": []
  }
 ],
 "metadata": {
  "kernelspec": {
   "display_name": "rcss20",
   "language": "python",
   "name": "rcss20"
  },
  "language_info": {
   "codemirror_mode": {
    "name": "ipython",
    "version": 3
   },
   "file_extension": ".py",
   "mimetype": "text/x-python",
   "name": "python",
   "nbconvert_exporter": "python",
   "pygments_lexer": "ipython3",
   "version": "3.7.6"
  },
  "toc": {
   "base_numbering": 1,
   "nav_menu": {},
   "number_sections": true,
   "sideBar": true,
   "skip_h1_title": false,
   "title_cell": "Table of Contents",
   "title_sidebar": "Contents",
   "toc_cell": false,
   "toc_position": {},
   "toc_section_display": true,
   "toc_window_display": true
  }
 },
 "nbformat": 4,
 "nbformat_minor": 4
}
