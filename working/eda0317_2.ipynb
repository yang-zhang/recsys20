{
 "cells": [
  {
   "cell_type": "markdown",
   "metadata": {},
   "source": [
    "# setup"
   ]
  },
  {
   "cell_type": "code",
   "execution_count": 18,
   "metadata": {},
   "outputs": [
    {
     "name": "stdout",
     "output_type": "stream",
     "text": [
      "dask.__version__ 2.12.0\n"
     ]
    }
   ],
   "source": [
    "from pathlib import Path\n",
    "import dask.dataframe as dd\n",
    "import pandas as pd\n",
    "import dask\n",
    "print('dask.__version__', dask.__version__)\n",
    "import xgboost\n",
    "import datetime\n",
    "def dtnow(): return datetime.datetime.now().strftime('%Y-%m-%d %H:%M:%S')\n",
    "\n",
    "\n",
    "SEED=101\n",
    "HOME='/data/git/recsys20'\n",
    "p_in=f'{HOME}/input'\n",
    "\n",
    "cols=[\n",
    "'toks',\n",
    "'hshtgs',\n",
    "'twtid',\n",
    "'media',\n",
    "'links',\n",
    "'domns',\n",
    "'twttyp',\n",
    "'lang',\n",
    "'tm',\n",
    "\n",
    "'u1id',\n",
    "'u1_fllwer_cnt',\n",
    "'u1_fllwing_cnt',\n",
    "'u1_vrfed',\n",
    "'u1_create_tm',\n",
    "\n",
    "'u2id',\n",
    "'u2_follower_cnt',\n",
    "'u2_following_cnt',\n",
    "'u2_vrfed',\n",
    "'u2_create_tm',\n",
    "\n",
    "'u1_fllw_u2',\n",
    "'reply_tm',\n",
    "'retwt_tm',\n",
    "'retwt_cmmnt_tm',\n",
    "'like_tm',\n",
    "]\n",
    "\n",
    "cols_val = cols[:-4]\n"
   ]
  },
  {
   "cell_type": "code",
   "execution_count": null,
   "metadata": {},
   "outputs": [],
   "source": []
  },
  {
   "cell_type": "code",
   "execution_count": 19,
   "metadata": {},
   "outputs": [
    {
     "data": {
      "text/plain": [
       "['2020-03-17 02:32:24', '2020-03-17 00:30:47']"
      ]
     },
     "execution_count": 19,
     "metadata": {},
     "output_type": "execute_result"
    }
   ],
   "source": [
    "trntmstmp=1584412344\n",
    "valtmstmp=1584405047\n",
    "import datetime\n",
    "[datetime.datetime.fromtimestamp(o).strftime('%Y-%m-%d %H:%M:%S') for o in (trntmstmp, valtmstmp)]"
   ]
  },
  {
   "cell_type": "code",
   "execution_count": 59,
   "metadata": {},
   "outputs": [],
   "source": [
    "# dfval=dd.read_csv(\n",
    "#     f'{p_in}/val_{valtmstmp}.tsv',\n",
    "#     sep='\\x01',header=None,names=cols_val,)\n",
    "\n",
    "# lang2cnt=dict(dfval.lang.value_counts().compute())\n",
    "# ttl=sum(lang2cnt.values())\n",
    "# lang2perc={k:v/ttl for k,v in lang2cnt.items()}\n",
    "lang2perc={'D3164C7FBCF2565DDF915B1B3AEFB1DC': 0.4281568150154379,\n",
    " '22C448FF81263D4BAF2A176145EE9EAD': 0.15653506511637869,\n",
    " '06D61DCBBE938971E1EA0C38BD9B5446': 0.08684409325313776,\n",
    " 'ECED8A16BE2A5E8871FD55F4842F16B1': 0.07187590645071645,\n",
    " 'B9175601E87101A984A50F8A62A1C374': 0.0510950651798385,\n",
    " '4DC22C3F31C5C43721E6B5815A595ED6': 0.03233621220538451,\n",
    " '167115458A0DBDFF7E9C0C53A83BAC9B': 0.02869156970756396,\n",
    " '125C57F4FA6D4E110983FB11B52EFD4E': 0.02251587222472389,\n",
    " '022EC308651FACB02794A8147AEE1B78': 0.022084940431066645,\n",
    " 'FA3F382BC409C271E3D6EAF8BE4648DD': 0.020434654769361918,\n",
    " '9BF3403E0EB7EA8A256DA9019C0B0716': 0.01711266575901506,\n",
    " '975B38F44D65EE42A547283787FF5A21': 0.008900304897960587,\n",
    " '2996EB2FE8162C076D070A4C8D6532CD': 0.008491055207128863,\n",
    " 'FF60A88F53E63000266F8B9149E35AD9': 0.005443463784674508,\n",
    " '717293301FE296B0B61950D041485825': 0.005351975887386331,\n",
    " '3E16B11B7ADE3A22DDFC4423FBCEAD5D': 0.005259694742433805,\n",
    " '3820C29CBCA409A33BADF68852057C4A': 0.005107391190878921,\n",
    " '9ECD42BC079C20F156F53CB3B99E600E': 0.0025499607210198202,\n",
    " '76B8A9C3013AE6414A3E6012413CDC3B': 0.0025153883436486377,\n",
    " 'AEF22666801F0A5846D853B9CEB2E327': 0.002179910685601312,\n",
    " '190BA7DA361BC06BC1D7E824C378064D': 0.0019262697449259252,\n",
    " '1FFD2FE4297F5E70EBC6C3230D95CB9C': 0.0019155609014572224,\n",
    " 'A0C7021AD8299ADF0C9EBE326C115F6F': 0.0012986125305102882,\n",
    " 'D413F5FE5236E5650A46FD983AB39212': 0.0012444072734464839,\n",
    " '48236EC80FDDDFADE99420ABC9210DDF': 0.0011455818352630845,\n",
    " '691890251F2B9FF922BE6D3699ABEFD2': 0.0008832151702798657,\n",
    " '920502FAA080485768AA89BC96A55C47': 0.0007246317413822235,\n",
    " '0331BF70E606D62D92C96CE9AD71A7CF': 0.0006743927226401609,\n",
    " '89616CFF8EC8637092F885C7EFF43D74': 0.0006288470859121594,\n",
    " '06BEAB41D66CCFF329D1ED8BA120A6C2': 0.0006205840894085308,\n",
    " '60FBA0E834CC59D647C3599AD763FFDF': 0.0005243367061342635,\n",
    " 'C7A400D9AD489ACF673CF12FBB80AAE5': 0.00047032976098654625,\n",
    " 'E59EF8BB86A6D815331DDF4C467CE0C7': 0.0004138108649017259,\n",
    " '4249CE88433AEA3F8DCEECF008B3CB95': 0.00038637771650967855,\n",
    " '544FA32458C903F1125FE6598300A047': 0.00037732147234170147,\n",
    " 'CB11E9CF42BD0A1BAD5E27BF3422D99D': 0.00033765908912428366,\n",
    " '3A85BCEC571C3F5AB1069E4924189177': 0.0002736043402281539,\n",
    " 'FF7EABB5A382356D54D9C41BA0125E09': 0.00025767328296915775,\n",
    " 'E7BB61D2A87C1E72DF1C7BC292B86A1C': 0.0002548308121719095,\n",
    " '69C4A33B9AD29AF883D60BA61CC08702': 0.00024068456215769712,\n",
    " 'F4FD40A716F1572C9A28E9CAA58BE3A5': 0.00021701934017130447,\n",
    " '259A6F6DFD672CB1F883CBEC01B99F2D': 0.00019963399552766966,\n",
    " '6431A618DCF7F4CB7F62A95A39BAB77A': 0.000198113604171002,\n",
    " '3121F7240D488F74EEED9312E174B217': 0.00018991671163940232,\n",
    " '54208B51D44E7D91DC2F3DD02ADEDEC2': 0.00016354122679981947,\n",
    " 'DBEEFB80F8A314311E2B4BD593E11DFE': 0.00016235135530329693,\n",
    " 'B6D90127A09AB1229731898AEF9D4D7C': 0.00013749626182038175,\n",
    " 'F3E1016563360F9434FA986CA86C249C': 0.0001344554791070464,\n",
    " '2216D01F7B48554E4211021A46816FCF': 0.00011581415899486002,\n",
    " '1BC639981AE88E09129594B11F894A21': 9.578465547006403e-05,\n",
    " 'C942E369C88CE7C56E69A84D04319FF0': 5.770876758134292e-05,\n",
    " '57ADD4576E2AD6648E9B2DE32F3462A5': 5.446967295192046e-05,\n",
    " 'AC1F0671A4B0D5B8112F87DE7B490E6D': 4.501680495176922e-05,\n",
    " 'C2EF5FABE7619D8A333D5F0FF76E1BFA': 4.0587838825824233e-05,\n",
    " 'AA0254541959271ED3453119B787D0C3': 3.080445096552784e-05,\n",
    " 'A6B70CDF8C7B934D4A218CA9B6B7FDB4': 1.8971839972331523e-05,\n",
    " 'BF477808A37E3E4E9C5D9F1839E8519E': 1.2229234825370492e-05,\n",
    " '97F81BD92A1ACA3F1F43C154E689350F': 1.1568195105080195e-05,\n",
    " '60A3DB168094D41241E45E0DE3539BC0': 1.070884346870281e-05,\n",
    " '12D8CEB94F89D11D7EB95EAE9689B009': 7.800268699425504e-06,\n",
    " 'F73266A79468BB89C4325FDEDB0B533C': 5.552733650438494e-06,\n",
    " '4690215948DBF6872B8ED1C2BC87B17E': 5.354421734351405e-06,\n",
    " 'D18801336202297E6484F634CAC6592E': 3.834030377683722e-06,\n",
    " '2E18F6F53E3CF073911AF0A93BBE5373': 2.644158881161188e-07,\n",
    " 'B2235C8B73239FDC5780DD132419833A': 1.9831191608708906e-07,\n",
    " '515E873C86EE1577E75FA2387B7FA59E': 6.61039720290297e-08}"
   ]
  },
  {
   "cell_type": "code",
   "execution_count": 21,
   "metadata": {},
   "outputs": [
    {
     "name": "stdout",
     "output_type": "stream",
     "text": [
      "-rw-rw-r-- 1 ubuntu ubuntu  485K Mar 18 00:37 trn_12D8CEB94F89D11D7EB95EAE9689B009_1584412344.tsv\r\n",
      "-rw-rw-r-- 1 ubuntu ubuntu  4.8M Mar 17 03:03 trn_1584412344_1e4.tsv\r\n",
      "-rwxrwxrwx 1 ubuntu ubuntu  4.7G Mar 16 11:23 trn_1584412344_1e7.tsv\r\n",
      "-rw-rw-r-- 1 ubuntu ubuntu   24G Mar 16 16:53 trn_1584412344_5e7.tsv\r\n",
      "-rwxrwxrwx 1 ubuntu ubuntu   69G Mar  3 23:37 trn_1584412344.tsv\r\n",
      "-rw-rw-r-- 1 ubuntu ubuntu  8.9M Mar 17 20:56 trn_2216D01F7B48554E4211021A46816FCF_1584412344.tsv\r\n",
      "-rw-rw-r-- 1 ubuntu ubuntu   80K Mar 17 22:31 trn_2E18F6F53E3CF073911AF0A93BBE5373_1584412344.tsv\r\n",
      "-rw-rw-r-- 1 ubuntu ubuntu  192K Mar 17 23:34 trn_4690215948DBF6872B8ED1C2BC87B17E_1584412344.tsv\r\n",
      "-rw-rw-r-- 1 ubuntu ubuntu  6.8K Mar 17 21:27 trn_515E873C86EE1577E75FA2387B7FA59E_1584412344.tsv\r\n",
      "-rw-rw-r-- 1 ubuntu ubuntu  709K Mar 18 01:08 trn_60A3DB168094D41241E45E0DE3539BC0_1584412344.tsv\r\n",
      "-rw-rw-r-- 1 ubuntu ubuntu  858K Mar 18 01:39 trn_97F81BD92A1ACA3F1F43C154E689350F_1584412344.tsv\r\n",
      "-rw-rw-r-- 1 ubuntu ubuntu  256K Mar 17 22:00 trn_B2235C8B73239FDC5780DD132419833A_1584412344.tsv\r\n",
      "-rw-rw-r-- 1 ubuntu ubuntu  742K Mar 18 02:09 trn_BF477808A37E3E4E9C5D9F1839E8519E_1584412344.tsv\r\n",
      "-rw-rw-r-- 1 ubuntu ubuntu  317K Mar 17 23:03 trn_D18801336202297E6484F634CAC6592E_1584412344.tsv\r\n",
      "-rw-rw-r-- 1 ubuntu ubuntu  676K Mar 18 00:05 trn_F73266A79468BB89C4325FDEDB0B533C_1584412344.tsv\r\n"
     ]
    }
   ],
   "source": [
    "!ls {p_in} -hl | grep {trntmstmp}"
   ]
  },
  {
   "cell_type": "code",
   "execution_count": null,
   "metadata": {},
   "outputs": [],
   "source": [
    "lang='2216D01F7B48554E4211021A46816FCF'"
   ]
  },
  {
   "cell_type": "code",
   "execution_count": 22,
   "metadata": {},
   "outputs": [],
   "source": [
    "dftrn=dd.read_csv(\n",
    "    f'{p_in}/trn_{lang}_{trntmstmp}.tsv',\n",
    "    sep='\\x01', header=None, names=cols,)\n",
    "\n",
    "dfval=dd.read_csv(\n",
    "    f'{p_in}/val_{lang}_{valtmstmp}.tsv',\n",
    "    sep='\\x01',header=None,names=cols_val,)"
   ]
  },
  {
   "cell_type": "code",
   "execution_count": 34,
   "metadata": {},
   "outputs": [
    {
     "data": {
      "text/plain": [
       "True"
      ]
     },
     "execution_count": 34,
     "metadata": {},
     "output_type": "execute_result"
    }
   ],
   "source": [
    "dftrn.tm.max().compute() < dfval.tm.min().compute()"
   ]
  },
  {
   "cell_type": "code",
   "execution_count": 67,
   "metadata": {},
   "outputs": [],
   "source": [
    "\n",
    "set_trn_twtid, set_val_twtid = (set(df.twtid) for df in (dftrn,dfval))\n",
    "set_trn_u1id , set_val_u1id  = (set(df.u1id)  for df in (dftrn,dfval))\n",
    "set_trn_u2id , set_val_u2id  = (set(df.u2id)  for df in (dftrn,dfval))\n",
    "set_trn_uid = set_trn_u1id|set_trn_u2id\n",
    "set_val_uid = set_val_u1id|set_val_u2id\n",
    "set_trn_u1u2, set_val_u1u2 = (set(zip(df.u1id,df.u2id)) for df in (dftrn,dfval))\n"
   ]
  },
  {
   "cell_type": "code",
   "execution_count": 51,
   "metadata": {},
   "outputs": [],
   "source": [
    "def show2sets(set1,set2):\n",
    "    ls1,ls2,ls1or2,ls1and2=len(set1),len(set2),len(set1|set2),len(set1&set2),\n",
    "    print(ls1,ls2,ls1or2,ls1and2,ls1and2/ls1or2)"
   ]
  },
  {
   "cell_type": "code",
   "execution_count": 68,
   "metadata": {},
   "outputs": [
    {
     "name": "stdout",
     "output_type": "stream",
     "text": [
      "11024 1646 12670 0 0.0\n",
      "5143 1426 5550 1019 0.18360360360360362\n",
      "1563 626 1678 511 0.3045292014302741\n",
      "4545 1038 4904 679 0.1384584013050571\n",
      "13208 1718 14676 250 0.017034614336331425\n"
     ]
    }
   ],
   "source": [
    "show2sets(set_trn_twtid,set_val_twtid)\n",
    "show2sets(set_trn_uid,set_val_uid)\n",
    "show2sets(set_trn_u1id,set_val_u1id)\n",
    "show2sets(set_trn_u2id,set_val_u2id)\n",
    "show2sets(set_trn_u1u2,set_val_u1u2)\n"
   ]
  },
  {
   "cell_type": "code",
   "execution_count": 81,
   "metadata": {},
   "outputs": [],
   "source": [
    "def showlang(lang):\n",
    "    try:\n",
    "        dftrn=dd.read_csv(\n",
    "        f'{p_in}/trn_{lang}_{trntmstmp}.tsv',\n",
    "        sep='\\x01', header=None, names=cols,)\n",
    "\n",
    "        dfval=dd.read_csv(\n",
    "            f'{p_in}/val_{lang}_{valtmstmp}.tsv',\n",
    "            sep='\\x01',header=None,names=cols_val,)\n",
    "    except:\n",
    "        return\n",
    "    print(lang, lang2perc[lang])\n",
    "    print(dftrn.tm.max().compute() < dfval.tm.min().compute())\n",
    "\n",
    "    set_trn_twtid, set_val_twtid = (set(df.twtid) for df in (dftrn,dfval))\n",
    "    set_trn_u1id , set_val_u1id  = (set(df.u1id)  for df in (dftrn,dfval))\n",
    "    set_trn_u2id , set_val_u2id  = (set(df.u2id)  for df in (dftrn,dfval))\n",
    "    set_trn_uid = set_trn_u1id|set_trn_u2id\n",
    "    set_val_uid = set_val_u1id|set_val_u2id\n",
    "    set_trn_u1u2, set_val_u1u2 = (set(zip(df.u1id,df.u2id)) for df in (dftrn,dfval))\n",
    "\n",
    "\n",
    "    show2sets(set_trn_twtid,set_val_twtid)\n",
    "    show2sets(set_trn_uid,set_val_uid)\n",
    "    show2sets(set_trn_u1id,set_val_u1id)\n",
    "    show2sets(set_trn_u2id,set_val_u2id)\n",
    "    show2sets(set_trn_u1u2,set_val_u1u2)"
   ]
  },
  {
   "cell_type": "code",
   "execution_count": 83,
   "metadata": {
    "scrolled": false
   },
   "outputs": [
    {
     "name": "stdout",
     "output_type": "stream",
     "text": [
      "CB11E9CF42BD0A1BAD5E27BF3422D99D 0.00033765908912428366\n",
      "True\n",
      "17814 4639 22453 0 0.0\n",
      "17375 5289 19739 2925 0.1481837985713562\n",
      "5363 1956 6139 1180 0.1922137155888581\n",
      "13780 3735 15680 1835 0.11702806122448979\n",
      "23418 5022 28115 325 0.011559665658900943\n",
      "3A85BCEC571C3F5AB1069E4924189177 0.0002736043402281539\n",
      "True\n",
      "17223 3009 20232 0 0.0\n",
      "27693 4275 29693 2275 0.07661738456875358\n",
      "4013 1053 4321 745 0.1724137931034483\n",
      "24931 3361 26747 1545 0.05776348749392455\n",
      "42216 4075 45821 470 0.010257305602234782\n",
      "FF7EABB5A382356D54D9C41BA0125E09 0.00025767328296915775\n",
      "True\n",
      "22176 3227 25403 0 0.0\n",
      "40642 5399 44121 1920 0.04351669273135242\n",
      "12751 2110 13905 956 0.06875224739302409\n",
      "29358 3433 31828 963 0.030256378031921577\n",
      "39628 3860 43258 230 0.0053169355957279575\n",
      "E7BB61D2A87C1E72DF1C7BC292B86A1C 0.0002548308121719095\n",
      "True\n",
      "26818 3551 30369 0 0.0\n",
      "15548 3469 16846 2171 0.12887332304404606\n",
      "4839 1455 5212 1082 0.2075978511128166\n",
      "12665 2366 13743 1288 0.09372043949647094\n",
      "37046 3816 40533 329 0.008116843066143636\n",
      "69C4A33B9AD29AF883D60BA61CC08702 0.00024068456215769712\n",
      "True\n",
      "18982 2884 21866 0 0.0\n",
      "21361 3632 22617 2376 0.10505372065260644\n",
      "3597 1052 3831 818 0.21352127381884625\n",
      "19483 2775 20634 1624 0.07870504991761171\n",
      "37597 3555 40522 630 0.015547110211736834\n",
      "F4FD40A716F1572C9A28E9CAA58BE3A5 0.00021701934017130447\n",
      "True\n",
      "19248 2386 21634 0 0.0\n",
      "55374 5524 60615 283 0.004668811350325827\n",
      "17925 2271 19999 197 0.009850492524626232\n",
      "37719 3263 40915 67 0.0016375412440425272\n",
      "38123 3277 41376 24 0.000580046403712297\n",
      "259A6F6DFD672CB1F883CBEC01B99F2D 0.00019963399552766966\n",
      "True\n",
      "16745 2466 19211 0 0.0\n",
      "40910 5123 45472 561 0.012337262491203378\n",
      "13612 2240 15514 338 0.02178677323707619\n",
      "27820 2932 30543 209 0.006842811773565138\n",
      "29854 3012 32831 35 0.0010660656087234626\n",
      "6431A618DCF7F4CB7F62A95A39BAB77A 0.000198113604171002\n",
      "True\n",
      "19786 2823 22609 0 0.0\n",
      "15197 3447 16278 2366 0.14534955154195847\n",
      "4535 1401 4869 1067 0.21914150749640585\n",
      "13098 2391 14042 1447 0.10304799886056118\n",
      "25425 2973 28153 245 0.008702447341313537\n",
      "3121F7240D488F74EEED9312E174B217 0.00018991671163940232\n",
      "True\n",
      "16292 2370 18662 0 0.0\n",
      "28065 4279 31237 1107 0.03543874251688702\n",
      "9747 1873 10997 623 0.056651814131126674\n",
      "19509 2537 21570 476 0.022067686601761706\n",
      "25124 2862 27902 84 0.0030105368790767687\n",
      "54208B51D44E7D91DC2F3DD02ADEDEC2 0.00016354122679981947\n",
      "True\n",
      "13482 2224 15706 0 0.0\n",
      "13366 2280 14238 1408 0.09889029358055906\n",
      "2378 713 2530 561 0.2217391304347826\n",
      "11929 1706 12727 908 0.07134438595112752\n",
      "24056 2397 26042 411 0.015782197987865756\n",
      "DBEEFB80F8A314311E2B4BD593E11DFE 0.00016235135530329693\n",
      "True\n",
      "14748 2048 16796 0 0.0\n",
      "29557 3903 32808 652 0.019873201658132163\n",
      "10834 1747 12181 400 0.03283802643461128\n",
      "19314 2230 21281 263 0.012358441802546872\n",
      "22656 2442 25054 44 0.0017562065937574839\n",
      "B6D90127A09AB1229731898AEF9D4D7C 0.00013749626182038175\n",
      "True\n",
      "9173 1692 10865 0 0.0\n",
      "12399 2235 13400 1234 0.09208955223880597\n",
      "1794 570 1946 418 0.2147995889003083\n",
      "11253 1746 12168 831 0.06829388560157791\n",
      "19999 2049 21810 238 0.010912425492893169\n",
      "F3E1016563360F9434FA986CA86C249C 0.0001344554791070464\n",
      "True\n",
      "10688 1511 12199 0 0.0\n",
      "25451 3283 28374 360 0.012687671812222457\n",
      "9005 1382 10161 226 0.022241905324279106\n",
      "16845 1942 18658 129 0.006913924322006646\n",
      "18630 2031 20648 13 0.0006296009298721426\n",
      "2216D01F7B48554E4211021A46816FCF 0.00011581415899486002\n",
      "True\n",
      "11024 1646 12670 0 0.0\n",
      "5143 1426 5550 1019 0.18360360360360362\n",
      "1563 626 1678 511 0.3045292014302741\n",
      "4545 1038 4904 679 0.1384584013050571\n",
      "13208 1718 14676 250 0.017034614336331425\n",
      "1BC639981AE88E09129594B11F894A21 9.578465547006403e-05\n",
      "True\n",
      "10375 1314 11689 0 0.0\n",
      "9173 1540 9714 999 0.10284126003705991\n",
      "2048 521 2146 423 0.19711090400745573\n",
      "8140 1115 8652 603 0.06969486823855756\n",
      "16609 1420 17861 168 0.009405968310844857\n",
      "C942E369C88CE7C56E69A84D04319FF0 5.770876758134292e-05\n",
      "True\n",
      "6156 807 6963 0 0.0\n",
      "8563 1379 9334 608 0.06513820441397043\n",
      "3342 670 3667 345 0.09408235614944097\n",
      "5977 764 6504 237 0.03643911439114391\n",
      "8192 870 9040 22 0.0024336283185840708\n",
      "57ADD4576E2AD6648E9B2DE32F3462A5 5.446967295192046e-05\n",
      "True\n",
      "4606 769 5375 0 0.0\n",
      "4609 983 4949 643 0.12992523742170137\n",
      "1458 429 1568 319 0.20344387755102042\n",
      "3868 662 4161 369 0.08868060562364816\n",
      "7230 815 7950 95 0.011949685534591196\n",
      "AC1F0671A4B0D5B8112F87DE7B490E6D 4.501680495176922e-05\n",
      "True\n",
      "4695 606 5301 0 0.0\n",
      "7287 875 7760 402 0.05180412371134021\n",
      "1257 267 1343 181 0.1347728965003723\n",
      "6347 621 6760 208 0.03076923076923077\n",
      "8280 669 8882 67 0.007543346093222247\n",
      "C2EF5FABE7619D8A333D5F0FF76E1BFA 4.0587838825824233e-05\n",
      "True\n",
      "3412 538 3950 0 0.0\n",
      "5136 902 5588 450 0.08052970651395848\n",
      "1562 364 1711 215 0.1256575102279369\n",
      "3926 552 4262 216 0.050680431722196155\n",
      "6061 613 6645 29 0.00436418359668924\n",
      "AA0254541959271ED3453119B787D0C3 3.080445096552784e-05\n",
      "True\n",
      "3458 440 3898 0 0.0\n",
      "1847 486 1993 340 0.17059708981435023\n",
      "624 215 666 173 0.25975975975975973\n",
      "1553 324 1689 188 0.11130846654825341\n",
      "4157 457 4551 63 0.013843111404087014\n",
      "A6B70CDF8C7B934D4A218CA9B6B7FDB4 1.8971839972331523e-05\n",
      "True\n",
      "2050 248 2298 0 0.0\n",
      "2720 346 2868 198 0.06903765690376569\n",
      "419 116 445 90 0.20224719101123595\n",
      "2451 237 2589 99 0.038238702201622246\n",
      "3451 283 3704 30 0.008099352051835854\n",
      "BF477808A37E3E4E9C5D9F1839E8519E 1.2229234825370492e-05\n",
      "True\n",
      "1439 176 1615 0 0.0\n",
      "1743 264 1858 149 0.08019375672766416\n",
      "568 105 603 70 0.11608623548922056\n",
      "1363 165 1462 66 0.04514363885088919\n",
      "1885 183 2061 7 0.003396409509946628\n",
      "97F81BD92A1ACA3F1F43C154E689350F 1.1568195105080195e-05\n",
      "True\n",
      "1460 168 1628 0 0.0\n",
      "1708 284 1861 131 0.07039226222461042\n",
      "555 128 614 69 0.11237785016286644\n",
      "1324 163 1434 53 0.03695955369595537\n",
      "1892 174 2059 7 0.003399708596406022\n",
      "60A3DB168094D41241E45E0DE3539BC0 1.070884346870281e-05\n",
      "True\n",
      "944 155 1099 0 0.0\n",
      "1337 237 1484 90 0.06064690026954178\n",
      "459 104 516 47 0.09108527131782945\n",
      "964 146 1068 42 0.03932584269662921\n",
      "1210 162 1364 8 0.005865102639296188\n",
      "12D8CEB94F89D11D7EB95EAE9689B009 7.800268699425504e-06\n",
      "True\n",
      "978 108 1086 0 0.0\n",
      "1393 192 1505 80 0.053156146179401995\n",
      "493 81 525 49 0.09333333333333334\n",
      "996 114 1082 28 0.025878003696857672\n",
      "1353 118 1467 4 0.0027266530334014998\n",
      "F73266A79468BB89C4325FDEDB0B533C 5.552733650438494e-06\n",
      "True\n",
      "561 76 637 0 0.0\n",
      "1099 127 1180 46 0.03898305084745763\n",
      "239 48 258 29 0.1124031007751938\n",
      "889 81 953 17 0.017838405036726127\n",
      "948 82 1021 9 0.00881488736532811\n",
      "4690215948DBF6872B8ED1C2BC87B17E 5.354421734351405e-06\n",
      "True\n",
      "377 67 444 0 0.0\n",
      "659 128 738 49 0.06639566395663957\n",
      "220 52 245 27 0.11020408163265306\n",
      "473 77 530 20 0.03773584905660377\n",
      "584 81 665 0 0.0\n",
      "D18801336202297E6484F634CAC6592E 3.834030377683722e-06\n",
      "True\n",
      "496 57 553 0 0.0\n",
      "571 90 610 51 0.08360655737704918\n",
      "242 46 258 30 0.11627906976744186\n",
      "396 47 425 18 0.042352941176470586\n",
      "588 56 634 10 0.015772870662460567\n",
      "2E18F6F53E3CF073911AF0A93BBE5373 2.644158881161188e-07\n",
      "True\n",
      "103 4 107 0 0.0\n",
      "187 8 190 5 0.02631578947368421\n",
      "63 4 64 3 0.046875\n",
      "128 4 131 1 0.007633587786259542\n",
      "129 4 133 0 0.0\n",
      "B2235C8B73239FDC5780DD132419833A 1.9831191608708906e-07\n",
      "True\n",
      "112 3 115 0 0.0\n",
      "457 6 462 1 0.0021645021645021645\n",
      "98 3 100 1 0.01\n",
      "362 3 365 0 0.0\n",
      "363 3 366 0 0.0\n",
      "515E873C86EE1577E75FA2387B7FA59E 6.61039720290297e-08\n",
      "True\n",
      "14 1 15 0 0.0\n",
      "27 2 29 0 0.0\n",
      "13 1 14 0 0.0\n",
      "14 1 15 0 0.0\n",
      "14 1 15 0 0.0\n"
     ]
    }
   ],
   "source": [
    "for lang,perc in lang2perc.items():\n",
    "    showlang(lang)"
   ]
  },
  {
   "cell_type": "code",
   "execution_count": null,
   "metadata": {},
   "outputs": [],
   "source": []
  },
  {
   "cell_type": "code",
   "execution_count": null,
   "metadata": {},
   "outputs": [],
   "source": []
  },
  {
   "cell_type": "code",
   "execution_count": null,
   "metadata": {},
   "outputs": [],
   "source": []
  },
  {
   "cell_type": "markdown",
   "metadata": {},
   "source": [
    "# old"
   ]
  },
  {
   "cell_type": "code",
   "execution_count": 2,
   "metadata": {},
   "outputs": [],
   "source": [
    "from sklearn.metrics import precision_recall_curve, auc, log_loss\n",
    "\n",
    "def compute_prauc(pred, gt):\n",
    "    prec, recall, thresh = precision_recall_curve(gt, pred)\n",
    "    prauc = auc(recall, prec)\n",
    "    return prauc\n",
    "\n",
    "def calculate_ctr(gt):\n",
    "    positive = len([x for x in gt if x == 1])\n",
    "    ctr = positive/float(len(gt))\n",
    "    return ctr\n",
    "\n",
    "def compute_rce(pred, gt):\n",
    "    cross_entropy = log_loss(gt, pred)\n",
    "    data_ctr = calculate_ctr(gt)\n",
    "    strawman_cross_entropy = log_loss(gt, [data_ctr for _ in range(len(gt))])\n",
    "    return (1.0 - cross_entropy/strawman_cross_entropy)*100.0"
   ]
  },
  {
   "cell_type": "markdown",
   "metadata": {},
   "source": [
    "# prepare data"
   ]
  },
  {
   "cell_type": "code",
   "execution_count": 3,
   "metadata": {},
   "outputs": [],
   "source": [
    "# (rcss20) ➜  recsys20 git:(master) ✗ wc -l input/trn.tsv\n",
    "#  148,075,238 data/trn.tsv\n",
    "# (rcss20) ➜  recsys20 git:(master) ✗ wc -l input/val.tsv\n",
    "#  15,127,684 data/val.tsv\n"
   ]
  },
  {
   "cell_type": "code",
   "execution_count": 4,
   "metadata": {},
   "outputs": [
    {
     "data": {
      "text/plain": [
       "'2020-03-17 02:32:24'"
      ]
     },
     "execution_count": 4,
     "metadata": {},
     "output_type": "execute_result"
    }
   ],
   "source": [
    "trntmstmp=1584412344\n",
    "datetime.datetime.fromtimestamp(trntmstmp).strftime('%Y-%m-%d %H:%M:%S')"
   ]
  },
  {
   "cell_type": "code",
   "execution_count": 5,
   "metadata": {},
   "outputs": [
    {
     "data": {
      "text/plain": [
       "'2020-03-17 00:30:47'"
      ]
     },
     "execution_count": 5,
     "metadata": {},
     "output_type": "execute_result"
    }
   ],
   "source": [
    "valtmstmp=1584405047\n",
    "datetime.datetime.fromtimestamp(valtmstmp).strftime('%Y-%m-%d %H:%M:%S')"
   ]
  },
  {
   "cell_type": "raw",
   "metadata": {},
   "source": [
    "!head -10000 {p_in}/trn_{trntmstmp}.tsv > {p_in}/trn_{trntmstmp}_1e4.tsv"
   ]
  },
  {
   "cell_type": "raw",
   "metadata": {},
   "source": [
    "!head -1000 {p_in}/val_{valtmstmp}.tsv > {p_in}/val_{valtmstmp}_1e3.tsv"
   ]
  },
  {
   "cell_type": "code",
   "execution_count": 7,
   "metadata": {},
   "outputs": [
    {
     "name": "stdout",
     "output_type": "stream",
     "text": [
      "\u001b[0m\u001b[01;32mdownloads.ipynb\u001b[0m*        \u001b[01;32mtrn_1584412344_1e7.tsv\u001b[0m*  val_1584405047_1e3.tsv\r\n",
      "\u001b[01;32mtmp.ipynb\u001b[0m*              trn_1584412344_5e7.tsv   \u001b[01;32mval_1584405047.tsv\u001b[0m*\r\n",
      "trn_1584412344_1e3.tsv  \u001b[01;32mtrn_1584412344.tsv\u001b[0m*      \u001b[01;32mval1e4.tsv\u001b[0m*\r\n",
      "trn_1584412344_1e4.tsv  \u001b[01;32mtrn1e5.tsv\u001b[0m*\r\n"
     ]
    }
   ],
   "source": [
    "ls $p_in"
   ]
  },
  {
   "cell_type": "code",
   "execution_count": null,
   "metadata": {},
   "outputs": [],
   "source": [
    "dftrn=dd.read_csv(\n",
    "    f'{p_in}/trn_{trntmstmp}.tsv',\n",
    "#     f'{p_in}/trn_{trntmstmp}_1e4.tsv',\n",
    "    sep='\\x01', header=None, names=cols,)"
   ]
  },
  {
   "cell_type": "code",
   "execution_count": 15,
   "metadata": {},
   "outputs": [],
   "source": [
    "dfval=dd.read_csv(\n",
    "    f'{p_in}/val_{valtmstmp}.tsv',\n",
    "#     f'{p_in}/val_{valtmstmp}_1e3.tsv',\n",
    "    sep='\\x01',header=None,names=cols_val,)"
   ]
  },
  {
   "cell_type": "code",
   "execution_count": 21,
   "metadata": {},
   "outputs": [
    {
     "data": {
      "text/html": [
       "<div>\n",
       "<style scoped>\n",
       "    .dataframe tbody tr th:only-of-type {\n",
       "        vertical-align: middle;\n",
       "    }\n",
       "\n",
       "    .dataframe tbody tr th {\n",
       "        vertical-align: top;\n",
       "    }\n",
       "\n",
       "    .dataframe thead th {\n",
       "        text-align: right;\n",
       "    }\n",
       "</style>\n",
       "<table border=\"1\" class=\"dataframe\">\n",
       "  <thead>\n",
       "    <tr style=\"text-align: right;\">\n",
       "      <th></th>\n",
       "      <th>text_tokens</th>\n",
       "      <th>hashtags</th>\n",
       "      <th>tweet_id</th>\n",
       "      <th>present_media</th>\n",
       "      <th>present_links</th>\n",
       "      <th>present_domains</th>\n",
       "      <th>tweet_type</th>\n",
       "      <th>language</th>\n",
       "      <th>timestamp</th>\n",
       "      <th>engaged_user_id</th>\n",
       "      <th>engaged_follower_count</th>\n",
       "      <th>engaged_following_count</th>\n",
       "      <th>engaged_is_verified</th>\n",
       "      <th>engaged_account_creation_time</th>\n",
       "      <th>engaging_user_id</th>\n",
       "      <th>engaging_follower_count</th>\n",
       "      <th>engaging_following_count</th>\n",
       "      <th>engaging_is_verified</th>\n",
       "      <th>engaging_account_creation_time</th>\n",
       "      <th>engagee_follows_engager</th>\n",
       "    </tr>\n",
       "  </thead>\n",
       "  <tbody>\n",
       "    <tr>\n",
       "      <th>0</th>\n",
       "      <td>101\\t47185\\t10157\\t100986\\t10343\\t55422\\t119\\t...</td>\n",
       "      <td>NaN</td>\n",
       "      <td>7647B4E9DAF4C1D8973397DC2A04F3E3</td>\n",
       "      <td>Photo</td>\n",
       "      <td>NaN</td>\n",
       "      <td>NaN</td>\n",
       "      <td>TopLevel</td>\n",
       "      <td>D3164C7FBCF2565DDF915B1B3AEFB1DC</td>\n",
       "      <td>1581703126</td>\n",
       "      <td>8A9AB92B775C62C4AB60DF6773A01571</td>\n",
       "      <td>13941</td>\n",
       "      <td>1216</td>\n",
       "      <td>False</td>\n",
       "      <td>1448292186</td>\n",
       "      <td>0000006C3074607050F1339DDCB890BB</td>\n",
       "      <td>27448</td>\n",
       "      <td>600</td>\n",
       "      <td>False</td>\n",
       "      <td>1520948869</td>\n",
       "      <td>True</td>\n",
       "    </tr>\n",
       "    <tr>\n",
       "      <th>1</th>\n",
       "      <td>101\\t6006\\t5086\\t1939\\t7418\\t3601\\t6406\\t1913\\...</td>\n",
       "      <td>NaN</td>\n",
       "      <td>CCBFBA5AFE7EFC03102EA8D0F86C4208</td>\n",
       "      <td>Photo</td>\n",
       "      <td>NaN</td>\n",
       "      <td>NaN</td>\n",
       "      <td>TopLevel</td>\n",
       "      <td>22C448FF81263D4BAF2A176145EE9EAD</td>\n",
       "      <td>1581736431</td>\n",
       "      <td>187AC59639DA9A6F32F7CD118EDD58F7</td>\n",
       "      <td>476439</td>\n",
       "      <td>1478</td>\n",
       "      <td>False</td>\n",
       "      <td>1254447722</td>\n",
       "      <td>00000776B07587ECA9717BFC301F2D6E</td>\n",
       "      <td>102</td>\n",
       "      <td>659</td>\n",
       "      <td>False</td>\n",
       "      <td>1478011810</td>\n",
       "      <td>False</td>\n",
       "    </tr>\n",
       "    <tr>\n",
       "      <th>2</th>\n",
       "      <td>101\\t56898\\t137\\t44851\\t10317\\t11490\\t10112\\t1...</td>\n",
       "      <td>NaN</td>\n",
       "      <td>E18C2DCFC5AF20C650A0FD94598E69B7</td>\n",
       "      <td>Video</td>\n",
       "      <td>NaN</td>\n",
       "      <td>NaN</td>\n",
       "      <td>Retweet</td>\n",
       "      <td>ECED8A16BE2A5E8871FD55F4842F16B1</td>\n",
       "      <td>1582061925</td>\n",
       "      <td>82626B53CB2AD3B469E4AE06EAA9D930</td>\n",
       "      <td>367</td>\n",
       "      <td>702</td>\n",
       "      <td>False</td>\n",
       "      <td>1518708926</td>\n",
       "      <td>00000860E80C67D8C46CE57C64DE9444</td>\n",
       "      <td>230</td>\n",
       "      <td>189</td>\n",
       "      <td>False</td>\n",
       "      <td>1541013180</td>\n",
       "      <td>True</td>\n",
       "    </tr>\n",
       "    <tr>\n",
       "      <th>3</th>\n",
       "      <td>101\\t13497\\t10437\\t94005\\t11161\\t73632\\t11067\\...</td>\n",
       "      <td>NaN</td>\n",
       "      <td>26DC813FDF8546B757BB9141099F119E</td>\n",
       "      <td>NaN</td>\n",
       "      <td>D58137F9D688C88435FD64FBAEA82B97</td>\n",
       "      <td>E91CDEC8DC7ABF30592FA024616FF970</td>\n",
       "      <td>TopLevel</td>\n",
       "      <td>ECED8A16BE2A5E8871FD55F4842F16B1</td>\n",
       "      <td>1582110043</td>\n",
       "      <td>7AFE06FF54898A1E9C716F539831849E</td>\n",
       "      <td>278</td>\n",
       "      <td>1229</td>\n",
       "      <td>False</td>\n",
       "      <td>1243548061</td>\n",
       "      <td>00000865A1538142CDA5936B07FE4311</td>\n",
       "      <td>65</td>\n",
       "      <td>165</td>\n",
       "      <td>False</td>\n",
       "      <td>1452599043</td>\n",
       "      <td>True</td>\n",
       "    </tr>\n",
       "    <tr>\n",
       "      <th>4</th>\n",
       "      <td>101\\t24781\\t10152\\t42041\\t38268\\t10301\\t10798\\...</td>\n",
       "      <td>NaN</td>\n",
       "      <td>30A33055566AAC9EB18734C4EAD11FE1</td>\n",
       "      <td>NaN</td>\n",
       "      <td>AEF0CC9FA7B389B9A2ADF1331F00B65B</td>\n",
       "      <td>42DD9E2D4B2C0B0A71E909A6049EC2C2</td>\n",
       "      <td>TopLevel</td>\n",
       "      <td>D3164C7FBCF2565DDF915B1B3AEFB1DC</td>\n",
       "      <td>1581860270</td>\n",
       "      <td>D240DACE38CA84965270C86D47D3BF40</td>\n",
       "      <td>24313527</td>\n",
       "      <td>121</td>\n",
       "      <td>True</td>\n",
       "      <td>1177506290</td>\n",
       "      <td>00000865A1538142CDA5936B07FE4311</td>\n",
       "      <td>64</td>\n",
       "      <td>164</td>\n",
       "      <td>False</td>\n",
       "      <td>1452599043</td>\n",
       "      <td>False</td>\n",
       "    </tr>\n",
       "  </tbody>\n",
       "</table>\n",
       "</div>"
      ],
      "text/plain": [
       "                                         text_tokens hashtags  \\\n",
       "0  101\\t47185\\t10157\\t100986\\t10343\\t55422\\t119\\t...      NaN   \n",
       "1  101\\t6006\\t5086\\t1939\\t7418\\t3601\\t6406\\t1913\\...      NaN   \n",
       "2  101\\t56898\\t137\\t44851\\t10317\\t11490\\t10112\\t1...      NaN   \n",
       "3  101\\t13497\\t10437\\t94005\\t11161\\t73632\\t11067\\...      NaN   \n",
       "4  101\\t24781\\t10152\\t42041\\t38268\\t10301\\t10798\\...      NaN   \n",
       "\n",
       "                           tweet_id present_media  \\\n",
       "0  7647B4E9DAF4C1D8973397DC2A04F3E3         Photo   \n",
       "1  CCBFBA5AFE7EFC03102EA8D0F86C4208         Photo   \n",
       "2  E18C2DCFC5AF20C650A0FD94598E69B7         Video   \n",
       "3  26DC813FDF8546B757BB9141099F119E           NaN   \n",
       "4  30A33055566AAC9EB18734C4EAD11FE1           NaN   \n",
       "\n",
       "                      present_links                   present_domains  \\\n",
       "0                               NaN                               NaN   \n",
       "1                               NaN                               NaN   \n",
       "2                               NaN                               NaN   \n",
       "3  D58137F9D688C88435FD64FBAEA82B97  E91CDEC8DC7ABF30592FA024616FF970   \n",
       "4  AEF0CC9FA7B389B9A2ADF1331F00B65B  42DD9E2D4B2C0B0A71E909A6049EC2C2   \n",
       "\n",
       "  tweet_type                          language   timestamp  \\\n",
       "0   TopLevel  D3164C7FBCF2565DDF915B1B3AEFB1DC  1581703126   \n",
       "1   TopLevel  22C448FF81263D4BAF2A176145EE9EAD  1581736431   \n",
       "2    Retweet  ECED8A16BE2A5E8871FD55F4842F16B1  1582061925   \n",
       "3   TopLevel  ECED8A16BE2A5E8871FD55F4842F16B1  1582110043   \n",
       "4   TopLevel  D3164C7FBCF2565DDF915B1B3AEFB1DC  1581860270   \n",
       "\n",
       "                    engaged_user_id  engaged_follower_count  \\\n",
       "0  8A9AB92B775C62C4AB60DF6773A01571                   13941   \n",
       "1  187AC59639DA9A6F32F7CD118EDD58F7                  476439   \n",
       "2  82626B53CB2AD3B469E4AE06EAA9D930                     367   \n",
       "3  7AFE06FF54898A1E9C716F539831849E                     278   \n",
       "4  D240DACE38CA84965270C86D47D3BF40                24313527   \n",
       "\n",
       "   engaged_following_count  engaged_is_verified  \\\n",
       "0                     1216                False   \n",
       "1                     1478                False   \n",
       "2                      702                False   \n",
       "3                     1229                False   \n",
       "4                      121                 True   \n",
       "\n",
       "   engaged_account_creation_time                  engaging_user_id  \\\n",
       "0                     1448292186  0000006C3074607050F1339DDCB890BB   \n",
       "1                     1254447722  00000776B07587ECA9717BFC301F2D6E   \n",
       "2                     1518708926  00000860E80C67D8C46CE57C64DE9444   \n",
       "3                     1243548061  00000865A1538142CDA5936B07FE4311   \n",
       "4                     1177506290  00000865A1538142CDA5936B07FE4311   \n",
       "\n",
       "   engaging_follower_count  engaging_following_count  engaging_is_verified  \\\n",
       "0                    27448                       600                 False   \n",
       "1                      102                       659                 False   \n",
       "2                      230                       189                 False   \n",
       "3                       65                       165                 False   \n",
       "4                       64                       164                 False   \n",
       "\n",
       "   engaging_account_creation_time  engagee_follows_engager  \n",
       "0                      1520948869                     True  \n",
       "1                      1478011810                    False  \n",
       "2                      1541013180                     True  \n",
       "3                      1452599043                     True  \n",
       "4                      1452599043                    False  "
      ]
     },
     "execution_count": 21,
     "metadata": {},
     "output_type": "execute_result"
    }
   ],
   "source": [
    "dfval.head()"
   ]
  },
  {
   "cell_type": "code",
   "execution_count": 16,
   "metadata": {},
   "outputs": [
    {
     "name": "stderr",
     "output_type": "stream",
     "text": [
      "/data/anaconda3/envs/rcss20/lib/python3.7/site-packages/dask/core.py:121: DtypeWarning: Columns (4,5) have mixed types.Specify dtype option on import or set low_memory=False.\n",
      "  return func(*(_execute_task(a, cache) for a in args))\n"
     ]
    },
    {
     "name": "stdout",
     "output_type": "stream",
     "text": [
      "CPU times: user 2min 21s, sys: 22 s, total: 2min 43s\n",
      "Wall time: 1min 24s\n"
     ]
    }
   ],
   "source": [
    "%%time\n",
    "lang2cnt=dict(dfval.language.value_counts().compute())"
   ]
  },
  {
   "cell_type": "code",
   "execution_count": 19,
   "metadata": {},
   "outputs": [
    {
     "name": "stderr",
     "output_type": "stream",
     "text": [
      "/data/anaconda3/envs/rcss20/lib/python3.7/site-packages/dask/core.py:121: DtypeWarning: Columns (4,5) have mixed types.Specify dtype option on import or set low_memory=False.\n",
      "  return func(*(_execute_task(a, cache) for a in args))\n"
     ]
    },
    {
     "data": {
      "text/plain": [
       "15127684"
      ]
     },
     "execution_count": 19,
     "metadata": {},
     "output_type": "execute_result"
    }
   ],
   "source": [
    "len(dfval)"
   ]
  },
  {
   "cell_type": "code",
   "execution_count": 18,
   "metadata": {},
   "outputs": [
    {
     "data": {
      "text/plain": [
       "(Delayed('int-ad4c4931-3f8a-453c-abc9-31797d754d1c'), 20)"
      ]
     },
     "execution_count": 18,
     "metadata": {},
     "output_type": "execute_result"
    }
   ],
   "source": [
    "nval=len(dfval).compute"
   ]
  },
  {
   "cell_type": "code",
   "execution_count": 23,
   "metadata": {
    "collapsed": true
   },
   "outputs": [
    {
     "data": {
      "text/plain": [
       "{'D3164C7FBCF2565DDF915B1B3AEFB1DC': 0.4281568150154379,\n",
       " '22C448FF81263D4BAF2A176145EE9EAD': 0.15653506511637869,\n",
       " '06D61DCBBE938971E1EA0C38BD9B5446': 0.08684409325313776,\n",
       " 'ECED8A16BE2A5E8871FD55F4842F16B1': 0.07187590645071645,\n",
       " 'B9175601E87101A984A50F8A62A1C374': 0.0510950651798385,\n",
       " '4DC22C3F31C5C43721E6B5815A595ED6': 0.03233621220538451,\n",
       " '167115458A0DBDFF7E9C0C53A83BAC9B': 0.02869156970756396,\n",
       " '125C57F4FA6D4E110983FB11B52EFD4E': 0.02251587222472389,\n",
       " '022EC308651FACB02794A8147AEE1B78': 0.022084940431066645,\n",
       " 'FA3F382BC409C271E3D6EAF8BE4648DD': 0.020434654769361918,\n",
       " '9BF3403E0EB7EA8A256DA9019C0B0716': 0.01711266575901506,\n",
       " '975B38F44D65EE42A547283787FF5A21': 0.008900304897960587,\n",
       " '2996EB2FE8162C076D070A4C8D6532CD': 0.008491055207128863,\n",
       " 'FF60A88F53E63000266F8B9149E35AD9': 0.005443463784674508,\n",
       " '717293301FE296B0B61950D041485825': 0.005351975887386331,\n",
       " '3E16B11B7ADE3A22DDFC4423FBCEAD5D': 0.005259694742433805,\n",
       " '3820C29CBCA409A33BADF68852057C4A': 0.005107391190878921,\n",
       " '9ECD42BC079C20F156F53CB3B99E600E': 0.0025499607210198202,\n",
       " '76B8A9C3013AE6414A3E6012413CDC3B': 0.0025153883436486377,\n",
       " 'AEF22666801F0A5846D853B9CEB2E327': 0.002179910685601312,\n",
       " '190BA7DA361BC06BC1D7E824C378064D': 0.0019262697449259252,\n",
       " '1FFD2FE4297F5E70EBC6C3230D95CB9C': 0.0019155609014572224,\n",
       " 'A0C7021AD8299ADF0C9EBE326C115F6F': 0.0012986125305102882,\n",
       " 'D413F5FE5236E5650A46FD983AB39212': 0.0012444072734464839,\n",
       " '48236EC80FDDDFADE99420ABC9210DDF': 0.0011455818352630845,\n",
       " '691890251F2B9FF922BE6D3699ABEFD2': 0.0008832151702798657,\n",
       " '920502FAA080485768AA89BC96A55C47': 0.0007246317413822235,\n",
       " '0331BF70E606D62D92C96CE9AD71A7CF': 0.0006743927226401609,\n",
       " '89616CFF8EC8637092F885C7EFF43D74': 0.0006288470859121594,\n",
       " '06BEAB41D66CCFF329D1ED8BA120A6C2': 0.0006205840894085308,\n",
       " '60FBA0E834CC59D647C3599AD763FFDF': 0.0005243367061342635,\n",
       " 'C7A400D9AD489ACF673CF12FBB80AAE5': 0.00047032976098654625,\n",
       " 'E59EF8BB86A6D815331DDF4C467CE0C7': 0.0004138108649017259,\n",
       " '4249CE88433AEA3F8DCEECF008B3CB95': 0.00038637771650967855,\n",
       " '544FA32458C903F1125FE6598300A047': 0.00037732147234170147,\n",
       " 'CB11E9CF42BD0A1BAD5E27BF3422D99D': 0.00033765908912428366,\n",
       " '3A85BCEC571C3F5AB1069E4924189177': 0.0002736043402281539,\n",
       " 'FF7EABB5A382356D54D9C41BA0125E09': 0.00025767328296915775,\n",
       " 'E7BB61D2A87C1E72DF1C7BC292B86A1C': 0.0002548308121719095,\n",
       " '69C4A33B9AD29AF883D60BA61CC08702': 0.00024068456215769712,\n",
       " 'F4FD40A716F1572C9A28E9CAA58BE3A5': 0.00021701934017130447,\n",
       " '259A6F6DFD672CB1F883CBEC01B99F2D': 0.00019963399552766966,\n",
       " '6431A618DCF7F4CB7F62A95A39BAB77A': 0.000198113604171002,\n",
       " '3121F7240D488F74EEED9312E174B217': 0.00018991671163940232,\n",
       " '54208B51D44E7D91DC2F3DD02ADEDEC2': 0.00016354122679981947,\n",
       " 'DBEEFB80F8A314311E2B4BD593E11DFE': 0.00016235135530329693,\n",
       " 'B6D90127A09AB1229731898AEF9D4D7C': 0.00013749626182038175,\n",
       " 'F3E1016563360F9434FA986CA86C249C': 0.0001344554791070464,\n",
       " '2216D01F7B48554E4211021A46816FCF': 0.00011581415899486002,\n",
       " '1BC639981AE88E09129594B11F894A21': 9.578465547006403e-05,\n",
       " 'C942E369C88CE7C56E69A84D04319FF0': 5.770876758134292e-05,\n",
       " '57ADD4576E2AD6648E9B2DE32F3462A5': 5.446967295192046e-05,\n",
       " 'AC1F0671A4B0D5B8112F87DE7B490E6D': 4.501680495176922e-05,\n",
       " 'C2EF5FABE7619D8A333D5F0FF76E1BFA': 4.0587838825824233e-05,\n",
       " 'AA0254541959271ED3453119B787D0C3': 3.080445096552784e-05,\n",
       " 'A6B70CDF8C7B934D4A218CA9B6B7FDB4': 1.8971839972331523e-05,\n",
       " 'BF477808A37E3E4E9C5D9F1839E8519E': 1.2229234825370492e-05,\n",
       " '97F81BD92A1ACA3F1F43C154E689350F': 1.1568195105080195e-05,\n",
       " '60A3DB168094D41241E45E0DE3539BC0': 1.070884346870281e-05,\n",
       " '12D8CEB94F89D11D7EB95EAE9689B009': 7.800268699425504e-06,\n",
       " 'F73266A79468BB89C4325FDEDB0B533C': 5.552733650438494e-06,\n",
       " '4690215948DBF6872B8ED1C2BC87B17E': 5.354421734351405e-06,\n",
       " 'D18801336202297E6484F634CAC6592E': 3.834030377683722e-06,\n",
       " '2E18F6F53E3CF073911AF0A93BBE5373': 2.644158881161188e-07,\n",
       " 'B2235C8B73239FDC5780DD132419833A': 1.9831191608708906e-07,\n",
       " '515E873C86EE1577E75FA2387B7FA59E': 6.61039720290297e-08}"
      ]
     },
     "execution_count": 23,
     "metadata": {},
     "output_type": "execute_result"
    }
   ],
   "source": [
    "ttl=sum(lang2cnt.values())\n",
    "lang2perc={k:v/ttl for k,v in lang2cnt.items()}\n",
    "lang2perc"
   ]
  },
  {
   "cell_type": "code",
   "execution_count": 24,
   "metadata": {},
   "outputs": [
    {
     "data": {
      "text/plain": [
       "66"
      ]
     },
     "execution_count": 24,
     "metadata": {},
     "output_type": "execute_result"
    }
   ],
   "source": [
    "len(lang2perc)"
   ]
  },
  {
   "cell_type": "code",
   "execution_count": null,
   "metadata": {},
   "outputs": [],
   "source": []
  },
  {
   "cell_type": "code",
   "execution_count": null,
   "metadata": {},
   "outputs": [],
   "source": []
  },
  {
   "cell_type": "code",
   "execution_count": null,
   "metadata": {},
   "outputs": [],
   "source": []
  },
  {
   "cell_type": "code",
   "execution_count": null,
   "metadata": {},
   "outputs": [],
   "source": []
  },
  {
   "cell_type": "code",
   "execution_count": null,
   "metadata": {},
   "outputs": [],
   "source": []
  },
  {
   "cell_type": "code",
   "execution_count": null,
   "metadata": {},
   "outputs": [],
   "source": []
  }
 ],
 "metadata": {
  "kernelspec": {
   "display_name": "rcss20",
   "language": "python",
   "name": "rcss20"
  },
  "language_info": {
   "codemirror_mode": {
    "name": "ipython",
    "version": 3
   },
   "file_extension": ".py",
   "mimetype": "text/x-python",
   "name": "python",
   "nbconvert_exporter": "python",
   "pygments_lexer": "ipython3",
   "version": "3.7.6"
  },
  "toc": {
   "base_numbering": 1,
   "nav_menu": {},
   "number_sections": true,
   "sideBar": true,
   "skip_h1_title": false,
   "title_cell": "Table of Contents",
   "title_sidebar": "Contents",
   "toc_cell": false,
   "toc_position": {},
   "toc_section_display": true,
   "toc_window_display": true
  }
 },
 "nbformat": 4,
 "nbformat_minor": 2
}
