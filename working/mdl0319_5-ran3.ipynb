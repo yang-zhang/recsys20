{
 "cells": [
  {
   "cell_type": "markdown",
   "metadata": {},
   "source": [
    "# start"
   ]
  },
  {
   "cell_type": "markdown",
   "metadata": {},
   "source": [
    "return to four models"
   ]
  },
  {
   "cell_type": "code",
   "execution_count": 1,
   "metadata": {},
   "outputs": [
    {
     "data": {
      "text/plain": [
       "['2020-03-17 02:32:24', '2020-03-19 13:59:55']"
      ]
     },
     "execution_count": 1,
     "metadata": {},
     "output_type": "execute_result"
    }
   ],
   "source": [
    "PRFX='0319_5'\n",
    "trntmstmp=1584412344\n",
    "valtmstmp=1584626395\n",
    "import datetime\n",
    "[datetime.datetime.fromtimestamp(o).strftime('%Y-%m-%d %H:%M:%S') for o in (trntmstmp, valtmstmp)]"
   ]
  },
  {
   "cell_type": "code",
   "execution_count": 2,
   "metadata": {},
   "outputs": [],
   "source": [
    "grand_total=1.5e8"
   ]
  },
  {
   "cell_type": "markdown",
   "metadata": {},
   "source": [
    "# setup"
   ]
  },
  {
   "cell_type": "code",
   "execution_count": 3,
   "metadata": {
    "scrolled": true
   },
   "outputs": [
    {
     "name": "stdout",
     "output_type": "stream",
     "text": [
      "dask.__version__ 2.12.0\n"
     ]
    }
   ],
   "source": [
    "from pathlib import Path\n",
    "import dask\n",
    "print('dask.__version__', dask.__version__)\n",
    "import xgboost as xgb\n",
    "import dask_xgboost\n",
    "import dask.dataframe as dd\n",
    "from sklearn.model_selection import train_test_split\n",
    "import pandas as pd\n",
    "import numpy as np\n",
    "import matplotlib.pyplot as plt\n",
    "from sklearn.metrics import accuracy_score, roc_auc_score, roc_curve, auc, precision_recall_curve\n",
    "from dask.distributed import Client\n",
    "import pickle\n",
    "import lightgbm as lgb\n",
    "from tqdm import tqdm\n",
    "\n",
    "import datetime\n",
    "def dtnow(): return datetime.datetime.now().strftime('%Y-%m-%d %H:%M:%S')\n",
    "\n",
    "SEED=101\n",
    "HOME='/data/git/recsys20'\n",
    "p_in=f'{HOME}/input'\n",
    "p_out=f'{HOME}/output/{PRFX}'\n",
    "Path(p_out).mkdir(exist_ok=True, parents=True)\n",
    "\n",
    "from sklearn.metrics import precision_recall_curve, auc, log_loss\n",
    "\n",
    "def compute_prauc(pred, gt):\n",
    "    prec, recall, thresh = precision_recall_curve(gt, pred)\n",
    "    prauc = auc(recall, prec)\n",
    "    return prauc\n",
    "\n",
    "def calculate_ctr(gt):\n",
    "    positive = len([x for x in gt if x == 1])\n",
    "    ctr = positive/float(len(gt))\n",
    "    return ctr\n",
    "\n",
    "def compute_rce(pred, gt):\n",
    "    cross_entropy = log_loss(gt, pred)\n",
    "    data_ctr = calculate_ctr(gt)\n",
    "    strawman_cross_entropy = log_loss(gt, [data_ctr for _ in range(len(gt))])\n",
    "    return (1.0 - cross_entropy/strawman_cross_entropy)*100.0\n",
    "\n",
    "cols=[\n",
    "'toks',\n",
    "'hshtgs',\n",
    "'twtid',\n",
    "'media',\n",
    "'links',\n",
    "'domns',\n",
    "'twttyp',\n",
    "'lang',\n",
    "'tm',\n",
    "\n",
    "'u1id',\n",
    "'u1_fllwer_cnt',\n",
    "'u1_fllwing_cnt',\n",
    "'u1_vrfed',\n",
    "'u1_create_tm',\n",
    "\n",
    "'u2id',\n",
    "'u2_follower_cnt',\n",
    "'u2_following_cnt',\n",
    "'u2_vrfed',\n",
    "'u2_create_tm',\n",
    "\n",
    "'u1_fllw_u2',\n",
    "'reply_tm',\n",
    "'retwt_tm',\n",
    "'retwt_cmmnt_tm',\n",
    "'like_tm',\n",
    "]\n",
    "\n",
    "cols_val = cols[:-4]\n",
    "cols_tgt_tmstmp=[\n",
    "    'retwt_tm',\n",
    "    'reply_tm',\n",
    "    'like_tm',\n",
    "    'retwt_cmmnt_tm',\n",
    "]\n",
    "cols_tgt=[o.split('_tm')[0] for o in cols_tgt_tmstmp]\n",
    "tgts             = ['Retweet','Reply','Like','RTwCmnt',]\n",
    "assert cols_tgt == ['retwt',  'reply','like','retwt_cmmnt',]\n",
    "ntgts=len(tgts)"
   ]
  },
  {
   "cell_type": "markdown",
   "metadata": {},
   "source": [
    "# prepare data"
   ]
  },
  {
   "cell_type": "markdown",
   "metadata": {},
   "source": [
    "## get maps from dfval"
   ]
  },
  {
   "cell_type": "code",
   "execution_count": 4,
   "metadata": {},
   "outputs": [],
   "source": [
    "# dfval=dd.read_csv(\n",
    "#     f'{p_in}/val_{valtmstmp}.tsv',\n",
    "#     sep='\\x01', header=None, names=cols_val,)\n",
    "# lang2cnt=dict(dfval.lang.value_counts().compute())\n",
    "# ttl=sum(lang2cnt.values())\n",
    "# lang2perc={k:v/ttl for k,v in lang2cnt.items()}\n",
    "langs=['D3164C7FBCF2565DDF915B1B3AEFB1DC', '22C448FF81263D4BAF2A176145EE9EAD', '06D61DCBBE938971E1EA0C38BD9B5446', 'ECED8A16BE2A5E8871FD55F4842F16B1', 'B9175601E87101A984A50F8A62A1C374', '4DC22C3F31C5C43721E6B5815A595ED6', '167115458A0DBDFF7E9C0C53A83BAC9B', '125C57F4FA6D4E110983FB11B52EFD4E', '022EC308651FACB02794A8147AEE1B78', 'FA3F382BC409C271E3D6EAF8BE4648DD', '9BF3403E0EB7EA8A256DA9019C0B0716', '975B38F44D65EE42A547283787FF5A21', '2996EB2FE8162C076D070A4C8D6532CD', 'FF60A88F53E63000266F8B9149E35AD9', '717293301FE296B0B61950D041485825', '3E16B11B7ADE3A22DDFC4423FBCEAD5D', '3820C29CBCA409A33BADF68852057C4A', '9ECD42BC079C20F156F53CB3B99E600E', '76B8A9C3013AE6414A3E6012413CDC3B', 'AEF22666801F0A5846D853B9CEB2E327', '190BA7DA361BC06BC1D7E824C378064D', '1FFD2FE4297F5E70EBC6C3230D95CB9C', 'A0C7021AD8299ADF0C9EBE326C115F6F', 'D413F5FE5236E5650A46FD983AB39212', '48236EC80FDDDFADE99420ABC9210DDF', '691890251F2B9FF922BE6D3699ABEFD2', '920502FAA080485768AA89BC96A55C47', '0331BF70E606D62D92C96CE9AD71A7CF', '89616CFF8EC8637092F885C7EFF43D74', '06BEAB41D66CCFF329D1ED8BA120A6C2', '60FBA0E834CC59D647C3599AD763FFDF', 'C7A400D9AD489ACF673CF12FBB80AAE5', 'E59EF8BB86A6D815331DDF4C467CE0C7', '4249CE88433AEA3F8DCEECF008B3CB95', '544FA32458C903F1125FE6598300A047', 'CB11E9CF42BD0A1BAD5E27BF3422D99D', '3A85BCEC571C3F5AB1069E4924189177', 'FF7EABB5A382356D54D9C41BA0125E09', 'E7BB61D2A87C1E72DF1C7BC292B86A1C', '69C4A33B9AD29AF883D60BA61CC08702', 'F4FD40A716F1572C9A28E9CAA58BE3A5', '259A6F6DFD672CB1F883CBEC01B99F2D', '6431A618DCF7F4CB7F62A95A39BAB77A', '3121F7240D488F74EEED9312E174B217', '54208B51D44E7D91DC2F3DD02ADEDEC2', 'DBEEFB80F8A314311E2B4BD593E11DFE', 'B6D90127A09AB1229731898AEF9D4D7C', 'F3E1016563360F9434FA986CA86C249C', '2216D01F7B48554E4211021A46816FCF', '1BC639981AE88E09129594B11F894A21', 'C942E369C88CE7C56E69A84D04319FF0', '57ADD4576E2AD6648E9B2DE32F3462A5', 'AC1F0671A4B0D5B8112F87DE7B490E6D', 'C2EF5FABE7619D8A333D5F0FF76E1BFA', 'AA0254541959271ED3453119B787D0C3', 'A6B70CDF8C7B934D4A218CA9B6B7FDB4', 'BF477808A37E3E4E9C5D9F1839E8519E', '97F81BD92A1ACA3F1F43C154E689350F', '60A3DB168094D41241E45E0DE3539BC0', '12D8CEB94F89D11D7EB95EAE9689B009', 'F73266A79468BB89C4325FDEDB0B533C', '4690215948DBF6872B8ED1C2BC87B17E', 'D18801336202297E6484F634CAC6592E', '2E18F6F53E3CF073911AF0A93BBE5373', 'B2235C8B73239FDC5780DD132419833A', '515E873C86EE1577E75FA2387B7FA59E',]\n",
    "\n",
    "# dfval.twttyp.value_counts().compute()\n",
    "# TopLevel    2932\n",
    "# Retweet      994\n",
    "# Quote        213\n",
    "twttyps=['TopLevel','Retweet','Quote']"
   ]
  },
  {
   "cell_type": "code",
   "execution_count": 5,
   "metadata": {},
   "outputs": [],
   "source": [
    "def prp_df(df, istrn=True):\n",
    "    df['len_toks']=df.toks.apply(len)\n",
    "    for media in ['Photo', 'Video', 'GIF']:\n",
    "        df[f'has_media_{media}'] = df.media.fillna('').apply(lambda x: media in x)\n",
    "    for col in ['hshtgs', 'links', 'domns',]:\n",
    "        df[f'num_{col}'] = df[col].fillna('').apply(lambda x: len(x.split('\\t')) if len(x) else 0)\n",
    "    tm_dt=pd.to_datetime(df.tm, unit='s')\n",
    "    df['tm_month']=tm_dt.dt.month\n",
    "    df['tm_dayofweek']=tm_dt.dt.dayofweek\n",
    "    df['tm_day']=tm_dt.dt.day\n",
    "    df['tm_hour']=tm_dt.dt.hour\n",
    "    df['tmdlta_u2u1']  = df.u2_create_tm - df.u1_create_tm\n",
    "    df['tmdlta_twtu1'] = df.tm - df.u1_create_tm\n",
    "    df['tmdlta_twtu2'] = df.tm - df.u2_create_tm\n",
    "\n",
    "    for typ in twttyps:\n",
    "        df[f'twttyp_{typ}']=(df.twttyp==typ).astype('int8')\n",
    "\n",
    "    for lang in langs:\n",
    "        df[f'lang_{lang}']=(df.lang==lang).astype('int8')\n",
    "    if istrn: \n",
    "        df[cols_tgt]=df[cols_tgt_tmstmp].notna().astype('int8')\n",
    "        df.drop(inplace=True, columns=['toks', 'hshtgs', 'media', 'links', 'domns', 'twttyp', 'lang', 'twtid', 'u1id', 'u2id']+cols_tgt_tmstmp, )\n",
    "    else:\n",
    "        df.drop(inplace=True, columns=['toks', 'hshtgs', 'media', 'links', 'domns', 'twttyp', 'lang', 'u1id',])        \n",
    "    return df"
   ]
  },
  {
   "cell_type": "raw",
   "metadata": {
    "scrolled": true
   },
   "source": [
    "ls -hlS $p_in | grep {trntmstmp} "
   ]
  },
  {
   "cell_type": "code",
   "execution_count": 6,
   "metadata": {},
   "outputs": [
    {
     "data": {
      "text/plain": [
       "150000000.0"
      ]
     },
     "execution_count": 6,
     "metadata": {},
     "output_type": "execute_result"
    }
   ],
   "source": [
    "grand_total"
   ]
  },
  {
   "cell_type": "code",
   "execution_count": 7,
   "metadata": {},
   "outputs": [
    {
     "data": {
      "text/plain": [
       "150.0"
      ]
     },
     "execution_count": 7,
     "metadata": {},
     "output_type": "execute_result"
    }
   ],
   "source": [
    "grand_total/1e6"
   ]
  },
  {
   "cell_type": "raw",
   "metadata": {},
   "source": [
    "chnks_trn = pd.read_csv(f'{p_in}/trn_{trntmstmp}.tsv',sep='\\x01',\n",
    "                    header=None,names=cols, \n",
    "                        chunksize=1e6\n",
    "                       )\n",
    "for ichnk,df in enumerate(chnks_trn):\n",
    "    print(dtnow(), 'chunk', ichnk, df.tm.max())\n",
    "ichnk"
   ]
  },
  {
   "cell_type": "code",
   "execution_count": 8,
   "metadata": {
    "scrolled": false
   },
   "outputs": [
    {
     "name": "stdout",
     "output_type": "stream",
     "text": [
      "2020-03-20 03:02:58 chunk 0\n",
      "2020-03-20 03:03:14 chunk 1\n",
      "2020-03-20 03:03:29 chunk 2\n",
      "2020-03-20 03:03:45 chunk 3\n",
      "2020-03-20 03:04:01 chunk 4\n",
      "2020-03-20 03:04:17 chunk 5\n",
      "2020-03-20 03:04:32 chunk 6\n",
      "2020-03-20 03:04:48 chunk 7\n",
      "2020-03-20 03:05:03 chunk 8\n",
      "2020-03-20 03:05:19 chunk 9\n"
     ]
    }
   ],
   "source": [
    "chnks_trn = pd.read_csv(f'{p_in}/trn_{trntmstmp}.tsv',sep='\\x01',\n",
    "                    header=None,names=cols, \n",
    "                        chunksize=1e6\n",
    "                       )\n",
    "\n",
    "np.random.seed(SEED)\n",
    "lst_df = []\n",
    "for ichnk,df in enumerate(chnks_trn):\n",
    "    print(dtnow(), 'chunk', ichnk)\n",
    "    df = prp_df(df)    \n",
    "    lst_df.append(df)\n",
    "    if ichnk>=9: break\n",
    "\n"
   ]
  },
  {
   "cell_type": "code",
   "execution_count": 9,
   "metadata": {},
   "outputs": [],
   "source": [
    "df = pd.concat(lst_df)"
   ]
  },
  {
   "cell_type": "code",
   "execution_count": 10,
   "metadata": {
    "scrolled": true
   },
   "outputs": [
    {
     "data": {
      "text/plain": [
       "(10000000, 97)"
      ]
     },
     "execution_count": 10,
     "metadata": {},
     "output_type": "execute_result"
    }
   ],
   "source": [
    "df.shape"
   ]
  },
  {
   "cell_type": "code",
   "execution_count": 11,
   "metadata": {},
   "outputs": [
    {
     "data": {
      "text/plain": [
       "Index(['tm', 'u1_fllwer_cnt', 'u1_fllwing_cnt', 'u1_vrfed', 'u1_create_tm',\n",
       "       'u2_follower_cnt', 'u2_following_cnt', 'u2_vrfed', 'u2_create_tm',\n",
       "       'u1_fllw_u2', 'len_toks', 'has_media_Photo', 'has_media_Video',\n",
       "       'has_media_GIF', 'num_hshtgs', 'num_links', 'num_domns', 'tm_month',\n",
       "       'tm_dayofweek', 'tm_day', 'tm_hour', 'tmdlta_u2u1', 'tmdlta_twtu1',\n",
       "       'tmdlta_twtu2', 'twttyp_TopLevel', 'twttyp_Retweet', 'twttyp_Quote',\n",
       "       'lang_D3164C7FBCF2565DDF915B1B3AEFB1DC',\n",
       "       'lang_22C448FF81263D4BAF2A176145EE9EAD',\n",
       "       'lang_06D61DCBBE938971E1EA0C38BD9B5446',\n",
       "       'lang_ECED8A16BE2A5E8871FD55F4842F16B1',\n",
       "       'lang_B9175601E87101A984A50F8A62A1C374',\n",
       "       'lang_4DC22C3F31C5C43721E6B5815A595ED6',\n",
       "       'lang_167115458A0DBDFF7E9C0C53A83BAC9B',\n",
       "       'lang_125C57F4FA6D4E110983FB11B52EFD4E',\n",
       "       'lang_022EC308651FACB02794A8147AEE1B78',\n",
       "       'lang_FA3F382BC409C271E3D6EAF8BE4648DD',\n",
       "       'lang_9BF3403E0EB7EA8A256DA9019C0B0716',\n",
       "       'lang_975B38F44D65EE42A547283787FF5A21',\n",
       "       'lang_2996EB2FE8162C076D070A4C8D6532CD',\n",
       "       'lang_FF60A88F53E63000266F8B9149E35AD9',\n",
       "       'lang_717293301FE296B0B61950D041485825',\n",
       "       'lang_3E16B11B7ADE3A22DDFC4423FBCEAD5D',\n",
       "       'lang_3820C29CBCA409A33BADF68852057C4A',\n",
       "       'lang_9ECD42BC079C20F156F53CB3B99E600E',\n",
       "       'lang_76B8A9C3013AE6414A3E6012413CDC3B',\n",
       "       'lang_AEF22666801F0A5846D853B9CEB2E327',\n",
       "       'lang_190BA7DA361BC06BC1D7E824C378064D',\n",
       "       'lang_1FFD2FE4297F5E70EBC6C3230D95CB9C',\n",
       "       'lang_A0C7021AD8299ADF0C9EBE326C115F6F',\n",
       "       'lang_D413F5FE5236E5650A46FD983AB39212',\n",
       "       'lang_48236EC80FDDDFADE99420ABC9210DDF',\n",
       "       'lang_691890251F2B9FF922BE6D3699ABEFD2',\n",
       "       'lang_920502FAA080485768AA89BC96A55C47',\n",
       "       'lang_0331BF70E606D62D92C96CE9AD71A7CF',\n",
       "       'lang_89616CFF8EC8637092F885C7EFF43D74',\n",
       "       'lang_06BEAB41D66CCFF329D1ED8BA120A6C2',\n",
       "       'lang_60FBA0E834CC59D647C3599AD763FFDF',\n",
       "       'lang_C7A400D9AD489ACF673CF12FBB80AAE5',\n",
       "       'lang_E59EF8BB86A6D815331DDF4C467CE0C7',\n",
       "       'lang_4249CE88433AEA3F8DCEECF008B3CB95',\n",
       "       'lang_544FA32458C903F1125FE6598300A047',\n",
       "       'lang_CB11E9CF42BD0A1BAD5E27BF3422D99D',\n",
       "       'lang_3A85BCEC571C3F5AB1069E4924189177',\n",
       "       'lang_FF7EABB5A382356D54D9C41BA0125E09',\n",
       "       'lang_E7BB61D2A87C1E72DF1C7BC292B86A1C',\n",
       "       'lang_69C4A33B9AD29AF883D60BA61CC08702',\n",
       "       'lang_F4FD40A716F1572C9A28E9CAA58BE3A5',\n",
       "       'lang_259A6F6DFD672CB1F883CBEC01B99F2D',\n",
       "       'lang_6431A618DCF7F4CB7F62A95A39BAB77A',\n",
       "       'lang_3121F7240D488F74EEED9312E174B217',\n",
       "       'lang_54208B51D44E7D91DC2F3DD02ADEDEC2',\n",
       "       'lang_DBEEFB80F8A314311E2B4BD593E11DFE',\n",
       "       'lang_B6D90127A09AB1229731898AEF9D4D7C',\n",
       "       'lang_F3E1016563360F9434FA986CA86C249C',\n",
       "       'lang_2216D01F7B48554E4211021A46816FCF',\n",
       "       'lang_1BC639981AE88E09129594B11F894A21',\n",
       "       'lang_C942E369C88CE7C56E69A84D04319FF0',\n",
       "       'lang_57ADD4576E2AD6648E9B2DE32F3462A5',\n",
       "       'lang_AC1F0671A4B0D5B8112F87DE7B490E6D',\n",
       "       'lang_C2EF5FABE7619D8A333D5F0FF76E1BFA',\n",
       "       'lang_AA0254541959271ED3453119B787D0C3',\n",
       "       'lang_A6B70CDF8C7B934D4A218CA9B6B7FDB4',\n",
       "       'lang_BF477808A37E3E4E9C5D9F1839E8519E',\n",
       "       'lang_97F81BD92A1ACA3F1F43C154E689350F',\n",
       "       'lang_60A3DB168094D41241E45E0DE3539BC0',\n",
       "       'lang_12D8CEB94F89D11D7EB95EAE9689B009',\n",
       "       'lang_F73266A79468BB89C4325FDEDB0B533C',\n",
       "       'lang_4690215948DBF6872B8ED1C2BC87B17E',\n",
       "       'lang_D18801336202297E6484F634CAC6592E',\n",
       "       'lang_2E18F6F53E3CF073911AF0A93BBE5373',\n",
       "       'lang_B2235C8B73239FDC5780DD132419833A',\n",
       "       'lang_515E873C86EE1577E75FA2387B7FA59E', 'retwt', 'reply', 'like',\n",
       "       'retwt_cmmnt'],\n",
       "      dtype='object')"
      ]
     },
     "execution_count": 11,
     "metadata": {},
     "output_type": "execute_result"
    }
   ],
   "source": [
    "df.columns"
   ]
  },
  {
   "cell_type": "code",
   "execution_count": 12,
   "metadata": {},
   "outputs": [],
   "source": [
    "cols_feat=[o for o in df.columns if o not in cols_tgt]"
   ]
  },
  {
   "cell_type": "code",
   "execution_count": 13,
   "metadata": {},
   "outputs": [
    {
     "name": "stdout",
     "output_type": "stream",
     "text": [
      "CPU times: user 2.76 s, sys: 3.48 s, total: 6.24 s\n",
      "Wall time: 6.24 s\n"
     ]
    }
   ],
   "source": [
    "%%time\n",
    "split=int(len(df)*0.85)\n",
    "Xtr,Xvl=df[cols_feat][:split],df[cols_feat][split:]\n",
    "ytr,yvl=df[cols_tgt ][:split],df[cols_tgt ][split:]"
   ]
  },
  {
   "cell_type": "code",
   "execution_count": 14,
   "metadata": {},
   "outputs": [
    {
     "data": {
      "text/plain": [
       "((8500000, 93), (1500000, 93), (8500000, 4), (1500000, 4))"
      ]
     },
     "execution_count": 14,
     "metadata": {},
     "output_type": "execute_result"
    }
   ],
   "source": [
    "Xtr.shape,Xvl.shape,ytr.shape,yvl.shape"
   ]
  },
  {
   "cell_type": "markdown",
   "metadata": {},
   "source": [
    "# model"
   ]
  },
  {
   "cell_type": "code",
   "execution_count": 15,
   "metadata": {},
   "outputs": [],
   "source": [
    "params = {\n",
    "    'objective': 'binary:logistic',\n",
    "    'verbosity': 2,\n",
    "    'eval_metric': ['logloss','error'],\n",
    "#     https://xgboost.readthedocs.io/en/latest/tutorials/param_tuning.html\n",
    "    'max_delta_step': 1,\n",
    "}\n",
    "\n",
    "num_rounds = 10\n"
   ]
  },
  {
   "cell_type": "code",
   "execution_count": 16,
   "metadata": {},
   "outputs": [
    {
     "name": "stdout",
     "output_type": "stream",
     "text": [
      "2020-03-20 03:05:37 Retweet ********************************************************************************\n",
      "[03:07:08] WARNING: /workspace/src/gbm/gbtree.cc:138: Tree method is automatically selected to be 'approx' for faster speed. To use old behavior (exact greedy algorithm on single machine), set tree_method to 'exact'.\n",
      "[03:07:30] INFO: /workspace/src/tree/updater_prune.cc:89: tree pruning end, 96 extra nodes, 0 pruned nodes, max_depth=6\n",
      "[0]\teval-logloss:0.58609\teval-error:0.11054\ttrain-logloss:0.58800\ttrain-error:0.11097\n",
      "Multiple eval metrics have been passed: 'train-error' will be used for early stopping.\n",
      "\n",
      "Will train until train-error hasn't improved in 10 rounds.\n",
      "[03:07:47] INFO: /workspace/src/tree/updater_prune.cc:89: tree pruning end, 126 extra nodes, 0 pruned nodes, max_depth=6\n",
      "[1]\teval-logloss:0.50355\teval-error:0.11018\ttrain-logloss:0.50404\ttrain-error:0.11055\n",
      "[03:08:04] INFO: /workspace/src/tree/updater_prune.cc:89: tree pruning end, 126 extra nodes, 0 pruned nodes, max_depth=6\n",
      "[2]\teval-logloss:0.44129\teval-error:0.11010\ttrain-logloss:0.44046\ttrain-error:0.11045\n",
      "[03:08:22] INFO: /workspace/src/tree/updater_prune.cc:89: tree pruning end, 126 extra nodes, 0 pruned nodes, max_depth=6\n",
      "[3]\teval-logloss:0.39663\teval-error:0.11007\ttrain-logloss:0.39688\ttrain-error:0.11042\n",
      "[03:08:39] INFO: /workspace/src/tree/updater_prune.cc:89: tree pruning end, 126 extra nodes, 0 pruned nodes, max_depth=6\n",
      "[4]\teval-logloss:0.36872\teval-error:0.11004\ttrain-logloss:0.36851\ttrain-error:0.11041\n",
      "[03:08:55] INFO: /workspace/src/tree/updater_prune.cc:89: tree pruning end, 126 extra nodes, 0 pruned nodes, max_depth=6\n",
      "[5]\teval-logloss:0.35034\teval-error:0.10995\ttrain-logloss:0.35049\ttrain-error:0.11031\n",
      "[03:09:13] INFO: /workspace/src/tree/updater_prune.cc:89: tree pruning end, 126 extra nodes, 0 pruned nodes, max_depth=6\n",
      "[6]\teval-logloss:0.33875\teval-error:0.10994\ttrain-logloss:0.33903\ttrain-error:0.11031\n",
      "[03:09:30] INFO: /workspace/src/tree/updater_prune.cc:89: tree pruning end, 126 extra nodes, 0 pruned nodes, max_depth=6\n",
      "[7]\teval-logloss:0.33164\teval-error:0.10986\ttrain-logloss:0.33208\ttrain-error:0.11022\n",
      "[03:09:47] INFO: /workspace/src/tree/updater_prune.cc:89: tree pruning end, 126 extra nodes, 0 pruned nodes, max_depth=6\n",
      "[8]\teval-logloss:0.32674\teval-error:0.10984\ttrain-logloss:0.32713\ttrain-error:0.11017\n",
      "[03:10:04] INFO: /workspace/src/tree/updater_prune.cc:89: tree pruning end, 124 extra nodes, 0 pruned nodes, max_depth=6\n",
      "[9]\teval-logloss:0.32330\teval-error:0.10980\ttrain-logloss:0.32361\ttrain-error:0.11010\n",
      "2020-03-20 03:10:05 Reply ********************************************************************************\n",
      "[03:12:03] WARNING: /workspace/src/gbm/gbtree.cc:138: Tree method is automatically selected to be 'approx' for faster speed. To use old behavior (exact greedy algorithm on single machine), set tree_method to 'exact'.\n",
      "[03:12:27] INFO: /workspace/src/tree/updater_prune.cc:89: tree pruning end, 0 extra nodes, 0 pruned nodes, max_depth=0\n",
      "[0]\teval-logloss:0.56044\teval-error:0.02748\ttrain-logloss:0.56287\ttrain-error:0.02748\n",
      "Multiple eval metrics have been passed: 'train-error' will be used for early stopping.\n",
      "\n",
      "Will train until train-error hasn't improved in 10 rounds.\n",
      "[03:12:38] INFO: /workspace/src/tree/updater_prune.cc:89: tree pruning end, 0 extra nodes, 0 pruned nodes, max_depth=0\n",
      "[1]\teval-logloss:0.45393\teval-error:0.02748\ttrain-logloss:0.45399\ttrain-error:0.02748\n",
      "[03:12:49] INFO: /workspace/src/tree/updater_prune.cc:89: tree pruning end, 0 extra nodes, 0 pruned nodes, max_depth=0\n",
      "[2]\teval-logloss:0.36734\teval-error:0.02748\ttrain-logloss:0.36606\ttrain-error:0.02748\n",
      "[03:13:02] INFO: /workspace/src/tree/updater_prune.cc:89: tree pruning end, 2 extra nodes, 0 pruned nodes, max_depth=1\n",
      "[3]\teval-logloss:0.29734\teval-error:0.02748\ttrain-logloss:0.29650\ttrain-error:0.02748\n",
      "[03:13:27] INFO: /workspace/src/tree/updater_prune.cc:89: tree pruning end, 88 extra nodes, 0 pruned nodes, max_depth=6\n",
      "[4]\teval-logloss:0.24393\teval-error:0.02748\ttrain-logloss:0.24255\ttrain-error:0.02748\n",
      "[03:13:55] INFO: /workspace/src/tree/updater_prune.cc:89: tree pruning end, 92 extra nodes, 0 pruned nodes, max_depth=6\n",
      "[5]\teval-logloss:0.20438\teval-error:0.02748\ttrain-logloss:0.20360\ttrain-error:0.02748\n",
      "[03:14:25] INFO: /workspace/src/tree/updater_prune.cc:89: tree pruning end, 100 extra nodes, 0 pruned nodes, max_depth=6\n",
      "[6]\teval-logloss:0.17568\teval-error:0.02748\ttrain-logloss:0.17491\ttrain-error:0.02748\n",
      "[03:14:55] INFO: /workspace/src/tree/updater_prune.cc:89: tree pruning end, 122 extra nodes, 0 pruned nodes, max_depth=6\n",
      "[7]\teval-logloss:0.15468\teval-error:0.02748\ttrain-logloss:0.15486\ttrain-error:0.02748\n",
      "[03:15:25] INFO: /workspace/src/tree/updater_prune.cc:89: tree pruning end, 124 extra nodes, 0 pruned nodes, max_depth=6\n",
      "[8]\teval-logloss:0.14111\teval-error:0.02748\ttrain-logloss:0.14102\ttrain-error:0.02748\n",
      "[03:15:55] INFO: /workspace/src/tree/updater_prune.cc:89: tree pruning end, 126 extra nodes, 0 pruned nodes, max_depth=6\n",
      "[9]\teval-logloss:0.13156\teval-error:0.02748\ttrain-logloss:0.13157\ttrain-error:0.02748\n",
      "2020-03-20 03:15:56 Like ********************************************************************************\n",
      "[03:18:06] WARNING: /workspace/src/gbm/gbtree.cc:138: Tree method is automatically selected to be 'approx' for faster speed. To use old behavior (exact greedy algorithm on single machine), set tree_method to 'exact'.\n",
      "[03:18:33] INFO: /workspace/src/tree/updater_prune.cc:89: tree pruning end, 126 extra nodes, 0 pruned nodes, max_depth=6\n",
      "[0]\teval-logloss:0.66348\teval-error:0.35013\ttrain-logloss:0.66384\ttrain-error:0.35043\n",
      "Multiple eval metrics have been passed: 'train-error' will be used for early stopping.\n",
      "\n",
      "Will train until train-error hasn't improved in 10 rounds.\n",
      "[03:18:50] INFO: /workspace/src/tree/updater_prune.cc:89: tree pruning end, 126 extra nodes, 0 pruned nodes, max_depth=6\n",
      "[1]\teval-logloss:0.64576\teval-error:0.34841\ttrain-logloss:0.64601\ttrain-error:0.34879\n",
      "[03:19:08] INFO: /workspace/src/tree/updater_prune.cc:89: tree pruning end, 126 extra nodes, 0 pruned nodes, max_depth=6\n",
      "[2]\teval-logloss:0.63493\teval-error:0.34824\ttrain-logloss:0.63528\ttrain-error:0.34862\n",
      "[03:19:25] INFO: /workspace/src/tree/updater_prune.cc:89: tree pruning end, 126 extra nodes, 0 pruned nodes, max_depth=6\n",
      "[3]\teval-logloss:0.62824\teval-error:0.34536\ttrain-logloss:0.62866\ttrain-error:0.34579\n",
      "[03:19:42] INFO: /workspace/src/tree/updater_prune.cc:89: tree pruning end, 126 extra nodes, 0 pruned nodes, max_depth=6\n",
      "[4]\teval-logloss:0.62345\teval-error:0.34289\ttrain-logloss:0.62387\ttrain-error:0.34337\n",
      "[03:20:00] INFO: /workspace/src/tree/updater_prune.cc:89: tree pruning end, 126 extra nodes, 0 pruned nodes, max_depth=6\n",
      "[5]\teval-logloss:0.61992\teval-error:0.34046\ttrain-logloss:0.62035\ttrain-error:0.34086\n",
      "[03:20:17] INFO: /workspace/src/tree/updater_prune.cc:89: tree pruning end, 126 extra nodes, 0 pruned nodes, max_depth=6\n",
      "[6]\teval-logloss:0.61758\teval-error:0.33852\ttrain-logloss:0.61801\ttrain-error:0.33907\n",
      "[03:20:35] INFO: /workspace/src/tree/updater_prune.cc:89: tree pruning end, 126 extra nodes, 0 pruned nodes, max_depth=6\n",
      "[7]\teval-logloss:0.61518\teval-error:0.33585\ttrain-logloss:0.61564\ttrain-error:0.33662\n",
      "[03:20:52] INFO: /workspace/src/tree/updater_prune.cc:89: tree pruning end, 126 extra nodes, 0 pruned nodes, max_depth=6\n",
      "[8]\teval-logloss:0.61360\teval-error:0.33499\ttrain-logloss:0.61408\ttrain-error:0.33560\n",
      "[03:21:09] INFO: /workspace/src/tree/updater_prune.cc:89: tree pruning end, 126 extra nodes, 0 pruned nodes, max_depth=6\n",
      "[9]\teval-logloss:0.61225\teval-error:0.33354\ttrain-logloss:0.61276\ttrain-error:0.33412\n",
      "2020-03-20 03:21:10 RTwCmnt ********************************************************************************\n",
      "[03:22:40] WARNING: /workspace/src/gbm/gbtree.cc:138: Tree method is automatically selected to be 'approx' for faster speed. To use old behavior (exact greedy algorithm on single machine), set tree_method to 'exact'.\n",
      "[03:22:55] INFO: /workspace/src/tree/updater_prune.cc:89: tree pruning end, 0 extra nodes, 0 pruned nodes, max_depth=0\n",
      "[0]\teval-logloss:0.55436\teval-error:0.00776\ttrain-logloss:0.55696\ttrain-error:0.00778\n",
      "Multiple eval metrics have been passed: 'train-error' will be used for early stopping.\n",
      "\n"
     ]
    },
    {
     "name": "stdout",
     "output_type": "stream",
     "text": [
      "Will train until train-error hasn't improved in 10 rounds.\n",
      "[03:23:01] INFO: /workspace/src/tree/updater_prune.cc:89: tree pruning end, 0 extra nodes, 0 pruned nodes, max_depth=0\n",
      "[1]\teval-logloss:0.44214\teval-error:0.00776\ttrain-logloss:0.44217\ttrain-error:0.00778\n",
      "[03:23:07] INFO: /workspace/src/tree/updater_prune.cc:89: tree pruning end, 0 extra nodes, 0 pruned nodes, max_depth=0\n",
      "[2]\teval-logloss:0.34960\teval-error:0.00776\ttrain-logloss:0.34840\ttrain-error:0.00778\n",
      "[03:23:13] INFO: /workspace/src/tree/updater_prune.cc:89: tree pruning end, 0 extra nodes, 0 pruned nodes, max_depth=0\n",
      "[3]\teval-logloss:0.27357\teval-error:0.00776\ttrain-logloss:0.27286\ttrain-error:0.00778\n",
      "[03:23:19] INFO: /workspace/src/tree/updater_prune.cc:89: tree pruning end, 0 extra nodes, 0 pruned nodes, max_depth=0\n",
      "[4]\teval-logloss:0.21420\teval-error:0.00776\ttrain-logloss:0.21289\ttrain-error:0.00778\n",
      "[03:23:25] INFO: /workspace/src/tree/updater_prune.cc:89: tree pruning end, 0 extra nodes, 0 pruned nodes, max_depth=0\n",
      "[5]\teval-logloss:0.16746\teval-error:0.00776\ttrain-logloss:0.16712\ttrain-error:0.00778\n",
      "[03:23:31] INFO: /workspace/src/tree/updater_prune.cc:89: tree pruning end, 0 extra nodes, 0 pruned nodes, max_depth=0\n",
      "[6]\teval-logloss:0.13260\teval-error:0.00776\ttrain-logloss:0.13182\ttrain-error:0.00778\n",
      "[03:23:47] INFO: /workspace/src/tree/updater_prune.cc:89: tree pruning end, 118 extra nodes, 0 pruned nodes, max_depth=6\n",
      "[7]\teval-logloss:0.10499\teval-error:0.00776\ttrain-logloss:0.10567\ttrain-error:0.00778\n",
      "[03:24:05] INFO: /workspace/src/tree/updater_prune.cc:89: tree pruning end, 106 extra nodes, 0 pruned nodes, max_depth=6\n",
      "[8]\teval-logloss:0.08663\teval-error:0.00776\ttrain-logloss:0.08652\ttrain-error:0.00778\n",
      "[03:24:21] INFO: /workspace/src/tree/updater_prune.cc:89: tree pruning end, 124 extra nodes, 0 pruned nodes, max_depth=6\n",
      "[9]\teval-logloss:0.07286\teval-error:0.00776\ttrain-logloss:0.07301\ttrain-error:0.00778\n"
     ]
    }
   ],
   "source": [
    "tgt2bst={}\n",
    "tgt2ytr={}\n",
    "tgt2yvl={}\n",
    "for i,tgt in enumerate(tgts):\n",
    "    print(dtnow(), tgt, '*'*80)\n",
    "    tgt2ytr[tgt]=ytr.iloc[:,i]\n",
    "    tgt2yvl[tgt]=yvl.iloc[:,i]\n",
    "    dtr = xgb.DMatrix(Xtr, label=ytr.iloc[:,i], feature_names=cols_feat)\n",
    "    dvl = xgb.DMatrix(Xvl, label=yvl.iloc[:,i], feature_names=cols_feat)\n",
    "    evallist = [(dtr, 'eval'), (dvl, 'train')]\n",
    "    bst = xgb.train(params=params, dtrain=dtr, num_boost_round=num_rounds, evals=evallist, early_stopping_rounds=10)\n",
    "    tgt2bst[tgt] = bst\n",
    "    \n",
    "pickle.dump(tgt2bst, open(f\"{p_out}/tgt2bst.p\", \"wb\"))"
   ]
  },
  {
   "cell_type": "code",
   "execution_count": null,
   "metadata": {},
   "outputs": [],
   "source": []
  },
  {
   "cell_type": "code",
   "execution_count": 17,
   "metadata": {},
   "outputs": [],
   "source": [
    "def show_feat_importance(bst):\n",
    "    ax = xgb.plot_importance(bst, height=0.8, max_num_features=9)\n",
    "    ax.grid(False, axis=\"y\")\n",
    "    ax.set_title('Estimated feature importance')\n",
    "    plt.show()\n",
    "    feat2importance=bst.get_fscore()\n",
    "    display(pd.DataFrame([feat2importance.keys(), feat2importance.values()]).T.sort_values(1, ascending=False).head(20))"
   ]
  },
  {
   "cell_type": "code",
   "execution_count": 18,
   "metadata": {
    "scrolled": false
   },
   "outputs": [
    {
     "name": "stdout",
     "output_type": "stream",
     "text": [
      "Retweet\n"
     ]
    },
    {
     "data": {
      "image/png": "[encoded data removed]",
      "text/plain": [
       "<Figure size 432x288 with 1 Axes>"
      ]
     },
     "metadata": {
      "needs_background": "light"
     },
     "output_type": "display_data"
    },
    {
     "data": {
      "text/html": [
       "<div>\n",
       "<style scoped>\n",
       "    .dataframe tbody tr th:only-of-type {\n",
       "        vertical-align: middle;\n",
       "    }\n",
       "\n",
       "    .dataframe tbody tr th {\n",
       "        vertical-align: top;\n",
       "    }\n",
       "\n",
       "    .dataframe thead th {\n",
       "        text-align: right;\n",
       "    }\n",
       "</style>\n",
       "<table border=\"1\" class=\"dataframe\">\n",
       "  <thead>\n",
       "    <tr style=\"text-align: right;\">\n",
       "      <th></th>\n",
       "      <th>0</th>\n",
       "      <th>1</th>\n",
       "    </tr>\n",
       "  </thead>\n",
       "  <tbody>\n",
       "    <tr>\n",
       "      <th>2</th>\n",
       "      <td>u1_fllwer_cnt</td>\n",
       "      <td>68</td>\n",
       "    </tr>\n",
       "    <tr>\n",
       "      <th>3</th>\n",
       "      <td>len_toks</td>\n",
       "      <td>67</td>\n",
       "    </tr>\n",
       "    <tr>\n",
       "      <th>9</th>\n",
       "      <td>u2_follower_cnt</td>\n",
       "      <td>54</td>\n",
       "    </tr>\n",
       "    <tr>\n",
       "      <th>1</th>\n",
       "      <td>u2_following_cnt</td>\n",
       "      <td>51</td>\n",
       "    </tr>\n",
       "    <tr>\n",
       "      <th>6</th>\n",
       "      <td>twttyp_Retweet</td>\n",
       "      <td>42</td>\n",
       "    </tr>\n",
       "    <tr>\n",
       "      <th>18</th>\n",
       "      <td>num_hshtgs</td>\n",
       "      <td>35</td>\n",
       "    </tr>\n",
       "    <tr>\n",
       "      <th>15</th>\n",
       "      <td>u1_create_tm</td>\n",
       "      <td>31</td>\n",
       "    </tr>\n",
       "    <tr>\n",
       "      <th>13</th>\n",
       "      <td>u1_fllwing_cnt</td>\n",
       "      <td>29</td>\n",
       "    </tr>\n",
       "    <tr>\n",
       "      <th>17</th>\n",
       "      <td>tmdlta_twtu2</td>\n",
       "      <td>28</td>\n",
       "    </tr>\n",
       "    <tr>\n",
       "      <th>27</th>\n",
       "      <td>u2_create_tm</td>\n",
       "      <td>26</td>\n",
       "    </tr>\n",
       "    <tr>\n",
       "      <th>14</th>\n",
       "      <td>has_media_Video</td>\n",
       "      <td>18</td>\n",
       "    </tr>\n",
       "    <tr>\n",
       "      <th>7</th>\n",
       "      <td>lang_22C448FF81263D4BAF2A176145EE9EAD</td>\n",
       "      <td>18</td>\n",
       "    </tr>\n",
       "    <tr>\n",
       "      <th>25</th>\n",
       "      <td>twttyp_TopLevel</td>\n",
       "      <td>17</td>\n",
       "    </tr>\n",
       "    <tr>\n",
       "      <th>19</th>\n",
       "      <td>num_links</td>\n",
       "      <td>17</td>\n",
       "    </tr>\n",
       "    <tr>\n",
       "      <th>20</th>\n",
       "      <td>lang_125C57F4FA6D4E110983FB11B52EFD4E</td>\n",
       "      <td>16</td>\n",
       "    </tr>\n",
       "    <tr>\n",
       "      <th>24</th>\n",
       "      <td>u1_vrfed</td>\n",
       "      <td>16</td>\n",
       "    </tr>\n",
       "    <tr>\n",
       "      <th>0</th>\n",
       "      <td>lang_022EC308651FACB02794A8147AEE1B78</td>\n",
       "      <td>13</td>\n",
       "    </tr>\n",
       "    <tr>\n",
       "      <th>28</th>\n",
       "      <td>tmdlta_twtu1</td>\n",
       "      <td>12</td>\n",
       "    </tr>\n",
       "    <tr>\n",
       "      <th>23</th>\n",
       "      <td>lang_4DC22C3F31C5C43721E6B5815A595ED6</td>\n",
       "      <td>9</td>\n",
       "    </tr>\n",
       "    <tr>\n",
       "      <th>11</th>\n",
       "      <td>u1_fllw_u2</td>\n",
       "      <td>8</td>\n",
       "    </tr>\n",
       "  </tbody>\n",
       "</table>\n",
       "</div>"
      ],
      "text/plain": [
       "                                        0   1\n",
       "2                           u1_fllwer_cnt  68\n",
       "3                                len_toks  67\n",
       "9                         u2_follower_cnt  54\n",
       "1                        u2_following_cnt  51\n",
       "6                          twttyp_Retweet  42\n",
       "18                             num_hshtgs  35\n",
       "15                           u1_create_tm  31\n",
       "13                         u1_fllwing_cnt  29\n",
       "17                           tmdlta_twtu2  28\n",
       "27                           u2_create_tm  26\n",
       "14                        has_media_Video  18\n",
       "7   lang_22C448FF81263D4BAF2A176145EE9EAD  18\n",
       "25                        twttyp_TopLevel  17\n",
       "19                              num_links  17\n",
       "20  lang_125C57F4FA6D4E110983FB11B52EFD4E  16\n",
       "24                               u1_vrfed  16\n",
       "0   lang_022EC308651FACB02794A8147AEE1B78  13\n",
       "28                           tmdlta_twtu1  12\n",
       "23  lang_4DC22C3F31C5C43721E6B5815A595ED6   9\n",
       "11                             u1_fllw_u2   8"
      ]
     },
     "metadata": {},
     "output_type": "display_data"
    },
    {
     "name": "stdout",
     "output_type": "stream",
     "text": [
      "Reply\n"
     ]
    },
    {
     "data": {
      "image/png": "[encoded data removed]",
      "text/plain": [
       "<Figure size 432x288 with 1 Axes>"
      ]
     },
     "metadata": {
      "needs_background": "light"
     },
     "output_type": "display_data"
    },
    {
     "data": {
      "text/html": [
       "<div>\n",
       "<style scoped>\n",
       "    .dataframe tbody tr th:only-of-type {\n",
       "        vertical-align: middle;\n",
       "    }\n",
       "\n",
       "    .dataframe tbody tr th {\n",
       "        vertical-align: top;\n",
       "    }\n",
       "\n",
       "    .dataframe thead th {\n",
       "        text-align: right;\n",
       "    }\n",
       "</style>\n",
       "<table border=\"1\" class=\"dataframe\">\n",
       "  <thead>\n",
       "    <tr style=\"text-align: right;\">\n",
       "      <th></th>\n",
       "      <th>0</th>\n",
       "      <th>1</th>\n",
       "    </tr>\n",
       "  </thead>\n",
       "  <tbody>\n",
       "    <tr>\n",
       "      <th>9</th>\n",
       "      <td>u1_fllwer_cnt</td>\n",
       "      <td>32</td>\n",
       "    </tr>\n",
       "    <tr>\n",
       "      <th>12</th>\n",
       "      <td>u1_fllwing_cnt</td>\n",
       "      <td>31</td>\n",
       "    </tr>\n",
       "    <tr>\n",
       "      <th>4</th>\n",
       "      <td>u2_following_cnt</td>\n",
       "      <td>24</td>\n",
       "    </tr>\n",
       "    <tr>\n",
       "      <th>0</th>\n",
       "      <td>num_hshtgs</td>\n",
       "      <td>21</td>\n",
       "    </tr>\n",
       "    <tr>\n",
       "      <th>1</th>\n",
       "      <td>tmdlta_twtu2</td>\n",
       "      <td>20</td>\n",
       "    </tr>\n",
       "    <tr>\n",
       "      <th>20</th>\n",
       "      <td>u2_create_tm</td>\n",
       "      <td>19</td>\n",
       "    </tr>\n",
       "    <tr>\n",
       "      <th>8</th>\n",
       "      <td>lang_167115458A0DBDFF7E9C0C53A83BAC9B</td>\n",
       "      <td>18</td>\n",
       "    </tr>\n",
       "    <tr>\n",
       "      <th>6</th>\n",
       "      <td>u2_follower_cnt</td>\n",
       "      <td>17</td>\n",
       "    </tr>\n",
       "    <tr>\n",
       "      <th>18</th>\n",
       "      <td>u1_create_tm</td>\n",
       "      <td>12</td>\n",
       "    </tr>\n",
       "    <tr>\n",
       "      <th>7</th>\n",
       "      <td>lang_9BF3403E0EB7EA8A256DA9019C0B0716</td>\n",
       "      <td>12</td>\n",
       "    </tr>\n",
       "    <tr>\n",
       "      <th>10</th>\n",
       "      <td>lang_4DC22C3F31C5C43721E6B5815A595ED6</td>\n",
       "      <td>12</td>\n",
       "    </tr>\n",
       "    <tr>\n",
       "      <th>19</th>\n",
       "      <td>len_toks</td>\n",
       "      <td>11</td>\n",
       "    </tr>\n",
       "    <tr>\n",
       "      <th>2</th>\n",
       "      <td>twttyp_Retweet</td>\n",
       "      <td>11</td>\n",
       "    </tr>\n",
       "    <tr>\n",
       "      <th>25</th>\n",
       "      <td>lang_22C448FF81263D4BAF2A176145EE9EAD</td>\n",
       "      <td>10</td>\n",
       "    </tr>\n",
       "    <tr>\n",
       "      <th>29</th>\n",
       "      <td>num_links</td>\n",
       "      <td>9</td>\n",
       "    </tr>\n",
       "    <tr>\n",
       "      <th>3</th>\n",
       "      <td>u1_fllw_u2</td>\n",
       "      <td>8</td>\n",
       "    </tr>\n",
       "    <tr>\n",
       "      <th>26</th>\n",
       "      <td>lang_125C57F4FA6D4E110983FB11B52EFD4E</td>\n",
       "      <td>6</td>\n",
       "    </tr>\n",
       "    <tr>\n",
       "      <th>11</th>\n",
       "      <td>lang_022EC308651FACB02794A8147AEE1B78</td>\n",
       "      <td>6</td>\n",
       "    </tr>\n",
       "    <tr>\n",
       "      <th>5</th>\n",
       "      <td>lang_76B8A9C3013AE6414A3E6012413CDC3B</td>\n",
       "      <td>5</td>\n",
       "    </tr>\n",
       "    <tr>\n",
       "      <th>22</th>\n",
       "      <td>twttyp_TopLevel</td>\n",
       "      <td>5</td>\n",
       "    </tr>\n",
       "  </tbody>\n",
       "</table>\n",
       "</div>"
      ],
      "text/plain": [
       "                                        0   1\n",
       "9                           u1_fllwer_cnt  32\n",
       "12                         u1_fllwing_cnt  31\n",
       "4                        u2_following_cnt  24\n",
       "0                              num_hshtgs  21\n",
       "1                            tmdlta_twtu2  20\n",
       "20                           u2_create_tm  19\n",
       "8   lang_167115458A0DBDFF7E9C0C53A83BAC9B  18\n",
       "6                         u2_follower_cnt  17\n",
       "18                           u1_create_tm  12\n",
       "7   lang_9BF3403E0EB7EA8A256DA9019C0B0716  12\n",
       "10  lang_4DC22C3F31C5C43721E6B5815A595ED6  12\n",
       "19                               len_toks  11\n",
       "2                          twttyp_Retweet  11\n",
       "25  lang_22C448FF81263D4BAF2A176145EE9EAD  10\n",
       "29                              num_links   9\n",
       "3                              u1_fllw_u2   8\n",
       "26  lang_125C57F4FA6D4E110983FB11B52EFD4E   6\n",
       "11  lang_022EC308651FACB02794A8147AEE1B78   6\n",
       "5   lang_76B8A9C3013AE6414A3E6012413CDC3B   5\n",
       "22                        twttyp_TopLevel   5"
      ]
     },
     "metadata": {},
     "output_type": "display_data"
    },
    {
     "name": "stdout",
     "output_type": "stream",
     "text": [
      "Like\n"
     ]
    },
    {
     "data": {
      "image/png": "[encoded data removed]",
      "text/plain": [
       "<Figure size 432x288 with 1 Axes>"
      ]
     },
     "metadata": {
      "needs_background": "light"
     },
     "output_type": "display_data"
    },
    {
     "data": {
      "text/html": [
       "<div>\n",
       "<style scoped>\n",
       "    .dataframe tbody tr th:only-of-type {\n",
       "        vertical-align: middle;\n",
       "    }\n",
       "\n",
       "    .dataframe tbody tr th {\n",
       "        vertical-align: top;\n",
       "    }\n",
       "\n",
       "    .dataframe thead th {\n",
       "        text-align: right;\n",
       "    }\n",
       "</style>\n",
       "<table border=\"1\" class=\"dataframe\">\n",
       "  <thead>\n",
       "    <tr style=\"text-align: right;\">\n",
       "      <th></th>\n",
       "      <th>0</th>\n",
       "      <th>1</th>\n",
       "    </tr>\n",
       "  </thead>\n",
       "  <tbody>\n",
       "    <tr>\n",
       "      <th>5</th>\n",
       "      <td>u2_following_cnt</td>\n",
       "      <td>64</td>\n",
       "    </tr>\n",
       "    <tr>\n",
       "      <th>10</th>\n",
       "      <td>tmdlta_twtu2</td>\n",
       "      <td>59</td>\n",
       "    </tr>\n",
       "    <tr>\n",
       "      <th>6</th>\n",
       "      <td>u2_follower_cnt</td>\n",
       "      <td>52</td>\n",
       "    </tr>\n",
       "    <tr>\n",
       "      <th>3</th>\n",
       "      <td>u2_create_tm</td>\n",
       "      <td>47</td>\n",
       "    </tr>\n",
       "    <tr>\n",
       "      <th>2</th>\n",
       "      <td>len_toks</td>\n",
       "      <td>44</td>\n",
       "    </tr>\n",
       "    <tr>\n",
       "      <th>17</th>\n",
       "      <td>u1_fllwer_cnt</td>\n",
       "      <td>38</td>\n",
       "    </tr>\n",
       "    <tr>\n",
       "      <th>21</th>\n",
       "      <td>u1_fllwing_cnt</td>\n",
       "      <td>26</td>\n",
       "    </tr>\n",
       "    <tr>\n",
       "      <th>9</th>\n",
       "      <td>tmdlta_twtu1</td>\n",
       "      <td>24</td>\n",
       "    </tr>\n",
       "    <tr>\n",
       "      <th>11</th>\n",
       "      <td>u1_create_tm</td>\n",
       "      <td>24</td>\n",
       "    </tr>\n",
       "    <tr>\n",
       "      <th>15</th>\n",
       "      <td>tm</td>\n",
       "      <td>23</td>\n",
       "    </tr>\n",
       "    <tr>\n",
       "      <th>25</th>\n",
       "      <td>u1_fllw_u2</td>\n",
       "      <td>20</td>\n",
       "    </tr>\n",
       "    <tr>\n",
       "      <th>19</th>\n",
       "      <td>has_media_Photo</td>\n",
       "      <td>19</td>\n",
       "    </tr>\n",
       "    <tr>\n",
       "      <th>0</th>\n",
       "      <td>twttyp_Retweet</td>\n",
       "      <td>18</td>\n",
       "    </tr>\n",
       "    <tr>\n",
       "      <th>8</th>\n",
       "      <td>lang_022EC308651FACB02794A8147AEE1B78</td>\n",
       "      <td>18</td>\n",
       "    </tr>\n",
       "    <tr>\n",
       "      <th>20</th>\n",
       "      <td>num_hshtgs</td>\n",
       "      <td>15</td>\n",
       "    </tr>\n",
       "    <tr>\n",
       "      <th>1</th>\n",
       "      <td>num_links</td>\n",
       "      <td>15</td>\n",
       "    </tr>\n",
       "    <tr>\n",
       "      <th>16</th>\n",
       "      <td>tm_hour</td>\n",
       "      <td>12</td>\n",
       "    </tr>\n",
       "    <tr>\n",
       "      <th>22</th>\n",
       "      <td>u1_vrfed</td>\n",
       "      <td>11</td>\n",
       "    </tr>\n",
       "    <tr>\n",
       "      <th>28</th>\n",
       "      <td>lang_22C448FF81263D4BAF2A176145EE9EAD</td>\n",
       "      <td>11</td>\n",
       "    </tr>\n",
       "    <tr>\n",
       "      <th>18</th>\n",
       "      <td>lang_D3164C7FBCF2565DDF915B1B3AEFB1DC</td>\n",
       "      <td>11</td>\n",
       "    </tr>\n",
       "  </tbody>\n",
       "</table>\n",
       "</div>"
      ],
      "text/plain": [
       "                                        0   1\n",
       "5                        u2_following_cnt  64\n",
       "10                           tmdlta_twtu2  59\n",
       "6                         u2_follower_cnt  52\n",
       "3                            u2_create_tm  47\n",
       "2                                len_toks  44\n",
       "17                          u1_fllwer_cnt  38\n",
       "21                         u1_fllwing_cnt  26\n",
       "9                            tmdlta_twtu1  24\n",
       "11                           u1_create_tm  24\n",
       "15                                     tm  23\n",
       "25                             u1_fllw_u2  20\n",
       "19                        has_media_Photo  19\n",
       "0                          twttyp_Retweet  18\n",
       "8   lang_022EC308651FACB02794A8147AEE1B78  18\n",
       "20                             num_hshtgs  15\n",
       "1                               num_links  15\n",
       "16                                tm_hour  12\n",
       "22                               u1_vrfed  11\n",
       "28  lang_22C448FF81263D4BAF2A176145EE9EAD  11\n",
       "18  lang_D3164C7FBCF2565DDF915B1B3AEFB1DC  11"
      ]
     },
     "metadata": {},
     "output_type": "display_data"
    },
    {
     "name": "stdout",
     "output_type": "stream",
     "text": [
      "RTwCmnt\n"
     ]
    },
    {
     "data": {
      "image/png": "[encoded data removed]",
      "text/plain": [
       "<Figure size 432x288 with 1 Axes>"
      ]
     },
     "metadata": {
      "needs_background": "light"
     },
     "output_type": "display_data"
    },
    {
     "data": {
      "text/html": [
       "<div>\n",
       "<style scoped>\n",
       "    .dataframe tbody tr th:only-of-type {\n",
       "        vertical-align: middle;\n",
       "    }\n",
       "\n",
       "    .dataframe tbody tr th {\n",
       "        vertical-align: top;\n",
       "    }\n",
       "\n",
       "    .dataframe thead th {\n",
       "        text-align: right;\n",
       "    }\n",
       "</style>\n",
       "<table border=\"1\" class=\"dataframe\">\n",
       "  <thead>\n",
       "    <tr style=\"text-align: right;\">\n",
       "      <th></th>\n",
       "      <th>0</th>\n",
       "      <th>1</th>\n",
       "    </tr>\n",
       "  </thead>\n",
       "  <tbody>\n",
       "    <tr>\n",
       "      <th>0</th>\n",
       "      <td>u2_follower_cnt</td>\n",
       "      <td>21</td>\n",
       "    </tr>\n",
       "    <tr>\n",
       "      <th>18</th>\n",
       "      <td>tmdlta_twtu2</td>\n",
       "      <td>14</td>\n",
       "    </tr>\n",
       "    <tr>\n",
       "      <th>1</th>\n",
       "      <td>u2_create_tm</td>\n",
       "      <td>13</td>\n",
       "    </tr>\n",
       "    <tr>\n",
       "      <th>6</th>\n",
       "      <td>twttyp_TopLevel</td>\n",
       "      <td>11</td>\n",
       "    </tr>\n",
       "    <tr>\n",
       "      <th>10</th>\n",
       "      <td>has_media_Video</td>\n",
       "      <td>10</td>\n",
       "    </tr>\n",
       "    <tr>\n",
       "      <th>4</th>\n",
       "      <td>u2_following_cnt</td>\n",
       "      <td>9</td>\n",
       "    </tr>\n",
       "    <tr>\n",
       "      <th>8</th>\n",
       "      <td>len_toks</td>\n",
       "      <td>9</td>\n",
       "    </tr>\n",
       "    <tr>\n",
       "      <th>21</th>\n",
       "      <td>u1_fllw_u2</td>\n",
       "      <td>8</td>\n",
       "    </tr>\n",
       "    <tr>\n",
       "      <th>5</th>\n",
       "      <td>lang_22C448FF81263D4BAF2A176145EE9EAD</td>\n",
       "      <td>8</td>\n",
       "    </tr>\n",
       "    <tr>\n",
       "      <th>13</th>\n",
       "      <td>tmdlta_u2u1</td>\n",
       "      <td>6</td>\n",
       "    </tr>\n",
       "    <tr>\n",
       "      <th>24</th>\n",
       "      <td>num_links</td>\n",
       "      <td>6</td>\n",
       "    </tr>\n",
       "    <tr>\n",
       "      <th>17</th>\n",
       "      <td>u1_create_tm</td>\n",
       "      <td>6</td>\n",
       "    </tr>\n",
       "    <tr>\n",
       "      <th>16</th>\n",
       "      <td>u1_fllwer_cnt</td>\n",
       "      <td>6</td>\n",
       "    </tr>\n",
       "    <tr>\n",
       "      <th>11</th>\n",
       "      <td>u1_fllwing_cnt</td>\n",
       "      <td>6</td>\n",
       "    </tr>\n",
       "    <tr>\n",
       "      <th>2</th>\n",
       "      <td>lang_2996EB2FE8162C076D070A4C8D6532CD</td>\n",
       "      <td>5</td>\n",
       "    </tr>\n",
       "    <tr>\n",
       "      <th>26</th>\n",
       "      <td>twttyp_Retweet</td>\n",
       "      <td>5</td>\n",
       "    </tr>\n",
       "    <tr>\n",
       "      <th>27</th>\n",
       "      <td>lang_4DC22C3F31C5C43721E6B5815A595ED6</td>\n",
       "      <td>5</td>\n",
       "    </tr>\n",
       "    <tr>\n",
       "      <th>15</th>\n",
       "      <td>lang_ECED8A16BE2A5E8871FD55F4842F16B1</td>\n",
       "      <td>3</td>\n",
       "    </tr>\n",
       "    <tr>\n",
       "      <th>25</th>\n",
       "      <td>u2_vrfed</td>\n",
       "      <td>3</td>\n",
       "    </tr>\n",
       "    <tr>\n",
       "      <th>9</th>\n",
       "      <td>lang_975B38F44D65EE42A547283787FF5A21</td>\n",
       "      <td>2</td>\n",
       "    </tr>\n",
       "  </tbody>\n",
       "</table>\n",
       "</div>"
      ],
      "text/plain": [
       "                                        0   1\n",
       "0                         u2_follower_cnt  21\n",
       "18                           tmdlta_twtu2  14\n",
       "1                            u2_create_tm  13\n",
       "6                         twttyp_TopLevel  11\n",
       "10                        has_media_Video  10\n",
       "4                        u2_following_cnt   9\n",
       "8                                len_toks   9\n",
       "21                             u1_fllw_u2   8\n",
       "5   lang_22C448FF81263D4BAF2A176145EE9EAD   8\n",
       "13                            tmdlta_u2u1   6\n",
       "24                              num_links   6\n",
       "17                           u1_create_tm   6\n",
       "16                          u1_fllwer_cnt   6\n",
       "11                         u1_fllwing_cnt   6\n",
       "2   lang_2996EB2FE8162C076D070A4C8D6532CD   5\n",
       "26                         twttyp_Retweet   5\n",
       "27  lang_4DC22C3F31C5C43721E6B5815A595ED6   5\n",
       "15  lang_ECED8A16BE2A5E8871FD55F4842F16B1   3\n",
       "25                               u2_vrfed   3\n",
       "9   lang_975B38F44D65EE42A547283787FF5A21   2"
      ]
     },
     "metadata": {},
     "output_type": "display_data"
    }
   ],
   "source": [
    "for tgt,bst in tgt2bst.items():\n",
    "    print(tgt)\n",
    "    show_feat_importance(bst)"
   ]
  },
  {
   "cell_type": "code",
   "execution_count": null,
   "metadata": {},
   "outputs": [],
   "source": []
  },
  {
   "cell_type": "code",
   "execution_count": 19,
   "metadata": {},
   "outputs": [
    {
     "name": "stdout",
     "output_type": "stream",
     "text": [
      "2020-03-20 03:24:23 Retweet\n",
      "2020-03-20 03:24:24 Reply\n",
      "2020-03-20 03:24:25 Like\n",
      "2020-03-20 03:24:26 RTwCmnt\n"
     ]
    }
   ],
   "source": [
    "tgt2prdtr={}\n",
    "tgt2prdvl={}\n",
    "for tgt in tgts:\n",
    "    print(dtnow(), tgt)\n",
    "    bst = tgt2bst[tgt]\n",
    "    tgt2prdtr[tgt] = bst.predict(dtr)\n",
    "    tgt2prdvl[tgt] = bst.predict(dvl)\n",
    "    "
   ]
  },
  {
   "cell_type": "code",
   "execution_count": 20,
   "metadata": {},
   "outputs": [
    {
     "name": "stdout",
     "output_type": "stream",
     "text": [
      "Retweet\n",
      "train rocauc: 0.7173 valid auc: 0.7183\n",
      "train prauc: 0.2915 valid auc: 0.2919\n",
      "train rce: 8.3861 valid rce: 8.4161\n",
      "Reply\n",
      "train rocauc: 0.7552 valid auc: 0.7536\n",
      "train prauc: 0.0907 valid auc: 0.0880\n",
      "train rce: -4.4410 valid rce: -4.5395\n",
      "Like\n",
      "train rocauc: 0.7177 valid auc: 0.7171\n",
      "train prauc: 0.6562 valid auc: 0.6557\n",
      "train rce: 10.7123 valid rce: 10.6677\n",
      "RTwCmnt\n",
      "train rocauc: 0.6793 valid auc: 0.6791\n",
      "train prauc: 0.0177 valid auc: 0.0168\n",
      "train rce: -60.4923 valid rce: -60.2630\n"
     ]
    }
   ],
   "source": [
    "tgt2auc_trn={}\n",
    "tgt2rce_trn={}\n",
    "tgt2auc_val={}\n",
    "tgt2rce_val={}\n",
    "for itgt, tgt in enumerate(tgts):\n",
    "    print(tgt)\n",
    "    prdtr_i, prdvl_i = tgt2prdtr[tgt], tgt2prdvl[tgt]\n",
    "    ytr_i, yvl_i = tgt2ytr[tgt], tgt2yvl[tgt]\n",
    "    scr_rocauc_trn = roc_auc_score(ytr_i, prdtr_i)\n",
    "    scr_rocauc_val = roc_auc_score(yvl_i, prdvl_i)\n",
    "    scr_auc_trn=compute_prauc(prdtr_i, ytr_i)\n",
    "    scr_rce_trn=compute_rce(prdtr_i, ytr_i)\n",
    "    scr_auc_val=compute_prauc(prdvl_i, yvl_i)\n",
    "    scr_rce_val=compute_rce(prdvl_i, yvl_i)\n",
    "\n",
    "    tgt2auc_trn[tgt]=scr_auc_trn\n",
    "    tgt2rce_trn[tgt]=scr_rce_trn\n",
    "    tgt2auc_val[tgt]=scr_auc_val\n",
    "    tgt2rce_val[tgt]=scr_rce_val\n",
    "    \n",
    "    print('train rocauc:', f'{scr_rocauc_trn:.4f}', 'valid auc:', f'{scr_rocauc_val:.4f}', )\n",
    "    print('train prauc:', f'{scr_auc_trn:.4f}', 'valid auc:', f'{scr_auc_val:.4f}', )\n",
    "    print('train rce:', f'{scr_rce_trn:.4f}', 'valid rce:', f'{scr_rce_val:.4f}', )"
   ]
  },
  {
   "cell_type": "code",
   "execution_count": 21,
   "metadata": {},
   "outputs": [
    {
     "data": {
      "text/html": [
       "<div>\n",
       "<style scoped>\n",
       "    .dataframe tbody tr th:only-of-type {\n",
       "        vertical-align: middle;\n",
       "    }\n",
       "\n",
       "    .dataframe tbody tr th {\n",
       "        vertical-align: top;\n",
       "    }\n",
       "\n",
       "    .dataframe thead th {\n",
       "        text-align: right;\n",
       "    }\n",
       "</style>\n",
       "<table border=\"1\" class=\"dataframe\">\n",
       "  <thead>\n",
       "    <tr style=\"text-align: right;\">\n",
       "      <th></th>\n",
       "      <th>0</th>\n",
       "      <th>1</th>\n",
       "      <th>2</th>\n",
       "      <th>3</th>\n",
       "      <th>4</th>\n",
       "      <th>5</th>\n",
       "      <th>6</th>\n",
       "      <th>7</th>\n",
       "    </tr>\n",
       "  </thead>\n",
       "  <tbody>\n",
       "    <tr>\n",
       "      <th>metric</th>\n",
       "      <td>PRAUC Retweet</td>\n",
       "      <td>RCE Retweet</td>\n",
       "      <td>PRAUC Reply</td>\n",
       "      <td>RCE Reply</td>\n",
       "      <td>PRAUC Like</td>\n",
       "      <td>RCE Like</td>\n",
       "      <td>PRAUC RTwCmnt</td>\n",
       "      <td>RCE RTwCmnt</td>\n",
       "    </tr>\n",
       "    <tr>\n",
       "      <th>scrtrn</th>\n",
       "      <td>0.291465</td>\n",
       "      <td>8.38615</td>\n",
       "      <td>0.0906786</td>\n",
       "      <td>-4.44095</td>\n",
       "      <td>0.656217</td>\n",
       "      <td>10.7123</td>\n",
       "      <td>0.0177472</td>\n",
       "      <td>-60.4923</td>\n",
       "    </tr>\n",
       "    <tr>\n",
       "      <th>scrval</th>\n",
       "      <td>0.291944</td>\n",
       "      <td>8.41614</td>\n",
       "      <td>0.0879958</td>\n",
       "      <td>-4.53946</td>\n",
       "      <td>0.655673</td>\n",
       "      <td>10.6677</td>\n",
       "      <td>0.0168338</td>\n",
       "      <td>-60.263</td>\n",
       "    </tr>\n",
       "  </tbody>\n",
       "</table>\n",
       "</div>"
      ],
      "text/plain": [
       "                    0            1            2          3           4  \\\n",
       "metric  PRAUC Retweet  RCE Retweet  PRAUC Reply  RCE Reply  PRAUC Like   \n",
       "scrtrn       0.291465      8.38615    0.0906786   -4.44095    0.656217   \n",
       "scrval       0.291944      8.41614    0.0879958   -4.53946    0.655673   \n",
       "\n",
       "               5              6            7  \n",
       "metric  RCE Like  PRAUC RTwCmnt  RCE RTwCmnt  \n",
       "scrtrn   10.7123      0.0177472     -60.4923  \n",
       "scrval   10.6677      0.0168338      -60.263  "
      ]
     },
     "execution_count": 21,
     "metadata": {},
     "output_type": "execute_result"
    }
   ],
   "source": [
    "lsttrn=[]\n",
    "lstval=[]\n",
    "for tgt in ['Retweet','Reply','Like','RTwCmnt',]:\n",
    "    lsttrn+=[(f'PRAUC {tgt}',tgt2auc_trn[tgt]),\n",
    "          (f'RCE {tgt}',tgt2rce_trn[tgt])]\n",
    "    lstval+=[(f'PRAUC {tgt}',tgt2auc_val[tgt]),\n",
    "          (f'RCE {tgt}',tgt2rce_val[tgt])]\n",
    "\n",
    "dfscrtrn=pd.DataFrame(lsttrn)\n",
    "dfscrtrn.columns=['metric','scr']\n",
    "dfscrval=pd.DataFrame(lstval)\n",
    "dfscrval.columns=['metric','scr']\n",
    "dfscr = pd.merge(dfscrtrn, dfscrval, on='metric', suffixes=('trn','val'))\n",
    "dfscr.T"
   ]
  },
  {
   "cell_type": "markdown",
   "metadata": {},
   "source": [
    "# infer"
   ]
  },
  {
   "cell_type": "raw",
   "metadata": {},
   "source": [
    "ls -lhS $p_in | grep val"
   ]
  },
  {
   "cell_type": "code",
   "execution_count": 22,
   "metadata": {},
   "outputs": [
    {
     "name": "stdout",
     "output_type": "stream",
     "text": [
      "The history saving thread hit an unexpected error (OperationalError('database is locked')).History will not be written to the database.\n",
      "CPU times: user 1min 54s, sys: 10.2 s, total: 2min 4s\n",
      "Wall time: 2min 10s\n"
     ]
    }
   ],
   "source": [
    "%%time\n",
    "dftst=pd.read_csv(\n",
    "    f'{p_in}/val_{valtmstmp}.tsv',\n",
    "#     f'{p_in}/val_259A6F6DFD672CB1F883CBEC01B99F2D_1584405047.tsv',\n",
    "    sep='\\x01', header=None, names=cols_val,)\n"
   ]
  },
  {
   "cell_type": "code",
   "execution_count": 23,
   "metadata": {
    "scrolled": false
   },
   "outputs": [
    {
     "name": "stdout",
     "output_type": "stream",
     "text": [
      "CPU times: user 1min 57s, sys: 13.3 s, total: 2min 11s\n",
      "Wall time: 2min 19s\n"
     ]
    }
   ],
   "source": [
    "%%time\n",
    "dftst = prp_df(dftst, istrn=False)"
   ]
  },
  {
   "cell_type": "code",
   "execution_count": 24,
   "metadata": {},
   "outputs": [
    {
     "name": "stdout",
     "output_type": "stream",
     "text": [
      "2020-03-20 03:33:36 Retweet\n",
      "2020-03-20 03:33:37 Reply\n",
      "2020-03-20 03:33:38 Like\n",
      "2020-03-20 03:33:39 RTwCmnt\n",
      "CPU times: user 2min 48s, sys: 45.9 s, total: 3min 34s\n",
      "Wall time: 3min 42s\n"
     ]
    }
   ],
   "source": [
    "%%time\n",
    "dtst = xgb.DMatrix(dftst[cols_feat], feature_names=cols_feat)\n",
    "tgt2prdtst={}\n",
    "for tgt in tgts:\n",
    "    print(dtnow(), tgt)\n",
    "    bst = tgt2bst[tgt]\n",
    "    tgt2prdtst[tgt] = bst.predict(dtst)"
   ]
  },
  {
   "cell_type": "code",
   "execution_count": 25,
   "metadata": {},
   "outputs": [],
   "source": [
    "dfsub_ids = dftst[['twtid','u2id',]]\n",
    "\n",
    "tgt2dfsub = {}\n",
    "for tgt,prdtst in tgt2prdtst.items():\n",
    "    dfsub = dfsub_ids.copy()\n",
    "    dfsub['scr'] = prdtst\n",
    "    tgt2dfsub[tgt]=dfsub"
   ]
  },
  {
   "cell_type": "code",
   "execution_count": 26,
   "metadata": {},
   "outputs": [
    {
     "name": "stdout",
     "output_type": "stream",
     "text": [
      "2020-03-20 03:33:42 Retweet\n",
      "2020-03-20 03:34:41 Reply\n",
      "2020-03-20 03:35:38 Like\n",
      "2020-03-20 03:36:36 RTwCmnt\n",
      "CPU times: user 3min 39s, sys: 6.94 s, total: 3min 46s\n",
      "Wall time: 3min 52s\n"
     ]
    }
   ],
   "source": [
    "%%time\n",
    "for tgt, dfsub in tgt2dfsub.items():\n",
    "    print(dtnow(), tgt)\n",
    "    dfsub.to_csv(f'{p_out}/{tgt}__{valtmstmp}__{PRFX}.csv',index=False,header=False)"
   ]
  },
  {
   "cell_type": "code",
   "execution_count": null,
   "metadata": {},
   "outputs": [],
   "source": []
  }
 ],
 "metadata": {
  "kernelspec": {
   "display_name": "rcss20",
   "language": "python",
   "name": "rcss20"
  },
  "language_info": {
   "codemirror_mode": {
    "name": "ipython",
    "version": 3
   },
   "file_extension": ".py",
   "mimetype": "text/x-python",
   "name": "python",
   "nbconvert_exporter": "python",
   "pygments_lexer": "ipython3",
   "version": "3.7.6"
  },
  "toc": {
   "base_numbering": 1,
   "nav_menu": {},
   "number_sections": true,
   "sideBar": true,
   "skip_h1_title": false,
   "title_cell": "Table of Contents",
   "title_sidebar": "Contents",
   "toc_cell": false,
   "toc_position": {},
   "toc_section_display": true,
   "toc_window_display": true
  }
 },
 "nbformat": 4,
 "nbformat_minor": 4
}
