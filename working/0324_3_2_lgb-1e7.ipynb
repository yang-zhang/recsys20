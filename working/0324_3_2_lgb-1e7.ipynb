{
 "cells": [
  {
   "cell_type": "markdown",
   "metadata": {},
   "source": [
    "- https://medium.com/optuna/lightgbm-tuner-new-optuna-integration-for-hyperparameter-optimization-8b7095e99258\n",
    "- https://github.com/optuna/optuna/blob/master/examples/lightgbm_tuner_simple.py"
   ]
  },
  {
   "cell_type": "markdown",
   "metadata": {},
   "source": [
    "# start"
   ]
  },
  {
   "cell_type": "code",
   "execution_count": 1,
   "metadata": {},
   "outputs": [
    {
     "name": "stdout",
     "output_type": "stream",
     "text": [
      "['2020-03-17 02:32:24', '2020-03-24 17:09:45']\n",
      "['2020-02-06 00:00:00', '2020-02-13 00:00:00']\n"
     ]
    }
   ],
   "source": [
    "PRFX='0324_3_2'\n",
    "trntmstmp=1584412344\n",
    "valtmstmp=1585069785\n",
    "import datetime\n",
    "print([datetime.datetime.fromtimestamp(o).strftime('%Y-%m-%d %H:%M:%S') for o in (trntmstmp, valtmstmp)])\n",
    "\n",
    "grand_total=1.5e8\n",
    "MIN_TM_TRN=1580947200\n",
    "MIN_TM_TST=1581552000\n",
    "print([datetime.datetime.fromtimestamp(o).strftime('%Y-%m-%d %H:%M:%S') for o in (MIN_TM_TRN, MIN_TM_TST)])\n",
    "\n",
    "\n",
    "CHNKSZ=1e7\n",
    "POST_RATE_WANTED=0.1"
   ]
  },
  {
   "cell_type": "markdown",
   "metadata": {},
   "source": [
    "# setup"
   ]
  },
  {
   "cell_type": "code",
   "execution_count": 2,
   "metadata": {
    "scrolled": true
   },
   "outputs": [
    {
     "data": {
      "text/plain": [
       "{'Retweet': 'retwt',\n",
       " 'Reply': 'reply',\n",
       " 'Like': 'like',\n",
       " 'RTwCmnt': 'retwt_cmmnt'}"
      ]
     },
     "execution_count": 2,
     "metadata": {},
     "output_type": "execute_result"
    }
   ],
   "source": [
    "from pathlib import Path\n",
    "import xgboost as xgb\n",
    "import lightgbm as lgb\n",
    "from sklearn.model_selection import train_test_split\n",
    "import pandas as pd\n",
    "import numpy as np\n",
    "import matplotlib.pyplot as plt\n",
    "from sklearn.metrics import accuracy_score, roc_auc_score, roc_curve, auc, precision_recall_curve\n",
    "import pickle\n",
    "from tqdm import tqdm\n",
    "from collections import Counter\n",
    "pd.set_option('display.max_rows', 500)\n",
    "\n",
    "from functools import reduce\n",
    "import datetime\n",
    "def dtnow(): return datetime.datetime.now().strftime('%Y-%m-%d %H:%M:%S')\n",
    "\n",
    "SEED=101\n",
    "HOME='/data/git/recsys20'\n",
    "p_in=f'{HOME}/input'\n",
    "p_out=f'{HOME}/output/{PRFX}'\n",
    "Path(p_out).mkdir(exist_ok=True, parents=True)\n",
    "\n",
    "from sklearn.metrics import precision_recall_curve, auc, log_loss\n",
    "\n",
    "def compute_prauc(pred, gt):\n",
    "    prec, recall, thresh = precision_recall_curve(gt, pred)\n",
    "    prauc = auc(recall, prec)\n",
    "    return prauc\n",
    "\n",
    "def calculate_ctr(gt):\n",
    "    positive = len([x for x in gt if x == 1])\n",
    "    ctr = positive/float(len(gt))\n",
    "    return ctr\n",
    "\n",
    "def compute_rce(pred, gt):\n",
    "    cross_entropy = log_loss(gt, pred)\n",
    "    data_ctr = calculate_ctr(gt)\n",
    "    strawman_cross_entropy = log_loss(gt, [data_ctr for _ in range(len(gt))])\n",
    "    return (1.0 - cross_entropy/strawman_cross_entropy)*100.0\n",
    "\n",
    "# https://towardsdatascience.com/how-to-calibrate-undersampled-model-scores-8f3319c1ea5b\n",
    "# How to use the function?\n",
    "# Let’s say your goal is to generate a model that shows the credit default probabilities and your original \n",
    "# training data has 50,000 rows with only 500 of them labeled as target class. When you sample your non-target \n",
    "# instances randomly and reduce the total row count to 10,000, while conserving 500 target rows, our calibration\n",
    "# function becomes:\n",
    "# calibration(model_results, 50000, 500, 10000, 500)\n",
    "# Here model_results is your model probability output array. After you train your model and put the results in it, your function is ready to use. \n",
    "\n",
    "def calibration(data, train_pop, target_pop, sampled_train_pop, sampled_target_pop):\n",
    "    calibrated_data = \\\n",
    "    ((data * (target_pop / train_pop) / (sampled_target_pop / sampled_train_pop)) /\n",
    "    ((\n",
    "        (1 - data) * (1 - target_pop / train_pop) / (1 - sampled_target_pop / sampled_train_pop)\n",
    "     ) +\n",
    "     (\n",
    "        data * (target_pop / train_pop) / (sampled_target_pop / sampled_train_pop)\n",
    "     )))\n",
    "\n",
    "    return calibrated_data\n",
    "\n",
    "cols=[\n",
    "'toks',\n",
    "'hshtgs',\n",
    "'twtid',\n",
    "'media',\n",
    "'links',\n",
    "'domns',\n",
    "'twttyp',\n",
    "'lang',\n",
    "'tm',\n",
    "\n",
    "'u1id',\n",
    "'u1_fllwer_cnt',\n",
    "'u1_fllwng_cnt',\n",
    "'u1_vrfed',\n",
    "'u1_create_tm',\n",
    "\n",
    "'u2id',\n",
    "'u2_fllwer_cnt',\n",
    "'u2_fllwng_cnt',\n",
    "'u2_vrfed',\n",
    "'u2_create_tm',\n",
    "\n",
    "'u1_fllw_u2',\n",
    "'reply_tm',\n",
    "'retwt_tm',\n",
    "'retwt_cmmnt_tm',\n",
    "'like_tm',\n",
    "]\n",
    "cols_cat = ['twttyp','lang']\n",
    "cols_val = cols[:-4]\n",
    "cols_tgt_tmstmp=[\n",
    "    'retwt_tm',\n",
    "    'reply_tm',\n",
    "    'like_tm',\n",
    "    'retwt_cmmnt_tm',\n",
    "]\n",
    "cols_tgt=[o.split('_tm')[0] for o in cols_tgt_tmstmp]\n",
    "tgts             = ['Retweet','Reply','Like','RTwCmnt',]\n",
    "assert cols_tgt == ['retwt',  'reply','like','retwt_cmmnt',]\n",
    "ntgts=len(tgts)\n",
    "\n",
    "\n",
    "tgt2col=dict(zip(tgts,cols_tgt))\n",
    "tgt2col"
   ]
  },
  {
   "cell_type": "markdown",
   "metadata": {},
   "source": [
    "# prepare data"
   ]
  },
  {
   "cell_type": "markdown",
   "metadata": {},
   "source": [
    "## prep func"
   ]
  },
  {
   "cell_type": "code",
   "execution_count": 3,
   "metadata": {},
   "outputs": [],
   "source": [
    "# chnks_trn = pd.read_csv(f'{p_in}/trn_{trntmstmp}.tsv',sep='\\x01',\n",
    "#                     header=None,names=cols, \n",
    "#                         chunksize=CHNKSZ)\n",
    "# # first chunk as validate data\n",
    "# for ichnk,df in enumerate(chnks_trn):\n",
    "#     df\n",
    "#     break\n",
    "\n",
    "# istrn=True\n",
    "# tm_min = MIN_TM_TRN if istrn else MIN_TM_TST\n",
    "# df['len_toks'] = df.toks.apply(len)\n",
    "# for media in ['Photo', 'Video', 'GIF']:\n",
    "#     df[f'has_media_{media}'] = df.media.fillna('').apply(lambda x: media in x)\n",
    "# for col in ['hshtgs', 'links', 'domns',]:\n",
    "#     df[f'num_{col}'] = df[col].fillna('').apply(lambda x: len(x.split('\\t')) if len(x) else 0)\n",
    "\n",
    "# df['twt_age'] = df.tm - tm_min\n",
    "# df['u1_age']  = df.tm - df.u1_create_tm\n",
    "# df['u2_age']  = df.tm - df.u2_create_tm\n",
    "\n",
    "# tm_dt=pd.to_datetime(df.tm, unit='s')\n",
    "# df['tm_dayofweek']=tm_dt.dt.dayofweek\n",
    "# df['tm_hour']=tm_dt.dt.hour\n",
    "\n",
    "# df['tmdlta_u2u1']  = df.u2_create_tm - df.u1_create_tm\n",
    "\n",
    "# df['u1_fllwer_cnt_by_age'] = df.u1_fllwer_cnt / df.u1_age\n",
    "# df['u1_fllwng_cnt_by_age'] = df.u2_fllwng_cnt / df.u2_age\n",
    "\n",
    "# for col in ['twttyp','lang']:\n",
    "#     df[col]=df[col].astype('category')\n",
    "\n",
    "# if istrn: \n",
    "#     df[cols_tgt]=df[cols_tgt_tmstmp].notna().astype('int8')\n",
    "#     df.drop(inplace=True, columns=['toks', 'hshtgs', 'media', 'links', 'domns',  \n",
    "#                                    'tm', 'u1_create_tm','u2_create_tm', 'u1id', 'u2id', 'twtid', ]+cols_tgt_tmstmp, )\n",
    "# else:\n",
    "#     df.drop(inplace=True, columns=['toks', 'hshtgs', 'media', 'links', 'domns', \n",
    "#                                    'tm', 'u1_create_tm','u2_create_tm', 'u1id', ])   \n",
    "\n",
    "# df.dtypes"
   ]
  },
  {
   "cell_type": "code",
   "execution_count": 4,
   "metadata": {},
   "outputs": [],
   "source": [
    "def prp_df(df, istrn=True):\n",
    "    tm_min = MIN_TM_TRN if istrn else MIN_TM_TST\n",
    "    df['len_toks'] = df.toks.apply(len)\n",
    "    for media in ['Photo', 'Video', 'GIF']:\n",
    "        df[f'has_media_{media}'] = df.media.fillna('').apply(lambda x: media in x)\n",
    "    for col in ['hshtgs', 'links', 'domns',]:\n",
    "        df[f'num_{col}'] = df[col].fillna('').apply(lambda x: len(x.split('\\t')) if len(x) else 0)\n",
    "\n",
    "    df['twt_age'] = df.tm - tm_min\n",
    "    df['u1_age']  = df.tm - df.u1_create_tm\n",
    "    df['u2_age']  = df.tm - df.u2_create_tm\n",
    "\n",
    "    tm_dt=pd.to_datetime(df.tm, unit='s')\n",
    "    df['tm_dayofweek']=tm_dt.dt.dayofweek\n",
    "    df['tm_hour']=tm_dt.dt.hour\n",
    "\n",
    "    df['tmdlta_u2u1']  = df.u2_create_tm - df.u1_create_tm\n",
    "\n",
    "    df['u1_fllwer_cnt_by_age'] = df.u1_fllwer_cnt / df.u1_age\n",
    "    df['u1_fllwng_cnt_by_age'] = df.u2_fllwng_cnt / df.u2_age\n",
    "\n",
    "    for col in cols_cat:\n",
    "        df[col]=df[col].astype('category')\n",
    "\n",
    "    if istrn: \n",
    "        df[cols_tgt]=df[cols_tgt_tmstmp].notna().astype('int8')\n",
    "        df.drop(inplace=True, columns=['toks', 'hshtgs', 'media', 'links', 'domns',  \n",
    "                                       'tm', 'u1_create_tm','u2_create_tm', 'u1id', 'u2id', 'twtid', ]+cols_tgt_tmstmp, )\n",
    "    else:\n",
    "        df.drop(inplace=True, columns=['toks', 'hshtgs', 'media', 'links', 'domns', \n",
    "                                       'tm', 'u1_create_tm','u2_create_tm', 'u1id', ])   \n",
    "    return df"
   ]
  },
  {
   "cell_type": "code",
   "execution_count": 5,
   "metadata": {
    "scrolled": false
   },
   "outputs": [
    {
     "data": {
      "text/plain": [
       "(150000000.0, 15.0)"
      ]
     },
     "execution_count": 5,
     "metadata": {},
     "output_type": "execute_result"
    }
   ],
   "source": [
    "grand_total, grand_total/CHNKSZ"
   ]
  },
  {
   "cell_type": "markdown",
   "metadata": {},
   "source": [
    "## valid data"
   ]
  },
  {
   "cell_type": "code",
   "execution_count": 6,
   "metadata": {},
   "outputs": [
    {
     "name": "stdout",
     "output_type": "stream",
     "text": [
      "2020-03-25 01:14:50 chunk 0\n",
      "dfvalid.shape: (10000000, 28)\n"
     ]
    },
    {
     "data": {
      "text/plain": [
       "twttyp                  category\n",
       "lang                    category\n",
       "u1_fllwer_cnt              int64\n",
       "u1_fllwng_cnt              int64\n",
       "u1_vrfed                    bool\n",
       "u2_fllwer_cnt              int64\n",
       "u2_fllwng_cnt              int64\n",
       "u2_vrfed                    bool\n",
       "u1_fllw_u2                  bool\n",
       "len_toks                   int64\n",
       "has_media_Photo             bool\n",
       "has_media_Video             bool\n",
       "has_media_GIF               bool\n",
       "num_hshtgs                 int64\n",
       "num_links                  int64\n",
       "num_domns                  int64\n",
       "twt_age                    int64\n",
       "u1_age                     int64\n",
       "u2_age                     int64\n",
       "tm_dayofweek               int64\n",
       "tm_hour                    int64\n",
       "tmdlta_u2u1                int64\n",
       "u1_fllwer_cnt_by_age     float64\n",
       "u1_fllwng_cnt_by_age     float64\n",
       "dtype: object"
      ]
     },
     "metadata": {},
     "output_type": "display_data"
    }
   ],
   "source": [
    "chnks_trn = pd.read_csv(f'{p_in}/trn_{trntmstmp}.tsv',sep='\\x01',\n",
    "                    header=None,names=cols, \n",
    "                        chunksize=CHNKSZ)\n",
    "# first chunk as validate data\n",
    "for ichnk,df in enumerate(chnks_trn):\n",
    "    print(dtnow(), 'chunk', ichnk)\n",
    "#     print([datetime.datetime.fromtimestamp(o).strftime('%Y-%m-%d %H:%M:%S') \n",
    "#            for o in (df.tm.min(), df.tm.max())])\n",
    "    dfvalid = prp_df(df)\n",
    "    break\n",
    "print('dfvalid.shape:',dfvalid.shape)\n",
    "\n",
    "cols_feat=[o for o in dfvalid.columns if o not in cols_tgt]\n",
    "\n",
    "display(dfvalid[cols_feat].dtypes)"
   ]
  },
  {
   "cell_type": "markdown",
   "metadata": {},
   "source": [
    "## trnval data func"
   ]
  },
  {
   "cell_type": "code",
   "execution_count": 7,
   "metadata": {},
   "outputs": [],
   "source": [
    "def getdftrvl(tgt):\n",
    "    print(tgt)\n",
    "    tgtcol=tgt2col[tgt]\n",
    "    chnks_trn = pd.read_csv(f'{p_in}/trn_{trntmstmp}.tsv',sep='\\x01',\n",
    "                        header=None,names=cols, \n",
    "                            chunksize=CHNKSZ)\n",
    "    len_df_wanted = int(CHNKSZ)\n",
    "    # retwt          0.113031\n",
    "    # reply          0.027488\n",
    "    # like           0.439499\n",
    "    # retwt_cmmnt    0.007742\n",
    "    pos_rate_wanted = POST_RATE_WANTED\n",
    "    n_pos_wanted = int(len_df_wanted*pos_rate_wanted)\n",
    "    print('n_pos_wanted', n_pos_wanted)\n",
    "    np.random.seed(SEED)\n",
    "    lst_df = []\n",
    "    n_pos_ttl = 0\n",
    "    for ichnk,df in enumerate(chnks_trn):\n",
    "        #skip first chunk (it was validate data)\n",
    "        if ichnk==0: continue\n",
    "        print(dtnow(), 'chunk', ichnk)\n",
    "        df = prp_df(df)\n",
    "        n_pos_ttl+= df[tgtcol].sum()\n",
    "        lst_df.append(df)\n",
    "        if n_pos_ttl>=n_pos_wanted: break\n",
    "\n",
    "    df = pd.concat(lst_df)\n",
    "    df.reset_index(drop=True,inplace=True)\n",
    "\n",
    "\n",
    "    # https://stackoverflow.com/questions/28556942/pandas-remove-rows-at-random-without-shuffling-dataset\n",
    "    idx_neg=np.where(df[tgtcol]==0)[0]\n",
    "    n_neg = len(idx_neg)\n",
    "    n_pos = len(df)-len(idx_neg)\n",
    "    n_neg2keep = len_df_wanted-n_pos\n",
    "    n_neg2rmv = n_neg-n_neg2keep\n",
    "    idx_neg2rmv = np.random.choice(idx_neg, n_neg2rmv, replace=False)\n",
    "    dftrvl = df.drop(idx_neg2rmv)\n",
    "    dftrvl = dftrvl.sample(len(dftrvl))\n",
    "    for col in cols_cat:\n",
    "        dftrvl[col]=dftrvl[col].astype('category')\n",
    "    \n",
    "#     display(dftrvl.dtypes)\n",
    "    print('dftrvl.shape:',dftrvl.shape,'dftrvl[tgtcol].mean():',dftrvl[tgtcol].mean())\n",
    "    \n",
    "    pops={\n",
    "        'train_pop':len(df),\n",
    "        'target_pop':n_pos,\n",
    "        'sampled_train_pop':len_df_wanted,\n",
    "        'sampled_target_pop':n_pos,\n",
    "    }\n",
    "    print(pops)\n",
    "    return dftrvl, pops"
   ]
  },
  {
   "cell_type": "markdown",
   "metadata": {},
   "source": [
    "# model"
   ]
  },
  {
   "cell_type": "code",
   "execution_count": 10,
   "metadata": {},
   "outputs": [],
   "source": [
    "def train(params,dtr,dvl):\n",
    "    print(params)\n",
    "    evals_result = {}\n",
    "    evallist = [(dtr, 'train'), (dvl, 'eval')]\n",
    "    bst = lgb.train(params=params, \n",
    "                    train_set=dtr, \n",
    "                    num_boost_round=10000,\n",
    "                    valid_sets=[dtr, dvl],\n",
    "                    verbose_eval=100,\n",
    "                    early_stopping_rounds=100,\n",
    "                    evals_result=evals_result,\n",
    "                   )\n",
    "    return bst,evals_result\n",
    "\n",
    "def valid(bst,dftr,dfvl):\n",
    "    prdtr = bst.predict(dftr[cols_feat],num_iteration=bst.best_iteration)\n",
    "    prdvl = bst.predict(dfvl[cols_feat],num_iteration=bst.best_iteration)\n",
    "    return prdtr,prdvl\n",
    "\n",
    "def do_tgt(tgt):\n",
    "    params=tgt2params[tgt]\n",
    "    tgtcol=tgt2col[tgt]\n",
    "    dftrvl, pops=getdftrvl(tgt)\n",
    "    split=int(len(dftrvl)*0.85)\n",
    "    dftr,dfvl=dftrvl[:split],dftrvl[split:]\n",
    "    dtr = lgb.Dataset(dftr[cols_feat], label=dftr[tgtcol])\n",
    "    dvl = lgb.Dataset(dfvl[cols_feat], label=dfvl[tgtcol])\n",
    "    bst,evlres=train(params,dtr,dvl)\n",
    "    prdtr,prdvl=valid(bst,dftr,dfvl)\n",
    "    \n",
    "    tgt2bst[tgt]=bst\n",
    "    tgt2evlres[tgt]=evlres\n",
    "    tgt2ytr[tgt]=dftr[tgtcol]\n",
    "    tgt2yvl[tgt]=dfvl[tgtcol]\n",
    "    tgt2pops[tgt]=pops\n",
    "    tgt2prdtr[tgt]=prdtr\n",
    "    tgt2prdvl[tgt]=prdvl\n"
   ]
  },
  {
   "cell_type": "code",
   "execution_count": 11,
   "metadata": {},
   "outputs": [
    {
     "name": "stdout",
     "output_type": "stream",
     "text": [
      "2020-03-25 01:53:19 Retweet ********************************************************************************\n",
      "Retweet\n",
      "n_pos_wanted 1000000\n",
      "2020-03-25 01:56:52 chunk 1\n",
      "dftrvl.shape: (10000000, 28) dftrvl[tgtcol].mean(): 0.1129292\n",
      "{'train_pop': 10000000, 'target_pop': 1129292, 'sampled_train_pop': 10000000, 'sampled_target_pop': 1129292}\n",
      "{'objective': 'binary', 'metric': 'binary_logloss', 'verbosity': 0, 'boosting_type': 'gbdt'}\n",
      "Training until validation scores don't improve for 100 rounds\n",
      "[100]\ttraining's binary_logloss: 0.309108\tvalid_1's binary_logloss: 0.309489\n",
      "[200]\ttraining's binary_logloss: 0.30676\tvalid_1's binary_logloss: 0.307427\n",
      "[300]\ttraining's binary_logloss: 0.30545\tvalid_1's binary_logloss: 0.306417\n",
      "[400]\ttraining's binary_logloss: 0.304441\tvalid_1's binary_logloss: 0.30571\n",
      "[500]\ttraining's binary_logloss: 0.303537\tvalid_1's binary_logloss: 0.305106\n",
      "[600]\ttraining's binary_logloss: 0.302745\tvalid_1's binary_logloss: 0.3046\n",
      "[700]\ttraining's binary_logloss: 0.302107\tvalid_1's binary_logloss: 0.30426\n",
      "[800]\ttraining's binary_logloss: 0.301543\tvalid_1's binary_logloss: 0.30398\n",
      "[900]\ttraining's binary_logloss: 0.300938\tvalid_1's binary_logloss: 0.303649\n",
      "[1000]\ttraining's binary_logloss: 0.300327\tvalid_1's binary_logloss: 0.303316\n",
      "[1100]\ttraining's binary_logloss: 0.299819\tvalid_1's binary_logloss: 0.303098\n",
      "[1200]\ttraining's binary_logloss: 0.299358\tvalid_1's binary_logloss: 0.302931\n",
      "[1300]\ttraining's binary_logloss: 0.298895\tvalid_1's binary_logloss: 0.30275\n",
      "[1400]\ttraining's binary_logloss: 0.298474\tvalid_1's binary_logloss: 0.302613\n",
      "[1500]\ttraining's binary_logloss: 0.298102\tvalid_1's binary_logloss: 0.302524\n",
      "[1600]\ttraining's binary_logloss: 0.297707\tvalid_1's binary_logloss: 0.302421\n",
      "[1700]\ttraining's binary_logloss: 0.297273\tvalid_1's binary_logloss: 0.302272\n",
      "[1800]\ttraining's binary_logloss: 0.296867\tvalid_1's binary_logloss: 0.302136\n",
      "[1900]\ttraining's binary_logloss: 0.296534\tvalid_1's binary_logloss: 0.302076\n",
      "[2000]\ttraining's binary_logloss: 0.296157\tvalid_1's binary_logloss: 0.301982\n",
      "[2100]\ttraining's binary_logloss: 0.295783\tvalid_1's binary_logloss: 0.301899\n",
      "[2200]\ttraining's binary_logloss: 0.295448\tvalid_1's binary_logloss: 0.30184\n",
      "[2300]\ttraining's binary_logloss: 0.295107\tvalid_1's binary_logloss: 0.301766\n",
      "[2400]\ttraining's binary_logloss: 0.294763\tvalid_1's binary_logloss: 0.301694\n",
      "[2500]\ttraining's binary_logloss: 0.294404\tvalid_1's binary_logloss: 0.301624\n",
      "[2600]\ttraining's binary_logloss: 0.294065\tvalid_1's binary_logloss: 0.301572\n",
      "[2700]\ttraining's binary_logloss: 0.293758\tvalid_1's binary_logloss: 0.301539\n",
      "[2800]\ttraining's binary_logloss: 0.293436\tvalid_1's binary_logloss: 0.301488\n",
      "[2900]\ttraining's binary_logloss: 0.293141\tvalid_1's binary_logloss: 0.301452\n",
      "[3000]\ttraining's binary_logloss: 0.292834\tvalid_1's binary_logloss: 0.301418\n",
      "[3100]\ttraining's binary_logloss: 0.292534\tvalid_1's binary_logloss: 0.301379\n",
      "[3200]\ttraining's binary_logloss: 0.292231\tvalid_1's binary_logloss: 0.301339\n",
      "[3300]\ttraining's binary_logloss: 0.291926\tvalid_1's binary_logloss: 0.301305\n",
      "[3400]\ttraining's binary_logloss: 0.291612\tvalid_1's binary_logloss: 0.301249\n",
      "[3500]\ttraining's binary_logloss: 0.291312\tvalid_1's binary_logloss: 0.301217\n",
      "[3600]\ttraining's binary_logloss: 0.291012\tvalid_1's binary_logloss: 0.301185\n",
      "[3700]\ttraining's binary_logloss: 0.290729\tvalid_1's binary_logloss: 0.301156\n",
      "[3800]\ttraining's binary_logloss: 0.290422\tvalid_1's binary_logloss: 0.301126\n",
      "[3900]\ttraining's binary_logloss: 0.29011\tvalid_1's binary_logloss: 0.301085\n",
      "[4000]\ttraining's binary_logloss: 0.289815\tvalid_1's binary_logloss: 0.301045\n",
      "[4100]\ttraining's binary_logloss: 0.289525\tvalid_1's binary_logloss: 0.30101\n",
      "[4200]\ttraining's binary_logloss: 0.289221\tvalid_1's binary_logloss: 0.300973\n",
      "[4300]\ttraining's binary_logloss: 0.288944\tvalid_1's binary_logloss: 0.300947\n",
      "[4400]\ttraining's binary_logloss: 0.288668\tvalid_1's binary_logloss: 0.300905\n",
      "[4500]\ttraining's binary_logloss: 0.288393\tvalid_1's binary_logloss: 0.300886\n",
      "[4600]\ttraining's binary_logloss: 0.288097\tvalid_1's binary_logloss: 0.300846\n",
      "[4700]\ttraining's binary_logloss: 0.287829\tvalid_1's binary_logloss: 0.300834\n",
      "[4800]\ttraining's binary_logloss: 0.28756\tvalid_1's binary_logloss: 0.300809\n",
      "[4900]\ttraining's binary_logloss: 0.287304\tvalid_1's binary_logloss: 0.300798\n",
      "[5000]\ttraining's binary_logloss: 0.287015\tvalid_1's binary_logloss: 0.300761\n",
      "[5100]\ttraining's binary_logloss: 0.286747\tvalid_1's binary_logloss: 0.300726\n",
      "[5200]\ttraining's binary_logloss: 0.286475\tvalid_1's binary_logloss: 0.300706\n",
      "[5300]\ttraining's binary_logloss: 0.286204\tvalid_1's binary_logloss: 0.300683\n",
      "[5400]\ttraining's binary_logloss: 0.285945\tvalid_1's binary_logloss: 0.300663\n",
      "[5500]\ttraining's binary_logloss: 0.285687\tvalid_1's binary_logloss: 0.30065\n",
      "[5600]\ttraining's binary_logloss: 0.285423\tvalid_1's binary_logloss: 0.300624\n",
      "[5700]\ttraining's binary_logloss: 0.285158\tvalid_1's binary_logloss: 0.300609\n",
      "[5800]\ttraining's binary_logloss: 0.28489\tvalid_1's binary_logloss: 0.300597\n",
      "[5900]\ttraining's binary_logloss: 0.284617\tvalid_1's binary_logloss: 0.300579\n",
      "[6000]\ttraining's binary_logloss: 0.284347\tvalid_1's binary_logloss: 0.300556\n",
      "[6100]\ttraining's binary_logloss: 0.284095\tvalid_1's binary_logloss: 0.300544\n",
      "[6200]\ttraining's binary_logloss: 0.283844\tvalid_1's binary_logloss: 0.300529\n",
      "[6300]\ttraining's binary_logloss: 0.283602\tvalid_1's binary_logloss: 0.300518\n",
      "[6400]\ttraining's binary_logloss: 0.28334\tvalid_1's binary_logloss: 0.3005\n",
      "[6500]\ttraining's binary_logloss: 0.283083\tvalid_1's binary_logloss: 0.300484\n",
      "[6600]\ttraining's binary_logloss: 0.28283\tvalid_1's binary_logloss: 0.300459\n",
      "[6700]\ttraining's binary_logloss: 0.282558\tvalid_1's binary_logloss: 0.30043\n",
      "[6800]\ttraining's binary_logloss: 0.2823\tvalid_1's binary_logloss: 0.300403\n",
      "[6900]\ttraining's binary_logloss: 0.282054\tvalid_1's binary_logloss: 0.300389\n",
      "[7000]\ttraining's binary_logloss: 0.281814\tvalid_1's binary_logloss: 0.300373\n",
      "[7100]\ttraining's binary_logloss: 0.281575\tvalid_1's binary_logloss: 0.300357\n",
      "[7200]\ttraining's binary_logloss: 0.28132\tvalid_1's binary_logloss: 0.300337\n",
      "[7300]\ttraining's binary_logloss: 0.28107\tvalid_1's binary_logloss: 0.300328\n",
      "[7400]\ttraining's binary_logloss: 0.280835\tvalid_1's binary_logloss: 0.300304\n",
      "[7500]\ttraining's binary_logloss: 0.280599\tvalid_1's binary_logloss: 0.300299\n",
      "[7600]\ttraining's binary_logloss: 0.280349\tvalid_1's binary_logloss: 0.300282\n",
      "Early stopping, best iteration is:\n",
      "[7574]\ttraining's binary_logloss: 0.280406\tvalid_1's binary_logloss: 0.30028\n",
      "2020-03-25 03:08:38 Reply ********************************************************************************\n",
      "Reply\n",
      "n_pos_wanted 1000000\n",
      "2020-03-25 03:12:52 chunk 1\n",
      "2020-03-25 03:16:18 chunk 2\n",
      "2020-03-25 03:19:26 chunk 3\n",
      "2020-03-25 03:21:30 chunk 4\n",
      "dftrvl.shape: (10000000, 28) dftrvl[tgtcol].mean(): 0.1097816\n",
      "{'train_pop': 40000000, 'target_pop': 1097816, 'sampled_train_pop': 10000000, 'sampled_target_pop': 1097816}\n",
      "{'objective': 'binary', 'metric': 'binary_logloss', 'verbosity': 0, 'boosting_type': 'gbdt'}\n",
      "Training until validation scores don't improve for 100 rounds\n",
      "[100]\ttraining's binary_logloss: 0.293483\tvalid_1's binary_logloss: 0.293718\n",
      "[200]\ttraining's binary_logloss: 0.2919\tvalid_1's binary_logloss: 0.292372\n",
      "[300]\ttraining's binary_logloss: 0.290929\tvalid_1's binary_logloss: 0.291677\n",
      "[400]\ttraining's binary_logloss: 0.290069\tvalid_1's binary_logloss: 0.29109\n",
      "[500]\ttraining's binary_logloss: 0.289414\tvalid_1's binary_logloss: 0.290717\n",
      "[600]\ttraining's binary_logloss: 0.288823\tvalid_1's binary_logloss: 0.290406\n",
      "[700]\ttraining's binary_logloss: 0.288213\tvalid_1's binary_logloss: 0.290072\n",
      "[800]\ttraining's binary_logloss: 0.28765\tvalid_1's binary_logloss: 0.289792\n",
      "[900]\ttraining's binary_logloss: 0.287138\tvalid_1's binary_logloss: 0.289549\n",
      "[1000]\ttraining's binary_logloss: 0.286687\tvalid_1's binary_logloss: 0.289372\n",
      "[1100]\ttraining's binary_logloss: 0.286245\tvalid_1's binary_logloss: 0.289203\n",
      "[1200]\ttraining's binary_logloss: 0.285844\tvalid_1's binary_logloss: 0.289095\n",
      "[1300]\ttraining's binary_logloss: 0.28545\tvalid_1's binary_logloss: 0.288989\n",
      "[1400]\ttraining's binary_logloss: 0.285057\tvalid_1's binary_logloss: 0.28887\n",
      "[1500]\ttraining's binary_logloss: 0.284677\tvalid_1's binary_logloss: 0.288763\n"
     ]
    },
    {
     "name": "stdout",
     "output_type": "stream",
     "text": [
      "[1600]\ttraining's binary_logloss: 0.284308\tvalid_1's binary_logloss: 0.288672\n",
      "[1700]\ttraining's binary_logloss: 0.283925\tvalid_1's binary_logloss: 0.288558\n",
      "[1800]\ttraining's binary_logloss: 0.28356\tvalid_1's binary_logloss: 0.288475\n",
      "[1900]\ttraining's binary_logloss: 0.283232\tvalid_1's binary_logloss: 0.288432\n",
      "[2000]\ttraining's binary_logloss: 0.282891\tvalid_1's binary_logloss: 0.288374\n",
      "[2100]\ttraining's binary_logloss: 0.282565\tvalid_1's binary_logloss: 0.288309\n",
      "[2200]\ttraining's binary_logloss: 0.282228\tvalid_1's binary_logloss: 0.288243\n",
      "[2300]\ttraining's binary_logloss: 0.281876\tvalid_1's binary_logloss: 0.288155\n",
      "[2400]\ttraining's binary_logloss: 0.281566\tvalid_1's binary_logloss: 0.288101\n",
      "[2500]\ttraining's binary_logloss: 0.281255\tvalid_1's binary_logloss: 0.288049\n",
      "[2600]\ttraining's binary_logloss: 0.280947\tvalid_1's binary_logloss: 0.288012\n",
      "[2700]\ttraining's binary_logloss: 0.280644\tvalid_1's binary_logloss: 0.287978\n",
      "[2800]\ttraining's binary_logloss: 0.280342\tvalid_1's binary_logloss: 0.287946\n",
      "[2900]\ttraining's binary_logloss: 0.280051\tvalid_1's binary_logloss: 0.287919\n",
      "[3000]\ttraining's binary_logloss: 0.279772\tvalid_1's binary_logloss: 0.287892\n",
      "[3100]\ttraining's binary_logloss: 0.279486\tvalid_1's binary_logloss: 0.287866\n",
      "[3200]\ttraining's binary_logloss: 0.279192\tvalid_1's binary_logloss: 0.287835\n",
      "[3300]\ttraining's binary_logloss: 0.278902\tvalid_1's binary_logloss: 0.287806\n",
      "[3400]\ttraining's binary_logloss: 0.278614\tvalid_1's binary_logloss: 0.287777\n",
      "[3500]\ttraining's binary_logloss: 0.278322\tvalid_1's binary_logloss: 0.287757\n",
      "[3600]\ttraining's binary_logloss: 0.278046\tvalid_1's binary_logloss: 0.287726\n",
      "[3700]\ttraining's binary_logloss: 0.277766\tvalid_1's binary_logloss: 0.287701\n",
      "[3800]\ttraining's binary_logloss: 0.277494\tvalid_1's binary_logloss: 0.287677\n",
      "[3900]\ttraining's binary_logloss: 0.277227\tvalid_1's binary_logloss: 0.287669\n",
      "[4000]\ttraining's binary_logloss: 0.276946\tvalid_1's binary_logloss: 0.287636\n",
      "[4100]\ttraining's binary_logloss: 0.276665\tvalid_1's binary_logloss: 0.287612\n",
      "[4200]\ttraining's binary_logloss: 0.276396\tvalid_1's binary_logloss: 0.287588\n",
      "[4300]\ttraining's binary_logloss: 0.276122\tvalid_1's binary_logloss: 0.287567\n",
      "[4400]\ttraining's binary_logloss: 0.275855\tvalid_1's binary_logloss: 0.287553\n",
      "[4500]\ttraining's binary_logloss: 0.2756\tvalid_1's binary_logloss: 0.28753\n",
      "[4600]\ttraining's binary_logloss: 0.275334\tvalid_1's binary_logloss: 0.287521\n",
      "[4700]\ttraining's binary_logloss: 0.275075\tvalid_1's binary_logloss: 0.287504\n",
      "[4800]\ttraining's binary_logloss: 0.27482\tvalid_1's binary_logloss: 0.287498\n",
      "[4900]\ttraining's binary_logloss: 0.274567\tvalid_1's binary_logloss: 0.287483\n",
      "[5000]\ttraining's binary_logloss: 0.274306\tvalid_1's binary_logloss: 0.287468\n",
      "[5100]\ttraining's binary_logloss: 0.274022\tvalid_1's binary_logloss: 0.287439\n",
      "[5200]\ttraining's binary_logloss: 0.273751\tvalid_1's binary_logloss: 0.287408\n",
      "[5300]\ttraining's binary_logloss: 0.273497\tvalid_1's binary_logloss: 0.287403\n",
      "[5400]\ttraining's binary_logloss: 0.273255\tvalid_1's binary_logloss: 0.287396\n",
      "[5500]\ttraining's binary_logloss: 0.273017\tvalid_1's binary_logloss: 0.287397\n",
      "[5600]\ttraining's binary_logloss: 0.272763\tvalid_1's binary_logloss: 0.28738\n",
      "[5700]\ttraining's binary_logloss: 0.272512\tvalid_1's binary_logloss: 0.287372\n",
      "[5800]\ttraining's binary_logloss: 0.272264\tvalid_1's binary_logloss: 0.287352\n",
      "[5900]\ttraining's binary_logloss: 0.272014\tvalid_1's binary_logloss: 0.287345\n",
      "[6000]\ttraining's binary_logloss: 0.271748\tvalid_1's binary_logloss: 0.287316\n",
      "[6100]\ttraining's binary_logloss: 0.271485\tvalid_1's binary_logloss: 0.287299\n",
      "[6200]\ttraining's binary_logloss: 0.271244\tvalid_1's binary_logloss: 0.287294\n",
      "[6300]\ttraining's binary_logloss: 0.27098\tvalid_1's binary_logloss: 0.287281\n",
      "[6400]\ttraining's binary_logloss: 0.270715\tvalid_1's binary_logloss: 0.287249\n",
      "[6500]\ttraining's binary_logloss: 0.270471\tvalid_1's binary_logloss: 0.287239\n",
      "[6600]\ttraining's binary_logloss: 0.270237\tvalid_1's binary_logloss: 0.287233\n",
      "Early stopping, best iteration is:\n",
      "[6571]\ttraining's binary_logloss: 0.270301\tvalid_1's binary_logloss: 0.287229\n",
      "2020-03-25 04:11:28 Like ********************************************************************************\n",
      "Like\n",
      "n_pos_wanted 1000000\n",
      "2020-03-25 04:14:08 chunk 1\n",
      "dftrvl.shape: (10000000, 28) dftrvl[tgtcol].mean(): 0.438925\n",
      "{'train_pop': 10000000, 'target_pop': 4389250, 'sampled_train_pop': 10000000, 'sampled_target_pop': 4389250}\n",
      "{'objective': 'binary', 'metric': 'binary_logloss', 'verbosity': 0, 'boosting_type': 'gbdt'}\n",
      "Training until validation scores don't improve for 100 rounds\n",
      "[100]\ttraining's binary_logloss: 0.596475\tvalid_1's binary_logloss: 0.597059\n",
      "[200]\ttraining's binary_logloss: 0.591625\tvalid_1's binary_logloss: 0.592468\n",
      "[300]\ttraining's binary_logloss: 0.588604\tvalid_1's binary_logloss: 0.589673\n",
      "[400]\ttraining's binary_logloss: 0.586594\tvalid_1's binary_logloss: 0.587881\n",
      "[500]\ttraining's binary_logloss: 0.584825\tvalid_1's binary_logloss: 0.5863\n",
      "[600]\ttraining's binary_logloss: 0.583379\tvalid_1's binary_logloss: 0.585078\n",
      "[700]\ttraining's binary_logloss: 0.582025\tvalid_1's binary_logloss: 0.583933\n",
      "[800]\ttraining's binary_logloss: 0.580876\tvalid_1's binary_logloss: 0.582999\n",
      "[900]\ttraining's binary_logloss: 0.579707\tvalid_1's binary_logloss: 0.582039\n",
      "[1000]\ttraining's binary_logloss: 0.578668\tvalid_1's binary_logloss: 0.581192\n",
      "[1100]\ttraining's binary_logloss: 0.577661\tvalid_1's binary_logloss: 0.580389\n",
      "[1200]\ttraining's binary_logloss: 0.576758\tvalid_1's binary_logloss: 0.579681\n",
      "[1300]\ttraining's binary_logloss: 0.575986\tvalid_1's binary_logloss: 0.579124\n",
      "[1400]\ttraining's binary_logloss: 0.575147\tvalid_1's binary_logloss: 0.578494\n",
      "[1500]\ttraining's binary_logloss: 0.57441\tvalid_1's binary_logloss: 0.57797\n",
      "[1600]\ttraining's binary_logloss: 0.57382\tvalid_1's binary_logloss: 0.57762\n",
      "[1700]\ttraining's binary_logloss: 0.573222\tvalid_1's binary_logloss: 0.577256\n",
      "[1800]\ttraining's binary_logloss: 0.572491\tvalid_1's binary_logloss: 0.576742\n",
      "[1900]\ttraining's binary_logloss: 0.571846\tvalid_1's binary_logloss: 0.576321\n",
      "[2000]\ttraining's binary_logloss: 0.571275\tvalid_1's binary_logloss: 0.575968\n",
      "[2100]\ttraining's binary_logloss: 0.570703\tvalid_1's binary_logloss: 0.575641\n",
      "[2200]\ttraining's binary_logloss: 0.570117\tvalid_1's binary_logloss: 0.575271\n",
      "[2300]\ttraining's binary_logloss: 0.569566\tvalid_1's binary_logloss: 0.574929\n",
      "[2400]\ttraining's binary_logloss: 0.56905\tvalid_1's binary_logloss: 0.574627\n",
      "[2500]\ttraining's binary_logloss: 0.568571\tvalid_1's binary_logloss: 0.574387\n",
      "[2600]\ttraining's binary_logloss: 0.568077\tvalid_1's binary_logloss: 0.57412\n",
      "[2700]\ttraining's binary_logloss: 0.567598\tvalid_1's binary_logloss: 0.573871\n",
      "[2800]\ttraining's binary_logloss: 0.567151\tvalid_1's binary_logloss: 0.573667\n",
      "[2900]\ttraining's binary_logloss: 0.566665\tvalid_1's binary_logloss: 0.5734\n",
      "[3000]\ttraining's binary_logloss: 0.566217\tvalid_1's binary_logloss: 0.573186\n",
      "[3100]\ttraining's binary_logloss: 0.565782\tvalid_1's binary_logloss: 0.572982\n",
      "[3200]\ttraining's binary_logloss: 0.565335\tvalid_1's binary_logloss: 0.572753\n",
      "[3300]\ttraining's binary_logloss: 0.564891\tvalid_1's binary_logloss: 0.572525\n",
      "[3400]\ttraining's binary_logloss: 0.564491\tvalid_1's binary_logloss: 0.572349\n",
      "[3500]\ttraining's binary_logloss: 0.564092\tvalid_1's binary_logloss: 0.572176\n",
      "[3600]\ttraining's binary_logloss: 0.563649\tvalid_1's binary_logloss: 0.571951\n",
      "[3700]\ttraining's binary_logloss: 0.56323\tvalid_1's binary_logloss: 0.571732\n",
      "[3800]\ttraining's binary_logloss: 0.562721\tvalid_1's binary_logloss: 0.571409\n",
      "[3900]\ttraining's binary_logloss: 0.562333\tvalid_1's binary_logloss: 0.571239\n",
      "[4000]\ttraining's binary_logloss: 0.561986\tvalid_1's binary_logloss: 0.571119\n",
      "[4100]\ttraining's binary_logloss: 0.561609\tvalid_1's binary_logloss: 0.570959\n",
      "[4200]\ttraining's binary_logloss: 0.561237\tvalid_1's binary_logloss: 0.5708\n",
      "[4300]\ttraining's binary_logloss: 0.560856\tvalid_1's binary_logloss: 0.570634\n",
      "[4400]\ttraining's binary_logloss: 0.560507\tvalid_1's binary_logloss: 0.570516\n",
      "[4500]\ttraining's binary_logloss: 0.560164\tvalid_1's binary_logloss: 0.570405\n",
      "[4600]\ttraining's binary_logloss: 0.55978\tvalid_1's binary_logloss: 0.570241\n",
      "[4700]\ttraining's binary_logloss: 0.559419\tvalid_1's binary_logloss: 0.570097\n"
     ]
    },
    {
     "name": "stdout",
     "output_type": "stream",
     "text": [
      "[4800]\ttraining's binary_logloss: 0.55911\tvalid_1's binary_logloss: 0.570021\n",
      "[4900]\ttraining's binary_logloss: 0.558755\tvalid_1's binary_logloss: 0.569877\n",
      "[5000]\ttraining's binary_logloss: 0.558344\tvalid_1's binary_logloss: 0.569664\n",
      "[5100]\ttraining's binary_logloss: 0.55794\tvalid_1's binary_logloss: 0.569454\n",
      "[5200]\ttraining's binary_logloss: 0.557583\tvalid_1's binary_logloss: 0.569317\n",
      "[5300]\ttraining's binary_logloss: 0.557279\tvalid_1's binary_logloss: 0.569247\n",
      "[5400]\ttraining's binary_logloss: 0.556941\tvalid_1's binary_logloss: 0.569122\n",
      "[5500]\ttraining's binary_logloss: 0.556599\tvalid_1's binary_logloss: 0.568976\n",
      "[5600]\ttraining's binary_logloss: 0.556264\tvalid_1's binary_logloss: 0.568843\n",
      "[5700]\ttraining's binary_logloss: 0.555907\tvalid_1's binary_logloss: 0.568698\n",
      "[5800]\ttraining's binary_logloss: 0.555586\tvalid_1's binary_logloss: 0.568609\n",
      "[5900]\ttraining's binary_logloss: 0.555255\tvalid_1's binary_logloss: 0.568497\n",
      "[6000]\ttraining's binary_logloss: 0.554927\tvalid_1's binary_logloss: 0.568379\n",
      "[6100]\ttraining's binary_logloss: 0.554639\tvalid_1's binary_logloss: 0.568306\n",
      "[6200]\ttraining's binary_logloss: 0.554259\tvalid_1's binary_logloss: 0.568109\n",
      "[6300]\ttraining's binary_logloss: 0.55392\tvalid_1's binary_logloss: 0.567969\n",
      "[6400]\ttraining's binary_logloss: 0.553626\tvalid_1's binary_logloss: 0.567898\n",
      "[6500]\ttraining's binary_logloss: 0.553265\tvalid_1's binary_logloss: 0.567742\n",
      "[6600]\ttraining's binary_logloss: 0.552921\tvalid_1's binary_logloss: 0.567597\n",
      "[6700]\ttraining's binary_logloss: 0.552606\tvalid_1's binary_logloss: 0.567491\n",
      "[6800]\ttraining's binary_logloss: 0.552321\tvalid_1's binary_logloss: 0.567409\n",
      "[6900]\ttraining's binary_logloss: 0.552033\tvalid_1's binary_logloss: 0.567322\n",
      "[7000]\ttraining's binary_logloss: 0.551767\tvalid_1's binary_logloss: 0.567272\n",
      "[7100]\ttraining's binary_logloss: 0.551479\tvalid_1's binary_logloss: 0.567184\n",
      "[7200]\ttraining's binary_logloss: 0.551211\tvalid_1's binary_logloss: 0.567133\n",
      "[7300]\ttraining's binary_logloss: 0.550938\tvalid_1's binary_logloss: 0.56706\n",
      "[7400]\ttraining's binary_logloss: 0.550655\tvalid_1's binary_logloss: 0.566988\n",
      "[7500]\ttraining's binary_logloss: 0.550353\tvalid_1's binary_logloss: 0.566896\n",
      "[7600]\ttraining's binary_logloss: 0.550067\tvalid_1's binary_logloss: 0.566816\n",
      "[7700]\ttraining's binary_logloss: 0.549755\tvalid_1's binary_logloss: 0.566712\n",
      "[7800]\ttraining's binary_logloss: 0.549455\tvalid_1's binary_logloss: 0.566626\n",
      "[7900]\ttraining's binary_logloss: 0.549133\tvalid_1's binary_logloss: 0.566526\n",
      "[8000]\ttraining's binary_logloss: 0.548875\tvalid_1's binary_logloss: 0.566485\n",
      "[8100]\ttraining's binary_logloss: 0.548602\tvalid_1's binary_logloss: 0.566422\n",
      "[8200]\ttraining's binary_logloss: 0.548333\tvalid_1's binary_logloss: 0.566367\n",
      "[8300]\ttraining's binary_logloss: 0.548032\tvalid_1's binary_logloss: 0.566283\n",
      "[8400]\ttraining's binary_logloss: 0.547736\tvalid_1's binary_logloss: 0.566187\n",
      "[8500]\ttraining's binary_logloss: 0.547491\tvalid_1's binary_logloss: 0.566156\n",
      "[8600]\ttraining's binary_logloss: 0.547215\tvalid_1's binary_logloss: 0.566093\n",
      "[8700]\ttraining's binary_logloss: 0.546957\tvalid_1's binary_logloss: 0.566048\n",
      "[8800]\ttraining's binary_logloss: 0.546679\tvalid_1's binary_logloss: 0.565968\n",
      "[8900]\ttraining's binary_logloss: 0.546385\tvalid_1's binary_logloss: 0.565875\n",
      "[9000]\ttraining's binary_logloss: 0.546137\tvalid_1's binary_logloss: 0.56584\n",
      "[9100]\ttraining's binary_logloss: 0.545872\tvalid_1's binary_logloss: 0.565779\n",
      "[9200]\ttraining's binary_logloss: 0.545602\tvalid_1's binary_logloss: 0.565717\n",
      "[9300]\ttraining's binary_logloss: 0.545328\tvalid_1's binary_logloss: 0.565655\n",
      "[9400]\ttraining's binary_logloss: 0.545047\tvalid_1's binary_logloss: 0.565572\n",
      "[9500]\ttraining's binary_logloss: 0.544769\tvalid_1's binary_logloss: 0.565504\n",
      "[9600]\ttraining's binary_logloss: 0.544502\tvalid_1's binary_logloss: 0.565445\n",
      "[9700]\ttraining's binary_logloss: 0.544212\tvalid_1's binary_logloss: 0.565357\n",
      "[9800]\ttraining's binary_logloss: 0.543935\tvalid_1's binary_logloss: 0.565275\n",
      "[9900]\ttraining's binary_logloss: 0.543683\tvalid_1's binary_logloss: 0.565232\n",
      "[10000]\ttraining's binary_logloss: 0.543431\tvalid_1's binary_logloss: 0.56519\n",
      "Did not meet early stopping. Best iteration is:\n",
      "[10000]\ttraining's binary_logloss: 0.543431\tvalid_1's binary_logloss: 0.56519\n",
      "2020-03-25 05:47:06 RTwCmnt ********************************************************************************\n",
      "RTwCmnt\n",
      "n_pos_wanted 1000000\n",
      "2020-03-25 05:49:40 chunk 1\n",
      "2020-03-25 05:51:39 chunk 2\n",
      "2020-03-25 05:53:35 chunk 3\n",
      "2020-03-25 05:55:32 chunk 4\n",
      "2020-03-25 05:57:30 chunk 5\n",
      "2020-03-25 05:59:28 chunk 6\n",
      "2020-03-25 06:02:05 chunk 7\n",
      "2020-03-25 06:04:31 chunk 8\n",
      "2020-03-25 06:07:15 chunk 9\n",
      "2020-03-25 06:09:56 chunk 10\n",
      "2020-03-25 06:12:01 chunk 11\n",
      "2020-03-25 06:14:06 chunk 12\n",
      "2020-03-25 06:16:37 chunk 13\n",
      "dftrvl.shape: (10000000, 28) dftrvl[tgtcol].mean(): 0.1012718\n",
      "{'train_pop': 130000000, 'target_pop': 1012718, 'sampled_train_pop': 10000000, 'sampled_target_pop': 1012718}\n",
      "{'objective': 'binary', 'metric': 'binary_logloss', 'verbosity': 0, 'boosting_type': 'gbdt'}\n",
      "Training until validation scores don't improve for 100 rounds\n",
      "[100]\ttraining's binary_logloss: 0.29884\tvalid_1's binary_logloss: 0.297949\n",
      "[200]\ttraining's binary_logloss: 0.297016\tvalid_1's binary_logloss: 0.296418\n",
      "[300]\ttraining's binary_logloss: 0.295893\tvalid_1's binary_logloss: 0.295582\n",
      "[400]\ttraining's binary_logloss: 0.295058\tvalid_1's binary_logloss: 0.295039\n",
      "[500]\ttraining's binary_logloss: 0.294264\tvalid_1's binary_logloss: 0.294519\n",
      "[600]\ttraining's binary_logloss: 0.293641\tvalid_1's binary_logloss: 0.294186\n",
      "[700]\ttraining's binary_logloss: 0.292963\tvalid_1's binary_logloss: 0.2938\n",
      "[800]\ttraining's binary_logloss: 0.292436\tvalid_1's binary_logloss: 0.293567\n",
      "[900]\ttraining's binary_logloss: 0.291908\tvalid_1's binary_logloss: 0.293305\n",
      "[1000]\ttraining's binary_logloss: 0.291434\tvalid_1's binary_logloss: 0.293122\n",
      "[1100]\ttraining's binary_logloss: 0.290995\tvalid_1's binary_logloss: 0.292981\n",
      "[1200]\ttraining's binary_logloss: 0.290562\tvalid_1's binary_logloss: 0.292819\n",
      "[1300]\ttraining's binary_logloss: 0.290138\tvalid_1's binary_logloss: 0.292691\n",
      "[1400]\ttraining's binary_logloss: 0.289756\tvalid_1's binary_logloss: 0.292602\n",
      "[1500]\ttraining's binary_logloss: 0.289382\tvalid_1's binary_logloss: 0.292518\n",
      "[1600]\ttraining's binary_logloss: 0.28899\tvalid_1's binary_logloss: 0.292408\n",
      "[1700]\ttraining's binary_logloss: 0.288614\tvalid_1's binary_logloss: 0.292328\n",
      "[1800]\ttraining's binary_logloss: 0.288226\tvalid_1's binary_logloss: 0.292233\n",
      "[1900]\ttraining's binary_logloss: 0.287846\tvalid_1's binary_logloss: 0.292143\n",
      "[2000]\ttraining's binary_logloss: 0.287487\tvalid_1's binary_logloss: 0.292071\n",
      "[2100]\ttraining's binary_logloss: 0.28713\tvalid_1's binary_logloss: 0.29199\n",
      "[2200]\ttraining's binary_logloss: 0.286778\tvalid_1's binary_logloss: 0.291917\n",
      "[2300]\ttraining's binary_logloss: 0.286459\tvalid_1's binary_logloss: 0.291882\n",
      "[2400]\ttraining's binary_logloss: 0.286125\tvalid_1's binary_logloss: 0.291834\n",
      "[2500]\ttraining's binary_logloss: 0.285809\tvalid_1's binary_logloss: 0.291776\n",
      "[2600]\ttraining's binary_logloss: 0.285486\tvalid_1's binary_logloss: 0.291731\n",
      "[2700]\ttraining's binary_logloss: 0.285192\tvalid_1's binary_logloss: 0.291713\n",
      "[2800]\ttraining's binary_logloss: 0.284872\tvalid_1's binary_logloss: 0.291664\n",
      "[2900]\ttraining's binary_logloss: 0.28457\tvalid_1's binary_logloss: 0.291648\n",
      "[3000]\ttraining's binary_logloss: 0.284262\tvalid_1's binary_logloss: 0.291605\n",
      "[3100]\ttraining's binary_logloss: 0.283963\tvalid_1's binary_logloss: 0.291562\n",
      "[3200]\ttraining's binary_logloss: 0.283671\tvalid_1's binary_logloss: 0.291535\n",
      "[3300]\ttraining's binary_logloss: 0.283364\tvalid_1's binary_logloss: 0.291496\n",
      "[3400]\ttraining's binary_logloss: 0.28306\tvalid_1's binary_logloss: 0.291462\n",
      "[3500]\ttraining's binary_logloss: 0.28276\tvalid_1's binary_logloss: 0.291426\n",
      "[3600]\ttraining's binary_logloss: 0.28247\tvalid_1's binary_logloss: 0.291394\n",
      "[3700]\ttraining's binary_logloss: 0.2822\tvalid_1's binary_logloss: 0.291374\n",
      "[3800]\ttraining's binary_logloss: 0.281917\tvalid_1's binary_logloss: 0.291344\n",
      "[3900]\ttraining's binary_logloss: 0.281648\tvalid_1's binary_logloss: 0.291332\n",
      "[4000]\ttraining's binary_logloss: 0.281374\tvalid_1's binary_logloss: 0.291311\n",
      "[4100]\ttraining's binary_logloss: 0.281096\tvalid_1's binary_logloss: 0.291287\n"
     ]
    },
    {
     "name": "stdout",
     "output_type": "stream",
     "text": [
      "[4200]\ttraining's binary_logloss: 0.280826\tvalid_1's binary_logloss: 0.291275\n",
      "[4300]\ttraining's binary_logloss: 0.280539\tvalid_1's binary_logloss: 0.291238\n",
      "[4400]\ttraining's binary_logloss: 0.280241\tvalid_1's binary_logloss: 0.291203\n",
      "[4500]\ttraining's binary_logloss: 0.279961\tvalid_1's binary_logloss: 0.291181\n",
      "[4600]\ttraining's binary_logloss: 0.279689\tvalid_1's binary_logloss: 0.291166\n",
      "[4700]\ttraining's binary_logloss: 0.279422\tvalid_1's binary_logloss: 0.291142\n",
      "[4800]\ttraining's binary_logloss: 0.279148\tvalid_1's binary_logloss: 0.291112\n",
      "[4900]\ttraining's binary_logloss: 0.278866\tvalid_1's binary_logloss: 0.291071\n",
      "[5000]\ttraining's binary_logloss: 0.278601\tvalid_1's binary_logloss: 0.291047\n",
      "[5100]\ttraining's binary_logloss: 0.278358\tvalid_1's binary_logloss: 0.291039\n",
      "[5200]\ttraining's binary_logloss: 0.278108\tvalid_1's binary_logloss: 0.291036\n",
      "[5300]\ttraining's binary_logloss: 0.277838\tvalid_1's binary_logloss: 0.291032\n",
      "[5400]\ttraining's binary_logloss: 0.277588\tvalid_1's binary_logloss: 0.291015\n",
      "[5500]\ttraining's binary_logloss: 0.277338\tvalid_1's binary_logloss: 0.291008\n",
      "[5600]\ttraining's binary_logloss: 0.277091\tvalid_1's binary_logloss: 0.290999\n",
      "[5700]\ttraining's binary_logloss: 0.276841\tvalid_1's binary_logloss: 0.290994\n",
      "[5800]\ttraining's binary_logloss: 0.27658\tvalid_1's binary_logloss: 0.290985\n",
      "[5900]\ttraining's binary_logloss: 0.276306\tvalid_1's binary_logloss: 0.290962\n",
      "[6000]\ttraining's binary_logloss: 0.276042\tvalid_1's binary_logloss: 0.290957\n",
      "[6100]\ttraining's binary_logloss: 0.275784\tvalid_1's binary_logloss: 0.290939\n",
      "[6200]\ttraining's binary_logloss: 0.275536\tvalid_1's binary_logloss: 0.290935\n",
      "[6300]\ttraining's binary_logloss: 0.275276\tvalid_1's binary_logloss: 0.290917\n",
      "[6400]\ttraining's binary_logloss: 0.275037\tvalid_1's binary_logloss: 0.290905\n",
      "[6500]\ttraining's binary_logloss: 0.274785\tvalid_1's binary_logloss: 0.290902\n",
      "[6600]\ttraining's binary_logloss: 0.274549\tvalid_1's binary_logloss: 0.290899\n",
      "Early stopping, best iteration is:\n",
      "[6549]\ttraining's binary_logloss: 0.274657\tvalid_1's binary_logloss: 0.290893\n"
     ]
    }
   ],
   "source": [
    "params_shared = {\n",
    "    \"objective\": \"binary\",\n",
    "    \"metric\": \"binary_logloss\",\n",
    "    \"verbosity\": 0,\n",
    "    \"boosting_type\": \"gbdt\",\n",
    "}\n",
    "tgt2params = {k:params_shared for k in tgts}\n",
    "\n",
    "tgt2bst={}\n",
    "tgt2evlres={}\n",
    "tgt2tuning_history={}\n",
    "tgt2ytr={}\n",
    "tgt2yvl={}\n",
    "tgt2prdtr={}\n",
    "tgt2prdvl={}\n",
    "tgt2pops={}\n",
    "for tgt in tgts:\n",
    "    print(dtnow(), tgt, '*'*80)\n",
    "    do_tgt(tgt)\n",
    "    \n",
    "pickle.dump(tgt2bst, open(f\"{p_out}/tgt2bst.p\", \"wb\"))"
   ]
  },
  {
   "cell_type": "markdown",
   "metadata": {},
   "source": [
    "# analyze"
   ]
  },
  {
   "cell_type": "markdown",
   "metadata": {},
   "source": [
    "## tr vl"
   ]
  },
  {
   "cell_type": "code",
   "execution_count": 12,
   "metadata": {},
   "outputs": [
    {
     "data": {
      "image/png": "[encoded data removed]",
      "text/plain": [
       "<Figure size 432x288 with 1 Axes>"
      ]
     },
     "metadata": {
      "needs_background": "light"
     },
     "output_type": "display_data"
    },
    {
     "data": {
      "image/png": "[encoded data removed]",
      "text/plain": [
       "<Figure size 432x288 with 1 Axes>"
      ]
     },
     "metadata": {
      "needs_background": "light"
     },
     "output_type": "display_data"
    },
    {
     "data": {
      "image/png": "[encoded data removed]",
      "text/plain": [
       "<Figure size 432x288 with 1 Axes>"
      ]
     },
     "metadata": {
      "needs_background": "light"
     },
     "output_type": "display_data"
    },
    {
     "data": {
      "image/png": "[encoded data removed]",
      "text/plain": [
       "<Figure size 432x288 with 1 Axes>"
      ]
     },
     "metadata": {
      "needs_background": "light"
     },
     "output_type": "display_data"
    }
   ],
   "source": [
    "for tgt in tgt2evlres:\n",
    "    evlres=tgt2evlres[tgt]\n",
    "    plt.plot(evlres['training']['binary_logloss'])\n",
    "    plt.plot(evlres['valid_1']['binary_logloss'])\n",
    "    plt.title(f\"{tgt} logloss {len(evlres['valid_1']['binary_logloss'])} rounds\")\n",
    "    plt.show()"
   ]
  },
  {
   "cell_type": "code",
   "execution_count": 13,
   "metadata": {},
   "outputs": [
    {
     "data": {
      "image/png": "[encoded data removed]",
      "text/plain": [
       "<Figure size 432x288 with 1 Axes>"
      ]
     },
     "metadata": {
      "needs_background": "light"
     },
     "output_type": "display_data"
    },
    {
     "data": {
      "image/png": "[encoded data removed]",
      "text/plain": [
       "<Figure size 432x288 with 1 Axes>"
      ]
     },
     "metadata": {
      "needs_background": "light"
     },
     "output_type": "display_data"
    },
    {
     "data": {
      "image/png": "[encoded data removed]",
      "text/plain": [
       "<Figure size 432x288 with 1 Axes>"
      ]
     },
     "metadata": {
      "needs_background": "light"
     },
     "output_type": "display_data"
    },
    {
     "data": {
      "image/png": "[encoded data removed]",
      "text/plain": [
       "<Figure size 432x288 with 1 Axes>"
      ]
     },
     "metadata": {
      "needs_background": "light"
     },
     "output_type": "display_data"
    }
   ],
   "source": [
    "def show_feat_importance(tgt):\n",
    "    bst=tgt2bst[tgt]\n",
    "    ax = lgb.plot_importance(bst, height=0.8, max_num_features=20)\n",
    "    ax.grid(False, axis=\"y\")\n",
    "    ax.set_title(f'{tgt} Estimated feature importance')\n",
    "    plt.show()\n",
    "#     feat2importance=bst.get_fscore()\n",
    "#     print(tgt)\n",
    "#     display(pd.DataFrame([feat2importance.keys(), \n",
    "#                           feat2importance.values()]).T.sort_values(1, ascending=False))\n",
    "\n",
    "for tgt in tgt2bst:\n",
    "    show_feat_importance(tgt)"
   ]
  },
  {
   "cell_type": "code",
   "execution_count": 14,
   "metadata": {},
   "outputs": [
    {
     "name": "stdout",
     "output_type": "stream",
     "text": [
      "Retweet\n",
      "tr prauc: 0.4313 tr rce: 20.4818\n",
      "vl prauc: 0.3513 vl rce: 14.7899\n",
      "Reply\n",
      "tr prauc: 0.4189 tr rce: 21.8796\n",
      "vl prauc: 0.3417 vl rce: 17.0719\n",
      "Like\n",
      "tr prauc: 0.7508 tr rce: 20.7435\n",
      "vl prauc: 0.7198 vl rce: 17.5757\n",
      "RTwCmnt\n",
      "tr prauc: 0.3526 tr rce: 16.2749\n",
      "vl prauc: 0.2660 vl rce: 11.0039\n"
     ]
    }
   ],
   "source": [
    "tgt2auc_tr={}\n",
    "tgt2rce_tr={}\n",
    "tgt2auc_vl={}\n",
    "tgt2rce_vl={}\n",
    "for tgt in tgt2bst:\n",
    "    print(tgt)\n",
    "    prdtr_i, prdvl_i = tgt2prdtr[tgt], tgt2prdvl[tgt]\n",
    "    ytr_i, yvl_i = tgt2ytr[tgt], tgt2yvl[tgt]\n",
    "    scr_auc_tr=compute_prauc(prdtr_i, ytr_i)\n",
    "    scr_rce_tr=compute_rce(prdtr_i, ytr_i)\n",
    "    scr_auc_vl=compute_prauc(prdvl_i, yvl_i)\n",
    "    scr_rce_vl=compute_rce(prdvl_i, yvl_i)\n",
    "\n",
    "    tgt2auc_tr[tgt]=scr_auc_tr\n",
    "    tgt2rce_tr[tgt]=scr_rce_tr\n",
    "    tgt2auc_vl[tgt]=scr_auc_vl\n",
    "    tgt2rce_vl[tgt]=scr_rce_vl\n",
    "    \n",
    "    print('tr prauc:', f'{scr_auc_tr:.4f}','tr rce:', f'{scr_rce_tr:.4f}', )\n",
    "    print('vl prauc:', f'{scr_auc_vl:.4f}','vl rce:', f'{scr_rce_vl:.4f}', )"
   ]
  },
  {
   "cell_type": "code",
   "execution_count": 15,
   "metadata": {},
   "outputs": [
    {
     "data": {
      "text/html": [
       "<div>\n",
       "<style scoped>\n",
       "    .dataframe tbody tr th:only-of-type {\n",
       "        vertical-align: middle;\n",
       "    }\n",
       "\n",
       "    .dataframe tbody tr th {\n",
       "        vertical-align: top;\n",
       "    }\n",
       "\n",
       "    .dataframe thead th {\n",
       "        text-align: right;\n",
       "    }\n",
       "</style>\n",
       "<table border=\"1\" class=\"dataframe\">\n",
       "  <thead>\n",
       "    <tr style=\"text-align: right;\">\n",
       "      <th></th>\n",
       "      <th>0</th>\n",
       "      <th>1</th>\n",
       "      <th>2</th>\n",
       "      <th>3</th>\n",
       "      <th>4</th>\n",
       "      <th>5</th>\n",
       "      <th>6</th>\n",
       "      <th>7</th>\n",
       "    </tr>\n",
       "  </thead>\n",
       "  <tbody>\n",
       "    <tr>\n",
       "      <th>metric</th>\n",
       "      <td>PRAUC Retweet</td>\n",
       "      <td>RCE Retweet</td>\n",
       "      <td>PRAUC Reply</td>\n",
       "      <td>RCE Reply</td>\n",
       "      <td>PRAUC Like</td>\n",
       "      <td>RCE Like</td>\n",
       "      <td>PRAUC RTwCmnt</td>\n",
       "      <td>RCE RTwCmnt</td>\n",
       "    </tr>\n",
       "    <tr>\n",
       "      <th>scrtr</th>\n",
       "      <td>0.431302</td>\n",
       "      <td>20.4818</td>\n",
       "      <td>0.418912</td>\n",
       "      <td>21.8796</td>\n",
       "      <td>0.750798</td>\n",
       "      <td>20.7435</td>\n",
       "      <td>0.352576</td>\n",
       "      <td>16.2749</td>\n",
       "    </tr>\n",
       "    <tr>\n",
       "      <th>scrvl</th>\n",
       "      <td>0.351306</td>\n",
       "      <td>14.7899</td>\n",
       "      <td>0.341718</td>\n",
       "      <td>17.0719</td>\n",
       "      <td>0.719821</td>\n",
       "      <td>17.5757</td>\n",
       "      <td>0.266035</td>\n",
       "      <td>11.0039</td>\n",
       "    </tr>\n",
       "  </tbody>\n",
       "</table>\n",
       "</div>"
      ],
      "text/plain": [
       "                    0            1            2          3           4  \\\n",
       "metric  PRAUC Retweet  RCE Retweet  PRAUC Reply  RCE Reply  PRAUC Like   \n",
       "scrtr        0.431302      20.4818     0.418912    21.8796    0.750798   \n",
       "scrvl        0.351306      14.7899     0.341718    17.0719    0.719821   \n",
       "\n",
       "               5              6            7  \n",
       "metric  RCE Like  PRAUC RTwCmnt  RCE RTwCmnt  \n",
       "scrtr    20.7435       0.352576      16.2749  \n",
       "scrvl    17.5757       0.266035      11.0039  "
      ]
     },
     "execution_count": 15,
     "metadata": {},
     "output_type": "execute_result"
    }
   ],
   "source": [
    "lsttr=[]\n",
    "lstvl=[]\n",
    "for tgt in ['Retweet','Reply','Like','RTwCmnt',]:\n",
    "    if tgt not in tgt2bst: continue\n",
    "    lsttr+=[(f'PRAUC {tgt}',tgt2auc_tr[tgt]),\n",
    "          (f'RCE {tgt}',tgt2rce_tr[tgt])]\n",
    "    lstvl+=[(f'PRAUC {tgt}',tgt2auc_vl[tgt]),\n",
    "          (f'RCE {tgt}',tgt2rce_vl[tgt])]\n",
    "\n",
    "dfscrtr=pd.DataFrame(lsttr)\n",
    "dfscrtr.columns=['metric','scr']\n",
    "dfscrvl=pd.DataFrame(lstvl)\n",
    "dfscrvl.columns=['metric','scr']\n",
    "dfscr = pd.merge(dfscrtr, dfscrvl, on='metric', suffixes=('tr','vl'))\n",
    "dfscr.T"
   ]
  },
  {
   "cell_type": "markdown",
   "metadata": {},
   "source": [
    "## valid"
   ]
  },
  {
   "cell_type": "code",
   "execution_count": 16,
   "metadata": {},
   "outputs": [],
   "source": [
    "# tgt=tgts[1]\n",
    "# tgtcol=tgt2col[tgt]\n",
    "# bst=tgt2bst[tgt]\n",
    "\n",
    "# dvalid=xgb.DMatrix(dfvalid[cols_feat], label=dfvalid[tgtcol], feature_names=cols_feat)\n",
    "\n",
    "# prdvalid = bst.predict(dvalid, ntree_limit=bst.best_ntree_limit)\n",
    "\n",
    "# pops=tgt2pops[tgt]\n",
    "\n",
    "# prdvalid[:10]\n",
    "# # array([0.11734424, 0.09971393, 0.05619054, 0.03059793, 0.07979691,\n",
    "# #        0.01358252, 0.05293725, 0.27954698, 0.05738379, 0.01741553],\n",
    "# #       dtype=float32)\n",
    "\n",
    "\n",
    "# pops\n",
    "# # {'train_pop': 4000000,\n",
    "# #  'target_pop': 109752,\n",
    "# #  'sampled_train_pop': 1000000,\n",
    "# #  'sampled_target_pop': 109752}\n",
    "\n",
    "# prdvalid_calib = calibration(prdvalid, **pops)\n",
    "\n",
    "# prdvalid_calib[:10]\n",
    "# # array([0.02952491, 0.02471944, 0.01344113, 0.00717127, 0.01945818,\n",
    "# #        0.00314114, 0.0126298 , 0.08155248, 0.01373977, 0.00403964],\n",
    "# #       dtype=float32)"
   ]
  },
  {
   "cell_type": "code",
   "execution_count": 17,
   "metadata": {},
   "outputs": [
    {
     "data": {
      "text/plain": [
       "{'Retweet': {'train_pop': 10000000,\n",
       "  'target_pop': 1129292,\n",
       "  'sampled_train_pop': 10000000,\n",
       "  'sampled_target_pop': 1129292},\n",
       " 'Reply': {'train_pop': 40000000,\n",
       "  'target_pop': 1097816,\n",
       "  'sampled_train_pop': 10000000,\n",
       "  'sampled_target_pop': 1097816},\n",
       " 'Like': {'train_pop': 10000000,\n",
       "  'target_pop': 4389250,\n",
       "  'sampled_train_pop': 10000000,\n",
       "  'sampled_target_pop': 4389250},\n",
       " 'RTwCmnt': {'train_pop': 130000000,\n",
       "  'target_pop': 1012718,\n",
       "  'sampled_train_pop': 10000000,\n",
       "  'sampled_target_pop': 1012718}}"
      ]
     },
     "execution_count": 17,
     "metadata": {},
     "output_type": "execute_result"
    }
   ],
   "source": [
    "tgt2pops"
   ]
  },
  {
   "cell_type": "code",
   "execution_count": 18,
   "metadata": {},
   "outputs": [],
   "source": [
    "def do_post_valid(tgt):\n",
    "    tgtcol=tgt2col[tgt]\n",
    "    bst=tgt2bst[tgt]\n",
    "    pops=tgt2pops[tgt]\n",
    "    prdvalid = bst.predict(dfvalid[cols_feat],num_iteration=bst.best_iteration)\n",
    "    prdvalid_calib = calibration(prdvalid, **pops)\n",
    "    return prdvalid,prdvalid_calib"
   ]
  },
  {
   "cell_type": "code",
   "execution_count": 19,
   "metadata": {},
   "outputs": [
    {
     "name": "stdout",
     "output_type": "stream",
     "text": [
      "2020-03-25 06:54:46 Retweet\n",
      "2020-03-25 06:58:12 Reply\n",
      "2020-03-25 07:01:13 Like\n",
      "2020-03-25 07:07:26 RTwCmnt\n"
     ]
    }
   ],
   "source": [
    "tgt2yvalid={tgt:dfvalid[tgt2col[tgt]] for tgt in tgts}\n",
    "tgt2prdvalid={}\n",
    "tgt2prdvalid_calib={}\n",
    "for tgt in tgts:\n",
    "    print(dtnow(), tgt)\n",
    "    tgt2prdvalid[tgt],tgt2prdvalid_calib[tgt]=do_post_valid(tgt)\n"
   ]
  },
  {
   "cell_type": "code",
   "execution_count": 20,
   "metadata": {},
   "outputs": [
    {
     "name": "stdout",
     "output_type": "stream",
     "text": [
      "2020-03-25 07:10:34 Retweet\n",
      "2020-03-25 07:11:01 Reply\n",
      "2020-03-25 07:11:28 Like\n",
      "2020-03-25 07:11:56 RTwCmnt\n"
     ]
    }
   ],
   "source": [
    "tgt2auc_valid={}\n",
    "tgt2rce_valid={}\n",
    "tgt2auc_valid_calib={}\n",
    "tgt2rce_valid_calib={}\n",
    "for tgt in tgts:\n",
    "    print(dtnow(), tgt)\n",
    "    prdvalid, prdvalid_calib = tgt2prdvalid[tgt], tgt2prdvalid_calib[tgt]\n",
    "    yvalid = tgt2yvalid[tgt]\n",
    "    scr_auc_valid=compute_prauc(prdvalid, yvalid)\n",
    "    scr_rce_valid=compute_rce(prdvalid, yvalid)\n",
    "    scr_auc_valid_calib=compute_prauc(prdvalid_calib, yvalid)\n",
    "    scr_rce_valid_calib=compute_rce(prdvalid_calib, yvalid)\n",
    "\n",
    "    tgt2auc_valid[tgt]=scr_auc_valid\n",
    "    tgt2rce_valid[tgt]=scr_rce_valid\n",
    "    tgt2auc_valid_calib[tgt]=scr_auc_valid_calib\n",
    "    tgt2rce_valid_calib[tgt]=scr_rce_valid_calib"
   ]
  },
  {
   "cell_type": "code",
   "execution_count": 21,
   "metadata": {},
   "outputs": [
    {
     "name": "stdout",
     "output_type": "stream",
     "text": [
      "Retweet\n",
      "tr          prauc: 0.4313 tr rce: 20.4818\n",
      "vl          prauc: 0.3513 tr rce: 14.7899\n",
      "valid       prauc: 0.3514 tr rce: 14.7454\n",
      "valid_calib prauc: 0.3514 tr rce: 14.7454\n",
      "Reply\n",
      "tr          prauc: 0.4189 tr rce: 21.8796\n",
      "vl          prauc: 0.3417 tr rce: 17.0719\n",
      "valid       prauc: 0.1167 tr rce: -20.6700\n",
      "valid_calib prauc: 0.1167 tr rce: 13.1284\n",
      "Like\n",
      "tr          prauc: 0.7508 tr rce: 20.7435\n",
      "vl          prauc: 0.7198 tr rce: 17.5757\n",
      "valid       prauc: 0.7199 tr rce: 17.5815\n",
      "valid_calib prauc: 0.7199 tr rce: 17.5815\n",
      "RTwCmnt\n",
      "tr          prauc: 0.3526 tr rce: 16.2749\n",
      "vl          prauc: 0.2660 tr rce: 11.0039\n",
      "valid       prauc: 0.0301 tr rce: -154.9943\n",
      "valid_calib prauc: 0.0301 tr rce: 7.0510\n"
     ]
    }
   ],
   "source": [
    "for tgt in tgts:\n",
    "    print(tgt)\n",
    "    print('tr          prauc:', f'{tgt2auc_tr[tgt]:.4f}','tr rce:', f'{tgt2rce_tr[tgt]:.4f}', )\n",
    "    print('vl          prauc:', f'{tgt2auc_vl[tgt]:.4f}','tr rce:', f'{tgt2rce_vl[tgt]:.4f}', )\n",
    "    print('valid       prauc:', f'{tgt2auc_valid[tgt]:.4f}','tr rce:', f'{tgt2rce_valid[tgt]:.4f}', )\n",
    "    print('valid_calib prauc:', f'{tgt2auc_valid_calib[tgt]:.4f}','tr rce:', f'{tgt2rce_valid_calib[tgt]:.4f}', )\n",
    "    "
   ]
  },
  {
   "cell_type": "code",
   "execution_count": 22,
   "metadata": {},
   "outputs": [
    {
     "data": {
      "text/html": [
       "<div>\n",
       "<style scoped>\n",
       "    .dataframe tbody tr th:only-of-type {\n",
       "        vertical-align: middle;\n",
       "    }\n",
       "\n",
       "    .dataframe tbody tr th {\n",
       "        vertical-align: top;\n",
       "    }\n",
       "\n",
       "    .dataframe thead th {\n",
       "        text-align: right;\n",
       "    }\n",
       "</style>\n",
       "<table border=\"1\" class=\"dataframe\">\n",
       "  <thead>\n",
       "    <tr style=\"text-align: right;\">\n",
       "      <th></th>\n",
       "      <th>0</th>\n",
       "      <th>1</th>\n",
       "      <th>2</th>\n",
       "      <th>3</th>\n",
       "      <th>4</th>\n",
       "      <th>5</th>\n",
       "      <th>6</th>\n",
       "      <th>7</th>\n",
       "    </tr>\n",
       "  </thead>\n",
       "  <tbody>\n",
       "    <tr>\n",
       "      <th>scr</th>\n",
       "      <td>PRAUC Retweet</td>\n",
       "      <td>RCE Retweet</td>\n",
       "      <td>PRAUC Reply</td>\n",
       "      <td>RCE Reply</td>\n",
       "      <td>PRAUC Like</td>\n",
       "      <td>RCE Like</td>\n",
       "      <td>PRAUC RTwCmnt</td>\n",
       "      <td>RCE RTwCmnt</td>\n",
       "    </tr>\n",
       "    <tr>\n",
       "      <th>tr</th>\n",
       "      <td>0.431302</td>\n",
       "      <td>20.4818</td>\n",
       "      <td>0.418912</td>\n",
       "      <td>21.8796</td>\n",
       "      <td>0.750798</td>\n",
       "      <td>20.7435</td>\n",
       "      <td>0.352576</td>\n",
       "      <td>16.2749</td>\n",
       "    </tr>\n",
       "    <tr>\n",
       "      <th>vl</th>\n",
       "      <td>0.351306</td>\n",
       "      <td>14.7899</td>\n",
       "      <td>0.341718</td>\n",
       "      <td>17.0719</td>\n",
       "      <td>0.719821</td>\n",
       "      <td>17.5757</td>\n",
       "      <td>0.266035</td>\n",
       "      <td>11.0039</td>\n",
       "    </tr>\n",
       "    <tr>\n",
       "      <th>valid</th>\n",
       "      <td>0.351433</td>\n",
       "      <td>14.7454</td>\n",
       "      <td>0.116674</td>\n",
       "      <td>-20.67</td>\n",
       "      <td>0.719928</td>\n",
       "      <td>17.5815</td>\n",
       "      <td>0.0301041</td>\n",
       "      <td>-154.994</td>\n",
       "    </tr>\n",
       "    <tr>\n",
       "      <th>valid_calib</th>\n",
       "      <td>0.351433</td>\n",
       "      <td>14.7454</td>\n",
       "      <td>0.116674</td>\n",
       "      <td>13.1284</td>\n",
       "      <td>0.719928</td>\n",
       "      <td>17.5815</td>\n",
       "      <td>0.0301041</td>\n",
       "      <td>7.051</td>\n",
       "    </tr>\n",
       "  </tbody>\n",
       "</table>\n",
       "</div>"
      ],
      "text/plain": [
       "                         0            1            2          3           4  \\\n",
       "scr          PRAUC Retweet  RCE Retweet  PRAUC Reply  RCE Reply  PRAUC Like   \n",
       "tr                0.431302      20.4818     0.418912    21.8796    0.750798   \n",
       "vl                0.351306      14.7899     0.341718    17.0719    0.719821   \n",
       "valid             0.351433      14.7454     0.116674     -20.67    0.719928   \n",
       "valid_calib       0.351433      14.7454     0.116674    13.1284    0.719928   \n",
       "\n",
       "                    5              6            7  \n",
       "scr          RCE Like  PRAUC RTwCmnt  RCE RTwCmnt  \n",
       "tr            20.7435       0.352576      16.2749  \n",
       "vl            17.5757       0.266035      11.0039  \n",
       "valid         17.5815      0.0301041     -154.994  \n",
       "valid_calib   17.5815      0.0301041        7.051  "
      ]
     },
     "execution_count": 22,
     "metadata": {},
     "output_type": "execute_result"
    }
   ],
   "source": [
    "lsttr=[]\n",
    "lstvl=[]\n",
    "lstvalid=[]\n",
    "lstvalid_calib=[]\n",
    "for tgt in ['Retweet','Reply','Like','RTwCmnt',]:\n",
    "    if tgt not in tgt2bst: continue\n",
    "    lsttr+=[(f'PRAUC {tgt}',tgt2auc_tr[tgt]),\n",
    "          (f'RCE {tgt}',tgt2rce_tr[tgt])]\n",
    "    lstvl+=[(f'PRAUC {tgt}',tgt2auc_vl[tgt]),\n",
    "          (f'RCE {tgt}',tgt2rce_vl[tgt])]\n",
    "    lstvalid+=[(f'PRAUC {tgt}',tgt2auc_valid[tgt]),\n",
    "          (f'RCE {tgt}',tgt2rce_valid[tgt])]\n",
    "    lstvalid_calib+=[(f'PRAUC {tgt}',tgt2auc_valid_calib[tgt]),\n",
    "          (f'RCE {tgt}',tgt2rce_valid_calib[tgt])]\n",
    "\n",
    "dfscrtr=pd.DataFrame(lsttr)\n",
    "dfscrtr.columns=['metric','scr']\n",
    "dfscrvl=pd.DataFrame(lstvl)\n",
    "dfscrvl.columns=['metric','scr']\n",
    "dfscrvalid=pd.DataFrame(lstvalid)\n",
    "dfscrvalid.columns=['metric','scr']\n",
    "dfscrvalid_calib=pd.DataFrame(lstvalid_calib)\n",
    "dfscrvalid_calib.columns=['metric','scr']\n",
    "\n",
    "dfscr = reduce(lambda df1,df2: pd.merge(df1,df2,on='metric'), \n",
    "            [dfscrtr,dfscrvl,dfscrvalid,dfscrvalid_calib])\n",
    "\n",
    "dfscr.columns=['scr','tr','vl','valid','valid_calib']\n",
    "dfscr.T"
   ]
  },
  {
   "cell_type": "code",
   "execution_count": null,
   "metadata": {},
   "outputs": [],
   "source": []
  },
  {
   "cell_type": "markdown",
   "metadata": {},
   "source": [
    "# infer"
   ]
  },
  {
   "cell_type": "raw",
   "metadata": {},
   "source": [
    "ls -lhS $p_in | grep val"
   ]
  },
  {
   "cell_type": "code",
   "execution_count": null,
   "metadata": {},
   "outputs": [],
   "source": [
    "%%time\n",
    "dftst=pd.read_csv(\n",
    "    f'{p_in}/val_{valtmstmp}.tsv',\n",
    "#     f'{p_in}/val_259A6F6DFD672CB1F883CBEC01B99F2D_1584405047.tsv',\n",
    "    sep='\\x01', header=None, names=cols_val,)\n"
   ]
  },
  {
   "cell_type": "code",
   "execution_count": null,
   "metadata": {
    "scrolled": false
   },
   "outputs": [],
   "source": [
    "%%time\n",
    "dftst = prp_df(dftst, istrn=False)"
   ]
  },
  {
   "cell_type": "code",
   "execution_count": null,
   "metadata": {},
   "outputs": [],
   "source": []
  },
  {
   "cell_type": "code",
   "execution_count": null,
   "metadata": {},
   "outputs": [],
   "source": [
    "%%time\n",
    "tgt2prdtst={}\n",
    "for tgt in tgts:\n",
    "    print(dtnow(), tgt)\n",
    "    bst = tgt2bst[tgt]\n",
    "    pops=tgt2pops[tgt]\n",
    "    prdtst = bst.predict(dftst[cols_feat], num_iteration=bst.best_iteration)\n",
    "    prdtst_calib = calibration(prdtst, **pops)\n",
    "    tgt2prdtst[tgt] = prdtst_calib"
   ]
  },
  {
   "cell_type": "code",
   "execution_count": null,
   "metadata": {},
   "outputs": [],
   "source": [
    "dfsub_ids = dftst[['twtid','u2id',]]\n",
    "\n",
    "tgt2dfsub = {}\n",
    "for tgt,prdtst in tgt2prdtst.items():\n",
    "    dfsub = dfsub_ids.copy()\n",
    "    dfsub['scr'] = prdtst\n",
    "    tgt2dfsub[tgt]=dfsub"
   ]
  },
  {
   "cell_type": "code",
   "execution_count": null,
   "metadata": {},
   "outputs": [],
   "source": [
    "%%time\n",
    "for i,tgt in enumerate(['Retweet','Reply','RTwCmnt','Like',]):\n",
    "    dfsub = tgt2dfsub[tgt]\n",
    "    print(dtnow(), tgt)\n",
    "    dfsub.to_csv(f'{p_out}/{i}_{tgt}__{valtmstmp}__{PRFX}.csv',index=False,header=False)"
   ]
  },
  {
   "cell_type": "code",
   "execution_count": null,
   "metadata": {},
   "outputs": [],
   "source": []
  },
  {
   "cell_type": "code",
   "execution_count": null,
   "metadata": {},
   "outputs": [],
   "source": []
  },
  {
   "cell_type": "code",
   "execution_count": null,
   "metadata": {},
   "outputs": [],
   "source": []
  },
  {
   "cell_type": "code",
   "execution_count": null,
   "metadata": {},
   "outputs": [],
   "source": []
  }
 ],
 "metadata": {
  "kernelspec": {
   "display_name": "rcss20",
   "language": "python",
   "name": "rcss20"
  },
  "language_info": {
   "codemirror_mode": {
    "name": "ipython",
    "version": 3
   },
   "file_extension": ".py",
   "mimetype": "text/x-python",
   "name": "python",
   "nbconvert_exporter": "python",
   "pygments_lexer": "ipython3",
   "version": "3.7.6"
  },
  "toc": {
   "base_numbering": 1,
   "nav_menu": {},
   "number_sections": true,
   "sideBar": true,
   "skip_h1_title": false,
   "title_cell": "Table of Contents",
   "title_sidebar": "Contents",
   "toc_cell": false,
   "toc_position": {},
   "toc_section_display": true,
   "toc_window_display": true
  }
 },
 "nbformat": 4,
 "nbformat_minor": 4
}
