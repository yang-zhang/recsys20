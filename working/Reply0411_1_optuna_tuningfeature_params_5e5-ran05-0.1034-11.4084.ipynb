{
 "cells": [
  {
   "cell_type": "markdown",
   "metadata": {},
   "source": [
    "# start"
   ]
  },
  {
   "cell_type": "markdown",
   "metadata": {},
   "source": [
    "- http://localhost:8081/notebooks/git/recsys20/working/0324_6_3_lgb_feat_engr-1e7.ipynb\n",
    "- http://localhost:8081/notebooks/git/recsys20/working/mdl0404_1__xgb_mean_encode.ipynb\n",
    "- http://localhost:8081/notebooks/git/recsys20/working/eda_0404_1.ipynb#v.s.-target\n",
    "- https://www.kaggle.com/discdiver/category-encoders-examples\n",
    "- https://www.kaggle.com/snakayama/lightgbm-using-optuna-optuna-lightgbm"
   ]
  },
  {
   "cell_type": "code",
   "execution_count": 1,
   "metadata": {},
   "outputs": [
    {
     "name": "stdout",
     "output_type": "stream",
     "text": [
      "train_total 148,075,238, test_total 14,000,000\n",
      "['2020-03-17 02:32:24', '2020-04-06 00:35:47']\n",
      "['2020-02-06 00:00:00', '2020-02-12 23:59:59']\n",
      "['2020-02-13 00:00:00', '2020-02-19 23:59:59']\n"
     ]
    }
   ],
   "source": [
    "TGT='Reply'\n",
    "PRFX='Reply0411_1'\n",
    "\n",
    "trntmstmp=1584412344\n",
    "tsttmstmp=1586133347\n",
    "\n",
    "tm_trn_min,tm_trn_max=(1580947200, 1581551999)\n",
    "tm_tst_min,tm_tst_max=(1581552000, 1582156799)\n",
    "\n",
    "SEED=101\n",
    "\n",
    "valsz = int(5e5)#int(1e5)\n",
    "trnsz = int(5e5)#int(5e5)\n",
    "\n",
    "train_total=148075238\n",
    "test_total=int(1.4e7)\n",
    "print(f'train_total {train_total:,}, test_total {test_total:,}')\n",
    "\n",
    "\n",
    "import datetime\n",
    "def showtm(tm): return datetime.datetime.fromtimestamp(tm).strftime('%Y-%m-%d %H:%M:%S')\n",
    "print([showtm(tm) for tm in (trntmstmp, tsttmstmp)])\n",
    "print([showtm(tm) for tm in (tm_trn_min,tm_trn_max)])\n",
    "print([showtm(tm) for tm in (tm_tst_min,tm_tst_max)])"
   ]
  },
  {
   "cell_type": "markdown",
   "metadata": {},
   "source": [
    "# setup"
   ]
  },
  {
   "cell_type": "code",
   "execution_count": 2,
   "metadata": {},
   "outputs": [
    {
     "name": "stdout",
     "output_type": "stream",
     "text": [
      "TCOL reply\n",
      "{'Retweet': 'retwt', 'Reply': 'reply', 'Like': 'like', 'RTwCmnt': 'retwt_cmmnt'}\n"
     ]
    }
   ],
   "source": [
    "from tqdm import tqdm\n",
    "import time\n",
    "from pathlib import Path\n",
    "from collections import Counter,defaultdict\n",
    "from sklearn.model_selection import train_test_split\n",
    "import pandas as pd\n",
    "import numpy as np\n",
    "import matplotlib.pyplot as plt\n",
    "from sklearn.metrics import accuracy_score, roc_auc_score, roc_curve, auc, precision_recall_curve\n",
    "import pickle\n",
    "# import xgboost as xgb\n",
    "# import lightgbm as lgb\n",
    "import category_encoders as ce\n",
    "import gc\n",
    "\n",
    "import optuna\n",
    "# optuna.logging.CRITICAL, optuna.logging.FATAL\n",
    "# optuna.logging.ERROR\n",
    "# optuna.logging.WARNING, optuna.logging.WARN\n",
    "# optuna.logging.INFO\n",
    "# optuna.logging.DEBUG\n",
    "# optuna.logging.set_verbosity(optuna.logging.ERROR)\n",
    "import optuna.integration.lightgbm as lgb\n",
    "optuna.logging.disable_default_handler()\n",
    "\n",
    "\n",
    "pd.set_option('display.max_rows', 500)\n",
    "pd.set_option('display.max_columns', 500)\n",
    "\n",
    "\n",
    "import datetime\n",
    "def dtnow(): return datetime.datetime.now().strftime('%Y-%m-%d %H:%M:%S')\n",
    "\n",
    "def iou(s1,s2):\n",
    "    return len(s1&s2) / len(s1|s2)\n",
    "\n",
    "HOME='/data/git/recsys20'\n",
    "p_in=f'{HOME}/input'\n",
    "p_out=f'{HOME}/output/{PRFX}'\n",
    "Path(p_out).mkdir(exist_ok=True, parents=True)\n",
    "\n",
    "from sklearn.metrics import precision_recall_curve, auc, log_loss\n",
    "\n",
    "def compute_prauc(pred, gt):\n",
    "    prec, recall, thresh = precision_recall_curve(gt, pred)\n",
    "    prauc = auc(recall, prec)\n",
    "    return prauc\n",
    "\n",
    "def calculate_ctr(gt):\n",
    "    positive = len([x for x in gt if x == 1])\n",
    "    ctr = positive/float(len(gt))\n",
    "    return ctr\n",
    "\n",
    "def compute_rce(pred, gt):\n",
    "    cross_entropy = log_loss(gt, pred)\n",
    "    data_ctr = calculate_ctr(gt)\n",
    "    strawman_cross_entropy = log_loss(gt, [data_ctr for _ in range(len(gt))])\n",
    "    return (1.0 - cross_entropy/strawman_cross_entropy)*100.0\n",
    "\n",
    "# https://towardsdatascience.com/how-to-calibrate-undersampled-model-scores-8f3319c1ea5b\n",
    "# How to use the function?\n",
    "# Let’s say your goal is to generate a model that shows the credit default probabilities and your original \n",
    "# training data has 50,000 rows with only 500 of them labeled as target class. When you sample your non-target \n",
    "# instances randomly and reduce the total row count to 10,000, while conserving 500 target rows, our calibration\n",
    "# function becomes:\n",
    "# calibration(model_results, 50000, 500, 10000, 500)\n",
    "# Here model_results is your model probability output array. After you train your model and put the results in it, your function is ready to use. \n",
    "def calibration(data, train_pop, target_pop, sampled_train_pop, sampled_target_pop):\n",
    "    calibrated_data = ((data * (target_pop / train_pop) / (sampled_target_pop / sampled_train_pop)) /\n",
    "    (((1 - data) * (1 - target_pop / train_pop) / (1 - sampled_target_pop / sampled_train_pop)) +\n",
    "     (data * (target_pop / train_pop) / (sampled_target_pop / sampled_train_pop))))\n",
    "    return calibrated_data\n",
    "\n",
    "\n",
    "cols=['toks','hshtgs','twtid','media','links','domns','twttyp','lang','tm','u1id','u1_fllwer_cnt','u1_fllwing_cnt','u1_vrfed','u1_create_tm','u2id','u2_fllwer_cnt','u2_fllwng_cnt','u2_vrfed','u2_create_tm','u1_fllw_u2','reply_tm','retwt_tm','retwt_cmmnt_tm','like_tm',]\n",
    "\n",
    "cols_val = cols[:-4]\n",
    "cols_tgt_tmstmp=[ 'retwt_tm', 'reply_tm', 'like_tm', 'retwt_cmmnt_tm',]\n",
    "cols_tgt=[o.split('_tm')[0] for o in cols_tgt_tmstmp]\n",
    "tgts             = ['Retweet','Reply','Like','RTwCmnt',]\n",
    "assert cols_tgt == ['retwt',  'reply','like','retwt_cmmnt',]\n",
    "tgt2col = dict(zip(tgts, cols_tgt))\n",
    "TCOL=tgt2col[TGT]\n",
    "print('TCOL', TCOL)\n",
    "print(tgt2col)"
   ]
  },
  {
   "cell_type": "markdown",
   "metadata": {},
   "source": [
    "# prep"
   ]
  },
  {
   "cell_type": "code",
   "execution_count": 3,
   "metadata": {},
   "outputs": [],
   "source": [
    "def prp_tgt(df):\n",
    "    df[cols_tgt]=df[cols_tgt_tmstmp].notna()\n",
    "    df.drop(columns=cols_tgt_tmstmp, inplace=True)\n",
    "    display(df[cols_tgt].mean())"
   ]
  },
  {
   "cell_type": "code",
   "execution_count": 4,
   "metadata": {
    "scrolled": false
   },
   "outputs": [
    {
     "name": "stdout",
     "output_type": "stream",
     "text": [
      "(500000, 24)\n"
     ]
    },
    {
     "data": {
      "text/plain": [
       "retwt          0.112638\n",
       "reply          0.027980\n",
       "like           0.439010\n",
       "retwt_cmmnt    0.007676\n",
       "dtype: float64"
      ]
     },
     "metadata": {},
     "output_type": "display_data"
    },
    {
     "name": "stdout",
     "output_type": "stream",
     "text": [
      "CPU times: user 5.19 s, sys: 647 ms, total: 5.83 s\n",
      "Wall time: 6.32 s\n"
     ]
    }
   ],
   "source": [
    "%%time\n",
    "dfval = pd.read_csv(f'{p_in}/trn_{trntmstmp}.tsv',sep='\\x01',header=None,names=cols,nrows=valsz)\n",
    "print(dfval.shape)\n",
    "prp_tgt(dfval)"
   ]
  },
  {
   "cell_type": "markdown",
   "metadata": {},
   "source": [
    "## maybe oversample"
   ]
  },
  {
   "cell_type": "code",
   "execution_count": 5,
   "metadata": {},
   "outputs": [],
   "source": [
    "# df = pd.read_csv(f'{p_in}/trn_{trntmstmp}.tsv',sep='\\x01',header=None,names=cols,nrows=5)\n",
    "# dfval = pd.read_csv(f'{p_in}/trn_{trntmstmp}.tsv',sep='\\x01',header=None,names=cols,nrows=2)\n",
    "# dftrn = pd.read_csv(f'{p_in}/trn_{trntmstmp}.tsv',sep='\\x01',header=None,names=cols,skiprows=2,nrows=3)\n",
    "# display(df.twtid)\n",
    "# display(dfval.twtid)\n",
    "# display(dftrn.twtid)\n",
    "\n",
    "# 0    D4D1EBDE74F74C5DA529959AF979625C\n",
    "# 1    BFB529DAB6D384EB83E899A72AB3830D\n",
    "# 2    519078C7834E9642508F72A6C2D0F3B7\n",
    "# 3    52AAE9E33EFAC8C478C57B31A9E31ED1\n",
    "# 4    89C1298C55EB3D68E2784F0BFB69E6F8\n",
    "# Name: twtid, dtype: object\n",
    "# 0    D4D1EBDE74F74C5DA529959AF979625C\n",
    "# 1    BFB529DAB6D384EB83E899A72AB3830D\n",
    "# Name: twtid, dtype: object\n",
    "# 0    519078C7834E9642508F72A6C2D0F3B7\n",
    "# 1    52AAE9E33EFAC8C478C57B31A9E31ED1\n",
    "# 2    89C1298C55EB3D68E2784F0BFB69E6F8\n",
    "# Name: twtid, dtype: object"
   ]
  },
  {
   "cell_type": "code",
   "execution_count": 6,
   "metadata": {
    "scrolled": true
   },
   "outputs": [
    {
     "name": "stdout",
     "output_type": "stream",
     "text": [
      "(1850000, 24)\n"
     ]
    },
    {
     "data": {
      "text/plain": [
       "retwt          0.112795\n",
       "reply          0.027393\n",
       "like           0.439040\n",
       "retwt_cmmnt    0.007702\n",
       "dtype: float64"
      ]
     },
     "metadata": {},
     "output_type": "display_data"
    },
    {
     "name": "stdout",
     "output_type": "stream",
     "text": [
      "CPU times: user 20.5 s, sys: 1.99 s, total: 22.5 s\n",
      "Wall time: 23.3 s\n"
     ]
    }
   ],
   "source": [
    "%%time\n",
    "if TGT in ('Retweet','Like'): trnpop=trnsz\n",
    "if TGT=='Reply': trnpop=trnsz*3.7\n",
    "if TGT=='RTwCmnt': trnpop=trnsz*11.5\n",
    "assert trnpop<train_total\n",
    "\n",
    "dftrn = pd.read_csv(f'{p_in}/trn_{trntmstmp}.tsv',sep='\\x01',header=None,names=cols,\n",
    "                     skiprows=valsz, nrows=trnpop)\n",
    "print(dftrn.shape)\n",
    "prp_tgt(dftrn)"
   ]
  },
  {
   "cell_type": "code",
   "execution_count": 7,
   "metadata": {
    "scrolled": true
   },
   "outputs": [
    {
     "name": "stdout",
     "output_type": "stream",
     "text": [
      "(500000, 24) 0.101354\n",
      "1850000 50677 500000 50677\n"
     ]
    },
    {
     "data": {
      "text/html": [
       "<div>\n",
       "<style scoped>\n",
       "    .dataframe tbody tr th:only-of-type {\n",
       "        vertical-align: middle;\n",
       "    }\n",
       "\n",
       "    .dataframe tbody tr th {\n",
       "        vertical-align: top;\n",
       "    }\n",
       "\n",
       "    .dataframe thead th {\n",
       "        text-align: right;\n",
       "    }\n",
       "</style>\n",
       "<table border=\"1\" class=\"dataframe\">\n",
       "  <thead>\n",
       "    <tr style=\"text-align: right;\">\n",
       "      <th></th>\n",
       "      <th>toks</th>\n",
       "      <th>hshtgs</th>\n",
       "      <th>twtid</th>\n",
       "      <th>media</th>\n",
       "      <th>links</th>\n",
       "      <th>domns</th>\n",
       "      <th>twttyp</th>\n",
       "      <th>lang</th>\n",
       "      <th>tm</th>\n",
       "      <th>u1id</th>\n",
       "      <th>u1_fllwer_cnt</th>\n",
       "      <th>u1_fllwing_cnt</th>\n",
       "      <th>u1_vrfed</th>\n",
       "      <th>u1_create_tm</th>\n",
       "      <th>u2id</th>\n",
       "      <th>u2_fllwer_cnt</th>\n",
       "      <th>u2_fllwng_cnt</th>\n",
       "      <th>u2_vrfed</th>\n",
       "      <th>u2_create_tm</th>\n",
       "      <th>u1_fllw_u2</th>\n",
       "      <th>retwt</th>\n",
       "      <th>reply</th>\n",
       "      <th>like</th>\n",
       "      <th>retwt_cmmnt</th>\n",
       "    </tr>\n",
       "  </thead>\n",
       "  <tbody>\n",
       "    <tr>\n",
       "      <th>9</th>\n",
       "      <td>101\\t137\\t48201\\t10133\\t44026\\t10884\\t11305\\t9...</td>\n",
       "      <td>NaN</td>\n",
       "      <td>24669C0DADEA57A75F6BE24CAC0ACCB9</td>\n",
       "      <td>Photo</td>\n",
       "      <td>NaN</td>\n",
       "      <td>NaN</td>\n",
       "      <td>TopLevel</td>\n",
       "      <td>22C448FF81263D4BAF2A176145EE9EAD</td>\n",
       "      <td>1580948734</td>\n",
       "      <td>A6E0653718DB85566D3E6D1E2989AC6D</td>\n",
       "      <td>145</td>\n",
       "      <td>61</td>\n",
       "      <td>False</td>\n",
       "      <td>1522591408</td>\n",
       "      <td>06E9B9E30FB6A7F37CA6B42264C30103</td>\n",
       "      <td>407</td>\n",
       "      <td>385</td>\n",
       "      <td>False</td>\n",
       "      <td>1274938010</td>\n",
       "      <td>True</td>\n",
       "      <td>False</td>\n",
       "      <td>True</td>\n",
       "      <td>False</td>\n",
       "      <td>False</td>\n",
       "    </tr>\n",
       "    <tr>\n",
       "      <th>11</th>\n",
       "      <td>101\\t2341\\t7911\\t121\\t12236\\t7596\\t7431\\t12290...</td>\n",
       "      <td>NaN</td>\n",
       "      <td>E15A666B6A975581F5CE3F2286CDB408</td>\n",
       "      <td>Photo</td>\n",
       "      <td>NaN</td>\n",
       "      <td>NaN</td>\n",
       "      <td>TopLevel</td>\n",
       "      <td>22C448FF81263D4BAF2A176145EE9EAD</td>\n",
       "      <td>1581344753</td>\n",
       "      <td>74BD974C794C3C2D604E92F9402AB810</td>\n",
       "      <td>318</td>\n",
       "      <td>252</td>\n",
       "      <td>False</td>\n",
       "      <td>1464834037</td>\n",
       "      <td>06E9B9E30FB6A7F37CA6B42264C30103</td>\n",
       "      <td>407</td>\n",
       "      <td>385</td>\n",
       "      <td>False</td>\n",
       "      <td>1274938010</td>\n",
       "      <td>True</td>\n",
       "      <td>False</td>\n",
       "      <td>True</td>\n",
       "      <td>False</td>\n",
       "      <td>False</td>\n",
       "    </tr>\n",
       "    <tr>\n",
       "      <th>26</th>\n",
       "      <td>101\\t144\\t87051\\t10354\\t16874\\t196\\t10117\\t172...</td>\n",
       "      <td>NaN</td>\n",
       "      <td>D8334D0798821B6A99A9C7A4C9E4E3E1</td>\n",
       "      <td>NaN</td>\n",
       "      <td>8FBB6E6890E2ED0F608F83345CB5EA2F</td>\n",
       "      <td>FFA7BC68DEEFEE9FE34F150D60FEA189</td>\n",
       "      <td>TopLevel</td>\n",
       "      <td>D3164C7FBCF2565DDF915B1B3AEFB1DC</td>\n",
       "      <td>1581149159</td>\n",
       "      <td>4CA2E59BBCCB899954E82B01D61C8DF1</td>\n",
       "      <td>16974</td>\n",
       "      <td>612</td>\n",
       "      <td>False</td>\n",
       "      <td>1397475686</td>\n",
       "      <td>06E9CB2FE3EE244FC5D3E2A7E0B7A460</td>\n",
       "      <td>66</td>\n",
       "      <td>512</td>\n",
       "      <td>False</td>\n",
       "      <td>1498734232</td>\n",
       "      <td>False</td>\n",
       "      <td>False</td>\n",
       "      <td>True</td>\n",
       "      <td>False</td>\n",
       "      <td>False</td>\n",
       "    </tr>\n",
       "    <tr>\n",
       "      <th>96</th>\n",
       "      <td>101\\t11589\\t39520\\t18487\\t58136\\t10121\\t10911\\...</td>\n",
       "      <td>NaN</td>\n",
       "      <td>0C55DCB7494C90953ACE5E70A46B8AA9</td>\n",
       "      <td>NaN</td>\n",
       "      <td>NaN</td>\n",
       "      <td>NaN</td>\n",
       "      <td>TopLevel</td>\n",
       "      <td>06D61DCBBE938971E1EA0C38BD9B5446</td>\n",
       "      <td>1581470640</td>\n",
       "      <td>58867654CB709C6FBA4F332ED479EF1A</td>\n",
       "      <td>418</td>\n",
       "      <td>554</td>\n",
       "      <td>False</td>\n",
       "      <td>1354395470</td>\n",
       "      <td>06E9F8C1FB619A5AE34B3BE57632DB16</td>\n",
       "      <td>178</td>\n",
       "      <td>339</td>\n",
       "      <td>False</td>\n",
       "      <td>1538938782</td>\n",
       "      <td>True</td>\n",
       "      <td>False</td>\n",
       "      <td>True</td>\n",
       "      <td>True</td>\n",
       "      <td>False</td>\n",
       "    </tr>\n",
       "    <tr>\n",
       "      <th>303</th>\n",
       "      <td>101\\t65000\\t112\\t188\\t19556\\t12172\\t10133\\t218...</td>\n",
       "      <td>NaN</td>\n",
       "      <td>3058691BBE196B9A3702A8E7584944E9</td>\n",
       "      <td>NaN</td>\n",
       "      <td>NaN</td>\n",
       "      <td>NaN</td>\n",
       "      <td>TopLevel</td>\n",
       "      <td>D3164C7FBCF2565DDF915B1B3AEFB1DC</td>\n",
       "      <td>1580980182</td>\n",
       "      <td>B31DCBBAE66B1E22B1531F77538E88E7</td>\n",
       "      <td>19</td>\n",
       "      <td>440</td>\n",
       "      <td>False</td>\n",
       "      <td>1476507467</td>\n",
       "      <td>06EADF03A34F162DE8051C27C439F6BB</td>\n",
       "      <td>172</td>\n",
       "      <td>167</td>\n",
       "      <td>False</td>\n",
       "      <td>1418024844</td>\n",
       "      <td>True</td>\n",
       "      <td>False</td>\n",
       "      <td>True</td>\n",
       "      <td>False</td>\n",
       "      <td>False</td>\n",
       "    </tr>\n",
       "  </tbody>\n",
       "</table>\n",
       "</div>"
      ],
      "text/plain": [
       "                                                  toks hshtgs  \\\n",
       "9    101\\t137\\t48201\\t10133\\t44026\\t10884\\t11305\\t9...    NaN   \n",
       "11   101\\t2341\\t7911\\t121\\t12236\\t7596\\t7431\\t12290...    NaN   \n",
       "26   101\\t144\\t87051\\t10354\\t16874\\t196\\t10117\\t172...    NaN   \n",
       "96   101\\t11589\\t39520\\t18487\\t58136\\t10121\\t10911\\...    NaN   \n",
       "303  101\\t65000\\t112\\t188\\t19556\\t12172\\t10133\\t218...    NaN   \n",
       "\n",
       "                                twtid  media  \\\n",
       "9    24669C0DADEA57A75F6BE24CAC0ACCB9  Photo   \n",
       "11   E15A666B6A975581F5CE3F2286CDB408  Photo   \n",
       "26   D8334D0798821B6A99A9C7A4C9E4E3E1    NaN   \n",
       "96   0C55DCB7494C90953ACE5E70A46B8AA9    NaN   \n",
       "303  3058691BBE196B9A3702A8E7584944E9    NaN   \n",
       "\n",
       "                                links                             domns  \\\n",
       "9                                 NaN                               NaN   \n",
       "11                                NaN                               NaN   \n",
       "26   8FBB6E6890E2ED0F608F83345CB5EA2F  FFA7BC68DEEFEE9FE34F150D60FEA189   \n",
       "96                                NaN                               NaN   \n",
       "303                               NaN                               NaN   \n",
       "\n",
       "       twttyp                              lang          tm  \\\n",
       "9    TopLevel  22C448FF81263D4BAF2A176145EE9EAD  1580948734   \n",
       "11   TopLevel  22C448FF81263D4BAF2A176145EE9EAD  1581344753   \n",
       "26   TopLevel  D3164C7FBCF2565DDF915B1B3AEFB1DC  1581149159   \n",
       "96   TopLevel  06D61DCBBE938971E1EA0C38BD9B5446  1581470640   \n",
       "303  TopLevel  D3164C7FBCF2565DDF915B1B3AEFB1DC  1580980182   \n",
       "\n",
       "                                 u1id  u1_fllwer_cnt  u1_fllwing_cnt  \\\n",
       "9    A6E0653718DB85566D3E6D1E2989AC6D            145              61   \n",
       "11   74BD974C794C3C2D604E92F9402AB810            318             252   \n",
       "26   4CA2E59BBCCB899954E82B01D61C8DF1          16974             612   \n",
       "96   58867654CB709C6FBA4F332ED479EF1A            418             554   \n",
       "303  B31DCBBAE66B1E22B1531F77538E88E7             19             440   \n",
       "\n",
       "     u1_vrfed  u1_create_tm                              u2id  u2_fllwer_cnt  \\\n",
       "9       False    1522591408  06E9B9E30FB6A7F37CA6B42264C30103            407   \n",
       "11      False    1464834037  06E9B9E30FB6A7F37CA6B42264C30103            407   \n",
       "26      False    1397475686  06E9CB2FE3EE244FC5D3E2A7E0B7A460             66   \n",
       "96      False    1354395470  06E9F8C1FB619A5AE34B3BE57632DB16            178   \n",
       "303     False    1476507467  06EADF03A34F162DE8051C27C439F6BB            172   \n",
       "\n",
       "     u2_fllwng_cnt  u2_vrfed  u2_create_tm  u1_fllw_u2  retwt  reply   like  \\\n",
       "9              385     False    1274938010        True  False   True  False   \n",
       "11             385     False    1274938010        True  False   True  False   \n",
       "26             512     False    1498734232       False  False   True  False   \n",
       "96             339     False    1538938782        True  False   True   True   \n",
       "303            167     False    1418024844        True  False   True  False   \n",
       "\n",
       "     retwt_cmmnt  \n",
       "9          False  \n",
       "11         False  \n",
       "26         False  \n",
       "96         False  \n",
       "303        False  "
      ]
     },
     "metadata": {},
     "output_type": "display_data"
    },
    {
     "data": {
      "text/plain": [
       "Index(['toks', 'hshtgs', 'twtid', 'media', 'links', 'domns', 'twttyp', 'lang',\n",
       "       'tm', 'u1id', 'u1_fllwer_cnt', 'u1_fllwing_cnt', 'u1_vrfed',\n",
       "       'u1_create_tm', 'u2id', 'u2_fllwer_cnt', 'u2_fllwng_cnt', 'u2_vrfed',\n",
       "       'u2_create_tm', 'u1_fllw_u2', 'retwt', 'reply', 'like', 'retwt_cmmnt'],\n",
       "      dtype='object')"
      ]
     },
     "metadata": {},
     "output_type": "display_data"
    }
   ],
   "source": [
    "train_pop=len(dftrn)\n",
    "sampled_train_pop=trnsz\n",
    "idx_pos = np.where(dftrn[TCOL])[0]\n",
    "target_pop=sampled_target_pop=len(idx_pos)\n",
    "if TGT in ('Reply','RTwCmnt'):\n",
    "    idx_neg0 = np.where(~dftrn[TCOL])[0]\n",
    "    idx_neg = np.random.choice(idx_neg0, trnsz-len(idx_pos), replace=False)\n",
    "    idx = np.concatenate([idx_pos,idx_neg])\n",
    "    dftrn = dftrn.iloc[idx].copy()\n",
    "print(dftrn.shape, dftrn[TCOL].mean())\n",
    "print(train_pop, target_pop, sampled_train_pop, sampled_target_pop)\n",
    "\n",
    "display(dftrn.head())\n",
    "display(dftrn.columns)"
   ]
  },
  {
   "cell_type": "markdown",
   "metadata": {},
   "source": [
    "## prep and features"
   ]
  },
  {
   "cell_type": "code",
   "execution_count": 8,
   "metadata": {},
   "outputs": [],
   "source": [
    "def prp_df(df, tm_max):\n",
    "    '''\n",
    "    tm_max = tm_trn_max for train tm_tst_max for test\n",
    "    '''\n",
    "    lendf = len(df)\n",
    "    print(dtnow(), 'start')\n",
    "    set_u1 = set(df.u1id)\n",
    "    set_u2 = set(df.u2id)\n",
    "    df['u1inu2']=df.u1id.isin(set_u2)\n",
    "    df['u2inu1']=df.u2id.isin(set_u1)\n",
    "\n",
    "    #counts\n",
    "    df['len_toks'] = df.toks.apply(lambda x: len(x.split('\\t')))\n",
    "    df.drop(columns=['toks'], inplace=True)    \n",
    "    for m in ['Photo', 'Video', 'GIF']:\n",
    "        df[f'n_media_{m}'] = df['media'].fillna('').apply(lambda x: x.split('\\t').count(m))\n",
    "    tgnms = ['hshtgs','media', 'links', 'domns',]\n",
    "    for tgnm in tgnms:\n",
    "        df[f'has_{tgnm}']=df[tgnm].notna()\n",
    "        df[f'lst_{tgnm}'] = df[tgnm].fillna('').apply(lambda x: x.split('\\t') if len(x) else [])\n",
    "        df[f'n_{tgnm}'] = df[f'lst_{tgnm}'].apply(len)  \n",
    "    df.drop(columns=['has_links','n_links'], inplace=True) #duplicates has_domns,n_domns \n",
    "    \n",
    "    #time\n",
    "    dt = pd.to_datetime(df.tm, unit='s')\n",
    "    df['dayofweek'] = dt.dt.dayofweek\n",
    "    df['hour'] = dt.dt.hour\n",
    "    \n",
    "    df['tmdlta_u2u1']  = df.u2_create_tm - df.u1_create_tm\n",
    "    df['tmdlta_twtu1'] = df.tm - df.u1_create_tm\n",
    "    df['tmdlta_twtu2'] = df.tm - df.u2_create_tm\n",
    "\n",
    "    df['twt_age']   = tm_max-df.tm\n",
    "    df['u1_age']    = tm_max-df.u1_create_tm\n",
    "    df['u2_age']    = tm_max-df.u2_create_tm\n",
    "    df.drop(columns=['tm', 'u1_create_tm', 'u2_create_tm'], inplace=True)\n",
    "\n",
    "    #time derived\n",
    "    df['u1_fllwer_cnt_by_age'] = df.u1_fllwer_cnt / df.u1_age\n",
    "    df['u1_fllwng_cnt_by_age'] = df.u2_fllwng_cnt / df.u2_age\n",
    "    \n",
    "    #interaction\n",
    "    df['u1u2']=df.u1id+'_'+df.u2id\n",
    "    df['langhour']=df.lang+'_'+df.hour.astype(str)\n",
    "    \n",
    "\n",
    "    #freq of feature values\n",
    "    print(dtnow(), 'freq of columns using CountEncoder')\n",
    "    encoder = ce.CountEncoder()\n",
    "    encoded = encoder.fit_transform(\n",
    "    df[['twtid', 'twttyp', 'lang', 'u1id', 'u1_fllwing_cnt', 'u1_vrfed', 'u2id', 'u2_fllwer_cnt', 'u2_vrfed', 'u1_fllw_u2', \n",
    "       'n_media_Photo', 'n_media_Video', 'n_media_GIF', \n",
    "       'has_hshtgs', 'n_hshtgs', 'has_media', 'n_media','has_domns', 'n_domns', \n",
    "       'dayofweek', 'hour', 'u1u2', 'langhour']].astype(object))\n",
    "    encoded = encoded.astype(int)/lendf\n",
    "    encoded.columns = [f'frq_{col}' for col in encoded.columns]\n",
    "    df = pd.concat([df,encoded],1)\n",
    "    \n",
    "    #freq of tgnm values\n",
    "    print(dtnow(), 'freq of tags')\n",
    "    for tgnm in tgnms:\n",
    "        vs = [j for i in df[f'lst_{tgnm}'] for j in i]\n",
    "        cnt = Counter(vs)\n",
    "        frq = {k:v/lendf for k,v in cnt.items()}\n",
    "        df[f'sumfrq_{tgnm}']=df[f'lst_{tgnm}'].apply(lambda x: sum([frq.get(o,0) for o in x]))\n",
    "        df[f'maxfrq_{tgnm}']=df[f'lst_{tgnm}'].apply(lambda x: max([frq.get(o,0) for o in x]) if len(x) else 0)\n",
    "    df.drop(columns=tgnms+[f'lst_{tgnm}' for tgnm in tgnms],inplace=True)\n",
    "\n",
    "    print(dtnow(), 'done')\n",
    "    return df"
   ]
  },
  {
   "cell_type": "code",
   "execution_count": 9,
   "metadata": {},
   "outputs": [
    {
     "name": "stdout",
     "output_type": "stream",
     "text": [
      "2020-04-11 20:29:29 start\n",
      "2020-04-11 20:29:45 freq of columns using CountEncoder\n"
     ]
    },
    {
     "name": "stderr",
     "output_type": "stream",
     "text": [
      "/data/anaconda3/envs/rcss20/lib/python3.7/site-packages/category_encoders/count.py:255: FutureWarning: The pandas.np module is deprecated and will be removed from pandas in a future version. Import numpy directly instead\n",
      "  X.loc[:, self.cols] = X.fillna(value=pd.np.nan)\n"
     ]
    },
    {
     "name": "stdout",
     "output_type": "stream",
     "text": [
      "2020-04-11 20:30:07 freq of tags\n",
      "2020-04-11 20:30:15 done\n",
      "CPU times: user 39.9 s, sys: 4.19 s, total: 44.1 s\n",
      "Wall time: 46.7 s\n"
     ]
    }
   ],
   "source": [
    "%%time\n",
    "dftrn=prp_df(dftrn, tm_max=tm_trn_max)"
   ]
  },
  {
   "cell_type": "code",
   "execution_count": 10,
   "metadata": {},
   "outputs": [
    {
     "name": "stdout",
     "output_type": "stream",
     "text": [
      "2020-04-11 20:30:16 start\n",
      "2020-04-11 20:30:29 freq of columns using CountEncoder\n",
      "2020-04-11 20:30:47 freq of tags\n",
      "2020-04-11 20:30:54 done\n",
      "CPU times: user 33.5 s, sys: 3.82 s, total: 37.3 s\n",
      "Wall time: 39 s\n"
     ]
    }
   ],
   "source": [
    "%%time\n",
    "dfval=prp_df(dfval, tm_max=tm_trn_max)"
   ]
  },
  {
   "cell_type": "markdown",
   "metadata": {},
   "source": [
    "## tr vl split and target encoding"
   ]
  },
  {
   "cell_type": "code",
   "execution_count": 11,
   "metadata": {},
   "outputs": [
    {
     "data": {
      "text/plain": [
       "30"
      ]
     },
     "execution_count": 11,
     "metadata": {},
     "output_type": "execute_result"
    }
   ],
   "source": [
    "msk_vl=np.random.rand(len(dftrn))<0.15\n",
    "idxvl=np.where( msk_vl)[0]\n",
    "idxtr=np.where(~msk_vl)[0]\n",
    "\n",
    "dftr = dftrn.iloc[idxtr].copy()\n",
    "dfvl = dftrn.iloc[idxvl].copy()\n",
    "del dftrn\n",
    "\n",
    "gc.collect()"
   ]
  },
  {
   "cell_type": "code",
   "execution_count": 12,
   "metadata": {},
   "outputs": [
    {
     "data": {
      "text/plain": [
       "Index(['twtid', 'twttyp', 'lang', 'u1id', 'u1_fllwer_cnt', 'u1_fllwing_cnt',\n",
       "       'u1_vrfed', 'u2id', 'u2_fllwer_cnt', 'u2_fllwng_cnt', 'u2_vrfed',\n",
       "       'u1_fllw_u2', 'retwt', 'reply', 'like', 'retwt_cmmnt', 'u1inu2',\n",
       "       'u2inu1', 'len_toks', 'n_media_Photo', 'n_media_Video', 'n_media_GIF',\n",
       "       'has_hshtgs', 'n_hshtgs', 'has_media', 'n_media', 'has_domns',\n",
       "       'n_domns', 'dayofweek', 'hour', 'tmdlta_u2u1', 'tmdlta_twtu1',\n",
       "       'tmdlta_twtu2', 'twt_age', 'u1_age', 'u2_age', 'u1_fllwer_cnt_by_age',\n",
       "       'u1_fllwng_cnt_by_age', 'u1u2', 'langhour', 'frq_twtid', 'frq_twttyp',\n",
       "       'frq_lang', 'frq_u1id', 'frq_u1_fllwing_cnt', 'frq_u1_vrfed',\n",
       "       'frq_u2id', 'frq_u2_fllwer_cnt', 'frq_u2_vrfed', 'frq_u1_fllw_u2',\n",
       "       'frq_n_media_Photo', 'frq_n_media_Video', 'frq_n_media_GIF',\n",
       "       'frq_has_hshtgs', 'frq_n_hshtgs', 'frq_has_media', 'frq_n_media',\n",
       "       'frq_has_domns', 'frq_n_domns', 'frq_dayofweek', 'frq_hour', 'frq_u1u2',\n",
       "       'frq_langhour', 'sumfrq_hshtgs', 'maxfrq_hshtgs', 'sumfrq_media',\n",
       "       'maxfrq_media', 'sumfrq_links', 'maxfrq_links', 'sumfrq_domns',\n",
       "       'maxfrq_domns'],\n",
       "      dtype='object')"
      ]
     },
     "execution_count": 12,
     "metadata": {},
     "output_type": "execute_result"
    }
   ],
   "source": [
    "dftr.columns"
   ]
  },
  {
   "cell_type": "code",
   "execution_count": 13,
   "metadata": {},
   "outputs": [
    {
     "name": "stdout",
     "output_type": "stream",
     "text": [
      "CPU times: user 36.9 s, sys: 7.03 s, total: 44 s\n",
      "Wall time: 45.4 s\n"
     ]
    }
   ],
   "source": [
    "%%time\n",
    "col2tgtenc=['twtid', 'twttyp', 'lang', 'u1id', 'u1_fllwing_cnt', 'u1_vrfed', 'u2id', 'u2_fllwer_cnt', 'u2_vrfed', 'u1_fllw_u2', \n",
    "   'n_media_Photo', 'n_media_Video', 'n_media_GIF', \n",
    "   'has_hshtgs', 'n_hshtgs', 'has_media', 'n_media','has_domns', 'n_domns', \n",
    "   'dayofweek', 'hour', 'u1u2', 'langhour']\n",
    "tgt_encoder = ce.TargetEncoder()\n",
    "encoded_tr = tgt_encoder.fit_transform(dftr[col2tgtenc].astype(object), dftr[TCOL])\n",
    "encoded_vl = tgt_encoder.transform(dfvl[col2tgtenc].astype(object))\n",
    "encoded_val = tgt_encoder.transform(dfval[col2tgtenc].astype(object))\n",
    "\n",
    "tgtenc_columns = [f'tgtenc_{col}' for col in encoded_tr.columns]\n",
    "encoded_tr.columns = tgtenc_columns\n",
    "encoded_vl.columns = tgtenc_columns\n",
    "encoded_val.columns = tgtenc_columns\n",
    "\n",
    "dftr = pd.concat([dftr, encoded_tr], 1)\n",
    "dfvl = pd.concat([dfvl, encoded_vl], 1)\n",
    "dfval = pd.concat([dfval, encoded_val], 1)\n"
   ]
  },
  {
   "cell_type": "code",
   "execution_count": 14,
   "metadata": {},
   "outputs": [],
   "source": [
    "cols_category=['twttyp', 'lang', 'langhour']\n",
    "for df in dftr,dfvl,dfval:\n",
    "    df.drop(columns=['twtid','u1id','u2id','u1u2'], inplace=True)\n",
    "    df[cols_category]=df[cols_category].astype('category')"
   ]
  },
  {
   "cell_type": "code",
   "execution_count": 15,
   "metadata": {},
   "outputs": [],
   "source": [
    "cols_feat = [col for col in dftr.columns if col not in cols_tgt]"
   ]
  },
  {
   "cell_type": "markdown",
   "metadata": {},
   "source": [
    "# model"
   ]
  },
  {
   "cell_type": "markdown",
   "metadata": {},
   "source": [
    "## cols_feat"
   ]
  },
  {
   "cell_type": "code",
   "execution_count": 16,
   "metadata": {},
   "outputs": [
    {
     "name": "stdout",
     "output_type": "stream",
     "text": [
      "86\n",
      "36\n"
     ]
    }
   ],
   "source": [
    "print(len(cols_feat))\n",
    "cols_feat=['twttyp',\n",
    " 'lang',\n",
    " 'u1_fllwer_cnt',\n",
    " 'u1_fllwing_cnt',\n",
    " 'u1_vrfed',\n",
    " 'u2_fllwer_cnt',\n",
    " 'u2_fllwng_cnt',\n",
    " 'u2_vrfed',\n",
    " 'u1_fllw_u2',\n",
    " 'u1inu2',\n",
    " 'u2inu1',\n",
    " 'len_toks',\n",
    " 'n_media_Photo',\n",
    " 'n_media_Video',\n",
    " 'n_media_GIF',\n",
    "#  'has_hshtgs',\n",
    " 'n_hshtgs',\n",
    "#  'has_media',\n",
    " 'n_media',\n",
    "#  'has_domns',\n",
    " 'n_domns',\n",
    " 'dayofweek',\n",
    " 'hour',\n",
    " 'tmdlta_u2u1',\n",
    " 'tmdlta_twtu1',\n",
    " 'tmdlta_twtu2',\n",
    " 'twt_age',\n",
    " 'u1_age',\n",
    " 'u2_age',\n",
    " 'u1_fllwer_cnt_by_age',\n",
    " 'u1_fllwng_cnt_by_age',\n",
    " 'langhour',\n",
    " 'frq_twtid',\n",
    "#  'frq_twttyp',\n",
    "#  'frq_lang',\n",
    " 'frq_u1id',\n",
    "#  'frq_u1_fllwing_cnt',\n",
    "#  'frq_u1_vrfed',\n",
    " 'frq_u2id',\n",
    "#  'frq_u2_fllwer_cnt',\n",
    "#  'frq_u2_vrfed',\n",
    "#  'frq_u1_fllw_u2',\n",
    "#  'frq_n_media_Photo',\n",
    "#  'frq_n_media_Video',\n",
    "#  'frq_n_media_GIF',\n",
    "#  'frq_has_hshtgs',\n",
    "#  'frq_n_hshtgs',\n",
    "#  'frq_has_media',\n",
    "#  'frq_n_media',\n",
    "#  'frq_has_domns',\n",
    "#  'frq_n_domns',\n",
    "#  'frq_dayofweek',\n",
    "#  'frq_hour',\n",
    " 'frq_u1u2',\n",
    "#  'frq_langhour',\n",
    " 'sumfrq_hshtgs',\n",
    "#  'maxfrq_hshtgs',\n",
    "#  'sumfrq_media',\n",
    "#  'maxfrq_media',\n",
    "#  'sumfrq_links',\n",
    "#  'maxfrq_links',\n",
    " 'sumfrq_domns',\n",
    "#  'maxfrq_domns',\n",
    "#  'tgtenc_twtid',\n",
    "#  'tgtenc_twttyp',\n",
    " 'tgtenc_lang',\n",
    "#  'tgtenc_u1id',\n",
    "#  'tgtenc_u1_fllwing_cnt',\n",
    "#  'tgtenc_u1_vrfed',\n",
    "#  'tgtenc_u2id',\n",
    "#  'tgtenc_u2_fllwer_cnt',\n",
    "#  'tgtenc_u2_vrfed',\n",
    "#  'tgtenc_u1_fllw_u2',\n",
    "#  'tgtenc_n_media_Photo',\n",
    "#  'tgtenc_n_media_Video',\n",
    "#  'tgtenc_n_media_GIF',\n",
    "#  'tgtenc_has_hshtgs',\n",
    "#  'tgtenc_n_hshtgs',\n",
    "#  'tgtenc_has_media',\n",
    "#  'tgtenc_n_media',\n",
    "#  'tgtenc_has_domns',\n",
    "#  'tgtenc_n_domns',\n",
    "#  'tgtenc_dayofweek',\n",
    "#  'tgtenc_hour',\n",
    "#  'tgtenc_u1u2',\n",
    "#  'tgtenc_langhour'\n",
    "          ]\n",
    "print(len(cols_feat))"
   ]
  },
  {
   "cell_type": "code",
   "execution_count": 17,
   "metadata": {},
   "outputs": [],
   "source": [
    "results = {}\n",
    "results['PRFX'] = PRFX\n",
    "results['TGT'] = TGT\n",
    "results['cols_feat'] = cols_feat\n",
    "results['tgt_encoder'] = tgt_encoder\n",
    "results['col2tgtenc'] = col2tgtenc"
   ]
  },
  {
   "cell_type": "code",
   "execution_count": 18,
   "metadata": {},
   "outputs": [],
   "source": [
    "params={\n",
    "    'objective': 'binary',\n",
    "    'metric': 'binary_logloss',\n",
    "    'verbosity': 0,    \n",
    "}\n",
    "results['params'] = params"
   ]
  },
  {
   "cell_type": "code",
   "execution_count": 19,
   "metadata": {
    "scrolled": true
   },
   "outputs": [
    {
     "name": "stderr",
     "output_type": "stream",
     "text": [
      "/data/anaconda3/envs/rcss20/lib/python3.7/site-packages/optuna/_experimental.py:87: ExperimentalWarning: train is experimental (supported from v0.18.0). The interface can change in the future.\n",
      "  ExperimentalWarning\n",
      "tune_feature_fraction, val_score: inf:   0%|          | 0/7 [00:00<?, ?it/s]"
     ]
    },
    {
     "name": "stdout",
     "output_type": "stream",
     "text": [
      "Training until validation scores don't improve for 100 rounds\n",
      "[100]\ttr's binary_logloss: 0.271637\tvl's binary_logloss: 0.280744\n",
      "[200]\ttr's binary_logloss: 0.265318\tvl's binary_logloss: 0.280378\n",
      "[300]\ttr's binary_logloss: 0.259913\tvl's binary_logloss: 0.280298\n",
      "[400]\ttr's binary_logloss: 0.254982\tvl's binary_logloss: 0.280271\n",
      "Early stopping, best iteration is:\n",
      "[349]\ttr's binary_logloss: 0.257483\tvl's binary_logloss: 0.280161\n"
     ]
    },
    {
     "name": "stderr",
     "output_type": "stream",
     "text": [
      "tune_feature_fraction, val_score: 0.280161:  14%|#4        | 1/7 [00:22<02:17, 22.84s/it]"
     ]
    },
    {
     "name": "stdout",
     "output_type": "stream",
     "text": [
      "Training until validation scores don't improve for 100 rounds\n",
      "[100]\ttr's binary_logloss: 0.270884\tvl's binary_logloss: 0.280999\n",
      "[200]\ttr's binary_logloss: 0.263947\tvl's binary_logloss: 0.280682\n",
      "[300]\ttr's binary_logloss: 0.258027\tvl's binary_logloss: 0.280494\n",
      "Early stopping, best iteration is:\n",
      "[299]\ttr's binary_logloss: 0.258086\tvl's binary_logloss: 0.280489\n"
     ]
    },
    {
     "name": "stderr",
     "output_type": "stream",
     "text": [
      "tune_feature_fraction, val_score: 0.280161:  29%|##8       | 2/7 [00:45<01:53, 22.65s/it]"
     ]
    },
    {
     "name": "stdout",
     "output_type": "stream",
     "text": [
      "Training until validation scores don't improve for 100 rounds\n",
      "[100]\ttr's binary_logloss: 0.269552\tvl's binary_logloss: 0.281142\n",
      "[200]\ttr's binary_logloss: 0.262368\tvl's binary_logloss: 0.280843\n",
      "[300]\ttr's binary_logloss: 0.25614\tvl's binary_logloss: 0.280811\n",
      "Early stopping, best iteration is:\n",
      "[235]\ttr's binary_logloss: 0.260013\tvl's binary_logloss: 0.280698\n"
     ]
    },
    {
     "name": "stderr",
     "output_type": "stream",
     "text": [
      "tune_feature_fraction, val_score: 0.280161:  43%|####2     | 3/7 [01:03<01:24, 21.23s/it]"
     ]
    },
    {
     "name": "stdout",
     "output_type": "stream",
     "text": [
      "Training until validation scores don't improve for 100 rounds\n",
      "[100]\ttr's binary_logloss: 0.26893\tvl's binary_logloss: 0.281275\n",
      "[200]\ttr's binary_logloss: 0.261427\tvl's binary_logloss: 0.280844\n",
      "[300]\ttr's binary_logloss: 0.255293\tvl's binary_logloss: 0.280769\n",
      "Early stopping, best iteration is:\n",
      "[259]\ttr's binary_logloss: 0.257684\tvl's binary_logloss: 0.28067\n"
     ]
    },
    {
     "name": "stderr",
     "output_type": "stream",
     "text": [
      "tune_feature_fraction, val_score: 0.280161:  57%|#####7    | 4/7 [01:23<01:03, 21.06s/it]"
     ]
    },
    {
     "name": "stdout",
     "output_type": "stream",
     "text": [
      "Training until validation scores don't improve for 100 rounds\n",
      "[100]\ttr's binary_logloss: 0.267904\tvl's binary_logloss: 0.281648\n",
      "[200]\ttr's binary_logloss: 0.259742\tvl's binary_logloss: 0.281442\n",
      "[300]\ttr's binary_logloss: 0.253226\tvl's binary_logloss: 0.281521\n",
      "Early stopping, best iteration is:\n",
      "[267]\ttr's binary_logloss: 0.25541\tvl's binary_logloss: 0.281399\n"
     ]
    },
    {
     "name": "stderr",
     "output_type": "stream",
     "text": [
      "tune_feature_fraction, val_score: 0.280161:  71%|#######1  | 5/7 [01:37<00:38, 19.02s/it]"
     ]
    },
    {
     "name": "stdout",
     "output_type": "stream",
     "text": [
      "Training until validation scores don't improve for 100 rounds\n",
      "[100]\ttr's binary_logloss: 0.266975\tvl's binary_logloss: 0.282258\n",
      "[200]\ttr's binary_logloss: 0.259155\tvl's binary_logloss: 0.282029\n",
      "Early stopping, best iteration is:\n",
      "[183]\ttr's binary_logloss: 0.260287\tvl's binary_logloss: 0.281885\n"
     ]
    },
    {
     "name": "stderr",
     "output_type": "stream",
     "text": [
      "tune_feature_fraction, val_score: 0.280161:  86%|########5 | 6/7 [01:47<00:16, 16.17s/it]"
     ]
    },
    {
     "name": "stdout",
     "output_type": "stream",
     "text": [
      "Training until validation scores don't improve for 100 rounds\n",
      "[100]\ttr's binary_logloss: 0.266203\tvl's binary_logloss: 0.28268\n",
      "[200]\ttr's binary_logloss: 0.257657\tvl's binary_logloss: 0.282604\n",
      "Early stopping, best iteration is:\n",
      "[145]\ttr's binary_logloss: 0.261932\tvl's binary_logloss: 0.282521\n"
     ]
    },
    {
     "name": "stderr",
     "output_type": "stream",
     "text": [
      "tune_feature_fraction, val_score: 0.280161: 100%|##########| 7/7 [01:56<00:00, 16.68s/it]\n",
      "tune_num_leaves, val_score: 0.280161:   0%|          | 0/20 [00:00<?, ?it/s]"
     ]
    },
    {
     "name": "stdout",
     "output_type": "stream",
     "text": [
      "Training until validation scores don't improve for 100 rounds\n",
      "[100]\ttr's binary_logloss: 0.252789\tvl's binary_logloss: 0.28023\n",
      "Early stopping, best iteration is:\n",
      "[87]\ttr's binary_logloss: 0.255585\tvl's binary_logloss: 0.280157\n"
     ]
    },
    {
     "name": "stderr",
     "output_type": "stream",
     "text": [
      "tune_num_leaves, val_score: 0.280157:   5%|5         | 1/20 [00:08<02:36,  8.21s/it]"
     ]
    },
    {
     "name": "stdout",
     "output_type": "stream",
     "text": [
      "Training until validation scores don't improve for 100 rounds\n",
      "[100]\ttr's binary_logloss: 0.252789\tvl's binary_logloss: 0.28023\n",
      "Early stopping, best iteration is:\n",
      "[87]\ttr's binary_logloss: 0.255585\tvl's binary_logloss: 0.280157\n"
     ]
    },
    {
     "name": "stderr",
     "output_type": "stream",
     "text": [
      "tune_num_leaves, val_score: 0.280157:  10%|#         | 2/20 [00:16<02:28,  8.24s/it]"
     ]
    },
    {
     "name": "stdout",
     "output_type": "stream",
     "text": [
      "Training until validation scores don't improve for 100 rounds\n",
      "[100]\ttr's binary_logloss: 0.243395\tvl's binary_logloss: 0.279848\n",
      "[200]\ttr's binary_logloss: 0.221511\tvl's binary_logloss: 0.280257\n",
      "Early stopping, best iteration is:\n",
      "[101]\ttr's binary_logloss: 0.243182\tvl's binary_logloss: 0.279836\n"
     ]
    },
    {
     "name": "stderr",
     "output_type": "stream",
     "text": [
      "tune_num_leaves, val_score: 0.279836:  15%|#5        | 3/20 [00:27<02:32,  8.95s/it]"
     ]
    },
    {
     "name": "stdout",
     "output_type": "stream",
     "text": [
      "Training until validation scores don't improve for 100 rounds\n",
      "[100]\ttr's binary_logloss: 0.242602\tvl's binary_logloss: 0.27984\n",
      "Early stopping, best iteration is:\n",
      "[93]\ttr's binary_logloss: 0.244692\tvl's binary_logloss: 0.279764\n"
     ]
    },
    {
     "name": "stderr",
     "output_type": "stream",
     "text": [
      "tune_num_leaves, val_score: 0.279764:  20%|##        | 4/20 [00:37<02:28,  9.30s/it]"
     ]
    },
    {
     "name": "stdout",
     "output_type": "stream",
     "text": [
      "Training until validation scores don't improve for 100 rounds\n",
      "[100]\ttr's binary_logloss: 0.263661\tvl's binary_logloss: 0.279824\n",
      "[200]\ttr's binary_logloss: 0.253061\tvl's binary_logloss: 0.279856\n",
      "Early stopping, best iteration is:\n",
      "[193]\ttr's binary_logloss: 0.253787\tvl's binary_logloss: 0.279749\n"
     ]
    },
    {
     "name": "stderr",
     "output_type": "stream",
     "text": [
      "tune_num_leaves, val_score: 0.279749:  25%|##5       | 5/20 [00:47<02:21,  9.46s/it]"
     ]
    },
    {
     "name": "stdout",
     "output_type": "stream",
     "text": [
      "Training until validation scores don't improve for 100 rounds\n",
      "[100]\ttr's binary_logloss: 0.24515\tvl's binary_logloss: 0.279913\n",
      "Early stopping, best iteration is:\n",
      "[88]\ttr's binary_logloss: 0.248108\tvl's binary_logloss: 0.279862\n"
     ]
    },
    {
     "name": "stderr",
     "output_type": "stream",
     "text": [
      "tune_num_leaves, val_score: 0.279749:  30%|###       | 6/20 [00:56<02:12,  9.49s/it]"
     ]
    },
    {
     "name": "stdout",
     "output_type": "stream",
     "text": [
      "Training until validation scores don't improve for 100 rounds\n",
      "[100]\ttr's binary_logloss: 0.258118\tvl's binary_logloss: 0.279928\n",
      "[200]\ttr's binary_logloss: 0.244665\tvl's binary_logloss: 0.280307\n",
      "Early stopping, best iteration is:\n",
      "[105]\ttr's binary_logloss: 0.257297\tvl's binary_logloss: 0.279921\n"
     ]
    },
    {
     "name": "stderr",
     "output_type": "stream",
     "text": [
      "tune_num_leaves, val_score: 0.279749:  35%|###5      | 7/20 [01:04<01:58,  9.10s/it]"
     ]
    },
    {
     "name": "stdout",
     "output_type": "stream",
     "text": [
      "Training until validation scores don't improve for 100 rounds\n",
      "[100]\ttr's binary_logloss: 0.235331\tvl's binary_logloss: 0.280105\n",
      "Early stopping, best iteration is:\n",
      "[92]\ttr's binary_logloss: 0.23779\tvl's binary_logloss: 0.279981\n"
     ]
    },
    {
     "name": "stderr",
     "output_type": "stream",
     "text": [
      "tune_num_leaves, val_score: 0.279749:  40%|####      | 8/20 [01:15<01:56,  9.69s/it]"
     ]
    },
    {
     "name": "stdout",
     "output_type": "stream",
     "text": [
      "Training until validation scores don't improve for 100 rounds\n",
      "[100]\ttr's binary_logloss: 0.243118\tvl's binary_logloss: 0.279887\n",
      "Early stopping, best iteration is:\n",
      "[84]\ttr's binary_logloss: 0.247481\tvl's binary_logloss: 0.279793\n"
     ]
    },
    {
     "name": "stderr",
     "output_type": "stream",
     "text": [
      "tune_num_leaves, val_score: 0.279749:  45%|####5     | 9/20 [01:25<01:46,  9.64s/it]"
     ]
    },
    {
     "name": "stdout",
     "output_type": "stream",
     "text": [
      "Training until validation scores don't improve for 100 rounds\n",
      "[100]\ttr's binary_logloss: 0.241543\tvl's binary_logloss: 0.28004\n",
      "Early stopping, best iteration is:\n",
      "[87]\ttr's binary_logloss: 0.245182\tvl's binary_logloss: 0.279913\n"
     ]
    },
    {
     "name": "stderr",
     "output_type": "stream",
     "text": [
      "tune_num_leaves, val_score: 0.279749:  50%|#####     | 10/20 [01:35<01:37,  9.75s/it]"
     ]
    },
    {
     "name": "stdout",
     "output_type": "stream",
     "text": [
      "Training until validation scores don't improve for 100 rounds\n",
      "[100]\ttr's binary_logloss: 0.27947\tvl's binary_logloss: 0.282922\n",
      "[200]\ttr's binary_logloss: 0.276037\tvl's binary_logloss: 0.281753\n",
      "[300]\ttr's binary_logloss: 0.273498\tvl's binary_logloss: 0.28126\n",
      "[400]\ttr's binary_logloss: 0.271411\tvl's binary_logloss: 0.280907\n",
      "[500]\ttr's binary_logloss: 0.269358\tvl's binary_logloss: 0.280741\n",
      "[600]\ttr's binary_logloss: 0.267521\tvl's binary_logloss: 0.280598\n",
      "Early stopping, best iteration is:\n",
      "[581]\ttr's binary_logloss: 0.267852\tvl's binary_logloss: 0.280579\n"
     ]
    },
    {
     "name": "stderr",
     "output_type": "stream",
     "text": [
      "tune_num_leaves, val_score: 0.279749:  55%|#####5    | 11/20 [01:50<01:41, 11.28s/it]"
     ]
    },
    {
     "name": "stdout",
     "output_type": "stream",
     "text": [
      "Training until validation scores don't improve for 100 rounds\n",
      "[100]\ttr's binary_logloss: 0.268523\tvl's binary_logloss: 0.28041\n",
      "[200]\ttr's binary_logloss: 0.260767\tvl's binary_logloss: 0.280065\n",
      "[300]\ttr's binary_logloss: 0.253926\tvl's binary_logloss: 0.280121\n",
      "Early stopping, best iteration is:\n",
      "[211]\ttr's binary_logloss: 0.259827\tvl's binary_logloss: 0.280035\n"
     ]
    },
    {
     "name": "stderr",
     "output_type": "stream",
     "text": [
      "tune_num_leaves, val_score: 0.279749:  60%|######    | 12/20 [01:59<01:25, 10.67s/it]"
     ]
    },
    {
     "name": "stdout",
     "output_type": "stream",
     "text": [
      "Training until validation scores don't improve for 100 rounds\n",
      "[100]\ttr's binary_logloss: 0.264138\tvl's binary_logloss: 0.280116\n",
      "[200]\ttr's binary_logloss: 0.253858\tvl's binary_logloss: 0.280071\n",
      "Early stopping, best iteration is:\n",
      "[181]\ttr's binary_logloss: 0.255669\tvl's binary_logloss: 0.279964\n"
     ]
    },
    {
     "name": "stderr",
     "output_type": "stream",
     "text": [
      "tune_num_leaves, val_score: 0.279749:  65%|######5   | 13/20 [02:09<01:12, 10.29s/it]"
     ]
    },
    {
     "name": "stdout",
     "output_type": "stream",
     "text": [
      "Training until validation scores don't improve for 100 rounds\n",
      "[100]\ttr's binary_logloss: 0.2331\tvl's binary_logloss: 0.280385\n",
      "Early stopping, best iteration is:\n",
      "[70]\ttr's binary_logloss: 0.243552\tvl's binary_logloss: 0.280131\n"
     ]
    },
    {
     "name": "stderr",
     "output_type": "stream",
     "text": [
      "tune_num_leaves, val_score: 0.279749:  70%|#######   | 14/20 [02:19<01:01, 10.30s/it]"
     ]
    },
    {
     "name": "stdout",
     "output_type": "stream",
     "text": [
      "Training until validation scores don't improve for 100 rounds\n",
      "[100]\ttr's binary_logloss: 0.291685\tvl's binary_logloss: 0.292068\n",
      "[200]\ttr's binary_logloss: 0.288558\tvl's binary_logloss: 0.288958\n",
      "[300]\ttr's binary_logloss: 0.287354\tvl's binary_logloss: 0.28781\n",
      "[400]\ttr's binary_logloss: 0.286717\tvl's binary_logloss: 0.28727\n",
      "[500]\ttr's binary_logloss: 0.286323\tvl's binary_logloss: 0.28697\n",
      "[600]\ttr's binary_logloss: 0.286054\tvl's binary_logloss: 0.286762\n",
      "[700]\ttr's binary_logloss: 0.285852\tvl's binary_logloss: 0.286612\n",
      "[800]\ttr's binary_logloss: 0.285688\tvl's binary_logloss: 0.286491\n",
      "[900]\ttr's binary_logloss: 0.285553\tvl's binary_logloss: 0.286383\n",
      "[1000]\ttr's binary_logloss: 0.28544\tvl's binary_logloss: 0.286307\n",
      "[1100]\ttr's binary_logloss: 0.28534\tvl's binary_logloss: 0.286259\n",
      "[1200]\ttr's binary_logloss: 0.285253\tvl's binary_logloss: 0.286206\n",
      "[1300]\ttr's binary_logloss: 0.285177\tvl's binary_logloss: 0.286166\n",
      "[1400]\ttr's binary_logloss: 0.285109\tvl's binary_logloss: 0.286145\n",
      "[1500]\ttr's binary_logloss: 0.285047\tvl's binary_logloss: 0.286116\n",
      "[1600]\ttr's binary_logloss: 0.284992\tvl's binary_logloss: 0.286082\n",
      "[1700]\ttr's binary_logloss: 0.284942\tvl's binary_logloss: 0.286064\n",
      "[1800]\ttr's binary_logloss: 0.284897\tvl's binary_logloss: 0.28604\n",
      "[1900]\ttr's binary_logloss: 0.284855\tvl's binary_logloss: 0.286035\n",
      "[2000]\ttr's binary_logloss: 0.284817\tvl's binary_logloss: 0.286021\n",
      "[2100]\ttr's binary_logloss: 0.284782\tvl's binary_logloss: 0.286001\n",
      "[2200]\ttr's binary_logloss: 0.284749\tvl's binary_logloss: 0.285989\n",
      "[2300]\ttr's binary_logloss: 0.284718\tvl's binary_logloss: 0.285976\n",
      "[2400]\ttr's binary_logloss: 0.284689\tvl's binary_logloss: 0.285971\n",
      "[2500]\ttr's binary_logloss: 0.284662\tvl's binary_logloss: 0.285967\n",
      "[2600]\ttr's binary_logloss: 0.284637\tvl's binary_logloss: 0.285956\n",
      "[2700]\ttr's binary_logloss: 0.284613\tvl's binary_logloss: 0.285941\n",
      "[2800]\ttr's binary_logloss: 0.284589\tvl's binary_logloss: 0.28594\n",
      "Early stopping, best iteration is:\n",
      "[2711]\ttr's binary_logloss: 0.28461\tvl's binary_logloss: 0.285938\n"
     ]
    },
    {
     "name": "stderr",
     "output_type": "stream",
     "text": [
      "tune_num_leaves, val_score: 0.279749:  75%|#######5  | 15/20 [03:06<01:47, 21.42s/it]"
     ]
    },
    {
     "name": "stdout",
     "output_type": "stream",
     "text": [
      "Training until validation scores don't improve for 100 rounds\n",
      "[100]\ttr's binary_logloss: 0.236802\tvl's binary_logloss: 0.280168\n",
      "Early stopping, best iteration is:\n",
      "[95]\ttr's binary_logloss: 0.238464\tvl's binary_logloss: 0.280061\n"
     ]
    },
    {
     "name": "stderr",
     "output_type": "stream",
     "text": [
      "tune_num_leaves, val_score: 0.279749:  80%|########  | 16/20 [03:17<01:13, 18.27s/it]"
     ]
    },
    {
     "name": "stdout",
     "output_type": "stream",
     "text": [
      "Training until validation scores don't improve for 100 rounds\n",
      "[100]\ttr's binary_logloss: 0.259929\tvl's binary_logloss: 0.279928\n",
      "[200]\ttr's binary_logloss: 0.247114\tvl's binary_logloss: 0.280115\n",
      "Early stopping, best iteration is:\n",
      "[161]\ttr's binary_logloss: 0.251694\tvl's binary_logloss: 0.279908\n"
     ]
    },
    {
     "name": "stderr",
     "output_type": "stream",
     "text": [
      "tune_num_leaves, val_score: 0.279749:  85%|########5 | 17/20 [03:27<00:47, 15.74s/it]"
     ]
    },
    {
     "name": "stdout",
     "output_type": "stream",
     "text": [
      "Training until validation scores don't improve for 100 rounds\n",
      "[100]\ttr's binary_logloss: 0.247872\tvl's binary_logloss: 0.279809\n",
      "Early stopping, best iteration is:\n",
      "[99]\ttr's binary_logloss: 0.248152\tvl's binary_logloss: 0.279801\n"
     ]
    },
    {
     "name": "stderr",
     "output_type": "stream",
     "text": [
      "tune_num_leaves, val_score: 0.279749:  90%|######### | 18/20 [03:37<00:27, 13.88s/it]"
     ]
    },
    {
     "name": "stdout",
     "output_type": "stream",
     "text": [
      "Training until validation scores don't improve for 100 rounds\n",
      "[100]\ttr's binary_logloss: 0.269258\tvl's binary_logloss: 0.280534\n",
      "[200]\ttr's binary_logloss: 0.26184\tvl's binary_logloss: 0.280272\n",
      "[300]\ttr's binary_logloss: 0.255419\tvl's binary_logloss: 0.280299\n",
      "[400]\ttr's binary_logloss: 0.249773\tvl's binary_logloss: 0.28032\n",
      "Early stopping, best iteration is:\n",
      "[363]\ttr's binary_logloss: 0.251968\tvl's binary_logloss: 0.280164\n"
     ]
    },
    {
     "name": "stderr",
     "output_type": "stream",
     "text": [
      "tune_num_leaves, val_score: 0.279749:  95%|#########5| 19/20 [03:50<00:13, 13.87s/it]"
     ]
    },
    {
     "name": "stdout",
     "output_type": "stream",
     "text": [
      "Training until validation scores don't improve for 100 rounds\n",
      "[100]\ttr's binary_logloss: 0.238604\tvl's binary_logloss: 0.280073\n",
      "Early stopping, best iteration is:\n",
      "[93]\ttr's binary_logloss: 0.240752\tvl's binary_logloss: 0.280019\n"
     ]
    },
    {
     "name": "stderr",
     "output_type": "stream",
     "text": [
      "tune_num_leaves, val_score: 0.279749: 100%|##########| 20/20 [04:01<00:00, 12.07s/it]\n",
      "tune_bagging_fraction_and_bagging_freq, val_score: 0.279749:   0%|          | 0/10 [00:00<?, ?it/s]"
     ]
    },
    {
     "name": "stdout",
     "output_type": "stream",
     "text": [
      "Training until validation scores don't improve for 100 rounds\n",
      "[100]\ttr's binary_logloss: 0.265592\tvl's binary_logloss: 0.280352\n",
      "[200]\ttr's binary_logloss: 0.255279\tvl's binary_logloss: 0.280241\n",
      "Early stopping, best iteration is:\n",
      "[157]\ttr's binary_logloss: 0.259462\tvl's binary_logloss: 0.280052\n"
     ]
    },
    {
     "name": "stderr",
     "output_type": "stream",
     "text": [
      "tune_bagging_fraction_and_bagging_freq, val_score: 0.279749:  10%|#         | 1/10 [00:09<01:27,  9.77s/it]"
     ]
    },
    {
     "name": "stdout",
     "output_type": "stream",
     "text": [
      "Training until validation scores don't improve for 100 rounds\n",
      "[100]\ttr's binary_logloss: 0.264796\tvl's binary_logloss: 0.280475\n",
      "Early stopping, best iteration is:\n",
      "[97]\ttr's binary_logloss: 0.265197\tvl's binary_logloss: 0.280418\n"
     ]
    },
    {
     "name": "stderr",
     "output_type": "stream",
     "text": [
      "tune_bagging_fraction_and_bagging_freq, val_score: 0.279749:  20%|##        | 2/10 [00:18<01:14,  9.37s/it]"
     ]
    },
    {
     "name": "stdout",
     "output_type": "stream",
     "text": [
      "Training until validation scores don't improve for 100 rounds\n",
      "[100]\ttr's binary_logloss: 0.263917\tvl's binary_logloss: 0.280268\n",
      "[200]\ttr's binary_logloss: 0.253676\tvl's binary_logloss: 0.280269\n",
      "Early stopping, best iteration is:\n",
      "[160]\ttr's binary_logloss: 0.257339\tvl's binary_logloss: 0.280172\n"
     ]
    },
    {
     "name": "stderr",
     "output_type": "stream",
     "text": [
      "tune_bagging_fraction_and_bagging_freq, val_score: 0.279749:  30%|###       | 3/10 [00:28<01:08,  9.77s/it]"
     ]
    },
    {
     "name": "stdout",
     "output_type": "stream",
     "text": [
      "Training until validation scores don't improve for 100 rounds\n",
      "[100]\ttr's binary_logloss: 0.263739\tvl's binary_logloss: 0.280389\n",
      "[200]\ttr's binary_logloss: 0.25365\tvl's binary_logloss: 0.280247\n",
      "Early stopping, best iteration is:\n",
      "[196]\ttr's binary_logloss: 0.254062\tvl's binary_logloss: 0.280229\n"
     ]
    },
    {
     "name": "stderr",
     "output_type": "stream",
     "text": [
      "tune_bagging_fraction_and_bagging_freq, val_score: 0.279749:  40%|####      | 4/10 [00:41<01:03, 10.59s/it]"
     ]
    },
    {
     "name": "stdout",
     "output_type": "stream",
     "text": [
      "Training until validation scores don't improve for 100 rounds\n",
      "[100]\ttr's binary_logloss: 0.266103\tvl's binary_logloss: 0.281045\n",
      "[200]\ttr's binary_logloss: 0.255857\tvl's binary_logloss: 0.281599\n",
      "Early stopping, best iteration is:\n",
      "[106]\ttr's binary_logloss: 0.265444\tvl's binary_logloss: 0.280972\n"
     ]
    },
    {
     "name": "stderr",
     "output_type": "stream",
     "text": [
      "tune_bagging_fraction_and_bagging_freq, val_score: 0.279749:  50%|#####     | 5/10 [00:49<00:48,  9.78s/it]"
     ]
    },
    {
     "name": "stdout",
     "output_type": "stream",
     "text": [
      "Training until validation scores don't improve for 100 rounds\n",
      "[100]\ttr's binary_logloss: 0.26486\tvl's binary_logloss: 0.280407\n",
      "[200]\ttr's binary_logloss: 0.254436\tvl's binary_logloss: 0.280083\n",
      "Early stopping, best iteration is:\n",
      "[172]\ttr's binary_logloss: 0.257064\tvl's binary_logloss: 0.280026\n"
     ]
    },
    {
     "name": "stderr",
     "output_type": "stream",
     "text": [
      "tune_bagging_fraction_and_bagging_freq, val_score: 0.279749:  60%|######    | 6/10 [01:01<00:41, 10.34s/it]"
     ]
    },
    {
     "name": "stdout",
     "output_type": "stream",
     "text": [
      "Training until validation scores don't improve for 100 rounds\n",
      "[100]\ttr's binary_logloss: 0.265315\tvl's binary_logloss: 0.280142\n",
      "[200]\ttr's binary_logloss: 0.255022\tvl's binary_logloss: 0.280177\n",
      "Early stopping, best iteration is:\n",
      "[189]\ttr's binary_logloss: 0.255973\tvl's binary_logloss: 0.280005\n"
     ]
    },
    {
     "name": "stderr",
     "output_type": "stream",
     "text": [
      "tune_bagging_fraction_and_bagging_freq, val_score: 0.279749:  70%|#######   | 7/10 [01:13<00:33, 11.09s/it]"
     ]
    },
    {
     "name": "stdout",
     "output_type": "stream",
     "text": [
      "Training until validation scores don't improve for 100 rounds\n",
      "[100]\ttr's binary_logloss: 0.264168\tvl's binary_logloss: 0.280288\n",
      "[200]\ttr's binary_logloss: 0.254081\tvl's binary_logloss: 0.280297\n",
      "Early stopping, best iteration is:\n",
      "[180]\ttr's binary_logloss: 0.255876\tvl's binary_logloss: 0.28016\n"
     ]
    },
    {
     "name": "stderr",
     "output_type": "stream",
     "text": [
      "tune_bagging_fraction_and_bagging_freq, val_score: 0.279749:  80%|########  | 8/10 [01:25<00:22, 11.23s/it]"
     ]
    },
    {
     "name": "stdout",
     "output_type": "stream",
     "text": [
      "Training until validation scores don't improve for 100 rounds\n",
      "[100]\ttr's binary_logloss: 0.26559\tvl's binary_logloss: 0.280271\n",
      "[200]\ttr's binary_logloss: 0.255239\tvl's binary_logloss: 0.280483\n",
      "Early stopping, best iteration is:\n",
      "[165]\ttr's binary_logloss: 0.258649\tvl's binary_logloss: 0.280143\n"
     ]
    },
    {
     "name": "stderr",
     "output_type": "stream",
     "text": [
      "tune_bagging_fraction_and_bagging_freq, val_score: 0.279749:  90%|######### | 9/10 [01:36<00:11, 11.04s/it]"
     ]
    },
    {
     "name": "stdout",
     "output_type": "stream",
     "text": [
      "Training until validation scores don't improve for 100 rounds\n",
      "[100]\ttr's binary_logloss: 0.266064\tvl's binary_logloss: 0.280955\n",
      "[200]\ttr's binary_logloss: 0.255975\tvl's binary_logloss: 0.281131\n",
      "Early stopping, best iteration is:\n",
      "[131]\ttr's binary_logloss: 0.262683\tvl's binary_logloss: 0.280861\n"
     ]
    },
    {
     "name": "stderr",
     "output_type": "stream",
     "text": [
      "tune_bagging_fraction_and_bagging_freq, val_score: 0.279749: 100%|##########| 10/10 [01:45<00:00, 10.53s/it]\n",
      "tune_feature_fraction, val_score: 0.279749:   0%|          | 0/3 [00:00<?, ?it/s]"
     ]
    },
    {
     "name": "stdout",
     "output_type": "stream",
     "text": [
      "Training until validation scores don't improve for 100 rounds\n",
      "[100]\ttr's binary_logloss: 0.262979\tvl's binary_logloss: 0.280139\n",
      "[200]\ttr's binary_logloss: 0.252126\tvl's binary_logloss: 0.280173\n",
      "Early stopping, best iteration is:\n",
      "[137]\ttr's binary_logloss: 0.258682\tvl's binary_logloss: 0.280089\n"
     ]
    },
    {
     "name": "stderr",
     "output_type": "stream",
     "text": [
      "tune_feature_fraction, val_score: 0.279749:  33%|###3      | 1/3 [00:08<00:17,  8.76s/it]"
     ]
    },
    {
     "name": "stdout",
     "output_type": "stream",
     "text": [
      "Training until validation scores don't improve for 100 rounds\n",
      "[100]\ttr's binary_logloss: 0.262549\tvl's binary_logloss: 0.280104\n",
      "Early stopping, best iteration is:\n",
      "[96]\ttr's binary_logloss: 0.263142\tvl's binary_logloss: 0.28007\n"
     ]
    },
    {
     "name": "stderr",
     "output_type": "stream",
     "text": [
      "tune_feature_fraction, val_score: 0.279749:  67%|######6   | 2/3 [00:15<00:08,  8.20s/it]"
     ]
    },
    {
     "name": "stdout",
     "output_type": "stream",
     "text": [
      "Training until validation scores don't improve for 100 rounds\n",
      "[100]\ttr's binary_logloss: 0.262377\tvl's binary_logloss: 0.28025\n",
      "Early stopping, best iteration is:\n",
      "[92]\ttr's binary_logloss: 0.263514\tvl's binary_logloss: 0.280189\n"
     ]
    },
    {
     "name": "stderr",
     "output_type": "stream",
     "text": [
      "tune_feature_fraction, val_score: 0.279749: 100%|##########| 3/3 [00:22<00:00,  7.60s/it]\n",
      "tune_lambda_l1_and_lambda_l2, val_score: 0.279749:   0%|          | 0/20 [00:00<?, ?it/s]"
     ]
    },
    {
     "name": "stdout",
     "output_type": "stream",
     "text": [
      "Training until validation scores don't improve for 100 rounds\n",
      "[100]\ttr's binary_logloss: 0.263774\tvl's binary_logloss: 0.279782\n",
      "[200]\ttr's binary_logloss: 0.253461\tvl's binary_logloss: 0.279754\n",
      "[300]\ttr's binary_logloss: 0.244741\tvl's binary_logloss: 0.279712\n",
      "Early stopping, best iteration is:\n",
      "[245]\ttr's binary_logloss: 0.249621\tvl's binary_logloss: 0.279677\n"
     ]
    },
    {
     "name": "stderr",
     "output_type": "stream",
     "text": [
      "tune_lambda_l1_and_lambda_l2, val_score: 0.279677:   5%|5         | 1/20 [00:12<03:47, 11.99s/it]"
     ]
    },
    {
     "name": "stdout",
     "output_type": "stream",
     "text": [
      "Training until validation scores don't improve for 100 rounds\n",
      "[100]\ttr's binary_logloss: 0.263535\tvl's binary_logloss: 0.279975\n",
      "[200]\ttr's binary_logloss: 0.253164\tvl's binary_logloss: 0.279967\n",
      "Early stopping, best iteration is:\n",
      "[147]\ttr's binary_logloss: 0.258053\tvl's binary_logloss: 0.279859\n"
     ]
    },
    {
     "name": "stderr",
     "output_type": "stream",
     "text": [
      "tune_lambda_l1_and_lambda_l2, val_score: 0.279677:  10%|#         | 2/20 [00:21<03:19, 11.10s/it]"
     ]
    },
    {
     "name": "stdout",
     "output_type": "stream",
     "text": [
      "Training until validation scores don't improve for 100 rounds\n",
      "[100]\ttr's binary_logloss: 0.266039\tvl's binary_logloss: 0.279809\n",
      "[200]\ttr's binary_logloss: 0.257549\tvl's binary_logloss: 0.279673\n",
      "Early stopping, best iteration is:\n",
      "[184]\ttr's binary_logloss: 0.258879\tvl's binary_logloss: 0.279621\n"
     ]
    },
    {
     "name": "stderr",
     "output_type": "stream",
     "text": [
      "tune_lambda_l1_and_lambda_l2, val_score: 0.279621:  15%|#5        | 3/20 [00:32<03:11, 11.27s/it]"
     ]
    },
    {
     "name": "stdout",
     "output_type": "stream",
     "text": [
      "Training until validation scores don't improve for 100 rounds\n",
      "[100]\ttr's binary_logloss: 0.263959\tvl's binary_logloss: 0.279823\n",
      "[200]\ttr's binary_logloss: 0.254239\tvl's binary_logloss: 0.279846\n",
      "Early stopping, best iteration is:\n",
      "[159]\ttr's binary_logloss: 0.257926\tvl's binary_logloss: 0.279713\n"
     ]
    },
    {
     "name": "stderr",
     "output_type": "stream",
     "text": [
      "tune_lambda_l1_and_lambda_l2, val_score: 0.279621:  20%|##        | 4/20 [00:42<02:51, 10.70s/it]"
     ]
    },
    {
     "name": "stdout",
     "output_type": "stream",
     "text": [
      "Training until validation scores don't improve for 100 rounds\n",
      "[100]\ttr's binary_logloss: 0.263661\tvl's binary_logloss: 0.279824\n",
      "Early stopping, best iteration is:\n",
      "[99]\ttr's binary_logloss: 0.263896\tvl's binary_logloss: 0.279809\n"
     ]
    },
    {
     "name": "stderr",
     "output_type": "stream",
     "text": [
      "tune_lambda_l1_and_lambda_l2, val_score: 0.279621:  25%|##5       | 5/20 [00:49<02:24,  9.61s/it]"
     ]
    },
    {
     "name": "stdout",
     "output_type": "stream",
     "text": [
      "Training until validation scores don't improve for 100 rounds\n",
      "[100]\ttr's binary_logloss: 0.266439\tvl's binary_logloss: 0.279891\n",
      "[200]\ttr's binary_logloss: 0.258405\tvl's binary_logloss: 0.279779\n",
      "Early stopping, best iteration is:\n",
      "[195]\ttr's binary_logloss: 0.258825\tvl's binary_logloss: 0.279754\n"
     ]
    },
    {
     "name": "stderr",
     "output_type": "stream",
     "text": [
      "tune_lambda_l1_and_lambda_l2, val_score: 0.279621:  30%|###       | 6/20 [01:01<02:26, 10.45s/it]"
     ]
    },
    {
     "name": "stdout",
     "output_type": "stream",
     "text": [
      "Training until validation scores don't improve for 100 rounds\n",
      "[100]\ttr's binary_logloss: 0.263523\tvl's binary_logloss: 0.28026\n",
      "[200]\ttr's binary_logloss: 0.252751\tvl's binary_logloss: 0.280015\n",
      "[300]\ttr's binary_logloss: 0.243463\tvl's binary_logloss: 0.280239\n",
      "Early stopping, best iteration is:\n",
      "[206]\ttr's binary_logloss: 0.252205\tvl's binary_logloss: 0.279997\n"
     ]
    },
    {
     "name": "stderr",
     "output_type": "stream",
     "text": [
      "tune_lambda_l1_and_lambda_l2, val_score: 0.279621:  35%|###5      | 7/20 [01:12<02:18, 10.65s/it]"
     ]
    },
    {
     "name": "stdout",
     "output_type": "stream",
     "text": [
      "Training until validation scores don't improve for 100 rounds\n",
      "[100]\ttr's binary_logloss: 0.263666\tvl's binary_logloss: 0.279827\n",
      "[200]\ttr's binary_logloss: 0.252992\tvl's binary_logloss: 0.279881\n",
      "Early stopping, best iteration is:\n",
      "[160]\ttr's binary_logloss: 0.257002\tvl's binary_logloss: 0.279783\n"
     ]
    },
    {
     "name": "stderr",
     "output_type": "stream",
     "text": [
      "tune_lambda_l1_and_lambda_l2, val_score: 0.279621:  40%|####      | 8/20 [01:22<02:02, 10.24s/it]"
     ]
    },
    {
     "name": "stdout",
     "output_type": "stream",
     "text": [
      "Training until validation scores don't improve for 100 rounds\n",
      "[100]\ttr's binary_logloss: 0.263566\tvl's binary_logloss: 0.27996\n",
      "[200]\ttr's binary_logloss: 0.252998\tvl's binary_logloss: 0.279918\n",
      "Early stopping, best iteration is:\n",
      "[188]\ttr's binary_logloss: 0.254101\tvl's binary_logloss: 0.279903\n"
     ]
    },
    {
     "name": "stderr",
     "output_type": "stream",
     "text": [
      "tune_lambda_l1_and_lambda_l2, val_score: 0.279621:  45%|####5     | 9/20 [01:31<01:51, 10.15s/it]"
     ]
    },
    {
     "name": "stdout",
     "output_type": "stream",
     "text": [
      "Training until validation scores don't improve for 100 rounds\n",
      "[100]\ttr's binary_logloss: 0.263661\tvl's binary_logloss: 0.279824\n",
      "[200]\ttr's binary_logloss: 0.253061\tvl's binary_logloss: 0.279856\n",
      "Early stopping, best iteration is:\n",
      "[193]\ttr's binary_logloss: 0.253787\tvl's binary_logloss: 0.279749\n"
     ]
    },
    {
     "name": "stderr",
     "output_type": "stream",
     "text": [
      "tune_lambda_l1_and_lambda_l2, val_score: 0.279621:  50%|#####     | 10/20 [01:42<01:43, 10.30s/it]"
     ]
    },
    {
     "name": "stdout",
     "output_type": "stream",
     "text": [
      "Training until validation scores don't improve for 100 rounds\n",
      "[100]\ttr's binary_logloss: 0.265982\tvl's binary_logloss: 0.27991\n",
      "[200]\ttr's binary_logloss: 0.257603\tvl's binary_logloss: 0.279721\n",
      "[300]\ttr's binary_logloss: 0.250602\tvl's binary_logloss: 0.279985\n",
      "Early stopping, best iteration is:\n",
      "[246]\ttr's binary_logloss: 0.254559\tvl's binary_logloss: 0.279684\n"
     ]
    },
    {
     "name": "stderr",
     "output_type": "stream",
     "text": [
      "tune_lambda_l1_and_lambda_l2, val_score: 0.279621:  55%|#####5    | 11/20 [01:57<01:45, 11.68s/it]"
     ]
    },
    {
     "name": "stdout",
     "output_type": "stream",
     "text": [
      "Training until validation scores don't improve for 100 rounds\n",
      "[100]\ttr's binary_logloss: 0.263717\tvl's binary_logloss: 0.28006\n",
      "[200]\ttr's binary_logloss: 0.253055\tvl's binary_logloss: 0.280272\n",
      "Early stopping, best iteration is:\n",
      "[105]\ttr's binary_logloss: 0.263092\tvl's binary_logloss: 0.280052\n"
     ]
    },
    {
     "name": "stderr",
     "output_type": "stream",
     "text": [
      "tune_lambda_l1_and_lambda_l2, val_score: 0.279621:  60%|######    | 12/20 [02:04<01:23, 10.42s/it]"
     ]
    },
    {
     "name": "stdout",
     "output_type": "stream",
     "text": [
      "Training until validation scores don't improve for 100 rounds\n",
      "[100]\ttr's binary_logloss: 0.265111\tvl's binary_logloss: 0.279683\n",
      "[200]\ttr's binary_logloss: 0.256086\tvl's binary_logloss: 0.279763\n",
      "Early stopping, best iteration is:\n",
      "[117]\ttr's binary_logloss: 0.26344\tvl's binary_logloss: 0.279656\n"
     ]
    },
    {
     "name": "stderr",
     "output_type": "stream",
     "text": [
      "tune_lambda_l1_and_lambda_l2, val_score: 0.279621:  65%|######5   | 13/20 [02:14<01:10, 10.11s/it]"
     ]
    },
    {
     "name": "stdout",
     "output_type": "stream",
     "text": [
      "Training until validation scores don't improve for 100 rounds\n",
      "[100]\ttr's binary_logloss: 0.266071\tvl's binary_logloss: 0.279929\n",
      "[200]\ttr's binary_logloss: 0.257682\tvl's binary_logloss: 0.279765\n",
      "Early stopping, best iteration is:\n",
      "[188]\ttr's binary_logloss: 0.258535\tvl's binary_logloss: 0.27969\n"
     ]
    },
    {
     "name": "stderr",
     "output_type": "stream",
     "text": [
      "tune_lambda_l1_and_lambda_l2, val_score: 0.279621:  70%|#######   | 14/20 [02:26<01:05, 10.85s/it]"
     ]
    },
    {
     "name": "stdout",
     "output_type": "stream",
     "text": [
      "Training until validation scores don't improve for 100 rounds\n",
      "[100]\ttr's binary_logloss: 0.264252\tvl's binary_logloss: 0.279671\n",
      "[200]\ttr's binary_logloss: 0.254276\tvl's binary_logloss: 0.279724\n",
      "Early stopping, best iteration is:\n",
      "[181]\ttr's binary_logloss: 0.255996\tvl's binary_logloss: 0.279628\n"
     ]
    },
    {
     "name": "stderr",
     "output_type": "stream",
     "text": [
      "tune_lambda_l1_and_lambda_l2, val_score: 0.279621:  75%|#######5  | 15/20 [02:41<01:00, 12.02s/it]"
     ]
    },
    {
     "name": "stdout",
     "output_type": "stream",
     "text": [
      "Training until validation scores don't improve for 100 rounds\n",
      "[100]\ttr's binary_logloss: 0.263781\tvl's binary_logloss: 0.280134\n",
      "[200]\ttr's binary_logloss: 0.253209\tvl's binary_logloss: 0.280013\n",
      "Early stopping, best iteration is:\n",
      "[181]\ttr's binary_logloss: 0.255199\tvl's binary_logloss: 0.27989\n"
     ]
    },
    {
     "name": "stderr",
     "output_type": "stream",
     "text": [
      "tune_lambda_l1_and_lambda_l2, val_score: 0.279621:  80%|########  | 16/20 [02:57<00:52, 13.07s/it]"
     ]
    },
    {
     "name": "stdout",
     "output_type": "stream",
     "text": [
      "Training until validation scores don't improve for 100 rounds\n",
      "[100]\ttr's binary_logloss: 0.263632\tvl's binary_logloss: 0.280149\n",
      "Early stopping, best iteration is:\n",
      "[93]\ttr's binary_logloss: 0.264522\tvl's binary_logloss: 0.280095\n"
     ]
    },
    {
     "name": "stderr",
     "output_type": "stream",
     "text": [
      "tune_lambda_l1_and_lambda_l2, val_score: 0.279621:  85%|########5 | 17/20 [03:07<00:37, 12.35s/it]"
     ]
    },
    {
     "name": "stdout",
     "output_type": "stream",
     "text": [
      "Training until validation scores don't improve for 100 rounds\n",
      "[100]\ttr's binary_logloss: 0.264036\tvl's binary_logloss: 0.279872\n",
      "[200]\ttr's binary_logloss: 0.254105\tvl's binary_logloss: 0.279948\n",
      "Early stopping, best iteration is:\n",
      "[154]\ttr's binary_logloss: 0.25829\tvl's binary_logloss: 0.279775\n"
     ]
    },
    {
     "name": "stderr",
     "output_type": "stream",
     "text": [
      "tune_lambda_l1_and_lambda_l2, val_score: 0.279621:  90%|######### | 18/20 [03:22<00:26, 13.16s/it]"
     ]
    },
    {
     "name": "stdout",
     "output_type": "stream",
     "text": [
      "Training until validation scores don't improve for 100 rounds\n",
      "[100]\ttr's binary_logloss: 0.263519\tvl's binary_logloss: 0.280096\n",
      "Early stopping, best iteration is:\n",
      "[98]\ttr's binary_logloss: 0.263805\tvl's binary_logloss: 0.280083\n"
     ]
    },
    {
     "name": "stderr",
     "output_type": "stream",
     "text": [
      "tune_lambda_l1_and_lambda_l2, val_score: 0.279621:  95%|#########5| 19/20 [03:35<00:12, 12.95s/it]"
     ]
    },
    {
     "name": "stdout",
     "output_type": "stream",
     "text": [
      "Training until validation scores don't improve for 100 rounds\n",
      "[100]\ttr's binary_logloss: 0.263669\tvl's binary_logloss: 0.28001\n",
      "[200]\ttr's binary_logloss: 0.253127\tvl's binary_logloss: 0.280236\n",
      "Early stopping, best iteration is:\n",
      "[101]\ttr's binary_logloss: 0.263573\tvl's binary_logloss: 0.28\n"
     ]
    },
    {
     "name": "stderr",
     "output_type": "stream",
     "text": [
      "tune_lambda_l1_and_lambda_l2, val_score: 0.279621: 100%|##########| 20/20 [03:48<00:00, 11.42s/it]\n",
      "tune_min_child_samples, val_score: 0.279621:   0%|          | 0/5 [00:00<?, ?it/s]"
     ]
    },
    {
     "name": "stdout",
     "output_type": "stream",
     "text": [
      "Training until validation scores don't improve for 100 rounds\n",
      "[100]\ttr's binary_logloss: 0.266071\tvl's binary_logloss: 0.279839\n",
      "[200]\ttr's binary_logloss: 0.257828\tvl's binary_logloss: 0.27965\n",
      "[300]\ttr's binary_logloss: 0.251113\tvl's binary_logloss: 0.27985\n",
      "Early stopping, best iteration is:\n",
      "[201]\ttr's binary_logloss: 0.257723\tvl's binary_logloss: 0.279641\n"
     ]
    },
    {
     "name": "stderr",
     "output_type": "stream",
     "text": [
      "tune_min_child_samples, val_score: 0.279621:  20%|##        | 1/5 [00:20<01:21, 20.28s/it]"
     ]
    },
    {
     "name": "stdout",
     "output_type": "stream",
     "text": [
      "Training until validation scores don't improve for 100 rounds\n",
      "[100]\ttr's binary_logloss: 0.266055\tvl's binary_logloss: 0.279903\n",
      "[200]\ttr's binary_logloss: 0.257422\tvl's binary_logloss: 0.279729\n",
      "Early stopping, best iteration is:\n",
      "[184]\ttr's binary_logloss: 0.258792\tvl's binary_logloss: 0.279677\n"
     ]
    },
    {
     "name": "stderr",
     "output_type": "stream",
     "text": [
      "tune_min_child_samples, val_score: 0.279621:  40%|####      | 2/5 [00:40<01:00, 20.24s/it]"
     ]
    },
    {
     "name": "stdout",
     "output_type": "stream",
     "text": [
      "Training until validation scores don't improve for 100 rounds\n",
      "[100]\ttr's binary_logloss: 0.265984\tvl's binary_logloss: 0.279769\n",
      "[200]\ttr's binary_logloss: 0.257395\tvl's binary_logloss: 0.279618\n",
      "[300]\ttr's binary_logloss: 0.250555\tvl's binary_logloss: 0.279874\n",
      "Early stopping, best iteration is:\n",
      "[241]\ttr's binary_logloss: 0.254646\tvl's binary_logloss: 0.279575\n"
     ]
    },
    {
     "name": "stderr",
     "output_type": "stream",
     "text": [
      "tune_min_child_samples, val_score: 0.279575:  60%|######    | 3/5 [01:02<00:41, 20.69s/it]"
     ]
    },
    {
     "name": "stdout",
     "output_type": "stream",
     "text": [
      "Training until validation scores don't improve for 100 rounds\n",
      "[100]\ttr's binary_logloss: 0.266039\tvl's binary_logloss: 0.280033\n",
      "[200]\ttr's binary_logloss: 0.257605\tvl's binary_logloss: 0.279942\n",
      "Early stopping, best iteration is:\n",
      "[194]\ttr's binary_logloss: 0.258158\tvl's binary_logloss: 0.279875\n"
     ]
    },
    {
     "name": "stderr",
     "output_type": "stream",
     "text": [
      "tune_min_child_samples, val_score: 0.279575:  80%|########  | 4/5 [01:22<00:20, 20.48s/it]"
     ]
    },
    {
     "name": "stdout",
     "output_type": "stream",
     "text": [
      "Training until validation scores don't improve for 100 rounds\n",
      "[100]\ttr's binary_logloss: 0.26606\tvl's binary_logloss: 0.279906\n",
      "[200]\ttr's binary_logloss: 0.257392\tvl's binary_logloss: 0.27975\n",
      "Early stopping, best iteration is:\n",
      "[194]\ttr's binary_logloss: 0.257855\tvl's binary_logloss: 0.279672\n"
     ]
    },
    {
     "name": "stderr",
     "output_type": "stream",
     "text": [
      "tune_min_child_samples, val_score: 0.279575: 100%|##########| 5/5 [01:38<00:00, 19.77s/it]\n"
     ]
    },
    {
     "name": "stdout",
     "output_type": "stream",
     "text": [
      "CPU times: user 1h 10min 2s, sys: 1h 43min 23s, total: 2h 53min 26s\n",
      "Wall time: 13min 33s\n"
     ]
    }
   ],
   "source": [
    "%%time\n",
    "dtr = lgb.Dataset(dftr[cols_feat], label=dftr[TCOL])\n",
    "dvl = lgb.Dataset(dfvl[cols_feat], label=dfvl[TCOL])\n",
    "best_params, tuning_history = {}, []\n",
    "evalres = {}\n",
    "evallist = [(dtr, 'train'), (dvl, 'eval')]\n",
    "bst = lgb.train(params=params, \n",
    "                train_set=dtr, \n",
    "                num_boost_round=50000,\n",
    "                valid_sets=[dtr, dvl],\n",
    "                valid_names=['tr','vl'],\n",
    "                best_params=best_params,\n",
    "                tuning_history=tuning_history,\n",
    "                verbose_eval=100,\n",
    "                early_stopping_rounds=100,\n",
    "                evals_result=evalres,\n",
    "               )\n",
    "results['bst'] = bst\n",
    "results['evalres'] = evalres\n",
    "results['best_params']=best_params\n",
    "results['tuning_history']=tuning_history"
   ]
  },
  {
   "cell_type": "markdown",
   "metadata": {},
   "source": [
    "## best_params"
   ]
  },
  {
   "cell_type": "code",
   "execution_count": 20,
   "metadata": {},
   "outputs": [
    {
     "data": {
      "text/plain": [
       "{'lambda_l1': 7.593990354012815,\n",
       " 'lambda_l2': 1.770022013357123e-07,\n",
       " 'num_leaves': 64,\n",
       " 'feature_fraction': 0.4,\n",
       " 'bagging_fraction': 1.0,\n",
       " 'bagging_freq': 0,\n",
       " 'min_child_samples': 25}"
      ]
     },
     "execution_count": 20,
     "metadata": {},
     "output_type": "execute_result"
    }
   ],
   "source": [
    "best_params"
   ]
  },
  {
   "cell_type": "markdown",
   "metadata": {},
   "source": [
    "## tr vl trajec"
   ]
  },
  {
   "cell_type": "code",
   "execution_count": 21,
   "metadata": {},
   "outputs": [
    {
     "data": {
      "image/png": "[encoded data removed]",
      "text/plain": [
       "<Figure size 432x288 with 1 Axes>"
      ]
     },
     "metadata": {
      "needs_background": "light"
     },
     "output_type": "display_data"
    }
   ],
   "source": [
    "plt.plot(evalres['tr']['binary_logloss'])\n",
    "plt.plot(evalres['vl']['binary_logloss'])\n",
    "plt.title(f\"logloss; best_iteration {bst.best_iteration}\")\n",
    "plt.show()"
   ]
  },
  {
   "cell_type": "markdown",
   "metadata": {},
   "source": [
    "## model features"
   ]
  },
  {
   "cell_type": "code",
   "execution_count": 22,
   "metadata": {},
   "outputs": [
    {
     "data": {
      "image/png": "[encoded data removed]",
      "text/plain": [
       "<Figure size 720x1080 with 1 Axes>"
      ]
     },
     "metadata": {
      "needs_background": "light"
     },
     "output_type": "display_data"
    }
   ],
   "source": [
    "ax = lgb.plot_importance(bst, height=0.8, max_num_features=50, figsize=(10,15))\n",
    "ax.grid(False, axis=\"y\")\n",
    "ax.set_title(f'Estimated feature importance')\n",
    "plt.show()"
   ]
  },
  {
   "cell_type": "code",
   "execution_count": 23,
   "metadata": {},
   "outputs": [
    {
     "data": {
      "text/html": [
       "<div>\n",
       "<style scoped>\n",
       "    .dataframe tbody tr th:only-of-type {\n",
       "        vertical-align: middle;\n",
       "    }\n",
       "\n",
       "    .dataframe tbody tr th {\n",
       "        vertical-align: top;\n",
       "    }\n",
       "\n",
       "    .dataframe thead th {\n",
       "        text-align: right;\n",
       "    }\n",
       "</style>\n",
       "<table border=\"1\" class=\"dataframe\">\n",
       "  <thead>\n",
       "    <tr style=\"text-align: right;\">\n",
       "      <th></th>\n",
       "      <th>0</th>\n",
       "      <th>1</th>\n",
       "    </tr>\n",
       "  </thead>\n",
       "  <tbody>\n",
       "    <tr>\n",
       "      <th>28</th>\n",
       "      <td>langhour</td>\n",
       "      <td>2369</td>\n",
       "    </tr>\n",
       "    <tr>\n",
       "      <th>5</th>\n",
       "      <td>u2_fllwer_cnt</td>\n",
       "      <td>911</td>\n",
       "    </tr>\n",
       "    <tr>\n",
       "      <th>26</th>\n",
       "      <td>u1_fllwer_cnt_by_age</td>\n",
       "      <td>858</td>\n",
       "    </tr>\n",
       "    <tr>\n",
       "      <th>3</th>\n",
       "      <td>u1_fllwing_cnt</td>\n",
       "      <td>835</td>\n",
       "    </tr>\n",
       "    <tr>\n",
       "      <th>1</th>\n",
       "      <td>lang</td>\n",
       "      <td>792</td>\n",
       "    </tr>\n",
       "    <tr>\n",
       "      <th>6</th>\n",
       "      <td>u2_fllwng_cnt</td>\n",
       "      <td>761</td>\n",
       "    </tr>\n",
       "    <tr>\n",
       "      <th>25</th>\n",
       "      <td>u2_age</td>\n",
       "      <td>759</td>\n",
       "    </tr>\n",
       "    <tr>\n",
       "      <th>20</th>\n",
       "      <td>tmdlta_u2u1</td>\n",
       "      <td>731</td>\n",
       "    </tr>\n",
       "    <tr>\n",
       "      <th>11</th>\n",
       "      <td>len_toks</td>\n",
       "      <td>719</td>\n",
       "    </tr>\n",
       "    <tr>\n",
       "      <th>2</th>\n",
       "      <td>u1_fllwer_cnt</td>\n",
       "      <td>698</td>\n",
       "    </tr>\n",
       "    <tr>\n",
       "      <th>27</th>\n",
       "      <td>u1_fllwng_cnt_by_age</td>\n",
       "      <td>685</td>\n",
       "    </tr>\n",
       "    <tr>\n",
       "      <th>23</th>\n",
       "      <td>twt_age</td>\n",
       "      <td>651</td>\n",
       "    </tr>\n",
       "    <tr>\n",
       "      <th>21</th>\n",
       "      <td>tmdlta_twtu1</td>\n",
       "      <td>618</td>\n",
       "    </tr>\n",
       "    <tr>\n",
       "      <th>24</th>\n",
       "      <td>u1_age</td>\n",
       "      <td>618</td>\n",
       "    </tr>\n",
       "    <tr>\n",
       "      <th>22</th>\n",
       "      <td>tmdlta_twtu2</td>\n",
       "      <td>518</td>\n",
       "    </tr>\n",
       "    <tr>\n",
       "      <th>30</th>\n",
       "      <td>frq_u1id</td>\n",
       "      <td>445</td>\n",
       "    </tr>\n",
       "    <tr>\n",
       "      <th>19</th>\n",
       "      <td>hour</td>\n",
       "      <td>248</td>\n",
       "    </tr>\n",
       "    <tr>\n",
       "      <th>34</th>\n",
       "      <td>sumfrq_domns</td>\n",
       "      <td>229</td>\n",
       "    </tr>\n",
       "    <tr>\n",
       "      <th>33</th>\n",
       "      <td>sumfrq_hshtgs</td>\n",
       "      <td>228</td>\n",
       "    </tr>\n",
       "    <tr>\n",
       "      <th>0</th>\n",
       "      <td>twttyp</td>\n",
       "      <td>215</td>\n",
       "    </tr>\n",
       "    <tr>\n",
       "      <th>35</th>\n",
       "      <td>tgtenc_lang</td>\n",
       "      <td>214</td>\n",
       "    </tr>\n",
       "    <tr>\n",
       "      <th>31</th>\n",
       "      <td>frq_u2id</td>\n",
       "      <td>173</td>\n",
       "    </tr>\n",
       "    <tr>\n",
       "      <th>29</th>\n",
       "      <td>frq_twtid</td>\n",
       "      <td>128</td>\n",
       "    </tr>\n",
       "    <tr>\n",
       "      <th>12</th>\n",
       "      <td>n_media_Photo</td>\n",
       "      <td>127</td>\n",
       "    </tr>\n",
       "    <tr>\n",
       "      <th>15</th>\n",
       "      <td>n_hshtgs</td>\n",
       "      <td>125</td>\n",
       "    </tr>\n",
       "    <tr>\n",
       "      <th>18</th>\n",
       "      <td>dayofweek</td>\n",
       "      <td>109</td>\n",
       "    </tr>\n",
       "    <tr>\n",
       "      <th>16</th>\n",
       "      <td>n_media</td>\n",
       "      <td>99</td>\n",
       "    </tr>\n",
       "    <tr>\n",
       "      <th>17</th>\n",
       "      <td>n_domns</td>\n",
       "      <td>76</td>\n",
       "    </tr>\n",
       "    <tr>\n",
       "      <th>8</th>\n",
       "      <td>u1_fllw_u2</td>\n",
       "      <td>66</td>\n",
       "    </tr>\n",
       "    <tr>\n",
       "      <th>13</th>\n",
       "      <td>n_media_Video</td>\n",
       "      <td>58</td>\n",
       "    </tr>\n",
       "    <tr>\n",
       "      <th>4</th>\n",
       "      <td>u1_vrfed</td>\n",
       "      <td>53</td>\n",
       "    </tr>\n",
       "    <tr>\n",
       "      <th>10</th>\n",
       "      <td>u2inu1</td>\n",
       "      <td>21</td>\n",
       "    </tr>\n",
       "    <tr>\n",
       "      <th>32</th>\n",
       "      <td>frq_u1u2</td>\n",
       "      <td>16</td>\n",
       "    </tr>\n",
       "    <tr>\n",
       "      <th>9</th>\n",
       "      <td>u1inu2</td>\n",
       "      <td>15</td>\n",
       "    </tr>\n",
       "    <tr>\n",
       "      <th>7</th>\n",
       "      <td>u2_vrfed</td>\n",
       "      <td>13</td>\n",
       "    </tr>\n",
       "    <tr>\n",
       "      <th>14</th>\n",
       "      <td>n_media_GIF</td>\n",
       "      <td>2</td>\n",
       "    </tr>\n",
       "  </tbody>\n",
       "</table>\n",
       "</div>"
      ],
      "text/plain": [
       "                       0     1\n",
       "28              langhour  2369\n",
       "5          u2_fllwer_cnt   911\n",
       "26  u1_fllwer_cnt_by_age   858\n",
       "3         u1_fllwing_cnt   835\n",
       "1                   lang   792\n",
       "6          u2_fllwng_cnt   761\n",
       "25                u2_age   759\n",
       "20           tmdlta_u2u1   731\n",
       "11              len_toks   719\n",
       "2          u1_fllwer_cnt   698\n",
       "27  u1_fllwng_cnt_by_age   685\n",
       "23               twt_age   651\n",
       "21          tmdlta_twtu1   618\n",
       "24                u1_age   618\n",
       "22          tmdlta_twtu2   518\n",
       "30              frq_u1id   445\n",
       "19                  hour   248\n",
       "34          sumfrq_domns   229\n",
       "33         sumfrq_hshtgs   228\n",
       "0                 twttyp   215\n",
       "35           tgtenc_lang   214\n",
       "31              frq_u2id   173\n",
       "29             frq_twtid   128\n",
       "12         n_media_Photo   127\n",
       "15              n_hshtgs   125\n",
       "18             dayofweek   109\n",
       "16               n_media    99\n",
       "17               n_domns    76\n",
       "8             u1_fllw_u2    66\n",
       "13         n_media_Video    58\n",
       "4               u1_vrfed    53\n",
       "10                u2inu1    21\n",
       "32              frq_u1u2    16\n",
       "9                 u1inu2    15\n",
       "7               u2_vrfed    13\n",
       "14           n_media_GIF     2"
      ]
     },
     "execution_count": 23,
     "metadata": {},
     "output_type": "execute_result"
    }
   ],
   "source": [
    "pd.DataFrame([bst.feature_name(), bst.feature_importance()]).T.sort_values(1, ascending=False)"
   ]
  },
  {
   "cell_type": "code",
   "execution_count": 24,
   "metadata": {},
   "outputs": [
    {
     "data": {
      "text/plain": [
       "[('langhour', 2369),\n",
       " ('u2_fllwer_cnt', 911),\n",
       " ('u1_fllwer_cnt_by_age', 858),\n",
       " ('u1_fllwing_cnt', 835),\n",
       " ('lang', 792),\n",
       " ('u2_fllwng_cnt', 761),\n",
       " ('u2_age', 759),\n",
       " ('tmdlta_u2u1', 731),\n",
       " ('len_toks', 719),\n",
       " ('u1_fllwer_cnt', 698),\n",
       " ('u1_fllwng_cnt_by_age', 685),\n",
       " ('twt_age', 651),\n",
       " ('tmdlta_twtu1', 618),\n",
       " ('u1_age', 618),\n",
       " ('tmdlta_twtu2', 518),\n",
       " ('frq_u1id', 445),\n",
       " ('hour', 248),\n",
       " ('sumfrq_domns', 229),\n",
       " ('sumfrq_hshtgs', 228),\n",
       " ('twttyp', 215),\n",
       " ('tgtenc_lang', 214),\n",
       " ('frq_u2id', 173),\n",
       " ('frq_twtid', 128),\n",
       " ('n_media_Photo', 127),\n",
       " ('n_hshtgs', 125),\n",
       " ('dayofweek', 109),\n",
       " ('n_media', 99),\n",
       " ('n_domns', 76),\n",
       " ('u1_fllw_u2', 66),\n",
       " ('n_media_Video', 58),\n",
       " ('u1_vrfed', 53),\n",
       " ('u2inu1', 21),\n",
       " ('frq_u1u2', 16),\n",
       " ('u1inu2', 15),\n",
       " ('u2_vrfed', 13),\n",
       " ('n_media_GIF', 2)]"
      ]
     },
     "execution_count": 24,
     "metadata": {},
     "output_type": "execute_result"
    }
   ],
   "source": [
    "col2imp = dict(zip(bst.feature_name(), bst.feature_importance()))\n",
    "sorted(col2imp.items(), key=lambda x: -x[1])"
   ]
  },
  {
   "cell_type": "code",
   "execution_count": 25,
   "metadata": {},
   "outputs": [
    {
     "data": {
      "text/plain": [
       "['langhour',\n",
       " 'u2_fllwer_cnt',\n",
       " 'u1_fllwer_cnt_by_age',\n",
       " 'u1_fllwing_cnt',\n",
       " 'lang',\n",
       " 'u2_fllwng_cnt',\n",
       " 'u2_age',\n",
       " 'tmdlta_u2u1',\n",
       " 'len_toks',\n",
       " 'u1_fllwer_cnt',\n",
       " 'u1_fllwng_cnt_by_age',\n",
       " 'twt_age',\n",
       " 'tmdlta_twtu1',\n",
       " 'u1_age',\n",
       " 'tmdlta_twtu2',\n",
       " 'frq_u1id',\n",
       " 'hour',\n",
       " 'sumfrq_domns',\n",
       " 'sumfrq_hshtgs',\n",
       " 'twttyp',\n",
       " 'tgtenc_lang',\n",
       " 'frq_u2id',\n",
       " 'frq_twtid',\n",
       " 'n_media_Photo',\n",
       " 'n_hshtgs',\n",
       " 'dayofweek',\n",
       " 'n_media',\n",
       " 'n_domns',\n",
       " 'u1_fllw_u2',\n",
       " 'n_media_Video',\n",
       " 'u1_vrfed',\n",
       " 'u2inu1',\n",
       " 'frq_u1u2',\n",
       " 'u1inu2',\n",
       " 'u2_vrfed',\n",
       " 'n_media_GIF']"
      ]
     },
     "execution_count": 25,
     "metadata": {},
     "output_type": "execute_result"
    }
   ],
   "source": [
    "[o[0] for o in sorted(col2imp.items(), key=lambda x: -x[1]) if o[1]>0]"
   ]
  },
  {
   "cell_type": "code",
   "execution_count": null,
   "metadata": {},
   "outputs": [],
   "source": []
  },
  {
   "cell_type": "markdown",
   "metadata": {},
   "source": [
    "# eval"
   ]
  },
  {
   "cell_type": "code",
   "execution_count": 26,
   "metadata": {},
   "outputs": [
    {
     "name": "stdout",
     "output_type": "stream",
     "text": [
      "CPU times: user 1min 6s, sys: 0 ns, total: 1min 6s\n",
      "Wall time: 12.9 s\n"
     ]
    }
   ],
   "source": [
    "%%time\n",
    "prdtr = bst.predict(dftr[cols_feat],num_iteration=bst.best_iteration)\n",
    "prdvl = bst.predict(dfvl[cols_feat],num_iteration=bst.best_iteration)\n",
    "prdval0 = bst.predict(dfval[cols_feat],num_iteration=bst.best_iteration)\n",
    "prdval = calibration(prdval0, train_pop, target_pop, sampled_train_pop, sampled_target_pop)"
   ]
  },
  {
   "cell_type": "code",
   "execution_count": 27,
   "metadata": {},
   "outputs": [
    {
     "name": "stdout",
     "output_type": "stream",
     "text": [
      "CPU times: user 5.56 s, sys: 0 ns, total: 5.56 s\n",
      "Wall time: 5.81 s\n"
     ]
    }
   ],
   "source": [
    "%%time\n",
    "ytr,yvl,yval=[df[TCOL].values for df in (dftr,dfvl,dfval)]\n",
    "\n",
    "auc_tr=compute_prauc(prdtr, ytr)\n",
    "rce_tr=compute_rce(prdtr, ytr)\n",
    "auc_vl=compute_prauc(prdvl, yvl)\n",
    "rce_vl=compute_rce(prdvl, yvl)\n",
    "auc_val=compute_prauc(prdval, yval)\n",
    "rce_val=compute_rce(prdval, yval)\n",
    "\n",
    "results['scrs'] = {}\n",
    "results['scrs']['auc_tr']=auc_tr\n",
    "results['scrs']['rce_tr']=rce_tr\n",
    "results['scrs']['auc_vl']=auc_vl\n",
    "results['scrs']['rce_vl']=rce_vl\n",
    "results['scrs']['auc_val']=auc_val\n",
    "results['scrs']['rce_val']=rce_val"
   ]
  },
  {
   "cell_type": "code",
   "execution_count": 28,
   "metadata": {},
   "outputs": [
    {
     "name": "stdout",
     "output_type": "stream",
     "text": [
      "auc_tr:  0.4113\n",
      "auc_vl:  0.3062\n",
      "auc_val: 0.1034\n",
      "\n",
      "rce_tr:  22.2864\n",
      "rce_vl:  15.3220\n",
      "rce_val: 11.4084\n"
     ]
    }
   ],
   "source": [
    "print(f'auc_tr:  {auc_tr:.4f}')\n",
    "print(f'auc_vl:  {auc_vl:.4f}')\n",
    "print(f'auc_val: {auc_val:.4f}')\n",
    "print()\n",
    "print(f'rce_tr:  {rce_tr:.4f}')\n",
    "print(f'rce_vl:  {rce_vl:.4f}')\n",
    "print(f'rce_val: {rce_val:.4f}')"
   ]
  },
  {
   "cell_type": "markdown",
   "metadata": {},
   "source": [
    "## score"
   ]
  },
  {
   "cell_type": "code",
   "execution_count": 29,
   "metadata": {},
   "outputs": [
    {
     "name": "stdout",
     "output_type": "stream",
     "text": [
      "-0.1034-11.4084\n"
     ]
    }
   ],
   "source": [
    "print(f'-{auc_val:.4f}-{rce_val:.4f}')"
   ]
  },
  {
   "cell_type": "markdown",
   "metadata": {},
   "source": [
    "# save results"
   ]
  },
  {
   "cell_type": "code",
   "execution_count": 30,
   "metadata": {},
   "outputs": [],
   "source": [
    "pickle.dump(results, open(f'{p_out}/results_{PRFX}.p', 'wb'))"
   ]
  },
  {
   "cell_type": "markdown",
   "metadata": {},
   "source": [
    "# infer"
   ]
  },
  {
   "cell_type": "code",
   "execution_count": 31,
   "metadata": {},
   "outputs": [],
   "source": [
    "results = pickle.load( open(f'{p_out}/results_{PRFX}.p', 'rb'))\n",
    "bst = results['bst']\n",
    "col2tgtenc = results['col2tgtenc']\n",
    "cols_feat = results['cols_feat']\n",
    "tgt_encoder = results['tgt_encoder']"
   ]
  },
  {
   "cell_type": "markdown",
   "metadata": {},
   "source": [
    "## prep"
   ]
  },
  {
   "cell_type": "code",
   "execution_count": 32,
   "metadata": {},
   "outputs": [
    {
     "name": "stdout",
     "output_type": "stream",
     "text": [
      "CPU times: user 9.31 ms, sys: 1.31 ms, total: 10.6 ms\n",
      "Wall time: 16.3 ms\n"
     ]
    }
   ],
   "source": [
    "%%time\n",
    "dftst=pd.read_csv(\n",
    "    f'{p_in}/val_{tsttmstmp}.tsv',\n",
    "    sep='\\x01', header=None, names=cols_val, \n",
    "    nrows=10\n",
    ")"
   ]
  },
  {
   "cell_type": "code",
   "execution_count": 33,
   "metadata": {
    "scrolled": true
   },
   "outputs": [
    {
     "name": "stdout",
     "output_type": "stream",
     "text": [
      "2020-04-11 20:45:42 start\n",
      "2020-04-11 20:45:42 freq of columns using CountEncoder\n"
     ]
    },
    {
     "name": "stderr",
     "output_type": "stream",
     "text": [
      "/data/anaconda3/envs/rcss20/lib/python3.7/site-packages/category_encoders/count.py:255: FutureWarning: The pandas.np module is deprecated and will be removed from pandas in a future version. Import numpy directly instead\n",
      "  X.loc[:, self.cols] = X.fillna(value=pd.np.nan)\n"
     ]
    },
    {
     "name": "stdout",
     "output_type": "stream",
     "text": [
      "2020-04-11 20:45:42 freq of tags\n",
      "2020-04-11 20:45:42 done\n",
      "CPU times: user 211 ms, sys: 0 ns, total: 211 ms\n",
      "Wall time: 261 ms\n"
     ]
    }
   ],
   "source": [
    "%%time\n",
    "dftst=prp_df(dftst, tm_max=tm_tst_max)"
   ]
  },
  {
   "cell_type": "code",
   "execution_count": 34,
   "metadata": {},
   "outputs": [],
   "source": [
    "encoded_tst = tgt_encoder.transform(dftst[col2tgtenc].astype(object))\n",
    "tgtenc_columns = [f'tgtenc_{col}' for col in encoded_tst.columns]\n",
    "encoded_tst.columns = tgtenc_columns\n",
    "dftst = pd.concat([dftst, encoded_tst], 1)\n",
    "dftst.drop(columns=['u1id','u1u2'], inplace=True)\n",
    "cols_category=['twttyp', 'lang', 'langhour']\n",
    "dftst[cols_category]=dftst[cols_category].astype('category')"
   ]
  },
  {
   "cell_type": "markdown",
   "metadata": {},
   "source": [
    "## predict"
   ]
  },
  {
   "cell_type": "code",
   "execution_count": 35,
   "metadata": {},
   "outputs": [
    {
     "name": "stdout",
     "output_type": "stream",
     "text": [
      "CPU times: user 36.2 ms, sys: 2.8 ms, total: 39 ms\n",
      "Wall time: 36.2 ms\n"
     ]
    }
   ],
   "source": [
    "%%time\n",
    "prdtst0 = bst.predict(dftst[cols_feat],num_iteration=bst.best_iteration)\n",
    "prdtst = calibration(prdtst0, train_pop, target_pop, sampled_train_pop, sampled_target_pop)"
   ]
  },
  {
   "cell_type": "code",
   "execution_count": 36,
   "metadata": {},
   "outputs": [],
   "source": [
    "dfsub_ids = dftst[['twtid','u2id',]]\n",
    "dfsub = dfsub_ids.copy()\n",
    "dfsub['scr'] = prdtst\n",
    "dfsub.to_csv(f'{p_out}/{TGT}__{PRFX}.csv',index=False,header=False)"
   ]
  },
  {
   "cell_type": "code",
   "execution_count": null,
   "metadata": {},
   "outputs": [],
   "source": []
  },
  {
   "cell_type": "code",
   "execution_count": null,
   "metadata": {},
   "outputs": [],
   "source": []
  },
  {
   "cell_type": "code",
   "execution_count": null,
   "metadata": {},
   "outputs": [],
   "source": []
  }
 ],
 "metadata": {
  "kernelspec": {
   "display_name": "rcss20",
   "language": "python",
   "name": "rcss20"
  },
  "language_info": {
   "codemirror_mode": {
    "name": "ipython",
    "version": 3
   },
   "file_extension": ".py",
   "mimetype": "text/x-python",
   "name": "python",
   "nbconvert_exporter": "python",
   "pygments_lexer": "ipython3",
   "version": "3.7.6"
  },
  "toc": {
   "base_numbering": 1,
   "nav_menu": {},
   "number_sections": true,
   "sideBar": true,
   "skip_h1_title": false,
   "title_cell": "Table of Contents",
   "title_sidebar": "Contents",
   "toc_cell": false,
   "toc_position": {},
   "toc_section_display": true,
   "toc_window_display": true
  }
 },
 "nbformat": 4,
 "nbformat_minor": 4
}
