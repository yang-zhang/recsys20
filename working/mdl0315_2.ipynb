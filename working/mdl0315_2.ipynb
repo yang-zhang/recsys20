{
 "cells": [
  {
   "cell_type": "markdown",
   "metadata": {},
   "source": [
    "- http://matthewrocklin.com/blog/work/2017/03/28/dask-xgboost\n",
    "- https://examples.dask.org/machine-learning/xgboost.html#Learn-more"
   ]
  },
  {
   "cell_type": "code",
   "execution_count": 1,
   "metadata": {},
   "outputs": [],
   "source": [
    "PRFX='0315_2'"
   ]
  },
  {
   "cell_type": "markdown",
   "metadata": {},
   "source": [
    "# setup"
   ]
  },
  {
   "cell_type": "code",
   "execution_count": 2,
   "metadata": {},
   "outputs": [
    {
     "name": "stderr",
     "output_type": "stream",
     "text": [
      "/home/ubuntu/anaconda3/envs/dask-tutorial/lib/python3.7/site-packages/dask/array/random.py:27: FutureWarning: dask.array.random.doc_wraps is deprecated and will be removed in a future version\n",
      "  FutureWarning,\n"
     ]
    },
    {
     "name": "stdout",
     "output_type": "stream",
     "text": [
      "dask.__version__ 2.11.0\n"
     ]
    }
   ],
   "source": [
    "from pathlib import Path\n",
    "import dask.dataframe as dd\n",
    "import dask.array as da\n",
    "import pandas as pd\n",
    "from dask_ml.model_selection import train_test_split\n",
    "import dask\n",
    "print('dask.__version__', dask.__version__)\n",
    "import xgboost\n",
    "import dask_xgboost\n",
    "from dask.distributed import Client\n",
    "import matplotlib.pyplot as plt\n",
    "from sklearn.metrics import accuracy_score, roc_curve, auc\n",
    "import glob\n",
    "import datetime\n",
    "def dtnow(): return datetime.datetime.now().strftime('%Y-%m-%d %H:%M:%S')\n",
    "\n",
    "\n",
    "HOME='/data/git/recsys20'\n",
    "p_in=f'{HOME}/input'\n",
    "p_out=f'{HOME}/output/{PRFX}'\n",
    "Path(p_out).mkdir(exist_ok=True, parents=True)\n",
    "\n",
    "cols=[\n",
    "'text_tokens',\n",
    "'hashtags',\n",
    "'tweet_id',\n",
    "'present_media',\n",
    "'present_links',\n",
    "'present_domains',\n",
    "'tweet_type',\n",
    "'language',\n",
    "'timestamp',\n",
    "\n",
    "'engaged_user_id',\n",
    "'engaged_follower_count',\n",
    "'engaged_following_count',\n",
    "'engaged_is_verified',\n",
    "'engaged_account_creation_time',\n",
    "\n",
    "'engaging_user_id',\n",
    "'engaging_follower_count',\n",
    "'engaging_following_count',\n",
    "'engaging_is_verified',\n",
    "'engaging_account_creation_time',\n",
    "\n",
    "'engagee_follows_engager',\n",
    "'reply_engagement_timestamp',\n",
    "'retweet_engagement_timestamp',\n",
    "'retweet_with_comment_engagement_timestamp',\n",
    "'like_engagement_timestamp',\n",
    "]\n",
    "\n",
    "cols_val = cols[:-4]\n",
    "\n",
    "tgts=['Retweet','Reply','Like','RTwCmnt',]\n",
    "cols_tgt_tmstmp=[\n",
    "    'retweet_engagement_timestamp',\n",
    "    'reply_engagement_timestamp',\n",
    "    'like_engagement_timestamp',\n",
    "    'retweet_with_comment_engagement_timestamp',\n",
    "]\n"
   ]
  },
  {
   "cell_type": "code",
   "execution_count": 3,
   "metadata": {},
   "outputs": [],
   "source": [
    "from sklearn.metrics import precision_recall_curve, auc, log_loss\n",
    "\n",
    "def compute_prauc(pred, gt):\n",
    "    prec, recall, thresh = precision_recall_curve(gt, pred)\n",
    "    prauc = auc(recall, prec)\n",
    "    return prauc\n",
    "\n",
    "def calculate_ctr(gt):\n",
    "    positive = len([x for x in gt if x == 1])\n",
    "    ctr = positive/float(len(gt))\n",
    "    return ctr\n",
    "\n",
    "def compute_rce(pred, gt):\n",
    "    cross_entropy = log_loss(gt, pred)\n",
    "    data_ctr = calculate_ctr(gt)\n",
    "    strawman_cross_entropy = log_loss(gt, [data_ctr for _ in range(len(gt))])\n",
    "    return (1.0 - cross_entropy/strawman_cross_entropy)*100.0"
   ]
  },
  {
   "cell_type": "markdown",
   "metadata": {},
   "source": [
    "# prepare data"
   ]
  },
  {
   "cell_type": "code",
   "execution_count": 4,
   "metadata": {},
   "outputs": [],
   "source": [
    "# (rcss20) ➜  recsys20 git:(master) ✗ wc -l input/trn.tsv\n",
    "#  148,075,238 data/trn.tsv\n",
    "# (rcss20) ➜  recsys20 git:(master) ✗ wc -l input/val.tsv\n",
    "#  15,127,684 data/val.tsv\n",
    "# !head -5000000 {p_in}/trn.tsv > {p_in}/trn5e6.tsv\n",
    "# !head -50000000 {p_in}/trn.tsv > {p_in}/trn5e7.tsv"
   ]
  },
  {
   "cell_type": "code",
   "execution_count": 5,
   "metadata": {},
   "outputs": [],
   "source": [
    "df=dd.read_csv(f'{p_in}/trn5e7.tsv',\n",
    "               sep='\\x01',\n",
    "               header=None,\n",
    "               names=cols,)"
   ]
  },
  {
   "cell_type": "code",
   "execution_count": 6,
   "metadata": {},
   "outputs": [],
   "source": [
    "ys=~df[cols_tgt_tmstmp].isna().to_dask_array(lengths=True)"
   ]
  },
  {
   "cell_type": "code",
   "execution_count": 7,
   "metadata": {},
   "outputs": [],
   "source": [
    "# df['len_toks']=df.text_tokens.apply(len, meta=('text_tokens', 'int64'))\n",
    "\n",
    "# # df.present_media.value_counts().compute()\n",
    "# # Photo                         182143\n",
    "# # Video                         108825\n",
    "# # Photo\\tPhoto                   41294\n",
    "# # Photo\\tPhoto\\tPhoto\\tPhoto     23275\n",
    "# # Photo\\tPhoto\\tPhoto            12932\n",
    "# # GIF                            10800\n",
    "\n",
    "# for media in ['Photo', 'Video', 'GIF']:\n",
    "#     df[f'has_media_{media}'] = df.present_media.fillna('').apply(lambda x: media in x, \n",
    "#                                                                  meta=('present_media', 'string'))\n",
    "\n",
    "# df['num_hashtags'] = df.hashtags.fillna('').apply(lambda x: len(x.split('\\t')) if len(x) else 0,\n",
    "#                                                   meta=('hashtags', 'string'))\n",
    "\n",
    "# df['num_links'] = df.present_links.fillna('').apply(lambda x: len(x.split('\\t')) if len(x) else 0,\n",
    "#                                                   meta=('hashtags', 'string'))\n",
    "\n",
    "# df['num_domains'] = df.present_domains.fillna('').apply(lambda x: len(x.split('\\t')) if len(x) else 0,\n",
    "#                                                   meta=('hashtags', 'string'))\n",
    "\n",
    "# df['tmdelta_engng_enged'] = df.engaging_account_creation_time - df.engaged_account_creation_time\n",
    "# df['tmdelta_enged_tweet'] = df.engaged_account_creation_time - df.timestamp\n",
    "# df['tmdelta_engng_tweet'] = df.engaging_account_creation_time - df.timestamp\n",
    "\n",
    "# Xnum=df[cols_num].to_dask_array(lengths=True)\n",
    "\n",
    "# cols_cat = [\n",
    "#     'tweet_type',\n",
    "# #     'language',\n",
    "# ]\n",
    "\n",
    "# cols_num = ['timestamp', 'engaged_follower_count', 'engaged_following_count',\n",
    "#             'engaged_is_verified', 'engaged_account_creation_time', 'engaging_follower_count',\n",
    "#             'engaging_following_count', 'engaging_is_verified',\n",
    "#             'engaging_account_creation_time', 'engagee_follows_engager',\n",
    "#             'len_toks', 'has_media_Photo', 'has_media_Video', 'has_media_GIF', \n",
    "#             'num_hashtags', 'num_links', 'num_domains', \n",
    "#             'tmdelta_engng_enged', 'tmdelta_enged_tweet','tmdelta_engng_tweet']\n",
    "\n",
    "# Xcat=dd.get_dummies(df[cols_cat].categorize()).to_dask_array(lengths=True)\n",
    "\n",
    "# X=da.concatenate([Xnum,Xcat,],axis=1)\n",
    "# X=X.rechunk({1: X.shape[1]})"
   ]
  },
  {
   "cell_type": "code",
   "execution_count": 8,
   "metadata": {},
   "outputs": [],
   "source": [
    "def makeX(df):\n",
    "    df['len_toks']=df.text_tokens.apply(len, meta=('text_tokens', 'int64'))\n",
    "    for media in ['Photo', 'Video', 'GIF']:\n",
    "        df[f'has_media_{media}'] = df.present_media.fillna('').apply(lambda x: media in x, \n",
    "                                                                     meta=('present_media', 'string'))\n",
    "    df['num_hashtags'] = df.hashtags.fillna('').apply(lambda x: len(x.split('\\t')) if len(x) else 0,\n",
    "                                                      meta=('hashtags', 'string'))\n",
    "    df['num_links'] = df.present_links.fillna('').apply(lambda x: len(x.split('\\t')) if len(x) else 0,\n",
    "                                                      meta=('hashtags', 'string'))\n",
    "    df['num_domains'] = df.present_domains.fillna('').apply(lambda x: len(x.split('\\t')) if len(x) else 0,\n",
    "                                                      meta=('hashtags', 'string'))\n",
    "    df['tmdelta_engng_enged'] = df.engaging_account_creation_time - df.engaged_account_creation_time\n",
    "    df['tmdelta_enged_tweet'] = df.engaged_account_creation_time - df.timestamp\n",
    "    df['tmdelta_engng_tweet'] = df.engaging_account_creation_time - df.timestamp\n",
    "    cols_cat0 = [\n",
    "        'tweet_type',\n",
    "#         'language',\n",
    "    ]\n",
    "    cols_num = ['timestamp', 'engaged_follower_count', 'engaged_following_count',\n",
    "                'engaged_is_verified', 'engaged_account_creation_time', 'engaging_follower_count',\n",
    "                'engaging_following_count', 'engaging_is_verified',\n",
    "                'engaging_account_creation_time', 'engagee_follows_engager',\n",
    "                'len_toks', 'has_media_Photo', 'has_media_Video', 'has_media_GIF', \n",
    "                'num_hashtags', 'num_links', 'num_domains', \n",
    "                'tmdelta_engng_enged', 'tmdelta_enged_tweet','tmdelta_engng_tweet']\n",
    "    df_cat = dd.get_dummies(df[cols_cat0].categorize())\n",
    "    cols_cat = list(df_cat.columns)\n",
    "    cols_feat = cols_num+cols_cat\n",
    "    Xcat=df_cat.to_dask_array(lengths=True)\n",
    "    Xnum=df[cols_num].to_dask_array(lengths=True)\n",
    "    X=da.concatenate([Xnum,Xcat],axis=1)\n",
    "    X=X.rechunk({1: X.shape[1]})\n",
    "    return X, cols_feat"
   ]
  },
  {
   "cell_type": "code",
   "execution_count": 9,
   "metadata": {},
   "outputs": [],
   "source": [
    "X, cols_feat = makeX(df)"
   ]
  },
  {
   "cell_type": "code",
   "execution_count": 10,
   "metadata": {},
   "outputs": [],
   "source": [
    "Xtrn, Xval, ystrn, ysval = train_test_split(X, ys, test_size=0.15)"
   ]
  },
  {
   "cell_type": "markdown",
   "metadata": {},
   "source": [
    "# train"
   ]
  },
  {
   "cell_type": "code",
   "execution_count": 11,
   "metadata": {},
   "outputs": [
    {
     "name": "stderr",
     "output_type": "stream",
     "text": [
      "/home/ubuntu/anaconda3/envs/dask-tutorial/lib/python3.7/site-packages/distributed/dashboard/core.py:79: UserWarning: \n",
      "Port 8787 is already in use. \n",
      "Perhaps you already have a cluster running?\n",
      "Hosting the diagnostics dashboard on a random port instead.\n",
      "  warnings.warn(\"\\n\" + msg)\n",
      "distributed.nanny - WARNING - Worker exceeded 95% memory budget. Restarting\n",
      "distributed.nanny - WARNING - Restarting worker\n"
     ]
    },
    {
     "ename": "KeyboardInterrupt",
     "evalue": "",
     "output_type": "error",
     "traceback": [
      "\u001b[0;31m---------------------------------------------------------------------------\u001b[0m",
      "\u001b[0;31mKeyboardInterrupt\u001b[0m                         Traceback (most recent call last)",
      "\u001b[0;32m<ipython-input-11-99a5b8fdb7ba>\u001b[0m in \u001b[0;36m<module>\u001b[0;34m\u001b[0m\n\u001b[1;32m      8\u001b[0m     bst = dask_xgboost.train(client, params,\n\u001b[1;32m      9\u001b[0m                              \u001b[0mXtrn\u001b[0m\u001b[0;34m,\u001b[0m \u001b[0mystrn\u001b[0m\u001b[0;34m[\u001b[0m\u001b[0;34m:\u001b[0m\u001b[0;34m,\u001b[0m\u001b[0mi\u001b[0m\u001b[0;34m]\u001b[0m\u001b[0;34m,\u001b[0m\u001b[0;34m\u001b[0m\u001b[0;34m\u001b[0m\u001b[0m\n\u001b[0;32m---> 10\u001b[0;31m                              num_boost_round=20)\n\u001b[0m\u001b[1;32m     11\u001b[0m     \u001b[0mtgt2bst\u001b[0m\u001b[0;34m[\u001b[0m\u001b[0mtgt\u001b[0m\u001b[0;34m]\u001b[0m\u001b[0;34m=\u001b[0m\u001b[0mbst\u001b[0m\u001b[0;34m\u001b[0m\u001b[0;34m\u001b[0m\u001b[0m\n\u001b[1;32m     12\u001b[0m     \u001b[0mprint\u001b[0m\u001b[0;34m(\u001b[0m\u001b[0mdtnow\u001b[0m\u001b[0;34m(\u001b[0m\u001b[0;34m)\u001b[0m\u001b[0;34m,\u001b[0m \u001b[0mtgt\u001b[0m\u001b[0;34m)\u001b[0m\u001b[0;34m\u001b[0m\u001b[0;34m\u001b[0m\u001b[0m\n",
      "\u001b[0;32m~/anaconda3/envs/dask-tutorial/lib/python3.7/site-packages/dask_xgboost/core.py\u001b[0m in \u001b[0;36mtrain\u001b[0;34m(client, params, data, labels, dmatrix_kwargs, evals_result, **kwargs)\u001b[0m\n\u001b[1;32m    286\u001b[0m         \u001b[0mdmatrix_kwargs\u001b[0m\u001b[0;34m,\u001b[0m\u001b[0;34m\u001b[0m\u001b[0;34m\u001b[0m\u001b[0m\n\u001b[1;32m    287\u001b[0m         \u001b[0mevals_result\u001b[0m\u001b[0;34m,\u001b[0m\u001b[0;34m\u001b[0m\u001b[0;34m\u001b[0m\u001b[0m\n\u001b[0;32m--> 288\u001b[0;31m         \u001b[0;34m**\u001b[0m\u001b[0mkwargs\u001b[0m\u001b[0;34m\u001b[0m\u001b[0;34m\u001b[0m\u001b[0m\n\u001b[0m\u001b[1;32m    289\u001b[0m     )\n\u001b[1;32m    290\u001b[0m \u001b[0;34m\u001b[0m\u001b[0m\n",
      "\u001b[0;32m~/anaconda3/envs/dask-tutorial/lib/python3.7/site-packages/distributed/client.py\u001b[0m in \u001b[0;36msync\u001b[0;34m(self, func, asynchronous, callback_timeout, *args, **kwargs)\u001b[0m\n\u001b[1;32m    778\u001b[0m         \u001b[0;32melse\u001b[0m\u001b[0;34m:\u001b[0m\u001b[0;34m\u001b[0m\u001b[0;34m\u001b[0m\u001b[0m\n\u001b[1;32m    779\u001b[0m             return sync(\n\u001b[0;32m--> 780\u001b[0;31m                 \u001b[0mself\u001b[0m\u001b[0;34m.\u001b[0m\u001b[0mloop\u001b[0m\u001b[0;34m,\u001b[0m \u001b[0mfunc\u001b[0m\u001b[0;34m,\u001b[0m \u001b[0;34m*\u001b[0m\u001b[0margs\u001b[0m\u001b[0;34m,\u001b[0m \u001b[0mcallback_timeout\u001b[0m\u001b[0;34m=\u001b[0m\u001b[0mcallback_timeout\u001b[0m\u001b[0;34m,\u001b[0m \u001b[0;34m**\u001b[0m\u001b[0mkwargs\u001b[0m\u001b[0;34m\u001b[0m\u001b[0;34m\u001b[0m\u001b[0m\n\u001b[0m\u001b[1;32m    781\u001b[0m             )\n\u001b[1;32m    782\u001b[0m \u001b[0;34m\u001b[0m\u001b[0m\n",
      "\u001b[0;32m~/anaconda3/envs/dask-tutorial/lib/python3.7/site-packages/distributed/utils.py\u001b[0m in \u001b[0;36msync\u001b[0;34m(loop, func, callback_timeout, *args, **kwargs)\u001b[0m\n\u001b[1;32m    343\u001b[0m     \u001b[0;32melse\u001b[0m\u001b[0;34m:\u001b[0m\u001b[0;34m\u001b[0m\u001b[0;34m\u001b[0m\u001b[0m\n\u001b[1;32m    344\u001b[0m         \u001b[0;32mwhile\u001b[0m \u001b[0;32mnot\u001b[0m \u001b[0me\u001b[0m\u001b[0;34m.\u001b[0m\u001b[0mis_set\u001b[0m\u001b[0;34m(\u001b[0m\u001b[0;34m)\u001b[0m\u001b[0;34m:\u001b[0m\u001b[0;34m\u001b[0m\u001b[0;34m\u001b[0m\u001b[0m\n\u001b[0;32m--> 345\u001b[0;31m             \u001b[0me\u001b[0m\u001b[0;34m.\u001b[0m\u001b[0mwait\u001b[0m\u001b[0;34m(\u001b[0m\u001b[0;36m10\u001b[0m\u001b[0;34m)\u001b[0m\u001b[0;34m\u001b[0m\u001b[0;34m\u001b[0m\u001b[0m\n\u001b[0m\u001b[1;32m    346\u001b[0m     \u001b[0;32mif\u001b[0m \u001b[0merror\u001b[0m\u001b[0;34m[\u001b[0m\u001b[0;36m0\u001b[0m\u001b[0;34m]\u001b[0m\u001b[0;34m:\u001b[0m\u001b[0;34m\u001b[0m\u001b[0;34m\u001b[0m\u001b[0m\n\u001b[1;32m    347\u001b[0m         \u001b[0mtyp\u001b[0m\u001b[0;34m,\u001b[0m \u001b[0mexc\u001b[0m\u001b[0;34m,\u001b[0m \u001b[0mtb\u001b[0m \u001b[0;34m=\u001b[0m \u001b[0merror\u001b[0m\u001b[0;34m[\u001b[0m\u001b[0;36m0\u001b[0m\u001b[0;34m]\u001b[0m\u001b[0;34m\u001b[0m\u001b[0;34m\u001b[0m\u001b[0m\n",
      "\u001b[0;32m~/anaconda3/envs/dask-tutorial/lib/python3.7/threading.py\u001b[0m in \u001b[0;36mwait\u001b[0;34m(self, timeout)\u001b[0m\n\u001b[1;32m    550\u001b[0m             \u001b[0msignaled\u001b[0m \u001b[0;34m=\u001b[0m \u001b[0mself\u001b[0m\u001b[0;34m.\u001b[0m\u001b[0m_flag\u001b[0m\u001b[0;34m\u001b[0m\u001b[0;34m\u001b[0m\u001b[0m\n\u001b[1;32m    551\u001b[0m             \u001b[0;32mif\u001b[0m \u001b[0;32mnot\u001b[0m \u001b[0msignaled\u001b[0m\u001b[0;34m:\u001b[0m\u001b[0;34m\u001b[0m\u001b[0;34m\u001b[0m\u001b[0m\n\u001b[0;32m--> 552\u001b[0;31m                 \u001b[0msignaled\u001b[0m \u001b[0;34m=\u001b[0m \u001b[0mself\u001b[0m\u001b[0;34m.\u001b[0m\u001b[0m_cond\u001b[0m\u001b[0;34m.\u001b[0m\u001b[0mwait\u001b[0m\u001b[0;34m(\u001b[0m\u001b[0mtimeout\u001b[0m\u001b[0;34m)\u001b[0m\u001b[0;34m\u001b[0m\u001b[0;34m\u001b[0m\u001b[0m\n\u001b[0m\u001b[1;32m    553\u001b[0m             \u001b[0;32mreturn\u001b[0m \u001b[0msignaled\u001b[0m\u001b[0;34m\u001b[0m\u001b[0;34m\u001b[0m\u001b[0m\n\u001b[1;32m    554\u001b[0m \u001b[0;34m\u001b[0m\u001b[0m\n",
      "\u001b[0;32m~/anaconda3/envs/dask-tutorial/lib/python3.7/threading.py\u001b[0m in \u001b[0;36mwait\u001b[0;34m(self, timeout)\u001b[0m\n\u001b[1;32m    298\u001b[0m             \u001b[0;32melse\u001b[0m\u001b[0;34m:\u001b[0m\u001b[0;34m\u001b[0m\u001b[0;34m\u001b[0m\u001b[0m\n\u001b[1;32m    299\u001b[0m                 \u001b[0;32mif\u001b[0m \u001b[0mtimeout\u001b[0m \u001b[0;34m>\u001b[0m \u001b[0;36m0\u001b[0m\u001b[0;34m:\u001b[0m\u001b[0;34m\u001b[0m\u001b[0;34m\u001b[0m\u001b[0m\n\u001b[0;32m--> 300\u001b[0;31m                     \u001b[0mgotit\u001b[0m \u001b[0;34m=\u001b[0m \u001b[0mwaiter\u001b[0m\u001b[0;34m.\u001b[0m\u001b[0macquire\u001b[0m\u001b[0;34m(\u001b[0m\u001b[0;32mTrue\u001b[0m\u001b[0;34m,\u001b[0m \u001b[0mtimeout\u001b[0m\u001b[0;34m)\u001b[0m\u001b[0;34m\u001b[0m\u001b[0;34m\u001b[0m\u001b[0m\n\u001b[0m\u001b[1;32m    301\u001b[0m                 \u001b[0;32melse\u001b[0m\u001b[0;34m:\u001b[0m\u001b[0;34m\u001b[0m\u001b[0;34m\u001b[0m\u001b[0m\n\u001b[1;32m    302\u001b[0m                     \u001b[0mgotit\u001b[0m \u001b[0;34m=\u001b[0m \u001b[0mwaiter\u001b[0m\u001b[0;34m.\u001b[0m\u001b[0macquire\u001b[0m\u001b[0;34m(\u001b[0m\u001b[0;32mFalse\u001b[0m\u001b[0;34m)\u001b[0m\u001b[0;34m\u001b[0m\u001b[0;34m\u001b[0m\u001b[0m\n",
      "\u001b[0;31mKeyboardInterrupt\u001b[0m: "
     ]
    }
   ],
   "source": [
    "client = Client(n_workers=8, threads_per_worker=1)\n",
    "\n",
    "params = {'objective': 'binary:logistic'}\n",
    "\n",
    "tgt2bst={}\n",
    "tgt2col2fscr={}\n",
    "for i,tgt in enumerate(tgts):\n",
    "    bst = dask_xgboost.train(client, params,\n",
    "                             Xtrn, ystrn[:,i],\n",
    "                             num_boost_round=20)\n",
    "    tgt2bst[tgt]=bst\n",
    "    print(dtnow(), tgt)\n",
    "    \n",
    "    fi2col=dict(zip(bst.feature_names, cols_feat))\n",
    "    col2fi=dict(zip(cols_feat, bst.feature_names))\n",
    "    fi2fscr=bst.get_fscore()\n",
    "    col2fscr={col:fi2fscr.get(fi,0) for col,fi in col2fi.items()}\n",
    "    tgt2col2fscr[tgt]=col2fscr"
   ]
  },
  {
   "cell_type": "code",
   "execution_count": null,
   "metadata": {
    "scrolled": false
   },
   "outputs": [],
   "source": [
    "def show_feat_importance(bst):\n",
    "    ax = xgboost.plot_importance(bst, height=0.8, max_num_features=9)\n",
    "    ax.grid(False, axis=\"y\")\n",
    "    ax.set_title('Estimated feature importance')\n",
    "    plt.show()\n",
    "\n",
    "for i,tgt in enumerate(tgts):\n",
    "    print(tgt)\n",
    "#     show_feat_importance(tgt2bst[tgt])\n",
    "    col2fscr=tgt2col2fscr[tgt]\n",
    "    display(pd.DataFrame(col2fscr.items()).sort_values(1, ascending=False))"
   ]
  },
  {
   "cell_type": "markdown",
   "metadata": {},
   "source": [
    "# validate"
   ]
  },
  {
   "cell_type": "code",
   "execution_count": null,
   "metadata": {},
   "outputs": [],
   "source": [
    "tgt2yval={}\n",
    "tgt2prdval={}\n",
    "for i,tgt in enumerate(tgts):\n",
    "    print(dtnow(), tgt)\n",
    "    prdval = dask_xgboost.predict(client, tgt2bst[tgt], Xval).persist()\n",
    "    yval, prdval = dask.compute(ysval[:,i], prdval)\n",
    "    tgt2yval[tgt]=yval\n",
    "    tgt2prdval[tgt]=prdval"
   ]
  },
  {
   "cell_type": "code",
   "execution_count": null,
   "metadata": {},
   "outputs": [],
   "source": [
    "def show_roc(prd,y):\n",
    "    fpr, tpr, _ = roc_curve(y,prd)\n",
    "    fig, ax = plt.subplots(figsize=(5, 5))\n",
    "    ax.plot(fpr, tpr, lw=3,\n",
    "            label='ROC Curve (area = {:.2f})'.format(auc(fpr, tpr)))\n",
    "    ax.plot([0, 1], [0, 1], 'k--', lw=2)\n",
    "    ax.set(\n",
    "        xlim=(0, 1),\n",
    "        ylim=(0, 1),\n",
    "        title=\"ROC Curve\",\n",
    "        xlabel=\"False Positive Rate\",\n",
    "        ylabel=\"True Positive Rate\",\n",
    "    )\n",
    "    ax.legend();\n",
    "    plt.show()"
   ]
  },
  {
   "cell_type": "code",
   "execution_count": null,
   "metadata": {},
   "outputs": [],
   "source": [
    "tgt2auc={}\n",
    "tgt2rce={}\n",
    "for i,tgt in enumerate(tgts):\n",
    "    print(tgt)\n",
    "    yval = tgt2yval[tgt]\n",
    "    prdval = tgt2prdval[tgt]\n",
    "    scr_auc=compute_prauc(prdval, yval)\n",
    "    scr_rce=compute_rce(prdval, yval)\n",
    "    tgt2auc[tgt]=scr_auc\n",
    "    tgt2rce[tgt]=scr_rce\n",
    "    print('auc:',scr_auc)\n",
    "    print('rce:', scr_rce)\n",
    "    show_roc(prdval, yval)"
   ]
  },
  {
   "cell_type": "code",
   "execution_count": null,
   "metadata": {},
   "outputs": [],
   "source": [
    "lst=[]\n",
    "for tgt in ['Retweet','Reply','Like','RTwCmnt',]:\n",
    "    lst+=[(f'PRAUC {tgt}',tgt2auc[tgt]),\n",
    "          (f'RCE {tgt}',tgt2rce[tgt])]"
   ]
  },
  {
   "cell_type": "code",
   "execution_count": null,
   "metadata": {},
   "outputs": [],
   "source": [
    "pd.DataFrame(lst).T"
   ]
  },
  {
   "cell_type": "markdown",
   "metadata": {},
   "source": [
    "# infer"
   ]
  },
  {
   "cell_type": "code",
   "execution_count": null,
   "metadata": {},
   "outputs": [],
   "source": [
    "# !head -1000000 {p_in}/val.tsv > {p_in}/val1e6.tsv"
   ]
  },
  {
   "cell_type": "code",
   "execution_count": null,
   "metadata": {},
   "outputs": [],
   "source": [
    "dftst=dd.read_csv(f'{p_in}/val.tsv',\n",
    "                  sep='\\x01',\n",
    "               header=None,\n",
    "               names=cols_val,\n",
    "               encoding='utf8')"
   ]
  },
  {
   "cell_type": "code",
   "execution_count": null,
   "metadata": {},
   "outputs": [],
   "source": [
    "%%time\n",
    "Xtst, cols_feat = makeX(dftst)"
   ]
  },
  {
   "cell_type": "code",
   "execution_count": null,
   "metadata": {},
   "outputs": [],
   "source": [
    "%%time\n",
    "tgt2prdtst={}\n",
    "for i,tgt in enumerate(tgts):\n",
    "    prdtst = dask_xgboost.predict(client, tgt2bst[tgt], Xtst)\n",
    "    prdtst = prdtst\n",
    "    tgt2prdtst[tgt]=prdtst "
   ]
  },
  {
   "cell_type": "code",
   "execution_count": null,
   "metadata": {},
   "outputs": [],
   "source": [
    "dfsub_ids = dftst[['tweet_id','engaged_user_id',]]\n",
    "\n",
    "tgt2dfsub = {}\n",
    "for tgt,prdtst in tgt2prdtst.items():\n",
    "    dfsub = dfsub_ids.copy()\n",
    "    dfsub['scr'] = prdtst\n",
    "    tgt2dfsub[tgt]=dfsub"
   ]
  },
  {
   "cell_type": "code",
   "execution_count": null,
   "metadata": {},
   "outputs": [],
   "source": [
    "%%time\n",
    "for tgt, dfsub in tgt2dfsub.items():\n",
    "    print(dtnow(), tgt)\n",
    "    dfsub.to_csv(f'{p_out}/{tgt}__{PRFX}.csv',index=False,header=False,single_file=True)"
   ]
  },
  {
   "cell_type": "code",
   "execution_count": null,
   "metadata": {},
   "outputs": [],
   "source": [
    "# %%time\n",
    "# for tgt in tgts:\n",
    "#     print(dtnow(), tgt)\n",
    "#     dfsub = pd.concat(pd.read_csv(o, header=None) for o in sorted(glob.glob(f'{p_out}/{tgt}__{PRFX}_*.csv')))\n",
    "#     dfsub.to_csv(f'{p_out}/{tgt}__{PRFX}.csv', \n",
    "#                           index=False, \n",
    "#                           header=False)"
   ]
  },
  {
   "cell_type": "code",
   "execution_count": null,
   "metadata": {
    "scrolled": true
   },
   "outputs": [],
   "source": [
    "!head -n 2 {p_in}/val1e4.tsv"
   ]
  },
  {
   "cell_type": "code",
   "execution_count": null,
   "metadata": {},
   "outputs": [],
   "source": [
    "for tgt in tgts:\n",
    "    !head -n 2 {p_out}/{tgt}__0315_1.csv"
   ]
  },
  {
   "cell_type": "code",
   "execution_count": null,
   "metadata": {},
   "outputs": [],
   "source": []
  },
  {
   "cell_type": "code",
   "execution_count": null,
   "metadata": {},
   "outputs": [],
   "source": []
  }
 ],
 "metadata": {
  "kernelspec": {
   "display_name": "dask-tutorial",
   "language": "python",
   "name": "dask-tutorial"
  },
  "language_info": {
   "codemirror_mode": {
    "name": "ipython",
    "version": 3
   },
   "file_extension": ".py",
   "mimetype": "text/x-python",
   "name": "python",
   "nbconvert_exporter": "python",
   "pygments_lexer": "ipython3",
   "version": "3.7.6"
  },
  "toc": {
   "base_numbering": 1,
   "nav_menu": {},
   "number_sections": true,
   "sideBar": true,
   "skip_h1_title": false,
   "title_cell": "Table of Contents",
   "title_sidebar": "Contents",
   "toc_cell": false,
   "toc_position": {},
   "toc_section_display": true,
   "toc_window_display": true
  }
 },
 "nbformat": 4,
 "nbformat_minor": 2
}
