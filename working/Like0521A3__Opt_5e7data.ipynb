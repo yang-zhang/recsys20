{
 "cells": [
  {
   "cell_type": "markdown",
   "metadata": {},
   "source": [
    "# start"
   ]
  },
  {
   "cell_type": "code",
   "execution_count": 1,
   "metadata": {},
   "outputs": [
    {
     "name": "stdout",
     "output_type": "stream",
     "text": [
      "train_total 148,075,238, test_total 14,000,000\n",
      "train_total 50,000,000, valsz 5,000,000\n",
      "['2020-03-17 02:32:24', '2020-05-21 15:43:26']\n",
      "['2020-02-06 00:00:00', '2020-02-12 23:59:59']\n",
      "['2020-02-13 00:00:00', '2020-02-19 23:59:59']\n"
     ]
    }
   ],
   "source": [
    "TGT='Like'\n",
    "PRFX='Like0521A3'\n",
    "\n",
    "trntmstmp=1584412344\n",
    "tsttmstmp=1590075806\n",
    "\n",
    "tm_trn_min,tm_trn_max=(1580947200, 1581551999)\n",
    "tm_tst_min,tm_tst_max=(1581552000, 1582156799)\n",
    "\n",
    "train_total=148075238\n",
    "test_total=int(1.4e7)\n",
    "print(f'train_total {train_total:,}, test_total {test_total:,}')\n",
    "\n",
    "SEED=101\n",
    "\n",
    "trnsz = int(5e7)\n",
    "valsz = trnsz//10\n",
    "print(f'train_total {trnsz:,}, valsz {valsz:,}')\n",
    "\n",
    "\n",
    "\n",
    "import datetime\n",
    "def showtm(tm): return datetime.datetime.fromtimestamp(tm).strftime('%Y-%m-%d %H:%M:%S')\n",
    "print([showtm(tm) for tm in (trntmstmp, tsttmstmp)])\n",
    "print([showtm(tm) for tm in (tm_trn_min,tm_trn_max)])\n",
    "print([showtm(tm) for tm in (tm_tst_min,tm_tst_max)])"
   ]
  },
  {
   "cell_type": "markdown",
   "metadata": {},
   "source": [
    "# setup"
   ]
  },
  {
   "cell_type": "code",
   "execution_count": 2,
   "metadata": {},
   "outputs": [
    {
     "name": "stdout",
     "output_type": "stream",
     "text": [
      "TCOL like\n",
      "{'Retweet': 'retwt', 'Reply': 'reply', 'Like': 'like', 'RTwCmnt': 'retwt_cmmnt'}\n"
     ]
    }
   ],
   "source": [
    "from tqdm import tqdm\n",
    "import time\n",
    "from pathlib import Path\n",
    "from collections import Counter,defaultdict\n",
    "from sklearn.model_selection import train_test_split\n",
    "import pandas as pd\n",
    "import numpy as np\n",
    "import matplotlib.pyplot as plt\n",
    "from sklearn.metrics import accuracy_score, roc_auc_score, roc_curve, auc, precision_recall_curve\n",
    "import pickle\n",
    "# import xgboost as xgb\n",
    "import lightgbm as lgb\n",
    "import category_encoders as ce\n",
    "import gc\n",
    "\n",
    "import optuna\n",
    "# optuna.logging.CRITICAL, optuna.logging.FATAL\n",
    "# optuna.logging.ERROR\n",
    "# optuna.logging.WARNING, optuna.logging.WARN\n",
    "# optuna.logging.INFO\n",
    "# optuna.logging.DEBUG\n",
    "# optuna.logging.set_verbosity(optuna.logging.ERROR)\n",
    "import optuna.integration.lightgbm as lgb\n",
    "optuna.logging.disable_default_handler()\n",
    "\n",
    "\n",
    "pd.set_option('display.max_rows', 500)\n",
    "pd.set_option('display.max_columns', 500)\n",
    "\n",
    "\n",
    "import datetime\n",
    "def dtnow(): return datetime.datetime.now().strftime('%Y-%m-%d %H:%M:%S')\n",
    "\n",
    "def iou(s1,s2):\n",
    "    return len(s1&s2) / len(s1|s2)\n",
    "\n",
    "HOME='/data/git/recsys20'\n",
    "p_in=f'{HOME}/input'\n",
    "p_out=f'{HOME}/output/{PRFX}'\n",
    "Path(p_out).mkdir(exist_ok=True, parents=True)\n",
    "\n",
    "from sklearn.metrics import precision_recall_curve, auc, log_loss\n",
    "\n",
    "def compute_prauc(pred, gt):\n",
    "    prec, recall, thresh = precision_recall_curve(gt, pred)\n",
    "    prauc = auc(recall, prec)\n",
    "    return prauc\n",
    "\n",
    "def calculate_ctr(gt):\n",
    "    positive = len([x for x in gt if x == 1])\n",
    "    ctr = positive/float(len(gt))\n",
    "    return ctr\n",
    "\n",
    "def compute_rce(pred, gt):\n",
    "    cross_entropy = log_loss(gt, pred)\n",
    "    data_ctr = calculate_ctr(gt)\n",
    "    strawman_cross_entropy = log_loss(gt, [data_ctr for _ in range(len(gt))])\n",
    "    return (1.0 - cross_entropy/strawman_cross_entropy)*100.0\n",
    "\n",
    "# https://towardsdatascience.com/how-to-calibrate-undersampled-model-scores-8f3319c1ea5b\n",
    "# How to use the function?\n",
    "# Let’s say your goal is to generate a model that shows the credit default probabilities and your original \n",
    "# training data has 50,000 rows with only 500 of them labeled as target class. When you sample your non-target \n",
    "# instances randomly and reduce the total row count to 10,000, while conserving 500 target rows, our calibration\n",
    "# function becomes:\n",
    "# calibration(model_results, 50000, 500, 10000, 500)\n",
    "# Here model_results is your model probability output array. After you train your model and put the results in it, your function is ready to use. \n",
    "def calibration(data, train_pop, target_pop, sampled_train_pop, sampled_target_pop):\n",
    "    calibrated_data = ((data * (target_pop / train_pop) / (sampled_target_pop / sampled_train_pop)) /\n",
    "    (((1 - data) * (1 - target_pop / train_pop) / (1 - sampled_target_pop / sampled_train_pop)) +\n",
    "     (data * (target_pop / train_pop) / (sampled_target_pop / sampled_train_pop))))\n",
    "    return calibrated_data\n",
    "\n",
    "\n",
    "cols=['toks','hshtgs','twtid','media','links','domns','twttyp','lang','tm','u1id','u1_fllwer_cnt','u1_fllwing_cnt','u1_vrfed','u1_create_tm','u2id','u2_fllwer_cnt','u2_fllwng_cnt','u2_vrfed','u2_create_tm','u1_fllw_u2','reply_tm','retwt_tm','retwt_cmmnt_tm','like_tm',]\n",
    "\n",
    "cols_val = cols[:-4]\n",
    "cols_tgt_tmstmp=[ 'retwt_tm', 'reply_tm', 'like_tm', 'retwt_cmmnt_tm',]\n",
    "cols_tgt=[o.split('_tm')[0] for o in cols_tgt_tmstmp]\n",
    "tgts             = ['Retweet','Reply','Like','RTwCmnt',]\n",
    "assert cols_tgt == ['retwt',  'reply','like','retwt_cmmnt',]\n",
    "tgt2col = dict(zip(tgts, cols_tgt))\n",
    "TCOL=tgt2col[TGT]\n",
    "print('TCOL', TCOL)\n",
    "print(tgt2col)"
   ]
  },
  {
   "cell_type": "markdown",
   "metadata": {},
   "source": [
    "# prep"
   ]
  },
  {
   "cell_type": "code",
   "execution_count": 3,
   "metadata": {},
   "outputs": [],
   "source": [
    "def prp_tgt(df):\n",
    "    df[cols_tgt]=df[cols_tgt_tmstmp].notna()\n",
    "    df.drop(columns=cols_tgt_tmstmp, inplace=True)\n",
    "    display(df[cols_tgt].mean())"
   ]
  },
  {
   "cell_type": "code",
   "execution_count": 4,
   "metadata": {
    "scrolled": false
   },
   "outputs": [
    {
     "name": "stdout",
     "output_type": "stream",
     "text": [
      "(5000000, 24)\n"
     ]
    },
    {
     "data": {
      "text/plain": [
       "retwt          0.113031\n",
       "reply          0.027488\n",
       "like           0.439499\n",
       "retwt_cmmnt    0.007742\n",
       "dtype: float64"
      ]
     },
     "metadata": {},
     "output_type": "display_data"
    },
    {
     "name": "stdout",
     "output_type": "stream",
     "text": [
      "CPU times: user 35.7 s, sys: 6.22 s, total: 41.9 s\n",
      "Wall time: 56.1 s\n"
     ]
    }
   ],
   "source": [
    "%%time\n",
    "dfval = pd.read_csv(f'{p_in}/trn_{trntmstmp}.tsv',sep='\\x01',header=None,names=cols,nrows=valsz)\n",
    "print(dfval.shape)\n",
    "prp_tgt(dfval)"
   ]
  },
  {
   "cell_type": "markdown",
   "metadata": {},
   "source": [
    "## maybe oversample"
   ]
  },
  {
   "cell_type": "code",
   "execution_count": 5,
   "metadata": {},
   "outputs": [],
   "source": [
    "# df = pd.read_csv(f'{p_in}/trn_{trntmstmp}.tsv',sep='\\x01',header=None,names=cols,nrows=5)\n",
    "# dfval = pd.read_csv(f'{p_in}/trn_{trntmstmp}.tsv',sep='\\x01',header=None,names=cols,nrows=2)\n",
    "# dftrn = pd.read_csv(f'{p_in}/trn_{trntmstmp}.tsv',sep='\\x01',header=None,names=cols,skiprows=2,nrows=3)\n",
    "# display(df.twtid)\n",
    "# display(dfval.twtid)\n",
    "# display(dftrn.twtid)\n",
    "\n",
    "# 0    D4D1EBDE74F74C5DA529959AF979625C\n",
    "# 1    BFB529DAB6D384EB83E899A72AB3830D\n",
    "# 2    519078C7834E9642508F72A6C2D0F3B7\n",
    "# 3    52AAE9E33EFAC8C478C57B31A9E31ED1\n",
    "# 4    89C1298C55EB3D68E2784F0BFB69E6F8\n",
    "# Name: twtid, dtype: object\n",
    "# 0    D4D1EBDE74F74C5DA529959AF979625C\n",
    "# 1    BFB529DAB6D384EB83E899A72AB3830D\n",
    "# Name: twtid, dtype: object\n",
    "# 0    519078C7834E9642508F72A6C2D0F3B7\n",
    "# 1    52AAE9E33EFAC8C478C57B31A9E31ED1\n",
    "# 2    89C1298C55EB3D68E2784F0BFB69E6F8\n",
    "# Name: twtid, dtype: object"
   ]
  },
  {
   "cell_type": "code",
   "execution_count": 6,
   "metadata": {
    "scrolled": true
   },
   "outputs": [
    {
     "name": "stdout",
     "output_type": "stream",
     "text": [
      "(50000000, 24)\n"
     ]
    },
    {
     "data": {
      "text/plain": [
       "retwt          0.113073\n",
       "reply          0.027466\n",
       "like           0.439151\n",
       "retwt_cmmnt    0.007798\n",
       "dtype: float64"
      ]
     },
     "metadata": {},
     "output_type": "display_data"
    },
    {
     "name": "stdout",
     "output_type": "stream",
     "text": [
      "CPU times: user 6min 28s, sys: 1min 46s, total: 8min 14s\n",
      "Wall time: 11min 8s\n"
     ]
    }
   ],
   "source": [
    "%%time\n",
    "if TGT in ('Retweet','Like'): trnpop=trnsz\n",
    "if TGT=='Reply': trnpop=trnsz*3.7\n",
    "if TGT=='RTwCmnt': trnpop=trnsz*11.5\n",
    "assert trnpop<train_total\n",
    "\n",
    "dftrn = pd.read_csv(f'{p_in}/trn_{trntmstmp}.tsv',sep='\\x01',header=None,names=cols,\n",
    "                     skiprows=valsz, nrows=trnpop)\n",
    "print(dftrn.shape)\n",
    "prp_tgt(dftrn)"
   ]
  },
  {
   "cell_type": "code",
   "execution_count": 7,
   "metadata": {
    "scrolled": true
   },
   "outputs": [
    {
     "name": "stdout",
     "output_type": "stream",
     "text": [
      "(50000000, 24) 0.43915052\n",
      "50000000 21957526 50000000 21957526\n"
     ]
    },
    {
     "data": {
      "text/html": [
       "<div>\n",
       "<style scoped>\n",
       "    .dataframe tbody tr th:only-of-type {\n",
       "        vertical-align: middle;\n",
       "    }\n",
       "\n",
       "    .dataframe tbody tr th {\n",
       "        vertical-align: top;\n",
       "    }\n",
       "\n",
       "    .dataframe thead th {\n",
       "        text-align: right;\n",
       "    }\n",
       "</style>\n",
       "<table border=\"1\" class=\"dataframe\">\n",
       "  <thead>\n",
       "    <tr style=\"text-align: right;\">\n",
       "      <th></th>\n",
       "      <th>toks</th>\n",
       "      <th>hshtgs</th>\n",
       "      <th>twtid</th>\n",
       "      <th>media</th>\n",
       "      <th>links</th>\n",
       "      <th>domns</th>\n",
       "      <th>twttyp</th>\n",
       "      <th>lang</th>\n",
       "      <th>tm</th>\n",
       "      <th>u1id</th>\n",
       "      <th>u1_fllwer_cnt</th>\n",
       "      <th>u1_fllwing_cnt</th>\n",
       "      <th>u1_vrfed</th>\n",
       "      <th>u1_create_tm</th>\n",
       "      <th>u2id</th>\n",
       "      <th>u2_fllwer_cnt</th>\n",
       "      <th>u2_fllwng_cnt</th>\n",
       "      <th>u2_vrfed</th>\n",
       "      <th>u2_create_tm</th>\n",
       "      <th>u1_fllw_u2</th>\n",
       "      <th>retwt</th>\n",
       "      <th>reply</th>\n",
       "      <th>like</th>\n",
       "      <th>retwt_cmmnt</th>\n",
       "    </tr>\n",
       "  </thead>\n",
       "  <tbody>\n",
       "    <tr>\n",
       "      <th>0</th>\n",
       "      <td>101\\t4476\\t4348\\t1966\\t25204\\t5660\\t1976\\t4704...</td>\n",
       "      <td>37818B31C1704769399E042511BA4C17</td>\n",
       "      <td>A7F392023C43A70315065C2A3ADDC278</td>\n",
       "      <td>Photo\\tPhoto</td>\n",
       "      <td>NaN</td>\n",
       "      <td>NaN</td>\n",
       "      <td>TopLevel</td>\n",
       "      <td>22C448FF81263D4BAF2A176145EE9EAD</td>\n",
       "      <td>1581085559</td>\n",
       "      <td>DB1C90DF04A5BBEFDCE020C5984D383D</td>\n",
       "      <td>92747</td>\n",
       "      <td>182</td>\n",
       "      <td>False</td>\n",
       "      <td>1309349662</td>\n",
       "      <td>4524EA2B6D799DB23D35E5956652783D</td>\n",
       "      <td>585</td>\n",
       "      <td>3715</td>\n",
       "      <td>False</td>\n",
       "      <td>1517242643</td>\n",
       "      <td>False</td>\n",
       "      <td>False</td>\n",
       "      <td>False</td>\n",
       "      <td>True</td>\n",
       "      <td>False</td>\n",
       "    </tr>\n",
       "    <tr>\n",
       "      <th>1</th>\n",
       "      <td>101\\t7218\\t5600\\t4348\\t1910\\t37133\\t12236\\t103...</td>\n",
       "      <td>NaN</td>\n",
       "      <td>D9225516353D575D61D940FBEF1F30AA</td>\n",
       "      <td>NaN</td>\n",
       "      <td>NaN</td>\n",
       "      <td>NaN</td>\n",
       "      <td>Quote</td>\n",
       "      <td>22C448FF81263D4BAF2A176145EE9EAD</td>\n",
       "      <td>1581258666</td>\n",
       "      <td>96CDDA7BD14717C9CFC35F6CF958C6DE</td>\n",
       "      <td>248661</td>\n",
       "      <td>454</td>\n",
       "      <td>False</td>\n",
       "      <td>1408558347</td>\n",
       "      <td>4524EA2B6D799DB23D35E5956652783D</td>\n",
       "      <td>585</td>\n",
       "      <td>3715</td>\n",
       "      <td>False</td>\n",
       "      <td>1517242643</td>\n",
       "      <td>False</td>\n",
       "      <td>False</td>\n",
       "      <td>False</td>\n",
       "      <td>True</td>\n",
       "      <td>False</td>\n",
       "    </tr>\n",
       "    <tr>\n",
       "      <th>2</th>\n",
       "      <td>101\\t97074\\t59599\\t10133\\t10437\\t10120\\t58848\\...</td>\n",
       "      <td>NaN</td>\n",
       "      <td>3B753380FABA06FD22189FBC1479ED4C</td>\n",
       "      <td>NaN</td>\n",
       "      <td>NaN</td>\n",
       "      <td>NaN</td>\n",
       "      <td>TopLevel</td>\n",
       "      <td>ECED8A16BE2A5E8871FD55F4842F16B1</td>\n",
       "      <td>1581021899</td>\n",
       "      <td>942CAA7AC2C628EA418AC5C33631E2A7</td>\n",
       "      <td>365</td>\n",
       "      <td>312</td>\n",
       "      <td>False</td>\n",
       "      <td>1239406983</td>\n",
       "      <td>4524EA4E8220BB5B58D59F0769057177</td>\n",
       "      <td>60</td>\n",
       "      <td>63</td>\n",
       "      <td>False</td>\n",
       "      <td>1310696993</td>\n",
       "      <td>True</td>\n",
       "      <td>False</td>\n",
       "      <td>False</td>\n",
       "      <td>True</td>\n",
       "      <td>False</td>\n",
       "    </tr>\n",
       "    <tr>\n",
       "      <th>3</th>\n",
       "      <td>101\\t56898\\t137\\t13000\\t13788\\t15976\\t41756\\t1...</td>\n",
       "      <td>NaN</td>\n",
       "      <td>1D26FC14403A203B33F5E73C8E10CC6A</td>\n",
       "      <td>NaN</td>\n",
       "      <td>NaN</td>\n",
       "      <td>NaN</td>\n",
       "      <td>Retweet</td>\n",
       "      <td>06D61DCBBE938971E1EA0C38BD9B5446</td>\n",
       "      <td>1581291259</td>\n",
       "      <td>0C048EC997A555324D7A3B0A8136D8C1</td>\n",
       "      <td>1645</td>\n",
       "      <td>678</td>\n",
       "      <td>False</td>\n",
       "      <td>1382659382</td>\n",
       "      <td>4524EB29D12EE91CB8FABCCF20436395</td>\n",
       "      <td>909</td>\n",
       "      <td>575</td>\n",
       "      <td>False</td>\n",
       "      <td>1366224563</td>\n",
       "      <td>True</td>\n",
       "      <td>False</td>\n",
       "      <td>False</td>\n",
       "      <td>False</td>\n",
       "      <td>False</td>\n",
       "    </tr>\n",
       "    <tr>\n",
       "      <th>4</th>\n",
       "      <td>101\\t56898\\t137\\t11161\\t26252\\t57717\\t84709\\t1...</td>\n",
       "      <td>NaN</td>\n",
       "      <td>B5578548D6C4CECE3D10B0D2AF6A4F8D</td>\n",
       "      <td>NaN</td>\n",
       "      <td>NaN</td>\n",
       "      <td>NaN</td>\n",
       "      <td>Retweet</td>\n",
       "      <td>06D61DCBBE938971E1EA0C38BD9B5446</td>\n",
       "      <td>1581383127</td>\n",
       "      <td>39F9D34C69FA849408B9ECDADD239B2F</td>\n",
       "      <td>166</td>\n",
       "      <td>155</td>\n",
       "      <td>False</td>\n",
       "      <td>1549643033</td>\n",
       "      <td>4524EB29D12EE91CB8FABCCF20436395</td>\n",
       "      <td>909</td>\n",
       "      <td>575</td>\n",
       "      <td>False</td>\n",
       "      <td>1366224563</td>\n",
       "      <td>True</td>\n",
       "      <td>False</td>\n",
       "      <td>False</td>\n",
       "      <td>False</td>\n",
       "      <td>False</td>\n",
       "    </tr>\n",
       "  </tbody>\n",
       "</table>\n",
       "</div>"
      ],
      "text/plain": [
       "                                                toks  \\\n",
       "0  101\\t4476\\t4348\\t1966\\t25204\\t5660\\t1976\\t4704...   \n",
       "1  101\\t7218\\t5600\\t4348\\t1910\\t37133\\t12236\\t103...   \n",
       "2  101\\t97074\\t59599\\t10133\\t10437\\t10120\\t58848\\...   \n",
       "3  101\\t56898\\t137\\t13000\\t13788\\t15976\\t41756\\t1...   \n",
       "4  101\\t56898\\t137\\t11161\\t26252\\t57717\\t84709\\t1...   \n",
       "\n",
       "                             hshtgs                             twtid  \\\n",
       "0  37818B31C1704769399E042511BA4C17  A7F392023C43A70315065C2A3ADDC278   \n",
       "1                               NaN  D9225516353D575D61D940FBEF1F30AA   \n",
       "2                               NaN  3B753380FABA06FD22189FBC1479ED4C   \n",
       "3                               NaN  1D26FC14403A203B33F5E73C8E10CC6A   \n",
       "4                               NaN  B5578548D6C4CECE3D10B0D2AF6A4F8D   \n",
       "\n",
       "          media links domns    twttyp                              lang  \\\n",
       "0  Photo\\tPhoto   NaN   NaN  TopLevel  22C448FF81263D4BAF2A176145EE9EAD   \n",
       "1           NaN   NaN   NaN     Quote  22C448FF81263D4BAF2A176145EE9EAD   \n",
       "2           NaN   NaN   NaN  TopLevel  ECED8A16BE2A5E8871FD55F4842F16B1   \n",
       "3           NaN   NaN   NaN   Retweet  06D61DCBBE938971E1EA0C38BD9B5446   \n",
       "4           NaN   NaN   NaN   Retweet  06D61DCBBE938971E1EA0C38BD9B5446   \n",
       "\n",
       "           tm                              u1id  u1_fllwer_cnt  \\\n",
       "0  1581085559  DB1C90DF04A5BBEFDCE020C5984D383D          92747   \n",
       "1  1581258666  96CDDA7BD14717C9CFC35F6CF958C6DE         248661   \n",
       "2  1581021899  942CAA7AC2C628EA418AC5C33631E2A7            365   \n",
       "3  1581291259  0C048EC997A555324D7A3B0A8136D8C1           1645   \n",
       "4  1581383127  39F9D34C69FA849408B9ECDADD239B2F            166   \n",
       "\n",
       "   u1_fllwing_cnt  u1_vrfed  u1_create_tm                              u2id  \\\n",
       "0             182     False    1309349662  4524EA2B6D799DB23D35E5956652783D   \n",
       "1             454     False    1408558347  4524EA2B6D799DB23D35E5956652783D   \n",
       "2             312     False    1239406983  4524EA4E8220BB5B58D59F0769057177   \n",
       "3             678     False    1382659382  4524EB29D12EE91CB8FABCCF20436395   \n",
       "4             155     False    1549643033  4524EB29D12EE91CB8FABCCF20436395   \n",
       "\n",
       "   u2_fllwer_cnt  u2_fllwng_cnt  u2_vrfed  u2_create_tm  u1_fllw_u2  retwt  \\\n",
       "0            585           3715     False    1517242643       False  False   \n",
       "1            585           3715     False    1517242643       False  False   \n",
       "2             60             63     False    1310696993        True  False   \n",
       "3            909            575     False    1366224563        True  False   \n",
       "4            909            575     False    1366224563        True  False   \n",
       "\n",
       "   reply   like  retwt_cmmnt  \n",
       "0  False   True        False  \n",
       "1  False   True        False  \n",
       "2  False   True        False  \n",
       "3  False  False        False  \n",
       "4  False  False        False  "
      ]
     },
     "metadata": {},
     "output_type": "display_data"
    },
    {
     "data": {
      "text/plain": [
       "Index(['toks', 'hshtgs', 'twtid', 'media', 'links', 'domns', 'twttyp', 'lang',\n",
       "       'tm', 'u1id', 'u1_fllwer_cnt', 'u1_fllwing_cnt', 'u1_vrfed',\n",
       "       'u1_create_tm', 'u2id', 'u2_fllwer_cnt', 'u2_fllwng_cnt', 'u2_vrfed',\n",
       "       'u2_create_tm', 'u1_fllw_u2', 'retwt', 'reply', 'like', 'retwt_cmmnt'],\n",
       "      dtype='object')"
      ]
     },
     "metadata": {},
     "output_type": "display_data"
    }
   ],
   "source": [
    "train_pop=len(dftrn)\n",
    "sampled_train_pop=trnsz\n",
    "idx_pos = np.where(dftrn[TCOL])[0]\n",
    "target_pop=sampled_target_pop=len(idx_pos)\n",
    "if TGT in ('Reply','RTwCmnt'):\n",
    "    idx_neg0 = np.where(~dftrn[TCOL])[0]\n",
    "    idx_neg = np.random.choice(idx_neg0, trnsz-len(idx_pos), replace=False)\n",
    "    idx = np.concatenate([idx_pos,idx_neg])\n",
    "    dftrn = dftrn.iloc[idx].copy()\n",
    "print(dftrn.shape, dftrn[TCOL].mean())\n",
    "print(train_pop, target_pop, sampled_train_pop, sampled_target_pop)\n",
    "\n",
    "display(dftrn.head())\n",
    "display(dftrn.columns)"
   ]
  },
  {
   "cell_type": "markdown",
   "metadata": {},
   "source": [
    "## prep and features"
   ]
  },
  {
   "cell_type": "code",
   "execution_count": 8,
   "metadata": {},
   "outputs": [],
   "source": [
    "def prp_df(df, tm_max):\n",
    "    '''\n",
    "    tm_max = tm_trn_max for train tm_tst_max for test\n",
    "    '''\n",
    "    lendf = len(df)\n",
    "    print(dtnow(), 'start')\n",
    "    set_u1 = set(df.u1id)\n",
    "    set_u2 = set(df.u2id)\n",
    "    df['u1inu2']=df.u1id.isin(set_u2)\n",
    "    df['u2inu1']=df.u2id.isin(set_u1)\n",
    "\n",
    "    #counts\n",
    "    df['len_toks'] = df.toks.apply(lambda x: len(x.split('\\t')))\n",
    "    df.drop(columns=['toks'], inplace=True)    \n",
    "    for m in ['Photo', 'Video', 'GIF']:\n",
    "        df[f'n_media_{m}'] = df['media'].fillna('').apply(lambda x: x.split('\\t').count(m))\n",
    "    tgnms = ['hshtgs','media', 'links', 'domns',]\n",
    "    for tgnm in tgnms:\n",
    "        df[f'has_{tgnm}']=df[tgnm].notna()\n",
    "        df[f'lst_{tgnm}'] = df[tgnm].fillna('').apply(lambda x: x.split('\\t') if len(x) else [])\n",
    "        df[f'n_{tgnm}'] = df[f'lst_{tgnm}'].apply(len)  \n",
    "    df.drop(columns=['has_links','n_links'], inplace=True) #duplicates has_domns,n_domns \n",
    "    \n",
    "    #time\n",
    "    dt = pd.to_datetime(df.tm, unit='s')\n",
    "    df['dayofweek'] = dt.dt.dayofweek\n",
    "    df['hour'] = dt.dt.hour\n",
    "    \n",
    "    df['tmdlta_u2u1']  = df.u2_create_tm - df.u1_create_tm\n",
    "    df['tmdlta_twtu1'] = df.tm - df.u1_create_tm\n",
    "    df['tmdlta_twtu2'] = df.tm - df.u2_create_tm\n",
    "\n",
    "    df['twt_age']   = tm_max-df.tm\n",
    "    df['u1_age']    = tm_max-df.u1_create_tm\n",
    "    df['u2_age']    = tm_max-df.u2_create_tm\n",
    "    df.drop(columns=['tm', 'u1_create_tm', 'u2_create_tm'], inplace=True)\n",
    "\n",
    "    #time derived\n",
    "    df['u1_fllwer_cnt_by_age'] = df.u1_fllwer_cnt / df.u1_age\n",
    "    df['u1_fllwng_cnt_by_age'] = df.u2_fllwng_cnt / df.u2_age\n",
    "    \n",
    "    #interaction\n",
    "    df['u1u2']=df.u1id+'_'+df.u2id\n",
    "    df['langhour']=df.lang+'_'+df.hour.astype(str)\n",
    "    \n",
    "\n",
    "#     #freq of feature values\n",
    "#     print(dtnow(), 'freq of columns using CountEncoder')\n",
    "#     encoder = ce.CountEncoder()\n",
    "#     encoded = encoder.fit_transform(\n",
    "#     df[['twtid', 'twttyp', 'lang', 'u1id', 'u1_fllwing_cnt', 'u1_vrfed', 'u2id', 'u2_fllwer_cnt', 'u2_vrfed', 'u1_fllw_u2', \n",
    "#        'n_media_Photo', 'n_media_Video', 'n_media_GIF', \n",
    "#        'has_hshtgs', 'n_hshtgs', 'has_media', 'n_media','has_domns', 'n_domns', \n",
    "#        'dayofweek', 'hour', 'u1u2', 'langhour']].astype(object))\n",
    "#     encoded = encoded.astype(int)/lendf\n",
    "#     encoded.columns = [f'frq_{col}' for col in encoded.columns]\n",
    "#     df = pd.concat([df,encoded],1)\n",
    "    \n",
    "    #freq of tgnm values\n",
    "#     print(dtnow(), 'freq of tags')\n",
    "#     for tgnm in tgnms:\n",
    "#         vs = [j for i in df[f'lst_{tgnm}'] for j in i]\n",
    "#         cnt = Counter(vs)\n",
    "#         frq = {k:v/lendf for k,v in cnt.items()}\n",
    "#         df[f'sumfrq_{tgnm}']=df[f'lst_{tgnm}'].apply(lambda x: sum([frq.get(o,0) for o in x]))\n",
    "#         df[f'maxfrq_{tgnm}']=df[f'lst_{tgnm}'].apply(lambda x: max([frq.get(o,0) for o in x]) if len(x) else 0)\n",
    "    \n",
    "    df.drop(columns=tgnms+[f'lst_{tgnm}' for tgnm in tgnms],inplace=True)\n",
    "\n",
    "    print(dtnow(), 'done')\n",
    "    return df"
   ]
  },
  {
   "cell_type": "code",
   "execution_count": 9,
   "metadata": {},
   "outputs": [
    {
     "name": "stdout",
     "output_type": "stream",
     "text": [
      "2020-05-27 02:54:26 start\n",
      "2020-05-27 03:33:41 done\n",
      "CPU times: user 17min 27s, sys: 8min 35s, total: 26min 2s\n",
      "Wall time: 39min 45s\n"
     ]
    }
   ],
   "source": [
    "%%time\n",
    "dftrn=prp_df(dftrn, tm_max=tm_trn_max)"
   ]
  },
  {
   "cell_type": "code",
   "execution_count": 10,
   "metadata": {},
   "outputs": [
    {
     "name": "stdout",
     "output_type": "stream",
     "text": [
      "2020-05-27 03:34:12 start\n",
      "2020-05-27 03:39:46 done\n",
      "CPU times: user 1min 25s, sys: 23.8 s, total: 1min 49s\n",
      "Wall time: 5min 34s\n"
     ]
    }
   ],
   "source": [
    "%%time\n",
    "dfval=prp_df(dfval, tm_max=tm_trn_max)"
   ]
  },
  {
   "cell_type": "markdown",
   "metadata": {},
   "source": [
    "## tr vl split"
   ]
  },
  {
   "cell_type": "code",
   "execution_count": 11,
   "metadata": {},
   "outputs": [
    {
     "data": {
      "text/plain": [
       "30"
      ]
     },
     "execution_count": 11,
     "metadata": {},
     "output_type": "execute_result"
    }
   ],
   "source": [
    "msk_vl=np.random.rand(len(dftrn))<0.15\n",
    "idxvl=np.where( msk_vl)[0]\n",
    "idxtr=np.where(~msk_vl)[0]\n",
    "\n",
    "dftr = dftrn.iloc[idxtr].copy()\n",
    "dfvl = dftrn.iloc[idxvl].copy()\n",
    "del dftrn\n",
    "\n",
    "gc.collect()"
   ]
  },
  {
   "cell_type": "code",
   "execution_count": 12,
   "metadata": {},
   "outputs": [],
   "source": [
    "cols_category=['twttyp', 'lang', 'langhour']\n",
    "for df in dftr,dfvl,dfval:\n",
    "    df.drop(columns=['twtid','u1id','u2id','u1u2'], inplace=True)\n",
    "    df[cols_category]=df[cols_category].astype('category')"
   ]
  },
  {
   "cell_type": "code",
   "execution_count": 13,
   "metadata": {},
   "outputs": [],
   "source": [
    "cols_feat = [col for col in dftr.columns if col not in cols_tgt]"
   ]
  },
  {
   "cell_type": "markdown",
   "metadata": {},
   "source": [
    "# model"
   ]
  },
  {
   "cell_type": "markdown",
   "metadata": {},
   "source": [
    "## cols_feat"
   ]
  },
  {
   "cell_type": "code",
   "execution_count": 14,
   "metadata": {},
   "outputs": [
    {
     "data": {
      "text/plain": [
       "['twttyp',\n",
       " 'lang',\n",
       " 'u1_fllwer_cnt',\n",
       " 'u1_fllwing_cnt',\n",
       " 'u1_vrfed',\n",
       " 'u2_fllwer_cnt',\n",
       " 'u2_fllwng_cnt',\n",
       " 'u2_vrfed',\n",
       " 'u1_fllw_u2',\n",
       " 'u1inu2',\n",
       " 'u2inu1',\n",
       " 'len_toks',\n",
       " 'n_media_Photo',\n",
       " 'n_media_Video',\n",
       " 'n_media_GIF',\n",
       " 'has_hshtgs',\n",
       " 'n_hshtgs',\n",
       " 'has_media',\n",
       " 'n_media',\n",
       " 'has_domns',\n",
       " 'n_domns',\n",
       " 'dayofweek',\n",
       " 'hour',\n",
       " 'tmdlta_u2u1',\n",
       " 'tmdlta_twtu1',\n",
       " 'tmdlta_twtu2',\n",
       " 'twt_age',\n",
       " 'u1_age',\n",
       " 'u2_age',\n",
       " 'u1_fllwer_cnt_by_age',\n",
       " 'u1_fllwng_cnt_by_age',\n",
       " 'langhour']"
      ]
     },
     "execution_count": 14,
     "metadata": {},
     "output_type": "execute_result"
    }
   ],
   "source": [
    "cols_feat"
   ]
  },
  {
   "cell_type": "code",
   "execution_count": 15,
   "metadata": {},
   "outputs": [
    {
     "name": "stdout",
     "output_type": "stream",
     "text": [
      "32\n"
     ]
    }
   ],
   "source": [
    "print(len(cols_feat))\n"
   ]
  },
  {
   "cell_type": "code",
   "execution_count": 16,
   "metadata": {},
   "outputs": [],
   "source": [
    "results = {}\n",
    "results['PRFX'] = PRFX\n",
    "results['TGT'] = TGT\n",
    "results['cols_feat'] = cols_feat"
   ]
  },
  {
   "cell_type": "code",
   "execution_count": 17,
   "metadata": {},
   "outputs": [],
   "source": [
    "params={\n",
    "    'objective': 'binary',\n",
    "    'metric': 'binary_logloss',\n",
    "    'verbosity': 0,    \n",
    "}\n",
    "\n",
    "results['params'] = params"
   ]
  },
  {
   "cell_type": "code",
   "execution_count": 18,
   "metadata": {
    "scrolled": true
   },
   "outputs": [
    {
     "name": "stderr",
     "output_type": "stream",
     "text": [
      "/data/anaconda3/envs/rcss20/lib/python3.7/site-packages/optuna/_experimental.py:87: ExperimentalWarning: train is experimental (supported from v0.18.0). The interface can change in the future.\n",
      "  ExperimentalWarning\n",
      "tune_feature_fraction, val_score: inf:   0%|          | 0/7 [00:00<?, ?it/s]"
     ]
    },
    {
     "name": "stdout",
     "output_type": "stream",
     "text": [
      "Training until validation scores don't improve for 100 rounds\n",
      "[100]\ttr's binary_logloss: 0.594141\tvl's binary_logloss: 0.594216\n",
      "[200]\ttr's binary_logloss: 0.5883\tvl's binary_logloss: 0.588466\n",
      "[300]\ttr's binary_logloss: 0.585514\tvl's binary_logloss: 0.585772\n",
      "[400]\ttr's binary_logloss: 0.583609\tvl's binary_logloss: 0.583958\n",
      "[500]\ttr's binary_logloss: 0.582068\tvl's binary_logloss: 0.582492\n",
      "[600]\ttr's binary_logloss: 0.58072\tvl's binary_logloss: 0.581245\n",
      "[700]\ttr's binary_logloss: 0.57955\tvl's binary_logloss: 0.580171\n",
      "[800]\ttr's binary_logloss: 0.578577\tvl's binary_logloss: 0.579285\n",
      "[900]\ttr's binary_logloss: 0.577603\tvl's binary_logloss: 0.578396\n",
      "[1000]\ttr's binary_logloss: 0.576746\tvl's binary_logloss: 0.577625\n",
      "[1100]\ttr's binary_logloss: 0.575897\tvl's binary_logloss: 0.576862\n",
      "[1200]\ttr's binary_logloss: 0.57511\tvl's binary_logloss: 0.576159\n",
      "[1300]\ttr's binary_logloss: 0.574463\tvl's binary_logloss: 0.575586\n",
      "[1400]\ttr's binary_logloss: 0.573918\tvl's binary_logloss: 0.575116\n",
      "[1500]\ttr's binary_logloss: 0.57337\tvl's binary_logloss: 0.574632\n",
      "[1600]\ttr's binary_logloss: 0.572831\tvl's binary_logloss: 0.574175\n",
      "[1700]\ttr's binary_logloss: 0.57223\tvl's binary_logloss: 0.573653\n",
      "[1800]\ttr's binary_logloss: 0.571656\tvl's binary_logloss: 0.573151\n",
      "[1900]\ttr's binary_logloss: 0.571247\tvl's binary_logloss: 0.572803\n",
      "[2000]\ttr's binary_logloss: 0.570702\tvl's binary_logloss: 0.572331\n",
      "[2100]\ttr's binary_logloss: 0.570288\tvl's binary_logloss: 0.571997\n",
      "[2200]\ttr's binary_logloss: 0.569804\tvl's binary_logloss: 0.571591\n",
      "[2300]\ttr's binary_logloss: 0.569316\tvl's binary_logloss: 0.57116\n",
      "[2400]\ttr's binary_logloss: 0.568855\tvl's binary_logloss: 0.57077\n",
      "[2500]\ttr's binary_logloss: 0.568462\tvl's binary_logloss: 0.570439\n",
      "[2600]\ttr's binary_logloss: 0.568017\tvl's binary_logloss: 0.57005\n",
      "[2700]\ttr's binary_logloss: 0.56765\tvl's binary_logloss: 0.56975\n",
      "[2800]\ttr's binary_logloss: 0.567205\tvl's binary_logloss: 0.569381\n",
      "[2900]\ttr's binary_logloss: 0.566879\tvl's binary_logloss: 0.569114\n",
      "[3000]\ttr's binary_logloss: 0.566525\tvl's binary_logloss: 0.568825\n",
      "[3100]\ttr's binary_logloss: 0.566187\tvl's binary_logloss: 0.568544\n",
      "[3200]\ttr's binary_logloss: 0.565794\tvl's binary_logloss: 0.568206\n",
      "[3300]\ttr's binary_logloss: 0.565355\tvl's binary_logloss: 0.567829\n",
      "[3400]\ttr's binary_logloss: 0.564972\tvl's binary_logloss: 0.5675\n",
      "[3500]\ttr's binary_logloss: 0.564606\tvl's binary_logloss: 0.567176\n",
      "[3600]\ttr's binary_logloss: 0.56427\tvl's binary_logloss: 0.566894\n",
      "[3700]\ttr's binary_logloss: 0.564019\tvl's binary_logloss: 0.566696\n",
      "[3800]\ttr's binary_logloss: 0.563759\tvl's binary_logloss: 0.566488\n",
      "[3900]\ttr's binary_logloss: 0.56346\tvl's binary_logloss: 0.566243\n",
      "[4000]\ttr's binary_logloss: 0.563148\tvl's binary_logloss: 0.565988\n",
      "[4100]\ttr's binary_logloss: 0.562862\tvl's binary_logloss: 0.565757\n",
      "[4200]\ttr's binary_logloss: 0.562586\tvl's binary_logloss: 0.565532\n",
      "[4300]\ttr's binary_logloss: 0.562299\tvl's binary_logloss: 0.565303\n",
      "[4400]\ttr's binary_logloss: 0.562097\tvl's binary_logloss: 0.565158\n",
      "[4500]\ttr's binary_logloss: 0.56186\tvl's binary_logloss: 0.564968\n",
      "[4600]\ttr's binary_logloss: 0.561679\tvl's binary_logloss: 0.564842\n",
      "[4700]\ttr's binary_logloss: 0.561464\tvl's binary_logloss: 0.564682\n",
      "[4800]\ttr's binary_logloss: 0.561256\tvl's binary_logloss: 0.56453\n",
      "[4900]\ttr's binary_logloss: 0.561033\tvl's binary_logloss: 0.564347\n",
      "[5000]\ttr's binary_logloss: 0.560783\tvl's binary_logloss: 0.564149\n",
      "[5100]\ttr's binary_logloss: 0.560545\tvl's binary_logloss: 0.56397\n",
      "[5200]\ttr's binary_logloss: 0.560335\tvl's binary_logloss: 0.563813\n",
      "[5300]\ttr's binary_logloss: 0.560114\tvl's binary_logloss: 0.563643\n",
      "[5400]\ttr's binary_logloss: 0.559922\tvl's binary_logloss: 0.563505\n",
      "[5500]\ttr's binary_logloss: 0.55971\tvl's binary_logloss: 0.563341\n",
      "[5600]\ttr's binary_logloss: 0.559526\tvl's binary_logloss: 0.563203\n",
      "[5700]\ttr's binary_logloss: 0.559324\tvl's binary_logloss: 0.563043\n",
      "[5800]\ttr's binary_logloss: 0.559101\tvl's binary_logloss: 0.562867\n",
      "[5900]\ttr's binary_logloss: 0.558877\tvl's binary_logloss: 0.562693\n",
      "[6000]\ttr's binary_logloss: 0.558691\tvl's binary_logloss: 0.562549\n",
      "[6100]\ttr's binary_logloss: 0.558424\tvl's binary_logloss: 0.562337\n",
      "[6200]\ttr's binary_logloss: 0.558228\tvl's binary_logloss: 0.562183\n",
      "[6300]\ttr's binary_logloss: 0.558054\tvl's binary_logloss: 0.562053\n",
      "[6400]\ttr's binary_logloss: 0.557868\tvl's binary_logloss: 0.561917\n",
      "[6500]\ttr's binary_logloss: 0.557657\tvl's binary_logloss: 0.561765\n",
      "[6600]\ttr's binary_logloss: 0.557503\tvl's binary_logloss: 0.561664\n",
      "[6700]\ttr's binary_logloss: 0.557313\tvl's binary_logloss: 0.561525\n",
      "[6800]\ttr's binary_logloss: 0.557145\tvl's binary_logloss: 0.561406\n",
      "[6900]\ttr's binary_logloss: 0.556961\tvl's binary_logloss: 0.561266\n",
      "[7000]\ttr's binary_logloss: 0.556787\tvl's binary_logloss: 0.561132\n",
      "[7100]\ttr's binary_logloss: 0.556617\tvl's binary_logloss: 0.561002\n",
      "[7200]\ttr's binary_logloss: 0.556455\tvl's binary_logloss: 0.560892\n",
      "[7300]\ttr's binary_logloss: 0.556315\tvl's binary_logloss: 0.560795\n",
      "[7400]\ttr's binary_logloss: 0.556168\tvl's binary_logloss: 0.56069\n",
      "[7500]\ttr's binary_logloss: 0.555977\tvl's binary_logloss: 0.560542\n",
      "[7600]\ttr's binary_logloss: 0.555808\tvl's binary_logloss: 0.560415\n",
      "[7700]\ttr's binary_logloss: 0.555631\tvl's binary_logloss: 0.560282\n",
      "[7800]\ttr's binary_logloss: 0.555472\tvl's binary_logloss: 0.560162\n",
      "[7900]\ttr's binary_logloss: 0.555304\tvl's binary_logloss: 0.560037\n",
      "[8000]\ttr's binary_logloss: 0.555135\tvl's binary_logloss: 0.559917\n",
      "[8100]\ttr's binary_logloss: 0.555007\tvl's binary_logloss: 0.559842\n",
      "[8200]\ttr's binary_logloss: 0.554861\tvl's binary_logloss: 0.559739\n",
      "[8300]\ttr's binary_logloss: 0.554713\tvl's binary_logloss: 0.559636\n",
      "[8400]\ttr's binary_logloss: 0.554586\tvl's binary_logloss: 0.559556\n",
      "[8500]\ttr's binary_logloss: 0.554433\tvl's binary_logloss: 0.559453\n",
      "[8600]\ttr's binary_logloss: 0.554314\tvl's binary_logloss: 0.559374\n",
      "[8700]\ttr's binary_logloss: 0.55418\tvl's binary_logloss: 0.559291\n",
      "[8800]\ttr's binary_logloss: 0.554032\tvl's binary_logloss: 0.559191\n",
      "[8900]\ttr's binary_logloss: 0.55388\tvl's binary_logloss: 0.559081\n",
      "[9000]\ttr's binary_logloss: 0.553746\tvl's binary_logloss: 0.55899\n",
      "[9100]\ttr's binary_logloss: 0.553621\tvl's binary_logloss: 0.558907\n",
      "[9200]\ttr's binary_logloss: 0.553451\tvl's binary_logloss: 0.558776\n",
      "[9300]\ttr's binary_logloss: 0.55326\tvl's binary_logloss: 0.558626\n",
      "[9400]\ttr's binary_logloss: 0.553121\tvl's binary_logloss: 0.558529\n",
      "[9500]\ttr's binary_logloss: 0.552994\tvl's binary_logloss: 0.558444\n",
      "[9600]\ttr's binary_logloss: 0.552866\tvl's binary_logloss: 0.558358\n",
      "[9700]\ttr's binary_logloss: 0.55274\tvl's binary_logloss: 0.55827\n",
      "[9800]\ttr's binary_logloss: 0.552614\tvl's binary_logloss: 0.558189\n",
      "[9900]\ttr's binary_logloss: 0.552483\tvl's binary_logloss: 0.558098\n",
      "[10000]\ttr's binary_logloss: 0.552342\tvl's binary_logloss: 0.557998\n",
      "[10100]\ttr's binary_logloss: 0.552207\tvl's binary_logloss: 0.557902\n",
      "[10200]\ttr's binary_logloss: 0.552079\tvl's binary_logloss: 0.557818\n",
      "[10300]\ttr's binary_logloss: 0.551928\tvl's binary_logloss: 0.557706\n",
      "[10400]\ttr's binary_logloss: 0.551796\tvl's binary_logloss: 0.557613\n",
      "[10500]\ttr's binary_logloss: 0.551697\tvl's binary_logloss: 0.557554\n",
      "[10600]\ttr's binary_logloss: 0.551587\tvl's binary_logloss: 0.557482\n",
      "[10700]\ttr's binary_logloss: 0.551458\tvl's binary_logloss: 0.557389\n",
      "[10800]\ttr's binary_logloss: 0.55134\tvl's binary_logloss: 0.557313\n",
      "[10900]\ttr's binary_logloss: 0.551225\tvl's binary_logloss: 0.557241\n",
      "[11000]\ttr's binary_logloss: 0.551126\tvl's binary_logloss: 0.557182\n",
      "[11100]\ttr's binary_logloss: 0.55102\tvl's binary_logloss: 0.557127\n",
      "[11200]\ttr's binary_logloss: 0.550879\tvl's binary_logloss: 0.557032\n",
      "[11300]\ttr's binary_logloss: 0.550737\tvl's binary_logloss: 0.556933\n",
      "[11400]\ttr's binary_logloss: 0.550615\tvl's binary_logloss: 0.556847\n",
      "[11500]\ttr's binary_logloss: 0.550473\tvl's binary_logloss: 0.556739\n",
      "[11600]\ttr's binary_logloss: 0.550365\tvl's binary_logloss: 0.556668\n",
      "[11700]\ttr's binary_logloss: 0.550241\tvl's binary_logloss: 0.556582\n",
      "[11800]\ttr's binary_logloss: 0.550122\tvl's binary_logloss: 0.556504\n",
      "[11900]\ttr's binary_logloss: 0.550015\tvl's binary_logloss: 0.556441\n",
      "[12000]\ttr's binary_logloss: 0.549906\tvl's binary_logloss: 0.556369\n",
      "[12100]\ttr's binary_logloss: 0.549769\tvl's binary_logloss: 0.556268\n"
     ]
    },
    {
     "name": "stdout",
     "output_type": "stream",
     "text": [
      "[12200]\ttr's binary_logloss: 0.549662\tvl's binary_logloss: 0.556203\n",
      "[12300]\ttr's binary_logloss: 0.54953\tvl's binary_logloss: 0.55611\n",
      "[12400]\ttr's binary_logloss: 0.549417\tvl's binary_logloss: 0.556038\n",
      "[12500]\ttr's binary_logloss: 0.549293\tvl's binary_logloss: 0.555954\n",
      "[12600]\ttr's binary_logloss: 0.549199\tvl's binary_logloss: 0.555899\n",
      "[12700]\ttr's binary_logloss: 0.549104\tvl's binary_logloss: 0.555848\n",
      "[12800]\ttr's binary_logloss: 0.549004\tvl's binary_logloss: 0.555789\n",
      "[12900]\ttr's binary_logloss: 0.548899\tvl's binary_logloss: 0.555726\n",
      "[13000]\ttr's binary_logloss: 0.548776\tvl's binary_logloss: 0.555638\n",
      "[13100]\ttr's binary_logloss: 0.548677\tvl's binary_logloss: 0.555577\n",
      "[13200]\ttr's binary_logloss: 0.548578\tvl's binary_logloss: 0.555518\n",
      "[13300]\ttr's binary_logloss: 0.548478\tvl's binary_logloss: 0.555454\n",
      "[13400]\ttr's binary_logloss: 0.548369\tvl's binary_logloss: 0.555385\n",
      "[13500]\ttr's binary_logloss: 0.548261\tvl's binary_logloss: 0.555315\n",
      "[13600]\ttr's binary_logloss: 0.54817\tvl's binary_logloss: 0.555261\n",
      "[13700]\ttr's binary_logloss: 0.548053\tvl's binary_logloss: 0.55518\n",
      "[13800]\ttr's binary_logloss: 0.547954\tvl's binary_logloss: 0.55512\n",
      "[13900]\ttr's binary_logloss: 0.547848\tvl's binary_logloss: 0.555056\n",
      "[14000]\ttr's binary_logloss: 0.547747\tvl's binary_logloss: 0.554991\n",
      "[14100]\ttr's binary_logloss: 0.547652\tvl's binary_logloss: 0.554933\n",
      "[14200]\ttr's binary_logloss: 0.54755\tvl's binary_logloss: 0.554873\n",
      "[14300]\ttr's binary_logloss: 0.547454\tvl's binary_logloss: 0.554815\n",
      "[14400]\ttr's binary_logloss: 0.54736\tvl's binary_logloss: 0.554762\n",
      "[14500]\ttr's binary_logloss: 0.547267\tvl's binary_logloss: 0.554711\n",
      "[14600]\ttr's binary_logloss: 0.547166\tvl's binary_logloss: 0.554648\n",
      "[14700]\ttr's binary_logloss: 0.54705\tvl's binary_logloss: 0.554572\n",
      "[14800]\ttr's binary_logloss: 0.546945\tvl's binary_logloss: 0.554505\n",
      "[14900]\ttr's binary_logloss: 0.546831\tvl's binary_logloss: 0.554428\n",
      "[15000]\ttr's binary_logloss: 0.546718\tvl's binary_logloss: 0.55435\n",
      "[15100]\ttr's binary_logloss: 0.546632\tvl's binary_logloss: 0.554302\n",
      "[15200]\ttr's binary_logloss: 0.546503\tvl's binary_logloss: 0.554207\n",
      "[15300]\ttr's binary_logloss: 0.546403\tvl's binary_logloss: 0.55414\n",
      "[15400]\ttr's binary_logloss: 0.546312\tvl's binary_logloss: 0.554087\n",
      "[15500]\ttr's binary_logloss: 0.546192\tvl's binary_logloss: 0.55401\n",
      "[15600]\ttr's binary_logloss: 0.546092\tvl's binary_logloss: 0.553947\n",
      "[15700]\ttr's binary_logloss: 0.546016\tvl's binary_logloss: 0.553911\n",
      "[15800]\ttr's binary_logloss: 0.545934\tvl's binary_logloss: 0.553868\n",
      "[15900]\ttr's binary_logloss: 0.545816\tvl's binary_logloss: 0.553788\n",
      "[16000]\ttr's binary_logloss: 0.545731\tvl's binary_logloss: 0.553742\n",
      "[16100]\ttr's binary_logloss: 0.545641\tvl's binary_logloss: 0.55369\n",
      "[16200]\ttr's binary_logloss: 0.545562\tvl's binary_logloss: 0.553647\n",
      "[16300]\ttr's binary_logloss: 0.545443\tvl's binary_logloss: 0.553566\n",
      "[16400]\ttr's binary_logloss: 0.545344\tvl's binary_logloss: 0.553507\n",
      "[16500]\ttr's binary_logloss: 0.545245\tvl's binary_logloss: 0.553447\n",
      "[16600]\ttr's binary_logloss: 0.545158\tvl's binary_logloss: 0.553396\n",
      "[16700]\ttr's binary_logloss: 0.545047\tvl's binary_logloss: 0.553321\n",
      "[16800]\ttr's binary_logloss: 0.54496\tvl's binary_logloss: 0.553271\n",
      "[16900]\ttr's binary_logloss: 0.544861\tvl's binary_logloss: 0.553214\n",
      "[17000]\ttr's binary_logloss: 0.544773\tvl's binary_logloss: 0.553163\n",
      "[17100]\ttr's binary_logloss: 0.544695\tvl's binary_logloss: 0.553124\n",
      "[17200]\ttr's binary_logloss: 0.544604\tvl's binary_logloss: 0.553073\n",
      "[17300]\ttr's binary_logloss: 0.544521\tvl's binary_logloss: 0.553028\n",
      "[17400]\ttr's binary_logloss: 0.544428\tvl's binary_logloss: 0.552972\n",
      "[17500]\ttr's binary_logloss: 0.54433\tvl's binary_logloss: 0.552915\n",
      "[17600]\ttr's binary_logloss: 0.544236\tvl's binary_logloss: 0.55286\n",
      "[17700]\ttr's binary_logloss: 0.544153\tvl's binary_logloss: 0.552813\n",
      "[17800]\ttr's binary_logloss: 0.544065\tvl's binary_logloss: 0.552759\n",
      "[17900]\ttr's binary_logloss: 0.543983\tvl's binary_logloss: 0.552716\n",
      "[18000]\ttr's binary_logloss: 0.543918\tvl's binary_logloss: 0.552691\n",
      "[18100]\ttr's binary_logloss: 0.543843\tvl's binary_logloss: 0.552655\n",
      "[18200]\ttr's binary_logloss: 0.543752\tvl's binary_logloss: 0.552604\n",
      "[18300]\ttr's binary_logloss: 0.543681\tvl's binary_logloss: 0.552571\n",
      "[18400]\ttr's binary_logloss: 0.543623\tvl's binary_logloss: 0.552553\n",
      "[18500]\ttr's binary_logloss: 0.543553\tvl's binary_logloss: 0.552522\n",
      "[18600]\ttr's binary_logloss: 0.543473\tvl's binary_logloss: 0.552478\n",
      "[18700]\ttr's binary_logloss: 0.543374\tvl's binary_logloss: 0.552418\n",
      "[18800]\ttr's binary_logloss: 0.543301\tvl's binary_logloss: 0.552383\n",
      "[18900]\ttr's binary_logloss: 0.543224\tvl's binary_logloss: 0.552345\n",
      "[19000]\ttr's binary_logloss: 0.54315\tvl's binary_logloss: 0.55231\n",
      "[19100]\ttr's binary_logloss: 0.543071\tvl's binary_logloss: 0.552269\n",
      "[19200]\ttr's binary_logloss: 0.542999\tvl's binary_logloss: 0.552233\n",
      "[19300]\ttr's binary_logloss: 0.542938\tvl's binary_logloss: 0.552213\n",
      "[19400]\ttr's binary_logloss: 0.542852\tvl's binary_logloss: 0.552164\n",
      "[19500]\ttr's binary_logloss: 0.542767\tvl's binary_logloss: 0.552119\n",
      "[19600]\ttr's binary_logloss: 0.542695\tvl's binary_logloss: 0.552088\n",
      "[19700]\ttr's binary_logloss: 0.542621\tvl's binary_logloss: 0.552053\n",
      "[19800]\ttr's binary_logloss: 0.542551\tvl's binary_logloss: 0.552018\n",
      "[19900]\ttr's binary_logloss: 0.542482\tvl's binary_logloss: 0.551986\n",
      "[20000]\ttr's binary_logloss: 0.542397\tvl's binary_logloss: 0.551935\n",
      "[20100]\ttr's binary_logloss: 0.542328\tvl's binary_logloss: 0.5519\n",
      "[20200]\ttr's binary_logloss: 0.542246\tvl's binary_logloss: 0.551855\n",
      "[20300]\ttr's binary_logloss: 0.54217\tvl's binary_logloss: 0.551816\n",
      "[20400]\ttr's binary_logloss: 0.542111\tvl's binary_logloss: 0.551795\n",
      "[20500]\ttr's binary_logloss: 0.542038\tvl's binary_logloss: 0.551761\n",
      "[20600]\ttr's binary_logloss: 0.541969\tvl's binary_logloss: 0.551733\n",
      "[20700]\ttr's binary_logloss: 0.541883\tvl's binary_logloss: 0.551682\n",
      "[20800]\ttr's binary_logloss: 0.541809\tvl's binary_logloss: 0.551649\n",
      "[20900]\ttr's binary_logloss: 0.541738\tvl's binary_logloss: 0.551614\n",
      "[21000]\ttr's binary_logloss: 0.541667\tvl's binary_logloss: 0.551582\n",
      "[21100]\ttr's binary_logloss: 0.541602\tvl's binary_logloss: 0.551557\n",
      "[21200]\ttr's binary_logloss: 0.54153\tvl's binary_logloss: 0.551525\n",
      "[21300]\ttr's binary_logloss: 0.541459\tvl's binary_logloss: 0.551492\n",
      "[21400]\ttr's binary_logloss: 0.541393\tvl's binary_logloss: 0.551463\n",
      "[21500]\ttr's binary_logloss: 0.541318\tvl's binary_logloss: 0.551419\n",
      "[21600]\ttr's binary_logloss: 0.541246\tvl's binary_logloss: 0.551384\n",
      "[21700]\ttr's binary_logloss: 0.541177\tvl's binary_logloss: 0.551351\n",
      "[21800]\ttr's binary_logloss: 0.541099\tvl's binary_logloss: 0.551307\n",
      "[21900]\ttr's binary_logloss: 0.541021\tvl's binary_logloss: 0.551262\n",
      "[22000]\ttr's binary_logloss: 0.540936\tvl's binary_logloss: 0.551212\n",
      "[22100]\ttr's binary_logloss: 0.540861\tvl's binary_logloss: 0.551173\n",
      "[22200]\ttr's binary_logloss: 0.540788\tvl's binary_logloss: 0.551138\n",
      "[22300]\ttr's binary_logloss: 0.540687\tvl's binary_logloss: 0.551073\n",
      "[22400]\ttr's binary_logloss: 0.540607\tvl's binary_logloss: 0.551028\n",
      "[22500]\ttr's binary_logloss: 0.540527\tvl's binary_logloss: 0.550986\n",
      "[22600]\ttr's binary_logloss: 0.54046\tvl's binary_logloss: 0.550954\n",
      "[22700]\ttr's binary_logloss: 0.540407\tvl's binary_logloss: 0.550939\n",
      "[22800]\ttr's binary_logloss: 0.540314\tvl's binary_logloss: 0.550881\n",
      "[22900]\ttr's binary_logloss: 0.540235\tvl's binary_logloss: 0.55084\n",
      "[23000]\ttr's binary_logloss: 0.540151\tvl's binary_logloss: 0.550788\n",
      "[23100]\ttr's binary_logloss: 0.540073\tvl's binary_logloss: 0.550746\n",
      "[23200]\ttr's binary_logloss: 0.540007\tvl's binary_logloss: 0.550717\n",
      "[23300]\ttr's binary_logloss: 0.539908\tvl's binary_logloss: 0.550649\n",
      "[23400]\ttr's binary_logloss: 0.539841\tvl's binary_logloss: 0.550619\n",
      "[23500]\ttr's binary_logloss: 0.539775\tvl's binary_logloss: 0.55059\n",
      "[23600]\ttr's binary_logloss: 0.539709\tvl's binary_logloss: 0.55056\n",
      "[23700]\ttr's binary_logloss: 0.539633\tvl's binary_logloss: 0.550522\n",
      "[23800]\ttr's binary_logloss: 0.53956\tvl's binary_logloss: 0.550485\n",
      "[23900]\ttr's binary_logloss: 0.539481\tvl's binary_logloss: 0.550441\n",
      "[24000]\ttr's binary_logloss: 0.539404\tvl's binary_logloss: 0.550401\n",
      "[24100]\ttr's binary_logloss: 0.539319\tvl's binary_logloss: 0.550348\n"
     ]
    },
    {
     "name": "stdout",
     "output_type": "stream",
     "text": [
      "[24200]\ttr's binary_logloss: 0.539258\tvl's binary_logloss: 0.550324\n",
      "[24300]\ttr's binary_logloss: 0.53917\tvl's binary_logloss: 0.550273\n",
      "[24400]\ttr's binary_logloss: 0.539089\tvl's binary_logloss: 0.550229\n",
      "[24500]\ttr's binary_logloss: 0.539021\tvl's binary_logloss: 0.550196\n",
      "[24600]\ttr's binary_logloss: 0.538956\tvl's binary_logloss: 0.550165\n",
      "[24700]\ttr's binary_logloss: 0.538873\tvl's binary_logloss: 0.550118\n",
      "[24800]\ttr's binary_logloss: 0.538805\tvl's binary_logloss: 0.550087\n",
      "[24900]\ttr's binary_logloss: 0.538722\tvl's binary_logloss: 0.550039\n",
      "[25000]\ttr's binary_logloss: 0.538644\tvl's binary_logloss: 0.549997\n",
      "[25100]\ttr's binary_logloss: 0.538575\tvl's binary_logloss: 0.549965\n",
      "[25200]\ttr's binary_logloss: 0.538506\tvl's binary_logloss: 0.549932\n",
      "[25300]\ttr's binary_logloss: 0.538443\tvl's binary_logloss: 0.549904\n",
      "[25400]\ttr's binary_logloss: 0.538367\tvl's binary_logloss: 0.549864\n",
      "[25500]\ttr's binary_logloss: 0.53829\tvl's binary_logloss: 0.549825\n",
      "[25600]\ttr's binary_logloss: 0.538226\tvl's binary_logloss: 0.549798\n",
      "[25700]\ttr's binary_logloss: 0.53817\tvl's binary_logloss: 0.54978\n",
      "[25800]\ttr's binary_logloss: 0.538102\tvl's binary_logloss: 0.549749\n",
      "[25900]\ttr's binary_logloss: 0.538039\tvl's binary_logloss: 0.549723\n",
      "[26000]\ttr's binary_logloss: 0.537975\tvl's binary_logloss: 0.549697\n",
      "[26100]\ttr's binary_logloss: 0.537904\tvl's binary_logloss: 0.549658\n",
      "[26200]\ttr's binary_logloss: 0.537835\tvl's binary_logloss: 0.549625\n",
      "[26300]\ttr's binary_logloss: 0.537764\tvl's binary_logloss: 0.549592\n",
      "[26400]\ttr's binary_logloss: 0.537691\tvl's binary_logloss: 0.549555\n",
      "[26500]\ttr's binary_logloss: 0.537621\tvl's binary_logloss: 0.549518\n",
      "[26600]\ttr's binary_logloss: 0.537563\tvl's binary_logloss: 0.549493\n",
      "[26700]\ttr's binary_logloss: 0.537504\tvl's binary_logloss: 0.549473\n",
      "[26800]\ttr's binary_logloss: 0.537436\tvl's binary_logloss: 0.549441\n",
      "[26900]\ttr's binary_logloss: 0.537365\tvl's binary_logloss: 0.549403\n",
      "[27000]\ttr's binary_logloss: 0.537298\tvl's binary_logloss: 0.549371\n",
      "[27100]\ttr's binary_logloss: 0.537241\tvl's binary_logloss: 0.549345\n",
      "[27200]\ttr's binary_logloss: 0.537188\tvl's binary_logloss: 0.54933\n",
      "[27300]\ttr's binary_logloss: 0.537127\tvl's binary_logloss: 0.549306\n",
      "[27400]\ttr's binary_logloss: 0.53707\tvl's binary_logloss: 0.549285\n",
      "[27500]\ttr's binary_logloss: 0.537012\tvl's binary_logloss: 0.549264\n",
      "[27600]\ttr's binary_logloss: 0.536952\tvl's binary_logloss: 0.549241\n",
      "[27700]\ttr's binary_logloss: 0.53688\tvl's binary_logloss: 0.549206\n",
      "[27800]\ttr's binary_logloss: 0.536821\tvl's binary_logloss: 0.549182\n",
      "[27900]\ttr's binary_logloss: 0.536755\tvl's binary_logloss: 0.549151\n",
      "[28000]\ttr's binary_logloss: 0.536678\tvl's binary_logloss: 0.549108\n",
      "[28100]\ttr's binary_logloss: 0.536613\tvl's binary_logloss: 0.549078\n",
      "[28200]\ttr's binary_logloss: 0.536547\tvl's binary_logloss: 0.549046\n",
      "[28300]\ttr's binary_logloss: 0.536475\tvl's binary_logloss: 0.54901\n",
      "[28400]\ttr's binary_logloss: 0.536409\tvl's binary_logloss: 0.548978\n",
      "[28500]\ttr's binary_logloss: 0.536351\tvl's binary_logloss: 0.548957\n",
      "[28600]\ttr's binary_logloss: 0.536282\tvl's binary_logloss: 0.548922\n",
      "[28700]\ttr's binary_logloss: 0.53621\tvl's binary_logloss: 0.548883\n",
      "[28800]\ttr's binary_logloss: 0.536147\tvl's binary_logloss: 0.548854\n",
      "[28900]\ttr's binary_logloss: 0.536085\tvl's binary_logloss: 0.548827\n",
      "[29000]\ttr's binary_logloss: 0.53602\tvl's binary_logloss: 0.548796\n",
      "[29100]\ttr's binary_logloss: 0.535948\tvl's binary_logloss: 0.548758\n",
      "[29200]\ttr's binary_logloss: 0.535891\tvl's binary_logloss: 0.548737\n",
      "[29300]\ttr's binary_logloss: 0.535837\tvl's binary_logloss: 0.548718\n",
      "[29400]\ttr's binary_logloss: 0.535781\tvl's binary_logloss: 0.548701\n",
      "[29500]\ttr's binary_logloss: 0.535719\tvl's binary_logloss: 0.548675\n",
      "[29600]\ttr's binary_logloss: 0.535657\tvl's binary_logloss: 0.548648\n",
      "[29700]\ttr's binary_logloss: 0.535582\tvl's binary_logloss: 0.548606\n",
      "[29800]\ttr's binary_logloss: 0.535511\tvl's binary_logloss: 0.548569\n",
      "[29900]\ttr's binary_logloss: 0.53545\tvl's binary_logloss: 0.548546\n",
      "[30000]\ttr's binary_logloss: 0.535374\tvl's binary_logloss: 0.548503\n",
      "[30100]\ttr's binary_logloss: 0.53531\tvl's binary_logloss: 0.548475\n",
      "[30200]\ttr's binary_logloss: 0.535254\tvl's binary_logloss: 0.548455\n",
      "[30300]\ttr's binary_logloss: 0.535199\tvl's binary_logloss: 0.548436\n",
      "[30400]\ttr's binary_logloss: 0.535136\tvl's binary_logloss: 0.548408\n",
      "[30500]\ttr's binary_logloss: 0.535078\tvl's binary_logloss: 0.548386\n",
      "[30600]\ttr's binary_logloss: 0.535024\tvl's binary_logloss: 0.548365\n",
      "[30700]\ttr's binary_logloss: 0.534965\tvl's binary_logloss: 0.548341\n",
      "[30800]\ttr's binary_logloss: 0.5349\tvl's binary_logloss: 0.54831\n",
      "[30900]\ttr's binary_logloss: 0.534816\tvl's binary_logloss: 0.548255\n",
      "[31000]\ttr's binary_logloss: 0.534753\tvl's binary_logloss: 0.548229\n",
      "[31100]\ttr's binary_logloss: 0.534693\tvl's binary_logloss: 0.548203\n",
      "[31200]\ttr's binary_logloss: 0.53463\tvl's binary_logloss: 0.548176\n",
      "[31300]\ttr's binary_logloss: 0.534572\tvl's binary_logloss: 0.548152\n",
      "[31400]\ttr's binary_logloss: 0.534498\tvl's binary_logloss: 0.548112\n",
      "[31500]\ttr's binary_logloss: 0.534441\tvl's binary_logloss: 0.548092\n",
      "[31600]\ttr's binary_logloss: 0.534382\tvl's binary_logloss: 0.548066\n",
      "[31700]\ttr's binary_logloss: 0.534322\tvl's binary_logloss: 0.548042\n",
      "[31800]\ttr's binary_logloss: 0.534262\tvl's binary_logloss: 0.548019\n",
      "[31900]\ttr's binary_logloss: 0.534202\tvl's binary_logloss: 0.547993\n",
      "[32000]\ttr's binary_logloss: 0.534145\tvl's binary_logloss: 0.547972\n",
      "[32100]\ttr's binary_logloss: 0.534095\tvl's binary_logloss: 0.547959\n",
      "[32200]\ttr's binary_logloss: 0.534042\tvl's binary_logloss: 0.54794\n",
      "[32300]\ttr's binary_logloss: 0.533993\tvl's binary_logloss: 0.547926\n",
      "[32400]\ttr's binary_logloss: 0.533943\tvl's binary_logloss: 0.547914\n",
      "[32500]\ttr's binary_logloss: 0.533891\tvl's binary_logloss: 0.547899\n",
      "[32600]\ttr's binary_logloss: 0.533823\tvl's binary_logloss: 0.547866\n",
      "[32700]\ttr's binary_logloss: 0.533753\tvl's binary_logloss: 0.547832\n",
      "[32800]\ttr's binary_logloss: 0.53369\tvl's binary_logloss: 0.547805\n",
      "[32900]\ttr's binary_logloss: 0.533621\tvl's binary_logloss: 0.547772\n",
      "[33000]\ttr's binary_logloss: 0.533562\tvl's binary_logloss: 0.547744\n",
      "[33100]\ttr's binary_logloss: 0.533505\tvl's binary_logloss: 0.547723\n",
      "[33200]\ttr's binary_logloss: 0.53345\tvl's binary_logloss: 0.547703\n",
      "[33300]\ttr's binary_logloss: 0.533396\tvl's binary_logloss: 0.547684\n",
      "[33400]\ttr's binary_logloss: 0.53333\tvl's binary_logloss: 0.547653\n",
      "[33500]\ttr's binary_logloss: 0.53325\tvl's binary_logloss: 0.54761\n",
      "[33600]\ttr's binary_logloss: 0.533184\tvl's binary_logloss: 0.547578\n",
      "[33700]\ttr's binary_logloss: 0.53313\tvl's binary_logloss: 0.547563\n",
      "[33800]\ttr's binary_logloss: 0.533063\tvl's binary_logloss: 0.547527\n",
      "[33900]\ttr's binary_logloss: 0.533004\tvl's binary_logloss: 0.547502\n",
      "[34000]\ttr's binary_logloss: 0.532944\tvl's binary_logloss: 0.547475\n",
      "[34100]\ttr's binary_logloss: 0.532868\tvl's binary_logloss: 0.547432\n",
      "[34200]\ttr's binary_logloss: 0.532805\tvl's binary_logloss: 0.547405\n",
      "[34300]\ttr's binary_logloss: 0.532752\tvl's binary_logloss: 0.547386\n",
      "[34400]\ttr's binary_logloss: 0.53269\tvl's binary_logloss: 0.547361\n",
      "[34500]\ttr's binary_logloss: 0.532624\tvl's binary_logloss: 0.54733\n",
      "[34600]\ttr's binary_logloss: 0.532558\tvl's binary_logloss: 0.547297\n",
      "[34700]\ttr's binary_logloss: 0.5325\tvl's binary_logloss: 0.547274\n",
      "[34800]\ttr's binary_logloss: 0.532441\tvl's binary_logloss: 0.547251\n",
      "[34900]\ttr's binary_logloss: 0.532379\tvl's binary_logloss: 0.547224\n",
      "[35000]\ttr's binary_logloss: 0.532313\tvl's binary_logloss: 0.547191\n",
      "[35100]\ttr's binary_logloss: 0.532247\tvl's binary_logloss: 0.547161\n",
      "[35200]\ttr's binary_logloss: 0.532195\tvl's binary_logloss: 0.547146\n",
      "[35300]\ttr's binary_logloss: 0.532143\tvl's binary_logloss: 0.54713\n",
      "[35400]\ttr's binary_logloss: 0.532085\tvl's binary_logloss: 0.547107\n",
      "[35500]\ttr's binary_logloss: 0.53203\tvl's binary_logloss: 0.547089\n",
      "[35600]\ttr's binary_logloss: 0.531969\tvl's binary_logloss: 0.547061\n",
      "[35700]\ttr's binary_logloss: 0.531913\tvl's binary_logloss: 0.547039\n",
      "[35800]\ttr's binary_logloss: 0.531862\tvl's binary_logloss: 0.547024\n",
      "[35900]\ttr's binary_logloss: 0.531801\tvl's binary_logloss: 0.546998\n",
      "[36000]\ttr's binary_logloss: 0.531742\tvl's binary_logloss: 0.546974\n",
      "[36100]\ttr's binary_logloss: 0.531686\tvl's binary_logloss: 0.546951\n"
     ]
    },
    {
     "name": "stdout",
     "output_type": "stream",
     "text": [
      "[36200]\ttr's binary_logloss: 0.531627\tvl's binary_logloss: 0.546928\n",
      "[36300]\ttr's binary_logloss: 0.531553\tvl's binary_logloss: 0.546889\n",
      "[36400]\ttr's binary_logloss: 0.531486\tvl's binary_logloss: 0.546857\n",
      "[36500]\ttr's binary_logloss: 0.531433\tvl's binary_logloss: 0.54684\n",
      "[36600]\ttr's binary_logloss: 0.531381\tvl's binary_logloss: 0.546822\n",
      "[36700]\ttr's binary_logloss: 0.531319\tvl's binary_logloss: 0.546792\n",
      "[36800]\ttr's binary_logloss: 0.531265\tvl's binary_logloss: 0.546773\n",
      "[36900]\ttr's binary_logloss: 0.53121\tvl's binary_logloss: 0.546753\n",
      "[37000]\ttr's binary_logloss: 0.531152\tvl's binary_logloss: 0.54673\n",
      "[37100]\ttr's binary_logloss: 0.5311\tvl's binary_logloss: 0.546711\n",
      "[37200]\ttr's binary_logloss: 0.531044\tvl's binary_logloss: 0.54669\n",
      "[37300]\ttr's binary_logloss: 0.530989\tvl's binary_logloss: 0.546666\n",
      "[37400]\ttr's binary_logloss: 0.53093\tvl's binary_logloss: 0.546639\n",
      "[37500]\ttr's binary_logloss: 0.530869\tvl's binary_logloss: 0.546611\n",
      "[37600]\ttr's binary_logloss: 0.530828\tvl's binary_logloss: 0.546606\n",
      "[37700]\ttr's binary_logloss: 0.530779\tvl's binary_logloss: 0.546594\n",
      "[37800]\ttr's binary_logloss: 0.530713\tvl's binary_logloss: 0.546559\n",
      "[37900]\ttr's binary_logloss: 0.530657\tvl's binary_logloss: 0.546535\n",
      "[38000]\ttr's binary_logloss: 0.530599\tvl's binary_logloss: 0.54651\n",
      "[38100]\ttr's binary_logloss: 0.530528\tvl's binary_logloss: 0.546471\n",
      "[38200]\ttr's binary_logloss: 0.530465\tvl's binary_logloss: 0.546443\n",
      "[38300]\ttr's binary_logloss: 0.530409\tvl's binary_logloss: 0.546419\n",
      "[38400]\ttr's binary_logloss: 0.530342\tvl's binary_logloss: 0.546384\n",
      "[38500]\ttr's binary_logloss: 0.530288\tvl's binary_logloss: 0.546364\n",
      "[38600]\ttr's binary_logloss: 0.530239\tvl's binary_logloss: 0.546351\n",
      "[38700]\ttr's binary_logloss: 0.530178\tvl's binary_logloss: 0.546323\n",
      "[38800]\ttr's binary_logloss: 0.530118\tvl's binary_logloss: 0.546296\n",
      "[38900]\ttr's binary_logloss: 0.530064\tvl's binary_logloss: 0.546275\n",
      "[39000]\ttr's binary_logloss: 0.530015\tvl's binary_logloss: 0.546261\n",
      "[39100]\ttr's binary_logloss: 0.529966\tvl's binary_logloss: 0.546245\n",
      "[39200]\ttr's binary_logloss: 0.529911\tvl's binary_logloss: 0.546225\n",
      "[39300]\ttr's binary_logloss: 0.52985\tvl's binary_logloss: 0.546198\n",
      "[39400]\ttr's binary_logloss: 0.529797\tvl's binary_logloss: 0.546179\n",
      "[39500]\ttr's binary_logloss: 0.52975\tvl's binary_logloss: 0.546166\n",
      "[39600]\ttr's binary_logloss: 0.5297\tvl's binary_logloss: 0.546149\n",
      "[39700]\ttr's binary_logloss: 0.529653\tvl's binary_logloss: 0.546138\n",
      "[39800]\ttr's binary_logloss: 0.529603\tvl's binary_logloss: 0.546122\n",
      "[39900]\ttr's binary_logloss: 0.529551\tvl's binary_logloss: 0.546106\n",
      "[40000]\ttr's binary_logloss: 0.529494\tvl's binary_logloss: 0.546082\n",
      "[40100]\ttr's binary_logloss: 0.529445\tvl's binary_logloss: 0.546067\n",
      "[40200]\ttr's binary_logloss: 0.529391\tvl's binary_logloss: 0.546045\n",
      "[40300]\ttr's binary_logloss: 0.529329\tvl's binary_logloss: 0.546016\n",
      "[40400]\ttr's binary_logloss: 0.52927\tvl's binary_logloss: 0.545989\n",
      "[40500]\ttr's binary_logloss: 0.529212\tvl's binary_logloss: 0.545967\n",
      "[40600]\ttr's binary_logloss: 0.529167\tvl's binary_logloss: 0.545956\n",
      "[40700]\ttr's binary_logloss: 0.529092\tvl's binary_logloss: 0.54591\n",
      "[40800]\ttr's binary_logloss: 0.529037\tvl's binary_logloss: 0.545888\n",
      "[40900]\ttr's binary_logloss: 0.528978\tvl's binary_logloss: 0.545861\n",
      "[41000]\ttr's binary_logloss: 0.528927\tvl's binary_logloss: 0.545846\n",
      "[41100]\ttr's binary_logloss: 0.528877\tvl's binary_logloss: 0.545829\n",
      "[41200]\ttr's binary_logloss: 0.528831\tvl's binary_logloss: 0.545819\n",
      "[41300]\ttr's binary_logloss: 0.528789\tvl's binary_logloss: 0.545812\n",
      "[41400]\ttr's binary_logloss: 0.528738\tvl's binary_logloss: 0.545793\n",
      "[41500]\ttr's binary_logloss: 0.528685\tvl's binary_logloss: 0.545774\n",
      "[41600]\ttr's binary_logloss: 0.528622\tvl's binary_logloss: 0.545744\n",
      "[41700]\ttr's binary_logloss: 0.528571\tvl's binary_logloss: 0.545728\n",
      "[41800]\ttr's binary_logloss: 0.528516\tvl's binary_logloss: 0.545705\n",
      "[41900]\ttr's binary_logloss: 0.528465\tvl's binary_logloss: 0.545686\n",
      "[42000]\ttr's binary_logloss: 0.528413\tvl's binary_logloss: 0.545667\n",
      "[42100]\ttr's binary_logloss: 0.528356\tvl's binary_logloss: 0.545644\n",
      "[42200]\ttr's binary_logloss: 0.528301\tvl's binary_logloss: 0.545624\n",
      "[42300]\ttr's binary_logloss: 0.528253\tvl's binary_logloss: 0.545609\n",
      "[42400]\ttr's binary_logloss: 0.528205\tvl's binary_logloss: 0.545597\n",
      "[42500]\ttr's binary_logloss: 0.528155\tvl's binary_logloss: 0.545581\n",
      "[42600]\ttr's binary_logloss: 0.528086\tvl's binary_logloss: 0.545549\n",
      "[42700]\ttr's binary_logloss: 0.528027\tvl's binary_logloss: 0.545522\n",
      "[42800]\ttr's binary_logloss: 0.527968\tvl's binary_logloss: 0.545497\n",
      "[42900]\ttr's binary_logloss: 0.527914\tvl's binary_logloss: 0.545477\n",
      "[43000]\ttr's binary_logloss: 0.527842\tvl's binary_logloss: 0.545436\n",
      "[43100]\ttr's binary_logloss: 0.52778\tvl's binary_logloss: 0.545407\n",
      "[43200]\ttr's binary_logloss: 0.527719\tvl's binary_logloss: 0.545379\n",
      "[43300]\ttr's binary_logloss: 0.52766\tvl's binary_logloss: 0.545353\n",
      "[43400]\ttr's binary_logloss: 0.527611\tvl's binary_logloss: 0.545336\n",
      "[43500]\ttr's binary_logloss: 0.527557\tvl's binary_logloss: 0.545318\n",
      "[43600]\ttr's binary_logloss: 0.527495\tvl's binary_logloss: 0.545291\n",
      "[43700]\ttr's binary_logloss: 0.527452\tvl's binary_logloss: 0.545281\n",
      "[43800]\ttr's binary_logloss: 0.527405\tvl's binary_logloss: 0.545268\n",
      "[43900]\ttr's binary_logloss: 0.527349\tvl's binary_logloss: 0.545244\n",
      "[44000]\ttr's binary_logloss: 0.527299\tvl's binary_logloss: 0.545227\n",
      "[44100]\ttr's binary_logloss: 0.527251\tvl's binary_logloss: 0.545209\n",
      "[44200]\ttr's binary_logloss: 0.527196\tvl's binary_logloss: 0.545186\n",
      "[44300]\ttr's binary_logloss: 0.527145\tvl's binary_logloss: 0.545167\n",
      "[44400]\ttr's binary_logloss: 0.527094\tvl's binary_logloss: 0.545149\n",
      "[44500]\ttr's binary_logloss: 0.527048\tvl's binary_logloss: 0.545137\n",
      "[44600]\ttr's binary_logloss: 0.527004\tvl's binary_logloss: 0.545126\n",
      "[44700]\ttr's binary_logloss: 0.526955\tvl's binary_logloss: 0.545111\n",
      "[44800]\ttr's binary_logloss: 0.526899\tvl's binary_logloss: 0.545088\n",
      "[44900]\ttr's binary_logloss: 0.526852\tvl's binary_logloss: 0.545077\n",
      "[45000]\ttr's binary_logloss: 0.526808\tvl's binary_logloss: 0.54507\n",
      "[45100]\ttr's binary_logloss: 0.526759\tvl's binary_logloss: 0.545053\n",
      "[45200]\ttr's binary_logloss: 0.526706\tvl's binary_logloss: 0.545032\n",
      "[45300]\ttr's binary_logloss: 0.52666\tvl's binary_logloss: 0.545019\n",
      "[45400]\ttr's binary_logloss: 0.526613\tvl's binary_logloss: 0.545006\n",
      "[45500]\ttr's binary_logloss: 0.526557\tvl's binary_logloss: 0.544982\n",
      "[45600]\ttr's binary_logloss: 0.526515\tvl's binary_logloss: 0.544976\n",
      "[45700]\ttr's binary_logloss: 0.526469\tvl's binary_logloss: 0.544963\n",
      "[45800]\ttr's binary_logloss: 0.526422\tvl's binary_logloss: 0.544945\n",
      "[45900]\ttr's binary_logloss: 0.526377\tvl's binary_logloss: 0.544935\n",
      "[46000]\ttr's binary_logloss: 0.526331\tvl's binary_logloss: 0.544925\n",
      "[46100]\ttr's binary_logloss: 0.526278\tvl's binary_logloss: 0.544907\n",
      "[46200]\ttr's binary_logloss: 0.526222\tvl's binary_logloss: 0.544882\n",
      "[46300]\ttr's binary_logloss: 0.52618\tvl's binary_logloss: 0.544876\n",
      "[46400]\ttr's binary_logloss: 0.526128\tvl's binary_logloss: 0.544858\n",
      "[46500]\ttr's binary_logloss: 0.526073\tvl's binary_logloss: 0.544835\n",
      "[46600]\ttr's binary_logloss: 0.526021\tvl's binary_logloss: 0.544817\n",
      "[46700]\ttr's binary_logloss: 0.525968\tvl's binary_logloss: 0.544796\n",
      "[46800]\ttr's binary_logloss: 0.525922\tvl's binary_logloss: 0.544783\n",
      "[46900]\ttr's binary_logloss: 0.525873\tvl's binary_logloss: 0.544765\n",
      "[47000]\ttr's binary_logloss: 0.525824\tvl's binary_logloss: 0.544748\n",
      "[47100]\ttr's binary_logloss: 0.525771\tvl's binary_logloss: 0.54473\n",
      "[47200]\ttr's binary_logloss: 0.525723\tvl's binary_logloss: 0.544714\n",
      "[47300]\ttr's binary_logloss: 0.525672\tvl's binary_logloss: 0.544696\n",
      "[47400]\ttr's binary_logloss: 0.525626\tvl's binary_logloss: 0.544679\n",
      "[47500]\ttr's binary_logloss: 0.52557\tvl's binary_logloss: 0.544656\n",
      "[47600]\ttr's binary_logloss: 0.52552\tvl's binary_logloss: 0.544639\n",
      "[47700]\ttr's binary_logloss: 0.52547\tvl's binary_logloss: 0.544623\n",
      "[47800]\ttr's binary_logloss: 0.525423\tvl's binary_logloss: 0.544608\n",
      "[47900]\ttr's binary_logloss: 0.525371\tvl's binary_logloss: 0.544588\n",
      "[48000]\ttr's binary_logloss: 0.525334\tvl's binary_logloss: 0.544585\n",
      "[48100]\ttr's binary_logloss: 0.525282\tvl's binary_logloss: 0.544566\n"
     ]
    },
    {
     "name": "stdout",
     "output_type": "stream",
     "text": [
      "[48200]\ttr's binary_logloss: 0.525238\tvl's binary_logloss: 0.544553\n",
      "[48300]\ttr's binary_logloss: 0.525193\tvl's binary_logloss: 0.544542\n",
      "[48400]\ttr's binary_logloss: 0.525144\tvl's binary_logloss: 0.544527\n",
      "[48500]\ttr's binary_logloss: 0.525082\tvl's binary_logloss: 0.544497\n",
      "[48600]\ttr's binary_logloss: 0.52504\tvl's binary_logloss: 0.544488\n",
      "[48700]\ttr's binary_logloss: 0.525001\tvl's binary_logloss: 0.544484\n",
      "[48800]\ttr's binary_logloss: 0.524962\tvl's binary_logloss: 0.54448\n",
      "[48900]\ttr's binary_logloss: 0.524915\tvl's binary_logloss: 0.544468\n",
      "[49000]\ttr's binary_logloss: 0.524854\tvl's binary_logloss: 0.544441\n",
      "[49100]\ttr's binary_logloss: 0.524789\tvl's binary_logloss: 0.544406\n",
      "[49200]\ttr's binary_logloss: 0.524734\tvl's binary_logloss: 0.544383\n",
      "[49300]\ttr's binary_logloss: 0.524667\tvl's binary_logloss: 0.54435\n",
      "[49400]\ttr's binary_logloss: 0.524613\tvl's binary_logloss: 0.544326\n",
      "[49500]\ttr's binary_logloss: 0.524561\tvl's binary_logloss: 0.544307\n",
      "[49600]\ttr's binary_logloss: 0.52451\tvl's binary_logloss: 0.544289\n",
      "[49700]\ttr's binary_logloss: 0.524458\tvl's binary_logloss: 0.544269\n"
     ]
    },
    {
     "ename": "KeyboardInterrupt",
     "evalue": "",
     "output_type": "error",
     "traceback": [
      "\u001b[0;31m---------------------------------------------------------------------------\u001b[0m",
      "\u001b[0;31mKeyboardInterrupt\u001b[0m                         Traceback (most recent call last)",
      "\u001b[0;32m<timed exec>\u001b[0m in \u001b[0;36m<module>\u001b[0;34m\u001b[0m\n",
      "\u001b[0;32m/data/anaconda3/envs/rcss20/lib/python3.7/site-packages/optuna/_experimental.py\u001b[0m in \u001b[0;36mnew_func\u001b[0;34m(*args, **kwargs)\u001b[0m\n\u001b[1;32m     88\u001b[0m                 )\n\u001b[1;32m     89\u001b[0m \u001b[0;34m\u001b[0m\u001b[0m\n\u001b[0;32m---> 90\u001b[0;31m                 \u001b[0;32mreturn\u001b[0m \u001b[0mfunc\u001b[0m\u001b[0;34m(\u001b[0m\u001b[0;34m*\u001b[0m\u001b[0margs\u001b[0m\u001b[0;34m,\u001b[0m \u001b[0;34m**\u001b[0m\u001b[0mkwargs\u001b[0m\u001b[0;34m)\u001b[0m  \u001b[0;31m# type: ignore\u001b[0m\u001b[0;34m\u001b[0m\u001b[0;34m\u001b[0m\u001b[0m\n\u001b[0m\u001b[1;32m     91\u001b[0m \u001b[0;34m\u001b[0m\u001b[0m\n\u001b[1;32m     92\u001b[0m             \u001b[0;32mreturn\u001b[0m \u001b[0mnew_func\u001b[0m\u001b[0;34m\u001b[0m\u001b[0;34m\u001b[0m\u001b[0m\n",
      "\u001b[0;32m/data/anaconda3/envs/rcss20/lib/python3.7/site-packages/optuna/integration/lightgbm_tuner/__init__.py\u001b[0m in \u001b[0;36mtrain\u001b[0;34m(*args, **kwargs)\u001b[0m\n\u001b[1;32m     29\u001b[0m \u001b[0;34m\u001b[0m\u001b[0m\n\u001b[1;32m     30\u001b[0m     \u001b[0mauto_booster\u001b[0m \u001b[0;34m=\u001b[0m \u001b[0mLightGBMTuner\u001b[0m\u001b[0;34m(\u001b[0m\u001b[0;34m*\u001b[0m\u001b[0margs\u001b[0m\u001b[0;34m,\u001b[0m \u001b[0;34m**\u001b[0m\u001b[0mkwargs\u001b[0m\u001b[0;34m)\u001b[0m\u001b[0;34m\u001b[0m\u001b[0;34m\u001b[0m\u001b[0m\n\u001b[0;32m---> 31\u001b[0;31m     \u001b[0mbooster\u001b[0m \u001b[0;34m=\u001b[0m \u001b[0mauto_booster\u001b[0m\u001b[0;34m.\u001b[0m\u001b[0mrun\u001b[0m\u001b[0;34m(\u001b[0m\u001b[0;34m)\u001b[0m\u001b[0;34m\u001b[0m\u001b[0;34m\u001b[0m\u001b[0m\n\u001b[0m\u001b[1;32m     32\u001b[0m     \u001b[0;32mreturn\u001b[0m \u001b[0mbooster\u001b[0m\u001b[0;34m\u001b[0m\u001b[0;34m\u001b[0m\u001b[0m\n\u001b[1;32m     33\u001b[0m \u001b[0;34m\u001b[0m\u001b[0m\n",
      "\u001b[0;32m/data/anaconda3/envs/rcss20/lib/python3.7/site-packages/optuna/integration/lightgbm_tuner/optimize.py\u001b[0m in \u001b[0;36mrun\u001b[0;34m(self)\u001b[0m\n\u001b[1;32m    406\u001b[0m         \u001b[0mself\u001b[0m\u001b[0;34m.\u001b[0m\u001b[0mstart_time\u001b[0m \u001b[0;34m=\u001b[0m \u001b[0mtime\u001b[0m\u001b[0;34m.\u001b[0m\u001b[0mtime\u001b[0m\u001b[0;34m(\u001b[0m\u001b[0;34m)\u001b[0m\u001b[0;34m\u001b[0m\u001b[0;34m\u001b[0m\u001b[0m\n\u001b[1;32m    407\u001b[0m         \u001b[0;32mwith\u001b[0m \u001b[0m_timer\u001b[0m\u001b[0;34m(\u001b[0m\u001b[0;34m)\u001b[0m \u001b[0;32mas\u001b[0m \u001b[0mt\u001b[0m\u001b[0;34m:\u001b[0m\u001b[0;34m\u001b[0m\u001b[0;34m\u001b[0m\u001b[0m\n\u001b[0;32m--> 408\u001b[0;31m             \u001b[0mself\u001b[0m\u001b[0;34m.\u001b[0m\u001b[0mtune_feature_fraction\u001b[0m\u001b[0;34m(\u001b[0m\u001b[0;34m)\u001b[0m\u001b[0;34m\u001b[0m\u001b[0;34m\u001b[0m\u001b[0m\n\u001b[0m\u001b[1;32m    409\u001b[0m             \u001b[0;32mif\u001b[0m \u001b[0mtime_budget\u001b[0m \u001b[0;32mis\u001b[0m \u001b[0;32mnot\u001b[0m \u001b[0;32mNone\u001b[0m \u001b[0;32mand\u001b[0m \u001b[0mtime_budget\u001b[0m \u001b[0;34m<\u001b[0m \u001b[0mt\u001b[0m\u001b[0;34m.\u001b[0m\u001b[0melapsed_secs\u001b[0m\u001b[0;34m(\u001b[0m\u001b[0;34m)\u001b[0m\u001b[0;34m:\u001b[0m\u001b[0;34m\u001b[0m\u001b[0;34m\u001b[0m\u001b[0m\n\u001b[1;32m    410\u001b[0m                 \u001b[0;32mreturn\u001b[0m \u001b[0mself\u001b[0m\u001b[0;34m.\u001b[0m\u001b[0mbest_booster\u001b[0m\u001b[0;34m\u001b[0m\u001b[0;34m\u001b[0m\u001b[0m\n",
      "\u001b[0;32m/data/anaconda3/envs/rcss20/lib/python3.7/site-packages/optuna/integration/lightgbm_tuner/optimize.py\u001b[0m in \u001b[0;36mtune_feature_fraction\u001b[0;34m(self, n_trials)\u001b[0m\n\u001b[1;32m    452\u001b[0m         \u001b[0mparam_values\u001b[0m \u001b[0;34m=\u001b[0m \u001b[0mlist\u001b[0m\u001b[0;34m(\u001b[0m\u001b[0mnp\u001b[0m\u001b[0;34m.\u001b[0m\u001b[0mlinspace\u001b[0m\u001b[0;34m(\u001b[0m\u001b[0;36m0.4\u001b[0m\u001b[0;34m,\u001b[0m \u001b[0;36m1.0\u001b[0m\u001b[0;34m,\u001b[0m \u001b[0mn_trials\u001b[0m\u001b[0;34m)\u001b[0m\u001b[0;34m)\u001b[0m\u001b[0;34m\u001b[0m\u001b[0;34m\u001b[0m\u001b[0m\n\u001b[1;32m    453\u001b[0m         \u001b[0msampler\u001b[0m \u001b[0;34m=\u001b[0m \u001b[0m_GridSamplerUniform1D\u001b[0m\u001b[0;34m(\u001b[0m\u001b[0mparam_name\u001b[0m\u001b[0;34m,\u001b[0m \u001b[0mparam_values\u001b[0m\u001b[0;34m)\u001b[0m\u001b[0;34m\u001b[0m\u001b[0;34m\u001b[0m\u001b[0m\n\u001b[0;32m--> 454\u001b[0;31m         \u001b[0mself\u001b[0m\u001b[0;34m.\u001b[0m\u001b[0mtune_params\u001b[0m\u001b[0;34m(\u001b[0m\u001b[0;34m[\u001b[0m\u001b[0mparam_name\u001b[0m\u001b[0;34m]\u001b[0m\u001b[0;34m,\u001b[0m \u001b[0mlen\u001b[0m\u001b[0;34m(\u001b[0m\u001b[0mparam_values\u001b[0m\u001b[0;34m)\u001b[0m\u001b[0;34m,\u001b[0m \u001b[0msampler\u001b[0m\u001b[0;34m)\u001b[0m\u001b[0;34m\u001b[0m\u001b[0;34m\u001b[0m\u001b[0m\n\u001b[0m\u001b[1;32m    455\u001b[0m \u001b[0;34m\u001b[0m\u001b[0m\n\u001b[1;32m    456\u001b[0m     \u001b[0;32mdef\u001b[0m \u001b[0mtune_num_leaves\u001b[0m\u001b[0;34m(\u001b[0m\u001b[0mself\u001b[0m\u001b[0;34m,\u001b[0m \u001b[0mn_trials\u001b[0m\u001b[0;34m=\u001b[0m\u001b[0;36m20\u001b[0m\u001b[0;34m)\u001b[0m\u001b[0;34m:\u001b[0m\u001b[0;34m\u001b[0m\u001b[0;34m\u001b[0m\u001b[0m\n",
      "\u001b[0;32m/data/anaconda3/envs/rcss20/lib/python3.7/site-packages/optuna/integration/lightgbm_tuner/optimize.py\u001b[0m in \u001b[0;36mtune_params\u001b[0;34m(self, target_param_names, n_trials, sampler)\u001b[0m\n\u001b[1;32m    514\u001b[0m             \u001b[0mdirection\u001b[0m\u001b[0;34m=\u001b[0m\u001b[0;34m'maximize'\u001b[0m \u001b[0;32mif\u001b[0m \u001b[0mself\u001b[0m\u001b[0;34m.\u001b[0m\u001b[0mhigher_is_better\u001b[0m\u001b[0;34m(\u001b[0m\u001b[0;34m)\u001b[0m \u001b[0;32melse\u001b[0m \u001b[0;34m'minimize'\u001b[0m\u001b[0;34m,\u001b[0m\u001b[0;34m\u001b[0m\u001b[0;34m\u001b[0m\u001b[0m\n\u001b[1;32m    515\u001b[0m             sampler=sampler)\n\u001b[0;32m--> 516\u001b[0;31m         \u001b[0mstudy\u001b[0m\u001b[0;34m.\u001b[0m\u001b[0moptimize\u001b[0m\u001b[0;34m(\u001b[0m\u001b[0mobjective\u001b[0m\u001b[0;34m,\u001b[0m \u001b[0mn_trials\u001b[0m\u001b[0;34m=\u001b[0m\u001b[0mn_trials\u001b[0m\u001b[0;34m,\u001b[0m \u001b[0mcatch\u001b[0m\u001b[0;34m=\u001b[0m\u001b[0;34m(\u001b[0m\u001b[0;34m)\u001b[0m\u001b[0;34m)\u001b[0m\u001b[0;34m\u001b[0m\u001b[0;34m\u001b[0m\u001b[0m\n\u001b[0m\u001b[1;32m    517\u001b[0m \u001b[0;34m\u001b[0m\u001b[0m\n\u001b[1;32m    518\u001b[0m         \u001b[0mpbar\u001b[0m\u001b[0;34m.\u001b[0m\u001b[0mclose\u001b[0m\u001b[0;34m(\u001b[0m\u001b[0;34m)\u001b[0m\u001b[0;34m\u001b[0m\u001b[0;34m\u001b[0m\u001b[0m\n",
      "\u001b[0;32m/data/anaconda3/envs/rcss20/lib/python3.7/site-packages/optuna/study.py\u001b[0m in \u001b[0;36moptimize\u001b[0;34m(self, func, n_trials, timeout, n_jobs, catch, callbacks, gc_after_trial, show_progress_bar)\u001b[0m\n\u001b[1;32m    317\u001b[0m             \u001b[0;32mif\u001b[0m \u001b[0mn_jobs\u001b[0m \u001b[0;34m==\u001b[0m \u001b[0;36m1\u001b[0m\u001b[0;34m:\u001b[0m\u001b[0;34m\u001b[0m\u001b[0;34m\u001b[0m\u001b[0m\n\u001b[1;32m    318\u001b[0m                 self._optimize_sequential(func, n_trials, timeout, catch, callbacks,\n\u001b[0;32m--> 319\u001b[0;31m                                           gc_after_trial, None)\n\u001b[0m\u001b[1;32m    320\u001b[0m             \u001b[0;32melse\u001b[0m\u001b[0;34m:\u001b[0m\u001b[0;34m\u001b[0m\u001b[0;34m\u001b[0m\u001b[0m\n\u001b[1;32m    321\u001b[0m                 \u001b[0;32mif\u001b[0m \u001b[0mshow_progress_bar\u001b[0m\u001b[0;34m:\u001b[0m\u001b[0;34m\u001b[0m\u001b[0;34m\u001b[0m\u001b[0m\n",
      "\u001b[0;32m/data/anaconda3/envs/rcss20/lib/python3.7/site-packages/optuna/study.py\u001b[0m in \u001b[0;36m_optimize_sequential\u001b[0;34m(self, func, n_trials, timeout, catch, callbacks, gc_after_trial, time_start)\u001b[0m\n\u001b[1;32m    595\u001b[0m                     \u001b[0;32mbreak\u001b[0m\u001b[0;34m\u001b[0m\u001b[0;34m\u001b[0m\u001b[0m\n\u001b[1;32m    596\u001b[0m \u001b[0;34m\u001b[0m\u001b[0m\n\u001b[0;32m--> 597\u001b[0;31m             \u001b[0mself\u001b[0m\u001b[0;34m.\u001b[0m\u001b[0m_run_trial_and_callbacks\u001b[0m\u001b[0;34m(\u001b[0m\u001b[0mfunc\u001b[0m\u001b[0;34m,\u001b[0m \u001b[0mcatch\u001b[0m\u001b[0;34m,\u001b[0m \u001b[0mcallbacks\u001b[0m\u001b[0;34m,\u001b[0m \u001b[0mgc_after_trial\u001b[0m\u001b[0;34m)\u001b[0m\u001b[0;34m\u001b[0m\u001b[0;34m\u001b[0m\u001b[0m\n\u001b[0m\u001b[1;32m    598\u001b[0m \u001b[0;34m\u001b[0m\u001b[0m\n\u001b[1;32m    599\u001b[0m             \u001b[0mself\u001b[0m\u001b[0;34m.\u001b[0m\u001b[0m_progress_bar\u001b[0m\u001b[0;34m.\u001b[0m\u001b[0mupdate\u001b[0m\u001b[0;34m(\u001b[0m\u001b[0;34m(\u001b[0m\u001b[0mdatetime\u001b[0m\u001b[0;34m.\u001b[0m\u001b[0mdatetime\u001b[0m\u001b[0;34m.\u001b[0m\u001b[0mnow\u001b[0m\u001b[0;34m(\u001b[0m\u001b[0;34m)\u001b[0m \u001b[0;34m-\u001b[0m \u001b[0mtime_start\u001b[0m\u001b[0;34m)\u001b[0m\u001b[0;34m.\u001b[0m\u001b[0mtotal_seconds\u001b[0m\u001b[0;34m(\u001b[0m\u001b[0;34m)\u001b[0m\u001b[0;34m)\u001b[0m\u001b[0;34m\u001b[0m\u001b[0;34m\u001b[0m\u001b[0m\n",
      "\u001b[0;32m/data/anaconda3/envs/rcss20/lib/python3.7/site-packages/optuna/study.py\u001b[0m in \u001b[0;36m_run_trial_and_callbacks\u001b[0;34m(self, func, catch, callbacks, gc_after_trial)\u001b[0m\n\u001b[1;32m    625\u001b[0m         \u001b[0;31m# type: (...) -> None\u001b[0m\u001b[0;34m\u001b[0m\u001b[0;34m\u001b[0m\u001b[0;34m\u001b[0m\u001b[0m\n\u001b[1;32m    626\u001b[0m \u001b[0;34m\u001b[0m\u001b[0m\n\u001b[0;32m--> 627\u001b[0;31m         \u001b[0mtrial\u001b[0m \u001b[0;34m=\u001b[0m \u001b[0mself\u001b[0m\u001b[0;34m.\u001b[0m\u001b[0m_run_trial\u001b[0m\u001b[0;34m(\u001b[0m\u001b[0mfunc\u001b[0m\u001b[0;34m,\u001b[0m \u001b[0mcatch\u001b[0m\u001b[0;34m,\u001b[0m \u001b[0mgc_after_trial\u001b[0m\u001b[0;34m)\u001b[0m\u001b[0;34m\u001b[0m\u001b[0;34m\u001b[0m\u001b[0m\n\u001b[0m\u001b[1;32m    628\u001b[0m         \u001b[0;32mif\u001b[0m \u001b[0mcallbacks\u001b[0m \u001b[0;32mis\u001b[0m \u001b[0;32mnot\u001b[0m \u001b[0;32mNone\u001b[0m\u001b[0;34m:\u001b[0m\u001b[0;34m\u001b[0m\u001b[0;34m\u001b[0m\u001b[0m\n\u001b[1;32m    629\u001b[0m             \u001b[0mfrozen_trial\u001b[0m \u001b[0;34m=\u001b[0m \u001b[0mself\u001b[0m\u001b[0;34m.\u001b[0m\u001b[0m_storage\u001b[0m\u001b[0;34m.\u001b[0m\u001b[0mget_trial\u001b[0m\u001b[0;34m(\u001b[0m\u001b[0mtrial\u001b[0m\u001b[0;34m.\u001b[0m\u001b[0m_trial_id\u001b[0m\u001b[0;34m)\u001b[0m\u001b[0;34m\u001b[0m\u001b[0;34m\u001b[0m\u001b[0m\n",
      "\u001b[0;32m/data/anaconda3/envs/rcss20/lib/python3.7/site-packages/optuna/study.py\u001b[0m in \u001b[0;36m_run_trial\u001b[0;34m(self, func, catch, gc_after_trial)\u001b[0m\n\u001b[1;32m    646\u001b[0m \u001b[0;34m\u001b[0m\u001b[0m\n\u001b[1;32m    647\u001b[0m         \u001b[0;32mtry\u001b[0m\u001b[0;34m:\u001b[0m\u001b[0;34m\u001b[0m\u001b[0;34m\u001b[0m\u001b[0m\n\u001b[0;32m--> 648\u001b[0;31m             \u001b[0mresult\u001b[0m \u001b[0;34m=\u001b[0m \u001b[0mfunc\u001b[0m\u001b[0;34m(\u001b[0m\u001b[0mtrial\u001b[0m\u001b[0;34m)\u001b[0m\u001b[0;34m\u001b[0m\u001b[0;34m\u001b[0m\u001b[0m\n\u001b[0m\u001b[1;32m    649\u001b[0m         \u001b[0;32mexcept\u001b[0m \u001b[0mexceptions\u001b[0m\u001b[0;34m.\u001b[0m\u001b[0mTrialPruned\u001b[0m \u001b[0;32mas\u001b[0m \u001b[0me\u001b[0m\u001b[0;34m:\u001b[0m\u001b[0;34m\u001b[0m\u001b[0;34m\u001b[0m\u001b[0m\n\u001b[1;32m    650\u001b[0m             message = 'Setting status of trial#{} as {}. {}'.format(trial_number,\n",
      "\u001b[0;32m/data/anaconda3/envs/rcss20/lib/python3.7/site-packages/optuna/integration/lightgbm_tuner/optimize.py\u001b[0m in \u001b[0;36m__call__\u001b[0;34m(self, trial)\u001b[0m\n\u001b[1;32m    265\u001b[0m \u001b[0;34m\u001b[0m\u001b[0m\n\u001b[1;32m    266\u001b[0m         \u001b[0;32mwith\u001b[0m \u001b[0m_timer\u001b[0m\u001b[0;34m(\u001b[0m\u001b[0;34m)\u001b[0m \u001b[0;32mas\u001b[0m \u001b[0mt\u001b[0m\u001b[0;34m:\u001b[0m\u001b[0;34m\u001b[0m\u001b[0;34m\u001b[0m\u001b[0m\n\u001b[0;32m--> 267\u001b[0;31m             \u001b[0mbooster\u001b[0m \u001b[0;34m=\u001b[0m \u001b[0mlgb\u001b[0m\u001b[0;34m.\u001b[0m\u001b[0mtrain\u001b[0m\u001b[0;34m(\u001b[0m\u001b[0mself\u001b[0m\u001b[0;34m.\u001b[0m\u001b[0mlgbm_params\u001b[0m\u001b[0;34m,\u001b[0m \u001b[0mself\u001b[0m\u001b[0;34m.\u001b[0m\u001b[0mtrain_set\u001b[0m\u001b[0;34m,\u001b[0m \u001b[0;34m**\u001b[0m\u001b[0mself\u001b[0m\u001b[0;34m.\u001b[0m\u001b[0mlgbm_kwargs\u001b[0m\u001b[0;34m)\u001b[0m\u001b[0;34m\u001b[0m\u001b[0;34m\u001b[0m\u001b[0m\n\u001b[0m\u001b[1;32m    268\u001b[0m \u001b[0;34m\u001b[0m\u001b[0m\n\u001b[1;32m    269\u001b[0m         \u001b[0mval_score\u001b[0m \u001b[0;34m=\u001b[0m \u001b[0mself\u001b[0m\u001b[0;34m.\u001b[0m\u001b[0m_get_booster_best_score\u001b[0m\u001b[0;34m(\u001b[0m\u001b[0mbooster\u001b[0m\u001b[0;34m)\u001b[0m\u001b[0;34m\u001b[0m\u001b[0;34m\u001b[0m\u001b[0m\n",
      "\u001b[0;32m/data/anaconda3/envs/rcss20/lib/python3.7/site-packages/lightgbm/engine.py\u001b[0m in \u001b[0;36mtrain\u001b[0;34m(params, train_set, num_boost_round, valid_sets, valid_names, fobj, feval, init_model, feature_name, categorical_feature, early_stopping_rounds, evals_result, verbose_eval, learning_rates, keep_training_booster, callbacks)\u001b[0m\n\u001b[1;32m    247\u001b[0m                                     evaluation_result_list=None))\n\u001b[1;32m    248\u001b[0m \u001b[0;34m\u001b[0m\u001b[0m\n\u001b[0;32m--> 249\u001b[0;31m         \u001b[0mbooster\u001b[0m\u001b[0;34m.\u001b[0m\u001b[0mupdate\u001b[0m\u001b[0;34m(\u001b[0m\u001b[0mfobj\u001b[0m\u001b[0;34m=\u001b[0m\u001b[0mfobj\u001b[0m\u001b[0;34m)\u001b[0m\u001b[0;34m\u001b[0m\u001b[0;34m\u001b[0m\u001b[0m\n\u001b[0m\u001b[1;32m    250\u001b[0m \u001b[0;34m\u001b[0m\u001b[0m\n\u001b[1;32m    251\u001b[0m         \u001b[0mevaluation_result_list\u001b[0m \u001b[0;34m=\u001b[0m \u001b[0;34m[\u001b[0m\u001b[0;34m]\u001b[0m\u001b[0;34m\u001b[0m\u001b[0;34m\u001b[0m\u001b[0m\n",
      "\u001b[0;32m/data/anaconda3/envs/rcss20/lib/python3.7/site-packages/lightgbm/basic.py\u001b[0m in \u001b[0;36mupdate\u001b[0;34m(self, train_set, fobj)\u001b[0m\n\u001b[1;32m   1974\u001b[0m             _safe_call(_LIB.LGBM_BoosterUpdateOneIter(\n\u001b[1;32m   1975\u001b[0m                 \u001b[0mself\u001b[0m\u001b[0;34m.\u001b[0m\u001b[0mhandle\u001b[0m\u001b[0;34m,\u001b[0m\u001b[0;34m\u001b[0m\u001b[0;34m\u001b[0m\u001b[0m\n\u001b[0;32m-> 1976\u001b[0;31m                 ctypes.byref(is_finished)))\n\u001b[0m\u001b[1;32m   1977\u001b[0m             \u001b[0mself\u001b[0m\u001b[0;34m.\u001b[0m\u001b[0m__is_predicted_cur_iter\u001b[0m \u001b[0;34m=\u001b[0m \u001b[0;34m[\u001b[0m\u001b[0;32mFalse\u001b[0m \u001b[0;32mfor\u001b[0m \u001b[0m_\u001b[0m \u001b[0;32min\u001b[0m \u001b[0mrange_\u001b[0m\u001b[0;34m(\u001b[0m\u001b[0mself\u001b[0m\u001b[0;34m.\u001b[0m\u001b[0m__num_dataset\u001b[0m\u001b[0;34m)\u001b[0m\u001b[0;34m]\u001b[0m\u001b[0;34m\u001b[0m\u001b[0;34m\u001b[0m\u001b[0m\n\u001b[1;32m   1978\u001b[0m             \u001b[0;32mreturn\u001b[0m \u001b[0mis_finished\u001b[0m\u001b[0;34m.\u001b[0m\u001b[0mvalue\u001b[0m \u001b[0;34m==\u001b[0m \u001b[0;36m1\u001b[0m\u001b[0;34m\u001b[0m\u001b[0;34m\u001b[0m\u001b[0m\n",
      "\u001b[0;31mKeyboardInterrupt\u001b[0m: "
     ]
    }
   ],
   "source": [
    "%%time\n",
    "dtr = lgb.Dataset(dftr[cols_feat], label=dftr[TCOL])\n",
    "dvl = lgb.Dataset(dfvl[cols_feat], label=dfvl[TCOL])\n",
    "best_params, tuning_history = {}, []\n",
    "evalres = {}\n",
    "evallist = [(dtr, 'train'), (dvl, 'eval')]\n",
    "bst = lgb.train(params=params, \n",
    "                train_set=dtr, \n",
    "                num_boost_round=50000,\n",
    "                valid_sets=[dtr, dvl],\n",
    "                valid_names=['tr','vl'],\n",
    "                best_params=best_params,\n",
    "                tuning_history=tuning_history,\n",
    "                verbose_eval=100,\n",
    "                early_stopping_rounds=100,\n",
    "                evals_result=evalres,\n",
    "               )\n",
    "results['bst'] = bst\n",
    "results['evalres'] = evalres\n",
    "results['best_params']=best_params\n",
    "results['tuning_history']=tuning_history"
   ]
  },
  {
   "cell_type": "markdown",
   "metadata": {},
   "source": [
    "## best_params"
   ]
  },
  {
   "cell_type": "code",
   "execution_count": 19,
   "metadata": {},
   "outputs": [
    {
     "data": {
      "text/plain": [
       "{'lambda_l1': 0.0,\n",
       " 'lambda_l2': 0.0,\n",
       " 'num_leaves': 31,\n",
       " 'feature_fraction': 1.0,\n",
       " 'bagging_fraction': 1.0,\n",
       " 'bagging_freq': 0,\n",
       " 'min_child_samples': 20}"
      ]
     },
     "execution_count": 19,
     "metadata": {},
     "output_type": "execute_result"
    }
   ],
   "source": [
    "best_params"
   ]
  },
  {
   "cell_type": "markdown",
   "metadata": {},
   "source": [
    "## tr vl trajec"
   ]
  },
  {
   "cell_type": "code",
   "execution_count": 20,
   "metadata": {},
   "outputs": [
    {
     "ename": "NameError",
     "evalue": "name 'bst' is not defined",
     "output_type": "error",
     "traceback": [
      "\u001b[0;31m---------------------------------------------------------------------------\u001b[0m",
      "\u001b[0;31mNameError\u001b[0m                                 Traceback (most recent call last)",
      "\u001b[0;32m<ipython-input-20-802362a29cd0>\u001b[0m in \u001b[0;36m<module>\u001b[0;34m\u001b[0m\n\u001b[1;32m      1\u001b[0m \u001b[0mplt\u001b[0m\u001b[0;34m.\u001b[0m\u001b[0mplot\u001b[0m\u001b[0;34m(\u001b[0m\u001b[0mevalres\u001b[0m\u001b[0;34m[\u001b[0m\u001b[0;34m'tr'\u001b[0m\u001b[0;34m]\u001b[0m\u001b[0;34m[\u001b[0m\u001b[0;34m'binary_logloss'\u001b[0m\u001b[0;34m]\u001b[0m\u001b[0;34m)\u001b[0m\u001b[0;34m\u001b[0m\u001b[0;34m\u001b[0m\u001b[0m\n\u001b[1;32m      2\u001b[0m \u001b[0mplt\u001b[0m\u001b[0;34m.\u001b[0m\u001b[0mplot\u001b[0m\u001b[0;34m(\u001b[0m\u001b[0mevalres\u001b[0m\u001b[0;34m[\u001b[0m\u001b[0;34m'vl'\u001b[0m\u001b[0;34m]\u001b[0m\u001b[0;34m[\u001b[0m\u001b[0;34m'binary_logloss'\u001b[0m\u001b[0;34m]\u001b[0m\u001b[0;34m)\u001b[0m\u001b[0;34m\u001b[0m\u001b[0;34m\u001b[0m\u001b[0m\n\u001b[0;32m----> 3\u001b[0;31m \u001b[0mplt\u001b[0m\u001b[0;34m.\u001b[0m\u001b[0mtitle\u001b[0m\u001b[0;34m(\u001b[0m\u001b[0;34mf\"logloss; best_iteration {bst.best_iteration}\"\u001b[0m\u001b[0;34m)\u001b[0m\u001b[0;34m\u001b[0m\u001b[0;34m\u001b[0m\u001b[0m\n\u001b[0m\u001b[1;32m      4\u001b[0m \u001b[0mplt\u001b[0m\u001b[0;34m.\u001b[0m\u001b[0mshow\u001b[0m\u001b[0;34m(\u001b[0m\u001b[0;34m)\u001b[0m\u001b[0;34m\u001b[0m\u001b[0;34m\u001b[0m\u001b[0m\n",
      "\u001b[0;31mNameError\u001b[0m: name 'bst' is not defined"
     ]
    },
    {
     "data": {
      "image/png": "[encoded data removed]",
      "text/plain": [
       "<Figure size 432x288 with 1 Axes>"
      ]
     },
     "metadata": {
      "needs_background": "light"
     },
     "output_type": "display_data"
    }
   ],
   "source": [
    "plt.plot(evalres['tr']['binary_logloss'])\n",
    "plt.plot(evalres['vl']['binary_logloss'])\n",
    "plt.title(f\"logloss; best_iteration {bst.best_iteration}\")\n",
    "plt.show()"
   ]
  },
  {
   "cell_type": "markdown",
   "metadata": {},
   "source": [
    "## model features"
   ]
  },
  {
   "cell_type": "code",
   "execution_count": null,
   "metadata": {},
   "outputs": [],
   "source": [
    "ax = lgb.plot_importance(bst, height=0.8, max_num_features=50, figsize=(10,15))\n",
    "ax.grid(False, axis=\"y\")\n",
    "ax.set_title(f'Estimated feature importance')\n",
    "plt.show()"
   ]
  },
  {
   "cell_type": "code",
   "execution_count": null,
   "metadata": {},
   "outputs": [],
   "source": [
    "pd.DataFrame([bst.feature_name(), bst.feature_importance()]).T.sort_values(1, ascending=False)"
   ]
  },
  {
   "cell_type": "code",
   "execution_count": null,
   "metadata": {},
   "outputs": [],
   "source": [
    "col2imp = dict(zip(bst.feature_name(), bst.feature_importance()))\n",
    "sorted(col2imp.items(), key=lambda x: -x[1])"
   ]
  },
  {
   "cell_type": "code",
   "execution_count": null,
   "metadata": {},
   "outputs": [],
   "source": [
    "[o[0] for o in sorted(col2imp.items(), key=lambda x: -x[1]) if o[1]>0]"
   ]
  },
  {
   "cell_type": "code",
   "execution_count": null,
   "metadata": {},
   "outputs": [],
   "source": []
  },
  {
   "cell_type": "markdown",
   "metadata": {},
   "source": [
    "# eval"
   ]
  },
  {
   "cell_type": "code",
   "execution_count": null,
   "metadata": {},
   "outputs": [],
   "source": [
    "%%time\n",
    "prdtr = bst.predict(dftr[cols_feat],num_iteration=bst.best_iteration)\n",
    "prdvl = bst.predict(dfvl[cols_feat],num_iteration=bst.best_iteration)\n",
    "prdval0 = bst.predict(dfval[cols_feat],num_iteration=bst.best_iteration)\n",
    "prdval = calibration(prdval0, train_pop, target_pop, sampled_train_pop, sampled_target_pop)"
   ]
  },
  {
   "cell_type": "code",
   "execution_count": null,
   "metadata": {},
   "outputs": [],
   "source": [
    "%%time\n",
    "ytr,yvl,yval=[df[TCOL].values for df in (dftr,dfvl,dfval)]\n",
    "\n",
    "auc_tr=compute_prauc(prdtr, ytr)\n",
    "rce_tr=compute_rce(prdtr, ytr)\n",
    "auc_vl=compute_prauc(prdvl, yvl)\n",
    "rce_vl=compute_rce(prdvl, yvl)\n",
    "auc_val=compute_prauc(prdval, yval)\n",
    "rce_val=compute_rce(prdval, yval)\n",
    "\n",
    "results['scrs'] = {}\n",
    "results['scrs']['auc_tr']=auc_tr\n",
    "results['scrs']['rce_tr']=rce_tr\n",
    "results['scrs']['auc_vl']=auc_vl\n",
    "results['scrs']['rce_vl']=rce_vl\n",
    "results['scrs']['auc_val']=auc_val\n",
    "results['scrs']['rce_val']=rce_val"
   ]
  },
  {
   "cell_type": "code",
   "execution_count": null,
   "metadata": {},
   "outputs": [],
   "source": [
    "print(f'auc_tr:  {auc_tr:.4f}')\n",
    "print(f'auc_vl:  {auc_vl:.4f}')\n",
    "print(f'auc_val: {auc_val:.4f}')\n",
    "print()\n",
    "print(f'rce_tr:  {rce_tr:.4f}')\n",
    "print(f'rce_vl:  {rce_vl:.4f}')\n",
    "print(f'rce_val: {rce_val:.4f}')"
   ]
  },
  {
   "cell_type": "markdown",
   "metadata": {},
   "source": [
    "## score"
   ]
  },
  {
   "cell_type": "code",
   "execution_count": null,
   "metadata": {},
   "outputs": [],
   "source": [
    "print(f'-{auc_val:.4f}-{rce_val:.4f}')"
   ]
  },
  {
   "cell_type": "markdown",
   "metadata": {},
   "source": [
    "# save results"
   ]
  },
  {
   "cell_type": "code",
   "execution_count": null,
   "metadata": {},
   "outputs": [],
   "source": [
    "pickle.dump(results, open(f'{p_out}/results_{PRFX}.p', 'wb'))"
   ]
  },
  {
   "cell_type": "markdown",
   "metadata": {},
   "source": [
    "# infer"
   ]
  },
  {
   "cell_type": "code",
   "execution_count": null,
   "metadata": {},
   "outputs": [],
   "source": [
    "results = pickle.load( open(f'{p_out}/results_{PRFX}.p', 'rb'))\n",
    "bst = results['bst']\n",
    "cols_feat = results['cols_feat']"
   ]
  },
  {
   "cell_type": "markdown",
   "metadata": {},
   "source": [
    "## prep"
   ]
  },
  {
   "cell_type": "code",
   "execution_count": null,
   "metadata": {},
   "outputs": [],
   "source": [
    "%%time\n",
    "dftst=pd.read_csv(\n",
    "    f'{p_in}/val_{tsttmstmp}.tsv',\n",
    "    sep='\\x01', header=None, names=cols_val, \n",
    "#     nrows=10\n",
    ")"
   ]
  },
  {
   "cell_type": "code",
   "execution_count": null,
   "metadata": {},
   "outputs": [],
   "source": [
    "dftst.shape"
   ]
  },
  {
   "cell_type": "code",
   "execution_count": null,
   "metadata": {
    "scrolled": false
   },
   "outputs": [],
   "source": [
    "%%time\n",
    "dftst=prp_df(dftst, tm_max=tm_tst_max)"
   ]
  },
  {
   "cell_type": "code",
   "execution_count": null,
   "metadata": {},
   "outputs": [],
   "source": [
    "dftst.drop(columns=['u1id','u1u2'], inplace=True)\n",
    "cols_category=['twttyp', 'lang', 'langhour']\n",
    "dftst[cols_category]=dftst[cols_category].astype('category')"
   ]
  },
  {
   "cell_type": "markdown",
   "metadata": {},
   "source": [
    "## predict"
   ]
  },
  {
   "cell_type": "code",
   "execution_count": null,
   "metadata": {},
   "outputs": [],
   "source": [
    "%%time\n",
    "prdtst0 = bst.predict(dftst[cols_feat],num_iteration=bst.best_iteration)\n",
    "prdtst = calibration(prdtst0, train_pop, target_pop, sampled_train_pop, sampled_target_pop)"
   ]
  },
  {
   "cell_type": "code",
   "execution_count": null,
   "metadata": {},
   "outputs": [],
   "source": [
    "dfsub_ids = dftst[['twtid','u2id',]]\n",
    "dfsub = dfsub_ids.copy()\n",
    "dfsub['scr'] = prdtst\n",
    "dfsub.to_csv(f'{p_out}/{TGT}__{PRFX}.csv',index=False,header=False)"
   ]
  },
  {
   "cell_type": "code",
   "execution_count": null,
   "metadata": {},
   "outputs": [],
   "source": []
  },
  {
   "cell_type": "code",
   "execution_count": null,
   "metadata": {},
   "outputs": [],
   "source": []
  },
  {
   "cell_type": "code",
   "execution_count": null,
   "metadata": {},
   "outputs": [],
   "source": []
  },
  {
   "cell_type": "code",
   "execution_count": null,
   "metadata": {},
   "outputs": [],
   "source": []
  }
 ],
 "metadata": {
  "kernelspec": {
   "display_name": "rcss20",
   "language": "python",
   "name": "rcss20"
  },
  "language_info": {
   "codemirror_mode": {
    "name": "ipython",
    "version": 3
   },
   "file_extension": ".py",
   "mimetype": "text/x-python",
   "name": "python",
   "nbconvert_exporter": "python",
   "pygments_lexer": "ipython3",
   "version": "3.7.6"
  },
  "toc": {
   "base_numbering": 1,
   "nav_menu": {},
   "number_sections": true,
   "sideBar": true,
   "skip_h1_title": false,
   "title_cell": "Table of Contents",
   "title_sidebar": "Contents",
   "toc_cell": false,
   "toc_position": {},
   "toc_section_display": true,
   "toc_window_display": true
  }
 },
 "nbformat": 4,
 "nbformat_minor": 4
}
