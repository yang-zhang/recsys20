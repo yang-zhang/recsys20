{
 "cells": [
  {
   "cell_type": "markdown",
   "metadata": {},
   "source": [
    "less is more - kaggle santander"
   ]
  },
  {
   "cell_type": "markdown",
   "metadata": {},
   "source": [
    "# start"
   ]
  },
  {
   "cell_type": "markdown",
   "metadata": {},
   "source": [
    "from 0319_1 add date time features"
   ]
  },
  {
   "cell_type": "code",
   "execution_count": 1,
   "metadata": {},
   "outputs": [
    {
     "data": {
      "text/plain": [
       "['2020-03-17 02:32:24', '2020-03-19 13:59:55']"
      ]
     },
     "execution_count": 1,
     "metadata": {},
     "output_type": "execute_result"
    }
   ],
   "source": [
    "PRFX='0319_2'\n",
    "trntmstmp=1584412344\n",
    "valtmstmp=1584626395\n",
    "import datetime\n",
    "[datetime.datetime.fromtimestamp(o).strftime('%Y-%m-%d %H:%M:%S') for o in (trntmstmp, valtmstmp)]"
   ]
  },
  {
   "cell_type": "markdown",
   "metadata": {},
   "source": [
    "# setup"
   ]
  },
  {
   "cell_type": "code",
   "execution_count": 2,
   "metadata": {
    "scrolled": true
   },
   "outputs": [
    {
     "name": "stdout",
     "output_type": "stream",
     "text": [
      "dask.__version__ 2.12.0\n"
     ]
    }
   ],
   "source": [
    "from pathlib import Path\n",
    "import dask\n",
    "print('dask.__version__', dask.__version__)\n",
    "import xgboost as xgb\n",
    "import dask_xgboost\n",
    "import dask.dataframe as dd\n",
    "from sklearn.model_selection import train_test_split\n",
    "import pandas as pd\n",
    "import numpy as np\n",
    "import matplotlib.pyplot as plt\n",
    "from sklearn.metrics import accuracy_score, roc_auc_score, roc_curve, auc, precision_recall_curve\n",
    "from dask.distributed import Client\n",
    "import pickle\n",
    "import lightgbm as lgb\n",
    "from tqdm import tqdm\n",
    "\n",
    "import datetime\n",
    "def dtnow(): return datetime.datetime.now().strftime('%Y-%m-%d %H:%M:%S')\n",
    "\n",
    "SEED=101\n",
    "HOME='/data/git/recsys20'\n",
    "p_in=f'{HOME}/input'\n",
    "p_out=f'{HOME}/output/{PRFX}'\n",
    "Path(p_out).mkdir(exist_ok=True, parents=True)\n",
    "\n",
    "from sklearn.metrics import precision_recall_curve, auc, log_loss\n",
    "\n",
    "def compute_prauc(pred, gt):\n",
    "    prec, recall, thresh = precision_recall_curve(gt, pred)\n",
    "    prauc = auc(recall, prec)\n",
    "    return prauc\n",
    "\n",
    "def calculate_ctr(gt):\n",
    "    positive = len([x for x in gt if x == 1])\n",
    "    ctr = positive/float(len(gt))\n",
    "    return ctr\n",
    "\n",
    "def compute_rce(pred, gt):\n",
    "    cross_entropy = log_loss(gt, pred)\n",
    "    data_ctr = calculate_ctr(gt)\n",
    "    strawman_cross_entropy = log_loss(gt, [data_ctr for _ in range(len(gt))])\n",
    "    return (1.0 - cross_entropy/strawman_cross_entropy)*100.0\n",
    "\n",
    "cols=[\n",
    "'toks',\n",
    "'hshtgs',\n",
    "'twtid',\n",
    "'media',\n",
    "'links',\n",
    "'domns',\n",
    "'twttyp',\n",
    "'lang',\n",
    "'tm',\n",
    "\n",
    "'u1id',\n",
    "'u1_fllwer_cnt',\n",
    "'u1_fllwing_cnt',\n",
    "'u1_vrfed',\n",
    "'u1_create_tm',\n",
    "\n",
    "'u2id',\n",
    "'u2_follower_cnt',\n",
    "'u2_following_cnt',\n",
    "'u2_vrfed',\n",
    "'u2_create_tm',\n",
    "\n",
    "'u1_fllw_u2',\n",
    "'reply_tm',\n",
    "'retwt_tm',\n",
    "'retwt_cmmnt_tm',\n",
    "'like_tm',\n",
    "]\n",
    "\n",
    "cols_val = cols[:-4]\n",
    "cols_tgt_tmstmp=[\n",
    "    'retwt_tm',\n",
    "    'reply_tm',\n",
    "    'like_tm',\n",
    "    'retwt_cmmnt_tm',\n",
    "]\n",
    "cols_tgt=[o.split('_tm')[0] for o in cols_tgt_tmstmp]\n",
    "tgts             = ['Retweet','Reply','Like','RTwCmnt',]\n",
    "assert cols_tgt == ['retwt',  'reply','like','retwt_cmmnt',]\n",
    "ntgts=len(tgts)"
   ]
  },
  {
   "cell_type": "markdown",
   "metadata": {},
   "source": [
    "# prepare data"
   ]
  },
  {
   "cell_type": "markdown",
   "metadata": {},
   "source": [
    "## get maps from dfval"
   ]
  },
  {
   "cell_type": "code",
   "execution_count": 3,
   "metadata": {},
   "outputs": [],
   "source": [
    "# dfval=dd.read_csv(\n",
    "#     f'{p_in}/val_{valtmstmp}.tsv',\n",
    "#     sep='\\x01', header=None, names=cols_val,)\n",
    "# lang2cnt=dict(dfval.lang.value_counts().compute())\n",
    "# ttl=sum(lang2cnt.values())\n",
    "# lang2perc={k:v/ttl for k,v in lang2cnt.items()}\n",
    "langs=['D3164C7FBCF2565DDF915B1B3AEFB1DC', '22C448FF81263D4BAF2A176145EE9EAD', '06D61DCBBE938971E1EA0C38BD9B5446', 'ECED8A16BE2A5E8871FD55F4842F16B1', 'B9175601E87101A984A50F8A62A1C374', '4DC22C3F31C5C43721E6B5815A595ED6', '167115458A0DBDFF7E9C0C53A83BAC9B', '125C57F4FA6D4E110983FB11B52EFD4E', '022EC308651FACB02794A8147AEE1B78', 'FA3F382BC409C271E3D6EAF8BE4648DD', '9BF3403E0EB7EA8A256DA9019C0B0716', '975B38F44D65EE42A547283787FF5A21', '2996EB2FE8162C076D070A4C8D6532CD', 'FF60A88F53E63000266F8B9149E35AD9', '717293301FE296B0B61950D041485825', '3E16B11B7ADE3A22DDFC4423FBCEAD5D', '3820C29CBCA409A33BADF68852057C4A', '9ECD42BC079C20F156F53CB3B99E600E', '76B8A9C3013AE6414A3E6012413CDC3B', 'AEF22666801F0A5846D853B9CEB2E327', '190BA7DA361BC06BC1D7E824C378064D', '1FFD2FE4297F5E70EBC6C3230D95CB9C', 'A0C7021AD8299ADF0C9EBE326C115F6F', 'D413F5FE5236E5650A46FD983AB39212', '48236EC80FDDDFADE99420ABC9210DDF', '691890251F2B9FF922BE6D3699ABEFD2', '920502FAA080485768AA89BC96A55C47', '0331BF70E606D62D92C96CE9AD71A7CF', '89616CFF8EC8637092F885C7EFF43D74', '06BEAB41D66CCFF329D1ED8BA120A6C2', '60FBA0E834CC59D647C3599AD763FFDF', 'C7A400D9AD489ACF673CF12FBB80AAE5', 'E59EF8BB86A6D815331DDF4C467CE0C7', '4249CE88433AEA3F8DCEECF008B3CB95', '544FA32458C903F1125FE6598300A047', 'CB11E9CF42BD0A1BAD5E27BF3422D99D', '3A85BCEC571C3F5AB1069E4924189177', 'FF7EABB5A382356D54D9C41BA0125E09', 'E7BB61D2A87C1E72DF1C7BC292B86A1C', '69C4A33B9AD29AF883D60BA61CC08702', 'F4FD40A716F1572C9A28E9CAA58BE3A5', '259A6F6DFD672CB1F883CBEC01B99F2D', '6431A618DCF7F4CB7F62A95A39BAB77A', '3121F7240D488F74EEED9312E174B217', '54208B51D44E7D91DC2F3DD02ADEDEC2', 'DBEEFB80F8A314311E2B4BD593E11DFE', 'B6D90127A09AB1229731898AEF9D4D7C', 'F3E1016563360F9434FA986CA86C249C', '2216D01F7B48554E4211021A46816FCF', '1BC639981AE88E09129594B11F894A21', 'C942E369C88CE7C56E69A84D04319FF0', '57ADD4576E2AD6648E9B2DE32F3462A5', 'AC1F0671A4B0D5B8112F87DE7B490E6D', 'C2EF5FABE7619D8A333D5F0FF76E1BFA', 'AA0254541959271ED3453119B787D0C3', 'A6B70CDF8C7B934D4A218CA9B6B7FDB4', 'BF477808A37E3E4E9C5D9F1839E8519E', '97F81BD92A1ACA3F1F43C154E689350F', '60A3DB168094D41241E45E0DE3539BC0', '12D8CEB94F89D11D7EB95EAE9689B009', 'F73266A79468BB89C4325FDEDB0B533C', '4690215948DBF6872B8ED1C2BC87B17E', 'D18801336202297E6484F634CAC6592E', '2E18F6F53E3CF073911AF0A93BBE5373', 'B2235C8B73239FDC5780DD132419833A', '515E873C86EE1577E75FA2387B7FA59E',]\n",
    "\n",
    "# dfval.twttyp.value_counts().compute()\n",
    "# TopLevel    2932\n",
    "# Retweet      994\n",
    "# Quote        213\n",
    "twttyps=['TopLevel','Retweet','Quote']"
   ]
  },
  {
   "cell_type": "code",
   "execution_count": 23,
   "metadata": {},
   "outputs": [],
   "source": [
    "def prp_df(df):\n",
    "    df['len_toks']=df.toks.apply(len)\n",
    "    for media in ['Photo', 'Video', 'GIF']:\n",
    "        df[f'has_media_{media}'] = df.media.fillna('').apply(lambda x: media in x)\n",
    "    for col in ['hshtgs', 'links', 'domns',]:\n",
    "        df[f'num_{col}'] = df[col].fillna('').apply(lambda x: len(x.split('\\t')) if len(x) else 0)\n",
    "    tm_dt=pd.to_datetime(df.tm, unit='s')\n",
    "    df['tm_month']=tm_dt.dt.month\n",
    "    df['tm_dayofweek']=tm_dt.dt.dayofweek\n",
    "    df['tm_day']=tm_dt.dt.day\n",
    "    df['tm_hour']=tm_dt.dt.hour\n",
    "    df['tmdlta_u2u1']  = df.u2_create_tm - df.u1_create_tm\n",
    "    df['tmdlta_twtu1'] = df.tm - df.u1_create_tm\n",
    "    df['tmdlta_twtu2'] = df.tm - df.u2_create_tm\n",
    "\n",
    "    for typ in twttyps:\n",
    "        df[f'twttyp_{typ}']=(df.twttyp==typ).astype('int8')\n",
    "\n",
    "    for lang in langs:\n",
    "        df[f'lang_{lang}']=(df.lang==lang).astype('int8')\n",
    "    df.drop(inplace=True, columns=['toks', 'hshtgs', 'media', 'links', 'domns', 'twttyp', 'lang', 'u1id',], )\n",
    "    return df"
   ]
  },
  {
   "cell_type": "raw",
   "metadata": {
    "scrolled": true
   },
   "source": [
    "ls -hlS $p_in | grep {trntmstmp} "
   ]
  },
  {
   "cell_type": "code",
   "execution_count": 5,
   "metadata": {},
   "outputs": [
    {
     "name": "stdout",
     "output_type": "stream",
     "text": [
      "2020-03-19 19:13:52 chunk 0\n"
     ]
    },
    {
     "name": "stderr",
     "output_type": "stream",
     "text": [
      "100%|██████████| 71453/71453 [04:36<00:00, 258.67it/s]\n"
     ]
    }
   ],
   "source": [
    "chnks_trn = pd.read_csv(f'{p_in}/trn_{trntmstmp}.tsv',sep='\\x01',\n",
    "                    header=None,names=cols, \n",
    "                        chunksize=1e6\n",
    "                       )\n",
    "\n",
    "lst_df = []\n",
    "for ichnk,df in enumerate(chnks_trn):\n",
    "    print(dtnow(), 'chunk', ichnk)\n",
    "    df = prp_df(df)\n",
    "    \n",
    "    idx0    =np.where(df[cols_tgt_tmstmp].notna().sum(1)==0)[0]\n",
    "    idx1    =np.where(df[cols_tgt_tmstmp].notna().sum(1)==1)[0]\n",
    "    idx2    =np.where(df[cols_tgt_tmstmp].notna().sum(1)>1)[0]\n",
    "        \n",
    "    df0=df.iloc[idx0].copy()\n",
    "    df0['tgt']=ntgts\n",
    "    df1=df.iloc[idx1].copy()\n",
    "    df1['tgt']=np.argmax(df1[cols_tgt_tmstmp].notna().values, 1)\n",
    "    \n",
    "    df2_=df.iloc[idx2]\n",
    "    rows_new=[]\n",
    "    for _, row in tqdm(df2_.iterrows(), total=len(df2_)):\n",
    "        idx_tgt = np.where(row[cols_tgt_tmstmp].notna())[0]\n",
    "        for i_tgt in idx_tgt:\n",
    "            row_new = row.copy()\n",
    "            row_new['tgt']=i_tgt\n",
    "            rows_new.append(row_new)\n",
    "    df2=pd.DataFrame(rows_new)\n",
    "    \n",
    "    df=pd.concat([df0,df1,df2])\n",
    "    df.drop(inplace=True, columns=['reply_tm', 'retwt_tm', 'retwt_cmmnt_tm', 'like_tm',])\n",
    "\n",
    "    lst_df.append(df)\n",
    "    \n",
    "    break\n"
   ]
  },
  {
   "cell_type": "code",
   "execution_count": 6,
   "metadata": {
    "scrolled": false
   },
   "outputs": [],
   "source": [
    "# pd.set_option('display.max_rows', 100)\n",
    "\n",
    "# display(df0[['twtid']+cols_tgt_tmstmp+['tgt']].head(20))\n",
    "# display(df1[['twtid']+cols_tgt_tmstmp+['tgt']].head(20))\n",
    "# display(df2[['twtid']+cols_tgt_tmstmp+['tgt']].head(20))"
   ]
  },
  {
   "cell_type": "code",
   "execution_count": 7,
   "metadata": {},
   "outputs": [],
   "source": [
    "df = pd.concat(lst_df)"
   ]
  },
  {
   "cell_type": "code",
   "execution_count": 8,
   "metadata": {},
   "outputs": [
    {
     "data": {
      "text/plain": [
       "(1076428, 94)"
      ]
     },
     "execution_count": 8,
     "metadata": {},
     "output_type": "execute_result"
    }
   ],
   "source": [
    "df.shape"
   ]
  },
  {
   "cell_type": "code",
   "execution_count": 9,
   "metadata": {},
   "outputs": [
    {
     "data": {
      "text/plain": [
       "Index(['tm', 'u1_fllwer_cnt', 'u1_fllwing_cnt', 'u1_vrfed', 'u1_create_tm',\n",
       "       'u2_follower_cnt', 'u2_following_cnt', 'u2_vrfed', 'u2_create_tm',\n",
       "       'u1_fllw_u2', 'len_toks', 'has_media_Photo', 'has_media_Video',\n",
       "       'has_media_GIF', 'num_hshtgs', 'num_links', 'num_domns', 'tm_month',\n",
       "       'tm_dayofweek', 'tm_day', 'tm_hour', 'tmdlta_u2u1', 'tmdlta_twtu1',\n",
       "       'tmdlta_twtu2', 'twttyp_TopLevel', 'twttyp_Retweet', 'twttyp_Quote',\n",
       "       'lang_D3164C7FBCF2565DDF915B1B3AEFB1DC',\n",
       "       'lang_22C448FF81263D4BAF2A176145EE9EAD',\n",
       "       'lang_06D61DCBBE938971E1EA0C38BD9B5446',\n",
       "       'lang_ECED8A16BE2A5E8871FD55F4842F16B1',\n",
       "       'lang_B9175601E87101A984A50F8A62A1C374',\n",
       "       'lang_4DC22C3F31C5C43721E6B5815A595ED6',\n",
       "       'lang_167115458A0DBDFF7E9C0C53A83BAC9B',\n",
       "       'lang_125C57F4FA6D4E110983FB11B52EFD4E',\n",
       "       'lang_022EC308651FACB02794A8147AEE1B78',\n",
       "       'lang_FA3F382BC409C271E3D6EAF8BE4648DD',\n",
       "       'lang_9BF3403E0EB7EA8A256DA9019C0B0716',\n",
       "       'lang_975B38F44D65EE42A547283787FF5A21',\n",
       "       'lang_2996EB2FE8162C076D070A4C8D6532CD',\n",
       "       'lang_FF60A88F53E63000266F8B9149E35AD9',\n",
       "       'lang_717293301FE296B0B61950D041485825',\n",
       "       'lang_3E16B11B7ADE3A22DDFC4423FBCEAD5D',\n",
       "       'lang_3820C29CBCA409A33BADF68852057C4A',\n",
       "       'lang_9ECD42BC079C20F156F53CB3B99E600E',\n",
       "       'lang_76B8A9C3013AE6414A3E6012413CDC3B',\n",
       "       'lang_AEF22666801F0A5846D853B9CEB2E327',\n",
       "       'lang_190BA7DA361BC06BC1D7E824C378064D',\n",
       "       'lang_1FFD2FE4297F5E70EBC6C3230D95CB9C',\n",
       "       'lang_A0C7021AD8299ADF0C9EBE326C115F6F',\n",
       "       'lang_D413F5FE5236E5650A46FD983AB39212',\n",
       "       'lang_48236EC80FDDDFADE99420ABC9210DDF',\n",
       "       'lang_691890251F2B9FF922BE6D3699ABEFD2',\n",
       "       'lang_920502FAA080485768AA89BC96A55C47',\n",
       "       'lang_0331BF70E606D62D92C96CE9AD71A7CF',\n",
       "       'lang_89616CFF8EC8637092F885C7EFF43D74',\n",
       "       'lang_06BEAB41D66CCFF329D1ED8BA120A6C2',\n",
       "       'lang_60FBA0E834CC59D647C3599AD763FFDF',\n",
       "       'lang_C7A400D9AD489ACF673CF12FBB80AAE5',\n",
       "       'lang_E59EF8BB86A6D815331DDF4C467CE0C7',\n",
       "       'lang_4249CE88433AEA3F8DCEECF008B3CB95',\n",
       "       'lang_544FA32458C903F1125FE6598300A047',\n",
       "       'lang_CB11E9CF42BD0A1BAD5E27BF3422D99D',\n",
       "       'lang_3A85BCEC571C3F5AB1069E4924189177',\n",
       "       'lang_FF7EABB5A382356D54D9C41BA0125E09',\n",
       "       'lang_E7BB61D2A87C1E72DF1C7BC292B86A1C',\n",
       "       'lang_69C4A33B9AD29AF883D60BA61CC08702',\n",
       "       'lang_F4FD40A716F1572C9A28E9CAA58BE3A5',\n",
       "       'lang_259A6F6DFD672CB1F883CBEC01B99F2D',\n",
       "       'lang_6431A618DCF7F4CB7F62A95A39BAB77A',\n",
       "       'lang_3121F7240D488F74EEED9312E174B217',\n",
       "       'lang_54208B51D44E7D91DC2F3DD02ADEDEC2',\n",
       "       'lang_DBEEFB80F8A314311E2B4BD593E11DFE',\n",
       "       'lang_B6D90127A09AB1229731898AEF9D4D7C',\n",
       "       'lang_F3E1016563360F9434FA986CA86C249C',\n",
       "       'lang_2216D01F7B48554E4211021A46816FCF',\n",
       "       'lang_1BC639981AE88E09129594B11F894A21',\n",
       "       'lang_C942E369C88CE7C56E69A84D04319FF0',\n",
       "       'lang_57ADD4576E2AD6648E9B2DE32F3462A5',\n",
       "       'lang_AC1F0671A4B0D5B8112F87DE7B490E6D',\n",
       "       'lang_C2EF5FABE7619D8A333D5F0FF76E1BFA',\n",
       "       'lang_AA0254541959271ED3453119B787D0C3',\n",
       "       'lang_A6B70CDF8C7B934D4A218CA9B6B7FDB4',\n",
       "       'lang_BF477808A37E3E4E9C5D9F1839E8519E',\n",
       "       'lang_97F81BD92A1ACA3F1F43C154E689350F',\n",
       "       'lang_60A3DB168094D41241E45E0DE3539BC0',\n",
       "       'lang_12D8CEB94F89D11D7EB95EAE9689B009',\n",
       "       'lang_F73266A79468BB89C4325FDEDB0B533C',\n",
       "       'lang_4690215948DBF6872B8ED1C2BC87B17E',\n",
       "       'lang_D18801336202297E6484F634CAC6592E',\n",
       "       'lang_2E18F6F53E3CF073911AF0A93BBE5373',\n",
       "       'lang_B2235C8B73239FDC5780DD132419833A',\n",
       "       'lang_515E873C86EE1577E75FA2387B7FA59E', 'tgt'],\n",
       "      dtype='object')"
      ]
     },
     "execution_count": 9,
     "metadata": {},
     "output_type": "execute_result"
    }
   ],
   "source": [
    "df.columns"
   ]
  },
  {
   "cell_type": "code",
   "execution_count": 22,
   "metadata": {},
   "outputs": [],
   "source": [
    "cols_feat=[o for o in df.columns if o not in ('tgt', 'twtid', 'u1id', 'u2id',)]"
   ]
  },
  {
   "cell_type": "code",
   "execution_count": 11,
   "metadata": {},
   "outputs": [],
   "source": [
    "X=df[cols_feat].values\n",
    "y=df['tgt'].values"
   ]
  },
  {
   "cell_type": "code",
   "execution_count": 12,
   "metadata": {},
   "outputs": [],
   "source": [
    "Xtr,Xvl,ytr,yvl = train_test_split(X, y, test_size=0.15, random_state=SEED)"
   ]
  },
  {
   "cell_type": "markdown",
   "metadata": {},
   "source": [
    "# model"
   ]
  },
  {
   "cell_type": "code",
   "execution_count": 13,
   "metadata": {},
   "outputs": [],
   "source": [
    "params = {\n",
    "    'objective': 'multi:softprob',\n",
    "    'num_class': ntgts+1,\n",
    "    'verbosity': 1,\n",
    "    'eval_metric': ['mlogloss']\n",
    "}\n",
    "num_rounds = 20\n"
   ]
  },
  {
   "cell_type": "code",
   "execution_count": 14,
   "metadata": {},
   "outputs": [
    {
     "name": "stdout",
     "output_type": "stream",
     "text": [
      "[0]\teval-mlogloss:1.40512\ttrain-mlogloss:1.40626\n",
      "Multiple eval metrics have been passed: 'train-mlogloss' will be used for early stopping.\n",
      "\n",
      "Will train until train-mlogloss hasn't improved in 10 rounds.\n",
      "[1]\teval-mlogloss:1.28335\ttrain-mlogloss:1.28528\n",
      "[2]\teval-mlogloss:1.20197\ttrain-mlogloss:1.20475\n",
      "[3]\teval-mlogloss:1.14521\ttrain-mlogloss:1.14860\n",
      "[4]\teval-mlogloss:1.10423\ttrain-mlogloss:1.10817\n",
      "[5]\teval-mlogloss:1.07313\ttrain-mlogloss:1.07742\n",
      "[6]\teval-mlogloss:1.04941\ttrain-mlogloss:1.05422\n",
      "[7]\teval-mlogloss:1.03161\ttrain-mlogloss:1.03683\n",
      "[8]\teval-mlogloss:1.01697\ttrain-mlogloss:1.02257\n",
      "[9]\teval-mlogloss:1.00534\ttrain-mlogloss:1.01140\n",
      "[10]\teval-mlogloss:0.99622\ttrain-mlogloss:1.00264\n",
      "[11]\teval-mlogloss:0.98900\ttrain-mlogloss:0.99580\n",
      "[12]\teval-mlogloss:0.98312\ttrain-mlogloss:0.99029\n",
      "[13]\teval-mlogloss:0.97797\ttrain-mlogloss:0.98547\n",
      "[14]\teval-mlogloss:0.97387\ttrain-mlogloss:0.98174\n",
      "[15]\teval-mlogloss:0.97037\ttrain-mlogloss:0.97862\n",
      "[16]\teval-mlogloss:0.96722\ttrain-mlogloss:0.97569\n",
      "[17]\teval-mlogloss:0.96491\ttrain-mlogloss:0.97371\n",
      "[18]\teval-mlogloss:0.96247\ttrain-mlogloss:0.97160\n",
      "[19]\teval-mlogloss:0.96044\ttrain-mlogloss:0.96991\n"
     ]
    }
   ],
   "source": [
    "dtr = xgb.DMatrix(Xtr, label=ytr, feature_names=cols_feat)\n",
    "dvl = xgb.DMatrix(Xvl, label=yvl, feature_names=cols_feat)\n",
    "evallist = [(dtr, 'eval'), (dvl, 'train')]\n",
    "bst = xgb.train(params=params, dtrain=dtr, num_boost_round=num_rounds, evals=evallist, early_stopping_rounds=10)\n",
    "# bst = xgb.train(params=params, dtrain=dtr, num_boost_round=num_rounds,)"
   ]
  },
  {
   "cell_type": "code",
   "execution_count": 15,
   "metadata": {},
   "outputs": [],
   "source": [
    "def show_feat_importance(bst):\n",
    "    ax = xgb.plot_importance(bst, height=0.8, max_num_features=9)\n",
    "    ax.grid(False, axis=\"y\")\n",
    "    ax.set_title('Estimated feature importance')\n",
    "    plt.show()\n"
   ]
  },
  {
   "cell_type": "code",
   "execution_count": 16,
   "metadata": {},
   "outputs": [
    {
     "data": {
      "image/png": "[encoded data removed]",
      "text/plain": [
       "<Figure size 432x288 with 1 Axes>"
      ]
     },
     "metadata": {
      "needs_background": "light"
     },
     "output_type": "display_data"
    }
   ],
   "source": [
    "show_feat_importance(bst)"
   ]
  },
  {
   "cell_type": "code",
   "execution_count": 25,
   "metadata": {},
   "outputs": [
    {
     "data": {
      "text/plain": [
       "{'lang_022EC308651FACB02794A8147AEE1B78': 46,\n",
       " 'u2_follower_cnt': 607,\n",
       " 'lang_125C57F4FA6D4E110983FB11B52EFD4E': 30,\n",
       " 'u1_vrfed': 57,\n",
       " 'twttyp_Retweet': 137,\n",
       " 'num_hshtgs': 154,\n",
       " 'u1_fllwer_cnt': 661,\n",
       " 'len_toks': 488,\n",
       " 'u2_create_tm': 557,\n",
       " 'u2_following_cnt': 484,\n",
       " 'has_media_Video': 95,\n",
       " 'u1_fllw_u2': 100,\n",
       " 'tmdlta_twtu2': 327,\n",
       " 'twttyp_TopLevel': 79,\n",
       " 'tmdlta_u2u1': 218,\n",
       " 'u1_fllwing_cnt': 490,\n",
       " 'tmdlta_twtu1': 184,\n",
       " 'num_links': 75,\n",
       " 'tm': 256,\n",
       " 'lang_167115458A0DBDFF7E9C0C53A83BAC9B': 88,\n",
       " 'lang_9BF3403E0EB7EA8A256DA9019C0B0716': 44,\n",
       " 'lang_4DC22C3F31C5C43721E6B5815A595ED6': 65,\n",
       " 'lang_97F81BD92A1ACA3F1F43C154E689350F': 1,\n",
       " 'u1_create_tm': 210,\n",
       " 'lang_ECED8A16BE2A5E8871FD55F4842F16B1': 38,\n",
       " 'lang_76B8A9C3013AE6414A3E6012413CDC3B': 9,\n",
       " 'lang_06D61DCBBE938971E1EA0C38BD9B5446': 16,\n",
       " 'lang_D3164C7FBCF2565DDF915B1B3AEFB1DC': 45,\n",
       " 'has_media_Photo': 81,\n",
       " 'lang_975B38F44D65EE42A547283787FF5A21': 26,\n",
       " 'lang_22C448FF81263D4BAF2A176145EE9EAD': 131,\n",
       " 'lang_A0C7021AD8299ADF0C9EBE326C115F6F': 4,\n",
       " 'tm_hour': 97,\n",
       " 'lang_AEF22666801F0A5846D853B9CEB2E327': 1,\n",
       " 'has_media_GIF': 16,\n",
       " 'lang_9ECD42BC079C20F156F53CB3B99E600E': 11,\n",
       " 'tm_dayofweek': 37,\n",
       " 'lang_F3E1016563360F9434FA986CA86C249C': 1,\n",
       " 'lang_FA3F382BC409C271E3D6EAF8BE4648DD': 13,\n",
       " 'lang_2996EB2FE8162C076D070A4C8D6532CD': 9,\n",
       " 'lang_190BA7DA361BC06BC1D7E824C378064D': 4,\n",
       " 'lang_3E16B11B7ADE3A22DDFC4423FBCEAD5D': 16,\n",
       " 'twttyp_Quote': 19,\n",
       " 'lang_B9175601E87101A984A50F8A62A1C374': 9,\n",
       " 'lang_FF60A88F53E63000266F8B9149E35AD9': 4,\n",
       " 'lang_48236EC80FDDDFADE99420ABC9210DDF': 1,\n",
       " 'lang_1FFD2FE4297F5E70EBC6C3230D95CB9C': 1,\n",
       " 'lang_0331BF70E606D62D92C96CE9AD71A7CF': 2,\n",
       " 'lang_89616CFF8EC8637092F885C7EFF43D74': 1,\n",
       " 'lang_06BEAB41D66CCFF329D1ED8BA120A6C2': 1,\n",
       " 'lang_3820C29CBCA409A33BADF68852057C4A': 2,\n",
       " 'u2_vrfed': 2,\n",
       " 'lang_691890251F2B9FF922BE6D3699ABEFD2': 1}"
      ]
     },
     "execution_count": 25,
     "metadata": {},
     "output_type": "execute_result"
    }
   ],
   "source": [
    "bst.get_fscore()"
   ]
  },
  {
   "cell_type": "code",
   "execution_count": null,
   "metadata": {},
   "outputs": [],
   "source": []
  },
  {
   "cell_type": "code",
   "execution_count": 17,
   "metadata": {},
   "outputs": [],
   "source": [
    "bst.save_model(f'{p_out}/bst_{PRFX}.model')\n"
   ]
  },
  {
   "cell_type": "code",
   "execution_count": 18,
   "metadata": {},
   "outputs": [],
   "source": [
    "bst.load_model(f'{p_out}/bst_{PRFX}.model') \n"
   ]
  },
  {
   "cell_type": "code",
   "execution_count": 19,
   "metadata": {},
   "outputs": [],
   "source": [
    "prdtr = bst.predict(dtr)\n",
    "prdvl = bst.predict(dvl)"
   ]
  },
  {
   "cell_type": "code",
   "execution_count": 20,
   "metadata": {},
   "outputs": [
    {
     "name": "stdout",
     "output_type": "stream",
     "text": [
      "Retweet\n",
      "train rocauc: 0.7237 valid auc: 0.7113\n",
      "train prauc: 0.2781 valid auc: 0.2566\n",
      "train rce: 9.8465 valid rce: 8.7525\n",
      "Reply\n",
      "train rocauc: 0.7720 valid auc: 0.7568\n",
      "train prauc: 0.0997 valid auc: 0.0880\n",
      "train rce: 9.8939 valid rce: 8.9867\n",
      "Like\n",
      "train rocauc: 0.7068 valid auc: 0.7026\n",
      "train prauc: 0.6096 valid auc: 0.6037\n",
      "train rce: 9.7771 valid rce: 9.3920\n",
      "RTwCmnt\n",
      "train rocauc: 0.7117 valid auc: 0.6820\n",
      "train prauc: 0.0262 valid auc: 0.0143\n",
      "train rce: 0.1259 valid rce: -0.9741\n"
     ]
    }
   ],
   "source": [
    "tgt2auc_trn={}\n",
    "tgt2rce_trn={}\n",
    "tgt2auc_val={}\n",
    "tgt2rce_val={}\n",
    "for itgt, tgt in enumerate(tgts):\n",
    "    print(tgt)\n",
    "    prdtr_i, prdvl_i = (prd[:,itgt] for prd in (prdtr,prdvl))\n",
    "    ytr_i, yvl_i = ((y==itgt).astype(int) for y in (ytr,yvl))\n",
    "    scr_rocauc_trn = roc_auc_score(ytr_i, prdtr_i)\n",
    "    scr_rocauc_val = roc_auc_score(yvl_i, prdvl_i)\n",
    "    scr_auc_trn=compute_prauc(prdtr_i, ytr_i)\n",
    "    scr_rce_trn=compute_rce(prdtr_i, ytr_i)\n",
    "    scr_auc_val=compute_prauc(prdvl_i, yvl_i)\n",
    "    scr_rce_val=compute_rce(prdvl_i, yvl_i)\n",
    "\n",
    "    tgt2auc_trn[tgt]=scr_auc_trn\n",
    "    tgt2rce_trn[tgt]=scr_rce_trn\n",
    "    tgt2auc_val[tgt]=scr_auc_val\n",
    "    tgt2rce_val[tgt]=scr_rce_val\n",
    "    \n",
    "    print('train rocauc:', f'{scr_rocauc_trn:.4f}', 'valid auc:', f'{scr_rocauc_val:.4f}', )\n",
    "    print('train prauc:', f'{scr_auc_trn:.4f}', 'valid auc:', f'{scr_auc_val:.4f}', )\n",
    "    print('train rce:', f'{scr_rce_trn:.4f}', 'valid rce:', f'{scr_rce_val:.4f}', )"
   ]
  },
  {
   "cell_type": "code",
   "execution_count": 21,
   "metadata": {},
   "outputs": [
    {
     "data": {
      "text/html": [
       "<div>\n",
       "<style scoped>\n",
       "    .dataframe tbody tr th:only-of-type {\n",
       "        vertical-align: middle;\n",
       "    }\n",
       "\n",
       "    .dataframe tbody tr th {\n",
       "        vertical-align: top;\n",
       "    }\n",
       "\n",
       "    .dataframe thead th {\n",
       "        text-align: right;\n",
       "    }\n",
       "</style>\n",
       "<table border=\"1\" class=\"dataframe\">\n",
       "  <thead>\n",
       "    <tr style=\"text-align: right;\">\n",
       "      <th></th>\n",
       "      <th>0</th>\n",
       "      <th>1</th>\n",
       "      <th>2</th>\n",
       "      <th>3</th>\n",
       "      <th>4</th>\n",
       "      <th>5</th>\n",
       "      <th>6</th>\n",
       "      <th>7</th>\n",
       "    </tr>\n",
       "  </thead>\n",
       "  <tbody>\n",
       "    <tr>\n",
       "      <th>metric</th>\n",
       "      <td>PRAUC Retweet</td>\n",
       "      <td>RCE Retweet</td>\n",
       "      <td>PRAUC Reply</td>\n",
       "      <td>RCE Reply</td>\n",
       "      <td>PRAUC Like</td>\n",
       "      <td>RCE Like</td>\n",
       "      <td>PRAUC RTwCmnt</td>\n",
       "      <td>RCE RTwCmnt</td>\n",
       "    </tr>\n",
       "    <tr>\n",
       "      <th>scrtrn</th>\n",
       "      <td>0.278064</td>\n",
       "      <td>9.84649</td>\n",
       "      <td>0.0997435</td>\n",
       "      <td>9.89386</td>\n",
       "      <td>0.609557</td>\n",
       "      <td>9.77707</td>\n",
       "      <td>0.0262174</td>\n",
       "      <td>0.125902</td>\n",
       "    </tr>\n",
       "    <tr>\n",
       "      <th>scrval</th>\n",
       "      <td>0.256584</td>\n",
       "      <td>8.75248</td>\n",
       "      <td>0.0879675</td>\n",
       "      <td>8.98667</td>\n",
       "      <td>0.603737</td>\n",
       "      <td>9.39204</td>\n",
       "      <td>0.0142592</td>\n",
       "      <td>-0.974086</td>\n",
       "    </tr>\n",
       "  </tbody>\n",
       "</table>\n",
       "</div>"
      ],
      "text/plain": [
       "                    0            1            2          3           4  \\\n",
       "metric  PRAUC Retweet  RCE Retweet  PRAUC Reply  RCE Reply  PRAUC Like   \n",
       "scrtrn       0.278064      9.84649    0.0997435    9.89386    0.609557   \n",
       "scrval       0.256584      8.75248    0.0879675    8.98667    0.603737   \n",
       "\n",
       "               5              6            7  \n",
       "metric  RCE Like  PRAUC RTwCmnt  RCE RTwCmnt  \n",
       "scrtrn   9.77707      0.0262174     0.125902  \n",
       "scrval   9.39204      0.0142592    -0.974086  "
      ]
     },
     "execution_count": 21,
     "metadata": {},
     "output_type": "execute_result"
    }
   ],
   "source": [
    "lsttrn=[]\n",
    "lstval=[]\n",
    "for tgt in ['Retweet','Reply','Like','RTwCmnt',]:\n",
    "    lsttrn+=[(f'PRAUC {tgt}',tgt2auc_trn[tgt]),\n",
    "          (f'RCE {tgt}',tgt2rce_trn[tgt])]\n",
    "    lstval+=[(f'PRAUC {tgt}',tgt2auc_val[tgt]),\n",
    "          (f'RCE {tgt}',tgt2rce_val[tgt])]\n",
    "\n",
    "dfscrtrn=pd.DataFrame(lsttrn)\n",
    "dfscrtrn.columns=['metric','scr']\n",
    "dfscrval=pd.DataFrame(lstval)\n",
    "dfscrval.columns=['metric','scr']\n",
    "dfscr = pd.merge(dfscrtrn, dfscrval, on='metric', suffixes=('trn','val'))\n",
    "dfscr.T"
   ]
  },
  {
   "cell_type": "markdown",
   "metadata": {},
   "source": [
    "# infer"
   ]
  },
  {
   "cell_type": "code",
   "execution_count": 24,
   "metadata": {},
   "outputs": [
    {
     "name": "stdout",
     "output_type": "stream",
     "text": [
      "CPU times: user 1min 41s, sys: 11 s, total: 1min 52s\n",
      "Wall time: 2min 47s\n"
     ]
    }
   ],
   "source": [
    "%%time\n",
    "dftst=pd.read_csv(\n",
    "    f'{p_in}/val_{valtmstmp}.tsv',\n",
    "    sep='\\x01', header=None, names=cols_val,)\n"
   ]
  },
  {
   "cell_type": "code",
   "execution_count": 27,
   "metadata": {
    "scrolled": true
   },
   "outputs": [
    {
     "name": "stdout",
     "output_type": "stream",
     "text": [
      "CPU times: user 1min 57s, sys: 10.1 s, total: 2min 7s\n",
      "Wall time: 2min 7s\n"
     ]
    }
   ],
   "source": [
    "%%time\n",
    "dftst = prp_df(dftst)"
   ]
  },
  {
   "cell_type": "code",
   "execution_count": 37,
   "metadata": {},
   "outputs": [],
   "source": [
    "Xtst=dftst[cols_feat].values"
   ]
  },
  {
   "cell_type": "code",
   "execution_count": 38,
   "metadata": {},
   "outputs": [],
   "source": [
    "dtst = xgb.DMatrix(Xtst, feature_names=cols_feat)\n",
    "prdtst = bst.predict(dtst)"
   ]
  },
  {
   "cell_type": "code",
   "execution_count": 39,
   "metadata": {},
   "outputs": [
    {
     "name": "stdout",
     "output_type": "stream",
     "text": [
      "Retweet\n",
      "Reply\n",
      "Like\n",
      "RTwCmnt\n"
     ]
    }
   ],
   "source": [
    "tgt2prdtst={}\n",
    "for itgt, tgt in enumerate(tgts):\n",
    "    print(tgt)\n",
    "    tgt2prdtst[tgt] = prdtst[:,itgt]\n",
    "    "
   ]
  },
  {
   "cell_type": "code",
   "execution_count": 40,
   "metadata": {},
   "outputs": [],
   "source": [
    "dfsub_ids = dftst[['twtid','u2id',]]\n",
    "tgt2dfsub = {}\n",
    "for tgt,prdtst in tgt2prdtst.items():\n",
    "    dfsub = dfsub_ids.copy()\n",
    "    dfsub['scr'] = prdtst\n",
    "    tgt2dfsub[tgt]=dfsub"
   ]
  },
  {
   "cell_type": "code",
   "execution_count": 41,
   "metadata": {},
   "outputs": [
    {
     "name": "stdout",
     "output_type": "stream",
     "text": [
      "2020-03-19 20:53:04 Retweet\n",
      "2020-03-19 20:54:06 Reply\n",
      "2020-03-19 20:55:08 Like\n",
      "2020-03-19 20:56:09 RTwCmnt\n",
      "CPU times: user 3min 57s, sys: 7.62 s, total: 4min 5s\n",
      "Wall time: 4min 6s\n"
     ]
    }
   ],
   "source": [
    "%%time\n",
    "for tgt, dfsub in tgt2dfsub.items():\n",
    "    print(dtnow(), tgt)\n",
    "    dfsub.to_csv(f'{p_out}/{tgt}__{valtmstmp}__{PRFX}.csv',index=False,header=False)"
   ]
  },
  {
   "cell_type": "code",
   "execution_count": null,
   "metadata": {},
   "outputs": [],
   "source": []
  }
 ],
 "metadata": {
  "kernelspec": {
   "display_name": "rcss20",
   "language": "python",
   "name": "rcss20"
  },
  "language_info": {
   "codemirror_mode": {
    "name": "ipython",
    "version": 3
   },
   "file_extension": ".py",
   "mimetype": "text/x-python",
   "name": "python",
   "nbconvert_exporter": "python",
   "pygments_lexer": "ipython3",
   "version": "3.7.6"
  },
  "toc": {
   "base_numbering": 1,
   "nav_menu": {},
   "number_sections": true,
   "sideBar": true,
   "skip_h1_title": false,
   "title_cell": "Table of Contents",
   "title_sidebar": "Contents",
   "toc_cell": false,
   "toc_position": {},
   "toc_section_display": true,
   "toc_window_display": true
  }
 },
 "nbformat": 4,
 "nbformat_minor": 4
}
