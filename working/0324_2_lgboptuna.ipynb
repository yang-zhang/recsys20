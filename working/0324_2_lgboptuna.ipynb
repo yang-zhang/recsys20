{
 "cells": [
  {
   "cell_type": "markdown",
   "metadata": {},
   "source": [
    "- https://medium.com/optuna/lightgbm-tuner-new-optuna-integration-for-hyperparameter-optimization-8b7095e99258\n",
    "- https://github.com/optuna/optuna/blob/master/examples/lightgbm_tuner_simple.py"
   ]
  },
  {
   "cell_type": "markdown",
   "metadata": {},
   "source": [
    "# start"
   ]
  },
  {
   "cell_type": "code",
   "execution_count": 1,
   "metadata": {},
   "outputs": [
    {
     "name": "stdout",
     "output_type": "stream",
     "text": [
      "['2020-03-17 02:32:24', '2020-03-24 17:09:45']\n",
      "['2020-02-06 00:00:00', '2020-02-13 00:00:00']\n"
     ]
    }
   ],
   "source": [
    "PRFX='0324_2'\n",
    "trntmstmp=1584412344\n",
    "valtmstmp=1585069785\n",
    "import datetime\n",
    "print([datetime.datetime.fromtimestamp(o).strftime('%Y-%m-%d %H:%M:%S') for o in (trntmstmp, valtmstmp)])\n",
    "\n",
    "grand_total=1.5e8\n",
    "MIN_TM_TRN=1580947200\n",
    "MIN_TM_TST=1581552000\n",
    "print([datetime.datetime.fromtimestamp(o).strftime('%Y-%m-%d %H:%M:%S') for o in (MIN_TM_TRN, MIN_TM_TST)])\n",
    "\n",
    "\n",
    "CHNKSZ=1e3\n",
    "POST_RATE_WANTED=0.1"
   ]
  },
  {
   "cell_type": "markdown",
   "metadata": {},
   "source": [
    "# setup"
   ]
  },
  {
   "cell_type": "code",
   "execution_count": 2,
   "metadata": {
    "scrolled": true
   },
   "outputs": [
    {
     "data": {
      "text/plain": [
       "{'Retweet': 'retwt',\n",
       " 'Reply': 'reply',\n",
       " 'Like': 'like',\n",
       " 'RTwCmnt': 'retwt_cmmnt'}"
      ]
     },
     "execution_count": 2,
     "metadata": {},
     "output_type": "execute_result"
    }
   ],
   "source": [
    "from pathlib import Path\n",
    "# import dask\n",
    "# print('dask.__version__', dask.__version__)\n",
    "import xgboost as xgb\n",
    "# import lightgbm as lgb\n",
    "\n",
    "import optuna\n",
    "import optuna.integration.lightgbm as lgb\n",
    "\n",
    "\n",
    "# optuna.logging.CRITICAL, optuna.logging.FATAL\n",
    "# optuna.logging.ERROR\n",
    "# optuna.logging.WARNING, optuna.logging.WARN\n",
    "# optuna.logging.INFO\n",
    "# optuna.logging.DEBUG\n",
    "optuna.logging.set_verbosity(optuna.logging.ERROR)\n",
    "\n",
    "\n",
    "# import dask_xgboost\n",
    "# import dask.dataframe as dd\n",
    "from sklearn.model_selection import train_test_split\n",
    "import pandas as pd\n",
    "import numpy as np\n",
    "import matplotlib.pyplot as plt\n",
    "from sklearn.metrics import accuracy_score, roc_auc_score, roc_curve, auc, precision_recall_curve\n",
    "from dask.distributed import Client\n",
    "import pickle\n",
    "from tqdm import tqdm\n",
    "from collections import Counter\n",
    "pd.set_option('display.max_rows', 500)\n",
    "\n",
    "from functools import reduce\n",
    "import datetime\n",
    "def dtnow(): return datetime.datetime.now().strftime('%Y-%m-%d %H:%M:%S')\n",
    "\n",
    "SEED=101\n",
    "HOME='/data/git/recsys20'\n",
    "p_in=f'{HOME}/input'\n",
    "p_out=f'{HOME}/output/{PRFX}'\n",
    "Path(p_out).mkdir(exist_ok=True, parents=True)\n",
    "\n",
    "from sklearn.metrics import precision_recall_curve, auc, log_loss\n",
    "\n",
    "def compute_prauc(pred, gt):\n",
    "    prec, recall, thresh = precision_recall_curve(gt, pred)\n",
    "    prauc = auc(recall, prec)\n",
    "    return prauc\n",
    "\n",
    "def calculate_ctr(gt):\n",
    "    positive = len([x for x in gt if x == 1])\n",
    "    ctr = positive/float(len(gt))\n",
    "    return ctr\n",
    "\n",
    "def compute_rce(pred, gt):\n",
    "    cross_entropy = log_loss(gt, pred)\n",
    "    data_ctr = calculate_ctr(gt)\n",
    "    strawman_cross_entropy = log_loss(gt, [data_ctr for _ in range(len(gt))])\n",
    "    return (1.0 - cross_entropy/strawman_cross_entropy)*100.0\n",
    "\n",
    "# https://towardsdatascience.com/how-to-calibrate-undersampled-model-scores-8f3319c1ea5b\n",
    "# How to use the function?\n",
    "# Let’s say your goal is to generate a model that shows the credit default probabilities and your original \n",
    "# training data has 50,000 rows with only 500 of them labeled as target class. When you sample your non-target \n",
    "# instances randomly and reduce the total row count to 10,000, while conserving 500 target rows, our calibration\n",
    "# function becomes:\n",
    "# calibration(model_results, 50000, 500, 10000, 500)\n",
    "# Here model_results is your model probability output array. After you train your model and put the results in it, your function is ready to use. \n",
    "\n",
    "def calibration(data, train_pop, target_pop, sampled_train_pop, sampled_target_pop):\n",
    "    calibrated_data = \\\n",
    "    ((data * (target_pop / train_pop) / (sampled_target_pop / sampled_train_pop)) /\n",
    "    ((\n",
    "        (1 - data) * (1 - target_pop / train_pop) / (1 - sampled_target_pop / sampled_train_pop)\n",
    "     ) +\n",
    "     (\n",
    "        data * (target_pop / train_pop) / (sampled_target_pop / sampled_train_pop)\n",
    "     )))\n",
    "\n",
    "    return calibrated_data\n",
    "\n",
    "cols=[\n",
    "'toks',\n",
    "'hshtgs',\n",
    "'twtid',\n",
    "'media',\n",
    "'links',\n",
    "'domns',\n",
    "'twttyp',\n",
    "'lang',\n",
    "'tm',\n",
    "\n",
    "'u1id',\n",
    "'u1_fllwer_cnt',\n",
    "'u1_fllwng_cnt',\n",
    "'u1_vrfed',\n",
    "'u1_create_tm',\n",
    "\n",
    "'u2id',\n",
    "'u2_fllwer_cnt',\n",
    "'u2_fllwng_cnt',\n",
    "'u2_vrfed',\n",
    "'u2_create_tm',\n",
    "\n",
    "'u1_fllw_u2',\n",
    "'reply_tm',\n",
    "'retwt_tm',\n",
    "'retwt_cmmnt_tm',\n",
    "'like_tm',\n",
    "]\n",
    "cols_cat = ['twttyp','lang']\n",
    "cols_val = cols[:-4]\n",
    "cols_tgt_tmstmp=[\n",
    "    'retwt_tm',\n",
    "    'reply_tm',\n",
    "    'like_tm',\n",
    "    'retwt_cmmnt_tm',\n",
    "]\n",
    "cols_tgt=[o.split('_tm')[0] for o in cols_tgt_tmstmp]\n",
    "tgts             = ['Retweet','Reply','Like','RTwCmnt',]\n",
    "assert cols_tgt == ['retwt',  'reply','like','retwt_cmmnt',]\n",
    "ntgts=len(tgts)\n",
    "\n",
    "\n",
    "\n",
    "tgt2col=dict(zip(tgts,cols_tgt))\n",
    "tgt2col"
   ]
  },
  {
   "cell_type": "markdown",
   "metadata": {},
   "source": [
    "# prepare data"
   ]
  },
  {
   "cell_type": "code",
   "execution_count": 3,
   "metadata": {},
   "outputs": [],
   "source": [
    "chnks_trn = pd.read_csv(f'{p_in}/trn_{trntmstmp}.tsv',sep='\\x01',\n",
    "                    header=None,names=cols, \n",
    "                        chunksize=CHNKSZ)\n",
    "# first chunk as validate data\n",
    "for ichnk,df in enumerate(chnks_trn):\n",
    "    df\n",
    "    break"
   ]
  },
  {
   "cell_type": "code",
   "execution_count": 4,
   "metadata": {},
   "outputs": [],
   "source": [
    "istrn=True\n",
    "tm_min = MIN_TM_TRN if istrn else MIN_TM_TST\n",
    "df['len_toks'] = df.toks.apply(len)\n",
    "for media in ['Photo', 'Video', 'GIF']:\n",
    "    df[f'has_media_{media}'] = df.media.fillna('').apply(lambda x: media in x)\n",
    "for col in ['hshtgs', 'links', 'domns',]:\n",
    "    df[f'num_{col}'] = df[col].fillna('').apply(lambda x: len(x.split('\\t')) if len(x) else 0)\n",
    "\n",
    "df['twt_age'] = df.tm - tm_min\n",
    "df['u1_age']  = df.tm - df.u1_create_tm\n",
    "df['u2_age']  = df.tm - df.u2_create_tm\n",
    "\n",
    "tm_dt=pd.to_datetime(df.tm, unit='s')\n",
    "df['tm_dayofweek']=tm_dt.dt.dayofweek\n",
    "df['tm_hour']=tm_dt.dt.hour\n",
    "\n",
    "df['tmdlta_u2u1']  = df.u2_create_tm - df.u1_create_tm\n",
    "\n",
    "df['u1_fllwer_cnt_by_age'] = df.u1_fllwer_cnt / df.u1_age\n",
    "df['u1_fllwng_cnt_by_age'] = df.u2_fllwng_cnt / df.u2_age\n",
    "\n",
    "for col in ['twttyp','lang']:\n",
    "    df[col]=df[col].astype('category')\n",
    "\n",
    "if istrn: \n",
    "    df[cols_tgt]=df[cols_tgt_tmstmp].notna().astype('int8')\n",
    "    df.drop(inplace=True, columns=['toks', 'hshtgs', 'media', 'links', 'domns',  \n",
    "                                   'tm', 'u1_create_tm','u2_create_tm', 'u1id', 'u2id', 'twtid', ]+cols_tgt_tmstmp, )\n",
    "else:\n",
    "    df.drop(inplace=True, columns=['toks', 'hshtgs', 'media', 'links', 'domns', \n",
    "                                   'tm', 'u1_create_tm','u2_create_tm', 'u1id', ])   "
   ]
  },
  {
   "cell_type": "code",
   "execution_count": 5,
   "metadata": {},
   "outputs": [
    {
     "data": {
      "text/plain": [
       "twttyp                  category\n",
       "lang                    category\n",
       "u1_fllwer_cnt              int64\n",
       "u1_fllwng_cnt              int64\n",
       "u1_vrfed                    bool\n",
       "u2_fllwer_cnt              int64\n",
       "u2_fllwng_cnt              int64\n",
       "u2_vrfed                    bool\n",
       "u1_fllw_u2                  bool\n",
       "len_toks                   int64\n",
       "has_media_Photo             bool\n",
       "has_media_Video             bool\n",
       "has_media_GIF               bool\n",
       "num_hshtgs                 int64\n",
       "num_links                  int64\n",
       "num_domns                  int64\n",
       "twt_age                    int64\n",
       "u1_age                     int64\n",
       "u2_age                     int64\n",
       "tm_dayofweek               int64\n",
       "tm_hour                    int64\n",
       "tmdlta_u2u1                int64\n",
       "u1_fllwer_cnt_by_age     float64\n",
       "u1_fllwng_cnt_by_age     float64\n",
       "retwt                       int8\n",
       "reply                       int8\n",
       "like                        int8\n",
       "retwt_cmmnt                 int8\n",
       "dtype: object"
      ]
     },
     "execution_count": 5,
     "metadata": {},
     "output_type": "execute_result"
    }
   ],
   "source": [
    "df.dtypes"
   ]
  },
  {
   "cell_type": "markdown",
   "metadata": {},
   "source": [
    "## prep func"
   ]
  },
  {
   "cell_type": "code",
   "execution_count": 6,
   "metadata": {},
   "outputs": [],
   "source": [
    "def prp_df(df, istrn=True):\n",
    "    tm_min = MIN_TM_TRN if istrn else MIN_TM_TST\n",
    "    df['len_toks'] = df.toks.apply(len)\n",
    "    for media in ['Photo', 'Video', 'GIF']:\n",
    "        df[f'has_media_{media}'] = df.media.fillna('').apply(lambda x: media in x)\n",
    "    for col in ['hshtgs', 'links', 'domns',]:\n",
    "        df[f'num_{col}'] = df[col].fillna('').apply(lambda x: len(x.split('\\t')) if len(x) else 0)\n",
    "\n",
    "    df['twt_age'] = df.tm - tm_min\n",
    "    df['u1_age']  = df.tm - df.u1_create_tm\n",
    "    df['u2_age']  = df.tm - df.u2_create_tm\n",
    "\n",
    "    tm_dt=pd.to_datetime(df.tm, unit='s')\n",
    "    df['tm_dayofweek']=tm_dt.dt.dayofweek\n",
    "    df['tm_hour']=tm_dt.dt.hour\n",
    "\n",
    "    df['tmdlta_u2u1']  = df.u2_create_tm - df.u1_create_tm\n",
    "\n",
    "    df['u1_fllwer_cnt_by_age'] = df.u1_fllwer_cnt / df.u1_age\n",
    "    df['u1_fllwng_cnt_by_age'] = df.u2_fllwng_cnt / df.u2_age\n",
    "\n",
    "    for col in cols_cat:\n",
    "        df[col]=df[col].astype('category')\n",
    "\n",
    "    if istrn: \n",
    "        df[cols_tgt]=df[cols_tgt_tmstmp].notna().astype('int8')\n",
    "        df.drop(inplace=True, columns=['toks', 'hshtgs', 'media', 'links', 'domns',  \n",
    "                                       'tm', 'u1_create_tm','u2_create_tm', 'u1id', 'u2id', 'twtid', ]+cols_tgt_tmstmp, )\n",
    "    else:\n",
    "        df.drop(inplace=True, columns=['toks', 'hshtgs', 'media', 'links', 'domns', \n",
    "                                       'tm', 'u1_create_tm','u2_create_tm', 'u1id', ])   \n",
    "    return df"
   ]
  },
  {
   "cell_type": "raw",
   "metadata": {
    "scrolled": true
   },
   "source": [
    "ls -hlS $p_in | grep {trntmstmp} "
   ]
  },
  {
   "cell_type": "code",
   "execution_count": 7,
   "metadata": {
    "scrolled": false
   },
   "outputs": [
    {
     "data": {
      "text/plain": [
       "(150000000.0, 150000.0)"
      ]
     },
     "execution_count": 7,
     "metadata": {},
     "output_type": "execute_result"
    }
   ],
   "source": [
    "grand_total, grand_total/CHNKSZ"
   ]
  },
  {
   "cell_type": "markdown",
   "metadata": {},
   "source": [
    "## valid data"
   ]
  },
  {
   "cell_type": "code",
   "execution_count": 8,
   "metadata": {},
   "outputs": [
    {
     "name": "stdout",
     "output_type": "stream",
     "text": [
      "2020-03-24 19:29:20 chunk 0\n",
      "dfvalid.shape: (1000, 28)\n"
     ]
    },
    {
     "data": {
      "text/plain": [
       "twttyp                  category\n",
       "lang                    category\n",
       "u1_fllwer_cnt              int64\n",
       "u1_fllwng_cnt              int64\n",
       "u1_vrfed                    bool\n",
       "u2_fllwer_cnt              int64\n",
       "u2_fllwng_cnt              int64\n",
       "u2_vrfed                    bool\n",
       "u1_fllw_u2                  bool\n",
       "len_toks                   int64\n",
       "has_media_Photo             bool\n",
       "has_media_Video             bool\n",
       "has_media_GIF               bool\n",
       "num_hshtgs                 int64\n",
       "num_links                  int64\n",
       "num_domns                  int64\n",
       "twt_age                    int64\n",
       "u1_age                     int64\n",
       "u2_age                     int64\n",
       "tm_dayofweek               int64\n",
       "tm_hour                    int64\n",
       "tmdlta_u2u1                int64\n",
       "u1_fllwer_cnt_by_age     float64\n",
       "u1_fllwng_cnt_by_age     float64\n",
       "dtype: object"
      ]
     },
     "metadata": {},
     "output_type": "display_data"
    }
   ],
   "source": [
    "chnks_trn = pd.read_csv(f'{p_in}/trn_{trntmstmp}.tsv',sep='\\x01',\n",
    "                    header=None,names=cols, \n",
    "                        chunksize=CHNKSZ)\n",
    "# first chunk as validate data\n",
    "for ichnk,df in enumerate(chnks_trn):\n",
    "    print(dtnow(), 'chunk', ichnk)\n",
    "#     print([datetime.datetime.fromtimestamp(o).strftime('%Y-%m-%d %H:%M:%S') \n",
    "#            for o in (df.tm.min(), df.tm.max())])\n",
    "    dfvalid = prp_df(df)\n",
    "    break\n",
    "print('dfvalid.shape:',dfvalid.shape)\n",
    "\n",
    "cols_feat=[o for o in dfvalid.columns if o not in cols_tgt]\n",
    "\n",
    "display(dfvalid[cols_feat].dtypes)"
   ]
  },
  {
   "cell_type": "code",
   "execution_count": null,
   "metadata": {},
   "outputs": [],
   "source": []
  },
  {
   "cell_type": "markdown",
   "metadata": {},
   "source": [
    "## trnval data func"
   ]
  },
  {
   "cell_type": "code",
   "execution_count": 20,
   "metadata": {},
   "outputs": [],
   "source": [
    "def getdftrvl(tgt):\n",
    "    print(tgt)\n",
    "    tgtcol=tgt2col[tgt]\n",
    "    chnks_trn = pd.read_csv(f'{p_in}/trn_{trntmstmp}.tsv',sep='\\x01',\n",
    "                        header=None,names=cols, \n",
    "                            chunksize=CHNKSZ)\n",
    "    len_df_wanted = int(CHNKSZ)\n",
    "    # retwt          0.113031\n",
    "    # reply          0.027488\n",
    "    # like           0.439499\n",
    "    # retwt_cmmnt    0.007742\n",
    "    pos_rate_wanted = POST_RATE_WANTED\n",
    "    n_pos_wanted = int(len_df_wanted*pos_rate_wanted)\n",
    "    print('n_pos_wanted', n_pos_wanted)\n",
    "    np.random.seed(SEED)\n",
    "    lst_df = []\n",
    "    n_pos_ttl = 0\n",
    "    for ichnk,df in enumerate(chnks_trn):\n",
    "        #skip first chunk (it was validate data)\n",
    "        if ichnk==0: continue\n",
    "        print(dtnow(), 'chunk', ichnk)\n",
    "        df = prp_df(df)\n",
    "        n_pos_ttl+= df[tgtcol].sum()\n",
    "        lst_df.append(df)\n",
    "        if n_pos_ttl>=n_pos_wanted: break\n",
    "\n",
    "    df = pd.concat(lst_df)\n",
    "    df.reset_index(drop=True,inplace=True)\n",
    "\n",
    "\n",
    "    # https://stackoverflow.com/questions/28556942/pandas-remove-rows-at-random-without-shuffling-dataset\n",
    "    idx_neg=np.where(df[tgtcol]==0)[0]\n",
    "    n_neg = len(idx_neg)\n",
    "    n_pos = len(df)-len(idx_neg)\n",
    "    n_neg2keep = len_df_wanted-n_pos\n",
    "    n_neg2rmv = n_neg-n_neg2keep\n",
    "    idx_neg2rmv = np.random.choice(idx_neg, n_neg2rmv, replace=False)\n",
    "    dftrvl = df.drop(idx_neg2rmv)\n",
    "    dftrvl = dftrvl.sample(len(dftrvl))\n",
    "    for col in cols_cat:\n",
    "        dftrvl[col]=dftrvl[col].astype('category')\n",
    "    \n",
    "#     display(dftrvl.dtypes)\n",
    "    print('dftrvl.shape:',dftrvl.shape,'dftrvl[tgtcol].mean():',dftrvl[tgtcol].mean())\n",
    "    \n",
    "    pops={\n",
    "        'train_pop':len(df),\n",
    "        'target_pop':n_pos,\n",
    "        'sampled_train_pop':len_df_wanted,\n",
    "        'sampled_target_pop':n_pos,\n",
    "    }\n",
    "    print(pops)\n",
    "    return dftrvl, pops"
   ]
  },
  {
   "cell_type": "markdown",
   "metadata": {},
   "source": [
    "# model"
   ]
  },
  {
   "cell_type": "code",
   "execution_count": 21,
   "metadata": {},
   "outputs": [],
   "source": [
    "def train(params,dtr,dvl):\n",
    "    print(params)\n",
    "    best_params, tuning_history = dict(), list()\n",
    "    evallist = [(dtr, 'train'), (dvl, 'eval')]\n",
    "    bst = lgb.train(params=params, \n",
    "                    train_set=dtr, \n",
    "                    valid_sets=[dtr, dvl],\n",
    "                    best_params=best_params,\n",
    "                    tuning_history=tuning_history,\n",
    "                    verbose_eval=100,\n",
    "                    early_stopping_rounds=100,\n",
    "                   )\n",
    "                    \n",
    "    return bst,best_params,tuning_history\n",
    "\n",
    "def valid(bst,dftr,dfvl):\n",
    "    prdtr = bst.predict(dftr[cols_feat],num_iteration=bst.best_iteration)\n",
    "    prdvl = bst.predict(dfvl[cols_feat],num_iteration=bst.best_iteration)\n",
    "    return prdtr,prdvl\n",
    "\n",
    "def do_tgt(tgt):\n",
    "    params=tgt2params[tgt]\n",
    "    tgtcol=tgt2col[tgt]\n",
    "    dftrvl, pops=getdftrvl(tgt)\n",
    "    split=int(len(dftrvl)*0.85)\n",
    "    dftr,dfvl=dftrvl[:split],dftrvl[split:]\n",
    "    dtr = lgb.Dataset(dftr[cols_feat], label=dftr[tgtcol])\n",
    "    dvl = lgb.Dataset(dfvl[cols_feat], label=dfvl[tgtcol])\n",
    "    bst,best_params,tuning_history=train(params,dtr,dvl)\n",
    "    prdtr,prdvl=valid(bst,dftr,dfvl)\n",
    "    \n",
    "    tgt2bst[tgt]=bst\n",
    "    tgt2best_params[tgt]=best_params\n",
    "    tgt2tuning_history[tgt]=tuning_history\n",
    "    tgt2ytr[tgt]=dftr[tgtcol]\n",
    "    tgt2yvl[tgt]=dfvl[tgtcol]\n",
    "    tgt2pops[tgt]=pops\n",
    "    tgt2prdtr[tgt]=prdtr\n",
    "    tgt2prdvl[tgt]=prdvl\n"
   ]
  },
  {
   "cell_type": "code",
   "execution_count": 22,
   "metadata": {},
   "outputs": [
    {
     "name": "stdout",
     "output_type": "stream",
     "text": [
      "2020-03-24 19:32:22 Retweet ********************************************************************************\n",
      "Retweet\n",
      "n_pos_wanted 100\n",
      "2020-03-24 19:32:22 chunk 1\n",
      "2020-03-24 19:32:22 chunk 2\n",
      "dftrvl.shape: (1000, 28) dftrvl[tgtcol].mean(): 0.212\n",
      "{'train_pop': 2000, 'target_pop': 212, 'sampled_train_pop': 1000, 'sampled_target_pop': 212}\n",
      "{'objective': 'binary', 'metric': 'binary_logloss', 'verbosity': 0, 'boosting_type': 'gbdt'}\n"
     ]
    },
    {
     "name": "stderr",
     "output_type": "stream",
     "text": [
      "/data/anaconda3/envs/rcss20/lib/python3.7/site-packages/optuna/_experimental.py:87: ExperimentalWarning: train is experimental (supported from v0.18.0). The interface can change in the future.\n",
      "  ExperimentalWarning\n",
      "tune_feature_fraction, val_score: inf:   0%|          | 0/7 [00:00<?, ?it/s]"
     ]
    },
    {
     "name": "stdout",
     "output_type": "stream",
     "text": [
      "Training until validation scores don't improve for 100 rounds\n",
      "[100]\ttraining's binary_logloss: 0.0372239\tvalid_1's binary_logloss: 0.676846\n",
      "Early stopping, best iteration is:\n",
      "[28]\ttraining's binary_logloss: 0.217313\tvalid_1's binary_logloss: 0.495529\n"
     ]
    },
    {
     "name": "stderr",
     "output_type": "stream",
     "text": [
      "tune_feature_fraction, val_score: 0.495529:  14%|#4        | 1/7 [00:00<00:02,  2.13it/s]"
     ]
    },
    {
     "name": "stdout",
     "output_type": "stream",
     "text": [
      "Training until validation scores don't improve for 100 rounds\n",
      "[100]\ttraining's binary_logloss: 0.0327378\tvalid_1's binary_logloss: 0.687035\n",
      "Early stopping, best iteration is:\n",
      "[13]\ttraining's binary_logloss: 0.322383\tvalid_1's binary_logloss: 0.496011\n"
     ]
    },
    {
     "name": "stderr",
     "output_type": "stream",
     "text": [
      "tune_feature_fraction, val_score: 0.495529:  29%|##8       | 2/7 [00:01<00:02,  2.06it/s]"
     ]
    },
    {
     "name": "stdout",
     "output_type": "stream",
     "text": [
      "Training until validation scores don't improve for 100 rounds\n",
      "[100]\ttraining's binary_logloss: 0.0294413\tvalid_1's binary_logloss: 0.702776\n",
      "Early stopping, best iteration is:\n",
      "[17]\ttraining's binary_logloss: 0.283621\tvalid_1's binary_logloss: 0.509902\n"
     ]
    },
    {
     "name": "stderr",
     "output_type": "stream",
     "text": [
      "tune_feature_fraction, val_score: 0.495529:  43%|####2     | 3/7 [00:01<00:01,  2.37it/s]"
     ]
    },
    {
     "name": "stdout",
     "output_type": "stream",
     "text": [
      "Training until validation scores don't improve for 100 rounds\n",
      "[100]\ttraining's binary_logloss: 0.0267399\tvalid_1's binary_logloss: 0.688221\n",
      "Early stopping, best iteration is:\n",
      "[24]\ttraining's binary_logloss: 0.219965\tvalid_1's binary_logloss: 0.485437\n"
     ]
    },
    {
     "name": "stderr",
     "output_type": "stream",
     "text": [
      "tune_feature_fraction, val_score: 0.485437:  57%|#####7    | 4/7 [00:01<00:01,  2.63it/s]"
     ]
    },
    {
     "name": "stdout",
     "output_type": "stream",
     "text": [
      "Training until validation scores don't improve for 100 rounds\n",
      "[100]\ttraining's binary_logloss: 0.0244557\tvalid_1's binary_logloss: 0.717433\n",
      "Early stopping, best iteration is:\n",
      "[9]\ttraining's binary_logloss: 0.355337\tvalid_1's binary_logloss: 0.506939\n"
     ]
    },
    {
     "name": "stderr",
     "output_type": "stream",
     "text": [
      "tune_feature_fraction, val_score: 0.485437:  71%|#######1  | 5/7 [00:01<00:00,  2.90it/s]"
     ]
    },
    {
     "name": "stdout",
     "output_type": "stream",
     "text": [
      "Training until validation scores don't improve for 100 rounds\n",
      "[100]\ttraining's binary_logloss: 0.0235907\tvalid_1's binary_logloss: 0.7071\n",
      "Early stopping, best iteration is:\n",
      "[11]\ttraining's binary_logloss: 0.32465\tvalid_1's binary_logloss: 0.49389\n"
     ]
    },
    {
     "name": "stderr",
     "output_type": "stream",
     "text": [
      "tune_feature_fraction, val_score: 0.485437:  86%|########5 | 6/7 [00:02<00:00,  3.11it/s]"
     ]
    },
    {
     "name": "stdout",
     "output_type": "stream",
     "text": [
      "Training until validation scores don't improve for 100 rounds\n",
      "[100]\ttraining's binary_logloss: 0.021596\tvalid_1's binary_logloss: 0.731467\n",
      "Early stopping, best iteration is:\n",
      "[12]\ttraining's binary_logloss: 0.31415\tvalid_1's binary_logloss: 0.496003\n"
     ]
    },
    {
     "name": "stderr",
     "output_type": "stream",
     "text": [
      "tune_feature_fraction, val_score: 0.485437: 100%|##########| 7/7 [00:02<00:00,  2.87it/s]\n",
      "tune_num_leaves, val_score: 0.485437:   0%|          | 0/20 [00:00<?, ?it/s]"
     ]
    },
    {
     "name": "stdout",
     "output_type": "stream",
     "text": [
      "Training until validation scores don't improve for 100 rounds\n",
      "[100]\ttraining's binary_logloss: 0.0266154\tvalid_1's binary_logloss: 0.698874\n",
      "Early stopping, best iteration is:\n",
      "[20]\ttraining's binary_logloss: 0.249204\tvalid_1's binary_logloss: 0.488118\n"
     ]
    },
    {
     "name": "stderr",
     "output_type": "stream",
     "text": [
      "tune_num_leaves, val_score: 0.485437:   5%|5         | 1/20 [00:00<00:04,  4.24it/s]"
     ]
    },
    {
     "name": "stdout",
     "output_type": "stream",
     "text": [
      "Training until validation scores don't improve for 100 rounds\n",
      "[100]\ttraining's binary_logloss: 0.0694896\tvalid_1's binary_logloss: 0.604386\n",
      "Early stopping, best iteration is:\n",
      "[20]\ttraining's binary_logloss: 0.293661\tvalid_1's binary_logloss: 0.488757\n"
     ]
    },
    {
     "name": "stderr",
     "output_type": "stream",
     "text": [
      "tune_num_leaves, val_score: 0.485437:  10%|#         | 2/20 [00:00<00:04,  4.28it/s]"
     ]
    },
    {
     "name": "stdout",
     "output_type": "stream",
     "text": [
      "Training until validation scores don't improve for 100 rounds\n",
      "[100]\ttraining's binary_logloss: 0.0266154\tvalid_1's binary_logloss: 0.698874\n",
      "Early stopping, best iteration is:\n",
      "[20]\ttraining's binary_logloss: 0.249204\tvalid_1's binary_logloss: 0.488118\n"
     ]
    },
    {
     "name": "stderr",
     "output_type": "stream",
     "text": [
      "tune_num_leaves, val_score: 0.485437:  15%|#5        | 3/20 [00:00<00:04,  3.60it/s]"
     ]
    },
    {
     "name": "stdout",
     "output_type": "stream",
     "text": [
      "Training until validation scores don't improve for 100 rounds\n",
      "[100]\ttraining's binary_logloss: 0.0266154\tvalid_1's binary_logloss: 0.698874\n",
      "Early stopping, best iteration is:\n",
      "[20]\ttraining's binary_logloss: 0.249204\tvalid_1's binary_logloss: 0.488118\n"
     ]
    },
    {
     "name": "stderr",
     "output_type": "stream",
     "text": [
      "tune_num_leaves, val_score: 0.485437:  20%|##        | 4/20 [00:01<00:04,  3.48it/s]"
     ]
    },
    {
     "name": "stdout",
     "output_type": "stream",
     "text": [
      "Training until validation scores don't improve for 100 rounds\n",
      "[100]\ttraining's binary_logloss: 0.0266154\tvalid_1's binary_logloss: 0.698874\n",
      "Early stopping, best iteration is:\n",
      "[20]\ttraining's binary_logloss: 0.249204\tvalid_1's binary_logloss: 0.488118\n"
     ]
    },
    {
     "name": "stderr",
     "output_type": "stream",
     "text": [
      "tune_num_leaves, val_score: 0.485437:  25%|##5       | 5/20 [00:01<00:04,  3.39it/s]"
     ]
    },
    {
     "name": "stdout",
     "output_type": "stream",
     "text": [
      "Training until validation scores don't improve for 100 rounds\n",
      "[100]\ttraining's binary_logloss: 0.186429\tvalid_1's binary_logloss: 0.540194\n",
      "Early stopping, best iteration is:\n",
      "[18]\ttraining's binary_logloss: 0.375727\tvalid_1's binary_logloss: 0.495139\n"
     ]
    },
    {
     "name": "stderr",
     "output_type": "stream",
     "text": [
      "tune_num_leaves, val_score: 0.485437:  30%|###       | 6/20 [00:01<00:03,  3.82it/s]"
     ]
    },
    {
     "name": "stdout",
     "output_type": "stream",
     "text": [
      "Training until validation scores don't improve for 100 rounds\n",
      "[100]\ttraining's binary_logloss: 0.0266154\tvalid_1's binary_logloss: 0.698874\n",
      "Early stopping, best iteration is:\n",
      "[20]\ttraining's binary_logloss: 0.249204\tvalid_1's binary_logloss: 0.488118\n"
     ]
    },
    {
     "name": "stderr",
     "output_type": "stream",
     "text": [
      "tune_num_leaves, val_score: 0.485437:  35%|###5      | 7/20 [00:02<00:03,  3.57it/s]"
     ]
    },
    {
     "name": "stdout",
     "output_type": "stream",
     "text": [
      "Training until validation scores don't improve for 100 rounds\n",
      "[100]\ttraining's binary_logloss: 0.0266154\tvalid_1's binary_logloss: 0.698874\n",
      "Early stopping, best iteration is:\n",
      "[20]\ttraining's binary_logloss: 0.249204\tvalid_1's binary_logloss: 0.488118\n"
     ]
    },
    {
     "name": "stderr",
     "output_type": "stream",
     "text": [
      "tune_num_leaves, val_score: 0.485437:  40%|####      | 8/20 [00:02<00:03,  3.41it/s]"
     ]
    },
    {
     "name": "stdout",
     "output_type": "stream",
     "text": [
      "Training until validation scores don't improve for 100 rounds\n",
      "[100]\ttraining's binary_logloss: 0.0266154\tvalid_1's binary_logloss: 0.698874\n",
      "Early stopping, best iteration is:\n",
      "[20]\ttraining's binary_logloss: 0.249204\tvalid_1's binary_logloss: 0.488118\n"
     ]
    },
    {
     "name": "stderr",
     "output_type": "stream",
     "text": [
      "tune_num_leaves, val_score: 0.485437:  45%|####5     | 9/20 [00:02<00:03,  3.31it/s]"
     ]
    },
    {
     "name": "stdout",
     "output_type": "stream",
     "text": [
      "Training until validation scores don't improve for 100 rounds\n",
      "[100]\ttraining's binary_logloss: 0.0266154\tvalid_1's binary_logloss: 0.698874\n",
      "Early stopping, best iteration is:\n",
      "[20]\ttraining's binary_logloss: 0.249204\tvalid_1's binary_logloss: 0.488118\n"
     ]
    },
    {
     "name": "stderr",
     "output_type": "stream",
     "text": [
      "tune_num_leaves, val_score: 0.485437:  50%|#####     | 10/20 [00:03<00:03,  3.27it/s]"
     ]
    },
    {
     "name": "stdout",
     "output_type": "stream",
     "text": [
      "Training until validation scores don't improve for 100 rounds\n",
      "[100]\ttraining's binary_logloss: 0.0266154\tvalid_1's binary_logloss: 0.698874\n",
      "Early stopping, best iteration is:\n",
      "[20]\ttraining's binary_logloss: 0.249204\tvalid_1's binary_logloss: 0.488118\n"
     ]
    },
    {
     "name": "stderr",
     "output_type": "stream",
     "text": [
      "tune_num_leaves, val_score: 0.485437:  55%|#####5    | 11/20 [00:03<00:03,  2.92it/s]"
     ]
    },
    {
     "name": "stdout",
     "output_type": "stream",
     "text": [
      "Training until validation scores don't improve for 100 rounds\n",
      "[100]\ttraining's binary_logloss: 0.0266154\tvalid_1's binary_logloss: 0.698874\n",
      "Early stopping, best iteration is:\n",
      "[20]\ttraining's binary_logloss: 0.249204\tvalid_1's binary_logloss: 0.488118\n"
     ]
    },
    {
     "name": "stderr",
     "output_type": "stream",
     "text": [
      "tune_num_leaves, val_score: 0.485437:  60%|######    | 12/20 [00:04<00:03,  2.43it/s]"
     ]
    },
    {
     "name": "stdout",
     "output_type": "stream",
     "text": [
      "Training until validation scores don't improve for 100 rounds\n",
      "[100]\ttraining's binary_logloss: 0.0266154\tvalid_1's binary_logloss: 0.698874\n",
      "Early stopping, best iteration is:\n",
      "[20]\ttraining's binary_logloss: 0.249204\tvalid_1's binary_logloss: 0.488118\n"
     ]
    },
    {
     "name": "stderr",
     "output_type": "stream",
     "text": [
      "tune_num_leaves, val_score: 0.485437:  65%|######5   | 13/20 [00:04<00:02,  2.58it/s]"
     ]
    },
    {
     "name": "stdout",
     "output_type": "stream",
     "text": [
      "Training until validation scores don't improve for 100 rounds\n",
      "[100]\ttraining's binary_logloss: 0.0266154\tvalid_1's binary_logloss: 0.698874\n",
      "Early stopping, best iteration is:\n",
      "[20]\ttraining's binary_logloss: 0.249204\tvalid_1's binary_logloss: 0.488118\n"
     ]
    },
    {
     "name": "stderr",
     "output_type": "stream",
     "text": [
      "tune_num_leaves, val_score: 0.485437:  70%|#######   | 14/20 [00:04<00:02,  2.72it/s]"
     ]
    },
    {
     "name": "stdout",
     "output_type": "stream",
     "text": [
      "Training until validation scores don't improve for 100 rounds\n",
      "[100]\ttraining's binary_logloss: 0.0266154\tvalid_1's binary_logloss: 0.698874\n",
      "Early stopping, best iteration is:\n",
      "[20]\ttraining's binary_logloss: 0.249204\tvalid_1's binary_logloss: 0.488118\n"
     ]
    },
    {
     "name": "stderr",
     "output_type": "stream",
     "text": [
      "tune_num_leaves, val_score: 0.485437:  75%|#######5  | 15/20 [00:05<00:01,  2.81it/s]"
     ]
    },
    {
     "name": "stdout",
     "output_type": "stream",
     "text": [
      "Training until validation scores don't improve for 100 rounds\n",
      "[100]\ttraining's binary_logloss: 0.0270131\tvalid_1's binary_logloss: 0.693043\n",
      "Early stopping, best iteration is:\n",
      "[21]\ttraining's binary_logloss: 0.241563\tvalid_1's binary_logloss: 0.492839\n"
     ]
    },
    {
     "name": "stderr",
     "output_type": "stream",
     "text": [
      "tune_num_leaves, val_score: 0.485437:  80%|########  | 16/20 [00:05<00:01,  2.91it/s]"
     ]
    },
    {
     "name": "stdout",
     "output_type": "stream",
     "text": [
      "Training until validation scores don't improve for 100 rounds\n",
      "[100]\ttraining's binary_logloss: 0.0266154\tvalid_1's binary_logloss: 0.698874\n",
      "Early stopping, best iteration is:\n",
      "[20]\ttraining's binary_logloss: 0.249204\tvalid_1's binary_logloss: 0.488118\n"
     ]
    },
    {
     "name": "stderr",
     "output_type": "stream",
     "text": [
      "tune_num_leaves, val_score: 0.485437:  85%|########5 | 17/20 [00:05<00:01,  2.96it/s]"
     ]
    },
    {
     "name": "stdout",
     "output_type": "stream",
     "text": [
      "Training until validation scores don't improve for 100 rounds\n",
      "[100]\ttraining's binary_logloss: 0.0266154\tvalid_1's binary_logloss: 0.698874\n",
      "Early stopping, best iteration is:\n",
      "[20]\ttraining's binary_logloss: 0.249204\tvalid_1's binary_logloss: 0.488118\n"
     ]
    },
    {
     "name": "stderr",
     "output_type": "stream",
     "text": [
      "tune_num_leaves, val_score: 0.485437:  90%|######### | 18/20 [00:05<00:00,  2.96it/s]"
     ]
    },
    {
     "name": "stdout",
     "output_type": "stream",
     "text": [
      "Training until validation scores don't improve for 100 rounds\n",
      "[100]\ttraining's binary_logloss: 0.0266154\tvalid_1's binary_logloss: 0.698865\n",
      "Early stopping, best iteration is:\n",
      "[20]\ttraining's binary_logloss: 0.249204\tvalid_1's binary_logloss: 0.488118\n"
     ]
    },
    {
     "name": "stderr",
     "output_type": "stream",
     "text": [
      "tune_num_leaves, val_score: 0.485437:  95%|#########5| 19/20 [00:06<00:00,  2.98it/s]"
     ]
    },
    {
     "name": "stdout",
     "output_type": "stream",
     "text": [
      "Training until validation scores don't improve for 100 rounds\n",
      "[100]\ttraining's binary_logloss: 0.0266154\tvalid_1's binary_logloss: 0.698874\n",
      "Early stopping, best iteration is:\n",
      "[20]\ttraining's binary_logloss: 0.249204\tvalid_1's binary_logloss: 0.488118\n"
     ]
    },
    {
     "name": "stderr",
     "output_type": "stream",
     "text": [
      "tune_num_leaves, val_score: 0.485437: 100%|##########| 20/20 [00:06<00:00,  3.00it/s]\n",
      "tune_bagging_fraction_and_bagging_freq, val_score: 0.485437:   0%|          | 0/10 [00:00<?, ?it/s]"
     ]
    },
    {
     "name": "stdout",
     "output_type": "stream",
     "text": [
      "Training until validation scores don't improve for 100 rounds\n",
      "[100]\ttraining's binary_logloss: 0.0308669\tvalid_1's binary_logloss: 0.676481\n",
      "Early stopping, best iteration is:\n",
      "[17]\ttraining's binary_logloss: 0.285012\tvalid_1's binary_logloss: 0.511573\n"
     ]
    },
    {
     "name": "stderr",
     "output_type": "stream",
     "text": [
      "tune_bagging_fraction_and_bagging_freq, val_score: 0.485437:  10%|#         | 1/10 [00:00<00:01,  4.73it/s]"
     ]
    },
    {
     "name": "stdout",
     "output_type": "stream",
     "text": [
      "Training until validation scores don't improve for 100 rounds\n",
      "[100]\ttraining's binary_logloss: 0.0633968\tvalid_1's binary_logloss: 0.657433\n",
      "Early stopping, best iteration is:\n",
      "[11]\ttraining's binary_logloss: 0.366444\tvalid_1's binary_logloss: 0.48779\n"
     ]
    },
    {
     "name": "stderr",
     "output_type": "stream",
     "text": [
      "tune_bagging_fraction_and_bagging_freq, val_score: 0.485437:  20%|##        | 2/10 [00:00<00:01,  4.33it/s]"
     ]
    },
    {
     "name": "stdout",
     "output_type": "stream",
     "text": [
      "Training until validation scores don't improve for 100 rounds\n",
      "[100]\ttraining's binary_logloss: 0.0356612\tvalid_1's binary_logloss: 0.649929\n",
      "Early stopping, best iteration is:\n",
      "[19]\ttraining's binary_logloss: 0.274183\tvalid_1's binary_logloss: 0.492788\n"
     ]
    },
    {
     "name": "stderr",
     "output_type": "stream",
     "text": [
      "tune_bagging_fraction_and_bagging_freq, val_score: 0.485437:  30%|###       | 3/10 [00:00<00:01,  3.97it/s]"
     ]
    },
    {
     "name": "stdout",
     "output_type": "stream",
     "text": [
      "Training until validation scores don't improve for 100 rounds\n",
      "[100]\ttraining's binary_logloss: 0.0921813\tvalid_1's binary_logloss: 0.585946\n",
      "Early stopping, best iteration is:\n",
      "[19]\ttraining's binary_logloss: 0.336015\tvalid_1's binary_logloss: 0.49179\n"
     ]
    },
    {
     "name": "stderr",
     "output_type": "stream",
     "text": [
      "tune_bagging_fraction_and_bagging_freq, val_score: 0.485437:  40%|####      | 4/10 [00:01<00:01,  3.89it/s]"
     ]
    },
    {
     "name": "stdout",
     "output_type": "stream",
     "text": [
      "Training until validation scores don't improve for 100 rounds\n",
      "[100]\ttraining's binary_logloss: 0.141308\tvalid_1's binary_logloss: 0.533136\n",
      "Early stopping, best iteration is:\n",
      "[28]\ttraining's binary_logloss: 0.32273\tvalid_1's binary_logloss: 0.481374\n"
     ]
    },
    {
     "name": "stderr",
     "output_type": "stream",
     "text": [
      "tune_bagging_fraction_and_bagging_freq, val_score: 0.481374:  50%|#####     | 5/10 [00:01<00:01,  3.92it/s]"
     ]
    },
    {
     "name": "stdout",
     "output_type": "stream",
     "text": [
      "Training until validation scores don't improve for 100 rounds\n",
      "[100]\ttraining's binary_logloss: 0.0538621\tvalid_1's binary_logloss: 0.57846\n",
      "Early stopping, best iteration is:\n",
      "[20]\ttraining's binary_logloss: 0.296268\tvalid_1's binary_logloss: 0.472364\n"
     ]
    },
    {
     "name": "stderr",
     "output_type": "stream",
     "text": [
      "tune_bagging_fraction_and_bagging_freq, val_score: 0.472364:  60%|######    | 6/10 [00:01<00:01,  3.72it/s]"
     ]
    },
    {
     "name": "stdout",
     "output_type": "stream",
     "text": [
      "Training until validation scores don't improve for 100 rounds\n",
      "[100]\ttraining's binary_logloss: 0.0463857\tvalid_1's binary_logloss: 0.69736\n",
      "Early stopping, best iteration is:\n",
      "[5]\ttraining's binary_logloss: 0.424693\tvalid_1's binary_logloss: 0.506148\n"
     ]
    },
    {
     "name": "stderr",
     "output_type": "stream",
     "text": [
      "tune_bagging_fraction_and_bagging_freq, val_score: 0.472364:  70%|#######   | 7/10 [00:01<00:00,  3.71it/s]"
     ]
    },
    {
     "name": "stdout",
     "output_type": "stream",
     "text": [
      "Training until validation scores don't improve for 100 rounds\n",
      "[100]\ttraining's binary_logloss: 0.0403615\tvalid_1's binary_logloss: 0.65317\n",
      "Early stopping, best iteration is:\n",
      "[10]\ttraining's binary_logloss: 0.360134\tvalid_1's binary_logloss: 0.484348\n"
     ]
    },
    {
     "name": "stderr",
     "output_type": "stream",
     "text": [
      "tune_bagging_fraction_and_bagging_freq, val_score: 0.472364:  80%|########  | 8/10 [00:02<00:00,  3.59it/s]"
     ]
    },
    {
     "name": "stdout",
     "output_type": "stream",
     "text": [
      "Training until validation scores don't improve for 100 rounds\n",
      "[100]\ttraining's binary_logloss: 0.154603\tvalid_1's binary_logloss: 0.597335\n",
      "Early stopping, best iteration is:\n",
      "[8]\ttraining's binary_logloss: 0.432413\tvalid_1's binary_logloss: 0.501609\n"
     ]
    },
    {
     "name": "stderr",
     "output_type": "stream",
     "text": [
      "tune_bagging_fraction_and_bagging_freq, val_score: 0.472364:  90%|######### | 9/10 [00:02<00:00,  3.87it/s]"
     ]
    },
    {
     "name": "stdout",
     "output_type": "stream",
     "text": [
      "Training until validation scores don't improve for 100 rounds\n",
      "[100]\ttraining's binary_logloss: 0.0289599\tvalid_1's binary_logloss: 0.699374\n",
      "Early stopping, best iteration is:\n",
      "[11]\ttraining's binary_logloss: 0.338381\tvalid_1's binary_logloss: 0.504295\n"
     ]
    },
    {
     "name": "stderr",
     "output_type": "stream",
     "text": [
      "tune_bagging_fraction_and_bagging_freq, val_score: 0.472364: 100%|##########| 10/10 [00:02<00:00,  3.60it/s]\n",
      "tune_feature_fraction, val_score: 0.472364:   0%|          | 0/6 [00:00<?, ?it/s]"
     ]
    },
    {
     "name": "stdout",
     "output_type": "stream",
     "text": [
      "Training until validation scores don't improve for 100 rounds\n",
      "[100]\ttraining's binary_logloss: 0.0579831\tvalid_1's binary_logloss: 0.590955\n",
      "Early stopping, best iteration is:\n",
      "[17]\ttraining's binary_logloss: 0.317611\tvalid_1's binary_logloss: 0.497665\n"
     ]
    },
    {
     "name": "stderr",
     "output_type": "stream",
     "text": [
      "tune_feature_fraction, val_score: 0.472364:  17%|#6        | 1/6 [00:00<00:00,  5.45it/s]"
     ]
    },
    {
     "name": "stdout",
     "output_type": "stream",
     "text": [
      "Training until validation scores don't improve for 100 rounds\n",
      "[100]\ttraining's binary_logloss: 0.0579831\tvalid_1's binary_logloss: 0.590955\n",
      "Early stopping, best iteration is:\n",
      "[17]\ttraining's binary_logloss: 0.317611\tvalid_1's binary_logloss: 0.497665\n"
     ]
    },
    {
     "name": "stderr",
     "output_type": "stream",
     "text": [
      "tune_feature_fraction, val_score: 0.472364:  33%|###3      | 2/6 [00:00<00:00,  4.77it/s]"
     ]
    },
    {
     "name": "stdout",
     "output_type": "stream",
     "text": [
      "Training until validation scores don't improve for 100 rounds\n",
      "[100]\ttraining's binary_logloss: 0.0538621\tvalid_1's binary_logloss: 0.57846\n",
      "Early stopping, best iteration is:\n",
      "[20]\ttraining's binary_logloss: 0.296268\tvalid_1's binary_logloss: 0.472364\n"
     ]
    },
    {
     "name": "stderr",
     "output_type": "stream",
     "text": [
      "tune_feature_fraction, val_score: 0.472364:  50%|#####     | 3/6 [00:00<00:00,  4.27it/s]"
     ]
    },
    {
     "name": "stdout",
     "output_type": "stream",
     "text": [
      "Training until validation scores don't improve for 100 rounds\n",
      "[100]\ttraining's binary_logloss: 0.0518345\tvalid_1's binary_logloss: 0.589337\n",
      "Early stopping, best iteration is:\n",
      "[7]\ttraining's binary_logloss: 0.402158\tvalid_1's binary_logloss: 0.502292\n"
     ]
    },
    {
     "name": "stderr",
     "output_type": "stream",
     "text": [
      "tune_feature_fraction, val_score: 0.472364:  67%|######6   | 4/6 [00:01<00:00,  4.07it/s]"
     ]
    },
    {
     "name": "stdout",
     "output_type": "stream",
     "text": [
      "Training until validation scores don't improve for 100 rounds\n",
      "[100]\ttraining's binary_logloss: 0.0518345\tvalid_1's binary_logloss: 0.589337\n",
      "Early stopping, best iteration is:\n",
      "[7]\ttraining's binary_logloss: 0.402158\tvalid_1's binary_logloss: 0.502292\n"
     ]
    },
    {
     "name": "stderr",
     "output_type": "stream",
     "text": [
      "tune_feature_fraction, val_score: 0.472364:  83%|########3 | 5/6 [00:01<00:00,  3.89it/s]"
     ]
    },
    {
     "name": "stdout",
     "output_type": "stream",
     "text": [
      "Training until validation scores don't improve for 100 rounds\n",
      "[100]\ttraining's binary_logloss: 0.0522078\tvalid_1's binary_logloss: 0.610757\n",
      "Early stopping, best iteration is:\n",
      "[10]\ttraining's binary_logloss: 0.362713\tvalid_1's binary_logloss: 0.501829\n"
     ]
    },
    {
     "name": "stderr",
     "output_type": "stream",
     "text": [
      "tune_feature_fraction, val_score: 0.472364: 100%|##########| 6/6 [00:01<00:00,  3.63it/s]\n",
      "tune_lambda_l1_and_lambda_l2, val_score: 0.472364:   0%|          | 0/20 [00:00<?, ?it/s]"
     ]
    },
    {
     "name": "stdout",
     "output_type": "stream",
     "text": [
      "Training until validation scores don't improve for 100 rounds\n",
      "[100]\ttraining's binary_logloss: 0.0565471\tvalid_1's binary_logloss: 0.590732\n",
      "Early stopping, best iteration is:\n",
      "[15]\ttraining's binary_logloss: 0.332455\tvalid_1's binary_logloss: 0.479655\n"
     ]
    },
    {
     "name": "stderr",
     "output_type": "stream",
     "text": [
      "tune_lambda_l1_and_lambda_l2, val_score: 0.472364:   5%|5         | 1/20 [00:00<00:03,  5.44it/s]"
     ]
    },
    {
     "name": "stdout",
     "output_type": "stream",
     "text": [
      "Training until validation scores don't improve for 100 rounds\n",
      "[100]\ttraining's binary_logloss: 0.0565472\tvalid_1's binary_logloss: 0.590732\n",
      "Early stopping, best iteration is:\n",
      "[15]\ttraining's binary_logloss: 0.332455\tvalid_1's binary_logloss: 0.479655\n"
     ]
    },
    {
     "name": "stderr",
     "output_type": "stream",
     "text": [
      "tune_lambda_l1_and_lambda_l2, val_score: 0.472364:  10%|#         | 2/20 [00:00<00:03,  4.74it/s]"
     ]
    },
    {
     "name": "stdout",
     "output_type": "stream",
     "text": [
      "Training until validation scores don't improve for 100 rounds\n",
      "[100]\ttraining's binary_logloss: 0.0942513\tvalid_1's binary_logloss: 0.572722\n",
      "Early stopping, best iteration is:\n",
      "[13]\ttraining's binary_logloss: 0.368248\tvalid_1's binary_logloss: 0.498597\n"
     ]
    },
    {
     "name": "stderr",
     "output_type": "stream",
     "text": [
      "tune_lambda_l1_and_lambda_l2, val_score: 0.472364:  15%|#5        | 3/20 [00:00<00:03,  4.42it/s]"
     ]
    },
    {
     "name": "stdout",
     "output_type": "stream",
     "text": [
      "Training until validation scores don't improve for 100 rounds\n",
      "[100]\ttraining's binary_logloss: 0.0557865\tvalid_1's binary_logloss: 0.585013\n",
      "Early stopping, best iteration is:\n",
      "[15]\ttraining's binary_logloss: 0.332468\tvalid_1's binary_logloss: 0.47968\n"
     ]
    },
    {
     "name": "stderr",
     "output_type": "stream",
     "text": [
      "tune_lambda_l1_and_lambda_l2, val_score: 0.472364:  20%|##        | 4/20 [00:01<00:03,  4.22it/s]"
     ]
    },
    {
     "name": "stdout",
     "output_type": "stream",
     "text": [
      "Training until validation scores don't improve for 100 rounds\n",
      "[100]\ttraining's binary_logloss: 0.0549554\tvalid_1's binary_logloss: 0.542779\n",
      "Early stopping, best iteration is:\n",
      "[20]\ttraining's binary_logloss: 0.296269\tvalid_1's binary_logloss: 0.472364\n"
     ]
    },
    {
     "name": "stderr",
     "output_type": "stream",
     "text": [
      "tune_lambda_l1_and_lambda_l2, val_score: 0.472364:  25%|##5       | 5/20 [00:01<00:03,  4.02it/s]"
     ]
    },
    {
     "name": "stdout",
     "output_type": "stream",
     "text": [
      "Training until validation scores don't improve for 100 rounds\n",
      "[100]\ttraining's binary_logloss: 0.305419\tvalid_1's binary_logloss: 0.475439\n",
      "Early stopping, best iteration is:\n",
      "[74]\ttraining's binary_logloss: 0.32269\tvalid_1's binary_logloss: 0.473386\n"
     ]
    },
    {
     "name": "stderr",
     "output_type": "stream",
     "text": [
      "tune_lambda_l1_and_lambda_l2, val_score: 0.472364:  30%|###       | 6/20 [00:01<00:04,  3.17it/s]"
     ]
    },
    {
     "name": "stdout",
     "output_type": "stream",
     "text": [
      "Training until validation scores don't improve for 100 rounds\n",
      "[100]\ttraining's binary_logloss: 0.0579741\tvalid_1's binary_logloss: 0.616621\n",
      "Early stopping, best iteration is:\n",
      "[13]\ttraining's binary_logloss: 0.348971\tvalid_1's binary_logloss: 0.487752\n"
     ]
    },
    {
     "name": "stderr",
     "output_type": "stream",
     "text": [
      "tune_lambda_l1_and_lambda_l2, val_score: 0.472364:  35%|###5      | 7/20 [00:02<00:03,  3.33it/s]"
     ]
    },
    {
     "name": "stdout",
     "output_type": "stream",
     "text": [
      "Training until validation scores don't improve for 100 rounds\n",
      "[100]\ttraining's binary_logloss: 0.056547\tvalid_1's binary_logloss: 0.590733\n",
      "Early stopping, best iteration is:\n",
      "[15]\ttraining's binary_logloss: 0.332455\tvalid_1's binary_logloss: 0.479655\n"
     ]
    },
    {
     "name": "stderr",
     "output_type": "stream",
     "text": [
      "tune_lambda_l1_and_lambda_l2, val_score: 0.472364:  40%|####      | 8/20 [00:02<00:03,  3.43it/s]"
     ]
    },
    {
     "name": "stdout",
     "output_type": "stream",
     "text": [
      "Training until validation scores don't improve for 100 rounds\n",
      "[100]\ttraining's binary_logloss: 0.055362\tvalid_1's binary_logloss: 0.609012\n",
      "Early stopping, best iteration is:\n",
      "[10]\ttraining's binary_logloss: 0.374104\tvalid_1's binary_logloss: 0.480964\n"
     ]
    },
    {
     "name": "stderr",
     "output_type": "stream",
     "text": [
      "tune_lambda_l1_and_lambda_l2, val_score: 0.472364:  45%|####5     | 9/20 [00:02<00:03,  3.54it/s]"
     ]
    },
    {
     "name": "stdout",
     "output_type": "stream",
     "text": [
      "Training until validation scores don't improve for 100 rounds\n",
      "[100]\ttraining's binary_logloss: 0.13675\tvalid_1's binary_logloss: 0.508596\n",
      "Early stopping, best iteration is:\n",
      "[21]\ttraining's binary_logloss: 0.33285\tvalid_1's binary_logloss: 0.474857\n"
     ]
    },
    {
     "name": "stderr",
     "output_type": "stream",
     "text": [
      "tune_lambda_l1_and_lambda_l2, val_score: 0.472364:  50%|#####     | 10/20 [00:02<00:02,  3.65it/s]"
     ]
    },
    {
     "name": "stdout",
     "output_type": "stream",
     "text": [
      "Training until validation scores don't improve for 100 rounds\n",
      "[100]\ttraining's binary_logloss: 0.0543461\tvalid_1's binary_logloss: 0.570836\n",
      "Early stopping, best iteration is:\n",
      "[20]\ttraining's binary_logloss: 0.29629\tvalid_1's binary_logloss: 0.472386\n"
     ]
    },
    {
     "name": "stderr",
     "output_type": "stream",
     "text": [
      "tune_lambda_l1_and_lambda_l2, val_score: 0.472364:  55%|#####5    | 11/20 [00:03<00:02,  3.57it/s]"
     ]
    },
    {
     "name": "stdout",
     "output_type": "stream",
     "text": [
      "Training until validation scores don't improve for 100 rounds\n",
      "[100]\ttraining's binary_logloss: 0.0552661\tvalid_1's binary_logloss: 0.542747\n",
      "Early stopping, best iteration is:\n",
      "[20]\ttraining's binary_logloss: 0.296286\tvalid_1's binary_logloss: 0.472401\n"
     ]
    },
    {
     "name": "stderr",
     "output_type": "stream",
     "text": [
      "tune_lambda_l1_and_lambda_l2, val_score: 0.472364:  60%|######    | 12/20 [00:03<00:02,  3.55it/s]"
     ]
    },
    {
     "name": "stdout",
     "output_type": "stream",
     "text": [
      "Training until validation scores don't improve for 100 rounds\n",
      "[100]\ttraining's binary_logloss: 0.0552626\tvalid_1's binary_logloss: 0.54274\n",
      "Early stopping, best iteration is:\n",
      "[20]\ttraining's binary_logloss: 0.296287\tvalid_1's binary_logloss: 0.472391\n"
     ]
    },
    {
     "name": "stderr",
     "output_type": "stream",
     "text": [
      "tune_lambda_l1_and_lambda_l2, val_score: 0.472364:  65%|######5   | 13/20 [00:03<00:01,  3.56it/s]"
     ]
    },
    {
     "name": "stdout",
     "output_type": "stream",
     "text": [
      "Training until validation scores don't improve for 100 rounds\n",
      "[100]\ttraining's binary_logloss: 0.055077\tvalid_1's binary_logloss: 0.57355\n",
      "Early stopping, best iteration is:\n",
      "[20]\ttraining's binary_logloss: 0.296276\tvalid_1's binary_logloss: 0.472367\n"
     ]
    },
    {
     "name": "stderr",
     "output_type": "stream",
     "text": [
      "tune_lambda_l1_and_lambda_l2, val_score: 0.472364:  70%|#######   | 14/20 [00:04<00:01,  3.56it/s]"
     ]
    },
    {
     "name": "stdout",
     "output_type": "stream",
     "text": [
      "Training until validation scores don't improve for 100 rounds\n",
      "[100]\ttraining's binary_logloss: 0.0557719\tvalid_1's binary_logloss: 0.584981\n",
      "Early stopping, best iteration is:\n",
      "[15]\ttraining's binary_logloss: 0.332462\tvalid_1's binary_logloss: 0.479665\n"
     ]
    },
    {
     "name": "stderr",
     "output_type": "stream",
     "text": [
      "tune_lambda_l1_and_lambda_l2, val_score: 0.472364:  75%|#######5  | 15/20 [00:04<00:01,  3.59it/s]"
     ]
    },
    {
     "name": "stdout",
     "output_type": "stream",
     "text": [
      "Training until validation scores don't improve for 100 rounds\n",
      "[100]\ttraining's binary_logloss: 0.0587386\tvalid_1's binary_logloss: 0.609192\n",
      "Early stopping, best iteration is:\n",
      "[10]\ttraining's binary_logloss: 0.375083\tvalid_1's binary_logloss: 0.48112\n"
     ]
    },
    {
     "name": "stderr",
     "output_type": "stream",
     "text": [
      "tune_lambda_l1_and_lambda_l2, val_score: 0.472364:  80%|########  | 16/20 [00:04<00:01,  3.56it/s]"
     ]
    },
    {
     "name": "stdout",
     "output_type": "stream",
     "text": [
      "Training until validation scores don't improve for 100 rounds\n",
      "[100]\ttraining's binary_logloss: 0.0552381\tvalid_1's binary_logloss: 0.542683\n",
      "Early stopping, best iteration is:\n",
      "[20]\ttraining's binary_logloss: 0.296272\tvalid_1's binary_logloss: 0.472367\n"
     ]
    },
    {
     "name": "stderr",
     "output_type": "stream",
     "text": [
      "tune_lambda_l1_and_lambda_l2, val_score: 0.472364:  85%|########5 | 17/20 [00:04<00:00,  3.52it/s]"
     ]
    },
    {
     "name": "stdout",
     "output_type": "stream",
     "text": [
      "Training until validation scores don't improve for 100 rounds\n",
      "[100]\ttraining's binary_logloss: 0.0565475\tvalid_1's binary_logloss: 0.590729\n",
      "Early stopping, best iteration is:\n",
      "[15]\ttraining's binary_logloss: 0.332455\tvalid_1's binary_logloss: 0.479655\n"
     ]
    },
    {
     "name": "stderr",
     "output_type": "stream",
     "text": [
      "tune_lambda_l1_and_lambda_l2, val_score: 0.472364:  90%|######### | 18/20 [00:05<00:00,  3.45it/s]"
     ]
    },
    {
     "name": "stdout",
     "output_type": "stream",
     "text": [
      "Training until validation scores don't improve for 100 rounds\n",
      "[100]\ttraining's binary_logloss: 0.0541173\tvalid_1's binary_logloss: 0.600934\n",
      "Early stopping, best iteration is:\n",
      "[15]\ttraining's binary_logloss: 0.332497\tvalid_1's binary_logloss: 0.479717\n"
     ]
    },
    {
     "name": "stderr",
     "output_type": "stream",
     "text": [
      "tune_lambda_l1_and_lambda_l2, val_score: 0.472364:  95%|#########5| 19/20 [00:05<00:00,  3.37it/s]"
     ]
    },
    {
     "name": "stdout",
     "output_type": "stream",
     "text": [
      "Training until validation scores don't improve for 100 rounds\n",
      "[100]\ttraining's binary_logloss: 0.0563306\tvalid_1's binary_logloss: 0.589433\n",
      "Early stopping, best iteration is:\n",
      "[15]\ttraining's binary_logloss: 0.332456\tvalid_1's binary_logloss: 0.479655\n"
     ]
    },
    {
     "name": "stderr",
     "output_type": "stream",
     "text": [
      "tune_lambda_l1_and_lambda_l2, val_score: 0.472364: 100%|##########| 20/20 [00:05<00:00,  3.48it/s]\n",
      "tune_min_child_samples, val_score: 0.472364:   0%|          | 0/5 [00:00<?, ?it/s]"
     ]
    },
    {
     "name": "stdout",
     "output_type": "stream",
     "text": [
      "Training until validation scores don't improve for 100 rounds\n",
      "[100]\ttraining's binary_logloss: 0.0173983\tvalid_1's binary_logloss: 0.745636\n",
      "Early stopping, best iteration is:\n",
      "[4]\ttraining's binary_logloss: 0.412326\tvalid_1's binary_logloss: 0.503775\n"
     ]
    },
    {
     "name": "stderr",
     "output_type": "stream",
     "text": [
      "tune_min_child_samples, val_score: 0.472364:  20%|##        | 1/5 [00:00<00:00,  4.87it/s]"
     ]
    },
    {
     "name": "stdout",
     "output_type": "stream",
     "text": [
      "Training until validation scores don't improve for 100 rounds\n",
      "[100]\ttraining's binary_logloss: 0.0213532\tvalid_1's binary_logloss: 0.759274\n",
      "Early stopping, best iteration is:\n",
      "[4]\ttraining's binary_logloss: 0.421623\tvalid_1's binary_logloss: 0.503789\n"
     ]
    },
    {
     "name": "stderr",
     "output_type": "stream",
     "text": [
      "tune_min_child_samples, val_score: 0.472364:  40%|####      | 2/5 [00:00<00:00,  4.44it/s]"
     ]
    },
    {
     "name": "stdout",
     "output_type": "stream",
     "text": [
      "Training until validation scores don't improve for 100 rounds\n",
      "[100]\ttraining's binary_logloss: 0.0810291\tvalid_1's binary_logloss: 0.579954\n",
      "Early stopping, best iteration is:\n",
      "[21]\ttraining's binary_logloss: 0.317273\tvalid_1's binary_logloss: 0.484246\n"
     ]
    },
    {
     "name": "stderr",
     "output_type": "stream",
     "text": [
      "tune_min_child_samples, val_score: 0.472364:  60%|######    | 3/5 [00:00<00:00,  4.26it/s]"
     ]
    },
    {
     "name": "stdout",
     "output_type": "stream",
     "text": [
      "Training until validation scores don't improve for 100 rounds\n",
      "[100]\ttraining's binary_logloss: 0.204415\tvalid_1's binary_logloss: 0.502858\n",
      "Early stopping, best iteration is:\n",
      "[52]\ttraining's binary_logloss: 0.289784\tvalid_1's binary_logloss: 0.484035\n"
     ]
    },
    {
     "name": "stderr",
     "output_type": "stream",
     "text": [
      "tune_min_child_samples, val_score: 0.472364:  80%|########  | 4/5 [00:01<00:00,  4.29it/s]"
     ]
    },
    {
     "name": "stdout",
     "output_type": "stream",
     "text": [
      "Training until validation scores don't improve for 100 rounds\n",
      "[100]\ttraining's binary_logloss: 0.334298\tvalid_1's binary_logloss: 0.475615\n",
      "[200]\ttraining's binary_logloss: 0.26318\tvalid_1's binary_logloss: 0.509776\n",
      "Early stopping, best iteration is:\n",
      "[100]\ttraining's binary_logloss: 0.334298\tvalid_1's binary_logloss: 0.475615\n"
     ]
    },
    {
     "name": "stderr",
     "output_type": "stream",
     "text": [
      "tune_min_child_samples, val_score: 0.472364: 100%|##########| 5/5 [00:01<00:00,  3.88it/s]\n"
     ]
    },
    {
     "name": "stdout",
     "output_type": "stream",
     "text": [
      "2020-03-24 19:32:43 Reply ********************************************************************************\n",
      "Reply\n",
      "n_pos_wanted 100\n",
      "2020-03-24 19:32:43 chunk 1\n",
      "2020-03-24 19:32:43 chunk 2\n",
      "2020-03-24 19:32:43 chunk 3\n",
      "2020-03-24 19:32:43 chunk 4\n",
      "dftrvl.shape: (1000, 28) dftrvl[tgtcol].mean(): 0.115\n",
      "{'train_pop': 4000, 'target_pop': 115, 'sampled_train_pop': 1000, 'sampled_target_pop': 115}\n",
      "{'objective': 'binary', 'metric': 'binary_logloss', 'verbosity': 0, 'boosting_type': 'gbdt'}\n"
     ]
    },
    {
     "name": "stderr",
     "output_type": "stream",
     "text": [
      "tune_feature_fraction, val_score: inf:   0%|          | 0/7 [00:00<?, ?it/s]"
     ]
    },
    {
     "name": "stdout",
     "output_type": "stream",
     "text": [
      "Training until validation scores don't improve for 100 rounds\n",
      "[100]\ttraining's binary_logloss: 0.0136619\tvalid_1's binary_logloss: 0.450892\n",
      "Early stopping, best iteration is:\n",
      "[14]\ttraining's binary_logloss: 0.210662\tvalid_1's binary_logloss: 0.330259\n"
     ]
    },
    {
     "name": "stderr",
     "output_type": "stream",
     "text": [
      "tune_feature_fraction, val_score: 0.330259:  14%|#4        | 1/7 [00:00<00:02,  2.55it/s]"
     ]
    },
    {
     "name": "stdout",
     "output_type": "stream",
     "text": [
      "Training until validation scores don't improve for 100 rounds\n",
      "[100]\ttraining's binary_logloss: 0.0120112\tvalid_1's binary_logloss: 0.488913\n",
      "Early stopping, best iteration is:\n",
      "[10]\ttraining's binary_logloss: 0.236457\tvalid_1's binary_logloss: 0.336134\n"
     ]
    },
    {
     "name": "stderr",
     "output_type": "stream",
     "text": [
      "tune_feature_fraction, val_score: 0.330259:  29%|##8       | 2/7 [00:00<00:01,  2.86it/s]"
     ]
    },
    {
     "name": "stdout",
     "output_type": "stream",
     "text": [
      "Training until validation scores don't improve for 100 rounds\n",
      "[100]\ttraining's binary_logloss: 0.0107226\tvalid_1's binary_logloss: 0.478995\n",
      "Early stopping, best iteration is:\n",
      "[14]\ttraining's binary_logloss: 0.203662\tvalid_1's binary_logloss: 0.333306\n"
     ]
    },
    {
     "name": "stderr",
     "output_type": "stream",
     "text": [
      "tune_feature_fraction, val_score: 0.330259:  43%|####2     | 3/7 [00:00<00:01,  3.10it/s]"
     ]
    },
    {
     "name": "stdout",
     "output_type": "stream",
     "text": [
      "Training until validation scores don't improve for 100 rounds\n",
      "[100]\ttraining's binary_logloss: 0.0101483\tvalid_1's binary_logloss: 0.504845\n",
      "Early stopping, best iteration is:\n",
      "[9]\ttraining's binary_logloss: 0.241412\tvalid_1's binary_logloss: 0.333501\n"
     ]
    },
    {
     "name": "stderr",
     "output_type": "stream",
     "text": [
      "tune_feature_fraction, val_score: 0.330259:  57%|#####7    | 4/7 [00:01<00:00,  3.31it/s]"
     ]
    },
    {
     "name": "stdout",
     "output_type": "stream",
     "text": [
      "Training until validation scores don't improve for 100 rounds\n",
      "[100]\ttraining's binary_logloss: 0.00892686\tvalid_1's binary_logloss: 0.529777\n",
      "Early stopping, best iteration is:\n",
      "[14]\ttraining's binary_logloss: 0.197109\tvalid_1's binary_logloss: 0.357307\n"
     ]
    },
    {
     "name": "stderr",
     "output_type": "stream",
     "text": [
      "tune_feature_fraction, val_score: 0.330259:  71%|#######1  | 5/7 [00:01<00:00,  3.44it/s]"
     ]
    },
    {
     "name": "stdout",
     "output_type": "stream",
     "text": [
      "Training until validation scores don't improve for 100 rounds\n",
      "[100]\ttraining's binary_logloss: 0.00847049\tvalid_1's binary_logloss: 0.500226\n",
      "Early stopping, best iteration is:\n",
      "[12]\ttraining's binary_logloss: 0.214146\tvalid_1's binary_logloss: 0.348233\n"
     ]
    },
    {
     "name": "stderr",
     "output_type": "stream",
     "text": [
      "tune_feature_fraction, val_score: 0.330259:  86%|########5 | 6/7 [00:01<00:00,  3.54it/s]"
     ]
    },
    {
     "name": "stdout",
     "output_type": "stream",
     "text": [
      "Training until validation scores don't improve for 100 rounds\n",
      "[100]\ttraining's binary_logloss: 0.00814181\tvalid_1's binary_logloss: 0.540661\n",
      "Early stopping, best iteration is:\n",
      "[10]\ttraining's binary_logloss: 0.230409\tvalid_1's binary_logloss: 0.34199\n"
     ]
    },
    {
     "name": "stderr",
     "output_type": "stream",
     "text": [
      "tune_feature_fraction, val_score: 0.330259: 100%|##########| 7/7 [00:02<00:00,  3.45it/s]\n",
      "tune_num_leaves, val_score: 0.330259:   0%|          | 0/20 [00:00<?, ?it/s]"
     ]
    },
    {
     "name": "stdout",
     "output_type": "stream",
     "text": [
      "Training until validation scores don't improve for 100 rounds\n",
      "[100]\ttraining's binary_logloss: 0.0137528\tvalid_1's binary_logloss: 0.495531\n",
      "Early stopping, best iteration is:\n",
      "[14]\ttraining's binary_logloss: 0.210659\tvalid_1's binary_logloss: 0.330298\n"
     ]
    },
    {
     "name": "stderr",
     "output_type": "stream",
     "text": [
      "tune_num_leaves, val_score: 0.330259:   5%|5         | 1/20 [00:00<00:05,  3.23it/s]"
     ]
    },
    {
     "name": "stdout",
     "output_type": "stream",
     "text": [
      "Training until validation scores don't improve for 100 rounds\n",
      "[100]\ttraining's binary_logloss: 0.0137528\tvalid_1's binary_logloss: 0.495531\n",
      "Early stopping, best iteration is:\n",
      "[14]\ttraining's binary_logloss: 0.210659\tvalid_1's binary_logloss: 0.330298\n"
     ]
    },
    {
     "name": "stderr",
     "output_type": "stream",
     "text": [
      "tune_num_leaves, val_score: 0.330259:  10%|#         | 2/20 [00:00<00:05,  3.30it/s]"
     ]
    },
    {
     "name": "stdout",
     "output_type": "stream",
     "text": [
      "Training until validation scores don't improve for 100 rounds\n",
      "[100]\ttraining's binary_logloss: 0.0137528\tvalid_1's binary_logloss: 0.495531\n",
      "Early stopping, best iteration is:\n",
      "[14]\ttraining's binary_logloss: 0.210659\tvalid_1's binary_logloss: 0.330298\n"
     ]
    },
    {
     "name": "stderr",
     "output_type": "stream",
     "text": [
      "tune_num_leaves, val_score: 0.330259:  15%|#5        | 3/20 [00:00<00:05,  3.37it/s]"
     ]
    },
    {
     "name": "stdout",
     "output_type": "stream",
     "text": [
      "Training until validation scores don't improve for 100 rounds\n",
      "[100]\ttraining's binary_logloss: 0.0495054\tvalid_1's binary_logloss: 0.379861\n",
      "Early stopping, best iteration is:\n",
      "[22]\ttraining's binary_logloss: 0.201523\tvalid_1's binary_logloss: 0.331232\n"
     ]
    },
    {
     "name": "stderr",
     "output_type": "stream",
     "text": [
      "tune_num_leaves, val_score: 0.330259:  20%|##        | 4/20 [00:01<00:04,  3.71it/s]"
     ]
    },
    {
     "name": "stdout",
     "output_type": "stream",
     "text": [
      "Training until validation scores don't improve for 100 rounds\n",
      "[100]\ttraining's binary_logloss: 0.0343392\tvalid_1's binary_logloss: 0.415604\n",
      "Early stopping, best iteration is:\n",
      "[21]\ttraining's binary_logloss: 0.191297\tvalid_1's binary_logloss: 0.330317\n"
     ]
    },
    {
     "name": "stderr",
     "output_type": "stream",
     "text": [
      "tune_num_leaves, val_score: 0.330259:  25%|##5       | 5/20 [00:01<00:03,  3.94it/s]"
     ]
    },
    {
     "name": "stdout",
     "output_type": "stream",
     "text": [
      "Training until validation scores don't improve for 100 rounds\n",
      "[100]\ttraining's binary_logloss: 0.0137528\tvalid_1's binary_logloss: 0.495531\n",
      "Early stopping, best iteration is:\n",
      "[14]\ttraining's binary_logloss: 0.210659\tvalid_1's binary_logloss: 0.330298\n"
     ]
    },
    {
     "name": "stderr",
     "output_type": "stream",
     "text": [
      "tune_num_leaves, val_score: 0.330259:  30%|###       | 6/20 [00:01<00:03,  3.80it/s]"
     ]
    },
    {
     "name": "stdout",
     "output_type": "stream",
     "text": [
      "Training until validation scores don't improve for 100 rounds\n",
      "[100]\ttraining's binary_logloss: 0.0137528\tvalid_1's binary_logloss: 0.495531\n",
      "Early stopping, best iteration is:\n",
      "[14]\ttraining's binary_logloss: 0.210659\tvalid_1's binary_logloss: 0.330298\n"
     ]
    },
    {
     "name": "stderr",
     "output_type": "stream",
     "text": [
      "tune_num_leaves, val_score: 0.330259:  35%|###5      | 7/20 [00:01<00:03,  3.71it/s]"
     ]
    },
    {
     "name": "stdout",
     "output_type": "stream",
     "text": [
      "Training until validation scores don't improve for 100 rounds\n",
      "[100]\ttraining's binary_logloss: 0.0137528\tvalid_1's binary_logloss: 0.495531\n",
      "Early stopping, best iteration is:\n",
      "[14]\ttraining's binary_logloss: 0.210659\tvalid_1's binary_logloss: 0.330298\n"
     ]
    },
    {
     "name": "stderr",
     "output_type": "stream",
     "text": [
      "tune_num_leaves, val_score: 0.330259:  40%|####      | 8/20 [00:02<00:03,  3.65it/s]"
     ]
    },
    {
     "name": "stdout",
     "output_type": "stream",
     "text": [
      "Training until validation scores don't improve for 100 rounds\n",
      "[100]\ttraining's binary_logloss: 0.0137528\tvalid_1's binary_logloss: 0.495531\n",
      "Early stopping, best iteration is:\n",
      "[14]\ttraining's binary_logloss: 0.210659\tvalid_1's binary_logloss: 0.330298\n"
     ]
    },
    {
     "name": "stderr",
     "output_type": "stream",
     "text": [
      "tune_num_leaves, val_score: 0.330259:  45%|####5     | 9/20 [00:02<00:03,  3.43it/s]"
     ]
    },
    {
     "name": "stdout",
     "output_type": "stream",
     "text": [
      "Training until validation scores don't improve for 100 rounds\n",
      "[100]\ttraining's binary_logloss: 0.0557943\tvalid_1's binary_logloss: 0.408517\n",
      "Early stopping, best iteration is:\n",
      "[11]\ttraining's binary_logloss: 0.259692\tvalid_1's binary_logloss: 0.337297\n"
     ]
    },
    {
     "name": "stderr",
     "output_type": "stream",
     "text": [
      "tune_num_leaves, val_score: 0.330259:  50%|#####     | 10/20 [00:02<00:02,  3.64it/s]"
     ]
    },
    {
     "name": "stdout",
     "output_type": "stream",
     "text": [
      "Training until validation scores don't improve for 100 rounds\n",
      "[100]\ttraining's binary_logloss: 0.0137528\tvalid_1's binary_logloss: 0.495531\n",
      "Early stopping, best iteration is:\n",
      "[14]\ttraining's binary_logloss: 0.210659\tvalid_1's binary_logloss: 0.330298\n"
     ]
    },
    {
     "name": "stderr",
     "output_type": "stream",
     "text": [
      "tune_num_leaves, val_score: 0.330259:  55%|#####5    | 11/20 [00:03<00:02,  3.41it/s]"
     ]
    },
    {
     "name": "stdout",
     "output_type": "stream",
     "text": [
      "Training until validation scores don't improve for 100 rounds\n",
      "[100]\ttraining's binary_logloss: 0.0137528\tvalid_1's binary_logloss: 0.495531\n",
      "Early stopping, best iteration is:\n",
      "[14]\ttraining's binary_logloss: 0.210659\tvalid_1's binary_logloss: 0.330298\n"
     ]
    },
    {
     "name": "stderr",
     "output_type": "stream",
     "text": [
      "tune_num_leaves, val_score: 0.330259:  60%|######    | 12/20 [00:03<00:02,  3.24it/s]"
     ]
    },
    {
     "name": "stdout",
     "output_type": "stream",
     "text": [
      "Training until validation scores don't improve for 100 rounds\n",
      "[100]\ttraining's binary_logloss: 0.0137528\tvalid_1's binary_logloss: 0.495531\n",
      "Early stopping, best iteration is:\n",
      "[14]\ttraining's binary_logloss: 0.210659\tvalid_1's binary_logloss: 0.330298\n"
     ]
    },
    {
     "name": "stderr",
     "output_type": "stream",
     "text": [
      "tune_num_leaves, val_score: 0.330259:  65%|######5   | 13/20 [00:03<00:02,  3.11it/s]"
     ]
    },
    {
     "name": "stdout",
     "output_type": "stream",
     "text": [
      "Training until validation scores don't improve for 100 rounds\n",
      "[100]\ttraining's binary_logloss: 0.0137528\tvalid_1's binary_logloss: 0.495531\n",
      "Early stopping, best iteration is:\n",
      "[14]\ttraining's binary_logloss: 0.210659\tvalid_1's binary_logloss: 0.330298\n"
     ]
    },
    {
     "name": "stderr",
     "output_type": "stream",
     "text": [
      "tune_num_leaves, val_score: 0.330259:  70%|#######   | 14/20 [00:04<00:02,  2.93it/s]"
     ]
    },
    {
     "name": "stdout",
     "output_type": "stream",
     "text": [
      "Training until validation scores don't improve for 100 rounds\n",
      "[100]\ttraining's binary_logloss: 0.0137528\tvalid_1's binary_logloss: 0.495531\n",
      "Early stopping, best iteration is:\n",
      "[14]\ttraining's binary_logloss: 0.210659\tvalid_1's binary_logloss: 0.330298\n"
     ]
    },
    {
     "name": "stderr",
     "output_type": "stream",
     "text": [
      "tune_num_leaves, val_score: 0.330259:  75%|#######5  | 15/20 [00:04<00:01,  2.88it/s]"
     ]
    },
    {
     "name": "stdout",
     "output_type": "stream",
     "text": [
      "Training until validation scores don't improve for 100 rounds\n",
      "[100]\ttraining's binary_logloss: 0.0137528\tvalid_1's binary_logloss: 0.495531\n",
      "Early stopping, best iteration is:\n",
      "[14]\ttraining's binary_logloss: 0.210659\tvalid_1's binary_logloss: 0.330298\n"
     ]
    },
    {
     "name": "stderr",
     "output_type": "stream",
     "text": [
      "tune_num_leaves, val_score: 0.330259:  80%|########  | 16/20 [00:04<00:01,  2.90it/s]"
     ]
    },
    {
     "name": "stdout",
     "output_type": "stream",
     "text": [
      "Training until validation scores don't improve for 100 rounds\n",
      "[100]\ttraining's binary_logloss: 0.0137528\tvalid_1's binary_logloss: 0.495531\n",
      "Early stopping, best iteration is:\n",
      "[14]\ttraining's binary_logloss: 0.210659\tvalid_1's binary_logloss: 0.330298\n"
     ]
    },
    {
     "name": "stderr",
     "output_type": "stream",
     "text": [
      "tune_num_leaves, val_score: 0.330259:  85%|########5 | 17/20 [00:05<00:01,  2.93it/s]"
     ]
    },
    {
     "name": "stdout",
     "output_type": "stream",
     "text": [
      "Training until validation scores don't improve for 100 rounds\n",
      "[100]\ttraining's binary_logloss: 0.0137528\tvalid_1's binary_logloss: 0.495531\n",
      "Early stopping, best iteration is:\n",
      "[14]\ttraining's binary_logloss: 0.210659\tvalid_1's binary_logloss: 0.330298\n"
     ]
    },
    {
     "name": "stderr",
     "output_type": "stream",
     "text": [
      "tune_num_leaves, val_score: 0.330259:  90%|######### | 18/20 [00:05<00:00,  2.93it/s]"
     ]
    },
    {
     "name": "stdout",
     "output_type": "stream",
     "text": [
      "Training until validation scores don't improve for 100 rounds\n",
      "[100]\ttraining's binary_logloss: 0.0137528\tvalid_1's binary_logloss: 0.495531\n",
      "Early stopping, best iteration is:\n",
      "[14]\ttraining's binary_logloss: 0.210659\tvalid_1's binary_logloss: 0.330298\n"
     ]
    },
    {
     "name": "stderr",
     "output_type": "stream",
     "text": [
      "tune_num_leaves, val_score: 0.330259:  95%|#########5| 19/20 [00:05<00:00,  2.94it/s]"
     ]
    },
    {
     "name": "stdout",
     "output_type": "stream",
     "text": [
      "Training until validation scores don't improve for 100 rounds\n",
      "[100]\ttraining's binary_logloss: 0.0137528\tvalid_1's binary_logloss: 0.495531\n",
      "Early stopping, best iteration is:\n",
      "[14]\ttraining's binary_logloss: 0.210659\tvalid_1's binary_logloss: 0.330298\n"
     ]
    },
    {
     "name": "stderr",
     "output_type": "stream",
     "text": [
      "tune_num_leaves, val_score: 0.330259: 100%|##########| 20/20 [00:06<00:00,  3.16it/s]\n",
      "tune_bagging_fraction_and_bagging_freq, val_score: 0.330259:   0%|          | 0/10 [00:00<?, ?it/s]"
     ]
    },
    {
     "name": "stdout",
     "output_type": "stream",
     "text": [
      "Training until validation scores don't improve for 100 rounds\n",
      "[100]\ttraining's binary_logloss: 0.0237897\tvalid_1's binary_logloss: 0.490217\n",
      "Early stopping, best iteration is:\n",
      "[15]\ttraining's binary_logloss: 0.224343\tvalid_1's binary_logloss: 0.345975\n"
     ]
    },
    {
     "name": "stderr",
     "output_type": "stream",
     "text": [
      "tune_bagging_fraction_and_bagging_freq, val_score: 0.330259:  10%|#         | 1/10 [00:00<00:01,  5.43it/s]"
     ]
    },
    {
     "name": "stdout",
     "output_type": "stream",
     "text": [
      "Training until validation scores don't improve for 100 rounds\n",
      "[100]\ttraining's binary_logloss: 0.0431521\tvalid_1's binary_logloss: 0.433161\n",
      "Early stopping, best iteration is:\n",
      "[13]\ttraining's binary_logloss: 0.25251\tvalid_1's binary_logloss: 0.335317\n"
     ]
    },
    {
     "name": "stderr",
     "output_type": "stream",
     "text": [
      "tune_bagging_fraction_and_bagging_freq, val_score: 0.330259:  20%|##        | 2/10 [00:00<00:01,  4.69it/s]"
     ]
    },
    {
     "name": "stdout",
     "output_type": "stream",
     "text": [
      "Training until validation scores don't improve for 100 rounds\n",
      "[100]\ttraining's binary_logloss: 0.0384565\tvalid_1's binary_logloss: 0.435565\n",
      "Early stopping, best iteration is:\n",
      "[6]\ttraining's binary_logloss: 0.295993\tvalid_1's binary_logloss: 0.353429\n"
     ]
    },
    {
     "name": "stderr",
     "output_type": "stream",
     "text": [
      "tune_bagging_fraction_and_bagging_freq, val_score: 0.330259:  30%|###       | 3/10 [00:00<00:01,  4.32it/s]"
     ]
    },
    {
     "name": "stdout",
     "output_type": "stream",
     "text": [
      "Training until validation scores don't improve for 100 rounds\n",
      "[100]\ttraining's binary_logloss: 0.015224\tvalid_1's binary_logloss: 0.477421\n",
      "Early stopping, best iteration is:\n",
      "[10]\ttraining's binary_logloss: 0.239124\tvalid_1's binary_logloss: 0.328496\n"
     ]
    },
    {
     "name": "stderr",
     "output_type": "stream",
     "text": [
      "tune_bagging_fraction_and_bagging_freq, val_score: 0.328496:  40%|####      | 4/10 [00:01<00:01,  4.00it/s]"
     ]
    },
    {
     "name": "stdout",
     "output_type": "stream",
     "text": [
      "Training until validation scores don't improve for 100 rounds\n",
      "[100]\ttraining's binary_logloss: 0.0173335\tvalid_1's binary_logloss: 0.472404\n",
      "Early stopping, best iteration is:\n",
      "[11]\ttraining's binary_logloss: 0.238683\tvalid_1's binary_logloss: 0.337859\n"
     ]
    },
    {
     "name": "stderr",
     "output_type": "stream",
     "text": [
      "tune_bagging_fraction_and_bagging_freq, val_score: 0.328496:  50%|#####     | 5/10 [00:01<00:01,  3.73it/s]"
     ]
    },
    {
     "name": "stdout",
     "output_type": "stream",
     "text": [
      "Training until validation scores don't improve for 100 rounds\n",
      "[100]\ttraining's binary_logloss: 0.0987549\tvalid_1's binary_logloss: 0.396809\n",
      "Early stopping, best iteration is:\n",
      "[15]\ttraining's binary_logloss: 0.280832\tvalid_1's binary_logloss: 0.348985\n"
     ]
    },
    {
     "name": "stderr",
     "output_type": "stream",
     "text": [
      "tune_bagging_fraction_and_bagging_freq, val_score: 0.328496:  60%|######    | 6/10 [00:01<00:01,  3.80it/s]"
     ]
    },
    {
     "name": "stdout",
     "output_type": "stream",
     "text": [
      "Training until validation scores don't improve for 100 rounds\n",
      "[100]\ttraining's binary_logloss: 0.0599653\tvalid_1's binary_logloss: 0.4523\n",
      "Early stopping, best iteration is:\n",
      "[8]\ttraining's binary_logloss: 0.293489\tvalid_1's binary_logloss: 0.346197\n"
     ]
    },
    {
     "name": "stderr",
     "output_type": "stream",
     "text": [
      "tune_bagging_fraction_and_bagging_freq, val_score: 0.328496:  70%|#######   | 7/10 [00:01<00:00,  3.81it/s]"
     ]
    },
    {
     "name": "stdout",
     "output_type": "stream",
     "text": [
      "Training until validation scores don't improve for 100 rounds\n",
      "[100]\ttraining's binary_logloss: 0.121923\tvalid_1's binary_logloss: 0.424838\n",
      "Early stopping, best iteration is:\n",
      "[12]\ttraining's binary_logloss: 0.296376\tvalid_1's binary_logloss: 0.365537\n"
     ]
    },
    {
     "name": "stderr",
     "output_type": "stream",
     "text": [
      "tune_bagging_fraction_and_bagging_freq, val_score: 0.328496:  80%|########  | 8/10 [00:02<00:00,  3.89it/s]"
     ]
    },
    {
     "name": "stdout",
     "output_type": "stream",
     "text": [
      "Training until validation scores don't improve for 100 rounds\n",
      "[100]\ttraining's binary_logloss: 0.0490162\tvalid_1's binary_logloss: 0.463159\n",
      "Early stopping, best iteration is:\n",
      "[6]\ttraining's binary_logloss: 0.295736\tvalid_1's binary_logloss: 0.346494\n"
     ]
    },
    {
     "name": "stderr",
     "output_type": "stream",
     "text": [
      "tune_bagging_fraction_and_bagging_freq, val_score: 0.328496:  90%|######### | 9/10 [00:02<00:00,  3.84it/s]"
     ]
    },
    {
     "name": "stdout",
     "output_type": "stream",
     "text": [
      "Training until validation scores don't improve for 100 rounds\n",
      "[100]\ttraining's binary_logloss: 0.062472\tvalid_1's binary_logloss: 0.456485\n",
      "Early stopping, best iteration is:\n",
      "[10]\ttraining's binary_logloss: 0.283516\tvalid_1's binary_logloss: 0.346835\n"
     ]
    },
    {
     "name": "stderr",
     "output_type": "stream",
     "text": [
      "tune_bagging_fraction_and_bagging_freq, val_score: 0.328496: 100%|##########| 10/10 [00:02<00:00,  3.63it/s]\n",
      "tune_feature_fraction, val_score: 0.328496:   0%|          | 0/3 [00:00<?, ?it/s]"
     ]
    },
    {
     "name": "stdout",
     "output_type": "stream",
     "text": [
      "Training until validation scores don't improve for 100 rounds\n",
      "[100]\ttraining's binary_logloss: 0.015224\tvalid_1's binary_logloss: 0.477421\n",
      "Early stopping, best iteration is:\n",
      "[10]\ttraining's binary_logloss: 0.239124\tvalid_1's binary_logloss: 0.328496\n"
     ]
    },
    {
     "name": "stderr",
     "output_type": "stream",
     "text": [
      "tune_feature_fraction, val_score: 0.328496:  33%|###3      | 1/3 [00:00<00:00,  5.56it/s]"
     ]
    },
    {
     "name": "stdout",
     "output_type": "stream",
     "text": [
      "Training until validation scores don't improve for 100 rounds\n",
      "[100]\ttraining's binary_logloss: 0.01456\tvalid_1's binary_logloss: 0.508249\n",
      "Early stopping, best iteration is:\n",
      "[17]\ttraining's binary_logloss: 0.190185\tvalid_1's binary_logloss: 0.334081\n"
     ]
    },
    {
     "name": "stderr",
     "output_type": "stream",
     "text": [
      "tune_feature_fraction, val_score: 0.328496:  67%|######6   | 2/3 [00:00<00:00,  4.48it/s]"
     ]
    },
    {
     "name": "stdout",
     "output_type": "stream",
     "text": [
      "Training until validation scores don't improve for 100 rounds\n",
      "[100]\ttraining's binary_logloss: 0.0138552\tvalid_1's binary_logloss: 0.497362\n",
      "Early stopping, best iteration is:\n",
      "[15]\ttraining's binary_logloss: 0.204801\tvalid_1's binary_logloss: 0.335182\n"
     ]
    },
    {
     "name": "stderr",
     "output_type": "stream",
     "text": [
      "tune_feature_fraction, val_score: 0.328496: 100%|##########| 3/3 [00:00<00:00,  3.11it/s]\n",
      "tune_lambda_l1_and_lambda_l2, val_score: 0.328496:   0%|          | 0/20 [00:00<?, ?it/s]"
     ]
    },
    {
     "name": "stdout",
     "output_type": "stream",
     "text": [
      "Training until validation scores don't improve for 100 rounds\n",
      "[100]\ttraining's binary_logloss: 0.0915658\tvalid_1's binary_logloss: 0.383025\n",
      "Early stopping, best iteration is:\n",
      "[27]\ttraining's binary_logloss: 0.206731\tvalid_1's binary_logloss: 0.341715\n"
     ]
    },
    {
     "name": "stderr",
     "output_type": "stream",
     "text": [
      "tune_lambda_l1_and_lambda_l2, val_score: 0.328496:   5%|5         | 1/20 [00:00<00:03,  5.43it/s]"
     ]
    },
    {
     "name": "stdout",
     "output_type": "stream",
     "text": [
      "Training until validation scores don't improve for 100 rounds\n",
      "[100]\ttraining's binary_logloss: 0.277229\tvalid_1's binary_logloss: 0.33046\n",
      "[200]\ttraining's binary_logloss: 0.273983\tvalid_1's binary_logloss: 0.330376\n",
      "Early stopping, best iteration is:\n",
      "[108]\ttraining's binary_logloss: 0.27686\tvalid_1's binary_logloss: 0.330073\n"
     ]
    },
    {
     "name": "stderr",
     "output_type": "stream",
     "text": [
      "tune_lambda_l1_and_lambda_l2, val_score: 0.328496:  10%|#         | 2/20 [00:00<00:03,  4.69it/s]"
     ]
    },
    {
     "name": "stdout",
     "output_type": "stream",
     "text": [
      "Training until validation scores don't improve for 100 rounds\n",
      "[100]\ttraining's binary_logloss: 0.0156626\tvalid_1's binary_logloss: 0.471895\n",
      "Early stopping, best iteration is:\n",
      "[10]\ttraining's binary_logloss: 0.239221\tvalid_1's binary_logloss: 0.328539\n"
     ]
    },
    {
     "name": "stderr",
     "output_type": "stream",
     "text": [
      "tune_lambda_l1_and_lambda_l2, val_score: 0.328496:  15%|#5        | 3/20 [00:00<00:04,  4.10it/s]"
     ]
    },
    {
     "name": "stdout",
     "output_type": "stream",
     "text": [
      "Training until validation scores don't improve for 100 rounds\n",
      "[100]\ttraining's binary_logloss: 0.0152852\tvalid_1's binary_logloss: 0.453802\n",
      "Early stopping, best iteration is:\n",
      "[9]\ttraining's binary_logloss: 0.246596\tvalid_1's binary_logloss: 0.330288\n"
     ]
    },
    {
     "name": "stderr",
     "output_type": "stream",
     "text": [
      "tune_lambda_l1_and_lambda_l2, val_score: 0.328496:  20%|##        | 4/20 [00:01<00:04,  3.80it/s]"
     ]
    },
    {
     "name": "stdout",
     "output_type": "stream",
     "text": [
      "Training until validation scores don't improve for 100 rounds\n",
      "[100]\ttraining's binary_logloss: 0.0156147\tvalid_1's binary_logloss: 0.468502\n",
      "Early stopping, best iteration is:\n",
      "[10]\ttraining's binary_logloss: 0.239127\tvalid_1's binary_logloss: 0.328504\n"
     ]
    },
    {
     "name": "stderr",
     "output_type": "stream",
     "text": [
      "tune_lambda_l1_and_lambda_l2, val_score: 0.328496:  25%|##5       | 5/20 [00:01<00:04,  3.59it/s]"
     ]
    },
    {
     "name": "stdout",
     "output_type": "stream",
     "text": [
      "Training until validation scores don't improve for 100 rounds\n",
      "[100]\ttraining's binary_logloss: 0.0156593\tvalid_1's binary_logloss: 0.476365\n",
      "Early stopping, best iteration is:\n",
      "[10]\ttraining's binary_logloss: 0.239139\tvalid_1's binary_logloss: 0.328502\n"
     ]
    },
    {
     "name": "stderr",
     "output_type": "stream",
     "text": [
      "tune_lambda_l1_and_lambda_l2, val_score: 0.328496:  30%|###       | 6/20 [00:01<00:04,  3.41it/s]"
     ]
    },
    {
     "name": "stdout",
     "output_type": "stream",
     "text": [
      "Training until validation scores don't improve for 100 rounds\n",
      "[100]\ttraining's binary_logloss: 0.0192242\tvalid_1's binary_logloss: 0.460159\n",
      "Early stopping, best iteration is:\n",
      "[21]\ttraining's binary_logloss: 0.172834\tvalid_1's binary_logloss: 0.330363\n"
     ]
    },
    {
     "name": "stderr",
     "output_type": "stream",
     "text": [
      "tune_lambda_l1_and_lambda_l2, val_score: 0.328496:  35%|###5      | 7/20 [00:02<00:04,  3.22it/s]"
     ]
    },
    {
     "name": "stdout",
     "output_type": "stream",
     "text": [
      "Training until validation scores don't improve for 100 rounds\n",
      "[100]\ttraining's binary_logloss: 0.0905107\tvalid_1's binary_logloss: 0.370788\n",
      "Early stopping, best iteration is:\n",
      "[30]\ttraining's binary_logloss: 0.198063\tvalid_1's binary_logloss: 0.33461\n"
     ]
    },
    {
     "name": "stderr",
     "output_type": "stream",
     "text": [
      "tune_lambda_l1_and_lambda_l2, val_score: 0.328496:  40%|####      | 8/20 [00:02<00:03,  3.19it/s]"
     ]
    },
    {
     "name": "stdout",
     "output_type": "stream",
     "text": [
      "Training until validation scores don't improve for 100 rounds\n",
      "[100]\ttraining's binary_logloss: 0.140314\tvalid_1's binary_logloss: 0.346642\n",
      "Early stopping, best iteration is:\n",
      "[30]\ttraining's binary_logloss: 0.2516\tvalid_1's binary_logloss: 0.329267\n"
     ]
    },
    {
     "name": "stderr",
     "output_type": "stream",
     "text": [
      "tune_lambda_l1_and_lambda_l2, val_score: 0.328496:  45%|####5     | 9/20 [00:02<00:03,  3.16it/s]"
     ]
    },
    {
     "name": "stdout",
     "output_type": "stream",
     "text": [
      "Training until validation scores don't improve for 100 rounds\n",
      "[100]\ttraining's binary_logloss: 0.051546\tvalid_1's binary_logloss: 0.39938\n",
      "Early stopping, best iteration is:\n",
      "[27]\ttraining's binary_logloss: 0.18248\tvalid_1's binary_logloss: 0.337278\n"
     ]
    },
    {
     "name": "stderr",
     "output_type": "stream",
     "text": [
      "tune_lambda_l1_and_lambda_l2, val_score: 0.328496:  50%|#####     | 10/20 [00:03<00:03,  3.07it/s]"
     ]
    },
    {
     "name": "stdout",
     "output_type": "stream",
     "text": [
      "Training until validation scores don't improve for 100 rounds\n",
      "[100]\ttraining's binary_logloss: 0.0182572\tvalid_1's binary_logloss: 0.448579\n",
      "Early stopping, best iteration is:\n",
      "[10]\ttraining's binary_logloss: 0.239382\tvalid_1's binary_logloss: 0.330417\n"
     ]
    },
    {
     "name": "stderr",
     "output_type": "stream",
     "text": [
      "tune_lambda_l1_and_lambda_l2, val_score: 0.328496:  55%|#####5    | 11/20 [00:03<00:02,  3.10it/s]"
     ]
    },
    {
     "name": "stdout",
     "output_type": "stream",
     "text": [
      "Training until validation scores don't improve for 100 rounds\n",
      "[100]\ttraining's binary_logloss: 0.0151683\tvalid_1's binary_logloss: 0.455169\n",
      "Early stopping, best iteration is:\n",
      "[9]\ttraining's binary_logloss: 0.246595\tvalid_1's binary_logloss: 0.33029\n"
     ]
    },
    {
     "name": "stderr",
     "output_type": "stream",
     "text": [
      "tune_lambda_l1_and_lambda_l2, val_score: 0.328496:  60%|######    | 12/20 [00:03<00:02,  3.15it/s]"
     ]
    },
    {
     "name": "stdout",
     "output_type": "stream",
     "text": [
      "Training until validation scores don't improve for 100 rounds\n",
      "[100]\ttraining's binary_logloss: 0.0154416\tvalid_1's binary_logloss: 0.462085\n",
      "Early stopping, best iteration is:\n",
      "[10]\ttraining's binary_logloss: 0.239125\tvalid_1's binary_logloss: 0.328501\n"
     ]
    },
    {
     "name": "stderr",
     "output_type": "stream",
     "text": [
      "tune_lambda_l1_and_lambda_l2, val_score: 0.328496:  65%|######5   | 13/20 [00:04<00:02,  3.17it/s]"
     ]
    },
    {
     "name": "stdout",
     "output_type": "stream",
     "text": [
      "Training until validation scores don't improve for 100 rounds\n",
      "[100]\ttraining's binary_logloss: 0.0151681\tvalid_1's binary_logloss: 0.455168\n",
      "Early stopping, best iteration is:\n",
      "[9]\ttraining's binary_logloss: 0.246595\tvalid_1's binary_logloss: 0.33029\n"
     ]
    },
    {
     "name": "stderr",
     "output_type": "stream",
     "text": [
      "tune_lambda_l1_and_lambda_l2, val_score: 0.328496:  70%|#######   | 14/20 [00:04<00:01,  3.19it/s]"
     ]
    },
    {
     "name": "stdout",
     "output_type": "stream",
     "text": [
      "Training until validation scores don't improve for 100 rounds\n",
      "[100]\ttraining's binary_logloss: 0.0163082\tvalid_1's binary_logloss: 0.470159\n",
      "Early stopping, best iteration is:\n",
      "[10]\ttraining's binary_logloss: 0.239423\tvalid_1's binary_logloss: 0.328613\n"
     ]
    },
    {
     "name": "stderr",
     "output_type": "stream",
     "text": [
      "tune_lambda_l1_and_lambda_l2, val_score: 0.328496:  75%|#######5  | 15/20 [00:04<00:01,  3.18it/s]"
     ]
    },
    {
     "name": "stdout",
     "output_type": "stream",
     "text": [
      "Training until validation scores don't improve for 100 rounds\n",
      "[100]\ttraining's binary_logloss: 0.0159243\tvalid_1's binary_logloss: 0.477499\n",
      "Early stopping, best iteration is:\n",
      "[10]\ttraining's binary_logloss: 0.239126\tvalid_1's binary_logloss: 0.328513\n"
     ]
    },
    {
     "name": "stderr",
     "output_type": "stream",
     "text": [
      "tune_lambda_l1_and_lambda_l2, val_score: 0.328496:  80%|########  | 16/20 [00:05<00:01,  3.18it/s]"
     ]
    },
    {
     "name": "stdout",
     "output_type": "stream",
     "text": [
      "Training until validation scores don't improve for 100 rounds\n",
      "[100]\ttraining's binary_logloss: 0.0154435\tvalid_1's binary_logloss: 0.462107\n",
      "Early stopping, best iteration is:\n",
      "[10]\ttraining's binary_logloss: 0.239126\tvalid_1's binary_logloss: 0.328502\n"
     ]
    },
    {
     "name": "stderr",
     "output_type": "stream",
     "text": [
      "tune_lambda_l1_and_lambda_l2, val_score: 0.328496:  85%|########5 | 17/20 [00:05<00:00,  3.18it/s]"
     ]
    },
    {
     "name": "stdout",
     "output_type": "stream",
     "text": [
      "Training until validation scores don't improve for 100 rounds\n",
      "[100]\ttraining's binary_logloss: 0.0153438\tvalid_1's binary_logloss: 0.481215\n",
      "Early stopping, best iteration is:\n",
      "[10]\ttraining's binary_logloss: 0.239155\tvalid_1's binary_logloss: 0.328531\n"
     ]
    },
    {
     "name": "stderr",
     "output_type": "stream",
     "text": [
      "tune_lambda_l1_and_lambda_l2, val_score: 0.328496:  90%|######### | 18/20 [00:05<00:00,  3.16it/s]"
     ]
    },
    {
     "name": "stdout",
     "output_type": "stream",
     "text": [
      "Training until validation scores don't improve for 100 rounds\n",
      "[100]\ttraining's binary_logloss: 0.0226183\tvalid_1's binary_logloss: 0.442169\n",
      "Early stopping, best iteration is:\n",
      "[13]\ttraining's binary_logloss: 0.222171\tvalid_1's binary_logloss: 0.333563\n"
     ]
    },
    {
     "name": "stderr",
     "output_type": "stream",
     "text": [
      "tune_lambda_l1_and_lambda_l2, val_score: 0.328496:  95%|#########5| 19/20 [00:06<00:00,  3.16it/s]"
     ]
    },
    {
     "name": "stdout",
     "output_type": "stream",
     "text": [
      "Training until validation scores don't improve for 100 rounds\n",
      "[100]\ttraining's binary_logloss: 0.015472\tvalid_1's binary_logloss: 0.458407\n",
      "Early stopping, best iteration is:\n",
      "[10]\ttraining's binary_logloss: 0.239125\tvalid_1's binary_logloss: 0.328499\n"
     ]
    },
    {
     "name": "stderr",
     "output_type": "stream",
     "text": [
      "tune_lambda_l1_and_lambda_l2, val_score: 0.328496: 100%|##########| 20/20 [00:06<00:00,  3.16it/s]\n",
      "tune_min_child_samples, val_score: 0.328496:   0%|          | 0/5 [00:00<?, ?it/s]"
     ]
    },
    {
     "name": "stdout",
     "output_type": "stream",
     "text": [
      "Training until validation scores don't improve for 100 rounds\n",
      "[100]\ttraining's binary_logloss: 0.00455901\tvalid_1's binary_logloss: 0.557048\n",
      "Early stopping, best iteration is:\n",
      "[7]\ttraining's binary_logloss: 0.222487\tvalid_1's binary_logloss: 0.337239\n"
     ]
    },
    {
     "name": "stderr",
     "output_type": "stream",
     "text": [
      "tune_min_child_samples, val_score: 0.328496:  20%|##        | 1/5 [00:00<00:00,  4.93it/s]"
     ]
    },
    {
     "name": "stdout",
     "output_type": "stream",
     "text": [
      "Training until validation scores don't improve for 100 rounds\n",
      "[100]\ttraining's binary_logloss: 0.00584035\tvalid_1's binary_logloss: 0.546657\n",
      "Early stopping, best iteration is:\n",
      "[6]\ttraining's binary_logloss: 0.252469\tvalid_1's binary_logloss: 0.341614\n"
     ]
    },
    {
     "name": "stderr",
     "output_type": "stream",
     "text": [
      "tune_min_child_samples, val_score: 0.328496:  40%|####      | 2/5 [00:00<00:00,  4.19it/s]"
     ]
    },
    {
     "name": "stdout",
     "output_type": "stream",
     "text": [
      "Training until validation scores don't improve for 100 rounds\n",
      "[100]\ttraining's binary_logloss: 0.025866\tvalid_1's binary_logloss: 0.479542\n",
      "Early stopping, best iteration is:\n",
      "[10]\ttraining's binary_logloss: 0.255567\tvalid_1's binary_logloss: 0.348705\n"
     ]
    },
    {
     "name": "stderr",
     "output_type": "stream",
     "text": [
      "tune_min_child_samples, val_score: 0.328496:  60%|######    | 3/5 [00:01<00:00,  3.31it/s]"
     ]
    },
    {
     "name": "stdout",
     "output_type": "stream",
     "text": [
      "Training until validation scores don't improve for 100 rounds\n",
      "[100]\ttraining's binary_logloss: 0.0951727\tvalid_1's binary_logloss: 0.365091\n",
      "Early stopping, best iteration is:\n",
      "[21]\ttraining's binary_logloss: 0.25046\tvalid_1's binary_logloss: 0.329891\n"
     ]
    },
    {
     "name": "stderr",
     "output_type": "stream",
     "text": [
      "tune_min_child_samples, val_score: 0.328496:  80%|########  | 4/5 [00:01<00:00,  2.59it/s]"
     ]
    },
    {
     "name": "stdout",
     "output_type": "stream",
     "text": [
      "Training until validation scores don't improve for 100 rounds\n",
      "[100]\ttraining's binary_logloss: 0.198825\tvalid_1's binary_logloss: 0.341549\n",
      "Early stopping, best iteration is:\n",
      "[51]\ttraining's binary_logloss: 0.245057\tvalid_1's binary_logloss: 0.328154\n"
     ]
    },
    {
     "name": "stderr",
     "output_type": "stream",
     "text": [
      "tune_min_child_samples, val_score: 0.328154: 100%|##########| 5/5 [00:01<00:00,  2.56it/s]\n"
     ]
    },
    {
     "name": "stdout",
     "output_type": "stream",
     "text": [
      "2020-03-24 19:33:03 Like ********************************************************************************\n",
      "Like\n",
      "n_pos_wanted 100\n",
      "2020-03-24 19:33:03 chunk 1\n",
      "dftrvl.shape: (1000, 28) dftrvl[tgtcol].mean(): 0.461\n",
      "{'train_pop': 1000, 'target_pop': 461, 'sampled_train_pop': 1000, 'sampled_target_pop': 461}\n",
      "{'objective': 'binary', 'metric': 'binary_logloss', 'verbosity': 0, 'boosting_type': 'gbdt'}\n"
     ]
    },
    {
     "name": "stderr",
     "output_type": "stream",
     "text": [
      "tune_feature_fraction, val_score: inf:   0%|          | 0/7 [00:00<?, ?it/s]"
     ]
    },
    {
     "name": "stdout",
     "output_type": "stream",
     "text": [
      "Training until validation scores don't improve for 100 rounds\n",
      "[100]\ttraining's binary_logloss: 0.106469\tvalid_1's binary_logloss: 0.691549\n",
      "Early stopping, best iteration is:\n",
      "[46]\ttraining's binary_logloss: 0.261255\tvalid_1's binary_logloss: 0.622063\n"
     ]
    },
    {
     "name": "stderr",
     "output_type": "stream",
     "text": [
      "tune_feature_fraction, val_score: 0.622063:  14%|#4        | 1/7 [00:00<00:03,  1.75it/s]"
     ]
    },
    {
     "name": "stdout",
     "output_type": "stream",
     "text": [
      "Training until validation scores don't improve for 100 rounds\n",
      "[100]\ttraining's binary_logloss: 0.097388\tvalid_1's binary_logloss: 0.670022\n",
      "Early stopping, best iteration is:\n",
      "[30]\ttraining's binary_logloss: 0.34293\tvalid_1's binary_logloss: 0.608247\n"
     ]
    },
    {
     "name": "stderr",
     "output_type": "stream",
     "text": [
      "tune_feature_fraction, val_score: 0.608247:  29%|##8       | 2/7 [00:01<00:02,  1.88it/s]"
     ]
    },
    {
     "name": "stdout",
     "output_type": "stream",
     "text": [
      "Training until validation scores don't improve for 100 rounds\n",
      "[100]\ttraining's binary_logloss: 0.0906153\tvalid_1's binary_logloss: 0.672018\n",
      "Early stopping, best iteration is:\n",
      "[30]\ttraining's binary_logloss: 0.33446\tvalid_1's binary_logloss: 0.611374\n"
     ]
    },
    {
     "name": "stderr",
     "output_type": "stream",
     "text": [
      "tune_feature_fraction, val_score: 0.608247:  43%|####2     | 3/7 [00:01<00:01,  2.16it/s]"
     ]
    },
    {
     "name": "stdout",
     "output_type": "stream",
     "text": [
      "Training until validation scores don't improve for 100 rounds\n",
      "[100]\ttraining's binary_logloss: 0.086105\tvalid_1's binary_logloss: 0.64178\n",
      "Early stopping, best iteration is:\n",
      "[37]\ttraining's binary_logloss: 0.281414\tvalid_1's binary_logloss: 0.602851\n"
     ]
    },
    {
     "name": "stderr",
     "output_type": "stream",
     "text": [
      "tune_feature_fraction, val_score: 0.602851:  57%|#####7    | 4/7 [00:01<00:01,  2.38it/s]"
     ]
    },
    {
     "name": "stdout",
     "output_type": "stream",
     "text": [
      "Training until validation scores don't improve for 100 rounds\n",
      "[100]\ttraining's binary_logloss: 0.0801831\tvalid_1's binary_logloss: 0.715008\n",
      "Early stopping, best iteration is:\n",
      "[12]\ttraining's binary_logloss: 0.484908\tvalid_1's binary_logloss: 0.619279\n"
     ]
    },
    {
     "name": "stderr",
     "output_type": "stream",
     "text": [
      "tune_feature_fraction, val_score: 0.602851:  71%|#######1  | 5/7 [00:02<00:00,  2.63it/s]"
     ]
    },
    {
     "name": "stdout",
     "output_type": "stream",
     "text": [
      "Training until validation scores don't improve for 100 rounds\n",
      "[100]\ttraining's binary_logloss: 0.0773548\tvalid_1's binary_logloss: 0.728413\n",
      "Early stopping, best iteration is:\n",
      "[20]\ttraining's binary_logloss: 0.392993\tvalid_1's binary_logloss: 0.62142\n"
     ]
    },
    {
     "name": "stderr",
     "output_type": "stream",
     "text": [
      "tune_feature_fraction, val_score: 0.602851:  86%|########5 | 6/7 [00:02<00:00,  2.79it/s]"
     ]
    },
    {
     "name": "stdout",
     "output_type": "stream",
     "text": [
      "Training until validation scores don't improve for 100 rounds\n",
      "[100]\ttraining's binary_logloss: 0.0731083\tvalid_1's binary_logloss: 0.712378\n",
      "Early stopping, best iteration is:\n",
      "[20]\ttraining's binary_logloss: 0.38829\tvalid_1's binary_logloss: 0.626533\n"
     ]
    },
    {
     "name": "stderr",
     "output_type": "stream",
     "text": [
      "tune_feature_fraction, val_score: 0.602851: 100%|##########| 7/7 [00:02<00:00,  2.65it/s]\n",
      "tune_num_leaves, val_score: 0.602851:   0%|          | 0/20 [00:00<?, ?it/s]"
     ]
    },
    {
     "name": "stdout",
     "output_type": "stream",
     "text": [
      "Training until validation scores don't improve for 100 rounds\n",
      "[100]\ttraining's binary_logloss: 0.0814206\tvalid_1's binary_logloss: 0.689623\n",
      "Early stopping, best iteration is:\n",
      "[28]\ttraining's binary_logloss: 0.336724\tvalid_1's binary_logloss: 0.616812\n"
     ]
    },
    {
     "name": "stderr",
     "output_type": "stream",
     "text": [
      "tune_num_leaves, val_score: 0.602851:   5%|5         | 1/20 [00:00<00:04,  4.05it/s]"
     ]
    },
    {
     "name": "stdout",
     "output_type": "stream",
     "text": [
      "Training until validation scores don't improve for 100 rounds\n",
      "[100]\ttraining's binary_logloss: 0.0814206\tvalid_1's binary_logloss: 0.689623\n",
      "Early stopping, best iteration is:\n",
      "[28]\ttraining's binary_logloss: 0.336724\tvalid_1's binary_logloss: 0.616812\n"
     ]
    },
    {
     "name": "stderr",
     "output_type": "stream",
     "text": [
      "tune_num_leaves, val_score: 0.602851:  10%|#         | 2/20 [00:00<00:05,  3.57it/s]"
     ]
    },
    {
     "name": "stdout",
     "output_type": "stream",
     "text": [
      "Training until validation scores don't improve for 100 rounds\n",
      "[100]\ttraining's binary_logloss: 0.0814206\tvalid_1's binary_logloss: 0.689623\n",
      "Early stopping, best iteration is:\n",
      "[28]\ttraining's binary_logloss: 0.336724\tvalid_1's binary_logloss: 0.616812\n"
     ]
    },
    {
     "name": "stderr",
     "output_type": "stream",
     "text": [
      "tune_num_leaves, val_score: 0.602851:  15%|#5        | 3/20 [00:01<00:05,  3.30it/s]"
     ]
    },
    {
     "name": "stdout",
     "output_type": "stream",
     "text": [
      "Training until validation scores don't improve for 100 rounds\n",
      "[100]\ttraining's binary_logloss: 0.0814206\tvalid_1's binary_logloss: 0.689623\n",
      "Early stopping, best iteration is:\n",
      "[28]\ttraining's binary_logloss: 0.336724\tvalid_1's binary_logloss: 0.616812\n"
     ]
    },
    {
     "name": "stderr",
     "output_type": "stream",
     "text": [
      "tune_num_leaves, val_score: 0.602851:  20%|##        | 4/20 [00:01<00:05,  3.08it/s]"
     ]
    },
    {
     "name": "stdout",
     "output_type": "stream",
     "text": [
      "Training until validation scores don't improve for 100 rounds\n",
      "[100]\ttraining's binary_logloss: 0.221777\tvalid_1's binary_logloss: 0.642334\n",
      "Early stopping, best iteration is:\n",
      "[44]\ttraining's binary_logloss: 0.378836\tvalid_1's binary_logloss: 0.606862\n"
     ]
    },
    {
     "name": "stderr",
     "output_type": "stream",
     "text": [
      "tune_num_leaves, val_score: 0.602851:  25%|##5       | 5/20 [00:01<00:04,  3.29it/s]"
     ]
    },
    {
     "name": "stdout",
     "output_type": "stream",
     "text": [
      "Training until validation scores don't improve for 100 rounds\n",
      "[100]\ttraining's binary_logloss: 0.0814206\tvalid_1's binary_logloss: 0.689623\n",
      "Early stopping, best iteration is:\n",
      "[28]\ttraining's binary_logloss: 0.336724\tvalid_1's binary_logloss: 0.616812\n"
     ]
    },
    {
     "name": "stderr",
     "output_type": "stream",
     "text": [
      "tune_num_leaves, val_score: 0.602851:  30%|###       | 6/20 [00:02<00:04,  3.13it/s]"
     ]
    },
    {
     "name": "stdout",
     "output_type": "stream",
     "text": [
      "Training until validation scores don't improve for 100 rounds\n",
      "[100]\ttraining's binary_logloss: 0.0814206\tvalid_1's binary_logloss: 0.689623\n",
      "Early stopping, best iteration is:\n",
      "[28]\ttraining's binary_logloss: 0.336724\tvalid_1's binary_logloss: 0.616812\n"
     ]
    },
    {
     "name": "stderr",
     "output_type": "stream",
     "text": [
      "tune_num_leaves, val_score: 0.602851:  35%|###5      | 7/20 [00:02<00:04,  3.01it/s]"
     ]
    },
    {
     "name": "stdout",
     "output_type": "stream",
     "text": [
      "Training until validation scores don't improve for 100 rounds\n",
      "[100]\ttraining's binary_logloss: 0.0814206\tvalid_1's binary_logloss: 0.689623\n",
      "Early stopping, best iteration is:\n",
      "[28]\ttraining's binary_logloss: 0.336724\tvalid_1's binary_logloss: 0.616812\n"
     ]
    },
    {
     "name": "stderr",
     "output_type": "stream",
     "text": [
      "tune_num_leaves, val_score: 0.602851:  40%|####      | 8/20 [00:02<00:04,  2.94it/s]"
     ]
    },
    {
     "name": "stdout",
     "output_type": "stream",
     "text": [
      "Training until validation scores don't improve for 100 rounds\n",
      "[100]\ttraining's binary_logloss: 0.0814206\tvalid_1's binary_logloss: 0.689623\n",
      "Early stopping, best iteration is:\n",
      "[28]\ttraining's binary_logloss: 0.336724\tvalid_1's binary_logloss: 0.616812\n"
     ]
    },
    {
     "name": "stderr",
     "output_type": "stream",
     "text": [
      "tune_num_leaves, val_score: 0.602851:  45%|####5     | 9/20 [00:03<00:03,  2.89it/s]"
     ]
    },
    {
     "name": "stdout",
     "output_type": "stream",
     "text": [
      "Training until validation scores don't improve for 100 rounds\n",
      "[100]\ttraining's binary_logloss: 0.0814206\tvalid_1's binary_logloss: 0.689623\n",
      "Early stopping, best iteration is:\n",
      "[28]\ttraining's binary_logloss: 0.336724\tvalid_1's binary_logloss: 0.616812\n"
     ]
    },
    {
     "name": "stderr",
     "output_type": "stream",
     "text": [
      "tune_num_leaves, val_score: 0.602851:  50%|#####     | 10/20 [00:03<00:03,  2.85it/s]"
     ]
    },
    {
     "name": "stdout",
     "output_type": "stream",
     "text": [
      "Training until validation scores don't improve for 100 rounds\n",
      "[100]\ttraining's binary_logloss: 0.260127\tvalid_1's binary_logloss: 0.649725\n",
      "Early stopping, best iteration is:\n",
      "[26]\ttraining's binary_logloss: 0.481211\tvalid_1's binary_logloss: 0.616861\n"
     ]
    },
    {
     "name": "stderr",
     "output_type": "stream",
     "text": [
      "tune_num_leaves, val_score: 0.602851:  55%|#####5    | 11/20 [00:03<00:02,  3.15it/s]"
     ]
    },
    {
     "name": "stdout",
     "output_type": "stream",
     "text": [
      "Training until validation scores don't improve for 100 rounds\n",
      "[100]\ttraining's binary_logloss: 0.342107\tvalid_1's binary_logloss: 0.63937\n",
      "Early stopping, best iteration is:\n",
      "[24]\ttraining's binary_logloss: 0.530602\tvalid_1's binary_logloss: 0.614305\n"
     ]
    },
    {
     "name": "stderr",
     "output_type": "stream",
     "text": [
      "tune_num_leaves, val_score: 0.602851:  60%|######    | 12/20 [00:03<00:02,  3.49it/s]"
     ]
    },
    {
     "name": "stdout",
     "output_type": "stream",
     "text": [
      "Training until validation scores don't improve for 100 rounds\n",
      "[100]\ttraining's binary_logloss: 0.602695\tvalid_1's binary_logloss: 0.611351\n",
      "[200]\ttraining's binary_logloss: 0.578745\tvalid_1's binary_logloss: 0.607169\n",
      "[300]\ttraining's binary_logloss: 0.563654\tvalid_1's binary_logloss: 0.60598\n",
      "Early stopping, best iteration is:\n",
      "[228]\ttraining's binary_logloss: 0.57392\tvalid_1's binary_logloss: 0.605357\n"
     ]
    },
    {
     "name": "stderr",
     "output_type": "stream",
     "text": [
      "tune_num_leaves, val_score: 0.602851:  65%|######5   | 13/20 [00:04<00:01,  3.67it/s]"
     ]
    },
    {
     "name": "stdout",
     "output_type": "stream",
     "text": [
      "Training until validation scores don't improve for 100 rounds\n",
      "[100]\ttraining's binary_logloss: 0.0814206\tvalid_1's binary_logloss: 0.689623\n",
      "Early stopping, best iteration is:\n",
      "[28]\ttraining's binary_logloss: 0.336724\tvalid_1's binary_logloss: 0.616812\n"
     ]
    },
    {
     "name": "stderr",
     "output_type": "stream",
     "text": [
      "tune_num_leaves, val_score: 0.602851:  70%|#######   | 14/20 [00:04<00:01,  3.35it/s]"
     ]
    },
    {
     "name": "stdout",
     "output_type": "stream",
     "text": [
      "Training until validation scores don't improve for 100 rounds\n",
      "[100]\ttraining's binary_logloss: 0.0814206\tvalid_1's binary_logloss: 0.689623\n",
      "Early stopping, best iteration is:\n",
      "[28]\ttraining's binary_logloss: 0.336724\tvalid_1's binary_logloss: 0.616812\n"
     ]
    },
    {
     "name": "stderr",
     "output_type": "stream",
     "text": [
      "tune_num_leaves, val_score: 0.602851:  75%|#######5  | 15/20 [00:04<00:01,  3.16it/s]"
     ]
    },
    {
     "name": "stdout",
     "output_type": "stream",
     "text": [
      "Training until validation scores don't improve for 100 rounds\n",
      "[100]\ttraining's binary_logloss: 0.602695\tvalid_1's binary_logloss: 0.611351\n",
      "[200]\ttraining's binary_logloss: 0.578745\tvalid_1's binary_logloss: 0.607169\n",
      "[300]\ttraining's binary_logloss: 0.563654\tvalid_1's binary_logloss: 0.60598\n",
      "Early stopping, best iteration is:\n",
      "[228]\ttraining's binary_logloss: 0.57392\tvalid_1's binary_logloss: 0.605357\n"
     ]
    },
    {
     "name": "stderr",
     "output_type": "stream",
     "text": [
      "tune_num_leaves, val_score: 0.602851:  80%|########  | 16/20 [00:05<00:01,  3.40it/s]"
     ]
    },
    {
     "name": "stdout",
     "output_type": "stream",
     "text": [
      "Training until validation scores don't improve for 100 rounds\n",
      "[100]\ttraining's binary_logloss: 0.0814206\tvalid_1's binary_logloss: 0.689623\n",
      "Early stopping, best iteration is:\n",
      "[28]\ttraining's binary_logloss: 0.336724\tvalid_1's binary_logloss: 0.616812\n"
     ]
    },
    {
     "name": "stderr",
     "output_type": "stream",
     "text": [
      "tune_num_leaves, val_score: 0.602851:  85%|########5 | 17/20 [00:05<00:00,  3.18it/s]"
     ]
    },
    {
     "name": "stdout",
     "output_type": "stream",
     "text": [
      "Training until validation scores don't improve for 100 rounds\n",
      "[100]\ttraining's binary_logloss: 0.602695\tvalid_1's binary_logloss: 0.611351\n",
      "[200]\ttraining's binary_logloss: 0.578745\tvalid_1's binary_logloss: 0.607169\n",
      "[300]\ttraining's binary_logloss: 0.563654\tvalid_1's binary_logloss: 0.60598\n",
      "Early stopping, best iteration is:\n",
      "[228]\ttraining's binary_logloss: 0.57392\tvalid_1's binary_logloss: 0.605357\n"
     ]
    },
    {
     "name": "stderr",
     "output_type": "stream",
     "text": [
      "tune_num_leaves, val_score: 0.602851:  90%|######### | 18/20 [00:05<00:00,  3.39it/s]"
     ]
    },
    {
     "name": "stdout",
     "output_type": "stream",
     "text": [
      "Training until validation scores don't improve for 100 rounds\n",
      "[100]\ttraining's binary_logloss: 0.0814206\tvalid_1's binary_logloss: 0.689623\n",
      "Early stopping, best iteration is:\n",
      "[28]\ttraining's binary_logloss: 0.336724\tvalid_1's binary_logloss: 0.616812\n"
     ]
    },
    {
     "name": "stderr",
     "output_type": "stream",
     "text": [
      "tune_num_leaves, val_score: 0.602851:  95%|#########5| 19/20 [00:06<00:00,  3.12it/s]"
     ]
    },
    {
     "name": "stdout",
     "output_type": "stream",
     "text": [
      "Training until validation scores don't improve for 100 rounds\n",
      "[100]\ttraining's binary_logloss: 0.0814206\tvalid_1's binary_logloss: 0.689623\n",
      "Early stopping, best iteration is:\n",
      "[28]\ttraining's binary_logloss: 0.336724\tvalid_1's binary_logloss: 0.616812\n"
     ]
    },
    {
     "name": "stderr",
     "output_type": "stream",
     "text": [
      "tune_num_leaves, val_score: 0.602851: 100%|##########| 20/20 [00:06<00:00,  3.07it/s]\n",
      "tune_bagging_fraction_and_bagging_freq, val_score: 0.602851:   0%|          | 0/10 [00:00<?, ?it/s]"
     ]
    },
    {
     "name": "stdout",
     "output_type": "stream",
     "text": [
      "Training until validation scores don't improve for 100 rounds\n",
      "[100]\ttraining's binary_logloss: 0.159672\tvalid_1's binary_logloss: 0.611229\n",
      "Early stopping, best iteration is:\n",
      "[47]\ttraining's binary_logloss: 0.316186\tvalid_1's binary_logloss: 0.588718\n"
     ]
    },
    {
     "name": "stderr",
     "output_type": "stream",
     "text": [
      "tune_bagging_fraction_and_bagging_freq, val_score: 0.588718:  10%|#         | 1/10 [00:00<00:02,  4.24it/s]"
     ]
    },
    {
     "name": "stdout",
     "output_type": "stream",
     "text": [
      "Training until validation scores don't improve for 100 rounds\n",
      "[100]\ttraining's binary_logloss: 0.247128\tvalid_1's binary_logloss: 0.652781\n",
      "Early stopping, best iteration is:\n",
      "[34]\ttraining's binary_logloss: 0.435699\tvalid_1's binary_logloss: 0.598095\n"
     ]
    },
    {
     "name": "stderr",
     "output_type": "stream",
     "text": [
      "tune_bagging_fraction_and_bagging_freq, val_score: 0.588718:  20%|##        | 2/10 [00:00<00:02,  4.00it/s]"
     ]
    },
    {
     "name": "stdout",
     "output_type": "stream",
     "text": [
      "Training until validation scores don't improve for 100 rounds\n",
      "[100]\ttraining's binary_logloss: 0.208976\tvalid_1's binary_logloss: 0.657987\n",
      "Early stopping, best iteration is:\n",
      "[35]\ttraining's binary_logloss: 0.415389\tvalid_1's binary_logloss: 0.608664\n"
     ]
    },
    {
     "name": "stderr",
     "output_type": "stream",
     "text": [
      "tune_bagging_fraction_and_bagging_freq, val_score: 0.588718:  30%|###       | 3/10 [00:00<00:01,  3.80it/s]"
     ]
    },
    {
     "name": "stdout",
     "output_type": "stream",
     "text": [
      "Training until validation scores don't improve for 100 rounds\n",
      "[100]\ttraining's binary_logloss: 0.236972\tvalid_1's binary_logloss: 0.637341\n",
      "Early stopping, best iteration is:\n",
      "[49]\ttraining's binary_logloss: 0.378218\tvalid_1's binary_logloss: 0.612021\n"
     ]
    },
    {
     "name": "stderr",
     "output_type": "stream",
     "text": [
      "tune_bagging_fraction_and_bagging_freq, val_score: 0.588718:  40%|####      | 4/10 [00:01<00:01,  3.64it/s]"
     ]
    },
    {
     "name": "stdout",
     "output_type": "stream",
     "text": [
      "Training until validation scores don't improve for 100 rounds\n",
      "[100]\ttraining's binary_logloss: 0.128271\tvalid_1's binary_logloss: 0.677401\n",
      "Early stopping, best iteration is:\n",
      "[32]\ttraining's binary_logloss: 0.362444\tvalid_1's binary_logloss: 0.611537\n"
     ]
    },
    {
     "name": "stderr",
     "output_type": "stream",
     "text": [
      "tune_bagging_fraction_and_bagging_freq, val_score: 0.588718:  50%|#####     | 5/10 [00:01<00:01,  3.45it/s]"
     ]
    },
    {
     "name": "stdout",
     "output_type": "stream",
     "text": [
      "Training until validation scores don't improve for 100 rounds\n",
      "[100]\ttraining's binary_logloss: 0.183838\tvalid_1's binary_logloss: 0.645027\n",
      "Early stopping, best iteration is:\n",
      "[26]\ttraining's binary_logloss: 0.443517\tvalid_1's binary_logloss: 0.595528\n"
     ]
    },
    {
     "name": "stderr",
     "output_type": "stream",
     "text": [
      "tune_bagging_fraction_and_bagging_freq, val_score: 0.588718:  60%|######    | 6/10 [00:01<00:01,  3.45it/s]"
     ]
    },
    {
     "name": "stdout",
     "output_type": "stream",
     "text": [
      "Training until validation scores don't improve for 100 rounds\n",
      "[100]\ttraining's binary_logloss: 0.273493\tvalid_1's binary_logloss: 0.648992\n",
      "Early stopping, best iteration is:\n",
      "[60]\ttraining's binary_logloss: 0.369776\tvalid_1's binary_logloss: 0.612582\n"
     ]
    },
    {
     "name": "stderr",
     "output_type": "stream",
     "text": [
      "tune_bagging_fraction_and_bagging_freq, val_score: 0.588718:  70%|#######   | 7/10 [00:02<00:00,  3.34it/s]"
     ]
    },
    {
     "name": "stdout",
     "output_type": "stream",
     "text": [
      "Training until validation scores don't improve for 100 rounds\n",
      "[100]\ttraining's binary_logloss: 0.106309\tvalid_1's binary_logloss: 0.676958\n",
      "Early stopping, best iteration is:\n",
      "[22]\ttraining's binary_logloss: 0.409066\tvalid_1's binary_logloss: 0.624477\n"
     ]
    },
    {
     "name": "stderr",
     "output_type": "stream",
     "text": [
      "tune_bagging_fraction_and_bagging_freq, val_score: 0.588718:  80%|########  | 8/10 [00:02<00:00,  3.29it/s]"
     ]
    },
    {
     "name": "stdout",
     "output_type": "stream",
     "text": [
      "Training until validation scores don't improve for 100 rounds\n",
      "[100]\ttraining's binary_logloss: 0.098773\tvalid_1's binary_logloss: 0.693518\n",
      "Early stopping, best iteration is:\n",
      "[11]\ttraining's binary_logloss: 0.513751\tvalid_1's binary_logloss: 0.619915\n"
     ]
    },
    {
     "name": "stderr",
     "output_type": "stream",
     "text": [
      "tune_bagging_fraction_and_bagging_freq, val_score: 0.588718:  90%|######### | 9/10 [00:02<00:00,  3.28it/s]"
     ]
    },
    {
     "name": "stdout",
     "output_type": "stream",
     "text": [
      "Training until validation scores don't improve for 100 rounds\n",
      "[100]\ttraining's binary_logloss: 0.151676\tvalid_1's binary_logloss: 0.642182\n",
      "Early stopping, best iteration is:\n",
      "[38]\ttraining's binary_logloss: 0.348999\tvalid_1's binary_logloss: 0.580576\n"
     ]
    },
    {
     "name": "stderr",
     "output_type": "stream",
     "text": [
      "tune_bagging_fraction_and_bagging_freq, val_score: 0.580576: 100%|##########| 10/10 [00:03<00:00,  3.23it/s]\n",
      "tune_feature_fraction, val_score: 0.580576:   0%|          | 0/6 [00:00<?, ?it/s]"
     ]
    },
    {
     "name": "stdout",
     "output_type": "stream",
     "text": [
      "Training until validation scores don't improve for 100 rounds\n",
      "[100]\ttraining's binary_logloss: 0.150231\tvalid_1's binary_logloss: 0.634131\n",
      "Early stopping, best iteration is:\n",
      "[30]\ttraining's binary_logloss: 0.396474\tvalid_1's binary_logloss: 0.59431\n"
     ]
    },
    {
     "name": "stderr",
     "output_type": "stream",
     "text": [
      "tune_feature_fraction, val_score: 0.580576:  17%|#6        | 1/6 [00:00<00:01,  4.78it/s]"
     ]
    },
    {
     "name": "stdout",
     "output_type": "stream",
     "text": [
      "Training until validation scores don't improve for 100 rounds\n",
      "[100]\ttraining's binary_logloss: 0.150231\tvalid_1's binary_logloss: 0.634131\n",
      "Early stopping, best iteration is:\n",
      "[30]\ttraining's binary_logloss: 0.396474\tvalid_1's binary_logloss: 0.59431\n"
     ]
    },
    {
     "name": "stderr",
     "output_type": "stream",
     "text": [
      "tune_feature_fraction, val_score: 0.580576:  33%|###3      | 2/6 [00:00<00:00,  4.17it/s]"
     ]
    },
    {
     "name": "stdout",
     "output_type": "stream",
     "text": [
      "Training until validation scores don't improve for 100 rounds\n",
      "[100]\ttraining's binary_logloss: 0.151676\tvalid_1's binary_logloss: 0.642182\n",
      "Early stopping, best iteration is:\n",
      "[38]\ttraining's binary_logloss: 0.348999\tvalid_1's binary_logloss: 0.580576\n"
     ]
    },
    {
     "name": "stderr",
     "output_type": "stream",
     "text": [
      "tune_feature_fraction, val_score: 0.580576:  50%|#####     | 3/6 [00:00<00:00,  3.82it/s]"
     ]
    },
    {
     "name": "stdout",
     "output_type": "stream",
     "text": [
      "Training until validation scores don't improve for 100 rounds\n",
      "[100]\ttraining's binary_logloss: 0.148066\tvalid_1's binary_logloss: 0.654182\n",
      "Early stopping, best iteration is:\n",
      "[23]\ttraining's binary_logloss: 0.432061\tvalid_1's binary_logloss: 0.604245\n"
     ]
    },
    {
     "name": "stderr",
     "output_type": "stream",
     "text": [
      "tune_feature_fraction, val_score: 0.580576:  67%|######6   | 4/6 [00:01<00:00,  3.68it/s]"
     ]
    },
    {
     "name": "stdout",
     "output_type": "stream",
     "text": [
      "Training until validation scores don't improve for 100 rounds\n",
      "[100]\ttraining's binary_logloss: 0.148066\tvalid_1's binary_logloss: 0.654182\n",
      "Early stopping, best iteration is:\n",
      "[23]\ttraining's binary_logloss: 0.432061\tvalid_1's binary_logloss: 0.604245\n"
     ]
    },
    {
     "name": "stderr",
     "output_type": "stream",
     "text": [
      "tune_feature_fraction, val_score: 0.580576:  83%|########3 | 5/6 [00:01<00:00,  3.56it/s]"
     ]
    },
    {
     "name": "stdout",
     "output_type": "stream",
     "text": [
      "Training until validation scores don't improve for 100 rounds\n",
      "[100]\ttraining's binary_logloss: 0.145373\tvalid_1's binary_logloss: 0.645757\n",
      "Early stopping, best iteration is:\n",
      "[40]\ttraining's binary_logloss: 0.330471\tvalid_1's binary_logloss: 0.599875\n"
     ]
    },
    {
     "name": "stderr",
     "output_type": "stream",
     "text": [
      "tune_feature_fraction, val_score: 0.580576: 100%|##########| 6/6 [00:01<00:00,  3.21it/s]\n",
      "tune_lambda_l1_and_lambda_l2, val_score: 0.580576:   0%|          | 0/20 [00:00<?, ?it/s]"
     ]
    },
    {
     "name": "stdout",
     "output_type": "stream",
     "text": [
      "Training until validation scores don't improve for 100 rounds\n",
      "[100]\ttraining's binary_logloss: 0.291436\tvalid_1's binary_logloss: 0.599913\n",
      "Early stopping, best iteration is:\n",
      "[51]\ttraining's binary_logloss: 0.411318\tvalid_1's binary_logloss: 0.59023\n"
     ]
    },
    {
     "name": "stderr",
     "output_type": "stream",
     "text": [
      "tune_lambda_l1_and_lambda_l2, val_score: 0.580576:   5%|5         | 1/20 [00:00<00:04,  4.73it/s]"
     ]
    },
    {
     "name": "stdout",
     "output_type": "stream",
     "text": [
      "Training until validation scores don't improve for 100 rounds\n",
      "[100]\ttraining's binary_logloss: 0.501575\tvalid_1's binary_logloss: 0.597599\n",
      "Early stopping, best iteration is:\n",
      "[68]\ttraining's binary_logloss: 0.530919\tvalid_1's binary_logloss: 0.593598\n"
     ]
    },
    {
     "name": "stderr",
     "output_type": "stream",
     "text": [
      "tune_lambda_l1_and_lambda_l2, val_score: 0.580576:  10%|#         | 2/20 [00:00<00:04,  4.31it/s]"
     ]
    },
    {
     "name": "stdout",
     "output_type": "stream",
     "text": [
      "Training until validation scores don't improve for 100 rounds\n",
      "[100]\ttraining's binary_logloss: 0.152731\tvalid_1's binary_logloss: 0.640601\n",
      "Early stopping, best iteration is:\n",
      "[38]\ttraining's binary_logloss: 0.349106\tvalid_1's binary_logloss: 0.580572\n"
     ]
    },
    {
     "name": "stderr",
     "output_type": "stream",
     "text": [
      "tune_lambda_l1_and_lambda_l2, val_score: 0.580572:  15%|#5        | 3/20 [00:00<00:04,  3.91it/s]"
     ]
    },
    {
     "name": "stdout",
     "output_type": "stream",
     "text": [
      "Training until validation scores don't improve for 100 rounds\n",
      "[100]\ttraining's binary_logloss: 0.151676\tvalid_1's binary_logloss: 0.642182\n",
      "Early stopping, best iteration is:\n",
      "[38]\ttraining's binary_logloss: 0.348999\tvalid_1's binary_logloss: 0.580576\n"
     ]
    },
    {
     "name": "stderr",
     "output_type": "stream",
     "text": [
      "tune_lambda_l1_and_lambda_l2, val_score: 0.580572:  20%|##        | 4/20 [00:01<00:04,  3.64it/s]"
     ]
    },
    {
     "name": "stdout",
     "output_type": "stream",
     "text": [
      "Training until validation scores don't improve for 100 rounds\n",
      "[100]\ttraining's binary_logloss: 0.151676\tvalid_1's binary_logloss: 0.642182\n",
      "Early stopping, best iteration is:\n",
      "[38]\ttraining's binary_logloss: 0.348999\tvalid_1's binary_logloss: 0.580576\n"
     ]
    },
    {
     "name": "stderr",
     "output_type": "stream",
     "text": [
      "tune_lambda_l1_and_lambda_l2, val_score: 0.580572:  25%|##5       | 5/20 [00:01<00:04,  3.48it/s]"
     ]
    },
    {
     "name": "stdout",
     "output_type": "stream",
     "text": [
      "Training until validation scores don't improve for 100 rounds\n",
      "[100]\ttraining's binary_logloss: 0.154268\tvalid_1's binary_logloss: 0.618046\n",
      "Early stopping, best iteration is:\n",
      "[28]\ttraining's binary_logloss: 0.406175\tvalid_1's binary_logloss: 0.581854\n"
     ]
    },
    {
     "name": "stderr",
     "output_type": "stream",
     "text": [
      "tune_lambda_l1_and_lambda_l2, val_score: 0.580572:  30%|###       | 6/20 [00:01<00:04,  3.44it/s]"
     ]
    },
    {
     "name": "stdout",
     "output_type": "stream",
     "text": [
      "Training until validation scores don't improve for 100 rounds\n",
      "[100]\ttraining's binary_logloss: 0.151676\tvalid_1's binary_logloss: 0.642182\n",
      "Early stopping, best iteration is:\n",
      "[38]\ttraining's binary_logloss: 0.348999\tvalid_1's binary_logloss: 0.580576\n"
     ]
    },
    {
     "name": "stderr",
     "output_type": "stream",
     "text": [
      "tune_lambda_l1_and_lambda_l2, val_score: 0.580572:  35%|###5      | 7/20 [00:02<00:03,  3.35it/s]"
     ]
    },
    {
     "name": "stdout",
     "output_type": "stream",
     "text": [
      "Training until validation scores don't improve for 100 rounds\n",
      "[100]\ttraining's binary_logloss: 0.15151\tvalid_1's binary_logloss: 0.643272\n",
      "Early stopping, best iteration is:\n",
      "[38]\ttraining's binary_logloss: 0.349014\tvalid_1's binary_logloss: 0.580576\n"
     ]
    },
    {
     "name": "stderr",
     "output_type": "stream",
     "text": [
      "tune_lambda_l1_and_lambda_l2, val_score: 0.580572:  40%|####      | 8/20 [00:02<00:03,  3.30it/s]"
     ]
    },
    {
     "name": "stdout",
     "output_type": "stream",
     "text": [
      "Training until validation scores don't improve for 100 rounds\n",
      "[100]\ttraining's binary_logloss: 0.151712\tvalid_1's binary_logloss: 0.642158\n",
      "Early stopping, best iteration is:\n",
      "[38]\ttraining's binary_logloss: 0.349025\tvalid_1's binary_logloss: 0.580575\n"
     ]
    },
    {
     "name": "stderr",
     "output_type": "stream",
     "text": [
      "tune_lambda_l1_and_lambda_l2, val_score: 0.580572:  45%|####5     | 9/20 [00:02<00:03,  3.13it/s]"
     ]
    },
    {
     "name": "stdout",
     "output_type": "stream",
     "text": [
      "Training until validation scores don't improve for 100 rounds\n",
      "[100]\ttraining's binary_logloss: 0.151514\tvalid_1's binary_logloss: 0.64327\n",
      "Early stopping, best iteration is:\n",
      "[38]\ttraining's binary_logloss: 0.349016\tvalid_1's binary_logloss: 0.580575\n"
     ]
    },
    {
     "name": "stderr",
     "output_type": "stream",
     "text": [
      "tune_lambda_l1_and_lambda_l2, val_score: 0.580572:  50%|#####     | 10/20 [00:03<00:03,  3.06it/s]"
     ]
    },
    {
     "name": "stdout",
     "output_type": "stream",
     "text": [
      "Training until validation scores don't improve for 100 rounds\n",
      "[100]\ttraining's binary_logloss: 0.16391\tvalid_1's binary_logloss: 0.654396\n",
      "Early stopping, best iteration is:\n",
      "[37]\ttraining's binary_logloss: 0.359749\tvalid_1's binary_logloss: 0.596659\n"
     ]
    },
    {
     "name": "stderr",
     "output_type": "stream",
     "text": [
      "tune_lambda_l1_and_lambda_l2, val_score: 0.580572:  55%|#####5    | 11/20 [00:03<00:02,  3.06it/s]"
     ]
    },
    {
     "name": "stdout",
     "output_type": "stream",
     "text": [
      "Training until validation scores don't improve for 100 rounds\n",
      "[100]\ttraining's binary_logloss: 0.151709\tvalid_1's binary_logloss: 0.642161\n",
      "Early stopping, best iteration is:\n",
      "[38]\ttraining's binary_logloss: 0.349022\tvalid_1's binary_logloss: 0.580575\n"
     ]
    },
    {
     "name": "stderr",
     "output_type": "stream",
     "text": [
      "tune_lambda_l1_and_lambda_l2, val_score: 0.580572:  60%|######    | 12/20 [00:03<00:02,  3.06it/s]"
     ]
    },
    {
     "name": "stdout",
     "output_type": "stream",
     "text": [
      "Training until validation scores don't improve for 100 rounds\n",
      "[100]\ttraining's binary_logloss: 0.153632\tvalid_1's binary_logloss: 0.651781\n",
      "Early stopping, best iteration is:\n",
      "[35]\ttraining's binary_logloss: 0.365361\tvalid_1's binary_logloss: 0.596546\n"
     ]
    },
    {
     "name": "stderr",
     "output_type": "stream",
     "text": [
      "tune_lambda_l1_and_lambda_l2, val_score: 0.580572:  65%|######5   | 13/20 [00:04<00:02,  3.09it/s]"
     ]
    },
    {
     "name": "stdout",
     "output_type": "stream",
     "text": [
      "Training until validation scores don't improve for 100 rounds\n",
      "[100]\ttraining's binary_logloss: 0.15168\tvalid_1's binary_logloss: 0.64218\n",
      "Early stopping, best iteration is:\n",
      "[38]\ttraining's binary_logloss: 0.349002\tvalid_1's binary_logloss: 0.580576\n"
     ]
    },
    {
     "name": "stderr",
     "output_type": "stream",
     "text": [
      "tune_lambda_l1_and_lambda_l2, val_score: 0.580572:  70%|#######   | 14/20 [00:04<00:01,  3.08it/s]"
     ]
    },
    {
     "name": "stdout",
     "output_type": "stream",
     "text": [
      "Training until validation scores don't improve for 100 rounds\n",
      "[100]\ttraining's binary_logloss: 0.151681\tvalid_1's binary_logloss: 0.642179\n",
      "Early stopping, best iteration is:\n",
      "[38]\ttraining's binary_logloss: 0.349003\tvalid_1's binary_logloss: 0.580576\n"
     ]
    },
    {
     "name": "stderr",
     "output_type": "stream",
     "text": [
      "tune_lambda_l1_and_lambda_l2, val_score: 0.580572:  75%|#######5  | 15/20 [00:04<00:01,  3.08it/s]"
     ]
    },
    {
     "name": "stdout",
     "output_type": "stream",
     "text": [
      "Training until validation scores don't improve for 100 rounds\n",
      "[100]\ttraining's binary_logloss: 0.151953\tvalid_1's binary_logloss: 0.641896\n",
      "Early stopping, best iteration is:\n",
      "[38]\ttraining's binary_logloss: 0.349225\tvalid_1's binary_logloss: 0.580569\n"
     ]
    },
    {
     "name": "stderr",
     "output_type": "stream",
     "text": [
      "tune_lambda_l1_and_lambda_l2, val_score: 0.580569:  80%|########  | 16/20 [00:05<00:01,  3.07it/s]"
     ]
    },
    {
     "name": "stdout",
     "output_type": "stream",
     "text": [
      "Training until validation scores don't improve for 100 rounds\n",
      "[100]\ttraining's binary_logloss: 0.151832\tvalid_1's binary_logloss: 0.628055\n",
      "Early stopping, best iteration is:\n",
      "[35]\ttraining's binary_logloss: 0.365071\tvalid_1's binary_logloss: 0.596561\n"
     ]
    },
    {
     "name": "stderr",
     "output_type": "stream",
     "text": [
      "tune_lambda_l1_and_lambda_l2, val_score: 0.580569:  85%|########5 | 17/20 [00:05<00:00,  3.08it/s]"
     ]
    },
    {
     "name": "stdout",
     "output_type": "stream",
     "text": [
      "Training until validation scores don't improve for 100 rounds\n",
      "[100]\ttraining's binary_logloss: 0.280972\tvalid_1's binary_logloss: 0.627127\n",
      "Early stopping, best iteration is:\n",
      "[42]\ttraining's binary_logloss: 0.434359\tvalid_1's binary_logloss: 0.608599\n"
     ]
    },
    {
     "name": "stderr",
     "output_type": "stream",
     "text": [
      "tune_lambda_l1_and_lambda_l2, val_score: 0.580569:  90%|######### | 18/20 [00:05<00:00,  3.08it/s]"
     ]
    },
    {
     "name": "stdout",
     "output_type": "stream",
     "text": [
      "Training until validation scores don't improve for 100 rounds\n",
      "[100]\ttraining's binary_logloss: 0.162927\tvalid_1's binary_logloss: 0.619404\n",
      "Early stopping, best iteration is:\n",
      "[35]\ttraining's binary_logloss: 0.370622\tvalid_1's binary_logloss: 0.590631\n"
     ]
    },
    {
     "name": "stderr",
     "output_type": "stream",
     "text": [
      "tune_lambda_l1_and_lambda_l2, val_score: 0.580569:  95%|#########5| 19/20 [00:06<00:00,  3.09it/s]"
     ]
    },
    {
     "name": "stdout",
     "output_type": "stream",
     "text": [
      "Training until validation scores don't improve for 100 rounds\n",
      "[100]\ttraining's binary_logloss: 0.173502\tvalid_1's binary_logloss: 0.656801\n",
      "Early stopping, best iteration is:\n",
      "[24]\ttraining's binary_logloss: 0.44711\tvalid_1's binary_logloss: 0.600277\n"
     ]
    },
    {
     "name": "stderr",
     "output_type": "stream",
     "text": [
      "tune_lambda_l1_and_lambda_l2, val_score: 0.580569: 100%|##########| 20/20 [00:06<00:00,  3.12it/s]\n",
      "tune_min_child_samples, val_score: 0.580569:   0%|          | 0/5 [00:00<?, ?it/s]"
     ]
    },
    {
     "name": "stdout",
     "output_type": "stream",
     "text": [
      "Training until validation scores don't improve for 100 rounds\n",
      "[100]\ttraining's binary_logloss: 0.0630124\tvalid_1's binary_logloss: 0.672131\n",
      "Early stopping, best iteration is:\n",
      "[37]\ttraining's binary_logloss: 0.244952\tvalid_1's binary_logloss: 0.608259\n"
     ]
    },
    {
     "name": "stderr",
     "output_type": "stream",
     "text": [
      "tune_min_child_samples, val_score: 0.580569:  20%|##        | 1/5 [00:00<00:01,  3.89it/s]"
     ]
    },
    {
     "name": "stdout",
     "output_type": "stream",
     "text": [
      "Training until validation scores don't improve for 100 rounds\n",
      "[100]\ttraining's binary_logloss: 0.0714646\tvalid_1's binary_logloss: 0.674193\n",
      "Early stopping, best iteration is:\n",
      "[32]\ttraining's binary_logloss: 0.29122\tvalid_1's binary_logloss: 0.596913\n"
     ]
    },
    {
     "name": "stderr",
     "output_type": "stream",
     "text": [
      "tune_min_child_samples, val_score: 0.580569:  40%|####      | 2/5 [00:00<00:00,  3.55it/s]"
     ]
    },
    {
     "name": "stdout",
     "output_type": "stream",
     "text": [
      "Training until validation scores don't improve for 100 rounds\n",
      "[100]\ttraining's binary_logloss: 0.206841\tvalid_1's binary_logloss: 0.621381\n",
      "Early stopping, best iteration is:\n",
      "[18]\ttraining's binary_logloss: 0.508735\tvalid_1's binary_logloss: 0.611209\n"
     ]
    },
    {
     "name": "stderr",
     "output_type": "stream",
     "text": [
      "tune_min_child_samples, val_score: 0.580569:  60%|######    | 3/5 [00:00<00:00,  3.59it/s]"
     ]
    },
    {
     "name": "stdout",
     "output_type": "stream",
     "text": [
      "Training until validation scores don't improve for 100 rounds\n",
      "[100]\ttraining's binary_logloss: 0.393067\tvalid_1's binary_logloss: 0.594212\n",
      "Early stopping, best iteration is:\n",
      "[58]\ttraining's binary_logloss: 0.464639\tvalid_1's binary_logloss: 0.576751\n"
     ]
    },
    {
     "name": "stderr",
     "output_type": "stream",
     "text": [
      "tune_min_child_samples, val_score: 0.576751:  80%|########  | 4/5 [00:01<00:00,  3.65it/s]"
     ]
    },
    {
     "name": "stdout",
     "output_type": "stream",
     "text": [
      "Training until validation scores don't improve for 100 rounds\n",
      "[100]\ttraining's binary_logloss: 0.524166\tvalid_1's binary_logloss: 0.63162\n",
      "Early stopping, best iteration is:\n",
      "[35]\ttraining's binary_logloss: 0.589346\tvalid_1's binary_logloss: 0.617241\n"
     ]
    },
    {
     "name": "stderr",
     "output_type": "stream",
     "text": [
      "tune_min_child_samples, val_score: 0.576751: 100%|##########| 5/5 [00:01<00:00,  3.42it/s]\n"
     ]
    },
    {
     "name": "stdout",
     "output_type": "stream",
     "text": [
      "2020-03-24 19:33:26 RTwCmnt ********************************************************************************\n",
      "RTwCmnt\n",
      "n_pos_wanted 100\n",
      "2020-03-24 19:33:26 chunk 1\n",
      "2020-03-24 19:33:26 chunk 2\n",
      "2020-03-24 19:33:26 chunk 3\n",
      "2020-03-24 19:33:26 chunk 4\n",
      "2020-03-24 19:33:26 chunk 5\n",
      "2020-03-24 19:33:26 chunk 6\n",
      "2020-03-24 19:33:26 chunk 7\n",
      "2020-03-24 19:33:26 chunk 8\n",
      "2020-03-24 19:33:26 chunk 9\n",
      "2020-03-24 19:33:26 chunk 10\n",
      "2020-03-24 19:33:26 chunk 11\n",
      "2020-03-24 19:33:26 chunk 12\n",
      "2020-03-24 19:33:26 chunk 13\n",
      "dftrvl.shape: (1000, 28) dftrvl[tgtcol].mean(): 0.106\n",
      "{'train_pop': 13000, 'target_pop': 106, 'sampled_train_pop': 1000, 'sampled_target_pop': 106}\n",
      "{'objective': 'binary', 'metric': 'binary_logloss', 'verbosity': 0, 'boosting_type': 'gbdt'}\n"
     ]
    },
    {
     "name": "stderr",
     "output_type": "stream",
     "text": [
      "tune_feature_fraction, val_score: inf:   0%|          | 0/7 [00:00<?, ?it/s]"
     ]
    },
    {
     "name": "stdout",
     "output_type": "stream",
     "text": [
      "Training until validation scores don't improve for 100 rounds\n",
      "[100]\ttraining's binary_logloss: 0.0109006\tvalid_1's binary_logloss: 0.538441\n",
      "Early stopping, best iteration is:\n",
      "[1]\ttraining's binary_logloss: 0.32539\tvalid_1's binary_logloss: 0.324541\n"
     ]
    },
    {
     "name": "stderr",
     "output_type": "stream",
     "text": [
      "tune_feature_fraction, val_score: 0.324541:  14%|#4        | 1/7 [00:00<00:02,  2.29it/s]"
     ]
    },
    {
     "name": "stdout",
     "output_type": "stream",
     "text": [
      "Training until validation scores don't improve for 100 rounds\n",
      "[100]\ttraining's binary_logloss: 0.00929852\tvalid_1's binary_logloss: 0.521647\n",
      "Early stopping, best iteration is:\n",
      "[1]\ttraining's binary_logloss: 0.323677\tvalid_1's binary_logloss: 0.325601\n"
     ]
    },
    {
     "name": "stderr",
     "output_type": "stream",
     "text": [
      "tune_feature_fraction, val_score: 0.324541:  29%|##8       | 2/7 [00:00<00:01,  2.55it/s]"
     ]
    },
    {
     "name": "stdout",
     "output_type": "stream",
     "text": [
      "Training until validation scores don't improve for 100 rounds\n",
      "[100]\ttraining's binary_logloss: 0.00849678\tvalid_1's binary_logloss: 0.535221\n",
      "Early stopping, best iteration is:\n",
      "[1]\ttraining's binary_logloss: 0.321102\tvalid_1's binary_logloss: 0.329701\n"
     ]
    },
    {
     "name": "stderr",
     "output_type": "stream",
     "text": [
      "tune_feature_fraction, val_score: 0.324541:  43%|####2     | 3/7 [00:01<00:01,  2.81it/s]"
     ]
    },
    {
     "name": "stdout",
     "output_type": "stream",
     "text": [
      "Training until validation scores don't improve for 100 rounds\n",
      "[100]\ttraining's binary_logloss: 0.00768207\tvalid_1's binary_logloss: 0.55253\n",
      "Early stopping, best iteration is:\n",
      "[1]\ttraining's binary_logloss: 0.320544\tvalid_1's binary_logloss: 0.329645\n"
     ]
    },
    {
     "name": "stderr",
     "output_type": "stream",
     "text": [
      "tune_feature_fraction, val_score: 0.324541:  57%|#####7    | 4/7 [00:01<00:00,  3.01it/s]"
     ]
    },
    {
     "name": "stdout",
     "output_type": "stream",
     "text": [
      "Training until validation scores don't improve for 100 rounds\n",
      "[100]\ttraining's binary_logloss: 0.00682231\tvalid_1's binary_logloss: 0.586114\n",
      "Early stopping, best iteration is:\n",
      "[1]\ttraining's binary_logloss: 0.318928\tvalid_1's binary_logloss: 0.333741\n"
     ]
    },
    {
     "name": "stderr",
     "output_type": "stream",
     "text": [
      "tune_feature_fraction, val_score: 0.324541:  71%|#######1  | 5/7 [00:01<00:00,  3.16it/s]"
     ]
    },
    {
     "name": "stdout",
     "output_type": "stream",
     "text": [
      "Training until validation scores don't improve for 100 rounds\n",
      "[100]\ttraining's binary_logloss: 0.00640114\tvalid_1's binary_logloss: 0.574119\n",
      "Early stopping, best iteration is:\n",
      "[1]\ttraining's binary_logloss: 0.322446\tvalid_1's binary_logloss: 0.326018\n"
     ]
    },
    {
     "name": "stderr",
     "output_type": "stream",
     "text": [
      "tune_feature_fraction, val_score: 0.324541:  86%|########5 | 6/7 [00:01<00:00,  3.27it/s]"
     ]
    },
    {
     "name": "stdout",
     "output_type": "stream",
     "text": [
      "Training until validation scores don't improve for 100 rounds\n",
      "[100]\ttraining's binary_logloss: 0.00647825\tvalid_1's binary_logloss: 0.55671\n",
      "Early stopping, best iteration is:\n",
      "[1]\ttraining's binary_logloss: 0.322446\tvalid_1's binary_logloss: 0.326235\n"
     ]
    },
    {
     "name": "stderr",
     "output_type": "stream",
     "text": [
      "tune_feature_fraction, val_score: 0.324541: 100%|##########| 7/7 [00:02<00:00,  3.15it/s]\n",
      "tune_num_leaves, val_score: 0.324541:   0%|          | 0/20 [00:00<?, ?it/s]"
     ]
    },
    {
     "name": "stdout",
     "output_type": "stream",
     "text": [
      "Training until validation scores don't improve for 100 rounds\n",
      "[100]\ttraining's binary_logloss: 0.0146014\tvalid_1's binary_logloss: 0.529164\n",
      "Early stopping, best iteration is:\n",
      "[1]\ttraining's binary_logloss: 0.325812\tvalid_1's binary_logloss: 0.325169\n"
     ]
    },
    {
     "name": "stderr",
     "output_type": "stream",
     "text": [
      "tune_num_leaves, val_score: 0.324541:   5%|5         | 1/20 [00:00<00:02,  6.95it/s]"
     ]
    },
    {
     "name": "stdout",
     "output_type": "stream",
     "text": [
      "Training until validation scores don't improve for 100 rounds\n",
      "[100]\ttraining's binary_logloss: 0.0107789\tvalid_1's binary_logloss: 0.526517\n",
      "Early stopping, best iteration is:\n",
      "[1]\ttraining's binary_logloss: 0.32539\tvalid_1's binary_logloss: 0.324541\n"
     ]
    },
    {
     "name": "stderr",
     "output_type": "stream",
     "text": [
      "tune_num_leaves, val_score: 0.324541:  10%|#         | 2/20 [00:00<00:03,  5.17it/s]"
     ]
    },
    {
     "name": "stdout",
     "output_type": "stream",
     "text": [
      "Training until validation scores don't improve for 100 rounds\n",
      "[100]\ttraining's binary_logloss: 0.0107789\tvalid_1's binary_logloss: 0.526517\n",
      "Early stopping, best iteration is:\n",
      "[1]\ttraining's binary_logloss: 0.32539\tvalid_1's binary_logloss: 0.324541\n"
     ]
    },
    {
     "name": "stderr",
     "output_type": "stream",
     "text": [
      "tune_num_leaves, val_score: 0.324541:  15%|#5        | 3/20 [00:00<00:03,  4.33it/s]"
     ]
    },
    {
     "name": "stdout",
     "output_type": "stream",
     "text": [
      "Training until validation scores don't improve for 100 rounds\n",
      "[100]\ttraining's binary_logloss: 0.0338611\tvalid_1's binary_logloss: 0.455449\n",
      "Early stopping, best iteration is:\n",
      "[1]\ttraining's binary_logloss: 0.328064\tvalid_1's binary_logloss: 0.325085\n"
     ]
    },
    {
     "name": "stderr",
     "output_type": "stream",
     "text": [
      "tune_num_leaves, val_score: 0.324541:  20%|##        | 4/20 [00:01<00:03,  4.30it/s]"
     ]
    },
    {
     "name": "stdout",
     "output_type": "stream",
     "text": [
      "Training until validation scores don't improve for 100 rounds\n",
      "[100]\ttraining's binary_logloss: 0.0107789\tvalid_1's binary_logloss: 0.526517\n",
      "Early stopping, best iteration is:\n",
      "[1]\ttraining's binary_logloss: 0.32539\tvalid_1's binary_logloss: 0.324541\n"
     ]
    },
    {
     "name": "stderr",
     "output_type": "stream",
     "text": [
      "tune_num_leaves, val_score: 0.324541:  25%|##5       | 5/20 [00:01<00:03,  3.88it/s]"
     ]
    },
    {
     "name": "stdout",
     "output_type": "stream",
     "text": [
      "Training until validation scores don't improve for 100 rounds\n",
      "[100]\ttraining's binary_logloss: 0.0107789\tvalid_1's binary_logloss: 0.526517\n",
      "Early stopping, best iteration is:\n",
      "[1]\ttraining's binary_logloss: 0.32539\tvalid_1's binary_logloss: 0.324541\n"
     ]
    },
    {
     "name": "stderr",
     "output_type": "stream",
     "text": [
      "tune_num_leaves, val_score: 0.324541:  30%|###       | 6/20 [00:01<00:03,  3.64it/s]"
     ]
    },
    {
     "name": "stdout",
     "output_type": "stream",
     "text": [
      "Training until validation scores don't improve for 100 rounds\n",
      "[100]\ttraining's binary_logloss: 0.0107789\tvalid_1's binary_logloss: 0.526517\n",
      "Early stopping, best iteration is:\n",
      "[1]\ttraining's binary_logloss: 0.32539\tvalid_1's binary_logloss: 0.324541\n"
     ]
    },
    {
     "name": "stderr",
     "output_type": "stream",
     "text": [
      "tune_num_leaves, val_score: 0.324541:  35%|###5      | 7/20 [00:02<00:03,  3.45it/s]"
     ]
    },
    {
     "name": "stdout",
     "output_type": "stream",
     "text": [
      "Training until validation scores don't improve for 100 rounds\n",
      "[100]\ttraining's binary_logloss: 0.0107789\tvalid_1's binary_logloss: 0.526517\n",
      "Early stopping, best iteration is:\n",
      "[1]\ttraining's binary_logloss: 0.32539\tvalid_1's binary_logloss: 0.324541\n"
     ]
    },
    {
     "name": "stderr",
     "output_type": "stream",
     "text": [
      "tune_num_leaves, val_score: 0.324541:  40%|####      | 8/20 [00:02<00:03,  3.39it/s]"
     ]
    },
    {
     "name": "stdout",
     "output_type": "stream",
     "text": [
      "Training until validation scores don't improve for 100 rounds\n",
      "[100]\ttraining's binary_logloss: 0.0107789\tvalid_1's binary_logloss: 0.526517\n",
      "Early stopping, best iteration is:\n",
      "[1]\ttraining's binary_logloss: 0.32539\tvalid_1's binary_logloss: 0.324541\n"
     ]
    },
    {
     "name": "stderr",
     "output_type": "stream",
     "text": [
      "tune_num_leaves, val_score: 0.324541:  45%|####5     | 9/20 [00:02<00:03,  3.36it/s]"
     ]
    },
    {
     "name": "stdout",
     "output_type": "stream",
     "text": [
      "Training until validation scores don't improve for 100 rounds\n",
      "[100]\ttraining's binary_logloss: 0.0107789\tvalid_1's binary_logloss: 0.526517\n",
      "Early stopping, best iteration is:\n",
      "[1]\ttraining's binary_logloss: 0.32539\tvalid_1's binary_logloss: 0.324541\n"
     ]
    },
    {
     "name": "stderr",
     "output_type": "stream",
     "text": [
      "tune_num_leaves, val_score: 0.324541:  50%|#####     | 10/20 [00:02<00:03,  3.31it/s]"
     ]
    },
    {
     "name": "stdout",
     "output_type": "stream",
     "text": [
      "Training until validation scores don't improve for 100 rounds\n",
      "[100]\ttraining's binary_logloss: 0.0107789\tvalid_1's binary_logloss: 0.526517\n",
      "Early stopping, best iteration is:\n",
      "[1]\ttraining's binary_logloss: 0.32539\tvalid_1's binary_logloss: 0.324541\n"
     ]
    },
    {
     "name": "stderr",
     "output_type": "stream",
     "text": [
      "tune_num_leaves, val_score: 0.324541:  55%|#####5    | 11/20 [00:03<00:02,  3.28it/s]"
     ]
    },
    {
     "name": "stdout",
     "output_type": "stream",
     "text": [
      "Training until validation scores don't improve for 100 rounds\n",
      "[100]\ttraining's binary_logloss: 0.0107789\tvalid_1's binary_logloss: 0.526517\n",
      "Early stopping, best iteration is:\n",
      "[1]\ttraining's binary_logloss: 0.32539\tvalid_1's binary_logloss: 0.324541\n"
     ]
    },
    {
     "name": "stderr",
     "output_type": "stream",
     "text": [
      "tune_num_leaves, val_score: 0.324541:  60%|######    | 12/20 [00:03<00:02,  3.22it/s]"
     ]
    },
    {
     "name": "stdout",
     "output_type": "stream",
     "text": [
      "Training until validation scores don't improve for 100 rounds\n",
      "[100]\ttraining's binary_logloss: 0.0107789\tvalid_1's binary_logloss: 0.526517\n",
      "Early stopping, best iteration is:\n",
      "[1]\ttraining's binary_logloss: 0.32539\tvalid_1's binary_logloss: 0.324541\n"
     ]
    },
    {
     "name": "stderr",
     "output_type": "stream",
     "text": [
      "tune_num_leaves, val_score: 0.324541:  65%|######5   | 13/20 [00:03<00:02,  3.16it/s]"
     ]
    },
    {
     "name": "stdout",
     "output_type": "stream",
     "text": [
      "Training until validation scores don't improve for 100 rounds\n",
      "[100]\ttraining's binary_logloss: 0.0107789\tvalid_1's binary_logloss: 0.526517\n",
      "Early stopping, best iteration is:\n",
      "[1]\ttraining's binary_logloss: 0.32539\tvalid_1's binary_logloss: 0.324541\n"
     ]
    },
    {
     "name": "stderr",
     "output_type": "stream",
     "text": [
      "tune_num_leaves, val_score: 0.324541:  70%|#######   | 14/20 [00:04<00:01,  3.16it/s]"
     ]
    },
    {
     "name": "stdout",
     "output_type": "stream",
     "text": [
      "Training until validation scores don't improve for 100 rounds\n",
      "[100]\ttraining's binary_logloss: 0.0107789\tvalid_1's binary_logloss: 0.526517\n",
      "Early stopping, best iteration is:\n",
      "[1]\ttraining's binary_logloss: 0.32539\tvalid_1's binary_logloss: 0.324541\n"
     ]
    },
    {
     "name": "stderr",
     "output_type": "stream",
     "text": [
      "tune_num_leaves, val_score: 0.324541:  75%|#######5  | 15/20 [00:04<00:01,  3.15it/s]"
     ]
    },
    {
     "name": "stdout",
     "output_type": "stream",
     "text": [
      "Training until validation scores don't improve for 100 rounds\n",
      "[100]\ttraining's binary_logloss: 0.0107789\tvalid_1's binary_logloss: 0.526517\n",
      "Early stopping, best iteration is:\n",
      "[1]\ttraining's binary_logloss: 0.32539\tvalid_1's binary_logloss: 0.324541\n"
     ]
    },
    {
     "name": "stderr",
     "output_type": "stream",
     "text": [
      "tune_num_leaves, val_score: 0.324541:  80%|########  | 16/20 [00:04<00:01,  3.15it/s]"
     ]
    },
    {
     "name": "stdout",
     "output_type": "stream",
     "text": [
      "Training until validation scores don't improve for 100 rounds\n",
      "[100]\ttraining's binary_logloss: 0.0107789\tvalid_1's binary_logloss: 0.526517\n",
      "Early stopping, best iteration is:\n",
      "[1]\ttraining's binary_logloss: 0.32539\tvalid_1's binary_logloss: 0.324541\n"
     ]
    },
    {
     "name": "stderr",
     "output_type": "stream",
     "text": [
      "tune_num_leaves, val_score: 0.324541:  85%|########5 | 17/20 [00:05<00:00,  3.13it/s]"
     ]
    },
    {
     "name": "stdout",
     "output_type": "stream",
     "text": [
      "Training until validation scores don't improve for 100 rounds\n",
      "[100]\ttraining's binary_logloss: 0.0107789\tvalid_1's binary_logloss: 0.526517\n",
      "Early stopping, best iteration is:\n",
      "[1]\ttraining's binary_logloss: 0.32539\tvalid_1's binary_logloss: 0.324541\n"
     ]
    },
    {
     "name": "stderr",
     "output_type": "stream",
     "text": [
      "tune_num_leaves, val_score: 0.324541:  90%|######### | 18/20 [00:05<00:00,  3.12it/s]"
     ]
    },
    {
     "name": "stdout",
     "output_type": "stream",
     "text": [
      "Training until validation scores don't improve for 100 rounds\n",
      "[100]\ttraining's binary_logloss: 0.0107789\tvalid_1's binary_logloss: 0.526517\n",
      "Early stopping, best iteration is:\n",
      "[1]\ttraining's binary_logloss: 0.32539\tvalid_1's binary_logloss: 0.324541\n"
     ]
    },
    {
     "name": "stderr",
     "output_type": "stream",
     "text": [
      "tune_num_leaves, val_score: 0.324541:  95%|#########5| 19/20 [00:05<00:00,  3.14it/s]"
     ]
    },
    {
     "name": "stdout",
     "output_type": "stream",
     "text": [
      "Training until validation scores don't improve for 100 rounds\n",
      "[100]\ttraining's binary_logloss: 0.0107789\tvalid_1's binary_logloss: 0.526517\n",
      "Early stopping, best iteration is:\n",
      "[1]\ttraining's binary_logloss: 0.32539\tvalid_1's binary_logloss: 0.324541\n"
     ]
    },
    {
     "name": "stderr",
     "output_type": "stream",
     "text": [
      "tune_num_leaves, val_score: 0.324541: 100%|##########| 20/20 [00:06<00:00,  3.23it/s]\n",
      "tune_bagging_fraction_and_bagging_freq, val_score: 0.324541:   0%|          | 0/10 [00:00<?, ?it/s]"
     ]
    },
    {
     "name": "stdout",
     "output_type": "stream",
     "text": [
      "Training until validation scores don't improve for 100 rounds\n",
      "[100]\ttraining's binary_logloss: 0.0109639\tvalid_1's binary_logloss: 0.52405\n",
      "Early stopping, best iteration is:\n",
      "[1]\ttraining's binary_logloss: 0.325806\tvalid_1's binary_logloss: 0.321856\n"
     ]
    },
    {
     "name": "stderr",
     "output_type": "stream",
     "text": [
      "tune_bagging_fraction_and_bagging_freq, val_score: 0.321856:  10%|#         | 1/10 [00:00<00:01,  5.01it/s]"
     ]
    },
    {
     "name": "stdout",
     "output_type": "stream",
     "text": [
      "Training until validation scores don't improve for 100 rounds\n",
      "[100]\ttraining's binary_logloss: 0.0409585\tvalid_1's binary_logloss: 0.47806\n",
      "Early stopping, best iteration is:\n",
      "[1]\ttraining's binary_logloss: 0.32981\tvalid_1's binary_logloss: 0.322916\n"
     ]
    },
    {
     "name": "stderr",
     "output_type": "stream",
     "text": [
      "tune_bagging_fraction_and_bagging_freq, val_score: 0.321856:  20%|##        | 2/10 [00:00<00:01,  4.55it/s]"
     ]
    },
    {
     "name": "stdout",
     "output_type": "stream",
     "text": [
      "Training until validation scores don't improve for 100 rounds\n",
      "[100]\ttraining's binary_logloss: 0.012546\tvalid_1's binary_logloss: 0.530452\n",
      "Early stopping, best iteration is:\n",
      "[1]\ttraining's binary_logloss: 0.329192\tvalid_1's binary_logloss: 0.32425\n"
     ]
    },
    {
     "name": "stderr",
     "output_type": "stream",
     "text": [
      "tune_bagging_fraction_and_bagging_freq, val_score: 0.321856:  30%|###       | 3/10 [00:00<00:01,  4.11it/s]"
     ]
    },
    {
     "name": "stdout",
     "output_type": "stream",
     "text": [
      "Training until validation scores don't improve for 100 rounds\n",
      "[100]\ttraining's binary_logloss: 0.0149029\tvalid_1's binary_logloss: 0.541647\n",
      "Early stopping, best iteration is:\n",
      "[1]\ttraining's binary_logloss: 0.327556\tvalid_1's binary_logloss: 0.320092\n"
     ]
    },
    {
     "name": "stderr",
     "output_type": "stream",
     "text": [
      "tune_bagging_fraction_and_bagging_freq, val_score: 0.320092:  40%|####      | 4/10 [00:01<00:01,  3.86it/s]"
     ]
    },
    {
     "name": "stdout",
     "output_type": "stream",
     "text": [
      "Training until validation scores don't improve for 100 rounds\n",
      "[100]\ttraining's binary_logloss: 0.0750751\tvalid_1's binary_logloss: 0.446571\n",
      "Early stopping, best iteration is:\n",
      "[1]\ttraining's binary_logloss: 0.330939\tvalid_1's binary_logloss: 0.334112\n"
     ]
    },
    {
     "name": "stderr",
     "output_type": "stream",
     "text": [
      "tune_bagging_fraction_and_bagging_freq, val_score: 0.320092:  50%|#####     | 5/10 [00:01<00:01,  3.94it/s]"
     ]
    },
    {
     "name": "stdout",
     "output_type": "stream",
     "text": [
      "Training until validation scores don't improve for 100 rounds\n",
      "[100]\ttraining's binary_logloss: 0.0611353\tvalid_1's binary_logloss: 0.451672\n",
      "Early stopping, best iteration is:\n",
      "[1]\ttraining's binary_logloss: 0.330271\tvalid_1's binary_logloss: 0.326236\n"
     ]
    },
    {
     "name": "stderr",
     "output_type": "stream",
     "text": [
      "tune_bagging_fraction_and_bagging_freq, val_score: 0.320092:  60%|######    | 6/10 [00:01<00:01,  3.96it/s]"
     ]
    },
    {
     "name": "stdout",
     "output_type": "stream",
     "text": [
      "Training until validation scores don't improve for 100 rounds\n",
      "[100]\ttraining's binary_logloss: 0.0453875\tvalid_1's binary_logloss: 0.448386\n",
      "Early stopping, best iteration is:\n",
      "[1]\ttraining's binary_logloss: 0.33185\tvalid_1's binary_logloss: 0.317477\n"
     ]
    },
    {
     "name": "stderr",
     "output_type": "stream",
     "text": [
      "tune_bagging_fraction_and_bagging_freq, val_score: 0.317477:  70%|#######   | 7/10 [00:01<00:00,  3.94it/s]"
     ]
    },
    {
     "name": "stdout",
     "output_type": "stream",
     "text": [
      "Training until validation scores don't improve for 100 rounds\n",
      "[100]\ttraining's binary_logloss: 0.0118625\tvalid_1's binary_logloss: 0.52179\n",
      "Early stopping, best iteration is:\n",
      "[1]\ttraining's binary_logloss: 0.326723\tvalid_1's binary_logloss: 0.325468\n"
     ]
    },
    {
     "name": "stderr",
     "output_type": "stream",
     "text": [
      "tune_bagging_fraction_and_bagging_freq, val_score: 0.317477:  80%|########  | 8/10 [00:02<00:00,  3.72it/s]"
     ]
    },
    {
     "name": "stdout",
     "output_type": "stream",
     "text": [
      "Training until validation scores don't improve for 100 rounds\n",
      "[100]\ttraining's binary_logloss: 0.0269724\tvalid_1's binary_logloss: 0.501615\n",
      "Early stopping, best iteration is:\n",
      "[10]\ttraining's binary_logloss: 0.256003\tvalid_1's binary_logloss: 0.318618\n"
     ]
    },
    {
     "name": "stderr",
     "output_type": "stream",
     "text": [
      "tune_bagging_fraction_and_bagging_freq, val_score: 0.317477:  90%|######### | 9/10 [00:02<00:00,  3.64it/s]"
     ]
    },
    {
     "name": "stdout",
     "output_type": "stream",
     "text": [
      "Training until validation scores don't improve for 100 rounds\n",
      "[100]\ttraining's binary_logloss: 0.0174704\tvalid_1's binary_logloss: 0.505676\n",
      "Early stopping, best iteration is:\n",
      "[7]\ttraining's binary_logloss: 0.265946\tvalid_1's binary_logloss: 0.31569\n"
     ]
    },
    {
     "name": "stderr",
     "output_type": "stream",
     "text": [
      "tune_bagging_fraction_and_bagging_freq, val_score: 0.315690: 100%|##########| 10/10 [00:02<00:00,  3.56it/s]\n",
      "tune_feature_fraction, val_score: 0.315690:   0%|          | 0/3 [00:00<?, ?it/s]"
     ]
    },
    {
     "name": "stdout",
     "output_type": "stream",
     "text": [
      "Training until validation scores don't improve for 100 rounds\n",
      "[100]\ttraining's binary_logloss: 0.0174704\tvalid_1's binary_logloss: 0.505676\n",
      "Early stopping, best iteration is:\n",
      "[7]\ttraining's binary_logloss: 0.265946\tvalid_1's binary_logloss: 0.31569\n"
     ]
    },
    {
     "name": "stderr",
     "output_type": "stream",
     "text": [
      "tune_feature_fraction, val_score: 0.315690:  33%|###3      | 1/3 [00:00<00:00,  5.16it/s]"
     ]
    },
    {
     "name": "stdout",
     "output_type": "stream",
     "text": [
      "Training until validation scores don't improve for 100 rounds\n",
      "[100]\ttraining's binary_logloss: 0.0165235\tvalid_1's binary_logloss: 0.500156\n",
      "Early stopping, best iteration is:\n",
      "[3]\ttraining's binary_logloss: 0.304768\tvalid_1's binary_logloss: 0.324943\n"
     ]
    },
    {
     "name": "stderr",
     "output_type": "stream",
     "text": [
      "tune_feature_fraction, val_score: 0.315690:  67%|######6   | 2/3 [00:00<00:00,  4.47it/s]"
     ]
    },
    {
     "name": "stdout",
     "output_type": "stream",
     "text": [
      "Training until validation scores don't improve for 100 rounds\n",
      "[100]\ttraining's binary_logloss: 0.0156889\tvalid_1's binary_logloss: 0.506744\n",
      "Early stopping, best iteration is:\n",
      "[1]\ttraining's binary_logloss: 0.325979\tvalid_1's binary_logloss: 0.327192\n"
     ]
    },
    {
     "name": "stderr",
     "output_type": "stream",
     "text": [
      "tune_feature_fraction, val_score: 0.315690: 100%|##########| 3/3 [00:00<00:00,  3.37it/s]\n",
      "tune_lambda_l1_and_lambda_l2, val_score: 0.315690:   0%|          | 0/20 [00:00<?, ?it/s]"
     ]
    },
    {
     "name": "stdout",
     "output_type": "stream",
     "text": [
      "Training until validation scores don't improve for 100 rounds\n",
      "[100]\ttraining's binary_logloss: 0.0171989\tvalid_1's binary_logloss: 0.507278\n",
      "Early stopping, best iteration is:\n",
      "[7]\ttraining's binary_logloss: 0.265958\tvalid_1's binary_logloss: 0.315732\n"
     ]
    },
    {
     "name": "stderr",
     "output_type": "stream",
     "text": [
      "tune_lambda_l1_and_lambda_l2, val_score: 0.315690:   5%|5         | 1/20 [00:00<00:03,  5.31it/s]"
     ]
    },
    {
     "name": "stdout",
     "output_type": "stream",
     "text": [
      "Training until validation scores don't improve for 100 rounds\n",
      "[100]\ttraining's binary_logloss: 0.0240564\tvalid_1's binary_logloss: 0.471186\n",
      "Early stopping, best iteration is:\n",
      "[3]\ttraining's binary_logloss: 0.307442\tvalid_1's binary_logloss: 0.316793\n"
     ]
    },
    {
     "name": "stderr",
     "output_type": "stream",
     "text": [
      "tune_lambda_l1_and_lambda_l2, val_score: 0.315690:  10%|#         | 2/20 [00:00<00:03,  4.58it/s]"
     ]
    },
    {
     "name": "stdout",
     "output_type": "stream",
     "text": [
      "Training until validation scores don't improve for 100 rounds\n",
      "[100]\ttraining's binary_logloss: 0.0251649\tvalid_1's binary_logloss: 0.468668\n",
      "Early stopping, best iteration is:\n",
      "[3]\ttraining's binary_logloss: 0.308388\tvalid_1's binary_logloss: 0.317666\n"
     ]
    },
    {
     "name": "stderr",
     "output_type": "stream",
     "text": [
      "tune_lambda_l1_and_lambda_l2, val_score: 0.315690:  15%|#5        | 3/20 [00:00<00:04,  4.13it/s]"
     ]
    },
    {
     "name": "stdout",
     "output_type": "stream",
     "text": [
      "Training until validation scores don't improve for 100 rounds\n",
      "[100]\ttraining's binary_logloss: 0.0224656\tvalid_1's binary_logloss: 0.486863\n",
      "Early stopping, best iteration is:\n",
      "[3]\ttraining's binary_logloss: 0.307283\tvalid_1's binary_logloss: 0.316767\n"
     ]
    },
    {
     "name": "stderr",
     "output_type": "stream",
     "text": [
      "tune_lambda_l1_and_lambda_l2, val_score: 0.315690:  20%|##        | 4/20 [00:01<00:04,  3.88it/s]"
     ]
    },
    {
     "name": "stdout",
     "output_type": "stream",
     "text": [
      "Training until validation scores don't improve for 100 rounds\n",
      "[100]\ttraining's binary_logloss: 0.0171153\tvalid_1's binary_logloss: 0.514702\n",
      "Early stopping, best iteration is:\n",
      "[7]\ttraining's binary_logloss: 0.265962\tvalid_1's binary_logloss: 0.315733\n"
     ]
    },
    {
     "name": "stderr",
     "output_type": "stream",
     "text": [
      "tune_lambda_l1_and_lambda_l2, val_score: 0.315690:  25%|##5       | 5/20 [00:01<00:04,  3.70it/s]"
     ]
    },
    {
     "name": "stdout",
     "output_type": "stream",
     "text": [
      "Training until validation scores don't improve for 100 rounds\n",
      "[100]\ttraining's binary_logloss: 0.128914\tvalid_1's binary_logloss: 0.382194\n",
      "Early stopping, best iteration is:\n",
      "[3]\ttraining's binary_logloss: 0.329265\tvalid_1's binary_logloss: 0.322916\n"
     ]
    },
    {
     "name": "stderr",
     "output_type": "stream",
     "text": [
      "tune_lambda_l1_and_lambda_l2, val_score: 0.315690:  30%|###       | 6/20 [00:01<00:03,  3.73it/s]"
     ]
    },
    {
     "name": "stdout",
     "output_type": "stream",
     "text": [
      "Training until validation scores don't improve for 100 rounds\n",
      "[100]\ttraining's binary_logloss: 0.102748\tvalid_1's binary_logloss: 0.383525\n",
      "Early stopping, best iteration is:\n",
      "[3]\ttraining's binary_logloss: 0.326149\tvalid_1's binary_logloss: 0.320073\n"
     ]
    },
    {
     "name": "stderr",
     "output_type": "stream",
     "text": [
      "tune_lambda_l1_and_lambda_l2, val_score: 0.315690:  35%|###5      | 7/20 [00:02<00:03,  3.73it/s]"
     ]
    },
    {
     "name": "stdout",
     "output_type": "stream",
     "text": [
      "Training until validation scores don't improve for 100 rounds\n",
      "[100]\ttraining's binary_logloss: 0.303208\tvalid_1's binary_logloss: 0.330132\n",
      "Early stopping, best iteration is:\n",
      "[5]\ttraining's binary_logloss: 0.333715\tvalid_1's binary_logloss: 0.32517\n"
     ]
    },
    {
     "name": "stderr",
     "output_type": "stream",
     "text": [
      "tune_lambda_l1_and_lambda_l2, val_score: 0.315690:  40%|####      | 8/20 [00:02<00:02,  4.04it/s]"
     ]
    },
    {
     "name": "stdout",
     "output_type": "stream",
     "text": [
      "Training until validation scores don't improve for 100 rounds\n",
      "[100]\ttraining's binary_logloss: 0.0174704\tvalid_1's binary_logloss: 0.50569\n",
      "Early stopping, best iteration is:\n",
      "[7]\ttraining's binary_logloss: 0.265946\tvalid_1's binary_logloss: 0.31569\n"
     ]
    },
    {
     "name": "stderr",
     "output_type": "stream",
     "text": [
      "tune_lambda_l1_and_lambda_l2, val_score: 0.315690:  45%|####5     | 9/20 [00:02<00:02,  3.74it/s]"
     ]
    },
    {
     "name": "stdout",
     "output_type": "stream",
     "text": [
      "Training until validation scores don't improve for 100 rounds\n",
      "[100]\ttraining's binary_logloss: 0.0634952\tvalid_1's binary_logloss: 0.41326\n",
      "Early stopping, best iteration is:\n",
      "[3]\ttraining's binary_logloss: 0.313443\tvalid_1's binary_logloss: 0.318582\n"
     ]
    },
    {
     "name": "stderr",
     "output_type": "stream",
     "text": [
      "tune_lambda_l1_and_lambda_l2, val_score: 0.315690:  50%|#####     | 10/20 [00:02<00:02,  3.71it/s]"
     ]
    },
    {
     "name": "stdout",
     "output_type": "stream",
     "text": [
      "Training until validation scores don't improve for 100 rounds\n",
      "[100]\ttraining's binary_logloss: 0.0174704\tvalid_1's binary_logloss: 0.505676\n",
      "Early stopping, best iteration is:\n",
      "[7]\ttraining's binary_logloss: 0.265946\tvalid_1's binary_logloss: 0.31569\n"
     ]
    },
    {
     "name": "stderr",
     "output_type": "stream",
     "text": [
      "tune_lambda_l1_and_lambda_l2, val_score: 0.315690:  55%|#####5    | 11/20 [00:03<00:02,  3.54it/s]"
     ]
    },
    {
     "name": "stdout",
     "output_type": "stream",
     "text": [
      "Training until validation scores don't improve for 100 rounds\n",
      "[100]\ttraining's binary_logloss: 0.0174704\tvalid_1's binary_logloss: 0.505676\n",
      "Early stopping, best iteration is:\n",
      "[7]\ttraining's binary_logloss: 0.265946\tvalid_1's binary_logloss: 0.31569\n"
     ]
    },
    {
     "name": "stderr",
     "output_type": "stream",
     "text": [
      "tune_lambda_l1_and_lambda_l2, val_score: 0.315690:  60%|######    | 12/20 [00:03<00:02,  3.43it/s]"
     ]
    },
    {
     "name": "stdout",
     "output_type": "stream",
     "text": [
      "Training until validation scores don't improve for 100 rounds\n",
      "[100]\ttraining's binary_logloss: 0.0172419\tvalid_1's binary_logloss: 0.51335\n",
      "Early stopping, best iteration is:\n",
      "[7]\ttraining's binary_logloss: 0.265946\tvalid_1's binary_logloss: 0.31569\n"
     ]
    },
    {
     "name": "stderr",
     "output_type": "stream",
     "text": [
      "tune_lambda_l1_and_lambda_l2, val_score: 0.315690:  65%|######5   | 13/20 [00:03<00:02,  3.35it/s]"
     ]
    },
    {
     "name": "stdout",
     "output_type": "stream",
     "text": [
      "Training until validation scores don't improve for 100 rounds\n",
      "[100]\ttraining's binary_logloss: 0.0174705\tvalid_1's binary_logloss: 0.505694\n",
      "Early stopping, best iteration is:\n",
      "[7]\ttraining's binary_logloss: 0.265946\tvalid_1's binary_logloss: 0.31569\n"
     ]
    },
    {
     "name": "stderr",
     "output_type": "stream",
     "text": [
      "tune_lambda_l1_and_lambda_l2, val_score: 0.315690:  70%|#######   | 14/20 [00:04<00:01,  3.29it/s]"
     ]
    },
    {
     "name": "stdout",
     "output_type": "stream",
     "text": [
      "Training until validation scores don't improve for 100 rounds\n",
      "[100]\ttraining's binary_logloss: 0.017242\tvalid_1's binary_logloss: 0.513356\n",
      "Early stopping, best iteration is:\n",
      "[7]\ttraining's binary_logloss: 0.265946\tvalid_1's binary_logloss: 0.31569\n"
     ]
    },
    {
     "name": "stderr",
     "output_type": "stream",
     "text": [
      "tune_lambda_l1_and_lambda_l2, val_score: 0.315690:  75%|#######5  | 15/20 [00:04<00:01,  3.27it/s]"
     ]
    },
    {
     "name": "stdout",
     "output_type": "stream",
     "text": [
      "Training until validation scores don't improve for 100 rounds\n",
      "[100]\ttraining's binary_logloss: 0.017242\tvalid_1's binary_logloss: 0.513348\n",
      "Early stopping, best iteration is:\n",
      "[7]\ttraining's binary_logloss: 0.265946\tvalid_1's binary_logloss: 0.31569\n"
     ]
    },
    {
     "name": "stderr",
     "output_type": "stream",
     "text": [
      "tune_lambda_l1_and_lambda_l2, val_score: 0.315690:  80%|########  | 16/20 [00:04<00:01,  3.24it/s]"
     ]
    },
    {
     "name": "stdout",
     "output_type": "stream",
     "text": [
      "Training until validation scores don't improve for 100 rounds\n",
      "[100]\ttraining's binary_logloss: 0.0172434\tvalid_1's binary_logloss: 0.513369\n",
      "Early stopping, best iteration is:\n",
      "[7]\ttraining's binary_logloss: 0.265947\tvalid_1's binary_logloss: 0.31569\n"
     ]
    },
    {
     "name": "stderr",
     "output_type": "stream",
     "text": [
      "tune_lambda_l1_and_lambda_l2, val_score: 0.315690:  85%|########5 | 17/20 [00:05<00:00,  3.17it/s]"
     ]
    },
    {
     "name": "stdout",
     "output_type": "stream",
     "text": [
      "Training until validation scores don't improve for 100 rounds\n",
      "[100]\ttraining's binary_logloss: 0.0172458\tvalid_1's binary_logloss: 0.513415\n",
      "Early stopping, best iteration is:\n",
      "[7]\ttraining's binary_logloss: 0.265947\tvalid_1's binary_logloss: 0.315689\n"
     ]
    },
    {
     "name": "stderr",
     "output_type": "stream",
     "text": [
      "tune_lambda_l1_and_lambda_l2, val_score: 0.315689:  90%|######### | 18/20 [00:05<00:00,  3.17it/s]"
     ]
    },
    {
     "name": "stdout",
     "output_type": "stream",
     "text": [
      "Training until validation scores don't improve for 100 rounds\n",
      "[100]\ttraining's binary_logloss: 0.0183573\tvalid_1's binary_logloss: 0.510868\n",
      "Early stopping, best iteration is:\n",
      "[8]\ttraining's binary_logloss: 0.256367\tvalid_1's binary_logloss: 0.314775\n"
     ]
    },
    {
     "name": "stderr",
     "output_type": "stream",
     "text": [
      "tune_lambda_l1_and_lambda_l2, val_score: 0.314775:  95%|#########5| 19/20 [00:05<00:00,  3.20it/s]"
     ]
    },
    {
     "name": "stdout",
     "output_type": "stream",
     "text": [
      "Training until validation scores don't improve for 100 rounds\n",
      "[100]\ttraining's binary_logloss: 0.0179934\tvalid_1's binary_logloss: 0.521719\n",
      "Early stopping, best iteration is:\n",
      "[8]\ttraining's binary_logloss: 0.256371\tvalid_1's binary_logloss: 0.314775\n"
     ]
    },
    {
     "name": "stderr",
     "output_type": "stream",
     "text": [
      "tune_lambda_l1_and_lambda_l2, val_score: 0.314775: 100%|##########| 20/20 [00:05<00:00,  3.36it/s]\n",
      "tune_min_child_samples, val_score: 0.314775:   0%|          | 0/5 [00:00<?, ?it/s]"
     ]
    },
    {
     "name": "stdout",
     "output_type": "stream",
     "text": [
      "Training until validation scores don't improve for 100 rounds\n",
      "[100]\ttraining's binary_logloss: 0.00157205\tvalid_1's binary_logloss: 0.676977\n",
      "Early stopping, best iteration is:\n",
      "[1]\ttraining's binary_logloss: 0.307687\tvalid_1's binary_logloss: 0.323402\n"
     ]
    },
    {
     "name": "stderr",
     "output_type": "stream",
     "text": [
      "tune_min_child_samples, val_score: 0.314775:  20%|##        | 1/5 [00:00<00:01,  3.11it/s]"
     ]
    },
    {
     "name": "stdout",
     "output_type": "stream",
     "text": [
      "Training until validation scores don't improve for 100 rounds\n",
      "[100]\ttraining's binary_logloss: 0.00413612\tvalid_1's binary_logloss: 0.584002\n",
      "Early stopping, best iteration is:\n",
      "[1]\ttraining's binary_logloss: 0.32119\tvalid_1's binary_logloss: 0.322381\n"
     ]
    },
    {
     "name": "stderr",
     "output_type": "stream",
     "text": [
      "tune_min_child_samples, val_score: 0.314775:  40%|####      | 2/5 [00:00<00:01,  2.77it/s]"
     ]
    },
    {
     "name": "stdout",
     "output_type": "stream",
     "text": [
      "Training until validation scores don't improve for 100 rounds\n",
      "[100]\ttraining's binary_logloss: 0.0295211\tvalid_1's binary_logloss: 0.474408\n",
      "Early stopping, best iteration is:\n",
      "[1]\ttraining's binary_logloss: 0.330202\tvalid_1's binary_logloss: 0.319691\n"
     ]
    },
    {
     "name": "stderr",
     "output_type": "stream",
     "text": [
      "tune_min_child_samples, val_score: 0.314775:  60%|######    | 3/5 [00:01<00:00,  2.97it/s]"
     ]
    },
    {
     "name": "stdout",
     "output_type": "stream",
     "text": [
      "Training until validation scores don't improve for 100 rounds\n",
      "[100]\ttraining's binary_logloss: 0.0973914\tvalid_1's binary_logloss: 0.416751\n",
      "Early stopping, best iteration is:\n",
      "[1]\ttraining's binary_logloss: 0.333881\tvalid_1's binary_logloss: 0.32108\n"
     ]
    },
    {
     "name": "stderr",
     "output_type": "stream",
     "text": [
      "tune_min_child_samples, val_score: 0.314775:  80%|########  | 4/5 [00:01<00:00,  3.28it/s]"
     ]
    },
    {
     "name": "stdout",
     "output_type": "stream",
     "text": [
      "Training until validation scores don't improve for 100 rounds\n",
      "[100]\ttraining's binary_logloss: 0.199825\tvalid_1's binary_logloss: 0.371936\n",
      "Early stopping, best iteration is:\n",
      "[1]\ttraining's binary_logloss: 0.337819\tvalid_1's binary_logloss: 0.324571\n"
     ]
    },
    {
     "name": "stderr",
     "output_type": "stream",
     "text": [
      "tune_min_child_samples, val_score: 0.314775: 100%|##########| 5/5 [00:01<00:00,  3.13it/s]\n"
     ]
    }
   ],
   "source": [
    "params_shared = {\n",
    "    \"objective\": \"binary\",\n",
    "    \"metric\": \"binary_logloss\",\n",
    "    \"verbosity\": 0,\n",
    "    \"boosting_type\": \"gbdt\",\n",
    "}\n",
    "tgt2params = {k:params_shared for k in tgts}\n",
    "\n",
    "tgt2bst={}\n",
    "tgt2best_params={}\n",
    "tgt2tuning_history={}\n",
    "tgt2ytr={}\n",
    "tgt2yvl={}\n",
    "tgt2prdtr={}\n",
    "tgt2prdvl={}\n",
    "tgt2pops={}\n",
    "for tgt in tgts:\n",
    "    print(dtnow(), tgt, '*'*80)\n",
    "    do_tgt(tgt)\n",
    "    \n",
    "pickle.dump(tgt2bst, open(f\"{p_out}/tgt2bst.p\", \"wb\"))"
   ]
  },
  {
   "cell_type": "code",
   "execution_count": null,
   "metadata": {},
   "outputs": [],
   "source": []
  },
  {
   "cell_type": "markdown",
   "metadata": {},
   "source": [
    "# analyze"
   ]
  },
  {
   "cell_type": "markdown",
   "metadata": {},
   "source": [
    "## tr vl"
   ]
  },
  {
   "cell_type": "raw",
   "metadata": {
    "scrolled": false
   },
   "source": [
    "for tgt in tgt2evalres:\n",
    "    evalres=tgt2evalres[tgt]\n",
    "    plt.plot(evalres['train']['logloss'][10:])\n",
    "    plt.plot(evalres['eval']['logloss'][10:])\n",
    "    plt.title(f\"{tgt} logloss {len(evalres['train']['logloss'])} rounds\")\n",
    "    plt.show()\n",
    "    plt.plot(evalres['train']['aucpr'])\n",
    "    plt.plot(evalres['eval']['aucpr'])\n",
    "    plt.title(f\"{tgt} aucpr {len(evalres['train']['aucpr'])} rounds\")\n",
    "    plt.show()"
   ]
  },
  {
   "cell_type": "raw",
   "metadata": {
    "scrolled": false
   },
   "source": [
    "def show_feat_importance(tgt):\n",
    "    bst=tgt2bst[tgt]\n",
    "    ax = xgb.plot_importance(bst, height=0.8, max_num_features=9)\n",
    "    ax.grid(False, axis=\"y\")\n",
    "    ax.set_title(f'{tgt} Estimated feature importance')\n",
    "    plt.show()\n",
    "    feat2importance=bst.get_fscore()\n",
    "    print(tgt)\n",
    "    display(pd.DataFrame([feat2importance.keys(), \n",
    "                          feat2importance.values()]).T.sort_values(1, ascending=False))\n",
    "\n",
    "for tgt in tgt2bst:\n",
    "    show_feat_importance(tgt)"
   ]
  },
  {
   "cell_type": "code",
   "execution_count": 23,
   "metadata": {},
   "outputs": [
    {
     "name": "stdout",
     "output_type": "stream",
     "text": [
      "Retweet\n",
      "tr prauc: 0.9396 tr rce: 42.2678\n",
      "vl prauc: 0.5075 vl rce: 11.7434\n",
      "Reply\n",
      "tr prauc: 0.6431 tr rce: 30.9773\n",
      "vl prauc: 0.2695 vl rce: 10.5666\n",
      "Like\n",
      "tr prauc: 0.9021 tr rce: 32.6736\n",
      "vl prauc: 0.7374 vl rce: 16.4061\n",
      "RTwCmnt\n",
      "tr prauc: 0.7966 tr rce: 24.6693\n",
      "vl prauc: 0.1924 vl rce: 3.1710\n"
     ]
    }
   ],
   "source": [
    "tgt2auc_tr={}\n",
    "tgt2rce_tr={}\n",
    "tgt2auc_vl={}\n",
    "tgt2rce_vl={}\n",
    "for tgt in tgt2bst:\n",
    "    print(tgt)\n",
    "    prdtr_i, prdvl_i = tgt2prdtr[tgt], tgt2prdvl[tgt]\n",
    "    ytr_i, yvl_i = tgt2ytr[tgt], tgt2yvl[tgt]\n",
    "    scr_auc_tr=compute_prauc(prdtr_i, ytr_i)\n",
    "    scr_rce_tr=compute_rce(prdtr_i, ytr_i)\n",
    "    scr_auc_vl=compute_prauc(prdvl_i, yvl_i)\n",
    "    scr_rce_vl=compute_rce(prdvl_i, yvl_i)\n",
    "\n",
    "    tgt2auc_tr[tgt]=scr_auc_tr\n",
    "    tgt2rce_tr[tgt]=scr_rce_tr\n",
    "    tgt2auc_vl[tgt]=scr_auc_vl\n",
    "    tgt2rce_vl[tgt]=scr_rce_vl\n",
    "    \n",
    "    print('tr prauc:', f'{scr_auc_tr:.4f}','tr rce:', f'{scr_rce_tr:.4f}', )\n",
    "    print('vl prauc:', f'{scr_auc_vl:.4f}','vl rce:', f'{scr_rce_vl:.4f}', )"
   ]
  },
  {
   "cell_type": "code",
   "execution_count": 24,
   "metadata": {},
   "outputs": [
    {
     "data": {
      "text/html": [
       "<div>\n",
       "<style scoped>\n",
       "    .dataframe tbody tr th:only-of-type {\n",
       "        vertical-align: middle;\n",
       "    }\n",
       "\n",
       "    .dataframe tbody tr th {\n",
       "        vertical-align: top;\n",
       "    }\n",
       "\n",
       "    .dataframe thead th {\n",
       "        text-align: right;\n",
       "    }\n",
       "</style>\n",
       "<table border=\"1\" class=\"dataframe\">\n",
       "  <thead>\n",
       "    <tr style=\"text-align: right;\">\n",
       "      <th></th>\n",
       "      <th>0</th>\n",
       "      <th>1</th>\n",
       "      <th>2</th>\n",
       "      <th>3</th>\n",
       "      <th>4</th>\n",
       "      <th>5</th>\n",
       "      <th>6</th>\n",
       "      <th>7</th>\n",
       "    </tr>\n",
       "  </thead>\n",
       "  <tbody>\n",
       "    <tr>\n",
       "      <th>metric</th>\n",
       "      <td>PRAUC Retweet</td>\n",
       "      <td>RCE Retweet</td>\n",
       "      <td>PRAUC Reply</td>\n",
       "      <td>RCE Reply</td>\n",
       "      <td>PRAUC Like</td>\n",
       "      <td>RCE Like</td>\n",
       "      <td>PRAUC RTwCmnt</td>\n",
       "      <td>RCE RTwCmnt</td>\n",
       "    </tr>\n",
       "    <tr>\n",
       "      <th>scrtr</th>\n",
       "      <td>0.939598</td>\n",
       "      <td>42.2678</td>\n",
       "      <td>0.643145</td>\n",
       "      <td>30.9773</td>\n",
       "      <td>0.902101</td>\n",
       "      <td>32.6736</td>\n",
       "      <td>0.796626</td>\n",
       "      <td>24.6693</td>\n",
       "    </tr>\n",
       "    <tr>\n",
       "      <th>scrvl</th>\n",
       "      <td>0.507488</td>\n",
       "      <td>11.7434</td>\n",
       "      <td>0.269485</td>\n",
       "      <td>10.5666</td>\n",
       "      <td>0.737377</td>\n",
       "      <td>16.4061</td>\n",
       "      <td>0.192423</td>\n",
       "      <td>3.17097</td>\n",
       "    </tr>\n",
       "  </tbody>\n",
       "</table>\n",
       "</div>"
      ],
      "text/plain": [
       "                    0            1            2          3           4  \\\n",
       "metric  PRAUC Retweet  RCE Retweet  PRAUC Reply  RCE Reply  PRAUC Like   \n",
       "scrtr        0.939598      42.2678     0.643145    30.9773    0.902101   \n",
       "scrvl        0.507488      11.7434     0.269485    10.5666    0.737377   \n",
       "\n",
       "               5              6            7  \n",
       "metric  RCE Like  PRAUC RTwCmnt  RCE RTwCmnt  \n",
       "scrtr    32.6736       0.796626      24.6693  \n",
       "scrvl    16.4061       0.192423      3.17097  "
      ]
     },
     "execution_count": 24,
     "metadata": {},
     "output_type": "execute_result"
    }
   ],
   "source": [
    "lsttr=[]\n",
    "lstvl=[]\n",
    "for tgt in ['Retweet','Reply','Like','RTwCmnt',]:\n",
    "    if tgt not in tgt2bst: continue\n",
    "    lsttr+=[(f'PRAUC {tgt}',tgt2auc_tr[tgt]),\n",
    "          (f'RCE {tgt}',tgt2rce_tr[tgt])]\n",
    "    lstvl+=[(f'PRAUC {tgt}',tgt2auc_vl[tgt]),\n",
    "          (f'RCE {tgt}',tgt2rce_vl[tgt])]\n",
    "\n",
    "dfscrtr=pd.DataFrame(lsttr)\n",
    "dfscrtr.columns=['metric','scr']\n",
    "dfscrvl=pd.DataFrame(lstvl)\n",
    "dfscrvl.columns=['metric','scr']\n",
    "dfscr = pd.merge(dfscrtr, dfscrvl, on='metric', suffixes=('tr','vl'))\n",
    "dfscr.T"
   ]
  },
  {
   "cell_type": "markdown",
   "metadata": {},
   "source": [
    "## valid"
   ]
  },
  {
   "cell_type": "code",
   "execution_count": 25,
   "metadata": {},
   "outputs": [],
   "source": [
    "# tgt=tgts[1]\n",
    "# tgtcol=tgt2col[tgt]\n",
    "# bst=tgt2bst[tgt]\n",
    "\n",
    "# dvalid=xgb.DMatrix(dfvalid[cols_feat], label=dfvalid[tgtcol], feature_names=cols_feat)\n",
    "\n",
    "# prdvalid = bst.predict(dvalid, ntree_limit=bst.best_ntree_limit)\n",
    "\n",
    "# pops=tgt2pops[tgt]\n",
    "\n",
    "# prdvalid[:10]\n",
    "# # array([0.11734424, 0.09971393, 0.05619054, 0.03059793, 0.07979691,\n",
    "# #        0.01358252, 0.05293725, 0.27954698, 0.05738379, 0.01741553],\n",
    "# #       dtype=float32)\n",
    "\n",
    "\n",
    "# pops\n",
    "# # {'train_pop': 4000000,\n",
    "# #  'target_pop': 109752,\n",
    "# #  'sampled_train_pop': 1000000,\n",
    "# #  'sampled_target_pop': 109752}\n",
    "\n",
    "# prdvalid_calib = calibration(prdvalid, **pops)\n",
    "\n",
    "# prdvalid_calib[:10]\n",
    "# # array([0.02952491, 0.02471944, 0.01344113, 0.00717127, 0.01945818,\n",
    "# #        0.00314114, 0.0126298 , 0.08155248, 0.01373977, 0.00403964],\n",
    "# #       dtype=float32)"
   ]
  },
  {
   "cell_type": "code",
   "execution_count": 26,
   "metadata": {},
   "outputs": [],
   "source": [
    "def do_post_valid(tgt):\n",
    "    tgtcol=tgt2col[tgt]\n",
    "    bst=tgt2bst[tgt]\n",
    "    pops=tgt2pops[tgt]\n",
    "    prdvalid = bst.predict(dfvalid[cols_feat],num_iteration=bst.best_iteration)\n",
    "    prdvalid_calib = calibration(prdvalid, **pops)\n",
    "    return prdvalid,prdvalid_calib"
   ]
  },
  {
   "cell_type": "code",
   "execution_count": 27,
   "metadata": {},
   "outputs": [
    {
     "name": "stdout",
     "output_type": "stream",
     "text": [
      "2020-03-24 19:33:46 Retweet\n",
      "2020-03-24 19:33:46 Reply\n",
      "2020-03-24 19:33:46 Like\n",
      "2020-03-24 19:33:46 RTwCmnt\n"
     ]
    }
   ],
   "source": [
    "tgt2yvalid={tgt:dfvalid[tgt2col[tgt]] for tgt in tgts}\n",
    "tgt2prdvalid={}\n",
    "tgt2prdvalid_calib={}\n",
    "for tgt in tgts:\n",
    "    print(dtnow(), tgt)\n",
    "    tgt2prdvalid[tgt],tgt2prdvalid_calib[tgt]=do_post_valid(tgt)\n"
   ]
  },
  {
   "cell_type": "code",
   "execution_count": 17,
   "metadata": {},
   "outputs": [
    {
     "name": "stdout",
     "output_type": "stream",
     "text": [
      "2020-03-24 19:31:41 Retweet\n",
      "2020-03-24 19:31:41 Reply\n",
      "2020-03-24 19:31:41 Like\n",
      "2020-03-24 19:31:41 RTwCmnt\n"
     ]
    }
   ],
   "source": [
    "tgt2auc_valid={}\n",
    "tgt2rce_valid={}\n",
    "tgt2auc_valid_calib={}\n",
    "tgt2rce_valid_calib={}\n",
    "for tgt in tgts:\n",
    "    print(dtnow(), tgt)\n",
    "    prdvalid, prdvalid_calib = tgt2prdvalid[tgt], tgt2prdvalid_calib[tgt]\n",
    "    yvalid = tgt2yvalid[tgt]\n",
    "    scr_auc_valid=compute_prauc(prdvalid, yvalid)\n",
    "    scr_rce_valid=compute_rce(prdvalid, yvalid)\n",
    "    scr_auc_valid_calib=compute_prauc(prdvalid_calib, yvalid)\n",
    "    scr_rce_valid_calib=compute_rce(prdvalid_calib, yvalid)\n",
    "\n",
    "    tgt2auc_valid[tgt]=scr_auc_valid\n",
    "    tgt2rce_valid[tgt]=scr_rce_valid\n",
    "    tgt2auc_valid_calib[tgt]=scr_auc_valid_calib\n",
    "    tgt2rce_valid_calib[tgt]=scr_rce_valid_calib"
   ]
  },
  {
   "cell_type": "code",
   "execution_count": 18,
   "metadata": {},
   "outputs": [
    {
     "name": "stdout",
     "output_type": "stream",
     "text": [
      "Retweet\n",
      "tr          prauc: 0.8277 tr rce: 37.4408\n",
      "vl          prauc: 0.4988 tr rce: 16.6940\n",
      "valid       prauc: 0.1784 tr rce: -6.6835\n",
      "valid_calib prauc: 0.1784 tr rce: -6.6835\n",
      "Reply\n",
      "tr          prauc: 0.7124 tr rce: 37.2020\n",
      "vl          prauc: 0.3485 tr rce: 17.0471\n",
      "valid       prauc: 0.0627 tr rce: -32.1303\n",
      "valid_calib prauc: 0.0627 tr rce: -32.1303\n",
      "Like\n",
      "tr          prauc: 0.9487 tr rce: 40.4194\n",
      "vl          prauc: 0.7555 tr rce: 15.6584\n",
      "valid       prauc: 0.5835 tr rce: 3.6793\n",
      "valid_calib prauc: 0.5835 tr rce: 3.6793\n",
      "RTwCmnt\n",
      "tr          prauc: 0.2421 tr rce: 2.1243\n",
      "vl          prauc: 0.3412 tr rce: 2.6167\n",
      "valid       prauc: 0.1076 tr rce: -294.2384\n",
      "valid_calib prauc: 0.1076 tr rce: -294.2384\n"
     ]
    }
   ],
   "source": [
    "for tgt in tgts:\n",
    "    print(tgt)\n",
    "    print('tr          prauc:', f'{tgt2auc_tr[tgt]:.4f}','tr rce:', f'{tgt2rce_tr[tgt]:.4f}', )\n",
    "    print('vl          prauc:', f'{tgt2auc_vl[tgt]:.4f}','tr rce:', f'{tgt2rce_vl[tgt]:.4f}', )\n",
    "    print('valid       prauc:', f'{tgt2auc_valid[tgt]:.4f}','tr rce:', f'{tgt2rce_valid[tgt]:.4f}', )\n",
    "    print('valid_calib prauc:', f'{tgt2auc_valid_calib[tgt]:.4f}','tr rce:', f'{tgt2rce_valid_calib[tgt]:.4f}', )\n",
    "    "
   ]
  },
  {
   "cell_type": "code",
   "execution_count": 19,
   "metadata": {},
   "outputs": [
    {
     "data": {
      "text/html": [
       "<div>\n",
       "<style scoped>\n",
       "    .dataframe tbody tr th:only-of-type {\n",
       "        vertical-align: middle;\n",
       "    }\n",
       "\n",
       "    .dataframe tbody tr th {\n",
       "        vertical-align: top;\n",
       "    }\n",
       "\n",
       "    .dataframe thead th {\n",
       "        text-align: right;\n",
       "    }\n",
       "</style>\n",
       "<table border=\"1\" class=\"dataframe\">\n",
       "  <thead>\n",
       "    <tr style=\"text-align: right;\">\n",
       "      <th></th>\n",
       "      <th>0</th>\n",
       "      <th>1</th>\n",
       "      <th>2</th>\n",
       "      <th>3</th>\n",
       "      <th>4</th>\n",
       "      <th>5</th>\n",
       "      <th>6</th>\n",
       "      <th>7</th>\n",
       "    </tr>\n",
       "  </thead>\n",
       "  <tbody>\n",
       "    <tr>\n",
       "      <th>scr</th>\n",
       "      <td>PRAUC Retweet</td>\n",
       "      <td>RCE Retweet</td>\n",
       "      <td>PRAUC Reply</td>\n",
       "      <td>RCE Reply</td>\n",
       "      <td>PRAUC Like</td>\n",
       "      <td>RCE Like</td>\n",
       "      <td>PRAUC RTwCmnt</td>\n",
       "      <td>RCE RTwCmnt</td>\n",
       "    </tr>\n",
       "    <tr>\n",
       "      <th>tr</th>\n",
       "      <td>0.827709</td>\n",
       "      <td>37.4408</td>\n",
       "      <td>0.712401</td>\n",
       "      <td>37.202</td>\n",
       "      <td>0.948744</td>\n",
       "      <td>40.4194</td>\n",
       "      <td>0.24212</td>\n",
       "      <td>2.12432</td>\n",
       "    </tr>\n",
       "    <tr>\n",
       "      <th>vl</th>\n",
       "      <td>0.498818</td>\n",
       "      <td>16.694</td>\n",
       "      <td>0.348529</td>\n",
       "      <td>17.0471</td>\n",
       "      <td>0.75554</td>\n",
       "      <td>15.6584</td>\n",
       "      <td>0.341244</td>\n",
       "      <td>2.61671</td>\n",
       "    </tr>\n",
       "    <tr>\n",
       "      <th>valid</th>\n",
       "      <td>0.178408</td>\n",
       "      <td>-6.68354</td>\n",
       "      <td>0.0627351</td>\n",
       "      <td>-32.1303</td>\n",
       "      <td>0.583538</td>\n",
       "      <td>3.67928</td>\n",
       "      <td>0.107633</td>\n",
       "      <td>-294.238</td>\n",
       "    </tr>\n",
       "    <tr>\n",
       "      <th>valid_calib</th>\n",
       "      <td>0.178408</td>\n",
       "      <td>-6.68354</td>\n",
       "      <td>0.0627351</td>\n",
       "      <td>-32.1303</td>\n",
       "      <td>0.583538</td>\n",
       "      <td>3.67928</td>\n",
       "      <td>0.107633</td>\n",
       "      <td>-294.238</td>\n",
       "    </tr>\n",
       "  </tbody>\n",
       "</table>\n",
       "</div>"
      ],
      "text/plain": [
       "                         0            1            2          3           4  \\\n",
       "scr          PRAUC Retweet  RCE Retweet  PRAUC Reply  RCE Reply  PRAUC Like   \n",
       "tr                0.827709      37.4408     0.712401     37.202    0.948744   \n",
       "vl                0.498818       16.694     0.348529    17.0471     0.75554   \n",
       "valid             0.178408     -6.68354    0.0627351   -32.1303    0.583538   \n",
       "valid_calib       0.178408     -6.68354    0.0627351   -32.1303    0.583538   \n",
       "\n",
       "                    5              6            7  \n",
       "scr          RCE Like  PRAUC RTwCmnt  RCE RTwCmnt  \n",
       "tr            40.4194        0.24212      2.12432  \n",
       "vl            15.6584       0.341244      2.61671  \n",
       "valid         3.67928       0.107633     -294.238  \n",
       "valid_calib   3.67928       0.107633     -294.238  "
      ]
     },
     "execution_count": 19,
     "metadata": {},
     "output_type": "execute_result"
    }
   ],
   "source": [
    "lsttr=[]\n",
    "lstvl=[]\n",
    "lstvalid=[]\n",
    "lstvalid_calib=[]\n",
    "for tgt in ['Retweet','Reply','Like','RTwCmnt',]:\n",
    "    if tgt not in tgt2bst: continue\n",
    "    lsttr+=[(f'PRAUC {tgt}',tgt2auc_tr[tgt]),\n",
    "          (f'RCE {tgt}',tgt2rce_tr[tgt])]\n",
    "    lstvl+=[(f'PRAUC {tgt}',tgt2auc_vl[tgt]),\n",
    "          (f'RCE {tgt}',tgt2rce_vl[tgt])]\n",
    "    lstvalid+=[(f'PRAUC {tgt}',tgt2auc_valid[tgt]),\n",
    "          (f'RCE {tgt}',tgt2rce_valid[tgt])]\n",
    "    lstvalid_calib+=[(f'PRAUC {tgt}',tgt2auc_valid_calib[tgt]),\n",
    "          (f'RCE {tgt}',tgt2rce_valid_calib[tgt])]\n",
    "\n",
    "dfscrtr=pd.DataFrame(lsttr)\n",
    "dfscrtr.columns=['metric','scr']\n",
    "dfscrvl=pd.DataFrame(lstvl)\n",
    "dfscrvl.columns=['metric','scr']\n",
    "dfscrvalid=pd.DataFrame(lstvalid)\n",
    "dfscrvalid.columns=['metric','scr']\n",
    "dfscrvalid_calib=pd.DataFrame(lstvalid_calib)\n",
    "dfscrvalid_calib.columns=['metric','scr']\n",
    "\n",
    "dfscr = reduce(lambda df1,df2: pd.merge(df1,df2,on='metric'), \n",
    "            [dfscrtr,dfscrvl,dfscrvalid,dfscrvalid_calib])\n",
    "\n",
    "dfscr.columns=['scr','tr','vl','valid','valid_calib']\n",
    "dfscr.T"
   ]
  },
  {
   "cell_type": "code",
   "execution_count": null,
   "metadata": {},
   "outputs": [],
   "source": []
  },
  {
   "cell_type": "markdown",
   "metadata": {},
   "source": [
    "# infer"
   ]
  },
  {
   "cell_type": "raw",
   "metadata": {},
   "source": [
    "ls -lhS $p_in | grep val"
   ]
  },
  {
   "cell_type": "code",
   "execution_count": null,
   "metadata": {},
   "outputs": [],
   "source": [
    "%%time\n",
    "dftst=pd.read_csv(\n",
    "    f'{p_in}/val_{valtmstmp}.tsv',\n",
    "#     f'{p_in}/val_259A6F6DFD672CB1F883CBEC01B99F2D_1584405047.tsv',\n",
    "    sep='\\x01', header=None, names=cols_val,)\n"
   ]
  },
  {
   "cell_type": "code",
   "execution_count": null,
   "metadata": {
    "scrolled": false
   },
   "outputs": [],
   "source": [
    "%%time\n",
    "dftst = prp_df(dftst, istrn=False)"
   ]
  },
  {
   "cell_type": "code",
   "execution_count": 35,
   "metadata": {
    "scrolled": true
   },
   "outputs": [
    {
     "name": "stdout",
     "output_type": "stream",
     "text": [
      "2020-03-24 18:14:52 Retweet\n",
      "2020-03-24 18:18:05 Reply\n",
      "2020-03-24 18:21:01 Like\n",
      "2020-03-24 18:25:01 RTwCmnt\n",
      "CPU times: user 2h 2min 21s, sys: 6min 29s, total: 2h 8min 50s\n",
      "Wall time: 13min 21s\n"
     ]
    }
   ],
   "source": [
    "%%time\n",
    "tgt2prdtst={}\n",
    "for tgt in tgts:\n",
    "    print(dtnow(), tgt)\n",
    "    bst = tgt2bst[tgt]\n",
    "    pops=tgt2pops[tgt]\n",
    "    prdtst = bst.predict(dftst[cols_feat], num_iteration=bst.best_iteration)\n",
    "    prdtst_calib = calibration(prdtst, **pops)\n",
    "    tgt2prdtst[tgt] = prdtst_calib"
   ]
  },
  {
   "cell_type": "code",
   "execution_count": null,
   "metadata": {},
   "outputs": [],
   "source": []
  },
  {
   "cell_type": "code",
   "execution_count": null,
   "metadata": {},
   "outputs": [],
   "source": [
    "dfsub_ids = dftst[['twtid','u2id',]]\n",
    "\n",
    "tgt2dfsub = {}\n",
    "for tgt,prdtst in tgt2prdtst.items():\n",
    "    dfsub = dfsub_ids.copy()\n",
    "    dfsub['scr'] = prdtst\n",
    "    tgt2dfsub[tgt]=dfsub"
   ]
  },
  {
   "cell_type": "code",
   "execution_count": null,
   "metadata": {},
   "outputs": [],
   "source": [
    "%%time\n",
    "for i,tgt in enumerate(['Retweet','Reply','RTwCmnt','Like',]):\n",
    "    dfsub = tgt2dfsub[tgt]\n",
    "    print(dtnow(), tgt)\n",
    "    dfsub.to_csv(f'{p_out}/{i}_{tgt}__{valtmstmp}__{PRFX}.csv',index=False,header=False)"
   ]
  },
  {
   "cell_type": "code",
   "execution_count": null,
   "metadata": {},
   "outputs": [],
   "source": []
  },
  {
   "cell_type": "code",
   "execution_count": null,
   "metadata": {},
   "outputs": [],
   "source": []
  },
  {
   "cell_type": "code",
   "execution_count": null,
   "metadata": {},
   "outputs": [],
   "source": []
  },
  {
   "cell_type": "code",
   "execution_count": null,
   "metadata": {},
   "outputs": [],
   "source": []
  },
  {
   "cell_type": "code",
   "execution_count": null,
   "metadata": {},
   "outputs": [],
   "source": []
  }
 ],
 "metadata": {
  "kernelspec": {
   "display_name": "rcss20",
   "language": "python",
   "name": "rcss20"
  },
  "language_info": {
   "codemirror_mode": {
    "name": "ipython",
    "version": 3
   },
   "file_extension": ".py",
   "mimetype": "text/x-python",
   "name": "python",
   "nbconvert_exporter": "python",
   "pygments_lexer": "ipython3",
   "version": "3.7.6"
  },
  "toc": {
   "base_numbering": 1,
   "nav_menu": {},
   "number_sections": true,
   "sideBar": true,
   "skip_h1_title": false,
   "title_cell": "Table of Contents",
   "title_sidebar": "Contents",
   "toc_cell": false,
   "toc_position": {},
   "toc_section_display": true,
   "toc_window_display": true
  }
 },
 "nbformat": 4,
 "nbformat_minor": 4
}
