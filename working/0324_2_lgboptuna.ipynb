{
 "cells": [
  {
   "cell_type": "markdown",
   "metadata": {},
   "source": [
    "- https://medium.com/optuna/lightgbm-tuner-new-optuna-integration-for-hyperparameter-optimization-8b7095e99258\n",
    "- https://github.com/optuna/optuna/blob/master/examples/lightgbm_tuner_simple.py"
   ]
  },
  {
   "cell_type": "markdown",
   "metadata": {},
   "source": [
    "# start"
   ]
  },
  {
   "cell_type": "code",
   "execution_count": 1,
   "metadata": {},
   "outputs": [
    {
     "name": "stdout",
     "output_type": "stream",
     "text": [
      "['2020-03-17 02:32:24', '2020-03-24 17:09:45']\n",
      "['2020-02-06 00:00:00', '2020-02-13 00:00:00']\n"
     ]
    }
   ],
   "source": [
    "PRFX='0324_2'\n",
    "trntmstmp=1584412344\n",
    "valtmstmp=1585069785\n",
    "import datetime\n",
    "print([datetime.datetime.fromtimestamp(o).strftime('%Y-%m-%d %H:%M:%S') for o in (trntmstmp, valtmstmp)])\n",
    "\n",
    "grand_total=1.5e8\n",
    "MIN_TM_TRN=1580947200\n",
    "MIN_TM_TST=1581552000\n",
    "print([datetime.datetime.fromtimestamp(o).strftime('%Y-%m-%d %H:%M:%S') for o in (MIN_TM_TRN, MIN_TM_TST)])\n",
    "\n",
    "\n",
    "CHNKSZ=1e6\n",
    "POST_RATE_WANTED=0.1"
   ]
  },
  {
   "cell_type": "markdown",
   "metadata": {},
   "source": [
    "# setup"
   ]
  },
  {
   "cell_type": "code",
   "execution_count": 2,
   "metadata": {
    "scrolled": true
   },
   "outputs": [
    {
     "data": {
      "text/plain": [
       "{'Retweet': 'retwt',\n",
       " 'Reply': 'reply',\n",
       " 'Like': 'like',\n",
       " 'RTwCmnt': 'retwt_cmmnt'}"
      ]
     },
     "execution_count": 2,
     "metadata": {},
     "output_type": "execute_result"
    }
   ],
   "source": [
    "from pathlib import Path\n",
    "# import dask\n",
    "# print('dask.__version__', dask.__version__)\n",
    "import xgboost as xgb\n",
    "# import lightgbm as lgb\n",
    "\n",
    "import optuna\n",
    "import optuna.integration.lightgbm as lgb\n",
    "\n",
    "\n",
    "# optuna.logging.CRITICAL, optuna.logging.FATAL\n",
    "# optuna.logging.ERROR\n",
    "# optuna.logging.WARNING, optuna.logging.WARN\n",
    "# optuna.logging.INFO\n",
    "# optuna.logging.DEBUG\n",
    "optuna.logging.set_verbosity(optuna.logging.ERROR)\n",
    "\n",
    "\n",
    "# import dask_xgboost\n",
    "# import dask.dataframe as dd\n",
    "from sklearn.model_selection import train_test_split\n",
    "import pandas as pd\n",
    "import numpy as np\n",
    "import matplotlib.pyplot as plt\n",
    "from sklearn.metrics import accuracy_score, roc_auc_score, roc_curve, auc, precision_recall_curve\n",
    "from dask.distributed import Client\n",
    "import pickle\n",
    "from tqdm import tqdm\n",
    "from collections import Counter\n",
    "pd.set_option('display.max_rows', 500)\n",
    "\n",
    "from functools import reduce\n",
    "import datetime\n",
    "def dtnow(): return datetime.datetime.now().strftime('%Y-%m-%d %H:%M:%S')\n",
    "\n",
    "SEED=101\n",
    "HOME='/data/git/recsys20'\n",
    "p_in=f'{HOME}/input'\n",
    "p_out=f'{HOME}/output/{PRFX}'\n",
    "Path(p_out).mkdir(exist_ok=True, parents=True)\n",
    "\n",
    "from sklearn.metrics import precision_recall_curve, auc, log_loss\n",
    "\n",
    "def compute_prauc(pred, gt):\n",
    "    prec, recall, thresh = precision_recall_curve(gt, pred)\n",
    "    prauc = auc(recall, prec)\n",
    "    return prauc\n",
    "\n",
    "def calculate_ctr(gt):\n",
    "    positive = len([x for x in gt if x == 1])\n",
    "    ctr = positive/float(len(gt))\n",
    "    return ctr\n",
    "\n",
    "def compute_rce(pred, gt):\n",
    "    cross_entropy = log_loss(gt, pred)\n",
    "    data_ctr = calculate_ctr(gt)\n",
    "    strawman_cross_entropy = log_loss(gt, [data_ctr for _ in range(len(gt))])\n",
    "    return (1.0 - cross_entropy/strawman_cross_entropy)*100.0\n",
    "\n",
    "# https://towardsdatascience.com/how-to-calibrate-undersampled-model-scores-8f3319c1ea5b\n",
    "# How to use the function?\n",
    "# Let’s say your goal is to generate a model that shows the credit default probabilities and your original \n",
    "# training data has 50,000 rows with only 500 of them labeled as target class. When you sample your non-target \n",
    "# instances randomly and reduce the total row count to 10,000, while conserving 500 target rows, our calibration\n",
    "# function becomes:\n",
    "# calibration(model_results, 50000, 500, 10000, 500)\n",
    "# Here model_results is your model probability output array. After you train your model and put the results in it, your function is ready to use. \n",
    "\n",
    "def calibration(data, train_pop, target_pop, sampled_train_pop, sampled_target_pop):\n",
    "    calibrated_data = \\\n",
    "    ((data * (target_pop / train_pop) / (sampled_target_pop / sampled_train_pop)) /\n",
    "    ((\n",
    "        (1 - data) * (1 - target_pop / train_pop) / (1 - sampled_target_pop / sampled_train_pop)\n",
    "     ) +\n",
    "     (\n",
    "        data * (target_pop / train_pop) / (sampled_target_pop / sampled_train_pop)\n",
    "     )))\n",
    "\n",
    "    return calibrated_data\n",
    "\n",
    "cols=[\n",
    "'toks',\n",
    "'hshtgs',\n",
    "'twtid',\n",
    "'media',\n",
    "'links',\n",
    "'domns',\n",
    "'twttyp',\n",
    "'lang',\n",
    "'tm',\n",
    "\n",
    "'u1id',\n",
    "'u1_fllwer_cnt',\n",
    "'u1_fllwng_cnt',\n",
    "'u1_vrfed',\n",
    "'u1_create_tm',\n",
    "\n",
    "'u2id',\n",
    "'u2_fllwer_cnt',\n",
    "'u2_fllwng_cnt',\n",
    "'u2_vrfed',\n",
    "'u2_create_tm',\n",
    "\n",
    "'u1_fllw_u2',\n",
    "'reply_tm',\n",
    "'retwt_tm',\n",
    "'retwt_cmmnt_tm',\n",
    "'like_tm',\n",
    "]\n",
    "cols_cat = ['twttyp','lang']\n",
    "cols_val = cols[:-4]\n",
    "cols_tgt_tmstmp=[\n",
    "    'retwt_tm',\n",
    "    'reply_tm',\n",
    "    'like_tm',\n",
    "    'retwt_cmmnt_tm',\n",
    "]\n",
    "cols_tgt=[o.split('_tm')[0] for o in cols_tgt_tmstmp]\n",
    "tgts             = ['Retweet','Reply','Like','RTwCmnt',]\n",
    "assert cols_tgt == ['retwt',  'reply','like','retwt_cmmnt',]\n",
    "ntgts=len(tgts)\n",
    "\n",
    "\n",
    "\n",
    "tgt2col=dict(zip(tgts,cols_tgt))\n",
    "tgt2col"
   ]
  },
  {
   "cell_type": "markdown",
   "metadata": {},
   "source": [
    "# prepare data"
   ]
  },
  {
   "cell_type": "code",
   "execution_count": 3,
   "metadata": {},
   "outputs": [],
   "source": [
    "chnks_trn = pd.read_csv(f'{p_in}/trn_{trntmstmp}.tsv',sep='\\x01',\n",
    "                    header=None,names=cols, \n",
    "                        chunksize=CHNKSZ)\n",
    "# first chunk as validate data\n",
    "for ichnk,df in enumerate(chnks_trn):\n",
    "    df\n",
    "    break"
   ]
  },
  {
   "cell_type": "code",
   "execution_count": 4,
   "metadata": {},
   "outputs": [],
   "source": [
    "istrn=True\n",
    "tm_min = MIN_TM_TRN if istrn else MIN_TM_TST\n",
    "df['len_toks'] = df.toks.apply(len)\n",
    "for media in ['Photo', 'Video', 'GIF']:\n",
    "    df[f'has_media_{media}'] = df.media.fillna('').apply(lambda x: media in x)\n",
    "for col in ['hshtgs', 'links', 'domns',]:\n",
    "    df[f'num_{col}'] = df[col].fillna('').apply(lambda x: len(x.split('\\t')) if len(x) else 0)\n",
    "\n",
    "df['twt_age'] = df.tm - tm_min\n",
    "df['u1_age']  = df.tm - df.u1_create_tm\n",
    "df['u2_age']  = df.tm - df.u2_create_tm\n",
    "\n",
    "tm_dt=pd.to_datetime(df.tm, unit='s')\n",
    "df['tm_dayofweek']=tm_dt.dt.dayofweek\n",
    "df['tm_hour']=tm_dt.dt.hour\n",
    "\n",
    "df['tmdlta_u2u1']  = df.u2_create_tm - df.u1_create_tm\n",
    "\n",
    "df['u1_fllwer_cnt_by_age'] = df.u1_fllwer_cnt / df.u1_age\n",
    "df['u1_fllwng_cnt_by_age'] = df.u2_fllwng_cnt / df.u2_age\n",
    "\n",
    "for col in ['twttyp','lang']:\n",
    "    df[col]=df[col].astype('category')\n",
    "\n",
    "if istrn: \n",
    "    df[cols_tgt]=df[cols_tgt_tmstmp].notna().astype('int8')\n",
    "    df.drop(inplace=True, columns=['toks', 'hshtgs', 'media', 'links', 'domns',  \n",
    "                                   'tm', 'u1_create_tm','u2_create_tm', 'u1id', 'u2id', 'twtid', ]+cols_tgt_tmstmp, )\n",
    "else:\n",
    "    df.drop(inplace=True, columns=['toks', 'hshtgs', 'media', 'links', 'domns', \n",
    "                                   'tm', 'u1_create_tm','u2_create_tm', 'u1id', ])   "
   ]
  },
  {
   "cell_type": "code",
   "execution_count": 5,
   "metadata": {},
   "outputs": [
    {
     "data": {
      "text/plain": [
       "twttyp                  category\n",
       "lang                    category\n",
       "u1_fllwer_cnt              int64\n",
       "u1_fllwng_cnt              int64\n",
       "u1_vrfed                    bool\n",
       "u2_fllwer_cnt              int64\n",
       "u2_fllwng_cnt              int64\n",
       "u2_vrfed                    bool\n",
       "u1_fllw_u2                  bool\n",
       "len_toks                   int64\n",
       "has_media_Photo             bool\n",
       "has_media_Video             bool\n",
       "has_media_GIF               bool\n",
       "num_hshtgs                 int64\n",
       "num_links                  int64\n",
       "num_domns                  int64\n",
       "twt_age                    int64\n",
       "u1_age                     int64\n",
       "u2_age                     int64\n",
       "tm_dayofweek               int64\n",
       "tm_hour                    int64\n",
       "tmdlta_u2u1                int64\n",
       "u1_fllwer_cnt_by_age     float64\n",
       "u1_fllwng_cnt_by_age     float64\n",
       "retwt                       int8\n",
       "reply                       int8\n",
       "like                        int8\n",
       "retwt_cmmnt                 int8\n",
       "dtype: object"
      ]
     },
     "execution_count": 5,
     "metadata": {},
     "output_type": "execute_result"
    }
   ],
   "source": [
    "df.dtypes"
   ]
  },
  {
   "cell_type": "markdown",
   "metadata": {},
   "source": [
    "## prep func"
   ]
  },
  {
   "cell_type": "code",
   "execution_count": 6,
   "metadata": {},
   "outputs": [],
   "source": [
    "def prp_df(df, istrn=True):\n",
    "    tm_min = MIN_TM_TRN if istrn else MIN_TM_TST\n",
    "    df['len_toks'] = df.toks.apply(len)\n",
    "    for media in ['Photo', 'Video', 'GIF']:\n",
    "        df[f'has_media_{media}'] = df.media.fillna('').apply(lambda x: media in x)\n",
    "    for col in ['hshtgs', 'links', 'domns',]:\n",
    "        df[f'num_{col}'] = df[col].fillna('').apply(lambda x: len(x.split('\\t')) if len(x) else 0)\n",
    "\n",
    "    df['twt_age'] = df.tm - tm_min\n",
    "    df['u1_age']  = df.tm - df.u1_create_tm\n",
    "    df['u2_age']  = df.tm - df.u2_create_tm\n",
    "\n",
    "    tm_dt=pd.to_datetime(df.tm, unit='s')\n",
    "    df['tm_dayofweek']=tm_dt.dt.dayofweek\n",
    "    df['tm_hour']=tm_dt.dt.hour\n",
    "\n",
    "    df['tmdlta_u2u1']  = df.u2_create_tm - df.u1_create_tm\n",
    "\n",
    "    df['u1_fllwer_cnt_by_age'] = df.u1_fllwer_cnt / df.u1_age\n",
    "    df['u1_fllwng_cnt_by_age'] = df.u2_fllwng_cnt / df.u2_age\n",
    "\n",
    "    for col in cols_cat:\n",
    "        df[col]=df[col].astype('category')\n",
    "\n",
    "    if istrn: \n",
    "        df[cols_tgt]=df[cols_tgt_tmstmp].notna().astype('int8')\n",
    "        df.drop(inplace=True, columns=['toks', 'hshtgs', 'media', 'links', 'domns',  \n",
    "                                       'tm', 'u1_create_tm','u2_create_tm', 'u1id', 'u2id', 'twtid', ]+cols_tgt_tmstmp, )\n",
    "    else:\n",
    "        df.drop(inplace=True, columns=['toks', 'hshtgs', 'media', 'links', 'domns', \n",
    "                                       'tm', 'u1_create_tm','u2_create_tm', 'u1id', ])   \n",
    "    return df"
   ]
  },
  {
   "cell_type": "raw",
   "metadata": {
    "scrolled": true
   },
   "source": [
    "ls -hlS $p_in | grep {trntmstmp} "
   ]
  },
  {
   "cell_type": "code",
   "execution_count": 7,
   "metadata": {
    "scrolled": false
   },
   "outputs": [
    {
     "data": {
      "text/plain": [
       "(150000000.0, 150.0)"
      ]
     },
     "execution_count": 7,
     "metadata": {},
     "output_type": "execute_result"
    }
   ],
   "source": [
    "grand_total, grand_total/CHNKSZ"
   ]
  },
  {
   "cell_type": "markdown",
   "metadata": {},
   "source": [
    "## valid data"
   ]
  },
  {
   "cell_type": "code",
   "execution_count": 8,
   "metadata": {},
   "outputs": [
    {
     "name": "stdout",
     "output_type": "stream",
     "text": [
      "2020-03-24 19:54:02 chunk 0\n",
      "dfvalid.shape: (1000000, 28)\n"
     ]
    },
    {
     "data": {
      "text/plain": [
       "twttyp                  category\n",
       "lang                    category\n",
       "u1_fllwer_cnt              int64\n",
       "u1_fllwng_cnt              int64\n",
       "u1_vrfed                    bool\n",
       "u2_fllwer_cnt              int64\n",
       "u2_fllwng_cnt              int64\n",
       "u2_vrfed                    bool\n",
       "u1_fllw_u2                  bool\n",
       "len_toks                   int64\n",
       "has_media_Photo             bool\n",
       "has_media_Video             bool\n",
       "has_media_GIF               bool\n",
       "num_hshtgs                 int64\n",
       "num_links                  int64\n",
       "num_domns                  int64\n",
       "twt_age                    int64\n",
       "u1_age                     int64\n",
       "u2_age                     int64\n",
       "tm_dayofweek               int64\n",
       "tm_hour                    int64\n",
       "tmdlta_u2u1                int64\n",
       "u1_fllwer_cnt_by_age     float64\n",
       "u1_fllwng_cnt_by_age     float64\n",
       "dtype: object"
      ]
     },
     "metadata": {},
     "output_type": "display_data"
    }
   ],
   "source": [
    "chnks_trn = pd.read_csv(f'{p_in}/trn_{trntmstmp}.tsv',sep='\\x01',\n",
    "                    header=None,names=cols, \n",
    "                        chunksize=CHNKSZ)\n",
    "# first chunk as validate data\n",
    "for ichnk,df in enumerate(chnks_trn):\n",
    "    print(dtnow(), 'chunk', ichnk)\n",
    "#     print([datetime.datetime.fromtimestamp(o).strftime('%Y-%m-%d %H:%M:%S') \n",
    "#            for o in (df.tm.min(), df.tm.max())])\n",
    "    dfvalid = prp_df(df)\n",
    "    break\n",
    "print('dfvalid.shape:',dfvalid.shape)\n",
    "\n",
    "cols_feat=[o for o in dfvalid.columns if o not in cols_tgt]\n",
    "\n",
    "display(dfvalid[cols_feat].dtypes)"
   ]
  },
  {
   "cell_type": "code",
   "execution_count": null,
   "metadata": {},
   "outputs": [],
   "source": []
  },
  {
   "cell_type": "markdown",
   "metadata": {},
   "source": [
    "## trnval data func"
   ]
  },
  {
   "cell_type": "code",
   "execution_count": 9,
   "metadata": {},
   "outputs": [],
   "source": [
    "def getdftrvl(tgt):\n",
    "    print(tgt)\n",
    "    tgtcol=tgt2col[tgt]\n",
    "    chnks_trn = pd.read_csv(f'{p_in}/trn_{trntmstmp}.tsv',sep='\\x01',\n",
    "                        header=None,names=cols, \n",
    "                            chunksize=CHNKSZ)\n",
    "    len_df_wanted = int(CHNKSZ)\n",
    "    # retwt          0.113031\n",
    "    # reply          0.027488\n",
    "    # like           0.439499\n",
    "    # retwt_cmmnt    0.007742\n",
    "    pos_rate_wanted = POST_RATE_WANTED\n",
    "    n_pos_wanted = int(len_df_wanted*pos_rate_wanted)\n",
    "    print('n_pos_wanted', n_pos_wanted)\n",
    "    np.random.seed(SEED)\n",
    "    lst_df = []\n",
    "    n_pos_ttl = 0\n",
    "    for ichnk,df in enumerate(chnks_trn):\n",
    "        #skip first chunk (it was validate data)\n",
    "        if ichnk==0: continue\n",
    "        print(dtnow(), 'chunk', ichnk)\n",
    "        df = prp_df(df)\n",
    "        n_pos_ttl+= df[tgtcol].sum()\n",
    "        lst_df.append(df)\n",
    "        if n_pos_ttl>=n_pos_wanted: break\n",
    "\n",
    "    df = pd.concat(lst_df)\n",
    "    df.reset_index(drop=True,inplace=True)\n",
    "\n",
    "\n",
    "    # https://stackoverflow.com/questions/28556942/pandas-remove-rows-at-random-without-shuffling-dataset\n",
    "    idx_neg=np.where(df[tgtcol]==0)[0]\n",
    "    n_neg = len(idx_neg)\n",
    "    n_pos = len(df)-len(idx_neg)\n",
    "    n_neg2keep = len_df_wanted-n_pos\n",
    "    n_neg2rmv = n_neg-n_neg2keep\n",
    "    idx_neg2rmv = np.random.choice(idx_neg, n_neg2rmv, replace=False)\n",
    "    dftrvl = df.drop(idx_neg2rmv)\n",
    "    dftrvl = dftrvl.sample(len(dftrvl))\n",
    "    for col in cols_cat:\n",
    "        dftrvl[col]=dftrvl[col].astype('category')\n",
    "    \n",
    "#     display(dftrvl.dtypes)\n",
    "    print('dftrvl.shape:',dftrvl.shape,'dftrvl[tgtcol].mean():',dftrvl[tgtcol].mean())\n",
    "    \n",
    "    pops={\n",
    "        'train_pop':len(df),\n",
    "        'target_pop':n_pos,\n",
    "        'sampled_train_pop':len_df_wanted,\n",
    "        'sampled_target_pop':n_pos,\n",
    "    }\n",
    "    print(pops)\n",
    "    return dftrvl, pops"
   ]
  },
  {
   "cell_type": "markdown",
   "metadata": {},
   "source": [
    "# model"
   ]
  },
  {
   "cell_type": "code",
   "execution_count": 10,
   "metadata": {},
   "outputs": [],
   "source": [
    "def train(params,dtr,dvl):\n",
    "    print(params)\n",
    "    best_params, tuning_history = dict(), list()\n",
    "    evallist = [(dtr, 'train'), (dvl, 'eval')]\n",
    "    bst = lgb.train(params=params, \n",
    "                    train_set=dtr, \n",
    "                    valid_sets=[dtr, dvl],\n",
    "                    best_params=best_params,\n",
    "                    tuning_history=tuning_history,\n",
    "                    verbose_eval=100,\n",
    "                    early_stopping_rounds=100,\n",
    "                   )\n",
    "                    \n",
    "    return bst,best_params,tuning_history\n",
    "\n",
    "def valid(bst,dftr,dfvl):\n",
    "    prdtr = bst.predict(dftr[cols_feat],num_iteration=bst.best_iteration)\n",
    "    prdvl = bst.predict(dfvl[cols_feat],num_iteration=bst.best_iteration)\n",
    "    return prdtr,prdvl\n",
    "\n",
    "def do_tgt(tgt):\n",
    "    params=tgt2params[tgt]\n",
    "    tgtcol=tgt2col[tgt]\n",
    "    dftrvl, pops=getdftrvl(tgt)\n",
    "    split=int(len(dftrvl)*0.85)\n",
    "    dftr,dfvl=dftrvl[:split],dftrvl[split:]\n",
    "    dtr = lgb.Dataset(dftr[cols_feat], label=dftr[tgtcol])\n",
    "    dvl = lgb.Dataset(dfvl[cols_feat], label=dfvl[tgtcol])\n",
    "    bst,best_params,tuning_history=train(params,dtr,dvl)\n",
    "    prdtr,prdvl=valid(bst,dftr,dfvl)\n",
    "    \n",
    "    tgt2bst[tgt]=bst\n",
    "    tgt2best_params[tgt]=best_params\n",
    "    tgt2tuning_history[tgt]=tuning_history\n",
    "    tgt2ytr[tgt]=dftr[tgtcol]\n",
    "    tgt2yvl[tgt]=dfvl[tgtcol]\n",
    "    tgt2pops[tgt]=pops\n",
    "    tgt2prdtr[tgt]=prdtr\n",
    "    tgt2prdvl[tgt]=prdvl\n"
   ]
  },
  {
   "cell_type": "code",
   "execution_count": 11,
   "metadata": {},
   "outputs": [
    {
     "name": "stdout",
     "output_type": "stream",
     "text": [
      "2020-03-24 19:54:06 Retweet ********************************************************************************\n",
      "Retweet\n",
      "n_pos_wanted 100000\n",
      "2020-03-24 19:54:21 chunk 1\n",
      "dftrvl.shape: (1000000, 28) dftrvl[tgtcol].mean(): 0.112823\n",
      "{'train_pop': 1000000, 'target_pop': 112823, 'sampled_train_pop': 1000000, 'sampled_target_pop': 112823}\n",
      "{'objective': 'binary', 'metric': 'binary_logloss', 'verbosity': 0, 'boosting_type': 'gbdt'}\n"
     ]
    },
    {
     "name": "stderr",
     "output_type": "stream",
     "text": [
      "/data/anaconda3/envs/rcss20/lib/python3.7/site-packages/optuna/_experimental.py:87: ExperimentalWarning: train is experimental (supported from v0.18.0). The interface can change in the future.\n",
      "  ExperimentalWarning\n",
      "tune_feature_fraction, val_score: inf:   0%|          | 0/7 [00:00<?, ?it/s]"
     ]
    },
    {
     "name": "stdout",
     "output_type": "stream",
     "text": [
      "Training until validation scores don't improve for 100 rounds\n",
      "[100]\ttraining's binary_logloss: 0.308012\tvalid_1's binary_logloss: 0.313027\n",
      "[200]\ttraining's binary_logloss: 0.303993\tvalid_1's binary_logloss: 0.311383\n",
      "[300]\ttraining's binary_logloss: 0.301065\tvalid_1's binary_logloss: 0.310641\n",
      "[400]\ttraining's binary_logloss: 0.298286\tvalid_1's binary_logloss: 0.310082\n",
      "[500]\ttraining's binary_logloss: 0.295875\tvalid_1's binary_logloss: 0.309765\n",
      "[600]\ttraining's binary_logloss: 0.293591\tvalid_1's binary_logloss: 0.309462\n",
      "[700]\ttraining's binary_logloss: 0.291297\tvalid_1's binary_logloss: 0.309288\n",
      "[800]\ttraining's binary_logloss: 0.289068\tvalid_1's binary_logloss: 0.309099\n",
      "[900]\ttraining's binary_logloss: 0.286941\tvalid_1's binary_logloss: 0.308958\n",
      "[1000]\ttraining's binary_logloss: 0.284835\tvalid_1's binary_logloss: 0.308855\n",
      "Did not meet early stopping. Best iteration is:\n",
      "[1000]\ttraining's binary_logloss: 0.284835\tvalid_1's binary_logloss: 0.308855\n"
     ]
    },
    {
     "name": "stderr",
     "output_type": "stream",
     "text": [
      "tune_feature_fraction, val_score: 0.308855:  14%|#4        | 1/7 [00:35<03:31, 35.18s/it]"
     ]
    },
    {
     "name": "stdout",
     "output_type": "stream",
     "text": [
      "Training until validation scores don't improve for 100 rounds\n",
      "[100]\ttraining's binary_logloss: 0.307702\tvalid_1's binary_logloss: 0.312816\n",
      "[200]\ttraining's binary_logloss: 0.303753\tvalid_1's binary_logloss: 0.311303\n",
      "[300]\ttraining's binary_logloss: 0.30065\tvalid_1's binary_logloss: 0.31052\n",
      "[400]\ttraining's binary_logloss: 0.298007\tvalid_1's binary_logloss: 0.31009\n",
      "[500]\ttraining's binary_logloss: 0.295328\tvalid_1's binary_logloss: 0.309616\n",
      "[600]\ttraining's binary_logloss: 0.292884\tvalid_1's binary_logloss: 0.309281\n",
      "[700]\ttraining's binary_logloss: 0.290537\tvalid_1's binary_logloss: 0.309197\n",
      "[800]\ttraining's binary_logloss: 0.288311\tvalid_1's binary_logloss: 0.309065\n",
      "[900]\ttraining's binary_logloss: 0.286105\tvalid_1's binary_logloss: 0.308925\n",
      "[1000]\ttraining's binary_logloss: 0.283809\tvalid_1's binary_logloss: 0.308794\n",
      "Did not meet early stopping. Best iteration is:\n",
      "[1000]\ttraining's binary_logloss: 0.283809\tvalid_1's binary_logloss: 0.308794\n"
     ]
    },
    {
     "name": "stderr",
     "output_type": "stream",
     "text": [
      "tune_feature_fraction, val_score: 0.308794:  29%|##8       | 2/7 [01:07<02:50, 34.13s/it]"
     ]
    },
    {
     "name": "stdout",
     "output_type": "stream",
     "text": [
      "Training until validation scores don't improve for 100 rounds\n",
      "[100]\ttraining's binary_logloss: 0.307489\tvalid_1's binary_logloss: 0.312715\n",
      "[200]\ttraining's binary_logloss: 0.303578\tvalid_1's binary_logloss: 0.3113\n",
      "[300]\ttraining's binary_logloss: 0.300114\tvalid_1's binary_logloss: 0.310273\n",
      "[400]\ttraining's binary_logloss: 0.297308\tvalid_1's binary_logloss: 0.309924\n",
      "[500]\ttraining's binary_logloss: 0.294562\tvalid_1's binary_logloss: 0.309492\n",
      "[600]\ttraining's binary_logloss: 0.292024\tvalid_1's binary_logloss: 0.309189\n",
      "[700]\ttraining's binary_logloss: 0.289607\tvalid_1's binary_logloss: 0.309059\n",
      "[800]\ttraining's binary_logloss: 0.287282\tvalid_1's binary_logloss: 0.308909\n",
      "[900]\ttraining's binary_logloss: 0.28515\tvalid_1's binary_logloss: 0.308906\n",
      "[1000]\ttraining's binary_logloss: 0.282911\tvalid_1's binary_logloss: 0.30871\n",
      "Did not meet early stopping. Best iteration is:\n",
      "[1000]\ttraining's binary_logloss: 0.282911\tvalid_1's binary_logloss: 0.30871\n"
     ]
    },
    {
     "name": "stderr",
     "output_type": "stream",
     "text": [
      "tune_feature_fraction, val_score: 0.308710:  43%|####2     | 3/7 [01:38<02:13, 33.45s/it]"
     ]
    },
    {
     "name": "stdout",
     "output_type": "stream",
     "text": [
      "Training until validation scores don't improve for 100 rounds\n",
      "[100]\ttraining's binary_logloss: 0.30708\tvalid_1's binary_logloss: 0.312396\n",
      "[200]\ttraining's binary_logloss: 0.303008\tvalid_1's binary_logloss: 0.311003\n",
      "[300]\ttraining's binary_logloss: 0.299788\tvalid_1's binary_logloss: 0.310304\n",
      "[400]\ttraining's binary_logloss: 0.296601\tvalid_1's binary_logloss: 0.309672\n",
      "[500]\ttraining's binary_logloss: 0.293884\tvalid_1's binary_logloss: 0.309344\n",
      "[600]\ttraining's binary_logloss: 0.291264\tvalid_1's binary_logloss: 0.309238\n",
      "[700]\ttraining's binary_logloss: 0.288746\tvalid_1's binary_logloss: 0.309018\n",
      "[800]\ttraining's binary_logloss: 0.286333\tvalid_1's binary_logloss: 0.308918\n",
      "[900]\ttraining's binary_logloss: 0.284074\tvalid_1's binary_logloss: 0.308765\n",
      "[1000]\ttraining's binary_logloss: 0.281654\tvalid_1's binary_logloss: 0.308659\n",
      "Did not meet early stopping. Best iteration is:\n",
      "[1000]\ttraining's binary_logloss: 0.281654\tvalid_1's binary_logloss: 0.308659\n"
     ]
    },
    {
     "name": "stderr",
     "output_type": "stream",
     "text": [
      "tune_feature_fraction, val_score: 0.308659:  57%|#####7    | 4/7 [02:10<01:38, 32.80s/it]"
     ]
    },
    {
     "name": "stdout",
     "output_type": "stream",
     "text": [
      "Training until validation scores don't improve for 100 rounds\n",
      "[100]\ttraining's binary_logloss: 0.306864\tvalid_1's binary_logloss: 0.312401\n",
      "[200]\ttraining's binary_logloss: 0.30268\tvalid_1's binary_logloss: 0.310944\n",
      "[300]\ttraining's binary_logloss: 0.299351\tvalid_1's binary_logloss: 0.310256\n",
      "[400]\ttraining's binary_logloss: 0.296272\tvalid_1's binary_logloss: 0.309767\n",
      "[500]\ttraining's binary_logloss: 0.293335\tvalid_1's binary_logloss: 0.309385\n",
      "[600]\ttraining's binary_logloss: 0.290662\tvalid_1's binary_logloss: 0.309134\n",
      "[700]\ttraining's binary_logloss: 0.288201\tvalid_1's binary_logloss: 0.309032\n",
      "[800]\ttraining's binary_logloss: 0.285821\tvalid_1's binary_logloss: 0.308888\n",
      "[900]\ttraining's binary_logloss: 0.283512\tvalid_1's binary_logloss: 0.30883\n",
      "[1000]\ttraining's binary_logloss: 0.281142\tvalid_1's binary_logloss: 0.308813\n",
      "Did not meet early stopping. Best iteration is:\n",
      "[1000]\ttraining's binary_logloss: 0.281142\tvalid_1's binary_logloss: 0.308813\n"
     ]
    },
    {
     "name": "stderr",
     "output_type": "stream",
     "text": [
      "tune_feature_fraction, val_score: 0.308659:  71%|#######1  | 5/7 [03:29<01:33, 46.87s/it]"
     ]
    },
    {
     "name": "stdout",
     "output_type": "stream",
     "text": [
      "Training until validation scores don't improve for 100 rounds\n",
      "[100]\ttraining's binary_logloss: 0.306782\tvalid_1's binary_logloss: 0.312464\n",
      "[200]\ttraining's binary_logloss: 0.302507\tvalid_1's binary_logloss: 0.311073\n",
      "[300]\ttraining's binary_logloss: 0.299107\tvalid_1's binary_logloss: 0.310393\n",
      "[400]\ttraining's binary_logloss: 0.295827\tvalid_1's binary_logloss: 0.309898\n",
      "[500]\ttraining's binary_logloss: 0.292975\tvalid_1's binary_logloss: 0.309548\n",
      "[600]\ttraining's binary_logloss: 0.290315\tvalid_1's binary_logloss: 0.309322\n",
      "[700]\ttraining's binary_logloss: 0.287728\tvalid_1's binary_logloss: 0.309176\n",
      "[800]\ttraining's binary_logloss: 0.285346\tvalid_1's binary_logloss: 0.309012\n",
      "[900]\ttraining's binary_logloss: 0.282857\tvalid_1's binary_logloss: 0.308916\n",
      "Early stopping, best iteration is:\n",
      "[871]\ttraining's binary_logloss: 0.283521\tvalid_1's binary_logloss: 0.308877\n"
     ]
    },
    {
     "name": "stderr",
     "output_type": "stream",
     "text": [
      "tune_feature_fraction, val_score: 0.308659:  86%|########5 | 6/7 [05:03<01:00, 60.81s/it]"
     ]
    },
    {
     "name": "stdout",
     "output_type": "stream",
     "text": [
      "Training until validation scores don't improve for 100 rounds\n",
      "[100]\ttraining's binary_logloss: 0.306649\tvalid_1's binary_logloss: 0.312372\n",
      "[200]\ttraining's binary_logloss: 0.302362\tvalid_1's binary_logloss: 0.311063\n",
      "[300]\ttraining's binary_logloss: 0.299057\tvalid_1's binary_logloss: 0.310628\n",
      "[400]\ttraining's binary_logloss: 0.29582\tvalid_1's binary_logloss: 0.310113\n",
      "[500]\ttraining's binary_logloss: 0.292942\tvalid_1's binary_logloss: 0.30986\n",
      "[600]\ttraining's binary_logloss: 0.290189\tvalid_1's binary_logloss: 0.309517\n",
      "[700]\ttraining's binary_logloss: 0.287536\tvalid_1's binary_logloss: 0.309318\n",
      "[800]\ttraining's binary_logloss: 0.284878\tvalid_1's binary_logloss: 0.309167\n",
      "[900]\ttraining's binary_logloss: 0.282427\tvalid_1's binary_logloss: 0.309063\n",
      "[1000]\ttraining's binary_logloss: 0.280069\tvalid_1's binary_logloss: 0.309037\n",
      "Did not meet early stopping. Best iteration is:\n",
      "[1000]\ttraining's binary_logloss: 0.280069\tvalid_1's binary_logloss: 0.309037\n"
     ]
    },
    {
     "name": "stderr",
     "output_type": "stream",
     "text": [
      "tune_feature_fraction, val_score: 0.308659: 100%|##########| 7/7 [06:37<00:00, 56.75s/it]\n",
      "tune_num_leaves, val_score: 0.308659:   0%|          | 0/20 [00:00<?, ?it/s]"
     ]
    },
    {
     "name": "stdout",
     "output_type": "stream",
     "text": [
      "Training until validation scores don't improve for 100 rounds\n",
      "[100]\ttraining's binary_logloss: 0.326333\tvalid_1's binary_logloss: 0.32877\n",
      "[200]\ttraining's binary_logloss: 0.323148\tvalid_1's binary_logloss: 0.325791\n",
      "[300]\ttraining's binary_logloss: 0.322005\tvalid_1's binary_logloss: 0.324751\n",
      "[400]\ttraining's binary_logloss: 0.321477\tvalid_1's binary_logloss: 0.324312\n",
      "[500]\ttraining's binary_logloss: 0.321181\tvalid_1's binary_logloss: 0.324071\n",
      "[600]\ttraining's binary_logloss: 0.320983\tvalid_1's binary_logloss: 0.323912\n",
      "[700]\ttraining's binary_logloss: 0.320836\tvalid_1's binary_logloss: 0.323799\n",
      "[800]\ttraining's binary_logloss: 0.320722\tvalid_1's binary_logloss: 0.32371\n",
      "[900]\ttraining's binary_logloss: 0.320631\tvalid_1's binary_logloss: 0.323646\n",
      "[1000]\ttraining's binary_logloss: 0.320556\tvalid_1's binary_logloss: 0.323586\n",
      "Did not meet early stopping. Best iteration is:\n",
      "[1000]\ttraining's binary_logloss: 0.320556\tvalid_1's binary_logloss: 0.323586\n"
     ]
    },
    {
     "name": "stderr",
     "output_type": "stream",
     "text": [
      "tune_num_leaves, val_score: 0.308659:   5%|5         | 1/20 [00:49<15:32, 49.09s/it]"
     ]
    },
    {
     "name": "stdout",
     "output_type": "stream",
     "text": [
      "Training until validation scores don't improve for 100 rounds\n",
      "[100]\ttraining's binary_logloss: 0.29555\tvalid_1's binary_logloss: 0.309695\n",
      "[200]\ttraining's binary_logloss: 0.285245\tvalid_1's binary_logloss: 0.309066\n",
      "[300]\ttraining's binary_logloss: 0.27612\tvalid_1's binary_logloss: 0.308844\n",
      "[400]\ttraining's binary_logloss: 0.267575\tvalid_1's binary_logloss: 0.308796\n",
      "Early stopping, best iteration is:\n",
      "[371]\ttraining's binary_logloss: 0.270026\tvalid_1's binary_logloss: 0.308725\n"
     ]
    },
    {
     "name": "stderr",
     "output_type": "stream",
     "text": [
      "tune_num_leaves, val_score: 0.308659:  10%|#         | 2/20 [02:38<20:07, 67.09s/it]"
     ]
    },
    {
     "name": "stdout",
     "output_type": "stream",
     "text": [
      "Training until validation scores don't improve for 100 rounds\n",
      "[100]\ttraining's binary_logloss: 0.305846\tvalid_1's binary_logloss: 0.311821\n",
      "[200]\ttraining's binary_logloss: 0.301426\tvalid_1's binary_logloss: 0.310712\n",
      "[300]\ttraining's binary_logloss: 0.297701\tvalid_1's binary_logloss: 0.310154\n",
      "[400]\ttraining's binary_logloss: 0.294221\tvalid_1's binary_logloss: 0.309621\n",
      "[500]\ttraining's binary_logloss: 0.291021\tvalid_1's binary_logloss: 0.309264\n",
      "[600]\ttraining's binary_logloss: 0.287869\tvalid_1's binary_logloss: 0.309015\n",
      "[700]\ttraining's binary_logloss: 0.284848\tvalid_1's binary_logloss: 0.308827\n",
      "[800]\ttraining's binary_logloss: 0.282058\tvalid_1's binary_logloss: 0.308806\n",
      "[900]\ttraining's binary_logloss: 0.279439\tvalid_1's binary_logloss: 0.308733\n",
      "[1000]\ttraining's binary_logloss: 0.276792\tvalid_1's binary_logloss: 0.308708\n",
      "Did not meet early stopping. Best iteration is:\n",
      "[1000]\ttraining's binary_logloss: 0.276792\tvalid_1's binary_logloss: 0.308708\n"
     ]
    },
    {
     "name": "stderr",
     "output_type": "stream",
     "text": [
      "tune_num_leaves, val_score: 0.308659:  15%|#5        | 3/20 [04:26<22:28, 79.35s/it]"
     ]
    },
    {
     "name": "stdout",
     "output_type": "stream",
     "text": [
      "Training until validation scores don't improve for 100 rounds\n",
      "[100]\ttraining's binary_logloss: 0.299515\tvalid_1's binary_logloss: 0.31034\n",
      "[200]\ttraining's binary_logloss: 0.291451\tvalid_1's binary_logloss: 0.309445\n",
      "[300]\ttraining's binary_logloss: 0.284346\tvalid_1's binary_logloss: 0.309264\n",
      "[400]\ttraining's binary_logloss: 0.278135\tvalid_1's binary_logloss: 0.309129\n",
      "Early stopping, best iteration is:\n",
      "[364]\ttraining's binary_logloss: 0.280177\tvalid_1's binary_logloss: 0.309085\n"
     ]
    },
    {
     "name": "stderr",
     "output_type": "stream",
     "text": [
      "tune_num_leaves, val_score: 0.308659:  20%|##        | 4/20 [05:30<19:59, 74.94s/it]"
     ]
    },
    {
     "name": "stdout",
     "output_type": "stream",
     "text": [
      "Training until validation scores don't improve for 100 rounds\n",
      "[100]\ttraining's binary_logloss: 0.299034\tvalid_1's binary_logloss: 0.310272\n",
      "[200]\ttraining's binary_logloss: 0.290627\tvalid_1's binary_logloss: 0.309383\n",
      "[300]\ttraining's binary_logloss: 0.283319\tvalid_1's binary_logloss: 0.309008\n",
      "[400]\ttraining's binary_logloss: 0.277068\tvalid_1's binary_logloss: 0.308886\n",
      "Early stopping, best iteration is:\n",
      "[393]\ttraining's binary_logloss: 0.27744\tvalid_1's binary_logloss: 0.308882\n"
     ]
    },
    {
     "name": "stderr",
     "output_type": "stream",
     "text": [
      "tune_num_leaves, val_score: 0.308659:  25%|##5       | 5/20 [06:43<18:32, 74.18s/it]"
     ]
    },
    {
     "name": "stdout",
     "output_type": "stream",
     "text": [
      "Training until validation scores don't improve for 100 rounds\n",
      "[100]\ttraining's binary_logloss: 0.294655\tvalid_1's binary_logloss: 0.309791\n",
      "[200]\ttraining's binary_logloss: 0.283266\tvalid_1's binary_logloss: 0.309091\n",
      "[300]\ttraining's binary_logloss: 0.273819\tvalid_1's binary_logloss: 0.309079\n",
      "Early stopping, best iteration is:\n",
      "[259]\ttraining's binary_logloss: 0.277502\tvalid_1's binary_logloss: 0.308966\n"
     ]
    },
    {
     "name": "stderr",
     "output_type": "stream",
     "text": [
      "tune_num_leaves, val_score: 0.308659:  30%|###       | 6/20 [08:02<17:40, 75.78s/it]"
     ]
    },
    {
     "name": "stdout",
     "output_type": "stream",
     "text": [
      "Training until validation scores don't improve for 100 rounds\n",
      "[100]\ttraining's binary_logloss: 0.295727\tvalid_1's binary_logloss: 0.309806\n",
      "[200]\ttraining's binary_logloss: 0.284817\tvalid_1's binary_logloss: 0.309108\n",
      "[300]\ttraining's binary_logloss: 0.27593\tvalid_1's binary_logloss: 0.309107\n",
      "[400]\ttraining's binary_logloss: 0.268347\tvalid_1's binary_logloss: 0.30919\n",
      "Early stopping, best iteration is:\n",
      "[320]\ttraining's binary_logloss: 0.274408\tvalid_1's binary_logloss: 0.309068\n"
     ]
    },
    {
     "name": "stderr",
     "output_type": "stream",
     "text": [
      "tune_num_leaves, val_score: 0.308659:  35%|###5      | 7/20 [09:35<17:32, 80.96s/it]"
     ]
    },
    {
     "name": "stdout",
     "output_type": "stream",
     "text": [
      "Training until validation scores don't improve for 100 rounds\n",
      "[100]\ttraining's binary_logloss: 0.28361\tvalid_1's binary_logloss: 0.309134\n",
      "[200]\ttraining's binary_logloss: 0.26718\tvalid_1's binary_logloss: 0.308927\n",
      "Early stopping, best iteration is:\n",
      "[196]\ttraining's binary_logloss: 0.267749\tvalid_1's binary_logloss: 0.308881\n"
     ]
    },
    {
     "name": "stderr",
     "output_type": "stream",
     "text": [
      "tune_num_leaves, val_score: 0.308659:  40%|####      | 8/20 [12:10<20:36, 103.03s/it]"
     ]
    },
    {
     "name": "stdout",
     "output_type": "stream",
     "text": [
      "Training until validation scores don't improve for 100 rounds\n",
      "[100]\ttraining's binary_logloss: 0.301165\tvalid_1's binary_logloss: 0.310472\n",
      "[200]\ttraining's binary_logloss: 0.29404\tvalid_1's binary_logloss: 0.309737\n",
      "[300]\ttraining's binary_logloss: 0.287767\tvalid_1's binary_logloss: 0.309148\n",
      "[400]\ttraining's binary_logloss: 0.282063\tvalid_1's binary_logloss: 0.309001\n",
      "[500]\ttraining's binary_logloss: 0.277086\tvalid_1's binary_logloss: 0.308973\n",
      "[600]\ttraining's binary_logloss: 0.271719\tvalid_1's binary_logloss: 0.308808\n",
      "Early stopping, best iteration is:\n",
      "[578]\ttraining's binary_logloss: 0.272782\tvalid_1's binary_logloss: 0.308772\n"
     ]
    },
    {
     "name": "stderr",
     "output_type": "stream",
     "text": [
      "tune_num_leaves, val_score: 0.308659:  45%|####5     | 9/20 [13:52<18:48, 102.63s/it]"
     ]
    },
    {
     "name": "stdout",
     "output_type": "stream",
     "text": [
      "Training until validation scores don't improve for 100 rounds\n",
      "[100]\ttraining's binary_logloss: 0.289948\tvalid_1's binary_logloss: 0.30954\n",
      "[200]\ttraining's binary_logloss: 0.276344\tvalid_1's binary_logloss: 0.309216\n",
      "[300]\ttraining's binary_logloss: 0.264569\tvalid_1's binary_logloss: 0.309121\n",
      "Early stopping, best iteration is:\n",
      "[287]\ttraining's binary_logloss: 0.265894\tvalid_1's binary_logloss: 0.309069\n"
     ]
    },
    {
     "name": "stderr",
     "output_type": "stream",
     "text": [
      "tune_num_leaves, val_score: 0.308659:  50%|#####     | 10/20 [17:15<22:09, 132.93s/it]"
     ]
    },
    {
     "name": "stdout",
     "output_type": "stream",
     "text": [
      "Training until validation scores don't improve for 100 rounds\n",
      "[100]\ttraining's binary_logloss: 0.326333\tvalid_1's binary_logloss: 0.32877\n",
      "[200]\ttraining's binary_logloss: 0.323148\tvalid_1's binary_logloss: 0.325791\n",
      "[300]\ttraining's binary_logloss: 0.322005\tvalid_1's binary_logloss: 0.324751\n",
      "[400]\ttraining's binary_logloss: 0.321477\tvalid_1's binary_logloss: 0.324312\n",
      "[500]\ttraining's binary_logloss: 0.321181\tvalid_1's binary_logloss: 0.324071\n",
      "[600]\ttraining's binary_logloss: 0.320983\tvalid_1's binary_logloss: 0.323912\n",
      "[700]\ttraining's binary_logloss: 0.320836\tvalid_1's binary_logloss: 0.323799\n",
      "[800]\ttraining's binary_logloss: 0.320722\tvalid_1's binary_logloss: 0.32371\n",
      "[900]\ttraining's binary_logloss: 0.320631\tvalid_1's binary_logloss: 0.323646\n",
      "[1000]\ttraining's binary_logloss: 0.320556\tvalid_1's binary_logloss: 0.323586\n",
      "Did not meet early stopping. Best iteration is:\n",
      "[1000]\ttraining's binary_logloss: 0.320556\tvalid_1's binary_logloss: 0.323586\n"
     ]
    },
    {
     "name": "stderr",
     "output_type": "stream",
     "text": [
      "tune_num_leaves, val_score: 0.308659:  55%|#####5    | 11/20 [17:57<15:49, 105.48s/it]"
     ]
    },
    {
     "name": "stdout",
     "output_type": "stream",
     "text": [
      "Training until validation scores don't improve for 100 rounds\n",
      "[100]\ttraining's binary_logloss: 0.304998\tvalid_1's binary_logloss: 0.311488\n",
      "[200]\ttraining's binary_logloss: 0.299938\tvalid_1's binary_logloss: 0.310222\n",
      "[300]\ttraining's binary_logloss: 0.295835\tvalid_1's binary_logloss: 0.309663\n",
      "[400]\ttraining's binary_logloss: 0.292063\tvalid_1's binary_logloss: 0.30944\n",
      "[500]\ttraining's binary_logloss: 0.288476\tvalid_1's binary_logloss: 0.309161\n",
      "[600]\ttraining's binary_logloss: 0.285081\tvalid_1's binary_logloss: 0.308974\n",
      "[700]\ttraining's binary_logloss: 0.281918\tvalid_1's binary_logloss: 0.308869\n",
      "[800]\ttraining's binary_logloss: 0.278636\tvalid_1's binary_logloss: 0.308753\n",
      "[900]\ttraining's binary_logloss: 0.275674\tvalid_1's binary_logloss: 0.308744\n",
      "[1000]\ttraining's binary_logloss: 0.273005\tvalid_1's binary_logloss: 0.308694\n",
      "Did not meet early stopping. Best iteration is:\n",
      "[1000]\ttraining's binary_logloss: 0.273005\tvalid_1's binary_logloss: 0.308694\n"
     ]
    },
    {
     "name": "stderr",
     "output_type": "stream",
     "text": [
      "tune_num_leaves, val_score: 0.308659:  60%|######    | 12/20 [18:52<12:02, 90.33s/it] "
     ]
    },
    {
     "name": "stdout",
     "output_type": "stream",
     "text": [
      "Training until validation scores don't improve for 100 rounds\n",
      "[100]\ttraining's binary_logloss: 0.306796\tvalid_1's binary_logloss: 0.312325\n",
      "[200]\ttraining's binary_logloss: 0.302463\tvalid_1's binary_logloss: 0.310841\n",
      "[300]\ttraining's binary_logloss: 0.299153\tvalid_1's binary_logloss: 0.310254\n",
      "[400]\ttraining's binary_logloss: 0.295927\tvalid_1's binary_logloss: 0.30976\n",
      "[500]\ttraining's binary_logloss: 0.293061\tvalid_1's binary_logloss: 0.309407\n",
      "[600]\ttraining's binary_logloss: 0.290205\tvalid_1's binary_logloss: 0.30907\n",
      "[700]\ttraining's binary_logloss: 0.287577\tvalid_1's binary_logloss: 0.308863\n",
      "[800]\ttraining's binary_logloss: 0.285078\tvalid_1's binary_logloss: 0.308727\n",
      "[900]\ttraining's binary_logloss: 0.282752\tvalid_1's binary_logloss: 0.308609\n",
      "[1000]\ttraining's binary_logloss: 0.280377\tvalid_1's binary_logloss: 0.30855\n",
      "Did not meet early stopping. Best iteration is:\n",
      "[1000]\ttraining's binary_logloss: 0.280377\tvalid_1's binary_logloss: 0.30855\n"
     ]
    },
    {
     "name": "stderr",
     "output_type": "stream",
     "text": [
      "tune_num_leaves, val_score: 0.308550:  65%|######5   | 13/20 [20:17<10:21, 88.85s/it]"
     ]
    },
    {
     "name": "stdout",
     "output_type": "stream",
     "text": [
      "Training until validation scores don't improve for 100 rounds\n",
      "[100]\ttraining's binary_logloss: 0.306623\tvalid_1's binary_logloss: 0.312228\n",
      "[200]\ttraining's binary_logloss: 0.302283\tvalid_1's binary_logloss: 0.310735\n",
      "[300]\ttraining's binary_logloss: 0.298811\tvalid_1's binary_logloss: 0.310097\n",
      "[400]\ttraining's binary_logloss: 0.295651\tvalid_1's binary_logloss: 0.309667\n",
      "[500]\ttraining's binary_logloss: 0.292736\tvalid_1's binary_logloss: 0.309441\n",
      "[600]\ttraining's binary_logloss: 0.289962\tvalid_1's binary_logloss: 0.309187\n",
      "[700]\ttraining's binary_logloss: 0.287244\tvalid_1's binary_logloss: 0.308961\n",
      "[800]\ttraining's binary_logloss: 0.284612\tvalid_1's binary_logloss: 0.308843\n",
      "[900]\ttraining's binary_logloss: 0.282226\tvalid_1's binary_logloss: 0.308773\n",
      "[1000]\ttraining's binary_logloss: 0.279819\tvalid_1's binary_logloss: 0.30866\n",
      "Did not meet early stopping. Best iteration is:\n",
      "[1000]\ttraining's binary_logloss: 0.279819\tvalid_1's binary_logloss: 0.30866\n"
     ]
    },
    {
     "name": "stderr",
     "output_type": "stream",
     "text": [
      "tune_num_leaves, val_score: 0.308550:  70%|#######   | 14/20 [21:58<09:14, 92.36s/it]"
     ]
    },
    {
     "name": "stdout",
     "output_type": "stream",
     "text": [
      "Training until validation scores don't improve for 100 rounds\n",
      "[100]\ttraining's binary_logloss: 0.306338\tvalid_1's binary_logloss: 0.312187\n",
      "[200]\ttraining's binary_logloss: 0.30196\tvalid_1's binary_logloss: 0.310974\n",
      "[300]\ttraining's binary_logloss: 0.298331\tvalid_1's binary_logloss: 0.310195\n",
      "[400]\ttraining's binary_logloss: 0.29501\tvalid_1's binary_logloss: 0.309742\n",
      "[500]\ttraining's binary_logloss: 0.291886\tvalid_1's binary_logloss: 0.309473\n",
      "[600]\ttraining's binary_logloss: 0.288918\tvalid_1's binary_logloss: 0.309316\n",
      "[700]\ttraining's binary_logloss: 0.286122\tvalid_1's binary_logloss: 0.309118\n",
      "[800]\ttraining's binary_logloss: 0.283426\tvalid_1's binary_logloss: 0.309\n",
      "Early stopping, best iteration is:\n",
      "[785]\ttraining's binary_logloss: 0.283804\tvalid_1's binary_logloss: 0.308973\n"
     ]
    },
    {
     "name": "stderr",
     "output_type": "stream",
     "text": [
      "tune_num_leaves, val_score: 0.308550:  75%|#######5  | 15/20 [23:36<07:50, 94.09s/it]"
     ]
    },
    {
     "name": "stdout",
     "output_type": "stream",
     "text": [
      "Training until validation scores don't improve for 100 rounds\n",
      "[100]\ttraining's binary_logloss: 0.318889\tvalid_1's binary_logloss: 0.321769\n",
      "[200]\ttraining's binary_logloss: 0.31583\tvalid_1's binary_logloss: 0.318994\n",
      "[300]\ttraining's binary_logloss: 0.314055\tvalid_1's binary_logloss: 0.317448\n",
      "[400]\ttraining's binary_logloss: 0.312791\tvalid_1's binary_logloss: 0.316371\n",
      "[500]\ttraining's binary_logloss: 0.311838\tvalid_1's binary_logloss: 0.315591\n",
      "[600]\ttraining's binary_logloss: 0.311038\tvalid_1's binary_logloss: 0.314926\n",
      "[700]\ttraining's binary_logloss: 0.310367\tvalid_1's binary_logloss: 0.314473\n",
      "[800]\ttraining's binary_logloss: 0.309785\tvalid_1's binary_logloss: 0.314022\n",
      "[900]\ttraining's binary_logloss: 0.309257\tvalid_1's binary_logloss: 0.31365\n",
      "[1000]\ttraining's binary_logloss: 0.308576\tvalid_1's binary_logloss: 0.313097\n",
      "Did not meet early stopping. Best iteration is:\n",
      "[1000]\ttraining's binary_logloss: 0.308576\tvalid_1's binary_logloss: 0.313097\n"
     ]
    },
    {
     "name": "stderr",
     "output_type": "stream",
     "text": [
      "tune_num_leaves, val_score: 0.308550:  80%|########  | 16/20 [24:23<05:19, 79.91s/it]"
     ]
    },
    {
     "name": "stdout",
     "output_type": "stream",
     "text": [
      "Training until validation scores don't improve for 100 rounds\n",
      "[100]\ttraining's binary_logloss: 0.302762\tvalid_1's binary_logloss: 0.310932\n",
      "[200]\ttraining's binary_logloss: 0.296375\tvalid_1's binary_logloss: 0.309694\n",
      "[300]\ttraining's binary_logloss: 0.29097\tvalid_1's binary_logloss: 0.30923\n",
      "[400]\ttraining's binary_logloss: 0.286067\tvalid_1's binary_logloss: 0.30913\n",
      "[500]\ttraining's binary_logloss: 0.281475\tvalid_1's binary_logloss: 0.309023\n",
      "[600]\ttraining's binary_logloss: 0.276955\tvalid_1's binary_logloss: 0.308872\n",
      "[700]\ttraining's binary_logloss: 0.27259\tvalid_1's binary_logloss: 0.308847\n",
      "Early stopping, best iteration is:\n",
      "[688]\ttraining's binary_logloss: 0.27312\tvalid_1's binary_logloss: 0.308836\n"
     ]
    },
    {
     "name": "stderr",
     "output_type": "stream",
     "text": [
      "tune_num_leaves, val_score: 0.308550:  85%|########5 | 17/20 [25:05<03:26, 68.78s/it]"
     ]
    },
    {
     "name": "stdout",
     "output_type": "stream",
     "text": [
      "Training until validation scores don't improve for 100 rounds\n",
      "[100]\ttraining's binary_logloss: 0.290367\tvalid_1's binary_logloss: 0.309446\n",
      "[200]\ttraining's binary_logloss: 0.277245\tvalid_1's binary_logloss: 0.309208\n",
      "[300]\ttraining's binary_logloss: 0.265966\tvalid_1's binary_logloss: 0.309211\n",
      "Early stopping, best iteration is:\n",
      "[218]\ttraining's binary_logloss: 0.27503\tvalid_1's binary_logloss: 0.30916\n"
     ]
    },
    {
     "name": "stderr",
     "output_type": "stream",
     "text": [
      "tune_num_leaves, val_score: 0.308550:  90%|######### | 18/20 [25:33<01:52, 56.45s/it]"
     ]
    },
    {
     "name": "stdout",
     "output_type": "stream",
     "text": [
      "Training until validation scores don't improve for 100 rounds\n",
      "[100]\ttraining's binary_logloss: 0.309104\tvalid_1's binary_logloss: 0.313549\n",
      "[200]\ttraining's binary_logloss: 0.30552\tvalid_1's binary_logloss: 0.311752\n",
      "[300]\ttraining's binary_logloss: 0.302998\tvalid_1's binary_logloss: 0.310887\n",
      "[400]\ttraining's binary_logloss: 0.30071\tvalid_1's binary_logloss: 0.310317\n",
      "[500]\ttraining's binary_logloss: 0.298597\tvalid_1's binary_logloss: 0.309839\n",
      "[600]\ttraining's binary_logloss: 0.296588\tvalid_1's binary_logloss: 0.309577\n",
      "[700]\ttraining's binary_logloss: 0.294823\tvalid_1's binary_logloss: 0.309382\n",
      "[800]\ttraining's binary_logloss: 0.293036\tvalid_1's binary_logloss: 0.309178\n",
      "[900]\ttraining's binary_logloss: 0.291379\tvalid_1's binary_logloss: 0.309066\n",
      "[1000]\ttraining's binary_logloss: 0.289771\tvalid_1's binary_logloss: 0.308981\n",
      "Did not meet early stopping. Best iteration is:\n",
      "[1000]\ttraining's binary_logloss: 0.289771\tvalid_1's binary_logloss: 0.308981\n"
     ]
    },
    {
     "name": "stderr",
     "output_type": "stream",
     "text": [
      "tune_num_leaves, val_score: 0.308550:  95%|#########5| 19/20 [26:14<00:51, 51.77s/it]"
     ]
    },
    {
     "name": "stdout",
     "output_type": "stream",
     "text": [
      "Training until validation scores don't improve for 100 rounds\n",
      "[100]\ttraining's binary_logloss: 0.303129\tvalid_1's binary_logloss: 0.310925\n",
      "[200]\ttraining's binary_logloss: 0.296931\tvalid_1's binary_logloss: 0.309818\n",
      "[300]\ttraining's binary_logloss: 0.291592\tvalid_1's binary_logloss: 0.309304\n",
      "[400]\ttraining's binary_logloss: 0.286956\tvalid_1's binary_logloss: 0.309142\n",
      "[500]\ttraining's binary_logloss: 0.282687\tvalid_1's binary_logloss: 0.309075\n",
      "[600]\ttraining's binary_logloss: 0.278479\tvalid_1's binary_logloss: 0.308952\n",
      "[700]\ttraining's binary_logloss: 0.274601\tvalid_1's binary_logloss: 0.308917\n",
      "Early stopping, best iteration is:\n",
      "[660]\ttraining's binary_logloss: 0.27607\tvalid_1's binary_logloss: 0.308848\n"
     ]
    },
    {
     "name": "stderr",
     "output_type": "stream",
     "text": [
      "tune_num_leaves, val_score: 0.308550: 100%|##########| 20/20 [26:55<00:00, 80.79s/it]\n",
      "tune_bagging_fraction_and_bagging_freq, val_score: 0.308550:   0%|          | 0/10 [00:00<?, ?it/s]"
     ]
    },
    {
     "name": "stdout",
     "output_type": "stream",
     "text": [
      "Training until validation scores don't improve for 100 rounds\n",
      "[100]\ttraining's binary_logloss: 0.306789\tvalid_1's binary_logloss: 0.312344\n",
      "[200]\ttraining's binary_logloss: 0.302375\tvalid_1's binary_logloss: 0.310746\n",
      "[300]\ttraining's binary_logloss: 0.298846\tvalid_1's binary_logloss: 0.309967\n",
      "[400]\ttraining's binary_logloss: 0.295693\tvalid_1's binary_logloss: 0.309536\n",
      "[500]\ttraining's binary_logloss: 0.292741\tvalid_1's binary_logloss: 0.309163\n",
      "[600]\ttraining's binary_logloss: 0.289971\tvalid_1's binary_logloss: 0.308898\n",
      "[700]\ttraining's binary_logloss: 0.28726\tvalid_1's binary_logloss: 0.308782\n",
      "[800]\ttraining's binary_logloss: 0.284746\tvalid_1's binary_logloss: 0.308611\n",
      "[900]\ttraining's binary_logloss: 0.282222\tvalid_1's binary_logloss: 0.308502\n",
      "[1000]\ttraining's binary_logloss: 0.279829\tvalid_1's binary_logloss: 0.308544\n",
      "Did not meet early stopping. Best iteration is:\n",
      "[1000]\ttraining's binary_logloss: 0.279829\tvalid_1's binary_logloss: 0.308544\n"
     ]
    },
    {
     "name": "stderr",
     "output_type": "stream",
     "text": [
      "tune_bagging_fraction_and_bagging_freq, val_score: 0.308544:  10%|#         | 1/10 [00:55<08:20, 55.63s/it]"
     ]
    },
    {
     "name": "stdout",
     "output_type": "stream",
     "text": [
      "Training until validation scores don't improve for 100 rounds\n",
      "[100]\ttraining's binary_logloss: 0.306899\tvalid_1's binary_logloss: 0.312572\n",
      "[200]\ttraining's binary_logloss: 0.302382\tvalid_1's binary_logloss: 0.311142\n",
      "[300]\ttraining's binary_logloss: 0.299084\tvalid_1's binary_logloss: 0.310568\n",
      "[400]\ttraining's binary_logloss: 0.296157\tvalid_1's binary_logloss: 0.310439\n",
      "[500]\ttraining's binary_logloss: 0.293464\tvalid_1's binary_logloss: 0.310317\n",
      "[600]\ttraining's binary_logloss: 0.290701\tvalid_1's binary_logloss: 0.310268\n",
      "[700]\ttraining's binary_logloss: 0.288131\tvalid_1's binary_logloss: 0.310212\n",
      "[800]\ttraining's binary_logloss: 0.285708\tvalid_1's binary_logloss: 0.310197\n",
      "[900]\ttraining's binary_logloss: 0.283328\tvalid_1's binary_logloss: 0.310231\n",
      "Early stopping, best iteration is:\n",
      "[867]\ttraining's binary_logloss: 0.284088\tvalid_1's binary_logloss: 0.31018\n"
     ]
    },
    {
     "name": "stderr",
     "output_type": "stream",
     "text": [
      "tune_bagging_fraction_and_bagging_freq, val_score: 0.308544:  20%|##        | 2/10 [01:53<07:30, 56.36s/it]"
     ]
    },
    {
     "name": "stdout",
     "output_type": "stream",
     "text": [
      "Training until validation scores don't improve for 100 rounds\n",
      "[100]\ttraining's binary_logloss: 0.306703\tvalid_1's binary_logloss: 0.312204\n",
      "[200]\ttraining's binary_logloss: 0.302622\tvalid_1's binary_logloss: 0.310995\n",
      "[300]\ttraining's binary_logloss: 0.299073\tvalid_1's binary_logloss: 0.310259\n",
      "[400]\ttraining's binary_logloss: 0.29582\tvalid_1's binary_logloss: 0.309807\n",
      "[500]\ttraining's binary_logloss: 0.292852\tvalid_1's binary_logloss: 0.309512\n",
      "[600]\ttraining's binary_logloss: 0.290058\tvalid_1's binary_logloss: 0.309269\n",
      "[700]\ttraining's binary_logloss: 0.287303\tvalid_1's binary_logloss: 0.30915\n",
      "[800]\ttraining's binary_logloss: 0.284746\tvalid_1's binary_logloss: 0.309131\n",
      "[900]\ttraining's binary_logloss: 0.282275\tvalid_1's binary_logloss: 0.309053\n",
      "[1000]\ttraining's binary_logloss: 0.279855\tvalid_1's binary_logloss: 0.308972\n",
      "Did not meet early stopping. Best iteration is:\n",
      "[1000]\ttraining's binary_logloss: 0.279855\tvalid_1's binary_logloss: 0.308972\n"
     ]
    },
    {
     "name": "stderr",
     "output_type": "stream",
     "text": [
      "tune_bagging_fraction_and_bagging_freq, val_score: 0.308544:  30%|###       | 3/10 [04:31<10:07, 86.72s/it]"
     ]
    },
    {
     "name": "stdout",
     "output_type": "stream",
     "text": [
      "Training until validation scores don't improve for 100 rounds\n",
      "[100]\ttraining's binary_logloss: 0.306806\tvalid_1's binary_logloss: 0.312394\n",
      "[200]\ttraining's binary_logloss: 0.302418\tvalid_1's binary_logloss: 0.310908\n",
      "[300]\ttraining's binary_logloss: 0.298963\tvalid_1's binary_logloss: 0.310242\n",
      "[400]\ttraining's binary_logloss: 0.295683\tvalid_1's binary_logloss: 0.30979\n",
      "[500]\ttraining's binary_logloss: 0.29275\tvalid_1's binary_logloss: 0.309409\n",
      "[600]\ttraining's binary_logloss: 0.289888\tvalid_1's binary_logloss: 0.309156\n",
      "[700]\ttraining's binary_logloss: 0.287157\tvalid_1's binary_logloss: 0.308951\n",
      "[800]\ttraining's binary_logloss: 0.284595\tvalid_1's binary_logloss: 0.308885\n",
      "Early stopping, best iteration is:\n",
      "[750]\ttraining's binary_logloss: 0.285854\tvalid_1's binary_logloss: 0.308864\n"
     ]
    },
    {
     "name": "stderr",
     "output_type": "stream",
     "text": [
      "tune_bagging_fraction_and_bagging_freq, val_score: 0.308544:  40%|####      | 4/10 [06:51<10:15, 102.52s/it]"
     ]
    },
    {
     "name": "stdout",
     "output_type": "stream",
     "text": [
      "Training until validation scores don't improve for 100 rounds\n",
      "[100]\ttraining's binary_logloss: 0.307046\tvalid_1's binary_logloss: 0.312628\n",
      "[200]\ttraining's binary_logloss: 0.302552\tvalid_1's binary_logloss: 0.311191\n",
      "[300]\ttraining's binary_logloss: 0.299214\tvalid_1's binary_logloss: 0.310684\n",
      "[400]\ttraining's binary_logloss: 0.296381\tvalid_1's binary_logloss: 0.310492\n",
      "[500]\ttraining's binary_logloss: 0.293554\tvalid_1's binary_logloss: 0.310211\n",
      "[600]\ttraining's binary_logloss: 0.290748\tvalid_1's binary_logloss: 0.310156\n",
      "[700]\ttraining's binary_logloss: 0.288205\tvalid_1's binary_logloss: 0.310097\n",
      "[800]\ttraining's binary_logloss: 0.285732\tvalid_1's binary_logloss: 0.310109\n",
      "Early stopping, best iteration is:\n",
      "[780]\ttraining's binary_logloss: 0.28624\tvalid_1's binary_logloss: 0.310031\n"
     ]
    },
    {
     "name": "stderr",
     "output_type": "stream",
     "text": [
      "tune_bagging_fraction_and_bagging_freq, val_score: 0.308544:  50%|#####     | 5/10 [08:16<08:08, 97.61s/it] "
     ]
    },
    {
     "name": "stdout",
     "output_type": "stream",
     "text": [
      "Training until validation scores don't improve for 100 rounds\n",
      "[100]\ttraining's binary_logloss: 0.306859\tvalid_1's binary_logloss: 0.312374\n",
      "[200]\ttraining's binary_logloss: 0.302268\tvalid_1's binary_logloss: 0.310662\n",
      "[300]\ttraining's binary_logloss: 0.298682\tvalid_1's binary_logloss: 0.30988\n",
      "[400]\ttraining's binary_logloss: 0.295512\tvalid_1's binary_logloss: 0.309468\n",
      "[500]\ttraining's binary_logloss: 0.292593\tvalid_1's binary_logloss: 0.309179\n",
      "[600]\ttraining's binary_logloss: 0.289869\tvalid_1's binary_logloss: 0.308997\n",
      "[700]\ttraining's binary_logloss: 0.287149\tvalid_1's binary_logloss: 0.308838\n",
      "[800]\ttraining's binary_logloss: 0.284582\tvalid_1's binary_logloss: 0.308762\n",
      "[900]\ttraining's binary_logloss: 0.282048\tvalid_1's binary_logloss: 0.308713\n",
      "[1000]\ttraining's binary_logloss: 0.279587\tvalid_1's binary_logloss: 0.308733\n",
      "Did not meet early stopping. Best iteration is:\n",
      "[1000]\ttraining's binary_logloss: 0.279587\tvalid_1's binary_logloss: 0.308733\n"
     ]
    },
    {
     "name": "stderr",
     "output_type": "stream",
     "text": [
      "tune_bagging_fraction_and_bagging_freq, val_score: 0.308544:  60%|######    | 6/10 [10:05<06:43, 100.86s/it]"
     ]
    },
    {
     "name": "stdout",
     "output_type": "stream",
     "text": [
      "Training until validation scores don't improve for 100 rounds\n",
      "[100]\ttraining's binary_logloss: 0.306898\tvalid_1's binary_logloss: 0.312403\n",
      "[200]\ttraining's binary_logloss: 0.302358\tvalid_1's binary_logloss: 0.310926\n",
      "[300]\ttraining's binary_logloss: 0.299033\tvalid_1's binary_logloss: 0.310351\n",
      "[400]\ttraining's binary_logloss: 0.295868\tvalid_1's binary_logloss: 0.309942\n",
      "[500]\ttraining's binary_logloss: 0.29308\tvalid_1's binary_logloss: 0.309843\n",
      "[600]\ttraining's binary_logloss: 0.290446\tvalid_1's binary_logloss: 0.309594\n",
      "[700]\ttraining's binary_logloss: 0.287802\tvalid_1's binary_logloss: 0.309519\n",
      "Early stopping, best iteration is:\n",
      "[690]\ttraining's binary_logloss: 0.288038\tvalid_1's binary_logloss: 0.30949\n"
     ]
    },
    {
     "name": "stderr",
     "output_type": "stream",
     "text": [
      "tune_bagging_fraction_and_bagging_freq, val_score: 0.308544:  70%|#######   | 7/10 [11:29<04:47, 95.94s/it] "
     ]
    },
    {
     "name": "stdout",
     "output_type": "stream",
     "text": [
      "Training until validation scores don't improve for 100 rounds\n",
      "[100]\ttraining's binary_logloss: 0.306649\tvalid_1's binary_logloss: 0.312251\n",
      "[200]\ttraining's binary_logloss: 0.302301\tvalid_1's binary_logloss: 0.310852\n",
      "[300]\ttraining's binary_logloss: 0.298705\tvalid_1's binary_logloss: 0.310094\n",
      "[400]\ttraining's binary_logloss: 0.295514\tvalid_1's binary_logloss: 0.309686\n",
      "[500]\ttraining's binary_logloss: 0.292619\tvalid_1's binary_logloss: 0.309339\n",
      "[600]\ttraining's binary_logloss: 0.289888\tvalid_1's binary_logloss: 0.309197\n",
      "[700]\ttraining's binary_logloss: 0.287148\tvalid_1's binary_logloss: 0.308974\n",
      "[800]\ttraining's binary_logloss: 0.284644\tvalid_1's binary_logloss: 0.308942\n",
      "[900]\ttraining's binary_logloss: 0.282191\tvalid_1's binary_logloss: 0.308813\n",
      "[1000]\ttraining's binary_logloss: 0.279679\tvalid_1's binary_logloss: 0.308686\n",
      "Did not meet early stopping. Best iteration is:\n",
      "[1000]\ttraining's binary_logloss: 0.279679\tvalid_1's binary_logloss: 0.308686\n"
     ]
    },
    {
     "name": "stderr",
     "output_type": "stream",
     "text": [
      "tune_bagging_fraction_and_bagging_freq, val_score: 0.308544:  80%|########  | 8/10 [13:31<03:27, 103.50s/it]"
     ]
    },
    {
     "name": "stdout",
     "output_type": "stream",
     "text": [
      "Training until validation scores don't improve for 100 rounds\n",
      "[100]\ttraining's binary_logloss: 0.306699\tvalid_1's binary_logloss: 0.312213\n",
      "[200]\ttraining's binary_logloss: 0.302544\tvalid_1's binary_logloss: 0.310985\n",
      "[300]\ttraining's binary_logloss: 0.299019\tvalid_1's binary_logloss: 0.310266\n",
      "[400]\ttraining's binary_logloss: 0.296092\tvalid_1's binary_logloss: 0.310047\n",
      "[500]\ttraining's binary_logloss: 0.2932\tvalid_1's binary_logloss: 0.309791\n",
      "[600]\ttraining's binary_logloss: 0.290431\tvalid_1's binary_logloss: 0.309524\n",
      "[700]\ttraining's binary_logloss: 0.287791\tvalid_1's binary_logloss: 0.309361\n",
      "[800]\ttraining's binary_logloss: 0.285372\tvalid_1's binary_logloss: 0.30931\n",
      "[900]\ttraining's binary_logloss: 0.282891\tvalid_1's binary_logloss: 0.30925\n",
      "[1000]\ttraining's binary_logloss: 0.280528\tvalid_1's binary_logloss: 0.309236\n",
      "Did not meet early stopping. Best iteration is:\n",
      "[1000]\ttraining's binary_logloss: 0.280528\tvalid_1's binary_logloss: 0.309236\n"
     ]
    },
    {
     "name": "stderr",
     "output_type": "stream",
     "text": [
      "tune_bagging_fraction_and_bagging_freq, val_score: 0.308544:  90%|######### | 9/10 [16:16<02:02, 122.11s/it]"
     ]
    },
    {
     "name": "stdout",
     "output_type": "stream",
     "text": [
      "Training until validation scores don't improve for 100 rounds\n",
      "[100]\ttraining's binary_logloss: 0.30686\tvalid_1's binary_logloss: 0.3125\n",
      "[200]\ttraining's binary_logloss: 0.302402\tvalid_1's binary_logloss: 0.310971\n",
      "[300]\ttraining's binary_logloss: 0.298919\tvalid_1's binary_logloss: 0.310334\n",
      "[400]\ttraining's binary_logloss: 0.295894\tvalid_1's binary_logloss: 0.310002\n",
      "[500]\ttraining's binary_logloss: 0.292952\tvalid_1's binary_logloss: 0.309826\n",
      "[600]\ttraining's binary_logloss: 0.290233\tvalid_1's binary_logloss: 0.309691\n",
      "[700]\ttraining's binary_logloss: 0.287688\tvalid_1's binary_logloss: 0.309671\n",
      "[800]\ttraining's binary_logloss: 0.285172\tvalid_1's binary_logloss: 0.309666\n",
      "Early stopping, best iteration is:\n",
      "[733]\ttraining's binary_logloss: 0.28687\tvalid_1's binary_logloss: 0.309587\n"
     ]
    },
    {
     "name": "stderr",
     "output_type": "stream",
     "text": [
      "tune_bagging_fraction_and_bagging_freq, val_score: 0.308544: 100%|##########| 10/10 [16:59<00:00, 101.91s/it]\n",
      "tune_feature_fraction, val_score: 0.308544:   0%|          | 0/6 [00:00<?, ?it/s]"
     ]
    },
    {
     "name": "stdout",
     "output_type": "stream",
     "text": [
      "Training until validation scores don't improve for 100 rounds\n",
      "[100]\ttraining's binary_logloss: 0.307042\tvalid_1's binary_logloss: 0.312415\n",
      "[200]\ttraining's binary_logloss: 0.302708\tvalid_1's binary_logloss: 0.310897\n",
      "[300]\ttraining's binary_logloss: 0.299332\tvalid_1's binary_logloss: 0.310161\n",
      "[400]\ttraining's binary_logloss: 0.296142\tvalid_1's binary_logloss: 0.309687\n",
      "[500]\ttraining's binary_logloss: 0.293246\tvalid_1's binary_logloss: 0.309286\n",
      "[600]\ttraining's binary_logloss: 0.290494\tvalid_1's binary_logloss: 0.308997\n",
      "[700]\ttraining's binary_logloss: 0.287818\tvalid_1's binary_logloss: 0.308771\n",
      "[800]\ttraining's binary_logloss: 0.285149\tvalid_1's binary_logloss: 0.308648\n",
      "[900]\ttraining's binary_logloss: 0.282596\tvalid_1's binary_logloss: 0.308474\n",
      "Early stopping, best iteration is:\n",
      "[874]\ttraining's binary_logloss: 0.283253\tvalid_1's binary_logloss: 0.308441\n"
     ]
    },
    {
     "name": "stderr",
     "output_type": "stream",
     "text": [
      "tune_feature_fraction, val_score: 0.308441:  17%|#6        | 1/6 [01:00<05:00, 60.09s/it]"
     ]
    },
    {
     "name": "stdout",
     "output_type": "stream",
     "text": [
      "Training until validation scores don't improve for 100 rounds\n",
      "[100]\ttraining's binary_logloss: 0.306837\tvalid_1's binary_logloss: 0.312247\n",
      "[200]\ttraining's binary_logloss: 0.302326\tvalid_1's binary_logloss: 0.31061\n",
      "[300]\ttraining's binary_logloss: 0.29891\tvalid_1's binary_logloss: 0.309984\n",
      "[400]\ttraining's binary_logloss: 0.295792\tvalid_1's binary_logloss: 0.309558\n",
      "[500]\ttraining's binary_logloss: 0.292884\tvalid_1's binary_logloss: 0.309173\n",
      "[600]\ttraining's binary_logloss: 0.290046\tvalid_1's binary_logloss: 0.308894\n",
      "[700]\ttraining's binary_logloss: 0.287323\tvalid_1's binary_logloss: 0.308701\n",
      "[800]\ttraining's binary_logloss: 0.284764\tvalid_1's binary_logloss: 0.308512\n",
      "[900]\ttraining's binary_logloss: 0.282251\tvalid_1's binary_logloss: 0.308461\n",
      "[1000]\ttraining's binary_logloss: 0.279979\tvalid_1's binary_logloss: 0.308437\n",
      "Did not meet early stopping. Best iteration is:\n",
      "[1000]\ttraining's binary_logloss: 0.279979\tvalid_1's binary_logloss: 0.308437\n"
     ]
    },
    {
     "name": "stderr",
     "output_type": "stream",
     "text": [
      "tune_feature_fraction, val_score: 0.308437:  33%|###3      | 2/6 [02:02<04:02, 60.69s/it]"
     ]
    },
    {
     "name": "stdout",
     "output_type": "stream",
     "text": [
      "Training until validation scores don't improve for 100 rounds\n",
      "[100]\ttraining's binary_logloss: 0.306837\tvalid_1's binary_logloss: 0.312247\n",
      "[200]\ttraining's binary_logloss: 0.302326\tvalid_1's binary_logloss: 0.31061\n",
      "[300]\ttraining's binary_logloss: 0.29891\tvalid_1's binary_logloss: 0.309984\n",
      "[400]\ttraining's binary_logloss: 0.295792\tvalid_1's binary_logloss: 0.309558\n",
      "[500]\ttraining's binary_logloss: 0.292884\tvalid_1's binary_logloss: 0.309173\n",
      "[600]\ttraining's binary_logloss: 0.290046\tvalid_1's binary_logloss: 0.308894\n",
      "[700]\ttraining's binary_logloss: 0.287323\tvalid_1's binary_logloss: 0.308701\n",
      "[800]\ttraining's binary_logloss: 0.284764\tvalid_1's binary_logloss: 0.308512\n",
      "[900]\ttraining's binary_logloss: 0.282251\tvalid_1's binary_logloss: 0.308461\n",
      "[1000]\ttraining's binary_logloss: 0.279979\tvalid_1's binary_logloss: 0.308437\n",
      "Did not meet early stopping. Best iteration is:\n",
      "[1000]\ttraining's binary_logloss: 0.279979\tvalid_1's binary_logloss: 0.308437\n"
     ]
    },
    {
     "name": "stderr",
     "output_type": "stream",
     "text": [
      "tune_feature_fraction, val_score: 0.308437:  50%|#####     | 3/6 [03:36<03:32, 70.79s/it]"
     ]
    },
    {
     "name": "stdout",
     "output_type": "stream",
     "text": [
      "Training until validation scores don't improve for 100 rounds\n",
      "[100]\ttraining's binary_logloss: 0.306789\tvalid_1's binary_logloss: 0.312344\n",
      "[200]\ttraining's binary_logloss: 0.302375\tvalid_1's binary_logloss: 0.310746\n",
      "[300]\ttraining's binary_logloss: 0.298846\tvalid_1's binary_logloss: 0.309967\n",
      "[400]\ttraining's binary_logloss: 0.295693\tvalid_1's binary_logloss: 0.309536\n",
      "[500]\ttraining's binary_logloss: 0.292741\tvalid_1's binary_logloss: 0.309163\n",
      "[600]\ttraining's binary_logloss: 0.289971\tvalid_1's binary_logloss: 0.308898\n",
      "[700]\ttraining's binary_logloss: 0.28726\tvalid_1's binary_logloss: 0.308782\n",
      "[800]\ttraining's binary_logloss: 0.284746\tvalid_1's binary_logloss: 0.308611\n",
      "[900]\ttraining's binary_logloss: 0.282222\tvalid_1's binary_logloss: 0.308502\n",
      "[1000]\ttraining's binary_logloss: 0.279829\tvalid_1's binary_logloss: 0.308544\n",
      "Did not meet early stopping. Best iteration is:\n",
      "[1000]\ttraining's binary_logloss: 0.279829\tvalid_1's binary_logloss: 0.308544\n"
     ]
    },
    {
     "name": "stderr",
     "output_type": "stream",
     "text": [
      "tune_feature_fraction, val_score: 0.308437:  67%|######6   | 4/6 [05:39<02:52, 86.40s/it]"
     ]
    },
    {
     "name": "stdout",
     "output_type": "stream",
     "text": [
      "Training until validation scores don't improve for 100 rounds\n",
      "[100]\ttraining's binary_logloss: 0.306611\tvalid_1's binary_logloss: 0.312141\n",
      "[200]\ttraining's binary_logloss: 0.302237\tvalid_1's binary_logloss: 0.310683\n",
      "[300]\ttraining's binary_logloss: 0.298664\tvalid_1's binary_logloss: 0.309983\n",
      "[400]\ttraining's binary_logloss: 0.29544\tvalid_1's binary_logloss: 0.309666\n",
      "[500]\ttraining's binary_logloss: 0.29238\tvalid_1's binary_logloss: 0.309376\n",
      "[600]\ttraining's binary_logloss: 0.289495\tvalid_1's binary_logloss: 0.309111\n",
      "[700]\ttraining's binary_logloss: 0.286775\tvalid_1's binary_logloss: 0.309046\n",
      "[800]\ttraining's binary_logloss: 0.284092\tvalid_1's binary_logloss: 0.308977\n",
      "[900]\ttraining's binary_logloss: 0.281529\tvalid_1's binary_logloss: 0.308849\n",
      "[1000]\ttraining's binary_logloss: 0.279116\tvalid_1's binary_logloss: 0.308797\n",
      "Did not meet early stopping. Best iteration is:\n",
      "[1000]\ttraining's binary_logloss: 0.279116\tvalid_1's binary_logloss: 0.308797\n"
     ]
    },
    {
     "name": "stderr",
     "output_type": "stream",
     "text": [
      "tune_feature_fraction, val_score: 0.308437:  83%|########3 | 5/6 [07:57<01:41, 101.81s/it]"
     ]
    },
    {
     "name": "stdout",
     "output_type": "stream",
     "text": [
      "Training until validation scores don't improve for 100 rounds\n",
      "[100]\ttraining's binary_logloss: 0.306574\tvalid_1's binary_logloss: 0.312263\n",
      "[200]\ttraining's binary_logloss: 0.30221\tvalid_1's binary_logloss: 0.310835\n",
      "[300]\ttraining's binary_logloss: 0.298506\tvalid_1's binary_logloss: 0.310023\n",
      "[400]\ttraining's binary_logloss: 0.295283\tvalid_1's binary_logloss: 0.309673\n",
      "[500]\ttraining's binary_logloss: 0.292215\tvalid_1's binary_logloss: 0.309293\n",
      "[600]\ttraining's binary_logloss: 0.289385\tvalid_1's binary_logloss: 0.309092\n",
      "[700]\ttraining's binary_logloss: 0.286618\tvalid_1's binary_logloss: 0.308942\n",
      "[800]\ttraining's binary_logloss: 0.284051\tvalid_1's binary_logloss: 0.308804\n",
      "[900]\ttraining's binary_logloss: 0.281383\tvalid_1's binary_logloss: 0.308733\n",
      "Early stopping, best iteration is:\n",
      "[870]\ttraining's binary_logloss: 0.28219\tvalid_1's binary_logloss: 0.3087\n"
     ]
    },
    {
     "name": "stderr",
     "output_type": "stream",
     "text": [
      "tune_feature_fraction, val_score: 0.308437: 100%|##########| 6/6 [10:13<00:00, 102.25s/it]\n",
      "tune_lambda_l1_and_lambda_l2, val_score: 0.308437:   0%|          | 0/20 [00:00<?, ?it/s]"
     ]
    },
    {
     "name": "stdout",
     "output_type": "stream",
     "text": [
      "Training until validation scores don't improve for 100 rounds\n",
      "[100]\ttraining's binary_logloss: 0.306837\tvalid_1's binary_logloss: 0.312247\n",
      "[200]\ttraining's binary_logloss: 0.302326\tvalid_1's binary_logloss: 0.31061\n",
      "[300]\ttraining's binary_logloss: 0.29891\tvalid_1's binary_logloss: 0.309984\n",
      "[400]\ttraining's binary_logloss: 0.295792\tvalid_1's binary_logloss: 0.309558\n",
      "[500]\ttraining's binary_logloss: 0.292884\tvalid_1's binary_logloss: 0.309173\n",
      "[600]\ttraining's binary_logloss: 0.290046\tvalid_1's binary_logloss: 0.308894\n",
      "[700]\ttraining's binary_logloss: 0.287323\tvalid_1's binary_logloss: 0.308701\n",
      "[800]\ttraining's binary_logloss: 0.284764\tvalid_1's binary_logloss: 0.308512\n",
      "[900]\ttraining's binary_logloss: 0.282252\tvalid_1's binary_logloss: 0.308461\n",
      "[1000]\ttraining's binary_logloss: 0.279982\tvalid_1's binary_logloss: 0.308423\n",
      "Did not meet early stopping. Best iteration is:\n",
      "[1000]\ttraining's binary_logloss: 0.279982\tvalid_1's binary_logloss: 0.308423\n"
     ]
    },
    {
     "name": "stderr",
     "output_type": "stream",
     "text": [
      "tune_lambda_l1_and_lambda_l2, val_score: 0.308423:   5%|5         | 1/20 [02:17<43:36, 137.69s/it]"
     ]
    },
    {
     "name": "stdout",
     "output_type": "stream",
     "text": [
      "Training until validation scores don't improve for 100 rounds\n",
      "[100]\ttraining's binary_logloss: 0.306893\tvalid_1's binary_logloss: 0.312326\n",
      "[200]\ttraining's binary_logloss: 0.302626\tvalid_1's binary_logloss: 0.310714\n",
      "[300]\ttraining's binary_logloss: 0.299372\tvalid_1's binary_logloss: 0.309964\n",
      "[400]\ttraining's binary_logloss: 0.296336\tvalid_1's binary_logloss: 0.309462\n",
      "[500]\ttraining's binary_logloss: 0.293546\tvalid_1's binary_logloss: 0.309169\n",
      "[600]\ttraining's binary_logloss: 0.290843\tvalid_1's binary_logloss: 0.308881\n",
      "[700]\ttraining's binary_logloss: 0.288272\tvalid_1's binary_logloss: 0.308772\n",
      "[800]\ttraining's binary_logloss: 0.285837\tvalid_1's binary_logloss: 0.308597\n",
      "[900]\ttraining's binary_logloss: 0.283532\tvalid_1's binary_logloss: 0.308528\n",
      "[1000]\ttraining's binary_logloss: 0.281193\tvalid_1's binary_logloss: 0.30847\n",
      "Did not meet early stopping. Best iteration is:\n",
      "[1000]\ttraining's binary_logloss: 0.281193\tvalid_1's binary_logloss: 0.30847\n"
     ]
    },
    {
     "name": "stderr",
     "output_type": "stream",
     "text": [
      "tune_lambda_l1_and_lambda_l2, val_score: 0.308423:  10%|#         | 2/20 [04:24<40:17, 134.32s/it]"
     ]
    },
    {
     "name": "stdout",
     "output_type": "stream",
     "text": [
      "Training until validation scores don't improve for 100 rounds\n",
      "[100]\ttraining's binary_logloss: 0.306837\tvalid_1's binary_logloss: 0.312247\n",
      "[200]\ttraining's binary_logloss: 0.302326\tvalid_1's binary_logloss: 0.31061\n",
      "[300]\ttraining's binary_logloss: 0.29891\tvalid_1's binary_logloss: 0.309984\n",
      "[400]\ttraining's binary_logloss: 0.295792\tvalid_1's binary_logloss: 0.309558\n",
      "[500]\ttraining's binary_logloss: 0.292884\tvalid_1's binary_logloss: 0.309173\n",
      "[600]\ttraining's binary_logloss: 0.290046\tvalid_1's binary_logloss: 0.308894\n",
      "[700]\ttraining's binary_logloss: 0.287323\tvalid_1's binary_logloss: 0.308701\n",
      "[800]\ttraining's binary_logloss: 0.284764\tvalid_1's binary_logloss: 0.308512\n",
      "[900]\ttraining's binary_logloss: 0.282252\tvalid_1's binary_logloss: 0.308461\n",
      "[1000]\ttraining's binary_logloss: 0.279982\tvalid_1's binary_logloss: 0.308423\n",
      "Did not meet early stopping. Best iteration is:\n",
      "[1000]\ttraining's binary_logloss: 0.279982\tvalid_1's binary_logloss: 0.308423\n"
     ]
    },
    {
     "name": "stderr",
     "output_type": "stream",
     "text": [
      "tune_lambda_l1_and_lambda_l2, val_score: 0.308423:  15%|#5        | 3/20 [06:27<37:06, 130.98s/it]"
     ]
    },
    {
     "name": "stdout",
     "output_type": "stream",
     "text": [
      "Training until validation scores don't improve for 100 rounds\n",
      "[100]\ttraining's binary_logloss: 0.306898\tvalid_1's binary_logloss: 0.31233\n",
      "[200]\ttraining's binary_logloss: 0.302423\tvalid_1's binary_logloss: 0.310696\n",
      "[300]\ttraining's binary_logloss: 0.299038\tvalid_1's binary_logloss: 0.310072\n",
      "[400]\ttraining's binary_logloss: 0.295791\tvalid_1's binary_logloss: 0.30957\n",
      "[500]\ttraining's binary_logloss: 0.292886\tvalid_1's binary_logloss: 0.309256\n",
      "[600]\ttraining's binary_logloss: 0.290195\tvalid_1's binary_logloss: 0.309042\n",
      "[700]\ttraining's binary_logloss: 0.287492\tvalid_1's binary_logloss: 0.308905\n",
      "[800]\ttraining's binary_logloss: 0.284944\tvalid_1's binary_logloss: 0.308664\n",
      "[900]\ttraining's binary_logloss: 0.282301\tvalid_1's binary_logloss: 0.308514\n",
      "[1000]\ttraining's binary_logloss: 0.280019\tvalid_1's binary_logloss: 0.308459\n",
      "Did not meet early stopping. Best iteration is:\n",
      "[1000]\ttraining's binary_logloss: 0.280019\tvalid_1's binary_logloss: 0.308459\n"
     ]
    },
    {
     "name": "stderr",
     "output_type": "stream",
     "text": [
      "tune_lambda_l1_and_lambda_l2, val_score: 0.308423:  20%|##        | 4/20 [08:29<34:10, 128.14s/it]"
     ]
    },
    {
     "name": "stdout",
     "output_type": "stream",
     "text": [
      "Training until validation scores don't improve for 100 rounds\n",
      "[100]\ttraining's binary_logloss: 0.306873\tvalid_1's binary_logloss: 0.312426\n",
      "[200]\ttraining's binary_logloss: 0.302409\tvalid_1's binary_logloss: 0.310938\n",
      "[300]\ttraining's binary_logloss: 0.298952\tvalid_1's binary_logloss: 0.310152\n",
      "[400]\ttraining's binary_logloss: 0.295732\tvalid_1's binary_logloss: 0.309671\n",
      "[500]\ttraining's binary_logloss: 0.292878\tvalid_1's binary_logloss: 0.309274\n",
      "[600]\ttraining's binary_logloss: 0.290203\tvalid_1's binary_logloss: 0.308976\n",
      "[700]\ttraining's binary_logloss: 0.287599\tvalid_1's binary_logloss: 0.308917\n",
      "[800]\ttraining's binary_logloss: 0.285001\tvalid_1's binary_logloss: 0.308798\n",
      "[900]\ttraining's binary_logloss: 0.282481\tvalid_1's binary_logloss: 0.308708\n",
      "[1000]\ttraining's binary_logloss: 0.280113\tvalid_1's binary_logloss: 0.308704\n",
      "Did not meet early stopping. Best iteration is:\n",
      "[1000]\ttraining's binary_logloss: 0.280113\tvalid_1's binary_logloss: 0.308704\n"
     ]
    },
    {
     "name": "stderr",
     "output_type": "stream",
     "text": [
      "tune_lambda_l1_and_lambda_l2, val_score: 0.308423:  25%|##5       | 5/20 [10:23<31:01, 124.12s/it]"
     ]
    },
    {
     "name": "stdout",
     "output_type": "stream",
     "text": [
      "Training until validation scores don't improve for 100 rounds\n",
      "[100]\ttraining's binary_logloss: 0.30712\tvalid_1's binary_logloss: 0.312343\n",
      "[200]\ttraining's binary_logloss: 0.303268\tvalid_1's binary_logloss: 0.310729\n",
      "[300]\ttraining's binary_logloss: 0.300349\tvalid_1's binary_logloss: 0.309916\n",
      "[400]\ttraining's binary_logloss: 0.297802\tvalid_1's binary_logloss: 0.309487\n",
      "[500]\ttraining's binary_logloss: 0.295436\tvalid_1's binary_logloss: 0.308991\n",
      "[600]\ttraining's binary_logloss: 0.293209\tvalid_1's binary_logloss: 0.308801\n",
      "[700]\ttraining's binary_logloss: 0.29113\tvalid_1's binary_logloss: 0.308652\n",
      "[800]\ttraining's binary_logloss: 0.289028\tvalid_1's binary_logloss: 0.30842\n",
      "[900]\ttraining's binary_logloss: 0.287002\tvalid_1's binary_logloss: 0.30822\n",
      "[1000]\ttraining's binary_logloss: 0.285142\tvalid_1's binary_logloss: 0.308193\n",
      "Did not meet early stopping. Best iteration is:\n",
      "[1000]\ttraining's binary_logloss: 0.285142\tvalid_1's binary_logloss: 0.308193\n"
     ]
    },
    {
     "name": "stderr",
     "output_type": "stream",
     "text": [
      "tune_lambda_l1_and_lambda_l2, val_score: 0.308193:  30%|###       | 6/20 [12:35<29:28, 126.33s/it]"
     ]
    },
    {
     "name": "stdout",
     "output_type": "stream",
     "text": [
      "Training until validation scores don't improve for 100 rounds\n",
      "[100]\ttraining's binary_logloss: 0.307166\tvalid_1's binary_logloss: 0.312465\n",
      "[200]\ttraining's binary_logloss: 0.302963\tvalid_1's binary_logloss: 0.310765\n",
      "[300]\ttraining's binary_logloss: 0.299779\tvalid_1's binary_logloss: 0.309995\n",
      "[400]\ttraining's binary_logloss: 0.296929\tvalid_1's binary_logloss: 0.309512\n",
      "[500]\ttraining's binary_logloss: 0.294335\tvalid_1's binary_logloss: 0.309171\n",
      "[600]\ttraining's binary_logloss: 0.292007\tvalid_1's binary_logloss: 0.309019\n",
      "[700]\ttraining's binary_logloss: 0.289638\tvalid_1's binary_logloss: 0.308895\n",
      "[800]\ttraining's binary_logloss: 0.287394\tvalid_1's binary_logloss: 0.308776\n",
      "[900]\ttraining's binary_logloss: 0.285202\tvalid_1's binary_logloss: 0.30864\n",
      "[1000]\ttraining's binary_logloss: 0.283077\tvalid_1's binary_logloss: 0.308581\n",
      "Did not meet early stopping. Best iteration is:\n",
      "[1000]\ttraining's binary_logloss: 0.283077\tvalid_1's binary_logloss: 0.308581\n"
     ]
    },
    {
     "name": "stderr",
     "output_type": "stream",
     "text": [
      "tune_lambda_l1_and_lambda_l2, val_score: 0.308193:  35%|###5      | 7/20 [14:12<25:28, 117.54s/it]"
     ]
    },
    {
     "name": "stdout",
     "output_type": "stream",
     "text": [
      "Training until validation scores don't improve for 100 rounds\n",
      "[100]\ttraining's binary_logloss: 0.306929\tvalid_1's binary_logloss: 0.312468\n",
      "[200]\ttraining's binary_logloss: 0.30258\tvalid_1's binary_logloss: 0.31086\n",
      "[300]\ttraining's binary_logloss: 0.299316\tvalid_1's binary_logloss: 0.310147\n",
      "[400]\ttraining's binary_logloss: 0.296222\tvalid_1's binary_logloss: 0.30969\n",
      "[500]\ttraining's binary_logloss: 0.293448\tvalid_1's binary_logloss: 0.309329\n",
      "[600]\ttraining's binary_logloss: 0.290746\tvalid_1's binary_logloss: 0.309116\n",
      "[700]\ttraining's binary_logloss: 0.288168\tvalid_1's binary_logloss: 0.309016\n",
      "[800]\ttraining's binary_logloss: 0.285686\tvalid_1's binary_logloss: 0.30888\n",
      "[900]\ttraining's binary_logloss: 0.283263\tvalid_1's binary_logloss: 0.308767\n",
      "[1000]\ttraining's binary_logloss: 0.281024\tvalid_1's binary_logloss: 0.3087\n",
      "Did not meet early stopping. Best iteration is:\n",
      "[1000]\ttraining's binary_logloss: 0.281024\tvalid_1's binary_logloss: 0.3087\n"
     ]
    },
    {
     "name": "stderr",
     "output_type": "stream",
     "text": [
      "tune_lambda_l1_and_lambda_l2, val_score: 0.308193:  40%|####      | 8/20 [17:10<27:08, 135.68s/it]"
     ]
    },
    {
     "name": "stdout",
     "output_type": "stream",
     "text": [
      "Training until validation scores don't improve for 100 rounds\n",
      "[100]\ttraining's binary_logloss: 0.306864\tvalid_1's binary_logloss: 0.312239\n",
      "[200]\ttraining's binary_logloss: 0.302647\tvalid_1's binary_logloss: 0.310924\n",
      "[300]\ttraining's binary_logloss: 0.299216\tvalid_1's binary_logloss: 0.310126\n",
      "[400]\ttraining's binary_logloss: 0.296173\tvalid_1's binary_logloss: 0.309812\n",
      "[500]\ttraining's binary_logloss: 0.293257\tvalid_1's binary_logloss: 0.309316\n",
      "[600]\ttraining's binary_logloss: 0.290518\tvalid_1's binary_logloss: 0.309041\n",
      "[700]\ttraining's binary_logloss: 0.287981\tvalid_1's binary_logloss: 0.308896\n",
      "[800]\ttraining's binary_logloss: 0.285602\tvalid_1's binary_logloss: 0.30878\n",
      "[900]\ttraining's binary_logloss: 0.283116\tvalid_1's binary_logloss: 0.308669\n",
      "[1000]\ttraining's binary_logloss: 0.280808\tvalid_1's binary_logloss: 0.308577\n",
      "Did not meet early stopping. Best iteration is:\n",
      "[1000]\ttraining's binary_logloss: 0.280808\tvalid_1's binary_logloss: 0.308577\n"
     ]
    },
    {
     "name": "stderr",
     "output_type": "stream",
     "text": [
      "tune_lambda_l1_and_lambda_l2, val_score: 0.308193:  45%|####5     | 9/20 [18:01<20:15, 110.51s/it]"
     ]
    },
    {
     "name": "stdout",
     "output_type": "stream",
     "text": [
      "Training until validation scores don't improve for 100 rounds\n",
      "[100]\ttraining's binary_logloss: 0.306863\tvalid_1's binary_logloss: 0.312348\n",
      "[200]\ttraining's binary_logloss: 0.302533\tvalid_1's binary_logloss: 0.310977\n",
      "[300]\ttraining's binary_logloss: 0.298973\tvalid_1's binary_logloss: 0.310199\n",
      "[400]\ttraining's binary_logloss: 0.295778\tvalid_1's binary_logloss: 0.30975\n",
      "[500]\ttraining's binary_logloss: 0.292916\tvalid_1's binary_logloss: 0.309513\n",
      "[600]\ttraining's binary_logloss: 0.290137\tvalid_1's binary_logloss: 0.30922\n",
      "[700]\ttraining's binary_logloss: 0.287493\tvalid_1's binary_logloss: 0.30908\n",
      "[800]\ttraining's binary_logloss: 0.284888\tvalid_1's binary_logloss: 0.308841\n",
      "[900]\ttraining's binary_logloss: 0.282407\tvalid_1's binary_logloss: 0.308742\n",
      "[1000]\ttraining's binary_logloss: 0.279986\tvalid_1's binary_logloss: 0.308626\n",
      "Did not meet early stopping. Best iteration is:\n",
      "[1000]\ttraining's binary_logloss: 0.279986\tvalid_1's binary_logloss: 0.308626\n"
     ]
    },
    {
     "name": "stderr",
     "output_type": "stream",
     "text": [
      "tune_lambda_l1_and_lambda_l2, val_score: 0.308193:  50%|#####     | 10/20 [18:53<15:28, 92.86s/it]"
     ]
    },
    {
     "name": "stdout",
     "output_type": "stream",
     "text": [
      "Training until validation scores don't improve for 100 rounds\n",
      "[100]\ttraining's binary_logloss: 0.307004\tvalid_1's binary_logloss: 0.312232\n",
      "[200]\ttraining's binary_logloss: 0.302975\tvalid_1's binary_logloss: 0.310437\n",
      "[300]\ttraining's binary_logloss: 0.299996\tvalid_1's binary_logloss: 0.309574\n",
      "[400]\ttraining's binary_logloss: 0.297301\tvalid_1's binary_logloss: 0.309017\n",
      "[500]\ttraining's binary_logloss: 0.294891\tvalid_1's binary_logloss: 0.308643\n",
      "[600]\ttraining's binary_logloss: 0.29264\tvalid_1's binary_logloss: 0.308408\n",
      "[700]\ttraining's binary_logloss: 0.290456\tvalid_1's binary_logloss: 0.308257\n",
      "[800]\ttraining's binary_logloss: 0.288365\tvalid_1's binary_logloss: 0.308078\n",
      "[900]\ttraining's binary_logloss: 0.286346\tvalid_1's binary_logloss: 0.307979\n",
      "Early stopping, best iteration is:\n",
      "[897]\ttraining's binary_logloss: 0.286402\tvalid_1's binary_logloss: 0.30797\n"
     ]
    },
    {
     "name": "stderr",
     "output_type": "stream",
     "text": [
      "tune_lambda_l1_and_lambda_l2, val_score: 0.307970:  55%|#####5    | 11/20 [19:48<12:13, 81.52s/it]"
     ]
    },
    {
     "name": "stdout",
     "output_type": "stream",
     "text": [
      "Training until validation scores don't improve for 100 rounds\n",
      "[100]\ttraining's binary_logloss: 0.307144\tvalid_1's binary_logloss: 0.312537\n",
      "[200]\ttraining's binary_logloss: 0.302865\tvalid_1's binary_logloss: 0.310764\n",
      "[300]\ttraining's binary_logloss: 0.299674\tvalid_1's binary_logloss: 0.309974\n",
      "[400]\ttraining's binary_logloss: 0.296862\tvalid_1's binary_logloss: 0.309399\n",
      "[500]\ttraining's binary_logloss: 0.294265\tvalid_1's binary_logloss: 0.30904\n",
      "[600]\ttraining's binary_logloss: 0.291762\tvalid_1's binary_logloss: 0.308835\n",
      "[700]\ttraining's binary_logloss: 0.289419\tvalid_1's binary_logloss: 0.308736\n",
      "[800]\ttraining's binary_logloss: 0.287102\tvalid_1's binary_logloss: 0.308628\n",
      "[900]\ttraining's binary_logloss: 0.284914\tvalid_1's binary_logloss: 0.308501\n",
      "[1000]\ttraining's binary_logloss: 0.282806\tvalid_1's binary_logloss: 0.308432\n",
      "Did not meet early stopping. Best iteration is:\n",
      "[1000]\ttraining's binary_logloss: 0.282806\tvalid_1's binary_logloss: 0.308432\n"
     ]
    },
    {
     "name": "stderr",
     "output_type": "stream",
     "text": [
      "tune_lambda_l1_and_lambda_l2, val_score: 0.307970:  60%|######    | 12/20 [20:41<09:43, 72.91s/it]"
     ]
    },
    {
     "name": "stdout",
     "output_type": "stream",
     "text": [
      "Training until validation scores don't improve for 100 rounds\n",
      "[100]\ttraining's binary_logloss: 0.306837\tvalid_1's binary_logloss: 0.312247\n",
      "[200]\ttraining's binary_logloss: 0.302326\tvalid_1's binary_logloss: 0.31061\n",
      "[300]\ttraining's binary_logloss: 0.298928\tvalid_1's binary_logloss: 0.309981\n",
      "[400]\ttraining's binary_logloss: 0.295665\tvalid_1's binary_logloss: 0.30945\n",
      "[500]\ttraining's binary_logloss: 0.292721\tvalid_1's binary_logloss: 0.309158\n",
      "[600]\ttraining's binary_logloss: 0.289939\tvalid_1's binary_logloss: 0.308892\n",
      "[700]\ttraining's binary_logloss: 0.287234\tvalid_1's binary_logloss: 0.308827\n",
      "[800]\ttraining's binary_logloss: 0.284591\tvalid_1's binary_logloss: 0.308648\n",
      "[900]\ttraining's binary_logloss: 0.282087\tvalid_1's binary_logloss: 0.308541\n",
      "[1000]\ttraining's binary_logloss: 0.279725\tvalid_1's binary_logloss: 0.3085\n",
      "Did not meet early stopping. Best iteration is:\n",
      "[1000]\ttraining's binary_logloss: 0.279725\tvalid_1's binary_logloss: 0.3085\n"
     ]
    },
    {
     "name": "stderr",
     "output_type": "stream",
     "text": [
      "tune_lambda_l1_and_lambda_l2, val_score: 0.307970:  65%|######5   | 13/20 [21:32<07:44, 66.30s/it]"
     ]
    },
    {
     "name": "stdout",
     "output_type": "stream",
     "text": [
      "Training until validation scores don't improve for 100 rounds\n",
      "[100]\ttraining's binary_logloss: 0.307009\tvalid_1's binary_logloss: 0.312376\n",
      "[200]\ttraining's binary_logloss: 0.302896\tvalid_1's binary_logloss: 0.310703\n",
      "[300]\ttraining's binary_logloss: 0.299679\tvalid_1's binary_logloss: 0.309776\n",
      "[400]\ttraining's binary_logloss: 0.29685\tvalid_1's binary_logloss: 0.309287\n",
      "[500]\ttraining's binary_logloss: 0.294227\tvalid_1's binary_logloss: 0.308909\n",
      "[600]\ttraining's binary_logloss: 0.291773\tvalid_1's binary_logloss: 0.308647\n",
      "[700]\ttraining's binary_logloss: 0.289433\tvalid_1's binary_logloss: 0.308371\n",
      "[800]\ttraining's binary_logloss: 0.287198\tvalid_1's binary_logloss: 0.308218\n",
      "[900]\ttraining's binary_logloss: 0.285015\tvalid_1's binary_logloss: 0.308141\n",
      "[1000]\ttraining's binary_logloss: 0.282961\tvalid_1's binary_logloss: 0.308152\n",
      "Did not meet early stopping. Best iteration is:\n",
      "[1000]\ttraining's binary_logloss: 0.282961\tvalid_1's binary_logloss: 0.308152\n"
     ]
    },
    {
     "name": "stderr",
     "output_type": "stream",
     "text": [
      "tune_lambda_l1_and_lambda_l2, val_score: 0.307970:  70%|#######   | 14/20 [22:26<06:15, 62.55s/it]"
     ]
    },
    {
     "name": "stdout",
     "output_type": "stream",
     "text": [
      "Training until validation scores don't improve for 100 rounds\n",
      "[100]\ttraining's binary_logloss: 0.307248\tvalid_1's binary_logloss: 0.312428\n",
      "[200]\ttraining's binary_logloss: 0.303085\tvalid_1's binary_logloss: 0.310584\n",
      "[300]\ttraining's binary_logloss: 0.299983\tvalid_1's binary_logloss: 0.309662\n",
      "[400]\ttraining's binary_logloss: 0.297277\tvalid_1's binary_logloss: 0.309101\n",
      "[500]\ttraining's binary_logloss: 0.294791\tvalid_1's binary_logloss: 0.308719\n",
      "[600]\ttraining's binary_logloss: 0.2925\tvalid_1's binary_logloss: 0.308508\n",
      "[700]\ttraining's binary_logloss: 0.290259\tvalid_1's binary_logloss: 0.308301\n",
      "[800]\ttraining's binary_logloss: 0.288171\tvalid_1's binary_logloss: 0.308197\n",
      "[900]\ttraining's binary_logloss: 0.286101\tvalid_1's binary_logloss: 0.308012\n",
      "[1000]\ttraining's binary_logloss: 0.284128\tvalid_1's binary_logloss: 0.307917\n",
      "Did not meet early stopping. Best iteration is:\n",
      "[1000]\ttraining's binary_logloss: 0.284128\tvalid_1's binary_logloss: 0.307917\n"
     ]
    },
    {
     "name": "stderr",
     "output_type": "stream",
     "text": [
      "tune_lambda_l1_and_lambda_l2, val_score: 0.307917:  75%|#######5  | 15/20 [23:20<05:00, 60.08s/it]"
     ]
    },
    {
     "name": "stdout",
     "output_type": "stream",
     "text": [
      "Training until validation scores don't improve for 100 rounds\n",
      "[100]\ttraining's binary_logloss: 0.307103\tvalid_1's binary_logloss: 0.312312\n",
      "[200]\ttraining's binary_logloss: 0.303223\tvalid_1's binary_logloss: 0.310479\n",
      "[300]\ttraining's binary_logloss: 0.300494\tvalid_1's binary_logloss: 0.309665\n",
      "[400]\ttraining's binary_logloss: 0.298129\tvalid_1's binary_logloss: 0.30914\n",
      "[500]\ttraining's binary_logloss: 0.296018\tvalid_1's binary_logloss: 0.308692\n",
      "[600]\ttraining's binary_logloss: 0.294062\tvalid_1's binary_logloss: 0.308487\n",
      "[700]\ttraining's binary_logloss: 0.292186\tvalid_1's binary_logloss: 0.308301\n",
      "[800]\ttraining's binary_logloss: 0.29039\tvalid_1's binary_logloss: 0.308206\n",
      "[900]\ttraining's binary_logloss: 0.288662\tvalid_1's binary_logloss: 0.308162\n",
      "[1000]\ttraining's binary_logloss: 0.286991\tvalid_1's binary_logloss: 0.308019\n",
      "Did not meet early stopping. Best iteration is:\n",
      "[1000]\ttraining's binary_logloss: 0.286991\tvalid_1's binary_logloss: 0.308019\n"
     ]
    },
    {
     "name": "stderr",
     "output_type": "stream",
     "text": [
      "tune_lambda_l1_and_lambda_l2, val_score: 0.307917:  80%|########  | 16/20 [24:18<03:57, 59.37s/it]"
     ]
    },
    {
     "name": "stdout",
     "output_type": "stream",
     "text": [
      "Training until validation scores don't improve for 100 rounds\n",
      "[100]\ttraining's binary_logloss: 0.306979\tvalid_1's binary_logloss: 0.312453\n",
      "[200]\ttraining's binary_logloss: 0.302508\tvalid_1's binary_logloss: 0.310704\n",
      "[300]\ttraining's binary_logloss: 0.29918\tvalid_1's binary_logloss: 0.310072\n",
      "[400]\ttraining's binary_logloss: 0.295938\tvalid_1's binary_logloss: 0.309509\n",
      "[500]\ttraining's binary_logloss: 0.292974\tvalid_1's binary_logloss: 0.309124\n",
      "[600]\ttraining's binary_logloss: 0.29027\tvalid_1's binary_logloss: 0.309035\n",
      "[700]\ttraining's binary_logloss: 0.287625\tvalid_1's binary_logloss: 0.308864\n",
      "[800]\ttraining's binary_logloss: 0.285094\tvalid_1's binary_logloss: 0.308731\n",
      "[900]\ttraining's binary_logloss: 0.282601\tvalid_1's binary_logloss: 0.308573\n",
      "[1000]\ttraining's binary_logloss: 0.280306\tvalid_1's binary_logloss: 0.308544\n",
      "Did not meet early stopping. Best iteration is:\n",
      "[1000]\ttraining's binary_logloss: 0.280306\tvalid_1's binary_logloss: 0.308544\n"
     ]
    },
    {
     "name": "stderr",
     "output_type": "stream",
     "text": [
      "tune_lambda_l1_and_lambda_l2, val_score: 0.307917:  85%|########5 | 17/20 [25:12<02:53, 57.95s/it]"
     ]
    },
    {
     "name": "stdout",
     "output_type": "stream",
     "text": [
      "Training until validation scores don't improve for 100 rounds\n",
      "[100]\ttraining's binary_logloss: 0.306934\tvalid_1's binary_logloss: 0.3124\n",
      "[200]\ttraining's binary_logloss: 0.302516\tvalid_1's binary_logloss: 0.310843\n",
      "[300]\ttraining's binary_logloss: 0.299085\tvalid_1's binary_logloss: 0.31006\n",
      "[400]\ttraining's binary_logloss: 0.295858\tvalid_1's binary_logloss: 0.309589\n",
      "[500]\ttraining's binary_logloss: 0.292847\tvalid_1's binary_logloss: 0.309183\n",
      "[600]\ttraining's binary_logloss: 0.29007\tvalid_1's binary_logloss: 0.308924\n",
      "[700]\ttraining's binary_logloss: 0.287466\tvalid_1's binary_logloss: 0.308787\n",
      "[800]\ttraining's binary_logloss: 0.285002\tvalid_1's binary_logloss: 0.308701\n",
      "[900]\ttraining's binary_logloss: 0.282555\tvalid_1's binary_logloss: 0.308667\n",
      "[1000]\ttraining's binary_logloss: 0.280209\tvalid_1's binary_logloss: 0.308582\n",
      "Did not meet early stopping. Best iteration is:\n",
      "[1000]\ttraining's binary_logloss: 0.280209\tvalid_1's binary_logloss: 0.308582\n"
     ]
    },
    {
     "name": "stderr",
     "output_type": "stream",
     "text": [
      "tune_lambda_l1_and_lambda_l2, val_score: 0.307917:  90%|######### | 18/20 [26:15<01:58, 59.42s/it]"
     ]
    },
    {
     "name": "stdout",
     "output_type": "stream",
     "text": [
      "Training until validation scores don't improve for 100 rounds\n",
      "[100]\ttraining's binary_logloss: 0.307127\tvalid_1's binary_logloss: 0.312403\n",
      "[200]\ttraining's binary_logloss: 0.302987\tvalid_1's binary_logloss: 0.310496\n",
      "[300]\ttraining's binary_logloss: 0.299858\tvalid_1's binary_logloss: 0.309668\n",
      "[400]\ttraining's binary_logloss: 0.297214\tvalid_1's binary_logloss: 0.309171\n",
      "[500]\ttraining's binary_logloss: 0.294705\tvalid_1's binary_logloss: 0.308753\n",
      "[600]\ttraining's binary_logloss: 0.292407\tvalid_1's binary_logloss: 0.308506\n",
      "[700]\ttraining's binary_logloss: 0.290154\tvalid_1's binary_logloss: 0.308313\n",
      "[800]\ttraining's binary_logloss: 0.288055\tvalid_1's binary_logloss: 0.308136\n",
      "[900]\ttraining's binary_logloss: 0.285949\tvalid_1's binary_logloss: 0.308004\n",
      "[1000]\ttraining's binary_logloss: 0.284062\tvalid_1's binary_logloss: 0.307968\n",
      "Did not meet early stopping. Best iteration is:\n",
      "[1000]\ttraining's binary_logloss: 0.284062\tvalid_1's binary_logloss: 0.307968\n"
     ]
    },
    {
     "name": "stderr",
     "output_type": "stream",
     "text": [
      "tune_lambda_l1_and_lambda_l2, val_score: 0.307917:  95%|#########5| 19/20 [27:22<01:01, 61.74s/it]"
     ]
    },
    {
     "name": "stdout",
     "output_type": "stream",
     "text": [
      "Training until validation scores don't improve for 100 rounds\n",
      "[100]\ttraining's binary_logloss: 0.307306\tvalid_1's binary_logloss: 0.312373\n",
      "[200]\ttraining's binary_logloss: 0.303529\tvalid_1's binary_logloss: 0.31046\n",
      "[300]\ttraining's binary_logloss: 0.300916\tvalid_1's binary_logloss: 0.309637\n",
      "[400]\ttraining's binary_logloss: 0.29869\tvalid_1's binary_logloss: 0.309152\n",
      "[500]\ttraining's binary_logloss: 0.296755\tvalid_1's binary_logloss: 0.308766\n",
      "[600]\ttraining's binary_logloss: 0.294992\tvalid_1's binary_logloss: 0.30854\n",
      "[700]\ttraining's binary_logloss: 0.293267\tvalid_1's binary_logloss: 0.308354\n",
      "[800]\ttraining's binary_logloss: 0.291626\tvalid_1's binary_logloss: 0.308172\n",
      "[900]\ttraining's binary_logloss: 0.289984\tvalid_1's binary_logloss: 0.308035\n",
      "[1000]\ttraining's binary_logloss: 0.288436\tvalid_1's binary_logloss: 0.307958\n",
      "Did not meet early stopping. Best iteration is:\n",
      "[1000]\ttraining's binary_logloss: 0.288436\tvalid_1's binary_logloss: 0.307958\n"
     ]
    },
    {
     "name": "stderr",
     "output_type": "stream",
     "text": [
      "tune_lambda_l1_and_lambda_l2, val_score: 0.307917: 100%|##########| 20/20 [28:32<00:00, 85.62s/it]\n",
      "tune_min_child_samples, val_score: 0.307917:   0%|          | 0/5 [00:00<?, ?it/s]"
     ]
    },
    {
     "name": "stdout",
     "output_type": "stream",
     "text": [
      "Training until validation scores don't improve for 100 rounds\n",
      "[100]\ttraining's binary_logloss: 0.307115\tvalid_1's binary_logloss: 0.312367\n",
      "[200]\ttraining's binary_logloss: 0.302987\tvalid_1's binary_logloss: 0.310577\n",
      "[300]\ttraining's binary_logloss: 0.299877\tvalid_1's binary_logloss: 0.309694\n",
      "[400]\ttraining's binary_logloss: 0.297133\tvalid_1's binary_logloss: 0.309262\n",
      "[500]\ttraining's binary_logloss: 0.294603\tvalid_1's binary_logloss: 0.308811\n",
      "[600]\ttraining's binary_logloss: 0.292336\tvalid_1's binary_logloss: 0.308508\n",
      "[700]\ttraining's binary_logloss: 0.290134\tvalid_1's binary_logloss: 0.30834\n",
      "[800]\ttraining's binary_logloss: 0.288012\tvalid_1's binary_logloss: 0.308177\n",
      "[900]\ttraining's binary_logloss: 0.285957\tvalid_1's binary_logloss: 0.308052\n",
      "[1000]\ttraining's binary_logloss: 0.284027\tvalid_1's binary_logloss: 0.308035\n",
      "Did not meet early stopping. Best iteration is:\n",
      "[1000]\ttraining's binary_logloss: 0.284027\tvalid_1's binary_logloss: 0.308035\n"
     ]
    },
    {
     "name": "stderr",
     "output_type": "stream",
     "text": [
      "tune_min_child_samples, val_score: 0.307917:  20%|##        | 1/5 [01:06<04:23, 66.00s/it]"
     ]
    },
    {
     "name": "stdout",
     "output_type": "stream",
     "text": [
      "Training until validation scores don't improve for 100 rounds\n",
      "[100]\ttraining's binary_logloss: 0.307066\tvalid_1's binary_logloss: 0.312306\n",
      "[200]\ttraining's binary_logloss: 0.302955\tvalid_1's binary_logloss: 0.310554\n",
      "[300]\ttraining's binary_logloss: 0.299804\tvalid_1's binary_logloss: 0.309514\n",
      "[400]\ttraining's binary_logloss: 0.297111\tvalid_1's binary_logloss: 0.30904\n",
      "[500]\ttraining's binary_logloss: 0.294672\tvalid_1's binary_logloss: 0.308651\n",
      "[600]\ttraining's binary_logloss: 0.292366\tvalid_1's binary_logloss: 0.308465\n",
      "[700]\ttraining's binary_logloss: 0.290145\tvalid_1's binary_logloss: 0.308335\n",
      "[800]\ttraining's binary_logloss: 0.28805\tvalid_1's binary_logloss: 0.308121\n",
      "[900]\ttraining's binary_logloss: 0.286046\tvalid_1's binary_logloss: 0.307999\n",
      "[1000]\ttraining's binary_logloss: 0.284066\tvalid_1's binary_logloss: 0.308012\n",
      "Did not meet early stopping. Best iteration is:\n",
      "[1000]\ttraining's binary_logloss: 0.284066\tvalid_1's binary_logloss: 0.308012\n"
     ]
    },
    {
     "name": "stderr",
     "output_type": "stream",
     "text": [
      "tune_min_child_samples, val_score: 0.307917:  40%|####      | 2/5 [02:13<03:18, 66.32s/it]"
     ]
    },
    {
     "name": "stdout",
     "output_type": "stream",
     "text": [
      "Training until validation scores don't improve for 100 rounds\n",
      "[100]\ttraining's binary_logloss: 0.307271\tvalid_1's binary_logloss: 0.312467\n",
      "[200]\ttraining's binary_logloss: 0.30316\tvalid_1's binary_logloss: 0.310655\n",
      "[300]\ttraining's binary_logloss: 0.300102\tvalid_1's binary_logloss: 0.309821\n",
      "[400]\ttraining's binary_logloss: 0.29733\tvalid_1's binary_logloss: 0.309283\n",
      "[500]\ttraining's binary_logloss: 0.294796\tvalid_1's binary_logloss: 0.30887\n",
      "[600]\ttraining's binary_logloss: 0.292477\tvalid_1's binary_logloss: 0.308582\n",
      "[700]\ttraining's binary_logloss: 0.29028\tvalid_1's binary_logloss: 0.308396\n",
      "[800]\ttraining's binary_logloss: 0.288176\tvalid_1's binary_logloss: 0.308141\n",
      "[900]\ttraining's binary_logloss: 0.286063\tvalid_1's binary_logloss: 0.308062\n",
      "[1000]\ttraining's binary_logloss: 0.284123\tvalid_1's binary_logloss: 0.308009\n",
      "Did not meet early stopping. Best iteration is:\n",
      "[1000]\ttraining's binary_logloss: 0.284123\tvalid_1's binary_logloss: 0.308009\n"
     ]
    },
    {
     "name": "stderr",
     "output_type": "stream",
     "text": [
      "tune_min_child_samples, val_score: 0.307917:  60%|######    | 3/5 [03:19<02:12, 66.38s/it]"
     ]
    },
    {
     "name": "stdout",
     "output_type": "stream",
     "text": [
      "Training until validation scores don't improve for 100 rounds\n",
      "[100]\ttraining's binary_logloss: 0.30707\tvalid_1's binary_logloss: 0.312254\n",
      "[200]\ttraining's binary_logloss: 0.302963\tvalid_1's binary_logloss: 0.310443\n",
      "[300]\ttraining's binary_logloss: 0.299955\tvalid_1's binary_logloss: 0.309695\n",
      "[400]\ttraining's binary_logloss: 0.297251\tvalid_1's binary_logloss: 0.30918\n",
      "[500]\ttraining's binary_logloss: 0.294857\tvalid_1's binary_logloss: 0.308842\n",
      "[600]\ttraining's binary_logloss: 0.292587\tvalid_1's binary_logloss: 0.308572\n",
      "[700]\ttraining's binary_logloss: 0.290392\tvalid_1's binary_logloss: 0.308452\n",
      "[800]\ttraining's binary_logloss: 0.288325\tvalid_1's binary_logloss: 0.308266\n",
      "[900]\ttraining's binary_logloss: 0.286343\tvalid_1's binary_logloss: 0.308106\n",
      "[1000]\ttraining's binary_logloss: 0.284383\tvalid_1's binary_logloss: 0.308024\n",
      "Did not meet early stopping. Best iteration is:\n",
      "[1000]\ttraining's binary_logloss: 0.284383\tvalid_1's binary_logloss: 0.308024\n"
     ]
    },
    {
     "name": "stderr",
     "output_type": "stream",
     "text": [
      "tune_min_child_samples, val_score: 0.307917:  80%|########  | 4/5 [04:25<01:06, 66.28s/it]"
     ]
    },
    {
     "name": "stdout",
     "output_type": "stream",
     "text": [
      "Training until validation scores don't improve for 100 rounds\n",
      "[100]\ttraining's binary_logloss: 0.307206\tvalid_1's binary_logloss: 0.312467\n",
      "[200]\ttraining's binary_logloss: 0.303051\tvalid_1's binary_logloss: 0.31054\n",
      "[300]\ttraining's binary_logloss: 0.300014\tvalid_1's binary_logloss: 0.30965\n",
      "[400]\ttraining's binary_logloss: 0.297478\tvalid_1's binary_logloss: 0.309181\n",
      "[500]\ttraining's binary_logloss: 0.295109\tvalid_1's binary_logloss: 0.308883\n",
      "[600]\ttraining's binary_logloss: 0.292888\tvalid_1's binary_logloss: 0.308653\n",
      "[700]\ttraining's binary_logloss: 0.290725\tvalid_1's binary_logloss: 0.308409\n",
      "[800]\ttraining's binary_logloss: 0.288666\tvalid_1's binary_logloss: 0.30828\n",
      "[900]\ttraining's binary_logloss: 0.286625\tvalid_1's binary_logloss: 0.308104\n",
      "[1000]\ttraining's binary_logloss: 0.28474\tvalid_1's binary_logloss: 0.308038\n",
      "Did not meet early stopping. Best iteration is:\n",
      "[1000]\ttraining's binary_logloss: 0.28474\tvalid_1's binary_logloss: 0.308038\n"
     ]
    },
    {
     "name": "stderr",
     "output_type": "stream",
     "text": [
      "tune_min_child_samples, val_score: 0.307917: 100%|##########| 5/5 [05:33<00:00, 66.78s/it]\n"
     ]
    },
    {
     "name": "stdout",
     "output_type": "stream",
     "text": [
      "2020-03-24 21:29:25 Reply ********************************************************************************\n",
      "Reply\n",
      "n_pos_wanted 100000\n",
      "2020-03-24 21:29:40 chunk 1\n",
      "2020-03-24 21:29:52 chunk 2\n",
      "2020-03-24 21:30:03 chunk 3\n",
      "2020-03-24 21:30:14 chunk 4\n",
      "dftrvl.shape: (1000000, 28) dftrvl[tgtcol].mean(): 0.109752\n",
      "{'train_pop': 4000000, 'target_pop': 109752, 'sampled_train_pop': 1000000, 'sampled_target_pop': 109752}\n",
      "{'objective': 'binary', 'metric': 'binary_logloss', 'verbosity': 0, 'boosting_type': 'gbdt'}\n"
     ]
    },
    {
     "name": "stderr",
     "output_type": "stream",
     "text": [
      "tune_feature_fraction, val_score: inf:   0%|          | 0/7 [00:00<?, ?it/s]"
     ]
    },
    {
     "name": "stdout",
     "output_type": "stream",
     "text": [
      "Training until validation scores don't improve for 100 rounds\n",
      "[100]\ttraining's binary_logloss: 0.292609\tvalid_1's binary_logloss: 0.29649\n",
      "[200]\ttraining's binary_logloss: 0.289534\tvalid_1's binary_logloss: 0.295768\n",
      "[300]\ttraining's binary_logloss: 0.286966\tvalid_1's binary_logloss: 0.295276\n",
      "[400]\ttraining's binary_logloss: 0.284641\tvalid_1's binary_logloss: 0.295\n",
      "[500]\ttraining's binary_logloss: 0.282184\tvalid_1's binary_logloss: 0.294735\n",
      "[600]\ttraining's binary_logloss: 0.280052\tvalid_1's binary_logloss: 0.294643\n",
      "[700]\ttraining's binary_logloss: 0.277908\tvalid_1's binary_logloss: 0.294485\n",
      "Early stopping, best iteration is:\n",
      "[697]\ttraining's binary_logloss: 0.277977\tvalid_1's binary_logloss: 0.294477\n"
     ]
    },
    {
     "name": "stderr",
     "output_type": "stream",
     "text": [
      "tune_feature_fraction, val_score: 0.294477:  14%|#4        | 1/7 [00:39<03:53, 38.95s/it]"
     ]
    },
    {
     "name": "stdout",
     "output_type": "stream",
     "text": [
      "Training until validation scores don't improve for 100 rounds\n",
      "[100]\ttraining's binary_logloss: 0.292291\tvalid_1's binary_logloss: 0.296175\n",
      "[200]\ttraining's binary_logloss: 0.289119\tvalid_1's binary_logloss: 0.295376\n",
      "[300]\ttraining's binary_logloss: 0.286326\tvalid_1's binary_logloss: 0.294931\n",
      "[400]\ttraining's binary_logloss: 0.283765\tvalid_1's binary_logloss: 0.294675\n",
      "[500]\ttraining's binary_logloss: 0.281423\tvalid_1's binary_logloss: 0.294533\n",
      "[600]\ttraining's binary_logloss: 0.279137\tvalid_1's binary_logloss: 0.29442\n",
      "Early stopping, best iteration is:\n",
      "[581]\ttraining's binary_logloss: 0.279555\tvalid_1's binary_logloss: 0.294403\n"
     ]
    },
    {
     "name": "stderr",
     "output_type": "stream",
     "text": [
      "tune_feature_fraction, val_score: 0.294403:  29%|##8       | 2/7 [01:08<03:00, 36.04s/it]"
     ]
    },
    {
     "name": "stdout",
     "output_type": "stream",
     "text": [
      "Training until validation scores don't improve for 100 rounds\n",
      "[100]\ttraining's binary_logloss: 0.292068\tvalid_1's binary_logloss: 0.296084\n",
      "[200]\ttraining's binary_logloss: 0.288888\tvalid_1's binary_logloss: 0.295451\n",
      "[300]\ttraining's binary_logloss: 0.286144\tvalid_1's binary_logloss: 0.295056\n",
      "[400]\ttraining's binary_logloss: 0.283474\tvalid_1's binary_logloss: 0.294768\n",
      "[500]\ttraining's binary_logloss: 0.280963\tvalid_1's binary_logloss: 0.294558\n",
      "[600]\ttraining's binary_logloss: 0.278765\tvalid_1's binary_logloss: 0.294527\n",
      "[700]\ttraining's binary_logloss: 0.276396\tvalid_1's binary_logloss: 0.294352\n",
      "[800]\ttraining's binary_logloss: 0.274209\tvalid_1's binary_logloss: 0.294303\n",
      "Early stopping, best iteration is:\n",
      "[784]\ttraining's binary_logloss: 0.274552\tvalid_1's binary_logloss: 0.294265\n"
     ]
    },
    {
     "name": "stderr",
     "output_type": "stream",
     "text": [
      "tune_feature_fraction, val_score: 0.294265:  43%|####2     | 3/7 [01:36<02:15, 33.77s/it]"
     ]
    },
    {
     "name": "stdout",
     "output_type": "stream",
     "text": [
      "Training until validation scores don't improve for 100 rounds\n",
      "[100]\ttraining's binary_logloss: 0.291878\tvalid_1's binary_logloss: 0.295842\n",
      "[200]\ttraining's binary_logloss: 0.288517\tvalid_1's binary_logloss: 0.295004\n",
      "[300]\ttraining's binary_logloss: 0.285639\tvalid_1's binary_logloss: 0.294687\n",
      "[400]\ttraining's binary_logloss: 0.282889\tvalid_1's binary_logloss: 0.294451\n",
      "[500]\ttraining's binary_logloss: 0.280375\tvalid_1's binary_logloss: 0.294293\n",
      "[600]\ttraining's binary_logloss: 0.278003\tvalid_1's binary_logloss: 0.294268\n",
      "[700]\ttraining's binary_logloss: 0.275806\tvalid_1's binary_logloss: 0.294258\n",
      "Early stopping, best iteration is:\n",
      "[615]\ttraining's binary_logloss: 0.277658\tvalid_1's binary_logloss: 0.29425\n"
     ]
    },
    {
     "name": "stderr",
     "output_type": "stream",
     "text": [
      "tune_feature_fraction, val_score: 0.294250:  57%|#####7    | 4/7 [02:04<01:35, 31.98s/it]"
     ]
    },
    {
     "name": "stdout",
     "output_type": "stream",
     "text": [
      "Training until validation scores don't improve for 100 rounds\n",
      "[100]\ttraining's binary_logloss: 0.29188\tvalid_1's binary_logloss: 0.29595\n",
      "[200]\ttraining's binary_logloss: 0.288347\tvalid_1's binary_logloss: 0.295138\n",
      "[300]\ttraining's binary_logloss: 0.285436\tvalid_1's binary_logloss: 0.294655\n",
      "[400]\ttraining's binary_logloss: 0.282694\tvalid_1's binary_logloss: 0.294389\n",
      "[500]\ttraining's binary_logloss: 0.280028\tvalid_1's binary_logloss: 0.294275\n",
      "[600]\ttraining's binary_logloss: 0.277534\tvalid_1's binary_logloss: 0.294175\n",
      "[700]\ttraining's binary_logloss: 0.275145\tvalid_1's binary_logloss: 0.294135\n",
      "[800]\ttraining's binary_logloss: 0.272984\tvalid_1's binary_logloss: 0.294115\n",
      "[900]\ttraining's binary_logloss: 0.270673\tvalid_1's binary_logloss: 0.2941\n",
      "Early stopping, best iteration is:\n",
      "[864]\ttraining's binary_logloss: 0.271423\tvalid_1's binary_logloss: 0.294084\n"
     ]
    },
    {
     "name": "stderr",
     "output_type": "stream",
     "text": [
      "tune_feature_fraction, val_score: 0.294084:  71%|#######1  | 5/7 [02:41<01:06, 33.41s/it]"
     ]
    },
    {
     "name": "stdout",
     "output_type": "stream",
     "text": [
      "Training until validation scores don't improve for 100 rounds\n",
      "[100]\ttraining's binary_logloss: 0.291551\tvalid_1's binary_logloss: 0.295743\n",
      "[200]\ttraining's binary_logloss: 0.288053\tvalid_1's binary_logloss: 0.295023\n",
      "[300]\ttraining's binary_logloss: 0.28519\tvalid_1's binary_logloss: 0.29468\n",
      "[400]\ttraining's binary_logloss: 0.282285\tvalid_1's binary_logloss: 0.294428\n",
      "[500]\ttraining's binary_logloss: 0.279718\tvalid_1's binary_logloss: 0.294373\n",
      "[600]\ttraining's binary_logloss: 0.277225\tvalid_1's binary_logloss: 0.294306\n",
      "[700]\ttraining's binary_logloss: 0.274694\tvalid_1's binary_logloss: 0.294213\n",
      "[800]\ttraining's binary_logloss: 0.272458\tvalid_1's binary_logloss: 0.294152\n",
      "[900]\ttraining's binary_logloss: 0.270077\tvalid_1's binary_logloss: 0.294151\n",
      "Early stopping, best iteration is:\n",
      "[805]\ttraining's binary_logloss: 0.272341\tvalid_1's binary_logloss: 0.29414\n"
     ]
    },
    {
     "name": "stderr",
     "output_type": "stream",
     "text": [
      "tune_feature_fraction, val_score: 0.294084:  86%|########5 | 6/7 [03:15<00:33, 33.49s/it]"
     ]
    },
    {
     "name": "stdout",
     "output_type": "stream",
     "text": [
      "Training until validation scores don't improve for 100 rounds\n",
      "[100]\ttraining's binary_logloss: 0.291524\tvalid_1's binary_logloss: 0.295778\n",
      "[200]\ttraining's binary_logloss: 0.288089\tvalid_1's binary_logloss: 0.295215\n",
      "[300]\ttraining's binary_logloss: 0.285047\tvalid_1's binary_logloss: 0.294828\n",
      "[400]\ttraining's binary_logloss: 0.282201\tvalid_1's binary_logloss: 0.294627\n",
      "[500]\ttraining's binary_logloss: 0.27949\tvalid_1's binary_logloss: 0.294561\n",
      "[600]\ttraining's binary_logloss: 0.277096\tvalid_1's binary_logloss: 0.294526\n",
      "[700]\ttraining's binary_logloss: 0.274559\tvalid_1's binary_logloss: 0.294455\n",
      "[800]\ttraining's binary_logloss: 0.272192\tvalid_1's binary_logloss: 0.294469\n",
      "Early stopping, best iteration is:\n",
      "[738]\ttraining's binary_logloss: 0.273666\tvalid_1's binary_logloss: 0.294446\n"
     ]
    },
    {
     "name": "stderr",
     "output_type": "stream",
     "text": [
      "tune_feature_fraction, val_score: 0.294084: 100%|##########| 7/7 [03:45<00:00, 32.28s/it]\n",
      "tune_num_leaves, val_score: 0.294084:   0%|          | 0/20 [00:00<?, ?it/s]"
     ]
    },
    {
     "name": "stdout",
     "output_type": "stream",
     "text": [
      "Training until validation scores don't improve for 100 rounds\n",
      "[100]\ttraining's binary_logloss: 0.280709\tvalid_1's binary_logloss: 0.294278\n",
      "[200]\ttraining's binary_logloss: 0.270631\tvalid_1's binary_logloss: 0.294388\n",
      "Early stopping, best iteration is:\n",
      "[103]\ttraining's binary_logloss: 0.280348\tvalid_1's binary_logloss: 0.294253\n"
     ]
    },
    {
     "name": "stderr",
     "output_type": "stream",
     "text": [
      "tune_num_leaves, val_score: 0.294084:   5%|5         | 1/20 [00:13<04:13, 13.33s/it]"
     ]
    },
    {
     "name": "stdout",
     "output_type": "stream",
     "text": [
      "Training until validation scores don't improve for 100 rounds\n",
      "[100]\ttraining's binary_logloss: 0.275006\tvalid_1's binary_logloss: 0.294142\n",
      "[200]\ttraining's binary_logloss: 0.261236\tvalid_1's binary_logloss: 0.294302\n",
      "Early stopping, best iteration is:\n",
      "[116]\ttraining's binary_logloss: 0.272564\tvalid_1's binary_logloss: 0.294113\n"
     ]
    },
    {
     "name": "stderr",
     "output_type": "stream",
     "text": [
      "tune_num_leaves, val_score: 0.294084:  10%|#         | 2/20 [00:29<04:15, 14.20s/it]"
     ]
    },
    {
     "name": "stdout",
     "output_type": "stream",
     "text": [
      "Training until validation scores don't improve for 100 rounds\n",
      "[100]\ttraining's binary_logloss: 0.275566\tvalid_1's binary_logloss: 0.294211\n",
      "[200]\ttraining's binary_logloss: 0.262006\tvalid_1's binary_logloss: 0.294327\n",
      "Early stopping, best iteration is:\n",
      "[110]\ttraining's binary_logloss: 0.273966\tvalid_1's binary_logloss: 0.294151\n"
     ]
    },
    {
     "name": "stderr",
     "output_type": "stream",
     "text": [
      "tune_num_leaves, val_score: 0.294084:  15%|#5        | 3/20 [00:46<04:15, 15.01s/it]"
     ]
    },
    {
     "name": "stdout",
     "output_type": "stream",
     "text": [
      "Training until validation scores don't improve for 100 rounds\n",
      "[100]\ttraining's binary_logloss: 0.282067\tvalid_1's binary_logloss: 0.294422\n",
      "[200]\ttraining's binary_logloss: 0.272779\tvalid_1's binary_logloss: 0.294347\n",
      "[300]\ttraining's binary_logloss: 0.2642\tvalid_1's binary_logloss: 0.294374\n",
      "Early stopping, best iteration is:\n",
      "[231]\ttraining's binary_logloss: 0.270064\tvalid_1's binary_logloss: 0.294282\n"
     ]
    },
    {
     "name": "stderr",
     "output_type": "stream",
     "text": [
      "tune_num_leaves, val_score: 0.294084:  20%|##        | 4/20 [01:05<04:17, 16.08s/it]"
     ]
    },
    {
     "name": "stdout",
     "output_type": "stream",
     "text": [
      "Training until validation scores don't improve for 100 rounds\n",
      "[100]\ttraining's binary_logloss: 0.285878\tvalid_1's binary_logloss: 0.294851\n",
      "[200]\ttraining's binary_logloss: 0.278585\tvalid_1's binary_logloss: 0.294493\n",
      "[300]\ttraining's binary_logloss: 0.272417\tvalid_1's binary_logloss: 0.294426\n",
      "Early stopping, best iteration is:\n",
      "[257]\ttraining's binary_logloss: 0.27492\tvalid_1's binary_logloss: 0.294399\n"
     ]
    },
    {
     "name": "stderr",
     "output_type": "stream",
     "text": [
      "tune_num_leaves, val_score: 0.294084:  25%|##5       | 5/20 [01:27<04:29, 17.95s/it]"
     ]
    },
    {
     "name": "stdout",
     "output_type": "stream",
     "text": [
      "Training until validation scores don't improve for 100 rounds\n",
      "[100]\ttraining's binary_logloss: 0.292013\tvalid_1's binary_logloss: 0.295934\n",
      "[200]\ttraining's binary_logloss: 0.288611\tvalid_1's binary_logloss: 0.295176\n",
      "[300]\ttraining's binary_logloss: 0.285811\tvalid_1's binary_logloss: 0.294795\n",
      "[400]\ttraining's binary_logloss: 0.283156\tvalid_1's binary_logloss: 0.294524\n",
      "[500]\ttraining's binary_logloss: 0.280632\tvalid_1's binary_logloss: 0.294319\n",
      "[600]\ttraining's binary_logloss: 0.278146\tvalid_1's binary_logloss: 0.294127\n",
      "[700]\ttraining's binary_logloss: 0.275773\tvalid_1's binary_logloss: 0.294084\n",
      "[800]\ttraining's binary_logloss: 0.273493\tvalid_1's binary_logloss: 0.294057\n",
      "Early stopping, best iteration is:\n",
      "[773]\ttraining's binary_logloss: 0.274009\tvalid_1's binary_logloss: 0.29402\n"
     ]
    },
    {
     "name": "stderr",
     "output_type": "stream",
     "text": [
      "tune_num_leaves, val_score: 0.294020:  30%|###       | 6/20 [02:50<08:45, 37.53s/it]"
     ]
    },
    {
     "name": "stdout",
     "output_type": "stream",
     "text": [
      "Training until validation scores don't improve for 100 rounds\n",
      "[100]\ttraining's binary_logloss: 0.288368\tvalid_1's binary_logloss: 0.295044\n",
      "[200]\ttraining's binary_logloss: 0.28294\tvalid_1's binary_logloss: 0.294578\n",
      "[300]\ttraining's binary_logloss: 0.27834\tvalid_1's binary_logloss: 0.294335\n",
      "[400]\ttraining's binary_logloss: 0.273943\tvalid_1's binary_logloss: 0.294273\n",
      "[500]\ttraining's binary_logloss: 0.269634\tvalid_1's binary_logloss: 0.294238\n",
      "Early stopping, best iteration is:\n",
      "[451]\ttraining's binary_logloss: 0.271738\tvalid_1's binary_logloss: 0.294174\n"
     ]
    },
    {
     "name": "stderr",
     "output_type": "stream",
     "text": [
      "tune_num_leaves, val_score: 0.294020:  35%|###5      | 7/20 [04:12<10:58, 50.69s/it]"
     ]
    },
    {
     "name": "stdout",
     "output_type": "stream",
     "text": [
      "Training until validation scores don't improve for 100 rounds\n",
      "[100]\ttraining's binary_logloss: 0.28988\tvalid_1's binary_logloss: 0.295335\n",
      "[200]\ttraining's binary_logloss: 0.285411\tvalid_1's binary_logloss: 0.29479\n",
      "[300]\ttraining's binary_logloss: 0.281369\tvalid_1's binary_logloss: 0.294613\n",
      "[400]\ttraining's binary_logloss: 0.277711\tvalid_1's binary_logloss: 0.294391\n",
      "[500]\ttraining's binary_logloss: 0.274326\tvalid_1's binary_logloss: 0.294347\n",
      "[600]\ttraining's binary_logloss: 0.271073\tvalid_1's binary_logloss: 0.294324\n",
      "Early stopping, best iteration is:\n",
      "[543]\ttraining's binary_logloss: 0.272892\tvalid_1's binary_logloss: 0.294297\n"
     ]
    },
    {
     "name": "stderr",
     "output_type": "stream",
     "text": [
      "tune_num_leaves, val_score: 0.294020:  40%|####      | 8/20 [05:28<11:39, 58.29s/it]"
     ]
    },
    {
     "name": "stdout",
     "output_type": "stream",
     "text": [
      "Training until validation scores don't improve for 100 rounds\n",
      "[100]\ttraining's binary_logloss: 0.276013\tvalid_1's binary_logloss: 0.294539\n",
      "[200]\ttraining's binary_logloss: 0.262418\tvalid_1's binary_logloss: 0.294545\n",
      "[300]\ttraining's binary_logloss: 0.250892\tvalid_1's binary_logloss: 0.294696\n",
      "Early stopping, best iteration is:\n",
      "[205]\ttraining's binary_logloss: 0.261828\tvalid_1's binary_logloss: 0.294496\n"
     ]
    },
    {
     "name": "stderr",
     "output_type": "stream",
     "text": [
      "tune_num_leaves, val_score: 0.294020:  45%|####5     | 9/20 [07:12<13:12, 72.07s/it]"
     ]
    },
    {
     "name": "stdout",
     "output_type": "stream",
     "text": [
      "Training until validation scores don't improve for 100 rounds\n",
      "[100]\ttraining's binary_logloss: 0.284625\tvalid_1's binary_logloss: 0.294555\n",
      "[200]\ttraining's binary_logloss: 0.276706\tvalid_1's binary_logloss: 0.294411\n",
      "[300]\ttraining's binary_logloss: 0.26985\tvalid_1's binary_logloss: 0.294532\n",
      "Early stopping, best iteration is:\n",
      "[209]\ttraining's binary_logloss: 0.276087\tvalid_1's binary_logloss: 0.294397\n"
     ]
    },
    {
     "name": "stderr",
     "output_type": "stream",
     "text": [
      "tune_num_leaves, val_score: 0.294020:  50%|#####     | 10/20 [08:07<11:09, 66.97s/it]"
     ]
    },
    {
     "name": "stdout",
     "output_type": "stream",
     "text": [
      "Training until validation scores don't improve for 100 rounds\n",
      "[100]\ttraining's binary_logloss: 0.295216\tvalid_1's binary_logloss: 0.297565\n",
      "[200]\ttraining's binary_logloss: 0.293106\tvalid_1's binary_logloss: 0.296473\n",
      "[300]\ttraining's binary_logloss: 0.291456\tvalid_1's binary_logloss: 0.295764\n",
      "[400]\ttraining's binary_logloss: 0.29002\tvalid_1's binary_logloss: 0.295297\n",
      "[500]\ttraining's binary_logloss: 0.288795\tvalid_1's binary_logloss: 0.29506\n",
      "[600]\ttraining's binary_logloss: 0.287513\tvalid_1's binary_logloss: 0.294717\n",
      "[700]\ttraining's binary_logloss: 0.286401\tvalid_1's binary_logloss: 0.294588\n",
      "[800]\ttraining's binary_logloss: 0.285315\tvalid_1's binary_logloss: 0.29449\n",
      "[900]\ttraining's binary_logloss: 0.284279\tvalid_1's binary_logloss: 0.294416\n",
      "[1000]\ttraining's binary_logloss: 0.283259\tvalid_1's binary_logloss: 0.294333\n",
      "Did not meet early stopping. Best iteration is:\n",
      "[1000]\ttraining's binary_logloss: 0.283259\tvalid_1's binary_logloss: 0.294333\n"
     ]
    },
    {
     "name": "stderr",
     "output_type": "stream",
     "text": [
      "tune_num_leaves, val_score: 0.294020:  55%|#####5    | 11/20 [09:29<10:44, 71.60s/it]"
     ]
    },
    {
     "name": "stdout",
     "output_type": "stream",
     "text": [
      "Training until validation scores don't improve for 100 rounds\n",
      "[100]\ttraining's binary_logloss: 0.269027\tvalid_1's binary_logloss: 0.294597\n",
      "Early stopping, best iteration is:\n",
      "[81]\ttraining's binary_logloss: 0.273051\tvalid_1's binary_logloss: 0.294504\n"
     ]
    },
    {
     "name": "stderr",
     "output_type": "stream",
     "text": [
      "tune_num_leaves, val_score: 0.294020:  60%|######    | 12/20 [11:05<10:29, 78.70s/it]"
     ]
    },
    {
     "name": "stdout",
     "output_type": "stream",
     "text": [
      "Training until validation scores don't improve for 100 rounds\n",
      "[100]\ttraining's binary_logloss: 0.270838\tvalid_1's binary_logloss: 0.294582\n",
      "Early stopping, best iteration is:\n",
      "[74]\ttraining's binary_logloss: 0.275914\tvalid_1's binary_logloss: 0.294443\n"
     ]
    },
    {
     "name": "stderr",
     "output_type": "stream",
     "text": [
      "tune_num_leaves, val_score: 0.294020:  65%|######5   | 13/20 [12:25<09:13, 79.10s/it]"
     ]
    },
    {
     "name": "stdout",
     "output_type": "stream",
     "text": [
      "Training until validation scores don't improve for 100 rounds\n",
      "[100]\ttraining's binary_logloss: 0.276208\tvalid_1's binary_logloss: 0.29439\n",
      "Early stopping, best iteration is:\n",
      "[93]\ttraining's binary_logloss: 0.277261\tvalid_1's binary_logloss: 0.294322\n"
     ]
    },
    {
     "name": "stderr",
     "output_type": "stream",
     "text": [
      "tune_num_leaves, val_score: 0.294020:  70%|#######   | 14/20 [13:26<07:23, 73.85s/it]"
     ]
    },
    {
     "name": "stdout",
     "output_type": "stream",
     "text": [
      "Training until validation scores don't improve for 100 rounds\n",
      "[100]\ttraining's binary_logloss: 0.272984\tvalid_1's binary_logloss: 0.294261\n",
      "[200]\ttraining's binary_logloss: 0.258118\tvalid_1's binary_logloss: 0.294464\n",
      "Early stopping, best iteration is:\n",
      "[100]\ttraining's binary_logloss: 0.272984\tvalid_1's binary_logloss: 0.294261\n"
     ]
    },
    {
     "name": "stderr",
     "output_type": "stream",
     "text": [
      "tune_num_leaves, val_score: 0.294020:  75%|#######5  | 15/20 [14:45<06:16, 75.31s/it]"
     ]
    },
    {
     "name": "stdout",
     "output_type": "stream",
     "text": [
      "Training until validation scores don't improve for 100 rounds\n",
      "[100]\ttraining's binary_logloss: 0.302059\tvalid_1's binary_logloss: 0.303767\n",
      "[200]\ttraining's binary_logloss: 0.299937\tvalid_1's binary_logloss: 0.30181\n",
      "[300]\ttraining's binary_logloss: 0.298819\tvalid_1's binary_logloss: 0.300787\n",
      "[400]\ttraining's binary_logloss: 0.298043\tvalid_1's binary_logloss: 0.300075\n",
      "[500]\ttraining's binary_logloss: 0.297385\tvalid_1's binary_logloss: 0.299479\n",
      "[600]\ttraining's binary_logloss: 0.296884\tvalid_1's binary_logloss: 0.299057\n",
      "[700]\ttraining's binary_logloss: 0.296507\tvalid_1's binary_logloss: 0.298722\n",
      "[800]\ttraining's binary_logloss: 0.296196\tvalid_1's binary_logloss: 0.29848\n",
      "[900]\ttraining's binary_logloss: 0.295928\tvalid_1's binary_logloss: 0.298259\n",
      "[1000]\ttraining's binary_logloss: 0.295685\tvalid_1's binary_logloss: 0.298092\n",
      "Did not meet early stopping. Best iteration is:\n",
      "[1000]\ttraining's binary_logloss: 0.295685\tvalid_1's binary_logloss: 0.298092\n"
     ]
    },
    {
     "name": "stderr",
     "output_type": "stream",
     "text": [
      "tune_num_leaves, val_score: 0.294020:  80%|########  | 16/20 [16:21<05:26, 81.66s/it]"
     ]
    },
    {
     "name": "stdout",
     "output_type": "stream",
     "text": [
      "Training until validation scores don't improve for 100 rounds\n",
      "[100]\ttraining's binary_logloss: 0.279801\tvalid_1's binary_logloss: 0.294446\n",
      "[200]\ttraining's binary_logloss: 0.268731\tvalid_1's binary_logloss: 0.294434\n",
      "Early stopping, best iteration is:\n",
      "[125]\ttraining's binary_logloss: 0.27682\tvalid_1's binary_logloss: 0.294293\n"
     ]
    },
    {
     "name": "stderr",
     "output_type": "stream",
     "text": [
      "tune_num_leaves, val_score: 0.294020:  85%|########5 | 17/20 [16:37<03:05, 61.79s/it]"
     ]
    },
    {
     "name": "stdout",
     "output_type": "stream",
     "text": [
      "Training until validation scores don't improve for 100 rounds\n",
      "[100]\ttraining's binary_logloss: 0.278837\tvalid_1's binary_logloss: 0.294356\n",
      "[200]\ttraining's binary_logloss: 0.26719\tvalid_1's binary_logloss: 0.294386\n",
      "Early stopping, best iteration is:\n",
      "[130]\ttraining's binary_logloss: 0.275014\tvalid_1's binary_logloss: 0.294308\n"
     ]
    },
    {
     "name": "stderr",
     "output_type": "stream",
     "text": [
      "tune_num_leaves, val_score: 0.294020:  90%|######### | 18/20 [16:52<01:35, 47.77s/it]"
     ]
    },
    {
     "name": "stdout",
     "output_type": "stream",
     "text": [
      "Training until validation scores don't improve for 100 rounds\n",
      "[100]\ttraining's binary_logloss: 0.272984\tvalid_1's binary_logloss: 0.294261\n",
      "[200]\ttraining's binary_logloss: 0.258118\tvalid_1's binary_logloss: 0.294464\n",
      "Early stopping, best iteration is:\n",
      "[100]\ttraining's binary_logloss: 0.272984\tvalid_1's binary_logloss: 0.294261\n"
     ]
    },
    {
     "name": "stderr",
     "output_type": "stream",
     "text": [
      "tune_num_leaves, val_score: 0.294020:  95%|#########5| 19/20 [17:09<00:38, 38.50s/it]"
     ]
    },
    {
     "name": "stdout",
     "output_type": "stream",
     "text": [
      "Training until validation scores don't improve for 100 rounds\n",
      "[100]\ttraining's binary_logloss: 0.29088\tvalid_1's binary_logloss: 0.295418\n",
      "[200]\ttraining's binary_logloss: 0.286981\tvalid_1's binary_logloss: 0.294781\n",
      "[300]\ttraining's binary_logloss: 0.283587\tvalid_1's binary_logloss: 0.294396\n",
      "[400]\ttraining's binary_logloss: 0.280452\tvalid_1's binary_logloss: 0.294105\n",
      "[500]\ttraining's binary_logloss: 0.277557\tvalid_1's binary_logloss: 0.294042\n",
      "Early stopping, best iteration is:\n",
      "[426]\ttraining's binary_logloss: 0.279628\tvalid_1's binary_logloss: 0.294031\n"
     ]
    },
    {
     "name": "stderr",
     "output_type": "stream",
     "text": [
      "tune_num_leaves, val_score: 0.294020: 100%|##########| 20/20 [19:09<00:00, 57.46s/it]\n",
      "tune_bagging_fraction_and_bagging_freq, val_score: 0.294020:   0%|          | 0/10 [00:00<?, ?it/s]"
     ]
    },
    {
     "name": "stdout",
     "output_type": "stream",
     "text": [
      "Training until validation scores don't improve for 100 rounds\n",
      "[100]\ttraining's binary_logloss: 0.292192\tvalid_1's binary_logloss: 0.296215\n",
      "[200]\ttraining's binary_logloss: 0.288719\tvalid_1's binary_logloss: 0.295386\n",
      "[300]\ttraining's binary_logloss: 0.285865\tvalid_1's binary_logloss: 0.295101\n",
      "[400]\ttraining's binary_logloss: 0.283273\tvalid_1's binary_logloss: 0.295014\n",
      "[500]\ttraining's binary_logloss: 0.280927\tvalid_1's binary_logloss: 0.294952\n",
      "[600]\ttraining's binary_logloss: 0.278653\tvalid_1's binary_logloss: 0.294982\n",
      "Early stopping, best iteration is:\n",
      "[553]\ttraining's binary_logloss: 0.279695\tvalid_1's binary_logloss: 0.294892\n"
     ]
    },
    {
     "name": "stderr",
     "output_type": "stream",
     "text": [
      "tune_bagging_fraction_and_bagging_freq, val_score: 0.294020:  10%|#         | 1/10 [03:40<33:00, 220.06s/it]"
     ]
    },
    {
     "name": "stdout",
     "output_type": "stream",
     "text": [
      "Training until validation scores don't improve for 100 rounds\n",
      "[100]\ttraining's binary_logloss: 0.29193\tvalid_1's binary_logloss: 0.295879\n",
      "[200]\ttraining's binary_logloss: 0.288479\tvalid_1's binary_logloss: 0.295004\n",
      "[300]\ttraining's binary_logloss: 0.285575\tvalid_1's binary_logloss: 0.294638\n",
      "[400]\ttraining's binary_logloss: 0.282913\tvalid_1's binary_logloss: 0.294455\n",
      "[500]\ttraining's binary_logloss: 0.280446\tvalid_1's binary_logloss: 0.294437\n",
      "[600]\ttraining's binary_logloss: 0.277958\tvalid_1's binary_logloss: 0.294384\n",
      "[700]\ttraining's binary_logloss: 0.275683\tvalid_1's binary_logloss: 0.294369\n",
      "[800]\ttraining's binary_logloss: 0.273542\tvalid_1's binary_logloss: 0.294379\n",
      "Early stopping, best iteration is:\n",
      "[749]\ttraining's binary_logloss: 0.2746\tvalid_1's binary_logloss: 0.294342\n"
     ]
    },
    {
     "name": "stderr",
     "output_type": "stream",
     "text": [
      "tune_bagging_fraction_and_bagging_freq, val_score: 0.294020:  20%|##        | 2/10 [05:37<25:13, 189.21s/it]"
     ]
    },
    {
     "name": "stdout",
     "output_type": "stream",
     "text": [
      "Training until validation scores don't improve for 100 rounds\n",
      "[100]\ttraining's binary_logloss: 0.29186\tvalid_1's binary_logloss: 0.295806\n",
      "[200]\ttraining's binary_logloss: 0.28837\tvalid_1's binary_logloss: 0.295057\n",
      "[300]\ttraining's binary_logloss: 0.285454\tvalid_1's binary_logloss: 0.294737\n",
      "[400]\ttraining's binary_logloss: 0.282892\tvalid_1's binary_logloss: 0.294538\n",
      "[500]\ttraining's binary_logloss: 0.280485\tvalid_1's binary_logloss: 0.29452\n",
      "Early stopping, best iteration is:\n",
      "[493]\ttraining's binary_logloss: 0.280647\tvalid_1's binary_logloss: 0.294491\n"
     ]
    },
    {
     "name": "stderr",
     "output_type": "stream",
     "text": [
      "tune_bagging_fraction_and_bagging_freq, val_score: 0.294020:  30%|###       | 3/10 [06:11<16:38, 142.58s/it]"
     ]
    },
    {
     "name": "stdout",
     "output_type": "stream",
     "text": [
      "Training until validation scores don't improve for 100 rounds\n",
      "[100]\ttraining's binary_logloss: 0.29202\tvalid_1's binary_logloss: 0.295971\n",
      "[200]\ttraining's binary_logloss: 0.288499\tvalid_1's binary_logloss: 0.295144\n",
      "[300]\ttraining's binary_logloss: 0.285583\tvalid_1's binary_logloss: 0.294869\n",
      "[400]\ttraining's binary_logloss: 0.282892\tvalid_1's binary_logloss: 0.294695\n",
      "Early stopping, best iteration is:\n",
      "[394]\ttraining's binary_logloss: 0.283057\tvalid_1's binary_logloss: 0.294687\n"
     ]
    },
    {
     "name": "stderr",
     "output_type": "stream",
     "text": [
      "tune_bagging_fraction_and_bagging_freq, val_score: 0.294020:  40%|####      | 4/10 [06:38<10:48, 108.15s/it]"
     ]
    },
    {
     "name": "stdout",
     "output_type": "stream",
     "text": [
      "Training until validation scores don't improve for 100 rounds\n",
      "[100]\ttraining's binary_logloss: 0.292095\tvalid_1's binary_logloss: 0.296059\n",
      "[200]\ttraining's binary_logloss: 0.288795\tvalid_1's binary_logloss: 0.295417\n",
      "[300]\ttraining's binary_logloss: 0.286139\tvalid_1's binary_logloss: 0.295303\n",
      "[400]\ttraining's binary_logloss: 0.283463\tvalid_1's binary_logloss: 0.295098\n",
      "[500]\ttraining's binary_logloss: 0.280976\tvalid_1's binary_logloss: 0.295115\n",
      "Early stopping, best iteration is:\n",
      "[443]\ttraining's binary_logloss: 0.282345\tvalid_1's binary_logloss: 0.295021\n"
     ]
    },
    {
     "name": "stderr",
     "output_type": "stream",
     "text": [
      "tune_bagging_fraction_and_bagging_freq, val_score: 0.294020:  50%|#####     | 5/10 [07:04<06:57, 83.44s/it] "
     ]
    },
    {
     "name": "stdout",
     "output_type": "stream",
     "text": [
      "Training until validation scores don't improve for 100 rounds\n",
      "[100]\ttraining's binary_logloss: 0.292012\tvalid_1's binary_logloss: 0.295907\n",
      "[200]\ttraining's binary_logloss: 0.288537\tvalid_1's binary_logloss: 0.295081\n",
      "[300]\ttraining's binary_logloss: 0.285548\tvalid_1's binary_logloss: 0.294621\n",
      "[400]\ttraining's binary_logloss: 0.282757\tvalid_1's binary_logloss: 0.294306\n",
      "[500]\ttraining's binary_logloss: 0.280204\tvalid_1's binary_logloss: 0.29426\n",
      "[600]\ttraining's binary_logloss: 0.277733\tvalid_1's binary_logloss: 0.294172\n",
      "[700]\ttraining's binary_logloss: 0.275345\tvalid_1's binary_logloss: 0.294177\n",
      "Early stopping, best iteration is:\n",
      "[682]\ttraining's binary_logloss: 0.275778\tvalid_1's binary_logloss: 0.294142\n"
     ]
    },
    {
     "name": "stderr",
     "output_type": "stream",
     "text": [
      "tune_bagging_fraction_and_bagging_freq, val_score: 0.294020:  60%|######    | 6/10 [07:48<04:46, 71.69s/it]"
     ]
    },
    {
     "name": "stdout",
     "output_type": "stream",
     "text": [
      "Training until validation scores don't improve for 100 rounds\n",
      "[100]\ttraining's binary_logloss: 0.291947\tvalid_1's binary_logloss: 0.295864\n",
      "[200]\ttraining's binary_logloss: 0.288402\tvalid_1's binary_logloss: 0.295026\n",
      "[300]\ttraining's binary_logloss: 0.285489\tvalid_1's binary_logloss: 0.294594\n",
      "[400]\ttraining's binary_logloss: 0.282696\tvalid_1's binary_logloss: 0.294359\n",
      "[500]\ttraining's binary_logloss: 0.28018\tvalid_1's binary_logloss: 0.294216\n",
      "[600]\ttraining's binary_logloss: 0.277692\tvalid_1's binary_logloss: 0.294142\n",
      "[700]\ttraining's binary_logloss: 0.275422\tvalid_1's binary_logloss: 0.294169\n",
      "Early stopping, best iteration is:\n",
      "[620]\ttraining's binary_logloss: 0.277234\tvalid_1's binary_logloss: 0.294115\n"
     ]
    },
    {
     "name": "stderr",
     "output_type": "stream",
     "text": [
      "tune_bagging_fraction_and_bagging_freq, val_score: 0.294020:  70%|#######   | 7/10 [08:29<03:06, 62.24s/it]"
     ]
    },
    {
     "name": "stdout",
     "output_type": "stream",
     "text": [
      "Training until validation scores don't improve for 100 rounds\n",
      "[100]\ttraining's binary_logloss: 0.291942\tvalid_1's binary_logloss: 0.295894\n",
      "[200]\ttraining's binary_logloss: 0.288627\tvalid_1's binary_logloss: 0.295136\n",
      "[300]\ttraining's binary_logloss: 0.285842\tvalid_1's binary_logloss: 0.294741\n",
      "[400]\ttraining's binary_logloss: 0.283189\tvalid_1's binary_logloss: 0.294489\n",
      "[500]\ttraining's binary_logloss: 0.280646\tvalid_1's binary_logloss: 0.294423\n",
      "[600]\ttraining's binary_logloss: 0.278218\tvalid_1's binary_logloss: 0.29439\n",
      "[700]\ttraining's binary_logloss: 0.275917\tvalid_1's binary_logloss: 0.294427\n",
      "Early stopping, best iteration is:\n",
      "[613]\ttraining's binary_logloss: 0.277906\tvalid_1's binary_logloss: 0.294376\n"
     ]
    },
    {
     "name": "stderr",
     "output_type": "stream",
     "text": [
      "tune_bagging_fraction_and_bagging_freq, val_score: 0.294020:  80%|########  | 8/10 [09:10<01:52, 56.07s/it]"
     ]
    },
    {
     "name": "stdout",
     "output_type": "stream",
     "text": [
      "Training until validation scores don't improve for 100 rounds\n",
      "[100]\ttraining's binary_logloss: 0.292111\tvalid_1's binary_logloss: 0.296122\n",
      "[200]\ttraining's binary_logloss: 0.28879\tvalid_1's binary_logloss: 0.295448\n",
      "[300]\ttraining's binary_logloss: 0.28607\tvalid_1's binary_logloss: 0.295209\n",
      "[400]\ttraining's binary_logloss: 0.283423\tvalid_1's binary_logloss: 0.295243\n",
      "Early stopping, best iteration is:\n",
      "[363]\ttraining's binary_logloss: 0.284367\tvalid_1's binary_logloss: 0.295099\n"
     ]
    },
    {
     "name": "stderr",
     "output_type": "stream",
     "text": [
      "tune_bagging_fraction_and_bagging_freq, val_score: 0.294020:  90%|######### | 9/10 [09:32<00:45, 45.84s/it]"
     ]
    },
    {
     "name": "stdout",
     "output_type": "stream",
     "text": [
      "Training until validation scores don't improve for 100 rounds\n",
      "[100]\ttraining's binary_logloss: 0.292234\tvalid_1's binary_logloss: 0.29617\n",
      "[200]\ttraining's binary_logloss: 0.288804\tvalid_1's binary_logloss: 0.295335\n",
      "[300]\ttraining's binary_logloss: 0.286103\tvalid_1's binary_logloss: 0.295163\n",
      "[400]\ttraining's binary_logloss: 0.283605\tvalid_1's binary_logloss: 0.295228\n",
      "Early stopping, best iteration is:\n",
      "[341]\ttraining's binary_logloss: 0.285079\tvalid_1's binary_logloss: 0.295083\n"
     ]
    },
    {
     "name": "stderr",
     "output_type": "stream",
     "text": [
      "tune_bagging_fraction_and_bagging_freq, val_score: 0.294020: 100%|##########| 10/10 [09:54<00:00, 59.43s/it]\n",
      "tune_feature_fraction, val_score: 0.294020:   0%|          | 0/6 [00:00<?, ?it/s]"
     ]
    },
    {
     "name": "stdout",
     "output_type": "stream",
     "text": [
      "Training until validation scores don't improve for 100 rounds\n",
      "[100]\ttraining's binary_logloss: 0.292068\tvalid_1's binary_logloss: 0.296116\n",
      "[200]\ttraining's binary_logloss: 0.288644\tvalid_1's binary_logloss: 0.295271\n",
      "[300]\ttraining's binary_logloss: 0.285958\tvalid_1's binary_logloss: 0.294893\n",
      "[400]\ttraining's binary_logloss: 0.283394\tvalid_1's binary_logloss: 0.294692\n",
      "[500]\ttraining's binary_logloss: 0.280793\tvalid_1's binary_logloss: 0.294483\n",
      "[600]\ttraining's binary_logloss: 0.278466\tvalid_1's binary_logloss: 0.294316\n",
      "[700]\ttraining's binary_logloss: 0.276219\tvalid_1's binary_logloss: 0.294282\n",
      "[800]\ttraining's binary_logloss: 0.27401\tvalid_1's binary_logloss: 0.294222\n",
      "[900]\ttraining's binary_logloss: 0.271841\tvalid_1's binary_logloss: 0.294297\n",
      "Early stopping, best iteration is:\n",
      "[830]\ttraining's binary_logloss: 0.273321\tvalid_1's binary_logloss: 0.294201\n"
     ]
    },
    {
     "name": "stderr",
     "output_type": "stream",
     "text": [
      "tune_feature_fraction, val_score: 0.294020:  17%|#6        | 1/6 [00:39<03:19, 39.83s/it]"
     ]
    },
    {
     "name": "stdout",
     "output_type": "stream",
     "text": [
      "Training until validation scores don't improve for 100 rounds\n",
      "[100]\ttraining's binary_logloss: 0.291908\tvalid_1's binary_logloss: 0.295878\n",
      "[200]\ttraining's binary_logloss: 0.288581\tvalid_1's binary_logloss: 0.295161\n",
      "[300]\ttraining's binary_logloss: 0.285833\tvalid_1's binary_logloss: 0.294807\n",
      "[400]\ttraining's binary_logloss: 0.283262\tvalid_1's binary_logloss: 0.294616\n",
      "[500]\ttraining's binary_logloss: 0.280881\tvalid_1's binary_logloss: 0.294504\n",
      "[600]\ttraining's binary_logloss: 0.278639\tvalid_1's binary_logloss: 0.294475\n",
      "Early stopping, best iteration is:\n",
      "[543]\ttraining's binary_logloss: 0.279874\tvalid_1's binary_logloss: 0.294441\n"
     ]
    },
    {
     "name": "stderr",
     "output_type": "stream",
     "text": [
      "tune_feature_fraction, val_score: 0.294020:  33%|###3      | 2/6 [01:07<02:24, 36.07s/it]"
     ]
    },
    {
     "name": "stdout",
     "output_type": "stream",
     "text": [
      "Training until validation scores don't improve for 100 rounds\n",
      "[100]\ttraining's binary_logloss: 0.292013\tvalid_1's binary_logloss: 0.295934\n",
      "[200]\ttraining's binary_logloss: 0.288611\tvalid_1's binary_logloss: 0.295176\n",
      "[300]\ttraining's binary_logloss: 0.285811\tvalid_1's binary_logloss: 0.294795\n",
      "[400]\ttraining's binary_logloss: 0.283156\tvalid_1's binary_logloss: 0.294524\n",
      "[500]\ttraining's binary_logloss: 0.280632\tvalid_1's binary_logloss: 0.294319\n",
      "[600]\ttraining's binary_logloss: 0.278146\tvalid_1's binary_logloss: 0.294127\n",
      "[700]\ttraining's binary_logloss: 0.275773\tvalid_1's binary_logloss: 0.294084\n",
      "[800]\ttraining's binary_logloss: 0.273493\tvalid_1's binary_logloss: 0.294057\n",
      "Early stopping, best iteration is:\n",
      "[773]\ttraining's binary_logloss: 0.274009\tvalid_1's binary_logloss: 0.29402\n"
     ]
    },
    {
     "name": "stderr",
     "output_type": "stream",
     "text": [
      "tune_feature_fraction, val_score: 0.294020:  50%|#####     | 3/6 [01:43<01:48, 36.23s/it]"
     ]
    },
    {
     "name": "stdout",
     "output_type": "stream",
     "text": [
      "Training until validation scores don't improve for 100 rounds\n",
      "[100]\ttraining's binary_logloss: 0.291957\tvalid_1's binary_logloss: 0.295847\n",
      "[200]\ttraining's binary_logloss: 0.288618\tvalid_1's binary_logloss: 0.29504\n",
      "[300]\ttraining's binary_logloss: 0.285813\tvalid_1's binary_logloss: 0.294707\n",
      "[400]\ttraining's binary_logloss: 0.283046\tvalid_1's binary_logloss: 0.294468\n",
      "[500]\ttraining's binary_logloss: 0.280495\tvalid_1's binary_logloss: 0.294292\n",
      "[600]\ttraining's binary_logloss: 0.27802\tvalid_1's binary_logloss: 0.29422\n",
      "[700]\ttraining's binary_logloss: 0.275604\tvalid_1's binary_logloss: 0.294181\n",
      "[800]\ttraining's binary_logloss: 0.273413\tvalid_1's binary_logloss: 0.294066\n",
      "[900]\ttraining's binary_logloss: 0.271313\tvalid_1's binary_logloss: 0.294085\n",
      "Early stopping, best iteration is:\n",
      "[867]\ttraining's binary_logloss: 0.271987\tvalid_1's binary_logloss: 0.294041\n"
     ]
    },
    {
     "name": "stderr",
     "output_type": "stream",
     "text": [
      "tune_feature_fraction, val_score: 0.294020:  67%|######6   | 4/6 [07:07<04:05, 122.57s/it]"
     ]
    },
    {
     "name": "stdout",
     "output_type": "stream",
     "text": [
      "Training until validation scores don't improve for 100 rounds\n",
      "[100]\ttraining's binary_logloss: 0.291957\tvalid_1's binary_logloss: 0.295847\n",
      "[200]\ttraining's binary_logloss: 0.288618\tvalid_1's binary_logloss: 0.29504\n",
      "[300]\ttraining's binary_logloss: 0.285813\tvalid_1's binary_logloss: 0.294707\n",
      "[400]\ttraining's binary_logloss: 0.283046\tvalid_1's binary_logloss: 0.294468\n",
      "[500]\ttraining's binary_logloss: 0.280495\tvalid_1's binary_logloss: 0.294292\n",
      "[600]\ttraining's binary_logloss: 0.27802\tvalid_1's binary_logloss: 0.29422\n",
      "[700]\ttraining's binary_logloss: 0.275604\tvalid_1's binary_logloss: 0.294181\n",
      "[800]\ttraining's binary_logloss: 0.273413\tvalid_1's binary_logloss: 0.294066\n",
      "[900]\ttraining's binary_logloss: 0.271313\tvalid_1's binary_logloss: 0.294085\n",
      "Early stopping, best iteration is:\n",
      "[867]\ttraining's binary_logloss: 0.271987\tvalid_1's binary_logloss: 0.294041\n"
     ]
    },
    {
     "name": "stderr",
     "output_type": "stream",
     "text": [
      "tune_feature_fraction, val_score: 0.294020:  83%|########3 | 5/6 [07:45<01:37, 97.17s/it] "
     ]
    },
    {
     "name": "stdout",
     "output_type": "stream",
     "text": [
      "Training until validation scores don't improve for 100 rounds\n",
      "[100]\ttraining's binary_logloss: 0.291898\tvalid_1's binary_logloss: 0.295913\n",
      "[200]\ttraining's binary_logloss: 0.288519\tvalid_1's binary_logloss: 0.295137\n",
      "[300]\ttraining's binary_logloss: 0.285632\tvalid_1's binary_logloss: 0.294684\n",
      "[400]\ttraining's binary_logloss: 0.282962\tvalid_1's binary_logloss: 0.294442\n",
      "[500]\ttraining's binary_logloss: 0.280445\tvalid_1's binary_logloss: 0.294364\n",
      "Early stopping, best iteration is:\n",
      "[495]\ttraining's binary_logloss: 0.280543\tvalid_1's binary_logloss: 0.294351\n"
     ]
    },
    {
     "name": "stderr",
     "output_type": "stream",
     "text": [
      "tune_feature_fraction, val_score: 0.294020: 100%|##########| 6/6 [11:21<00:00, 113.56s/it]\n",
      "tune_lambda_l1_and_lambda_l2, val_score: 0.294020:   0%|          | 0/20 [00:00<?, ?it/s]"
     ]
    },
    {
     "name": "stdout",
     "output_type": "stream",
     "text": [
      "Training until validation scores don't improve for 100 rounds\n",
      "[100]\ttraining's binary_logloss: 0.292052\tvalid_1's binary_logloss: 0.296036\n",
      "[200]\ttraining's binary_logloss: 0.288554\tvalid_1's binary_logloss: 0.29514\n",
      "[300]\ttraining's binary_logloss: 0.285732\tvalid_1's binary_logloss: 0.294717\n",
      "[400]\ttraining's binary_logloss: 0.283092\tvalid_1's binary_logloss: 0.294423\n",
      "[500]\ttraining's binary_logloss: 0.280629\tvalid_1's binary_logloss: 0.294343\n",
      "[600]\ttraining's binary_logloss: 0.278313\tvalid_1's binary_logloss: 0.294301\n",
      "Early stopping, best iteration is:\n",
      "[559]\ttraining's binary_logloss: 0.279258\tvalid_1's binary_logloss: 0.294269\n"
     ]
    },
    {
     "name": "stderr",
     "output_type": "stream",
     "text": [
      "tune_lambda_l1_and_lambda_l2, val_score: 0.294020:   5%|5         | 1/20 [00:26<08:21, 26.41s/it]"
     ]
    },
    {
     "name": "stdout",
     "output_type": "stream",
     "text": [
      "Training until validation scores don't improve for 100 rounds\n",
      "[100]\ttraining's binary_logloss: 0.292042\tvalid_1's binary_logloss: 0.295709\n",
      "[200]\ttraining's binary_logloss: 0.28886\tvalid_1's binary_logloss: 0.294767\n",
      "[300]\ttraining's binary_logloss: 0.286273\tvalid_1's binary_logloss: 0.294338\n",
      "[400]\ttraining's binary_logloss: 0.283718\tvalid_1's binary_logloss: 0.294116\n",
      "[500]\ttraining's binary_logloss: 0.281406\tvalid_1's binary_logloss: 0.294015\n",
      "[600]\ttraining's binary_logloss: 0.279157\tvalid_1's binary_logloss: 0.293861\n",
      "[700]\ttraining's binary_logloss: 0.277033\tvalid_1's binary_logloss: 0.293839\n",
      "[800]\ttraining's binary_logloss: 0.274945\tvalid_1's binary_logloss: 0.293859\n",
      "Early stopping, best iteration is:\n",
      "[749]\ttraining's binary_logloss: 0.275989\tvalid_1's binary_logloss: 0.293806\n"
     ]
    },
    {
     "name": "stderr",
     "output_type": "stream",
     "text": [
      "tune_lambda_l1_and_lambda_l2, val_score: 0.293806:  10%|#         | 2/20 [06:57<40:43, 135.77s/it]"
     ]
    },
    {
     "name": "stdout",
     "output_type": "stream",
     "text": [
      "Training until validation scores don't improve for 100 rounds\n",
      "[100]\ttraining's binary_logloss: 0.292013\tvalid_1's binary_logloss: 0.295934\n",
      "[200]\ttraining's binary_logloss: 0.288611\tvalid_1's binary_logloss: 0.295176\n",
      "[300]\ttraining's binary_logloss: 0.285811\tvalid_1's binary_logloss: 0.294795\n",
      "[400]\ttraining's binary_logloss: 0.283156\tvalid_1's binary_logloss: 0.294524\n",
      "[500]\ttraining's binary_logloss: 0.280632\tvalid_1's binary_logloss: 0.294319\n",
      "[600]\ttraining's binary_logloss: 0.278146\tvalid_1's binary_logloss: 0.294127\n",
      "[700]\ttraining's binary_logloss: 0.275773\tvalid_1's binary_logloss: 0.294084\n",
      "[800]\ttraining's binary_logloss: 0.273493\tvalid_1's binary_logloss: 0.294057\n",
      "Early stopping, best iteration is:\n",
      "[773]\ttraining's binary_logloss: 0.274009\tvalid_1's binary_logloss: 0.29402\n"
     ]
    },
    {
     "name": "stderr",
     "output_type": "stream",
     "text": [
      "tune_lambda_l1_and_lambda_l2, val_score: 0.293806:  15%|#5        | 3/20 [07:33<30:01, 105.96s/it]"
     ]
    },
    {
     "name": "stdout",
     "output_type": "stream",
     "text": [
      "Training until validation scores don't improve for 100 rounds\n",
      "[100]\ttraining's binary_logloss: 0.292059\tvalid_1's binary_logloss: 0.295928\n",
      "[200]\ttraining's binary_logloss: 0.288674\tvalid_1's binary_logloss: 0.295151\n",
      "[300]\ttraining's binary_logloss: 0.285807\tvalid_1's binary_logloss: 0.294657\n",
      "[400]\ttraining's binary_logloss: 0.283174\tvalid_1's binary_logloss: 0.294447\n",
      "[500]\ttraining's binary_logloss: 0.280771\tvalid_1's binary_logloss: 0.294383\n",
      "[600]\ttraining's binary_logloss: 0.278426\tvalid_1's binary_logloss: 0.2943\n",
      "[700]\ttraining's binary_logloss: 0.275987\tvalid_1's binary_logloss: 0.294222\n",
      "Early stopping, best iteration is:\n",
      "[673]\ttraining's binary_logloss: 0.276652\tvalid_1's binary_logloss: 0.294206\n"
     ]
    },
    {
     "name": "stderr",
     "output_type": "stream",
     "text": [
      "tune_lambda_l1_and_lambda_l2, val_score: 0.293806:  20%|##        | 4/20 [11:40<39:30, 148.19s/it]"
     ]
    },
    {
     "name": "stdout",
     "output_type": "stream",
     "text": [
      "Training until validation scores don't improve for 100 rounds\n",
      "[100]\ttraining's binary_logloss: 0.292013\tvalid_1's binary_logloss: 0.295934\n",
      "[200]\ttraining's binary_logloss: 0.288611\tvalid_1's binary_logloss: 0.295176\n",
      "[300]\ttraining's binary_logloss: 0.285811\tvalid_1's binary_logloss: 0.294795\n",
      "[400]\ttraining's binary_logloss: 0.283044\tvalid_1's binary_logloss: 0.294565\n",
      "[500]\ttraining's binary_logloss: 0.280475\tvalid_1's binary_logloss: 0.294368\n",
      "[600]\ttraining's binary_logloss: 0.278126\tvalid_1's binary_logloss: 0.294376\n",
      "Early stopping, best iteration is:\n",
      "[518]\ttraining's binary_logloss: 0.280065\tvalid_1's binary_logloss: 0.294365\n"
     ]
    },
    {
     "name": "stderr",
     "output_type": "stream",
     "text": [
      "tune_lambda_l1_and_lambda_l2, val_score: 0.293806:  25%|##5       | 5/20 [12:13<28:22, 113.50s/it]"
     ]
    },
    {
     "name": "stdout",
     "output_type": "stream",
     "text": [
      "Training until validation scores don't improve for 100 rounds\n",
      "[100]\ttraining's binary_logloss: 0.291985\tvalid_1's binary_logloss: 0.295915\n",
      "[200]\ttraining's binary_logloss: 0.288645\tvalid_1's binary_logloss: 0.295136\n",
      "[300]\ttraining's binary_logloss: 0.285809\tvalid_1's binary_logloss: 0.29471\n",
      "[400]\ttraining's binary_logloss: 0.283197\tvalid_1's binary_logloss: 0.294417\n",
      "[500]\ttraining's binary_logloss: 0.280608\tvalid_1's binary_logloss: 0.294212\n",
      "[600]\ttraining's binary_logloss: 0.278295\tvalid_1's binary_logloss: 0.294111\n",
      "Early stopping, best iteration is:\n",
      "[586]\ttraining's binary_logloss: 0.27862\tvalid_1's binary_logloss: 0.294099\n"
     ]
    },
    {
     "name": "stderr",
     "output_type": "stream",
     "text": [
      "tune_lambda_l1_and_lambda_l2, val_score: 0.293806:  30%|###       | 6/20 [12:47<20:58, 89.90s/it] "
     ]
    },
    {
     "name": "stdout",
     "output_type": "stream",
     "text": [
      "Training until validation scores don't improve for 100 rounds\n",
      "[100]\ttraining's binary_logloss: 0.292013\tvalid_1's binary_logloss: 0.295934\n",
      "[200]\ttraining's binary_logloss: 0.288611\tvalid_1's binary_logloss: 0.295176\n",
      "[300]\ttraining's binary_logloss: 0.285811\tvalid_1's binary_logloss: 0.294795\n",
      "[400]\ttraining's binary_logloss: 0.283044\tvalid_1's binary_logloss: 0.294565\n",
      "[500]\ttraining's binary_logloss: 0.280475\tvalid_1's binary_logloss: 0.294368\n",
      "[600]\ttraining's binary_logloss: 0.278126\tvalid_1's binary_logloss: 0.294376\n",
      "Early stopping, best iteration is:\n",
      "[518]\ttraining's binary_logloss: 0.280065\tvalid_1's binary_logloss: 0.294365\n"
     ]
    },
    {
     "name": "stderr",
     "output_type": "stream",
     "text": [
      "tune_lambda_l1_and_lambda_l2, val_score: 0.293806:  35%|###5      | 7/20 [13:19<15:41, 72.43s/it]"
     ]
    },
    {
     "name": "stdout",
     "output_type": "stream",
     "text": [
      "Training until validation scores don't improve for 100 rounds\n",
      "[100]\ttraining's binary_logloss: 0.292015\tvalid_1's binary_logloss: 0.295969\n",
      "[200]\ttraining's binary_logloss: 0.288667\tvalid_1's binary_logloss: 0.29527\n",
      "[300]\ttraining's binary_logloss: 0.28596\tvalid_1's binary_logloss: 0.294878\n",
      "[400]\ttraining's binary_logloss: 0.283346\tvalid_1's binary_logloss: 0.294623\n",
      "[500]\ttraining's binary_logloss: 0.280879\tvalid_1's binary_logloss: 0.294414\n",
      "[600]\ttraining's binary_logloss: 0.278495\tvalid_1's binary_logloss: 0.294275\n",
      "[700]\ttraining's binary_logloss: 0.276122\tvalid_1's binary_logloss: 0.294203\n",
      "[800]\ttraining's binary_logloss: 0.273813\tvalid_1's binary_logloss: 0.294172\n",
      "[900]\ttraining's binary_logloss: 0.271778\tvalid_1's binary_logloss: 0.294165\n",
      "Early stopping, best iteration is:\n",
      "[840]\ttraining's binary_logloss: 0.272982\tvalid_1's binary_logloss: 0.294141\n"
     ]
    },
    {
     "name": "stderr",
     "output_type": "stream",
     "text": [
      "tune_lambda_l1_and_lambda_l2, val_score: 0.293806:  40%|####      | 8/20 [14:07<13:00, 65.00s/it]"
     ]
    },
    {
     "name": "stdout",
     "output_type": "stream",
     "text": [
      "Training until validation scores don't improve for 100 rounds\n",
      "[100]\ttraining's binary_logloss: 0.291905\tvalid_1's binary_logloss: 0.295807\n",
      "[200]\ttraining's binary_logloss: 0.288655\tvalid_1's binary_logloss: 0.295174\n",
      "[300]\ttraining's binary_logloss: 0.285788\tvalid_1's binary_logloss: 0.294766\n",
      "[400]\ttraining's binary_logloss: 0.283173\tvalid_1's binary_logloss: 0.294497\n",
      "[500]\ttraining's binary_logloss: 0.280697\tvalid_1's binary_logloss: 0.294318\n",
      "[600]\ttraining's binary_logloss: 0.278312\tvalid_1's binary_logloss: 0.294235\n",
      "[700]\ttraining's binary_logloss: 0.275871\tvalid_1's binary_logloss: 0.294139\n",
      "Early stopping, best iteration is:\n",
      "[688]\ttraining's binary_logloss: 0.276166\tvalid_1's binary_logloss: 0.294131\n"
     ]
    },
    {
     "name": "stderr",
     "output_type": "stream",
     "text": [
      "tune_lambda_l1_and_lambda_l2, val_score: 0.293806:  45%|####5     | 9/20 [14:47<10:34, 57.64s/it]"
     ]
    },
    {
     "name": "stdout",
     "output_type": "stream",
     "text": [
      "Training until validation scores don't improve for 100 rounds\n",
      "[100]\ttraining's binary_logloss: 0.29217\tvalid_1's binary_logloss: 0.295929\n",
      "[200]\ttraining's binary_logloss: 0.289086\tvalid_1's binary_logloss: 0.294979\n",
      "[300]\ttraining's binary_logloss: 0.286451\tvalid_1's binary_logloss: 0.294435\n",
      "[400]\ttraining's binary_logloss: 0.284043\tvalid_1's binary_logloss: 0.294131\n",
      "[500]\ttraining's binary_logloss: 0.281739\tvalid_1's binary_logloss: 0.293919\n",
      "[600]\ttraining's binary_logloss: 0.279574\tvalid_1's binary_logloss: 0.293807\n",
      "[700]\ttraining's binary_logloss: 0.277511\tvalid_1's binary_logloss: 0.293749\n",
      "[800]\ttraining's binary_logloss: 0.275592\tvalid_1's binary_logloss: 0.293673\n",
      "[900]\ttraining's binary_logloss: 0.273597\tvalid_1's binary_logloss: 0.293704\n",
      "Early stopping, best iteration is:\n",
      "[810]\ttraining's binary_logloss: 0.275396\tvalid_1's binary_logloss: 0.293662\n"
     ]
    },
    {
     "name": "stderr",
     "output_type": "stream",
     "text": [
      "tune_lambda_l1_and_lambda_l2, val_score: 0.293662:  50%|#####     | 10/20 [15:35<09:05, 54.58s/it]"
     ]
    },
    {
     "name": "stdout",
     "output_type": "stream",
     "text": [
      "Training until validation scores don't improve for 100 rounds\n",
      "[100]\ttraining's binary_logloss: 0.292193\tvalid_1's binary_logloss: 0.295834\n",
      "[200]\ttraining's binary_logloss: 0.289235\tvalid_1's binary_logloss: 0.294963\n",
      "[300]\ttraining's binary_logloss: 0.286703\tvalid_1's binary_logloss: 0.29445\n",
      "[400]\ttraining's binary_logloss: 0.284536\tvalid_1's binary_logloss: 0.294241\n",
      "[500]\ttraining's binary_logloss: 0.282444\tvalid_1's binary_logloss: 0.29406\n",
      "[600]\ttraining's binary_logloss: 0.280431\tvalid_1's binary_logloss: 0.293961\n",
      "[700]\ttraining's binary_logloss: 0.27841\tvalid_1's binary_logloss: 0.293796\n",
      "[800]\ttraining's binary_logloss: 0.276503\tvalid_1's binary_logloss: 0.293777\n",
      "Early stopping, best iteration is:\n",
      "[757]\ttraining's binary_logloss: 0.277355\tvalid_1's binary_logloss: 0.29377\n"
     ]
    },
    {
     "name": "stderr",
     "output_type": "stream",
     "text": [
      "tune_lambda_l1_and_lambda_l2, val_score: 0.293662:  55%|#####5    | 11/20 [16:19<07:43, 51.51s/it]"
     ]
    },
    {
     "name": "stdout",
     "output_type": "stream",
     "text": [
      "Training until validation scores don't improve for 100 rounds\n",
      "[100]\ttraining's binary_logloss: 0.292211\tvalid_1's binary_logloss: 0.295779\n",
      "[200]\ttraining's binary_logloss: 0.289228\tvalid_1's binary_logloss: 0.294742\n",
      "[300]\ttraining's binary_logloss: 0.286828\tvalid_1's binary_logloss: 0.29436\n",
      "[400]\ttraining's binary_logloss: 0.284495\tvalid_1's binary_logloss: 0.293995\n",
      "[500]\ttraining's binary_logloss: 0.282559\tvalid_1's binary_logloss: 0.293845\n",
      "[600]\ttraining's binary_logloss: 0.280631\tvalid_1's binary_logloss: 0.29374\n",
      "[700]\ttraining's binary_logloss: 0.278749\tvalid_1's binary_logloss: 0.293717\n",
      "[800]\ttraining's binary_logloss: 0.276888\tvalid_1's binary_logloss: 0.293741\n",
      "Early stopping, best iteration is:\n",
      "[706]\ttraining's binary_logloss: 0.278624\tvalid_1's binary_logloss: 0.293702\n"
     ]
    },
    {
     "name": "stderr",
     "output_type": "stream",
     "text": [
      "tune_lambda_l1_and_lambda_l2, val_score: 0.293662:  60%|######    | 12/20 [17:00<06:26, 48.35s/it]"
     ]
    },
    {
     "name": "stdout",
     "output_type": "stream",
     "text": [
      "Training until validation scores don't improve for 100 rounds\n",
      "[100]\ttraining's binary_logloss: 0.292127\tvalid_1's binary_logloss: 0.295837\n",
      "[200]\ttraining's binary_logloss: 0.2892\tvalid_1's binary_logloss: 0.29495\n",
      "[300]\ttraining's binary_logloss: 0.286591\tvalid_1's binary_logloss: 0.294509\n",
      "[400]\ttraining's binary_logloss: 0.284304\tvalid_1's binary_logloss: 0.294362\n",
      "[500]\ttraining's binary_logloss: 0.282167\tvalid_1's binary_logloss: 0.294123\n",
      "[600]\ttraining's binary_logloss: 0.280105\tvalid_1's binary_logloss: 0.293996\n",
      "[700]\ttraining's binary_logloss: 0.278187\tvalid_1's binary_logloss: 0.293917\n",
      "[800]\ttraining's binary_logloss: 0.27636\tvalid_1's binary_logloss: 0.293852\n",
      "[900]\ttraining's binary_logloss: 0.274453\tvalid_1's binary_logloss: 0.293839\n",
      "[1000]\ttraining's binary_logloss: 0.272665\tvalid_1's binary_logloss: 0.293852\n",
      "Did not meet early stopping. Best iteration is:\n",
      "[1000]\ttraining's binary_logloss: 0.272665\tvalid_1's binary_logloss: 0.293852\n"
     ]
    },
    {
     "name": "stderr",
     "output_type": "stream",
     "text": [
      "tune_lambda_l1_and_lambda_l2, val_score: 0.293662:  65%|######5   | 13/20 [17:51<05:44, 49.26s/it]"
     ]
    },
    {
     "name": "stdout",
     "output_type": "stream",
     "text": [
      "Training until validation scores don't improve for 100 rounds\n",
      "[100]\ttraining's binary_logloss: 0.291931\tvalid_1's binary_logloss: 0.295872\n",
      "[200]\ttraining's binary_logloss: 0.288546\tvalid_1's binary_logloss: 0.295093\n",
      "[300]\ttraining's binary_logloss: 0.285681\tvalid_1's binary_logloss: 0.294727\n",
      "[400]\ttraining's binary_logloss: 0.28301\tvalid_1's binary_logloss: 0.29453\n",
      "[500]\ttraining's binary_logloss: 0.280604\tvalid_1's binary_logloss: 0.294374\n",
      "[600]\ttraining's binary_logloss: 0.278214\tvalid_1's binary_logloss: 0.294288\n",
      "[700]\ttraining's binary_logloss: 0.27585\tvalid_1's binary_logloss: 0.294254\n",
      "[800]\ttraining's binary_logloss: 0.273718\tvalid_1's binary_logloss: 0.294208\n",
      "[900]\ttraining's binary_logloss: 0.271649\tvalid_1's binary_logloss: 0.294217\n",
      "[1000]\ttraining's binary_logloss: 0.269525\tvalid_1's binary_logloss: 0.294219\n",
      "Did not meet early stopping. Best iteration is:\n",
      "[1000]\ttraining's binary_logloss: 0.269525\tvalid_1's binary_logloss: 0.294219\n"
     ]
    },
    {
     "name": "stderr",
     "output_type": "stream",
     "text": [
      "tune_lambda_l1_and_lambda_l2, val_score: 0.293662:  70%|#######   | 14/20 [18:42<04:57, 49.57s/it]"
     ]
    },
    {
     "name": "stdout",
     "output_type": "stream",
     "text": [
      "Training until validation scores don't improve for 100 rounds\n",
      "[100]\ttraining's binary_logloss: 0.292263\tvalid_1's binary_logloss: 0.295924\n",
      "[200]\ttraining's binary_logloss: 0.289434\tvalid_1's binary_logloss: 0.294967\n",
      "[300]\ttraining's binary_logloss: 0.287032\tvalid_1's binary_logloss: 0.29443\n",
      "[400]\ttraining's binary_logloss: 0.284966\tvalid_1's binary_logloss: 0.294109\n",
      "[500]\ttraining's binary_logloss: 0.283149\tvalid_1's binary_logloss: 0.293963\n",
      "[600]\ttraining's binary_logloss: 0.281355\tvalid_1's binary_logloss: 0.293871\n",
      "Early stopping, best iteration is:\n",
      "[578]\ttraining's binary_logloss: 0.281724\tvalid_1's binary_logloss: 0.293861\n"
     ]
    },
    {
     "name": "stderr",
     "output_type": "stream",
     "text": [
      "tune_lambda_l1_and_lambda_l2, val_score: 0.293662:  75%|#######5  | 15/20 [19:19<03:49, 45.99s/it]"
     ]
    },
    {
     "name": "stdout",
     "output_type": "stream",
     "text": [
      "Training until validation scores don't improve for 100 rounds\n",
      "[100]\ttraining's binary_logloss: 0.291965\tvalid_1's binary_logloss: 0.29587\n",
      "[200]\ttraining's binary_logloss: 0.288761\tvalid_1's binary_logloss: 0.295042\n",
      "[300]\ttraining's binary_logloss: 0.286006\tvalid_1's binary_logloss: 0.294608\n",
      "[400]\ttraining's binary_logloss: 0.283434\tvalid_1's binary_logloss: 0.294407\n",
      "[500]\ttraining's binary_logloss: 0.281006\tvalid_1's binary_logloss: 0.294243\n",
      "[600]\ttraining's binary_logloss: 0.278699\tvalid_1's binary_logloss: 0.294168\n",
      "[700]\ttraining's binary_logloss: 0.276386\tvalid_1's binary_logloss: 0.294067\n",
      "[800]\ttraining's binary_logloss: 0.274331\tvalid_1's binary_logloss: 0.294044\n",
      "[900]\ttraining's binary_logloss: 0.27223\tvalid_1's binary_logloss: 0.294056\n",
      "Early stopping, best iteration is:\n",
      "[851]\ttraining's binary_logloss: 0.273246\tvalid_1's binary_logloss: 0.29401\n"
     ]
    },
    {
     "name": "stderr",
     "output_type": "stream",
     "text": [
      "tune_lambda_l1_and_lambda_l2, val_score: 0.293662:  80%|########  | 16/20 [20:05<03:04, 46.02s/it]"
     ]
    },
    {
     "name": "stdout",
     "output_type": "stream",
     "text": [
      "Training until validation scores don't improve for 100 rounds\n",
      "[100]\ttraining's binary_logloss: 0.292082\tvalid_1's binary_logloss: 0.296009\n",
      "[200]\ttraining's binary_logloss: 0.288704\tvalid_1's binary_logloss: 0.29518\n",
      "[300]\ttraining's binary_logloss: 0.28582\tvalid_1's binary_logloss: 0.294829\n",
      "[400]\ttraining's binary_logloss: 0.283177\tvalid_1's binary_logloss: 0.29459\n",
      "[500]\ttraining's binary_logloss: 0.28073\tvalid_1's binary_logloss: 0.294355\n",
      "[600]\ttraining's binary_logloss: 0.278278\tvalid_1's binary_logloss: 0.294229\n",
      "[700]\ttraining's binary_logloss: 0.27595\tvalid_1's binary_logloss: 0.294118\n",
      "Early stopping, best iteration is:\n",
      "[688]\ttraining's binary_logloss: 0.276222\tvalid_1's binary_logloss: 0.294093\n"
     ]
    },
    {
     "name": "stderr",
     "output_type": "stream",
     "text": [
      "tune_lambda_l1_and_lambda_l2, val_score: 0.293662:  85%|########5 | 17/20 [20:37<02:05, 41.73s/it]"
     ]
    },
    {
     "name": "stdout",
     "output_type": "stream",
     "text": [
      "Training until validation scores don't improve for 100 rounds\n",
      "[100]\ttraining's binary_logloss: 0.292081\tvalid_1's binary_logloss: 0.295843\n",
      "[200]\ttraining's binary_logloss: 0.28892\tvalid_1's binary_logloss: 0.294857\n",
      "[300]\ttraining's binary_logloss: 0.286328\tvalid_1's binary_logloss: 0.294458\n",
      "[400]\ttraining's binary_logloss: 0.283809\tvalid_1's binary_logloss: 0.294079\n",
      "[500]\ttraining's binary_logloss: 0.281564\tvalid_1's binary_logloss: 0.293906\n",
      "[600]\ttraining's binary_logloss: 0.279327\tvalid_1's binary_logloss: 0.293811\n",
      "[700]\ttraining's binary_logloss: 0.277205\tvalid_1's binary_logloss: 0.293732\n",
      "[800]\ttraining's binary_logloss: 0.27512\tvalid_1's binary_logloss: 0.293684\n",
      "Early stopping, best iteration is:\n",
      "[798]\ttraining's binary_logloss: 0.275161\tvalid_1's binary_logloss: 0.293679\n"
     ]
    },
    {
     "name": "stderr",
     "output_type": "stream",
     "text": [
      "tune_lambda_l1_and_lambda_l2, val_score: 0.293662:  90%|######### | 18/20 [21:14<01:20, 40.20s/it]"
     ]
    },
    {
     "name": "stdout",
     "output_type": "stream",
     "text": [
      "Training until validation scores don't improve for 100 rounds\n",
      "[100]\ttraining's binary_logloss: 0.292082\tvalid_1's binary_logloss: 0.296009\n",
      "[200]\ttraining's binary_logloss: 0.288703\tvalid_1's binary_logloss: 0.29518\n",
      "[300]\ttraining's binary_logloss: 0.28589\tvalid_1's binary_logloss: 0.294832\n",
      "[400]\ttraining's binary_logloss: 0.283239\tvalid_1's binary_logloss: 0.294629\n",
      "[500]\ttraining's binary_logloss: 0.280832\tvalid_1's binary_logloss: 0.294427\n",
      "[600]\ttraining's binary_logloss: 0.278453\tvalid_1's binary_logloss: 0.29426\n",
      "[700]\ttraining's binary_logloss: 0.276182\tvalid_1's binary_logloss: 0.294187\n",
      "[800]\ttraining's binary_logloss: 0.273894\tvalid_1's binary_logloss: 0.294052\n",
      "[900]\ttraining's binary_logloss: 0.271757\tvalid_1's binary_logloss: 0.294155\n",
      "Early stopping, best iteration is:\n",
      "[800]\ttraining's binary_logloss: 0.273894\tvalid_1's binary_logloss: 0.294052\n"
     ]
    },
    {
     "name": "stderr",
     "output_type": "stream",
     "text": [
      "tune_lambda_l1_and_lambda_l2, val_score: 0.293662:  95%|#########5| 19/20 [21:49<00:38, 38.75s/it]"
     ]
    },
    {
     "name": "stdout",
     "output_type": "stream",
     "text": [
      "Training until validation scores don't improve for 100 rounds\n",
      "[100]\ttraining's binary_logloss: 0.292021\tvalid_1's binary_logloss: 0.295975\n",
      "[200]\ttraining's binary_logloss: 0.288665\tvalid_1's binary_logloss: 0.295113\n",
      "[300]\ttraining's binary_logloss: 0.285894\tvalid_1's binary_logloss: 0.294734\n",
      "[400]\ttraining's binary_logloss: 0.283256\tvalid_1's binary_logloss: 0.294524\n",
      "[500]\ttraining's binary_logloss: 0.280855\tvalid_1's binary_logloss: 0.29437\n",
      "[600]\ttraining's binary_logloss: 0.278612\tvalid_1's binary_logloss: 0.294367\n",
      "[700]\ttraining's binary_logloss: 0.276327\tvalid_1's binary_logloss: 0.294357\n",
      "Early stopping, best iteration is:\n",
      "[683]\ttraining's binary_logloss: 0.276714\tvalid_1's binary_logloss: 0.294299\n"
     ]
    },
    {
     "name": "stderr",
     "output_type": "stream",
     "text": [
      "tune_lambda_l1_and_lambda_l2, val_score: 0.293662: 100%|##########| 20/20 [22:21<00:00, 67.05s/it]\n",
      "tune_min_child_samples, val_score: 0.293662:   0%|          | 0/5 [00:00<?, ?it/s]"
     ]
    },
    {
     "name": "stdout",
     "output_type": "stream",
     "text": [
      "Training until validation scores don't improve for 100 rounds\n",
      "[100]\ttraining's binary_logloss: 0.292125\tvalid_1's binary_logloss: 0.2959\n",
      "[200]\ttraining's binary_logloss: 0.28906\tvalid_1's binary_logloss: 0.295047\n",
      "[300]\ttraining's binary_logloss: 0.286454\tvalid_1's binary_logloss: 0.294571\n",
      "[400]\ttraining's binary_logloss: 0.283987\tvalid_1's binary_logloss: 0.294283\n",
      "[500]\ttraining's binary_logloss: 0.281758\tvalid_1's binary_logloss: 0.294184\n",
      "[600]\ttraining's binary_logloss: 0.279589\tvalid_1's binary_logloss: 0.294078\n",
      "[700]\ttraining's binary_logloss: 0.277509\tvalid_1's binary_logloss: 0.29396\n",
      "[800]\ttraining's binary_logloss: 0.275575\tvalid_1's binary_logloss: 0.293987\n",
      "Early stopping, best iteration is:\n",
      "[713]\ttraining's binary_logloss: 0.277238\tvalid_1's binary_logloss: 0.293945\n"
     ]
    },
    {
     "name": "stderr",
     "output_type": "stream",
     "text": [
      "tune_min_child_samples, val_score: 0.293662:  20%|##        | 1/5 [00:33<02:14, 33.64s/it]"
     ]
    },
    {
     "name": "stdout",
     "output_type": "stream",
     "text": [
      "Training until validation scores don't improve for 100 rounds\n",
      "[100]\ttraining's binary_logloss: 0.292133\tvalid_1's binary_logloss: 0.295886\n",
      "[200]\ttraining's binary_logloss: 0.288983\tvalid_1's binary_logloss: 0.294925\n",
      "[300]\ttraining's binary_logloss: 0.286427\tvalid_1's binary_logloss: 0.294514\n",
      "[400]\ttraining's binary_logloss: 0.283894\tvalid_1's binary_logloss: 0.294166\n",
      "[500]\ttraining's binary_logloss: 0.281624\tvalid_1's binary_logloss: 0.29402\n",
      "[600]\ttraining's binary_logloss: 0.279525\tvalid_1's binary_logloss: 0.293922\n",
      "[700]\ttraining's binary_logloss: 0.277567\tvalid_1's binary_logloss: 0.293812\n",
      "[800]\ttraining's binary_logloss: 0.275586\tvalid_1's binary_logloss: 0.293807\n",
      "Early stopping, best iteration is:\n",
      "[756]\ttraining's binary_logloss: 0.276441\tvalid_1's binary_logloss: 0.293766\n"
     ]
    },
    {
     "name": "stderr",
     "output_type": "stream",
     "text": [
      "tune_min_child_samples, val_score: 0.293662:  40%|####      | 2/5 [01:09<01:42, 34.16s/it]"
     ]
    },
    {
     "name": "stdout",
     "output_type": "stream",
     "text": [
      "Training until validation scores don't improve for 100 rounds\n",
      "[100]\ttraining's binary_logloss: 0.292133\tvalid_1's binary_logloss: 0.295893\n",
      "[200]\ttraining's binary_logloss: 0.289078\tvalid_1's binary_logloss: 0.295014\n",
      "[300]\ttraining's binary_logloss: 0.286479\tvalid_1's binary_logloss: 0.29465\n",
      "[400]\ttraining's binary_logloss: 0.283916\tvalid_1's binary_logloss: 0.294369\n",
      "[500]\ttraining's binary_logloss: 0.281725\tvalid_1's binary_logloss: 0.29416\n",
      "[600]\ttraining's binary_logloss: 0.279614\tvalid_1's binary_logloss: 0.294025\n",
      "[700]\ttraining's binary_logloss: 0.27756\tvalid_1's binary_logloss: 0.293945\n",
      "Early stopping, best iteration is:\n",
      "[698]\ttraining's binary_logloss: 0.277594\tvalid_1's binary_logloss: 0.293941\n"
     ]
    },
    {
     "name": "stderr",
     "output_type": "stream",
     "text": [
      "tune_min_child_samples, val_score: 0.293662:  60%|######    | 3/5 [01:41<01:07, 33.77s/it]"
     ]
    },
    {
     "name": "stdout",
     "output_type": "stream",
     "text": [
      "Training until validation scores don't improve for 100 rounds\n",
      "[100]\ttraining's binary_logloss: 0.292105\tvalid_1's binary_logloss: 0.29585\n",
      "[200]\ttraining's binary_logloss: 0.289076\tvalid_1's binary_logloss: 0.294998\n",
      "[300]\ttraining's binary_logloss: 0.286421\tvalid_1's binary_logloss: 0.294513\n",
      "[400]\ttraining's binary_logloss: 0.284089\tvalid_1's binary_logloss: 0.294211\n",
      "[500]\ttraining's binary_logloss: 0.281797\tvalid_1's binary_logloss: 0.29397\n",
      "[600]\ttraining's binary_logloss: 0.279664\tvalid_1's binary_logloss: 0.293833\n",
      "[700]\ttraining's binary_logloss: 0.277532\tvalid_1's binary_logloss: 0.293749\n",
      "[800]\ttraining's binary_logloss: 0.275535\tvalid_1's binary_logloss: 0.293731\n",
      "[900]\ttraining's binary_logloss: 0.273659\tvalid_1's binary_logloss: 0.293825\n",
      "Early stopping, best iteration is:\n",
      "[815]\ttraining's binary_logloss: 0.275248\tvalid_1's binary_logloss: 0.29372\n"
     ]
    },
    {
     "name": "stderr",
     "output_type": "stream",
     "text": [
      "tune_min_child_samples, val_score: 0.293662:  80%|########  | 4/5 [02:19<00:34, 34.88s/it]"
     ]
    },
    {
     "name": "stdout",
     "output_type": "stream",
     "text": [
      "Training until validation scores don't improve for 100 rounds\n",
      "[100]\ttraining's binary_logloss: 0.292113\tvalid_1's binary_logloss: 0.295825\n",
      "[200]\ttraining's binary_logloss: 0.289003\tvalid_1's binary_logloss: 0.294837\n",
      "[300]\ttraining's binary_logloss: 0.286423\tvalid_1's binary_logloss: 0.294341\n",
      "[400]\ttraining's binary_logloss: 0.284024\tvalid_1's binary_logloss: 0.29406\n",
      "[500]\ttraining's binary_logloss: 0.281794\tvalid_1's binary_logloss: 0.293872\n",
      "[600]\ttraining's binary_logloss: 0.279757\tvalid_1's binary_logloss: 0.293818\n",
      "[700]\ttraining's binary_logloss: 0.277674\tvalid_1's binary_logloss: 0.293789\n",
      "[800]\ttraining's binary_logloss: 0.275718\tvalid_1's binary_logloss: 0.293803\n",
      "Early stopping, best iteration is:\n",
      "[740]\ttraining's binary_logloss: 0.276854\tvalid_1's binary_logloss: 0.293751\n"
     ]
    },
    {
     "name": "stderr",
     "output_type": "stream",
     "text": [
      "tune_min_child_samples, val_score: 0.293662: 100%|##########| 5/5 [02:54<00:00, 34.92s/it]\n"
     ]
    },
    {
     "name": "stdout",
     "output_type": "stream",
     "text": [
      "2020-03-24 22:39:52 Like ********************************************************************************\n",
      "Like\n",
      "n_pos_wanted 100000\n",
      "2020-03-24 22:40:07 chunk 1\n",
      "dftrvl.shape: (1000000, 28) dftrvl[tgtcol].mean(): 0.439225\n",
      "{'train_pop': 1000000, 'target_pop': 439225, 'sampled_train_pop': 1000000, 'sampled_target_pop': 439225}\n",
      "{'objective': 'binary', 'metric': 'binary_logloss', 'verbosity': 0, 'boosting_type': 'gbdt'}\n"
     ]
    },
    {
     "name": "stderr",
     "output_type": "stream",
     "text": [
      "tune_feature_fraction, val_score: inf:   0%|          | 0/7 [00:00<?, ?it/s]"
     ]
    },
    {
     "name": "stdout",
     "output_type": "stream",
     "text": [
      "Training until validation scores don't improve for 100 rounds\n",
      "[100]\ttraining's binary_logloss: 0.595822\tvalid_1's binary_logloss: 0.600283\n",
      "[200]\ttraining's binary_logloss: 0.589363\tvalid_1's binary_logloss: 0.595909\n",
      "[300]\ttraining's binary_logloss: 0.585528\tvalid_1's binary_logloss: 0.59408\n",
      "[400]\ttraining's binary_logloss: 0.582461\tvalid_1's binary_logloss: 0.592974\n",
      "[500]\ttraining's binary_logloss: 0.579483\tvalid_1's binary_logloss: 0.591977\n",
      "[600]\ttraining's binary_logloss: 0.57665\tvalid_1's binary_logloss: 0.591041\n",
      "[700]\ttraining's binary_logloss: 0.574061\tvalid_1's binary_logloss: 0.5904\n",
      "[800]\ttraining's binary_logloss: 0.571753\tvalid_1's binary_logloss: 0.59006\n",
      "[900]\ttraining's binary_logloss: 0.569507\tvalid_1's binary_logloss: 0.589664\n",
      "[1000]\ttraining's binary_logloss: 0.567233\tvalid_1's binary_logloss: 0.589191\n",
      "Did not meet early stopping. Best iteration is:\n",
      "[1000]\ttraining's binary_logloss: 0.567233\tvalid_1's binary_logloss: 0.589191\n"
     ]
    },
    {
     "name": "stderr",
     "output_type": "stream",
     "text": [
      "tune_feature_fraction, val_score: 0.589191:  14%|#4        | 1/7 [00:42<04:12, 42.15s/it]"
     ]
    },
    {
     "name": "stdout",
     "output_type": "stream",
     "text": [
      "Training until validation scores don't improve for 100 rounds\n",
      "[100]\ttraining's binary_logloss: 0.595198\tvalid_1's binary_logloss: 0.599951\n",
      "[200]\ttraining's binary_logloss: 0.589003\tvalid_1's binary_logloss: 0.595875\n",
      "[300]\ttraining's binary_logloss: 0.585016\tvalid_1's binary_logloss: 0.593974\n",
      "[400]\ttraining's binary_logloss: 0.581626\tvalid_1's binary_logloss: 0.592682\n",
      "[500]\ttraining's binary_logloss: 0.578557\tvalid_1's binary_logloss: 0.591653\n",
      "[600]\ttraining's binary_logloss: 0.575478\tvalid_1's binary_logloss: 0.590618\n",
      "[700]\ttraining's binary_logloss: 0.572744\tvalid_1's binary_logloss: 0.589908\n",
      "[800]\ttraining's binary_logloss: 0.570146\tvalid_1's binary_logloss: 0.589341\n",
      "[900]\ttraining's binary_logloss: 0.567668\tvalid_1's binary_logloss: 0.5889\n",
      "[1000]\ttraining's binary_logloss: 0.56531\tvalid_1's binary_logloss: 0.588581\n",
      "Did not meet early stopping. Best iteration is:\n",
      "[1000]\ttraining's binary_logloss: 0.56531\tvalid_1's binary_logloss: 0.588581\n"
     ]
    },
    {
     "name": "stderr",
     "output_type": "stream",
     "text": [
      "tune_feature_fraction, val_score: 0.588581:  29%|##8       | 2/7 [01:23<03:28, 41.67s/it]"
     ]
    },
    {
     "name": "stdout",
     "output_type": "stream",
     "text": [
      "Training until validation scores don't improve for 100 rounds\n",
      "[100]\ttraining's binary_logloss: 0.594717\tvalid_1's binary_logloss: 0.599516\n",
      "[200]\ttraining's binary_logloss: 0.588632\tvalid_1's binary_logloss: 0.595519\n",
      "[300]\ttraining's binary_logloss: 0.584649\tvalid_1's binary_logloss: 0.593754\n",
      "[400]\ttraining's binary_logloss: 0.581021\tvalid_1's binary_logloss: 0.592263\n",
      "[500]\ttraining's binary_logloss: 0.577829\tvalid_1's binary_logloss: 0.591297\n",
      "[600]\ttraining's binary_logloss: 0.574865\tvalid_1's binary_logloss: 0.59044\n",
      "[700]\ttraining's binary_logloss: 0.572124\tvalid_1's binary_logloss: 0.589846\n",
      "[800]\ttraining's binary_logloss: 0.569607\tvalid_1's binary_logloss: 0.58939\n",
      "[900]\ttraining's binary_logloss: 0.567128\tvalid_1's binary_logloss: 0.589109\n",
      "[1000]\ttraining's binary_logloss: 0.564616\tvalid_1's binary_logloss: 0.588563\n",
      "Did not meet early stopping. Best iteration is:\n",
      "[1000]\ttraining's binary_logloss: 0.564616\tvalid_1's binary_logloss: 0.588563\n"
     ]
    },
    {
     "name": "stderr",
     "output_type": "stream",
     "text": [
      "tune_feature_fraction, val_score: 0.588563:  43%|####2     | 3/7 [02:05<02:47, 41.96s/it]"
     ]
    },
    {
     "name": "stdout",
     "output_type": "stream",
     "text": [
      "Training until validation scores don't improve for 100 rounds\n",
      "[100]\ttraining's binary_logloss: 0.594428\tvalid_1's binary_logloss: 0.59928\n",
      "[200]\ttraining's binary_logloss: 0.588255\tvalid_1's binary_logloss: 0.59539\n",
      "[300]\ttraining's binary_logloss: 0.584402\tvalid_1's binary_logloss: 0.593913\n",
      "[400]\ttraining's binary_logloss: 0.580468\tvalid_1's binary_logloss: 0.592202\n",
      "[500]\ttraining's binary_logloss: 0.577334\tvalid_1's binary_logloss: 0.591318\n",
      "[600]\ttraining's binary_logloss: 0.574251\tvalid_1's binary_logloss: 0.590465\n",
      "[700]\ttraining's binary_logloss: 0.571324\tvalid_1's binary_logloss: 0.589806\n",
      "[800]\ttraining's binary_logloss: 0.568432\tvalid_1's binary_logloss: 0.58908\n",
      "[900]\ttraining's binary_logloss: 0.565951\tvalid_1's binary_logloss: 0.588816\n",
      "[1000]\ttraining's binary_logloss: 0.563622\tvalid_1's binary_logloss: 0.588617\n",
      "Did not meet early stopping. Best iteration is:\n",
      "[1000]\ttraining's binary_logloss: 0.563622\tvalid_1's binary_logloss: 0.588617\n"
     ]
    },
    {
     "name": "stderr",
     "output_type": "stream",
     "text": [
      "tune_feature_fraction, val_score: 0.588563:  57%|#####7    | 4/7 [02:48<02:06, 42.25s/it]"
     ]
    },
    {
     "name": "stdout",
     "output_type": "stream",
     "text": [
      "Training until validation scores don't improve for 100 rounds\n",
      "[100]\ttraining's binary_logloss: 0.594194\tvalid_1's binary_logloss: 0.598959\n",
      "[200]\ttraining's binary_logloss: 0.58826\tvalid_1's binary_logloss: 0.595408\n",
      "[300]\ttraining's binary_logloss: 0.58383\tvalid_1's binary_logloss: 0.59329\n",
      "[400]\ttraining's binary_logloss: 0.58012\tvalid_1's binary_logloss: 0.591839\n",
      "[500]\ttraining's binary_logloss: 0.576891\tvalid_1's binary_logloss: 0.590947\n",
      "[600]\ttraining's binary_logloss: 0.573912\tvalid_1's binary_logloss: 0.590297\n",
      "[700]\ttraining's binary_logloss: 0.570871\tvalid_1's binary_logloss: 0.589506\n",
      "[800]\ttraining's binary_logloss: 0.568033\tvalid_1's binary_logloss: 0.588837\n",
      "[900]\ttraining's binary_logloss: 0.565421\tvalid_1's binary_logloss: 0.588358\n",
      "[1000]\ttraining's binary_logloss: 0.56283\tvalid_1's binary_logloss: 0.587896\n",
      "Did not meet early stopping. Best iteration is:\n",
      "[1000]\ttraining's binary_logloss: 0.56283\tvalid_1's binary_logloss: 0.587896\n"
     ]
    },
    {
     "name": "stderr",
     "output_type": "stream",
     "text": [
      "tune_feature_fraction, val_score: 0.587896:  71%|#######1  | 5/7 [03:27<01:22, 41.18s/it]"
     ]
    },
    {
     "name": "stdout",
     "output_type": "stream",
     "text": [
      "Training until validation scores don't improve for 100 rounds\n",
      "[100]\ttraining's binary_logloss: 0.59372\tvalid_1's binary_logloss: 0.598544\n",
      "[200]\ttraining's binary_logloss: 0.587467\tvalid_1's binary_logloss: 0.594788\n",
      "[300]\ttraining's binary_logloss: 0.583091\tvalid_1's binary_logloss: 0.592887\n",
      "[400]\ttraining's binary_logloss: 0.579247\tvalid_1's binary_logloss: 0.59144\n",
      "[500]\ttraining's binary_logloss: 0.576032\tvalid_1's binary_logloss: 0.5906\n",
      "[600]\ttraining's binary_logloss: 0.5729\tvalid_1's binary_logloss: 0.58985\n",
      "[700]\ttraining's binary_logloss: 0.569887\tvalid_1's binary_logloss: 0.589162\n",
      "[800]\ttraining's binary_logloss: 0.56718\tvalid_1's binary_logloss: 0.588742\n",
      "[900]\ttraining's binary_logloss: 0.564589\tvalid_1's binary_logloss: 0.588425\n",
      "[1000]\ttraining's binary_logloss: 0.561992\tvalid_1's binary_logloss: 0.588007\n",
      "Did not meet early stopping. Best iteration is:\n",
      "[1000]\ttraining's binary_logloss: 0.561992\tvalid_1's binary_logloss: 0.588007\n"
     ]
    },
    {
     "name": "stderr",
     "output_type": "stream",
     "text": [
      "tune_feature_fraction, val_score: 0.587896:  86%|########5 | 6/7 [04:02<00:39, 39.48s/it]"
     ]
    },
    {
     "name": "stdout",
     "output_type": "stream",
     "text": [
      "Training until validation scores don't improve for 100 rounds\n",
      "[100]\ttraining's binary_logloss: 0.593794\tvalid_1's binary_logloss: 0.598741\n",
      "[200]\ttraining's binary_logloss: 0.587691\tvalid_1's binary_logloss: 0.595083\n",
      "[300]\ttraining's binary_logloss: 0.583258\tvalid_1's binary_logloss: 0.593119\n",
      "[400]\ttraining's binary_logloss: 0.579239\tvalid_1's binary_logloss: 0.591557\n",
      "[500]\ttraining's binary_logloss: 0.576051\tvalid_1's binary_logloss: 0.590786\n",
      "[600]\ttraining's binary_logloss: 0.5729\tvalid_1's binary_logloss: 0.589929\n",
      "[700]\ttraining's binary_logloss: 0.569812\tvalid_1's binary_logloss: 0.589165\n",
      "[800]\ttraining's binary_logloss: 0.567029\tvalid_1's binary_logloss: 0.588674\n",
      "[900]\ttraining's binary_logloss: 0.564345\tvalid_1's binary_logloss: 0.588176\n",
      "[1000]\ttraining's binary_logloss: 0.561823\tvalid_1's binary_logloss: 0.587832\n",
      "Did not meet early stopping. Best iteration is:\n",
      "[1000]\ttraining's binary_logloss: 0.561823\tvalid_1's binary_logloss: 0.587832\n"
     ]
    },
    {
     "name": "stderr",
     "output_type": "stream",
     "text": [
      "tune_feature_fraction, val_score: 0.587832: 100%|##########| 7/7 [04:39<00:00, 39.93s/it]\n",
      "tune_num_leaves, val_score: 0.587832:   0%|          | 0/20 [00:00<?, ?it/s]"
     ]
    },
    {
     "name": "stdout",
     "output_type": "stream",
     "text": [
      "Training until validation scores don't improve for 100 rounds\n",
      "[100]\ttraining's binary_logloss: 0.565764\tvalid_1's binary_logloss: 0.589607\n",
      "[200]\ttraining's binary_logloss: 0.545627\tvalid_1's binary_logloss: 0.587636\n",
      "[300]\ttraining's binary_logloss: 0.52785\tvalid_1's binary_logloss: 0.586822\n",
      "[400]\ttraining's binary_logloss: 0.511721\tvalid_1's binary_logloss: 0.586374\n",
      "[500]\ttraining's binary_logloss: 0.496264\tvalid_1's binary_logloss: 0.586035\n",
      "[600]\ttraining's binary_logloss: 0.482514\tvalid_1's binary_logloss: 0.586249\n",
      "Early stopping, best iteration is:\n",
      "[536]\ttraining's binary_logloss: 0.490971\tvalid_1's binary_logloss: 0.5859\n"
     ]
    },
    {
     "name": "stderr",
     "output_type": "stream",
     "text": [
      "tune_num_leaves, val_score: 0.585900:   5%|5         | 1/20 [00:42<13:26, 42.44s/it]"
     ]
    },
    {
     "name": "stdout",
     "output_type": "stream",
     "text": [
      "Training until validation scores don't improve for 100 rounds\n",
      "[100]\ttraining's binary_logloss: 0.571061\tvalid_1's binary_logloss: 0.58998\n",
      "[200]\ttraining's binary_logloss: 0.55398\tvalid_1's binary_logloss: 0.588177\n",
      "[300]\ttraining's binary_logloss: 0.539124\tvalid_1's binary_logloss: 0.58736\n",
      "[400]\ttraining's binary_logloss: 0.525319\tvalid_1's binary_logloss: 0.586688\n",
      "[500]\ttraining's binary_logloss: 0.512641\tvalid_1's binary_logloss: 0.58661\n",
      "[600]\ttraining's binary_logloss: 0.500436\tvalid_1's binary_logloss: 0.586541\n",
      "Early stopping, best iteration is:\n",
      "[534]\ttraining's binary_logloss: 0.508222\tvalid_1's binary_logloss: 0.586419\n"
     ]
    },
    {
     "name": "stderr",
     "output_type": "stream",
     "text": [
      "tune_num_leaves, val_score: 0.585900:  10%|#         | 2/20 [01:21<12:26, 41.49s/it]"
     ]
    },
    {
     "name": "stdout",
     "output_type": "stream",
     "text": [
      "Training until validation scores don't improve for 100 rounds\n",
      "[100]\ttraining's binary_logloss: 0.569823\tvalid_1's binary_logloss: 0.590121\n",
      "[200]\ttraining's binary_logloss: 0.551958\tvalid_1's binary_logloss: 0.587872\n",
      "[300]\ttraining's binary_logloss: 0.536101\tvalid_1's binary_logloss: 0.586828\n",
      "Early stopping, best iteration is:\n",
      "[266]\ttraining's binary_logloss: 0.541309\tvalid_1's binary_logloss: 0.586766\n"
     ]
    },
    {
     "name": "stderr",
     "output_type": "stream",
     "text": [
      "tune_num_leaves, val_score: 0.585900:  15%|#5        | 3/20 [01:47<10:25, 36.77s/it]"
     ]
    },
    {
     "name": "stdout",
     "output_type": "stream",
     "text": [
      "Training until validation scores don't improve for 100 rounds\n",
      "[100]\ttraining's binary_logloss: 0.582498\tvalid_1's binary_logloss: 0.592592\n",
      "[200]\ttraining's binary_logloss: 0.572714\tvalid_1's binary_logloss: 0.590063\n",
      "[300]\ttraining's binary_logloss: 0.564032\tvalid_1's binary_logloss: 0.588558\n",
      "[400]\ttraining's binary_logloss: 0.556199\tvalid_1's binary_logloss: 0.587719\n",
      "[500]\ttraining's binary_logloss: 0.548771\tvalid_1's binary_logloss: 0.586912\n",
      "[600]\ttraining's binary_logloss: 0.541712\tvalid_1's binary_logloss: 0.58652\n",
      "[700]\ttraining's binary_logloss: 0.535278\tvalid_1's binary_logloss: 0.586317\n",
      "[800]\ttraining's binary_logloss: 0.528986\tvalid_1's binary_logloss: 0.586072\n",
      "[900]\ttraining's binary_logloss: 0.522798\tvalid_1's binary_logloss: 0.58586\n",
      "[1000]\ttraining's binary_logloss: 0.516964\tvalid_1's binary_logloss: 0.585851\n",
      "Did not meet early stopping. Best iteration is:\n",
      "[1000]\ttraining's binary_logloss: 0.516964\tvalid_1's binary_logloss: 0.585851\n"
     ]
    },
    {
     "name": "stderr",
     "output_type": "stream",
     "text": [
      "tune_num_leaves, val_score: 0.585851:  20%|##        | 4/20 [02:33<10:31, 39.48s/it]"
     ]
    },
    {
     "name": "stdout",
     "output_type": "stream",
     "text": [
      "Training until validation scores don't improve for 100 rounds\n",
      "[100]\ttraining's binary_logloss: 0.585605\tvalid_1's binary_logloss: 0.594012\n",
      "[200]\ttraining's binary_logloss: 0.57709\tvalid_1's binary_logloss: 0.59116\n",
      "[300]\ttraining's binary_logloss: 0.569818\tvalid_1's binary_logloss: 0.589552\n",
      "[400]\ttraining's binary_logloss: 0.563305\tvalid_1's binary_logloss: 0.588421\n",
      "[500]\ttraining's binary_logloss: 0.55735\tvalid_1's binary_logloss: 0.58774\n",
      "[600]\ttraining's binary_logloss: 0.551695\tvalid_1's binary_logloss: 0.587199\n",
      "[700]\ttraining's binary_logloss: 0.546403\tvalid_1's binary_logloss: 0.586831\n",
      "[800]\ttraining's binary_logloss: 0.540944\tvalid_1's binary_logloss: 0.586439\n",
      "[900]\ttraining's binary_logloss: 0.535906\tvalid_1's binary_logloss: 0.586206\n",
      "[1000]\ttraining's binary_logloss: 0.531322\tvalid_1's binary_logloss: 0.586108\n",
      "Did not meet early stopping. Best iteration is:\n",
      "[1000]\ttraining's binary_logloss: 0.531322\tvalid_1's binary_logloss: 0.586108\n"
     ]
    },
    {
     "name": "stderr",
     "output_type": "stream",
     "text": [
      "tune_num_leaves, val_score: 0.585851:  25%|##5       | 5/20 [03:16<10:08, 40.54s/it]"
     ]
    },
    {
     "name": "stdout",
     "output_type": "stream",
     "text": [
      "Training until validation scores don't improve for 100 rounds\n",
      "[100]\ttraining's binary_logloss: 0.570349\tvalid_1's binary_logloss: 0.590182\n",
      "[200]\ttraining's binary_logloss: 0.552605\tvalid_1's binary_logloss: 0.587958\n",
      "[300]\ttraining's binary_logloss: 0.537184\tvalid_1's binary_logloss: 0.58699\n",
      "[400]\ttraining's binary_logloss: 0.523406\tvalid_1's binary_logloss: 0.586747\n",
      "[500]\ttraining's binary_logloss: 0.510229\tvalid_1's binary_logloss: 0.586532\n",
      "[600]\ttraining's binary_logloss: 0.497967\tvalid_1's binary_logloss: 0.586487\n",
      "Early stopping, best iteration is:\n",
      "[558]\ttraining's binary_logloss: 0.502827\tvalid_1's binary_logloss: 0.586377\n"
     ]
    },
    {
     "name": "stderr",
     "output_type": "stream",
     "text": [
      "tune_num_leaves, val_score: 0.585851:  30%|###       | 6/20 [03:57<09:30, 40.74s/it]"
     ]
    },
    {
     "name": "stdout",
     "output_type": "stream",
     "text": [
      "Training until validation scores don't improve for 100 rounds\n",
      "[100]\ttraining's binary_logloss: 0.592947\tvalid_1's binary_logloss: 0.598141\n",
      "[200]\ttraining's binary_logloss: 0.58662\tvalid_1's binary_logloss: 0.594549\n",
      "[300]\ttraining's binary_logloss: 0.582002\tvalid_1's binary_logloss: 0.592648\n",
      "[400]\ttraining's binary_logloss: 0.577936\tvalid_1's binary_logloss: 0.591295\n",
      "[500]\ttraining's binary_logloss: 0.574259\tvalid_1's binary_logloss: 0.590227\n",
      "[600]\ttraining's binary_logloss: 0.570818\tvalid_1's binary_logloss: 0.589253\n",
      "[700]\ttraining's binary_logloss: 0.567814\tvalid_1's binary_logloss: 0.588777\n",
      "[800]\ttraining's binary_logloss: 0.564839\tvalid_1's binary_logloss: 0.588382\n",
      "[900]\ttraining's binary_logloss: 0.561986\tvalid_1's binary_logloss: 0.588066\n",
      "[1000]\ttraining's binary_logloss: 0.559064\tvalid_1's binary_logloss: 0.587689\n",
      "Did not meet early stopping. Best iteration is:\n",
      "[1000]\ttraining's binary_logloss: 0.559064\tvalid_1's binary_logloss: 0.587689\n"
     ]
    },
    {
     "name": "stderr",
     "output_type": "stream",
     "text": [
      "tune_num_leaves, val_score: 0.585851:  35%|###5      | 7/20 [04:34<08:34, 39.61s/it]"
     ]
    },
    {
     "name": "stdout",
     "output_type": "stream",
     "text": [
      "Training until validation scores don't improve for 100 rounds\n",
      "[100]\ttraining's binary_logloss: 0.583354\tvalid_1's binary_logloss: 0.593431\n",
      "[200]\ttraining's binary_logloss: 0.573335\tvalid_1's binary_logloss: 0.590563\n",
      "[300]\ttraining's binary_logloss: 0.565078\tvalid_1's binary_logloss: 0.589297\n",
      "[400]\ttraining's binary_logloss: 0.557493\tvalid_1's binary_logloss: 0.588328\n",
      "[500]\ttraining's binary_logloss: 0.550558\tvalid_1's binary_logloss: 0.587675\n",
      "[600]\ttraining's binary_logloss: 0.543895\tvalid_1's binary_logloss: 0.587356\n",
      "[700]\ttraining's binary_logloss: 0.537335\tvalid_1's binary_logloss: 0.587069\n",
      "[800]\ttraining's binary_logloss: 0.531193\tvalid_1's binary_logloss: 0.586656\n",
      "[900]\ttraining's binary_logloss: 0.525337\tvalid_1's binary_logloss: 0.586474\n",
      "[1000]\ttraining's binary_logloss: 0.519326\tvalid_1's binary_logloss: 0.586308\n",
      "Did not meet early stopping. Best iteration is:\n",
      "[1000]\ttraining's binary_logloss: 0.519326\tvalid_1's binary_logloss: 0.586308\n"
     ]
    },
    {
     "name": "stderr",
     "output_type": "stream",
     "text": [
      "tune_num_leaves, val_score: 0.585851:  40%|####      | 8/20 [05:20<08:17, 41.43s/it]"
     ]
    },
    {
     "name": "stdout",
     "output_type": "stream",
     "text": [
      "Training until validation scores don't improve for 100 rounds\n",
      "[100]\ttraining's binary_logloss: 0.573767\tvalid_1's binary_logloss: 0.590981\n",
      "[200]\ttraining's binary_logloss: 0.558359\tvalid_1's binary_logloss: 0.588688\n",
      "[300]\ttraining's binary_logloss: 0.545202\tvalid_1's binary_logloss: 0.587932\n",
      "[400]\ttraining's binary_logloss: 0.533021\tvalid_1's binary_logloss: 0.587466\n",
      "[500]\ttraining's binary_logloss: 0.521178\tvalid_1's binary_logloss: 0.587016\n",
      "[600]\ttraining's binary_logloss: 0.51024\tvalid_1's binary_logloss: 0.586591\n",
      "[700]\ttraining's binary_logloss: 0.499724\tvalid_1's binary_logloss: 0.586579\n",
      "Early stopping, best iteration is:\n",
      "[681]\ttraining's binary_logloss: 0.501507\tvalid_1's binary_logloss: 0.586516\n"
     ]
    },
    {
     "name": "stderr",
     "output_type": "stream",
     "text": [
      "tune_num_leaves, val_score: 0.585851:  45%|####5     | 9/20 [06:02<07:38, 41.69s/it]"
     ]
    },
    {
     "name": "stdout",
     "output_type": "stream",
     "text": [
      "Training until validation scores don't improve for 100 rounds\n",
      "[100]\ttraining's binary_logloss: 0.566265\tvalid_1's binary_logloss: 0.589709\n",
      "[200]\ttraining's binary_logloss: 0.546016\tvalid_1's binary_logloss: 0.587761\n",
      "[300]\ttraining's binary_logloss: 0.527715\tvalid_1's binary_logloss: 0.586298\n",
      "[400]\ttraining's binary_logloss: 0.511026\tvalid_1's binary_logloss: 0.586245\n",
      "Early stopping, best iteration is:\n",
      "[315]\ttraining's binary_logloss: 0.524915\tvalid_1's binary_logloss: 0.586088\n"
     ]
    },
    {
     "name": "stderr",
     "output_type": "stream",
     "text": [
      "tune_num_leaves, val_score: 0.585851:  50%|#####     | 10/20 [06:32<06:20, 38.06s/it]"
     ]
    },
    {
     "name": "stdout",
     "output_type": "stream",
     "text": [
      "Training until validation scores don't improve for 100 rounds\n",
      "[100]\ttraining's binary_logloss: 0.618662\tvalid_1's binary_logloss: 0.620599\n",
      "[200]\ttraining's binary_logloss: 0.612634\tvalid_1's binary_logloss: 0.614834\n",
      "[300]\ttraining's binary_logloss: 0.60968\tvalid_1's binary_logloss: 0.612121\n",
      "[400]\ttraining's binary_logloss: 0.607525\tvalid_1's binary_logloss: 0.610111\n",
      "[500]\ttraining's binary_logloss: 0.606081\tvalid_1's binary_logloss: 0.608818\n",
      "[600]\ttraining's binary_logloss: 0.60501\tvalid_1's binary_logloss: 0.607902\n",
      "[700]\ttraining's binary_logloss: 0.604164\tvalid_1's binary_logloss: 0.607211\n",
      "[800]\ttraining's binary_logloss: 0.60348\tvalid_1's binary_logloss: 0.606615\n",
      "[900]\ttraining's binary_logloss: 0.60283\tvalid_1's binary_logloss: 0.606055\n",
      "[1000]\ttraining's binary_logloss: 0.602271\tvalid_1's binary_logloss: 0.605604\n",
      "Did not meet early stopping. Best iteration is:\n",
      "[1000]\ttraining's binary_logloss: 0.602271\tvalid_1's binary_logloss: 0.605604\n"
     ]
    },
    {
     "name": "stderr",
     "output_type": "stream",
     "text": [
      "tune_num_leaves, val_score: 0.585851:  55%|#####5    | 11/20 [06:56<05:04, 33.80s/it]"
     ]
    },
    {
     "name": "stdout",
     "output_type": "stream",
     "text": [
      "Training until validation scores don't improve for 100 rounds\n",
      "[100]\ttraining's binary_logloss: 0.578184\tvalid_1's binary_logloss: 0.591759\n",
      "[200]\ttraining's binary_logloss: 0.56546\tvalid_1's binary_logloss: 0.589419\n",
      "[300]\ttraining's binary_logloss: 0.554378\tvalid_1's binary_logloss: 0.588363\n",
      "[400]\ttraining's binary_logloss: 0.544358\tvalid_1's binary_logloss: 0.58785\n",
      "[500]\ttraining's binary_logloss: 0.534856\tvalid_1's binary_logloss: 0.587275\n",
      "[600]\ttraining's binary_logloss: 0.525601\tvalid_1's binary_logloss: 0.586825\n",
      "[700]\ttraining's binary_logloss: 0.517098\tvalid_1's binary_logloss: 0.586615\n",
      "[800]\ttraining's binary_logloss: 0.509169\tvalid_1's binary_logloss: 0.586646\n",
      "Early stopping, best iteration is:\n",
      "[721]\ttraining's binary_logloss: 0.515402\tvalid_1's binary_logloss: 0.58656\n"
     ]
    },
    {
     "name": "stderr",
     "output_type": "stream",
     "text": [
      "tune_num_leaves, val_score: 0.585851:  60%|######    | 12/20 [07:34<04:41, 35.23s/it]"
     ]
    },
    {
     "name": "stdout",
     "output_type": "stream",
     "text": [
      "Training until validation scores don't improve for 100 rounds\n",
      "[100]\ttraining's binary_logloss: 0.578954\tvalid_1's binary_logloss: 0.591855\n",
      "[200]\ttraining's binary_logloss: 0.566792\tvalid_1's binary_logloss: 0.589341\n",
      "[300]\ttraining's binary_logloss: 0.555782\tvalid_1's binary_logloss: 0.587868\n",
      "[400]\ttraining's binary_logloss: 0.546268\tvalid_1's binary_logloss: 0.587337\n",
      "[500]\ttraining's binary_logloss: 0.536913\tvalid_1's binary_logloss: 0.58659\n",
      "[600]\ttraining's binary_logloss: 0.528673\tvalid_1's binary_logloss: 0.586536\n",
      "[700]\ttraining's binary_logloss: 0.520665\tvalid_1's binary_logloss: 0.586376\n",
      "[800]\ttraining's binary_logloss: 0.513087\tvalid_1's binary_logloss: 0.586346\n",
      "[900]\ttraining's binary_logloss: 0.505698\tvalid_1's binary_logloss: 0.586197\n",
      "[1000]\ttraining's binary_logloss: 0.498348\tvalid_1's binary_logloss: 0.586131\n",
      "Did not meet early stopping. Best iteration is:\n",
      "[1000]\ttraining's binary_logloss: 0.498348\tvalid_1's binary_logloss: 0.586131\n"
     ]
    },
    {
     "name": "stderr",
     "output_type": "stream",
     "text": [
      "tune_num_leaves, val_score: 0.585851:  65%|######5   | 13/20 [08:20<04:28, 38.38s/it]"
     ]
    },
    {
     "name": "stdout",
     "output_type": "stream",
     "text": [
      "Training until validation scores don't improve for 100 rounds\n",
      "[100]\ttraining's binary_logloss: 0.584419\tvalid_1's binary_logloss: 0.593585\n",
      "[200]\ttraining's binary_logloss: 0.57492\tvalid_1's binary_logloss: 0.590675\n",
      "[300]\ttraining's binary_logloss: 0.567119\tvalid_1's binary_logloss: 0.589013\n",
      "[400]\ttraining's binary_logloss: 0.560137\tvalid_1's binary_logloss: 0.588162\n",
      "[500]\ttraining's binary_logloss: 0.553554\tvalid_1's binary_logloss: 0.58759\n",
      "[600]\ttraining's binary_logloss: 0.547254\tvalid_1's binary_logloss: 0.587231\n",
      "[700]\ttraining's binary_logloss: 0.541321\tvalid_1's binary_logloss: 0.586915\n",
      "[800]\ttraining's binary_logloss: 0.535217\tvalid_1's binary_logloss: 0.586602\n",
      "[900]\ttraining's binary_logloss: 0.529738\tvalid_1's binary_logloss: 0.586295\n",
      "[1000]\ttraining's binary_logloss: 0.524267\tvalid_1's binary_logloss: 0.58606\n",
      "Did not meet early stopping. Best iteration is:\n",
      "[1000]\ttraining's binary_logloss: 0.524267\tvalid_1's binary_logloss: 0.58606\n"
     ]
    },
    {
     "name": "stderr",
     "output_type": "stream",
     "text": [
      "tune_num_leaves, val_score: 0.585851:  70%|#######   | 14/20 [09:00<03:54, 39.07s/it]"
     ]
    },
    {
     "name": "stdout",
     "output_type": "stream",
     "text": [
      "Training until validation scores don't improve for 100 rounds\n",
      "[100]\ttraining's binary_logloss: 0.566037\tvalid_1's binary_logloss: 0.589758\n",
      "[200]\ttraining's binary_logloss: 0.545262\tvalid_1's binary_logloss: 0.587875\n",
      "[300]\ttraining's binary_logloss: 0.527401\tvalid_1's binary_logloss: 0.587142\n",
      "[400]\ttraining's binary_logloss: 0.510473\tvalid_1's binary_logloss: 0.58692\n",
      "[500]\ttraining's binary_logloss: 0.49523\tvalid_1's binary_logloss: 0.586901\n",
      "Early stopping, best iteration is:\n",
      "[430]\ttraining's binary_logloss: 0.505652\tvalid_1's binary_logloss: 0.586756\n"
     ]
    },
    {
     "name": "stderr",
     "output_type": "stream",
     "text": [
      "tune_num_leaves, val_score: 0.585851:  75%|#######5  | 15/20 [09:35<03:09, 37.84s/it]"
     ]
    },
    {
     "name": "stdout",
     "output_type": "stream",
     "text": [
      "Training until validation scores don't improve for 100 rounds\n",
      "[100]\ttraining's binary_logloss: 0.577682\tvalid_1's binary_logloss: 0.591392\n",
      "[200]\ttraining's binary_logloss: 0.564693\tvalid_1's binary_logloss: 0.588725\n",
      "[300]\ttraining's binary_logloss: 0.553823\tvalid_1's binary_logloss: 0.58745\n",
      "[400]\ttraining's binary_logloss: 0.543671\tvalid_1's binary_logloss: 0.587103\n",
      "[500]\ttraining's binary_logloss: 0.534213\tvalid_1's binary_logloss: 0.586692\n",
      "[600]\ttraining's binary_logloss: 0.525371\tvalid_1's binary_logloss: 0.586445\n",
      "[700]\ttraining's binary_logloss: 0.516779\tvalid_1's binary_logloss: 0.586085\n",
      "[800]\ttraining's binary_logloss: 0.508174\tvalid_1's binary_logloss: 0.586208\n",
      "Early stopping, best iteration is:\n",
      "[755]\ttraining's binary_logloss: 0.512164\tvalid_1's binary_logloss: 0.586084\n"
     ]
    },
    {
     "name": "stderr",
     "output_type": "stream",
     "text": [
      "tune_num_leaves, val_score: 0.585851:  80%|########  | 16/20 [10:17<02:35, 38.87s/it]"
     ]
    },
    {
     "name": "stdout",
     "output_type": "stream",
     "text": [
      "Training until validation scores don't improve for 100 rounds\n",
      "[100]\ttraining's binary_logloss: 0.588453\tvalid_1's binary_logloss: 0.59529\n",
      "[200]\ttraining's binary_logloss: 0.581013\tvalid_1's binary_logloss: 0.592485\n",
      "[300]\ttraining's binary_logloss: 0.574737\tvalid_1's binary_logloss: 0.590519\n",
      "[400]\ttraining's binary_logloss: 0.569258\tvalid_1's binary_logloss: 0.589276\n",
      "[500]\ttraining's binary_logloss: 0.564167\tvalid_1's binary_logloss: 0.588438\n",
      "[600]\ttraining's binary_logloss: 0.559782\tvalid_1's binary_logloss: 0.588114\n",
      "[700]\ttraining's binary_logloss: 0.555402\tvalid_1's binary_logloss: 0.587555\n",
      "[800]\ttraining's binary_logloss: 0.551156\tvalid_1's binary_logloss: 0.5872\n",
      "[900]\ttraining's binary_logloss: 0.546945\tvalid_1's binary_logloss: 0.586974\n",
      "[1000]\ttraining's binary_logloss: 0.54306\tvalid_1's binary_logloss: 0.586865\n",
      "Did not meet early stopping. Best iteration is:\n",
      "[1000]\ttraining's binary_logloss: 0.54306\tvalid_1's binary_logloss: 0.586865\n"
     ]
    },
    {
     "name": "stderr",
     "output_type": "stream",
     "text": [
      "tune_num_leaves, val_score: 0.585851:  85%|########5 | 17/20 [10:54<01:55, 38.44s/it]"
     ]
    },
    {
     "name": "stdout",
     "output_type": "stream",
     "text": [
      "Training until validation scores don't improve for 100 rounds\n",
      "[100]\ttraining's binary_logloss: 0.581579\tvalid_1's binary_logloss: 0.592765\n",
      "[200]\ttraining's binary_logloss: 0.570731\tvalid_1's binary_logloss: 0.590061\n",
      "[300]\ttraining's binary_logloss: 0.561601\tvalid_1's binary_logloss: 0.588835\n",
      "[400]\ttraining's binary_logloss: 0.553193\tvalid_1's binary_logloss: 0.588011\n",
      "[500]\ttraining's binary_logloss: 0.545508\tvalid_1's binary_logloss: 0.587587\n",
      "[600]\ttraining's binary_logloss: 0.538279\tvalid_1's binary_logloss: 0.58728\n",
      "[700]\ttraining's binary_logloss: 0.531063\tvalid_1's binary_logloss: 0.586911\n",
      "[800]\ttraining's binary_logloss: 0.523851\tvalid_1's binary_logloss: 0.586259\n",
      "[900]\ttraining's binary_logloss: 0.517346\tvalid_1's binary_logloss: 0.586212\n",
      "Early stopping, best iteration is:\n",
      "[865]\ttraining's binary_logloss: 0.519703\tvalid_1's binary_logloss: 0.586156\n"
     ]
    },
    {
     "name": "stderr",
     "output_type": "stream",
     "text": [
      "tune_num_leaves, val_score: 0.585851:  90%|######### | 18/20 [11:39<01:20, 40.32s/it]"
     ]
    },
    {
     "name": "stdout",
     "output_type": "stream",
     "text": [
      "Training until validation scores don't improve for 100 rounds\n",
      "[100]\ttraining's binary_logloss: 0.574871\tvalid_1's binary_logloss: 0.590952\n",
      "[200]\ttraining's binary_logloss: 0.560372\tvalid_1's binary_logloss: 0.588702\n",
      "[300]\ttraining's binary_logloss: 0.547879\tvalid_1's binary_logloss: 0.587868\n",
      "[400]\ttraining's binary_logloss: 0.536477\tvalid_1's binary_logloss: 0.587497\n",
      "[500]\ttraining's binary_logloss: 0.525478\tvalid_1's binary_logloss: 0.587041\n",
      "[600]\ttraining's binary_logloss: 0.515343\tvalid_1's binary_logloss: 0.586843\n",
      "Early stopping, best iteration is:\n",
      "[555]\ttraining's binary_logloss: 0.519645\tvalid_1's binary_logloss: 0.586795\n"
     ]
    },
    {
     "name": "stderr",
     "output_type": "stream",
     "text": [
      "tune_num_leaves, val_score: 0.585851:  95%|#########5| 19/20 [12:15<00:39, 39.17s/it]"
     ]
    },
    {
     "name": "stdout",
     "output_type": "stream",
     "text": [
      "Training until validation scores don't improve for 100 rounds\n",
      "[100]\ttraining's binary_logloss: 0.59707\tvalid_1's binary_logloss: 0.601112\n",
      "[200]\ttraining's binary_logloss: 0.591314\tvalid_1's binary_logloss: 0.59697\n",
      "[300]\ttraining's binary_logloss: 0.587589\tvalid_1's binary_logloss: 0.594812\n",
      "[400]\ttraining's binary_logloss: 0.584332\tvalid_1's binary_logloss: 0.593202\n",
      "[500]\ttraining's binary_logloss: 0.581745\tvalid_1's binary_logloss: 0.592195\n",
      "[600]\ttraining's binary_logloss: 0.579313\tvalid_1's binary_logloss: 0.591355\n",
      "[700]\ttraining's binary_logloss: 0.57708\tvalid_1's binary_logloss: 0.590696\n",
      "[800]\ttraining's binary_logloss: 0.574968\tvalid_1's binary_logloss: 0.590059\n",
      "[900]\ttraining's binary_logloss: 0.573055\tvalid_1's binary_logloss: 0.589632\n",
      "[1000]\ttraining's binary_logloss: 0.571186\tvalid_1's binary_logloss: 0.589238\n",
      "Did not meet early stopping. Best iteration is:\n",
      "[1000]\ttraining's binary_logloss: 0.571186\tvalid_1's binary_logloss: 0.589238\n"
     ]
    },
    {
     "name": "stderr",
     "output_type": "stream",
     "text": [
      "tune_num_leaves, val_score: 0.585851: 100%|##########| 20/20 [12:50<00:00, 38.52s/it]\n",
      "tune_bagging_fraction_and_bagging_freq, val_score: 0.585851:   0%|          | 0/10 [00:00<?, ?it/s]"
     ]
    },
    {
     "name": "stdout",
     "output_type": "stream",
     "text": [
      "Training until validation scores don't improve for 100 rounds\n",
      "[100]\ttraining's binary_logloss: 0.583296\tvalid_1's binary_logloss: 0.593792\n",
      "[200]\ttraining's binary_logloss: 0.572739\tvalid_1's binary_logloss: 0.590963\n",
      "[300]\ttraining's binary_logloss: 0.564369\tvalid_1's binary_logloss: 0.590112\n",
      "[400]\ttraining's binary_logloss: 0.556777\tvalid_1's binary_logloss: 0.58967\n",
      "[500]\ttraining's binary_logloss: 0.549939\tvalid_1's binary_logloss: 0.589597\n",
      "[600]\ttraining's binary_logloss: 0.543144\tvalid_1's binary_logloss: 0.589405\n",
      "Early stopping, best iteration is:\n",
      "[561]\ttraining's binary_logloss: 0.545747\tvalid_1's binary_logloss: 0.589245\n"
     ]
    },
    {
     "name": "stderr",
     "output_type": "stream",
     "text": [
      "tune_bagging_fraction_and_bagging_freq, val_score: 0.585851:  10%|#         | 1/10 [00:30<04:31, 30.21s/it]"
     ]
    },
    {
     "name": "stdout",
     "output_type": "stream",
     "text": [
      "Training until validation scores don't improve for 100 rounds\n",
      "[100]\ttraining's binary_logloss: 0.58342\tvalid_1's binary_logloss: 0.593682\n",
      "[200]\ttraining's binary_logloss: 0.572979\tvalid_1's binary_logloss: 0.59065\n",
      "[300]\ttraining's binary_logloss: 0.564405\tvalid_1's binary_logloss: 0.589722\n",
      "[400]\ttraining's binary_logloss: 0.556953\tvalid_1's binary_logloss: 0.589417\n",
      "[500]\ttraining's binary_logloss: 0.549792\tvalid_1's binary_logloss: 0.589165\n",
      "[600]\ttraining's binary_logloss: 0.543012\tvalid_1's binary_logloss: 0.588797\n",
      "[700]\ttraining's binary_logloss: 0.536595\tvalid_1's binary_logloss: 0.58872\n",
      "[800]\ttraining's binary_logloss: 0.530475\tvalid_1's binary_logloss: 0.588841\n",
      "Early stopping, best iteration is:\n",
      "[705]\ttraining's binary_logloss: 0.536202\tvalid_1's binary_logloss: 0.588651\n"
     ]
    },
    {
     "name": "stderr",
     "output_type": "stream",
     "text": [
      "tune_bagging_fraction_and_bagging_freq, val_score: 0.585851:  20%|##        | 2/10 [01:05<04:12, 31.57s/it]"
     ]
    },
    {
     "name": "stdout",
     "output_type": "stream",
     "text": [
      "Training until validation scores don't improve for 100 rounds\n",
      "[100]\ttraining's binary_logloss: 0.583101\tvalid_1's binary_logloss: 0.593512\n",
      "[200]\ttraining's binary_logloss: 0.572738\tvalid_1's binary_logloss: 0.591226\n",
      "[300]\ttraining's binary_logloss: 0.564358\tvalid_1's binary_logloss: 0.590451\n",
      "[400]\ttraining's binary_logloss: 0.556765\tvalid_1's binary_logloss: 0.590228\n",
      "[500]\ttraining's binary_logloss: 0.549774\tvalid_1's binary_logloss: 0.590095\n",
      "[600]\ttraining's binary_logloss: 0.542901\tvalid_1's binary_logloss: 0.590111\n",
      "Early stopping, best iteration is:\n",
      "[571]\ttraining's binary_logloss: 0.544881\tvalid_1's binary_logloss: 0.589966\n"
     ]
    },
    {
     "name": "stderr",
     "output_type": "stream",
     "text": [
      "tune_bagging_fraction_and_bagging_freq, val_score: 0.585851:  30%|###       | 3/10 [01:35<03:39, 31.33s/it]"
     ]
    },
    {
     "name": "stdout",
     "output_type": "stream",
     "text": [
      "Training until validation scores don't improve for 100 rounds\n",
      "[100]\ttraining's binary_logloss: 0.582661\tvalid_1's binary_logloss: 0.593015\n",
      "[200]\ttraining's binary_logloss: 0.572198\tvalid_1's binary_logloss: 0.590113\n",
      "[300]\ttraining's binary_logloss: 0.563824\tvalid_1's binary_logloss: 0.588924\n",
      "[400]\ttraining's binary_logloss: 0.555985\tvalid_1's binary_logloss: 0.588102\n",
      "[500]\ttraining's binary_logloss: 0.548633\tvalid_1's binary_logloss: 0.587298\n",
      "[600]\ttraining's binary_logloss: 0.541921\tvalid_1's binary_logloss: 0.586949\n",
      "[700]\ttraining's binary_logloss: 0.535324\tvalid_1's binary_logloss: 0.58669\n",
      "[800]\ttraining's binary_logloss: 0.528885\tvalid_1's binary_logloss: 0.586502\n",
      "[900]\ttraining's binary_logloss: 0.522645\tvalid_1's binary_logloss: 0.586434\n",
      "[1000]\ttraining's binary_logloss: 0.516724\tvalid_1's binary_logloss: 0.586355\n",
      "Did not meet early stopping. Best iteration is:\n",
      "[1000]\ttraining's binary_logloss: 0.516724\tvalid_1's binary_logloss: 0.586355\n"
     ]
    },
    {
     "name": "stderr",
     "output_type": "stream",
     "text": [
      "tune_bagging_fraction_and_bagging_freq, val_score: 0.585851:  40%|####      | 4/10 [02:24<03:39, 36.62s/it]"
     ]
    },
    {
     "name": "stdout",
     "output_type": "stream",
     "text": [
      "Training until validation scores don't improve for 100 rounds\n",
      "[100]\ttraining's binary_logloss: 0.582562\tvalid_1's binary_logloss: 0.593085\n",
      "[200]\ttraining's binary_logloss: 0.572401\tvalid_1's binary_logloss: 0.590451\n",
      "[300]\ttraining's binary_logloss: 0.563846\tvalid_1's binary_logloss: 0.589312\n",
      "[400]\ttraining's binary_logloss: 0.555646\tvalid_1's binary_logloss: 0.58801\n",
      "[500]\ttraining's binary_logloss: 0.548274\tvalid_1's binary_logloss: 0.58727\n",
      "[600]\ttraining's binary_logloss: 0.541196\tvalid_1's binary_logloss: 0.58687\n",
      "[700]\ttraining's binary_logloss: 0.534787\tvalid_1's binary_logloss: 0.586828\n",
      "[800]\ttraining's binary_logloss: 0.528561\tvalid_1's binary_logloss: 0.586549\n",
      "[900]\ttraining's binary_logloss: 0.5225\tvalid_1's binary_logloss: 0.586437\n",
      "Early stopping, best iteration is:\n",
      "[872]\ttraining's binary_logloss: 0.524126\tvalid_1's binary_logloss: 0.586423\n"
     ]
    },
    {
     "name": "stderr",
     "output_type": "stream",
     "text": [
      "tune_bagging_fraction_and_bagging_freq, val_score: 0.585851:  50%|#####     | 5/10 [03:08<03:14, 38.87s/it]"
     ]
    },
    {
     "name": "stdout",
     "output_type": "stream",
     "text": [
      "Training until validation scores don't improve for 100 rounds\n",
      "[100]\ttraining's binary_logloss: 0.583114\tvalid_1's binary_logloss: 0.593442\n",
      "[200]\ttraining's binary_logloss: 0.572907\tvalid_1's binary_logloss: 0.591277\n",
      "[300]\ttraining's binary_logloss: 0.564351\tvalid_1's binary_logloss: 0.590139\n",
      "[400]\ttraining's binary_logloss: 0.556855\tvalid_1's binary_logloss: 0.589979\n",
      "[500]\ttraining's binary_logloss: 0.549837\tvalid_1's binary_logloss: 0.590033\n",
      "Early stopping, best iteration is:\n",
      "[450]\ttraining's binary_logloss: 0.553343\tvalid_1's binary_logloss: 0.589921\n"
     ]
    },
    {
     "name": "stderr",
     "output_type": "stream",
     "text": [
      "tune_bagging_fraction_and_bagging_freq, val_score: 0.585851:  60%|######    | 6/10 [03:35<02:20, 35.01s/it]"
     ]
    },
    {
     "name": "stdout",
     "output_type": "stream",
     "text": [
      "Training until validation scores don't improve for 100 rounds\n",
      "[100]\ttraining's binary_logloss: 0.583517\tvalid_1's binary_logloss: 0.594051\n",
      "[200]\ttraining's binary_logloss: 0.573259\tvalid_1's binary_logloss: 0.591611\n",
      "[300]\ttraining's binary_logloss: 0.565432\tvalid_1's binary_logloss: 0.591387\n",
      "[400]\ttraining's binary_logloss: 0.55802\tvalid_1's binary_logloss: 0.590852\n",
      "[500]\ttraining's binary_logloss: 0.550954\tvalid_1's binary_logloss: 0.590687\n",
      "[600]\ttraining's binary_logloss: 0.544247\tvalid_1's binary_logloss: 0.59074\n",
      "Early stopping, best iteration is:\n",
      "[522]\ttraining's binary_logloss: 0.54937\tvalid_1's binary_logloss: 0.590572\n"
     ]
    },
    {
     "name": "stderr",
     "output_type": "stream",
     "text": [
      "tune_bagging_fraction_and_bagging_freq, val_score: 0.585851:  70%|#######   | 7/10 [04:00<01:36, 32.20s/it]"
     ]
    },
    {
     "name": "stdout",
     "output_type": "stream",
     "text": [
      "Training until validation scores don't improve for 100 rounds\n",
      "[100]\ttraining's binary_logloss: 0.583179\tvalid_1's binary_logloss: 0.593471\n",
      "[200]\ttraining's binary_logloss: 0.573014\tvalid_1's binary_logloss: 0.591013\n",
      "[300]\ttraining's binary_logloss: 0.564488\tvalid_1's binary_logloss: 0.59002\n",
      "[400]\ttraining's binary_logloss: 0.556952\tvalid_1's binary_logloss: 0.589506\n",
      "[500]\ttraining's binary_logloss: 0.5497\tvalid_1's binary_logloss: 0.589323\n",
      "[600]\ttraining's binary_logloss: 0.543195\tvalid_1's binary_logloss: 0.589281\n",
      "[700]\ttraining's binary_logloss: 0.536746\tvalid_1's binary_logloss: 0.589388\n",
      "Early stopping, best iteration is:\n",
      "[629]\ttraining's binary_logloss: 0.541219\tvalid_1's binary_logloss: 0.589211\n"
     ]
    },
    {
     "name": "stderr",
     "output_type": "stream",
     "text": [
      "tune_bagging_fraction_and_bagging_freq, val_score: 0.585851:  80%|########  | 8/10 [04:31<01:03, 31.91s/it]"
     ]
    },
    {
     "name": "stdout",
     "output_type": "stream",
     "text": [
      "Training until validation scores don't improve for 100 rounds\n",
      "[100]\ttraining's binary_logloss: 0.582964\tvalid_1's binary_logloss: 0.593292\n",
      "[200]\ttraining's binary_logloss: 0.572585\tvalid_1's binary_logloss: 0.59047\n",
      "[300]\ttraining's binary_logloss: 0.56431\tvalid_1's binary_logloss: 0.589306\n",
      "[400]\ttraining's binary_logloss: 0.556458\tvalid_1's binary_logloss: 0.588498\n",
      "[500]\ttraining's binary_logloss: 0.549128\tvalid_1's binary_logloss: 0.587991\n",
      "[600]\ttraining's binary_logloss: 0.542368\tvalid_1's binary_logloss: 0.587606\n",
      "[700]\ttraining's binary_logloss: 0.535691\tvalid_1's binary_logloss: 0.587314\n",
      "[800]\ttraining's binary_logloss: 0.529627\tvalid_1's binary_logloss: 0.587277\n",
      "Early stopping, best iteration is:\n",
      "[737]\ttraining's binary_logloss: 0.533466\tvalid_1's binary_logloss: 0.587214\n"
     ]
    },
    {
     "name": "stderr",
     "output_type": "stream",
     "text": [
      "tune_bagging_fraction_and_bagging_freq, val_score: 0.585851:  90%|######### | 9/10 [05:08<00:33, 33.44s/it]"
     ]
    },
    {
     "name": "stdout",
     "output_type": "stream",
     "text": [
      "Training until validation scores don't improve for 100 rounds\n",
      "[100]\ttraining's binary_logloss: 0.582787\tvalid_1's binary_logloss: 0.593305\n",
      "[200]\ttraining's binary_logloss: 0.572509\tvalid_1's binary_logloss: 0.590616\n",
      "[300]\ttraining's binary_logloss: 0.564389\tvalid_1's binary_logloss: 0.589507\n",
      "[400]\ttraining's binary_logloss: 0.556665\tvalid_1's binary_logloss: 0.588616\n",
      "[500]\ttraining's binary_logloss: 0.549385\tvalid_1's binary_logloss: 0.588148\n",
      "[600]\ttraining's binary_logloss: 0.542491\tvalid_1's binary_logloss: 0.587866\n",
      "[700]\ttraining's binary_logloss: 0.536031\tvalid_1's binary_logloss: 0.587841\n",
      "[800]\ttraining's binary_logloss: 0.529704\tvalid_1's binary_logloss: 0.587779\n",
      "Early stopping, best iteration is:\n",
      "[722]\ttraining's binary_logloss: 0.534588\tvalid_1's binary_logloss: 0.587721\n"
     ]
    },
    {
     "name": "stderr",
     "output_type": "stream",
     "text": [
      "tune_bagging_fraction_and_bagging_freq, val_score: 0.585851: 100%|##########| 10/10 [05:46<00:00, 34.63s/it]\n",
      "tune_feature_fraction, val_score: 0.585851:   0%|          | 0/3 [00:00<?, ?it/s]"
     ]
    },
    {
     "name": "stdout",
     "output_type": "stream",
     "text": [
      "Training until validation scores don't improve for 100 rounds\n",
      "[100]\ttraining's binary_logloss: 0.582684\tvalid_1's binary_logloss: 0.592951\n",
      "[200]\ttraining's binary_logloss: 0.572599\tvalid_1's binary_logloss: 0.590021\n",
      "[300]\ttraining's binary_logloss: 0.564183\tvalid_1's binary_logloss: 0.588669\n",
      "[400]\ttraining's binary_logloss: 0.556441\tvalid_1's binary_logloss: 0.587536\n",
      "[500]\ttraining's binary_logloss: 0.549643\tvalid_1's binary_logloss: 0.587243\n",
      "[600]\ttraining's binary_logloss: 0.542816\tvalid_1's binary_logloss: 0.586647\n",
      "[700]\ttraining's binary_logloss: 0.536236\tvalid_1's binary_logloss: 0.586485\n",
      "[800]\ttraining's binary_logloss: 0.529947\tvalid_1's binary_logloss: 0.586375\n",
      "[900]\ttraining's binary_logloss: 0.52413\tvalid_1's binary_logloss: 0.586299\n",
      "[1000]\ttraining's binary_logloss: 0.518345\tvalid_1's binary_logloss: 0.586364\n",
      "Did not meet early stopping. Best iteration is:\n",
      "[1000]\ttraining's binary_logloss: 0.518345\tvalid_1's binary_logloss: 0.586364\n"
     ]
    },
    {
     "name": "stderr",
     "output_type": "stream",
     "text": [
      "tune_feature_fraction, val_score: 0.585851:  33%|###3      | 1/3 [00:56<01:51, 55.69s/it]"
     ]
    },
    {
     "name": "stdout",
     "output_type": "stream",
     "text": [
      "Training until validation scores don't improve for 100 rounds\n",
      "[100]\ttraining's binary_logloss: 0.582632\tvalid_1's binary_logloss: 0.59307\n",
      "[200]\ttraining's binary_logloss: 0.572971\tvalid_1's binary_logloss: 0.590842\n",
      "[300]\ttraining's binary_logloss: 0.564243\tvalid_1's binary_logloss: 0.589198\n",
      "[400]\ttraining's binary_logloss: 0.556277\tvalid_1's binary_logloss: 0.588309\n",
      "[500]\ttraining's binary_logloss: 0.549255\tvalid_1's binary_logloss: 0.587689\n",
      "[600]\ttraining's binary_logloss: 0.542253\tvalid_1's binary_logloss: 0.587401\n",
      "[700]\ttraining's binary_logloss: 0.535398\tvalid_1's binary_logloss: 0.587074\n",
      "[800]\ttraining's binary_logloss: 0.529077\tvalid_1's binary_logloss: 0.586883\n",
      "[900]\ttraining's binary_logloss: 0.523291\tvalid_1's binary_logloss: 0.586968\n",
      "Early stopping, best iteration is:\n",
      "[831]\ttraining's binary_logloss: 0.527199\tvalid_1's binary_logloss: 0.586815\n"
     ]
    },
    {
     "name": "stderr",
     "output_type": "stream",
     "text": [
      "tune_feature_fraction, val_score: 0.585851:  67%|######6   | 2/3 [01:48<00:54, 54.93s/it]"
     ]
    },
    {
     "name": "stdout",
     "output_type": "stream",
     "text": [
      "Training until validation scores don't improve for 100 rounds\n",
      "[100]\ttraining's binary_logloss: 0.582498\tvalid_1's binary_logloss: 0.592592\n",
      "[200]\ttraining's binary_logloss: 0.572714\tvalid_1's binary_logloss: 0.590063\n",
      "[300]\ttraining's binary_logloss: 0.564032\tvalid_1's binary_logloss: 0.588558\n",
      "[400]\ttraining's binary_logloss: 0.556199\tvalid_1's binary_logloss: 0.587719\n",
      "[500]\ttraining's binary_logloss: 0.548771\tvalid_1's binary_logloss: 0.586912\n",
      "[600]\ttraining's binary_logloss: 0.541712\tvalid_1's binary_logloss: 0.58652\n",
      "[700]\ttraining's binary_logloss: 0.535278\tvalid_1's binary_logloss: 0.586317\n",
      "[800]\ttraining's binary_logloss: 0.528986\tvalid_1's binary_logloss: 0.586072\n",
      "[900]\ttraining's binary_logloss: 0.522798\tvalid_1's binary_logloss: 0.58586\n",
      "[1000]\ttraining's binary_logloss: 0.516964\tvalid_1's binary_logloss: 0.585851\n",
      "Did not meet early stopping. Best iteration is:\n",
      "[1000]\ttraining's binary_logloss: 0.516964\tvalid_1's binary_logloss: 0.585851\n"
     ]
    },
    {
     "name": "stderr",
     "output_type": "stream",
     "text": [
      "tune_feature_fraction, val_score: 0.585851: 100%|##########| 3/3 [02:45<00:00, 55.02s/it]\n",
      "tune_lambda_l1_and_lambda_l2, val_score: 0.585851:   0%|          | 0/20 [00:00<?, ?it/s]"
     ]
    },
    {
     "name": "stdout",
     "output_type": "stream",
     "text": [
      "Training until validation scores don't improve for 100 rounds\n",
      "[100]\ttraining's binary_logloss: 0.582498\tvalid_1's binary_logloss: 0.59259\n",
      "[200]\ttraining's binary_logloss: 0.572958\tvalid_1's binary_logloss: 0.590325\n",
      "[300]\ttraining's binary_logloss: 0.564361\tvalid_1's binary_logloss: 0.588752\n",
      "[400]\ttraining's binary_logloss: 0.556479\tvalid_1's binary_logloss: 0.58789\n",
      "[500]\ttraining's binary_logloss: 0.549033\tvalid_1's binary_logloss: 0.587109\n",
      "[600]\ttraining's binary_logloss: 0.542094\tvalid_1's binary_logloss: 0.58658\n",
      "[700]\ttraining's binary_logloss: 0.535516\tvalid_1's binary_logloss: 0.586245\n",
      "[800]\ttraining's binary_logloss: 0.529433\tvalid_1's binary_logloss: 0.586235\n",
      "Early stopping, best iteration is:\n",
      "[744]\ttraining's binary_logloss: 0.532721\tvalid_1's binary_logloss: 0.586131\n"
     ]
    },
    {
     "name": "stderr",
     "output_type": "stream",
     "text": [
      "tune_lambda_l1_and_lambda_l2, val_score: 0.585851:   5%|5         | 1/20 [00:47<14:59, 47.33s/it]"
     ]
    },
    {
     "name": "stdout",
     "output_type": "stream",
     "text": [
      "Training until validation scores don't improve for 100 rounds\n",
      "[100]\ttraining's binary_logloss: 0.582498\tvalid_1's binary_logloss: 0.59259\n",
      "[200]\ttraining's binary_logloss: 0.572958\tvalid_1's binary_logloss: 0.590327\n",
      "[300]\ttraining's binary_logloss: 0.564361\tvalid_1's binary_logloss: 0.588754\n",
      "[400]\ttraining's binary_logloss: 0.556479\tvalid_1's binary_logloss: 0.58789\n",
      "[500]\ttraining's binary_logloss: 0.549033\tvalid_1's binary_logloss: 0.58711\n",
      "[600]\ttraining's binary_logloss: 0.542094\tvalid_1's binary_logloss: 0.586581\n",
      "[700]\ttraining's binary_logloss: 0.535516\tvalid_1's binary_logloss: 0.586246\n",
      "[800]\ttraining's binary_logloss: 0.529432\tvalid_1's binary_logloss: 0.586236\n",
      "Early stopping, best iteration is:\n",
      "[744]\ttraining's binary_logloss: 0.532721\tvalid_1's binary_logloss: 0.586132\n"
     ]
    },
    {
     "name": "stderr",
     "output_type": "stream",
     "text": [
      "tune_lambda_l1_and_lambda_l2, val_score: 0.585851:  10%|#         | 2/20 [01:35<14:18, 47.69s/it]"
     ]
    },
    {
     "name": "stdout",
     "output_type": "stream",
     "text": [
      "Training until validation scores don't improve for 100 rounds\n",
      "[100]\ttraining's binary_logloss: 0.582774\tvalid_1's binary_logloss: 0.592876\n",
      "[200]\ttraining's binary_logloss: 0.57259\tvalid_1's binary_logloss: 0.590076\n",
      "[300]\ttraining's binary_logloss: 0.563858\tvalid_1's binary_logloss: 0.588351\n",
      "[400]\ttraining's binary_logloss: 0.556055\tvalid_1's binary_logloss: 0.5876\n",
      "[500]\ttraining's binary_logloss: 0.548769\tvalid_1's binary_logloss: 0.587069\n",
      "[600]\ttraining's binary_logloss: 0.542083\tvalid_1's binary_logloss: 0.586755\n",
      "[700]\ttraining's binary_logloss: 0.535603\tvalid_1's binary_logloss: 0.586536\n",
      "[800]\ttraining's binary_logloss: 0.529413\tvalid_1's binary_logloss: 0.586273\n",
      "[900]\ttraining's binary_logloss: 0.523134\tvalid_1's binary_logloss: 0.586186\n",
      "[1000]\ttraining's binary_logloss: 0.516869\tvalid_1's binary_logloss: 0.586006\n",
      "Did not meet early stopping. Best iteration is:\n",
      "[1000]\ttraining's binary_logloss: 0.516869\tvalid_1's binary_logloss: 0.586006\n"
     ]
    },
    {
     "name": "stderr",
     "output_type": "stream",
     "text": [
      "tune_lambda_l1_and_lambda_l2, val_score: 0.585851:  15%|#5        | 3/20 [02:31<14:09, 49.96s/it]"
     ]
    },
    {
     "name": "stdout",
     "output_type": "stream",
     "text": [
      "Training until validation scores don't improve for 100 rounds\n",
      "[100]\ttraining's binary_logloss: 0.58291\tvalid_1's binary_logloss: 0.593188\n",
      "[200]\ttraining's binary_logloss: 0.573239\tvalid_1's binary_logloss: 0.590371\n",
      "[300]\ttraining's binary_logloss: 0.565175\tvalid_1's binary_logloss: 0.588868\n",
      "[400]\ttraining's binary_logloss: 0.557326\tvalid_1's binary_logloss: 0.587734\n",
      "[500]\ttraining's binary_logloss: 0.550204\tvalid_1's binary_logloss: 0.587046\n",
      "[600]\ttraining's binary_logloss: 0.543483\tvalid_1's binary_logloss: 0.586353\n",
      "[700]\ttraining's binary_logloss: 0.53749\tvalid_1's binary_logloss: 0.585933\n",
      "[800]\ttraining's binary_logloss: 0.531363\tvalid_1's binary_logloss: 0.585878\n",
      "[900]\ttraining's binary_logloss: 0.525456\tvalid_1's binary_logloss: 0.585783\n",
      "[1000]\ttraining's binary_logloss: 0.51994\tvalid_1's binary_logloss: 0.585704\n",
      "Did not meet early stopping. Best iteration is:\n",
      "[1000]\ttraining's binary_logloss: 0.51994\tvalid_1's binary_logloss: 0.585704\n"
     ]
    },
    {
     "name": "stderr",
     "output_type": "stream",
     "text": [
      "tune_lambda_l1_and_lambda_l2, val_score: 0.585704:  20%|##        | 4/20 [03:28<13:52, 52.03s/it]"
     ]
    },
    {
     "name": "stdout",
     "output_type": "stream",
     "text": [
      "Training until validation scores don't improve for 100 rounds\n",
      "[100]\ttraining's binary_logloss: 0.582888\tvalid_1's binary_logloss: 0.593119\n",
      "[200]\ttraining's binary_logloss: 0.5728\tvalid_1's binary_logloss: 0.590371\n",
      "[300]\ttraining's binary_logloss: 0.564514\tvalid_1's binary_logloss: 0.589118\n",
      "[400]\ttraining's binary_logloss: 0.556982\tvalid_1's binary_logloss: 0.588287\n",
      "[500]\ttraining's binary_logloss: 0.549189\tvalid_1's binary_logloss: 0.587264\n",
      "[600]\ttraining's binary_logloss: 0.542393\tvalid_1's binary_logloss: 0.586761\n",
      "[700]\ttraining's binary_logloss: 0.536028\tvalid_1's binary_logloss: 0.586465\n",
      "[800]\ttraining's binary_logloss: 0.529506\tvalid_1's binary_logloss: 0.586309\n",
      "[900]\ttraining's binary_logloss: 0.523724\tvalid_1's binary_logloss: 0.586357\n",
      "Early stopping, best iteration is:\n",
      "[821]\ttraining's binary_logloss: 0.528188\tvalid_1's binary_logloss: 0.586269\n"
     ]
    },
    {
     "name": "stderr",
     "output_type": "stream",
     "text": [
      "tune_lambda_l1_and_lambda_l2, val_score: 0.585704:  25%|##5       | 5/20 [04:20<13:01, 52.09s/it]"
     ]
    },
    {
     "name": "stdout",
     "output_type": "stream",
     "text": [
      "Training until validation scores don't improve for 100 rounds\n",
      "[100]\ttraining's binary_logloss: 0.583236\tvalid_1's binary_logloss: 0.593464\n",
      "[200]\ttraining's binary_logloss: 0.573269\tvalid_1's binary_logloss: 0.590398\n",
      "[300]\ttraining's binary_logloss: 0.565379\tvalid_1's binary_logloss: 0.589047\n",
      "[400]\ttraining's binary_logloss: 0.55766\tvalid_1's binary_logloss: 0.588008\n",
      "[500]\ttraining's binary_logloss: 0.550687\tvalid_1's binary_logloss: 0.587181\n",
      "[600]\ttraining's binary_logloss: 0.544369\tvalid_1's binary_logloss: 0.586908\n",
      "[700]\ttraining's binary_logloss: 0.538295\tvalid_1's binary_logloss: 0.586708\n",
      "[800]\ttraining's binary_logloss: 0.532064\tvalid_1's binary_logloss: 0.586437\n",
      "[900]\ttraining's binary_logloss: 0.526586\tvalid_1's binary_logloss: 0.586168\n",
      "[1000]\ttraining's binary_logloss: 0.52076\tvalid_1's binary_logloss: 0.58579\n",
      "Did not meet early stopping. Best iteration is:\n",
      "[1000]\ttraining's binary_logloss: 0.52076\tvalid_1's binary_logloss: 0.58579\n"
     ]
    },
    {
     "name": "stderr",
     "output_type": "stream",
     "text": [
      "tune_lambda_l1_and_lambda_l2, val_score: 0.585704:  30%|###       | 6/20 [05:17<12:29, 53.56s/it]"
     ]
    },
    {
     "name": "stdout",
     "output_type": "stream",
     "text": [
      "Training until validation scores don't improve for 100 rounds\n",
      "[100]\ttraining's binary_logloss: 0.582498\tvalid_1's binary_logloss: 0.592592\n",
      "[200]\ttraining's binary_logloss: 0.572714\tvalid_1's binary_logloss: 0.590063\n",
      "[300]\ttraining's binary_logloss: 0.564032\tvalid_1's binary_logloss: 0.588558\n",
      "[400]\ttraining's binary_logloss: 0.556199\tvalid_1's binary_logloss: 0.587719\n",
      "[500]\ttraining's binary_logloss: 0.548771\tvalid_1's binary_logloss: 0.586912\n",
      "[600]\ttraining's binary_logloss: 0.541712\tvalid_1's binary_logloss: 0.58652\n",
      "[700]\ttraining's binary_logloss: 0.535278\tvalid_1's binary_logloss: 0.586317\n",
      "[800]\ttraining's binary_logloss: 0.528986\tvalid_1's binary_logloss: 0.586072\n",
      "[900]\ttraining's binary_logloss: 0.522798\tvalid_1's binary_logloss: 0.58586\n",
      "[1000]\ttraining's binary_logloss: 0.517077\tvalid_1's binary_logloss: 0.585685\n",
      "Did not meet early stopping. Best iteration is:\n",
      "[1000]\ttraining's binary_logloss: 0.517077\tvalid_1's binary_logloss: 0.585685\n"
     ]
    },
    {
     "name": "stderr",
     "output_type": "stream",
     "text": [
      "tune_lambda_l1_and_lambda_l2, val_score: 0.585685:  35%|###5      | 7/20 [06:12<11:41, 54.00s/it]"
     ]
    },
    {
     "name": "stdout",
     "output_type": "stream",
     "text": [
      "Training until validation scores don't improve for 100 rounds\n",
      "[100]\ttraining's binary_logloss: 0.582837\tvalid_1's binary_logloss: 0.593255\n",
      "[200]\ttraining's binary_logloss: 0.57269\tvalid_1's binary_logloss: 0.5903\n",
      "[300]\ttraining's binary_logloss: 0.56419\tvalid_1's binary_logloss: 0.588975\n",
      "[400]\ttraining's binary_logloss: 0.556271\tvalid_1's binary_logloss: 0.587816\n",
      "[500]\ttraining's binary_logloss: 0.549258\tvalid_1's binary_logloss: 0.587437\n",
      "[600]\ttraining's binary_logloss: 0.542261\tvalid_1's binary_logloss: 0.587017\n",
      "[700]\ttraining's binary_logloss: 0.535604\tvalid_1's binary_logloss: 0.586468\n",
      "[800]\ttraining's binary_logloss: 0.529128\tvalid_1's binary_logloss: 0.586091\n",
      "[900]\ttraining's binary_logloss: 0.522986\tvalid_1's binary_logloss: 0.586081\n",
      "[1000]\ttraining's binary_logloss: 0.51698\tvalid_1's binary_logloss: 0.585943\n",
      "Did not meet early stopping. Best iteration is:\n",
      "[1000]\ttraining's binary_logloss: 0.51698\tvalid_1's binary_logloss: 0.585943\n"
     ]
    },
    {
     "name": "stderr",
     "output_type": "stream",
     "text": [
      "tune_lambda_l1_and_lambda_l2, val_score: 0.585685:  40%|####      | 8/20 [07:08<10:54, 54.53s/it]"
     ]
    },
    {
     "name": "stdout",
     "output_type": "stream",
     "text": [
      "Training until validation scores don't improve for 100 rounds\n",
      "[100]\ttraining's binary_logloss: 0.582498\tvalid_1's binary_logloss: 0.59259\n",
      "[200]\ttraining's binary_logloss: 0.572958\tvalid_1's binary_logloss: 0.590325\n",
      "[300]\ttraining's binary_logloss: 0.564361\tvalid_1's binary_logloss: 0.588752\n",
      "[400]\ttraining's binary_logloss: 0.556576\tvalid_1's binary_logloss: 0.588041\n",
      "[500]\ttraining's binary_logloss: 0.549225\tvalid_1's binary_logloss: 0.587412\n",
      "[600]\ttraining's binary_logloss: 0.542409\tvalid_1's binary_logloss: 0.587114\n",
      "[700]\ttraining's binary_logloss: 0.535697\tvalid_1's binary_logloss: 0.586603\n",
      "[800]\ttraining's binary_logloss: 0.529189\tvalid_1's binary_logloss: 0.586226\n",
      "[900]\ttraining's binary_logloss: 0.523057\tvalid_1's binary_logloss: 0.58601\n",
      "[1000]\ttraining's binary_logloss: 0.517214\tvalid_1's binary_logloss: 0.585954\n",
      "Did not meet early stopping. Best iteration is:\n",
      "[1000]\ttraining's binary_logloss: 0.517214\tvalid_1's binary_logloss: 0.585954\n"
     ]
    },
    {
     "name": "stderr",
     "output_type": "stream",
     "text": [
      "tune_lambda_l1_and_lambda_l2, val_score: 0.585685:  45%|####5     | 9/20 [08:04<10:05, 55.00s/it]"
     ]
    },
    {
     "name": "stdout",
     "output_type": "stream",
     "text": [
      "Training until validation scores don't improve for 100 rounds\n",
      "[100]\ttraining's binary_logloss: 0.58272\tvalid_1's binary_logloss: 0.59286\n",
      "[200]\ttraining's binary_logloss: 0.572633\tvalid_1's binary_logloss: 0.590254\n",
      "[300]\ttraining's binary_logloss: 0.564191\tvalid_1's binary_logloss: 0.588917\n",
      "[400]\ttraining's binary_logloss: 0.556524\tvalid_1's binary_logloss: 0.588026\n",
      "[500]\ttraining's binary_logloss: 0.548832\tvalid_1's binary_logloss: 0.587257\n",
      "[600]\ttraining's binary_logloss: 0.541967\tvalid_1's binary_logloss: 0.586821\n",
      "[700]\ttraining's binary_logloss: 0.535637\tvalid_1's binary_logloss: 0.586675\n",
      "[800]\ttraining's binary_logloss: 0.529319\tvalid_1's binary_logloss: 0.586457\n",
      "[900]\ttraining's binary_logloss: 0.522941\tvalid_1's binary_logloss: 0.586424\n",
      "[1000]\ttraining's binary_logloss: 0.516798\tvalid_1's binary_logloss: 0.586338\n",
      "Did not meet early stopping. Best iteration is:\n",
      "[1000]\ttraining's binary_logloss: 0.516798\tvalid_1's binary_logloss: 0.586338\n"
     ]
    },
    {
     "name": "stderr",
     "output_type": "stream",
     "text": [
      "tune_lambda_l1_and_lambda_l2, val_score: 0.585685:  50%|#####     | 10/20 [09:00<09:13, 55.36s/it]"
     ]
    },
    {
     "name": "stdout",
     "output_type": "stream",
     "text": [
      "Training until validation scores don't improve for 100 rounds\n",
      "[100]\ttraining's binary_logloss: 0.582498\tvalid_1's binary_logloss: 0.592592\n",
      "[200]\ttraining's binary_logloss: 0.572714\tvalid_1's binary_logloss: 0.590063\n",
      "[300]\ttraining's binary_logloss: 0.564032\tvalid_1's binary_logloss: 0.588558\n",
      "[400]\ttraining's binary_logloss: 0.556199\tvalid_1's binary_logloss: 0.587719\n",
      "[500]\ttraining's binary_logloss: 0.548771\tvalid_1's binary_logloss: 0.586912\n",
      "[600]\ttraining's binary_logloss: 0.541712\tvalid_1's binary_logloss: 0.586521\n",
      "[700]\ttraining's binary_logloss: 0.535278\tvalid_1's binary_logloss: 0.586318\n",
      "[800]\ttraining's binary_logloss: 0.528986\tvalid_1's binary_logloss: 0.586072\n",
      "[900]\ttraining's binary_logloss: 0.522798\tvalid_1's binary_logloss: 0.58586\n",
      "[1000]\ttraining's binary_logloss: 0.517077\tvalid_1's binary_logloss: 0.585685\n",
      "Did not meet early stopping. Best iteration is:\n",
      "[1000]\ttraining's binary_logloss: 0.517077\tvalid_1's binary_logloss: 0.585685\n"
     ]
    },
    {
     "name": "stderr",
     "output_type": "stream",
     "text": [
      "tune_lambda_l1_and_lambda_l2, val_score: 0.585685:  55%|#####5    | 11/20 [09:57<08:21, 55.74s/it]"
     ]
    },
    {
     "name": "stdout",
     "output_type": "stream",
     "text": [
      "Training until validation scores don't improve for 100 rounds\n",
      "[100]\ttraining's binary_logloss: 0.582498\tvalid_1's binary_logloss: 0.592592\n",
      "[200]\ttraining's binary_logloss: 0.572714\tvalid_1's binary_logloss: 0.590063\n",
      "[300]\ttraining's binary_logloss: 0.564032\tvalid_1's binary_logloss: 0.58856\n",
      "[400]\ttraining's binary_logloss: 0.556199\tvalid_1's binary_logloss: 0.587721\n",
      "[500]\ttraining's binary_logloss: 0.548771\tvalid_1's binary_logloss: 0.586914\n",
      "[600]\ttraining's binary_logloss: 0.541712\tvalid_1's binary_logloss: 0.586522\n",
      "[700]\ttraining's binary_logloss: 0.535278\tvalid_1's binary_logloss: 0.58632\n",
      "[800]\ttraining's binary_logloss: 0.528986\tvalid_1's binary_logloss: 0.586074\n",
      "[900]\ttraining's binary_logloss: 0.522798\tvalid_1's binary_logloss: 0.585863\n",
      "[1000]\ttraining's binary_logloss: 0.516964\tvalid_1's binary_logloss: 0.585853\n",
      "Did not meet early stopping. Best iteration is:\n",
      "[1000]\ttraining's binary_logloss: 0.516964\tvalid_1's binary_logloss: 0.585853\n"
     ]
    },
    {
     "name": "stderr",
     "output_type": "stream",
     "text": [
      "tune_lambda_l1_and_lambda_l2, val_score: 0.585685:  60%|######    | 12/20 [10:56<07:33, 56.72s/it]"
     ]
    },
    {
     "name": "stdout",
     "output_type": "stream",
     "text": [
      "Training until validation scores don't improve for 100 rounds\n",
      "[100]\ttraining's binary_logloss: 0.582498\tvalid_1's binary_logloss: 0.592592\n",
      "[200]\ttraining's binary_logloss: 0.572714\tvalid_1's binary_logloss: 0.590063\n",
      "[300]\ttraining's binary_logloss: 0.564032\tvalid_1's binary_logloss: 0.588558\n",
      "[400]\ttraining's binary_logloss: 0.556199\tvalid_1's binary_logloss: 0.58772\n",
      "[500]\ttraining's binary_logloss: 0.548771\tvalid_1's binary_logloss: 0.586913\n",
      "[600]\ttraining's binary_logloss: 0.541712\tvalid_1's binary_logloss: 0.586521\n",
      "[700]\ttraining's binary_logloss: 0.535278\tvalid_1's binary_logloss: 0.586318\n",
      "[800]\ttraining's binary_logloss: 0.528986\tvalid_1's binary_logloss: 0.586073\n",
      "[900]\ttraining's binary_logloss: 0.522798\tvalid_1's binary_logloss: 0.585861\n",
      "[1000]\ttraining's binary_logloss: 0.517077\tvalid_1's binary_logloss: 0.585686\n",
      "Did not meet early stopping. Best iteration is:\n",
      "[1000]\ttraining's binary_logloss: 0.517077\tvalid_1's binary_logloss: 0.585686\n"
     ]
    },
    {
     "name": "stderr",
     "output_type": "stream",
     "text": [
      "tune_lambda_l1_and_lambda_l2, val_score: 0.585685:  65%|######5   | 13/20 [11:53<06:37, 56.83s/it]"
     ]
    },
    {
     "name": "stdout",
     "output_type": "stream",
     "text": [
      "Training until validation scores don't improve for 100 rounds\n",
      "[100]\ttraining's binary_logloss: 0.582498\tvalid_1's binary_logloss: 0.592592\n",
      "[200]\ttraining's binary_logloss: 0.572714\tvalid_1's binary_logloss: 0.590063\n",
      "[300]\ttraining's binary_logloss: 0.564032\tvalid_1's binary_logloss: 0.588558\n",
      "[400]\ttraining's binary_logloss: 0.556199\tvalid_1's binary_logloss: 0.58772\n",
      "[500]\ttraining's binary_logloss: 0.548771\tvalid_1's binary_logloss: 0.586913\n",
      "[600]\ttraining's binary_logloss: 0.541712\tvalid_1's binary_logloss: 0.586521\n",
      "[700]\ttraining's binary_logloss: 0.535278\tvalid_1's binary_logloss: 0.586319\n",
      "[800]\ttraining's binary_logloss: 0.528986\tvalid_1's binary_logloss: 0.586073\n",
      "[900]\ttraining's binary_logloss: 0.522798\tvalid_1's binary_logloss: 0.585862\n",
      "[1000]\ttraining's binary_logloss: 0.517077\tvalid_1's binary_logloss: 0.585686\n",
      "Did not meet early stopping. Best iteration is:\n",
      "[1000]\ttraining's binary_logloss: 0.517077\tvalid_1's binary_logloss: 0.585686\n"
     ]
    },
    {
     "name": "stderr",
     "output_type": "stream",
     "text": [
      "tune_lambda_l1_and_lambda_l2, val_score: 0.585685:  70%|#######   | 14/20 [12:49<05:40, 56.77s/it]"
     ]
    },
    {
     "name": "stdout",
     "output_type": "stream",
     "text": [
      "Training until validation scores don't improve for 100 rounds\n",
      "[100]\ttraining's binary_logloss: 0.582498\tvalid_1's binary_logloss: 0.59259\n",
      "[200]\ttraining's binary_logloss: 0.572958\tvalid_1's binary_logloss: 0.590325\n",
      "[300]\ttraining's binary_logloss: 0.564361\tvalid_1's binary_logloss: 0.588752\n",
      "[400]\ttraining's binary_logloss: 0.556576\tvalid_1's binary_logloss: 0.588041\n",
      "[500]\ttraining's binary_logloss: 0.549208\tvalid_1's binary_logloss: 0.587317\n",
      "[600]\ttraining's binary_logloss: 0.542228\tvalid_1's binary_logloss: 0.586917\n",
      "[700]\ttraining's binary_logloss: 0.535656\tvalid_1's binary_logloss: 0.58664\n",
      "[800]\ttraining's binary_logloss: 0.529625\tvalid_1's binary_logloss: 0.586615\n",
      "[900]\ttraining's binary_logloss: 0.523459\tvalid_1's binary_logloss: 0.586382\n",
      "[1000]\ttraining's binary_logloss: 0.517589\tvalid_1's binary_logloss: 0.586311\n",
      "Did not meet early stopping. Best iteration is:\n",
      "[1000]\ttraining's binary_logloss: 0.517589\tvalid_1's binary_logloss: 0.586311\n"
     ]
    },
    {
     "name": "stderr",
     "output_type": "stream",
     "text": [
      "tune_lambda_l1_and_lambda_l2, val_score: 0.585685:  75%|#######5  | 15/20 [13:49<04:48, 57.63s/it]"
     ]
    },
    {
     "name": "stdout",
     "output_type": "stream",
     "text": [
      "Training until validation scores don't improve for 100 rounds\n",
      "[100]\ttraining's binary_logloss: 0.582498\tvalid_1's binary_logloss: 0.59259\n",
      "[200]\ttraining's binary_logloss: 0.572958\tvalid_1's binary_logloss: 0.590325\n",
      "[300]\ttraining's binary_logloss: 0.564361\tvalid_1's binary_logloss: 0.588752\n",
      "[400]\ttraining's binary_logloss: 0.556576\tvalid_1's binary_logloss: 0.588041\n",
      "[500]\ttraining's binary_logloss: 0.549124\tvalid_1's binary_logloss: 0.587222\n",
      "[600]\ttraining's binary_logloss: 0.542182\tvalid_1's binary_logloss: 0.586672\n",
      "[700]\ttraining's binary_logloss: 0.535701\tvalid_1's binary_logloss: 0.586447\n",
      "[800]\ttraining's binary_logloss: 0.529391\tvalid_1's binary_logloss: 0.586123\n",
      "[900]\ttraining's binary_logloss: 0.523426\tvalid_1's binary_logloss: 0.586067\n",
      "[1000]\ttraining's binary_logloss: 0.51745\tvalid_1's binary_logloss: 0.58609\n",
      "Did not meet early stopping. Best iteration is:\n",
      "[1000]\ttraining's binary_logloss: 0.51745\tvalid_1's binary_logloss: 0.58609\n"
     ]
    },
    {
     "name": "stderr",
     "output_type": "stream",
     "text": [
      "tune_lambda_l1_and_lambda_l2, val_score: 0.585685:  80%|########  | 16/20 [14:48<03:52, 58.06s/it]"
     ]
    },
    {
     "name": "stdout",
     "output_type": "stream",
     "text": [
      "Training until validation scores don't improve for 100 rounds\n",
      "[100]\ttraining's binary_logloss: 0.582974\tvalid_1's binary_logloss: 0.593306\n",
      "[200]\ttraining's binary_logloss: 0.57282\tvalid_1's binary_logloss: 0.590535\n",
      "[300]\ttraining's binary_logloss: 0.5646\tvalid_1's binary_logloss: 0.589191\n",
      "[400]\ttraining's binary_logloss: 0.556353\tvalid_1's binary_logloss: 0.587867\n",
      "[500]\ttraining's binary_logloss: 0.549459\tvalid_1's binary_logloss: 0.587618\n",
      "[600]\ttraining's binary_logloss: 0.542313\tvalid_1's binary_logloss: 0.586974\n",
      "[700]\ttraining's binary_logloss: 0.535929\tvalid_1's binary_logloss: 0.586709\n",
      "[800]\ttraining's binary_logloss: 0.529724\tvalid_1's binary_logloss: 0.58663\n",
      "[900]\ttraining's binary_logloss: 0.52353\tvalid_1's binary_logloss: 0.586162\n",
      "[1000]\ttraining's binary_logloss: 0.517518\tvalid_1's binary_logloss: 0.585844\n",
      "Did not meet early stopping. Best iteration is:\n",
      "[1000]\ttraining's binary_logloss: 0.517518\tvalid_1's binary_logloss: 0.585844\n"
     ]
    },
    {
     "name": "stderr",
     "output_type": "stream",
     "text": [
      "tune_lambda_l1_and_lambda_l2, val_score: 0.585685:  85%|########5 | 17/20 [15:48<02:56, 58.68s/it]"
     ]
    },
    {
     "name": "stdout",
     "output_type": "stream",
     "text": [
      "Training until validation scores don't improve for 100 rounds\n",
      "[100]\ttraining's binary_logloss: 0.582498\tvalid_1's binary_logloss: 0.592592\n",
      "[200]\ttraining's binary_logloss: 0.572714\tvalid_1's binary_logloss: 0.590065\n",
      "[300]\ttraining's binary_logloss: 0.564032\tvalid_1's binary_logloss: 0.588562\n",
      "[400]\ttraining's binary_logloss: 0.556199\tvalid_1's binary_logloss: 0.587723\n",
      "[500]\ttraining's binary_logloss: 0.548771\tvalid_1's binary_logloss: 0.586916\n",
      "[600]\ttraining's binary_logloss: 0.541712\tvalid_1's binary_logloss: 0.586525\n",
      "[700]\ttraining's binary_logloss: 0.535278\tvalid_1's binary_logloss: 0.586322\n",
      "[800]\ttraining's binary_logloss: 0.528986\tvalid_1's binary_logloss: 0.586076\n",
      "[900]\ttraining's binary_logloss: 0.522798\tvalid_1's binary_logloss: 0.585864\n",
      "[1000]\ttraining's binary_logloss: 0.517077\tvalid_1's binary_logloss: 0.585689\n",
      "Did not meet early stopping. Best iteration is:\n",
      "[1000]\ttraining's binary_logloss: 0.517077\tvalid_1's binary_logloss: 0.585689\n"
     ]
    },
    {
     "name": "stderr",
     "output_type": "stream",
     "text": [
      "tune_lambda_l1_and_lambda_l2, val_score: 0.585685:  90%|######### | 18/20 [16:48<01:57, 58.94s/it]"
     ]
    },
    {
     "name": "stdout",
     "output_type": "stream",
     "text": [
      "Training until validation scores don't improve for 100 rounds\n",
      "[100]\ttraining's binary_logloss: 0.582498\tvalid_1's binary_logloss: 0.592592\n",
      "[200]\ttraining's binary_logloss: 0.572714\tvalid_1's binary_logloss: 0.590063\n",
      "[300]\ttraining's binary_logloss: 0.564032\tvalid_1's binary_logloss: 0.58856\n",
      "[400]\ttraining's binary_logloss: 0.556199\tvalid_1's binary_logloss: 0.587721\n",
      "[500]\ttraining's binary_logloss: 0.548771\tvalid_1's binary_logloss: 0.586914\n",
      "[600]\ttraining's binary_logloss: 0.541712\tvalid_1's binary_logloss: 0.586522\n",
      "[700]\ttraining's binary_logloss: 0.535278\tvalid_1's binary_logloss: 0.58632\n",
      "[800]\ttraining's binary_logloss: 0.528986\tvalid_1's binary_logloss: 0.586075\n",
      "[900]\ttraining's binary_logloss: 0.522798\tvalid_1's binary_logloss: 0.585863\n",
      "[1000]\ttraining's binary_logloss: 0.516964\tvalid_1's binary_logloss: 0.585854\n",
      "Did not meet early stopping. Best iteration is:\n",
      "[1000]\ttraining's binary_logloss: 0.516964\tvalid_1's binary_logloss: 0.585854\n"
     ]
    },
    {
     "name": "stderr",
     "output_type": "stream",
     "text": [
      "tune_lambda_l1_and_lambda_l2, val_score: 0.585685:  95%|#########5| 19/20 [17:46<00:58, 58.77s/it]"
     ]
    },
    {
     "name": "stdout",
     "output_type": "stream",
     "text": [
      "Training until validation scores don't improve for 100 rounds\n",
      "[100]\ttraining's binary_logloss: 0.58272\tvalid_1's binary_logloss: 0.592861\n",
      "[200]\ttraining's binary_logloss: 0.572707\tvalid_1's binary_logloss: 0.590335\n",
      "[300]\ttraining's binary_logloss: 0.56422\tvalid_1's binary_logloss: 0.588855\n",
      "[400]\ttraining's binary_logloss: 0.556624\tvalid_1's binary_logloss: 0.588036\n",
      "[500]\ttraining's binary_logloss: 0.549275\tvalid_1's binary_logloss: 0.587353\n",
      "[600]\ttraining's binary_logloss: 0.542324\tvalid_1's binary_logloss: 0.587009\n",
      "[700]\ttraining's binary_logloss: 0.535825\tvalid_1's binary_logloss: 0.586767\n",
      "[800]\ttraining's binary_logloss: 0.529456\tvalid_1's binary_logloss: 0.586612\n",
      "[900]\ttraining's binary_logloss: 0.523025\tvalid_1's binary_logloss: 0.586377\n",
      "[1000]\ttraining's binary_logloss: 0.516892\tvalid_1's binary_logloss: 0.586215\n",
      "Did not meet early stopping. Best iteration is:\n",
      "[1000]\ttraining's binary_logloss: 0.516892\tvalid_1's binary_logloss: 0.586215\n"
     ]
    },
    {
     "name": "stderr",
     "output_type": "stream",
     "text": [
      "tune_lambda_l1_and_lambda_l2, val_score: 0.585685: 100%|##########| 20/20 [18:42<00:00, 56.11s/it]\n",
      "tune_min_child_samples, val_score: 0.585685:   0%|          | 0/5 [00:00<?, ?it/s]"
     ]
    },
    {
     "name": "stdout",
     "output_type": "stream",
     "text": [
      "Training until validation scores don't improve for 100 rounds\n",
      "[100]\ttraining's binary_logloss: 0.582782\tvalid_1's binary_logloss: 0.593135\n",
      "[200]\ttraining's binary_logloss: 0.572443\tvalid_1's binary_logloss: 0.590427\n",
      "[300]\ttraining's binary_logloss: 0.564136\tvalid_1's binary_logloss: 0.589399\n",
      "[400]\ttraining's binary_logloss: 0.55624\tvalid_1's binary_logloss: 0.588695\n",
      "[500]\ttraining's binary_logloss: 0.549034\tvalid_1's binary_logloss: 0.588373\n",
      "[600]\ttraining's binary_logloss: 0.541977\tvalid_1's binary_logloss: 0.587935\n",
      "[700]\ttraining's binary_logloss: 0.535028\tvalid_1's binary_logloss: 0.587588\n",
      "[800]\ttraining's binary_logloss: 0.528513\tvalid_1's binary_logloss: 0.587448\n",
      "[900]\ttraining's binary_logloss: 0.522548\tvalid_1's binary_logloss: 0.587343\n",
      "[1000]\ttraining's binary_logloss: 0.516499\tvalid_1's binary_logloss: 0.587259\n",
      "Did not meet early stopping. Best iteration is:\n",
      "[1000]\ttraining's binary_logloss: 0.516499\tvalid_1's binary_logloss: 0.587259\n"
     ]
    },
    {
     "name": "stderr",
     "output_type": "stream",
     "text": [
      "tune_min_child_samples, val_score: 0.585685:  20%|##        | 1/5 [00:56<03:46, 56.50s/it]"
     ]
    },
    {
     "name": "stdout",
     "output_type": "stream",
     "text": [
      "Training until validation scores don't improve for 100 rounds\n",
      "[100]\ttraining's binary_logloss: 0.582873\tvalid_1's binary_logloss: 0.593177\n",
      "[200]\ttraining's binary_logloss: 0.572647\tvalid_1's binary_logloss: 0.590596\n",
      "[300]\ttraining's binary_logloss: 0.564007\tvalid_1's binary_logloss: 0.589238\n",
      "[400]\ttraining's binary_logloss: 0.556289\tvalid_1's binary_logloss: 0.588487\n",
      "[500]\ttraining's binary_logloss: 0.54874\tvalid_1's binary_logloss: 0.587979\n",
      "[600]\ttraining's binary_logloss: 0.54174\tvalid_1's binary_logloss: 0.587587\n",
      "[700]\ttraining's binary_logloss: 0.534767\tvalid_1's binary_logloss: 0.586979\n",
      "[800]\ttraining's binary_logloss: 0.528407\tvalid_1's binary_logloss: 0.586786\n",
      "[900]\ttraining's binary_logloss: 0.52225\tvalid_1's binary_logloss: 0.586704\n",
      "[1000]\ttraining's binary_logloss: 0.516004\tvalid_1's binary_logloss: 0.586475\n",
      "Did not meet early stopping. Best iteration is:\n",
      "[1000]\ttraining's binary_logloss: 0.516004\tvalid_1's binary_logloss: 0.586475\n"
     ]
    },
    {
     "name": "stderr",
     "output_type": "stream",
     "text": [
      "tune_min_child_samples, val_score: 0.585685:  40%|####      | 2/5 [01:52<02:49, 56.39s/it]"
     ]
    },
    {
     "name": "stdout",
     "output_type": "stream",
     "text": [
      "Training until validation scores don't improve for 100 rounds\n",
      "[100]\ttraining's binary_logloss: 0.582765\tvalid_1's binary_logloss: 0.592971\n",
      "[200]\ttraining's binary_logloss: 0.572804\tvalid_1's binary_logloss: 0.590319\n",
      "[300]\ttraining's binary_logloss: 0.564384\tvalid_1's binary_logloss: 0.589141\n",
      "[400]\ttraining's binary_logloss: 0.556235\tvalid_1's binary_logloss: 0.588011\n",
      "[500]\ttraining's binary_logloss: 0.548901\tvalid_1's binary_logloss: 0.587394\n",
      "[600]\ttraining's binary_logloss: 0.542317\tvalid_1's binary_logloss: 0.587144\n",
      "[700]\ttraining's binary_logloss: 0.536028\tvalid_1's binary_logloss: 0.587075\n",
      "[800]\ttraining's binary_logloss: 0.52945\tvalid_1's binary_logloss: 0.586795\n",
      "[900]\ttraining's binary_logloss: 0.523186\tvalid_1's binary_logloss: 0.586679\n",
      "[1000]\ttraining's binary_logloss: 0.51727\tvalid_1's binary_logloss: 0.586719\n",
      "Did not meet early stopping. Best iteration is:\n",
      "[1000]\ttraining's binary_logloss: 0.51727\tvalid_1's binary_logloss: 0.586719\n"
     ]
    },
    {
     "name": "stderr",
     "output_type": "stream",
     "text": [
      "tune_min_child_samples, val_score: 0.585685:  60%|######    | 3/5 [02:49<01:52, 56.40s/it]"
     ]
    },
    {
     "name": "stdout",
     "output_type": "stream",
     "text": [
      "Training until validation scores don't improve for 100 rounds\n",
      "[100]\ttraining's binary_logloss: 0.582737\tvalid_1's binary_logloss: 0.592914\n",
      "[200]\ttraining's binary_logloss: 0.572878\tvalid_1's binary_logloss: 0.590287\n",
      "[300]\ttraining's binary_logloss: 0.564293\tvalid_1's binary_logloss: 0.588443\n",
      "[400]\ttraining's binary_logloss: 0.556753\tvalid_1's binary_logloss: 0.587521\n",
      "[500]\ttraining's binary_logloss: 0.549526\tvalid_1's binary_logloss: 0.586853\n",
      "[600]\ttraining's binary_logloss: 0.542694\tvalid_1's binary_logloss: 0.586427\n",
      "[700]\ttraining's binary_logloss: 0.536381\tvalid_1's binary_logloss: 0.586156\n",
      "[800]\ttraining's binary_logloss: 0.530073\tvalid_1's binary_logloss: 0.58584\n",
      "[900]\ttraining's binary_logloss: 0.524207\tvalid_1's binary_logloss: 0.585746\n",
      "[1000]\ttraining's binary_logloss: 0.518428\tvalid_1's binary_logloss: 0.58583\n",
      "Did not meet early stopping. Best iteration is:\n",
      "[1000]\ttraining's binary_logloss: 0.518428\tvalid_1's binary_logloss: 0.58583\n"
     ]
    },
    {
     "name": "stderr",
     "output_type": "stream",
     "text": [
      "tune_min_child_samples, val_score: 0.585685:  80%|########  | 4/5 [03:46<00:56, 56.70s/it]"
     ]
    },
    {
     "name": "stdout",
     "output_type": "stream",
     "text": [
      "Training until validation scores don't improve for 100 rounds\n",
      "[100]\ttraining's binary_logloss: 0.582968\tvalid_1's binary_logloss: 0.593239\n",
      "[200]\ttraining's binary_logloss: 0.572982\tvalid_1's binary_logloss: 0.590343\n",
      "[300]\ttraining's binary_logloss: 0.564682\tvalid_1's binary_logloss: 0.588667\n",
      "[400]\ttraining's binary_logloss: 0.557295\tvalid_1's binary_logloss: 0.587839\n",
      "[500]\ttraining's binary_logloss: 0.550504\tvalid_1's binary_logloss: 0.587259\n",
      "[600]\ttraining's binary_logloss: 0.544107\tvalid_1's binary_logloss: 0.586917\n",
      "[700]\ttraining's binary_logloss: 0.537721\tvalid_1's binary_logloss: 0.586628\n",
      "[800]\ttraining's binary_logloss: 0.531638\tvalid_1's binary_logloss: 0.586222\n",
      "[900]\ttraining's binary_logloss: 0.525991\tvalid_1's binary_logloss: 0.586059\n",
      "Early stopping, best iteration is:\n",
      "[847]\ttraining's binary_logloss: 0.528913\tvalid_1's binary_logloss: 0.586006\n"
     ]
    },
    {
     "name": "stderr",
     "output_type": "stream",
     "text": [
      "tune_min_child_samples, val_score: 0.585685: 100%|##########| 5/5 [04:42<00:00, 56.51s/it]\n"
     ]
    },
    {
     "name": "stdout",
     "output_type": "stream",
     "text": [
      "2020-03-24 23:29:46 RTwCmnt ********************************************************************************\n",
      "RTwCmnt\n",
      "n_pos_wanted 100000\n",
      "2020-03-24 23:30:00 chunk 1\n",
      "2020-03-24 23:30:11 chunk 2\n",
      "2020-03-24 23:30:22 chunk 3\n",
      "2020-03-24 23:30:33 chunk 4\n",
      "2020-03-24 23:30:44 chunk 5\n",
      "2020-03-24 23:30:55 chunk 6\n",
      "2020-03-24 23:31:06 chunk 7\n",
      "2020-03-24 23:31:17 chunk 8\n",
      "2020-03-24 23:31:27 chunk 9\n",
      "2020-03-24 23:31:38 chunk 10\n",
      "2020-03-24 23:31:49 chunk 11\n",
      "2020-03-24 23:32:00 chunk 12\n",
      "2020-03-24 23:32:10 chunk 13\n",
      "dftrvl.shape: (1000000, 28) dftrvl[tgtcol].mean(): 0.101203\n",
      "{'train_pop': 13000000, 'target_pop': 101203, 'sampled_train_pop': 1000000, 'sampled_target_pop': 101203}\n",
      "{'objective': 'binary', 'metric': 'binary_logloss', 'verbosity': 0, 'boosting_type': 'gbdt'}\n"
     ]
    },
    {
     "name": "stderr",
     "output_type": "stream",
     "text": [
      "tune_feature_fraction, val_score: inf:   0%|          | 0/7 [00:00<?, ?it/s]"
     ]
    },
    {
     "name": "stdout",
     "output_type": "stream",
     "text": [
      "Training until validation scores don't improve for 100 rounds\n",
      "[100]\ttraining's binary_logloss: 0.297478\tvalid_1's binary_logloss: 0.298002\n",
      "[200]\ttraining's binary_logloss: 0.294152\tvalid_1's binary_logloss: 0.297011\n",
      "[300]\ttraining's binary_logloss: 0.291653\tvalid_1's binary_logloss: 0.296736\n",
      "[400]\ttraining's binary_logloss: 0.289322\tvalid_1's binary_logloss: 0.296521\n",
      "[500]\ttraining's binary_logloss: 0.286923\tvalid_1's binary_logloss: 0.296319\n",
      "[600]\ttraining's binary_logloss: 0.28466\tvalid_1's binary_logloss: 0.296174\n",
      "[700]\ttraining's binary_logloss: 0.282533\tvalid_1's binary_logloss: 0.2961\n",
      "[800]\ttraining's binary_logloss: 0.280402\tvalid_1's binary_logloss: 0.296103\n",
      "Early stopping, best iteration is:\n",
      "[758]\ttraining's binary_logloss: 0.281339\tvalid_1's binary_logloss: 0.296057\n"
     ]
    },
    {
     "name": "stderr",
     "output_type": "stream",
     "text": [
      "tune_feature_fraction, val_score: 0.296057:  14%|#4        | 1/7 [00:34<03:26, 34.48s/it]"
     ]
    },
    {
     "name": "stdout",
     "output_type": "stream",
     "text": [
      "Training until validation scores don't improve for 100 rounds\n",
      "[100]\ttraining's binary_logloss: 0.297054\tvalid_1's binary_logloss: 0.297696\n",
      "[200]\ttraining's binary_logloss: 0.293685\tvalid_1's binary_logloss: 0.2969\n",
      "[300]\ttraining's binary_logloss: 0.290953\tvalid_1's binary_logloss: 0.296571\n",
      "[400]\ttraining's binary_logloss: 0.288511\tvalid_1's binary_logloss: 0.296427\n",
      "[500]\ttraining's binary_logloss: 0.286138\tvalid_1's binary_logloss: 0.296314\n",
      "[600]\ttraining's binary_logloss: 0.283778\tvalid_1's binary_logloss: 0.296198\n",
      "[700]\ttraining's binary_logloss: 0.281586\tvalid_1's binary_logloss: 0.2961\n",
      "[800]\ttraining's binary_logloss: 0.279389\tvalid_1's binary_logloss: 0.296006\n",
      "[900]\ttraining's binary_logloss: 0.277282\tvalid_1's binary_logloss: 0.296002\n",
      "Early stopping, best iteration is:\n",
      "[810]\ttraining's binary_logloss: 0.279141\tvalid_1's binary_logloss: 0.295973\n"
     ]
    },
    {
     "name": "stderr",
     "output_type": "stream",
     "text": [
      "tune_feature_fraction, val_score: 0.295973:  29%|##8       | 2/7 [01:07<02:49, 33.89s/it]"
     ]
    },
    {
     "name": "stdout",
     "output_type": "stream",
     "text": [
      "Training until validation scores don't improve for 100 rounds\n",
      "[100]\ttraining's binary_logloss: 0.29708\tvalid_1's binary_logloss: 0.297866\n",
      "[200]\ttraining's binary_logloss: 0.293676\tvalid_1's binary_logloss: 0.297166\n",
      "[300]\ttraining's binary_logloss: 0.290809\tvalid_1's binary_logloss: 0.296761\n",
      "[400]\ttraining's binary_logloss: 0.288141\tvalid_1's binary_logloss: 0.296486\n",
      "[500]\ttraining's binary_logloss: 0.285598\tvalid_1's binary_logloss: 0.296324\n",
      "[600]\ttraining's binary_logloss: 0.283105\tvalid_1's binary_logloss: 0.296231\n",
      "[700]\ttraining's binary_logloss: 0.280897\tvalid_1's binary_logloss: 0.296249\n",
      "[800]\ttraining's binary_logloss: 0.278689\tvalid_1's binary_logloss: 0.296181\n",
      "[900]\ttraining's binary_logloss: 0.276654\tvalid_1's binary_logloss: 0.296202\n",
      "Early stopping, best iteration is:\n",
      "[810]\ttraining's binary_logloss: 0.278466\tvalid_1's binary_logloss: 0.296155\n"
     ]
    },
    {
     "name": "stderr",
     "output_type": "stream",
     "text": [
      "tune_feature_fraction, val_score: 0.295973:  43%|####2     | 3/7 [01:41<02:15, 33.99s/it]"
     ]
    },
    {
     "name": "stdout",
     "output_type": "stream",
     "text": [
      "Training until validation scores don't improve for 100 rounds\n",
      "[100]\ttraining's binary_logloss: 0.29686\tvalid_1's binary_logloss: 0.297815\n",
      "[200]\ttraining's binary_logloss: 0.293359\tvalid_1's binary_logloss: 0.297112\n",
      "[300]\ttraining's binary_logloss: 0.290274\tvalid_1's binary_logloss: 0.296669\n",
      "[400]\ttraining's binary_logloss: 0.287583\tvalid_1's binary_logloss: 0.296459\n",
      "[500]\ttraining's binary_logloss: 0.28508\tvalid_1's binary_logloss: 0.296357\n",
      "[600]\ttraining's binary_logloss: 0.282598\tvalid_1's binary_logloss: 0.296313\n",
      "[700]\ttraining's binary_logloss: 0.280157\tvalid_1's binary_logloss: 0.296287\n",
      "[800]\ttraining's binary_logloss: 0.277873\tvalid_1's binary_logloss: 0.296226\n",
      "Early stopping, best iteration is:\n",
      "[775]\ttraining's binary_logloss: 0.278442\tvalid_1's binary_logloss: 0.296218\n"
     ]
    },
    {
     "name": "stderr",
     "output_type": "stream",
     "text": [
      "tune_feature_fraction, val_score: 0.295973:  57%|#####7    | 4/7 [02:13<01:40, 33.58s/it]"
     ]
    },
    {
     "name": "stdout",
     "output_type": "stream",
     "text": [
      "Training until validation scores don't improve for 100 rounds\n",
      "[100]\ttraining's binary_logloss: 0.296801\tvalid_1's binary_logloss: 0.297687\n",
      "[200]\ttraining's binary_logloss: 0.293174\tvalid_1's binary_logloss: 0.296927\n",
      "[300]\ttraining's binary_logloss: 0.290209\tvalid_1's binary_logloss: 0.296636\n",
      "[400]\ttraining's binary_logloss: 0.287376\tvalid_1's binary_logloss: 0.296369\n",
      "[500]\ttraining's binary_logloss: 0.284736\tvalid_1's binary_logloss: 0.296285\n",
      "[600]\ttraining's binary_logloss: 0.282153\tvalid_1's binary_logloss: 0.296235\n",
      "[700]\ttraining's binary_logloss: 0.279742\tvalid_1's binary_logloss: 0.296196\n",
      "Early stopping, best iteration is:\n",
      "[642]\ttraining's binary_logloss: 0.281085\tvalid_1's binary_logloss: 0.296179\n"
     ]
    },
    {
     "name": "stderr",
     "output_type": "stream",
     "text": [
      "tune_feature_fraction, val_score: 0.295973:  71%|#######1  | 5/7 [02:43<01:04, 32.39s/it]"
     ]
    },
    {
     "name": "stdout",
     "output_type": "stream",
     "text": [
      "Training until validation scores don't improve for 100 rounds\n",
      "[100]\ttraining's binary_logloss: 0.296653\tvalid_1's binary_logloss: 0.297828\n",
      "[200]\ttraining's binary_logloss: 0.292852\tvalid_1's binary_logloss: 0.297164\n",
      "[300]\ttraining's binary_logloss: 0.289739\tvalid_1's binary_logloss: 0.296876\n",
      "[400]\ttraining's binary_logloss: 0.286928\tvalid_1's binary_logloss: 0.296632\n",
      "[500]\ttraining's binary_logloss: 0.28416\tvalid_1's binary_logloss: 0.296478\n",
      "[600]\ttraining's binary_logloss: 0.281483\tvalid_1's binary_logloss: 0.296423\n",
      "[700]\ttraining's binary_logloss: 0.278987\tvalid_1's binary_logloss: 0.296343\n",
      "Early stopping, best iteration is:\n",
      "[689]\ttraining's binary_logloss: 0.279295\tvalid_1's binary_logloss: 0.296323\n"
     ]
    },
    {
     "name": "stderr",
     "output_type": "stream",
     "text": [
      "tune_feature_fraction, val_score: 0.295973:  86%|########5 | 6/7 [03:15<00:32, 32.22s/it]"
     ]
    },
    {
     "name": "stdout",
     "output_type": "stream",
     "text": [
      "Training until validation scores don't improve for 100 rounds\n",
      "[100]\ttraining's binary_logloss: 0.296597\tvalid_1's binary_logloss: 0.297788\n",
      "[200]\ttraining's binary_logloss: 0.292957\tvalid_1's binary_logloss: 0.297174\n",
      "[300]\ttraining's binary_logloss: 0.289815\tvalid_1's binary_logloss: 0.296739\n",
      "[400]\ttraining's binary_logloss: 0.286801\tvalid_1's binary_logloss: 0.296382\n",
      "[500]\ttraining's binary_logloss: 0.28411\tvalid_1's binary_logloss: 0.296307\n",
      "Early stopping, best iteration is:\n",
      "[483]\ttraining's binary_logloss: 0.284542\tvalid_1's binary_logloss: 0.296268\n"
     ]
    },
    {
     "name": "stderr",
     "output_type": "stream",
     "text": [
      "tune_feature_fraction, val_score: 0.295973: 100%|##########| 7/7 [03:41<00:00, 31.58s/it]\n",
      "tune_num_leaves, val_score: 0.295973:   0%|          | 0/20 [00:00<?, ?it/s]"
     ]
    },
    {
     "name": "stdout",
     "output_type": "stream",
     "text": [
      "Training until validation scores don't improve for 100 rounds\n",
      "[100]\ttraining's binary_logloss: 0.284014\tvalid_1's binary_logloss: 0.296282\n",
      "[200]\ttraining's binary_logloss: 0.272711\tvalid_1's binary_logloss: 0.296255\n",
      "Early stopping, best iteration is:\n",
      "[166]\ttraining's binary_logloss: 0.276086\tvalid_1's binary_logloss: 0.296204\n"
     ]
    },
    {
     "name": "stderr",
     "output_type": "stream",
     "text": [
      "tune_num_leaves, val_score: 0.295973:   5%|5         | 1/20 [00:18<05:56, 18.74s/it]"
     ]
    },
    {
     "name": "stdout",
     "output_type": "stream",
     "text": [
      "Training until validation scores don't improve for 100 rounds\n",
      "[100]\ttraining's binary_logloss: 0.280864\tvalid_1's binary_logloss: 0.296336\n",
      "Early stopping, best iteration is:\n",
      "[98]\ttraining's binary_logloss: 0.281193\tvalid_1's binary_logloss: 0.296329\n"
     ]
    },
    {
     "name": "stderr",
     "output_type": "stream",
     "text": [
      "tune_num_leaves, val_score: 0.295973:  10%|#         | 2/20 [00:35<05:23, 17.99s/it]"
     ]
    },
    {
     "name": "stdout",
     "output_type": "stream",
     "text": [
      "Training until validation scores don't improve for 100 rounds\n",
      "[100]\ttraining's binary_logloss: 0.279716\tvalid_1's binary_logloss: 0.296158\n",
      "[200]\ttraining's binary_logloss: 0.265976\tvalid_1's binary_logloss: 0.296117\n",
      "[300]\ttraining's binary_logloss: 0.255194\tvalid_1's binary_logloss: 0.29633\n",
      "Early stopping, best iteration is:\n",
      "[202]\ttraining's binary_logloss: 0.26575\tvalid_1's binary_logloss: 0.296115\n"
     ]
    },
    {
     "name": "stderr",
     "output_type": "stream",
     "text": [
      "tune_num_leaves, val_score: 0.295973:  15%|#5        | 3/20 [00:58<05:33, 19.62s/it]"
     ]
    },
    {
     "name": "stdout",
     "output_type": "stream",
     "text": [
      "Training until validation scores don't improve for 100 rounds\n",
      "[100]\ttraining's binary_logloss: 0.28067\tvalid_1's binary_logloss: 0.296358\n",
      "[200]\ttraining's binary_logloss: 0.267434\tvalid_1's binary_logloss: 0.296389\n",
      "Early stopping, best iteration is:\n",
      "[171]\ttraining's binary_logloss: 0.270969\tvalid_1's binary_logloss: 0.296343\n"
     ]
    },
    {
     "name": "stderr",
     "output_type": "stream",
     "text": [
      "tune_num_leaves, val_score: 0.295973:  20%|##        | 4/20 [01:18<05:16, 19.80s/it]"
     ]
    },
    {
     "name": "stdout",
     "output_type": "stream",
     "text": [
      "Training until validation scores don't improve for 100 rounds\n",
      "[100]\ttraining's binary_logloss: 0.287601\tvalid_1's binary_logloss: 0.296369\n",
      "[200]\ttraining's binary_logloss: 0.278772\tvalid_1's binary_logloss: 0.296031\n",
      "[300]\ttraining's binary_logloss: 0.271638\tvalid_1's binary_logloss: 0.296205\n",
      "Early stopping, best iteration is:\n",
      "[205]\ttraining's binary_logloss: 0.278396\tvalid_1's binary_logloss: 0.296021\n"
     ]
    },
    {
     "name": "stderr",
     "output_type": "stream",
     "text": [
      "tune_num_leaves, val_score: 0.295973:  25%|##5       | 5/20 [01:37<04:51, 19.46s/it]"
     ]
    },
    {
     "name": "stdout",
     "output_type": "stream",
     "text": [
      "Training until validation scores don't improve for 100 rounds\n",
      "[100]\ttraining's binary_logloss: 0.288379\tvalid_1's binary_logloss: 0.296332\n",
      "[200]\ttraining's binary_logloss: 0.279927\tvalid_1's binary_logloss: 0.296249\n",
      "[300]\ttraining's binary_logloss: 0.272836\tvalid_1's binary_logloss: 0.296303\n",
      "Early stopping, best iteration is:\n",
      "[234]\ttraining's binary_logloss: 0.277315\tvalid_1's binary_logloss: 0.296184\n"
     ]
    },
    {
     "name": "stderr",
     "output_type": "stream",
     "text": [
      "tune_num_leaves, val_score: 0.295973:  30%|###       | 6/20 [01:57<04:35, 19.70s/it]"
     ]
    },
    {
     "name": "stdout",
     "output_type": "stream",
     "text": [
      "Training until validation scores don't improve for 100 rounds\n",
      "[100]\ttraining's binary_logloss: 0.295527\tvalid_1's binary_logloss: 0.297308\n",
      "[200]\ttraining's binary_logloss: 0.291331\tvalid_1's binary_logloss: 0.296653\n",
      "[300]\ttraining's binary_logloss: 0.287954\tvalid_1's binary_logloss: 0.296487\n",
      "[400]\ttraining's binary_logloss: 0.284646\tvalid_1's binary_logloss: 0.296447\n",
      "[500]\ttraining's binary_logloss: 0.281603\tvalid_1's binary_logloss: 0.296302\n",
      "[600]\ttraining's binary_logloss: 0.27858\tvalid_1's binary_logloss: 0.296276\n",
      "[700]\ttraining's binary_logloss: 0.275758\tvalid_1's binary_logloss: 0.296335\n",
      "Early stopping, best iteration is:\n",
      "[614]\ttraining's binary_logloss: 0.278147\tvalid_1's binary_logloss: 0.296238\n"
     ]
    },
    {
     "name": "stderr",
     "output_type": "stream",
     "text": [
      "tune_num_leaves, val_score: 0.295973:  35%|###5      | 7/20 [02:25<04:47, 22.15s/it]"
     ]
    },
    {
     "name": "stdout",
     "output_type": "stream",
     "text": [
      "Training until validation scores don't improve for 100 rounds\n",
      "[100]\ttraining's binary_logloss: 0.286358\tvalid_1's binary_logloss: 0.296428\n",
      "[200]\ttraining's binary_logloss: 0.276789\tvalid_1's binary_logloss: 0.296392\n",
      "Early stopping, best iteration is:\n",
      "[172]\ttraining's binary_logloss: 0.279286\tvalid_1's binary_logloss: 0.296313\n"
     ]
    },
    {
     "name": "stderr",
     "output_type": "stream",
     "text": [
      "tune_num_leaves, val_score: 0.295973:  40%|####      | 8/20 [02:43<04:08, 20.73s/it]"
     ]
    },
    {
     "name": "stdout",
     "output_type": "stream",
     "text": [
      "Training until validation scores don't improve for 100 rounds\n",
      "[100]\ttraining's binary_logloss: 0.285413\tvalid_1's binary_logloss: 0.296313\n",
      "[200]\ttraining's binary_logloss: 0.274978\tvalid_1's binary_logloss: 0.296183\n",
      "[300]\ttraining's binary_logloss: 0.26678\tvalid_1's binary_logloss: 0.296342\n",
      "Early stopping, best iteration is:\n",
      "[201]\ttraining's binary_logloss: 0.274861\tvalid_1's binary_logloss: 0.296168\n"
     ]
    },
    {
     "name": "stderr",
     "output_type": "stream",
     "text": [
      "tune_num_leaves, val_score: 0.295973:  45%|####5     | 9/20 [03:02<03:43, 20.36s/it]"
     ]
    },
    {
     "name": "stdout",
     "output_type": "stream",
     "text": [
      "Training until validation scores don't improve for 100 rounds\n",
      "[100]\ttraining's binary_logloss: 0.284572\tvalid_1's binary_logloss: 0.296494\n",
      "[200]\ttraining's binary_logloss: 0.273899\tvalid_1's binary_logloss: 0.296528\n",
      "Early stopping, best iteration is:\n",
      "[110]\ttraining's binary_logloss: 0.283306\tvalid_1's binary_logloss: 0.296441\n"
     ]
    },
    {
     "name": "stderr",
     "output_type": "stream",
     "text": [
      "tune_num_leaves, val_score: 0.295973:  50%|#####     | 10/20 [03:17<03:06, 18.67s/it]"
     ]
    },
    {
     "name": "stdout",
     "output_type": "stream",
     "text": [
      "Training until validation scores don't improve for 100 rounds\n",
      "[100]\ttraining's binary_logloss: 0.293585\tvalid_1's binary_logloss: 0.296953\n",
      "[200]\ttraining's binary_logloss: 0.288285\tvalid_1's binary_logloss: 0.296538\n",
      "[300]\ttraining's binary_logloss: 0.283884\tvalid_1's binary_logloss: 0.296413\n",
      "[400]\ttraining's binary_logloss: 0.279963\tvalid_1's binary_logloss: 0.296362\n",
      "[500]\ttraining's binary_logloss: 0.275942\tvalid_1's binary_logloss: 0.296297\n",
      "Early stopping, best iteration is:\n",
      "[482]\ttraining's binary_logloss: 0.276745\tvalid_1's binary_logloss: 0.296276\n"
     ]
    },
    {
     "name": "stderr",
     "output_type": "stream",
     "text": [
      "tune_num_leaves, val_score: 0.295973:  55%|#####5    | 11/20 [03:42<03:05, 20.59s/it]"
     ]
    },
    {
     "name": "stdout",
     "output_type": "stream",
     "text": [
      "Training until validation scores don't improve for 100 rounds\n",
      "[100]\ttraining's binary_logloss: 0.275709\tvalid_1's binary_logloss: 0.29616\n",
      "Early stopping, best iteration is:\n",
      "[90]\ttraining's binary_logloss: 0.277532\tvalid_1's binary_logloss: 0.296104\n"
     ]
    },
    {
     "name": "stderr",
     "output_type": "stream",
     "text": [
      "tune_num_leaves, val_score: 0.295973:  60%|######    | 12/20 [03:59<02:36, 19.54s/it]"
     ]
    },
    {
     "name": "stdout",
     "output_type": "stream",
     "text": [
      "Training until validation scores don't improve for 100 rounds\n",
      "[100]\ttraining's binary_logloss: 0.275824\tvalid_1's binary_logloss: 0.296255\n",
      "[200]\ttraining's binary_logloss: 0.260125\tvalid_1's binary_logloss: 0.296394\n",
      "Early stopping, best iteration is:\n",
      "[115]\ttraining's binary_logloss: 0.273018\tvalid_1's binary_logloss: 0.296212\n"
     ]
    },
    {
     "name": "stderr",
     "output_type": "stream",
     "text": [
      "tune_num_leaves, val_score: 0.295973:  65%|######5   | 13/20 [04:18<02:15, 19.33s/it]"
     ]
    },
    {
     "name": "stdout",
     "output_type": "stream",
     "text": [
      "Training until validation scores don't improve for 100 rounds\n",
      "[100]\ttraining's binary_logloss: 0.290543\tvalid_1's binary_logloss: 0.296571\n",
      "[200]\ttraining's binary_logloss: 0.283513\tvalid_1's binary_logloss: 0.296186\n",
      "[300]\ttraining's binary_logloss: 0.277551\tvalid_1's binary_logloss: 0.29618\n",
      "Early stopping, best iteration is:\n",
      "[235]\ttraining's binary_logloss: 0.281361\tvalid_1's binary_logloss: 0.296136\n"
     ]
    },
    {
     "name": "stderr",
     "output_type": "stream",
     "text": [
      "tune_num_leaves, val_score: 0.295973:  70%|#######   | 14/20 [04:36<01:53, 18.92s/it]"
     ]
    },
    {
     "name": "stdout",
     "output_type": "stream",
     "text": [
      "Training until validation scores don't improve for 100 rounds\n",
      "[100]\ttraining's binary_logloss: 0.275709\tvalid_1's binary_logloss: 0.29616\n",
      "Early stopping, best iteration is:\n",
      "[90]\ttraining's binary_logloss: 0.277532\tvalid_1's binary_logloss: 0.296104\n"
     ]
    },
    {
     "name": "stderr",
     "output_type": "stream",
     "text": [
      "tune_num_leaves, val_score: 0.295973:  75%|#######5  | 15/20 [04:54<01:33, 18.69s/it]"
     ]
    },
    {
     "name": "stdout",
     "output_type": "stream",
     "text": [
      "Training until validation scores don't improve for 100 rounds\n",
      "[100]\ttraining's binary_logloss: 0.290861\tvalid_1's binary_logloss: 0.296626\n",
      "[200]\ttraining's binary_logloss: 0.284058\tvalid_1's binary_logloss: 0.296296\n",
      "[300]\ttraining's binary_logloss: 0.27824\tvalid_1's binary_logloss: 0.296186\n",
      "[400]\ttraining's binary_logloss: 0.272817\tvalid_1's binary_logloss: 0.296242\n",
      "Early stopping, best iteration is:\n",
      "[364]\ttraining's binary_logloss: 0.274813\tvalid_1's binary_logloss: 0.296122\n"
     ]
    },
    {
     "name": "stderr",
     "output_type": "stream",
     "text": [
      "tune_num_leaves, val_score: 0.295973:  80%|########  | 16/20 [05:17<01:20, 20.06s/it]"
     ]
    },
    {
     "name": "stdout",
     "output_type": "stream",
     "text": [
      "Training until validation scores don't improve for 100 rounds\n",
      "[100]\ttraining's binary_logloss: 0.278014\tvalid_1's binary_logloss: 0.296536\n",
      "[200]\ttraining's binary_logloss: 0.263253\tvalid_1's binary_logloss: 0.296905\n",
      "Early stopping, best iteration is:\n",
      "[105]\ttraining's binary_logloss: 0.277104\tvalid_1's binary_logloss: 0.296527\n"
     ]
    },
    {
     "name": "stderr",
     "output_type": "stream",
     "text": [
      "tune_num_leaves, val_score: 0.295973:  85%|########5 | 17/20 [05:35<00:58, 19.38s/it]"
     ]
    },
    {
     "name": "stdout",
     "output_type": "stream",
     "text": [
      "Training until validation scores don't improve for 100 rounds\n",
      "[100]\ttraining's binary_logloss: 0.30066\tvalid_1's binary_logloss: 0.299677\n",
      "[200]\ttraining's binary_logloss: 0.298458\tvalid_1's binary_logloss: 0.298452\n",
      "[300]\ttraining's binary_logloss: 0.29692\tvalid_1's binary_logloss: 0.297831\n",
      "[400]\ttraining's binary_logloss: 0.295589\tvalid_1's binary_logloss: 0.297499\n",
      "[500]\ttraining's binary_logloss: 0.294334\tvalid_1's binary_logloss: 0.297192\n",
      "[600]\ttraining's binary_logloss: 0.293196\tvalid_1's binary_logloss: 0.296975\n",
      "[700]\ttraining's binary_logloss: 0.292048\tvalid_1's binary_logloss: 0.296709\n",
      "[800]\ttraining's binary_logloss: 0.290995\tvalid_1's binary_logloss: 0.29663\n",
      "[900]\ttraining's binary_logloss: 0.289978\tvalid_1's binary_logloss: 0.296491\n",
      "[1000]\ttraining's binary_logloss: 0.289004\tvalid_1's binary_logloss: 0.296399\n",
      "Did not meet early stopping. Best iteration is:\n",
      "[1000]\ttraining's binary_logloss: 0.289004\tvalid_1's binary_logloss: 0.296399\n"
     ]
    },
    {
     "name": "stderr",
     "output_type": "stream",
     "text": [
      "tune_num_leaves, val_score: 0.295973:  90%|######### | 18/20 [06:07<00:46, 23.18s/it]"
     ]
    },
    {
     "name": "stdout",
     "output_type": "stream",
     "text": [
      "Training until validation scores don't improve for 100 rounds\n",
      "[100]\ttraining's binary_logloss: 0.283387\tvalid_1's binary_logloss: 0.296241\n",
      "[200]\ttraining's binary_logloss: 0.272078\tvalid_1's binary_logloss: 0.296174\n",
      "[300]\ttraining's binary_logloss: 0.262779\tvalid_1's binary_logloss: 0.296323\n",
      "Early stopping, best iteration is:\n",
      "[221]\ttraining's binary_logloss: 0.269997\tvalid_1's binary_logloss: 0.296099\n"
     ]
    },
    {
     "name": "stderr",
     "output_type": "stream",
     "text": [
      "tune_num_leaves, val_score: 0.295973:  95%|#########5| 19/20 [06:29<00:22, 22.72s/it]"
     ]
    },
    {
     "name": "stdout",
     "output_type": "stream",
     "text": [
      "Training until validation scores don't improve for 100 rounds\n",
      "[100]\ttraining's binary_logloss: 0.283021\tvalid_1's binary_logloss: 0.296323\n",
      "[200]\ttraining's binary_logloss: 0.271477\tvalid_1's binary_logloss: 0.296385\n",
      "Early stopping, best iteration is:\n",
      "[136]\ttraining's binary_logloss: 0.27854\tvalid_1's binary_logloss: 0.296281\n"
     ]
    },
    {
     "name": "stderr",
     "output_type": "stream",
     "text": [
      "tune_num_leaves, val_score: 0.295973: 100%|##########| 20/20 [06:46<00:00, 20.33s/it]\n",
      "tune_bagging_fraction_and_bagging_freq, val_score: 0.295973:   0%|          | 0/10 [00:00<?, ?it/s]"
     ]
    },
    {
     "name": "stdout",
     "output_type": "stream",
     "text": [
      "Training until validation scores don't improve for 100 rounds\n",
      "[100]\ttraining's binary_logloss: 0.297461\tvalid_1's binary_logloss: 0.298111\n",
      "[200]\ttraining's binary_logloss: 0.294073\tvalid_1's binary_logloss: 0.297365\n",
      "[300]\ttraining's binary_logloss: 0.291407\tvalid_1's binary_logloss: 0.297181\n",
      "[400]\ttraining's binary_logloss: 0.289028\tvalid_1's binary_logloss: 0.297194\n",
      "Early stopping, best iteration is:\n",
      "[377]\ttraining's binary_logloss: 0.289579\tvalid_1's binary_logloss: 0.297153\n"
     ]
    },
    {
     "name": "stderr",
     "output_type": "stream",
     "text": [
      "tune_bagging_fraction_and_bagging_freq, val_score: 0.295973:  10%|#         | 1/10 [00:17<02:34, 17.13s/it]"
     ]
    },
    {
     "name": "stdout",
     "output_type": "stream",
     "text": [
      "Training until validation scores don't improve for 100 rounds\n",
      "[100]\ttraining's binary_logloss: 0.297101\tvalid_1's binary_logloss: 0.29777\n",
      "[200]\ttraining's binary_logloss: 0.293689\tvalid_1's binary_logloss: 0.296936\n",
      "[300]\ttraining's binary_logloss: 0.290943\tvalid_1's binary_logloss: 0.296621\n",
      "[400]\ttraining's binary_logloss: 0.288405\tvalid_1's binary_logloss: 0.296371\n",
      "[500]\ttraining's binary_logloss: 0.285846\tvalid_1's binary_logloss: 0.296174\n",
      "[600]\ttraining's binary_logloss: 0.28349\tvalid_1's binary_logloss: 0.296148\n",
      "[700]\ttraining's binary_logloss: 0.281232\tvalid_1's binary_logloss: 0.296122\n",
      "[800]\ttraining's binary_logloss: 0.279021\tvalid_1's binary_logloss: 0.296156\n",
      "Early stopping, best iteration is:\n",
      "[713]\ttraining's binary_logloss: 0.28094\tvalid_1's binary_logloss: 0.296105\n"
     ]
    },
    {
     "name": "stderr",
     "output_type": "stream",
     "text": [
      "tune_bagging_fraction_and_bagging_freq, val_score: 0.295973:  20%|##        | 2/10 [00:53<03:01, 22.75s/it]"
     ]
    },
    {
     "name": "stdout",
     "output_type": "stream",
     "text": [
      "Training until validation scores don't improve for 100 rounds\n",
      "[100]\ttraining's binary_logloss: 0.297244\tvalid_1's binary_logloss: 0.297905\n",
      "[200]\ttraining's binary_logloss: 0.293768\tvalid_1's binary_logloss: 0.297079\n",
      "[300]\ttraining's binary_logloss: 0.291083\tvalid_1's binary_logloss: 0.296869\n",
      "[400]\ttraining's binary_logloss: 0.288581\tvalid_1's binary_logloss: 0.296817\n",
      "[500]\ttraining's binary_logloss: 0.286105\tvalid_1's binary_logloss: 0.296811\n",
      "[600]\ttraining's binary_logloss: 0.283862\tvalid_1's binary_logloss: 0.296799\n",
      "[700]\ttraining's binary_logloss: 0.281629\tvalid_1's binary_logloss: 0.296825\n",
      "Early stopping, best iteration is:\n",
      "[676]\ttraining's binary_logloss: 0.282142\tvalid_1's binary_logloss: 0.296746\n"
     ]
    },
    {
     "name": "stderr",
     "output_type": "stream",
     "text": [
      "tune_bagging_fraction_and_bagging_freq, val_score: 0.295973:  30%|###       | 3/10 [01:22<02:52, 24.65s/it]"
     ]
    },
    {
     "name": "stdout",
     "output_type": "stream",
     "text": [
      "Training until validation scores don't improve for 100 rounds\n",
      "[100]\ttraining's binary_logloss: 0.297129\tvalid_1's binary_logloss: 0.297777\n",
      "[200]\ttraining's binary_logloss: 0.293644\tvalid_1's binary_logloss: 0.296967\n",
      "[300]\ttraining's binary_logloss: 0.290924\tvalid_1's binary_logloss: 0.296691\n",
      "[400]\ttraining's binary_logloss: 0.288403\tvalid_1's binary_logloss: 0.296532\n",
      "[500]\ttraining's binary_logloss: 0.285984\tvalid_1's binary_logloss: 0.296404\n",
      "[600]\ttraining's binary_logloss: 0.283564\tvalid_1's binary_logloss: 0.296367\n",
      "Early stopping, best iteration is:\n",
      "[512]\ttraining's binary_logloss: 0.285679\tvalid_1's binary_logloss: 0.296356\n"
     ]
    },
    {
     "name": "stderr",
     "output_type": "stream",
     "text": [
      "tune_bagging_fraction_and_bagging_freq, val_score: 0.295973:  40%|####      | 4/10 [01:47<02:28, 24.75s/it]"
     ]
    },
    {
     "name": "stdout",
     "output_type": "stream",
     "text": [
      "Training until validation scores don't improve for 100 rounds\n",
      "[100]\ttraining's binary_logloss: 0.297208\tvalid_1's binary_logloss: 0.297965\n",
      "[200]\ttraining's binary_logloss: 0.293853\tvalid_1's binary_logloss: 0.297157\n",
      "[300]\ttraining's binary_logloss: 0.29108\tvalid_1's binary_logloss: 0.296879\n",
      "[400]\ttraining's binary_logloss: 0.288606\tvalid_1's binary_logloss: 0.296841\n",
      "[500]\ttraining's binary_logloss: 0.28611\tvalid_1's binary_logloss: 0.2967\n",
      "[600]\ttraining's binary_logloss: 0.283844\tvalid_1's binary_logloss: 0.296702\n",
      "[700]\ttraining's binary_logloss: 0.281645\tvalid_1's binary_logloss: 0.296657\n",
      "[800]\ttraining's binary_logloss: 0.279524\tvalid_1's binary_logloss: 0.296665\n",
      "Early stopping, best iteration is:\n",
      "[730]\ttraining's binary_logloss: 0.281007\tvalid_1's binary_logloss: 0.296631\n"
     ]
    },
    {
     "name": "stderr",
     "output_type": "stream",
     "text": [
      "tune_bagging_fraction_and_bagging_freq, val_score: 0.295973:  50%|#####     | 5/10 [02:17<02:12, 26.46s/it]"
     ]
    },
    {
     "name": "stdout",
     "output_type": "stream",
     "text": [
      "Training until validation scores don't improve for 100 rounds\n",
      "[100]\ttraining's binary_logloss: 0.297194\tvalid_1's binary_logloss: 0.298019\n",
      "[200]\ttraining's binary_logloss: 0.293845\tvalid_1's binary_logloss: 0.297211\n",
      "[300]\ttraining's binary_logloss: 0.291095\tvalid_1's binary_logloss: 0.296811\n",
      "[400]\ttraining's binary_logloss: 0.288515\tvalid_1's binary_logloss: 0.296566\n",
      "[500]\ttraining's binary_logloss: 0.286105\tvalid_1's binary_logloss: 0.296434\n",
      "[600]\ttraining's binary_logloss: 0.283802\tvalid_1's binary_logloss: 0.296496\n",
      "Early stopping, best iteration is:\n",
      "[538]\ttraining's binary_logloss: 0.285215\tvalid_1's binary_logloss: 0.296424\n"
     ]
    },
    {
     "name": "stderr",
     "output_type": "stream",
     "text": [
      "tune_bagging_fraction_and_bagging_freq, val_score: 0.295973:  60%|######    | 6/10 [02:41<01:42, 25.74s/it]"
     ]
    },
    {
     "name": "stdout",
     "output_type": "stream",
     "text": [
      "Training until validation scores don't improve for 100 rounds\n",
      "[100]\ttraining's binary_logloss: 0.297438\tvalid_1's binary_logloss: 0.298181\n",
      "[200]\ttraining's binary_logloss: 0.294107\tvalid_1's binary_logloss: 0.29752\n",
      "[300]\ttraining's binary_logloss: 0.291378\tvalid_1's binary_logloss: 0.297201\n",
      "[400]\ttraining's binary_logloss: 0.288926\tvalid_1's binary_logloss: 0.297191\n",
      "Early stopping, best iteration is:\n",
      "[369]\ttraining's binary_logloss: 0.289678\tvalid_1's binary_logloss: 0.297127\n"
     ]
    },
    {
     "name": "stderr",
     "output_type": "stream",
     "text": [
      "tune_bagging_fraction_and_bagging_freq, val_score: 0.295973:  70%|#######   | 7/10 [02:58<01:09, 23.18s/it]"
     ]
    },
    {
     "name": "stdout",
     "output_type": "stream",
     "text": [
      "Training until validation scores don't improve for 100 rounds\n",
      "[100]\ttraining's binary_logloss: 0.297385\tvalid_1's binary_logloss: 0.29808\n",
      "[200]\ttraining's binary_logloss: 0.294049\tvalid_1's binary_logloss: 0.297368\n",
      "[300]\ttraining's binary_logloss: 0.291302\tvalid_1's binary_logloss: 0.297103\n",
      "[400]\ttraining's binary_logloss: 0.288773\tvalid_1's binary_logloss: 0.297071\n",
      "Early stopping, best iteration is:\n",
      "[347]\ttraining's binary_logloss: 0.290089\tvalid_1's binary_logloss: 0.296963\n"
     ]
    },
    {
     "name": "stderr",
     "output_type": "stream",
     "text": [
      "tune_bagging_fraction_and_bagging_freq, val_score: 0.295973:  80%|########  | 8/10 [03:15<00:42, 21.22s/it]"
     ]
    },
    {
     "name": "stdout",
     "output_type": "stream",
     "text": [
      "Training until validation scores don't improve for 100 rounds\n",
      "[100]\ttraining's binary_logloss: 0.297312\tvalid_1's binary_logloss: 0.298017\n",
      "[200]\ttraining's binary_logloss: 0.293866\tvalid_1's binary_logloss: 0.297289\n",
      "[300]\ttraining's binary_logloss: 0.291025\tvalid_1's binary_logloss: 0.296962\n",
      "[400]\ttraining's binary_logloss: 0.288478\tvalid_1's binary_logloss: 0.29689\n",
      "Early stopping, best iteration is:\n",
      "[379]\ttraining's binary_logloss: 0.28898\tvalid_1's binary_logloss: 0.296861\n"
     ]
    },
    {
     "name": "stderr",
     "output_type": "stream",
     "text": [
      "tune_bagging_fraction_and_bagging_freq, val_score: 0.295973:  90%|######### | 9/10 [03:33<00:20, 20.11s/it]"
     ]
    },
    {
     "name": "stdout",
     "output_type": "stream",
     "text": [
      "Training until validation scores don't improve for 100 rounds\n",
      "[100]\ttraining's binary_logloss: 0.297273\tvalid_1's binary_logloss: 0.298086\n",
      "[200]\ttraining's binary_logloss: 0.293851\tvalid_1's binary_logloss: 0.297251\n",
      "[300]\ttraining's binary_logloss: 0.291074\tvalid_1's binary_logloss: 0.296934\n",
      "[400]\ttraining's binary_logloss: 0.288531\tvalid_1's binary_logloss: 0.29681\n",
      "[500]\ttraining's binary_logloss: 0.286058\tvalid_1's binary_logloss: 0.296756\n",
      "[600]\ttraining's binary_logloss: 0.283726\tvalid_1's binary_logloss: 0.296824\n",
      "Early stopping, best iteration is:\n",
      "[542]\ttraining's binary_logloss: 0.285081\tvalid_1's binary_logloss: 0.296744\n"
     ]
    },
    {
     "name": "stderr",
     "output_type": "stream",
     "text": [
      "tune_bagging_fraction_and_bagging_freq, val_score: 0.295973: 100%|##########| 10/10 [04:02<00:00, 24.21s/it]\n",
      "tune_feature_fraction, val_score: 0.295973:   0%|          | 0/6 [00:00<?, ?it/s]"
     ]
    },
    {
     "name": "stdout",
     "output_type": "stream",
     "text": [
      "Training until validation scores don't improve for 100 rounds\n",
      "[100]\ttraining's binary_logloss: 0.297478\tvalid_1's binary_logloss: 0.298002\n",
      "[200]\ttraining's binary_logloss: 0.294152\tvalid_1's binary_logloss: 0.297011\n",
      "[300]\ttraining's binary_logloss: 0.291653\tvalid_1's binary_logloss: 0.296736\n",
      "[400]\ttraining's binary_logloss: 0.289322\tvalid_1's binary_logloss: 0.296521\n",
      "[500]\ttraining's binary_logloss: 0.286923\tvalid_1's binary_logloss: 0.296319\n",
      "[600]\ttraining's binary_logloss: 0.28466\tvalid_1's binary_logloss: 0.296174\n",
      "[700]\ttraining's binary_logloss: 0.282533\tvalid_1's binary_logloss: 0.2961\n",
      "[800]\ttraining's binary_logloss: 0.280402\tvalid_1's binary_logloss: 0.296103\n",
      "Early stopping, best iteration is:\n",
      "[758]\ttraining's binary_logloss: 0.281339\tvalid_1's binary_logloss: 0.296057\n"
     ]
    },
    {
     "name": "stderr",
     "output_type": "stream",
     "text": [
      "tune_feature_fraction, val_score: 0.295973:  17%|#6        | 1/6 [00:32<02:42, 32.49s/it]"
     ]
    },
    {
     "name": "stdout",
     "output_type": "stream",
     "text": [
      "Training until validation scores don't improve for 100 rounds\n",
      "[100]\ttraining's binary_logloss: 0.297301\tvalid_1's binary_logloss: 0.297904\n",
      "[200]\ttraining's binary_logloss: 0.294013\tvalid_1's binary_logloss: 0.297081\n",
      "[300]\ttraining's binary_logloss: 0.291436\tvalid_1's binary_logloss: 0.296798\n",
      "[400]\ttraining's binary_logloss: 0.288996\tvalid_1's binary_logloss: 0.296658\n",
      "[500]\ttraining's binary_logloss: 0.286508\tvalid_1's binary_logloss: 0.296482\n",
      "[600]\ttraining's binary_logloss: 0.284237\tvalid_1's binary_logloss: 0.296318\n",
      "[700]\ttraining's binary_logloss: 0.282055\tvalid_1's binary_logloss: 0.29625\n",
      "[800]\ttraining's binary_logloss: 0.279809\tvalid_1's binary_logloss: 0.296163\n",
      "[900]\ttraining's binary_logloss: 0.277712\tvalid_1's binary_logloss: 0.29623\n",
      "Early stopping, best iteration is:\n",
      "[817]\ttraining's binary_logloss: 0.279407\tvalid_1's binary_logloss: 0.296156\n"
     ]
    },
    {
     "name": "stderr",
     "output_type": "stream",
     "text": [
      "tune_feature_fraction, val_score: 0.295973:  33%|###3      | 2/6 [01:06<02:11, 32.83s/it]"
     ]
    },
    {
     "name": "stdout",
     "output_type": "stream",
     "text": [
      "Training until validation scores don't improve for 100 rounds\n",
      "[100]\ttraining's binary_logloss: 0.297054\tvalid_1's binary_logloss: 0.297696\n",
      "[200]\ttraining's binary_logloss: 0.293685\tvalid_1's binary_logloss: 0.2969\n",
      "[300]\ttraining's binary_logloss: 0.290953\tvalid_1's binary_logloss: 0.296571\n",
      "[400]\ttraining's binary_logloss: 0.288511\tvalid_1's binary_logloss: 0.296427\n",
      "[500]\ttraining's binary_logloss: 0.286138\tvalid_1's binary_logloss: 0.296314\n",
      "[600]\ttraining's binary_logloss: 0.283778\tvalid_1's binary_logloss: 0.296198\n",
      "[700]\ttraining's binary_logloss: 0.281586\tvalid_1's binary_logloss: 0.2961\n",
      "[800]\ttraining's binary_logloss: 0.279389\tvalid_1's binary_logloss: 0.296006\n",
      "[900]\ttraining's binary_logloss: 0.277282\tvalid_1's binary_logloss: 0.296002\n",
      "Early stopping, best iteration is:\n",
      "[810]\ttraining's binary_logloss: 0.279141\tvalid_1's binary_logloss: 0.295973\n"
     ]
    },
    {
     "name": "stderr",
     "output_type": "stream",
     "text": [
      "tune_feature_fraction, val_score: 0.295973:  50%|#####     | 3/6 [01:40<01:39, 33.18s/it]"
     ]
    },
    {
     "name": "stdout",
     "output_type": "stream",
     "text": [
      "Training until validation scores don't improve for 100 rounds\n",
      "[100]\ttraining's binary_logloss: 0.297054\tvalid_1's binary_logloss: 0.297696\n",
      "[200]\ttraining's binary_logloss: 0.293685\tvalid_1's binary_logloss: 0.2969\n",
      "[300]\ttraining's binary_logloss: 0.290953\tvalid_1's binary_logloss: 0.296571\n",
      "[400]\ttraining's binary_logloss: 0.288511\tvalid_1's binary_logloss: 0.296427\n",
      "[500]\ttraining's binary_logloss: 0.286138\tvalid_1's binary_logloss: 0.296314\n",
      "[600]\ttraining's binary_logloss: 0.283778\tvalid_1's binary_logloss: 0.296198\n",
      "[700]\ttraining's binary_logloss: 0.281586\tvalid_1's binary_logloss: 0.2961\n",
      "[800]\ttraining's binary_logloss: 0.279389\tvalid_1's binary_logloss: 0.296006\n",
      "[900]\ttraining's binary_logloss: 0.277282\tvalid_1's binary_logloss: 0.296002\n",
      "Early stopping, best iteration is:\n",
      "[810]\ttraining's binary_logloss: 0.279141\tvalid_1's binary_logloss: 0.295973\n"
     ]
    },
    {
     "name": "stderr",
     "output_type": "stream",
     "text": [
      "tune_feature_fraction, val_score: 0.295973:  67%|######6   | 4/6 [02:14<01:06, 33.41s/it]"
     ]
    },
    {
     "name": "stdout",
     "output_type": "stream",
     "text": [
      "Training until validation scores don't improve for 100 rounds\n",
      "[100]\ttraining's binary_logloss: 0.297037\tvalid_1's binary_logloss: 0.297808\n",
      "[200]\ttraining's binary_logloss: 0.293688\tvalid_1's binary_logloss: 0.297115\n",
      "[300]\ttraining's binary_logloss: 0.290913\tvalid_1's binary_logloss: 0.296713\n",
      "[400]\ttraining's binary_logloss: 0.288282\tvalid_1's binary_logloss: 0.296451\n",
      "[500]\ttraining's binary_logloss: 0.285845\tvalid_1's binary_logloss: 0.29632\n",
      "[600]\ttraining's binary_logloss: 0.283449\tvalid_1's binary_logloss: 0.296264\n",
      "[700]\ttraining's binary_logloss: 0.281206\tvalid_1's binary_logloss: 0.296247\n",
      "[800]\ttraining's binary_logloss: 0.278998\tvalid_1's binary_logloss: 0.296198\n",
      "[900]\ttraining's binary_logloss: 0.276791\tvalid_1's binary_logloss: 0.296131\n",
      "[1000]\ttraining's binary_logloss: 0.274735\tvalid_1's binary_logloss: 0.296149\n",
      "Did not meet early stopping. Best iteration is:\n",
      "[1000]\ttraining's binary_logloss: 0.274735\tvalid_1's binary_logloss: 0.296149\n"
     ]
    },
    {
     "name": "stderr",
     "output_type": "stream",
     "text": [
      "tune_feature_fraction, val_score: 0.295973:  83%|########3 | 5/6 [02:52<00:34, 34.74s/it]"
     ]
    },
    {
     "name": "stdout",
     "output_type": "stream",
     "text": [
      "Training until validation scores don't improve for 100 rounds\n",
      "[100]\ttraining's binary_logloss: 0.29708\tvalid_1's binary_logloss: 0.297866\n",
      "[200]\ttraining's binary_logloss: 0.293676\tvalid_1's binary_logloss: 0.297166\n",
      "[300]\ttraining's binary_logloss: 0.290809\tvalid_1's binary_logloss: 0.296761\n",
      "[400]\ttraining's binary_logloss: 0.288141\tvalid_1's binary_logloss: 0.296486\n",
      "[500]\ttraining's binary_logloss: 0.285598\tvalid_1's binary_logloss: 0.296324\n",
      "[600]\ttraining's binary_logloss: 0.283105\tvalid_1's binary_logloss: 0.296231\n",
      "[700]\ttraining's binary_logloss: 0.280897\tvalid_1's binary_logloss: 0.296249\n",
      "[800]\ttraining's binary_logloss: 0.278689\tvalid_1's binary_logloss: 0.296181\n",
      "[900]\ttraining's binary_logloss: 0.276654\tvalid_1's binary_logloss: 0.296202\n",
      "Early stopping, best iteration is:\n",
      "[810]\ttraining's binary_logloss: 0.278466\tvalid_1's binary_logloss: 0.296155\n"
     ]
    },
    {
     "name": "stderr",
     "output_type": "stream",
     "text": [
      "tune_feature_fraction, val_score: 0.295973: 100%|##########| 6/6 [03:25<00:00, 34.29s/it]\n",
      "tune_lambda_l1_and_lambda_l2, val_score: 0.295973:   0%|          | 0/20 [00:00<?, ?it/s]"
     ]
    },
    {
     "name": "stdout",
     "output_type": "stream",
     "text": [
      "Training until validation scores don't improve for 100 rounds\n",
      "[100]\ttraining's binary_logloss: 0.297105\tvalid_1's binary_logloss: 0.297642\n",
      "[200]\ttraining's binary_logloss: 0.293941\tvalid_1's binary_logloss: 0.296893\n",
      "[300]\ttraining's binary_logloss: 0.291228\tvalid_1's binary_logloss: 0.296557\n",
      "[400]\ttraining's binary_logloss: 0.288778\tvalid_1's binary_logloss: 0.29641\n",
      "[500]\ttraining's binary_logloss: 0.286428\tvalid_1's binary_logloss: 0.296273\n",
      "[600]\ttraining's binary_logloss: 0.284165\tvalid_1's binary_logloss: 0.29619\n",
      "[700]\ttraining's binary_logloss: 0.281971\tvalid_1's binary_logloss: 0.296071\n",
      "[800]\ttraining's binary_logloss: 0.279735\tvalid_1's binary_logloss: 0.296031\n",
      "[900]\ttraining's binary_logloss: 0.277671\tvalid_1's binary_logloss: 0.295982\n",
      "[1000]\ttraining's binary_logloss: 0.275715\tvalid_1's binary_logloss: 0.296021\n",
      "Did not meet early stopping. Best iteration is:\n",
      "[1000]\ttraining's binary_logloss: 0.275715\tvalid_1's binary_logloss: 0.296021\n"
     ]
    },
    {
     "name": "stderr",
     "output_type": "stream",
     "text": [
      "tune_lambda_l1_and_lambda_l2, val_score: 0.295973:   5%|5         | 1/20 [00:37<11:37, 36.72s/it]"
     ]
    },
    {
     "name": "stdout",
     "output_type": "stream",
     "text": [
      "Training until validation scores don't improve for 100 rounds\n",
      "[100]\ttraining's binary_logloss: 0.297054\tvalid_1's binary_logloss: 0.297696\n",
      "[200]\ttraining's binary_logloss: 0.293685\tvalid_1's binary_logloss: 0.2969\n",
      "[300]\ttraining's binary_logloss: 0.290953\tvalid_1's binary_logloss: 0.296571\n",
      "[400]\ttraining's binary_logloss: 0.288511\tvalid_1's binary_logloss: 0.296427\n",
      "[500]\ttraining's binary_logloss: 0.286138\tvalid_1's binary_logloss: 0.296314\n",
      "[600]\ttraining's binary_logloss: 0.283778\tvalid_1's binary_logloss: 0.296198\n",
      "[700]\ttraining's binary_logloss: 0.281586\tvalid_1's binary_logloss: 0.2961\n",
      "[800]\ttraining's binary_logloss: 0.279389\tvalid_1's binary_logloss: 0.296006\n",
      "[900]\ttraining's binary_logloss: 0.277282\tvalid_1's binary_logloss: 0.296002\n",
      "Early stopping, best iteration is:\n",
      "[810]\ttraining's binary_logloss: 0.279141\tvalid_1's binary_logloss: 0.295973\n"
     ]
    },
    {
     "name": "stderr",
     "output_type": "stream",
     "text": [
      "tune_lambda_l1_and_lambda_l2, val_score: 0.295973:  10%|#         | 2/20 [01:10<10:45, 35.88s/it]"
     ]
    },
    {
     "name": "stdout",
     "output_type": "stream",
     "text": [
      "Training until validation scores don't improve for 100 rounds\n",
      "[100]\ttraining's binary_logloss: 0.297113\tvalid_1's binary_logloss: 0.297735\n",
      "[200]\ttraining's binary_logloss: 0.293778\tvalid_1's binary_logloss: 0.296981\n",
      "[300]\ttraining's binary_logloss: 0.291181\tvalid_1's binary_logloss: 0.296725\n",
      "[400]\ttraining's binary_logloss: 0.288676\tvalid_1's binary_logloss: 0.296502\n",
      "[500]\ttraining's binary_logloss: 0.28628\tvalid_1's binary_logloss: 0.2963\n",
      "[600]\ttraining's binary_logloss: 0.284039\tvalid_1's binary_logloss: 0.296283\n",
      "[700]\ttraining's binary_logloss: 0.281759\tvalid_1's binary_logloss: 0.296226\n",
      "[800]\ttraining's binary_logloss: 0.279589\tvalid_1's binary_logloss: 0.296093\n",
      "[900]\ttraining's binary_logloss: 0.277477\tvalid_1's binary_logloss: 0.296137\n",
      "Early stopping, best iteration is:\n",
      "[817]\ttraining's binary_logloss: 0.279207\tvalid_1's binary_logloss: 0.296076\n"
     ]
    },
    {
     "name": "stderr",
     "output_type": "stream",
     "text": [
      "tune_lambda_l1_and_lambda_l2, val_score: 0.295973:  15%|#5        | 3/20 [01:43<09:56, 35.07s/it]"
     ]
    },
    {
     "name": "stdout",
     "output_type": "stream",
     "text": [
      "Training until validation scores don't improve for 100 rounds\n",
      "[100]\ttraining's binary_logloss: 0.297095\tvalid_1's binary_logloss: 0.297732\n",
      "[200]\ttraining's binary_logloss: 0.293837\tvalid_1's binary_logloss: 0.297032\n",
      "[300]\ttraining's binary_logloss: 0.290977\tvalid_1's binary_logloss: 0.29665\n",
      "[400]\ttraining's binary_logloss: 0.28848\tvalid_1's binary_logloss: 0.296582\n",
      "[500]\ttraining's binary_logloss: 0.286068\tvalid_1's binary_logloss: 0.296502\n",
      "[600]\ttraining's binary_logloss: 0.283733\tvalid_1's binary_logloss: 0.296509\n",
      "[700]\ttraining's binary_logloss: 0.281403\tvalid_1's binary_logloss: 0.296358\n",
      "[800]\ttraining's binary_logloss: 0.279246\tvalid_1's binary_logloss: 0.296296\n",
      "[900]\ttraining's binary_logloss: 0.277164\tvalid_1's binary_logloss: 0.296297\n",
      "Early stopping, best iteration is:\n",
      "[805]\ttraining's binary_logloss: 0.27912\tvalid_1's binary_logloss: 0.296276\n"
     ]
    },
    {
     "name": "stderr",
     "output_type": "stream",
     "text": [
      "tune_lambda_l1_and_lambda_l2, val_score: 0.295973:  20%|##        | 4/20 [02:16<09:11, 34.46s/it]"
     ]
    },
    {
     "name": "stdout",
     "output_type": "stream",
     "text": [
      "Training until validation scores don't improve for 100 rounds\n",
      "[100]\ttraining's binary_logloss: 0.297163\tvalid_1's binary_logloss: 0.297773\n",
      "[200]\ttraining's binary_logloss: 0.293917\tvalid_1's binary_logloss: 0.29709\n",
      "[300]\ttraining's binary_logloss: 0.291271\tvalid_1's binary_logloss: 0.29672\n",
      "[400]\ttraining's binary_logloss: 0.288697\tvalid_1's binary_logloss: 0.296546\n",
      "[500]\ttraining's binary_logloss: 0.286321\tvalid_1's binary_logloss: 0.296396\n",
      "[600]\ttraining's binary_logloss: 0.28392\tvalid_1's binary_logloss: 0.296252\n",
      "[700]\ttraining's binary_logloss: 0.281637\tvalid_1's binary_logloss: 0.296189\n",
      "[800]\ttraining's binary_logloss: 0.279443\tvalid_1's binary_logloss: 0.296154\n",
      "Early stopping, best iteration is:\n",
      "[753]\ttraining's binary_logloss: 0.280479\tvalid_1's binary_logloss: 0.296103\n"
     ]
    },
    {
     "name": "stderr",
     "output_type": "stream",
     "text": [
      "tune_lambda_l1_and_lambda_l2, val_score: 0.295973:  25%|##5       | 5/20 [02:48<08:20, 33.40s/it]"
     ]
    },
    {
     "name": "stdout",
     "output_type": "stream",
     "text": [
      "Training until validation scores don't improve for 100 rounds\n",
      "[100]\ttraining's binary_logloss: 0.297205\tvalid_1's binary_logloss: 0.297807\n",
      "[200]\ttraining's binary_logloss: 0.29387\tvalid_1's binary_logloss: 0.297036\n",
      "[300]\ttraining's binary_logloss: 0.291224\tvalid_1's binary_logloss: 0.296851\n",
      "[400]\ttraining's binary_logloss: 0.288697\tvalid_1's binary_logloss: 0.296663\n",
      "[500]\ttraining's binary_logloss: 0.286225\tvalid_1's binary_logloss: 0.296495\n",
      "[600]\ttraining's binary_logloss: 0.283908\tvalid_1's binary_logloss: 0.29637\n",
      "[700]\ttraining's binary_logloss: 0.281669\tvalid_1's binary_logloss: 0.296313\n",
      "[800]\ttraining's binary_logloss: 0.279433\tvalid_1's binary_logloss: 0.296267\n",
      "[900]\ttraining's binary_logloss: 0.277414\tvalid_1's binary_logloss: 0.29617\n",
      "[1000]\ttraining's binary_logloss: 0.275467\tvalid_1's binary_logloss: 0.29621\n",
      "Did not meet early stopping. Best iteration is:\n",
      "[1000]\ttraining's binary_logloss: 0.275467\tvalid_1's binary_logloss: 0.29621\n"
     ]
    },
    {
     "name": "stderr",
     "output_type": "stream",
     "text": [
      "tune_lambda_l1_and_lambda_l2, val_score: 0.295973:  30%|###       | 6/20 [03:23<07:58, 34.20s/it]"
     ]
    },
    {
     "name": "stdout",
     "output_type": "stream",
     "text": [
      "Training until validation scores don't improve for 100 rounds\n",
      "[100]\ttraining's binary_logloss: 0.29749\tvalid_1's binary_logloss: 0.297771\n",
      "[200]\ttraining's binary_logloss: 0.294555\tvalid_1's binary_logloss: 0.296755\n",
      "[300]\ttraining's binary_logloss: 0.292362\tvalid_1's binary_logloss: 0.296356\n",
      "[400]\ttraining's binary_logloss: 0.290419\tvalid_1's binary_logloss: 0.296079\n",
      "[500]\ttraining's binary_logloss: 0.28852\tvalid_1's binary_logloss: 0.295859\n",
      "[600]\ttraining's binary_logloss: 0.286792\tvalid_1's binary_logloss: 0.29574\n",
      "[700]\ttraining's binary_logloss: 0.285042\tvalid_1's binary_logloss: 0.295609\n",
      "[800]\ttraining's binary_logloss: 0.28346\tvalid_1's binary_logloss: 0.295519\n",
      "[900]\ttraining's binary_logloss: 0.281863\tvalid_1's binary_logloss: 0.295403\n",
      "[1000]\ttraining's binary_logloss: 0.280343\tvalid_1's binary_logloss: 0.295419\n",
      "Did not meet early stopping. Best iteration is:\n",
      "[1000]\ttraining's binary_logloss: 0.280343\tvalid_1's binary_logloss: 0.295419\n"
     ]
    },
    {
     "name": "stderr",
     "output_type": "stream",
     "text": [
      "tune_lambda_l1_and_lambda_l2, val_score: 0.295419:  35%|###5      | 7/20 [04:04<07:49, 36.09s/it]"
     ]
    },
    {
     "name": "stdout",
     "output_type": "stream",
     "text": [
      "Training until validation scores don't improve for 100 rounds\n",
      "[100]\ttraining's binary_logloss: 0.297146\tvalid_1's binary_logloss: 0.297826\n",
      "[200]\ttraining's binary_logloss: 0.293866\tvalid_1's binary_logloss: 0.297078\n",
      "[300]\ttraining's binary_logloss: 0.291073\tvalid_1's binary_logloss: 0.296699\n",
      "[400]\ttraining's binary_logloss: 0.288537\tvalid_1's binary_logloss: 0.296572\n",
      "[500]\ttraining's binary_logloss: 0.286162\tvalid_1's binary_logloss: 0.296384\n",
      "[600]\ttraining's binary_logloss: 0.283906\tvalid_1's binary_logloss: 0.296268\n",
      "[700]\ttraining's binary_logloss: 0.281663\tvalid_1's binary_logloss: 0.296224\n",
      "[800]\ttraining's binary_logloss: 0.279483\tvalid_1's binary_logloss: 0.296178\n",
      "[900]\ttraining's binary_logloss: 0.277255\tvalid_1's binary_logloss: 0.296084\n",
      "[1000]\ttraining's binary_logloss: 0.275226\tvalid_1's binary_logloss: 0.296108\n",
      "Did not meet early stopping. Best iteration is:\n",
      "[1000]\ttraining's binary_logloss: 0.275226\tvalid_1's binary_logloss: 0.296108\n"
     ]
    },
    {
     "name": "stderr",
     "output_type": "stream",
     "text": [
      "tune_lambda_l1_and_lambda_l2, val_score: 0.295419:  40%|####      | 8/20 [04:40<07:14, 36.17s/it]"
     ]
    },
    {
     "name": "stdout",
     "output_type": "stream",
     "text": [
      "Training until validation scores don't improve for 100 rounds\n",
      "[100]\ttraining's binary_logloss: 0.297087\tvalid_1's binary_logloss: 0.297762\n",
      "[200]\ttraining's binary_logloss: 0.293755\tvalid_1's binary_logloss: 0.29695\n",
      "[300]\ttraining's binary_logloss: 0.291088\tvalid_1's binary_logloss: 0.296634\n",
      "[400]\ttraining's binary_logloss: 0.288639\tvalid_1's binary_logloss: 0.296495\n",
      "[500]\ttraining's binary_logloss: 0.286225\tvalid_1's binary_logloss: 0.296313\n",
      "[600]\ttraining's binary_logloss: 0.283875\tvalid_1's binary_logloss: 0.296141\n",
      "[700]\ttraining's binary_logloss: 0.281538\tvalid_1's binary_logloss: 0.29609\n",
      "[800]\ttraining's binary_logloss: 0.279384\tvalid_1's binary_logloss: 0.29604\n",
      "[900]\ttraining's binary_logloss: 0.277253\tvalid_1's binary_logloss: 0.296042\n",
      "[1000]\ttraining's binary_logloss: 0.275222\tvalid_1's binary_logloss: 0.296004\n",
      "Did not meet early stopping. Best iteration is:\n",
      "[1000]\ttraining's binary_logloss: 0.275222\tvalid_1's binary_logloss: 0.296004\n"
     ]
    },
    {
     "name": "stderr",
     "output_type": "stream",
     "text": [
      "tune_lambda_l1_and_lambda_l2, val_score: 0.295419:  45%|####5     | 9/20 [05:17<06:40, 36.40s/it]"
     ]
    },
    {
     "name": "stdout",
     "output_type": "stream",
     "text": [
      "Training until validation scores don't improve for 100 rounds\n",
      "[100]\ttraining's binary_logloss: 0.297111\tvalid_1's binary_logloss: 0.297769\n",
      "[200]\ttraining's binary_logloss: 0.293775\tvalid_1's binary_logloss: 0.297031\n",
      "[300]\ttraining's binary_logloss: 0.291079\tvalid_1's binary_logloss: 0.296686\n",
      "[400]\ttraining's binary_logloss: 0.288556\tvalid_1's binary_logloss: 0.296532\n",
      "[500]\ttraining's binary_logloss: 0.28619\tvalid_1's binary_logloss: 0.296438\n",
      "[600]\ttraining's binary_logloss: 0.283887\tvalid_1's binary_logloss: 0.296305\n",
      "[700]\ttraining's binary_logloss: 0.281723\tvalid_1's binary_logloss: 0.296244\n",
      "[800]\ttraining's binary_logloss: 0.279519\tvalid_1's binary_logloss: 0.296113\n",
      "Early stopping, best iteration is:\n",
      "[788]\ttraining's binary_logloss: 0.279768\tvalid_1's binary_logloss: 0.296092\n"
     ]
    },
    {
     "name": "stderr",
     "output_type": "stream",
     "text": [
      "tune_lambda_l1_and_lambda_l2, val_score: 0.295419:  50%|#####     | 10/20 [05:50<05:54, 35.43s/it]"
     ]
    },
    {
     "name": "stdout",
     "output_type": "stream",
     "text": [
      "Training until validation scores don't improve for 100 rounds\n",
      "[100]\ttraining's binary_logloss: 0.297555\tvalid_1's binary_logloss: 0.297823\n",
      "[200]\ttraining's binary_logloss: 0.294812\tvalid_1's binary_logloss: 0.296771\n",
      "[300]\ttraining's binary_logloss: 0.292786\tvalid_1's binary_logloss: 0.296269\n",
      "[400]\ttraining's binary_logloss: 0.291055\tvalid_1's binary_logloss: 0.296078\n",
      "[500]\ttraining's binary_logloss: 0.289389\tvalid_1's binary_logloss: 0.295862\n",
      "[600]\ttraining's binary_logloss: 0.287883\tvalid_1's binary_logloss: 0.295736\n",
      "[700]\ttraining's binary_logloss: 0.286503\tvalid_1's binary_logloss: 0.295695\n",
      "[800]\ttraining's binary_logloss: 0.285127\tvalid_1's binary_logloss: 0.295629\n",
      "[900]\ttraining's binary_logloss: 0.283851\tvalid_1's binary_logloss: 0.295565\n",
      "[1000]\ttraining's binary_logloss: 0.282569\tvalid_1's binary_logloss: 0.29556\n",
      "Did not meet early stopping. Best iteration is:\n",
      "[1000]\ttraining's binary_logloss: 0.282569\tvalid_1's binary_logloss: 0.29556\n"
     ]
    },
    {
     "name": "stderr",
     "output_type": "stream",
     "text": [
      "tune_lambda_l1_and_lambda_l2, val_score: 0.295419:  55%|#####5    | 11/20 [06:32<05:35, 37.32s/it]"
     ]
    },
    {
     "name": "stdout",
     "output_type": "stream",
     "text": [
      "Training until validation scores don't improve for 100 rounds\n",
      "[100]\ttraining's binary_logloss: 0.297597\tvalid_1's binary_logloss: 0.297892\n",
      "[200]\ttraining's binary_logloss: 0.294785\tvalid_1's binary_logloss: 0.296751\n",
      "[300]\ttraining's binary_logloss: 0.292717\tvalid_1's binary_logloss: 0.296258\n",
      "[400]\ttraining's binary_logloss: 0.29091\tvalid_1's binary_logloss: 0.295988\n",
      "[500]\ttraining's binary_logloss: 0.289299\tvalid_1's binary_logloss: 0.295782\n",
      "[600]\ttraining's binary_logloss: 0.287755\tvalid_1's binary_logloss: 0.295673\n",
      "[700]\ttraining's binary_logloss: 0.286303\tvalid_1's binary_logloss: 0.295562\n",
      "[800]\ttraining's binary_logloss: 0.284941\tvalid_1's binary_logloss: 0.295547\n",
      "[900]\ttraining's binary_logloss: 0.283619\tvalid_1's binary_logloss: 0.295578\n",
      "Early stopping, best iteration is:\n",
      "[847]\ttraining's binary_logloss: 0.284314\tvalid_1's binary_logloss: 0.295544\n"
     ]
    },
    {
     "name": "stderr",
     "output_type": "stream",
     "text": [
      "tune_lambda_l1_and_lambda_l2, val_score: 0.295419:  60%|######    | 12/20 [07:12<05:04, 38.03s/it]"
     ]
    },
    {
     "name": "stdout",
     "output_type": "stream",
     "text": [
      "Training until validation scores don't improve for 100 rounds\n",
      "[100]\ttraining's binary_logloss: 0.297428\tvalid_1's binary_logloss: 0.297791\n",
      "[200]\ttraining's binary_logloss: 0.294537\tvalid_1's binary_logloss: 0.296795\n",
      "[300]\ttraining's binary_logloss: 0.292313\tvalid_1's binary_logloss: 0.296294\n",
      "[400]\ttraining's binary_logloss: 0.290422\tvalid_1's binary_logloss: 0.296045\n",
      "[500]\ttraining's binary_logloss: 0.288645\tvalid_1's binary_logloss: 0.295908\n",
      "[600]\ttraining's binary_logloss: 0.286931\tvalid_1's binary_logloss: 0.295787\n",
      "[700]\ttraining's binary_logloss: 0.28527\tvalid_1's binary_logloss: 0.295717\n",
      "[800]\ttraining's binary_logloss: 0.283627\tvalid_1's binary_logloss: 0.295692\n",
      "Early stopping, best iteration is:\n",
      "[743]\ttraining's binary_logloss: 0.284535\tvalid_1's binary_logloss: 0.295668\n"
     ]
    },
    {
     "name": "stderr",
     "output_type": "stream",
     "text": [
      "tune_lambda_l1_and_lambda_l2, val_score: 0.295419:  65%|######5   | 13/20 [07:47<04:19, 37.05s/it]"
     ]
    },
    {
     "name": "stdout",
     "output_type": "stream",
     "text": [
      "Training until validation scores don't improve for 100 rounds\n",
      "[100]\ttraining's binary_logloss: 0.297195\tvalid_1's binary_logloss: 0.297694\n",
      "[200]\ttraining's binary_logloss: 0.294054\tvalid_1's binary_logloss: 0.296783\n",
      "[300]\ttraining's binary_logloss: 0.291629\tvalid_1's binary_logloss: 0.29648\n",
      "[400]\ttraining's binary_logloss: 0.289161\tvalid_1's binary_logloss: 0.296221\n",
      "[500]\ttraining's binary_logloss: 0.286951\tvalid_1's binary_logloss: 0.296023\n",
      "[600]\ttraining's binary_logloss: 0.284797\tvalid_1's binary_logloss: 0.29592\n",
      "[700]\ttraining's binary_logloss: 0.282745\tvalid_1's binary_logloss: 0.295885\n",
      "[800]\ttraining's binary_logloss: 0.280732\tvalid_1's binary_logloss: 0.29588\n",
      "Early stopping, best iteration is:\n",
      "[773]\ttraining's binary_logloss: 0.281239\tvalid_1's binary_logloss: 0.295843\n"
     ]
    },
    {
     "name": "stderr",
     "output_type": "stream",
     "text": [
      "tune_lambda_l1_and_lambda_l2, val_score: 0.295419:  70%|#######   | 14/20 [08:21<03:37, 36.25s/it]"
     ]
    },
    {
     "name": "stdout",
     "output_type": "stream",
     "text": [
      "Training until validation scores don't improve for 100 rounds\n",
      "[100]\ttraining's binary_logloss: 0.297396\tvalid_1's binary_logloss: 0.297774\n",
      "[200]\ttraining's binary_logloss: 0.29451\tvalid_1's binary_logloss: 0.296908\n",
      "[300]\ttraining's binary_logloss: 0.292325\tvalid_1's binary_logloss: 0.296556\n",
      "[400]\ttraining's binary_logloss: 0.290274\tvalid_1's binary_logloss: 0.296226\n",
      "[500]\ttraining's binary_logloss: 0.288383\tvalid_1's binary_logloss: 0.29598\n",
      "[600]\ttraining's binary_logloss: 0.286597\tvalid_1's binary_logloss: 0.295892\n",
      "[700]\ttraining's binary_logloss: 0.284837\tvalid_1's binary_logloss: 0.295803\n",
      "[800]\ttraining's binary_logloss: 0.283159\tvalid_1's binary_logloss: 0.295718\n",
      "[900]\ttraining's binary_logloss: 0.28149\tvalid_1's binary_logloss: 0.295641\n",
      "[1000]\ttraining's binary_logloss: 0.27992\tvalid_1's binary_logloss: 0.295624\n",
      "Did not meet early stopping. Best iteration is:\n",
      "[1000]\ttraining's binary_logloss: 0.27992\tvalid_1's binary_logloss: 0.295624\n"
     ]
    },
    {
     "name": "stderr",
     "output_type": "stream",
     "text": [
      "tune_lambda_l1_and_lambda_l2, val_score: 0.295419:  75%|#######5  | 15/20 [09:01<03:06, 37.24s/it]"
     ]
    },
    {
     "name": "stdout",
     "output_type": "stream",
     "text": [
      "Training until validation scores don't improve for 100 rounds\n",
      "[100]\ttraining's binary_logloss: 0.297133\tvalid_1's binary_logloss: 0.29773\n",
      "[200]\ttraining's binary_logloss: 0.293831\tvalid_1's binary_logloss: 0.296918\n",
      "[300]\ttraining's binary_logloss: 0.291174\tvalid_1's binary_logloss: 0.296655\n",
      "[400]\ttraining's binary_logloss: 0.288579\tvalid_1's binary_logloss: 0.296418\n",
      "[500]\ttraining's binary_logloss: 0.286129\tvalid_1's binary_logloss: 0.296181\n",
      "[600]\ttraining's binary_logloss: 0.283951\tvalid_1's binary_logloss: 0.296085\n",
      "[700]\ttraining's binary_logloss: 0.281782\tvalid_1's binary_logloss: 0.295984\n",
      "[800]\ttraining's binary_logloss: 0.279647\tvalid_1's binary_logloss: 0.296007\n",
      "Early stopping, best iteration is:\n",
      "[704]\ttraining's binary_logloss: 0.281672\tvalid_1's binary_logloss: 0.295979\n"
     ]
    },
    {
     "name": "stderr",
     "output_type": "stream",
     "text": [
      "tune_lambda_l1_and_lambda_l2, val_score: 0.295419:  80%|########  | 16/20 [09:34<02:23, 35.98s/it]"
     ]
    },
    {
     "name": "stdout",
     "output_type": "stream",
     "text": [
      "Training until validation scores don't improve for 100 rounds\n",
      "[100]\ttraining's binary_logloss: 0.297217\tvalid_1's binary_logloss: 0.29781\n",
      "[200]\ttraining's binary_logloss: 0.294084\tvalid_1's binary_logloss: 0.296999\n",
      "[300]\ttraining's binary_logloss: 0.291372\tvalid_1's binary_logloss: 0.29659\n",
      "[400]\ttraining's binary_logloss: 0.288958\tvalid_1's binary_logloss: 0.296383\n",
      "[500]\ttraining's binary_logloss: 0.286697\tvalid_1's binary_logloss: 0.29617\n",
      "[600]\ttraining's binary_logloss: 0.284462\tvalid_1's binary_logloss: 0.296033\n",
      "[700]\ttraining's binary_logloss: 0.282246\tvalid_1's binary_logloss: 0.295911\n",
      "[800]\ttraining's binary_logloss: 0.280153\tvalid_1's binary_logloss: 0.29593\n",
      "Early stopping, best iteration is:\n",
      "[754]\ttraining's binary_logloss: 0.2811\tvalid_1's binary_logloss: 0.295882\n"
     ]
    },
    {
     "name": "stderr",
     "output_type": "stream",
     "text": [
      "tune_lambda_l1_and_lambda_l2, val_score: 0.295419:  85%|########5 | 17/20 [10:06<01:44, 34.92s/it]"
     ]
    },
    {
     "name": "stdout",
     "output_type": "stream",
     "text": [
      "Training until validation scores don't improve for 100 rounds\n",
      "[100]\ttraining's binary_logloss: 0.297516\tvalid_1's binary_logloss: 0.297793\n",
      "[200]\ttraining's binary_logloss: 0.294749\tvalid_1's binary_logloss: 0.296763\n",
      "[300]\ttraining's binary_logloss: 0.292676\tvalid_1's binary_logloss: 0.296233\n",
      "[400]\ttraining's binary_logloss: 0.291023\tvalid_1's binary_logloss: 0.296062\n",
      "[500]\ttraining's binary_logloss: 0.289314\tvalid_1's binary_logloss: 0.295796\n",
      "[600]\ttraining's binary_logloss: 0.287713\tvalid_1's binary_logloss: 0.295653\n",
      "[700]\ttraining's binary_logloss: 0.286156\tvalid_1's binary_logloss: 0.295591\n",
      "[800]\ttraining's binary_logloss: 0.284692\tvalid_1's binary_logloss: 0.295507\n",
      "[900]\ttraining's binary_logloss: 0.283282\tvalid_1's binary_logloss: 0.295439\n",
      "[1000]\ttraining's binary_logloss: 0.281944\tvalid_1's binary_logloss: 0.295431\n",
      "Did not meet early stopping. Best iteration is:\n",
      "[1000]\ttraining's binary_logloss: 0.281944\tvalid_1's binary_logloss: 0.295431\n"
     ]
    },
    {
     "name": "stderr",
     "output_type": "stream",
     "text": [
      "tune_lambda_l1_and_lambda_l2, val_score: 0.295419:  90%|######### | 18/20 [10:49<01:14, 37.31s/it]"
     ]
    },
    {
     "name": "stdout",
     "output_type": "stream",
     "text": [
      "Training until validation scores don't improve for 100 rounds\n",
      "[100]\ttraining's binary_logloss: 0.297126\tvalid_1's binary_logloss: 0.297702\n",
      "[200]\ttraining's binary_logloss: 0.293851\tvalid_1's binary_logloss: 0.296937\n",
      "[300]\ttraining's binary_logloss: 0.291159\tvalid_1's binary_logloss: 0.29657\n",
      "[400]\ttraining's binary_logloss: 0.288688\tvalid_1's binary_logloss: 0.296427\n",
      "[500]\ttraining's binary_logloss: 0.286248\tvalid_1's binary_logloss: 0.296305\n",
      "[600]\ttraining's binary_logloss: 0.283944\tvalid_1's binary_logloss: 0.296122\n",
      "[700]\ttraining's binary_logloss: 0.281625\tvalid_1's binary_logloss: 0.295983\n",
      "[800]\ttraining's binary_logloss: 0.279469\tvalid_1's binary_logloss: 0.2959\n",
      "[900]\ttraining's binary_logloss: 0.277533\tvalid_1's binary_logloss: 0.295958\n",
      "Early stopping, best iteration is:\n",
      "[843]\ttraining's binary_logloss: 0.278649\tvalid_1's binary_logloss: 0.295894\n"
     ]
    },
    {
     "name": "stderr",
     "output_type": "stream",
     "text": [
      "tune_lambda_l1_and_lambda_l2, val_score: 0.295419:  95%|#########5| 19/20 [11:25<00:36, 36.87s/it]"
     ]
    },
    {
     "name": "stdout",
     "output_type": "stream",
     "text": [
      "Training until validation scores don't improve for 100 rounds\n",
      "[100]\ttraining's binary_logloss: 0.29712\tvalid_1's binary_logloss: 0.297725\n",
      "[200]\ttraining's binary_logloss: 0.293888\tvalid_1's binary_logloss: 0.296948\n",
      "[300]\ttraining's binary_logloss: 0.291078\tvalid_1's binary_logloss: 0.296557\n",
      "[400]\ttraining's binary_logloss: 0.288657\tvalid_1's binary_logloss: 0.296436\n",
      "[500]\ttraining's binary_logloss: 0.286182\tvalid_1's binary_logloss: 0.296281\n",
      "[600]\ttraining's binary_logloss: 0.283865\tvalid_1's binary_logloss: 0.296207\n",
      "[700]\ttraining's binary_logloss: 0.281623\tvalid_1's binary_logloss: 0.296115\n",
      "[800]\ttraining's binary_logloss: 0.279427\tvalid_1's binary_logloss: 0.296026\n",
      "[900]\ttraining's binary_logloss: 0.27733\tvalid_1's binary_logloss: 0.295994\n",
      "Early stopping, best iteration is:\n",
      "[892]\ttraining's binary_logloss: 0.2775\tvalid_1's binary_logloss: 0.29598\n"
     ]
    },
    {
     "name": "stderr",
     "output_type": "stream",
     "text": [
      "tune_lambda_l1_and_lambda_l2, val_score: 0.295419: 100%|##########| 20/20 [12:01<00:00, 36.06s/it]\n",
      "tune_min_child_samples, val_score: 0.295419:   0%|          | 0/5 [00:00<?, ?it/s]"
     ]
    },
    {
     "name": "stdout",
     "output_type": "stream",
     "text": [
      "Training until validation scores don't improve for 100 rounds\n",
      "[100]\ttraining's binary_logloss: 0.297458\tvalid_1's binary_logloss: 0.297772\n",
      "[200]\ttraining's binary_logloss: 0.294538\tvalid_1's binary_logloss: 0.296749\n",
      "[300]\ttraining's binary_logloss: 0.292353\tvalid_1's binary_logloss: 0.296326\n",
      "[400]\ttraining's binary_logloss: 0.290442\tvalid_1's binary_logloss: 0.296066\n",
      "[500]\ttraining's binary_logloss: 0.288617\tvalid_1's binary_logloss: 0.295859\n",
      "[600]\ttraining's binary_logloss: 0.286818\tvalid_1's binary_logloss: 0.295682\n",
      "[700]\ttraining's binary_logloss: 0.285151\tvalid_1's binary_logloss: 0.295576\n",
      "[800]\ttraining's binary_logloss: 0.283524\tvalid_1's binary_logloss: 0.295526\n",
      "[900]\ttraining's binary_logloss: 0.281905\tvalid_1's binary_logloss: 0.295475\n",
      "[1000]\ttraining's binary_logloss: 0.280276\tvalid_1's binary_logloss: 0.295465\n",
      "Did not meet early stopping. Best iteration is:\n",
      "[1000]\ttraining's binary_logloss: 0.280276\tvalid_1's binary_logloss: 0.295465\n"
     ]
    },
    {
     "name": "stderr",
     "output_type": "stream",
     "text": [
      "tune_min_child_samples, val_score: 0.295419:  20%|##        | 1/5 [00:39<02:35, 38.90s/it]"
     ]
    },
    {
     "name": "stdout",
     "output_type": "stream",
     "text": [
      "Training until validation scores don't improve for 100 rounds\n",
      "[100]\ttraining's binary_logloss: 0.297458\tvalid_1's binary_logloss: 0.297772\n",
      "[200]\ttraining's binary_logloss: 0.294556\tvalid_1's binary_logloss: 0.296793\n",
      "[300]\ttraining's binary_logloss: 0.292406\tvalid_1's binary_logloss: 0.296382\n",
      "[400]\ttraining's binary_logloss: 0.290409\tvalid_1's binary_logloss: 0.296138\n",
      "[500]\ttraining's binary_logloss: 0.28852\tvalid_1's binary_logloss: 0.295934\n",
      "[600]\ttraining's binary_logloss: 0.286718\tvalid_1's binary_logloss: 0.295797\n",
      "[700]\ttraining's binary_logloss: 0.285002\tvalid_1's binary_logloss: 0.29572\n",
      "Early stopping, best iteration is:\n",
      "[660]\ttraining's binary_logloss: 0.285666\tvalid_1's binary_logloss: 0.295694\n"
     ]
    },
    {
     "name": "stderr",
     "output_type": "stream",
     "text": [
      "tune_min_child_samples, val_score: 0.295419:  40%|####      | 2/5 [01:07<01:47, 35.79s/it]"
     ]
    },
    {
     "name": "stdout",
     "output_type": "stream",
     "text": [
      "Training until validation scores don't improve for 100 rounds\n",
      "[100]\ttraining's binary_logloss: 0.29749\tvalid_1's binary_logloss: 0.297771\n",
      "[200]\ttraining's binary_logloss: 0.294565\tvalid_1's binary_logloss: 0.296746\n",
      "[300]\ttraining's binary_logloss: 0.292395\tvalid_1's binary_logloss: 0.296346\n",
      "[400]\ttraining's binary_logloss: 0.290366\tvalid_1's binary_logloss: 0.296015\n",
      "[500]\ttraining's binary_logloss: 0.288474\tvalid_1's binary_logloss: 0.295772\n",
      "[600]\ttraining's binary_logloss: 0.286702\tvalid_1's binary_logloss: 0.29562\n",
      "[700]\ttraining's binary_logloss: 0.284945\tvalid_1's binary_logloss: 0.295538\n",
      "[800]\ttraining's binary_logloss: 0.28328\tvalid_1's binary_logloss: 0.295526\n",
      "[900]\ttraining's binary_logloss: 0.281615\tvalid_1's binary_logloss: 0.295509\n",
      "[1000]\ttraining's binary_logloss: 0.280044\tvalid_1's binary_logloss: 0.29555\n",
      "Did not meet early stopping. Best iteration is:\n",
      "[1000]\ttraining's binary_logloss: 0.280044\tvalid_1's binary_logloss: 0.29555\n"
     ]
    },
    {
     "name": "stderr",
     "output_type": "stream",
     "text": [
      "tune_min_child_samples, val_score: 0.295419:  60%|######    | 3/5 [01:39<01:09, 34.74s/it]"
     ]
    },
    {
     "name": "stdout",
     "output_type": "stream",
     "text": [
      "Training until validation scores don't improve for 100 rounds\n",
      "[100]\ttraining's binary_logloss: 0.297369\tvalid_1's binary_logloss: 0.297771\n",
      "[200]\ttraining's binary_logloss: 0.294519\tvalid_1's binary_logloss: 0.296786\n",
      "[300]\ttraining's binary_logloss: 0.292341\tvalid_1's binary_logloss: 0.296429\n",
      "[400]\ttraining's binary_logloss: 0.29034\tvalid_1's binary_logloss: 0.296239\n",
      "[500]\ttraining's binary_logloss: 0.288344\tvalid_1's binary_logloss: 0.296002\n",
      "[600]\ttraining's binary_logloss: 0.286561\tvalid_1's binary_logloss: 0.295853\n",
      "[700]\ttraining's binary_logloss: 0.284794\tvalid_1's binary_logloss: 0.295686\n",
      "[800]\ttraining's binary_logloss: 0.283124\tvalid_1's binary_logloss: 0.295638\n",
      "[900]\ttraining's binary_logloss: 0.281547\tvalid_1's binary_logloss: 0.295572\n",
      "[1000]\ttraining's binary_logloss: 0.280039\tvalid_1's binary_logloss: 0.295583\n",
      "Did not meet early stopping. Best iteration is:\n",
      "[1000]\ttraining's binary_logloss: 0.280039\tvalid_1's binary_logloss: 0.295583\n"
     ]
    },
    {
     "name": "stderr",
     "output_type": "stream",
     "text": [
      "tune_min_child_samples, val_score: 0.295419:  80%|########  | 4/5 [02:13<00:34, 34.35s/it]"
     ]
    },
    {
     "name": "stdout",
     "output_type": "stream",
     "text": [
      "Training until validation scores don't improve for 100 rounds\n",
      "[100]\ttraining's binary_logloss: 0.29747\tvalid_1's binary_logloss: 0.297818\n",
      "[200]\ttraining's binary_logloss: 0.294566\tvalid_1's binary_logloss: 0.296785\n",
      "[300]\ttraining's binary_logloss: 0.292358\tvalid_1's binary_logloss: 0.296401\n",
      "[400]\ttraining's binary_logloss: 0.290292\tvalid_1's binary_logloss: 0.29614\n",
      "[500]\ttraining's binary_logloss: 0.288381\tvalid_1's binary_logloss: 0.295939\n",
      "[600]\ttraining's binary_logloss: 0.286593\tvalid_1's binary_logloss: 0.295806\n",
      "[700]\ttraining's binary_logloss: 0.284837\tvalid_1's binary_logloss: 0.295717\n",
      "[800]\ttraining's binary_logloss: 0.283157\tvalid_1's binary_logloss: 0.295623\n",
      "[900]\ttraining's binary_logloss: 0.281611\tvalid_1's binary_logloss: 0.29563\n",
      "[1000]\ttraining's binary_logloss: 0.280042\tvalid_1's binary_logloss: 0.295619\n",
      "Did not meet early stopping. Best iteration is:\n",
      "[1000]\ttraining's binary_logloss: 0.280042\tvalid_1's binary_logloss: 0.295619\n"
     ]
    },
    {
     "name": "stderr",
     "output_type": "stream",
     "text": [
      "tune_min_child_samples, val_score: 0.295419: 100%|##########| 5/5 [02:45<00:00, 33.13s/it]\n"
     ]
    }
   ],
   "source": [
    "params_shared = {\n",
    "    \"objective\": \"binary\",\n",
    "    \"metric\": \"binary_logloss\",\n",
    "    \"verbosity\": 0,\n",
    "    \"boosting_type\": \"gbdt\",\n",
    "}\n",
    "tgt2params = {k:params_shared for k in tgts}\n",
    "\n",
    "tgt2bst={}\n",
    "tgt2best_params={}\n",
    "tgt2tuning_history={}\n",
    "tgt2ytr={}\n",
    "tgt2yvl={}\n",
    "tgt2prdtr={}\n",
    "tgt2prdvl={}\n",
    "tgt2pops={}\n",
    "for tgt in tgts:\n",
    "    print(dtnow(), tgt, '*'*80)\n",
    "    do_tgt(tgt)\n",
    "    \n",
    "pickle.dump(tgt2bst, open(f\"{p_out}/tgt2bst.p\", \"wb\"))"
   ]
  },
  {
   "cell_type": "code",
   "execution_count": null,
   "metadata": {},
   "outputs": [],
   "source": []
  },
  {
   "cell_type": "code",
   "execution_count": 12,
   "metadata": {},
   "outputs": [
    {
     "data": {
      "text/plain": [
       "{'Retweet': {'lambda_l1': 3.3174170426731426,\n",
       "  'lambda_l2': 2.1012711705532593e-07,\n",
       "  'num_leaves': 33,\n",
       "  'feature_fraction': 0.652,\n",
       "  'bagging_fraction': 0.881002186360005,\n",
       "  'bagging_freq': 1,\n",
       "  'min_child_samples': 20},\n",
       " 'Reply': {'lambda_l1': 4.337056650123979e-07,\n",
       "  'lambda_l2': 1.793273131189168,\n",
       "  'num_leaves': 30,\n",
       "  'feature_fraction': 0.784,\n",
       "  'bagging_fraction': 1.0,\n",
       "  'bagging_freq': 0,\n",
       "  'min_child_samples': 20},\n",
       " 'Like': {'lambda_l1': 3.2429437747372396e-08,\n",
       "  'lambda_l2': 1.750472601016411e-08,\n",
       "  'num_leaves': 93,\n",
       "  'feature_fraction': 0.9840000000000001,\n",
       "  'bagging_fraction': 1.0,\n",
       "  'bagging_freq': 0,\n",
       "  'min_child_samples': 20},\n",
       " 'RTwCmnt': {'lambda_l1': 3.125801542153872,\n",
       "  'lambda_l2': 4.373108763156336,\n",
       "  'num_leaves': 31,\n",
       "  'feature_fraction': 0.5,\n",
       "  'bagging_fraction': 1.0,\n",
       "  'bagging_freq': 0,\n",
       "  'min_child_samples': 20}}"
      ]
     },
     "execution_count": 12,
     "metadata": {},
     "output_type": "execute_result"
    }
   ],
   "source": [
    "tgt2best_params"
   ]
  },
  {
   "cell_type": "markdown",
   "metadata": {},
   "source": [
    "# analyze"
   ]
  },
  {
   "cell_type": "markdown",
   "metadata": {},
   "source": [
    "## tr vl"
   ]
  },
  {
   "cell_type": "raw",
   "metadata": {
    "scrolled": false
   },
   "source": [
    "for tgt in tgt2evalres:\n",
    "    evalres=tgt2evalres[tgt]\n",
    "    plt.plot(evalres['train']['logloss'][10:])\n",
    "    plt.plot(evalres['eval']['logloss'][10:])\n",
    "    plt.title(f\"{tgt} logloss {len(evalres['train']['logloss'])} rounds\")\n",
    "    plt.show()\n",
    "    plt.plot(evalres['train']['aucpr'])\n",
    "    plt.plot(evalres['eval']['aucpr'])\n",
    "    plt.title(f\"{tgt} aucpr {len(evalres['train']['aucpr'])} rounds\")\n",
    "    plt.show()"
   ]
  },
  {
   "cell_type": "raw",
   "metadata": {
    "scrolled": false
   },
   "source": [
    "def show_feat_importance(tgt):\n",
    "    bst=tgt2bst[tgt]\n",
    "    ax = xgb.plot_importance(bst, height=0.8, max_num_features=9)\n",
    "    ax.grid(False, axis=\"y\")\n",
    "    ax.set_title(f'{tgt} Estimated feature importance')\n",
    "    plt.show()\n",
    "    feat2importance=bst.get_fscore()\n",
    "    print(tgt)\n",
    "    display(pd.DataFrame([feat2importance.keys(), \n",
    "                          feat2importance.values()]).T.sort_values(1, ascending=False))\n",
    "\n",
    "for tgt in tgt2bst:\n",
    "    show_feat_importance(tgt)"
   ]
  },
  {
   "cell_type": "code",
   "execution_count": 13,
   "metadata": {},
   "outputs": [
    {
     "name": "stdout",
     "output_type": "stream",
     "text": [
      "Retweet\n",
      "tr prauc: 0.4202 tr rce: 19.3046\n",
      "vl prauc: 0.3307 vl rce: 13.0054\n",
      "Reply\n",
      "tr prauc: 0.4022 tr rce: 20.3392\n",
      "vl prauc: 0.3256 vl rce: 15.5210\n",
      "Like\n",
      "tr prauc: 0.7919 tr rce: 24.5937\n",
      "vl prauc: 0.6948 vl rce: 14.6054\n",
      "RTwCmnt\n",
      "tr prauc: 0.3282 tr rce: 14.5355\n",
      "vl prauc: 0.2408 vl rce: 9.3780\n"
     ]
    }
   ],
   "source": [
    "tgt2auc_tr={}\n",
    "tgt2rce_tr={}\n",
    "tgt2auc_vl={}\n",
    "tgt2rce_vl={}\n",
    "for tgt in tgt2bst:\n",
    "    print(tgt)\n",
    "    prdtr_i, prdvl_i = tgt2prdtr[tgt], tgt2prdvl[tgt]\n",
    "    ytr_i, yvl_i = tgt2ytr[tgt], tgt2yvl[tgt]\n",
    "    scr_auc_tr=compute_prauc(prdtr_i, ytr_i)\n",
    "    scr_rce_tr=compute_rce(prdtr_i, ytr_i)\n",
    "    scr_auc_vl=compute_prauc(prdvl_i, yvl_i)\n",
    "    scr_rce_vl=compute_rce(prdvl_i, yvl_i)\n",
    "\n",
    "    tgt2auc_tr[tgt]=scr_auc_tr\n",
    "    tgt2rce_tr[tgt]=scr_rce_tr\n",
    "    tgt2auc_vl[tgt]=scr_auc_vl\n",
    "    tgt2rce_vl[tgt]=scr_rce_vl\n",
    "    \n",
    "    print('tr prauc:', f'{scr_auc_tr:.4f}','tr rce:', f'{scr_rce_tr:.4f}', )\n",
    "    print('vl prauc:', f'{scr_auc_vl:.4f}','vl rce:', f'{scr_rce_vl:.4f}', )"
   ]
  },
  {
   "cell_type": "code",
   "execution_count": 14,
   "metadata": {},
   "outputs": [
    {
     "data": {
      "text/html": [
       "<div>\n",
       "<style scoped>\n",
       "    .dataframe tbody tr th:only-of-type {\n",
       "        vertical-align: middle;\n",
       "    }\n",
       "\n",
       "    .dataframe tbody tr th {\n",
       "        vertical-align: top;\n",
       "    }\n",
       "\n",
       "    .dataframe thead th {\n",
       "        text-align: right;\n",
       "    }\n",
       "</style>\n",
       "<table border=\"1\" class=\"dataframe\">\n",
       "  <thead>\n",
       "    <tr style=\"text-align: right;\">\n",
       "      <th></th>\n",
       "      <th>0</th>\n",
       "      <th>1</th>\n",
       "      <th>2</th>\n",
       "      <th>3</th>\n",
       "      <th>4</th>\n",
       "      <th>5</th>\n",
       "      <th>6</th>\n",
       "      <th>7</th>\n",
       "    </tr>\n",
       "  </thead>\n",
       "  <tbody>\n",
       "    <tr>\n",
       "      <th>metric</th>\n",
       "      <td>PRAUC Retweet</td>\n",
       "      <td>RCE Retweet</td>\n",
       "      <td>PRAUC Reply</td>\n",
       "      <td>RCE Reply</td>\n",
       "      <td>PRAUC Like</td>\n",
       "      <td>RCE Like</td>\n",
       "      <td>PRAUC RTwCmnt</td>\n",
       "      <td>RCE RTwCmnt</td>\n",
       "    </tr>\n",
       "    <tr>\n",
       "      <th>scrtr</th>\n",
       "      <td>0.420239</td>\n",
       "      <td>19.3046</td>\n",
       "      <td>0.402152</td>\n",
       "      <td>20.3392</td>\n",
       "      <td>0.791944</td>\n",
       "      <td>24.5937</td>\n",
       "      <td>0.3282</td>\n",
       "      <td>14.5355</td>\n",
       "    </tr>\n",
       "    <tr>\n",
       "      <th>scrvl</th>\n",
       "      <td>0.330692</td>\n",
       "      <td>13.0054</td>\n",
       "      <td>0.325645</td>\n",
       "      <td>15.521</td>\n",
       "      <td>0.694811</td>\n",
       "      <td>14.6054</td>\n",
       "      <td>0.240792</td>\n",
       "      <td>9.37804</td>\n",
       "    </tr>\n",
       "  </tbody>\n",
       "</table>\n",
       "</div>"
      ],
      "text/plain": [
       "                    0            1            2          3           4  \\\n",
       "metric  PRAUC Retweet  RCE Retweet  PRAUC Reply  RCE Reply  PRAUC Like   \n",
       "scrtr        0.420239      19.3046     0.402152    20.3392    0.791944   \n",
       "scrvl        0.330692      13.0054     0.325645     15.521    0.694811   \n",
       "\n",
       "               5              6            7  \n",
       "metric  RCE Like  PRAUC RTwCmnt  RCE RTwCmnt  \n",
       "scrtr    24.5937         0.3282      14.5355  \n",
       "scrvl    14.6054       0.240792      9.37804  "
      ]
     },
     "execution_count": 14,
     "metadata": {},
     "output_type": "execute_result"
    }
   ],
   "source": [
    "lsttr=[]\n",
    "lstvl=[]\n",
    "for tgt in ['Retweet','Reply','Like','RTwCmnt',]:\n",
    "    if tgt not in tgt2bst: continue\n",
    "    lsttr+=[(f'PRAUC {tgt}',tgt2auc_tr[tgt]),\n",
    "          (f'RCE {tgt}',tgt2rce_tr[tgt])]\n",
    "    lstvl+=[(f'PRAUC {tgt}',tgt2auc_vl[tgt]),\n",
    "          (f'RCE {tgt}',tgt2rce_vl[tgt])]\n",
    "\n",
    "dfscrtr=pd.DataFrame(lsttr)\n",
    "dfscrtr.columns=['metric','scr']\n",
    "dfscrvl=pd.DataFrame(lstvl)\n",
    "dfscrvl.columns=['metric','scr']\n",
    "dfscr = pd.merge(dfscrtr, dfscrvl, on='metric', suffixes=('tr','vl'))\n",
    "dfscr.T"
   ]
  },
  {
   "cell_type": "markdown",
   "metadata": {},
   "source": [
    "## valid"
   ]
  },
  {
   "cell_type": "code",
   "execution_count": 15,
   "metadata": {},
   "outputs": [],
   "source": [
    "# tgt=tgts[1]\n",
    "# tgtcol=tgt2col[tgt]\n",
    "# bst=tgt2bst[tgt]\n",
    "\n",
    "# dvalid=xgb.DMatrix(dfvalid[cols_feat], label=dfvalid[tgtcol], feature_names=cols_feat)\n",
    "\n",
    "# prdvalid = bst.predict(dvalid, ntree_limit=bst.best_ntree_limit)\n",
    "\n",
    "# pops=tgt2pops[tgt]\n",
    "\n",
    "# prdvalid[:10]\n",
    "# # array([0.11734424, 0.09971393, 0.05619054, 0.03059793, 0.07979691,\n",
    "# #        0.01358252, 0.05293725, 0.27954698, 0.05738379, 0.01741553],\n",
    "# #       dtype=float32)\n",
    "\n",
    "\n",
    "# pops\n",
    "# # {'train_pop': 4000000,\n",
    "# #  'target_pop': 109752,\n",
    "# #  'sampled_train_pop': 1000000,\n",
    "# #  'sampled_target_pop': 109752}\n",
    "\n",
    "# prdvalid_calib = calibration(prdvalid, **pops)\n",
    "\n",
    "# prdvalid_calib[:10]\n",
    "# # array([0.02952491, 0.02471944, 0.01344113, 0.00717127, 0.01945818,\n",
    "# #        0.00314114, 0.0126298 , 0.08155248, 0.01373977, 0.00403964],\n",
    "# #       dtype=float32)"
   ]
  },
  {
   "cell_type": "code",
   "execution_count": 16,
   "metadata": {},
   "outputs": [],
   "source": [
    "def do_post_valid(tgt):\n",
    "    tgtcol=tgt2col[tgt]\n",
    "    bst=tgt2bst[tgt]\n",
    "    pops=tgt2pops[tgt]\n",
    "    prdvalid = bst.predict(dfvalid[cols_feat],num_iteration=bst.best_iteration)\n",
    "    prdvalid_calib = calibration(prdvalid, **pops)\n",
    "    return prdvalid,prdvalid_calib"
   ]
  },
  {
   "cell_type": "code",
   "execution_count": 17,
   "metadata": {},
   "outputs": [
    {
     "name": "stdout",
     "output_type": "stream",
     "text": [
      "2020-03-25 00:05:16 Retweet\n",
      "2020-03-25 00:05:22 Reply\n",
      "2020-03-25 00:05:27 Like\n",
      "2020-03-25 00:05:34 RTwCmnt\n"
     ]
    }
   ],
   "source": [
    "tgt2yvalid={tgt:dfvalid[tgt2col[tgt]] for tgt in tgts}\n",
    "tgt2prdvalid={}\n",
    "tgt2prdvalid_calib={}\n",
    "for tgt in tgts:\n",
    "    print(dtnow(), tgt)\n",
    "    tgt2prdvalid[tgt],tgt2prdvalid_calib[tgt]=do_post_valid(tgt)\n"
   ]
  },
  {
   "cell_type": "code",
   "execution_count": 18,
   "metadata": {},
   "outputs": [
    {
     "name": "stdout",
     "output_type": "stream",
     "text": [
      "2020-03-25 00:05:40 Retweet\n",
      "2020-03-25 00:05:42 Reply\n",
      "2020-03-25 00:05:43 Like\n",
      "2020-03-25 00:05:45 RTwCmnt\n"
     ]
    }
   ],
   "source": [
    "tgt2auc_valid={}\n",
    "tgt2rce_valid={}\n",
    "tgt2auc_valid_calib={}\n",
    "tgt2rce_valid_calib={}\n",
    "for tgt in tgts:\n",
    "    print(dtnow(), tgt)\n",
    "    prdvalid, prdvalid_calib = tgt2prdvalid[tgt], tgt2prdvalid_calib[tgt]\n",
    "    yvalid = tgt2yvalid[tgt]\n",
    "    scr_auc_valid=compute_prauc(prdvalid, yvalid)\n",
    "    scr_rce_valid=compute_rce(prdvalid, yvalid)\n",
    "    scr_auc_valid_calib=compute_prauc(prdvalid_calib, yvalid)\n",
    "    scr_rce_valid_calib=compute_rce(prdvalid_calib, yvalid)\n",
    "\n",
    "    tgt2auc_valid[tgt]=scr_auc_valid\n",
    "    tgt2rce_valid[tgt]=scr_rce_valid\n",
    "    tgt2auc_valid_calib[tgt]=scr_auc_valid_calib\n",
    "    tgt2rce_valid_calib[tgt]=scr_rce_valid_calib"
   ]
  },
  {
   "cell_type": "code",
   "execution_count": 19,
   "metadata": {},
   "outputs": [
    {
     "name": "stdout",
     "output_type": "stream",
     "text": [
      "Retweet\n",
      "tr          prauc: 0.4202 tr rce: 19.3046\n",
      "vl          prauc: 0.3307 tr rce: 13.0054\n",
      "valid       prauc: 0.3227 tr rce: 12.7302\n",
      "valid_calib prauc: 0.3227 tr rce: 12.7302\n",
      "Reply\n",
      "tr          prauc: 0.4022 tr rce: 20.3392\n",
      "vl          prauc: 0.3256 tr rce: 15.5210\n",
      "valid       prauc: 0.1067 tr rce: -21.7764\n",
      "valid_calib prauc: 0.1067 tr rce: 11.9742\n",
      "Like\n",
      "tr          prauc: 0.7919 tr rce: 24.5937\n",
      "vl          prauc: 0.6948 tr rce: 14.6054\n",
      "valid       prauc: 0.6903 tr rce: 14.3485\n",
      "valid_calib prauc: 0.6903 tr rce: 14.3485\n",
      "RTwCmnt\n",
      "tr          prauc: 0.3282 tr rce: 14.5355\n",
      "vl          prauc: 0.2408 tr rce: 9.3780\n",
      "valid       prauc: 0.0247 tr rce: -159.1833\n",
      "valid_calib prauc: 0.0247 tr rce: 5.9258\n"
     ]
    }
   ],
   "source": [
    "for tgt in tgts:\n",
    "    print(tgt)\n",
    "    print('tr          prauc:', f'{tgt2auc_tr[tgt]:.4f}','tr rce:', f'{tgt2rce_tr[tgt]:.4f}', )\n",
    "    print('vl          prauc:', f'{tgt2auc_vl[tgt]:.4f}','tr rce:', f'{tgt2rce_vl[tgt]:.4f}', )\n",
    "    print('valid       prauc:', f'{tgt2auc_valid[tgt]:.4f}','tr rce:', f'{tgt2rce_valid[tgt]:.4f}', )\n",
    "    print('valid_calib prauc:', f'{tgt2auc_valid_calib[tgt]:.4f}','tr rce:', f'{tgt2rce_valid_calib[tgt]:.4f}', )\n",
    "    "
   ]
  },
  {
   "cell_type": "code",
   "execution_count": 20,
   "metadata": {},
   "outputs": [
    {
     "data": {
      "text/html": [
       "<div>\n",
       "<style scoped>\n",
       "    .dataframe tbody tr th:only-of-type {\n",
       "        vertical-align: middle;\n",
       "    }\n",
       "\n",
       "    .dataframe tbody tr th {\n",
       "        vertical-align: top;\n",
       "    }\n",
       "\n",
       "    .dataframe thead th {\n",
       "        text-align: right;\n",
       "    }\n",
       "</style>\n",
       "<table border=\"1\" class=\"dataframe\">\n",
       "  <thead>\n",
       "    <tr style=\"text-align: right;\">\n",
       "      <th></th>\n",
       "      <th>0</th>\n",
       "      <th>1</th>\n",
       "      <th>2</th>\n",
       "      <th>3</th>\n",
       "      <th>4</th>\n",
       "      <th>5</th>\n",
       "      <th>6</th>\n",
       "      <th>7</th>\n",
       "    </tr>\n",
       "  </thead>\n",
       "  <tbody>\n",
       "    <tr>\n",
       "      <th>scr</th>\n",
       "      <td>PRAUC Retweet</td>\n",
       "      <td>RCE Retweet</td>\n",
       "      <td>PRAUC Reply</td>\n",
       "      <td>RCE Reply</td>\n",
       "      <td>PRAUC Like</td>\n",
       "      <td>RCE Like</td>\n",
       "      <td>PRAUC RTwCmnt</td>\n",
       "      <td>RCE RTwCmnt</td>\n",
       "    </tr>\n",
       "    <tr>\n",
       "      <th>tr</th>\n",
       "      <td>0.420239</td>\n",
       "      <td>19.3046</td>\n",
       "      <td>0.402152</td>\n",
       "      <td>20.3392</td>\n",
       "      <td>0.791944</td>\n",
       "      <td>24.5937</td>\n",
       "      <td>0.3282</td>\n",
       "      <td>14.5355</td>\n",
       "    </tr>\n",
       "    <tr>\n",
       "      <th>vl</th>\n",
       "      <td>0.330692</td>\n",
       "      <td>13.0054</td>\n",
       "      <td>0.325645</td>\n",
       "      <td>15.521</td>\n",
       "      <td>0.694811</td>\n",
       "      <td>14.6054</td>\n",
       "      <td>0.240792</td>\n",
       "      <td>9.37804</td>\n",
       "    </tr>\n",
       "    <tr>\n",
       "      <th>valid</th>\n",
       "      <td>0.32271</td>\n",
       "      <td>12.7302</td>\n",
       "      <td>0.106678</td>\n",
       "      <td>-21.7764</td>\n",
       "      <td>0.690334</td>\n",
       "      <td>14.3485</td>\n",
       "      <td>0.0246643</td>\n",
       "      <td>-159.183</td>\n",
       "    </tr>\n",
       "    <tr>\n",
       "      <th>valid_calib</th>\n",
       "      <td>0.32271</td>\n",
       "      <td>12.7302</td>\n",
       "      <td>0.106678</td>\n",
       "      <td>11.9742</td>\n",
       "      <td>0.690334</td>\n",
       "      <td>14.3485</td>\n",
       "      <td>0.0246643</td>\n",
       "      <td>5.92585</td>\n",
       "    </tr>\n",
       "  </tbody>\n",
       "</table>\n",
       "</div>"
      ],
      "text/plain": [
       "                         0            1            2          3           4  \\\n",
       "scr          PRAUC Retweet  RCE Retweet  PRAUC Reply  RCE Reply  PRAUC Like   \n",
       "tr                0.420239      19.3046     0.402152    20.3392    0.791944   \n",
       "vl                0.330692      13.0054     0.325645     15.521    0.694811   \n",
       "valid              0.32271      12.7302     0.106678   -21.7764    0.690334   \n",
       "valid_calib        0.32271      12.7302     0.106678    11.9742    0.690334   \n",
       "\n",
       "                    5              6            7  \n",
       "scr          RCE Like  PRAUC RTwCmnt  RCE RTwCmnt  \n",
       "tr            24.5937         0.3282      14.5355  \n",
       "vl            14.6054       0.240792      9.37804  \n",
       "valid         14.3485      0.0246643     -159.183  \n",
       "valid_calib   14.3485      0.0246643      5.92585  "
      ]
     },
     "execution_count": 20,
     "metadata": {},
     "output_type": "execute_result"
    }
   ],
   "source": [
    "lsttr=[]\n",
    "lstvl=[]\n",
    "lstvalid=[]\n",
    "lstvalid_calib=[]\n",
    "for tgt in ['Retweet','Reply','Like','RTwCmnt',]:\n",
    "    if tgt not in tgt2bst: continue\n",
    "    lsttr+=[(f'PRAUC {tgt}',tgt2auc_tr[tgt]),\n",
    "          (f'RCE {tgt}',tgt2rce_tr[tgt])]\n",
    "    lstvl+=[(f'PRAUC {tgt}',tgt2auc_vl[tgt]),\n",
    "          (f'RCE {tgt}',tgt2rce_vl[tgt])]\n",
    "    lstvalid+=[(f'PRAUC {tgt}',tgt2auc_valid[tgt]),\n",
    "          (f'RCE {tgt}',tgt2rce_valid[tgt])]\n",
    "    lstvalid_calib+=[(f'PRAUC {tgt}',tgt2auc_valid_calib[tgt]),\n",
    "          (f'RCE {tgt}',tgt2rce_valid_calib[tgt])]\n",
    "\n",
    "dfscrtr=pd.DataFrame(lsttr)\n",
    "dfscrtr.columns=['metric','scr']\n",
    "dfscrvl=pd.DataFrame(lstvl)\n",
    "dfscrvl.columns=['metric','scr']\n",
    "dfscrvalid=pd.DataFrame(lstvalid)\n",
    "dfscrvalid.columns=['metric','scr']\n",
    "dfscrvalid_calib=pd.DataFrame(lstvalid_calib)\n",
    "dfscrvalid_calib.columns=['metric','scr']\n",
    "\n",
    "dfscr = reduce(lambda df1,df2: pd.merge(df1,df2,on='metric'), \n",
    "            [dfscrtr,dfscrvl,dfscrvalid,dfscrvalid_calib])\n",
    "\n",
    "dfscr.columns=['scr','tr','vl','valid','valid_calib']\n",
    "dfscr.T"
   ]
  },
  {
   "cell_type": "markdown",
   "metadata": {},
   "source": [
    "# save"
   ]
  },
  {
   "cell_type": "code",
   "execution_count": 21,
   "metadata": {},
   "outputs": [],
   "source": [
    "pickle.dump(tgt2bst, open(f\"{p_out}/tgt2bst.p\", \"wb\"))\n",
    "pickle.dump(tgt2best_params, open(f\"{p_out}/tgt2best_params.p\", \"wb\"))\n",
    "pickle.dump(tgt2tuning_history, open(f\"{p_out}/tgt2tuning_history.p\", \"wb\"))\n",
    "pickle.dump(tgt2ytr, open(f\"{p_out}/tgt2ytr.p\", \"wb\"))\n",
    "pickle.dump(tgt2yvl, open(f\"{p_out}/tgt2yvl.p\", \"wb\"))\n",
    "pickle.dump(tgt2prdtr, open(f\"{p_out}/tgt2prdtr.p\", \"wb\"))\n",
    "pickle.dump(tgt2prdvl, open(f\"{p_out}/tgt2prdvl.p\", \"wb\"))\n",
    "pickle.dump(tgt2pops, open(f\"{p_out}/tgt2pops.p\", \"wb\"))\n",
    "pickle.dump(tgt2prdvalid, open(f\"{p_out}/tgt2prdvalid.p\", \"wb\"))\n",
    "pickle.dump(tgt2prdvalid_calib, open(f\"{p_out}/tgt2prdvalid_calib.p\", \"wb\"))"
   ]
  },
  {
   "cell_type": "code",
   "execution_count": null,
   "metadata": {},
   "outputs": [],
   "source": []
  },
  {
   "cell_type": "markdown",
   "metadata": {},
   "source": [
    "# infer"
   ]
  },
  {
   "cell_type": "raw",
   "metadata": {},
   "source": [
    "ls -lhS $p_in | grep val"
   ]
  },
  {
   "cell_type": "code",
   "execution_count": 22,
   "metadata": {},
   "outputs": [
    {
     "name": "stdout",
     "output_type": "stream",
     "text": [
      "CPU times: user 1min 32s, sys: 9.1 s, total: 1min 41s\n",
      "Wall time: 1min 41s\n"
     ]
    }
   ],
   "source": [
    "%%time\n",
    "dftst=pd.read_csv(\n",
    "    f'{p_in}/val_{valtmstmp}.tsv',\n",
    "#     f'{p_in}/val_259A6F6DFD672CB1F883CBEC01B99F2D_1584405047.tsv',\n",
    "    sep='\\x01', header=None, names=cols_val,)\n"
   ]
  },
  {
   "cell_type": "code",
   "execution_count": 23,
   "metadata": {
    "scrolled": false
   },
   "outputs": [
    {
     "name": "stdout",
     "output_type": "stream",
     "text": [
      "CPU times: user 51.1 s, sys: 12.5 s, total: 1min 3s\n",
      "Wall time: 1min 3s\n"
     ]
    }
   ],
   "source": [
    "%%time\n",
    "dftst = prp_df(dftst, istrn=False)"
   ]
  },
  {
   "cell_type": "code",
   "execution_count": 24,
   "metadata": {
    "scrolled": true
   },
   "outputs": [
    {
     "name": "stdout",
     "output_type": "stream",
     "text": [
      "2020-03-25 00:08:34 Retweet\n",
      "2020-03-25 00:10:09 Reply\n",
      "2020-03-25 00:11:26 Like\n",
      "2020-03-25 00:13:06 RTwCmnt\n",
      "CPU times: user 1h 55min 8s, sys: 1min 31s, total: 1h 56min 40s\n",
      "Wall time: 6min 6s\n"
     ]
    }
   ],
   "source": [
    "%%time\n",
    "tgt2prdtst={}\n",
    "for tgt in tgts:\n",
    "    print(dtnow(), tgt)\n",
    "    bst = tgt2bst[tgt]\n",
    "    pops=tgt2pops[tgt]\n",
    "    prdtst = bst.predict(dftst[cols_feat], num_iteration=bst.best_iteration)\n",
    "    prdtst_calib = calibration(prdtst, **pops)\n",
    "    tgt2prdtst[tgt] = prdtst_calib"
   ]
  },
  {
   "cell_type": "code",
   "execution_count": null,
   "metadata": {},
   "outputs": [],
   "source": []
  },
  {
   "cell_type": "code",
   "execution_count": 25,
   "metadata": {},
   "outputs": [],
   "source": [
    "dfsub_ids = dftst[['twtid','u2id',]]\n",
    "\n",
    "tgt2dfsub = {}\n",
    "for tgt,prdtst in tgt2prdtst.items():\n",
    "    dfsub = dfsub_ids.copy()\n",
    "    dfsub['scr'] = prdtst\n",
    "    tgt2dfsub[tgt]=dfsub"
   ]
  },
  {
   "cell_type": "code",
   "execution_count": 26,
   "metadata": {},
   "outputs": [
    {
     "name": "stdout",
     "output_type": "stream",
     "text": [
      "2020-03-25 00:14:44 Retweet\n",
      "2020-03-25 00:15:48 Reply\n",
      "2020-03-25 00:16:54 RTwCmnt\n",
      "2020-03-25 00:18:00 Like\n",
      "CPU times: user 4min 10s, sys: 9.1 s, total: 4min 19s\n",
      "Wall time: 4min 20s\n"
     ]
    }
   ],
   "source": [
    "%%time\n",
    "for i,tgt in enumerate(['Retweet','Reply','RTwCmnt','Like',]):\n",
    "    dfsub = tgt2dfsub[tgt]\n",
    "    print(dtnow(), tgt)\n",
    "    dfsub.to_csv(f'{p_out}/{i}_{tgt}__{valtmstmp}__{PRFX}.csv',index=False,header=False)"
   ]
  },
  {
   "cell_type": "code",
   "execution_count": null,
   "metadata": {},
   "outputs": [],
   "source": []
  },
  {
   "cell_type": "code",
   "execution_count": null,
   "metadata": {},
   "outputs": [],
   "source": []
  },
  {
   "cell_type": "code",
   "execution_count": null,
   "metadata": {},
   "outputs": [],
   "source": []
  },
  {
   "cell_type": "code",
   "execution_count": null,
   "metadata": {},
   "outputs": [],
   "source": []
  },
  {
   "cell_type": "code",
   "execution_count": null,
   "metadata": {},
   "outputs": [],
   "source": []
  }
 ],
 "metadata": {
  "kernelspec": {
   "display_name": "rcss20",
   "language": "python",
   "name": "rcss20"
  },
  "language_info": {
   "codemirror_mode": {
    "name": "ipython",
    "version": 3
   },
   "file_extension": ".py",
   "mimetype": "text/x-python",
   "name": "python",
   "nbconvert_exporter": "python",
   "pygments_lexer": "ipython3",
   "version": "3.7.6"
  },
  "toc": {
   "base_numbering": 1,
   "nav_menu": {},
   "number_sections": true,
   "sideBar": true,
   "skip_h1_title": false,
   "title_cell": "Table of Contents",
   "title_sidebar": "Contents",
   "toc_cell": false,
   "toc_position": {},
   "toc_section_display": true,
   "toc_window_display": true
  }
 },
 "nbformat": 4,
 "nbformat_minor": 4
}
