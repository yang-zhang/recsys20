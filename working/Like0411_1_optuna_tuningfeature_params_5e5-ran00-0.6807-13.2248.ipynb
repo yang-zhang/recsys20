{
 "cells": [
  {
   "cell_type": "markdown",
   "metadata": {},
   "source": [
    "# start"
   ]
  },
  {
   "cell_type": "markdown",
   "metadata": {},
   "source": [
    "- http://localhost:8081/notebooks/git/recsys20/working/0324_6_3_lgb_feat_engr-1e7.ipynb\n",
    "- http://localhost:8081/notebooks/git/recsys20/working/mdl0404_1__xgb_mean_encode.ipynb\n",
    "- http://localhost:8081/notebooks/git/recsys20/working/eda_0404_1.ipynb#v.s.-target\n",
    "- https://www.kaggle.com/discdiver/category-encoders-examples\n",
    "- https://www.kaggle.com/snakayama/lightgbm-using-optuna-optuna-lightgbm"
   ]
  },
  {
   "cell_type": "code",
   "execution_count": 1,
   "metadata": {},
   "outputs": [
    {
     "name": "stdout",
     "output_type": "stream",
     "text": [
      "train_total 148,075,238, test_total 14,000,000\n",
      "['2020-03-17 02:32:24', '2020-04-06 00:35:47']\n",
      "['2020-02-06 00:00:00', '2020-02-12 23:59:59']\n",
      "['2020-02-13 00:00:00', '2020-02-19 23:59:59']\n"
     ]
    }
   ],
   "source": [
    "TGT='Like'\n",
    "PRFX='Like0411_1'\n",
    "\n",
    "trntmstmp=1584412344\n",
    "tsttmstmp=1586133347\n",
    "\n",
    "tm_trn_min,tm_trn_max=(1580947200, 1581551999)\n",
    "tm_tst_min,tm_tst_max=(1581552000, 1582156799)\n",
    "\n",
    "SEED=101\n",
    "\n",
    "valsz = int(5e5)#int(1e5)\n",
    "trnsz = int(5e5)#int(5e5)\n",
    "\n",
    "train_total=148075238\n",
    "test_total=int(1.4e7)\n",
    "print(f'train_total {train_total:,}, test_total {test_total:,}')\n",
    "\n",
    "\n",
    "import datetime\n",
    "def showtm(tm): return datetime.datetime.fromtimestamp(tm).strftime('%Y-%m-%d %H:%M:%S')\n",
    "print([showtm(tm) for tm in (trntmstmp, tsttmstmp)])\n",
    "print([showtm(tm) for tm in (tm_trn_min,tm_trn_max)])\n",
    "print([showtm(tm) for tm in (tm_tst_min,tm_tst_max)])"
   ]
  },
  {
   "cell_type": "markdown",
   "metadata": {},
   "source": [
    "# setup"
   ]
  },
  {
   "cell_type": "code",
   "execution_count": 2,
   "metadata": {},
   "outputs": [
    {
     "name": "stdout",
     "output_type": "stream",
     "text": [
      "TCOL like\n",
      "{'Retweet': 'retwt', 'Reply': 'reply', 'Like': 'like', 'RTwCmnt': 'retwt_cmmnt'}\n"
     ]
    }
   ],
   "source": [
    "from tqdm import tqdm\n",
    "import time\n",
    "from pathlib import Path\n",
    "from collections import Counter,defaultdict\n",
    "from sklearn.model_selection import train_test_split\n",
    "import pandas as pd\n",
    "import numpy as np\n",
    "import matplotlib.pyplot as plt\n",
    "from sklearn.metrics import accuracy_score, roc_auc_score, roc_curve, auc, precision_recall_curve\n",
    "import pickle\n",
    "# import xgboost as xgb\n",
    "# import lightgbm as lgb\n",
    "import category_encoders as ce\n",
    "import gc\n",
    "\n",
    "import optuna\n",
    "# optuna.logging.CRITICAL, optuna.logging.FATAL\n",
    "# optuna.logging.ERROR\n",
    "# optuna.logging.WARNING, optuna.logging.WARN\n",
    "# optuna.logging.INFO\n",
    "# optuna.logging.DEBUG\n",
    "# optuna.logging.set_verbosity(optuna.logging.ERROR)\n",
    "import optuna.integration.lightgbm as lgb\n",
    "optuna.logging.disable_default_handler()\n",
    "\n",
    "\n",
    "pd.set_option('display.max_rows', 500)\n",
    "pd.set_option('display.max_columns', 500)\n",
    "\n",
    "\n",
    "import datetime\n",
    "def dtnow(): return datetime.datetime.now().strftime('%Y-%m-%d %H:%M:%S')\n",
    "\n",
    "def iou(s1,s2):\n",
    "    return len(s1&s2) / len(s1|s2)\n",
    "\n",
    "HOME='/data/git/recsys20'\n",
    "p_in=f'{HOME}/input'\n",
    "p_out=f'{HOME}/output/{PRFX}'\n",
    "Path(p_out).mkdir(exist_ok=True, parents=True)\n",
    "\n",
    "from sklearn.metrics import precision_recall_curve, auc, log_loss\n",
    "\n",
    "def compute_prauc(pred, gt):\n",
    "    prec, recall, thresh = precision_recall_curve(gt, pred)\n",
    "    prauc = auc(recall, prec)\n",
    "    return prauc\n",
    "\n",
    "def calculate_ctr(gt):\n",
    "    positive = len([x for x in gt if x == 1])\n",
    "    ctr = positive/float(len(gt))\n",
    "    return ctr\n",
    "\n",
    "def compute_rce(pred, gt):\n",
    "    cross_entropy = log_loss(gt, pred)\n",
    "    data_ctr = calculate_ctr(gt)\n",
    "    strawman_cross_entropy = log_loss(gt, [data_ctr for _ in range(len(gt))])\n",
    "    return (1.0 - cross_entropy/strawman_cross_entropy)*100.0\n",
    "\n",
    "# https://towardsdatascience.com/how-to-calibrate-undersampled-model-scores-8f3319c1ea5b\n",
    "# How to use the function?\n",
    "# Let’s say your goal is to generate a model that shows the credit default probabilities and your original \n",
    "# training data has 50,000 rows with only 500 of them labeled as target class. When you sample your non-target \n",
    "# instances randomly and reduce the total row count to 10,000, while conserving 500 target rows, our calibration\n",
    "# function becomes:\n",
    "# calibration(model_results, 50000, 500, 10000, 500)\n",
    "# Here model_results is your model probability output array. After you train your model and put the results in it, your function is ready to use. \n",
    "def calibration(data, train_pop, target_pop, sampled_train_pop, sampled_target_pop):\n",
    "    calibrated_data = ((data * (target_pop / train_pop) / (sampled_target_pop / sampled_train_pop)) /\n",
    "    (((1 - data) * (1 - target_pop / train_pop) / (1 - sampled_target_pop / sampled_train_pop)) +\n",
    "     (data * (target_pop / train_pop) / (sampled_target_pop / sampled_train_pop))))\n",
    "    return calibrated_data\n",
    "\n",
    "\n",
    "cols=['toks','hshtgs','twtid','media','links','domns','twttyp','lang','tm','u1id','u1_fllwer_cnt','u1_fllwing_cnt','u1_vrfed','u1_create_tm','u2id','u2_fllwer_cnt','u2_fllwng_cnt','u2_vrfed','u2_create_tm','u1_fllw_u2','reply_tm','retwt_tm','retwt_cmmnt_tm','like_tm',]\n",
    "\n",
    "cols_val = cols[:-4]\n",
    "cols_tgt_tmstmp=[ 'retwt_tm', 'reply_tm', 'like_tm', 'retwt_cmmnt_tm',]\n",
    "cols_tgt=[o.split('_tm')[0] for o in cols_tgt_tmstmp]\n",
    "tgts             = ['Retweet','Reply','Like','RTwCmnt',]\n",
    "assert cols_tgt == ['retwt',  'reply','like','retwt_cmmnt',]\n",
    "tgt2col = dict(zip(tgts, cols_tgt))\n",
    "TCOL=tgt2col[TGT]\n",
    "print('TCOL', TCOL)\n",
    "print(tgt2col)"
   ]
  },
  {
   "cell_type": "markdown",
   "metadata": {},
   "source": [
    "# prep"
   ]
  },
  {
   "cell_type": "code",
   "execution_count": 3,
   "metadata": {},
   "outputs": [],
   "source": [
    "def prp_tgt(df):\n",
    "    df[cols_tgt]=df[cols_tgt_tmstmp].notna()\n",
    "    df.drop(columns=cols_tgt_tmstmp, inplace=True)\n",
    "    display(df[cols_tgt].mean())"
   ]
  },
  {
   "cell_type": "code",
   "execution_count": 4,
   "metadata": {
    "scrolled": false
   },
   "outputs": [
    {
     "name": "stdout",
     "output_type": "stream",
     "text": [
      "(500000, 24)\n"
     ]
    },
    {
     "data": {
      "text/plain": [
       "retwt          0.112638\n",
       "reply          0.027980\n",
       "like           0.439010\n",
       "retwt_cmmnt    0.007676\n",
       "dtype: float64"
      ]
     },
     "metadata": {},
     "output_type": "display_data"
    },
    {
     "name": "stdout",
     "output_type": "stream",
     "text": [
      "CPU times: user 3.82 s, sys: 392 ms, total: 4.22 s\n",
      "Wall time: 4.21 s\n"
     ]
    }
   ],
   "source": [
    "%%time\n",
    "dfval = pd.read_csv(f'{p_in}/trn_{trntmstmp}.tsv',sep='\\x01',header=None,names=cols,nrows=valsz)\n",
    "print(dfval.shape)\n",
    "prp_tgt(dfval)"
   ]
  },
  {
   "cell_type": "markdown",
   "metadata": {},
   "source": [
    "## maybe oversample"
   ]
  },
  {
   "cell_type": "code",
   "execution_count": 5,
   "metadata": {},
   "outputs": [],
   "source": [
    "# df = pd.read_csv(f'{p_in}/trn_{trntmstmp}.tsv',sep='\\x01',header=None,names=cols,nrows=5)\n",
    "# dfval = pd.read_csv(f'{p_in}/trn_{trntmstmp}.tsv',sep='\\x01',header=None,names=cols,nrows=2)\n",
    "# dftrn = pd.read_csv(f'{p_in}/trn_{trntmstmp}.tsv',sep='\\x01',header=None,names=cols,skiprows=2,nrows=3)\n",
    "# display(df.twtid)\n",
    "# display(dfval.twtid)\n",
    "# display(dftrn.twtid)\n",
    "\n",
    "# 0    D4D1EBDE74F74C5DA529959AF979625C\n",
    "# 1    BFB529DAB6D384EB83E899A72AB3830D\n",
    "# 2    519078C7834E9642508F72A6C2D0F3B7\n",
    "# 3    52AAE9E33EFAC8C478C57B31A9E31ED1\n",
    "# 4    89C1298C55EB3D68E2784F0BFB69E6F8\n",
    "# Name: twtid, dtype: object\n",
    "# 0    D4D1EBDE74F74C5DA529959AF979625C\n",
    "# 1    BFB529DAB6D384EB83E899A72AB3830D\n",
    "# Name: twtid, dtype: object\n",
    "# 0    519078C7834E9642508F72A6C2D0F3B7\n",
    "# 1    52AAE9E33EFAC8C478C57B31A9E31ED1\n",
    "# 2    89C1298C55EB3D68E2784F0BFB69E6F8\n",
    "# Name: twtid, dtype: object"
   ]
  },
  {
   "cell_type": "code",
   "execution_count": 6,
   "metadata": {
    "scrolled": true
   },
   "outputs": [
    {
     "name": "stdout",
     "output_type": "stream",
     "text": [
      "(500000, 24)\n"
     ]
    },
    {
     "data": {
      "text/plain": [
       "retwt          0.113632\n",
       "reply          0.027396\n",
       "like           0.438598\n",
       "retwt_cmmnt    0.007824\n",
       "dtype: float64"
      ]
     },
     "metadata": {},
     "output_type": "display_data"
    },
    {
     "name": "stdout",
     "output_type": "stream",
     "text": [
      "CPU times: user 4.7 s, sys: 352 ms, total: 5.05 s\n",
      "Wall time: 5.04 s\n"
     ]
    }
   ],
   "source": [
    "%%time\n",
    "if TGT in ('Retweet','Like'): trnpop=trnsz\n",
    "if TGT=='Reply': trnpop=trnsz*3.7\n",
    "if TGT=='RTwCmnt': trnpop=trnsz*11.5\n",
    "assert trnpop<train_total\n",
    "\n",
    "dftrn = pd.read_csv(f'{p_in}/trn_{trntmstmp}.tsv',sep='\\x01',header=None,names=cols,\n",
    "                     skiprows=valsz, nrows=trnpop)\n",
    "print(dftrn.shape)\n",
    "prp_tgt(dftrn)"
   ]
  },
  {
   "cell_type": "code",
   "execution_count": 7,
   "metadata": {
    "scrolled": true
   },
   "outputs": [
    {
     "name": "stdout",
     "output_type": "stream",
     "text": [
      "(500000, 24) 0.438598\n",
      "500000 219299 500000 219299\n"
     ]
    },
    {
     "data": {
      "text/html": [
       "<div>\n",
       "<style scoped>\n",
       "    .dataframe tbody tr th:only-of-type {\n",
       "        vertical-align: middle;\n",
       "    }\n",
       "\n",
       "    .dataframe tbody tr th {\n",
       "        vertical-align: top;\n",
       "    }\n",
       "\n",
       "    .dataframe thead th {\n",
       "        text-align: right;\n",
       "    }\n",
       "</style>\n",
       "<table border=\"1\" class=\"dataframe\">\n",
       "  <thead>\n",
       "    <tr style=\"text-align: right;\">\n",
       "      <th></th>\n",
       "      <th>toks</th>\n",
       "      <th>hshtgs</th>\n",
       "      <th>twtid</th>\n",
       "      <th>media</th>\n",
       "      <th>links</th>\n",
       "      <th>domns</th>\n",
       "      <th>twttyp</th>\n",
       "      <th>lang</th>\n",
       "      <th>tm</th>\n",
       "      <th>u1id</th>\n",
       "      <th>u1_fllwer_cnt</th>\n",
       "      <th>u1_fllwing_cnt</th>\n",
       "      <th>u1_vrfed</th>\n",
       "      <th>u1_create_tm</th>\n",
       "      <th>u2id</th>\n",
       "      <th>u2_fllwer_cnt</th>\n",
       "      <th>u2_fllwng_cnt</th>\n",
       "      <th>u2_vrfed</th>\n",
       "      <th>u2_create_tm</th>\n",
       "      <th>u1_fllw_u2</th>\n",
       "      <th>retwt</th>\n",
       "      <th>reply</th>\n",
       "      <th>like</th>\n",
       "      <th>retwt_cmmnt</th>\n",
       "    </tr>\n",
       "  </thead>\n",
       "  <tbody>\n",
       "    <tr>\n",
       "      <th>0</th>\n",
       "      <td>101\\t56898\\t137\\t14248\\t10567\\t77966\\t11166\\t1...</td>\n",
       "      <td>NaN</td>\n",
       "      <td>A964AF200DAFFEBCB632CE2196DFBE6F</td>\n",
       "      <td>NaN</td>\n",
       "      <td>NaN</td>\n",
       "      <td>NaN</td>\n",
       "      <td>Retweet</td>\n",
       "      <td>022EC308651FACB02794A8147AEE1B78</td>\n",
       "      <td>1581227402</td>\n",
       "      <td>E43C242721C2336F88D163ADFDB2A364</td>\n",
       "      <td>27901</td>\n",
       "      <td>306</td>\n",
       "      <td>False</td>\n",
       "      <td>1351736247</td>\n",
       "      <td>06E9B34C49824F5C612B01F3DF66C4B8</td>\n",
       "      <td>48</td>\n",
       "      <td>977</td>\n",
       "      <td>False</td>\n",
       "      <td>1493475569</td>\n",
       "      <td>False</td>\n",
       "      <td>True</td>\n",
       "      <td>False</td>\n",
       "      <td>False</td>\n",
       "      <td>False</td>\n",
       "    </tr>\n",
       "    <tr>\n",
       "      <th>1</th>\n",
       "      <td>101\\t29922\\t10230\\t112\\t11368\\t112\\t12469\\t169...</td>\n",
       "      <td>NaN</td>\n",
       "      <td>CA95806CCD16ADD6164D8B632345A5B6</td>\n",
       "      <td>NaN</td>\n",
       "      <td>NaN</td>\n",
       "      <td>NaN</td>\n",
       "      <td>TopLevel</td>\n",
       "      <td>D3164C7FBCF2565DDF915B1B3AEFB1DC</td>\n",
       "      <td>1581415813</td>\n",
       "      <td>520F4141FB74447AA2D5100C12656DF2</td>\n",
       "      <td>190829</td>\n",
       "      <td>2227</td>\n",
       "      <td>True</td>\n",
       "      <td>1246308293</td>\n",
       "      <td>06E9B485CA5F2757CB554B0244FE2FA4</td>\n",
       "      <td>2024</td>\n",
       "      <td>1227</td>\n",
       "      <td>False</td>\n",
       "      <td>1234745553</td>\n",
       "      <td>False</td>\n",
       "      <td>False</td>\n",
       "      <td>False</td>\n",
       "      <td>True</td>\n",
       "      <td>False</td>\n",
       "    </tr>\n",
       "    <tr>\n",
       "      <th>2</th>\n",
       "      <td>101\\t16358\\t10107\\t117\\t146\\t100\\t181\\t32342\\t...</td>\n",
       "      <td>NaN</td>\n",
       "      <td>EAB281F4E0B985324DB134D922D7753C</td>\n",
       "      <td>NaN</td>\n",
       "      <td>NaN</td>\n",
       "      <td>NaN</td>\n",
       "      <td>Quote</td>\n",
       "      <td>D3164C7FBCF2565DDF915B1B3AEFB1DC</td>\n",
       "      <td>1581524517</td>\n",
       "      <td>EC1254C86CED1D8F2B556786329FD939</td>\n",
       "      <td>225223</td>\n",
       "      <td>1365</td>\n",
       "      <td>True</td>\n",
       "      <td>1238211373</td>\n",
       "      <td>06E9B485CA5F2757CB554B0244FE2FA4</td>\n",
       "      <td>2024</td>\n",
       "      <td>1227</td>\n",
       "      <td>False</td>\n",
       "      <td>1234745553</td>\n",
       "      <td>False</td>\n",
       "      <td>True</td>\n",
       "      <td>False</td>\n",
       "      <td>True</td>\n",
       "      <td>False</td>\n",
       "    </tr>\n",
       "    <tr>\n",
       "      <th>3</th>\n",
       "      <td>101\\t49004\\t24951\\t11517\\t21793\\t49004\\t46900\\...</td>\n",
       "      <td>E35EBE28C67E02E3EAABD4D383303A10\\tBF43374FADDC...</td>\n",
       "      <td>55F436653590B79DC49DCA2FC5E6BA6E</td>\n",
       "      <td>Photo</td>\n",
       "      <td>NaN</td>\n",
       "      <td>NaN</td>\n",
       "      <td>TopLevel</td>\n",
       "      <td>06D61DCBBE938971E1EA0C38BD9B5446</td>\n",
       "      <td>1581098413</td>\n",
       "      <td>09567D1DEB473ABA2CD04D06F1F6D22D</td>\n",
       "      <td>3110429</td>\n",
       "      <td>39</td>\n",
       "      <td>True</td>\n",
       "      <td>1243169868</td>\n",
       "      <td>06E9B6ABEB6C57CA5A394DADF375D940</td>\n",
       "      <td>557</td>\n",
       "      <td>466</td>\n",
       "      <td>False</td>\n",
       "      <td>1509320658</td>\n",
       "      <td>False</td>\n",
       "      <td>False</td>\n",
       "      <td>False</td>\n",
       "      <td>True</td>\n",
       "      <td>False</td>\n",
       "    </tr>\n",
       "    <tr>\n",
       "      <th>4</th>\n",
       "      <td>101\\t320\\t108660\\t18492\\t105861\\t26349\\t10174\\...</td>\n",
       "      <td>NaN</td>\n",
       "      <td>2F374BA8A03CFA7B51594FBBD45E4BA6</td>\n",
       "      <td>Photo</td>\n",
       "      <td>E07397470C5AD4AC2420A832A49E045B</td>\n",
       "      <td>476213C6321CD12B64C1FB76A6CE02CA</td>\n",
       "      <td>TopLevel</td>\n",
       "      <td>4DC22C3F31C5C43721E6B5815A595ED6</td>\n",
       "      <td>1581158393</td>\n",
       "      <td>DF856F242E9519638FD447D0CCFA06DF</td>\n",
       "      <td>4245504</td>\n",
       "      <td>54</td>\n",
       "      <td>True</td>\n",
       "      <td>1248789982</td>\n",
       "      <td>06E9B7217C92B280231E835F1B686176</td>\n",
       "      <td>8</td>\n",
       "      <td>74</td>\n",
       "      <td>False</td>\n",
       "      <td>1346060212</td>\n",
       "      <td>False</td>\n",
       "      <td>False</td>\n",
       "      <td>False</td>\n",
       "      <td>False</td>\n",
       "      <td>False</td>\n",
       "    </tr>\n",
       "  </tbody>\n",
       "</table>\n",
       "</div>"
      ],
      "text/plain": [
       "                                                toks  \\\n",
       "0  101\\t56898\\t137\\t14248\\t10567\\t77966\\t11166\\t1...   \n",
       "1  101\\t29922\\t10230\\t112\\t11368\\t112\\t12469\\t169...   \n",
       "2  101\\t16358\\t10107\\t117\\t146\\t100\\t181\\t32342\\t...   \n",
       "3  101\\t49004\\t24951\\t11517\\t21793\\t49004\\t46900\\...   \n",
       "4  101\\t320\\t108660\\t18492\\t105861\\t26349\\t10174\\...   \n",
       "\n",
       "                                              hshtgs  \\\n",
       "0                                                NaN   \n",
       "1                                                NaN   \n",
       "2                                                NaN   \n",
       "3  E35EBE28C67E02E3EAABD4D383303A10\\tBF43374FADDC...   \n",
       "4                                                NaN   \n",
       "\n",
       "                              twtid  media                             links  \\\n",
       "0  A964AF200DAFFEBCB632CE2196DFBE6F    NaN                               NaN   \n",
       "1  CA95806CCD16ADD6164D8B632345A5B6    NaN                               NaN   \n",
       "2  EAB281F4E0B985324DB134D922D7753C    NaN                               NaN   \n",
       "3  55F436653590B79DC49DCA2FC5E6BA6E  Photo                               NaN   \n",
       "4  2F374BA8A03CFA7B51594FBBD45E4BA6  Photo  E07397470C5AD4AC2420A832A49E045B   \n",
       "\n",
       "                              domns    twttyp  \\\n",
       "0                               NaN   Retweet   \n",
       "1                               NaN  TopLevel   \n",
       "2                               NaN     Quote   \n",
       "3                               NaN  TopLevel   \n",
       "4  476213C6321CD12B64C1FB76A6CE02CA  TopLevel   \n",
       "\n",
       "                               lang          tm  \\\n",
       "0  022EC308651FACB02794A8147AEE1B78  1581227402   \n",
       "1  D3164C7FBCF2565DDF915B1B3AEFB1DC  1581415813   \n",
       "2  D3164C7FBCF2565DDF915B1B3AEFB1DC  1581524517   \n",
       "3  06D61DCBBE938971E1EA0C38BD9B5446  1581098413   \n",
       "4  4DC22C3F31C5C43721E6B5815A595ED6  1581158393   \n",
       "\n",
       "                               u1id  u1_fllwer_cnt  u1_fllwing_cnt  u1_vrfed  \\\n",
       "0  E43C242721C2336F88D163ADFDB2A364          27901             306     False   \n",
       "1  520F4141FB74447AA2D5100C12656DF2         190829            2227      True   \n",
       "2  EC1254C86CED1D8F2B556786329FD939         225223            1365      True   \n",
       "3  09567D1DEB473ABA2CD04D06F1F6D22D        3110429              39      True   \n",
       "4  DF856F242E9519638FD447D0CCFA06DF        4245504              54      True   \n",
       "\n",
       "   u1_create_tm                              u2id  u2_fllwer_cnt  \\\n",
       "0    1351736247  06E9B34C49824F5C612B01F3DF66C4B8             48   \n",
       "1    1246308293  06E9B485CA5F2757CB554B0244FE2FA4           2024   \n",
       "2    1238211373  06E9B485CA5F2757CB554B0244FE2FA4           2024   \n",
       "3    1243169868  06E9B6ABEB6C57CA5A394DADF375D940            557   \n",
       "4    1248789982  06E9B7217C92B280231E835F1B686176              8   \n",
       "\n",
       "   u2_fllwng_cnt  u2_vrfed  u2_create_tm  u1_fllw_u2  retwt  reply   like  \\\n",
       "0            977     False    1493475569       False   True  False  False   \n",
       "1           1227     False    1234745553       False  False  False   True   \n",
       "2           1227     False    1234745553       False   True  False   True   \n",
       "3            466     False    1509320658       False  False  False   True   \n",
       "4             74     False    1346060212       False  False  False  False   \n",
       "\n",
       "   retwt_cmmnt  \n",
       "0        False  \n",
       "1        False  \n",
       "2        False  \n",
       "3        False  \n",
       "4        False  "
      ]
     },
     "metadata": {},
     "output_type": "display_data"
    },
    {
     "data": {
      "text/plain": [
       "Index(['toks', 'hshtgs', 'twtid', 'media', 'links', 'domns', 'twttyp', 'lang',\n",
       "       'tm', 'u1id', 'u1_fllwer_cnt', 'u1_fllwing_cnt', 'u1_vrfed',\n",
       "       'u1_create_tm', 'u2id', 'u2_fllwer_cnt', 'u2_fllwng_cnt', 'u2_vrfed',\n",
       "       'u2_create_tm', 'u1_fllw_u2', 'retwt', 'reply', 'like', 'retwt_cmmnt'],\n",
       "      dtype='object')"
      ]
     },
     "metadata": {},
     "output_type": "display_data"
    }
   ],
   "source": [
    "train_pop=len(dftrn)\n",
    "sampled_train_pop=trnsz\n",
    "idx_pos = np.where(dftrn[TCOL])[0]\n",
    "target_pop=sampled_target_pop=len(idx_pos)\n",
    "if TGT in ('Reply','RTwCmnt'):\n",
    "    idx_neg0 = np.where(~dftrn[TCOL])[0]\n",
    "    idx_neg = np.random.choice(idx_neg0, trnsz-len(idx_pos), replace=False)\n",
    "    idx = np.concatenate([idx_pos,idx_neg])\n",
    "    dftrn = dftrn.iloc[idx].copy()\n",
    "print(dftrn.shape, dftrn[TCOL].mean())\n",
    "print(train_pop, target_pop, sampled_train_pop, sampled_target_pop)\n",
    "\n",
    "display(dftrn.head())\n",
    "display(dftrn.columns)"
   ]
  },
  {
   "cell_type": "markdown",
   "metadata": {},
   "source": [
    "## prep and features"
   ]
  },
  {
   "cell_type": "code",
   "execution_count": 8,
   "metadata": {},
   "outputs": [],
   "source": [
    "def prp_df(df, tm_max):\n",
    "    '''\n",
    "    tm_max = tm_trn_max for train tm_tst_max for test\n",
    "    '''\n",
    "    lendf = len(df)\n",
    "    print(dtnow(), 'start')\n",
    "    set_u1 = set(df.u1id)\n",
    "    set_u2 = set(df.u2id)\n",
    "    df['u1inu2']=df.u1id.isin(set_u2)\n",
    "    df['u2inu1']=df.u2id.isin(set_u1)\n",
    "\n",
    "    #counts\n",
    "    df['len_toks'] = df.toks.apply(lambda x: len(x.split('\\t')))\n",
    "    df.drop(columns=['toks'], inplace=True)    \n",
    "    for m in ['Photo', 'Video', 'GIF']:\n",
    "        df[f'n_media_{m}'] = df['media'].fillna('').apply(lambda x: x.split('\\t').count(m))\n",
    "    tgnms = ['hshtgs','media', 'links', 'domns',]\n",
    "    for tgnm in tgnms:\n",
    "        df[f'has_{tgnm}']=df[tgnm].notna()\n",
    "        df[f'lst_{tgnm}'] = df[tgnm].fillna('').apply(lambda x: x.split('\\t') if len(x) else [])\n",
    "        df[f'n_{tgnm}'] = df[f'lst_{tgnm}'].apply(len)  \n",
    "    df.drop(columns=['has_links','n_links'], inplace=True) #duplicates has_domns,n_domns \n",
    "    \n",
    "    #time\n",
    "    dt = pd.to_datetime(df.tm, unit='s')\n",
    "    df['dayofweek'] = dt.dt.dayofweek\n",
    "    df['hour'] = dt.dt.hour\n",
    "    \n",
    "    df['tmdlta_u2u1']  = df.u2_create_tm - df.u1_create_tm\n",
    "    df['tmdlta_twtu1'] = df.tm - df.u1_create_tm\n",
    "    df['tmdlta_twtu2'] = df.tm - df.u2_create_tm\n",
    "\n",
    "    df['twt_age']   = tm_max-df.tm\n",
    "    df['u1_age']    = tm_max-df.u1_create_tm\n",
    "    df['u2_age']    = tm_max-df.u2_create_tm\n",
    "    df.drop(columns=['tm', 'u1_create_tm', 'u2_create_tm'], inplace=True)\n",
    "\n",
    "    #time derived\n",
    "    df['u1_fllwer_cnt_by_age'] = df.u1_fllwer_cnt / df.u1_age\n",
    "    df['u1_fllwng_cnt_by_age'] = df.u2_fllwng_cnt / df.u2_age\n",
    "    \n",
    "    #interaction\n",
    "    df['u1u2']=df.u1id+'_'+df.u2id\n",
    "    df['langhour']=df.lang+'_'+df.hour.astype(str)\n",
    "    \n",
    "\n",
    "    #freq of feature values\n",
    "    print(dtnow(), 'freq of columns using CountEncoder')\n",
    "    encoder = ce.CountEncoder()\n",
    "    encoded = encoder.fit_transform(\n",
    "    df[['twtid', 'twttyp', 'lang', 'u1id', 'u1_fllwing_cnt', 'u1_vrfed', 'u2id', 'u2_fllwer_cnt', 'u2_vrfed', 'u1_fllw_u2', \n",
    "       'n_media_Photo', 'n_media_Video', 'n_media_GIF', \n",
    "       'has_hshtgs', 'n_hshtgs', 'has_media', 'n_media','has_domns', 'n_domns', \n",
    "       'dayofweek', 'hour', 'u1u2', 'langhour']].astype(object))\n",
    "    encoded = encoded.astype(int)/lendf\n",
    "    encoded.columns = [f'frq_{col}' for col in encoded.columns]\n",
    "    df = pd.concat([df,encoded],1)\n",
    "    \n",
    "    #freq of tgnm values\n",
    "    print(dtnow(), 'freq of tags')\n",
    "    for tgnm in tgnms:\n",
    "        vs = [j for i in df[f'lst_{tgnm}'] for j in i]\n",
    "        cnt = Counter(vs)\n",
    "        frq = {k:v/lendf for k,v in cnt.items()}\n",
    "        df[f'sumfrq_{tgnm}']=df[f'lst_{tgnm}'].apply(lambda x: sum([frq.get(o,0) for o in x]))\n",
    "        df[f'maxfrq_{tgnm}']=df[f'lst_{tgnm}'].apply(lambda x: max([frq.get(o,0) for o in x]) if len(x) else 0)\n",
    "    df.drop(columns=tgnms+[f'lst_{tgnm}' for tgnm in tgnms],inplace=True)\n",
    "\n",
    "    print(dtnow(), 'done')\n",
    "    return df"
   ]
  },
  {
   "cell_type": "code",
   "execution_count": 9,
   "metadata": {},
   "outputs": [
    {
     "name": "stdout",
     "output_type": "stream",
     "text": [
      "2020-04-11 21:42:53 start\n",
      "2020-04-11 21:43:01 freq of columns using CountEncoder\n"
     ]
    },
    {
     "name": "stderr",
     "output_type": "stream",
     "text": [
      "/data/anaconda3/envs/rcss20/lib/python3.7/site-packages/category_encoders/count.py:255: FutureWarning: The pandas.np module is deprecated and will be removed from pandas in a future version. Import numpy directly instead\n",
      "  X.loc[:, self.cols] = X.fillna(value=pd.np.nan)\n"
     ]
    },
    {
     "name": "stdout",
     "output_type": "stream",
     "text": [
      "2020-04-11 21:43:16 freq of tags\n",
      "2020-04-11 21:43:20 done\n",
      "CPU times: user 23.1 s, sys: 3.5 s, total: 26.6 s\n",
      "Wall time: 26.4 s\n"
     ]
    }
   ],
   "source": [
    "%%time\n",
    "dftrn=prp_df(dftrn, tm_max=tm_trn_max)"
   ]
  },
  {
   "cell_type": "code",
   "execution_count": 10,
   "metadata": {},
   "outputs": [
    {
     "name": "stdout",
     "output_type": "stream",
     "text": [
      "2020-04-11 21:43:20 start\n",
      "2020-04-11 21:43:28 freq of columns using CountEncoder\n",
      "2020-04-11 21:43:39 freq of tags\n",
      "2020-04-11 21:43:43 done\n",
      "CPU times: user 21.2 s, sys: 2.25 s, total: 23.4 s\n",
      "Wall time: 23.3 s\n"
     ]
    }
   ],
   "source": [
    "%%time\n",
    "dfval=prp_df(dfval, tm_max=tm_trn_max)"
   ]
  },
  {
   "cell_type": "markdown",
   "metadata": {},
   "source": [
    "## tr vl split and target encoding"
   ]
  },
  {
   "cell_type": "code",
   "execution_count": 11,
   "metadata": {},
   "outputs": [
    {
     "data": {
      "text/plain": [
       "30"
      ]
     },
     "execution_count": 11,
     "metadata": {},
     "output_type": "execute_result"
    }
   ],
   "source": [
    "msk_vl=np.random.rand(len(dftrn))<0.15\n",
    "idxvl=np.where( msk_vl)[0]\n",
    "idxtr=np.where(~msk_vl)[0]\n",
    "\n",
    "dftr = dftrn.iloc[idxtr].copy()\n",
    "dfvl = dftrn.iloc[idxvl].copy()\n",
    "del dftrn\n",
    "\n",
    "gc.collect()"
   ]
  },
  {
   "cell_type": "code",
   "execution_count": 12,
   "metadata": {},
   "outputs": [
    {
     "data": {
      "text/plain": [
       "Index(['twtid', 'twttyp', 'lang', 'u1id', 'u1_fllwer_cnt', 'u1_fllwing_cnt',\n",
       "       'u1_vrfed', 'u2id', 'u2_fllwer_cnt', 'u2_fllwng_cnt', 'u2_vrfed',\n",
       "       'u1_fllw_u2', 'retwt', 'reply', 'like', 'retwt_cmmnt', 'u1inu2',\n",
       "       'u2inu1', 'len_toks', 'n_media_Photo', 'n_media_Video', 'n_media_GIF',\n",
       "       'has_hshtgs', 'n_hshtgs', 'has_media', 'n_media', 'has_domns',\n",
       "       'n_domns', 'dayofweek', 'hour', 'tmdlta_u2u1', 'tmdlta_twtu1',\n",
       "       'tmdlta_twtu2', 'twt_age', 'u1_age', 'u2_age', 'u1_fllwer_cnt_by_age',\n",
       "       'u1_fllwng_cnt_by_age', 'u1u2', 'langhour', 'frq_twtid', 'frq_twttyp',\n",
       "       'frq_lang', 'frq_u1id', 'frq_u1_fllwing_cnt', 'frq_u1_vrfed',\n",
       "       'frq_u2id', 'frq_u2_fllwer_cnt', 'frq_u2_vrfed', 'frq_u1_fllw_u2',\n",
       "       'frq_n_media_Photo', 'frq_n_media_Video', 'frq_n_media_GIF',\n",
       "       'frq_has_hshtgs', 'frq_n_hshtgs', 'frq_has_media', 'frq_n_media',\n",
       "       'frq_has_domns', 'frq_n_domns', 'frq_dayofweek', 'frq_hour', 'frq_u1u2',\n",
       "       'frq_langhour', 'sumfrq_hshtgs', 'maxfrq_hshtgs', 'sumfrq_media',\n",
       "       'maxfrq_media', 'sumfrq_links', 'maxfrq_links', 'sumfrq_domns',\n",
       "       'maxfrq_domns'],\n",
       "      dtype='object')"
      ]
     },
     "execution_count": 12,
     "metadata": {},
     "output_type": "execute_result"
    }
   ],
   "source": [
    "dftr.columns"
   ]
  },
  {
   "cell_type": "code",
   "execution_count": 13,
   "metadata": {},
   "outputs": [
    {
     "name": "stdout",
     "output_type": "stream",
     "text": [
      "CPU times: user 22.1 s, sys: 5.58 s, total: 27.7 s\n",
      "Wall time: 27.6 s\n"
     ]
    }
   ],
   "source": [
    "%%time\n",
    "col2tgtenc=['twtid', 'twttyp', 'lang', 'u1id', 'u1_fllwing_cnt', 'u1_vrfed', 'u2id', 'u2_fllwer_cnt', 'u2_vrfed', 'u1_fllw_u2', \n",
    "   'n_media_Photo', 'n_media_Video', 'n_media_GIF', \n",
    "   'has_hshtgs', 'n_hshtgs', 'has_media', 'n_media','has_domns', 'n_domns', \n",
    "   'dayofweek', 'hour', 'u1u2', 'langhour']\n",
    "tgt_encoder = ce.TargetEncoder()\n",
    "encoded_tr = tgt_encoder.fit_transform(dftr[col2tgtenc].astype(object), dftr[TCOL])\n",
    "encoded_vl = tgt_encoder.transform(dfvl[col2tgtenc].astype(object))\n",
    "encoded_val = tgt_encoder.transform(dfval[col2tgtenc].astype(object))\n",
    "\n",
    "tgtenc_columns = [f'tgtenc_{col}' for col in encoded_tr.columns]\n",
    "encoded_tr.columns = tgtenc_columns\n",
    "encoded_vl.columns = tgtenc_columns\n",
    "encoded_val.columns = tgtenc_columns\n",
    "\n",
    "dftr = pd.concat([dftr, encoded_tr], 1)\n",
    "dfvl = pd.concat([dfvl, encoded_vl], 1)\n",
    "dfval = pd.concat([dfval, encoded_val], 1)\n"
   ]
  },
  {
   "cell_type": "code",
   "execution_count": 14,
   "metadata": {},
   "outputs": [],
   "source": [
    "cols_category=['twttyp', 'lang', 'langhour']\n",
    "for df in dftr,dfvl,dfval:\n",
    "    df.drop(columns=['twtid','u1id','u2id','u1u2'], inplace=True)\n",
    "    df[cols_category]=df[cols_category].astype('category')"
   ]
  },
  {
   "cell_type": "code",
   "execution_count": 15,
   "metadata": {},
   "outputs": [],
   "source": [
    "cols_feat = [col for col in dftr.columns if col not in cols_tgt]"
   ]
  },
  {
   "cell_type": "markdown",
   "metadata": {},
   "source": [
    "# model"
   ]
  },
  {
   "cell_type": "markdown",
   "metadata": {},
   "source": [
    "## cols_feat"
   ]
  },
  {
   "cell_type": "code",
   "execution_count": 16,
   "metadata": {},
   "outputs": [
    {
     "name": "stdout",
     "output_type": "stream",
     "text": [
      "86\n",
      "29\n"
     ]
    }
   ],
   "source": [
    "print(len(cols_feat))\n",
    "cols_feat=['twttyp',\n",
    " 'lang',\n",
    " 'u1_fllwer_cnt',\n",
    " 'u1_fllwing_cnt',\n",
    " 'u1_vrfed',\n",
    " 'u2_fllwer_cnt',\n",
    " 'u2_fllwng_cnt',\n",
    " 'u2_vrfed',\n",
    " 'u1_fllw_u2',\n",
    " 'u1inu2',\n",
    " 'u2inu1',\n",
    " 'len_toks',\n",
    " 'n_media_Photo',\n",
    " 'n_media_Video',\n",
    " 'n_media_GIF',\n",
    "#  'has_hshtgs',\n",
    " 'n_hshtgs',\n",
    "#  'has_media',\n",
    " 'n_media',\n",
    "#  'has_domns',\n",
    " 'n_domns',\n",
    " 'dayofweek',\n",
    " 'hour',\n",
    " 'tmdlta_u2u1',\n",
    " 'tmdlta_twtu1',\n",
    " 'tmdlta_twtu2',\n",
    " 'twt_age',\n",
    " 'u1_age',\n",
    " 'u2_age',\n",
    " 'u1_fllwer_cnt_by_age',\n",
    " 'u1_fllwng_cnt_by_age',\n",
    " 'langhour',\n",
    "#  'frq_twtid',\n",
    "#  'frq_twttyp',\n",
    "#  'frq_lang',\n",
    "#  'frq_u1id',\n",
    "#  'frq_u1_fllwing_cnt',\n",
    "#  'frq_u1_vrfed',\n",
    "#  'frq_u2id',\n",
    "#  'frq_u2_fllwer_cnt',\n",
    "#  'frq_u2_vrfed',\n",
    "#  'frq_u1_fllw_u2',\n",
    "#  'frq_n_media_Photo',\n",
    "#  'frq_n_media_Video',\n",
    "#  'frq_n_media_GIF',\n",
    "#  'frq_has_hshtgs',\n",
    "#  'frq_n_hshtgs',\n",
    "#  'frq_has_media',\n",
    "#  'frq_n_media',\n",
    "#  'frq_has_domns',\n",
    "#  'frq_n_domns',\n",
    "#  'frq_dayofweek',\n",
    "#  'frq_hour',\n",
    "#  'frq_u1u2',\n",
    "#  'frq_langhour',\n",
    "#  'sumfrq_hshtgs',\n",
    "#  'maxfrq_hshtgs',\n",
    "#  'sumfrq_media',\n",
    "#  'maxfrq_media',\n",
    "#  'sumfrq_links',\n",
    "#  'maxfrq_links',\n",
    "#  'sumfrq_domns',\n",
    "#  'maxfrq_domns',\n",
    "#  'tgtenc_twtid',\n",
    "#  'tgtenc_twttyp',\n",
    "#  'tgtenc_lang',\n",
    "#  'tgtenc_u1id',\n",
    "#  'tgtenc_u1_fllwing_cnt',\n",
    "#  'tgtenc_u1_vrfed',\n",
    "#  'tgtenc_u2id',\n",
    "#  'tgtenc_u2_fllwer_cnt',\n",
    "#  'tgtenc_u2_vrfed',\n",
    "#  'tgtenc_u1_fllw_u2',\n",
    "#  'tgtenc_n_media_Photo',\n",
    "#  'tgtenc_n_media_Video',\n",
    "#  'tgtenc_n_media_GIF',\n",
    "#  'tgtenc_has_hshtgs',\n",
    "#  'tgtenc_n_hshtgs',\n",
    "#  'tgtenc_has_media',\n",
    "#  'tgtenc_n_media',\n",
    "#  'tgtenc_has_domns',\n",
    "#  'tgtenc_n_domns',\n",
    "#  'tgtenc_dayofweek',\n",
    "#  'tgtenc_hour',\n",
    "#  'tgtenc_u1u2',\n",
    "#  'tgtenc_langhour'\n",
    "          ]\n",
    "print(len(cols_feat))"
   ]
  },
  {
   "cell_type": "code",
   "execution_count": 17,
   "metadata": {},
   "outputs": [],
   "source": [
    "results = {}\n",
    "results['PRFX'] = PRFX\n",
    "results['TGT'] = TGT\n",
    "results['cols_feat'] = cols_feat\n",
    "results['tgt_encoder'] = tgt_encoder\n",
    "results['col2tgtenc'] = col2tgtenc"
   ]
  },
  {
   "cell_type": "code",
   "execution_count": 18,
   "metadata": {},
   "outputs": [],
   "source": [
    "params={\n",
    "    'objective': 'binary',\n",
    "    'metric': 'binary_logloss',\n",
    "    'verbosity': 0,    \n",
    "}\n",
    "results['params'] = params"
   ]
  },
  {
   "cell_type": "code",
   "execution_count": 19,
   "metadata": {
    "scrolled": true
   },
   "outputs": [
    {
     "name": "stderr",
     "output_type": "stream",
     "text": [
      "/data/anaconda3/envs/rcss20/lib/python3.7/site-packages/optuna/_experimental.py:87: ExperimentalWarning: train is experimental (supported from v0.18.0). The interface can change in the future.\n",
      "  ExperimentalWarning\n",
      "tune_feature_fraction, val_score: inf:   0%|          | 0/7 [00:00<?, ?it/s]"
     ]
    },
    {
     "name": "stdout",
     "output_type": "stream",
     "text": [
      "Training until validation scores don't improve for 100 rounds\n",
      "[100]\ttr's binary_logloss: 0.588327\tvl's binary_logloss: 0.600815\n",
      "[200]\ttr's binary_logloss: 0.578572\tvl's binary_logloss: 0.597927\n",
      "[300]\ttr's binary_logloss: 0.571695\tvl's binary_logloss: 0.596792\n",
      "[400]\ttr's binary_logloss: 0.565597\tvl's binary_logloss: 0.595998\n",
      "[500]\ttr's binary_logloss: 0.560364\tvl's binary_logloss: 0.595957\n",
      "[600]\ttr's binary_logloss: 0.555002\tvl's binary_logloss: 0.595371\n",
      "[700]\ttr's binary_logloss: 0.55013\tvl's binary_logloss: 0.595128\n",
      "[800]\ttr's binary_logloss: 0.545763\tvl's binary_logloss: 0.594969\n",
      "Early stopping, best iteration is:\n",
      "[758]\ttr's binary_logloss: 0.547682\tvl's binary_logloss: 0.594858\n"
     ]
    },
    {
     "name": "stderr",
     "output_type": "stream",
     "text": [
      "tune_feature_fraction, val_score: 0.594858:  14%|#4        | 1/7 [00:26<02:38, 26.37s/it]"
     ]
    },
    {
     "name": "stdout",
     "output_type": "stream",
     "text": [
      "Training until validation scores don't improve for 100 rounds\n",
      "[100]\ttr's binary_logloss: 0.587026\tvl's binary_logloss: 0.60081\n",
      "[200]\ttr's binary_logloss: 0.577435\tvl's binary_logloss: 0.59813\n",
      "[300]\ttr's binary_logloss: 0.570598\tvl's binary_logloss: 0.597018\n",
      "[400]\ttr's binary_logloss: 0.56434\tvl's binary_logloss: 0.596392\n",
      "[500]\ttr's binary_logloss: 0.55849\tvl's binary_logloss: 0.596196\n",
      "[600]\ttr's binary_logloss: 0.553121\tvl's binary_logloss: 0.596003\n",
      "[700]\ttr's binary_logloss: 0.548094\tvl's binary_logloss: 0.595711\n",
      "[800]\ttr's binary_logloss: 0.543201\tvl's binary_logloss: 0.595416\n",
      "Early stopping, best iteration is:\n",
      "[784]\ttr's binary_logloss: 0.544\tvl's binary_logloss: 0.595309\n"
     ]
    },
    {
     "name": "stderr",
     "output_type": "stream",
     "text": [
      "tune_feature_fraction, val_score: 0.594858:  29%|##8       | 2/7 [00:51<02:10, 26.10s/it]"
     ]
    },
    {
     "name": "stdout",
     "output_type": "stream",
     "text": [
      "Training until validation scores don't improve for 100 rounds\n",
      "[100]\ttr's binary_logloss: 0.586594\tvl's binary_logloss: 0.600925\n",
      "[200]\ttr's binary_logloss: 0.576402\tvl's binary_logloss: 0.598432\n",
      "[300]\ttr's binary_logloss: 0.569372\tvl's binary_logloss: 0.597609\n",
      "[400]\ttr's binary_logloss: 0.562492\tvl's binary_logloss: 0.596779\n",
      "[500]\ttr's binary_logloss: 0.556246\tvl's binary_logloss: 0.596522\n",
      "[600]\ttr's binary_logloss: 0.550785\tvl's binary_logloss: 0.596392\n",
      "[700]\ttr's binary_logloss: 0.54586\tvl's binary_logloss: 0.596185\n",
      "[800]\ttr's binary_logloss: 0.540926\tvl's binary_logloss: 0.59611\n",
      "Early stopping, best iteration is:\n",
      "[777]\ttr's binary_logloss: 0.541933\tvl's binary_logloss: 0.596018\n"
     ]
    },
    {
     "name": "stderr",
     "output_type": "stream",
     "text": [
      "tune_feature_fraction, val_score: 0.594858:  43%|####2     | 3/7 [01:17<01:43, 25.99s/it]"
     ]
    },
    {
     "name": "stdout",
     "output_type": "stream",
     "text": [
      "Training until validation scores don't improve for 100 rounds\n",
      "[100]\ttr's binary_logloss: 0.58543\tvl's binary_logloss: 0.601364\n",
      "[200]\ttr's binary_logloss: 0.574304\tvl's binary_logloss: 0.598618\n",
      "[300]\ttr's binary_logloss: 0.566854\tvl's binary_logloss: 0.597877\n",
      "[400]\ttr's binary_logloss: 0.560301\tvl's binary_logloss: 0.597366\n",
      "[500]\ttr's binary_logloss: 0.55417\tvl's binary_logloss: 0.59745\n",
      "Early stopping, best iteration is:\n",
      "[416]\ttr's binary_logloss: 0.559275\tvl's binary_logloss: 0.59725\n"
     ]
    },
    {
     "name": "stderr",
     "output_type": "stream",
     "text": [
      "tune_feature_fraction, val_score: 0.594858:  57%|#####7    | 4/7 [01:34<01:09, 23.13s/it]"
     ]
    },
    {
     "name": "stdout",
     "output_type": "stream",
     "text": [
      "Training until validation scores don't improve for 100 rounds\n",
      "[100]\ttr's binary_logloss: 0.583937\tvl's binary_logloss: 0.60138\n",
      "[200]\ttr's binary_logloss: 0.572059\tvl's binary_logloss: 0.599164\n",
      "[300]\ttr's binary_logloss: 0.564628\tvl's binary_logloss: 0.598524\n",
      "[400]\ttr's binary_logloss: 0.55686\tvl's binary_logloss: 0.597806\n",
      "[500]\ttr's binary_logloss: 0.550344\tvl's binary_logloss: 0.597853\n",
      "Early stopping, best iteration is:\n",
      "[409]\ttr's binary_logloss: 0.556202\tvl's binary_logloss: 0.59769\n"
     ]
    },
    {
     "name": "stderr",
     "output_type": "stream",
     "text": [
      "tune_feature_fraction, val_score: 0.594858:  71%|#######1  | 5/7 [01:50<00:42, 21.15s/it]"
     ]
    },
    {
     "name": "stdout",
     "output_type": "stream",
     "text": [
      "Training until validation scores don't improve for 100 rounds\n",
      "[100]\ttr's binary_logloss: 0.58375\tvl's binary_logloss: 0.601637\n",
      "[200]\ttr's binary_logloss: 0.571174\tvl's binary_logloss: 0.599574\n",
      "[300]\ttr's binary_logloss: 0.562565\tvl's binary_logloss: 0.599174\n",
      "[400]\ttr's binary_logloss: 0.555104\tvl's binary_logloss: 0.598872\n",
      "[500]\ttr's binary_logloss: 0.547976\tvl's binary_logloss: 0.598977\n",
      "Early stopping, best iteration is:\n",
      "[450]\ttr's binary_logloss: 0.551248\tvl's binary_logloss: 0.59879\n"
     ]
    },
    {
     "name": "stderr",
     "output_type": "stream",
     "text": [
      "tune_feature_fraction, val_score: 0.594858:  86%|########5 | 6/7 [02:09<00:20, 20.52s/it]"
     ]
    },
    {
     "name": "stdout",
     "output_type": "stream",
     "text": [
      "Training until validation scores don't improve for 100 rounds\n",
      "[100]\ttr's binary_logloss: 0.583129\tvl's binary_logloss: 0.602088\n",
      "[200]\ttr's binary_logloss: 0.570682\tvl's binary_logloss: 0.600458\n",
      "[300]\ttr's binary_logloss: 0.56171\tvl's binary_logloss: 0.599962\n",
      "[400]\ttr's binary_logloss: 0.553808\tvl's binary_logloss: 0.599785\n",
      "[500]\ttr's binary_logloss: 0.54683\tvl's binary_logloss: 0.599822\n",
      "Early stopping, best iteration is:\n",
      "[410]\ttr's binary_logloss: 0.553037\tvl's binary_logloss: 0.59964\n"
     ]
    },
    {
     "name": "stderr",
     "output_type": "stream",
     "text": [
      "tune_feature_fraction, val_score: 0.594858: 100%|##########| 7/7 [02:27<00:00, 21.07s/it]\n",
      "tune_num_leaves, val_score: 0.594858:   0%|          | 0/20 [00:00<?, ?it/s]"
     ]
    },
    {
     "name": "stdout",
     "output_type": "stream",
     "text": [
      "Training until validation scores don't improve for 100 rounds\n",
      "[100]\ttr's binary_logloss: 0.561538\tvl's binary_logloss: 0.595902\n",
      "[200]\ttr's binary_logloss: 0.540786\tvl's binary_logloss: 0.594039\n",
      "[300]\ttr's binary_logloss: 0.524364\tvl's binary_logloss: 0.594214\n",
      "Early stopping, best iteration is:\n",
      "[204]\ttr's binary_logloss: 0.540061\tvl's binary_logloss: 0.594024\n"
     ]
    },
    {
     "name": "stderr",
     "output_type": "stream",
     "text": [
      "tune_num_leaves, val_score: 0.594024:   5%|5         | 1/20 [00:14<04:33, 14.38s/it]"
     ]
    },
    {
     "name": "stdout",
     "output_type": "stream",
     "text": [
      "Training until validation scores don't improve for 100 rounds\n",
      "[100]\ttr's binary_logloss: 0.578871\tvl's binary_logloss: 0.598698\n",
      "[200]\ttr's binary_logloss: 0.565935\tvl's binary_logloss: 0.596291\n",
      "[300]\ttr's binary_logloss: 0.556701\tvl's binary_logloss: 0.595676\n",
      "[400]\ttr's binary_logloss: 0.547818\tvl's binary_logloss: 0.595259\n",
      "Early stopping, best iteration is:\n",
      "[367]\ttr's binary_logloss: 0.550584\tvl's binary_logloss: 0.595171\n"
     ]
    },
    {
     "name": "stderr",
     "output_type": "stream",
     "text": [
      "tune_num_leaves, val_score: 0.594024:  10%|#         | 2/20 [00:30<04:28, 14.92s/it]"
     ]
    },
    {
     "name": "stdout",
     "output_type": "stream",
     "text": [
      "Training until validation scores don't improve for 100 rounds\n",
      "[100]\ttr's binary_logloss: 0.576042\tvl's binary_logloss: 0.597907\n",
      "[200]\ttr's binary_logloss: 0.562073\tvl's binary_logloss: 0.595488\n",
      "[300]\ttr's binary_logloss: 0.551319\tvl's binary_logloss: 0.595205\n",
      "[400]\ttr's binary_logloss: 0.541693\tvl's binary_logloss: 0.594704\n",
      "Early stopping, best iteration is:\n",
      "[396]\ttr's binary_logloss: 0.542116\tvl's binary_logloss: 0.594681\n"
     ]
    },
    {
     "name": "stderr",
     "output_type": "stream",
     "text": [
      "tune_num_leaves, val_score: 0.594024:  15%|#5        | 3/20 [00:51<04:43, 16.67s/it]"
     ]
    },
    {
     "name": "stdout",
     "output_type": "stream",
     "text": [
      "Training until validation scores don't improve for 100 rounds\n",
      "[100]\ttr's binary_logloss: 0.583276\tvl's binary_logloss: 0.599092\n",
      "[200]\ttr's binary_logloss: 0.571867\tvl's binary_logloss: 0.596536\n",
      "[300]\ttr's binary_logloss: 0.563737\tvl's binary_logloss: 0.595891\n",
      "[400]\ttr's binary_logloss: 0.556833\tvl's binary_logloss: 0.595546\n",
      "[500]\ttr's binary_logloss: 0.54955\tvl's binary_logloss: 0.59535\n",
      "[600]\ttr's binary_logloss: 0.543285\tvl's binary_logloss: 0.595138\n",
      "[700]\ttr's binary_logloss: 0.537034\tvl's binary_logloss: 0.595138\n",
      "[800]\ttr's binary_logloss: 0.531605\tvl's binary_logloss: 0.595159\n",
      "Early stopping, best iteration is:\n",
      "[731]\ttr's binary_logloss: 0.535415\tvl's binary_logloss: 0.594994\n"
     ]
    },
    {
     "name": "stderr",
     "output_type": "stream",
     "text": [
      "tune_num_leaves, val_score: 0.594024:  20%|##        | 4/20 [01:30<06:14, 23.44s/it]"
     ]
    },
    {
     "name": "stdout",
     "output_type": "stream",
     "text": [
      "Training until validation scores don't improve for 100 rounds\n",
      "[100]\ttr's binary_logloss: 0.589739\tvl's binary_logloss: 0.601247\n",
      "[200]\ttr's binary_logloss: 0.579886\tvl's binary_logloss: 0.598119\n",
      "[300]\ttr's binary_logloss: 0.573644\tvl's binary_logloss: 0.597195\n",
      "[400]\ttr's binary_logloss: 0.568258\tvl's binary_logloss: 0.596587\n",
      "[500]\ttr's binary_logloss: 0.562566\tvl's binary_logloss: 0.596089\n",
      "[600]\ttr's binary_logloss: 0.558018\tvl's binary_logloss: 0.595969\n",
      "[700]\ttr's binary_logloss: 0.553599\tvl's binary_logloss: 0.595865\n",
      "[800]\ttr's binary_logloss: 0.549101\tvl's binary_logloss: 0.595403\n",
      "[900]\ttr's binary_logloss: 0.544787\tvl's binary_logloss: 0.595192\n",
      "Early stopping, best iteration is:\n",
      "[821]\ttr's binary_logloss: 0.548111\tvl's binary_logloss: 0.595155\n"
     ]
    },
    {
     "name": "stderr",
     "output_type": "stream",
     "text": [
      "tune_num_leaves, val_score: 0.594024:  25%|##5       | 5/20 [02:08<06:56, 27.75s/it]"
     ]
    },
    {
     "name": "stdout",
     "output_type": "stream",
     "text": [
      "Training until validation scores don't improve for 100 rounds\n",
      "[100]\ttr's binary_logloss: 0.562875\tvl's binary_logloss: 0.596092\n",
      "[200]\ttr's binary_logloss: 0.542451\tvl's binary_logloss: 0.593892\n",
      "[300]\ttr's binary_logloss: 0.526711\tvl's binary_logloss: 0.59408\n",
      "Early stopping, best iteration is:\n",
      "[204]\ttr's binary_logloss: 0.541871\tvl's binary_logloss: 0.593841\n"
     ]
    },
    {
     "name": "stderr",
     "output_type": "stream",
     "text": [
      "tune_num_leaves, val_score: 0.593841:  30%|###       | 6/20 [02:40<06:48, 29.16s/it]"
     ]
    },
    {
     "name": "stdout",
     "output_type": "stream",
     "text": [
      "Training until validation scores don't improve for 100 rounds\n",
      "[100]\ttr's binary_logloss: 0.601889\tvl's binary_logloss: 0.606876\n",
      "[200]\ttr's binary_logloss: 0.594472\tvl's binary_logloss: 0.602679\n",
      "[300]\ttr's binary_logloss: 0.590045\tvl's binary_logloss: 0.600973\n",
      "[400]\ttr's binary_logloss: 0.586566\tvl's binary_logloss: 0.599866\n",
      "[500]\ttr's binary_logloss: 0.583542\tvl's binary_logloss: 0.599163\n",
      "[600]\ttr's binary_logloss: 0.581104\tvl's binary_logloss: 0.598698\n",
      "[700]\ttr's binary_logloss: 0.578603\tvl's binary_logloss: 0.598222\n",
      "[800]\ttr's binary_logloss: 0.576277\tvl's binary_logloss: 0.597746\n",
      "[900]\ttr's binary_logloss: 0.573953\tvl's binary_logloss: 0.597361\n",
      "[1000]\ttr's binary_logloss: 0.571758\tvl's binary_logloss: 0.597068\n",
      "[1100]\ttr's binary_logloss: 0.569619\tvl's binary_logloss: 0.596977\n",
      "[1200]\ttr's binary_logloss: 0.567598\tvl's binary_logloss: 0.596737\n",
      "[1300]\ttr's binary_logloss: 0.565932\tvl's binary_logloss: 0.596504\n",
      "[1400]\ttr's binary_logloss: 0.564031\tvl's binary_logloss: 0.596281\n",
      "[1500]\ttr's binary_logloss: 0.562388\tvl's binary_logloss: 0.596077\n",
      "[1600]\ttr's binary_logloss: 0.56076\tvl's binary_logloss: 0.59595\n",
      "[1700]\ttr's binary_logloss: 0.559026\tvl's binary_logloss: 0.595888\n",
      "[1800]\ttr's binary_logloss: 0.557328\tvl's binary_logloss: 0.595847\n",
      "[1900]\ttr's binary_logloss: 0.555558\tvl's binary_logloss: 0.595772\n",
      "Early stopping, best iteration is:\n",
      "[1848]\ttr's binary_logloss: 0.556471\tvl's binary_logloss: 0.595704\n"
     ]
    },
    {
     "name": "stderr",
     "output_type": "stream",
     "text": [
      "tune_num_leaves, val_score: 0.593841:  35%|###5      | 7/20 [03:55<09:17, 42.92s/it]"
     ]
    },
    {
     "name": "stdout",
     "output_type": "stream",
     "text": [
      "Training until validation scores don't improve for 100 rounds\n",
      "[100]\ttr's binary_logloss: 0.557484\tvl's binary_logloss: 0.595656\n",
      "[200]\ttr's binary_logloss: 0.533846\tvl's binary_logloss: 0.594456\n",
      "[300]\ttr's binary_logloss: 0.51498\tvl's binary_logloss: 0.594725\n",
      "Early stopping, best iteration is:\n",
      "[231]\ttr's binary_logloss: 0.527501\tvl's binary_logloss: 0.594409\n"
     ]
    },
    {
     "name": "stderr",
     "output_type": "stream",
     "text": [
      "tune_num_leaves, val_score: 0.593841:  40%|####      | 8/20 [04:39<08:35, 42.96s/it]"
     ]
    },
    {
     "name": "stdout",
     "output_type": "stream",
     "text": [
      "Training until validation scores don't improve for 100 rounds\n",
      "[100]\ttr's binary_logloss: 0.555443\tvl's binary_logloss: 0.595228\n",
      "[200]\ttr's binary_logloss: 0.530797\tvl's binary_logloss: 0.594416\n",
      "[300]\ttr's binary_logloss: 0.510904\tvl's binary_logloss: 0.594872\n",
      "Early stopping, best iteration is:\n",
      "[245]\ttr's binary_logloss: 0.52174\tvl's binary_logloss: 0.594326\n"
     ]
    },
    {
     "name": "stderr",
     "output_type": "stream",
     "text": [
      "tune_num_leaves, val_score: 0.593841:  45%|####5     | 9/20 [05:28<08:13, 44.84s/it]"
     ]
    },
    {
     "name": "stdout",
     "output_type": "stream",
     "text": [
      "Training until validation scores don't improve for 100 rounds\n",
      "[100]\ttr's binary_logloss: 0.587346\tvl's binary_logloss: 0.600419\n",
      "[200]\ttr's binary_logloss: 0.576858\tvl's binary_logloss: 0.597493\n",
      "[300]\ttr's binary_logloss: 0.570097\tvl's binary_logloss: 0.59669\n",
      "[400]\ttr's binary_logloss: 0.563865\tvl's binary_logloss: 0.596052\n",
      "[500]\ttr's binary_logloss: 0.557981\tvl's binary_logloss: 0.595685\n",
      "[600]\ttr's binary_logloss: 0.552757\tvl's binary_logloss: 0.595638\n",
      "[700]\ttr's binary_logloss: 0.547553\tvl's binary_logloss: 0.595231\n",
      "[800]\ttr's binary_logloss: 0.54297\tvl's binary_logloss: 0.595223\n",
      "Early stopping, best iteration is:\n",
      "[738]\ttr's binary_logloss: 0.545697\tvl's binary_logloss: 0.595063\n"
     ]
    },
    {
     "name": "stderr",
     "output_type": "stream",
     "text": [
      "tune_num_leaves, val_score: 0.593841:  50%|#####     | 10/20 [06:11<07:23, 44.39s/it]"
     ]
    },
    {
     "name": "stdout",
     "output_type": "stream",
     "text": [
      "Training until validation scores don't improve for 100 rounds\n",
      "[100]\ttr's binary_logloss: 0.54382\tvl's binary_logloss: 0.594967\n",
      "[200]\ttr's binary_logloss: 0.512032\tvl's binary_logloss: 0.593709\n",
      "Early stopping, best iteration is:\n",
      "[179]\ttr's binary_logloss: 0.517804\tvl's binary_logloss: 0.593652\n"
     ]
    },
    {
     "name": "stderr",
     "output_type": "stream",
     "text": [
      "tune_num_leaves, val_score: 0.593652:  55%|#####5    | 11/20 [06:44<06:09, 41.04s/it]"
     ]
    },
    {
     "name": "stdout",
     "output_type": "stream",
     "text": [
      "Training until validation scores don't improve for 100 rounds\n",
      "[100]\ttr's binary_logloss: 0.542624\tvl's binary_logloss: 0.594691\n",
      "[200]\ttr's binary_logloss: 0.509861\tvl's binary_logloss: 0.593883\n",
      "Early stopping, best iteration is:\n",
      "[177]\ttr's binary_logloss: 0.51623\tvl's binary_logloss: 0.593808\n"
     ]
    },
    {
     "name": "stderr",
     "output_type": "stream",
     "text": [
      "tune_num_leaves, val_score: 0.593652:  60%|######    | 12/20 [07:30<05:38, 42.31s/it]"
     ]
    },
    {
     "name": "stdout",
     "output_type": "stream",
     "text": [
      "Training until validation scores don't improve for 100 rounds\n",
      "[100]\ttr's binary_logloss: 0.542184\tvl's binary_logloss: 0.594768\n",
      "[200]\ttr's binary_logloss: 0.508801\tvl's binary_logloss: 0.594043\n",
      "Early stopping, best iteration is:\n",
      "[128]\ttr's binary_logloss: 0.531051\tvl's binary_logloss: 0.593765\n"
     ]
    },
    {
     "name": "stderr",
     "output_type": "stream",
     "text": [
      "tune_num_leaves, val_score: 0.593652:  65%|######5   | 13/20 [07:58<04:27, 38.25s/it]"
     ]
    },
    {
     "name": "stdout",
     "output_type": "stream",
     "text": [
      "Training until validation scores don't improve for 100 rounds\n",
      "[100]\ttr's binary_logloss: 0.54382\tvl's binary_logloss: 0.594967\n",
      "[200]\ttr's binary_logloss: 0.512032\tvl's binary_logloss: 0.593709\n",
      "Early stopping, best iteration is:\n",
      "[179]\ttr's binary_logloss: 0.517804\tvl's binary_logloss: 0.593652\n"
     ]
    },
    {
     "name": "stderr",
     "output_type": "stream",
     "text": [
      "tune_num_leaves, val_score: 0.593652:  70%|#######   | 14/20 [08:36<03:48, 38.13s/it]"
     ]
    },
    {
     "name": "stdout",
     "output_type": "stream",
     "text": [
      "Training until validation scores don't improve for 100 rounds\n",
      "[100]\ttr's binary_logloss: 0.547903\tvl's binary_logloss: 0.594812\n",
      "[200]\ttr's binary_logloss: 0.518683\tvl's binary_logloss: 0.594103\n",
      "[300]\ttr's binary_logloss: 0.496221\tvl's binary_logloss: 0.594437\n",
      "Early stopping, best iteration is:\n",
      "[233]\ttr's binary_logloss: 0.511247\tvl's binary_logloss: 0.59402\n"
     ]
    },
    {
     "name": "stderr",
     "output_type": "stream",
     "text": [
      "tune_num_leaves, val_score: 0.593652:  75%|#######5  | 15/20 [09:16<03:13, 38.62s/it]"
     ]
    },
    {
     "name": "stdout",
     "output_type": "stream",
     "text": [
      "Training until validation scores don't improve for 100 rounds\n",
      "[100]\ttr's binary_logloss: 0.548505\tvl's binary_logloss: 0.595038\n",
      "[200]\ttr's binary_logloss: 0.519224\tvl's binary_logloss: 0.594253\n",
      "Early stopping, best iteration is:\n",
      "[189]\ttr's binary_logloss: 0.522091\tvl's binary_logloss: 0.594153\n"
     ]
    },
    {
     "name": "stderr",
     "output_type": "stream",
     "text": [
      "tune_num_leaves, val_score: 0.593652:  80%|########  | 16/20 [09:53<02:32, 38.02s/it]"
     ]
    },
    {
     "name": "stdout",
     "output_type": "stream",
     "text": [
      "Training until validation scores don't improve for 100 rounds\n",
      "[100]\ttr's binary_logloss: 0.548325\tvl's binary_logloss: 0.594965\n",
      "[200]\ttr's binary_logloss: 0.519278\tvl's binary_logloss: 0.594231\n",
      "Early stopping, best iteration is:\n",
      "[172]\ttr's binary_logloss: 0.526187\tvl's binary_logloss: 0.594128\n"
     ]
    },
    {
     "name": "stderr",
     "output_type": "stream",
     "text": [
      "tune_num_leaves, val_score: 0.593652:  85%|########5 | 17/20 [10:31<01:54, 38.26s/it]"
     ]
    },
    {
     "name": "stdout",
     "output_type": "stream",
     "text": [
      "Training until validation scores don't improve for 100 rounds\n",
      "[100]\ttr's binary_logloss: 0.544659\tvl's binary_logloss: 0.594908\n",
      "[200]\ttr's binary_logloss: 0.513718\tvl's binary_logloss: 0.593928\n",
      "[300]\ttr's binary_logloss: 0.488212\tvl's binary_logloss: 0.594458\n",
      "Early stopping, best iteration is:\n",
      "[214]\ttr's binary_logloss: 0.5097\tvl's binary_logloss: 0.593874\n"
     ]
    },
    {
     "name": "stderr",
     "output_type": "stream",
     "text": [
      "tune_num_leaves, val_score: 0.593652:  90%|######### | 18/20 [11:17<01:20, 40.48s/it]"
     ]
    },
    {
     "name": "stdout",
     "output_type": "stream",
     "text": [
      "Training until validation scores don't improve for 100 rounds\n",
      "[100]\ttr's binary_logloss: 0.5527\tvl's binary_logloss: 0.5953\n",
      "[200]\ttr's binary_logloss: 0.526184\tvl's binary_logloss: 0.593999\n",
      "[300]\ttr's binary_logloss: 0.505254\tvl's binary_logloss: 0.594409\n",
      "Early stopping, best iteration is:\n",
      "[204]\ttr's binary_logloss: 0.525279\tvl's binary_logloss: 0.593959\n"
     ]
    },
    {
     "name": "stderr",
     "output_type": "stream",
     "text": [
      "tune_num_leaves, val_score: 0.593652:  95%|#########5| 19/20 [12:01<00:41, 41.57s/it]"
     ]
    },
    {
     "name": "stdout",
     "output_type": "stream",
     "text": [
      "Training until validation scores don't improve for 100 rounds\n",
      "[100]\ttr's binary_logloss: 0.570184\tvl's binary_logloss: 0.59695\n",
      "[200]\ttr's binary_logloss: 0.553995\tvl's binary_logloss: 0.595219\n",
      "[300]\ttr's binary_logloss: 0.541155\tvl's binary_logloss: 0.595171\n",
      "Early stopping, best iteration is:\n",
      "[266]\ttr's binary_logloss: 0.545495\tvl's binary_logloss: 0.594995\n"
     ]
    },
    {
     "name": "stderr",
     "output_type": "stream",
     "text": [
      "tune_num_leaves, val_score: 0.593652: 100%|##########| 20/20 [12:36<00:00, 37.82s/it]\n",
      "tune_bagging_fraction_and_bagging_freq, val_score: 0.593652:   0%|          | 0/10 [00:00<?, ?it/s]"
     ]
    },
    {
     "name": "stdout",
     "output_type": "stream",
     "text": [
      "Training until validation scores don't improve for 100 rounds\n",
      "[100]\ttr's binary_logloss: 0.548177\tvl's binary_logloss: 0.595941\n",
      "[200]\ttr's binary_logloss: 0.515799\tvl's binary_logloss: 0.595387\n",
      "Early stopping, best iteration is:\n",
      "[120]\ttr's binary_logloss: 0.540706\tvl's binary_logloss: 0.595026\n"
     ]
    },
    {
     "name": "stderr",
     "output_type": "stream",
     "text": [
      "tune_bagging_fraction_and_bagging_freq, val_score: 0.593652:  10%|#         | 1/10 [00:40<06:04, 40.54s/it]"
     ]
    },
    {
     "name": "stdout",
     "output_type": "stream",
     "text": [
      "Training until validation scores don't improve for 100 rounds\n",
      "[100]\ttr's binary_logloss: 0.548744\tvl's binary_logloss: 0.595713\n",
      "[200]\ttr's binary_logloss: 0.517059\tvl's binary_logloss: 0.595207\n",
      "Early stopping, best iteration is:\n",
      "[120]\ttr's binary_logloss: 0.541437\tvl's binary_logloss: 0.594856\n"
     ]
    },
    {
     "name": "stderr",
     "output_type": "stream",
     "text": [
      "tune_bagging_fraction_and_bagging_freq, val_score: 0.593652:  20%|##        | 2/10 [01:15<05:11, 38.92s/it]"
     ]
    },
    {
     "name": "stdout",
     "output_type": "stream",
     "text": [
      "Training until validation scores don't improve for 100 rounds\n",
      "[100]\ttr's binary_logloss: 0.554854\tvl's binary_logloss: 0.598762\n",
      "Early stopping, best iteration is:\n",
      "[93]\ttr's binary_logloss: 0.557385\tvl's binary_logloss: 0.598484\n"
     ]
    },
    {
     "name": "stderr",
     "output_type": "stream",
     "text": [
      "tune_bagging_fraction_and_bagging_freq, val_score: 0.593652:  30%|###       | 3/10 [01:38<03:58, 34.11s/it]"
     ]
    },
    {
     "name": "stdout",
     "output_type": "stream",
     "text": [
      "Training until validation scores don't improve for 100 rounds\n",
      "[100]\ttr's binary_logloss: 0.544022\tvl's binary_logloss: 0.595131\n",
      "[200]\ttr's binary_logloss: 0.512768\tvl's binary_logloss: 0.594447\n",
      "Early stopping, best iteration is:\n",
      "[158]\ttr's binary_logloss: 0.523865\tvl's binary_logloss: 0.594258\n"
     ]
    },
    {
     "name": "stderr",
     "output_type": "stream",
     "text": [
      "tune_bagging_fraction_and_bagging_freq, val_score: 0.593652:  40%|####      | 4/10 [02:19<03:36, 36.09s/it]"
     ]
    },
    {
     "name": "stdout",
     "output_type": "stream",
     "text": [
      "Training until validation scores don't improve for 100 rounds\n",
      "[100]\ttr's binary_logloss: 0.545583\tvl's binary_logloss: 0.595189\n",
      "[200]\ttr's binary_logloss: 0.513754\tvl's binary_logloss: 0.594089\n",
      "Early stopping, best iteration is:\n",
      "[162]\ttr's binary_logloss: 0.524492\tvl's binary_logloss: 0.593938\n"
     ]
    },
    {
     "name": "stderr",
     "output_type": "stream",
     "text": [
      "tune_bagging_fraction_and_bagging_freq, val_score: 0.593652:  50%|#####     | 5/10 [02:59<03:06, 37.22s/it]"
     ]
    },
    {
     "name": "stdout",
     "output_type": "stream",
     "text": [
      "Training until validation scores don't improve for 100 rounds\n",
      "[100]\ttr's binary_logloss: 0.551263\tvl's binary_logloss: 0.596463\n",
      "[200]\ttr's binary_logloss: 0.519327\tvl's binary_logloss: 0.595928\n",
      "Early stopping, best iteration is:\n",
      "[164]\ttr's binary_logloss: 0.529744\tvl's binary_logloss: 0.595467\n"
     ]
    },
    {
     "name": "stderr",
     "output_type": "stream",
     "text": [
      "tune_bagging_fraction_and_bagging_freq, val_score: 0.593652:  60%|######    | 6/10 [03:41<02:35, 38.78s/it]"
     ]
    },
    {
     "name": "stdout",
     "output_type": "stream",
     "text": [
      "Training until validation scores don't improve for 100 rounds\n",
      "[100]\ttr's binary_logloss: 0.549474\tvl's binary_logloss: 0.595868\n",
      "[200]\ttr's binary_logloss: 0.517343\tvl's binary_logloss: 0.594916\n",
      "Early stopping, best iteration is:\n",
      "[172]\ttr's binary_logloss: 0.525432\tvl's binary_logloss: 0.594758\n"
     ]
    },
    {
     "name": "stderr",
     "output_type": "stream",
     "text": [
      "tune_bagging_fraction_and_bagging_freq, val_score: 0.593652:  70%|#######   | 7/10 [04:25<02:01, 40.41s/it]"
     ]
    },
    {
     "name": "stdout",
     "output_type": "stream",
     "text": [
      "Training until validation scores don't improve for 100 rounds\n",
      "[100]\ttr's binary_logloss: 0.546148\tvl's binary_logloss: 0.594799\n",
      "[200]\ttr's binary_logloss: 0.51462\tvl's binary_logloss: 0.593557\n",
      "Early stopping, best iteration is:\n",
      "[192]\ttr's binary_logloss: 0.5168\tvl's binary_logloss: 0.593508\n"
     ]
    },
    {
     "name": "stderr",
     "output_type": "stream",
     "text": [
      "tune_bagging_fraction_and_bagging_freq, val_score: 0.593508:  80%|########  | 8/10 [05:13<01:25, 42.69s/it]"
     ]
    },
    {
     "name": "stdout",
     "output_type": "stream",
     "text": [
      "Training until validation scores don't improve for 100 rounds\n",
      "[100]\ttr's binary_logloss: 0.544236\tvl's binary_logloss: 0.59509\n",
      "[200]\ttr's binary_logloss: 0.513324\tvl's binary_logloss: 0.594664\n",
      "Early stopping, best iteration is:\n",
      "[128]\ttr's binary_logloss: 0.533607\tvl's binary_logloss: 0.594328\n"
     ]
    },
    {
     "name": "stderr",
     "output_type": "stream",
     "text": [
      "tune_bagging_fraction_and_bagging_freq, val_score: 0.593508:  90%|######### | 9/10 [06:00<00:44, 44.00s/it]"
     ]
    },
    {
     "name": "stdout",
     "output_type": "stream",
     "text": [
      "Training until validation scores don't improve for 100 rounds\n",
      "[100]\ttr's binary_logloss: 0.551529\tvl's binary_logloss: 0.596948\n",
      "[200]\ttr's binary_logloss: 0.519157\tvl's binary_logloss: 0.596358\n",
      "Early stopping, best iteration is:\n",
      "[193]\ttr's binary_logloss: 0.521127\tvl's binary_logloss: 0.596224\n"
     ]
    },
    {
     "name": "stderr",
     "output_type": "stream",
     "text": [
      "tune_bagging_fraction_and_bagging_freq, val_score: 0.593508: 100%|##########| 10/10 [06:45<00:00, 40.55s/it]\n",
      "tune_feature_fraction, val_score: 0.593508:   0%|          | 0/3 [00:00<?, ?it/s]"
     ]
    },
    {
     "name": "stdout",
     "output_type": "stream",
     "text": [
      "Training until validation scores don't improve for 100 rounds\n",
      "[100]\ttr's binary_logloss: 0.546148\tvl's binary_logloss: 0.594799\n",
      "[200]\ttr's binary_logloss: 0.51462\tvl's binary_logloss: 0.593557\n",
      "Early stopping, best iteration is:\n",
      "[192]\ttr's binary_logloss: 0.5168\tvl's binary_logloss: 0.593508\n"
     ]
    },
    {
     "name": "stderr",
     "output_type": "stream",
     "text": [
      "tune_feature_fraction, val_score: 0.593508:  33%|###3      | 1/3 [00:48<01:35, 47.90s/it]"
     ]
    },
    {
     "name": "stdout",
     "output_type": "stream",
     "text": [
      "Training until validation scores don't improve for 100 rounds\n",
      "[100]\ttr's binary_logloss: 0.544466\tvl's binary_logloss: 0.594853\n",
      "[200]\ttr's binary_logloss: 0.513008\tvl's binary_logloss: 0.594203\n",
      "Early stopping, best iteration is:\n",
      "[172]\ttr's binary_logloss: 0.520885\tvl's binary_logloss: 0.594026\n"
     ]
    },
    {
     "name": "stderr",
     "output_type": "stream",
     "text": [
      "tune_feature_fraction, val_score: 0.593508:  67%|######6   | 2/3 [01:27<00:45, 45.28s/it]"
     ]
    },
    {
     "name": "stdout",
     "output_type": "stream",
     "text": [
      "Training until validation scores don't improve for 100 rounds\n",
      "[100]\ttr's binary_logloss: 0.543403\tvl's binary_logloss: 0.594829\n",
      "[200]\ttr's binary_logloss: 0.512375\tvl's binary_logloss: 0.594134\n",
      "Early stopping, best iteration is:\n",
      "[199]\ttr's binary_logloss: 0.512619\tvl's binary_logloss: 0.594132\n"
     ]
    },
    {
     "name": "stderr",
     "output_type": "stream",
     "text": [
      "tune_feature_fraction, val_score: 0.593508: 100%|##########| 3/3 [02:09<00:00, 43.17s/it]\n",
      "tune_lambda_l1_and_lambda_l2, val_score: 0.593508:   0%|          | 0/20 [00:00<?, ?it/s]"
     ]
    },
    {
     "name": "stdout",
     "output_type": "stream",
     "text": [
      "Training until validation scores don't improve for 100 rounds\n",
      "[100]\ttr's binary_logloss: 0.546457\tvl's binary_logloss: 0.595099\n",
      "[200]\ttr's binary_logloss: 0.515166\tvl's binary_logloss: 0.593829\n",
      "Early stopping, best iteration is:\n",
      "[164]\ttr's binary_logloss: 0.525174\tvl's binary_logloss: 0.593657\n"
     ]
    },
    {
     "name": "stderr",
     "output_type": "stream",
     "text": [
      "tune_lambda_l1_and_lambda_l2, val_score: 0.593508:   5%|5         | 1/20 [00:40<12:37, 39.88s/it]"
     ]
    },
    {
     "name": "stdout",
     "output_type": "stream",
     "text": [
      "Training until validation scores don't improve for 100 rounds\n",
      "[100]\ttr's binary_logloss: 0.545969\tvl's binary_logloss: 0.59502\n",
      "[200]\ttr's binary_logloss: 0.513934\tvl's binary_logloss: 0.593685\n",
      "Early stopping, best iteration is:\n",
      "[188]\ttr's binary_logloss: 0.517352\tvl's binary_logloss: 0.593525\n"
     ]
    },
    {
     "name": "stderr",
     "output_type": "stream",
     "text": [
      "tune_lambda_l1_and_lambda_l2, val_score: 0.593508:  10%|#         | 2/20 [01:18<11:48, 39.38s/it]"
     ]
    },
    {
     "name": "stdout",
     "output_type": "stream",
     "text": [
      "Training until validation scores don't improve for 100 rounds\n",
      "[100]\ttr's binary_logloss: 0.545987\tvl's binary_logloss: 0.594807\n",
      "[200]\ttr's binary_logloss: 0.514714\tvl's binary_logloss: 0.593854\n",
      "Early stopping, best iteration is:\n",
      "[179]\ttr's binary_logloss: 0.520576\tvl's binary_logloss: 0.593645\n"
     ]
    },
    {
     "name": "stderr",
     "output_type": "stream",
     "text": [
      "tune_lambda_l1_and_lambda_l2, val_score: 0.593508:  15%|#5        | 3/20 [01:55<11:00, 38.84s/it]"
     ]
    },
    {
     "name": "stdout",
     "output_type": "stream",
     "text": [
      "Training until validation scores don't improve for 100 rounds\n",
      "[100]\ttr's binary_logloss: 0.546304\tvl's binary_logloss: 0.595101\n",
      "[200]\ttr's binary_logloss: 0.514831\tvl's binary_logloss: 0.594215\n",
      "[300]\ttr's binary_logloss: 0.490418\tvl's binary_logloss: 0.594646\n",
      "Early stopping, best iteration is:\n",
      "[207]\ttr's binary_logloss: 0.512849\tvl's binary_logloss: 0.594118\n"
     ]
    },
    {
     "name": "stderr",
     "output_type": "stream",
     "text": [
      "tune_lambda_l1_and_lambda_l2, val_score: 0.593508:  20%|##        | 4/20 [02:37<10:33, 39.58s/it]"
     ]
    },
    {
     "name": "stdout",
     "output_type": "stream",
     "text": [
      "Training until validation scores don't improve for 100 rounds\n",
      "[100]\ttr's binary_logloss: 0.550045\tvl's binary_logloss: 0.595098\n",
      "[200]\ttr's binary_logloss: 0.522712\tvl's binary_logloss: 0.593579\n",
      "[300]\ttr's binary_logloss: 0.501875\tvl's binary_logloss: 0.593938\n",
      "Early stopping, best iteration is:\n",
      "[208]\ttr's binary_logloss: 0.520823\tvl's binary_logloss: 0.593503\n"
     ]
    },
    {
     "name": "stderr",
     "output_type": "stream",
     "text": [
      "tune_lambda_l1_and_lambda_l2, val_score: 0.593503:  25%|##5       | 5/20 [03:26<10:38, 42.54s/it]"
     ]
    },
    {
     "name": "stdout",
     "output_type": "stream",
     "text": [
      "Training until validation scores don't improve for 100 rounds\n",
      "[100]\ttr's binary_logloss: 0.547522\tvl's binary_logloss: 0.595138\n",
      "[200]\ttr's binary_logloss: 0.516431\tvl's binary_logloss: 0.593668\n",
      "Early stopping, best iteration is:\n",
      "[198]\ttr's binary_logloss: 0.516968\tvl's binary_logloss: 0.593619\n"
     ]
    },
    {
     "name": "stderr",
     "output_type": "stream",
     "text": [
      "tune_lambda_l1_and_lambda_l2, val_score: 0.593503:  30%|###       | 6/20 [04:08<09:51, 42.28s/it]"
     ]
    },
    {
     "name": "stdout",
     "output_type": "stream",
     "text": [
      "Training until validation scores don't improve for 100 rounds\n",
      "[100]\ttr's binary_logloss: 0.546475\tvl's binary_logloss: 0.594873\n",
      "[200]\ttr's binary_logloss: 0.515308\tvl's binary_logloss: 0.593646\n",
      "Early stopping, best iteration is:\n",
      "[198]\ttr's binary_logloss: 0.515789\tvl's binary_logloss: 0.593565\n"
     ]
    },
    {
     "name": "stderr",
     "output_type": "stream",
     "text": [
      "tune_lambda_l1_and_lambda_l2, val_score: 0.593503:  35%|###5      | 7/20 [04:50<09:08, 42.21s/it]"
     ]
    },
    {
     "name": "stdout",
     "output_type": "stream",
     "text": [
      "Training until validation scores don't improve for 100 rounds\n",
      "[100]\ttr's binary_logloss: 0.545968\tvl's binary_logloss: 0.59481\n",
      "[200]\ttr's binary_logloss: 0.514645\tvl's binary_logloss: 0.593894\n",
      "[300]\ttr's binary_logloss: 0.490217\tvl's binary_logloss: 0.594271\n",
      "Early stopping, best iteration is:\n",
      "[204]\ttr's binary_logloss: 0.513472\tvl's binary_logloss: 0.593873\n"
     ]
    },
    {
     "name": "stderr",
     "output_type": "stream",
     "text": [
      "tune_lambda_l1_and_lambda_l2, val_score: 0.593503:  40%|####      | 8/20 [05:32<08:26, 42.18s/it]"
     ]
    },
    {
     "name": "stdout",
     "output_type": "stream",
     "text": [
      "Training until validation scores don't improve for 100 rounds\n",
      "[100]\ttr's binary_logloss: 0.548534\tvl's binary_logloss: 0.594886\n",
      "[200]\ttr's binary_logloss: 0.519844\tvl's binary_logloss: 0.593583\n",
      "Early stopping, best iteration is:\n",
      "[172]\ttr's binary_logloss: 0.52696\tvl's binary_logloss: 0.59346\n"
     ]
    },
    {
     "name": "stderr",
     "output_type": "stream",
     "text": [
      "tune_lambda_l1_and_lambda_l2, val_score: 0.593460:  45%|####5     | 9/20 [06:13<07:41, 41.95s/it]"
     ]
    },
    {
     "name": "stdout",
     "output_type": "stream",
     "text": [
      "Training until validation scores don't improve for 100 rounds\n",
      "[100]\ttr's binary_logloss: 0.545907\tvl's binary_logloss: 0.59506\n",
      "[200]\ttr's binary_logloss: 0.514516\tvl's binary_logloss: 0.593948\n",
      "Early stopping, best iteration is:\n",
      "[172]\ttr's binary_logloss: 0.522421\tvl's binary_logloss: 0.593677\n"
     ]
    },
    {
     "name": "stderr",
     "output_type": "stream",
     "text": [
      "tune_lambda_l1_and_lambda_l2, val_score: 0.593460:  50%|#####     | 10/20 [06:48<06:37, 39.76s/it]"
     ]
    },
    {
     "name": "stdout",
     "output_type": "stream",
     "text": [
      "Training until validation scores don't improve for 100 rounds\n",
      "[100]\ttr's binary_logloss: 0.547852\tvl's binary_logloss: 0.594879\n",
      "[200]\ttr's binary_logloss: 0.518197\tvl's binary_logloss: 0.593397\n",
      "[300]\ttr's binary_logloss: 0.495959\tvl's binary_logloss: 0.593723\n",
      "Early stopping, best iteration is:\n",
      "[208]\ttr's binary_logloss: 0.516081\tvl's binary_logloss: 0.593306\n"
     ]
    },
    {
     "name": "stderr",
     "output_type": "stream",
     "text": [
      "tune_lambda_l1_and_lambda_l2, val_score: 0.593306:  55%|#####5    | 11/20 [07:32<06:08, 40.99s/it]"
     ]
    },
    {
     "name": "stdout",
     "output_type": "stream",
     "text": [
      "Training until validation scores don't improve for 100 rounds\n",
      "[100]\ttr's binary_logloss: 0.549586\tvl's binary_logloss: 0.595444\n",
      "[200]\ttr's binary_logloss: 0.521071\tvl's binary_logloss: 0.594124\n",
      "[300]\ttr's binary_logloss: 0.50016\tvl's binary_logloss: 0.594295\n",
      "Early stopping, best iteration is:\n",
      "[203]\ttr's binary_logloss: 0.520372\tvl's binary_logloss: 0.594072\n"
     ]
    },
    {
     "name": "stderr",
     "output_type": "stream",
     "text": [
      "tune_lambda_l1_and_lambda_l2, val_score: 0.593306:  60%|######    | 12/20 [08:17<05:37, 42.16s/it]"
     ]
    },
    {
     "name": "stdout",
     "output_type": "stream",
     "text": [
      "Training until validation scores don't improve for 100 rounds\n",
      "[100]\ttr's binary_logloss: 0.54598\tvl's binary_logloss: 0.595688\n",
      "[200]\ttr's binary_logloss: 0.514625\tvl's binary_logloss: 0.593823\n",
      "[300]\ttr's binary_logloss: 0.490092\tvl's binary_logloss: 0.594365\n",
      "Early stopping, best iteration is:\n",
      "[204]\ttr's binary_logloss: 0.513485\tvl's binary_logloss: 0.59378\n"
     ]
    },
    {
     "name": "stderr",
     "output_type": "stream",
     "text": [
      "tune_lambda_l1_and_lambda_l2, val_score: 0.593306:  65%|######5   | 13/20 [08:53<04:42, 40.31s/it]"
     ]
    },
    {
     "name": "stdout",
     "output_type": "stream",
     "text": [
      "Training until validation scores don't improve for 100 rounds\n",
      "[100]\ttr's binary_logloss: 0.546799\tvl's binary_logloss: 0.595146\n",
      "[200]\ttr's binary_logloss: 0.516465\tvl's binary_logloss: 0.594258\n",
      "Early stopping, best iteration is:\n",
      "[164]\ttr's binary_logloss: 0.526037\tvl's binary_logloss: 0.594106\n"
     ]
    },
    {
     "name": "stderr",
     "output_type": "stream",
     "text": [
      "tune_lambda_l1_and_lambda_l2, val_score: 0.593306:  70%|#######   | 14/20 [09:25<03:48, 38.04s/it]"
     ]
    },
    {
     "name": "stdout",
     "output_type": "stream",
     "text": [
      "Training until validation scores don't improve for 100 rounds\n",
      "[100]\ttr's binary_logloss: 0.545564\tvl's binary_logloss: 0.595149\n",
      "[200]\ttr's binary_logloss: 0.514525\tvl's binary_logloss: 0.594145\n",
      "Early stopping, best iteration is:\n",
      "[188]\ttr's binary_logloss: 0.517734\tvl's binary_logloss: 0.594024\n"
     ]
    },
    {
     "name": "stderr",
     "output_type": "stream",
     "text": [
      "tune_lambda_l1_and_lambda_l2, val_score: 0.593306:  75%|#######5  | 15/20 [10:00<03:04, 36.93s/it]"
     ]
    },
    {
     "name": "stdout",
     "output_type": "stream",
     "text": [
      "Training until validation scores don't improve for 100 rounds\n",
      "[100]\ttr's binary_logloss: 0.545987\tvl's binary_logloss: 0.594807\n",
      "[200]\ttr's binary_logloss: 0.514664\tvl's binary_logloss: 0.593989\n",
      "Early stopping, best iteration is:\n",
      "[162]\ttr's binary_logloss: 0.525135\tvl's binary_logloss: 0.593789\n"
     ]
    },
    {
     "name": "stderr",
     "output_type": "stream",
     "text": [
      "tune_lambda_l1_and_lambda_l2, val_score: 0.593306:  80%|########  | 16/20 [10:32<02:22, 35.60s/it]"
     ]
    },
    {
     "name": "stdout",
     "output_type": "stream",
     "text": [
      "Training until validation scores don't improve for 100 rounds\n",
      "[100]\ttr's binary_logloss: 0.557541\tvl's binary_logloss: 0.595987\n",
      "[200]\ttr's binary_logloss: 0.532205\tvl's binary_logloss: 0.593848\n",
      "[300]\ttr's binary_logloss: 0.51354\tvl's binary_logloss: 0.594272\n",
      "Early stopping, best iteration is:\n",
      "[225]\ttr's binary_logloss: 0.527014\tvl's binary_logloss: 0.593781\n"
     ]
    },
    {
     "name": "stderr",
     "output_type": "stream",
     "text": [
      "tune_lambda_l1_and_lambda_l2, val_score: 0.593306:  85%|########5 | 17/20 [11:40<02:15, 45.13s/it]"
     ]
    },
    {
     "name": "stdout",
     "output_type": "stream",
     "text": [
      "Training until validation scores don't improve for 100 rounds\n",
      "[100]\ttr's binary_logloss: 0.545829\tvl's binary_logloss: 0.595204\n",
      "[200]\ttr's binary_logloss: 0.514041\tvl's binary_logloss: 0.594211\n",
      "Early stopping, best iteration is:\n",
      "[193]\ttr's binary_logloss: 0.515962\tvl's binary_logloss: 0.594129\n"
     ]
    },
    {
     "name": "stderr",
     "output_type": "stream",
     "text": [
      "tune_lambda_l1_and_lambda_l2, val_score: 0.593306:  90%|######### | 18/20 [12:30<01:33, 46.80s/it]"
     ]
    },
    {
     "name": "stdout",
     "output_type": "stream",
     "text": [
      "Training until validation scores don't improve for 100 rounds\n",
      "[100]\ttr's binary_logloss: 0.546184\tvl's binary_logloss: 0.594783\n",
      "[200]\ttr's binary_logloss: 0.514755\tvl's binary_logloss: 0.593991\n",
      "Early stopping, best iteration is:\n",
      "[181]\ttr's binary_logloss: 0.520123\tvl's binary_logloss: 0.593876\n"
     ]
    },
    {
     "name": "stderr",
     "output_type": "stream",
     "text": [
      "tune_lambda_l1_and_lambda_l2, val_score: 0.593306:  95%|#########5| 19/20 [13:20<00:47, 47.68s/it]"
     ]
    },
    {
     "name": "stdout",
     "output_type": "stream",
     "text": [
      "Training until validation scores don't improve for 100 rounds\n",
      "[100]\ttr's binary_logloss: 0.546768\tvl's binary_logloss: 0.594922\n",
      "[200]\ttr's binary_logloss: 0.516529\tvl's binary_logloss: 0.594196\n",
      "Early stopping, best iteration is:\n",
      "[179]\ttr's binary_logloss: 0.522412\tvl's binary_logloss: 0.59405\n"
     ]
    },
    {
     "name": "stderr",
     "output_type": "stream",
     "text": [
      "tune_lambda_l1_and_lambda_l2, val_score: 0.593306: 100%|##########| 20/20 [13:59<00:00, 41.99s/it]\n",
      "tune_min_child_samples, val_score: 0.593306:   0%|          | 0/5 [00:00<?, ?it/s]"
     ]
    },
    {
     "name": "stdout",
     "output_type": "stream",
     "text": [
      "Training until validation scores don't improve for 100 rounds\n",
      "[100]\ttr's binary_logloss: 0.548098\tvl's binary_logloss: 0.594781\n",
      "[200]\ttr's binary_logloss: 0.518984\tvl's binary_logloss: 0.593367\n",
      "[300]\ttr's binary_logloss: 0.49658\tvl's binary_logloss: 0.593188\n",
      "Early stopping, best iteration is:\n",
      "[296]\ttr's binary_logloss: 0.497512\tvl's binary_logloss: 0.593072\n"
     ]
    },
    {
     "name": "stderr",
     "output_type": "stream",
     "text": [
      "tune_min_child_samples, val_score: 0.593072:  20%|##        | 1/5 [00:48<03:14, 48.63s/it]"
     ]
    },
    {
     "name": "stdout",
     "output_type": "stream",
     "text": [
      "Training until validation scores don't improve for 100 rounds\n",
      "[100]\ttr's binary_logloss: 0.548188\tvl's binary_logloss: 0.595323\n",
      "[200]\ttr's binary_logloss: 0.518637\tvl's binary_logloss: 0.594277\n",
      "[300]\ttr's binary_logloss: 0.49603\tvl's binary_logloss: 0.594397\n",
      "Early stopping, best iteration is:\n",
      "[210]\ttr's binary_logloss: 0.516046\tvl's binary_logloss: 0.594166\n"
     ]
    },
    {
     "name": "stderr",
     "output_type": "stream",
     "text": [
      "tune_min_child_samples, val_score: 0.593072:  40%|####      | 2/5 [01:37<02:25, 48.53s/it]"
     ]
    },
    {
     "name": "stdout",
     "output_type": "stream",
     "text": [
      "Training until validation scores don't improve for 100 rounds\n",
      "[100]\ttr's binary_logloss: 0.547948\tvl's binary_logloss: 0.595315\n",
      "[200]\ttr's binary_logloss: 0.51858\tvl's binary_logloss: 0.594042\n",
      "Early stopping, best iteration is:\n",
      "[198]\ttr's binary_logloss: 0.519064\tvl's binary_logloss: 0.593947\n"
     ]
    },
    {
     "name": "stderr",
     "output_type": "stream",
     "text": [
      "tune_min_child_samples, val_score: 0.593072:  60%|######    | 3/5 [02:22<01:35, 47.65s/it]"
     ]
    },
    {
     "name": "stdout",
     "output_type": "stream",
     "text": [
      "Training until validation scores don't improve for 100 rounds\n",
      "[100]\ttr's binary_logloss: 0.548329\tvl's binary_logloss: 0.595174\n",
      "[200]\ttr's binary_logloss: 0.519225\tvl's binary_logloss: 0.593472\n",
      "[300]\ttr's binary_logloss: 0.496197\tvl's binary_logloss: 0.593805\n",
      "Early stopping, best iteration is:\n",
      "[208]\ttr's binary_logloss: 0.517101\tvl's binary_logloss: 0.593367\n"
     ]
    },
    {
     "name": "stderr",
     "output_type": "stream",
     "text": [
      "tune_min_child_samples, val_score: 0.593072:  80%|########  | 4/5 [03:02<00:45, 45.39s/it]"
     ]
    },
    {
     "name": "stdout",
     "output_type": "stream",
     "text": [
      "Training until validation scores don't improve for 100 rounds\n",
      "[100]\ttr's binary_logloss: 0.548609\tvl's binary_logloss: 0.594984\n",
      "[200]\ttr's binary_logloss: 0.519978\tvl's binary_logloss: 0.593954\n",
      "Early stopping, best iteration is:\n",
      "[189]\ttr's binary_logloss: 0.522613\tvl's binary_logloss: 0.593877\n"
     ]
    },
    {
     "name": "stderr",
     "output_type": "stream",
     "text": [
      "tune_min_child_samples, val_score: 0.593072: 100%|##########| 5/5 [03:43<00:00, 44.73s/it]\n"
     ]
    },
    {
     "name": "stdout",
     "output_type": "stream",
     "text": [
      "CPU times: user 2h 10min 53s, sys: 3h 35min 42s, total: 5h 46min 36s\n",
      "Wall time: 41min 42s\n"
     ]
    }
   ],
   "source": [
    "%%time\n",
    "dtr = lgb.Dataset(dftr[cols_feat], label=dftr[TCOL])\n",
    "dvl = lgb.Dataset(dfvl[cols_feat], label=dfvl[TCOL])\n",
    "best_params, tuning_history = {}, []\n",
    "evalres = {}\n",
    "evallist = [(dtr, 'train'), (dvl, 'eval')]\n",
    "bst = lgb.train(params=params, \n",
    "                train_set=dtr, \n",
    "                num_boost_round=50000,\n",
    "                valid_sets=[dtr, dvl],\n",
    "                valid_names=['tr','vl'],\n",
    "                best_params=best_params,\n",
    "                tuning_history=tuning_history,\n",
    "                verbose_eval=100,\n",
    "                early_stopping_rounds=100,\n",
    "                evals_result=evalres,\n",
    "               )\n",
    "results['bst'] = bst\n",
    "results['evalres'] = evalres\n",
    "results['best_params']=best_params\n",
    "results['tuning_history']=tuning_history"
   ]
  },
  {
   "cell_type": "markdown",
   "metadata": {},
   "source": [
    "## best_params"
   ]
  },
  {
   "cell_type": "code",
   "execution_count": 20,
   "metadata": {},
   "outputs": [
    {
     "data": {
      "text/plain": [
       "{'lambda_l1': 1.15589242556997e-08,\n",
       " 'lambda_l2': 3.109456200339831,\n",
       " 'num_leaves': 243,\n",
       " 'feature_fraction': 0.41600000000000004,\n",
       " 'bagging_fraction': 0.8704715619836813,\n",
       " 'bagging_freq': 5,\n",
       " 'min_child_samples': 5}"
      ]
     },
     "execution_count": 20,
     "metadata": {},
     "output_type": "execute_result"
    }
   ],
   "source": [
    "best_params"
   ]
  },
  {
   "cell_type": "markdown",
   "metadata": {},
   "source": [
    "## tr vl trajec"
   ]
  },
  {
   "cell_type": "code",
   "execution_count": 21,
   "metadata": {},
   "outputs": [
    {
     "data": {
      "image/png": "[encoded data removed]",
      "text/plain": [
       "<Figure size 432x288 with 1 Axes>"
      ]
     },
     "metadata": {
      "needs_background": "light"
     },
     "output_type": "display_data"
    }
   ],
   "source": [
    "plt.plot(evalres['tr']['binary_logloss'])\n",
    "plt.plot(evalres['vl']['binary_logloss'])\n",
    "plt.title(f\"logloss; best_iteration {bst.best_iteration}\")\n",
    "plt.show()"
   ]
  },
  {
   "cell_type": "markdown",
   "metadata": {},
   "source": [
    "## model features"
   ]
  },
  {
   "cell_type": "code",
   "execution_count": 22,
   "metadata": {
    "scrolled": true
   },
   "outputs": [
    {
     "data": {
      "image/png": "[encoded data removed]",
      "text/plain": [
       "<Figure size 720x1080 with 1 Axes>"
      ]
     },
     "metadata": {
      "needs_background": "light"
     },
     "output_type": "display_data"
    }
   ],
   "source": [
    "ax = lgb.plot_importance(bst, height=0.8, max_num_features=50, figsize=(10,15))\n",
    "ax.grid(False, axis=\"y\")\n",
    "ax.set_title(f'Estimated feature importance')\n",
    "plt.show()"
   ]
  },
  {
   "cell_type": "code",
   "execution_count": 23,
   "metadata": {},
   "outputs": [
    {
     "data": {
      "text/html": [
       "<div>\n",
       "<style scoped>\n",
       "    .dataframe tbody tr th:only-of-type {\n",
       "        vertical-align: middle;\n",
       "    }\n",
       "\n",
       "    .dataframe tbody tr th {\n",
       "        vertical-align: top;\n",
       "    }\n",
       "\n",
       "    .dataframe thead th {\n",
       "        text-align: right;\n",
       "    }\n",
       "</style>\n",
       "<table border=\"1\" class=\"dataframe\">\n",
       "  <thead>\n",
       "    <tr style=\"text-align: right;\">\n",
       "      <th></th>\n",
       "      <th>0</th>\n",
       "      <th>1</th>\n",
       "    </tr>\n",
       "  </thead>\n",
       "  <tbody>\n",
       "    <tr>\n",
       "      <th>28</th>\n",
       "      <td>langhour</td>\n",
       "      <td>5772</td>\n",
       "    </tr>\n",
       "    <tr>\n",
       "      <th>3</th>\n",
       "      <td>u1_fllwing_cnt</td>\n",
       "      <td>5244</td>\n",
       "    </tr>\n",
       "    <tr>\n",
       "      <th>5</th>\n",
       "      <td>u2_fllwer_cnt</td>\n",
       "      <td>4812</td>\n",
       "    </tr>\n",
       "    <tr>\n",
       "      <th>21</th>\n",
       "      <td>tmdlta_twtu1</td>\n",
       "      <td>4718</td>\n",
       "    </tr>\n",
       "    <tr>\n",
       "      <th>6</th>\n",
       "      <td>u2_fllwng_cnt</td>\n",
       "      <td>4695</td>\n",
       "    </tr>\n",
       "    <tr>\n",
       "      <th>26</th>\n",
       "      <td>u1_fllwer_cnt_by_age</td>\n",
       "      <td>4668</td>\n",
       "    </tr>\n",
       "    <tr>\n",
       "      <th>27</th>\n",
       "      <td>u1_fllwng_cnt_by_age</td>\n",
       "      <td>4580</td>\n",
       "    </tr>\n",
       "    <tr>\n",
       "      <th>20</th>\n",
       "      <td>tmdlta_u2u1</td>\n",
       "      <td>4572</td>\n",
       "    </tr>\n",
       "    <tr>\n",
       "      <th>2</th>\n",
       "      <td>u1_fllwer_cnt</td>\n",
       "      <td>4569</td>\n",
       "    </tr>\n",
       "    <tr>\n",
       "      <th>11</th>\n",
       "      <td>len_toks</td>\n",
       "      <td>4288</td>\n",
       "    </tr>\n",
       "    <tr>\n",
       "      <th>23</th>\n",
       "      <td>twt_age</td>\n",
       "      <td>4124</td>\n",
       "    </tr>\n",
       "    <tr>\n",
       "      <th>22</th>\n",
       "      <td>tmdlta_twtu2</td>\n",
       "      <td>3615</td>\n",
       "    </tr>\n",
       "    <tr>\n",
       "      <th>24</th>\n",
       "      <td>u1_age</td>\n",
       "      <td>3403</td>\n",
       "    </tr>\n",
       "    <tr>\n",
       "      <th>25</th>\n",
       "      <td>u2_age</td>\n",
       "      <td>3316</td>\n",
       "    </tr>\n",
       "    <tr>\n",
       "      <th>1</th>\n",
       "      <td>lang</td>\n",
       "      <td>1846</td>\n",
       "    </tr>\n",
       "    <tr>\n",
       "      <th>19</th>\n",
       "      <td>hour</td>\n",
       "      <td>1611</td>\n",
       "    </tr>\n",
       "    <tr>\n",
       "      <th>18</th>\n",
       "      <td>dayofweek</td>\n",
       "      <td>1378</td>\n",
       "    </tr>\n",
       "    <tr>\n",
       "      <th>15</th>\n",
       "      <td>n_hshtgs</td>\n",
       "      <td>901</td>\n",
       "    </tr>\n",
       "    <tr>\n",
       "      <th>12</th>\n",
       "      <td>n_media_Photo</td>\n",
       "      <td>790</td>\n",
       "    </tr>\n",
       "    <tr>\n",
       "      <th>0</th>\n",
       "      <td>twttyp</td>\n",
       "      <td>724</td>\n",
       "    </tr>\n",
       "    <tr>\n",
       "      <th>16</th>\n",
       "      <td>n_media</td>\n",
       "      <td>630</td>\n",
       "    </tr>\n",
       "    <tr>\n",
       "      <th>8</th>\n",
       "      <td>u1_fllw_u2</td>\n",
       "      <td>341</td>\n",
       "    </tr>\n",
       "    <tr>\n",
       "      <th>13</th>\n",
       "      <td>n_media_Video</td>\n",
       "      <td>322</td>\n",
       "    </tr>\n",
       "    <tr>\n",
       "      <th>4</th>\n",
       "      <td>u1_vrfed</td>\n",
       "      <td>255</td>\n",
       "    </tr>\n",
       "    <tr>\n",
       "      <th>17</th>\n",
       "      <td>n_domns</td>\n",
       "      <td>180</td>\n",
       "    </tr>\n",
       "    <tr>\n",
       "      <th>14</th>\n",
       "      <td>n_media_GIF</td>\n",
       "      <td>97</td>\n",
       "    </tr>\n",
       "    <tr>\n",
       "      <th>10</th>\n",
       "      <td>u2inu1</td>\n",
       "      <td>91</td>\n",
       "    </tr>\n",
       "    <tr>\n",
       "      <th>9</th>\n",
       "      <td>u1inu2</td>\n",
       "      <td>70</td>\n",
       "    </tr>\n",
       "    <tr>\n",
       "      <th>7</th>\n",
       "      <td>u2_vrfed</td>\n",
       "      <td>20</td>\n",
       "    </tr>\n",
       "  </tbody>\n",
       "</table>\n",
       "</div>"
      ],
      "text/plain": [
       "                       0     1\n",
       "28              langhour  5772\n",
       "3         u1_fllwing_cnt  5244\n",
       "5          u2_fllwer_cnt  4812\n",
       "21          tmdlta_twtu1  4718\n",
       "6          u2_fllwng_cnt  4695\n",
       "26  u1_fllwer_cnt_by_age  4668\n",
       "27  u1_fllwng_cnt_by_age  4580\n",
       "20           tmdlta_u2u1  4572\n",
       "2          u1_fllwer_cnt  4569\n",
       "11              len_toks  4288\n",
       "23               twt_age  4124\n",
       "22          tmdlta_twtu2  3615\n",
       "24                u1_age  3403\n",
       "25                u2_age  3316\n",
       "1                   lang  1846\n",
       "19                  hour  1611\n",
       "18             dayofweek  1378\n",
       "15              n_hshtgs   901\n",
       "12         n_media_Photo   790\n",
       "0                 twttyp   724\n",
       "16               n_media   630\n",
       "8             u1_fllw_u2   341\n",
       "13         n_media_Video   322\n",
       "4               u1_vrfed   255\n",
       "17               n_domns   180\n",
       "14           n_media_GIF    97\n",
       "10                u2inu1    91\n",
       "9                 u1inu2    70\n",
       "7               u2_vrfed    20"
      ]
     },
     "execution_count": 23,
     "metadata": {},
     "output_type": "execute_result"
    }
   ],
   "source": [
    "pd.DataFrame([bst.feature_name(), bst.feature_importance()]).T.sort_values(1, ascending=False)"
   ]
  },
  {
   "cell_type": "code",
   "execution_count": 24,
   "metadata": {},
   "outputs": [
    {
     "data": {
      "text/plain": [
       "[('langhour', 5772),\n",
       " ('u1_fllwing_cnt', 5244),\n",
       " ('u2_fllwer_cnt', 4812),\n",
       " ('tmdlta_twtu1', 4718),\n",
       " ('u2_fllwng_cnt', 4695),\n",
       " ('u1_fllwer_cnt_by_age', 4668),\n",
       " ('u1_fllwng_cnt_by_age', 4580),\n",
       " ('tmdlta_u2u1', 4572),\n",
       " ('u1_fllwer_cnt', 4569),\n",
       " ('len_toks', 4288),\n",
       " ('twt_age', 4124),\n",
       " ('tmdlta_twtu2', 3615),\n",
       " ('u1_age', 3403),\n",
       " ('u2_age', 3316),\n",
       " ('lang', 1846),\n",
       " ('hour', 1611),\n",
       " ('dayofweek', 1378),\n",
       " ('n_hshtgs', 901),\n",
       " ('n_media_Photo', 790),\n",
       " ('twttyp', 724),\n",
       " ('n_media', 630),\n",
       " ('u1_fllw_u2', 341),\n",
       " ('n_media_Video', 322),\n",
       " ('u1_vrfed', 255),\n",
       " ('n_domns', 180),\n",
       " ('n_media_GIF', 97),\n",
       " ('u2inu1', 91),\n",
       " ('u1inu2', 70),\n",
       " ('u2_vrfed', 20)]"
      ]
     },
     "execution_count": 24,
     "metadata": {},
     "output_type": "execute_result"
    }
   ],
   "source": [
    "col2imp = dict(zip(bst.feature_name(), bst.feature_importance()))\n",
    "sorted(col2imp.items(), key=lambda x: -x[1])"
   ]
  },
  {
   "cell_type": "code",
   "execution_count": 25,
   "metadata": {},
   "outputs": [
    {
     "data": {
      "text/plain": [
       "['langhour',\n",
       " 'u1_fllwing_cnt',\n",
       " 'u2_fllwer_cnt',\n",
       " 'tmdlta_twtu1',\n",
       " 'u2_fllwng_cnt',\n",
       " 'u1_fllwer_cnt_by_age',\n",
       " 'u1_fllwng_cnt_by_age',\n",
       " 'tmdlta_u2u1',\n",
       " 'u1_fllwer_cnt',\n",
       " 'len_toks',\n",
       " 'twt_age',\n",
       " 'tmdlta_twtu2',\n",
       " 'u1_age',\n",
       " 'u2_age',\n",
       " 'lang',\n",
       " 'hour',\n",
       " 'dayofweek',\n",
       " 'n_hshtgs',\n",
       " 'n_media_Photo',\n",
       " 'twttyp',\n",
       " 'n_media',\n",
       " 'u1_fllw_u2',\n",
       " 'n_media_Video',\n",
       " 'u1_vrfed',\n",
       " 'n_domns',\n",
       " 'n_media_GIF',\n",
       " 'u2inu1',\n",
       " 'u1inu2',\n",
       " 'u2_vrfed']"
      ]
     },
     "execution_count": 25,
     "metadata": {},
     "output_type": "execute_result"
    }
   ],
   "source": [
    "[o[0] for o in sorted(col2imp.items(), key=lambda x: -x[1]) if o[1]>0]"
   ]
  },
  {
   "cell_type": "code",
   "execution_count": null,
   "metadata": {},
   "outputs": [],
   "source": []
  },
  {
   "cell_type": "markdown",
   "metadata": {},
   "source": [
    "# eval"
   ]
  },
  {
   "cell_type": "code",
   "execution_count": 26,
   "metadata": {},
   "outputs": [
    {
     "name": "stdout",
     "output_type": "stream",
     "text": [
      "CPU times: user 1min 46s, sys: 0 ns, total: 1min 46s\n",
      "Wall time: 17.3 s\n"
     ]
    }
   ],
   "source": [
    "%%time\n",
    "prdtr = bst.predict(dftr[cols_feat],num_iteration=bst.best_iteration)\n",
    "prdvl = bst.predict(dfvl[cols_feat],num_iteration=bst.best_iteration)\n",
    "prdval0 = bst.predict(dfval[cols_feat],num_iteration=bst.best_iteration)\n",
    "prdval = calibration(prdval0, train_pop, target_pop, sampled_train_pop, sampled_target_pop)"
   ]
  },
  {
   "cell_type": "code",
   "execution_count": 27,
   "metadata": {},
   "outputs": [
    {
     "name": "stdout",
     "output_type": "stream",
     "text": [
      "CPU times: user 5.96 s, sys: 0 ns, total: 5.96 s\n",
      "Wall time: 6.3 s\n"
     ]
    }
   ],
   "source": [
    "%%time\n",
    "ytr,yvl,yval=[df[TCOL].values for df in (dftr,dfvl,dfval)]\n",
    "\n",
    "auc_tr=compute_prauc(prdtr, ytr)\n",
    "rce_tr=compute_rce(prdtr, ytr)\n",
    "auc_vl=compute_prauc(prdvl, yvl)\n",
    "rce_vl=compute_rce(prdvl, yvl)\n",
    "auc_val=compute_prauc(prdval, yval)\n",
    "rce_val=compute_rce(prdval, yval)\n",
    "\n",
    "results['scrs'] = {}\n",
    "results['scrs']['auc_tr']=auc_tr\n",
    "results['scrs']['rce_tr']=rce_tr\n",
    "results['scrs']['auc_vl']=auc_vl\n",
    "results['scrs']['rce_vl']=rce_vl\n",
    "results['scrs']['auc_val']=auc_val\n",
    "results['scrs']['rce_val']=rce_val"
   ]
  },
  {
   "cell_type": "code",
   "execution_count": 28,
   "metadata": {},
   "outputs": [
    {
     "name": "stdout",
     "output_type": "stream",
     "text": [
      "auc_tr:  0.8202\n",
      "auc_vl:  0.6866\n",
      "auc_val: 0.6807\n",
      "\n",
      "rce_tr:  27.4224\n",
      "rce_vl:  13.5627\n",
      "rce_val: 13.2248\n"
     ]
    }
   ],
   "source": [
    "print(f'auc_tr:  {auc_tr:.4f}')\n",
    "print(f'auc_vl:  {auc_vl:.4f}')\n",
    "print(f'auc_val: {auc_val:.4f}')\n",
    "print()\n",
    "print(f'rce_tr:  {rce_tr:.4f}')\n",
    "print(f'rce_vl:  {rce_vl:.4f}')\n",
    "print(f'rce_val: {rce_val:.4f}')"
   ]
  },
  {
   "cell_type": "markdown",
   "metadata": {},
   "source": [
    "## score"
   ]
  },
  {
   "cell_type": "code",
   "execution_count": 29,
   "metadata": {},
   "outputs": [
    {
     "name": "stdout",
     "output_type": "stream",
     "text": [
      "-0.6807-13.2248\n"
     ]
    }
   ],
   "source": [
    "print(f'-{auc_val:.4f}-{rce_val:.4f}')"
   ]
  },
  {
   "cell_type": "markdown",
   "metadata": {},
   "source": [
    "# save results"
   ]
  },
  {
   "cell_type": "code",
   "execution_count": 30,
   "metadata": {},
   "outputs": [],
   "source": [
    "pickle.dump(results, open(f'{p_out}/results_{PRFX}.p', 'wb'))"
   ]
  },
  {
   "cell_type": "markdown",
   "metadata": {},
   "source": [
    "# infer"
   ]
  },
  {
   "cell_type": "code",
   "execution_count": 31,
   "metadata": {},
   "outputs": [],
   "source": [
    "results = pickle.load( open(f'{p_out}/results_{PRFX}.p', 'rb'))\n",
    "bst = results['bst']\n",
    "col2tgtenc = results['col2tgtenc']\n",
    "cols_feat = results['cols_feat']\n",
    "tgt_encoder = results['tgt_encoder']"
   ]
  },
  {
   "cell_type": "markdown",
   "metadata": {},
   "source": [
    "## prep"
   ]
  },
  {
   "cell_type": "code",
   "execution_count": 32,
   "metadata": {},
   "outputs": [
    {
     "name": "stdout",
     "output_type": "stream",
     "text": [
      "CPU times: user 3.71 ms, sys: 5.98 ms, total: 9.69 ms\n",
      "Wall time: 8.93 ms\n"
     ]
    }
   ],
   "source": [
    "%%time\n",
    "dftst=pd.read_csv(\n",
    "    f'{p_in}/val_{tsttmstmp}.tsv',\n",
    "    sep='\\x01', header=None, names=cols_val, \n",
    "    nrows=10\n",
    ")"
   ]
  },
  {
   "cell_type": "code",
   "execution_count": 33,
   "metadata": {
    "scrolled": true
   },
   "outputs": [
    {
     "name": "stdout",
     "output_type": "stream",
     "text": [
      "2020-04-11 22:26:24 start\n",
      "2020-04-11 22:26:24 freq of columns using CountEncoder\n"
     ]
    },
    {
     "name": "stderr",
     "output_type": "stream",
     "text": [
      "/data/anaconda3/envs/rcss20/lib/python3.7/site-packages/category_encoders/count.py:255: FutureWarning: The pandas.np module is deprecated and will be removed from pandas in a future version. Import numpy directly instead\n",
      "  X.loc[:, self.cols] = X.fillna(value=pd.np.nan)\n"
     ]
    },
    {
     "name": "stdout",
     "output_type": "stream",
     "text": [
      "2020-04-11 22:26:24 freq of tags\n",
      "2020-04-11 22:26:24 done\n",
      "CPU times: user 202 ms, sys: 0 ns, total: 202 ms\n",
      "Wall time: 216 ms\n"
     ]
    }
   ],
   "source": [
    "%%time\n",
    "dftst=prp_df(dftst, tm_max=tm_tst_max)"
   ]
  },
  {
   "cell_type": "code",
   "execution_count": 34,
   "metadata": {},
   "outputs": [],
   "source": [
    "encoded_tst = tgt_encoder.transform(dftst[col2tgtenc].astype(object))\n",
    "tgtenc_columns = [f'tgtenc_{col}' for col in encoded_tst.columns]\n",
    "encoded_tst.columns = tgtenc_columns\n",
    "dftst = pd.concat([dftst, encoded_tst], 1)\n",
    "dftst.drop(columns=['u1id','u1u2'], inplace=True)\n",
    "cols_category=['twttyp', 'lang', 'langhour']\n",
    "dftst[cols_category]=dftst[cols_category].astype('category')"
   ]
  },
  {
   "cell_type": "markdown",
   "metadata": {},
   "source": [
    "## predict"
   ]
  },
  {
   "cell_type": "code",
   "execution_count": 35,
   "metadata": {},
   "outputs": [
    {
     "name": "stdout",
     "output_type": "stream",
     "text": [
      "CPU times: user 26.2 ms, sys: 68.5 ms, total: 94.7 ms\n",
      "Wall time: 61.5 ms\n"
     ]
    }
   ],
   "source": [
    "%%time\n",
    "prdtst0 = bst.predict(dftst[cols_feat],num_iteration=bst.best_iteration)\n",
    "prdtst = calibration(prdtst0, train_pop, target_pop, sampled_train_pop, sampled_target_pop)"
   ]
  },
  {
   "cell_type": "code",
   "execution_count": 36,
   "metadata": {},
   "outputs": [],
   "source": [
    "dfsub_ids = dftst[['twtid','u2id',]]\n",
    "dfsub = dfsub_ids.copy()\n",
    "dfsub['scr'] = prdtst\n",
    "dfsub.to_csv(f'{p_out}/{TGT}__{PRFX}.csv',index=False,header=False)"
   ]
  },
  {
   "cell_type": "code",
   "execution_count": null,
   "metadata": {},
   "outputs": [],
   "source": []
  },
  {
   "cell_type": "code",
   "execution_count": null,
   "metadata": {},
   "outputs": [],
   "source": []
  },
  {
   "cell_type": "code",
   "execution_count": null,
   "metadata": {},
   "outputs": [],
   "source": []
  }
 ],
 "metadata": {
  "kernelspec": {
   "display_name": "rcss20",
   "language": "python",
   "name": "rcss20"
  },
  "language_info": {
   "codemirror_mode": {
    "name": "ipython",
    "version": 3
   },
   "file_extension": ".py",
   "mimetype": "text/x-python",
   "name": "python",
   "nbconvert_exporter": "python",
   "pygments_lexer": "ipython3",
   "version": "3.7.6"
  },
  "toc": {
   "base_numbering": 1,
   "nav_menu": {},
   "number_sections": true,
   "sideBar": true,
   "skip_h1_title": false,
   "title_cell": "Table of Contents",
   "title_sidebar": "Contents",
   "toc_cell": false,
   "toc_position": {},
   "toc_section_display": true,
   "toc_window_display": true
  }
 },
 "nbformat": 4,
 "nbformat_minor": 4
}
