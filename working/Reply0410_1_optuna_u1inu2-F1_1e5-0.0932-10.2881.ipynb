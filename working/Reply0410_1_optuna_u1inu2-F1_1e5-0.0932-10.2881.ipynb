{
 "cells": [
  {
   "cell_type": "markdown",
   "metadata": {},
   "source": [
    "# start"
   ]
  },
  {
   "cell_type": "markdown",
   "metadata": {},
   "source": [
    "- http://localhost:8081/notebooks/git/recsys20/working/0324_6_3_lgb_feat_engr-1e7.ipynb\n",
    "- http://localhost:8081/notebooks/git/recsys20/working/mdl0404_1__xgb_mean_encode.ipynb\n",
    "- http://localhost:8081/notebooks/git/recsys20/working/eda_0404_1.ipynb#v.s.-target\n",
    "- https://www.kaggle.com/discdiver/category-encoders-examples\n",
    "- https://www.kaggle.com/snakayama/lightgbm-using-optuna-optuna-lightgbm"
   ]
  },
  {
   "cell_type": "code",
   "execution_count": 1,
   "metadata": {},
   "outputs": [
    {
     "name": "stdout",
     "output_type": "stream",
     "text": [
      "train_total 148,075,238, test_total 14,000,000\n",
      "['2020-03-17 02:32:24', '2020-04-06 00:35:47']\n",
      "['2020-02-06 00:00:00', '2020-02-12 23:59:59']\n",
      "['2020-02-13 00:00:00', '2020-02-19 23:59:59']\n"
     ]
    }
   ],
   "source": [
    "TGT='Reply'\n",
    "PRFX='Reply0410_1'\n",
    "\n",
    "trntmstmp=1584412344\n",
    "tsttmstmp=1586133347\n",
    "\n",
    "tm_trn_min,tm_trn_max=(1580947200, 1581551999)\n",
    "tm_tst_min,tm_tst_max=(1581552000, 1582156799)\n",
    "\n",
    "SEED=101\n",
    "\n",
    "valsz = int(1e5)#int(1e5)\n",
    "trnsz = int(1e5)#int(5e5)\n",
    "\n",
    "train_total=148075238\n",
    "test_total=int(1.4e7)\n",
    "print(f'train_total {train_total:,}, test_total {test_total:,}')\n",
    "\n",
    "\n",
    "import datetime\n",
    "def showtm(tm): return datetime.datetime.fromtimestamp(tm).strftime('%Y-%m-%d %H:%M:%S')\n",
    "print([showtm(tm) for tm in (trntmstmp, tsttmstmp)])\n",
    "print([showtm(tm) for tm in (tm_trn_min,tm_trn_max)])\n",
    "print([showtm(tm) for tm in (tm_tst_min,tm_tst_max)])"
   ]
  },
  {
   "cell_type": "markdown",
   "metadata": {},
   "source": [
    "# setup"
   ]
  },
  {
   "cell_type": "code",
   "execution_count": 2,
   "metadata": {},
   "outputs": [
    {
     "name": "stdout",
     "output_type": "stream",
     "text": [
      "TCOL reply\n",
      "{'Retweet': 'retwt', 'Reply': 'reply', 'Like': 'like', 'RTwCmnt': 'retwt_cmmnt'}\n"
     ]
    }
   ],
   "source": [
    "from tqdm import tqdm\n",
    "import time\n",
    "from pathlib import Path\n",
    "from collections import Counter,defaultdict\n",
    "from sklearn.model_selection import train_test_split\n",
    "import pandas as pd\n",
    "import numpy as np\n",
    "import matplotlib.pyplot as plt\n",
    "from sklearn.metrics import accuracy_score, roc_auc_score, roc_curve, auc, precision_recall_curve\n",
    "import pickle\n",
    "# import xgboost as xgb\n",
    "# import lightgbm as lgb\n",
    "import category_encoders as ce\n",
    "import gc\n",
    "\n",
    "import optuna\n",
    "# optuna.logging.CRITICAL, optuna.logging.FATAL\n",
    "# optuna.logging.ERROR\n",
    "# optuna.logging.WARNING, optuna.logging.WARN\n",
    "# optuna.logging.INFO\n",
    "# optuna.logging.DEBUG\n",
    "# optuna.logging.set_verbosity(optuna.logging.ERROR)\n",
    "import optuna.integration.lightgbm as lgb\n",
    "optuna.logging.disable_default_handler()\n",
    "\n",
    "\n",
    "pd.set_option('display.max_rows', 500)\n",
    "pd.set_option('display.max_columns', 500)\n",
    "\n",
    "\n",
    "import datetime\n",
    "def dtnow(): return datetime.datetime.now().strftime('%Y-%m-%d %H:%M:%S')\n",
    "\n",
    "def iou(s1,s2):\n",
    "    return len(s1&s2) / len(s1|s2)\n",
    "\n",
    "HOME='/data/git/recsys20'\n",
    "p_in=f'{HOME}/input'\n",
    "p_out=f'{HOME}/output/{PRFX}'\n",
    "Path(p_out).mkdir(exist_ok=True, parents=True)\n",
    "\n",
    "from sklearn.metrics import precision_recall_curve, auc, log_loss\n",
    "\n",
    "def compute_prauc(pred, gt):\n",
    "    prec, recall, thresh = precision_recall_curve(gt, pred)\n",
    "    prauc = auc(recall, prec)\n",
    "    return prauc\n",
    "\n",
    "def calculate_ctr(gt):\n",
    "    positive = len([x for x in gt if x == 1])\n",
    "    ctr = positive/float(len(gt))\n",
    "    return ctr\n",
    "\n",
    "def compute_rce(pred, gt):\n",
    "    cross_entropy = log_loss(gt, pred)\n",
    "    data_ctr = calculate_ctr(gt)\n",
    "    strawman_cross_entropy = log_loss(gt, [data_ctr for _ in range(len(gt))])\n",
    "    return (1.0 - cross_entropy/strawman_cross_entropy)*100.0\n",
    "\n",
    "# https://towardsdatascience.com/how-to-calibrate-undersampled-model-scores-8f3319c1ea5b\n",
    "# How to use the function?\n",
    "# Let’s say your goal is to generate a model that shows the credit default probabilities and your original \n",
    "# training data has 50,000 rows with only 500 of them labeled as target class. When you sample your non-target \n",
    "# instances randomly and reduce the total row count to 10,000, while conserving 500 target rows, our calibration\n",
    "# function becomes:\n",
    "# calibration(model_results, 50000, 500, 10000, 500)\n",
    "# Here model_results is your model probability output array. After you train your model and put the results in it, your function is ready to use. \n",
    "def calibration(data, train_pop, target_pop, sampled_train_pop, sampled_target_pop):\n",
    "    calibrated_data = ((data * (target_pop / train_pop) / (sampled_target_pop / sampled_train_pop)) /\n",
    "    (((1 - data) * (1 - target_pop / train_pop) / (1 - sampled_target_pop / sampled_train_pop)) +\n",
    "     (data * (target_pop / train_pop) / (sampled_target_pop / sampled_train_pop))))\n",
    "    return calibrated_data\n",
    "\n",
    "\n",
    "cols=['toks','hshtgs','twtid','media','links','domns','twttyp','lang','tm','u1id','u1_fllwer_cnt','u1_fllwing_cnt','u1_vrfed','u1_create_tm','u2id','u2_fllwer_cnt','u2_fllwng_cnt','u2_vrfed','u2_create_tm','u1_fllw_u2','reply_tm','retwt_tm','retwt_cmmnt_tm','like_tm',]\n",
    "\n",
    "cols_val = cols[:-4]\n",
    "cols_tgt_tmstmp=[ 'retwt_tm', 'reply_tm', 'like_tm', 'retwt_cmmnt_tm',]\n",
    "cols_tgt=[o.split('_tm')[0] for o in cols_tgt_tmstmp]\n",
    "tgts             = ['Retweet','Reply','Like','RTwCmnt',]\n",
    "assert cols_tgt == ['retwt',  'reply','like','retwt_cmmnt',]\n",
    "tgt2col = dict(zip(tgts, cols_tgt))\n",
    "TCOL=tgt2col[TGT]\n",
    "print('TCOL', TCOL)\n",
    "print(tgt2col)"
   ]
  },
  {
   "cell_type": "markdown",
   "metadata": {},
   "source": [
    "# prep"
   ]
  },
  {
   "cell_type": "code",
   "execution_count": 3,
   "metadata": {},
   "outputs": [],
   "source": [
    "def prp_tgt(df):\n",
    "    df[cols_tgt]=df[cols_tgt_tmstmp].notna()\n",
    "    df.drop(columns=cols_tgt_tmstmp, inplace=True)\n",
    "    display(df[cols_tgt].mean())"
   ]
  },
  {
   "cell_type": "code",
   "execution_count": 4,
   "metadata": {
    "scrolled": false
   },
   "outputs": [
    {
     "name": "stdout",
     "output_type": "stream",
     "text": [
      "(100000, 24)\n"
     ]
    },
    {
     "data": {
      "text/plain": [
       "retwt          0.11211\n",
       "reply          0.02754\n",
       "like           0.43929\n",
       "retwt_cmmnt    0.00801\n",
       "dtype: float64"
      ]
     },
     "metadata": {},
     "output_type": "display_data"
    },
    {
     "name": "stdout",
     "output_type": "stream",
     "text": [
      "CPU times: user 745 ms, sys: 76.6 ms, total: 822 ms\n",
      "Wall time: 819 ms\n"
     ]
    }
   ],
   "source": [
    "%%time\n",
    "dfval = pd.read_csv(f'{p_in}/trn_{trntmstmp}.tsv',sep='\\x01',header=None,names=cols,nrows=valsz)\n",
    "print(dfval.shape)\n",
    "prp_tgt(dfval)"
   ]
  },
  {
   "cell_type": "markdown",
   "metadata": {},
   "source": [
    "## maybe oversample"
   ]
  },
  {
   "cell_type": "code",
   "execution_count": 5,
   "metadata": {},
   "outputs": [],
   "source": [
    "# df = pd.read_csv(f'{p_in}/trn_{trntmstmp}.tsv',sep='\\x01',header=None,names=cols,nrows=5)\n",
    "# dfval = pd.read_csv(f'{p_in}/trn_{trntmstmp}.tsv',sep='\\x01',header=None,names=cols,nrows=2)\n",
    "# dftrn = pd.read_csv(f'{p_in}/trn_{trntmstmp}.tsv',sep='\\x01',header=None,names=cols,skiprows=2,nrows=3)\n",
    "# display(df.twtid)\n",
    "# display(dfval.twtid)\n",
    "# display(dftrn.twtid)\n",
    "\n",
    "# 0    D4D1EBDE74F74C5DA529959AF979625C\n",
    "# 1    BFB529DAB6D384EB83E899A72AB3830D\n",
    "# 2    519078C7834E9642508F72A6C2D0F3B7\n",
    "# 3    52AAE9E33EFAC8C478C57B31A9E31ED1\n",
    "# 4    89C1298C55EB3D68E2784F0BFB69E6F8\n",
    "# Name: twtid, dtype: object\n",
    "# 0    D4D1EBDE74F74C5DA529959AF979625C\n",
    "# 1    BFB529DAB6D384EB83E899A72AB3830D\n",
    "# Name: twtid, dtype: object\n",
    "# 0    519078C7834E9642508F72A6C2D0F3B7\n",
    "# 1    52AAE9E33EFAC8C478C57B31A9E31ED1\n",
    "# 2    89C1298C55EB3D68E2784F0BFB69E6F8\n",
    "# Name: twtid, dtype: object"
   ]
  },
  {
   "cell_type": "code",
   "execution_count": 6,
   "metadata": {
    "scrolled": true
   },
   "outputs": [
    {
     "name": "stdout",
     "output_type": "stream",
     "text": [
      "(370000, 24)\n"
     ]
    },
    {
     "data": {
      "text/plain": [
       "retwt          0.112570\n",
       "reply          0.028143\n",
       "like           0.438841\n",
       "retwt_cmmnt    0.007565\n",
       "dtype: float64"
      ]
     },
     "metadata": {},
     "output_type": "display_data"
    },
    {
     "name": "stdout",
     "output_type": "stream",
     "text": [
      "CPU times: user 2.86 s, sys: 305 ms, total: 3.16 s\n",
      "Wall time: 3.16 s\n"
     ]
    }
   ],
   "source": [
    "%%time\n",
    "if TGT in ('Retweet','Like'): trnpop=trnsz\n",
    "if TGT=='Reply': trnpop=trnsz*3.7\n",
    "if TGT=='RTwCmnt': trnpop=trnsz*11.5\n",
    "assert trnpop<train_total\n",
    "\n",
    "dftrn = pd.read_csv(f'{p_in}/trn_{trntmstmp}.tsv',sep='\\x01',header=None,names=cols,\n",
    "                     skiprows=valsz, nrows=trnpop)\n",
    "print(dftrn.shape)\n",
    "prp_tgt(dftrn)"
   ]
  },
  {
   "cell_type": "code",
   "execution_count": 7,
   "metadata": {
    "scrolled": true
   },
   "outputs": [
    {
     "name": "stdout",
     "output_type": "stream",
     "text": [
      "(100000, 24) 0.10413\n",
      "370000 10413 100000 10413\n"
     ]
    },
    {
     "data": {
      "text/html": [
       "<div>\n",
       "<style scoped>\n",
       "    .dataframe tbody tr th:only-of-type {\n",
       "        vertical-align: middle;\n",
       "    }\n",
       "\n",
       "    .dataframe tbody tr th {\n",
       "        vertical-align: top;\n",
       "    }\n",
       "\n",
       "    .dataframe thead th {\n",
       "        text-align: right;\n",
       "    }\n",
       "</style>\n",
       "<table border=\"1\" class=\"dataframe\">\n",
       "  <thead>\n",
       "    <tr style=\"text-align: right;\">\n",
       "      <th></th>\n",
       "      <th>toks</th>\n",
       "      <th>hshtgs</th>\n",
       "      <th>twtid</th>\n",
       "      <th>media</th>\n",
       "      <th>links</th>\n",
       "      <th>domns</th>\n",
       "      <th>twttyp</th>\n",
       "      <th>lang</th>\n",
       "      <th>tm</th>\n",
       "      <th>u1id</th>\n",
       "      <th>u1_fllwer_cnt</th>\n",
       "      <th>u1_fllwing_cnt</th>\n",
       "      <th>u1_vrfed</th>\n",
       "      <th>u1_create_tm</th>\n",
       "      <th>u2id</th>\n",
       "      <th>u2_fllwer_cnt</th>\n",
       "      <th>u2_fllwng_cnt</th>\n",
       "      <th>u2_vrfed</th>\n",
       "      <th>u2_create_tm</th>\n",
       "      <th>u1_fllw_u2</th>\n",
       "      <th>retwt</th>\n",
       "      <th>reply</th>\n",
       "      <th>like</th>\n",
       "      <th>retwt_cmmnt</th>\n",
       "    </tr>\n",
       "  </thead>\n",
       "  <tbody>\n",
       "    <tr>\n",
       "      <th>5</th>\n",
       "      <td>101\\t1434\\t107854\\t18260\\t31904\\t111431\\t74759...</td>\n",
       "      <td>NaN</td>\n",
       "      <td>0EB15633A8CC0A6E3917C272F43E6DF3</td>\n",
       "      <td>NaN</td>\n",
       "      <td>NaN</td>\n",
       "      <td>NaN</td>\n",
       "      <td>TopLevel</td>\n",
       "      <td>022EC308651FACB02794A8147AEE1B78</td>\n",
       "      <td>1581218899</td>\n",
       "      <td>A7E00C86B4E3709D589754A51042A360</td>\n",
       "      <td>1198215</td>\n",
       "      <td>662</td>\n",
       "      <td>True</td>\n",
       "      <td>1246548812</td>\n",
       "      <td>016212C070A76EAB37E8ED93CA509BA9</td>\n",
       "      <td>0</td>\n",
       "      <td>42</td>\n",
       "      <td>False</td>\n",
       "      <td>1578271262</td>\n",
       "      <td>False</td>\n",
       "      <td>False</td>\n",
       "      <td>True</td>\n",
       "      <td>False</td>\n",
       "      <td>False</td>\n",
       "    </tr>\n",
       "    <tr>\n",
       "      <th>51</th>\n",
       "      <td>101\\t10473\\t10116\\t10132\\t12603\\t97953\\t25307\\...</td>\n",
       "      <td>NaN</td>\n",
       "      <td>7C71C144E7B9F2D87F1F4DDB40AB1C49</td>\n",
       "      <td>NaN</td>\n",
       "      <td>NaN</td>\n",
       "      <td>NaN</td>\n",
       "      <td>TopLevel</td>\n",
       "      <td>2996EB2FE8162C076D070A4C8D6532CD</td>\n",
       "      <td>1581203618</td>\n",
       "      <td>B0CBECD53C3B945C875C55DDFF56D13F</td>\n",
       "      <td>1424</td>\n",
       "      <td>854</td>\n",
       "      <td>False</td>\n",
       "      <td>1394906655</td>\n",
       "      <td>01625341E5A48963E5AA7DFFDC4436D4</td>\n",
       "      <td>643</td>\n",
       "      <td>327</td>\n",
       "      <td>False</td>\n",
       "      <td>1372760933</td>\n",
       "      <td>True</td>\n",
       "      <td>False</td>\n",
       "      <td>True</td>\n",
       "      <td>False</td>\n",
       "      <td>False</td>\n",
       "    </tr>\n",
       "    <tr>\n",
       "      <th>63</th>\n",
       "      <td>101\\t56898\\t137\\t24362\\t131\\t100\\t196\\t36351\\t...</td>\n",
       "      <td>NaN</td>\n",
       "      <td>ADCF033A7C7087C1506E2BC3E2D8F092</td>\n",
       "      <td>NaN</td>\n",
       "      <td>NaN</td>\n",
       "      <td>NaN</td>\n",
       "      <td>Retweet</td>\n",
       "      <td>717293301FE296B0B61950D041485825</td>\n",
       "      <td>1581258397</td>\n",
       "      <td>ECD90FC37F0A7C15C82834FDDEEDC21A</td>\n",
       "      <td>1753</td>\n",
       "      <td>811</td>\n",
       "      <td>False</td>\n",
       "      <td>1568347799</td>\n",
       "      <td>01625CCEC5A4C322FC247DB9E223CC08</td>\n",
       "      <td>147</td>\n",
       "      <td>1355</td>\n",
       "      <td>False</td>\n",
       "      <td>1355850070</td>\n",
       "      <td>False</td>\n",
       "      <td>False</td>\n",
       "      <td>True</td>\n",
       "      <td>False</td>\n",
       "      <td>False</td>\n",
       "    </tr>\n",
       "    <tr>\n",
       "      <th>75</th>\n",
       "      <td>101\\t12441\\t105702\\t793\\t61783\\t34022\\t60578\\t...</td>\n",
       "      <td>NaN</td>\n",
       "      <td>7EB0824DDA3D28844CC0FF65B7C4AA08</td>\n",
       "      <td>NaN</td>\n",
       "      <td>NaN</td>\n",
       "      <td>NaN</td>\n",
       "      <td>TopLevel</td>\n",
       "      <td>167115458A0DBDFF7E9C0C53A83BAC9B</td>\n",
       "      <td>1581271814</td>\n",
       "      <td>D905F31F909CC63C2BBEB7F6B43487FE</td>\n",
       "      <td>175998</td>\n",
       "      <td>116</td>\n",
       "      <td>False</td>\n",
       "      <td>1466830888</td>\n",
       "      <td>01626B64A2570C2807AB97716262FBA9</td>\n",
       "      <td>90</td>\n",
       "      <td>139</td>\n",
       "      <td>False</td>\n",
       "      <td>1364278366</td>\n",
       "      <td>False</td>\n",
       "      <td>False</td>\n",
       "      <td>True</td>\n",
       "      <td>False</td>\n",
       "      <td>False</td>\n",
       "    </tr>\n",
       "    <tr>\n",
       "      <th>83</th>\n",
       "      <td>101\\t69532\\t10107\\t12372\\t10160\\t19048\\t136\\t1...</td>\n",
       "      <td>NaN</td>\n",
       "      <td>0A95516F028EBFF6B551DB32C4B2D1B5</td>\n",
       "      <td>Video</td>\n",
       "      <td>NaN</td>\n",
       "      <td>NaN</td>\n",
       "      <td>TopLevel</td>\n",
       "      <td>ECED8A16BE2A5E8871FD55F4842F16B1</td>\n",
       "      <td>1581214010</td>\n",
       "      <td>88E80BAB56E6F59E4EF012A8B12D3BAE</td>\n",
       "      <td>8825</td>\n",
       "      <td>8024</td>\n",
       "      <td>False</td>\n",
       "      <td>1557262802</td>\n",
       "      <td>0162759D8908AA8C849F06086A023D85</td>\n",
       "      <td>26265</td>\n",
       "      <td>24215</td>\n",
       "      <td>False</td>\n",
       "      <td>1557422269</td>\n",
       "      <td>True</td>\n",
       "      <td>False</td>\n",
       "      <td>True</td>\n",
       "      <td>False</td>\n",
       "      <td>False</td>\n",
       "    </tr>\n",
       "  </tbody>\n",
       "</table>\n",
       "</div>"
      ],
      "text/plain": [
       "                                                 toks hshtgs  \\\n",
       "5   101\\t1434\\t107854\\t18260\\t31904\\t111431\\t74759...    NaN   \n",
       "51  101\\t10473\\t10116\\t10132\\t12603\\t97953\\t25307\\...    NaN   \n",
       "63  101\\t56898\\t137\\t24362\\t131\\t100\\t196\\t36351\\t...    NaN   \n",
       "75  101\\t12441\\t105702\\t793\\t61783\\t34022\\t60578\\t...    NaN   \n",
       "83  101\\t69532\\t10107\\t12372\\t10160\\t19048\\t136\\t1...    NaN   \n",
       "\n",
       "                               twtid  media links domns    twttyp  \\\n",
       "5   0EB15633A8CC0A6E3917C272F43E6DF3    NaN   NaN   NaN  TopLevel   \n",
       "51  7C71C144E7B9F2D87F1F4DDB40AB1C49    NaN   NaN   NaN  TopLevel   \n",
       "63  ADCF033A7C7087C1506E2BC3E2D8F092    NaN   NaN   NaN   Retweet   \n",
       "75  7EB0824DDA3D28844CC0FF65B7C4AA08    NaN   NaN   NaN  TopLevel   \n",
       "83  0A95516F028EBFF6B551DB32C4B2D1B5  Video   NaN   NaN  TopLevel   \n",
       "\n",
       "                                lang          tm  \\\n",
       "5   022EC308651FACB02794A8147AEE1B78  1581218899   \n",
       "51  2996EB2FE8162C076D070A4C8D6532CD  1581203618   \n",
       "63  717293301FE296B0B61950D041485825  1581258397   \n",
       "75  167115458A0DBDFF7E9C0C53A83BAC9B  1581271814   \n",
       "83  ECED8A16BE2A5E8871FD55F4842F16B1  1581214010   \n",
       "\n",
       "                                u1id  u1_fllwer_cnt  u1_fllwing_cnt  u1_vrfed  \\\n",
       "5   A7E00C86B4E3709D589754A51042A360        1198215             662      True   \n",
       "51  B0CBECD53C3B945C875C55DDFF56D13F           1424             854     False   \n",
       "63  ECD90FC37F0A7C15C82834FDDEEDC21A           1753             811     False   \n",
       "75  D905F31F909CC63C2BBEB7F6B43487FE         175998             116     False   \n",
       "83  88E80BAB56E6F59E4EF012A8B12D3BAE           8825            8024     False   \n",
       "\n",
       "    u1_create_tm                              u2id  u2_fllwer_cnt  \\\n",
       "5     1246548812  016212C070A76EAB37E8ED93CA509BA9              0   \n",
       "51    1394906655  01625341E5A48963E5AA7DFFDC4436D4            643   \n",
       "63    1568347799  01625CCEC5A4C322FC247DB9E223CC08            147   \n",
       "75    1466830888  01626B64A2570C2807AB97716262FBA9             90   \n",
       "83    1557262802  0162759D8908AA8C849F06086A023D85          26265   \n",
       "\n",
       "    u2_fllwng_cnt  u2_vrfed  u2_create_tm  u1_fllw_u2  retwt  reply   like  \\\n",
       "5              42     False    1578271262       False  False   True  False   \n",
       "51            327     False    1372760933        True  False   True  False   \n",
       "63           1355     False    1355850070       False  False   True  False   \n",
       "75            139     False    1364278366       False  False   True  False   \n",
       "83          24215     False    1557422269        True  False   True  False   \n",
       "\n",
       "    retwt_cmmnt  \n",
       "5         False  \n",
       "51        False  \n",
       "63        False  \n",
       "75        False  \n",
       "83        False  "
      ]
     },
     "metadata": {},
     "output_type": "display_data"
    },
    {
     "data": {
      "text/plain": [
       "Index(['toks', 'hshtgs', 'twtid', 'media', 'links', 'domns', 'twttyp', 'lang',\n",
       "       'tm', 'u1id', 'u1_fllwer_cnt', 'u1_fllwing_cnt', 'u1_vrfed',\n",
       "       'u1_create_tm', 'u2id', 'u2_fllwer_cnt', 'u2_fllwng_cnt', 'u2_vrfed',\n",
       "       'u2_create_tm', 'u1_fllw_u2', 'retwt', 'reply', 'like', 'retwt_cmmnt'],\n",
       "      dtype='object')"
      ]
     },
     "metadata": {},
     "output_type": "display_data"
    }
   ],
   "source": [
    "train_pop=len(dftrn)\n",
    "sampled_train_pop=trnsz\n",
    "idx_pos = np.where(dftrn[TCOL])[0]\n",
    "target_pop=sampled_target_pop=len(idx_pos)\n",
    "if TGT in ('Reply','RTwCmnt'):\n",
    "    idx_neg0 = np.where(~dftrn[TCOL])[0]\n",
    "    idx_neg = np.random.choice(idx_neg0, trnsz-len(idx_pos), replace=False)\n",
    "    idx = np.concatenate([idx_pos,idx_neg])\n",
    "    dftrn = dftrn.iloc[idx].copy()\n",
    "print(dftrn.shape, dftrn[TCOL].mean())\n",
    "print(train_pop, target_pop, sampled_train_pop, sampled_target_pop)\n",
    "\n",
    "display(dftrn.head())\n",
    "display(dftrn.columns)"
   ]
  },
  {
   "cell_type": "markdown",
   "metadata": {},
   "source": [
    "## prep and features"
   ]
  },
  {
   "cell_type": "code",
   "execution_count": 8,
   "metadata": {},
   "outputs": [],
   "source": [
    "def prp_df(df, tm_max):\n",
    "    '''\n",
    "    tm_max = tm_trn_max for train tm_tst_max for test\n",
    "    '''\n",
    "    lendf = len(df)\n",
    "    print(dtnow(), 'start')\n",
    "    set_u1 = set(df.u1id)\n",
    "    set_u2 = set(df.u2id)\n",
    "    df['u1inu2']=df.u1id.isin(set_u2)\n",
    "    df['u2inu1']=df.u2id.isin(set_u1)\n",
    "\n",
    "    #counts\n",
    "    df['len_toks'] = df.toks.apply(lambda x: len(x.split('\\t')))\n",
    "    df.drop(columns=['toks'], inplace=True)    \n",
    "    for m in ['Photo', 'Video', 'GIF']:\n",
    "        df[f'n_media_{m}'] = df['media'].fillna('').apply(lambda x: x.split('\\t').count(m))\n",
    "    tgnms = ['hshtgs','media', 'links', 'domns',]\n",
    "    for tgnm in tgnms:\n",
    "        df[f'has_{tgnm}']=df[tgnm].notna()\n",
    "        df[f'lst_{tgnm}'] = df[tgnm].fillna('').apply(lambda x: x.split('\\t') if len(x) else [])\n",
    "        df[f'n_{tgnm}'] = df[f'lst_{tgnm}'].apply(len)  \n",
    "    df.drop(columns=['has_links','n_links'], inplace=True) #duplicates has_domns,n_domns \n",
    "    \n",
    "    #time\n",
    "    dt = pd.to_datetime(df.tm, unit='s')\n",
    "    df['dayofweek'] = dt.dt.dayofweek\n",
    "    df['hour'] = dt.dt.hour\n",
    "    \n",
    "    df['tmdlta_u2u1']  = df.u2_create_tm - df.u1_create_tm\n",
    "    df['tmdlta_twtu1'] = df.tm - df.u1_create_tm\n",
    "    df['tmdlta_twtu2'] = df.tm - df.u2_create_tm\n",
    "\n",
    "    df['twt_age']   = tm_max-df.tm\n",
    "    df['u1_age']    = tm_max-df.u1_create_tm\n",
    "    df['u2_age']    = tm_max-df.u2_create_tm\n",
    "    df.drop(columns=['tm', 'u1_create_tm', 'u2_create_tm'], inplace=True)\n",
    "\n",
    "    #time derived\n",
    "    df['u1_fllwer_cnt_by_age'] = df.u1_fllwer_cnt / df.u1_age\n",
    "    df['u1_fllwng_cnt_by_age'] = df.u2_fllwng_cnt / df.u2_age\n",
    "    \n",
    "    #interaction\n",
    "    df['u1u2']=df.u1id+'_'+df.u2id\n",
    "    df['langhour']=df.lang+'_'+df.hour.astype(str)\n",
    "    \n",
    "\n",
    "    #freq of feature values\n",
    "    print(dtnow(), 'freq of columns using CountEncoder')\n",
    "    encoder = ce.CountEncoder()\n",
    "    encoded = encoder.fit_transform(\n",
    "    df[['twtid', 'twttyp', 'lang', 'u1id', 'u1_fllwing_cnt', 'u1_vrfed', 'u2id', 'u2_fllwer_cnt', 'u2_vrfed', 'u1_fllw_u2', \n",
    "       'n_media_Photo', 'n_media_Video', 'n_media_GIF', \n",
    "       'has_hshtgs', 'n_hshtgs', 'has_media', 'n_media','has_domns', 'n_domns', \n",
    "       'dayofweek', 'hour', 'u1u2', 'langhour']].astype(object))\n",
    "    encoded = encoded.astype(int)/lendf\n",
    "    encoded.columns = [f'frq_{col}' for col in encoded.columns]\n",
    "    df = pd.concat([df,encoded],1)\n",
    "    \n",
    "    #freq of tgnm values\n",
    "    print(dtnow(), 'freq of tags')\n",
    "    for tgnm in tgnms:\n",
    "        vs = [j for i in df[f'lst_{tgnm}'] for j in i]\n",
    "        cnt = Counter(vs)\n",
    "        frq = {k:v/lendf for k,v in cnt.items()}\n",
    "        df[f'sumfrq_{tgnm}']=df[f'lst_{tgnm}'].apply(lambda x: sum([frq.get(o,0) for o in x]))\n",
    "        df[f'maxfrq_{tgnm}']=df[f'lst_{tgnm}'].apply(lambda x: max([frq.get(o,0) for o in x]) if len(x) else 0)\n",
    "    df.drop(columns=tgnms+[f'lst_{tgnm}' for tgnm in tgnms],inplace=True)\n",
    "\n",
    "    print(dtnow(), 'done')\n",
    "    return df"
   ]
  },
  {
   "cell_type": "code",
   "execution_count": 9,
   "metadata": {},
   "outputs": [
    {
     "name": "stdout",
     "output_type": "stream",
     "text": [
      "2020-04-10 20:36:47 start\n",
      "2020-04-10 20:36:49 freq of columns using CountEncoder\n"
     ]
    },
    {
     "name": "stderr",
     "output_type": "stream",
     "text": [
      "/data/anaconda3/envs/rcss20/lib/python3.7/site-packages/category_encoders/count.py:255: FutureWarning: The pandas.np module is deprecated and will be removed from pandas in a future version. Import numpy directly instead\n",
      "  X.loc[:, self.cols] = X.fillna(value=pd.np.nan)\n"
     ]
    },
    {
     "name": "stdout",
     "output_type": "stream",
     "text": [
      "2020-04-10 20:36:51 freq of tags\n",
      "2020-04-10 20:36:52 done\n",
      "CPU times: user 4.79 s, sys: 238 ms, total: 5.03 s\n",
      "Wall time: 4.93 s\n"
     ]
    }
   ],
   "source": [
    "%%time\n",
    "dftrn=prp_df(dftrn, tm_max=tm_trn_max)"
   ]
  },
  {
   "cell_type": "code",
   "execution_count": 10,
   "metadata": {},
   "outputs": [
    {
     "name": "stdout",
     "output_type": "stream",
     "text": [
      "2020-04-10 20:36:54 start\n",
      "2020-04-10 20:36:55 freq of columns using CountEncoder\n",
      "2020-04-10 20:36:57 freq of tags\n",
      "2020-04-10 20:36:58 done\n",
      "CPU times: user 4.09 s, sys: 38.5 ms, total: 4.12 s\n",
      "Wall time: 4.1 s\n"
     ]
    }
   ],
   "source": [
    "%%time\n",
    "dfval=prp_df(dfval, tm_max=tm_trn_max)"
   ]
  },
  {
   "cell_type": "markdown",
   "metadata": {},
   "source": [
    "## tr vl split and target encoding"
   ]
  },
  {
   "cell_type": "code",
   "execution_count": 11,
   "metadata": {},
   "outputs": [
    {
     "data": {
      "text/plain": [
       "30"
      ]
     },
     "execution_count": 11,
     "metadata": {},
     "output_type": "execute_result"
    }
   ],
   "source": [
    "msk_vl=np.random.rand(len(dftrn))<0.15\n",
    "idxvl=np.where( msk_vl)[0]\n",
    "idxtr=np.where(~msk_vl)[0]\n",
    "\n",
    "dftr = dftrn.iloc[idxtr].copy()\n",
    "dfvl = dftrn.iloc[idxvl].copy()\n",
    "del dftrn\n",
    "\n",
    "gc.collect()"
   ]
  },
  {
   "cell_type": "code",
   "execution_count": 12,
   "metadata": {},
   "outputs": [
    {
     "data": {
      "text/plain": [
       "Index(['twtid', 'twttyp', 'lang', 'u1id', 'u1_fllwer_cnt', 'u1_fllwing_cnt',\n",
       "       'u1_vrfed', 'u2id', 'u2_fllwer_cnt', 'u2_fllwng_cnt', 'u2_vrfed',\n",
       "       'u1_fllw_u2', 'retwt', 'reply', 'like', 'retwt_cmmnt', 'u1inu2',\n",
       "       'u2inu1', 'len_toks', 'n_media_Photo', 'n_media_Video', 'n_media_GIF',\n",
       "       'has_hshtgs', 'n_hshtgs', 'has_media', 'n_media', 'has_domns',\n",
       "       'n_domns', 'dayofweek', 'hour', 'tmdlta_u2u1', 'tmdlta_twtu1',\n",
       "       'tmdlta_twtu2', 'twt_age', 'u1_age', 'u2_age', 'u1_fllwer_cnt_by_age',\n",
       "       'u1_fllwng_cnt_by_age', 'u1u2', 'langhour', 'frq_twtid', 'frq_twttyp',\n",
       "       'frq_lang', 'frq_u1id', 'frq_u1_fllwing_cnt', 'frq_u1_vrfed',\n",
       "       'frq_u2id', 'frq_u2_fllwer_cnt', 'frq_u2_vrfed', 'frq_u1_fllw_u2',\n",
       "       'frq_n_media_Photo', 'frq_n_media_Video', 'frq_n_media_GIF',\n",
       "       'frq_has_hshtgs', 'frq_n_hshtgs', 'frq_has_media', 'frq_n_media',\n",
       "       'frq_has_domns', 'frq_n_domns', 'frq_dayofweek', 'frq_hour', 'frq_u1u2',\n",
       "       'frq_langhour', 'sumfrq_hshtgs', 'maxfrq_hshtgs', 'sumfrq_media',\n",
       "       'maxfrq_media', 'sumfrq_links', 'maxfrq_links', 'sumfrq_domns',\n",
       "       'maxfrq_domns'],\n",
       "      dtype='object')"
      ]
     },
     "execution_count": 12,
     "metadata": {},
     "output_type": "execute_result"
    }
   ],
   "source": [
    "dftr.columns"
   ]
  },
  {
   "cell_type": "code",
   "execution_count": 13,
   "metadata": {},
   "outputs": [
    {
     "name": "stdout",
     "output_type": "stream",
     "text": [
      "CPU times: user 4.89 s, sys: 0 ns, total: 4.89 s\n",
      "Wall time: 4.87 s\n"
     ]
    }
   ],
   "source": [
    "%%time\n",
    "col2tgtenc=['twtid', 'twttyp', 'lang', 'u1id', 'u1_fllwing_cnt', 'u1_vrfed', 'u2id', 'u2_fllwer_cnt', 'u2_vrfed', 'u1_fllw_u2', \n",
    "   'n_media_Photo', 'n_media_Video', 'n_media_GIF', \n",
    "   'has_hshtgs', 'n_hshtgs', 'has_media', 'n_media','has_domns', 'n_domns', \n",
    "   'dayofweek', 'hour', 'u1u2', 'langhour']\n",
    "tgt_encoder = ce.TargetEncoder()\n",
    "encoded_tr = tgt_encoder.fit_transform(dftr[col2tgtenc].astype(object), dftr[TCOL])\n",
    "encoded_vl = tgt_encoder.transform(dfvl[col2tgtenc].astype(object))\n",
    "encoded_val = tgt_encoder.transform(dfval[col2tgtenc].astype(object))\n",
    "\n",
    "tgtenc_columns = [f'tgtenc_{col}' for col in encoded_tr.columns]\n",
    "encoded_tr.columns = tgtenc_columns\n",
    "encoded_vl.columns = tgtenc_columns\n",
    "encoded_val.columns = tgtenc_columns\n",
    "\n",
    "dftr = pd.concat([dftr, encoded_tr], 1)\n",
    "dfvl = pd.concat([dfvl, encoded_vl], 1)\n",
    "dfval = pd.concat([dfval, encoded_val], 1)\n"
   ]
  },
  {
   "cell_type": "code",
   "execution_count": 14,
   "metadata": {},
   "outputs": [],
   "source": [
    "cols_category=['twttyp', 'lang', 'langhour']\n",
    "for df in dftr,dfvl,dfval:\n",
    "    df.drop(columns=['twtid','u1id','u2id','u1u2'], inplace=True)\n",
    "    df[cols_category]=df[cols_category].astype('category')"
   ]
  },
  {
   "cell_type": "code",
   "execution_count": 15,
   "metadata": {},
   "outputs": [],
   "source": [
    "cols_feat = [col for col in dftr.columns if col not in cols_tgt]"
   ]
  },
  {
   "cell_type": "code",
   "execution_count": 16,
   "metadata": {},
   "outputs": [
    {
     "data": {
      "text/plain": [
       "twttyp                   category\n",
       "lang                     category\n",
       "u1_fllwer_cnt               int64\n",
       "u1_fllwing_cnt              int64\n",
       "u1_vrfed                     bool\n",
       "u2_fllwer_cnt               int64\n",
       "u2_fllwng_cnt               int64\n",
       "u2_vrfed                     bool\n",
       "u1_fllw_u2                   bool\n",
       "retwt                        bool\n",
       "reply                        bool\n",
       "like                         bool\n",
       "retwt_cmmnt                  bool\n",
       "u1inu2                       bool\n",
       "u2inu1                       bool\n",
       "len_toks                    int64\n",
       "n_media_Photo               int64\n",
       "n_media_Video               int64\n",
       "n_media_GIF                 int64\n",
       "has_hshtgs                   bool\n",
       "n_hshtgs                    int64\n",
       "has_media                    bool\n",
       "n_media                     int64\n",
       "has_domns                    bool\n",
       "n_domns                     int64\n",
       "dayofweek                   int64\n",
       "hour                        int64\n",
       "tmdlta_u2u1                 int64\n",
       "tmdlta_twtu1                int64\n",
       "tmdlta_twtu2                int64\n",
       "twt_age                     int64\n",
       "u1_age                      int64\n",
       "u2_age                      int64\n",
       "u1_fllwer_cnt_by_age      float64\n",
       "u1_fllwng_cnt_by_age      float64\n",
       "langhour                 category\n",
       "frq_twtid                 float64\n",
       "frq_twttyp                float64\n",
       "frq_lang                  float64\n",
       "frq_u1id                  float64\n",
       "frq_u1_fllwing_cnt        float64\n",
       "frq_u1_vrfed              float64\n",
       "frq_u2id                  float64\n",
       "frq_u2_fllwer_cnt         float64\n",
       "frq_u2_vrfed              float64\n",
       "frq_u1_fllw_u2            float64\n",
       "frq_n_media_Photo         float64\n",
       "frq_n_media_Video         float64\n",
       "frq_n_media_GIF           float64\n",
       "frq_has_hshtgs            float64\n",
       "frq_n_hshtgs              float64\n",
       "frq_has_media             float64\n",
       "frq_n_media               float64\n",
       "frq_has_domns             float64\n",
       "frq_n_domns               float64\n",
       "frq_dayofweek             float64\n",
       "frq_hour                  float64\n",
       "frq_u1u2                  float64\n",
       "frq_langhour              float64\n",
       "sumfrq_hshtgs             float64\n",
       "maxfrq_hshtgs             float64\n",
       "sumfrq_media              float64\n",
       "maxfrq_media              float64\n",
       "sumfrq_links              float64\n",
       "maxfrq_links              float64\n",
       "sumfrq_domns              float64\n",
       "maxfrq_domns              float64\n",
       "tgtenc_twtid              float64\n",
       "tgtenc_twttyp             float64\n",
       "tgtenc_lang               float64\n",
       "tgtenc_u1id               float64\n",
       "tgtenc_u1_fllwing_cnt     float64\n",
       "tgtenc_u1_vrfed           float64\n",
       "tgtenc_u2id               float64\n",
       "tgtenc_u2_fllwer_cnt      float64\n",
       "tgtenc_u2_vrfed           float64\n",
       "tgtenc_u1_fllw_u2         float64\n",
       "tgtenc_n_media_Photo      float64\n",
       "tgtenc_n_media_Video      float64\n",
       "tgtenc_n_media_GIF        float64\n",
       "tgtenc_has_hshtgs         float64\n",
       "tgtenc_n_hshtgs           float64\n",
       "tgtenc_has_media          float64\n",
       "tgtenc_n_media            float64\n",
       "tgtenc_has_domns          float64\n",
       "tgtenc_n_domns            float64\n",
       "tgtenc_dayofweek          float64\n",
       "tgtenc_hour               float64\n",
       "tgtenc_u1u2               float64\n",
       "tgtenc_langhour           float64\n",
       "dtype: object"
      ]
     },
     "execution_count": 16,
     "metadata": {},
     "output_type": "execute_result"
    }
   ],
   "source": [
    "dftr.dtypes"
   ]
  },
  {
   "cell_type": "markdown",
   "metadata": {},
   "source": [
    "# model"
   ]
  },
  {
   "cell_type": "code",
   "execution_count": 18,
   "metadata": {},
   "outputs": [],
   "source": [
    "cols_feat=['twttyp',\n",
    " 'lang',\n",
    " 'u1_fllwer_cnt',\n",
    " 'u1_fllwing_cnt',\n",
    " 'u1_vrfed',\n",
    " 'u2_fllwer_cnt',\n",
    " 'u2_fllwng_cnt',\n",
    " 'u2_vrfed',\n",
    " 'u1_fllw_u2',\n",
    " 'u1inu2',\n",
    " 'u2inu1',\n",
    " 'len_toks',\n",
    " 'n_media_Photo',\n",
    " 'n_media_Video',\n",
    " 'n_media_GIF',\n",
    "#  'has_hshtgs',\n",
    " 'n_hshtgs',\n",
    "#  'has_media',\n",
    " 'n_media',\n",
    "#  'has_domns',\n",
    " 'n_domns',\n",
    " 'dayofweek',\n",
    " 'hour',\n",
    " 'tmdlta_u2u1',\n",
    " 'tmdlta_twtu1',\n",
    " 'tmdlta_twtu2',\n",
    " 'twt_age',\n",
    " 'u1_age',\n",
    " 'u2_age',\n",
    " 'u1_fllwer_cnt_by_age',\n",
    " 'u1_fllwng_cnt_by_age',\n",
    " 'langhour',\n",
    "#  'frq_twtid',\n",
    "#  'frq_twttyp',\n",
    "#  'frq_lang',\n",
    "#  'frq_u1id',\n",
    "#  'frq_u1_fllwing_cnt',\n",
    "#  'frq_u1_vrfed',\n",
    "#  'frq_u2id',\n",
    "#  'frq_u2_fllwer_cnt',\n",
    "#  'frq_u2_vrfed',\n",
    "#  'frq_u1_fllw_u2',\n",
    "#  'frq_n_media_Photo',\n",
    "#  'frq_n_media_Video',\n",
    "#  'frq_n_media_GIF',\n",
    "#  'frq_has_hshtgs',\n",
    "#  'frq_n_hshtgs',\n",
    "#  'frq_has_media',\n",
    "#  'frq_n_media',\n",
    "#  'frq_has_domns',\n",
    "#  'frq_n_domns',\n",
    "#  'frq_dayofweek',\n",
    "#  'frq_hour',\n",
    "#  'frq_u1u2',\n",
    "#  'frq_langhour',\n",
    "#  'sumfrq_hshtgs',\n",
    "#  'maxfrq_hshtgs',\n",
    "#  'sumfrq_media',\n",
    "#  'maxfrq_media',\n",
    "#  'sumfrq_links',\n",
    "#  'maxfrq_links',\n",
    "#  'sumfrq_domns',\n",
    "#  'maxfrq_domns',\n",
    "#  'tgtenc_twtid',\n",
    "#  'tgtenc_twttyp',\n",
    " 'tgtenc_lang',\n",
    "#  'tgtenc_u1id',\n",
    "#  'tgtenc_u1_fllwing_cnt',\n",
    "#  'tgtenc_u1_vrfed',\n",
    "#  'tgtenc_u2id',\n",
    "#  'tgtenc_u2_fllwer_cnt',\n",
    "#  'tgtenc_u2_vrfed',\n",
    "#  'tgtenc_u1_fllw_u2',\n",
    "#  'tgtenc_n_media_Photo',\n",
    "#  'tgtenc_n_media_Video',\n",
    "#  'tgtenc_n_media_GIF',\n",
    "#  'tgtenc_has_hshtgs',\n",
    "#  'tgtenc_n_hshtgs',\n",
    "#  'tgtenc_has_media',\n",
    "#  'tgtenc_n_media',\n",
    "#  'tgtenc_has_domns',\n",
    "#  'tgtenc_n_domns',\n",
    "#  'tgtenc_dayofweek',\n",
    "#  'tgtenc_hour',\n",
    "#  'tgtenc_u1u2',\n",
    "#  'tgtenc_langhour'\n",
    "          ]"
   ]
  },
  {
   "cell_type": "code",
   "execution_count": 19,
   "metadata": {},
   "outputs": [],
   "source": [
    "results = {}\n",
    "results['PRFX'] = PRFX\n",
    "results['TGT'] = TGT\n",
    "results['cols_feat'] = cols_feat\n",
    "results['tgt_encoder'] = tgt_encoder\n",
    "results['col2tgtenc'] = col2tgtenc"
   ]
  },
  {
   "cell_type": "code",
   "execution_count": 20,
   "metadata": {},
   "outputs": [],
   "source": [
    "params={\n",
    "    'objective': 'binary',\n",
    "    'metric': 'binary_logloss',\n",
    "    'verbosity': 0,\n",
    "    'min_data_in_leaf': 1000,#################\n",
    "    \n",
    "}\n",
    "\n",
    "# param = {\n",
    "#         'objective': 'binary',\n",
    "#         'metric': 'binary_logloss',\n",
    "#         'verbosity': -1,\n",
    "#         'boosting_type': 'gbdt',\n",
    "#         'lambda_l1': trial.suggest_loguniform('lambda_l1', 1e-8, 10.0),\n",
    "#         'lambda_l2': trial.suggest_loguniform('lambda_l2', 1e-8, 10.0),\n",
    "#         'num_leaves': trial.suggest_int('num_leaves', 2, 256),\n",
    "#         'feature_fraction': trial.suggest_uniform('feature_fraction', 0.4, 1.0),\n",
    "#         'bagging_fraction': trial.suggest_uniform('bagging_fraction', 0.4, 1.0),\n",
    "#         'bagging_freq': trial.suggest_int('bagging_freq', 1, 7),\n",
    "#         'min_child_samples': trial.suggest_int('min_child_samples', 5, 100),\n",
    "#     }\n",
    "results['params'] = params"
   ]
  },
  {
   "cell_type": "code",
   "execution_count": null,
   "metadata": {},
   "outputs": [],
   "source": []
  },
  {
   "cell_type": "code",
   "execution_count": 21,
   "metadata": {
    "scrolled": false
   },
   "outputs": [
    {
     "name": "stderr",
     "output_type": "stream",
     "text": [
      "/data/anaconda3/envs/rcss20/lib/python3.7/site-packages/optuna/_experimental.py:87: ExperimentalWarning: train is experimental (supported from v0.18.0). The interface can change in the future.\n",
      "  ExperimentalWarning\n",
      "tune_feature_fraction, val_score: inf:   0%|          | 0/7 [00:00<?, ?it/s]"
     ]
    },
    {
     "name": "stdout",
     "output_type": "stream",
     "text": [
      "Training until validation scores don't improve for 100 rounds\n",
      "[100]\ttr's binary_logloss: 0.263249\tvl's binary_logloss: 0.288836\n",
      "[200]\ttr's binary_logloss: 0.250997\tvl's binary_logloss: 0.290676\n",
      "Early stopping, best iteration is:\n",
      "[109]\ttr's binary_logloss: 0.261937\tvl's binary_logloss: 0.288717\n"
     ]
    },
    {
     "name": "stderr",
     "output_type": "stream",
     "text": [
      "tune_feature_fraction, val_score: 0.288717:  14%|#4        | 1/7 [00:02<00:14,  2.49s/it]"
     ]
    },
    {
     "name": "stdout",
     "output_type": "stream",
     "text": [
      "Training until validation scores don't improve for 100 rounds\n",
      "[100]\ttr's binary_logloss: 0.26285\tvl's binary_logloss: 0.288329\n",
      "Early stopping, best iteration is:\n",
      "[91]\ttr's binary_logloss: 0.264169\tvl's binary_logloss: 0.288097\n"
     ]
    },
    {
     "name": "stderr",
     "output_type": "stream",
     "text": [
      "tune_feature_fraction, val_score: 0.288097:  29%|##8       | 2/7 [00:04<00:11,  2.35s/it]"
     ]
    },
    {
     "name": "stdout",
     "output_type": "stream",
     "text": [
      "Training until validation scores don't improve for 100 rounds\n",
      "[100]\ttr's binary_logloss: 0.261225\tvl's binary_logloss: 0.288569\n",
      "Early stopping, best iteration is:\n",
      "[70]\ttr's binary_logloss: 0.266361\tvl's binary_logloss: 0.288266\n"
     ]
    },
    {
     "name": "stderr",
     "output_type": "stream",
     "text": [
      "tune_feature_fraction, val_score: 0.288097:  43%|####2     | 3/7 [00:06<00:08,  2.23s/it]"
     ]
    },
    {
     "name": "stdout",
     "output_type": "stream",
     "text": [
      "Training until validation scores don't improve for 100 rounds\n",
      "[100]\ttr's binary_logloss: 0.260642\tvl's binary_logloss: 0.2888\n",
      "Early stopping, best iteration is:\n",
      "[67]\ttr's binary_logloss: 0.266164\tvl's binary_logloss: 0.288351\n"
     ]
    },
    {
     "name": "stderr",
     "output_type": "stream",
     "text": [
      "tune_feature_fraction, val_score: 0.288097:  57%|#####7    | 4/7 [00:08<00:06,  2.15s/it]"
     ]
    },
    {
     "name": "stdout",
     "output_type": "stream",
     "text": [
      "Training until validation scores don't improve for 100 rounds\n",
      "[100]\ttr's binary_logloss: 0.25904\tvl's binary_logloss: 0.288694\n",
      "Early stopping, best iteration is:\n",
      "[71]\ttr's binary_logloss: 0.264097\tvl's binary_logloss: 0.288444\n"
     ]
    },
    {
     "name": "stderr",
     "output_type": "stream",
     "text": [
      "tune_feature_fraction, val_score: 0.288097:  71%|#######1  | 5/7 [00:10<00:04,  2.11s/it]"
     ]
    },
    {
     "name": "stdout",
     "output_type": "stream",
     "text": [
      "Training until validation scores don't improve for 100 rounds\n",
      "[100]\ttr's binary_logloss: 0.258005\tvl's binary_logloss: 0.289337\n",
      "Early stopping, best iteration is:\n",
      "[58]\ttr's binary_logloss: 0.265393\tvl's binary_logloss: 0.288951\n"
     ]
    },
    {
     "name": "stderr",
     "output_type": "stream",
     "text": [
      "tune_feature_fraction, val_score: 0.288097:  86%|########5 | 6/7 [00:12<00:02,  2.04s/it]"
     ]
    },
    {
     "name": "stdout",
     "output_type": "stream",
     "text": [
      "Training until validation scores don't improve for 100 rounds\n",
      "[100]\ttr's binary_logloss: 0.257824\tvl's binary_logloss: 0.289276\n",
      "Early stopping, best iteration is:\n",
      "[59]\ttr's binary_logloss: 0.265234\tvl's binary_logloss: 0.288835\n"
     ]
    },
    {
     "name": "stderr",
     "output_type": "stream",
     "text": [
      "tune_feature_fraction, val_score: 0.288097: 100%|##########| 7/7 [00:14<00:00,  2.07s/it]\n",
      "tune_num_leaves, val_score: 0.288097:   0%|          | 0/20 [00:00<?, ?it/s]"
     ]
    },
    {
     "name": "stdout",
     "output_type": "stream",
     "text": [
      "Training until validation scores don't improve for 100 rounds\n",
      "[100]\ttr's binary_logloss: 0.249351\tvl's binary_logloss: 0.289712\n",
      "Early stopping, best iteration is:\n",
      "[70]\ttr's binary_logloss: 0.258053\tvl's binary_logloss: 0.289092\n"
     ]
    },
    {
     "name": "stderr",
     "output_type": "stream",
     "text": [
      "tune_num_leaves, val_score: 0.288097:   5%|5         | 1/20 [00:02<00:44,  2.35s/it]"
     ]
    },
    {
     "name": "stdout",
     "output_type": "stream",
     "text": [
      "Training until validation scores don't improve for 100 rounds\n",
      "[100]\ttr's binary_logloss: 0.249351\tvl's binary_logloss: 0.289712\n",
      "Early stopping, best iteration is:\n",
      "[70]\ttr's binary_logloss: 0.258053\tvl's binary_logloss: 0.289092\n"
     ]
    },
    {
     "name": "stderr",
     "output_type": "stream",
     "text": [
      "tune_num_leaves, val_score: 0.288097:  10%|#         | 2/20 [00:04<00:42,  2.37s/it]"
     ]
    },
    {
     "name": "stdout",
     "output_type": "stream",
     "text": [
      "Training until validation scores don't improve for 100 rounds\n",
      "[100]\ttr's binary_logloss: 0.249351\tvl's binary_logloss: 0.289712\n",
      "Early stopping, best iteration is:\n",
      "[70]\ttr's binary_logloss: 0.258053\tvl's binary_logloss: 0.289092\n"
     ]
    },
    {
     "name": "stderr",
     "output_type": "stream",
     "text": [
      "tune_num_leaves, val_score: 0.288097:  15%|#5        | 3/20 [00:07<00:41,  2.43s/it]"
     ]
    },
    {
     "name": "stdout",
     "output_type": "stream",
     "text": [
      "Training until validation scores don't improve for 100 rounds\n",
      "[100]\ttr's binary_logloss: 0.249351\tvl's binary_logloss: 0.289712\n",
      "Early stopping, best iteration is:\n",
      "[70]\ttr's binary_logloss: 0.258053\tvl's binary_logloss: 0.289092\n"
     ]
    },
    {
     "name": "stderr",
     "output_type": "stream",
     "text": [
      "tune_num_leaves, val_score: 0.288097:  20%|##        | 4/20 [00:09<00:38,  2.42s/it]"
     ]
    },
    {
     "name": "stdout",
     "output_type": "stream",
     "text": [
      "Training until validation scores don't improve for 100 rounds\n",
      "[100]\ttr's binary_logloss: 0.249351\tvl's binary_logloss: 0.289712\n",
      "Early stopping, best iteration is:\n",
      "[70]\ttr's binary_logloss: 0.258053\tvl's binary_logloss: 0.289092\n"
     ]
    },
    {
     "name": "stderr",
     "output_type": "stream",
     "text": [
      "tune_num_leaves, val_score: 0.288097:  25%|##5       | 5/20 [00:12<00:36,  2.47s/it]"
     ]
    },
    {
     "name": "stdout",
     "output_type": "stream",
     "text": [
      "Training until validation scores don't improve for 100 rounds\n",
      "[100]\ttr's binary_logloss: 0.249351\tvl's binary_logloss: 0.289712\n",
      "Early stopping, best iteration is:\n",
      "[70]\ttr's binary_logloss: 0.258053\tvl's binary_logloss: 0.289092\n"
     ]
    },
    {
     "name": "stderr",
     "output_type": "stream",
     "text": [
      "tune_num_leaves, val_score: 0.288097:  30%|###       | 6/20 [00:14<00:34,  2.49s/it]"
     ]
    },
    {
     "name": "stdout",
     "output_type": "stream",
     "text": [
      "Training until validation scores don't improve for 100 rounds\n",
      "[100]\ttr's binary_logloss: 0.249351\tvl's binary_logloss: 0.289712\n",
      "Early stopping, best iteration is:\n",
      "[70]\ttr's binary_logloss: 0.258053\tvl's binary_logloss: 0.289092\n"
     ]
    },
    {
     "name": "stderr",
     "output_type": "stream",
     "text": [
      "tune_num_leaves, val_score: 0.288097:  35%|###5      | 7/20 [00:17<00:32,  2.51s/it]"
     ]
    },
    {
     "name": "stdout",
     "output_type": "stream",
     "text": [
      "Training until validation scores don't improve for 100 rounds\n",
      "[100]\ttr's binary_logloss: 0.266052\tvl's binary_logloss: 0.288359\n",
      "Early stopping, best iteration is:\n",
      "[75]\ttr's binary_logloss: 0.269605\tvl's binary_logloss: 0.288132\n"
     ]
    },
    {
     "name": "stderr",
     "output_type": "stream",
     "text": [
      "tune_num_leaves, val_score: 0.288097:  40%|####      | 8/20 [00:19<00:27,  2.27s/it]"
     ]
    },
    {
     "name": "stdout",
     "output_type": "stream",
     "text": [
      "Training until validation scores don't improve for 100 rounds\n",
      "[100]\ttr's binary_logloss: 0.262677\tvl's binary_logloss: 0.288101\n",
      "Early stopping, best iteration is:\n",
      "[92]\ttr's binary_logloss: 0.263957\tvl's binary_logloss: 0.287923\n"
     ]
    },
    {
     "name": "stderr",
     "output_type": "stream",
     "text": [
      "tune_num_leaves, val_score: 0.287923:  45%|####5     | 9/20 [00:21<00:24,  2.19s/it]"
     ]
    },
    {
     "name": "stdout",
     "output_type": "stream",
     "text": [
      "Training until validation scores don't improve for 100 rounds\n",
      "[100]\ttr's binary_logloss: 0.249351\tvl's binary_logloss: 0.289712\n",
      "Early stopping, best iteration is:\n",
      "[70]\ttr's binary_logloss: 0.258053\tvl's binary_logloss: 0.289092\n"
     ]
    },
    {
     "name": "stderr",
     "output_type": "stream",
     "text": [
      "tune_num_leaves, val_score: 0.287923:  50%|#####     | 10/20 [00:23<00:22,  2.24s/it]"
     ]
    },
    {
     "name": "stdout",
     "output_type": "stream",
     "text": [
      "Training until validation scores don't improve for 100 rounds\n",
      "[100]\ttr's binary_logloss: 0.282193\tvl's binary_logloss: 0.287982\n",
      "[200]\ttr's binary_logloss: 0.278324\tvl's binary_logloss: 0.287539\n",
      "[300]\ttr's binary_logloss: 0.275549\tvl's binary_logloss: 0.287339\n",
      "[400]\ttr's binary_logloss: 0.273137\tvl's binary_logloss: 0.287269\n",
      "Early stopping, best iteration is:\n",
      "[349]\ttr's binary_logloss: 0.274267\tvl's binary_logloss: 0.287246\n"
     ]
    },
    {
     "name": "stderr",
     "output_type": "stream",
     "text": [
      "tune_num_leaves, val_score: 0.287246:  55%|#####5    | 11/20 [00:25<00:20,  2.27s/it]"
     ]
    },
    {
     "name": "stdout",
     "output_type": "stream",
     "text": [
      "Training until validation scores don't improve for 100 rounds\n",
      "[100]\ttr's binary_logloss: 0.284317\tvl's binary_logloss: 0.288581\n",
      "[200]\ttr's binary_logloss: 0.280602\tvl's binary_logloss: 0.28769\n",
      "[300]\ttr's binary_logloss: 0.278321\tvl's binary_logloss: 0.287576\n",
      "Early stopping, best iteration is:\n",
      "[247]\ttr's binary_logloss: 0.279453\tvl's binary_logloss: 0.28748\n"
     ]
    },
    {
     "name": "stderr",
     "output_type": "stream",
     "text": [
      "tune_num_leaves, val_score: 0.287246:  60%|######    | 12/20 [00:27<00:16,  2.11s/it]"
     ]
    },
    {
     "name": "stdout",
     "output_type": "stream",
     "text": [
      "Training until validation scores don't improve for 100 rounds\n",
      "[100]\ttr's binary_logloss: 0.249351\tvl's binary_logloss: 0.289712\n",
      "Early stopping, best iteration is:\n",
      "[70]\ttr's binary_logloss: 0.258053\tvl's binary_logloss: 0.289092\n"
     ]
    },
    {
     "name": "stderr",
     "output_type": "stream",
     "text": [
      "tune_num_leaves, val_score: 0.287246:  65%|######5   | 13/20 [00:30<00:15,  2.22s/it]"
     ]
    },
    {
     "name": "stdout",
     "output_type": "stream",
     "text": [
      "Training until validation scores don't improve for 100 rounds\n",
      "[100]\ttr's binary_logloss: 0.251309\tvl's binary_logloss: 0.289661\n",
      "Early stopping, best iteration is:\n",
      "[74]\ttr's binary_logloss: 0.258185\tvl's binary_logloss: 0.288725\n"
     ]
    },
    {
     "name": "stderr",
     "output_type": "stream",
     "text": [
      "tune_num_leaves, val_score: 0.287246:  70%|#######   | 14/20 [00:32<00:13,  2.22s/it]"
     ]
    },
    {
     "name": "stdout",
     "output_type": "stream",
     "text": [
      "Training until validation scores don't improve for 100 rounds\n",
      "[100]\ttr's binary_logloss: 0.286943\tvl's binary_logloss: 0.289372\n",
      "[200]\ttr's binary_logloss: 0.281996\tvl's binary_logloss: 0.289074\n",
      "[300]\ttr's binary_logloss: 0.279347\tvl's binary_logloss: 0.288774\n",
      "Early stopping, best iteration is:\n",
      "[249]\ttr's binary_logloss: 0.280512\tvl's binary_logloss: 0.288655\n"
     ]
    },
    {
     "name": "stderr",
     "output_type": "stream",
     "text": [
      "tune_num_leaves, val_score: 0.287246:  75%|#######5  | 15/20 [00:33<00:10,  2.03s/it]"
     ]
    },
    {
     "name": "stdout",
     "output_type": "stream",
     "text": [
      "Training until validation scores don't improve for 100 rounds\n",
      "[100]\ttr's binary_logloss: 0.296535\tvl's binary_logloss: 0.294686\n",
      "[200]\ttr's binary_logloss: 0.29244\tvl's binary_logloss: 0.292028\n",
      "[300]\ttr's binary_logloss: 0.290737\tvl's binary_logloss: 0.291283\n",
      "[400]\ttr's binary_logloss: 0.28978\tvl's binary_logloss: 0.291069\n",
      "[500]\ttr's binary_logloss: 0.289174\tvl's binary_logloss: 0.29097\n",
      "[600]\ttr's binary_logloss: 0.288764\tvl's binary_logloss: 0.290955\n",
      "[700]\ttr's binary_logloss: 0.288462\tvl's binary_logloss: 0.29101\n",
      "Early stopping, best iteration is:\n",
      "[623]\ttr's binary_logloss: 0.288687\tvl's binary_logloss: 0.290926\n"
     ]
    },
    {
     "name": "stderr",
     "output_type": "stream",
     "text": [
      "tune_num_leaves, val_score: 0.287246:  80%|########  | 16/20 [00:36<00:08,  2.24s/it]"
     ]
    },
    {
     "name": "stdout",
     "output_type": "stream",
     "text": [
      "Training until validation scores don't improve for 100 rounds\n",
      "[100]\ttr's binary_logloss: 0.250049\tvl's binary_logloss: 0.290277\n",
      "Early stopping, best iteration is:\n",
      "[67]\ttr's binary_logloss: 0.259263\tvl's binary_logloss: 0.289392\n"
     ]
    },
    {
     "name": "stderr",
     "output_type": "stream",
     "text": [
      "tune_num_leaves, val_score: 0.287246:  85%|########5 | 17/20 [00:38<00:06,  2.23s/it]"
     ]
    },
    {
     "name": "stdout",
     "output_type": "stream",
     "text": [
      "Training until validation scores don't improve for 100 rounds\n",
      "[100]\ttr's binary_logloss: 0.249351\tvl's binary_logloss: 0.289712\n",
      "Early stopping, best iteration is:\n",
      "[70]\ttr's binary_logloss: 0.258053\tvl's binary_logloss: 0.289092\n"
     ]
    },
    {
     "name": "stderr",
     "output_type": "stream",
     "text": [
      "tune_num_leaves, val_score: 0.287246:  90%|######### | 18/20 [00:41<00:04,  2.26s/it]"
     ]
    },
    {
     "name": "stdout",
     "output_type": "stream",
     "text": [
      "Training until validation scores don't improve for 100 rounds\n",
      "[100]\ttr's binary_logloss: 0.260389\tvl's binary_logloss: 0.288857\n",
      "Early stopping, best iteration is:\n",
      "[91]\ttr's binary_logloss: 0.261801\tvl's binary_logloss: 0.288699\n"
     ]
    },
    {
     "name": "stderr",
     "output_type": "stream",
     "text": [
      "tune_num_leaves, val_score: 0.287246:  95%|#########5| 19/20 [00:43<00:02,  2.14s/it]"
     ]
    },
    {
     "name": "stdout",
     "output_type": "stream",
     "text": [
      "Training until validation scores don't improve for 100 rounds\n",
      "[100]\ttr's binary_logloss: 0.273292\tvl's binary_logloss: 0.287764\n",
      "[200]\ttr's binary_logloss: 0.266136\tvl's binary_logloss: 0.28755\n",
      "[300]\ttr's binary_logloss: 0.260798\tvl's binary_logloss: 0.288217\n",
      "Early stopping, best iteration is:\n",
      "[205]\ttr's binary_logloss: 0.265865\tvl's binary_logloss: 0.287533\n"
     ]
    },
    {
     "name": "stderr",
     "output_type": "stream",
     "text": [
      "tune_num_leaves, val_score: 0.287246: 100%|##########| 20/20 [00:45<00:00,  2.26s/it]\n",
      "tune_bagging_fraction_and_bagging_freq, val_score: 0.287246:   0%|          | 0/10 [00:00<?, ?it/s]"
     ]
    },
    {
     "name": "stdout",
     "output_type": "stream",
     "text": [
      "Training until validation scores don't improve for 100 rounds\n",
      "[100]\ttr's binary_logloss: 0.286065\tvl's binary_logloss: 0.288577\n",
      "[200]\ttr's binary_logloss: 0.282986\tvl's binary_logloss: 0.287952\n",
      "[300]\ttr's binary_logloss: 0.28079\tvl's binary_logloss: 0.287674\n",
      "[400]\ttr's binary_logloss: 0.279036\tvl's binary_logloss: 0.28767\n",
      "Early stopping, best iteration is:\n",
      "[389]\ttr's binary_logloss: 0.279217\tvl's binary_logloss: 0.287449\n"
     ]
    },
    {
     "name": "stderr",
     "output_type": "stream",
     "text": [
      "tune_bagging_fraction_and_bagging_freq, val_score: 0.287246:  10%|#         | 1/10 [00:02<00:25,  2.79s/it]"
     ]
    },
    {
     "name": "stdout",
     "output_type": "stream",
     "text": [
      "Training until validation scores don't improve for 100 rounds\n",
      "[100]\ttr's binary_logloss: 0.28286\tvl's binary_logloss: 0.288608\n",
      "[200]\ttr's binary_logloss: 0.27795\tvl's binary_logloss: 0.288418\n",
      "[300]\ttr's binary_logloss: 0.275076\tvl's binary_logloss: 0.288233\n",
      "Early stopping, best iteration is:\n",
      "[225]\ttr's binary_logloss: 0.277151\tvl's binary_logloss: 0.288127\n"
     ]
    },
    {
     "name": "stderr",
     "output_type": "stream",
     "text": [
      "tune_bagging_fraction_and_bagging_freq, val_score: 0.287246:  20%|##        | 2/10 [00:05<00:21,  2.66s/it]"
     ]
    },
    {
     "name": "stdout",
     "output_type": "stream",
     "text": [
      "Training until validation scores don't improve for 100 rounds\n",
      "[100]\ttr's binary_logloss: 0.282425\tvl's binary_logloss: 0.288679\n",
      "[200]\ttr's binary_logloss: 0.277521\tvl's binary_logloss: 0.28853\n",
      "Early stopping, best iteration is:\n",
      "[193]\ttr's binary_logloss: 0.277693\tvl's binary_logloss: 0.28845\n"
     ]
    },
    {
     "name": "stderr",
     "output_type": "stream",
     "text": [
      "tune_bagging_fraction_and_bagging_freq, val_score: 0.287246:  30%|###       | 3/10 [00:07<00:17,  2.43s/it]"
     ]
    },
    {
     "name": "stdout",
     "output_type": "stream",
     "text": [
      "Training until validation scores don't improve for 100 rounds\n",
      "[100]\ttr's binary_logloss: 0.283575\tvl's binary_logloss: 0.288274\n",
      "[200]\ttr's binary_logloss: 0.279755\tvl's binary_logloss: 0.287631\n",
      "[300]\ttr's binary_logloss: 0.277297\tvl's binary_logloss: 0.287773\n",
      "[400]\ttr's binary_logloss: 0.275279\tvl's binary_logloss: 0.288374\n",
      "Early stopping, best iteration is:\n",
      "[306]\ttr's binary_logloss: 0.277173\tvl's binary_logloss: 0.287615\n"
     ]
    },
    {
     "name": "stderr",
     "output_type": "stream",
     "text": [
      "tune_bagging_fraction_and_bagging_freq, val_score: 0.287246:  40%|####      | 4/10 [00:09<00:14,  2.49s/it]"
     ]
    },
    {
     "name": "stdout",
     "output_type": "stream",
     "text": [
      "Training until validation scores don't improve for 100 rounds\n",
      "[100]\ttr's binary_logloss: 0.284933\tvl's binary_logloss: 0.289177\n",
      "Early stopping, best iteration is:\n",
      "[91]\ttr's binary_logloss: 0.285271\tvl's binary_logloss: 0.289006\n"
     ]
    },
    {
     "name": "stderr",
     "output_type": "stream",
     "text": [
      "tune_bagging_fraction_and_bagging_freq, val_score: 0.287246:  50%|#####     | 5/10 [00:10<00:10,  2.09s/it]"
     ]
    },
    {
     "name": "stdout",
     "output_type": "stream",
     "text": [
      "Training until validation scores don't improve for 100 rounds\n",
      "[100]\ttr's binary_logloss: 0.285699\tvl's binary_logloss: 0.289603\n",
      "[200]\ttr's binary_logloss: 0.282675\tvl's binary_logloss: 0.288826\n",
      "[300]\ttr's binary_logloss: 0.280442\tvl's binary_logloss: 0.28844\n",
      "[400]\ttr's binary_logloss: 0.278881\tvl's binary_logloss: 0.288422\n",
      "[500]\ttr's binary_logloss: 0.277226\tvl's binary_logloss: 0.288426\n",
      "Early stopping, best iteration is:\n",
      "[445]\ttr's binary_logloss: 0.278073\tvl's binary_logloss: 0.288059\n"
     ]
    },
    {
     "name": "stderr",
     "output_type": "stream",
     "text": [
      "tune_bagging_fraction_and_bagging_freq, val_score: 0.287246:  60%|######    | 6/10 [00:13<00:09,  2.35s/it]"
     ]
    },
    {
     "name": "stdout",
     "output_type": "stream",
     "text": [
      "Training until validation scores don't improve for 100 rounds\n",
      "[100]\ttr's binary_logloss: 0.285182\tvl's binary_logloss: 0.288477\n",
      "[200]\ttr's binary_logloss: 0.281887\tvl's binary_logloss: 0.288135\n",
      "[300]\ttr's binary_logloss: 0.279441\tvl's binary_logloss: 0.287986\n",
      "Early stopping, best iteration is:\n",
      "[242]\ttr's binary_logloss: 0.280791\tvl's binary_logloss: 0.287719\n"
     ]
    },
    {
     "name": "stderr",
     "output_type": "stream",
     "text": [
      "tune_bagging_fraction_and_bagging_freq, val_score: 0.287246:  70%|#######   | 7/10 [00:16<00:06,  2.31s/it]"
     ]
    },
    {
     "name": "stdout",
     "output_type": "stream",
     "text": [
      "Training until validation scores don't improve for 100 rounds\n",
      "[100]\ttr's binary_logloss: 0.281882\tvl's binary_logloss: 0.288756\n",
      "[200]\ttr's binary_logloss: 0.276628\tvl's binary_logloss: 0.288565\n",
      "Early stopping, best iteration is:\n",
      "[140]\ttr's binary_logloss: 0.27949\tvl's binary_logloss: 0.288451\n"
     ]
    },
    {
     "name": "stderr",
     "output_type": "stream",
     "text": [
      "tune_bagging_fraction_and_bagging_freq, val_score: 0.287246:  80%|########  | 8/10 [00:17<00:04,  2.09s/it]"
     ]
    },
    {
     "name": "stdout",
     "output_type": "stream",
     "text": [
      "Training until validation scores don't improve for 100 rounds\n",
      "[100]\ttr's binary_logloss: 0.282436\tvl's binary_logloss: 0.289054\n",
      "[200]\ttr's binary_logloss: 0.277526\tvl's binary_logloss: 0.289153\n",
      "Early stopping, best iteration is:\n",
      "[171]\ttr's binary_logloss: 0.278525\tvl's binary_logloss: 0.288965\n"
     ]
    },
    {
     "name": "stderr",
     "output_type": "stream",
     "text": [
      "tune_bagging_fraction_and_bagging_freq, val_score: 0.287246:  90%|######### | 9/10 [00:19<00:01,  1.98s/it]"
     ]
    },
    {
     "name": "stdout",
     "output_type": "stream",
     "text": [
      "Training until validation scores don't improve for 100 rounds\n",
      "[100]\ttr's binary_logloss: 0.285208\tvl's binary_logloss: 0.288494\n",
      "[200]\ttr's binary_logloss: 0.281859\tvl's binary_logloss: 0.288722\n",
      "Early stopping, best iteration is:\n",
      "[106]\ttr's binary_logloss: 0.285113\tvl's binary_logloss: 0.288461\n"
     ]
    },
    {
     "name": "stderr",
     "output_type": "stream",
     "text": [
      "tune_bagging_fraction_and_bagging_freq, val_score: 0.287246: 100%|##########| 10/10 [00:20<00:00,  2.06s/it]\n",
      "tune_feature_fraction, val_score: 0.287246:   0%|          | 0/6 [00:00<?, ?it/s]"
     ]
    },
    {
     "name": "stdout",
     "output_type": "stream",
     "text": [
      "Training until validation scores don't improve for 100 rounds\n",
      "[100]\ttr's binary_logloss: 0.282798\tvl's binary_logloss: 0.288362\n",
      "[200]\ttr's binary_logloss: 0.278879\tvl's binary_logloss: 0.287681\n",
      "[300]\ttr's binary_logloss: 0.276128\tvl's binary_logloss: 0.287622\n",
      "[400]\ttr's binary_logloss: 0.273726\tvl's binary_logloss: 0.287581\n",
      "Early stopping, best iteration is:\n",
      "[356]\ttr's binary_logloss: 0.274776\tvl's binary_logloss: 0.287508\n"
     ]
    },
    {
     "name": "stderr",
     "output_type": "stream",
     "text": [
      "tune_feature_fraction, val_score: 0.287246:  17%|#6        | 1/6 [00:02<00:11,  2.25s/it]"
     ]
    },
    {
     "name": "stdout",
     "output_type": "stream",
     "text": [
      "Training until validation scores don't improve for 100 rounds\n",
      "[100]\ttr's binary_logloss: 0.282516\tvl's binary_logloss: 0.288333\n",
      "[200]\ttr's binary_logloss: 0.277578\tvl's binary_logloss: 0.288262\n",
      "Early stopping, best iteration is:\n",
      "[183]\ttr's binary_logloss: 0.278544\tvl's binary_logloss: 0.287987\n"
     ]
    },
    {
     "name": "stderr",
     "output_type": "stream",
     "text": [
      "tune_feature_fraction, val_score: 0.287246:  33%|###3      | 2/6 [00:03<00:08,  2.03s/it]"
     ]
    },
    {
     "name": "stdout",
     "output_type": "stream",
     "text": [
      "Training until validation scores don't improve for 100 rounds\n",
      "[100]\ttr's binary_logloss: 0.282193\tvl's binary_logloss: 0.287982\n",
      "[200]\ttr's binary_logloss: 0.278324\tvl's binary_logloss: 0.287539\n",
      "[300]\ttr's binary_logloss: 0.275549\tvl's binary_logloss: 0.287339\n",
      "[400]\ttr's binary_logloss: 0.273137\tvl's binary_logloss: 0.287269\n",
      "Early stopping, best iteration is:\n",
      "[349]\ttr's binary_logloss: 0.274267\tvl's binary_logloss: 0.287246\n"
     ]
    },
    {
     "name": "stderr",
     "output_type": "stream",
     "text": [
      "tune_feature_fraction, val_score: 0.287246:  50%|#####     | 3/6 [00:06<00:06,  2.12s/it]"
     ]
    },
    {
     "name": "stdout",
     "output_type": "stream",
     "text": [
      "Training until validation scores don't improve for 100 rounds\n",
      "[100]\ttr's binary_logloss: 0.282193\tvl's binary_logloss: 0.287982\n",
      "[200]\ttr's binary_logloss: 0.278324\tvl's binary_logloss: 0.287539\n",
      "[300]\ttr's binary_logloss: 0.275549\tvl's binary_logloss: 0.287339\n",
      "[400]\ttr's binary_logloss: 0.273137\tvl's binary_logloss: 0.287269\n",
      "Early stopping, best iteration is:\n",
      "[349]\ttr's binary_logloss: 0.274267\tvl's binary_logloss: 0.287246\n"
     ]
    },
    {
     "name": "stderr",
     "output_type": "stream",
     "text": [
      "tune_feature_fraction, val_score: 0.287246:  67%|######6   | 4/6 [00:08<00:04,  2.20s/it]"
     ]
    },
    {
     "name": "stdout",
     "output_type": "stream",
     "text": [
      "Training until validation scores don't improve for 100 rounds\n",
      "[100]\ttr's binary_logloss: 0.282184\tvl's binary_logloss: 0.288525\n",
      "[200]\ttr's binary_logloss: 0.278206\tvl's binary_logloss: 0.28796\n",
      "[300]\ttr's binary_logloss: 0.275467\tvl's binary_logloss: 0.28782\n",
      "Early stopping, best iteration is:\n",
      "[264]\ttr's binary_logloss: 0.276498\tvl's binary_logloss: 0.287777\n"
     ]
    },
    {
     "name": "stderr",
     "output_type": "stream",
     "text": [
      "tune_feature_fraction, val_score: 0.287246:  83%|########3 | 5/6 [00:10<00:02,  2.10s/it]"
     ]
    },
    {
     "name": "stdout",
     "output_type": "stream",
     "text": [
      "Training until validation scores don't improve for 100 rounds\n",
      "[100]\ttr's binary_logloss: 0.281985\tvl's binary_logloss: 0.288024\n",
      "[200]\ttr's binary_logloss: 0.278156\tvl's binary_logloss: 0.287633\n",
      "Early stopping, best iteration is:\n",
      "[151]\ttr's binary_logloss: 0.279788\tvl's binary_logloss: 0.287572\n"
     ]
    },
    {
     "name": "stderr",
     "output_type": "stream",
     "text": [
      "tune_feature_fraction, val_score: 0.287246: 100%|##########| 6/6 [00:11<00:00,  1.96s/it]\n",
      "tune_lambda_l1_and_lambda_l2, val_score: 0.287246:   0%|          | 0/20 [00:00<?, ?it/s]"
     ]
    },
    {
     "name": "stdout",
     "output_type": "stream",
     "text": [
      "Training until validation scores don't improve for 100 rounds\n",
      "[100]\ttr's binary_logloss: 0.282382\tvl's binary_logloss: 0.288718\n",
      "[200]\ttr's binary_logloss: 0.27841\tvl's binary_logloss: 0.287768\n",
      "[300]\ttr's binary_logloss: 0.275668\tvl's binary_logloss: 0.287584\n",
      "[400]\ttr's binary_logloss: 0.273272\tvl's binary_logloss: 0.287569\n",
      "[500]\ttr's binary_logloss: 0.271133\tvl's binary_logloss: 0.287699\n",
      "Early stopping, best iteration is:\n",
      "[408]\ttr's binary_logloss: 0.273082\tvl's binary_logloss: 0.287485\n"
     ]
    },
    {
     "name": "stderr",
     "output_type": "stream",
     "text": [
      "tune_lambda_l1_and_lambda_l2, val_score: 0.287246:   5%|5         | 1/20 [00:02<00:51,  2.69s/it]"
     ]
    },
    {
     "name": "stdout",
     "output_type": "stream",
     "text": [
      "Training until validation scores don't improve for 100 rounds\n",
      "[100]\ttr's binary_logloss: 0.282193\tvl's binary_logloss: 0.287982\n",
      "[200]\ttr's binary_logloss: 0.278324\tvl's binary_logloss: 0.287539\n",
      "[300]\ttr's binary_logloss: 0.275549\tvl's binary_logloss: 0.287339\n",
      "[400]\ttr's binary_logloss: 0.273138\tvl's binary_logloss: 0.287268\n",
      "Early stopping, best iteration is:\n",
      "[349]\ttr's binary_logloss: 0.274267\tvl's binary_logloss: 0.287246\n"
     ]
    },
    {
     "name": "stderr",
     "output_type": "stream",
     "text": [
      "tune_lambda_l1_and_lambda_l2, val_score: 0.287246:  10%|#         | 2/20 [00:05<00:47,  2.62s/it]"
     ]
    },
    {
     "name": "stdout",
     "output_type": "stream",
     "text": [
      "Training until validation scores don't improve for 100 rounds\n",
      "[100]\ttr's binary_logloss: 0.282414\tvl's binary_logloss: 0.288312\n",
      "[200]\ttr's binary_logloss: 0.278558\tvl's binary_logloss: 0.287475\n",
      "[300]\ttr's binary_logloss: 0.275759\tvl's binary_logloss: 0.287394\n",
      "[400]\ttr's binary_logloss: 0.273343\tvl's binary_logloss: 0.287393\n",
      "Early stopping, best iteration is:\n",
      "[372]\ttr's binary_logloss: 0.273939\tvl's binary_logloss: 0.287263\n"
     ]
    },
    {
     "name": "stderr",
     "output_type": "stream",
     "text": [
      "tune_lambda_l1_and_lambda_l2, val_score: 0.287246:  15%|#5        | 3/20 [00:07<00:44,  2.59s/it]"
     ]
    },
    {
     "name": "stdout",
     "output_type": "stream",
     "text": [
      "Training until validation scores don't improve for 100 rounds\n",
      "[100]\ttr's binary_logloss: 0.282134\tvl's binary_logloss: 0.288702\n",
      "[200]\ttr's binary_logloss: 0.278184\tvl's binary_logloss: 0.287659\n",
      "[300]\ttr's binary_logloss: 0.275563\tvl's binary_logloss: 0.287458\n",
      "[400]\ttr's binary_logloss: 0.273283\tvl's binary_logloss: 0.287407\n",
      "Early stopping, best iteration is:\n",
      "[393]\ttr's binary_logloss: 0.273457\tvl's binary_logloss: 0.287331\n"
     ]
    },
    {
     "name": "stderr",
     "output_type": "stream",
     "text": [
      "tune_lambda_l1_and_lambda_l2, val_score: 0.287246:  20%|##        | 4/20 [00:10<00:41,  2.61s/it]"
     ]
    },
    {
     "name": "stdout",
     "output_type": "stream",
     "text": [
      "Training until validation scores don't improve for 100 rounds\n",
      "[100]\ttr's binary_logloss: 0.282222\tvl's binary_logloss: 0.288291\n",
      "[200]\ttr's binary_logloss: 0.278347\tvl's binary_logloss: 0.287462\n",
      "[300]\ttr's binary_logloss: 0.275626\tvl's binary_logloss: 0.287414\n",
      "[400]\ttr's binary_logloss: 0.273248\tvl's binary_logloss: 0.287462\n",
      "Early stopping, best iteration is:\n",
      "[330]\ttr's binary_logloss: 0.274851\tvl's binary_logloss: 0.287344\n"
     ]
    },
    {
     "name": "stderr",
     "output_type": "stream",
     "text": [
      "tune_lambda_l1_and_lambda_l2, val_score: 0.287246:  25%|##5       | 5/20 [00:12<00:37,  2.52s/it]"
     ]
    },
    {
     "name": "stdout",
     "output_type": "stream",
     "text": [
      "Training until validation scores don't improve for 100 rounds\n",
      "[100]\ttr's binary_logloss: 0.282193\tvl's binary_logloss: 0.287982\n",
      "[200]\ttr's binary_logloss: 0.278324\tvl's binary_logloss: 0.287539\n",
      "[300]\ttr's binary_logloss: 0.275549\tvl's binary_logloss: 0.287339\n",
      "[400]\ttr's binary_logloss: 0.273137\tvl's binary_logloss: 0.287269\n",
      "Early stopping, best iteration is:\n",
      "[349]\ttr's binary_logloss: 0.274267\tvl's binary_logloss: 0.287246\n"
     ]
    },
    {
     "name": "stderr",
     "output_type": "stream",
     "text": [
      "tune_lambda_l1_and_lambda_l2, val_score: 0.287246:  30%|###       | 6/20 [00:15<00:34,  2.50s/it]"
     ]
    },
    {
     "name": "stdout",
     "output_type": "stream",
     "text": [
      "Training until validation scores don't improve for 100 rounds\n",
      "[100]\ttr's binary_logloss: 0.282245\tvl's binary_logloss: 0.288434\n",
      "[200]\ttr's binary_logloss: 0.278201\tvl's binary_logloss: 0.287667\n",
      "[300]\ttr's binary_logloss: 0.275386\tvl's binary_logloss: 0.28757\n",
      "[400]\ttr's binary_logloss: 0.273119\tvl's binary_logloss: 0.287604\n",
      "Early stopping, best iteration is:\n",
      "[336]\ttr's binary_logloss: 0.274553\tvl's binary_logloss: 0.287442\n"
     ]
    },
    {
     "name": "stderr",
     "output_type": "stream",
     "text": [
      "tune_lambda_l1_and_lambda_l2, val_score: 0.287246:  35%|###5      | 7/20 [00:17<00:31,  2.41s/it]"
     ]
    },
    {
     "name": "stdout",
     "output_type": "stream",
     "text": [
      "Training until validation scores don't improve for 100 rounds\n",
      "[100]\ttr's binary_logloss: 0.282022\tvl's binary_logloss: 0.288291\n",
      "[200]\ttr's binary_logloss: 0.278174\tvl's binary_logloss: 0.287577\n",
      "[300]\ttr's binary_logloss: 0.275468\tvl's binary_logloss: 0.2873\n",
      "[400]\ttr's binary_logloss: 0.272978\tvl's binary_logloss: 0.287329\n",
      "Early stopping, best iteration is:\n",
      "[330]\ttr's binary_logloss: 0.274643\tvl's binary_logloss: 0.287148\n"
     ]
    },
    {
     "name": "stderr",
     "output_type": "stream",
     "text": [
      "tune_lambda_l1_and_lambda_l2, val_score: 0.287148:  40%|####      | 8/20 [00:19<00:28,  2.36s/it]"
     ]
    },
    {
     "name": "stdout",
     "output_type": "stream",
     "text": [
      "Training until validation scores don't improve for 100 rounds\n",
      "[100]\ttr's binary_logloss: 0.282193\tvl's binary_logloss: 0.287982\n",
      "[200]\ttr's binary_logloss: 0.278324\tvl's binary_logloss: 0.287539\n",
      "[300]\ttr's binary_logloss: 0.275549\tvl's binary_logloss: 0.287339\n",
      "[400]\ttr's binary_logloss: 0.273137\tvl's binary_logloss: 0.287269\n",
      "Early stopping, best iteration is:\n",
      "[349]\ttr's binary_logloss: 0.274267\tvl's binary_logloss: 0.287246\n"
     ]
    },
    {
     "name": "stderr",
     "output_type": "stream",
     "text": [
      "tune_lambda_l1_and_lambda_l2, val_score: 0.287148:  45%|####5     | 9/20 [00:21<00:26,  2.37s/it]"
     ]
    },
    {
     "name": "stdout",
     "output_type": "stream",
     "text": [
      "Training until validation scores don't improve for 100 rounds\n",
      "[100]\ttr's binary_logloss: 0.28249\tvl's binary_logloss: 0.288141\n",
      "[200]\ttr's binary_logloss: 0.278613\tvl's binary_logloss: 0.287546\n",
      "[300]\ttr's binary_logloss: 0.275826\tvl's binary_logloss: 0.287304\n",
      "[400]\ttr's binary_logloss: 0.273492\tvl's binary_logloss: 0.287414\n",
      "Early stopping, best iteration is:\n",
      "[362]\ttr's binary_logloss: 0.274348\tvl's binary_logloss: 0.287277\n"
     ]
    },
    {
     "name": "stderr",
     "output_type": "stream",
     "text": [
      "tune_lambda_l1_and_lambda_l2, val_score: 0.287148:  50%|#####     | 10/20 [00:24<00:24,  2.41s/it]"
     ]
    },
    {
     "name": "stdout",
     "output_type": "stream",
     "text": [
      "Training until validation scores don't improve for 100 rounds\n",
      "[100]\ttr's binary_logloss: 0.282193\tvl's binary_logloss: 0.287982\n",
      "[200]\ttr's binary_logloss: 0.278324\tvl's binary_logloss: 0.287539\n",
      "[300]\ttr's binary_logloss: 0.275549\tvl's binary_logloss: 0.287339\n",
      "[400]\ttr's binary_logloss: 0.273138\tvl's binary_logloss: 0.287268\n",
      "Early stopping, best iteration is:\n",
      "[349]\ttr's binary_logloss: 0.274267\tvl's binary_logloss: 0.287246\n"
     ]
    },
    {
     "name": "stderr",
     "output_type": "stream",
     "text": [
      "tune_lambda_l1_and_lambda_l2, val_score: 0.287148:  55%|#####5    | 11/20 [00:26<00:21,  2.39s/it]"
     ]
    },
    {
     "name": "stdout",
     "output_type": "stream",
     "text": [
      "Training until validation scores don't improve for 100 rounds\n",
      "[100]\ttr's binary_logloss: 0.282193\tvl's binary_logloss: 0.287982\n",
      "[200]\ttr's binary_logloss: 0.278324\tvl's binary_logloss: 0.287539\n",
      "[300]\ttr's binary_logloss: 0.275549\tvl's binary_logloss: 0.287339\n",
      "[400]\ttr's binary_logloss: 0.273138\tvl's binary_logloss: 0.287268\n",
      "Early stopping, best iteration is:\n",
      "[349]\ttr's binary_logloss: 0.274267\tvl's binary_logloss: 0.287246\n"
     ]
    },
    {
     "name": "stderr",
     "output_type": "stream",
     "text": [
      "tune_lambda_l1_and_lambda_l2, val_score: 0.287148:  60%|######    | 12/20 [00:29<00:19,  2.40s/it]"
     ]
    },
    {
     "name": "stdout",
     "output_type": "stream",
     "text": [
      "Training until validation scores don't improve for 100 rounds\n",
      "[100]\ttr's binary_logloss: 0.282238\tvl's binary_logloss: 0.288431\n",
      "[200]\ttr's binary_logloss: 0.278279\tvl's binary_logloss: 0.287499\n",
      "[300]\ttr's binary_logloss: 0.275476\tvl's binary_logloss: 0.287369\n",
      "[400]\ttr's binary_logloss: 0.273114\tvl's binary_logloss: 0.287494\n",
      "Early stopping, best iteration is:\n",
      "[309]\ttr's binary_logloss: 0.275235\tvl's binary_logloss: 0.287323\n"
     ]
    },
    {
     "name": "stderr",
     "output_type": "stream",
     "text": [
      "tune_lambda_l1_and_lambda_l2, val_score: 0.287148:  65%|######5   | 13/20 [00:31<00:16,  2.34s/it]"
     ]
    },
    {
     "name": "stdout",
     "output_type": "stream",
     "text": [
      "Training until validation scores don't improve for 100 rounds\n",
      "[100]\ttr's binary_logloss: 0.282233\tvl's binary_logloss: 0.288313\n",
      "[200]\ttr's binary_logloss: 0.278274\tvl's binary_logloss: 0.287576\n",
      "[300]\ttr's binary_logloss: 0.275593\tvl's binary_logloss: 0.28722\n",
      "[400]\ttr's binary_logloss: 0.273373\tvl's binary_logloss: 0.287143\n",
      "Early stopping, best iteration is:\n",
      "[398]\ttr's binary_logloss: 0.273413\tvl's binary_logloss: 0.287137\n"
     ]
    },
    {
     "name": "stderr",
     "output_type": "stream",
     "text": [
      "tune_lambda_l1_and_lambda_l2, val_score: 0.287137:  70%|#######   | 14/20 [00:34<00:14,  2.44s/it]"
     ]
    },
    {
     "name": "stdout",
     "output_type": "stream",
     "text": [
      "Training until validation scores don't improve for 100 rounds\n",
      "[100]\ttr's binary_logloss: 0.28265\tvl's binary_logloss: 0.288127\n",
      "[200]\ttr's binary_logloss: 0.278819\tvl's binary_logloss: 0.287383\n",
      "[300]\ttr's binary_logloss: 0.276134\tvl's binary_logloss: 0.287213\n",
      "Early stopping, best iteration is:\n",
      "[285]\ttr's binary_logloss: 0.276455\tvl's binary_logloss: 0.287151\n"
     ]
    },
    {
     "name": "stderr",
     "output_type": "stream",
     "text": [
      "tune_lambda_l1_and_lambda_l2, val_score: 0.287137:  75%|#######5  | 15/20 [00:36<00:11,  2.34s/it]"
     ]
    },
    {
     "name": "stdout",
     "output_type": "stream",
     "text": [
      "Training until validation scores don't improve for 100 rounds\n",
      "[100]\ttr's binary_logloss: 0.282193\tvl's binary_logloss: 0.287982\n",
      "[200]\ttr's binary_logloss: 0.278324\tvl's binary_logloss: 0.287539\n",
      "[300]\ttr's binary_logloss: 0.275549\tvl's binary_logloss: 0.287339\n",
      "[400]\ttr's binary_logloss: 0.273137\tvl's binary_logloss: 0.287269\n",
      "Early stopping, best iteration is:\n",
      "[349]\ttr's binary_logloss: 0.274267\tvl's binary_logloss: 0.287246\n"
     ]
    },
    {
     "name": "stderr",
     "output_type": "stream",
     "text": [
      "tune_lambda_l1_and_lambda_l2, val_score: 0.287137:  80%|########  | 16/20 [00:38<00:09,  2.39s/it]"
     ]
    },
    {
     "name": "stdout",
     "output_type": "stream",
     "text": [
      "Training until validation scores don't improve for 100 rounds\n",
      "[100]\ttr's binary_logloss: 0.282193\tvl's binary_logloss: 0.287982\n",
      "[200]\ttr's binary_logloss: 0.278324\tvl's binary_logloss: 0.287539\n",
      "[300]\ttr's binary_logloss: 0.275549\tvl's binary_logloss: 0.287339\n",
      "[400]\ttr's binary_logloss: 0.273137\tvl's binary_logloss: 0.287269\n",
      "Early stopping, best iteration is:\n",
      "[349]\ttr's binary_logloss: 0.274267\tvl's binary_logloss: 0.287246\n"
     ]
    },
    {
     "name": "stderr",
     "output_type": "stream",
     "text": [
      "tune_lambda_l1_and_lambda_l2, val_score: 0.287137:  85%|########5 | 17/20 [00:41<00:07,  2.42s/it]"
     ]
    },
    {
     "name": "stdout",
     "output_type": "stream",
     "text": [
      "Training until validation scores don't improve for 100 rounds\n",
      "[100]\ttr's binary_logloss: 0.282651\tvl's binary_logloss: 0.288126\n",
      "[200]\ttr's binary_logloss: 0.27882\tvl's binary_logloss: 0.287383\n",
      "[300]\ttr's binary_logloss: 0.276112\tvl's binary_logloss: 0.287173\n",
      "Early stopping, best iteration is:\n",
      "[285]\ttr's binary_logloss: 0.276456\tvl's binary_logloss: 0.287151\n"
     ]
    },
    {
     "name": "stderr",
     "output_type": "stream",
     "text": [
      "tune_lambda_l1_and_lambda_l2, val_score: 0.287137:  90%|######### | 18/20 [00:43<00:04,  2.35s/it]"
     ]
    },
    {
     "name": "stdout",
     "output_type": "stream",
     "text": [
      "Training until validation scores don't improve for 100 rounds\n",
      "[100]\ttr's binary_logloss: 0.282264\tvl's binary_logloss: 0.288416\n",
      "[200]\ttr's binary_logloss: 0.278281\tvl's binary_logloss: 0.287522\n",
      "[300]\ttr's binary_logloss: 0.27555\tvl's binary_logloss: 0.287437\n",
      "Early stopping, best iteration is:\n",
      "[228]\ttr's binary_logloss: 0.277461\tvl's binary_logloss: 0.287416\n"
     ]
    },
    {
     "name": "stderr",
     "output_type": "stream",
     "text": [
      "tune_lambda_l1_and_lambda_l2, val_score: 0.287137:  95%|#########5| 19/20 [00:45<00:02,  2.20s/it]"
     ]
    },
    {
     "name": "stdout",
     "output_type": "stream",
     "text": [
      "Training until validation scores don't improve for 100 rounds\n",
      "[100]\ttr's binary_logloss: 0.282598\tvl's binary_logloss: 0.288204\n",
      "[200]\ttr's binary_logloss: 0.278628\tvl's binary_logloss: 0.28716\n",
      "[300]\ttr's binary_logloss: 0.276065\tvl's binary_logloss: 0.287064\n",
      "Early stopping, best iteration is:\n",
      "[253]\ttr's binary_logloss: 0.277168\tvl's binary_logloss: 0.286845\n"
     ]
    },
    {
     "name": "stderr",
     "output_type": "stream",
     "text": [
      "tune_lambda_l1_and_lambda_l2, val_score: 0.286845: 100%|##########| 20/20 [00:47<00:00,  2.36s/it]\n",
      "tune_min_child_samples, val_score: 0.286845:   0%|          | 0/5 [00:00<?, ?it/s]"
     ]
    },
    {
     "name": "stdout",
     "output_type": "stream",
     "text": [
      "Training until validation scores don't improve for 100 rounds\n",
      "[100]\ttr's binary_logloss: 0.282598\tvl's binary_logloss: 0.288204\n",
      "[200]\ttr's binary_logloss: 0.278628\tvl's binary_logloss: 0.28716\n",
      "[300]\ttr's binary_logloss: 0.276065\tvl's binary_logloss: 0.287064\n",
      "Early stopping, best iteration is:\n",
      "[253]\ttr's binary_logloss: 0.277168\tvl's binary_logloss: 0.286845\n"
     ]
    },
    {
     "name": "stderr",
     "output_type": "stream",
     "text": [
      "tune_min_child_samples, val_score: 0.286845:  20%|##        | 1/5 [00:02<00:08,  2.03s/it]"
     ]
    },
    {
     "name": "stdout",
     "output_type": "stream",
     "text": [
      "Training until validation scores don't improve for 100 rounds\n",
      "[100]\ttr's binary_logloss: 0.282598\tvl's binary_logloss: 0.288204\n",
      "[200]\ttr's binary_logloss: 0.278628\tvl's binary_logloss: 0.28716\n",
      "[300]\ttr's binary_logloss: 0.276065\tvl's binary_logloss: 0.287064\n",
      "Early stopping, best iteration is:\n",
      "[253]\ttr's binary_logloss: 0.277168\tvl's binary_logloss: 0.286845\n"
     ]
    },
    {
     "name": "stderr",
     "output_type": "stream",
     "text": [
      "tune_min_child_samples, val_score: 0.286845:  40%|####      | 2/5 [00:04<00:06,  2.01s/it]"
     ]
    },
    {
     "name": "stdout",
     "output_type": "stream",
     "text": [
      "Training until validation scores don't improve for 100 rounds\n",
      "[100]\ttr's binary_logloss: 0.282598\tvl's binary_logloss: 0.288204\n",
      "[200]\ttr's binary_logloss: 0.278628\tvl's binary_logloss: 0.28716\n",
      "[300]\ttr's binary_logloss: 0.276065\tvl's binary_logloss: 0.287064\n",
      "Early stopping, best iteration is:\n",
      "[253]\ttr's binary_logloss: 0.277168\tvl's binary_logloss: 0.286845\n"
     ]
    },
    {
     "name": "stderr",
     "output_type": "stream",
     "text": [
      "tune_min_child_samples, val_score: 0.286845:  60%|######    | 3/5 [00:06<00:03,  1.99s/it]"
     ]
    },
    {
     "name": "stdout",
     "output_type": "stream",
     "text": [
      "Training until validation scores don't improve for 100 rounds\n",
      "[100]\ttr's binary_logloss: 0.282598\tvl's binary_logloss: 0.288204\n",
      "[200]\ttr's binary_logloss: 0.278628\tvl's binary_logloss: 0.28716\n",
      "[300]\ttr's binary_logloss: 0.276065\tvl's binary_logloss: 0.287064\n",
      "Early stopping, best iteration is:\n",
      "[253]\ttr's binary_logloss: 0.277168\tvl's binary_logloss: 0.286845\n"
     ]
    },
    {
     "name": "stderr",
     "output_type": "stream",
     "text": [
      "tune_min_child_samples, val_score: 0.286845:  80%|########  | 4/5 [00:07<00:01,  1.97s/it]"
     ]
    },
    {
     "name": "stdout",
     "output_type": "stream",
     "text": [
      "Training until validation scores don't improve for 100 rounds\n",
      "[100]\ttr's binary_logloss: 0.282598\tvl's binary_logloss: 0.288204\n",
      "[200]\ttr's binary_logloss: 0.278628\tvl's binary_logloss: 0.28716\n",
      "[300]\ttr's binary_logloss: 0.276065\tvl's binary_logloss: 0.287064\n",
      "Early stopping, best iteration is:\n",
      "[253]\ttr's binary_logloss: 0.277168\tvl's binary_logloss: 0.286845\n"
     ]
    },
    {
     "name": "stderr",
     "output_type": "stream",
     "text": [
      "tune_min_child_samples, val_score: 0.286845: 100%|##########| 5/5 [00:09<00:00,  1.97s/it]\n"
     ]
    },
    {
     "name": "stdout",
     "output_type": "stream",
     "text": [
      "CPU times: user 14min 1s, sys: 20min 22s, total: 34min 23s\n",
      "Wall time: 2min 29s\n"
     ]
    }
   ],
   "source": [
    "%%time\n",
    "dtr = lgb.Dataset(dftr[cols_feat], label=dftr[TCOL])\n",
    "dvl = lgb.Dataset(dfvl[cols_feat], label=dfvl[TCOL])\n",
    "best_params, tuning_history = {}, []\n",
    "evalres = {}\n",
    "evallist = [(dtr, 'train'), (dvl, 'eval')]\n",
    "bst = lgb.train(params=params, \n",
    "                train_set=dtr, \n",
    "                num_boost_round=50000,\n",
    "                valid_sets=[dtr, dvl],\n",
    "                valid_names=['tr','vl'],\n",
    "                best_params=best_params,\n",
    "                tuning_history=tuning_history,\n",
    "                verbose_eval=100,\n",
    "                early_stopping_rounds=100,\n",
    "                evals_result=evalres,\n",
    "               )\n",
    "results['bst'] = bst\n",
    "results['evalres'] = evalres\n",
    "results['best_params']=best_params\n",
    "results['tuning_history']=tuning_history"
   ]
  },
  {
   "cell_type": "code",
   "execution_count": 22,
   "metadata": {},
   "outputs": [
    {
     "data": {
      "text/plain": [
       "{'lambda_l1': 2.7622575786400065e-06,\n",
       " 'lambda_l2': 6.009549180231788,\n",
       " 'num_leaves': 6,\n",
       " 'feature_fraction': 0.5,\n",
       " 'bagging_fraction': 1.0,\n",
       " 'bagging_freq': 0,\n",
       " 'min_child_samples': 20}"
      ]
     },
     "execution_count": 22,
     "metadata": {},
     "output_type": "execute_result"
    }
   ],
   "source": [
    "best_params"
   ]
  },
  {
   "cell_type": "markdown",
   "metadata": {},
   "source": [
    "## tr vl trajec"
   ]
  },
  {
   "cell_type": "code",
   "execution_count": 23,
   "metadata": {
    "scrolled": true
   },
   "outputs": [
    {
     "data": {
      "image/png": "[encoded data removed]",
      "text/plain": [
       "<Figure size 432x288 with 1 Axes>"
      ]
     },
     "metadata": {
      "needs_background": "light"
     },
     "output_type": "display_data"
    }
   ],
   "source": [
    "plt.plot(evalres['tr']['binary_logloss'])\n",
    "plt.plot(evalres['vl']['binary_logloss'])\n",
    "plt.title(f\"logloss; best_iteration {bst.best_iteration}\")\n",
    "plt.show()"
   ]
  },
  {
   "cell_type": "markdown",
   "metadata": {},
   "source": [
    "## model features"
   ]
  },
  {
   "cell_type": "code",
   "execution_count": 24,
   "metadata": {},
   "outputs": [
    {
     "data": {
      "image/png": "[encoded data removed]",
      "text/plain": [
       "<Figure size 720x1080 with 1 Axes>"
      ]
     },
     "metadata": {
      "needs_background": "light"
     },
     "output_type": "display_data"
    }
   ],
   "source": [
    "ax = lgb.plot_importance(bst, height=0.8, max_num_features=50, figsize=(10,15))\n",
    "ax.grid(False, axis=\"y\")\n",
    "ax.set_title(f'Estimated feature importance')\n",
    "plt.show()"
   ]
  },
  {
   "cell_type": "code",
   "execution_count": 25,
   "metadata": {
    "scrolled": false
   },
   "outputs": [
    {
     "data": {
      "text/html": [
       "<div>\n",
       "<style scoped>\n",
       "    .dataframe tbody tr th:only-of-type {\n",
       "        vertical-align: middle;\n",
       "    }\n",
       "\n",
       "    .dataframe tbody tr th {\n",
       "        vertical-align: top;\n",
       "    }\n",
       "\n",
       "    .dataframe thead th {\n",
       "        text-align: right;\n",
       "    }\n",
       "</style>\n",
       "<table border=\"1\" class=\"dataframe\">\n",
       "  <thead>\n",
       "    <tr style=\"text-align: right;\">\n",
       "      <th></th>\n",
       "      <th>0</th>\n",
       "      <th>1</th>\n",
       "    </tr>\n",
       "  </thead>\n",
       "  <tbody>\n",
       "    <tr>\n",
       "      <th>1</th>\n",
       "      <td>lang</td>\n",
       "      <td>159</td>\n",
       "    </tr>\n",
       "    <tr>\n",
       "      <th>28</th>\n",
       "      <td>langhour</td>\n",
       "      <td>130</td>\n",
       "    </tr>\n",
       "    <tr>\n",
       "      <th>5</th>\n",
       "      <td>u2_fllwer_cnt</td>\n",
       "      <td>80</td>\n",
       "    </tr>\n",
       "    <tr>\n",
       "      <th>3</th>\n",
       "      <td>u1_fllwing_cnt</td>\n",
       "      <td>72</td>\n",
       "    </tr>\n",
       "    <tr>\n",
       "      <th>26</th>\n",
       "      <td>u1_fllwer_cnt_by_age</td>\n",
       "      <td>71</td>\n",
       "    </tr>\n",
       "    <tr>\n",
       "      <th>23</th>\n",
       "      <td>twt_age</td>\n",
       "      <td>70</td>\n",
       "    </tr>\n",
       "    <tr>\n",
       "      <th>2</th>\n",
       "      <td>u1_fllwer_cnt</td>\n",
       "      <td>63</td>\n",
       "    </tr>\n",
       "    <tr>\n",
       "      <th>0</th>\n",
       "      <td>twttyp</td>\n",
       "      <td>62</td>\n",
       "    </tr>\n",
       "    <tr>\n",
       "      <th>27</th>\n",
       "      <td>u1_fllwng_cnt_by_age</td>\n",
       "      <td>62</td>\n",
       "    </tr>\n",
       "    <tr>\n",
       "      <th>22</th>\n",
       "      <td>tmdlta_twtu2</td>\n",
       "      <td>54</td>\n",
       "    </tr>\n",
       "    <tr>\n",
       "      <th>6</th>\n",
       "      <td>u2_fllwng_cnt</td>\n",
       "      <td>52</td>\n",
       "    </tr>\n",
       "    <tr>\n",
       "      <th>11</th>\n",
       "      <td>len_toks</td>\n",
       "      <td>51</td>\n",
       "    </tr>\n",
       "    <tr>\n",
       "      <th>21</th>\n",
       "      <td>tmdlta_twtu1</td>\n",
       "      <td>51</td>\n",
       "    </tr>\n",
       "    <tr>\n",
       "      <th>25</th>\n",
       "      <td>u2_age</td>\n",
       "      <td>46</td>\n",
       "    </tr>\n",
       "    <tr>\n",
       "      <th>20</th>\n",
       "      <td>tmdlta_u2u1</td>\n",
       "      <td>40</td>\n",
       "    </tr>\n",
       "    <tr>\n",
       "      <th>24</th>\n",
       "      <td>u1_age</td>\n",
       "      <td>32</td>\n",
       "    </tr>\n",
       "    <tr>\n",
       "      <th>17</th>\n",
       "      <td>n_domns</td>\n",
       "      <td>30</td>\n",
       "    </tr>\n",
       "    <tr>\n",
       "      <th>15</th>\n",
       "      <td>n_hshtgs</td>\n",
       "      <td>27</td>\n",
       "    </tr>\n",
       "    <tr>\n",
       "      <th>16</th>\n",
       "      <td>n_media</td>\n",
       "      <td>22</td>\n",
       "    </tr>\n",
       "    <tr>\n",
       "      <th>8</th>\n",
       "      <td>u1_fllw_u2</td>\n",
       "      <td>22</td>\n",
       "    </tr>\n",
       "    <tr>\n",
       "      <th>19</th>\n",
       "      <td>hour</td>\n",
       "      <td>16</td>\n",
       "    </tr>\n",
       "    <tr>\n",
       "      <th>29</th>\n",
       "      <td>tgtenc_lang</td>\n",
       "      <td>15</td>\n",
       "    </tr>\n",
       "    <tr>\n",
       "      <th>12</th>\n",
       "      <td>n_media_Photo</td>\n",
       "      <td>14</td>\n",
       "    </tr>\n",
       "    <tr>\n",
       "      <th>13</th>\n",
       "      <td>n_media_Video</td>\n",
       "      <td>11</td>\n",
       "    </tr>\n",
       "    <tr>\n",
       "      <th>4</th>\n",
       "      <td>u1_vrfed</td>\n",
       "      <td>9</td>\n",
       "    </tr>\n",
       "    <tr>\n",
       "      <th>18</th>\n",
       "      <td>dayofweek</td>\n",
       "      <td>4</td>\n",
       "    </tr>\n",
       "    <tr>\n",
       "      <th>14</th>\n",
       "      <td>n_media_GIF</td>\n",
       "      <td>0</td>\n",
       "    </tr>\n",
       "    <tr>\n",
       "      <th>10</th>\n",
       "      <td>u2inu1</td>\n",
       "      <td>0</td>\n",
       "    </tr>\n",
       "    <tr>\n",
       "      <th>9</th>\n",
       "      <td>u1inu2</td>\n",
       "      <td>0</td>\n",
       "    </tr>\n",
       "    <tr>\n",
       "      <th>7</th>\n",
       "      <td>u2_vrfed</td>\n",
       "      <td>0</td>\n",
       "    </tr>\n",
       "  </tbody>\n",
       "</table>\n",
       "</div>"
      ],
      "text/plain": [
       "                       0    1\n",
       "1                   lang  159\n",
       "28              langhour  130\n",
       "5          u2_fllwer_cnt   80\n",
       "3         u1_fllwing_cnt   72\n",
       "26  u1_fllwer_cnt_by_age   71\n",
       "23               twt_age   70\n",
       "2          u1_fllwer_cnt   63\n",
       "0                 twttyp   62\n",
       "27  u1_fllwng_cnt_by_age   62\n",
       "22          tmdlta_twtu2   54\n",
       "6          u2_fllwng_cnt   52\n",
       "11              len_toks   51\n",
       "21          tmdlta_twtu1   51\n",
       "25                u2_age   46\n",
       "20           tmdlta_u2u1   40\n",
       "24                u1_age   32\n",
       "17               n_domns   30\n",
       "15              n_hshtgs   27\n",
       "16               n_media   22\n",
       "8             u1_fllw_u2   22\n",
       "19                  hour   16\n",
       "29           tgtenc_lang   15\n",
       "12         n_media_Photo   14\n",
       "13         n_media_Video   11\n",
       "4               u1_vrfed    9\n",
       "18             dayofweek    4\n",
       "14           n_media_GIF    0\n",
       "10                u2inu1    0\n",
       "9                 u1inu2    0\n",
       "7               u2_vrfed    0"
      ]
     },
     "execution_count": 25,
     "metadata": {},
     "output_type": "execute_result"
    }
   ],
   "source": [
    "pd.DataFrame([bst.feature_name(), bst.feature_importance()]).T.sort_values(1, ascending=False)"
   ]
  },
  {
   "cell_type": "markdown",
   "metadata": {},
   "source": [
    "# eval"
   ]
  },
  {
   "cell_type": "code",
   "execution_count": 25,
   "metadata": {},
   "outputs": [
    {
     "name": "stdout",
     "output_type": "stream",
     "text": [
      "CPU times: user 4.63 s, sys: 1.97 s, total: 6.61 s\n",
      "Wall time: 1.43 s\n"
     ]
    }
   ],
   "source": [
    "%%time\n",
    "prdtr = bst.predict(dftr[cols_feat],num_iteration=bst.best_iteration)\n",
    "prdvl = bst.predict(dfvl[cols_feat],num_iteration=bst.best_iteration)\n",
    "prdval0 = bst.predict(dfval[cols_feat],num_iteration=bst.best_iteration)\n",
    "prdval = calibration(prdval0, train_pop, target_pop, sampled_train_pop, sampled_target_pop)"
   ]
  },
  {
   "cell_type": "code",
   "execution_count": 26,
   "metadata": {},
   "outputs": [
    {
     "name": "stdout",
     "output_type": "stream",
     "text": [
      "CPU times: user 1.3 s, sys: 655 ms, total: 1.96 s\n",
      "Wall time: 1.35 s\n"
     ]
    }
   ],
   "source": [
    "%%time\n",
    "ytr,yvl,yval=[df[TCOL].values for df in (dftr,dfvl,dfval)]\n",
    "\n",
    "auc_tr=compute_prauc(prdtr, ytr)\n",
    "rce_tr=compute_rce(prdtr, ytr)\n",
    "auc_vl=compute_prauc(prdvl, yvl)\n",
    "rce_vl=compute_rce(prdvl, yvl)\n",
    "auc_val=compute_prauc(prdval, yval)\n",
    "rce_val=compute_rce(prdval, yval)\n",
    "\n",
    "results['scrs'] = {}\n",
    "results['scrs']['auc_tr']=auc_tr\n",
    "results['scrs']['rce_tr']=rce_tr\n",
    "results['scrs']['auc_vl']=auc_vl\n",
    "results['scrs']['rce_vl']=rce_vl\n",
    "results['scrs']['auc_val']=auc_val\n",
    "results['scrs']['rce_val']=rce_val"
   ]
  },
  {
   "cell_type": "code",
   "execution_count": 27,
   "metadata": {},
   "outputs": [
    {
     "name": "stdout",
     "output_type": "stream",
     "text": [
      "auc_tr:  0.4106\n",
      "auc_vl:  0.2880\n",
      "auc_val: 0.0932\n",
      "\n",
      "rce_tr:  21.8091\n",
      "rce_vl:  13.9178\n",
      "rce_val: 10.2881\n"
     ]
    }
   ],
   "source": [
    "print(f'auc_tr:  {auc_tr:.4f}')\n",
    "print(f'auc_vl:  {auc_vl:.4f}')\n",
    "print(f'auc_val: {auc_val:.4f}')\n",
    "print()\n",
    "print(f'rce_tr:  {rce_tr:.4f}')\n",
    "print(f'rce_vl:  {rce_vl:.4f}')\n",
    "print(f'rce_val: {rce_val:.4f}')"
   ]
  },
  {
   "cell_type": "code",
   "execution_count": 28,
   "metadata": {},
   "outputs": [
    {
     "name": "stdout",
     "output_type": "stream",
     "text": [
      "-0.0932-10.2881\n"
     ]
    }
   ],
   "source": [
    "print(f'-{auc_val:.4f}-{rce_val:.4f}')"
   ]
  },
  {
   "cell_type": "markdown",
   "metadata": {},
   "source": [
    "# save results"
   ]
  },
  {
   "cell_type": "code",
   "execution_count": 29,
   "metadata": {},
   "outputs": [],
   "source": [
    "pickle.dump(results, open(f'{p_out}/results_{PRFX}.p', 'wb'))"
   ]
  },
  {
   "cell_type": "markdown",
   "metadata": {},
   "source": [
    "# infer"
   ]
  },
  {
   "cell_type": "code",
   "execution_count": 30,
   "metadata": {},
   "outputs": [],
   "source": [
    "results = pickle.load( open(f'{p_out}/results_{PRFX}.p', 'rb'))\n",
    "bst = results['bst']\n",
    "col2tgtenc = results['col2tgtenc']\n",
    "cols_feat = results['cols_feat']\n",
    "tgt_encoder = results['tgt_encoder']"
   ]
  },
  {
   "cell_type": "markdown",
   "metadata": {},
   "source": [
    "## prep"
   ]
  },
  {
   "cell_type": "code",
   "execution_count": 31,
   "metadata": {},
   "outputs": [
    {
     "name": "stdout",
     "output_type": "stream",
     "text": [
      "CPU times: user 29.2 ms, sys: 100 ms, total: 130 ms\n",
      "Wall time: 17 ms\n"
     ]
    }
   ],
   "source": [
    "%%time\n",
    "dftst=pd.read_csv(\n",
    "    f'{p_in}/val_{tsttmstmp}.tsv',\n",
    "    sep='\\x01', header=None, names=cols_val, \n",
    "    nrows=10\n",
    ")"
   ]
  },
  {
   "cell_type": "code",
   "execution_count": 32,
   "metadata": {
    "scrolled": true
   },
   "outputs": [
    {
     "name": "stdout",
     "output_type": "stream",
     "text": [
      "2020-04-06 16:31:47 start\n",
      "2020-04-06 16:31:47 freq of columns using CountEncoder\n"
     ]
    },
    {
     "name": "stderr",
     "output_type": "stream",
     "text": [
      "/data/anaconda3/envs/rcss20/lib/python3.7/site-packages/category_encoders/count.py:255: FutureWarning: The pandas.np module is deprecated and will be removed from pandas in a future version. Import numpy directly instead\n",
      "  X.loc[:, self.cols] = X.fillna(value=pd.np.nan)\n"
     ]
    },
    {
     "name": "stdout",
     "output_type": "stream",
     "text": [
      "2020-04-06 16:31:47 freq of tags\n",
      "2020-04-06 16:31:47 done\n",
      "CPU times: user 207 ms, sys: 0 ns, total: 207 ms\n",
      "Wall time: 204 ms\n"
     ]
    }
   ],
   "source": [
    "%%time\n",
    "dftst=prp_df(dftst, tm_max=tm_tst_max)"
   ]
  },
  {
   "cell_type": "code",
   "execution_count": 33,
   "metadata": {},
   "outputs": [],
   "source": [
    "encoded_tst = tgt_encoder.transform(dftst[col2tgtenc].astype(object))\n",
    "tgtenc_columns = [f'tgtenc_{col}' for col in encoded_tst.columns]\n",
    "encoded_tst.columns = tgtenc_columns\n",
    "dftst = pd.concat([dftst, encoded_tst], 1)\n",
    "dftst.drop(columns=['u1id','u1u2'], inplace=True)\n",
    "cols_category=['twttyp', 'lang', 'langhour']\n",
    "dftst[cols_category]=dftst[cols_category].astype('category')"
   ]
  },
  {
   "cell_type": "markdown",
   "metadata": {},
   "source": [
    "## predict"
   ]
  },
  {
   "cell_type": "code",
   "execution_count": 34,
   "metadata": {},
   "outputs": [
    {
     "name": "stdout",
     "output_type": "stream",
     "text": [
      "CPU times: user 26.1 ms, sys: 3.62 ms, total: 29.8 ms\n",
      "Wall time: 57.9 ms\n"
     ]
    }
   ],
   "source": [
    "%%time\n",
    "prdtst0 = bst.predict(dftst[cols_feat],num_iteration=bst.best_iteration)\n",
    "prdtst = calibration(prdtst0, train_pop, target_pop, sampled_train_pop, sampled_target_pop)"
   ]
  },
  {
   "cell_type": "code",
   "execution_count": 35,
   "metadata": {},
   "outputs": [],
   "source": [
    "dfsub_ids = dftst[['twtid','u2id',]]\n",
    "dfsub = dfsub_ids.copy()\n",
    "dfsub['scr'] = prdtst\n",
    "dfsub.to_csv(f'{p_out}/{TGT}__{PRFX}.csv',index=False,header=False)"
   ]
  },
  {
   "cell_type": "code",
   "execution_count": null,
   "metadata": {},
   "outputs": [],
   "source": []
  },
  {
   "cell_type": "code",
   "execution_count": null,
   "metadata": {},
   "outputs": [],
   "source": []
  },
  {
   "cell_type": "code",
   "execution_count": null,
   "metadata": {},
   "outputs": [],
   "source": []
  }
 ],
 "metadata": {
  "kernelspec": {
   "display_name": "rcss20",
   "language": "python",
   "name": "rcss20"
  },
  "language_info": {
   "codemirror_mode": {
    "name": "ipython",
    "version": 3
   },
   "file_extension": ".py",
   "mimetype": "text/x-python",
   "name": "python",
   "nbconvert_exporter": "python",
   "pygments_lexer": "ipython3",
   "version": "3.7.6"
  },
  "toc": {
   "base_numbering": 1,
   "nav_menu": {},
   "number_sections": true,
   "sideBar": true,
   "skip_h1_title": false,
   "title_cell": "Table of Contents",
   "title_sidebar": "Contents",
   "toc_cell": false,
   "toc_position": {},
   "toc_section_display": true,
   "toc_window_display": true
  }
 },
 "nbformat": 4,
 "nbformat_minor": 4
}
