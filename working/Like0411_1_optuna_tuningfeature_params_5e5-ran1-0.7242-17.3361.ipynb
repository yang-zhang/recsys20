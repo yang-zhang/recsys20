{
 "cells": [
  {
   "cell_type": "markdown",
   "metadata": {},
   "source": [
    "# start"
   ]
  },
  {
   "cell_type": "markdown",
   "metadata": {},
   "source": [
    "- http://localhost:8081/notebooks/git/recsys20/working/0324_6_3_lgb_feat_engr-1e7.ipynb\n",
    "- http://localhost:8081/notebooks/git/recsys20/working/mdl0404_1__xgb_mean_encode.ipynb\n",
    "- http://localhost:8081/notebooks/git/recsys20/working/eda_0404_1.ipynb#v.s.-target\n",
    "- https://www.kaggle.com/discdiver/category-encoders-examples\n",
    "- https://www.kaggle.com/snakayama/lightgbm-using-optuna-optuna-lightgbm"
   ]
  },
  {
   "cell_type": "code",
   "execution_count": 1,
   "metadata": {},
   "outputs": [
    {
     "name": "stdout",
     "output_type": "stream",
     "text": [
      "train_total 148,075,238, test_total 14,000,000\n",
      "['2020-03-17 02:32:24', '2020-04-06 00:35:47']\n",
      "['2020-02-06 00:00:00', '2020-02-12 23:59:59']\n",
      "['2020-02-13 00:00:00', '2020-02-19 23:59:59']\n"
     ]
    }
   ],
   "source": [
    "TGT='Like'\n",
    "PRFX='Like0411_1'\n",
    "\n",
    "trntmstmp=1584412344\n",
    "tsttmstmp=1586133347\n",
    "\n",
    "tm_trn_min,tm_trn_max=(1580947200, 1581551999)\n",
    "tm_tst_min,tm_tst_max=(1581552000, 1582156799)\n",
    "\n",
    "SEED=101\n",
    "\n",
    "valsz = int(5e5)#int(1e5)\n",
    "trnsz = int(5e5)#int(5e5)\n",
    "\n",
    "train_total=148075238\n",
    "test_total=int(1.4e7)\n",
    "print(f'train_total {train_total:,}, test_total {test_total:,}')\n",
    "\n",
    "\n",
    "import datetime\n",
    "def showtm(tm): return datetime.datetime.fromtimestamp(tm).strftime('%Y-%m-%d %H:%M:%S')\n",
    "print([showtm(tm) for tm in (trntmstmp, tsttmstmp)])\n",
    "print([showtm(tm) for tm in (tm_trn_min,tm_trn_max)])\n",
    "print([showtm(tm) for tm in (tm_tst_min,tm_tst_max)])"
   ]
  },
  {
   "cell_type": "markdown",
   "metadata": {},
   "source": [
    "# setup"
   ]
  },
  {
   "cell_type": "code",
   "execution_count": 2,
   "metadata": {},
   "outputs": [
    {
     "name": "stdout",
     "output_type": "stream",
     "text": [
      "TCOL like\n",
      "{'Retweet': 'retwt', 'Reply': 'reply', 'Like': 'like', 'RTwCmnt': 'retwt_cmmnt'}\n"
     ]
    }
   ],
   "source": [
    "from tqdm import tqdm\n",
    "import time\n",
    "from pathlib import Path\n",
    "from collections import Counter,defaultdict\n",
    "from sklearn.model_selection import train_test_split\n",
    "import pandas as pd\n",
    "import numpy as np\n",
    "import matplotlib.pyplot as plt\n",
    "from sklearn.metrics import accuracy_score, roc_auc_score, roc_curve, auc, precision_recall_curve\n",
    "import pickle\n",
    "# import xgboost as xgb\n",
    "# import lightgbm as lgb\n",
    "import category_encoders as ce\n",
    "import gc\n",
    "\n",
    "import optuna\n",
    "# optuna.logging.CRITICAL, optuna.logging.FATAL\n",
    "# optuna.logging.ERROR\n",
    "# optuna.logging.WARNING, optuna.logging.WARN\n",
    "# optuna.logging.INFO\n",
    "# optuna.logging.DEBUG\n",
    "# optuna.logging.set_verbosity(optuna.logging.ERROR)\n",
    "import optuna.integration.lightgbm as lgb\n",
    "optuna.logging.disable_default_handler()\n",
    "\n",
    "\n",
    "pd.set_option('display.max_rows', 500)\n",
    "pd.set_option('display.max_columns', 500)\n",
    "\n",
    "\n",
    "import datetime\n",
    "def dtnow(): return datetime.datetime.now().strftime('%Y-%m-%d %H:%M:%S')\n",
    "\n",
    "def iou(s1,s2):\n",
    "    return len(s1&s2) / len(s1|s2)\n",
    "\n",
    "HOME='/data/git/recsys20'\n",
    "p_in=f'{HOME}/input'\n",
    "p_out=f'{HOME}/output/{PRFX}'\n",
    "Path(p_out).mkdir(exist_ok=True, parents=True)\n",
    "\n",
    "from sklearn.metrics import precision_recall_curve, auc, log_loss\n",
    "\n",
    "def compute_prauc(pred, gt):\n",
    "    prec, recall, thresh = precision_recall_curve(gt, pred)\n",
    "    prauc = auc(recall, prec)\n",
    "    return prauc\n",
    "\n",
    "def calculate_ctr(gt):\n",
    "    positive = len([x for x in gt if x == 1])\n",
    "    ctr = positive/float(len(gt))\n",
    "    return ctr\n",
    "\n",
    "def compute_rce(pred, gt):\n",
    "    cross_entropy = log_loss(gt, pred)\n",
    "    data_ctr = calculate_ctr(gt)\n",
    "    strawman_cross_entropy = log_loss(gt, [data_ctr for _ in range(len(gt))])\n",
    "    return (1.0 - cross_entropy/strawman_cross_entropy)*100.0\n",
    "\n",
    "# https://towardsdatascience.com/how-to-calibrate-undersampled-model-scores-8f3319c1ea5b\n",
    "# How to use the function?\n",
    "# Let’s say your goal is to generate a model that shows the credit default probabilities and your original \n",
    "# training data has 50,000 rows with only 500 of them labeled as target class. When you sample your non-target \n",
    "# instances randomly and reduce the total row count to 10,000, while conserving 500 target rows, our calibration\n",
    "# function becomes:\n",
    "# calibration(model_results, 50000, 500, 10000, 500)\n",
    "# Here model_results is your model probability output array. After you train your model and put the results in it, your function is ready to use. \n",
    "def calibration(data, train_pop, target_pop, sampled_train_pop, sampled_target_pop):\n",
    "    calibrated_data = ((data * (target_pop / train_pop) / (sampled_target_pop / sampled_train_pop)) /\n",
    "    (((1 - data) * (1 - target_pop / train_pop) / (1 - sampled_target_pop / sampled_train_pop)) +\n",
    "     (data * (target_pop / train_pop) / (sampled_target_pop / sampled_train_pop))))\n",
    "    return calibrated_data\n",
    "\n",
    "\n",
    "cols=['toks','hshtgs','twtid','media','links','domns','twttyp','lang','tm','u1id','u1_fllwer_cnt','u1_fllwing_cnt','u1_vrfed','u1_create_tm','u2id','u2_fllwer_cnt','u2_fllwng_cnt','u2_vrfed','u2_create_tm','u1_fllw_u2','reply_tm','retwt_tm','retwt_cmmnt_tm','like_tm',]\n",
    "\n",
    "cols_val = cols[:-4]\n",
    "cols_tgt_tmstmp=[ 'retwt_tm', 'reply_tm', 'like_tm', 'retwt_cmmnt_tm',]\n",
    "cols_tgt=[o.split('_tm')[0] for o in cols_tgt_tmstmp]\n",
    "tgts             = ['Retweet','Reply','Like','RTwCmnt',]\n",
    "assert cols_tgt == ['retwt',  'reply','like','retwt_cmmnt',]\n",
    "tgt2col = dict(zip(tgts, cols_tgt))\n",
    "TCOL=tgt2col[TGT]\n",
    "print('TCOL', TCOL)\n",
    "print(tgt2col)"
   ]
  },
  {
   "cell_type": "markdown",
   "metadata": {},
   "source": [
    "# prep"
   ]
  },
  {
   "cell_type": "code",
   "execution_count": 3,
   "metadata": {},
   "outputs": [],
   "source": [
    "def prp_tgt(df):\n",
    "    df[cols_tgt]=df[cols_tgt_tmstmp].notna()\n",
    "    df.drop(columns=cols_tgt_tmstmp, inplace=True)\n",
    "    display(df[cols_tgt].mean())"
   ]
  },
  {
   "cell_type": "code",
   "execution_count": 4,
   "metadata": {
    "scrolled": false
   },
   "outputs": [
    {
     "name": "stdout",
     "output_type": "stream",
     "text": [
      "(500000, 24)\n"
     ]
    },
    {
     "data": {
      "text/plain": [
       "retwt          0.112638\n",
       "reply          0.027980\n",
       "like           0.439010\n",
       "retwt_cmmnt    0.007676\n",
       "dtype: float64"
      ]
     },
     "metadata": {},
     "output_type": "display_data"
    },
    {
     "name": "stdout",
     "output_type": "stream",
     "text": [
      "CPU times: user 3.23 s, sys: 500 ms, total: 3.73 s\n",
      "Wall time: 3.73 s\n"
     ]
    }
   ],
   "source": [
    "%%time\n",
    "dfval = pd.read_csv(f'{p_in}/trn_{trntmstmp}.tsv',sep='\\x01',header=None,names=cols,nrows=valsz)\n",
    "print(dfval.shape)\n",
    "prp_tgt(dfval)"
   ]
  },
  {
   "cell_type": "markdown",
   "metadata": {},
   "source": [
    "## maybe oversample"
   ]
  },
  {
   "cell_type": "code",
   "execution_count": 5,
   "metadata": {},
   "outputs": [],
   "source": [
    "# df = pd.read_csv(f'{p_in}/trn_{trntmstmp}.tsv',sep='\\x01',header=None,names=cols,nrows=5)\n",
    "# dfval = pd.read_csv(f'{p_in}/trn_{trntmstmp}.tsv',sep='\\x01',header=None,names=cols,nrows=2)\n",
    "# dftrn = pd.read_csv(f'{p_in}/trn_{trntmstmp}.tsv',sep='\\x01',header=None,names=cols,skiprows=2,nrows=3)\n",
    "# display(df.twtid)\n",
    "# display(dfval.twtid)\n",
    "# display(dftrn.twtid)\n",
    "\n",
    "# 0    D4D1EBDE74F74C5DA529959AF979625C\n",
    "# 1    BFB529DAB6D384EB83E899A72AB3830D\n",
    "# 2    519078C7834E9642508F72A6C2D0F3B7\n",
    "# 3    52AAE9E33EFAC8C478C57B31A9E31ED1\n",
    "# 4    89C1298C55EB3D68E2784F0BFB69E6F8\n",
    "# Name: twtid, dtype: object\n",
    "# 0    D4D1EBDE74F74C5DA529959AF979625C\n",
    "# 1    BFB529DAB6D384EB83E899A72AB3830D\n",
    "# Name: twtid, dtype: object\n",
    "# 0    519078C7834E9642508F72A6C2D0F3B7\n",
    "# 1    52AAE9E33EFAC8C478C57B31A9E31ED1\n",
    "# 2    89C1298C55EB3D68E2784F0BFB69E6F8\n",
    "# Name: twtid, dtype: object"
   ]
  },
  {
   "cell_type": "code",
   "execution_count": 6,
   "metadata": {
    "scrolled": true
   },
   "outputs": [
    {
     "name": "stdout",
     "output_type": "stream",
     "text": [
      "(500000, 24)\n"
     ]
    },
    {
     "data": {
      "text/plain": [
       "retwt          0.113632\n",
       "reply          0.027396\n",
       "like           0.438598\n",
       "retwt_cmmnt    0.007824\n",
       "dtype: float64"
      ]
     },
     "metadata": {},
     "output_type": "display_data"
    },
    {
     "name": "stdout",
     "output_type": "stream",
     "text": [
      "CPU times: user 4.11 s, sys: 352 ms, total: 4.46 s\n",
      "Wall time: 4.46 s\n"
     ]
    }
   ],
   "source": [
    "%%time\n",
    "if TGT in ('Retweet','Like'): trnpop=trnsz\n",
    "if TGT=='Reply': trnpop=trnsz*3.7\n",
    "if TGT=='RTwCmnt': trnpop=trnsz*11.5\n",
    "assert trnpop<train_total\n",
    "\n",
    "dftrn = pd.read_csv(f'{p_in}/trn_{trntmstmp}.tsv',sep='\\x01',header=None,names=cols,\n",
    "                     skiprows=valsz, nrows=trnpop)\n",
    "print(dftrn.shape)\n",
    "prp_tgt(dftrn)"
   ]
  },
  {
   "cell_type": "code",
   "execution_count": 7,
   "metadata": {
    "scrolled": true
   },
   "outputs": [
    {
     "name": "stdout",
     "output_type": "stream",
     "text": [
      "(500000, 24) 0.438598\n",
      "500000 219299 500000 219299\n"
     ]
    },
    {
     "data": {
      "text/html": [
       "<div>\n",
       "<style scoped>\n",
       "    .dataframe tbody tr th:only-of-type {\n",
       "        vertical-align: middle;\n",
       "    }\n",
       "\n",
       "    .dataframe tbody tr th {\n",
       "        vertical-align: top;\n",
       "    }\n",
       "\n",
       "    .dataframe thead th {\n",
       "        text-align: right;\n",
       "    }\n",
       "</style>\n",
       "<table border=\"1\" class=\"dataframe\">\n",
       "  <thead>\n",
       "    <tr style=\"text-align: right;\">\n",
       "      <th></th>\n",
       "      <th>toks</th>\n",
       "      <th>hshtgs</th>\n",
       "      <th>twtid</th>\n",
       "      <th>media</th>\n",
       "      <th>links</th>\n",
       "      <th>domns</th>\n",
       "      <th>twttyp</th>\n",
       "      <th>lang</th>\n",
       "      <th>tm</th>\n",
       "      <th>u1id</th>\n",
       "      <th>u1_fllwer_cnt</th>\n",
       "      <th>u1_fllwing_cnt</th>\n",
       "      <th>u1_vrfed</th>\n",
       "      <th>u1_create_tm</th>\n",
       "      <th>u2id</th>\n",
       "      <th>u2_fllwer_cnt</th>\n",
       "      <th>u2_fllwng_cnt</th>\n",
       "      <th>u2_vrfed</th>\n",
       "      <th>u2_create_tm</th>\n",
       "      <th>u1_fllw_u2</th>\n",
       "      <th>retwt</th>\n",
       "      <th>reply</th>\n",
       "      <th>like</th>\n",
       "      <th>retwt_cmmnt</th>\n",
       "    </tr>\n",
       "  </thead>\n",
       "  <tbody>\n",
       "    <tr>\n",
       "      <th>0</th>\n",
       "      <td>101\\t56898\\t137\\t14248\\t10567\\t77966\\t11166\\t1...</td>\n",
       "      <td>NaN</td>\n",
       "      <td>A964AF200DAFFEBCB632CE2196DFBE6F</td>\n",
       "      <td>NaN</td>\n",
       "      <td>NaN</td>\n",
       "      <td>NaN</td>\n",
       "      <td>Retweet</td>\n",
       "      <td>022EC308651FACB02794A8147AEE1B78</td>\n",
       "      <td>1581227402</td>\n",
       "      <td>E43C242721C2336F88D163ADFDB2A364</td>\n",
       "      <td>27901</td>\n",
       "      <td>306</td>\n",
       "      <td>False</td>\n",
       "      <td>1351736247</td>\n",
       "      <td>06E9B34C49824F5C612B01F3DF66C4B8</td>\n",
       "      <td>48</td>\n",
       "      <td>977</td>\n",
       "      <td>False</td>\n",
       "      <td>1493475569</td>\n",
       "      <td>False</td>\n",
       "      <td>True</td>\n",
       "      <td>False</td>\n",
       "      <td>False</td>\n",
       "      <td>False</td>\n",
       "    </tr>\n",
       "    <tr>\n",
       "      <th>1</th>\n",
       "      <td>101\\t29922\\t10230\\t112\\t11368\\t112\\t12469\\t169...</td>\n",
       "      <td>NaN</td>\n",
       "      <td>CA95806CCD16ADD6164D8B632345A5B6</td>\n",
       "      <td>NaN</td>\n",
       "      <td>NaN</td>\n",
       "      <td>NaN</td>\n",
       "      <td>TopLevel</td>\n",
       "      <td>D3164C7FBCF2565DDF915B1B3AEFB1DC</td>\n",
       "      <td>1581415813</td>\n",
       "      <td>520F4141FB74447AA2D5100C12656DF2</td>\n",
       "      <td>190829</td>\n",
       "      <td>2227</td>\n",
       "      <td>True</td>\n",
       "      <td>1246308293</td>\n",
       "      <td>06E9B485CA5F2757CB554B0244FE2FA4</td>\n",
       "      <td>2024</td>\n",
       "      <td>1227</td>\n",
       "      <td>False</td>\n",
       "      <td>1234745553</td>\n",
       "      <td>False</td>\n",
       "      <td>False</td>\n",
       "      <td>False</td>\n",
       "      <td>True</td>\n",
       "      <td>False</td>\n",
       "    </tr>\n",
       "    <tr>\n",
       "      <th>2</th>\n",
       "      <td>101\\t16358\\t10107\\t117\\t146\\t100\\t181\\t32342\\t...</td>\n",
       "      <td>NaN</td>\n",
       "      <td>EAB281F4E0B985324DB134D922D7753C</td>\n",
       "      <td>NaN</td>\n",
       "      <td>NaN</td>\n",
       "      <td>NaN</td>\n",
       "      <td>Quote</td>\n",
       "      <td>D3164C7FBCF2565DDF915B1B3AEFB1DC</td>\n",
       "      <td>1581524517</td>\n",
       "      <td>EC1254C86CED1D8F2B556786329FD939</td>\n",
       "      <td>225223</td>\n",
       "      <td>1365</td>\n",
       "      <td>True</td>\n",
       "      <td>1238211373</td>\n",
       "      <td>06E9B485CA5F2757CB554B0244FE2FA4</td>\n",
       "      <td>2024</td>\n",
       "      <td>1227</td>\n",
       "      <td>False</td>\n",
       "      <td>1234745553</td>\n",
       "      <td>False</td>\n",
       "      <td>True</td>\n",
       "      <td>False</td>\n",
       "      <td>True</td>\n",
       "      <td>False</td>\n",
       "    </tr>\n",
       "    <tr>\n",
       "      <th>3</th>\n",
       "      <td>101\\t49004\\t24951\\t11517\\t21793\\t49004\\t46900\\...</td>\n",
       "      <td>E35EBE28C67E02E3EAABD4D383303A10\\tBF43374FADDC...</td>\n",
       "      <td>55F436653590B79DC49DCA2FC5E6BA6E</td>\n",
       "      <td>Photo</td>\n",
       "      <td>NaN</td>\n",
       "      <td>NaN</td>\n",
       "      <td>TopLevel</td>\n",
       "      <td>06D61DCBBE938971E1EA0C38BD9B5446</td>\n",
       "      <td>1581098413</td>\n",
       "      <td>09567D1DEB473ABA2CD04D06F1F6D22D</td>\n",
       "      <td>3110429</td>\n",
       "      <td>39</td>\n",
       "      <td>True</td>\n",
       "      <td>1243169868</td>\n",
       "      <td>06E9B6ABEB6C57CA5A394DADF375D940</td>\n",
       "      <td>557</td>\n",
       "      <td>466</td>\n",
       "      <td>False</td>\n",
       "      <td>1509320658</td>\n",
       "      <td>False</td>\n",
       "      <td>False</td>\n",
       "      <td>False</td>\n",
       "      <td>True</td>\n",
       "      <td>False</td>\n",
       "    </tr>\n",
       "    <tr>\n",
       "      <th>4</th>\n",
       "      <td>101\\t320\\t108660\\t18492\\t105861\\t26349\\t10174\\...</td>\n",
       "      <td>NaN</td>\n",
       "      <td>2F374BA8A03CFA7B51594FBBD45E4BA6</td>\n",
       "      <td>Photo</td>\n",
       "      <td>E07397470C5AD4AC2420A832A49E045B</td>\n",
       "      <td>476213C6321CD12B64C1FB76A6CE02CA</td>\n",
       "      <td>TopLevel</td>\n",
       "      <td>4DC22C3F31C5C43721E6B5815A595ED6</td>\n",
       "      <td>1581158393</td>\n",
       "      <td>DF856F242E9519638FD447D0CCFA06DF</td>\n",
       "      <td>4245504</td>\n",
       "      <td>54</td>\n",
       "      <td>True</td>\n",
       "      <td>1248789982</td>\n",
       "      <td>06E9B7217C92B280231E835F1B686176</td>\n",
       "      <td>8</td>\n",
       "      <td>74</td>\n",
       "      <td>False</td>\n",
       "      <td>1346060212</td>\n",
       "      <td>False</td>\n",
       "      <td>False</td>\n",
       "      <td>False</td>\n",
       "      <td>False</td>\n",
       "      <td>False</td>\n",
       "    </tr>\n",
       "  </tbody>\n",
       "</table>\n",
       "</div>"
      ],
      "text/plain": [
       "                                                toks  \\\n",
       "0  101\\t56898\\t137\\t14248\\t10567\\t77966\\t11166\\t1...   \n",
       "1  101\\t29922\\t10230\\t112\\t11368\\t112\\t12469\\t169...   \n",
       "2  101\\t16358\\t10107\\t117\\t146\\t100\\t181\\t32342\\t...   \n",
       "3  101\\t49004\\t24951\\t11517\\t21793\\t49004\\t46900\\...   \n",
       "4  101\\t320\\t108660\\t18492\\t105861\\t26349\\t10174\\...   \n",
       "\n",
       "                                              hshtgs  \\\n",
       "0                                                NaN   \n",
       "1                                                NaN   \n",
       "2                                                NaN   \n",
       "3  E35EBE28C67E02E3EAABD4D383303A10\\tBF43374FADDC...   \n",
       "4                                                NaN   \n",
       "\n",
       "                              twtid  media                             links  \\\n",
       "0  A964AF200DAFFEBCB632CE2196DFBE6F    NaN                               NaN   \n",
       "1  CA95806CCD16ADD6164D8B632345A5B6    NaN                               NaN   \n",
       "2  EAB281F4E0B985324DB134D922D7753C    NaN                               NaN   \n",
       "3  55F436653590B79DC49DCA2FC5E6BA6E  Photo                               NaN   \n",
       "4  2F374BA8A03CFA7B51594FBBD45E4BA6  Photo  E07397470C5AD4AC2420A832A49E045B   \n",
       "\n",
       "                              domns    twttyp  \\\n",
       "0                               NaN   Retweet   \n",
       "1                               NaN  TopLevel   \n",
       "2                               NaN     Quote   \n",
       "3                               NaN  TopLevel   \n",
       "4  476213C6321CD12B64C1FB76A6CE02CA  TopLevel   \n",
       "\n",
       "                               lang          tm  \\\n",
       "0  022EC308651FACB02794A8147AEE1B78  1581227402   \n",
       "1  D3164C7FBCF2565DDF915B1B3AEFB1DC  1581415813   \n",
       "2  D3164C7FBCF2565DDF915B1B3AEFB1DC  1581524517   \n",
       "3  06D61DCBBE938971E1EA0C38BD9B5446  1581098413   \n",
       "4  4DC22C3F31C5C43721E6B5815A595ED6  1581158393   \n",
       "\n",
       "                               u1id  u1_fllwer_cnt  u1_fllwing_cnt  u1_vrfed  \\\n",
       "0  E43C242721C2336F88D163ADFDB2A364          27901             306     False   \n",
       "1  520F4141FB74447AA2D5100C12656DF2         190829            2227      True   \n",
       "2  EC1254C86CED1D8F2B556786329FD939         225223            1365      True   \n",
       "3  09567D1DEB473ABA2CD04D06F1F6D22D        3110429              39      True   \n",
       "4  DF856F242E9519638FD447D0CCFA06DF        4245504              54      True   \n",
       "\n",
       "   u1_create_tm                              u2id  u2_fllwer_cnt  \\\n",
       "0    1351736247  06E9B34C49824F5C612B01F3DF66C4B8             48   \n",
       "1    1246308293  06E9B485CA5F2757CB554B0244FE2FA4           2024   \n",
       "2    1238211373  06E9B485CA5F2757CB554B0244FE2FA4           2024   \n",
       "3    1243169868  06E9B6ABEB6C57CA5A394DADF375D940            557   \n",
       "4    1248789982  06E9B7217C92B280231E835F1B686176              8   \n",
       "\n",
       "   u2_fllwng_cnt  u2_vrfed  u2_create_tm  u1_fllw_u2  retwt  reply   like  \\\n",
       "0            977     False    1493475569       False   True  False  False   \n",
       "1           1227     False    1234745553       False  False  False   True   \n",
       "2           1227     False    1234745553       False   True  False   True   \n",
       "3            466     False    1509320658       False  False  False   True   \n",
       "4             74     False    1346060212       False  False  False  False   \n",
       "\n",
       "   retwt_cmmnt  \n",
       "0        False  \n",
       "1        False  \n",
       "2        False  \n",
       "3        False  \n",
       "4        False  "
      ]
     },
     "metadata": {},
     "output_type": "display_data"
    },
    {
     "data": {
      "text/plain": [
       "Index(['toks', 'hshtgs', 'twtid', 'media', 'links', 'domns', 'twttyp', 'lang',\n",
       "       'tm', 'u1id', 'u1_fllwer_cnt', 'u1_fllwing_cnt', 'u1_vrfed',\n",
       "       'u1_create_tm', 'u2id', 'u2_fllwer_cnt', 'u2_fllwng_cnt', 'u2_vrfed',\n",
       "       'u2_create_tm', 'u1_fllw_u2', 'retwt', 'reply', 'like', 'retwt_cmmnt'],\n",
       "      dtype='object')"
      ]
     },
     "metadata": {},
     "output_type": "display_data"
    }
   ],
   "source": [
    "train_pop=len(dftrn)\n",
    "sampled_train_pop=trnsz\n",
    "idx_pos = np.where(dftrn[TCOL])[0]\n",
    "target_pop=sampled_target_pop=len(idx_pos)\n",
    "if TGT in ('Reply','RTwCmnt'):\n",
    "    idx_neg0 = np.where(~dftrn[TCOL])[0]\n",
    "    idx_neg = np.random.choice(idx_neg0, trnsz-len(idx_pos), replace=False)\n",
    "    idx = np.concatenate([idx_pos,idx_neg])\n",
    "    dftrn = dftrn.iloc[idx].copy()\n",
    "print(dftrn.shape, dftrn[TCOL].mean())\n",
    "print(train_pop, target_pop, sampled_train_pop, sampled_target_pop)\n",
    "\n",
    "display(dftrn.head())\n",
    "display(dftrn.columns)"
   ]
  },
  {
   "cell_type": "markdown",
   "metadata": {},
   "source": [
    "## prep and features"
   ]
  },
  {
   "cell_type": "code",
   "execution_count": 8,
   "metadata": {},
   "outputs": [],
   "source": [
    "def prp_df(df, tm_max):\n",
    "    '''\n",
    "    tm_max = tm_trn_max for train tm_tst_max for test\n",
    "    '''\n",
    "    lendf = len(df)\n",
    "    print(dtnow(), 'start')\n",
    "    set_u1 = set(df.u1id)\n",
    "    set_u2 = set(df.u2id)\n",
    "    df['u1inu2']=df.u1id.isin(set_u2)\n",
    "    df['u2inu1']=df.u2id.isin(set_u1)\n",
    "\n",
    "    #counts\n",
    "    df['len_toks'] = df.toks.apply(lambda x: len(x.split('\\t')))\n",
    "    df.drop(columns=['toks'], inplace=True)    \n",
    "    for m in ['Photo', 'Video', 'GIF']:\n",
    "        df[f'n_media_{m}'] = df['media'].fillna('').apply(lambda x: x.split('\\t').count(m))\n",
    "    tgnms = ['hshtgs','media', 'links', 'domns',]\n",
    "    for tgnm in tgnms:\n",
    "        df[f'has_{tgnm}']=df[tgnm].notna()\n",
    "        df[f'lst_{tgnm}'] = df[tgnm].fillna('').apply(lambda x: x.split('\\t') if len(x) else [])\n",
    "        df[f'n_{tgnm}'] = df[f'lst_{tgnm}'].apply(len)  \n",
    "    df.drop(columns=['has_links','n_links'], inplace=True) #duplicates has_domns,n_domns \n",
    "    \n",
    "    #time\n",
    "    dt = pd.to_datetime(df.tm, unit='s')\n",
    "    df['dayofweek'] = dt.dt.dayofweek\n",
    "    df['hour'] = dt.dt.hour\n",
    "    \n",
    "    df['tmdlta_u2u1']  = df.u2_create_tm - df.u1_create_tm\n",
    "    df['tmdlta_twtu1'] = df.tm - df.u1_create_tm\n",
    "    df['tmdlta_twtu2'] = df.tm - df.u2_create_tm\n",
    "\n",
    "    df['twt_age']   = tm_max-df.tm\n",
    "    df['u1_age']    = tm_max-df.u1_create_tm\n",
    "    df['u2_age']    = tm_max-df.u2_create_tm\n",
    "    df.drop(columns=['tm', 'u1_create_tm', 'u2_create_tm'], inplace=True)\n",
    "\n",
    "    #time derived\n",
    "    df['u1_fllwer_cnt_by_age'] = df.u1_fllwer_cnt / df.u1_age\n",
    "    df['u1_fllwng_cnt_by_age'] = df.u2_fllwng_cnt / df.u2_age\n",
    "    \n",
    "    #interaction\n",
    "    df['u1u2']=df.u1id+'_'+df.u2id\n",
    "    df['langhour']=df.lang+'_'+df.hour.astype(str)\n",
    "    \n",
    "\n",
    "    #freq of feature values\n",
    "    print(dtnow(), 'freq of columns using CountEncoder')\n",
    "    encoder = ce.CountEncoder()\n",
    "    encoded = encoder.fit_transform(\n",
    "    df[['twtid', 'twttyp', 'lang', 'u1id', 'u1_fllwing_cnt', 'u1_vrfed', 'u2id', 'u2_fllwer_cnt', 'u2_vrfed', 'u1_fllw_u2', \n",
    "       'n_media_Photo', 'n_media_Video', 'n_media_GIF', \n",
    "       'has_hshtgs', 'n_hshtgs', 'has_media', 'n_media','has_domns', 'n_domns', \n",
    "       'dayofweek', 'hour', 'u1u2', 'langhour']].astype(object))\n",
    "    encoded = encoded.astype(int)/lendf\n",
    "    encoded.columns = [f'frq_{col}' for col in encoded.columns]\n",
    "    df = pd.concat([df,encoded],1)\n",
    "    \n",
    "    #freq of tgnm values\n",
    "    print(dtnow(), 'freq of tags')\n",
    "    for tgnm in tgnms:\n",
    "        vs = [j for i in df[f'lst_{tgnm}'] for j in i]\n",
    "        cnt = Counter(vs)\n",
    "        frq = {k:v/lendf for k,v in cnt.items()}\n",
    "        df[f'sumfrq_{tgnm}']=df[f'lst_{tgnm}'].apply(lambda x: sum([frq.get(o,0) for o in x]))\n",
    "        df[f'maxfrq_{tgnm}']=df[f'lst_{tgnm}'].apply(lambda x: max([frq.get(o,0) for o in x]) if len(x) else 0)\n",
    "    df.drop(columns=tgnms+[f'lst_{tgnm}' for tgnm in tgnms],inplace=True)\n",
    "\n",
    "    print(dtnow(), 'done')\n",
    "    return df"
   ]
  },
  {
   "cell_type": "code",
   "execution_count": 9,
   "metadata": {},
   "outputs": [
    {
     "name": "stdout",
     "output_type": "stream",
     "text": [
      "2020-04-12 02:29:45 start\n",
      "2020-04-12 02:29:53 freq of columns using CountEncoder\n"
     ]
    },
    {
     "name": "stderr",
     "output_type": "stream",
     "text": [
      "/data/anaconda3/envs/rcss20/lib/python3.7/site-packages/category_encoders/count.py:255: FutureWarning: The pandas.np module is deprecated and will be removed from pandas in a future version. Import numpy directly instead\n",
      "  X.loc[:, self.cols] = X.fillna(value=pd.np.nan)\n"
     ]
    },
    {
     "name": "stdout",
     "output_type": "stream",
     "text": [
      "2020-04-12 02:30:05 freq of tags\n",
      "2020-04-12 02:30:09 done\n",
      "CPU times: user 20.8 s, sys: 3 s, total: 23.8 s\n",
      "Wall time: 23.6 s\n"
     ]
    }
   ],
   "source": [
    "%%time\n",
    "dftrn=prp_df(dftrn, tm_max=tm_trn_max)"
   ]
  },
  {
   "cell_type": "code",
   "execution_count": 10,
   "metadata": {},
   "outputs": [
    {
     "name": "stdout",
     "output_type": "stream",
     "text": [
      "2020-04-12 02:30:09 start\n",
      "2020-04-12 02:30:16 freq of columns using CountEncoder\n",
      "2020-04-12 02:30:28 freq of tags\n",
      "2020-04-12 02:30:32 done\n",
      "CPU times: user 20.3 s, sys: 2.97 s, total: 23.3 s\n",
      "Wall time: 23.2 s\n"
     ]
    }
   ],
   "source": [
    "%%time\n",
    "dfval=prp_df(dfval, tm_max=tm_trn_max)"
   ]
  },
  {
   "cell_type": "markdown",
   "metadata": {},
   "source": [
    "## tr vl split and target encoding"
   ]
  },
  {
   "cell_type": "code",
   "execution_count": 11,
   "metadata": {},
   "outputs": [
    {
     "data": {
      "text/plain": [
       "30"
      ]
     },
     "execution_count": 11,
     "metadata": {},
     "output_type": "execute_result"
    }
   ],
   "source": [
    "msk_vl=np.random.rand(len(dftrn))<0.15\n",
    "idxvl=np.where( msk_vl)[0]\n",
    "idxtr=np.where(~msk_vl)[0]\n",
    "\n",
    "dftr = dftrn.iloc[idxtr].copy()\n",
    "dfvl = dftrn.iloc[idxvl].copy()\n",
    "del dftrn\n",
    "\n",
    "gc.collect()"
   ]
  },
  {
   "cell_type": "code",
   "execution_count": 12,
   "metadata": {},
   "outputs": [
    {
     "data": {
      "text/plain": [
       "Index(['twtid', 'twttyp', 'lang', 'u1id', 'u1_fllwer_cnt', 'u1_fllwing_cnt',\n",
       "       'u1_vrfed', 'u2id', 'u2_fllwer_cnt', 'u2_fllwng_cnt', 'u2_vrfed',\n",
       "       'u1_fllw_u2', 'retwt', 'reply', 'like', 'retwt_cmmnt', 'u1inu2',\n",
       "       'u2inu1', 'len_toks', 'n_media_Photo', 'n_media_Video', 'n_media_GIF',\n",
       "       'has_hshtgs', 'n_hshtgs', 'has_media', 'n_media', 'has_domns',\n",
       "       'n_domns', 'dayofweek', 'hour', 'tmdlta_u2u1', 'tmdlta_twtu1',\n",
       "       'tmdlta_twtu2', 'twt_age', 'u1_age', 'u2_age', 'u1_fllwer_cnt_by_age',\n",
       "       'u1_fllwng_cnt_by_age', 'u1u2', 'langhour', 'frq_twtid', 'frq_twttyp',\n",
       "       'frq_lang', 'frq_u1id', 'frq_u1_fllwing_cnt', 'frq_u1_vrfed',\n",
       "       'frq_u2id', 'frq_u2_fllwer_cnt', 'frq_u2_vrfed', 'frq_u1_fllw_u2',\n",
       "       'frq_n_media_Photo', 'frq_n_media_Video', 'frq_n_media_GIF',\n",
       "       'frq_has_hshtgs', 'frq_n_hshtgs', 'frq_has_media', 'frq_n_media',\n",
       "       'frq_has_domns', 'frq_n_domns', 'frq_dayofweek', 'frq_hour', 'frq_u1u2',\n",
       "       'frq_langhour', 'sumfrq_hshtgs', 'maxfrq_hshtgs', 'sumfrq_media',\n",
       "       'maxfrq_media', 'sumfrq_links', 'maxfrq_links', 'sumfrq_domns',\n",
       "       'maxfrq_domns'],\n",
       "      dtype='object')"
      ]
     },
     "execution_count": 12,
     "metadata": {},
     "output_type": "execute_result"
    }
   ],
   "source": [
    "dftr.columns"
   ]
  },
  {
   "cell_type": "code",
   "execution_count": 13,
   "metadata": {},
   "outputs": [
    {
     "name": "stdout",
     "output_type": "stream",
     "text": [
      "CPU times: user 21 s, sys: 3.98 s, total: 24.9 s\n",
      "Wall time: 24.9 s\n"
     ]
    }
   ],
   "source": [
    "%%time\n",
    "col2tgtenc=['twtid', 'twttyp', 'lang', 'u1id', 'u1_fllwing_cnt', 'u1_vrfed', 'u2id', 'u2_fllwer_cnt', 'u2_vrfed', 'u1_fllw_u2', \n",
    "   'n_media_Photo', 'n_media_Video', 'n_media_GIF', \n",
    "   'has_hshtgs', 'n_hshtgs', 'has_media', 'n_media','has_domns', 'n_domns', \n",
    "   'dayofweek', 'hour', 'u1u2', 'langhour']\n",
    "tgt_encoder = ce.TargetEncoder()\n",
    "encoded_tr = tgt_encoder.fit_transform(dftr[col2tgtenc].astype(object), dftr[TCOL])\n",
    "encoded_vl = tgt_encoder.transform(dfvl[col2tgtenc].astype(object))\n",
    "encoded_val = tgt_encoder.transform(dfval[col2tgtenc].astype(object))\n",
    "\n",
    "tgtenc_columns = [f'tgtenc_{col}' for col in encoded_tr.columns]\n",
    "encoded_tr.columns = tgtenc_columns\n",
    "encoded_vl.columns = tgtenc_columns\n",
    "encoded_val.columns = tgtenc_columns\n",
    "\n",
    "dftr = pd.concat([dftr, encoded_tr], 1)\n",
    "dfvl = pd.concat([dfvl, encoded_vl], 1)\n",
    "dfval = pd.concat([dfval, encoded_val], 1)\n"
   ]
  },
  {
   "cell_type": "code",
   "execution_count": 14,
   "metadata": {},
   "outputs": [],
   "source": [
    "cols_category=['twttyp', 'lang', 'langhour']\n",
    "for df in dftr,dfvl,dfval:\n",
    "    df.drop(columns=['twtid','u1id','u2id','u1u2'], inplace=True)\n",
    "    df[cols_category]=df[cols_category].astype('category')"
   ]
  },
  {
   "cell_type": "code",
   "execution_count": 15,
   "metadata": {},
   "outputs": [],
   "source": [
    "cols_feat = [col for col in dftr.columns if col not in cols_tgt]"
   ]
  },
  {
   "cell_type": "markdown",
   "metadata": {},
   "source": [
    "# model"
   ]
  },
  {
   "cell_type": "markdown",
   "metadata": {},
   "source": [
    "## cols_feat"
   ]
  },
  {
   "cell_type": "code",
   "execution_count": 16,
   "metadata": {},
   "outputs": [
    {
     "name": "stdout",
     "output_type": "stream",
     "text": [
      "86\n",
      "36\n"
     ]
    }
   ],
   "source": [
    "print(len(cols_feat))\n",
    "cols_feat=['twttyp',\n",
    " 'lang',\n",
    " 'u1_fllwer_cnt',\n",
    " 'u1_fllwing_cnt',\n",
    " 'u1_vrfed',\n",
    " 'u2_fllwer_cnt',\n",
    " 'u2_fllwng_cnt',\n",
    " 'u2_vrfed',\n",
    " 'u1_fllw_u2',\n",
    " 'u1inu2',\n",
    " 'u2inu1',\n",
    " 'len_toks',\n",
    " 'n_media_Photo',\n",
    " 'n_media_Video',\n",
    " 'n_media_GIF',\n",
    "#  'has_hshtgs',\n",
    " 'n_hshtgs',\n",
    "#  'has_media',\n",
    " 'n_media',\n",
    "#  'has_domns',\n",
    " 'n_domns',\n",
    " 'dayofweek',\n",
    " 'hour',\n",
    " 'tmdlta_u2u1',\n",
    " 'tmdlta_twtu1',\n",
    " 'tmdlta_twtu2',\n",
    " 'twt_age',\n",
    " 'u1_age',\n",
    " 'u2_age',\n",
    " 'u1_fllwer_cnt_by_age',\n",
    " 'u1_fllwng_cnt_by_age',\n",
    " 'langhour',\n",
    " 'frq_twtid',\n",
    "#  'frq_twttyp',\n",
    "#  'frq_lang',\n",
    " 'frq_u1id',\n",
    "#  'frq_u1_fllwing_cnt',\n",
    "#  'frq_u1_vrfed',\n",
    " 'frq_u2id',\n",
    "#  'frq_u2_fllwer_cnt',\n",
    "#  'frq_u2_vrfed',\n",
    "#  'frq_u1_fllw_u2',\n",
    "#  'frq_n_media_Photo',\n",
    "#  'frq_n_media_Video',\n",
    "#  'frq_n_media_GIF',\n",
    "#  'frq_has_hshtgs',\n",
    "#  'frq_n_hshtgs',\n",
    "#  'frq_has_media',\n",
    "#  'frq_n_media',\n",
    "#  'frq_has_domns',\n",
    "#  'frq_n_domns',\n",
    "#  'frq_dayofweek',\n",
    "#  'frq_hour',\n",
    " 'frq_u1u2',\n",
    "#  'frq_langhour',\n",
    "#  'sumfrq_hshtgs',\n",
    " 'maxfrq_hshtgs',\n",
    "#  'sumfrq_media',\n",
    "#  'maxfrq_media',\n",
    "#  'sumfrq_links',\n",
    "#  'maxfrq_links',\n",
    "#  'sumfrq_domns',\n",
    " 'maxfrq_domns',\n",
    "#  'tgtenc_twtid',\n",
    "#  'tgtenc_twttyp',\n",
    " 'tgtenc_lang',\n",
    "#  'tgtenc_u1id',\n",
    "#  'tgtenc_u1_fllwing_cnt',\n",
    "#  'tgtenc_u1_vrfed',\n",
    "#  'tgtenc_u2id',\n",
    "#  'tgtenc_u2_fllwer_cnt',\n",
    "#  'tgtenc_u2_vrfed',\n",
    "#  'tgtenc_u1_fllw_u2',\n",
    "#  'tgtenc_n_media_Photo',\n",
    "#  'tgtenc_n_media_Video',\n",
    "#  'tgtenc_n_media_GIF',\n",
    "#  'tgtenc_has_hshtgs',\n",
    "#  'tgtenc_n_hshtgs',\n",
    "#  'tgtenc_has_media',\n",
    "#  'tgtenc_n_media',\n",
    "#  'tgtenc_has_domns',\n",
    "#  'tgtenc_n_domns',\n",
    "#  'tgtenc_dayofweek',\n",
    "#  'tgtenc_hour',\n",
    "#  'tgtenc_u1u2',\n",
    "#  'tgtenc_langhour'\n",
    "          ]\n",
    "print(len(cols_feat))"
   ]
  },
  {
   "cell_type": "code",
   "execution_count": 17,
   "metadata": {},
   "outputs": [],
   "source": [
    "results = {}\n",
    "results['PRFX'] = PRFX\n",
    "results['TGT'] = TGT\n",
    "results['cols_feat'] = cols_feat\n",
    "results['tgt_encoder'] = tgt_encoder\n",
    "results['col2tgtenc'] = col2tgtenc"
   ]
  },
  {
   "cell_type": "code",
   "execution_count": 18,
   "metadata": {},
   "outputs": [],
   "source": [
    "params={\n",
    "    'objective': 'binary',\n",
    "    'metric': 'binary_logloss',\n",
    "    'verbosity': 0,    \n",
    "}\n",
    "results['params'] = params"
   ]
  },
  {
   "cell_type": "code",
   "execution_count": 19,
   "metadata": {
    "scrolled": true
   },
   "outputs": [
    {
     "name": "stderr",
     "output_type": "stream",
     "text": [
      "/data/anaconda3/envs/rcss20/lib/python3.7/site-packages/optuna/_experimental.py:87: ExperimentalWarning: train is experimental (supported from v0.18.0). The interface can change in the future.\n",
      "  ExperimentalWarning\n",
      "tune_feature_fraction, val_score: inf:   0%|          | 0/7 [00:00<?, ?it/s]"
     ]
    },
    {
     "name": "stdout",
     "output_type": "stream",
     "text": [
      "Training until validation scores don't improve for 100 rounds\n",
      "[100]\ttr's binary_logloss: 0.560444\tvl's binary_logloss: 0.570928\n",
      "[200]\ttr's binary_logloss: 0.549211\tvl's binary_logloss: 0.566757\n",
      "[300]\ttr's binary_logloss: 0.542415\tvl's binary_logloss: 0.565907\n",
      "[400]\ttr's binary_logloss: 0.536594\tvl's binary_logloss: 0.565206\n",
      "[500]\ttr's binary_logloss: 0.531524\tvl's binary_logloss: 0.564807\n",
      "[600]\ttr's binary_logloss: 0.52677\tvl's binary_logloss: 0.564348\n",
      "[700]\ttr's binary_logloss: 0.521845\tvl's binary_logloss: 0.564105\n",
      "[800]\ttr's binary_logloss: 0.517007\tvl's binary_logloss: 0.564072\n",
      "[900]\ttr's binary_logloss: 0.512839\tvl's binary_logloss: 0.563768\n",
      "[1000]\ttr's binary_logloss: 0.508823\tvl's binary_logloss: 0.563544\n",
      "[1100]\ttr's binary_logloss: 0.504887\tvl's binary_logloss: 0.563644\n",
      "Early stopping, best iteration is:\n",
      "[1028]\ttr's binary_logloss: 0.507708\tvl's binary_logloss: 0.563472\n"
     ]
    },
    {
     "name": "stderr",
     "output_type": "stream",
     "text": [
      "tune_feature_fraction, val_score: 0.563472:  14%|#4        | 1/7 [00:22<02:12, 22.13s/it]"
     ]
    },
    {
     "name": "stdout",
     "output_type": "stream",
     "text": [
      "Training until validation scores don't improve for 100 rounds\n",
      "[100]\ttr's binary_logloss: 0.559229\tvl's binary_logloss: 0.570441\n",
      "[200]\ttr's binary_logloss: 0.547729\tvl's binary_logloss: 0.567181\n",
      "[300]\ttr's binary_logloss: 0.540117\tvl's binary_logloss: 0.566184\n",
      "[400]\ttr's binary_logloss: 0.534313\tvl's binary_logloss: 0.56529\n",
      "[500]\ttr's binary_logloss: 0.528313\tvl's binary_logloss: 0.565101\n",
      "[600]\ttr's binary_logloss: 0.522726\tvl's binary_logloss: 0.564597\n",
      "[700]\ttr's binary_logloss: 0.518134\tvl's binary_logloss: 0.564647\n",
      "Early stopping, best iteration is:\n",
      "[657]\ttr's binary_logloss: 0.520115\tvl's binary_logloss: 0.56455\n"
     ]
    },
    {
     "name": "stderr",
     "output_type": "stream",
     "text": [
      "tune_feature_fraction, val_score: 0.563472:  29%|##8       | 2/7 [00:36<01:39, 19.91s/it]"
     ]
    },
    {
     "name": "stdout",
     "output_type": "stream",
     "text": [
      "Training until validation scores don't improve for 100 rounds\n",
      "[100]\ttr's binary_logloss: 0.557963\tvl's binary_logloss: 0.570796\n",
      "[200]\ttr's binary_logloss: 0.546126\tvl's binary_logloss: 0.567555\n",
      "[300]\ttr's binary_logloss: 0.538192\tvl's binary_logloss: 0.56676\n",
      "[400]\ttr's binary_logloss: 0.531726\tvl's binary_logloss: 0.566236\n",
      "[500]\ttr's binary_logloss: 0.526052\tvl's binary_logloss: 0.566237\n",
      "Early stopping, best iteration is:\n",
      "[428]\ttr's binary_logloss: 0.530079\tvl's binary_logloss: 0.566129\n"
     ]
    },
    {
     "name": "stderr",
     "output_type": "stream",
     "text": [
      "tune_feature_fraction, val_score: 0.563472:  43%|####2     | 3/7 [00:48<01:09, 17.34s/it]"
     ]
    },
    {
     "name": "stdout",
     "output_type": "stream",
     "text": [
      "Training until validation scores don't improve for 100 rounds\n",
      "[100]\ttr's binary_logloss: 0.557227\tvl's binary_logloss: 0.571165\n",
      "[200]\ttr's binary_logloss: 0.544795\tvl's binary_logloss: 0.568143\n",
      "[300]\ttr's binary_logloss: 0.536831\tvl's binary_logloss: 0.567594\n",
      "[400]\ttr's binary_logloss: 0.529921\tvl's binary_logloss: 0.567135\n",
      "[500]\ttr's binary_logloss: 0.523754\tvl's binary_logloss: 0.566959\n",
      "[600]\ttr's binary_logloss: 0.518084\tvl's binary_logloss: 0.566926\n",
      "Early stopping, best iteration is:\n",
      "[510]\ttr's binary_logloss: 0.523153\tvl's binary_logloss: 0.56688\n"
     ]
    },
    {
     "name": "stderr",
     "output_type": "stream",
     "text": [
      "tune_feature_fraction, val_score: 0.563472:  57%|#####7    | 4/7 [01:01<00:48, 16.12s/it]"
     ]
    },
    {
     "name": "stdout",
     "output_type": "stream",
     "text": [
      "Training until validation scores don't improve for 100 rounds\n",
      "[100]\ttr's binary_logloss: 0.556122\tvl's binary_logloss: 0.571537\n",
      "[200]\ttr's binary_logloss: 0.543185\tvl's binary_logloss: 0.569123\n",
      "[300]\ttr's binary_logloss: 0.53514\tvl's binary_logloss: 0.568299\n",
      "[400]\ttr's binary_logloss: 0.527826\tvl's binary_logloss: 0.567989\n",
      "[500]\ttr's binary_logloss: 0.521035\tvl's binary_logloss: 0.567946\n",
      "Early stopping, best iteration is:\n",
      "[424]\ttr's binary_logloss: 0.526098\tvl's binary_logloss: 0.567864\n"
     ]
    },
    {
     "name": "stderr",
     "output_type": "stream",
     "text": [
      "tune_feature_fraction, val_score: 0.563472:  71%|#######1  | 5/7 [01:13<00:29, 14.77s/it]"
     ]
    },
    {
     "name": "stdout",
     "output_type": "stream",
     "text": [
      "Training until validation scores don't improve for 100 rounds\n",
      "[100]\ttr's binary_logloss: 0.555155\tvl's binary_logloss: 0.571769\n",
      "[200]\ttr's binary_logloss: 0.541963\tvl's binary_logloss: 0.569137\n",
      "[300]\ttr's binary_logloss: 0.533432\tvl's binary_logloss: 0.568877\n",
      "[400]\ttr's binary_logloss: 0.526225\tvl's binary_logloss: 0.568754\n",
      "[500]\ttr's binary_logloss: 0.519536\tvl's binary_logloss: 0.568703\n",
      "Early stopping, best iteration is:\n",
      "[485]\ttr's binary_logloss: 0.520749\tvl's binary_logloss: 0.568579\n"
     ]
    },
    {
     "name": "stderr",
     "output_type": "stream",
     "text": [
      "tune_feature_fraction, val_score: 0.563472:  86%|########5 | 6/7 [01:26<00:14, 14.19s/it]"
     ]
    },
    {
     "name": "stdout",
     "output_type": "stream",
     "text": [
      "Training until validation scores don't improve for 100 rounds\n",
      "[100]\ttr's binary_logloss: 0.55462\tvl's binary_logloss: 0.572035\n",
      "[200]\ttr's binary_logloss: 0.540699\tvl's binary_logloss: 0.569932\n",
      "[300]\ttr's binary_logloss: 0.532146\tvl's binary_logloss: 0.569698\n",
      "[400]\ttr's binary_logloss: 0.524126\tvl's binary_logloss: 0.569765\n",
      "Early stopping, best iteration is:\n",
      "[348]\ttr's binary_logloss: 0.528234\tvl's binary_logloss: 0.56955\n"
     ]
    },
    {
     "name": "stderr",
     "output_type": "stream",
     "text": [
      "tune_feature_fraction, val_score: 0.563472: 100%|##########| 7/7 [01:36<00:00, 13.85s/it]\n",
      "tune_num_leaves, val_score: 0.563472:   0%|          | 0/20 [00:00<?, ?it/s]"
     ]
    },
    {
     "name": "stdout",
     "output_type": "stream",
     "text": [
      "Training until validation scores don't improve for 100 rounds\n",
      "[100]\ttr's binary_logloss: 0.562237\tvl's binary_logloss: 0.57187\n",
      "[200]\ttr's binary_logloss: 0.551484\tvl's binary_logloss: 0.567566\n",
      "[300]\ttr's binary_logloss: 0.544585\tvl's binary_logloss: 0.566225\n",
      "[400]\ttr's binary_logloss: 0.539199\tvl's binary_logloss: 0.565529\n",
      "[500]\ttr's binary_logloss: 0.534238\tvl's binary_logloss: 0.565222\n",
      "[600]\ttr's binary_logloss: 0.529963\tvl's binary_logloss: 0.564856\n",
      "[700]\ttr's binary_logloss: 0.525423\tvl's binary_logloss: 0.56458\n",
      "[800]\ttr's binary_logloss: 0.521125\tvl's binary_logloss: 0.564243\n",
      "[900]\ttr's binary_logloss: 0.517117\tvl's binary_logloss: 0.564133\n",
      "[1000]\ttr's binary_logloss: 0.513369\tvl's binary_logloss: 0.563838\n",
      "[1100]\ttr's binary_logloss: 0.509604\tvl's binary_logloss: 0.563843\n",
      "Early stopping, best iteration is:\n",
      "[1022]\ttr's binary_logloss: 0.512553\tvl's binary_logloss: 0.56374\n"
     ]
    },
    {
     "name": "stderr",
     "output_type": "stream",
     "text": [
      "tune_num_leaves, val_score: 0.563472:   5%|5         | 1/20 [00:19<06:10, 19.49s/it]"
     ]
    },
    {
     "name": "stdout",
     "output_type": "stream",
     "text": [
      "Training until validation scores don't improve for 100 rounds\n",
      "[100]\ttr's binary_logloss: 0.542012\tvl's binary_logloss: 0.566045\n",
      "[200]\ttr's binary_logloss: 0.524541\tvl's binary_logloss: 0.563938\n",
      "[300]\ttr's binary_logloss: 0.511237\tvl's binary_logloss: 0.563491\n",
      "[400]\ttr's binary_logloss: 0.499758\tvl's binary_logloss: 0.563527\n",
      "Early stopping, best iteration is:\n",
      "[324]\ttr's binary_logloss: 0.508464\tvl's binary_logloss: 0.563398\n"
     ]
    },
    {
     "name": "stderr",
     "output_type": "stream",
     "text": [
      "tune_num_leaves, val_score: 0.563398:  10%|#         | 2/20 [00:31<05:12, 17.35s/it]"
     ]
    },
    {
     "name": "stdout",
     "output_type": "stream",
     "text": [
      "Training until validation scores don't improve for 100 rounds\n",
      "[100]\ttr's binary_logloss: 0.53778\tvl's binary_logloss: 0.565571\n",
      "[200]\ttr's binary_logloss: 0.518455\tvl's binary_logloss: 0.563449\n",
      "[300]\ttr's binary_logloss: 0.503623\tvl's binary_logloss: 0.563371\n",
      "[400]\ttr's binary_logloss: 0.490691\tvl's binary_logloss: 0.563307\n",
      "Early stopping, best iteration is:\n",
      "[366]\ttr's binary_logloss: 0.495252\tvl's binary_logloss: 0.563115\n"
     ]
    },
    {
     "name": "stderr",
     "output_type": "stream",
     "text": [
      "tune_num_leaves, val_score: 0.563115:  15%|#5        | 3/20 [00:46<04:40, 16.51s/it]"
     ]
    },
    {
     "name": "stdout",
     "output_type": "stream",
     "text": [
      "Training until validation scores don't improve for 100 rounds\n",
      "[100]\ttr's binary_logloss: 0.540547\tvl's binary_logloss: 0.565784\n",
      "[200]\ttr's binary_logloss: 0.522357\tvl's binary_logloss: 0.56385\n",
      "[300]\ttr's binary_logloss: 0.50884\tvl's binary_logloss: 0.563766\n",
      "[400]\ttr's binary_logloss: 0.49701\tvl's binary_logloss: 0.56342\n",
      "[500]\ttr's binary_logloss: 0.485847\tvl's binary_logloss: 0.563457\n",
      "[600]\ttr's binary_logloss: 0.475733\tvl's binary_logloss: 0.56343\n",
      "Early stopping, best iteration is:\n",
      "[551]\ttr's binary_logloss: 0.480563\tvl's binary_logloss: 0.563308\n"
     ]
    },
    {
     "name": "stderr",
     "output_type": "stream",
     "text": [
      "tune_num_leaves, val_score: 0.563115:  20%|##        | 4/20 [01:04<04:32, 17.05s/it]"
     ]
    },
    {
     "name": "stdout",
     "output_type": "stream",
     "text": [
      "Training until validation scores don't improve for 100 rounds\n",
      "[100]\ttr's binary_logloss: 0.527471\tvl's binary_logloss: 0.564372\n",
      "[200]\ttr's binary_logloss: 0.502003\tvl's binary_logloss: 0.562991\n",
      "Early stopping, best iteration is:\n",
      "[185]\ttr's binary_logloss: 0.505086\tvl's binary_logloss: 0.562946\n"
     ]
    },
    {
     "name": "stderr",
     "output_type": "stream",
     "text": [
      "tune_num_leaves, val_score: 0.562946:  25%|##5       | 5/20 [01:17<03:56, 15.74s/it]"
     ]
    },
    {
     "name": "stdout",
     "output_type": "stream",
     "text": [
      "Training until validation scores don't improve for 100 rounds\n",
      "[100]\ttr's binary_logloss: 0.515005\tvl's binary_logloss: 0.563193\n",
      "[200]\ttr's binary_logloss: 0.481599\tvl's binary_logloss: 0.5626\n",
      "Early stopping, best iteration is:\n",
      "[192]\ttr's binary_logloss: 0.483722\tvl's binary_logloss: 0.562399\n"
     ]
    },
    {
     "name": "stderr",
     "output_type": "stream",
     "text": [
      "tune_num_leaves, val_score: 0.562399:  30%|###       | 6/20 [01:33<03:39, 15.68s/it]"
     ]
    },
    {
     "name": "stdout",
     "output_type": "stream",
     "text": [
      "Training until validation scores don't improve for 100 rounds\n",
      "[100]\ttr's binary_logloss: 0.542728\tvl's binary_logloss: 0.566333\n",
      "[200]\ttr's binary_logloss: 0.525629\tvl's binary_logloss: 0.564112\n",
      "[300]\ttr's binary_logloss: 0.512469\tvl's binary_logloss: 0.563238\n",
      "[400]\ttr's binary_logloss: 0.501691\tvl's binary_logloss: 0.562722\n",
      "[500]\ttr's binary_logloss: 0.49171\tvl's binary_logloss: 0.562735\n",
      "[600]\ttr's binary_logloss: 0.482162\tvl's binary_logloss: 0.562826\n",
      "Early stopping, best iteration is:\n",
      "[507]\ttr's binary_logloss: 0.49103\tvl's binary_logloss: 0.562644\n"
     ]
    },
    {
     "name": "stderr",
     "output_type": "stream",
     "text": [
      "tune_num_leaves, val_score: 0.562399:  35%|###5      | 7/20 [01:49<03:27, 15.94s/it]"
     ]
    },
    {
     "name": "stdout",
     "output_type": "stream",
     "text": [
      "Training until validation scores don't improve for 100 rounds\n",
      "[100]\ttr's binary_logloss: 0.521951\tvl's binary_logloss: 0.563977\n",
      "[200]\ttr's binary_logloss: 0.493232\tvl's binary_logloss: 0.563669\n",
      "Early stopping, best iteration is:\n",
      "[154]\ttr's binary_logloss: 0.504552\tvl's binary_logloss: 0.563364\n"
     ]
    },
    {
     "name": "stderr",
     "output_type": "stream",
     "text": [
      "tune_num_leaves, val_score: 0.562399:  40%|####      | 8/20 [02:01<02:58, 14.83s/it]"
     ]
    },
    {
     "name": "stdout",
     "output_type": "stream",
     "text": [
      "Training until validation scores don't improve for 100 rounds\n",
      "[100]\ttr's binary_logloss: 0.517762\tvl's binary_logloss: 0.56353\n",
      "[200]\ttr's binary_logloss: 0.485725\tvl's binary_logloss: 0.562365\n",
      "Early stopping, best iteration is:\n",
      "[181]\ttr's binary_logloss: 0.490816\tvl's binary_logloss: 0.56223\n"
     ]
    },
    {
     "name": "stderr",
     "output_type": "stream",
     "text": [
      "tune_num_leaves, val_score: 0.562230:  45%|####5     | 9/20 [02:16<02:42, 14.75s/it]"
     ]
    },
    {
     "name": "stdout",
     "output_type": "stream",
     "text": [
      "Training until validation scores don't improve for 100 rounds\n",
      "[100]\ttr's binary_logloss: 0.54302\tvl's binary_logloss: 0.566522\n",
      "[200]\ttr's binary_logloss: 0.526236\tvl's binary_logloss: 0.563777\n",
      "[300]\ttr's binary_logloss: 0.513963\tvl's binary_logloss: 0.563405\n",
      "[400]\ttr's binary_logloss: 0.50261\tvl's binary_logloss: 0.563446\n",
      "Early stopping, best iteration is:\n",
      "[347]\ttr's binary_logloss: 0.508688\tvl's binary_logloss: 0.563319\n"
     ]
    },
    {
     "name": "stderr",
     "output_type": "stream",
     "text": [
      "tune_num_leaves, val_score: 0.562230:  50%|#####     | 10/20 [02:29<02:22, 14.28s/it]"
     ]
    },
    {
     "name": "stdout",
     "output_type": "stream",
     "text": [
      "Training until validation scores don't improve for 100 rounds\n",
      "[100]\ttr's binary_logloss: 0.515997\tvl's binary_logloss: 0.56355\n",
      "[200]\ttr's binary_logloss: 0.483634\tvl's binary_logloss: 0.562392\n",
      "Early stopping, best iteration is:\n",
      "[183]\ttr's binary_logloss: 0.488035\tvl's binary_logloss: 0.562308\n"
     ]
    },
    {
     "name": "stderr",
     "output_type": "stream",
     "text": [
      "tune_num_leaves, val_score: 0.562230:  55%|#####5    | 11/20 [02:44<02:09, 14.34s/it]"
     ]
    },
    {
     "name": "stdout",
     "output_type": "stream",
     "text": [
      "Training until validation scores don't improve for 100 rounds\n",
      "[100]\ttr's binary_logloss: 0.514431\tvl's binary_logloss: 0.563145\n",
      "[200]\ttr's binary_logloss: 0.481037\tvl's binary_logloss: 0.562282\n",
      "Early stopping, best iteration is:\n",
      "[181]\ttr's binary_logloss: 0.486215\tvl's binary_logloss: 0.562133\n"
     ]
    },
    {
     "name": "stderr",
     "output_type": "stream",
     "text": [
      "tune_num_leaves, val_score: 0.562133:  60%|######    | 12/20 [02:59<01:56, 14.57s/it]"
     ]
    },
    {
     "name": "stdout",
     "output_type": "stream",
     "text": [
      "Training until validation scores don't improve for 100 rounds\n",
      "[100]\ttr's binary_logloss: 0.520948\tvl's binary_logloss: 0.563872\n",
      "[200]\ttr's binary_logloss: 0.490974\tvl's binary_logloss: 0.563112\n",
      "Early stopping, best iteration is:\n",
      "[182]\ttr's binary_logloss: 0.495477\tvl's binary_logloss: 0.562845\n"
     ]
    },
    {
     "name": "stderr",
     "output_type": "stream",
     "text": [
      "tune_num_leaves, val_score: 0.562133:  65%|######5   | 13/20 [03:12<01:40, 14.33s/it]"
     ]
    },
    {
     "name": "stdout",
     "output_type": "stream",
     "text": [
      "Training until validation scores don't improve for 100 rounds\n",
      "[100]\ttr's binary_logloss: 0.513922\tvl's binary_logloss: 0.563445\n",
      "[200]\ttr's binary_logloss: 0.479493\tvl's binary_logloss: 0.561947\n",
      "Early stopping, best iteration is:\n",
      "[197]\ttr's binary_logloss: 0.480328\tvl's binary_logloss: 0.561917\n"
     ]
    },
    {
     "name": "stderr",
     "output_type": "stream",
     "text": [
      "tune_num_leaves, val_score: 0.561917:  70%|#######   | 14/20 [03:29<01:29, 14.86s/it]"
     ]
    },
    {
     "name": "stdout",
     "output_type": "stream",
     "text": [
      "Training until validation scores don't improve for 100 rounds\n",
      "[100]\ttr's binary_logloss: 0.528179\tvl's binary_logloss: 0.564551\n",
      "[200]\ttr's binary_logloss: 0.502359\tvl's binary_logloss: 0.563002\n",
      "[300]\ttr's binary_logloss: 0.482879\tvl's binary_logloss: 0.563383\n",
      "Early stopping, best iteration is:\n",
      "[219]\ttr's binary_logloss: 0.498288\tvl's binary_logloss: 0.562941\n"
     ]
    },
    {
     "name": "stderr",
     "output_type": "stream",
     "text": [
      "tune_num_leaves, val_score: 0.561917:  75%|#######5  | 15/20 [03:42<01:11, 14.30s/it]"
     ]
    },
    {
     "name": "stdout",
     "output_type": "stream",
     "text": [
      "Training until validation scores don't improve for 100 rounds\n",
      "[100]\ttr's binary_logloss: 0.513922\tvl's binary_logloss: 0.563445\n",
      "[200]\ttr's binary_logloss: 0.479493\tvl's binary_logloss: 0.561947\n",
      "Early stopping, best iteration is:\n",
      "[197]\ttr's binary_logloss: 0.480328\tvl's binary_logloss: 0.561917\n"
     ]
    },
    {
     "name": "stderr",
     "output_type": "stream",
     "text": [
      "tune_num_leaves, val_score: 0.561917:  80%|########  | 16/20 [03:57<00:59, 14.80s/it]"
     ]
    },
    {
     "name": "stdout",
     "output_type": "stream",
     "text": [
      "Training until validation scores don't improve for 100 rounds\n",
      "[100]\ttr's binary_logloss: 0.573687\tvl's binary_logloss: 0.577522\n",
      "[200]\ttr's binary_logloss: 0.56472\tvl's binary_logloss: 0.571998\n",
      "[300]\ttr's binary_logloss: 0.55992\tvl's binary_logloss: 0.570097\n",
      "[400]\ttr's binary_logloss: 0.556235\tvl's binary_logloss: 0.568814\n",
      "[500]\ttr's binary_logloss: 0.553148\tvl's binary_logloss: 0.568029\n",
      "[600]\ttr's binary_logloss: 0.550358\tvl's binary_logloss: 0.567377\n",
      "[700]\ttr's binary_logloss: 0.547759\tvl's binary_logloss: 0.567032\n",
      "[800]\ttr's binary_logloss: 0.545287\tvl's binary_logloss: 0.566458\n",
      "[900]\ttr's binary_logloss: 0.542981\tvl's binary_logloss: 0.565973\n",
      "[1000]\ttr's binary_logloss: 0.540797\tvl's binary_logloss: 0.565712\n",
      "[1100]\ttr's binary_logloss: 0.538609\tvl's binary_logloss: 0.565395\n",
      "[1200]\ttr's binary_logloss: 0.536483\tvl's binary_logloss: 0.565267\n",
      "[1300]\ttr's binary_logloss: 0.534628\tvl's binary_logloss: 0.565103\n",
      "[1400]\ttr's binary_logloss: 0.532707\tvl's binary_logloss: 0.564908\n",
      "[1500]\ttr's binary_logloss: 0.530922\tvl's binary_logloss: 0.564849\n",
      "[1600]\ttr's binary_logloss: 0.529092\tvl's binary_logloss: 0.56484\n",
      "[1700]\ttr's binary_logloss: 0.527313\tvl's binary_logloss: 0.564754\n",
      "[1800]\ttr's binary_logloss: 0.525697\tvl's binary_logloss: 0.56461\n",
      "[1900]\ttr's binary_logloss: 0.524021\tvl's binary_logloss: 0.56453\n",
      "[2000]\ttr's binary_logloss: 0.522246\tvl's binary_logloss: 0.564485\n",
      "[2100]\ttr's binary_logloss: 0.520617\tvl's binary_logloss: 0.564502\n",
      "Early stopping, best iteration is:\n",
      "[2052]\ttr's binary_logloss: 0.521461\tvl's binary_logloss: 0.564431\n"
     ]
    },
    {
     "name": "stderr",
     "output_type": "stream",
     "text": [
      "tune_num_leaves, val_score: 0.561917:  85%|########5 | 17/20 [04:29<00:59, 19.77s/it]"
     ]
    },
    {
     "name": "stdout",
     "output_type": "stream",
     "text": [
      "Training until validation scores don't improve for 100 rounds\n",
      "[100]\ttr's binary_logloss: 0.52667\tvl's binary_logloss: 0.564117\n",
      "[200]\ttr's binary_logloss: 0.500372\tvl's binary_logloss: 0.562686\n",
      "[300]\ttr's binary_logloss: 0.480481\tvl's binary_logloss: 0.562943\n",
      "Early stopping, best iteration is:\n",
      "[222]\ttr's binary_logloss: 0.495494\tvl's binary_logloss: 0.562429\n"
     ]
    },
    {
     "name": "stderr",
     "output_type": "stream",
     "text": [
      "tune_num_leaves, val_score: 0.561917:  90%|######### | 18/20 [04:42<00:35, 17.86s/it]"
     ]
    },
    {
     "name": "stdout",
     "output_type": "stream",
     "text": [
      "Training until validation scores don't improve for 100 rounds\n",
      "[100]\ttr's binary_logloss: 0.513922\tvl's binary_logloss: 0.563445\n",
      "[200]\ttr's binary_logloss: 0.479493\tvl's binary_logloss: 0.561947\n",
      "Early stopping, best iteration is:\n",
      "[197]\ttr's binary_logloss: 0.480328\tvl's binary_logloss: 0.561917\n"
     ]
    },
    {
     "name": "stderr",
     "output_type": "stream",
     "text": [
      "tune_num_leaves, val_score: 0.561917:  95%|#########5| 19/20 [04:58<00:17, 17.21s/it]"
     ]
    },
    {
     "name": "stdout",
     "output_type": "stream",
     "text": [
      "Training until validation scores don't improve for 100 rounds\n",
      "[100]\ttr's binary_logloss: 0.521227\tvl's binary_logloss: 0.56374\n",
      "[200]\ttr's binary_logloss: 0.491694\tvl's binary_logloss: 0.563046\n",
      "[300]\ttr's binary_logloss: 0.469455\tvl's binary_logloss: 0.562845\n",
      "Early stopping, best iteration is:\n",
      "[283]\ttr's binary_logloss: 0.473167\tvl's binary_logloss: 0.562594\n"
     ]
    },
    {
     "name": "stderr",
     "output_type": "stream",
     "text": [
      "tune_num_leaves, val_score: 0.561917: 100%|##########| 20/20 [05:17<00:00, 15.85s/it]\n",
      "tune_bagging_fraction_and_bagging_freq, val_score: 0.561917:   0%|          | 0/10 [00:00<?, ?it/s]"
     ]
    },
    {
     "name": "stdout",
     "output_type": "stream",
     "text": [
      "Training until validation scores don't improve for 100 rounds\n",
      "[100]\ttr's binary_logloss: 0.519683\tvl's binary_logloss: 0.565327\n",
      "[200]\ttr's binary_logloss: 0.486039\tvl's binary_logloss: 0.564641\n",
      "Early stopping, best iteration is:\n",
      "[155]\ttr's binary_logloss: 0.500226\tvl's binary_logloss: 0.564464\n"
     ]
    },
    {
     "name": "stderr",
     "output_type": "stream",
     "text": [
      "tune_bagging_fraction_and_bagging_freq, val_score: 0.561917:  10%|#         | 1/10 [00:14<02:08, 14.25s/it]"
     ]
    },
    {
     "name": "stdout",
     "output_type": "stream",
     "text": [
      "Training until validation scores don't improve for 100 rounds\n",
      "[100]\ttr's binary_logloss: 0.519087\tvl's binary_logloss: 0.564631\n",
      "[200]\ttr's binary_logloss: 0.485573\tvl's binary_logloss: 0.56414\n",
      "Early stopping, best iteration is:\n",
      "[160]\ttr's binary_logloss: 0.498097\tvl's binary_logloss: 0.563995\n"
     ]
    },
    {
     "name": "stderr",
     "output_type": "stream",
     "text": [
      "tune_bagging_fraction_and_bagging_freq, val_score: 0.561917:  20%|##        | 2/10 [00:28<01:54, 14.34s/it]"
     ]
    },
    {
     "name": "stdout",
     "output_type": "stream",
     "text": [
      "Training until validation scores don't improve for 100 rounds\n",
      "[100]\ttr's binary_logloss: 0.515298\tvl's binary_logloss: 0.563996\n",
      "[200]\ttr's binary_logloss: 0.482063\tvl's binary_logloss: 0.563471\n",
      "[300]\ttr's binary_logloss: 0.457148\tvl's binary_logloss: 0.563588\n",
      "Early stopping, best iteration is:\n",
      "[245]\ttr's binary_logloss: 0.470418\tvl's binary_logloss: 0.563093\n"
     ]
    },
    {
     "name": "stderr",
     "output_type": "stream",
     "text": [
      "tune_bagging_fraction_and_bagging_freq, val_score: 0.561917:  30%|###       | 3/10 [00:47<01:50, 15.74s/it]"
     ]
    },
    {
     "name": "stdout",
     "output_type": "stream",
     "text": [
      "Training until validation scores don't improve for 100 rounds\n",
      "[100]\ttr's binary_logloss: 0.51971\tvl's binary_logloss: 0.565036\n",
      "[200]\ttr's binary_logloss: 0.486566\tvl's binary_logloss: 0.56427\n",
      "Early stopping, best iteration is:\n",
      "[197]\ttr's binary_logloss: 0.487431\tvl's binary_logloss: 0.564187\n"
     ]
    },
    {
     "name": "stderr",
     "output_type": "stream",
     "text": [
      "tune_bagging_fraction_and_bagging_freq, val_score: 0.561917:  40%|####      | 4/10 [01:04<01:35, 15.87s/it]"
     ]
    },
    {
     "name": "stdout",
     "output_type": "stream",
     "text": [
      "Training until validation scores don't improve for 100 rounds\n",
      "[100]\ttr's binary_logloss: 0.522587\tvl's binary_logloss: 0.56549\n",
      "[200]\ttr's binary_logloss: 0.489491\tvl's binary_logloss: 0.566\n",
      "Early stopping, best iteration is:\n",
      "[129]\ttr's binary_logloss: 0.51191\tvl's binary_logloss: 0.564987\n"
     ]
    },
    {
     "name": "stderr",
     "output_type": "stream",
     "text": [
      "tune_bagging_fraction_and_bagging_freq, val_score: 0.561917:  50%|#####     | 5/10 [01:16<01:14, 14.93s/it]"
     ]
    },
    {
     "name": "stdout",
     "output_type": "stream",
     "text": [
      "Training until validation scores don't improve for 100 rounds\n",
      "[100]\ttr's binary_logloss: 0.521709\tvl's binary_logloss: 0.566026\n",
      "[200]\ttr's binary_logloss: 0.488526\tvl's binary_logloss: 0.56566\n",
      "Early stopping, best iteration is:\n",
      "[163]\ttr's binary_logloss: 0.500043\tvl's binary_logloss: 0.565045\n"
     ]
    },
    {
     "name": "stderr",
     "output_type": "stream",
     "text": [
      "tune_bagging_fraction_and_bagging_freq, val_score: 0.561917:  60%|######    | 6/10 [01:30<00:58, 14.63s/it]"
     ]
    },
    {
     "name": "stdout",
     "output_type": "stream",
     "text": [
      "Training until validation scores don't improve for 100 rounds\n",
      "[100]\ttr's binary_logloss: 0.518898\tvl's binary_logloss: 0.564874\n",
      "[200]\ttr's binary_logloss: 0.485662\tvl's binary_logloss: 0.564523\n",
      "Early stopping, best iteration is:\n",
      "[151]\ttr's binary_logloss: 0.500893\tvl's binary_logloss: 0.564133\n"
     ]
    },
    {
     "name": "stderr",
     "output_type": "stream",
     "text": [
      "tune_bagging_fraction_and_bagging_freq, val_score: 0.561917:  70%|#######   | 7/10 [01:44<00:43, 14.39s/it]"
     ]
    },
    {
     "name": "stdout",
     "output_type": "stream",
     "text": [
      "Training until validation scores don't improve for 100 rounds\n",
      "[100]\ttr's binary_logloss: 0.525257\tvl's binary_logloss: 0.567479\n",
      "[200]\ttr's binary_logloss: 0.492623\tvl's binary_logloss: 0.568425\n",
      "Early stopping, best iteration is:\n",
      "[112]\ttr's binary_logloss: 0.520825\tvl's binary_logloss: 0.567311\n"
     ]
    },
    {
     "name": "stderr",
     "output_type": "stream",
     "text": [
      "tune_bagging_fraction_and_bagging_freq, val_score: 0.561917:  80%|########  | 8/10 [01:55<00:26, 13.32s/it]"
     ]
    },
    {
     "name": "stdout",
     "output_type": "stream",
     "text": [
      "Training until validation scores don't improve for 100 rounds\n",
      "[100]\ttr's binary_logloss: 0.514251\tvl's binary_logloss: 0.56338\n",
      "[200]\ttr's binary_logloss: 0.481217\tvl's binary_logloss: 0.562847\n",
      "Early stopping, best iteration is:\n",
      "[159]\ttr's binary_logloss: 0.49252\tvl's binary_logloss: 0.562833\n"
     ]
    },
    {
     "name": "stderr",
     "output_type": "stream",
     "text": [
      "tune_bagging_fraction_and_bagging_freq, val_score: 0.561917:  90%|######### | 9/10 [02:10<00:13, 13.82s/it]"
     ]
    },
    {
     "name": "stdout",
     "output_type": "stream",
     "text": [
      "Training until validation scores don't improve for 100 rounds\n",
      "[100]\ttr's binary_logloss: 0.515765\tvl's binary_logloss: 0.563646\n",
      "[200]\ttr's binary_logloss: 0.482436\tvl's binary_logloss: 0.562752\n",
      "Early stopping, best iteration is:\n",
      "[193]\ttr's binary_logloss: 0.484398\tvl's binary_logloss: 0.562684\n"
     ]
    },
    {
     "name": "stderr",
     "output_type": "stream",
     "text": [
      "tune_bagging_fraction_and_bagging_freq, val_score: 0.561917: 100%|##########| 10/10 [02:27<00:00, 14.73s/it]\n",
      "tune_feature_fraction, val_score: 0.561917:   0%|          | 0/3 [00:00<?, ?it/s]"
     ]
    },
    {
     "name": "stdout",
     "output_type": "stream",
     "text": [
      "Training until validation scores don't improve for 100 rounds\n",
      "[100]\ttr's binary_logloss: 0.512231\tvl's binary_logloss: 0.563355\n",
      "[200]\ttr's binary_logloss: 0.478605\tvl's binary_logloss: 0.56259\n",
      "Early stopping, best iteration is:\n",
      "[193]\ttr's binary_logloss: 0.480599\tvl's binary_logloss: 0.562503\n"
     ]
    },
    {
     "name": "stderr",
     "output_type": "stream",
     "text": [
      "tune_feature_fraction, val_score: 0.561917:  33%|###3      | 1/3 [00:15<00:30, 15.07s/it]"
     ]
    },
    {
     "name": "stdout",
     "output_type": "stream",
     "text": [
      "Training until validation scores don't improve for 100 rounds\n",
      "[100]\ttr's binary_logloss: 0.510441\tvl's binary_logloss: 0.563317\n",
      "[200]\ttr's binary_logloss: 0.476193\tvl's binary_logloss: 0.562583\n",
      "Early stopping, best iteration is:\n",
      "[193]\ttr's binary_logloss: 0.478314\tvl's binary_logloss: 0.562471\n"
     ]
    },
    {
     "name": "stderr",
     "output_type": "stream",
     "text": [
      "tune_feature_fraction, val_score: 0.561917:  67%|######6   | 2/3 [00:30<00:15, 15.19s/it]"
     ]
    },
    {
     "name": "stdout",
     "output_type": "stream",
     "text": [
      "Training until validation scores don't improve for 100 rounds\n",
      "[100]\ttr's binary_logloss: 0.50999\tvl's binary_logloss: 0.563499\n",
      "[200]\ttr's binary_logloss: 0.475475\tvl's binary_logloss: 0.563409\n",
      "Early stopping, best iteration is:\n",
      "[193]\ttr's binary_logloss: 0.477551\tvl's binary_logloss: 0.56328\n"
     ]
    },
    {
     "name": "stderr",
     "output_type": "stream",
     "text": [
      "tune_feature_fraction, val_score: 0.561917: 100%|##########| 3/3 [00:46<00:00, 15.44s/it]\n",
      "tune_lambda_l1_and_lambda_l2, val_score: 0.561917:   0%|          | 0/20 [00:00<?, ?it/s]"
     ]
    },
    {
     "name": "stdout",
     "output_type": "stream",
     "text": [
      "Training until validation scores don't improve for 100 rounds\n",
      "[100]\ttr's binary_logloss: 0.51502\tvl's binary_logloss: 0.563376\n",
      "[200]\ttr's binary_logloss: 0.480822\tvl's binary_logloss: 0.561741\n",
      "[300]\ttr's binary_logloss: 0.455327\tvl's binary_logloss: 0.562456\n",
      "Early stopping, best iteration is:\n",
      "[225]\ttr's binary_logloss: 0.474269\tvl's binary_logloss: 0.56165\n"
     ]
    },
    {
     "name": "stderr",
     "output_type": "stream",
     "text": [
      "tune_lambda_l1_and_lambda_l2, val_score: 0.561650:   5%|5         | 1/20 [00:17<05:26, 17.21s/it]"
     ]
    },
    {
     "name": "stdout",
     "output_type": "stream",
     "text": [
      "Training until validation scores don't improve for 100 rounds\n",
      "[100]\ttr's binary_logloss: 0.51351\tvl's binary_logloss: 0.563488\n",
      "[200]\ttr's binary_logloss: 0.479619\tvl's binary_logloss: 0.562667\n",
      "[300]\ttr's binary_logloss: 0.454372\tvl's binary_logloss: 0.562881\n",
      "Early stopping, best iteration is:\n",
      "[265]\ttr's binary_logloss: 0.46319\tvl's binary_logloss: 0.562428\n"
     ]
    },
    {
     "name": "stderr",
     "output_type": "stream",
     "text": [
      "tune_lambda_l1_and_lambda_l2, val_score: 0.561650:  10%|#         | 2/20 [00:35<05:17, 17.61s/it]"
     ]
    },
    {
     "name": "stdout",
     "output_type": "stream",
     "text": [
      "Training until validation scores don't improve for 100 rounds\n",
      "[100]\ttr's binary_logloss: 0.513549\tvl's binary_logloss: 0.563424\n",
      "[200]\ttr's binary_logloss: 0.48019\tvl's binary_logloss: 0.562215\n",
      "[300]\ttr's binary_logloss: 0.453753\tvl's binary_logloss: 0.562574\n",
      "Early stopping, best iteration is:\n",
      "[238]\ttr's binary_logloss: 0.469823\tvl's binary_logloss: 0.562006\n"
     ]
    },
    {
     "name": "stderr",
     "output_type": "stream",
     "text": [
      "tune_lambda_l1_and_lambda_l2, val_score: 0.561650:  15%|#5        | 3/20 [00:53<05:01, 17.73s/it]"
     ]
    },
    {
     "name": "stdout",
     "output_type": "stream",
     "text": [
      "Training until validation scores don't improve for 100 rounds\n",
      "[100]\ttr's binary_logloss: 0.513952\tvl's binary_logloss: 0.563663\n",
      "[200]\ttr's binary_logloss: 0.480107\tvl's binary_logloss: 0.562918\n",
      "Early stopping, best iteration is:\n",
      "[159]\ttr's binary_logloss: 0.492068\tvl's binary_logloss: 0.562635\n"
     ]
    },
    {
     "name": "stderr",
     "output_type": "stream",
     "text": [
      "tune_lambda_l1_and_lambda_l2, val_score: 0.561650:  20%|##        | 4/20 [01:08<04:27, 16.72s/it]"
     ]
    },
    {
     "name": "stdout",
     "output_type": "stream",
     "text": [
      "Training until validation scores don't improve for 100 rounds\n",
      "[100]\ttr's binary_logloss: 0.513553\tvl's binary_logloss: 0.563333\n",
      "[200]\ttr's binary_logloss: 0.479478\tvl's binary_logloss: 0.562677\n",
      "[300]\ttr's binary_logloss: 0.453096\tvl's binary_logloss: 0.563116\n",
      "Early stopping, best iteration is:\n",
      "[245]\ttr's binary_logloss: 0.467399\tvl's binary_logloss: 0.562606\n"
     ]
    },
    {
     "name": "stderr",
     "output_type": "stream",
     "text": [
      "tune_lambda_l1_and_lambda_l2, val_score: 0.561650:  25%|##5       | 5/20 [01:25<04:15, 17.01s/it]"
     ]
    },
    {
     "name": "stdout",
     "output_type": "stream",
     "text": [
      "Training until validation scores don't improve for 100 rounds\n",
      "[100]\ttr's binary_logloss: 0.513734\tvl's binary_logloss: 0.563403\n",
      "[200]\ttr's binary_logloss: 0.479425\tvl's binary_logloss: 0.562708\n",
      "[300]\ttr's binary_logloss: 0.453429\tvl's binary_logloss: 0.562971\n",
      "Early stopping, best iteration is:\n",
      "[259]\ttr's binary_logloss: 0.463851\tvl's binary_logloss: 0.562658\n"
     ]
    },
    {
     "name": "stderr",
     "output_type": "stream",
     "text": [
      "tune_lambda_l1_and_lambda_l2, val_score: 0.561650:  30%|###       | 6/20 [01:44<04:04, 17.49s/it]"
     ]
    },
    {
     "name": "stdout",
     "output_type": "stream",
     "text": [
      "Training until validation scores don't improve for 100 rounds\n",
      "[100]\ttr's binary_logloss: 0.513705\tvl's binary_logloss: 0.56367\n",
      "[200]\ttr's binary_logloss: 0.47943\tvl's binary_logloss: 0.562558\n",
      "[300]\ttr's binary_logloss: 0.452515\tvl's binary_logloss: 0.563078\n",
      "Early stopping, best iteration is:\n",
      "[223]\ttr's binary_logloss: 0.472756\tvl's binary_logloss: 0.562389\n"
     ]
    },
    {
     "name": "stderr",
     "output_type": "stream",
     "text": [
      "tune_lambda_l1_and_lambda_l2, val_score: 0.561650:  35%|###5      | 7/20 [02:01<03:46, 17.40s/it]"
     ]
    },
    {
     "name": "stdout",
     "output_type": "stream",
     "text": [
      "Training until validation scores don't improve for 100 rounds\n",
      "[100]\ttr's binary_logloss: 0.513822\tvl's binary_logloss: 0.563311\n",
      "[200]\ttr's binary_logloss: 0.479686\tvl's binary_logloss: 0.562172\n",
      "Early stopping, best iteration is:\n",
      "[194]\ttr's binary_logloss: 0.48161\tvl's binary_logloss: 0.562018\n"
     ]
    },
    {
     "name": "stderr",
     "output_type": "stream",
     "text": [
      "tune_lambda_l1_and_lambda_l2, val_score: 0.561650:  40%|####      | 8/20 [02:17<03:23, 16.95s/it]"
     ]
    },
    {
     "name": "stdout",
     "output_type": "stream",
     "text": [
      "Training until validation scores don't improve for 100 rounds\n",
      "[100]\ttr's binary_logloss: 0.515036\tvl's binary_logloss: 0.563373\n",
      "[200]\ttr's binary_logloss: 0.482846\tvl's binary_logloss: 0.562305\n",
      "Early stopping, best iteration is:\n",
      "[181]\ttr's binary_logloss: 0.487714\tvl's binary_logloss: 0.56214\n"
     ]
    },
    {
     "name": "stderr",
     "output_type": "stream",
     "text": [
      "tune_lambda_l1_and_lambda_l2, val_score: 0.561650:  45%|####5     | 9/20 [02:33<03:01, 16.51s/it]"
     ]
    },
    {
     "name": "stdout",
     "output_type": "stream",
     "text": [
      "Training until validation scores don't improve for 100 rounds\n",
      "[100]\ttr's binary_logloss: 0.513778\tvl's binary_logloss: 0.563307\n",
      "[200]\ttr's binary_logloss: 0.479912\tvl's binary_logloss: 0.56273\n",
      "[300]\ttr's binary_logloss: 0.453165\tvl's binary_logloss: 0.563087\n",
      "Early stopping, best iteration is:\n",
      "[245]\ttr's binary_logloss: 0.467585\tvl's binary_logloss: 0.562523\n"
     ]
    },
    {
     "name": "stderr",
     "output_type": "stream",
     "text": [
      "tune_lambda_l1_and_lambda_l2, val_score: 0.561650:  50%|#####     | 10/20 [02:51<02:50, 17.01s/it]"
     ]
    },
    {
     "name": "stdout",
     "output_type": "stream",
     "text": [
      "Training until validation scores don't improve for 100 rounds\n",
      "[100]\ttr's binary_logloss: 0.516694\tvl's binary_logloss: 0.563841\n",
      "[200]\ttr's binary_logloss: 0.483763\tvl's binary_logloss: 0.562666\n",
      "[300]\ttr's binary_logloss: 0.45963\tvl's binary_logloss: 0.563138\n",
      "Early stopping, best iteration is:\n",
      "[213]\ttr's binary_logloss: 0.480403\tvl's binary_logloss: 0.562549\n"
     ]
    },
    {
     "name": "stderr",
     "output_type": "stream",
     "text": [
      "tune_lambda_l1_and_lambda_l2, val_score: 0.561650:  55%|#####5    | 11/20 [03:09<02:35, 17.26s/it]"
     ]
    },
    {
     "name": "stdout",
     "output_type": "stream",
     "text": [
      "Training until validation scores don't improve for 100 rounds\n",
      "[100]\ttr's binary_logloss: 0.513929\tvl's binary_logloss: 0.563247\n",
      "[200]\ttr's binary_logloss: 0.479759\tvl's binary_logloss: 0.562033\n",
      "[300]\ttr's binary_logloss: 0.454353\tvl's binary_logloss: 0.563012\n",
      "Early stopping, best iteration is:\n",
      "[220]\ttr's binary_logloss: 0.474434\tvl's binary_logloss: 0.561914\n"
     ]
    },
    {
     "name": "stderr",
     "output_type": "stream",
     "text": [
      "tune_lambda_l1_and_lambda_l2, val_score: 0.561650:  60%|######    | 12/20 [03:26<02:17, 17.17s/it]"
     ]
    },
    {
     "name": "stdout",
     "output_type": "stream",
     "text": [
      "Training until validation scores don't improve for 100 rounds\n",
      "[100]\ttr's binary_logloss: 0.513906\tvl's binary_logloss: 0.563478\n",
      "[200]\ttr's binary_logloss: 0.479683\tvl's binary_logloss: 0.562725\n",
      "Early stopping, best iteration is:\n",
      "[190]\ttr's binary_logloss: 0.482619\tvl's binary_logloss: 0.562544\n"
     ]
    },
    {
     "name": "stderr",
     "output_type": "stream",
     "text": [
      "tune_lambda_l1_and_lambda_l2, val_score: 0.561650:  65%|######5   | 13/20 [03:41<01:57, 16.76s/it]"
     ]
    },
    {
     "name": "stdout",
     "output_type": "stream",
     "text": [
      "Training until validation scores don't improve for 100 rounds\n",
      "[100]\ttr's binary_logloss: 0.520923\tvl's binary_logloss: 0.564087\n",
      "[200]\ttr's binary_logloss: 0.49086\tvl's binary_logloss: 0.56288\n",
      "Early stopping, best iteration is:\n",
      "[192]\ttr's binary_logloss: 0.492793\tvl's binary_logloss: 0.562723\n"
     ]
    },
    {
     "name": "stderr",
     "output_type": "stream",
     "text": [
      "tune_lambda_l1_and_lambda_l2, val_score: 0.561650:  70%|#######   | 14/20 [04:00<01:43, 17.28s/it]"
     ]
    },
    {
     "name": "stdout",
     "output_type": "stream",
     "text": [
      "Training until validation scores don't improve for 100 rounds\n",
      "[100]\ttr's binary_logloss: 0.513743\tvl's binary_logloss: 0.563538\n",
      "[200]\ttr's binary_logloss: 0.480536\tvl's binary_logloss: 0.562197\n",
      "[300]\ttr's binary_logloss: 0.454813\tvl's binary_logloss: 0.562455\n",
      "Early stopping, best iteration is:\n",
      "[263]\ttr's binary_logloss: 0.464134\tvl's binary_logloss: 0.562038\n"
     ]
    },
    {
     "name": "stderr",
     "output_type": "stream",
     "text": [
      "tune_lambda_l1_and_lambda_l2, val_score: 0.561650:  75%|#######5  | 15/20 [04:19<01:28, 17.70s/it]"
     ]
    },
    {
     "name": "stdout",
     "output_type": "stream",
     "text": [
      "Training until validation scores don't improve for 100 rounds\n",
      "[100]\ttr's binary_logloss: 0.51416\tvl's binary_logloss: 0.563392\n",
      "[200]\ttr's binary_logloss: 0.480371\tvl's binary_logloss: 0.562843\n",
      "[300]\ttr's binary_logloss: 0.454056\tvl's binary_logloss: 0.563272\n",
      "Early stopping, best iteration is:\n",
      "[228]\ttr's binary_logloss: 0.473002\tvl's binary_logloss: 0.562722\n"
     ]
    },
    {
     "name": "stderr",
     "output_type": "stream",
     "text": [
      "tune_lambda_l1_and_lambda_l2, val_score: 0.561650:  80%|########  | 16/20 [04:36<01:10, 17.64s/it]"
     ]
    },
    {
     "name": "stdout",
     "output_type": "stream",
     "text": [
      "Training until validation scores don't improve for 100 rounds\n",
      "[100]\ttr's binary_logloss: 0.513713\tvl's binary_logloss: 0.563227\n",
      "[200]\ttr's binary_logloss: 0.479336\tvl's binary_logloss: 0.562309\n",
      "Early stopping, best iteration is:\n",
      "[194]\ttr's binary_logloss: 0.48108\tvl's binary_logloss: 0.562206\n"
     ]
    },
    {
     "name": "stderr",
     "output_type": "stream",
     "text": [
      "tune_lambda_l1_and_lambda_l2, val_score: 0.561650:  85%|########5 | 17/20 [04:53<00:51, 17.32s/it]"
     ]
    },
    {
     "name": "stdout",
     "output_type": "stream",
     "text": [
      "Training until validation scores don't improve for 100 rounds\n",
      "[100]\ttr's binary_logloss: 0.513518\tvl's binary_logloss: 0.563684\n",
      "[200]\ttr's binary_logloss: 0.479641\tvl's binary_logloss: 0.562392\n",
      "Early stopping, best iteration is:\n",
      "[183]\ttr's binary_logloss: 0.484272\tvl's binary_logloss: 0.562356\n"
     ]
    },
    {
     "name": "stderr",
     "output_type": "stream",
     "text": [
      "tune_lambda_l1_and_lambda_l2, val_score: 0.561650:  90%|######### | 18/20 [05:07<00:33, 16.56s/it]"
     ]
    },
    {
     "name": "stdout",
     "output_type": "stream",
     "text": [
      "Training until validation scores don't improve for 100 rounds\n",
      "[100]\ttr's binary_logloss: 0.513695\tvl's binary_logloss: 0.563333\n",
      "[200]\ttr's binary_logloss: 0.479708\tvl's binary_logloss: 0.562295\n",
      "Early stopping, best iteration is:\n",
      "[183]\ttr's binary_logloss: 0.484652\tvl's binary_logloss: 0.562178\n"
     ]
    },
    {
     "name": "stderr",
     "output_type": "stream",
     "text": [
      "tune_lambda_l1_and_lambda_l2, val_score: 0.561650:  95%|#########5| 19/20 [05:23<00:16, 16.18s/it]"
     ]
    },
    {
     "name": "stdout",
     "output_type": "stream",
     "text": [
      "Training until validation scores don't improve for 100 rounds\n",
      "[100]\ttr's binary_logloss: 0.516173\tvl's binary_logloss: 0.563922\n",
      "[200]\ttr's binary_logloss: 0.483051\tvl's binary_logloss: 0.562618\n",
      "[300]\ttr's binary_logloss: 0.457556\tvl's binary_logloss: 0.563029\n",
      "Early stopping, best iteration is:\n",
      "[245]\ttr's binary_logloss: 0.471238\tvl's binary_logloss: 0.562341\n"
     ]
    },
    {
     "name": "stderr",
     "output_type": "stream",
     "text": [
      "tune_lambda_l1_and_lambda_l2, val_score: 0.561650: 100%|##########| 20/20 [05:42<00:00, 17.12s/it]\n",
      "tune_min_child_samples, val_score: 0.561650:   0%|          | 0/5 [00:00<?, ?it/s]"
     ]
    },
    {
     "name": "stdout",
     "output_type": "stream",
     "text": [
      "Training until validation scores don't improve for 100 rounds\n",
      "[100]\ttr's binary_logloss: 0.514802\tvl's binary_logloss: 0.56343\n",
      "[200]\ttr's binary_logloss: 0.481206\tvl's binary_logloss: 0.562107\n",
      "Early stopping, best iteration is:\n",
      "[195]\ttr's binary_logloss: 0.482514\tvl's binary_logloss: 0.562029\n"
     ]
    },
    {
     "name": "stderr",
     "output_type": "stream",
     "text": [
      "tune_min_child_samples, val_score: 0.561650:  20%|##        | 1/5 [00:17<01:08, 17.21s/it]"
     ]
    },
    {
     "name": "stdout",
     "output_type": "stream",
     "text": [
      "Training until validation scores don't improve for 100 rounds\n",
      "[100]\ttr's binary_logloss: 0.514681\tvl's binary_logloss: 0.563602\n",
      "[200]\ttr's binary_logloss: 0.480416\tvl's binary_logloss: 0.562614\n",
      "[300]\ttr's binary_logloss: 0.454937\tvl's binary_logloss: 0.562917\n",
      "Early stopping, best iteration is:\n",
      "[237]\ttr's binary_logloss: 0.470817\tvl's binary_logloss: 0.562511\n"
     ]
    },
    {
     "name": "stderr",
     "output_type": "stream",
     "text": [
      "tune_min_child_samples, val_score: 0.561650:  40%|####      | 2/5 [00:35<00:52, 17.55s/it]"
     ]
    },
    {
     "name": "stdout",
     "output_type": "stream",
     "text": [
      "Training until validation scores don't improve for 100 rounds\n",
      "[100]\ttr's binary_logloss: 0.514922\tvl's binary_logloss: 0.563664\n",
      "[200]\ttr's binary_logloss: 0.481363\tvl's binary_logloss: 0.562502\n",
      "Early stopping, best iteration is:\n",
      "[194]\ttr's binary_logloss: 0.482975\tvl's binary_logloss: 0.562405\n"
     ]
    },
    {
     "name": "stderr",
     "output_type": "stream",
     "text": [
      "tune_min_child_samples, val_score: 0.561650:  60%|######    | 3/5 [00:52<00:34, 17.22s/it]"
     ]
    },
    {
     "name": "stdout",
     "output_type": "stream",
     "text": [
      "Training until validation scores don't improve for 100 rounds\n",
      "[100]\ttr's binary_logloss: 0.515381\tvl's binary_logloss: 0.563673\n",
      "[200]\ttr's binary_logloss: 0.482286\tvl's binary_logloss: 0.563088\n",
      "Early stopping, best iteration is:\n",
      "[191]\ttr's binary_logloss: 0.48462\tvl's binary_logloss: 0.56296\n"
     ]
    },
    {
     "name": "stderr",
     "output_type": "stream",
     "text": [
      "tune_min_child_samples, val_score: 0.561650:  80%|########  | 4/5 [01:08<00:16, 16.88s/it]"
     ]
    },
    {
     "name": "stdout",
     "output_type": "stream",
     "text": [
      "Training until validation scores don't improve for 100 rounds\n",
      "[100]\ttr's binary_logloss: 0.516478\tvl's binary_logloss: 0.564007\n",
      "[200]\ttr's binary_logloss: 0.482982\tvl's binary_logloss: 0.563061\n",
      "[300]\ttr's binary_logloss: 0.458119\tvl's binary_logloss: 0.56367\n",
      "Early stopping, best iteration is:\n",
      "[222]\ttr's binary_logloss: 0.477094\tvl's binary_logloss: 0.562981\n"
     ]
    },
    {
     "name": "stderr",
     "output_type": "stream",
     "text": [
      "tune_min_child_samples, val_score: 0.561650: 100%|##########| 5/5 [01:26<00:00, 17.26s/it]\n"
     ]
    },
    {
     "name": "stdout",
     "output_type": "stream",
     "text": [
      "CPU times: user 2h 17min 10s, sys: 6h 35min 44s, total: 8h 52min 55s\n",
      "Wall time: 17min 16s\n"
     ]
    }
   ],
   "source": [
    "%%time\n",
    "dtr = lgb.Dataset(dftr[cols_feat], label=dftr[TCOL])\n",
    "dvl = lgb.Dataset(dfvl[cols_feat], label=dfvl[TCOL])\n",
    "best_params, tuning_history = {}, []\n",
    "evalres = {}\n",
    "evallist = [(dtr, 'train'), (dvl, 'eval')]\n",
    "bst = lgb.train(params=params, \n",
    "                train_set=dtr, \n",
    "                num_boost_round=50000,\n",
    "                valid_sets=[dtr, dvl],\n",
    "                valid_names=['tr','vl'],\n",
    "                best_params=best_params,\n",
    "                tuning_history=tuning_history,\n",
    "                verbose_eval=100,\n",
    "                early_stopping_rounds=100,\n",
    "                evals_result=evalres,\n",
    "               )\n",
    "results['bst'] = bst\n",
    "results['evalres'] = evalres\n",
    "results['best_params']=best_params\n",
    "results['tuning_history']=tuning_history"
   ]
  },
  {
   "cell_type": "markdown",
   "metadata": {},
   "source": [
    "## best_params"
   ]
  },
  {
   "cell_type": "code",
   "execution_count": 20,
   "metadata": {},
   "outputs": [
    {
     "data": {
      "text/plain": [
       "{'lambda_l1': 1.0726343495391903,\n",
       " 'lambda_l2': 1.080964559682188e-06,\n",
       " 'num_leaves': 255,\n",
       " 'feature_fraction': 0.4,\n",
       " 'bagging_fraction': 1.0,\n",
       " 'bagging_freq': 0,\n",
       " 'min_child_samples': 20}"
      ]
     },
     "execution_count": 20,
     "metadata": {},
     "output_type": "execute_result"
    }
   ],
   "source": [
    "best_params"
   ]
  },
  {
   "cell_type": "markdown",
   "metadata": {},
   "source": [
    "## tr vl trajec"
   ]
  },
  {
   "cell_type": "code",
   "execution_count": 21,
   "metadata": {},
   "outputs": [
    {
     "data": {
      "image/png": "[encoded data removed]",
      "text/plain": [
       "<Figure size 432x288 with 1 Axes>"
      ]
     },
     "metadata": {
      "needs_background": "light"
     },
     "output_type": "display_data"
    }
   ],
   "source": [
    "plt.plot(evalres['tr']['binary_logloss'])\n",
    "plt.plot(evalres['vl']['binary_logloss'])\n",
    "plt.title(f\"logloss; best_iteration {bst.best_iteration}\")\n",
    "plt.show()"
   ]
  },
  {
   "cell_type": "markdown",
   "metadata": {},
   "source": [
    "## model features"
   ]
  },
  {
   "cell_type": "code",
   "execution_count": 22,
   "metadata": {
    "scrolled": true
   },
   "outputs": [
    {
     "data": {
      "image/png": "[encoded data removed]",
      "text/plain": [
       "<Figure size 720x1080 with 1 Axes>"
      ]
     },
     "metadata": {
      "needs_background": "light"
     },
     "output_type": "display_data"
    }
   ],
   "source": [
    "ax = lgb.plot_importance(bst, height=0.8, max_num_features=50, figsize=(10,15))\n",
    "ax.grid(False, axis=\"y\")\n",
    "ax.set_title(f'Estimated feature importance')\n",
    "plt.show()"
   ]
  },
  {
   "cell_type": "code",
   "execution_count": 23,
   "metadata": {},
   "outputs": [
    {
     "data": {
      "text/html": [
       "<div>\n",
       "<style scoped>\n",
       "    .dataframe tbody tr th:only-of-type {\n",
       "        vertical-align: middle;\n",
       "    }\n",
       "\n",
       "    .dataframe tbody tr th {\n",
       "        vertical-align: top;\n",
       "    }\n",
       "\n",
       "    .dataframe thead th {\n",
       "        text-align: right;\n",
       "    }\n",
       "</style>\n",
       "<table border=\"1\" class=\"dataframe\">\n",
       "  <thead>\n",
       "    <tr style=\"text-align: right;\">\n",
       "      <th></th>\n",
       "      <th>0</th>\n",
       "      <th>1</th>\n",
       "    </tr>\n",
       "  </thead>\n",
       "  <tbody>\n",
       "    <tr>\n",
       "      <th>28</th>\n",
       "      <td>langhour</td>\n",
       "      <td>5455</td>\n",
       "    </tr>\n",
       "    <tr>\n",
       "      <th>5</th>\n",
       "      <td>u2_fllwer_cnt</td>\n",
       "      <td>3482</td>\n",
       "    </tr>\n",
       "    <tr>\n",
       "      <th>26</th>\n",
       "      <td>u1_fllwer_cnt_by_age</td>\n",
       "      <td>3463</td>\n",
       "    </tr>\n",
       "    <tr>\n",
       "      <th>6</th>\n",
       "      <td>u2_fllwng_cnt</td>\n",
       "      <td>3399</td>\n",
       "    </tr>\n",
       "    <tr>\n",
       "      <th>20</th>\n",
       "      <td>tmdlta_u2u1</td>\n",
       "      <td>3200</td>\n",
       "    </tr>\n",
       "    <tr>\n",
       "      <th>3</th>\n",
       "      <td>u1_fllwing_cnt</td>\n",
       "      <td>3197</td>\n",
       "    </tr>\n",
       "    <tr>\n",
       "      <th>25</th>\n",
       "      <td>u2_age</td>\n",
       "      <td>3168</td>\n",
       "    </tr>\n",
       "    <tr>\n",
       "      <th>27</th>\n",
       "      <td>u1_fllwng_cnt_by_age</td>\n",
       "      <td>3142</td>\n",
       "    </tr>\n",
       "    <tr>\n",
       "      <th>2</th>\n",
       "      <td>u1_fllwer_cnt</td>\n",
       "      <td>2945</td>\n",
       "    </tr>\n",
       "    <tr>\n",
       "      <th>11</th>\n",
       "      <td>len_toks</td>\n",
       "      <td>2883</td>\n",
       "    </tr>\n",
       "    <tr>\n",
       "      <th>23</th>\n",
       "      <td>twt_age</td>\n",
       "      <td>2837</td>\n",
       "    </tr>\n",
       "    <tr>\n",
       "      <th>24</th>\n",
       "      <td>u1_age</td>\n",
       "      <td>2697</td>\n",
       "    </tr>\n",
       "    <tr>\n",
       "      <th>21</th>\n",
       "      <td>tmdlta_twtu1</td>\n",
       "      <td>2585</td>\n",
       "    </tr>\n",
       "    <tr>\n",
       "      <th>22</th>\n",
       "      <td>tmdlta_twtu2</td>\n",
       "      <td>2503</td>\n",
       "    </tr>\n",
       "    <tr>\n",
       "      <th>30</th>\n",
       "      <td>frq_u1id</td>\n",
       "      <td>1742</td>\n",
       "    </tr>\n",
       "    <tr>\n",
       "      <th>1</th>\n",
       "      <td>lang</td>\n",
       "      <td>1614</td>\n",
       "    </tr>\n",
       "    <tr>\n",
       "      <th>19</th>\n",
       "      <td>hour</td>\n",
       "      <td>1141</td>\n",
       "    </tr>\n",
       "    <tr>\n",
       "      <th>31</th>\n",
       "      <td>frq_u2id</td>\n",
       "      <td>963</td>\n",
       "    </tr>\n",
       "    <tr>\n",
       "      <th>33</th>\n",
       "      <td>maxfrq_hshtgs</td>\n",
       "      <td>946</td>\n",
       "    </tr>\n",
       "    <tr>\n",
       "      <th>34</th>\n",
       "      <td>maxfrq_domns</td>\n",
       "      <td>854</td>\n",
       "    </tr>\n",
       "    <tr>\n",
       "      <th>35</th>\n",
       "      <td>tgtenc_lang</td>\n",
       "      <td>838</td>\n",
       "    </tr>\n",
       "    <tr>\n",
       "      <th>18</th>\n",
       "      <td>dayofweek</td>\n",
       "      <td>724</td>\n",
       "    </tr>\n",
       "    <tr>\n",
       "      <th>29</th>\n",
       "      <td>frq_twtid</td>\n",
       "      <td>539</td>\n",
       "    </tr>\n",
       "    <tr>\n",
       "      <th>15</th>\n",
       "      <td>n_hshtgs</td>\n",
       "      <td>533</td>\n",
       "    </tr>\n",
       "    <tr>\n",
       "      <th>0</th>\n",
       "      <td>twttyp</td>\n",
       "      <td>454</td>\n",
       "    </tr>\n",
       "    <tr>\n",
       "      <th>12</th>\n",
       "      <td>n_media_Photo</td>\n",
       "      <td>443</td>\n",
       "    </tr>\n",
       "    <tr>\n",
       "      <th>16</th>\n",
       "      <td>n_media</td>\n",
       "      <td>408</td>\n",
       "    </tr>\n",
       "    <tr>\n",
       "      <th>8</th>\n",
       "      <td>u1_fllw_u2</td>\n",
       "      <td>233</td>\n",
       "    </tr>\n",
       "    <tr>\n",
       "      <th>13</th>\n",
       "      <td>n_media_Video</td>\n",
       "      <td>209</td>\n",
       "    </tr>\n",
       "    <tr>\n",
       "      <th>4</th>\n",
       "      <td>u1_vrfed</td>\n",
       "      <td>161</td>\n",
       "    </tr>\n",
       "    <tr>\n",
       "      <th>32</th>\n",
       "      <td>frq_u1u2</td>\n",
       "      <td>130</td>\n",
       "    </tr>\n",
       "    <tr>\n",
       "      <th>17</th>\n",
       "      <td>n_domns</td>\n",
       "      <td>120</td>\n",
       "    </tr>\n",
       "    <tr>\n",
       "      <th>9</th>\n",
       "      <td>u1inu2</td>\n",
       "      <td>46</td>\n",
       "    </tr>\n",
       "    <tr>\n",
       "      <th>14</th>\n",
       "      <td>n_media_GIF</td>\n",
       "      <td>45</td>\n",
       "    </tr>\n",
       "    <tr>\n",
       "      <th>10</th>\n",
       "      <td>u2inu1</td>\n",
       "      <td>44</td>\n",
       "    </tr>\n",
       "    <tr>\n",
       "      <th>7</th>\n",
       "      <td>u2_vrfed</td>\n",
       "      <td>7</td>\n",
       "    </tr>\n",
       "  </tbody>\n",
       "</table>\n",
       "</div>"
      ],
      "text/plain": [
       "                       0     1\n",
       "28              langhour  5455\n",
       "5          u2_fllwer_cnt  3482\n",
       "26  u1_fllwer_cnt_by_age  3463\n",
       "6          u2_fllwng_cnt  3399\n",
       "20           tmdlta_u2u1  3200\n",
       "3         u1_fllwing_cnt  3197\n",
       "25                u2_age  3168\n",
       "27  u1_fllwng_cnt_by_age  3142\n",
       "2          u1_fllwer_cnt  2945\n",
       "11              len_toks  2883\n",
       "23               twt_age  2837\n",
       "24                u1_age  2697\n",
       "21          tmdlta_twtu1  2585\n",
       "22          tmdlta_twtu2  2503\n",
       "30              frq_u1id  1742\n",
       "1                   lang  1614\n",
       "19                  hour  1141\n",
       "31              frq_u2id   963\n",
       "33         maxfrq_hshtgs   946\n",
       "34          maxfrq_domns   854\n",
       "35           tgtenc_lang   838\n",
       "18             dayofweek   724\n",
       "29             frq_twtid   539\n",
       "15              n_hshtgs   533\n",
       "0                 twttyp   454\n",
       "12         n_media_Photo   443\n",
       "16               n_media   408\n",
       "8             u1_fllw_u2   233\n",
       "13         n_media_Video   209\n",
       "4               u1_vrfed   161\n",
       "32              frq_u1u2   130\n",
       "17               n_domns   120\n",
       "9                 u1inu2    46\n",
       "14           n_media_GIF    45\n",
       "10                u2inu1    44\n",
       "7               u2_vrfed     7"
      ]
     },
     "execution_count": 23,
     "metadata": {},
     "output_type": "execute_result"
    }
   ],
   "source": [
    "pd.DataFrame([bst.feature_name(), bst.feature_importance()]).T.sort_values(1, ascending=False)"
   ]
  },
  {
   "cell_type": "code",
   "execution_count": 24,
   "metadata": {},
   "outputs": [
    {
     "data": {
      "text/plain": [
       "[('langhour', 5455),\n",
       " ('u2_fllwer_cnt', 3482),\n",
       " ('u1_fllwer_cnt_by_age', 3463),\n",
       " ('u2_fllwng_cnt', 3399),\n",
       " ('tmdlta_u2u1', 3200),\n",
       " ('u1_fllwing_cnt', 3197),\n",
       " ('u2_age', 3168),\n",
       " ('u1_fllwng_cnt_by_age', 3142),\n",
       " ('u1_fllwer_cnt', 2945),\n",
       " ('len_toks', 2883),\n",
       " ('twt_age', 2837),\n",
       " ('u1_age', 2697),\n",
       " ('tmdlta_twtu1', 2585),\n",
       " ('tmdlta_twtu2', 2503),\n",
       " ('frq_u1id', 1742),\n",
       " ('lang', 1614),\n",
       " ('hour', 1141),\n",
       " ('frq_u2id', 963),\n",
       " ('maxfrq_hshtgs', 946),\n",
       " ('maxfrq_domns', 854),\n",
       " ('tgtenc_lang', 838),\n",
       " ('dayofweek', 724),\n",
       " ('frq_twtid', 539),\n",
       " ('n_hshtgs', 533),\n",
       " ('twttyp', 454),\n",
       " ('n_media_Photo', 443),\n",
       " ('n_media', 408),\n",
       " ('u1_fllw_u2', 233),\n",
       " ('n_media_Video', 209),\n",
       " ('u1_vrfed', 161),\n",
       " ('frq_u1u2', 130),\n",
       " ('n_domns', 120),\n",
       " ('u1inu2', 46),\n",
       " ('n_media_GIF', 45),\n",
       " ('u2inu1', 44),\n",
       " ('u2_vrfed', 7)]"
      ]
     },
     "execution_count": 24,
     "metadata": {},
     "output_type": "execute_result"
    }
   ],
   "source": [
    "col2imp = dict(zip(bst.feature_name(), bst.feature_importance()))\n",
    "sorted(col2imp.items(), key=lambda x: -x[1])"
   ]
  },
  {
   "cell_type": "code",
   "execution_count": 25,
   "metadata": {},
   "outputs": [
    {
     "data": {
      "text/plain": [
       "['langhour',\n",
       " 'u2_fllwer_cnt',\n",
       " 'u1_fllwer_cnt_by_age',\n",
       " 'u2_fllwng_cnt',\n",
       " 'tmdlta_u2u1',\n",
       " 'u1_fllwing_cnt',\n",
       " 'u2_age',\n",
       " 'u1_fllwng_cnt_by_age',\n",
       " 'u1_fllwer_cnt',\n",
       " 'len_toks',\n",
       " 'twt_age',\n",
       " 'u1_age',\n",
       " 'tmdlta_twtu1',\n",
       " 'tmdlta_twtu2',\n",
       " 'frq_u1id',\n",
       " 'lang',\n",
       " 'hour',\n",
       " 'frq_u2id',\n",
       " 'maxfrq_hshtgs',\n",
       " 'maxfrq_domns',\n",
       " 'tgtenc_lang',\n",
       " 'dayofweek',\n",
       " 'frq_twtid',\n",
       " 'n_hshtgs',\n",
       " 'twttyp',\n",
       " 'n_media_Photo',\n",
       " 'n_media',\n",
       " 'u1_fllw_u2',\n",
       " 'n_media_Video',\n",
       " 'u1_vrfed',\n",
       " 'frq_u1u2',\n",
       " 'n_domns',\n",
       " 'u1inu2',\n",
       " 'n_media_GIF',\n",
       " 'u2inu1',\n",
       " 'u2_vrfed']"
      ]
     },
     "execution_count": 25,
     "metadata": {},
     "output_type": "execute_result"
    }
   ],
   "source": [
    "[o[0] for o in sorted(col2imp.items(), key=lambda x: -x[1]) if o[1]>0]"
   ]
  },
  {
   "cell_type": "code",
   "execution_count": null,
   "metadata": {},
   "outputs": [],
   "source": []
  },
  {
   "cell_type": "markdown",
   "metadata": {},
   "source": [
    "# eval"
   ]
  },
  {
   "cell_type": "code",
   "execution_count": 26,
   "metadata": {},
   "outputs": [
    {
     "name": "stdout",
     "output_type": "stream",
     "text": [
      "CPU times: user 1min 22s, sys: 17.5 s, total: 1min 39s\n",
      "Wall time: 6.97 s\n"
     ]
    }
   ],
   "source": [
    "%%time\n",
    "prdtr = bst.predict(dftr[cols_feat],num_iteration=bst.best_iteration)\n",
    "prdvl = bst.predict(dfvl[cols_feat],num_iteration=bst.best_iteration)\n",
    "prdval0 = bst.predict(dfval[cols_feat],num_iteration=bst.best_iteration)\n",
    "prdval = calibration(prdval0, train_pop, target_pop, sampled_train_pop, sampled_target_pop)"
   ]
  },
  {
   "cell_type": "code",
   "execution_count": 27,
   "metadata": {},
   "outputs": [
    {
     "name": "stdout",
     "output_type": "stream",
     "text": [
      "CPU times: user 3.22 s, sys: 389 ms, total: 3.61 s\n",
      "Wall time: 3.13 s\n"
     ]
    }
   ],
   "source": [
    "%%time\n",
    "ytr,yvl,yval=[df[TCOL].values for df in (dftr,dfvl,dfval)]\n",
    "\n",
    "auc_tr=compute_prauc(prdtr, ytr)\n",
    "rce_tr=compute_rce(prdtr, ytr)\n",
    "auc_vl=compute_prauc(prdvl, yvl)\n",
    "rce_vl=compute_rce(prdvl, yvl)\n",
    "auc_val=compute_prauc(prdval, yval)\n",
    "rce_val=compute_rce(prdval, yval)\n",
    "\n",
    "results['scrs'] = {}\n",
    "results['scrs']['auc_tr']=auc_tr\n",
    "results['scrs']['rce_tr']=rce_tr\n",
    "results['scrs']['auc_vl']=auc_vl\n",
    "results['scrs']['rce_vl']=rce_vl\n",
    "results['scrs']['auc_val']=auc_val\n",
    "results['scrs']['rce_val']=rce_val"
   ]
  },
  {
   "cell_type": "code",
   "execution_count": 28,
   "metadata": {},
   "outputs": [
    {
     "name": "stdout",
     "output_type": "stream",
     "text": [
      "auc_tr:  0.8397\n",
      "auc_vl:  0.7298\n",
      "auc_val: 0.7242\n",
      "\n",
      "rce_tr:  30.8313\n",
      "rce_vl:  18.0209\n",
      "rce_val: 17.3361\n"
     ]
    }
   ],
   "source": [
    "print(f'auc_tr:  {auc_tr:.4f}')\n",
    "print(f'auc_vl:  {auc_vl:.4f}')\n",
    "print(f'auc_val: {auc_val:.4f}')\n",
    "print()\n",
    "print(f'rce_tr:  {rce_tr:.4f}')\n",
    "print(f'rce_vl:  {rce_vl:.4f}')\n",
    "print(f'rce_val: {rce_val:.4f}')"
   ]
  },
  {
   "cell_type": "markdown",
   "metadata": {},
   "source": [
    "## score"
   ]
  },
  {
   "cell_type": "code",
   "execution_count": 29,
   "metadata": {},
   "outputs": [
    {
     "name": "stdout",
     "output_type": "stream",
     "text": [
      "-0.7242-17.3361\n"
     ]
    }
   ],
   "source": [
    "print(f'-{auc_val:.4f}-{rce_val:.4f}')"
   ]
  },
  {
   "cell_type": "markdown",
   "metadata": {},
   "source": [
    "# save results"
   ]
  },
  {
   "cell_type": "code",
   "execution_count": 30,
   "metadata": {},
   "outputs": [],
   "source": [
    "pickle.dump(results, open(f'{p_out}/results_{PRFX}.p', 'wb'))"
   ]
  },
  {
   "cell_type": "markdown",
   "metadata": {},
   "source": [
    "# infer"
   ]
  },
  {
   "cell_type": "code",
   "execution_count": 31,
   "metadata": {},
   "outputs": [],
   "source": [
    "results = pickle.load( open(f'{p_out}/results_{PRFX}.p', 'rb'))\n",
    "bst = results['bst']\n",
    "col2tgtenc = results['col2tgtenc']\n",
    "cols_feat = results['cols_feat']\n",
    "tgt_encoder = results['tgt_encoder']"
   ]
  },
  {
   "cell_type": "markdown",
   "metadata": {},
   "source": [
    "## prep"
   ]
  },
  {
   "cell_type": "code",
   "execution_count": 32,
   "metadata": {},
   "outputs": [
    {
     "name": "stdout",
     "output_type": "stream",
     "text": [
      "CPU times: user 44 ms, sys: 247 ms, total: 291 ms\n",
      "Wall time: 11 ms\n"
     ]
    }
   ],
   "source": [
    "%%time\n",
    "dftst=pd.read_csv(\n",
    "    f'{p_in}/val_{tsttmstmp}.tsv',\n",
    "    sep='\\x01', header=None, names=cols_val, \n",
    "    nrows=10\n",
    ")"
   ]
  },
  {
   "cell_type": "code",
   "execution_count": 33,
   "metadata": {
    "scrolled": true
   },
   "outputs": [
    {
     "name": "stdout",
     "output_type": "stream",
     "text": [
      "2020-04-12 02:48:29 start\n",
      "2020-04-12 02:48:29 freq of columns using CountEncoder\n"
     ]
    },
    {
     "name": "stderr",
     "output_type": "stream",
     "text": [
      "/data/anaconda3/envs/rcss20/lib/python3.7/site-packages/category_encoders/count.py:255: FutureWarning: The pandas.np module is deprecated and will be removed from pandas in a future version. Import numpy directly instead\n",
      "  X.loc[:, self.cols] = X.fillna(value=pd.np.nan)\n"
     ]
    },
    {
     "name": "stdout",
     "output_type": "stream",
     "text": [
      "2020-04-12 02:48:29 freq of tags\n",
      "2020-04-12 02:48:29 done\n",
      "CPU times: user 179 ms, sys: 200 ms, total: 379 ms\n",
      "Wall time: 131 ms\n"
     ]
    }
   ],
   "source": [
    "%%time\n",
    "dftst=prp_df(dftst, tm_max=tm_tst_max)"
   ]
  },
  {
   "cell_type": "code",
   "execution_count": 34,
   "metadata": {},
   "outputs": [],
   "source": [
    "encoded_tst = tgt_encoder.transform(dftst[col2tgtenc].astype(object))\n",
    "tgtenc_columns = [f'tgtenc_{col}' for col in encoded_tst.columns]\n",
    "encoded_tst.columns = tgtenc_columns\n",
    "dftst = pd.concat([dftst, encoded_tst], 1)\n",
    "dftst.drop(columns=['u1id','u1u2'], inplace=True)\n",
    "cols_category=['twttyp', 'lang', 'langhour']\n",
    "dftst[cols_category]=dftst[cols_category].astype('category')"
   ]
  },
  {
   "cell_type": "markdown",
   "metadata": {},
   "source": [
    "## predict"
   ]
  },
  {
   "cell_type": "code",
   "execution_count": 35,
   "metadata": {},
   "outputs": [
    {
     "name": "stdout",
     "output_type": "stream",
     "text": [
      "CPU times: user 22.4 ms, sys: 66.5 ms, total: 88.9 ms\n",
      "Wall time: 22.9 ms\n"
     ]
    }
   ],
   "source": [
    "%%time\n",
    "prdtst0 = bst.predict(dftst[cols_feat],num_iteration=bst.best_iteration)\n",
    "prdtst = calibration(prdtst0, train_pop, target_pop, sampled_train_pop, sampled_target_pop)"
   ]
  },
  {
   "cell_type": "code",
   "execution_count": 36,
   "metadata": {},
   "outputs": [],
   "source": [
    "dfsub_ids = dftst[['twtid','u2id',]]\n",
    "dfsub = dfsub_ids.copy()\n",
    "dfsub['scr'] = prdtst\n",
    "dfsub.to_csv(f'{p_out}/{TGT}__{PRFX}.csv',index=False,header=False)"
   ]
  },
  {
   "cell_type": "code",
   "execution_count": null,
   "metadata": {},
   "outputs": [],
   "source": []
  },
  {
   "cell_type": "code",
   "execution_count": null,
   "metadata": {},
   "outputs": [],
   "source": []
  },
  {
   "cell_type": "code",
   "execution_count": null,
   "metadata": {},
   "outputs": [],
   "source": []
  }
 ],
 "metadata": {
  "kernelspec": {
   "display_name": "rcss20",
   "language": "python",
   "name": "rcss20"
  },
  "language_info": {
   "codemirror_mode": {
    "name": "ipython",
    "version": 3
   },
   "file_extension": ".py",
   "mimetype": "text/x-python",
   "name": "python",
   "nbconvert_exporter": "python",
   "pygments_lexer": "ipython3",
   "version": "3.7.6"
  },
  "toc": {
   "base_numbering": 1,
   "nav_menu": {},
   "number_sections": true,
   "sideBar": true,
   "skip_h1_title": false,
   "title_cell": "Table of Contents",
   "title_sidebar": "Contents",
   "toc_cell": false,
   "toc_position": {},
   "toc_section_display": true,
   "toc_window_display": true
  }
 },
 "nbformat": 4,
 "nbformat_minor": 4
}
