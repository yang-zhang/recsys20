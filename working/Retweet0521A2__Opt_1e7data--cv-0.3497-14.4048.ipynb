{
 "cells": [
  {
   "cell_type": "markdown",
   "metadata": {},
   "source": [
    "# start"
   ]
  },
  {
   "cell_type": "code",
   "execution_count": 1,
   "metadata": {},
   "outputs": [
    {
     "name": "stdout",
     "output_type": "stream",
     "text": [
      "train_total 148,075,238, test_total 14,000,000\n",
      "train_total 10,000,000, valsz 1,000,000\n",
      "['2020-03-17 02:32:24', '2020-05-21 15:43:26']\n",
      "['2020-02-06 00:00:00', '2020-02-12 23:59:59']\n",
      "['2020-02-13 00:00:00', '2020-02-19 23:59:59']\n"
     ]
    }
   ],
   "source": [
    "TGT='Retweet'\n",
    "PRFX='Retweet0521A2'\n",
    "\n",
    "trntmstmp=1584412344\n",
    "tsttmstmp=1590075806\n",
    "\n",
    "tm_trn_min,tm_trn_max=(1580947200, 1581551999)\n",
    "tm_tst_min,tm_tst_max=(1581552000, 1582156799)\n",
    "\n",
    "train_total=148075238\n",
    "test_total=int(1.4e7)\n",
    "print(f'train_total {train_total:,}, test_total {test_total:,}')\n",
    "\n",
    "SEED=101\n",
    "\n",
    "trnsz = int(1e7)\n",
    "valsz = trnsz//10\n",
    "print(f'train_total {trnsz:,}, valsz {valsz:,}')\n",
    "\n",
    "\n",
    "\n",
    "import datetime\n",
    "def showtm(tm): return datetime.datetime.fromtimestamp(tm).strftime('%Y-%m-%d %H:%M:%S')\n",
    "print([showtm(tm) for tm in (trntmstmp, tsttmstmp)])\n",
    "print([showtm(tm) for tm in (tm_trn_min,tm_trn_max)])\n",
    "print([showtm(tm) for tm in (tm_tst_min,tm_tst_max)])"
   ]
  },
  {
   "cell_type": "markdown",
   "metadata": {},
   "source": [
    "# setup"
   ]
  },
  {
   "cell_type": "code",
   "execution_count": 2,
   "metadata": {},
   "outputs": [
    {
     "name": "stdout",
     "output_type": "stream",
     "text": [
      "TCOL retwt\n",
      "{'Retweet': 'retwt', 'Reply': 'reply', 'Like': 'like', 'RTwCmnt': 'retwt_cmmnt'}\n"
     ]
    }
   ],
   "source": [
    "from tqdm import tqdm\n",
    "import time\n",
    "from pathlib import Path\n",
    "from collections import Counter,defaultdict\n",
    "from sklearn.model_selection import train_test_split\n",
    "import pandas as pd\n",
    "import numpy as np\n",
    "import matplotlib.pyplot as plt\n",
    "from sklearn.metrics import accuracy_score, roc_auc_score, roc_curve, auc, precision_recall_curve\n",
    "import pickle\n",
    "# import xgboost as xgb\n",
    "import lightgbm as lgb\n",
    "import category_encoders as ce\n",
    "import gc\n",
    "\n",
    "import optuna\n",
    "# optuna.logging.CRITICAL, optuna.logging.FATAL\n",
    "# optuna.logging.ERROR\n",
    "# optuna.logging.WARNING, optuna.logging.WARN\n",
    "# optuna.logging.INFO\n",
    "# optuna.logging.DEBUG\n",
    "# optuna.logging.set_verbosity(optuna.logging.ERROR)\n",
    "import optuna.integration.lightgbm as lgb\n",
    "optuna.logging.disable_default_handler()\n",
    "\n",
    "\n",
    "pd.set_option('display.max_rows', 500)\n",
    "pd.set_option('display.max_columns', 500)\n",
    "\n",
    "\n",
    "import datetime\n",
    "def dtnow(): return datetime.datetime.now().strftime('%Y-%m-%d %H:%M:%S')\n",
    "\n",
    "def iou(s1,s2):\n",
    "    return len(s1&s2) / len(s1|s2)\n",
    "\n",
    "HOME='/data/git/recsys20'\n",
    "p_in=f'{HOME}/input'\n",
    "p_out=f'{HOME}/output/{PRFX}'\n",
    "Path(p_out).mkdir(exist_ok=True, parents=True)\n",
    "\n",
    "from sklearn.metrics import precision_recall_curve, auc, log_loss\n",
    "\n",
    "def compute_prauc(pred, gt):\n",
    "    prec, recall, thresh = precision_recall_curve(gt, pred)\n",
    "    prauc = auc(recall, prec)\n",
    "    return prauc\n",
    "\n",
    "def calculate_ctr(gt):\n",
    "    positive = len([x for x in gt if x == 1])\n",
    "    ctr = positive/float(len(gt))\n",
    "    return ctr\n",
    "\n",
    "def compute_rce(pred, gt):\n",
    "    cross_entropy = log_loss(gt, pred)\n",
    "    data_ctr = calculate_ctr(gt)\n",
    "    strawman_cross_entropy = log_loss(gt, [data_ctr for _ in range(len(gt))])\n",
    "    return (1.0 - cross_entropy/strawman_cross_entropy)*100.0\n",
    "\n",
    "# https://towardsdatascience.com/how-to-calibrate-undersampled-model-scores-8f3319c1ea5b\n",
    "# How to use the function?\n",
    "# Let’s say your goal is to generate a model that shows the credit default probabilities and your original \n",
    "# training data has 50,000 rows with only 500 of them labeled as target class. When you sample your non-target \n",
    "# instances randomly and reduce the total row count to 10,000, while conserving 500 target rows, our calibration\n",
    "# function becomes:\n",
    "# calibration(model_results, 50000, 500, 10000, 500)\n",
    "# Here model_results is your model probability output array. After you train your model and put the results in it, your function is ready to use. \n",
    "def calibration(data, train_pop, target_pop, sampled_train_pop, sampled_target_pop):\n",
    "    calibrated_data = ((data * (target_pop / train_pop) / (sampled_target_pop / sampled_train_pop)) /\n",
    "    (((1 - data) * (1 - target_pop / train_pop) / (1 - sampled_target_pop / sampled_train_pop)) +\n",
    "     (data * (target_pop / train_pop) / (sampled_target_pop / sampled_train_pop))))\n",
    "    return calibrated_data\n",
    "\n",
    "\n",
    "cols=['toks','hshtgs','twtid','media','links','domns','twttyp','lang','tm','u1id','u1_fllwer_cnt','u1_fllwing_cnt','u1_vrfed','u1_create_tm','u2id','u2_fllwer_cnt','u2_fllwng_cnt','u2_vrfed','u2_create_tm','u1_fllw_u2','reply_tm','retwt_tm','retwt_cmmnt_tm','like_tm',]\n",
    "\n",
    "cols_val = cols[:-4]\n",
    "cols_tgt_tmstmp=[ 'retwt_tm', 'reply_tm', 'like_tm', 'retwt_cmmnt_tm',]\n",
    "cols_tgt=[o.split('_tm')[0] for o in cols_tgt_tmstmp]\n",
    "tgts             = ['Retweet','Reply','Like','RTwCmnt',]\n",
    "assert cols_tgt == ['retwt',  'reply','like','retwt_cmmnt',]\n",
    "tgt2col = dict(zip(tgts, cols_tgt))\n",
    "TCOL=tgt2col[TGT]\n",
    "print('TCOL', TCOL)\n",
    "print(tgt2col)"
   ]
  },
  {
   "cell_type": "markdown",
   "metadata": {},
   "source": [
    "# prep"
   ]
  },
  {
   "cell_type": "code",
   "execution_count": 3,
   "metadata": {},
   "outputs": [],
   "source": [
    "def prp_tgt(df):\n",
    "    df[cols_tgt]=df[cols_tgt_tmstmp].notna()\n",
    "    df.drop(columns=cols_tgt_tmstmp, inplace=True)\n",
    "    display(df[cols_tgt].mean())"
   ]
  },
  {
   "cell_type": "code",
   "execution_count": 4,
   "metadata": {
    "scrolled": false
   },
   "outputs": [
    {
     "name": "stdout",
     "output_type": "stream",
     "text": [
      "(1000000, 24)\n"
     ]
    },
    {
     "data": {
      "text/plain": [
       "retwt          0.113135\n",
       "reply          0.027688\n",
       "like           0.438804\n",
       "retwt_cmmnt    0.007750\n",
       "dtype: float64"
      ]
     },
     "metadata": {},
     "output_type": "display_data"
    },
    {
     "name": "stdout",
     "output_type": "stream",
     "text": [
      "CPU times: user 11.1 s, sys: 1.44 s, total: 12.5 s\n",
      "Wall time: 13.8 s\n"
     ]
    }
   ],
   "source": [
    "%%time\n",
    "dfval = pd.read_csv(f'{p_in}/trn_{trntmstmp}.tsv',sep='\\x01',header=None,names=cols,nrows=valsz)\n",
    "print(dfval.shape)\n",
    "prp_tgt(dfval)"
   ]
  },
  {
   "cell_type": "markdown",
   "metadata": {},
   "source": [
    "## maybe oversample"
   ]
  },
  {
   "cell_type": "code",
   "execution_count": 5,
   "metadata": {},
   "outputs": [],
   "source": [
    "# df = pd.read_csv(f'{p_in}/trn_{trntmstmp}.tsv',sep='\\x01',header=None,names=cols,nrows=5)\n",
    "# dfval = pd.read_csv(f'{p_in}/trn_{trntmstmp}.tsv',sep='\\x01',header=None,names=cols,nrows=2)\n",
    "# dftrn = pd.read_csv(f'{p_in}/trn_{trntmstmp}.tsv',sep='\\x01',header=None,names=cols,skiprows=2,nrows=3)\n",
    "# display(df.twtid)\n",
    "# display(dfval.twtid)\n",
    "# display(dftrn.twtid)\n",
    "\n",
    "# 0    D4D1EBDE74F74C5DA529959AF979625C\n",
    "# 1    BFB529DAB6D384EB83E899A72AB3830D\n",
    "# 2    519078C7834E9642508F72A6C2D0F3B7\n",
    "# 3    52AAE9E33EFAC8C478C57B31A9E31ED1\n",
    "# 4    89C1298C55EB3D68E2784F0BFB69E6F8\n",
    "# Name: twtid, dtype: object\n",
    "# 0    D4D1EBDE74F74C5DA529959AF979625C\n",
    "# 1    BFB529DAB6D384EB83E899A72AB3830D\n",
    "# Name: twtid, dtype: object\n",
    "# 0    519078C7834E9642508F72A6C2D0F3B7\n",
    "# 1    52AAE9E33EFAC8C478C57B31A9E31ED1\n",
    "# 2    89C1298C55EB3D68E2784F0BFB69E6F8\n",
    "# Name: twtid, dtype: object"
   ]
  },
  {
   "cell_type": "code",
   "execution_count": 6,
   "metadata": {
    "scrolled": true
   },
   "outputs": [
    {
     "name": "stdout",
     "output_type": "stream",
     "text": [
      "(10000000, 24)\n"
     ]
    },
    {
     "data": {
      "text/plain": [
       "retwt          0.113119\n",
       "reply          0.027466\n",
       "like           0.439466\n",
       "retwt_cmmnt    0.007776\n",
       "dtype: float64"
      ]
     },
     "metadata": {},
     "output_type": "display_data"
    },
    {
     "name": "stdout",
     "output_type": "stream",
     "text": [
      "CPU times: user 1min 46s, sys: 11.9 s, total: 1min 57s\n",
      "Wall time: 2min 6s\n"
     ]
    }
   ],
   "source": [
    "%%time\n",
    "if TGT in ('Retweet','Like'): trnpop=trnsz\n",
    "if TGT=='Reply': trnpop=trnsz*3.7\n",
    "if TGT=='RTwCmnt': trnpop=trnsz*11.5\n",
    "assert trnpop<train_total\n",
    "\n",
    "dftrn = pd.read_csv(f'{p_in}/trn_{trntmstmp}.tsv',sep='\\x01',header=None,names=cols,\n",
    "                     skiprows=valsz, nrows=trnpop)\n",
    "print(dftrn.shape)\n",
    "prp_tgt(dftrn)"
   ]
  },
  {
   "cell_type": "code",
   "execution_count": 7,
   "metadata": {
    "scrolled": true
   },
   "outputs": [
    {
     "name": "stdout",
     "output_type": "stream",
     "text": [
      "(10000000, 24) 0.1131194\n",
      "10000000 1131194 10000000 1131194\n"
     ]
    },
    {
     "data": {
      "text/html": [
       "<div>\n",
       "<style scoped>\n",
       "    .dataframe tbody tr th:only-of-type {\n",
       "        vertical-align: middle;\n",
       "    }\n",
       "\n",
       "    .dataframe tbody tr th {\n",
       "        vertical-align: top;\n",
       "    }\n",
       "\n",
       "    .dataframe thead th {\n",
       "        text-align: right;\n",
       "    }\n",
       "</style>\n",
       "<table border=\"1\" class=\"dataframe\">\n",
       "  <thead>\n",
       "    <tr style=\"text-align: right;\">\n",
       "      <th></th>\n",
       "      <th>toks</th>\n",
       "      <th>hshtgs</th>\n",
       "      <th>twtid</th>\n",
       "      <th>media</th>\n",
       "      <th>links</th>\n",
       "      <th>domns</th>\n",
       "      <th>twttyp</th>\n",
       "      <th>lang</th>\n",
       "      <th>tm</th>\n",
       "      <th>u1id</th>\n",
       "      <th>u1_fllwer_cnt</th>\n",
       "      <th>u1_fllwing_cnt</th>\n",
       "      <th>u1_vrfed</th>\n",
       "      <th>u1_create_tm</th>\n",
       "      <th>u2id</th>\n",
       "      <th>u2_fllwer_cnt</th>\n",
       "      <th>u2_fllwng_cnt</th>\n",
       "      <th>u2_vrfed</th>\n",
       "      <th>u2_create_tm</th>\n",
       "      <th>u1_fllw_u2</th>\n",
       "      <th>retwt</th>\n",
       "      <th>reply</th>\n",
       "      <th>like</th>\n",
       "      <th>retwt_cmmnt</th>\n",
       "    </tr>\n",
       "  </thead>\n",
       "  <tbody>\n",
       "    <tr>\n",
       "      <th>0</th>\n",
       "      <td>101\\t9706\\t36553\\t108578\\t119\\t119\\t119\\t108\\t...</td>\n",
       "      <td>11218D05D5E94DE4E577C3AF9338E65D\\t3A6FF9E6FA11...</td>\n",
       "      <td>E0B1129F0B31CAE6655127073C08979C</td>\n",
       "      <td>Photo</td>\n",
       "      <td>NaN</td>\n",
       "      <td>NaN</td>\n",
       "      <td>TopLevel</td>\n",
       "      <td>125C57F4FA6D4E110983FB11B52EFD4E</td>\n",
       "      <td>1581348967</td>\n",
       "      <td>30D18739CC163E7629104D16BE4E65DF</td>\n",
       "      <td>13537</td>\n",
       "      <td>114</td>\n",
       "      <td>False</td>\n",
       "      <td>1534442935</td>\n",
       "      <td>0DD2A83B6837B1FA23CEA85748175A46</td>\n",
       "      <td>95</td>\n",
       "      <td>354</td>\n",
       "      <td>False</td>\n",
       "      <td>1348229207</td>\n",
       "      <td>False</td>\n",
       "      <td>True</td>\n",
       "      <td>False</td>\n",
       "      <td>False</td>\n",
       "      <td>False</td>\n",
       "    </tr>\n",
       "    <tr>\n",
       "      <th>1</th>\n",
       "      <td>101\\t56898\\t137\\t12655\\t168\\t10514\\t10115\\t131...</td>\n",
       "      <td>NaN</td>\n",
       "      <td>99E58F0E8DADFB4BAF9EEA0E93694AAE</td>\n",
       "      <td>Photo\\tPhoto\\tPhoto\\tPhoto</td>\n",
       "      <td>NaN</td>\n",
       "      <td>NaN</td>\n",
       "      <td>Retweet</td>\n",
       "      <td>22C448FF81263D4BAF2A176145EE9EAD</td>\n",
       "      <td>1581391499</td>\n",
       "      <td>458AF1D57377287A0BAB2A56AA3EE4AC</td>\n",
       "      <td>136</td>\n",
       "      <td>688</td>\n",
       "      <td>False</td>\n",
       "      <td>1429565372</td>\n",
       "      <td>0DD2A9EE937B01347709DE173E6E1E47</td>\n",
       "      <td>74</td>\n",
       "      <td>181</td>\n",
       "      <td>False</td>\n",
       "      <td>1496325843</td>\n",
       "      <td>True</td>\n",
       "      <td>False</td>\n",
       "      <td>False</td>\n",
       "      <td>True</td>\n",
       "      <td>False</td>\n",
       "    </tr>\n",
       "    <tr>\n",
       "      <th>2</th>\n",
       "      <td>101\\t56898\\t137\\t24109\\t10506\\t168\\t21881\\t113...</td>\n",
       "      <td>NaN</td>\n",
       "      <td>9A3C7C7654F75C478EC3922E60AD0039</td>\n",
       "      <td>Photo</td>\n",
       "      <td>NaN</td>\n",
       "      <td>NaN</td>\n",
       "      <td>Retweet</td>\n",
       "      <td>ECED8A16BE2A5E8871FD55F4842F16B1</td>\n",
       "      <td>1581460690</td>\n",
       "      <td>356534AF79A703A631CA45EF95F702C9</td>\n",
       "      <td>466</td>\n",
       "      <td>805</td>\n",
       "      <td>False</td>\n",
       "      <td>1402911598</td>\n",
       "      <td>0DD2AA5E775014DC55292B2B7E80619E</td>\n",
       "      <td>215</td>\n",
       "      <td>436</td>\n",
       "      <td>False</td>\n",
       "      <td>1451672532</td>\n",
       "      <td>True</td>\n",
       "      <td>False</td>\n",
       "      <td>False</td>\n",
       "      <td>True</td>\n",
       "      <td>False</td>\n",
       "    </tr>\n",
       "    <tr>\n",
       "      <th>3</th>\n",
       "      <td>101\\t56898\\t137\\t53542\\t14985\\t11537\\t28754\\t1...</td>\n",
       "      <td>NaN</td>\n",
       "      <td>4F7E51D4C05BC27B8F29CCE39BA5CA95</td>\n",
       "      <td>Photo\\tPhoto</td>\n",
       "      <td>NaN</td>\n",
       "      <td>NaN</td>\n",
       "      <td>Retweet</td>\n",
       "      <td>D3164C7FBCF2565DDF915B1B3AEFB1DC</td>\n",
       "      <td>1581324557</td>\n",
       "      <td>221780A4B90649CB87AC0CBA7102A2AC</td>\n",
       "      <td>3491</td>\n",
       "      <td>2001</td>\n",
       "      <td>False</td>\n",
       "      <td>1231675403</td>\n",
       "      <td>0DD2AACDA7259687F9FD27A6CA3A0614</td>\n",
       "      <td>143</td>\n",
       "      <td>254</td>\n",
       "      <td>False</td>\n",
       "      <td>1375373900</td>\n",
       "      <td>True</td>\n",
       "      <td>False</td>\n",
       "      <td>False</td>\n",
       "      <td>True</td>\n",
       "      <td>False</td>\n",
       "    </tr>\n",
       "    <tr>\n",
       "      <th>4</th>\n",
       "      <td>101\\t199\\t143\\t27128\\t32002\\t106\\t137\\t17673\\t...</td>\n",
       "      <td>35D2EF13596CAC1B15863EF3CAB39A2E\\t85ADB30A7FFB...</td>\n",
       "      <td>9035B7BA255DE0118FA0F41D2BB897A2</td>\n",
       "      <td>Photo</td>\n",
       "      <td>B490D14EB0D08709727B4CEE188641AA</td>\n",
       "      <td>26D558AFEEDD2EDC37CB4A5E7042E1C4</td>\n",
       "      <td>TopLevel</td>\n",
       "      <td>06D61DCBBE938971E1EA0C38BD9B5446</td>\n",
       "      <td>1581162933</td>\n",
       "      <td>DBE3576D0E67C652379202D7202B874F</td>\n",
       "      <td>5210115</td>\n",
       "      <td>1583</td>\n",
       "      <td>True</td>\n",
       "      <td>1211799913</td>\n",
       "      <td>0DD2AAD677632C842DE89D7BB43AA453</td>\n",
       "      <td>226</td>\n",
       "      <td>330</td>\n",
       "      <td>False</td>\n",
       "      <td>1576352487</td>\n",
       "      <td>False</td>\n",
       "      <td>False</td>\n",
       "      <td>False</td>\n",
       "      <td>False</td>\n",
       "      <td>False</td>\n",
       "    </tr>\n",
       "  </tbody>\n",
       "</table>\n",
       "</div>"
      ],
      "text/plain": [
       "                                                toks  \\\n",
       "0  101\\t9706\\t36553\\t108578\\t119\\t119\\t119\\t108\\t...   \n",
       "1  101\\t56898\\t137\\t12655\\t168\\t10514\\t10115\\t131...   \n",
       "2  101\\t56898\\t137\\t24109\\t10506\\t168\\t21881\\t113...   \n",
       "3  101\\t56898\\t137\\t53542\\t14985\\t11537\\t28754\\t1...   \n",
       "4  101\\t199\\t143\\t27128\\t32002\\t106\\t137\\t17673\\t...   \n",
       "\n",
       "                                              hshtgs  \\\n",
       "0  11218D05D5E94DE4E577C3AF9338E65D\\t3A6FF9E6FA11...   \n",
       "1                                                NaN   \n",
       "2                                                NaN   \n",
       "3                                                NaN   \n",
       "4  35D2EF13596CAC1B15863EF3CAB39A2E\\t85ADB30A7FFB...   \n",
       "\n",
       "                              twtid                       media  \\\n",
       "0  E0B1129F0B31CAE6655127073C08979C                       Photo   \n",
       "1  99E58F0E8DADFB4BAF9EEA0E93694AAE  Photo\\tPhoto\\tPhoto\\tPhoto   \n",
       "2  9A3C7C7654F75C478EC3922E60AD0039                       Photo   \n",
       "3  4F7E51D4C05BC27B8F29CCE39BA5CA95                Photo\\tPhoto   \n",
       "4  9035B7BA255DE0118FA0F41D2BB897A2                       Photo   \n",
       "\n",
       "                              links                             domns  \\\n",
       "0                               NaN                               NaN   \n",
       "1                               NaN                               NaN   \n",
       "2                               NaN                               NaN   \n",
       "3                               NaN                               NaN   \n",
       "4  B490D14EB0D08709727B4CEE188641AA  26D558AFEEDD2EDC37CB4A5E7042E1C4   \n",
       "\n",
       "     twttyp                              lang          tm  \\\n",
       "0  TopLevel  125C57F4FA6D4E110983FB11B52EFD4E  1581348967   \n",
       "1   Retweet  22C448FF81263D4BAF2A176145EE9EAD  1581391499   \n",
       "2   Retweet  ECED8A16BE2A5E8871FD55F4842F16B1  1581460690   \n",
       "3   Retweet  D3164C7FBCF2565DDF915B1B3AEFB1DC  1581324557   \n",
       "4  TopLevel  06D61DCBBE938971E1EA0C38BD9B5446  1581162933   \n",
       "\n",
       "                               u1id  u1_fllwer_cnt  u1_fllwing_cnt  u1_vrfed  \\\n",
       "0  30D18739CC163E7629104D16BE4E65DF          13537             114     False   \n",
       "1  458AF1D57377287A0BAB2A56AA3EE4AC            136             688     False   \n",
       "2  356534AF79A703A631CA45EF95F702C9            466             805     False   \n",
       "3  221780A4B90649CB87AC0CBA7102A2AC           3491            2001     False   \n",
       "4  DBE3576D0E67C652379202D7202B874F        5210115            1583      True   \n",
       "\n",
       "   u1_create_tm                              u2id  u2_fllwer_cnt  \\\n",
       "0    1534442935  0DD2A83B6837B1FA23CEA85748175A46             95   \n",
       "1    1429565372  0DD2A9EE937B01347709DE173E6E1E47             74   \n",
       "2    1402911598  0DD2AA5E775014DC55292B2B7E80619E            215   \n",
       "3    1231675403  0DD2AACDA7259687F9FD27A6CA3A0614            143   \n",
       "4    1211799913  0DD2AAD677632C842DE89D7BB43AA453            226   \n",
       "\n",
       "   u2_fllwng_cnt  u2_vrfed  u2_create_tm  u1_fllw_u2  retwt  reply   like  \\\n",
       "0            354     False    1348229207       False   True  False  False   \n",
       "1            181     False    1496325843        True  False  False   True   \n",
       "2            436     False    1451672532        True  False  False   True   \n",
       "3            254     False    1375373900        True  False  False   True   \n",
       "4            330     False    1576352487       False  False  False  False   \n",
       "\n",
       "   retwt_cmmnt  \n",
       "0        False  \n",
       "1        False  \n",
       "2        False  \n",
       "3        False  \n",
       "4        False  "
      ]
     },
     "metadata": {},
     "output_type": "display_data"
    },
    {
     "data": {
      "text/plain": [
       "Index(['toks', 'hshtgs', 'twtid', 'media', 'links', 'domns', 'twttyp', 'lang',\n",
       "       'tm', 'u1id', 'u1_fllwer_cnt', 'u1_fllwing_cnt', 'u1_vrfed',\n",
       "       'u1_create_tm', 'u2id', 'u2_fllwer_cnt', 'u2_fllwng_cnt', 'u2_vrfed',\n",
       "       'u2_create_tm', 'u1_fllw_u2', 'retwt', 'reply', 'like', 'retwt_cmmnt'],\n",
       "      dtype='object')"
      ]
     },
     "metadata": {},
     "output_type": "display_data"
    }
   ],
   "source": [
    "train_pop=len(dftrn)\n",
    "sampled_train_pop=trnsz\n",
    "idx_pos = np.where(dftrn[TCOL])[0]\n",
    "target_pop=sampled_target_pop=len(idx_pos)\n",
    "if TGT in ('Reply','RTwCmnt'):\n",
    "    idx_neg0 = np.where(~dftrn[TCOL])[0]\n",
    "    idx_neg = np.random.choice(idx_neg0, trnsz-len(idx_pos), replace=False)\n",
    "    idx = np.concatenate([idx_pos,idx_neg])\n",
    "    dftrn = dftrn.iloc[idx].copy()\n",
    "print(dftrn.shape, dftrn[TCOL].mean())\n",
    "print(train_pop, target_pop, sampled_train_pop, sampled_target_pop)\n",
    "\n",
    "display(dftrn.head())\n",
    "display(dftrn.columns)"
   ]
  },
  {
   "cell_type": "markdown",
   "metadata": {},
   "source": [
    "## prep and features"
   ]
  },
  {
   "cell_type": "code",
   "execution_count": 8,
   "metadata": {},
   "outputs": [],
   "source": [
    "def prp_df(df, tm_max):\n",
    "    '''\n",
    "    tm_max = tm_trn_max for train tm_tst_max for test\n",
    "    '''\n",
    "    lendf = len(df)\n",
    "    print(dtnow(), 'start')\n",
    "    set_u1 = set(df.u1id)\n",
    "    set_u2 = set(df.u2id)\n",
    "    df['u1inu2']=df.u1id.isin(set_u2)\n",
    "    df['u2inu1']=df.u2id.isin(set_u1)\n",
    "\n",
    "    #counts\n",
    "    df['len_toks'] = df.toks.apply(lambda x: len(x.split('\\t')))\n",
    "    df.drop(columns=['toks'], inplace=True)    \n",
    "    for m in ['Photo', 'Video', 'GIF']:\n",
    "        df[f'n_media_{m}'] = df['media'].fillna('').apply(lambda x: x.split('\\t').count(m))\n",
    "    tgnms = ['hshtgs','media', 'links', 'domns',]\n",
    "    for tgnm in tgnms:\n",
    "        df[f'has_{tgnm}']=df[tgnm].notna()\n",
    "        df[f'lst_{tgnm}'] = df[tgnm].fillna('').apply(lambda x: x.split('\\t') if len(x) else [])\n",
    "        df[f'n_{tgnm}'] = df[f'lst_{tgnm}'].apply(len)  \n",
    "    df.drop(columns=['has_links','n_links'], inplace=True) #duplicates has_domns,n_domns \n",
    "    \n",
    "    #time\n",
    "    dt = pd.to_datetime(df.tm, unit='s')\n",
    "    df['dayofweek'] = dt.dt.dayofweek\n",
    "    df['hour'] = dt.dt.hour\n",
    "    \n",
    "    df['tmdlta_u2u1']  = df.u2_create_tm - df.u1_create_tm\n",
    "    df['tmdlta_twtu1'] = df.tm - df.u1_create_tm\n",
    "    df['tmdlta_twtu2'] = df.tm - df.u2_create_tm\n",
    "\n",
    "    df['twt_age']   = tm_max-df.tm\n",
    "    df['u1_age']    = tm_max-df.u1_create_tm\n",
    "    df['u2_age']    = tm_max-df.u2_create_tm\n",
    "    df.drop(columns=['tm', 'u1_create_tm', 'u2_create_tm'], inplace=True)\n",
    "\n",
    "    #time derived\n",
    "    df['u1_fllwer_cnt_by_age'] = df.u1_fllwer_cnt / df.u1_age\n",
    "    df['u1_fllwng_cnt_by_age'] = df.u2_fllwng_cnt / df.u2_age\n",
    "    \n",
    "    #interaction\n",
    "    df['u1u2']=df.u1id+'_'+df.u2id\n",
    "    df['langhour']=df.lang+'_'+df.hour.astype(str)\n",
    "    \n",
    "\n",
    "#     #freq of feature values\n",
    "#     print(dtnow(), 'freq of columns using CountEncoder')\n",
    "#     encoder = ce.CountEncoder()\n",
    "#     encoded = encoder.fit_transform(\n",
    "#     df[['twtid', 'twttyp', 'lang', 'u1id', 'u1_fllwing_cnt', 'u1_vrfed', 'u2id', 'u2_fllwer_cnt', 'u2_vrfed', 'u1_fllw_u2', \n",
    "#        'n_media_Photo', 'n_media_Video', 'n_media_GIF', \n",
    "#        'has_hshtgs', 'n_hshtgs', 'has_media', 'n_media','has_domns', 'n_domns', \n",
    "#        'dayofweek', 'hour', 'u1u2', 'langhour']].astype(object))\n",
    "#     encoded = encoded.astype(int)/lendf\n",
    "#     encoded.columns = [f'frq_{col}' for col in encoded.columns]\n",
    "#     df = pd.concat([df,encoded],1)\n",
    "    \n",
    "    #freq of tgnm values\n",
    "#     print(dtnow(), 'freq of tags')\n",
    "#     for tgnm in tgnms:\n",
    "#         vs = [j for i in df[f'lst_{tgnm}'] for j in i]\n",
    "#         cnt = Counter(vs)\n",
    "#         frq = {k:v/lendf for k,v in cnt.items()}\n",
    "#         df[f'sumfrq_{tgnm}']=df[f'lst_{tgnm}'].apply(lambda x: sum([frq.get(o,0) for o in x]))\n",
    "#         df[f'maxfrq_{tgnm}']=df[f'lst_{tgnm}'].apply(lambda x: max([frq.get(o,0) for o in x]) if len(x) else 0)\n",
    "    \n",
    "    df.drop(columns=tgnms+[f'lst_{tgnm}' for tgnm in tgnms],inplace=True)\n",
    "\n",
    "    print(dtnow(), 'done')\n",
    "    return df"
   ]
  },
  {
   "cell_type": "code",
   "execution_count": 9,
   "metadata": {},
   "outputs": [
    {
     "name": "stdout",
     "output_type": "stream",
     "text": [
      "2020-05-22 01:00:52 start\n",
      "2020-05-22 01:06:44 done\n",
      "CPU times: user 4min 28s, sys: 45.8 s, total: 5min 13s\n",
      "Wall time: 5min 53s\n"
     ]
    }
   ],
   "source": [
    "%%time\n",
    "dftrn=prp_df(dftrn, tm_max=tm_trn_max)"
   ]
  },
  {
   "cell_type": "code",
   "execution_count": 10,
   "metadata": {},
   "outputs": [
    {
     "name": "stdout",
     "output_type": "stream",
     "text": [
      "2020-05-22 01:06:46 start\n",
      "2020-05-22 01:07:34 done\n",
      "CPU times: user 21.9 s, sys: 2.56 s, total: 24.5 s\n",
      "Wall time: 48.2 s\n"
     ]
    }
   ],
   "source": [
    "%%time\n",
    "dfval=prp_df(dfval, tm_max=tm_trn_max)"
   ]
  },
  {
   "cell_type": "markdown",
   "metadata": {},
   "source": [
    "## tr vl split"
   ]
  },
  {
   "cell_type": "code",
   "execution_count": 11,
   "metadata": {},
   "outputs": [
    {
     "data": {
      "text/plain": [
       "30"
      ]
     },
     "execution_count": 11,
     "metadata": {},
     "output_type": "execute_result"
    }
   ],
   "source": [
    "msk_vl=np.random.rand(len(dftrn))<0.15\n",
    "idxvl=np.where( msk_vl)[0]\n",
    "idxtr=np.where(~msk_vl)[0]\n",
    "\n",
    "dftr = dftrn.iloc[idxtr].copy()\n",
    "dfvl = dftrn.iloc[idxvl].copy()\n",
    "del dftrn\n",
    "\n",
    "gc.collect()"
   ]
  },
  {
   "cell_type": "code",
   "execution_count": 12,
   "metadata": {},
   "outputs": [],
   "source": [
    "cols_category=['twttyp', 'lang', 'langhour']\n",
    "for df in dftr,dfvl,dfval:\n",
    "    df.drop(columns=['twtid','u1id','u2id','u1u2'], inplace=True)\n",
    "    df[cols_category]=df[cols_category].astype('category')"
   ]
  },
  {
   "cell_type": "code",
   "execution_count": 13,
   "metadata": {},
   "outputs": [],
   "source": [
    "cols_feat = [col for col in dftr.columns if col not in cols_tgt]"
   ]
  },
  {
   "cell_type": "markdown",
   "metadata": {},
   "source": [
    "# model"
   ]
  },
  {
   "cell_type": "markdown",
   "metadata": {},
   "source": [
    "## cols_feat"
   ]
  },
  {
   "cell_type": "code",
   "execution_count": 14,
   "metadata": {},
   "outputs": [
    {
     "data": {
      "text/plain": [
       "['twttyp',\n",
       " 'lang',\n",
       " 'u1_fllwer_cnt',\n",
       " 'u1_fllwing_cnt',\n",
       " 'u1_vrfed',\n",
       " 'u2_fllwer_cnt',\n",
       " 'u2_fllwng_cnt',\n",
       " 'u2_vrfed',\n",
       " 'u1_fllw_u2',\n",
       " 'u1inu2',\n",
       " 'u2inu1',\n",
       " 'len_toks',\n",
       " 'n_media_Photo',\n",
       " 'n_media_Video',\n",
       " 'n_media_GIF',\n",
       " 'has_hshtgs',\n",
       " 'n_hshtgs',\n",
       " 'has_media',\n",
       " 'n_media',\n",
       " 'has_domns',\n",
       " 'n_domns',\n",
       " 'dayofweek',\n",
       " 'hour',\n",
       " 'tmdlta_u2u1',\n",
       " 'tmdlta_twtu1',\n",
       " 'tmdlta_twtu2',\n",
       " 'twt_age',\n",
       " 'u1_age',\n",
       " 'u2_age',\n",
       " 'u1_fllwer_cnt_by_age',\n",
       " 'u1_fllwng_cnt_by_age',\n",
       " 'langhour']"
      ]
     },
     "execution_count": 14,
     "metadata": {},
     "output_type": "execute_result"
    }
   ],
   "source": [
    "cols_feat"
   ]
  },
  {
   "cell_type": "code",
   "execution_count": 15,
   "metadata": {},
   "outputs": [
    {
     "name": "stdout",
     "output_type": "stream",
     "text": [
      "32\n"
     ]
    }
   ],
   "source": [
    "print(len(cols_feat))\n"
   ]
  },
  {
   "cell_type": "code",
   "execution_count": 16,
   "metadata": {},
   "outputs": [],
   "source": [
    "results = {}\n",
    "results['PRFX'] = PRFX\n",
    "results['TGT'] = TGT\n",
    "results['cols_feat'] = cols_feat"
   ]
  },
  {
   "cell_type": "code",
   "execution_count": 17,
   "metadata": {},
   "outputs": [],
   "source": [
    "params={\n",
    "    'objective': 'binary',\n",
    "    'metric': 'binary_logloss',\n",
    "    'verbosity': 0,    \n",
    "}\n",
    "\n",
    "results['params'] = params"
   ]
  },
  {
   "cell_type": "code",
   "execution_count": null,
   "metadata": {
    "scrolled": true
   },
   "outputs": [
    {
     "name": "stderr",
     "output_type": "stream",
     "text": [
      "/data/anaconda3/envs/rcss20/lib/python3.7/site-packages/optuna/_experimental.py:87: ExperimentalWarning: train is experimental (supported from v0.18.0). The interface can change in the future.\n",
      "  ExperimentalWarning\n",
      "tune_feature_fraction, val_score: inf:   0%|          | 0/7 [00:00<?, ?it/s]"
     ]
    },
    {
     "name": "stdout",
     "output_type": "stream",
     "text": [
      "Training until validation scores don't improve for 100 rounds\n",
      "[100]\ttr's binary_logloss: 0.306683\tvl's binary_logloss: 0.307146\n",
      "[200]\ttr's binary_logloss: 0.303975\tvl's binary_logloss: 0.304944\n",
      "[300]\ttr's binary_logloss: 0.302559\tvl's binary_logloss: 0.303973\n",
      "[400]\ttr's binary_logloss: 0.301419\tvl's binary_logloss: 0.303265\n",
      "[500]\ttr's binary_logloss: 0.30051\tvl's binary_logloss: 0.302771\n",
      "[600]\ttr's binary_logloss: 0.299804\tvl's binary_logloss: 0.30242\n",
      "[700]\ttr's binary_logloss: 0.299132\tvl's binary_logloss: 0.302099\n",
      "[800]\ttr's binary_logloss: 0.298436\tvl's binary_logloss: 0.301766\n",
      "[900]\ttr's binary_logloss: 0.297864\tvl's binary_logloss: 0.30152\n",
      "[1000]\ttr's binary_logloss: 0.297288\tvl's binary_logloss: 0.301311\n",
      "[1100]\ttr's binary_logloss: 0.296784\tvl's binary_logloss: 0.301132\n",
      "[1200]\ttr's binary_logloss: 0.296267\tvl's binary_logloss: 0.300912\n",
      "[1300]\ttr's binary_logloss: 0.295847\tvl's binary_logloss: 0.300778\n",
      "[1400]\ttr's binary_logloss: 0.295401\tvl's binary_logloss: 0.300636\n",
      "[1500]\ttr's binary_logloss: 0.294999\tvl's binary_logloss: 0.300517\n",
      "[1600]\ttr's binary_logloss: 0.294615\tvl's binary_logloss: 0.300417\n",
      "[1700]\ttr's binary_logloss: 0.294242\tvl's binary_logloss: 0.300328\n",
      "[1800]\ttr's binary_logloss: 0.293869\tvl's binary_logloss: 0.300208\n",
      "[1900]\ttr's binary_logloss: 0.293496\tvl's binary_logloss: 0.30009\n",
      "[2000]\ttr's binary_logloss: 0.293084\tvl's binary_logloss: 0.299968\n",
      "[2100]\ttr's binary_logloss: 0.292713\tvl's binary_logloss: 0.299864\n",
      "[2200]\ttr's binary_logloss: 0.292369\tvl's binary_logloss: 0.299808\n",
      "[2300]\ttr's binary_logloss: 0.292049\tvl's binary_logloss: 0.299743\n",
      "[2400]\ttr's binary_logloss: 0.29174\tvl's binary_logloss: 0.299688\n",
      "[2500]\ttr's binary_logloss: 0.291417\tvl's binary_logloss: 0.299637\n",
      "[2600]\ttr's binary_logloss: 0.291116\tvl's binary_logloss: 0.299577\n",
      "[2700]\ttr's binary_logloss: 0.290826\tvl's binary_logloss: 0.299533\n",
      "[2800]\ttr's binary_logloss: 0.2905\tvl's binary_logloss: 0.299476\n",
      "[2900]\ttr's binary_logloss: 0.290191\tvl's binary_logloss: 0.299425\n",
      "[3000]\ttr's binary_logloss: 0.289902\tvl's binary_logloss: 0.299373\n",
      "[3100]\ttr's binary_logloss: 0.28964\tvl's binary_logloss: 0.299335\n",
      "[3200]\ttr's binary_logloss: 0.289369\tvl's binary_logloss: 0.299302\n",
      "[3300]\ttr's binary_logloss: 0.289084\tvl's binary_logloss: 0.299268\n",
      "[3400]\ttr's binary_logloss: 0.288819\tvl's binary_logloss: 0.299235\n",
      "[3500]\ttr's binary_logloss: 0.288539\tvl's binary_logloss: 0.299182\n",
      "[3600]\ttr's binary_logloss: 0.288262\tvl's binary_logloss: 0.299149\n",
      "[3700]\ttr's binary_logloss: 0.288021\tvl's binary_logloss: 0.299132\n",
      "[3800]\ttr's binary_logloss: 0.287756\tvl's binary_logloss: 0.299101\n",
      "[3900]\ttr's binary_logloss: 0.287482\tvl's binary_logloss: 0.299065\n",
      "[4000]\ttr's binary_logloss: 0.287219\tvl's binary_logloss: 0.299033\n",
      "[4100]\ttr's binary_logloss: 0.286939\tvl's binary_logloss: 0.298993\n",
      "[4200]\ttr's binary_logloss: 0.286692\tvl's binary_logloss: 0.298964\n",
      "[4300]\ttr's binary_logloss: 0.286454\tvl's binary_logloss: 0.298945\n",
      "[4400]\ttr's binary_logloss: 0.286202\tvl's binary_logloss: 0.298932\n",
      "[4500]\ttr's binary_logloss: 0.285967\tvl's binary_logloss: 0.298921\n",
      "[4600]\ttr's binary_logloss: 0.285732\tvl's binary_logloss: 0.298912\n",
      "[4700]\ttr's binary_logloss: 0.285486\tvl's binary_logloss: 0.298882\n",
      "[4800]\ttr's binary_logloss: 0.285225\tvl's binary_logloss: 0.298861\n",
      "[4900]\ttr's binary_logloss: 0.284986\tvl's binary_logloss: 0.298839\n",
      "[5000]\ttr's binary_logloss: 0.284732\tvl's binary_logloss: 0.298807\n",
      "[5100]\ttr's binary_logloss: 0.284485\tvl's binary_logloss: 0.298777\n",
      "[5200]\ttr's binary_logloss: 0.284241\tvl's binary_logloss: 0.298743\n",
      "[5300]\ttr's binary_logloss: 0.283993\tvl's binary_logloss: 0.298719\n",
      "[5400]\ttr's binary_logloss: 0.28375\tvl's binary_logloss: 0.298693\n",
      "[5500]\ttr's binary_logloss: 0.283509\tvl's binary_logloss: 0.298678\n",
      "[5600]\ttr's binary_logloss: 0.283275\tvl's binary_logloss: 0.29865\n",
      "[5700]\ttr's binary_logloss: 0.283042\tvl's binary_logloss: 0.29862\n",
      "[5800]\ttr's binary_logloss: 0.282802\tvl's binary_logloss: 0.298586\n",
      "[5900]\ttr's binary_logloss: 0.282564\tvl's binary_logloss: 0.298567\n",
      "[6000]\ttr's binary_logloss: 0.282354\tvl's binary_logloss: 0.298563\n",
      "[6100]\ttr's binary_logloss: 0.28213\tvl's binary_logloss: 0.298547\n",
      "[6200]\ttr's binary_logloss: 0.281908\tvl's binary_logloss: 0.298524\n",
      "[6300]\ttr's binary_logloss: 0.281679\tvl's binary_logloss: 0.298518\n",
      "[6400]\ttr's binary_logloss: 0.281452\tvl's binary_logloss: 0.298509\n",
      "[6500]\ttr's binary_logloss: 0.28123\tvl's binary_logloss: 0.298499\n",
      "[6600]\ttr's binary_logloss: 0.280988\tvl's binary_logloss: 0.298472\n",
      "[6700]\ttr's binary_logloss: 0.280754\tvl's binary_logloss: 0.298442\n",
      "[6800]\ttr's binary_logloss: 0.280547\tvl's binary_logloss: 0.298434\n",
      "[6900]\ttr's binary_logloss: 0.280334\tvl's binary_logloss: 0.298424\n",
      "[7000]\ttr's binary_logloss: 0.280117\tvl's binary_logloss: 0.298423\n",
      "Early stopping, best iteration is:\n",
      "[6923]\ttr's binary_logloss: 0.280277\tvl's binary_logloss: 0.298414\n"
     ]
    },
    {
     "name": "stderr",
     "output_type": "stream",
     "text": [
      "tune_feature_fraction, val_score: 0.298414:  14%|#4        | 1/7 [1:46:35<10:39:32, 6395.40s/it]"
     ]
    },
    {
     "name": "stdout",
     "output_type": "stream",
     "text": [
      "Training until validation scores don't improve for 100 rounds\n",
      "[100]\ttr's binary_logloss: 0.306423\tvl's binary_logloss: 0.306945\n",
      "[200]\ttr's binary_logloss: 0.303619\tvl's binary_logloss: 0.304718\n",
      "[300]\ttr's binary_logloss: 0.30215\tvl's binary_logloss: 0.303809\n",
      "[400]\ttr's binary_logloss: 0.300983\tvl's binary_logloss: 0.303181\n",
      "[500]\ttr's binary_logloss: 0.29995\tvl's binary_logloss: 0.302583\n",
      "[600]\ttr's binary_logloss: 0.299169\tvl's binary_logloss: 0.302214\n",
      "[700]\ttr's binary_logloss: 0.298364\tvl's binary_logloss: 0.30183\n",
      "[800]\ttr's binary_logloss: 0.2977\tvl's binary_logloss: 0.3016\n",
      "[900]\ttr's binary_logloss: 0.297123\tvl's binary_logloss: 0.301363\n",
      "[1000]\ttr's binary_logloss: 0.296553\tvl's binary_logloss: 0.301195\n",
      "[1100]\ttr's binary_logloss: 0.29597\tvl's binary_logloss: 0.301002\n",
      "[1200]\ttr's binary_logloss: 0.295472\tvl's binary_logloss: 0.30087\n",
      "[1300]\ttr's binary_logloss: 0.295022\tvl's binary_logloss: 0.300747\n",
      "[1400]\ttr's binary_logloss: 0.294548\tvl's binary_logloss: 0.300651\n",
      "[1500]\ttr's binary_logloss: 0.294162\tvl's binary_logloss: 0.300578\n",
      "[1600]\ttr's binary_logloss: 0.293727\tvl's binary_logloss: 0.300448\n",
      "[1700]\ttr's binary_logloss: 0.293321\tvl's binary_logloss: 0.300339\n",
      "[1800]\ttr's binary_logloss: 0.292931\tvl's binary_logloss: 0.300237\n",
      "[1900]\ttr's binary_logloss: 0.292553\tvl's binary_logloss: 0.300158\n",
      "[2000]\ttr's binary_logloss: 0.292182\tvl's binary_logloss: 0.300068\n",
      "[2100]\ttr's binary_logloss: 0.291758\tvl's binary_logloss: 0.299945\n",
      "[2200]\ttr's binary_logloss: 0.291384\tvl's binary_logloss: 0.299876\n",
      "[2300]\ttr's binary_logloss: 0.291017\tvl's binary_logloss: 0.299784\n",
      "[2400]\ttr's binary_logloss: 0.290686\tvl's binary_logloss: 0.299747\n",
      "[2500]\ttr's binary_logloss: 0.290362\tvl's binary_logloss: 0.299695\n",
      "[2600]\ttr's binary_logloss: 0.29003\tvl's binary_logloss: 0.299643\n",
      "[2700]\ttr's binary_logloss: 0.289713\tvl's binary_logloss: 0.299584\n",
      "[2800]\ttr's binary_logloss: 0.289352\tvl's binary_logloss: 0.299516\n",
      "[2900]\ttr's binary_logloss: 0.289026\tvl's binary_logloss: 0.299461\n",
      "[3000]\ttr's binary_logloss: 0.28873\tvl's binary_logloss: 0.29943\n",
      "[3100]\ttr's binary_logloss: 0.288437\tvl's binary_logloss: 0.299407\n",
      "[3200]\ttr's binary_logloss: 0.288158\tvl's binary_logloss: 0.299376\n",
      "[3300]\ttr's binary_logloss: 0.287885\tvl's binary_logloss: 0.299339\n",
      "[3400]\ttr's binary_logloss: 0.287604\tvl's binary_logloss: 0.299325\n",
      "[3500]\ttr's binary_logloss: 0.287312\tvl's binary_logloss: 0.299274\n",
      "[3600]\ttr's binary_logloss: 0.287047\tvl's binary_logloss: 0.29924\n",
      "[3700]\ttr's binary_logloss: 0.28676\tvl's binary_logloss: 0.299205\n",
      "[3800]\ttr's binary_logloss: 0.286486\tvl's binary_logloss: 0.29919\n",
      "[3900]\ttr's binary_logloss: 0.286203\tvl's binary_logloss: 0.299162\n",
      "[4000]\ttr's binary_logloss: 0.285931\tvl's binary_logloss: 0.299141\n",
      "[4100]\ttr's binary_logloss: 0.285671\tvl's binary_logloss: 0.299121\n",
      "[4200]\ttr's binary_logloss: 0.285418\tvl's binary_logloss: 0.29911\n",
      "[4300]\ttr's binary_logloss: 0.285173\tvl's binary_logloss: 0.299082\n",
      "[4400]\ttr's binary_logloss: 0.28491\tvl's binary_logloss: 0.299063\n",
      "[4500]\ttr's binary_logloss: 0.284649\tvl's binary_logloss: 0.299047\n",
      "[4600]\ttr's binary_logloss: 0.284407\tvl's binary_logloss: 0.299041\n",
      "[4700]\ttr's binary_logloss: 0.284161\tvl's binary_logloss: 0.299023\n",
      "[4800]\ttr's binary_logloss: 0.283914\tvl's binary_logloss: 0.29902\n",
      "Early stopping, best iteration is:\n",
      "[4731]\ttr's binary_logloss: 0.284083\tvl's binary_logloss: 0.299016\n"
     ]
    },
    {
     "name": "stderr",
     "output_type": "stream",
     "text": [
      "tune_feature_fraction, val_score: 0.298414:  29%|##8       | 2/7 [3:11:22<8:20:14, 6002.83s/it] "
     ]
    },
    {
     "name": "stdout",
     "output_type": "stream",
     "text": [
      "Training until validation scores don't improve for 100 rounds\n",
      "[100]\ttr's binary_logloss: 0.306512\tvl's binary_logloss: 0.30706\n",
      "[200]\ttr's binary_logloss: 0.303496\tvl's binary_logloss: 0.304779\n",
      "[300]\ttr's binary_logloss: 0.301893\tvl's binary_logloss: 0.30375\n",
      "[400]\ttr's binary_logloss: 0.300632\tvl's binary_logloss: 0.303084\n",
      "[500]\ttr's binary_logloss: 0.299625\tvl's binary_logloss: 0.302558\n",
      "[600]\ttr's binary_logloss: 0.298694\tvl's binary_logloss: 0.302088\n",
      "[700]\ttr's binary_logloss: 0.297942\tvl's binary_logloss: 0.30177\n",
      "[800]\ttr's binary_logloss: 0.297227\tvl's binary_logloss: 0.301548\n",
      "[900]\ttr's binary_logloss: 0.296618\tvl's binary_logloss: 0.30135\n",
      "[1000]\ttr's binary_logloss: 0.296006\tvl's binary_logloss: 0.301185\n",
      "[1100]\ttr's binary_logloss: 0.295432\tvl's binary_logloss: 0.301014\n",
      "[1200]\ttr's binary_logloss: 0.294957\tvl's binary_logloss: 0.3009\n",
      "[1300]\ttr's binary_logloss: 0.294458\tvl's binary_logloss: 0.300792\n",
      "[1400]\ttr's binary_logloss: 0.293998\tvl's binary_logloss: 0.300674\n",
      "[1500]\ttr's binary_logloss: 0.293515\tvl's binary_logloss: 0.300553\n",
      "[1600]\ttr's binary_logloss: 0.293028\tvl's binary_logloss: 0.300429\n",
      "[1700]\ttr's binary_logloss: 0.292616\tvl's binary_logloss: 0.300338\n",
      "[1800]\ttr's binary_logloss: 0.292183\tvl's binary_logloss: 0.300212\n",
      "[1900]\ttr's binary_logloss: 0.291783\tvl's binary_logloss: 0.300138\n",
      "[2000]\ttr's binary_logloss: 0.291384\tvl's binary_logloss: 0.300032\n",
      "[2100]\ttr's binary_logloss: 0.290971\tvl's binary_logloss: 0.299948\n",
      "[2200]\ttr's binary_logloss: 0.29061\tvl's binary_logloss: 0.299924\n",
      "[2300]\ttr's binary_logloss: 0.290234\tvl's binary_logloss: 0.299851\n",
      "[2400]\ttr's binary_logloss: 0.289871\tvl's binary_logloss: 0.299781\n",
      "[2500]\ttr's binary_logloss: 0.289534\tvl's binary_logloss: 0.299746\n",
      "[2600]\ttr's binary_logloss: 0.289203\tvl's binary_logloss: 0.299718\n",
      "[2700]\ttr's binary_logloss: 0.288901\tvl's binary_logloss: 0.2997\n",
      "[2800]\ttr's binary_logloss: 0.288558\tvl's binary_logloss: 0.299668\n",
      "[2900]\ttr's binary_logloss: 0.288203\tvl's binary_logloss: 0.299612\n",
      "[3000]\ttr's binary_logloss: 0.287911\tvl's binary_logloss: 0.299608\n",
      "[3100]\ttr's binary_logloss: 0.287602\tvl's binary_logloss: 0.299568\n",
      "[3200]\ttr's binary_logloss: 0.287317\tvl's binary_logloss: 0.299541\n",
      "[3300]\ttr's binary_logloss: 0.287001\tvl's binary_logloss: 0.2995\n",
      "[3400]\ttr's binary_logloss: 0.286708\tvl's binary_logloss: 0.299492\n",
      "[3500]\ttr's binary_logloss: 0.286425\tvl's binary_logloss: 0.299462\n",
      "[3600]\ttr's binary_logloss: 0.28612\tvl's binary_logloss: 0.29943\n",
      "[3700]\ttr's binary_logloss: 0.285833\tvl's binary_logloss: 0.299414\n",
      "[3800]\ttr's binary_logloss: 0.285561\tvl's binary_logloss: 0.299398\n",
      "[3900]\ttr's binary_logloss: 0.285271\tvl's binary_logloss: 0.299387\n",
      "[4000]\ttr's binary_logloss: 0.285006\tvl's binary_logloss: 0.299376\n",
      "[4100]\ttr's binary_logloss: 0.284723\tvl's binary_logloss: 0.299352\n",
      "[4200]\ttr's binary_logloss: 0.284431\tvl's binary_logloss: 0.299323\n",
      "[4300]\ttr's binary_logloss: 0.284173\tvl's binary_logloss: 0.299319\n",
      "[4400]\ttr's binary_logloss: 0.283896\tvl's binary_logloss: 0.299303\n",
      "[4500]\ttr's binary_logloss: 0.283631\tvl's binary_logloss: 0.299287\n",
      "[4600]\ttr's binary_logloss: 0.283386\tvl's binary_logloss: 0.299286\n",
      "Early stopping, best iteration is:\n",
      "[4520]\ttr's binary_logloss: 0.283573\tvl's binary_logloss: 0.299278\n"
     ]
    },
    {
     "name": "stderr",
     "output_type": "stream",
     "text": [
      "tune_feature_fraction, val_score: 0.298414:  43%|####2     | 3/7 [4:36:12<6:21:56, 5729.08s/it]"
     ]
    },
    {
     "name": "stdout",
     "output_type": "stream",
     "text": [
      "Training until validation scores don't improve for 100 rounds\n",
      "[100]\ttr's binary_logloss: 0.306238\tvl's binary_logloss: 0.306853\n",
      "[200]\ttr's binary_logloss: 0.303298\tvl's binary_logloss: 0.304714\n",
      "[300]\ttr's binary_logloss: 0.301697\tvl's binary_logloss: 0.303781\n",
      "[400]\ttr's binary_logloss: 0.30027\tvl's binary_logloss: 0.303074\n",
      "[500]\ttr's binary_logloss: 0.299206\tvl's binary_logloss: 0.302558\n",
      "[600]\ttr's binary_logloss: 0.298416\tvl's binary_logloss: 0.302221\n",
      "[700]\ttr's binary_logloss: 0.297616\tvl's binary_logloss: 0.301903\n",
      "[800]\ttr's binary_logloss: 0.29693\tvl's binary_logloss: 0.301737\n",
      "[900]\ttr's binary_logloss: 0.296304\tvl's binary_logloss: 0.301552\n",
      "[1000]\ttr's binary_logloss: 0.295584\tvl's binary_logloss: 0.301304\n",
      "[1100]\ttr's binary_logloss: 0.294954\tvl's binary_logloss: 0.301104\n",
      "[1200]\ttr's binary_logloss: 0.294344\tvl's binary_logloss: 0.300954\n",
      "[1300]\ttr's binary_logloss: 0.293774\tvl's binary_logloss: 0.30081\n",
      "[1400]\ttr's binary_logloss: 0.293319\tvl's binary_logloss: 0.300761\n",
      "[1500]\ttr's binary_logloss: 0.292851\tvl's binary_logloss: 0.300667\n",
      "[1600]\ttr's binary_logloss: 0.29236\tvl's binary_logloss: 0.300555\n",
      "[1700]\ttr's binary_logloss: 0.291904\tvl's binary_logloss: 0.300481\n",
      "[1800]\ttr's binary_logloss: 0.291493\tvl's binary_logloss: 0.30044\n",
      "[1900]\ttr's binary_logloss: 0.291035\tvl's binary_logloss: 0.300359\n",
      "[2000]\ttr's binary_logloss: 0.290645\tvl's binary_logloss: 0.300311\n",
      "[2100]\ttr's binary_logloss: 0.290206\tvl's binary_logloss: 0.300237\n",
      "[2200]\ttr's binary_logloss: 0.289819\tvl's binary_logloss: 0.300224\n",
      "[2300]\ttr's binary_logloss: 0.289483\tvl's binary_logloss: 0.300203\n",
      "[2400]\ttr's binary_logloss: 0.289101\tvl's binary_logloss: 0.300155\n",
      "[2500]\ttr's binary_logloss: 0.288705\tvl's binary_logloss: 0.300126\n",
      "[2600]\ttr's binary_logloss: 0.288371\tvl's binary_logloss: 0.300102\n",
      "[2700]\ttr's binary_logloss: 0.288023\tvl's binary_logloss: 0.300059\n",
      "[2800]\ttr's binary_logloss: 0.287678\tvl's binary_logloss: 0.300031\n",
      "[2900]\ttr's binary_logloss: 0.287336\tvl's binary_logloss: 0.299999\n",
      "[3000]\ttr's binary_logloss: 0.287041\tvl's binary_logloss: 0.299984\n",
      "[3100]\ttr's binary_logloss: 0.286727\tvl's binary_logloss: 0.299965\n",
      "[3200]\ttr's binary_logloss: 0.28638\tvl's binary_logloss: 0.299909\n",
      "[3300]\ttr's binary_logloss: 0.286075\tvl's binary_logloss: 0.29988\n",
      "[3400]\ttr's binary_logloss: 0.285788\tvl's binary_logloss: 0.299864\n",
      "[3500]\ttr's binary_logloss: 0.285457\tvl's binary_logloss: 0.299837\n",
      "[3600]\ttr's binary_logloss: 0.285154\tvl's binary_logloss: 0.299802\n",
      "[3700]\ttr's binary_logloss: 0.284861\tvl's binary_logloss: 0.299796\n",
      "[3800]\ttr's binary_logloss: 0.284557\tvl's binary_logloss: 0.299771\n",
      "[3900]\ttr's binary_logloss: 0.284269\tvl's binary_logloss: 0.299751\n",
      "[4000]\ttr's binary_logloss: 0.283965\tvl's binary_logloss: 0.29973\n",
      "[4100]\ttr's binary_logloss: 0.283681\tvl's binary_logloss: 0.299715\n",
      "[4200]\ttr's binary_logloss: 0.283377\tvl's binary_logloss: 0.299694\n",
      "[4300]\ttr's binary_logloss: 0.283099\tvl's binary_logloss: 0.299677\n",
      "[4400]\ttr's binary_logloss: 0.282801\tvl's binary_logloss: 0.29965\n",
      "[4500]\ttr's binary_logloss: 0.28253\tvl's binary_logloss: 0.299643\n",
      "[4600]\ttr's binary_logloss: 0.28226\tvl's binary_logloss: 0.29963\n",
      "[4700]\ttr's binary_logloss: 0.281981\tvl's binary_logloss: 0.299616\n",
      "[4800]\ttr's binary_logloss: 0.281718\tvl's binary_logloss: 0.299591\n",
      "[4900]\ttr's binary_logloss: 0.28145\tvl's binary_logloss: 0.299575\n",
      "[5000]\ttr's binary_logloss: 0.281191\tvl's binary_logloss: 0.299576\n",
      "Early stopping, best iteration is:\n",
      "[4930]\ttr's binary_logloss: 0.281366\tvl's binary_logloss: 0.29957\n"
     ]
    },
    {
     "name": "stderr",
     "output_type": "stream",
     "text": [
      "tune_feature_fraction, val_score: 0.298414:  57%|#####7    | 4/7 [6:23:20<4:56:56, 5938.83s/it]"
     ]
    },
    {
     "name": "stdout",
     "output_type": "stream",
     "text": [
      "Training until validation scores don't improve for 100 rounds\n",
      "[100]\ttr's binary_logloss: 0.306017\tvl's binary_logloss: 0.306703\n",
      "[200]\ttr's binary_logloss: 0.303139\tvl's binary_logloss: 0.304711\n",
      "[300]\ttr's binary_logloss: 0.301509\tvl's binary_logloss: 0.303808\n",
      "[400]\ttr's binary_logloss: 0.300253\tvl's binary_logloss: 0.303266\n",
      "[500]\ttr's binary_logloss: 0.299073\tvl's binary_logloss: 0.302751\n",
      "[600]\ttr's binary_logloss: 0.298026\tvl's binary_logloss: 0.302329\n",
      "[700]\ttr's binary_logloss: 0.297107\tvl's binary_logloss: 0.302\n",
      "[800]\ttr's binary_logloss: 0.296375\tvl's binary_logloss: 0.301848\n",
      "[900]\ttr's binary_logloss: 0.295697\tvl's binary_logloss: 0.301643\n",
      "[1000]\ttr's binary_logloss: 0.294976\tvl's binary_logloss: 0.301458\n",
      "[1100]\ttr's binary_logloss: 0.294274\tvl's binary_logloss: 0.301255\n",
      "[1200]\ttr's binary_logloss: 0.293658\tvl's binary_logloss: 0.301128\n",
      "[1300]\ttr's binary_logloss: 0.293054\tvl's binary_logloss: 0.301007\n",
      "[1400]\ttr's binary_logloss: 0.29252\tvl's binary_logloss: 0.300911\n",
      "[1500]\ttr's binary_logloss: 0.292024\tvl's binary_logloss: 0.300827\n",
      "[1600]\ttr's binary_logloss: 0.291527\tvl's binary_logloss: 0.300745\n",
      "[1700]\ttr's binary_logloss: 0.291078\tvl's binary_logloss: 0.300656\n",
      "[1800]\ttr's binary_logloss: 0.290593\tvl's binary_logloss: 0.300578\n",
      "[1900]\ttr's binary_logloss: 0.290153\tvl's binary_logloss: 0.300548\n",
      "[2000]\ttr's binary_logloss: 0.28972\tvl's binary_logloss: 0.300492\n",
      "[2100]\ttr's binary_logloss: 0.289345\tvl's binary_logloss: 0.300476\n",
      "[2200]\ttr's binary_logloss: 0.288947\tvl's binary_logloss: 0.300452\n",
      "[2300]\ttr's binary_logloss: 0.288504\tvl's binary_logloss: 0.300361\n",
      "[2400]\ttr's binary_logloss: 0.288061\tvl's binary_logloss: 0.30028\n",
      "[2500]\ttr's binary_logloss: 0.287642\tvl's binary_logloss: 0.300253\n",
      "[2600]\ttr's binary_logloss: 0.287261\tvl's binary_logloss: 0.300236\n",
      "[2700]\ttr's binary_logloss: 0.286878\tvl's binary_logloss: 0.300237\n",
      "[2800]\ttr's binary_logloss: 0.28653\tvl's binary_logloss: 0.300214\n",
      "[2900]\ttr's binary_logloss: 0.286198\tvl's binary_logloss: 0.300206\n",
      "[3000]\ttr's binary_logloss: 0.285897\tvl's binary_logloss: 0.300209\n",
      "[3100]\ttr's binary_logloss: 0.285538\tvl's binary_logloss: 0.300178\n",
      "[3200]\ttr's binary_logloss: 0.285191\tvl's binary_logloss: 0.300151\n",
      "[3300]\ttr's binary_logloss: 0.284849\tvl's binary_logloss: 0.300126\n",
      "[3400]\ttr's binary_logloss: 0.284502\tvl's binary_logloss: 0.300101\n",
      "[3500]\ttr's binary_logloss: 0.284195\tvl's binary_logloss: 0.300091\n",
      "[3600]\ttr's binary_logloss: 0.283876\tvl's binary_logloss: 0.300084\n",
      "[3700]\ttr's binary_logloss: 0.283594\tvl's binary_logloss: 0.300079\n",
      "[3800]\ttr's binary_logloss: 0.283267\tvl's binary_logloss: 0.300071\n",
      "Early stopping, best iteration is:\n",
      "[3733]\ttr's binary_logloss: 0.283477\tvl's binary_logloss: 0.300067\n"
     ]
    },
    {
     "name": "stderr",
     "output_type": "stream",
     "text": [
      "tune_feature_fraction, val_score: 0.298414:  71%|#######1  | 5/7 [7:59:04<3:16:00, 5880.06s/it]"
     ]
    },
    {
     "name": "stdout",
     "output_type": "stream",
     "text": [
      "Training until validation scores don't improve for 100 rounds\n",
      "[100]\ttr's binary_logloss: 0.306078\tvl's binary_logloss: 0.306778\n",
      "[200]\ttr's binary_logloss: 0.303169\tvl's binary_logloss: 0.304873\n",
      "[300]\ttr's binary_logloss: 0.301335\tvl's binary_logloss: 0.303866\n",
      "[400]\ttr's binary_logloss: 0.300035\tvl's binary_logloss: 0.303314\n",
      "[500]\ttr's binary_logloss: 0.298822\tvl's binary_logloss: 0.302832\n",
      "[600]\ttr's binary_logloss: 0.297763\tvl's binary_logloss: 0.302418\n",
      "[700]\ttr's binary_logloss: 0.296857\tvl's binary_logloss: 0.302128\n",
      "[800]\ttr's binary_logloss: 0.296029\tvl's binary_logloss: 0.301917\n",
      "[900]\ttr's binary_logloss: 0.295283\tvl's binary_logloss: 0.301722\n",
      "[1000]\ttr's binary_logloss: 0.294623\tvl's binary_logloss: 0.301605\n",
      "[1100]\ttr's binary_logloss: 0.293966\tvl's binary_logloss: 0.301478\n",
      "[1200]\ttr's binary_logloss: 0.293325\tvl's binary_logloss: 0.301351\n",
      "[1300]\ttr's binary_logloss: 0.292734\tvl's binary_logloss: 0.301274\n",
      "[1400]\ttr's binary_logloss: 0.292156\tvl's binary_logloss: 0.301212\n",
      "[1500]\ttr's binary_logloss: 0.291635\tvl's binary_logloss: 0.301105\n",
      "[1600]\ttr's binary_logloss: 0.291113\tvl's binary_logloss: 0.301049\n",
      "[1700]\ttr's binary_logloss: 0.290596\tvl's binary_logloss: 0.300958\n",
      "[1800]\ttr's binary_logloss: 0.290105\tvl's binary_logloss: 0.3009\n",
      "[1900]\ttr's binary_logloss: 0.289673\tvl's binary_logloss: 0.30087\n",
      "[2000]\ttr's binary_logloss: 0.28923\tvl's binary_logloss: 0.300829\n",
      "[2100]\ttr's binary_logloss: 0.28873\tvl's binary_logloss: 0.30078\n",
      "[2200]\ttr's binary_logloss: 0.288267\tvl's binary_logloss: 0.300741\n",
      "[2300]\ttr's binary_logloss: 0.28783\tvl's binary_logloss: 0.300698\n",
      "[2400]\ttr's binary_logloss: 0.287408\tvl's binary_logloss: 0.300688\n",
      "[2500]\ttr's binary_logloss: 0.286995\tvl's binary_logloss: 0.30068\n",
      "[2600]\ttr's binary_logloss: 0.286569\tvl's binary_logloss: 0.30063\n",
      "[2700]\ttr's binary_logloss: 0.286165\tvl's binary_logloss: 0.300619\n",
      "[2800]\ttr's binary_logloss: 0.285815\tvl's binary_logloss: 0.300598\n",
      "[2900]\ttr's binary_logloss: 0.285409\tvl's binary_logloss: 0.300576\n",
      "Early stopping, best iteration is:\n",
      "[2883]\ttr's binary_logloss: 0.285465\tvl's binary_logloss: 0.300575\n"
     ]
    },
    {
     "name": "stderr",
     "output_type": "stream",
     "text": [
      "tune_feature_fraction, val_score: 0.298414:  86%|########5 | 6/7 [9:20:59<1:33:10, 5590.85s/it]"
     ]
    },
    {
     "name": "stdout",
     "output_type": "stream",
     "text": [
      "Training until validation scores don't improve for 100 rounds\n",
      "[100]\ttr's binary_logloss: 0.305997\tvl's binary_logloss: 0.306707\n",
      "[200]\ttr's binary_logloss: 0.30302\tvl's binary_logloss: 0.304749\n",
      "[300]\ttr's binary_logloss: 0.301255\tvl's binary_logloss: 0.30394\n",
      "[400]\ttr's binary_logloss: 0.300036\tvl's binary_logloss: 0.303463\n",
      "[500]\ttr's binary_logloss: 0.29875\tvl's binary_logloss: 0.302953\n",
      "[600]\ttr's binary_logloss: 0.297734\tvl's binary_logloss: 0.30263\n",
      "[700]\ttr's binary_logloss: 0.296891\tvl's binary_logloss: 0.302408\n",
      "[800]\ttr's binary_logloss: 0.295997\tvl's binary_logloss: 0.302148\n",
      "[900]\ttr's binary_logloss: 0.295169\tvl's binary_logloss: 0.301935\n",
      "[1000]\ttr's binary_logloss: 0.294386\tvl's binary_logloss: 0.301744\n",
      "[1100]\ttr's binary_logloss: 0.293642\tvl's binary_logloss: 0.301583\n",
      "[1200]\ttr's binary_logloss: 0.292939\tvl's binary_logloss: 0.301464\n",
      "[1300]\ttr's binary_logloss: 0.29237\tvl's binary_logloss: 0.301409\n",
      "[1400]\ttr's binary_logloss: 0.29178\tvl's binary_logloss: 0.301323\n",
      "[1500]\ttr's binary_logloss: 0.291217\tvl's binary_logloss: 0.301262\n",
      "[1600]\ttr's binary_logloss: 0.290641\tvl's binary_logloss: 0.301199\n",
      "[1700]\ttr's binary_logloss: 0.290114\tvl's binary_logloss: 0.301133\n",
      "[1800]\ttr's binary_logloss: 0.289616\tvl's binary_logloss: 0.301102\n",
      "[1900]\ttr's binary_logloss: 0.289099\tvl's binary_logloss: 0.301037\n",
      "[2000]\ttr's binary_logloss: 0.288676\tvl's binary_logloss: 0.301037\n",
      "[2100]\ttr's binary_logloss: 0.288246\tvl's binary_logloss: 0.301011\n",
      "[2200]\ttr's binary_logloss: 0.287792\tvl's binary_logloss: 0.300981\n",
      "[2300]\ttr's binary_logloss: 0.28738\tvl's binary_logloss: 0.300968\n",
      "[2400]\ttr's binary_logloss: 0.286953\tvl's binary_logloss: 0.300951\n",
      "Early stopping, best iteration is:\n",
      "[2353]\ttr's binary_logloss: 0.287126\tvl's binary_logloss: 0.300944\n"
     ]
    },
    {
     "name": "stderr",
     "output_type": "stream",
     "text": [
      "tune_feature_fraction, val_score: 0.298414: 100%|##########| 7/7 [10:29:24<00:00, 5394.98s/it]  \n",
      "tune_num_leaves, val_score: 0.298414:   0%|          | 0/20 [00:00<?, ?it/s]"
     ]
    },
    {
     "name": "stdout",
     "output_type": "stream",
     "text": [
      "Training until validation scores don't improve for 100 rounds\n",
      "[100]\ttr's binary_logloss: 0.300467\tvl's binary_logloss: 0.302715\n",
      "[200]\ttr's binary_logloss: 0.296792\tvl's binary_logloss: 0.300775\n",
      "[300]\ttr's binary_logloss: 0.29468\tvl's binary_logloss: 0.300254\n",
      "[400]\ttr's binary_logloss: 0.292803\tvl's binary_logloss: 0.299844\n",
      "[500]\ttr's binary_logloss: 0.291094\tvl's binary_logloss: 0.299508\n",
      "[600]\ttr's binary_logloss: 0.289547\tvl's binary_logloss: 0.299318\n",
      "[700]\ttr's binary_logloss: 0.288174\tvl's binary_logloss: 0.299179\n",
      "[800]\ttr's binary_logloss: 0.286959\tvl's binary_logloss: 0.299104\n",
      "[900]\ttr's binary_logloss: 0.28563\tvl's binary_logloss: 0.298906\n",
      "[1000]\ttr's binary_logloss: 0.284432\tvl's binary_logloss: 0.298861\n",
      "[1100]\ttr's binary_logloss: 0.28325\tvl's binary_logloss: 0.298732\n",
      "[1200]\ttr's binary_logloss: 0.282188\tvl's binary_logloss: 0.298649\n",
      "[1300]\ttr's binary_logloss: 0.281069\tvl's binary_logloss: 0.298567\n",
      "[1400]\ttr's binary_logloss: 0.280082\tvl's binary_logloss: 0.2985\n",
      "[1500]\ttr's binary_logloss: 0.27898\tvl's binary_logloss: 0.298447\n",
      "[1600]\ttr's binary_logloss: 0.27799\tvl's binary_logloss: 0.298417\n",
      "[1700]\ttr's binary_logloss: 0.276947\tvl's binary_logloss: 0.298377\n",
      "[1800]\ttr's binary_logloss: 0.275961\tvl's binary_logloss: 0.298331\n",
      "[1900]\ttr's binary_logloss: 0.274965\tvl's binary_logloss: 0.298258\n",
      "[2000]\ttr's binary_logloss: 0.273969\tvl's binary_logloss: 0.298259\n",
      "Early stopping, best iteration is:\n",
      "[1942]\ttr's binary_logloss: 0.27453\tvl's binary_logloss: 0.298247\n"
     ]
    },
    {
     "name": "stderr",
     "output_type": "stream",
     "text": [
      "tune_num_leaves, val_score: 0.298247:   5%|5         | 1/20 [1:11:07<22:31:21, 4267.45s/it]"
     ]
    },
    {
     "name": "stdout",
     "output_type": "stream",
     "text": [
      "Training until validation scores don't improve for 100 rounds\n",
      "[100]\ttr's binary_logloss: 0.29895\tvl's binary_logloss: 0.301865\n",
      "[200]\ttr's binary_logloss: 0.29488\tvl's binary_logloss: 0.300043\n",
      "[300]\ttr's binary_logloss: 0.292528\tvl's binary_logloss: 0.299578\n",
      "[400]\ttr's binary_logloss: 0.290433\tvl's binary_logloss: 0.299251\n",
      "[500]\ttr's binary_logloss: 0.288418\tvl's binary_logloss: 0.299022\n",
      "[600]\ttr's binary_logloss: 0.286696\tvl's binary_logloss: 0.298881\n",
      "[700]\ttr's binary_logloss: 0.285195\tvl's binary_logloss: 0.298834\n",
      "[800]\ttr's binary_logloss: 0.283769\tvl's binary_logloss: 0.298774\n",
      "[900]\ttr's binary_logloss: 0.282403\tvl's binary_logloss: 0.298721\n",
      "[1000]\ttr's binary_logloss: 0.280968\tvl's binary_logloss: 0.298634\n",
      "[1100]\ttr's binary_logloss: 0.279578\tvl's binary_logloss: 0.298559\n",
      "[1200]\ttr's binary_logloss: 0.278054\tvl's binary_logloss: 0.298444\n",
      "[1300]\ttr's binary_logloss: 0.276846\tvl's binary_logloss: 0.298414\n",
      "[1400]\ttr's binary_logloss: 0.275728\tvl's binary_logloss: 0.298427\n",
      "Early stopping, best iteration is:\n",
      "[1321]\ttr's binary_logloss: 0.276586\tvl's binary_logloss: 0.298408\n"
     ]
    },
    {
     "name": "stderr",
     "output_type": "stream",
     "text": [
      "tune_num_leaves, val_score: 0.298247:  10%|#         | 2/20 [2:09:56<20:13:45, 4045.89s/it]"
     ]
    },
    {
     "name": "stdout",
     "output_type": "stream",
     "text": [
      "Training until validation scores don't improve for 100 rounds\n",
      "[100]\ttr's binary_logloss: 0.307327\tvl's binary_logloss: 0.307711\n",
      "[200]\ttr's binary_logloss: 0.304666\tvl's binary_logloss: 0.305475\n",
      "[300]\ttr's binary_logloss: 0.303263\tvl's binary_logloss: 0.304457\n",
      "[400]\ttr's binary_logloss: 0.302315\tvl's binary_logloss: 0.303872\n",
      "[500]\ttr's binary_logloss: 0.301395\tvl's binary_logloss: 0.303294\n",
      "[600]\ttr's binary_logloss: 0.300576\tvl's binary_logloss: 0.302798\n",
      "[700]\ttr's binary_logloss: 0.299895\tvl's binary_logloss: 0.30245\n",
      "[800]\ttr's binary_logloss: 0.299281\tvl's binary_logloss: 0.302149\n",
      "[900]\ttr's binary_logloss: 0.298702\tvl's binary_logloss: 0.30185\n",
      "[1000]\ttr's binary_logloss: 0.298214\tvl's binary_logloss: 0.301637\n",
      "[1100]\ttr's binary_logloss: 0.297712\tvl's binary_logloss: 0.301425\n",
      "[1200]\ttr's binary_logloss: 0.29729\tvl's binary_logloss: 0.301272\n",
      "[1300]\ttr's binary_logloss: 0.29691\tvl's binary_logloss: 0.30113\n",
      "[1400]\ttr's binary_logloss: 0.29649\tvl's binary_logloss: 0.300975\n",
      "[1500]\ttr's binary_logloss: 0.296105\tvl's binary_logloss: 0.300842\n",
      "[1600]\ttr's binary_logloss: 0.2957\tvl's binary_logloss: 0.3007\n",
      "[1700]\ttr's binary_logloss: 0.29537\tvl's binary_logloss: 0.300604\n",
      "[1800]\ttr's binary_logloss: 0.295031\tvl's binary_logloss: 0.300505\n",
      "[1900]\ttr's binary_logloss: 0.294706\tvl's binary_logloss: 0.300399\n",
      "[2000]\ttr's binary_logloss: 0.294412\tvl's binary_logloss: 0.300321\n",
      "[2100]\ttr's binary_logloss: 0.294047\tvl's binary_logloss: 0.30018\n",
      "[2200]\ttr's binary_logloss: 0.293755\tvl's binary_logloss: 0.300117\n",
      "[2300]\ttr's binary_logloss: 0.293467\tvl's binary_logloss: 0.300037\n",
      "[2400]\ttr's binary_logloss: 0.293147\tvl's binary_logloss: 0.299958\n",
      "[2500]\ttr's binary_logloss: 0.292857\tvl's binary_logloss: 0.299871\n",
      "[2600]\ttr's binary_logloss: 0.292597\tvl's binary_logloss: 0.299828\n",
      "[2700]\ttr's binary_logloss: 0.292332\tvl's binary_logloss: 0.299783\n",
      "[2800]\ttr's binary_logloss: 0.292062\tvl's binary_logloss: 0.299732\n",
      "[2900]\ttr's binary_logloss: 0.291808\tvl's binary_logloss: 0.299702\n",
      "[3000]\ttr's binary_logloss: 0.291543\tvl's binary_logloss: 0.299643\n",
      "[3100]\ttr's binary_logloss: 0.291265\tvl's binary_logloss: 0.299576\n",
      "[3200]\ttr's binary_logloss: 0.291029\tvl's binary_logloss: 0.299532\n",
      "[3300]\ttr's binary_logloss: 0.290762\tvl's binary_logloss: 0.299457\n",
      "[3400]\ttr's binary_logloss: 0.290516\tvl's binary_logloss: 0.299425\n",
      "[3500]\ttr's binary_logloss: 0.290231\tvl's binary_logloss: 0.299349\n",
      "[3600]\ttr's binary_logloss: 0.289992\tvl's binary_logloss: 0.299313\n",
      "[3700]\ttr's binary_logloss: 0.289749\tvl's binary_logloss: 0.299267\n",
      "[3800]\ttr's binary_logloss: 0.289491\tvl's binary_logloss: 0.29923\n",
      "[3900]\ttr's binary_logloss: 0.289271\tvl's binary_logloss: 0.299203\n",
      "[4000]\ttr's binary_logloss: 0.289036\tvl's binary_logloss: 0.299184\n",
      "[4100]\ttr's binary_logloss: 0.288822\tvl's binary_logloss: 0.299152\n",
      "[4200]\ttr's binary_logloss: 0.288621\tvl's binary_logloss: 0.299141\n",
      "[4300]\ttr's binary_logloss: 0.288412\tvl's binary_logloss: 0.299118\n",
      "[4400]\ttr's binary_logloss: 0.288221\tvl's binary_logloss: 0.299109\n",
      "[4500]\ttr's binary_logloss: 0.288001\tvl's binary_logloss: 0.299078\n",
      "[4600]\ttr's binary_logloss: 0.287792\tvl's binary_logloss: 0.299051\n",
      "[4700]\ttr's binary_logloss: 0.28758\tvl's binary_logloss: 0.29903\n",
      "[4800]\ttr's binary_logloss: 0.287363\tvl's binary_logloss: 0.299005\n",
      "[4900]\ttr's binary_logloss: 0.287145\tvl's binary_logloss: 0.29898\n",
      "[5000]\ttr's binary_logloss: 0.286919\tvl's binary_logloss: 0.298953\n",
      "[5100]\ttr's binary_logloss: 0.286708\tvl's binary_logloss: 0.298933\n",
      "[5200]\ttr's binary_logloss: 0.286495\tvl's binary_logloss: 0.2989\n",
      "[5300]\ttr's binary_logloss: 0.286263\tvl's binary_logloss: 0.298858\n",
      "[5400]\ttr's binary_logloss: 0.28605\tvl's binary_logloss: 0.298831\n",
      "[5500]\ttr's binary_logloss: 0.28583\tvl's binary_logloss: 0.298812\n",
      "[5600]\ttr's binary_logloss: 0.285628\tvl's binary_logloss: 0.298794\n",
      "[5700]\ttr's binary_logloss: 0.285431\tvl's binary_logloss: 0.298772\n",
      "[5800]\ttr's binary_logloss: 0.285256\tvl's binary_logloss: 0.298763\n",
      "[5900]\ttr's binary_logloss: 0.285061\tvl's binary_logloss: 0.298752\n",
      "[6000]\ttr's binary_logloss: 0.284859\tvl's binary_logloss: 0.298735\n",
      "[6100]\ttr's binary_logloss: 0.284667\tvl's binary_logloss: 0.29872\n",
      "[6200]\ttr's binary_logloss: 0.284459\tvl's binary_logloss: 0.298685\n",
      "[6300]\ttr's binary_logloss: 0.284256\tvl's binary_logloss: 0.298679\n",
      "Early stopping, best iteration is:\n",
      "[6246]\ttr's binary_logloss: 0.284365\tvl's binary_logloss: 0.298675\n"
     ]
    },
    {
     "name": "stderr",
     "output_type": "stream",
     "text": [
      "tune_num_leaves, val_score: 0.298247:  15%|#5        | 3/20 [4:22:41<24:39:28, 5221.66s/it]"
     ]
    },
    {
     "name": "stdout",
     "output_type": "stream",
     "text": [
      "Training until validation scores don't improve for 100 rounds\n",
      "[100]\ttr's binary_logloss: 0.300801\tvl's binary_logloss: 0.302943\n",
      "[200]\ttr's binary_logloss: 0.297311\tvl's binary_logloss: 0.301066\n",
      "[300]\ttr's binary_logloss: 0.295279\tvl's binary_logloss: 0.300421\n",
      "[400]\ttr's binary_logloss: 0.293405\tvl's binary_logloss: 0.299902\n",
      "[500]\ttr's binary_logloss: 0.291649\tvl's binary_logloss: 0.299497\n",
      "[600]\ttr's binary_logloss: 0.290162\tvl's binary_logloss: 0.299253\n",
      "[700]\ttr's binary_logloss: 0.288963\tvl's binary_logloss: 0.299132\n",
      "[800]\ttr's binary_logloss: 0.287769\tvl's binary_logloss: 0.299077\n",
      "[900]\ttr's binary_logloss: 0.286539\tvl's binary_logloss: 0.298935\n",
      "[1000]\ttr's binary_logloss: 0.285345\tvl's binary_logloss: 0.298855\n",
      "[1100]\ttr's binary_logloss: 0.284245\tvl's binary_logloss: 0.298722\n",
      "[1200]\ttr's binary_logloss: 0.283104\tvl's binary_logloss: 0.2986\n",
      "[1300]\ttr's binary_logloss: 0.282039\tvl's binary_logloss: 0.298465\n",
      "[1400]\ttr's binary_logloss: 0.280937\tvl's binary_logloss: 0.298388\n",
      "[1500]\ttr's binary_logloss: 0.280018\tvl's binary_logloss: 0.298318\n",
      "[1600]\ttr's binary_logloss: 0.279096\tvl's binary_logloss: 0.298292\n",
      "[1700]\ttr's binary_logloss: 0.278144\tvl's binary_logloss: 0.298261\n",
      "[1800]\ttr's binary_logloss: 0.277248\tvl's binary_logloss: 0.298227\n",
      "[1900]\ttr's binary_logloss: 0.27628\tvl's binary_logloss: 0.298177\n",
      "[2000]\ttr's binary_logloss: 0.275253\tvl's binary_logloss: 0.29812\n",
      "[2100]\ttr's binary_logloss: 0.274381\tvl's binary_logloss: 0.298103\n",
      "[2200]\ttr's binary_logloss: 0.273579\tvl's binary_logloss: 0.298098\n",
      "[2300]\ttr's binary_logloss: 0.272631\tvl's binary_logloss: 0.298058\n",
      "[2400]\ttr's binary_logloss: 0.271706\tvl's binary_logloss: 0.298018\n",
      "Early stopping, best iteration is:\n",
      "[2381]\ttr's binary_logloss: 0.27184\tvl's binary_logloss: 0.298013\n"
     ]
    },
    {
     "name": "stderr",
     "output_type": "stream",
     "text": [
      "tune_num_leaves, val_score: 0.298013:  20%|##        | 4/20 [5:51:22<23:20:20, 5251.30s/it]"
     ]
    },
    {
     "name": "stdout",
     "output_type": "stream",
     "text": [
      "Training until validation scores don't improve for 100 rounds\n",
      "[100]\ttr's binary_logloss: 0.30525\tvl's binary_logloss: 0.306013\n",
      "[200]\ttr's binary_logloss: 0.302287\tvl's binary_logloss: 0.30374\n",
      "[300]\ttr's binary_logloss: 0.300716\tvl's binary_logloss: 0.302814\n",
      "[400]\ttr's binary_logloss: 0.299567\tvl's binary_logloss: 0.302236\n",
      "[500]\ttr's binary_logloss: 0.298523\tvl's binary_logloss: 0.301691\n",
      "[600]\ttr's binary_logloss: 0.297648\tvl's binary_logloss: 0.301288\n",
      "[700]\ttr's binary_logloss: 0.296889\tvl's binary_logloss: 0.301027\n",
      "[800]\ttr's binary_logloss: 0.296113\tvl's binary_logloss: 0.300767\n",
      "[900]\ttr's binary_logloss: 0.295411\tvl's binary_logloss: 0.300515\n",
      "[1000]\ttr's binary_logloss: 0.294816\tvl's binary_logloss: 0.300369\n",
      "[1100]\ttr's binary_logloss: 0.294182\tvl's binary_logloss: 0.300208\n",
      "[1200]\ttr's binary_logloss: 0.293617\tvl's binary_logloss: 0.300085\n",
      "[1300]\ttr's binary_logloss: 0.293086\tvl's binary_logloss: 0.299963\n",
      "[1400]\ttr's binary_logloss: 0.292577\tvl's binary_logloss: 0.299881\n",
      "[1500]\ttr's binary_logloss: 0.292022\tvl's binary_logloss: 0.299756\n",
      "[1600]\ttr's binary_logloss: 0.291534\tvl's binary_logloss: 0.299654\n",
      "[1700]\ttr's binary_logloss: 0.291027\tvl's binary_logloss: 0.299548\n",
      "[1800]\ttr's binary_logloss: 0.290588\tvl's binary_logloss: 0.299491\n",
      "[1900]\ttr's binary_logloss: 0.290154\tvl's binary_logloss: 0.299418\n",
      "[2000]\ttr's binary_logloss: 0.289721\tvl's binary_logloss: 0.299341\n",
      "[2100]\ttr's binary_logloss: 0.289246\tvl's binary_logloss: 0.299236\n",
      "[2200]\ttr's binary_logloss: 0.288829\tvl's binary_logloss: 0.299191\n",
      "[2300]\ttr's binary_logloss: 0.288425\tvl's binary_logloss: 0.299151\n",
      "[2400]\ttr's binary_logloss: 0.287999\tvl's binary_logloss: 0.299081\n",
      "[2500]\ttr's binary_logloss: 0.287571\tvl's binary_logloss: 0.29902\n",
      "[2600]\ttr's binary_logloss: 0.287139\tvl's binary_logloss: 0.298936\n",
      "[2700]\ttr's binary_logloss: 0.286745\tvl's binary_logloss: 0.298871\n",
      "[2800]\ttr's binary_logloss: 0.286369\tvl's binary_logloss: 0.29885\n",
      "[2900]\ttr's binary_logloss: 0.285986\tvl's binary_logloss: 0.298836\n",
      "[3000]\ttr's binary_logloss: 0.285577\tvl's binary_logloss: 0.298801\n",
      "[3100]\ttr's binary_logloss: 0.285185\tvl's binary_logloss: 0.298757\n",
      "[3200]\ttr's binary_logloss: 0.28479\tvl's binary_logloss: 0.298716\n",
      "[3300]\ttr's binary_logloss: 0.284386\tvl's binary_logloss: 0.298669\n",
      "[3400]\ttr's binary_logloss: 0.284048\tvl's binary_logloss: 0.298652\n",
      "[3500]\ttr's binary_logloss: 0.283663\tvl's binary_logloss: 0.298614\n",
      "[3600]\ttr's binary_logloss: 0.283318\tvl's binary_logloss: 0.298593\n",
      "[3700]\ttr's binary_logloss: 0.28296\tvl's binary_logloss: 0.298558\n",
      "[3800]\ttr's binary_logloss: 0.282616\tvl's binary_logloss: 0.298533\n",
      "[3900]\ttr's binary_logloss: 0.282267\tvl's binary_logloss: 0.298519\n",
      "[4000]\ttr's binary_logloss: 0.28192\tvl's binary_logloss: 0.298514\n",
      "[4100]\ttr's binary_logloss: 0.28159\tvl's binary_logloss: 0.298503\n",
      "[4200]\ttr's binary_logloss: 0.281247\tvl's binary_logloss: 0.29847\n",
      "[4300]\ttr's binary_logloss: 0.280923\tvl's binary_logloss: 0.298444\n",
      "[4400]\ttr's binary_logloss: 0.280587\tvl's binary_logloss: 0.298433\n",
      "[4500]\ttr's binary_logloss: 0.280274\tvl's binary_logloss: 0.298432\n",
      "Early stopping, best iteration is:\n",
      "[4411]\ttr's binary_logloss: 0.280542\tvl's binary_logloss: 0.298426\n"
     ]
    },
    {
     "name": "stderr",
     "output_type": "stream",
     "text": [
      "tune_num_leaves, val_score: 0.298013:  25%|##5       | 5/20 [7:38:12<23:19:43, 5598.93s/it]"
     ]
    },
    {
     "name": "stdout",
     "output_type": "stream",
     "text": [
      "Training until validation scores don't improve for 100 rounds\n",
      "[100]\ttr's binary_logloss: 0.298939\tvl's binary_logloss: 0.301911\n",
      "[200]\ttr's binary_logloss: 0.294898\tvl's binary_logloss: 0.300167\n",
      "[300]\ttr's binary_logloss: 0.292522\tvl's binary_logloss: 0.29967\n",
      "[400]\ttr's binary_logloss: 0.290377\tvl's binary_logloss: 0.299378\n",
      "[500]\ttr's binary_logloss: 0.288334\tvl's binary_logloss: 0.299098\n",
      "[600]\ttr's binary_logloss: 0.286686\tvl's binary_logloss: 0.298952\n",
      "[700]\ttr's binary_logloss: 0.284899\tvl's binary_logloss: 0.29882\n",
      "[800]\ttr's binary_logloss: 0.283407\tvl's binary_logloss: 0.298777\n",
      "[900]\ttr's binary_logloss: 0.281999\tvl's binary_logloss: 0.298727\n",
      "[1000]\ttr's binary_logloss: 0.2805\tvl's binary_logloss: 0.298576\n",
      "[1100]\ttr's binary_logloss: 0.27907\tvl's binary_logloss: 0.298528\n",
      "Early stopping, best iteration is:\n",
      "[1058]\ttr's binary_logloss: 0.279565\tvl's binary_logloss: 0.298507\n"
     ]
    },
    {
     "name": "stderr",
     "output_type": "stream",
     "text": [
      "tune_num_leaves, val_score: 0.298013:  30%|###       | 6/20 [8:29:16<18:48:59, 4838.54s/it]"
     ]
    },
    {
     "name": "stdout",
     "output_type": "stream",
     "text": [
      "Training until validation scores don't improve for 100 rounds\n",
      "[100]\ttr's binary_logloss: 0.299421\tvl's binary_logloss: 0.302147\n",
      "[200]\ttr's binary_logloss: 0.295555\tvl's binary_logloss: 0.300324\n",
      "[300]\ttr's binary_logloss: 0.293175\tvl's binary_logloss: 0.299797\n",
      "[400]\ttr's binary_logloss: 0.291157\tvl's binary_logloss: 0.299434\n",
      "[500]\ttr's binary_logloss: 0.289359\tvl's binary_logloss: 0.299226\n",
      "[600]\ttr's binary_logloss: 0.287855\tvl's binary_logloss: 0.299131\n",
      "[700]\ttr's binary_logloss: 0.286352\tvl's binary_logloss: 0.299014\n",
      "[800]\ttr's binary_logloss: 0.284926\tvl's binary_logloss: 0.298979\n",
      "[900]\ttr's binary_logloss: 0.283368\tvl's binary_logloss: 0.298796\n",
      "[1000]\ttr's binary_logloss: 0.282008\tvl's binary_logloss: 0.298756\n",
      "[1100]\ttr's binary_logloss: 0.280782\tvl's binary_logloss: 0.298693\n",
      "[1200]\ttr's binary_logloss: 0.279532\tvl's binary_logloss: 0.298564\n",
      "[1300]\ttr's binary_logloss: 0.278297\tvl's binary_logloss: 0.298489\n",
      "[1400]\ttr's binary_logloss: 0.277022\tvl's binary_logloss: 0.298419\n",
      "[1500]\ttr's binary_logloss: 0.275788\tvl's binary_logloss: 0.298376\n",
      "[1600]\ttr's binary_logloss: 0.274462\tvl's binary_logloss: 0.298326\n",
      "[1700]\ttr's binary_logloss: 0.273313\tvl's binary_logloss: 0.298279\n",
      "[1800]\ttr's binary_logloss: 0.272255\tvl's binary_logloss: 0.298222\n",
      "[1900]\ttr's binary_logloss: 0.27112\tvl's binary_logloss: 0.298158\n",
      "Early stopping, best iteration is:\n",
      "[1896]\ttr's binary_logloss: 0.271162\tvl's binary_logloss: 0.298156\n"
     ]
    },
    {
     "name": "stderr",
     "output_type": "stream",
     "text": [
      "tune_num_leaves, val_score: 0.298013:  35%|###5      | 7/20 [9:33:14<16:23:19, 4538.40s/it]"
     ]
    },
    {
     "name": "stdout",
     "output_type": "stream",
     "text": [
      "Training until validation scores don't improve for 100 rounds\n",
      "[100]\ttr's binary_logloss: 0.302568\tvl's binary_logloss: 0.304073\n",
      "[200]\ttr's binary_logloss: 0.299266\tvl's binary_logloss: 0.301999\n",
      "[300]\ttr's binary_logloss: 0.2974\tvl's binary_logloss: 0.301181\n",
      "[400]\ttr's binary_logloss: 0.295837\tvl's binary_logloss: 0.300587\n",
      "[500]\ttr's binary_logloss: 0.294577\tvl's binary_logloss: 0.300261\n",
      "[600]\ttr's binary_logloss: 0.293435\tvl's binary_logloss: 0.30002\n",
      "[700]\ttr's binary_logloss: 0.292374\tvl's binary_logloss: 0.299813\n",
      "[800]\ttr's binary_logloss: 0.291369\tvl's binary_logloss: 0.299614\n",
      "[900]\ttr's binary_logloss: 0.290475\tvl's binary_logloss: 0.299464\n",
      "[1000]\ttr's binary_logloss: 0.289584\tvl's binary_logloss: 0.299363\n",
      "[1100]\ttr's binary_logloss: 0.288636\tvl's binary_logloss: 0.299224\n",
      "[1200]\ttr's binary_logloss: 0.287776\tvl's binary_logloss: 0.299128\n",
      "[1300]\ttr's binary_logloss: 0.287013\tvl's binary_logloss: 0.299069\n",
      "[1400]\ttr's binary_logloss: 0.286192\tvl's binary_logloss: 0.298997\n",
      "[1500]\ttr's binary_logloss: 0.28546\tvl's binary_logloss: 0.298926\n",
      "[1600]\ttr's binary_logloss: 0.284626\tvl's binary_logloss: 0.298857\n",
      "[1700]\ttr's binary_logloss: 0.283888\tvl's binary_logloss: 0.298805\n",
      "[1800]\ttr's binary_logloss: 0.283097\tvl's binary_logloss: 0.298697\n",
      "[1900]\ttr's binary_logloss: 0.282352\tvl's binary_logloss: 0.298619\n",
      "[2000]\ttr's binary_logloss: 0.281638\tvl's binary_logloss: 0.298603\n",
      "[2100]\ttr's binary_logloss: 0.28094\tvl's binary_logloss: 0.298565\n",
      "[2200]\ttr's binary_logloss: 0.28028\tvl's binary_logloss: 0.298523\n",
      "[2300]\ttr's binary_logloss: 0.279612\tvl's binary_logloss: 0.298473\n",
      "[2400]\ttr's binary_logloss: 0.278925\tvl's binary_logloss: 0.298427\n",
      "[2500]\ttr's binary_logloss: 0.278236\tvl's binary_logloss: 0.298373\n",
      "[2600]\ttr's binary_logloss: 0.277559\tvl's binary_logloss: 0.298333\n",
      "[2700]\ttr's binary_logloss: 0.276899\tvl's binary_logloss: 0.298302\n",
      "[2800]\ttr's binary_logloss: 0.276248\tvl's binary_logloss: 0.2983\n",
      "[2900]\ttr's binary_logloss: 0.275602\tvl's binary_logloss: 0.298265\n",
      "[3000]\ttr's binary_logloss: 0.274987\tvl's binary_logloss: 0.298241\n",
      "[3100]\ttr's binary_logloss: 0.274335\tvl's binary_logloss: 0.298233\n",
      "[3200]\ttr's binary_logloss: 0.273741\tvl's binary_logloss: 0.298215\n",
      "[3300]\ttr's binary_logloss: 0.273142\tvl's binary_logloss: 0.298184\n",
      "Early stopping, best iteration is:\n",
      "[3270]\ttr's binary_logloss: 0.273296\tvl's binary_logloss: 0.298171\n"
     ]
    },
    {
     "name": "stderr",
     "output_type": "stream",
     "text": [
      "tune_num_leaves, val_score: 0.298013:  40%|####      | 8/20 [11:09:28<16:21:50, 4909.19s/it]"
     ]
    },
    {
     "name": "stdout",
     "output_type": "stream",
     "text": [
      "Training until validation scores don't improve for 100 rounds\n",
      "[100]\ttr's binary_logloss: 0.301968\tvl's binary_logloss: 0.303599\n",
      "[200]\ttr's binary_logloss: 0.29852\tvl's binary_logloss: 0.301497\n",
      "[300]\ttr's binary_logloss: 0.296744\tvl's binary_logloss: 0.300806\n",
      "[400]\ttr's binary_logloss: 0.295228\tvl's binary_logloss: 0.300303\n",
      "[500]\ttr's binary_logloss: 0.293892\tvl's binary_logloss: 0.299991\n",
      "[600]\ttr's binary_logloss: 0.292619\tvl's binary_logloss: 0.299696\n",
      "[700]\ttr's binary_logloss: 0.2914\tvl's binary_logloss: 0.299507\n",
      "[800]\ttr's binary_logloss: 0.290271\tvl's binary_logloss: 0.299365\n",
      "[900]\ttr's binary_logloss: 0.289238\tvl's binary_logloss: 0.299209\n",
      "[1000]\ttr's binary_logloss: 0.28822\tvl's binary_logloss: 0.299093\n",
      "[1100]\ttr's binary_logloss: 0.287283\tvl's binary_logloss: 0.298955\n",
      "[1200]\ttr's binary_logloss: 0.286413\tvl's binary_logloss: 0.298841\n",
      "[1300]\ttr's binary_logloss: 0.285521\tvl's binary_logloss: 0.298735\n",
      "[1400]\ttr's binary_logloss: 0.284644\tvl's binary_logloss: 0.298677\n",
      "[1500]\ttr's binary_logloss: 0.283803\tvl's binary_logloss: 0.298597\n",
      "[1600]\ttr's binary_logloss: 0.282935\tvl's binary_logloss: 0.298524\n",
      "[1700]\ttr's binary_logloss: 0.282123\tvl's binary_logloss: 0.298496\n",
      "[1800]\ttr's binary_logloss: 0.281193\tvl's binary_logloss: 0.298376\n",
      "[1900]\ttr's binary_logloss: 0.280426\tvl's binary_logloss: 0.29832\n",
      "[2000]\ttr's binary_logloss: 0.279605\tvl's binary_logloss: 0.29826\n",
      "[2100]\ttr's binary_logloss: 0.278827\tvl's binary_logloss: 0.298206\n",
      "[2200]\ttr's binary_logloss: 0.27802\tvl's binary_logloss: 0.298159\n",
      "[2300]\ttr's binary_logloss: 0.277374\tvl's binary_logloss: 0.298148\n",
      "[2400]\ttr's binary_logloss: 0.276609\tvl's binary_logloss: 0.298098\n",
      "[2500]\ttr's binary_logloss: 0.275899\tvl's binary_logloss: 0.298063\n",
      "[2600]\ttr's binary_logloss: 0.275251\tvl's binary_logloss: 0.298053\n",
      "[2700]\ttr's binary_logloss: 0.274597\tvl's binary_logloss: 0.298032\n",
      "Early stopping, best iteration is:\n",
      "[2692]\ttr's binary_logloss: 0.274645\tvl's binary_logloss: 0.298029\n"
     ]
    },
    {
     "name": "stderr",
     "output_type": "stream",
     "text": [
      "tune_num_leaves, val_score: 0.298013:  45%|####5     | 9/20 [12:22:18<14:30:18, 4747.14s/it]"
     ]
    },
    {
     "name": "stdout",
     "output_type": "stream",
     "text": [
      "Training until validation scores don't improve for 100 rounds\n",
      "[100]\ttr's binary_logloss: 0.300383\tvl's binary_logloss: 0.302639\n",
      "[200]\ttr's binary_logloss: 0.296697\tvl's binary_logloss: 0.300706\n",
      "[300]\ttr's binary_logloss: 0.294611\tvl's binary_logloss: 0.300206\n",
      "[400]\ttr's binary_logloss: 0.292851\tvl's binary_logloss: 0.299864\n",
      "[500]\ttr's binary_logloss: 0.291245\tvl's binary_logloss: 0.299577\n",
      "[600]\ttr's binary_logloss: 0.289754\tvl's binary_logloss: 0.299304\n",
      "[700]\ttr's binary_logloss: 0.288161\tvl's binary_logloss: 0.299113\n",
      "[800]\ttr's binary_logloss: 0.286863\tvl's binary_logloss: 0.299005\n",
      "[900]\ttr's binary_logloss: 0.285524\tvl's binary_logloss: 0.298881\n",
      "[1000]\ttr's binary_logloss: 0.284482\tvl's binary_logloss: 0.29885\n",
      "[1100]\ttr's binary_logloss: 0.283196\tvl's binary_logloss: 0.298693\n",
      "[1200]\ttr's binary_logloss: 0.28183\tvl's binary_logloss: 0.298588\n",
      "[1300]\ttr's binary_logloss: 0.280703\tvl's binary_logloss: 0.298482\n",
      "[1400]\ttr's binary_logloss: 0.279705\tvl's binary_logloss: 0.298457\n",
      "[1500]\ttr's binary_logloss: 0.278617\tvl's binary_logloss: 0.298419\n",
      "[1600]\ttr's binary_logloss: 0.277488\tvl's binary_logloss: 0.298335\n",
      "[1700]\ttr's binary_logloss: 0.276476\tvl's binary_logloss: 0.298287\n",
      "[1800]\ttr's binary_logloss: 0.275355\tvl's binary_logloss: 0.298216\n",
      "[1900]\ttr's binary_logloss: 0.274417\tvl's binary_logloss: 0.298175\n",
      "[2000]\ttr's binary_logloss: 0.273522\tvl's binary_logloss: 0.298164\n",
      "Early stopping, best iteration is:\n",
      "[1956]\ttr's binary_logloss: 0.273908\tvl's binary_logloss: 0.298152\n"
     ]
    },
    {
     "name": "stderr",
     "output_type": "stream",
     "text": [
      "tune_num_leaves, val_score: 0.298013:  50%|#####     | 10/20 [13:28:48<12:33:22, 4520.27s/it]"
     ]
    },
    {
     "name": "stdout",
     "output_type": "stream",
     "text": [
      "Training until validation scores don't improve for 100 rounds\n",
      "[100]\ttr's binary_logloss: 0.298202\tvl's binary_logloss: 0.301537\n",
      "[200]\ttr's binary_logloss: 0.293964\tvl's binary_logloss: 0.299803\n",
      "[300]\ttr's binary_logloss: 0.291467\tvl's binary_logloss: 0.299426\n",
      "[400]\ttr's binary_logloss: 0.289202\tvl's binary_logloss: 0.299094\n",
      "[500]\ttr's binary_logloss: 0.287259\tvl's binary_logloss: 0.298917\n",
      "[600]\ttr's binary_logloss: 0.285436\tvl's binary_logloss: 0.298738\n",
      "[700]\ttr's binary_logloss: 0.28369\tvl's binary_logloss: 0.298671\n",
      "[800]\ttr's binary_logloss: 0.281981\tvl's binary_logloss: 0.298597\n",
      "[900]\ttr's binary_logloss: 0.280217\tvl's binary_logloss: 0.298395\n",
      "[1000]\ttr's binary_logloss: 0.278704\tvl's binary_logloss: 0.298389\n",
      "[1100]\ttr's binary_logloss: 0.277151\tvl's binary_logloss: 0.298343\n",
      "[1200]\ttr's binary_logloss: 0.275345\tvl's binary_logloss: 0.298259\n",
      "[1300]\ttr's binary_logloss: 0.273907\tvl's binary_logloss: 0.298242\n",
      "[1400]\ttr's binary_logloss: 0.272548\tvl's binary_logloss: 0.298201\n",
      "[1500]\ttr's binary_logloss: 0.271005\tvl's binary_logloss: 0.298151\n",
      "[1600]\ttr's binary_logloss: 0.269485\tvl's binary_logloss: 0.29816\n",
      "Early stopping, best iteration is:\n",
      "[1520]\ttr's binary_logloss: 0.27063\tvl's binary_logloss: 0.298129\n"
     ]
    },
    {
     "name": "stderr",
     "output_type": "stream",
     "text": [
      "tune_num_leaves, val_score: 0.298013:  55%|#####5    | 11/20 [14:24:24<10:24:43, 4164.82s/it]"
     ]
    },
    {
     "name": "stdout",
     "output_type": "stream",
     "text": [
      "Training until validation scores don't improve for 100 rounds\n",
      "[100]\ttr's binary_logloss: 0.302797\tvl's binary_logloss: 0.304172\n",
      "[200]\ttr's binary_logloss: 0.299603\tvl's binary_logloss: 0.302129\n",
      "[300]\ttr's binary_logloss: 0.297973\tvl's binary_logloss: 0.301444\n",
      "[400]\ttr's binary_logloss: 0.29646\tvl's binary_logloss: 0.300871\n",
      "[500]\ttr's binary_logloss: 0.295186\tvl's binary_logloss: 0.300455\n",
      "[600]\ttr's binary_logloss: 0.294068\tvl's binary_logloss: 0.300184\n",
      "[700]\ttr's binary_logloss: 0.292992\tvl's binary_logloss: 0.299917\n",
      "[800]\ttr's binary_logloss: 0.291954\tvl's binary_logloss: 0.29972\n",
      "[900]\ttr's binary_logloss: 0.291004\tvl's binary_logloss: 0.299558\n",
      "[1000]\ttr's binary_logloss: 0.290113\tvl's binary_logloss: 0.29944\n",
      "[1100]\ttr's binary_logloss: 0.289294\tvl's binary_logloss: 0.299354\n",
      "[1200]\ttr's binary_logloss: 0.288444\tvl's binary_logloss: 0.299247\n",
      "[1300]\ttr's binary_logloss: 0.287568\tvl's binary_logloss: 0.299084\n",
      "[1400]\ttr's binary_logloss: 0.286691\tvl's binary_logloss: 0.298927\n",
      "[1500]\ttr's binary_logloss: 0.285928\tvl's binary_logloss: 0.29883\n",
      "[1600]\ttr's binary_logloss: 0.285269\tvl's binary_logloss: 0.298797\n",
      "[1700]\ttr's binary_logloss: 0.284584\tvl's binary_logloss: 0.298745\n",
      "[1800]\ttr's binary_logloss: 0.2839\tvl's binary_logloss: 0.298674\n",
      "[1900]\ttr's binary_logloss: 0.283212\tvl's binary_logloss: 0.298598\n",
      "[2000]\ttr's binary_logloss: 0.282524\tvl's binary_logloss: 0.298556\n",
      "[2100]\ttr's binary_logloss: 0.281922\tvl's binary_logloss: 0.29855\n",
      "[2200]\ttr's binary_logloss: 0.281344\tvl's binary_logloss: 0.298519\n",
      "[2300]\ttr's binary_logloss: 0.280683\tvl's binary_logloss: 0.298465\n",
      "[2400]\ttr's binary_logloss: 0.280009\tvl's binary_logloss: 0.298411\n",
      "[2500]\ttr's binary_logloss: 0.279419\tvl's binary_logloss: 0.29837\n",
      "[2600]\ttr's binary_logloss: 0.278776\tvl's binary_logloss: 0.298327\n",
      "[2700]\ttr's binary_logloss: 0.278161\tvl's binary_logloss: 0.298298\n",
      "[2800]\ttr's binary_logloss: 0.277587\tvl's binary_logloss: 0.298268\n",
      "[2900]\ttr's binary_logloss: 0.277016\tvl's binary_logloss: 0.298262\n",
      "Early stopping, best iteration is:\n",
      "[2820]\ttr's binary_logloss: 0.277443\tvl's binary_logloss: 0.298247\n"
     ]
    },
    {
     "name": "stderr",
     "output_type": "stream",
     "text": [
      "tune_num_leaves, val_score: 0.298013:  60%|######    | 12/20 [15:45:53<9:44:15, 4381.98s/it] "
     ]
    },
    {
     "name": "stdout",
     "output_type": "stream",
     "text": [
      "Training until validation scores don't improve for 100 rounds\n",
      "[100]\ttr's binary_logloss: 0.302152\tvl's binary_logloss: 0.303764\n",
      "[200]\ttr's binary_logloss: 0.298729\tvl's binary_logloss: 0.301625\n",
      "[300]\ttr's binary_logloss: 0.296906\tvl's binary_logloss: 0.300997\n",
      "[400]\ttr's binary_logloss: 0.295263\tvl's binary_logloss: 0.300429\n",
      "[500]\ttr's binary_logloss: 0.293998\tvl's binary_logloss: 0.300136\n",
      "[600]\ttr's binary_logloss: 0.292732\tvl's binary_logloss: 0.299851\n",
      "[700]\ttr's binary_logloss: 0.291575\tvl's binary_logloss: 0.299654\n",
      "[800]\ttr's binary_logloss: 0.290564\tvl's binary_logloss: 0.299533\n",
      "[900]\ttr's binary_logloss: 0.289574\tvl's binary_logloss: 0.299371\n",
      "[1000]\ttr's binary_logloss: 0.28858\tvl's binary_logloss: 0.299265\n",
      "[1100]\ttr's binary_logloss: 0.287651\tvl's binary_logloss: 0.299156\n",
      "[1200]\ttr's binary_logloss: 0.286732\tvl's binary_logloss: 0.299037\n",
      "[1300]\ttr's binary_logloss: 0.285861\tvl's binary_logloss: 0.298927\n",
      "[1400]\ttr's binary_logloss: 0.28503\tvl's binary_logloss: 0.29885\n",
      "[1500]\ttr's binary_logloss: 0.284226\tvl's binary_logloss: 0.298779\n",
      "[1600]\ttr's binary_logloss: 0.283446\tvl's binary_logloss: 0.298683\n",
      "[1700]\ttr's binary_logloss: 0.282678\tvl's binary_logloss: 0.298635\n",
      "[1800]\ttr's binary_logloss: 0.28194\tvl's binary_logloss: 0.298583\n",
      "[1900]\ttr's binary_logloss: 0.281117\tvl's binary_logloss: 0.298496\n",
      "[2000]\ttr's binary_logloss: 0.280369\tvl's binary_logloss: 0.298455\n",
      "[2100]\ttr's binary_logloss: 0.279574\tvl's binary_logloss: 0.298403\n",
      "[2200]\ttr's binary_logloss: 0.278862\tvl's binary_logloss: 0.29838\n",
      "[2300]\ttr's binary_logloss: 0.278107\tvl's binary_logloss: 0.298337\n",
      "[2400]\ttr's binary_logloss: 0.277317\tvl's binary_logloss: 0.298268\n",
      "[2500]\ttr's binary_logloss: 0.276651\tvl's binary_logloss: 0.29826\n",
      "[2600]\ttr's binary_logloss: 0.275951\tvl's binary_logloss: 0.298193\n",
      "[2700]\ttr's binary_logloss: 0.275284\tvl's binary_logloss: 0.298143\n",
      "[2800]\ttr's binary_logloss: 0.274636\tvl's binary_logloss: 0.298141\n",
      "[2900]\ttr's binary_logloss: 0.274025\tvl's binary_logloss: 0.29814\n",
      "Early stopping, best iteration is:\n",
      "[2825]\ttr's binary_logloss: 0.274459\tvl's binary_logloss: 0.29813\n"
     ]
    },
    {
     "name": "stderr",
     "output_type": "stream",
     "text": [
      "tune_num_leaves, val_score: 0.298013:  65%|######5   | 13/20 [17:18:19<9:11:59, 4731.29s/it]"
     ]
    },
    {
     "name": "stdout",
     "output_type": "stream",
     "text": [
      "Training until validation scores don't improve for 100 rounds\n",
      "[100]\ttr's binary_logloss: 0.300634\tvl's binary_logloss: 0.302824\n",
      "[200]\ttr's binary_logloss: 0.296926\tvl's binary_logloss: 0.300897\n",
      "[300]\ttr's binary_logloss: 0.294927\tvl's binary_logloss: 0.300349\n",
      "[400]\ttr's binary_logloss: 0.293176\tvl's binary_logloss: 0.299948\n",
      "[500]\ttr's binary_logloss: 0.291501\tvl's binary_logloss: 0.299625\n",
      "[600]\ttr's binary_logloss: 0.289945\tvl's binary_logloss: 0.299405\n",
      "[700]\ttr's binary_logloss: 0.288552\tvl's binary_logloss: 0.299278\n",
      "[800]\ttr's binary_logloss: 0.287225\tvl's binary_logloss: 0.299131\n",
      "[900]\ttr's binary_logloss: 0.285888\tvl's binary_logloss: 0.298892\n",
      "[1000]\ttr's binary_logloss: 0.284698\tvl's binary_logloss: 0.298835\n",
      "[1100]\ttr's binary_logloss: 0.283505\tvl's binary_logloss: 0.298736\n",
      "[1200]\ttr's binary_logloss: 0.282375\tvl's binary_logloss: 0.298626\n",
      "[1300]\ttr's binary_logloss: 0.2813\tvl's binary_logloss: 0.298591\n",
      "[1400]\ttr's binary_logloss: 0.280268\tvl's binary_logloss: 0.298533\n",
      "[1500]\ttr's binary_logloss: 0.279281\tvl's binary_logloss: 0.298424\n",
      "[1600]\ttr's binary_logloss: 0.278227\tvl's binary_logloss: 0.298384\n",
      "[1700]\ttr's binary_logloss: 0.277329\tvl's binary_logloss: 0.298384\n",
      "[1800]\ttr's binary_logloss: 0.276416\tvl's binary_logloss: 0.298317\n",
      "[1900]\ttr's binary_logloss: 0.275479\tvl's binary_logloss: 0.298276\n",
      "[2000]\ttr's binary_logloss: 0.274598\tvl's binary_logloss: 0.298244\n",
      "[2100]\ttr's binary_logloss: 0.273652\tvl's binary_logloss: 0.298177\n",
      "[2200]\ttr's binary_logloss: 0.272675\tvl's binary_logloss: 0.298183\n",
      "[2300]\ttr's binary_logloss: 0.271699\tvl's binary_logloss: 0.298121\n",
      "[2400]\ttr's binary_logloss: 0.270764\tvl's binary_logloss: 0.298093\n",
      "Early stopping, best iteration is:\n",
      "[2381]\ttr's binary_logloss: 0.270941\tvl's binary_logloss: 0.298085\n"
     ]
    },
    {
     "name": "stderr",
     "output_type": "stream",
     "text": [
      "tune_num_leaves, val_score: 0.298013:  70%|#######   | 14/20 [18:41:41<8:01:14, 4812.36s/it]"
     ]
    },
    {
     "name": "stdout",
     "output_type": "stream",
     "text": [
      "Training until validation scores don't improve for 100 rounds\n",
      "[100]\ttr's binary_logloss: 0.304948\tvl's binary_logloss: 0.305751\n",
      "[200]\ttr's binary_logloss: 0.302132\tvl's binary_logloss: 0.303657\n",
      "[300]\ttr's binary_logloss: 0.300581\tvl's binary_logloss: 0.302751\n",
      "[400]\ttr's binary_logloss: 0.299408\tvl's binary_logloss: 0.302143\n",
      "[500]\ttr's binary_logloss: 0.29839\tvl's binary_logloss: 0.301669\n",
      "[600]\ttr's binary_logloss: 0.297503\tvl's binary_logloss: 0.301307\n",
      "[700]\ttr's binary_logloss: 0.296663\tvl's binary_logloss: 0.30103\n",
      "[800]\ttr's binary_logloss: 0.295818\tvl's binary_logloss: 0.300711\n",
      "[900]\ttr's binary_logloss: 0.295076\tvl's binary_logloss: 0.300459\n",
      "[1000]\ttr's binary_logloss: 0.294445\tvl's binary_logloss: 0.300314\n",
      "[1100]\ttr's binary_logloss: 0.293836\tvl's binary_logloss: 0.300179\n",
      "[1200]\ttr's binary_logloss: 0.293261\tvl's binary_logloss: 0.300055\n",
      "[1300]\ttr's binary_logloss: 0.292705\tvl's binary_logloss: 0.299923\n",
      "[1400]\ttr's binary_logloss: 0.292194\tvl's binary_logloss: 0.299826\n",
      "[1500]\ttr's binary_logloss: 0.2916\tvl's binary_logloss: 0.299645\n",
      "[1600]\ttr's binary_logloss: 0.291083\tvl's binary_logloss: 0.299551\n",
      "[1700]\ttr's binary_logloss: 0.290583\tvl's binary_logloss: 0.29947\n",
      "[1800]\ttr's binary_logloss: 0.290027\tvl's binary_logloss: 0.299332\n",
      "[1900]\ttr's binary_logloss: 0.289565\tvl's binary_logloss: 0.299263\n",
      "[2000]\ttr's binary_logloss: 0.289095\tvl's binary_logloss: 0.299194\n",
      "[2100]\ttr's binary_logloss: 0.288611\tvl's binary_logloss: 0.2991\n",
      "[2200]\ttr's binary_logloss: 0.288158\tvl's binary_logloss: 0.299056\n",
      "[2300]\ttr's binary_logloss: 0.287686\tvl's binary_logloss: 0.298969\n",
      "[2400]\ttr's binary_logloss: 0.28722\tvl's binary_logloss: 0.298877\n",
      "[2500]\ttr's binary_logloss: 0.286818\tvl's binary_logloss: 0.29885\n",
      "[2600]\ttr's binary_logloss: 0.286385\tvl's binary_logloss: 0.298817\n",
      "[2700]\ttr's binary_logloss: 0.285937\tvl's binary_logloss: 0.298753\n",
      "[2800]\ttr's binary_logloss: 0.285526\tvl's binary_logloss: 0.29872\n",
      "[2900]\ttr's binary_logloss: 0.285128\tvl's binary_logloss: 0.298694\n",
      "[3000]\ttr's binary_logloss: 0.284754\tvl's binary_logloss: 0.298674\n",
      "[3100]\ttr's binary_logloss: 0.284358\tvl's binary_logloss: 0.298635\n",
      "[3200]\ttr's binary_logloss: 0.283947\tvl's binary_logloss: 0.298584\n",
      "[3300]\ttr's binary_logloss: 0.283542\tvl's binary_logloss: 0.298537\n",
      "[3400]\ttr's binary_logloss: 0.283159\tvl's binary_logloss: 0.298521\n",
      "[3500]\ttr's binary_logloss: 0.282761\tvl's binary_logloss: 0.298478\n",
      "[3600]\ttr's binary_logloss: 0.282398\tvl's binary_logloss: 0.298473\n",
      "[3700]\ttr's binary_logloss: 0.281992\tvl's binary_logloss: 0.298444\n",
      "[3800]\ttr's binary_logloss: 0.281615\tvl's binary_logloss: 0.298413\n",
      "[3900]\ttr's binary_logloss: 0.281251\tvl's binary_logloss: 0.2984\n",
      "[4000]\ttr's binary_logloss: 0.280869\tvl's binary_logloss: 0.298369\n",
      "[4100]\ttr's binary_logloss: 0.280488\tvl's binary_logloss: 0.29834\n",
      "[4200]\ttr's binary_logloss: 0.280121\tvl's binary_logloss: 0.298328\n",
      "[4300]\ttr's binary_logloss: 0.27977\tvl's binary_logloss: 0.298306\n",
      "[4400]\ttr's binary_logloss: 0.279391\tvl's binary_logloss: 0.298294\n",
      "[4500]\ttr's binary_logloss: 0.279037\tvl's binary_logloss: 0.29827\n",
      "[4600]\ttr's binary_logloss: 0.278653\tvl's binary_logloss: 0.298226\n",
      "[4700]\ttr's binary_logloss: 0.278293\tvl's binary_logloss: 0.298201\n",
      "[4800]\ttr's binary_logloss: 0.27796\tvl's binary_logloss: 0.298191\n",
      "[4900]\ttr's binary_logloss: 0.277626\tvl's binary_logloss: 0.298178\n",
      "[5000]\ttr's binary_logloss: 0.277302\tvl's binary_logloss: 0.298156\n",
      "[5100]\ttr's binary_logloss: 0.276967\tvl's binary_logloss: 0.29815\n",
      "[5200]\ttr's binary_logloss: 0.276646\tvl's binary_logloss: 0.298144\n",
      "[5300]\ttr's binary_logloss: 0.276311\tvl's binary_logloss: 0.298132\n",
      "[5400]\ttr's binary_logloss: 0.275999\tvl's binary_logloss: 0.298138\n",
      "Early stopping, best iteration is:\n",
      "[5327]\ttr's binary_logloss: 0.276217\tvl's binary_logloss: 0.298125\n"
     ]
    },
    {
     "name": "stderr",
     "output_type": "stream",
     "text": [
      "tune_num_leaves, val_score: 0.298013:  75%|#######5  | 15/20 [20:33:40<7:28:43, 5384.62s/it]"
     ]
    },
    {
     "name": "stdout",
     "output_type": "stream",
     "text": [
      "Training until validation scores don't improve for 100 rounds\n",
      "[100]\ttr's binary_logloss: 0.301799\tvl's binary_logloss: 0.303537\n",
      "[200]\ttr's binary_logloss: 0.298293\tvl's binary_logloss: 0.30139\n",
      "[300]\ttr's binary_logloss: 0.296475\tvl's binary_logloss: 0.300753\n",
      "[400]\ttr's binary_logloss: 0.294689\tvl's binary_logloss: 0.300182\n",
      "[500]\ttr's binary_logloss: 0.293268\tvl's binary_logloss: 0.299858\n",
      "[600]\ttr's binary_logloss: 0.291936\tvl's binary_logloss: 0.299586\n",
      "[700]\ttr's binary_logloss: 0.290793\tvl's binary_logloss: 0.299418\n",
      "[800]\ttr's binary_logloss: 0.289677\tvl's binary_logloss: 0.299279\n",
      "[900]\ttr's binary_logloss: 0.2886\tvl's binary_logloss: 0.2991\n",
      "[1000]\ttr's binary_logloss: 0.287577\tvl's binary_logloss: 0.298985\n",
      "[1100]\ttr's binary_logloss: 0.286669\tvl's binary_logloss: 0.298899\n",
      "[1200]\ttr's binary_logloss: 0.285767\tvl's binary_logloss: 0.298786\n",
      "[1300]\ttr's binary_logloss: 0.28485\tvl's binary_logloss: 0.298708\n",
      "[1400]\ttr's binary_logloss: 0.283887\tvl's binary_logloss: 0.298607\n",
      "[1500]\ttr's binary_logloss: 0.282974\tvl's binary_logloss: 0.298534\n",
      "[1600]\ttr's binary_logloss: 0.282095\tvl's binary_logloss: 0.298477\n",
      "[1700]\ttr's binary_logloss: 0.281291\tvl's binary_logloss: 0.298449\n",
      "[1800]\ttr's binary_logloss: 0.280461\tvl's binary_logloss: 0.298367\n",
      "[1900]\ttr's binary_logloss: 0.279706\tvl's binary_logloss: 0.298337\n",
      "[2000]\ttr's binary_logloss: 0.278966\tvl's binary_logloss: 0.29833\n",
      "[2100]\ttr's binary_logloss: 0.278179\tvl's binary_logloss: 0.298285\n",
      "[2200]\ttr's binary_logloss: 0.27745\tvl's binary_logloss: 0.298266\n",
      "[2300]\ttr's binary_logloss: 0.276761\tvl's binary_logloss: 0.298255\n",
      "[2400]\ttr's binary_logloss: 0.275998\tvl's binary_logloss: 0.298213\n",
      "Early stopping, best iteration is:\n",
      "[2373]\ttr's binary_logloss: 0.276183\tvl's binary_logloss: 0.298208\n"
     ]
    },
    {
     "name": "stderr",
     "output_type": "stream",
     "text": [
      "tune_num_leaves, val_score: 0.298013:  80%|########  | 16/20 [21:45:49<5:37:51, 5067.81s/it]"
     ]
    },
    {
     "name": "stdout",
     "output_type": "stream",
     "text": [
      "Training until validation scores don't improve for 100 rounds\n",
      "[100]\ttr's binary_logloss: 0.29966\tvl's binary_logloss: 0.302272\n",
      "[200]\ttr's binary_logloss: 0.295852\tvl's binary_logloss: 0.300452\n",
      "[300]\ttr's binary_logloss: 0.293655\tvl's binary_logloss: 0.299956\n",
      "[400]\ttr's binary_logloss: 0.291754\tvl's binary_logloss: 0.299682\n",
      "[500]\ttr's binary_logloss: 0.28992\tvl's binary_logloss: 0.299354\n",
      "[600]\ttr's binary_logloss: 0.288185\tvl's binary_logloss: 0.299063\n",
      "[700]\ttr's binary_logloss: 0.286706\tvl's binary_logloss: 0.298949\n",
      "[800]\ttr's binary_logloss: 0.285178\tvl's binary_logloss: 0.298777\n",
      "[900]\ttr's binary_logloss: 0.28371\tvl's binary_logloss: 0.298648\n",
      "[1000]\ttr's binary_logloss: 0.282212\tvl's binary_logloss: 0.298578\n",
      "[1100]\ttr's binary_logloss: 0.281113\tvl's binary_logloss: 0.298509\n",
      "[1200]\ttr's binary_logloss: 0.279931\tvl's binary_logloss: 0.298477\n",
      "[1300]\ttr's binary_logloss: 0.278778\tvl's binary_logloss: 0.298424\n",
      "[1400]\ttr's binary_logloss: 0.27769\tvl's binary_logloss: 0.298414\n",
      "Early stopping, best iteration is:\n",
      "[1356]\ttr's binary_logloss: 0.278174\tvl's binary_logloss: 0.298396\n"
     ]
    },
    {
     "name": "stderr",
     "output_type": "stream",
     "text": [
      "tune_num_leaves, val_score: 0.298013:  85%|########5 | 17/20 [22:41:53<3:47:50, 4556.78s/it]"
     ]
    },
    {
     "name": "stdout",
     "output_type": "stream",
     "text": [
      "Training until validation scores don't improve for 100 rounds\n",
      "[100]\ttr's binary_logloss: 0.303506\tvl's binary_logloss: 0.304675\n",
      "[200]\ttr's binary_logloss: 0.300287\tvl's binary_logloss: 0.302486\n",
      "[300]\ttr's binary_logloss: 0.298596\tvl's binary_logloss: 0.301638\n"
     ]
    }
   ],
   "source": [
    "%%time\n",
    "dtr = lgb.Dataset(dftr[cols_feat], label=dftr[TCOL])\n",
    "dvl = lgb.Dataset(dfvl[cols_feat], label=dfvl[TCOL])\n",
    "best_params, tuning_history = {}, []\n",
    "evalres = {}\n",
    "evallist = [(dtr, 'train'), (dvl, 'eval')]\n",
    "bst = lgb.train(params=params, \n",
    "                train_set=dtr, \n",
    "                num_boost_round=50000,\n",
    "                valid_sets=[dtr, dvl],\n",
    "                valid_names=['tr','vl'],\n",
    "                best_params=best_params,\n",
    "                tuning_history=tuning_history,\n",
    "                verbose_eval=100,\n",
    "                early_stopping_rounds=100,\n",
    "                evals_result=evalres,\n",
    "               )\n",
    "results['bst'] = bst\n",
    "results['evalres'] = evalres\n",
    "results['best_params']=best_params\n",
    "results['tuning_history']=tuning_history"
   ]
  },
  {
   "cell_type": "markdown",
   "metadata": {},
   "source": [
    "## best_params"
   ]
  },
  {
   "cell_type": "code",
   "execution_count": null,
   "metadata": {},
   "outputs": [],
   "source": [
    "best_params"
   ]
  },
  {
   "cell_type": "markdown",
   "metadata": {},
   "source": [
    "## tr vl trajec"
   ]
  },
  {
   "cell_type": "code",
   "execution_count": null,
   "metadata": {},
   "outputs": [],
   "source": [
    "plt.plot(evalres['tr']['binary_logloss'])\n",
    "plt.plot(evalres['vl']['binary_logloss'])\n",
    "plt.title(f\"logloss; best_iteration {bst.best_iteration}\")\n",
    "plt.show()"
   ]
  },
  {
   "cell_type": "markdown",
   "metadata": {},
   "source": [
    "## model features"
   ]
  },
  {
   "cell_type": "code",
   "execution_count": 39,
   "metadata": {},
   "outputs": [
    {
     "data": {
      "image/png": "[encoded data removed]",
      "text/plain": [
       "<Figure size 720x1080 with 1 Axes>"
      ]
     },
     "metadata": {
      "needs_background": "light"
     },
     "output_type": "display_data"
    }
   ],
   "source": [
    "ax = lgb.plot_importance(bst, height=0.8, max_num_features=50, figsize=(10,15))\n",
    "ax.grid(False, axis=\"y\")\n",
    "ax.set_title(f'Estimated feature importance')\n",
    "plt.show()"
   ]
  },
  {
   "cell_type": "code",
   "execution_count": 40,
   "metadata": {},
   "outputs": [
    {
     "data": {
      "text/html": [
       "<div>\n",
       "<style scoped>\n",
       "    .dataframe tbody tr th:only-of-type {\n",
       "        vertical-align: middle;\n",
       "    }\n",
       "\n",
       "    .dataframe tbody tr th {\n",
       "        vertical-align: top;\n",
       "    }\n",
       "\n",
       "    .dataframe thead th {\n",
       "        text-align: right;\n",
       "    }\n",
       "</style>\n",
       "<table border=\"1\" class=\"dataframe\">\n",
       "  <thead>\n",
       "    <tr style=\"text-align: right;\">\n",
       "      <th></th>\n",
       "      <th>0</th>\n",
       "      <th>1</th>\n",
       "    </tr>\n",
       "  </thead>\n",
       "  <tbody>\n",
       "    <tr>\n",
       "      <th>3</th>\n",
       "      <td>u1_fllwing_cnt</td>\n",
       "      <td>38247</td>\n",
       "    </tr>\n",
       "    <tr>\n",
       "      <th>29</th>\n",
       "      <td>u1_fllwer_cnt_by_age</td>\n",
       "      <td>36649</td>\n",
       "    </tr>\n",
       "    <tr>\n",
       "      <th>5</th>\n",
       "      <td>u2_fllwer_cnt</td>\n",
       "      <td>35678</td>\n",
       "    </tr>\n",
       "    <tr>\n",
       "      <th>2</th>\n",
       "      <td>u1_fllwer_cnt</td>\n",
       "      <td>34936</td>\n",
       "    </tr>\n",
       "    <tr>\n",
       "      <th>11</th>\n",
       "      <td>len_toks</td>\n",
       "      <td>34845</td>\n",
       "    </tr>\n",
       "    <tr>\n",
       "      <th>30</th>\n",
       "      <td>u1_fllwng_cnt_by_age</td>\n",
       "      <td>33511</td>\n",
       "    </tr>\n",
       "    <tr>\n",
       "      <th>6</th>\n",
       "      <td>u2_fllwng_cnt</td>\n",
       "      <td>33399</td>\n",
       "    </tr>\n",
       "    <tr>\n",
       "      <th>26</th>\n",
       "      <td>twt_age</td>\n",
       "      <td>32686</td>\n",
       "    </tr>\n",
       "    <tr>\n",
       "      <th>23</th>\n",
       "      <td>tmdlta_u2u1</td>\n",
       "      <td>31933</td>\n",
       "    </tr>\n",
       "    <tr>\n",
       "      <th>24</th>\n",
       "      <td>tmdlta_twtu1</td>\n",
       "      <td>31584</td>\n",
       "    </tr>\n",
       "    <tr>\n",
       "      <th>27</th>\n",
       "      <td>u1_age</td>\n",
       "      <td>29384</td>\n",
       "    </tr>\n",
       "    <tr>\n",
       "      <th>25</th>\n",
       "      <td>tmdlta_twtu2</td>\n",
       "      <td>28844</td>\n",
       "    </tr>\n",
       "    <tr>\n",
       "      <th>28</th>\n",
       "      <td>u2_age</td>\n",
       "      <td>28119</td>\n",
       "    </tr>\n",
       "    <tr>\n",
       "      <th>1</th>\n",
       "      <td>lang</td>\n",
       "      <td>15300</td>\n",
       "    </tr>\n",
       "    <tr>\n",
       "      <th>31</th>\n",
       "      <td>langhour</td>\n",
       "      <td>13457</td>\n",
       "    </tr>\n",
       "    <tr>\n",
       "      <th>22</th>\n",
       "      <td>hour</td>\n",
       "      <td>12085</td>\n",
       "    </tr>\n",
       "    <tr>\n",
       "      <th>21</th>\n",
       "      <td>dayofweek</td>\n",
       "      <td>7466</td>\n",
       "    </tr>\n",
       "    <tr>\n",
       "      <th>0</th>\n",
       "      <td>twttyp</td>\n",
       "      <td>7435</td>\n",
       "    </tr>\n",
       "    <tr>\n",
       "      <th>16</th>\n",
       "      <td>n_hshtgs</td>\n",
       "      <td>7081</td>\n",
       "    </tr>\n",
       "    <tr>\n",
       "      <th>12</th>\n",
       "      <td>n_media_Photo</td>\n",
       "      <td>4792</td>\n",
       "    </tr>\n",
       "    <tr>\n",
       "      <th>18</th>\n",
       "      <td>n_media</td>\n",
       "      <td>3790</td>\n",
       "    </tr>\n",
       "    <tr>\n",
       "      <th>20</th>\n",
       "      <td>n_domns</td>\n",
       "      <td>1764</td>\n",
       "    </tr>\n",
       "    <tr>\n",
       "      <th>15</th>\n",
       "      <td>has_hshtgs</td>\n",
       "      <td>1172</td>\n",
       "    </tr>\n",
       "    <tr>\n",
       "      <th>13</th>\n",
       "      <td>n_media_Video</td>\n",
       "      <td>1158</td>\n",
       "    </tr>\n",
       "    <tr>\n",
       "      <th>17</th>\n",
       "      <td>has_media</td>\n",
       "      <td>1101</td>\n",
       "    </tr>\n",
       "    <tr>\n",
       "      <th>19</th>\n",
       "      <td>has_domns</td>\n",
       "      <td>979</td>\n",
       "    </tr>\n",
       "    <tr>\n",
       "      <th>9</th>\n",
       "      <td>u1inu2</td>\n",
       "      <td>968</td>\n",
       "    </tr>\n",
       "    <tr>\n",
       "      <th>8</th>\n",
       "      <td>u1_fllw_u2</td>\n",
       "      <td>962</td>\n",
       "    </tr>\n",
       "    <tr>\n",
       "      <th>10</th>\n",
       "      <td>u2inu1</td>\n",
       "      <td>950</td>\n",
       "    </tr>\n",
       "    <tr>\n",
       "      <th>4</th>\n",
       "      <td>u1_vrfed</td>\n",
       "      <td>917</td>\n",
       "    </tr>\n",
       "    <tr>\n",
       "      <th>14</th>\n",
       "      <td>n_media_GIF</td>\n",
       "      <td>262</td>\n",
       "    </tr>\n",
       "    <tr>\n",
       "      <th>7</th>\n",
       "      <td>u2_vrfed</td>\n",
       "      <td>94</td>\n",
       "    </tr>\n",
       "  </tbody>\n",
       "</table>\n",
       "</div>"
      ],
      "text/plain": [
       "                       0      1\n",
       "3         u1_fllwing_cnt  38247\n",
       "29  u1_fllwer_cnt_by_age  36649\n",
       "5          u2_fllwer_cnt  35678\n",
       "2          u1_fllwer_cnt  34936\n",
       "11              len_toks  34845\n",
       "30  u1_fllwng_cnt_by_age  33511\n",
       "6          u2_fllwng_cnt  33399\n",
       "26               twt_age  32686\n",
       "23           tmdlta_u2u1  31933\n",
       "24          tmdlta_twtu1  31584\n",
       "27                u1_age  29384\n",
       "25          tmdlta_twtu2  28844\n",
       "28                u2_age  28119\n",
       "1                   lang  15300\n",
       "31              langhour  13457\n",
       "22                  hour  12085\n",
       "21             dayofweek   7466\n",
       "0                 twttyp   7435\n",
       "16              n_hshtgs   7081\n",
       "12         n_media_Photo   4792\n",
       "18               n_media   3790\n",
       "20               n_domns   1764\n",
       "15            has_hshtgs   1172\n",
       "13         n_media_Video   1158\n",
       "17             has_media   1101\n",
       "19             has_domns    979\n",
       "9                 u1inu2    968\n",
       "8             u1_fllw_u2    962\n",
       "10                u2inu1    950\n",
       "4               u1_vrfed    917\n",
       "14           n_media_GIF    262\n",
       "7               u2_vrfed     94"
      ]
     },
     "execution_count": 40,
     "metadata": {},
     "output_type": "execute_result"
    }
   ],
   "source": [
    "pd.DataFrame([bst.feature_name(), bst.feature_importance()]).T.sort_values(1, ascending=False)"
   ]
  },
  {
   "cell_type": "code",
   "execution_count": 41,
   "metadata": {},
   "outputs": [
    {
     "data": {
      "text/plain": [
       "[('u1_fllwing_cnt', 38247),\n",
       " ('u1_fllwer_cnt_by_age', 36649),\n",
       " ('u2_fllwer_cnt', 35678),\n",
       " ('u1_fllwer_cnt', 34936),\n",
       " ('len_toks', 34845),\n",
       " ('u1_fllwng_cnt_by_age', 33511),\n",
       " ('u2_fllwng_cnt', 33399),\n",
       " ('twt_age', 32686),\n",
       " ('tmdlta_u2u1', 31933),\n",
       " ('tmdlta_twtu1', 31584),\n",
       " ('u1_age', 29384),\n",
       " ('tmdlta_twtu2', 28844),\n",
       " ('u2_age', 28119),\n",
       " ('lang', 15300),\n",
       " ('langhour', 13457),\n",
       " ('hour', 12085),\n",
       " ('dayofweek', 7466),\n",
       " ('twttyp', 7435),\n",
       " ('n_hshtgs', 7081),\n",
       " ('n_media_Photo', 4792),\n",
       " ('n_media', 3790),\n",
       " ('n_domns', 1764),\n",
       " ('has_hshtgs', 1172),\n",
       " ('n_media_Video', 1158),\n",
       " ('has_media', 1101),\n",
       " ('has_domns', 979),\n",
       " ('u1inu2', 968),\n",
       " ('u1_fllw_u2', 962),\n",
       " ('u2inu1', 950),\n",
       " ('u1_vrfed', 917),\n",
       " ('n_media_GIF', 262),\n",
       " ('u2_vrfed', 94)]"
      ]
     },
     "execution_count": 41,
     "metadata": {},
     "output_type": "execute_result"
    }
   ],
   "source": [
    "col2imp = dict(zip(bst.feature_name(), bst.feature_importance()))\n",
    "sorted(col2imp.items(), key=lambda x: -x[1])"
   ]
  },
  {
   "cell_type": "code",
   "execution_count": 42,
   "metadata": {},
   "outputs": [
    {
     "data": {
      "text/plain": [
       "['u1_fllwing_cnt',\n",
       " 'u1_fllwer_cnt_by_age',\n",
       " 'u2_fllwer_cnt',\n",
       " 'u1_fllwer_cnt',\n",
       " 'len_toks',\n",
       " 'u1_fllwng_cnt_by_age',\n",
       " 'u2_fllwng_cnt',\n",
       " 'twt_age',\n",
       " 'tmdlta_u2u1',\n",
       " 'tmdlta_twtu1',\n",
       " 'u1_age',\n",
       " 'tmdlta_twtu2',\n",
       " 'u2_age',\n",
       " 'lang',\n",
       " 'langhour',\n",
       " 'hour',\n",
       " 'dayofweek',\n",
       " 'twttyp',\n",
       " 'n_hshtgs',\n",
       " 'n_media_Photo',\n",
       " 'n_media',\n",
       " 'n_domns',\n",
       " 'has_hshtgs',\n",
       " 'n_media_Video',\n",
       " 'has_media',\n",
       " 'has_domns',\n",
       " 'u1inu2',\n",
       " 'u1_fllw_u2',\n",
       " 'u2inu1',\n",
       " 'u1_vrfed',\n",
       " 'n_media_GIF',\n",
       " 'u2_vrfed']"
      ]
     },
     "execution_count": 42,
     "metadata": {},
     "output_type": "execute_result"
    }
   ],
   "source": [
    "[o[0] for o in sorted(col2imp.items(), key=lambda x: -x[1]) if o[1]>0]"
   ]
  },
  {
   "cell_type": "code",
   "execution_count": null,
   "metadata": {},
   "outputs": [],
   "source": []
  },
  {
   "cell_type": "markdown",
   "metadata": {},
   "source": [
    "# eval"
   ]
  },
  {
   "cell_type": "code",
   "execution_count": null,
   "metadata": {},
   "outputs": [],
   "source": [
    "%%time\n",
    "prdtr = bst.predict(dftr[cols_feat],num_iteration=bst.best_iteration)\n",
    "prdvl = bst.predict(dfvl[cols_feat],num_iteration=bst.best_iteration)\n",
    "prdval0 = bst.predict(dfval[cols_feat],num_iteration=bst.best_iteration)\n",
    "prdval = calibration(prdval0, train_pop, target_pop, sampled_train_pop, sampled_target_pop)"
   ]
  },
  {
   "cell_type": "code",
   "execution_count": null,
   "metadata": {},
   "outputs": [],
   "source": [
    "%%time\n",
    "ytr,yvl,yval=[df[TCOL].values for df in (dftr,dfvl,dfval)]\n",
    "\n",
    "auc_tr=compute_prauc(prdtr, ytr)\n",
    "rce_tr=compute_rce(prdtr, ytr)\n",
    "auc_vl=compute_prauc(prdvl, yvl)\n",
    "rce_vl=compute_rce(prdvl, yvl)\n",
    "auc_val=compute_prauc(prdval, yval)\n",
    "rce_val=compute_rce(prdval, yval)\n",
    "\n",
    "results['scrs'] = {}\n",
    "results['scrs']['auc_tr']=auc_tr\n",
    "results['scrs']['rce_tr']=rce_tr\n",
    "results['scrs']['auc_vl']=auc_vl\n",
    "results['scrs']['rce_vl']=rce_vl\n",
    "results['scrs']['auc_val']=auc_val\n",
    "results['scrs']['rce_val']=rce_val"
   ]
  },
  {
   "cell_type": "code",
   "execution_count": 37,
   "metadata": {},
   "outputs": [
    {
     "name": "stdout",
     "output_type": "stream",
     "text": [
      "auc_tr:  0.4747\n",
      "auc_vl:  0.3677\n",
      "auc_val: 0.3497\n",
      "\n",
      "rce_tr:  23.3252\n",
      "rce_vl:  15.8424\n",
      "rce_val: 14.4048\n"
     ]
    }
   ],
   "source": [
    "print(f'auc_tr:  {auc_tr:.4f}')\n",
    "print(f'auc_vl:  {auc_vl:.4f}')\n",
    "print(f'auc_val: {auc_val:.4f}')\n",
    "print()\n",
    "print(f'rce_tr:  {rce_tr:.4f}')\n",
    "print(f'rce_vl:  {rce_vl:.4f}')\n",
    "print(f'rce_val: {rce_val:.4f}')"
   ]
  },
  {
   "cell_type": "markdown",
   "metadata": {},
   "source": [
    "## score"
   ]
  },
  {
   "cell_type": "code",
   "execution_count": 38,
   "metadata": {},
   "outputs": [
    {
     "name": "stdout",
     "output_type": "stream",
     "text": [
      "-0.3497-14.4048\n"
     ]
    }
   ],
   "source": [
    "print(f'-{auc_val:.4f}-{rce_val:.4f}')"
   ]
  },
  {
   "cell_type": "markdown",
   "metadata": {},
   "source": [
    "# save results"
   ]
  },
  {
   "cell_type": "code",
   "execution_count": null,
   "metadata": {},
   "outputs": [],
   "source": [
    "pickle.dump(results, open(f'{p_out}/results_{PRFX}.p', 'wb'))"
   ]
  },
  {
   "cell_type": "markdown",
   "metadata": {},
   "source": [
    "# infer"
   ]
  },
  {
   "cell_type": "code",
   "execution_count": null,
   "metadata": {},
   "outputs": [],
   "source": [
    "results = pickle.load( open(f'{p_out}/results_{PRFX}.p', 'rb'))\n",
    "bst = results['bst']\n",
    "cols_feat = results['cols_feat']"
   ]
  },
  {
   "cell_type": "markdown",
   "metadata": {},
   "source": [
    "## prep"
   ]
  },
  {
   "cell_type": "code",
   "execution_count": null,
   "metadata": {},
   "outputs": [],
   "source": [
    "%%time\n",
    "dftst=pd.read_csv(\n",
    "    f'{p_in}/val_{tsttmstmp}.tsv',\n",
    "    sep='\\x01', header=None, names=cols_val, \n",
    "#     nrows=10\n",
    ")"
   ]
  },
  {
   "cell_type": "code",
   "execution_count": 43,
   "metadata": {},
   "outputs": [
    {
     "data": {
      "text/plain": [
       "(12434735, 34)"
      ]
     },
     "execution_count": 43,
     "metadata": {},
     "output_type": "execute_result"
    }
   ],
   "source": [
    "dftst.shape"
   ]
  },
  {
   "cell_type": "code",
   "execution_count": null,
   "metadata": {
    "scrolled": false
   },
   "outputs": [],
   "source": [
    "%%time\n",
    "dftst=prp_df(dftst, tm_max=tm_tst_max)"
   ]
  },
  {
   "cell_type": "code",
   "execution_count": null,
   "metadata": {},
   "outputs": [],
   "source": [
    "dftst.drop(columns=['u1id','u1u2'], inplace=True)\n",
    "cols_category=['twttyp', 'lang', 'langhour']\n",
    "dftst[cols_category]=dftst[cols_category].astype('category')"
   ]
  },
  {
   "cell_type": "markdown",
   "metadata": {},
   "source": [
    "## predict"
   ]
  },
  {
   "cell_type": "code",
   "execution_count": null,
   "metadata": {},
   "outputs": [],
   "source": [
    "%%time\n",
    "prdtst0 = bst.predict(dftst[cols_feat],num_iteration=bst.best_iteration)\n",
    "prdtst = calibration(prdtst0, train_pop, target_pop, sampled_train_pop, sampled_target_pop)"
   ]
  },
  {
   "cell_type": "code",
   "execution_count": null,
   "metadata": {},
   "outputs": [],
   "source": [
    "dfsub_ids = dftst[['twtid','u2id',]]\n",
    "dfsub = dfsub_ids.copy()\n",
    "dfsub['scr'] = prdtst\n",
    "dfsub.to_csv(f'{p_out}/{TGT}__{PRFX}.csv',index=False,header=False)"
   ]
  },
  {
   "cell_type": "code",
   "execution_count": null,
   "metadata": {},
   "outputs": [],
   "source": []
  },
  {
   "cell_type": "code",
   "execution_count": null,
   "metadata": {},
   "outputs": [],
   "source": []
  },
  {
   "cell_type": "code",
   "execution_count": null,
   "metadata": {},
   "outputs": [],
   "source": []
  },
  {
   "cell_type": "code",
   "execution_count": null,
   "metadata": {},
   "outputs": [],
   "source": []
  }
 ],
 "metadata": {
  "kernelspec": {
   "display_name": "rcss20",
   "language": "python",
   "name": "rcss20"
  },
  "language_info": {
   "codemirror_mode": {
    "name": "ipython",
    "version": 3
   },
   "file_extension": ".py",
   "mimetype": "text/x-python",
   "name": "python",
   "nbconvert_exporter": "python",
   "pygments_lexer": "ipython3",
   "version": "3.7.6"
  },
  "toc": {
   "base_numbering": 1,
   "nav_menu": {},
   "number_sections": true,
   "sideBar": true,
   "skip_h1_title": false,
   "title_cell": "Table of Contents",
   "title_sidebar": "Contents",
   "toc_cell": false,
   "toc_position": {},
   "toc_section_display": true,
   "toc_window_display": true
  }
 },
 "nbformat": 4,
 "nbformat_minor": 4
}
